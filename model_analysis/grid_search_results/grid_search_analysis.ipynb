{
 "cells": [
  {
   "cell_type": "code",
   "execution_count": 1,
   "metadata": {},
   "outputs": [],
   "source": [
    "import pandas as pd"
   ]
  },
  {
   "cell_type": "code",
   "execution_count": 2,
   "metadata": {},
   "outputs": [],
   "source": [
    "summary_df = pd.DataFrame(columns=[\"model\", 'params', 'mean_test_mse', 'std_test_mse', 'mean_test_mae', 'std_test_mae', 'mean_test_r2', 'std_test_r2'])"
   ]
  },
  {
   "cell_type": "code",
   "execution_count": 3,
   "metadata": {},
   "outputs": [
    {
     "output_type": "execute_result",
     "data": {
      "text/plain": "Empty DataFrame\nColumns: [model, params, mean_test_mse, std_test_mse, mean_test_mae, std_test_mae, mean_test_r2, std_test_r2]\nIndex: []",
      "text/html": "<div>\n<style scoped>\n    .dataframe tbody tr th:only-of-type {\n        vertical-align: middle;\n    }\n\n    .dataframe tbody tr th {\n        vertical-align: top;\n    }\n\n    .dataframe thead th {\n        text-align: right;\n    }\n</style>\n<table border=\"1\" class=\"dataframe\">\n  <thead>\n    <tr style=\"text-align: right;\">\n      <th></th>\n      <th>model</th>\n      <th>params</th>\n      <th>mean_test_mse</th>\n      <th>std_test_mse</th>\n      <th>mean_test_mae</th>\n      <th>std_test_mae</th>\n      <th>mean_test_r2</th>\n      <th>std_test_r2</th>\n    </tr>\n  </thead>\n  <tbody>\n  </tbody>\n</table>\n</div>"
     },
     "metadata": {},
     "execution_count": 3
    }
   ],
   "source": [
    "summary_df"
   ]
  },
  {
   "cell_type": "markdown",
   "metadata": {},
   "source": [
    "# Random Forest Regressor"
   ]
  },
  {
   "cell_type": "code",
   "execution_count": 4,
   "metadata": {},
   "outputs": [],
   "source": [
    "PATH = 'random_forest_grid_search_results.csv'"
   ]
  },
  {
   "cell_type": "code",
   "execution_count": 5,
   "metadata": {},
   "outputs": [],
   "source": [
    "grid_search_df = pd.read_csv(PATH)"
   ]
  },
  {
   "cell_type": "code",
   "execution_count": 6,
   "metadata": {},
   "outputs": [],
   "source": [
    "grid_search_df[\"model\"] = \"random_forest\"\n",
    "grid_search_df = grid_search_df[[\"model\", 'params', 'mean_test_mse', 'std_test_mse', 'mean_test_mae', 'std_test_mae', 'mean_test_r2', 'std_test_r2']]\n",
    "summary_df = summary_df.append(grid_search_df.sort_values('mean_test_mse', ascending=False).iloc[0], ignore_index=True)"
   ]
  },
  {
   "cell_type": "code",
   "execution_count": 7,
   "metadata": {},
   "outputs": [
    {
     "output_type": "execute_result",
     "data": {
      "text/plain": "            model                                       params  mean_test_mse  \\\n10  random_forest    {'criterion': 'mae', 'n_estimators': 500}      -0.023570   \n2   random_forest    {'criterion': 'mse', 'n_estimators': 500}      -0.024344   \n14  random_forest   {'criterion': 'mae', 'n_estimators': 5000}      -0.024431   \n13  random_forest   {'criterion': 'mae', 'n_estimators': 3000}      -0.024444   \n4   random_forest   {'criterion': 'mse', 'n_estimators': 2000}      -0.024487   \n12  random_forest   {'criterion': 'mae', 'n_estimators': 2000}      -0.024503   \n15  random_forest  {'criterion': 'mae', 'n_estimators': 10000}      -0.024546   \n7   random_forest  {'criterion': 'mse', 'n_estimators': 10000}      -0.024604   \n3   random_forest   {'criterion': 'mse', 'n_estimators': 1000}      -0.024662   \n5   random_forest   {'criterion': 'mse', 'n_estimators': 3000}      -0.024724   \n11  random_forest   {'criterion': 'mae', 'n_estimators': 1000}      -0.024815   \n6   random_forest   {'criterion': 'mse', 'n_estimators': 5000}      -0.024845   \n8   random_forest    {'criterion': 'mae', 'n_estimators': 100}      -0.024918   \n9   random_forest    {'criterion': 'mae', 'n_estimators': 200}      -0.025075   \n0   random_forest    {'criterion': 'mse', 'n_estimators': 100}      -0.025122   \n1   random_forest    {'criterion': 'mse', 'n_estimators': 200}      -0.025720   \n\n    std_test_mse  mean_test_mae  std_test_mae  mean_test_r2  std_test_r2  \n10      0.023579      -0.110440      0.048788     -0.637404     0.354007  \n2       0.023282      -0.113081      0.047570     -0.634102     0.327508  \n14      0.024065      -0.112872      0.049948     -0.624342     0.361328  \n13      0.024280      -0.112465      0.050801     -0.623916     0.365802  \n4       0.023875      -0.112749      0.049161     -0.632744     0.334356  \n12      0.024330      -0.112899      0.050596     -0.624975     0.360628  \n15      0.024438      -0.112958      0.049919     -0.622241     0.365686  \n7       0.023936      -0.113217      0.049529     -0.631305     0.335203  \n3       0.023956      -0.113279      0.049058     -0.633464     0.326744  \n5       0.023648      -0.113521      0.049004     -0.627589     0.337885  \n11      0.024854      -0.112648      0.050409     -0.621982     0.363413  \n6       0.024063      -0.113571      0.049266     -0.629498     0.331992  \n8       0.024096      -0.114729      0.051284     -0.617595     0.357652  \n9       0.025901      -0.114761      0.052510     -0.616090     0.376724  \n0       0.022555      -0.116231      0.045726     -0.625540     0.309071  \n1       0.025425      -0.115107      0.052162     -0.616845     0.353878  ",
      "text/html": "<div>\n<style scoped>\n    .dataframe tbody tr th:only-of-type {\n        vertical-align: middle;\n    }\n\n    .dataframe tbody tr th {\n        vertical-align: top;\n    }\n\n    .dataframe thead th {\n        text-align: right;\n    }\n</style>\n<table border=\"1\" class=\"dataframe\">\n  <thead>\n    <tr style=\"text-align: right;\">\n      <th></th>\n      <th>model</th>\n      <th>params</th>\n      <th>mean_test_mse</th>\n      <th>std_test_mse</th>\n      <th>mean_test_mae</th>\n      <th>std_test_mae</th>\n      <th>mean_test_r2</th>\n      <th>std_test_r2</th>\n    </tr>\n  </thead>\n  <tbody>\n    <tr>\n      <th>10</th>\n      <td>random_forest</td>\n      <td>{'criterion': 'mae', 'n_estimators': 500}</td>\n      <td>-0.023570</td>\n      <td>0.023579</td>\n      <td>-0.110440</td>\n      <td>0.048788</td>\n      <td>-0.637404</td>\n      <td>0.354007</td>\n    </tr>\n    <tr>\n      <th>2</th>\n      <td>random_forest</td>\n      <td>{'criterion': 'mse', 'n_estimators': 500}</td>\n      <td>-0.024344</td>\n      <td>0.023282</td>\n      <td>-0.113081</td>\n      <td>0.047570</td>\n      <td>-0.634102</td>\n      <td>0.327508</td>\n    </tr>\n    <tr>\n      <th>14</th>\n      <td>random_forest</td>\n      <td>{'criterion': 'mae', 'n_estimators': 5000}</td>\n      <td>-0.024431</td>\n      <td>0.024065</td>\n      <td>-0.112872</td>\n      <td>0.049948</td>\n      <td>-0.624342</td>\n      <td>0.361328</td>\n    </tr>\n    <tr>\n      <th>13</th>\n      <td>random_forest</td>\n      <td>{'criterion': 'mae', 'n_estimators': 3000}</td>\n      <td>-0.024444</td>\n      <td>0.024280</td>\n      <td>-0.112465</td>\n      <td>0.050801</td>\n      <td>-0.623916</td>\n      <td>0.365802</td>\n    </tr>\n    <tr>\n      <th>4</th>\n      <td>random_forest</td>\n      <td>{'criterion': 'mse', 'n_estimators': 2000}</td>\n      <td>-0.024487</td>\n      <td>0.023875</td>\n      <td>-0.112749</td>\n      <td>0.049161</td>\n      <td>-0.632744</td>\n      <td>0.334356</td>\n    </tr>\n    <tr>\n      <th>12</th>\n      <td>random_forest</td>\n      <td>{'criterion': 'mae', 'n_estimators': 2000}</td>\n      <td>-0.024503</td>\n      <td>0.024330</td>\n      <td>-0.112899</td>\n      <td>0.050596</td>\n      <td>-0.624975</td>\n      <td>0.360628</td>\n    </tr>\n    <tr>\n      <th>15</th>\n      <td>random_forest</td>\n      <td>{'criterion': 'mae', 'n_estimators': 10000}</td>\n      <td>-0.024546</td>\n      <td>0.024438</td>\n      <td>-0.112958</td>\n      <td>0.049919</td>\n      <td>-0.622241</td>\n      <td>0.365686</td>\n    </tr>\n    <tr>\n      <th>7</th>\n      <td>random_forest</td>\n      <td>{'criterion': 'mse', 'n_estimators': 10000}</td>\n      <td>-0.024604</td>\n      <td>0.023936</td>\n      <td>-0.113217</td>\n      <td>0.049529</td>\n      <td>-0.631305</td>\n      <td>0.335203</td>\n    </tr>\n    <tr>\n      <th>3</th>\n      <td>random_forest</td>\n      <td>{'criterion': 'mse', 'n_estimators': 1000}</td>\n      <td>-0.024662</td>\n      <td>0.023956</td>\n      <td>-0.113279</td>\n      <td>0.049058</td>\n      <td>-0.633464</td>\n      <td>0.326744</td>\n    </tr>\n    <tr>\n      <th>5</th>\n      <td>random_forest</td>\n      <td>{'criterion': 'mse', 'n_estimators': 3000}</td>\n      <td>-0.024724</td>\n      <td>0.023648</td>\n      <td>-0.113521</td>\n      <td>0.049004</td>\n      <td>-0.627589</td>\n      <td>0.337885</td>\n    </tr>\n    <tr>\n      <th>11</th>\n      <td>random_forest</td>\n      <td>{'criterion': 'mae', 'n_estimators': 1000}</td>\n      <td>-0.024815</td>\n      <td>0.024854</td>\n      <td>-0.112648</td>\n      <td>0.050409</td>\n      <td>-0.621982</td>\n      <td>0.363413</td>\n    </tr>\n    <tr>\n      <th>6</th>\n      <td>random_forest</td>\n      <td>{'criterion': 'mse', 'n_estimators': 5000}</td>\n      <td>-0.024845</td>\n      <td>0.024063</td>\n      <td>-0.113571</td>\n      <td>0.049266</td>\n      <td>-0.629498</td>\n      <td>0.331992</td>\n    </tr>\n    <tr>\n      <th>8</th>\n      <td>random_forest</td>\n      <td>{'criterion': 'mae', 'n_estimators': 100}</td>\n      <td>-0.024918</td>\n      <td>0.024096</td>\n      <td>-0.114729</td>\n      <td>0.051284</td>\n      <td>-0.617595</td>\n      <td>0.357652</td>\n    </tr>\n    <tr>\n      <th>9</th>\n      <td>random_forest</td>\n      <td>{'criterion': 'mae', 'n_estimators': 200}</td>\n      <td>-0.025075</td>\n      <td>0.025901</td>\n      <td>-0.114761</td>\n      <td>0.052510</td>\n      <td>-0.616090</td>\n      <td>0.376724</td>\n    </tr>\n    <tr>\n      <th>0</th>\n      <td>random_forest</td>\n      <td>{'criterion': 'mse', 'n_estimators': 100}</td>\n      <td>-0.025122</td>\n      <td>0.022555</td>\n      <td>-0.116231</td>\n      <td>0.045726</td>\n      <td>-0.625540</td>\n      <td>0.309071</td>\n    </tr>\n    <tr>\n      <th>1</th>\n      <td>random_forest</td>\n      <td>{'criterion': 'mse', 'n_estimators': 200}</td>\n      <td>-0.025720</td>\n      <td>0.025425</td>\n      <td>-0.115107</td>\n      <td>0.052162</td>\n      <td>-0.616845</td>\n      <td>0.353878</td>\n    </tr>\n  </tbody>\n</table>\n</div>"
     },
     "metadata": {},
     "execution_count": 7
    }
   ],
   "source": [
    "grid_search_df.sort_values('mean_test_mse', ascending=False)"
   ]
  },
  {
   "cell_type": "markdown",
   "metadata": {},
   "source": [
    "# Ada Boost Regressor"
   ]
  },
  {
   "cell_type": "code",
   "execution_count": 8,
   "metadata": {},
   "outputs": [],
   "source": [
    "PATH = 'ada_boost_grid_search_results.csv'\n",
    ""
   ]
  },
  {
   "cell_type": "code",
   "execution_count": 9,
   "metadata": {},
   "outputs": [],
   "source": [
    "grid_search_df = pd.read_csv(PATH)\n",
    "grid_search_df[\"model\"] = \"ada_boost\"\n",
    "grid_search_df = grid_search_df[[\"model\", 'params', 'mean_test_mse', 'std_test_mse', 'mean_test_mae', 'std_test_mae', 'mean_test_r2', 'std_test_r2']]\n",
    "summary_df = summary_df.append(grid_search_df.sort_values('mean_test_mse', ascending=False).iloc[0], ignore_index=True)"
   ]
  },
  {
   "cell_type": "code",
   "execution_count": 10,
   "metadata": {},
   "outputs": [
    {
     "output_type": "execute_result",
     "data": {
      "text/plain": "         model                                             params  \\\n384  ada_boost  {'learning_rate': 0.85, 'loss': 'linear', 'n_e...   \n464  ada_boost  {'learning_rate': 1.0, 'loss': 'square', 'n_es...   \n344  ada_boost  {'learning_rate': 0.75, 'loss': 'square', 'n_e...   \n400  ada_boost  {'learning_rate': 0.85, 'loss': 'exponential',...   \n441  ada_boost  {'learning_rate': 0.95, 'loss': 'square', 'n_e...   \n..         ...                                                ...   \n120  ada_boost  {'learning_rate': 0.3, 'loss': 'linear', 'n_es...   \n232  ada_boost  {'learning_rate': 0.5, 'loss': 'exponential', ...   \n121  ada_boost  {'learning_rate': 0.3, 'loss': 'linear', 'n_es...   \n225  ada_boost  {'learning_rate': 0.5, 'loss': 'square', 'n_es...   \n113  ada_boost  {'learning_rate': 0.25, 'loss': 'exponential',...   \n\n     mean_test_mse  std_test_mse  mean_test_mae  std_test_mae  mean_test_r2  \\\n384      -0.029858      0.019414      -0.120890      0.044253     -0.504439   \n464      -0.030577      0.025699      -0.122874      0.047769     -0.523467   \n344      -0.030674      0.025215      -0.127467      0.044068     -0.542819   \n400      -0.031003      0.021966      -0.126474      0.048315     -0.504362   \n441      -0.031434      0.022310      -0.129357      0.044365     -0.493948   \n..             ...           ...            ...           ...           ...   \n120      -0.037720      0.027249      -0.136771      0.058937     -0.391938   \n232      -0.037816      0.025964      -0.138160      0.055301     -0.383930   \n121      -0.037955      0.026012      -0.136847      0.053838     -0.367456   \n225      -0.038437      0.027338      -0.137488      0.057464     -0.351379   \n113      -0.038691      0.025888      -0.136143      0.055632     -0.355202   \n\n     std_test_r2  \n384     0.368539  \n464     0.367303  \n344     0.289556  \n400     0.371459  \n441     0.344054  \n..           ...  \n120     0.449611  \n232     0.438298  \n121     0.484216  \n225     0.543713  \n113     0.487022  \n\n[480 rows x 8 columns]",
      "text/html": "<div>\n<style scoped>\n    .dataframe tbody tr th:only-of-type {\n        vertical-align: middle;\n    }\n\n    .dataframe tbody tr th {\n        vertical-align: top;\n    }\n\n    .dataframe thead th {\n        text-align: right;\n    }\n</style>\n<table border=\"1\" class=\"dataframe\">\n  <thead>\n    <tr style=\"text-align: right;\">\n      <th></th>\n      <th>model</th>\n      <th>params</th>\n      <th>mean_test_mse</th>\n      <th>std_test_mse</th>\n      <th>mean_test_mae</th>\n      <th>std_test_mae</th>\n      <th>mean_test_r2</th>\n      <th>std_test_r2</th>\n    </tr>\n  </thead>\n  <tbody>\n    <tr>\n      <th>384</th>\n      <td>ada_boost</td>\n      <td>{'learning_rate': 0.85, 'loss': 'linear', 'n_e...</td>\n      <td>-0.029858</td>\n      <td>0.019414</td>\n      <td>-0.120890</td>\n      <td>0.044253</td>\n      <td>-0.504439</td>\n      <td>0.368539</td>\n    </tr>\n    <tr>\n      <th>464</th>\n      <td>ada_boost</td>\n      <td>{'learning_rate': 1.0, 'loss': 'square', 'n_es...</td>\n      <td>-0.030577</td>\n      <td>0.025699</td>\n      <td>-0.122874</td>\n      <td>0.047769</td>\n      <td>-0.523467</td>\n      <td>0.367303</td>\n    </tr>\n    <tr>\n      <th>344</th>\n      <td>ada_boost</td>\n      <td>{'learning_rate': 0.75, 'loss': 'square', 'n_e...</td>\n      <td>-0.030674</td>\n      <td>0.025215</td>\n      <td>-0.127467</td>\n      <td>0.044068</td>\n      <td>-0.542819</td>\n      <td>0.289556</td>\n    </tr>\n    <tr>\n      <th>400</th>\n      <td>ada_boost</td>\n      <td>{'learning_rate': 0.85, 'loss': 'exponential',...</td>\n      <td>-0.031003</td>\n      <td>0.021966</td>\n      <td>-0.126474</td>\n      <td>0.048315</td>\n      <td>-0.504362</td>\n      <td>0.371459</td>\n    </tr>\n    <tr>\n      <th>441</th>\n      <td>ada_boost</td>\n      <td>{'learning_rate': 0.95, 'loss': 'square', 'n_e...</td>\n      <td>-0.031434</td>\n      <td>0.022310</td>\n      <td>-0.129357</td>\n      <td>0.044365</td>\n      <td>-0.493948</td>\n      <td>0.344054</td>\n    </tr>\n    <tr>\n      <th>...</th>\n      <td>...</td>\n      <td>...</td>\n      <td>...</td>\n      <td>...</td>\n      <td>...</td>\n      <td>...</td>\n      <td>...</td>\n      <td>...</td>\n    </tr>\n    <tr>\n      <th>120</th>\n      <td>ada_boost</td>\n      <td>{'learning_rate': 0.3, 'loss': 'linear', 'n_es...</td>\n      <td>-0.037720</td>\n      <td>0.027249</td>\n      <td>-0.136771</td>\n      <td>0.058937</td>\n      <td>-0.391938</td>\n      <td>0.449611</td>\n    </tr>\n    <tr>\n      <th>232</th>\n      <td>ada_boost</td>\n      <td>{'learning_rate': 0.5, 'loss': 'exponential', ...</td>\n      <td>-0.037816</td>\n      <td>0.025964</td>\n      <td>-0.138160</td>\n      <td>0.055301</td>\n      <td>-0.383930</td>\n      <td>0.438298</td>\n    </tr>\n    <tr>\n      <th>121</th>\n      <td>ada_boost</td>\n      <td>{'learning_rate': 0.3, 'loss': 'linear', 'n_es...</td>\n      <td>-0.037955</td>\n      <td>0.026012</td>\n      <td>-0.136847</td>\n      <td>0.053838</td>\n      <td>-0.367456</td>\n      <td>0.484216</td>\n    </tr>\n    <tr>\n      <th>225</th>\n      <td>ada_boost</td>\n      <td>{'learning_rate': 0.5, 'loss': 'square', 'n_es...</td>\n      <td>-0.038437</td>\n      <td>0.027338</td>\n      <td>-0.137488</td>\n      <td>0.057464</td>\n      <td>-0.351379</td>\n      <td>0.543713</td>\n    </tr>\n    <tr>\n      <th>113</th>\n      <td>ada_boost</td>\n      <td>{'learning_rate': 0.25, 'loss': 'exponential',...</td>\n      <td>-0.038691</td>\n      <td>0.025888</td>\n      <td>-0.136143</td>\n      <td>0.055632</td>\n      <td>-0.355202</td>\n      <td>0.487022</td>\n    </tr>\n  </tbody>\n</table>\n<p>480 rows × 8 columns</p>\n</div>"
     },
     "metadata": {},
     "execution_count": 10
    }
   ],
   "source": [
    "grid_search_df.sort_values('mean_test_mse', ascending=False)"
   ]
  },
  {
   "cell_type": "code",
   "execution_count": 11,
   "metadata": {},
   "outputs": [
    {
     "output_type": "execute_result",
     "data": {
      "text/plain": "array([\"{'learning_rate': 0.85, 'loss': 'linear', 'n_estimators': 100}\",\n       \"{'learning_rate': 1.0, 'loss': 'square', 'n_estimators': 100}\",\n       \"{'learning_rate': 0.75, 'loss': 'square', 'n_estimators': 100}\",\n       \"{'learning_rate': 0.85, 'loss': 'exponential', 'n_estimators': 100}\",\n       \"{'learning_rate': 0.95, 'loss': 'square', 'n_estimators': 200}\",\n       \"{'learning_rate': 0.4, 'loss': 'square', 'n_estimators': 100}\",\n       \"{'learning_rate': 0.8, 'loss': 'square', 'n_estimators': 100}\",\n       \"{'learning_rate': 0.05, 'loss': 'linear', 'n_estimators': 200}\",\n       \"{'learning_rate': 0.9, 'loss': 'exponential', 'n_estimators': 200}\",\n       \"{'learning_rate': 0.6, 'loss': 'exponential', 'n_estimators': 100}\",\n       \"{'learning_rate': 0.75, 'loss': 'linear', 'n_estimators': 100}\",\n       \"{'learning_rate': 0.45, 'loss': 'square', 'n_estimators': 100}\",\n       \"{'learning_rate': 0.95, 'loss': 'square', 'n_estimators': 100}\",\n       \"{'learning_rate': 0.6, 'loss': 'square', 'n_estimators': 100}\",\n       \"{'learning_rate': 0.65, 'loss': 'linear', 'n_estimators': 200}\",\n       \"{'learning_rate': 0.65, 'loss': 'exponential', 'n_estimators': 200}\",\n       \"{'learning_rate': 0.9, 'loss': 'square', 'n_estimators': 1000}\",\n       \"{'learning_rate': 0.35, 'loss': 'exponential', 'n_estimators': 100}\",\n       \"{'learning_rate': 0.9, 'loss': 'exponential', 'n_estimators': 100}\",\n       \"{'learning_rate': 1.0, 'loss': 'linear', 'n_estimators': 200}\"],\n      dtype=object)"
     },
     "metadata": {},
     "execution_count": 11
    }
   ],
   "source": [
    "grid_search_df.sort_values('mean_test_mse', ascending=False).head(20).params.values"
   ]
  },
  {
   "cell_type": "markdown",
   "metadata": {},
   "source": [
    "# SVM Regressor"
   ]
  },
  {
   "cell_type": "code",
   "execution_count": 12,
   "metadata": {},
   "outputs": [],
   "source": [
    "PATH = 'svr_grid_search_results.csv'\n"
   ]
  },
  {
   "cell_type": "code",
   "execution_count": 13,
   "metadata": {},
   "outputs": [],
   "source": [
    "grid_search_df = pd.read_csv(PATH)\n",
    "grid_search_df[\"model\"] = \"svm\"\n",
    "grid_search_df = grid_search_df[[\"model\", 'params', 'mean_test_mse', 'std_test_mse', 'mean_test_mae', 'std_test_mae', 'mean_test_r2', 'std_test_r2']]\n",
    "summary_df = summary_df.append(grid_search_df.sort_values('mean_test_mse', ascending=False).iloc[0], ignore_index=True)"
   ]
  },
  {
   "cell_type": "code",
   "execution_count": 14,
   "metadata": {},
   "outputs": [
    {
     "output_type": "execute_result",
     "data": {
      "text/plain": "     model                                             params  mean_test_mse  \\\n3842   svm  {'C': 0.8, 'degree': 2, 'epsilon': 0.05, 'kern...      -0.036729   \n4162   svm  {'C': 0.8, 'degree': 7, 'epsilon': 0.05, 'kern...      -0.036729   \n3906   svm  {'C': 0.8, 'degree': 3, 'epsilon': 0.05, 'kern...      -0.036729   \n3970   svm  {'C': 0.8, 'degree': 4, 'epsilon': 0.05, 'kern...      -0.036729   \n4034   svm  {'C': 0.8, 'degree': 5, 'epsilon': 0.05, 'kern...      -0.036729   \n4098   svm  {'C': 0.8, 'degree': 6, 'epsilon': 0.05, 'kern...      -0.036729   \n4930   svm  {'C': 0.9, 'degree': 7, 'epsilon': 0.05, 'kern...      -0.036756   \n4866   svm  {'C': 0.9, 'degree': 6, 'epsilon': 0.05, 'kern...      -0.036756   \n4802   svm  {'C': 0.9, 'degree': 5, 'epsilon': 0.05, 'kern...      -0.036756   \n4674   svm  {'C': 0.9, 'degree': 3, 'epsilon': 0.05, 'kern...      -0.036756   \n4610   svm  {'C': 0.9, 'degree': 2, 'epsilon': 0.05, 'kern...      -0.036756   \n4738   svm  {'C': 0.9, 'degree': 4, 'epsilon': 0.05, 'kern...      -0.036756   \n4482   svm  {'C': 0.85, 'degree': 6, 'epsilon': 0.05, 'ker...      -0.036769   \n4290   svm  {'C': 0.85, 'degree': 3, 'epsilon': 0.05, 'ker...      -0.036769   \n4546   svm  {'C': 0.85, 'degree': 7, 'epsilon': 0.05, 'ker...      -0.036769   \n4226   svm  {'C': 0.85, 'degree': 2, 'epsilon': 0.05, 'ker...      -0.036769   \n4418   svm  {'C': 0.85, 'degree': 5, 'epsilon': 0.05, 'ker...      -0.036769   \n4354   svm  {'C': 0.85, 'degree': 4, 'epsilon': 0.05, 'ker...      -0.036769   \n3650   svm  {'C': 0.75, 'degree': 5, 'epsilon': 0.05, 'ker...      -0.036772   \n3522   svm  {'C': 0.75, 'degree': 3, 'epsilon': 0.05, 'ker...      -0.036772   \n\n      std_test_mse  mean_test_mae  std_test_mae  mean_test_r2  std_test_r2  \n3842      0.034001      -0.142503      0.058847     -0.579265     0.328329  \n4162      0.034001      -0.142503      0.058847     -0.579265     0.328329  \n3906      0.034001      -0.142503      0.058847     -0.579265     0.328329  \n3970      0.034001      -0.142503      0.058847     -0.579265     0.328329  \n4034      0.034001      -0.142503      0.058847     -0.579265     0.328329  \n4098      0.034001      -0.142503      0.058847     -0.579265     0.328329  \n4930      0.034079      -0.142286      0.059705     -0.578114     0.331177  \n4866      0.034079      -0.142286      0.059705     -0.578114     0.331177  \n4802      0.034079      -0.142286      0.059705     -0.578114     0.331177  \n4674      0.034079      -0.142286      0.059705     -0.578114     0.331177  \n4610      0.034079      -0.142286      0.059705     -0.578114     0.331177  \n4738      0.034079      -0.142286      0.059705     -0.578114     0.331177  \n4482      0.034120      -0.142514      0.059372     -0.578331     0.330760  \n4290      0.034120      -0.142514      0.059372     -0.578331     0.330760  \n4546      0.034120      -0.142514      0.059372     -0.578331     0.330760  \n4226      0.034120      -0.142514      0.059372     -0.578331     0.330760  \n4418      0.034120      -0.142514      0.059372     -0.578331     0.330760  \n4354      0.034120      -0.142514      0.059372     -0.578331     0.330760  \n3650      0.033659      -0.142893      0.057884     -0.579282     0.324910  \n3522      0.033659      -0.142893      0.057884     -0.579282     0.324910  ",
      "text/html": "<div>\n<style scoped>\n    .dataframe tbody tr th:only-of-type {\n        vertical-align: middle;\n    }\n\n    .dataframe tbody tr th {\n        vertical-align: top;\n    }\n\n    .dataframe thead th {\n        text-align: right;\n    }\n</style>\n<table border=\"1\" class=\"dataframe\">\n  <thead>\n    <tr style=\"text-align: right;\">\n      <th></th>\n      <th>model</th>\n      <th>params</th>\n      <th>mean_test_mse</th>\n      <th>std_test_mse</th>\n      <th>mean_test_mae</th>\n      <th>std_test_mae</th>\n      <th>mean_test_r2</th>\n      <th>std_test_r2</th>\n    </tr>\n  </thead>\n  <tbody>\n    <tr>\n      <th>3842</th>\n      <td>svm</td>\n      <td>{'C': 0.8, 'degree': 2, 'epsilon': 0.05, 'kern...</td>\n      <td>-0.036729</td>\n      <td>0.034001</td>\n      <td>-0.142503</td>\n      <td>0.058847</td>\n      <td>-0.579265</td>\n      <td>0.328329</td>\n    </tr>\n    <tr>\n      <th>4162</th>\n      <td>svm</td>\n      <td>{'C': 0.8, 'degree': 7, 'epsilon': 0.05, 'kern...</td>\n      <td>-0.036729</td>\n      <td>0.034001</td>\n      <td>-0.142503</td>\n      <td>0.058847</td>\n      <td>-0.579265</td>\n      <td>0.328329</td>\n    </tr>\n    <tr>\n      <th>3906</th>\n      <td>svm</td>\n      <td>{'C': 0.8, 'degree': 3, 'epsilon': 0.05, 'kern...</td>\n      <td>-0.036729</td>\n      <td>0.034001</td>\n      <td>-0.142503</td>\n      <td>0.058847</td>\n      <td>-0.579265</td>\n      <td>0.328329</td>\n    </tr>\n    <tr>\n      <th>3970</th>\n      <td>svm</td>\n      <td>{'C': 0.8, 'degree': 4, 'epsilon': 0.05, 'kern...</td>\n      <td>-0.036729</td>\n      <td>0.034001</td>\n      <td>-0.142503</td>\n      <td>0.058847</td>\n      <td>-0.579265</td>\n      <td>0.328329</td>\n    </tr>\n    <tr>\n      <th>4034</th>\n      <td>svm</td>\n      <td>{'C': 0.8, 'degree': 5, 'epsilon': 0.05, 'kern...</td>\n      <td>-0.036729</td>\n      <td>0.034001</td>\n      <td>-0.142503</td>\n      <td>0.058847</td>\n      <td>-0.579265</td>\n      <td>0.328329</td>\n    </tr>\n    <tr>\n      <th>4098</th>\n      <td>svm</td>\n      <td>{'C': 0.8, 'degree': 6, 'epsilon': 0.05, 'kern...</td>\n      <td>-0.036729</td>\n      <td>0.034001</td>\n      <td>-0.142503</td>\n      <td>0.058847</td>\n      <td>-0.579265</td>\n      <td>0.328329</td>\n    </tr>\n    <tr>\n      <th>4930</th>\n      <td>svm</td>\n      <td>{'C': 0.9, 'degree': 7, 'epsilon': 0.05, 'kern...</td>\n      <td>-0.036756</td>\n      <td>0.034079</td>\n      <td>-0.142286</td>\n      <td>0.059705</td>\n      <td>-0.578114</td>\n      <td>0.331177</td>\n    </tr>\n    <tr>\n      <th>4866</th>\n      <td>svm</td>\n      <td>{'C': 0.9, 'degree': 6, 'epsilon': 0.05, 'kern...</td>\n      <td>-0.036756</td>\n      <td>0.034079</td>\n      <td>-0.142286</td>\n      <td>0.059705</td>\n      <td>-0.578114</td>\n      <td>0.331177</td>\n    </tr>\n    <tr>\n      <th>4802</th>\n      <td>svm</td>\n      <td>{'C': 0.9, 'degree': 5, 'epsilon': 0.05, 'kern...</td>\n      <td>-0.036756</td>\n      <td>0.034079</td>\n      <td>-0.142286</td>\n      <td>0.059705</td>\n      <td>-0.578114</td>\n      <td>0.331177</td>\n    </tr>\n    <tr>\n      <th>4674</th>\n      <td>svm</td>\n      <td>{'C': 0.9, 'degree': 3, 'epsilon': 0.05, 'kern...</td>\n      <td>-0.036756</td>\n      <td>0.034079</td>\n      <td>-0.142286</td>\n      <td>0.059705</td>\n      <td>-0.578114</td>\n      <td>0.331177</td>\n    </tr>\n    <tr>\n      <th>4610</th>\n      <td>svm</td>\n      <td>{'C': 0.9, 'degree': 2, 'epsilon': 0.05, 'kern...</td>\n      <td>-0.036756</td>\n      <td>0.034079</td>\n      <td>-0.142286</td>\n      <td>0.059705</td>\n      <td>-0.578114</td>\n      <td>0.331177</td>\n    </tr>\n    <tr>\n      <th>4738</th>\n      <td>svm</td>\n      <td>{'C': 0.9, 'degree': 4, 'epsilon': 0.05, 'kern...</td>\n      <td>-0.036756</td>\n      <td>0.034079</td>\n      <td>-0.142286</td>\n      <td>0.059705</td>\n      <td>-0.578114</td>\n      <td>0.331177</td>\n    </tr>\n    <tr>\n      <th>4482</th>\n      <td>svm</td>\n      <td>{'C': 0.85, 'degree': 6, 'epsilon': 0.05, 'ker...</td>\n      <td>-0.036769</td>\n      <td>0.034120</td>\n      <td>-0.142514</td>\n      <td>0.059372</td>\n      <td>-0.578331</td>\n      <td>0.330760</td>\n    </tr>\n    <tr>\n      <th>4290</th>\n      <td>svm</td>\n      <td>{'C': 0.85, 'degree': 3, 'epsilon': 0.05, 'ker...</td>\n      <td>-0.036769</td>\n      <td>0.034120</td>\n      <td>-0.142514</td>\n      <td>0.059372</td>\n      <td>-0.578331</td>\n      <td>0.330760</td>\n    </tr>\n    <tr>\n      <th>4546</th>\n      <td>svm</td>\n      <td>{'C': 0.85, 'degree': 7, 'epsilon': 0.05, 'ker...</td>\n      <td>-0.036769</td>\n      <td>0.034120</td>\n      <td>-0.142514</td>\n      <td>0.059372</td>\n      <td>-0.578331</td>\n      <td>0.330760</td>\n    </tr>\n    <tr>\n      <th>4226</th>\n      <td>svm</td>\n      <td>{'C': 0.85, 'degree': 2, 'epsilon': 0.05, 'ker...</td>\n      <td>-0.036769</td>\n      <td>0.034120</td>\n      <td>-0.142514</td>\n      <td>0.059372</td>\n      <td>-0.578331</td>\n      <td>0.330760</td>\n    </tr>\n    <tr>\n      <th>4418</th>\n      <td>svm</td>\n      <td>{'C': 0.85, 'degree': 5, 'epsilon': 0.05, 'ker...</td>\n      <td>-0.036769</td>\n      <td>0.034120</td>\n      <td>-0.142514</td>\n      <td>0.059372</td>\n      <td>-0.578331</td>\n      <td>0.330760</td>\n    </tr>\n    <tr>\n      <th>4354</th>\n      <td>svm</td>\n      <td>{'C': 0.85, 'degree': 4, 'epsilon': 0.05, 'ker...</td>\n      <td>-0.036769</td>\n      <td>0.034120</td>\n      <td>-0.142514</td>\n      <td>0.059372</td>\n      <td>-0.578331</td>\n      <td>0.330760</td>\n    </tr>\n    <tr>\n      <th>3650</th>\n      <td>svm</td>\n      <td>{'C': 0.75, 'degree': 5, 'epsilon': 0.05, 'ker...</td>\n      <td>-0.036772</td>\n      <td>0.033659</td>\n      <td>-0.142893</td>\n      <td>0.057884</td>\n      <td>-0.579282</td>\n      <td>0.324910</td>\n    </tr>\n    <tr>\n      <th>3522</th>\n      <td>svm</td>\n      <td>{'C': 0.75, 'degree': 3, 'epsilon': 0.05, 'ker...</td>\n      <td>-0.036772</td>\n      <td>0.033659</td>\n      <td>-0.142893</td>\n      <td>0.057884</td>\n      <td>-0.579282</td>\n      <td>0.324910</td>\n    </tr>\n  </tbody>\n</table>\n</div>"
     },
     "metadata": {},
     "execution_count": 14
    }
   ],
   "source": [
    "grid_search_df.sort_values('mean_test_mse', ascending=False).head(20)"
   ]
  },
  {
   "cell_type": "code",
   "execution_count": 15,
   "metadata": {},
   "outputs": [
    {
     "output_type": "execute_result",
     "data": {
      "text/plain": "array([\"{'C': 0.8, 'degree': 2, 'epsilon': 0.05, 'kernel': 'rbf'}\",\n       \"{'C': 0.8, 'degree': 7, 'epsilon': 0.05, 'kernel': 'rbf'}\",\n       \"{'C': 0.8, 'degree': 3, 'epsilon': 0.05, 'kernel': 'rbf'}\",\n       \"{'C': 0.8, 'degree': 4, 'epsilon': 0.05, 'kernel': 'rbf'}\",\n       \"{'C': 0.8, 'degree': 5, 'epsilon': 0.05, 'kernel': 'rbf'}\",\n       \"{'C': 0.8, 'degree': 6, 'epsilon': 0.05, 'kernel': 'rbf'}\",\n       \"{'C': 0.9, 'degree': 7, 'epsilon': 0.05, 'kernel': 'rbf'}\",\n       \"{'C': 0.9, 'degree': 6, 'epsilon': 0.05, 'kernel': 'rbf'}\",\n       \"{'C': 0.9, 'degree': 5, 'epsilon': 0.05, 'kernel': 'rbf'}\",\n       \"{'C': 0.9, 'degree': 3, 'epsilon': 0.05, 'kernel': 'rbf'}\",\n       \"{'C': 0.9, 'degree': 2, 'epsilon': 0.05, 'kernel': 'rbf'}\",\n       \"{'C': 0.9, 'degree': 4, 'epsilon': 0.05, 'kernel': 'rbf'}\",\n       \"{'C': 0.85, 'degree': 6, 'epsilon': 0.05, 'kernel': 'rbf'}\",\n       \"{'C': 0.85, 'degree': 3, 'epsilon': 0.05, 'kernel': 'rbf'}\",\n       \"{'C': 0.85, 'degree': 7, 'epsilon': 0.05, 'kernel': 'rbf'}\",\n       \"{'C': 0.85, 'degree': 2, 'epsilon': 0.05, 'kernel': 'rbf'}\",\n       \"{'C': 0.85, 'degree': 5, 'epsilon': 0.05, 'kernel': 'rbf'}\",\n       \"{'C': 0.85, 'degree': 4, 'epsilon': 0.05, 'kernel': 'rbf'}\",\n       \"{'C': 0.75, 'degree': 5, 'epsilon': 0.05, 'kernel': 'rbf'}\",\n       \"{'C': 0.75, 'degree': 3, 'epsilon': 0.05, 'kernel': 'rbf'}\"],\n      dtype=object)"
     },
     "metadata": {},
     "execution_count": 15
    }
   ],
   "source": [
    "grid_search_df.sort_values('mean_test_mse', ascending=False)[\"params\"].head(20).values\n"
   ]
  },
  {
   "cell_type": "markdown",
   "metadata": {},
   "source": [
    "# KNN Regressor"
   ]
  },
  {
   "cell_type": "code",
   "execution_count": 16,
   "metadata": {},
   "outputs": [],
   "source": [
    "PATH = 'knn_grid_search_results.csv'\n"
   ]
  },
  {
   "cell_type": "code",
   "execution_count": 17,
   "metadata": {},
   "outputs": [],
   "source": [
    "grid_search_df = pd.read_csv(PATH)\n",
    "grid_search_df[\"model\"] = \"knn\"\n",
    "grid_search_df = grid_search_df[[\"model\", 'params', 'mean_test_mse', 'std_test_mse', 'mean_test_mae', 'std_test_mae', 'mean_test_r2', 'std_test_r2']]\n",
    "summary_df = summary_df.append(grid_search_df.sort_values('mean_test_mse', ascending=False).iloc[0], ignore_index=True)"
   ]
  },
  {
   "cell_type": "code",
   "execution_count": 18,
   "metadata": {},
   "outputs": [
    {
     "output_type": "execute_result",
     "data": {
      "text/plain": "   model                                             params  mean_test_mse  \\\n6    knn  {'metric': 'minkowski', 'n_neighbors': 7, 'p': 1}      -0.042408   \n4    knn  {'metric': 'minkowski', 'n_neighbors': 5, 'p': 1}      -0.047210   \n2    knn  {'metric': 'minkowski', 'n_neighbors': 3, 'p': 1}      -0.047521   \n8    knn  {'metric': 'minkowski', 'n_neighbors': 9, 'p': 1}      -0.049485   \n9    knn  {'metric': 'minkowski', 'n_neighbors': 9, 'p': 2}      -0.050816   \n10   knn  {'metric': 'minkowski', 'n_neighbors': 11, 'p'...      -0.050976   \n14   knn  {'metric': 'chebyshev', 'n_neighbors': 3, 'p': 1}      -0.052446   \n15   knn  {'metric': 'chebyshev', 'n_neighbors': 3, 'p': 2}      -0.052446   \n3    knn  {'metric': 'minkowski', 'n_neighbors': 3, 'p': 2}      -0.055119   \n11   knn  {'metric': 'minkowski', 'n_neighbors': 11, 'p'...      -0.055753   \n5    knn  {'metric': 'minkowski', 'n_neighbors': 5, 'p': 2}      -0.058240   \n7    knn  {'metric': 'minkowski', 'n_neighbors': 7, 'p': 2}      -0.058354   \n17   knn  {'metric': 'chebyshev', 'n_neighbors': 5, 'p': 2}      -0.058620   \n16   knn  {'metric': 'chebyshev', 'n_neighbors': 5, 'p': 1}      -0.058620   \n20   knn  {'metric': 'chebyshev', 'n_neighbors': 9, 'p': 1}      -0.059102   \n21   knn  {'metric': 'chebyshev', 'n_neighbors': 9, 'p': 2}      -0.059102   \n18   knn  {'metric': 'chebyshev', 'n_neighbors': 7, 'p': 1}      -0.062939   \n19   knn  {'metric': 'chebyshev', 'n_neighbors': 7, 'p': 2}      -0.062939   \n22   knn  {'metric': 'chebyshev', 'n_neighbors': 11, 'p'...      -0.065027   \n23   knn  {'metric': 'chebyshev', 'n_neighbors': 11, 'p'...      -0.065027   \n12   knn  {'metric': 'chebyshev', 'n_neighbors': 1, 'p': 1}      -0.072736   \n13   knn  {'metric': 'chebyshev', 'n_neighbors': 1, 'p': 2}      -0.072736   \n1    knn  {'metric': 'minkowski', 'n_neighbors': 1, 'p': 2}      -0.096382   \n0    knn  {'metric': 'minkowski', 'n_neighbors': 1, 'p': 1}      -0.114572   \n\n    std_test_mse  mean_test_mae  std_test_mae  mean_test_r2  std_test_r2  \n6       0.033753      -0.153458      0.052378     -0.561840     0.243121  \n4       0.034464      -0.155098      0.063534     -0.474957     0.383194  \n2       0.030919      -0.161573      0.057716     -0.405888     0.539613  \n8       0.042906      -0.164377      0.064667     -0.486270     0.323098  \n9       0.036624      -0.170096      0.053862     -0.454807     0.286482  \n10      0.040708      -0.165085      0.059372     -0.485523     0.282308  \n14      0.036312      -0.174857      0.062138     -0.404632     0.353912  \n15      0.036312      -0.174857      0.062138     -0.404632     0.353912  \n3       0.036181      -0.182176      0.066013     -0.322683     0.541795  \n11      0.039350      -0.176985      0.054313     -0.407580     0.292835  \n5       0.040258      -0.183582      0.069818     -0.314288     0.530442  \n7       0.040246      -0.186893      0.057524     -0.361158     0.333031  \n17      0.034410      -0.186296      0.055692     -0.298706     0.501972  \n16      0.034410      -0.186296      0.055692     -0.298706     0.501972  \n20      0.037837      -0.190362      0.051029     -0.346888     0.322215  \n21      0.037837      -0.190362      0.051029     -0.346888     0.322215  \n18      0.039279      -0.198179      0.051214     -0.286733     0.353580  \n19      0.039279      -0.198179      0.051214     -0.286733     0.353580  \n22      0.039861      -0.201726      0.056366     -0.286633     0.311695  \n23      0.039861      -0.201726      0.056366     -0.286633     0.311695  \n12      0.056338      -0.202550      0.076119     -0.175793     0.519525  \n13      0.056338      -0.202550      0.076119     -0.175793     0.519525  \n1       0.070094      -0.208417      0.076300      0.061376     0.727681  \n0       0.070819      -0.230241      0.087992      0.455171     1.180005  ",
      "text/html": "<div>\n<style scoped>\n    .dataframe tbody tr th:only-of-type {\n        vertical-align: middle;\n    }\n\n    .dataframe tbody tr th {\n        vertical-align: top;\n    }\n\n    .dataframe thead th {\n        text-align: right;\n    }\n</style>\n<table border=\"1\" class=\"dataframe\">\n  <thead>\n    <tr style=\"text-align: right;\">\n      <th></th>\n      <th>model</th>\n      <th>params</th>\n      <th>mean_test_mse</th>\n      <th>std_test_mse</th>\n      <th>mean_test_mae</th>\n      <th>std_test_mae</th>\n      <th>mean_test_r2</th>\n      <th>std_test_r2</th>\n    </tr>\n  </thead>\n  <tbody>\n    <tr>\n      <th>6</th>\n      <td>knn</td>\n      <td>{'metric': 'minkowski', 'n_neighbors': 7, 'p': 1}</td>\n      <td>-0.042408</td>\n      <td>0.033753</td>\n      <td>-0.153458</td>\n      <td>0.052378</td>\n      <td>-0.561840</td>\n      <td>0.243121</td>\n    </tr>\n    <tr>\n      <th>4</th>\n      <td>knn</td>\n      <td>{'metric': 'minkowski', 'n_neighbors': 5, 'p': 1}</td>\n      <td>-0.047210</td>\n      <td>0.034464</td>\n      <td>-0.155098</td>\n      <td>0.063534</td>\n      <td>-0.474957</td>\n      <td>0.383194</td>\n    </tr>\n    <tr>\n      <th>2</th>\n      <td>knn</td>\n      <td>{'metric': 'minkowski', 'n_neighbors': 3, 'p': 1}</td>\n      <td>-0.047521</td>\n      <td>0.030919</td>\n      <td>-0.161573</td>\n      <td>0.057716</td>\n      <td>-0.405888</td>\n      <td>0.539613</td>\n    </tr>\n    <tr>\n      <th>8</th>\n      <td>knn</td>\n      <td>{'metric': 'minkowski', 'n_neighbors': 9, 'p': 1}</td>\n      <td>-0.049485</td>\n      <td>0.042906</td>\n      <td>-0.164377</td>\n      <td>0.064667</td>\n      <td>-0.486270</td>\n      <td>0.323098</td>\n    </tr>\n    <tr>\n      <th>9</th>\n      <td>knn</td>\n      <td>{'metric': 'minkowski', 'n_neighbors': 9, 'p': 2}</td>\n      <td>-0.050816</td>\n      <td>0.036624</td>\n      <td>-0.170096</td>\n      <td>0.053862</td>\n      <td>-0.454807</td>\n      <td>0.286482</td>\n    </tr>\n    <tr>\n      <th>10</th>\n      <td>knn</td>\n      <td>{'metric': 'minkowski', 'n_neighbors': 11, 'p'...</td>\n      <td>-0.050976</td>\n      <td>0.040708</td>\n      <td>-0.165085</td>\n      <td>0.059372</td>\n      <td>-0.485523</td>\n      <td>0.282308</td>\n    </tr>\n    <tr>\n      <th>14</th>\n      <td>knn</td>\n      <td>{'metric': 'chebyshev', 'n_neighbors': 3, 'p': 1}</td>\n      <td>-0.052446</td>\n      <td>0.036312</td>\n      <td>-0.174857</td>\n      <td>0.062138</td>\n      <td>-0.404632</td>\n      <td>0.353912</td>\n    </tr>\n    <tr>\n      <th>15</th>\n      <td>knn</td>\n      <td>{'metric': 'chebyshev', 'n_neighbors': 3, 'p': 2}</td>\n      <td>-0.052446</td>\n      <td>0.036312</td>\n      <td>-0.174857</td>\n      <td>0.062138</td>\n      <td>-0.404632</td>\n      <td>0.353912</td>\n    </tr>\n    <tr>\n      <th>3</th>\n      <td>knn</td>\n      <td>{'metric': 'minkowski', 'n_neighbors': 3, 'p': 2}</td>\n      <td>-0.055119</td>\n      <td>0.036181</td>\n      <td>-0.182176</td>\n      <td>0.066013</td>\n      <td>-0.322683</td>\n      <td>0.541795</td>\n    </tr>\n    <tr>\n      <th>11</th>\n      <td>knn</td>\n      <td>{'metric': 'minkowski', 'n_neighbors': 11, 'p'...</td>\n      <td>-0.055753</td>\n      <td>0.039350</td>\n      <td>-0.176985</td>\n      <td>0.054313</td>\n      <td>-0.407580</td>\n      <td>0.292835</td>\n    </tr>\n    <tr>\n      <th>5</th>\n      <td>knn</td>\n      <td>{'metric': 'minkowski', 'n_neighbors': 5, 'p': 2}</td>\n      <td>-0.058240</td>\n      <td>0.040258</td>\n      <td>-0.183582</td>\n      <td>0.069818</td>\n      <td>-0.314288</td>\n      <td>0.530442</td>\n    </tr>\n    <tr>\n      <th>7</th>\n      <td>knn</td>\n      <td>{'metric': 'minkowski', 'n_neighbors': 7, 'p': 2}</td>\n      <td>-0.058354</td>\n      <td>0.040246</td>\n      <td>-0.186893</td>\n      <td>0.057524</td>\n      <td>-0.361158</td>\n      <td>0.333031</td>\n    </tr>\n    <tr>\n      <th>17</th>\n      <td>knn</td>\n      <td>{'metric': 'chebyshev', 'n_neighbors': 5, 'p': 2}</td>\n      <td>-0.058620</td>\n      <td>0.034410</td>\n      <td>-0.186296</td>\n      <td>0.055692</td>\n      <td>-0.298706</td>\n      <td>0.501972</td>\n    </tr>\n    <tr>\n      <th>16</th>\n      <td>knn</td>\n      <td>{'metric': 'chebyshev', 'n_neighbors': 5, 'p': 1}</td>\n      <td>-0.058620</td>\n      <td>0.034410</td>\n      <td>-0.186296</td>\n      <td>0.055692</td>\n      <td>-0.298706</td>\n      <td>0.501972</td>\n    </tr>\n    <tr>\n      <th>20</th>\n      <td>knn</td>\n      <td>{'metric': 'chebyshev', 'n_neighbors': 9, 'p': 1}</td>\n      <td>-0.059102</td>\n      <td>0.037837</td>\n      <td>-0.190362</td>\n      <td>0.051029</td>\n      <td>-0.346888</td>\n      <td>0.322215</td>\n    </tr>\n    <tr>\n      <th>21</th>\n      <td>knn</td>\n      <td>{'metric': 'chebyshev', 'n_neighbors': 9, 'p': 2}</td>\n      <td>-0.059102</td>\n      <td>0.037837</td>\n      <td>-0.190362</td>\n      <td>0.051029</td>\n      <td>-0.346888</td>\n      <td>0.322215</td>\n    </tr>\n    <tr>\n      <th>18</th>\n      <td>knn</td>\n      <td>{'metric': 'chebyshev', 'n_neighbors': 7, 'p': 1}</td>\n      <td>-0.062939</td>\n      <td>0.039279</td>\n      <td>-0.198179</td>\n      <td>0.051214</td>\n      <td>-0.286733</td>\n      <td>0.353580</td>\n    </tr>\n    <tr>\n      <th>19</th>\n      <td>knn</td>\n      <td>{'metric': 'chebyshev', 'n_neighbors': 7, 'p': 2}</td>\n      <td>-0.062939</td>\n      <td>0.039279</td>\n      <td>-0.198179</td>\n      <td>0.051214</td>\n      <td>-0.286733</td>\n      <td>0.353580</td>\n    </tr>\n    <tr>\n      <th>22</th>\n      <td>knn</td>\n      <td>{'metric': 'chebyshev', 'n_neighbors': 11, 'p'...</td>\n      <td>-0.065027</td>\n      <td>0.039861</td>\n      <td>-0.201726</td>\n      <td>0.056366</td>\n      <td>-0.286633</td>\n      <td>0.311695</td>\n    </tr>\n    <tr>\n      <th>23</th>\n      <td>knn</td>\n      <td>{'metric': 'chebyshev', 'n_neighbors': 11, 'p'...</td>\n      <td>-0.065027</td>\n      <td>0.039861</td>\n      <td>-0.201726</td>\n      <td>0.056366</td>\n      <td>-0.286633</td>\n      <td>0.311695</td>\n    </tr>\n    <tr>\n      <th>12</th>\n      <td>knn</td>\n      <td>{'metric': 'chebyshev', 'n_neighbors': 1, 'p': 1}</td>\n      <td>-0.072736</td>\n      <td>0.056338</td>\n      <td>-0.202550</td>\n      <td>0.076119</td>\n      <td>-0.175793</td>\n      <td>0.519525</td>\n    </tr>\n    <tr>\n      <th>13</th>\n      <td>knn</td>\n      <td>{'metric': 'chebyshev', 'n_neighbors': 1, 'p': 2}</td>\n      <td>-0.072736</td>\n      <td>0.056338</td>\n      <td>-0.202550</td>\n      <td>0.076119</td>\n      <td>-0.175793</td>\n      <td>0.519525</td>\n    </tr>\n    <tr>\n      <th>1</th>\n      <td>knn</td>\n      <td>{'metric': 'minkowski', 'n_neighbors': 1, 'p': 2}</td>\n      <td>-0.096382</td>\n      <td>0.070094</td>\n      <td>-0.208417</td>\n      <td>0.076300</td>\n      <td>0.061376</td>\n      <td>0.727681</td>\n    </tr>\n    <tr>\n      <th>0</th>\n      <td>knn</td>\n      <td>{'metric': 'minkowski', 'n_neighbors': 1, 'p': 1}</td>\n      <td>-0.114572</td>\n      <td>0.070819</td>\n      <td>-0.230241</td>\n      <td>0.087992</td>\n      <td>0.455171</td>\n      <td>1.180005</td>\n    </tr>\n  </tbody>\n</table>\n</div>"
     },
     "metadata": {},
     "execution_count": 18
    }
   ],
   "source": [
    "grid_search_df.sort_values('mean_test_mse', ascending=False)"
   ]
  },
  {
   "cell_type": "markdown",
   "metadata": {},
   "source": [
    "# Lasso Regressor"
   ]
  },
  {
   "cell_type": "code",
   "execution_count": 19,
   "metadata": {},
   "outputs": [],
   "source": [
    "PATH = 'lasso_grid_search_results.csv'"
   ]
  },
  {
   "cell_type": "code",
   "execution_count": 20,
   "metadata": {},
   "outputs": [],
   "source": [
    "grid_search_df = pd.read_csv(PATH)\n",
    "grid_search_df[\"model\"] = \"lasso\"\n",
    "grid_search_df = grid_search_df[[\"model\", 'params', 'mean_test_mse', 'std_test_mse', 'mean_test_mae', 'std_test_mae', 'mean_test_r2', 'std_test_r2']]\n",
    "summary_df = summary_df.append(grid_search_df.sort_values('mean_test_mse', ascending=False).iloc[0], ignore_index=True)"
   ]
  },
  {
   "cell_type": "code",
   "execution_count": 21,
   "metadata": {},
   "outputs": [
    {
     "output_type": "execute_result",
     "data": {
      "text/plain": "    model           params  mean_test_mse  std_test_mse  mean_test_mae  \\\n0   lasso  {'alpha': 0.01}      -0.084062      0.031003      -0.249618   \n1   lasso  {'alpha': 0.05}      -0.099114      0.036789      -0.277631   \n2   lasso   {'alpha': 0.1}      -0.099114      0.036789      -0.277631   \n3   lasso   {'alpha': 0.2}      -0.099114      0.036789      -0.277631   \n4   lasso   {'alpha': 0.3}      -0.099114      0.036789      -0.277631   \n5   lasso   {'alpha': 0.4}      -0.099114      0.036789      -0.277631   \n6   lasso   {'alpha': 0.5}      -0.099114      0.036789      -0.277631   \n7   lasso   {'alpha': 0.6}      -0.099114      0.036789      -0.277631   \n8   lasso   {'alpha': 0.7}      -0.099114      0.036789      -0.277631   \n9   lasso   {'alpha': 0.8}      -0.099114      0.036789      -0.277631   \n10  lasso   {'alpha': 0.9}      -0.099114      0.036789      -0.277631   \n11  lasso     {'alpha': 1}      -0.099114      0.036789      -0.277631   \n12  lasso     {'alpha': 2}      -0.099114      0.036789      -0.277631   \n13  lasso     {'alpha': 3}      -0.099114      0.036789      -0.277631   \n14  lasso     {'alpha': 5}      -0.099114      0.036789      -0.277631   \n15  lasso     {'alpha': 7}      -0.099114      0.036789      -0.277631   \n\n    std_test_mae  mean_test_r2  std_test_r2  \n0       0.041645     -0.058683     0.232248  \n1       0.056755      0.065749     0.069789  \n2       0.056755      0.065749     0.069789  \n3       0.056755      0.065749     0.069789  \n4       0.056755      0.065749     0.069789  \n5       0.056755      0.065749     0.069789  \n6       0.056755      0.065749     0.069789  \n7       0.056755      0.065749     0.069789  \n8       0.056755      0.065749     0.069789  \n9       0.056755      0.065749     0.069789  \n10      0.056755      0.065749     0.069789  \n11      0.056755      0.065749     0.069789  \n12      0.056755      0.065749     0.069789  \n13      0.056755      0.065749     0.069789  \n14      0.056755      0.065749     0.069789  \n15      0.056755      0.065749     0.069789  ",
      "text/html": "<div>\n<style scoped>\n    .dataframe tbody tr th:only-of-type {\n        vertical-align: middle;\n    }\n\n    .dataframe tbody tr th {\n        vertical-align: top;\n    }\n\n    .dataframe thead th {\n        text-align: right;\n    }\n</style>\n<table border=\"1\" class=\"dataframe\">\n  <thead>\n    <tr style=\"text-align: right;\">\n      <th></th>\n      <th>model</th>\n      <th>params</th>\n      <th>mean_test_mse</th>\n      <th>std_test_mse</th>\n      <th>mean_test_mae</th>\n      <th>std_test_mae</th>\n      <th>mean_test_r2</th>\n      <th>std_test_r2</th>\n    </tr>\n  </thead>\n  <tbody>\n    <tr>\n      <th>0</th>\n      <td>lasso</td>\n      <td>{'alpha': 0.01}</td>\n      <td>-0.084062</td>\n      <td>0.031003</td>\n      <td>-0.249618</td>\n      <td>0.041645</td>\n      <td>-0.058683</td>\n      <td>0.232248</td>\n    </tr>\n    <tr>\n      <th>1</th>\n      <td>lasso</td>\n      <td>{'alpha': 0.05}</td>\n      <td>-0.099114</td>\n      <td>0.036789</td>\n      <td>-0.277631</td>\n      <td>0.056755</td>\n      <td>0.065749</td>\n      <td>0.069789</td>\n    </tr>\n    <tr>\n      <th>2</th>\n      <td>lasso</td>\n      <td>{'alpha': 0.1}</td>\n      <td>-0.099114</td>\n      <td>0.036789</td>\n      <td>-0.277631</td>\n      <td>0.056755</td>\n      <td>0.065749</td>\n      <td>0.069789</td>\n    </tr>\n    <tr>\n      <th>3</th>\n      <td>lasso</td>\n      <td>{'alpha': 0.2}</td>\n      <td>-0.099114</td>\n      <td>0.036789</td>\n      <td>-0.277631</td>\n      <td>0.056755</td>\n      <td>0.065749</td>\n      <td>0.069789</td>\n    </tr>\n    <tr>\n      <th>4</th>\n      <td>lasso</td>\n      <td>{'alpha': 0.3}</td>\n      <td>-0.099114</td>\n      <td>0.036789</td>\n      <td>-0.277631</td>\n      <td>0.056755</td>\n      <td>0.065749</td>\n      <td>0.069789</td>\n    </tr>\n    <tr>\n      <th>5</th>\n      <td>lasso</td>\n      <td>{'alpha': 0.4}</td>\n      <td>-0.099114</td>\n      <td>0.036789</td>\n      <td>-0.277631</td>\n      <td>0.056755</td>\n      <td>0.065749</td>\n      <td>0.069789</td>\n    </tr>\n    <tr>\n      <th>6</th>\n      <td>lasso</td>\n      <td>{'alpha': 0.5}</td>\n      <td>-0.099114</td>\n      <td>0.036789</td>\n      <td>-0.277631</td>\n      <td>0.056755</td>\n      <td>0.065749</td>\n      <td>0.069789</td>\n    </tr>\n    <tr>\n      <th>7</th>\n      <td>lasso</td>\n      <td>{'alpha': 0.6}</td>\n      <td>-0.099114</td>\n      <td>0.036789</td>\n      <td>-0.277631</td>\n      <td>0.056755</td>\n      <td>0.065749</td>\n      <td>0.069789</td>\n    </tr>\n    <tr>\n      <th>8</th>\n      <td>lasso</td>\n      <td>{'alpha': 0.7}</td>\n      <td>-0.099114</td>\n      <td>0.036789</td>\n      <td>-0.277631</td>\n      <td>0.056755</td>\n      <td>0.065749</td>\n      <td>0.069789</td>\n    </tr>\n    <tr>\n      <th>9</th>\n      <td>lasso</td>\n      <td>{'alpha': 0.8}</td>\n      <td>-0.099114</td>\n      <td>0.036789</td>\n      <td>-0.277631</td>\n      <td>0.056755</td>\n      <td>0.065749</td>\n      <td>0.069789</td>\n    </tr>\n    <tr>\n      <th>10</th>\n      <td>lasso</td>\n      <td>{'alpha': 0.9}</td>\n      <td>-0.099114</td>\n      <td>0.036789</td>\n      <td>-0.277631</td>\n      <td>0.056755</td>\n      <td>0.065749</td>\n      <td>0.069789</td>\n    </tr>\n    <tr>\n      <th>11</th>\n      <td>lasso</td>\n      <td>{'alpha': 1}</td>\n      <td>-0.099114</td>\n      <td>0.036789</td>\n      <td>-0.277631</td>\n      <td>0.056755</td>\n      <td>0.065749</td>\n      <td>0.069789</td>\n    </tr>\n    <tr>\n      <th>12</th>\n      <td>lasso</td>\n      <td>{'alpha': 2}</td>\n      <td>-0.099114</td>\n      <td>0.036789</td>\n      <td>-0.277631</td>\n      <td>0.056755</td>\n      <td>0.065749</td>\n      <td>0.069789</td>\n    </tr>\n    <tr>\n      <th>13</th>\n      <td>lasso</td>\n      <td>{'alpha': 3}</td>\n      <td>-0.099114</td>\n      <td>0.036789</td>\n      <td>-0.277631</td>\n      <td>0.056755</td>\n      <td>0.065749</td>\n      <td>0.069789</td>\n    </tr>\n    <tr>\n      <th>14</th>\n      <td>lasso</td>\n      <td>{'alpha': 5}</td>\n      <td>-0.099114</td>\n      <td>0.036789</td>\n      <td>-0.277631</td>\n      <td>0.056755</td>\n      <td>0.065749</td>\n      <td>0.069789</td>\n    </tr>\n    <tr>\n      <th>15</th>\n      <td>lasso</td>\n      <td>{'alpha': 7}</td>\n      <td>-0.099114</td>\n      <td>0.036789</td>\n      <td>-0.277631</td>\n      <td>0.056755</td>\n      <td>0.065749</td>\n      <td>0.069789</td>\n    </tr>\n  </tbody>\n</table>\n</div>"
     },
     "metadata": {},
     "execution_count": 21
    }
   ],
   "source": [
    "grid_search_df.sort_values('mean_test_mse', ascending=False)"
   ]
  },
  {
   "cell_type": "markdown",
   "metadata": {},
   "source": [
    "# Elastic Net "
   ]
  },
  {
   "cell_type": "code",
   "execution_count": 22,
   "metadata": {},
   "outputs": [],
   "source": [
    "PATH = 'elastic_net_grid_search_results.csv'"
   ]
  },
  {
   "cell_type": "code",
   "execution_count": 23,
   "metadata": {},
   "outputs": [],
   "source": [
    "grid_search_df = pd.read_csv(PATH)\n",
    "grid_search_df[\"model\"] = \"elastic_net\"\n",
    "grid_search_df = grid_search_df[[\"model\", 'params', 'mean_test_mse', 'std_test_mse', 'mean_test_mae', 'std_test_mae', 'mean_test_r2', 'std_test_r2']]\n",
    "summary_df = summary_df.append(grid_search_df.sort_values('mean_test_mse', ascending=False).iloc[0], ignore_index=True)"
   ]
  },
  {
   "cell_type": "code",
   "execution_count": 24,
   "metadata": {},
   "outputs": [
    {
     "output_type": "execute_result",
     "data": {
      "text/plain": "          model                            params  mean_test_mse  \\\n0   elastic_net     {'alpha': 0.1, 'l1_ratio': 0}      -0.084052   \n1   elastic_net  {'alpha': 0.1, 'l1_ratio': 0.05}      -0.088404   \n21  elastic_net     {'alpha': 0.2, 'l1_ratio': 0}      -0.089079   \n42  elastic_net     {'alpha': 0.3, 'l1_ratio': 0}      -0.091571   \n2   elastic_net   {'alpha': 0.1, 'l1_ratio': 0.1}      -0.092639   \n..          ...                               ...            ...   \n94  elastic_net   {'alpha': 0.5, 'l1_ratio': 0.5}      -0.099114   \n23  elastic_net   {'alpha': 0.2, 'l1_ratio': 0.1}      -0.099141   \n85  elastic_net  {'alpha': 0.5, 'l1_ratio': 0.05}      -0.099182   \n4   elastic_net   {'alpha': 0.1, 'l1_ratio': 0.2}      -0.099266   \n5   elastic_net  {'alpha': 0.1, 'l1_ratio': 0.25}      -0.099383   \n\n    std_test_mse  mean_test_mae  std_test_mae  mean_test_r2  std_test_r2  \n0       0.032764      -0.247489      0.043629     -0.076311     0.185415  \n1       0.034540      -0.254888      0.048114     -0.038075     0.155737  \n21      0.033786      -0.257548      0.049380     -0.031592     0.135239  \n42      0.034424      -0.262956      0.051384     -0.008351     0.113830  \n2       0.036008      -0.262268      0.052947     -0.000154     0.124298  \n..           ...            ...           ...           ...          ...  \n94      0.036789      -0.277631      0.056755      0.065749     0.069789  \n23      0.037395      -0.276439      0.056952      0.064568     0.077410  \n85      0.036893      -0.277582      0.056716      0.066291     0.070996  \n4       0.037749      -0.275796      0.056958      0.065458     0.083307  \n5       0.037204      -0.277440      0.056609      0.067912     0.074632  \n\n[273 rows x 8 columns]",
      "text/html": "<div>\n<style scoped>\n    .dataframe tbody tr th:only-of-type {\n        vertical-align: middle;\n    }\n\n    .dataframe tbody tr th {\n        vertical-align: top;\n    }\n\n    .dataframe thead th {\n        text-align: right;\n    }\n</style>\n<table border=\"1\" class=\"dataframe\">\n  <thead>\n    <tr style=\"text-align: right;\">\n      <th></th>\n      <th>model</th>\n      <th>params</th>\n      <th>mean_test_mse</th>\n      <th>std_test_mse</th>\n      <th>mean_test_mae</th>\n      <th>std_test_mae</th>\n      <th>mean_test_r2</th>\n      <th>std_test_r2</th>\n    </tr>\n  </thead>\n  <tbody>\n    <tr>\n      <th>0</th>\n      <td>elastic_net</td>\n      <td>{'alpha': 0.1, 'l1_ratio': 0}</td>\n      <td>-0.084052</td>\n      <td>0.032764</td>\n      <td>-0.247489</td>\n      <td>0.043629</td>\n      <td>-0.076311</td>\n      <td>0.185415</td>\n    </tr>\n    <tr>\n      <th>1</th>\n      <td>elastic_net</td>\n      <td>{'alpha': 0.1, 'l1_ratio': 0.05}</td>\n      <td>-0.088404</td>\n      <td>0.034540</td>\n      <td>-0.254888</td>\n      <td>0.048114</td>\n      <td>-0.038075</td>\n      <td>0.155737</td>\n    </tr>\n    <tr>\n      <th>21</th>\n      <td>elastic_net</td>\n      <td>{'alpha': 0.2, 'l1_ratio': 0}</td>\n      <td>-0.089079</td>\n      <td>0.033786</td>\n      <td>-0.257548</td>\n      <td>0.049380</td>\n      <td>-0.031592</td>\n      <td>0.135239</td>\n    </tr>\n    <tr>\n      <th>42</th>\n      <td>elastic_net</td>\n      <td>{'alpha': 0.3, 'l1_ratio': 0}</td>\n      <td>-0.091571</td>\n      <td>0.034424</td>\n      <td>-0.262956</td>\n      <td>0.051384</td>\n      <td>-0.008351</td>\n      <td>0.113830</td>\n    </tr>\n    <tr>\n      <th>2</th>\n      <td>elastic_net</td>\n      <td>{'alpha': 0.1, 'l1_ratio': 0.1}</td>\n      <td>-0.092639</td>\n      <td>0.036008</td>\n      <td>-0.262268</td>\n      <td>0.052947</td>\n      <td>-0.000154</td>\n      <td>0.124298</td>\n    </tr>\n    <tr>\n      <th>...</th>\n      <td>...</td>\n      <td>...</td>\n      <td>...</td>\n      <td>...</td>\n      <td>...</td>\n      <td>...</td>\n      <td>...</td>\n      <td>...</td>\n    </tr>\n    <tr>\n      <th>94</th>\n      <td>elastic_net</td>\n      <td>{'alpha': 0.5, 'l1_ratio': 0.5}</td>\n      <td>-0.099114</td>\n      <td>0.036789</td>\n      <td>-0.277631</td>\n      <td>0.056755</td>\n      <td>0.065749</td>\n      <td>0.069789</td>\n    </tr>\n    <tr>\n      <th>23</th>\n      <td>elastic_net</td>\n      <td>{'alpha': 0.2, 'l1_ratio': 0.1}</td>\n      <td>-0.099141</td>\n      <td>0.037395</td>\n      <td>-0.276439</td>\n      <td>0.056952</td>\n      <td>0.064568</td>\n      <td>0.077410</td>\n    </tr>\n    <tr>\n      <th>85</th>\n      <td>elastic_net</td>\n      <td>{'alpha': 0.5, 'l1_ratio': 0.05}</td>\n      <td>-0.099182</td>\n      <td>0.036893</td>\n      <td>-0.277582</td>\n      <td>0.056716</td>\n      <td>0.066291</td>\n      <td>0.070996</td>\n    </tr>\n    <tr>\n      <th>4</th>\n      <td>elastic_net</td>\n      <td>{'alpha': 0.1, 'l1_ratio': 0.2}</td>\n      <td>-0.099266</td>\n      <td>0.037749</td>\n      <td>-0.275796</td>\n      <td>0.056958</td>\n      <td>0.065458</td>\n      <td>0.083307</td>\n    </tr>\n    <tr>\n      <th>5</th>\n      <td>elastic_net</td>\n      <td>{'alpha': 0.1, 'l1_ratio': 0.25}</td>\n      <td>-0.099383</td>\n      <td>0.037204</td>\n      <td>-0.277440</td>\n      <td>0.056609</td>\n      <td>0.067912</td>\n      <td>0.074632</td>\n    </tr>\n  </tbody>\n</table>\n<p>273 rows × 8 columns</p>\n</div>"
     },
     "metadata": {},
     "execution_count": 24
    }
   ],
   "source": [
    "grid_search_df.sort_values('mean_test_mse', ascending=False)"
   ]
  },
  {
   "cell_type": "markdown",
   "metadata": {},
   "source": [
    "# Ridge"
   ]
  },
  {
   "cell_type": "code",
   "execution_count": 25,
   "metadata": {},
   "outputs": [],
   "source": [
    "PATH = 'ridge_grid_search_results.csv'"
   ]
  },
  {
   "cell_type": "code",
   "execution_count": 26,
   "metadata": {},
   "outputs": [],
   "source": [
    "grid_search_df = pd.read_csv(PATH)\n",
    "grid_search_df[\"model\"] = \"ridge\"\n",
    "grid_search_df = grid_search_df[[\"model\", 'params', 'mean_test_mse', 'std_test_mse', 'mean_test_mae', 'std_test_mae', 'mean_test_r2', 'std_test_r2']]\n",
    "summary_df = summary_df.append(grid_search_df.sort_values('mean_test_mse', ascending=False).iloc[0], ignore_index=True)"
   ]
  },
  {
   "cell_type": "code",
   "execution_count": 27,
   "metadata": {},
   "outputs": [
    {
     "output_type": "execute_result",
     "data": {
      "text/plain": "    model           params  mean_test_mse  std_test_mse  mean_test_mae  \\\n4   ridge   {'alpha': 0.3}      -0.061770      0.035694      -0.204047   \n5   ridge   {'alpha': 0.4}      -0.062529      0.034671      -0.207833   \n3   ridge   {'alpha': 0.2}      -0.062776      0.039592      -0.199742   \n6   ridge   {'alpha': 0.5}      -0.063876      0.034424      -0.211087   \n7   ridge   {'alpha': 0.6}      -0.065392      0.034433      -0.213882   \n8   ridge   {'alpha': 0.7}      -0.066911      0.034537      -0.216299   \n9   ridge   {'alpha': 0.8}      -0.068364      0.034676      -0.218406   \n10  ridge   {'alpha': 0.9}      -0.069725      0.034825      -0.220307   \n2   ridge   {'alpha': 0.1}      -0.069831      0.057104      -0.195515   \n11  ridge     {'alpha': 1}      -0.070988      0.034973      -0.222357   \n12  ridge     {'alpha': 2}      -0.079395      0.035940      -0.235275   \n1   ridge  {'alpha': 0.05}      -0.081247      0.086726      -0.196334   \n13  ridge     {'alpha': 3}      -0.083695      0.036276      -0.243630   \n14  ridge     {'alpha': 4}      -0.086305      0.036387      -0.248513   \n15  ridge     {'alpha': 5}      -0.088077      0.036420      -0.251992   \n16  ridge     {'alpha': 6}      -0.089371      0.036427      -0.254783   \n17  ridge     {'alpha': 7}      -0.090367      0.036426      -0.257086   \n18  ridge     {'alpha': 8}      -0.091161      0.036424      -0.258944   \n19  ridge     {'alpha': 9}      -0.091812      0.036423      -0.260481   \n20  ridge    {'alpha': 10}      -0.092358      0.036423      -0.261774   \n21  ridge    {'alpha': 13}      -0.093575      0.036432      -0.264677   \n22  ridge    {'alpha': 15}      -0.094160      0.036442      -0.266076   \n23  ridge    {'alpha': 17}      -0.094629      0.036454      -0.267198   \n0   ridge  {'alpha': 0.01}      -0.104999      0.150207      -0.204968   \n\n    std_test_mae  mean_test_r2  std_test_r2  \n4       0.055433     -0.336629     0.269908  \n5       0.052073     -0.323750     0.259260  \n3       0.061055     -0.336748     0.293781  \n6       0.049985     -0.307106     0.251540  \n7       0.048670     -0.289845     0.244855  \n8       0.047845     -0.273171     0.238783  \n9       0.047339     -0.257534     0.233196  \n10      0.047029     -0.243061     0.228033  \n2       0.071461     -0.291218     0.399371  \n11      0.046717     -0.229743     0.223245  \n12      0.047101     -0.142340     0.189020  \n1       0.082666     -0.208009     0.597333  \n13      0.049361     -0.097932     0.167922  \n14      0.050652     -0.070936     0.153090  \n15      0.051567     -0.052541     0.141978  \n16      0.052345     -0.039043     0.133323  \n17      0.052822     -0.028622     0.126394  \n18      0.053202     -0.020277     0.120731  \n19      0.053512     -0.013410     0.116022  \n20      0.053770     -0.007639     0.112051  \n21      0.054339      0.005307     0.103197  \n22      0.054608      0.011569     0.098996  \n23      0.054821      0.016614     0.095678  \n0       0.101333     -0.027753     1.044837  ",
      "text/html": "<div>\n<style scoped>\n    .dataframe tbody tr th:only-of-type {\n        vertical-align: middle;\n    }\n\n    .dataframe tbody tr th {\n        vertical-align: top;\n    }\n\n    .dataframe thead th {\n        text-align: right;\n    }\n</style>\n<table border=\"1\" class=\"dataframe\">\n  <thead>\n    <tr style=\"text-align: right;\">\n      <th></th>\n      <th>model</th>\n      <th>params</th>\n      <th>mean_test_mse</th>\n      <th>std_test_mse</th>\n      <th>mean_test_mae</th>\n      <th>std_test_mae</th>\n      <th>mean_test_r2</th>\n      <th>std_test_r2</th>\n    </tr>\n  </thead>\n  <tbody>\n    <tr>\n      <th>4</th>\n      <td>ridge</td>\n      <td>{'alpha': 0.3}</td>\n      <td>-0.061770</td>\n      <td>0.035694</td>\n      <td>-0.204047</td>\n      <td>0.055433</td>\n      <td>-0.336629</td>\n      <td>0.269908</td>\n    </tr>\n    <tr>\n      <th>5</th>\n      <td>ridge</td>\n      <td>{'alpha': 0.4}</td>\n      <td>-0.062529</td>\n      <td>0.034671</td>\n      <td>-0.207833</td>\n      <td>0.052073</td>\n      <td>-0.323750</td>\n      <td>0.259260</td>\n    </tr>\n    <tr>\n      <th>3</th>\n      <td>ridge</td>\n      <td>{'alpha': 0.2}</td>\n      <td>-0.062776</td>\n      <td>0.039592</td>\n      <td>-0.199742</td>\n      <td>0.061055</td>\n      <td>-0.336748</td>\n      <td>0.293781</td>\n    </tr>\n    <tr>\n      <th>6</th>\n      <td>ridge</td>\n      <td>{'alpha': 0.5}</td>\n      <td>-0.063876</td>\n      <td>0.034424</td>\n      <td>-0.211087</td>\n      <td>0.049985</td>\n      <td>-0.307106</td>\n      <td>0.251540</td>\n    </tr>\n    <tr>\n      <th>7</th>\n      <td>ridge</td>\n      <td>{'alpha': 0.6}</td>\n      <td>-0.065392</td>\n      <td>0.034433</td>\n      <td>-0.213882</td>\n      <td>0.048670</td>\n      <td>-0.289845</td>\n      <td>0.244855</td>\n    </tr>\n    <tr>\n      <th>8</th>\n      <td>ridge</td>\n      <td>{'alpha': 0.7}</td>\n      <td>-0.066911</td>\n      <td>0.034537</td>\n      <td>-0.216299</td>\n      <td>0.047845</td>\n      <td>-0.273171</td>\n      <td>0.238783</td>\n    </tr>\n    <tr>\n      <th>9</th>\n      <td>ridge</td>\n      <td>{'alpha': 0.8}</td>\n      <td>-0.068364</td>\n      <td>0.034676</td>\n      <td>-0.218406</td>\n      <td>0.047339</td>\n      <td>-0.257534</td>\n      <td>0.233196</td>\n    </tr>\n    <tr>\n      <th>10</th>\n      <td>ridge</td>\n      <td>{'alpha': 0.9}</td>\n      <td>-0.069725</td>\n      <td>0.034825</td>\n      <td>-0.220307</td>\n      <td>0.047029</td>\n      <td>-0.243061</td>\n      <td>0.228033</td>\n    </tr>\n    <tr>\n      <th>2</th>\n      <td>ridge</td>\n      <td>{'alpha': 0.1}</td>\n      <td>-0.069831</td>\n      <td>0.057104</td>\n      <td>-0.195515</td>\n      <td>0.071461</td>\n      <td>-0.291218</td>\n      <td>0.399371</td>\n    </tr>\n    <tr>\n      <th>11</th>\n      <td>ridge</td>\n      <td>{'alpha': 1}</td>\n      <td>-0.070988</td>\n      <td>0.034973</td>\n      <td>-0.222357</td>\n      <td>0.046717</td>\n      <td>-0.229743</td>\n      <td>0.223245</td>\n    </tr>\n    <tr>\n      <th>12</th>\n      <td>ridge</td>\n      <td>{'alpha': 2}</td>\n      <td>-0.079395</td>\n      <td>0.035940</td>\n      <td>-0.235275</td>\n      <td>0.047101</td>\n      <td>-0.142340</td>\n      <td>0.189020</td>\n    </tr>\n    <tr>\n      <th>1</th>\n      <td>ridge</td>\n      <td>{'alpha': 0.05}</td>\n      <td>-0.081247</td>\n      <td>0.086726</td>\n      <td>-0.196334</td>\n      <td>0.082666</td>\n      <td>-0.208009</td>\n      <td>0.597333</td>\n    </tr>\n    <tr>\n      <th>13</th>\n      <td>ridge</td>\n      <td>{'alpha': 3}</td>\n      <td>-0.083695</td>\n      <td>0.036276</td>\n      <td>-0.243630</td>\n      <td>0.049361</td>\n      <td>-0.097932</td>\n      <td>0.167922</td>\n    </tr>\n    <tr>\n      <th>14</th>\n      <td>ridge</td>\n      <td>{'alpha': 4}</td>\n      <td>-0.086305</td>\n      <td>0.036387</td>\n      <td>-0.248513</td>\n      <td>0.050652</td>\n      <td>-0.070936</td>\n      <td>0.153090</td>\n    </tr>\n    <tr>\n      <th>15</th>\n      <td>ridge</td>\n      <td>{'alpha': 5}</td>\n      <td>-0.088077</td>\n      <td>0.036420</td>\n      <td>-0.251992</td>\n      <td>0.051567</td>\n      <td>-0.052541</td>\n      <td>0.141978</td>\n    </tr>\n    <tr>\n      <th>16</th>\n      <td>ridge</td>\n      <td>{'alpha': 6}</td>\n      <td>-0.089371</td>\n      <td>0.036427</td>\n      <td>-0.254783</td>\n      <td>0.052345</td>\n      <td>-0.039043</td>\n      <td>0.133323</td>\n    </tr>\n    <tr>\n      <th>17</th>\n      <td>ridge</td>\n      <td>{'alpha': 7}</td>\n      <td>-0.090367</td>\n      <td>0.036426</td>\n      <td>-0.257086</td>\n      <td>0.052822</td>\n      <td>-0.028622</td>\n      <td>0.126394</td>\n    </tr>\n    <tr>\n      <th>18</th>\n      <td>ridge</td>\n      <td>{'alpha': 8}</td>\n      <td>-0.091161</td>\n      <td>0.036424</td>\n      <td>-0.258944</td>\n      <td>0.053202</td>\n      <td>-0.020277</td>\n      <td>0.120731</td>\n    </tr>\n    <tr>\n      <th>19</th>\n      <td>ridge</td>\n      <td>{'alpha': 9}</td>\n      <td>-0.091812</td>\n      <td>0.036423</td>\n      <td>-0.260481</td>\n      <td>0.053512</td>\n      <td>-0.013410</td>\n      <td>0.116022</td>\n    </tr>\n    <tr>\n      <th>20</th>\n      <td>ridge</td>\n      <td>{'alpha': 10}</td>\n      <td>-0.092358</td>\n      <td>0.036423</td>\n      <td>-0.261774</td>\n      <td>0.053770</td>\n      <td>-0.007639</td>\n      <td>0.112051</td>\n    </tr>\n    <tr>\n      <th>21</th>\n      <td>ridge</td>\n      <td>{'alpha': 13}</td>\n      <td>-0.093575</td>\n      <td>0.036432</td>\n      <td>-0.264677</td>\n      <td>0.054339</td>\n      <td>0.005307</td>\n      <td>0.103197</td>\n    </tr>\n    <tr>\n      <th>22</th>\n      <td>ridge</td>\n      <td>{'alpha': 15}</td>\n      <td>-0.094160</td>\n      <td>0.036442</td>\n      <td>-0.266076</td>\n      <td>0.054608</td>\n      <td>0.011569</td>\n      <td>0.098996</td>\n    </tr>\n    <tr>\n      <th>23</th>\n      <td>ridge</td>\n      <td>{'alpha': 17}</td>\n      <td>-0.094629</td>\n      <td>0.036454</td>\n      <td>-0.267198</td>\n      <td>0.054821</td>\n      <td>0.016614</td>\n      <td>0.095678</td>\n    </tr>\n    <tr>\n      <th>0</th>\n      <td>ridge</td>\n      <td>{'alpha': 0.01}</td>\n      <td>-0.104999</td>\n      <td>0.150207</td>\n      <td>-0.204968</td>\n      <td>0.101333</td>\n      <td>-0.027753</td>\n      <td>1.044837</td>\n    </tr>\n  </tbody>\n</table>\n</div>"
     },
     "metadata": {},
     "execution_count": 27
    }
   ],
   "source": [
    "grid_search_df.sort_values('mean_test_mse', ascending=False)"
   ]
  },
  {
   "cell_type": "markdown",
   "metadata": {},
   "source": [
    "# SGD"
   ]
  },
  {
   "cell_type": "code",
   "execution_count": 28,
   "metadata": {},
   "outputs": [],
   "source": [
    "PATH = 'sgd_grid_search_results.csv'"
   ]
  },
  {
   "cell_type": "code",
   "execution_count": 29,
   "metadata": {},
   "outputs": [],
   "source": [
    "grid_search_df = pd.read_csv(PATH)\n",
    "grid_search_df[\"model\"] = \"sgd\"\n",
    "grid_search_df = grid_search_df[[\"model\", 'params', 'mean_test_mse', 'std_test_mse', 'mean_test_mae', 'std_test_mae', 'mean_test_r2', 'std_test_r2']]\n",
    "summary_df = summary_df.append(grid_search_df.sort_values('mean_test_mse', ascending=False).iloc[0], ignore_index=True)"
   ]
  },
  {
   "cell_type": "code",
   "execution_count": 30,
   "metadata": {},
   "outputs": [
    {
     "output_type": "execute_result",
     "data": {
      "text/plain": "     model                                             params  mean_test_mse  \\\n9714   sgd  {'alpha': 0.01, 'epsilon': 0.15, 'l1_ratio': 0...  -6.010271e-02   \n1014   sgd  {'alpha': 0.0001, 'epsilon': 0.15, 'l1_ratio':...  -6.086521e-02   \n1736   sgd  {'alpha': 0.0001, 'epsilon': 0.15, 'l1_ratio':...  -6.096189e-02   \n5610   sgd  {'alpha': 0.001, 'epsilon': 0.15, 'l1_ratio': ...  -6.121483e-02   \n9042   sgd  {'alpha': 0.01, 'epsilon': 0.2, 'l1_ratio': 1,...  -6.126661e-02   \n...    ...                                                ...            ...   \n3516   sgd  {'alpha': 0.0001, 'epsilon': 0.05, 'l1_ratio':...  -8.428611e+25   \n3180   sgd  {'alpha': 0.0001, 'epsilon': 0.05, 'l1_ratio':...  -8.655849e+25   \n12     sgd  {'alpha': 0.0001, 'epsilon': 0.2, 'l1_ratio': ...  -8.717701e+25   \n2076   sgd  {'alpha': 0.0001, 'epsilon': 0.1, 'l1_ratio': ...  -1.059293e+26   \n263    sgd  {'alpha': 0.0001, 'epsilon': 0.2, 'l1_ratio': ...  -1.141901e+26   \n\n      std_test_mse  mean_test_mae  std_test_mae  mean_test_r2   std_test_r2  \n9714  2.943595e-02  -1.926199e-01  4.874985e-02 -3.043089e-01  3.543427e-01  \n1014  3.104086e-02  -2.071236e-01  4.213059e-02 -2.975083e-01  3.352876e-01  \n1736  2.870310e-02  -2.041381e-01  4.619525e-02 -2.886353e-01  3.350888e-01  \n5610  3.176836e-02  -2.062540e-01  4.654822e-02 -2.957608e-01  3.434704e-01  \n9042  2.746146e-02  -2.025014e-01  5.282877e-02 -3.181204e-01  2.416466e-01  \n...            ...            ...           ...           ...           ...  \n3516  8.786156e+25  -7.447613e+12  4.735556e+12  1.266388e+27  1.715598e+27  \n3180  9.783960e+25  -7.171019e+12  5.042620e+12  9.365035e+26  9.140767e+26  \n12    9.622587e+25  -7.280693e+12  4.438847e+12  1.024701e+27  1.115938e+27  \n2076  1.568099e+26  -7.018672e+12  6.697000e+12  9.717652e+26  1.267388e+27  \n263   2.018097e+26  -7.515665e+12  7.148821e+12  1.258470e+27  1.936996e+27  \n\n[20160 rows x 8 columns]",
      "text/html": "<div>\n<style scoped>\n    .dataframe tbody tr th:only-of-type {\n        vertical-align: middle;\n    }\n\n    .dataframe tbody tr th {\n        vertical-align: top;\n    }\n\n    .dataframe thead th {\n        text-align: right;\n    }\n</style>\n<table border=\"1\" class=\"dataframe\">\n  <thead>\n    <tr style=\"text-align: right;\">\n      <th></th>\n      <th>model</th>\n      <th>params</th>\n      <th>mean_test_mse</th>\n      <th>std_test_mse</th>\n      <th>mean_test_mae</th>\n      <th>std_test_mae</th>\n      <th>mean_test_r2</th>\n      <th>std_test_r2</th>\n    </tr>\n  </thead>\n  <tbody>\n    <tr>\n      <th>9714</th>\n      <td>sgd</td>\n      <td>{'alpha': 0.01, 'epsilon': 0.15, 'l1_ratio': 0...</td>\n      <td>-6.010271e-02</td>\n      <td>2.943595e-02</td>\n      <td>-1.926199e-01</td>\n      <td>4.874985e-02</td>\n      <td>-3.043089e-01</td>\n      <td>3.543427e-01</td>\n    </tr>\n    <tr>\n      <th>1014</th>\n      <td>sgd</td>\n      <td>{'alpha': 0.0001, 'epsilon': 0.15, 'l1_ratio':...</td>\n      <td>-6.086521e-02</td>\n      <td>3.104086e-02</td>\n      <td>-2.071236e-01</td>\n      <td>4.213059e-02</td>\n      <td>-2.975083e-01</td>\n      <td>3.352876e-01</td>\n    </tr>\n    <tr>\n      <th>1736</th>\n      <td>sgd</td>\n      <td>{'alpha': 0.0001, 'epsilon': 0.15, 'l1_ratio':...</td>\n      <td>-6.096189e-02</td>\n      <td>2.870310e-02</td>\n      <td>-2.041381e-01</td>\n      <td>4.619525e-02</td>\n      <td>-2.886353e-01</td>\n      <td>3.350888e-01</td>\n    </tr>\n    <tr>\n      <th>5610</th>\n      <td>sgd</td>\n      <td>{'alpha': 0.001, 'epsilon': 0.15, 'l1_ratio': ...</td>\n      <td>-6.121483e-02</td>\n      <td>3.176836e-02</td>\n      <td>-2.062540e-01</td>\n      <td>4.654822e-02</td>\n      <td>-2.957608e-01</td>\n      <td>3.434704e-01</td>\n    </tr>\n    <tr>\n      <th>9042</th>\n      <td>sgd</td>\n      <td>{'alpha': 0.01, 'epsilon': 0.2, 'l1_ratio': 1,...</td>\n      <td>-6.126661e-02</td>\n      <td>2.746146e-02</td>\n      <td>-2.025014e-01</td>\n      <td>5.282877e-02</td>\n      <td>-3.181204e-01</td>\n      <td>2.416466e-01</td>\n    </tr>\n    <tr>\n      <th>...</th>\n      <td>...</td>\n      <td>...</td>\n      <td>...</td>\n      <td>...</td>\n      <td>...</td>\n      <td>...</td>\n      <td>...</td>\n      <td>...</td>\n    </tr>\n    <tr>\n      <th>3516</th>\n      <td>sgd</td>\n      <td>{'alpha': 0.0001, 'epsilon': 0.05, 'l1_ratio':...</td>\n      <td>-8.428611e+25</td>\n      <td>8.786156e+25</td>\n      <td>-7.447613e+12</td>\n      <td>4.735556e+12</td>\n      <td>1.266388e+27</td>\n      <td>1.715598e+27</td>\n    </tr>\n    <tr>\n      <th>3180</th>\n      <td>sgd</td>\n      <td>{'alpha': 0.0001, 'epsilon': 0.05, 'l1_ratio':...</td>\n      <td>-8.655849e+25</td>\n      <td>9.783960e+25</td>\n      <td>-7.171019e+12</td>\n      <td>5.042620e+12</td>\n      <td>9.365035e+26</td>\n      <td>9.140767e+26</td>\n    </tr>\n    <tr>\n      <th>12</th>\n      <td>sgd</td>\n      <td>{'alpha': 0.0001, 'epsilon': 0.2, 'l1_ratio': ...</td>\n      <td>-8.717701e+25</td>\n      <td>9.622587e+25</td>\n      <td>-7.280693e+12</td>\n      <td>4.438847e+12</td>\n      <td>1.024701e+27</td>\n      <td>1.115938e+27</td>\n    </tr>\n    <tr>\n      <th>2076</th>\n      <td>sgd</td>\n      <td>{'alpha': 0.0001, 'epsilon': 0.1, 'l1_ratio': ...</td>\n      <td>-1.059293e+26</td>\n      <td>1.568099e+26</td>\n      <td>-7.018672e+12</td>\n      <td>6.697000e+12</td>\n      <td>9.717652e+26</td>\n      <td>1.267388e+27</td>\n    </tr>\n    <tr>\n      <th>263</th>\n      <td>sgd</td>\n      <td>{'alpha': 0.0001, 'epsilon': 0.2, 'l1_ratio': ...</td>\n      <td>-1.141901e+26</td>\n      <td>2.018097e+26</td>\n      <td>-7.515665e+12</td>\n      <td>7.148821e+12</td>\n      <td>1.258470e+27</td>\n      <td>1.936996e+27</td>\n    </tr>\n  </tbody>\n</table>\n<p>20160 rows × 8 columns</p>\n</div>"
     },
     "metadata": {},
     "execution_count": 30
    }
   ],
   "source": [
    "grid_search_df.sort_values('mean_test_mse', ascending=False)"
   ]
  },
  {
   "cell_type": "code",
   "execution_count": 31,
   "metadata": {},
   "outputs": [
    {
     "output_type": "execute_result",
     "data": {
      "text/plain": "array([\"{'alpha': 0.01, 'epsilon': 0.15, 'l1_ratio': 0.65, 'learning_rate': 'optimal', 'loss': 'epsilon_insensitive', 'penalty': 'l2'}\",\n       \"{'alpha': 0.0001, 'epsilon': 0.15, 'l1_ratio': 0, 'learning_rate': 'constant', 'loss': 'epsilon_insensitive', 'penalty': 'l2'}\",\n       \"{'alpha': 0.0001, 'epsilon': 0.15, 'l1_ratio': 0.75, 'learning_rate': 'constant', 'loss': 'epsilon_insensitive', 'penalty': 'elasticnet'}\",\n       \"{'alpha': 0.001, 'epsilon': 0.15, 'l1_ratio': 0.55, 'learning_rate': 'adaptive', 'loss': 'epsilon_insensitive', 'penalty': 'l2'}\",\n       \"{'alpha': 0.01, 'epsilon': 0.2, 'l1_ratio': 1, 'learning_rate': 'optimal', 'loss': 'epsilon_insensitive', 'penalty': 'l2'}\",\n       \"{'alpha': 0.001, 'epsilon': 0.15, 'l1_ratio': 0.45, 'learning_rate': 'adaptive', 'loss': 'epsilon_insensitive', 'penalty': 'elasticnet'}\",\n       \"{'alpha': 0.0001, 'epsilon': 0.15, 'l1_ratio': 1, 'learning_rate': 'adaptive', 'loss': 'epsilon_insensitive', 'penalty': 'elasticnet'}\",\n       \"{'alpha': 0.0001, 'epsilon': 0.15, 'l1_ratio': 0.3, 'learning_rate': 'adaptive', 'loss': 'epsilon_insensitive', 'penalty': 'l2'}\",\n       \"{'alpha': 0.001, 'epsilon': 0.15, 'l1_ratio': 0.1, 'learning_rate': 'adaptive', 'loss': 'epsilon_insensitive', 'penalty': 'elasticnet'}\",\n       \"{'alpha': 0.0001, 'epsilon': 0.15, 'l1_ratio': 0.05, 'learning_rate': 'adaptive', 'loss': 'epsilon_insensitive', 'penalty': 'elasticnet'}\",\n       \"{'alpha': 0.0001, 'epsilon': 0.15, 'l1_ratio': 0.85, 'learning_rate': 'constant', 'loss': 'epsilon_insensitive', 'penalty': 'l2'}\",\n       \"{'alpha': 0.001, 'epsilon': 0.15, 'l1_ratio': 0.35, 'learning_rate': 'adaptive', 'loss': 'epsilon_insensitive', 'penalty': 'l2'}\",\n       \"{'alpha': 0.0001, 'epsilon': 0.15, 'l1_ratio': 0.25, 'learning_rate': 'adaptive', 'loss': 'epsilon_insensitive', 'penalty': 'elasticnet'}\",\n       \"{'alpha': 0.001, 'epsilon': 0.15, 'l1_ratio': 0.7, 'learning_rate': 'adaptive', 'loss': 'epsilon_insensitive', 'penalty': 'elasticnet'}\",\n       \"{'alpha': 0.0001, 'epsilon': 0.15, 'l1_ratio': 0.15, 'learning_rate': 'constant', 'loss': 'epsilon_insensitive', 'penalty': 'elasticnet'}\",\n       \"{'alpha': 0.001, 'epsilon': 0.15, 'l1_ratio': 0.65, 'learning_rate': 'constant', 'loss': 'epsilon_insensitive', 'penalty': 'l2'}\",\n       \"{'alpha': 0.0001, 'epsilon': 0.15, 'l1_ratio': 0.5, 'learning_rate': 'adaptive', 'loss': 'epsilon_insensitive', 'penalty': 'l1'}\",\n       \"{'alpha': 0.0001, 'epsilon': 0.15, 'l1_ratio': 0.8, 'learning_rate': 'adaptive', 'loss': 'epsilon_insensitive', 'penalty': 'l1'}\",\n       \"{'alpha': 0.001, 'epsilon': 0.15, 'l1_ratio': 0.85, 'learning_rate': 'constant', 'loss': 'epsilon_insensitive', 'penalty': 'l2'}\",\n       \"{'alpha': 0.0001, 'epsilon': 0.15, 'l1_ratio': 0.35, 'learning_rate': 'constant', 'loss': 'epsilon_insensitive', 'penalty': 'l1'}\"],\n      dtype=object)"
     },
     "metadata": {},
     "execution_count": 31
    }
   ],
   "source": [
    "grid_search_df.sort_values('mean_test_mse', ascending=False)[\"params\"].head(20).values"
   ]
  },
  {
   "cell_type": "markdown",
   "metadata": {},
   "source": [
    "# Sumário"
   ]
  },
  {
   "cell_type": "code",
   "execution_count": 32,
   "metadata": {},
   "outputs": [
    {
     "output_type": "execute_result",
     "data": {
      "text/plain": "           model                                             params  \\\n0  random_forest          {'criterion': 'mae', 'n_estimators': 500}   \n1      ada_boost  {'learning_rate': 0.85, 'loss': 'linear', 'n_e...   \n2            svm  {'C': 0.8, 'degree': 2, 'epsilon': 0.05, 'kern...   \n3            knn  {'metric': 'minkowski', 'n_neighbors': 7, 'p': 1}   \n7            sgd  {'alpha': 0.01, 'epsilon': 0.15, 'l1_ratio': 0...   \n6          ridge                                     {'alpha': 0.3}   \n5    elastic_net                      {'alpha': 0.1, 'l1_ratio': 0}   \n4          lasso                                    {'alpha': 0.01}   \n\n   mean_test_mse  std_test_mse  mean_test_mae  std_test_mae  mean_test_r2  \\\n0      -0.023570      0.023579      -0.110440      0.048788     -0.637404   \n1      -0.029858      0.019414      -0.120890      0.044253     -0.504439   \n2      -0.036729      0.034001      -0.142503      0.058847     -0.579265   \n3      -0.042408      0.033753      -0.153458      0.052378     -0.561840   \n7      -0.060103      0.029436      -0.192620      0.048750     -0.304309   \n6      -0.061770      0.035694      -0.204047      0.055433     -0.336629   \n5      -0.084052      0.032764      -0.247489      0.043629     -0.076311   \n4      -0.084062      0.031003      -0.249618      0.041645     -0.058683   \n\n   std_test_r2  \n0     0.354007  \n1     0.368539  \n2     0.328329  \n3     0.243121  \n7     0.354343  \n6     0.269908  \n5     0.185415  \n4     0.232248  ",
      "text/html": "<div>\n<style scoped>\n    .dataframe tbody tr th:only-of-type {\n        vertical-align: middle;\n    }\n\n    .dataframe tbody tr th {\n        vertical-align: top;\n    }\n\n    .dataframe thead th {\n        text-align: right;\n    }\n</style>\n<table border=\"1\" class=\"dataframe\">\n  <thead>\n    <tr style=\"text-align: right;\">\n      <th></th>\n      <th>model</th>\n      <th>params</th>\n      <th>mean_test_mse</th>\n      <th>std_test_mse</th>\n      <th>mean_test_mae</th>\n      <th>std_test_mae</th>\n      <th>mean_test_r2</th>\n      <th>std_test_r2</th>\n    </tr>\n  </thead>\n  <tbody>\n    <tr>\n      <th>0</th>\n      <td>random_forest</td>\n      <td>{'criterion': 'mae', 'n_estimators': 500}</td>\n      <td>-0.023570</td>\n      <td>0.023579</td>\n      <td>-0.110440</td>\n      <td>0.048788</td>\n      <td>-0.637404</td>\n      <td>0.354007</td>\n    </tr>\n    <tr>\n      <th>1</th>\n      <td>ada_boost</td>\n      <td>{'learning_rate': 0.85, 'loss': 'linear', 'n_e...</td>\n      <td>-0.029858</td>\n      <td>0.019414</td>\n      <td>-0.120890</td>\n      <td>0.044253</td>\n      <td>-0.504439</td>\n      <td>0.368539</td>\n    </tr>\n    <tr>\n      <th>2</th>\n      <td>svm</td>\n      <td>{'C': 0.8, 'degree': 2, 'epsilon': 0.05, 'kern...</td>\n      <td>-0.036729</td>\n      <td>0.034001</td>\n      <td>-0.142503</td>\n      <td>0.058847</td>\n      <td>-0.579265</td>\n      <td>0.328329</td>\n    </tr>\n    <tr>\n      <th>3</th>\n      <td>knn</td>\n      <td>{'metric': 'minkowski', 'n_neighbors': 7, 'p': 1}</td>\n      <td>-0.042408</td>\n      <td>0.033753</td>\n      <td>-0.153458</td>\n      <td>0.052378</td>\n      <td>-0.561840</td>\n      <td>0.243121</td>\n    </tr>\n    <tr>\n      <th>7</th>\n      <td>sgd</td>\n      <td>{'alpha': 0.01, 'epsilon': 0.15, 'l1_ratio': 0...</td>\n      <td>-0.060103</td>\n      <td>0.029436</td>\n      <td>-0.192620</td>\n      <td>0.048750</td>\n      <td>-0.304309</td>\n      <td>0.354343</td>\n    </tr>\n    <tr>\n      <th>6</th>\n      <td>ridge</td>\n      <td>{'alpha': 0.3}</td>\n      <td>-0.061770</td>\n      <td>0.035694</td>\n      <td>-0.204047</td>\n      <td>0.055433</td>\n      <td>-0.336629</td>\n      <td>0.269908</td>\n    </tr>\n    <tr>\n      <th>5</th>\n      <td>elastic_net</td>\n      <td>{'alpha': 0.1, 'l1_ratio': 0}</td>\n      <td>-0.084052</td>\n      <td>0.032764</td>\n      <td>-0.247489</td>\n      <td>0.043629</td>\n      <td>-0.076311</td>\n      <td>0.185415</td>\n    </tr>\n    <tr>\n      <th>4</th>\n      <td>lasso</td>\n      <td>{'alpha': 0.01}</td>\n      <td>-0.084062</td>\n      <td>0.031003</td>\n      <td>-0.249618</td>\n      <td>0.041645</td>\n      <td>-0.058683</td>\n      <td>0.232248</td>\n    </tr>\n  </tbody>\n</table>\n</div>"
     },
     "metadata": {},
     "execution_count": 32
    }
   ],
   "source": [
    "summary_df.sort_values(by='mean_test_mse', ascending=False).head(20)"
   ]
  },
  {
   "cell_type": "code",
   "execution_count": null,
   "metadata": {},
   "outputs": [],
   "source": []
  }
 ],
 "metadata": {
  "language_info": {
   "name": "python",
   "codemirror_mode": {
    "name": "ipython",
    "version": 3
   },
   "version": "3.6.9-final"
  },
  "orig_nbformat": 2,
  "file_extension": ".py",
  "mimetype": "text/x-python",
  "name": "python",
  "npconvert_exporter": "python",
  "pygments_lexer": "ipython3",
  "version": 3,
  "kernelspec": {
   "name": "python36964bitbertvirtualenv054cbb15ab924922a35a349b12e89805",
   "display_name": "Python 3.6.9 64-bit ('bert': virtualenv)"
  }
 },
 "nbformat": 4,
 "nbformat_minor": 2
}