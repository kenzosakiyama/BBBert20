{
 "nbformat": 4,
 "nbformat_minor": 2,
 "metadata": {
  "language_info": {
   "name": "python",
   "codemirror_mode": {
    "name": "ipython",
    "version": 3
   },
   "version": "3.6.9-final"
  },
  "orig_nbformat": 2,
  "file_extension": ".py",
  "mimetype": "text/x-python",
  "name": "python",
  "npconvert_exporter": "python",
  "pygments_lexer": "ipython3",
  "version": 3,
  "kernelspec": {
   "name": "python36964bitbertvirtualenv054cbb15ab924922a35a349b12e89805",
   "display_name": "Python 3.6.9 64-bit ('bert': virtualenv)"
  }
 },
 "cells": [
  {
   "cell_type": "code",
   "execution_count": 1,
   "metadata": {},
   "outputs": [],
   "source": [
    "import pandas as pd"
   ]
  },
  {
   "cell_type": "markdown",
   "metadata": {},
   "source": [
    "# Random Forest Regressor"
   ]
  },
  {
   "cell_type": "code",
   "execution_count": 2,
   "metadata": {},
   "outputs": [],
   "source": [
    "PATH = 'random_forest_grid_search_results.csv'"
   ]
  },
  {
   "cell_type": "code",
   "execution_count": 3,
   "metadata": {},
   "outputs": [],
   "source": [
    "grid_search_df = pd.read_csv(PATH)"
   ]
  },
  {
   "cell_type": "code",
   "execution_count": 4,
   "metadata": {},
   "outputs": [],
   "source": [
    "grid_search_df = grid_search_df[['params', 'mean_test_mse', 'std_test_mse', 'mean_test_mae', 'std_test_mae', 'mean_test_mae', 'std_test_mae', 'mean_test_r2', 'std_test_r2']]"
   ]
  },
  {
   "cell_type": "code",
   "execution_count": 5,
   "metadata": {},
   "outputs": [
    {
     "output_type": "execute_result",
     "data": {
      "text/plain": "                                       params  mean_test_mse  std_test_mse  \\\n3  {'criterion': 'mse', 'n_estimators': 1000}      -0.047094      0.037242   \n4  {'criterion': 'mse', 'n_estimators': 5000}      -0.047155      0.037770   \n5   {'criterion': 'mae', 'n_estimators': 100}      -0.047749      0.037669   \n8  {'criterion': 'mae', 'n_estimators': 1000}      -0.047823      0.038658   \n6   {'criterion': 'mae', 'n_estimators': 200}      -0.048306      0.037956   \n9  {'criterion': 'mae', 'n_estimators': 5000}      -0.048407      0.039242   \n2   {'criterion': 'mse', 'n_estimators': 500}      -0.049023      0.040763   \n1   {'criterion': 'mse', 'n_estimators': 200}      -0.049123      0.037539   \n0   {'criterion': 'mse', 'n_estimators': 100}      -0.049257      0.041634   \n7   {'criterion': 'mae', 'n_estimators': 500}      -0.049412      0.040879   \n\n   mean_test_mae  std_test_mae  mean_test_mae  std_test_mae  mean_test_r2  \\\n3      -0.170456      0.074452      -0.170456      0.074452     -0.157166   \n4      -0.171014      0.074966      -0.171014      0.074966     -0.175632   \n5      -0.173834      0.072426      -0.173834      0.072426     -0.131205   \n8      -0.172351      0.077718      -0.172351      0.077718     -0.166102   \n6      -0.172309      0.079220      -0.172309      0.079220     -0.171975   \n9      -0.172963      0.078819      -0.172963      0.078819     -0.152219   \n2      -0.174200      0.078425      -0.174200      0.078425     -0.126046   \n1      -0.175453      0.075306      -0.175453      0.075306     -0.100511   \n0      -0.174818      0.080487      -0.174818      0.080487     -0.173871   \n7      -0.175307      0.078113      -0.175307      0.078113     -0.145501   \n\n   std_test_r2  \n3     0.716212  \n4     0.663862  \n5     0.773439  \n8     0.677030  \n6     0.640309  \n9     0.699149  \n2     0.744632  \n1     0.780728  \n0     0.654426  \n7     0.696090  ",
      "text/html": "<div>\n<style scoped>\n    .dataframe tbody tr th:only-of-type {\n        vertical-align: middle;\n    }\n\n    .dataframe tbody tr th {\n        vertical-align: top;\n    }\n\n    .dataframe thead th {\n        text-align: right;\n    }\n</style>\n<table border=\"1\" class=\"dataframe\">\n  <thead>\n    <tr style=\"text-align: right;\">\n      <th></th>\n      <th>params</th>\n      <th>mean_test_mse</th>\n      <th>std_test_mse</th>\n      <th>mean_test_mae</th>\n      <th>std_test_mae</th>\n      <th>mean_test_mae</th>\n      <th>std_test_mae</th>\n      <th>mean_test_r2</th>\n      <th>std_test_r2</th>\n    </tr>\n  </thead>\n  <tbody>\n    <tr>\n      <th>3</th>\n      <td>{'criterion': 'mse', 'n_estimators': 1000}</td>\n      <td>-0.047094</td>\n      <td>0.037242</td>\n      <td>-0.170456</td>\n      <td>0.074452</td>\n      <td>-0.170456</td>\n      <td>0.074452</td>\n      <td>-0.157166</td>\n      <td>0.716212</td>\n    </tr>\n    <tr>\n      <th>4</th>\n      <td>{'criterion': 'mse', 'n_estimators': 5000}</td>\n      <td>-0.047155</td>\n      <td>0.037770</td>\n      <td>-0.171014</td>\n      <td>0.074966</td>\n      <td>-0.171014</td>\n      <td>0.074966</td>\n      <td>-0.175632</td>\n      <td>0.663862</td>\n    </tr>\n    <tr>\n      <th>5</th>\n      <td>{'criterion': 'mae', 'n_estimators': 100}</td>\n      <td>-0.047749</td>\n      <td>0.037669</td>\n      <td>-0.173834</td>\n      <td>0.072426</td>\n      <td>-0.173834</td>\n      <td>0.072426</td>\n      <td>-0.131205</td>\n      <td>0.773439</td>\n    </tr>\n    <tr>\n      <th>8</th>\n      <td>{'criterion': 'mae', 'n_estimators': 1000}</td>\n      <td>-0.047823</td>\n      <td>0.038658</td>\n      <td>-0.172351</td>\n      <td>0.077718</td>\n      <td>-0.172351</td>\n      <td>0.077718</td>\n      <td>-0.166102</td>\n      <td>0.677030</td>\n    </tr>\n    <tr>\n      <th>6</th>\n      <td>{'criterion': 'mae', 'n_estimators': 200}</td>\n      <td>-0.048306</td>\n      <td>0.037956</td>\n      <td>-0.172309</td>\n      <td>0.079220</td>\n      <td>-0.172309</td>\n      <td>0.079220</td>\n      <td>-0.171975</td>\n      <td>0.640309</td>\n    </tr>\n    <tr>\n      <th>9</th>\n      <td>{'criterion': 'mae', 'n_estimators': 5000}</td>\n      <td>-0.048407</td>\n      <td>0.039242</td>\n      <td>-0.172963</td>\n      <td>0.078819</td>\n      <td>-0.172963</td>\n      <td>0.078819</td>\n      <td>-0.152219</td>\n      <td>0.699149</td>\n    </tr>\n    <tr>\n      <th>2</th>\n      <td>{'criterion': 'mse', 'n_estimators': 500}</td>\n      <td>-0.049023</td>\n      <td>0.040763</td>\n      <td>-0.174200</td>\n      <td>0.078425</td>\n      <td>-0.174200</td>\n      <td>0.078425</td>\n      <td>-0.126046</td>\n      <td>0.744632</td>\n    </tr>\n    <tr>\n      <th>1</th>\n      <td>{'criterion': 'mse', 'n_estimators': 200}</td>\n      <td>-0.049123</td>\n      <td>0.037539</td>\n      <td>-0.175453</td>\n      <td>0.075306</td>\n      <td>-0.175453</td>\n      <td>0.075306</td>\n      <td>-0.100511</td>\n      <td>0.780728</td>\n    </tr>\n    <tr>\n      <th>0</th>\n      <td>{'criterion': 'mse', 'n_estimators': 100}</td>\n      <td>-0.049257</td>\n      <td>0.041634</td>\n      <td>-0.174818</td>\n      <td>0.080487</td>\n      <td>-0.174818</td>\n      <td>0.080487</td>\n      <td>-0.173871</td>\n      <td>0.654426</td>\n    </tr>\n    <tr>\n      <th>7</th>\n      <td>{'criterion': 'mae', 'n_estimators': 500}</td>\n      <td>-0.049412</td>\n      <td>0.040879</td>\n      <td>-0.175307</td>\n      <td>0.078113</td>\n      <td>-0.175307</td>\n      <td>0.078113</td>\n      <td>-0.145501</td>\n      <td>0.696090</td>\n    </tr>\n  </tbody>\n</table>\n</div>"
     },
     "metadata": {},
     "execution_count": 5
    }
   ],
   "source": [
    "grid_search_df.sort_values('mean_test_mse', ascending=False)"
   ]
  },
  {
   "cell_type": "markdown",
   "metadata": {},
   "source": [
    "# Ada Boost Regressor"
   ]
  },
  {
   "cell_type": "code",
   "execution_count": 6,
   "metadata": {},
   "outputs": [],
   "source": [
    "PATH = 'ada_boost_grid_search_results.csv'\n",
    ""
   ]
  },
  {
   "cell_type": "code",
   "execution_count": 7,
   "metadata": {},
   "outputs": [],
   "source": [
    "grid_search_df = pd.read_csv(PATH)\n",
    "grid_search_df = grid_search_df[['params', 'mean_test_mse', 'std_test_mse', 'mean_test_mae', 'std_test_mae', 'mean_test_mae', 'std_test_mae', 'mean_test_r2', 'std_test_r2']]"
   ]
  },
  {
   "cell_type": "code",
   "execution_count": 8,
   "metadata": {},
   "outputs": [
    {
     "output_type": "execute_result",
     "data": {
      "text/plain": "                                           params  mean_test_mse  \\\n14  {'loss': 'exponential', 'n_estimators': 5000}      -0.578333   \n1         {'loss': 'linear', 'n_estimators': 200}      -0.583176   \n11   {'loss': 'exponential', 'n_estimators': 200}      -0.585069   \n12   {'loss': 'exponential', 'n_estimators': 500}      -0.587529   \n13  {'loss': 'exponential', 'n_estimators': 1000}      -0.590236   \n4        {'loss': 'linear', 'n_estimators': 5000}      -0.597712   \n2         {'loss': 'linear', 'n_estimators': 500}      -0.599735   \n3        {'loss': 'linear', 'n_estimators': 1000}      -0.602155   \n10   {'loss': 'exponential', 'n_estimators': 100}      -0.603505   \n8        {'loss': 'square', 'n_estimators': 1000}      -0.617973   \n0         {'loss': 'linear', 'n_estimators': 100}      -0.628153   \n9        {'loss': 'square', 'n_estimators': 5000}      -0.629479   \n5         {'loss': 'square', 'n_estimators': 100}      -0.631211   \n6         {'loss': 'square', 'n_estimators': 200}      -0.656210   \n7         {'loss': 'square', 'n_estimators': 500}      -0.679754   \n\n    std_test_mse  mean_test_mae  std_test_mae  mean_test_mae  std_test_mae  \\\n14      0.505747      -0.537490      0.207406      -0.537490      0.207406   \n1       0.517815      -0.530303      0.225423      -0.530303      0.225423   \n11      0.510994      -0.549975      0.206096      -0.549975      0.206096   \n12      0.509179      -0.540358      0.213297      -0.540358      0.213297   \n13      0.510228      -0.547471      0.210011      -0.547471      0.210011   \n4       0.497826      -0.551491      0.204928      -0.551491      0.204928   \n2       0.495079      -0.555857      0.210889      -0.555857      0.210889   \n3       0.504400      -0.552710      0.206972      -0.552710      0.206972   \n10      0.516437      -0.556243      0.203265      -0.556243      0.203265   \n8       0.543953      -0.540557      0.266934      -0.540557      0.266934   \n0       0.541603      -0.573032      0.221678      -0.573032      0.221678   \n9       0.530702      -0.562867      0.231073      -0.562867      0.231073   \n5       0.493596      -0.565582      0.248609      -0.565582      0.248609   \n6       0.532588      -0.581525      0.228838      -0.581525      0.228838   \n7       0.521599      -0.599418      0.227016      -0.599418      0.227016   \n\n    mean_test_r2  std_test_r2  \n14     -0.113748     0.840131  \n1      -0.048367     0.912443  \n11     -0.125198     0.791384  \n12     -0.096722     0.827590  \n13     -0.091159     0.857144  \n4      -0.091575     0.809736  \n2       0.008936     0.935590  \n3      -0.020748     0.873496  \n10     -0.136759     0.719110  \n8      -0.125754     0.836187  \n0       0.050151     1.006896  \n9      -0.066367     0.767739  \n5       0.131888     1.119159  \n6       0.026119     0.847297  \n7       0.086020     0.867092  ",
      "text/html": "<div>\n<style scoped>\n    .dataframe tbody tr th:only-of-type {\n        vertical-align: middle;\n    }\n\n    .dataframe tbody tr th {\n        vertical-align: top;\n    }\n\n    .dataframe thead th {\n        text-align: right;\n    }\n</style>\n<table border=\"1\" class=\"dataframe\">\n  <thead>\n    <tr style=\"text-align: right;\">\n      <th></th>\n      <th>params</th>\n      <th>mean_test_mse</th>\n      <th>std_test_mse</th>\n      <th>mean_test_mae</th>\n      <th>std_test_mae</th>\n      <th>mean_test_mae</th>\n      <th>std_test_mae</th>\n      <th>mean_test_r2</th>\n      <th>std_test_r2</th>\n    </tr>\n  </thead>\n  <tbody>\n    <tr>\n      <th>14</th>\n      <td>{'loss': 'exponential', 'n_estimators': 5000}</td>\n      <td>-0.578333</td>\n      <td>0.505747</td>\n      <td>-0.537490</td>\n      <td>0.207406</td>\n      <td>-0.537490</td>\n      <td>0.207406</td>\n      <td>-0.113748</td>\n      <td>0.840131</td>\n    </tr>\n    <tr>\n      <th>1</th>\n      <td>{'loss': 'linear', 'n_estimators': 200}</td>\n      <td>-0.583176</td>\n      <td>0.517815</td>\n      <td>-0.530303</td>\n      <td>0.225423</td>\n      <td>-0.530303</td>\n      <td>0.225423</td>\n      <td>-0.048367</td>\n      <td>0.912443</td>\n    </tr>\n    <tr>\n      <th>11</th>\n      <td>{'loss': 'exponential', 'n_estimators': 200}</td>\n      <td>-0.585069</td>\n      <td>0.510994</td>\n      <td>-0.549975</td>\n      <td>0.206096</td>\n      <td>-0.549975</td>\n      <td>0.206096</td>\n      <td>-0.125198</td>\n      <td>0.791384</td>\n    </tr>\n    <tr>\n      <th>12</th>\n      <td>{'loss': 'exponential', 'n_estimators': 500}</td>\n      <td>-0.587529</td>\n      <td>0.509179</td>\n      <td>-0.540358</td>\n      <td>0.213297</td>\n      <td>-0.540358</td>\n      <td>0.213297</td>\n      <td>-0.096722</td>\n      <td>0.827590</td>\n    </tr>\n    <tr>\n      <th>13</th>\n      <td>{'loss': 'exponential', 'n_estimators': 1000}</td>\n      <td>-0.590236</td>\n      <td>0.510228</td>\n      <td>-0.547471</td>\n      <td>0.210011</td>\n      <td>-0.547471</td>\n      <td>0.210011</td>\n      <td>-0.091159</td>\n      <td>0.857144</td>\n    </tr>\n    <tr>\n      <th>4</th>\n      <td>{'loss': 'linear', 'n_estimators': 5000}</td>\n      <td>-0.597712</td>\n      <td>0.497826</td>\n      <td>-0.551491</td>\n      <td>0.204928</td>\n      <td>-0.551491</td>\n      <td>0.204928</td>\n      <td>-0.091575</td>\n      <td>0.809736</td>\n    </tr>\n    <tr>\n      <th>2</th>\n      <td>{'loss': 'linear', 'n_estimators': 500}</td>\n      <td>-0.599735</td>\n      <td>0.495079</td>\n      <td>-0.555857</td>\n      <td>0.210889</td>\n      <td>-0.555857</td>\n      <td>0.210889</td>\n      <td>0.008936</td>\n      <td>0.935590</td>\n    </tr>\n    <tr>\n      <th>3</th>\n      <td>{'loss': 'linear', 'n_estimators': 1000}</td>\n      <td>-0.602155</td>\n      <td>0.504400</td>\n      <td>-0.552710</td>\n      <td>0.206972</td>\n      <td>-0.552710</td>\n      <td>0.206972</td>\n      <td>-0.020748</td>\n      <td>0.873496</td>\n    </tr>\n    <tr>\n      <th>10</th>\n      <td>{'loss': 'exponential', 'n_estimators': 100}</td>\n      <td>-0.603505</td>\n      <td>0.516437</td>\n      <td>-0.556243</td>\n      <td>0.203265</td>\n      <td>-0.556243</td>\n      <td>0.203265</td>\n      <td>-0.136759</td>\n      <td>0.719110</td>\n    </tr>\n    <tr>\n      <th>8</th>\n      <td>{'loss': 'square', 'n_estimators': 1000}</td>\n      <td>-0.617973</td>\n      <td>0.543953</td>\n      <td>-0.540557</td>\n      <td>0.266934</td>\n      <td>-0.540557</td>\n      <td>0.266934</td>\n      <td>-0.125754</td>\n      <td>0.836187</td>\n    </tr>\n    <tr>\n      <th>0</th>\n      <td>{'loss': 'linear', 'n_estimators': 100}</td>\n      <td>-0.628153</td>\n      <td>0.541603</td>\n      <td>-0.573032</td>\n      <td>0.221678</td>\n      <td>-0.573032</td>\n      <td>0.221678</td>\n      <td>0.050151</td>\n      <td>1.006896</td>\n    </tr>\n    <tr>\n      <th>9</th>\n      <td>{'loss': 'square', 'n_estimators': 5000}</td>\n      <td>-0.629479</td>\n      <td>0.530702</td>\n      <td>-0.562867</td>\n      <td>0.231073</td>\n      <td>-0.562867</td>\n      <td>0.231073</td>\n      <td>-0.066367</td>\n      <td>0.767739</td>\n    </tr>\n    <tr>\n      <th>5</th>\n      <td>{'loss': 'square', 'n_estimators': 100}</td>\n      <td>-0.631211</td>\n      <td>0.493596</td>\n      <td>-0.565582</td>\n      <td>0.248609</td>\n      <td>-0.565582</td>\n      <td>0.248609</td>\n      <td>0.131888</td>\n      <td>1.119159</td>\n    </tr>\n    <tr>\n      <th>6</th>\n      <td>{'loss': 'square', 'n_estimators': 200}</td>\n      <td>-0.656210</td>\n      <td>0.532588</td>\n      <td>-0.581525</td>\n      <td>0.228838</td>\n      <td>-0.581525</td>\n      <td>0.228838</td>\n      <td>0.026119</td>\n      <td>0.847297</td>\n    </tr>\n    <tr>\n      <th>7</th>\n      <td>{'loss': 'square', 'n_estimators': 500}</td>\n      <td>-0.679754</td>\n      <td>0.521599</td>\n      <td>-0.599418</td>\n      <td>0.227016</td>\n      <td>-0.599418</td>\n      <td>0.227016</td>\n      <td>0.086020</td>\n      <td>0.867092</td>\n    </tr>\n  </tbody>\n</table>\n</div>"
     },
     "metadata": {},
     "execution_count": 8
    }
   ],
   "source": [
    "grid_search_df.sort_values('mean_test_mse', ascending=False)"
   ]
  },
  {
   "cell_type": "markdown",
   "metadata": {},
   "source": [
    "# SVM Regressor"
   ]
  },
  {
   "cell_type": "code",
   "execution_count": 9,
   "metadata": {},
   "outputs": [],
   "source": [
    "PATH = 'svm_grid_search_results.csv'\n",
    ""
   ]
  },
  {
   "cell_type": "code",
   "execution_count": 10,
   "metadata": {},
   "outputs": [],
   "source": [
    "grid_search_df = pd.read_csv(PATH)\n",
    "grid_search_df = grid_search_df[['params', 'mean_test_mse', 'std_test_mse', 'mean_test_mae', 'std_test_mae', 'mean_test_mae', 'std_test_mae', 'mean_test_r2', 'std_test_r2']]"
   ]
  },
  {
   "cell_type": "code",
   "execution_count": 11,
   "metadata": {},
   "outputs": [
    {
     "output_type": "execute_result",
     "data": {
      "text/plain": "                                                params  mean_test_mse  \\\n286  {'C': 0.95, 'degree': 3, 'epsilon': 0.5, 'kern...      -0.553488   \n318  {'C': 0.95, 'degree': 7, 'epsilon': 0.5, 'kern...      -0.553488   \n302  {'C': 0.95, 'degree': 5, 'epsilon': 0.5, 'kern...      -0.553488   \n270  {'C': 0.95, 'degree': 2, 'epsilon': 0.5, 'kern...      -0.553488   \n266  {'C': 0.95, 'degree': 2, 'epsilon': 0.3, 'kern...      -0.557307   \n..                                                 ...            ...   \n245  {'C': 0.9, 'degree': 7, 'epsilon': 0.2, 'kerne...     -19.072527   \n309  {'C': 0.95, 'degree': 7, 'epsilon': 0.2, 'kern...     -19.972305   \n177  {'C': 0.8, 'degree': 7, 'epsilon': 0.1, 'kerne...     -20.231871   \n241  {'C': 0.9, 'degree': 7, 'epsilon': 0.1, 'kerne...     -21.354374   \n305  {'C': 0.95, 'degree': 7, 'epsilon': 0.1, 'kern...     -23.475444   \n\n     std_test_mse  mean_test_mae  std_test_mae  mean_test_mae  std_test_mae  \\\n286      0.464127      -0.633191      0.226168      -0.633191      0.226168   \n318      0.464127      -0.633191      0.226168      -0.633191      0.226168   \n302      0.464127      -0.633191      0.226168      -0.633191      0.226168   \n270      0.464127      -0.633191      0.226168      -0.633191      0.226168   \n266      0.474998      -0.620762      0.215180      -0.620762      0.215180   \n..            ...            ...           ...            ...           ...   \n245     51.236726      -1.805866      2.222888      -1.805866      2.222888   \n309     53.791359      -1.835527      2.285169      -1.835527      2.285169   \n177     54.831901      -1.827268      2.272945      -1.827268      2.272945   \n241     57.881341      -1.875765      2.346241      -1.875765      2.346241   \n305     64.074645      -1.932791      2.481085      -1.932791      2.481085   \n\n     mean_test_r2  std_test_r2  \n286     -0.200529     0.641413  \n318     -0.200529     0.641413  \n302     -0.200529     0.641413  \n270     -0.200529     0.641413  \n266     -0.191195     0.637593  \n..            ...          ...  \n245     26.108459    74.128608  \n309     27.382601    77.827199  \n177     27.889676    79.302336  \n241     29.463824    83.719113  \n305     32.502837    92.679185  \n\n[320 rows x 9 columns]",
      "text/html": "<div>\n<style scoped>\n    .dataframe tbody tr th:only-of-type {\n        vertical-align: middle;\n    }\n\n    .dataframe tbody tr th {\n        vertical-align: top;\n    }\n\n    .dataframe thead th {\n        text-align: right;\n    }\n</style>\n<table border=\"1\" class=\"dataframe\">\n  <thead>\n    <tr style=\"text-align: right;\">\n      <th></th>\n      <th>params</th>\n      <th>mean_test_mse</th>\n      <th>std_test_mse</th>\n      <th>mean_test_mae</th>\n      <th>std_test_mae</th>\n      <th>mean_test_mae</th>\n      <th>std_test_mae</th>\n      <th>mean_test_r2</th>\n      <th>std_test_r2</th>\n    </tr>\n  </thead>\n  <tbody>\n    <tr>\n      <th>286</th>\n      <td>{'C': 0.95, 'degree': 3, 'epsilon': 0.5, 'kern...</td>\n      <td>-0.553488</td>\n      <td>0.464127</td>\n      <td>-0.633191</td>\n      <td>0.226168</td>\n      <td>-0.633191</td>\n      <td>0.226168</td>\n      <td>-0.200529</td>\n      <td>0.641413</td>\n    </tr>\n    <tr>\n      <th>318</th>\n      <td>{'C': 0.95, 'degree': 7, 'epsilon': 0.5, 'kern...</td>\n      <td>-0.553488</td>\n      <td>0.464127</td>\n      <td>-0.633191</td>\n      <td>0.226168</td>\n      <td>-0.633191</td>\n      <td>0.226168</td>\n      <td>-0.200529</td>\n      <td>0.641413</td>\n    </tr>\n    <tr>\n      <th>302</th>\n      <td>{'C': 0.95, 'degree': 5, 'epsilon': 0.5, 'kern...</td>\n      <td>-0.553488</td>\n      <td>0.464127</td>\n      <td>-0.633191</td>\n      <td>0.226168</td>\n      <td>-0.633191</td>\n      <td>0.226168</td>\n      <td>-0.200529</td>\n      <td>0.641413</td>\n    </tr>\n    <tr>\n      <th>270</th>\n      <td>{'C': 0.95, 'degree': 2, 'epsilon': 0.5, 'kern...</td>\n      <td>-0.553488</td>\n      <td>0.464127</td>\n      <td>-0.633191</td>\n      <td>0.226168</td>\n      <td>-0.633191</td>\n      <td>0.226168</td>\n      <td>-0.200529</td>\n      <td>0.641413</td>\n    </tr>\n    <tr>\n      <th>266</th>\n      <td>{'C': 0.95, 'degree': 2, 'epsilon': 0.3, 'kern...</td>\n      <td>-0.557307</td>\n      <td>0.474998</td>\n      <td>-0.620762</td>\n      <td>0.215180</td>\n      <td>-0.620762</td>\n      <td>0.215180</td>\n      <td>-0.191195</td>\n      <td>0.637593</td>\n    </tr>\n    <tr>\n      <th>...</th>\n      <td>...</td>\n      <td>...</td>\n      <td>...</td>\n      <td>...</td>\n      <td>...</td>\n      <td>...</td>\n      <td>...</td>\n      <td>...</td>\n      <td>...</td>\n    </tr>\n    <tr>\n      <th>245</th>\n      <td>{'C': 0.9, 'degree': 7, 'epsilon': 0.2, 'kerne...</td>\n      <td>-19.072527</td>\n      <td>51.236726</td>\n      <td>-1.805866</td>\n      <td>2.222888</td>\n      <td>-1.805866</td>\n      <td>2.222888</td>\n      <td>26.108459</td>\n      <td>74.128608</td>\n    </tr>\n    <tr>\n      <th>309</th>\n      <td>{'C': 0.95, 'degree': 7, 'epsilon': 0.2, 'kern...</td>\n      <td>-19.972305</td>\n      <td>53.791359</td>\n      <td>-1.835527</td>\n      <td>2.285169</td>\n      <td>-1.835527</td>\n      <td>2.285169</td>\n      <td>27.382601</td>\n      <td>77.827199</td>\n    </tr>\n    <tr>\n      <th>177</th>\n      <td>{'C': 0.8, 'degree': 7, 'epsilon': 0.1, 'kerne...</td>\n      <td>-20.231871</td>\n      <td>54.831901</td>\n      <td>-1.827268</td>\n      <td>2.272945</td>\n      <td>-1.827268</td>\n      <td>2.272945</td>\n      <td>27.889676</td>\n      <td>79.302336</td>\n    </tr>\n    <tr>\n      <th>241</th>\n      <td>{'C': 0.9, 'degree': 7, 'epsilon': 0.1, 'kerne...</td>\n      <td>-21.354374</td>\n      <td>57.881341</td>\n      <td>-1.875765</td>\n      <td>2.346241</td>\n      <td>-1.875765</td>\n      <td>2.346241</td>\n      <td>29.463824</td>\n      <td>83.719113</td>\n    </tr>\n    <tr>\n      <th>305</th>\n      <td>{'C': 0.95, 'degree': 7, 'epsilon': 0.1, 'kern...</td>\n      <td>-23.475444</td>\n      <td>64.074645</td>\n      <td>-1.932791</td>\n      <td>2.481085</td>\n      <td>-1.932791</td>\n      <td>2.481085</td>\n      <td>32.502837</td>\n      <td>92.679185</td>\n    </tr>\n  </tbody>\n</table>\n<p>320 rows × 9 columns</p>\n</div>"
     },
     "metadata": {},
     "execution_count": 11
    }
   ],
   "source": [
    "grid_search_df.sort_values('mean_test_mse', ascending=False)"
   ]
  },
  {
   "cell_type": "code",
   "execution_count": 12,
   "metadata": {},
   "outputs": [
    {
     "output_type": "execute_result",
     "data": {
      "text/plain": "array([\"{'C': 0.95, 'degree': 3, 'epsilon': 0.5, 'kernel': 'rbf'}\",\n       \"{'C': 0.95, 'degree': 7, 'epsilon': 0.5, 'kernel': 'rbf'}\",\n       \"{'C': 0.95, 'degree': 5, 'epsilon': 0.5, 'kernel': 'rbf'}\",\n       \"{'C': 0.95, 'degree': 2, 'epsilon': 0.5, 'kernel': 'rbf'}\",\n       \"{'C': 0.95, 'degree': 2, 'epsilon': 0.3, 'kernel': 'rbf'}\",\n       \"{'C': 0.95, 'degree': 5, 'epsilon': 0.3, 'kernel': 'rbf'}\",\n       \"{'C': 0.95, 'degree': 3, 'epsilon': 0.3, 'kernel': 'rbf'}\",\n       \"{'C': 0.95, 'degree': 7, 'epsilon': 0.3, 'kernel': 'rbf'}\",\n       \"{'C': 0.9, 'degree': 5, 'epsilon': 0.5, 'kernel': 'rbf'}\",\n       \"{'C': 0.9, 'degree': 3, 'epsilon': 0.5, 'kernel': 'rbf'}\"],\n      dtype=object)"
     },
     "metadata": {},
     "execution_count": 12
    }
   ],
   "source": [
    "grid_search_df.sort_values('mean_test_mse', ascending=False)[\"params\"].head(10).values\n",
    ""
   ]
  },
  {
   "cell_type": "code",
   "execution_count": null,
   "metadata": {},
   "outputs": [],
   "source": []
  }
 ]
}