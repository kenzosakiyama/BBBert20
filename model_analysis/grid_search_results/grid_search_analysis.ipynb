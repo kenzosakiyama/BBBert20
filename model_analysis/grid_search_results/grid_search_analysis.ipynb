{
 "cells": [
  {
   "cell_type": "code",
   "execution_count": 1,
   "metadata": {},
   "outputs": [],
   "source": [
    "import pandas as pd"
   ]
  },
  {
   "cell_type": "code",
   "execution_count": 2,
   "metadata": {},
   "outputs": [],
   "source": [
    "summary_df = pd.DataFrame(columns=[\"model\", 'params', 'mean_test_mse', 'std_test_mse', 'mean_test_mae', 'std_test_mae', 'mean_test_r2', 'std_test_r2'])"
   ]
  },
  {
   "cell_type": "code",
   "execution_count": 3,
   "metadata": {},
   "outputs": [
    {
     "output_type": "execute_result",
     "data": {
      "text/plain": "Empty DataFrame\nColumns: [model, params, mean_test_mse, std_test_mse, mean_test_mae, std_test_mae, mean_test_r2, std_test_r2]\nIndex: []",
      "text/html": "<div>\n<style scoped>\n    .dataframe tbody tr th:only-of-type {\n        vertical-align: middle;\n    }\n\n    .dataframe tbody tr th {\n        vertical-align: top;\n    }\n\n    .dataframe thead th {\n        text-align: right;\n    }\n</style>\n<table border=\"1\" class=\"dataframe\">\n  <thead>\n    <tr style=\"text-align: right;\">\n      <th></th>\n      <th>model</th>\n      <th>params</th>\n      <th>mean_test_mse</th>\n      <th>std_test_mse</th>\n      <th>mean_test_mae</th>\n      <th>std_test_mae</th>\n      <th>mean_test_r2</th>\n      <th>std_test_r2</th>\n    </tr>\n  </thead>\n  <tbody>\n  </tbody>\n</table>\n</div>"
     },
     "metadata": {},
     "execution_count": 3
    }
   ],
   "source": [
    "summary_df"
   ]
  },
  {
   "cell_type": "markdown",
   "metadata": {},
   "source": [
    "# Random Forest Regressor"
   ]
  },
  {
   "cell_type": "code",
   "execution_count": 4,
   "metadata": {},
   "outputs": [],
   "source": [
    "PATH = 'random_forest_grid_search_results.csv'"
   ]
  },
  {
   "cell_type": "code",
   "execution_count": 5,
   "metadata": {},
   "outputs": [],
   "source": [
    "grid_search_df = pd.read_csv(PATH)"
   ]
  },
  {
   "cell_type": "code",
   "execution_count": 6,
   "metadata": {},
   "outputs": [],
   "source": [
    "grid_search_df[\"model\"] = \"random_forest\"\n",
    "grid_search_df = grid_search_df[[\"model\", 'params', 'mean_test_mse', 'std_test_mse', 'mean_test_mae', 'std_test_mae', 'mean_test_r2', 'std_test_r2']]\n",
    "summary_df = summary_df.append(grid_search_df.sort_values('mean_test_mse', ascending=False).iloc[0], ignore_index=True)"
   ]
  },
  {
   "cell_type": "code",
   "execution_count": 7,
   "metadata": {},
   "outputs": [
    {
     "output_type": "execute_result",
     "data": {
      "text/plain": "            model                                       params  mean_test_mse  \\\n1   random_forest    {'criterion': 'mse', 'n_estimators': 200}      -0.026340   \n3   random_forest   {'criterion': 'mse', 'n_estimators': 1000}      -0.028973   \n4   random_forest   {'criterion': 'mse', 'n_estimators': 2000}      -0.029051   \n5   random_forest   {'criterion': 'mse', 'n_estimators': 3000}      -0.029088   \n6   random_forest   {'criterion': 'mse', 'n_estimators': 5000}      -0.029089   \n7   random_forest  {'criterion': 'mse', 'n_estimators': 10000}      -0.029246   \n10  random_forest    {'criterion': 'mae', 'n_estimators': 500}      -0.029253   \n2   random_forest    {'criterion': 'mse', 'n_estimators': 500}      -0.029312   \n11  random_forest   {'criterion': 'mae', 'n_estimators': 1000}      -0.029526   \n15  random_forest  {'criterion': 'mae', 'n_estimators': 10000}      -0.029756   \n13  random_forest   {'criterion': 'mae', 'n_estimators': 3000}      -0.029840   \n14  random_forest   {'criterion': 'mae', 'n_estimators': 5000}      -0.029916   \n0   random_forest    {'criterion': 'mse', 'n_estimators': 100}      -0.030072   \n12  random_forest   {'criterion': 'mae', 'n_estimators': 2000}      -0.030158   \n9   random_forest    {'criterion': 'mae', 'n_estimators': 200}      -0.030450   \n8   random_forest    {'criterion': 'mae', 'n_estimators': 100}      -0.032700   \n\n    std_test_mse  mean_test_mae  std_test_mae  mean_test_r2  std_test_r2  \n1       0.022693      -0.122613      0.047313     -0.198549     0.870627  \n3       0.025204      -0.125855      0.048919     -0.159578     0.869252  \n4       0.025595      -0.125454      0.050744     -0.138040     0.935708  \n5       0.025732      -0.126526      0.049429     -0.145419     0.911422  \n6       0.025448      -0.126690      0.048594     -0.141120     0.917123  \n7       0.025585      -0.127247      0.049017     -0.137497     0.913778  \n10      0.026764      -0.125825      0.054633     -0.236480     0.758594  \n2       0.025405      -0.127782      0.049279     -0.124592     0.936533  \n11      0.026943      -0.126775      0.054851     -0.233209     0.758088  \n15      0.027722      -0.127528      0.054327     -0.237082     0.733833  \n13      0.028035      -0.127469      0.054360     -0.235836     0.734922  \n14      0.027786      -0.127715      0.054223     -0.230479     0.737499  \n0       0.029069      -0.128516      0.049576     -0.102413     0.953860  \n12      0.027627      -0.128120      0.054903     -0.221652     0.757601  \n9       0.027215      -0.129075      0.052268     -0.192743     0.752105  \n8       0.029416      -0.134721      0.055167     -0.137740     0.791969  ",
      "text/html": "<div>\n<style scoped>\n    .dataframe tbody tr th:only-of-type {\n        vertical-align: middle;\n    }\n\n    .dataframe tbody tr th {\n        vertical-align: top;\n    }\n\n    .dataframe thead th {\n        text-align: right;\n    }\n</style>\n<table border=\"1\" class=\"dataframe\">\n  <thead>\n    <tr style=\"text-align: right;\">\n      <th></th>\n      <th>model</th>\n      <th>params</th>\n      <th>mean_test_mse</th>\n      <th>std_test_mse</th>\n      <th>mean_test_mae</th>\n      <th>std_test_mae</th>\n      <th>mean_test_r2</th>\n      <th>std_test_r2</th>\n    </tr>\n  </thead>\n  <tbody>\n    <tr>\n      <th>1</th>\n      <td>random_forest</td>\n      <td>{'criterion': 'mse', 'n_estimators': 200}</td>\n      <td>-0.026340</td>\n      <td>0.022693</td>\n      <td>-0.122613</td>\n      <td>0.047313</td>\n      <td>-0.198549</td>\n      <td>0.870627</td>\n    </tr>\n    <tr>\n      <th>3</th>\n      <td>random_forest</td>\n      <td>{'criterion': 'mse', 'n_estimators': 1000}</td>\n      <td>-0.028973</td>\n      <td>0.025204</td>\n      <td>-0.125855</td>\n      <td>0.048919</td>\n      <td>-0.159578</td>\n      <td>0.869252</td>\n    </tr>\n    <tr>\n      <th>4</th>\n      <td>random_forest</td>\n      <td>{'criterion': 'mse', 'n_estimators': 2000}</td>\n      <td>-0.029051</td>\n      <td>0.025595</td>\n      <td>-0.125454</td>\n      <td>0.050744</td>\n      <td>-0.138040</td>\n      <td>0.935708</td>\n    </tr>\n    <tr>\n      <th>5</th>\n      <td>random_forest</td>\n      <td>{'criterion': 'mse', 'n_estimators': 3000}</td>\n      <td>-0.029088</td>\n      <td>0.025732</td>\n      <td>-0.126526</td>\n      <td>0.049429</td>\n      <td>-0.145419</td>\n      <td>0.911422</td>\n    </tr>\n    <tr>\n      <th>6</th>\n      <td>random_forest</td>\n      <td>{'criterion': 'mse', 'n_estimators': 5000}</td>\n      <td>-0.029089</td>\n      <td>0.025448</td>\n      <td>-0.126690</td>\n      <td>0.048594</td>\n      <td>-0.141120</td>\n      <td>0.917123</td>\n    </tr>\n    <tr>\n      <th>7</th>\n      <td>random_forest</td>\n      <td>{'criterion': 'mse', 'n_estimators': 10000}</td>\n      <td>-0.029246</td>\n      <td>0.025585</td>\n      <td>-0.127247</td>\n      <td>0.049017</td>\n      <td>-0.137497</td>\n      <td>0.913778</td>\n    </tr>\n    <tr>\n      <th>10</th>\n      <td>random_forest</td>\n      <td>{'criterion': 'mae', 'n_estimators': 500}</td>\n      <td>-0.029253</td>\n      <td>0.026764</td>\n      <td>-0.125825</td>\n      <td>0.054633</td>\n      <td>-0.236480</td>\n      <td>0.758594</td>\n    </tr>\n    <tr>\n      <th>2</th>\n      <td>random_forest</td>\n      <td>{'criterion': 'mse', 'n_estimators': 500}</td>\n      <td>-0.029312</td>\n      <td>0.025405</td>\n      <td>-0.127782</td>\n      <td>0.049279</td>\n      <td>-0.124592</td>\n      <td>0.936533</td>\n    </tr>\n    <tr>\n      <th>11</th>\n      <td>random_forest</td>\n      <td>{'criterion': 'mae', 'n_estimators': 1000}</td>\n      <td>-0.029526</td>\n      <td>0.026943</td>\n      <td>-0.126775</td>\n      <td>0.054851</td>\n      <td>-0.233209</td>\n      <td>0.758088</td>\n    </tr>\n    <tr>\n      <th>15</th>\n      <td>random_forest</td>\n      <td>{'criterion': 'mae', 'n_estimators': 10000}</td>\n      <td>-0.029756</td>\n      <td>0.027722</td>\n      <td>-0.127528</td>\n      <td>0.054327</td>\n      <td>-0.237082</td>\n      <td>0.733833</td>\n    </tr>\n    <tr>\n      <th>13</th>\n      <td>random_forest</td>\n      <td>{'criterion': 'mae', 'n_estimators': 3000}</td>\n      <td>-0.029840</td>\n      <td>0.028035</td>\n      <td>-0.127469</td>\n      <td>0.054360</td>\n      <td>-0.235836</td>\n      <td>0.734922</td>\n    </tr>\n    <tr>\n      <th>14</th>\n      <td>random_forest</td>\n      <td>{'criterion': 'mae', 'n_estimators': 5000}</td>\n      <td>-0.029916</td>\n      <td>0.027786</td>\n      <td>-0.127715</td>\n      <td>0.054223</td>\n      <td>-0.230479</td>\n      <td>0.737499</td>\n    </tr>\n    <tr>\n      <th>0</th>\n      <td>random_forest</td>\n      <td>{'criterion': 'mse', 'n_estimators': 100}</td>\n      <td>-0.030072</td>\n      <td>0.029069</td>\n      <td>-0.128516</td>\n      <td>0.049576</td>\n      <td>-0.102413</td>\n      <td>0.953860</td>\n    </tr>\n    <tr>\n      <th>12</th>\n      <td>random_forest</td>\n      <td>{'criterion': 'mae', 'n_estimators': 2000}</td>\n      <td>-0.030158</td>\n      <td>0.027627</td>\n      <td>-0.128120</td>\n      <td>0.054903</td>\n      <td>-0.221652</td>\n      <td>0.757601</td>\n    </tr>\n    <tr>\n      <th>9</th>\n      <td>random_forest</td>\n      <td>{'criterion': 'mae', 'n_estimators': 200}</td>\n      <td>-0.030450</td>\n      <td>0.027215</td>\n      <td>-0.129075</td>\n      <td>0.052268</td>\n      <td>-0.192743</td>\n      <td>0.752105</td>\n    </tr>\n    <tr>\n      <th>8</th>\n      <td>random_forest</td>\n      <td>{'criterion': 'mae', 'n_estimators': 100}</td>\n      <td>-0.032700</td>\n      <td>0.029416</td>\n      <td>-0.134721</td>\n      <td>0.055167</td>\n      <td>-0.137740</td>\n      <td>0.791969</td>\n    </tr>\n  </tbody>\n</table>\n</div>"
     },
     "metadata": {},
     "execution_count": 7
    }
   ],
   "source": [
    "grid_search_df.sort_values('mean_test_mse', ascending=False)"
   ]
  },
  {
   "cell_type": "markdown",
   "metadata": {},
   "source": [
    "# Ada Boost Regressor"
   ]
  },
  {
   "cell_type": "code",
   "execution_count": 8,
   "metadata": {},
   "outputs": [],
   "source": [
    "PATH = 'ada_boost_grid_search_results.csv'\n",
    ""
   ]
  },
  {
   "cell_type": "code",
   "execution_count": 9,
   "metadata": {},
   "outputs": [],
   "source": [
    "grid_search_df = pd.read_csv(PATH)\n",
    "grid_search_df[\"model\"] = \"ada_boost\"\n",
    "grid_search_df = grid_search_df[[\"model\", 'params', 'mean_test_mse', 'std_test_mse', 'mean_test_mae', 'std_test_mae', 'mean_test_r2', 'std_test_r2']]\n",
    "summary_df = summary_df.append(grid_search_df.sort_values('mean_test_mse', ascending=False).iloc[0], ignore_index=True)"
   ]
  },
  {
   "cell_type": "code",
   "execution_count": 10,
   "metadata": {},
   "outputs": [
    {
     "output_type": "execute_result",
     "data": {
      "text/plain": "         model                                             params  \\\n528  ada_boost  {'learning_rate': 0.85, 'loss': 'linear', 'n_e...   \n89   ada_boost  {'learning_rate': 0.15, 'loss': 'exponential',...   \n573  ada_boost  {'learning_rate': 0.9, 'loss': 'square', 'n_es...   \n275  ada_boost  {'learning_rate': 0.45, 'loss': 'square', 'n_e...   \n385  ada_boost  {'learning_rate': 0.6, 'loss': 'exponential', ...   \n..         ...                                                ...   \n308  ada_boost  {'learning_rate': 0.5, 'loss': 'square', 'n_es...   \n506  ada_boost  {'learning_rate': 0.8, 'loss': 'square', 'n_es...   \n396  ada_boost  {'learning_rate': 0.65, 'loss': 'linear', 'n_e...   \n572  ada_boost  {'learning_rate': 0.9, 'loss': 'square', 'n_es...   \n297  ada_boost  {'learning_rate': 0.5, 'loss': 'linear', 'n_es...   \n\n     mean_test_mse  std_test_mse  mean_test_mae  std_test_mae  mean_test_r2  \\\n528      -0.027043      0.032261      -0.113568      0.053783     -0.146074   \n89       -0.029415      0.035894      -0.116083      0.056927     -0.219867   \n573      -0.030277      0.027968      -0.122273      0.051699     -0.234810   \n275      -0.030436      0.036746      -0.115717      0.057499     -0.068349   \n385      -0.031385      0.037077      -0.120937      0.065015     -0.041635   \n..             ...           ...            ...           ...           ...   \n308      -0.048322      0.046955      -0.148224      0.072119      0.307741   \n506      -0.048335      0.049576      -0.155613      0.070705      0.570691   \n396      -0.049775      0.055696      -0.154032      0.091463      0.429259   \n572      -0.050449      0.049166      -0.167312      0.069836      0.689408   \n297      -0.054303      0.060891      -0.158060      0.094217      0.755671   \n\n     std_test_r2  \n528     1.093354  \n89      0.891856  \n573     0.720333  \n275     1.106890  \n385     1.167066  \n..           ...  \n308     1.733358  \n506     1.881986  \n396     1.905467  \n572     1.909932  \n297     2.338470  \n\n[660 rows x 8 columns]",
      "text/html": "<div>\n<style scoped>\n    .dataframe tbody tr th:only-of-type {\n        vertical-align: middle;\n    }\n\n    .dataframe tbody tr th {\n        vertical-align: top;\n    }\n\n    .dataframe thead th {\n        text-align: right;\n    }\n</style>\n<table border=\"1\" class=\"dataframe\">\n  <thead>\n    <tr style=\"text-align: right;\">\n      <th></th>\n      <th>model</th>\n      <th>params</th>\n      <th>mean_test_mse</th>\n      <th>std_test_mse</th>\n      <th>mean_test_mae</th>\n      <th>std_test_mae</th>\n      <th>mean_test_r2</th>\n      <th>std_test_r2</th>\n    </tr>\n  </thead>\n  <tbody>\n    <tr>\n      <th>528</th>\n      <td>ada_boost</td>\n      <td>{'learning_rate': 0.85, 'loss': 'linear', 'n_e...</td>\n      <td>-0.027043</td>\n      <td>0.032261</td>\n      <td>-0.113568</td>\n      <td>0.053783</td>\n      <td>-0.146074</td>\n      <td>1.093354</td>\n    </tr>\n    <tr>\n      <th>89</th>\n      <td>ada_boost</td>\n      <td>{'learning_rate': 0.15, 'loss': 'exponential',...</td>\n      <td>-0.029415</td>\n      <td>0.035894</td>\n      <td>-0.116083</td>\n      <td>0.056927</td>\n      <td>-0.219867</td>\n      <td>0.891856</td>\n    </tr>\n    <tr>\n      <th>573</th>\n      <td>ada_boost</td>\n      <td>{'learning_rate': 0.9, 'loss': 'square', 'n_es...</td>\n      <td>-0.030277</td>\n      <td>0.027968</td>\n      <td>-0.122273</td>\n      <td>0.051699</td>\n      <td>-0.234810</td>\n      <td>0.720333</td>\n    </tr>\n    <tr>\n      <th>275</th>\n      <td>ada_boost</td>\n      <td>{'learning_rate': 0.45, 'loss': 'square', 'n_e...</td>\n      <td>-0.030436</td>\n      <td>0.036746</td>\n      <td>-0.115717</td>\n      <td>0.057499</td>\n      <td>-0.068349</td>\n      <td>1.106890</td>\n    </tr>\n    <tr>\n      <th>385</th>\n      <td>ada_boost</td>\n      <td>{'learning_rate': 0.6, 'loss': 'exponential', ...</td>\n      <td>-0.031385</td>\n      <td>0.037077</td>\n      <td>-0.120937</td>\n      <td>0.065015</td>\n      <td>-0.041635</td>\n      <td>1.167066</td>\n    </tr>\n    <tr>\n      <th>...</th>\n      <td>...</td>\n      <td>...</td>\n      <td>...</td>\n      <td>...</td>\n      <td>...</td>\n      <td>...</td>\n      <td>...</td>\n      <td>...</td>\n    </tr>\n    <tr>\n      <th>308</th>\n      <td>ada_boost</td>\n      <td>{'learning_rate': 0.5, 'loss': 'square', 'n_es...</td>\n      <td>-0.048322</td>\n      <td>0.046955</td>\n      <td>-0.148224</td>\n      <td>0.072119</td>\n      <td>0.307741</td>\n      <td>1.733358</td>\n    </tr>\n    <tr>\n      <th>506</th>\n      <td>ada_boost</td>\n      <td>{'learning_rate': 0.8, 'loss': 'square', 'n_es...</td>\n      <td>-0.048335</td>\n      <td>0.049576</td>\n      <td>-0.155613</td>\n      <td>0.070705</td>\n      <td>0.570691</td>\n      <td>1.881986</td>\n    </tr>\n    <tr>\n      <th>396</th>\n      <td>ada_boost</td>\n      <td>{'learning_rate': 0.65, 'loss': 'linear', 'n_e...</td>\n      <td>-0.049775</td>\n      <td>0.055696</td>\n      <td>-0.154032</td>\n      <td>0.091463</td>\n      <td>0.429259</td>\n      <td>1.905467</td>\n    </tr>\n    <tr>\n      <th>572</th>\n      <td>ada_boost</td>\n      <td>{'learning_rate': 0.9, 'loss': 'square', 'n_es...</td>\n      <td>-0.050449</td>\n      <td>0.049166</td>\n      <td>-0.167312</td>\n      <td>0.069836</td>\n      <td>0.689408</td>\n      <td>1.909932</td>\n    </tr>\n    <tr>\n      <th>297</th>\n      <td>ada_boost</td>\n      <td>{'learning_rate': 0.5, 'loss': 'linear', 'n_es...</td>\n      <td>-0.054303</td>\n      <td>0.060891</td>\n      <td>-0.158060</td>\n      <td>0.094217</td>\n      <td>0.755671</td>\n      <td>2.338470</td>\n    </tr>\n  </tbody>\n</table>\n<p>660 rows × 8 columns</p>\n</div>"
     },
     "metadata": {},
     "execution_count": 10
    }
   ],
   "source": [
    "grid_search_df.sort_values('mean_test_mse', ascending=False)"
   ]
  },
  {
   "cell_type": "code",
   "execution_count": 11,
   "metadata": {},
   "outputs": [
    {
     "output_type": "execute_result",
     "data": {
      "text/plain": "array([\"{'learning_rate': 0.85, 'loss': 'linear', 'n_estimators': 10}\",\n       \"{'learning_rate': 0.15, 'loss': 'exponential', 'n_estimators': 20}\",\n       \"{'learning_rate': 0.9, 'loss': 'square', 'n_estimators': 20}\",\n       \"{'learning_rate': 0.45, 'loss': 'square', 'n_estimators': 10}\",\n       \"{'learning_rate': 0.6, 'loss': 'exponential', 'n_estimators': 10}\",\n       \"{'learning_rate': 0.7, 'loss': 'linear', 'n_estimators': 20}\",\n       \"{'learning_rate': 0.65, 'loss': 'exponential', 'n_estimators': 10}\",\n       \"{'learning_rate': 0.85, 'loss': 'square', 'n_estimators': 100}\",\n       \"{'learning_rate': 0.35, 'loss': 'linear', 'n_estimators': 20}\",\n       \"{'learning_rate': 0.25, 'loss': 'exponential', 'n_estimators': 50}\",\n       \"{'learning_rate': 0.1, 'loss': 'exponential', 'n_estimators': 50}\",\n       \"{'learning_rate': 0.6, 'loss': 'linear', 'n_estimators': 10}\",\n       \"{'learning_rate': 0.25, 'loss': 'square', 'n_estimators': 100}\",\n       \"{'learning_rate': 0.2, 'loss': 'linear', 'n_estimators': 20}\",\n       \"{'learning_rate': 0.05, 'loss': 'square', 'n_estimators': 100}\",\n       \"{'learning_rate': 0.85, 'loss': 'square', 'n_estimators': 20}\",\n       \"{'learning_rate': 1.0, 'loss': 'exponential', 'n_estimators': 100}\",\n       \"{'learning_rate': 0.8, 'loss': 'square', 'n_estimators': 500}\",\n       \"{'learning_rate': 0.6, 'loss': 'linear', 'n_estimators': 50}\",\n       \"{'learning_rate': 0.4, 'loss': 'exponential', 'n_estimators': 50}\"],\n      dtype=object)"
     },
     "metadata": {},
     "execution_count": 11
    }
   ],
   "source": [
    "grid_search_df.sort_values('mean_test_mse', ascending=False).head(20).params.values"
   ]
  },
  {
   "cell_type": "markdown",
   "metadata": {},
   "source": [
    "# SVM Regressor"
   ]
  },
  {
   "cell_type": "code",
   "execution_count": 12,
   "metadata": {},
   "outputs": [],
   "source": [
    "PATH = 'svr_grid_search_results.csv'\n"
   ]
  },
  {
   "cell_type": "code",
   "execution_count": 13,
   "metadata": {},
   "outputs": [],
   "source": [
    "grid_search_df = pd.read_csv(PATH)\n",
    "grid_search_df[\"model\"] = \"svm\"\n",
    "grid_search_df = grid_search_df[[\"model\", 'params', 'mean_test_mse', 'std_test_mse', 'mean_test_mae', 'std_test_mae', 'mean_test_r2', 'std_test_r2']]\n",
    "summary_df = summary_df.append(grid_search_df.sort_values('mean_test_mse', ascending=False).iloc[0], ignore_index=True)"
   ]
  },
  {
   "cell_type": "code",
   "execution_count": 14,
   "metadata": {},
   "outputs": [
    {
     "output_type": "execute_result",
     "data": {
      "text/plain": "       model                                             params  \\\n332242   svm  {'C': 4, 'degree': 4, 'epsilon': 0.1, 'gamma':...   \n340402   svm  {'C': 4, 'degree': 7, 'epsilon': 0.1, 'gamma':...   \n329522   svm  {'C': 4, 'degree': 3, 'epsilon': 0.1, 'gamma':...   \n326802   svm  {'C': 4, 'degree': 2, 'epsilon': 0.1, 'gamma':...   \n334962   svm  {'C': 4, 'degree': 5, 'epsilon': 0.1, 'gamma':...   \n337682   svm  {'C': 4, 'degree': 6, 'epsilon': 0.1, 'gamma':...   \n313202   svm  {'C': 3.5, 'degree': 3, 'epsilon': 0.1, 'gamma...   \n318642   svm  {'C': 3.5, 'degree': 5, 'epsilon': 0.1, 'gamma...   \n324082   svm  {'C': 3.5, 'degree': 7, 'epsilon': 0.1, 'gamma...   \n315922   svm  {'C': 3.5, 'degree': 4, 'epsilon': 0.1, 'gamma...   \n310482   svm  {'C': 3.5, 'degree': 2, 'epsilon': 0.1, 'gamma...   \n321362   svm  {'C': 3.5, 'degree': 6, 'epsilon': 0.1, 'gamma...   \n332238   svm  {'C': 4, 'degree': 4, 'epsilon': 0.1, 'gamma':...   \n337678   svm  {'C': 4, 'degree': 6, 'epsilon': 0.1, 'gamma':...   \n340398   svm  {'C': 4, 'degree': 7, 'epsilon': 0.1, 'gamma':...   \n326798   svm  {'C': 4, 'degree': 2, 'epsilon': 0.1, 'gamma':...   \n334958   svm  {'C': 4, 'degree': 5, 'epsilon': 0.1, 'gamma':...   \n329518   svm  {'C': 4, 'degree': 3, 'epsilon': 0.1, 'gamma':...   \n353994   svm  {'C': 4.5, 'degree': 6, 'epsilon': 0.1, 'gamma...   \n343114   svm  {'C': 4.5, 'degree': 2, 'epsilon': 0.1, 'gamma...   \n\n        mean_test_mse  std_test_mse  mean_test_mae  std_test_mae  \\\n332242      -0.042424      0.027668      -0.166027      0.048478   \n340402      -0.042424      0.027668      -0.166027      0.048478   \n329522      -0.042424      0.027668      -0.166027      0.048478   \n326802      -0.042424      0.027668      -0.166027      0.048478   \n334962      -0.042424      0.027668      -0.166027      0.048478   \n337682      -0.042424      0.027668      -0.166027      0.048478   \n313202      -0.042477      0.027289      -0.166410      0.048879   \n318642      -0.042477      0.027289      -0.166410      0.048879   \n324082      -0.042477      0.027289      -0.166410      0.048879   \n315922      -0.042477      0.027289      -0.166410      0.048879   \n310482      -0.042477      0.027289      -0.166410      0.048879   \n321362      -0.042477      0.027289      -0.166410      0.048879   \n332238      -0.042479      0.026931      -0.166791      0.047974   \n337678      -0.042479      0.026931      -0.166791      0.047974   \n340398      -0.042479      0.026931      -0.166791      0.047974   \n326798      -0.042479      0.026931      -0.166791      0.047974   \n334958      -0.042479      0.026931      -0.166791      0.047974   \n329518      -0.042479      0.026931      -0.166791      0.047974   \n353994      -0.042489      0.026767      -0.166821      0.047294   \n343114      -0.042489      0.026767      -0.166821      0.047294   \n\n        mean_test_r2  std_test_r2  \n332242      0.185212     1.615905  \n340402      0.185212     1.615905  \n329522      0.185212     1.615905  \n326802      0.185212     1.615905  \n334962      0.185212     1.615905  \n337682      0.185212     1.615905  \n313202      0.167724     1.562479  \n318642      0.167724     1.562479  \n324082      0.167724     1.562479  \n315922      0.167724     1.562479  \n310482      0.167724     1.562479  \n321362      0.167724     1.562479  \n332238      0.214771     1.685674  \n337678      0.214771     1.685674  \n340398      0.214771     1.685674  \n326798      0.214771     1.685674  \n334958      0.214771     1.685674  \n329518      0.214771     1.685674  \n353994      0.260389     1.800788  \n343114      0.260389     1.800788  ",
      "text/html": "<div>\n<style scoped>\n    .dataframe tbody tr th:only-of-type {\n        vertical-align: middle;\n    }\n\n    .dataframe tbody tr th {\n        vertical-align: top;\n    }\n\n    .dataframe thead th {\n        text-align: right;\n    }\n</style>\n<table border=\"1\" class=\"dataframe\">\n  <thead>\n    <tr style=\"text-align: right;\">\n      <th></th>\n      <th>model</th>\n      <th>params</th>\n      <th>mean_test_mse</th>\n      <th>std_test_mse</th>\n      <th>mean_test_mae</th>\n      <th>std_test_mae</th>\n      <th>mean_test_r2</th>\n      <th>std_test_r2</th>\n    </tr>\n  </thead>\n  <tbody>\n    <tr>\n      <th>332242</th>\n      <td>svm</td>\n      <td>{'C': 4, 'degree': 4, 'epsilon': 0.1, 'gamma':...</td>\n      <td>-0.042424</td>\n      <td>0.027668</td>\n      <td>-0.166027</td>\n      <td>0.048478</td>\n      <td>0.185212</td>\n      <td>1.615905</td>\n    </tr>\n    <tr>\n      <th>340402</th>\n      <td>svm</td>\n      <td>{'C': 4, 'degree': 7, 'epsilon': 0.1, 'gamma':...</td>\n      <td>-0.042424</td>\n      <td>0.027668</td>\n      <td>-0.166027</td>\n      <td>0.048478</td>\n      <td>0.185212</td>\n      <td>1.615905</td>\n    </tr>\n    <tr>\n      <th>329522</th>\n      <td>svm</td>\n      <td>{'C': 4, 'degree': 3, 'epsilon': 0.1, 'gamma':...</td>\n      <td>-0.042424</td>\n      <td>0.027668</td>\n      <td>-0.166027</td>\n      <td>0.048478</td>\n      <td>0.185212</td>\n      <td>1.615905</td>\n    </tr>\n    <tr>\n      <th>326802</th>\n      <td>svm</td>\n      <td>{'C': 4, 'degree': 2, 'epsilon': 0.1, 'gamma':...</td>\n      <td>-0.042424</td>\n      <td>0.027668</td>\n      <td>-0.166027</td>\n      <td>0.048478</td>\n      <td>0.185212</td>\n      <td>1.615905</td>\n    </tr>\n    <tr>\n      <th>334962</th>\n      <td>svm</td>\n      <td>{'C': 4, 'degree': 5, 'epsilon': 0.1, 'gamma':...</td>\n      <td>-0.042424</td>\n      <td>0.027668</td>\n      <td>-0.166027</td>\n      <td>0.048478</td>\n      <td>0.185212</td>\n      <td>1.615905</td>\n    </tr>\n    <tr>\n      <th>337682</th>\n      <td>svm</td>\n      <td>{'C': 4, 'degree': 6, 'epsilon': 0.1, 'gamma':...</td>\n      <td>-0.042424</td>\n      <td>0.027668</td>\n      <td>-0.166027</td>\n      <td>0.048478</td>\n      <td>0.185212</td>\n      <td>1.615905</td>\n    </tr>\n    <tr>\n      <th>313202</th>\n      <td>svm</td>\n      <td>{'C': 3.5, 'degree': 3, 'epsilon': 0.1, 'gamma...</td>\n      <td>-0.042477</td>\n      <td>0.027289</td>\n      <td>-0.166410</td>\n      <td>0.048879</td>\n      <td>0.167724</td>\n      <td>1.562479</td>\n    </tr>\n    <tr>\n      <th>318642</th>\n      <td>svm</td>\n      <td>{'C': 3.5, 'degree': 5, 'epsilon': 0.1, 'gamma...</td>\n      <td>-0.042477</td>\n      <td>0.027289</td>\n      <td>-0.166410</td>\n      <td>0.048879</td>\n      <td>0.167724</td>\n      <td>1.562479</td>\n    </tr>\n    <tr>\n      <th>324082</th>\n      <td>svm</td>\n      <td>{'C': 3.5, 'degree': 7, 'epsilon': 0.1, 'gamma...</td>\n      <td>-0.042477</td>\n      <td>0.027289</td>\n      <td>-0.166410</td>\n      <td>0.048879</td>\n      <td>0.167724</td>\n      <td>1.562479</td>\n    </tr>\n    <tr>\n      <th>315922</th>\n      <td>svm</td>\n      <td>{'C': 3.5, 'degree': 4, 'epsilon': 0.1, 'gamma...</td>\n      <td>-0.042477</td>\n      <td>0.027289</td>\n      <td>-0.166410</td>\n      <td>0.048879</td>\n      <td>0.167724</td>\n      <td>1.562479</td>\n    </tr>\n    <tr>\n      <th>310482</th>\n      <td>svm</td>\n      <td>{'C': 3.5, 'degree': 2, 'epsilon': 0.1, 'gamma...</td>\n      <td>-0.042477</td>\n      <td>0.027289</td>\n      <td>-0.166410</td>\n      <td>0.048879</td>\n      <td>0.167724</td>\n      <td>1.562479</td>\n    </tr>\n    <tr>\n      <th>321362</th>\n      <td>svm</td>\n      <td>{'C': 3.5, 'degree': 6, 'epsilon': 0.1, 'gamma...</td>\n      <td>-0.042477</td>\n      <td>0.027289</td>\n      <td>-0.166410</td>\n      <td>0.048879</td>\n      <td>0.167724</td>\n      <td>1.562479</td>\n    </tr>\n    <tr>\n      <th>332238</th>\n      <td>svm</td>\n      <td>{'C': 4, 'degree': 4, 'epsilon': 0.1, 'gamma':...</td>\n      <td>-0.042479</td>\n      <td>0.026931</td>\n      <td>-0.166791</td>\n      <td>0.047974</td>\n      <td>0.214771</td>\n      <td>1.685674</td>\n    </tr>\n    <tr>\n      <th>337678</th>\n      <td>svm</td>\n      <td>{'C': 4, 'degree': 6, 'epsilon': 0.1, 'gamma':...</td>\n      <td>-0.042479</td>\n      <td>0.026931</td>\n      <td>-0.166791</td>\n      <td>0.047974</td>\n      <td>0.214771</td>\n      <td>1.685674</td>\n    </tr>\n    <tr>\n      <th>340398</th>\n      <td>svm</td>\n      <td>{'C': 4, 'degree': 7, 'epsilon': 0.1, 'gamma':...</td>\n      <td>-0.042479</td>\n      <td>0.026931</td>\n      <td>-0.166791</td>\n      <td>0.047974</td>\n      <td>0.214771</td>\n      <td>1.685674</td>\n    </tr>\n    <tr>\n      <th>326798</th>\n      <td>svm</td>\n      <td>{'C': 4, 'degree': 2, 'epsilon': 0.1, 'gamma':...</td>\n      <td>-0.042479</td>\n      <td>0.026931</td>\n      <td>-0.166791</td>\n      <td>0.047974</td>\n      <td>0.214771</td>\n      <td>1.685674</td>\n    </tr>\n    <tr>\n      <th>334958</th>\n      <td>svm</td>\n      <td>{'C': 4, 'degree': 5, 'epsilon': 0.1, 'gamma':...</td>\n      <td>-0.042479</td>\n      <td>0.026931</td>\n      <td>-0.166791</td>\n      <td>0.047974</td>\n      <td>0.214771</td>\n      <td>1.685674</td>\n    </tr>\n    <tr>\n      <th>329518</th>\n      <td>svm</td>\n      <td>{'C': 4, 'degree': 3, 'epsilon': 0.1, 'gamma':...</td>\n      <td>-0.042479</td>\n      <td>0.026931</td>\n      <td>-0.166791</td>\n      <td>0.047974</td>\n      <td>0.214771</td>\n      <td>1.685674</td>\n    </tr>\n    <tr>\n      <th>353994</th>\n      <td>svm</td>\n      <td>{'C': 4.5, 'degree': 6, 'epsilon': 0.1, 'gamma...</td>\n      <td>-0.042489</td>\n      <td>0.026767</td>\n      <td>-0.166821</td>\n      <td>0.047294</td>\n      <td>0.260389</td>\n      <td>1.800788</td>\n    </tr>\n    <tr>\n      <th>343114</th>\n      <td>svm</td>\n      <td>{'C': 4.5, 'degree': 2, 'epsilon': 0.1, 'gamma...</td>\n      <td>-0.042489</td>\n      <td>0.026767</td>\n      <td>-0.166821</td>\n      <td>0.047294</td>\n      <td>0.260389</td>\n      <td>1.800788</td>\n    </tr>\n  </tbody>\n</table>\n</div>"
     },
     "metadata": {},
     "execution_count": 14
    }
   ],
   "source": [
    "grid_search_df.sort_values('mean_test_mse', ascending=False).head(20)"
   ]
  },
  {
   "cell_type": "code",
   "execution_count": 15,
   "metadata": {},
   "outputs": [
    {
     "output_type": "execute_result",
     "data": {
      "text/plain": "array([\"{'C': 4, 'degree': 4, 'epsilon': 0.1, 'gamma': 2.1, 'kernel': 'rbf'}\",\n       \"{'C': 4, 'degree': 7, 'epsilon': 0.1, 'gamma': 2.1, 'kernel': 'rbf'}\",\n       \"{'C': 4, 'degree': 3, 'epsilon': 0.1, 'gamma': 2.1, 'kernel': 'rbf'}\",\n       \"{'C': 4, 'degree': 2, 'epsilon': 0.1, 'gamma': 2.1, 'kernel': 'rbf'}\",\n       \"{'C': 4, 'degree': 5, 'epsilon': 0.1, 'gamma': 2.1, 'kernel': 'rbf'}\",\n       \"{'C': 4, 'degree': 6, 'epsilon': 0.1, 'gamma': 2.1, 'kernel': 'rbf'}\",\n       \"{'C': 3.5, 'degree': 3, 'epsilon': 0.1, 'gamma': 2.1, 'kernel': 'rbf'}\",\n       \"{'C': 3.5, 'degree': 5, 'epsilon': 0.1, 'gamma': 2.1, 'kernel': 'rbf'}\",\n       \"{'C': 3.5, 'degree': 7, 'epsilon': 0.1, 'gamma': 2.1, 'kernel': 'rbf'}\",\n       \"{'C': 3.5, 'degree': 4, 'epsilon': 0.1, 'gamma': 2.1, 'kernel': 'rbf'}\",\n       \"{'C': 3.5, 'degree': 2, 'epsilon': 0.1, 'gamma': 2.1, 'kernel': 'rbf'}\",\n       \"{'C': 3.5, 'degree': 6, 'epsilon': 0.1, 'gamma': 2.1, 'kernel': 'rbf'}\",\n       \"{'C': 4, 'degree': 4, 'epsilon': 0.1, 'gamma': 2, 'kernel': 'rbf'}\",\n       \"{'C': 4, 'degree': 6, 'epsilon': 0.1, 'gamma': 2, 'kernel': 'rbf'}\",\n       \"{'C': 4, 'degree': 7, 'epsilon': 0.1, 'gamma': 2, 'kernel': 'rbf'}\",\n       \"{'C': 4, 'degree': 2, 'epsilon': 0.1, 'gamma': 2, 'kernel': 'rbf'}\",\n       \"{'C': 4, 'degree': 5, 'epsilon': 0.1, 'gamma': 2, 'kernel': 'rbf'}\",\n       \"{'C': 4, 'degree': 3, 'epsilon': 0.1, 'gamma': 2, 'kernel': 'rbf'}\",\n       \"{'C': 4.5, 'degree': 6, 'epsilon': 0.1, 'gamma': 1.9, 'kernel': 'rbf'}\",\n       \"{'C': 4.5, 'degree': 2, 'epsilon': 0.1, 'gamma': 1.9, 'kernel': 'rbf'}\"],\n      dtype=object)"
     },
     "metadata": {},
     "execution_count": 15
    }
   ],
   "source": [
    "grid_search_df.sort_values('mean_test_mse', ascending=False)[\"params\"].head(20).values\n"
   ]
  },
  {
   "cell_type": "markdown",
   "metadata": {},
   "source": [
    "# KNN Regressor"
   ]
  },
  {
   "cell_type": "code",
   "execution_count": 16,
   "metadata": {},
   "outputs": [],
   "source": [
    "PATH = 'knn_grid_search_results.csv'\n"
   ]
  },
  {
   "cell_type": "code",
   "execution_count": 17,
   "metadata": {},
   "outputs": [],
   "source": [
    "grid_search_df = pd.read_csv(PATH)\n",
    "grid_search_df[\"model\"] = \"knn\"\n",
    "grid_search_df = grid_search_df[[\"model\", 'params', 'mean_test_mse', 'std_test_mse', 'mean_test_mae', 'std_test_mae', 'mean_test_r2', 'std_test_r2']]\n",
    "summary_df = summary_df.append(grid_search_df.sort_values('mean_test_mse', ascending=False).iloc[0], ignore_index=True)"
   ]
  },
  {
   "cell_type": "code",
   "execution_count": 18,
   "metadata": {},
   "outputs": [
    {
     "output_type": "execute_result",
     "data": {
      "text/plain": "    model                                             params  mean_test_mse  \\\n8     knn  {'metric': 'minkowski', 'n_neighbors': 3, 'p': 2}      -0.068738   \n21    knn  {'metric': 'minkowski', 'n_neighbors': 7, 'p': 1}      -0.070097   \n14    knn  {'metric': 'minkowski', 'n_neighbors': 5, 'p': 1}      -0.070216   \n35    knn  {'metric': 'minkowski', 'n_neighbors': 11, 'p'...      -0.077334   \n15    knn  {'metric': 'minkowski', 'n_neighbors': 5, 'p': 2}      -0.077951   \n..    ...                                                ...            ...   \n121   knn  {'metric': 'mahalanobis', 'n_neighbors': 11, '...            NaN   \n122   knn  {'metric': 'mahalanobis', 'n_neighbors': 11, '...            NaN   \n123   knn  {'metric': 'mahalanobis', 'n_neighbors': 11, '...            NaN   \n124   knn  {'metric': 'mahalanobis', 'n_neighbors': 11, '...            NaN   \n125   knn  {'metric': 'mahalanobis', 'n_neighbors': 11, '...            NaN   \n\n     std_test_mse  mean_test_mae  std_test_mae  mean_test_r2  std_test_r2  \n8        0.040178      -0.209214      0.060824      1.150655     3.906651  \n21       0.034365      -0.217302      0.059506      1.064770     2.982575  \n14       0.038353      -0.221508      0.060788      0.633211     1.696507  \n35       0.041475      -0.236850      0.072067      0.855313     2.067336  \n15       0.036742      -0.231913      0.056576      1.159771     3.214013  \n..            ...            ...           ...           ...          ...  \n121           NaN            NaN           NaN           NaN          NaN  \n122           NaN            NaN           NaN           NaN          NaN  \n123           NaN            NaN           NaN           NaN          NaN  \n124           NaN            NaN           NaN           NaN          NaN  \n125           NaN            NaN           NaN           NaN          NaN  \n\n[126 rows x 8 columns]",
      "text/html": "<div>\n<style scoped>\n    .dataframe tbody tr th:only-of-type {\n        vertical-align: middle;\n    }\n\n    .dataframe tbody tr th {\n        vertical-align: top;\n    }\n\n    .dataframe thead th {\n        text-align: right;\n    }\n</style>\n<table border=\"1\" class=\"dataframe\">\n  <thead>\n    <tr style=\"text-align: right;\">\n      <th></th>\n      <th>model</th>\n      <th>params</th>\n      <th>mean_test_mse</th>\n      <th>std_test_mse</th>\n      <th>mean_test_mae</th>\n      <th>std_test_mae</th>\n      <th>mean_test_r2</th>\n      <th>std_test_r2</th>\n    </tr>\n  </thead>\n  <tbody>\n    <tr>\n      <th>8</th>\n      <td>knn</td>\n      <td>{'metric': 'minkowski', 'n_neighbors': 3, 'p': 2}</td>\n      <td>-0.068738</td>\n      <td>0.040178</td>\n      <td>-0.209214</td>\n      <td>0.060824</td>\n      <td>1.150655</td>\n      <td>3.906651</td>\n    </tr>\n    <tr>\n      <th>21</th>\n      <td>knn</td>\n      <td>{'metric': 'minkowski', 'n_neighbors': 7, 'p': 1}</td>\n      <td>-0.070097</td>\n      <td>0.034365</td>\n      <td>-0.217302</td>\n      <td>0.059506</td>\n      <td>1.064770</td>\n      <td>2.982575</td>\n    </tr>\n    <tr>\n      <th>14</th>\n      <td>knn</td>\n      <td>{'metric': 'minkowski', 'n_neighbors': 5, 'p': 1}</td>\n      <td>-0.070216</td>\n      <td>0.038353</td>\n      <td>-0.221508</td>\n      <td>0.060788</td>\n      <td>0.633211</td>\n      <td>1.696507</td>\n    </tr>\n    <tr>\n      <th>35</th>\n      <td>knn</td>\n      <td>{'metric': 'minkowski', 'n_neighbors': 11, 'p'...</td>\n      <td>-0.077334</td>\n      <td>0.041475</td>\n      <td>-0.236850</td>\n      <td>0.072067</td>\n      <td>0.855313</td>\n      <td>2.067336</td>\n    </tr>\n    <tr>\n      <th>15</th>\n      <td>knn</td>\n      <td>{'metric': 'minkowski', 'n_neighbors': 5, 'p': 2}</td>\n      <td>-0.077951</td>\n      <td>0.036742</td>\n      <td>-0.231913</td>\n      <td>0.056576</td>\n      <td>1.159771</td>\n      <td>3.214013</td>\n    </tr>\n    <tr>\n      <th>...</th>\n      <td>...</td>\n      <td>...</td>\n      <td>...</td>\n      <td>...</td>\n      <td>...</td>\n      <td>...</td>\n      <td>...</td>\n      <td>...</td>\n    </tr>\n    <tr>\n      <th>121</th>\n      <td>knn</td>\n      <td>{'metric': 'mahalanobis', 'n_neighbors': 11, '...</td>\n      <td>NaN</td>\n      <td>NaN</td>\n      <td>NaN</td>\n      <td>NaN</td>\n      <td>NaN</td>\n      <td>NaN</td>\n    </tr>\n    <tr>\n      <th>122</th>\n      <td>knn</td>\n      <td>{'metric': 'mahalanobis', 'n_neighbors': 11, '...</td>\n      <td>NaN</td>\n      <td>NaN</td>\n      <td>NaN</td>\n      <td>NaN</td>\n      <td>NaN</td>\n      <td>NaN</td>\n    </tr>\n    <tr>\n      <th>123</th>\n      <td>knn</td>\n      <td>{'metric': 'mahalanobis', 'n_neighbors': 11, '...</td>\n      <td>NaN</td>\n      <td>NaN</td>\n      <td>NaN</td>\n      <td>NaN</td>\n      <td>NaN</td>\n      <td>NaN</td>\n    </tr>\n    <tr>\n      <th>124</th>\n      <td>knn</td>\n      <td>{'metric': 'mahalanobis', 'n_neighbors': 11, '...</td>\n      <td>NaN</td>\n      <td>NaN</td>\n      <td>NaN</td>\n      <td>NaN</td>\n      <td>NaN</td>\n      <td>NaN</td>\n    </tr>\n    <tr>\n      <th>125</th>\n      <td>knn</td>\n      <td>{'metric': 'mahalanobis', 'n_neighbors': 11, '...</td>\n      <td>NaN</td>\n      <td>NaN</td>\n      <td>NaN</td>\n      <td>NaN</td>\n      <td>NaN</td>\n      <td>NaN</td>\n    </tr>\n  </tbody>\n</table>\n<p>126 rows × 8 columns</p>\n</div>"
     },
     "metadata": {},
     "execution_count": 18
    }
   ],
   "source": [
    "grid_search_df.sort_values('mean_test_mse', ascending=False)"
   ]
  },
  {
   "cell_type": "markdown",
   "metadata": {},
   "source": [
    "# Lasso Regressor"
   ]
  },
  {
   "cell_type": "code",
   "execution_count": 19,
   "metadata": {},
   "outputs": [],
   "source": [
    "PATH = 'lasso_grid_search_results.csv'"
   ]
  },
  {
   "cell_type": "code",
   "execution_count": 20,
   "metadata": {},
   "outputs": [],
   "source": [
    "grid_search_df = pd.read_csv(PATH)\n",
    "grid_search_df[\"model\"] = \"lasso\"\n",
    "grid_search_df = grid_search_df[[\"model\", 'params', 'mean_test_mse', 'std_test_mse', 'mean_test_mae', 'std_test_mae', 'mean_test_r2', 'std_test_r2']]\n",
    "summary_df = summary_df.append(grid_search_df.sort_values('mean_test_mse', ascending=False).iloc[0], ignore_index=True)"
   ]
  },
  {
   "cell_type": "code",
   "execution_count": 21,
   "metadata": {},
   "outputs": [
    {
     "output_type": "execute_result",
     "data": {
      "text/plain": "    model             params  mean_test_mse  std_test_mse  mean_test_mae  \\\n3   lasso    {'alpha': 0.01}      -0.085720      0.044717      -0.251182   \n9   lasso     {'alpha': 0.5}      -0.099694      0.047479      -0.277529   \n10  lasso     {'alpha': 0.6}      -0.099694      0.047479      -0.277529   \n17  lasso       {'alpha': 5}      -0.099694      0.047479      -0.277529   \n16  lasso       {'alpha': 3}      -0.099694      0.047479      -0.277529   \n15  lasso       {'alpha': 2}      -0.099694      0.047479      -0.277529   \n14  lasso       {'alpha': 1}      -0.099694      0.047479      -0.277529   \n13  lasso     {'alpha': 0.9}      -0.099694      0.047479      -0.277529   \n12  lasso     {'alpha': 0.8}      -0.099694      0.047479      -0.277529   \n11  lasso     {'alpha': 0.7}      -0.099694      0.047479      -0.277529   \n18  lasso       {'alpha': 7}      -0.099694      0.047479      -0.277529   \n8   lasso     {'alpha': 0.4}      -0.099694      0.047479      -0.277529   \n7   lasso     {'alpha': 0.3}      -0.099694      0.047479      -0.277529   \n6   lasso     {'alpha': 0.2}      -0.099694      0.047479      -0.277529   \n5   lasso     {'alpha': 0.1}      -0.099694      0.047479      -0.277529   \n4   lasso    {'alpha': 0.05}      -0.099694      0.047479      -0.277529   \n2   lasso   {'alpha': 0.001}      -0.110043      0.174643      -0.219087   \n1   lasso  {'alpha': 0.0001}      -0.156709      0.226092      -0.267603   \n0   lasso   {'alpha': 1e-05}      -0.167856      0.230888      -0.277964   \n\n    std_test_mae  mean_test_r2  std_test_r2  \n3       0.070401      1.347415     3.914512  \n9       0.079467      1.426855     3.421005  \n10      0.079467      1.426855     3.421005  \n17      0.079467      1.426855     3.421005  \n16      0.079467      1.426855     3.421005  \n15      0.079467      1.426855     3.421005  \n14      0.079467      1.426855     3.421005  \n13      0.079467      1.426855     3.421005  \n12      0.079467      1.426855     3.421005  \n11      0.079467      1.426855     3.421005  \n18      0.079467      1.426855     3.421005  \n8       0.079467      1.426855     3.421005  \n7       0.079467      1.426855     3.421005  \n6       0.079467      1.426855     3.421005  \n5       0.079467      1.426855     3.421005  \n4       0.079467      1.426855     3.421005  \n2       0.118233      1.214846     3.315955  \n1       0.139796      1.967366     4.090991  \n0       0.151160      2.097423     4.106999  ",
      "text/html": "<div>\n<style scoped>\n    .dataframe tbody tr th:only-of-type {\n        vertical-align: middle;\n    }\n\n    .dataframe tbody tr th {\n        vertical-align: top;\n    }\n\n    .dataframe thead th {\n        text-align: right;\n    }\n</style>\n<table border=\"1\" class=\"dataframe\">\n  <thead>\n    <tr style=\"text-align: right;\">\n      <th></th>\n      <th>model</th>\n      <th>params</th>\n      <th>mean_test_mse</th>\n      <th>std_test_mse</th>\n      <th>mean_test_mae</th>\n      <th>std_test_mae</th>\n      <th>mean_test_r2</th>\n      <th>std_test_r2</th>\n    </tr>\n  </thead>\n  <tbody>\n    <tr>\n      <th>3</th>\n      <td>lasso</td>\n      <td>{'alpha': 0.01}</td>\n      <td>-0.085720</td>\n      <td>0.044717</td>\n      <td>-0.251182</td>\n      <td>0.070401</td>\n      <td>1.347415</td>\n      <td>3.914512</td>\n    </tr>\n    <tr>\n      <th>9</th>\n      <td>lasso</td>\n      <td>{'alpha': 0.5}</td>\n      <td>-0.099694</td>\n      <td>0.047479</td>\n      <td>-0.277529</td>\n      <td>0.079467</td>\n      <td>1.426855</td>\n      <td>3.421005</td>\n    </tr>\n    <tr>\n      <th>10</th>\n      <td>lasso</td>\n      <td>{'alpha': 0.6}</td>\n      <td>-0.099694</td>\n      <td>0.047479</td>\n      <td>-0.277529</td>\n      <td>0.079467</td>\n      <td>1.426855</td>\n      <td>3.421005</td>\n    </tr>\n    <tr>\n      <th>17</th>\n      <td>lasso</td>\n      <td>{'alpha': 5}</td>\n      <td>-0.099694</td>\n      <td>0.047479</td>\n      <td>-0.277529</td>\n      <td>0.079467</td>\n      <td>1.426855</td>\n      <td>3.421005</td>\n    </tr>\n    <tr>\n      <th>16</th>\n      <td>lasso</td>\n      <td>{'alpha': 3}</td>\n      <td>-0.099694</td>\n      <td>0.047479</td>\n      <td>-0.277529</td>\n      <td>0.079467</td>\n      <td>1.426855</td>\n      <td>3.421005</td>\n    </tr>\n    <tr>\n      <th>15</th>\n      <td>lasso</td>\n      <td>{'alpha': 2}</td>\n      <td>-0.099694</td>\n      <td>0.047479</td>\n      <td>-0.277529</td>\n      <td>0.079467</td>\n      <td>1.426855</td>\n      <td>3.421005</td>\n    </tr>\n    <tr>\n      <th>14</th>\n      <td>lasso</td>\n      <td>{'alpha': 1}</td>\n      <td>-0.099694</td>\n      <td>0.047479</td>\n      <td>-0.277529</td>\n      <td>0.079467</td>\n      <td>1.426855</td>\n      <td>3.421005</td>\n    </tr>\n    <tr>\n      <th>13</th>\n      <td>lasso</td>\n      <td>{'alpha': 0.9}</td>\n      <td>-0.099694</td>\n      <td>0.047479</td>\n      <td>-0.277529</td>\n      <td>0.079467</td>\n      <td>1.426855</td>\n      <td>3.421005</td>\n    </tr>\n    <tr>\n      <th>12</th>\n      <td>lasso</td>\n      <td>{'alpha': 0.8}</td>\n      <td>-0.099694</td>\n      <td>0.047479</td>\n      <td>-0.277529</td>\n      <td>0.079467</td>\n      <td>1.426855</td>\n      <td>3.421005</td>\n    </tr>\n    <tr>\n      <th>11</th>\n      <td>lasso</td>\n      <td>{'alpha': 0.7}</td>\n      <td>-0.099694</td>\n      <td>0.047479</td>\n      <td>-0.277529</td>\n      <td>0.079467</td>\n      <td>1.426855</td>\n      <td>3.421005</td>\n    </tr>\n    <tr>\n      <th>18</th>\n      <td>lasso</td>\n      <td>{'alpha': 7}</td>\n      <td>-0.099694</td>\n      <td>0.047479</td>\n      <td>-0.277529</td>\n      <td>0.079467</td>\n      <td>1.426855</td>\n      <td>3.421005</td>\n    </tr>\n    <tr>\n      <th>8</th>\n      <td>lasso</td>\n      <td>{'alpha': 0.4}</td>\n      <td>-0.099694</td>\n      <td>0.047479</td>\n      <td>-0.277529</td>\n      <td>0.079467</td>\n      <td>1.426855</td>\n      <td>3.421005</td>\n    </tr>\n    <tr>\n      <th>7</th>\n      <td>lasso</td>\n      <td>{'alpha': 0.3}</td>\n      <td>-0.099694</td>\n      <td>0.047479</td>\n      <td>-0.277529</td>\n      <td>0.079467</td>\n      <td>1.426855</td>\n      <td>3.421005</td>\n    </tr>\n    <tr>\n      <th>6</th>\n      <td>lasso</td>\n      <td>{'alpha': 0.2}</td>\n      <td>-0.099694</td>\n      <td>0.047479</td>\n      <td>-0.277529</td>\n      <td>0.079467</td>\n      <td>1.426855</td>\n      <td>3.421005</td>\n    </tr>\n    <tr>\n      <th>5</th>\n      <td>lasso</td>\n      <td>{'alpha': 0.1}</td>\n      <td>-0.099694</td>\n      <td>0.047479</td>\n      <td>-0.277529</td>\n      <td>0.079467</td>\n      <td>1.426855</td>\n      <td>3.421005</td>\n    </tr>\n    <tr>\n      <th>4</th>\n      <td>lasso</td>\n      <td>{'alpha': 0.05}</td>\n      <td>-0.099694</td>\n      <td>0.047479</td>\n      <td>-0.277529</td>\n      <td>0.079467</td>\n      <td>1.426855</td>\n      <td>3.421005</td>\n    </tr>\n    <tr>\n      <th>2</th>\n      <td>lasso</td>\n      <td>{'alpha': 0.001}</td>\n      <td>-0.110043</td>\n      <td>0.174643</td>\n      <td>-0.219087</td>\n      <td>0.118233</td>\n      <td>1.214846</td>\n      <td>3.315955</td>\n    </tr>\n    <tr>\n      <th>1</th>\n      <td>lasso</td>\n      <td>{'alpha': 0.0001}</td>\n      <td>-0.156709</td>\n      <td>0.226092</td>\n      <td>-0.267603</td>\n      <td>0.139796</td>\n      <td>1.967366</td>\n      <td>4.090991</td>\n    </tr>\n    <tr>\n      <th>0</th>\n      <td>lasso</td>\n      <td>{'alpha': 1e-05}</td>\n      <td>-0.167856</td>\n      <td>0.230888</td>\n      <td>-0.277964</td>\n      <td>0.151160</td>\n      <td>2.097423</td>\n      <td>4.106999</td>\n    </tr>\n  </tbody>\n</table>\n</div>"
     },
     "metadata": {},
     "execution_count": 21
    }
   ],
   "source": [
    "grid_search_df.sort_values('mean_test_mse', ascending=False)"
   ]
  },
  {
   "cell_type": "markdown",
   "metadata": {},
   "source": [
    "# Elastic Net "
   ]
  },
  {
   "cell_type": "code",
   "execution_count": 22,
   "metadata": {},
   "outputs": [],
   "source": [
    "PATH = 'elastic_net_grid_search_results.csv'"
   ]
  },
  {
   "cell_type": "code",
   "execution_count": 23,
   "metadata": {},
   "outputs": [],
   "source": [
    "grid_search_df = pd.read_csv(PATH)\n",
    "grid_search_df[\"model\"] = \"elastic_net\"\n",
    "grid_search_df = grid_search_df[[\"model\", 'params', 'mean_test_mse', 'std_test_mse', 'mean_test_mae', 'std_test_mae', 'mean_test_r2', 'std_test_r2']]\n",
    "summary_df = summary_df.append(grid_search_df.sort_values('mean_test_mse', ascending=False).iloc[0], ignore_index=True)"
   ]
  },
  {
   "cell_type": "code",
   "execution_count": 24,
   "metadata": {},
   "outputs": [
    {
     "output_type": "execute_result",
     "data": {
      "text/plain": "           model                              params  mean_test_mse  \\\n63   elastic_net       {'alpha': 0.1, 'l1_ratio': 0}      -0.084201   \n64   elastic_net    {'alpha': 0.1, 'l1_ratio': 0.05}      -0.088610   \n84   elastic_net       {'alpha': 0.2, 'l1_ratio': 0}      -0.089422   \n105  elastic_net       {'alpha': 0.3, 'l1_ratio': 0}      -0.091820   \n65   elastic_net     {'alpha': 0.1, 'l1_ratio': 0.1}      -0.092629   \n..           ...                                 ...            ...   \n16   elastic_net   {'alpha': 1e-05, 'l1_ratio': 0.8}      -0.167109   \n17   elastic_net  {'alpha': 1e-05, 'l1_ratio': 0.85}      -0.167292   \n18   elastic_net   {'alpha': 1e-05, 'l1_ratio': 0.9}      -0.167479   \n19   elastic_net  {'alpha': 1e-05, 'l1_ratio': 0.95}      -0.167667   \n20   elastic_net     {'alpha': 1e-05, 'l1_ratio': 1}      -0.167856   \n\n     std_test_mse  mean_test_mae  std_test_mae  mean_test_r2  std_test_r2  \n63       0.042264      -0.247583      0.067491      1.304727     3.474724  \n64       0.044362      -0.254750      0.074219      1.291090     3.373006  \n84       0.043892      -0.256146      0.073280      1.301968     3.335018  \n105      0.044723      -0.260867      0.075070      1.311259     3.306450  \n65       0.045801      -0.262309      0.077369      1.319583     3.367215  \n..            ...            ...           ...           ...          ...  \n16       0.229939      -0.277394      0.150280      2.088195     4.101565  \n17       0.230163      -0.277537      0.150498      2.090490     4.102899  \n18       0.230402      -0.277679      0.150717      2.092792     4.104257  \n19       0.230644      -0.277821      0.150937      2.095091     4.105622  \n20       0.230888      -0.277964      0.151160      2.097423     4.106999  \n\n[336 rows x 8 columns]",
      "text/html": "<div>\n<style scoped>\n    .dataframe tbody tr th:only-of-type {\n        vertical-align: middle;\n    }\n\n    .dataframe tbody tr th {\n        vertical-align: top;\n    }\n\n    .dataframe thead th {\n        text-align: right;\n    }\n</style>\n<table border=\"1\" class=\"dataframe\">\n  <thead>\n    <tr style=\"text-align: right;\">\n      <th></th>\n      <th>model</th>\n      <th>params</th>\n      <th>mean_test_mse</th>\n      <th>std_test_mse</th>\n      <th>mean_test_mae</th>\n      <th>std_test_mae</th>\n      <th>mean_test_r2</th>\n      <th>std_test_r2</th>\n    </tr>\n  </thead>\n  <tbody>\n    <tr>\n      <th>63</th>\n      <td>elastic_net</td>\n      <td>{'alpha': 0.1, 'l1_ratio': 0}</td>\n      <td>-0.084201</td>\n      <td>0.042264</td>\n      <td>-0.247583</td>\n      <td>0.067491</td>\n      <td>1.304727</td>\n      <td>3.474724</td>\n    </tr>\n    <tr>\n      <th>64</th>\n      <td>elastic_net</td>\n      <td>{'alpha': 0.1, 'l1_ratio': 0.05}</td>\n      <td>-0.088610</td>\n      <td>0.044362</td>\n      <td>-0.254750</td>\n      <td>0.074219</td>\n      <td>1.291090</td>\n      <td>3.373006</td>\n    </tr>\n    <tr>\n      <th>84</th>\n      <td>elastic_net</td>\n      <td>{'alpha': 0.2, 'l1_ratio': 0}</td>\n      <td>-0.089422</td>\n      <td>0.043892</td>\n      <td>-0.256146</td>\n      <td>0.073280</td>\n      <td>1.301968</td>\n      <td>3.335018</td>\n    </tr>\n    <tr>\n      <th>105</th>\n      <td>elastic_net</td>\n      <td>{'alpha': 0.3, 'l1_ratio': 0}</td>\n      <td>-0.091820</td>\n      <td>0.044723</td>\n      <td>-0.260867</td>\n      <td>0.075070</td>\n      <td>1.311259</td>\n      <td>3.306450</td>\n    </tr>\n    <tr>\n      <th>65</th>\n      <td>elastic_net</td>\n      <td>{'alpha': 0.1, 'l1_ratio': 0.1}</td>\n      <td>-0.092629</td>\n      <td>0.045801</td>\n      <td>-0.262309</td>\n      <td>0.077369</td>\n      <td>1.319583</td>\n      <td>3.367215</td>\n    </tr>\n    <tr>\n      <th>...</th>\n      <td>...</td>\n      <td>...</td>\n      <td>...</td>\n      <td>...</td>\n      <td>...</td>\n      <td>...</td>\n      <td>...</td>\n      <td>...</td>\n    </tr>\n    <tr>\n      <th>16</th>\n      <td>elastic_net</td>\n      <td>{'alpha': 1e-05, 'l1_ratio': 0.8}</td>\n      <td>-0.167109</td>\n      <td>0.229939</td>\n      <td>-0.277394</td>\n      <td>0.150280</td>\n      <td>2.088195</td>\n      <td>4.101565</td>\n    </tr>\n    <tr>\n      <th>17</th>\n      <td>elastic_net</td>\n      <td>{'alpha': 1e-05, 'l1_ratio': 0.85}</td>\n      <td>-0.167292</td>\n      <td>0.230163</td>\n      <td>-0.277537</td>\n      <td>0.150498</td>\n      <td>2.090490</td>\n      <td>4.102899</td>\n    </tr>\n    <tr>\n      <th>18</th>\n      <td>elastic_net</td>\n      <td>{'alpha': 1e-05, 'l1_ratio': 0.9}</td>\n      <td>-0.167479</td>\n      <td>0.230402</td>\n      <td>-0.277679</td>\n      <td>0.150717</td>\n      <td>2.092792</td>\n      <td>4.104257</td>\n    </tr>\n    <tr>\n      <th>19</th>\n      <td>elastic_net</td>\n      <td>{'alpha': 1e-05, 'l1_ratio': 0.95}</td>\n      <td>-0.167667</td>\n      <td>0.230644</td>\n      <td>-0.277821</td>\n      <td>0.150937</td>\n      <td>2.095091</td>\n      <td>4.105622</td>\n    </tr>\n    <tr>\n      <th>20</th>\n      <td>elastic_net</td>\n      <td>{'alpha': 1e-05, 'l1_ratio': 1}</td>\n      <td>-0.167856</td>\n      <td>0.230888</td>\n      <td>-0.277964</td>\n      <td>0.151160</td>\n      <td>2.097423</td>\n      <td>4.106999</td>\n    </tr>\n  </tbody>\n</table>\n<p>336 rows × 8 columns</p>\n</div>"
     },
     "metadata": {},
     "execution_count": 24
    }
   ],
   "source": [
    "grid_search_df.sort_values('mean_test_mse', ascending=False)"
   ]
  },
  {
   "cell_type": "markdown",
   "metadata": {},
   "source": [
    "# Ridge"
   ]
  },
  {
   "cell_type": "code",
   "execution_count": 25,
   "metadata": {},
   "outputs": [],
   "source": [
    "PATH = 'ridge_grid_search_results.csv'"
   ]
  },
  {
   "cell_type": "code",
   "execution_count": 26,
   "metadata": {},
   "outputs": [],
   "source": [
    "grid_search_df = pd.read_csv(PATH)\n",
    "grid_search_df[\"model\"] = \"ridge\"\n",
    "grid_search_df = grid_search_df[[\"model\", 'params', 'mean_test_mse', 'std_test_mse', 'mean_test_mae', 'std_test_mae', 'mean_test_r2', 'std_test_r2']]\n",
    "summary_df = summary_df.append(grid_search_df.sort_values('mean_test_mse', ascending=False).iloc[0], ignore_index=True)"
   ]
  },
  {
   "cell_type": "code",
   "execution_count": 27,
   "metadata": {},
   "outputs": [
    {
     "output_type": "execute_result",
     "data": {
      "text/plain": "    model           params  mean_test_mse  std_test_mse  mean_test_mae  \\\n6   ridge   {'alpha': 0.5}      -0.066978      0.040971      -0.217746   \n7   ridge   {'alpha': 0.6}      -0.067220      0.040266      -0.219522   \n5   ridge   {'alpha': 0.4}      -0.067360      0.042730      -0.215857   \n8   ridge   {'alpha': 0.7}      -0.067759      0.039979      -0.221514   \n9   ridge   {'alpha': 0.8}      -0.068439      0.039873      -0.223298   \n4   ridge   {'alpha': 0.3}      -0.069097      0.047369      -0.213855   \n10  ridge   {'alpha': 0.9}      -0.069178      0.039851      -0.224889   \n11  ridge     {'alpha': 1}      -0.069932      0.039870      -0.226318   \n3   ridge   {'alpha': 0.2}      -0.074051      0.060435      -0.213373   \n12  ridge     {'alpha': 2}      -0.076178      0.040535      -0.235371   \n13  ridge     {'alpha': 3}      -0.080118      0.041262      -0.240886   \n14  ridge     {'alpha': 4}      -0.082780      0.041895      -0.245307   \n15  ridge     {'alpha': 5}      -0.084713      0.042422      -0.248409   \n16  ridge     {'alpha': 6}      -0.086192      0.042860      -0.250752   \n17  ridge     {'alpha': 7}      -0.087366      0.043227      -0.252608   \n2   ridge   {'alpha': 0.1}      -0.088123      0.099854      -0.217171   \n18  ridge     {'alpha': 8}      -0.088325      0.043538      -0.254143   \n19  ridge     {'alpha': 9}      -0.089127      0.043804      -0.255617   \n20  ridge    {'alpha': 10}      -0.089809      0.044035      -0.256885   \n21  ridge    {'alpha': 13}      -0.091369      0.044574      -0.259954   \n22  ridge    {'alpha': 15}      -0.092138      0.044845      -0.261548   \n23  ridge    {'alpha': 17}      -0.092767      0.045067      -0.262862   \n1   ridge  {'alpha': 0.05}      -0.104746      0.146146      -0.222120   \n0   ridge  {'alpha': 0.01}      -0.133332      0.205947      -0.242978   \n\n    std_test_mae  mean_test_r2  std_test_r2  \n6       0.063531      1.237025     4.023305  \n7       0.061289      1.253168     4.028460  \n5       0.067068      1.219841     4.004914  \n8       0.060176      1.267117     4.024505  \n9       0.059519      1.278726     4.014293  \n4       0.072671      1.205704     3.967420  \n10      0.059168      1.288191     3.999815  \n11      0.059019      1.295803     3.982474  \n3       0.081352      1.208043     3.903839  \n12      0.060865      1.319089     3.780156  \n13      0.063505      1.314137     3.626529  \n14      0.066015      1.307634     3.524865  \n15      0.068070      1.303175     3.457209  \n16      0.069760      1.300759     3.411153  \n17      0.071170      1.299886     3.379112  \n2       0.096717      1.276645     3.818994  \n18      0.072340      1.300100     3.356435  \n19      0.073034      1.301062     3.340192  \n20      0.073620      1.302529     3.328480  \n21      0.074782      1.308510     3.309661  \n22      0.075275      1.313003     3.304751  \n23      0.075669      1.317518     3.303007  \n1       0.109039      1.393211     3.799065  \n0       0.117425      1.662035     3.885439  ",
      "text/html": "<div>\n<style scoped>\n    .dataframe tbody tr th:only-of-type {\n        vertical-align: middle;\n    }\n\n    .dataframe tbody tr th {\n        vertical-align: top;\n    }\n\n    .dataframe thead th {\n        text-align: right;\n    }\n</style>\n<table border=\"1\" class=\"dataframe\">\n  <thead>\n    <tr style=\"text-align: right;\">\n      <th></th>\n      <th>model</th>\n      <th>params</th>\n      <th>mean_test_mse</th>\n      <th>std_test_mse</th>\n      <th>mean_test_mae</th>\n      <th>std_test_mae</th>\n      <th>mean_test_r2</th>\n      <th>std_test_r2</th>\n    </tr>\n  </thead>\n  <tbody>\n    <tr>\n      <th>6</th>\n      <td>ridge</td>\n      <td>{'alpha': 0.5}</td>\n      <td>-0.066978</td>\n      <td>0.040971</td>\n      <td>-0.217746</td>\n      <td>0.063531</td>\n      <td>1.237025</td>\n      <td>4.023305</td>\n    </tr>\n    <tr>\n      <th>7</th>\n      <td>ridge</td>\n      <td>{'alpha': 0.6}</td>\n      <td>-0.067220</td>\n      <td>0.040266</td>\n      <td>-0.219522</td>\n      <td>0.061289</td>\n      <td>1.253168</td>\n      <td>4.028460</td>\n    </tr>\n    <tr>\n      <th>5</th>\n      <td>ridge</td>\n      <td>{'alpha': 0.4}</td>\n      <td>-0.067360</td>\n      <td>0.042730</td>\n      <td>-0.215857</td>\n      <td>0.067068</td>\n      <td>1.219841</td>\n      <td>4.004914</td>\n    </tr>\n    <tr>\n      <th>8</th>\n      <td>ridge</td>\n      <td>{'alpha': 0.7}</td>\n      <td>-0.067759</td>\n      <td>0.039979</td>\n      <td>-0.221514</td>\n      <td>0.060176</td>\n      <td>1.267117</td>\n      <td>4.024505</td>\n    </tr>\n    <tr>\n      <th>9</th>\n      <td>ridge</td>\n      <td>{'alpha': 0.8}</td>\n      <td>-0.068439</td>\n      <td>0.039873</td>\n      <td>-0.223298</td>\n      <td>0.059519</td>\n      <td>1.278726</td>\n      <td>4.014293</td>\n    </tr>\n    <tr>\n      <th>4</th>\n      <td>ridge</td>\n      <td>{'alpha': 0.3}</td>\n      <td>-0.069097</td>\n      <td>0.047369</td>\n      <td>-0.213855</td>\n      <td>0.072671</td>\n      <td>1.205704</td>\n      <td>3.967420</td>\n    </tr>\n    <tr>\n      <th>10</th>\n      <td>ridge</td>\n      <td>{'alpha': 0.9}</td>\n      <td>-0.069178</td>\n      <td>0.039851</td>\n      <td>-0.224889</td>\n      <td>0.059168</td>\n      <td>1.288191</td>\n      <td>3.999815</td>\n    </tr>\n    <tr>\n      <th>11</th>\n      <td>ridge</td>\n      <td>{'alpha': 1}</td>\n      <td>-0.069932</td>\n      <td>0.039870</td>\n      <td>-0.226318</td>\n      <td>0.059019</td>\n      <td>1.295803</td>\n      <td>3.982474</td>\n    </tr>\n    <tr>\n      <th>3</th>\n      <td>ridge</td>\n      <td>{'alpha': 0.2}</td>\n      <td>-0.074051</td>\n      <td>0.060435</td>\n      <td>-0.213373</td>\n      <td>0.081352</td>\n      <td>1.208043</td>\n      <td>3.903839</td>\n    </tr>\n    <tr>\n      <th>12</th>\n      <td>ridge</td>\n      <td>{'alpha': 2}</td>\n      <td>-0.076178</td>\n      <td>0.040535</td>\n      <td>-0.235371</td>\n      <td>0.060865</td>\n      <td>1.319089</td>\n      <td>3.780156</td>\n    </tr>\n    <tr>\n      <th>13</th>\n      <td>ridge</td>\n      <td>{'alpha': 3}</td>\n      <td>-0.080118</td>\n      <td>0.041262</td>\n      <td>-0.240886</td>\n      <td>0.063505</td>\n      <td>1.314137</td>\n      <td>3.626529</td>\n    </tr>\n    <tr>\n      <th>14</th>\n      <td>ridge</td>\n      <td>{'alpha': 4}</td>\n      <td>-0.082780</td>\n      <td>0.041895</td>\n      <td>-0.245307</td>\n      <td>0.066015</td>\n      <td>1.307634</td>\n      <td>3.524865</td>\n    </tr>\n    <tr>\n      <th>15</th>\n      <td>ridge</td>\n      <td>{'alpha': 5}</td>\n      <td>-0.084713</td>\n      <td>0.042422</td>\n      <td>-0.248409</td>\n      <td>0.068070</td>\n      <td>1.303175</td>\n      <td>3.457209</td>\n    </tr>\n    <tr>\n      <th>16</th>\n      <td>ridge</td>\n      <td>{'alpha': 6}</td>\n      <td>-0.086192</td>\n      <td>0.042860</td>\n      <td>-0.250752</td>\n      <td>0.069760</td>\n      <td>1.300759</td>\n      <td>3.411153</td>\n    </tr>\n    <tr>\n      <th>17</th>\n      <td>ridge</td>\n      <td>{'alpha': 7}</td>\n      <td>-0.087366</td>\n      <td>0.043227</td>\n      <td>-0.252608</td>\n      <td>0.071170</td>\n      <td>1.299886</td>\n      <td>3.379112</td>\n    </tr>\n    <tr>\n      <th>2</th>\n      <td>ridge</td>\n      <td>{'alpha': 0.1}</td>\n      <td>-0.088123</td>\n      <td>0.099854</td>\n      <td>-0.217171</td>\n      <td>0.096717</td>\n      <td>1.276645</td>\n      <td>3.818994</td>\n    </tr>\n    <tr>\n      <th>18</th>\n      <td>ridge</td>\n      <td>{'alpha': 8}</td>\n      <td>-0.088325</td>\n      <td>0.043538</td>\n      <td>-0.254143</td>\n      <td>0.072340</td>\n      <td>1.300100</td>\n      <td>3.356435</td>\n    </tr>\n    <tr>\n      <th>19</th>\n      <td>ridge</td>\n      <td>{'alpha': 9}</td>\n      <td>-0.089127</td>\n      <td>0.043804</td>\n      <td>-0.255617</td>\n      <td>0.073034</td>\n      <td>1.301062</td>\n      <td>3.340192</td>\n    </tr>\n    <tr>\n      <th>20</th>\n      <td>ridge</td>\n      <td>{'alpha': 10}</td>\n      <td>-0.089809</td>\n      <td>0.044035</td>\n      <td>-0.256885</td>\n      <td>0.073620</td>\n      <td>1.302529</td>\n      <td>3.328480</td>\n    </tr>\n    <tr>\n      <th>21</th>\n      <td>ridge</td>\n      <td>{'alpha': 13}</td>\n      <td>-0.091369</td>\n      <td>0.044574</td>\n      <td>-0.259954</td>\n      <td>0.074782</td>\n      <td>1.308510</td>\n      <td>3.309661</td>\n    </tr>\n    <tr>\n      <th>22</th>\n      <td>ridge</td>\n      <td>{'alpha': 15}</td>\n      <td>-0.092138</td>\n      <td>0.044845</td>\n      <td>-0.261548</td>\n      <td>0.075275</td>\n      <td>1.313003</td>\n      <td>3.304751</td>\n    </tr>\n    <tr>\n      <th>23</th>\n      <td>ridge</td>\n      <td>{'alpha': 17}</td>\n      <td>-0.092767</td>\n      <td>0.045067</td>\n      <td>-0.262862</td>\n      <td>0.075669</td>\n      <td>1.317518</td>\n      <td>3.303007</td>\n    </tr>\n    <tr>\n      <th>1</th>\n      <td>ridge</td>\n      <td>{'alpha': 0.05}</td>\n      <td>-0.104746</td>\n      <td>0.146146</td>\n      <td>-0.222120</td>\n      <td>0.109039</td>\n      <td>1.393211</td>\n      <td>3.799065</td>\n    </tr>\n    <tr>\n      <th>0</th>\n      <td>ridge</td>\n      <td>{'alpha': 0.01}</td>\n      <td>-0.133332</td>\n      <td>0.205947</td>\n      <td>-0.242978</td>\n      <td>0.117425</td>\n      <td>1.662035</td>\n      <td>3.885439</td>\n    </tr>\n  </tbody>\n</table>\n</div>"
     },
     "metadata": {},
     "execution_count": 27
    }
   ],
   "source": [
    "grid_search_df.sort_values('mean_test_mse', ascending=False)"
   ]
  },
  {
   "cell_type": "markdown",
   "metadata": {},
   "source": [
    "# SGD"
   ]
  },
  {
   "cell_type": "code",
   "execution_count": 28,
   "metadata": {},
   "outputs": [],
   "source": [
    "PATH = 'sgd_grid_search_results.csv'"
   ]
  },
  {
   "cell_type": "code",
   "execution_count": 29,
   "metadata": {},
   "outputs": [],
   "source": [
    "grid_search_df = pd.read_csv(PATH)\n",
    "grid_search_df[\"model\"] = \"sgd\"\n",
    "grid_search_df = grid_search_df[[\"model\", 'params', 'mean_test_mse', 'std_test_mse', 'mean_test_mae', 'std_test_mae', 'mean_test_r2', 'std_test_r2']]\n",
    "summary_df = summary_df.append(grid_search_df.sort_values('mean_test_mse', ascending=False).iloc[0], ignore_index=True)"
   ]
  },
  {
   "cell_type": "code",
   "execution_count": 30,
   "metadata": {},
   "outputs": [
    {
     "output_type": "execute_result",
     "data": {
      "text/plain": "      model                                             params  mean_test_mse  \\\n35535   sgd  {'alpha': 0.01, 'epsilon': 0.25, 'l1_ratio': 0...  -6.255423e-02   \n5852    sgd  {'alpha': 1e-06, 'epsilon': 0.15, 'l1_ratio': ...  -6.360943e-02   \n13400   sgd  {'alpha': 1e-05, 'epsilon': 0.15, 'l1_ratio': ...  -6.369762e-02   \n34532   sgd  {'alpha': 0.01, 'epsilon': 0.3, 'l1_ratio': 0....  -6.372078e-02   \n5850    sgd  {'alpha': 1e-06, 'epsilon': 0.15, 'l1_ratio': ...  -6.388747e-02   \n...     ...                                                ...            ...   \n1741    sgd  {'alpha': 1e-06, 'epsilon': 0.45, 'l1_ratio': ...  -5.396360e+27   \n1029    sgd  {'alpha': 1e-06, 'epsilon': 0.45, 'l1_ratio': ...  -5.968029e+27   \n4476    sgd  {'alpha': 1e-06, 'epsilon': 0.2, 'l1_ratio': 0...  -5.986014e+27   \n6781    sgd  {'alpha': 1e-06, 'epsilon': 0.1, 'l1_ratio': 0...  -6.178104e+27   \n4390    sgd  {'alpha': 1e-06, 'epsilon': 0.2, 'l1_ratio': 0...  -6.495400e+27   \n\n       std_test_mse  mean_test_mae  std_test_mae  mean_test_r2   std_test_r2  \n35535  4.016022e-02  -2.082843e-01  6.587941e-02  1.111695e+00  3.754368e+00  \n5852   4.140928e-02  -2.114889e-01  5.824566e-02  1.019922e+00  3.379283e+00  \n13400  4.214599e-02  -2.095228e-01  6.259936e-02  1.051170e+00  3.685626e+00  \n34532  3.961281e-02  -2.120597e-01  6.181541e-02  9.831660e-01  3.390463e+00  \n5850   4.101801e-02  -2.115863e-01  5.760170e-02  1.074839e+00  3.531038e+00  \n...             ...            ...           ...           ...           ...  \n1741   8.561015e+27  -4.953136e+13  3.491899e+13  2.602517e+29  7.527096e+29  \n1029   8.839918e+27  -6.053994e+13  4.557911e+13  2.061315e+29  4.246490e+29  \n4476   1.203752e+28  -5.363402e+13  4.500588e+13  3.785912e+29  1.167523e+30  \n6781   1.053964e+28  -5.514087e+13  4.464047e+13  3.956061e+29  1.318405e+30  \n4390   6.976976e+27  -6.292249e+13  4.259556e+13  1.791496e+29  3.908839e+29  \n\n[56448 rows x 8 columns]",
      "text/html": "<div>\n<style scoped>\n    .dataframe tbody tr th:only-of-type {\n        vertical-align: middle;\n    }\n\n    .dataframe tbody tr th {\n        vertical-align: top;\n    }\n\n    .dataframe thead th {\n        text-align: right;\n    }\n</style>\n<table border=\"1\" class=\"dataframe\">\n  <thead>\n    <tr style=\"text-align: right;\">\n      <th></th>\n      <th>model</th>\n      <th>params</th>\n      <th>mean_test_mse</th>\n      <th>std_test_mse</th>\n      <th>mean_test_mae</th>\n      <th>std_test_mae</th>\n      <th>mean_test_r2</th>\n      <th>std_test_r2</th>\n    </tr>\n  </thead>\n  <tbody>\n    <tr>\n      <th>35535</th>\n      <td>sgd</td>\n      <td>{'alpha': 0.01, 'epsilon': 0.25, 'l1_ratio': 0...</td>\n      <td>-6.255423e-02</td>\n      <td>4.016022e-02</td>\n      <td>-2.082843e-01</td>\n      <td>6.587941e-02</td>\n      <td>1.111695e+00</td>\n      <td>3.754368e+00</td>\n    </tr>\n    <tr>\n      <th>5852</th>\n      <td>sgd</td>\n      <td>{'alpha': 1e-06, 'epsilon': 0.15, 'l1_ratio': ...</td>\n      <td>-6.360943e-02</td>\n      <td>4.140928e-02</td>\n      <td>-2.114889e-01</td>\n      <td>5.824566e-02</td>\n      <td>1.019922e+00</td>\n      <td>3.379283e+00</td>\n    </tr>\n    <tr>\n      <th>13400</th>\n      <td>sgd</td>\n      <td>{'alpha': 1e-05, 'epsilon': 0.15, 'l1_ratio': ...</td>\n      <td>-6.369762e-02</td>\n      <td>4.214599e-02</td>\n      <td>-2.095228e-01</td>\n      <td>6.259936e-02</td>\n      <td>1.051170e+00</td>\n      <td>3.685626e+00</td>\n    </tr>\n    <tr>\n      <th>34532</th>\n      <td>sgd</td>\n      <td>{'alpha': 0.01, 'epsilon': 0.3, 'l1_ratio': 0....</td>\n      <td>-6.372078e-02</td>\n      <td>3.961281e-02</td>\n      <td>-2.120597e-01</td>\n      <td>6.181541e-02</td>\n      <td>9.831660e-01</td>\n      <td>3.390463e+00</td>\n    </tr>\n    <tr>\n      <th>5850</th>\n      <td>sgd</td>\n      <td>{'alpha': 1e-06, 'epsilon': 0.15, 'l1_ratio': ...</td>\n      <td>-6.388747e-02</td>\n      <td>4.101801e-02</td>\n      <td>-2.115863e-01</td>\n      <td>5.760170e-02</td>\n      <td>1.074839e+00</td>\n      <td>3.531038e+00</td>\n    </tr>\n    <tr>\n      <th>...</th>\n      <td>...</td>\n      <td>...</td>\n      <td>...</td>\n      <td>...</td>\n      <td>...</td>\n      <td>...</td>\n      <td>...</td>\n      <td>...</td>\n    </tr>\n    <tr>\n      <th>1741</th>\n      <td>sgd</td>\n      <td>{'alpha': 1e-06, 'epsilon': 0.45, 'l1_ratio': ...</td>\n      <td>-5.396360e+27</td>\n      <td>8.561015e+27</td>\n      <td>-4.953136e+13</td>\n      <td>3.491899e+13</td>\n      <td>2.602517e+29</td>\n      <td>7.527096e+29</td>\n    </tr>\n    <tr>\n      <th>1029</th>\n      <td>sgd</td>\n      <td>{'alpha': 1e-06, 'epsilon': 0.45, 'l1_ratio': ...</td>\n      <td>-5.968029e+27</td>\n      <td>8.839918e+27</td>\n      <td>-6.053994e+13</td>\n      <td>4.557911e+13</td>\n      <td>2.061315e+29</td>\n      <td>4.246490e+29</td>\n    </tr>\n    <tr>\n      <th>4476</th>\n      <td>sgd</td>\n      <td>{'alpha': 1e-06, 'epsilon': 0.2, 'l1_ratio': 0...</td>\n      <td>-5.986014e+27</td>\n      <td>1.203752e+28</td>\n      <td>-5.363402e+13</td>\n      <td>4.500588e+13</td>\n      <td>3.785912e+29</td>\n      <td>1.167523e+30</td>\n    </tr>\n    <tr>\n      <th>6781</th>\n      <td>sgd</td>\n      <td>{'alpha': 1e-06, 'epsilon': 0.1, 'l1_ratio': 0...</td>\n      <td>-6.178104e+27</td>\n      <td>1.053964e+28</td>\n      <td>-5.514087e+13</td>\n      <td>4.464047e+13</td>\n      <td>3.956061e+29</td>\n      <td>1.318405e+30</td>\n    </tr>\n    <tr>\n      <th>4390</th>\n      <td>sgd</td>\n      <td>{'alpha': 1e-06, 'epsilon': 0.2, 'l1_ratio': 0...</td>\n      <td>-6.495400e+27</td>\n      <td>6.976976e+27</td>\n      <td>-6.292249e+13</td>\n      <td>4.259556e+13</td>\n      <td>1.791496e+29</td>\n      <td>3.908839e+29</td>\n    </tr>\n  </tbody>\n</table>\n<p>56448 rows × 8 columns</p>\n</div>"
     },
     "metadata": {},
     "execution_count": 30
    }
   ],
   "source": [
    "grid_search_df.sort_values('mean_test_mse', ascending=False)"
   ]
  },
  {
   "cell_type": "code",
   "execution_count": 31,
   "metadata": {},
   "outputs": [
    {
     "output_type": "execute_result",
     "data": {
      "text/plain": "array([\"{'alpha': 0.01, 'epsilon': 0.25, 'l1_ratio': 0.25, 'learning_rate': 'optimal', 'loss': 'huber', 'penalty': 'l2'}\",\n       \"{'alpha': 1e-06, 'epsilon': 0.15, 'l1_ratio': 0.8, 'learning_rate': 'adaptive', 'loss': 'epsilon_insensitive', 'penalty': 'elasticnet'}\",\n       \"{'alpha': 1e-05, 'epsilon': 0.15, 'l1_ratio': 0.3, 'learning_rate': 'constant', 'loss': 'epsilon_insensitive', 'penalty': 'elasticnet'}\",\n       \"{'alpha': 0.01, 'epsilon': 0.3, 'l1_ratio': 0.25, 'learning_rate': 'optimal', 'loss': 'epsilon_insensitive', 'penalty': 'elasticnet'}\",\n       \"{'alpha': 1e-06, 'epsilon': 0.15, 'l1_ratio': 0.8, 'learning_rate': 'adaptive', 'loss': 'epsilon_insensitive', 'penalty': 'l2'}\",\n       \"{'alpha': 0.0001, 'epsilon': 0.15, 'l1_ratio': 0.75, 'learning_rate': 'constant', 'loss': 'epsilon_insensitive', 'penalty': 'l1'}\",\n       \"{'alpha': 1e-05, 'epsilon': 0.1, 'l1_ratio': 0.05, 'learning_rate': 'constant', 'loss': 'epsilon_insensitive', 'penalty': 'l1'}\",\n       \"{'alpha': 1e-06, 'epsilon': 0.15, 'l1_ratio': 0.2, 'learning_rate': 'constant', 'loss': 'epsilon_insensitive', 'penalty': 'l2'}\",\n       \"{'alpha': 0.0001, 'epsilon': 0.1, 'l1_ratio': 0.9, 'learning_rate': 'constant', 'loss': 'epsilon_insensitive', 'penalty': 'l2'}\",\n       \"{'alpha': 0.0001, 'epsilon': 0.15, 'l1_ratio': 0.2, 'learning_rate': 'adaptive', 'loss': 'epsilon_insensitive', 'penalty': 'l1'}\",\n       \"{'alpha': 0.0001, 'epsilon': 0.1, 'l1_ratio': 0.4, 'learning_rate': 'constant', 'loss': 'epsilon_insensitive', 'penalty': 'l1'}\",\n       \"{'alpha': 0.0001, 'epsilon': 0.15, 'l1_ratio': 0.35, 'learning_rate': 'constant', 'loss': 'epsilon_insensitive', 'penalty': 'l1'}\",\n       \"{'alpha': 0.01, 'epsilon': 0.3, 'l1_ratio': 0.15, 'learning_rate': 'optimal', 'loss': 'epsilon_insensitive', 'penalty': 'l2'}\",\n       \"{'alpha': 0.001, 'epsilon': 0.1, 'l1_ratio': 1, 'learning_rate': 'constant', 'loss': 'epsilon_insensitive', 'penalty': 'l2'}\",\n       \"{'alpha': 1e-05, 'epsilon': 0.15, 'l1_ratio': 0.65, 'learning_rate': 'constant', 'loss': 'epsilon_insensitive', 'penalty': 'elasticnet'}\",\n       \"{'alpha': 1e-06, 'epsilon': 0.15, 'l1_ratio': 0.9, 'learning_rate': 'constant', 'loss': 'epsilon_insensitive', 'penalty': 'l2'}\",\n       \"{'alpha': 0.001, 'epsilon': 0.15, 'l1_ratio': 0, 'learning_rate': 'adaptive', 'loss': 'epsilon_insensitive', 'penalty': 'elasticnet'}\",\n       \"{'alpha': 1e-05, 'epsilon': 0.15, 'l1_ratio': 0.45, 'learning_rate': 'constant', 'loss': 'epsilon_insensitive', 'penalty': 'elasticnet'}\",\n       \"{'alpha': 0.001, 'epsilon': 0.15, 'l1_ratio': 0.7, 'learning_rate': 'adaptive', 'loss': 'epsilon_insensitive', 'penalty': 'elasticnet'}\",\n       \"{'alpha': 0.0001, 'epsilon': 0.15, 'l1_ratio': 0.5, 'learning_rate': 'adaptive', 'loss': 'epsilon_insensitive', 'penalty': 'elasticnet'}\"],\n      dtype=object)"
     },
     "metadata": {},
     "execution_count": 31
    }
   ],
   "source": [
    "grid_search_df.sort_values('mean_test_mse', ascending=False)[\"params\"].head(20).values"
   ]
  },
  {
   "cell_type": "markdown",
   "metadata": {},
   "source": [
    "# Sumário"
   ]
  },
  {
   "cell_type": "code",
   "execution_count": 32,
   "metadata": {},
   "outputs": [
    {
     "output_type": "execute_result",
     "data": {
      "text/plain": "           model                                             params  \\\n0  random_forest          {'criterion': 'mse', 'n_estimators': 200}   \n1      ada_boost  {'learning_rate': 0.85, 'loss': 'linear', 'n_e...   \n2            svm  {'C': 4, 'degree': 4, 'epsilon': 0.1, 'gamma':...   \n7            sgd  {'alpha': 0.01, 'epsilon': 0.25, 'l1_ratio': 0...   \n6          ridge                                     {'alpha': 0.5}   \n3            knn  {'metric': 'minkowski', 'n_neighbors': 3, 'p': 2}   \n5    elastic_net                      {'alpha': 0.1, 'l1_ratio': 0}   \n4          lasso                                    {'alpha': 0.01}   \n\n   mean_test_mse  std_test_mse  mean_test_mae  std_test_mae  mean_test_r2  \\\n0      -0.026340      0.022693      -0.122613      0.047313     -0.198549   \n1      -0.027043      0.032261      -0.113568      0.053783     -0.146074   \n2      -0.042424      0.027668      -0.166027      0.048478      0.185212   \n7      -0.062554      0.040160      -0.208284      0.065879      1.111695   \n6      -0.066978      0.040971      -0.217746      0.063531      1.237025   \n3      -0.068738      0.040178      -0.209214      0.060824      1.150655   \n5      -0.084201      0.042264      -0.247583      0.067491      1.304727   \n4      -0.085720      0.044717      -0.251182      0.070401      1.347415   \n\n   std_test_r2  \n0     0.870627  \n1     1.093354  \n2     1.615905  \n7     3.754368  \n6     4.023305  \n3     3.906651  \n5     3.474724  \n4     3.914512  ",
      "text/html": "<div>\n<style scoped>\n    .dataframe tbody tr th:only-of-type {\n        vertical-align: middle;\n    }\n\n    .dataframe tbody tr th {\n        vertical-align: top;\n    }\n\n    .dataframe thead th {\n        text-align: right;\n    }\n</style>\n<table border=\"1\" class=\"dataframe\">\n  <thead>\n    <tr style=\"text-align: right;\">\n      <th></th>\n      <th>model</th>\n      <th>params</th>\n      <th>mean_test_mse</th>\n      <th>std_test_mse</th>\n      <th>mean_test_mae</th>\n      <th>std_test_mae</th>\n      <th>mean_test_r2</th>\n      <th>std_test_r2</th>\n    </tr>\n  </thead>\n  <tbody>\n    <tr>\n      <th>0</th>\n      <td>random_forest</td>\n      <td>{'criterion': 'mse', 'n_estimators': 200}</td>\n      <td>-0.026340</td>\n      <td>0.022693</td>\n      <td>-0.122613</td>\n      <td>0.047313</td>\n      <td>-0.198549</td>\n      <td>0.870627</td>\n    </tr>\n    <tr>\n      <th>1</th>\n      <td>ada_boost</td>\n      <td>{'learning_rate': 0.85, 'loss': 'linear', 'n_e...</td>\n      <td>-0.027043</td>\n      <td>0.032261</td>\n      <td>-0.113568</td>\n      <td>0.053783</td>\n      <td>-0.146074</td>\n      <td>1.093354</td>\n    </tr>\n    <tr>\n      <th>2</th>\n      <td>svm</td>\n      <td>{'C': 4, 'degree': 4, 'epsilon': 0.1, 'gamma':...</td>\n      <td>-0.042424</td>\n      <td>0.027668</td>\n      <td>-0.166027</td>\n      <td>0.048478</td>\n      <td>0.185212</td>\n      <td>1.615905</td>\n    </tr>\n    <tr>\n      <th>7</th>\n      <td>sgd</td>\n      <td>{'alpha': 0.01, 'epsilon': 0.25, 'l1_ratio': 0...</td>\n      <td>-0.062554</td>\n      <td>0.040160</td>\n      <td>-0.208284</td>\n      <td>0.065879</td>\n      <td>1.111695</td>\n      <td>3.754368</td>\n    </tr>\n    <tr>\n      <th>6</th>\n      <td>ridge</td>\n      <td>{'alpha': 0.5}</td>\n      <td>-0.066978</td>\n      <td>0.040971</td>\n      <td>-0.217746</td>\n      <td>0.063531</td>\n      <td>1.237025</td>\n      <td>4.023305</td>\n    </tr>\n    <tr>\n      <th>3</th>\n      <td>knn</td>\n      <td>{'metric': 'minkowski', 'n_neighbors': 3, 'p': 2}</td>\n      <td>-0.068738</td>\n      <td>0.040178</td>\n      <td>-0.209214</td>\n      <td>0.060824</td>\n      <td>1.150655</td>\n      <td>3.906651</td>\n    </tr>\n    <tr>\n      <th>5</th>\n      <td>elastic_net</td>\n      <td>{'alpha': 0.1, 'l1_ratio': 0}</td>\n      <td>-0.084201</td>\n      <td>0.042264</td>\n      <td>-0.247583</td>\n      <td>0.067491</td>\n      <td>1.304727</td>\n      <td>3.474724</td>\n    </tr>\n    <tr>\n      <th>4</th>\n      <td>lasso</td>\n      <td>{'alpha': 0.01}</td>\n      <td>-0.085720</td>\n      <td>0.044717</td>\n      <td>-0.251182</td>\n      <td>0.070401</td>\n      <td>1.347415</td>\n      <td>3.914512</td>\n    </tr>\n  </tbody>\n</table>\n</div>"
     },
     "metadata": {},
     "execution_count": 32
    }
   ],
   "source": [
    "summary_df.sort_values(by='mean_test_mse', ascending=False).head(20)"
   ]
  },
  {
   "cell_type": "code",
   "execution_count": null,
   "metadata": {},
   "outputs": [],
   "source": []
  }
 ],
 "metadata": {
  "language_info": {
   "name": "python",
   "codemirror_mode": {
    "name": "ipython",
    "version": 3
   },
   "version": "3.6.9-final"
  },
  "orig_nbformat": 2,
  "file_extension": ".py",
  "mimetype": "text/x-python",
  "name": "python",
  "npconvert_exporter": "python",
  "pygments_lexer": "ipython3",
  "version": 3,
  "kernelspec": {
   "name": "python36964bitbertvirtualenv054cbb15ab924922a35a349b12e89805",
   "display_name": "Python 3.6.9 64-bit ('bert': virtualenv)"
  }
 },
 "nbformat": 4,
 "nbformat_minor": 2
}