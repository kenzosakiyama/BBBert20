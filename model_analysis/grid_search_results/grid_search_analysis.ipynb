{
 "cells": [
  {
   "cell_type": "code",
   "execution_count": 1,
   "metadata": {},
   "outputs": [],
   "source": [
    "import pandas as pd"
   ]
  },
  {
   "cell_type": "code",
   "execution_count": 2,
   "metadata": {},
   "outputs": [],
   "source": [
    "summary_df = pd.DataFrame(columns=[\"model\", 'params', 'mean_test_mse', 'std_test_mse', 'mean_test_mae', 'std_test_mae', 'mean_test_r2', 'std_test_r2'])"
   ]
  },
  {
   "cell_type": "code",
   "execution_count": 3,
   "metadata": {},
   "outputs": [
    {
     "output_type": "execute_result",
     "data": {
      "text/plain": "Empty DataFrame\nColumns: [model, params, mean_test_mse, std_test_mse, mean_test_mae, std_test_mae, mean_test_r2, std_test_r2]\nIndex: []",
      "text/html": "<div>\n<style scoped>\n    .dataframe tbody tr th:only-of-type {\n        vertical-align: middle;\n    }\n\n    .dataframe tbody tr th {\n        vertical-align: top;\n    }\n\n    .dataframe thead th {\n        text-align: right;\n    }\n</style>\n<table border=\"1\" class=\"dataframe\">\n  <thead>\n    <tr style=\"text-align: right;\">\n      <th></th>\n      <th>model</th>\n      <th>params</th>\n      <th>mean_test_mse</th>\n      <th>std_test_mse</th>\n      <th>mean_test_mae</th>\n      <th>std_test_mae</th>\n      <th>mean_test_r2</th>\n      <th>std_test_r2</th>\n    </tr>\n  </thead>\n  <tbody>\n  </tbody>\n</table>\n</div>"
     },
     "metadata": {},
     "execution_count": 3
    }
   ],
   "source": [
    "summary_df"
   ]
  },
  {
   "cell_type": "markdown",
   "metadata": {},
   "source": [
    "# Random Forest Regressor"
   ]
  },
  {
   "cell_type": "code",
   "execution_count": 4,
   "metadata": {},
   "outputs": [],
   "source": [
    "PATH = 'random_forest_grid_search_results.csv'"
   ]
  },
  {
   "cell_type": "code",
   "execution_count": 5,
   "metadata": {},
   "outputs": [],
   "source": [
    "grid_search_df = pd.read_csv(PATH)"
   ]
  },
  {
   "cell_type": "code",
   "execution_count": 6,
   "metadata": {},
   "outputs": [],
   "source": [
    "grid_search_df[\"model\"] = \"random_forest\"\n",
    "grid_search_df = grid_search_df[[\"model\", 'params', 'mean_test_mse', 'std_test_mse', 'mean_test_mae', 'std_test_mae', 'mean_test_r2', 'std_test_r2']]\n",
    "summary_df = summary_df.append(grid_search_df.sort_values('mean_test_mse', ascending=False).iloc[0], ignore_index=True)"
   ]
  },
  {
   "cell_type": "code",
   "execution_count": 7,
   "metadata": {},
   "outputs": [
    {
     "output_type": "execute_result",
     "data": {
      "text/plain": "            model                                       params  mean_test_mse  \\\n8   random_forest    {'criterion': 'mae', 'n_estimators': 100}      -0.029743   \n5   random_forest   {'criterion': 'mse', 'n_estimators': 3000}      -0.031313   \n6   random_forest   {'criterion': 'mse', 'n_estimators': 5000}      -0.031430   \n0   random_forest    {'criterion': 'mse', 'n_estimators': 100}      -0.031440   \n4   random_forest   {'criterion': 'mse', 'n_estimators': 2000}      -0.031448   \n7   random_forest  {'criterion': 'mse', 'n_estimators': 10000}      -0.031467   \n3   random_forest   {'criterion': 'mse', 'n_estimators': 1000}      -0.031495   \n2   random_forest    {'criterion': 'mse', 'n_estimators': 500}      -0.031601   \n1   random_forest    {'criterion': 'mse', 'n_estimators': 200}      -0.032513   \n14  random_forest   {'criterion': 'mae', 'n_estimators': 5000}      -0.032844   \n13  random_forest   {'criterion': 'mae', 'n_estimators': 3000}      -0.032879   \n11  random_forest   {'criterion': 'mae', 'n_estimators': 1000}      -0.033003   \n15  random_forest  {'criterion': 'mae', 'n_estimators': 10000}      -0.033082   \n12  random_forest   {'criterion': 'mae', 'n_estimators': 2000}      -0.033503   \n10  random_forest    {'criterion': 'mae', 'n_estimators': 500}      -0.033681   \n9   random_forest    {'criterion': 'mae', 'n_estimators': 200}      -0.034254   \n\n    std_test_mse  mean_test_mae  std_test_mae  mean_test_r2  std_test_r2  \n8       0.025426      -0.126617      0.047708     -0.553794     0.353108  \n5       0.026309      -0.127933      0.047308     -0.546172     0.298458  \n6       0.026599      -0.128202      0.047789     -0.543402     0.306411  \n0       0.026486      -0.128210      0.049000     -0.541778     0.318223  \n4       0.026499      -0.128931      0.047573     -0.543089     0.304652  \n7       0.026584      -0.128597      0.047742     -0.542800     0.306344  \n3       0.026587      -0.128295      0.047702     -0.539851     0.315399  \n2       0.026424      -0.129072      0.045829     -0.540906     0.296224  \n1       0.028102      -0.131116      0.048710     -0.536430     0.305955  \n14      0.029303      -0.131473      0.050669     -0.518414     0.379088  \n13      0.029802      -0.131115      0.051540     -0.517093     0.389005  \n11      0.029279      -0.131727      0.050550     -0.515804     0.377201  \n15      0.029809      -0.131867      0.051656     -0.513359     0.389646  \n12      0.029715      -0.132733      0.051424     -0.504708     0.395594  \n10      0.030054      -0.132539      0.053895     -0.502678     0.405370  \n9       0.029696      -0.133364      0.051187     -0.495843     0.397020  ",
      "text/html": "<div>\n<style scoped>\n    .dataframe tbody tr th:only-of-type {\n        vertical-align: middle;\n    }\n\n    .dataframe tbody tr th {\n        vertical-align: top;\n    }\n\n    .dataframe thead th {\n        text-align: right;\n    }\n</style>\n<table border=\"1\" class=\"dataframe\">\n  <thead>\n    <tr style=\"text-align: right;\">\n      <th></th>\n      <th>model</th>\n      <th>params</th>\n      <th>mean_test_mse</th>\n      <th>std_test_mse</th>\n      <th>mean_test_mae</th>\n      <th>std_test_mae</th>\n      <th>mean_test_r2</th>\n      <th>std_test_r2</th>\n    </tr>\n  </thead>\n  <tbody>\n    <tr>\n      <th>8</th>\n      <td>random_forest</td>\n      <td>{'criterion': 'mae', 'n_estimators': 100}</td>\n      <td>-0.029743</td>\n      <td>0.025426</td>\n      <td>-0.126617</td>\n      <td>0.047708</td>\n      <td>-0.553794</td>\n      <td>0.353108</td>\n    </tr>\n    <tr>\n      <th>5</th>\n      <td>random_forest</td>\n      <td>{'criterion': 'mse', 'n_estimators': 3000}</td>\n      <td>-0.031313</td>\n      <td>0.026309</td>\n      <td>-0.127933</td>\n      <td>0.047308</td>\n      <td>-0.546172</td>\n      <td>0.298458</td>\n    </tr>\n    <tr>\n      <th>6</th>\n      <td>random_forest</td>\n      <td>{'criterion': 'mse', 'n_estimators': 5000}</td>\n      <td>-0.031430</td>\n      <td>0.026599</td>\n      <td>-0.128202</td>\n      <td>0.047789</td>\n      <td>-0.543402</td>\n      <td>0.306411</td>\n    </tr>\n    <tr>\n      <th>0</th>\n      <td>random_forest</td>\n      <td>{'criterion': 'mse', 'n_estimators': 100}</td>\n      <td>-0.031440</td>\n      <td>0.026486</td>\n      <td>-0.128210</td>\n      <td>0.049000</td>\n      <td>-0.541778</td>\n      <td>0.318223</td>\n    </tr>\n    <tr>\n      <th>4</th>\n      <td>random_forest</td>\n      <td>{'criterion': 'mse', 'n_estimators': 2000}</td>\n      <td>-0.031448</td>\n      <td>0.026499</td>\n      <td>-0.128931</td>\n      <td>0.047573</td>\n      <td>-0.543089</td>\n      <td>0.304652</td>\n    </tr>\n    <tr>\n      <th>7</th>\n      <td>random_forest</td>\n      <td>{'criterion': 'mse', 'n_estimators': 10000}</td>\n      <td>-0.031467</td>\n      <td>0.026584</td>\n      <td>-0.128597</td>\n      <td>0.047742</td>\n      <td>-0.542800</td>\n      <td>0.306344</td>\n    </tr>\n    <tr>\n      <th>3</th>\n      <td>random_forest</td>\n      <td>{'criterion': 'mse', 'n_estimators': 1000}</td>\n      <td>-0.031495</td>\n      <td>0.026587</td>\n      <td>-0.128295</td>\n      <td>0.047702</td>\n      <td>-0.539851</td>\n      <td>0.315399</td>\n    </tr>\n    <tr>\n      <th>2</th>\n      <td>random_forest</td>\n      <td>{'criterion': 'mse', 'n_estimators': 500}</td>\n      <td>-0.031601</td>\n      <td>0.026424</td>\n      <td>-0.129072</td>\n      <td>0.045829</td>\n      <td>-0.540906</td>\n      <td>0.296224</td>\n    </tr>\n    <tr>\n      <th>1</th>\n      <td>random_forest</td>\n      <td>{'criterion': 'mse', 'n_estimators': 200}</td>\n      <td>-0.032513</td>\n      <td>0.028102</td>\n      <td>-0.131116</td>\n      <td>0.048710</td>\n      <td>-0.536430</td>\n      <td>0.305955</td>\n    </tr>\n    <tr>\n      <th>14</th>\n      <td>random_forest</td>\n      <td>{'criterion': 'mae', 'n_estimators': 5000}</td>\n      <td>-0.032844</td>\n      <td>0.029303</td>\n      <td>-0.131473</td>\n      <td>0.050669</td>\n      <td>-0.518414</td>\n      <td>0.379088</td>\n    </tr>\n    <tr>\n      <th>13</th>\n      <td>random_forest</td>\n      <td>{'criterion': 'mae', 'n_estimators': 3000}</td>\n      <td>-0.032879</td>\n      <td>0.029802</td>\n      <td>-0.131115</td>\n      <td>0.051540</td>\n      <td>-0.517093</td>\n      <td>0.389005</td>\n    </tr>\n    <tr>\n      <th>11</th>\n      <td>random_forest</td>\n      <td>{'criterion': 'mae', 'n_estimators': 1000}</td>\n      <td>-0.033003</td>\n      <td>0.029279</td>\n      <td>-0.131727</td>\n      <td>0.050550</td>\n      <td>-0.515804</td>\n      <td>0.377201</td>\n    </tr>\n    <tr>\n      <th>15</th>\n      <td>random_forest</td>\n      <td>{'criterion': 'mae', 'n_estimators': 10000}</td>\n      <td>-0.033082</td>\n      <td>0.029809</td>\n      <td>-0.131867</td>\n      <td>0.051656</td>\n      <td>-0.513359</td>\n      <td>0.389646</td>\n    </tr>\n    <tr>\n      <th>12</th>\n      <td>random_forest</td>\n      <td>{'criterion': 'mae', 'n_estimators': 2000}</td>\n      <td>-0.033503</td>\n      <td>0.029715</td>\n      <td>-0.132733</td>\n      <td>0.051424</td>\n      <td>-0.504708</td>\n      <td>0.395594</td>\n    </tr>\n    <tr>\n      <th>10</th>\n      <td>random_forest</td>\n      <td>{'criterion': 'mae', 'n_estimators': 500}</td>\n      <td>-0.033681</td>\n      <td>0.030054</td>\n      <td>-0.132539</td>\n      <td>0.053895</td>\n      <td>-0.502678</td>\n      <td>0.405370</td>\n    </tr>\n    <tr>\n      <th>9</th>\n      <td>random_forest</td>\n      <td>{'criterion': 'mae', 'n_estimators': 200}</td>\n      <td>-0.034254</td>\n      <td>0.029696</td>\n      <td>-0.133364</td>\n      <td>0.051187</td>\n      <td>-0.495843</td>\n      <td>0.397020</td>\n    </tr>\n  </tbody>\n</table>\n</div>"
     },
     "metadata": {},
     "execution_count": 7
    }
   ],
   "source": [
    "grid_search_df.sort_values('mean_test_mse', ascending=False)"
   ]
  },
  {
   "cell_type": "markdown",
   "metadata": {},
   "source": [
    "# Ada Boost Regressor"
   ]
  },
  {
   "cell_type": "code",
   "execution_count": 8,
   "metadata": {},
   "outputs": [],
   "source": [
    "PATH = 'ada_boost_grid_search_results.csv'\n",
    ""
   ]
  },
  {
   "cell_type": "code",
   "execution_count": 9,
   "metadata": {},
   "outputs": [],
   "source": [
    "grid_search_df = pd.read_csv(PATH)\n",
    "grid_search_df[\"model\"] = \"ada_boost\"\n",
    "grid_search_df = grid_search_df[[\"model\", 'params', 'mean_test_mse', 'std_test_mse', 'mean_test_mae', 'std_test_mae', 'mean_test_r2', 'std_test_r2']]\n",
    "summary_df = summary_df.append(grid_search_df.sort_values('mean_test_mse', ascending=False).iloc[0], ignore_index=True)"
   ]
  },
  {
   "cell_type": "code",
   "execution_count": 10,
   "metadata": {},
   "outputs": [
    {
     "output_type": "execute_result",
     "data": {
      "text/plain": "         model                                             params  \\\n408  ada_boost  {'learning_rate': 0.9, 'loss': 'linear', 'n_es...   \n432  ada_boost  {'learning_rate': 0.95, 'loss': 'linear', 'n_e...   \n401  ada_boost  {'learning_rate': 0.85, 'loss': 'exponential',...   \n352  ada_boost  {'learning_rate': 0.75, 'loss': 'exponential',...   \n240  ada_boost  {'learning_rate': 0.55, 'loss': 'linear', 'n_e...   \n..         ...                                                ...   \n296  ada_boost  {'learning_rate': 0.65, 'loss': 'square', 'n_e...   \n272  ada_boost  {'learning_rate': 0.6, 'loss': 'square', 'n_es...   \n56   ada_boost  {'learning_rate': 0.15, 'loss': 'square', 'n_e...   \n464  ada_boost  {'learning_rate': 1.0, 'loss': 'square', 'n_es...   \n392  ada_boost  {'learning_rate': 0.85, 'loss': 'square', 'n_e...   \n\n     mean_test_mse  std_test_mse  mean_test_mae  std_test_mae  mean_test_r2  \\\n408      -0.032383      0.026900      -0.120266      0.045756     -0.515086   \n432      -0.032491      0.028004      -0.126741      0.046401     -0.499361   \n401      -0.032798      0.028691      -0.120256      0.051473     -0.508756   \n352      -0.032879      0.028945      -0.125573      0.046765     -0.519157   \n240      -0.033180      0.028326      -0.124976      0.047755     -0.497106   \n..             ...           ...            ...           ...           ...   \n296      -0.040459      0.032203      -0.138779      0.053554     -0.366296   \n272      -0.042173      0.034672      -0.137818      0.057430     -0.352081   \n56       -0.043073      0.032314      -0.137301      0.058303     -0.321038   \n464      -0.044043      0.033409      -0.145499      0.065339     -0.288123   \n392      -0.044557      0.033890      -0.144931      0.060975     -0.300805   \n\n     std_test_r2  \n408     0.360505  \n432     0.423626  \n401     0.409158  \n352     0.333710  \n240     0.401918  \n..           ...  \n296     0.513117  \n272     0.522453  \n56      0.516864  \n464     0.527808  \n392     0.512181  \n\n[480 rows x 8 columns]",
      "text/html": "<div>\n<style scoped>\n    .dataframe tbody tr th:only-of-type {\n        vertical-align: middle;\n    }\n\n    .dataframe tbody tr th {\n        vertical-align: top;\n    }\n\n    .dataframe thead th {\n        text-align: right;\n    }\n</style>\n<table border=\"1\" class=\"dataframe\">\n  <thead>\n    <tr style=\"text-align: right;\">\n      <th></th>\n      <th>model</th>\n      <th>params</th>\n      <th>mean_test_mse</th>\n      <th>std_test_mse</th>\n      <th>mean_test_mae</th>\n      <th>std_test_mae</th>\n      <th>mean_test_r2</th>\n      <th>std_test_r2</th>\n    </tr>\n  </thead>\n  <tbody>\n    <tr>\n      <th>408</th>\n      <td>ada_boost</td>\n      <td>{'learning_rate': 0.9, 'loss': 'linear', 'n_es...</td>\n      <td>-0.032383</td>\n      <td>0.026900</td>\n      <td>-0.120266</td>\n      <td>0.045756</td>\n      <td>-0.515086</td>\n      <td>0.360505</td>\n    </tr>\n    <tr>\n      <th>432</th>\n      <td>ada_boost</td>\n      <td>{'learning_rate': 0.95, 'loss': 'linear', 'n_e...</td>\n      <td>-0.032491</td>\n      <td>0.028004</td>\n      <td>-0.126741</td>\n      <td>0.046401</td>\n      <td>-0.499361</td>\n      <td>0.423626</td>\n    </tr>\n    <tr>\n      <th>401</th>\n      <td>ada_boost</td>\n      <td>{'learning_rate': 0.85, 'loss': 'exponential',...</td>\n      <td>-0.032798</td>\n      <td>0.028691</td>\n      <td>-0.120256</td>\n      <td>0.051473</td>\n      <td>-0.508756</td>\n      <td>0.409158</td>\n    </tr>\n    <tr>\n      <th>352</th>\n      <td>ada_boost</td>\n      <td>{'learning_rate': 0.75, 'loss': 'exponential',...</td>\n      <td>-0.032879</td>\n      <td>0.028945</td>\n      <td>-0.125573</td>\n      <td>0.046765</td>\n      <td>-0.519157</td>\n      <td>0.333710</td>\n    </tr>\n    <tr>\n      <th>240</th>\n      <td>ada_boost</td>\n      <td>{'learning_rate': 0.55, 'loss': 'linear', 'n_e...</td>\n      <td>-0.033180</td>\n      <td>0.028326</td>\n      <td>-0.124976</td>\n      <td>0.047755</td>\n      <td>-0.497106</td>\n      <td>0.401918</td>\n    </tr>\n    <tr>\n      <th>...</th>\n      <td>...</td>\n      <td>...</td>\n      <td>...</td>\n      <td>...</td>\n      <td>...</td>\n      <td>...</td>\n      <td>...</td>\n      <td>...</td>\n    </tr>\n    <tr>\n      <th>296</th>\n      <td>ada_boost</td>\n      <td>{'learning_rate': 0.65, 'loss': 'square', 'n_e...</td>\n      <td>-0.040459</td>\n      <td>0.032203</td>\n      <td>-0.138779</td>\n      <td>0.053554</td>\n      <td>-0.366296</td>\n      <td>0.513117</td>\n    </tr>\n    <tr>\n      <th>272</th>\n      <td>ada_boost</td>\n      <td>{'learning_rate': 0.6, 'loss': 'square', 'n_es...</td>\n      <td>-0.042173</td>\n      <td>0.034672</td>\n      <td>-0.137818</td>\n      <td>0.057430</td>\n      <td>-0.352081</td>\n      <td>0.522453</td>\n    </tr>\n    <tr>\n      <th>56</th>\n      <td>ada_boost</td>\n      <td>{'learning_rate': 0.15, 'loss': 'square', 'n_e...</td>\n      <td>-0.043073</td>\n      <td>0.032314</td>\n      <td>-0.137301</td>\n      <td>0.058303</td>\n      <td>-0.321038</td>\n      <td>0.516864</td>\n    </tr>\n    <tr>\n      <th>464</th>\n      <td>ada_boost</td>\n      <td>{'learning_rate': 1.0, 'loss': 'square', 'n_es...</td>\n      <td>-0.044043</td>\n      <td>0.033409</td>\n      <td>-0.145499</td>\n      <td>0.065339</td>\n      <td>-0.288123</td>\n      <td>0.527808</td>\n    </tr>\n    <tr>\n      <th>392</th>\n      <td>ada_boost</td>\n      <td>{'learning_rate': 0.85, 'loss': 'square', 'n_e...</td>\n      <td>-0.044557</td>\n      <td>0.033890</td>\n      <td>-0.144931</td>\n      <td>0.060975</td>\n      <td>-0.300805</td>\n      <td>0.512181</td>\n    </tr>\n  </tbody>\n</table>\n<p>480 rows × 8 columns</p>\n</div>"
     },
     "metadata": {},
     "execution_count": 10
    }
   ],
   "source": [
    "grid_search_df.sort_values('mean_test_mse', ascending=False)"
   ]
  },
  {
   "cell_type": "code",
   "execution_count": 11,
   "metadata": {},
   "outputs": [
    {
     "output_type": "execute_result",
     "data": {
      "text/plain": "array([\"{'learning_rate': 0.9, 'loss': 'linear', 'n_estimators': 100}\",\n       \"{'learning_rate': 0.95, 'loss': 'linear', 'n_estimators': 100}\",\n       \"{'learning_rate': 0.85, 'loss': 'exponential', 'n_estimators': 200}\",\n       \"{'learning_rate': 0.75, 'loss': 'exponential', 'n_estimators': 100}\",\n       \"{'learning_rate': 0.55, 'loss': 'linear', 'n_estimators': 100}\",\n       \"{'learning_rate': 0.4, 'loss': 'exponential', 'n_estimators': 100}\",\n       \"{'learning_rate': 0.1, 'loss': 'exponential', 'n_estimators': 100}\",\n       \"{'learning_rate': 0.15, 'loss': 'exponential', 'n_estimators': 100}\",\n       \"{'learning_rate': 0.95, 'loss': 'exponential', 'n_estimators': 100}\",\n       \"{'learning_rate': 0.2, 'loss': 'exponential', 'n_estimators': 1000}\",\n       \"{'learning_rate': 1.0, 'loss': 'exponential', 'n_estimators': 1000}\",\n       \"{'learning_rate': 0.65, 'loss': 'exponential', 'n_estimators': 200}\",\n       \"{'learning_rate': 0.95, 'loss': 'exponential', 'n_estimators': 1000}\",\n       \"{'learning_rate': 0.8, 'loss': 'exponential', 'n_estimators': 500}\",\n       \"{'learning_rate': 0.2, 'loss': 'linear', 'n_estimators': 10000}\",\n       \"{'learning_rate': 0.5, 'loss': 'exponential', 'n_estimators': 5000}\",\n       \"{'learning_rate': 0.75, 'loss': 'linear', 'n_estimators': 500}\",\n       \"{'learning_rate': 0.7, 'loss': 'exponential', 'n_estimators': 200}\",\n       \"{'learning_rate': 0.35, 'loss': 'linear', 'n_estimators': 100}\",\n       \"{'learning_rate': 0.65, 'loss': 'exponential', 'n_estimators': 1000}\"],\n      dtype=object)"
     },
     "metadata": {},
     "execution_count": 11
    }
   ],
   "source": [
    "grid_search_df.sort_values('mean_test_mse', ascending=False).head(20).params.values"
   ]
  },
  {
   "cell_type": "markdown",
   "metadata": {},
   "source": [
    "# SVM Regressor"
   ]
  },
  {
   "cell_type": "code",
   "execution_count": 12,
   "metadata": {},
   "outputs": [],
   "source": [
    "PATH = 'svm_grid_search_results.csv'\n",
    ""
   ]
  },
  {
   "cell_type": "code",
   "execution_count": 13,
   "metadata": {},
   "outputs": [],
   "source": [
    "grid_search_df = pd.read_csv(PATH)\n",
    "grid_search_df[\"model\"] = \"svm\"\n",
    "grid_search_df = grid_search_df[[\"model\", 'params', 'mean_test_mse', 'std_test_mse', 'mean_test_mae', 'std_test_mae', 'mean_test_r2', 'std_test_r2']]\n",
    "summary_df = summary_df.append(grid_search_df.sort_values('mean_test_mse', ascending=False).iloc[0], ignore_index=True)"
   ]
  },
  {
   "cell_type": "code",
   "execution_count": 14,
   "metadata": {},
   "outputs": [
    {
     "output_type": "execute_result",
     "data": {
      "text/plain": "     model                                             params  mean_test_mse  \\\n5066   svm  {'C': 0.95, 'degree': 3, 'epsilon': 0.15, 'ker...      -0.515602   \n5130   svm  {'C': 0.95, 'degree': 4, 'epsilon': 0.15, 'ker...      -0.515602   \n5002   svm  {'C': 0.95, 'degree': 2, 'epsilon': 0.15, 'ker...      -0.515602   \n5194   svm  {'C': 0.95, 'degree': 5, 'epsilon': 0.15, 'ker...      -0.515602   \n5258   svm  {'C': 0.95, 'degree': 6, 'epsilon': 0.15, 'ker...      -0.515602   \n5322   svm  {'C': 0.95, 'degree': 7, 'epsilon': 0.15, 'ker...      -0.515602   \n5070   svm  {'C': 0.95, 'degree': 3, 'epsilon': 0.2, 'kern...      -0.517632   \n5006   svm  {'C': 0.95, 'degree': 2, 'epsilon': 0.2, 'kern...      -0.517632   \n5262   svm  {'C': 0.95, 'degree': 6, 'epsilon': 0.2, 'kern...      -0.517632   \n5198   svm  {'C': 0.95, 'degree': 5, 'epsilon': 0.2, 'kern...      -0.517632   \n5134   svm  {'C': 0.95, 'degree': 4, 'epsilon': 0.2, 'kern...      -0.517632   \n5326   svm  {'C': 0.95, 'degree': 7, 'epsilon': 0.2, 'kern...      -0.517632   \n5318   svm  {'C': 0.95, 'degree': 7, 'epsilon': 0.1, 'kern...      -0.521335   \n4998   svm  {'C': 0.95, 'degree': 2, 'epsilon': 0.1, 'kern...      -0.521335   \n5126   svm  {'C': 0.95, 'degree': 4, 'epsilon': 0.1, 'kern...      -0.521335   \n5062   svm  {'C': 0.95, 'degree': 3, 'epsilon': 0.1, 'kern...      -0.521335   \n5254   svm  {'C': 0.95, 'degree': 6, 'epsilon': 0.1, 'kern...      -0.521335   \n5190   svm  {'C': 0.95, 'degree': 5, 'epsilon': 0.1, 'kern...      -0.521335   \n5074   svm  {'C': 0.95, 'degree': 3, 'epsilon': 0.25, 'ker...      -0.525989   \n5330   svm  {'C': 0.95, 'degree': 7, 'epsilon': 0.25, 'ker...      -0.525989   \n\n      std_test_mse  mean_test_mae  std_test_mae  mean_test_r2  std_test_r2  \n5066      0.355717      -0.574637      0.159647     -0.450308     0.271082  \n5130      0.355717      -0.574637      0.159647     -0.450308     0.271082  \n5002      0.355717      -0.574637      0.159647     -0.450308     0.271082  \n5194      0.355717      -0.574637      0.159647     -0.450308     0.271082  \n5258      0.355717      -0.574637      0.159647     -0.450308     0.271082  \n5322      0.355717      -0.574637      0.159647     -0.450308     0.271082  \n5070      0.353948      -0.578017      0.159135     -0.449374     0.263656  \n5006      0.353948      -0.578017      0.159135     -0.449374     0.263656  \n5262      0.353948      -0.578017      0.159135     -0.449374     0.263656  \n5198      0.353948      -0.578017      0.159135     -0.449374     0.263656  \n5134      0.353948      -0.578017      0.159135     -0.449374     0.263656  \n5326      0.353948      -0.578017      0.159135     -0.449374     0.263656  \n5318      0.358116      -0.577606      0.161350     -0.441298     0.280487  \n4998      0.358116      -0.577606      0.161350     -0.441298     0.280487  \n5126      0.358116      -0.577606      0.161350     -0.441298     0.280487  \n5062      0.358116      -0.577606      0.161350     -0.441298     0.280487  \n5254      0.358116      -0.577606      0.161350     -0.441298     0.280487  \n5190      0.358116      -0.577606      0.161350     -0.441298     0.280487  \n5074      0.353375      -0.585149      0.157650     -0.439623     0.260203  \n5330      0.353375      -0.585149      0.157650     -0.439623     0.260203  ",
      "text/html": "<div>\n<style scoped>\n    .dataframe tbody tr th:only-of-type {\n        vertical-align: middle;\n    }\n\n    .dataframe tbody tr th {\n        vertical-align: top;\n    }\n\n    .dataframe thead th {\n        text-align: right;\n    }\n</style>\n<table border=\"1\" class=\"dataframe\">\n  <thead>\n    <tr style=\"text-align: right;\">\n      <th></th>\n      <th>model</th>\n      <th>params</th>\n      <th>mean_test_mse</th>\n      <th>std_test_mse</th>\n      <th>mean_test_mae</th>\n      <th>std_test_mae</th>\n      <th>mean_test_r2</th>\n      <th>std_test_r2</th>\n    </tr>\n  </thead>\n  <tbody>\n    <tr>\n      <th>5066</th>\n      <td>svm</td>\n      <td>{'C': 0.95, 'degree': 3, 'epsilon': 0.15, 'ker...</td>\n      <td>-0.515602</td>\n      <td>0.355717</td>\n      <td>-0.574637</td>\n      <td>0.159647</td>\n      <td>-0.450308</td>\n      <td>0.271082</td>\n    </tr>\n    <tr>\n      <th>5130</th>\n      <td>svm</td>\n      <td>{'C': 0.95, 'degree': 4, 'epsilon': 0.15, 'ker...</td>\n      <td>-0.515602</td>\n      <td>0.355717</td>\n      <td>-0.574637</td>\n      <td>0.159647</td>\n      <td>-0.450308</td>\n      <td>0.271082</td>\n    </tr>\n    <tr>\n      <th>5002</th>\n      <td>svm</td>\n      <td>{'C': 0.95, 'degree': 2, 'epsilon': 0.15, 'ker...</td>\n      <td>-0.515602</td>\n      <td>0.355717</td>\n      <td>-0.574637</td>\n      <td>0.159647</td>\n      <td>-0.450308</td>\n      <td>0.271082</td>\n    </tr>\n    <tr>\n      <th>5194</th>\n      <td>svm</td>\n      <td>{'C': 0.95, 'degree': 5, 'epsilon': 0.15, 'ker...</td>\n      <td>-0.515602</td>\n      <td>0.355717</td>\n      <td>-0.574637</td>\n      <td>0.159647</td>\n      <td>-0.450308</td>\n      <td>0.271082</td>\n    </tr>\n    <tr>\n      <th>5258</th>\n      <td>svm</td>\n      <td>{'C': 0.95, 'degree': 6, 'epsilon': 0.15, 'ker...</td>\n      <td>-0.515602</td>\n      <td>0.355717</td>\n      <td>-0.574637</td>\n      <td>0.159647</td>\n      <td>-0.450308</td>\n      <td>0.271082</td>\n    </tr>\n    <tr>\n      <th>5322</th>\n      <td>svm</td>\n      <td>{'C': 0.95, 'degree': 7, 'epsilon': 0.15, 'ker...</td>\n      <td>-0.515602</td>\n      <td>0.355717</td>\n      <td>-0.574637</td>\n      <td>0.159647</td>\n      <td>-0.450308</td>\n      <td>0.271082</td>\n    </tr>\n    <tr>\n      <th>5070</th>\n      <td>svm</td>\n      <td>{'C': 0.95, 'degree': 3, 'epsilon': 0.2, 'kern...</td>\n      <td>-0.517632</td>\n      <td>0.353948</td>\n      <td>-0.578017</td>\n      <td>0.159135</td>\n      <td>-0.449374</td>\n      <td>0.263656</td>\n    </tr>\n    <tr>\n      <th>5006</th>\n      <td>svm</td>\n      <td>{'C': 0.95, 'degree': 2, 'epsilon': 0.2, 'kern...</td>\n      <td>-0.517632</td>\n      <td>0.353948</td>\n      <td>-0.578017</td>\n      <td>0.159135</td>\n      <td>-0.449374</td>\n      <td>0.263656</td>\n    </tr>\n    <tr>\n      <th>5262</th>\n      <td>svm</td>\n      <td>{'C': 0.95, 'degree': 6, 'epsilon': 0.2, 'kern...</td>\n      <td>-0.517632</td>\n      <td>0.353948</td>\n      <td>-0.578017</td>\n      <td>0.159135</td>\n      <td>-0.449374</td>\n      <td>0.263656</td>\n    </tr>\n    <tr>\n      <th>5198</th>\n      <td>svm</td>\n      <td>{'C': 0.95, 'degree': 5, 'epsilon': 0.2, 'kern...</td>\n      <td>-0.517632</td>\n      <td>0.353948</td>\n      <td>-0.578017</td>\n      <td>0.159135</td>\n      <td>-0.449374</td>\n      <td>0.263656</td>\n    </tr>\n    <tr>\n      <th>5134</th>\n      <td>svm</td>\n      <td>{'C': 0.95, 'degree': 4, 'epsilon': 0.2, 'kern...</td>\n      <td>-0.517632</td>\n      <td>0.353948</td>\n      <td>-0.578017</td>\n      <td>0.159135</td>\n      <td>-0.449374</td>\n      <td>0.263656</td>\n    </tr>\n    <tr>\n      <th>5326</th>\n      <td>svm</td>\n      <td>{'C': 0.95, 'degree': 7, 'epsilon': 0.2, 'kern...</td>\n      <td>-0.517632</td>\n      <td>0.353948</td>\n      <td>-0.578017</td>\n      <td>0.159135</td>\n      <td>-0.449374</td>\n      <td>0.263656</td>\n    </tr>\n    <tr>\n      <th>5318</th>\n      <td>svm</td>\n      <td>{'C': 0.95, 'degree': 7, 'epsilon': 0.1, 'kern...</td>\n      <td>-0.521335</td>\n      <td>0.358116</td>\n      <td>-0.577606</td>\n      <td>0.161350</td>\n      <td>-0.441298</td>\n      <td>0.280487</td>\n    </tr>\n    <tr>\n      <th>4998</th>\n      <td>svm</td>\n      <td>{'C': 0.95, 'degree': 2, 'epsilon': 0.1, 'kern...</td>\n      <td>-0.521335</td>\n      <td>0.358116</td>\n      <td>-0.577606</td>\n      <td>0.161350</td>\n      <td>-0.441298</td>\n      <td>0.280487</td>\n    </tr>\n    <tr>\n      <th>5126</th>\n      <td>svm</td>\n      <td>{'C': 0.95, 'degree': 4, 'epsilon': 0.1, 'kern...</td>\n      <td>-0.521335</td>\n      <td>0.358116</td>\n      <td>-0.577606</td>\n      <td>0.161350</td>\n      <td>-0.441298</td>\n      <td>0.280487</td>\n    </tr>\n    <tr>\n      <th>5062</th>\n      <td>svm</td>\n      <td>{'C': 0.95, 'degree': 3, 'epsilon': 0.1, 'kern...</td>\n      <td>-0.521335</td>\n      <td>0.358116</td>\n      <td>-0.577606</td>\n      <td>0.161350</td>\n      <td>-0.441298</td>\n      <td>0.280487</td>\n    </tr>\n    <tr>\n      <th>5254</th>\n      <td>svm</td>\n      <td>{'C': 0.95, 'degree': 6, 'epsilon': 0.1, 'kern...</td>\n      <td>-0.521335</td>\n      <td>0.358116</td>\n      <td>-0.577606</td>\n      <td>0.161350</td>\n      <td>-0.441298</td>\n      <td>0.280487</td>\n    </tr>\n    <tr>\n      <th>5190</th>\n      <td>svm</td>\n      <td>{'C': 0.95, 'degree': 5, 'epsilon': 0.1, 'kern...</td>\n      <td>-0.521335</td>\n      <td>0.358116</td>\n      <td>-0.577606</td>\n      <td>0.161350</td>\n      <td>-0.441298</td>\n      <td>0.280487</td>\n    </tr>\n    <tr>\n      <th>5074</th>\n      <td>svm</td>\n      <td>{'C': 0.95, 'degree': 3, 'epsilon': 0.25, 'ker...</td>\n      <td>-0.525989</td>\n      <td>0.353375</td>\n      <td>-0.585149</td>\n      <td>0.157650</td>\n      <td>-0.439623</td>\n      <td>0.260203</td>\n    </tr>\n    <tr>\n      <th>5330</th>\n      <td>svm</td>\n      <td>{'C': 0.95, 'degree': 7, 'epsilon': 0.25, 'ker...</td>\n      <td>-0.525989</td>\n      <td>0.353375</td>\n      <td>-0.585149</td>\n      <td>0.157650</td>\n      <td>-0.439623</td>\n      <td>0.260203</td>\n    </tr>\n  </tbody>\n</table>\n</div>"
     },
     "metadata": {},
     "execution_count": 14
    }
   ],
   "source": [
    "grid_search_df.sort_values('mean_test_mse', ascending=False).head(20)"
   ]
  },
  {
   "cell_type": "code",
   "execution_count": 15,
   "metadata": {},
   "outputs": [
    {
     "output_type": "execute_result",
     "data": {
      "text/plain": "array([\"{'C': 0.95, 'degree': 3, 'epsilon': 0.15, 'kernel': 'rbf'}\",\n       \"{'C': 0.95, 'degree': 4, 'epsilon': 0.15, 'kernel': 'rbf'}\",\n       \"{'C': 0.95, 'degree': 2, 'epsilon': 0.15, 'kernel': 'rbf'}\",\n       \"{'C': 0.95, 'degree': 5, 'epsilon': 0.15, 'kernel': 'rbf'}\",\n       \"{'C': 0.95, 'degree': 6, 'epsilon': 0.15, 'kernel': 'rbf'}\",\n       \"{'C': 0.95, 'degree': 7, 'epsilon': 0.15, 'kernel': 'rbf'}\",\n       \"{'C': 0.95, 'degree': 3, 'epsilon': 0.2, 'kernel': 'rbf'}\",\n       \"{'C': 0.95, 'degree': 2, 'epsilon': 0.2, 'kernel': 'rbf'}\",\n       \"{'C': 0.95, 'degree': 6, 'epsilon': 0.2, 'kernel': 'rbf'}\",\n       \"{'C': 0.95, 'degree': 5, 'epsilon': 0.2, 'kernel': 'rbf'}\",\n       \"{'C': 0.95, 'degree': 4, 'epsilon': 0.2, 'kernel': 'rbf'}\",\n       \"{'C': 0.95, 'degree': 7, 'epsilon': 0.2, 'kernel': 'rbf'}\",\n       \"{'C': 0.95, 'degree': 7, 'epsilon': 0.1, 'kernel': 'rbf'}\",\n       \"{'C': 0.95, 'degree': 2, 'epsilon': 0.1, 'kernel': 'rbf'}\",\n       \"{'C': 0.95, 'degree': 4, 'epsilon': 0.1, 'kernel': 'rbf'}\",\n       \"{'C': 0.95, 'degree': 3, 'epsilon': 0.1, 'kernel': 'rbf'}\",\n       \"{'C': 0.95, 'degree': 6, 'epsilon': 0.1, 'kernel': 'rbf'}\",\n       \"{'C': 0.95, 'degree': 5, 'epsilon': 0.1, 'kernel': 'rbf'}\",\n       \"{'C': 0.95, 'degree': 3, 'epsilon': 0.25, 'kernel': 'rbf'}\",\n       \"{'C': 0.95, 'degree': 7, 'epsilon': 0.25, 'kernel': 'rbf'}\"],\n      dtype=object)"
     },
     "metadata": {},
     "execution_count": 15
    }
   ],
   "source": [
    "grid_search_df.sort_values('mean_test_mse', ascending=False)[\"params\"].head(20).values\n"
   ]
  },
  {
   "cell_type": "markdown",
   "metadata": {},
   "source": [
    "# KNN Regressor"
   ]
  },
  {
   "cell_type": "code",
   "execution_count": 16,
   "metadata": {},
   "outputs": [],
   "source": [
    "PATH = 'knn_grid_search_results.csv'\n"
   ]
  },
  {
   "cell_type": "code",
   "execution_count": 17,
   "metadata": {},
   "outputs": [],
   "source": [
    "grid_search_df = pd.read_csv(PATH)\n",
    "grid_search_df[\"model\"] = \"knn\"\n",
    "grid_search_df = grid_search_df[[\"model\", 'params', 'mean_test_mse', 'std_test_mse', 'mean_test_mae', 'std_test_mae', 'mean_test_r2', 'std_test_r2']]\n",
    "summary_df = summary_df.append(grid_search_df.sort_values('mean_test_mse', ascending=False).iloc[0], ignore_index=True)"
   ]
  },
  {
   "cell_type": "code",
   "execution_count": 18,
   "metadata": {},
   "outputs": [
    {
     "output_type": "execute_result",
     "data": {
      "text/plain": "   model                                             params  mean_test_mse  \\\n2    knn  {'metric': 'minkowski', 'n_neighbors': 3, 'p': 1}      -0.565334   \n4    knn  {'metric': 'minkowski', 'n_neighbors': 5, 'p': 1}      -0.587152   \n3    knn  {'metric': 'minkowski', 'n_neighbors': 3, 'p': 2}      -0.594391   \n6    knn  {'metric': 'minkowski', 'n_neighbors': 7, 'p': 1}      -0.646270   \n7    knn  {'metric': 'minkowski', 'n_neighbors': 7, 'p': 2}      -0.674868   \n5    knn  {'metric': 'minkowski', 'n_neighbors': 5, 'p': 2}      -0.683720   \n8    knn  {'metric': 'minkowski', 'n_neighbors': 9, 'p': 1}      -0.710547   \n20   knn  {'metric': 'chebyshev', 'n_neighbors': 9, 'p': 1}      -0.736654   \n21   knn  {'metric': 'chebyshev', 'n_neighbors': 9, 'p': 2}      -0.736654   \n14   knn  {'metric': 'chebyshev', 'n_neighbors': 3, 'p': 1}      -0.746062   \n15   knn  {'metric': 'chebyshev', 'n_neighbors': 3, 'p': 2}      -0.746062   \n9    knn  {'metric': 'minkowski', 'n_neighbors': 9, 'p': 2}      -0.748197   \n23   knn  {'metric': 'chebyshev', 'n_neighbors': 11, 'p'...      -0.763347   \n22   knn  {'metric': 'chebyshev', 'n_neighbors': 11, 'p'...      -0.763347   \n10   knn  {'metric': 'minkowski', 'n_neighbors': 11, 'p'...      -0.765452   \n18   knn  {'metric': 'chebyshev', 'n_neighbors': 7, 'p': 1}      -0.808548   \n19   knn  {'metric': 'chebyshev', 'n_neighbors': 7, 'p': 2}      -0.808548   \n11   knn  {'metric': 'minkowski', 'n_neighbors': 11, 'p'...      -0.809273   \n16   knn  {'metric': 'chebyshev', 'n_neighbors': 5, 'p': 1}      -0.892173   \n17   knn  {'metric': 'chebyshev', 'n_neighbors': 5, 'p': 2}      -0.892173   \n12   knn  {'metric': 'chebyshev', 'n_neighbors': 1, 'p': 1}      -1.055916   \n13   knn  {'metric': 'chebyshev', 'n_neighbors': 1, 'p': 2}      -1.055916   \n1    knn  {'metric': 'minkowski', 'n_neighbors': 1, 'p': 2}      -1.071161   \n0    knn  {'metric': 'minkowski', 'n_neighbors': 1, 'p': 1}      -1.112008   \n\n    std_test_mse  mean_test_mae  std_test_mae  mean_test_r2  std_test_r2  \n2       0.422630      -0.573921      0.184990     -0.391969     0.312410  \n4       0.377697      -0.605855      0.124222     -0.361574     0.288939  \n3       0.531946      -0.574652      0.193129     -0.356943     0.398114  \n6       0.335465      -0.661904      0.112259     -0.296783     0.236879  \n7       0.317510      -0.681200      0.146867     -0.281606     0.233502  \n5       0.428037      -0.662976      0.169861     -0.268627     0.355568  \n8       0.379356      -0.688452      0.154693     -0.261673     0.223184  \n20      0.389047      -0.694127      0.191617     -0.244739     0.229553  \n21      0.389047      -0.694127      0.191617     -0.244739     0.229553  \n14      0.521501      -0.671575      0.240610     -0.203787     0.446829  \n15      0.521501      -0.671575      0.240610     -0.203787     0.446829  \n9       0.379499      -0.704107      0.152420     -0.217610     0.249501  \n23      0.376400      -0.723736      0.181490     -0.194932     0.248867  \n22      0.376400      -0.723736      0.181490     -0.194932     0.248867  \n10      0.371325      -0.716542      0.153552     -0.195454     0.221117  \n18      0.377615      -0.710359      0.210272     -0.152770     0.318279  \n19      0.377615      -0.710359      0.210272     -0.152770     0.318279  \n11      0.379756      -0.731465      0.179088     -0.152714     0.207994  \n16      0.539650      -0.750515      0.262723     -0.055417     0.545965  \n17      0.539650      -0.750515      0.262723     -0.055417     0.545965  \n12      0.558785      -0.726865      0.268826      0.323187     0.871618  \n13      0.558785      -0.726865      0.268826      0.323187     0.871618  \n1       0.758289      -0.720826      0.284231      0.332867     1.085511  \n0       0.582892      -0.760366      0.227842      0.377938     1.049540  ",
      "text/html": "<div>\n<style scoped>\n    .dataframe tbody tr th:only-of-type {\n        vertical-align: middle;\n    }\n\n    .dataframe tbody tr th {\n        vertical-align: top;\n    }\n\n    .dataframe thead th {\n        text-align: right;\n    }\n</style>\n<table border=\"1\" class=\"dataframe\">\n  <thead>\n    <tr style=\"text-align: right;\">\n      <th></th>\n      <th>model</th>\n      <th>params</th>\n      <th>mean_test_mse</th>\n      <th>std_test_mse</th>\n      <th>mean_test_mae</th>\n      <th>std_test_mae</th>\n      <th>mean_test_r2</th>\n      <th>std_test_r2</th>\n    </tr>\n  </thead>\n  <tbody>\n    <tr>\n      <th>2</th>\n      <td>knn</td>\n      <td>{'metric': 'minkowski', 'n_neighbors': 3, 'p': 1}</td>\n      <td>-0.565334</td>\n      <td>0.422630</td>\n      <td>-0.573921</td>\n      <td>0.184990</td>\n      <td>-0.391969</td>\n      <td>0.312410</td>\n    </tr>\n    <tr>\n      <th>4</th>\n      <td>knn</td>\n      <td>{'metric': 'minkowski', 'n_neighbors': 5, 'p': 1}</td>\n      <td>-0.587152</td>\n      <td>0.377697</td>\n      <td>-0.605855</td>\n      <td>0.124222</td>\n      <td>-0.361574</td>\n      <td>0.288939</td>\n    </tr>\n    <tr>\n      <th>3</th>\n      <td>knn</td>\n      <td>{'metric': 'minkowski', 'n_neighbors': 3, 'p': 2}</td>\n      <td>-0.594391</td>\n      <td>0.531946</td>\n      <td>-0.574652</td>\n      <td>0.193129</td>\n      <td>-0.356943</td>\n      <td>0.398114</td>\n    </tr>\n    <tr>\n      <th>6</th>\n      <td>knn</td>\n      <td>{'metric': 'minkowski', 'n_neighbors': 7, 'p': 1}</td>\n      <td>-0.646270</td>\n      <td>0.335465</td>\n      <td>-0.661904</td>\n      <td>0.112259</td>\n      <td>-0.296783</td>\n      <td>0.236879</td>\n    </tr>\n    <tr>\n      <th>7</th>\n      <td>knn</td>\n      <td>{'metric': 'minkowski', 'n_neighbors': 7, 'p': 2}</td>\n      <td>-0.674868</td>\n      <td>0.317510</td>\n      <td>-0.681200</td>\n      <td>0.146867</td>\n      <td>-0.281606</td>\n      <td>0.233502</td>\n    </tr>\n    <tr>\n      <th>5</th>\n      <td>knn</td>\n      <td>{'metric': 'minkowski', 'n_neighbors': 5, 'p': 2}</td>\n      <td>-0.683720</td>\n      <td>0.428037</td>\n      <td>-0.662976</td>\n      <td>0.169861</td>\n      <td>-0.268627</td>\n      <td>0.355568</td>\n    </tr>\n    <tr>\n      <th>8</th>\n      <td>knn</td>\n      <td>{'metric': 'minkowski', 'n_neighbors': 9, 'p': 1}</td>\n      <td>-0.710547</td>\n      <td>0.379356</td>\n      <td>-0.688452</td>\n      <td>0.154693</td>\n      <td>-0.261673</td>\n      <td>0.223184</td>\n    </tr>\n    <tr>\n      <th>20</th>\n      <td>knn</td>\n      <td>{'metric': 'chebyshev', 'n_neighbors': 9, 'p': 1}</td>\n      <td>-0.736654</td>\n      <td>0.389047</td>\n      <td>-0.694127</td>\n      <td>0.191617</td>\n      <td>-0.244739</td>\n      <td>0.229553</td>\n    </tr>\n    <tr>\n      <th>21</th>\n      <td>knn</td>\n      <td>{'metric': 'chebyshev', 'n_neighbors': 9, 'p': 2}</td>\n      <td>-0.736654</td>\n      <td>0.389047</td>\n      <td>-0.694127</td>\n      <td>0.191617</td>\n      <td>-0.244739</td>\n      <td>0.229553</td>\n    </tr>\n    <tr>\n      <th>14</th>\n      <td>knn</td>\n      <td>{'metric': 'chebyshev', 'n_neighbors': 3, 'p': 1}</td>\n      <td>-0.746062</td>\n      <td>0.521501</td>\n      <td>-0.671575</td>\n      <td>0.240610</td>\n      <td>-0.203787</td>\n      <td>0.446829</td>\n    </tr>\n    <tr>\n      <th>15</th>\n      <td>knn</td>\n      <td>{'metric': 'chebyshev', 'n_neighbors': 3, 'p': 2}</td>\n      <td>-0.746062</td>\n      <td>0.521501</td>\n      <td>-0.671575</td>\n      <td>0.240610</td>\n      <td>-0.203787</td>\n      <td>0.446829</td>\n    </tr>\n    <tr>\n      <th>9</th>\n      <td>knn</td>\n      <td>{'metric': 'minkowski', 'n_neighbors': 9, 'p': 2}</td>\n      <td>-0.748197</td>\n      <td>0.379499</td>\n      <td>-0.704107</td>\n      <td>0.152420</td>\n      <td>-0.217610</td>\n      <td>0.249501</td>\n    </tr>\n    <tr>\n      <th>23</th>\n      <td>knn</td>\n      <td>{'metric': 'chebyshev', 'n_neighbors': 11, 'p'...</td>\n      <td>-0.763347</td>\n      <td>0.376400</td>\n      <td>-0.723736</td>\n      <td>0.181490</td>\n      <td>-0.194932</td>\n      <td>0.248867</td>\n    </tr>\n    <tr>\n      <th>22</th>\n      <td>knn</td>\n      <td>{'metric': 'chebyshev', 'n_neighbors': 11, 'p'...</td>\n      <td>-0.763347</td>\n      <td>0.376400</td>\n      <td>-0.723736</td>\n      <td>0.181490</td>\n      <td>-0.194932</td>\n      <td>0.248867</td>\n    </tr>\n    <tr>\n      <th>10</th>\n      <td>knn</td>\n      <td>{'metric': 'minkowski', 'n_neighbors': 11, 'p'...</td>\n      <td>-0.765452</td>\n      <td>0.371325</td>\n      <td>-0.716542</td>\n      <td>0.153552</td>\n      <td>-0.195454</td>\n      <td>0.221117</td>\n    </tr>\n    <tr>\n      <th>18</th>\n      <td>knn</td>\n      <td>{'metric': 'chebyshev', 'n_neighbors': 7, 'p': 1}</td>\n      <td>-0.808548</td>\n      <td>0.377615</td>\n      <td>-0.710359</td>\n      <td>0.210272</td>\n      <td>-0.152770</td>\n      <td>0.318279</td>\n    </tr>\n    <tr>\n      <th>19</th>\n      <td>knn</td>\n      <td>{'metric': 'chebyshev', 'n_neighbors': 7, 'p': 2}</td>\n      <td>-0.808548</td>\n      <td>0.377615</td>\n      <td>-0.710359</td>\n      <td>0.210272</td>\n      <td>-0.152770</td>\n      <td>0.318279</td>\n    </tr>\n    <tr>\n      <th>11</th>\n      <td>knn</td>\n      <td>{'metric': 'minkowski', 'n_neighbors': 11, 'p'...</td>\n      <td>-0.809273</td>\n      <td>0.379756</td>\n      <td>-0.731465</td>\n      <td>0.179088</td>\n      <td>-0.152714</td>\n      <td>0.207994</td>\n    </tr>\n    <tr>\n      <th>16</th>\n      <td>knn</td>\n      <td>{'metric': 'chebyshev', 'n_neighbors': 5, 'p': 1}</td>\n      <td>-0.892173</td>\n      <td>0.539650</td>\n      <td>-0.750515</td>\n      <td>0.262723</td>\n      <td>-0.055417</td>\n      <td>0.545965</td>\n    </tr>\n    <tr>\n      <th>17</th>\n      <td>knn</td>\n      <td>{'metric': 'chebyshev', 'n_neighbors': 5, 'p': 2}</td>\n      <td>-0.892173</td>\n      <td>0.539650</td>\n      <td>-0.750515</td>\n      <td>0.262723</td>\n      <td>-0.055417</td>\n      <td>0.545965</td>\n    </tr>\n    <tr>\n      <th>12</th>\n      <td>knn</td>\n      <td>{'metric': 'chebyshev', 'n_neighbors': 1, 'p': 1}</td>\n      <td>-1.055916</td>\n      <td>0.558785</td>\n      <td>-0.726865</td>\n      <td>0.268826</td>\n      <td>0.323187</td>\n      <td>0.871618</td>\n    </tr>\n    <tr>\n      <th>13</th>\n      <td>knn</td>\n      <td>{'metric': 'chebyshev', 'n_neighbors': 1, 'p': 2}</td>\n      <td>-1.055916</td>\n      <td>0.558785</td>\n      <td>-0.726865</td>\n      <td>0.268826</td>\n      <td>0.323187</td>\n      <td>0.871618</td>\n    </tr>\n    <tr>\n      <th>1</th>\n      <td>knn</td>\n      <td>{'metric': 'minkowski', 'n_neighbors': 1, 'p': 2}</td>\n      <td>-1.071161</td>\n      <td>0.758289</td>\n      <td>-0.720826</td>\n      <td>0.284231</td>\n      <td>0.332867</td>\n      <td>1.085511</td>\n    </tr>\n    <tr>\n      <th>0</th>\n      <td>knn</td>\n      <td>{'metric': 'minkowski', 'n_neighbors': 1, 'p': 1}</td>\n      <td>-1.112008</td>\n      <td>0.582892</td>\n      <td>-0.760366</td>\n      <td>0.227842</td>\n      <td>0.377938</td>\n      <td>1.049540</td>\n    </tr>\n  </tbody>\n</table>\n</div>"
     },
     "metadata": {},
     "execution_count": 18
    }
   ],
   "source": [
    "grid_search_df.sort_values('mean_test_mse', ascending=False)"
   ]
  },
  {
   "cell_type": "markdown",
   "metadata": {},
   "source": [
    "# Lasso Regressor"
   ]
  },
  {
   "cell_type": "code",
   "execution_count": 19,
   "metadata": {},
   "outputs": [],
   "source": [
    "PATH = 'lasso_grid_search_results.csv'"
   ]
  },
  {
   "cell_type": "code",
   "execution_count": 20,
   "metadata": {},
   "outputs": [],
   "source": [
    "grid_search_df = pd.read_csv(PATH)\n",
    "grid_search_df[\"model\"] = \"lasso\"\n",
    "grid_search_df = grid_search_df[[\"model\", 'params', 'mean_test_mse', 'std_test_mse', 'mean_test_mae', 'std_test_mae', 'mean_test_r2', 'std_test_r2']]\n",
    "summary_df = summary_df.append(grid_search_df.sort_values('mean_test_mse', ascending=False).iloc[0], ignore_index=True)"
   ]
  },
  {
   "cell_type": "code",
   "execution_count": 21,
   "metadata": {},
   "outputs": [
    {
     "output_type": "execute_result",
     "data": {
      "text/plain": "    model           params  mean_test_mse  std_test_mse  mean_test_mae  \\\n2   lasso   {'alpha': 0.1}      -0.784234      0.329030      -0.737663   \n3   lasso   {'alpha': 0.2}      -0.804518      0.290024      -0.757419   \n1   lasso  {'alpha': 0.05}      -0.861467      0.571269      -0.743633   \n4   lasso   {'alpha': 0.3}      -0.928384      0.330478      -0.830299   \n0   lasso  {'alpha': 0.01}      -0.991112      0.946234      -0.742941   \n7   lasso   {'alpha': 0.6}      -0.992375      0.368346      -0.878493   \n8   lasso   {'alpha': 0.7}      -0.992375      0.368346      -0.878493   \n9   lasso   {'alpha': 0.8}      -0.992375      0.368346      -0.878493   \n10  lasso   {'alpha': 0.9}      -0.992375      0.368346      -0.878493   \n11  lasso     {'alpha': 1}      -0.992375      0.368346      -0.878493   \n12  lasso     {'alpha': 2}      -0.992375      0.368346      -0.878493   \n13  lasso     {'alpha': 3}      -0.992375      0.368346      -0.878493   \n14  lasso     {'alpha': 5}      -0.992375      0.368346      -0.878493   \n15  lasso     {'alpha': 7}      -0.992375      0.368346      -0.878493   \n6   lasso   {'alpha': 0.5}      -0.993134      0.367553      -0.878736   \n5   lasso   {'alpha': 0.4}      -1.006851      0.356329      -0.877860   \n\n    std_test_mae  mean_test_r2  std_test_r2  \n2       0.159074     -0.123086     0.253758  \n3       0.116850     -0.100018     0.221012  \n1       0.191419     -0.058619     0.423783  \n4       0.148709      0.013207     0.148668  \n0       0.240123      0.044921     0.681924  \n7       0.179587      0.065749     0.069789  \n8       0.179587      0.065749     0.069789  \n9       0.179587      0.065749     0.069789  \n10      0.179587      0.065749     0.069789  \n11      0.179587      0.065749     0.069789  \n12      0.179587      0.065749     0.069789  \n13      0.179587      0.065749     0.069789  \n14      0.179587      0.065749     0.069789  \n15      0.179587      0.065749     0.069789  \n6       0.179322      0.067081     0.069804  \n5       0.168291      0.091271     0.094599  ",
      "text/html": "<div>\n<style scoped>\n    .dataframe tbody tr th:only-of-type {\n        vertical-align: middle;\n    }\n\n    .dataframe tbody tr th {\n        vertical-align: top;\n    }\n\n    .dataframe thead th {\n        text-align: right;\n    }\n</style>\n<table border=\"1\" class=\"dataframe\">\n  <thead>\n    <tr style=\"text-align: right;\">\n      <th></th>\n      <th>model</th>\n      <th>params</th>\n      <th>mean_test_mse</th>\n      <th>std_test_mse</th>\n      <th>mean_test_mae</th>\n      <th>std_test_mae</th>\n      <th>mean_test_r2</th>\n      <th>std_test_r2</th>\n    </tr>\n  </thead>\n  <tbody>\n    <tr>\n      <th>2</th>\n      <td>lasso</td>\n      <td>{'alpha': 0.1}</td>\n      <td>-0.784234</td>\n      <td>0.329030</td>\n      <td>-0.737663</td>\n      <td>0.159074</td>\n      <td>-0.123086</td>\n      <td>0.253758</td>\n    </tr>\n    <tr>\n      <th>3</th>\n      <td>lasso</td>\n      <td>{'alpha': 0.2}</td>\n      <td>-0.804518</td>\n      <td>0.290024</td>\n      <td>-0.757419</td>\n      <td>0.116850</td>\n      <td>-0.100018</td>\n      <td>0.221012</td>\n    </tr>\n    <tr>\n      <th>1</th>\n      <td>lasso</td>\n      <td>{'alpha': 0.05}</td>\n      <td>-0.861467</td>\n      <td>0.571269</td>\n      <td>-0.743633</td>\n      <td>0.191419</td>\n      <td>-0.058619</td>\n      <td>0.423783</td>\n    </tr>\n    <tr>\n      <th>4</th>\n      <td>lasso</td>\n      <td>{'alpha': 0.3}</td>\n      <td>-0.928384</td>\n      <td>0.330478</td>\n      <td>-0.830299</td>\n      <td>0.148709</td>\n      <td>0.013207</td>\n      <td>0.148668</td>\n    </tr>\n    <tr>\n      <th>0</th>\n      <td>lasso</td>\n      <td>{'alpha': 0.01}</td>\n      <td>-0.991112</td>\n      <td>0.946234</td>\n      <td>-0.742941</td>\n      <td>0.240123</td>\n      <td>0.044921</td>\n      <td>0.681924</td>\n    </tr>\n    <tr>\n      <th>7</th>\n      <td>lasso</td>\n      <td>{'alpha': 0.6}</td>\n      <td>-0.992375</td>\n      <td>0.368346</td>\n      <td>-0.878493</td>\n      <td>0.179587</td>\n      <td>0.065749</td>\n      <td>0.069789</td>\n    </tr>\n    <tr>\n      <th>8</th>\n      <td>lasso</td>\n      <td>{'alpha': 0.7}</td>\n      <td>-0.992375</td>\n      <td>0.368346</td>\n      <td>-0.878493</td>\n      <td>0.179587</td>\n      <td>0.065749</td>\n      <td>0.069789</td>\n    </tr>\n    <tr>\n      <th>9</th>\n      <td>lasso</td>\n      <td>{'alpha': 0.8}</td>\n      <td>-0.992375</td>\n      <td>0.368346</td>\n      <td>-0.878493</td>\n      <td>0.179587</td>\n      <td>0.065749</td>\n      <td>0.069789</td>\n    </tr>\n    <tr>\n      <th>10</th>\n      <td>lasso</td>\n      <td>{'alpha': 0.9}</td>\n      <td>-0.992375</td>\n      <td>0.368346</td>\n      <td>-0.878493</td>\n      <td>0.179587</td>\n      <td>0.065749</td>\n      <td>0.069789</td>\n    </tr>\n    <tr>\n      <th>11</th>\n      <td>lasso</td>\n      <td>{'alpha': 1}</td>\n      <td>-0.992375</td>\n      <td>0.368346</td>\n      <td>-0.878493</td>\n      <td>0.179587</td>\n      <td>0.065749</td>\n      <td>0.069789</td>\n    </tr>\n    <tr>\n      <th>12</th>\n      <td>lasso</td>\n      <td>{'alpha': 2}</td>\n      <td>-0.992375</td>\n      <td>0.368346</td>\n      <td>-0.878493</td>\n      <td>0.179587</td>\n      <td>0.065749</td>\n      <td>0.069789</td>\n    </tr>\n    <tr>\n      <th>13</th>\n      <td>lasso</td>\n      <td>{'alpha': 3}</td>\n      <td>-0.992375</td>\n      <td>0.368346</td>\n      <td>-0.878493</td>\n      <td>0.179587</td>\n      <td>0.065749</td>\n      <td>0.069789</td>\n    </tr>\n    <tr>\n      <th>14</th>\n      <td>lasso</td>\n      <td>{'alpha': 5}</td>\n      <td>-0.992375</td>\n      <td>0.368346</td>\n      <td>-0.878493</td>\n      <td>0.179587</td>\n      <td>0.065749</td>\n      <td>0.069789</td>\n    </tr>\n    <tr>\n      <th>15</th>\n      <td>lasso</td>\n      <td>{'alpha': 7}</td>\n      <td>-0.992375</td>\n      <td>0.368346</td>\n      <td>-0.878493</td>\n      <td>0.179587</td>\n      <td>0.065749</td>\n      <td>0.069789</td>\n    </tr>\n    <tr>\n      <th>6</th>\n      <td>lasso</td>\n      <td>{'alpha': 0.5}</td>\n      <td>-0.993134</td>\n      <td>0.367553</td>\n      <td>-0.878736</td>\n      <td>0.179322</td>\n      <td>0.067081</td>\n      <td>0.069804</td>\n    </tr>\n    <tr>\n      <th>5</th>\n      <td>lasso</td>\n      <td>{'alpha': 0.4}</td>\n      <td>-1.006851</td>\n      <td>0.356329</td>\n      <td>-0.877860</td>\n      <td>0.168291</td>\n      <td>0.091271</td>\n      <td>0.094599</td>\n    </tr>\n  </tbody>\n</table>\n</div>"
     },
     "metadata": {},
     "execution_count": 21
    }
   ],
   "source": [
    "grid_search_df.sort_values('mean_test_mse', ascending=False)"
   ]
  },
  {
   "cell_type": "markdown",
   "metadata": {},
   "source": [
    "# Elastic Net "
   ]
  },
  {
   "cell_type": "code",
   "execution_count": 22,
   "metadata": {},
   "outputs": [],
   "source": [
    "PATH = 'elastic_net_grid_search_results.csv'"
   ]
  },
  {
   "cell_type": "code",
   "execution_count": 23,
   "metadata": {},
   "outputs": [],
   "source": [
    "grid_search_df = pd.read_csv(PATH)\n",
    "grid_search_df[\"model\"] = \"elastic_net\"\n",
    "grid_search_df = grid_search_df[[\"model\", 'params', 'mean_test_mse', 'std_test_mse', 'mean_test_mae', 'std_test_mae', 'mean_test_r2', 'std_test_r2']]\n",
    "summary_df = summary_df.append(grid_search_df.sort_values('mean_test_mse', ascending=False).iloc[0], ignore_index=True)"
   ]
  },
  {
   "cell_type": "code",
   "execution_count": 24,
   "metadata": {},
   "outputs": [
    {
     "output_type": "execute_result",
     "data": {
      "text/plain": "           model                            params  mean_test_mse  \\\n84   elastic_net     {'alpha': 0.5, 'l1_ratio': 0}      -0.674241   \n105  elastic_net     {'alpha': 0.6, 'l1_ratio': 0}      -0.675993   \n63   elastic_net     {'alpha': 0.4, 'l1_ratio': 0}      -0.676390   \n126  elastic_net     {'alpha': 0.7, 'l1_ratio': 0}      -0.679783   \n147  elastic_net     {'alpha': 0.8, 'l1_ratio': 0}      -0.684651   \n..           ...                               ...            ...   \n138  elastic_net   {'alpha': 0.7, 'l1_ratio': 0.6}      -1.003341   \n100  elastic_net   {'alpha': 0.5, 'l1_ratio': 0.8}      -1.004293   \n119  elastic_net   {'alpha': 0.6, 'l1_ratio': 0.7}      -1.004848   \n101  elastic_net  {'alpha': 0.5, 'l1_ratio': 0.85}      -1.006296   \n83   elastic_net     {'alpha': 0.4, 'l1_ratio': 1}      -1.006851   \n\n     std_test_mse  mean_test_mae  std_test_mae  mean_test_r2  std_test_r2  \n84       0.244535      -0.692154      0.117023     -0.219554     0.282693  \n105      0.241735      -0.694938      0.113781     -0.217911     0.275993  \n63       0.253670      -0.691181      0.124243     -0.217838     0.292185  \n126      0.241591      -0.699371      0.109041     -0.214510     0.270577  \n147      0.242557      -0.703468      0.105392     -0.210182     0.265803  \n..            ...            ...           ...           ...          ...  \n138      0.360815      -0.879561      0.173241      0.083523     0.079920  \n100      0.358250      -0.877497      0.169794      0.086649     0.090070  \n119      0.359690      -0.879942      0.172400      0.086090     0.081955  \n101      0.358533      -0.880459      0.172103      0.088498     0.082474  \n83       0.356329      -0.877860      0.168291      0.091271     0.094599  \n\n[273 rows x 8 columns]",
      "text/html": "<div>\n<style scoped>\n    .dataframe tbody tr th:only-of-type {\n        vertical-align: middle;\n    }\n\n    .dataframe tbody tr th {\n        vertical-align: top;\n    }\n\n    .dataframe thead th {\n        text-align: right;\n    }\n</style>\n<table border=\"1\" class=\"dataframe\">\n  <thead>\n    <tr style=\"text-align: right;\">\n      <th></th>\n      <th>model</th>\n      <th>params</th>\n      <th>mean_test_mse</th>\n      <th>std_test_mse</th>\n      <th>mean_test_mae</th>\n      <th>std_test_mae</th>\n      <th>mean_test_r2</th>\n      <th>std_test_r2</th>\n    </tr>\n  </thead>\n  <tbody>\n    <tr>\n      <th>84</th>\n      <td>elastic_net</td>\n      <td>{'alpha': 0.5, 'l1_ratio': 0}</td>\n      <td>-0.674241</td>\n      <td>0.244535</td>\n      <td>-0.692154</td>\n      <td>0.117023</td>\n      <td>-0.219554</td>\n      <td>0.282693</td>\n    </tr>\n    <tr>\n      <th>105</th>\n      <td>elastic_net</td>\n      <td>{'alpha': 0.6, 'l1_ratio': 0}</td>\n      <td>-0.675993</td>\n      <td>0.241735</td>\n      <td>-0.694938</td>\n      <td>0.113781</td>\n      <td>-0.217911</td>\n      <td>0.275993</td>\n    </tr>\n    <tr>\n      <th>63</th>\n      <td>elastic_net</td>\n      <td>{'alpha': 0.4, 'l1_ratio': 0}</td>\n      <td>-0.676390</td>\n      <td>0.253670</td>\n      <td>-0.691181</td>\n      <td>0.124243</td>\n      <td>-0.217838</td>\n      <td>0.292185</td>\n    </tr>\n    <tr>\n      <th>126</th>\n      <td>elastic_net</td>\n      <td>{'alpha': 0.7, 'l1_ratio': 0}</td>\n      <td>-0.679783</td>\n      <td>0.241591</td>\n      <td>-0.699371</td>\n      <td>0.109041</td>\n      <td>-0.214510</td>\n      <td>0.270577</td>\n    </tr>\n    <tr>\n      <th>147</th>\n      <td>elastic_net</td>\n      <td>{'alpha': 0.8, 'l1_ratio': 0}</td>\n      <td>-0.684651</td>\n      <td>0.242557</td>\n      <td>-0.703468</td>\n      <td>0.105392</td>\n      <td>-0.210182</td>\n      <td>0.265803</td>\n    </tr>\n    <tr>\n      <th>...</th>\n      <td>...</td>\n      <td>...</td>\n      <td>...</td>\n      <td>...</td>\n      <td>...</td>\n      <td>...</td>\n      <td>...</td>\n      <td>...</td>\n    </tr>\n    <tr>\n      <th>138</th>\n      <td>elastic_net</td>\n      <td>{'alpha': 0.7, 'l1_ratio': 0.6}</td>\n      <td>-1.003341</td>\n      <td>0.360815</td>\n      <td>-0.879561</td>\n      <td>0.173241</td>\n      <td>0.083523</td>\n      <td>0.079920</td>\n    </tr>\n    <tr>\n      <th>100</th>\n      <td>elastic_net</td>\n      <td>{'alpha': 0.5, 'l1_ratio': 0.8}</td>\n      <td>-1.004293</td>\n      <td>0.358250</td>\n      <td>-0.877497</td>\n      <td>0.169794</td>\n      <td>0.086649</td>\n      <td>0.090070</td>\n    </tr>\n    <tr>\n      <th>119</th>\n      <td>elastic_net</td>\n      <td>{'alpha': 0.6, 'l1_ratio': 0.7}</td>\n      <td>-1.004848</td>\n      <td>0.359690</td>\n      <td>-0.879942</td>\n      <td>0.172400</td>\n      <td>0.086090</td>\n      <td>0.081955</td>\n    </tr>\n    <tr>\n      <th>101</th>\n      <td>elastic_net</td>\n      <td>{'alpha': 0.5, 'l1_ratio': 0.85}</td>\n      <td>-1.006296</td>\n      <td>0.358533</td>\n      <td>-0.880459</td>\n      <td>0.172103</td>\n      <td>0.088498</td>\n      <td>0.082474</td>\n    </tr>\n    <tr>\n      <th>83</th>\n      <td>elastic_net</td>\n      <td>{'alpha': 0.4, 'l1_ratio': 1}</td>\n      <td>-1.006851</td>\n      <td>0.356329</td>\n      <td>-0.877860</td>\n      <td>0.168291</td>\n      <td>0.091271</td>\n      <td>0.094599</td>\n    </tr>\n  </tbody>\n</table>\n<p>273 rows × 8 columns</p>\n</div>"
     },
     "metadata": {},
     "execution_count": 24
    }
   ],
   "source": [
    "grid_search_df.sort_values('mean_test_mse', ascending=False)"
   ]
  },
  {
   "cell_type": "markdown",
   "metadata": {},
   "source": [
    "# Ridge"
   ]
  },
  {
   "cell_type": "code",
   "execution_count": 25,
   "metadata": {},
   "outputs": [],
   "source": [
    "PATH = 'ridge_grid_search_results.csv'"
   ]
  },
  {
   "cell_type": "code",
   "execution_count": 26,
   "metadata": {},
   "outputs": [],
   "source": [
    "grid_search_df = pd.read_csv(PATH)\n",
    "grid_search_df[\"model\"] = \"ridge\"\n",
    "grid_search_df = grid_search_df[[\"model\", 'params', 'mean_test_mse', 'std_test_mse', 'mean_test_mae', 'std_test_mae', 'mean_test_r2', 'std_test_r2']]\n",
    "summary_df = summary_df.append(grid_search_df.sort_values('mean_test_mse', ascending=False).iloc[0], ignore_index=True)"
   ]
  },
  {
   "cell_type": "code",
   "execution_count": 27,
   "metadata": {},
   "outputs": [
    {
     "output_type": "execute_result",
     "data": {
      "text/plain": "    model           params  mean_test_mse  std_test_mse  mean_test_mae  \\\n23  ridge    {'alpha': 17}      -0.677725      0.257294      -0.691296   \n22  ridge    {'alpha': 15}      -0.681777      0.267356      -0.691749   \n21  ridge    {'alpha': 13}      -0.688297      0.282725      -0.692592   \n20  ridge    {'alpha': 10}      -0.705284      0.322153      -0.695303   \n19  ridge     {'alpha': 9}      -0.713819      0.341971      -0.697066   \n18  ridge     {'alpha': 8}      -0.724414      0.366587      -0.699183   \n17  ridge     {'alpha': 7}      -0.737641      0.397289      -0.702334   \n16  ridge     {'alpha': 6}      -0.754296      0.435805      -0.706025   \n15  ridge     {'alpha': 5}      -0.775518      0.484512      -0.710397   \n14  ridge     {'alpha': 4}      -0.803003      0.546780      -0.715641   \n13  ridge     {'alpha': 3}      -0.839403      0.627540      -0.722000   \n12  ridge     {'alpha': 2}      -0.889163      0.734285      -0.729737   \n11  ridge     {'alpha': 1}      -0.960637      0.878790      -0.739519   \n10  ridge   {'alpha': 0.9}      -0.969545      0.895961      -0.740741   \n9   ridge   {'alpha': 0.8}      -0.978870      0.913714      -0.741961   \n8   ridge   {'alpha': 0.7}      -0.988643      0.932071      -0.743169   \n7   ridge   {'alpha': 0.6}      -0.998905      0.951060      -0.744352   \n6   ridge   {'alpha': 0.5}      -1.009700      0.970707      -0.745492   \n5   ridge   {'alpha': 0.4}      -1.021081      0.991041      -0.746564   \n4   ridge   {'alpha': 0.3}      -1.033111      1.012093      -0.747531   \n3   ridge   {'alpha': 0.2}      -1.045867      1.033896      -0.748753   \n2   ridge   {'alpha': 0.1}      -1.059445      1.056485      -0.750025   \n1   ridge  {'alpha': 0.05}      -1.066581      1.068088      -0.750578   \n0   ridge  {'alpha': 0.01}      -1.072474      1.077523      -0.750965   \n\n    std_test_mae  mean_test_r2  std_test_r2  \n23      0.126491     -0.216720     0.294979  \n22      0.131690     -0.213299     0.301780  \n21      0.138020     -0.207769     0.310915  \n20      0.150220     -0.193328     0.332215  \n19      0.155088     -0.186071     0.342604  \n18      0.160560     -0.177064     0.355501  \n17      0.166140     -0.165822     0.371716  \n16      0.172647     -0.151668     0.392377  \n15      0.180325     -0.133628     0.419080  \n14      0.189521     -0.110239     0.454135  \n13      0.200764     -0.079186     0.500961  \n12      0.214907     -0.036488     0.564771  \n11      0.232528      0.025659     0.653790  \n10      0.234356      0.033499     0.664538  \n9       0.236246      0.041732     0.675686  \n8       0.238201      0.050394     0.687255  \n7       0.240227      0.059526     0.699267  \n6       0.242328      0.069176     0.711748  \n5       0.244514      0.079402     0.724727  \n4       0.246795      0.090274     0.738243  \n3       0.249060      0.101879     0.752341  \n2       0.251376      0.114327     0.767086  \n1       0.252587      0.120912     0.774728  \n0       0.253589      0.126374     0.780984  ",
      "text/html": "<div>\n<style scoped>\n    .dataframe tbody tr th:only-of-type {\n        vertical-align: middle;\n    }\n\n    .dataframe tbody tr th {\n        vertical-align: top;\n    }\n\n    .dataframe thead th {\n        text-align: right;\n    }\n</style>\n<table border=\"1\" class=\"dataframe\">\n  <thead>\n    <tr style=\"text-align: right;\">\n      <th></th>\n      <th>model</th>\n      <th>params</th>\n      <th>mean_test_mse</th>\n      <th>std_test_mse</th>\n      <th>mean_test_mae</th>\n      <th>std_test_mae</th>\n      <th>mean_test_r2</th>\n      <th>std_test_r2</th>\n    </tr>\n  </thead>\n  <tbody>\n    <tr>\n      <th>23</th>\n      <td>ridge</td>\n      <td>{'alpha': 17}</td>\n      <td>-0.677725</td>\n      <td>0.257294</td>\n      <td>-0.691296</td>\n      <td>0.126491</td>\n      <td>-0.216720</td>\n      <td>0.294979</td>\n    </tr>\n    <tr>\n      <th>22</th>\n      <td>ridge</td>\n      <td>{'alpha': 15}</td>\n      <td>-0.681777</td>\n      <td>0.267356</td>\n      <td>-0.691749</td>\n      <td>0.131690</td>\n      <td>-0.213299</td>\n      <td>0.301780</td>\n    </tr>\n    <tr>\n      <th>21</th>\n      <td>ridge</td>\n      <td>{'alpha': 13}</td>\n      <td>-0.688297</td>\n      <td>0.282725</td>\n      <td>-0.692592</td>\n      <td>0.138020</td>\n      <td>-0.207769</td>\n      <td>0.310915</td>\n    </tr>\n    <tr>\n      <th>20</th>\n      <td>ridge</td>\n      <td>{'alpha': 10}</td>\n      <td>-0.705284</td>\n      <td>0.322153</td>\n      <td>-0.695303</td>\n      <td>0.150220</td>\n      <td>-0.193328</td>\n      <td>0.332215</td>\n    </tr>\n    <tr>\n      <th>19</th>\n      <td>ridge</td>\n      <td>{'alpha': 9}</td>\n      <td>-0.713819</td>\n      <td>0.341971</td>\n      <td>-0.697066</td>\n      <td>0.155088</td>\n      <td>-0.186071</td>\n      <td>0.342604</td>\n    </tr>\n    <tr>\n      <th>18</th>\n      <td>ridge</td>\n      <td>{'alpha': 8}</td>\n      <td>-0.724414</td>\n      <td>0.366587</td>\n      <td>-0.699183</td>\n      <td>0.160560</td>\n      <td>-0.177064</td>\n      <td>0.355501</td>\n    </tr>\n    <tr>\n      <th>17</th>\n      <td>ridge</td>\n      <td>{'alpha': 7}</td>\n      <td>-0.737641</td>\n      <td>0.397289</td>\n      <td>-0.702334</td>\n      <td>0.166140</td>\n      <td>-0.165822</td>\n      <td>0.371716</td>\n    </tr>\n    <tr>\n      <th>16</th>\n      <td>ridge</td>\n      <td>{'alpha': 6}</td>\n      <td>-0.754296</td>\n      <td>0.435805</td>\n      <td>-0.706025</td>\n      <td>0.172647</td>\n      <td>-0.151668</td>\n      <td>0.392377</td>\n    </tr>\n    <tr>\n      <th>15</th>\n      <td>ridge</td>\n      <td>{'alpha': 5}</td>\n      <td>-0.775518</td>\n      <td>0.484512</td>\n      <td>-0.710397</td>\n      <td>0.180325</td>\n      <td>-0.133628</td>\n      <td>0.419080</td>\n    </tr>\n    <tr>\n      <th>14</th>\n      <td>ridge</td>\n      <td>{'alpha': 4}</td>\n      <td>-0.803003</td>\n      <td>0.546780</td>\n      <td>-0.715641</td>\n      <td>0.189521</td>\n      <td>-0.110239</td>\n      <td>0.454135</td>\n    </tr>\n    <tr>\n      <th>13</th>\n      <td>ridge</td>\n      <td>{'alpha': 3}</td>\n      <td>-0.839403</td>\n      <td>0.627540</td>\n      <td>-0.722000</td>\n      <td>0.200764</td>\n      <td>-0.079186</td>\n      <td>0.500961</td>\n    </tr>\n    <tr>\n      <th>12</th>\n      <td>ridge</td>\n      <td>{'alpha': 2}</td>\n      <td>-0.889163</td>\n      <td>0.734285</td>\n      <td>-0.729737</td>\n      <td>0.214907</td>\n      <td>-0.036488</td>\n      <td>0.564771</td>\n    </tr>\n    <tr>\n      <th>11</th>\n      <td>ridge</td>\n      <td>{'alpha': 1}</td>\n      <td>-0.960637</td>\n      <td>0.878790</td>\n      <td>-0.739519</td>\n      <td>0.232528</td>\n      <td>0.025659</td>\n      <td>0.653790</td>\n    </tr>\n    <tr>\n      <th>10</th>\n      <td>ridge</td>\n      <td>{'alpha': 0.9}</td>\n      <td>-0.969545</td>\n      <td>0.895961</td>\n      <td>-0.740741</td>\n      <td>0.234356</td>\n      <td>0.033499</td>\n      <td>0.664538</td>\n    </tr>\n    <tr>\n      <th>9</th>\n      <td>ridge</td>\n      <td>{'alpha': 0.8}</td>\n      <td>-0.978870</td>\n      <td>0.913714</td>\n      <td>-0.741961</td>\n      <td>0.236246</td>\n      <td>0.041732</td>\n      <td>0.675686</td>\n    </tr>\n    <tr>\n      <th>8</th>\n      <td>ridge</td>\n      <td>{'alpha': 0.7}</td>\n      <td>-0.988643</td>\n      <td>0.932071</td>\n      <td>-0.743169</td>\n      <td>0.238201</td>\n      <td>0.050394</td>\n      <td>0.687255</td>\n    </tr>\n    <tr>\n      <th>7</th>\n      <td>ridge</td>\n      <td>{'alpha': 0.6}</td>\n      <td>-0.998905</td>\n      <td>0.951060</td>\n      <td>-0.744352</td>\n      <td>0.240227</td>\n      <td>0.059526</td>\n      <td>0.699267</td>\n    </tr>\n    <tr>\n      <th>6</th>\n      <td>ridge</td>\n      <td>{'alpha': 0.5}</td>\n      <td>-1.009700</td>\n      <td>0.970707</td>\n      <td>-0.745492</td>\n      <td>0.242328</td>\n      <td>0.069176</td>\n      <td>0.711748</td>\n    </tr>\n    <tr>\n      <th>5</th>\n      <td>ridge</td>\n      <td>{'alpha': 0.4}</td>\n      <td>-1.021081</td>\n      <td>0.991041</td>\n      <td>-0.746564</td>\n      <td>0.244514</td>\n      <td>0.079402</td>\n      <td>0.724727</td>\n    </tr>\n    <tr>\n      <th>4</th>\n      <td>ridge</td>\n      <td>{'alpha': 0.3}</td>\n      <td>-1.033111</td>\n      <td>1.012093</td>\n      <td>-0.747531</td>\n      <td>0.246795</td>\n      <td>0.090274</td>\n      <td>0.738243</td>\n    </tr>\n    <tr>\n      <th>3</th>\n      <td>ridge</td>\n      <td>{'alpha': 0.2}</td>\n      <td>-1.045867</td>\n      <td>1.033896</td>\n      <td>-0.748753</td>\n      <td>0.249060</td>\n      <td>0.101879</td>\n      <td>0.752341</td>\n    </tr>\n    <tr>\n      <th>2</th>\n      <td>ridge</td>\n      <td>{'alpha': 0.1}</td>\n      <td>-1.059445</td>\n      <td>1.056485</td>\n      <td>-0.750025</td>\n      <td>0.251376</td>\n      <td>0.114327</td>\n      <td>0.767086</td>\n    </tr>\n    <tr>\n      <th>1</th>\n      <td>ridge</td>\n      <td>{'alpha': 0.05}</td>\n      <td>-1.066581</td>\n      <td>1.068088</td>\n      <td>-0.750578</td>\n      <td>0.252587</td>\n      <td>0.120912</td>\n      <td>0.774728</td>\n    </tr>\n    <tr>\n      <th>0</th>\n      <td>ridge</td>\n      <td>{'alpha': 0.01}</td>\n      <td>-1.072474</td>\n      <td>1.077523</td>\n      <td>-0.750965</td>\n      <td>0.253589</td>\n      <td>0.126374</td>\n      <td>0.780984</td>\n    </tr>\n  </tbody>\n</table>\n</div>"
     },
     "metadata": {},
     "execution_count": 27
    }
   ],
   "source": [
    "grid_search_df.sort_values('mean_test_mse', ascending=False)"
   ]
  },
  {
   "cell_type": "markdown",
   "metadata": {},
   "source": [
    "# SGD"
   ]
  },
  {
   "cell_type": "code",
   "execution_count": 28,
   "metadata": {},
   "outputs": [],
   "source": [
    "PATH = 'sgd_grid_search_results.csv'"
   ]
  },
  {
   "cell_type": "code",
   "execution_count": 29,
   "metadata": {},
   "outputs": [],
   "source": [
    "grid_search_df = pd.read_csv(PATH)\n",
    "grid_search_df[\"model\"] = \"sgd\"\n",
    "grid_search_df = grid_search_df[[\"model\", 'params', 'mean_test_mse', 'std_test_mse', 'mean_test_mae', 'std_test_mae', 'mean_test_r2', 'std_test_r2']]\n",
    "summary_df = summary_df.append(grid_search_df.sort_values('mean_test_mse', ascending=False).iloc[0], ignore_index=True)"
   ]
  },
  {
   "cell_type": "code",
   "execution_count": 30,
   "metadata": {},
   "outputs": [
    {
     "output_type": "execute_result",
     "data": {
      "text/plain": "      model                                             params  mean_test_mse  \\\n18873   sgd  {'alpha': 1, 'epsilon': 0.1, 'l1_ratio': 0.75,...  -6.333339e-01   \n19641   sgd  {'alpha': 1, 'epsilon': 0.05, 'l1_ratio': 0.5,...  -6.379836e-01   \n19257   sgd  {'alpha': 1, 'epsilon': 0.05, 'l1_ratio': 0.1,...  -6.391673e-01   \n16329   sgd  {'alpha': 1, 'epsilon': 0.2, 'l1_ratio': 0.2, ...  -6.449299e-01   \n19557   sgd  {'alpha': 1, 'epsilon': 0.05, 'l1_ratio': 0.4,...  -6.486004e-01   \n...     ...                                                ...            ...   \n2316    sgd  {'alpha': 0.0001, 'epsilon': 0.1, 'l1_ratio': ...  -4.437905e+27   \n1596    sgd  {'alpha': 0.0001, 'epsilon': 0.15, 'l1_ratio':...  -4.479474e+27   \n2606    sgd  {'alpha': 0.0001, 'epsilon': 0.1, 'l1_ratio': ...  -4.563874e+27   \n732     sgd  {'alpha': 0.0001, 'epsilon': 0.2, 'l1_ratio': ...  -4.577260e+27   \n3517    sgd  {'alpha': 0.0001, 'epsilon': 0.05, 'l1_ratio':...  -4.692595e+27   \n\n       std_test_mse  mean_test_mae  std_test_mae  mean_test_r2   std_test_r2  \n18873  2.609535e-01  -6.722011e-01  1.217710e-01 -2.635271e-01  3.021828e-01  \n19641  2.301606e-01  -6.783621e-01  1.124690e-01 -2.742543e-01  2.223735e-01  \n19257  2.477624e-01  -6.711164e-01  1.133231e-01 -2.655457e-01  2.891160e-01  \n16329  2.247381e-01  -6.748477e-01  1.088250e-01 -2.625496e-01  2.368013e-01  \n19557  2.364142e-01  -6.737583e-01  1.004899e-01 -2.466845e-01  2.790350e-01  \n...             ...            ...           ...           ...           ...  \n2316   9.100833e+27  -3.497337e+13  3.293545e+13  6.764434e+27  1.618642e+28  \n1596   8.797832e+27  -3.699392e+13  2.548951e+13  4.151564e+27  6.691417e+27  \n2606   7.628484e+27  -4.327278e+13  3.025987e+13  4.513007e+27  5.756078e+27  \n732    5.180573e+27  -4.364782e+13  2.371401e+13  5.388326e+27  5.648279e+27  \n3517   9.188488e+27  -3.826779e+13  3.797170e+13  6.972428e+27  1.618827e+28  \n\n[20160 rows x 8 columns]",
      "text/html": "<div>\n<style scoped>\n    .dataframe tbody tr th:only-of-type {\n        vertical-align: middle;\n    }\n\n    .dataframe tbody tr th {\n        vertical-align: top;\n    }\n\n    .dataframe thead th {\n        text-align: right;\n    }\n</style>\n<table border=\"1\" class=\"dataframe\">\n  <thead>\n    <tr style=\"text-align: right;\">\n      <th></th>\n      <th>model</th>\n      <th>params</th>\n      <th>mean_test_mse</th>\n      <th>std_test_mse</th>\n      <th>mean_test_mae</th>\n      <th>std_test_mae</th>\n      <th>mean_test_r2</th>\n      <th>std_test_r2</th>\n    </tr>\n  </thead>\n  <tbody>\n    <tr>\n      <th>18873</th>\n      <td>sgd</td>\n      <td>{'alpha': 1, 'epsilon': 0.1, 'l1_ratio': 0.75,...</td>\n      <td>-6.333339e-01</td>\n      <td>2.609535e-01</td>\n      <td>-6.722011e-01</td>\n      <td>1.217710e-01</td>\n      <td>-2.635271e-01</td>\n      <td>3.021828e-01</td>\n    </tr>\n    <tr>\n      <th>19641</th>\n      <td>sgd</td>\n      <td>{'alpha': 1, 'epsilon': 0.05, 'l1_ratio': 0.5,...</td>\n      <td>-6.379836e-01</td>\n      <td>2.301606e-01</td>\n      <td>-6.783621e-01</td>\n      <td>1.124690e-01</td>\n      <td>-2.742543e-01</td>\n      <td>2.223735e-01</td>\n    </tr>\n    <tr>\n      <th>19257</th>\n      <td>sgd</td>\n      <td>{'alpha': 1, 'epsilon': 0.05, 'l1_ratio': 0.1,...</td>\n      <td>-6.391673e-01</td>\n      <td>2.477624e-01</td>\n      <td>-6.711164e-01</td>\n      <td>1.133231e-01</td>\n      <td>-2.655457e-01</td>\n      <td>2.891160e-01</td>\n    </tr>\n    <tr>\n      <th>16329</th>\n      <td>sgd</td>\n      <td>{'alpha': 1, 'epsilon': 0.2, 'l1_ratio': 0.2, ...</td>\n      <td>-6.449299e-01</td>\n      <td>2.247381e-01</td>\n      <td>-6.748477e-01</td>\n      <td>1.088250e-01</td>\n      <td>-2.625496e-01</td>\n      <td>2.368013e-01</td>\n    </tr>\n    <tr>\n      <th>19557</th>\n      <td>sgd</td>\n      <td>{'alpha': 1, 'epsilon': 0.05, 'l1_ratio': 0.4,...</td>\n      <td>-6.486004e-01</td>\n      <td>2.364142e-01</td>\n      <td>-6.737583e-01</td>\n      <td>1.004899e-01</td>\n      <td>-2.466845e-01</td>\n      <td>2.790350e-01</td>\n    </tr>\n    <tr>\n      <th>...</th>\n      <td>...</td>\n      <td>...</td>\n      <td>...</td>\n      <td>...</td>\n      <td>...</td>\n      <td>...</td>\n      <td>...</td>\n      <td>...</td>\n    </tr>\n    <tr>\n      <th>2316</th>\n      <td>sgd</td>\n      <td>{'alpha': 0.0001, 'epsilon': 0.1, 'l1_ratio': ...</td>\n      <td>-4.437905e+27</td>\n      <td>9.100833e+27</td>\n      <td>-3.497337e+13</td>\n      <td>3.293545e+13</td>\n      <td>6.764434e+27</td>\n      <td>1.618642e+28</td>\n    </tr>\n    <tr>\n      <th>1596</th>\n      <td>sgd</td>\n      <td>{'alpha': 0.0001, 'epsilon': 0.15, 'l1_ratio':...</td>\n      <td>-4.479474e+27</td>\n      <td>8.797832e+27</td>\n      <td>-3.699392e+13</td>\n      <td>2.548951e+13</td>\n      <td>4.151564e+27</td>\n      <td>6.691417e+27</td>\n    </tr>\n    <tr>\n      <th>2606</th>\n      <td>sgd</td>\n      <td>{'alpha': 0.0001, 'epsilon': 0.1, 'l1_ratio': ...</td>\n      <td>-4.563874e+27</td>\n      <td>7.628484e+27</td>\n      <td>-4.327278e+13</td>\n      <td>3.025987e+13</td>\n      <td>4.513007e+27</td>\n      <td>5.756078e+27</td>\n    </tr>\n    <tr>\n      <th>732</th>\n      <td>sgd</td>\n      <td>{'alpha': 0.0001, 'epsilon': 0.2, 'l1_ratio': ...</td>\n      <td>-4.577260e+27</td>\n      <td>5.180573e+27</td>\n      <td>-4.364782e+13</td>\n      <td>2.371401e+13</td>\n      <td>5.388326e+27</td>\n      <td>5.648279e+27</td>\n    </tr>\n    <tr>\n      <th>3517</th>\n      <td>sgd</td>\n      <td>{'alpha': 0.0001, 'epsilon': 0.05, 'l1_ratio':...</td>\n      <td>-4.692595e+27</td>\n      <td>9.188488e+27</td>\n      <td>-3.826779e+13</td>\n      <td>3.797170e+13</td>\n      <td>6.972428e+27</td>\n      <td>1.618827e+28</td>\n    </tr>\n  </tbody>\n</table>\n<p>20160 rows × 8 columns</p>\n</div>"
     },
     "metadata": {},
     "execution_count": 30
    }
   ],
   "source": [
    "grid_search_df.sort_values('mean_test_mse', ascending=False)"
   ]
  },
  {
   "cell_type": "code",
   "execution_count": 31,
   "metadata": {},
   "outputs": [
    {
     "output_type": "execute_result",
     "data": {
      "text/plain": "array([\"{'alpha': 1, 'epsilon': 0.1, 'l1_ratio': 0.75, 'learning_rate': 'constant', 'loss': 'squared_epsilon_insensitive', 'penalty': 'l2'}\",\n       \"{'alpha': 1, 'epsilon': 0.05, 'l1_ratio': 0.5, 'learning_rate': 'constant', 'loss': 'squared_epsilon_insensitive', 'penalty': 'l2'}\",\n       \"{'alpha': 1, 'epsilon': 0.05, 'l1_ratio': 0.1, 'learning_rate': 'constant', 'loss': 'squared_epsilon_insensitive', 'penalty': 'l2'}\",\n       \"{'alpha': 1, 'epsilon': 0.2, 'l1_ratio': 0.2, 'learning_rate': 'constant', 'loss': 'squared_epsilon_insensitive', 'penalty': 'l2'}\",\n       \"{'alpha': 1, 'epsilon': 0.05, 'l1_ratio': 0.4, 'learning_rate': 'optimal', 'loss': 'squared_epsilon_insensitive', 'penalty': 'l2'}\",\n       \"{'alpha': 1, 'epsilon': 0.05, 'l1_ratio': 0.15, 'learning_rate': 'constant', 'loss': 'squared_epsilon_insensitive', 'penalty': 'l2'}\",\n       \"{'alpha': 1, 'epsilon': 0.05, 'l1_ratio': 0.25, 'learning_rate': 'constant', 'loss': 'squared_epsilon_insensitive', 'penalty': 'l2'}\",\n       \"{'alpha': 1, 'epsilon': 0.2, 'l1_ratio': 0.7, 'learning_rate': 'optimal', 'loss': 'squared_epsilon_insensitive', 'penalty': 'l2'}\",\n       \"{'alpha': 1, 'epsilon': 0.15, 'l1_ratio': 0.4, 'learning_rate': 'optimal', 'loss': 'squared_epsilon_insensitive', 'penalty': 'l2'}\",\n       \"{'alpha': 1, 'epsilon': 0.1, 'l1_ratio': 0.9, 'learning_rate': 'constant', 'loss': 'squared_epsilon_insensitive', 'penalty': 'l2'}\",\n       \"{'alpha': 1, 'epsilon': 0.15, 'l1_ratio': 0.95, 'learning_rate': 'constant', 'loss': 'squared_epsilon_insensitive', 'penalty': 'l2'}\",\n       \"{'alpha': 1, 'epsilon': 0.2, 'l1_ratio': 0.6, 'learning_rate': 'constant', 'loss': 'squared_epsilon_insensitive', 'penalty': 'l2'}\",\n       \"{'alpha': 1, 'epsilon': 0.1, 'l1_ratio': 0.6, 'learning_rate': 'optimal', 'loss': 'squared_epsilon_insensitive', 'penalty': 'l2'}\",\n       \"{'alpha': 1, 'epsilon': 0.1, 'l1_ratio': 0.35, 'learning_rate': 'constant', 'loss': 'squared_epsilon_insensitive', 'penalty': 'l2'}\",\n       \"{'alpha': 1, 'epsilon': 0.2, 'l1_ratio': 0, 'learning_rate': 'constant', 'loss': 'squared_epsilon_insensitive', 'penalty': 'elasticnet'}\",\n       \"{'alpha': 1, 'epsilon': 0.1, 'l1_ratio': 0.1, 'learning_rate': 'optimal', 'loss': 'squared_epsilon_insensitive', 'penalty': 'l2'}\",\n       \"{'alpha': 1, 'epsilon': 0.15, 'l1_ratio': 0.3, 'learning_rate': 'constant', 'loss': 'squared_epsilon_insensitive', 'penalty': 'l2'}\",\n       \"{'alpha': 1, 'epsilon': 0.1, 'l1_ratio': 0.55, 'learning_rate': 'optimal', 'loss': 'squared_epsilon_insensitive', 'penalty': 'l2'}\",\n       \"{'alpha': 1, 'epsilon': 0.05, 'l1_ratio': 0, 'learning_rate': 'optimal', 'loss': 'squared_epsilon_insensitive', 'penalty': 'l2'}\",\n       \"{'alpha': 1, 'epsilon': 0.05, 'l1_ratio': 0.9, 'learning_rate': 'optimal', 'loss': 'squared_epsilon_insensitive', 'penalty': 'l2'}\"],\n      dtype=object)"
     },
     "metadata": {},
     "execution_count": 31
    }
   ],
   "source": [
    "grid_search_df.sort_values('mean_test_mse', ascending=False)[\"params\"].head(20).values"
   ]
  },
  {
   "cell_type": "markdown",
   "metadata": {},
   "source": [
    "# Sumário"
   ]
  },
  {
   "cell_type": "code",
   "execution_count": 32,
   "metadata": {},
   "outputs": [
    {
     "output_type": "execute_result",
     "data": {
      "text/plain": "           model                                             params  \\\n0  random_forest          {'criterion': 'mae', 'n_estimators': 100}   \n1      ada_boost  {'learning_rate': 0.9, 'loss': 'linear', 'n_es...   \n2            svm  {'C': 0.95, 'degree': 3, 'epsilon': 0.15, 'ker...   \n3            knn  {'metric': 'minkowski', 'n_neighbors': 3, 'p': 1}   \n7            sgd  {'alpha': 1, 'epsilon': 0.1, 'l1_ratio': 0.75,...   \n5    elastic_net                      {'alpha': 0.5, 'l1_ratio': 0}   \n6          ridge                                      {'alpha': 17}   \n4          lasso                                     {'alpha': 0.1}   \n\n   mean_test_mse  std_test_mse  mean_test_mae  std_test_mae  mean_test_r2  \\\n0      -0.029743      0.025426      -0.126617      0.047708     -0.553794   \n1      -0.032383      0.026900      -0.120266      0.045756     -0.515086   \n2      -0.515602      0.355717      -0.574637      0.159647     -0.450308   \n3      -0.565334      0.422630      -0.573921      0.184990     -0.391969   \n7      -0.633334      0.260954      -0.672201      0.121771     -0.263527   \n5      -0.674241      0.244535      -0.692154      0.117023     -0.219554   \n6      -0.677725      0.257294      -0.691296      0.126491     -0.216720   \n4      -0.784234      0.329030      -0.737663      0.159074     -0.123086   \n\n   std_test_r2  \n0     0.353108  \n1     0.360505  \n2     0.271082  \n3     0.312410  \n7     0.302183  \n5     0.282693  \n6     0.294979  \n4     0.253758  ",
      "text/html": "<div>\n<style scoped>\n    .dataframe tbody tr th:only-of-type {\n        vertical-align: middle;\n    }\n\n    .dataframe tbody tr th {\n        vertical-align: top;\n    }\n\n    .dataframe thead th {\n        text-align: right;\n    }\n</style>\n<table border=\"1\" class=\"dataframe\">\n  <thead>\n    <tr style=\"text-align: right;\">\n      <th></th>\n      <th>model</th>\n      <th>params</th>\n      <th>mean_test_mse</th>\n      <th>std_test_mse</th>\n      <th>mean_test_mae</th>\n      <th>std_test_mae</th>\n      <th>mean_test_r2</th>\n      <th>std_test_r2</th>\n    </tr>\n  </thead>\n  <tbody>\n    <tr>\n      <th>0</th>\n      <td>random_forest</td>\n      <td>{'criterion': 'mae', 'n_estimators': 100}</td>\n      <td>-0.029743</td>\n      <td>0.025426</td>\n      <td>-0.126617</td>\n      <td>0.047708</td>\n      <td>-0.553794</td>\n      <td>0.353108</td>\n    </tr>\n    <tr>\n      <th>1</th>\n      <td>ada_boost</td>\n      <td>{'learning_rate': 0.9, 'loss': 'linear', 'n_es...</td>\n      <td>-0.032383</td>\n      <td>0.026900</td>\n      <td>-0.120266</td>\n      <td>0.045756</td>\n      <td>-0.515086</td>\n      <td>0.360505</td>\n    </tr>\n    <tr>\n      <th>2</th>\n      <td>svm</td>\n      <td>{'C': 0.95, 'degree': 3, 'epsilon': 0.15, 'ker...</td>\n      <td>-0.515602</td>\n      <td>0.355717</td>\n      <td>-0.574637</td>\n      <td>0.159647</td>\n      <td>-0.450308</td>\n      <td>0.271082</td>\n    </tr>\n    <tr>\n      <th>3</th>\n      <td>knn</td>\n      <td>{'metric': 'minkowski', 'n_neighbors': 3, 'p': 1}</td>\n      <td>-0.565334</td>\n      <td>0.422630</td>\n      <td>-0.573921</td>\n      <td>0.184990</td>\n      <td>-0.391969</td>\n      <td>0.312410</td>\n    </tr>\n    <tr>\n      <th>7</th>\n      <td>sgd</td>\n      <td>{'alpha': 1, 'epsilon': 0.1, 'l1_ratio': 0.75,...</td>\n      <td>-0.633334</td>\n      <td>0.260954</td>\n      <td>-0.672201</td>\n      <td>0.121771</td>\n      <td>-0.263527</td>\n      <td>0.302183</td>\n    </tr>\n    <tr>\n      <th>5</th>\n      <td>elastic_net</td>\n      <td>{'alpha': 0.5, 'l1_ratio': 0}</td>\n      <td>-0.674241</td>\n      <td>0.244535</td>\n      <td>-0.692154</td>\n      <td>0.117023</td>\n      <td>-0.219554</td>\n      <td>0.282693</td>\n    </tr>\n    <tr>\n      <th>6</th>\n      <td>ridge</td>\n      <td>{'alpha': 17}</td>\n      <td>-0.677725</td>\n      <td>0.257294</td>\n      <td>-0.691296</td>\n      <td>0.126491</td>\n      <td>-0.216720</td>\n      <td>0.294979</td>\n    </tr>\n    <tr>\n      <th>4</th>\n      <td>lasso</td>\n      <td>{'alpha': 0.1}</td>\n      <td>-0.784234</td>\n      <td>0.329030</td>\n      <td>-0.737663</td>\n      <td>0.159074</td>\n      <td>-0.123086</td>\n      <td>0.253758</td>\n    </tr>\n  </tbody>\n</table>\n</div>"
     },
     "metadata": {},
     "execution_count": 32
    }
   ],
   "source": [
    "summary_df.sort_values(by='mean_test_mse', ascending=False).head(20)"
   ]
  },
  {
   "cell_type": "code",
   "execution_count": null,
   "metadata": {},
   "outputs": [],
   "source": []
  }
 ],
 "metadata": {
  "language_info": {
   "name": "python",
   "codemirror_mode": {
    "name": "ipython",
    "version": 3
   },
   "version": "3.6.9-final"
  },
  "orig_nbformat": 2,
  "file_extension": ".py",
  "mimetype": "text/x-python",
  "name": "python",
  "npconvert_exporter": "python",
  "pygments_lexer": "ipython3",
  "version": 3,
  "kernelspec": {
   "name": "python36964bitbertvirtualenv054cbb15ab924922a35a349b12e89805",
   "display_name": "Python 3.6.9 64-bit ('bert': virtualenv)"
  }
 },
 "nbformat": 4,
 "nbformat_minor": 2
}