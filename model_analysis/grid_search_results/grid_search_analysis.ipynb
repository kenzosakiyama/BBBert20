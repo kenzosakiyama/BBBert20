{
 "cells": [
  {
   "cell_type": "code",
   "execution_count": 1,
   "metadata": {},
   "outputs": [],
   "source": [
    "import pandas as pd"
   ]
  },
  {
   "cell_type": "code",
   "execution_count": 2,
   "metadata": {},
   "outputs": [],
   "source": [
    "summary_df = pd.DataFrame(columns=[\"model\", 'params', 'mean_test_mse', 'std_test_mse', 'mean_test_mae', 'std_test_mae', 'mean_test_r2', 'std_test_r2'])"
   ]
  },
  {
   "cell_type": "code",
   "execution_count": 3,
   "metadata": {},
   "outputs": [
    {
     "output_type": "execute_result",
     "data": {
      "text/plain": "Empty DataFrame\nColumns: [model, params, mean_test_mse, std_test_mse, mean_test_mae, std_test_mae, mean_test_r2, std_test_r2]\nIndex: []",
      "text/html": "<div>\n<style scoped>\n    .dataframe tbody tr th:only-of-type {\n        vertical-align: middle;\n    }\n\n    .dataframe tbody tr th {\n        vertical-align: top;\n    }\n\n    .dataframe thead th {\n        text-align: right;\n    }\n</style>\n<table border=\"1\" class=\"dataframe\">\n  <thead>\n    <tr style=\"text-align: right;\">\n      <th></th>\n      <th>model</th>\n      <th>params</th>\n      <th>mean_test_mse</th>\n      <th>std_test_mse</th>\n      <th>mean_test_mae</th>\n      <th>std_test_mae</th>\n      <th>mean_test_r2</th>\n      <th>std_test_r2</th>\n    </tr>\n  </thead>\n  <tbody>\n  </tbody>\n</table>\n</div>"
     },
     "metadata": {},
     "execution_count": 3
    }
   ],
   "source": [
    "summary_df"
   ]
  },
  {
   "cell_type": "markdown",
   "metadata": {},
   "source": [
    "# Random Forest Regressor"
   ]
  },
  {
   "cell_type": "code",
   "execution_count": 4,
   "metadata": {},
   "outputs": [],
   "source": [
    "PATH = 'random_forest_grid_search_results.csv'"
   ]
  },
  {
   "cell_type": "code",
   "execution_count": 5,
   "metadata": {},
   "outputs": [],
   "source": [
    "grid_search_df = pd.read_csv(PATH)"
   ]
  },
  {
   "cell_type": "code",
   "execution_count": 6,
   "metadata": {},
   "outputs": [],
   "source": [
    "grid_search_df[\"model\"] = \"random_forest\"\n",
    "grid_search_df = grid_search_df[[\"model\", 'params', 'mean_test_mse', 'std_test_mse', 'mean_test_mae', 'std_test_mae', 'mean_test_r2', 'std_test_r2']]\n",
    "summary_df = summary_df.append(grid_search_df.sort_values('mean_test_mse', ascending=False).iloc[0], ignore_index=True)"
   ]
  },
  {
   "cell_type": "code",
   "execution_count": 7,
   "metadata": {},
   "outputs": [
    {
     "output_type": "execute_result",
     "data": {
      "text/plain": "            model                                       params  mean_test_mse  \\\n1   random_forest    {'criterion': 'mse', 'n_estimators': 200}      -0.030989   \n2   random_forest    {'criterion': 'mse', 'n_estimators': 500}      -0.030990   \n0   random_forest    {'criterion': 'mse', 'n_estimators': 100}      -0.031096   \n6   random_forest   {'criterion': 'mse', 'n_estimators': 5000}      -0.031351   \n7   random_forest  {'criterion': 'mse', 'n_estimators': 10000}      -0.031431   \n4   random_forest   {'criterion': 'mse', 'n_estimators': 2000}      -0.031474   \n5   random_forest   {'criterion': 'mse', 'n_estimators': 3000}      -0.031607   \n8   random_forest    {'criterion': 'mae', 'n_estimators': 100}      -0.031709   \n3   random_forest   {'criterion': 'mse', 'n_estimators': 1000}      -0.031947   \n9   random_forest    {'criterion': 'mae', 'n_estimators': 200}      -0.033128   \n13  random_forest   {'criterion': 'mae', 'n_estimators': 3000}      -0.033582   \n14  random_forest   {'criterion': 'mae', 'n_estimators': 5000}      -0.033829   \n11  random_forest   {'criterion': 'mae', 'n_estimators': 1000}      -0.033888   \n10  random_forest    {'criterion': 'mae', 'n_estimators': 500}      -0.033898   \n15  random_forest  {'criterion': 'mae', 'n_estimators': 10000}      -0.033940   \n12  random_forest   {'criterion': 'mae', 'n_estimators': 2000}      -0.034036   \n\n    std_test_mse  mean_test_mae  std_test_mae  mean_test_r2  std_test_r2  \n1       0.024481      -0.130164      0.044925     -0.530215     0.333396  \n2       0.022984      -0.129869      0.042977     -0.525287     0.318468  \n0       0.020668      -0.132977      0.040122     -0.511823     0.292021  \n6       0.024027      -0.130356      0.043639     -0.521586     0.325207  \n7       0.023963      -0.130052      0.043429     -0.521495     0.321197  \n4       0.023727      -0.130412      0.043389     -0.520971     0.316131  \n5       0.024341      -0.130435      0.044115     -0.519029     0.326978  \n8       0.027258      -0.129870      0.044619     -0.497712     0.450537  \n3       0.024660      -0.130327      0.043676     -0.515248     0.328817  \n9       0.027735      -0.133591      0.047398     -0.497661     0.395484  \n13      0.028451      -0.134513      0.047861     -0.483197     0.427009  \n14      0.028172      -0.134974      0.047317     -0.478422     0.427999  \n11      0.028545      -0.134349      0.048321     -0.481128     0.428387  \n10      0.028546      -0.134718      0.047762     -0.479035     0.431795  \n15      0.028766      -0.134931      0.048022     -0.479124     0.428944  \n12      0.028514      -0.135202      0.048045     -0.475817     0.428880  ",
      "text/html": "<div>\n<style scoped>\n    .dataframe tbody tr th:only-of-type {\n        vertical-align: middle;\n    }\n\n    .dataframe tbody tr th {\n        vertical-align: top;\n    }\n\n    .dataframe thead th {\n        text-align: right;\n    }\n</style>\n<table border=\"1\" class=\"dataframe\">\n  <thead>\n    <tr style=\"text-align: right;\">\n      <th></th>\n      <th>model</th>\n      <th>params</th>\n      <th>mean_test_mse</th>\n      <th>std_test_mse</th>\n      <th>mean_test_mae</th>\n      <th>std_test_mae</th>\n      <th>mean_test_r2</th>\n      <th>std_test_r2</th>\n    </tr>\n  </thead>\n  <tbody>\n    <tr>\n      <th>1</th>\n      <td>random_forest</td>\n      <td>{'criterion': 'mse', 'n_estimators': 200}</td>\n      <td>-0.030989</td>\n      <td>0.024481</td>\n      <td>-0.130164</td>\n      <td>0.044925</td>\n      <td>-0.530215</td>\n      <td>0.333396</td>\n    </tr>\n    <tr>\n      <th>2</th>\n      <td>random_forest</td>\n      <td>{'criterion': 'mse', 'n_estimators': 500}</td>\n      <td>-0.030990</td>\n      <td>0.022984</td>\n      <td>-0.129869</td>\n      <td>0.042977</td>\n      <td>-0.525287</td>\n      <td>0.318468</td>\n    </tr>\n    <tr>\n      <th>0</th>\n      <td>random_forest</td>\n      <td>{'criterion': 'mse', 'n_estimators': 100}</td>\n      <td>-0.031096</td>\n      <td>0.020668</td>\n      <td>-0.132977</td>\n      <td>0.040122</td>\n      <td>-0.511823</td>\n      <td>0.292021</td>\n    </tr>\n    <tr>\n      <th>6</th>\n      <td>random_forest</td>\n      <td>{'criterion': 'mse', 'n_estimators': 5000}</td>\n      <td>-0.031351</td>\n      <td>0.024027</td>\n      <td>-0.130356</td>\n      <td>0.043639</td>\n      <td>-0.521586</td>\n      <td>0.325207</td>\n    </tr>\n    <tr>\n      <th>7</th>\n      <td>random_forest</td>\n      <td>{'criterion': 'mse', 'n_estimators': 10000}</td>\n      <td>-0.031431</td>\n      <td>0.023963</td>\n      <td>-0.130052</td>\n      <td>0.043429</td>\n      <td>-0.521495</td>\n      <td>0.321197</td>\n    </tr>\n    <tr>\n      <th>4</th>\n      <td>random_forest</td>\n      <td>{'criterion': 'mse', 'n_estimators': 2000}</td>\n      <td>-0.031474</td>\n      <td>0.023727</td>\n      <td>-0.130412</td>\n      <td>0.043389</td>\n      <td>-0.520971</td>\n      <td>0.316131</td>\n    </tr>\n    <tr>\n      <th>5</th>\n      <td>random_forest</td>\n      <td>{'criterion': 'mse', 'n_estimators': 3000}</td>\n      <td>-0.031607</td>\n      <td>0.024341</td>\n      <td>-0.130435</td>\n      <td>0.044115</td>\n      <td>-0.519029</td>\n      <td>0.326978</td>\n    </tr>\n    <tr>\n      <th>8</th>\n      <td>random_forest</td>\n      <td>{'criterion': 'mae', 'n_estimators': 100}</td>\n      <td>-0.031709</td>\n      <td>0.027258</td>\n      <td>-0.129870</td>\n      <td>0.044619</td>\n      <td>-0.497712</td>\n      <td>0.450537</td>\n    </tr>\n    <tr>\n      <th>3</th>\n      <td>random_forest</td>\n      <td>{'criterion': 'mse', 'n_estimators': 1000}</td>\n      <td>-0.031947</td>\n      <td>0.024660</td>\n      <td>-0.130327</td>\n      <td>0.043676</td>\n      <td>-0.515248</td>\n      <td>0.328817</td>\n    </tr>\n    <tr>\n      <th>9</th>\n      <td>random_forest</td>\n      <td>{'criterion': 'mae', 'n_estimators': 200}</td>\n      <td>-0.033128</td>\n      <td>0.027735</td>\n      <td>-0.133591</td>\n      <td>0.047398</td>\n      <td>-0.497661</td>\n      <td>0.395484</td>\n    </tr>\n    <tr>\n      <th>13</th>\n      <td>random_forest</td>\n      <td>{'criterion': 'mae', 'n_estimators': 3000}</td>\n      <td>-0.033582</td>\n      <td>0.028451</td>\n      <td>-0.134513</td>\n      <td>0.047861</td>\n      <td>-0.483197</td>\n      <td>0.427009</td>\n    </tr>\n    <tr>\n      <th>14</th>\n      <td>random_forest</td>\n      <td>{'criterion': 'mae', 'n_estimators': 5000}</td>\n      <td>-0.033829</td>\n      <td>0.028172</td>\n      <td>-0.134974</td>\n      <td>0.047317</td>\n      <td>-0.478422</td>\n      <td>0.427999</td>\n    </tr>\n    <tr>\n      <th>11</th>\n      <td>random_forest</td>\n      <td>{'criterion': 'mae', 'n_estimators': 1000}</td>\n      <td>-0.033888</td>\n      <td>0.028545</td>\n      <td>-0.134349</td>\n      <td>0.048321</td>\n      <td>-0.481128</td>\n      <td>0.428387</td>\n    </tr>\n    <tr>\n      <th>10</th>\n      <td>random_forest</td>\n      <td>{'criterion': 'mae', 'n_estimators': 500}</td>\n      <td>-0.033898</td>\n      <td>0.028546</td>\n      <td>-0.134718</td>\n      <td>0.047762</td>\n      <td>-0.479035</td>\n      <td>0.431795</td>\n    </tr>\n    <tr>\n      <th>15</th>\n      <td>random_forest</td>\n      <td>{'criterion': 'mae', 'n_estimators': 10000}</td>\n      <td>-0.033940</td>\n      <td>0.028766</td>\n      <td>-0.134931</td>\n      <td>0.048022</td>\n      <td>-0.479124</td>\n      <td>0.428944</td>\n    </tr>\n    <tr>\n      <th>12</th>\n      <td>random_forest</td>\n      <td>{'criterion': 'mae', 'n_estimators': 2000}</td>\n      <td>-0.034036</td>\n      <td>0.028514</td>\n      <td>-0.135202</td>\n      <td>0.048045</td>\n      <td>-0.475817</td>\n      <td>0.428880</td>\n    </tr>\n  </tbody>\n</table>\n</div>"
     },
     "metadata": {},
     "execution_count": 7
    }
   ],
   "source": [
    "grid_search_df.sort_values('mean_test_mse', ascending=False)"
   ]
  },
  {
   "cell_type": "markdown",
   "metadata": {},
   "source": [
    "# Ada Boost Regressor"
   ]
  },
  {
   "cell_type": "code",
   "execution_count": 8,
   "metadata": {},
   "outputs": [],
   "source": [
    "PATH = 'ada_boost_grid_search_results.csv'\n",
    ""
   ]
  },
  {
   "cell_type": "code",
   "execution_count": 9,
   "metadata": {},
   "outputs": [],
   "source": [
    "grid_search_df = pd.read_csv(PATH)\n",
    "grid_search_df[\"model\"] = \"ada_boost\"\n",
    "grid_search_df = grid_search_df[[\"model\", 'params', 'mean_test_mse', 'std_test_mse', 'mean_test_mae', 'std_test_mae', 'mean_test_r2', 'std_test_r2']]\n",
    "summary_df = summary_df.append(grid_search_df.sort_values('mean_test_mse', ascending=False).iloc[0], ignore_index=True)"
   ]
  },
  {
   "cell_type": "code",
   "execution_count": 10,
   "metadata": {},
   "outputs": [
    {
     "output_type": "execute_result",
     "data": {
      "text/plain": "         model                                             params  \\\n400  ada_boost  {'learning_rate': 0.85, 'loss': 'exponential',...   \n305  ada_boost  {'learning_rate': 0.65, 'loss': 'exponential',...   \n264  ada_boost  {'learning_rate': 0.6, 'loss': 'linear', 'n_es...   \n185  ada_boost  {'learning_rate': 0.4, 'loss': 'exponential', ...   \n233  ada_boost  {'learning_rate': 0.5, 'loss': 'exponential', ...   \n..         ...                                                ...   \n0    ada_boost  {'learning_rate': 0.05, 'loss': 'linear', 'n_e...   \n370  ada_boost  {'learning_rate': 0.8, 'loss': 'square', 'n_es...   \n464  ada_boost  {'learning_rate': 1.0, 'loss': 'square', 'n_es...   \n296  ada_boost  {'learning_rate': 0.65, 'loss': 'square', 'n_e...   \n416  ada_boost  {'learning_rate': 0.9, 'loss': 'square', 'n_es...   \n\n     mean_test_mse  std_test_mse  mean_test_mae  std_test_mae  mean_test_r2  \\\n400      -0.032126      0.022997      -0.131678      0.049228     -0.512179   \n305      -0.035776      0.029214      -0.133729      0.055862     -0.484812   \n264      -0.035823      0.027909      -0.134734      0.050657     -0.466339   \n185      -0.035977      0.028582      -0.135618      0.052973     -0.476539   \n233      -0.036163      0.028940      -0.134881      0.053963     -0.474352   \n..             ...           ...            ...           ...           ...   \n0        -0.042085      0.035028      -0.143305      0.060443     -0.389577   \n370      -0.042361      0.031729      -0.147825      0.057269     -0.363773   \n464      -0.043173      0.029852      -0.149562      0.054002     -0.321802   \n296      -0.043338      0.034490      -0.147288      0.060319     -0.349235   \n416      -0.043849      0.035421      -0.147985      0.063116     -0.325127   \n\n     std_test_r2  \n400     0.289156  \n305     0.321243  \n264     0.336643  \n185     0.321541  \n233     0.317432  \n..           ...  \n0       0.386318  \n370     0.399705  \n464     0.444756  \n296     0.421015  \n416     0.489123  \n\n[480 rows x 8 columns]",
      "text/html": "<div>\n<style scoped>\n    .dataframe tbody tr th:only-of-type {\n        vertical-align: middle;\n    }\n\n    .dataframe tbody tr th {\n        vertical-align: top;\n    }\n\n    .dataframe thead th {\n        text-align: right;\n    }\n</style>\n<table border=\"1\" class=\"dataframe\">\n  <thead>\n    <tr style=\"text-align: right;\">\n      <th></th>\n      <th>model</th>\n      <th>params</th>\n      <th>mean_test_mse</th>\n      <th>std_test_mse</th>\n      <th>mean_test_mae</th>\n      <th>std_test_mae</th>\n      <th>mean_test_r2</th>\n      <th>std_test_r2</th>\n    </tr>\n  </thead>\n  <tbody>\n    <tr>\n      <th>400</th>\n      <td>ada_boost</td>\n      <td>{'learning_rate': 0.85, 'loss': 'exponential',...</td>\n      <td>-0.032126</td>\n      <td>0.022997</td>\n      <td>-0.131678</td>\n      <td>0.049228</td>\n      <td>-0.512179</td>\n      <td>0.289156</td>\n    </tr>\n    <tr>\n      <th>305</th>\n      <td>ada_boost</td>\n      <td>{'learning_rate': 0.65, 'loss': 'exponential',...</td>\n      <td>-0.035776</td>\n      <td>0.029214</td>\n      <td>-0.133729</td>\n      <td>0.055862</td>\n      <td>-0.484812</td>\n      <td>0.321243</td>\n    </tr>\n    <tr>\n      <th>264</th>\n      <td>ada_boost</td>\n      <td>{'learning_rate': 0.6, 'loss': 'linear', 'n_es...</td>\n      <td>-0.035823</td>\n      <td>0.027909</td>\n      <td>-0.134734</td>\n      <td>0.050657</td>\n      <td>-0.466339</td>\n      <td>0.336643</td>\n    </tr>\n    <tr>\n      <th>185</th>\n      <td>ada_boost</td>\n      <td>{'learning_rate': 0.4, 'loss': 'exponential', ...</td>\n      <td>-0.035977</td>\n      <td>0.028582</td>\n      <td>-0.135618</td>\n      <td>0.052973</td>\n      <td>-0.476539</td>\n      <td>0.321541</td>\n    </tr>\n    <tr>\n      <th>233</th>\n      <td>ada_boost</td>\n      <td>{'learning_rate': 0.5, 'loss': 'exponential', ...</td>\n      <td>-0.036163</td>\n      <td>0.028940</td>\n      <td>-0.134881</td>\n      <td>0.053963</td>\n      <td>-0.474352</td>\n      <td>0.317432</td>\n    </tr>\n    <tr>\n      <th>...</th>\n      <td>...</td>\n      <td>...</td>\n      <td>...</td>\n      <td>...</td>\n      <td>...</td>\n      <td>...</td>\n      <td>...</td>\n      <td>...</td>\n    </tr>\n    <tr>\n      <th>0</th>\n      <td>ada_boost</td>\n      <td>{'learning_rate': 0.05, 'loss': 'linear', 'n_e...</td>\n      <td>-0.042085</td>\n      <td>0.035028</td>\n      <td>-0.143305</td>\n      <td>0.060443</td>\n      <td>-0.389577</td>\n      <td>0.386318</td>\n    </tr>\n    <tr>\n      <th>370</th>\n      <td>ada_boost</td>\n      <td>{'learning_rate': 0.8, 'loss': 'square', 'n_es...</td>\n      <td>-0.042361</td>\n      <td>0.031729</td>\n      <td>-0.147825</td>\n      <td>0.057269</td>\n      <td>-0.363773</td>\n      <td>0.399705</td>\n    </tr>\n    <tr>\n      <th>464</th>\n      <td>ada_boost</td>\n      <td>{'learning_rate': 1.0, 'loss': 'square', 'n_es...</td>\n      <td>-0.043173</td>\n      <td>0.029852</td>\n      <td>-0.149562</td>\n      <td>0.054002</td>\n      <td>-0.321802</td>\n      <td>0.444756</td>\n    </tr>\n    <tr>\n      <th>296</th>\n      <td>ada_boost</td>\n      <td>{'learning_rate': 0.65, 'loss': 'square', 'n_e...</td>\n      <td>-0.043338</td>\n      <td>0.034490</td>\n      <td>-0.147288</td>\n      <td>0.060319</td>\n      <td>-0.349235</td>\n      <td>0.421015</td>\n    </tr>\n    <tr>\n      <th>416</th>\n      <td>ada_boost</td>\n      <td>{'learning_rate': 0.9, 'loss': 'square', 'n_es...</td>\n      <td>-0.043849</td>\n      <td>0.035421</td>\n      <td>-0.147985</td>\n      <td>0.063116</td>\n      <td>-0.325127</td>\n      <td>0.489123</td>\n    </tr>\n  </tbody>\n</table>\n<p>480 rows × 8 columns</p>\n</div>"
     },
     "metadata": {},
     "execution_count": 10
    }
   ],
   "source": [
    "grid_search_df.sort_values('mean_test_mse', ascending=False)"
   ]
  },
  {
   "cell_type": "code",
   "execution_count": 11,
   "metadata": {},
   "outputs": [
    {
     "output_type": "execute_result",
     "data": {
      "text/plain": "array([\"{'learning_rate': 0.85, 'loss': 'exponential', 'n_estimators': 100}\",\n       \"{'learning_rate': 0.65, 'loss': 'exponential', 'n_estimators': 200}\",\n       \"{'learning_rate': 0.6, 'loss': 'linear', 'n_estimators': 100}\",\n       \"{'learning_rate': 0.4, 'loss': 'exponential', 'n_estimators': 200}\",\n       \"{'learning_rate': 0.5, 'loss': 'exponential', 'n_estimators': 200}\",\n       \"{'learning_rate': 0.8, 'loss': 'exponential', 'n_estimators': 1000}\",\n       \"{'learning_rate': 1.0, 'loss': 'linear', 'n_estimators': 200}\",\n       \"{'learning_rate': 0.85, 'loss': 'linear', 'n_estimators': 100}\",\n       \"{'learning_rate': 0.55, 'loss': 'exponential', 'n_estimators': 200}\",\n       \"{'learning_rate': 0.3, 'loss': 'exponential', 'n_estimators': 3000}\",\n       \"{'learning_rate': 0.7, 'loss': 'exponential', 'n_estimators': 200}\",\n       \"{'learning_rate': 1.0, 'loss': 'exponential', 'n_estimators': 500}\",\n       \"{'learning_rate': 0.1, 'loss': 'linear', 'n_estimators': 200}\",\n       \"{'learning_rate': 0.7, 'loss': 'exponential', 'n_estimators': 1000}\",\n       \"{'learning_rate': 0.8, 'loss': 'exponential', 'n_estimators': 100}\",\n       \"{'learning_rate': 0.15, 'loss': 'linear', 'n_estimators': 200}\",\n       \"{'learning_rate': 0.95, 'loss': 'linear', 'n_estimators': 100}\",\n       \"{'learning_rate': 0.35, 'loss': 'exponential', 'n_estimators': 200}\",\n       \"{'learning_rate': 0.9, 'loss': 'exponential', 'n_estimators': 200}\",\n       \"{'learning_rate': 0.7, 'loss': 'exponential', 'n_estimators': 500}\"],\n      dtype=object)"
     },
     "metadata": {},
     "execution_count": 11
    }
   ],
   "source": [
    "grid_search_df.sort_values('mean_test_mse', ascending=False).head(20).params.values"
   ]
  },
  {
   "cell_type": "markdown",
   "metadata": {},
   "source": [
    "# SVM Regressor"
   ]
  },
  {
   "cell_type": "code",
   "execution_count": 12,
   "metadata": {},
   "outputs": [],
   "source": [
    "PATH = 'svm_grid_search_results.csv'\n",
    ""
   ]
  },
  {
   "cell_type": "code",
   "execution_count": 13,
   "metadata": {},
   "outputs": [],
   "source": [
    "grid_search_df = pd.read_csv(PATH)\n",
    "grid_search_df[\"model\"] = \"svm\"\n",
    "grid_search_df = grid_search_df[[\"model\", 'params', 'mean_test_mse', 'std_test_mse', 'mean_test_mae', 'std_test_mae', 'mean_test_r2', 'std_test_r2']]\n",
    "summary_df = summary_df.append(grid_search_df.sort_values('mean_test_mse', ascending=False).iloc[0], ignore_index=True)"
   ]
  },
  {
   "cell_type": "code",
   "execution_count": 14,
   "metadata": {},
   "outputs": [
    {
     "output_type": "execute_result",
     "data": {
      "text/plain": "     model                                             params  mean_test_mse  \\\n4610   svm  {'C': 0.9, 'degree': 2, 'epsilon': 0.05, 'kern...      -0.042699   \n4866   svm  {'C': 0.9, 'degree': 6, 'epsilon': 0.05, 'kern...      -0.042699   \n4674   svm  {'C': 0.9, 'degree': 3, 'epsilon': 0.05, 'kern...      -0.042699   \n4738   svm  {'C': 0.9, 'degree': 4, 'epsilon': 0.05, 'kern...      -0.042699   \n4802   svm  {'C': 0.9, 'degree': 5, 'epsilon': 0.05, 'kern...      -0.042699   \n4930   svm  {'C': 0.9, 'degree': 7, 'epsilon': 0.05, 'kern...      -0.042699   \n4226   svm  {'C': 0.85, 'degree': 2, 'epsilon': 0.05, 'ker...      -0.042702   \n4290   svm  {'C': 0.85, 'degree': 3, 'epsilon': 0.05, 'ker...      -0.042702   \n4354   svm  {'C': 0.85, 'degree': 4, 'epsilon': 0.05, 'ker...      -0.042702   \n4546   svm  {'C': 0.85, 'degree': 7, 'epsilon': 0.05, 'ker...      -0.042702   \n4418   svm  {'C': 0.85, 'degree': 5, 'epsilon': 0.05, 'ker...      -0.042702   \n4482   svm  {'C': 0.85, 'degree': 6, 'epsilon': 0.05, 'ker...      -0.042702   \n4098   svm  {'C': 0.8, 'degree': 6, 'epsilon': 0.05, 'kern...      -0.042834   \n3842   svm  {'C': 0.8, 'degree': 2, 'epsilon': 0.05, 'kern...      -0.042834   \n3906   svm  {'C': 0.8, 'degree': 3, 'epsilon': 0.05, 'kern...      -0.042834   \n4162   svm  {'C': 0.8, 'degree': 7, 'epsilon': 0.05, 'kern...      -0.042834   \n3970   svm  {'C': 0.8, 'degree': 4, 'epsilon': 0.05, 'kern...      -0.042834   \n4034   svm  {'C': 0.8, 'degree': 5, 'epsilon': 0.05, 'kern...      -0.042834   \n5058   svm  {'C': 0.95, 'degree': 3, 'epsilon': 0.05, 'ker...      -0.042877   \n4994   svm  {'C': 0.95, 'degree': 2, 'epsilon': 0.05, 'ker...      -0.042877   \n\n      std_test_mse  mean_test_mae  std_test_mae  mean_test_r2  std_test_r2  \n4610      0.028480      -0.166108      0.053583     -0.504520     0.312307  \n4866      0.028480      -0.166108      0.053583     -0.504520     0.312307  \n4674      0.028480      -0.166108      0.053583     -0.504520     0.312307  \n4738      0.028480      -0.166108      0.053583     -0.504520     0.312307  \n4802      0.028480      -0.166108      0.053583     -0.504520     0.312307  \n4930      0.028480      -0.166108      0.053583     -0.504520     0.312307  \n4226      0.027886      -0.166757      0.052767     -0.504310     0.306474  \n4290      0.027886      -0.166757      0.052767     -0.504310     0.306474  \n4354      0.027886      -0.166757      0.052767     -0.504310     0.306474  \n4546      0.027886      -0.166757      0.052767     -0.504310     0.306474  \n4418      0.027886      -0.166757      0.052767     -0.504310     0.306474  \n4482      0.027886      -0.166757      0.052767     -0.504310     0.306474  \n4098      0.027400      -0.167620      0.052067     -0.502494     0.301397  \n3842      0.027400      -0.167620      0.052067     -0.502494     0.301397  \n3906      0.027400      -0.167620      0.052067     -0.502494     0.301397  \n4162      0.027400      -0.167620      0.052067     -0.502494     0.301397  \n3970      0.027400      -0.167620      0.052067     -0.502494     0.301397  \n4034      0.027400      -0.167620      0.052067     -0.502494     0.301397  \n5058      0.028844      -0.166162      0.054070     -0.502013     0.316302  \n4994      0.028844      -0.166162      0.054070     -0.502013     0.316302  ",
      "text/html": "<div>\n<style scoped>\n    .dataframe tbody tr th:only-of-type {\n        vertical-align: middle;\n    }\n\n    .dataframe tbody tr th {\n        vertical-align: top;\n    }\n\n    .dataframe thead th {\n        text-align: right;\n    }\n</style>\n<table border=\"1\" class=\"dataframe\">\n  <thead>\n    <tr style=\"text-align: right;\">\n      <th></th>\n      <th>model</th>\n      <th>params</th>\n      <th>mean_test_mse</th>\n      <th>std_test_mse</th>\n      <th>mean_test_mae</th>\n      <th>std_test_mae</th>\n      <th>mean_test_r2</th>\n      <th>std_test_r2</th>\n    </tr>\n  </thead>\n  <tbody>\n    <tr>\n      <th>4610</th>\n      <td>svm</td>\n      <td>{'C': 0.9, 'degree': 2, 'epsilon': 0.05, 'kern...</td>\n      <td>-0.042699</td>\n      <td>0.028480</td>\n      <td>-0.166108</td>\n      <td>0.053583</td>\n      <td>-0.504520</td>\n      <td>0.312307</td>\n    </tr>\n    <tr>\n      <th>4866</th>\n      <td>svm</td>\n      <td>{'C': 0.9, 'degree': 6, 'epsilon': 0.05, 'kern...</td>\n      <td>-0.042699</td>\n      <td>0.028480</td>\n      <td>-0.166108</td>\n      <td>0.053583</td>\n      <td>-0.504520</td>\n      <td>0.312307</td>\n    </tr>\n    <tr>\n      <th>4674</th>\n      <td>svm</td>\n      <td>{'C': 0.9, 'degree': 3, 'epsilon': 0.05, 'kern...</td>\n      <td>-0.042699</td>\n      <td>0.028480</td>\n      <td>-0.166108</td>\n      <td>0.053583</td>\n      <td>-0.504520</td>\n      <td>0.312307</td>\n    </tr>\n    <tr>\n      <th>4738</th>\n      <td>svm</td>\n      <td>{'C': 0.9, 'degree': 4, 'epsilon': 0.05, 'kern...</td>\n      <td>-0.042699</td>\n      <td>0.028480</td>\n      <td>-0.166108</td>\n      <td>0.053583</td>\n      <td>-0.504520</td>\n      <td>0.312307</td>\n    </tr>\n    <tr>\n      <th>4802</th>\n      <td>svm</td>\n      <td>{'C': 0.9, 'degree': 5, 'epsilon': 0.05, 'kern...</td>\n      <td>-0.042699</td>\n      <td>0.028480</td>\n      <td>-0.166108</td>\n      <td>0.053583</td>\n      <td>-0.504520</td>\n      <td>0.312307</td>\n    </tr>\n    <tr>\n      <th>4930</th>\n      <td>svm</td>\n      <td>{'C': 0.9, 'degree': 7, 'epsilon': 0.05, 'kern...</td>\n      <td>-0.042699</td>\n      <td>0.028480</td>\n      <td>-0.166108</td>\n      <td>0.053583</td>\n      <td>-0.504520</td>\n      <td>0.312307</td>\n    </tr>\n    <tr>\n      <th>4226</th>\n      <td>svm</td>\n      <td>{'C': 0.85, 'degree': 2, 'epsilon': 0.05, 'ker...</td>\n      <td>-0.042702</td>\n      <td>0.027886</td>\n      <td>-0.166757</td>\n      <td>0.052767</td>\n      <td>-0.504310</td>\n      <td>0.306474</td>\n    </tr>\n    <tr>\n      <th>4290</th>\n      <td>svm</td>\n      <td>{'C': 0.85, 'degree': 3, 'epsilon': 0.05, 'ker...</td>\n      <td>-0.042702</td>\n      <td>0.027886</td>\n      <td>-0.166757</td>\n      <td>0.052767</td>\n      <td>-0.504310</td>\n      <td>0.306474</td>\n    </tr>\n    <tr>\n      <th>4354</th>\n      <td>svm</td>\n      <td>{'C': 0.85, 'degree': 4, 'epsilon': 0.05, 'ker...</td>\n      <td>-0.042702</td>\n      <td>0.027886</td>\n      <td>-0.166757</td>\n      <td>0.052767</td>\n      <td>-0.504310</td>\n      <td>0.306474</td>\n    </tr>\n    <tr>\n      <th>4546</th>\n      <td>svm</td>\n      <td>{'C': 0.85, 'degree': 7, 'epsilon': 0.05, 'ker...</td>\n      <td>-0.042702</td>\n      <td>0.027886</td>\n      <td>-0.166757</td>\n      <td>0.052767</td>\n      <td>-0.504310</td>\n      <td>0.306474</td>\n    </tr>\n    <tr>\n      <th>4418</th>\n      <td>svm</td>\n      <td>{'C': 0.85, 'degree': 5, 'epsilon': 0.05, 'ker...</td>\n      <td>-0.042702</td>\n      <td>0.027886</td>\n      <td>-0.166757</td>\n      <td>0.052767</td>\n      <td>-0.504310</td>\n      <td>0.306474</td>\n    </tr>\n    <tr>\n      <th>4482</th>\n      <td>svm</td>\n      <td>{'C': 0.85, 'degree': 6, 'epsilon': 0.05, 'ker...</td>\n      <td>-0.042702</td>\n      <td>0.027886</td>\n      <td>-0.166757</td>\n      <td>0.052767</td>\n      <td>-0.504310</td>\n      <td>0.306474</td>\n    </tr>\n    <tr>\n      <th>4098</th>\n      <td>svm</td>\n      <td>{'C': 0.8, 'degree': 6, 'epsilon': 0.05, 'kern...</td>\n      <td>-0.042834</td>\n      <td>0.027400</td>\n      <td>-0.167620</td>\n      <td>0.052067</td>\n      <td>-0.502494</td>\n      <td>0.301397</td>\n    </tr>\n    <tr>\n      <th>3842</th>\n      <td>svm</td>\n      <td>{'C': 0.8, 'degree': 2, 'epsilon': 0.05, 'kern...</td>\n      <td>-0.042834</td>\n      <td>0.027400</td>\n      <td>-0.167620</td>\n      <td>0.052067</td>\n      <td>-0.502494</td>\n      <td>0.301397</td>\n    </tr>\n    <tr>\n      <th>3906</th>\n      <td>svm</td>\n      <td>{'C': 0.8, 'degree': 3, 'epsilon': 0.05, 'kern...</td>\n      <td>-0.042834</td>\n      <td>0.027400</td>\n      <td>-0.167620</td>\n      <td>0.052067</td>\n      <td>-0.502494</td>\n      <td>0.301397</td>\n    </tr>\n    <tr>\n      <th>4162</th>\n      <td>svm</td>\n      <td>{'C': 0.8, 'degree': 7, 'epsilon': 0.05, 'kern...</td>\n      <td>-0.042834</td>\n      <td>0.027400</td>\n      <td>-0.167620</td>\n      <td>0.052067</td>\n      <td>-0.502494</td>\n      <td>0.301397</td>\n    </tr>\n    <tr>\n      <th>3970</th>\n      <td>svm</td>\n      <td>{'C': 0.8, 'degree': 4, 'epsilon': 0.05, 'kern...</td>\n      <td>-0.042834</td>\n      <td>0.027400</td>\n      <td>-0.167620</td>\n      <td>0.052067</td>\n      <td>-0.502494</td>\n      <td>0.301397</td>\n    </tr>\n    <tr>\n      <th>4034</th>\n      <td>svm</td>\n      <td>{'C': 0.8, 'degree': 5, 'epsilon': 0.05, 'kern...</td>\n      <td>-0.042834</td>\n      <td>0.027400</td>\n      <td>-0.167620</td>\n      <td>0.052067</td>\n      <td>-0.502494</td>\n      <td>0.301397</td>\n    </tr>\n    <tr>\n      <th>5058</th>\n      <td>svm</td>\n      <td>{'C': 0.95, 'degree': 3, 'epsilon': 0.05, 'ker...</td>\n      <td>-0.042877</td>\n      <td>0.028844</td>\n      <td>-0.166162</td>\n      <td>0.054070</td>\n      <td>-0.502013</td>\n      <td>0.316302</td>\n    </tr>\n    <tr>\n      <th>4994</th>\n      <td>svm</td>\n      <td>{'C': 0.95, 'degree': 2, 'epsilon': 0.05, 'ker...</td>\n      <td>-0.042877</td>\n      <td>0.028844</td>\n      <td>-0.166162</td>\n      <td>0.054070</td>\n      <td>-0.502013</td>\n      <td>0.316302</td>\n    </tr>\n  </tbody>\n</table>\n</div>"
     },
     "metadata": {},
     "execution_count": 14
    }
   ],
   "source": [
    "grid_search_df.sort_values('mean_test_mse', ascending=False).head(20)"
   ]
  },
  {
   "cell_type": "code",
   "execution_count": 15,
   "metadata": {},
   "outputs": [
    {
     "output_type": "execute_result",
     "data": {
      "text/plain": "array([\"{'C': 0.9, 'degree': 2, 'epsilon': 0.05, 'kernel': 'rbf'}\",\n       \"{'C': 0.9, 'degree': 6, 'epsilon': 0.05, 'kernel': 'rbf'}\",\n       \"{'C': 0.9, 'degree': 3, 'epsilon': 0.05, 'kernel': 'rbf'}\",\n       \"{'C': 0.9, 'degree': 4, 'epsilon': 0.05, 'kernel': 'rbf'}\",\n       \"{'C': 0.9, 'degree': 5, 'epsilon': 0.05, 'kernel': 'rbf'}\",\n       \"{'C': 0.9, 'degree': 7, 'epsilon': 0.05, 'kernel': 'rbf'}\",\n       \"{'C': 0.85, 'degree': 2, 'epsilon': 0.05, 'kernel': 'rbf'}\",\n       \"{'C': 0.85, 'degree': 3, 'epsilon': 0.05, 'kernel': 'rbf'}\",\n       \"{'C': 0.85, 'degree': 4, 'epsilon': 0.05, 'kernel': 'rbf'}\",\n       \"{'C': 0.85, 'degree': 7, 'epsilon': 0.05, 'kernel': 'rbf'}\",\n       \"{'C': 0.85, 'degree': 5, 'epsilon': 0.05, 'kernel': 'rbf'}\",\n       \"{'C': 0.85, 'degree': 6, 'epsilon': 0.05, 'kernel': 'rbf'}\",\n       \"{'C': 0.8, 'degree': 6, 'epsilon': 0.05, 'kernel': 'rbf'}\",\n       \"{'C': 0.8, 'degree': 2, 'epsilon': 0.05, 'kernel': 'rbf'}\",\n       \"{'C': 0.8, 'degree': 3, 'epsilon': 0.05, 'kernel': 'rbf'}\",\n       \"{'C': 0.8, 'degree': 7, 'epsilon': 0.05, 'kernel': 'rbf'}\",\n       \"{'C': 0.8, 'degree': 4, 'epsilon': 0.05, 'kernel': 'rbf'}\",\n       \"{'C': 0.8, 'degree': 5, 'epsilon': 0.05, 'kernel': 'rbf'}\",\n       \"{'C': 0.95, 'degree': 3, 'epsilon': 0.05, 'kernel': 'rbf'}\",\n       \"{'C': 0.95, 'degree': 2, 'epsilon': 0.05, 'kernel': 'rbf'}\"],\n      dtype=object)"
     },
     "metadata": {},
     "execution_count": 15
    }
   ],
   "source": [
    "grid_search_df.sort_values('mean_test_mse', ascending=False)[\"params\"].head(20).values\n"
   ]
  },
  {
   "cell_type": "markdown",
   "metadata": {},
   "source": [
    "# KNN Regressor"
   ]
  },
  {
   "cell_type": "code",
   "execution_count": 16,
   "metadata": {},
   "outputs": [],
   "source": [
    "PATH = 'knn_grid_search_results.csv'\n"
   ]
  },
  {
   "cell_type": "code",
   "execution_count": 17,
   "metadata": {},
   "outputs": [],
   "source": [
    "grid_search_df = pd.read_csv(PATH)\n",
    "grid_search_df[\"model\"] = \"knn\"\n",
    "grid_search_df = grid_search_df[[\"model\", 'params', 'mean_test_mse', 'std_test_mse', 'mean_test_mae', 'std_test_mae', 'mean_test_r2', 'std_test_r2']]\n",
    "summary_df = summary_df.append(grid_search_df.sort_values('mean_test_mse', ascending=False).iloc[0], ignore_index=True)"
   ]
  },
  {
   "cell_type": "code",
   "execution_count": 18,
   "metadata": {},
   "outputs": [
    {
     "output_type": "execute_result",
     "data": {
      "text/plain": "   model                                             params  mean_test_mse  \\\n2    knn  {'metric': 'minkowski', 'n_neighbors': 3, 'p': 1}      -0.053292   \n4    knn  {'metric': 'minkowski', 'n_neighbors': 5, 'p': 1}      -0.056367   \n3    knn  {'metric': 'minkowski', 'n_neighbors': 3, 'p': 2}      -0.056397   \n7    knn  {'metric': 'minkowski', 'n_neighbors': 7, 'p': 2}      -0.056523   \n5    knn  {'metric': 'minkowski', 'n_neighbors': 5, 'p': 2}      -0.058400   \n6    knn  {'metric': 'minkowski', 'n_neighbors': 7, 'p': 1}      -0.060746   \n8    knn  {'metric': 'minkowski', 'n_neighbors': 9, 'p': 1}      -0.065948   \n14   knn  {'metric': 'chebyshev', 'n_neighbors': 3, 'p': 1}      -0.067308   \n15   knn  {'metric': 'chebyshev', 'n_neighbors': 3, 'p': 2}      -0.067308   \n16   knn  {'metric': 'chebyshev', 'n_neighbors': 5, 'p': 1}      -0.068393   \n17   knn  {'metric': 'chebyshev', 'n_neighbors': 5, 'p': 2}      -0.068393   \n9    knn  {'metric': 'minkowski', 'n_neighbors': 9, 'p': 2}      -0.068615   \n10   knn  {'metric': 'minkowski', 'n_neighbors': 11, 'p'...      -0.072449   \n19   knn  {'metric': 'chebyshev', 'n_neighbors': 7, 'p': 2}      -0.076216   \n18   knn  {'metric': 'chebyshev', 'n_neighbors': 7, 'p': 1}      -0.076216   \n11   knn  {'metric': 'minkowski', 'n_neighbors': 11, 'p'...      -0.076238   \n20   knn  {'metric': 'chebyshev', 'n_neighbors': 9, 'p': 1}      -0.078627   \n21   knn  {'metric': 'chebyshev', 'n_neighbors': 9, 'p': 2}      -0.078627   \n13   knn  {'metric': 'chebyshev', 'n_neighbors': 1, 'p': 2}      -0.078709   \n12   knn  {'metric': 'chebyshev', 'n_neighbors': 1, 'p': 1}      -0.078709   \n22   knn  {'metric': 'chebyshev', 'n_neighbors': 11, 'p'...      -0.082439   \n23   knn  {'metric': 'chebyshev', 'n_neighbors': 11, 'p'...      -0.082439   \n0    knn  {'metric': 'minkowski', 'n_neighbors': 1, 'p': 1}      -0.090802   \n1    knn  {'metric': 'minkowski', 'n_neighbors': 1, 'p': 2}      -0.091441   \n\n    std_test_mse  mean_test_mae  std_test_mae  mean_test_r2  std_test_r2  \n2       0.030841      -0.181685      0.050810     -0.340992     0.491300  \n4       0.029952      -0.187733      0.051508     -0.346356     0.370794  \n3       0.038836      -0.184625      0.078032     -0.284243     0.659878  \n7       0.028797      -0.191594      0.040257     -0.392819     0.169937  \n5       0.025309      -0.196356      0.033694     -0.341223     0.211832  \n6       0.031171      -0.199127      0.031623     -0.327060     0.236586  \n8       0.030907      -0.209522      0.037260     -0.266952     0.238613  \n14      0.031599      -0.209558      0.045712     -0.093621     0.685403  \n15      0.031599      -0.209558      0.045712     -0.093621     0.685403  \n16      0.027566      -0.212902      0.037287     -0.216794     0.266757  \n17      0.027566      -0.212902      0.037287     -0.216794     0.266757  \n9       0.033377      -0.216009      0.048046     -0.254998     0.220248  \n10      0.033419      -0.227937      0.046852     -0.216907     0.191995  \n19      0.030327      -0.227660      0.039299     -0.137285     0.265280  \n18      0.030327      -0.227660      0.039299     -0.137285     0.265280  \n11      0.031727      -0.228102      0.043392     -0.174734     0.169712  \n20      0.029571      -0.232814      0.042392     -0.088741     0.335207  \n21      0.029571      -0.232814      0.042392     -0.088741     0.335207  \n13      0.055424      -0.220481      0.075668      0.053522     0.922194  \n12      0.055424      -0.220481      0.075668      0.053522     0.922194  \n22      0.032798      -0.241918      0.046269     -0.048459     0.356795  \n23      0.032798      -0.241918      0.046269     -0.048459     0.356795  \n0       0.051850      -0.220024      0.054351     -0.016197     0.420123  \n1       0.053304      -0.221637      0.063126      0.048412     0.606479  ",
      "text/html": "<div>\n<style scoped>\n    .dataframe tbody tr th:only-of-type {\n        vertical-align: middle;\n    }\n\n    .dataframe tbody tr th {\n        vertical-align: top;\n    }\n\n    .dataframe thead th {\n        text-align: right;\n    }\n</style>\n<table border=\"1\" class=\"dataframe\">\n  <thead>\n    <tr style=\"text-align: right;\">\n      <th></th>\n      <th>model</th>\n      <th>params</th>\n      <th>mean_test_mse</th>\n      <th>std_test_mse</th>\n      <th>mean_test_mae</th>\n      <th>std_test_mae</th>\n      <th>mean_test_r2</th>\n      <th>std_test_r2</th>\n    </tr>\n  </thead>\n  <tbody>\n    <tr>\n      <th>2</th>\n      <td>knn</td>\n      <td>{'metric': 'minkowski', 'n_neighbors': 3, 'p': 1}</td>\n      <td>-0.053292</td>\n      <td>0.030841</td>\n      <td>-0.181685</td>\n      <td>0.050810</td>\n      <td>-0.340992</td>\n      <td>0.491300</td>\n    </tr>\n    <tr>\n      <th>4</th>\n      <td>knn</td>\n      <td>{'metric': 'minkowski', 'n_neighbors': 5, 'p': 1}</td>\n      <td>-0.056367</td>\n      <td>0.029952</td>\n      <td>-0.187733</td>\n      <td>0.051508</td>\n      <td>-0.346356</td>\n      <td>0.370794</td>\n    </tr>\n    <tr>\n      <th>3</th>\n      <td>knn</td>\n      <td>{'metric': 'minkowski', 'n_neighbors': 3, 'p': 2}</td>\n      <td>-0.056397</td>\n      <td>0.038836</td>\n      <td>-0.184625</td>\n      <td>0.078032</td>\n      <td>-0.284243</td>\n      <td>0.659878</td>\n    </tr>\n    <tr>\n      <th>7</th>\n      <td>knn</td>\n      <td>{'metric': 'minkowski', 'n_neighbors': 7, 'p': 2}</td>\n      <td>-0.056523</td>\n      <td>0.028797</td>\n      <td>-0.191594</td>\n      <td>0.040257</td>\n      <td>-0.392819</td>\n      <td>0.169937</td>\n    </tr>\n    <tr>\n      <th>5</th>\n      <td>knn</td>\n      <td>{'metric': 'minkowski', 'n_neighbors': 5, 'p': 2}</td>\n      <td>-0.058400</td>\n      <td>0.025309</td>\n      <td>-0.196356</td>\n      <td>0.033694</td>\n      <td>-0.341223</td>\n      <td>0.211832</td>\n    </tr>\n    <tr>\n      <th>6</th>\n      <td>knn</td>\n      <td>{'metric': 'minkowski', 'n_neighbors': 7, 'p': 1}</td>\n      <td>-0.060746</td>\n      <td>0.031171</td>\n      <td>-0.199127</td>\n      <td>0.031623</td>\n      <td>-0.327060</td>\n      <td>0.236586</td>\n    </tr>\n    <tr>\n      <th>8</th>\n      <td>knn</td>\n      <td>{'metric': 'minkowski', 'n_neighbors': 9, 'p': 1}</td>\n      <td>-0.065948</td>\n      <td>0.030907</td>\n      <td>-0.209522</td>\n      <td>0.037260</td>\n      <td>-0.266952</td>\n      <td>0.238613</td>\n    </tr>\n    <tr>\n      <th>14</th>\n      <td>knn</td>\n      <td>{'metric': 'chebyshev', 'n_neighbors': 3, 'p': 1}</td>\n      <td>-0.067308</td>\n      <td>0.031599</td>\n      <td>-0.209558</td>\n      <td>0.045712</td>\n      <td>-0.093621</td>\n      <td>0.685403</td>\n    </tr>\n    <tr>\n      <th>15</th>\n      <td>knn</td>\n      <td>{'metric': 'chebyshev', 'n_neighbors': 3, 'p': 2}</td>\n      <td>-0.067308</td>\n      <td>0.031599</td>\n      <td>-0.209558</td>\n      <td>0.045712</td>\n      <td>-0.093621</td>\n      <td>0.685403</td>\n    </tr>\n    <tr>\n      <th>16</th>\n      <td>knn</td>\n      <td>{'metric': 'chebyshev', 'n_neighbors': 5, 'p': 1}</td>\n      <td>-0.068393</td>\n      <td>0.027566</td>\n      <td>-0.212902</td>\n      <td>0.037287</td>\n      <td>-0.216794</td>\n      <td>0.266757</td>\n    </tr>\n    <tr>\n      <th>17</th>\n      <td>knn</td>\n      <td>{'metric': 'chebyshev', 'n_neighbors': 5, 'p': 2}</td>\n      <td>-0.068393</td>\n      <td>0.027566</td>\n      <td>-0.212902</td>\n      <td>0.037287</td>\n      <td>-0.216794</td>\n      <td>0.266757</td>\n    </tr>\n    <tr>\n      <th>9</th>\n      <td>knn</td>\n      <td>{'metric': 'minkowski', 'n_neighbors': 9, 'p': 2}</td>\n      <td>-0.068615</td>\n      <td>0.033377</td>\n      <td>-0.216009</td>\n      <td>0.048046</td>\n      <td>-0.254998</td>\n      <td>0.220248</td>\n    </tr>\n    <tr>\n      <th>10</th>\n      <td>knn</td>\n      <td>{'metric': 'minkowski', 'n_neighbors': 11, 'p'...</td>\n      <td>-0.072449</td>\n      <td>0.033419</td>\n      <td>-0.227937</td>\n      <td>0.046852</td>\n      <td>-0.216907</td>\n      <td>0.191995</td>\n    </tr>\n    <tr>\n      <th>19</th>\n      <td>knn</td>\n      <td>{'metric': 'chebyshev', 'n_neighbors': 7, 'p': 2}</td>\n      <td>-0.076216</td>\n      <td>0.030327</td>\n      <td>-0.227660</td>\n      <td>0.039299</td>\n      <td>-0.137285</td>\n      <td>0.265280</td>\n    </tr>\n    <tr>\n      <th>18</th>\n      <td>knn</td>\n      <td>{'metric': 'chebyshev', 'n_neighbors': 7, 'p': 1}</td>\n      <td>-0.076216</td>\n      <td>0.030327</td>\n      <td>-0.227660</td>\n      <td>0.039299</td>\n      <td>-0.137285</td>\n      <td>0.265280</td>\n    </tr>\n    <tr>\n      <th>11</th>\n      <td>knn</td>\n      <td>{'metric': 'minkowski', 'n_neighbors': 11, 'p'...</td>\n      <td>-0.076238</td>\n      <td>0.031727</td>\n      <td>-0.228102</td>\n      <td>0.043392</td>\n      <td>-0.174734</td>\n      <td>0.169712</td>\n    </tr>\n    <tr>\n      <th>20</th>\n      <td>knn</td>\n      <td>{'metric': 'chebyshev', 'n_neighbors': 9, 'p': 1}</td>\n      <td>-0.078627</td>\n      <td>0.029571</td>\n      <td>-0.232814</td>\n      <td>0.042392</td>\n      <td>-0.088741</td>\n      <td>0.335207</td>\n    </tr>\n    <tr>\n      <th>21</th>\n      <td>knn</td>\n      <td>{'metric': 'chebyshev', 'n_neighbors': 9, 'p': 2}</td>\n      <td>-0.078627</td>\n      <td>0.029571</td>\n      <td>-0.232814</td>\n      <td>0.042392</td>\n      <td>-0.088741</td>\n      <td>0.335207</td>\n    </tr>\n    <tr>\n      <th>13</th>\n      <td>knn</td>\n      <td>{'metric': 'chebyshev', 'n_neighbors': 1, 'p': 2}</td>\n      <td>-0.078709</td>\n      <td>0.055424</td>\n      <td>-0.220481</td>\n      <td>0.075668</td>\n      <td>0.053522</td>\n      <td>0.922194</td>\n    </tr>\n    <tr>\n      <th>12</th>\n      <td>knn</td>\n      <td>{'metric': 'chebyshev', 'n_neighbors': 1, 'p': 1}</td>\n      <td>-0.078709</td>\n      <td>0.055424</td>\n      <td>-0.220481</td>\n      <td>0.075668</td>\n      <td>0.053522</td>\n      <td>0.922194</td>\n    </tr>\n    <tr>\n      <th>22</th>\n      <td>knn</td>\n      <td>{'metric': 'chebyshev', 'n_neighbors': 11, 'p'...</td>\n      <td>-0.082439</td>\n      <td>0.032798</td>\n      <td>-0.241918</td>\n      <td>0.046269</td>\n      <td>-0.048459</td>\n      <td>0.356795</td>\n    </tr>\n    <tr>\n      <th>23</th>\n      <td>knn</td>\n      <td>{'metric': 'chebyshev', 'n_neighbors': 11, 'p'...</td>\n      <td>-0.082439</td>\n      <td>0.032798</td>\n      <td>-0.241918</td>\n      <td>0.046269</td>\n      <td>-0.048459</td>\n      <td>0.356795</td>\n    </tr>\n    <tr>\n      <th>0</th>\n      <td>knn</td>\n      <td>{'metric': 'minkowski', 'n_neighbors': 1, 'p': 1}</td>\n      <td>-0.090802</td>\n      <td>0.051850</td>\n      <td>-0.220024</td>\n      <td>0.054351</td>\n      <td>-0.016197</td>\n      <td>0.420123</td>\n    </tr>\n    <tr>\n      <th>1</th>\n      <td>knn</td>\n      <td>{'metric': 'minkowski', 'n_neighbors': 1, 'p': 2}</td>\n      <td>-0.091441</td>\n      <td>0.053304</td>\n      <td>-0.221637</td>\n      <td>0.063126</td>\n      <td>0.048412</td>\n      <td>0.606479</td>\n    </tr>\n  </tbody>\n</table>\n</div>"
     },
     "metadata": {},
     "execution_count": 18
    }
   ],
   "source": [
    "grid_search_df.sort_values('mean_test_mse', ascending=False)"
   ]
  },
  {
   "cell_type": "markdown",
   "metadata": {},
   "source": [
    "# Lasso Regressor"
   ]
  },
  {
   "cell_type": "code",
   "execution_count": 19,
   "metadata": {},
   "outputs": [],
   "source": [
    "PATH = 'lasso_grid_search_results.csv'"
   ]
  },
  {
   "cell_type": "code",
   "execution_count": 20,
   "metadata": {},
   "outputs": [],
   "source": [
    "grid_search_df = pd.read_csv(PATH)\n",
    "grid_search_df[\"model\"] = \"lasso\"\n",
    "grid_search_df = grid_search_df[[\"model\", 'params', 'mean_test_mse', 'std_test_mse', 'mean_test_mae', 'std_test_mae', 'mean_test_r2', 'std_test_r2']]\n",
    "summary_df = summary_df.append(grid_search_df.sort_values('mean_test_mse', ascending=False).iloc[0], ignore_index=True)"
   ]
  },
  {
   "cell_type": "code",
   "execution_count": 21,
   "metadata": {},
   "outputs": [
    {
     "output_type": "execute_result",
     "data": {
      "text/plain": "    model           params  mean_test_mse  std_test_mse  mean_test_mae  \\\n0   lasso  {'alpha': 0.01}      -0.084062      0.031003      -0.249618   \n1   lasso  {'alpha': 0.05}      -0.099114      0.036789      -0.277631   \n2   lasso   {'alpha': 0.1}      -0.099114      0.036789      -0.277631   \n3   lasso   {'alpha': 0.2}      -0.099114      0.036789      -0.277631   \n4   lasso   {'alpha': 0.3}      -0.099114      0.036789      -0.277631   \n5   lasso   {'alpha': 0.4}      -0.099114      0.036789      -0.277631   \n6   lasso   {'alpha': 0.5}      -0.099114      0.036789      -0.277631   \n7   lasso   {'alpha': 0.6}      -0.099114      0.036789      -0.277631   \n8   lasso   {'alpha': 0.7}      -0.099114      0.036789      -0.277631   \n9   lasso   {'alpha': 0.8}      -0.099114      0.036789      -0.277631   \n10  lasso   {'alpha': 0.9}      -0.099114      0.036789      -0.277631   \n11  lasso     {'alpha': 1}      -0.099114      0.036789      -0.277631   \n12  lasso     {'alpha': 2}      -0.099114      0.036789      -0.277631   \n13  lasso     {'alpha': 3}      -0.099114      0.036789      -0.277631   \n14  lasso     {'alpha': 5}      -0.099114      0.036789      -0.277631   \n15  lasso     {'alpha': 7}      -0.099114      0.036789      -0.277631   \n\n    std_test_mae  mean_test_r2  std_test_r2  \n0       0.041645     -0.058683     0.232248  \n1       0.056755      0.065749     0.069789  \n2       0.056755      0.065749     0.069789  \n3       0.056755      0.065749     0.069789  \n4       0.056755      0.065749     0.069789  \n5       0.056755      0.065749     0.069789  \n6       0.056755      0.065749     0.069789  \n7       0.056755      0.065749     0.069789  \n8       0.056755      0.065749     0.069789  \n9       0.056755      0.065749     0.069789  \n10      0.056755      0.065749     0.069789  \n11      0.056755      0.065749     0.069789  \n12      0.056755      0.065749     0.069789  \n13      0.056755      0.065749     0.069789  \n14      0.056755      0.065749     0.069789  \n15      0.056755      0.065749     0.069789  ",
      "text/html": "<div>\n<style scoped>\n    .dataframe tbody tr th:only-of-type {\n        vertical-align: middle;\n    }\n\n    .dataframe tbody tr th {\n        vertical-align: top;\n    }\n\n    .dataframe thead th {\n        text-align: right;\n    }\n</style>\n<table border=\"1\" class=\"dataframe\">\n  <thead>\n    <tr style=\"text-align: right;\">\n      <th></th>\n      <th>model</th>\n      <th>params</th>\n      <th>mean_test_mse</th>\n      <th>std_test_mse</th>\n      <th>mean_test_mae</th>\n      <th>std_test_mae</th>\n      <th>mean_test_r2</th>\n      <th>std_test_r2</th>\n    </tr>\n  </thead>\n  <tbody>\n    <tr>\n      <th>0</th>\n      <td>lasso</td>\n      <td>{'alpha': 0.01}</td>\n      <td>-0.084062</td>\n      <td>0.031003</td>\n      <td>-0.249618</td>\n      <td>0.041645</td>\n      <td>-0.058683</td>\n      <td>0.232248</td>\n    </tr>\n    <tr>\n      <th>1</th>\n      <td>lasso</td>\n      <td>{'alpha': 0.05}</td>\n      <td>-0.099114</td>\n      <td>0.036789</td>\n      <td>-0.277631</td>\n      <td>0.056755</td>\n      <td>0.065749</td>\n      <td>0.069789</td>\n    </tr>\n    <tr>\n      <th>2</th>\n      <td>lasso</td>\n      <td>{'alpha': 0.1}</td>\n      <td>-0.099114</td>\n      <td>0.036789</td>\n      <td>-0.277631</td>\n      <td>0.056755</td>\n      <td>0.065749</td>\n      <td>0.069789</td>\n    </tr>\n    <tr>\n      <th>3</th>\n      <td>lasso</td>\n      <td>{'alpha': 0.2}</td>\n      <td>-0.099114</td>\n      <td>0.036789</td>\n      <td>-0.277631</td>\n      <td>0.056755</td>\n      <td>0.065749</td>\n      <td>0.069789</td>\n    </tr>\n    <tr>\n      <th>4</th>\n      <td>lasso</td>\n      <td>{'alpha': 0.3}</td>\n      <td>-0.099114</td>\n      <td>0.036789</td>\n      <td>-0.277631</td>\n      <td>0.056755</td>\n      <td>0.065749</td>\n      <td>0.069789</td>\n    </tr>\n    <tr>\n      <th>5</th>\n      <td>lasso</td>\n      <td>{'alpha': 0.4}</td>\n      <td>-0.099114</td>\n      <td>0.036789</td>\n      <td>-0.277631</td>\n      <td>0.056755</td>\n      <td>0.065749</td>\n      <td>0.069789</td>\n    </tr>\n    <tr>\n      <th>6</th>\n      <td>lasso</td>\n      <td>{'alpha': 0.5}</td>\n      <td>-0.099114</td>\n      <td>0.036789</td>\n      <td>-0.277631</td>\n      <td>0.056755</td>\n      <td>0.065749</td>\n      <td>0.069789</td>\n    </tr>\n    <tr>\n      <th>7</th>\n      <td>lasso</td>\n      <td>{'alpha': 0.6}</td>\n      <td>-0.099114</td>\n      <td>0.036789</td>\n      <td>-0.277631</td>\n      <td>0.056755</td>\n      <td>0.065749</td>\n      <td>0.069789</td>\n    </tr>\n    <tr>\n      <th>8</th>\n      <td>lasso</td>\n      <td>{'alpha': 0.7}</td>\n      <td>-0.099114</td>\n      <td>0.036789</td>\n      <td>-0.277631</td>\n      <td>0.056755</td>\n      <td>0.065749</td>\n      <td>0.069789</td>\n    </tr>\n    <tr>\n      <th>9</th>\n      <td>lasso</td>\n      <td>{'alpha': 0.8}</td>\n      <td>-0.099114</td>\n      <td>0.036789</td>\n      <td>-0.277631</td>\n      <td>0.056755</td>\n      <td>0.065749</td>\n      <td>0.069789</td>\n    </tr>\n    <tr>\n      <th>10</th>\n      <td>lasso</td>\n      <td>{'alpha': 0.9}</td>\n      <td>-0.099114</td>\n      <td>0.036789</td>\n      <td>-0.277631</td>\n      <td>0.056755</td>\n      <td>0.065749</td>\n      <td>0.069789</td>\n    </tr>\n    <tr>\n      <th>11</th>\n      <td>lasso</td>\n      <td>{'alpha': 1}</td>\n      <td>-0.099114</td>\n      <td>0.036789</td>\n      <td>-0.277631</td>\n      <td>0.056755</td>\n      <td>0.065749</td>\n      <td>0.069789</td>\n    </tr>\n    <tr>\n      <th>12</th>\n      <td>lasso</td>\n      <td>{'alpha': 2}</td>\n      <td>-0.099114</td>\n      <td>0.036789</td>\n      <td>-0.277631</td>\n      <td>0.056755</td>\n      <td>0.065749</td>\n      <td>0.069789</td>\n    </tr>\n    <tr>\n      <th>13</th>\n      <td>lasso</td>\n      <td>{'alpha': 3}</td>\n      <td>-0.099114</td>\n      <td>0.036789</td>\n      <td>-0.277631</td>\n      <td>0.056755</td>\n      <td>0.065749</td>\n      <td>0.069789</td>\n    </tr>\n    <tr>\n      <th>14</th>\n      <td>lasso</td>\n      <td>{'alpha': 5}</td>\n      <td>-0.099114</td>\n      <td>0.036789</td>\n      <td>-0.277631</td>\n      <td>0.056755</td>\n      <td>0.065749</td>\n      <td>0.069789</td>\n    </tr>\n    <tr>\n      <th>15</th>\n      <td>lasso</td>\n      <td>{'alpha': 7}</td>\n      <td>-0.099114</td>\n      <td>0.036789</td>\n      <td>-0.277631</td>\n      <td>0.056755</td>\n      <td>0.065749</td>\n      <td>0.069789</td>\n    </tr>\n  </tbody>\n</table>\n</div>"
     },
     "metadata": {},
     "execution_count": 21
    }
   ],
   "source": [
    "grid_search_df.sort_values('mean_test_mse', ascending=False)"
   ]
  },
  {
   "cell_type": "markdown",
   "metadata": {},
   "source": [
    "# Elastic Net "
   ]
  },
  {
   "cell_type": "code",
   "execution_count": 22,
   "metadata": {},
   "outputs": [],
   "source": [
    "PATH = 'elastic_net_grid_search_results.csv'"
   ]
  },
  {
   "cell_type": "code",
   "execution_count": 23,
   "metadata": {},
   "outputs": [],
   "source": [
    "grid_search_df = pd.read_csv(PATH)\n",
    "grid_search_df[\"model\"] = \"elastic_net\"\n",
    "grid_search_df = grid_search_df[[\"model\", 'params', 'mean_test_mse', 'std_test_mse', 'mean_test_mae', 'std_test_mae', 'mean_test_r2', 'std_test_r2']]\n",
    "summary_df = summary_df.append(grid_search_df.sort_values('mean_test_mse', ascending=False).iloc[0], ignore_index=True)"
   ]
  },
  {
   "cell_type": "code",
   "execution_count": 24,
   "metadata": {},
   "outputs": [
    {
     "output_type": "execute_result",
     "data": {
      "text/plain": "           model                            params  mean_test_mse  \\\n0    elastic_net     {'alpha': 0.1, 'l1_ratio': 0}      -0.084821   \n1    elastic_net  {'alpha': 0.1, 'l1_ratio': 0.05}      -0.088986   \n21   elastic_net     {'alpha': 0.2, 'l1_ratio': 0}      -0.090258   \n42   elastic_net     {'alpha': 0.3, 'l1_ratio': 0}      -0.092685   \n2    elastic_net   {'alpha': 0.1, 'l1_ratio': 0.1}      -0.092943   \n..           ...                               ...            ...   \n102  elastic_net   {'alpha': 0.5, 'l1_ratio': 0.9}      -0.099114   \n103  elastic_net  {'alpha': 0.5, 'l1_ratio': 0.95}      -0.099114   \n104  elastic_net     {'alpha': 0.5, 'l1_ratio': 1}      -0.099114   \n106  elastic_net  {'alpha': 0.6, 'l1_ratio': 0.05}      -0.099114   \n272  elastic_net       {'alpha': 5, 'l1_ratio': 1}      -0.099114   \n\n     std_test_mse  mean_test_mae  std_test_mae  mean_test_r2  std_test_r2  \n0        0.029646      -0.252081      0.041236     -0.064625     0.148239  \n1        0.032140      -0.259781      0.047060     -0.028770     0.122496  \n21       0.032194      -0.262259      0.047641     -0.016318     0.108760  \n42       0.033416      -0.266674      0.050247      0.005731     0.094000  \n2        0.034177      -0.266290      0.051575      0.006559     0.098344  \n..            ...            ...           ...           ...          ...  \n102      0.036789      -0.277631      0.056755      0.065749     0.069789  \n103      0.036789      -0.277631      0.056755      0.065749     0.069789  \n104      0.036789      -0.277631      0.056755      0.065749     0.069789  \n106      0.036789      -0.277631      0.056755      0.065749     0.069789  \n272      0.036789      -0.277631      0.056755      0.065749     0.069789  \n\n[273 rows x 8 columns]",
      "text/html": "<div>\n<style scoped>\n    .dataframe tbody tr th:only-of-type {\n        vertical-align: middle;\n    }\n\n    .dataframe tbody tr th {\n        vertical-align: top;\n    }\n\n    .dataframe thead th {\n        text-align: right;\n    }\n</style>\n<table border=\"1\" class=\"dataframe\">\n  <thead>\n    <tr style=\"text-align: right;\">\n      <th></th>\n      <th>model</th>\n      <th>params</th>\n      <th>mean_test_mse</th>\n      <th>std_test_mse</th>\n      <th>mean_test_mae</th>\n      <th>std_test_mae</th>\n      <th>mean_test_r2</th>\n      <th>std_test_r2</th>\n    </tr>\n  </thead>\n  <tbody>\n    <tr>\n      <th>0</th>\n      <td>elastic_net</td>\n      <td>{'alpha': 0.1, 'l1_ratio': 0}</td>\n      <td>-0.084821</td>\n      <td>0.029646</td>\n      <td>-0.252081</td>\n      <td>0.041236</td>\n      <td>-0.064625</td>\n      <td>0.148239</td>\n    </tr>\n    <tr>\n      <th>1</th>\n      <td>elastic_net</td>\n      <td>{'alpha': 0.1, 'l1_ratio': 0.05}</td>\n      <td>-0.088986</td>\n      <td>0.032140</td>\n      <td>-0.259781</td>\n      <td>0.047060</td>\n      <td>-0.028770</td>\n      <td>0.122496</td>\n    </tr>\n    <tr>\n      <th>21</th>\n      <td>elastic_net</td>\n      <td>{'alpha': 0.2, 'l1_ratio': 0}</td>\n      <td>-0.090258</td>\n      <td>0.032194</td>\n      <td>-0.262259</td>\n      <td>0.047641</td>\n      <td>-0.016318</td>\n      <td>0.108760</td>\n    </tr>\n    <tr>\n      <th>42</th>\n      <td>elastic_net</td>\n      <td>{'alpha': 0.3, 'l1_ratio': 0}</td>\n      <td>-0.092685</td>\n      <td>0.033416</td>\n      <td>-0.266674</td>\n      <td>0.050247</td>\n      <td>0.005731</td>\n      <td>0.094000</td>\n    </tr>\n    <tr>\n      <th>2</th>\n      <td>elastic_net</td>\n      <td>{'alpha': 0.1, 'l1_ratio': 0.1}</td>\n      <td>-0.092943</td>\n      <td>0.034177</td>\n      <td>-0.266290</td>\n      <td>0.051575</td>\n      <td>0.006559</td>\n      <td>0.098344</td>\n    </tr>\n    <tr>\n      <th>...</th>\n      <td>...</td>\n      <td>...</td>\n      <td>...</td>\n      <td>...</td>\n      <td>...</td>\n      <td>...</td>\n      <td>...</td>\n      <td>...</td>\n    </tr>\n    <tr>\n      <th>102</th>\n      <td>elastic_net</td>\n      <td>{'alpha': 0.5, 'l1_ratio': 0.9}</td>\n      <td>-0.099114</td>\n      <td>0.036789</td>\n      <td>-0.277631</td>\n      <td>0.056755</td>\n      <td>0.065749</td>\n      <td>0.069789</td>\n    </tr>\n    <tr>\n      <th>103</th>\n      <td>elastic_net</td>\n      <td>{'alpha': 0.5, 'l1_ratio': 0.95}</td>\n      <td>-0.099114</td>\n      <td>0.036789</td>\n      <td>-0.277631</td>\n      <td>0.056755</td>\n      <td>0.065749</td>\n      <td>0.069789</td>\n    </tr>\n    <tr>\n      <th>104</th>\n      <td>elastic_net</td>\n      <td>{'alpha': 0.5, 'l1_ratio': 1}</td>\n      <td>-0.099114</td>\n      <td>0.036789</td>\n      <td>-0.277631</td>\n      <td>0.056755</td>\n      <td>0.065749</td>\n      <td>0.069789</td>\n    </tr>\n    <tr>\n      <th>106</th>\n      <td>elastic_net</td>\n      <td>{'alpha': 0.6, 'l1_ratio': 0.05}</td>\n      <td>-0.099114</td>\n      <td>0.036789</td>\n      <td>-0.277631</td>\n      <td>0.056755</td>\n      <td>0.065749</td>\n      <td>0.069789</td>\n    </tr>\n    <tr>\n      <th>272</th>\n      <td>elastic_net</td>\n      <td>{'alpha': 5, 'l1_ratio': 1}</td>\n      <td>-0.099114</td>\n      <td>0.036789</td>\n      <td>-0.277631</td>\n      <td>0.056755</td>\n      <td>0.065749</td>\n      <td>0.069789</td>\n    </tr>\n  </tbody>\n</table>\n<p>273 rows × 8 columns</p>\n</div>"
     },
     "metadata": {},
     "execution_count": 24
    }
   ],
   "source": [
    "grid_search_df.sort_values('mean_test_mse', ascending=False)"
   ]
  },
  {
   "cell_type": "markdown",
   "metadata": {},
   "source": [
    "# Ridge"
   ]
  },
  {
   "cell_type": "code",
   "execution_count": 25,
   "metadata": {},
   "outputs": [],
   "source": [
    "PATH = 'ridge_grid_search_results.csv'"
   ]
  },
  {
   "cell_type": "code",
   "execution_count": 26,
   "metadata": {},
   "outputs": [],
   "source": [
    "grid_search_df = pd.read_csv(PATH)\n",
    "grid_search_df[\"model\"] = \"ridge\"\n",
    "grid_search_df = grid_search_df[[\"model\", 'params', 'mean_test_mse', 'std_test_mse', 'mean_test_mae', 'std_test_mae', 'mean_test_r2', 'std_test_r2']]\n",
    "summary_df = summary_df.append(grid_search_df.sort_values('mean_test_mse', ascending=False).iloc[0], ignore_index=True)"
   ]
  },
  {
   "cell_type": "code",
   "execution_count": 27,
   "metadata": {},
   "outputs": [
    {
     "output_type": "execute_result",
     "data": {
      "text/plain": "    model           params  mean_test_mse  std_test_mse  mean_test_mae  \\\n5   ridge   {'alpha': 0.4}      -0.068434      0.027456      -0.221565   \n6   ridge   {'alpha': 0.5}      -0.068498      0.025864      -0.223127   \n7   ridge   {'alpha': 0.6}      -0.068919      0.025200      -0.224628   \n4   ridge   {'alpha': 0.3}      -0.069180      0.031207      -0.219956   \n8   ridge   {'alpha': 0.7}      -0.069505      0.024957      -0.226055   \n9   ridge   {'alpha': 0.8}      -0.070162      0.024917      -0.227365   \n10  ridge   {'alpha': 0.9}      -0.070846      0.024979      -0.228574   \n11  ridge     {'alpha': 1}      -0.071531      0.025094      -0.229693   \n3   ridge   {'alpha': 0.2}      -0.071972      0.040351      -0.218916   \n12  ridge     {'alpha': 2}      -0.077265      0.026708      -0.237658   \n13  ridge     {'alpha': 3}      -0.081089      0.028097      -0.244714   \n2   ridge   {'alpha': 0.1}      -0.081148      0.064980      -0.220767   \n14  ridge     {'alpha': 4}      -0.083764      0.029189      -0.250057   \n15  ridge     {'alpha': 5}      -0.085739      0.030054      -0.253807   \n16  ridge     {'alpha': 6}      -0.087258      0.030750      -0.256597   \n17  ridge     {'alpha': 7}      -0.088463      0.031320      -0.258880   \n18  ridge     {'alpha': 8}      -0.089444      0.031794      -0.260739   \n19  ridge     {'alpha': 9}      -0.090258      0.032194      -0.262259   \n20  ridge    {'alpha': 10}      -0.090945      0.032535      -0.263525   \n21  ridge    {'alpha': 13}      -0.092483      0.033313      -0.266314   \n22  ridge    {'alpha': 15}      -0.093222      0.033692      -0.267629   \n1   ridge  {'alpha': 0.05}      -0.093260      0.093841      -0.224969   \n23  ridge    {'alpha': 17}      -0.093812      0.033996      -0.268669   \n0   ridge  {'alpha': 0.01}      -0.114437      0.139584      -0.233572   \n\n    std_test_mae  mean_test_r2  std_test_r2  \n5       0.042464     -0.215368     0.272955  \n6       0.039186     -0.211779     0.269951  \n7       0.036871     -0.206129     0.267395  \n4       0.047303     -0.213652     0.280866  \n8       0.035196     -0.199717     0.264344  \n9       0.033994     -0.193112     0.260729  \n10      0.033137     -0.186572     0.256679  \n11      0.032540     -0.180219     0.252342  \n3       0.055019     -0.197284     0.312563  \n12      0.032711     -0.129945     0.209401  \n13      0.036457     -0.097046     0.178184  \n2       0.067596     -0.131802     0.447354  \n14      0.039885     -0.073854     0.156573  \n15      0.042403     -0.056565     0.141127  \n16      0.044311     -0.043149     0.129700  \n17      0.045682     -0.032423     0.120991  \n18      0.046755     -0.023642     0.114187  \n19      0.047641     -0.016318     0.108760  \n20      0.048385     -0.010112     0.104355  \n21      0.050033      0.003888     0.095134  \n22      0.050814      0.010653     0.091069  \n1       0.078498     -0.038391     0.640415  \n23      0.051433      0.016079     0.088010  \n0       0.092444      0.135266     0.970853  ",
      "text/html": "<div>\n<style scoped>\n    .dataframe tbody tr th:only-of-type {\n        vertical-align: middle;\n    }\n\n    .dataframe tbody tr th {\n        vertical-align: top;\n    }\n\n    .dataframe thead th {\n        text-align: right;\n    }\n</style>\n<table border=\"1\" class=\"dataframe\">\n  <thead>\n    <tr style=\"text-align: right;\">\n      <th></th>\n      <th>model</th>\n      <th>params</th>\n      <th>mean_test_mse</th>\n      <th>std_test_mse</th>\n      <th>mean_test_mae</th>\n      <th>std_test_mae</th>\n      <th>mean_test_r2</th>\n      <th>std_test_r2</th>\n    </tr>\n  </thead>\n  <tbody>\n    <tr>\n      <th>5</th>\n      <td>ridge</td>\n      <td>{'alpha': 0.4}</td>\n      <td>-0.068434</td>\n      <td>0.027456</td>\n      <td>-0.221565</td>\n      <td>0.042464</td>\n      <td>-0.215368</td>\n      <td>0.272955</td>\n    </tr>\n    <tr>\n      <th>6</th>\n      <td>ridge</td>\n      <td>{'alpha': 0.5}</td>\n      <td>-0.068498</td>\n      <td>0.025864</td>\n      <td>-0.223127</td>\n      <td>0.039186</td>\n      <td>-0.211779</td>\n      <td>0.269951</td>\n    </tr>\n    <tr>\n      <th>7</th>\n      <td>ridge</td>\n      <td>{'alpha': 0.6}</td>\n      <td>-0.068919</td>\n      <td>0.025200</td>\n      <td>-0.224628</td>\n      <td>0.036871</td>\n      <td>-0.206129</td>\n      <td>0.267395</td>\n    </tr>\n    <tr>\n      <th>4</th>\n      <td>ridge</td>\n      <td>{'alpha': 0.3}</td>\n      <td>-0.069180</td>\n      <td>0.031207</td>\n      <td>-0.219956</td>\n      <td>0.047303</td>\n      <td>-0.213652</td>\n      <td>0.280866</td>\n    </tr>\n    <tr>\n      <th>8</th>\n      <td>ridge</td>\n      <td>{'alpha': 0.7}</td>\n      <td>-0.069505</td>\n      <td>0.024957</td>\n      <td>-0.226055</td>\n      <td>0.035196</td>\n      <td>-0.199717</td>\n      <td>0.264344</td>\n    </tr>\n    <tr>\n      <th>9</th>\n      <td>ridge</td>\n      <td>{'alpha': 0.8}</td>\n      <td>-0.070162</td>\n      <td>0.024917</td>\n      <td>-0.227365</td>\n      <td>0.033994</td>\n      <td>-0.193112</td>\n      <td>0.260729</td>\n    </tr>\n    <tr>\n      <th>10</th>\n      <td>ridge</td>\n      <td>{'alpha': 0.9}</td>\n      <td>-0.070846</td>\n      <td>0.024979</td>\n      <td>-0.228574</td>\n      <td>0.033137</td>\n      <td>-0.186572</td>\n      <td>0.256679</td>\n    </tr>\n    <tr>\n      <th>11</th>\n      <td>ridge</td>\n      <td>{'alpha': 1}</td>\n      <td>-0.071531</td>\n      <td>0.025094</td>\n      <td>-0.229693</td>\n      <td>0.032540</td>\n      <td>-0.180219</td>\n      <td>0.252342</td>\n    </tr>\n    <tr>\n      <th>3</th>\n      <td>ridge</td>\n      <td>{'alpha': 0.2}</td>\n      <td>-0.071972</td>\n      <td>0.040351</td>\n      <td>-0.218916</td>\n      <td>0.055019</td>\n      <td>-0.197284</td>\n      <td>0.312563</td>\n    </tr>\n    <tr>\n      <th>12</th>\n      <td>ridge</td>\n      <td>{'alpha': 2}</td>\n      <td>-0.077265</td>\n      <td>0.026708</td>\n      <td>-0.237658</td>\n      <td>0.032711</td>\n      <td>-0.129945</td>\n      <td>0.209401</td>\n    </tr>\n    <tr>\n      <th>13</th>\n      <td>ridge</td>\n      <td>{'alpha': 3}</td>\n      <td>-0.081089</td>\n      <td>0.028097</td>\n      <td>-0.244714</td>\n      <td>0.036457</td>\n      <td>-0.097046</td>\n      <td>0.178184</td>\n    </tr>\n    <tr>\n      <th>2</th>\n      <td>ridge</td>\n      <td>{'alpha': 0.1}</td>\n      <td>-0.081148</td>\n      <td>0.064980</td>\n      <td>-0.220767</td>\n      <td>0.067596</td>\n      <td>-0.131802</td>\n      <td>0.447354</td>\n    </tr>\n    <tr>\n      <th>14</th>\n      <td>ridge</td>\n      <td>{'alpha': 4}</td>\n      <td>-0.083764</td>\n      <td>0.029189</td>\n      <td>-0.250057</td>\n      <td>0.039885</td>\n      <td>-0.073854</td>\n      <td>0.156573</td>\n    </tr>\n    <tr>\n      <th>15</th>\n      <td>ridge</td>\n      <td>{'alpha': 5}</td>\n      <td>-0.085739</td>\n      <td>0.030054</td>\n      <td>-0.253807</td>\n      <td>0.042403</td>\n      <td>-0.056565</td>\n      <td>0.141127</td>\n    </tr>\n    <tr>\n      <th>16</th>\n      <td>ridge</td>\n      <td>{'alpha': 6}</td>\n      <td>-0.087258</td>\n      <td>0.030750</td>\n      <td>-0.256597</td>\n      <td>0.044311</td>\n      <td>-0.043149</td>\n      <td>0.129700</td>\n    </tr>\n    <tr>\n      <th>17</th>\n      <td>ridge</td>\n      <td>{'alpha': 7}</td>\n      <td>-0.088463</td>\n      <td>0.031320</td>\n      <td>-0.258880</td>\n      <td>0.045682</td>\n      <td>-0.032423</td>\n      <td>0.120991</td>\n    </tr>\n    <tr>\n      <th>18</th>\n      <td>ridge</td>\n      <td>{'alpha': 8}</td>\n      <td>-0.089444</td>\n      <td>0.031794</td>\n      <td>-0.260739</td>\n      <td>0.046755</td>\n      <td>-0.023642</td>\n      <td>0.114187</td>\n    </tr>\n    <tr>\n      <th>19</th>\n      <td>ridge</td>\n      <td>{'alpha': 9}</td>\n      <td>-0.090258</td>\n      <td>0.032194</td>\n      <td>-0.262259</td>\n      <td>0.047641</td>\n      <td>-0.016318</td>\n      <td>0.108760</td>\n    </tr>\n    <tr>\n      <th>20</th>\n      <td>ridge</td>\n      <td>{'alpha': 10}</td>\n      <td>-0.090945</td>\n      <td>0.032535</td>\n      <td>-0.263525</td>\n      <td>0.048385</td>\n      <td>-0.010112</td>\n      <td>0.104355</td>\n    </tr>\n    <tr>\n      <th>21</th>\n      <td>ridge</td>\n      <td>{'alpha': 13}</td>\n      <td>-0.092483</td>\n      <td>0.033313</td>\n      <td>-0.266314</td>\n      <td>0.050033</td>\n      <td>0.003888</td>\n      <td>0.095134</td>\n    </tr>\n    <tr>\n      <th>22</th>\n      <td>ridge</td>\n      <td>{'alpha': 15}</td>\n      <td>-0.093222</td>\n      <td>0.033692</td>\n      <td>-0.267629</td>\n      <td>0.050814</td>\n      <td>0.010653</td>\n      <td>0.091069</td>\n    </tr>\n    <tr>\n      <th>1</th>\n      <td>ridge</td>\n      <td>{'alpha': 0.05}</td>\n      <td>-0.093260</td>\n      <td>0.093841</td>\n      <td>-0.224969</td>\n      <td>0.078498</td>\n      <td>-0.038391</td>\n      <td>0.640415</td>\n    </tr>\n    <tr>\n      <th>23</th>\n      <td>ridge</td>\n      <td>{'alpha': 17}</td>\n      <td>-0.093812</td>\n      <td>0.033996</td>\n      <td>-0.268669</td>\n      <td>0.051433</td>\n      <td>0.016079</td>\n      <td>0.088010</td>\n    </tr>\n    <tr>\n      <th>0</th>\n      <td>ridge</td>\n      <td>{'alpha': 0.01}</td>\n      <td>-0.114437</td>\n      <td>0.139584</td>\n      <td>-0.233572</td>\n      <td>0.092444</td>\n      <td>0.135266</td>\n      <td>0.970853</td>\n    </tr>\n  </tbody>\n</table>\n</div>"
     },
     "metadata": {},
     "execution_count": 27
    }
   ],
   "source": [
    "grid_search_df.sort_values('mean_test_mse', ascending=False)"
   ]
  },
  {
   "cell_type": "markdown",
   "metadata": {},
   "source": [
    "# SGD"
   ]
  },
  {
   "cell_type": "code",
   "execution_count": 28,
   "metadata": {},
   "outputs": [],
   "source": [
    "PATH = 'sgd_grid_search_results.csv'"
   ]
  },
  {
   "cell_type": "code",
   "execution_count": 29,
   "metadata": {},
   "outputs": [],
   "source": [
    "grid_search_df = pd.read_csv(PATH)\n",
    "grid_search_df[\"model\"] = \"sgd\"\n",
    "grid_search_df = grid_search_df[[\"model\", 'params', 'mean_test_mse', 'std_test_mse', 'mean_test_mae', 'std_test_mae', 'mean_test_r2', 'std_test_r2']]\n",
    "summary_df = summary_df.append(grid_search_df.sort_values('mean_test_mse', ascending=False).iloc[0], ignore_index=True)"
   ]
  },
  {
   "cell_type": "code",
   "execution_count": 30,
   "metadata": {},
   "outputs": [
    {
     "output_type": "execute_result",
     "data": {
      "text/plain": "     model                                             params  mean_test_mse  \\\n6159   sgd  {'alpha': 0.001, 'epsilon': 0.1, 'l1_ratio': 0...  -6.632934e-02   \n4074   sgd  {'alpha': 0.001, 'epsilon': 0.2, 'l1_ratio': 0...  -6.731695e-02   \n4135   sgd  {'alpha': 0.001, 'epsilon': 0.2, 'l1_ratio': 0...  -6.733239e-02   \n1256   sgd  {'alpha': 0.0001, 'epsilon': 0.15, 'l1_ratio':...  -6.745693e-02   \n4904   sgd  {'alpha': 0.001, 'epsilon': 0.2, 'l1_ratio': 0...  -6.752303e-02   \n...    ...                                                ...            ...   \n69     sgd  {'alpha': 0.0001, 'epsilon': 0.2, 'l1_ratio': ...  -1.108319e+26   \n1021   sgd  {'alpha': 0.0001, 'epsilon': 0.15, 'l1_ratio':...  -1.155047e+26   \n3525   sgd  {'alpha': 0.0001, 'epsilon': 0.05, 'l1_ratio':...  -1.183510e+26   \n1550   sgd  {'alpha': 0.0001, 'epsilon': 0.15, 'l1_ratio':...  -1.464025e+26   \n885    sgd  {'alpha': 0.0001, 'epsilon': 0.2, 'l1_ratio': ...  -1.582855e+26   \n\n      std_test_mse  mean_test_mae  std_test_mae  mean_test_r2   std_test_r2  \n6159  2.272223e-02  -2.083820e-01  4.216642e-02 -2.377209e-01  2.255103e-01  \n4074  2.699569e-02  -2.197381e-01  3.324776e-02 -2.195236e-01  2.931566e-01  \n4135  2.520236e-02  -2.182583e-01  3.203978e-02 -2.190702e-01  2.807500e-01  \n1256  2.681177e-02  -2.180136e-01  3.452793e-02 -2.238366e-01  2.705115e-01  \n4904  2.406534e-02  -2.190397e-01  3.013682e-02 -2.085377e-01  2.978811e-01  \n...            ...            ...           ...           ...           ...  \n69    1.143789e+26  -8.107706e+12  6.134644e+12  1.624174e+27  1.878442e+27  \n1021  2.008160e+26  -7.643066e+12  6.947880e+12  1.410718e+27  2.508123e+27  \n3525  1.918062e+26  -8.077696e+12  6.414777e+12  1.628814e+27  3.393321e+27  \n1550  3.719242e+26  -6.819450e+12  9.765189e+12  1.219276e+27  2.886406e+27  \n885   1.719413e+26  -9.853855e+12  7.517172e+12  2.199108e+27  3.059434e+27  \n\n[20160 rows x 8 columns]",
      "text/html": "<div>\n<style scoped>\n    .dataframe tbody tr th:only-of-type {\n        vertical-align: middle;\n    }\n\n    .dataframe tbody tr th {\n        vertical-align: top;\n    }\n\n    .dataframe thead th {\n        text-align: right;\n    }\n</style>\n<table border=\"1\" class=\"dataframe\">\n  <thead>\n    <tr style=\"text-align: right;\">\n      <th></th>\n      <th>model</th>\n      <th>params</th>\n      <th>mean_test_mse</th>\n      <th>std_test_mse</th>\n      <th>mean_test_mae</th>\n      <th>std_test_mae</th>\n      <th>mean_test_r2</th>\n      <th>std_test_r2</th>\n    </tr>\n  </thead>\n  <tbody>\n    <tr>\n      <th>6159</th>\n      <td>sgd</td>\n      <td>{'alpha': 0.001, 'epsilon': 0.1, 'l1_ratio': 0...</td>\n      <td>-6.632934e-02</td>\n      <td>2.272223e-02</td>\n      <td>-2.083820e-01</td>\n      <td>4.216642e-02</td>\n      <td>-2.377209e-01</td>\n      <td>2.255103e-01</td>\n    </tr>\n    <tr>\n      <th>4074</th>\n      <td>sgd</td>\n      <td>{'alpha': 0.001, 'epsilon': 0.2, 'l1_ratio': 0...</td>\n      <td>-6.731695e-02</td>\n      <td>2.699569e-02</td>\n      <td>-2.197381e-01</td>\n      <td>3.324776e-02</td>\n      <td>-2.195236e-01</td>\n      <td>2.931566e-01</td>\n    </tr>\n    <tr>\n      <th>4135</th>\n      <td>sgd</td>\n      <td>{'alpha': 0.001, 'epsilon': 0.2, 'l1_ratio': 0...</td>\n      <td>-6.733239e-02</td>\n      <td>2.520236e-02</td>\n      <td>-2.182583e-01</td>\n      <td>3.203978e-02</td>\n      <td>-2.190702e-01</td>\n      <td>2.807500e-01</td>\n    </tr>\n    <tr>\n      <th>1256</th>\n      <td>sgd</td>\n      <td>{'alpha': 0.0001, 'epsilon': 0.15, 'l1_ratio':...</td>\n      <td>-6.745693e-02</td>\n      <td>2.681177e-02</td>\n      <td>-2.180136e-01</td>\n      <td>3.452793e-02</td>\n      <td>-2.238366e-01</td>\n      <td>2.705115e-01</td>\n    </tr>\n    <tr>\n      <th>4904</th>\n      <td>sgd</td>\n      <td>{'alpha': 0.001, 'epsilon': 0.2, 'l1_ratio': 0...</td>\n      <td>-6.752303e-02</td>\n      <td>2.406534e-02</td>\n      <td>-2.190397e-01</td>\n      <td>3.013682e-02</td>\n      <td>-2.085377e-01</td>\n      <td>2.978811e-01</td>\n    </tr>\n    <tr>\n      <th>...</th>\n      <td>...</td>\n      <td>...</td>\n      <td>...</td>\n      <td>...</td>\n      <td>...</td>\n      <td>...</td>\n      <td>...</td>\n      <td>...</td>\n    </tr>\n    <tr>\n      <th>69</th>\n      <td>sgd</td>\n      <td>{'alpha': 0.0001, 'epsilon': 0.2, 'l1_ratio': ...</td>\n      <td>-1.108319e+26</td>\n      <td>1.143789e+26</td>\n      <td>-8.107706e+12</td>\n      <td>6.134644e+12</td>\n      <td>1.624174e+27</td>\n      <td>1.878442e+27</td>\n    </tr>\n    <tr>\n      <th>1021</th>\n      <td>sgd</td>\n      <td>{'alpha': 0.0001, 'epsilon': 0.15, 'l1_ratio':...</td>\n      <td>-1.155047e+26</td>\n      <td>2.008160e+26</td>\n      <td>-7.643066e+12</td>\n      <td>6.947880e+12</td>\n      <td>1.410718e+27</td>\n      <td>2.508123e+27</td>\n    </tr>\n    <tr>\n      <th>3525</th>\n      <td>sgd</td>\n      <td>{'alpha': 0.0001, 'epsilon': 0.05, 'l1_ratio':...</td>\n      <td>-1.183510e+26</td>\n      <td>1.918062e+26</td>\n      <td>-8.077696e+12</td>\n      <td>6.414777e+12</td>\n      <td>1.628814e+27</td>\n      <td>3.393321e+27</td>\n    </tr>\n    <tr>\n      <th>1550</th>\n      <td>sgd</td>\n      <td>{'alpha': 0.0001, 'epsilon': 0.15, 'l1_ratio':...</td>\n      <td>-1.464025e+26</td>\n      <td>3.719242e+26</td>\n      <td>-6.819450e+12</td>\n      <td>9.765189e+12</td>\n      <td>1.219276e+27</td>\n      <td>2.886406e+27</td>\n    </tr>\n    <tr>\n      <th>885</th>\n      <td>sgd</td>\n      <td>{'alpha': 0.0001, 'epsilon': 0.2, 'l1_ratio': ...</td>\n      <td>-1.582855e+26</td>\n      <td>1.719413e+26</td>\n      <td>-9.853855e+12</td>\n      <td>7.517172e+12</td>\n      <td>2.199108e+27</td>\n      <td>3.059434e+27</td>\n    </tr>\n  </tbody>\n</table>\n<p>20160 rows × 8 columns</p>\n</div>"
     },
     "metadata": {},
     "execution_count": 30
    }
   ],
   "source": [
    "grid_search_df.sort_values('mean_test_mse', ascending=False)"
   ]
  },
  {
   "cell_type": "code",
   "execution_count": 31,
   "metadata": {},
   "outputs": [
    {
     "output_type": "execute_result",
     "data": {
      "text/plain": "array([\"{'alpha': 0.001, 'epsilon': 0.1, 'l1_ratio': 0.1, 'learning_rate': 'optimal', 'loss': 'huber', 'penalty': 'l2'}\",\n       \"{'alpha': 0.001, 'epsilon': 0.2, 'l1_ratio': 0, 'learning_rate': 'adaptive', 'loss': 'epsilon_insensitive', 'penalty': 'l2'}\",\n       \"{'alpha': 0.001, 'epsilon': 0.2, 'l1_ratio': 0.1, 'learning_rate': 'constant', 'loss': 'epsilon_insensitive', 'penalty': 'l1'}\",\n       \"{'alpha': 0.0001, 'epsilon': 0.15, 'l1_ratio': 0.25, 'learning_rate': 'constant', 'loss': 'epsilon_insensitive', 'penalty': 'elasticnet'}\",\n       \"{'alpha': 0.001, 'epsilon': 0.2, 'l1_ratio': 0.9, 'learning_rate': 'constant', 'loss': 'epsilon_insensitive', 'penalty': 'elasticnet'}\",\n       \"{'alpha': 0.0001, 'epsilon': 0.2, 'l1_ratio': 0.6, 'learning_rate': 'adaptive', 'loss': 'epsilon_insensitive', 'penalty': 'l2'}\",\n       \"{'alpha': 0.0001, 'epsilon': 0.2, 'l1_ratio': 0.4, 'learning_rate': 'constant', 'loss': 'epsilon_insensitive', 'penalty': 'elasticnet'}\",\n       \"{'alpha': 0.01, 'epsilon': 0.2, 'l1_ratio': 0.25, 'learning_rate': 'optimal', 'loss': 'huber', 'penalty': 'l2'}\",\n       \"{'alpha': 0.0001, 'epsilon': 0.2, 'l1_ratio': 0.25, 'learning_rate': 'adaptive', 'loss': 'epsilon_insensitive', 'penalty': 'l2'}\",\n       \"{'alpha': 0.0001, 'epsilon': 0.2, 'l1_ratio': 0.2, 'learning_rate': 'constant', 'loss': 'epsilon_insensitive', 'penalty': 'l1'}\",\n       \"{'alpha': 0.0001, 'epsilon': 0.2, 'l1_ratio': 0.35, 'learning_rate': 'adaptive', 'loss': 'epsilon_insensitive', 'penalty': 'elasticnet'}\",\n       \"{'alpha': 0.0001, 'epsilon': 0.2, 'l1_ratio': 0.1, 'learning_rate': 'constant', 'loss': 'epsilon_insensitive', 'penalty': 'l2'}\",\n       \"{'alpha': 0.001, 'epsilon': 0.2, 'l1_ratio': 0.15, 'learning_rate': 'adaptive', 'loss': 'epsilon_insensitive', 'penalty': 'elasticnet'}\",\n       \"{'alpha': 0.0001, 'epsilon': 0.2, 'l1_ratio': 0.9, 'learning_rate': 'adaptive', 'loss': 'epsilon_insensitive', 'penalty': 'l2'}\",\n       \"{'alpha': 0.001, 'epsilon': 0.2, 'l1_ratio': 0.75, 'learning_rate': 'adaptive', 'loss': 'epsilon_insensitive', 'penalty': 'l2'}\",\n       \"{'alpha': 0.001, 'epsilon': 0.15, 'l1_ratio': 1, 'learning_rate': 'constant', 'loss': 'epsilon_insensitive', 'penalty': 'l1'}\",\n       \"{'alpha': 0.0001, 'epsilon': 0.2, 'l1_ratio': 0.55, 'learning_rate': 'adaptive', 'loss': 'epsilon_insensitive', 'penalty': 'elasticnet'}\",\n       \"{'alpha': 0.0001, 'epsilon': 0.2, 'l1_ratio': 0, 'learning_rate': 'constant', 'loss': 'epsilon_insensitive', 'penalty': 'l2'}\",\n       \"{'alpha': 0.0001, 'epsilon': 0.2, 'l1_ratio': 0.1, 'learning_rate': 'adaptive', 'loss': 'epsilon_insensitive', 'penalty': 'l1'}\",\n       \"{'alpha': 0.0001, 'epsilon': 0.15, 'l1_ratio': 0.05, 'learning_rate': 'constant', 'loss': 'epsilon_insensitive', 'penalty': 'l1'}\"],\n      dtype=object)"
     },
     "metadata": {},
     "execution_count": 31
    }
   ],
   "source": [
    "grid_search_df.sort_values('mean_test_mse', ascending=False)[\"params\"].head(20).values"
   ]
  },
  {
   "cell_type": "markdown",
   "metadata": {},
   "source": [
    "# Sumário"
   ]
  },
  {
   "cell_type": "code",
   "execution_count": 32,
   "metadata": {},
   "outputs": [
    {
     "output_type": "execute_result",
     "data": {
      "text/plain": "           model                                             params  \\\n0  random_forest          {'criterion': 'mse', 'n_estimators': 200}   \n1      ada_boost  {'learning_rate': 0.85, 'loss': 'exponential',...   \n2            svm  {'C': 0.9, 'degree': 2, 'epsilon': 0.05, 'kern...   \n3            knn  {'metric': 'minkowski', 'n_neighbors': 3, 'p': 1}   \n7            sgd  {'alpha': 0.001, 'epsilon': 0.1, 'l1_ratio': 0...   \n6          ridge                                     {'alpha': 0.4}   \n4          lasso                                    {'alpha': 0.01}   \n5    elastic_net                      {'alpha': 0.1, 'l1_ratio': 0}   \n\n   mean_test_mse  std_test_mse  mean_test_mae  std_test_mae  mean_test_r2  \\\n0      -0.030989      0.024481      -0.130164      0.044925     -0.530215   \n1      -0.032126      0.022997      -0.131678      0.049228     -0.512179   \n2      -0.042699      0.028480      -0.166108      0.053583     -0.504520   \n3      -0.053292      0.030841      -0.181685      0.050810     -0.340992   \n7      -0.066329      0.022722      -0.208382      0.042166     -0.237721   \n6      -0.068434      0.027456      -0.221565      0.042464     -0.215368   \n4      -0.084062      0.031003      -0.249618      0.041645     -0.058683   \n5      -0.084821      0.029646      -0.252081      0.041236     -0.064625   \n\n   std_test_r2  \n0     0.333396  \n1     0.289156  \n2     0.312307  \n3     0.491300  \n7     0.225510  \n6     0.272955  \n4     0.232248  \n5     0.148239  ",
      "text/html": "<div>\n<style scoped>\n    .dataframe tbody tr th:only-of-type {\n        vertical-align: middle;\n    }\n\n    .dataframe tbody tr th {\n        vertical-align: top;\n    }\n\n    .dataframe thead th {\n        text-align: right;\n    }\n</style>\n<table border=\"1\" class=\"dataframe\">\n  <thead>\n    <tr style=\"text-align: right;\">\n      <th></th>\n      <th>model</th>\n      <th>params</th>\n      <th>mean_test_mse</th>\n      <th>std_test_mse</th>\n      <th>mean_test_mae</th>\n      <th>std_test_mae</th>\n      <th>mean_test_r2</th>\n      <th>std_test_r2</th>\n    </tr>\n  </thead>\n  <tbody>\n    <tr>\n      <th>0</th>\n      <td>random_forest</td>\n      <td>{'criterion': 'mse', 'n_estimators': 200}</td>\n      <td>-0.030989</td>\n      <td>0.024481</td>\n      <td>-0.130164</td>\n      <td>0.044925</td>\n      <td>-0.530215</td>\n      <td>0.333396</td>\n    </tr>\n    <tr>\n      <th>1</th>\n      <td>ada_boost</td>\n      <td>{'learning_rate': 0.85, 'loss': 'exponential',...</td>\n      <td>-0.032126</td>\n      <td>0.022997</td>\n      <td>-0.131678</td>\n      <td>0.049228</td>\n      <td>-0.512179</td>\n      <td>0.289156</td>\n    </tr>\n    <tr>\n      <th>2</th>\n      <td>svm</td>\n      <td>{'C': 0.9, 'degree': 2, 'epsilon': 0.05, 'kern...</td>\n      <td>-0.042699</td>\n      <td>0.028480</td>\n      <td>-0.166108</td>\n      <td>0.053583</td>\n      <td>-0.504520</td>\n      <td>0.312307</td>\n    </tr>\n    <tr>\n      <th>3</th>\n      <td>knn</td>\n      <td>{'metric': 'minkowski', 'n_neighbors': 3, 'p': 1}</td>\n      <td>-0.053292</td>\n      <td>0.030841</td>\n      <td>-0.181685</td>\n      <td>0.050810</td>\n      <td>-0.340992</td>\n      <td>0.491300</td>\n    </tr>\n    <tr>\n      <th>7</th>\n      <td>sgd</td>\n      <td>{'alpha': 0.001, 'epsilon': 0.1, 'l1_ratio': 0...</td>\n      <td>-0.066329</td>\n      <td>0.022722</td>\n      <td>-0.208382</td>\n      <td>0.042166</td>\n      <td>-0.237721</td>\n      <td>0.225510</td>\n    </tr>\n    <tr>\n      <th>6</th>\n      <td>ridge</td>\n      <td>{'alpha': 0.4}</td>\n      <td>-0.068434</td>\n      <td>0.027456</td>\n      <td>-0.221565</td>\n      <td>0.042464</td>\n      <td>-0.215368</td>\n      <td>0.272955</td>\n    </tr>\n    <tr>\n      <th>4</th>\n      <td>lasso</td>\n      <td>{'alpha': 0.01}</td>\n      <td>-0.084062</td>\n      <td>0.031003</td>\n      <td>-0.249618</td>\n      <td>0.041645</td>\n      <td>-0.058683</td>\n      <td>0.232248</td>\n    </tr>\n    <tr>\n      <th>5</th>\n      <td>elastic_net</td>\n      <td>{'alpha': 0.1, 'l1_ratio': 0}</td>\n      <td>-0.084821</td>\n      <td>0.029646</td>\n      <td>-0.252081</td>\n      <td>0.041236</td>\n      <td>-0.064625</td>\n      <td>0.148239</td>\n    </tr>\n  </tbody>\n</table>\n</div>"
     },
     "metadata": {},
     "execution_count": 32
    }
   ],
   "source": [
    "summary_df.sort_values(by='mean_test_mse', ascending=False).head(20)"
   ]
  },
  {
   "cell_type": "code",
   "execution_count": null,
   "metadata": {},
   "outputs": [],
   "source": []
  }
 ],
 "metadata": {
  "language_info": {
   "name": "python",
   "codemirror_mode": {
    "name": "ipython",
    "version": 3
   },
   "version": "3.6.9-final"
  },
  "orig_nbformat": 2,
  "file_extension": ".py",
  "mimetype": "text/x-python",
  "name": "python",
  "npconvert_exporter": "python",
  "pygments_lexer": "ipython3",
  "version": 3,
  "kernelspec": {
   "name": "python36964bitbertvirtualenv054cbb15ab924922a35a349b12e89805",
   "display_name": "Python 3.6.9 64-bit ('bert': virtualenv)"
  }
 },
 "nbformat": 4,
 "nbformat_minor": 2
}