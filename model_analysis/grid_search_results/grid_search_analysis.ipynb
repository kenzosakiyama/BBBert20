{
 "cells": [
  {
   "cell_type": "code",
   "execution_count": 1,
   "metadata": {},
   "outputs": [],
   "source": [
    "import pandas as pd"
   ]
  },
  {
   "cell_type": "code",
   "execution_count": 2,
   "metadata": {},
   "outputs": [],
   "source": [
    "summary_df = pd.DataFrame(columns=[\"model\", 'params', 'mean_test_mse', 'std_test_mse', 'mean_test_mae', 'std_test_mae', 'mean_test_r2', 'std_test_r2'])"
   ]
  },
  {
   "cell_type": "code",
   "execution_count": 3,
   "metadata": {},
   "outputs": [
    {
     "output_type": "execute_result",
     "data": {
      "text/plain": "Empty DataFrame\nColumns: [model, params, mean_test_mse, std_test_mse, mean_test_mae, std_test_mae, mean_test_r2, std_test_r2]\nIndex: []",
      "text/html": "<div>\n<style scoped>\n    .dataframe tbody tr th:only-of-type {\n        vertical-align: middle;\n    }\n\n    .dataframe tbody tr th {\n        vertical-align: top;\n    }\n\n    .dataframe thead th {\n        text-align: right;\n    }\n</style>\n<table border=\"1\" class=\"dataframe\">\n  <thead>\n    <tr style=\"text-align: right;\">\n      <th></th>\n      <th>model</th>\n      <th>params</th>\n      <th>mean_test_mse</th>\n      <th>std_test_mse</th>\n      <th>mean_test_mae</th>\n      <th>std_test_mae</th>\n      <th>mean_test_r2</th>\n      <th>std_test_r2</th>\n    </tr>\n  </thead>\n  <tbody>\n  </tbody>\n</table>\n</div>"
     },
     "metadata": {},
     "execution_count": 3
    }
   ],
   "source": [
    "summary_df"
   ]
  },
  {
   "cell_type": "markdown",
   "metadata": {},
   "source": [
    "# Random Forest Regressor"
   ]
  },
  {
   "cell_type": "code",
   "execution_count": 4,
   "metadata": {},
   "outputs": [],
   "source": [
    "PATH = 'random_forest_grid_search_results.csv'"
   ]
  },
  {
   "cell_type": "code",
   "execution_count": 5,
   "metadata": {},
   "outputs": [],
   "source": [
    "grid_search_df = pd.read_csv(PATH)"
   ]
  },
  {
   "cell_type": "code",
   "execution_count": 6,
   "metadata": {},
   "outputs": [],
   "source": [
    "grid_search_df[\"model\"] = \"random_forest\"\n",
    "grid_search_df = grid_search_df[[\"model\", 'params', 'mean_test_mse', 'std_test_mse', 'mean_test_mae', 'std_test_mae', 'mean_test_r2', 'std_test_r2']]\n",
    "summary_df = summary_df.append(grid_search_df.sort_values('mean_test_mse', ascending=False).iloc[0], ignore_index=True)"
   ]
  },
  {
   "cell_type": "code",
   "execution_count": 7,
   "metadata": {},
   "outputs": [
    {
     "output_type": "execute_result",
     "data": {
      "text/plain": "            model                                       params  mean_test_mse  \\\n0   random_forest    {'criterion': 'mse', 'n_estimators': 100}      -0.030694   \n10  random_forest    {'criterion': 'mae', 'n_estimators': 500}      -0.031780   \n11  random_forest   {'criterion': 'mae', 'n_estimators': 1000}      -0.031988   \n3   random_forest   {'criterion': 'mse', 'n_estimators': 1000}      -0.032040   \n15  random_forest  {'criterion': 'mae', 'n_estimators': 10000}      -0.032149   \n14  random_forest   {'criterion': 'mae', 'n_estimators': 5000}      -0.032188   \n13  random_forest   {'criterion': 'mae', 'n_estimators': 3000}      -0.032356   \n7   random_forest  {'criterion': 'mse', 'n_estimators': 10000}      -0.032371   \n2   random_forest    {'criterion': 'mse', 'n_estimators': 500}      -0.032392   \n8   random_forest    {'criterion': 'mae', 'n_estimators': 100}      -0.032477   \n4   random_forest   {'criterion': 'mse', 'n_estimators': 2000}      -0.032511   \n5   random_forest   {'criterion': 'mse', 'n_estimators': 3000}      -0.032518   \n6   random_forest   {'criterion': 'mse', 'n_estimators': 5000}      -0.032590   \n12  random_forest   {'criterion': 'mae', 'n_estimators': 2000}      -0.032608   \n1   random_forest    {'criterion': 'mse', 'n_estimators': 200}      -0.032809   \n9   random_forest    {'criterion': 'mae', 'n_estimators': 200}      -0.033716   \n\n    std_test_mse  mean_test_mae  std_test_mae  mean_test_r2  std_test_r2  \n0       0.018112      -0.137888      0.038248     -0.472818     0.360756  \n10      0.023388      -0.138455      0.043817     -0.448487     0.458756  \n11      0.024259      -0.137220      0.045213     -0.448266     0.466315  \n3       0.020478      -0.139218      0.039871     -0.458020     0.375095  \n15      0.023834      -0.138408      0.043530     -0.442078     0.470633  \n14      0.023808      -0.138735      0.042958     -0.442645     0.465765  \n13      0.023985      -0.138838      0.043481     -0.441161     0.460092  \n7       0.020776      -0.140127      0.040478     -0.449789     0.388627  \n2       0.019669      -0.140506      0.039815     -0.446160     0.387757  \n8       0.024634      -0.135716      0.044601     -0.435452     0.502225  \n4       0.020810      -0.140628      0.039860     -0.449599     0.375479  \n5       0.021245      -0.140285      0.040632     -0.450128     0.384807  \n6       0.021170      -0.140267      0.040664     -0.448138     0.390042  \n12      0.024205      -0.139145      0.043694     -0.436959     0.463965  \n1       0.021049      -0.139829      0.040717     -0.445894     0.377307  \n9       0.024582      -0.141586      0.045480     -0.415194     0.485465  ",
      "text/html": "<div>\n<style scoped>\n    .dataframe tbody tr th:only-of-type {\n        vertical-align: middle;\n    }\n\n    .dataframe tbody tr th {\n        vertical-align: top;\n    }\n\n    .dataframe thead th {\n        text-align: right;\n    }\n</style>\n<table border=\"1\" class=\"dataframe\">\n  <thead>\n    <tr style=\"text-align: right;\">\n      <th></th>\n      <th>model</th>\n      <th>params</th>\n      <th>mean_test_mse</th>\n      <th>std_test_mse</th>\n      <th>mean_test_mae</th>\n      <th>std_test_mae</th>\n      <th>mean_test_r2</th>\n      <th>std_test_r2</th>\n    </tr>\n  </thead>\n  <tbody>\n    <tr>\n      <th>0</th>\n      <td>random_forest</td>\n      <td>{'criterion': 'mse', 'n_estimators': 100}</td>\n      <td>-0.030694</td>\n      <td>0.018112</td>\n      <td>-0.137888</td>\n      <td>0.038248</td>\n      <td>-0.472818</td>\n      <td>0.360756</td>\n    </tr>\n    <tr>\n      <th>10</th>\n      <td>random_forest</td>\n      <td>{'criterion': 'mae', 'n_estimators': 500}</td>\n      <td>-0.031780</td>\n      <td>0.023388</td>\n      <td>-0.138455</td>\n      <td>0.043817</td>\n      <td>-0.448487</td>\n      <td>0.458756</td>\n    </tr>\n    <tr>\n      <th>11</th>\n      <td>random_forest</td>\n      <td>{'criterion': 'mae', 'n_estimators': 1000}</td>\n      <td>-0.031988</td>\n      <td>0.024259</td>\n      <td>-0.137220</td>\n      <td>0.045213</td>\n      <td>-0.448266</td>\n      <td>0.466315</td>\n    </tr>\n    <tr>\n      <th>3</th>\n      <td>random_forest</td>\n      <td>{'criterion': 'mse', 'n_estimators': 1000}</td>\n      <td>-0.032040</td>\n      <td>0.020478</td>\n      <td>-0.139218</td>\n      <td>0.039871</td>\n      <td>-0.458020</td>\n      <td>0.375095</td>\n    </tr>\n    <tr>\n      <th>15</th>\n      <td>random_forest</td>\n      <td>{'criterion': 'mae', 'n_estimators': 10000}</td>\n      <td>-0.032149</td>\n      <td>0.023834</td>\n      <td>-0.138408</td>\n      <td>0.043530</td>\n      <td>-0.442078</td>\n      <td>0.470633</td>\n    </tr>\n    <tr>\n      <th>14</th>\n      <td>random_forest</td>\n      <td>{'criterion': 'mae', 'n_estimators': 5000}</td>\n      <td>-0.032188</td>\n      <td>0.023808</td>\n      <td>-0.138735</td>\n      <td>0.042958</td>\n      <td>-0.442645</td>\n      <td>0.465765</td>\n    </tr>\n    <tr>\n      <th>13</th>\n      <td>random_forest</td>\n      <td>{'criterion': 'mae', 'n_estimators': 3000}</td>\n      <td>-0.032356</td>\n      <td>0.023985</td>\n      <td>-0.138838</td>\n      <td>0.043481</td>\n      <td>-0.441161</td>\n      <td>0.460092</td>\n    </tr>\n    <tr>\n      <th>7</th>\n      <td>random_forest</td>\n      <td>{'criterion': 'mse', 'n_estimators': 10000}</td>\n      <td>-0.032371</td>\n      <td>0.020776</td>\n      <td>-0.140127</td>\n      <td>0.040478</td>\n      <td>-0.449789</td>\n      <td>0.388627</td>\n    </tr>\n    <tr>\n      <th>2</th>\n      <td>random_forest</td>\n      <td>{'criterion': 'mse', 'n_estimators': 500}</td>\n      <td>-0.032392</td>\n      <td>0.019669</td>\n      <td>-0.140506</td>\n      <td>0.039815</td>\n      <td>-0.446160</td>\n      <td>0.387757</td>\n    </tr>\n    <tr>\n      <th>8</th>\n      <td>random_forest</td>\n      <td>{'criterion': 'mae', 'n_estimators': 100}</td>\n      <td>-0.032477</td>\n      <td>0.024634</td>\n      <td>-0.135716</td>\n      <td>0.044601</td>\n      <td>-0.435452</td>\n      <td>0.502225</td>\n    </tr>\n    <tr>\n      <th>4</th>\n      <td>random_forest</td>\n      <td>{'criterion': 'mse', 'n_estimators': 2000}</td>\n      <td>-0.032511</td>\n      <td>0.020810</td>\n      <td>-0.140628</td>\n      <td>0.039860</td>\n      <td>-0.449599</td>\n      <td>0.375479</td>\n    </tr>\n    <tr>\n      <th>5</th>\n      <td>random_forest</td>\n      <td>{'criterion': 'mse', 'n_estimators': 3000}</td>\n      <td>-0.032518</td>\n      <td>0.021245</td>\n      <td>-0.140285</td>\n      <td>0.040632</td>\n      <td>-0.450128</td>\n      <td>0.384807</td>\n    </tr>\n    <tr>\n      <th>6</th>\n      <td>random_forest</td>\n      <td>{'criterion': 'mse', 'n_estimators': 5000}</td>\n      <td>-0.032590</td>\n      <td>0.021170</td>\n      <td>-0.140267</td>\n      <td>0.040664</td>\n      <td>-0.448138</td>\n      <td>0.390042</td>\n    </tr>\n    <tr>\n      <th>12</th>\n      <td>random_forest</td>\n      <td>{'criterion': 'mae', 'n_estimators': 2000}</td>\n      <td>-0.032608</td>\n      <td>0.024205</td>\n      <td>-0.139145</td>\n      <td>0.043694</td>\n      <td>-0.436959</td>\n      <td>0.463965</td>\n    </tr>\n    <tr>\n      <th>1</th>\n      <td>random_forest</td>\n      <td>{'criterion': 'mse', 'n_estimators': 200}</td>\n      <td>-0.032809</td>\n      <td>0.021049</td>\n      <td>-0.139829</td>\n      <td>0.040717</td>\n      <td>-0.445894</td>\n      <td>0.377307</td>\n    </tr>\n    <tr>\n      <th>9</th>\n      <td>random_forest</td>\n      <td>{'criterion': 'mae', 'n_estimators': 200}</td>\n      <td>-0.033716</td>\n      <td>0.024582</td>\n      <td>-0.141586</td>\n      <td>0.045480</td>\n      <td>-0.415194</td>\n      <td>0.485465</td>\n    </tr>\n  </tbody>\n</table>\n</div>"
     },
     "metadata": {},
     "execution_count": 7
    }
   ],
   "source": [
    "grid_search_df.sort_values('mean_test_mse', ascending=False)"
   ]
  },
  {
   "cell_type": "markdown",
   "metadata": {},
   "source": [
    "# Ada Boost Regressor"
   ]
  },
  {
   "cell_type": "code",
   "execution_count": 8,
   "metadata": {},
   "outputs": [],
   "source": [
    "PATH = 'ada_boost_grid_search_results.csv'\n",
    ""
   ]
  },
  {
   "cell_type": "code",
   "execution_count": 9,
   "metadata": {},
   "outputs": [],
   "source": [
    "grid_search_df = pd.read_csv(PATH)\n",
    "grid_search_df[\"model\"] = \"ada_boost\"\n",
    "grid_search_df = grid_search_df[[\"model\", 'params', 'mean_test_mse', 'std_test_mse', 'mean_test_mae', 'std_test_mae', 'mean_test_r2', 'std_test_r2']]\n",
    "summary_df = summary_df.append(grid_search_df.sort_values('mean_test_mse', ascending=False).iloc[0], ignore_index=True)"
   ]
  },
  {
   "cell_type": "code",
   "execution_count": 10,
   "metadata": {},
   "outputs": [
    {
     "output_type": "execute_result",
     "data": {
      "text/plain": "         model                                             params  \\\n56   ada_boost  {'learning_rate': 0.15, 'loss': 'square', 'n_e...   \n40   ada_boost  {'learning_rate': 0.1, 'loss': 'exponential', ...   \n456  ada_boost  {'learning_rate': 1.0, 'loss': 'linear', 'n_es...   \n280  ada_boost  {'learning_rate': 0.6, 'loss': 'exponential', ...   \n80   ada_boost  {'learning_rate': 0.2, 'loss': 'square', 'n_es...   \n..         ...                                                ...   \n184  ada_boost  {'learning_rate': 0.4, 'loss': 'exponential', ...   \n257  ada_boost  {'learning_rate': 0.55, 'loss': 'exponential',...   \n400  ada_boost  {'learning_rate': 0.85, 'loss': 'exponential',...   \n424  ada_boost  {'learning_rate': 0.9, 'loss': 'exponential', ...   \n152  ada_boost  {'learning_rate': 0.35, 'loss': 'square', 'n_e...   \n\n     mean_test_mse  std_test_mse  mean_test_mae  std_test_mae  mean_test_r2  \\\n56       -0.030914      0.025963      -0.120986      0.049045     -0.513711   \n40       -0.032144      0.030167      -0.122089      0.052921     -0.519073   \n456      -0.032551      0.029709      -0.122791      0.049475     -0.506870   \n280      -0.032761      0.027735      -0.125907      0.048007     -0.492605   \n80       -0.032777      0.028364      -0.120181      0.053124     -0.499527   \n..             ...           ...            ...           ...           ...   \n184      -0.039767      0.036560      -0.134836      0.059601     -0.403107   \n257      -0.039767      0.036707      -0.136093      0.056979     -0.391971   \n400      -0.040192      0.038450      -0.133456      0.059161     -0.392797   \n424      -0.040259      0.036126      -0.131654      0.057219     -0.385143   \n152      -0.040354      0.031990      -0.135101      0.058658     -0.381918   \n\n     std_test_r2  \n56      0.428410  \n40      0.389805  \n456     0.423663  \n280     0.436168  \n80      0.440557  \n..           ...  \n184     0.486553  \n257     0.523358  \n400     0.524916  \n424     0.513986  \n152     0.439003  \n\n[480 rows x 8 columns]",
      "text/html": "<div>\n<style scoped>\n    .dataframe tbody tr th:only-of-type {\n        vertical-align: middle;\n    }\n\n    .dataframe tbody tr th {\n        vertical-align: top;\n    }\n\n    .dataframe thead th {\n        text-align: right;\n    }\n</style>\n<table border=\"1\" class=\"dataframe\">\n  <thead>\n    <tr style=\"text-align: right;\">\n      <th></th>\n      <th>model</th>\n      <th>params</th>\n      <th>mean_test_mse</th>\n      <th>std_test_mse</th>\n      <th>mean_test_mae</th>\n      <th>std_test_mae</th>\n      <th>mean_test_r2</th>\n      <th>std_test_r2</th>\n    </tr>\n  </thead>\n  <tbody>\n    <tr>\n      <th>56</th>\n      <td>ada_boost</td>\n      <td>{'learning_rate': 0.15, 'loss': 'square', 'n_e...</td>\n      <td>-0.030914</td>\n      <td>0.025963</td>\n      <td>-0.120986</td>\n      <td>0.049045</td>\n      <td>-0.513711</td>\n      <td>0.428410</td>\n    </tr>\n    <tr>\n      <th>40</th>\n      <td>ada_boost</td>\n      <td>{'learning_rate': 0.1, 'loss': 'exponential', ...</td>\n      <td>-0.032144</td>\n      <td>0.030167</td>\n      <td>-0.122089</td>\n      <td>0.052921</td>\n      <td>-0.519073</td>\n      <td>0.389805</td>\n    </tr>\n    <tr>\n      <th>456</th>\n      <td>ada_boost</td>\n      <td>{'learning_rate': 1.0, 'loss': 'linear', 'n_es...</td>\n      <td>-0.032551</td>\n      <td>0.029709</td>\n      <td>-0.122791</td>\n      <td>0.049475</td>\n      <td>-0.506870</td>\n      <td>0.423663</td>\n    </tr>\n    <tr>\n      <th>280</th>\n      <td>ada_boost</td>\n      <td>{'learning_rate': 0.6, 'loss': 'exponential', ...</td>\n      <td>-0.032761</td>\n      <td>0.027735</td>\n      <td>-0.125907</td>\n      <td>0.048007</td>\n      <td>-0.492605</td>\n      <td>0.436168</td>\n    </tr>\n    <tr>\n      <th>80</th>\n      <td>ada_boost</td>\n      <td>{'learning_rate': 0.2, 'loss': 'square', 'n_es...</td>\n      <td>-0.032777</td>\n      <td>0.028364</td>\n      <td>-0.120181</td>\n      <td>0.053124</td>\n      <td>-0.499527</td>\n      <td>0.440557</td>\n    </tr>\n    <tr>\n      <th>...</th>\n      <td>...</td>\n      <td>...</td>\n      <td>...</td>\n      <td>...</td>\n      <td>...</td>\n      <td>...</td>\n      <td>...</td>\n      <td>...</td>\n    </tr>\n    <tr>\n      <th>184</th>\n      <td>ada_boost</td>\n      <td>{'learning_rate': 0.4, 'loss': 'exponential', ...</td>\n      <td>-0.039767</td>\n      <td>0.036560</td>\n      <td>-0.134836</td>\n      <td>0.059601</td>\n      <td>-0.403107</td>\n      <td>0.486553</td>\n    </tr>\n    <tr>\n      <th>257</th>\n      <td>ada_boost</td>\n      <td>{'learning_rate': 0.55, 'loss': 'exponential',...</td>\n      <td>-0.039767</td>\n      <td>0.036707</td>\n      <td>-0.136093</td>\n      <td>0.056979</td>\n      <td>-0.391971</td>\n      <td>0.523358</td>\n    </tr>\n    <tr>\n      <th>400</th>\n      <td>ada_boost</td>\n      <td>{'learning_rate': 0.85, 'loss': 'exponential',...</td>\n      <td>-0.040192</td>\n      <td>0.038450</td>\n      <td>-0.133456</td>\n      <td>0.059161</td>\n      <td>-0.392797</td>\n      <td>0.524916</td>\n    </tr>\n    <tr>\n      <th>424</th>\n      <td>ada_boost</td>\n      <td>{'learning_rate': 0.9, 'loss': 'exponential', ...</td>\n      <td>-0.040259</td>\n      <td>0.036126</td>\n      <td>-0.131654</td>\n      <td>0.057219</td>\n      <td>-0.385143</td>\n      <td>0.513986</td>\n    </tr>\n    <tr>\n      <th>152</th>\n      <td>ada_boost</td>\n      <td>{'learning_rate': 0.35, 'loss': 'square', 'n_e...</td>\n      <td>-0.040354</td>\n      <td>0.031990</td>\n      <td>-0.135101</td>\n      <td>0.058658</td>\n      <td>-0.381918</td>\n      <td>0.439003</td>\n    </tr>\n  </tbody>\n</table>\n<p>480 rows × 8 columns</p>\n</div>"
     },
     "metadata": {},
     "execution_count": 10
    }
   ],
   "source": [
    "grid_search_df.sort_values('mean_test_mse', ascending=False)"
   ]
  },
  {
   "cell_type": "code",
   "execution_count": 11,
   "metadata": {},
   "outputs": [
    {
     "output_type": "execute_result",
     "data": {
      "text/plain": "array([\"{'learning_rate': 0.15, 'loss': 'square', 'n_estimators': 100}\",\n       \"{'learning_rate': 0.1, 'loss': 'exponential', 'n_estimators': 100}\",\n       \"{'learning_rate': 1.0, 'loss': 'linear', 'n_estimators': 100}\",\n       \"{'learning_rate': 0.6, 'loss': 'exponential', 'n_estimators': 100}\",\n       \"{'learning_rate': 0.2, 'loss': 'square', 'n_estimators': 100}\",\n       \"{'learning_rate': 0.05, 'loss': 'square', 'n_estimators': 100}\",\n       \"{'learning_rate': 0.75, 'loss': 'linear', 'n_estimators': 200}\",\n       \"{'learning_rate': 0.1, 'loss': 'linear', 'n_estimators': 100}\",\n       \"{'learning_rate': 0.6, 'loss': 'exponential', 'n_estimators': 200}\",\n       \"{'learning_rate': 0.75, 'loss': 'square', 'n_estimators': 3000}\",\n       \"{'learning_rate': 0.95, 'loss': 'square', 'n_estimators': 500}\",\n       \"{'learning_rate': 0.15, 'loss': 'linear', 'n_estimators': 200}\",\n       \"{'learning_rate': 0.2, 'loss': 'exponential', 'n_estimators': 100}\",\n       \"{'learning_rate': 0.9, 'loss': 'square', 'n_estimators': 2000}\",\n       \"{'learning_rate': 0.95, 'loss': 'exponential', 'n_estimators': 100}\",\n       \"{'learning_rate': 0.7, 'loss': 'square', 'n_estimators': 200}\",\n       \"{'learning_rate': 0.85, 'loss': 'square', 'n_estimators': 3000}\",\n       \"{'learning_rate': 0.75, 'loss': 'square', 'n_estimators': 5000}\",\n       \"{'learning_rate': 0.3, 'loss': 'square', 'n_estimators': 100}\",\n       \"{'learning_rate': 0.7, 'loss': 'square', 'n_estimators': 100}\"],\n      dtype=object)"
     },
     "metadata": {},
     "execution_count": 11
    }
   ],
   "source": [
    "grid_search_df.sort_values('mean_test_mse', ascending=False).head(20).params.values"
   ]
  },
  {
   "cell_type": "markdown",
   "metadata": {},
   "source": [
    "# SVM Regressor"
   ]
  },
  {
   "cell_type": "code",
   "execution_count": 12,
   "metadata": {},
   "outputs": [],
   "source": [
    "PATH = 'svm_grid_search_results.csv'\n",
    ""
   ]
  },
  {
   "cell_type": "code",
   "execution_count": 13,
   "metadata": {},
   "outputs": [],
   "source": [
    "grid_search_df = pd.read_csv(PATH)\n",
    "grid_search_df[\"model\"] = \"svm\"\n",
    "grid_search_df = grid_search_df[[\"model\", 'params', 'mean_test_mse', 'std_test_mse', 'mean_test_mae', 'std_test_mae', 'mean_test_r2', 'std_test_r2']]\n",
    "summary_df = summary_df.append(grid_search_df.sort_values('mean_test_mse', ascending=False).iloc[0], ignore_index=True)"
   ]
  },
  {
   "cell_type": "code",
   "execution_count": 14,
   "metadata": {},
   "outputs": [
    {
     "output_type": "execute_result",
     "data": {
      "text/plain": "     model                                             params  mean_test_mse  \\\n5126   svm  {'C': 0.95, 'degree': 4, 'epsilon': 0.1, 'kern...      -0.045870   \n5254   svm  {'C': 0.95, 'degree': 6, 'epsilon': 0.1, 'kern...      -0.045870   \n5318   svm  {'C': 0.95, 'degree': 7, 'epsilon': 0.1, 'kern...      -0.045870   \n5190   svm  {'C': 0.95, 'degree': 5, 'epsilon': 0.1, 'kern...      -0.045870   \n4998   svm  {'C': 0.95, 'degree': 2, 'epsilon': 0.1, 'kern...      -0.045870   \n5062   svm  {'C': 0.95, 'degree': 3, 'epsilon': 0.1, 'kern...      -0.045870   \n5250   svm  {'C': 0.95, 'degree': 6, 'epsilon': 0.05, 'ker...      -0.045989   \n5186   svm  {'C': 0.95, 'degree': 5, 'epsilon': 0.05, 'ker...      -0.045989   \n5122   svm  {'C': 0.95, 'degree': 4, 'epsilon': 0.05, 'ker...      -0.045989   \n5058   svm  {'C': 0.95, 'degree': 3, 'epsilon': 0.05, 'ker...      -0.045989   \n4994   svm  {'C': 0.95, 'degree': 2, 'epsilon': 0.05, 'ker...      -0.045989   \n5314   svm  {'C': 0.95, 'degree': 7, 'epsilon': 0.05, 'ker...      -0.045989   \n4802   svm  {'C': 0.9, 'degree': 5, 'epsilon': 0.05, 'kern...      -0.046110   \n4610   svm  {'C': 0.9, 'degree': 2, 'epsilon': 0.05, 'kern...      -0.046110   \n4674   svm  {'C': 0.9, 'degree': 3, 'epsilon': 0.05, 'kern...      -0.046110   \n4930   svm  {'C': 0.9, 'degree': 7, 'epsilon': 0.05, 'kern...      -0.046110   \n4866   svm  {'C': 0.9, 'degree': 6, 'epsilon': 0.05, 'kern...      -0.046110   \n4738   svm  {'C': 0.9, 'degree': 4, 'epsilon': 0.05, 'kern...      -0.046110   \n4806   svm  {'C': 0.9, 'degree': 5, 'epsilon': 0.1, 'kerne...      -0.046159   \n4934   svm  {'C': 0.9, 'degree': 7, 'epsilon': 0.1, 'kerne...      -0.046159   \n\n      std_test_mse  mean_test_mae  std_test_mae  mean_test_r2  std_test_r2  \n5126      0.030671      -0.175530      0.042971     -0.489054     0.236903  \n5254      0.030671      -0.175530      0.042971     -0.489054     0.236903  \n5318      0.030671      -0.175530      0.042971     -0.489054     0.236903  \n5190      0.030671      -0.175530      0.042971     -0.489054     0.236903  \n4998      0.030671      -0.175530      0.042971     -0.489054     0.236903  \n5062      0.030671      -0.175530      0.042971     -0.489054     0.236903  \n5250      0.030574      -0.174905      0.040560     -0.485221     0.240118  \n5186      0.030574      -0.174905      0.040560     -0.485221     0.240118  \n5122      0.030574      -0.174905      0.040560     -0.485221     0.240118  \n5058      0.030574      -0.174905      0.040560     -0.485221     0.240118  \n4994      0.030574      -0.174905      0.040560     -0.485221     0.240118  \n5314      0.030574      -0.174905      0.040560     -0.485221     0.240118  \n4802      0.031060      -0.174976      0.041091     -0.484541     0.243518  \n4610      0.031060      -0.174976      0.041091     -0.484541     0.243518  \n4674      0.031060      -0.174976      0.041091     -0.484541     0.243518  \n4930      0.031060      -0.174976      0.041091     -0.484541     0.243518  \n4866      0.031060      -0.174976      0.041091     -0.484541     0.243518  \n4738      0.031060      -0.174976      0.041091     -0.484541     0.243518  \n4806      0.030995      -0.175886      0.043182     -0.486965     0.237504  \n4934      0.030995      -0.175886      0.043182     -0.486965     0.237504  ",
      "text/html": "<div>\n<style scoped>\n    .dataframe tbody tr th:only-of-type {\n        vertical-align: middle;\n    }\n\n    .dataframe tbody tr th {\n        vertical-align: top;\n    }\n\n    .dataframe thead th {\n        text-align: right;\n    }\n</style>\n<table border=\"1\" class=\"dataframe\">\n  <thead>\n    <tr style=\"text-align: right;\">\n      <th></th>\n      <th>model</th>\n      <th>params</th>\n      <th>mean_test_mse</th>\n      <th>std_test_mse</th>\n      <th>mean_test_mae</th>\n      <th>std_test_mae</th>\n      <th>mean_test_r2</th>\n      <th>std_test_r2</th>\n    </tr>\n  </thead>\n  <tbody>\n    <tr>\n      <th>5126</th>\n      <td>svm</td>\n      <td>{'C': 0.95, 'degree': 4, 'epsilon': 0.1, 'kern...</td>\n      <td>-0.045870</td>\n      <td>0.030671</td>\n      <td>-0.175530</td>\n      <td>0.042971</td>\n      <td>-0.489054</td>\n      <td>0.236903</td>\n    </tr>\n    <tr>\n      <th>5254</th>\n      <td>svm</td>\n      <td>{'C': 0.95, 'degree': 6, 'epsilon': 0.1, 'kern...</td>\n      <td>-0.045870</td>\n      <td>0.030671</td>\n      <td>-0.175530</td>\n      <td>0.042971</td>\n      <td>-0.489054</td>\n      <td>0.236903</td>\n    </tr>\n    <tr>\n      <th>5318</th>\n      <td>svm</td>\n      <td>{'C': 0.95, 'degree': 7, 'epsilon': 0.1, 'kern...</td>\n      <td>-0.045870</td>\n      <td>0.030671</td>\n      <td>-0.175530</td>\n      <td>0.042971</td>\n      <td>-0.489054</td>\n      <td>0.236903</td>\n    </tr>\n    <tr>\n      <th>5190</th>\n      <td>svm</td>\n      <td>{'C': 0.95, 'degree': 5, 'epsilon': 0.1, 'kern...</td>\n      <td>-0.045870</td>\n      <td>0.030671</td>\n      <td>-0.175530</td>\n      <td>0.042971</td>\n      <td>-0.489054</td>\n      <td>0.236903</td>\n    </tr>\n    <tr>\n      <th>4998</th>\n      <td>svm</td>\n      <td>{'C': 0.95, 'degree': 2, 'epsilon': 0.1, 'kern...</td>\n      <td>-0.045870</td>\n      <td>0.030671</td>\n      <td>-0.175530</td>\n      <td>0.042971</td>\n      <td>-0.489054</td>\n      <td>0.236903</td>\n    </tr>\n    <tr>\n      <th>5062</th>\n      <td>svm</td>\n      <td>{'C': 0.95, 'degree': 3, 'epsilon': 0.1, 'kern...</td>\n      <td>-0.045870</td>\n      <td>0.030671</td>\n      <td>-0.175530</td>\n      <td>0.042971</td>\n      <td>-0.489054</td>\n      <td>0.236903</td>\n    </tr>\n    <tr>\n      <th>5250</th>\n      <td>svm</td>\n      <td>{'C': 0.95, 'degree': 6, 'epsilon': 0.05, 'ker...</td>\n      <td>-0.045989</td>\n      <td>0.030574</td>\n      <td>-0.174905</td>\n      <td>0.040560</td>\n      <td>-0.485221</td>\n      <td>0.240118</td>\n    </tr>\n    <tr>\n      <th>5186</th>\n      <td>svm</td>\n      <td>{'C': 0.95, 'degree': 5, 'epsilon': 0.05, 'ker...</td>\n      <td>-0.045989</td>\n      <td>0.030574</td>\n      <td>-0.174905</td>\n      <td>0.040560</td>\n      <td>-0.485221</td>\n      <td>0.240118</td>\n    </tr>\n    <tr>\n      <th>5122</th>\n      <td>svm</td>\n      <td>{'C': 0.95, 'degree': 4, 'epsilon': 0.05, 'ker...</td>\n      <td>-0.045989</td>\n      <td>0.030574</td>\n      <td>-0.174905</td>\n      <td>0.040560</td>\n      <td>-0.485221</td>\n      <td>0.240118</td>\n    </tr>\n    <tr>\n      <th>5058</th>\n      <td>svm</td>\n      <td>{'C': 0.95, 'degree': 3, 'epsilon': 0.05, 'ker...</td>\n      <td>-0.045989</td>\n      <td>0.030574</td>\n      <td>-0.174905</td>\n      <td>0.040560</td>\n      <td>-0.485221</td>\n      <td>0.240118</td>\n    </tr>\n    <tr>\n      <th>4994</th>\n      <td>svm</td>\n      <td>{'C': 0.95, 'degree': 2, 'epsilon': 0.05, 'ker...</td>\n      <td>-0.045989</td>\n      <td>0.030574</td>\n      <td>-0.174905</td>\n      <td>0.040560</td>\n      <td>-0.485221</td>\n      <td>0.240118</td>\n    </tr>\n    <tr>\n      <th>5314</th>\n      <td>svm</td>\n      <td>{'C': 0.95, 'degree': 7, 'epsilon': 0.05, 'ker...</td>\n      <td>-0.045989</td>\n      <td>0.030574</td>\n      <td>-0.174905</td>\n      <td>0.040560</td>\n      <td>-0.485221</td>\n      <td>0.240118</td>\n    </tr>\n    <tr>\n      <th>4802</th>\n      <td>svm</td>\n      <td>{'C': 0.9, 'degree': 5, 'epsilon': 0.05, 'kern...</td>\n      <td>-0.046110</td>\n      <td>0.031060</td>\n      <td>-0.174976</td>\n      <td>0.041091</td>\n      <td>-0.484541</td>\n      <td>0.243518</td>\n    </tr>\n    <tr>\n      <th>4610</th>\n      <td>svm</td>\n      <td>{'C': 0.9, 'degree': 2, 'epsilon': 0.05, 'kern...</td>\n      <td>-0.046110</td>\n      <td>0.031060</td>\n      <td>-0.174976</td>\n      <td>0.041091</td>\n      <td>-0.484541</td>\n      <td>0.243518</td>\n    </tr>\n    <tr>\n      <th>4674</th>\n      <td>svm</td>\n      <td>{'C': 0.9, 'degree': 3, 'epsilon': 0.05, 'kern...</td>\n      <td>-0.046110</td>\n      <td>0.031060</td>\n      <td>-0.174976</td>\n      <td>0.041091</td>\n      <td>-0.484541</td>\n      <td>0.243518</td>\n    </tr>\n    <tr>\n      <th>4930</th>\n      <td>svm</td>\n      <td>{'C': 0.9, 'degree': 7, 'epsilon': 0.05, 'kern...</td>\n      <td>-0.046110</td>\n      <td>0.031060</td>\n      <td>-0.174976</td>\n      <td>0.041091</td>\n      <td>-0.484541</td>\n      <td>0.243518</td>\n    </tr>\n    <tr>\n      <th>4866</th>\n      <td>svm</td>\n      <td>{'C': 0.9, 'degree': 6, 'epsilon': 0.05, 'kern...</td>\n      <td>-0.046110</td>\n      <td>0.031060</td>\n      <td>-0.174976</td>\n      <td>0.041091</td>\n      <td>-0.484541</td>\n      <td>0.243518</td>\n    </tr>\n    <tr>\n      <th>4738</th>\n      <td>svm</td>\n      <td>{'C': 0.9, 'degree': 4, 'epsilon': 0.05, 'kern...</td>\n      <td>-0.046110</td>\n      <td>0.031060</td>\n      <td>-0.174976</td>\n      <td>0.041091</td>\n      <td>-0.484541</td>\n      <td>0.243518</td>\n    </tr>\n    <tr>\n      <th>4806</th>\n      <td>svm</td>\n      <td>{'C': 0.9, 'degree': 5, 'epsilon': 0.1, 'kerne...</td>\n      <td>-0.046159</td>\n      <td>0.030995</td>\n      <td>-0.175886</td>\n      <td>0.043182</td>\n      <td>-0.486965</td>\n      <td>0.237504</td>\n    </tr>\n    <tr>\n      <th>4934</th>\n      <td>svm</td>\n      <td>{'C': 0.9, 'degree': 7, 'epsilon': 0.1, 'kerne...</td>\n      <td>-0.046159</td>\n      <td>0.030995</td>\n      <td>-0.175886</td>\n      <td>0.043182</td>\n      <td>-0.486965</td>\n      <td>0.237504</td>\n    </tr>\n  </tbody>\n</table>\n</div>"
     },
     "metadata": {},
     "execution_count": 14
    }
   ],
   "source": [
    "grid_search_df.sort_values('mean_test_mse', ascending=False).head(20)"
   ]
  },
  {
   "cell_type": "code",
   "execution_count": 15,
   "metadata": {},
   "outputs": [
    {
     "output_type": "execute_result",
     "data": {
      "text/plain": "array([\"{'C': 0.95, 'degree': 4, 'epsilon': 0.1, 'kernel': 'rbf'}\",\n       \"{'C': 0.95, 'degree': 6, 'epsilon': 0.1, 'kernel': 'rbf'}\",\n       \"{'C': 0.95, 'degree': 7, 'epsilon': 0.1, 'kernel': 'rbf'}\",\n       \"{'C': 0.95, 'degree': 5, 'epsilon': 0.1, 'kernel': 'rbf'}\",\n       \"{'C': 0.95, 'degree': 2, 'epsilon': 0.1, 'kernel': 'rbf'}\",\n       \"{'C': 0.95, 'degree': 3, 'epsilon': 0.1, 'kernel': 'rbf'}\",\n       \"{'C': 0.95, 'degree': 6, 'epsilon': 0.05, 'kernel': 'rbf'}\",\n       \"{'C': 0.95, 'degree': 5, 'epsilon': 0.05, 'kernel': 'rbf'}\",\n       \"{'C': 0.95, 'degree': 4, 'epsilon': 0.05, 'kernel': 'rbf'}\",\n       \"{'C': 0.95, 'degree': 3, 'epsilon': 0.05, 'kernel': 'rbf'}\",\n       \"{'C': 0.95, 'degree': 2, 'epsilon': 0.05, 'kernel': 'rbf'}\",\n       \"{'C': 0.95, 'degree': 7, 'epsilon': 0.05, 'kernel': 'rbf'}\",\n       \"{'C': 0.9, 'degree': 5, 'epsilon': 0.05, 'kernel': 'rbf'}\",\n       \"{'C': 0.9, 'degree': 2, 'epsilon': 0.05, 'kernel': 'rbf'}\",\n       \"{'C': 0.9, 'degree': 3, 'epsilon': 0.05, 'kernel': 'rbf'}\",\n       \"{'C': 0.9, 'degree': 7, 'epsilon': 0.05, 'kernel': 'rbf'}\",\n       \"{'C': 0.9, 'degree': 6, 'epsilon': 0.05, 'kernel': 'rbf'}\",\n       \"{'C': 0.9, 'degree': 4, 'epsilon': 0.05, 'kernel': 'rbf'}\",\n       \"{'C': 0.9, 'degree': 5, 'epsilon': 0.1, 'kernel': 'rbf'}\",\n       \"{'C': 0.9, 'degree': 7, 'epsilon': 0.1, 'kernel': 'rbf'}\"],\n      dtype=object)"
     },
     "metadata": {},
     "execution_count": 15
    }
   ],
   "source": [
    "grid_search_df.sort_values('mean_test_mse', ascending=False)[\"params\"].head(20).values\n"
   ]
  },
  {
   "cell_type": "markdown",
   "metadata": {},
   "source": [
    "# KNN Regressor"
   ]
  },
  {
   "cell_type": "code",
   "execution_count": 16,
   "metadata": {},
   "outputs": [],
   "source": [
    "PATH = 'knn_grid_search_results.csv'\n"
   ]
  },
  {
   "cell_type": "code",
   "execution_count": 17,
   "metadata": {},
   "outputs": [],
   "source": [
    "grid_search_df = pd.read_csv(PATH)\n",
    "grid_search_df[\"model\"] = \"knn\"\n",
    "grid_search_df = grid_search_df[[\"model\", 'params', 'mean_test_mse', 'std_test_mse', 'mean_test_mae', 'std_test_mae', 'mean_test_r2', 'std_test_r2']]\n",
    "summary_df = summary_df.append(grid_search_df.sort_values('mean_test_mse', ascending=False).iloc[0], ignore_index=True)"
   ]
  },
  {
   "cell_type": "code",
   "execution_count": 18,
   "metadata": {},
   "outputs": [
    {
     "output_type": "execute_result",
     "data": {
      "text/plain": "   model                                             params  mean_test_mse  \\\n4    knn  {'metric': 'minkowski', 'n_neighbors': 5, 'p': 1}      -0.049579   \n6    knn  {'metric': 'minkowski', 'n_neighbors': 7, 'p': 1}      -0.051964   \n8    knn  {'metric': 'minkowski', 'n_neighbors': 9, 'p': 1}      -0.054362   \n2    knn  {'metric': 'minkowski', 'n_neighbors': 3, 'p': 1}      -0.054429   \n7    knn  {'metric': 'minkowski', 'n_neighbors': 7, 'p': 2}      -0.056210   \n5    knn  {'metric': 'minkowski', 'n_neighbors': 5, 'p': 2}      -0.057375   \n3    knn  {'metric': 'minkowski', 'n_neighbors': 3, 'p': 2}      -0.057643   \n14   knn  {'metric': 'chebyshev', 'n_neighbors': 3, 'p': 1}      -0.059015   \n15   knn  {'metric': 'chebyshev', 'n_neighbors': 3, 'p': 2}      -0.059015   \n10   knn  {'metric': 'minkowski', 'n_neighbors': 11, 'p'...      -0.059870   \n11   knn  {'metric': 'minkowski', 'n_neighbors': 11, 'p'...      -0.061013   \n9    knn  {'metric': 'minkowski', 'n_neighbors': 9, 'p': 2}      -0.061393   \n16   knn  {'metric': 'chebyshev', 'n_neighbors': 5, 'p': 1}      -0.062488   \n17   knn  {'metric': 'chebyshev', 'n_neighbors': 5, 'p': 2}      -0.062488   \n19   knn  {'metric': 'chebyshev', 'n_neighbors': 7, 'p': 2}      -0.066279   \n18   knn  {'metric': 'chebyshev', 'n_neighbors': 7, 'p': 1}      -0.066279   \n20   knn  {'metric': 'chebyshev', 'n_neighbors': 9, 'p': 1}      -0.070520   \n21   knn  {'metric': 'chebyshev', 'n_neighbors': 9, 'p': 2}      -0.070520   \n22   knn  {'metric': 'chebyshev', 'n_neighbors': 11, 'p'...      -0.070929   \n23   knn  {'metric': 'chebyshev', 'n_neighbors': 11, 'p'...      -0.070929   \n1    knn  {'metric': 'minkowski', 'n_neighbors': 1, 'p': 2}      -0.095685   \n0    knn  {'metric': 'minkowski', 'n_neighbors': 1, 'p': 1}      -0.106237   \n13   knn  {'metric': 'chebyshev', 'n_neighbors': 1, 'p': 2}      -0.137719   \n12   knn  {'metric': 'chebyshev', 'n_neighbors': 1, 'p': 1}      -0.137719   \n\n    std_test_mse  mean_test_mae  std_test_mae  mean_test_r2  std_test_r2  \n4       0.034527      -0.178790      0.065097     -0.462913     0.289974  \n6       0.041447      -0.177344      0.062500     -0.460160     0.319110  \n8       0.042763      -0.181921      0.057645     -0.428096     0.313260  \n2       0.049565      -0.169299      0.085781     -0.328978     0.681508  \n7       0.042995      -0.184387      0.053402     -0.363602     0.376791  \n5       0.048284      -0.185004      0.064998     -0.378331     0.389429  \n3       0.052998      -0.182017      0.084834     -0.329157     0.581208  \n14      0.024135      -0.196019      0.055845     -0.246047     0.492540  \n15      0.024135      -0.196019      0.055845     -0.246047     0.492540  \n10      0.043715      -0.190638      0.057515     -0.367215     0.320514  \n11      0.042604      -0.189890      0.050422     -0.351056     0.294137  \n9       0.052122      -0.187378      0.064294     -0.347327     0.403667  \n16      0.040002      -0.195655      0.058692     -0.260451     0.399460  \n17      0.040002      -0.195655      0.058692     -0.260451     0.399460  \n19      0.045504      -0.202019      0.047836     -0.254958     0.346905  \n18      0.045504      -0.202019      0.047836     -0.254958     0.346905  \n20      0.045258      -0.210061      0.049997     -0.212142     0.361236  \n21      0.045258      -0.210061      0.049997     -0.212142     0.361236  \n22      0.039852      -0.212911      0.046529     -0.196046     0.331085  \n23      0.039852      -0.212911      0.046529     -0.196046     0.331085  \n1       0.103333      -0.205322      0.129147      0.101763     1.246065  \n0       0.100554      -0.213640      0.118482      0.368229     1.506891  \n13      0.073949      -0.258349      0.085694      0.593544     0.969562  \n12      0.073949      -0.258349      0.085694      0.593544     0.969562  ",
      "text/html": "<div>\n<style scoped>\n    .dataframe tbody tr th:only-of-type {\n        vertical-align: middle;\n    }\n\n    .dataframe tbody tr th {\n        vertical-align: top;\n    }\n\n    .dataframe thead th {\n        text-align: right;\n    }\n</style>\n<table border=\"1\" class=\"dataframe\">\n  <thead>\n    <tr style=\"text-align: right;\">\n      <th></th>\n      <th>model</th>\n      <th>params</th>\n      <th>mean_test_mse</th>\n      <th>std_test_mse</th>\n      <th>mean_test_mae</th>\n      <th>std_test_mae</th>\n      <th>mean_test_r2</th>\n      <th>std_test_r2</th>\n    </tr>\n  </thead>\n  <tbody>\n    <tr>\n      <th>4</th>\n      <td>knn</td>\n      <td>{'metric': 'minkowski', 'n_neighbors': 5, 'p': 1}</td>\n      <td>-0.049579</td>\n      <td>0.034527</td>\n      <td>-0.178790</td>\n      <td>0.065097</td>\n      <td>-0.462913</td>\n      <td>0.289974</td>\n    </tr>\n    <tr>\n      <th>6</th>\n      <td>knn</td>\n      <td>{'metric': 'minkowski', 'n_neighbors': 7, 'p': 1}</td>\n      <td>-0.051964</td>\n      <td>0.041447</td>\n      <td>-0.177344</td>\n      <td>0.062500</td>\n      <td>-0.460160</td>\n      <td>0.319110</td>\n    </tr>\n    <tr>\n      <th>8</th>\n      <td>knn</td>\n      <td>{'metric': 'minkowski', 'n_neighbors': 9, 'p': 1}</td>\n      <td>-0.054362</td>\n      <td>0.042763</td>\n      <td>-0.181921</td>\n      <td>0.057645</td>\n      <td>-0.428096</td>\n      <td>0.313260</td>\n    </tr>\n    <tr>\n      <th>2</th>\n      <td>knn</td>\n      <td>{'metric': 'minkowski', 'n_neighbors': 3, 'p': 1}</td>\n      <td>-0.054429</td>\n      <td>0.049565</td>\n      <td>-0.169299</td>\n      <td>0.085781</td>\n      <td>-0.328978</td>\n      <td>0.681508</td>\n    </tr>\n    <tr>\n      <th>7</th>\n      <td>knn</td>\n      <td>{'metric': 'minkowski', 'n_neighbors': 7, 'p': 2}</td>\n      <td>-0.056210</td>\n      <td>0.042995</td>\n      <td>-0.184387</td>\n      <td>0.053402</td>\n      <td>-0.363602</td>\n      <td>0.376791</td>\n    </tr>\n    <tr>\n      <th>5</th>\n      <td>knn</td>\n      <td>{'metric': 'minkowski', 'n_neighbors': 5, 'p': 2}</td>\n      <td>-0.057375</td>\n      <td>0.048284</td>\n      <td>-0.185004</td>\n      <td>0.064998</td>\n      <td>-0.378331</td>\n      <td>0.389429</td>\n    </tr>\n    <tr>\n      <th>3</th>\n      <td>knn</td>\n      <td>{'metric': 'minkowski', 'n_neighbors': 3, 'p': 2}</td>\n      <td>-0.057643</td>\n      <td>0.052998</td>\n      <td>-0.182017</td>\n      <td>0.084834</td>\n      <td>-0.329157</td>\n      <td>0.581208</td>\n    </tr>\n    <tr>\n      <th>14</th>\n      <td>knn</td>\n      <td>{'metric': 'chebyshev', 'n_neighbors': 3, 'p': 1}</td>\n      <td>-0.059015</td>\n      <td>0.024135</td>\n      <td>-0.196019</td>\n      <td>0.055845</td>\n      <td>-0.246047</td>\n      <td>0.492540</td>\n    </tr>\n    <tr>\n      <th>15</th>\n      <td>knn</td>\n      <td>{'metric': 'chebyshev', 'n_neighbors': 3, 'p': 2}</td>\n      <td>-0.059015</td>\n      <td>0.024135</td>\n      <td>-0.196019</td>\n      <td>0.055845</td>\n      <td>-0.246047</td>\n      <td>0.492540</td>\n    </tr>\n    <tr>\n      <th>10</th>\n      <td>knn</td>\n      <td>{'metric': 'minkowski', 'n_neighbors': 11, 'p'...</td>\n      <td>-0.059870</td>\n      <td>0.043715</td>\n      <td>-0.190638</td>\n      <td>0.057515</td>\n      <td>-0.367215</td>\n      <td>0.320514</td>\n    </tr>\n    <tr>\n      <th>11</th>\n      <td>knn</td>\n      <td>{'metric': 'minkowski', 'n_neighbors': 11, 'p'...</td>\n      <td>-0.061013</td>\n      <td>0.042604</td>\n      <td>-0.189890</td>\n      <td>0.050422</td>\n      <td>-0.351056</td>\n      <td>0.294137</td>\n    </tr>\n    <tr>\n      <th>9</th>\n      <td>knn</td>\n      <td>{'metric': 'minkowski', 'n_neighbors': 9, 'p': 2}</td>\n      <td>-0.061393</td>\n      <td>0.052122</td>\n      <td>-0.187378</td>\n      <td>0.064294</td>\n      <td>-0.347327</td>\n      <td>0.403667</td>\n    </tr>\n    <tr>\n      <th>16</th>\n      <td>knn</td>\n      <td>{'metric': 'chebyshev', 'n_neighbors': 5, 'p': 1}</td>\n      <td>-0.062488</td>\n      <td>0.040002</td>\n      <td>-0.195655</td>\n      <td>0.058692</td>\n      <td>-0.260451</td>\n      <td>0.399460</td>\n    </tr>\n    <tr>\n      <th>17</th>\n      <td>knn</td>\n      <td>{'metric': 'chebyshev', 'n_neighbors': 5, 'p': 2}</td>\n      <td>-0.062488</td>\n      <td>0.040002</td>\n      <td>-0.195655</td>\n      <td>0.058692</td>\n      <td>-0.260451</td>\n      <td>0.399460</td>\n    </tr>\n    <tr>\n      <th>19</th>\n      <td>knn</td>\n      <td>{'metric': 'chebyshev', 'n_neighbors': 7, 'p': 2}</td>\n      <td>-0.066279</td>\n      <td>0.045504</td>\n      <td>-0.202019</td>\n      <td>0.047836</td>\n      <td>-0.254958</td>\n      <td>0.346905</td>\n    </tr>\n    <tr>\n      <th>18</th>\n      <td>knn</td>\n      <td>{'metric': 'chebyshev', 'n_neighbors': 7, 'p': 1}</td>\n      <td>-0.066279</td>\n      <td>0.045504</td>\n      <td>-0.202019</td>\n      <td>0.047836</td>\n      <td>-0.254958</td>\n      <td>0.346905</td>\n    </tr>\n    <tr>\n      <th>20</th>\n      <td>knn</td>\n      <td>{'metric': 'chebyshev', 'n_neighbors': 9, 'p': 1}</td>\n      <td>-0.070520</td>\n      <td>0.045258</td>\n      <td>-0.210061</td>\n      <td>0.049997</td>\n      <td>-0.212142</td>\n      <td>0.361236</td>\n    </tr>\n    <tr>\n      <th>21</th>\n      <td>knn</td>\n      <td>{'metric': 'chebyshev', 'n_neighbors': 9, 'p': 2}</td>\n      <td>-0.070520</td>\n      <td>0.045258</td>\n      <td>-0.210061</td>\n      <td>0.049997</td>\n      <td>-0.212142</td>\n      <td>0.361236</td>\n    </tr>\n    <tr>\n      <th>22</th>\n      <td>knn</td>\n      <td>{'metric': 'chebyshev', 'n_neighbors': 11, 'p'...</td>\n      <td>-0.070929</td>\n      <td>0.039852</td>\n      <td>-0.212911</td>\n      <td>0.046529</td>\n      <td>-0.196046</td>\n      <td>0.331085</td>\n    </tr>\n    <tr>\n      <th>23</th>\n      <td>knn</td>\n      <td>{'metric': 'chebyshev', 'n_neighbors': 11, 'p'...</td>\n      <td>-0.070929</td>\n      <td>0.039852</td>\n      <td>-0.212911</td>\n      <td>0.046529</td>\n      <td>-0.196046</td>\n      <td>0.331085</td>\n    </tr>\n    <tr>\n      <th>1</th>\n      <td>knn</td>\n      <td>{'metric': 'minkowski', 'n_neighbors': 1, 'p': 2}</td>\n      <td>-0.095685</td>\n      <td>0.103333</td>\n      <td>-0.205322</td>\n      <td>0.129147</td>\n      <td>0.101763</td>\n      <td>1.246065</td>\n    </tr>\n    <tr>\n      <th>0</th>\n      <td>knn</td>\n      <td>{'metric': 'minkowski', 'n_neighbors': 1, 'p': 1}</td>\n      <td>-0.106237</td>\n      <td>0.100554</td>\n      <td>-0.213640</td>\n      <td>0.118482</td>\n      <td>0.368229</td>\n      <td>1.506891</td>\n    </tr>\n    <tr>\n      <th>13</th>\n      <td>knn</td>\n      <td>{'metric': 'chebyshev', 'n_neighbors': 1, 'p': 2}</td>\n      <td>-0.137719</td>\n      <td>0.073949</td>\n      <td>-0.258349</td>\n      <td>0.085694</td>\n      <td>0.593544</td>\n      <td>0.969562</td>\n    </tr>\n    <tr>\n      <th>12</th>\n      <td>knn</td>\n      <td>{'metric': 'chebyshev', 'n_neighbors': 1, 'p': 1}</td>\n      <td>-0.137719</td>\n      <td>0.073949</td>\n      <td>-0.258349</td>\n      <td>0.085694</td>\n      <td>0.593544</td>\n      <td>0.969562</td>\n    </tr>\n  </tbody>\n</table>\n</div>"
     },
     "metadata": {},
     "execution_count": 18
    }
   ],
   "source": [
    "grid_search_df.sort_values('mean_test_mse', ascending=False)"
   ]
  },
  {
   "cell_type": "markdown",
   "metadata": {},
   "source": [
    "# Lasso Regressor"
   ]
  },
  {
   "cell_type": "code",
   "execution_count": 19,
   "metadata": {},
   "outputs": [],
   "source": [
    "PATH = 'lasso_grid_search_results.csv'"
   ]
  },
  {
   "cell_type": "code",
   "execution_count": 20,
   "metadata": {},
   "outputs": [],
   "source": [
    "grid_search_df = pd.read_csv(PATH)\n",
    "grid_search_df[\"model\"] = \"lasso\"\n",
    "grid_search_df = grid_search_df[[\"model\", 'params', 'mean_test_mse', 'std_test_mse', 'mean_test_mae', 'std_test_mae', 'mean_test_r2', 'std_test_r2']]\n",
    "summary_df = summary_df.append(grid_search_df.sort_values('mean_test_mse', ascending=False).iloc[0], ignore_index=True)"
   ]
  },
  {
   "cell_type": "code",
   "execution_count": 21,
   "metadata": {},
   "outputs": [
    {
     "output_type": "execute_result",
     "data": {
      "text/plain": "    model           params  mean_test_mse  std_test_mse  mean_test_mae  \\\n0   lasso  {'alpha': 0.01}      -0.084217      0.032791      -0.247747   \n1   lasso  {'alpha': 0.05}      -0.099114      0.036789      -0.277631   \n2   lasso   {'alpha': 0.1}      -0.099114      0.036789      -0.277631   \n3   lasso   {'alpha': 0.2}      -0.099114      0.036789      -0.277631   \n4   lasso   {'alpha': 0.3}      -0.099114      0.036789      -0.277631   \n5   lasso   {'alpha': 0.4}      -0.099114      0.036789      -0.277631   \n6   lasso   {'alpha': 0.5}      -0.099114      0.036789      -0.277631   \n7   lasso   {'alpha': 0.6}      -0.099114      0.036789      -0.277631   \n8   lasso   {'alpha': 0.7}      -0.099114      0.036789      -0.277631   \n9   lasso   {'alpha': 0.8}      -0.099114      0.036789      -0.277631   \n10  lasso   {'alpha': 0.9}      -0.099114      0.036789      -0.277631   \n11  lasso     {'alpha': 1}      -0.099114      0.036789      -0.277631   \n12  lasso     {'alpha': 2}      -0.099114      0.036789      -0.277631   \n13  lasso     {'alpha': 3}      -0.099114      0.036789      -0.277631   \n14  lasso     {'alpha': 5}      -0.099114      0.036789      -0.277631   \n15  lasso     {'alpha': 7}      -0.099114      0.036789      -0.277631   \n\n    std_test_mae  mean_test_r2  std_test_r2  \n0       0.044672     -0.058684     0.263351  \n1       0.056755      0.065749     0.069789  \n2       0.056755      0.065749     0.069789  \n3       0.056755      0.065749     0.069789  \n4       0.056755      0.065749     0.069789  \n5       0.056755      0.065749     0.069789  \n6       0.056755      0.065749     0.069789  \n7       0.056755      0.065749     0.069789  \n8       0.056755      0.065749     0.069789  \n9       0.056755      0.065749     0.069789  \n10      0.056755      0.065749     0.069789  \n11      0.056755      0.065749     0.069789  \n12      0.056755      0.065749     0.069789  \n13      0.056755      0.065749     0.069789  \n14      0.056755      0.065749     0.069789  \n15      0.056755      0.065749     0.069789  ",
      "text/html": "<div>\n<style scoped>\n    .dataframe tbody tr th:only-of-type {\n        vertical-align: middle;\n    }\n\n    .dataframe tbody tr th {\n        vertical-align: top;\n    }\n\n    .dataframe thead th {\n        text-align: right;\n    }\n</style>\n<table border=\"1\" class=\"dataframe\">\n  <thead>\n    <tr style=\"text-align: right;\">\n      <th></th>\n      <th>model</th>\n      <th>params</th>\n      <th>mean_test_mse</th>\n      <th>std_test_mse</th>\n      <th>mean_test_mae</th>\n      <th>std_test_mae</th>\n      <th>mean_test_r2</th>\n      <th>std_test_r2</th>\n    </tr>\n  </thead>\n  <tbody>\n    <tr>\n      <th>0</th>\n      <td>lasso</td>\n      <td>{'alpha': 0.01}</td>\n      <td>-0.084217</td>\n      <td>0.032791</td>\n      <td>-0.247747</td>\n      <td>0.044672</td>\n      <td>-0.058684</td>\n      <td>0.263351</td>\n    </tr>\n    <tr>\n      <th>1</th>\n      <td>lasso</td>\n      <td>{'alpha': 0.05}</td>\n      <td>-0.099114</td>\n      <td>0.036789</td>\n      <td>-0.277631</td>\n      <td>0.056755</td>\n      <td>0.065749</td>\n      <td>0.069789</td>\n    </tr>\n    <tr>\n      <th>2</th>\n      <td>lasso</td>\n      <td>{'alpha': 0.1}</td>\n      <td>-0.099114</td>\n      <td>0.036789</td>\n      <td>-0.277631</td>\n      <td>0.056755</td>\n      <td>0.065749</td>\n      <td>0.069789</td>\n    </tr>\n    <tr>\n      <th>3</th>\n      <td>lasso</td>\n      <td>{'alpha': 0.2}</td>\n      <td>-0.099114</td>\n      <td>0.036789</td>\n      <td>-0.277631</td>\n      <td>0.056755</td>\n      <td>0.065749</td>\n      <td>0.069789</td>\n    </tr>\n    <tr>\n      <th>4</th>\n      <td>lasso</td>\n      <td>{'alpha': 0.3}</td>\n      <td>-0.099114</td>\n      <td>0.036789</td>\n      <td>-0.277631</td>\n      <td>0.056755</td>\n      <td>0.065749</td>\n      <td>0.069789</td>\n    </tr>\n    <tr>\n      <th>5</th>\n      <td>lasso</td>\n      <td>{'alpha': 0.4}</td>\n      <td>-0.099114</td>\n      <td>0.036789</td>\n      <td>-0.277631</td>\n      <td>0.056755</td>\n      <td>0.065749</td>\n      <td>0.069789</td>\n    </tr>\n    <tr>\n      <th>6</th>\n      <td>lasso</td>\n      <td>{'alpha': 0.5}</td>\n      <td>-0.099114</td>\n      <td>0.036789</td>\n      <td>-0.277631</td>\n      <td>0.056755</td>\n      <td>0.065749</td>\n      <td>0.069789</td>\n    </tr>\n    <tr>\n      <th>7</th>\n      <td>lasso</td>\n      <td>{'alpha': 0.6}</td>\n      <td>-0.099114</td>\n      <td>0.036789</td>\n      <td>-0.277631</td>\n      <td>0.056755</td>\n      <td>0.065749</td>\n      <td>0.069789</td>\n    </tr>\n    <tr>\n      <th>8</th>\n      <td>lasso</td>\n      <td>{'alpha': 0.7}</td>\n      <td>-0.099114</td>\n      <td>0.036789</td>\n      <td>-0.277631</td>\n      <td>0.056755</td>\n      <td>0.065749</td>\n      <td>0.069789</td>\n    </tr>\n    <tr>\n      <th>9</th>\n      <td>lasso</td>\n      <td>{'alpha': 0.8}</td>\n      <td>-0.099114</td>\n      <td>0.036789</td>\n      <td>-0.277631</td>\n      <td>0.056755</td>\n      <td>0.065749</td>\n      <td>0.069789</td>\n    </tr>\n    <tr>\n      <th>10</th>\n      <td>lasso</td>\n      <td>{'alpha': 0.9}</td>\n      <td>-0.099114</td>\n      <td>0.036789</td>\n      <td>-0.277631</td>\n      <td>0.056755</td>\n      <td>0.065749</td>\n      <td>0.069789</td>\n    </tr>\n    <tr>\n      <th>11</th>\n      <td>lasso</td>\n      <td>{'alpha': 1}</td>\n      <td>-0.099114</td>\n      <td>0.036789</td>\n      <td>-0.277631</td>\n      <td>0.056755</td>\n      <td>0.065749</td>\n      <td>0.069789</td>\n    </tr>\n    <tr>\n      <th>12</th>\n      <td>lasso</td>\n      <td>{'alpha': 2}</td>\n      <td>-0.099114</td>\n      <td>0.036789</td>\n      <td>-0.277631</td>\n      <td>0.056755</td>\n      <td>0.065749</td>\n      <td>0.069789</td>\n    </tr>\n    <tr>\n      <th>13</th>\n      <td>lasso</td>\n      <td>{'alpha': 3}</td>\n      <td>-0.099114</td>\n      <td>0.036789</td>\n      <td>-0.277631</td>\n      <td>0.056755</td>\n      <td>0.065749</td>\n      <td>0.069789</td>\n    </tr>\n    <tr>\n      <th>14</th>\n      <td>lasso</td>\n      <td>{'alpha': 5}</td>\n      <td>-0.099114</td>\n      <td>0.036789</td>\n      <td>-0.277631</td>\n      <td>0.056755</td>\n      <td>0.065749</td>\n      <td>0.069789</td>\n    </tr>\n    <tr>\n      <th>15</th>\n      <td>lasso</td>\n      <td>{'alpha': 7}</td>\n      <td>-0.099114</td>\n      <td>0.036789</td>\n      <td>-0.277631</td>\n      <td>0.056755</td>\n      <td>0.065749</td>\n      <td>0.069789</td>\n    </tr>\n  </tbody>\n</table>\n</div>"
     },
     "metadata": {},
     "execution_count": 21
    }
   ],
   "source": [
    "grid_search_df.sort_values('mean_test_mse', ascending=False)"
   ]
  },
  {
   "cell_type": "markdown",
   "metadata": {},
   "source": [
    "# Elastic Net "
   ]
  },
  {
   "cell_type": "code",
   "execution_count": 22,
   "metadata": {},
   "outputs": [],
   "source": [
    "PATH = 'elastic_net_grid_search_results.csv'"
   ]
  },
  {
   "cell_type": "code",
   "execution_count": 23,
   "metadata": {},
   "outputs": [],
   "source": [
    "grid_search_df = pd.read_csv(PATH)\n",
    "grid_search_df[\"model\"] = \"elastic_net\"\n",
    "grid_search_df = grid_search_df[[\"model\", 'params', 'mean_test_mse', 'std_test_mse', 'mean_test_mae', 'std_test_mae', 'mean_test_r2', 'std_test_r2']]\n",
    "summary_df = summary_df.append(grid_search_df.sort_values('mean_test_mse', ascending=False).iloc[0], ignore_index=True)"
   ]
  },
  {
   "cell_type": "code",
   "execution_count": 24,
   "metadata": {},
   "outputs": [
    {
     "output_type": "execute_result",
     "data": {
      "text/plain": "           model                            params  mean_test_mse  \\\n0    elastic_net     {'alpha': 0.1, 'l1_ratio': 0}      -0.088212   \n1    elastic_net  {'alpha': 0.1, 'l1_ratio': 0.05}      -0.091129   \n21   elastic_net     {'alpha': 0.2, 'l1_ratio': 0}      -0.092675   \n2    elastic_net   {'alpha': 0.1, 'l1_ratio': 0.1}      -0.094054   \n42   elastic_net     {'alpha': 0.3, 'l1_ratio': 0}      -0.094541   \n..           ...                               ...            ...   \n102  elastic_net   {'alpha': 0.5, 'l1_ratio': 0.9}      -0.099114   \n103  elastic_net  {'alpha': 0.5, 'l1_ratio': 0.95}      -0.099114   \n104  elastic_net     {'alpha': 0.5, 'l1_ratio': 1}      -0.099114   \n106  elastic_net  {'alpha': 0.6, 'l1_ratio': 0.05}      -0.099114   \n272  elastic_net       {'alpha': 5, 'l1_ratio': 1}      -0.099114   \n\n     std_test_mse  mean_test_mae  std_test_mae  mean_test_r2  std_test_r2  \n0        0.032614      -0.257470      0.046453     -0.038087     0.135744  \n1        0.033852      -0.262777      0.049643     -0.010951     0.118148  \n21       0.034194      -0.266129      0.050759      0.003548     0.101956  \n2        0.035044      -0.268183      0.052357      0.016474     0.098709  \n42       0.034915      -0.269571      0.052542      0.021314     0.090179  \n..            ...            ...           ...           ...          ...  \n102      0.036789      -0.277631      0.056755      0.065749     0.069789  \n103      0.036789      -0.277631      0.056755      0.065749     0.069789  \n104      0.036789      -0.277631      0.056755      0.065749     0.069789  \n106      0.036789      -0.277631      0.056755      0.065749     0.069789  \n272      0.036789      -0.277631      0.056755      0.065749     0.069789  \n\n[273 rows x 8 columns]",
      "text/html": "<div>\n<style scoped>\n    .dataframe tbody tr th:only-of-type {\n        vertical-align: middle;\n    }\n\n    .dataframe tbody tr th {\n        vertical-align: top;\n    }\n\n    .dataframe thead th {\n        text-align: right;\n    }\n</style>\n<table border=\"1\" class=\"dataframe\">\n  <thead>\n    <tr style=\"text-align: right;\">\n      <th></th>\n      <th>model</th>\n      <th>params</th>\n      <th>mean_test_mse</th>\n      <th>std_test_mse</th>\n      <th>mean_test_mae</th>\n      <th>std_test_mae</th>\n      <th>mean_test_r2</th>\n      <th>std_test_r2</th>\n    </tr>\n  </thead>\n  <tbody>\n    <tr>\n      <th>0</th>\n      <td>elastic_net</td>\n      <td>{'alpha': 0.1, 'l1_ratio': 0}</td>\n      <td>-0.088212</td>\n      <td>0.032614</td>\n      <td>-0.257470</td>\n      <td>0.046453</td>\n      <td>-0.038087</td>\n      <td>0.135744</td>\n    </tr>\n    <tr>\n      <th>1</th>\n      <td>elastic_net</td>\n      <td>{'alpha': 0.1, 'l1_ratio': 0.05}</td>\n      <td>-0.091129</td>\n      <td>0.033852</td>\n      <td>-0.262777</td>\n      <td>0.049643</td>\n      <td>-0.010951</td>\n      <td>0.118148</td>\n    </tr>\n    <tr>\n      <th>21</th>\n      <td>elastic_net</td>\n      <td>{'alpha': 0.2, 'l1_ratio': 0}</td>\n      <td>-0.092675</td>\n      <td>0.034194</td>\n      <td>-0.266129</td>\n      <td>0.050759</td>\n      <td>0.003548</td>\n      <td>0.101956</td>\n    </tr>\n    <tr>\n      <th>2</th>\n      <td>elastic_net</td>\n      <td>{'alpha': 0.1, 'l1_ratio': 0.1}</td>\n      <td>-0.094054</td>\n      <td>0.035044</td>\n      <td>-0.268183</td>\n      <td>0.052357</td>\n      <td>0.016474</td>\n      <td>0.098709</td>\n    </tr>\n    <tr>\n      <th>42</th>\n      <td>elastic_net</td>\n      <td>{'alpha': 0.3, 'l1_ratio': 0}</td>\n      <td>-0.094541</td>\n      <td>0.034915</td>\n      <td>-0.269571</td>\n      <td>0.052542</td>\n      <td>0.021314</td>\n      <td>0.090179</td>\n    </tr>\n    <tr>\n      <th>...</th>\n      <td>...</td>\n      <td>...</td>\n      <td>...</td>\n      <td>...</td>\n      <td>...</td>\n      <td>...</td>\n      <td>...</td>\n      <td>...</td>\n    </tr>\n    <tr>\n      <th>102</th>\n      <td>elastic_net</td>\n      <td>{'alpha': 0.5, 'l1_ratio': 0.9}</td>\n      <td>-0.099114</td>\n      <td>0.036789</td>\n      <td>-0.277631</td>\n      <td>0.056755</td>\n      <td>0.065749</td>\n      <td>0.069789</td>\n    </tr>\n    <tr>\n      <th>103</th>\n      <td>elastic_net</td>\n      <td>{'alpha': 0.5, 'l1_ratio': 0.95}</td>\n      <td>-0.099114</td>\n      <td>0.036789</td>\n      <td>-0.277631</td>\n      <td>0.056755</td>\n      <td>0.065749</td>\n      <td>0.069789</td>\n    </tr>\n    <tr>\n      <th>104</th>\n      <td>elastic_net</td>\n      <td>{'alpha': 0.5, 'l1_ratio': 1}</td>\n      <td>-0.099114</td>\n      <td>0.036789</td>\n      <td>-0.277631</td>\n      <td>0.056755</td>\n      <td>0.065749</td>\n      <td>0.069789</td>\n    </tr>\n    <tr>\n      <th>106</th>\n      <td>elastic_net</td>\n      <td>{'alpha': 0.6, 'l1_ratio': 0.05}</td>\n      <td>-0.099114</td>\n      <td>0.036789</td>\n      <td>-0.277631</td>\n      <td>0.056755</td>\n      <td>0.065749</td>\n      <td>0.069789</td>\n    </tr>\n    <tr>\n      <th>272</th>\n      <td>elastic_net</td>\n      <td>{'alpha': 5, 'l1_ratio': 1}</td>\n      <td>-0.099114</td>\n      <td>0.036789</td>\n      <td>-0.277631</td>\n      <td>0.056755</td>\n      <td>0.065749</td>\n      <td>0.069789</td>\n    </tr>\n  </tbody>\n</table>\n<p>273 rows × 8 columns</p>\n</div>"
     },
     "metadata": {},
     "execution_count": 24
    }
   ],
   "source": [
    "grid_search_df.sort_values('mean_test_mse', ascending=False)"
   ]
  },
  {
   "cell_type": "markdown",
   "metadata": {},
   "source": [
    "# Ridge"
   ]
  },
  {
   "cell_type": "code",
   "execution_count": 25,
   "metadata": {},
   "outputs": [],
   "source": [
    "PATH = 'ridge_grid_search_results.csv'"
   ]
  },
  {
   "cell_type": "code",
   "execution_count": 26,
   "metadata": {},
   "outputs": [],
   "source": [
    "grid_search_df = pd.read_csv(PATH)\n",
    "grid_search_df[\"model\"] = \"ridge\"\n",
    "grid_search_df = grid_search_df[[\"model\", 'params', 'mean_test_mse', 'std_test_mse', 'mean_test_mae', 'std_test_mae', 'mean_test_r2', 'std_test_r2']]\n",
    "summary_df = summary_df.append(grid_search_df.sort_values('mean_test_mse', ascending=False).iloc[0], ignore_index=True)"
   ]
  },
  {
   "cell_type": "code",
   "execution_count": 27,
   "metadata": {},
   "outputs": [
    {
     "output_type": "execute_result",
     "data": {
      "text/plain": "    model           params  mean_test_mse  std_test_mse  mean_test_mae  \\\n5   ridge   {'alpha': 0.4}      -0.071149      0.030234      -0.226646   \n4   ridge   {'alpha': 0.3}      -0.071477      0.032931      -0.224767   \n6   ridge   {'alpha': 0.5}      -0.071494      0.029290      -0.228400   \n7   ridge   {'alpha': 0.6}      -0.072131      0.029009      -0.230021   \n8   ridge   {'alpha': 0.7}      -0.072891      0.028989      -0.231515   \n3   ridge   {'alpha': 0.2}      -0.073428      0.040423      -0.222807   \n9   ridge   {'alpha': 0.8}      -0.073692      0.029074      -0.232893   \n10  ridge   {'alpha': 0.9}      -0.074493      0.029201      -0.234164   \n11  ridge     {'alpha': 1}      -0.075274      0.029343      -0.235341   \n2   ridge   {'alpha': 0.1}      -0.079903      0.061585      -0.220913   \n12  ridge     {'alpha': 2}      -0.081279      0.030642      -0.243547   \n13  ridge     {'alpha': 3}      -0.084905      0.031598      -0.250838   \n14  ridge     {'alpha': 4}      -0.087297      0.032319      -0.255613   \n1   ridge  {'alpha': 0.05}      -0.087782      0.085177      -0.220129   \n15  ridge     {'alpha': 5}      -0.088994      0.032874      -0.259035   \n16  ridge     {'alpha': 6}      -0.090262      0.033312      -0.261527   \n17  ridge     {'alpha': 7}      -0.091246      0.033664      -0.263425   \n18  ridge     {'alpha': 8}      -0.092033      0.033953      -0.264920   \n19  ridge     {'alpha': 9}      -0.092675      0.034194      -0.266129   \n20  ridge    {'alpha': 10}      -0.093211      0.034398      -0.267127   \n21  ridge    {'alpha': 13}      -0.094389      0.034855      -0.269294   \n22  ridge    {'alpha': 15}      -0.094943      0.035074      -0.270302   \n23  ridge    {'alpha': 17}      -0.095381      0.035249      -0.271092   \n0   ridge  {'alpha': 0.01}      -0.100071      0.119047      -0.222430   \n\n    std_test_mae  mean_test_r2  std_test_r2  \n5       0.045296     -0.189626     0.316462  \n4       0.048429     -0.188806     0.332135  \n6       0.043120     -0.185686     0.304916  \n7       0.041599     -0.179733     0.294644  \n8       0.040539     -0.172979     0.284975  \n3       0.053046     -0.176219     0.364041  \n9       0.039810     -0.166002     0.275777  \n10      0.039323     -0.159086     0.267038  \n11      0.039015     -0.152370     0.258765  \n2       0.060283     -0.129705     0.465726  \n12      0.039635     -0.100347     0.198489  \n13      0.043098     -0.068139     0.164489  \n14      0.045588     -0.046469     0.143434  \n1       0.065854     -0.070175     0.601594  \n15      0.047202     -0.030880     0.129350  \n16      0.048425     -0.019116     0.119378  \n17      0.049378     -0.009917     0.112008  \n18      0.050139     -0.002525     0.106376  \n19      0.050759      0.003548     0.101956  \n20      0.051274      0.008626     0.098408  \n21      0.052398      0.019858     0.091075  \n22      0.052923      0.025174     0.087866  \n23      0.053336      0.029385     0.085449  \n0       0.071102      0.026786     0.817841  ",
      "text/html": "<div>\n<style scoped>\n    .dataframe tbody tr th:only-of-type {\n        vertical-align: middle;\n    }\n\n    .dataframe tbody tr th {\n        vertical-align: top;\n    }\n\n    .dataframe thead th {\n        text-align: right;\n    }\n</style>\n<table border=\"1\" class=\"dataframe\">\n  <thead>\n    <tr style=\"text-align: right;\">\n      <th></th>\n      <th>model</th>\n      <th>params</th>\n      <th>mean_test_mse</th>\n      <th>std_test_mse</th>\n      <th>mean_test_mae</th>\n      <th>std_test_mae</th>\n      <th>mean_test_r2</th>\n      <th>std_test_r2</th>\n    </tr>\n  </thead>\n  <tbody>\n    <tr>\n      <th>5</th>\n      <td>ridge</td>\n      <td>{'alpha': 0.4}</td>\n      <td>-0.071149</td>\n      <td>0.030234</td>\n      <td>-0.226646</td>\n      <td>0.045296</td>\n      <td>-0.189626</td>\n      <td>0.316462</td>\n    </tr>\n    <tr>\n      <th>4</th>\n      <td>ridge</td>\n      <td>{'alpha': 0.3}</td>\n      <td>-0.071477</td>\n      <td>0.032931</td>\n      <td>-0.224767</td>\n      <td>0.048429</td>\n      <td>-0.188806</td>\n      <td>0.332135</td>\n    </tr>\n    <tr>\n      <th>6</th>\n      <td>ridge</td>\n      <td>{'alpha': 0.5}</td>\n      <td>-0.071494</td>\n      <td>0.029290</td>\n      <td>-0.228400</td>\n      <td>0.043120</td>\n      <td>-0.185686</td>\n      <td>0.304916</td>\n    </tr>\n    <tr>\n      <th>7</th>\n      <td>ridge</td>\n      <td>{'alpha': 0.6}</td>\n      <td>-0.072131</td>\n      <td>0.029009</td>\n      <td>-0.230021</td>\n      <td>0.041599</td>\n      <td>-0.179733</td>\n      <td>0.294644</td>\n    </tr>\n    <tr>\n      <th>8</th>\n      <td>ridge</td>\n      <td>{'alpha': 0.7}</td>\n      <td>-0.072891</td>\n      <td>0.028989</td>\n      <td>-0.231515</td>\n      <td>0.040539</td>\n      <td>-0.172979</td>\n      <td>0.284975</td>\n    </tr>\n    <tr>\n      <th>3</th>\n      <td>ridge</td>\n      <td>{'alpha': 0.2}</td>\n      <td>-0.073428</td>\n      <td>0.040423</td>\n      <td>-0.222807</td>\n      <td>0.053046</td>\n      <td>-0.176219</td>\n      <td>0.364041</td>\n    </tr>\n    <tr>\n      <th>9</th>\n      <td>ridge</td>\n      <td>{'alpha': 0.8}</td>\n      <td>-0.073692</td>\n      <td>0.029074</td>\n      <td>-0.232893</td>\n      <td>0.039810</td>\n      <td>-0.166002</td>\n      <td>0.275777</td>\n    </tr>\n    <tr>\n      <th>10</th>\n      <td>ridge</td>\n      <td>{'alpha': 0.9}</td>\n      <td>-0.074493</td>\n      <td>0.029201</td>\n      <td>-0.234164</td>\n      <td>0.039323</td>\n      <td>-0.159086</td>\n      <td>0.267038</td>\n    </tr>\n    <tr>\n      <th>11</th>\n      <td>ridge</td>\n      <td>{'alpha': 1}</td>\n      <td>-0.075274</td>\n      <td>0.029343</td>\n      <td>-0.235341</td>\n      <td>0.039015</td>\n      <td>-0.152370</td>\n      <td>0.258765</td>\n    </tr>\n    <tr>\n      <th>2</th>\n      <td>ridge</td>\n      <td>{'alpha': 0.1}</td>\n      <td>-0.079903</td>\n      <td>0.061585</td>\n      <td>-0.220913</td>\n      <td>0.060283</td>\n      <td>-0.129705</td>\n      <td>0.465726</td>\n    </tr>\n    <tr>\n      <th>12</th>\n      <td>ridge</td>\n      <td>{'alpha': 2}</td>\n      <td>-0.081279</td>\n      <td>0.030642</td>\n      <td>-0.243547</td>\n      <td>0.039635</td>\n      <td>-0.100347</td>\n      <td>0.198489</td>\n    </tr>\n    <tr>\n      <th>13</th>\n      <td>ridge</td>\n      <td>{'alpha': 3}</td>\n      <td>-0.084905</td>\n      <td>0.031598</td>\n      <td>-0.250838</td>\n      <td>0.043098</td>\n      <td>-0.068139</td>\n      <td>0.164489</td>\n    </tr>\n    <tr>\n      <th>14</th>\n      <td>ridge</td>\n      <td>{'alpha': 4}</td>\n      <td>-0.087297</td>\n      <td>0.032319</td>\n      <td>-0.255613</td>\n      <td>0.045588</td>\n      <td>-0.046469</td>\n      <td>0.143434</td>\n    </tr>\n    <tr>\n      <th>1</th>\n      <td>ridge</td>\n      <td>{'alpha': 0.05}</td>\n      <td>-0.087782</td>\n      <td>0.085177</td>\n      <td>-0.220129</td>\n      <td>0.065854</td>\n      <td>-0.070175</td>\n      <td>0.601594</td>\n    </tr>\n    <tr>\n      <th>15</th>\n      <td>ridge</td>\n      <td>{'alpha': 5}</td>\n      <td>-0.088994</td>\n      <td>0.032874</td>\n      <td>-0.259035</td>\n      <td>0.047202</td>\n      <td>-0.030880</td>\n      <td>0.129350</td>\n    </tr>\n    <tr>\n      <th>16</th>\n      <td>ridge</td>\n      <td>{'alpha': 6}</td>\n      <td>-0.090262</td>\n      <td>0.033312</td>\n      <td>-0.261527</td>\n      <td>0.048425</td>\n      <td>-0.019116</td>\n      <td>0.119378</td>\n    </tr>\n    <tr>\n      <th>17</th>\n      <td>ridge</td>\n      <td>{'alpha': 7}</td>\n      <td>-0.091246</td>\n      <td>0.033664</td>\n      <td>-0.263425</td>\n      <td>0.049378</td>\n      <td>-0.009917</td>\n      <td>0.112008</td>\n    </tr>\n    <tr>\n      <th>18</th>\n      <td>ridge</td>\n      <td>{'alpha': 8}</td>\n      <td>-0.092033</td>\n      <td>0.033953</td>\n      <td>-0.264920</td>\n      <td>0.050139</td>\n      <td>-0.002525</td>\n      <td>0.106376</td>\n    </tr>\n    <tr>\n      <th>19</th>\n      <td>ridge</td>\n      <td>{'alpha': 9}</td>\n      <td>-0.092675</td>\n      <td>0.034194</td>\n      <td>-0.266129</td>\n      <td>0.050759</td>\n      <td>0.003548</td>\n      <td>0.101956</td>\n    </tr>\n    <tr>\n      <th>20</th>\n      <td>ridge</td>\n      <td>{'alpha': 10}</td>\n      <td>-0.093211</td>\n      <td>0.034398</td>\n      <td>-0.267127</td>\n      <td>0.051274</td>\n      <td>0.008626</td>\n      <td>0.098408</td>\n    </tr>\n    <tr>\n      <th>21</th>\n      <td>ridge</td>\n      <td>{'alpha': 13}</td>\n      <td>-0.094389</td>\n      <td>0.034855</td>\n      <td>-0.269294</td>\n      <td>0.052398</td>\n      <td>0.019858</td>\n      <td>0.091075</td>\n    </tr>\n    <tr>\n      <th>22</th>\n      <td>ridge</td>\n      <td>{'alpha': 15}</td>\n      <td>-0.094943</td>\n      <td>0.035074</td>\n      <td>-0.270302</td>\n      <td>0.052923</td>\n      <td>0.025174</td>\n      <td>0.087866</td>\n    </tr>\n    <tr>\n      <th>23</th>\n      <td>ridge</td>\n      <td>{'alpha': 17}</td>\n      <td>-0.095381</td>\n      <td>0.035249</td>\n      <td>-0.271092</td>\n      <td>0.053336</td>\n      <td>0.029385</td>\n      <td>0.085449</td>\n    </tr>\n    <tr>\n      <th>0</th>\n      <td>ridge</td>\n      <td>{'alpha': 0.01}</td>\n      <td>-0.100071</td>\n      <td>0.119047</td>\n      <td>-0.222430</td>\n      <td>0.071102</td>\n      <td>0.026786</td>\n      <td>0.817841</td>\n    </tr>\n  </tbody>\n</table>\n</div>"
     },
     "metadata": {},
     "execution_count": 27
    }
   ],
   "source": [
    "grid_search_df.sort_values('mean_test_mse', ascending=False)"
   ]
  },
  {
   "cell_type": "markdown",
   "metadata": {},
   "source": [
    "# SGD"
   ]
  },
  {
   "cell_type": "code",
   "execution_count": 28,
   "metadata": {},
   "outputs": [],
   "source": [
    "PATH = 'sgd_grid_search_results.csv'"
   ]
  },
  {
   "cell_type": "code",
   "execution_count": 29,
   "metadata": {},
   "outputs": [],
   "source": [
    "grid_search_df = pd.read_csv(PATH)\n",
    "grid_search_df[\"model\"] = \"sgd\"\n",
    "grid_search_df = grid_search_df[[\"model\", 'params', 'mean_test_mse', 'std_test_mse', 'mean_test_mae', 'std_test_mae', 'mean_test_r2', 'std_test_r2']]\n",
    "summary_df = summary_df.append(grid_search_df.sort_values('mean_test_mse', ascending=False).iloc[0], ignore_index=True)"
   ]
  },
  {
   "cell_type": "code",
   "execution_count": 30,
   "metadata": {},
   "outputs": [
    {
     "output_type": "execute_result",
     "data": {
      "text/plain": "      model                                             params  mean_test_mse  \\\n11204   sgd  {'alpha': 0.01, 'epsilon': 0.05, 'l1_ratio': 0...  -6.931006e-02   \n9092    sgd  {'alpha': 0.01, 'epsilon': 0.15, 'l1_ratio': 0...  -6.942812e-02   \n8994    sgd  {'alpha': 0.01, 'epsilon': 0.2, 'l1_ratio': 0....  -6.962681e-02   \n8898    sgd  {'alpha': 0.01, 'epsilon': 0.2, 'l1_ratio': 0....  -7.084051e-02   \n344     sgd  {'alpha': 0.0001, 'epsilon': 0.2, 'l1_ratio': ...  -7.106370e-02   \n...     ...                                                ...            ...   \n3852    sgd  {'alpha': 0.0001, 'epsilon': 0.05, 'l1_ratio':...  -5.164045e+25   \n3767    sgd  {'alpha': 0.0001, 'epsilon': 0.05, 'l1_ratio':...  -5.575374e+25   \n2845    sgd  {'alpha': 0.0001, 'epsilon': 0.1, 'l1_ratio': ...  -5.641281e+25   \n253     sgd  {'alpha': 0.0001, 'epsilon': 0.2, 'l1_ratio': ...  -6.150774e+25   \n1165    sgd  {'alpha': 0.0001, 'epsilon': 0.15, 'l1_ratio':...  -6.779607e+25   \n\n       std_test_mse  mean_test_mae  std_test_mae  mean_test_r2   std_test_r2  \n11204  3.412352e-02  -2.160063e-01  5.249486e-02 -2.006354e-01  3.870187e-01  \n9092   3.768862e-02  -2.193768e-01  4.569827e-02 -2.310646e-01  3.103621e-01  \n8994   3.218964e-02  -2.195803e-01  4.339083e-02 -2.218991e-01  2.803707e-01  \n8898   2.977155e-02  -2.167538e-01  4.516046e-02 -2.101029e-01  2.351407e-01  \n344    3.059153e-02  -2.269847e-01  4.239912e-02 -1.967264e-01  2.890681e-01  \n...             ...            ...           ...           ...           ...  \n3852   6.761798e+25  -5.945952e+12  3.850217e+12  6.613328e+26  9.492398e+26  \n3767   7.837021e+25  -5.612110e+12  4.389544e+12  6.856598e+26  1.164875e+27  \n2845   6.138439e+25  -6.154751e+12  4.107748e+12  7.354042e+26  1.048307e+27  \n253    8.679190e+25  -5.861183e+12  4.806313e+12  6.353663e+26  8.018315e+26  \n1165   8.928378e+25  -6.375175e+12  4.898962e+12  6.459562e+26  7.128945e+26  \n\n[20160 rows x 8 columns]",
      "text/html": "<div>\n<style scoped>\n    .dataframe tbody tr th:only-of-type {\n        vertical-align: middle;\n    }\n\n    .dataframe tbody tr th {\n        vertical-align: top;\n    }\n\n    .dataframe thead th {\n        text-align: right;\n    }\n</style>\n<table border=\"1\" class=\"dataframe\">\n  <thead>\n    <tr style=\"text-align: right;\">\n      <th></th>\n      <th>model</th>\n      <th>params</th>\n      <th>mean_test_mse</th>\n      <th>std_test_mse</th>\n      <th>mean_test_mae</th>\n      <th>std_test_mae</th>\n      <th>mean_test_r2</th>\n      <th>std_test_r2</th>\n    </tr>\n  </thead>\n  <tbody>\n    <tr>\n      <th>11204</th>\n      <td>sgd</td>\n      <td>{'alpha': 0.01, 'epsilon': 0.05, 'l1_ratio': 0...</td>\n      <td>-6.931006e-02</td>\n      <td>3.412352e-02</td>\n      <td>-2.160063e-01</td>\n      <td>5.249486e-02</td>\n      <td>-2.006354e-01</td>\n      <td>3.870187e-01</td>\n    </tr>\n    <tr>\n      <th>9092</th>\n      <td>sgd</td>\n      <td>{'alpha': 0.01, 'epsilon': 0.15, 'l1_ratio': 0...</td>\n      <td>-6.942812e-02</td>\n      <td>3.768862e-02</td>\n      <td>-2.193768e-01</td>\n      <td>4.569827e-02</td>\n      <td>-2.310646e-01</td>\n      <td>3.103621e-01</td>\n    </tr>\n    <tr>\n      <th>8994</th>\n      <td>sgd</td>\n      <td>{'alpha': 0.01, 'epsilon': 0.2, 'l1_ratio': 0....</td>\n      <td>-6.962681e-02</td>\n      <td>3.218964e-02</td>\n      <td>-2.195803e-01</td>\n      <td>4.339083e-02</td>\n      <td>-2.218991e-01</td>\n      <td>2.803707e-01</td>\n    </tr>\n    <tr>\n      <th>8898</th>\n      <td>sgd</td>\n      <td>{'alpha': 0.01, 'epsilon': 0.2, 'l1_ratio': 0....</td>\n      <td>-7.084051e-02</td>\n      <td>2.977155e-02</td>\n      <td>-2.167538e-01</td>\n      <td>4.516046e-02</td>\n      <td>-2.101029e-01</td>\n      <td>2.351407e-01</td>\n    </tr>\n    <tr>\n      <th>344</th>\n      <td>sgd</td>\n      <td>{'alpha': 0.0001, 'epsilon': 0.2, 'l1_ratio': ...</td>\n      <td>-7.106370e-02</td>\n      <td>3.059153e-02</td>\n      <td>-2.269847e-01</td>\n      <td>4.239912e-02</td>\n      <td>-1.967264e-01</td>\n      <td>2.890681e-01</td>\n    </tr>\n    <tr>\n      <th>...</th>\n      <td>...</td>\n      <td>...</td>\n      <td>...</td>\n      <td>...</td>\n      <td>...</td>\n      <td>...</td>\n      <td>...</td>\n      <td>...</td>\n    </tr>\n    <tr>\n      <th>3852</th>\n      <td>sgd</td>\n      <td>{'alpha': 0.0001, 'epsilon': 0.05, 'l1_ratio':...</td>\n      <td>-5.164045e+25</td>\n      <td>6.761798e+25</td>\n      <td>-5.945952e+12</td>\n      <td>3.850217e+12</td>\n      <td>6.613328e+26</td>\n      <td>9.492398e+26</td>\n    </tr>\n    <tr>\n      <th>3767</th>\n      <td>sgd</td>\n      <td>{'alpha': 0.0001, 'epsilon': 0.05, 'l1_ratio':...</td>\n      <td>-5.575374e+25</td>\n      <td>7.837021e+25</td>\n      <td>-5.612110e+12</td>\n      <td>4.389544e+12</td>\n      <td>6.856598e+26</td>\n      <td>1.164875e+27</td>\n    </tr>\n    <tr>\n      <th>2845</th>\n      <td>sgd</td>\n      <td>{'alpha': 0.0001, 'epsilon': 0.1, 'l1_ratio': ...</td>\n      <td>-5.641281e+25</td>\n      <td>6.138439e+25</td>\n      <td>-6.154751e+12</td>\n      <td>4.107748e+12</td>\n      <td>7.354042e+26</td>\n      <td>1.048307e+27</td>\n    </tr>\n    <tr>\n      <th>253</th>\n      <td>sgd</td>\n      <td>{'alpha': 0.0001, 'epsilon': 0.2, 'l1_ratio': ...</td>\n      <td>-6.150774e+25</td>\n      <td>8.679190e+25</td>\n      <td>-5.861183e+12</td>\n      <td>4.806313e+12</td>\n      <td>6.353663e+26</td>\n      <td>8.018315e+26</td>\n    </tr>\n    <tr>\n      <th>1165</th>\n      <td>sgd</td>\n      <td>{'alpha': 0.0001, 'epsilon': 0.15, 'l1_ratio':...</td>\n      <td>-6.779607e+25</td>\n      <td>8.928378e+25</td>\n      <td>-6.375175e+12</td>\n      <td>4.898962e+12</td>\n      <td>6.459562e+26</td>\n      <td>7.128945e+26</td>\n    </tr>\n  </tbody>\n</table>\n<p>20160 rows × 8 columns</p>\n</div>"
     },
     "metadata": {},
     "execution_count": 30
    }
   ],
   "source": [
    "grid_search_df.sort_values('mean_test_mse', ascending=False)"
   ]
  },
  {
   "cell_type": "code",
   "execution_count": 31,
   "metadata": {},
   "outputs": [
    {
     "output_type": "execute_result",
     "data": {
      "text/plain": "array([\"{'alpha': 0.01, 'epsilon': 0.05, 'l1_ratio': 0.1, 'learning_rate': 'optimal', 'loss': 'epsilon_insensitive', 'penalty': 'elasticnet'}\",\n       \"{'alpha': 0.01, 'epsilon': 0.15, 'l1_ratio': 0, 'learning_rate': 'optimal', 'loss': 'epsilon_insensitive', 'penalty': 'elasticnet'}\",\n       \"{'alpha': 0.01, 'epsilon': 0.2, 'l1_ratio': 0.95, 'learning_rate': 'optimal', 'loss': 'epsilon_insensitive', 'penalty': 'l2'}\",\n       \"{'alpha': 0.01, 'epsilon': 0.2, 'l1_ratio': 0.85, 'learning_rate': 'optimal', 'loss': 'epsilon_insensitive', 'penalty': 'l2'}\",\n       \"{'alpha': 0.0001, 'epsilon': 0.2, 'l1_ratio': 0.35, 'learning_rate': 'constant', 'loss': 'epsilon_insensitive', 'penalty': 'elasticnet'}\",\n       \"{'alpha': 0.01, 'epsilon': 0.1, 'l1_ratio': 0.55, 'learning_rate': 'optimal', 'loss': 'epsilon_insensitive', 'penalty': 'l2'}\",\n       \"{'alpha': 0.001, 'epsilon': 0.2, 'l1_ratio': 0.25, 'learning_rate': 'constant', 'loss': 'epsilon_insensitive', 'penalty': 'l1'}\",\n       \"{'alpha': 0.0001, 'epsilon': 0.2, 'l1_ratio': 0.65, 'learning_rate': 'adaptive', 'loss': 'epsilon_insensitive', 'penalty': 'l2'}\",\n       \"{'alpha': 0.001, 'epsilon': 0.15, 'l1_ratio': 0.95, 'learning_rate': 'constant', 'loss': 'epsilon_insensitive', 'penalty': 'l2'}\",\n       \"{'alpha': 0.0001, 'epsilon': 0.2, 'l1_ratio': 0.1, 'learning_rate': 'constant', 'loss': 'epsilon_insensitive', 'penalty': 'l1'}\",\n       \"{'alpha': 0.01, 'epsilon': 0.2, 'l1_ratio': 0.9, 'learning_rate': 'optimal', 'loss': 'huber', 'penalty': 'l2'}\",\n       \"{'alpha': 0.001, 'epsilon': 0.2, 'l1_ratio': 0.2, 'learning_rate': 'adaptive', 'loss': 'epsilon_insensitive', 'penalty': 'l2'}\",\n       \"{'alpha': 0.0001, 'epsilon': 0.2, 'l1_ratio': 0.4, 'learning_rate': 'adaptive', 'loss': 'epsilon_insensitive', 'penalty': 'l1'}\",\n       \"{'alpha': 0.0001, 'epsilon': 0.2, 'l1_ratio': 0.1, 'learning_rate': 'constant', 'loss': 'epsilon_insensitive', 'penalty': 'l2'}\",\n       \"{'alpha': 0.0001, 'epsilon': 0.2, 'l1_ratio': 0.45, 'learning_rate': 'adaptive', 'loss': 'epsilon_insensitive', 'penalty': 'elasticnet'}\",\n       \"{'alpha': 0.0001, 'epsilon': 0.2, 'l1_ratio': 0.85, 'learning_rate': 'adaptive', 'loss': 'epsilon_insensitive', 'penalty': 'l2'}\",\n       \"{'alpha': 0.01, 'epsilon': 0.2, 'l1_ratio': 0.75, 'learning_rate': 'optimal', 'loss': 'epsilon_insensitive', 'penalty': 'l2'}\",\n       \"{'alpha': 0.001, 'epsilon': 0.2, 'l1_ratio': 0.7, 'learning_rate': 'constant', 'loss': 'epsilon_insensitive', 'penalty': 'l2'}\",\n       \"{'alpha': 0.0001, 'epsilon': 0.15, 'l1_ratio': 0.25, 'learning_rate': 'constant', 'loss': 'epsilon_insensitive', 'penalty': 'l1'}\",\n       \"{'alpha': 0.001, 'epsilon': 0.2, 'l1_ratio': 0.85, 'learning_rate': 'adaptive', 'loss': 'epsilon_insensitive', 'penalty': 'l2'}\"],\n      dtype=object)"
     },
     "metadata": {},
     "execution_count": 31
    }
   ],
   "source": [
    "grid_search_df.sort_values('mean_test_mse', ascending=False)[\"params\"].head(20).values"
   ]
  },
  {
   "cell_type": "markdown",
   "metadata": {},
   "source": [
    "# Sumário"
   ]
  },
  {
   "cell_type": "code",
   "execution_count": 32,
   "metadata": {},
   "outputs": [
    {
     "output_type": "execute_result",
     "data": {
      "text/plain": "           model                                             params  \\\n0  random_forest          {'criterion': 'mse', 'n_estimators': 100}   \n1      ada_boost  {'learning_rate': 0.15, 'loss': 'square', 'n_e...   \n2            svm  {'C': 0.95, 'degree': 4, 'epsilon': 0.1, 'kern...   \n3            knn  {'metric': 'minkowski', 'n_neighbors': 5, 'p': 1}   \n7            sgd  {'alpha': 0.01, 'epsilon': 0.05, 'l1_ratio': 0...   \n6          ridge                                     {'alpha': 0.4}   \n4          lasso                                    {'alpha': 0.01}   \n5    elastic_net                      {'alpha': 0.1, 'l1_ratio': 0}   \n\n   mean_test_mse  std_test_mse  mean_test_mae  std_test_mae  mean_test_r2  \\\n0      -0.030694      0.018112      -0.137888      0.038248     -0.472818   \n1      -0.030914      0.025963      -0.120986      0.049045     -0.513711   \n2      -0.045870      0.030671      -0.175530      0.042971     -0.489054   \n3      -0.049579      0.034527      -0.178790      0.065097     -0.462913   \n7      -0.069310      0.034124      -0.216006      0.052495     -0.200635   \n6      -0.071149      0.030234      -0.226646      0.045296     -0.189626   \n4      -0.084217      0.032791      -0.247747      0.044672     -0.058684   \n5      -0.088212      0.032614      -0.257470      0.046453     -0.038087   \n\n   std_test_r2  \n0     0.360756  \n1     0.428410  \n2     0.236903  \n3     0.289974  \n7     0.387019  \n6     0.316462  \n4     0.263351  \n5     0.135744  ",
      "text/html": "<div>\n<style scoped>\n    .dataframe tbody tr th:only-of-type {\n        vertical-align: middle;\n    }\n\n    .dataframe tbody tr th {\n        vertical-align: top;\n    }\n\n    .dataframe thead th {\n        text-align: right;\n    }\n</style>\n<table border=\"1\" class=\"dataframe\">\n  <thead>\n    <tr style=\"text-align: right;\">\n      <th></th>\n      <th>model</th>\n      <th>params</th>\n      <th>mean_test_mse</th>\n      <th>std_test_mse</th>\n      <th>mean_test_mae</th>\n      <th>std_test_mae</th>\n      <th>mean_test_r2</th>\n      <th>std_test_r2</th>\n    </tr>\n  </thead>\n  <tbody>\n    <tr>\n      <th>0</th>\n      <td>random_forest</td>\n      <td>{'criterion': 'mse', 'n_estimators': 100}</td>\n      <td>-0.030694</td>\n      <td>0.018112</td>\n      <td>-0.137888</td>\n      <td>0.038248</td>\n      <td>-0.472818</td>\n      <td>0.360756</td>\n    </tr>\n    <tr>\n      <th>1</th>\n      <td>ada_boost</td>\n      <td>{'learning_rate': 0.15, 'loss': 'square', 'n_e...</td>\n      <td>-0.030914</td>\n      <td>0.025963</td>\n      <td>-0.120986</td>\n      <td>0.049045</td>\n      <td>-0.513711</td>\n      <td>0.428410</td>\n    </tr>\n    <tr>\n      <th>2</th>\n      <td>svm</td>\n      <td>{'C': 0.95, 'degree': 4, 'epsilon': 0.1, 'kern...</td>\n      <td>-0.045870</td>\n      <td>0.030671</td>\n      <td>-0.175530</td>\n      <td>0.042971</td>\n      <td>-0.489054</td>\n      <td>0.236903</td>\n    </tr>\n    <tr>\n      <th>3</th>\n      <td>knn</td>\n      <td>{'metric': 'minkowski', 'n_neighbors': 5, 'p': 1}</td>\n      <td>-0.049579</td>\n      <td>0.034527</td>\n      <td>-0.178790</td>\n      <td>0.065097</td>\n      <td>-0.462913</td>\n      <td>0.289974</td>\n    </tr>\n    <tr>\n      <th>7</th>\n      <td>sgd</td>\n      <td>{'alpha': 0.01, 'epsilon': 0.05, 'l1_ratio': 0...</td>\n      <td>-0.069310</td>\n      <td>0.034124</td>\n      <td>-0.216006</td>\n      <td>0.052495</td>\n      <td>-0.200635</td>\n      <td>0.387019</td>\n    </tr>\n    <tr>\n      <th>6</th>\n      <td>ridge</td>\n      <td>{'alpha': 0.4}</td>\n      <td>-0.071149</td>\n      <td>0.030234</td>\n      <td>-0.226646</td>\n      <td>0.045296</td>\n      <td>-0.189626</td>\n      <td>0.316462</td>\n    </tr>\n    <tr>\n      <th>4</th>\n      <td>lasso</td>\n      <td>{'alpha': 0.01}</td>\n      <td>-0.084217</td>\n      <td>0.032791</td>\n      <td>-0.247747</td>\n      <td>0.044672</td>\n      <td>-0.058684</td>\n      <td>0.263351</td>\n    </tr>\n    <tr>\n      <th>5</th>\n      <td>elastic_net</td>\n      <td>{'alpha': 0.1, 'l1_ratio': 0}</td>\n      <td>-0.088212</td>\n      <td>0.032614</td>\n      <td>-0.257470</td>\n      <td>0.046453</td>\n      <td>-0.038087</td>\n      <td>0.135744</td>\n    </tr>\n  </tbody>\n</table>\n</div>"
     },
     "metadata": {},
     "execution_count": 32
    }
   ],
   "source": [
    "summary_df.sort_values(by='mean_test_mse', ascending=False).head(20)"
   ]
  },
  {
   "cell_type": "code",
   "execution_count": null,
   "metadata": {},
   "outputs": [],
   "source": []
  }
 ],
 "metadata": {
  "language_info": {
   "name": "python",
   "codemirror_mode": {
    "name": "ipython",
    "version": 3
   },
   "version": "3.6.9-final"
  },
  "orig_nbformat": 2,
  "file_extension": ".py",
  "mimetype": "text/x-python",
  "name": "python",
  "npconvert_exporter": "python",
  "pygments_lexer": "ipython3",
  "version": 3,
  "kernelspec": {
   "name": "python36964bitbertvirtualenv054cbb15ab924922a35a349b12e89805",
   "display_name": "Python 3.6.9 64-bit ('bert': virtualenv)"
  }
 },
 "nbformat": 4,
 "nbformat_minor": 2
}