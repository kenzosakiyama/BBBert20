{
 "cells": [
  {
   "cell_type": "code",
   "execution_count": 1,
   "metadata": {},
   "outputs": [],
   "source": [
    "import pandas as pd"
   ]
  },
  {
   "cell_type": "code",
   "execution_count": 2,
   "metadata": {},
   "outputs": [],
   "source": [
    "summary_df = pd.DataFrame(columns=[\"model\", 'params', 'mean_test_mse', 'std_test_mse', 'mean_test_mae', 'std_test_mae', 'mean_test_r2', 'std_test_r2'])"
   ]
  },
  {
   "cell_type": "code",
   "execution_count": 3,
   "metadata": {},
   "outputs": [
    {
     "output_type": "execute_result",
     "data": {
      "text/plain": "Empty DataFrame\nColumns: [model, params, mean_test_mse, std_test_mse, mean_test_mae, std_test_mae, mean_test_r2, std_test_r2]\nIndex: []",
      "text/html": "<div>\n<style scoped>\n    .dataframe tbody tr th:only-of-type {\n        vertical-align: middle;\n    }\n\n    .dataframe tbody tr th {\n        vertical-align: top;\n    }\n\n    .dataframe thead th {\n        text-align: right;\n    }\n</style>\n<table border=\"1\" class=\"dataframe\">\n  <thead>\n    <tr style=\"text-align: right;\">\n      <th></th>\n      <th>model</th>\n      <th>params</th>\n      <th>mean_test_mse</th>\n      <th>std_test_mse</th>\n      <th>mean_test_mae</th>\n      <th>std_test_mae</th>\n      <th>mean_test_r2</th>\n      <th>std_test_r2</th>\n    </tr>\n  </thead>\n  <tbody>\n  </tbody>\n</table>\n</div>"
     },
     "metadata": {},
     "execution_count": 3
    }
   ],
   "source": [
    "summary_df"
   ]
  },
  {
   "cell_type": "markdown",
   "metadata": {},
   "source": [
    "# Random Forest Regressor"
   ]
  },
  {
   "cell_type": "code",
   "execution_count": 4,
   "metadata": {},
   "outputs": [],
   "source": [
    "PATH = 'random_forest_grid_search_results.csv'"
   ]
  },
  {
   "cell_type": "code",
   "execution_count": 5,
   "metadata": {},
   "outputs": [],
   "source": [
    "grid_search_df = pd.read_csv(PATH)"
   ]
  },
  {
   "cell_type": "code",
   "execution_count": 6,
   "metadata": {},
   "outputs": [],
   "source": [
    "grid_search_df[\"model\"] = \"random_forest\"\n",
    "grid_search_df = grid_search_df[[\"model\", 'params', 'mean_test_mse', 'std_test_mse', 'mean_test_mae', 'std_test_mae', 'mean_test_r2', 'std_test_r2']]\n",
    "summary_df = summary_df.append(grid_search_df.sort_values('mean_test_mse', ascending=False).iloc[0], ignore_index=True)"
   ]
  },
  {
   "cell_type": "code",
   "execution_count": 7,
   "metadata": {},
   "outputs": [
    {
     "output_type": "execute_result",
     "data": {
      "text/plain": "            model                                       params  mean_test_mse  \\\n0   random_forest    {'criterion': 'mse', 'n_estimators': 100}      -0.028384   \n2   random_forest    {'criterion': 'mse', 'n_estimators': 500}      -0.030599   \n5   random_forest   {'criterion': 'mse', 'n_estimators': 3000}      -0.030811   \n4   random_forest   {'criterion': 'mse', 'n_estimators': 2000}      -0.030948   \n1   random_forest    {'criterion': 'mse', 'n_estimators': 200}      -0.031210   \n7   random_forest  {'criterion': 'mse', 'n_estimators': 10000}      -0.031226   \n6   random_forest   {'criterion': 'mse', 'n_estimators': 5000}      -0.031228   \n12  random_forest   {'criterion': 'mae', 'n_estimators': 2000}      -0.032041   \n10  random_forest    {'criterion': 'mae', 'n_estimators': 500}      -0.032074   \n9   random_forest    {'criterion': 'mae', 'n_estimators': 200}      -0.032184   \n3   random_forest   {'criterion': 'mse', 'n_estimators': 1000}      -0.032189   \n14  random_forest   {'criterion': 'mae', 'n_estimators': 5000}      -0.032345   \n13  random_forest   {'criterion': 'mae', 'n_estimators': 3000}      -0.032424   \n15  random_forest  {'criterion': 'mae', 'n_estimators': 10000}      -0.032460   \n11  random_forest   {'criterion': 'mae', 'n_estimators': 1000}      -0.032705   \n8   random_forest    {'criterion': 'mae', 'n_estimators': 100}      -0.033719   \n\n    std_test_mse  mean_test_mae  std_test_mae  mean_test_r2  std_test_r2  \n0       0.026596      -0.124168      0.045149     -0.580208     0.323604  \n2       0.026876      -0.128237      0.045827     -0.545930     0.323234  \n5       0.027544      -0.127835      0.046498     -0.545279     0.331710  \n4       0.027564      -0.127893      0.045965     -0.544185     0.329089  \n1       0.027638      -0.128984      0.046800     -0.539728     0.316526  \n7       0.028046      -0.128579      0.046727     -0.538356     0.340024  \n6       0.028665      -0.128235      0.047380     -0.540134     0.344108  \n12      0.030188      -0.130113      0.049597     -0.522182     0.404549  \n10      0.029613      -0.130880      0.050309     -0.526428     0.386056  \n9       0.030504      -0.128662      0.049868     -0.530477     0.390700  \n3       0.029611      -0.130062      0.047614     -0.525635     0.351789  \n14      0.030619      -0.131153      0.049890     -0.520882     0.397376  \n13      0.030883      -0.130999      0.050288     -0.519953     0.401857  \n15      0.030781      -0.131037      0.049996     -0.518984     0.402345  \n11      0.031553      -0.130945      0.050581     -0.519091     0.398320  \n8       0.033338      -0.133271      0.054160     -0.498063     0.439465  ",
      "text/html": "<div>\n<style scoped>\n    .dataframe tbody tr th:only-of-type {\n        vertical-align: middle;\n    }\n\n    .dataframe tbody tr th {\n        vertical-align: top;\n    }\n\n    .dataframe thead th {\n        text-align: right;\n    }\n</style>\n<table border=\"1\" class=\"dataframe\">\n  <thead>\n    <tr style=\"text-align: right;\">\n      <th></th>\n      <th>model</th>\n      <th>params</th>\n      <th>mean_test_mse</th>\n      <th>std_test_mse</th>\n      <th>mean_test_mae</th>\n      <th>std_test_mae</th>\n      <th>mean_test_r2</th>\n      <th>std_test_r2</th>\n    </tr>\n  </thead>\n  <tbody>\n    <tr>\n      <th>0</th>\n      <td>random_forest</td>\n      <td>{'criterion': 'mse', 'n_estimators': 100}</td>\n      <td>-0.028384</td>\n      <td>0.026596</td>\n      <td>-0.124168</td>\n      <td>0.045149</td>\n      <td>-0.580208</td>\n      <td>0.323604</td>\n    </tr>\n    <tr>\n      <th>2</th>\n      <td>random_forest</td>\n      <td>{'criterion': 'mse', 'n_estimators': 500}</td>\n      <td>-0.030599</td>\n      <td>0.026876</td>\n      <td>-0.128237</td>\n      <td>0.045827</td>\n      <td>-0.545930</td>\n      <td>0.323234</td>\n    </tr>\n    <tr>\n      <th>5</th>\n      <td>random_forest</td>\n      <td>{'criterion': 'mse', 'n_estimators': 3000}</td>\n      <td>-0.030811</td>\n      <td>0.027544</td>\n      <td>-0.127835</td>\n      <td>0.046498</td>\n      <td>-0.545279</td>\n      <td>0.331710</td>\n    </tr>\n    <tr>\n      <th>4</th>\n      <td>random_forest</td>\n      <td>{'criterion': 'mse', 'n_estimators': 2000}</td>\n      <td>-0.030948</td>\n      <td>0.027564</td>\n      <td>-0.127893</td>\n      <td>0.045965</td>\n      <td>-0.544185</td>\n      <td>0.329089</td>\n    </tr>\n    <tr>\n      <th>1</th>\n      <td>random_forest</td>\n      <td>{'criterion': 'mse', 'n_estimators': 200}</td>\n      <td>-0.031210</td>\n      <td>0.027638</td>\n      <td>-0.128984</td>\n      <td>0.046800</td>\n      <td>-0.539728</td>\n      <td>0.316526</td>\n    </tr>\n    <tr>\n      <th>7</th>\n      <td>random_forest</td>\n      <td>{'criterion': 'mse', 'n_estimators': 10000}</td>\n      <td>-0.031226</td>\n      <td>0.028046</td>\n      <td>-0.128579</td>\n      <td>0.046727</td>\n      <td>-0.538356</td>\n      <td>0.340024</td>\n    </tr>\n    <tr>\n      <th>6</th>\n      <td>random_forest</td>\n      <td>{'criterion': 'mse', 'n_estimators': 5000}</td>\n      <td>-0.031228</td>\n      <td>0.028665</td>\n      <td>-0.128235</td>\n      <td>0.047380</td>\n      <td>-0.540134</td>\n      <td>0.344108</td>\n    </tr>\n    <tr>\n      <th>12</th>\n      <td>random_forest</td>\n      <td>{'criterion': 'mae', 'n_estimators': 2000}</td>\n      <td>-0.032041</td>\n      <td>0.030188</td>\n      <td>-0.130113</td>\n      <td>0.049597</td>\n      <td>-0.522182</td>\n      <td>0.404549</td>\n    </tr>\n    <tr>\n      <th>10</th>\n      <td>random_forest</td>\n      <td>{'criterion': 'mae', 'n_estimators': 500}</td>\n      <td>-0.032074</td>\n      <td>0.029613</td>\n      <td>-0.130880</td>\n      <td>0.050309</td>\n      <td>-0.526428</td>\n      <td>0.386056</td>\n    </tr>\n    <tr>\n      <th>9</th>\n      <td>random_forest</td>\n      <td>{'criterion': 'mae', 'n_estimators': 200}</td>\n      <td>-0.032184</td>\n      <td>0.030504</td>\n      <td>-0.128662</td>\n      <td>0.049868</td>\n      <td>-0.530477</td>\n      <td>0.390700</td>\n    </tr>\n    <tr>\n      <th>3</th>\n      <td>random_forest</td>\n      <td>{'criterion': 'mse', 'n_estimators': 1000}</td>\n      <td>-0.032189</td>\n      <td>0.029611</td>\n      <td>-0.130062</td>\n      <td>0.047614</td>\n      <td>-0.525635</td>\n      <td>0.351789</td>\n    </tr>\n    <tr>\n      <th>14</th>\n      <td>random_forest</td>\n      <td>{'criterion': 'mae', 'n_estimators': 5000}</td>\n      <td>-0.032345</td>\n      <td>0.030619</td>\n      <td>-0.131153</td>\n      <td>0.049890</td>\n      <td>-0.520882</td>\n      <td>0.397376</td>\n    </tr>\n    <tr>\n      <th>13</th>\n      <td>random_forest</td>\n      <td>{'criterion': 'mae', 'n_estimators': 3000}</td>\n      <td>-0.032424</td>\n      <td>0.030883</td>\n      <td>-0.130999</td>\n      <td>0.050288</td>\n      <td>-0.519953</td>\n      <td>0.401857</td>\n    </tr>\n    <tr>\n      <th>15</th>\n      <td>random_forest</td>\n      <td>{'criterion': 'mae', 'n_estimators': 10000}</td>\n      <td>-0.032460</td>\n      <td>0.030781</td>\n      <td>-0.131037</td>\n      <td>0.049996</td>\n      <td>-0.518984</td>\n      <td>0.402345</td>\n    </tr>\n    <tr>\n      <th>11</th>\n      <td>random_forest</td>\n      <td>{'criterion': 'mae', 'n_estimators': 1000}</td>\n      <td>-0.032705</td>\n      <td>0.031553</td>\n      <td>-0.130945</td>\n      <td>0.050581</td>\n      <td>-0.519091</td>\n      <td>0.398320</td>\n    </tr>\n    <tr>\n      <th>8</th>\n      <td>random_forest</td>\n      <td>{'criterion': 'mae', 'n_estimators': 100}</td>\n      <td>-0.033719</td>\n      <td>0.033338</td>\n      <td>-0.133271</td>\n      <td>0.054160</td>\n      <td>-0.498063</td>\n      <td>0.439465</td>\n    </tr>\n  </tbody>\n</table>\n</div>"
     },
     "metadata": {},
     "execution_count": 7
    }
   ],
   "source": [
    "grid_search_df.sort_values('mean_test_mse', ascending=False)"
   ]
  },
  {
   "cell_type": "markdown",
   "metadata": {},
   "source": [
    "# Ada Boost Regressor"
   ]
  },
  {
   "cell_type": "code",
   "execution_count": 8,
   "metadata": {},
   "outputs": [],
   "source": [
    "PATH = 'ada_boost_grid_search_results.csv'\n",
    ""
   ]
  },
  {
   "cell_type": "code",
   "execution_count": 9,
   "metadata": {},
   "outputs": [],
   "source": [
    "grid_search_df = pd.read_csv(PATH)\n",
    "grid_search_df[\"model\"] = \"ada_boost\"\n",
    "grid_search_df = grid_search_df[[\"model\", 'params', 'mean_test_mse', 'std_test_mse', 'mean_test_mae', 'std_test_mae', 'mean_test_r2', 'std_test_r2']]\n",
    "summary_df = summary_df.append(grid_search_df.sort_values('mean_test_mse', ascending=False).iloc[0], ignore_index=True)"
   ]
  },
  {
   "cell_type": "code",
   "execution_count": 10,
   "metadata": {},
   "outputs": [
    {
     "output_type": "execute_result",
     "data": {
      "text/plain": "         model                                             params  \\\n56   ada_boost  {'learning_rate': 0.15, 'loss': 'square', 'n_e...   \n40   ada_boost  {'learning_rate': 0.1, 'loss': 'exponential', ...   \n456  ada_boost  {'learning_rate': 1.0, 'loss': 'linear', 'n_es...   \n280  ada_boost  {'learning_rate': 0.6, 'loss': 'exponential', ...   \n80   ada_boost  {'learning_rate': 0.2, 'loss': 'square', 'n_es...   \n..         ...                                                ...   \n184  ada_boost  {'learning_rate': 0.4, 'loss': 'exponential', ...   \n257  ada_boost  {'learning_rate': 0.55, 'loss': 'exponential',...   \n400  ada_boost  {'learning_rate': 0.85, 'loss': 'exponential',...   \n424  ada_boost  {'learning_rate': 0.9, 'loss': 'exponential', ...   \n152  ada_boost  {'learning_rate': 0.35, 'loss': 'square', 'n_e...   \n\n     mean_test_mse  std_test_mse  mean_test_mae  std_test_mae  mean_test_r2  \\\n56       -0.030914      0.025963      -0.120986      0.049045     -0.513711   \n40       -0.032144      0.030167      -0.122089      0.052921     -0.519073   \n456      -0.032551      0.029709      -0.122791      0.049475     -0.506870   \n280      -0.032761      0.027735      -0.125907      0.048007     -0.492605   \n80       -0.032777      0.028364      -0.120181      0.053124     -0.499527   \n..             ...           ...            ...           ...           ...   \n184      -0.039767      0.036560      -0.134836      0.059601     -0.403107   \n257      -0.039767      0.036707      -0.136093      0.056979     -0.391971   \n400      -0.040192      0.038450      -0.133456      0.059161     -0.392797   \n424      -0.040259      0.036126      -0.131654      0.057219     -0.385143   \n152      -0.040354      0.031990      -0.135101      0.058658     -0.381918   \n\n     std_test_r2  \n56      0.428410  \n40      0.389805  \n456     0.423663  \n280     0.436168  \n80      0.440557  \n..           ...  \n184     0.486553  \n257     0.523358  \n400     0.524916  \n424     0.513986  \n152     0.439003  \n\n[480 rows x 8 columns]",
      "text/html": "<div>\n<style scoped>\n    .dataframe tbody tr th:only-of-type {\n        vertical-align: middle;\n    }\n\n    .dataframe tbody tr th {\n        vertical-align: top;\n    }\n\n    .dataframe thead th {\n        text-align: right;\n    }\n</style>\n<table border=\"1\" class=\"dataframe\">\n  <thead>\n    <tr style=\"text-align: right;\">\n      <th></th>\n      <th>model</th>\n      <th>params</th>\n      <th>mean_test_mse</th>\n      <th>std_test_mse</th>\n      <th>mean_test_mae</th>\n      <th>std_test_mae</th>\n      <th>mean_test_r2</th>\n      <th>std_test_r2</th>\n    </tr>\n  </thead>\n  <tbody>\n    <tr>\n      <th>56</th>\n      <td>ada_boost</td>\n      <td>{'learning_rate': 0.15, 'loss': 'square', 'n_e...</td>\n      <td>-0.030914</td>\n      <td>0.025963</td>\n      <td>-0.120986</td>\n      <td>0.049045</td>\n      <td>-0.513711</td>\n      <td>0.428410</td>\n    </tr>\n    <tr>\n      <th>40</th>\n      <td>ada_boost</td>\n      <td>{'learning_rate': 0.1, 'loss': 'exponential', ...</td>\n      <td>-0.032144</td>\n      <td>0.030167</td>\n      <td>-0.122089</td>\n      <td>0.052921</td>\n      <td>-0.519073</td>\n      <td>0.389805</td>\n    </tr>\n    <tr>\n      <th>456</th>\n      <td>ada_boost</td>\n      <td>{'learning_rate': 1.0, 'loss': 'linear', 'n_es...</td>\n      <td>-0.032551</td>\n      <td>0.029709</td>\n      <td>-0.122791</td>\n      <td>0.049475</td>\n      <td>-0.506870</td>\n      <td>0.423663</td>\n    </tr>\n    <tr>\n      <th>280</th>\n      <td>ada_boost</td>\n      <td>{'learning_rate': 0.6, 'loss': 'exponential', ...</td>\n      <td>-0.032761</td>\n      <td>0.027735</td>\n      <td>-0.125907</td>\n      <td>0.048007</td>\n      <td>-0.492605</td>\n      <td>0.436168</td>\n    </tr>\n    <tr>\n      <th>80</th>\n      <td>ada_boost</td>\n      <td>{'learning_rate': 0.2, 'loss': 'square', 'n_es...</td>\n      <td>-0.032777</td>\n      <td>0.028364</td>\n      <td>-0.120181</td>\n      <td>0.053124</td>\n      <td>-0.499527</td>\n      <td>0.440557</td>\n    </tr>\n    <tr>\n      <th>...</th>\n      <td>...</td>\n      <td>...</td>\n      <td>...</td>\n      <td>...</td>\n      <td>...</td>\n      <td>...</td>\n      <td>...</td>\n      <td>...</td>\n    </tr>\n    <tr>\n      <th>184</th>\n      <td>ada_boost</td>\n      <td>{'learning_rate': 0.4, 'loss': 'exponential', ...</td>\n      <td>-0.039767</td>\n      <td>0.036560</td>\n      <td>-0.134836</td>\n      <td>0.059601</td>\n      <td>-0.403107</td>\n      <td>0.486553</td>\n    </tr>\n    <tr>\n      <th>257</th>\n      <td>ada_boost</td>\n      <td>{'learning_rate': 0.55, 'loss': 'exponential',...</td>\n      <td>-0.039767</td>\n      <td>0.036707</td>\n      <td>-0.136093</td>\n      <td>0.056979</td>\n      <td>-0.391971</td>\n      <td>0.523358</td>\n    </tr>\n    <tr>\n      <th>400</th>\n      <td>ada_boost</td>\n      <td>{'learning_rate': 0.85, 'loss': 'exponential',...</td>\n      <td>-0.040192</td>\n      <td>0.038450</td>\n      <td>-0.133456</td>\n      <td>0.059161</td>\n      <td>-0.392797</td>\n      <td>0.524916</td>\n    </tr>\n    <tr>\n      <th>424</th>\n      <td>ada_boost</td>\n      <td>{'learning_rate': 0.9, 'loss': 'exponential', ...</td>\n      <td>-0.040259</td>\n      <td>0.036126</td>\n      <td>-0.131654</td>\n      <td>0.057219</td>\n      <td>-0.385143</td>\n      <td>0.513986</td>\n    </tr>\n    <tr>\n      <th>152</th>\n      <td>ada_boost</td>\n      <td>{'learning_rate': 0.35, 'loss': 'square', 'n_e...</td>\n      <td>-0.040354</td>\n      <td>0.031990</td>\n      <td>-0.135101</td>\n      <td>0.058658</td>\n      <td>-0.381918</td>\n      <td>0.439003</td>\n    </tr>\n  </tbody>\n</table>\n<p>480 rows × 8 columns</p>\n</div>"
     },
     "metadata": {},
     "execution_count": 10
    }
   ],
   "source": [
    "grid_search_df.sort_values('mean_test_mse', ascending=False)"
   ]
  },
  {
   "cell_type": "code",
   "execution_count": 11,
   "metadata": {},
   "outputs": [
    {
     "output_type": "execute_result",
     "data": {
      "text/plain": "array([\"{'learning_rate': 0.15, 'loss': 'square', 'n_estimators': 100}\",\n       \"{'learning_rate': 0.1, 'loss': 'exponential', 'n_estimators': 100}\",\n       \"{'learning_rate': 1.0, 'loss': 'linear', 'n_estimators': 100}\",\n       \"{'learning_rate': 0.6, 'loss': 'exponential', 'n_estimators': 100}\",\n       \"{'learning_rate': 0.2, 'loss': 'square', 'n_estimators': 100}\",\n       \"{'learning_rate': 0.05, 'loss': 'square', 'n_estimators': 100}\",\n       \"{'learning_rate': 0.75, 'loss': 'linear', 'n_estimators': 200}\",\n       \"{'learning_rate': 0.1, 'loss': 'linear', 'n_estimators': 100}\",\n       \"{'learning_rate': 0.6, 'loss': 'exponential', 'n_estimators': 200}\",\n       \"{'learning_rate': 0.75, 'loss': 'square', 'n_estimators': 3000}\",\n       \"{'learning_rate': 0.95, 'loss': 'square', 'n_estimators': 500}\",\n       \"{'learning_rate': 0.15, 'loss': 'linear', 'n_estimators': 200}\",\n       \"{'learning_rate': 0.2, 'loss': 'exponential', 'n_estimators': 100}\",\n       \"{'learning_rate': 0.9, 'loss': 'square', 'n_estimators': 2000}\",\n       \"{'learning_rate': 0.95, 'loss': 'exponential', 'n_estimators': 100}\",\n       \"{'learning_rate': 0.7, 'loss': 'square', 'n_estimators': 200}\",\n       \"{'learning_rate': 0.85, 'loss': 'square', 'n_estimators': 3000}\",\n       \"{'learning_rate': 0.75, 'loss': 'square', 'n_estimators': 5000}\",\n       \"{'learning_rate': 0.3, 'loss': 'square', 'n_estimators': 100}\",\n       \"{'learning_rate': 0.7, 'loss': 'square', 'n_estimators': 100}\"],\n      dtype=object)"
     },
     "metadata": {},
     "execution_count": 11
    }
   ],
   "source": [
    "grid_search_df.sort_values('mean_test_mse', ascending=False).head(20).params.values"
   ]
  },
  {
   "cell_type": "markdown",
   "metadata": {},
   "source": [
    "# SVM Regressor"
   ]
  },
  {
   "cell_type": "code",
   "execution_count": 12,
   "metadata": {},
   "outputs": [],
   "source": [
    "PATH = 'svm_grid_search_results.csv'\n",
    ""
   ]
  },
  {
   "cell_type": "code",
   "execution_count": 13,
   "metadata": {},
   "outputs": [],
   "source": [
    "grid_search_df = pd.read_csv(PATH)\n",
    "grid_search_df[\"model\"] = \"svm\"\n",
    "grid_search_df = grid_search_df[[\"model\", 'params', 'mean_test_mse', 'std_test_mse', 'mean_test_mae', 'std_test_mae', 'mean_test_r2', 'std_test_r2']]\n",
    "summary_df = summary_df.append(grid_search_df.sort_values('mean_test_mse', ascending=False).iloc[0], ignore_index=True)"
   ]
  },
  {
   "cell_type": "code",
   "execution_count": 14,
   "metadata": {},
   "outputs": [
    {
     "output_type": "execute_result",
     "data": {
      "text/plain": "     model                                             params  mean_test_mse  \\\n5126   svm  {'C': 0.95, 'degree': 4, 'epsilon': 0.1, 'kern...      -0.045870   \n5254   svm  {'C': 0.95, 'degree': 6, 'epsilon': 0.1, 'kern...      -0.045870   \n5318   svm  {'C': 0.95, 'degree': 7, 'epsilon': 0.1, 'kern...      -0.045870   \n5190   svm  {'C': 0.95, 'degree': 5, 'epsilon': 0.1, 'kern...      -0.045870   \n4998   svm  {'C': 0.95, 'degree': 2, 'epsilon': 0.1, 'kern...      -0.045870   \n5062   svm  {'C': 0.95, 'degree': 3, 'epsilon': 0.1, 'kern...      -0.045870   \n5250   svm  {'C': 0.95, 'degree': 6, 'epsilon': 0.05, 'ker...      -0.045989   \n5186   svm  {'C': 0.95, 'degree': 5, 'epsilon': 0.05, 'ker...      -0.045989   \n5122   svm  {'C': 0.95, 'degree': 4, 'epsilon': 0.05, 'ker...      -0.045989   \n5058   svm  {'C': 0.95, 'degree': 3, 'epsilon': 0.05, 'ker...      -0.045989   \n4994   svm  {'C': 0.95, 'degree': 2, 'epsilon': 0.05, 'ker...      -0.045989   \n5314   svm  {'C': 0.95, 'degree': 7, 'epsilon': 0.05, 'ker...      -0.045989   \n4802   svm  {'C': 0.9, 'degree': 5, 'epsilon': 0.05, 'kern...      -0.046110   \n4610   svm  {'C': 0.9, 'degree': 2, 'epsilon': 0.05, 'kern...      -0.046110   \n4674   svm  {'C': 0.9, 'degree': 3, 'epsilon': 0.05, 'kern...      -0.046110   \n4930   svm  {'C': 0.9, 'degree': 7, 'epsilon': 0.05, 'kern...      -0.046110   \n4866   svm  {'C': 0.9, 'degree': 6, 'epsilon': 0.05, 'kern...      -0.046110   \n4738   svm  {'C': 0.9, 'degree': 4, 'epsilon': 0.05, 'kern...      -0.046110   \n4806   svm  {'C': 0.9, 'degree': 5, 'epsilon': 0.1, 'kerne...      -0.046159   \n4934   svm  {'C': 0.9, 'degree': 7, 'epsilon': 0.1, 'kerne...      -0.046159   \n\n      std_test_mse  mean_test_mae  std_test_mae  mean_test_r2  std_test_r2  \n5126      0.030671      -0.175530      0.042971     -0.489054     0.236903  \n5254      0.030671      -0.175530      0.042971     -0.489054     0.236903  \n5318      0.030671      -0.175530      0.042971     -0.489054     0.236903  \n5190      0.030671      -0.175530      0.042971     -0.489054     0.236903  \n4998      0.030671      -0.175530      0.042971     -0.489054     0.236903  \n5062      0.030671      -0.175530      0.042971     -0.489054     0.236903  \n5250      0.030574      -0.174905      0.040560     -0.485221     0.240118  \n5186      0.030574      -0.174905      0.040560     -0.485221     0.240118  \n5122      0.030574      -0.174905      0.040560     -0.485221     0.240118  \n5058      0.030574      -0.174905      0.040560     -0.485221     0.240118  \n4994      0.030574      -0.174905      0.040560     -0.485221     0.240118  \n5314      0.030574      -0.174905      0.040560     -0.485221     0.240118  \n4802      0.031060      -0.174976      0.041091     -0.484541     0.243518  \n4610      0.031060      -0.174976      0.041091     -0.484541     0.243518  \n4674      0.031060      -0.174976      0.041091     -0.484541     0.243518  \n4930      0.031060      -0.174976      0.041091     -0.484541     0.243518  \n4866      0.031060      -0.174976      0.041091     -0.484541     0.243518  \n4738      0.031060      -0.174976      0.041091     -0.484541     0.243518  \n4806      0.030995      -0.175886      0.043182     -0.486965     0.237504  \n4934      0.030995      -0.175886      0.043182     -0.486965     0.237504  ",
      "text/html": "<div>\n<style scoped>\n    .dataframe tbody tr th:only-of-type {\n        vertical-align: middle;\n    }\n\n    .dataframe tbody tr th {\n        vertical-align: top;\n    }\n\n    .dataframe thead th {\n        text-align: right;\n    }\n</style>\n<table border=\"1\" class=\"dataframe\">\n  <thead>\n    <tr style=\"text-align: right;\">\n      <th></th>\n      <th>model</th>\n      <th>params</th>\n      <th>mean_test_mse</th>\n      <th>std_test_mse</th>\n      <th>mean_test_mae</th>\n      <th>std_test_mae</th>\n      <th>mean_test_r2</th>\n      <th>std_test_r2</th>\n    </tr>\n  </thead>\n  <tbody>\n    <tr>\n      <th>5126</th>\n      <td>svm</td>\n      <td>{'C': 0.95, 'degree': 4, 'epsilon': 0.1, 'kern...</td>\n      <td>-0.045870</td>\n      <td>0.030671</td>\n      <td>-0.175530</td>\n      <td>0.042971</td>\n      <td>-0.489054</td>\n      <td>0.236903</td>\n    </tr>\n    <tr>\n      <th>5254</th>\n      <td>svm</td>\n      <td>{'C': 0.95, 'degree': 6, 'epsilon': 0.1, 'kern...</td>\n      <td>-0.045870</td>\n      <td>0.030671</td>\n      <td>-0.175530</td>\n      <td>0.042971</td>\n      <td>-0.489054</td>\n      <td>0.236903</td>\n    </tr>\n    <tr>\n      <th>5318</th>\n      <td>svm</td>\n      <td>{'C': 0.95, 'degree': 7, 'epsilon': 0.1, 'kern...</td>\n      <td>-0.045870</td>\n      <td>0.030671</td>\n      <td>-0.175530</td>\n      <td>0.042971</td>\n      <td>-0.489054</td>\n      <td>0.236903</td>\n    </tr>\n    <tr>\n      <th>5190</th>\n      <td>svm</td>\n      <td>{'C': 0.95, 'degree': 5, 'epsilon': 0.1, 'kern...</td>\n      <td>-0.045870</td>\n      <td>0.030671</td>\n      <td>-0.175530</td>\n      <td>0.042971</td>\n      <td>-0.489054</td>\n      <td>0.236903</td>\n    </tr>\n    <tr>\n      <th>4998</th>\n      <td>svm</td>\n      <td>{'C': 0.95, 'degree': 2, 'epsilon': 0.1, 'kern...</td>\n      <td>-0.045870</td>\n      <td>0.030671</td>\n      <td>-0.175530</td>\n      <td>0.042971</td>\n      <td>-0.489054</td>\n      <td>0.236903</td>\n    </tr>\n    <tr>\n      <th>5062</th>\n      <td>svm</td>\n      <td>{'C': 0.95, 'degree': 3, 'epsilon': 0.1, 'kern...</td>\n      <td>-0.045870</td>\n      <td>0.030671</td>\n      <td>-0.175530</td>\n      <td>0.042971</td>\n      <td>-0.489054</td>\n      <td>0.236903</td>\n    </tr>\n    <tr>\n      <th>5250</th>\n      <td>svm</td>\n      <td>{'C': 0.95, 'degree': 6, 'epsilon': 0.05, 'ker...</td>\n      <td>-0.045989</td>\n      <td>0.030574</td>\n      <td>-0.174905</td>\n      <td>0.040560</td>\n      <td>-0.485221</td>\n      <td>0.240118</td>\n    </tr>\n    <tr>\n      <th>5186</th>\n      <td>svm</td>\n      <td>{'C': 0.95, 'degree': 5, 'epsilon': 0.05, 'ker...</td>\n      <td>-0.045989</td>\n      <td>0.030574</td>\n      <td>-0.174905</td>\n      <td>0.040560</td>\n      <td>-0.485221</td>\n      <td>0.240118</td>\n    </tr>\n    <tr>\n      <th>5122</th>\n      <td>svm</td>\n      <td>{'C': 0.95, 'degree': 4, 'epsilon': 0.05, 'ker...</td>\n      <td>-0.045989</td>\n      <td>0.030574</td>\n      <td>-0.174905</td>\n      <td>0.040560</td>\n      <td>-0.485221</td>\n      <td>0.240118</td>\n    </tr>\n    <tr>\n      <th>5058</th>\n      <td>svm</td>\n      <td>{'C': 0.95, 'degree': 3, 'epsilon': 0.05, 'ker...</td>\n      <td>-0.045989</td>\n      <td>0.030574</td>\n      <td>-0.174905</td>\n      <td>0.040560</td>\n      <td>-0.485221</td>\n      <td>0.240118</td>\n    </tr>\n    <tr>\n      <th>4994</th>\n      <td>svm</td>\n      <td>{'C': 0.95, 'degree': 2, 'epsilon': 0.05, 'ker...</td>\n      <td>-0.045989</td>\n      <td>0.030574</td>\n      <td>-0.174905</td>\n      <td>0.040560</td>\n      <td>-0.485221</td>\n      <td>0.240118</td>\n    </tr>\n    <tr>\n      <th>5314</th>\n      <td>svm</td>\n      <td>{'C': 0.95, 'degree': 7, 'epsilon': 0.05, 'ker...</td>\n      <td>-0.045989</td>\n      <td>0.030574</td>\n      <td>-0.174905</td>\n      <td>0.040560</td>\n      <td>-0.485221</td>\n      <td>0.240118</td>\n    </tr>\n    <tr>\n      <th>4802</th>\n      <td>svm</td>\n      <td>{'C': 0.9, 'degree': 5, 'epsilon': 0.05, 'kern...</td>\n      <td>-0.046110</td>\n      <td>0.031060</td>\n      <td>-0.174976</td>\n      <td>0.041091</td>\n      <td>-0.484541</td>\n      <td>0.243518</td>\n    </tr>\n    <tr>\n      <th>4610</th>\n      <td>svm</td>\n      <td>{'C': 0.9, 'degree': 2, 'epsilon': 0.05, 'kern...</td>\n      <td>-0.046110</td>\n      <td>0.031060</td>\n      <td>-0.174976</td>\n      <td>0.041091</td>\n      <td>-0.484541</td>\n      <td>0.243518</td>\n    </tr>\n    <tr>\n      <th>4674</th>\n      <td>svm</td>\n      <td>{'C': 0.9, 'degree': 3, 'epsilon': 0.05, 'kern...</td>\n      <td>-0.046110</td>\n      <td>0.031060</td>\n      <td>-0.174976</td>\n      <td>0.041091</td>\n      <td>-0.484541</td>\n      <td>0.243518</td>\n    </tr>\n    <tr>\n      <th>4930</th>\n      <td>svm</td>\n      <td>{'C': 0.9, 'degree': 7, 'epsilon': 0.05, 'kern...</td>\n      <td>-0.046110</td>\n      <td>0.031060</td>\n      <td>-0.174976</td>\n      <td>0.041091</td>\n      <td>-0.484541</td>\n      <td>0.243518</td>\n    </tr>\n    <tr>\n      <th>4866</th>\n      <td>svm</td>\n      <td>{'C': 0.9, 'degree': 6, 'epsilon': 0.05, 'kern...</td>\n      <td>-0.046110</td>\n      <td>0.031060</td>\n      <td>-0.174976</td>\n      <td>0.041091</td>\n      <td>-0.484541</td>\n      <td>0.243518</td>\n    </tr>\n    <tr>\n      <th>4738</th>\n      <td>svm</td>\n      <td>{'C': 0.9, 'degree': 4, 'epsilon': 0.05, 'kern...</td>\n      <td>-0.046110</td>\n      <td>0.031060</td>\n      <td>-0.174976</td>\n      <td>0.041091</td>\n      <td>-0.484541</td>\n      <td>0.243518</td>\n    </tr>\n    <tr>\n      <th>4806</th>\n      <td>svm</td>\n      <td>{'C': 0.9, 'degree': 5, 'epsilon': 0.1, 'kerne...</td>\n      <td>-0.046159</td>\n      <td>0.030995</td>\n      <td>-0.175886</td>\n      <td>0.043182</td>\n      <td>-0.486965</td>\n      <td>0.237504</td>\n    </tr>\n    <tr>\n      <th>4934</th>\n      <td>svm</td>\n      <td>{'C': 0.9, 'degree': 7, 'epsilon': 0.1, 'kerne...</td>\n      <td>-0.046159</td>\n      <td>0.030995</td>\n      <td>-0.175886</td>\n      <td>0.043182</td>\n      <td>-0.486965</td>\n      <td>0.237504</td>\n    </tr>\n  </tbody>\n</table>\n</div>"
     },
     "metadata": {},
     "execution_count": 14
    }
   ],
   "source": [
    "grid_search_df.sort_values('mean_test_mse', ascending=False).head(20)"
   ]
  },
  {
   "cell_type": "code",
   "execution_count": 15,
   "metadata": {},
   "outputs": [
    {
     "output_type": "execute_result",
     "data": {
      "text/plain": "array([\"{'C': 0.95, 'degree': 4, 'epsilon': 0.1, 'kernel': 'rbf'}\",\n       \"{'C': 0.95, 'degree': 6, 'epsilon': 0.1, 'kernel': 'rbf'}\",\n       \"{'C': 0.95, 'degree': 7, 'epsilon': 0.1, 'kernel': 'rbf'}\",\n       \"{'C': 0.95, 'degree': 5, 'epsilon': 0.1, 'kernel': 'rbf'}\",\n       \"{'C': 0.95, 'degree': 2, 'epsilon': 0.1, 'kernel': 'rbf'}\",\n       \"{'C': 0.95, 'degree': 3, 'epsilon': 0.1, 'kernel': 'rbf'}\",\n       \"{'C': 0.95, 'degree': 6, 'epsilon': 0.05, 'kernel': 'rbf'}\",\n       \"{'C': 0.95, 'degree': 5, 'epsilon': 0.05, 'kernel': 'rbf'}\",\n       \"{'C': 0.95, 'degree': 4, 'epsilon': 0.05, 'kernel': 'rbf'}\",\n       \"{'C': 0.95, 'degree': 3, 'epsilon': 0.05, 'kernel': 'rbf'}\",\n       \"{'C': 0.95, 'degree': 2, 'epsilon': 0.05, 'kernel': 'rbf'}\",\n       \"{'C': 0.95, 'degree': 7, 'epsilon': 0.05, 'kernel': 'rbf'}\",\n       \"{'C': 0.9, 'degree': 5, 'epsilon': 0.05, 'kernel': 'rbf'}\",\n       \"{'C': 0.9, 'degree': 2, 'epsilon': 0.05, 'kernel': 'rbf'}\",\n       \"{'C': 0.9, 'degree': 3, 'epsilon': 0.05, 'kernel': 'rbf'}\",\n       \"{'C': 0.9, 'degree': 7, 'epsilon': 0.05, 'kernel': 'rbf'}\",\n       \"{'C': 0.9, 'degree': 6, 'epsilon': 0.05, 'kernel': 'rbf'}\",\n       \"{'C': 0.9, 'degree': 4, 'epsilon': 0.05, 'kernel': 'rbf'}\",\n       \"{'C': 0.9, 'degree': 5, 'epsilon': 0.1, 'kernel': 'rbf'}\",\n       \"{'C': 0.9, 'degree': 7, 'epsilon': 0.1, 'kernel': 'rbf'}\"],\n      dtype=object)"
     },
     "metadata": {},
     "execution_count": 15
    }
   ],
   "source": [
    "grid_search_df.sort_values('mean_test_mse', ascending=False)[\"params\"].head(20).values\n"
   ]
  },
  {
   "cell_type": "markdown",
   "metadata": {},
   "source": [
    "# KNN Regressor"
   ]
  },
  {
   "cell_type": "code",
   "execution_count": 16,
   "metadata": {},
   "outputs": [],
   "source": [
    "PATH = 'knn_grid_search_results.csv'\n"
   ]
  },
  {
   "cell_type": "code",
   "execution_count": 17,
   "metadata": {},
   "outputs": [],
   "source": [
    "grid_search_df = pd.read_csv(PATH)\n",
    "grid_search_df[\"model\"] = \"knn\"\n",
    "grid_search_df = grid_search_df[[\"model\", 'params', 'mean_test_mse', 'std_test_mse', 'mean_test_mae', 'std_test_mae', 'mean_test_r2', 'std_test_r2']]\n",
    "summary_df = summary_df.append(grid_search_df.sort_values('mean_test_mse', ascending=False).iloc[0], ignore_index=True)"
   ]
  },
  {
   "cell_type": "code",
   "execution_count": 18,
   "metadata": {},
   "outputs": [
    {
     "output_type": "execute_result",
     "data": {
      "text/plain": "   model                                             params  mean_test_mse  \\\n3    knn  {'metric': 'minkowski', 'n_neighbors': 3, 'p': 2}      -0.063629   \n6    knn  {'metric': 'minkowski', 'n_neighbors': 7, 'p': 1}      -0.068258   \n4    knn  {'metric': 'minkowski', 'n_neighbors': 5, 'p': 1}      -0.068527   \n2    knn  {'metric': 'minkowski', 'n_neighbors': 3, 'p': 1}      -0.075179   \n10   knn  {'metric': 'minkowski', 'n_neighbors': 11, 'p'...      -0.075692   \n5    knn  {'metric': 'minkowski', 'n_neighbors': 5, 'p': 2}      -0.076697   \n8    knn  {'metric': 'minkowski', 'n_neighbors': 9, 'p': 1}      -0.076937   \n9    knn  {'metric': 'minkowski', 'n_neighbors': 9, 'p': 2}      -0.077061   \n7    knn  {'metric': 'minkowski', 'n_neighbors': 7, 'p': 2}      -0.079336   \n11   knn  {'metric': 'minkowski', 'n_neighbors': 11, 'p'...      -0.081363   \n22   knn  {'metric': 'chebyshev', 'n_neighbors': 11, 'p'...      -0.081425   \n23   knn  {'metric': 'chebyshev', 'n_neighbors': 11, 'p'...      -0.081425   \n21   knn  {'metric': 'chebyshev', 'n_neighbors': 9, 'p': 2}      -0.082880   \n20   knn  {'metric': 'chebyshev', 'n_neighbors': 9, 'p': 1}      -0.082880   \n18   knn  {'metric': 'chebyshev', 'n_neighbors': 7, 'p': 1}      -0.084098   \n19   knn  {'metric': 'chebyshev', 'n_neighbors': 7, 'p': 2}      -0.084098   \n16   knn  {'metric': 'chebyshev', 'n_neighbors': 5, 'p': 1}      -0.086683   \n17   knn  {'metric': 'chebyshev', 'n_neighbors': 5, 'p': 2}      -0.086683   \n0    knn  {'metric': 'minkowski', 'n_neighbors': 1, 'p': 1}      -0.088186   \n15   knn  {'metric': 'chebyshev', 'n_neighbors': 3, 'p': 2}      -0.093098   \n14   knn  {'metric': 'chebyshev', 'n_neighbors': 3, 'p': 1}      -0.093098   \n1    knn  {'metric': 'minkowski', 'n_neighbors': 1, 'p': 2}      -0.100998   \n13   knn  {'metric': 'chebyshev', 'n_neighbors': 1, 'p': 2}      -0.126078   \n12   knn  {'metric': 'chebyshev', 'n_neighbors': 1, 'p': 1}      -0.126078   \n\n    std_test_mse  mean_test_mae  std_test_mae  mean_test_r2  std_test_r2  \n3       0.034480      -0.199235      0.058149     -0.242160     0.470938  \n6       0.031544      -0.220056      0.048391     -0.260350     0.214251  \n4       0.035278      -0.219458      0.053974     -0.253913     0.301529  \n2       0.052730      -0.217508      0.089244     -0.136697     0.646608  \n10      0.037768      -0.236336      0.055852     -0.195856     0.249700  \n5       0.032977      -0.227766      0.047066     -0.159548     0.242640  \n8       0.039108      -0.235691      0.055490     -0.183852     0.264808  \n9       0.043733      -0.230158      0.064498     -0.206029     0.307023  \n7       0.039672      -0.233473      0.061078     -0.168319     0.261393  \n11      0.037664      -0.242069      0.058947     -0.125897     0.294386  \n22      0.040126      -0.239868      0.044548     -0.108463     0.257992  \n23      0.040126      -0.239868      0.044548     -0.108463     0.257992  \n21      0.050188      -0.235818      0.053442     -0.123565     0.307496  \n20      0.050188      -0.235818      0.053442     -0.123565     0.307496  \n18      0.057786      -0.237180      0.063197     -0.099701     0.420945  \n19      0.057786      -0.237180      0.063197     -0.099701     0.420945  \n16      0.055298      -0.243322      0.053210     -0.052540     0.453820  \n17      0.055298      -0.243322      0.053210     -0.052540     0.453820  \n0       0.071905      -0.221076      0.086084      0.127720     1.068930  \n15      0.066883      -0.234510      0.088069      0.007125     0.605602  \n14      0.066883      -0.234510      0.088069      0.007125     0.605602  \n1       0.069487      -0.237983      0.086989      0.313344     1.127069  \n13      0.087623      -0.269387      0.095832      0.666540     1.410070  \n12      0.087623      -0.269387      0.095832      0.666540     1.410070  ",
      "text/html": "<div>\n<style scoped>\n    .dataframe tbody tr th:only-of-type {\n        vertical-align: middle;\n    }\n\n    .dataframe tbody tr th {\n        vertical-align: top;\n    }\n\n    .dataframe thead th {\n        text-align: right;\n    }\n</style>\n<table border=\"1\" class=\"dataframe\">\n  <thead>\n    <tr style=\"text-align: right;\">\n      <th></th>\n      <th>model</th>\n      <th>params</th>\n      <th>mean_test_mse</th>\n      <th>std_test_mse</th>\n      <th>mean_test_mae</th>\n      <th>std_test_mae</th>\n      <th>mean_test_r2</th>\n      <th>std_test_r2</th>\n    </tr>\n  </thead>\n  <tbody>\n    <tr>\n      <th>3</th>\n      <td>knn</td>\n      <td>{'metric': 'minkowski', 'n_neighbors': 3, 'p': 2}</td>\n      <td>-0.063629</td>\n      <td>0.034480</td>\n      <td>-0.199235</td>\n      <td>0.058149</td>\n      <td>-0.242160</td>\n      <td>0.470938</td>\n    </tr>\n    <tr>\n      <th>6</th>\n      <td>knn</td>\n      <td>{'metric': 'minkowski', 'n_neighbors': 7, 'p': 1}</td>\n      <td>-0.068258</td>\n      <td>0.031544</td>\n      <td>-0.220056</td>\n      <td>0.048391</td>\n      <td>-0.260350</td>\n      <td>0.214251</td>\n    </tr>\n    <tr>\n      <th>4</th>\n      <td>knn</td>\n      <td>{'metric': 'minkowski', 'n_neighbors': 5, 'p': 1}</td>\n      <td>-0.068527</td>\n      <td>0.035278</td>\n      <td>-0.219458</td>\n      <td>0.053974</td>\n      <td>-0.253913</td>\n      <td>0.301529</td>\n    </tr>\n    <tr>\n      <th>2</th>\n      <td>knn</td>\n      <td>{'metric': 'minkowski', 'n_neighbors': 3, 'p': 1}</td>\n      <td>-0.075179</td>\n      <td>0.052730</td>\n      <td>-0.217508</td>\n      <td>0.089244</td>\n      <td>-0.136697</td>\n      <td>0.646608</td>\n    </tr>\n    <tr>\n      <th>10</th>\n      <td>knn</td>\n      <td>{'metric': 'minkowski', 'n_neighbors': 11, 'p'...</td>\n      <td>-0.075692</td>\n      <td>0.037768</td>\n      <td>-0.236336</td>\n      <td>0.055852</td>\n      <td>-0.195856</td>\n      <td>0.249700</td>\n    </tr>\n    <tr>\n      <th>5</th>\n      <td>knn</td>\n      <td>{'metric': 'minkowski', 'n_neighbors': 5, 'p': 2}</td>\n      <td>-0.076697</td>\n      <td>0.032977</td>\n      <td>-0.227766</td>\n      <td>0.047066</td>\n      <td>-0.159548</td>\n      <td>0.242640</td>\n    </tr>\n    <tr>\n      <th>8</th>\n      <td>knn</td>\n      <td>{'metric': 'minkowski', 'n_neighbors': 9, 'p': 1}</td>\n      <td>-0.076937</td>\n      <td>0.039108</td>\n      <td>-0.235691</td>\n      <td>0.055490</td>\n      <td>-0.183852</td>\n      <td>0.264808</td>\n    </tr>\n    <tr>\n      <th>9</th>\n      <td>knn</td>\n      <td>{'metric': 'minkowski', 'n_neighbors': 9, 'p': 2}</td>\n      <td>-0.077061</td>\n      <td>0.043733</td>\n      <td>-0.230158</td>\n      <td>0.064498</td>\n      <td>-0.206029</td>\n      <td>0.307023</td>\n    </tr>\n    <tr>\n      <th>7</th>\n      <td>knn</td>\n      <td>{'metric': 'minkowski', 'n_neighbors': 7, 'p': 2}</td>\n      <td>-0.079336</td>\n      <td>0.039672</td>\n      <td>-0.233473</td>\n      <td>0.061078</td>\n      <td>-0.168319</td>\n      <td>0.261393</td>\n    </tr>\n    <tr>\n      <th>11</th>\n      <td>knn</td>\n      <td>{'metric': 'minkowski', 'n_neighbors': 11, 'p'...</td>\n      <td>-0.081363</td>\n      <td>0.037664</td>\n      <td>-0.242069</td>\n      <td>0.058947</td>\n      <td>-0.125897</td>\n      <td>0.294386</td>\n    </tr>\n    <tr>\n      <th>22</th>\n      <td>knn</td>\n      <td>{'metric': 'chebyshev', 'n_neighbors': 11, 'p'...</td>\n      <td>-0.081425</td>\n      <td>0.040126</td>\n      <td>-0.239868</td>\n      <td>0.044548</td>\n      <td>-0.108463</td>\n      <td>0.257992</td>\n    </tr>\n    <tr>\n      <th>23</th>\n      <td>knn</td>\n      <td>{'metric': 'chebyshev', 'n_neighbors': 11, 'p'...</td>\n      <td>-0.081425</td>\n      <td>0.040126</td>\n      <td>-0.239868</td>\n      <td>0.044548</td>\n      <td>-0.108463</td>\n      <td>0.257992</td>\n    </tr>\n    <tr>\n      <th>21</th>\n      <td>knn</td>\n      <td>{'metric': 'chebyshev', 'n_neighbors': 9, 'p': 2}</td>\n      <td>-0.082880</td>\n      <td>0.050188</td>\n      <td>-0.235818</td>\n      <td>0.053442</td>\n      <td>-0.123565</td>\n      <td>0.307496</td>\n    </tr>\n    <tr>\n      <th>20</th>\n      <td>knn</td>\n      <td>{'metric': 'chebyshev', 'n_neighbors': 9, 'p': 1}</td>\n      <td>-0.082880</td>\n      <td>0.050188</td>\n      <td>-0.235818</td>\n      <td>0.053442</td>\n      <td>-0.123565</td>\n      <td>0.307496</td>\n    </tr>\n    <tr>\n      <th>18</th>\n      <td>knn</td>\n      <td>{'metric': 'chebyshev', 'n_neighbors': 7, 'p': 1}</td>\n      <td>-0.084098</td>\n      <td>0.057786</td>\n      <td>-0.237180</td>\n      <td>0.063197</td>\n      <td>-0.099701</td>\n      <td>0.420945</td>\n    </tr>\n    <tr>\n      <th>19</th>\n      <td>knn</td>\n      <td>{'metric': 'chebyshev', 'n_neighbors': 7, 'p': 2}</td>\n      <td>-0.084098</td>\n      <td>0.057786</td>\n      <td>-0.237180</td>\n      <td>0.063197</td>\n      <td>-0.099701</td>\n      <td>0.420945</td>\n    </tr>\n    <tr>\n      <th>16</th>\n      <td>knn</td>\n      <td>{'metric': 'chebyshev', 'n_neighbors': 5, 'p': 1}</td>\n      <td>-0.086683</td>\n      <td>0.055298</td>\n      <td>-0.243322</td>\n      <td>0.053210</td>\n      <td>-0.052540</td>\n      <td>0.453820</td>\n    </tr>\n    <tr>\n      <th>17</th>\n      <td>knn</td>\n      <td>{'metric': 'chebyshev', 'n_neighbors': 5, 'p': 2}</td>\n      <td>-0.086683</td>\n      <td>0.055298</td>\n      <td>-0.243322</td>\n      <td>0.053210</td>\n      <td>-0.052540</td>\n      <td>0.453820</td>\n    </tr>\n    <tr>\n      <th>0</th>\n      <td>knn</td>\n      <td>{'metric': 'minkowski', 'n_neighbors': 1, 'p': 1}</td>\n      <td>-0.088186</td>\n      <td>0.071905</td>\n      <td>-0.221076</td>\n      <td>0.086084</td>\n      <td>0.127720</td>\n      <td>1.068930</td>\n    </tr>\n    <tr>\n      <th>15</th>\n      <td>knn</td>\n      <td>{'metric': 'chebyshev', 'n_neighbors': 3, 'p': 2}</td>\n      <td>-0.093098</td>\n      <td>0.066883</td>\n      <td>-0.234510</td>\n      <td>0.088069</td>\n      <td>0.007125</td>\n      <td>0.605602</td>\n    </tr>\n    <tr>\n      <th>14</th>\n      <td>knn</td>\n      <td>{'metric': 'chebyshev', 'n_neighbors': 3, 'p': 1}</td>\n      <td>-0.093098</td>\n      <td>0.066883</td>\n      <td>-0.234510</td>\n      <td>0.088069</td>\n      <td>0.007125</td>\n      <td>0.605602</td>\n    </tr>\n    <tr>\n      <th>1</th>\n      <td>knn</td>\n      <td>{'metric': 'minkowski', 'n_neighbors': 1, 'p': 2}</td>\n      <td>-0.100998</td>\n      <td>0.069487</td>\n      <td>-0.237983</td>\n      <td>0.086989</td>\n      <td>0.313344</td>\n      <td>1.127069</td>\n    </tr>\n    <tr>\n      <th>13</th>\n      <td>knn</td>\n      <td>{'metric': 'chebyshev', 'n_neighbors': 1, 'p': 2}</td>\n      <td>-0.126078</td>\n      <td>0.087623</td>\n      <td>-0.269387</td>\n      <td>0.095832</td>\n      <td>0.666540</td>\n      <td>1.410070</td>\n    </tr>\n    <tr>\n      <th>12</th>\n      <td>knn</td>\n      <td>{'metric': 'chebyshev', 'n_neighbors': 1, 'p': 1}</td>\n      <td>-0.126078</td>\n      <td>0.087623</td>\n      <td>-0.269387</td>\n      <td>0.095832</td>\n      <td>0.666540</td>\n      <td>1.410070</td>\n    </tr>\n  </tbody>\n</table>\n</div>"
     },
     "metadata": {},
     "execution_count": 18
    }
   ],
   "source": [
    "grid_search_df.sort_values('mean_test_mse', ascending=False)"
   ]
  },
  {
   "cell_type": "markdown",
   "metadata": {},
   "source": [
    "# Lasso Regressor"
   ]
  },
  {
   "cell_type": "code",
   "execution_count": 19,
   "metadata": {},
   "outputs": [],
   "source": [
    "PATH = 'lasso_grid_search_results.csv'"
   ]
  },
  {
   "cell_type": "code",
   "execution_count": 20,
   "metadata": {},
   "outputs": [],
   "source": [
    "grid_search_df = pd.read_csv(PATH)\n",
    "grid_search_df[\"model\"] = \"lasso\"\n",
    "grid_search_df = grid_search_df[[\"model\", 'params', 'mean_test_mse', 'std_test_mse', 'mean_test_mae', 'std_test_mae', 'mean_test_r2', 'std_test_r2']]\n",
    "summary_df = summary_df.append(grid_search_df.sort_values('mean_test_mse', ascending=False).iloc[0], ignore_index=True)"
   ]
  },
  {
   "cell_type": "code",
   "execution_count": 21,
   "metadata": {},
   "outputs": [
    {
     "output_type": "execute_result",
     "data": {
      "text/plain": "    model           params  mean_test_mse  std_test_mse  mean_test_mae  \\\n0   lasso  {'alpha': 0.01}      -0.086076      0.034415      -0.252189   \n1   lasso  {'alpha': 0.05}      -0.099114      0.036789      -0.277631   \n2   lasso   {'alpha': 0.1}      -0.099114      0.036789      -0.277631   \n3   lasso   {'alpha': 0.2}      -0.099114      0.036789      -0.277631   \n4   lasso   {'alpha': 0.3}      -0.099114      0.036789      -0.277631   \n5   lasso   {'alpha': 0.4}      -0.099114      0.036789      -0.277631   \n6   lasso   {'alpha': 0.5}      -0.099114      0.036789      -0.277631   \n7   lasso   {'alpha': 0.6}      -0.099114      0.036789      -0.277631   \n8   lasso   {'alpha': 0.7}      -0.099114      0.036789      -0.277631   \n9   lasso   {'alpha': 0.8}      -0.099114      0.036789      -0.277631   \n10  lasso   {'alpha': 0.9}      -0.099114      0.036789      -0.277631   \n11  lasso     {'alpha': 1}      -0.099114      0.036789      -0.277631   \n12  lasso     {'alpha': 2}      -0.099114      0.036789      -0.277631   \n13  lasso     {'alpha': 3}      -0.099114      0.036789      -0.277631   \n14  lasso     {'alpha': 5}      -0.099114      0.036789      -0.277631   \n15  lasso     {'alpha': 7}      -0.099114      0.036789      -0.277631   \n\n    std_test_mae  mean_test_r2  std_test_r2  \n0       0.043549     -0.040955     0.250532  \n1       0.056755      0.065749     0.069789  \n2       0.056755      0.065749     0.069789  \n3       0.056755      0.065749     0.069789  \n4       0.056755      0.065749     0.069789  \n5       0.056755      0.065749     0.069789  \n6       0.056755      0.065749     0.069789  \n7       0.056755      0.065749     0.069789  \n8       0.056755      0.065749     0.069789  \n9       0.056755      0.065749     0.069789  \n10      0.056755      0.065749     0.069789  \n11      0.056755      0.065749     0.069789  \n12      0.056755      0.065749     0.069789  \n13      0.056755      0.065749     0.069789  \n14      0.056755      0.065749     0.069789  \n15      0.056755      0.065749     0.069789  ",
      "text/html": "<div>\n<style scoped>\n    .dataframe tbody tr th:only-of-type {\n        vertical-align: middle;\n    }\n\n    .dataframe tbody tr th {\n        vertical-align: top;\n    }\n\n    .dataframe thead th {\n        text-align: right;\n    }\n</style>\n<table border=\"1\" class=\"dataframe\">\n  <thead>\n    <tr style=\"text-align: right;\">\n      <th></th>\n      <th>model</th>\n      <th>params</th>\n      <th>mean_test_mse</th>\n      <th>std_test_mse</th>\n      <th>mean_test_mae</th>\n      <th>std_test_mae</th>\n      <th>mean_test_r2</th>\n      <th>std_test_r2</th>\n    </tr>\n  </thead>\n  <tbody>\n    <tr>\n      <th>0</th>\n      <td>lasso</td>\n      <td>{'alpha': 0.01}</td>\n      <td>-0.086076</td>\n      <td>0.034415</td>\n      <td>-0.252189</td>\n      <td>0.043549</td>\n      <td>-0.040955</td>\n      <td>0.250532</td>\n    </tr>\n    <tr>\n      <th>1</th>\n      <td>lasso</td>\n      <td>{'alpha': 0.05}</td>\n      <td>-0.099114</td>\n      <td>0.036789</td>\n      <td>-0.277631</td>\n      <td>0.056755</td>\n      <td>0.065749</td>\n      <td>0.069789</td>\n    </tr>\n    <tr>\n      <th>2</th>\n      <td>lasso</td>\n      <td>{'alpha': 0.1}</td>\n      <td>-0.099114</td>\n      <td>0.036789</td>\n      <td>-0.277631</td>\n      <td>0.056755</td>\n      <td>0.065749</td>\n      <td>0.069789</td>\n    </tr>\n    <tr>\n      <th>3</th>\n      <td>lasso</td>\n      <td>{'alpha': 0.2}</td>\n      <td>-0.099114</td>\n      <td>0.036789</td>\n      <td>-0.277631</td>\n      <td>0.056755</td>\n      <td>0.065749</td>\n      <td>0.069789</td>\n    </tr>\n    <tr>\n      <th>4</th>\n      <td>lasso</td>\n      <td>{'alpha': 0.3}</td>\n      <td>-0.099114</td>\n      <td>0.036789</td>\n      <td>-0.277631</td>\n      <td>0.056755</td>\n      <td>0.065749</td>\n      <td>0.069789</td>\n    </tr>\n    <tr>\n      <th>5</th>\n      <td>lasso</td>\n      <td>{'alpha': 0.4}</td>\n      <td>-0.099114</td>\n      <td>0.036789</td>\n      <td>-0.277631</td>\n      <td>0.056755</td>\n      <td>0.065749</td>\n      <td>0.069789</td>\n    </tr>\n    <tr>\n      <th>6</th>\n      <td>lasso</td>\n      <td>{'alpha': 0.5}</td>\n      <td>-0.099114</td>\n      <td>0.036789</td>\n      <td>-0.277631</td>\n      <td>0.056755</td>\n      <td>0.065749</td>\n      <td>0.069789</td>\n    </tr>\n    <tr>\n      <th>7</th>\n      <td>lasso</td>\n      <td>{'alpha': 0.6}</td>\n      <td>-0.099114</td>\n      <td>0.036789</td>\n      <td>-0.277631</td>\n      <td>0.056755</td>\n      <td>0.065749</td>\n      <td>0.069789</td>\n    </tr>\n    <tr>\n      <th>8</th>\n      <td>lasso</td>\n      <td>{'alpha': 0.7}</td>\n      <td>-0.099114</td>\n      <td>0.036789</td>\n      <td>-0.277631</td>\n      <td>0.056755</td>\n      <td>0.065749</td>\n      <td>0.069789</td>\n    </tr>\n    <tr>\n      <th>9</th>\n      <td>lasso</td>\n      <td>{'alpha': 0.8}</td>\n      <td>-0.099114</td>\n      <td>0.036789</td>\n      <td>-0.277631</td>\n      <td>0.056755</td>\n      <td>0.065749</td>\n      <td>0.069789</td>\n    </tr>\n    <tr>\n      <th>10</th>\n      <td>lasso</td>\n      <td>{'alpha': 0.9}</td>\n      <td>-0.099114</td>\n      <td>0.036789</td>\n      <td>-0.277631</td>\n      <td>0.056755</td>\n      <td>0.065749</td>\n      <td>0.069789</td>\n    </tr>\n    <tr>\n      <th>11</th>\n      <td>lasso</td>\n      <td>{'alpha': 1}</td>\n      <td>-0.099114</td>\n      <td>0.036789</td>\n      <td>-0.277631</td>\n      <td>0.056755</td>\n      <td>0.065749</td>\n      <td>0.069789</td>\n    </tr>\n    <tr>\n      <th>12</th>\n      <td>lasso</td>\n      <td>{'alpha': 2}</td>\n      <td>-0.099114</td>\n      <td>0.036789</td>\n      <td>-0.277631</td>\n      <td>0.056755</td>\n      <td>0.065749</td>\n      <td>0.069789</td>\n    </tr>\n    <tr>\n      <th>13</th>\n      <td>lasso</td>\n      <td>{'alpha': 3}</td>\n      <td>-0.099114</td>\n      <td>0.036789</td>\n      <td>-0.277631</td>\n      <td>0.056755</td>\n      <td>0.065749</td>\n      <td>0.069789</td>\n    </tr>\n    <tr>\n      <th>14</th>\n      <td>lasso</td>\n      <td>{'alpha': 5}</td>\n      <td>-0.099114</td>\n      <td>0.036789</td>\n      <td>-0.277631</td>\n      <td>0.056755</td>\n      <td>0.065749</td>\n      <td>0.069789</td>\n    </tr>\n    <tr>\n      <th>15</th>\n      <td>lasso</td>\n      <td>{'alpha': 7}</td>\n      <td>-0.099114</td>\n      <td>0.036789</td>\n      <td>-0.277631</td>\n      <td>0.056755</td>\n      <td>0.065749</td>\n      <td>0.069789</td>\n    </tr>\n  </tbody>\n</table>\n</div>"
     },
     "metadata": {},
     "execution_count": 21
    }
   ],
   "source": [
    "grid_search_df.sort_values('mean_test_mse', ascending=False)"
   ]
  },
  {
   "cell_type": "markdown",
   "metadata": {},
   "source": [
    "# Elastic Net "
   ]
  },
  {
   "cell_type": "code",
   "execution_count": 22,
   "metadata": {},
   "outputs": [],
   "source": [
    "PATH = 'elastic_net_grid_search_results.csv'"
   ]
  },
  {
   "cell_type": "code",
   "execution_count": 23,
   "metadata": {},
   "outputs": [],
   "source": [
    "grid_search_df = pd.read_csv(PATH)\n",
    "grid_search_df[\"model\"] = \"elastic_net\"\n",
    "grid_search_df = grid_search_df[[\"model\", 'params', 'mean_test_mse', 'std_test_mse', 'mean_test_mae', 'std_test_mae', 'mean_test_r2', 'std_test_r2']]\n",
    "summary_df = summary_df.append(grid_search_df.sort_values('mean_test_mse', ascending=False).iloc[0], ignore_index=True)"
   ]
  },
  {
   "cell_type": "code",
   "execution_count": 24,
   "metadata": {},
   "outputs": [
    {
     "output_type": "execute_result",
     "data": {
      "text/plain": "          model                            params  mean_test_mse  \\\n0   elastic_net     {'alpha': 0.1, 'l1_ratio': 0}      -0.084478   \n1   elastic_net  {'alpha': 0.1, 'l1_ratio': 0.05}      -0.088848   \n21  elastic_net     {'alpha': 0.2, 'l1_ratio': 0}      -0.089499   \n42  elastic_net     {'alpha': 0.3, 'l1_ratio': 0}      -0.091750   \n2   elastic_net   {'alpha': 0.1, 'l1_ratio': 0.1}      -0.092744   \n..          ...                               ...            ...   \n94  elastic_net   {'alpha': 0.5, 'l1_ratio': 0.5}      -0.099114   \n23  elastic_net   {'alpha': 0.2, 'l1_ratio': 0.1}      -0.099141   \n85  elastic_net  {'alpha': 0.5, 'l1_ratio': 0.05}      -0.099182   \n4   elastic_net   {'alpha': 0.1, 'l1_ratio': 0.2}      -0.099266   \n5   elastic_net  {'alpha': 0.1, 'l1_ratio': 0.25}      -0.099383   \n\n    std_test_mse  mean_test_mae  std_test_mae  mean_test_r2  std_test_r2  \n0       0.033290      -0.247922      0.043536     -0.070770     0.195726  \n1       0.034984      -0.255097      0.048165     -0.033842     0.158493  \n21      0.034561      -0.256438      0.048494     -0.026866     0.147160  \n42      0.035049      -0.260432      0.050177     -0.006540     0.124588  \n2       0.036142      -0.262176      0.052847      0.000736     0.125201  \n..           ...            ...           ...           ...          ...  \n94      0.036789      -0.277631      0.056755      0.065749     0.069789  \n23      0.037395      -0.276439      0.056952      0.064568     0.077410  \n85      0.036893      -0.277582      0.056716      0.066291     0.070996  \n4       0.037749      -0.275796      0.056958      0.065458     0.083307  \n5       0.037204      -0.277440      0.056609      0.067912     0.074632  \n\n[273 rows x 8 columns]",
      "text/html": "<div>\n<style scoped>\n    .dataframe tbody tr th:only-of-type {\n        vertical-align: middle;\n    }\n\n    .dataframe tbody tr th {\n        vertical-align: top;\n    }\n\n    .dataframe thead th {\n        text-align: right;\n    }\n</style>\n<table border=\"1\" class=\"dataframe\">\n  <thead>\n    <tr style=\"text-align: right;\">\n      <th></th>\n      <th>model</th>\n      <th>params</th>\n      <th>mean_test_mse</th>\n      <th>std_test_mse</th>\n      <th>mean_test_mae</th>\n      <th>std_test_mae</th>\n      <th>mean_test_r2</th>\n      <th>std_test_r2</th>\n    </tr>\n  </thead>\n  <tbody>\n    <tr>\n      <th>0</th>\n      <td>elastic_net</td>\n      <td>{'alpha': 0.1, 'l1_ratio': 0}</td>\n      <td>-0.084478</td>\n      <td>0.033290</td>\n      <td>-0.247922</td>\n      <td>0.043536</td>\n      <td>-0.070770</td>\n      <td>0.195726</td>\n    </tr>\n    <tr>\n      <th>1</th>\n      <td>elastic_net</td>\n      <td>{'alpha': 0.1, 'l1_ratio': 0.05}</td>\n      <td>-0.088848</td>\n      <td>0.034984</td>\n      <td>-0.255097</td>\n      <td>0.048165</td>\n      <td>-0.033842</td>\n      <td>0.158493</td>\n    </tr>\n    <tr>\n      <th>21</th>\n      <td>elastic_net</td>\n      <td>{'alpha': 0.2, 'l1_ratio': 0}</td>\n      <td>-0.089499</td>\n      <td>0.034561</td>\n      <td>-0.256438</td>\n      <td>0.048494</td>\n      <td>-0.026866</td>\n      <td>0.147160</td>\n    </tr>\n    <tr>\n      <th>42</th>\n      <td>elastic_net</td>\n      <td>{'alpha': 0.3, 'l1_ratio': 0}</td>\n      <td>-0.091750</td>\n      <td>0.035049</td>\n      <td>-0.260432</td>\n      <td>0.050177</td>\n      <td>-0.006540</td>\n      <td>0.124588</td>\n    </tr>\n    <tr>\n      <th>2</th>\n      <td>elastic_net</td>\n      <td>{'alpha': 0.1, 'l1_ratio': 0.1}</td>\n      <td>-0.092744</td>\n      <td>0.036142</td>\n      <td>-0.262176</td>\n      <td>0.052847</td>\n      <td>0.000736</td>\n      <td>0.125201</td>\n    </tr>\n    <tr>\n      <th>...</th>\n      <td>...</td>\n      <td>...</td>\n      <td>...</td>\n      <td>...</td>\n      <td>...</td>\n      <td>...</td>\n      <td>...</td>\n      <td>...</td>\n    </tr>\n    <tr>\n      <th>94</th>\n      <td>elastic_net</td>\n      <td>{'alpha': 0.5, 'l1_ratio': 0.5}</td>\n      <td>-0.099114</td>\n      <td>0.036789</td>\n      <td>-0.277631</td>\n      <td>0.056755</td>\n      <td>0.065749</td>\n      <td>0.069789</td>\n    </tr>\n    <tr>\n      <th>23</th>\n      <td>elastic_net</td>\n      <td>{'alpha': 0.2, 'l1_ratio': 0.1}</td>\n      <td>-0.099141</td>\n      <td>0.037395</td>\n      <td>-0.276439</td>\n      <td>0.056952</td>\n      <td>0.064568</td>\n      <td>0.077410</td>\n    </tr>\n    <tr>\n      <th>85</th>\n      <td>elastic_net</td>\n      <td>{'alpha': 0.5, 'l1_ratio': 0.05}</td>\n      <td>-0.099182</td>\n      <td>0.036893</td>\n      <td>-0.277582</td>\n      <td>0.056716</td>\n      <td>0.066291</td>\n      <td>0.070996</td>\n    </tr>\n    <tr>\n      <th>4</th>\n      <td>elastic_net</td>\n      <td>{'alpha': 0.1, 'l1_ratio': 0.2}</td>\n      <td>-0.099266</td>\n      <td>0.037749</td>\n      <td>-0.275796</td>\n      <td>0.056958</td>\n      <td>0.065458</td>\n      <td>0.083307</td>\n    </tr>\n    <tr>\n      <th>5</th>\n      <td>elastic_net</td>\n      <td>{'alpha': 0.1, 'l1_ratio': 0.25}</td>\n      <td>-0.099383</td>\n      <td>0.037204</td>\n      <td>-0.277440</td>\n      <td>0.056609</td>\n      <td>0.067912</td>\n      <td>0.074632</td>\n    </tr>\n  </tbody>\n</table>\n<p>273 rows × 8 columns</p>\n</div>"
     },
     "metadata": {},
     "execution_count": 24
    }
   ],
   "source": [
    "grid_search_df.sort_values('mean_test_mse', ascending=False)"
   ]
  },
  {
   "cell_type": "markdown",
   "metadata": {},
   "source": [
    "# Ridge"
   ]
  },
  {
   "cell_type": "code",
   "execution_count": 25,
   "metadata": {},
   "outputs": [],
   "source": [
    "PATH = 'ridge_grid_search_results.csv'"
   ]
  },
  {
   "cell_type": "code",
   "execution_count": 26,
   "metadata": {},
   "outputs": [],
   "source": [
    "grid_search_df = pd.read_csv(PATH)\n",
    "grid_search_df[\"model\"] = \"ridge\"\n",
    "grid_search_df = grid_search_df[[\"model\", 'params', 'mean_test_mse', 'std_test_mse', 'mean_test_mae', 'std_test_mae', 'mean_test_r2', 'std_test_r2']]\n",
    "summary_df = summary_df.append(grid_search_df.sort_values('mean_test_mse', ascending=False).iloc[0], ignore_index=True)"
   ]
  },
  {
   "cell_type": "code",
   "execution_count": 27,
   "metadata": {},
   "outputs": [
    {
     "output_type": "execute_result",
     "data": {
      "text/plain": "    model           params  mean_test_mse  std_test_mse  mean_test_mae  \\\n6   ridge   {'alpha': 0.5}      -0.066936      0.032149      -0.217078   \n5   ridge   {'alpha': 0.4}      -0.067118      0.033880      -0.215211   \n7   ridge   {'alpha': 0.6}      -0.067330      0.031301      -0.218902   \n8   ridge   {'alpha': 0.7}      -0.067989      0.030863      -0.220944   \n4   ridge   {'alpha': 0.3}      -0.068587      0.037772      -0.213169   \n9   ridge   {'alpha': 0.8}      -0.068763      0.030637      -0.222777   \n10  ridge   {'alpha': 0.9}      -0.069578      0.030532      -0.224412   \n11  ridge     {'alpha': 1}      -0.070394      0.030502      -0.225880   \n3   ridge   {'alpha': 0.2}      -0.073182      0.047661      -0.211374   \n12  ridge     {'alpha': 2}      -0.076900      0.031342      -0.235204   \n13  ridge     {'alpha': 3}      -0.080858      0.032306      -0.241019   \n14  ridge     {'alpha': 4}      -0.083473      0.033015      -0.246083   \n15  ridge     {'alpha': 5}      -0.085340      0.033523      -0.249457   \n16  ridge     {'alpha': 6}      -0.086749      0.033893      -0.251883   \n2   ridge   {'alpha': 0.1}      -0.086803      0.076475      -0.215343   \n17  ridge     {'alpha': 7}      -0.087856      0.034172      -0.253720   \n18  ridge     {'alpha': 8}      -0.088754      0.034388      -0.255165   \n19  ridge     {'alpha': 9}      -0.089499      0.034561      -0.256438   \n20  ridge    {'alpha': 10}      -0.090129      0.034702      -0.257492   \n21  ridge    {'alpha': 13}      -0.091560      0.035009      -0.260071   \n22  ridge    {'alpha': 15}      -0.092262      0.035155      -0.261429   \n23  ridge    {'alpha': 17}      -0.092833      0.035273      -0.262773   \n1   ridge  {'alpha': 0.05}      -0.103121      0.110481      -0.222558   \n0   ridge  {'alpha': 0.01}      -0.128391      0.154929      -0.236711   \n\n    std_test_mae  mean_test_r2  std_test_r2  \n6       0.050178     -0.239702     0.323033  \n5       0.053767     -0.242905     0.326828  \n7       0.047618     -0.232753     0.319824  \n8       0.045571     -0.224362     0.316249  \n4       0.059149     -0.236917     0.335965  \n9       0.044010     -0.215574     0.312233  \n10      0.042805     -0.206880     0.307888  \n11      0.041862     -0.198508     0.303341  \n3       0.067470     -0.207175     0.372225  \n12      0.038669     -0.137203     0.259842  \n13      0.040050     -0.102198     0.227901  \n14      0.042549     -0.079472     0.204917  \n15      0.044393     -0.063295     0.187681  \n16      0.045808     -0.051050     0.174253  \n2       0.078086     -0.105464     0.533085  \n17      0.046928     -0.041371     0.163466  \n18      0.047839     -0.033473     0.154595  \n19      0.048494     -0.026866     0.147160  \n20      0.049054     -0.021233     0.140835  \n21      0.050071     -0.008282     0.126484  \n22      0.050484     -0.001831     0.119524  \n23      0.051052      0.003477     0.113944  \n1       0.086749      0.024614     0.760682  \n0       0.095357      0.248052     1.082243  ",
      "text/html": "<div>\n<style scoped>\n    .dataframe tbody tr th:only-of-type {\n        vertical-align: middle;\n    }\n\n    .dataframe tbody tr th {\n        vertical-align: top;\n    }\n\n    .dataframe thead th {\n        text-align: right;\n    }\n</style>\n<table border=\"1\" class=\"dataframe\">\n  <thead>\n    <tr style=\"text-align: right;\">\n      <th></th>\n      <th>model</th>\n      <th>params</th>\n      <th>mean_test_mse</th>\n      <th>std_test_mse</th>\n      <th>mean_test_mae</th>\n      <th>std_test_mae</th>\n      <th>mean_test_r2</th>\n      <th>std_test_r2</th>\n    </tr>\n  </thead>\n  <tbody>\n    <tr>\n      <th>6</th>\n      <td>ridge</td>\n      <td>{'alpha': 0.5}</td>\n      <td>-0.066936</td>\n      <td>0.032149</td>\n      <td>-0.217078</td>\n      <td>0.050178</td>\n      <td>-0.239702</td>\n      <td>0.323033</td>\n    </tr>\n    <tr>\n      <th>5</th>\n      <td>ridge</td>\n      <td>{'alpha': 0.4}</td>\n      <td>-0.067118</td>\n      <td>0.033880</td>\n      <td>-0.215211</td>\n      <td>0.053767</td>\n      <td>-0.242905</td>\n      <td>0.326828</td>\n    </tr>\n    <tr>\n      <th>7</th>\n      <td>ridge</td>\n      <td>{'alpha': 0.6}</td>\n      <td>-0.067330</td>\n      <td>0.031301</td>\n      <td>-0.218902</td>\n      <td>0.047618</td>\n      <td>-0.232753</td>\n      <td>0.319824</td>\n    </tr>\n    <tr>\n      <th>8</th>\n      <td>ridge</td>\n      <td>{'alpha': 0.7}</td>\n      <td>-0.067989</td>\n      <td>0.030863</td>\n      <td>-0.220944</td>\n      <td>0.045571</td>\n      <td>-0.224362</td>\n      <td>0.316249</td>\n    </tr>\n    <tr>\n      <th>4</th>\n      <td>ridge</td>\n      <td>{'alpha': 0.3}</td>\n      <td>-0.068587</td>\n      <td>0.037772</td>\n      <td>-0.213169</td>\n      <td>0.059149</td>\n      <td>-0.236917</td>\n      <td>0.335965</td>\n    </tr>\n    <tr>\n      <th>9</th>\n      <td>ridge</td>\n      <td>{'alpha': 0.8}</td>\n      <td>-0.068763</td>\n      <td>0.030637</td>\n      <td>-0.222777</td>\n      <td>0.044010</td>\n      <td>-0.215574</td>\n      <td>0.312233</td>\n    </tr>\n    <tr>\n      <th>10</th>\n      <td>ridge</td>\n      <td>{'alpha': 0.9}</td>\n      <td>-0.069578</td>\n      <td>0.030532</td>\n      <td>-0.224412</td>\n      <td>0.042805</td>\n      <td>-0.206880</td>\n      <td>0.307888</td>\n    </tr>\n    <tr>\n      <th>11</th>\n      <td>ridge</td>\n      <td>{'alpha': 1}</td>\n      <td>-0.070394</td>\n      <td>0.030502</td>\n      <td>-0.225880</td>\n      <td>0.041862</td>\n      <td>-0.198508</td>\n      <td>0.303341</td>\n    </tr>\n    <tr>\n      <th>3</th>\n      <td>ridge</td>\n      <td>{'alpha': 0.2}</td>\n      <td>-0.073182</td>\n      <td>0.047661</td>\n      <td>-0.211374</td>\n      <td>0.067470</td>\n      <td>-0.207175</td>\n      <td>0.372225</td>\n    </tr>\n    <tr>\n      <th>12</th>\n      <td>ridge</td>\n      <td>{'alpha': 2}</td>\n      <td>-0.076900</td>\n      <td>0.031342</td>\n      <td>-0.235204</td>\n      <td>0.038669</td>\n      <td>-0.137203</td>\n      <td>0.259842</td>\n    </tr>\n    <tr>\n      <th>13</th>\n      <td>ridge</td>\n      <td>{'alpha': 3}</td>\n      <td>-0.080858</td>\n      <td>0.032306</td>\n      <td>-0.241019</td>\n      <td>0.040050</td>\n      <td>-0.102198</td>\n      <td>0.227901</td>\n    </tr>\n    <tr>\n      <th>14</th>\n      <td>ridge</td>\n      <td>{'alpha': 4}</td>\n      <td>-0.083473</td>\n      <td>0.033015</td>\n      <td>-0.246083</td>\n      <td>0.042549</td>\n      <td>-0.079472</td>\n      <td>0.204917</td>\n    </tr>\n    <tr>\n      <th>15</th>\n      <td>ridge</td>\n      <td>{'alpha': 5}</td>\n      <td>-0.085340</td>\n      <td>0.033523</td>\n      <td>-0.249457</td>\n      <td>0.044393</td>\n      <td>-0.063295</td>\n      <td>0.187681</td>\n    </tr>\n    <tr>\n      <th>16</th>\n      <td>ridge</td>\n      <td>{'alpha': 6}</td>\n      <td>-0.086749</td>\n      <td>0.033893</td>\n      <td>-0.251883</td>\n      <td>0.045808</td>\n      <td>-0.051050</td>\n      <td>0.174253</td>\n    </tr>\n    <tr>\n      <th>2</th>\n      <td>ridge</td>\n      <td>{'alpha': 0.1}</td>\n      <td>-0.086803</td>\n      <td>0.076475</td>\n      <td>-0.215343</td>\n      <td>0.078086</td>\n      <td>-0.105464</td>\n      <td>0.533085</td>\n    </tr>\n    <tr>\n      <th>17</th>\n      <td>ridge</td>\n      <td>{'alpha': 7}</td>\n      <td>-0.087856</td>\n      <td>0.034172</td>\n      <td>-0.253720</td>\n      <td>0.046928</td>\n      <td>-0.041371</td>\n      <td>0.163466</td>\n    </tr>\n    <tr>\n      <th>18</th>\n      <td>ridge</td>\n      <td>{'alpha': 8}</td>\n      <td>-0.088754</td>\n      <td>0.034388</td>\n      <td>-0.255165</td>\n      <td>0.047839</td>\n      <td>-0.033473</td>\n      <td>0.154595</td>\n    </tr>\n    <tr>\n      <th>19</th>\n      <td>ridge</td>\n      <td>{'alpha': 9}</td>\n      <td>-0.089499</td>\n      <td>0.034561</td>\n      <td>-0.256438</td>\n      <td>0.048494</td>\n      <td>-0.026866</td>\n      <td>0.147160</td>\n    </tr>\n    <tr>\n      <th>20</th>\n      <td>ridge</td>\n      <td>{'alpha': 10}</td>\n      <td>-0.090129</td>\n      <td>0.034702</td>\n      <td>-0.257492</td>\n      <td>0.049054</td>\n      <td>-0.021233</td>\n      <td>0.140835</td>\n    </tr>\n    <tr>\n      <th>21</th>\n      <td>ridge</td>\n      <td>{'alpha': 13}</td>\n      <td>-0.091560</td>\n      <td>0.035009</td>\n      <td>-0.260071</td>\n      <td>0.050071</td>\n      <td>-0.008282</td>\n      <td>0.126484</td>\n    </tr>\n    <tr>\n      <th>22</th>\n      <td>ridge</td>\n      <td>{'alpha': 15}</td>\n      <td>-0.092262</td>\n      <td>0.035155</td>\n      <td>-0.261429</td>\n      <td>0.050484</td>\n      <td>-0.001831</td>\n      <td>0.119524</td>\n    </tr>\n    <tr>\n      <th>23</th>\n      <td>ridge</td>\n      <td>{'alpha': 17}</td>\n      <td>-0.092833</td>\n      <td>0.035273</td>\n      <td>-0.262773</td>\n      <td>0.051052</td>\n      <td>0.003477</td>\n      <td>0.113944</td>\n    </tr>\n    <tr>\n      <th>1</th>\n      <td>ridge</td>\n      <td>{'alpha': 0.05}</td>\n      <td>-0.103121</td>\n      <td>0.110481</td>\n      <td>-0.222558</td>\n      <td>0.086749</td>\n      <td>0.024614</td>\n      <td>0.760682</td>\n    </tr>\n    <tr>\n      <th>0</th>\n      <td>ridge</td>\n      <td>{'alpha': 0.01}</td>\n      <td>-0.128391</td>\n      <td>0.154929</td>\n      <td>-0.236711</td>\n      <td>0.095357</td>\n      <td>0.248052</td>\n      <td>1.082243</td>\n    </tr>\n  </tbody>\n</table>\n</div>"
     },
     "metadata": {},
     "execution_count": 27
    }
   ],
   "source": [
    "grid_search_df.sort_values('mean_test_mse', ascending=False)"
   ]
  },
  {
   "cell_type": "markdown",
   "metadata": {},
   "source": [
    "# SGD"
   ]
  },
  {
   "cell_type": "code",
   "execution_count": 28,
   "metadata": {},
   "outputs": [],
   "source": [
    "PATH = 'sgd_grid_search_results.csv'"
   ]
  },
  {
   "cell_type": "code",
   "execution_count": 29,
   "metadata": {},
   "outputs": [],
   "source": [
    "grid_search_df = pd.read_csv(PATH)\n",
    "grid_search_df[\"model\"] = \"sgd\"\n",
    "grid_search_df = grid_search_df[[\"model\", 'params', 'mean_test_mse', 'std_test_mse', 'mean_test_mae', 'std_test_mae', 'mean_test_r2', 'std_test_r2']]\n",
    "summary_df = summary_df.append(grid_search_df.sort_values('mean_test_mse', ascending=False).iloc[0], ignore_index=True)"
   ]
  },
  {
   "cell_type": "code",
   "execution_count": 30,
   "metadata": {},
   "outputs": [
    {
     "output_type": "execute_result",
     "data": {
      "text/plain": "     model                                             params  mean_test_mse  \\\n1866   sgd  {'alpha': 0.0001, 'epsilon': 0.15, 'l1_ratio':...  -6.342071e-02   \n1772   sgd  {'alpha': 0.0001, 'epsilon': 0.15, 'l1_ratio':...  -6.367011e-02   \n2407   sgd  {'alpha': 0.0001, 'epsilon': 0.1, 'l1_ratio': ...  -6.373688e-02   \n1112   sgd  {'alpha': 0.0001, 'epsilon': 0.15, 'l1_ratio':...  -6.386187e-02   \n2600   sgd  {'alpha': 0.0001, 'epsilon': 0.1, 'l1_ratio': ...  -6.424979e-02   \n...    ...                                                ...            ...   \n1991   sgd  {'alpha': 0.0001, 'epsilon': 0.15, 'l1_ratio':...  -2.073691e+26   \n3621   sgd  {'alpha': 0.0001, 'epsilon': 0.05, 'l1_ratio':...  -2.101157e+26   \n3660   sgd  {'alpha': 0.0001, 'epsilon': 0.05, 'l1_ratio':...  -2.146956e+26   \n781    sgd  {'alpha': 0.0001, 'epsilon': 0.2, 'l1_ratio': ...  -2.243990e+26   \n3085   sgd  {'alpha': 0.0001, 'epsilon': 0.05, 'l1_ratio':...  -2.462391e+26   \n\n      std_test_mse  mean_test_mae  std_test_mae  mean_test_r2   std_test_r2  \n1866  3.180368e-02  -2.107051e-01  4.631961e-02 -2.701246e-01  3.391887e-01  \n1772  3.231932e-02  -2.101468e-01  4.721905e-02 -2.647133e-01  3.512687e-01  \n2407  3.213544e-02  -2.122115e-01  5.593492e-02 -2.648463e-01  3.737512e-01  \n1112  2.817752e-02  -2.155396e-01  4.510050e-02 -2.665815e-01  3.171019e-01  \n2600  3.315150e-02  -2.154253e-01  5.278067e-02 -2.497313e-01  4.028615e-01  \n...            ...            ...           ...           ...           ...  \n1991  4.719630e+26  -8.371740e+12  1.050066e+13  1.813602e+27  3.715224e+27  \n3621  3.183535e+26  -9.717147e+12  6.539943e+12  1.746670e+27  2.387501e+27  \n3660  3.058540e+26  -1.026674e+13  8.256817e+12  1.820755e+27  2.333962e+27  \n781   3.385131e+26  -1.131643e+13  8.851312e+12  2.220855e+27  2.846033e+27  \n3085  4.829825e+26  -1.035469e+13  9.266746e+12  2.134461e+27  3.479721e+27  \n\n[20160 rows x 8 columns]",
      "text/html": "<div>\n<style scoped>\n    .dataframe tbody tr th:only-of-type {\n        vertical-align: middle;\n    }\n\n    .dataframe tbody tr th {\n        vertical-align: top;\n    }\n\n    .dataframe thead th {\n        text-align: right;\n    }\n</style>\n<table border=\"1\" class=\"dataframe\">\n  <thead>\n    <tr style=\"text-align: right;\">\n      <th></th>\n      <th>model</th>\n      <th>params</th>\n      <th>mean_test_mse</th>\n      <th>std_test_mse</th>\n      <th>mean_test_mae</th>\n      <th>std_test_mae</th>\n      <th>mean_test_r2</th>\n      <th>std_test_r2</th>\n    </tr>\n  </thead>\n  <tbody>\n    <tr>\n      <th>1866</th>\n      <td>sgd</td>\n      <td>{'alpha': 0.0001, 'epsilon': 0.15, 'l1_ratio':...</td>\n      <td>-6.342071e-02</td>\n      <td>3.180368e-02</td>\n      <td>-2.107051e-01</td>\n      <td>4.631961e-02</td>\n      <td>-2.701246e-01</td>\n      <td>3.391887e-01</td>\n    </tr>\n    <tr>\n      <th>1772</th>\n      <td>sgd</td>\n      <td>{'alpha': 0.0001, 'epsilon': 0.15, 'l1_ratio':...</td>\n      <td>-6.367011e-02</td>\n      <td>3.231932e-02</td>\n      <td>-2.101468e-01</td>\n      <td>4.721905e-02</td>\n      <td>-2.647133e-01</td>\n      <td>3.512687e-01</td>\n    </tr>\n    <tr>\n      <th>2407</th>\n      <td>sgd</td>\n      <td>{'alpha': 0.0001, 'epsilon': 0.1, 'l1_ratio': ...</td>\n      <td>-6.373688e-02</td>\n      <td>3.213544e-02</td>\n      <td>-2.122115e-01</td>\n      <td>5.593492e-02</td>\n      <td>-2.648463e-01</td>\n      <td>3.737512e-01</td>\n    </tr>\n    <tr>\n      <th>1112</th>\n      <td>sgd</td>\n      <td>{'alpha': 0.0001, 'epsilon': 0.15, 'l1_ratio':...</td>\n      <td>-6.386187e-02</td>\n      <td>2.817752e-02</td>\n      <td>-2.155396e-01</td>\n      <td>4.510050e-02</td>\n      <td>-2.665815e-01</td>\n      <td>3.171019e-01</td>\n    </tr>\n    <tr>\n      <th>2600</th>\n      <td>sgd</td>\n      <td>{'alpha': 0.0001, 'epsilon': 0.1, 'l1_ratio': ...</td>\n      <td>-6.424979e-02</td>\n      <td>3.315150e-02</td>\n      <td>-2.154253e-01</td>\n      <td>5.278067e-02</td>\n      <td>-2.497313e-01</td>\n      <td>4.028615e-01</td>\n    </tr>\n    <tr>\n      <th>...</th>\n      <td>...</td>\n      <td>...</td>\n      <td>...</td>\n      <td>...</td>\n      <td>...</td>\n      <td>...</td>\n      <td>...</td>\n      <td>...</td>\n    </tr>\n    <tr>\n      <th>1991</th>\n      <td>sgd</td>\n      <td>{'alpha': 0.0001, 'epsilon': 0.15, 'l1_ratio':...</td>\n      <td>-2.073691e+26</td>\n      <td>4.719630e+26</td>\n      <td>-8.371740e+12</td>\n      <td>1.050066e+13</td>\n      <td>1.813602e+27</td>\n      <td>3.715224e+27</td>\n    </tr>\n    <tr>\n      <th>3621</th>\n      <td>sgd</td>\n      <td>{'alpha': 0.0001, 'epsilon': 0.05, 'l1_ratio':...</td>\n      <td>-2.101157e+26</td>\n      <td>3.183535e+26</td>\n      <td>-9.717147e+12</td>\n      <td>6.539943e+12</td>\n      <td>1.746670e+27</td>\n      <td>2.387501e+27</td>\n    </tr>\n    <tr>\n      <th>3660</th>\n      <td>sgd</td>\n      <td>{'alpha': 0.0001, 'epsilon': 0.05, 'l1_ratio':...</td>\n      <td>-2.146956e+26</td>\n      <td>3.058540e+26</td>\n      <td>-1.026674e+13</td>\n      <td>8.256817e+12</td>\n      <td>1.820755e+27</td>\n      <td>2.333962e+27</td>\n    </tr>\n    <tr>\n      <th>781</th>\n      <td>sgd</td>\n      <td>{'alpha': 0.0001, 'epsilon': 0.2, 'l1_ratio': ...</td>\n      <td>-2.243990e+26</td>\n      <td>3.385131e+26</td>\n      <td>-1.131643e+13</td>\n      <td>8.851312e+12</td>\n      <td>2.220855e+27</td>\n      <td>2.846033e+27</td>\n    </tr>\n    <tr>\n      <th>3085</th>\n      <td>sgd</td>\n      <td>{'alpha': 0.0001, 'epsilon': 0.05, 'l1_ratio':...</td>\n      <td>-2.462391e+26</td>\n      <td>4.829825e+26</td>\n      <td>-1.035469e+13</td>\n      <td>9.266746e+12</td>\n      <td>2.134461e+27</td>\n      <td>3.479721e+27</td>\n    </tr>\n  </tbody>\n</table>\n<p>20160 rows × 8 columns</p>\n</div>"
     },
     "metadata": {},
     "execution_count": 30
    }
   ],
   "source": [
    "grid_search_df.sort_values('mean_test_mse', ascending=False)"
   ]
  },
  {
   "cell_type": "code",
   "execution_count": 31,
   "metadata": {},
   "outputs": [
    {
     "output_type": "execute_result",
     "data": {
      "text/plain": "array([\"{'alpha': 0.0001, 'epsilon': 0.15, 'l1_ratio': 0.85, 'learning_rate': 'adaptive', 'loss': 'epsilon_insensitive', 'penalty': 'l2'}\",\n       \"{'alpha': 0.0001, 'epsilon': 0.15, 'l1_ratio': 0.75, 'learning_rate': 'adaptive', 'loss': 'epsilon_insensitive', 'penalty': 'elasticnet'}\",\n       \"{'alpha': 0.0001, 'epsilon': 0.1, 'l1_ratio': 0.4, 'learning_rate': 'constant', 'loss': 'epsilon_insensitive', 'penalty': 'l1'}\",\n       \"{'alpha': 0.0001, 'epsilon': 0.15, 'l1_ratio': 0.1, 'learning_rate': 'constant', 'loss': 'epsilon_insensitive', 'penalty': 'elasticnet'}\",\n       \"{'alpha': 0.0001, 'epsilon': 0.1, 'l1_ratio': 0.6, 'learning_rate': 'constant', 'loss': 'epsilon_insensitive', 'penalty': 'elasticnet'}\",\n       \"{'alpha': 0.001, 'epsilon': 0.1, 'l1_ratio': 0.2, 'learning_rate': 'constant', 'loss': 'epsilon_insensitive', 'penalty': 'l2'}\",\n       \"{'alpha': 0.0001, 'epsilon': 0.1, 'l1_ratio': 0.05, 'learning_rate': 'constant', 'loss': 'epsilon_insensitive', 'penalty': 'l1'}\",\n       \"{'alpha': 0.0001, 'epsilon': 0.15, 'l1_ratio': 1, 'learning_rate': 'adaptive', 'loss': 'epsilon_insensitive', 'penalty': 'l2'}\",\n       \"{'alpha': 0.001, 'epsilon': 0.1, 'l1_ratio': 0.85, 'learning_rate': 'adaptive', 'loss': 'epsilon_insensitive', 'penalty': 'l1'}\",\n       \"{'alpha': 0.001, 'epsilon': 0.15, 'l1_ratio': 0.05, 'learning_rate': 'adaptive', 'loss': 'epsilon_insensitive', 'penalty': 'l2'}\",\n       \"{'alpha': 0.001, 'epsilon': 0.1, 'l1_ratio': 1, 'learning_rate': 'adaptive', 'loss': 'epsilon_insensitive', 'penalty': 'l2'}\",\n       \"{'alpha': 0.001, 'epsilon': 0.1, 'l1_ratio': 0.75, 'learning_rate': 'adaptive', 'loss': 'epsilon_insensitive', 'penalty': 'l2'}\",\n       \"{'alpha': 0.0001, 'epsilon': 0.15, 'l1_ratio': 0.95, 'learning_rate': 'adaptive', 'loss': 'epsilon_insensitive', 'penalty': 'l1'}\",\n       \"{'alpha': 0.0001, 'epsilon': 0.1, 'l1_ratio': 0.45, 'learning_rate': 'constant', 'loss': 'epsilon_insensitive', 'penalty': 'l1'}\",\n       \"{'alpha': 0.0001, 'epsilon': 0.1, 'l1_ratio': 0.35, 'learning_rate': 'adaptive', 'loss': 'epsilon_insensitive', 'penalty': 'l2'}\",\n       \"{'alpha': 0.0001, 'epsilon': 0.15, 'l1_ratio': 0.3, 'learning_rate': 'adaptive', 'loss': 'epsilon_insensitive', 'penalty': 'l1'}\",\n       \"{'alpha': 0.001, 'epsilon': 0.15, 'l1_ratio': 1, 'learning_rate': 'adaptive', 'loss': 'epsilon_insensitive', 'penalty': 'elasticnet'}\",\n       \"{'alpha': 0.0001, 'epsilon': 0.15, 'l1_ratio': 0.8, 'learning_rate': 'constant', 'loss': 'epsilon_insensitive', 'penalty': 'l1'}\",\n       \"{'alpha': 0.001, 'epsilon': 0.1, 'l1_ratio': 0.65, 'learning_rate': 'adaptive', 'loss': 'epsilon_insensitive', 'penalty': 'elasticnet'}\",\n       \"{'alpha': 0.0001, 'epsilon': 0.15, 'l1_ratio': 0.65, 'learning_rate': 'constant', 'loss': 'epsilon_insensitive', 'penalty': 'elasticnet'}\"],\n      dtype=object)"
     },
     "metadata": {},
     "execution_count": 31
    }
   ],
   "source": [
    "grid_search_df.sort_values('mean_test_mse', ascending=False)[\"params\"].head(20).values"
   ]
  },
  {
   "cell_type": "markdown",
   "metadata": {},
   "source": [
    "# Sumário"
   ]
  },
  {
   "cell_type": "code",
   "execution_count": 32,
   "metadata": {},
   "outputs": [
    {
     "output_type": "execute_result",
     "data": {
      "text/plain": "           model                                             params  \\\n0  random_forest          {'criterion': 'mse', 'n_estimators': 100}   \n1      ada_boost  {'learning_rate': 0.15, 'loss': 'square', 'n_e...   \n2            svm  {'C': 0.95, 'degree': 4, 'epsilon': 0.1, 'kern...   \n7            sgd  {'alpha': 0.0001, 'epsilon': 0.15, 'l1_ratio':...   \n3            knn  {'metric': 'minkowski', 'n_neighbors': 3, 'p': 2}   \n6          ridge                                     {'alpha': 0.5}   \n5    elastic_net                      {'alpha': 0.1, 'l1_ratio': 0}   \n4          lasso                                    {'alpha': 0.01}   \n\n   mean_test_mse  std_test_mse  mean_test_mae  std_test_mae  mean_test_r2  \\\n0      -0.028384      0.026596      -0.124168      0.045149     -0.580208   \n1      -0.030914      0.025963      -0.120986      0.049045     -0.513711   \n2      -0.045870      0.030671      -0.175530      0.042971     -0.489054   \n7      -0.063421      0.031804      -0.210705      0.046320     -0.270125   \n3      -0.063629      0.034480      -0.199235      0.058149     -0.242160   \n6      -0.066936      0.032149      -0.217078      0.050178     -0.239702   \n5      -0.084478      0.033290      -0.247922      0.043536     -0.070770   \n4      -0.086076      0.034415      -0.252189      0.043549     -0.040955   \n\n   std_test_r2  \n0     0.323604  \n1     0.428410  \n2     0.236903  \n7     0.339189  \n3     0.470938  \n6     0.323033  \n5     0.195726  \n4     0.250532  ",
      "text/html": "<div>\n<style scoped>\n    .dataframe tbody tr th:only-of-type {\n        vertical-align: middle;\n    }\n\n    .dataframe tbody tr th {\n        vertical-align: top;\n    }\n\n    .dataframe thead th {\n        text-align: right;\n    }\n</style>\n<table border=\"1\" class=\"dataframe\">\n  <thead>\n    <tr style=\"text-align: right;\">\n      <th></th>\n      <th>model</th>\n      <th>params</th>\n      <th>mean_test_mse</th>\n      <th>std_test_mse</th>\n      <th>mean_test_mae</th>\n      <th>std_test_mae</th>\n      <th>mean_test_r2</th>\n      <th>std_test_r2</th>\n    </tr>\n  </thead>\n  <tbody>\n    <tr>\n      <th>0</th>\n      <td>random_forest</td>\n      <td>{'criterion': 'mse', 'n_estimators': 100}</td>\n      <td>-0.028384</td>\n      <td>0.026596</td>\n      <td>-0.124168</td>\n      <td>0.045149</td>\n      <td>-0.580208</td>\n      <td>0.323604</td>\n    </tr>\n    <tr>\n      <th>1</th>\n      <td>ada_boost</td>\n      <td>{'learning_rate': 0.15, 'loss': 'square', 'n_e...</td>\n      <td>-0.030914</td>\n      <td>0.025963</td>\n      <td>-0.120986</td>\n      <td>0.049045</td>\n      <td>-0.513711</td>\n      <td>0.428410</td>\n    </tr>\n    <tr>\n      <th>2</th>\n      <td>svm</td>\n      <td>{'C': 0.95, 'degree': 4, 'epsilon': 0.1, 'kern...</td>\n      <td>-0.045870</td>\n      <td>0.030671</td>\n      <td>-0.175530</td>\n      <td>0.042971</td>\n      <td>-0.489054</td>\n      <td>0.236903</td>\n    </tr>\n    <tr>\n      <th>7</th>\n      <td>sgd</td>\n      <td>{'alpha': 0.0001, 'epsilon': 0.15, 'l1_ratio':...</td>\n      <td>-0.063421</td>\n      <td>0.031804</td>\n      <td>-0.210705</td>\n      <td>0.046320</td>\n      <td>-0.270125</td>\n      <td>0.339189</td>\n    </tr>\n    <tr>\n      <th>3</th>\n      <td>knn</td>\n      <td>{'metric': 'minkowski', 'n_neighbors': 3, 'p': 2}</td>\n      <td>-0.063629</td>\n      <td>0.034480</td>\n      <td>-0.199235</td>\n      <td>0.058149</td>\n      <td>-0.242160</td>\n      <td>0.470938</td>\n    </tr>\n    <tr>\n      <th>6</th>\n      <td>ridge</td>\n      <td>{'alpha': 0.5}</td>\n      <td>-0.066936</td>\n      <td>0.032149</td>\n      <td>-0.217078</td>\n      <td>0.050178</td>\n      <td>-0.239702</td>\n      <td>0.323033</td>\n    </tr>\n    <tr>\n      <th>5</th>\n      <td>elastic_net</td>\n      <td>{'alpha': 0.1, 'l1_ratio': 0}</td>\n      <td>-0.084478</td>\n      <td>0.033290</td>\n      <td>-0.247922</td>\n      <td>0.043536</td>\n      <td>-0.070770</td>\n      <td>0.195726</td>\n    </tr>\n    <tr>\n      <th>4</th>\n      <td>lasso</td>\n      <td>{'alpha': 0.01}</td>\n      <td>-0.086076</td>\n      <td>0.034415</td>\n      <td>-0.252189</td>\n      <td>0.043549</td>\n      <td>-0.040955</td>\n      <td>0.250532</td>\n    </tr>\n  </tbody>\n</table>\n</div>"
     },
     "metadata": {},
     "execution_count": 32
    }
   ],
   "source": [
    "summary_df.sort_values(by='mean_test_mse', ascending=False).head(20)"
   ]
  },
  {
   "cell_type": "code",
   "execution_count": null,
   "metadata": {},
   "outputs": [],
   "source": []
  }
 ],
 "metadata": {
  "language_info": {
   "name": "python",
   "codemirror_mode": {
    "name": "ipython",
    "version": 3
   },
   "version": "3.6.9-final"
  },
  "orig_nbformat": 2,
  "file_extension": ".py",
  "mimetype": "text/x-python",
  "name": "python",
  "npconvert_exporter": "python",
  "pygments_lexer": "ipython3",
  "version": 3,
  "kernelspec": {
   "name": "python36964bitbertvirtualenv054cbb15ab924922a35a349b12e89805",
   "display_name": "Python 3.6.9 64-bit ('bert': virtualenv)"
  }
 },
 "nbformat": 4,
 "nbformat_minor": 2
}