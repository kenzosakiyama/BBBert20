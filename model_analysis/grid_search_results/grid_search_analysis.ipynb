{
 "cells": [
  {
   "cell_type": "code",
   "execution_count": 1,
   "metadata": {},
   "outputs": [],
   "source": [
    "import pandas as pd"
   ]
  },
  {
   "cell_type": "code",
   "execution_count": 2,
   "metadata": {},
   "outputs": [],
   "source": [
    "summary_df = pd.DataFrame(columns=[\"model\", 'params', 'mean_test_mse', 'std_test_mse', 'mean_test_mae', 'std_test_mae', 'mean_test_r2', 'std_test_r2'])"
   ]
  },
  {
   "cell_type": "code",
   "execution_count": 3,
   "metadata": {},
   "outputs": [
    {
     "output_type": "execute_result",
     "data": {
      "text/plain": "Empty DataFrame\nColumns: [model, params, mean_test_mse, std_test_mse, mean_test_mae, std_test_mae, mean_test_r2, std_test_r2]\nIndex: []",
      "text/html": "<div>\n<style scoped>\n    .dataframe tbody tr th:only-of-type {\n        vertical-align: middle;\n    }\n\n    .dataframe tbody tr th {\n        vertical-align: top;\n    }\n\n    .dataframe thead th {\n        text-align: right;\n    }\n</style>\n<table border=\"1\" class=\"dataframe\">\n  <thead>\n    <tr style=\"text-align: right;\">\n      <th></th>\n      <th>model</th>\n      <th>params</th>\n      <th>mean_test_mse</th>\n      <th>std_test_mse</th>\n      <th>mean_test_mae</th>\n      <th>std_test_mae</th>\n      <th>mean_test_r2</th>\n      <th>std_test_r2</th>\n    </tr>\n  </thead>\n  <tbody>\n  </tbody>\n</table>\n</div>"
     },
     "metadata": {},
     "execution_count": 3
    }
   ],
   "source": [
    "summary_df"
   ]
  },
  {
   "cell_type": "markdown",
   "metadata": {},
   "source": [
    "# Random Forest Regressor"
   ]
  },
  {
   "cell_type": "code",
   "execution_count": 4,
   "metadata": {},
   "outputs": [],
   "source": [
    "PATH = 'random_forest_grid_search_results.csv'"
   ]
  },
  {
   "cell_type": "code",
   "execution_count": 5,
   "metadata": {},
   "outputs": [],
   "source": [
    "grid_search_df = pd.read_csv(PATH)"
   ]
  },
  {
   "cell_type": "code",
   "execution_count": 6,
   "metadata": {},
   "outputs": [],
   "source": [
    "grid_search_df[\"model\"] = \"random_forest\"\n",
    "grid_search_df = grid_search_df[[\"model\", 'params', 'mean_test_mse', 'std_test_mse', 'mean_test_mae', 'std_test_mae', 'mean_test_r2', 'std_test_r2']]\n",
    "summary_df = summary_df.append(grid_search_df.sort_values('mean_test_mse', ascending=False).iloc[0], ignore_index=True)"
   ]
  },
  {
   "cell_type": "code",
   "execution_count": 7,
   "metadata": {},
   "outputs": [
    {
     "output_type": "execute_result",
     "data": {
      "text/plain": "            model                                       params  mean_test_mse  \\\n2   random_forest    {'criterion': 'mse', 'n_estimators': 500}      -0.029938   \n8   random_forest    {'criterion': 'mae', 'n_estimators': 100}      -0.030131   \n0   random_forest    {'criterion': 'mse', 'n_estimators': 100}      -0.030610   \n3   random_forest   {'criterion': 'mse', 'n_estimators': 1000}      -0.030945   \n7   random_forest  {'criterion': 'mse', 'n_estimators': 10000}      -0.031188   \n6   random_forest   {'criterion': 'mse', 'n_estimators': 5000}      -0.031331   \n5   random_forest   {'criterion': 'mse', 'n_estimators': 3000}      -0.031341   \n4   random_forest   {'criterion': 'mse', 'n_estimators': 2000}      -0.031348   \n1   random_forest    {'criterion': 'mse', 'n_estimators': 200}      -0.031611   \n12  random_forest   {'criterion': 'mae', 'n_estimators': 2000}      -0.031950   \n13  random_forest   {'criterion': 'mae', 'n_estimators': 3000}      -0.032334   \n14  random_forest   {'criterion': 'mae', 'n_estimators': 5000}      -0.032484   \n15  random_forest  {'criterion': 'mae', 'n_estimators': 10000}      -0.032520   \n9   random_forest    {'criterion': 'mae', 'n_estimators': 200}      -0.033245   \n11  random_forest   {'criterion': 'mae', 'n_estimators': 1000}      -0.033420   \n10  random_forest    {'criterion': 'mae', 'n_estimators': 500}      -0.033725   \n\n    std_test_mse  mean_test_mae  std_test_mae  mean_test_r2  std_test_r2  \n2       0.027457      -0.126576      0.047442     -0.559129     0.333549  \n8       0.028768      -0.126935      0.050586     -0.551927     0.378913  \n0       0.028050      -0.130278      0.044502     -0.545409     0.337826  \n3       0.027777      -0.127571      0.046929     -0.545316     0.334694  \n7       0.028335      -0.128203      0.047064     -0.538969     0.342720  \n6       0.028910      -0.128102      0.048137     -0.539117     0.348274  \n5       0.028199      -0.128278      0.046644     -0.536888     0.339954  \n4       0.028698      -0.129136      0.046946     -0.538530     0.342307  \n1       0.029182      -0.127961      0.048603     -0.533296     0.360635  \n12      0.030347      -0.130489      0.048737     -0.525480     0.393640  \n13      0.030238      -0.130879      0.050436     -0.521309     0.395173  \n14      0.030503      -0.131388      0.049677     -0.519780     0.393323  \n15      0.030524      -0.131008      0.050309     -0.518419     0.400427  \n9       0.032184      -0.131923      0.051488     -0.506222     0.413650  \n11      0.031608      -0.133605      0.051068     -0.505245     0.409061  \n10      0.032965      -0.132533      0.052658     -0.502872     0.425403  ",
      "text/html": "<div>\n<style scoped>\n    .dataframe tbody tr th:only-of-type {\n        vertical-align: middle;\n    }\n\n    .dataframe tbody tr th {\n        vertical-align: top;\n    }\n\n    .dataframe thead th {\n        text-align: right;\n    }\n</style>\n<table border=\"1\" class=\"dataframe\">\n  <thead>\n    <tr style=\"text-align: right;\">\n      <th></th>\n      <th>model</th>\n      <th>params</th>\n      <th>mean_test_mse</th>\n      <th>std_test_mse</th>\n      <th>mean_test_mae</th>\n      <th>std_test_mae</th>\n      <th>mean_test_r2</th>\n      <th>std_test_r2</th>\n    </tr>\n  </thead>\n  <tbody>\n    <tr>\n      <th>2</th>\n      <td>random_forest</td>\n      <td>{'criterion': 'mse', 'n_estimators': 500}</td>\n      <td>-0.029938</td>\n      <td>0.027457</td>\n      <td>-0.126576</td>\n      <td>0.047442</td>\n      <td>-0.559129</td>\n      <td>0.333549</td>\n    </tr>\n    <tr>\n      <th>8</th>\n      <td>random_forest</td>\n      <td>{'criterion': 'mae', 'n_estimators': 100}</td>\n      <td>-0.030131</td>\n      <td>0.028768</td>\n      <td>-0.126935</td>\n      <td>0.050586</td>\n      <td>-0.551927</td>\n      <td>0.378913</td>\n    </tr>\n    <tr>\n      <th>0</th>\n      <td>random_forest</td>\n      <td>{'criterion': 'mse', 'n_estimators': 100}</td>\n      <td>-0.030610</td>\n      <td>0.028050</td>\n      <td>-0.130278</td>\n      <td>0.044502</td>\n      <td>-0.545409</td>\n      <td>0.337826</td>\n    </tr>\n    <tr>\n      <th>3</th>\n      <td>random_forest</td>\n      <td>{'criterion': 'mse', 'n_estimators': 1000}</td>\n      <td>-0.030945</td>\n      <td>0.027777</td>\n      <td>-0.127571</td>\n      <td>0.046929</td>\n      <td>-0.545316</td>\n      <td>0.334694</td>\n    </tr>\n    <tr>\n      <th>7</th>\n      <td>random_forest</td>\n      <td>{'criterion': 'mse', 'n_estimators': 10000}</td>\n      <td>-0.031188</td>\n      <td>0.028335</td>\n      <td>-0.128203</td>\n      <td>0.047064</td>\n      <td>-0.538969</td>\n      <td>0.342720</td>\n    </tr>\n    <tr>\n      <th>6</th>\n      <td>random_forest</td>\n      <td>{'criterion': 'mse', 'n_estimators': 5000}</td>\n      <td>-0.031331</td>\n      <td>0.028910</td>\n      <td>-0.128102</td>\n      <td>0.048137</td>\n      <td>-0.539117</td>\n      <td>0.348274</td>\n    </tr>\n    <tr>\n      <th>5</th>\n      <td>random_forest</td>\n      <td>{'criterion': 'mse', 'n_estimators': 3000}</td>\n      <td>-0.031341</td>\n      <td>0.028199</td>\n      <td>-0.128278</td>\n      <td>0.046644</td>\n      <td>-0.536888</td>\n      <td>0.339954</td>\n    </tr>\n    <tr>\n      <th>4</th>\n      <td>random_forest</td>\n      <td>{'criterion': 'mse', 'n_estimators': 2000}</td>\n      <td>-0.031348</td>\n      <td>0.028698</td>\n      <td>-0.129136</td>\n      <td>0.046946</td>\n      <td>-0.538530</td>\n      <td>0.342307</td>\n    </tr>\n    <tr>\n      <th>1</th>\n      <td>random_forest</td>\n      <td>{'criterion': 'mse', 'n_estimators': 200}</td>\n      <td>-0.031611</td>\n      <td>0.029182</td>\n      <td>-0.127961</td>\n      <td>0.048603</td>\n      <td>-0.533296</td>\n      <td>0.360635</td>\n    </tr>\n    <tr>\n      <th>12</th>\n      <td>random_forest</td>\n      <td>{'criterion': 'mae', 'n_estimators': 2000}</td>\n      <td>-0.031950</td>\n      <td>0.030347</td>\n      <td>-0.130489</td>\n      <td>0.048737</td>\n      <td>-0.525480</td>\n      <td>0.393640</td>\n    </tr>\n    <tr>\n      <th>13</th>\n      <td>random_forest</td>\n      <td>{'criterion': 'mae', 'n_estimators': 3000}</td>\n      <td>-0.032334</td>\n      <td>0.030238</td>\n      <td>-0.130879</td>\n      <td>0.050436</td>\n      <td>-0.521309</td>\n      <td>0.395173</td>\n    </tr>\n    <tr>\n      <th>14</th>\n      <td>random_forest</td>\n      <td>{'criterion': 'mae', 'n_estimators': 5000}</td>\n      <td>-0.032484</td>\n      <td>0.030503</td>\n      <td>-0.131388</td>\n      <td>0.049677</td>\n      <td>-0.519780</td>\n      <td>0.393323</td>\n    </tr>\n    <tr>\n      <th>15</th>\n      <td>random_forest</td>\n      <td>{'criterion': 'mae', 'n_estimators': 10000}</td>\n      <td>-0.032520</td>\n      <td>0.030524</td>\n      <td>-0.131008</td>\n      <td>0.050309</td>\n      <td>-0.518419</td>\n      <td>0.400427</td>\n    </tr>\n    <tr>\n      <th>9</th>\n      <td>random_forest</td>\n      <td>{'criterion': 'mae', 'n_estimators': 200}</td>\n      <td>-0.033245</td>\n      <td>0.032184</td>\n      <td>-0.131923</td>\n      <td>0.051488</td>\n      <td>-0.506222</td>\n      <td>0.413650</td>\n    </tr>\n    <tr>\n      <th>11</th>\n      <td>random_forest</td>\n      <td>{'criterion': 'mae', 'n_estimators': 1000}</td>\n      <td>-0.033420</td>\n      <td>0.031608</td>\n      <td>-0.133605</td>\n      <td>0.051068</td>\n      <td>-0.505245</td>\n      <td>0.409061</td>\n    </tr>\n    <tr>\n      <th>10</th>\n      <td>random_forest</td>\n      <td>{'criterion': 'mae', 'n_estimators': 500}</td>\n      <td>-0.033725</td>\n      <td>0.032965</td>\n      <td>-0.132533</td>\n      <td>0.052658</td>\n      <td>-0.502872</td>\n      <td>0.425403</td>\n    </tr>\n  </tbody>\n</table>\n</div>"
     },
     "metadata": {},
     "execution_count": 7
    }
   ],
   "source": [
    "grid_search_df.sort_values('mean_test_mse', ascending=False)"
   ]
  },
  {
   "cell_type": "markdown",
   "metadata": {},
   "source": [
    "# Ada Boost Regressor"
   ]
  },
  {
   "cell_type": "code",
   "execution_count": 8,
   "metadata": {},
   "outputs": [],
   "source": [
    "PATH = 'ada_boost_grid_search_results.csv'\n",
    ""
   ]
  },
  {
   "cell_type": "code",
   "execution_count": 9,
   "metadata": {},
   "outputs": [],
   "source": [
    "grid_search_df = pd.read_csv(PATH)\n",
    "grid_search_df[\"model\"] = \"ada_boost\"\n",
    "grid_search_df = grid_search_df[[\"model\", 'params', 'mean_test_mse', 'std_test_mse', 'mean_test_mae', 'std_test_mae', 'mean_test_r2', 'std_test_r2']]\n",
    "summary_df = summary_df.append(grid_search_df.sort_values('mean_test_mse', ascending=False).iloc[0], ignore_index=True)"
   ]
  },
  {
   "cell_type": "code",
   "execution_count": 10,
   "metadata": {},
   "outputs": [
    {
     "output_type": "execute_result",
     "data": {
      "text/plain": "         model                                             params  \\\n384  ada_boost  {'learning_rate': 0.85, 'loss': 'linear', 'n_e...   \n56   ada_boost  {'learning_rate': 0.15, 'loss': 'square', 'n_e...   \n465  ada_boost  {'learning_rate': 1.0, 'loss': 'square', 'n_es...   \n440  ada_boost  {'learning_rate': 0.95, 'loss': 'square', 'n_e...   \n320  ada_boost  {'learning_rate': 0.7, 'loss': 'square', 'n_es...   \n..         ...                                                ...   \n176  ada_boost  {'learning_rate': 0.4, 'loss': 'square', 'n_es...   \n48   ada_boost  {'learning_rate': 0.15, 'loss': 'linear', 'n_e...   \n168  ada_boost  {'learning_rate': 0.4, 'loss': 'linear', 'n_es...   \n344  ada_boost  {'learning_rate': 0.75, 'loss': 'square', 'n_e...   \n80   ada_boost  {'learning_rate': 0.2, 'loss': 'square', 'n_es...   \n\n     mean_test_mse  std_test_mse  mean_test_mae  std_test_mae  mean_test_r2  \\\n384      -0.030575      0.026155      -0.119201      0.043628     -0.537580   \n56       -0.032518      0.028553      -0.120072      0.051530     -0.505864   \n465      -0.032585      0.026788      -0.128022      0.057035     -0.484777   \n440      -0.033604      0.030372      -0.123595      0.054260     -0.498391   \n320      -0.033741      0.025792      -0.127457      0.048995     -0.469674   \n..             ...           ...            ...           ...           ...   \n176      -0.039882      0.034817      -0.130989      0.060395     -0.388519   \n48       -0.040588      0.036076      -0.135587      0.059958     -0.380123   \n168      -0.040679      0.035568      -0.135257      0.060759     -0.376107   \n344      -0.041222      0.032768      -0.138782      0.055831     -0.369619   \n80       -0.042855      0.037705      -0.140533      0.062151     -0.344968   \n\n     std_test_r2  \n384     0.361700  \n56      0.425092  \n465     0.436939  \n440     0.394762  \n320     0.379349  \n..           ...  \n176     0.501445  \n48      0.506059  \n168     0.491849  \n344     0.458506  \n80      0.499083  \n\n[480 rows x 8 columns]",
      "text/html": "<div>\n<style scoped>\n    .dataframe tbody tr th:only-of-type {\n        vertical-align: middle;\n    }\n\n    .dataframe tbody tr th {\n        vertical-align: top;\n    }\n\n    .dataframe thead th {\n        text-align: right;\n    }\n</style>\n<table border=\"1\" class=\"dataframe\">\n  <thead>\n    <tr style=\"text-align: right;\">\n      <th></th>\n      <th>model</th>\n      <th>params</th>\n      <th>mean_test_mse</th>\n      <th>std_test_mse</th>\n      <th>mean_test_mae</th>\n      <th>std_test_mae</th>\n      <th>mean_test_r2</th>\n      <th>std_test_r2</th>\n    </tr>\n  </thead>\n  <tbody>\n    <tr>\n      <th>384</th>\n      <td>ada_boost</td>\n      <td>{'learning_rate': 0.85, 'loss': 'linear', 'n_e...</td>\n      <td>-0.030575</td>\n      <td>0.026155</td>\n      <td>-0.119201</td>\n      <td>0.043628</td>\n      <td>-0.537580</td>\n      <td>0.361700</td>\n    </tr>\n    <tr>\n      <th>56</th>\n      <td>ada_boost</td>\n      <td>{'learning_rate': 0.15, 'loss': 'square', 'n_e...</td>\n      <td>-0.032518</td>\n      <td>0.028553</td>\n      <td>-0.120072</td>\n      <td>0.051530</td>\n      <td>-0.505864</td>\n      <td>0.425092</td>\n    </tr>\n    <tr>\n      <th>465</th>\n      <td>ada_boost</td>\n      <td>{'learning_rate': 1.0, 'loss': 'square', 'n_es...</td>\n      <td>-0.032585</td>\n      <td>0.026788</td>\n      <td>-0.128022</td>\n      <td>0.057035</td>\n      <td>-0.484777</td>\n      <td>0.436939</td>\n    </tr>\n    <tr>\n      <th>440</th>\n      <td>ada_boost</td>\n      <td>{'learning_rate': 0.95, 'loss': 'square', 'n_e...</td>\n      <td>-0.033604</td>\n      <td>0.030372</td>\n      <td>-0.123595</td>\n      <td>0.054260</td>\n      <td>-0.498391</td>\n      <td>0.394762</td>\n    </tr>\n    <tr>\n      <th>320</th>\n      <td>ada_boost</td>\n      <td>{'learning_rate': 0.7, 'loss': 'square', 'n_es...</td>\n      <td>-0.033741</td>\n      <td>0.025792</td>\n      <td>-0.127457</td>\n      <td>0.048995</td>\n      <td>-0.469674</td>\n      <td>0.379349</td>\n    </tr>\n    <tr>\n      <th>...</th>\n      <td>...</td>\n      <td>...</td>\n      <td>...</td>\n      <td>...</td>\n      <td>...</td>\n      <td>...</td>\n      <td>...</td>\n      <td>...</td>\n    </tr>\n    <tr>\n      <th>176</th>\n      <td>ada_boost</td>\n      <td>{'learning_rate': 0.4, 'loss': 'square', 'n_es...</td>\n      <td>-0.039882</td>\n      <td>0.034817</td>\n      <td>-0.130989</td>\n      <td>0.060395</td>\n      <td>-0.388519</td>\n      <td>0.501445</td>\n    </tr>\n    <tr>\n      <th>48</th>\n      <td>ada_boost</td>\n      <td>{'learning_rate': 0.15, 'loss': 'linear', 'n_e...</td>\n      <td>-0.040588</td>\n      <td>0.036076</td>\n      <td>-0.135587</td>\n      <td>0.059958</td>\n      <td>-0.380123</td>\n      <td>0.506059</td>\n    </tr>\n    <tr>\n      <th>168</th>\n      <td>ada_boost</td>\n      <td>{'learning_rate': 0.4, 'loss': 'linear', 'n_es...</td>\n      <td>-0.040679</td>\n      <td>0.035568</td>\n      <td>-0.135257</td>\n      <td>0.060759</td>\n      <td>-0.376107</td>\n      <td>0.491849</td>\n    </tr>\n    <tr>\n      <th>344</th>\n      <td>ada_boost</td>\n      <td>{'learning_rate': 0.75, 'loss': 'square', 'n_e...</td>\n      <td>-0.041222</td>\n      <td>0.032768</td>\n      <td>-0.138782</td>\n      <td>0.055831</td>\n      <td>-0.369619</td>\n      <td>0.458506</td>\n    </tr>\n    <tr>\n      <th>80</th>\n      <td>ada_boost</td>\n      <td>{'learning_rate': 0.2, 'loss': 'square', 'n_es...</td>\n      <td>-0.042855</td>\n      <td>0.037705</td>\n      <td>-0.140533</td>\n      <td>0.062151</td>\n      <td>-0.344968</td>\n      <td>0.499083</td>\n    </tr>\n  </tbody>\n</table>\n<p>480 rows × 8 columns</p>\n</div>"
     },
     "metadata": {},
     "execution_count": 10
    }
   ],
   "source": [
    "grid_search_df.sort_values('mean_test_mse', ascending=False)"
   ]
  },
  {
   "cell_type": "code",
   "execution_count": 11,
   "metadata": {},
   "outputs": [
    {
     "output_type": "execute_result",
     "data": {
      "text/plain": "array([\"{'learning_rate': 0.85, 'loss': 'linear', 'n_estimators': 100}\",\n       \"{'learning_rate': 0.15, 'loss': 'square', 'n_estimators': 100}\",\n       \"{'learning_rate': 1.0, 'loss': 'square', 'n_estimators': 200}\",\n       \"{'learning_rate': 0.95, 'loss': 'square', 'n_estimators': 100}\",\n       \"{'learning_rate': 0.7, 'loss': 'square', 'n_estimators': 100}\",\n       \"{'learning_rate': 0.65, 'loss': 'exponential', 'n_estimators': 200}\",\n       \"{'learning_rate': 1.0, 'loss': 'square', 'n_estimators': 2000}\",\n       \"{'learning_rate': 0.65, 'loss': 'square', 'n_estimators': 100}\",\n       \"{'learning_rate': 0.25, 'loss': 'square', 'n_estimators': 200}\",\n       \"{'learning_rate': 1.0, 'loss': 'square', 'n_estimators': 500}\",\n       \"{'learning_rate': 0.6, 'loss': 'square', 'n_estimators': 200}\",\n       \"{'learning_rate': 0.05, 'loss': 'linear', 'n_estimators': 200}\",\n       \"{'learning_rate': 0.45, 'loss': 'linear', 'n_estimators': 100}\",\n       \"{'learning_rate': 0.8, 'loss': 'square', 'n_estimators': 200}\",\n       \"{'learning_rate': 0.95, 'loss': 'exponential', 'n_estimators': 100}\",\n       \"{'learning_rate': 0.75, 'loss': 'square', 'n_estimators': 200}\",\n       \"{'learning_rate': 0.05, 'loss': 'square', 'n_estimators': 100}\",\n       \"{'learning_rate': 0.4, 'loss': 'linear', 'n_estimators': 200}\",\n       \"{'learning_rate': 0.65, 'loss': 'linear', 'n_estimators': 100}\",\n       \"{'learning_rate': 0.75, 'loss': 'square', 'n_estimators': 3000}\"],\n      dtype=object)"
     },
     "metadata": {},
     "execution_count": 11
    }
   ],
   "source": [
    "grid_search_df.sort_values('mean_test_mse', ascending=False).head(20).params.values"
   ]
  },
  {
   "cell_type": "markdown",
   "metadata": {},
   "source": [
    "# SVM Regressor"
   ]
  },
  {
   "cell_type": "code",
   "execution_count": 12,
   "metadata": {},
   "outputs": [],
   "source": [
    "PATH = 'svr_grid_search_results.csv'\n"
   ]
  },
  {
   "cell_type": "code",
   "execution_count": 13,
   "metadata": {},
   "outputs": [],
   "source": [
    "grid_search_df = pd.read_csv(PATH)\n",
    "grid_search_df[\"model\"] = \"svm\"\n",
    "grid_search_df = grid_search_df[[\"model\", 'params', 'mean_test_mse', 'std_test_mse', 'mean_test_mae', 'std_test_mae', 'mean_test_r2', 'std_test_r2']]\n",
    "summary_df = summary_df.append(grid_search_df.sort_values('mean_test_mse', ascending=False).iloc[0], ignore_index=True)"
   ]
  },
  {
   "cell_type": "code",
   "execution_count": 14,
   "metadata": {},
   "outputs": [
    {
     "output_type": "execute_result",
     "data": {
      "text/plain": "       model                                             params  \\\n318502   svm  {'C': 3.5, 'degree': 5, 'epsilon': 0.05, 'gamm...   \n313062   svm  {'C': 3.5, 'degree': 3, 'epsilon': 0.05, 'gamm...   \n315782   svm  {'C': 3.5, 'degree': 4, 'epsilon': 0.05, 'gamm...   \n321222   svm  {'C': 3.5, 'degree': 6, 'epsilon': 0.05, 'gamm...   \n310342   svm  {'C': 3.5, 'degree': 2, 'epsilon': 0.05, 'gamm...   \n323942   svm  {'C': 3.5, 'degree': 7, 'epsilon': 0.05, 'gamm...   \n340254   svm  {'C': 4, 'degree': 7, 'epsilon': 0.05, 'gamma'...   \n329374   svm  {'C': 4, 'degree': 3, 'epsilon': 0.05, 'gamma'...   \n334814   svm  {'C': 4, 'degree': 5, 'epsilon': 0.05, 'gamma'...   \n332094   svm  {'C': 4, 'degree': 4, 'epsilon': 0.05, 'gamma'...   \n337534   svm  {'C': 4, 'degree': 6, 'epsilon': 0.05, 'gamma'...   \n326654   svm  {'C': 4, 'degree': 2, 'epsilon': 0.05, 'gamma'...   \n315778   svm  {'C': 3.5, 'degree': 4, 'epsilon': 0.05, 'gamm...   \n318498   svm  {'C': 3.5, 'degree': 5, 'epsilon': 0.05, 'gamm...   \n323938   svm  {'C': 3.5, 'degree': 7, 'epsilon': 0.05, 'gamm...   \n321218   svm  {'C': 3.5, 'degree': 6, 'epsilon': 0.05, 'gamm...   \n313058   svm  {'C': 3.5, 'degree': 3, 'epsilon': 0.05, 'gamm...   \n310338   svm  {'C': 3.5, 'degree': 2, 'epsilon': 0.05, 'gamm...   \n296750   svm  {'C': 3, 'degree': 3, 'epsilon': 0.05, 'gamma'...   \n294030   svm  {'C': 3, 'degree': 2, 'epsilon': 0.05, 'gamma'...   \n\n        mean_test_mse  std_test_mse  mean_test_mae  std_test_mae  \\\n318502      -0.040912      0.023257      -0.162918      0.044966   \n313062      -0.040912      0.023257      -0.162918      0.044966   \n315782      -0.040912      0.023257      -0.162918      0.044966   \n321222      -0.040912      0.023257      -0.162918      0.044966   \n310342      -0.040912      0.023257      -0.162918      0.044966   \n323942      -0.040912      0.023257      -0.162918      0.044966   \n340254      -0.041028      0.022594      -0.162784      0.043523   \n329374      -0.041028      0.022594      -0.162784      0.043523   \n334814      -0.041028      0.022594      -0.162784      0.043523   \n332094      -0.041028      0.022594      -0.162784      0.043523   \n337534      -0.041028      0.022594      -0.162784      0.043523   \n326654      -0.041028      0.022594      -0.162784      0.043523   \n315778      -0.041058      0.023167      -0.163754      0.044958   \n318498      -0.041058      0.023167      -0.163754      0.044958   \n323938      -0.041058      0.023167      -0.163754      0.044958   \n321218      -0.041058      0.023167      -0.163754      0.044958   \n313058      -0.041058      0.023167      -0.163754      0.044958   \n310338      -0.041058      0.023167      -0.163754      0.044958   \n296750      -0.041099      0.023865      -0.163425      0.046464   \n294030      -0.041099      0.023865      -0.163425      0.046464   \n\n        mean_test_r2  std_test_r2  \n318502     -0.514062     0.259569  \n313062     -0.514062     0.259569  \n315782     -0.514062     0.259569  \n321222     -0.514062     0.259569  \n310342     -0.514062     0.259569  \n323942     -0.514062     0.259569  \n340254     -0.510122     0.255444  \n329374     -0.510122     0.255444  \n334814     -0.510122     0.255444  \n332094     -0.510122     0.255444  \n337534     -0.510122     0.255444  \n326654     -0.510122     0.255444  \n315778     -0.513295     0.253053  \n318498     -0.513295     0.253053  \n323938     -0.513295     0.253053  \n321218     -0.513295     0.253053  \n313058     -0.513295     0.253053  \n310338     -0.513295     0.253053  \n296750     -0.514957     0.261762  \n294030     -0.514957     0.261762  ",
      "text/html": "<div>\n<style scoped>\n    .dataframe tbody tr th:only-of-type {\n        vertical-align: middle;\n    }\n\n    .dataframe tbody tr th {\n        vertical-align: top;\n    }\n\n    .dataframe thead th {\n        text-align: right;\n    }\n</style>\n<table border=\"1\" class=\"dataframe\">\n  <thead>\n    <tr style=\"text-align: right;\">\n      <th></th>\n      <th>model</th>\n      <th>params</th>\n      <th>mean_test_mse</th>\n      <th>std_test_mse</th>\n      <th>mean_test_mae</th>\n      <th>std_test_mae</th>\n      <th>mean_test_r2</th>\n      <th>std_test_r2</th>\n    </tr>\n  </thead>\n  <tbody>\n    <tr>\n      <th>318502</th>\n      <td>svm</td>\n      <td>{'C': 3.5, 'degree': 5, 'epsilon': 0.05, 'gamm...</td>\n      <td>-0.040912</td>\n      <td>0.023257</td>\n      <td>-0.162918</td>\n      <td>0.044966</td>\n      <td>-0.514062</td>\n      <td>0.259569</td>\n    </tr>\n    <tr>\n      <th>313062</th>\n      <td>svm</td>\n      <td>{'C': 3.5, 'degree': 3, 'epsilon': 0.05, 'gamm...</td>\n      <td>-0.040912</td>\n      <td>0.023257</td>\n      <td>-0.162918</td>\n      <td>0.044966</td>\n      <td>-0.514062</td>\n      <td>0.259569</td>\n    </tr>\n    <tr>\n      <th>315782</th>\n      <td>svm</td>\n      <td>{'C': 3.5, 'degree': 4, 'epsilon': 0.05, 'gamm...</td>\n      <td>-0.040912</td>\n      <td>0.023257</td>\n      <td>-0.162918</td>\n      <td>0.044966</td>\n      <td>-0.514062</td>\n      <td>0.259569</td>\n    </tr>\n    <tr>\n      <th>321222</th>\n      <td>svm</td>\n      <td>{'C': 3.5, 'degree': 6, 'epsilon': 0.05, 'gamm...</td>\n      <td>-0.040912</td>\n      <td>0.023257</td>\n      <td>-0.162918</td>\n      <td>0.044966</td>\n      <td>-0.514062</td>\n      <td>0.259569</td>\n    </tr>\n    <tr>\n      <th>310342</th>\n      <td>svm</td>\n      <td>{'C': 3.5, 'degree': 2, 'epsilon': 0.05, 'gamm...</td>\n      <td>-0.040912</td>\n      <td>0.023257</td>\n      <td>-0.162918</td>\n      <td>0.044966</td>\n      <td>-0.514062</td>\n      <td>0.259569</td>\n    </tr>\n    <tr>\n      <th>323942</th>\n      <td>svm</td>\n      <td>{'C': 3.5, 'degree': 7, 'epsilon': 0.05, 'gamm...</td>\n      <td>-0.040912</td>\n      <td>0.023257</td>\n      <td>-0.162918</td>\n      <td>0.044966</td>\n      <td>-0.514062</td>\n      <td>0.259569</td>\n    </tr>\n    <tr>\n      <th>340254</th>\n      <td>svm</td>\n      <td>{'C': 4, 'degree': 7, 'epsilon': 0.05, 'gamma'...</td>\n      <td>-0.041028</td>\n      <td>0.022594</td>\n      <td>-0.162784</td>\n      <td>0.043523</td>\n      <td>-0.510122</td>\n      <td>0.255444</td>\n    </tr>\n    <tr>\n      <th>329374</th>\n      <td>svm</td>\n      <td>{'C': 4, 'degree': 3, 'epsilon': 0.05, 'gamma'...</td>\n      <td>-0.041028</td>\n      <td>0.022594</td>\n      <td>-0.162784</td>\n      <td>0.043523</td>\n      <td>-0.510122</td>\n      <td>0.255444</td>\n    </tr>\n    <tr>\n      <th>334814</th>\n      <td>svm</td>\n      <td>{'C': 4, 'degree': 5, 'epsilon': 0.05, 'gamma'...</td>\n      <td>-0.041028</td>\n      <td>0.022594</td>\n      <td>-0.162784</td>\n      <td>0.043523</td>\n      <td>-0.510122</td>\n      <td>0.255444</td>\n    </tr>\n    <tr>\n      <th>332094</th>\n      <td>svm</td>\n      <td>{'C': 4, 'degree': 4, 'epsilon': 0.05, 'gamma'...</td>\n      <td>-0.041028</td>\n      <td>0.022594</td>\n      <td>-0.162784</td>\n      <td>0.043523</td>\n      <td>-0.510122</td>\n      <td>0.255444</td>\n    </tr>\n    <tr>\n      <th>337534</th>\n      <td>svm</td>\n      <td>{'C': 4, 'degree': 6, 'epsilon': 0.05, 'gamma'...</td>\n      <td>-0.041028</td>\n      <td>0.022594</td>\n      <td>-0.162784</td>\n      <td>0.043523</td>\n      <td>-0.510122</td>\n      <td>0.255444</td>\n    </tr>\n    <tr>\n      <th>326654</th>\n      <td>svm</td>\n      <td>{'C': 4, 'degree': 2, 'epsilon': 0.05, 'gamma'...</td>\n      <td>-0.041028</td>\n      <td>0.022594</td>\n      <td>-0.162784</td>\n      <td>0.043523</td>\n      <td>-0.510122</td>\n      <td>0.255444</td>\n    </tr>\n    <tr>\n      <th>315778</th>\n      <td>svm</td>\n      <td>{'C': 3.5, 'degree': 4, 'epsilon': 0.05, 'gamm...</td>\n      <td>-0.041058</td>\n      <td>0.023167</td>\n      <td>-0.163754</td>\n      <td>0.044958</td>\n      <td>-0.513295</td>\n      <td>0.253053</td>\n    </tr>\n    <tr>\n      <th>318498</th>\n      <td>svm</td>\n      <td>{'C': 3.5, 'degree': 5, 'epsilon': 0.05, 'gamm...</td>\n      <td>-0.041058</td>\n      <td>0.023167</td>\n      <td>-0.163754</td>\n      <td>0.044958</td>\n      <td>-0.513295</td>\n      <td>0.253053</td>\n    </tr>\n    <tr>\n      <th>323938</th>\n      <td>svm</td>\n      <td>{'C': 3.5, 'degree': 7, 'epsilon': 0.05, 'gamm...</td>\n      <td>-0.041058</td>\n      <td>0.023167</td>\n      <td>-0.163754</td>\n      <td>0.044958</td>\n      <td>-0.513295</td>\n      <td>0.253053</td>\n    </tr>\n    <tr>\n      <th>321218</th>\n      <td>svm</td>\n      <td>{'C': 3.5, 'degree': 6, 'epsilon': 0.05, 'gamm...</td>\n      <td>-0.041058</td>\n      <td>0.023167</td>\n      <td>-0.163754</td>\n      <td>0.044958</td>\n      <td>-0.513295</td>\n      <td>0.253053</td>\n    </tr>\n    <tr>\n      <th>313058</th>\n      <td>svm</td>\n      <td>{'C': 3.5, 'degree': 3, 'epsilon': 0.05, 'gamm...</td>\n      <td>-0.041058</td>\n      <td>0.023167</td>\n      <td>-0.163754</td>\n      <td>0.044958</td>\n      <td>-0.513295</td>\n      <td>0.253053</td>\n    </tr>\n    <tr>\n      <th>310338</th>\n      <td>svm</td>\n      <td>{'C': 3.5, 'degree': 2, 'epsilon': 0.05, 'gamm...</td>\n      <td>-0.041058</td>\n      <td>0.023167</td>\n      <td>-0.163754</td>\n      <td>0.044958</td>\n      <td>-0.513295</td>\n      <td>0.253053</td>\n    </tr>\n    <tr>\n      <th>296750</th>\n      <td>svm</td>\n      <td>{'C': 3, 'degree': 3, 'epsilon': 0.05, 'gamma'...</td>\n      <td>-0.041099</td>\n      <td>0.023865</td>\n      <td>-0.163425</td>\n      <td>0.046464</td>\n      <td>-0.514957</td>\n      <td>0.261762</td>\n    </tr>\n    <tr>\n      <th>294030</th>\n      <td>svm</td>\n      <td>{'C': 3, 'degree': 2, 'epsilon': 0.05, 'gamma'...</td>\n      <td>-0.041099</td>\n      <td>0.023865</td>\n      <td>-0.163425</td>\n      <td>0.046464</td>\n      <td>-0.514957</td>\n      <td>0.261762</td>\n    </tr>\n  </tbody>\n</table>\n</div>"
     },
     "metadata": {},
     "execution_count": 14
    }
   ],
   "source": [
    "grid_search_df.sort_values('mean_test_mse', ascending=False).head(20)"
   ]
  },
  {
   "cell_type": "code",
   "execution_count": 15,
   "metadata": {},
   "outputs": [
    {
     "output_type": "execute_result",
     "data": {
      "text/plain": "array([\"{'C': 3.5, 'degree': 5, 'epsilon': 0.05, 'gamma': 2.6, 'kernel': 'rbf'}\",\n       \"{'C': 3.5, 'degree': 3, 'epsilon': 0.05, 'gamma': 2.6, 'kernel': 'rbf'}\",\n       \"{'C': 3.5, 'degree': 4, 'epsilon': 0.05, 'gamma': 2.6, 'kernel': 'rbf'}\",\n       \"{'C': 3.5, 'degree': 6, 'epsilon': 0.05, 'gamma': 2.6, 'kernel': 'rbf'}\",\n       \"{'C': 3.5, 'degree': 2, 'epsilon': 0.05, 'gamma': 2.6, 'kernel': 'rbf'}\",\n       \"{'C': 3.5, 'degree': 7, 'epsilon': 0.05, 'gamma': 2.6, 'kernel': 'rbf'}\",\n       \"{'C': 4, 'degree': 7, 'epsilon': 0.05, 'gamma': 2.4, 'kernel': 'rbf'}\",\n       \"{'C': 4, 'degree': 3, 'epsilon': 0.05, 'gamma': 2.4, 'kernel': 'rbf'}\",\n       \"{'C': 4, 'degree': 5, 'epsilon': 0.05, 'gamma': 2.4, 'kernel': 'rbf'}\",\n       \"{'C': 4, 'degree': 4, 'epsilon': 0.05, 'gamma': 2.4, 'kernel': 'rbf'}\",\n       \"{'C': 4, 'degree': 6, 'epsilon': 0.05, 'gamma': 2.4, 'kernel': 'rbf'}\",\n       \"{'C': 4, 'degree': 2, 'epsilon': 0.05, 'gamma': 2.4, 'kernel': 'rbf'}\",\n       \"{'C': 3.5, 'degree': 4, 'epsilon': 0.05, 'gamma': 2.5, 'kernel': 'rbf'}\",\n       \"{'C': 3.5, 'degree': 5, 'epsilon': 0.05, 'gamma': 2.5, 'kernel': 'rbf'}\",\n       \"{'C': 3.5, 'degree': 7, 'epsilon': 0.05, 'gamma': 2.5, 'kernel': 'rbf'}\",\n       \"{'C': 3.5, 'degree': 6, 'epsilon': 0.05, 'gamma': 2.5, 'kernel': 'rbf'}\",\n       \"{'C': 3.5, 'degree': 3, 'epsilon': 0.05, 'gamma': 2.5, 'kernel': 'rbf'}\",\n       \"{'C': 3.5, 'degree': 2, 'epsilon': 0.05, 'gamma': 2.5, 'kernel': 'rbf'}\",\n       \"{'C': 3, 'degree': 3, 'epsilon': 0.05, 'gamma': 2.8, 'kernel': 'rbf'}\",\n       \"{'C': 3, 'degree': 2, 'epsilon': 0.05, 'gamma': 2.8, 'kernel': 'rbf'}\"],\n      dtype=object)"
     },
     "metadata": {},
     "execution_count": 15
    }
   ],
   "source": [
    "grid_search_df.sort_values('mean_test_mse', ascending=False)[\"params\"].head(20).values\n"
   ]
  },
  {
   "cell_type": "markdown",
   "metadata": {},
   "source": [
    "# KNN Regressor"
   ]
  },
  {
   "cell_type": "code",
   "execution_count": 16,
   "metadata": {},
   "outputs": [],
   "source": [
    "PATH = 'knn_grid_search_results.csv'\n"
   ]
  },
  {
   "cell_type": "code",
   "execution_count": 17,
   "metadata": {},
   "outputs": [],
   "source": [
    "grid_search_df = pd.read_csv(PATH)\n",
    "grid_search_df[\"model\"] = \"knn\"\n",
    "grid_search_df = grid_search_df[[\"model\", 'params', 'mean_test_mse', 'std_test_mse', 'mean_test_mae', 'std_test_mae', 'mean_test_r2', 'std_test_r2']]\n",
    "summary_df = summary_df.append(grid_search_df.sort_values('mean_test_mse', ascending=False).iloc[0], ignore_index=True)"
   ]
  },
  {
   "cell_type": "code",
   "execution_count": 18,
   "metadata": {},
   "outputs": [
    {
     "output_type": "execute_result",
     "data": {
      "text/plain": "    model                                             params  mean_test_mse  \\\n8     knn  {'metric': 'minkowski', 'n_neighbors': 3, 'p': 2}      -0.063629   \n21    knn  {'metric': 'minkowski', 'n_neighbors': 7, 'p': 1}      -0.068258   \n14    knn  {'metric': 'minkowski', 'n_neighbors': 5, 'p': 1}      -0.068527   \n18    knn  {'metric': 'minkowski', 'n_neighbors': 5, 'p': 5}      -0.074717   \n7     knn  {'metric': 'minkowski', 'n_neighbors': 3, 'p': 1}      -0.075179   \n..    ...                                                ...            ...   \n121   knn  {'metric': 'mahalanobis', 'n_neighbors': 11, '...            NaN   \n122   knn  {'metric': 'mahalanobis', 'n_neighbors': 11, '...            NaN   \n123   knn  {'metric': 'mahalanobis', 'n_neighbors': 11, '...            NaN   \n124   knn  {'metric': 'mahalanobis', 'n_neighbors': 11, '...            NaN   \n125   knn  {'metric': 'mahalanobis', 'n_neighbors': 11, '...            NaN   \n\n     std_test_mse  mean_test_mae  std_test_mae  mean_test_r2  std_test_r2  \n8        0.034480      -0.199235      0.058149     -0.242160     0.470938  \n21       0.031544      -0.220056      0.048391     -0.260350     0.214251  \n14       0.035278      -0.219458      0.053974     -0.253913     0.301529  \n18       0.047311      -0.226751      0.051109     -0.174509     0.384405  \n7        0.052730      -0.217508      0.089244     -0.136697     0.646608  \n..            ...            ...           ...           ...          ...  \n121           NaN            NaN           NaN           NaN          NaN  \n122           NaN            NaN           NaN           NaN          NaN  \n123           NaN            NaN           NaN           NaN          NaN  \n124           NaN            NaN           NaN           NaN          NaN  \n125           NaN            NaN           NaN           NaN          NaN  \n\n[126 rows x 8 columns]",
      "text/html": "<div>\n<style scoped>\n    .dataframe tbody tr th:only-of-type {\n        vertical-align: middle;\n    }\n\n    .dataframe tbody tr th {\n        vertical-align: top;\n    }\n\n    .dataframe thead th {\n        text-align: right;\n    }\n</style>\n<table border=\"1\" class=\"dataframe\">\n  <thead>\n    <tr style=\"text-align: right;\">\n      <th></th>\n      <th>model</th>\n      <th>params</th>\n      <th>mean_test_mse</th>\n      <th>std_test_mse</th>\n      <th>mean_test_mae</th>\n      <th>std_test_mae</th>\n      <th>mean_test_r2</th>\n      <th>std_test_r2</th>\n    </tr>\n  </thead>\n  <tbody>\n    <tr>\n      <th>8</th>\n      <td>knn</td>\n      <td>{'metric': 'minkowski', 'n_neighbors': 3, 'p': 2}</td>\n      <td>-0.063629</td>\n      <td>0.034480</td>\n      <td>-0.199235</td>\n      <td>0.058149</td>\n      <td>-0.242160</td>\n      <td>0.470938</td>\n    </tr>\n    <tr>\n      <th>21</th>\n      <td>knn</td>\n      <td>{'metric': 'minkowski', 'n_neighbors': 7, 'p': 1}</td>\n      <td>-0.068258</td>\n      <td>0.031544</td>\n      <td>-0.220056</td>\n      <td>0.048391</td>\n      <td>-0.260350</td>\n      <td>0.214251</td>\n    </tr>\n    <tr>\n      <th>14</th>\n      <td>knn</td>\n      <td>{'metric': 'minkowski', 'n_neighbors': 5, 'p': 1}</td>\n      <td>-0.068527</td>\n      <td>0.035278</td>\n      <td>-0.219458</td>\n      <td>0.053974</td>\n      <td>-0.253913</td>\n      <td>0.301529</td>\n    </tr>\n    <tr>\n      <th>18</th>\n      <td>knn</td>\n      <td>{'metric': 'minkowski', 'n_neighbors': 5, 'p': 5}</td>\n      <td>-0.074717</td>\n      <td>0.047311</td>\n      <td>-0.226751</td>\n      <td>0.051109</td>\n      <td>-0.174509</td>\n      <td>0.384405</td>\n    </tr>\n    <tr>\n      <th>7</th>\n      <td>knn</td>\n      <td>{'metric': 'minkowski', 'n_neighbors': 3, 'p': 1}</td>\n      <td>-0.075179</td>\n      <td>0.052730</td>\n      <td>-0.217508</td>\n      <td>0.089244</td>\n      <td>-0.136697</td>\n      <td>0.646608</td>\n    </tr>\n    <tr>\n      <th>...</th>\n      <td>...</td>\n      <td>...</td>\n      <td>...</td>\n      <td>...</td>\n      <td>...</td>\n      <td>...</td>\n      <td>...</td>\n      <td>...</td>\n    </tr>\n    <tr>\n      <th>121</th>\n      <td>knn</td>\n      <td>{'metric': 'mahalanobis', 'n_neighbors': 11, '...</td>\n      <td>NaN</td>\n      <td>NaN</td>\n      <td>NaN</td>\n      <td>NaN</td>\n      <td>NaN</td>\n      <td>NaN</td>\n    </tr>\n    <tr>\n      <th>122</th>\n      <td>knn</td>\n      <td>{'metric': 'mahalanobis', 'n_neighbors': 11, '...</td>\n      <td>NaN</td>\n      <td>NaN</td>\n      <td>NaN</td>\n      <td>NaN</td>\n      <td>NaN</td>\n      <td>NaN</td>\n    </tr>\n    <tr>\n      <th>123</th>\n      <td>knn</td>\n      <td>{'metric': 'mahalanobis', 'n_neighbors': 11, '...</td>\n      <td>NaN</td>\n      <td>NaN</td>\n      <td>NaN</td>\n      <td>NaN</td>\n      <td>NaN</td>\n      <td>NaN</td>\n    </tr>\n    <tr>\n      <th>124</th>\n      <td>knn</td>\n      <td>{'metric': 'mahalanobis', 'n_neighbors': 11, '...</td>\n      <td>NaN</td>\n      <td>NaN</td>\n      <td>NaN</td>\n      <td>NaN</td>\n      <td>NaN</td>\n      <td>NaN</td>\n    </tr>\n    <tr>\n      <th>125</th>\n      <td>knn</td>\n      <td>{'metric': 'mahalanobis', 'n_neighbors': 11, '...</td>\n      <td>NaN</td>\n      <td>NaN</td>\n      <td>NaN</td>\n      <td>NaN</td>\n      <td>NaN</td>\n      <td>NaN</td>\n    </tr>\n  </tbody>\n</table>\n<p>126 rows × 8 columns</p>\n</div>"
     },
     "metadata": {},
     "execution_count": 18
    }
   ],
   "source": [
    "grid_search_df.sort_values('mean_test_mse', ascending=False)"
   ]
  },
  {
   "cell_type": "markdown",
   "metadata": {},
   "source": [
    "# Lasso Regressor"
   ]
  },
  {
   "cell_type": "code",
   "execution_count": 19,
   "metadata": {},
   "outputs": [],
   "source": [
    "PATH = 'lasso_grid_search_results.csv'"
   ]
  },
  {
   "cell_type": "code",
   "execution_count": 20,
   "metadata": {},
   "outputs": [],
   "source": [
    "grid_search_df = pd.read_csv(PATH)\n",
    "grid_search_df[\"model\"] = \"lasso\"\n",
    "grid_search_df = grid_search_df[[\"model\", 'params', 'mean_test_mse', 'std_test_mse', 'mean_test_mae', 'std_test_mae', 'mean_test_r2', 'std_test_r2']]\n",
    "summary_df = summary_df.append(grid_search_df.sort_values('mean_test_mse', ascending=False).iloc[0], ignore_index=True)"
   ]
  },
  {
   "cell_type": "code",
   "execution_count": 21,
   "metadata": {},
   "outputs": [
    {
     "output_type": "execute_result",
     "data": {
      "text/plain": "    model             params  mean_test_mse  std_test_mse  mean_test_mae  \\\n3   lasso    {'alpha': 0.01}      -0.086076      0.034415      -0.252189   \n9   lasso     {'alpha': 0.5}      -0.099114      0.036789      -0.277631   \n10  lasso     {'alpha': 0.6}      -0.099114      0.036789      -0.277631   \n17  lasso       {'alpha': 5}      -0.099114      0.036789      -0.277631   \n16  lasso       {'alpha': 3}      -0.099114      0.036789      -0.277631   \n15  lasso       {'alpha': 2}      -0.099114      0.036789      -0.277631   \n14  lasso       {'alpha': 1}      -0.099114      0.036789      -0.277631   \n13  lasso     {'alpha': 0.9}      -0.099114      0.036789      -0.277631   \n12  lasso     {'alpha': 0.8}      -0.099114      0.036789      -0.277631   \n11  lasso     {'alpha': 0.7}      -0.099114      0.036789      -0.277631   \n18  lasso       {'alpha': 7}      -0.099114      0.036789      -0.277631   \n8   lasso     {'alpha': 0.4}      -0.099114      0.036789      -0.277631   \n7   lasso     {'alpha': 0.3}      -0.099114      0.036789      -0.277631   \n6   lasso     {'alpha': 0.2}      -0.099114      0.036789      -0.277631   \n5   lasso     {'alpha': 0.1}      -0.099114      0.036789      -0.277631   \n4   lasso    {'alpha': 0.05}      -0.099114      0.036789      -0.277631   \n2   lasso   {'alpha': 0.001}      -0.108767      0.133201      -0.217045   \n1   lasso  {'alpha': 0.0001}      -0.140237      0.163140      -0.249850   \n0   lasso   {'alpha': 1e-05}      -0.145775      0.160759      -0.257968   \n\n    std_test_mae  mean_test_r2  std_test_r2  \n3       0.043549     -0.040955     0.250532  \n9       0.056755      0.065749     0.069789  \n10      0.056755      0.065749     0.069789  \n17      0.056755      0.065749     0.069789  \n16      0.056755      0.065749     0.069789  \n15      0.056755      0.065749     0.069789  \n14      0.056755      0.065749     0.069789  \n13      0.056755      0.065749     0.069789  \n12      0.056755      0.065749     0.069789  \n11      0.056755      0.065749     0.069789  \n18      0.056755      0.065749     0.069789  \n8       0.056755      0.065749     0.069789  \n7       0.056755      0.065749     0.069789  \n6       0.056755      0.065749     0.069789  \n5       0.056755      0.065749     0.069789  \n4       0.056755      0.065749     0.069789  \n2       0.090265      0.052216     0.903988  \n1       0.100537      0.381572     1.144190  \n0       0.100168      0.461551     1.126916  ",
      "text/html": "<div>\n<style scoped>\n    .dataframe tbody tr th:only-of-type {\n        vertical-align: middle;\n    }\n\n    .dataframe tbody tr th {\n        vertical-align: top;\n    }\n\n    .dataframe thead th {\n        text-align: right;\n    }\n</style>\n<table border=\"1\" class=\"dataframe\">\n  <thead>\n    <tr style=\"text-align: right;\">\n      <th></th>\n      <th>model</th>\n      <th>params</th>\n      <th>mean_test_mse</th>\n      <th>std_test_mse</th>\n      <th>mean_test_mae</th>\n      <th>std_test_mae</th>\n      <th>mean_test_r2</th>\n      <th>std_test_r2</th>\n    </tr>\n  </thead>\n  <tbody>\n    <tr>\n      <th>3</th>\n      <td>lasso</td>\n      <td>{'alpha': 0.01}</td>\n      <td>-0.086076</td>\n      <td>0.034415</td>\n      <td>-0.252189</td>\n      <td>0.043549</td>\n      <td>-0.040955</td>\n      <td>0.250532</td>\n    </tr>\n    <tr>\n      <th>9</th>\n      <td>lasso</td>\n      <td>{'alpha': 0.5}</td>\n      <td>-0.099114</td>\n      <td>0.036789</td>\n      <td>-0.277631</td>\n      <td>0.056755</td>\n      <td>0.065749</td>\n      <td>0.069789</td>\n    </tr>\n    <tr>\n      <th>10</th>\n      <td>lasso</td>\n      <td>{'alpha': 0.6}</td>\n      <td>-0.099114</td>\n      <td>0.036789</td>\n      <td>-0.277631</td>\n      <td>0.056755</td>\n      <td>0.065749</td>\n      <td>0.069789</td>\n    </tr>\n    <tr>\n      <th>17</th>\n      <td>lasso</td>\n      <td>{'alpha': 5}</td>\n      <td>-0.099114</td>\n      <td>0.036789</td>\n      <td>-0.277631</td>\n      <td>0.056755</td>\n      <td>0.065749</td>\n      <td>0.069789</td>\n    </tr>\n    <tr>\n      <th>16</th>\n      <td>lasso</td>\n      <td>{'alpha': 3}</td>\n      <td>-0.099114</td>\n      <td>0.036789</td>\n      <td>-0.277631</td>\n      <td>0.056755</td>\n      <td>0.065749</td>\n      <td>0.069789</td>\n    </tr>\n    <tr>\n      <th>15</th>\n      <td>lasso</td>\n      <td>{'alpha': 2}</td>\n      <td>-0.099114</td>\n      <td>0.036789</td>\n      <td>-0.277631</td>\n      <td>0.056755</td>\n      <td>0.065749</td>\n      <td>0.069789</td>\n    </tr>\n    <tr>\n      <th>14</th>\n      <td>lasso</td>\n      <td>{'alpha': 1}</td>\n      <td>-0.099114</td>\n      <td>0.036789</td>\n      <td>-0.277631</td>\n      <td>0.056755</td>\n      <td>0.065749</td>\n      <td>0.069789</td>\n    </tr>\n    <tr>\n      <th>13</th>\n      <td>lasso</td>\n      <td>{'alpha': 0.9}</td>\n      <td>-0.099114</td>\n      <td>0.036789</td>\n      <td>-0.277631</td>\n      <td>0.056755</td>\n      <td>0.065749</td>\n      <td>0.069789</td>\n    </tr>\n    <tr>\n      <th>12</th>\n      <td>lasso</td>\n      <td>{'alpha': 0.8}</td>\n      <td>-0.099114</td>\n      <td>0.036789</td>\n      <td>-0.277631</td>\n      <td>0.056755</td>\n      <td>0.065749</td>\n      <td>0.069789</td>\n    </tr>\n    <tr>\n      <th>11</th>\n      <td>lasso</td>\n      <td>{'alpha': 0.7}</td>\n      <td>-0.099114</td>\n      <td>0.036789</td>\n      <td>-0.277631</td>\n      <td>0.056755</td>\n      <td>0.065749</td>\n      <td>0.069789</td>\n    </tr>\n    <tr>\n      <th>18</th>\n      <td>lasso</td>\n      <td>{'alpha': 7}</td>\n      <td>-0.099114</td>\n      <td>0.036789</td>\n      <td>-0.277631</td>\n      <td>0.056755</td>\n      <td>0.065749</td>\n      <td>0.069789</td>\n    </tr>\n    <tr>\n      <th>8</th>\n      <td>lasso</td>\n      <td>{'alpha': 0.4}</td>\n      <td>-0.099114</td>\n      <td>0.036789</td>\n      <td>-0.277631</td>\n      <td>0.056755</td>\n      <td>0.065749</td>\n      <td>0.069789</td>\n    </tr>\n    <tr>\n      <th>7</th>\n      <td>lasso</td>\n      <td>{'alpha': 0.3}</td>\n      <td>-0.099114</td>\n      <td>0.036789</td>\n      <td>-0.277631</td>\n      <td>0.056755</td>\n      <td>0.065749</td>\n      <td>0.069789</td>\n    </tr>\n    <tr>\n      <th>6</th>\n      <td>lasso</td>\n      <td>{'alpha': 0.2}</td>\n      <td>-0.099114</td>\n      <td>0.036789</td>\n      <td>-0.277631</td>\n      <td>0.056755</td>\n      <td>0.065749</td>\n      <td>0.069789</td>\n    </tr>\n    <tr>\n      <th>5</th>\n      <td>lasso</td>\n      <td>{'alpha': 0.1}</td>\n      <td>-0.099114</td>\n      <td>0.036789</td>\n      <td>-0.277631</td>\n      <td>0.056755</td>\n      <td>0.065749</td>\n      <td>0.069789</td>\n    </tr>\n    <tr>\n      <th>4</th>\n      <td>lasso</td>\n      <td>{'alpha': 0.05}</td>\n      <td>-0.099114</td>\n      <td>0.036789</td>\n      <td>-0.277631</td>\n      <td>0.056755</td>\n      <td>0.065749</td>\n      <td>0.069789</td>\n    </tr>\n    <tr>\n      <th>2</th>\n      <td>lasso</td>\n      <td>{'alpha': 0.001}</td>\n      <td>-0.108767</td>\n      <td>0.133201</td>\n      <td>-0.217045</td>\n      <td>0.090265</td>\n      <td>0.052216</td>\n      <td>0.903988</td>\n    </tr>\n    <tr>\n      <th>1</th>\n      <td>lasso</td>\n      <td>{'alpha': 0.0001}</td>\n      <td>-0.140237</td>\n      <td>0.163140</td>\n      <td>-0.249850</td>\n      <td>0.100537</td>\n      <td>0.381572</td>\n      <td>1.144190</td>\n    </tr>\n    <tr>\n      <th>0</th>\n      <td>lasso</td>\n      <td>{'alpha': 1e-05}</td>\n      <td>-0.145775</td>\n      <td>0.160759</td>\n      <td>-0.257968</td>\n      <td>0.100168</td>\n      <td>0.461551</td>\n      <td>1.126916</td>\n    </tr>\n  </tbody>\n</table>\n</div>"
     },
     "metadata": {},
     "execution_count": 21
    }
   ],
   "source": [
    "grid_search_df.sort_values('mean_test_mse', ascending=False)"
   ]
  },
  {
   "cell_type": "markdown",
   "metadata": {},
   "source": [
    "# Elastic Net "
   ]
  },
  {
   "cell_type": "code",
   "execution_count": 22,
   "metadata": {},
   "outputs": [],
   "source": [
    "PATH = 'elastic_net_grid_search_results.csv'"
   ]
  },
  {
   "cell_type": "code",
   "execution_count": 23,
   "metadata": {},
   "outputs": [],
   "source": [
    "grid_search_df = pd.read_csv(PATH)\n",
    "grid_search_df[\"model\"] = \"elastic_net\"\n",
    "grid_search_df = grid_search_df[[\"model\", 'params', 'mean_test_mse', 'std_test_mse', 'mean_test_mae', 'std_test_mae', 'mean_test_r2', 'std_test_r2']]\n",
    "summary_df = summary_df.append(grid_search_df.sort_values('mean_test_mse', ascending=False).iloc[0], ignore_index=True)"
   ]
  },
  {
   "cell_type": "code",
   "execution_count": 24,
   "metadata": {},
   "outputs": [
    {
     "output_type": "execute_result",
     "data": {
      "text/plain": "           model                              params  mean_test_mse  \\\n63   elastic_net       {'alpha': 0.1, 'l1_ratio': 0}      -0.084478   \n64   elastic_net    {'alpha': 0.1, 'l1_ratio': 0.05}      -0.088848   \n84   elastic_net       {'alpha': 0.2, 'l1_ratio': 0}      -0.089499   \n105  elastic_net       {'alpha': 0.3, 'l1_ratio': 0}      -0.091750   \n65   elastic_net     {'alpha': 0.1, 'l1_ratio': 0.1}      -0.092744   \n..           ...                                 ...            ...   \n16   elastic_net   {'alpha': 1e-05, 'l1_ratio': 0.8}      -0.145442   \n17   elastic_net  {'alpha': 1e-05, 'l1_ratio': 0.85}      -0.145524   \n18   elastic_net   {'alpha': 1e-05, 'l1_ratio': 0.9}      -0.145607   \n19   elastic_net  {'alpha': 1e-05, 'l1_ratio': 0.95}      -0.145691   \n20   elastic_net     {'alpha': 1e-05, 'l1_ratio': 1}      -0.145775   \n\n     std_test_mse  mean_test_mae  std_test_mae  mean_test_r2  std_test_r2  \n63       0.033290      -0.247922      0.043536     -0.070770     0.195726  \n64       0.034984      -0.255097      0.048165     -0.033842     0.158493  \n84       0.034561      -0.256438      0.048494     -0.026866     0.147160  \n105      0.035049      -0.260432      0.050177     -0.006540     0.124588  \n65       0.036142      -0.262176      0.052847      0.000736     0.125201  \n..            ...            ...           ...           ...          ...  \n16       0.160521      -0.257727      0.100103      0.457773     1.125418  \n17       0.160579      -0.257788      0.100121      0.458704     1.125788  \n18       0.160639      -0.257849      0.100139      0.459649     1.126165  \n19       0.160699      -0.257908      0.100152      0.460595     1.126539  \n20       0.160759      -0.257968      0.100168      0.461551     1.126916  \n\n[336 rows x 8 columns]",
      "text/html": "<div>\n<style scoped>\n    .dataframe tbody tr th:only-of-type {\n        vertical-align: middle;\n    }\n\n    .dataframe tbody tr th {\n        vertical-align: top;\n    }\n\n    .dataframe thead th {\n        text-align: right;\n    }\n</style>\n<table border=\"1\" class=\"dataframe\">\n  <thead>\n    <tr style=\"text-align: right;\">\n      <th></th>\n      <th>model</th>\n      <th>params</th>\n      <th>mean_test_mse</th>\n      <th>std_test_mse</th>\n      <th>mean_test_mae</th>\n      <th>std_test_mae</th>\n      <th>mean_test_r2</th>\n      <th>std_test_r2</th>\n    </tr>\n  </thead>\n  <tbody>\n    <tr>\n      <th>63</th>\n      <td>elastic_net</td>\n      <td>{'alpha': 0.1, 'l1_ratio': 0}</td>\n      <td>-0.084478</td>\n      <td>0.033290</td>\n      <td>-0.247922</td>\n      <td>0.043536</td>\n      <td>-0.070770</td>\n      <td>0.195726</td>\n    </tr>\n    <tr>\n      <th>64</th>\n      <td>elastic_net</td>\n      <td>{'alpha': 0.1, 'l1_ratio': 0.05}</td>\n      <td>-0.088848</td>\n      <td>0.034984</td>\n      <td>-0.255097</td>\n      <td>0.048165</td>\n      <td>-0.033842</td>\n      <td>0.158493</td>\n    </tr>\n    <tr>\n      <th>84</th>\n      <td>elastic_net</td>\n      <td>{'alpha': 0.2, 'l1_ratio': 0}</td>\n      <td>-0.089499</td>\n      <td>0.034561</td>\n      <td>-0.256438</td>\n      <td>0.048494</td>\n      <td>-0.026866</td>\n      <td>0.147160</td>\n    </tr>\n    <tr>\n      <th>105</th>\n      <td>elastic_net</td>\n      <td>{'alpha': 0.3, 'l1_ratio': 0}</td>\n      <td>-0.091750</td>\n      <td>0.035049</td>\n      <td>-0.260432</td>\n      <td>0.050177</td>\n      <td>-0.006540</td>\n      <td>0.124588</td>\n    </tr>\n    <tr>\n      <th>65</th>\n      <td>elastic_net</td>\n      <td>{'alpha': 0.1, 'l1_ratio': 0.1}</td>\n      <td>-0.092744</td>\n      <td>0.036142</td>\n      <td>-0.262176</td>\n      <td>0.052847</td>\n      <td>0.000736</td>\n      <td>0.125201</td>\n    </tr>\n    <tr>\n      <th>...</th>\n      <td>...</td>\n      <td>...</td>\n      <td>...</td>\n      <td>...</td>\n      <td>...</td>\n      <td>...</td>\n      <td>...</td>\n      <td>...</td>\n    </tr>\n    <tr>\n      <th>16</th>\n      <td>elastic_net</td>\n      <td>{'alpha': 1e-05, 'l1_ratio': 0.8}</td>\n      <td>-0.145442</td>\n      <td>0.160521</td>\n      <td>-0.257727</td>\n      <td>0.100103</td>\n      <td>0.457773</td>\n      <td>1.125418</td>\n    </tr>\n    <tr>\n      <th>17</th>\n      <td>elastic_net</td>\n      <td>{'alpha': 1e-05, 'l1_ratio': 0.85}</td>\n      <td>-0.145524</td>\n      <td>0.160579</td>\n      <td>-0.257788</td>\n      <td>0.100121</td>\n      <td>0.458704</td>\n      <td>1.125788</td>\n    </tr>\n    <tr>\n      <th>18</th>\n      <td>elastic_net</td>\n      <td>{'alpha': 1e-05, 'l1_ratio': 0.9}</td>\n      <td>-0.145607</td>\n      <td>0.160639</td>\n      <td>-0.257849</td>\n      <td>0.100139</td>\n      <td>0.459649</td>\n      <td>1.126165</td>\n    </tr>\n    <tr>\n      <th>19</th>\n      <td>elastic_net</td>\n      <td>{'alpha': 1e-05, 'l1_ratio': 0.95}</td>\n      <td>-0.145691</td>\n      <td>0.160699</td>\n      <td>-0.257908</td>\n      <td>0.100152</td>\n      <td>0.460595</td>\n      <td>1.126539</td>\n    </tr>\n    <tr>\n      <th>20</th>\n      <td>elastic_net</td>\n      <td>{'alpha': 1e-05, 'l1_ratio': 1}</td>\n      <td>-0.145775</td>\n      <td>0.160759</td>\n      <td>-0.257968</td>\n      <td>0.100168</td>\n      <td>0.461551</td>\n      <td>1.126916</td>\n    </tr>\n  </tbody>\n</table>\n<p>336 rows × 8 columns</p>\n</div>"
     },
     "metadata": {},
     "execution_count": 24
    }
   ],
   "source": [
    "grid_search_df.sort_values('mean_test_mse', ascending=False)"
   ]
  },
  {
   "cell_type": "markdown",
   "metadata": {},
   "source": [
    "# Ridge"
   ]
  },
  {
   "cell_type": "code",
   "execution_count": 25,
   "metadata": {},
   "outputs": [],
   "source": [
    "PATH = 'ridge_grid_search_results.csv'"
   ]
  },
  {
   "cell_type": "code",
   "execution_count": 26,
   "metadata": {},
   "outputs": [],
   "source": [
    "grid_search_df = pd.read_csv(PATH)\n",
    "grid_search_df[\"model\"] = \"ridge\"\n",
    "grid_search_df = grid_search_df[[\"model\", 'params', 'mean_test_mse', 'std_test_mse', 'mean_test_mae', 'std_test_mae', 'mean_test_r2', 'std_test_r2']]\n",
    "summary_df = summary_df.append(grid_search_df.sort_values('mean_test_mse', ascending=False).iloc[0], ignore_index=True)"
   ]
  },
  {
   "cell_type": "code",
   "execution_count": 27,
   "metadata": {},
   "outputs": [
    {
     "output_type": "execute_result",
     "data": {
      "text/plain": "    model           params  mean_test_mse  std_test_mse  mean_test_mae  \\\n6   ridge   {'alpha': 0.5}      -0.066936      0.032149      -0.217078   \n5   ridge   {'alpha': 0.4}      -0.067118      0.033880      -0.215211   \n7   ridge   {'alpha': 0.6}      -0.067330      0.031301      -0.218902   \n8   ridge   {'alpha': 0.7}      -0.067989      0.030863      -0.220944   \n4   ridge   {'alpha': 0.3}      -0.068587      0.037772      -0.213169   \n9   ridge   {'alpha': 0.8}      -0.068763      0.030637      -0.222777   \n10  ridge   {'alpha': 0.9}      -0.069578      0.030532      -0.224412   \n11  ridge     {'alpha': 1}      -0.070394      0.030502      -0.225880   \n3   ridge   {'alpha': 0.2}      -0.073182      0.047661      -0.211374   \n12  ridge     {'alpha': 2}      -0.076900      0.031342      -0.235204   \n13  ridge     {'alpha': 3}      -0.080858      0.032306      -0.241019   \n14  ridge     {'alpha': 4}      -0.083473      0.033015      -0.246083   \n15  ridge     {'alpha': 5}      -0.085340      0.033523      -0.249457   \n16  ridge     {'alpha': 6}      -0.086749      0.033893      -0.251883   \n2   ridge   {'alpha': 0.1}      -0.086803      0.076475      -0.215343   \n17  ridge     {'alpha': 7}      -0.087856      0.034172      -0.253720   \n18  ridge     {'alpha': 8}      -0.088754      0.034388      -0.255165   \n19  ridge     {'alpha': 9}      -0.089499      0.034561      -0.256438   \n20  ridge    {'alpha': 10}      -0.090129      0.034702      -0.257492   \n21  ridge    {'alpha': 13}      -0.091560      0.035009      -0.260071   \n22  ridge    {'alpha': 15}      -0.092262      0.035155      -0.261429   \n23  ridge    {'alpha': 17}      -0.092833      0.035273      -0.262773   \n1   ridge  {'alpha': 0.05}      -0.103121      0.110481      -0.222558   \n0   ridge  {'alpha': 0.01}      -0.128391      0.154929      -0.236711   \n\n    std_test_mae  mean_test_r2  std_test_r2  \n6       0.050178     -0.239702     0.323033  \n5       0.053767     -0.242905     0.326828  \n7       0.047618     -0.232753     0.319824  \n8       0.045571     -0.224362     0.316249  \n4       0.059149     -0.236917     0.335965  \n9       0.044010     -0.215574     0.312233  \n10      0.042805     -0.206880     0.307888  \n11      0.041862     -0.198508     0.303341  \n3       0.067470     -0.207175     0.372225  \n12      0.038669     -0.137203     0.259842  \n13      0.040050     -0.102198     0.227901  \n14      0.042549     -0.079472     0.204917  \n15      0.044393     -0.063295     0.187681  \n16      0.045808     -0.051050     0.174253  \n2       0.078086     -0.105464     0.533085  \n17      0.046928     -0.041371     0.163466  \n18      0.047839     -0.033473     0.154595  \n19      0.048494     -0.026866     0.147160  \n20      0.049054     -0.021233     0.140835  \n21      0.050071     -0.008282     0.126484  \n22      0.050484     -0.001831     0.119524  \n23      0.051052      0.003477     0.113944  \n1       0.086749      0.024614     0.760682  \n0       0.095357      0.248052     1.082243  ",
      "text/html": "<div>\n<style scoped>\n    .dataframe tbody tr th:only-of-type {\n        vertical-align: middle;\n    }\n\n    .dataframe tbody tr th {\n        vertical-align: top;\n    }\n\n    .dataframe thead th {\n        text-align: right;\n    }\n</style>\n<table border=\"1\" class=\"dataframe\">\n  <thead>\n    <tr style=\"text-align: right;\">\n      <th></th>\n      <th>model</th>\n      <th>params</th>\n      <th>mean_test_mse</th>\n      <th>std_test_mse</th>\n      <th>mean_test_mae</th>\n      <th>std_test_mae</th>\n      <th>mean_test_r2</th>\n      <th>std_test_r2</th>\n    </tr>\n  </thead>\n  <tbody>\n    <tr>\n      <th>6</th>\n      <td>ridge</td>\n      <td>{'alpha': 0.5}</td>\n      <td>-0.066936</td>\n      <td>0.032149</td>\n      <td>-0.217078</td>\n      <td>0.050178</td>\n      <td>-0.239702</td>\n      <td>0.323033</td>\n    </tr>\n    <tr>\n      <th>5</th>\n      <td>ridge</td>\n      <td>{'alpha': 0.4}</td>\n      <td>-0.067118</td>\n      <td>0.033880</td>\n      <td>-0.215211</td>\n      <td>0.053767</td>\n      <td>-0.242905</td>\n      <td>0.326828</td>\n    </tr>\n    <tr>\n      <th>7</th>\n      <td>ridge</td>\n      <td>{'alpha': 0.6}</td>\n      <td>-0.067330</td>\n      <td>0.031301</td>\n      <td>-0.218902</td>\n      <td>0.047618</td>\n      <td>-0.232753</td>\n      <td>0.319824</td>\n    </tr>\n    <tr>\n      <th>8</th>\n      <td>ridge</td>\n      <td>{'alpha': 0.7}</td>\n      <td>-0.067989</td>\n      <td>0.030863</td>\n      <td>-0.220944</td>\n      <td>0.045571</td>\n      <td>-0.224362</td>\n      <td>0.316249</td>\n    </tr>\n    <tr>\n      <th>4</th>\n      <td>ridge</td>\n      <td>{'alpha': 0.3}</td>\n      <td>-0.068587</td>\n      <td>0.037772</td>\n      <td>-0.213169</td>\n      <td>0.059149</td>\n      <td>-0.236917</td>\n      <td>0.335965</td>\n    </tr>\n    <tr>\n      <th>9</th>\n      <td>ridge</td>\n      <td>{'alpha': 0.8}</td>\n      <td>-0.068763</td>\n      <td>0.030637</td>\n      <td>-0.222777</td>\n      <td>0.044010</td>\n      <td>-0.215574</td>\n      <td>0.312233</td>\n    </tr>\n    <tr>\n      <th>10</th>\n      <td>ridge</td>\n      <td>{'alpha': 0.9}</td>\n      <td>-0.069578</td>\n      <td>0.030532</td>\n      <td>-0.224412</td>\n      <td>0.042805</td>\n      <td>-0.206880</td>\n      <td>0.307888</td>\n    </tr>\n    <tr>\n      <th>11</th>\n      <td>ridge</td>\n      <td>{'alpha': 1}</td>\n      <td>-0.070394</td>\n      <td>0.030502</td>\n      <td>-0.225880</td>\n      <td>0.041862</td>\n      <td>-0.198508</td>\n      <td>0.303341</td>\n    </tr>\n    <tr>\n      <th>3</th>\n      <td>ridge</td>\n      <td>{'alpha': 0.2}</td>\n      <td>-0.073182</td>\n      <td>0.047661</td>\n      <td>-0.211374</td>\n      <td>0.067470</td>\n      <td>-0.207175</td>\n      <td>0.372225</td>\n    </tr>\n    <tr>\n      <th>12</th>\n      <td>ridge</td>\n      <td>{'alpha': 2}</td>\n      <td>-0.076900</td>\n      <td>0.031342</td>\n      <td>-0.235204</td>\n      <td>0.038669</td>\n      <td>-0.137203</td>\n      <td>0.259842</td>\n    </tr>\n    <tr>\n      <th>13</th>\n      <td>ridge</td>\n      <td>{'alpha': 3}</td>\n      <td>-0.080858</td>\n      <td>0.032306</td>\n      <td>-0.241019</td>\n      <td>0.040050</td>\n      <td>-0.102198</td>\n      <td>0.227901</td>\n    </tr>\n    <tr>\n      <th>14</th>\n      <td>ridge</td>\n      <td>{'alpha': 4}</td>\n      <td>-0.083473</td>\n      <td>0.033015</td>\n      <td>-0.246083</td>\n      <td>0.042549</td>\n      <td>-0.079472</td>\n      <td>0.204917</td>\n    </tr>\n    <tr>\n      <th>15</th>\n      <td>ridge</td>\n      <td>{'alpha': 5}</td>\n      <td>-0.085340</td>\n      <td>0.033523</td>\n      <td>-0.249457</td>\n      <td>0.044393</td>\n      <td>-0.063295</td>\n      <td>0.187681</td>\n    </tr>\n    <tr>\n      <th>16</th>\n      <td>ridge</td>\n      <td>{'alpha': 6}</td>\n      <td>-0.086749</td>\n      <td>0.033893</td>\n      <td>-0.251883</td>\n      <td>0.045808</td>\n      <td>-0.051050</td>\n      <td>0.174253</td>\n    </tr>\n    <tr>\n      <th>2</th>\n      <td>ridge</td>\n      <td>{'alpha': 0.1}</td>\n      <td>-0.086803</td>\n      <td>0.076475</td>\n      <td>-0.215343</td>\n      <td>0.078086</td>\n      <td>-0.105464</td>\n      <td>0.533085</td>\n    </tr>\n    <tr>\n      <th>17</th>\n      <td>ridge</td>\n      <td>{'alpha': 7}</td>\n      <td>-0.087856</td>\n      <td>0.034172</td>\n      <td>-0.253720</td>\n      <td>0.046928</td>\n      <td>-0.041371</td>\n      <td>0.163466</td>\n    </tr>\n    <tr>\n      <th>18</th>\n      <td>ridge</td>\n      <td>{'alpha': 8}</td>\n      <td>-0.088754</td>\n      <td>0.034388</td>\n      <td>-0.255165</td>\n      <td>0.047839</td>\n      <td>-0.033473</td>\n      <td>0.154595</td>\n    </tr>\n    <tr>\n      <th>19</th>\n      <td>ridge</td>\n      <td>{'alpha': 9}</td>\n      <td>-0.089499</td>\n      <td>0.034561</td>\n      <td>-0.256438</td>\n      <td>0.048494</td>\n      <td>-0.026866</td>\n      <td>0.147160</td>\n    </tr>\n    <tr>\n      <th>20</th>\n      <td>ridge</td>\n      <td>{'alpha': 10}</td>\n      <td>-0.090129</td>\n      <td>0.034702</td>\n      <td>-0.257492</td>\n      <td>0.049054</td>\n      <td>-0.021233</td>\n      <td>0.140835</td>\n    </tr>\n    <tr>\n      <th>21</th>\n      <td>ridge</td>\n      <td>{'alpha': 13}</td>\n      <td>-0.091560</td>\n      <td>0.035009</td>\n      <td>-0.260071</td>\n      <td>0.050071</td>\n      <td>-0.008282</td>\n      <td>0.126484</td>\n    </tr>\n    <tr>\n      <th>22</th>\n      <td>ridge</td>\n      <td>{'alpha': 15}</td>\n      <td>-0.092262</td>\n      <td>0.035155</td>\n      <td>-0.261429</td>\n      <td>0.050484</td>\n      <td>-0.001831</td>\n      <td>0.119524</td>\n    </tr>\n    <tr>\n      <th>23</th>\n      <td>ridge</td>\n      <td>{'alpha': 17}</td>\n      <td>-0.092833</td>\n      <td>0.035273</td>\n      <td>-0.262773</td>\n      <td>0.051052</td>\n      <td>0.003477</td>\n      <td>0.113944</td>\n    </tr>\n    <tr>\n      <th>1</th>\n      <td>ridge</td>\n      <td>{'alpha': 0.05}</td>\n      <td>-0.103121</td>\n      <td>0.110481</td>\n      <td>-0.222558</td>\n      <td>0.086749</td>\n      <td>0.024614</td>\n      <td>0.760682</td>\n    </tr>\n    <tr>\n      <th>0</th>\n      <td>ridge</td>\n      <td>{'alpha': 0.01}</td>\n      <td>-0.128391</td>\n      <td>0.154929</td>\n      <td>-0.236711</td>\n      <td>0.095357</td>\n      <td>0.248052</td>\n      <td>1.082243</td>\n    </tr>\n  </tbody>\n</table>\n</div>"
     },
     "metadata": {},
     "execution_count": 27
    }
   ],
   "source": [
    "grid_search_df.sort_values('mean_test_mse', ascending=False)"
   ]
  },
  {
   "cell_type": "markdown",
   "metadata": {},
   "source": [
    "# SGD"
   ]
  },
  {
   "cell_type": "code",
   "execution_count": 28,
   "metadata": {},
   "outputs": [],
   "source": [
    "PATH = 'sgd_grid_search_results.csv'"
   ]
  },
  {
   "cell_type": "code",
   "execution_count": 29,
   "metadata": {},
   "outputs": [],
   "source": [
    "grid_search_df = pd.read_csv(PATH)\n",
    "grid_search_df[\"model\"] = \"sgd\"\n",
    "grid_search_df = grid_search_df[[\"model\", 'params', 'mean_test_mse', 'std_test_mse', 'mean_test_mae', 'std_test_mae', 'mean_test_r2', 'std_test_r2']]\n",
    "summary_df = summary_df.append(grid_search_df.sort_values('mean_test_mse', ascending=False).iloc[0], ignore_index=True)"
   ]
  },
  {
   "cell_type": "code",
   "execution_count": 30,
   "metadata": {},
   "outputs": [
    {
     "output_type": "execute_result",
     "data": {
      "text/plain": "      model                                             params  mean_test_mse  \\\n35396   sgd  {'alpha': 0.01, 'epsilon': 0.25, 'l1_ratio': 0...  -6.231040e-02   \n5624    sgd  {'alpha': 1e-06, 'epsilon': 0.15, 'l1_ratio': ...  -6.320558e-02   \n5048    sgd  {'alpha': 1e-06, 'epsilon': 0.15, 'l1_ratio': ...  -6.322692e-02   \n6535    sgd  {'alpha': 1e-06, 'epsilon': 0.1, 'l1_ratio': 0...  -6.344523e-02   \n22123   sgd  {'alpha': 0.0001, 'epsilon': 0.15, 'l1_ratio':...  -6.360109e-02   \n...     ...                                                ...            ...   \n5590    sgd  {'alpha': 1e-06, 'epsilon': 0.15, 'l1_ratio': ...  -6.033187e+27   \n5109    sgd  {'alpha': 1e-06, 'epsilon': 0.15, 'l1_ratio': ...  -6.249847e+27   \n1117    sgd  {'alpha': 1e-06, 'epsilon': 0.45, 'l1_ratio': ...  -6.480848e+27   \n1607    sgd  {'alpha': 1e-06, 'epsilon': 0.45, 'l1_ratio': ...  -6.816757e+27   \n1749    sgd  {'alpha': 1e-06, 'epsilon': 0.45, 'l1_ratio': ...  -7.408346e+27   \n\n       std_test_mse  mean_test_mae  std_test_mae  mean_test_r2   std_test_r2  \n35396  2.247617e-02  -2.048198e-01  3.859409e-02 -2.704084e-01  3.171440e-01  \n5624   2.812287e-02  -2.089950e-01  4.487600e-02 -2.712598e-01  3.109021e-01  \n5048   2.826958e-02  -2.055483e-01  4.582490e-02 -2.732301e-01  3.080613e-01  \n6535   3.058722e-02  -2.165316e-01  5.055260e-02 -2.567462e-01  3.782346e-01  \n22123  3.231107e-02  -2.090231e-01  4.539826e-02 -2.681942e-01  3.400841e-01  \n...             ...            ...           ...           ...           ...  \n5590   8.351807e+27  -5.188430e+13  4.659090e+13  5.556925e+28  6.446087e+28  \n5109   9.288950e+27  -5.722724e+13  4.307100e+13  8.905846e+28  1.628930e+29  \n1117   1.016647e+28  -5.805960e+13  4.262361e+13  7.753362e+28  1.095460e+29  \n1607   7.160686e+27  -6.845800e+13  4.373193e+13  8.069817e+28  8.527978e+28  \n1749   9.385949e+27  -5.990036e+13  4.664661e+13  9.042577e+28  1.550077e+29  \n\n[56448 rows x 8 columns]",
      "text/html": "<div>\n<style scoped>\n    .dataframe tbody tr th:only-of-type {\n        vertical-align: middle;\n    }\n\n    .dataframe tbody tr th {\n        vertical-align: top;\n    }\n\n    .dataframe thead th {\n        text-align: right;\n    }\n</style>\n<table border=\"1\" class=\"dataframe\">\n  <thead>\n    <tr style=\"text-align: right;\">\n      <th></th>\n      <th>model</th>\n      <th>params</th>\n      <th>mean_test_mse</th>\n      <th>std_test_mse</th>\n      <th>mean_test_mae</th>\n      <th>std_test_mae</th>\n      <th>mean_test_r2</th>\n      <th>std_test_r2</th>\n    </tr>\n  </thead>\n  <tbody>\n    <tr>\n      <th>35396</th>\n      <td>sgd</td>\n      <td>{'alpha': 0.01, 'epsilon': 0.25, 'l1_ratio': 0...</td>\n      <td>-6.231040e-02</td>\n      <td>2.247617e-02</td>\n      <td>-2.048198e-01</td>\n      <td>3.859409e-02</td>\n      <td>-2.704084e-01</td>\n      <td>3.171440e-01</td>\n    </tr>\n    <tr>\n      <th>5624</th>\n      <td>sgd</td>\n      <td>{'alpha': 1e-06, 'epsilon': 0.15, 'l1_ratio': ...</td>\n      <td>-6.320558e-02</td>\n      <td>2.812287e-02</td>\n      <td>-2.089950e-01</td>\n      <td>4.487600e-02</td>\n      <td>-2.712598e-01</td>\n      <td>3.109021e-01</td>\n    </tr>\n    <tr>\n      <th>5048</th>\n      <td>sgd</td>\n      <td>{'alpha': 1e-06, 'epsilon': 0.15, 'l1_ratio': ...</td>\n      <td>-6.322692e-02</td>\n      <td>2.826958e-02</td>\n      <td>-2.055483e-01</td>\n      <td>4.582490e-02</td>\n      <td>-2.732301e-01</td>\n      <td>3.080613e-01</td>\n    </tr>\n    <tr>\n      <th>6535</th>\n      <td>sgd</td>\n      <td>{'alpha': 1e-06, 'epsilon': 0.1, 'l1_ratio': 0...</td>\n      <td>-6.344523e-02</td>\n      <td>3.058722e-02</td>\n      <td>-2.165316e-01</td>\n      <td>5.055260e-02</td>\n      <td>-2.567462e-01</td>\n      <td>3.782346e-01</td>\n    </tr>\n    <tr>\n      <th>22123</th>\n      <td>sgd</td>\n      <td>{'alpha': 0.0001, 'epsilon': 0.15, 'l1_ratio':...</td>\n      <td>-6.360109e-02</td>\n      <td>3.231107e-02</td>\n      <td>-2.090231e-01</td>\n      <td>4.539826e-02</td>\n      <td>-2.681942e-01</td>\n      <td>3.400841e-01</td>\n    </tr>\n    <tr>\n      <th>...</th>\n      <td>...</td>\n      <td>...</td>\n      <td>...</td>\n      <td>...</td>\n      <td>...</td>\n      <td>...</td>\n      <td>...</td>\n      <td>...</td>\n    </tr>\n    <tr>\n      <th>5590</th>\n      <td>sgd</td>\n      <td>{'alpha': 1e-06, 'epsilon': 0.15, 'l1_ratio': ...</td>\n      <td>-6.033187e+27</td>\n      <td>8.351807e+27</td>\n      <td>-5.188430e+13</td>\n      <td>4.659090e+13</td>\n      <td>5.556925e+28</td>\n      <td>6.446087e+28</td>\n    </tr>\n    <tr>\n      <th>5109</th>\n      <td>sgd</td>\n      <td>{'alpha': 1e-06, 'epsilon': 0.15, 'l1_ratio': ...</td>\n      <td>-6.249847e+27</td>\n      <td>9.288950e+27</td>\n      <td>-5.722724e+13</td>\n      <td>4.307100e+13</td>\n      <td>8.905846e+28</td>\n      <td>1.628930e+29</td>\n    </tr>\n    <tr>\n      <th>1117</th>\n      <td>sgd</td>\n      <td>{'alpha': 1e-06, 'epsilon': 0.45, 'l1_ratio': ...</td>\n      <td>-6.480848e+27</td>\n      <td>1.016647e+28</td>\n      <td>-5.805960e+13</td>\n      <td>4.262361e+13</td>\n      <td>7.753362e+28</td>\n      <td>1.095460e+29</td>\n    </tr>\n    <tr>\n      <th>1607</th>\n      <td>sgd</td>\n      <td>{'alpha': 1e-06, 'epsilon': 0.45, 'l1_ratio': ...</td>\n      <td>-6.816757e+27</td>\n      <td>7.160686e+27</td>\n      <td>-6.845800e+13</td>\n      <td>4.373193e+13</td>\n      <td>8.069817e+28</td>\n      <td>8.527978e+28</td>\n    </tr>\n    <tr>\n      <th>1749</th>\n      <td>sgd</td>\n      <td>{'alpha': 1e-06, 'epsilon': 0.45, 'l1_ratio': ...</td>\n      <td>-7.408346e+27</td>\n      <td>9.385949e+27</td>\n      <td>-5.990036e+13</td>\n      <td>4.664661e+13</td>\n      <td>9.042577e+28</td>\n      <td>1.550077e+29</td>\n    </tr>\n  </tbody>\n</table>\n<p>56448 rows × 8 columns</p>\n</div>"
     },
     "metadata": {},
     "execution_count": 30
    }
   ],
   "source": [
    "grid_search_df.sort_values('mean_test_mse', ascending=False)"
   ]
  },
  {
   "cell_type": "code",
   "execution_count": 31,
   "metadata": {},
   "outputs": [
    {
     "output_type": "execute_result",
     "data": {
      "text/plain": "array([\"{'alpha': 0.01, 'epsilon': 0.25, 'l1_ratio': 0.1, 'learning_rate': 'optimal', 'loss': 'epsilon_insensitive', 'penalty': 'elasticnet'}\",\n       \"{'alpha': 1e-06, 'epsilon': 0.15, 'l1_ratio': 0.6, 'learning_rate': 'constant', 'loss': 'epsilon_insensitive', 'penalty': 'elasticnet'}\",\n       \"{'alpha': 1e-06, 'epsilon': 0.15, 'l1_ratio': 0, 'learning_rate': 'constant', 'loss': 'epsilon_insensitive', 'penalty': 'elasticnet'}\",\n       \"{'alpha': 1e-06, 'epsilon': 0.1, 'l1_ratio': 0.5, 'learning_rate': 'constant', 'loss': 'epsilon_insensitive', 'penalty': 'l1'}\",\n       \"{'alpha': 0.0001, 'epsilon': 0.15, 'l1_ratio': 0.95, 'learning_rate': 'adaptive', 'loss': 'epsilon_insensitive', 'penalty': 'l1'}\",\n       \"{'alpha': 1e-06, 'epsilon': 0.15, 'l1_ratio': 0.45, 'learning_rate': 'constant', 'loss': 'epsilon_insensitive', 'penalty': 'elasticnet'}\",\n       \"{'alpha': 1e-05, 'epsilon': 0.15, 'l1_ratio': 0.7, 'learning_rate': 'constant', 'loss': 'epsilon_insensitive', 'penalty': 'l1'}\",\n       \"{'alpha': 1e-05, 'epsilon': 0.1, 'l1_ratio': 0.7, 'learning_rate': 'constant', 'loss': 'epsilon_insensitive', 'penalty': 'l2'}\",\n       \"{'alpha': 1e-05, 'epsilon': 0.1, 'l1_ratio': 0.9, 'learning_rate': 'constant', 'loss': 'epsilon_insensitive', 'penalty': 'l1'}\",\n       \"{'alpha': 0.001, 'epsilon': 0.15, 'l1_ratio': 0.25, 'learning_rate': 'constant', 'loss': 'epsilon_insensitive', 'penalty': 'l1'}\",\n       \"{'alpha': 0.001, 'epsilon': 0.1, 'l1_ratio': 0.1, 'learning_rate': 'constant', 'loss': 'epsilon_insensitive', 'penalty': 'elasticnet'}\",\n       \"{'alpha': 0.001, 'epsilon': 0.15, 'l1_ratio': 0.8, 'learning_rate': 'constant', 'loss': 'epsilon_insensitive', 'penalty': 'elasticnet'}\",\n       \"{'alpha': 1e-05, 'epsilon': 0.15, 'l1_ratio': 1, 'learning_rate': 'constant', 'loss': 'epsilon_insensitive', 'penalty': 'l2'}\",\n       \"{'alpha': 0.01, 'epsilon': 0.3, 'l1_ratio': 0.8, 'learning_rate': 'optimal', 'loss': 'huber', 'penalty': 'l2'}\",\n       \"{'alpha': 0.0001, 'epsilon': 0.15, 'l1_ratio': 0.9, 'learning_rate': 'constant', 'loss': 'epsilon_insensitive', 'penalty': 'elasticnet'}\",\n       \"{'alpha': 0.001, 'epsilon': 0.1, 'l1_ratio': 0.6, 'learning_rate': 'constant', 'loss': 'epsilon_insensitive', 'penalty': 'l2'}\",\n       \"{'alpha': 1e-06, 'epsilon': 0.15, 'l1_ratio': 0.25, 'learning_rate': 'constant', 'loss': 'epsilon_insensitive', 'penalty': 'l1'}\",\n       \"{'alpha': 0.0001, 'epsilon': 0.15, 'l1_ratio': 0.35, 'learning_rate': 'adaptive', 'loss': 'epsilon_insensitive', 'penalty': 'l2'}\",\n       \"{'alpha': 0.001, 'epsilon': 0.1, 'l1_ratio': 0.4, 'learning_rate': 'adaptive', 'loss': 'epsilon_insensitive', 'penalty': 'elasticnet'}\",\n       \"{'alpha': 1e-06, 'epsilon': 0.1, 'l1_ratio': 0.75, 'learning_rate': 'adaptive', 'loss': 'epsilon_insensitive', 'penalty': 'l1'}\"],\n      dtype=object)"
     },
     "metadata": {},
     "execution_count": 31
    }
   ],
   "source": [
    "grid_search_df.sort_values('mean_test_mse', ascending=False)[\"params\"].head(20).values"
   ]
  },
  {
   "cell_type": "markdown",
   "metadata": {},
   "source": [
    "# Sumário"
   ]
  },
  {
   "cell_type": "code",
   "execution_count": 32,
   "metadata": {},
   "outputs": [
    {
     "output_type": "execute_result",
     "data": {
      "text/plain": "           model                                             params  \\\n0  random_forest          {'criterion': 'mse', 'n_estimators': 500}   \n1      ada_boost  {'learning_rate': 0.85, 'loss': 'linear', 'n_e...   \n2            svm  {'C': 3.5, 'degree': 5, 'epsilon': 0.05, 'gamm...   \n7            sgd  {'alpha': 0.01, 'epsilon': 0.25, 'l1_ratio': 0...   \n3            knn  {'metric': 'minkowski', 'n_neighbors': 3, 'p': 2}   \n6          ridge                                     {'alpha': 0.5}   \n5    elastic_net                      {'alpha': 0.1, 'l1_ratio': 0}   \n4          lasso                                    {'alpha': 0.01}   \n\n   mean_test_mse  std_test_mse  mean_test_mae  std_test_mae  mean_test_r2  \\\n0      -0.029938      0.027457      -0.126576      0.047442     -0.559129   \n1      -0.030575      0.026155      -0.119201      0.043628     -0.537580   \n2      -0.040912      0.023257      -0.162918      0.044966     -0.514062   \n7      -0.062310      0.022476      -0.204820      0.038594     -0.270408   \n3      -0.063629      0.034480      -0.199235      0.058149     -0.242160   \n6      -0.066936      0.032149      -0.217078      0.050178     -0.239702   \n5      -0.084478      0.033290      -0.247922      0.043536     -0.070770   \n4      -0.086076      0.034415      -0.252189      0.043549     -0.040955   \n\n   std_test_r2  \n0     0.333549  \n1     0.361700  \n2     0.259569  \n7     0.317144  \n3     0.470938  \n6     0.323033  \n5     0.195726  \n4     0.250532  ",
      "text/html": "<div>\n<style scoped>\n    .dataframe tbody tr th:only-of-type {\n        vertical-align: middle;\n    }\n\n    .dataframe tbody tr th {\n        vertical-align: top;\n    }\n\n    .dataframe thead th {\n        text-align: right;\n    }\n</style>\n<table border=\"1\" class=\"dataframe\">\n  <thead>\n    <tr style=\"text-align: right;\">\n      <th></th>\n      <th>model</th>\n      <th>params</th>\n      <th>mean_test_mse</th>\n      <th>std_test_mse</th>\n      <th>mean_test_mae</th>\n      <th>std_test_mae</th>\n      <th>mean_test_r2</th>\n      <th>std_test_r2</th>\n    </tr>\n  </thead>\n  <tbody>\n    <tr>\n      <th>0</th>\n      <td>random_forest</td>\n      <td>{'criterion': 'mse', 'n_estimators': 500}</td>\n      <td>-0.029938</td>\n      <td>0.027457</td>\n      <td>-0.126576</td>\n      <td>0.047442</td>\n      <td>-0.559129</td>\n      <td>0.333549</td>\n    </tr>\n    <tr>\n      <th>1</th>\n      <td>ada_boost</td>\n      <td>{'learning_rate': 0.85, 'loss': 'linear', 'n_e...</td>\n      <td>-0.030575</td>\n      <td>0.026155</td>\n      <td>-0.119201</td>\n      <td>0.043628</td>\n      <td>-0.537580</td>\n      <td>0.361700</td>\n    </tr>\n    <tr>\n      <th>2</th>\n      <td>svm</td>\n      <td>{'C': 3.5, 'degree': 5, 'epsilon': 0.05, 'gamm...</td>\n      <td>-0.040912</td>\n      <td>0.023257</td>\n      <td>-0.162918</td>\n      <td>0.044966</td>\n      <td>-0.514062</td>\n      <td>0.259569</td>\n    </tr>\n    <tr>\n      <th>7</th>\n      <td>sgd</td>\n      <td>{'alpha': 0.01, 'epsilon': 0.25, 'l1_ratio': 0...</td>\n      <td>-0.062310</td>\n      <td>0.022476</td>\n      <td>-0.204820</td>\n      <td>0.038594</td>\n      <td>-0.270408</td>\n      <td>0.317144</td>\n    </tr>\n    <tr>\n      <th>3</th>\n      <td>knn</td>\n      <td>{'metric': 'minkowski', 'n_neighbors': 3, 'p': 2}</td>\n      <td>-0.063629</td>\n      <td>0.034480</td>\n      <td>-0.199235</td>\n      <td>0.058149</td>\n      <td>-0.242160</td>\n      <td>0.470938</td>\n    </tr>\n    <tr>\n      <th>6</th>\n      <td>ridge</td>\n      <td>{'alpha': 0.5}</td>\n      <td>-0.066936</td>\n      <td>0.032149</td>\n      <td>-0.217078</td>\n      <td>0.050178</td>\n      <td>-0.239702</td>\n      <td>0.323033</td>\n    </tr>\n    <tr>\n      <th>5</th>\n      <td>elastic_net</td>\n      <td>{'alpha': 0.1, 'l1_ratio': 0}</td>\n      <td>-0.084478</td>\n      <td>0.033290</td>\n      <td>-0.247922</td>\n      <td>0.043536</td>\n      <td>-0.070770</td>\n      <td>0.195726</td>\n    </tr>\n    <tr>\n      <th>4</th>\n      <td>lasso</td>\n      <td>{'alpha': 0.01}</td>\n      <td>-0.086076</td>\n      <td>0.034415</td>\n      <td>-0.252189</td>\n      <td>0.043549</td>\n      <td>-0.040955</td>\n      <td>0.250532</td>\n    </tr>\n  </tbody>\n</table>\n</div>"
     },
     "metadata": {},
     "execution_count": 32
    }
   ],
   "source": [
    "summary_df.sort_values(by='mean_test_mse', ascending=False).head(20)"
   ]
  },
  {
   "cell_type": "code",
   "execution_count": null,
   "metadata": {},
   "outputs": [],
   "source": []
  }
 ],
 "metadata": {
  "language_info": {
   "name": "python",
   "codemirror_mode": {
    "name": "ipython",
    "version": 3
   },
   "version": "3.6.9-final"
  },
  "orig_nbformat": 2,
  "file_extension": ".py",
  "mimetype": "text/x-python",
  "name": "python",
  "npconvert_exporter": "python",
  "pygments_lexer": "ipython3",
  "version": 3,
  "kernelspec": {
   "name": "python36964bitbertvirtualenv054cbb15ab924922a35a349b12e89805",
   "display_name": "Python 3.6.9 64-bit ('bert': virtualenv)"
  }
 },
 "nbformat": 4,
 "nbformat_minor": 2
}