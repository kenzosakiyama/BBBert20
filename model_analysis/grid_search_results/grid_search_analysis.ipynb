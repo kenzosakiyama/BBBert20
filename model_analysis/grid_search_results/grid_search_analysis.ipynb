{
 "cells": [
  {
   "cell_type": "code",
   "execution_count": 1,
   "metadata": {},
   "outputs": [],
   "source": [
    "import pandas as pd"
   ]
  },
  {
   "cell_type": "code",
   "execution_count": 2,
   "metadata": {},
   "outputs": [],
   "source": [
    "summary_df = pd.DataFrame(columns=[\"model\", 'params', 'mean_test_mse', 'std_test_mse', 'mean_test_mae', 'std_test_mae', 'mean_test_r2', 'std_test_r2'])"
   ]
  },
  {
   "cell_type": "code",
   "execution_count": 3,
   "metadata": {},
   "outputs": [
    {
     "output_type": "execute_result",
     "data": {
      "text/plain": "Empty DataFrame\nColumns: [model, params, mean_test_mse, std_test_mse, mean_test_mae, std_test_mae, mean_test_r2, std_test_r2]\nIndex: []",
      "text/html": "<div>\n<style scoped>\n    .dataframe tbody tr th:only-of-type {\n        vertical-align: middle;\n    }\n\n    .dataframe tbody tr th {\n        vertical-align: top;\n    }\n\n    .dataframe thead th {\n        text-align: right;\n    }\n</style>\n<table border=\"1\" class=\"dataframe\">\n  <thead>\n    <tr style=\"text-align: right;\">\n      <th></th>\n      <th>model</th>\n      <th>params</th>\n      <th>mean_test_mse</th>\n      <th>std_test_mse</th>\n      <th>mean_test_mae</th>\n      <th>std_test_mae</th>\n      <th>mean_test_r2</th>\n      <th>std_test_r2</th>\n    </tr>\n  </thead>\n  <tbody>\n  </tbody>\n</table>\n</div>"
     },
     "metadata": {},
     "execution_count": 3
    }
   ],
   "source": [
    "summary_df"
   ]
  },
  {
   "cell_type": "markdown",
   "metadata": {},
   "source": [
    "# Random Forest Regressor"
   ]
  },
  {
   "cell_type": "code",
   "execution_count": 4,
   "metadata": {},
   "outputs": [],
   "source": [
    "PATH = 'random_forest_grid_search_results.csv'"
   ]
  },
  {
   "cell_type": "code",
   "execution_count": 5,
   "metadata": {},
   "outputs": [],
   "source": [
    "grid_search_df = pd.read_csv(PATH)"
   ]
  },
  {
   "cell_type": "code",
   "execution_count": 6,
   "metadata": {},
   "outputs": [],
   "source": [
    "grid_search_df[\"model\"] = \"random_forest\"\n",
    "grid_search_df = grid_search_df[[\"model\", 'params', 'mean_test_mse', 'std_test_mse', 'mean_test_mae', 'std_test_mae', 'mean_test_r2', 'std_test_r2']]\n",
    "summary_df = summary_df.append(grid_search_df.sort_values('mean_test_mse', ascending=False).iloc[0], ignore_index=True)"
   ]
  },
  {
   "cell_type": "code",
   "execution_count": 7,
   "metadata": {},
   "outputs": [
    {
     "output_type": "execute_result",
     "data": {
      "text/plain": "            model                                       params  mean_test_mse  \\\n0   random_forest    {'criterion': 'mse', 'n_estimators': 100}      -0.030354   \n1   random_forest    {'criterion': 'mse', 'n_estimators': 200}      -0.030927   \n2   random_forest    {'criterion': 'mse', 'n_estimators': 500}      -0.031142   \n5   random_forest   {'criterion': 'mse', 'n_estimators': 3000}      -0.031323   \n8   random_forest    {'criterion': 'mae', 'n_estimators': 100}      -0.031425   \n7   random_forest  {'criterion': 'mse', 'n_estimators': 10000}      -0.031585   \n6   random_forest   {'criterion': 'mse', 'n_estimators': 5000}      -0.031781   \n3   random_forest   {'criterion': 'mse', 'n_estimators': 1000}      -0.031818   \n4   random_forest   {'criterion': 'mse', 'n_estimators': 2000}      -0.032246   \n11  random_forest   {'criterion': 'mae', 'n_estimators': 1000}      -0.033190   \n10  random_forest    {'criterion': 'mae', 'n_estimators': 500}      -0.033459   \n12  random_forest   {'criterion': 'mae', 'n_estimators': 2000}      -0.033602   \n14  random_forest   {'criterion': 'mae', 'n_estimators': 5000}      -0.033605   \n13  random_forest   {'criterion': 'mae', 'n_estimators': 3000}      -0.033786   \n15  random_forest  {'criterion': 'mae', 'n_estimators': 10000}      -0.033861   \n9   random_forest    {'criterion': 'mae', 'n_estimators': 200}      -0.034594   \n\n    std_test_mse  mean_test_mae  std_test_mae  mean_test_r2  std_test_r2  \n0       0.023160      -0.129177      0.042045     -0.541474     0.287998  \n1       0.024679      -0.128693      0.044987     -0.535987     0.314417  \n2       0.023410      -0.130728      0.042084     -0.523675     0.323373  \n5       0.024025      -0.130153      0.043547     -0.523960     0.320092  \n8       0.026996      -0.128977      0.050051     -0.521416     0.399276  \n7       0.024059      -0.130335      0.043567     -0.518230     0.326593  \n6       0.024329      -0.130583      0.044057     -0.516223     0.324674  \n3       0.024242      -0.130512      0.043789     -0.516903     0.324701  \n4       0.025214      -0.131031      0.044347     -0.515489     0.318088  \n11      0.027583      -0.133942      0.047169     -0.489870     0.418338  \n10      0.027811      -0.135290      0.046816     -0.481159     0.430683  \n12      0.028348      -0.134398      0.047797     -0.481587     0.433053  \n14      0.028426      -0.134259      0.048262     -0.481496     0.432232  \n13      0.028632      -0.134541      0.048339     -0.480845     0.428410  \n15      0.028415      -0.134828      0.047818     -0.479427     0.426820  \n9       0.028755      -0.136480      0.047831     -0.469141     0.424367  ",
      "text/html": "<div>\n<style scoped>\n    .dataframe tbody tr th:only-of-type {\n        vertical-align: middle;\n    }\n\n    .dataframe tbody tr th {\n        vertical-align: top;\n    }\n\n    .dataframe thead th {\n        text-align: right;\n    }\n</style>\n<table border=\"1\" class=\"dataframe\">\n  <thead>\n    <tr style=\"text-align: right;\">\n      <th></th>\n      <th>model</th>\n      <th>params</th>\n      <th>mean_test_mse</th>\n      <th>std_test_mse</th>\n      <th>mean_test_mae</th>\n      <th>std_test_mae</th>\n      <th>mean_test_r2</th>\n      <th>std_test_r2</th>\n    </tr>\n  </thead>\n  <tbody>\n    <tr>\n      <th>0</th>\n      <td>random_forest</td>\n      <td>{'criterion': 'mse', 'n_estimators': 100}</td>\n      <td>-0.030354</td>\n      <td>0.023160</td>\n      <td>-0.129177</td>\n      <td>0.042045</td>\n      <td>-0.541474</td>\n      <td>0.287998</td>\n    </tr>\n    <tr>\n      <th>1</th>\n      <td>random_forest</td>\n      <td>{'criterion': 'mse', 'n_estimators': 200}</td>\n      <td>-0.030927</td>\n      <td>0.024679</td>\n      <td>-0.128693</td>\n      <td>0.044987</td>\n      <td>-0.535987</td>\n      <td>0.314417</td>\n    </tr>\n    <tr>\n      <th>2</th>\n      <td>random_forest</td>\n      <td>{'criterion': 'mse', 'n_estimators': 500}</td>\n      <td>-0.031142</td>\n      <td>0.023410</td>\n      <td>-0.130728</td>\n      <td>0.042084</td>\n      <td>-0.523675</td>\n      <td>0.323373</td>\n    </tr>\n    <tr>\n      <th>5</th>\n      <td>random_forest</td>\n      <td>{'criterion': 'mse', 'n_estimators': 3000}</td>\n      <td>-0.031323</td>\n      <td>0.024025</td>\n      <td>-0.130153</td>\n      <td>0.043547</td>\n      <td>-0.523960</td>\n      <td>0.320092</td>\n    </tr>\n    <tr>\n      <th>8</th>\n      <td>random_forest</td>\n      <td>{'criterion': 'mae', 'n_estimators': 100}</td>\n      <td>-0.031425</td>\n      <td>0.026996</td>\n      <td>-0.128977</td>\n      <td>0.050051</td>\n      <td>-0.521416</td>\n      <td>0.399276</td>\n    </tr>\n    <tr>\n      <th>7</th>\n      <td>random_forest</td>\n      <td>{'criterion': 'mse', 'n_estimators': 10000}</td>\n      <td>-0.031585</td>\n      <td>0.024059</td>\n      <td>-0.130335</td>\n      <td>0.043567</td>\n      <td>-0.518230</td>\n      <td>0.326593</td>\n    </tr>\n    <tr>\n      <th>6</th>\n      <td>random_forest</td>\n      <td>{'criterion': 'mse', 'n_estimators': 5000}</td>\n      <td>-0.031781</td>\n      <td>0.024329</td>\n      <td>-0.130583</td>\n      <td>0.044057</td>\n      <td>-0.516223</td>\n      <td>0.324674</td>\n    </tr>\n    <tr>\n      <th>3</th>\n      <td>random_forest</td>\n      <td>{'criterion': 'mse', 'n_estimators': 1000}</td>\n      <td>-0.031818</td>\n      <td>0.024242</td>\n      <td>-0.130512</td>\n      <td>0.043789</td>\n      <td>-0.516903</td>\n      <td>0.324701</td>\n    </tr>\n    <tr>\n      <th>4</th>\n      <td>random_forest</td>\n      <td>{'criterion': 'mse', 'n_estimators': 2000}</td>\n      <td>-0.032246</td>\n      <td>0.025214</td>\n      <td>-0.131031</td>\n      <td>0.044347</td>\n      <td>-0.515489</td>\n      <td>0.318088</td>\n    </tr>\n    <tr>\n      <th>11</th>\n      <td>random_forest</td>\n      <td>{'criterion': 'mae', 'n_estimators': 1000}</td>\n      <td>-0.033190</td>\n      <td>0.027583</td>\n      <td>-0.133942</td>\n      <td>0.047169</td>\n      <td>-0.489870</td>\n      <td>0.418338</td>\n    </tr>\n    <tr>\n      <th>10</th>\n      <td>random_forest</td>\n      <td>{'criterion': 'mae', 'n_estimators': 500}</td>\n      <td>-0.033459</td>\n      <td>0.027811</td>\n      <td>-0.135290</td>\n      <td>0.046816</td>\n      <td>-0.481159</td>\n      <td>0.430683</td>\n    </tr>\n    <tr>\n      <th>12</th>\n      <td>random_forest</td>\n      <td>{'criterion': 'mae', 'n_estimators': 2000}</td>\n      <td>-0.033602</td>\n      <td>0.028348</td>\n      <td>-0.134398</td>\n      <td>0.047797</td>\n      <td>-0.481587</td>\n      <td>0.433053</td>\n    </tr>\n    <tr>\n      <th>14</th>\n      <td>random_forest</td>\n      <td>{'criterion': 'mae', 'n_estimators': 5000}</td>\n      <td>-0.033605</td>\n      <td>0.028426</td>\n      <td>-0.134259</td>\n      <td>0.048262</td>\n      <td>-0.481496</td>\n      <td>0.432232</td>\n    </tr>\n    <tr>\n      <th>13</th>\n      <td>random_forest</td>\n      <td>{'criterion': 'mae', 'n_estimators': 3000}</td>\n      <td>-0.033786</td>\n      <td>0.028632</td>\n      <td>-0.134541</td>\n      <td>0.048339</td>\n      <td>-0.480845</td>\n      <td>0.428410</td>\n    </tr>\n    <tr>\n      <th>15</th>\n      <td>random_forest</td>\n      <td>{'criterion': 'mae', 'n_estimators': 10000}</td>\n      <td>-0.033861</td>\n      <td>0.028415</td>\n      <td>-0.134828</td>\n      <td>0.047818</td>\n      <td>-0.479427</td>\n      <td>0.426820</td>\n    </tr>\n    <tr>\n      <th>9</th>\n      <td>random_forest</td>\n      <td>{'criterion': 'mae', 'n_estimators': 200}</td>\n      <td>-0.034594</td>\n      <td>0.028755</td>\n      <td>-0.136480</td>\n      <td>0.047831</td>\n      <td>-0.469141</td>\n      <td>0.424367</td>\n    </tr>\n  </tbody>\n</table>\n</div>"
     },
     "metadata": {},
     "execution_count": 7
    }
   ],
   "source": [
    "grid_search_df.sort_values('mean_test_mse', ascending=False)"
   ]
  },
  {
   "cell_type": "markdown",
   "metadata": {},
   "source": [
    "# Ada Boost Regressor"
   ]
  },
  {
   "cell_type": "code",
   "execution_count": 8,
   "metadata": {},
   "outputs": [],
   "source": [
    "PATH = 'ada_boost_grid_search_results.csv'\n",
    ""
   ]
  },
  {
   "cell_type": "code",
   "execution_count": 9,
   "metadata": {},
   "outputs": [],
   "source": [
    "grid_search_df = pd.read_csv(PATH)\n",
    "grid_search_df[\"model\"] = \"ada_boost\"\n",
    "grid_search_df = grid_search_df[[\"model\", 'params', 'mean_test_mse', 'std_test_mse', 'mean_test_mae', 'std_test_mae', 'mean_test_r2', 'std_test_r2']]\n",
    "summary_df = summary_df.append(grid_search_df.sort_values('mean_test_mse', ascending=False).iloc[0], ignore_index=True)"
   ]
  },
  {
   "cell_type": "code",
   "execution_count": 10,
   "metadata": {},
   "outputs": [
    {
     "output_type": "execute_result",
     "data": {
      "text/plain": "         model                                             params  \\\n368  ada_boost  {'learning_rate': 0.8, 'loss': 'square', 'n_es...   \n241  ada_boost  {'learning_rate': 0.55, 'loss': 'linear', 'n_e...   \n209  ada_boost  {'learning_rate': 0.45, 'loss': 'exponential',...   \n449  ada_boost  {'learning_rate': 0.95, 'loss': 'exponential',...   \n473  ada_boost  {'learning_rate': 1.0, 'loss': 'exponential', ...   \n..         ...                                                ...   \n320  ada_boost  {'learning_rate': 0.7, 'loss': 'square', 'n_es...   \n468  ada_boost  {'learning_rate': 1.0, 'loss': 'square', 'n_es...   \n8    ada_boost  {'learning_rate': 0.05, 'loss': 'square', 'n_e...   \n248  ada_boost  {'learning_rate': 0.55, 'loss': 'square', 'n_e...   \n345  ada_boost  {'learning_rate': 0.75, 'loss': 'square', 'n_e...   \n\n     mean_test_mse  std_test_mse  mean_test_mae  std_test_mae  mean_test_r2  \\\n368      -0.033371      0.023681      -0.127704      0.044725     -0.459979   \n241      -0.033623      0.025496      -0.126692      0.048531     -0.470658   \n209      -0.033746      0.027429      -0.128182      0.048215     -0.477982   \n449      -0.033924      0.025463      -0.128635      0.045440     -0.457010   \n473      -0.033949      0.027127      -0.125581      0.048139     -0.464480   \n..             ...           ...            ...           ...           ...   \n320      -0.040342      0.028514      -0.141461      0.051769     -0.346695   \n468      -0.040349      0.027753      -0.143031      0.050040     -0.358772   \n8        -0.040601      0.029903      -0.138519      0.055406     -0.350742   \n248      -0.041584      0.029920      -0.142505      0.053693     -0.346722   \n345      -0.042205      0.029419      -0.145528      0.053668     -0.324059   \n\n     std_test_r2  \n368     0.430895  \n241     0.415631  \n209     0.421941  \n449     0.436782  \n473     0.456157  \n..           ...  \n320     0.499846  \n468     0.435745  \n8       0.504617  \n248     0.469063  \n345     0.478396  \n\n[480 rows x 8 columns]",
      "text/html": "<div>\n<style scoped>\n    .dataframe tbody tr th:only-of-type {\n        vertical-align: middle;\n    }\n\n    .dataframe tbody tr th {\n        vertical-align: top;\n    }\n\n    .dataframe thead th {\n        text-align: right;\n    }\n</style>\n<table border=\"1\" class=\"dataframe\">\n  <thead>\n    <tr style=\"text-align: right;\">\n      <th></th>\n      <th>model</th>\n      <th>params</th>\n      <th>mean_test_mse</th>\n      <th>std_test_mse</th>\n      <th>mean_test_mae</th>\n      <th>std_test_mae</th>\n      <th>mean_test_r2</th>\n      <th>std_test_r2</th>\n    </tr>\n  </thead>\n  <tbody>\n    <tr>\n      <th>368</th>\n      <td>ada_boost</td>\n      <td>{'learning_rate': 0.8, 'loss': 'square', 'n_es...</td>\n      <td>-0.033371</td>\n      <td>0.023681</td>\n      <td>-0.127704</td>\n      <td>0.044725</td>\n      <td>-0.459979</td>\n      <td>0.430895</td>\n    </tr>\n    <tr>\n      <th>241</th>\n      <td>ada_boost</td>\n      <td>{'learning_rate': 0.55, 'loss': 'linear', 'n_e...</td>\n      <td>-0.033623</td>\n      <td>0.025496</td>\n      <td>-0.126692</td>\n      <td>0.048531</td>\n      <td>-0.470658</td>\n      <td>0.415631</td>\n    </tr>\n    <tr>\n      <th>209</th>\n      <td>ada_boost</td>\n      <td>{'learning_rate': 0.45, 'loss': 'exponential',...</td>\n      <td>-0.033746</td>\n      <td>0.027429</td>\n      <td>-0.128182</td>\n      <td>0.048215</td>\n      <td>-0.477982</td>\n      <td>0.421941</td>\n    </tr>\n    <tr>\n      <th>449</th>\n      <td>ada_boost</td>\n      <td>{'learning_rate': 0.95, 'loss': 'exponential',...</td>\n      <td>-0.033924</td>\n      <td>0.025463</td>\n      <td>-0.128635</td>\n      <td>0.045440</td>\n      <td>-0.457010</td>\n      <td>0.436782</td>\n    </tr>\n    <tr>\n      <th>473</th>\n      <td>ada_boost</td>\n      <td>{'learning_rate': 1.0, 'loss': 'exponential', ...</td>\n      <td>-0.033949</td>\n      <td>0.027127</td>\n      <td>-0.125581</td>\n      <td>0.048139</td>\n      <td>-0.464480</td>\n      <td>0.456157</td>\n    </tr>\n    <tr>\n      <th>...</th>\n      <td>...</td>\n      <td>...</td>\n      <td>...</td>\n      <td>...</td>\n      <td>...</td>\n      <td>...</td>\n      <td>...</td>\n      <td>...</td>\n    </tr>\n    <tr>\n      <th>320</th>\n      <td>ada_boost</td>\n      <td>{'learning_rate': 0.7, 'loss': 'square', 'n_es...</td>\n      <td>-0.040342</td>\n      <td>0.028514</td>\n      <td>-0.141461</td>\n      <td>0.051769</td>\n      <td>-0.346695</td>\n      <td>0.499846</td>\n    </tr>\n    <tr>\n      <th>468</th>\n      <td>ada_boost</td>\n      <td>{'learning_rate': 1.0, 'loss': 'square', 'n_es...</td>\n      <td>-0.040349</td>\n      <td>0.027753</td>\n      <td>-0.143031</td>\n      <td>0.050040</td>\n      <td>-0.358772</td>\n      <td>0.435745</td>\n    </tr>\n    <tr>\n      <th>8</th>\n      <td>ada_boost</td>\n      <td>{'learning_rate': 0.05, 'loss': 'square', 'n_e...</td>\n      <td>-0.040601</td>\n      <td>0.029903</td>\n      <td>-0.138519</td>\n      <td>0.055406</td>\n      <td>-0.350742</td>\n      <td>0.504617</td>\n    </tr>\n    <tr>\n      <th>248</th>\n      <td>ada_boost</td>\n      <td>{'learning_rate': 0.55, 'loss': 'square', 'n_e...</td>\n      <td>-0.041584</td>\n      <td>0.029920</td>\n      <td>-0.142505</td>\n      <td>0.053693</td>\n      <td>-0.346722</td>\n      <td>0.469063</td>\n    </tr>\n    <tr>\n      <th>345</th>\n      <td>ada_boost</td>\n      <td>{'learning_rate': 0.75, 'loss': 'square', 'n_e...</td>\n      <td>-0.042205</td>\n      <td>0.029419</td>\n      <td>-0.145528</td>\n      <td>0.053668</td>\n      <td>-0.324059</td>\n      <td>0.478396</td>\n    </tr>\n  </tbody>\n</table>\n<p>480 rows × 8 columns</p>\n</div>"
     },
     "metadata": {},
     "execution_count": 10
    }
   ],
   "source": [
    "grid_search_df.sort_values('mean_test_mse', ascending=False)"
   ]
  },
  {
   "cell_type": "code",
   "execution_count": 11,
   "metadata": {},
   "outputs": [
    {
     "output_type": "execute_result",
     "data": {
      "text/plain": "array([\"{'learning_rate': 0.8, 'loss': 'square', 'n_estimators': 100}\",\n       \"{'learning_rate': 0.55, 'loss': 'linear', 'n_estimators': 200}\",\n       \"{'learning_rate': 0.45, 'loss': 'exponential', 'n_estimators': 200}\",\n       \"{'learning_rate': 0.95, 'loss': 'exponential', 'n_estimators': 200}\",\n       \"{'learning_rate': 1.0, 'loss': 'exponential', 'n_estimators': 200}\",\n       \"{'learning_rate': 0.5, 'loss': 'exponential', 'n_estimators': 100}\",\n       \"{'learning_rate': 0.7, 'loss': 'exponential', 'n_estimators': 200}\",\n       \"{'learning_rate': 1.0, 'loss': 'linear', 'n_estimators': 1000}\",\n       \"{'learning_rate': 0.6, 'loss': 'exponential', 'n_estimators': 2000}\",\n       \"{'learning_rate': 0.8, 'loss': 'linear', 'n_estimators': 2000}\",\n       \"{'learning_rate': 0.65, 'loss': 'linear', 'n_estimators': 500}\",\n       \"{'learning_rate': 0.9, 'loss': 'linear', 'n_estimators': 200}\",\n       \"{'learning_rate': 0.7, 'loss': 'linear', 'n_estimators': 100}\",\n       \"{'learning_rate': 0.7, 'loss': 'linear', 'n_estimators': 2000}\",\n       \"{'learning_rate': 0.9, 'loss': 'exponential', 'n_estimators': 500}\",\n       \"{'learning_rate': 0.9, 'loss': 'linear', 'n_estimators': 1000}\",\n       \"{'learning_rate': 0.75, 'loss': 'exponential', 'n_estimators': 100}\",\n       \"{'learning_rate': 0.45, 'loss': 'exponential', 'n_estimators': 1000}\",\n       \"{'learning_rate': 1.0, 'loss': 'exponential', 'n_estimators': 2000}\",\n       \"{'learning_rate': 0.9, 'loss': 'exponential', 'n_estimators': 2000}\"],\n      dtype=object)"
     },
     "metadata": {},
     "execution_count": 11
    }
   ],
   "source": [
    "grid_search_df.sort_values('mean_test_mse', ascending=False).head(20).params.values"
   ]
  },
  {
   "cell_type": "markdown",
   "metadata": {},
   "source": [
    "# SVM Regressor"
   ]
  },
  {
   "cell_type": "code",
   "execution_count": 12,
   "metadata": {},
   "outputs": [],
   "source": [
    "PATH = 'svm_grid_search_results.csv'\n",
    ""
   ]
  },
  {
   "cell_type": "code",
   "execution_count": 13,
   "metadata": {},
   "outputs": [],
   "source": [
    "grid_search_df = pd.read_csv(PATH)\n",
    "grid_search_df[\"model\"] = \"svm\"\n",
    "grid_search_df = grid_search_df[[\"model\", 'params', 'mean_test_mse', 'std_test_mse', 'mean_test_mae', 'std_test_mae', 'mean_test_r2', 'std_test_r2']]\n",
    "summary_df = summary_df.append(grid_search_df.sort_values('mean_test_mse', ascending=False).iloc[0], ignore_index=True)"
   ]
  },
  {
   "cell_type": "code",
   "execution_count": 14,
   "metadata": {},
   "outputs": [
    {
     "output_type": "execute_result",
     "data": {
      "text/plain": "     model                                             params  mean_test_mse  \\\n5326   svm  {'C': 0.95, 'degree': 7, 'epsilon': 0.2, 'kern...      -0.510121   \n5134   svm  {'C': 0.95, 'degree': 4, 'epsilon': 0.2, 'kern...      -0.510121   \n5198   svm  {'C': 0.95, 'degree': 5, 'epsilon': 0.2, 'kern...      -0.510121   \n5006   svm  {'C': 0.95, 'degree': 2, 'epsilon': 0.2, 'kern...      -0.510121   \n5262   svm  {'C': 0.95, 'degree': 6, 'epsilon': 0.2, 'kern...      -0.510121   \n5070   svm  {'C': 0.95, 'degree': 3, 'epsilon': 0.2, 'kern...      -0.510121   \n5258   svm  {'C': 0.95, 'degree': 6, 'epsilon': 0.15, 'ker...      -0.513537   \n5194   svm  {'C': 0.95, 'degree': 5, 'epsilon': 0.15, 'ker...      -0.513537   \n5130   svm  {'C': 0.95, 'degree': 4, 'epsilon': 0.15, 'ker...      -0.513537   \n5002   svm  {'C': 0.95, 'degree': 2, 'epsilon': 0.15, 'ker...      -0.513537   \n5322   svm  {'C': 0.95, 'degree': 7, 'epsilon': 0.15, 'ker...      -0.513537   \n5066   svm  {'C': 0.95, 'degree': 3, 'epsilon': 0.15, 'ker...      -0.513537   \n5138   svm  {'C': 0.95, 'degree': 4, 'epsilon': 0.25, 'ker...      -0.513764   \n5266   svm  {'C': 0.95, 'degree': 6, 'epsilon': 0.25, 'ker...      -0.513764   \n5010   svm  {'C': 0.95, 'degree': 2, 'epsilon': 0.25, 'ker...      -0.513764   \n5330   svm  {'C': 0.95, 'degree': 7, 'epsilon': 0.25, 'ker...      -0.513764   \n5074   svm  {'C': 0.95, 'degree': 3, 'epsilon': 0.25, 'ker...      -0.513764   \n5202   svm  {'C': 0.95, 'degree': 5, 'epsilon': 0.25, 'ker...      -0.513764   \n5270   svm  {'C': 0.95, 'degree': 6, 'epsilon': 0.3, 'kern...      -0.515028   \n5334   svm  {'C': 0.95, 'degree': 7, 'epsilon': 0.3, 'kern...      -0.515028   \n\n      std_test_mse  mean_test_mae  std_test_mae  mean_test_r2  std_test_r2  \n5326      0.248379      -0.595692      0.129962     -0.428940     0.209709  \n5134      0.248379      -0.595692      0.129962     -0.428940     0.209709  \n5198      0.248379      -0.595692      0.129962     -0.428940     0.209709  \n5006      0.248379      -0.595692      0.129962     -0.428940     0.209709  \n5262      0.248379      -0.595692      0.129962     -0.428940     0.209709  \n5070      0.248379      -0.595692      0.129962     -0.428940     0.209709  \n5258      0.256142      -0.594769      0.126995     -0.421362     0.228302  \n5194      0.256142      -0.594769      0.126995     -0.421362     0.228302  \n5130      0.256142      -0.594769      0.126995     -0.421362     0.228302  \n5002      0.256142      -0.594769      0.126995     -0.421362     0.228302  \n5322      0.256142      -0.594769      0.126995     -0.421362     0.228302  \n5066      0.256142      -0.594769      0.126995     -0.421362     0.228302  \n5138      0.243529      -0.602749      0.133116     -0.429242     0.194376  \n5266      0.243529      -0.602749      0.133116     -0.429242     0.194376  \n5010      0.243529      -0.602749      0.133116     -0.429242     0.194376  \n5330      0.243529      -0.602749      0.133116     -0.429242     0.194376  \n5074      0.243529      -0.602749      0.133116     -0.429242     0.194376  \n5202      0.243529      -0.602749      0.133116     -0.429242     0.194376  \n5270      0.241685      -0.608138      0.131145     -0.429487     0.186660  \n5334      0.241685      -0.608138      0.131145     -0.429487     0.186660  ",
      "text/html": "<div>\n<style scoped>\n    .dataframe tbody tr th:only-of-type {\n        vertical-align: middle;\n    }\n\n    .dataframe tbody tr th {\n        vertical-align: top;\n    }\n\n    .dataframe thead th {\n        text-align: right;\n    }\n</style>\n<table border=\"1\" class=\"dataframe\">\n  <thead>\n    <tr style=\"text-align: right;\">\n      <th></th>\n      <th>model</th>\n      <th>params</th>\n      <th>mean_test_mse</th>\n      <th>std_test_mse</th>\n      <th>mean_test_mae</th>\n      <th>std_test_mae</th>\n      <th>mean_test_r2</th>\n      <th>std_test_r2</th>\n    </tr>\n  </thead>\n  <tbody>\n    <tr>\n      <th>5326</th>\n      <td>svm</td>\n      <td>{'C': 0.95, 'degree': 7, 'epsilon': 0.2, 'kern...</td>\n      <td>-0.510121</td>\n      <td>0.248379</td>\n      <td>-0.595692</td>\n      <td>0.129962</td>\n      <td>-0.428940</td>\n      <td>0.209709</td>\n    </tr>\n    <tr>\n      <th>5134</th>\n      <td>svm</td>\n      <td>{'C': 0.95, 'degree': 4, 'epsilon': 0.2, 'kern...</td>\n      <td>-0.510121</td>\n      <td>0.248379</td>\n      <td>-0.595692</td>\n      <td>0.129962</td>\n      <td>-0.428940</td>\n      <td>0.209709</td>\n    </tr>\n    <tr>\n      <th>5198</th>\n      <td>svm</td>\n      <td>{'C': 0.95, 'degree': 5, 'epsilon': 0.2, 'kern...</td>\n      <td>-0.510121</td>\n      <td>0.248379</td>\n      <td>-0.595692</td>\n      <td>0.129962</td>\n      <td>-0.428940</td>\n      <td>0.209709</td>\n    </tr>\n    <tr>\n      <th>5006</th>\n      <td>svm</td>\n      <td>{'C': 0.95, 'degree': 2, 'epsilon': 0.2, 'kern...</td>\n      <td>-0.510121</td>\n      <td>0.248379</td>\n      <td>-0.595692</td>\n      <td>0.129962</td>\n      <td>-0.428940</td>\n      <td>0.209709</td>\n    </tr>\n    <tr>\n      <th>5262</th>\n      <td>svm</td>\n      <td>{'C': 0.95, 'degree': 6, 'epsilon': 0.2, 'kern...</td>\n      <td>-0.510121</td>\n      <td>0.248379</td>\n      <td>-0.595692</td>\n      <td>0.129962</td>\n      <td>-0.428940</td>\n      <td>0.209709</td>\n    </tr>\n    <tr>\n      <th>5070</th>\n      <td>svm</td>\n      <td>{'C': 0.95, 'degree': 3, 'epsilon': 0.2, 'kern...</td>\n      <td>-0.510121</td>\n      <td>0.248379</td>\n      <td>-0.595692</td>\n      <td>0.129962</td>\n      <td>-0.428940</td>\n      <td>0.209709</td>\n    </tr>\n    <tr>\n      <th>5258</th>\n      <td>svm</td>\n      <td>{'C': 0.95, 'degree': 6, 'epsilon': 0.15, 'ker...</td>\n      <td>-0.513537</td>\n      <td>0.256142</td>\n      <td>-0.594769</td>\n      <td>0.126995</td>\n      <td>-0.421362</td>\n      <td>0.228302</td>\n    </tr>\n    <tr>\n      <th>5194</th>\n      <td>svm</td>\n      <td>{'C': 0.95, 'degree': 5, 'epsilon': 0.15, 'ker...</td>\n      <td>-0.513537</td>\n      <td>0.256142</td>\n      <td>-0.594769</td>\n      <td>0.126995</td>\n      <td>-0.421362</td>\n      <td>0.228302</td>\n    </tr>\n    <tr>\n      <th>5130</th>\n      <td>svm</td>\n      <td>{'C': 0.95, 'degree': 4, 'epsilon': 0.15, 'ker...</td>\n      <td>-0.513537</td>\n      <td>0.256142</td>\n      <td>-0.594769</td>\n      <td>0.126995</td>\n      <td>-0.421362</td>\n      <td>0.228302</td>\n    </tr>\n    <tr>\n      <th>5002</th>\n      <td>svm</td>\n      <td>{'C': 0.95, 'degree': 2, 'epsilon': 0.15, 'ker...</td>\n      <td>-0.513537</td>\n      <td>0.256142</td>\n      <td>-0.594769</td>\n      <td>0.126995</td>\n      <td>-0.421362</td>\n      <td>0.228302</td>\n    </tr>\n    <tr>\n      <th>5322</th>\n      <td>svm</td>\n      <td>{'C': 0.95, 'degree': 7, 'epsilon': 0.15, 'ker...</td>\n      <td>-0.513537</td>\n      <td>0.256142</td>\n      <td>-0.594769</td>\n      <td>0.126995</td>\n      <td>-0.421362</td>\n      <td>0.228302</td>\n    </tr>\n    <tr>\n      <th>5066</th>\n      <td>svm</td>\n      <td>{'C': 0.95, 'degree': 3, 'epsilon': 0.15, 'ker...</td>\n      <td>-0.513537</td>\n      <td>0.256142</td>\n      <td>-0.594769</td>\n      <td>0.126995</td>\n      <td>-0.421362</td>\n      <td>0.228302</td>\n    </tr>\n    <tr>\n      <th>5138</th>\n      <td>svm</td>\n      <td>{'C': 0.95, 'degree': 4, 'epsilon': 0.25, 'ker...</td>\n      <td>-0.513764</td>\n      <td>0.243529</td>\n      <td>-0.602749</td>\n      <td>0.133116</td>\n      <td>-0.429242</td>\n      <td>0.194376</td>\n    </tr>\n    <tr>\n      <th>5266</th>\n      <td>svm</td>\n      <td>{'C': 0.95, 'degree': 6, 'epsilon': 0.25, 'ker...</td>\n      <td>-0.513764</td>\n      <td>0.243529</td>\n      <td>-0.602749</td>\n      <td>0.133116</td>\n      <td>-0.429242</td>\n      <td>0.194376</td>\n    </tr>\n    <tr>\n      <th>5010</th>\n      <td>svm</td>\n      <td>{'C': 0.95, 'degree': 2, 'epsilon': 0.25, 'ker...</td>\n      <td>-0.513764</td>\n      <td>0.243529</td>\n      <td>-0.602749</td>\n      <td>0.133116</td>\n      <td>-0.429242</td>\n      <td>0.194376</td>\n    </tr>\n    <tr>\n      <th>5330</th>\n      <td>svm</td>\n      <td>{'C': 0.95, 'degree': 7, 'epsilon': 0.25, 'ker...</td>\n      <td>-0.513764</td>\n      <td>0.243529</td>\n      <td>-0.602749</td>\n      <td>0.133116</td>\n      <td>-0.429242</td>\n      <td>0.194376</td>\n    </tr>\n    <tr>\n      <th>5074</th>\n      <td>svm</td>\n      <td>{'C': 0.95, 'degree': 3, 'epsilon': 0.25, 'ker...</td>\n      <td>-0.513764</td>\n      <td>0.243529</td>\n      <td>-0.602749</td>\n      <td>0.133116</td>\n      <td>-0.429242</td>\n      <td>0.194376</td>\n    </tr>\n    <tr>\n      <th>5202</th>\n      <td>svm</td>\n      <td>{'C': 0.95, 'degree': 5, 'epsilon': 0.25, 'ker...</td>\n      <td>-0.513764</td>\n      <td>0.243529</td>\n      <td>-0.602749</td>\n      <td>0.133116</td>\n      <td>-0.429242</td>\n      <td>0.194376</td>\n    </tr>\n    <tr>\n      <th>5270</th>\n      <td>svm</td>\n      <td>{'C': 0.95, 'degree': 6, 'epsilon': 0.3, 'kern...</td>\n      <td>-0.515028</td>\n      <td>0.241685</td>\n      <td>-0.608138</td>\n      <td>0.131145</td>\n      <td>-0.429487</td>\n      <td>0.186660</td>\n    </tr>\n    <tr>\n      <th>5334</th>\n      <td>svm</td>\n      <td>{'C': 0.95, 'degree': 7, 'epsilon': 0.3, 'kern...</td>\n      <td>-0.515028</td>\n      <td>0.241685</td>\n      <td>-0.608138</td>\n      <td>0.131145</td>\n      <td>-0.429487</td>\n      <td>0.186660</td>\n    </tr>\n  </tbody>\n</table>\n</div>"
     },
     "metadata": {},
     "execution_count": 14
    }
   ],
   "source": [
    "grid_search_df.sort_values('mean_test_mse', ascending=False).head(20)"
   ]
  },
  {
   "cell_type": "code",
   "execution_count": 15,
   "metadata": {},
   "outputs": [
    {
     "output_type": "execute_result",
     "data": {
      "text/plain": "array([\"{'C': 0.95, 'degree': 7, 'epsilon': 0.2, 'kernel': 'rbf'}\",\n       \"{'C': 0.95, 'degree': 4, 'epsilon': 0.2, 'kernel': 'rbf'}\",\n       \"{'C': 0.95, 'degree': 5, 'epsilon': 0.2, 'kernel': 'rbf'}\",\n       \"{'C': 0.95, 'degree': 2, 'epsilon': 0.2, 'kernel': 'rbf'}\",\n       \"{'C': 0.95, 'degree': 6, 'epsilon': 0.2, 'kernel': 'rbf'}\",\n       \"{'C': 0.95, 'degree': 3, 'epsilon': 0.2, 'kernel': 'rbf'}\",\n       \"{'C': 0.95, 'degree': 6, 'epsilon': 0.15, 'kernel': 'rbf'}\",\n       \"{'C': 0.95, 'degree': 5, 'epsilon': 0.15, 'kernel': 'rbf'}\",\n       \"{'C': 0.95, 'degree': 4, 'epsilon': 0.15, 'kernel': 'rbf'}\",\n       \"{'C': 0.95, 'degree': 2, 'epsilon': 0.15, 'kernel': 'rbf'}\",\n       \"{'C': 0.95, 'degree': 7, 'epsilon': 0.15, 'kernel': 'rbf'}\",\n       \"{'C': 0.95, 'degree': 3, 'epsilon': 0.15, 'kernel': 'rbf'}\",\n       \"{'C': 0.95, 'degree': 4, 'epsilon': 0.25, 'kernel': 'rbf'}\",\n       \"{'C': 0.95, 'degree': 6, 'epsilon': 0.25, 'kernel': 'rbf'}\",\n       \"{'C': 0.95, 'degree': 2, 'epsilon': 0.25, 'kernel': 'rbf'}\",\n       \"{'C': 0.95, 'degree': 7, 'epsilon': 0.25, 'kernel': 'rbf'}\",\n       \"{'C': 0.95, 'degree': 3, 'epsilon': 0.25, 'kernel': 'rbf'}\",\n       \"{'C': 0.95, 'degree': 5, 'epsilon': 0.25, 'kernel': 'rbf'}\",\n       \"{'C': 0.95, 'degree': 6, 'epsilon': 0.3, 'kernel': 'rbf'}\",\n       \"{'C': 0.95, 'degree': 7, 'epsilon': 0.3, 'kernel': 'rbf'}\"],\n      dtype=object)"
     },
     "metadata": {},
     "execution_count": 15
    }
   ],
   "source": [
    "grid_search_df.sort_values('mean_test_mse', ascending=False)[\"params\"].head(20).values\n"
   ]
  },
  {
   "cell_type": "markdown",
   "metadata": {},
   "source": [
    "# KNN Regressor"
   ]
  },
  {
   "cell_type": "code",
   "execution_count": 16,
   "metadata": {},
   "outputs": [],
   "source": [
    "PATH = 'knn_grid_search_results.csv'\n"
   ]
  },
  {
   "cell_type": "code",
   "execution_count": 17,
   "metadata": {},
   "outputs": [],
   "source": [
    "grid_search_df = pd.read_csv(PATH)\n",
    "grid_search_df[\"model\"] = \"knn\"\n",
    "grid_search_df = grid_search_df[[\"model\", 'params', 'mean_test_mse', 'std_test_mse', 'mean_test_mae', 'std_test_mae', 'mean_test_r2', 'std_test_r2']]\n",
    "summary_df = summary_df.append(grid_search_df.sort_values('mean_test_mse', ascending=False).iloc[0], ignore_index=True)"
   ]
  },
  {
   "cell_type": "code",
   "execution_count": 18,
   "metadata": {},
   "outputs": [
    {
     "output_type": "execute_result",
     "data": {
      "text/plain": "   model                                             params  mean_test_mse  \\\n2    knn  {'metric': 'minkowski', 'n_neighbors': 3, 'p': 1}      -0.502201   \n3    knn  {'metric': 'minkowski', 'n_neighbors': 3, 'p': 2}      -0.550009   \n4    knn  {'metric': 'minkowski', 'n_neighbors': 5, 'p': 1}      -0.566680   \n6    knn  {'metric': 'minkowski', 'n_neighbors': 7, 'p': 1}      -0.592053   \n7    knn  {'metric': 'minkowski', 'n_neighbors': 7, 'p': 2}      -0.646589   \n8    knn  {'metric': 'minkowski', 'n_neighbors': 9, 'p': 1}      -0.655391   \n5    knn  {'metric': 'minkowski', 'n_neighbors': 5, 'p': 2}      -0.658890   \n10   knn  {'metric': 'minkowski', 'n_neighbors': 11, 'p'...      -0.701017   \n9    knn  {'metric': 'minkowski', 'n_neighbors': 9, 'p': 2}      -0.730198   \n11   knn  {'metric': 'minkowski', 'n_neighbors': 11, 'p'...      -0.746394   \n22   knn  {'metric': 'chebyshev', 'n_neighbors': 11, 'p'...      -0.787512   \n23   knn  {'metric': 'chebyshev', 'n_neighbors': 11, 'p'...      -0.787512   \n20   knn  {'metric': 'chebyshev', 'n_neighbors': 9, 'p': 1}      -0.801202   \n21   knn  {'metric': 'chebyshev', 'n_neighbors': 9, 'p': 2}      -0.801202   \n16   knn  {'metric': 'chebyshev', 'n_neighbors': 5, 'p': 1}      -0.830391   \n17   knn  {'metric': 'chebyshev', 'n_neighbors': 5, 'p': 2}      -0.830391   \n14   knn  {'metric': 'chebyshev', 'n_neighbors': 3, 'p': 1}      -0.855194   \n15   knn  {'metric': 'chebyshev', 'n_neighbors': 3, 'p': 2}      -0.855194   \n18   knn  {'metric': 'chebyshev', 'n_neighbors': 7, 'p': 1}      -0.879921   \n19   knn  {'metric': 'chebyshev', 'n_neighbors': 7, 'p': 2}      -0.879921   \n0    knn  {'metric': 'minkowski', 'n_neighbors': 1, 'p': 1}      -1.047720   \n1    knn  {'metric': 'minkowski', 'n_neighbors': 1, 'p': 2}      -1.086960   \n13   knn  {'metric': 'chebyshev', 'n_neighbors': 1, 'p': 2}      -1.320956   \n12   knn  {'metric': 'chebyshev', 'n_neighbors': 1, 'p': 1}      -1.320956   \n\n    std_test_mse  mean_test_mae  std_test_mae  mean_test_r2  std_test_r2  \n2       0.398289      -0.524776      0.108377     -0.421862     0.347044  \n3       0.499027      -0.560917      0.212051     -0.408229     0.416897  \n4       0.293941      -0.604131      0.165356     -0.391478     0.241094  \n6       0.268980      -0.646089      0.122110     -0.342648     0.225413  \n7       0.258328      -0.663129      0.136338     -0.288430     0.200351  \n8       0.250147      -0.678800      0.139198     -0.288458     0.162651  \n5       0.402353      -0.661667      0.159589     -0.289541     0.298335  \n10      0.292803      -0.712520      0.142108     -0.257952     0.127724  \n9       0.236475      -0.719416      0.153010     -0.193106     0.172145  \n11      0.213852      -0.737572      0.117755     -0.162339     0.140623  \n22      0.304811      -0.749409      0.157316     -0.154366     0.116449  \n23      0.304811      -0.749409      0.157316     -0.154366     0.116449  \n20      0.306288      -0.739368      0.174270     -0.139530     0.132242  \n21      0.306288      -0.739368      0.174270     -0.139530     0.132242  \n16      0.461157      -0.734213      0.209993     -0.077502     0.517135  \n17      0.461157      -0.734213      0.209993     -0.077502     0.517135  \n14      0.560351      -0.710665      0.246923     -0.008244     0.623697  \n15      0.560351      -0.710665      0.246923     -0.008244     0.623697  \n18      0.302610      -0.766889      0.174476     -0.023891     0.277793  \n19      0.302610      -0.766889      0.174476     -0.023891     0.277793  \n0       0.603640      -0.773355      0.249806      0.246848     0.756550  \n1       0.915650      -0.720752      0.344405      0.333979     1.216455  \n13      0.761903      -0.811484      0.330734      0.647368     1.377546  \n12      0.761903      -0.811484      0.330734      0.647368     1.377546  ",
      "text/html": "<div>\n<style scoped>\n    .dataframe tbody tr th:only-of-type {\n        vertical-align: middle;\n    }\n\n    .dataframe tbody tr th {\n        vertical-align: top;\n    }\n\n    .dataframe thead th {\n        text-align: right;\n    }\n</style>\n<table border=\"1\" class=\"dataframe\">\n  <thead>\n    <tr style=\"text-align: right;\">\n      <th></th>\n      <th>model</th>\n      <th>params</th>\n      <th>mean_test_mse</th>\n      <th>std_test_mse</th>\n      <th>mean_test_mae</th>\n      <th>std_test_mae</th>\n      <th>mean_test_r2</th>\n      <th>std_test_r2</th>\n    </tr>\n  </thead>\n  <tbody>\n    <tr>\n      <th>2</th>\n      <td>knn</td>\n      <td>{'metric': 'minkowski', 'n_neighbors': 3, 'p': 1}</td>\n      <td>-0.502201</td>\n      <td>0.398289</td>\n      <td>-0.524776</td>\n      <td>0.108377</td>\n      <td>-0.421862</td>\n      <td>0.347044</td>\n    </tr>\n    <tr>\n      <th>3</th>\n      <td>knn</td>\n      <td>{'metric': 'minkowski', 'n_neighbors': 3, 'p': 2}</td>\n      <td>-0.550009</td>\n      <td>0.499027</td>\n      <td>-0.560917</td>\n      <td>0.212051</td>\n      <td>-0.408229</td>\n      <td>0.416897</td>\n    </tr>\n    <tr>\n      <th>4</th>\n      <td>knn</td>\n      <td>{'metric': 'minkowski', 'n_neighbors': 5, 'p': 1}</td>\n      <td>-0.566680</td>\n      <td>0.293941</td>\n      <td>-0.604131</td>\n      <td>0.165356</td>\n      <td>-0.391478</td>\n      <td>0.241094</td>\n    </tr>\n    <tr>\n      <th>6</th>\n      <td>knn</td>\n      <td>{'metric': 'minkowski', 'n_neighbors': 7, 'p': 1}</td>\n      <td>-0.592053</td>\n      <td>0.268980</td>\n      <td>-0.646089</td>\n      <td>0.122110</td>\n      <td>-0.342648</td>\n      <td>0.225413</td>\n    </tr>\n    <tr>\n      <th>7</th>\n      <td>knn</td>\n      <td>{'metric': 'minkowski', 'n_neighbors': 7, 'p': 2}</td>\n      <td>-0.646589</td>\n      <td>0.258328</td>\n      <td>-0.663129</td>\n      <td>0.136338</td>\n      <td>-0.288430</td>\n      <td>0.200351</td>\n    </tr>\n    <tr>\n      <th>8</th>\n      <td>knn</td>\n      <td>{'metric': 'minkowski', 'n_neighbors': 9, 'p': 1}</td>\n      <td>-0.655391</td>\n      <td>0.250147</td>\n      <td>-0.678800</td>\n      <td>0.139198</td>\n      <td>-0.288458</td>\n      <td>0.162651</td>\n    </tr>\n    <tr>\n      <th>5</th>\n      <td>knn</td>\n      <td>{'metric': 'minkowski', 'n_neighbors': 5, 'p': 2}</td>\n      <td>-0.658890</td>\n      <td>0.402353</td>\n      <td>-0.661667</td>\n      <td>0.159589</td>\n      <td>-0.289541</td>\n      <td>0.298335</td>\n    </tr>\n    <tr>\n      <th>10</th>\n      <td>knn</td>\n      <td>{'metric': 'minkowski', 'n_neighbors': 11, 'p'...</td>\n      <td>-0.701017</td>\n      <td>0.292803</td>\n      <td>-0.712520</td>\n      <td>0.142108</td>\n      <td>-0.257952</td>\n      <td>0.127724</td>\n    </tr>\n    <tr>\n      <th>9</th>\n      <td>knn</td>\n      <td>{'metric': 'minkowski', 'n_neighbors': 9, 'p': 2}</td>\n      <td>-0.730198</td>\n      <td>0.236475</td>\n      <td>-0.719416</td>\n      <td>0.153010</td>\n      <td>-0.193106</td>\n      <td>0.172145</td>\n    </tr>\n    <tr>\n      <th>11</th>\n      <td>knn</td>\n      <td>{'metric': 'minkowski', 'n_neighbors': 11, 'p'...</td>\n      <td>-0.746394</td>\n      <td>0.213852</td>\n      <td>-0.737572</td>\n      <td>0.117755</td>\n      <td>-0.162339</td>\n      <td>0.140623</td>\n    </tr>\n    <tr>\n      <th>22</th>\n      <td>knn</td>\n      <td>{'metric': 'chebyshev', 'n_neighbors': 11, 'p'...</td>\n      <td>-0.787512</td>\n      <td>0.304811</td>\n      <td>-0.749409</td>\n      <td>0.157316</td>\n      <td>-0.154366</td>\n      <td>0.116449</td>\n    </tr>\n    <tr>\n      <th>23</th>\n      <td>knn</td>\n      <td>{'metric': 'chebyshev', 'n_neighbors': 11, 'p'...</td>\n      <td>-0.787512</td>\n      <td>0.304811</td>\n      <td>-0.749409</td>\n      <td>0.157316</td>\n      <td>-0.154366</td>\n      <td>0.116449</td>\n    </tr>\n    <tr>\n      <th>20</th>\n      <td>knn</td>\n      <td>{'metric': 'chebyshev', 'n_neighbors': 9, 'p': 1}</td>\n      <td>-0.801202</td>\n      <td>0.306288</td>\n      <td>-0.739368</td>\n      <td>0.174270</td>\n      <td>-0.139530</td>\n      <td>0.132242</td>\n    </tr>\n    <tr>\n      <th>21</th>\n      <td>knn</td>\n      <td>{'metric': 'chebyshev', 'n_neighbors': 9, 'p': 2}</td>\n      <td>-0.801202</td>\n      <td>0.306288</td>\n      <td>-0.739368</td>\n      <td>0.174270</td>\n      <td>-0.139530</td>\n      <td>0.132242</td>\n    </tr>\n    <tr>\n      <th>16</th>\n      <td>knn</td>\n      <td>{'metric': 'chebyshev', 'n_neighbors': 5, 'p': 1}</td>\n      <td>-0.830391</td>\n      <td>0.461157</td>\n      <td>-0.734213</td>\n      <td>0.209993</td>\n      <td>-0.077502</td>\n      <td>0.517135</td>\n    </tr>\n    <tr>\n      <th>17</th>\n      <td>knn</td>\n      <td>{'metric': 'chebyshev', 'n_neighbors': 5, 'p': 2}</td>\n      <td>-0.830391</td>\n      <td>0.461157</td>\n      <td>-0.734213</td>\n      <td>0.209993</td>\n      <td>-0.077502</td>\n      <td>0.517135</td>\n    </tr>\n    <tr>\n      <th>14</th>\n      <td>knn</td>\n      <td>{'metric': 'chebyshev', 'n_neighbors': 3, 'p': 1}</td>\n      <td>-0.855194</td>\n      <td>0.560351</td>\n      <td>-0.710665</td>\n      <td>0.246923</td>\n      <td>-0.008244</td>\n      <td>0.623697</td>\n    </tr>\n    <tr>\n      <th>15</th>\n      <td>knn</td>\n      <td>{'metric': 'chebyshev', 'n_neighbors': 3, 'p': 2}</td>\n      <td>-0.855194</td>\n      <td>0.560351</td>\n      <td>-0.710665</td>\n      <td>0.246923</td>\n      <td>-0.008244</td>\n      <td>0.623697</td>\n    </tr>\n    <tr>\n      <th>18</th>\n      <td>knn</td>\n      <td>{'metric': 'chebyshev', 'n_neighbors': 7, 'p': 1}</td>\n      <td>-0.879921</td>\n      <td>0.302610</td>\n      <td>-0.766889</td>\n      <td>0.174476</td>\n      <td>-0.023891</td>\n      <td>0.277793</td>\n    </tr>\n    <tr>\n      <th>19</th>\n      <td>knn</td>\n      <td>{'metric': 'chebyshev', 'n_neighbors': 7, 'p': 2}</td>\n      <td>-0.879921</td>\n      <td>0.302610</td>\n      <td>-0.766889</td>\n      <td>0.174476</td>\n      <td>-0.023891</td>\n      <td>0.277793</td>\n    </tr>\n    <tr>\n      <th>0</th>\n      <td>knn</td>\n      <td>{'metric': 'minkowski', 'n_neighbors': 1, 'p': 1}</td>\n      <td>-1.047720</td>\n      <td>0.603640</td>\n      <td>-0.773355</td>\n      <td>0.249806</td>\n      <td>0.246848</td>\n      <td>0.756550</td>\n    </tr>\n    <tr>\n      <th>1</th>\n      <td>knn</td>\n      <td>{'metric': 'minkowski', 'n_neighbors': 1, 'p': 2}</td>\n      <td>-1.086960</td>\n      <td>0.915650</td>\n      <td>-0.720752</td>\n      <td>0.344405</td>\n      <td>0.333979</td>\n      <td>1.216455</td>\n    </tr>\n    <tr>\n      <th>13</th>\n      <td>knn</td>\n      <td>{'metric': 'chebyshev', 'n_neighbors': 1, 'p': 2}</td>\n      <td>-1.320956</td>\n      <td>0.761903</td>\n      <td>-0.811484</td>\n      <td>0.330734</td>\n      <td>0.647368</td>\n      <td>1.377546</td>\n    </tr>\n    <tr>\n      <th>12</th>\n      <td>knn</td>\n      <td>{'metric': 'chebyshev', 'n_neighbors': 1, 'p': 1}</td>\n      <td>-1.320956</td>\n      <td>0.761903</td>\n      <td>-0.811484</td>\n      <td>0.330734</td>\n      <td>0.647368</td>\n      <td>1.377546</td>\n    </tr>\n  </tbody>\n</table>\n</div>"
     },
     "metadata": {},
     "execution_count": 18
    }
   ],
   "source": [
    "grid_search_df.sort_values('mean_test_mse', ascending=False)"
   ]
  },
  {
   "cell_type": "markdown",
   "metadata": {},
   "source": [
    "# Lasso Regressor"
   ]
  },
  {
   "cell_type": "code",
   "execution_count": 19,
   "metadata": {},
   "outputs": [],
   "source": [
    "PATH = 'lasso_grid_search_results.csv'"
   ]
  },
  {
   "cell_type": "code",
   "execution_count": 20,
   "metadata": {},
   "outputs": [],
   "source": [
    "grid_search_df = pd.read_csv(PATH)\n",
    "grid_search_df[\"model\"] = \"lasso\"\n",
    "grid_search_df = grid_search_df[[\"model\", 'params', 'mean_test_mse', 'std_test_mse', 'mean_test_mae', 'std_test_mae', 'mean_test_r2', 'std_test_r2']]\n",
    "summary_df = summary_df.append(grid_search_df.sort_values('mean_test_mse', ascending=False).iloc[0], ignore_index=True)"
   ]
  },
  {
   "cell_type": "code",
   "execution_count": 21,
   "metadata": {},
   "outputs": [
    {
     "output_type": "execute_result",
     "data": {
      "text/plain": "    model           params  mean_test_mse  std_test_mse  mean_test_mae  \\\n2   lasso   {'alpha': 0.1}      -0.778163      0.321626      -0.735139   \n3   lasso   {'alpha': 0.2}      -0.804518      0.290025      -0.757420   \n1   lasso  {'alpha': 0.05}      -0.883243      0.700859      -0.725367   \n4   lasso   {'alpha': 0.3}      -0.928383      0.330477      -0.830299   \n7   lasso   {'alpha': 0.6}      -0.992375      0.368346      -0.878493   \n8   lasso   {'alpha': 0.7}      -0.992375      0.368346      -0.878493   \n9   lasso   {'alpha': 0.8}      -0.992375      0.368346      -0.878493   \n10  lasso   {'alpha': 0.9}      -0.992375      0.368346      -0.878493   \n11  lasso     {'alpha': 1}      -0.992375      0.368346      -0.878493   \n12  lasso     {'alpha': 2}      -0.992375      0.368346      -0.878493   \n13  lasso     {'alpha': 3}      -0.992375      0.368346      -0.878493   \n14  lasso     {'alpha': 5}      -0.992375      0.368346      -0.878493   \n15  lasso     {'alpha': 7}      -0.992375      0.368346      -0.878493   \n6   lasso   {'alpha': 0.5}      -0.993134      0.367553      -0.878736   \n5   lasso   {'alpha': 0.4}      -1.006851      0.356329      -0.877860   \n0   lasso  {'alpha': 0.01}      -1.105707      1.360675      -0.729172   \n\n    std_test_mae  mean_test_r2  std_test_r2  \n2       0.156512     -0.129102     0.249935  \n3       0.116850     -0.100018     0.221013  \n1       0.199295     -0.062411     0.468938  \n4       0.148709      0.013206     0.148667  \n7       0.179587      0.065749     0.069789  \n8       0.179587      0.065749     0.069789  \n9       0.179587      0.065749     0.069789  \n10      0.179587      0.065749     0.069789  \n11      0.179587      0.065749     0.069789  \n12      0.179587      0.065749     0.069789  \n13      0.179587      0.065749     0.069789  \n14      0.179587      0.065749     0.069789  \n15      0.179587      0.065749     0.069789  \n6       0.179322      0.067081     0.069804  \n5       0.168291      0.091271     0.094599  \n0       0.278260      0.091432     0.936621  ",
      "text/html": "<div>\n<style scoped>\n    .dataframe tbody tr th:only-of-type {\n        vertical-align: middle;\n    }\n\n    .dataframe tbody tr th {\n        vertical-align: top;\n    }\n\n    .dataframe thead th {\n        text-align: right;\n    }\n</style>\n<table border=\"1\" class=\"dataframe\">\n  <thead>\n    <tr style=\"text-align: right;\">\n      <th></th>\n      <th>model</th>\n      <th>params</th>\n      <th>mean_test_mse</th>\n      <th>std_test_mse</th>\n      <th>mean_test_mae</th>\n      <th>std_test_mae</th>\n      <th>mean_test_r2</th>\n      <th>std_test_r2</th>\n    </tr>\n  </thead>\n  <tbody>\n    <tr>\n      <th>2</th>\n      <td>lasso</td>\n      <td>{'alpha': 0.1}</td>\n      <td>-0.778163</td>\n      <td>0.321626</td>\n      <td>-0.735139</td>\n      <td>0.156512</td>\n      <td>-0.129102</td>\n      <td>0.249935</td>\n    </tr>\n    <tr>\n      <th>3</th>\n      <td>lasso</td>\n      <td>{'alpha': 0.2}</td>\n      <td>-0.804518</td>\n      <td>0.290025</td>\n      <td>-0.757420</td>\n      <td>0.116850</td>\n      <td>-0.100018</td>\n      <td>0.221013</td>\n    </tr>\n    <tr>\n      <th>1</th>\n      <td>lasso</td>\n      <td>{'alpha': 0.05}</td>\n      <td>-0.883243</td>\n      <td>0.700859</td>\n      <td>-0.725367</td>\n      <td>0.199295</td>\n      <td>-0.062411</td>\n      <td>0.468938</td>\n    </tr>\n    <tr>\n      <th>4</th>\n      <td>lasso</td>\n      <td>{'alpha': 0.3}</td>\n      <td>-0.928383</td>\n      <td>0.330477</td>\n      <td>-0.830299</td>\n      <td>0.148709</td>\n      <td>0.013206</td>\n      <td>0.148667</td>\n    </tr>\n    <tr>\n      <th>7</th>\n      <td>lasso</td>\n      <td>{'alpha': 0.6}</td>\n      <td>-0.992375</td>\n      <td>0.368346</td>\n      <td>-0.878493</td>\n      <td>0.179587</td>\n      <td>0.065749</td>\n      <td>0.069789</td>\n    </tr>\n    <tr>\n      <th>8</th>\n      <td>lasso</td>\n      <td>{'alpha': 0.7}</td>\n      <td>-0.992375</td>\n      <td>0.368346</td>\n      <td>-0.878493</td>\n      <td>0.179587</td>\n      <td>0.065749</td>\n      <td>0.069789</td>\n    </tr>\n    <tr>\n      <th>9</th>\n      <td>lasso</td>\n      <td>{'alpha': 0.8}</td>\n      <td>-0.992375</td>\n      <td>0.368346</td>\n      <td>-0.878493</td>\n      <td>0.179587</td>\n      <td>0.065749</td>\n      <td>0.069789</td>\n    </tr>\n    <tr>\n      <th>10</th>\n      <td>lasso</td>\n      <td>{'alpha': 0.9}</td>\n      <td>-0.992375</td>\n      <td>0.368346</td>\n      <td>-0.878493</td>\n      <td>0.179587</td>\n      <td>0.065749</td>\n      <td>0.069789</td>\n    </tr>\n    <tr>\n      <th>11</th>\n      <td>lasso</td>\n      <td>{'alpha': 1}</td>\n      <td>-0.992375</td>\n      <td>0.368346</td>\n      <td>-0.878493</td>\n      <td>0.179587</td>\n      <td>0.065749</td>\n      <td>0.069789</td>\n    </tr>\n    <tr>\n      <th>12</th>\n      <td>lasso</td>\n      <td>{'alpha': 2}</td>\n      <td>-0.992375</td>\n      <td>0.368346</td>\n      <td>-0.878493</td>\n      <td>0.179587</td>\n      <td>0.065749</td>\n      <td>0.069789</td>\n    </tr>\n    <tr>\n      <th>13</th>\n      <td>lasso</td>\n      <td>{'alpha': 3}</td>\n      <td>-0.992375</td>\n      <td>0.368346</td>\n      <td>-0.878493</td>\n      <td>0.179587</td>\n      <td>0.065749</td>\n      <td>0.069789</td>\n    </tr>\n    <tr>\n      <th>14</th>\n      <td>lasso</td>\n      <td>{'alpha': 5}</td>\n      <td>-0.992375</td>\n      <td>0.368346</td>\n      <td>-0.878493</td>\n      <td>0.179587</td>\n      <td>0.065749</td>\n      <td>0.069789</td>\n    </tr>\n    <tr>\n      <th>15</th>\n      <td>lasso</td>\n      <td>{'alpha': 7}</td>\n      <td>-0.992375</td>\n      <td>0.368346</td>\n      <td>-0.878493</td>\n      <td>0.179587</td>\n      <td>0.065749</td>\n      <td>0.069789</td>\n    </tr>\n    <tr>\n      <th>6</th>\n      <td>lasso</td>\n      <td>{'alpha': 0.5}</td>\n      <td>-0.993134</td>\n      <td>0.367553</td>\n      <td>-0.878736</td>\n      <td>0.179322</td>\n      <td>0.067081</td>\n      <td>0.069804</td>\n    </tr>\n    <tr>\n      <th>5</th>\n      <td>lasso</td>\n      <td>{'alpha': 0.4}</td>\n      <td>-1.006851</td>\n      <td>0.356329</td>\n      <td>-0.877860</td>\n      <td>0.168291</td>\n      <td>0.091271</td>\n      <td>0.094599</td>\n    </tr>\n    <tr>\n      <th>0</th>\n      <td>lasso</td>\n      <td>{'alpha': 0.01}</td>\n      <td>-1.105707</td>\n      <td>1.360675</td>\n      <td>-0.729172</td>\n      <td>0.278260</td>\n      <td>0.091432</td>\n      <td>0.936621</td>\n    </tr>\n  </tbody>\n</table>\n</div>"
     },
     "metadata": {},
     "execution_count": 21
    }
   ],
   "source": [
    "grid_search_df.sort_values('mean_test_mse', ascending=False)"
   ]
  },
  {
   "cell_type": "markdown",
   "metadata": {},
   "source": [
    "# Elastic Net "
   ]
  },
  {
   "cell_type": "code",
   "execution_count": 22,
   "metadata": {},
   "outputs": [],
   "source": [
    "PATH = 'elastic_net_grid_search_results.csv'"
   ]
  },
  {
   "cell_type": "code",
   "execution_count": 23,
   "metadata": {},
   "outputs": [],
   "source": [
    "grid_search_df = pd.read_csv(PATH)\n",
    "grid_search_df[\"model\"] = \"elastic_net\"\n",
    "grid_search_df = grid_search_df[[\"model\", 'params', 'mean_test_mse', 'std_test_mse', 'mean_test_mae', 'std_test_mae', 'mean_test_r2', 'std_test_r2']]\n",
    "summary_df = summary_df.append(grid_search_df.sort_values('mean_test_mse', ascending=False).iloc[0], ignore_index=True)"
   ]
  },
  {
   "cell_type": "code",
   "execution_count": 24,
   "metadata": {},
   "outputs": [
    {
     "output_type": "execute_result",
     "data": {
      "text/plain": "           model                            params  mean_test_mse  \\\n63   elastic_net     {'alpha': 0.4, 'l1_ratio': 0}      -0.665676   \n84   elastic_net     {'alpha': 0.5, 'l1_ratio': 0}      -0.666071   \n105  elastic_net     {'alpha': 0.6, 'l1_ratio': 0}      -0.670165   \n42   elastic_net     {'alpha': 0.3, 'l1_ratio': 0}      -0.673520   \n126  elastic_net     {'alpha': 0.7, 'l1_ratio': 0}      -0.675973   \n..           ...                               ...            ...   \n138  elastic_net   {'alpha': 0.7, 'l1_ratio': 0.6}      -1.003341   \n100  elastic_net   {'alpha': 0.5, 'l1_ratio': 0.8}      -1.004293   \n119  elastic_net   {'alpha': 0.6, 'l1_ratio': 0.7}      -1.004848   \n101  elastic_net  {'alpha': 0.5, 'l1_ratio': 0.85}      -1.006296   \n83   elastic_net     {'alpha': 0.4, 'l1_ratio': 1}      -1.006851   \n\n     std_test_mse  mean_test_mae  std_test_mae  mean_test_r2  std_test_r2  \n63       0.227542      -0.689212      0.116129     -0.225084     0.267277  \n84       0.216593      -0.690566      0.106966     -0.223007     0.262916  \n105      0.213256      -0.692939      0.099972     -0.218379     0.259570  \n42       0.257370      -0.688685      0.130517     -0.221256     0.276060  \n126      0.213154      -0.696600      0.093185     -0.212644     0.256360  \n..            ...            ...           ...           ...          ...  \n138      0.360815      -0.879561      0.173241      0.083523     0.079920  \n100      0.358250      -0.877497      0.169794      0.086649     0.090070  \n119      0.359690      -0.879942      0.172400      0.086090     0.081955  \n101      0.358533      -0.880459      0.172103      0.088498     0.082474  \n83       0.356329      -0.877860      0.168291      0.091271     0.094599  \n\n[273 rows x 8 columns]",
      "text/html": "<div>\n<style scoped>\n    .dataframe tbody tr th:only-of-type {\n        vertical-align: middle;\n    }\n\n    .dataframe tbody tr th {\n        vertical-align: top;\n    }\n\n    .dataframe thead th {\n        text-align: right;\n    }\n</style>\n<table border=\"1\" class=\"dataframe\">\n  <thead>\n    <tr style=\"text-align: right;\">\n      <th></th>\n      <th>model</th>\n      <th>params</th>\n      <th>mean_test_mse</th>\n      <th>std_test_mse</th>\n      <th>mean_test_mae</th>\n      <th>std_test_mae</th>\n      <th>mean_test_r2</th>\n      <th>std_test_r2</th>\n    </tr>\n  </thead>\n  <tbody>\n    <tr>\n      <th>63</th>\n      <td>elastic_net</td>\n      <td>{'alpha': 0.4, 'l1_ratio': 0}</td>\n      <td>-0.665676</td>\n      <td>0.227542</td>\n      <td>-0.689212</td>\n      <td>0.116129</td>\n      <td>-0.225084</td>\n      <td>0.267277</td>\n    </tr>\n    <tr>\n      <th>84</th>\n      <td>elastic_net</td>\n      <td>{'alpha': 0.5, 'l1_ratio': 0}</td>\n      <td>-0.666071</td>\n      <td>0.216593</td>\n      <td>-0.690566</td>\n      <td>0.106966</td>\n      <td>-0.223007</td>\n      <td>0.262916</td>\n    </tr>\n    <tr>\n      <th>105</th>\n      <td>elastic_net</td>\n      <td>{'alpha': 0.6, 'l1_ratio': 0}</td>\n      <td>-0.670165</td>\n      <td>0.213256</td>\n      <td>-0.692939</td>\n      <td>0.099972</td>\n      <td>-0.218379</td>\n      <td>0.259570</td>\n    </tr>\n    <tr>\n      <th>42</th>\n      <td>elastic_net</td>\n      <td>{'alpha': 0.3, 'l1_ratio': 0}</td>\n      <td>-0.673520</td>\n      <td>0.257370</td>\n      <td>-0.688685</td>\n      <td>0.130517</td>\n      <td>-0.221256</td>\n      <td>0.276060</td>\n    </tr>\n    <tr>\n      <th>126</th>\n      <td>elastic_net</td>\n      <td>{'alpha': 0.7, 'l1_ratio': 0}</td>\n      <td>-0.675973</td>\n      <td>0.213154</td>\n      <td>-0.696600</td>\n      <td>0.093185</td>\n      <td>-0.212644</td>\n      <td>0.256360</td>\n    </tr>\n    <tr>\n      <th>...</th>\n      <td>...</td>\n      <td>...</td>\n      <td>...</td>\n      <td>...</td>\n      <td>...</td>\n      <td>...</td>\n      <td>...</td>\n      <td>...</td>\n    </tr>\n    <tr>\n      <th>138</th>\n      <td>elastic_net</td>\n      <td>{'alpha': 0.7, 'l1_ratio': 0.6}</td>\n      <td>-1.003341</td>\n      <td>0.360815</td>\n      <td>-0.879561</td>\n      <td>0.173241</td>\n      <td>0.083523</td>\n      <td>0.079920</td>\n    </tr>\n    <tr>\n      <th>100</th>\n      <td>elastic_net</td>\n      <td>{'alpha': 0.5, 'l1_ratio': 0.8}</td>\n      <td>-1.004293</td>\n      <td>0.358250</td>\n      <td>-0.877497</td>\n      <td>0.169794</td>\n      <td>0.086649</td>\n      <td>0.090070</td>\n    </tr>\n    <tr>\n      <th>119</th>\n      <td>elastic_net</td>\n      <td>{'alpha': 0.6, 'l1_ratio': 0.7}</td>\n      <td>-1.004848</td>\n      <td>0.359690</td>\n      <td>-0.879942</td>\n      <td>0.172400</td>\n      <td>0.086090</td>\n      <td>0.081955</td>\n    </tr>\n    <tr>\n      <th>101</th>\n      <td>elastic_net</td>\n      <td>{'alpha': 0.5, 'l1_ratio': 0.85}</td>\n      <td>-1.006296</td>\n      <td>0.358533</td>\n      <td>-0.880459</td>\n      <td>0.172103</td>\n      <td>0.088498</td>\n      <td>0.082474</td>\n    </tr>\n    <tr>\n      <th>83</th>\n      <td>elastic_net</td>\n      <td>{'alpha': 0.4, 'l1_ratio': 1}</td>\n      <td>-1.006851</td>\n      <td>0.356329</td>\n      <td>-0.877860</td>\n      <td>0.168291</td>\n      <td>0.091271</td>\n      <td>0.094599</td>\n    </tr>\n  </tbody>\n</table>\n<p>273 rows × 8 columns</p>\n</div>"
     },
     "metadata": {},
     "execution_count": 24
    }
   ],
   "source": [
    "grid_search_df.sort_values('mean_test_mse', ascending=False)"
   ]
  },
  {
   "cell_type": "markdown",
   "metadata": {},
   "source": [
    "# Ridge"
   ]
  },
  {
   "cell_type": "code",
   "execution_count": 25,
   "metadata": {},
   "outputs": [],
   "source": [
    "PATH = 'ridge_grid_search_results.csv'"
   ]
  },
  {
   "cell_type": "code",
   "execution_count": 26,
   "metadata": {},
   "outputs": [],
   "source": [
    "grid_search_df = pd.read_csv(PATH)\n",
    "grid_search_df[\"model\"] = \"ridge\"\n",
    "grid_search_df = grid_search_df[[\"model\", 'params', 'mean_test_mse', 'std_test_mse', 'mean_test_mae', 'std_test_mae', 'mean_test_r2', 'std_test_r2']]\n",
    "summary_df = summary_df.append(grid_search_df.sort_values('mean_test_mse', ascending=False).iloc[0], ignore_index=True)"
   ]
  },
  {
   "cell_type": "code",
   "execution_count": 27,
   "metadata": {},
   "outputs": [
    {
     "output_type": "execute_result",
     "data": {
      "text/plain": "    model           params  mean_test_mse  std_test_mse  mean_test_mae  \\\n23  ridge    {'alpha': 17}      -0.666459      0.231901      -0.689000   \n22  ridge    {'alpha': 15}      -0.669503      0.244071      -0.688722   \n21  ridge    {'alpha': 13}      -0.675289      0.262858      -0.688713   \n20  ridge    {'alpha': 10}      -0.692454      0.312148      -0.689491   \n19  ridge     {'alpha': 9}      -0.701730      0.337495      -0.690065   \n18  ridge     {'alpha': 8}      -0.713668      0.369493      -0.690863   \n17  ridge     {'alpha': 7}      -0.729118      0.410187      -0.692152   \n16  ridge     {'alpha': 6}      -0.749301      0.462460      -0.694831   \n15  ridge     {'alpha': 5}      -0.776034      0.530517      -0.698460   \n14  ridge     {'alpha': 4}      -0.812139      0.620743      -0.702931   \n13  ridge     {'alpha': 3}      -0.862262      0.743350      -0.708541   \n12  ridge     {'alpha': 2}      -0.934670      0.915774      -0.716853   \n11  ridge     {'alpha': 1}      -1.046057      1.170448      -0.729734   \n10  ridge   {'alpha': 0.9}      -1.060539      1.202534      -0.731334   \n9   ridge   {'alpha': 0.8}      -1.075839      1.236146      -0.733007   \n8   ridge   {'alpha': 0.7}      -1.092033      1.271389      -0.734760   \n7   ridge   {'alpha': 0.6}      -1.109209      1.308374      -0.736600   \n6   ridge   {'alpha': 0.5}      -1.127469      1.347225      -0.738534   \n5   ridge   {'alpha': 0.4}      -1.146934      1.388076      -0.740572   \n4   ridge   {'alpha': 0.3}      -1.167746      1.431072      -0.742724   \n3   ridge   {'alpha': 0.2}      -1.190081      1.476369      -0.745858   \n2   ridge   {'alpha': 0.1}      -1.214152      1.524140      -0.749673   \n1   ridge  {'alpha': 0.05}      -1.226920      1.549009      -0.751678   \n0   ridge  {'alpha': 0.01}      -1.237521      1.569399      -0.753362   \n\n    std_test_mae  mean_test_r2  std_test_r2  \n23      0.118777     -0.224928     0.268621  \n22      0.124954     -0.223550     0.272173  \n21      0.132583     -0.220177     0.277707  \n20      0.147842     -0.208868     0.294141  \n19      0.154329     -0.202457     0.303781  \n18      0.161761     -0.194055     0.317015  \n17      0.170162     -0.183012     0.335375  \n16      0.179295     -0.168391     0.361099  \n15      0.190044     -0.148787     0.397498  \n14      0.203163     -0.121992     0.449590  \n13      0.219560     -0.084317     0.525311  \n12      0.240536     -0.029016     0.638062  \n11      0.268534      0.058301     0.812878  \n10      0.271898      0.069897     0.835427  \n9       0.275393      0.082220     0.859160  \n8       0.279029      0.095349     0.884168  \n7       0.282816      0.109377     0.910547  \n6       0.286769      0.124414     0.938407  \n5       0.290902      0.140596     0.967872  \n4       0.295234      0.158088     0.999080  \n3       0.299668      0.177093     1.032190  \n2       0.304609      0.197873     1.067386  \n1       0.307171      0.209030     1.085833  \n0       0.309243      0.218369     1.101025  ",
      "text/html": "<div>\n<style scoped>\n    .dataframe tbody tr th:only-of-type {\n        vertical-align: middle;\n    }\n\n    .dataframe tbody tr th {\n        vertical-align: top;\n    }\n\n    .dataframe thead th {\n        text-align: right;\n    }\n</style>\n<table border=\"1\" class=\"dataframe\">\n  <thead>\n    <tr style=\"text-align: right;\">\n      <th></th>\n      <th>model</th>\n      <th>params</th>\n      <th>mean_test_mse</th>\n      <th>std_test_mse</th>\n      <th>mean_test_mae</th>\n      <th>std_test_mae</th>\n      <th>mean_test_r2</th>\n      <th>std_test_r2</th>\n    </tr>\n  </thead>\n  <tbody>\n    <tr>\n      <th>23</th>\n      <td>ridge</td>\n      <td>{'alpha': 17}</td>\n      <td>-0.666459</td>\n      <td>0.231901</td>\n      <td>-0.689000</td>\n      <td>0.118777</td>\n      <td>-0.224928</td>\n      <td>0.268621</td>\n    </tr>\n    <tr>\n      <th>22</th>\n      <td>ridge</td>\n      <td>{'alpha': 15}</td>\n      <td>-0.669503</td>\n      <td>0.244071</td>\n      <td>-0.688722</td>\n      <td>0.124954</td>\n      <td>-0.223550</td>\n      <td>0.272173</td>\n    </tr>\n    <tr>\n      <th>21</th>\n      <td>ridge</td>\n      <td>{'alpha': 13}</td>\n      <td>-0.675289</td>\n      <td>0.262858</td>\n      <td>-0.688713</td>\n      <td>0.132583</td>\n      <td>-0.220177</td>\n      <td>0.277707</td>\n    </tr>\n    <tr>\n      <th>20</th>\n      <td>ridge</td>\n      <td>{'alpha': 10}</td>\n      <td>-0.692454</td>\n      <td>0.312148</td>\n      <td>-0.689491</td>\n      <td>0.147842</td>\n      <td>-0.208868</td>\n      <td>0.294141</td>\n    </tr>\n    <tr>\n      <th>19</th>\n      <td>ridge</td>\n      <td>{'alpha': 9}</td>\n      <td>-0.701730</td>\n      <td>0.337495</td>\n      <td>-0.690065</td>\n      <td>0.154329</td>\n      <td>-0.202457</td>\n      <td>0.303781</td>\n    </tr>\n    <tr>\n      <th>18</th>\n      <td>ridge</td>\n      <td>{'alpha': 8}</td>\n      <td>-0.713668</td>\n      <td>0.369493</td>\n      <td>-0.690863</td>\n      <td>0.161761</td>\n      <td>-0.194055</td>\n      <td>0.317015</td>\n    </tr>\n    <tr>\n      <th>17</th>\n      <td>ridge</td>\n      <td>{'alpha': 7}</td>\n      <td>-0.729118</td>\n      <td>0.410187</td>\n      <td>-0.692152</td>\n      <td>0.170162</td>\n      <td>-0.183012</td>\n      <td>0.335375</td>\n    </tr>\n    <tr>\n      <th>16</th>\n      <td>ridge</td>\n      <td>{'alpha': 6}</td>\n      <td>-0.749301</td>\n      <td>0.462460</td>\n      <td>-0.694831</td>\n      <td>0.179295</td>\n      <td>-0.168391</td>\n      <td>0.361099</td>\n    </tr>\n    <tr>\n      <th>15</th>\n      <td>ridge</td>\n      <td>{'alpha': 5}</td>\n      <td>-0.776034</td>\n      <td>0.530517</td>\n      <td>-0.698460</td>\n      <td>0.190044</td>\n      <td>-0.148787</td>\n      <td>0.397498</td>\n    </tr>\n    <tr>\n      <th>14</th>\n      <td>ridge</td>\n      <td>{'alpha': 4}</td>\n      <td>-0.812139</td>\n      <td>0.620743</td>\n      <td>-0.702931</td>\n      <td>0.203163</td>\n      <td>-0.121992</td>\n      <td>0.449590</td>\n    </tr>\n    <tr>\n      <th>13</th>\n      <td>ridge</td>\n      <td>{'alpha': 3}</td>\n      <td>-0.862262</td>\n      <td>0.743350</td>\n      <td>-0.708541</td>\n      <td>0.219560</td>\n      <td>-0.084317</td>\n      <td>0.525311</td>\n    </tr>\n    <tr>\n      <th>12</th>\n      <td>ridge</td>\n      <td>{'alpha': 2}</td>\n      <td>-0.934670</td>\n      <td>0.915774</td>\n      <td>-0.716853</td>\n      <td>0.240536</td>\n      <td>-0.029016</td>\n      <td>0.638062</td>\n    </tr>\n    <tr>\n      <th>11</th>\n      <td>ridge</td>\n      <td>{'alpha': 1}</td>\n      <td>-1.046057</td>\n      <td>1.170448</td>\n      <td>-0.729734</td>\n      <td>0.268534</td>\n      <td>0.058301</td>\n      <td>0.812878</td>\n    </tr>\n    <tr>\n      <th>10</th>\n      <td>ridge</td>\n      <td>{'alpha': 0.9}</td>\n      <td>-1.060539</td>\n      <td>1.202534</td>\n      <td>-0.731334</td>\n      <td>0.271898</td>\n      <td>0.069897</td>\n      <td>0.835427</td>\n    </tr>\n    <tr>\n      <th>9</th>\n      <td>ridge</td>\n      <td>{'alpha': 0.8}</td>\n      <td>-1.075839</td>\n      <td>1.236146</td>\n      <td>-0.733007</td>\n      <td>0.275393</td>\n      <td>0.082220</td>\n      <td>0.859160</td>\n    </tr>\n    <tr>\n      <th>8</th>\n      <td>ridge</td>\n      <td>{'alpha': 0.7}</td>\n      <td>-1.092033</td>\n      <td>1.271389</td>\n      <td>-0.734760</td>\n      <td>0.279029</td>\n      <td>0.095349</td>\n      <td>0.884168</td>\n    </tr>\n    <tr>\n      <th>7</th>\n      <td>ridge</td>\n      <td>{'alpha': 0.6}</td>\n      <td>-1.109209</td>\n      <td>1.308374</td>\n      <td>-0.736600</td>\n      <td>0.282816</td>\n      <td>0.109377</td>\n      <td>0.910547</td>\n    </tr>\n    <tr>\n      <th>6</th>\n      <td>ridge</td>\n      <td>{'alpha': 0.5}</td>\n      <td>-1.127469</td>\n      <td>1.347225</td>\n      <td>-0.738534</td>\n      <td>0.286769</td>\n      <td>0.124414</td>\n      <td>0.938407</td>\n    </tr>\n    <tr>\n      <th>5</th>\n      <td>ridge</td>\n      <td>{'alpha': 0.4}</td>\n      <td>-1.146934</td>\n      <td>1.388076</td>\n      <td>-0.740572</td>\n      <td>0.290902</td>\n      <td>0.140596</td>\n      <td>0.967872</td>\n    </tr>\n    <tr>\n      <th>4</th>\n      <td>ridge</td>\n      <td>{'alpha': 0.3}</td>\n      <td>-1.167746</td>\n      <td>1.431072</td>\n      <td>-0.742724</td>\n      <td>0.295234</td>\n      <td>0.158088</td>\n      <td>0.999080</td>\n    </tr>\n    <tr>\n      <th>3</th>\n      <td>ridge</td>\n      <td>{'alpha': 0.2}</td>\n      <td>-1.190081</td>\n      <td>1.476369</td>\n      <td>-0.745858</td>\n      <td>0.299668</td>\n      <td>0.177093</td>\n      <td>1.032190</td>\n    </tr>\n    <tr>\n      <th>2</th>\n      <td>ridge</td>\n      <td>{'alpha': 0.1}</td>\n      <td>-1.214152</td>\n      <td>1.524140</td>\n      <td>-0.749673</td>\n      <td>0.304609</td>\n      <td>0.197873</td>\n      <td>1.067386</td>\n    </tr>\n    <tr>\n      <th>1</th>\n      <td>ridge</td>\n      <td>{'alpha': 0.05}</td>\n      <td>-1.226920</td>\n      <td>1.549009</td>\n      <td>-0.751678</td>\n      <td>0.307171</td>\n      <td>0.209030</td>\n      <td>1.085833</td>\n    </tr>\n    <tr>\n      <th>0</th>\n      <td>ridge</td>\n      <td>{'alpha': 0.01}</td>\n      <td>-1.237521</td>\n      <td>1.569399</td>\n      <td>-0.753362</td>\n      <td>0.309243</td>\n      <td>0.218369</td>\n      <td>1.101025</td>\n    </tr>\n  </tbody>\n</table>\n</div>"
     },
     "metadata": {},
     "execution_count": 27
    }
   ],
   "source": [
    "grid_search_df.sort_values('mean_test_mse', ascending=False)"
   ]
  },
  {
   "cell_type": "markdown",
   "metadata": {},
   "source": [
    "# SGD"
   ]
  },
  {
   "cell_type": "code",
   "execution_count": 28,
   "metadata": {},
   "outputs": [],
   "source": [
    "PATH = 'sgd_grid_search_results.csv'"
   ]
  },
  {
   "cell_type": "code",
   "execution_count": 29,
   "metadata": {},
   "outputs": [],
   "source": [
    "grid_search_df = pd.read_csv(PATH)\n",
    "grid_search_df[\"model\"] = \"sgd\"\n",
    "grid_search_df = grid_search_df[[\"model\", 'params', 'mean_test_mse', 'std_test_mse', 'mean_test_mae', 'std_test_mae', 'mean_test_r2', 'std_test_r2']]\n",
    "summary_df = summary_df.append(grid_search_df.sort_values('mean_test_mse', ascending=False).iloc[0], ignore_index=True)"
   ]
  },
  {
   "cell_type": "code",
   "execution_count": 30,
   "metadata": {},
   "outputs": [
    {
     "output_type": "execute_result",
     "data": {
      "text/plain": "      model                                             params  mean_test_mse  \\\n19833   sgd  {'alpha': 1, 'epsilon': 0.05, 'l1_ratio': 0.7,...  -6.132361e-01   \n19689   sgd  {'alpha': 1, 'epsilon': 0.05, 'l1_ratio': 0.55...  -6.429318e-01   \n16151   sgd  {'alpha': 1, 'epsilon': 0.2, 'l1_ratio': 0, 'l...  -6.432446e-01   \n17973   sgd  {'alpha': 1, 'epsilon': 0.15, 'l1_ratio': 0.85...  -6.434080e-01   \n18165   sgd  {'alpha': 1, 'epsilon': 0.1, 'l1_ratio': 0, 'l...  -6.449197e-01   \n...     ...                                                ...            ...   \n3373    sgd  {'alpha': 0.0001, 'epsilon': 0.05, 'l1_ratio':...  -5.085209e+27   \n2364    sgd  {'alpha': 0.0001, 'epsilon': 0.1, 'l1_ratio': ...  -5.287230e+27   \n3708    sgd  {'alpha': 0.0001, 'epsilon': 0.05, 'l1_ratio':...  -5.457776e+27   \n3142    sgd  {'alpha': 0.0001, 'epsilon': 0.05, 'l1_ratio':...  -5.523835e+27   \n2316    sgd  {'alpha': 0.0001, 'epsilon': 0.1, 'l1_ratio': ...  -7.133867e+27   \n\n       std_test_mse  mean_test_mae  std_test_mae  mean_test_r2   std_test_r2  \n19833  2.186325e-01  -6.612833e-01  1.101806e-01 -2.824150e-01  2.594067e-01  \n19689  2.465887e-01  -6.758425e-01  1.320675e-01 -2.543756e-01  2.834309e-01  \n16151  2.065155e-01  -6.609662e-01  1.062391e-01 -2.484250e-01  2.595137e-01  \n17973  2.226784e-01  -6.845844e-01  1.040576e-01 -2.493710e-01  2.718273e-01  \n18165  2.313792e-01  -6.843822e-01  1.070496e-01 -2.650677e-01  2.194135e-01  \n...             ...            ...           ...           ...           ...  \n3373   8.002456e+27  -4.439121e+13  3.133774e+13  4.964623e+27  6.401120e+27  \n2364   1.293846e+28  -3.570693e+13  3.321229e+13  4.359695e+27  9.968402e+27  \n3708   6.788400e+27  -4.775578e+13  3.071196e+13  7.155822e+27  1.046185e+28  \n3142   9.998015e+27  -4.442074e+13  3.402577e+13  8.211240e+27  1.766553e+28  \n2316   9.104439e+27  -5.136669e+13  3.097180e+13  7.759450e+27  9.034657e+27  \n\n[20160 rows x 8 columns]",
      "text/html": "<div>\n<style scoped>\n    .dataframe tbody tr th:only-of-type {\n        vertical-align: middle;\n    }\n\n    .dataframe tbody tr th {\n        vertical-align: top;\n    }\n\n    .dataframe thead th {\n        text-align: right;\n    }\n</style>\n<table border=\"1\" class=\"dataframe\">\n  <thead>\n    <tr style=\"text-align: right;\">\n      <th></th>\n      <th>model</th>\n      <th>params</th>\n      <th>mean_test_mse</th>\n      <th>std_test_mse</th>\n      <th>mean_test_mae</th>\n      <th>std_test_mae</th>\n      <th>mean_test_r2</th>\n      <th>std_test_r2</th>\n    </tr>\n  </thead>\n  <tbody>\n    <tr>\n      <th>19833</th>\n      <td>sgd</td>\n      <td>{'alpha': 1, 'epsilon': 0.05, 'l1_ratio': 0.7,...</td>\n      <td>-6.132361e-01</td>\n      <td>2.186325e-01</td>\n      <td>-6.612833e-01</td>\n      <td>1.101806e-01</td>\n      <td>-2.824150e-01</td>\n      <td>2.594067e-01</td>\n    </tr>\n    <tr>\n      <th>19689</th>\n      <td>sgd</td>\n      <td>{'alpha': 1, 'epsilon': 0.05, 'l1_ratio': 0.55...</td>\n      <td>-6.429318e-01</td>\n      <td>2.465887e-01</td>\n      <td>-6.758425e-01</td>\n      <td>1.320675e-01</td>\n      <td>-2.543756e-01</td>\n      <td>2.834309e-01</td>\n    </tr>\n    <tr>\n      <th>16151</th>\n      <td>sgd</td>\n      <td>{'alpha': 1, 'epsilon': 0.2, 'l1_ratio': 0, 'l...</td>\n      <td>-6.432446e-01</td>\n      <td>2.065155e-01</td>\n      <td>-6.609662e-01</td>\n      <td>1.062391e-01</td>\n      <td>-2.484250e-01</td>\n      <td>2.595137e-01</td>\n    </tr>\n    <tr>\n      <th>17973</th>\n      <td>sgd</td>\n      <td>{'alpha': 1, 'epsilon': 0.15, 'l1_ratio': 0.85...</td>\n      <td>-6.434080e-01</td>\n      <td>2.226784e-01</td>\n      <td>-6.845844e-01</td>\n      <td>1.040576e-01</td>\n      <td>-2.493710e-01</td>\n      <td>2.718273e-01</td>\n    </tr>\n    <tr>\n      <th>18165</th>\n      <td>sgd</td>\n      <td>{'alpha': 1, 'epsilon': 0.1, 'l1_ratio': 0, 'l...</td>\n      <td>-6.449197e-01</td>\n      <td>2.313792e-01</td>\n      <td>-6.843822e-01</td>\n      <td>1.070496e-01</td>\n      <td>-2.650677e-01</td>\n      <td>2.194135e-01</td>\n    </tr>\n    <tr>\n      <th>...</th>\n      <td>...</td>\n      <td>...</td>\n      <td>...</td>\n      <td>...</td>\n      <td>...</td>\n      <td>...</td>\n      <td>...</td>\n      <td>...</td>\n    </tr>\n    <tr>\n      <th>3373</th>\n      <td>sgd</td>\n      <td>{'alpha': 0.0001, 'epsilon': 0.05, 'l1_ratio':...</td>\n      <td>-5.085209e+27</td>\n      <td>8.002456e+27</td>\n      <td>-4.439121e+13</td>\n      <td>3.133774e+13</td>\n      <td>4.964623e+27</td>\n      <td>6.401120e+27</td>\n    </tr>\n    <tr>\n      <th>2364</th>\n      <td>sgd</td>\n      <td>{'alpha': 0.0001, 'epsilon': 0.1, 'l1_ratio': ...</td>\n      <td>-5.287230e+27</td>\n      <td>1.293846e+28</td>\n      <td>-3.570693e+13</td>\n      <td>3.321229e+13</td>\n      <td>4.359695e+27</td>\n      <td>9.968402e+27</td>\n    </tr>\n    <tr>\n      <th>3708</th>\n      <td>sgd</td>\n      <td>{'alpha': 0.0001, 'epsilon': 0.05, 'l1_ratio':...</td>\n      <td>-5.457776e+27</td>\n      <td>6.788400e+27</td>\n      <td>-4.775578e+13</td>\n      <td>3.071196e+13</td>\n      <td>7.155822e+27</td>\n      <td>1.046185e+28</td>\n    </tr>\n    <tr>\n      <th>3142</th>\n      <td>sgd</td>\n      <td>{'alpha': 0.0001, 'epsilon': 0.05, 'l1_ratio':...</td>\n      <td>-5.523835e+27</td>\n      <td>9.998015e+27</td>\n      <td>-4.442074e+13</td>\n      <td>3.402577e+13</td>\n      <td>8.211240e+27</td>\n      <td>1.766553e+28</td>\n    </tr>\n    <tr>\n      <th>2316</th>\n      <td>sgd</td>\n      <td>{'alpha': 0.0001, 'epsilon': 0.1, 'l1_ratio': ...</td>\n      <td>-7.133867e+27</td>\n      <td>9.104439e+27</td>\n      <td>-5.136669e+13</td>\n      <td>3.097180e+13</td>\n      <td>7.759450e+27</td>\n      <td>9.034657e+27</td>\n    </tr>\n  </tbody>\n</table>\n<p>20160 rows × 8 columns</p>\n</div>"
     },
     "metadata": {},
     "execution_count": 30
    }
   ],
   "source": [
    "grid_search_df.sort_values('mean_test_mse', ascending=False)"
   ]
  },
  {
   "cell_type": "code",
   "execution_count": 31,
   "metadata": {},
   "outputs": [
    {
     "output_type": "execute_result",
     "data": {
      "text/plain": "array([\"{'alpha': 1, 'epsilon': 0.05, 'l1_ratio': 0.7, 'learning_rate': 'constant', 'loss': 'squared_epsilon_insensitive', 'penalty': 'l2'}\",\n       \"{'alpha': 1, 'epsilon': 0.05, 'l1_ratio': 0.55, 'learning_rate': 'constant', 'loss': 'squared_epsilon_insensitive', 'penalty': 'l2'}\",\n       \"{'alpha': 1, 'epsilon': 0.2, 'l1_ratio': 0, 'learning_rate': 'optimal', 'loss': 'squared_epsilon_insensitive', 'penalty': 'elasticnet'}\",\n       \"{'alpha': 1, 'epsilon': 0.15, 'l1_ratio': 0.85, 'learning_rate': 'optimal', 'loss': 'squared_epsilon_insensitive', 'penalty': 'l2'}\",\n       \"{'alpha': 1, 'epsilon': 0.1, 'l1_ratio': 0, 'learning_rate': 'optimal', 'loss': 'squared_epsilon_insensitive', 'penalty': 'l2'}\",\n       \"{'alpha': 1, 'epsilon': 0.15, 'l1_ratio': 0.9, 'learning_rate': 'constant', 'loss': 'squared_epsilon_insensitive', 'penalty': 'l2'}\",\n       \"{'alpha': 1, 'epsilon': 0.15, 'l1_ratio': 0.65, 'learning_rate': 'constant', 'loss': 'squared_epsilon_insensitive', 'penalty': 'l2'}\",\n       \"{'alpha': 1, 'epsilon': 0.1, 'l1_ratio': 0.25, 'learning_rate': 'optimal', 'loss': 'squared_epsilon_insensitive', 'penalty': 'l2'}\",\n       \"{'alpha': 1, 'epsilon': 0.15, 'l1_ratio': 0, 'learning_rate': 'optimal', 'loss': 'squared_epsilon_insensitive', 'penalty': 'elasticnet'}\",\n       \"{'alpha': 1, 'epsilon': 0.15, 'l1_ratio': 0.6, 'learning_rate': 'optimal', 'loss': 'squared_epsilon_insensitive', 'penalty': 'l2'}\",\n       \"{'alpha': 1, 'epsilon': 0.15, 'l1_ratio': 0.15, 'learning_rate': 'constant', 'loss': 'squared_epsilon_insensitive', 'penalty': 'l2'}\",\n       \"{'alpha': 1, 'epsilon': 0.2, 'l1_ratio': 0, 'learning_rate': 'constant', 'loss': 'squared_epsilon_insensitive', 'penalty': 'l2'}\",\n       \"{'alpha': 1, 'epsilon': 0.05, 'l1_ratio': 0.2, 'learning_rate': 'optimal', 'loss': 'squared_epsilon_insensitive', 'penalty': 'l2'}\",\n       \"{'alpha': 1, 'epsilon': 0.2, 'l1_ratio': 0.3, 'learning_rate': 'constant', 'loss': 'squared_epsilon_insensitive', 'penalty': 'l2'}\",\n       \"{'alpha': 1, 'epsilon': 0.05, 'l1_ratio': 0, 'learning_rate': 'constant', 'loss': 'squared_epsilon_insensitive', 'penalty': 'elasticnet'}\",\n       \"{'alpha': 1, 'epsilon': 0.05, 'l1_ratio': 0.85, 'learning_rate': 'constant', 'loss': 'squared_epsilon_insensitive', 'penalty': 'l2'}\",\n       \"{'alpha': 1, 'epsilon': 0.05, 'l1_ratio': 1, 'learning_rate': 'optimal', 'loss': 'squared_epsilon_insensitive', 'penalty': 'l2'}\",\n       \"{'alpha': 1, 'epsilon': 0.15, 'l1_ratio': 0.7, 'learning_rate': 'constant', 'loss': 'squared_epsilon_insensitive', 'penalty': 'l2'}\",\n       \"{'alpha': 1, 'epsilon': 0.2, 'l1_ratio': 0.45, 'learning_rate': 'optimal', 'loss': 'squared_epsilon_insensitive', 'penalty': 'l2'}\",\n       \"{'alpha': 1, 'epsilon': 0.2, 'l1_ratio': 0.2, 'learning_rate': 'optimal', 'loss': 'squared_epsilon_insensitive', 'penalty': 'l2'}\"],\n      dtype=object)"
     },
     "metadata": {},
     "execution_count": 31
    }
   ],
   "source": [
    "grid_search_df.sort_values('mean_test_mse', ascending=False)[\"params\"].head(20).values"
   ]
  },
  {
   "cell_type": "markdown",
   "metadata": {},
   "source": [
    "# Sumário"
   ]
  },
  {
   "cell_type": "code",
   "execution_count": 32,
   "metadata": {},
   "outputs": [
    {
     "output_type": "execute_result",
     "data": {
      "text/plain": "           model                                             params  \\\n0  random_forest          {'criterion': 'mse', 'n_estimators': 100}   \n1      ada_boost  {'learning_rate': 0.8, 'loss': 'square', 'n_es...   \n3            knn  {'metric': 'minkowski', 'n_neighbors': 3, 'p': 1}   \n2            svm  {'C': 0.95, 'degree': 7, 'epsilon': 0.2, 'kern...   \n7            sgd  {'alpha': 1, 'epsilon': 0.05, 'l1_ratio': 0.7,...   \n5    elastic_net                      {'alpha': 0.4, 'l1_ratio': 0}   \n6          ridge                                      {'alpha': 17}   \n4          lasso                                     {'alpha': 0.1}   \n\n   mean_test_mse  std_test_mse  mean_test_mae  std_test_mae  mean_test_r2  \\\n0      -0.030354      0.023160      -0.129177      0.042045     -0.541474   \n1      -0.033371      0.023681      -0.127704      0.044725     -0.459979   \n3      -0.502201      0.398289      -0.524776      0.108377     -0.421862   \n2      -0.510121      0.248379      -0.595692      0.129962     -0.428940   \n7      -0.613236      0.218632      -0.661283      0.110181     -0.282415   \n5      -0.665676      0.227542      -0.689212      0.116129     -0.225084   \n6      -0.666459      0.231901      -0.689000      0.118777     -0.224928   \n4      -0.778163      0.321626      -0.735139      0.156512     -0.129102   \n\n   std_test_r2  \n0     0.287998  \n1     0.430895  \n3     0.347044  \n2     0.209709  \n7     0.259407  \n5     0.267277  \n6     0.268621  \n4     0.249935  ",
      "text/html": "<div>\n<style scoped>\n    .dataframe tbody tr th:only-of-type {\n        vertical-align: middle;\n    }\n\n    .dataframe tbody tr th {\n        vertical-align: top;\n    }\n\n    .dataframe thead th {\n        text-align: right;\n    }\n</style>\n<table border=\"1\" class=\"dataframe\">\n  <thead>\n    <tr style=\"text-align: right;\">\n      <th></th>\n      <th>model</th>\n      <th>params</th>\n      <th>mean_test_mse</th>\n      <th>std_test_mse</th>\n      <th>mean_test_mae</th>\n      <th>std_test_mae</th>\n      <th>mean_test_r2</th>\n      <th>std_test_r2</th>\n    </tr>\n  </thead>\n  <tbody>\n    <tr>\n      <th>0</th>\n      <td>random_forest</td>\n      <td>{'criterion': 'mse', 'n_estimators': 100}</td>\n      <td>-0.030354</td>\n      <td>0.023160</td>\n      <td>-0.129177</td>\n      <td>0.042045</td>\n      <td>-0.541474</td>\n      <td>0.287998</td>\n    </tr>\n    <tr>\n      <th>1</th>\n      <td>ada_boost</td>\n      <td>{'learning_rate': 0.8, 'loss': 'square', 'n_es...</td>\n      <td>-0.033371</td>\n      <td>0.023681</td>\n      <td>-0.127704</td>\n      <td>0.044725</td>\n      <td>-0.459979</td>\n      <td>0.430895</td>\n    </tr>\n    <tr>\n      <th>3</th>\n      <td>knn</td>\n      <td>{'metric': 'minkowski', 'n_neighbors': 3, 'p': 1}</td>\n      <td>-0.502201</td>\n      <td>0.398289</td>\n      <td>-0.524776</td>\n      <td>0.108377</td>\n      <td>-0.421862</td>\n      <td>0.347044</td>\n    </tr>\n    <tr>\n      <th>2</th>\n      <td>svm</td>\n      <td>{'C': 0.95, 'degree': 7, 'epsilon': 0.2, 'kern...</td>\n      <td>-0.510121</td>\n      <td>0.248379</td>\n      <td>-0.595692</td>\n      <td>0.129962</td>\n      <td>-0.428940</td>\n      <td>0.209709</td>\n    </tr>\n    <tr>\n      <th>7</th>\n      <td>sgd</td>\n      <td>{'alpha': 1, 'epsilon': 0.05, 'l1_ratio': 0.7,...</td>\n      <td>-0.613236</td>\n      <td>0.218632</td>\n      <td>-0.661283</td>\n      <td>0.110181</td>\n      <td>-0.282415</td>\n      <td>0.259407</td>\n    </tr>\n    <tr>\n      <th>5</th>\n      <td>elastic_net</td>\n      <td>{'alpha': 0.4, 'l1_ratio': 0}</td>\n      <td>-0.665676</td>\n      <td>0.227542</td>\n      <td>-0.689212</td>\n      <td>0.116129</td>\n      <td>-0.225084</td>\n      <td>0.267277</td>\n    </tr>\n    <tr>\n      <th>6</th>\n      <td>ridge</td>\n      <td>{'alpha': 17}</td>\n      <td>-0.666459</td>\n      <td>0.231901</td>\n      <td>-0.689000</td>\n      <td>0.118777</td>\n      <td>-0.224928</td>\n      <td>0.268621</td>\n    </tr>\n    <tr>\n      <th>4</th>\n      <td>lasso</td>\n      <td>{'alpha': 0.1}</td>\n      <td>-0.778163</td>\n      <td>0.321626</td>\n      <td>-0.735139</td>\n      <td>0.156512</td>\n      <td>-0.129102</td>\n      <td>0.249935</td>\n    </tr>\n  </tbody>\n</table>\n</div>"
     },
     "metadata": {},
     "execution_count": 32
    }
   ],
   "source": [
    "summary_df.sort_values(by='mean_test_mse', ascending=False).head(20)"
   ]
  },
  {
   "cell_type": "code",
   "execution_count": null,
   "metadata": {},
   "outputs": [],
   "source": []
  }
 ],
 "metadata": {
  "language_info": {
   "name": "python",
   "codemirror_mode": {
    "name": "ipython",
    "version": 3
   },
   "version": "3.6.9-final"
  },
  "orig_nbformat": 2,
  "file_extension": ".py",
  "mimetype": "text/x-python",
  "name": "python",
  "npconvert_exporter": "python",
  "pygments_lexer": "ipython3",
  "version": 3,
  "kernelspec": {
   "name": "python36964bitbertvirtualenv054cbb15ab924922a35a349b12e89805",
   "display_name": "Python 3.6.9 64-bit ('bert': virtualenv)"
  }
 },
 "nbformat": 4,
 "nbformat_minor": 2
}