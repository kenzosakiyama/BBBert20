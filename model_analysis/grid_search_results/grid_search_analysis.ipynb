{
 "cells": [
  {
   "cell_type": "code",
   "execution_count": 1,
   "metadata": {},
   "outputs": [],
   "source": [
    "import pandas as pd"
   ]
  },
  {
   "cell_type": "code",
   "execution_count": 2,
   "metadata": {},
   "outputs": [],
   "source": [
    "summary_df = pd.DataFrame(columns=[\"model\", 'params', 'mean_test_mse', 'std_test_mse', 'mean_test_mae', 'std_test_mae', 'mean_test_r2', 'std_test_r2'])"
   ]
  },
  {
   "cell_type": "code",
   "execution_count": 3,
   "metadata": {},
   "outputs": [
    {
     "output_type": "execute_result",
     "data": {
      "text/plain": [
       "Empty DataFrame\n",
       "Columns: [model, params, mean_test_mse, std_test_mse, mean_test_mae, std_test_mae, mean_test_r2, std_test_r2]\n",
       "Index: []"
      ],
      "text/html": "<div>\n<style scoped>\n    .dataframe tbody tr th:only-of-type {\n        vertical-align: middle;\n    }\n\n    .dataframe tbody tr th {\n        vertical-align: top;\n    }\n\n    .dataframe thead th {\n        text-align: right;\n    }\n</style>\n<table border=\"1\" class=\"dataframe\">\n  <thead>\n    <tr style=\"text-align: right;\">\n      <th></th>\n      <th>model</th>\n      <th>params</th>\n      <th>mean_test_mse</th>\n      <th>std_test_mse</th>\n      <th>mean_test_mae</th>\n      <th>std_test_mae</th>\n      <th>mean_test_r2</th>\n      <th>std_test_r2</th>\n    </tr>\n  </thead>\n  <tbody>\n  </tbody>\n</table>\n</div>"
     },
     "metadata": {},
     "execution_count": 3
    }
   ],
   "source": [
    "summary_df"
   ]
  },
  {
   "cell_type": "markdown",
   "metadata": {},
   "source": [
    "# Random Forest Regressor"
   ]
  },
  {
   "cell_type": "code",
   "execution_count": 4,
   "metadata": {},
   "outputs": [],
   "source": [
    "PATH = 'random_forest_grid_search_results.csv'"
   ]
  },
  {
   "cell_type": "code",
   "execution_count": 5,
   "metadata": {},
   "outputs": [],
   "source": [
    "grid_search_df = pd.read_csv(PATH)"
   ]
  },
  {
   "cell_type": "code",
   "execution_count": 6,
   "metadata": {},
   "outputs": [],
   "source": [
    "grid_search_df[\"model\"] = \"random_forest\"\n",
    "grid_search_df = grid_search_df[[\"model\", 'params', 'mean_test_mse', 'std_test_mse', 'mean_test_mae', 'std_test_mae', 'mean_test_r2', 'std_test_r2']]\n",
    "summary_df = summary_df.append(grid_search_df.sort_values('mean_test_mse', ascending=False).iloc[0], ignore_index=True)"
   ]
  },
  {
   "cell_type": "code",
   "execution_count": 7,
   "metadata": {},
   "outputs": [
    {
     "output_type": "execute_result",
     "data": {
      "text/plain": [
       "            model                                       params  mean_test_mse  \\\n",
       "0   random_forest    {'criterion': 'mse', 'n_estimators': 100}      -0.029086   \n",
       "3   random_forest   {'criterion': 'mse', 'n_estimators': 1000}      -0.029143   \n",
       "1   random_forest    {'criterion': 'mse', 'n_estimators': 200}      -0.029250   \n",
       "5   random_forest   {'criterion': 'mse', 'n_estimators': 3000}      -0.029258   \n",
       "6   random_forest   {'criterion': 'mse', 'n_estimators': 5000}      -0.029296   \n",
       "7   random_forest  {'criterion': 'mse', 'n_estimators': 10000}      -0.029426   \n",
       "2   random_forest    {'criterion': 'mse', 'n_estimators': 500}      -0.029530   \n",
       "4   random_forest   {'criterion': 'mse', 'n_estimators': 2000}      -0.029564   \n",
       "12  random_forest   {'criterion': 'mae', 'n_estimators': 2000}      -0.029730   \n",
       "14  random_forest   {'criterion': 'mae', 'n_estimators': 5000}      -0.029794   \n",
       "15  random_forest  {'criterion': 'mae', 'n_estimators': 10000}      -0.029866   \n",
       "11  random_forest   {'criterion': 'mae', 'n_estimators': 1000}      -0.029955   \n",
       "8   random_forest    {'criterion': 'mae', 'n_estimators': 100}      -0.030344   \n",
       "13  random_forest   {'criterion': 'mae', 'n_estimators': 3000}      -0.030402   \n",
       "10  random_forest    {'criterion': 'mae', 'n_estimators': 500}      -0.030976   \n",
       "9   random_forest    {'criterion': 'mae', 'n_estimators': 200}      -0.031002   \n",
       "\n",
       "    std_test_mse  mean_test_mae  std_test_mae  mean_test_r2  std_test_r2  \n",
       "0       0.025154      -0.126040      0.052371     -0.155343     0.902487  \n",
       "3       0.025200      -0.127906      0.049721     -0.117761     0.985701  \n",
       "1       0.024712      -0.128327      0.050046     -0.104424     1.028942  \n",
       "5       0.024870      -0.126983      0.048288     -0.134226     0.905375  \n",
       "6       0.025263      -0.127523      0.048804     -0.136819     0.915448  \n",
       "7       0.025633      -0.127695      0.049125     -0.132417     0.915031  \n",
       "2       0.025371      -0.127915      0.048915     -0.143159     0.875466  \n",
       "4       0.025774      -0.127741      0.049018     -0.112109     0.967002  \n",
       "12      0.028206      -0.127355      0.054612     -0.234231     0.740137  \n",
       "14      0.028010      -0.127533      0.054486     -0.232300     0.744203  \n",
       "15      0.027939      -0.127683      0.054501     -0.229900     0.740804  \n",
       "11      0.027852      -0.127842      0.053677     -0.223503     0.745776  \n",
       "8       0.028336      -0.127873      0.052684     -0.170237     0.848131  \n",
       "13      0.028331      -0.128719      0.055397     -0.223730     0.744871  \n",
       "10      0.028322      -0.130428      0.053162     -0.213044     0.727415  \n",
       "9       0.028228      -0.130223      0.055083     -0.214005     0.732884  "
      ],
      "text/html": "<div>\n<style scoped>\n    .dataframe tbody tr th:only-of-type {\n        vertical-align: middle;\n    }\n\n    .dataframe tbody tr th {\n        vertical-align: top;\n    }\n\n    .dataframe thead th {\n        text-align: right;\n    }\n</style>\n<table border=\"1\" class=\"dataframe\">\n  <thead>\n    <tr style=\"text-align: right;\">\n      <th></th>\n      <th>model</th>\n      <th>params</th>\n      <th>mean_test_mse</th>\n      <th>std_test_mse</th>\n      <th>mean_test_mae</th>\n      <th>std_test_mae</th>\n      <th>mean_test_r2</th>\n      <th>std_test_r2</th>\n    </tr>\n  </thead>\n  <tbody>\n    <tr>\n      <th>0</th>\n      <td>random_forest</td>\n      <td>{'criterion': 'mse', 'n_estimators': 100}</td>\n      <td>-0.029086</td>\n      <td>0.025154</td>\n      <td>-0.126040</td>\n      <td>0.052371</td>\n      <td>-0.155343</td>\n      <td>0.902487</td>\n    </tr>\n    <tr>\n      <th>3</th>\n      <td>random_forest</td>\n      <td>{'criterion': 'mse', 'n_estimators': 1000}</td>\n      <td>-0.029143</td>\n      <td>0.025200</td>\n      <td>-0.127906</td>\n      <td>0.049721</td>\n      <td>-0.117761</td>\n      <td>0.985701</td>\n    </tr>\n    <tr>\n      <th>1</th>\n      <td>random_forest</td>\n      <td>{'criterion': 'mse', 'n_estimators': 200}</td>\n      <td>-0.029250</td>\n      <td>0.024712</td>\n      <td>-0.128327</td>\n      <td>0.050046</td>\n      <td>-0.104424</td>\n      <td>1.028942</td>\n    </tr>\n    <tr>\n      <th>5</th>\n      <td>random_forest</td>\n      <td>{'criterion': 'mse', 'n_estimators': 3000}</td>\n      <td>-0.029258</td>\n      <td>0.024870</td>\n      <td>-0.126983</td>\n      <td>0.048288</td>\n      <td>-0.134226</td>\n      <td>0.905375</td>\n    </tr>\n    <tr>\n      <th>6</th>\n      <td>random_forest</td>\n      <td>{'criterion': 'mse', 'n_estimators': 5000}</td>\n      <td>-0.029296</td>\n      <td>0.025263</td>\n      <td>-0.127523</td>\n      <td>0.048804</td>\n      <td>-0.136819</td>\n      <td>0.915448</td>\n    </tr>\n    <tr>\n      <th>7</th>\n      <td>random_forest</td>\n      <td>{'criterion': 'mse', 'n_estimators': 10000}</td>\n      <td>-0.029426</td>\n      <td>0.025633</td>\n      <td>-0.127695</td>\n      <td>0.049125</td>\n      <td>-0.132417</td>\n      <td>0.915031</td>\n    </tr>\n    <tr>\n      <th>2</th>\n      <td>random_forest</td>\n      <td>{'criterion': 'mse', 'n_estimators': 500}</td>\n      <td>-0.029530</td>\n      <td>0.025371</td>\n      <td>-0.127915</td>\n      <td>0.048915</td>\n      <td>-0.143159</td>\n      <td>0.875466</td>\n    </tr>\n    <tr>\n      <th>4</th>\n      <td>random_forest</td>\n      <td>{'criterion': 'mse', 'n_estimators': 2000}</td>\n      <td>-0.029564</td>\n      <td>0.025774</td>\n      <td>-0.127741</td>\n      <td>0.049018</td>\n      <td>-0.112109</td>\n      <td>0.967002</td>\n    </tr>\n    <tr>\n      <th>12</th>\n      <td>random_forest</td>\n      <td>{'criterion': 'mae', 'n_estimators': 2000}</td>\n      <td>-0.029730</td>\n      <td>0.028206</td>\n      <td>-0.127355</td>\n      <td>0.054612</td>\n      <td>-0.234231</td>\n      <td>0.740137</td>\n    </tr>\n    <tr>\n      <th>14</th>\n      <td>random_forest</td>\n      <td>{'criterion': 'mae', 'n_estimators': 5000}</td>\n      <td>-0.029794</td>\n      <td>0.028010</td>\n      <td>-0.127533</td>\n      <td>0.054486</td>\n      <td>-0.232300</td>\n      <td>0.744203</td>\n    </tr>\n    <tr>\n      <th>15</th>\n      <td>random_forest</td>\n      <td>{'criterion': 'mae', 'n_estimators': 10000}</td>\n      <td>-0.029866</td>\n      <td>0.027939</td>\n      <td>-0.127683</td>\n      <td>0.054501</td>\n      <td>-0.229900</td>\n      <td>0.740804</td>\n    </tr>\n    <tr>\n      <th>11</th>\n      <td>random_forest</td>\n      <td>{'criterion': 'mae', 'n_estimators': 1000}</td>\n      <td>-0.029955</td>\n      <td>0.027852</td>\n      <td>-0.127842</td>\n      <td>0.053677</td>\n      <td>-0.223503</td>\n      <td>0.745776</td>\n    </tr>\n    <tr>\n      <th>8</th>\n      <td>random_forest</td>\n      <td>{'criterion': 'mae', 'n_estimators': 100}</td>\n      <td>-0.030344</td>\n      <td>0.028336</td>\n      <td>-0.127873</td>\n      <td>0.052684</td>\n      <td>-0.170237</td>\n      <td>0.848131</td>\n    </tr>\n    <tr>\n      <th>13</th>\n      <td>random_forest</td>\n      <td>{'criterion': 'mae', 'n_estimators': 3000}</td>\n      <td>-0.030402</td>\n      <td>0.028331</td>\n      <td>-0.128719</td>\n      <td>0.055397</td>\n      <td>-0.223730</td>\n      <td>0.744871</td>\n    </tr>\n    <tr>\n      <th>10</th>\n      <td>random_forest</td>\n      <td>{'criterion': 'mae', 'n_estimators': 500}</td>\n      <td>-0.030976</td>\n      <td>0.028322</td>\n      <td>-0.130428</td>\n      <td>0.053162</td>\n      <td>-0.213044</td>\n      <td>0.727415</td>\n    </tr>\n    <tr>\n      <th>9</th>\n      <td>random_forest</td>\n      <td>{'criterion': 'mae', 'n_estimators': 200}</td>\n      <td>-0.031002</td>\n      <td>0.028228</td>\n      <td>-0.130223</td>\n      <td>0.055083</td>\n      <td>-0.214005</td>\n      <td>0.732884</td>\n    </tr>\n  </tbody>\n</table>\n</div>"
     },
     "metadata": {},
     "execution_count": 7
    }
   ],
   "source": [
    "grid_search_df.sort_values('mean_test_mse', ascending=False)"
   ]
  },
  {
   "cell_type": "markdown",
   "metadata": {},
   "source": [
    "# Ada Boost Regressor"
   ]
  },
  {
   "cell_type": "code",
   "execution_count": 8,
   "metadata": {},
   "outputs": [],
   "source": [
    "PATH = 'ada_boost_grid_search_results.csv'\n",
    ""
   ]
  },
  {
   "cell_type": "code",
   "execution_count": 9,
   "metadata": {},
   "outputs": [],
   "source": [
    "grid_search_df = pd.read_csv(PATH)\n",
    "grid_search_df[\"model\"] = \"ada_boost\"\n",
    "grid_search_df = grid_search_df[[\"model\", 'params', 'mean_test_mse', 'std_test_mse', 'mean_test_mae', 'std_test_mae', 'mean_test_r2', 'std_test_r2']]\n",
    "summary_df = summary_df.append(grid_search_df.sort_values('mean_test_mse', ascending=False).iloc[0], ignore_index=True)"
   ]
  },
  {
   "cell_type": "code",
   "execution_count": 10,
   "metadata": {},
   "outputs": [
    {
     "output_type": "execute_result",
     "data": {
      "text/plain": [
       "         model                                             params  \\\n",
       "661  ada_boost  {'learning_rate': 0.8, 'loss': 'exponential', ...   \n",
       "575  ada_boost  {'learning_rate': 0.7, 'loss': 'exponential', ...   \n",
       "43   ada_boost  {'learning_rate': 0.1, 'loss': 'linear', 'n_es...   \n",
       "771  ada_boost  {'learning_rate': 0.95, 'loss': 'square', 'n_e...   \n",
       "420  ada_boost  {'learning_rate': 0.55, 'loss': 'linear', 'n_e...   \n",
       "..         ...                                                ...   \n",
       "308  ada_boost  {'learning_rate': 0.4, 'loss': 'square', 'n_es...   \n",
       "546  ada_boost  {'learning_rate': 0.7, 'loss': 'linear', 'n_es...   \n",
       "378  ada_boost  {'learning_rate': 0.5, 'loss': 'linear', 'n_es...   \n",
       "168  ada_boost  {'learning_rate': 0.25, 'loss': 'linear', 'n_e...   \n",
       "812  ada_boost  {'learning_rate': 1.0, 'loss': 'square', 'n_es...   \n",
       "\n",
       "     mean_test_mse  std_test_mse  mean_test_mae  std_test_mae  mean_test_r2  \\\n",
       "661      -0.026015      0.039584      -0.106534      0.056230     -0.126892   \n",
       "575      -0.026816      0.032841      -0.112657      0.060491     -0.268123   \n",
       "43       -0.026818      0.034519      -0.112098      0.052396     -0.297639   \n",
       "771      -0.026902      0.027887      -0.115212      0.049023     -0.161806   \n",
       "420      -0.027100      0.029891      -0.122063      0.072271     -0.167100   \n",
       "..             ...           ...            ...           ...           ...   \n",
       "308      -0.063703      0.062667      -0.165819      0.108076      0.849822   \n",
       "546      -0.064602      0.060554      -0.177886      0.094217      0.973928   \n",
       "378      -0.069142      0.083424      -0.179199      0.128088      1.316153   \n",
       "168      -0.072883      0.066636      -0.186453      0.111210      0.693474   \n",
       "812      -0.080030      0.059146      -0.197918      0.082658      2.164433   \n",
       "\n",
       "     std_test_r2  \n",
       "661     1.137302  \n",
       "575     0.750476  \n",
       "43      0.791188  \n",
       "771     1.062723  \n",
       "420     1.141869  \n",
       "..           ...  \n",
       "308     2.124344  \n",
       "546     2.117712  \n",
       "378     3.630813  \n",
       "168     1.930064  \n",
       "812     4.884291  \n",
       "\n",
       "[840 rows x 8 columns]"
      ],
      "text/html": "<div>\n<style scoped>\n    .dataframe tbody tr th:only-of-type {\n        vertical-align: middle;\n    }\n\n    .dataframe tbody tr th {\n        vertical-align: top;\n    }\n\n    .dataframe thead th {\n        text-align: right;\n    }\n</style>\n<table border=\"1\" class=\"dataframe\">\n  <thead>\n    <tr style=\"text-align: right;\">\n      <th></th>\n      <th>model</th>\n      <th>params</th>\n      <th>mean_test_mse</th>\n      <th>std_test_mse</th>\n      <th>mean_test_mae</th>\n      <th>std_test_mae</th>\n      <th>mean_test_r2</th>\n      <th>std_test_r2</th>\n    </tr>\n  </thead>\n  <tbody>\n    <tr>\n      <th>661</th>\n      <td>ada_boost</td>\n      <td>{'learning_rate': 0.8, 'loss': 'exponential', ...</td>\n      <td>-0.026015</td>\n      <td>0.039584</td>\n      <td>-0.106534</td>\n      <td>0.056230</td>\n      <td>-0.126892</td>\n      <td>1.137302</td>\n    </tr>\n    <tr>\n      <th>575</th>\n      <td>ada_boost</td>\n      <td>{'learning_rate': 0.7, 'loss': 'exponential', ...</td>\n      <td>-0.026816</td>\n      <td>0.032841</td>\n      <td>-0.112657</td>\n      <td>0.060491</td>\n      <td>-0.268123</td>\n      <td>0.750476</td>\n    </tr>\n    <tr>\n      <th>43</th>\n      <td>ada_boost</td>\n      <td>{'learning_rate': 0.1, 'loss': 'linear', 'n_es...</td>\n      <td>-0.026818</td>\n      <td>0.034519</td>\n      <td>-0.112098</td>\n      <td>0.052396</td>\n      <td>-0.297639</td>\n      <td>0.791188</td>\n    </tr>\n    <tr>\n      <th>771</th>\n      <td>ada_boost</td>\n      <td>{'learning_rate': 0.95, 'loss': 'square', 'n_e...</td>\n      <td>-0.026902</td>\n      <td>0.027887</td>\n      <td>-0.115212</td>\n      <td>0.049023</td>\n      <td>-0.161806</td>\n      <td>1.062723</td>\n    </tr>\n    <tr>\n      <th>420</th>\n      <td>ada_boost</td>\n      <td>{'learning_rate': 0.55, 'loss': 'linear', 'n_e...</td>\n      <td>-0.027100</td>\n      <td>0.029891</td>\n      <td>-0.122063</td>\n      <td>0.072271</td>\n      <td>-0.167100</td>\n      <td>1.141869</td>\n    </tr>\n    <tr>\n      <th>...</th>\n      <td>...</td>\n      <td>...</td>\n      <td>...</td>\n      <td>...</td>\n      <td>...</td>\n      <td>...</td>\n      <td>...</td>\n      <td>...</td>\n    </tr>\n    <tr>\n      <th>308</th>\n      <td>ada_boost</td>\n      <td>{'learning_rate': 0.4, 'loss': 'square', 'n_es...</td>\n      <td>-0.063703</td>\n      <td>0.062667</td>\n      <td>-0.165819</td>\n      <td>0.108076</td>\n      <td>0.849822</td>\n      <td>2.124344</td>\n    </tr>\n    <tr>\n      <th>546</th>\n      <td>ada_boost</td>\n      <td>{'learning_rate': 0.7, 'loss': 'linear', 'n_es...</td>\n      <td>-0.064602</td>\n      <td>0.060554</td>\n      <td>-0.177886</td>\n      <td>0.094217</td>\n      <td>0.973928</td>\n      <td>2.117712</td>\n    </tr>\n    <tr>\n      <th>378</th>\n      <td>ada_boost</td>\n      <td>{'learning_rate': 0.5, 'loss': 'linear', 'n_es...</td>\n      <td>-0.069142</td>\n      <td>0.083424</td>\n      <td>-0.179199</td>\n      <td>0.128088</td>\n      <td>1.316153</td>\n      <td>3.630813</td>\n    </tr>\n    <tr>\n      <th>168</th>\n      <td>ada_boost</td>\n      <td>{'learning_rate': 0.25, 'loss': 'linear', 'n_e...</td>\n      <td>-0.072883</td>\n      <td>0.066636</td>\n      <td>-0.186453</td>\n      <td>0.111210</td>\n      <td>0.693474</td>\n      <td>1.930064</td>\n    </tr>\n    <tr>\n      <th>812</th>\n      <td>ada_boost</td>\n      <td>{'learning_rate': 1.0, 'loss': 'square', 'n_es...</td>\n      <td>-0.080030</td>\n      <td>0.059146</td>\n      <td>-0.197918</td>\n      <td>0.082658</td>\n      <td>2.164433</td>\n      <td>4.884291</td>\n    </tr>\n  </tbody>\n</table>\n<p>840 rows × 8 columns</p>\n</div>"
     },
     "metadata": {},
     "execution_count": 10
    }
   ],
   "source": [
    "grid_search_df.sort_values('mean_test_mse', ascending=False)"
   ]
  },
  {
   "cell_type": "code",
   "execution_count": 11,
   "metadata": {},
   "outputs": [
    {
     "output_type": "execute_result",
     "data": {
      "text/plain": [
       "array([\"{'learning_rate': 0.8, 'loss': 'exponential', 'n_estimators': 10}\",\n",
       "       \"{'learning_rate': 0.7, 'loss': 'exponential', 'n_estimators': 5}\",\n",
       "       \"{'learning_rate': 0.1, 'loss': 'linear', 'n_estimators': 5}\",\n",
       "       \"{'learning_rate': 0.95, 'loss': 'square', 'n_estimators': 5}\",\n",
       "       \"{'learning_rate': 0.55, 'loss': 'linear', 'n_estimators': 3}\",\n",
       "       \"{'learning_rate': 0.5, 'loss': 'linear', 'n_estimators': 50}\",\n",
       "       \"{'learning_rate': 0.3, 'loss': 'exponential', 'n_estimators': 10}\",\n",
       "       \"{'learning_rate': 0.8, 'loss': 'linear', 'n_estimators': 3}\",\n",
       "       \"{'learning_rate': 0.9, 'loss': 'exponential', 'n_estimators': 10}\",\n",
       "       \"{'learning_rate': 0.4, 'loss': 'square', 'n_estimators': 5}\",\n",
       "       \"{'learning_rate': 0.75, 'loss': 'square', 'n_estimators': 20}\",\n",
       "       \"{'learning_rate': 0.8, 'loss': 'exponential', 'n_estimators': 5}\",\n",
       "       \"{'learning_rate': 0.1, 'loss': 'square', 'n_estimators': 10}\",\n",
       "       \"{'learning_rate': 0.85, 'loss': 'linear', 'n_estimators': 7}\",\n",
       "       \"{'learning_rate': 0.65, 'loss': 'linear', 'n_estimators': 7}\",\n",
       "       \"{'learning_rate': 0.15, 'loss': 'linear', 'n_estimators': 20}\",\n",
       "       \"{'learning_rate': 0.15, 'loss': 'exponential', 'n_estimators': 7}\",\n",
       "       \"{'learning_rate': 0.05, 'loss': 'exponential', 'n_estimators': 10}\",\n",
       "       \"{'learning_rate': 0.95, 'loss': 'linear', 'n_estimators': 50}\",\n",
       "       \"{'learning_rate': 0.9, 'loss': 'square', 'n_estimators': 200}\"],\n",
       "      dtype=object)"
      ]
     },
     "metadata": {},
     "execution_count": 11
    }
   ],
   "source": [
    "grid_search_df.sort_values('mean_test_mse', ascending=False).head(20).params.values"
   ]
  },
  {
   "cell_type": "markdown",
   "metadata": {},
   "source": [
    "# SVM Regressor"
   ]
  },
  {
   "cell_type": "code",
   "execution_count": 12,
   "metadata": {},
   "outputs": [],
   "source": [
    "PATH = 'svr_grid_search_results.csv'\n"
   ]
  },
  {
   "cell_type": "code",
   "execution_count": 13,
   "metadata": {},
   "outputs": [],
   "source": [
    "grid_search_df = pd.read_csv(PATH)\n",
    "grid_search_df[\"model\"] = \"svm\"\n",
    "grid_search_df = grid_search_df[[\"model\", 'params', 'mean_test_mse', 'std_test_mse', 'mean_test_mae', 'std_test_mae', 'mean_test_r2', 'std_test_r2']]\n",
    "summary_df = summary_df.append(grid_search_df.sort_values('mean_test_mse', ascending=False).iloc[0], ignore_index=True)"
   ]
  },
  {
   "cell_type": "code",
   "execution_count": 14,
   "metadata": {},
   "outputs": [
    {
     "output_type": "execute_result",
     "data": {
      "text/plain": [
       "       model                                             params  \\\n",
       "310342   svm  {'C': 3.5, 'degree': 2, 'epsilon': 0.05, 'gamm...   \n",
       "313062   svm  {'C': 3.5, 'degree': 3, 'epsilon': 0.05, 'gamm...   \n",
       "323942   svm  {'C': 3.5, 'degree': 7, 'epsilon': 0.05, 'gamm...   \n",
       "318502   svm  {'C': 3.5, 'degree': 5, 'epsilon': 0.05, 'gamm...   \n",
       "315782   svm  {'C': 3.5, 'degree': 4, 'epsilon': 0.05, 'gamm...   \n",
       "321222   svm  {'C': 3.5, 'degree': 6, 'epsilon': 0.05, 'gamm...   \n",
       "294022   svm  {'C': 3, 'degree': 2, 'epsilon': 0.05, 'gamma'...   \n",
       "302182   svm  {'C': 3, 'degree': 5, 'epsilon': 0.05, 'gamma'...   \n",
       "296742   svm  {'C': 3, 'degree': 3, 'epsilon': 0.05, 'gamma'...   \n",
       "304902   svm  {'C': 3, 'degree': 6, 'epsilon': 0.05, 'gamma'...   \n",
       "307622   svm  {'C': 3, 'degree': 7, 'epsilon': 0.05, 'gamma'...   \n",
       "299462   svm  {'C': 3, 'degree': 4, 'epsilon': 0.05, 'gamma'...   \n",
       "277710   svm  {'C': 2.5, 'degree': 2, 'epsilon': 0.05, 'gamm...   \n",
       "283150   svm  {'C': 2.5, 'degree': 4, 'epsilon': 0.05, 'gamm...   \n",
       "280430   svm  {'C': 2.5, 'degree': 3, 'epsilon': 0.05, 'gamm...   \n",
       "285870   svm  {'C': 2.5, 'degree': 5, 'epsilon': 0.05, 'gamm...   \n",
       "288590   svm  {'C': 2.5, 'degree': 6, 'epsilon': 0.05, 'gamm...   \n",
       "291310   svm  {'C': 2.5, 'degree': 7, 'epsilon': 0.05, 'gamm...   \n",
       "285866   svm  {'C': 2.5, 'degree': 5, 'epsilon': 0.05, 'gamm...   \n",
       "283146   svm  {'C': 2.5, 'degree': 4, 'epsilon': 0.05, 'gamm...   \n",
       "\n",
       "        mean_test_mse  std_test_mse  mean_test_mae  std_test_mae  \\\n",
       "310342      -0.031031      0.021696      -0.141235      0.046304   \n",
       "313062      -0.031031      0.021696      -0.141235      0.046304   \n",
       "323942      -0.031031      0.021696      -0.141235      0.046304   \n",
       "318502      -0.031031      0.021696      -0.141235      0.046304   \n",
       "315782      -0.031031      0.021696      -0.141235      0.046304   \n",
       "321222      -0.031031      0.021696      -0.141235      0.046304   \n",
       "294022      -0.031033      0.021277      -0.142219      0.045592   \n",
       "302182      -0.031033      0.021277      -0.142219      0.045592   \n",
       "296742      -0.031033      0.021277      -0.142219      0.045592   \n",
       "304902      -0.031033      0.021277      -0.142219      0.045592   \n",
       "307622      -0.031033      0.021277      -0.142219      0.045592   \n",
       "299462      -0.031033      0.021277      -0.142219      0.045592   \n",
       "277710      -0.031036      0.021558      -0.142498      0.046811   \n",
       "283150      -0.031036      0.021558      -0.142498      0.046811   \n",
       "280430      -0.031036      0.021558      -0.142498      0.046811   \n",
       "285870      -0.031036      0.021558      -0.142498      0.046811   \n",
       "288590      -0.031036      0.021558      -0.142498      0.046811   \n",
       "291310      -0.031036      0.021558      -0.142498      0.046811   \n",
       "285866      -0.031046      0.021011      -0.142762      0.045798   \n",
       "283146      -0.031046      0.021011      -0.142762      0.045798   \n",
       "\n",
       "        mean_test_r2  std_test_r2  \n",
       "310342      0.102386     1.468320  \n",
       "313062      0.102386     1.468320  \n",
       "323942      0.102386     1.468320  \n",
       "318502      0.102386     1.468320  \n",
       "315782      0.102386     1.468320  \n",
       "321222      0.102386     1.468320  \n",
       "294022      0.096225     1.455233  \n",
       "302182      0.096225     1.455233  \n",
       "296742      0.096225     1.455233  \n",
       "304902      0.096225     1.455233  \n",
       "307622      0.096225     1.455233  \n",
       "299462      0.096225     1.455233  \n",
       "277710      0.066466     1.382571  \n",
       "283150      0.066466     1.382571  \n",
       "280430      0.066466     1.382571  \n",
       "285870      0.066466     1.382571  \n",
       "288590      0.066466     1.382571  \n",
       "291310      0.066466     1.382571  \n",
       "285866      0.071720     1.374157  \n",
       "283146      0.071720     1.374157  "
      ],
      "text/html": "<div>\n<style scoped>\n    .dataframe tbody tr th:only-of-type {\n        vertical-align: middle;\n    }\n\n    .dataframe tbody tr th {\n        vertical-align: top;\n    }\n\n    .dataframe thead th {\n        text-align: right;\n    }\n</style>\n<table border=\"1\" class=\"dataframe\">\n  <thead>\n    <tr style=\"text-align: right;\">\n      <th></th>\n      <th>model</th>\n      <th>params</th>\n      <th>mean_test_mse</th>\n      <th>std_test_mse</th>\n      <th>mean_test_mae</th>\n      <th>std_test_mae</th>\n      <th>mean_test_r2</th>\n      <th>std_test_r2</th>\n    </tr>\n  </thead>\n  <tbody>\n    <tr>\n      <th>310342</th>\n      <td>svm</td>\n      <td>{'C': 3.5, 'degree': 2, 'epsilon': 0.05, 'gamm...</td>\n      <td>-0.031031</td>\n      <td>0.021696</td>\n      <td>-0.141235</td>\n      <td>0.046304</td>\n      <td>0.102386</td>\n      <td>1.468320</td>\n    </tr>\n    <tr>\n      <th>313062</th>\n      <td>svm</td>\n      <td>{'C': 3.5, 'degree': 3, 'epsilon': 0.05, 'gamm...</td>\n      <td>-0.031031</td>\n      <td>0.021696</td>\n      <td>-0.141235</td>\n      <td>0.046304</td>\n      <td>0.102386</td>\n      <td>1.468320</td>\n    </tr>\n    <tr>\n      <th>323942</th>\n      <td>svm</td>\n      <td>{'C': 3.5, 'degree': 7, 'epsilon': 0.05, 'gamm...</td>\n      <td>-0.031031</td>\n      <td>0.021696</td>\n      <td>-0.141235</td>\n      <td>0.046304</td>\n      <td>0.102386</td>\n      <td>1.468320</td>\n    </tr>\n    <tr>\n      <th>318502</th>\n      <td>svm</td>\n      <td>{'C': 3.5, 'degree': 5, 'epsilon': 0.05, 'gamm...</td>\n      <td>-0.031031</td>\n      <td>0.021696</td>\n      <td>-0.141235</td>\n      <td>0.046304</td>\n      <td>0.102386</td>\n      <td>1.468320</td>\n    </tr>\n    <tr>\n      <th>315782</th>\n      <td>svm</td>\n      <td>{'C': 3.5, 'degree': 4, 'epsilon': 0.05, 'gamm...</td>\n      <td>-0.031031</td>\n      <td>0.021696</td>\n      <td>-0.141235</td>\n      <td>0.046304</td>\n      <td>0.102386</td>\n      <td>1.468320</td>\n    </tr>\n    <tr>\n      <th>321222</th>\n      <td>svm</td>\n      <td>{'C': 3.5, 'degree': 6, 'epsilon': 0.05, 'gamm...</td>\n      <td>-0.031031</td>\n      <td>0.021696</td>\n      <td>-0.141235</td>\n      <td>0.046304</td>\n      <td>0.102386</td>\n      <td>1.468320</td>\n    </tr>\n    <tr>\n      <th>294022</th>\n      <td>svm</td>\n      <td>{'C': 3, 'degree': 2, 'epsilon': 0.05, 'gamma'...</td>\n      <td>-0.031033</td>\n      <td>0.021277</td>\n      <td>-0.142219</td>\n      <td>0.045592</td>\n      <td>0.096225</td>\n      <td>1.455233</td>\n    </tr>\n    <tr>\n      <th>302182</th>\n      <td>svm</td>\n      <td>{'C': 3, 'degree': 5, 'epsilon': 0.05, 'gamma'...</td>\n      <td>-0.031033</td>\n      <td>0.021277</td>\n      <td>-0.142219</td>\n      <td>0.045592</td>\n      <td>0.096225</td>\n      <td>1.455233</td>\n    </tr>\n    <tr>\n      <th>296742</th>\n      <td>svm</td>\n      <td>{'C': 3, 'degree': 3, 'epsilon': 0.05, 'gamma'...</td>\n      <td>-0.031033</td>\n      <td>0.021277</td>\n      <td>-0.142219</td>\n      <td>0.045592</td>\n      <td>0.096225</td>\n      <td>1.455233</td>\n    </tr>\n    <tr>\n      <th>304902</th>\n      <td>svm</td>\n      <td>{'C': 3, 'degree': 6, 'epsilon': 0.05, 'gamma'...</td>\n      <td>-0.031033</td>\n      <td>0.021277</td>\n      <td>-0.142219</td>\n      <td>0.045592</td>\n      <td>0.096225</td>\n      <td>1.455233</td>\n    </tr>\n    <tr>\n      <th>307622</th>\n      <td>svm</td>\n      <td>{'C': 3, 'degree': 7, 'epsilon': 0.05, 'gamma'...</td>\n      <td>-0.031033</td>\n      <td>0.021277</td>\n      <td>-0.142219</td>\n      <td>0.045592</td>\n      <td>0.096225</td>\n      <td>1.455233</td>\n    </tr>\n    <tr>\n      <th>299462</th>\n      <td>svm</td>\n      <td>{'C': 3, 'degree': 4, 'epsilon': 0.05, 'gamma'...</td>\n      <td>-0.031033</td>\n      <td>0.021277</td>\n      <td>-0.142219</td>\n      <td>0.045592</td>\n      <td>0.096225</td>\n      <td>1.455233</td>\n    </tr>\n    <tr>\n      <th>277710</th>\n      <td>svm</td>\n      <td>{'C': 2.5, 'degree': 2, 'epsilon': 0.05, 'gamm...</td>\n      <td>-0.031036</td>\n      <td>0.021558</td>\n      <td>-0.142498</td>\n      <td>0.046811</td>\n      <td>0.066466</td>\n      <td>1.382571</td>\n    </tr>\n    <tr>\n      <th>283150</th>\n      <td>svm</td>\n      <td>{'C': 2.5, 'degree': 4, 'epsilon': 0.05, 'gamm...</td>\n      <td>-0.031036</td>\n      <td>0.021558</td>\n      <td>-0.142498</td>\n      <td>0.046811</td>\n      <td>0.066466</td>\n      <td>1.382571</td>\n    </tr>\n    <tr>\n      <th>280430</th>\n      <td>svm</td>\n      <td>{'C': 2.5, 'degree': 3, 'epsilon': 0.05, 'gamm...</td>\n      <td>-0.031036</td>\n      <td>0.021558</td>\n      <td>-0.142498</td>\n      <td>0.046811</td>\n      <td>0.066466</td>\n      <td>1.382571</td>\n    </tr>\n    <tr>\n      <th>285870</th>\n      <td>svm</td>\n      <td>{'C': 2.5, 'degree': 5, 'epsilon': 0.05, 'gamm...</td>\n      <td>-0.031036</td>\n      <td>0.021558</td>\n      <td>-0.142498</td>\n      <td>0.046811</td>\n      <td>0.066466</td>\n      <td>1.382571</td>\n    </tr>\n    <tr>\n      <th>288590</th>\n      <td>svm</td>\n      <td>{'C': 2.5, 'degree': 6, 'epsilon': 0.05, 'gamm...</td>\n      <td>-0.031036</td>\n      <td>0.021558</td>\n      <td>-0.142498</td>\n      <td>0.046811</td>\n      <td>0.066466</td>\n      <td>1.382571</td>\n    </tr>\n    <tr>\n      <th>291310</th>\n      <td>svm</td>\n      <td>{'C': 2.5, 'degree': 7, 'epsilon': 0.05, 'gamm...</td>\n      <td>-0.031036</td>\n      <td>0.021558</td>\n      <td>-0.142498</td>\n      <td>0.046811</td>\n      <td>0.066466</td>\n      <td>1.382571</td>\n    </tr>\n    <tr>\n      <th>285866</th>\n      <td>svm</td>\n      <td>{'C': 2.5, 'degree': 5, 'epsilon': 0.05, 'gamm...</td>\n      <td>-0.031046</td>\n      <td>0.021011</td>\n      <td>-0.142762</td>\n      <td>0.045798</td>\n      <td>0.071720</td>\n      <td>1.374157</td>\n    </tr>\n    <tr>\n      <th>283146</th>\n      <td>svm</td>\n      <td>{'C': 2.5, 'degree': 4, 'epsilon': 0.05, 'gamm...</td>\n      <td>-0.031046</td>\n      <td>0.021011</td>\n      <td>-0.142762</td>\n      <td>0.045798</td>\n      <td>0.071720</td>\n      <td>1.374157</td>\n    </tr>\n  </tbody>\n</table>\n</div>"
     },
     "metadata": {},
     "execution_count": 14
    }
   ],
   "source": [
    "grid_search_df.sort_values('mean_test_mse', ascending=False).head(20)"
   ]
  },
  {
   "cell_type": "code",
   "execution_count": 15,
   "metadata": {},
   "outputs": [
    {
     "output_type": "execute_result",
     "data": {
      "text/plain": [
       "array([\"{'C': 3.5, 'degree': 2, 'epsilon': 0.05, 'gamma': 2.6, 'kernel': 'rbf'}\",\n",
       "       \"{'C': 3.5, 'degree': 3, 'epsilon': 0.05, 'gamma': 2.6, 'kernel': 'rbf'}\",\n",
       "       \"{'C': 3.5, 'degree': 7, 'epsilon': 0.05, 'gamma': 2.6, 'kernel': 'rbf'}\",\n",
       "       \"{'C': 3.5, 'degree': 5, 'epsilon': 0.05, 'gamma': 2.6, 'kernel': 'rbf'}\",\n",
       "       \"{'C': 3.5, 'degree': 4, 'epsilon': 0.05, 'gamma': 2.6, 'kernel': 'rbf'}\",\n",
       "       \"{'C': 3.5, 'degree': 6, 'epsilon': 0.05, 'gamma': 2.6, 'kernel': 'rbf'}\",\n",
       "       \"{'C': 3, 'degree': 2, 'epsilon': 0.05, 'gamma': 2.6, 'kernel': 'rbf'}\",\n",
       "       \"{'C': 3, 'degree': 5, 'epsilon': 0.05, 'gamma': 2.6, 'kernel': 'rbf'}\",\n",
       "       \"{'C': 3, 'degree': 3, 'epsilon': 0.05, 'gamma': 2.6, 'kernel': 'rbf'}\",\n",
       "       \"{'C': 3, 'degree': 6, 'epsilon': 0.05, 'gamma': 2.6, 'kernel': 'rbf'}\",\n",
       "       \"{'C': 3, 'degree': 7, 'epsilon': 0.05, 'gamma': 2.6, 'kernel': 'rbf'}\",\n",
       "       \"{'C': 3, 'degree': 4, 'epsilon': 0.05, 'gamma': 2.6, 'kernel': 'rbf'}\",\n",
       "       \"{'C': 2.5, 'degree': 2, 'epsilon': 0.05, 'gamma': 2.8, 'kernel': 'rbf'}\",\n",
       "       \"{'C': 2.5, 'degree': 4, 'epsilon': 0.05, 'gamma': 2.8, 'kernel': 'rbf'}\",\n",
       "       \"{'C': 2.5, 'degree': 3, 'epsilon': 0.05, 'gamma': 2.8, 'kernel': 'rbf'}\",\n",
       "       \"{'C': 2.5, 'degree': 5, 'epsilon': 0.05, 'gamma': 2.8, 'kernel': 'rbf'}\",\n",
       "       \"{'C': 2.5, 'degree': 6, 'epsilon': 0.05, 'gamma': 2.8, 'kernel': 'rbf'}\",\n",
       "       \"{'C': 2.5, 'degree': 7, 'epsilon': 0.05, 'gamma': 2.8, 'kernel': 'rbf'}\",\n",
       "       \"{'C': 2.5, 'degree': 5, 'epsilon': 0.05, 'gamma': 2.7, 'kernel': 'rbf'}\",\n",
       "       \"{'C': 2.5, 'degree': 4, 'epsilon': 0.05, 'gamma': 2.7, 'kernel': 'rbf'}\"],\n",
       "      dtype=object)"
      ]
     },
     "metadata": {},
     "execution_count": 15
    }
   ],
   "source": [
    "grid_search_df.sort_values('mean_test_mse', ascending=False)[\"params\"].head(20).values\n"
   ]
  },
  {
   "cell_type": "markdown",
   "metadata": {},
   "source": [
    "# KNN Regressor"
   ]
  },
  {
   "cell_type": "code",
   "execution_count": 16,
   "metadata": {},
   "outputs": [],
   "source": [
    "PATH = 'knn_grid_search_results.csv'\n"
   ]
  },
  {
   "cell_type": "code",
   "execution_count": 17,
   "metadata": {},
   "outputs": [],
   "source": [
    "grid_search_df = pd.read_csv(PATH)\n",
    "grid_search_df[\"model\"] = \"knn\"\n",
    "grid_search_df = grid_search_df[[\"model\", 'params', 'mean_test_mse', 'std_test_mse', 'mean_test_mae', 'std_test_mae', 'mean_test_r2', 'std_test_r2']]\n",
    "summary_df = summary_df.append(grid_search_df.sort_values('mean_test_mse', ascending=False).iloc[0], ignore_index=True)"
   ]
  },
  {
   "cell_type": "code",
   "execution_count": 18,
   "metadata": {},
   "outputs": [
    {
     "output_type": "execute_result",
     "data": {
      "text/plain": [
       "    model                                             params  mean_test_mse  \\\n",
       "8     knn  {'metric': 'minkowski', 'n_neighbors': 3, 'p': 2}      -0.049406   \n",
       "21    knn  {'metric': 'minkowski', 'n_neighbors': 7, 'p': 1}      -0.050383   \n",
       "14    knn  {'metric': 'minkowski', 'n_neighbors': 5, 'p': 1}      -0.050469   \n",
       "35    knn  {'metric': 'minkowski', 'n_neighbors': 11, 'p'...      -0.055585   \n",
       "15    knn  {'metric': 'minkowski', 'n_neighbors': 5, 'p': 2}      -0.056029   \n",
       "..    ...                                                ...            ...   \n",
       "121   knn  {'metric': 'mahalanobis', 'n_neighbors': 11, '...            NaN   \n",
       "122   knn  {'metric': 'mahalanobis', 'n_neighbors': 11, '...            NaN   \n",
       "123   knn  {'metric': 'mahalanobis', 'n_neighbors': 11, '...            NaN   \n",
       "124   knn  {'metric': 'mahalanobis', 'n_neighbors': 11, '...            NaN   \n",
       "125   knn  {'metric': 'mahalanobis', 'n_neighbors': 11, '...            NaN   \n",
       "\n",
       "     std_test_mse  mean_test_mae  std_test_mae  mean_test_r2  std_test_r2  \n",
       "8        0.028879      -0.177372      0.051566      1.150655     3.906651  \n",
       "21       0.024700      -0.184228      0.050449      1.064770     2.982575  \n",
       "14       0.027567      -0.187794      0.051536      0.633211     1.696507  \n",
       "35       0.029811      -0.200801      0.061098      0.855313     2.067336  \n",
       "15       0.026409      -0.196615      0.047965      1.159771     3.214013  \n",
       "..            ...            ...           ...           ...          ...  \n",
       "121           NaN            NaN           NaN           NaN          NaN  \n",
       "122           NaN            NaN           NaN           NaN          NaN  \n",
       "123           NaN            NaN           NaN           NaN          NaN  \n",
       "124           NaN            NaN           NaN           NaN          NaN  \n",
       "125           NaN            NaN           NaN           NaN          NaN  \n",
       "\n",
       "[126 rows x 8 columns]"
      ],
      "text/html": "<div>\n<style scoped>\n    .dataframe tbody tr th:only-of-type {\n        vertical-align: middle;\n    }\n\n    .dataframe tbody tr th {\n        vertical-align: top;\n    }\n\n    .dataframe thead th {\n        text-align: right;\n    }\n</style>\n<table border=\"1\" class=\"dataframe\">\n  <thead>\n    <tr style=\"text-align: right;\">\n      <th></th>\n      <th>model</th>\n      <th>params</th>\n      <th>mean_test_mse</th>\n      <th>std_test_mse</th>\n      <th>mean_test_mae</th>\n      <th>std_test_mae</th>\n      <th>mean_test_r2</th>\n      <th>std_test_r2</th>\n    </tr>\n  </thead>\n  <tbody>\n    <tr>\n      <th>8</th>\n      <td>knn</td>\n      <td>{'metric': 'minkowski', 'n_neighbors': 3, 'p': 2}</td>\n      <td>-0.049406</td>\n      <td>0.028879</td>\n      <td>-0.177372</td>\n      <td>0.051566</td>\n      <td>1.150655</td>\n      <td>3.906651</td>\n    </tr>\n    <tr>\n      <th>21</th>\n      <td>knn</td>\n      <td>{'metric': 'minkowski', 'n_neighbors': 7, 'p': 1}</td>\n      <td>-0.050383</td>\n      <td>0.024700</td>\n      <td>-0.184228</td>\n      <td>0.050449</td>\n      <td>1.064770</td>\n      <td>2.982575</td>\n    </tr>\n    <tr>\n      <th>14</th>\n      <td>knn</td>\n      <td>{'metric': 'minkowski', 'n_neighbors': 5, 'p': 1}</td>\n      <td>-0.050469</td>\n      <td>0.027567</td>\n      <td>-0.187794</td>\n      <td>0.051536</td>\n      <td>0.633211</td>\n      <td>1.696507</td>\n    </tr>\n    <tr>\n      <th>35</th>\n      <td>knn</td>\n      <td>{'metric': 'minkowski', 'n_neighbors': 11, 'p'...</td>\n      <td>-0.055585</td>\n      <td>0.029811</td>\n      <td>-0.200801</td>\n      <td>0.061098</td>\n      <td>0.855313</td>\n      <td>2.067336</td>\n    </tr>\n    <tr>\n      <th>15</th>\n      <td>knn</td>\n      <td>{'metric': 'minkowski', 'n_neighbors': 5, 'p': 2}</td>\n      <td>-0.056029</td>\n      <td>0.026409</td>\n      <td>-0.196615</td>\n      <td>0.047965</td>\n      <td>1.159771</td>\n      <td>3.214013</td>\n    </tr>\n    <tr>\n      <th>...</th>\n      <td>...</td>\n      <td>...</td>\n      <td>...</td>\n      <td>...</td>\n      <td>...</td>\n      <td>...</td>\n      <td>...</td>\n      <td>...</td>\n    </tr>\n    <tr>\n      <th>121</th>\n      <td>knn</td>\n      <td>{'metric': 'mahalanobis', 'n_neighbors': 11, '...</td>\n      <td>NaN</td>\n      <td>NaN</td>\n      <td>NaN</td>\n      <td>NaN</td>\n      <td>NaN</td>\n      <td>NaN</td>\n    </tr>\n    <tr>\n      <th>122</th>\n      <td>knn</td>\n      <td>{'metric': 'mahalanobis', 'n_neighbors': 11, '...</td>\n      <td>NaN</td>\n      <td>NaN</td>\n      <td>NaN</td>\n      <td>NaN</td>\n      <td>NaN</td>\n      <td>NaN</td>\n    </tr>\n    <tr>\n      <th>123</th>\n      <td>knn</td>\n      <td>{'metric': 'mahalanobis', 'n_neighbors': 11, '...</td>\n      <td>NaN</td>\n      <td>NaN</td>\n      <td>NaN</td>\n      <td>NaN</td>\n      <td>NaN</td>\n      <td>NaN</td>\n    </tr>\n    <tr>\n      <th>124</th>\n      <td>knn</td>\n      <td>{'metric': 'mahalanobis', 'n_neighbors': 11, '...</td>\n      <td>NaN</td>\n      <td>NaN</td>\n      <td>NaN</td>\n      <td>NaN</td>\n      <td>NaN</td>\n      <td>NaN</td>\n    </tr>\n    <tr>\n      <th>125</th>\n      <td>knn</td>\n      <td>{'metric': 'mahalanobis', 'n_neighbors': 11, '...</td>\n      <td>NaN</td>\n      <td>NaN</td>\n      <td>NaN</td>\n      <td>NaN</td>\n      <td>NaN</td>\n      <td>NaN</td>\n    </tr>\n  </tbody>\n</table>\n<p>126 rows × 8 columns</p>\n</div>"
     },
     "metadata": {},
     "execution_count": 18
    }
   ],
   "source": [
    "grid_search_df.sort_values('mean_test_mse', ascending=False)"
   ]
  },
  {
   "cell_type": "markdown",
   "metadata": {},
   "source": [
    "# Lasso Regressor"
   ]
  },
  {
   "cell_type": "code",
   "execution_count": 19,
   "metadata": {},
   "outputs": [],
   "source": [
    "PATH = 'lasso_grid_search_results.csv'"
   ]
  },
  {
   "cell_type": "code",
   "execution_count": 20,
   "metadata": {},
   "outputs": [],
   "source": [
    "grid_search_df = pd.read_csv(PATH)\n",
    "grid_search_df[\"model\"] = \"lasso\"\n",
    "grid_search_df = grid_search_df[[\"model\", 'params', 'mean_test_mse', 'std_test_mse', 'mean_test_mae', 'std_test_mae', 'mean_test_r2', 'std_test_r2']]\n",
    "summary_df = summary_df.append(grid_search_df.sort_values('mean_test_mse', ascending=False).iloc[0], ignore_index=True)"
   ]
  },
  {
   "cell_type": "code",
   "execution_count": 21,
   "metadata": {},
   "outputs": [
    {
     "output_type": "execute_result",
     "data": {
      "text/plain": [
       "    model             params  mean_test_mse  std_test_mse  mean_test_mae  \\\n",
       "3   lasso    {'alpha': 0.01}      -0.064352      0.032523      -0.215285   \n",
       "9   lasso     {'alpha': 0.5}      -0.071657      0.034126      -0.235289   \n",
       "10  lasso     {'alpha': 0.6}      -0.071657      0.034126      -0.235289   \n",
       "17  lasso       {'alpha': 5}      -0.071657      0.034126      -0.235289   \n",
       "16  lasso       {'alpha': 3}      -0.071657      0.034126      -0.235289   \n",
       "15  lasso       {'alpha': 2}      -0.071657      0.034126      -0.235289   \n",
       "14  lasso       {'alpha': 1}      -0.071657      0.034126      -0.235289   \n",
       "13  lasso     {'alpha': 0.9}      -0.071657      0.034126      -0.235289   \n",
       "12  lasso     {'alpha': 0.8}      -0.071657      0.034126      -0.235289   \n",
       "11  lasso     {'alpha': 0.7}      -0.071657      0.034126      -0.235289   \n",
       "18  lasso       {'alpha': 7}      -0.071657      0.034126      -0.235289   \n",
       "8   lasso     {'alpha': 0.4}      -0.071657      0.034126      -0.235289   \n",
       "7   lasso     {'alpha': 0.3}      -0.071657      0.034126      -0.235289   \n",
       "6   lasso     {'alpha': 0.2}      -0.071657      0.034126      -0.235289   \n",
       "5   lasso     {'alpha': 0.1}      -0.071657      0.034126      -0.235289   \n",
       "4   lasso    {'alpha': 0.05}      -0.071657      0.034126      -0.235289   \n",
       "2   lasso   {'alpha': 0.001}      -0.075409      0.115481      -0.183604   \n",
       "1   lasso  {'alpha': 0.0001}      -0.110810      0.160597      -0.224891   \n",
       "0   lasso   {'alpha': 1e-05}      -0.120510      0.165948      -0.235520   \n",
       "\n",
       "    std_test_mae  mean_test_r2  std_test_r2  \n",
       "3       0.060637      1.396049     3.859585  \n",
       "9       0.067372      1.426855     3.421005  \n",
       "10      0.067372      1.426855     3.421005  \n",
       "17      0.067372      1.426855     3.421005  \n",
       "16      0.067372      1.426855     3.421005  \n",
       "15      0.067372      1.426855     3.421005  \n",
       "14      0.067372      1.426855     3.421005  \n",
       "13      0.067372      1.426855     3.421005  \n",
       "12      0.067372      1.426855     3.421005  \n",
       "11      0.067372      1.426855     3.421005  \n",
       "18      0.067372      1.426855     3.421005  \n",
       "8       0.067372      1.426855     3.421005  \n",
       "7       0.067372      1.426855     3.421005  \n",
       "6       0.067372      1.426855     3.421005  \n",
       "5       0.067372      1.426855     3.421005  \n",
       "4       0.067372      1.426855     3.421005  \n",
       "2       0.098221      1.128309     3.216480  \n",
       "1       0.116887      1.936657     4.081602  \n",
       "0       0.127903      2.095308     4.107336  "
      ],
      "text/html": "<div>\n<style scoped>\n    .dataframe tbody tr th:only-of-type {\n        vertical-align: middle;\n    }\n\n    .dataframe tbody tr th {\n        vertical-align: top;\n    }\n\n    .dataframe thead th {\n        text-align: right;\n    }\n</style>\n<table border=\"1\" class=\"dataframe\">\n  <thead>\n    <tr style=\"text-align: right;\">\n      <th></th>\n      <th>model</th>\n      <th>params</th>\n      <th>mean_test_mse</th>\n      <th>std_test_mse</th>\n      <th>mean_test_mae</th>\n      <th>std_test_mae</th>\n      <th>mean_test_r2</th>\n      <th>std_test_r2</th>\n    </tr>\n  </thead>\n  <tbody>\n    <tr>\n      <th>3</th>\n      <td>lasso</td>\n      <td>{'alpha': 0.01}</td>\n      <td>-0.064352</td>\n      <td>0.032523</td>\n      <td>-0.215285</td>\n      <td>0.060637</td>\n      <td>1.396049</td>\n      <td>3.859585</td>\n    </tr>\n    <tr>\n      <th>9</th>\n      <td>lasso</td>\n      <td>{'alpha': 0.5}</td>\n      <td>-0.071657</td>\n      <td>0.034126</td>\n      <td>-0.235289</td>\n      <td>0.067372</td>\n      <td>1.426855</td>\n      <td>3.421005</td>\n    </tr>\n    <tr>\n      <th>10</th>\n      <td>lasso</td>\n      <td>{'alpha': 0.6}</td>\n      <td>-0.071657</td>\n      <td>0.034126</td>\n      <td>-0.235289</td>\n      <td>0.067372</td>\n      <td>1.426855</td>\n      <td>3.421005</td>\n    </tr>\n    <tr>\n      <th>17</th>\n      <td>lasso</td>\n      <td>{'alpha': 5}</td>\n      <td>-0.071657</td>\n      <td>0.034126</td>\n      <td>-0.235289</td>\n      <td>0.067372</td>\n      <td>1.426855</td>\n      <td>3.421005</td>\n    </tr>\n    <tr>\n      <th>16</th>\n      <td>lasso</td>\n      <td>{'alpha': 3}</td>\n      <td>-0.071657</td>\n      <td>0.034126</td>\n      <td>-0.235289</td>\n      <td>0.067372</td>\n      <td>1.426855</td>\n      <td>3.421005</td>\n    </tr>\n    <tr>\n      <th>15</th>\n      <td>lasso</td>\n      <td>{'alpha': 2}</td>\n      <td>-0.071657</td>\n      <td>0.034126</td>\n      <td>-0.235289</td>\n      <td>0.067372</td>\n      <td>1.426855</td>\n      <td>3.421005</td>\n    </tr>\n    <tr>\n      <th>14</th>\n      <td>lasso</td>\n      <td>{'alpha': 1}</td>\n      <td>-0.071657</td>\n      <td>0.034126</td>\n      <td>-0.235289</td>\n      <td>0.067372</td>\n      <td>1.426855</td>\n      <td>3.421005</td>\n    </tr>\n    <tr>\n      <th>13</th>\n      <td>lasso</td>\n      <td>{'alpha': 0.9}</td>\n      <td>-0.071657</td>\n      <td>0.034126</td>\n      <td>-0.235289</td>\n      <td>0.067372</td>\n      <td>1.426855</td>\n      <td>3.421005</td>\n    </tr>\n    <tr>\n      <th>12</th>\n      <td>lasso</td>\n      <td>{'alpha': 0.8}</td>\n      <td>-0.071657</td>\n      <td>0.034126</td>\n      <td>-0.235289</td>\n      <td>0.067372</td>\n      <td>1.426855</td>\n      <td>3.421005</td>\n    </tr>\n    <tr>\n      <th>11</th>\n      <td>lasso</td>\n      <td>{'alpha': 0.7}</td>\n      <td>-0.071657</td>\n      <td>0.034126</td>\n      <td>-0.235289</td>\n      <td>0.067372</td>\n      <td>1.426855</td>\n      <td>3.421005</td>\n    </tr>\n    <tr>\n      <th>18</th>\n      <td>lasso</td>\n      <td>{'alpha': 7}</td>\n      <td>-0.071657</td>\n      <td>0.034126</td>\n      <td>-0.235289</td>\n      <td>0.067372</td>\n      <td>1.426855</td>\n      <td>3.421005</td>\n    </tr>\n    <tr>\n      <th>8</th>\n      <td>lasso</td>\n      <td>{'alpha': 0.4}</td>\n      <td>-0.071657</td>\n      <td>0.034126</td>\n      <td>-0.235289</td>\n      <td>0.067372</td>\n      <td>1.426855</td>\n      <td>3.421005</td>\n    </tr>\n    <tr>\n      <th>7</th>\n      <td>lasso</td>\n      <td>{'alpha': 0.3}</td>\n      <td>-0.071657</td>\n      <td>0.034126</td>\n      <td>-0.235289</td>\n      <td>0.067372</td>\n      <td>1.426855</td>\n      <td>3.421005</td>\n    </tr>\n    <tr>\n      <th>6</th>\n      <td>lasso</td>\n      <td>{'alpha': 0.2}</td>\n      <td>-0.071657</td>\n      <td>0.034126</td>\n      <td>-0.235289</td>\n      <td>0.067372</td>\n      <td>1.426855</td>\n      <td>3.421005</td>\n    </tr>\n    <tr>\n      <th>5</th>\n      <td>lasso</td>\n      <td>{'alpha': 0.1}</td>\n      <td>-0.071657</td>\n      <td>0.034126</td>\n      <td>-0.235289</td>\n      <td>0.067372</td>\n      <td>1.426855</td>\n      <td>3.421005</td>\n    </tr>\n    <tr>\n      <th>4</th>\n      <td>lasso</td>\n      <td>{'alpha': 0.05}</td>\n      <td>-0.071657</td>\n      <td>0.034126</td>\n      <td>-0.235289</td>\n      <td>0.067372</td>\n      <td>1.426855</td>\n      <td>3.421005</td>\n    </tr>\n    <tr>\n      <th>2</th>\n      <td>lasso</td>\n      <td>{'alpha': 0.001}</td>\n      <td>-0.075409</td>\n      <td>0.115481</td>\n      <td>-0.183604</td>\n      <td>0.098221</td>\n      <td>1.128309</td>\n      <td>3.216480</td>\n    </tr>\n    <tr>\n      <th>1</th>\n      <td>lasso</td>\n      <td>{'alpha': 0.0001}</td>\n      <td>-0.110810</td>\n      <td>0.160597</td>\n      <td>-0.224891</td>\n      <td>0.116887</td>\n      <td>1.936657</td>\n      <td>4.081602</td>\n    </tr>\n    <tr>\n      <th>0</th>\n      <td>lasso</td>\n      <td>{'alpha': 1e-05}</td>\n      <td>-0.120510</td>\n      <td>0.165948</td>\n      <td>-0.235520</td>\n      <td>0.127903</td>\n      <td>2.095308</td>\n      <td>4.107336</td>\n    </tr>\n  </tbody>\n</table>\n</div>"
     },
     "metadata": {},
     "execution_count": 21
    }
   ],
   "source": [
    "grid_search_df.sort_values('mean_test_mse', ascending=False)"
   ]
  },
  {
   "cell_type": "markdown",
   "metadata": {},
   "source": [
    "# Elastic Net "
   ]
  },
  {
   "cell_type": "code",
   "execution_count": 22,
   "metadata": {},
   "outputs": [],
   "source": [
    "PATH = 'elastic_net_grid_search_results.csv'"
   ]
  },
  {
   "cell_type": "code",
   "execution_count": 23,
   "metadata": {},
   "outputs": [],
   "source": [
    "grid_search_df = pd.read_csv(PATH)\n",
    "grid_search_df[\"model\"] = \"elastic_net\"\n",
    "grid_search_df = grid_search_df[[\"model\", 'params', 'mean_test_mse', 'std_test_mse', 'mean_test_mae', 'std_test_mae', 'mean_test_r2', 'std_test_r2']]\n",
    "summary_df = summary_df.append(grid_search_df.sort_values('mean_test_mse', ascending=False).iloc[0], ignore_index=True)"
   ]
  },
  {
   "cell_type": "code",
   "execution_count": 24,
   "metadata": {},
   "outputs": [
    {
     "output_type": "execute_result",
     "data": {
      "text/plain": [
       "           model                              params  mean_test_mse  \\\n",
       "63   elastic_net       {'alpha': 0.1, 'l1_ratio': 0}      -0.060521   \n",
       "84   elastic_net       {'alpha': 0.2, 'l1_ratio': 0}      -0.064273   \n",
       "64   elastic_net    {'alpha': 0.1, 'l1_ratio': 0.05}      -0.064297   \n",
       "105  elastic_net       {'alpha': 0.3, 'l1_ratio': 0}      -0.065997   \n",
       "126  elastic_net       {'alpha': 0.4, 'l1_ratio': 0}      -0.067024   \n",
       "..           ...                                 ...            ...   \n",
       "16   elastic_net   {'alpha': 1e-05, 'l1_ratio': 0.8}      -0.120007   \n",
       "17   elastic_net  {'alpha': 1e-05, 'l1_ratio': 0.85}      -0.120133   \n",
       "18   elastic_net   {'alpha': 1e-05, 'l1_ratio': 0.9}      -0.120258   \n",
       "19   elastic_net  {'alpha': 1e-05, 'l1_ratio': 0.95}      -0.120383   \n",
       "20   elastic_net     {'alpha': 1e-05, 'l1_ratio': 1}      -0.120510   \n",
       "\n",
       "     std_test_mse  mean_test_mae  std_test_mae  mean_test_r2  std_test_r2  \n",
       "63       0.030378      -0.209901      0.057219      1.304727     3.474724  \n",
       "84       0.031548      -0.217161      0.062127      1.301968     3.335018  \n",
       "64       0.032083      -0.217229      0.063592      1.296672     3.370495  \n",
       "105      0.032146      -0.221163      0.063644      1.311259     3.306450  \n",
       "126      0.032511      -0.223700      0.064404      1.321719     3.303070  \n",
       "..            ...            ...           ...           ...          ...  \n",
       "16       0.165259      -0.235079      0.127208      2.086835     4.101718  \n",
       "17       0.165429      -0.235191      0.127382      2.088970     4.103116  \n",
       "18       0.165601      -0.235300      0.127554      2.091060     4.104513  \n",
       "19       0.165773      -0.235409      0.127728      2.093161     4.105918  \n",
       "20       0.165948      -0.235520      0.127903      2.095308     4.107336  \n",
       "\n",
       "[336 rows x 8 columns]"
      ],
      "text/html": "<div>\n<style scoped>\n    .dataframe tbody tr th:only-of-type {\n        vertical-align: middle;\n    }\n\n    .dataframe tbody tr th {\n        vertical-align: top;\n    }\n\n    .dataframe thead th {\n        text-align: right;\n    }\n</style>\n<table border=\"1\" class=\"dataframe\">\n  <thead>\n    <tr style=\"text-align: right;\">\n      <th></th>\n      <th>model</th>\n      <th>params</th>\n      <th>mean_test_mse</th>\n      <th>std_test_mse</th>\n      <th>mean_test_mae</th>\n      <th>std_test_mae</th>\n      <th>mean_test_r2</th>\n      <th>std_test_r2</th>\n    </tr>\n  </thead>\n  <tbody>\n    <tr>\n      <th>63</th>\n      <td>elastic_net</td>\n      <td>{'alpha': 0.1, 'l1_ratio': 0}</td>\n      <td>-0.060521</td>\n      <td>0.030378</td>\n      <td>-0.209901</td>\n      <td>0.057219</td>\n      <td>1.304727</td>\n      <td>3.474724</td>\n    </tr>\n    <tr>\n      <th>84</th>\n      <td>elastic_net</td>\n      <td>{'alpha': 0.2, 'l1_ratio': 0}</td>\n      <td>-0.064273</td>\n      <td>0.031548</td>\n      <td>-0.217161</td>\n      <td>0.062127</td>\n      <td>1.301968</td>\n      <td>3.335018</td>\n    </tr>\n    <tr>\n      <th>64</th>\n      <td>elastic_net</td>\n      <td>{'alpha': 0.1, 'l1_ratio': 0.05}</td>\n      <td>-0.064297</td>\n      <td>0.032083</td>\n      <td>-0.217229</td>\n      <td>0.063592</td>\n      <td>1.296672</td>\n      <td>3.370495</td>\n    </tr>\n    <tr>\n      <th>105</th>\n      <td>elastic_net</td>\n      <td>{'alpha': 0.3, 'l1_ratio': 0}</td>\n      <td>-0.065997</td>\n      <td>0.032146</td>\n      <td>-0.221163</td>\n      <td>0.063644</td>\n      <td>1.311259</td>\n      <td>3.306450</td>\n    </tr>\n    <tr>\n      <th>126</th>\n      <td>elastic_net</td>\n      <td>{'alpha': 0.4, 'l1_ratio': 0}</td>\n      <td>-0.067024</td>\n      <td>0.032511</td>\n      <td>-0.223700</td>\n      <td>0.064404</td>\n      <td>1.321719</td>\n      <td>3.303070</td>\n    </tr>\n    <tr>\n      <th>...</th>\n      <td>...</td>\n      <td>...</td>\n      <td>...</td>\n      <td>...</td>\n      <td>...</td>\n      <td>...</td>\n      <td>...</td>\n      <td>...</td>\n    </tr>\n    <tr>\n      <th>16</th>\n      <td>elastic_net</td>\n      <td>{'alpha': 1e-05, 'l1_ratio': 0.8}</td>\n      <td>-0.120007</td>\n      <td>0.165259</td>\n      <td>-0.235079</td>\n      <td>0.127208</td>\n      <td>2.086835</td>\n      <td>4.101718</td>\n    </tr>\n    <tr>\n      <th>17</th>\n      <td>elastic_net</td>\n      <td>{'alpha': 1e-05, 'l1_ratio': 0.85}</td>\n      <td>-0.120133</td>\n      <td>0.165429</td>\n      <td>-0.235191</td>\n      <td>0.127382</td>\n      <td>2.088970</td>\n      <td>4.103116</td>\n    </tr>\n    <tr>\n      <th>18</th>\n      <td>elastic_net</td>\n      <td>{'alpha': 1e-05, 'l1_ratio': 0.9}</td>\n      <td>-0.120258</td>\n      <td>0.165601</td>\n      <td>-0.235300</td>\n      <td>0.127554</td>\n      <td>2.091060</td>\n      <td>4.104513</td>\n    </tr>\n    <tr>\n      <th>19</th>\n      <td>elastic_net</td>\n      <td>{'alpha': 1e-05, 'l1_ratio': 0.95}</td>\n      <td>-0.120383</td>\n      <td>0.165773</td>\n      <td>-0.235409</td>\n      <td>0.127728</td>\n      <td>2.093161</td>\n      <td>4.105918</td>\n    </tr>\n    <tr>\n      <th>20</th>\n      <td>elastic_net</td>\n      <td>{'alpha': 1e-05, 'l1_ratio': 1}</td>\n      <td>-0.120510</td>\n      <td>0.165948</td>\n      <td>-0.235520</td>\n      <td>0.127903</td>\n      <td>2.095308</td>\n      <td>4.107336</td>\n    </tr>\n  </tbody>\n</table>\n<p>336 rows × 8 columns</p>\n</div>"
     },
     "metadata": {},
     "execution_count": 24
    }
   ],
   "source": [
    "grid_search_df.sort_values('mean_test_mse', ascending=False)"
   ]
  },
  {
   "cell_type": "markdown",
   "metadata": {},
   "source": [
    "# Ridge"
   ]
  },
  {
   "cell_type": "code",
   "execution_count": 25,
   "metadata": {},
   "outputs": [],
   "source": [
    "PATH = 'ridge_grid_search_results.csv'"
   ]
  },
  {
   "cell_type": "code",
   "execution_count": 26,
   "metadata": {},
   "outputs": [],
   "source": [
    "grid_search_df = pd.read_csv(PATH)\n",
    "grid_search_df[\"model\"] = \"ridge\"\n",
    "grid_search_df = grid_search_df[[\"model\", 'params', 'mean_test_mse', 'std_test_mse', 'mean_test_mae', 'std_test_mae', 'mean_test_r2', 'std_test_r2']]\n",
    "summary_df = summary_df.append(grid_search_df.sort_values('mean_test_mse', ascending=False).iloc[0], ignore_index=True)"
   ]
  },
  {
   "cell_type": "code",
   "execution_count": 27,
   "metadata": {},
   "outputs": [
    {
     "output_type": "execute_result",
     "data": {
      "text/plain": [
       "    model           params  mean_test_mse  std_test_mse  mean_test_mae  \\\n",
       "6   ridge   {'alpha': 0.5}      -0.048141      0.029448      -0.184605   \n",
       "7   ridge   {'alpha': 0.6}      -0.048315      0.028941      -0.186110   \n",
       "5   ridge   {'alpha': 0.4}      -0.048416      0.030713      -0.183004   \n",
       "8   ridge   {'alpha': 0.7}      -0.048703      0.028736      -0.187800   \n",
       "9   ridge   {'alpha': 0.8}      -0.049192      0.028659      -0.189312   \n",
       "4   ridge   {'alpha': 0.3}      -0.049664      0.034047      -0.181306   \n",
       "10  ridge   {'alpha': 0.9}      -0.049723      0.028644      -0.190661   \n",
       "11  ridge     {'alpha': 1}      -0.050264      0.028657      -0.191872   \n",
       "3   ridge   {'alpha': 0.2}      -0.053225      0.043438      -0.180898   \n",
       "12  ridge     {'alpha': 2}      -0.054754      0.029135      -0.199548   \n",
       "13  ridge     {'alpha': 3}      -0.057586      0.029658      -0.204223   \n",
       "14  ridge     {'alpha': 4}      -0.059500      0.030112      -0.207971   \n",
       "15  ridge     {'alpha': 5}      -0.060889      0.030491      -0.210601   \n",
       "16  ridge     {'alpha': 6}      -0.061952      0.030806      -0.212588   \n",
       "17  ridge     {'alpha': 7}      -0.062795      0.031070      -0.214161   \n",
       "2   ridge   {'alpha': 0.1}      -0.063339      0.071772      -0.184117   \n",
       "18  ridge     {'alpha': 8}      -0.063485      0.031293      -0.215463   \n",
       "19  ridge     {'alpha': 9}      -0.064061      0.031485      -0.216712   \n",
       "20  ridge    {'alpha': 10}      -0.064552      0.031651      -0.217787   \n",
       "21  ridge    {'alpha': 13}      -0.065673      0.032038      -0.220389   \n",
       "22  ridge    {'alpha': 15}      -0.066226      0.032233      -0.221740   \n",
       "23  ridge    {'alpha': 17}      -0.066678      0.032393      -0.222855   \n",
       "1   ridge  {'alpha': 0.05}      -0.075288      0.105045      -0.188313   \n",
       "0   ridge  {'alpha': 0.01}      -0.095834      0.148027      -0.205997   \n",
       "\n",
       "    std_test_mae  mean_test_r2  std_test_r2  \n",
       "6       0.053862      1.237025     4.023305  \n",
       "7       0.051961      1.253168     4.028460  \n",
       "5       0.056860      1.219841     4.004914  \n",
       "8       0.051017      1.267117     4.024505  \n",
       "9       0.050460      1.278726     4.014293  \n",
       "4       0.061611      1.205704     3.967420  \n",
       "10      0.050163      1.288191     3.999815  \n",
       "11      0.050037      1.295803     3.982474  \n",
       "3       0.068970      1.208043     3.903839  \n",
       "12      0.051601      1.319089     3.780156  \n",
       "13      0.053839      1.314137     3.626529  \n",
       "14      0.055968      1.307634     3.524865  \n",
       "15      0.057710      1.303175     3.457209  \n",
       "16      0.059142      1.300759     3.411153  \n",
       "17      0.060338      1.299886     3.379112  \n",
       "2       0.081996      1.276645     3.818994  \n",
       "18      0.061330      1.300100     3.356435  \n",
       "19      0.061919      1.301062     3.340192  \n",
       "20      0.062415      1.302529     3.328480  \n",
       "21      0.063400      1.308510     3.309661  \n",
       "22      0.063818      1.313003     3.304751  \n",
       "23      0.064152      1.317518     3.303007  \n",
       "1       0.092443      1.393211     3.799065  \n",
       "0       0.099553      1.662035     3.885439  "
      ],
      "text/html": "<div>\n<style scoped>\n    .dataframe tbody tr th:only-of-type {\n        vertical-align: middle;\n    }\n\n    .dataframe tbody tr th {\n        vertical-align: top;\n    }\n\n    .dataframe thead th {\n        text-align: right;\n    }\n</style>\n<table border=\"1\" class=\"dataframe\">\n  <thead>\n    <tr style=\"text-align: right;\">\n      <th></th>\n      <th>model</th>\n      <th>params</th>\n      <th>mean_test_mse</th>\n      <th>std_test_mse</th>\n      <th>mean_test_mae</th>\n      <th>std_test_mae</th>\n      <th>mean_test_r2</th>\n      <th>std_test_r2</th>\n    </tr>\n  </thead>\n  <tbody>\n    <tr>\n      <th>6</th>\n      <td>ridge</td>\n      <td>{'alpha': 0.5}</td>\n      <td>-0.048141</td>\n      <td>0.029448</td>\n      <td>-0.184605</td>\n      <td>0.053862</td>\n      <td>1.237025</td>\n      <td>4.023305</td>\n    </tr>\n    <tr>\n      <th>7</th>\n      <td>ridge</td>\n      <td>{'alpha': 0.6}</td>\n      <td>-0.048315</td>\n      <td>0.028941</td>\n      <td>-0.186110</td>\n      <td>0.051961</td>\n      <td>1.253168</td>\n      <td>4.028460</td>\n    </tr>\n    <tr>\n      <th>5</th>\n      <td>ridge</td>\n      <td>{'alpha': 0.4}</td>\n      <td>-0.048416</td>\n      <td>0.030713</td>\n      <td>-0.183004</td>\n      <td>0.056860</td>\n      <td>1.219841</td>\n      <td>4.004914</td>\n    </tr>\n    <tr>\n      <th>8</th>\n      <td>ridge</td>\n      <td>{'alpha': 0.7}</td>\n      <td>-0.048703</td>\n      <td>0.028736</td>\n      <td>-0.187800</td>\n      <td>0.051017</td>\n      <td>1.267117</td>\n      <td>4.024505</td>\n    </tr>\n    <tr>\n      <th>9</th>\n      <td>ridge</td>\n      <td>{'alpha': 0.8}</td>\n      <td>-0.049192</td>\n      <td>0.028659</td>\n      <td>-0.189312</td>\n      <td>0.050460</td>\n      <td>1.278726</td>\n      <td>4.014293</td>\n    </tr>\n    <tr>\n      <th>4</th>\n      <td>ridge</td>\n      <td>{'alpha': 0.3}</td>\n      <td>-0.049664</td>\n      <td>0.034047</td>\n      <td>-0.181306</td>\n      <td>0.061611</td>\n      <td>1.205704</td>\n      <td>3.967420</td>\n    </tr>\n    <tr>\n      <th>10</th>\n      <td>ridge</td>\n      <td>{'alpha': 0.9}</td>\n      <td>-0.049723</td>\n      <td>0.028644</td>\n      <td>-0.190661</td>\n      <td>0.050163</td>\n      <td>1.288191</td>\n      <td>3.999815</td>\n    </tr>\n    <tr>\n      <th>11</th>\n      <td>ridge</td>\n      <td>{'alpha': 1}</td>\n      <td>-0.050264</td>\n      <td>0.028657</td>\n      <td>-0.191872</td>\n      <td>0.050037</td>\n      <td>1.295803</td>\n      <td>3.982474</td>\n    </tr>\n    <tr>\n      <th>3</th>\n      <td>ridge</td>\n      <td>{'alpha': 0.2}</td>\n      <td>-0.053225</td>\n      <td>0.043438</td>\n      <td>-0.180898</td>\n      <td>0.068970</td>\n      <td>1.208043</td>\n      <td>3.903839</td>\n    </tr>\n    <tr>\n      <th>12</th>\n      <td>ridge</td>\n      <td>{'alpha': 2}</td>\n      <td>-0.054754</td>\n      <td>0.029135</td>\n      <td>-0.199548</td>\n      <td>0.051601</td>\n      <td>1.319089</td>\n      <td>3.780156</td>\n    </tr>\n    <tr>\n      <th>13</th>\n      <td>ridge</td>\n      <td>{'alpha': 3}</td>\n      <td>-0.057586</td>\n      <td>0.029658</td>\n      <td>-0.204223</td>\n      <td>0.053839</td>\n      <td>1.314137</td>\n      <td>3.626529</td>\n    </tr>\n    <tr>\n      <th>14</th>\n      <td>ridge</td>\n      <td>{'alpha': 4}</td>\n      <td>-0.059500</td>\n      <td>0.030112</td>\n      <td>-0.207971</td>\n      <td>0.055968</td>\n      <td>1.307634</td>\n      <td>3.524865</td>\n    </tr>\n    <tr>\n      <th>15</th>\n      <td>ridge</td>\n      <td>{'alpha': 5}</td>\n      <td>-0.060889</td>\n      <td>0.030491</td>\n      <td>-0.210601</td>\n      <td>0.057710</td>\n      <td>1.303175</td>\n      <td>3.457209</td>\n    </tr>\n    <tr>\n      <th>16</th>\n      <td>ridge</td>\n      <td>{'alpha': 6}</td>\n      <td>-0.061952</td>\n      <td>0.030806</td>\n      <td>-0.212588</td>\n      <td>0.059142</td>\n      <td>1.300759</td>\n      <td>3.411153</td>\n    </tr>\n    <tr>\n      <th>17</th>\n      <td>ridge</td>\n      <td>{'alpha': 7}</td>\n      <td>-0.062795</td>\n      <td>0.031070</td>\n      <td>-0.214161</td>\n      <td>0.060338</td>\n      <td>1.299886</td>\n      <td>3.379112</td>\n    </tr>\n    <tr>\n      <th>2</th>\n      <td>ridge</td>\n      <td>{'alpha': 0.1}</td>\n      <td>-0.063339</td>\n      <td>0.071772</td>\n      <td>-0.184117</td>\n      <td>0.081996</td>\n      <td>1.276645</td>\n      <td>3.818994</td>\n    </tr>\n    <tr>\n      <th>18</th>\n      <td>ridge</td>\n      <td>{'alpha': 8}</td>\n      <td>-0.063485</td>\n      <td>0.031293</td>\n      <td>-0.215463</td>\n      <td>0.061330</td>\n      <td>1.300100</td>\n      <td>3.356435</td>\n    </tr>\n    <tr>\n      <th>19</th>\n      <td>ridge</td>\n      <td>{'alpha': 9}</td>\n      <td>-0.064061</td>\n      <td>0.031485</td>\n      <td>-0.216712</td>\n      <td>0.061919</td>\n      <td>1.301062</td>\n      <td>3.340192</td>\n    </tr>\n    <tr>\n      <th>20</th>\n      <td>ridge</td>\n      <td>{'alpha': 10}</td>\n      <td>-0.064552</td>\n      <td>0.031651</td>\n      <td>-0.217787</td>\n      <td>0.062415</td>\n      <td>1.302529</td>\n      <td>3.328480</td>\n    </tr>\n    <tr>\n      <th>21</th>\n      <td>ridge</td>\n      <td>{'alpha': 13}</td>\n      <td>-0.065673</td>\n      <td>0.032038</td>\n      <td>-0.220389</td>\n      <td>0.063400</td>\n      <td>1.308510</td>\n      <td>3.309661</td>\n    </tr>\n    <tr>\n      <th>22</th>\n      <td>ridge</td>\n      <td>{'alpha': 15}</td>\n      <td>-0.066226</td>\n      <td>0.032233</td>\n      <td>-0.221740</td>\n      <td>0.063818</td>\n      <td>1.313003</td>\n      <td>3.304751</td>\n    </tr>\n    <tr>\n      <th>23</th>\n      <td>ridge</td>\n      <td>{'alpha': 17}</td>\n      <td>-0.066678</td>\n      <td>0.032393</td>\n      <td>-0.222855</td>\n      <td>0.064152</td>\n      <td>1.317518</td>\n      <td>3.303007</td>\n    </tr>\n    <tr>\n      <th>1</th>\n      <td>ridge</td>\n      <td>{'alpha': 0.05}</td>\n      <td>-0.075288</td>\n      <td>0.105045</td>\n      <td>-0.188313</td>\n      <td>0.092443</td>\n      <td>1.393211</td>\n      <td>3.799065</td>\n    </tr>\n    <tr>\n      <th>0</th>\n      <td>ridge</td>\n      <td>{'alpha': 0.01}</td>\n      <td>-0.095834</td>\n      <td>0.148027</td>\n      <td>-0.205997</td>\n      <td>0.099553</td>\n      <td>1.662035</td>\n      <td>3.885439</td>\n    </tr>\n  </tbody>\n</table>\n</div>"
     },
     "metadata": {},
     "execution_count": 27
    }
   ],
   "source": [
    "grid_search_df.sort_values('mean_test_mse', ascending=False)"
   ]
  },
  {
   "cell_type": "markdown",
   "metadata": {},
   "source": [
    "# SGD"
   ]
  },
  {
   "cell_type": "code",
   "execution_count": 28,
   "metadata": {},
   "outputs": [],
   "source": [
    "PATH = 'sgd_grid_search_results.csv'"
   ]
  },
  {
   "cell_type": "code",
   "execution_count": 29,
   "metadata": {},
   "outputs": [],
   "source": [
    "grid_search_df = pd.read_csv(PATH)\n",
    "grid_search_df[\"model\"] = \"sgd\"\n",
    "grid_search_df = grid_search_df[[\"model\", 'params', 'mean_test_mse', 'std_test_mse', 'mean_test_mae', 'std_test_mae', 'mean_test_r2', 'std_test_r2']]\n",
    "summary_df = summary_df.append(grid_search_df.sort_values('mean_test_mse', ascending=False).iloc[0], ignore_index=True)"
   ]
  },
  {
   "cell_type": "code",
   "execution_count": 30,
   "metadata": {},
   "outputs": [
    {
     "output_type": "execute_result",
     "data": {
      "text/plain": [
       "      model                                             params  mean_test_mse  \\\n",
       "35199   sgd  {'alpha': 0.01, 'epsilon': 0.3, 'l1_ratio': 0....  -4.265130e-02   \n",
       "14168   sgd  {'alpha': 1e-05, 'epsilon': 0.1, 'l1_ratio': 0...  -4.480496e-02   \n",
       "21608   sgd  {'alpha': 0.0001, 'epsilon': 0.15, 'l1_ratio':...  -4.484616e-02   \n",
       "38694   sgd  {'alpha': 0.01, 'epsilon': 0.1, 'l1_ratio': 0....  -4.529638e-02   \n",
       "23720   sgd  {'alpha': 0.0001, 'epsilon': 0.05, 'l1_ratio':...  -4.555566e-02   \n",
       "...     ...                                                ...            ...   \n",
       "4142    sgd  {'alpha': 1e-06, 'epsilon': 0.2, 'l1_ratio': 0...  -5.122124e+27   \n",
       "7222    sgd  {'alpha': 1e-06, 'epsilon': 0.05, 'l1_ratio': ...  -5.182352e+27   \n",
       "1415    sgd  {'alpha': 1e-06, 'epsilon': 0.45, 'l1_ratio': ...  -5.424595e+27   \n",
       "3758    sgd  {'alpha': 1e-06, 'epsilon': 0.25, 'l1_ratio': ...  -5.448334e+27   \n",
       "5390    sgd  {'alpha': 1e-06, 'epsilon': 0.15, 'l1_ratio': ...  -6.781253e+27   \n",
       "\n",
       "       std_test_mse  mean_test_mae  std_test_mae  mean_test_r2   std_test_r2  \n",
       "35199  2.666317e-02  -1.754398e-01  5.653237e-02  7.956663e-01  2.778233e+00  \n",
       "14168  3.042418e-02  -1.760422e-01  5.618057e-02  9.509545e-01  3.344694e+00  \n",
       "21608  2.839503e-02  -1.810008e-01  5.033234e-02  9.205802e-01  3.008409e+00  \n",
       "38694  3.081230e-02  -1.794403e-01  5.554167e-02  1.101148e+00  3.658183e+00  \n",
       "23720  3.087558e-02  -1.801289e-01  5.915573e-02  1.161578e+00  3.791414e+00  \n",
       "...             ...            ...           ...           ...           ...  \n",
       "4142   8.765471e+27  -5.300139e+13  4.312639e+13  7.609083e+29  2.432374e+30  \n",
       "7222   5.011553e+27  -5.981427e+13  2.973343e+13  1.905084e+29  2.837698e+29  \n",
       "1415   9.127046e+27  -5.181232e+13  3.759868e+13  1.474049e+29  1.983981e+29  \n",
       "3758   5.987063e+27  -5.746144e+13  4.343969e+13  3.316559e+29  8.931056e+29  \n",
       "5390   9.919471e+27  -6.156011e+13  5.024750e+13  4.585123e+29  1.404751e+30  \n",
       "\n",
       "[56448 rows x 8 columns]"
      ],
      "text/html": "<div>\n<style scoped>\n    .dataframe tbody tr th:only-of-type {\n        vertical-align: middle;\n    }\n\n    .dataframe tbody tr th {\n        vertical-align: top;\n    }\n\n    .dataframe thead th {\n        text-align: right;\n    }\n</style>\n<table border=\"1\" class=\"dataframe\">\n  <thead>\n    <tr style=\"text-align: right;\">\n      <th></th>\n      <th>model</th>\n      <th>params</th>\n      <th>mean_test_mse</th>\n      <th>std_test_mse</th>\n      <th>mean_test_mae</th>\n      <th>std_test_mae</th>\n      <th>mean_test_r2</th>\n      <th>std_test_r2</th>\n    </tr>\n  </thead>\n  <tbody>\n    <tr>\n      <th>35199</th>\n      <td>sgd</td>\n      <td>{'alpha': 0.01, 'epsilon': 0.3, 'l1_ratio': 0....</td>\n      <td>-4.265130e-02</td>\n      <td>2.666317e-02</td>\n      <td>-1.754398e-01</td>\n      <td>5.653237e-02</td>\n      <td>7.956663e-01</td>\n      <td>2.778233e+00</td>\n    </tr>\n    <tr>\n      <th>14168</th>\n      <td>sgd</td>\n      <td>{'alpha': 1e-05, 'epsilon': 0.1, 'l1_ratio': 0...</td>\n      <td>-4.480496e-02</td>\n      <td>3.042418e-02</td>\n      <td>-1.760422e-01</td>\n      <td>5.618057e-02</td>\n      <td>9.509545e-01</td>\n      <td>3.344694e+00</td>\n    </tr>\n    <tr>\n      <th>21608</th>\n      <td>sgd</td>\n      <td>{'alpha': 0.0001, 'epsilon': 0.15, 'l1_ratio':...</td>\n      <td>-4.484616e-02</td>\n      <td>2.839503e-02</td>\n      <td>-1.810008e-01</td>\n      <td>5.033234e-02</td>\n      <td>9.205802e-01</td>\n      <td>3.008409e+00</td>\n    </tr>\n    <tr>\n      <th>38694</th>\n      <td>sgd</td>\n      <td>{'alpha': 0.01, 'epsilon': 0.1, 'l1_ratio': 0....</td>\n      <td>-4.529638e-02</td>\n      <td>3.081230e-02</td>\n      <td>-1.794403e-01</td>\n      <td>5.554167e-02</td>\n      <td>1.101148e+00</td>\n      <td>3.658183e+00</td>\n    </tr>\n    <tr>\n      <th>23720</th>\n      <td>sgd</td>\n      <td>{'alpha': 0.0001, 'epsilon': 0.05, 'l1_ratio':...</td>\n      <td>-4.555566e-02</td>\n      <td>3.087558e-02</td>\n      <td>-1.801289e-01</td>\n      <td>5.915573e-02</td>\n      <td>1.161578e+00</td>\n      <td>3.791414e+00</td>\n    </tr>\n    <tr>\n      <th>...</th>\n      <td>...</td>\n      <td>...</td>\n      <td>...</td>\n      <td>...</td>\n      <td>...</td>\n      <td>...</td>\n      <td>...</td>\n      <td>...</td>\n    </tr>\n    <tr>\n      <th>4142</th>\n      <td>sgd</td>\n      <td>{'alpha': 1e-06, 'epsilon': 0.2, 'l1_ratio': 0...</td>\n      <td>-5.122124e+27</td>\n      <td>8.765471e+27</td>\n      <td>-5.300139e+13</td>\n      <td>4.312639e+13</td>\n      <td>7.609083e+29</td>\n      <td>2.432374e+30</td>\n    </tr>\n    <tr>\n      <th>7222</th>\n      <td>sgd</td>\n      <td>{'alpha': 1e-06, 'epsilon': 0.05, 'l1_ratio': ...</td>\n      <td>-5.182352e+27</td>\n      <td>5.011553e+27</td>\n      <td>-5.981427e+13</td>\n      <td>2.973343e+13</td>\n      <td>1.905084e+29</td>\n      <td>2.837698e+29</td>\n    </tr>\n    <tr>\n      <th>1415</th>\n      <td>sgd</td>\n      <td>{'alpha': 1e-06, 'epsilon': 0.45, 'l1_ratio': ...</td>\n      <td>-5.424595e+27</td>\n      <td>9.127046e+27</td>\n      <td>-5.181232e+13</td>\n      <td>3.759868e+13</td>\n      <td>1.474049e+29</td>\n      <td>1.983981e+29</td>\n    </tr>\n    <tr>\n      <th>3758</th>\n      <td>sgd</td>\n      <td>{'alpha': 1e-06, 'epsilon': 0.25, 'l1_ratio': ...</td>\n      <td>-5.448334e+27</td>\n      <td>5.987063e+27</td>\n      <td>-5.746144e+13</td>\n      <td>4.343969e+13</td>\n      <td>3.316559e+29</td>\n      <td>8.931056e+29</td>\n    </tr>\n    <tr>\n      <th>5390</th>\n      <td>sgd</td>\n      <td>{'alpha': 1e-06, 'epsilon': 0.15, 'l1_ratio': ...</td>\n      <td>-6.781253e+27</td>\n      <td>9.919471e+27</td>\n      <td>-6.156011e+13</td>\n      <td>5.024750e+13</td>\n      <td>4.585123e+29</td>\n      <td>1.404751e+30</td>\n    </tr>\n  </tbody>\n</table>\n<p>56448 rows × 8 columns</p>\n</div>"
     },
     "metadata": {},
     "execution_count": 30
    }
   ],
   "source": [
    "grid_search_df.sort_values('mean_test_mse', ascending=False)"
   ]
  },
  {
   "cell_type": "code",
   "execution_count": 31,
   "metadata": {},
   "outputs": [
    {
     "output_type": "execute_result",
     "data": {
      "text/plain": [
       "array([\"{'alpha': 0.01, 'epsilon': 0.3, 'l1_ratio': 0.95, 'learning_rate': 'optimal', 'loss': 'huber', 'penalty': 'l2'}\",\n",
       "       \"{'alpha': 1e-05, 'epsilon': 0.1, 'l1_ratio': 0.05, 'learning_rate': 'constant', 'loss': 'epsilon_insensitive', 'penalty': 'elasticnet'}\",\n",
       "       \"{'alpha': 0.0001, 'epsilon': 0.15, 'l1_ratio': 0.45, 'learning_rate': 'constant', 'loss': 'epsilon_insensitive', 'penalty': 'elasticnet'}\",\n",
       "       \"{'alpha': 0.01, 'epsilon': 0.1, 'l1_ratio': 0.4, 'learning_rate': 'constant', 'loss': 'epsilon_insensitive', 'penalty': 'l2'}\",\n",
       "       \"{'alpha': 0.0001, 'epsilon': 0.05, 'l1_ratio': 0.55, 'learning_rate': 'constant', 'loss': 'epsilon_insensitive', 'penalty': 'elasticnet'}\",\n",
       "       \"{'alpha': 0.01, 'epsilon': 0.2, 'l1_ratio': 0, 'learning_rate': 'optimal', 'loss': 'huber', 'penalty': 'elasticnet'}\",\n",
       "       \"{'alpha': 0.001, 'epsilon': 0.1, 'l1_ratio': 0.4, 'learning_rate': 'constant', 'loss': 'epsilon_insensitive', 'penalty': 'l2'}\",\n",
       "       \"{'alpha': 1e-06, 'epsilon': 0.1, 'l1_ratio': 0.25, 'learning_rate': 'constant', 'loss': 'epsilon_insensitive', 'penalty': 'l1'}\",\n",
       "       \"{'alpha': 1e-06, 'epsilon': 0.1, 'l1_ratio': 0.25, 'learning_rate': 'adaptive', 'loss': 'epsilon_insensitive', 'penalty': 'elasticnet'}\",\n",
       "       \"{'alpha': 1e-05, 'epsilon': 0.1, 'l1_ratio': 0.35, 'learning_rate': 'adaptive', 'loss': 'epsilon_insensitive', 'penalty': 'l2'}\",\n",
       "       \"{'alpha': 0.001, 'epsilon': 0.15, 'l1_ratio': 0.45, 'learning_rate': 'constant', 'loss': 'epsilon_insensitive', 'penalty': 'l1'}\",\n",
       "       \"{'alpha': 1e-05, 'epsilon': 0.1, 'l1_ratio': 0.85, 'learning_rate': 'constant', 'loss': 'epsilon_insensitive', 'penalty': 'l2'}\",\n",
       "       \"{'alpha': 0.001, 'epsilon': 0.1, 'l1_ratio': 0.55, 'learning_rate': 'constant', 'loss': 'epsilon_insensitive', 'penalty': 'elasticnet'}\",\n",
       "       \"{'alpha': 0.001, 'epsilon': 0.1, 'l1_ratio': 0.95, 'learning_rate': 'constant', 'loss': 'epsilon_insensitive', 'penalty': 'elasticnet'}\",\n",
       "       \"{'alpha': 0.001, 'epsilon': 0.1, 'l1_ratio': 0.95, 'learning_rate': 'constant', 'loss': 'epsilon_insensitive', 'penalty': 'l2'}\",\n",
       "       \"{'alpha': 1e-06, 'epsilon': 0.1, 'l1_ratio': 0.45, 'learning_rate': 'adaptive', 'loss': 'epsilon_insensitive', 'penalty': 'l1'}\",\n",
       "       \"{'alpha': 0.0001, 'epsilon': 0.15, 'l1_ratio': 0.1, 'learning_rate': 'constant', 'loss': 'epsilon_insensitive', 'penalty': 'elasticnet'}\",\n",
       "       \"{'alpha': 0.001, 'epsilon': 0.1, 'l1_ratio': 0.1, 'learning_rate': 'constant', 'loss': 'epsilon_insensitive', 'penalty': 'elasticnet'}\",\n",
       "       \"{'alpha': 0.0001, 'epsilon': 0.1, 'l1_ratio': 0.55, 'learning_rate': 'constant', 'loss': 'epsilon_insensitive', 'penalty': 'l2'}\",\n",
       "       \"{'alpha': 1e-06, 'epsilon': 0.15, 'l1_ratio': 0.1, 'learning_rate': 'constant', 'loss': 'epsilon_insensitive', 'penalty': 'l1'}\"],\n",
       "      dtype=object)"
      ]
     },
     "metadata": {},
     "execution_count": 31
    }
   ],
   "source": [
    "grid_search_df.sort_values('mean_test_mse', ascending=False)[\"params\"].head(20).values"
   ]
  },
  {
   "source": [
    "# Ensamble2"
   ],
   "cell_type": "markdown",
   "metadata": {}
  },
  {
   "cell_type": "code",
   "execution_count": 32,
   "metadata": {},
   "outputs": [],
   "source": [
    "PATH = 'ensamble2_grid_search_results.csv'"
   ]
  },
  {
   "cell_type": "code",
   "execution_count": 33,
   "metadata": {},
   "outputs": [],
   "source": [
    "grid_search_df = pd.read_csv(PATH)\n",
    "grid_search_df[\"model\"] = \"ensamble2\"\n",
    "grid_search_df = grid_search_df[[\"model\", 'params', 'mean_test_mse', 'std_test_mse', 'mean_test_mae', 'std_test_mae', 'mean_test_r2', 'std_test_r2']]\n",
    "summary_df = summary_df.append(grid_search_df.sort_values('mean_test_mse', ascending=False).iloc[0], ignore_index=True)"
   ]
  },
  {
   "cell_type": "code",
   "execution_count": 34,
   "metadata": {},
   "outputs": [
    {
     "output_type": "execute_result",
     "data": {
      "text/plain": [
       "        model                                             params  \\\n",
       "15  ensamble2  {'base_estimator': SVR(C=3.5, cache_size=200, ...   \n",
       "5   ensamble2  {'base_estimator': SVR(C=3.5, cache_size=200, ...   \n",
       "17  ensamble2  {'base_estimator': SVR(C=3.5, cache_size=200, ...   \n",
       "20  ensamble2  {'base_estimator': SVR(C=3.5, cache_size=200, ...   \n",
       "2   ensamble2  {'base_estimator': SVR(C=3.5, cache_size=200, ...   \n",
       "9   ensamble2  {'base_estimator': SVR(C=3.5, cache_size=200, ...   \n",
       "21  ensamble2  {'base_estimator': SVR(C=3.5, cache_size=200, ...   \n",
       "4   ensamble2  {'base_estimator': SVR(C=3.5, cache_size=200, ...   \n",
       "6   ensamble2  {'base_estimator': SVR(C=3.5, cache_size=200, ...   \n",
       "11  ensamble2  {'base_estimator': SVR(C=3.5, cache_size=200, ...   \n",
       "7   ensamble2  {'base_estimator': SVR(C=3.5, cache_size=200, ...   \n",
       "18  ensamble2  {'base_estimator': SVR(C=3.5, cache_size=200, ...   \n",
       "3   ensamble2  {'base_estimator': SVR(C=3.5, cache_size=200, ...   \n",
       "1   ensamble2  {'base_estimator': SVR(C=3.5, cache_size=200, ...   \n",
       "16  ensamble2  {'base_estimator': SVR(C=3.5, cache_size=200, ...   \n",
       "8   ensamble2  {'base_estimator': SVR(C=3.5, cache_size=200, ...   \n",
       "0   ensamble2  {'base_estimator': SVR(C=3.5, cache_size=200, ...   \n",
       "12  ensamble2  {'base_estimator': SVR(C=3.5, cache_size=200, ...   \n",
       "10  ensamble2  {'base_estimator': SVR(C=3.5, cache_size=200, ...   \n",
       "19  ensamble2  {'base_estimator': SVR(C=3.5, cache_size=200, ...   \n",
       "13  ensamble2  {'base_estimator': SVR(C=3.5, cache_size=200, ...   \n",
       "14  ensamble2  {'base_estimator': SVR(C=3.5, cache_size=200, ...   \n",
       "\n",
       "    mean_test_mse  std_test_mse  mean_test_mae  std_test_mae  mean_test_r2  \\\n",
       "15      -0.032472      0.020446      -0.146937      0.043217      0.137116   \n",
       "5       -0.032599      0.021570      -0.143495      0.042849      0.108401   \n",
       "17      -0.033189      0.019404      -0.151552      0.041666      0.175144   \n",
       "20      -0.033281      0.020995      -0.148424      0.043318      0.151357   \n",
       "2       -0.034028      0.020443      -0.151399      0.042181      0.486006   \n",
       "9       -0.034279      0.022120      -0.149679      0.042975      0.220980   \n",
       "21      -0.034343      0.019665      -0.153194      0.040157      0.170793   \n",
       "4       -0.034539      0.026374      -0.149545      0.050396      0.250456   \n",
       "6       -0.034549      0.021422      -0.152409      0.043805      0.289953   \n",
       "11      -0.034557      0.024982      -0.151248      0.049773      0.289918   \n",
       "7       -0.034653      0.019021      -0.154844      0.040054      0.312299   \n",
       "18      -0.034677      0.021255      -0.150823      0.040273      0.244173   \n",
       "3       -0.034901      0.026172      -0.150837      0.047556      0.220077   \n",
       "1       -0.034996      0.023734      -0.155584      0.043432      0.225323   \n",
       "16      -0.035189      0.024537      -0.152961      0.046278      0.191214   \n",
       "8       -0.035396      0.022491      -0.155276      0.042735      0.127862   \n",
       "0       -0.035583      0.025042      -0.151488      0.055019      0.646995   \n",
       "12      -0.035790      0.022660      -0.151879      0.044785      0.374424   \n",
       "10      -0.036012      0.022584      -0.156189      0.044689      0.199467   \n",
       "19      -0.036342      0.027472      -0.152914      0.046802      0.149789   \n",
       "13      -0.036439      0.018982      -0.157670      0.041396      0.393137   \n",
       "14      -0.036590      0.020973      -0.157432      0.043416      0.267707   \n",
       "\n",
       "    std_test_r2  \n",
       "15     1.567975  \n",
       "5      1.325833  \n",
       "17     1.486972  \n",
       "20     1.491814  \n",
       "2      2.286276  \n",
       "9      1.659923  \n",
       "21     1.579760  \n",
       "4      1.925288  \n",
       "6      1.997354  \n",
       "11     1.774062  \n",
       "7      2.051868  \n",
       "18     1.682286  \n",
       "3      1.574544  \n",
       "1      1.756849  \n",
       "16     1.525968  \n",
       "8      1.377837  \n",
       "0      2.853019  \n",
       "12     2.144068  \n",
       "10     1.529009  \n",
       "19     1.302087  \n",
       "13     2.048053  \n",
       "14     1.550935  "
      ],
      "text/html": "<div>\n<style scoped>\n    .dataframe tbody tr th:only-of-type {\n        vertical-align: middle;\n    }\n\n    .dataframe tbody tr th {\n        vertical-align: top;\n    }\n\n    .dataframe thead th {\n        text-align: right;\n    }\n</style>\n<table border=\"1\" class=\"dataframe\">\n  <thead>\n    <tr style=\"text-align: right;\">\n      <th></th>\n      <th>model</th>\n      <th>params</th>\n      <th>mean_test_mse</th>\n      <th>std_test_mse</th>\n      <th>mean_test_mae</th>\n      <th>std_test_mae</th>\n      <th>mean_test_r2</th>\n      <th>std_test_r2</th>\n    </tr>\n  </thead>\n  <tbody>\n    <tr>\n      <th>15</th>\n      <td>ensamble2</td>\n      <td>{'base_estimator': SVR(C=3.5, cache_size=200, ...</td>\n      <td>-0.032472</td>\n      <td>0.020446</td>\n      <td>-0.146937</td>\n      <td>0.043217</td>\n      <td>0.137116</td>\n      <td>1.567975</td>\n    </tr>\n    <tr>\n      <th>5</th>\n      <td>ensamble2</td>\n      <td>{'base_estimator': SVR(C=3.5, cache_size=200, ...</td>\n      <td>-0.032599</td>\n      <td>0.021570</td>\n      <td>-0.143495</td>\n      <td>0.042849</td>\n      <td>0.108401</td>\n      <td>1.325833</td>\n    </tr>\n    <tr>\n      <th>17</th>\n      <td>ensamble2</td>\n      <td>{'base_estimator': SVR(C=3.5, cache_size=200, ...</td>\n      <td>-0.033189</td>\n      <td>0.019404</td>\n      <td>-0.151552</td>\n      <td>0.041666</td>\n      <td>0.175144</td>\n      <td>1.486972</td>\n    </tr>\n    <tr>\n      <th>20</th>\n      <td>ensamble2</td>\n      <td>{'base_estimator': SVR(C=3.5, cache_size=200, ...</td>\n      <td>-0.033281</td>\n      <td>0.020995</td>\n      <td>-0.148424</td>\n      <td>0.043318</td>\n      <td>0.151357</td>\n      <td>1.491814</td>\n    </tr>\n    <tr>\n      <th>2</th>\n      <td>ensamble2</td>\n      <td>{'base_estimator': SVR(C=3.5, cache_size=200, ...</td>\n      <td>-0.034028</td>\n      <td>0.020443</td>\n      <td>-0.151399</td>\n      <td>0.042181</td>\n      <td>0.486006</td>\n      <td>2.286276</td>\n    </tr>\n    <tr>\n      <th>9</th>\n      <td>ensamble2</td>\n      <td>{'base_estimator': SVR(C=3.5, cache_size=200, ...</td>\n      <td>-0.034279</td>\n      <td>0.022120</td>\n      <td>-0.149679</td>\n      <td>0.042975</td>\n      <td>0.220980</td>\n      <td>1.659923</td>\n    </tr>\n    <tr>\n      <th>21</th>\n      <td>ensamble2</td>\n      <td>{'base_estimator': SVR(C=3.5, cache_size=200, ...</td>\n      <td>-0.034343</td>\n      <td>0.019665</td>\n      <td>-0.153194</td>\n      <td>0.040157</td>\n      <td>0.170793</td>\n      <td>1.579760</td>\n    </tr>\n    <tr>\n      <th>4</th>\n      <td>ensamble2</td>\n      <td>{'base_estimator': SVR(C=3.5, cache_size=200, ...</td>\n      <td>-0.034539</td>\n      <td>0.026374</td>\n      <td>-0.149545</td>\n      <td>0.050396</td>\n      <td>0.250456</td>\n      <td>1.925288</td>\n    </tr>\n    <tr>\n      <th>6</th>\n      <td>ensamble2</td>\n      <td>{'base_estimator': SVR(C=3.5, cache_size=200, ...</td>\n      <td>-0.034549</td>\n      <td>0.021422</td>\n      <td>-0.152409</td>\n      <td>0.043805</td>\n      <td>0.289953</td>\n      <td>1.997354</td>\n    </tr>\n    <tr>\n      <th>11</th>\n      <td>ensamble2</td>\n      <td>{'base_estimator': SVR(C=3.5, cache_size=200, ...</td>\n      <td>-0.034557</td>\n      <td>0.024982</td>\n      <td>-0.151248</td>\n      <td>0.049773</td>\n      <td>0.289918</td>\n      <td>1.774062</td>\n    </tr>\n    <tr>\n      <th>7</th>\n      <td>ensamble2</td>\n      <td>{'base_estimator': SVR(C=3.5, cache_size=200, ...</td>\n      <td>-0.034653</td>\n      <td>0.019021</td>\n      <td>-0.154844</td>\n      <td>0.040054</td>\n      <td>0.312299</td>\n      <td>2.051868</td>\n    </tr>\n    <tr>\n      <th>18</th>\n      <td>ensamble2</td>\n      <td>{'base_estimator': SVR(C=3.5, cache_size=200, ...</td>\n      <td>-0.034677</td>\n      <td>0.021255</td>\n      <td>-0.150823</td>\n      <td>0.040273</td>\n      <td>0.244173</td>\n      <td>1.682286</td>\n    </tr>\n    <tr>\n      <th>3</th>\n      <td>ensamble2</td>\n      <td>{'base_estimator': SVR(C=3.5, cache_size=200, ...</td>\n      <td>-0.034901</td>\n      <td>0.026172</td>\n      <td>-0.150837</td>\n      <td>0.047556</td>\n      <td>0.220077</td>\n      <td>1.574544</td>\n    </tr>\n    <tr>\n      <th>1</th>\n      <td>ensamble2</td>\n      <td>{'base_estimator': SVR(C=3.5, cache_size=200, ...</td>\n      <td>-0.034996</td>\n      <td>0.023734</td>\n      <td>-0.155584</td>\n      <td>0.043432</td>\n      <td>0.225323</td>\n      <td>1.756849</td>\n    </tr>\n    <tr>\n      <th>16</th>\n      <td>ensamble2</td>\n      <td>{'base_estimator': SVR(C=3.5, cache_size=200, ...</td>\n      <td>-0.035189</td>\n      <td>0.024537</td>\n      <td>-0.152961</td>\n      <td>0.046278</td>\n      <td>0.191214</td>\n      <td>1.525968</td>\n    </tr>\n    <tr>\n      <th>8</th>\n      <td>ensamble2</td>\n      <td>{'base_estimator': SVR(C=3.5, cache_size=200, ...</td>\n      <td>-0.035396</td>\n      <td>0.022491</td>\n      <td>-0.155276</td>\n      <td>0.042735</td>\n      <td>0.127862</td>\n      <td>1.377837</td>\n    </tr>\n    <tr>\n      <th>0</th>\n      <td>ensamble2</td>\n      <td>{'base_estimator': SVR(C=3.5, cache_size=200, ...</td>\n      <td>-0.035583</td>\n      <td>0.025042</td>\n      <td>-0.151488</td>\n      <td>0.055019</td>\n      <td>0.646995</td>\n      <td>2.853019</td>\n    </tr>\n    <tr>\n      <th>12</th>\n      <td>ensamble2</td>\n      <td>{'base_estimator': SVR(C=3.5, cache_size=200, ...</td>\n      <td>-0.035790</td>\n      <td>0.022660</td>\n      <td>-0.151879</td>\n      <td>0.044785</td>\n      <td>0.374424</td>\n      <td>2.144068</td>\n    </tr>\n    <tr>\n      <th>10</th>\n      <td>ensamble2</td>\n      <td>{'base_estimator': SVR(C=3.5, cache_size=200, ...</td>\n      <td>-0.036012</td>\n      <td>0.022584</td>\n      <td>-0.156189</td>\n      <td>0.044689</td>\n      <td>0.199467</td>\n      <td>1.529009</td>\n    </tr>\n    <tr>\n      <th>19</th>\n      <td>ensamble2</td>\n      <td>{'base_estimator': SVR(C=3.5, cache_size=200, ...</td>\n      <td>-0.036342</td>\n      <td>0.027472</td>\n      <td>-0.152914</td>\n      <td>0.046802</td>\n      <td>0.149789</td>\n      <td>1.302087</td>\n    </tr>\n    <tr>\n      <th>13</th>\n      <td>ensamble2</td>\n      <td>{'base_estimator': SVR(C=3.5, cache_size=200, ...</td>\n      <td>-0.036439</td>\n      <td>0.018982</td>\n      <td>-0.157670</td>\n      <td>0.041396</td>\n      <td>0.393137</td>\n      <td>2.048053</td>\n    </tr>\n    <tr>\n      <th>14</th>\n      <td>ensamble2</td>\n      <td>{'base_estimator': SVR(C=3.5, cache_size=200, ...</td>\n      <td>-0.036590</td>\n      <td>0.020973</td>\n      <td>-0.157432</td>\n      <td>0.043416</td>\n      <td>0.267707</td>\n      <td>1.550935</td>\n    </tr>\n  </tbody>\n</table>\n</div>"
     },
     "metadata": {},
     "execution_count": 34
    }
   ],
   "source": [
    "grid_search_df.sort_values('mean_test_mse', ascending=False)"
   ]
  },
  {
   "cell_type": "code",
   "execution_count": 35,
   "metadata": {},
   "outputs": [
    {
     "output_type": "execute_result",
     "data": {
      "text/plain": [
       "array([\"{'base_estimator': SVR(C=3.5, cache_size=200, coef0=0.0, degree=2, epsilon=0.05, gamma=2.6,\\n    kernel='rbf', max_iter=-1, shrinking=True, tol=0.001, verbose=False), 'n_estimators': 17}\",\n",
       "       \"{'base_estimator': SVR(C=3.5, cache_size=200, coef0=0.0, degree=2, epsilon=0.05, gamma=2.6,\\n    kernel='rbf', max_iter=-1, shrinking=True, tol=0.001, verbose=False), 'n_estimators': 7}\",\n",
       "       \"{'base_estimator': SVR(C=3.5, cache_size=200, coef0=0.0, degree=2, epsilon=0.05, gamma=2.6,\\n    kernel='rbf', max_iter=-1, shrinking=True, tol=0.001, verbose=False), 'n_estimators': 19}\",\n",
       "       \"{'base_estimator': SVR(C=3.5, cache_size=200, coef0=0.0, degree=2, epsilon=0.05, gamma=2.6,\\n    kernel='rbf', max_iter=-1, shrinking=True, tol=0.001, verbose=False), 'n_estimators': 22}\",\n",
       "       \"{'base_estimator': SVR(C=3.5, cache_size=200, coef0=0.0, degree=2, epsilon=0.05, gamma=2.6,\\n    kernel='rbf', max_iter=-1, shrinking=True, tol=0.001, verbose=False), 'n_estimators': 4}\",\n",
       "       \"{'base_estimator': SVR(C=3.5, cache_size=200, coef0=0.0, degree=2, epsilon=0.05, gamma=2.6,\\n    kernel='rbf', max_iter=-1, shrinking=True, tol=0.001, verbose=False), 'n_estimators': 11}\",\n",
       "       \"{'base_estimator': SVR(C=3.5, cache_size=200, coef0=0.0, degree=2, epsilon=0.05, gamma=2.6,\\n    kernel='rbf', max_iter=-1, shrinking=True, tol=0.001, verbose=False), 'n_estimators': 23}\",\n",
       "       \"{'base_estimator': SVR(C=3.5, cache_size=200, coef0=0.0, degree=2, epsilon=0.05, gamma=2.6,\\n    kernel='rbf', max_iter=-1, shrinking=True, tol=0.001, verbose=False), 'n_estimators': 6}\",\n",
       "       \"{'base_estimator': SVR(C=3.5, cache_size=200, coef0=0.0, degree=2, epsilon=0.05, gamma=2.6,\\n    kernel='rbf', max_iter=-1, shrinking=True, tol=0.001, verbose=False), 'n_estimators': 8}\",\n",
       "       \"{'base_estimator': SVR(C=3.5, cache_size=200, coef0=0.0, degree=2, epsilon=0.05, gamma=2.6,\\n    kernel='rbf', max_iter=-1, shrinking=True, tol=0.001, verbose=False), 'n_estimators': 13}\",\n",
       "       \"{'base_estimator': SVR(C=3.5, cache_size=200, coef0=0.0, degree=2, epsilon=0.05, gamma=2.6,\\n    kernel='rbf', max_iter=-1, shrinking=True, tol=0.001, verbose=False), 'n_estimators': 9}\",\n",
       "       \"{'base_estimator': SVR(C=3.5, cache_size=200, coef0=0.0, degree=2, epsilon=0.05, gamma=2.6,\\n    kernel='rbf', max_iter=-1, shrinking=True, tol=0.001, verbose=False), 'n_estimators': 20}\",\n",
       "       \"{'base_estimator': SVR(C=3.5, cache_size=200, coef0=0.0, degree=2, epsilon=0.05, gamma=2.6,\\n    kernel='rbf', max_iter=-1, shrinking=True, tol=0.001, verbose=False), 'n_estimators': 5}\",\n",
       "       \"{'base_estimator': SVR(C=3.5, cache_size=200, coef0=0.0, degree=2, epsilon=0.05, gamma=2.6,\\n    kernel='rbf', max_iter=-1, shrinking=True, tol=0.001, verbose=False), 'n_estimators': 3}\",\n",
       "       \"{'base_estimator': SVR(C=3.5, cache_size=200, coef0=0.0, degree=2, epsilon=0.05, gamma=2.6,\\n    kernel='rbf', max_iter=-1, shrinking=True, tol=0.001, verbose=False), 'n_estimators': 18}\",\n",
       "       \"{'base_estimator': SVR(C=3.5, cache_size=200, coef0=0.0, degree=2, epsilon=0.05, gamma=2.6,\\n    kernel='rbf', max_iter=-1, shrinking=True, tol=0.001, verbose=False), 'n_estimators': 10}\",\n",
       "       \"{'base_estimator': SVR(C=3.5, cache_size=200, coef0=0.0, degree=2, epsilon=0.05, gamma=2.6,\\n    kernel='rbf', max_iter=-1, shrinking=True, tol=0.001, verbose=False), 'n_estimators': 2}\",\n",
       "       \"{'base_estimator': SVR(C=3.5, cache_size=200, coef0=0.0, degree=2, epsilon=0.05, gamma=2.6,\\n    kernel='rbf', max_iter=-1, shrinking=True, tol=0.001, verbose=False), 'n_estimators': 14}\",\n",
       "       \"{'base_estimator': SVR(C=3.5, cache_size=200, coef0=0.0, degree=2, epsilon=0.05, gamma=2.6,\\n    kernel='rbf', max_iter=-1, shrinking=True, tol=0.001, verbose=False), 'n_estimators': 12}\",\n",
       "       \"{'base_estimator': SVR(C=3.5, cache_size=200, coef0=0.0, degree=2, epsilon=0.05, gamma=2.6,\\n    kernel='rbf', max_iter=-1, shrinking=True, tol=0.001, verbose=False), 'n_estimators': 21}\"],\n",
       "      dtype=object)"
      ]
     },
     "metadata": {},
     "execution_count": 35
    }
   ],
   "source": [
    "grid_search_df.sort_values('mean_test_mse', ascending=False)[\"params\"].head(20).values"
   ]
  },
  {
   "cell_type": "markdown",
   "metadata": {},
   "source": [
    "# Sumário"
   ]
  },
  {
   "cell_type": "code",
   "execution_count": 36,
   "metadata": {},
   "outputs": [
    {
     "output_type": "execute_result",
     "data": {
      "text/plain": [
       "           model                                             params  \\\n",
       "1      ada_boost  {'learning_rate': 0.8, 'loss': 'exponential', ...   \n",
       "0  random_forest          {'criterion': 'mse', 'n_estimators': 100}   \n",
       "2            svm  {'C': 3.5, 'degree': 2, 'epsilon': 0.05, 'gamm...   \n",
       "8      ensamble2  {'base_estimator': SVR(C=3.5, cache_size=200, ...   \n",
       "7            sgd  {'alpha': 0.01, 'epsilon': 0.3, 'l1_ratio': 0....   \n",
       "6          ridge                                     {'alpha': 0.5}   \n",
       "3            knn  {'metric': 'minkowski', 'n_neighbors': 3, 'p': 2}   \n",
       "5    elastic_net                      {'alpha': 0.1, 'l1_ratio': 0}   \n",
       "4          lasso                                    {'alpha': 0.01}   \n",
       "\n",
       "   mean_test_mse  std_test_mse  mean_test_mae  std_test_mae  mean_test_r2  \\\n",
       "1      -0.026015      0.039584      -0.106534      0.056230     -0.126892   \n",
       "0      -0.029086      0.025154      -0.126040      0.052371     -0.155343   \n",
       "2      -0.031031      0.021696      -0.141235      0.046304      0.102386   \n",
       "8      -0.032472      0.020446      -0.146937      0.043217      0.137116   \n",
       "7      -0.042651      0.026663      -0.175440      0.056532      0.795666   \n",
       "6      -0.048141      0.029448      -0.184605      0.053862      1.237025   \n",
       "3      -0.049406      0.028879      -0.177372      0.051566      1.150655   \n",
       "5      -0.060521      0.030378      -0.209901      0.057219      1.304727   \n",
       "4      -0.064352      0.032523      -0.215285      0.060637      1.396049   \n",
       "\n",
       "   std_test_r2  \n",
       "1     1.137302  \n",
       "0     0.902487  \n",
       "2     1.468320  \n",
       "8     1.567975  \n",
       "7     2.778233  \n",
       "6     4.023305  \n",
       "3     3.906651  \n",
       "5     3.474724  \n",
       "4     3.859585  "
      ],
      "text/html": "<div>\n<style scoped>\n    .dataframe tbody tr th:only-of-type {\n        vertical-align: middle;\n    }\n\n    .dataframe tbody tr th {\n        vertical-align: top;\n    }\n\n    .dataframe thead th {\n        text-align: right;\n    }\n</style>\n<table border=\"1\" class=\"dataframe\">\n  <thead>\n    <tr style=\"text-align: right;\">\n      <th></th>\n      <th>model</th>\n      <th>params</th>\n      <th>mean_test_mse</th>\n      <th>std_test_mse</th>\n      <th>mean_test_mae</th>\n      <th>std_test_mae</th>\n      <th>mean_test_r2</th>\n      <th>std_test_r2</th>\n    </tr>\n  </thead>\n  <tbody>\n    <tr>\n      <th>1</th>\n      <td>ada_boost</td>\n      <td>{'learning_rate': 0.8, 'loss': 'exponential', ...</td>\n      <td>-0.026015</td>\n      <td>0.039584</td>\n      <td>-0.106534</td>\n      <td>0.056230</td>\n      <td>-0.126892</td>\n      <td>1.137302</td>\n    </tr>\n    <tr>\n      <th>0</th>\n      <td>random_forest</td>\n      <td>{'criterion': 'mse', 'n_estimators': 100}</td>\n      <td>-0.029086</td>\n      <td>0.025154</td>\n      <td>-0.126040</td>\n      <td>0.052371</td>\n      <td>-0.155343</td>\n      <td>0.902487</td>\n    </tr>\n    <tr>\n      <th>2</th>\n      <td>svm</td>\n      <td>{'C': 3.5, 'degree': 2, 'epsilon': 0.05, 'gamm...</td>\n      <td>-0.031031</td>\n      <td>0.021696</td>\n      <td>-0.141235</td>\n      <td>0.046304</td>\n      <td>0.102386</td>\n      <td>1.468320</td>\n    </tr>\n    <tr>\n      <th>8</th>\n      <td>ensamble2</td>\n      <td>{'base_estimator': SVR(C=3.5, cache_size=200, ...</td>\n      <td>-0.032472</td>\n      <td>0.020446</td>\n      <td>-0.146937</td>\n      <td>0.043217</td>\n      <td>0.137116</td>\n      <td>1.567975</td>\n    </tr>\n    <tr>\n      <th>7</th>\n      <td>sgd</td>\n      <td>{'alpha': 0.01, 'epsilon': 0.3, 'l1_ratio': 0....</td>\n      <td>-0.042651</td>\n      <td>0.026663</td>\n      <td>-0.175440</td>\n      <td>0.056532</td>\n      <td>0.795666</td>\n      <td>2.778233</td>\n    </tr>\n    <tr>\n      <th>6</th>\n      <td>ridge</td>\n      <td>{'alpha': 0.5}</td>\n      <td>-0.048141</td>\n      <td>0.029448</td>\n      <td>-0.184605</td>\n      <td>0.053862</td>\n      <td>1.237025</td>\n      <td>4.023305</td>\n    </tr>\n    <tr>\n      <th>3</th>\n      <td>knn</td>\n      <td>{'metric': 'minkowski', 'n_neighbors': 3, 'p': 2}</td>\n      <td>-0.049406</td>\n      <td>0.028879</td>\n      <td>-0.177372</td>\n      <td>0.051566</td>\n      <td>1.150655</td>\n      <td>3.906651</td>\n    </tr>\n    <tr>\n      <th>5</th>\n      <td>elastic_net</td>\n      <td>{'alpha': 0.1, 'l1_ratio': 0}</td>\n      <td>-0.060521</td>\n      <td>0.030378</td>\n      <td>-0.209901</td>\n      <td>0.057219</td>\n      <td>1.304727</td>\n      <td>3.474724</td>\n    </tr>\n    <tr>\n      <th>4</th>\n      <td>lasso</td>\n      <td>{'alpha': 0.01}</td>\n      <td>-0.064352</td>\n      <td>0.032523</td>\n      <td>-0.215285</td>\n      <td>0.060637</td>\n      <td>1.396049</td>\n      <td>3.859585</td>\n    </tr>\n  </tbody>\n</table>\n</div>"
     },
     "metadata": {},
     "execution_count": 36
    }
   ],
   "source": [
    "summary_df.sort_values(by='mean_test_mse', ascending=False).head(20)"
   ]
  },
  {
   "cell_type": "code",
   "execution_count": null,
   "metadata": {},
   "outputs": [],
   "source": []
  }
 ],
 "metadata": {
  "language_info": {
   "name": "python",
   "codemirror_mode": {
    "name": "ipython",
    "version": 3
   },
   "version": "3.6.9-final"
  },
  "orig_nbformat": 2,
  "file_extension": ".py",
  "mimetype": "text/x-python",
  "name": "python",
  "npconvert_exporter": "python",
  "pygments_lexer": "ipython3",
  "version": 3,
  "kernelspec": {
   "name": "python36964bitbertvirtualenv054cbb15ab924922a35a349b12e89805",
   "display_name": "Python 3.6.9 64-bit ('bert': virtualenv)"
  }
 },
 "nbformat": 4,
 "nbformat_minor": 2
}