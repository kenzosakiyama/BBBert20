{
 "cells": [
  {
   "cell_type": "code",
   "execution_count": 1,
   "metadata": {},
   "outputs": [],
   "source": [
    "import pandas as pd"
   ]
  },
  {
   "cell_type": "code",
   "execution_count": 2,
   "metadata": {},
   "outputs": [],
   "source": [
    "summary_df = pd.DataFrame(columns=[\"model\", 'params', 'mean_test_mse', 'std_test_mse', 'mean_test_mae', 'std_test_mae', 'mean_test_r2', 'std_test_r2'])"
   ]
  },
  {
   "cell_type": "code",
   "execution_count": 3,
   "metadata": {},
   "outputs": [
    {
     "output_type": "execute_result",
     "data": {
      "text/plain": "Empty DataFrame\nColumns: [model, params, mean_test_mse, std_test_mse, mean_test_mae, std_test_mae, mean_test_r2, std_test_r2]\nIndex: []",
      "text/html": "<div>\n<style scoped>\n    .dataframe tbody tr th:only-of-type {\n        vertical-align: middle;\n    }\n\n    .dataframe tbody tr th {\n        vertical-align: top;\n    }\n\n    .dataframe thead th {\n        text-align: right;\n    }\n</style>\n<table border=\"1\" class=\"dataframe\">\n  <thead>\n    <tr style=\"text-align: right;\">\n      <th></th>\n      <th>model</th>\n      <th>params</th>\n      <th>mean_test_mse</th>\n      <th>std_test_mse</th>\n      <th>mean_test_mae</th>\n      <th>std_test_mae</th>\n      <th>mean_test_r2</th>\n      <th>std_test_r2</th>\n    </tr>\n  </thead>\n  <tbody>\n  </tbody>\n</table>\n</div>"
     },
     "metadata": {},
     "execution_count": 3
    }
   ],
   "source": [
    "summary_df"
   ]
  },
  {
   "cell_type": "markdown",
   "metadata": {},
   "source": [
    "# Random Forest Regressor"
   ]
  },
  {
   "cell_type": "code",
   "execution_count": 4,
   "metadata": {},
   "outputs": [],
   "source": [
    "PATH = 'random_forest_grid_search_results.csv'"
   ]
  },
  {
   "cell_type": "code",
   "execution_count": 5,
   "metadata": {},
   "outputs": [],
   "source": [
    "grid_search_df = pd.read_csv(PATH)"
   ]
  },
  {
   "cell_type": "code",
   "execution_count": 6,
   "metadata": {},
   "outputs": [],
   "source": [
    "grid_search_df[\"model\"] = \"random_forest\"\n",
    "grid_search_df = grid_search_df[[\"model\", 'params', 'mean_test_mse', 'std_test_mse', 'mean_test_mae', 'std_test_mae', 'mean_test_r2', 'std_test_r2']]\n",
    "summary_df = summary_df.append(grid_search_df, ignore_index=True)"
   ]
  },
  {
   "cell_type": "code",
   "execution_count": 7,
   "metadata": {},
   "outputs": [
    {
     "output_type": "execute_result",
     "data": {
      "text/plain": "            model                                       params  mean_test_mse  \\\n3   random_forest   {'criterion': 'mse', 'n_estimators': 1000}      -0.043447   \n5   random_forest   {'criterion': 'mse', 'n_estimators': 3000}      -0.043847   \n7   random_forest  {'criterion': 'mse', 'n_estimators': 10000}      -0.044024   \n6   random_forest   {'criterion': 'mse', 'n_estimators': 5000}      -0.044136   \n1   random_forest    {'criterion': 'mse', 'n_estimators': 200}      -0.044222   \n4   random_forest   {'criterion': 'mse', 'n_estimators': 2000}      -0.044253   \n2   random_forest    {'criterion': 'mse', 'n_estimators': 500}      -0.044552   \n0   random_forest    {'criterion': 'mse', 'n_estimators': 100}      -0.045636   \n14  random_forest   {'criterion': 'mae', 'n_estimators': 5000}      -0.045728   \n15  random_forest  {'criterion': 'mae', 'n_estimators': 10000}      -0.045746   \n9   random_forest    {'criterion': 'mae', 'n_estimators': 200}      -0.045793   \n13  random_forest   {'criterion': 'mae', 'n_estimators': 3000}      -0.046014   \n12  random_forest   {'criterion': 'mae', 'n_estimators': 2000}      -0.046295   \n11  random_forest   {'criterion': 'mae', 'n_estimators': 1000}      -0.046756   \n10  random_forest    {'criterion': 'mae', 'n_estimators': 500}      -0.046810   \n8   random_forest    {'criterion': 'mae', 'n_estimators': 100}      -0.047284   \n\n    std_test_mse  mean_test_mae  std_test_mae  mean_test_r2  std_test_r2  \n3       0.030540      -0.160209      0.058388     -0.128288     0.740380  \n5       0.030704      -0.161571      0.057658     -0.130290     0.717102  \n7       0.030761      -0.161505      0.058552     -0.122056     0.738455  \n6       0.030630      -0.161813      0.057753     -0.105629     0.775671  \n1       0.030350      -0.161675      0.058831     -0.123015     0.715798  \n4       0.031452      -0.162115      0.060241     -0.124372     0.732983  \n2       0.030491      -0.163925      0.056773     -0.104526     0.751802  \n0       0.035499      -0.162818      0.066867     -0.075925     0.815070  \n14      0.032966      -0.163424      0.064165     -0.085461     0.782299  \n15      0.032599      -0.163801      0.063286     -0.081158     0.789541  \n9       0.032429      -0.163362      0.063635     -0.094134     0.746394  \n13      0.032890      -0.164127      0.062975     -0.083986     0.772646  \n12      0.032609      -0.164591      0.062864     -0.077774     0.773675  \n11      0.034129      -0.165210      0.064925     -0.055431     0.830981  \n10      0.032708      -0.167205      0.063233     -0.070118     0.770280  \n8       0.034481      -0.163394      0.065269     -0.094889     0.709555  ",
      "text/html": "<div>\n<style scoped>\n    .dataframe tbody tr th:only-of-type {\n        vertical-align: middle;\n    }\n\n    .dataframe tbody tr th {\n        vertical-align: top;\n    }\n\n    .dataframe thead th {\n        text-align: right;\n    }\n</style>\n<table border=\"1\" class=\"dataframe\">\n  <thead>\n    <tr style=\"text-align: right;\">\n      <th></th>\n      <th>model</th>\n      <th>params</th>\n      <th>mean_test_mse</th>\n      <th>std_test_mse</th>\n      <th>mean_test_mae</th>\n      <th>std_test_mae</th>\n      <th>mean_test_r2</th>\n      <th>std_test_r2</th>\n    </tr>\n  </thead>\n  <tbody>\n    <tr>\n      <th>3</th>\n      <td>random_forest</td>\n      <td>{'criterion': 'mse', 'n_estimators': 1000}</td>\n      <td>-0.043447</td>\n      <td>0.030540</td>\n      <td>-0.160209</td>\n      <td>0.058388</td>\n      <td>-0.128288</td>\n      <td>0.740380</td>\n    </tr>\n    <tr>\n      <th>5</th>\n      <td>random_forest</td>\n      <td>{'criterion': 'mse', 'n_estimators': 3000}</td>\n      <td>-0.043847</td>\n      <td>0.030704</td>\n      <td>-0.161571</td>\n      <td>0.057658</td>\n      <td>-0.130290</td>\n      <td>0.717102</td>\n    </tr>\n    <tr>\n      <th>7</th>\n      <td>random_forest</td>\n      <td>{'criterion': 'mse', 'n_estimators': 10000}</td>\n      <td>-0.044024</td>\n      <td>0.030761</td>\n      <td>-0.161505</td>\n      <td>0.058552</td>\n      <td>-0.122056</td>\n      <td>0.738455</td>\n    </tr>\n    <tr>\n      <th>6</th>\n      <td>random_forest</td>\n      <td>{'criterion': 'mse', 'n_estimators': 5000}</td>\n      <td>-0.044136</td>\n      <td>0.030630</td>\n      <td>-0.161813</td>\n      <td>0.057753</td>\n      <td>-0.105629</td>\n      <td>0.775671</td>\n    </tr>\n    <tr>\n      <th>1</th>\n      <td>random_forest</td>\n      <td>{'criterion': 'mse', 'n_estimators': 200}</td>\n      <td>-0.044222</td>\n      <td>0.030350</td>\n      <td>-0.161675</td>\n      <td>0.058831</td>\n      <td>-0.123015</td>\n      <td>0.715798</td>\n    </tr>\n    <tr>\n      <th>4</th>\n      <td>random_forest</td>\n      <td>{'criterion': 'mse', 'n_estimators': 2000}</td>\n      <td>-0.044253</td>\n      <td>0.031452</td>\n      <td>-0.162115</td>\n      <td>0.060241</td>\n      <td>-0.124372</td>\n      <td>0.732983</td>\n    </tr>\n    <tr>\n      <th>2</th>\n      <td>random_forest</td>\n      <td>{'criterion': 'mse', 'n_estimators': 500}</td>\n      <td>-0.044552</td>\n      <td>0.030491</td>\n      <td>-0.163925</td>\n      <td>0.056773</td>\n      <td>-0.104526</td>\n      <td>0.751802</td>\n    </tr>\n    <tr>\n      <th>0</th>\n      <td>random_forest</td>\n      <td>{'criterion': 'mse', 'n_estimators': 100}</td>\n      <td>-0.045636</td>\n      <td>0.035499</td>\n      <td>-0.162818</td>\n      <td>0.066867</td>\n      <td>-0.075925</td>\n      <td>0.815070</td>\n    </tr>\n    <tr>\n      <th>14</th>\n      <td>random_forest</td>\n      <td>{'criterion': 'mae', 'n_estimators': 5000}</td>\n      <td>-0.045728</td>\n      <td>0.032966</td>\n      <td>-0.163424</td>\n      <td>0.064165</td>\n      <td>-0.085461</td>\n      <td>0.782299</td>\n    </tr>\n    <tr>\n      <th>15</th>\n      <td>random_forest</td>\n      <td>{'criterion': 'mae', 'n_estimators': 10000}</td>\n      <td>-0.045746</td>\n      <td>0.032599</td>\n      <td>-0.163801</td>\n      <td>0.063286</td>\n      <td>-0.081158</td>\n      <td>0.789541</td>\n    </tr>\n    <tr>\n      <th>9</th>\n      <td>random_forest</td>\n      <td>{'criterion': 'mae', 'n_estimators': 200}</td>\n      <td>-0.045793</td>\n      <td>0.032429</td>\n      <td>-0.163362</td>\n      <td>0.063635</td>\n      <td>-0.094134</td>\n      <td>0.746394</td>\n    </tr>\n    <tr>\n      <th>13</th>\n      <td>random_forest</td>\n      <td>{'criterion': 'mae', 'n_estimators': 3000}</td>\n      <td>-0.046014</td>\n      <td>0.032890</td>\n      <td>-0.164127</td>\n      <td>0.062975</td>\n      <td>-0.083986</td>\n      <td>0.772646</td>\n    </tr>\n    <tr>\n      <th>12</th>\n      <td>random_forest</td>\n      <td>{'criterion': 'mae', 'n_estimators': 2000}</td>\n      <td>-0.046295</td>\n      <td>0.032609</td>\n      <td>-0.164591</td>\n      <td>0.062864</td>\n      <td>-0.077774</td>\n      <td>0.773675</td>\n    </tr>\n    <tr>\n      <th>11</th>\n      <td>random_forest</td>\n      <td>{'criterion': 'mae', 'n_estimators': 1000}</td>\n      <td>-0.046756</td>\n      <td>0.034129</td>\n      <td>-0.165210</td>\n      <td>0.064925</td>\n      <td>-0.055431</td>\n      <td>0.830981</td>\n    </tr>\n    <tr>\n      <th>10</th>\n      <td>random_forest</td>\n      <td>{'criterion': 'mae', 'n_estimators': 500}</td>\n      <td>-0.046810</td>\n      <td>0.032708</td>\n      <td>-0.167205</td>\n      <td>0.063233</td>\n      <td>-0.070118</td>\n      <td>0.770280</td>\n    </tr>\n    <tr>\n      <th>8</th>\n      <td>random_forest</td>\n      <td>{'criterion': 'mae', 'n_estimators': 100}</td>\n      <td>-0.047284</td>\n      <td>0.034481</td>\n      <td>-0.163394</td>\n      <td>0.065269</td>\n      <td>-0.094889</td>\n      <td>0.709555</td>\n    </tr>\n  </tbody>\n</table>\n</div>"
     },
     "metadata": {},
     "execution_count": 7
    }
   ],
   "source": [
    "grid_search_df.sort_values('mean_test_mse', ascending=False)"
   ]
  },
  {
   "cell_type": "markdown",
   "metadata": {},
   "source": [
    "# Ada Boost Regressor"
   ]
  },
  {
   "cell_type": "code",
   "execution_count": 8,
   "metadata": {},
   "outputs": [],
   "source": [
    "PATH = 'ada_boost_grid_search_results.csv'\n",
    ""
   ]
  },
  {
   "cell_type": "code",
   "execution_count": 9,
   "metadata": {},
   "outputs": [],
   "source": [
    "grid_search_df = pd.read_csv(PATH)\n",
    "grid_search_df[\"model\"] = \"ada_boost\"\n",
    "grid_search_df = grid_search_df[[\"model\", 'params', 'mean_test_mse', 'std_test_mse', 'mean_test_mae', 'std_test_mae', 'mean_test_r2', 'std_test_r2']]\n",
    "summary_df = summary_df.append(grid_search_df, ignore_index=True)"
   ]
  },
  {
   "cell_type": "code",
   "execution_count": 10,
   "metadata": {},
   "outputs": [
    {
     "output_type": "execute_result",
     "data": {
      "text/plain": "         model                                             params  \\\n241  ada_boost  {'learning_rate': 0.55, 'loss': 'linear', 'n_e...   \n337  ada_boost  {'learning_rate': 0.75, 'loss': 'linear', 'n_e...   \n81   ada_boost  {'learning_rate': 0.2, 'loss': 'square', 'n_es...   \n267  ada_boost  {'learning_rate': 0.6, 'loss': 'linear', 'n_es...   \n249  ada_boost  {'learning_rate': 0.55, 'loss': 'square', 'n_e...   \n..         ...                                                ...   \n232  ada_boost  {'learning_rate': 0.5, 'loss': 'exponential', ...   \n369  ada_boost  {'learning_rate': 0.8, 'loss': 'square', 'n_es...   \n440  ada_boost  {'learning_rate': 0.95, 'loss': 'square', 'n_e...   \n465  ada_boost  {'learning_rate': 1.0, 'loss': 'square', 'n_es...   \n424  ada_boost  {'learning_rate': 0.9, 'loss': 'exponential', ...   \n\n     mean_test_mse  std_test_mse  mean_test_mae  std_test_mae  mean_test_r2  \\\n241      -0.040221      0.040276      -0.132834      0.064789     -0.248344   \n337      -0.040631      0.040772      -0.131613      0.067970     -0.245232   \n81       -0.040658      0.042115      -0.128008      0.073262     -0.207813   \n267      -0.041435      0.041046      -0.132539      0.068587     -0.227097   \n249      -0.041552      0.042478      -0.131802      0.072362     -0.239637   \n..             ...           ...            ...           ...           ...   \n232      -0.049023      0.044443      -0.150126      0.077933     -0.129541   \n369      -0.049407      0.039921      -0.154899      0.063258     -0.087783   \n440      -0.049670      0.041143      -0.152907      0.065646     -0.106628   \n465      -0.050737      0.041725      -0.157408      0.070410     -0.058466   \n424      -0.051078      0.040663      -0.157149      0.067104      0.058072   \n\n     std_test_r2  \n241     0.673110  \n337     0.679458  \n81      0.766500  \n267     0.696358  \n249     0.708710  \n..           ...  \n232     0.731136  \n369     0.668030  \n440     0.657237  \n465     0.698389  \n424     0.946478  \n\n[480 rows x 8 columns]",
      "text/html": "<div>\n<style scoped>\n    .dataframe tbody tr th:only-of-type {\n        vertical-align: middle;\n    }\n\n    .dataframe tbody tr th {\n        vertical-align: top;\n    }\n\n    .dataframe thead th {\n        text-align: right;\n    }\n</style>\n<table border=\"1\" class=\"dataframe\">\n  <thead>\n    <tr style=\"text-align: right;\">\n      <th></th>\n      <th>model</th>\n      <th>params</th>\n      <th>mean_test_mse</th>\n      <th>std_test_mse</th>\n      <th>mean_test_mae</th>\n      <th>std_test_mae</th>\n      <th>mean_test_r2</th>\n      <th>std_test_r2</th>\n    </tr>\n  </thead>\n  <tbody>\n    <tr>\n      <th>241</th>\n      <td>ada_boost</td>\n      <td>{'learning_rate': 0.55, 'loss': 'linear', 'n_e...</td>\n      <td>-0.040221</td>\n      <td>0.040276</td>\n      <td>-0.132834</td>\n      <td>0.064789</td>\n      <td>-0.248344</td>\n      <td>0.673110</td>\n    </tr>\n    <tr>\n      <th>337</th>\n      <td>ada_boost</td>\n      <td>{'learning_rate': 0.75, 'loss': 'linear', 'n_e...</td>\n      <td>-0.040631</td>\n      <td>0.040772</td>\n      <td>-0.131613</td>\n      <td>0.067970</td>\n      <td>-0.245232</td>\n      <td>0.679458</td>\n    </tr>\n    <tr>\n      <th>81</th>\n      <td>ada_boost</td>\n      <td>{'learning_rate': 0.2, 'loss': 'square', 'n_es...</td>\n      <td>-0.040658</td>\n      <td>0.042115</td>\n      <td>-0.128008</td>\n      <td>0.073262</td>\n      <td>-0.207813</td>\n      <td>0.766500</td>\n    </tr>\n    <tr>\n      <th>267</th>\n      <td>ada_boost</td>\n      <td>{'learning_rate': 0.6, 'loss': 'linear', 'n_es...</td>\n      <td>-0.041435</td>\n      <td>0.041046</td>\n      <td>-0.132539</td>\n      <td>0.068587</td>\n      <td>-0.227097</td>\n      <td>0.696358</td>\n    </tr>\n    <tr>\n      <th>249</th>\n      <td>ada_boost</td>\n      <td>{'learning_rate': 0.55, 'loss': 'square', 'n_e...</td>\n      <td>-0.041552</td>\n      <td>0.042478</td>\n      <td>-0.131802</td>\n      <td>0.072362</td>\n      <td>-0.239637</td>\n      <td>0.708710</td>\n    </tr>\n    <tr>\n      <th>...</th>\n      <td>...</td>\n      <td>...</td>\n      <td>...</td>\n      <td>...</td>\n      <td>...</td>\n      <td>...</td>\n      <td>...</td>\n      <td>...</td>\n    </tr>\n    <tr>\n      <th>232</th>\n      <td>ada_boost</td>\n      <td>{'learning_rate': 0.5, 'loss': 'exponential', ...</td>\n      <td>-0.049023</td>\n      <td>0.044443</td>\n      <td>-0.150126</td>\n      <td>0.077933</td>\n      <td>-0.129541</td>\n      <td>0.731136</td>\n    </tr>\n    <tr>\n      <th>369</th>\n      <td>ada_boost</td>\n      <td>{'learning_rate': 0.8, 'loss': 'square', 'n_es...</td>\n      <td>-0.049407</td>\n      <td>0.039921</td>\n      <td>-0.154899</td>\n      <td>0.063258</td>\n      <td>-0.087783</td>\n      <td>0.668030</td>\n    </tr>\n    <tr>\n      <th>440</th>\n      <td>ada_boost</td>\n      <td>{'learning_rate': 0.95, 'loss': 'square', 'n_e...</td>\n      <td>-0.049670</td>\n      <td>0.041143</td>\n      <td>-0.152907</td>\n      <td>0.065646</td>\n      <td>-0.106628</td>\n      <td>0.657237</td>\n    </tr>\n    <tr>\n      <th>465</th>\n      <td>ada_boost</td>\n      <td>{'learning_rate': 1.0, 'loss': 'square', 'n_es...</td>\n      <td>-0.050737</td>\n      <td>0.041725</td>\n      <td>-0.157408</td>\n      <td>0.070410</td>\n      <td>-0.058466</td>\n      <td>0.698389</td>\n    </tr>\n    <tr>\n      <th>424</th>\n      <td>ada_boost</td>\n      <td>{'learning_rate': 0.9, 'loss': 'exponential', ...</td>\n      <td>-0.051078</td>\n      <td>0.040663</td>\n      <td>-0.157149</td>\n      <td>0.067104</td>\n      <td>0.058072</td>\n      <td>0.946478</td>\n    </tr>\n  </tbody>\n</table>\n<p>480 rows × 8 columns</p>\n</div>"
     },
     "metadata": {},
     "execution_count": 10
    }
   ],
   "source": [
    "grid_search_df.sort_values('mean_test_mse', ascending=False)"
   ]
  },
  {
   "cell_type": "code",
   "execution_count": 11,
   "metadata": {},
   "outputs": [
    {
     "output_type": "execute_result",
     "data": {
      "text/plain": "array([\"{'learning_rate': 0.55, 'loss': 'linear', 'n_estimators': 200}\",\n       \"{'learning_rate': 0.75, 'loss': 'linear', 'n_estimators': 200}\",\n       \"{'learning_rate': 0.2, 'loss': 'square', 'n_estimators': 200}\",\n       \"{'learning_rate': 0.6, 'loss': 'linear', 'n_estimators': 1000}\",\n       \"{'learning_rate': 0.55, 'loss': 'square', 'n_estimators': 200}\",\n       \"{'learning_rate': 0.6, 'loss': 'square', 'n_estimators': 500}\",\n       \"{'learning_rate': 0.05, 'loss': 'linear', 'n_estimators': 200}\",\n       \"{'learning_rate': 0.55, 'loss': 'linear', 'n_estimators': 3000}\",\n       \"{'learning_rate': 0.2, 'loss': 'exponential', 'n_estimators': 100}\",\n       \"{'learning_rate': 0.3, 'loss': 'linear', 'n_estimators': 500}\",\n       \"{'learning_rate': 0.05, 'loss': 'linear', 'n_estimators': 500}\",\n       \"{'learning_rate': 0.9, 'loss': 'linear', 'n_estimators': 100}\",\n       \"{'learning_rate': 0.5, 'loss': 'linear', 'n_estimators': 1000}\",\n       \"{'learning_rate': 0.2, 'loss': 'square', 'n_estimators': 100}\",\n       \"{'learning_rate': 0.65, 'loss': 'linear', 'n_estimators': 2000}\",\n       \"{'learning_rate': 0.55, 'loss': 'linear', 'n_estimators': 5000}\",\n       \"{'learning_rate': 0.7, 'loss': 'linear', 'n_estimators': 2000}\",\n       \"{'learning_rate': 0.45, 'loss': 'linear', 'n_estimators': 5000}\",\n       \"{'learning_rate': 0.5, 'loss': 'linear', 'n_estimators': 5000}\",\n       \"{'learning_rate': 0.65, 'loss': 'linear', 'n_estimators': 1000}\"],\n      dtype=object)"
     },
     "metadata": {},
     "execution_count": 11
    }
   ],
   "source": [
    "grid_search_df.sort_values('mean_test_mse', ascending=False).head(20).params.values"
   ]
  },
  {
   "cell_type": "markdown",
   "metadata": {},
   "source": [
    "# SVM Regressor"
   ]
  },
  {
   "cell_type": "code",
   "execution_count": 12,
   "metadata": {},
   "outputs": [],
   "source": [
    "PATH = 'svm_grid_search_results.csv'\n",
    ""
   ]
  },
  {
   "cell_type": "code",
   "execution_count": 13,
   "metadata": {},
   "outputs": [],
   "source": [
    "grid_search_df = pd.read_csv(PATH)\n",
    "grid_search_df[\"model\"] = \"svm\"\n",
    "grid_search_df = grid_search_df[[\"model\", 'params', 'mean_test_mse', 'std_test_mse', 'mean_test_mae', 'std_test_mae', 'mean_test_r2', 'std_test_r2']]\n",
    "summary_df = summary_df.append(grid_search_df, ignore_index=True)"
   ]
  },
  {
   "cell_type": "code",
   "execution_count": 14,
   "metadata": {},
   "outputs": [
    {
     "output_type": "execute_result",
     "data": {
      "text/plain": "     model                                             params  mean_test_mse  \\\n2099   svm  {'C': 0.55, 'degree': 4, 'epsilon': 0.65, 'ker...      -0.505944   \n1971   svm  {'C': 0.55, 'degree': 2, 'epsilon': 0.65, 'ker...      -0.505944   \n2035   svm  {'C': 0.55, 'degree': 3, 'epsilon': 0.65, 'ker...      -0.505944   \n2291   svm  {'C': 0.55, 'degree': 7, 'epsilon': 0.65, 'ker...      -0.505944   \n2163   svm  {'C': 0.55, 'degree': 5, 'epsilon': 0.65, 'ker...      -0.505944   \n2227   svm  {'C': 0.55, 'degree': 6, 'epsilon': 0.65, 'ker...      -0.505944   \n4351   svm  {'C': 0.85, 'degree': 3, 'epsilon': 0.8, 'kern...      -0.513146   \n4415   svm  {'C': 0.85, 'degree': 4, 'epsilon': 0.8, 'kern...      -0.513146   \n4287   svm  {'C': 0.85, 'degree': 2, 'epsilon': 0.8, 'kern...      -0.513146   \n4543   svm  {'C': 0.85, 'degree': 6, 'epsilon': 0.8, 'kern...      -0.513146   \n4479   svm  {'C': 0.85, 'degree': 5, 'epsilon': 0.8, 'kern...      -0.513146   \n4607   svm  {'C': 0.85, 'degree': 7, 'epsilon': 0.8, 'kern...      -0.513146   \n2483   svm  {'C': 0.6, 'degree': 4, 'epsilon': 0.65, 'kern...      -0.514080   \n2419   svm  {'C': 0.6, 'degree': 3, 'epsilon': 0.65, 'kern...      -0.514080   \n2355   svm  {'C': 0.6, 'degree': 2, 'epsilon': 0.65, 'kern...      -0.514080   \n2675   svm  {'C': 0.6, 'degree': 7, 'epsilon': 0.65, 'kern...      -0.514080   \n2547   svm  {'C': 0.6, 'degree': 5, 'epsilon': 0.65, 'kern...      -0.514080   \n2611   svm  {'C': 0.6, 'degree': 6, 'epsilon': 0.65, 'kern...      -0.514080   \n3503   svm  {'C': 0.75, 'degree': 2, 'epsilon': 0.6, 'kern...      -0.514333   \n3631   svm  {'C': 0.75, 'degree': 4, 'epsilon': 0.6, 'kern...      -0.514333   \n\n      std_test_mse  mean_test_mae  std_test_mae  mean_test_r2  std_test_r2  \n2099      0.285385      -0.604171      0.145708     -0.198622     0.583191  \n1971      0.285385      -0.604171      0.145708     -0.198622     0.583191  \n2035      0.285385      -0.604171      0.145708     -0.198622     0.583191  \n2291      0.285385      -0.604171      0.145708     -0.198622     0.583191  \n2163      0.285385      -0.604171      0.145708     -0.198622     0.583191  \n2227      0.285385      -0.604171      0.145708     -0.198622     0.583191  \n4351      0.284281      -0.605537      0.135368     -0.195492     0.586469  \n4415      0.284281      -0.605537      0.135368     -0.195492     0.586469  \n4287      0.284281      -0.605537      0.135368     -0.195492     0.586469  \n4543      0.284281      -0.605537      0.135368     -0.195492     0.586469  \n4479      0.284281      -0.605537      0.135368     -0.195492     0.586469  \n4607      0.284281      -0.605537      0.135368     -0.195492     0.586469  \n2483      0.300402      -0.615795      0.158068     -0.192253     0.582057  \n2419      0.300402      -0.615795      0.158068     -0.192253     0.582057  \n2355      0.300402      -0.615795      0.158068     -0.192253     0.582057  \n2675      0.300402      -0.615795      0.158068     -0.192253     0.582057  \n2547      0.300402      -0.615795      0.158068     -0.192253     0.582057  \n2611      0.300402      -0.615795      0.158068     -0.192253     0.582057  \n3503      0.285347      -0.600399      0.135740     -0.154617     0.665770  \n3631      0.285347      -0.600399      0.135740     -0.154617     0.665770  ",
      "text/html": "<div>\n<style scoped>\n    .dataframe tbody tr th:only-of-type {\n        vertical-align: middle;\n    }\n\n    .dataframe tbody tr th {\n        vertical-align: top;\n    }\n\n    .dataframe thead th {\n        text-align: right;\n    }\n</style>\n<table border=\"1\" class=\"dataframe\">\n  <thead>\n    <tr style=\"text-align: right;\">\n      <th></th>\n      <th>model</th>\n      <th>params</th>\n      <th>mean_test_mse</th>\n      <th>std_test_mse</th>\n      <th>mean_test_mae</th>\n      <th>std_test_mae</th>\n      <th>mean_test_r2</th>\n      <th>std_test_r2</th>\n    </tr>\n  </thead>\n  <tbody>\n    <tr>\n      <th>2099</th>\n      <td>svm</td>\n      <td>{'C': 0.55, 'degree': 4, 'epsilon': 0.65, 'ker...</td>\n      <td>-0.505944</td>\n      <td>0.285385</td>\n      <td>-0.604171</td>\n      <td>0.145708</td>\n      <td>-0.198622</td>\n      <td>0.583191</td>\n    </tr>\n    <tr>\n      <th>1971</th>\n      <td>svm</td>\n      <td>{'C': 0.55, 'degree': 2, 'epsilon': 0.65, 'ker...</td>\n      <td>-0.505944</td>\n      <td>0.285385</td>\n      <td>-0.604171</td>\n      <td>0.145708</td>\n      <td>-0.198622</td>\n      <td>0.583191</td>\n    </tr>\n    <tr>\n      <th>2035</th>\n      <td>svm</td>\n      <td>{'C': 0.55, 'degree': 3, 'epsilon': 0.65, 'ker...</td>\n      <td>-0.505944</td>\n      <td>0.285385</td>\n      <td>-0.604171</td>\n      <td>0.145708</td>\n      <td>-0.198622</td>\n      <td>0.583191</td>\n    </tr>\n    <tr>\n      <th>2291</th>\n      <td>svm</td>\n      <td>{'C': 0.55, 'degree': 7, 'epsilon': 0.65, 'ker...</td>\n      <td>-0.505944</td>\n      <td>0.285385</td>\n      <td>-0.604171</td>\n      <td>0.145708</td>\n      <td>-0.198622</td>\n      <td>0.583191</td>\n    </tr>\n    <tr>\n      <th>2163</th>\n      <td>svm</td>\n      <td>{'C': 0.55, 'degree': 5, 'epsilon': 0.65, 'ker...</td>\n      <td>-0.505944</td>\n      <td>0.285385</td>\n      <td>-0.604171</td>\n      <td>0.145708</td>\n      <td>-0.198622</td>\n      <td>0.583191</td>\n    </tr>\n    <tr>\n      <th>2227</th>\n      <td>svm</td>\n      <td>{'C': 0.55, 'degree': 6, 'epsilon': 0.65, 'ker...</td>\n      <td>-0.505944</td>\n      <td>0.285385</td>\n      <td>-0.604171</td>\n      <td>0.145708</td>\n      <td>-0.198622</td>\n      <td>0.583191</td>\n    </tr>\n    <tr>\n      <th>4351</th>\n      <td>svm</td>\n      <td>{'C': 0.85, 'degree': 3, 'epsilon': 0.8, 'kern...</td>\n      <td>-0.513146</td>\n      <td>0.284281</td>\n      <td>-0.605537</td>\n      <td>0.135368</td>\n      <td>-0.195492</td>\n      <td>0.586469</td>\n    </tr>\n    <tr>\n      <th>4415</th>\n      <td>svm</td>\n      <td>{'C': 0.85, 'degree': 4, 'epsilon': 0.8, 'kern...</td>\n      <td>-0.513146</td>\n      <td>0.284281</td>\n      <td>-0.605537</td>\n      <td>0.135368</td>\n      <td>-0.195492</td>\n      <td>0.586469</td>\n    </tr>\n    <tr>\n      <th>4287</th>\n      <td>svm</td>\n      <td>{'C': 0.85, 'degree': 2, 'epsilon': 0.8, 'kern...</td>\n      <td>-0.513146</td>\n      <td>0.284281</td>\n      <td>-0.605537</td>\n      <td>0.135368</td>\n      <td>-0.195492</td>\n      <td>0.586469</td>\n    </tr>\n    <tr>\n      <th>4543</th>\n      <td>svm</td>\n      <td>{'C': 0.85, 'degree': 6, 'epsilon': 0.8, 'kern...</td>\n      <td>-0.513146</td>\n      <td>0.284281</td>\n      <td>-0.605537</td>\n      <td>0.135368</td>\n      <td>-0.195492</td>\n      <td>0.586469</td>\n    </tr>\n    <tr>\n      <th>4479</th>\n      <td>svm</td>\n      <td>{'C': 0.85, 'degree': 5, 'epsilon': 0.8, 'kern...</td>\n      <td>-0.513146</td>\n      <td>0.284281</td>\n      <td>-0.605537</td>\n      <td>0.135368</td>\n      <td>-0.195492</td>\n      <td>0.586469</td>\n    </tr>\n    <tr>\n      <th>4607</th>\n      <td>svm</td>\n      <td>{'C': 0.85, 'degree': 7, 'epsilon': 0.8, 'kern...</td>\n      <td>-0.513146</td>\n      <td>0.284281</td>\n      <td>-0.605537</td>\n      <td>0.135368</td>\n      <td>-0.195492</td>\n      <td>0.586469</td>\n    </tr>\n    <tr>\n      <th>2483</th>\n      <td>svm</td>\n      <td>{'C': 0.6, 'degree': 4, 'epsilon': 0.65, 'kern...</td>\n      <td>-0.514080</td>\n      <td>0.300402</td>\n      <td>-0.615795</td>\n      <td>0.158068</td>\n      <td>-0.192253</td>\n      <td>0.582057</td>\n    </tr>\n    <tr>\n      <th>2419</th>\n      <td>svm</td>\n      <td>{'C': 0.6, 'degree': 3, 'epsilon': 0.65, 'kern...</td>\n      <td>-0.514080</td>\n      <td>0.300402</td>\n      <td>-0.615795</td>\n      <td>0.158068</td>\n      <td>-0.192253</td>\n      <td>0.582057</td>\n    </tr>\n    <tr>\n      <th>2355</th>\n      <td>svm</td>\n      <td>{'C': 0.6, 'degree': 2, 'epsilon': 0.65, 'kern...</td>\n      <td>-0.514080</td>\n      <td>0.300402</td>\n      <td>-0.615795</td>\n      <td>0.158068</td>\n      <td>-0.192253</td>\n      <td>0.582057</td>\n    </tr>\n    <tr>\n      <th>2675</th>\n      <td>svm</td>\n      <td>{'C': 0.6, 'degree': 7, 'epsilon': 0.65, 'kern...</td>\n      <td>-0.514080</td>\n      <td>0.300402</td>\n      <td>-0.615795</td>\n      <td>0.158068</td>\n      <td>-0.192253</td>\n      <td>0.582057</td>\n    </tr>\n    <tr>\n      <th>2547</th>\n      <td>svm</td>\n      <td>{'C': 0.6, 'degree': 5, 'epsilon': 0.65, 'kern...</td>\n      <td>-0.514080</td>\n      <td>0.300402</td>\n      <td>-0.615795</td>\n      <td>0.158068</td>\n      <td>-0.192253</td>\n      <td>0.582057</td>\n    </tr>\n    <tr>\n      <th>2611</th>\n      <td>svm</td>\n      <td>{'C': 0.6, 'degree': 6, 'epsilon': 0.65, 'kern...</td>\n      <td>-0.514080</td>\n      <td>0.300402</td>\n      <td>-0.615795</td>\n      <td>0.158068</td>\n      <td>-0.192253</td>\n      <td>0.582057</td>\n    </tr>\n    <tr>\n      <th>3503</th>\n      <td>svm</td>\n      <td>{'C': 0.75, 'degree': 2, 'epsilon': 0.6, 'kern...</td>\n      <td>-0.514333</td>\n      <td>0.285347</td>\n      <td>-0.600399</td>\n      <td>0.135740</td>\n      <td>-0.154617</td>\n      <td>0.665770</td>\n    </tr>\n    <tr>\n      <th>3631</th>\n      <td>svm</td>\n      <td>{'C': 0.75, 'degree': 4, 'epsilon': 0.6, 'kern...</td>\n      <td>-0.514333</td>\n      <td>0.285347</td>\n      <td>-0.600399</td>\n      <td>0.135740</td>\n      <td>-0.154617</td>\n      <td>0.665770</td>\n    </tr>\n  </tbody>\n</table>\n</div>"
     },
     "metadata": {},
     "execution_count": 14
    }
   ],
   "source": [
    "grid_search_df.sort_values('mean_test_mse', ascending=False).head(20)"
   ]
  },
  {
   "cell_type": "code",
   "execution_count": 15,
   "metadata": {},
   "outputs": [
    {
     "output_type": "execute_result",
     "data": {
      "text/plain": "array([\"{'C': 0.55, 'degree': 4, 'epsilon': 0.65, 'kernel': 'sigmoid'}\",\n       \"{'C': 0.55, 'degree': 2, 'epsilon': 0.65, 'kernel': 'sigmoid'}\",\n       \"{'C': 0.55, 'degree': 3, 'epsilon': 0.65, 'kernel': 'sigmoid'}\",\n       \"{'C': 0.55, 'degree': 7, 'epsilon': 0.65, 'kernel': 'sigmoid'}\",\n       \"{'C': 0.55, 'degree': 5, 'epsilon': 0.65, 'kernel': 'sigmoid'}\",\n       \"{'C': 0.55, 'degree': 6, 'epsilon': 0.65, 'kernel': 'sigmoid'}\",\n       \"{'C': 0.85, 'degree': 3, 'epsilon': 0.8, 'kernel': 'sigmoid'}\",\n       \"{'C': 0.85, 'degree': 4, 'epsilon': 0.8, 'kernel': 'sigmoid'}\",\n       \"{'C': 0.85, 'degree': 2, 'epsilon': 0.8, 'kernel': 'sigmoid'}\",\n       \"{'C': 0.85, 'degree': 6, 'epsilon': 0.8, 'kernel': 'sigmoid'}\",\n       \"{'C': 0.85, 'degree': 5, 'epsilon': 0.8, 'kernel': 'sigmoid'}\",\n       \"{'C': 0.85, 'degree': 7, 'epsilon': 0.8, 'kernel': 'sigmoid'}\",\n       \"{'C': 0.6, 'degree': 4, 'epsilon': 0.65, 'kernel': 'sigmoid'}\",\n       \"{'C': 0.6, 'degree': 3, 'epsilon': 0.65, 'kernel': 'sigmoid'}\",\n       \"{'C': 0.6, 'degree': 2, 'epsilon': 0.65, 'kernel': 'sigmoid'}\",\n       \"{'C': 0.6, 'degree': 7, 'epsilon': 0.65, 'kernel': 'sigmoid'}\",\n       \"{'C': 0.6, 'degree': 5, 'epsilon': 0.65, 'kernel': 'sigmoid'}\",\n       \"{'C': 0.6, 'degree': 6, 'epsilon': 0.65, 'kernel': 'sigmoid'}\",\n       \"{'C': 0.75, 'degree': 2, 'epsilon': 0.6, 'kernel': 'sigmoid'}\",\n       \"{'C': 0.75, 'degree': 4, 'epsilon': 0.6, 'kernel': 'sigmoid'}\"],\n      dtype=object)"
     },
     "metadata": {},
     "execution_count": 15
    }
   ],
   "source": [
    "grid_search_df.sort_values('mean_test_mse', ascending=False)[\"params\"].head(20).values\n"
   ]
  },
  {
   "cell_type": "markdown",
   "metadata": {},
   "source": [
    "# KNN Regressor"
   ]
  },
  {
   "cell_type": "code",
   "execution_count": 16,
   "metadata": {},
   "outputs": [],
   "source": [
    "PATH = 'knn_grid_search_results.csv'\n"
   ]
  },
  {
   "cell_type": "code",
   "execution_count": 17,
   "metadata": {},
   "outputs": [],
   "source": [
    "grid_search_df = pd.read_csv(PATH)\n",
    "grid_search_df[\"model\"] = \"knn\"\n",
    "grid_search_df = grid_search_df[[\"model\", 'params', 'mean_test_mse', 'std_test_mse', 'mean_test_mae', 'std_test_mae', 'mean_test_r2', 'std_test_r2']]\n",
    "summary_df = summary_df.append(grid_search_df, ignore_index=True)"
   ]
  },
  {
   "cell_type": "code",
   "execution_count": 18,
   "metadata": {},
   "outputs": [
    {
     "output_type": "execute_result",
     "data": {
      "text/plain": "   model                                             params  mean_test_mse  \\\n2    knn  {'metric': 'minkowski', 'n_neighbors': 3, 'p': 1}      -0.592342   \n4    knn  {'metric': 'minkowski', 'n_neighbors': 5, 'p': 1}      -0.623660   \n3    knn  {'metric': 'minkowski', 'n_neighbors': 3, 'p': 2}      -0.682889   \n10   knn  {'metric': 'minkowski', 'n_neighbors': 11, 'p'...      -0.689741   \n8    knn  {'metric': 'minkowski', 'n_neighbors': 9, 'p': 1}      -0.702868   \n15   knn  {'metric': 'chebyshev', 'n_neighbors': 3, 'p': 2}      -0.704345   \n14   knn  {'metric': 'chebyshev', 'n_neighbors': 3, 'p': 1}      -0.704345   \n9    knn  {'metric': 'minkowski', 'n_neighbors': 9, 'p': 2}      -0.704846   \n7    knn  {'metric': 'minkowski', 'n_neighbors': 7, 'p': 2}      -0.706468   \n18   knn  {'metric': 'chebyshev', 'n_neighbors': 7, 'p': 1}      -0.707087   \n19   knn  {'metric': 'chebyshev', 'n_neighbors': 7, 'p': 2}      -0.707087   \n6    knn  {'metric': 'minkowski', 'n_neighbors': 7, 'p': 1}      -0.717269   \n5    knn  {'metric': 'minkowski', 'n_neighbors': 5, 'p': 2}      -0.720952   \n16   knn  {'metric': 'chebyshev', 'n_neighbors': 5, 'p': 1}      -0.755120   \n17   knn  {'metric': 'chebyshev', 'n_neighbors': 5, 'p': 2}      -0.755120   \n20   knn  {'metric': 'chebyshev', 'n_neighbors': 9, 'p': 1}      -0.758336   \n21   knn  {'metric': 'chebyshev', 'n_neighbors': 9, 'p': 2}      -0.758336   \n11   knn  {'metric': 'minkowski', 'n_neighbors': 11, 'p'...      -0.762133   \n13   knn  {'metric': 'chebyshev', 'n_neighbors': 1, 'p': 2}      -0.805847   \n12   knn  {'metric': 'chebyshev', 'n_neighbors': 1, 'p': 1}      -0.805847   \n1    knn  {'metric': 'minkowski', 'n_neighbors': 1, 'p': 2}      -0.818930   \n22   knn  {'metric': 'chebyshev', 'n_neighbors': 11, 'p'...      -0.820804   \n23   knn  {'metric': 'chebyshev', 'n_neighbors': 11, 'p'...      -0.820804   \n0    knn  {'metric': 'minkowski', 'n_neighbors': 1, 'p': 1}      -1.227834   \n\n    std_test_mse  mean_test_mae  std_test_mae  mean_test_r2  std_test_r2  \n2       0.534870      -0.554350      0.267653     -0.108412     0.805501  \n4       0.488382      -0.615691      0.179569     -0.149062     0.561168  \n3       0.496483      -0.607916      0.237931     -0.029978     0.704044  \n10      0.403096      -0.723359      0.189245     -0.066920     0.478456  \n8       0.407644      -0.715559      0.203647     -0.075389     0.430536  \n15      0.367413      -0.698951      0.181001      0.146050     1.040111  \n14      0.367413      -0.698951      0.181001      0.146050     1.040111  \n9       0.475526      -0.698561      0.214719     -0.071091     0.518961  \n7       0.551034      -0.689528      0.221168     -0.054594     0.613715  \n18      0.438554      -0.722094      0.210601     -0.019107     0.565439  \n19      0.438554      -0.722094      0.210601     -0.019107     0.565439  \n6       0.504730      -0.717990      0.204610     -0.068732     0.533673  \n5       0.566206      -0.681672      0.232692     -0.064147     0.633188  \n16      0.553469      -0.720762      0.237956     -0.076721     0.498879  \n17      0.553469      -0.720762      0.237956     -0.076721     0.498879  \n20      0.410953      -0.751457      0.187945      0.085506     0.613613  \n21      0.410953      -0.751457      0.187945      0.085506     0.613613  \n11      0.435662      -0.749064      0.187476      0.078633     0.628608  \n13      0.746061      -0.595606      0.362005      1.491343     4.899372  \n12      0.746061      -0.595606      0.362005      1.491343     4.899372  \n1       0.542022      -0.637194      0.240776      1.391394     4.567801  \n22      0.420960      -0.780040      0.196787      0.181632     0.676270  \n23      0.420960      -0.780040      0.196787      0.181632     0.676270  \n0       0.896314      -0.839290      0.369760      2.077879     4.925152  ",
      "text/html": "<div>\n<style scoped>\n    .dataframe tbody tr th:only-of-type {\n        vertical-align: middle;\n    }\n\n    .dataframe tbody tr th {\n        vertical-align: top;\n    }\n\n    .dataframe thead th {\n        text-align: right;\n    }\n</style>\n<table border=\"1\" class=\"dataframe\">\n  <thead>\n    <tr style=\"text-align: right;\">\n      <th></th>\n      <th>model</th>\n      <th>params</th>\n      <th>mean_test_mse</th>\n      <th>std_test_mse</th>\n      <th>mean_test_mae</th>\n      <th>std_test_mae</th>\n      <th>mean_test_r2</th>\n      <th>std_test_r2</th>\n    </tr>\n  </thead>\n  <tbody>\n    <tr>\n      <th>2</th>\n      <td>knn</td>\n      <td>{'metric': 'minkowski', 'n_neighbors': 3, 'p': 1}</td>\n      <td>-0.592342</td>\n      <td>0.534870</td>\n      <td>-0.554350</td>\n      <td>0.267653</td>\n      <td>-0.108412</td>\n      <td>0.805501</td>\n    </tr>\n    <tr>\n      <th>4</th>\n      <td>knn</td>\n      <td>{'metric': 'minkowski', 'n_neighbors': 5, 'p': 1}</td>\n      <td>-0.623660</td>\n      <td>0.488382</td>\n      <td>-0.615691</td>\n      <td>0.179569</td>\n      <td>-0.149062</td>\n      <td>0.561168</td>\n    </tr>\n    <tr>\n      <th>3</th>\n      <td>knn</td>\n      <td>{'metric': 'minkowski', 'n_neighbors': 3, 'p': 2}</td>\n      <td>-0.682889</td>\n      <td>0.496483</td>\n      <td>-0.607916</td>\n      <td>0.237931</td>\n      <td>-0.029978</td>\n      <td>0.704044</td>\n    </tr>\n    <tr>\n      <th>10</th>\n      <td>knn</td>\n      <td>{'metric': 'minkowski', 'n_neighbors': 11, 'p'...</td>\n      <td>-0.689741</td>\n      <td>0.403096</td>\n      <td>-0.723359</td>\n      <td>0.189245</td>\n      <td>-0.066920</td>\n      <td>0.478456</td>\n    </tr>\n    <tr>\n      <th>8</th>\n      <td>knn</td>\n      <td>{'metric': 'minkowski', 'n_neighbors': 9, 'p': 1}</td>\n      <td>-0.702868</td>\n      <td>0.407644</td>\n      <td>-0.715559</td>\n      <td>0.203647</td>\n      <td>-0.075389</td>\n      <td>0.430536</td>\n    </tr>\n    <tr>\n      <th>15</th>\n      <td>knn</td>\n      <td>{'metric': 'chebyshev', 'n_neighbors': 3, 'p': 2}</td>\n      <td>-0.704345</td>\n      <td>0.367413</td>\n      <td>-0.698951</td>\n      <td>0.181001</td>\n      <td>0.146050</td>\n      <td>1.040111</td>\n    </tr>\n    <tr>\n      <th>14</th>\n      <td>knn</td>\n      <td>{'metric': 'chebyshev', 'n_neighbors': 3, 'p': 1}</td>\n      <td>-0.704345</td>\n      <td>0.367413</td>\n      <td>-0.698951</td>\n      <td>0.181001</td>\n      <td>0.146050</td>\n      <td>1.040111</td>\n    </tr>\n    <tr>\n      <th>9</th>\n      <td>knn</td>\n      <td>{'metric': 'minkowski', 'n_neighbors': 9, 'p': 2}</td>\n      <td>-0.704846</td>\n      <td>0.475526</td>\n      <td>-0.698561</td>\n      <td>0.214719</td>\n      <td>-0.071091</td>\n      <td>0.518961</td>\n    </tr>\n    <tr>\n      <th>7</th>\n      <td>knn</td>\n      <td>{'metric': 'minkowski', 'n_neighbors': 7, 'p': 2}</td>\n      <td>-0.706468</td>\n      <td>0.551034</td>\n      <td>-0.689528</td>\n      <td>0.221168</td>\n      <td>-0.054594</td>\n      <td>0.613715</td>\n    </tr>\n    <tr>\n      <th>18</th>\n      <td>knn</td>\n      <td>{'metric': 'chebyshev', 'n_neighbors': 7, 'p': 1}</td>\n      <td>-0.707087</td>\n      <td>0.438554</td>\n      <td>-0.722094</td>\n      <td>0.210601</td>\n      <td>-0.019107</td>\n      <td>0.565439</td>\n    </tr>\n    <tr>\n      <th>19</th>\n      <td>knn</td>\n      <td>{'metric': 'chebyshev', 'n_neighbors': 7, 'p': 2}</td>\n      <td>-0.707087</td>\n      <td>0.438554</td>\n      <td>-0.722094</td>\n      <td>0.210601</td>\n      <td>-0.019107</td>\n      <td>0.565439</td>\n    </tr>\n    <tr>\n      <th>6</th>\n      <td>knn</td>\n      <td>{'metric': 'minkowski', 'n_neighbors': 7, 'p': 1}</td>\n      <td>-0.717269</td>\n      <td>0.504730</td>\n      <td>-0.717990</td>\n      <td>0.204610</td>\n      <td>-0.068732</td>\n      <td>0.533673</td>\n    </tr>\n    <tr>\n      <th>5</th>\n      <td>knn</td>\n      <td>{'metric': 'minkowski', 'n_neighbors': 5, 'p': 2}</td>\n      <td>-0.720952</td>\n      <td>0.566206</td>\n      <td>-0.681672</td>\n      <td>0.232692</td>\n      <td>-0.064147</td>\n      <td>0.633188</td>\n    </tr>\n    <tr>\n      <th>16</th>\n      <td>knn</td>\n      <td>{'metric': 'chebyshev', 'n_neighbors': 5, 'p': 1}</td>\n      <td>-0.755120</td>\n      <td>0.553469</td>\n      <td>-0.720762</td>\n      <td>0.237956</td>\n      <td>-0.076721</td>\n      <td>0.498879</td>\n    </tr>\n    <tr>\n      <th>17</th>\n      <td>knn</td>\n      <td>{'metric': 'chebyshev', 'n_neighbors': 5, 'p': 2}</td>\n      <td>-0.755120</td>\n      <td>0.553469</td>\n      <td>-0.720762</td>\n      <td>0.237956</td>\n      <td>-0.076721</td>\n      <td>0.498879</td>\n    </tr>\n    <tr>\n      <th>20</th>\n      <td>knn</td>\n      <td>{'metric': 'chebyshev', 'n_neighbors': 9, 'p': 1}</td>\n      <td>-0.758336</td>\n      <td>0.410953</td>\n      <td>-0.751457</td>\n      <td>0.187945</td>\n      <td>0.085506</td>\n      <td>0.613613</td>\n    </tr>\n    <tr>\n      <th>21</th>\n      <td>knn</td>\n      <td>{'metric': 'chebyshev', 'n_neighbors': 9, 'p': 2}</td>\n      <td>-0.758336</td>\n      <td>0.410953</td>\n      <td>-0.751457</td>\n      <td>0.187945</td>\n      <td>0.085506</td>\n      <td>0.613613</td>\n    </tr>\n    <tr>\n      <th>11</th>\n      <td>knn</td>\n      <td>{'metric': 'minkowski', 'n_neighbors': 11, 'p'...</td>\n      <td>-0.762133</td>\n      <td>0.435662</td>\n      <td>-0.749064</td>\n      <td>0.187476</td>\n      <td>0.078633</td>\n      <td>0.628608</td>\n    </tr>\n    <tr>\n      <th>13</th>\n      <td>knn</td>\n      <td>{'metric': 'chebyshev', 'n_neighbors': 1, 'p': 2}</td>\n      <td>-0.805847</td>\n      <td>0.746061</td>\n      <td>-0.595606</td>\n      <td>0.362005</td>\n      <td>1.491343</td>\n      <td>4.899372</td>\n    </tr>\n    <tr>\n      <th>12</th>\n      <td>knn</td>\n      <td>{'metric': 'chebyshev', 'n_neighbors': 1, 'p': 1}</td>\n      <td>-0.805847</td>\n      <td>0.746061</td>\n      <td>-0.595606</td>\n      <td>0.362005</td>\n      <td>1.491343</td>\n      <td>4.899372</td>\n    </tr>\n    <tr>\n      <th>1</th>\n      <td>knn</td>\n      <td>{'metric': 'minkowski', 'n_neighbors': 1, 'p': 2}</td>\n      <td>-0.818930</td>\n      <td>0.542022</td>\n      <td>-0.637194</td>\n      <td>0.240776</td>\n      <td>1.391394</td>\n      <td>4.567801</td>\n    </tr>\n    <tr>\n      <th>22</th>\n      <td>knn</td>\n      <td>{'metric': 'chebyshev', 'n_neighbors': 11, 'p'...</td>\n      <td>-0.820804</td>\n      <td>0.420960</td>\n      <td>-0.780040</td>\n      <td>0.196787</td>\n      <td>0.181632</td>\n      <td>0.676270</td>\n    </tr>\n    <tr>\n      <th>23</th>\n      <td>knn</td>\n      <td>{'metric': 'chebyshev', 'n_neighbors': 11, 'p'...</td>\n      <td>-0.820804</td>\n      <td>0.420960</td>\n      <td>-0.780040</td>\n      <td>0.196787</td>\n      <td>0.181632</td>\n      <td>0.676270</td>\n    </tr>\n    <tr>\n      <th>0</th>\n      <td>knn</td>\n      <td>{'metric': 'minkowski', 'n_neighbors': 1, 'p': 1}</td>\n      <td>-1.227834</td>\n      <td>0.896314</td>\n      <td>-0.839290</td>\n      <td>0.369760</td>\n      <td>2.077879</td>\n      <td>4.925152</td>\n    </tr>\n  </tbody>\n</table>\n</div>"
     },
     "metadata": {},
     "execution_count": 18
    }
   ],
   "source": [
    "grid_search_df.sort_values('mean_test_mse', ascending=False)"
   ]
  },
  {
   "cell_type": "markdown",
   "metadata": {},
   "source": [
    "# Sumário"
   ]
  },
  {
   "cell_type": "code",
   "execution_count": 19,
   "metadata": {},
   "outputs": [
    {
     "output_type": "execute_result",
     "data": {
      "text/plain": "         model                                             params  \\\n257  ada_boost  {'learning_rate': 0.55, 'loss': 'linear', 'n_e...   \n353  ada_boost  {'learning_rate': 0.75, 'loss': 'linear', 'n_e...   \n97   ada_boost  {'learning_rate': 0.2, 'loss': 'square', 'n_es...   \n283  ada_boost  {'learning_rate': 0.6, 'loss': 'linear', 'n_es...   \n265  ada_boost  {'learning_rate': 0.55, 'loss': 'square', 'n_e...   \n290  ada_boost  {'learning_rate': 0.6, 'loss': 'square', 'n_es...   \n17   ada_boost  {'learning_rate': 0.05, 'loss': 'linear', 'n_e...   \n261  ada_boost  {'learning_rate': 0.55, 'loss': 'linear', 'n_e...   \n104  ada_boost  {'learning_rate': 0.2, 'loss': 'exponential', ...   \n138  ada_boost  {'learning_rate': 0.3, 'loss': 'linear', 'n_es...   \n18   ada_boost  {'learning_rate': 0.05, 'loss': 'linear', 'n_e...   \n424  ada_boost  {'learning_rate': 0.9, 'loss': 'linear', 'n_es...   \n235  ada_boost  {'learning_rate': 0.5, 'loss': 'linear', 'n_es...   \n96   ada_boost  {'learning_rate': 0.2, 'loss': 'square', 'n_es...   \n308  ada_boost  {'learning_rate': 0.65, 'loss': 'linear', 'n_e...   \n262  ada_boost  {'learning_rate': 0.55, 'loss': 'linear', 'n_e...   \n332  ada_boost  {'learning_rate': 0.7, 'loss': 'linear', 'n_es...   \n214  ada_boost  {'learning_rate': 0.45, 'loss': 'linear', 'n_e...   \n238  ada_boost  {'learning_rate': 0.5, 'loss': 'linear', 'n_es...   \n307  ada_boost  {'learning_rate': 0.65, 'loss': 'linear', 'n_e...   \n\n     mean_test_mse  std_test_mse  mean_test_mae  std_test_mae  mean_test_r2  \\\n257      -0.040221      0.040276      -0.132834      0.064789     -0.248344   \n353      -0.040631      0.040772      -0.131613      0.067970     -0.245232   \n97       -0.040658      0.042115      -0.128008      0.073262     -0.207813   \n283      -0.041435      0.041046      -0.132539      0.068587     -0.227097   \n265      -0.041552      0.042478      -0.131802      0.072362     -0.239637   \n290      -0.041629      0.041697      -0.132934      0.072076     -0.226045   \n17       -0.041701      0.042595      -0.132586      0.067652     -0.231409   \n261      -0.041750      0.040682      -0.136036      0.063644     -0.227178   \n104      -0.041760      0.040121      -0.134860      0.066571     -0.229323   \n138      -0.041809      0.040979      -0.135584      0.065567     -0.234403   \n18       -0.041852      0.040799      -0.134446      0.063627     -0.219744   \n424      -0.041869      0.040401      -0.135713      0.069219     -0.211421   \n235      -0.041918      0.040541      -0.135416      0.063311     -0.227947   \n96       -0.041925      0.042247      -0.130176      0.071927     -0.222721   \n308      -0.042051      0.041114      -0.135295      0.064956     -0.226977   \n262      -0.042137      0.040736      -0.135433      0.064714     -0.225017   \n332      -0.042141      0.040491      -0.138213      0.065078     -0.223499   \n214      -0.042173      0.040401      -0.137246      0.062867     -0.218426   \n238      -0.042191      0.040406      -0.138037      0.062994     -0.219431   \n307      -0.042244      0.039981      -0.139549      0.061840     -0.191681   \n\n     std_test_r2  \n257     0.673110  \n353     0.679458  \n97      0.766500  \n283     0.696358  \n265     0.708710  \n290     0.702257  \n17      0.701865  \n261     0.679579  \n104     0.688871  \n138     0.665905  \n18      0.695024  \n424     0.715746  \n235     0.671091  \n96      0.724806  \n308     0.678590  \n262     0.677407  \n332     0.678960  \n214     0.679875  \n238     0.677181  \n307     0.721574  ",
      "text/html": "<div>\n<style scoped>\n    .dataframe tbody tr th:only-of-type {\n        vertical-align: middle;\n    }\n\n    .dataframe tbody tr th {\n        vertical-align: top;\n    }\n\n    .dataframe thead th {\n        text-align: right;\n    }\n</style>\n<table border=\"1\" class=\"dataframe\">\n  <thead>\n    <tr style=\"text-align: right;\">\n      <th></th>\n      <th>model</th>\n      <th>params</th>\n      <th>mean_test_mse</th>\n      <th>std_test_mse</th>\n      <th>mean_test_mae</th>\n      <th>std_test_mae</th>\n      <th>mean_test_r2</th>\n      <th>std_test_r2</th>\n    </tr>\n  </thead>\n  <tbody>\n    <tr>\n      <th>257</th>\n      <td>ada_boost</td>\n      <td>{'learning_rate': 0.55, 'loss': 'linear', 'n_e...</td>\n      <td>-0.040221</td>\n      <td>0.040276</td>\n      <td>-0.132834</td>\n      <td>0.064789</td>\n      <td>-0.248344</td>\n      <td>0.673110</td>\n    </tr>\n    <tr>\n      <th>353</th>\n      <td>ada_boost</td>\n      <td>{'learning_rate': 0.75, 'loss': 'linear', 'n_e...</td>\n      <td>-0.040631</td>\n      <td>0.040772</td>\n      <td>-0.131613</td>\n      <td>0.067970</td>\n      <td>-0.245232</td>\n      <td>0.679458</td>\n    </tr>\n    <tr>\n      <th>97</th>\n      <td>ada_boost</td>\n      <td>{'learning_rate': 0.2, 'loss': 'square', 'n_es...</td>\n      <td>-0.040658</td>\n      <td>0.042115</td>\n      <td>-0.128008</td>\n      <td>0.073262</td>\n      <td>-0.207813</td>\n      <td>0.766500</td>\n    </tr>\n    <tr>\n      <th>283</th>\n      <td>ada_boost</td>\n      <td>{'learning_rate': 0.6, 'loss': 'linear', 'n_es...</td>\n      <td>-0.041435</td>\n      <td>0.041046</td>\n      <td>-0.132539</td>\n      <td>0.068587</td>\n      <td>-0.227097</td>\n      <td>0.696358</td>\n    </tr>\n    <tr>\n      <th>265</th>\n      <td>ada_boost</td>\n      <td>{'learning_rate': 0.55, 'loss': 'square', 'n_e...</td>\n      <td>-0.041552</td>\n      <td>0.042478</td>\n      <td>-0.131802</td>\n      <td>0.072362</td>\n      <td>-0.239637</td>\n      <td>0.708710</td>\n    </tr>\n    <tr>\n      <th>290</th>\n      <td>ada_boost</td>\n      <td>{'learning_rate': 0.6, 'loss': 'square', 'n_es...</td>\n      <td>-0.041629</td>\n      <td>0.041697</td>\n      <td>-0.132934</td>\n      <td>0.072076</td>\n      <td>-0.226045</td>\n      <td>0.702257</td>\n    </tr>\n    <tr>\n      <th>17</th>\n      <td>ada_boost</td>\n      <td>{'learning_rate': 0.05, 'loss': 'linear', 'n_e...</td>\n      <td>-0.041701</td>\n      <td>0.042595</td>\n      <td>-0.132586</td>\n      <td>0.067652</td>\n      <td>-0.231409</td>\n      <td>0.701865</td>\n    </tr>\n    <tr>\n      <th>261</th>\n      <td>ada_boost</td>\n      <td>{'learning_rate': 0.55, 'loss': 'linear', 'n_e...</td>\n      <td>-0.041750</td>\n      <td>0.040682</td>\n      <td>-0.136036</td>\n      <td>0.063644</td>\n      <td>-0.227178</td>\n      <td>0.679579</td>\n    </tr>\n    <tr>\n      <th>104</th>\n      <td>ada_boost</td>\n      <td>{'learning_rate': 0.2, 'loss': 'exponential', ...</td>\n      <td>-0.041760</td>\n      <td>0.040121</td>\n      <td>-0.134860</td>\n      <td>0.066571</td>\n      <td>-0.229323</td>\n      <td>0.688871</td>\n    </tr>\n    <tr>\n      <th>138</th>\n      <td>ada_boost</td>\n      <td>{'learning_rate': 0.3, 'loss': 'linear', 'n_es...</td>\n      <td>-0.041809</td>\n      <td>0.040979</td>\n      <td>-0.135584</td>\n      <td>0.065567</td>\n      <td>-0.234403</td>\n      <td>0.665905</td>\n    </tr>\n    <tr>\n      <th>18</th>\n      <td>ada_boost</td>\n      <td>{'learning_rate': 0.05, 'loss': 'linear', 'n_e...</td>\n      <td>-0.041852</td>\n      <td>0.040799</td>\n      <td>-0.134446</td>\n      <td>0.063627</td>\n      <td>-0.219744</td>\n      <td>0.695024</td>\n    </tr>\n    <tr>\n      <th>424</th>\n      <td>ada_boost</td>\n      <td>{'learning_rate': 0.9, 'loss': 'linear', 'n_es...</td>\n      <td>-0.041869</td>\n      <td>0.040401</td>\n      <td>-0.135713</td>\n      <td>0.069219</td>\n      <td>-0.211421</td>\n      <td>0.715746</td>\n    </tr>\n    <tr>\n      <th>235</th>\n      <td>ada_boost</td>\n      <td>{'learning_rate': 0.5, 'loss': 'linear', 'n_es...</td>\n      <td>-0.041918</td>\n      <td>0.040541</td>\n      <td>-0.135416</td>\n      <td>0.063311</td>\n      <td>-0.227947</td>\n      <td>0.671091</td>\n    </tr>\n    <tr>\n      <th>96</th>\n      <td>ada_boost</td>\n      <td>{'learning_rate': 0.2, 'loss': 'square', 'n_es...</td>\n      <td>-0.041925</td>\n      <td>0.042247</td>\n      <td>-0.130176</td>\n      <td>0.071927</td>\n      <td>-0.222721</td>\n      <td>0.724806</td>\n    </tr>\n    <tr>\n      <th>308</th>\n      <td>ada_boost</td>\n      <td>{'learning_rate': 0.65, 'loss': 'linear', 'n_e...</td>\n      <td>-0.042051</td>\n      <td>0.041114</td>\n      <td>-0.135295</td>\n      <td>0.064956</td>\n      <td>-0.226977</td>\n      <td>0.678590</td>\n    </tr>\n    <tr>\n      <th>262</th>\n      <td>ada_boost</td>\n      <td>{'learning_rate': 0.55, 'loss': 'linear', 'n_e...</td>\n      <td>-0.042137</td>\n      <td>0.040736</td>\n      <td>-0.135433</td>\n      <td>0.064714</td>\n      <td>-0.225017</td>\n      <td>0.677407</td>\n    </tr>\n    <tr>\n      <th>332</th>\n      <td>ada_boost</td>\n      <td>{'learning_rate': 0.7, 'loss': 'linear', 'n_es...</td>\n      <td>-0.042141</td>\n      <td>0.040491</td>\n      <td>-0.138213</td>\n      <td>0.065078</td>\n      <td>-0.223499</td>\n      <td>0.678960</td>\n    </tr>\n    <tr>\n      <th>214</th>\n      <td>ada_boost</td>\n      <td>{'learning_rate': 0.45, 'loss': 'linear', 'n_e...</td>\n      <td>-0.042173</td>\n      <td>0.040401</td>\n      <td>-0.137246</td>\n      <td>0.062867</td>\n      <td>-0.218426</td>\n      <td>0.679875</td>\n    </tr>\n    <tr>\n      <th>238</th>\n      <td>ada_boost</td>\n      <td>{'learning_rate': 0.5, 'loss': 'linear', 'n_es...</td>\n      <td>-0.042191</td>\n      <td>0.040406</td>\n      <td>-0.138037</td>\n      <td>0.062994</td>\n      <td>-0.219431</td>\n      <td>0.677181</td>\n    </tr>\n    <tr>\n      <th>307</th>\n      <td>ada_boost</td>\n      <td>{'learning_rate': 0.65, 'loss': 'linear', 'n_e...</td>\n      <td>-0.042244</td>\n      <td>0.039981</td>\n      <td>-0.139549</td>\n      <td>0.061840</td>\n      <td>-0.191681</td>\n      <td>0.721574</td>\n    </tr>\n  </tbody>\n</table>\n</div>"
     },
     "metadata": {},
     "execution_count": 19
    }
   ],
   "source": [
    "summary_df.sort_values(by='mean_test_mse', ascending=False).head(20)"
   ]
  },
  {
   "cell_type": "code",
   "execution_count": null,
   "metadata": {},
   "outputs": [],
   "source": []
  }
 ],
 "metadata": {
  "language_info": {
   "name": "python",
   "codemirror_mode": {
    "name": "ipython",
    "version": 3
   },
   "version": "3.6.9-final"
  },
  "orig_nbformat": 2,
  "file_extension": ".py",
  "mimetype": "text/x-python",
  "name": "python",
  "npconvert_exporter": "python",
  "pygments_lexer": "ipython3",
  "version": 3,
  "kernelspec": {
   "name": "python36964bitbertvirtualenv054cbb15ab924922a35a349b12e89805",
   "display_name": "Python 3.6.9 64-bit ('bert': virtualenv)"
  }
 },
 "nbformat": 4,
 "nbformat_minor": 2
}