{
 "cells": [
  {
   "cell_type": "code",
   "execution_count": 1,
   "metadata": {},
   "outputs": [],
   "source": [
    "import pandas as pd"
   ]
  },
  {
   "cell_type": "code",
   "execution_count": 2,
   "metadata": {},
   "outputs": [],
   "source": [
    "summary_df = pd.DataFrame(columns=[\"model\", 'params', 'mean_test_mse', 'std_test_mse', 'mean_test_mae', 'std_test_mae', 'mean_test_r2', 'std_test_r2'])"
   ]
  },
  {
   "cell_type": "code",
   "execution_count": 3,
   "metadata": {},
   "outputs": [
    {
     "output_type": "execute_result",
     "data": {
      "text/plain": "Empty DataFrame\nColumns: [model, params, mean_test_mse, std_test_mse, mean_test_mae, std_test_mae, mean_test_r2, std_test_r2]\nIndex: []",
      "text/html": "<div>\n<style scoped>\n    .dataframe tbody tr th:only-of-type {\n        vertical-align: middle;\n    }\n\n    .dataframe tbody tr th {\n        vertical-align: top;\n    }\n\n    .dataframe thead th {\n        text-align: right;\n    }\n</style>\n<table border=\"1\" class=\"dataframe\">\n  <thead>\n    <tr style=\"text-align: right;\">\n      <th></th>\n      <th>model</th>\n      <th>params</th>\n      <th>mean_test_mse</th>\n      <th>std_test_mse</th>\n      <th>mean_test_mae</th>\n      <th>std_test_mae</th>\n      <th>mean_test_r2</th>\n      <th>std_test_r2</th>\n    </tr>\n  </thead>\n  <tbody>\n  </tbody>\n</table>\n</div>"
     },
     "metadata": {},
     "execution_count": 3
    }
   ],
   "source": [
    "summary_df"
   ]
  },
  {
   "cell_type": "markdown",
   "metadata": {},
   "source": [
    "# Random Forest Regressor"
   ]
  },
  {
   "cell_type": "code",
   "execution_count": 4,
   "metadata": {},
   "outputs": [],
   "source": [
    "PATH = 'random_forest_grid_search_results.csv'"
   ]
  },
  {
   "cell_type": "code",
   "execution_count": 5,
   "metadata": {},
   "outputs": [],
   "source": [
    "grid_search_df = pd.read_csv(PATH)"
   ]
  },
  {
   "cell_type": "code",
   "execution_count": 6,
   "metadata": {},
   "outputs": [],
   "source": [
    "grid_search_df[\"model\"] = \"random_forest\"\n",
    "grid_search_df = grid_search_df[[\"model\", 'params', 'mean_test_mse', 'std_test_mse', 'mean_test_mae', 'std_test_mae', 'mean_test_r2', 'std_test_r2']]\n",
    "summary_df = summary_df.append(grid_search_df.sort_values('mean_test_mse', ascending=False).iloc[0], ignore_index=True)"
   ]
  },
  {
   "cell_type": "code",
   "execution_count": 7,
   "metadata": {},
   "outputs": [
    {
     "output_type": "execute_result",
     "data": {
      "text/plain": "            model                                       params  mean_test_mse  \\\n11  random_forest   {'criterion': 'mae', 'n_estimators': 1000}      -0.026841   \n12  random_forest   {'criterion': 'mae', 'n_estimators': 2000}      -0.027037   \n15  random_forest  {'criterion': 'mae', 'n_estimators': 10000}      -0.027045   \n3   random_forest   {'criterion': 'mse', 'n_estimators': 1000}      -0.027140   \n9   random_forest    {'criterion': 'mae', 'n_estimators': 200}      -0.027155   \n14  random_forest   {'criterion': 'mae', 'n_estimators': 5000}      -0.027195   \n13  random_forest   {'criterion': 'mae', 'n_estimators': 3000}      -0.027408   \n10  random_forest    {'criterion': 'mae', 'n_estimators': 500}      -0.027521   \n7   random_forest  {'criterion': 'mse', 'n_estimators': 10000}      -0.027684   \n0   random_forest    {'criterion': 'mse', 'n_estimators': 100}      -0.027737   \n5   random_forest   {'criterion': 'mse', 'n_estimators': 3000}      -0.027745   \n2   random_forest    {'criterion': 'mse', 'n_estimators': 500}      -0.027769   \n6   random_forest   {'criterion': 'mse', 'n_estimators': 5000}      -0.027812   \n1   random_forest    {'criterion': 'mse', 'n_estimators': 200}      -0.027889   \n4   random_forest   {'criterion': 'mse', 'n_estimators': 2000}      -0.028042   \n8   random_forest    {'criterion': 'mae', 'n_estimators': 100}      -0.028906   \n\n    std_test_mse  mean_test_mae  std_test_mae  mean_test_r2  std_test_r2  \n11      0.021121      -0.123882      0.042833     -0.571878     0.352261  \n12      0.021300      -0.124576      0.042100     -0.568020     0.358870  \n15      0.021325      -0.124397      0.042568     -0.567699     0.357965  \n3       0.019819      -0.123054      0.042542     -0.568156     0.326064  \n9       0.021763      -0.123894      0.042342     -0.572627     0.337748  \n14      0.021525      -0.124839      0.042834     -0.567187     0.352227  \n13      0.021803      -0.124711      0.042678     -0.562377     0.361960  \n10      0.020650      -0.126387      0.041566     -0.560967     0.337854  \n7       0.020154      -0.124591      0.041766     -0.564070     0.315367  \n0       0.018279      -0.126321      0.040453     -0.552780     0.324499  \n5       0.020210      -0.124868      0.041309     -0.564863     0.308814  \n2       0.020328      -0.124524      0.040684     -0.567346     0.291051  \n6       0.020778      -0.124325      0.042177     -0.563969     0.319680  \n1       0.020871      -0.124170      0.042201     -0.555532     0.339519  \n4       0.020486      -0.125537      0.041839     -0.559449     0.316199  \n8       0.025875      -0.125386      0.046918     -0.550993     0.371168  ",
      "text/html": "<div>\n<style scoped>\n    .dataframe tbody tr th:only-of-type {\n        vertical-align: middle;\n    }\n\n    .dataframe tbody tr th {\n        vertical-align: top;\n    }\n\n    .dataframe thead th {\n        text-align: right;\n    }\n</style>\n<table border=\"1\" class=\"dataframe\">\n  <thead>\n    <tr style=\"text-align: right;\">\n      <th></th>\n      <th>model</th>\n      <th>params</th>\n      <th>mean_test_mse</th>\n      <th>std_test_mse</th>\n      <th>mean_test_mae</th>\n      <th>std_test_mae</th>\n      <th>mean_test_r2</th>\n      <th>std_test_r2</th>\n    </tr>\n  </thead>\n  <tbody>\n    <tr>\n      <th>11</th>\n      <td>random_forest</td>\n      <td>{'criterion': 'mae', 'n_estimators': 1000}</td>\n      <td>-0.026841</td>\n      <td>0.021121</td>\n      <td>-0.123882</td>\n      <td>0.042833</td>\n      <td>-0.571878</td>\n      <td>0.352261</td>\n    </tr>\n    <tr>\n      <th>12</th>\n      <td>random_forest</td>\n      <td>{'criterion': 'mae', 'n_estimators': 2000}</td>\n      <td>-0.027037</td>\n      <td>0.021300</td>\n      <td>-0.124576</td>\n      <td>0.042100</td>\n      <td>-0.568020</td>\n      <td>0.358870</td>\n    </tr>\n    <tr>\n      <th>15</th>\n      <td>random_forest</td>\n      <td>{'criterion': 'mae', 'n_estimators': 10000}</td>\n      <td>-0.027045</td>\n      <td>0.021325</td>\n      <td>-0.124397</td>\n      <td>0.042568</td>\n      <td>-0.567699</td>\n      <td>0.357965</td>\n    </tr>\n    <tr>\n      <th>3</th>\n      <td>random_forest</td>\n      <td>{'criterion': 'mse', 'n_estimators': 1000}</td>\n      <td>-0.027140</td>\n      <td>0.019819</td>\n      <td>-0.123054</td>\n      <td>0.042542</td>\n      <td>-0.568156</td>\n      <td>0.326064</td>\n    </tr>\n    <tr>\n      <th>9</th>\n      <td>random_forest</td>\n      <td>{'criterion': 'mae', 'n_estimators': 200}</td>\n      <td>-0.027155</td>\n      <td>0.021763</td>\n      <td>-0.123894</td>\n      <td>0.042342</td>\n      <td>-0.572627</td>\n      <td>0.337748</td>\n    </tr>\n    <tr>\n      <th>14</th>\n      <td>random_forest</td>\n      <td>{'criterion': 'mae', 'n_estimators': 5000}</td>\n      <td>-0.027195</td>\n      <td>0.021525</td>\n      <td>-0.124839</td>\n      <td>0.042834</td>\n      <td>-0.567187</td>\n      <td>0.352227</td>\n    </tr>\n    <tr>\n      <th>13</th>\n      <td>random_forest</td>\n      <td>{'criterion': 'mae', 'n_estimators': 3000}</td>\n      <td>-0.027408</td>\n      <td>0.021803</td>\n      <td>-0.124711</td>\n      <td>0.042678</td>\n      <td>-0.562377</td>\n      <td>0.361960</td>\n    </tr>\n    <tr>\n      <th>10</th>\n      <td>random_forest</td>\n      <td>{'criterion': 'mae', 'n_estimators': 500}</td>\n      <td>-0.027521</td>\n      <td>0.020650</td>\n      <td>-0.126387</td>\n      <td>0.041566</td>\n      <td>-0.560967</td>\n      <td>0.337854</td>\n    </tr>\n    <tr>\n      <th>7</th>\n      <td>random_forest</td>\n      <td>{'criterion': 'mse', 'n_estimators': 10000}</td>\n      <td>-0.027684</td>\n      <td>0.020154</td>\n      <td>-0.124591</td>\n      <td>0.041766</td>\n      <td>-0.564070</td>\n      <td>0.315367</td>\n    </tr>\n    <tr>\n      <th>0</th>\n      <td>random_forest</td>\n      <td>{'criterion': 'mse', 'n_estimators': 100}</td>\n      <td>-0.027737</td>\n      <td>0.018279</td>\n      <td>-0.126321</td>\n      <td>0.040453</td>\n      <td>-0.552780</td>\n      <td>0.324499</td>\n    </tr>\n    <tr>\n      <th>5</th>\n      <td>random_forest</td>\n      <td>{'criterion': 'mse', 'n_estimators': 3000}</td>\n      <td>-0.027745</td>\n      <td>0.020210</td>\n      <td>-0.124868</td>\n      <td>0.041309</td>\n      <td>-0.564863</td>\n      <td>0.308814</td>\n    </tr>\n    <tr>\n      <th>2</th>\n      <td>random_forest</td>\n      <td>{'criterion': 'mse', 'n_estimators': 500}</td>\n      <td>-0.027769</td>\n      <td>0.020328</td>\n      <td>-0.124524</td>\n      <td>0.040684</td>\n      <td>-0.567346</td>\n      <td>0.291051</td>\n    </tr>\n    <tr>\n      <th>6</th>\n      <td>random_forest</td>\n      <td>{'criterion': 'mse', 'n_estimators': 5000}</td>\n      <td>-0.027812</td>\n      <td>0.020778</td>\n      <td>-0.124325</td>\n      <td>0.042177</td>\n      <td>-0.563969</td>\n      <td>0.319680</td>\n    </tr>\n    <tr>\n      <th>1</th>\n      <td>random_forest</td>\n      <td>{'criterion': 'mse', 'n_estimators': 200}</td>\n      <td>-0.027889</td>\n      <td>0.020871</td>\n      <td>-0.124170</td>\n      <td>0.042201</td>\n      <td>-0.555532</td>\n      <td>0.339519</td>\n    </tr>\n    <tr>\n      <th>4</th>\n      <td>random_forest</td>\n      <td>{'criterion': 'mse', 'n_estimators': 2000}</td>\n      <td>-0.028042</td>\n      <td>0.020486</td>\n      <td>-0.125537</td>\n      <td>0.041839</td>\n      <td>-0.559449</td>\n      <td>0.316199</td>\n    </tr>\n    <tr>\n      <th>8</th>\n      <td>random_forest</td>\n      <td>{'criterion': 'mae', 'n_estimators': 100}</td>\n      <td>-0.028906</td>\n      <td>0.025875</td>\n      <td>-0.125386</td>\n      <td>0.046918</td>\n      <td>-0.550993</td>\n      <td>0.371168</td>\n    </tr>\n  </tbody>\n</table>\n</div>"
     },
     "metadata": {},
     "execution_count": 7
    }
   ],
   "source": [
    "grid_search_df.sort_values('mean_test_mse', ascending=False)"
   ]
  },
  {
   "cell_type": "markdown",
   "metadata": {},
   "source": [
    "# Ada Boost Regressor"
   ]
  },
  {
   "cell_type": "code",
   "execution_count": 8,
   "metadata": {},
   "outputs": [],
   "source": [
    "PATH = 'ada_boost_grid_search_results.csv'\n",
    ""
   ]
  },
  {
   "cell_type": "code",
   "execution_count": 9,
   "metadata": {},
   "outputs": [],
   "source": [
    "grid_search_df = pd.read_csv(PATH)\n",
    "grid_search_df[\"model\"] = \"ada_boost\"\n",
    "grid_search_df = grid_search_df[[\"model\", 'params', 'mean_test_mse', 'std_test_mse', 'mean_test_mae', 'std_test_mae', 'mean_test_r2', 'std_test_r2']]\n",
    "summary_df = summary_df.append(grid_search_df.sort_values('mean_test_mse', ascending=False).iloc[0], ignore_index=True)"
   ]
  },
  {
   "cell_type": "code",
   "execution_count": 10,
   "metadata": {},
   "outputs": [
    {
     "output_type": "execute_result",
     "data": {
      "text/plain": "         model                                             params  \\\n384  ada_boost  {'learning_rate': 0.85, 'loss': 'linear', 'n_e...   \n464  ada_boost  {'learning_rate': 1.0, 'loss': 'square', 'n_es...   \n344  ada_boost  {'learning_rate': 0.75, 'loss': 'square', 'n_e...   \n400  ada_boost  {'learning_rate': 0.85, 'loss': 'exponential',...   \n441  ada_boost  {'learning_rate': 0.95, 'loss': 'square', 'n_e...   \n..         ...                                                ...   \n120  ada_boost  {'learning_rate': 0.3, 'loss': 'linear', 'n_es...   \n232  ada_boost  {'learning_rate': 0.5, 'loss': 'exponential', ...   \n121  ada_boost  {'learning_rate': 0.3, 'loss': 'linear', 'n_es...   \n225  ada_boost  {'learning_rate': 0.5, 'loss': 'square', 'n_es...   \n113  ada_boost  {'learning_rate': 0.25, 'loss': 'exponential',...   \n\n     mean_test_mse  std_test_mse  mean_test_mae  std_test_mae  mean_test_r2  \\\n384      -0.029858      0.019414      -0.120890      0.044253     -0.504439   \n464      -0.030577      0.025699      -0.122874      0.047769     -0.523467   \n344      -0.030674      0.025215      -0.127467      0.044068     -0.542819   \n400      -0.031003      0.021966      -0.126474      0.048315     -0.504362   \n441      -0.031434      0.022310      -0.129357      0.044365     -0.493948   \n..             ...           ...            ...           ...           ...   \n120      -0.037720      0.027249      -0.136771      0.058937     -0.391938   \n232      -0.037816      0.025964      -0.138160      0.055301     -0.383930   \n121      -0.037955      0.026012      -0.136847      0.053838     -0.367456   \n225      -0.038437      0.027338      -0.137488      0.057464     -0.351379   \n113      -0.038691      0.025888      -0.136143      0.055632     -0.355202   \n\n     std_test_r2  \n384     0.368539  \n464     0.367303  \n344     0.289556  \n400     0.371459  \n441     0.344054  \n..           ...  \n120     0.449611  \n232     0.438298  \n121     0.484216  \n225     0.543713  \n113     0.487022  \n\n[480 rows x 8 columns]",
      "text/html": "<div>\n<style scoped>\n    .dataframe tbody tr th:only-of-type {\n        vertical-align: middle;\n    }\n\n    .dataframe tbody tr th {\n        vertical-align: top;\n    }\n\n    .dataframe thead th {\n        text-align: right;\n    }\n</style>\n<table border=\"1\" class=\"dataframe\">\n  <thead>\n    <tr style=\"text-align: right;\">\n      <th></th>\n      <th>model</th>\n      <th>params</th>\n      <th>mean_test_mse</th>\n      <th>std_test_mse</th>\n      <th>mean_test_mae</th>\n      <th>std_test_mae</th>\n      <th>mean_test_r2</th>\n      <th>std_test_r2</th>\n    </tr>\n  </thead>\n  <tbody>\n    <tr>\n      <th>384</th>\n      <td>ada_boost</td>\n      <td>{'learning_rate': 0.85, 'loss': 'linear', 'n_e...</td>\n      <td>-0.029858</td>\n      <td>0.019414</td>\n      <td>-0.120890</td>\n      <td>0.044253</td>\n      <td>-0.504439</td>\n      <td>0.368539</td>\n    </tr>\n    <tr>\n      <th>464</th>\n      <td>ada_boost</td>\n      <td>{'learning_rate': 1.0, 'loss': 'square', 'n_es...</td>\n      <td>-0.030577</td>\n      <td>0.025699</td>\n      <td>-0.122874</td>\n      <td>0.047769</td>\n      <td>-0.523467</td>\n      <td>0.367303</td>\n    </tr>\n    <tr>\n      <th>344</th>\n      <td>ada_boost</td>\n      <td>{'learning_rate': 0.75, 'loss': 'square', 'n_e...</td>\n      <td>-0.030674</td>\n      <td>0.025215</td>\n      <td>-0.127467</td>\n      <td>0.044068</td>\n      <td>-0.542819</td>\n      <td>0.289556</td>\n    </tr>\n    <tr>\n      <th>400</th>\n      <td>ada_boost</td>\n      <td>{'learning_rate': 0.85, 'loss': 'exponential',...</td>\n      <td>-0.031003</td>\n      <td>0.021966</td>\n      <td>-0.126474</td>\n      <td>0.048315</td>\n      <td>-0.504362</td>\n      <td>0.371459</td>\n    </tr>\n    <tr>\n      <th>441</th>\n      <td>ada_boost</td>\n      <td>{'learning_rate': 0.95, 'loss': 'square', 'n_e...</td>\n      <td>-0.031434</td>\n      <td>0.022310</td>\n      <td>-0.129357</td>\n      <td>0.044365</td>\n      <td>-0.493948</td>\n      <td>0.344054</td>\n    </tr>\n    <tr>\n      <th>...</th>\n      <td>...</td>\n      <td>...</td>\n      <td>...</td>\n      <td>...</td>\n      <td>...</td>\n      <td>...</td>\n      <td>...</td>\n      <td>...</td>\n    </tr>\n    <tr>\n      <th>120</th>\n      <td>ada_boost</td>\n      <td>{'learning_rate': 0.3, 'loss': 'linear', 'n_es...</td>\n      <td>-0.037720</td>\n      <td>0.027249</td>\n      <td>-0.136771</td>\n      <td>0.058937</td>\n      <td>-0.391938</td>\n      <td>0.449611</td>\n    </tr>\n    <tr>\n      <th>232</th>\n      <td>ada_boost</td>\n      <td>{'learning_rate': 0.5, 'loss': 'exponential', ...</td>\n      <td>-0.037816</td>\n      <td>0.025964</td>\n      <td>-0.138160</td>\n      <td>0.055301</td>\n      <td>-0.383930</td>\n      <td>0.438298</td>\n    </tr>\n    <tr>\n      <th>121</th>\n      <td>ada_boost</td>\n      <td>{'learning_rate': 0.3, 'loss': 'linear', 'n_es...</td>\n      <td>-0.037955</td>\n      <td>0.026012</td>\n      <td>-0.136847</td>\n      <td>0.053838</td>\n      <td>-0.367456</td>\n      <td>0.484216</td>\n    </tr>\n    <tr>\n      <th>225</th>\n      <td>ada_boost</td>\n      <td>{'learning_rate': 0.5, 'loss': 'square', 'n_es...</td>\n      <td>-0.038437</td>\n      <td>0.027338</td>\n      <td>-0.137488</td>\n      <td>0.057464</td>\n      <td>-0.351379</td>\n      <td>0.543713</td>\n    </tr>\n    <tr>\n      <th>113</th>\n      <td>ada_boost</td>\n      <td>{'learning_rate': 0.25, 'loss': 'exponential',...</td>\n      <td>-0.038691</td>\n      <td>0.025888</td>\n      <td>-0.136143</td>\n      <td>0.055632</td>\n      <td>-0.355202</td>\n      <td>0.487022</td>\n    </tr>\n  </tbody>\n</table>\n<p>480 rows × 8 columns</p>\n</div>"
     },
     "metadata": {},
     "execution_count": 10
    }
   ],
   "source": [
    "grid_search_df.sort_values('mean_test_mse', ascending=False)"
   ]
  },
  {
   "cell_type": "code",
   "execution_count": 11,
   "metadata": {},
   "outputs": [
    {
     "output_type": "execute_result",
     "data": {
      "text/plain": "array([\"{'learning_rate': 0.85, 'loss': 'linear', 'n_estimators': 100}\",\n       \"{'learning_rate': 1.0, 'loss': 'square', 'n_estimators': 100}\",\n       \"{'learning_rate': 0.75, 'loss': 'square', 'n_estimators': 100}\",\n       \"{'learning_rate': 0.85, 'loss': 'exponential', 'n_estimators': 100}\",\n       \"{'learning_rate': 0.95, 'loss': 'square', 'n_estimators': 200}\",\n       \"{'learning_rate': 0.4, 'loss': 'square', 'n_estimators': 100}\",\n       \"{'learning_rate': 0.8, 'loss': 'square', 'n_estimators': 100}\",\n       \"{'learning_rate': 0.05, 'loss': 'linear', 'n_estimators': 200}\",\n       \"{'learning_rate': 0.9, 'loss': 'exponential', 'n_estimators': 200}\",\n       \"{'learning_rate': 0.6, 'loss': 'exponential', 'n_estimators': 100}\",\n       \"{'learning_rate': 0.75, 'loss': 'linear', 'n_estimators': 100}\",\n       \"{'learning_rate': 0.45, 'loss': 'square', 'n_estimators': 100}\",\n       \"{'learning_rate': 0.95, 'loss': 'square', 'n_estimators': 100}\",\n       \"{'learning_rate': 0.6, 'loss': 'square', 'n_estimators': 100}\",\n       \"{'learning_rate': 0.65, 'loss': 'linear', 'n_estimators': 200}\",\n       \"{'learning_rate': 0.65, 'loss': 'exponential', 'n_estimators': 200}\",\n       \"{'learning_rate': 0.9, 'loss': 'square', 'n_estimators': 1000}\",\n       \"{'learning_rate': 0.35, 'loss': 'exponential', 'n_estimators': 100}\",\n       \"{'learning_rate': 0.9, 'loss': 'exponential', 'n_estimators': 100}\",\n       \"{'learning_rate': 1.0, 'loss': 'linear', 'n_estimators': 200}\"],\n      dtype=object)"
     },
     "metadata": {},
     "execution_count": 11
    }
   ],
   "source": [
    "grid_search_df.sort_values('mean_test_mse', ascending=False).head(20).params.values"
   ]
  },
  {
   "cell_type": "markdown",
   "metadata": {},
   "source": [
    "# SVM Regressor"
   ]
  },
  {
   "cell_type": "code",
   "execution_count": 12,
   "metadata": {},
   "outputs": [],
   "source": [
    "PATH = 'svr_grid_search_results.csv'\n"
   ]
  },
  {
   "cell_type": "code",
   "execution_count": 13,
   "metadata": {},
   "outputs": [],
   "source": [
    "grid_search_df = pd.read_csv(PATH)\n",
    "grid_search_df[\"model\"] = \"svm\"\n",
    "grid_search_df = grid_search_df[[\"model\", 'params', 'mean_test_mse', 'std_test_mse', 'mean_test_mae', 'std_test_mae', 'mean_test_r2', 'std_test_r2']]\n",
    "summary_df = summary_df.append(grid_search_df.sort_values('mean_test_mse', ascending=False).iloc[0], ignore_index=True)"
   ]
  },
  {
   "cell_type": "code",
   "execution_count": 14,
   "metadata": {},
   "outputs": [
    {
     "output_type": "execute_result",
     "data": {
      "text/plain": "     model                                             params  mean_test_mse  \\\n1609   svm  {'C': 0.5, 'degree': 3, 'epsilon': 0.15, 'kern...      -0.039848   \n1225   svm  {'C': 0.45, 'degree': 3, 'epsilon': 0.15, 'ker...      -0.039919   \n1993   svm  {'C': 0.55, 'degree': 3, 'epsilon': 0.15, 'ker...      -0.040961   \n5186   svm  {'C': 0.95, 'degree': 5, 'epsilon': 0.05, 'ker...      -0.042129   \n4994   svm  {'C': 0.95, 'degree': 2, 'epsilon': 0.05, 'ker...      -0.042129   \n5314   svm  {'C': 0.95, 'degree': 7, 'epsilon': 0.05, 'ker...      -0.042129   \n5122   svm  {'C': 0.95, 'degree': 4, 'epsilon': 0.05, 'ker...      -0.042129   \n5250   svm  {'C': 0.95, 'degree': 6, 'epsilon': 0.05, 'ker...      -0.042129   \n5058   svm  {'C': 0.95, 'degree': 3, 'epsilon': 0.05, 'ker...      -0.042129   \n841    svm  {'C': 0.4, 'degree': 3, 'epsilon': 0.15, 'kern...      -0.042235   \n4802   svm  {'C': 0.9, 'degree': 5, 'epsilon': 0.05, 'kern...      -0.042268   \n4866   svm  {'C': 0.9, 'degree': 6, 'epsilon': 0.05, 'kern...      -0.042268   \n4610   svm  {'C': 0.9, 'degree': 2, 'epsilon': 0.05, 'kern...      -0.042268   \n4674   svm  {'C': 0.9, 'degree': 3, 'epsilon': 0.05, 'kern...      -0.042268   \n4930   svm  {'C': 0.9, 'degree': 7, 'epsilon': 0.05, 'kern...      -0.042268   \n4738   svm  {'C': 0.9, 'degree': 4, 'epsilon': 0.05, 'kern...      -0.042268   \n5254   svm  {'C': 0.95, 'degree': 6, 'epsilon': 0.1, 'kern...      -0.042290   \n5318   svm  {'C': 0.95, 'degree': 7, 'epsilon': 0.1, 'kern...      -0.042290   \n5062   svm  {'C': 0.95, 'degree': 3, 'epsilon': 0.1, 'kern...      -0.042290   \n5190   svm  {'C': 0.95, 'degree': 5, 'epsilon': 0.1, 'kern...      -0.042290   \n\n      std_test_mse  mean_test_mae  std_test_mae  mean_test_r2  std_test_r2  \n1609      0.024712      -0.162121      0.055027     -0.481709     0.424583  \n1225      0.022755      -0.162799      0.048134     -0.474611     0.432661  \n1993      0.024948      -0.167170      0.053586     -0.477022     0.409063  \n5186      0.029533      -0.159901      0.063866     -0.497090     0.366750  \n4994      0.029533      -0.159901      0.063866     -0.497090     0.366750  \n5314      0.029533      -0.159901      0.063866     -0.497090     0.366750  \n5122      0.029533      -0.159901      0.063866     -0.497090     0.366750  \n5250      0.029533      -0.159901      0.063866     -0.497090     0.366750  \n5058      0.029533      -0.159901      0.063866     -0.497090     0.366750  \n841       0.023728      -0.166989      0.050502     -0.456645     0.436461  \n4802      0.029912      -0.159726      0.064548     -0.494603     0.372723  \n4866      0.029912      -0.159726      0.064548     -0.494603     0.372723  \n4610      0.029912      -0.159726      0.064548     -0.494603     0.372723  \n4674      0.029912      -0.159726      0.064548     -0.494603     0.372723  \n4930      0.029912      -0.159726      0.064548     -0.494603     0.372723  \n4738      0.029912      -0.159726      0.064548     -0.494603     0.372723  \n5254      0.029005      -0.167330      0.061050     -0.494077     0.368286  \n5318      0.029005      -0.167330      0.061050     -0.494077     0.368286  \n5062      0.029005      -0.167330      0.061050     -0.494077     0.368286  \n5190      0.029005      -0.167330      0.061050     -0.494077     0.368286  ",
      "text/html": "<div>\n<style scoped>\n    .dataframe tbody tr th:only-of-type {\n        vertical-align: middle;\n    }\n\n    .dataframe tbody tr th {\n        vertical-align: top;\n    }\n\n    .dataframe thead th {\n        text-align: right;\n    }\n</style>\n<table border=\"1\" class=\"dataframe\">\n  <thead>\n    <tr style=\"text-align: right;\">\n      <th></th>\n      <th>model</th>\n      <th>params</th>\n      <th>mean_test_mse</th>\n      <th>std_test_mse</th>\n      <th>mean_test_mae</th>\n      <th>std_test_mae</th>\n      <th>mean_test_r2</th>\n      <th>std_test_r2</th>\n    </tr>\n  </thead>\n  <tbody>\n    <tr>\n      <th>1609</th>\n      <td>svm</td>\n      <td>{'C': 0.5, 'degree': 3, 'epsilon': 0.15, 'kern...</td>\n      <td>-0.039848</td>\n      <td>0.024712</td>\n      <td>-0.162121</td>\n      <td>0.055027</td>\n      <td>-0.481709</td>\n      <td>0.424583</td>\n    </tr>\n    <tr>\n      <th>1225</th>\n      <td>svm</td>\n      <td>{'C': 0.45, 'degree': 3, 'epsilon': 0.15, 'ker...</td>\n      <td>-0.039919</td>\n      <td>0.022755</td>\n      <td>-0.162799</td>\n      <td>0.048134</td>\n      <td>-0.474611</td>\n      <td>0.432661</td>\n    </tr>\n    <tr>\n      <th>1993</th>\n      <td>svm</td>\n      <td>{'C': 0.55, 'degree': 3, 'epsilon': 0.15, 'ker...</td>\n      <td>-0.040961</td>\n      <td>0.024948</td>\n      <td>-0.167170</td>\n      <td>0.053586</td>\n      <td>-0.477022</td>\n      <td>0.409063</td>\n    </tr>\n    <tr>\n      <th>5186</th>\n      <td>svm</td>\n      <td>{'C': 0.95, 'degree': 5, 'epsilon': 0.05, 'ker...</td>\n      <td>-0.042129</td>\n      <td>0.029533</td>\n      <td>-0.159901</td>\n      <td>0.063866</td>\n      <td>-0.497090</td>\n      <td>0.366750</td>\n    </tr>\n    <tr>\n      <th>4994</th>\n      <td>svm</td>\n      <td>{'C': 0.95, 'degree': 2, 'epsilon': 0.05, 'ker...</td>\n      <td>-0.042129</td>\n      <td>0.029533</td>\n      <td>-0.159901</td>\n      <td>0.063866</td>\n      <td>-0.497090</td>\n      <td>0.366750</td>\n    </tr>\n    <tr>\n      <th>5314</th>\n      <td>svm</td>\n      <td>{'C': 0.95, 'degree': 7, 'epsilon': 0.05, 'ker...</td>\n      <td>-0.042129</td>\n      <td>0.029533</td>\n      <td>-0.159901</td>\n      <td>0.063866</td>\n      <td>-0.497090</td>\n      <td>0.366750</td>\n    </tr>\n    <tr>\n      <th>5122</th>\n      <td>svm</td>\n      <td>{'C': 0.95, 'degree': 4, 'epsilon': 0.05, 'ker...</td>\n      <td>-0.042129</td>\n      <td>0.029533</td>\n      <td>-0.159901</td>\n      <td>0.063866</td>\n      <td>-0.497090</td>\n      <td>0.366750</td>\n    </tr>\n    <tr>\n      <th>5250</th>\n      <td>svm</td>\n      <td>{'C': 0.95, 'degree': 6, 'epsilon': 0.05, 'ker...</td>\n      <td>-0.042129</td>\n      <td>0.029533</td>\n      <td>-0.159901</td>\n      <td>0.063866</td>\n      <td>-0.497090</td>\n      <td>0.366750</td>\n    </tr>\n    <tr>\n      <th>5058</th>\n      <td>svm</td>\n      <td>{'C': 0.95, 'degree': 3, 'epsilon': 0.05, 'ker...</td>\n      <td>-0.042129</td>\n      <td>0.029533</td>\n      <td>-0.159901</td>\n      <td>0.063866</td>\n      <td>-0.497090</td>\n      <td>0.366750</td>\n    </tr>\n    <tr>\n      <th>841</th>\n      <td>svm</td>\n      <td>{'C': 0.4, 'degree': 3, 'epsilon': 0.15, 'kern...</td>\n      <td>-0.042235</td>\n      <td>0.023728</td>\n      <td>-0.166989</td>\n      <td>0.050502</td>\n      <td>-0.456645</td>\n      <td>0.436461</td>\n    </tr>\n    <tr>\n      <th>4802</th>\n      <td>svm</td>\n      <td>{'C': 0.9, 'degree': 5, 'epsilon': 0.05, 'kern...</td>\n      <td>-0.042268</td>\n      <td>0.029912</td>\n      <td>-0.159726</td>\n      <td>0.064548</td>\n      <td>-0.494603</td>\n      <td>0.372723</td>\n    </tr>\n    <tr>\n      <th>4866</th>\n      <td>svm</td>\n      <td>{'C': 0.9, 'degree': 6, 'epsilon': 0.05, 'kern...</td>\n      <td>-0.042268</td>\n      <td>0.029912</td>\n      <td>-0.159726</td>\n      <td>0.064548</td>\n      <td>-0.494603</td>\n      <td>0.372723</td>\n    </tr>\n    <tr>\n      <th>4610</th>\n      <td>svm</td>\n      <td>{'C': 0.9, 'degree': 2, 'epsilon': 0.05, 'kern...</td>\n      <td>-0.042268</td>\n      <td>0.029912</td>\n      <td>-0.159726</td>\n      <td>0.064548</td>\n      <td>-0.494603</td>\n      <td>0.372723</td>\n    </tr>\n    <tr>\n      <th>4674</th>\n      <td>svm</td>\n      <td>{'C': 0.9, 'degree': 3, 'epsilon': 0.05, 'kern...</td>\n      <td>-0.042268</td>\n      <td>0.029912</td>\n      <td>-0.159726</td>\n      <td>0.064548</td>\n      <td>-0.494603</td>\n      <td>0.372723</td>\n    </tr>\n    <tr>\n      <th>4930</th>\n      <td>svm</td>\n      <td>{'C': 0.9, 'degree': 7, 'epsilon': 0.05, 'kern...</td>\n      <td>-0.042268</td>\n      <td>0.029912</td>\n      <td>-0.159726</td>\n      <td>0.064548</td>\n      <td>-0.494603</td>\n      <td>0.372723</td>\n    </tr>\n    <tr>\n      <th>4738</th>\n      <td>svm</td>\n      <td>{'C': 0.9, 'degree': 4, 'epsilon': 0.05, 'kern...</td>\n      <td>-0.042268</td>\n      <td>0.029912</td>\n      <td>-0.159726</td>\n      <td>0.064548</td>\n      <td>-0.494603</td>\n      <td>0.372723</td>\n    </tr>\n    <tr>\n      <th>5254</th>\n      <td>svm</td>\n      <td>{'C': 0.95, 'degree': 6, 'epsilon': 0.1, 'kern...</td>\n      <td>-0.042290</td>\n      <td>0.029005</td>\n      <td>-0.167330</td>\n      <td>0.061050</td>\n      <td>-0.494077</td>\n      <td>0.368286</td>\n    </tr>\n    <tr>\n      <th>5318</th>\n      <td>svm</td>\n      <td>{'C': 0.95, 'degree': 7, 'epsilon': 0.1, 'kern...</td>\n      <td>-0.042290</td>\n      <td>0.029005</td>\n      <td>-0.167330</td>\n      <td>0.061050</td>\n      <td>-0.494077</td>\n      <td>0.368286</td>\n    </tr>\n    <tr>\n      <th>5062</th>\n      <td>svm</td>\n      <td>{'C': 0.95, 'degree': 3, 'epsilon': 0.1, 'kern...</td>\n      <td>-0.042290</td>\n      <td>0.029005</td>\n      <td>-0.167330</td>\n      <td>0.061050</td>\n      <td>-0.494077</td>\n      <td>0.368286</td>\n    </tr>\n    <tr>\n      <th>5190</th>\n      <td>svm</td>\n      <td>{'C': 0.95, 'degree': 5, 'epsilon': 0.1, 'kern...</td>\n      <td>-0.042290</td>\n      <td>0.029005</td>\n      <td>-0.167330</td>\n      <td>0.061050</td>\n      <td>-0.494077</td>\n      <td>0.368286</td>\n    </tr>\n  </tbody>\n</table>\n</div>"
     },
     "metadata": {},
     "execution_count": 14
    }
   ],
   "source": [
    "grid_search_df.sort_values('mean_test_mse', ascending=False).head(20)"
   ]
  },
  {
   "cell_type": "code",
   "execution_count": 15,
   "metadata": {},
   "outputs": [
    {
     "output_type": "execute_result",
     "data": {
      "text/plain": "array([\"{'C': 0.5, 'degree': 3, 'epsilon': 0.15, 'kernel': 'poly'}\",\n       \"{'C': 0.45, 'degree': 3, 'epsilon': 0.15, 'kernel': 'poly'}\",\n       \"{'C': 0.55, 'degree': 3, 'epsilon': 0.15, 'kernel': 'poly'}\",\n       \"{'C': 0.95, 'degree': 5, 'epsilon': 0.05, 'kernel': 'rbf'}\",\n       \"{'C': 0.95, 'degree': 2, 'epsilon': 0.05, 'kernel': 'rbf'}\",\n       \"{'C': 0.95, 'degree': 7, 'epsilon': 0.05, 'kernel': 'rbf'}\",\n       \"{'C': 0.95, 'degree': 4, 'epsilon': 0.05, 'kernel': 'rbf'}\",\n       \"{'C': 0.95, 'degree': 6, 'epsilon': 0.05, 'kernel': 'rbf'}\",\n       \"{'C': 0.95, 'degree': 3, 'epsilon': 0.05, 'kernel': 'rbf'}\",\n       \"{'C': 0.4, 'degree': 3, 'epsilon': 0.15, 'kernel': 'poly'}\",\n       \"{'C': 0.9, 'degree': 5, 'epsilon': 0.05, 'kernel': 'rbf'}\",\n       \"{'C': 0.9, 'degree': 6, 'epsilon': 0.05, 'kernel': 'rbf'}\",\n       \"{'C': 0.9, 'degree': 2, 'epsilon': 0.05, 'kernel': 'rbf'}\",\n       \"{'C': 0.9, 'degree': 3, 'epsilon': 0.05, 'kernel': 'rbf'}\",\n       \"{'C': 0.9, 'degree': 7, 'epsilon': 0.05, 'kernel': 'rbf'}\",\n       \"{'C': 0.9, 'degree': 4, 'epsilon': 0.05, 'kernel': 'rbf'}\",\n       \"{'C': 0.95, 'degree': 6, 'epsilon': 0.1, 'kernel': 'rbf'}\",\n       \"{'C': 0.95, 'degree': 7, 'epsilon': 0.1, 'kernel': 'rbf'}\",\n       \"{'C': 0.95, 'degree': 3, 'epsilon': 0.1, 'kernel': 'rbf'}\",\n       \"{'C': 0.95, 'degree': 5, 'epsilon': 0.1, 'kernel': 'rbf'}\"],\n      dtype=object)"
     },
     "metadata": {},
     "execution_count": 15
    }
   ],
   "source": [
    "grid_search_df.sort_values('mean_test_mse', ascending=False)[\"params\"].head(20).values\n"
   ]
  },
  {
   "cell_type": "markdown",
   "metadata": {},
   "source": [
    "# KNN Regressor"
   ]
  },
  {
   "cell_type": "code",
   "execution_count": 16,
   "metadata": {},
   "outputs": [],
   "source": [
    "PATH = 'knn_grid_search_results.csv'\n"
   ]
  },
  {
   "cell_type": "code",
   "execution_count": 17,
   "metadata": {},
   "outputs": [],
   "source": [
    "grid_search_df = pd.read_csv(PATH)\n",
    "grid_search_df[\"model\"] = \"knn\"\n",
    "grid_search_df = grid_search_df[[\"model\", 'params', 'mean_test_mse', 'std_test_mse', 'mean_test_mae', 'std_test_mae', 'mean_test_r2', 'std_test_r2']]\n",
    "summary_df = summary_df.append(grid_search_df.sort_values('mean_test_mse', ascending=False).iloc[0], ignore_index=True)"
   ]
  },
  {
   "cell_type": "code",
   "execution_count": 18,
   "metadata": {},
   "outputs": [
    {
     "output_type": "execute_result",
     "data": {
      "text/plain": "   model                                             params  mean_test_mse  \\\n4    knn  {'metric': 'minkowski', 'n_neighbors': 5, 'p': 1}      -0.041718   \n5    knn  {'metric': 'minkowski', 'n_neighbors': 5, 'p': 2}      -0.046062   \n6    knn  {'metric': 'minkowski', 'n_neighbors': 7, 'p': 1}      -0.048316   \n7    knn  {'metric': 'minkowski', 'n_neighbors': 7, 'p': 2}      -0.055519   \n2    knn  {'metric': 'minkowski', 'n_neighbors': 3, 'p': 1}      -0.055793   \n8    knn  {'metric': 'minkowski', 'n_neighbors': 9, 'p': 1}      -0.057323   \n3    knn  {'metric': 'minkowski', 'n_neighbors': 3, 'p': 2}      -0.057586   \n14   knn  {'metric': 'chebyshev', 'n_neighbors': 3, 'p': 1}      -0.060067   \n15   knn  {'metric': 'chebyshev', 'n_neighbors': 3, 'p': 2}      -0.060067   \n9    knn  {'metric': 'minkowski', 'n_neighbors': 9, 'p': 2}      -0.060876   \n10   knn  {'metric': 'minkowski', 'n_neighbors': 11, 'p'...      -0.062922   \n16   knn  {'metric': 'chebyshev', 'n_neighbors': 5, 'p': 1}      -0.063895   \n17   knn  {'metric': 'chebyshev', 'n_neighbors': 5, 'p': 2}      -0.063895   \n11   knn  {'metric': 'minkowski', 'n_neighbors': 11, 'p'...      -0.065828   \n19   knn  {'metric': 'chebyshev', 'n_neighbors': 7, 'p': 2}      -0.069737   \n18   knn  {'metric': 'chebyshev', 'n_neighbors': 7, 'p': 1}      -0.069737   \n0    knn  {'metric': 'minkowski', 'n_neighbors': 1, 'p': 1}      -0.074055   \n12   knn  {'metric': 'chebyshev', 'n_neighbors': 1, 'p': 1}      -0.075134   \n13   knn  {'metric': 'chebyshev', 'n_neighbors': 1, 'p': 2}      -0.075134   \n1    knn  {'metric': 'minkowski', 'n_neighbors': 1, 'p': 2}      -0.075844   \n20   knn  {'metric': 'chebyshev', 'n_neighbors': 9, 'p': 1}      -0.076884   \n21   knn  {'metric': 'chebyshev', 'n_neighbors': 9, 'p': 2}      -0.076884   \n22   knn  {'metric': 'chebyshev', 'n_neighbors': 11, 'p'...      -0.078304   \n23   knn  {'metric': 'chebyshev', 'n_neighbors': 11, 'p'...      -0.078304   \n\n    std_test_mse  mean_test_mae  std_test_mae  mean_test_r2  std_test_r2  \n4       0.039032      -0.160337      0.060517     -0.560509     0.329229  \n5       0.040851      -0.165205      0.069885     -0.538080     0.323348  \n6       0.031518      -0.177532      0.052944     -0.486438     0.238821  \n7       0.043127      -0.181053      0.060592     -0.429552     0.297053  \n2       0.052328      -0.178227      0.078582     -0.375317     0.543598  \n8       0.037653      -0.191874      0.051671     -0.393394     0.248237  \n3       0.052743      -0.179731      0.066135     -0.389290     0.425585  \n14      0.039642      -0.200156      0.076229     -0.340553     0.384358  \n15      0.039642      -0.200156      0.076229     -0.340553     0.384358  \n9       0.034642      -0.199967      0.041330     -0.325137     0.263740  \n10      0.036174      -0.207678      0.049584     -0.332339     0.244321  \n16      0.036195      -0.204419      0.050942     -0.290983     0.271502  \n17      0.036195      -0.204419      0.050942     -0.290983     0.271502  \n11      0.036913      -0.211724      0.052676     -0.299923     0.234968  \n19      0.053050      -0.217179      0.064426     -0.236669     0.401747  \n18      0.053050      -0.217179      0.064426     -0.236669     0.401747  \n0       0.062426      -0.182501      0.076440     -0.012383     1.109544  \n12      0.077882      -0.198257      0.107416     -0.227287     0.585800  \n13      0.077882      -0.198257      0.107416     -0.227287     0.585800  \n1       0.061716      -0.192810      0.093071     -0.022612     1.094625  \n20      0.045595      -0.223982      0.054466     -0.119571     0.397480  \n21      0.045595      -0.223982      0.054466     -0.119571     0.397480  \n22      0.039149      -0.229698      0.051951     -0.118265     0.325229  \n23      0.039149      -0.229698      0.051951     -0.118265     0.325229  ",
      "text/html": "<div>\n<style scoped>\n    .dataframe tbody tr th:only-of-type {\n        vertical-align: middle;\n    }\n\n    .dataframe tbody tr th {\n        vertical-align: top;\n    }\n\n    .dataframe thead th {\n        text-align: right;\n    }\n</style>\n<table border=\"1\" class=\"dataframe\">\n  <thead>\n    <tr style=\"text-align: right;\">\n      <th></th>\n      <th>model</th>\n      <th>params</th>\n      <th>mean_test_mse</th>\n      <th>std_test_mse</th>\n      <th>mean_test_mae</th>\n      <th>std_test_mae</th>\n      <th>mean_test_r2</th>\n      <th>std_test_r2</th>\n    </tr>\n  </thead>\n  <tbody>\n    <tr>\n      <th>4</th>\n      <td>knn</td>\n      <td>{'metric': 'minkowski', 'n_neighbors': 5, 'p': 1}</td>\n      <td>-0.041718</td>\n      <td>0.039032</td>\n      <td>-0.160337</td>\n      <td>0.060517</td>\n      <td>-0.560509</td>\n      <td>0.329229</td>\n    </tr>\n    <tr>\n      <th>5</th>\n      <td>knn</td>\n      <td>{'metric': 'minkowski', 'n_neighbors': 5, 'p': 2}</td>\n      <td>-0.046062</td>\n      <td>0.040851</td>\n      <td>-0.165205</td>\n      <td>0.069885</td>\n      <td>-0.538080</td>\n      <td>0.323348</td>\n    </tr>\n    <tr>\n      <th>6</th>\n      <td>knn</td>\n      <td>{'metric': 'minkowski', 'n_neighbors': 7, 'p': 1}</td>\n      <td>-0.048316</td>\n      <td>0.031518</td>\n      <td>-0.177532</td>\n      <td>0.052944</td>\n      <td>-0.486438</td>\n      <td>0.238821</td>\n    </tr>\n    <tr>\n      <th>7</th>\n      <td>knn</td>\n      <td>{'metric': 'minkowski', 'n_neighbors': 7, 'p': 2}</td>\n      <td>-0.055519</td>\n      <td>0.043127</td>\n      <td>-0.181053</td>\n      <td>0.060592</td>\n      <td>-0.429552</td>\n      <td>0.297053</td>\n    </tr>\n    <tr>\n      <th>2</th>\n      <td>knn</td>\n      <td>{'metric': 'minkowski', 'n_neighbors': 3, 'p': 1}</td>\n      <td>-0.055793</td>\n      <td>0.052328</td>\n      <td>-0.178227</td>\n      <td>0.078582</td>\n      <td>-0.375317</td>\n      <td>0.543598</td>\n    </tr>\n    <tr>\n      <th>8</th>\n      <td>knn</td>\n      <td>{'metric': 'minkowski', 'n_neighbors': 9, 'p': 1}</td>\n      <td>-0.057323</td>\n      <td>0.037653</td>\n      <td>-0.191874</td>\n      <td>0.051671</td>\n      <td>-0.393394</td>\n      <td>0.248237</td>\n    </tr>\n    <tr>\n      <th>3</th>\n      <td>knn</td>\n      <td>{'metric': 'minkowski', 'n_neighbors': 3, 'p': 2}</td>\n      <td>-0.057586</td>\n      <td>0.052743</td>\n      <td>-0.179731</td>\n      <td>0.066135</td>\n      <td>-0.389290</td>\n      <td>0.425585</td>\n    </tr>\n    <tr>\n      <th>14</th>\n      <td>knn</td>\n      <td>{'metric': 'chebyshev', 'n_neighbors': 3, 'p': 1}</td>\n      <td>-0.060067</td>\n      <td>0.039642</td>\n      <td>-0.200156</td>\n      <td>0.076229</td>\n      <td>-0.340553</td>\n      <td>0.384358</td>\n    </tr>\n    <tr>\n      <th>15</th>\n      <td>knn</td>\n      <td>{'metric': 'chebyshev', 'n_neighbors': 3, 'p': 2}</td>\n      <td>-0.060067</td>\n      <td>0.039642</td>\n      <td>-0.200156</td>\n      <td>0.076229</td>\n      <td>-0.340553</td>\n      <td>0.384358</td>\n    </tr>\n    <tr>\n      <th>9</th>\n      <td>knn</td>\n      <td>{'metric': 'minkowski', 'n_neighbors': 9, 'p': 2}</td>\n      <td>-0.060876</td>\n      <td>0.034642</td>\n      <td>-0.199967</td>\n      <td>0.041330</td>\n      <td>-0.325137</td>\n      <td>0.263740</td>\n    </tr>\n    <tr>\n      <th>10</th>\n      <td>knn</td>\n      <td>{'metric': 'minkowski', 'n_neighbors': 11, 'p'...</td>\n      <td>-0.062922</td>\n      <td>0.036174</td>\n      <td>-0.207678</td>\n      <td>0.049584</td>\n      <td>-0.332339</td>\n      <td>0.244321</td>\n    </tr>\n    <tr>\n      <th>16</th>\n      <td>knn</td>\n      <td>{'metric': 'chebyshev', 'n_neighbors': 5, 'p': 1}</td>\n      <td>-0.063895</td>\n      <td>0.036195</td>\n      <td>-0.204419</td>\n      <td>0.050942</td>\n      <td>-0.290983</td>\n      <td>0.271502</td>\n    </tr>\n    <tr>\n      <th>17</th>\n      <td>knn</td>\n      <td>{'metric': 'chebyshev', 'n_neighbors': 5, 'p': 2}</td>\n      <td>-0.063895</td>\n      <td>0.036195</td>\n      <td>-0.204419</td>\n      <td>0.050942</td>\n      <td>-0.290983</td>\n      <td>0.271502</td>\n    </tr>\n    <tr>\n      <th>11</th>\n      <td>knn</td>\n      <td>{'metric': 'minkowski', 'n_neighbors': 11, 'p'...</td>\n      <td>-0.065828</td>\n      <td>0.036913</td>\n      <td>-0.211724</td>\n      <td>0.052676</td>\n      <td>-0.299923</td>\n      <td>0.234968</td>\n    </tr>\n    <tr>\n      <th>19</th>\n      <td>knn</td>\n      <td>{'metric': 'chebyshev', 'n_neighbors': 7, 'p': 2}</td>\n      <td>-0.069737</td>\n      <td>0.053050</td>\n      <td>-0.217179</td>\n      <td>0.064426</td>\n      <td>-0.236669</td>\n      <td>0.401747</td>\n    </tr>\n    <tr>\n      <th>18</th>\n      <td>knn</td>\n      <td>{'metric': 'chebyshev', 'n_neighbors': 7, 'p': 1}</td>\n      <td>-0.069737</td>\n      <td>0.053050</td>\n      <td>-0.217179</td>\n      <td>0.064426</td>\n      <td>-0.236669</td>\n      <td>0.401747</td>\n    </tr>\n    <tr>\n      <th>0</th>\n      <td>knn</td>\n      <td>{'metric': 'minkowski', 'n_neighbors': 1, 'p': 1}</td>\n      <td>-0.074055</td>\n      <td>0.062426</td>\n      <td>-0.182501</td>\n      <td>0.076440</td>\n      <td>-0.012383</td>\n      <td>1.109544</td>\n    </tr>\n    <tr>\n      <th>12</th>\n      <td>knn</td>\n      <td>{'metric': 'chebyshev', 'n_neighbors': 1, 'p': 1}</td>\n      <td>-0.075134</td>\n      <td>0.077882</td>\n      <td>-0.198257</td>\n      <td>0.107416</td>\n      <td>-0.227287</td>\n      <td>0.585800</td>\n    </tr>\n    <tr>\n      <th>13</th>\n      <td>knn</td>\n      <td>{'metric': 'chebyshev', 'n_neighbors': 1, 'p': 2}</td>\n      <td>-0.075134</td>\n      <td>0.077882</td>\n      <td>-0.198257</td>\n      <td>0.107416</td>\n      <td>-0.227287</td>\n      <td>0.585800</td>\n    </tr>\n    <tr>\n      <th>1</th>\n      <td>knn</td>\n      <td>{'metric': 'minkowski', 'n_neighbors': 1, 'p': 2}</td>\n      <td>-0.075844</td>\n      <td>0.061716</td>\n      <td>-0.192810</td>\n      <td>0.093071</td>\n      <td>-0.022612</td>\n      <td>1.094625</td>\n    </tr>\n    <tr>\n      <th>20</th>\n      <td>knn</td>\n      <td>{'metric': 'chebyshev', 'n_neighbors': 9, 'p': 1}</td>\n      <td>-0.076884</td>\n      <td>0.045595</td>\n      <td>-0.223982</td>\n      <td>0.054466</td>\n      <td>-0.119571</td>\n      <td>0.397480</td>\n    </tr>\n    <tr>\n      <th>21</th>\n      <td>knn</td>\n      <td>{'metric': 'chebyshev', 'n_neighbors': 9, 'p': 2}</td>\n      <td>-0.076884</td>\n      <td>0.045595</td>\n      <td>-0.223982</td>\n      <td>0.054466</td>\n      <td>-0.119571</td>\n      <td>0.397480</td>\n    </tr>\n    <tr>\n      <th>22</th>\n      <td>knn</td>\n      <td>{'metric': 'chebyshev', 'n_neighbors': 11, 'p'...</td>\n      <td>-0.078304</td>\n      <td>0.039149</td>\n      <td>-0.229698</td>\n      <td>0.051951</td>\n      <td>-0.118265</td>\n      <td>0.325229</td>\n    </tr>\n    <tr>\n      <th>23</th>\n      <td>knn</td>\n      <td>{'metric': 'chebyshev', 'n_neighbors': 11, 'p'...</td>\n      <td>-0.078304</td>\n      <td>0.039149</td>\n      <td>-0.229698</td>\n      <td>0.051951</td>\n      <td>-0.118265</td>\n      <td>0.325229</td>\n    </tr>\n  </tbody>\n</table>\n</div>"
     },
     "metadata": {},
     "execution_count": 18
    }
   ],
   "source": [
    "grid_search_df.sort_values('mean_test_mse', ascending=False)"
   ]
  },
  {
   "cell_type": "markdown",
   "metadata": {},
   "source": [
    "# Lasso Regressor"
   ]
  },
  {
   "cell_type": "code",
   "execution_count": 19,
   "metadata": {},
   "outputs": [],
   "source": [
    "PATH = 'lasso_grid_search_results.csv'"
   ]
  },
  {
   "cell_type": "code",
   "execution_count": 20,
   "metadata": {},
   "outputs": [],
   "source": [
    "grid_search_df = pd.read_csv(PATH)\n",
    "grid_search_df[\"model\"] = \"lasso\"\n",
    "grid_search_df = grid_search_df[[\"model\", 'params', 'mean_test_mse', 'std_test_mse', 'mean_test_mae', 'std_test_mae', 'mean_test_r2', 'std_test_r2']]\n",
    "summary_df = summary_df.append(grid_search_df.sort_values('mean_test_mse', ascending=False).iloc[0], ignore_index=True)"
   ]
  },
  {
   "cell_type": "code",
   "execution_count": 21,
   "metadata": {},
   "outputs": [
    {
     "output_type": "execute_result",
     "data": {
      "text/plain": "    model           params  mean_test_mse  std_test_mse  mean_test_mae  \\\n0   lasso  {'alpha': 0.01}      -0.084292      0.032887      -0.248897   \n1   lasso  {'alpha': 0.05}      -0.099114      0.036789      -0.277631   \n2   lasso   {'alpha': 0.1}      -0.099114      0.036789      -0.277631   \n3   lasso   {'alpha': 0.2}      -0.099114      0.036789      -0.277631   \n4   lasso   {'alpha': 0.3}      -0.099114      0.036789      -0.277631   \n5   lasso   {'alpha': 0.4}      -0.099114      0.036789      -0.277631   \n6   lasso   {'alpha': 0.5}      -0.099114      0.036789      -0.277631   \n7   lasso   {'alpha': 0.6}      -0.099114      0.036789      -0.277631   \n8   lasso   {'alpha': 0.7}      -0.099114      0.036789      -0.277631   \n9   lasso   {'alpha': 0.8}      -0.099114      0.036789      -0.277631   \n10  lasso   {'alpha': 0.9}      -0.099114      0.036789      -0.277631   \n11  lasso     {'alpha': 1}      -0.099114      0.036789      -0.277631   \n12  lasso     {'alpha': 2}      -0.099114      0.036789      -0.277631   \n13  lasso     {'alpha': 3}      -0.099114      0.036789      -0.277631   \n14  lasso     {'alpha': 5}      -0.099114      0.036789      -0.277631   \n15  lasso     {'alpha': 7}      -0.099114      0.036789      -0.277631   \n\n    std_test_mae  mean_test_r2  std_test_r2  \n0       0.045355     -0.058308     0.263497  \n1       0.056755      0.065749     0.069789  \n2       0.056755      0.065749     0.069789  \n3       0.056755      0.065749     0.069789  \n4       0.056755      0.065749     0.069789  \n5       0.056755      0.065749     0.069789  \n6       0.056755      0.065749     0.069789  \n7       0.056755      0.065749     0.069789  \n8       0.056755      0.065749     0.069789  \n9       0.056755      0.065749     0.069789  \n10      0.056755      0.065749     0.069789  \n11      0.056755      0.065749     0.069789  \n12      0.056755      0.065749     0.069789  \n13      0.056755      0.065749     0.069789  \n14      0.056755      0.065749     0.069789  \n15      0.056755      0.065749     0.069789  ",
      "text/html": "<div>\n<style scoped>\n    .dataframe tbody tr th:only-of-type {\n        vertical-align: middle;\n    }\n\n    .dataframe tbody tr th {\n        vertical-align: top;\n    }\n\n    .dataframe thead th {\n        text-align: right;\n    }\n</style>\n<table border=\"1\" class=\"dataframe\">\n  <thead>\n    <tr style=\"text-align: right;\">\n      <th></th>\n      <th>model</th>\n      <th>params</th>\n      <th>mean_test_mse</th>\n      <th>std_test_mse</th>\n      <th>mean_test_mae</th>\n      <th>std_test_mae</th>\n      <th>mean_test_r2</th>\n      <th>std_test_r2</th>\n    </tr>\n  </thead>\n  <tbody>\n    <tr>\n      <th>0</th>\n      <td>lasso</td>\n      <td>{'alpha': 0.01}</td>\n      <td>-0.084292</td>\n      <td>0.032887</td>\n      <td>-0.248897</td>\n      <td>0.045355</td>\n      <td>-0.058308</td>\n      <td>0.263497</td>\n    </tr>\n    <tr>\n      <th>1</th>\n      <td>lasso</td>\n      <td>{'alpha': 0.05}</td>\n      <td>-0.099114</td>\n      <td>0.036789</td>\n      <td>-0.277631</td>\n      <td>0.056755</td>\n      <td>0.065749</td>\n      <td>0.069789</td>\n    </tr>\n    <tr>\n      <th>2</th>\n      <td>lasso</td>\n      <td>{'alpha': 0.1}</td>\n      <td>-0.099114</td>\n      <td>0.036789</td>\n      <td>-0.277631</td>\n      <td>0.056755</td>\n      <td>0.065749</td>\n      <td>0.069789</td>\n    </tr>\n    <tr>\n      <th>3</th>\n      <td>lasso</td>\n      <td>{'alpha': 0.2}</td>\n      <td>-0.099114</td>\n      <td>0.036789</td>\n      <td>-0.277631</td>\n      <td>0.056755</td>\n      <td>0.065749</td>\n      <td>0.069789</td>\n    </tr>\n    <tr>\n      <th>4</th>\n      <td>lasso</td>\n      <td>{'alpha': 0.3}</td>\n      <td>-0.099114</td>\n      <td>0.036789</td>\n      <td>-0.277631</td>\n      <td>0.056755</td>\n      <td>0.065749</td>\n      <td>0.069789</td>\n    </tr>\n    <tr>\n      <th>5</th>\n      <td>lasso</td>\n      <td>{'alpha': 0.4}</td>\n      <td>-0.099114</td>\n      <td>0.036789</td>\n      <td>-0.277631</td>\n      <td>0.056755</td>\n      <td>0.065749</td>\n      <td>0.069789</td>\n    </tr>\n    <tr>\n      <th>6</th>\n      <td>lasso</td>\n      <td>{'alpha': 0.5}</td>\n      <td>-0.099114</td>\n      <td>0.036789</td>\n      <td>-0.277631</td>\n      <td>0.056755</td>\n      <td>0.065749</td>\n      <td>0.069789</td>\n    </tr>\n    <tr>\n      <th>7</th>\n      <td>lasso</td>\n      <td>{'alpha': 0.6}</td>\n      <td>-0.099114</td>\n      <td>0.036789</td>\n      <td>-0.277631</td>\n      <td>0.056755</td>\n      <td>0.065749</td>\n      <td>0.069789</td>\n    </tr>\n    <tr>\n      <th>8</th>\n      <td>lasso</td>\n      <td>{'alpha': 0.7}</td>\n      <td>-0.099114</td>\n      <td>0.036789</td>\n      <td>-0.277631</td>\n      <td>0.056755</td>\n      <td>0.065749</td>\n      <td>0.069789</td>\n    </tr>\n    <tr>\n      <th>9</th>\n      <td>lasso</td>\n      <td>{'alpha': 0.8}</td>\n      <td>-0.099114</td>\n      <td>0.036789</td>\n      <td>-0.277631</td>\n      <td>0.056755</td>\n      <td>0.065749</td>\n      <td>0.069789</td>\n    </tr>\n    <tr>\n      <th>10</th>\n      <td>lasso</td>\n      <td>{'alpha': 0.9}</td>\n      <td>-0.099114</td>\n      <td>0.036789</td>\n      <td>-0.277631</td>\n      <td>0.056755</td>\n      <td>0.065749</td>\n      <td>0.069789</td>\n    </tr>\n    <tr>\n      <th>11</th>\n      <td>lasso</td>\n      <td>{'alpha': 1}</td>\n      <td>-0.099114</td>\n      <td>0.036789</td>\n      <td>-0.277631</td>\n      <td>0.056755</td>\n      <td>0.065749</td>\n      <td>0.069789</td>\n    </tr>\n    <tr>\n      <th>12</th>\n      <td>lasso</td>\n      <td>{'alpha': 2}</td>\n      <td>-0.099114</td>\n      <td>0.036789</td>\n      <td>-0.277631</td>\n      <td>0.056755</td>\n      <td>0.065749</td>\n      <td>0.069789</td>\n    </tr>\n    <tr>\n      <th>13</th>\n      <td>lasso</td>\n      <td>{'alpha': 3}</td>\n      <td>-0.099114</td>\n      <td>0.036789</td>\n      <td>-0.277631</td>\n      <td>0.056755</td>\n      <td>0.065749</td>\n      <td>0.069789</td>\n    </tr>\n    <tr>\n      <th>14</th>\n      <td>lasso</td>\n      <td>{'alpha': 5}</td>\n      <td>-0.099114</td>\n      <td>0.036789</td>\n      <td>-0.277631</td>\n      <td>0.056755</td>\n      <td>0.065749</td>\n      <td>0.069789</td>\n    </tr>\n    <tr>\n      <th>15</th>\n      <td>lasso</td>\n      <td>{'alpha': 7}</td>\n      <td>-0.099114</td>\n      <td>0.036789</td>\n      <td>-0.277631</td>\n      <td>0.056755</td>\n      <td>0.065749</td>\n      <td>0.069789</td>\n    </tr>\n  </tbody>\n</table>\n</div>"
     },
     "metadata": {},
     "execution_count": 21
    }
   ],
   "source": [
    "grid_search_df.sort_values('mean_test_mse', ascending=False)"
   ]
  },
  {
   "cell_type": "markdown",
   "metadata": {},
   "source": [
    "# Elastic Net "
   ]
  },
  {
   "cell_type": "code",
   "execution_count": 22,
   "metadata": {},
   "outputs": [],
   "source": [
    "PATH = 'elastic_net_grid_search_results.csv'"
   ]
  },
  {
   "cell_type": "code",
   "execution_count": 23,
   "metadata": {},
   "outputs": [],
   "source": [
    "grid_search_df = pd.read_csv(PATH)\n",
    "grid_search_df[\"model\"] = \"elastic_net\"\n",
    "grid_search_df = grid_search_df[[\"model\", 'params', 'mean_test_mse', 'std_test_mse', 'mean_test_mae', 'std_test_mae', 'mean_test_r2', 'std_test_r2']]\n",
    "summary_df = summary_df.append(grid_search_df.sort_values('mean_test_mse', ascending=False).iloc[0], ignore_index=True)"
   ]
  },
  {
   "cell_type": "code",
   "execution_count": 24,
   "metadata": {},
   "outputs": [
    {
     "output_type": "execute_result",
     "data": {
      "text/plain": "           model                            params  mean_test_mse  \\\n0    elastic_net     {'alpha': 0.1, 'l1_ratio': 0}      -0.087779   \n1    elastic_net  {'alpha': 0.1, 'l1_ratio': 0.05}      -0.091061   \n21   elastic_net     {'alpha': 0.2, 'l1_ratio': 0}      -0.092413   \n2    elastic_net   {'alpha': 0.1, 'l1_ratio': 0.1}      -0.094057   \n42   elastic_net     {'alpha': 0.3, 'l1_ratio': 0}      -0.094359   \n..           ...                               ...            ...   \n102  elastic_net   {'alpha': 0.5, 'l1_ratio': 0.9}      -0.099114   \n103  elastic_net  {'alpha': 0.5, 'l1_ratio': 0.95}      -0.099114   \n104  elastic_net     {'alpha': 0.5, 'l1_ratio': 1}      -0.099114   \n106  elastic_net  {'alpha': 0.6, 'l1_ratio': 0.05}      -0.099114   \n272  elastic_net       {'alpha': 5, 'l1_ratio': 1}      -0.099114   \n\n     std_test_mse  mean_test_mae  std_test_mae  mean_test_r2  std_test_r2  \n0        0.031645      -0.257896      0.044697     -0.038455     0.141915  \n1        0.033693      -0.263284      0.048807     -0.010428     0.120882  \n21       0.033616      -0.266459      0.049624      0.003360     0.104960  \n2        0.035040      -0.268194      0.052341      0.016544     0.098759  \n42       0.034506      -0.269832      0.051717      0.021240     0.091810  \n..            ...            ...           ...           ...          ...  \n102      0.036789      -0.277631      0.056755      0.065749     0.069789  \n103      0.036789      -0.277631      0.056755      0.065749     0.069789  \n104      0.036789      -0.277631      0.056755      0.065749     0.069789  \n106      0.036789      -0.277631      0.056755      0.065749     0.069789  \n272      0.036789      -0.277631      0.056755      0.065749     0.069789  \n\n[273 rows x 8 columns]",
      "text/html": "<div>\n<style scoped>\n    .dataframe tbody tr th:only-of-type {\n        vertical-align: middle;\n    }\n\n    .dataframe tbody tr th {\n        vertical-align: top;\n    }\n\n    .dataframe thead th {\n        text-align: right;\n    }\n</style>\n<table border=\"1\" class=\"dataframe\">\n  <thead>\n    <tr style=\"text-align: right;\">\n      <th></th>\n      <th>model</th>\n      <th>params</th>\n      <th>mean_test_mse</th>\n      <th>std_test_mse</th>\n      <th>mean_test_mae</th>\n      <th>std_test_mae</th>\n      <th>mean_test_r2</th>\n      <th>std_test_r2</th>\n    </tr>\n  </thead>\n  <tbody>\n    <tr>\n      <th>0</th>\n      <td>elastic_net</td>\n      <td>{'alpha': 0.1, 'l1_ratio': 0}</td>\n      <td>-0.087779</td>\n      <td>0.031645</td>\n      <td>-0.257896</td>\n      <td>0.044697</td>\n      <td>-0.038455</td>\n      <td>0.141915</td>\n    </tr>\n    <tr>\n      <th>1</th>\n      <td>elastic_net</td>\n      <td>{'alpha': 0.1, 'l1_ratio': 0.05}</td>\n      <td>-0.091061</td>\n      <td>0.033693</td>\n      <td>-0.263284</td>\n      <td>0.048807</td>\n      <td>-0.010428</td>\n      <td>0.120882</td>\n    </tr>\n    <tr>\n      <th>21</th>\n      <td>elastic_net</td>\n      <td>{'alpha': 0.2, 'l1_ratio': 0}</td>\n      <td>-0.092413</td>\n      <td>0.033616</td>\n      <td>-0.266459</td>\n      <td>0.049624</td>\n      <td>0.003360</td>\n      <td>0.104960</td>\n    </tr>\n    <tr>\n      <th>2</th>\n      <td>elastic_net</td>\n      <td>{'alpha': 0.1, 'l1_ratio': 0.1}</td>\n      <td>-0.094057</td>\n      <td>0.035040</td>\n      <td>-0.268194</td>\n      <td>0.052341</td>\n      <td>0.016544</td>\n      <td>0.098759</td>\n    </tr>\n    <tr>\n      <th>42</th>\n      <td>elastic_net</td>\n      <td>{'alpha': 0.3, 'l1_ratio': 0}</td>\n      <td>-0.094359</td>\n      <td>0.034506</td>\n      <td>-0.269832</td>\n      <td>0.051717</td>\n      <td>0.021240</td>\n      <td>0.091810</td>\n    </tr>\n    <tr>\n      <th>...</th>\n      <td>...</td>\n      <td>...</td>\n      <td>...</td>\n      <td>...</td>\n      <td>...</td>\n      <td>...</td>\n      <td>...</td>\n      <td>...</td>\n    </tr>\n    <tr>\n      <th>102</th>\n      <td>elastic_net</td>\n      <td>{'alpha': 0.5, 'l1_ratio': 0.9}</td>\n      <td>-0.099114</td>\n      <td>0.036789</td>\n      <td>-0.277631</td>\n      <td>0.056755</td>\n      <td>0.065749</td>\n      <td>0.069789</td>\n    </tr>\n    <tr>\n      <th>103</th>\n      <td>elastic_net</td>\n      <td>{'alpha': 0.5, 'l1_ratio': 0.95}</td>\n      <td>-0.099114</td>\n      <td>0.036789</td>\n      <td>-0.277631</td>\n      <td>0.056755</td>\n      <td>0.065749</td>\n      <td>0.069789</td>\n    </tr>\n    <tr>\n      <th>104</th>\n      <td>elastic_net</td>\n      <td>{'alpha': 0.5, 'l1_ratio': 1}</td>\n      <td>-0.099114</td>\n      <td>0.036789</td>\n      <td>-0.277631</td>\n      <td>0.056755</td>\n      <td>0.065749</td>\n      <td>0.069789</td>\n    </tr>\n    <tr>\n      <th>106</th>\n      <td>elastic_net</td>\n      <td>{'alpha': 0.6, 'l1_ratio': 0.05}</td>\n      <td>-0.099114</td>\n      <td>0.036789</td>\n      <td>-0.277631</td>\n      <td>0.056755</td>\n      <td>0.065749</td>\n      <td>0.069789</td>\n    </tr>\n    <tr>\n      <th>272</th>\n      <td>elastic_net</td>\n      <td>{'alpha': 5, 'l1_ratio': 1}</td>\n      <td>-0.099114</td>\n      <td>0.036789</td>\n      <td>-0.277631</td>\n      <td>0.056755</td>\n      <td>0.065749</td>\n      <td>0.069789</td>\n    </tr>\n  </tbody>\n</table>\n<p>273 rows × 8 columns</p>\n</div>"
     },
     "metadata": {},
     "execution_count": 24
    }
   ],
   "source": [
    "grid_search_df.sort_values('mean_test_mse', ascending=False)"
   ]
  },
  {
   "cell_type": "markdown",
   "metadata": {},
   "source": [
    "# Ridge"
   ]
  },
  {
   "cell_type": "code",
   "execution_count": 25,
   "metadata": {},
   "outputs": [],
   "source": [
    "PATH = 'ridge_grid_search_results.csv'"
   ]
  },
  {
   "cell_type": "code",
   "execution_count": 26,
   "metadata": {},
   "outputs": [],
   "source": [
    "grid_search_df = pd.read_csv(PATH)\n",
    "grid_search_df[\"model\"] = \"ridge\"\n",
    "grid_search_df = grid_search_df[[\"model\", 'params', 'mean_test_mse', 'std_test_mse', 'mean_test_mae', 'std_test_mae', 'mean_test_r2', 'std_test_r2']]\n",
    "summary_df = summary_df.append(grid_search_df.sort_values('mean_test_mse', ascending=False).iloc[0], ignore_index=True)"
   ]
  },
  {
   "cell_type": "code",
   "execution_count": 27,
   "metadata": {},
   "outputs": [
    {
     "output_type": "execute_result",
     "data": {
      "text/plain": "    model           params  mean_test_mse  std_test_mse  mean_test_mae  \\\n6   ridge   {'alpha': 0.5}      -0.072220      0.029134      -0.231458   \n5   ridge   {'alpha': 0.4}      -0.072247      0.031206      -0.229898   \n7   ridge   {'alpha': 0.6}      -0.072588      0.028228      -0.232878   \n4   ridge   {'alpha': 0.3}      -0.073122      0.035944      -0.228181   \n8   ridge   {'alpha': 0.7}      -0.073144      0.027855      -0.234173   \n9   ridge   {'alpha': 0.8}      -0.073787      0.027736      -0.235358   \n10  ridge   {'alpha': 0.9}      -0.074463      0.027744      -0.236447   \n11  ridge     {'alpha': 1}      -0.075143      0.027819      -0.237450   \n3   ridge   {'alpha': 0.2}      -0.075963      0.047006      -0.226296   \n12  ridge     {'alpha': 2}      -0.080783      0.029185      -0.244887   \n2   ridge   {'alpha': 0.1}      -0.084089      0.074211      -0.224237   \n13  ridge     {'alpha': 3}      -0.084399      0.030370      -0.251315   \n14  ridge     {'alpha': 4}      -0.086838      0.031275      -0.256046   \n15  ridge     {'alpha': 5}      -0.088587      0.031972      -0.259450   \n16  ridge     {'alpha': 6}      -0.089901      0.032519      -0.261920   \n17  ridge     {'alpha': 7}      -0.090924      0.032958      -0.263796   \n18  ridge     {'alpha': 8}      -0.091743      0.033317      -0.265270   \n19  ridge     {'alpha': 9}      -0.092413      0.033616      -0.266459   \n20  ridge    {'alpha': 10}      -0.092972      0.033868      -0.267439   \n1   ridge  {'alpha': 0.05}      -0.093274      0.102187      -0.223380   \n21  ridge    {'alpha': 13}      -0.094200      0.034432      -0.269561   \n22  ridge    {'alpha': 15}      -0.094779      0.034702      -0.270544   \n23  ridge    {'alpha': 17}      -0.095235      0.034916      -0.271314   \n0   ridge  {'alpha': 0.01}      -0.106605      0.139737      -0.225228   \n\n    std_test_mae  mean_test_r2  std_test_r2  \n6       0.044062     -0.177209     0.303173  \n5       0.046550     -0.179192     0.315203  \n7       0.042239     -0.172689     0.293837  \n4       0.050041     -0.175408     0.335655  \n8       0.040888     -0.167057     0.285485  \n9       0.039883     -0.160992     0.277605  \n10      0.039142     -0.154834     0.270054  \n11      0.038605     -0.148757     0.262804  \n3       0.055195     -0.157624     0.384358  \n12      0.037949     -0.099786     0.206461  \n2       0.063582     -0.100512     0.531422  \n13      0.040943     -0.068323     0.172169  \n14      0.043729     -0.046823     0.150120  \n15      0.045540     -0.031240     0.135033  \n16      0.046931     -0.019437     0.124192  \n17      0.048025     -0.010191     0.116099  \n18      0.048904     -0.002753     0.109871  \n19      0.049624      0.003360     0.104960  \n20      0.050225      0.008472     0.101006  \n1       0.070288     -0.032194     0.705861  \n21      0.051546      0.019776     0.092812  \n22      0.052167      0.025122     0.089225  \n23      0.052656      0.029354     0.086530  \n0       0.076483      0.071434     0.955675  ",
      "text/html": "<div>\n<style scoped>\n    .dataframe tbody tr th:only-of-type {\n        vertical-align: middle;\n    }\n\n    .dataframe tbody tr th {\n        vertical-align: top;\n    }\n\n    .dataframe thead th {\n        text-align: right;\n    }\n</style>\n<table border=\"1\" class=\"dataframe\">\n  <thead>\n    <tr style=\"text-align: right;\">\n      <th></th>\n      <th>model</th>\n      <th>params</th>\n      <th>mean_test_mse</th>\n      <th>std_test_mse</th>\n      <th>mean_test_mae</th>\n      <th>std_test_mae</th>\n      <th>mean_test_r2</th>\n      <th>std_test_r2</th>\n    </tr>\n  </thead>\n  <tbody>\n    <tr>\n      <th>6</th>\n      <td>ridge</td>\n      <td>{'alpha': 0.5}</td>\n      <td>-0.072220</td>\n      <td>0.029134</td>\n      <td>-0.231458</td>\n      <td>0.044062</td>\n      <td>-0.177209</td>\n      <td>0.303173</td>\n    </tr>\n    <tr>\n      <th>5</th>\n      <td>ridge</td>\n      <td>{'alpha': 0.4}</td>\n      <td>-0.072247</td>\n      <td>0.031206</td>\n      <td>-0.229898</td>\n      <td>0.046550</td>\n      <td>-0.179192</td>\n      <td>0.315203</td>\n    </tr>\n    <tr>\n      <th>7</th>\n      <td>ridge</td>\n      <td>{'alpha': 0.6}</td>\n      <td>-0.072588</td>\n      <td>0.028228</td>\n      <td>-0.232878</td>\n      <td>0.042239</td>\n      <td>-0.172689</td>\n      <td>0.293837</td>\n    </tr>\n    <tr>\n      <th>4</th>\n      <td>ridge</td>\n      <td>{'alpha': 0.3}</td>\n      <td>-0.073122</td>\n      <td>0.035944</td>\n      <td>-0.228181</td>\n      <td>0.050041</td>\n      <td>-0.175408</td>\n      <td>0.335655</td>\n    </tr>\n    <tr>\n      <th>8</th>\n      <td>ridge</td>\n      <td>{'alpha': 0.7}</td>\n      <td>-0.073144</td>\n      <td>0.027855</td>\n      <td>-0.234173</td>\n      <td>0.040888</td>\n      <td>-0.167057</td>\n      <td>0.285485</td>\n    </tr>\n    <tr>\n      <th>9</th>\n      <td>ridge</td>\n      <td>{'alpha': 0.8}</td>\n      <td>-0.073787</td>\n      <td>0.027736</td>\n      <td>-0.235358</td>\n      <td>0.039883</td>\n      <td>-0.160992</td>\n      <td>0.277605</td>\n    </tr>\n    <tr>\n      <th>10</th>\n      <td>ridge</td>\n      <td>{'alpha': 0.9}</td>\n      <td>-0.074463</td>\n      <td>0.027744</td>\n      <td>-0.236447</td>\n      <td>0.039142</td>\n      <td>-0.154834</td>\n      <td>0.270054</td>\n    </tr>\n    <tr>\n      <th>11</th>\n      <td>ridge</td>\n      <td>{'alpha': 1}</td>\n      <td>-0.075143</td>\n      <td>0.027819</td>\n      <td>-0.237450</td>\n      <td>0.038605</td>\n      <td>-0.148757</td>\n      <td>0.262804</td>\n    </tr>\n    <tr>\n      <th>3</th>\n      <td>ridge</td>\n      <td>{'alpha': 0.2}</td>\n      <td>-0.075963</td>\n      <td>0.047006</td>\n      <td>-0.226296</td>\n      <td>0.055195</td>\n      <td>-0.157624</td>\n      <td>0.384358</td>\n    </tr>\n    <tr>\n      <th>12</th>\n      <td>ridge</td>\n      <td>{'alpha': 2}</td>\n      <td>-0.080783</td>\n      <td>0.029185</td>\n      <td>-0.244887</td>\n      <td>0.037949</td>\n      <td>-0.099786</td>\n      <td>0.206461</td>\n    </tr>\n    <tr>\n      <th>2</th>\n      <td>ridge</td>\n      <td>{'alpha': 0.1}</td>\n      <td>-0.084089</td>\n      <td>0.074211</td>\n      <td>-0.224237</td>\n      <td>0.063582</td>\n      <td>-0.100512</td>\n      <td>0.531422</td>\n    </tr>\n    <tr>\n      <th>13</th>\n      <td>ridge</td>\n      <td>{'alpha': 3}</td>\n      <td>-0.084399</td>\n      <td>0.030370</td>\n      <td>-0.251315</td>\n      <td>0.040943</td>\n      <td>-0.068323</td>\n      <td>0.172169</td>\n    </tr>\n    <tr>\n      <th>14</th>\n      <td>ridge</td>\n      <td>{'alpha': 4}</td>\n      <td>-0.086838</td>\n      <td>0.031275</td>\n      <td>-0.256046</td>\n      <td>0.043729</td>\n      <td>-0.046823</td>\n      <td>0.150120</td>\n    </tr>\n    <tr>\n      <th>15</th>\n      <td>ridge</td>\n      <td>{'alpha': 5}</td>\n      <td>-0.088587</td>\n      <td>0.031972</td>\n      <td>-0.259450</td>\n      <td>0.045540</td>\n      <td>-0.031240</td>\n      <td>0.135033</td>\n    </tr>\n    <tr>\n      <th>16</th>\n      <td>ridge</td>\n      <td>{'alpha': 6}</td>\n      <td>-0.089901</td>\n      <td>0.032519</td>\n      <td>-0.261920</td>\n      <td>0.046931</td>\n      <td>-0.019437</td>\n      <td>0.124192</td>\n    </tr>\n    <tr>\n      <th>17</th>\n      <td>ridge</td>\n      <td>{'alpha': 7}</td>\n      <td>-0.090924</td>\n      <td>0.032958</td>\n      <td>-0.263796</td>\n      <td>0.048025</td>\n      <td>-0.010191</td>\n      <td>0.116099</td>\n    </tr>\n    <tr>\n      <th>18</th>\n      <td>ridge</td>\n      <td>{'alpha': 8}</td>\n      <td>-0.091743</td>\n      <td>0.033317</td>\n      <td>-0.265270</td>\n      <td>0.048904</td>\n      <td>-0.002753</td>\n      <td>0.109871</td>\n    </tr>\n    <tr>\n      <th>19</th>\n      <td>ridge</td>\n      <td>{'alpha': 9}</td>\n      <td>-0.092413</td>\n      <td>0.033616</td>\n      <td>-0.266459</td>\n      <td>0.049624</td>\n      <td>0.003360</td>\n      <td>0.104960</td>\n    </tr>\n    <tr>\n      <th>20</th>\n      <td>ridge</td>\n      <td>{'alpha': 10}</td>\n      <td>-0.092972</td>\n      <td>0.033868</td>\n      <td>-0.267439</td>\n      <td>0.050225</td>\n      <td>0.008472</td>\n      <td>0.101006</td>\n    </tr>\n    <tr>\n      <th>1</th>\n      <td>ridge</td>\n      <td>{'alpha': 0.05}</td>\n      <td>-0.093274</td>\n      <td>0.102187</td>\n      <td>-0.223380</td>\n      <td>0.070288</td>\n      <td>-0.032194</td>\n      <td>0.705861</td>\n    </tr>\n    <tr>\n      <th>21</th>\n      <td>ridge</td>\n      <td>{'alpha': 13}</td>\n      <td>-0.094200</td>\n      <td>0.034432</td>\n      <td>-0.269561</td>\n      <td>0.051546</td>\n      <td>0.019776</td>\n      <td>0.092812</td>\n    </tr>\n    <tr>\n      <th>22</th>\n      <td>ridge</td>\n      <td>{'alpha': 15}</td>\n      <td>-0.094779</td>\n      <td>0.034702</td>\n      <td>-0.270544</td>\n      <td>0.052167</td>\n      <td>0.025122</td>\n      <td>0.089225</td>\n    </tr>\n    <tr>\n      <th>23</th>\n      <td>ridge</td>\n      <td>{'alpha': 17}</td>\n      <td>-0.095235</td>\n      <td>0.034916</td>\n      <td>-0.271314</td>\n      <td>0.052656</td>\n      <td>0.029354</td>\n      <td>0.086530</td>\n    </tr>\n    <tr>\n      <th>0</th>\n      <td>ridge</td>\n      <td>{'alpha': 0.01}</td>\n      <td>-0.106605</td>\n      <td>0.139737</td>\n      <td>-0.225228</td>\n      <td>0.076483</td>\n      <td>0.071434</td>\n      <td>0.955675</td>\n    </tr>\n  </tbody>\n</table>\n</div>"
     },
     "metadata": {},
     "execution_count": 27
    }
   ],
   "source": [
    "grid_search_df.sort_values('mean_test_mse', ascending=False)"
   ]
  },
  {
   "cell_type": "markdown",
   "metadata": {},
   "source": [
    "# SGD"
   ]
  },
  {
   "cell_type": "code",
   "execution_count": 28,
   "metadata": {},
   "outputs": [],
   "source": [
    "PATH = 'sgd_grid_search_results.csv'"
   ]
  },
  {
   "cell_type": "code",
   "execution_count": 29,
   "metadata": {},
   "outputs": [],
   "source": [
    "grid_search_df = pd.read_csv(PATH)\n",
    "grid_search_df[\"model\"] = \"sgd\"\n",
    "grid_search_df = grid_search_df[[\"model\", 'params', 'mean_test_mse', 'std_test_mse', 'mean_test_mae', 'std_test_mae', 'mean_test_r2', 'std_test_r2']]\n",
    "summary_df = summary_df.append(grid_search_df.sort_values('mean_test_mse', ascending=False).iloc[0], ignore_index=True)"
   ]
  },
  {
   "cell_type": "code",
   "execution_count": 30,
   "metadata": {},
   "outputs": [
    {
     "output_type": "execute_result",
     "data": {
      "text/plain": "     model                                             params  mean_test_mse  \\\n8276   sgd  {'alpha': 0.01, 'epsilon': 0.2, 'l1_ratio': 0....  -7.004321e-02   \n246    sgd  {'alpha': 0.0001, 'epsilon': 0.2, 'l1_ratio': ...  -7.061327e-02   \n295    sgd  {'alpha': 0.0001, 'epsilon': 0.2, 'l1_ratio': ...  -7.099694e-02   \n536    sgd  {'alpha': 0.0001, 'epsilon': 0.2, 'l1_ratio': ...  -7.128792e-02   \n1352   sgd  {'alpha': 0.0001, 'epsilon': 0.15, 'l1_ratio':...  -7.129483e-02   \n...    ...                                                ...            ...   \n1213   sgd  {'alpha': 0.0001, 'epsilon': 0.15, 'l1_ratio':...  -6.957280e+25   \n2710   sgd  {'alpha': 0.0001, 'epsilon': 0.1, 'l1_ratio': ...  -7.053154e+25   \n694    sgd  {'alpha': 0.0001, 'epsilon': 0.2, 'l1_ratio': ...  -7.358515e+25   \n3373   sgd  {'alpha': 0.0001, 'epsilon': 0.05, 'l1_ratio':...  -8.396919e+25   \n406    sgd  {'alpha': 0.0001, 'epsilon': 0.2, 'l1_ratio': ...  -9.463524e+25   \n\n      std_test_mse  mean_test_mae  std_test_mae  mean_test_r2   std_test_r2  \n8276  2.889772e-02  -2.187622e-01  4.880293e-02 -1.834316e-01  3.609840e-01  \n246   2.748021e-02  -2.283370e-01  3.917407e-02 -1.903921e-01  3.085170e-01  \n295   3.105419e-02  -2.254893e-01  4.002937e-02 -1.933403e-01  3.122814e-01  \n536   2.988625e-02  -2.282922e-01  4.129149e-02 -1.863230e-01  3.143457e-01  \n1352  2.998893e-02  -2.276878e-01  3.936356e-02 -1.910141e-01  2.958173e-01  \n...            ...            ...           ...           ...           ...  \n1213  1.557102e+26  -5.083803e+12  6.361922e+12  1.132406e+27  2.733993e+27  \n2710  6.214975e+25  -7.046479e+12  4.223519e+12  9.564902e+26  8.534581e+26  \n694   1.162194e+26  -6.339919e+12  5.152685e+12  9.711093e+26  1.673634e+27  \n3373  6.659835e+25  -7.740834e+12  4.155372e+12  1.127739e+27  1.020804e+27  \n406   1.751769e+26  -6.782741e+12  6.428170e+12  1.385688e+27  3.079200e+27  \n\n[20160 rows x 8 columns]",
      "text/html": "<div>\n<style scoped>\n    .dataframe tbody tr th:only-of-type {\n        vertical-align: middle;\n    }\n\n    .dataframe tbody tr th {\n        vertical-align: top;\n    }\n\n    .dataframe thead th {\n        text-align: right;\n    }\n</style>\n<table border=\"1\" class=\"dataframe\">\n  <thead>\n    <tr style=\"text-align: right;\">\n      <th></th>\n      <th>model</th>\n      <th>params</th>\n      <th>mean_test_mse</th>\n      <th>std_test_mse</th>\n      <th>mean_test_mae</th>\n      <th>std_test_mae</th>\n      <th>mean_test_r2</th>\n      <th>std_test_r2</th>\n    </tr>\n  </thead>\n  <tbody>\n    <tr>\n      <th>8276</th>\n      <td>sgd</td>\n      <td>{'alpha': 0.01, 'epsilon': 0.2, 'l1_ratio': 0....</td>\n      <td>-7.004321e-02</td>\n      <td>2.889772e-02</td>\n      <td>-2.187622e-01</td>\n      <td>4.880293e-02</td>\n      <td>-1.834316e-01</td>\n      <td>3.609840e-01</td>\n    </tr>\n    <tr>\n      <th>246</th>\n      <td>sgd</td>\n      <td>{'alpha': 0.0001, 'epsilon': 0.2, 'l1_ratio': ...</td>\n      <td>-7.061327e-02</td>\n      <td>2.748021e-02</td>\n      <td>-2.283370e-01</td>\n      <td>3.917407e-02</td>\n      <td>-1.903921e-01</td>\n      <td>3.085170e-01</td>\n    </tr>\n    <tr>\n      <th>295</th>\n      <td>sgd</td>\n      <td>{'alpha': 0.0001, 'epsilon': 0.2, 'l1_ratio': ...</td>\n      <td>-7.099694e-02</td>\n      <td>3.105419e-02</td>\n      <td>-2.254893e-01</td>\n      <td>4.002937e-02</td>\n      <td>-1.933403e-01</td>\n      <td>3.122814e-01</td>\n    </tr>\n    <tr>\n      <th>536</th>\n      <td>sgd</td>\n      <td>{'alpha': 0.0001, 'epsilon': 0.2, 'l1_ratio': ...</td>\n      <td>-7.128792e-02</td>\n      <td>2.988625e-02</td>\n      <td>-2.282922e-01</td>\n      <td>4.129149e-02</td>\n      <td>-1.863230e-01</td>\n      <td>3.143457e-01</td>\n    </tr>\n    <tr>\n      <th>1352</th>\n      <td>sgd</td>\n      <td>{'alpha': 0.0001, 'epsilon': 0.15, 'l1_ratio':...</td>\n      <td>-7.129483e-02</td>\n      <td>2.998893e-02</td>\n      <td>-2.276878e-01</td>\n      <td>3.936356e-02</td>\n      <td>-1.910141e-01</td>\n      <td>2.958173e-01</td>\n    </tr>\n    <tr>\n      <th>...</th>\n      <td>...</td>\n      <td>...</td>\n      <td>...</td>\n      <td>...</td>\n      <td>...</td>\n      <td>...</td>\n      <td>...</td>\n      <td>...</td>\n    </tr>\n    <tr>\n      <th>1213</th>\n      <td>sgd</td>\n      <td>{'alpha': 0.0001, 'epsilon': 0.15, 'l1_ratio':...</td>\n      <td>-6.957280e+25</td>\n      <td>1.557102e+26</td>\n      <td>-5.083803e+12</td>\n      <td>6.361922e+12</td>\n      <td>1.132406e+27</td>\n      <td>2.733993e+27</td>\n    </tr>\n    <tr>\n      <th>2710</th>\n      <td>sgd</td>\n      <td>{'alpha': 0.0001, 'epsilon': 0.1, 'l1_ratio': ...</td>\n      <td>-7.053154e+25</td>\n      <td>6.214975e+25</td>\n      <td>-7.046479e+12</td>\n      <td>4.223519e+12</td>\n      <td>9.564902e+26</td>\n      <td>8.534581e+26</td>\n    </tr>\n    <tr>\n      <th>694</th>\n      <td>sgd</td>\n      <td>{'alpha': 0.0001, 'epsilon': 0.2, 'l1_ratio': ...</td>\n      <td>-7.358515e+25</td>\n      <td>1.162194e+26</td>\n      <td>-6.339919e+12</td>\n      <td>5.152685e+12</td>\n      <td>9.711093e+26</td>\n      <td>1.673634e+27</td>\n    </tr>\n    <tr>\n      <th>3373</th>\n      <td>sgd</td>\n      <td>{'alpha': 0.0001, 'epsilon': 0.05, 'l1_ratio':...</td>\n      <td>-8.396919e+25</td>\n      <td>6.659835e+25</td>\n      <td>-7.740834e+12</td>\n      <td>4.155372e+12</td>\n      <td>1.127739e+27</td>\n      <td>1.020804e+27</td>\n    </tr>\n    <tr>\n      <th>406</th>\n      <td>sgd</td>\n      <td>{'alpha': 0.0001, 'epsilon': 0.2, 'l1_ratio': ...</td>\n      <td>-9.463524e+25</td>\n      <td>1.751769e+26</td>\n      <td>-6.782741e+12</td>\n      <td>6.428170e+12</td>\n      <td>1.385688e+27</td>\n      <td>3.079200e+27</td>\n    </tr>\n  </tbody>\n</table>\n<p>20160 rows × 8 columns</p>\n</div>"
     },
     "metadata": {},
     "execution_count": 30
    }
   ],
   "source": [
    "grid_search_df.sort_values('mean_test_mse', ascending=False)"
   ]
  },
  {
   "cell_type": "code",
   "execution_count": 31,
   "metadata": {},
   "outputs": [
    {
     "output_type": "execute_result",
     "data": {
      "text/plain": "array([\"{'alpha': 0.01, 'epsilon': 0.2, 'l1_ratio': 0.2, 'learning_rate': 'optimal', 'loss': 'epsilon_insensitive', 'penalty': 'elasticnet'}\",\n       \"{'alpha': 0.0001, 'epsilon': 0.2, 'l1_ratio': 0.25, 'learning_rate': 'constant', 'loss': 'epsilon_insensitive', 'penalty': 'l2'}\",\n       \"{'alpha': 0.0001, 'epsilon': 0.2, 'l1_ratio': 0.3, 'learning_rate': 'constant', 'loss': 'epsilon_insensitive', 'penalty': 'l1'}\",\n       \"{'alpha': 0.0001, 'epsilon': 0.2, 'l1_ratio': 0.55, 'learning_rate': 'constant', 'loss': 'epsilon_insensitive', 'penalty': 'elasticnet'}\",\n       \"{'alpha': 0.0001, 'epsilon': 0.15, 'l1_ratio': 0.35, 'learning_rate': 'constant', 'loss': 'epsilon_insensitive', 'penalty': 'elasticnet'}\",\n       \"{'alpha': 0.001, 'epsilon': 0.2, 'l1_ratio': 0.95, 'learning_rate': 'constant', 'loss': 'epsilon_insensitive', 'penalty': 'l2'}\",\n       \"{'alpha': 0.0001, 'epsilon': 0.2, 'l1_ratio': 0.8, 'learning_rate': 'constant', 'loss': 'epsilon_insensitive', 'penalty': 'l1'}\",\n       \"{'alpha': 0.001, 'epsilon': 0.2, 'l1_ratio': 0, 'learning_rate': 'constant', 'loss': 'epsilon_insensitive', 'penalty': 'l2'}\",\n       \"{'alpha': 0.0001, 'epsilon': 0.2, 'l1_ratio': 1, 'learning_rate': 'constant', 'loss': 'epsilon_insensitive', 'penalty': 'l1'}\",\n       \"{'alpha': 0.0001, 'epsilon': 0.2, 'l1_ratio': 0, 'learning_rate': 'constant', 'loss': 'epsilon_insensitive', 'penalty': 'elasticnet'}\",\n       \"{'alpha': 0.0001, 'epsilon': 0.2, 'l1_ratio': 0.9, 'learning_rate': 'constant', 'loss': 'epsilon_insensitive', 'penalty': 'elasticnet'}\",\n       \"{'alpha': 0.001, 'epsilon': 0.1, 'l1_ratio': 0.2, 'learning_rate': 'optimal', 'loss': 'huber', 'penalty': 'l2'}\",\n       \"{'alpha': 0.01, 'epsilon': 0.15, 'l1_ratio': 0.05, 'learning_rate': 'optimal', 'loss': 'epsilon_insensitive', 'penalty': 'elasticnet'}\",\n       \"{'alpha': 0.0001, 'epsilon': 0.2, 'l1_ratio': 0.05, 'learning_rate': 'adaptive', 'loss': 'epsilon_insensitive', 'penalty': 'l2'}\",\n       \"{'alpha': 0.001, 'epsilon': 0.2, 'l1_ratio': 0.9, 'learning_rate': 'adaptive', 'loss': 'epsilon_insensitive', 'penalty': 'l2'}\",\n       \"{'alpha': 0.0001, 'epsilon': 0.15, 'l1_ratio': 0.45, 'learning_rate': 'constant', 'loss': 'epsilon_insensitive', 'penalty': 'l1'}\",\n       \"{'alpha': 0.0001, 'epsilon': 0.2, 'l1_ratio': 0.85, 'learning_rate': 'adaptive', 'loss': 'epsilon_insensitive', 'penalty': 'elasticnet'}\",\n       \"{'alpha': 0.0001, 'epsilon': 0.2, 'l1_ratio': 0.9, 'learning_rate': 'adaptive', 'loss': 'epsilon_insensitive', 'penalty': 'l1'}\",\n       \"{'alpha': 0.0001, 'epsilon': 0.2, 'l1_ratio': 0.2, 'learning_rate': 'constant', 'loss': 'epsilon_insensitive', 'penalty': 'l1'}\",\n       \"{'alpha': 0.001, 'epsilon': 0.2, 'l1_ratio': 0.15, 'learning_rate': 'constant', 'loss': 'epsilon_insensitive', 'penalty': 'elasticnet'}\"],\n      dtype=object)"
     },
     "metadata": {},
     "execution_count": 31
    }
   ],
   "source": [
    "grid_search_df.sort_values('mean_test_mse', ascending=False)[\"params\"].head(20).values"
   ]
  },
  {
   "cell_type": "markdown",
   "metadata": {},
   "source": [
    "# Sumário"
   ]
  },
  {
   "cell_type": "code",
   "execution_count": 32,
   "metadata": {},
   "outputs": [
    {
     "output_type": "execute_result",
     "data": {
      "text/plain": "           model                                             params  \\\n0  random_forest         {'criterion': 'mae', 'n_estimators': 1000}   \n1      ada_boost  {'learning_rate': 0.85, 'loss': 'linear', 'n_e...   \n2            svm  {'C': 0.5, 'degree': 3, 'epsilon': 0.15, 'kern...   \n3            knn  {'metric': 'minkowski', 'n_neighbors': 5, 'p': 1}   \n7            sgd  {'alpha': 0.01, 'epsilon': 0.2, 'l1_ratio': 0....   \n6          ridge                                     {'alpha': 0.5}   \n4          lasso                                    {'alpha': 0.01}   \n5    elastic_net                      {'alpha': 0.1, 'l1_ratio': 0}   \n\n   mean_test_mse  std_test_mse  mean_test_mae  std_test_mae  mean_test_r2  \\\n0      -0.026841      0.021121      -0.123882      0.042833     -0.571878   \n1      -0.029858      0.019414      -0.120890      0.044253     -0.504439   \n2      -0.039848      0.024712      -0.162121      0.055027     -0.481709   \n3      -0.041718      0.039032      -0.160337      0.060517     -0.560509   \n7      -0.070043      0.028898      -0.218762      0.048803     -0.183432   \n6      -0.072220      0.029134      -0.231458      0.044062     -0.177209   \n4      -0.084292      0.032887      -0.248897      0.045355     -0.058308   \n5      -0.087779      0.031645      -0.257896      0.044697     -0.038455   \n\n   std_test_r2  \n0     0.352261  \n1     0.368539  \n2     0.424583  \n3     0.329229  \n7     0.360984  \n6     0.303173  \n4     0.263497  \n5     0.141915  ",
      "text/html": "<div>\n<style scoped>\n    .dataframe tbody tr th:only-of-type {\n        vertical-align: middle;\n    }\n\n    .dataframe tbody tr th {\n        vertical-align: top;\n    }\n\n    .dataframe thead th {\n        text-align: right;\n    }\n</style>\n<table border=\"1\" class=\"dataframe\">\n  <thead>\n    <tr style=\"text-align: right;\">\n      <th></th>\n      <th>model</th>\n      <th>params</th>\n      <th>mean_test_mse</th>\n      <th>std_test_mse</th>\n      <th>mean_test_mae</th>\n      <th>std_test_mae</th>\n      <th>mean_test_r2</th>\n      <th>std_test_r2</th>\n    </tr>\n  </thead>\n  <tbody>\n    <tr>\n      <th>0</th>\n      <td>random_forest</td>\n      <td>{'criterion': 'mae', 'n_estimators': 1000}</td>\n      <td>-0.026841</td>\n      <td>0.021121</td>\n      <td>-0.123882</td>\n      <td>0.042833</td>\n      <td>-0.571878</td>\n      <td>0.352261</td>\n    </tr>\n    <tr>\n      <th>1</th>\n      <td>ada_boost</td>\n      <td>{'learning_rate': 0.85, 'loss': 'linear', 'n_e...</td>\n      <td>-0.029858</td>\n      <td>0.019414</td>\n      <td>-0.120890</td>\n      <td>0.044253</td>\n      <td>-0.504439</td>\n      <td>0.368539</td>\n    </tr>\n    <tr>\n      <th>2</th>\n      <td>svm</td>\n      <td>{'C': 0.5, 'degree': 3, 'epsilon': 0.15, 'kern...</td>\n      <td>-0.039848</td>\n      <td>0.024712</td>\n      <td>-0.162121</td>\n      <td>0.055027</td>\n      <td>-0.481709</td>\n      <td>0.424583</td>\n    </tr>\n    <tr>\n      <th>3</th>\n      <td>knn</td>\n      <td>{'metric': 'minkowski', 'n_neighbors': 5, 'p': 1}</td>\n      <td>-0.041718</td>\n      <td>0.039032</td>\n      <td>-0.160337</td>\n      <td>0.060517</td>\n      <td>-0.560509</td>\n      <td>0.329229</td>\n    </tr>\n    <tr>\n      <th>7</th>\n      <td>sgd</td>\n      <td>{'alpha': 0.01, 'epsilon': 0.2, 'l1_ratio': 0....</td>\n      <td>-0.070043</td>\n      <td>0.028898</td>\n      <td>-0.218762</td>\n      <td>0.048803</td>\n      <td>-0.183432</td>\n      <td>0.360984</td>\n    </tr>\n    <tr>\n      <th>6</th>\n      <td>ridge</td>\n      <td>{'alpha': 0.5}</td>\n      <td>-0.072220</td>\n      <td>0.029134</td>\n      <td>-0.231458</td>\n      <td>0.044062</td>\n      <td>-0.177209</td>\n      <td>0.303173</td>\n    </tr>\n    <tr>\n      <th>4</th>\n      <td>lasso</td>\n      <td>{'alpha': 0.01}</td>\n      <td>-0.084292</td>\n      <td>0.032887</td>\n      <td>-0.248897</td>\n      <td>0.045355</td>\n      <td>-0.058308</td>\n      <td>0.263497</td>\n    </tr>\n    <tr>\n      <th>5</th>\n      <td>elastic_net</td>\n      <td>{'alpha': 0.1, 'l1_ratio': 0}</td>\n      <td>-0.087779</td>\n      <td>0.031645</td>\n      <td>-0.257896</td>\n      <td>0.044697</td>\n      <td>-0.038455</td>\n      <td>0.141915</td>\n    </tr>\n  </tbody>\n</table>\n</div>"
     },
     "metadata": {},
     "execution_count": 32
    }
   ],
   "source": [
    "summary_df.sort_values(by='mean_test_mse', ascending=False).head(20)"
   ]
  },
  {
   "cell_type": "code",
   "execution_count": null,
   "metadata": {},
   "outputs": [],
   "source": []
  }
 ],
 "metadata": {
  "language_info": {
   "name": "python",
   "codemirror_mode": {
    "name": "ipython",
    "version": 3
   },
   "version": "3.6.9-final"
  },
  "orig_nbformat": 2,
  "file_extension": ".py",
  "mimetype": "text/x-python",
  "name": "python",
  "npconvert_exporter": "python",
  "pygments_lexer": "ipython3",
  "version": 3,
  "kernelspec": {
   "name": "python36964bitbertvirtualenv054cbb15ab924922a35a349b12e89805",
   "display_name": "Python 3.6.9 64-bit ('bert': virtualenv)"
  }
 },
 "nbformat": 4,
 "nbformat_minor": 2
}