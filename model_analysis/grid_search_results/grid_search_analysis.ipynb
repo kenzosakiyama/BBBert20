{
 "cells": [
  {
   "cell_type": "code",
   "execution_count": 1,
   "metadata": {},
   "outputs": [],
   "source": [
    "import pandas as pd"
   ]
  },
  {
   "cell_type": "code",
   "execution_count": 2,
   "metadata": {},
   "outputs": [],
   "source": [
    "summary_df = pd.DataFrame(columns=[\"model\", 'params', 'mean_test_mse', 'std_test_mse', 'mean_test_mae', 'std_test_mae', 'mean_test_r2', 'std_test_r2'])"
   ]
  },
  {
   "cell_type": "code",
   "execution_count": 3,
   "metadata": {},
   "outputs": [
    {
     "output_type": "execute_result",
     "data": {
      "text/plain": "Empty DataFrame\nColumns: [model, params, mean_test_mse, std_test_mse, mean_test_mae, std_test_mae, mean_test_r2, std_test_r2]\nIndex: []",
      "text/html": "<div>\n<style scoped>\n    .dataframe tbody tr th:only-of-type {\n        vertical-align: middle;\n    }\n\n    .dataframe tbody tr th {\n        vertical-align: top;\n    }\n\n    .dataframe thead th {\n        text-align: right;\n    }\n</style>\n<table border=\"1\" class=\"dataframe\">\n  <thead>\n    <tr style=\"text-align: right;\">\n      <th></th>\n      <th>model</th>\n      <th>params</th>\n      <th>mean_test_mse</th>\n      <th>std_test_mse</th>\n      <th>mean_test_mae</th>\n      <th>std_test_mae</th>\n      <th>mean_test_r2</th>\n      <th>std_test_r2</th>\n    </tr>\n  </thead>\n  <tbody>\n  </tbody>\n</table>\n</div>"
     },
     "metadata": {},
     "execution_count": 3
    }
   ],
   "source": [
    "summary_df"
   ]
  },
  {
   "cell_type": "markdown",
   "metadata": {},
   "source": [
    "# Random Forest Regressor"
   ]
  },
  {
   "cell_type": "code",
   "execution_count": 4,
   "metadata": {},
   "outputs": [],
   "source": [
    "PATH = 'random_forest_grid_search_results.csv'"
   ]
  },
  {
   "cell_type": "code",
   "execution_count": 5,
   "metadata": {},
   "outputs": [],
   "source": [
    "grid_search_df = pd.read_csv(PATH)"
   ]
  },
  {
   "cell_type": "code",
   "execution_count": 6,
   "metadata": {},
   "outputs": [],
   "source": [
    "grid_search_df[\"model\"] = \"random_forest\"\n",
    "grid_search_df = grid_search_df[[\"model\", 'params', 'mean_test_mse', 'std_test_mse', 'mean_test_mae', 'std_test_mae', 'mean_test_r2', 'std_test_r2']]\n",
    "summary_df = summary_df.append(grid_search_df.sort_values('mean_test_mse', ascending=False).iloc[0], ignore_index=True)"
   ]
  },
  {
   "cell_type": "code",
   "execution_count": 7,
   "metadata": {},
   "outputs": [
    {
     "output_type": "execute_result",
     "data": {
      "text/plain": "            model                                       params  mean_test_mse  \\\n1   random_forest    {'criterion': 'mse', 'n_estimators': 200}      -0.030962   \n8   random_forest    {'criterion': 'mae', 'n_estimators': 100}      -0.030976   \n9   random_forest    {'criterion': 'mae', 'n_estimators': 200}      -0.031043   \n5   random_forest   {'criterion': 'mse', 'n_estimators': 3000}      -0.031682   \n2   random_forest    {'criterion': 'mse', 'n_estimators': 500}      -0.031751   \n7   random_forest  {'criterion': 'mse', 'n_estimators': 10000}      -0.031858   \n4   random_forest   {'criterion': 'mse', 'n_estimators': 2000}      -0.031952   \n6   random_forest   {'criterion': 'mse', 'n_estimators': 5000}      -0.032132   \n3   random_forest   {'criterion': 'mse', 'n_estimators': 1000}      -0.032926   \n0   random_forest    {'criterion': 'mse', 'n_estimators': 100}      -0.033007   \n15  random_forest  {'criterion': 'mae', 'n_estimators': 10000}      -0.033205   \n13  random_forest   {'criterion': 'mae', 'n_estimators': 3000}      -0.033346   \n10  random_forest    {'criterion': 'mae', 'n_estimators': 500}      -0.033436   \n14  random_forest   {'criterion': 'mae', 'n_estimators': 5000}      -0.033469   \n11  random_forest   {'criterion': 'mae', 'n_estimators': 1000}      -0.033639   \n12  random_forest   {'criterion': 'mae', 'n_estimators': 2000}      -0.033673   \n\n    std_test_mse  mean_test_mae  std_test_mae  mean_test_r2  std_test_r2  \n1       0.022138      -0.133181      0.041979     -0.506962     0.368710  \n8       0.023216      -0.132599      0.048298     -0.516096     0.361307  \n9       0.023197      -0.133122      0.047407     -0.511963     0.363595  \n5       0.023696      -0.133820      0.045919     -0.497548     0.401768  \n2       0.023604      -0.134486      0.045095     -0.498495     0.388466  \n7       0.023806      -0.134122      0.045621     -0.494289     0.401715  \n4       0.023796      -0.134932      0.046206     -0.492935     0.402446  \n6       0.023748      -0.135351      0.045366     -0.490413     0.399527  \n3       0.024825      -0.135474      0.046676     -0.477196     0.422277  \n0       0.025003      -0.133712      0.047403     -0.477406     0.412034  \n15      0.025099      -0.135873      0.049764     -0.481582     0.395067  \n13      0.025745      -0.136270      0.050581     -0.479178     0.404267  \n10      0.024829      -0.137095      0.049627     -0.483013     0.374715  \n14      0.025414      -0.136266      0.050568     -0.477195     0.400412  \n11      0.026181      -0.135497      0.052700     -0.478781     0.406619  \n12      0.025781      -0.136461      0.051297     -0.476644     0.402151  ",
      "text/html": "<div>\n<style scoped>\n    .dataframe tbody tr th:only-of-type {\n        vertical-align: middle;\n    }\n\n    .dataframe tbody tr th {\n        vertical-align: top;\n    }\n\n    .dataframe thead th {\n        text-align: right;\n    }\n</style>\n<table border=\"1\" class=\"dataframe\">\n  <thead>\n    <tr style=\"text-align: right;\">\n      <th></th>\n      <th>model</th>\n      <th>params</th>\n      <th>mean_test_mse</th>\n      <th>std_test_mse</th>\n      <th>mean_test_mae</th>\n      <th>std_test_mae</th>\n      <th>mean_test_r2</th>\n      <th>std_test_r2</th>\n    </tr>\n  </thead>\n  <tbody>\n    <tr>\n      <th>1</th>\n      <td>random_forest</td>\n      <td>{'criterion': 'mse', 'n_estimators': 200}</td>\n      <td>-0.030962</td>\n      <td>0.022138</td>\n      <td>-0.133181</td>\n      <td>0.041979</td>\n      <td>-0.506962</td>\n      <td>0.368710</td>\n    </tr>\n    <tr>\n      <th>8</th>\n      <td>random_forest</td>\n      <td>{'criterion': 'mae', 'n_estimators': 100}</td>\n      <td>-0.030976</td>\n      <td>0.023216</td>\n      <td>-0.132599</td>\n      <td>0.048298</td>\n      <td>-0.516096</td>\n      <td>0.361307</td>\n    </tr>\n    <tr>\n      <th>9</th>\n      <td>random_forest</td>\n      <td>{'criterion': 'mae', 'n_estimators': 200}</td>\n      <td>-0.031043</td>\n      <td>0.023197</td>\n      <td>-0.133122</td>\n      <td>0.047407</td>\n      <td>-0.511963</td>\n      <td>0.363595</td>\n    </tr>\n    <tr>\n      <th>5</th>\n      <td>random_forest</td>\n      <td>{'criterion': 'mse', 'n_estimators': 3000}</td>\n      <td>-0.031682</td>\n      <td>0.023696</td>\n      <td>-0.133820</td>\n      <td>0.045919</td>\n      <td>-0.497548</td>\n      <td>0.401768</td>\n    </tr>\n    <tr>\n      <th>2</th>\n      <td>random_forest</td>\n      <td>{'criterion': 'mse', 'n_estimators': 500}</td>\n      <td>-0.031751</td>\n      <td>0.023604</td>\n      <td>-0.134486</td>\n      <td>0.045095</td>\n      <td>-0.498495</td>\n      <td>0.388466</td>\n    </tr>\n    <tr>\n      <th>7</th>\n      <td>random_forest</td>\n      <td>{'criterion': 'mse', 'n_estimators': 10000}</td>\n      <td>-0.031858</td>\n      <td>0.023806</td>\n      <td>-0.134122</td>\n      <td>0.045621</td>\n      <td>-0.494289</td>\n      <td>0.401715</td>\n    </tr>\n    <tr>\n      <th>4</th>\n      <td>random_forest</td>\n      <td>{'criterion': 'mse', 'n_estimators': 2000}</td>\n      <td>-0.031952</td>\n      <td>0.023796</td>\n      <td>-0.134932</td>\n      <td>0.046206</td>\n      <td>-0.492935</td>\n      <td>0.402446</td>\n    </tr>\n    <tr>\n      <th>6</th>\n      <td>random_forest</td>\n      <td>{'criterion': 'mse', 'n_estimators': 5000}</td>\n      <td>-0.032132</td>\n      <td>0.023748</td>\n      <td>-0.135351</td>\n      <td>0.045366</td>\n      <td>-0.490413</td>\n      <td>0.399527</td>\n    </tr>\n    <tr>\n      <th>3</th>\n      <td>random_forest</td>\n      <td>{'criterion': 'mse', 'n_estimators': 1000}</td>\n      <td>-0.032926</td>\n      <td>0.024825</td>\n      <td>-0.135474</td>\n      <td>0.046676</td>\n      <td>-0.477196</td>\n      <td>0.422277</td>\n    </tr>\n    <tr>\n      <th>0</th>\n      <td>random_forest</td>\n      <td>{'criterion': 'mse', 'n_estimators': 100}</td>\n      <td>-0.033007</td>\n      <td>0.025003</td>\n      <td>-0.133712</td>\n      <td>0.047403</td>\n      <td>-0.477406</td>\n      <td>0.412034</td>\n    </tr>\n    <tr>\n      <th>15</th>\n      <td>random_forest</td>\n      <td>{'criterion': 'mae', 'n_estimators': 10000}</td>\n      <td>-0.033205</td>\n      <td>0.025099</td>\n      <td>-0.135873</td>\n      <td>0.049764</td>\n      <td>-0.481582</td>\n      <td>0.395067</td>\n    </tr>\n    <tr>\n      <th>13</th>\n      <td>random_forest</td>\n      <td>{'criterion': 'mae', 'n_estimators': 3000}</td>\n      <td>-0.033346</td>\n      <td>0.025745</td>\n      <td>-0.136270</td>\n      <td>0.050581</td>\n      <td>-0.479178</td>\n      <td>0.404267</td>\n    </tr>\n    <tr>\n      <th>10</th>\n      <td>random_forest</td>\n      <td>{'criterion': 'mae', 'n_estimators': 500}</td>\n      <td>-0.033436</td>\n      <td>0.024829</td>\n      <td>-0.137095</td>\n      <td>0.049627</td>\n      <td>-0.483013</td>\n      <td>0.374715</td>\n    </tr>\n    <tr>\n      <th>14</th>\n      <td>random_forest</td>\n      <td>{'criterion': 'mae', 'n_estimators': 5000}</td>\n      <td>-0.033469</td>\n      <td>0.025414</td>\n      <td>-0.136266</td>\n      <td>0.050568</td>\n      <td>-0.477195</td>\n      <td>0.400412</td>\n    </tr>\n    <tr>\n      <th>11</th>\n      <td>random_forest</td>\n      <td>{'criterion': 'mae', 'n_estimators': 1000}</td>\n      <td>-0.033639</td>\n      <td>0.026181</td>\n      <td>-0.135497</td>\n      <td>0.052700</td>\n      <td>-0.478781</td>\n      <td>0.406619</td>\n    </tr>\n    <tr>\n      <th>12</th>\n      <td>random_forest</td>\n      <td>{'criterion': 'mae', 'n_estimators': 2000}</td>\n      <td>-0.033673</td>\n      <td>0.025781</td>\n      <td>-0.136461</td>\n      <td>0.051297</td>\n      <td>-0.476644</td>\n      <td>0.402151</td>\n    </tr>\n  </tbody>\n</table>\n</div>"
     },
     "metadata": {},
     "execution_count": 7
    }
   ],
   "source": [
    "grid_search_df.sort_values('mean_test_mse', ascending=False)"
   ]
  },
  {
   "cell_type": "markdown",
   "metadata": {},
   "source": [
    "# Ada Boost Regressor"
   ]
  },
  {
   "cell_type": "code",
   "execution_count": 8,
   "metadata": {},
   "outputs": [],
   "source": [
    "PATH = 'ada_boost_grid_search_results.csv'\n",
    ""
   ]
  },
  {
   "cell_type": "code",
   "execution_count": 9,
   "metadata": {},
   "outputs": [],
   "source": [
    "grid_search_df = pd.read_csv(PATH)\n",
    "grid_search_df[\"model\"] = \"ada_boost\"\n",
    "grid_search_df = grid_search_df[[\"model\", 'params', 'mean_test_mse', 'std_test_mse', 'mean_test_mae', 'std_test_mae', 'mean_test_r2', 'std_test_r2']]\n",
    "summary_df = summary_df.append(grid_search_df.sort_values('mean_test_mse', ascending=False).iloc[0], ignore_index=True)"
   ]
  },
  {
   "cell_type": "code",
   "execution_count": 10,
   "metadata": {},
   "outputs": [
    {
     "output_type": "execute_result",
     "data": {
      "text/plain": "         model                                             params  \\\n336  ada_boost  {'learning_rate': 0.75, 'loss': 'linear', 'n_e...   \n168  ada_boost  {'learning_rate': 0.4, 'loss': 'linear', 'n_es...   \n65   ada_boost  {'learning_rate': 0.15, 'loss': 'exponential',...   \n400  ada_boost  {'learning_rate': 0.85, 'loss': 'exponential',...   \n456  ada_boost  {'learning_rate': 1.0, 'loss': 'linear', 'n_es...   \n..         ...                                                ...   \n160  ada_boost  {'learning_rate': 0.35, 'loss': 'exponential',...   \n432  ada_boost  {'learning_rate': 0.95, 'loss': 'linear', 'n_e...   \n376  ada_boost  {'learning_rate': 0.8, 'loss': 'exponential', ...   \n96   ada_boost  {'learning_rate': 0.25, 'loss': 'linear', 'n_e...   \n417  ada_boost  {'learning_rate': 0.9, 'loss': 'square', 'n_es...   \n\n     mean_test_mse  std_test_mse  mean_test_mae  std_test_mae  mean_test_r2  \\\n336      -0.032744      0.025578      -0.128026      0.041854     -0.449507   \n168      -0.033822      0.027752      -0.127191      0.038186     -0.431312   \n65       -0.034461      0.029013      -0.130398      0.048210     -0.423137   \n400      -0.035216      0.027906      -0.131776      0.041660     -0.405580   \n456      -0.035257      0.029719      -0.130393      0.049391     -0.422678   \n..             ...           ...            ...           ...           ...   \n160      -0.041794      0.032576      -0.141393      0.050729     -0.297576   \n432      -0.041848      0.033243      -0.146607      0.059251     -0.299370   \n376      -0.042335      0.033832      -0.145134      0.055649     -0.278401   \n96       -0.042360      0.034289      -0.141176      0.051210     -0.288363   \n417      -0.042399      0.031598      -0.142338      0.048164     -0.291918   \n\n     std_test_r2  \n336     0.464698  \n168     0.517059  \n65      0.518507  \n400     0.512136  \n456     0.503931  \n..           ...  \n160     0.588299  \n432     0.581377  \n376     0.614575  \n96      0.614663  \n417     0.559265  \n\n[480 rows x 8 columns]",
      "text/html": "<div>\n<style scoped>\n    .dataframe tbody tr th:only-of-type {\n        vertical-align: middle;\n    }\n\n    .dataframe tbody tr th {\n        vertical-align: top;\n    }\n\n    .dataframe thead th {\n        text-align: right;\n    }\n</style>\n<table border=\"1\" class=\"dataframe\">\n  <thead>\n    <tr style=\"text-align: right;\">\n      <th></th>\n      <th>model</th>\n      <th>params</th>\n      <th>mean_test_mse</th>\n      <th>std_test_mse</th>\n      <th>mean_test_mae</th>\n      <th>std_test_mae</th>\n      <th>mean_test_r2</th>\n      <th>std_test_r2</th>\n    </tr>\n  </thead>\n  <tbody>\n    <tr>\n      <th>336</th>\n      <td>ada_boost</td>\n      <td>{'learning_rate': 0.75, 'loss': 'linear', 'n_e...</td>\n      <td>-0.032744</td>\n      <td>0.025578</td>\n      <td>-0.128026</td>\n      <td>0.041854</td>\n      <td>-0.449507</td>\n      <td>0.464698</td>\n    </tr>\n    <tr>\n      <th>168</th>\n      <td>ada_boost</td>\n      <td>{'learning_rate': 0.4, 'loss': 'linear', 'n_es...</td>\n      <td>-0.033822</td>\n      <td>0.027752</td>\n      <td>-0.127191</td>\n      <td>0.038186</td>\n      <td>-0.431312</td>\n      <td>0.517059</td>\n    </tr>\n    <tr>\n      <th>65</th>\n      <td>ada_boost</td>\n      <td>{'learning_rate': 0.15, 'loss': 'exponential',...</td>\n      <td>-0.034461</td>\n      <td>0.029013</td>\n      <td>-0.130398</td>\n      <td>0.048210</td>\n      <td>-0.423137</td>\n      <td>0.518507</td>\n    </tr>\n    <tr>\n      <th>400</th>\n      <td>ada_boost</td>\n      <td>{'learning_rate': 0.85, 'loss': 'exponential',...</td>\n      <td>-0.035216</td>\n      <td>0.027906</td>\n      <td>-0.131776</td>\n      <td>0.041660</td>\n      <td>-0.405580</td>\n      <td>0.512136</td>\n    </tr>\n    <tr>\n      <th>456</th>\n      <td>ada_boost</td>\n      <td>{'learning_rate': 1.0, 'loss': 'linear', 'n_es...</td>\n      <td>-0.035257</td>\n      <td>0.029719</td>\n      <td>-0.130393</td>\n      <td>0.049391</td>\n      <td>-0.422678</td>\n      <td>0.503931</td>\n    </tr>\n    <tr>\n      <th>...</th>\n      <td>...</td>\n      <td>...</td>\n      <td>...</td>\n      <td>...</td>\n      <td>...</td>\n      <td>...</td>\n      <td>...</td>\n      <td>...</td>\n    </tr>\n    <tr>\n      <th>160</th>\n      <td>ada_boost</td>\n      <td>{'learning_rate': 0.35, 'loss': 'exponential',...</td>\n      <td>-0.041794</td>\n      <td>0.032576</td>\n      <td>-0.141393</td>\n      <td>0.050729</td>\n      <td>-0.297576</td>\n      <td>0.588299</td>\n    </tr>\n    <tr>\n      <th>432</th>\n      <td>ada_boost</td>\n      <td>{'learning_rate': 0.95, 'loss': 'linear', 'n_e...</td>\n      <td>-0.041848</td>\n      <td>0.033243</td>\n      <td>-0.146607</td>\n      <td>0.059251</td>\n      <td>-0.299370</td>\n      <td>0.581377</td>\n    </tr>\n    <tr>\n      <th>376</th>\n      <td>ada_boost</td>\n      <td>{'learning_rate': 0.8, 'loss': 'exponential', ...</td>\n      <td>-0.042335</td>\n      <td>0.033832</td>\n      <td>-0.145134</td>\n      <td>0.055649</td>\n      <td>-0.278401</td>\n      <td>0.614575</td>\n    </tr>\n    <tr>\n      <th>96</th>\n      <td>ada_boost</td>\n      <td>{'learning_rate': 0.25, 'loss': 'linear', 'n_e...</td>\n      <td>-0.042360</td>\n      <td>0.034289</td>\n      <td>-0.141176</td>\n      <td>0.051210</td>\n      <td>-0.288363</td>\n      <td>0.614663</td>\n    </tr>\n    <tr>\n      <th>417</th>\n      <td>ada_boost</td>\n      <td>{'learning_rate': 0.9, 'loss': 'square', 'n_es...</td>\n      <td>-0.042399</td>\n      <td>0.031598</td>\n      <td>-0.142338</td>\n      <td>0.048164</td>\n      <td>-0.291918</td>\n      <td>0.559265</td>\n    </tr>\n  </tbody>\n</table>\n<p>480 rows × 8 columns</p>\n</div>"
     },
     "metadata": {},
     "execution_count": 10
    }
   ],
   "source": [
    "grid_search_df.sort_values('mean_test_mse', ascending=False)"
   ]
  },
  {
   "cell_type": "code",
   "execution_count": 11,
   "metadata": {},
   "outputs": [
    {
     "output_type": "execute_result",
     "data": {
      "text/plain": "array([\"{'learning_rate': 0.75, 'loss': 'linear', 'n_estimators': 100}\",\n       \"{'learning_rate': 0.4, 'loss': 'linear', 'n_estimators': 100}\",\n       \"{'learning_rate': 0.15, 'loss': 'exponential', 'n_estimators': 200}\",\n       \"{'learning_rate': 0.85, 'loss': 'exponential', 'n_estimators': 100}\",\n       \"{'learning_rate': 1.0, 'loss': 'linear', 'n_estimators': 100}\",\n       \"{'learning_rate': 0.95, 'loss': 'exponential', 'n_estimators': 100}\",\n       \"{'learning_rate': 0.05, 'loss': 'exponential', 'n_estimators': 200}\",\n       \"{'learning_rate': 0.75, 'loss': 'exponential', 'n_estimators': 100}\",\n       \"{'learning_rate': 0.1, 'loss': 'exponential', 'n_estimators': 200}\",\n       \"{'learning_rate': 0.9, 'loss': 'exponential', 'n_estimators': 100}\",\n       \"{'learning_rate': 0.8, 'loss': 'exponential', 'n_estimators': 2000}\",\n       \"{'learning_rate': 0.6, 'loss': 'square', 'n_estimators': 100}\",\n       \"{'learning_rate': 0.9, 'loss': 'exponential', 'n_estimators': 200}\",\n       \"{'learning_rate': 0.85, 'loss': 'exponential', 'n_estimators': 200}\",\n       \"{'learning_rate': 0.4, 'loss': 'exponential', 'n_estimators': 2000}\",\n       \"{'learning_rate': 0.6, 'loss': 'exponential', 'n_estimators': 200}\",\n       \"{'learning_rate': 0.95, 'loss': 'linear', 'n_estimators': 200}\",\n       \"{'learning_rate': 0.1, 'loss': 'square', 'n_estimators': 200}\",\n       \"{'learning_rate': 0.05, 'loss': 'linear', 'n_estimators': 500}\",\n       \"{'learning_rate': 0.3, 'loss': 'exponential', 'n_estimators': 500}\"],\n      dtype=object)"
     },
     "metadata": {},
     "execution_count": 11
    }
   ],
   "source": [
    "grid_search_df.sort_values('mean_test_mse', ascending=False).head(20).params.values"
   ]
  },
  {
   "cell_type": "markdown",
   "metadata": {},
   "source": [
    "# SVM Regressor"
   ]
  },
  {
   "cell_type": "code",
   "execution_count": 12,
   "metadata": {},
   "outputs": [],
   "source": [
    "PATH = 'svm_grid_search_results.csv'\n",
    ""
   ]
  },
  {
   "cell_type": "code",
   "execution_count": 13,
   "metadata": {},
   "outputs": [],
   "source": [
    "grid_search_df = pd.read_csv(PATH)\n",
    "grid_search_df[\"model\"] = \"svm\"\n",
    "grid_search_df = grid_search_df[[\"model\", 'params', 'mean_test_mse', 'std_test_mse', 'mean_test_mae', 'std_test_mae', 'mean_test_r2', 'std_test_r2']]\n",
    "summary_df = summary_df.append(grid_search_df.sort_values('mean_test_mse', ascending=False).iloc[0], ignore_index=True)"
   ]
  },
  {
   "cell_type": "code",
   "execution_count": 14,
   "metadata": {},
   "outputs": [
    {
     "output_type": "execute_result",
     "data": {
      "text/plain": "     model                                             params  mean_test_mse  \\\n5342   svm  {'C': 0.95, 'degree': 7, 'epsilon': 0.4, 'kern...      -0.443829   \n5214   svm  {'C': 0.95, 'degree': 5, 'epsilon': 0.4, 'kern...      -0.443829   \n5150   svm  {'C': 0.95, 'degree': 4, 'epsilon': 0.4, 'kern...      -0.443829   \n5086   svm  {'C': 0.95, 'degree': 3, 'epsilon': 0.4, 'kern...      -0.443829   \n5022   svm  {'C': 0.95, 'degree': 2, 'epsilon': 0.4, 'kern...      -0.443829   \n5278   svm  {'C': 0.95, 'degree': 6, 'epsilon': 0.4, 'kern...      -0.443829   \n5338   svm  {'C': 0.95, 'degree': 7, 'epsilon': 0.35, 'ker...      -0.445817   \n5146   svm  {'C': 0.95, 'degree': 4, 'epsilon': 0.35, 'ker...      -0.445817   \n5082   svm  {'C': 0.95, 'degree': 3, 'epsilon': 0.35, 'ker...      -0.445817   \n5274   svm  {'C': 0.95, 'degree': 6, 'epsilon': 0.35, 'ker...      -0.445817   \n5210   svm  {'C': 0.95, 'degree': 5, 'epsilon': 0.35, 'ker...      -0.445817   \n5018   svm  {'C': 0.95, 'degree': 2, 'epsilon': 0.35, 'ker...      -0.445817   \n5026   svm  {'C': 0.95, 'degree': 2, 'epsilon': 0.45, 'ker...      -0.446709   \n5090   svm  {'C': 0.95, 'degree': 3, 'epsilon': 0.45, 'ker...      -0.446709   \n5154   svm  {'C': 0.95, 'degree': 4, 'epsilon': 0.45, 'ker...      -0.446709   \n5282   svm  {'C': 0.95, 'degree': 6, 'epsilon': 0.45, 'ker...      -0.446709   \n5346   svm  {'C': 0.95, 'degree': 7, 'epsilon': 0.45, 'ker...      -0.446709   \n5218   svm  {'C': 0.95, 'degree': 5, 'epsilon': 0.45, 'ker...      -0.446709   \n4702   svm  {'C': 0.9, 'degree': 3, 'epsilon': 0.4, 'kerne...      -0.450792   \n4830   svm  {'C': 0.9, 'degree': 5, 'epsilon': 0.4, 'kerne...      -0.450792   \n\n      std_test_mse  mean_test_mae  std_test_mae  mean_test_r2  std_test_r2  \n5342      0.296846      -0.551709      0.132190     -0.544083     0.204819  \n5214      0.296846      -0.551709      0.132190     -0.544083     0.204819  \n5150      0.296846      -0.551709      0.132190     -0.544083     0.204819  \n5086      0.296846      -0.551709      0.132190     -0.544083     0.204819  \n5022      0.296846      -0.551709      0.132190     -0.544083     0.204819  \n5278      0.296846      -0.551709      0.132190     -0.544083     0.204819  \n5338      0.306182      -0.547710      0.135503     -0.541198     0.216404  \n5146      0.306182      -0.547710      0.135503     -0.541198     0.216404  \n5082      0.306182      -0.547710      0.135503     -0.541198     0.216404  \n5274      0.306182      -0.547710      0.135503     -0.541198     0.216404  \n5210      0.306182      -0.547710      0.135503     -0.541198     0.216404  \n5018      0.306182      -0.547710      0.135503     -0.541198     0.216404  \n5026      0.292147      -0.559446      0.134130     -0.542244     0.197590  \n5090      0.292147      -0.559446      0.134130     -0.542244     0.197590  \n5154      0.292147      -0.559446      0.134130     -0.542244     0.197590  \n5282      0.292147      -0.559446      0.134130     -0.542244     0.197590  \n5346      0.292147      -0.559446      0.134130     -0.542244     0.197590  \n5218      0.292147      -0.559446      0.134130     -0.542244     0.197590  \n4702      0.299440      -0.555091      0.136077     -0.536919     0.206817  \n4830      0.299440      -0.555091      0.136077     -0.536919     0.206817  ",
      "text/html": "<div>\n<style scoped>\n    .dataframe tbody tr th:only-of-type {\n        vertical-align: middle;\n    }\n\n    .dataframe tbody tr th {\n        vertical-align: top;\n    }\n\n    .dataframe thead th {\n        text-align: right;\n    }\n</style>\n<table border=\"1\" class=\"dataframe\">\n  <thead>\n    <tr style=\"text-align: right;\">\n      <th></th>\n      <th>model</th>\n      <th>params</th>\n      <th>mean_test_mse</th>\n      <th>std_test_mse</th>\n      <th>mean_test_mae</th>\n      <th>std_test_mae</th>\n      <th>mean_test_r2</th>\n      <th>std_test_r2</th>\n    </tr>\n  </thead>\n  <tbody>\n    <tr>\n      <th>5342</th>\n      <td>svm</td>\n      <td>{'C': 0.95, 'degree': 7, 'epsilon': 0.4, 'kern...</td>\n      <td>-0.443829</td>\n      <td>0.296846</td>\n      <td>-0.551709</td>\n      <td>0.132190</td>\n      <td>-0.544083</td>\n      <td>0.204819</td>\n    </tr>\n    <tr>\n      <th>5214</th>\n      <td>svm</td>\n      <td>{'C': 0.95, 'degree': 5, 'epsilon': 0.4, 'kern...</td>\n      <td>-0.443829</td>\n      <td>0.296846</td>\n      <td>-0.551709</td>\n      <td>0.132190</td>\n      <td>-0.544083</td>\n      <td>0.204819</td>\n    </tr>\n    <tr>\n      <th>5150</th>\n      <td>svm</td>\n      <td>{'C': 0.95, 'degree': 4, 'epsilon': 0.4, 'kern...</td>\n      <td>-0.443829</td>\n      <td>0.296846</td>\n      <td>-0.551709</td>\n      <td>0.132190</td>\n      <td>-0.544083</td>\n      <td>0.204819</td>\n    </tr>\n    <tr>\n      <th>5086</th>\n      <td>svm</td>\n      <td>{'C': 0.95, 'degree': 3, 'epsilon': 0.4, 'kern...</td>\n      <td>-0.443829</td>\n      <td>0.296846</td>\n      <td>-0.551709</td>\n      <td>0.132190</td>\n      <td>-0.544083</td>\n      <td>0.204819</td>\n    </tr>\n    <tr>\n      <th>5022</th>\n      <td>svm</td>\n      <td>{'C': 0.95, 'degree': 2, 'epsilon': 0.4, 'kern...</td>\n      <td>-0.443829</td>\n      <td>0.296846</td>\n      <td>-0.551709</td>\n      <td>0.132190</td>\n      <td>-0.544083</td>\n      <td>0.204819</td>\n    </tr>\n    <tr>\n      <th>5278</th>\n      <td>svm</td>\n      <td>{'C': 0.95, 'degree': 6, 'epsilon': 0.4, 'kern...</td>\n      <td>-0.443829</td>\n      <td>0.296846</td>\n      <td>-0.551709</td>\n      <td>0.132190</td>\n      <td>-0.544083</td>\n      <td>0.204819</td>\n    </tr>\n    <tr>\n      <th>5338</th>\n      <td>svm</td>\n      <td>{'C': 0.95, 'degree': 7, 'epsilon': 0.35, 'ker...</td>\n      <td>-0.445817</td>\n      <td>0.306182</td>\n      <td>-0.547710</td>\n      <td>0.135503</td>\n      <td>-0.541198</td>\n      <td>0.216404</td>\n    </tr>\n    <tr>\n      <th>5146</th>\n      <td>svm</td>\n      <td>{'C': 0.95, 'degree': 4, 'epsilon': 0.35, 'ker...</td>\n      <td>-0.445817</td>\n      <td>0.306182</td>\n      <td>-0.547710</td>\n      <td>0.135503</td>\n      <td>-0.541198</td>\n      <td>0.216404</td>\n    </tr>\n    <tr>\n      <th>5082</th>\n      <td>svm</td>\n      <td>{'C': 0.95, 'degree': 3, 'epsilon': 0.35, 'ker...</td>\n      <td>-0.445817</td>\n      <td>0.306182</td>\n      <td>-0.547710</td>\n      <td>0.135503</td>\n      <td>-0.541198</td>\n      <td>0.216404</td>\n    </tr>\n    <tr>\n      <th>5274</th>\n      <td>svm</td>\n      <td>{'C': 0.95, 'degree': 6, 'epsilon': 0.35, 'ker...</td>\n      <td>-0.445817</td>\n      <td>0.306182</td>\n      <td>-0.547710</td>\n      <td>0.135503</td>\n      <td>-0.541198</td>\n      <td>0.216404</td>\n    </tr>\n    <tr>\n      <th>5210</th>\n      <td>svm</td>\n      <td>{'C': 0.95, 'degree': 5, 'epsilon': 0.35, 'ker...</td>\n      <td>-0.445817</td>\n      <td>0.306182</td>\n      <td>-0.547710</td>\n      <td>0.135503</td>\n      <td>-0.541198</td>\n      <td>0.216404</td>\n    </tr>\n    <tr>\n      <th>5018</th>\n      <td>svm</td>\n      <td>{'C': 0.95, 'degree': 2, 'epsilon': 0.35, 'ker...</td>\n      <td>-0.445817</td>\n      <td>0.306182</td>\n      <td>-0.547710</td>\n      <td>0.135503</td>\n      <td>-0.541198</td>\n      <td>0.216404</td>\n    </tr>\n    <tr>\n      <th>5026</th>\n      <td>svm</td>\n      <td>{'C': 0.95, 'degree': 2, 'epsilon': 0.45, 'ker...</td>\n      <td>-0.446709</td>\n      <td>0.292147</td>\n      <td>-0.559446</td>\n      <td>0.134130</td>\n      <td>-0.542244</td>\n      <td>0.197590</td>\n    </tr>\n    <tr>\n      <th>5090</th>\n      <td>svm</td>\n      <td>{'C': 0.95, 'degree': 3, 'epsilon': 0.45, 'ker...</td>\n      <td>-0.446709</td>\n      <td>0.292147</td>\n      <td>-0.559446</td>\n      <td>0.134130</td>\n      <td>-0.542244</td>\n      <td>0.197590</td>\n    </tr>\n    <tr>\n      <th>5154</th>\n      <td>svm</td>\n      <td>{'C': 0.95, 'degree': 4, 'epsilon': 0.45, 'ker...</td>\n      <td>-0.446709</td>\n      <td>0.292147</td>\n      <td>-0.559446</td>\n      <td>0.134130</td>\n      <td>-0.542244</td>\n      <td>0.197590</td>\n    </tr>\n    <tr>\n      <th>5282</th>\n      <td>svm</td>\n      <td>{'C': 0.95, 'degree': 6, 'epsilon': 0.45, 'ker...</td>\n      <td>-0.446709</td>\n      <td>0.292147</td>\n      <td>-0.559446</td>\n      <td>0.134130</td>\n      <td>-0.542244</td>\n      <td>0.197590</td>\n    </tr>\n    <tr>\n      <th>5346</th>\n      <td>svm</td>\n      <td>{'C': 0.95, 'degree': 7, 'epsilon': 0.45, 'ker...</td>\n      <td>-0.446709</td>\n      <td>0.292147</td>\n      <td>-0.559446</td>\n      <td>0.134130</td>\n      <td>-0.542244</td>\n      <td>0.197590</td>\n    </tr>\n    <tr>\n      <th>5218</th>\n      <td>svm</td>\n      <td>{'C': 0.95, 'degree': 5, 'epsilon': 0.45, 'ker...</td>\n      <td>-0.446709</td>\n      <td>0.292147</td>\n      <td>-0.559446</td>\n      <td>0.134130</td>\n      <td>-0.542244</td>\n      <td>0.197590</td>\n    </tr>\n    <tr>\n      <th>4702</th>\n      <td>svm</td>\n      <td>{'C': 0.9, 'degree': 3, 'epsilon': 0.4, 'kerne...</td>\n      <td>-0.450792</td>\n      <td>0.299440</td>\n      <td>-0.555091</td>\n      <td>0.136077</td>\n      <td>-0.536919</td>\n      <td>0.206817</td>\n    </tr>\n    <tr>\n      <th>4830</th>\n      <td>svm</td>\n      <td>{'C': 0.9, 'degree': 5, 'epsilon': 0.4, 'kerne...</td>\n      <td>-0.450792</td>\n      <td>0.299440</td>\n      <td>-0.555091</td>\n      <td>0.136077</td>\n      <td>-0.536919</td>\n      <td>0.206817</td>\n    </tr>\n  </tbody>\n</table>\n</div>"
     },
     "metadata": {},
     "execution_count": 14
    }
   ],
   "source": [
    "grid_search_df.sort_values('mean_test_mse', ascending=False).head(20)"
   ]
  },
  {
   "cell_type": "code",
   "execution_count": 15,
   "metadata": {},
   "outputs": [
    {
     "output_type": "execute_result",
     "data": {
      "text/plain": "array([\"{'C': 0.95, 'degree': 7, 'epsilon': 0.4, 'kernel': 'rbf'}\",\n       \"{'C': 0.95, 'degree': 5, 'epsilon': 0.4, 'kernel': 'rbf'}\",\n       \"{'C': 0.95, 'degree': 4, 'epsilon': 0.4, 'kernel': 'rbf'}\",\n       \"{'C': 0.95, 'degree': 3, 'epsilon': 0.4, 'kernel': 'rbf'}\",\n       \"{'C': 0.95, 'degree': 2, 'epsilon': 0.4, 'kernel': 'rbf'}\",\n       \"{'C': 0.95, 'degree': 6, 'epsilon': 0.4, 'kernel': 'rbf'}\",\n       \"{'C': 0.95, 'degree': 7, 'epsilon': 0.35, 'kernel': 'rbf'}\",\n       \"{'C': 0.95, 'degree': 4, 'epsilon': 0.35, 'kernel': 'rbf'}\",\n       \"{'C': 0.95, 'degree': 3, 'epsilon': 0.35, 'kernel': 'rbf'}\",\n       \"{'C': 0.95, 'degree': 6, 'epsilon': 0.35, 'kernel': 'rbf'}\",\n       \"{'C': 0.95, 'degree': 5, 'epsilon': 0.35, 'kernel': 'rbf'}\",\n       \"{'C': 0.95, 'degree': 2, 'epsilon': 0.35, 'kernel': 'rbf'}\",\n       \"{'C': 0.95, 'degree': 2, 'epsilon': 0.45, 'kernel': 'rbf'}\",\n       \"{'C': 0.95, 'degree': 3, 'epsilon': 0.45, 'kernel': 'rbf'}\",\n       \"{'C': 0.95, 'degree': 4, 'epsilon': 0.45, 'kernel': 'rbf'}\",\n       \"{'C': 0.95, 'degree': 6, 'epsilon': 0.45, 'kernel': 'rbf'}\",\n       \"{'C': 0.95, 'degree': 7, 'epsilon': 0.45, 'kernel': 'rbf'}\",\n       \"{'C': 0.95, 'degree': 5, 'epsilon': 0.45, 'kernel': 'rbf'}\",\n       \"{'C': 0.9, 'degree': 3, 'epsilon': 0.4, 'kernel': 'rbf'}\",\n       \"{'C': 0.9, 'degree': 5, 'epsilon': 0.4, 'kernel': 'rbf'}\"],\n      dtype=object)"
     },
     "metadata": {},
     "execution_count": 15
    }
   ],
   "source": [
    "grid_search_df.sort_values('mean_test_mse', ascending=False)[\"params\"].head(20).values\n"
   ]
  },
  {
   "cell_type": "markdown",
   "metadata": {},
   "source": [
    "# KNN Regressor"
   ]
  },
  {
   "cell_type": "code",
   "execution_count": 16,
   "metadata": {},
   "outputs": [],
   "source": [
    "PATH = 'knn_grid_search_results.csv'\n"
   ]
  },
  {
   "cell_type": "code",
   "execution_count": 17,
   "metadata": {},
   "outputs": [],
   "source": [
    "grid_search_df = pd.read_csv(PATH)\n",
    "grid_search_df[\"model\"] = \"knn\"\n",
    "grid_search_df = grid_search_df[[\"model\", 'params', 'mean_test_mse', 'std_test_mse', 'mean_test_mae', 'std_test_mae', 'mean_test_r2', 'std_test_r2']]\n",
    "summary_df = summary_df.append(grid_search_df.sort_values('mean_test_mse', ascending=False).iloc[0], ignore_index=True)"
   ]
  },
  {
   "cell_type": "code",
   "execution_count": 18,
   "metadata": {},
   "outputs": [
    {
     "output_type": "execute_result",
     "data": {
      "text/plain": "   model                                             params  mean_test_mse  \\\n3    knn  {'metric': 'minkowski', 'n_neighbors': 3, 'p': 2}      -0.524689   \n2    knn  {'metric': 'minkowski', 'n_neighbors': 3, 'p': 1}      -0.527581   \n4    knn  {'metric': 'minkowski', 'n_neighbors': 5, 'p': 1}      -0.591400   \n6    knn  {'metric': 'minkowski', 'n_neighbors': 7, 'p': 1}      -0.653853   \n5    knn  {'metric': 'minkowski', 'n_neighbors': 5, 'p': 2}      -0.686381   \n7    knn  {'metric': 'minkowski', 'n_neighbors': 7, 'p': 2}      -0.691052   \n8    knn  {'metric': 'minkowski', 'n_neighbors': 9, 'p': 1}      -0.727731   \n10   knn  {'metric': 'minkowski', 'n_neighbors': 11, 'p'...      -0.763204   \n9    knn  {'metric': 'minkowski', 'n_neighbors': 9, 'p': 2}      -0.778218   \n19   knn  {'metric': 'chebyshev', 'n_neighbors': 7, 'p': 2}      -0.784725   \n18   knn  {'metric': 'chebyshev', 'n_neighbors': 7, 'p': 1}      -0.784725   \n14   knn  {'metric': 'chebyshev', 'n_neighbors': 3, 'p': 1}      -0.791119   \n15   knn  {'metric': 'chebyshev', 'n_neighbors': 3, 'p': 2}      -0.791119   \n20   knn  {'metric': 'chebyshev', 'n_neighbors': 9, 'p': 1}      -0.792676   \n21   knn  {'metric': 'chebyshev', 'n_neighbors': 9, 'p': 2}      -0.792676   \n22   knn  {'metric': 'chebyshev', 'n_neighbors': 11, 'p'...      -0.794199   \n23   knn  {'metric': 'chebyshev', 'n_neighbors': 11, 'p'...      -0.794199   \n11   knn  {'metric': 'minkowski', 'n_neighbors': 11, 'p'...      -0.804068   \n16   knn  {'metric': 'chebyshev', 'n_neighbors': 5, 'p': 1}      -0.815797   \n17   knn  {'metric': 'chebyshev', 'n_neighbors': 5, 'p': 2}      -0.815797   \n1    knn  {'metric': 'minkowski', 'n_neighbors': 1, 'p': 2}      -0.846620   \n12   knn  {'metric': 'chebyshev', 'n_neighbors': 1, 'p': 1}      -0.958243   \n13   knn  {'metric': 'chebyshev', 'n_neighbors': 1, 'p': 2}      -0.958243   \n0    knn  {'metric': 'minkowski', 'n_neighbors': 1, 'p': 1}      -0.976830   \n\n    std_test_mse  mean_test_mae  std_test_mae  mean_test_r2  std_test_r2  \n3       0.390293      -0.517333      0.125660     -0.433158     0.319620  \n2       0.384918      -0.528023      0.188565     -0.432446     0.333639  \n4       0.383434      -0.606901      0.147893     -0.346668     0.371947  \n6       0.297063      -0.661796      0.137896     -0.271522     0.214212  \n5       0.303026      -0.663702      0.122524     -0.205186     0.317213  \n7       0.253361      -0.695036      0.141707     -0.220202     0.185530  \n8       0.295265      -0.699450      0.150513     -0.179712     0.266666  \n10      0.328805      -0.714156      0.170175     -0.140577     0.303297  \n9       0.314666      -0.725095      0.174551     -0.127993     0.269804  \n19      0.293412      -0.708317      0.176022     -0.124627     0.194662  \n18      0.293412      -0.708317      0.176022     -0.124627     0.194662  \n14      0.345962      -0.695537      0.159353     -0.073062     0.358835  \n15      0.345962      -0.695537      0.159353     -0.073062     0.358835  \n20      0.341987      -0.734361      0.187840     -0.128220     0.241677  \n21      0.341987      -0.734361      0.187840     -0.128220     0.241677  \n22      0.313337      -0.749216      0.183102     -0.111160     0.249643  \n23      0.313337      -0.749216      0.183102     -0.111160     0.249643  \n11      0.370483      -0.736964      0.194426     -0.114644     0.289197  \n16      0.292746      -0.723781      0.093433     -0.054769     0.269013  \n17      0.292746      -0.723781      0.093433     -0.054769     0.269013  \n1       0.553630      -0.612199      0.225586      0.068863     0.864717  \n12      0.539334      -0.652327      0.254957      0.192735     0.709105  \n13      0.539334      -0.652327      0.254957      0.192735     0.709105  \n0       0.599740      -0.676767      0.235386      0.200628     0.855947  ",
      "text/html": "<div>\n<style scoped>\n    .dataframe tbody tr th:only-of-type {\n        vertical-align: middle;\n    }\n\n    .dataframe tbody tr th {\n        vertical-align: top;\n    }\n\n    .dataframe thead th {\n        text-align: right;\n    }\n</style>\n<table border=\"1\" class=\"dataframe\">\n  <thead>\n    <tr style=\"text-align: right;\">\n      <th></th>\n      <th>model</th>\n      <th>params</th>\n      <th>mean_test_mse</th>\n      <th>std_test_mse</th>\n      <th>mean_test_mae</th>\n      <th>std_test_mae</th>\n      <th>mean_test_r2</th>\n      <th>std_test_r2</th>\n    </tr>\n  </thead>\n  <tbody>\n    <tr>\n      <th>3</th>\n      <td>knn</td>\n      <td>{'metric': 'minkowski', 'n_neighbors': 3, 'p': 2}</td>\n      <td>-0.524689</td>\n      <td>0.390293</td>\n      <td>-0.517333</td>\n      <td>0.125660</td>\n      <td>-0.433158</td>\n      <td>0.319620</td>\n    </tr>\n    <tr>\n      <th>2</th>\n      <td>knn</td>\n      <td>{'metric': 'minkowski', 'n_neighbors': 3, 'p': 1}</td>\n      <td>-0.527581</td>\n      <td>0.384918</td>\n      <td>-0.528023</td>\n      <td>0.188565</td>\n      <td>-0.432446</td>\n      <td>0.333639</td>\n    </tr>\n    <tr>\n      <th>4</th>\n      <td>knn</td>\n      <td>{'metric': 'minkowski', 'n_neighbors': 5, 'p': 1}</td>\n      <td>-0.591400</td>\n      <td>0.383434</td>\n      <td>-0.606901</td>\n      <td>0.147893</td>\n      <td>-0.346668</td>\n      <td>0.371947</td>\n    </tr>\n    <tr>\n      <th>6</th>\n      <td>knn</td>\n      <td>{'metric': 'minkowski', 'n_neighbors': 7, 'p': 1}</td>\n      <td>-0.653853</td>\n      <td>0.297063</td>\n      <td>-0.661796</td>\n      <td>0.137896</td>\n      <td>-0.271522</td>\n      <td>0.214212</td>\n    </tr>\n    <tr>\n      <th>5</th>\n      <td>knn</td>\n      <td>{'metric': 'minkowski', 'n_neighbors': 5, 'p': 2}</td>\n      <td>-0.686381</td>\n      <td>0.303026</td>\n      <td>-0.663702</td>\n      <td>0.122524</td>\n      <td>-0.205186</td>\n      <td>0.317213</td>\n    </tr>\n    <tr>\n      <th>7</th>\n      <td>knn</td>\n      <td>{'metric': 'minkowski', 'n_neighbors': 7, 'p': 2}</td>\n      <td>-0.691052</td>\n      <td>0.253361</td>\n      <td>-0.695036</td>\n      <td>0.141707</td>\n      <td>-0.220202</td>\n      <td>0.185530</td>\n    </tr>\n    <tr>\n      <th>8</th>\n      <td>knn</td>\n      <td>{'metric': 'minkowski', 'n_neighbors': 9, 'p': 1}</td>\n      <td>-0.727731</td>\n      <td>0.295265</td>\n      <td>-0.699450</td>\n      <td>0.150513</td>\n      <td>-0.179712</td>\n      <td>0.266666</td>\n    </tr>\n    <tr>\n      <th>10</th>\n      <td>knn</td>\n      <td>{'metric': 'minkowski', 'n_neighbors': 11, 'p'...</td>\n      <td>-0.763204</td>\n      <td>0.328805</td>\n      <td>-0.714156</td>\n      <td>0.170175</td>\n      <td>-0.140577</td>\n      <td>0.303297</td>\n    </tr>\n    <tr>\n      <th>9</th>\n      <td>knn</td>\n      <td>{'metric': 'minkowski', 'n_neighbors': 9, 'p': 2}</td>\n      <td>-0.778218</td>\n      <td>0.314666</td>\n      <td>-0.725095</td>\n      <td>0.174551</td>\n      <td>-0.127993</td>\n      <td>0.269804</td>\n    </tr>\n    <tr>\n      <th>19</th>\n      <td>knn</td>\n      <td>{'metric': 'chebyshev', 'n_neighbors': 7, 'p': 2}</td>\n      <td>-0.784725</td>\n      <td>0.293412</td>\n      <td>-0.708317</td>\n      <td>0.176022</td>\n      <td>-0.124627</td>\n      <td>0.194662</td>\n    </tr>\n    <tr>\n      <th>18</th>\n      <td>knn</td>\n      <td>{'metric': 'chebyshev', 'n_neighbors': 7, 'p': 1}</td>\n      <td>-0.784725</td>\n      <td>0.293412</td>\n      <td>-0.708317</td>\n      <td>0.176022</td>\n      <td>-0.124627</td>\n      <td>0.194662</td>\n    </tr>\n    <tr>\n      <th>14</th>\n      <td>knn</td>\n      <td>{'metric': 'chebyshev', 'n_neighbors': 3, 'p': 1}</td>\n      <td>-0.791119</td>\n      <td>0.345962</td>\n      <td>-0.695537</td>\n      <td>0.159353</td>\n      <td>-0.073062</td>\n      <td>0.358835</td>\n    </tr>\n    <tr>\n      <th>15</th>\n      <td>knn</td>\n      <td>{'metric': 'chebyshev', 'n_neighbors': 3, 'p': 2}</td>\n      <td>-0.791119</td>\n      <td>0.345962</td>\n      <td>-0.695537</td>\n      <td>0.159353</td>\n      <td>-0.073062</td>\n      <td>0.358835</td>\n    </tr>\n    <tr>\n      <th>20</th>\n      <td>knn</td>\n      <td>{'metric': 'chebyshev', 'n_neighbors': 9, 'p': 1}</td>\n      <td>-0.792676</td>\n      <td>0.341987</td>\n      <td>-0.734361</td>\n      <td>0.187840</td>\n      <td>-0.128220</td>\n      <td>0.241677</td>\n    </tr>\n    <tr>\n      <th>21</th>\n      <td>knn</td>\n      <td>{'metric': 'chebyshev', 'n_neighbors': 9, 'p': 2}</td>\n      <td>-0.792676</td>\n      <td>0.341987</td>\n      <td>-0.734361</td>\n      <td>0.187840</td>\n      <td>-0.128220</td>\n      <td>0.241677</td>\n    </tr>\n    <tr>\n      <th>22</th>\n      <td>knn</td>\n      <td>{'metric': 'chebyshev', 'n_neighbors': 11, 'p'...</td>\n      <td>-0.794199</td>\n      <td>0.313337</td>\n      <td>-0.749216</td>\n      <td>0.183102</td>\n      <td>-0.111160</td>\n      <td>0.249643</td>\n    </tr>\n    <tr>\n      <th>23</th>\n      <td>knn</td>\n      <td>{'metric': 'chebyshev', 'n_neighbors': 11, 'p'...</td>\n      <td>-0.794199</td>\n      <td>0.313337</td>\n      <td>-0.749216</td>\n      <td>0.183102</td>\n      <td>-0.111160</td>\n      <td>0.249643</td>\n    </tr>\n    <tr>\n      <th>11</th>\n      <td>knn</td>\n      <td>{'metric': 'minkowski', 'n_neighbors': 11, 'p'...</td>\n      <td>-0.804068</td>\n      <td>0.370483</td>\n      <td>-0.736964</td>\n      <td>0.194426</td>\n      <td>-0.114644</td>\n      <td>0.289197</td>\n    </tr>\n    <tr>\n      <th>16</th>\n      <td>knn</td>\n      <td>{'metric': 'chebyshev', 'n_neighbors': 5, 'p': 1}</td>\n      <td>-0.815797</td>\n      <td>0.292746</td>\n      <td>-0.723781</td>\n      <td>0.093433</td>\n      <td>-0.054769</td>\n      <td>0.269013</td>\n    </tr>\n    <tr>\n      <th>17</th>\n      <td>knn</td>\n      <td>{'metric': 'chebyshev', 'n_neighbors': 5, 'p': 2}</td>\n      <td>-0.815797</td>\n      <td>0.292746</td>\n      <td>-0.723781</td>\n      <td>0.093433</td>\n      <td>-0.054769</td>\n      <td>0.269013</td>\n    </tr>\n    <tr>\n      <th>1</th>\n      <td>knn</td>\n      <td>{'metric': 'minkowski', 'n_neighbors': 1, 'p': 2}</td>\n      <td>-0.846620</td>\n      <td>0.553630</td>\n      <td>-0.612199</td>\n      <td>0.225586</td>\n      <td>0.068863</td>\n      <td>0.864717</td>\n    </tr>\n    <tr>\n      <th>12</th>\n      <td>knn</td>\n      <td>{'metric': 'chebyshev', 'n_neighbors': 1, 'p': 1}</td>\n      <td>-0.958243</td>\n      <td>0.539334</td>\n      <td>-0.652327</td>\n      <td>0.254957</td>\n      <td>0.192735</td>\n      <td>0.709105</td>\n    </tr>\n    <tr>\n      <th>13</th>\n      <td>knn</td>\n      <td>{'metric': 'chebyshev', 'n_neighbors': 1, 'p': 2}</td>\n      <td>-0.958243</td>\n      <td>0.539334</td>\n      <td>-0.652327</td>\n      <td>0.254957</td>\n      <td>0.192735</td>\n      <td>0.709105</td>\n    </tr>\n    <tr>\n      <th>0</th>\n      <td>knn</td>\n      <td>{'metric': 'minkowski', 'n_neighbors': 1, 'p': 1}</td>\n      <td>-0.976830</td>\n      <td>0.599740</td>\n      <td>-0.676767</td>\n      <td>0.235386</td>\n      <td>0.200628</td>\n      <td>0.855947</td>\n    </tr>\n  </tbody>\n</table>\n</div>"
     },
     "metadata": {},
     "execution_count": 18
    }
   ],
   "source": [
    "grid_search_df.sort_values('mean_test_mse', ascending=False)"
   ]
  },
  {
   "cell_type": "markdown",
   "metadata": {},
   "source": [
    "# Lasso Regressor"
   ]
  },
  {
   "cell_type": "code",
   "execution_count": 19,
   "metadata": {},
   "outputs": [],
   "source": [
    "PATH = 'lasso_grid_search_results.csv'"
   ]
  },
  {
   "cell_type": "code",
   "execution_count": 20,
   "metadata": {},
   "outputs": [],
   "source": [
    "grid_search_df = pd.read_csv(PATH)\n",
    "grid_search_df[\"model\"] = \"lasso\"\n",
    "grid_search_df = grid_search_df[[\"model\", 'params', 'mean_test_mse', 'std_test_mse', 'mean_test_mae', 'std_test_mae', 'mean_test_r2', 'std_test_r2']]\n",
    "summary_df = summary_df.append(grid_search_df.sort_values('mean_test_mse', ascending=False).iloc[0], ignore_index=True)"
   ]
  },
  {
   "cell_type": "code",
   "execution_count": 21,
   "metadata": {},
   "outputs": [
    {
     "output_type": "execute_result",
     "data": {
      "text/plain": "    model           params  mean_test_mse  std_test_mse  mean_test_mae  \\\n2   lasso   {'alpha': 0.1}      -0.756294      0.418466      -0.727444   \n1   lasso  {'alpha': 0.05}      -0.764458      0.613082      -0.688391   \n0   lasso  {'alpha': 0.01}      -0.794391      0.816438      -0.656261   \n3   lasso   {'alpha': 0.2}      -0.800924      0.273645      -0.763368   \n4   lasso   {'alpha': 0.3}      -0.920452      0.312461      -0.828812   \n7   lasso   {'alpha': 0.6}      -0.992561      0.317288      -0.876746   \n8   lasso   {'alpha': 0.7}      -0.992561      0.317288      -0.876746   \n9   lasso   {'alpha': 0.8}      -0.992561      0.317288      -0.876746   \n10  lasso   {'alpha': 0.9}      -0.992561      0.317288      -0.876746   \n11  lasso     {'alpha': 1}      -0.992561      0.317288      -0.876746   \n12  lasso     {'alpha': 2}      -0.992561      0.317288      -0.876746   \n13  lasso     {'alpha': 3}      -0.992561      0.317288      -0.876746   \n14  lasso     {'alpha': 5}      -0.992561      0.317288      -0.876746   \n15  lasso     {'alpha': 7}      -0.992561      0.317288      -0.876746   \n6   lasso   {'alpha': 0.5}      -0.994961      0.318536      -0.878037   \n5   lasso   {'alpha': 0.4}      -0.997850      0.329651      -0.874370   \n\n    std_test_mae  mean_test_r2  std_test_r2  \n2       0.198514     -0.164159     0.317578  \n1       0.207795     -0.174571     0.482357  \n0       0.211396     -0.148983     0.661742  \n3       0.130316     -0.092037     0.204661  \n4       0.154138      0.038398     0.178223  \n7       0.155114      0.127090     0.154243  \n8       0.155114      0.127090     0.154243  \n9       0.155114      0.127090     0.154243  \n10      0.155114      0.127090     0.154243  \n11      0.155114      0.127090     0.154243  \n12      0.155114      0.127090     0.154243  \n13      0.155114      0.127090     0.154243  \n14      0.155114      0.127090     0.154243  \n15      0.155114      0.127090     0.154243  \n6       0.155544      0.129240     0.152957  \n5       0.161490      0.128760     0.162906  ",
      "text/html": "<div>\n<style scoped>\n    .dataframe tbody tr th:only-of-type {\n        vertical-align: middle;\n    }\n\n    .dataframe tbody tr th {\n        vertical-align: top;\n    }\n\n    .dataframe thead th {\n        text-align: right;\n    }\n</style>\n<table border=\"1\" class=\"dataframe\">\n  <thead>\n    <tr style=\"text-align: right;\">\n      <th></th>\n      <th>model</th>\n      <th>params</th>\n      <th>mean_test_mse</th>\n      <th>std_test_mse</th>\n      <th>mean_test_mae</th>\n      <th>std_test_mae</th>\n      <th>mean_test_r2</th>\n      <th>std_test_r2</th>\n    </tr>\n  </thead>\n  <tbody>\n    <tr>\n      <th>2</th>\n      <td>lasso</td>\n      <td>{'alpha': 0.1}</td>\n      <td>-0.756294</td>\n      <td>0.418466</td>\n      <td>-0.727444</td>\n      <td>0.198514</td>\n      <td>-0.164159</td>\n      <td>0.317578</td>\n    </tr>\n    <tr>\n      <th>1</th>\n      <td>lasso</td>\n      <td>{'alpha': 0.05}</td>\n      <td>-0.764458</td>\n      <td>0.613082</td>\n      <td>-0.688391</td>\n      <td>0.207795</td>\n      <td>-0.174571</td>\n      <td>0.482357</td>\n    </tr>\n    <tr>\n      <th>0</th>\n      <td>lasso</td>\n      <td>{'alpha': 0.01}</td>\n      <td>-0.794391</td>\n      <td>0.816438</td>\n      <td>-0.656261</td>\n      <td>0.211396</td>\n      <td>-0.148983</td>\n      <td>0.661742</td>\n    </tr>\n    <tr>\n      <th>3</th>\n      <td>lasso</td>\n      <td>{'alpha': 0.2}</td>\n      <td>-0.800924</td>\n      <td>0.273645</td>\n      <td>-0.763368</td>\n      <td>0.130316</td>\n      <td>-0.092037</td>\n      <td>0.204661</td>\n    </tr>\n    <tr>\n      <th>4</th>\n      <td>lasso</td>\n      <td>{'alpha': 0.3}</td>\n      <td>-0.920452</td>\n      <td>0.312461</td>\n      <td>-0.828812</td>\n      <td>0.154138</td>\n      <td>0.038398</td>\n      <td>0.178223</td>\n    </tr>\n    <tr>\n      <th>7</th>\n      <td>lasso</td>\n      <td>{'alpha': 0.6}</td>\n      <td>-0.992561</td>\n      <td>0.317288</td>\n      <td>-0.876746</td>\n      <td>0.155114</td>\n      <td>0.127090</td>\n      <td>0.154243</td>\n    </tr>\n    <tr>\n      <th>8</th>\n      <td>lasso</td>\n      <td>{'alpha': 0.7}</td>\n      <td>-0.992561</td>\n      <td>0.317288</td>\n      <td>-0.876746</td>\n      <td>0.155114</td>\n      <td>0.127090</td>\n      <td>0.154243</td>\n    </tr>\n    <tr>\n      <th>9</th>\n      <td>lasso</td>\n      <td>{'alpha': 0.8}</td>\n      <td>-0.992561</td>\n      <td>0.317288</td>\n      <td>-0.876746</td>\n      <td>0.155114</td>\n      <td>0.127090</td>\n      <td>0.154243</td>\n    </tr>\n    <tr>\n      <th>10</th>\n      <td>lasso</td>\n      <td>{'alpha': 0.9}</td>\n      <td>-0.992561</td>\n      <td>0.317288</td>\n      <td>-0.876746</td>\n      <td>0.155114</td>\n      <td>0.127090</td>\n      <td>0.154243</td>\n    </tr>\n    <tr>\n      <th>11</th>\n      <td>lasso</td>\n      <td>{'alpha': 1}</td>\n      <td>-0.992561</td>\n      <td>0.317288</td>\n      <td>-0.876746</td>\n      <td>0.155114</td>\n      <td>0.127090</td>\n      <td>0.154243</td>\n    </tr>\n    <tr>\n      <th>12</th>\n      <td>lasso</td>\n      <td>{'alpha': 2}</td>\n      <td>-0.992561</td>\n      <td>0.317288</td>\n      <td>-0.876746</td>\n      <td>0.155114</td>\n      <td>0.127090</td>\n      <td>0.154243</td>\n    </tr>\n    <tr>\n      <th>13</th>\n      <td>lasso</td>\n      <td>{'alpha': 3}</td>\n      <td>-0.992561</td>\n      <td>0.317288</td>\n      <td>-0.876746</td>\n      <td>0.155114</td>\n      <td>0.127090</td>\n      <td>0.154243</td>\n    </tr>\n    <tr>\n      <th>14</th>\n      <td>lasso</td>\n      <td>{'alpha': 5}</td>\n      <td>-0.992561</td>\n      <td>0.317288</td>\n      <td>-0.876746</td>\n      <td>0.155114</td>\n      <td>0.127090</td>\n      <td>0.154243</td>\n    </tr>\n    <tr>\n      <th>15</th>\n      <td>lasso</td>\n      <td>{'alpha': 7}</td>\n      <td>-0.992561</td>\n      <td>0.317288</td>\n      <td>-0.876746</td>\n      <td>0.155114</td>\n      <td>0.127090</td>\n      <td>0.154243</td>\n    </tr>\n    <tr>\n      <th>6</th>\n      <td>lasso</td>\n      <td>{'alpha': 0.5}</td>\n      <td>-0.994961</td>\n      <td>0.318536</td>\n      <td>-0.878037</td>\n      <td>0.155544</td>\n      <td>0.129240</td>\n      <td>0.152957</td>\n    </tr>\n    <tr>\n      <th>5</th>\n      <td>lasso</td>\n      <td>{'alpha': 0.4}</td>\n      <td>-0.997850</td>\n      <td>0.329651</td>\n      <td>-0.874370</td>\n      <td>0.161490</td>\n      <td>0.128760</td>\n      <td>0.162906</td>\n    </tr>\n  </tbody>\n</table>\n</div>"
     },
     "metadata": {},
     "execution_count": 21
    }
   ],
   "source": [
    "grid_search_df.sort_values('mean_test_mse', ascending=False)"
   ]
  },
  {
   "cell_type": "markdown",
   "metadata": {},
   "source": [
    "# Elastic Net "
   ]
  },
  {
   "cell_type": "code",
   "execution_count": 22,
   "metadata": {},
   "outputs": [],
   "source": [
    "PATH = 'elastic_net_grid_search_results.csv'"
   ]
  },
  {
   "cell_type": "code",
   "execution_count": 23,
   "metadata": {},
   "outputs": [],
   "source": [
    "grid_search_df = pd.read_csv(PATH)\n",
    "grid_search_df[\"model\"] = \"elastic_net\"\n",
    "grid_search_df = grid_search_df[[\"model\", 'params', 'mean_test_mse', 'std_test_mse', 'mean_test_mae', 'std_test_mae', 'mean_test_r2', 'std_test_r2']]\n",
    "summary_df = summary_df.append(grid_search_df.sort_values('mean_test_mse', ascending=False).iloc[0], ignore_index=True)"
   ]
  },
  {
   "cell_type": "code",
   "execution_count": 24,
   "metadata": {},
   "outputs": [
    {
     "output_type": "execute_result",
     "data": {
      "text/plain": "           model                            params  mean_test_mse  \\\n63   elastic_net     {'alpha': 0.4, 'l1_ratio': 0}      -0.614463   \n42   elastic_net     {'alpha': 0.3, 'l1_ratio': 0}      -0.616365   \n84   elastic_net     {'alpha': 0.5, 'l1_ratio': 0}      -0.617829   \n105  elastic_net     {'alpha': 0.6, 'l1_ratio': 0}      -0.623849   \n43   elastic_net  {'alpha': 0.3, 'l1_ratio': 0.05}      -0.627150   \n..           ...                               ...            ...   \n158  elastic_net  {'alpha': 0.8, 'l1_ratio': 0.55}      -0.999246   \n139  elastic_net  {'alpha': 0.7, 'l1_ratio': 0.65}      -0.999391   \n120  elastic_net  {'alpha': 0.6, 'l1_ratio': 0.75}      -1.000338   \n101  elastic_net  {'alpha': 0.5, 'l1_ratio': 0.85}      -1.000467   \n102  elastic_net   {'alpha': 0.5, 'l1_ratio': 0.9}      -1.001088   \n\n     std_test_mse  mean_test_mae  std_test_mae  mean_test_r2  std_test_r2  \n63       0.266527      -0.659645      0.136967     -0.305273     0.225295  \n42       0.288802      -0.654543      0.143627     -0.306916     0.237725  \n84       0.255631      -0.666150      0.131749     -0.298916     0.220299  \n105      0.249816      -0.671653      0.128106     -0.290326     0.217834  \n43       0.288836      -0.662790      0.147488     -0.294486     0.237704  \n..            ...            ...           ...           ...          ...  \n158      0.319963      -0.878416      0.156514      0.133886     0.155388  \n139      0.318838      -0.878971      0.155890      0.134383     0.153771  \n120      0.319270      -0.879129      0.156152      0.135360     0.154166  \n101      0.323445      -0.877682      0.158355      0.134177     0.159136  \n102      0.319473      -0.879344      0.156283      0.136163     0.154205  \n\n[273 rows x 8 columns]",
      "text/html": "<div>\n<style scoped>\n    .dataframe tbody tr th:only-of-type {\n        vertical-align: middle;\n    }\n\n    .dataframe tbody tr th {\n        vertical-align: top;\n    }\n\n    .dataframe thead th {\n        text-align: right;\n    }\n</style>\n<table border=\"1\" class=\"dataframe\">\n  <thead>\n    <tr style=\"text-align: right;\">\n      <th></th>\n      <th>model</th>\n      <th>params</th>\n      <th>mean_test_mse</th>\n      <th>std_test_mse</th>\n      <th>mean_test_mae</th>\n      <th>std_test_mae</th>\n      <th>mean_test_r2</th>\n      <th>std_test_r2</th>\n    </tr>\n  </thead>\n  <tbody>\n    <tr>\n      <th>63</th>\n      <td>elastic_net</td>\n      <td>{'alpha': 0.4, 'l1_ratio': 0}</td>\n      <td>-0.614463</td>\n      <td>0.266527</td>\n      <td>-0.659645</td>\n      <td>0.136967</td>\n      <td>-0.305273</td>\n      <td>0.225295</td>\n    </tr>\n    <tr>\n      <th>42</th>\n      <td>elastic_net</td>\n      <td>{'alpha': 0.3, 'l1_ratio': 0}</td>\n      <td>-0.616365</td>\n      <td>0.288802</td>\n      <td>-0.654543</td>\n      <td>0.143627</td>\n      <td>-0.306916</td>\n      <td>0.237725</td>\n    </tr>\n    <tr>\n      <th>84</th>\n      <td>elastic_net</td>\n      <td>{'alpha': 0.5, 'l1_ratio': 0}</td>\n      <td>-0.617829</td>\n      <td>0.255631</td>\n      <td>-0.666150</td>\n      <td>0.131749</td>\n      <td>-0.298916</td>\n      <td>0.220299</td>\n    </tr>\n    <tr>\n      <th>105</th>\n      <td>elastic_net</td>\n      <td>{'alpha': 0.6, 'l1_ratio': 0}</td>\n      <td>-0.623849</td>\n      <td>0.249816</td>\n      <td>-0.671653</td>\n      <td>0.128106</td>\n      <td>-0.290326</td>\n      <td>0.217834</td>\n    </tr>\n    <tr>\n      <th>43</th>\n      <td>elastic_net</td>\n      <td>{'alpha': 0.3, 'l1_ratio': 0.05}</td>\n      <td>-0.627150</td>\n      <td>0.288836</td>\n      <td>-0.662790</td>\n      <td>0.147488</td>\n      <td>-0.294486</td>\n      <td>0.237704</td>\n    </tr>\n    <tr>\n      <th>...</th>\n      <td>...</td>\n      <td>...</td>\n      <td>...</td>\n      <td>...</td>\n      <td>...</td>\n      <td>...</td>\n      <td>...</td>\n      <td>...</td>\n    </tr>\n    <tr>\n      <th>158</th>\n      <td>elastic_net</td>\n      <td>{'alpha': 0.8, 'l1_ratio': 0.55}</td>\n      <td>-0.999246</td>\n      <td>0.319963</td>\n      <td>-0.878416</td>\n      <td>0.156514</td>\n      <td>0.133886</td>\n      <td>0.155388</td>\n    </tr>\n    <tr>\n      <th>139</th>\n      <td>elastic_net</td>\n      <td>{'alpha': 0.7, 'l1_ratio': 0.65}</td>\n      <td>-0.999391</td>\n      <td>0.318838</td>\n      <td>-0.878971</td>\n      <td>0.155890</td>\n      <td>0.134383</td>\n      <td>0.153771</td>\n    </tr>\n    <tr>\n      <th>120</th>\n      <td>elastic_net</td>\n      <td>{'alpha': 0.6, 'l1_ratio': 0.75}</td>\n      <td>-1.000338</td>\n      <td>0.319270</td>\n      <td>-0.879129</td>\n      <td>0.156152</td>\n      <td>0.135360</td>\n      <td>0.154166</td>\n    </tr>\n    <tr>\n      <th>101</th>\n      <td>elastic_net</td>\n      <td>{'alpha': 0.5, 'l1_ratio': 0.85}</td>\n      <td>-1.000467</td>\n      <td>0.323445</td>\n      <td>-0.877682</td>\n      <td>0.158355</td>\n      <td>0.134177</td>\n      <td>0.159136</td>\n    </tr>\n    <tr>\n      <th>102</th>\n      <td>elastic_net</td>\n      <td>{'alpha': 0.5, 'l1_ratio': 0.9}</td>\n      <td>-1.001088</td>\n      <td>0.319473</td>\n      <td>-0.879344</td>\n      <td>0.156283</td>\n      <td>0.136163</td>\n      <td>0.154205</td>\n    </tr>\n  </tbody>\n</table>\n<p>273 rows × 8 columns</p>\n</div>"
     },
     "metadata": {},
     "execution_count": 24
    }
   ],
   "source": [
    "grid_search_df.sort_values('mean_test_mse', ascending=False)"
   ]
  },
  {
   "cell_type": "markdown",
   "metadata": {},
   "source": [
    "# Ridge"
   ]
  },
  {
   "cell_type": "code",
   "execution_count": 25,
   "metadata": {},
   "outputs": [],
   "source": [
    "PATH = 'ridge_grid_search_results.csv'"
   ]
  },
  {
   "cell_type": "code",
   "execution_count": 26,
   "metadata": {},
   "outputs": [],
   "source": [
    "grid_search_df = pd.read_csv(PATH)\n",
    "grid_search_df[\"model\"] = \"ridge\"\n",
    "grid_search_df = grid_search_df[[\"model\", 'params', 'mean_test_mse', 'std_test_mse', 'mean_test_mae', 'std_test_mae', 'mean_test_r2', 'std_test_r2']]\n",
    "summary_df = summary_df.append(grid_search_df.sort_values('mean_test_mse', ascending=False).iloc[0], ignore_index=True)"
   ]
  },
  {
   "cell_type": "code",
   "execution_count": 27,
   "metadata": {},
   "outputs": [
    {
     "output_type": "execute_result",
     "data": {
      "text/plain": "    model           params  mean_test_mse  std_test_mse  mean_test_mae  \\\n22  ridge    {'alpha': 15}      -0.614021      0.274152      -0.656919   \n23  ridge    {'alpha': 17}      -0.614125      0.265890      -0.659688   \n21  ridge    {'alpha': 13}      -0.615486      0.285944      -0.654849   \n20  ridge    {'alpha': 10}      -0.622200      0.314560      -0.652480   \n19  ridge     {'alpha': 9}      -0.626212      0.328611      -0.651800   \n18  ridge     {'alpha': 8}      -0.631482      0.345967      -0.650981   \n17  ridge     {'alpha': 7}      -0.638348      0.367593      -0.649961   \n16  ridge     {'alpha': 6}      -0.647283      0.394838      -0.648645   \n15  ridge     {'alpha': 5}      -0.658972      0.429662      -0.646870   \n14  ridge     {'alpha': 4}      -0.674451      0.475042      -0.644340   \n13  ridge     {'alpha': 3}      -0.695376      0.535775      -0.641644   \n12  ridge     {'alpha': 2}      -0.724609      0.620100      -0.642500   \n11  ridge     {'alpha': 1}      -0.767833      0.743054      -0.648950   \n10  ridge   {'alpha': 0.9}      -0.773354      0.758383      -0.650086   \n9   ridge   {'alpha': 0.8}      -0.779179      0.774389      -0.651292   \n8   ridge   {'alpha': 0.7}      -0.785346      0.791103      -0.652578   \n7   ridge   {'alpha': 0.6}      -0.791904      0.808560      -0.653955   \n6   ridge   {'alpha': 0.5}      -0.798918      0.826791      -0.655440   \n5   ridge   {'alpha': 0.4}      -0.806478      0.845825      -0.657051   \n4   ridge   {'alpha': 0.3}      -0.814714      0.865684      -0.658816   \n3   ridge   {'alpha': 0.2}      -0.823822      0.886386      -0.660775   \n2   ridge   {'alpha': 0.1}      -0.834111      0.907944      -0.663580   \n1   ridge  {'alpha': 0.05}      -0.839847      0.919048      -0.665178   \n0   ridge  {'alpha': 0.01}      -0.844801      0.928091      -0.666544   \n\n    std_test_mae  mean_test_r2  std_test_r2  \n22      0.139527     -0.307276     0.229135  \n23      0.136647     -0.305586     0.224843  \n21      0.142906     -0.307539     0.235895  \n20      0.148225     -0.303733     0.254421  \n19      0.150053     -0.300795     0.264261  \n18      0.151965     -0.296665     0.276878  \n17      0.153937     -0.291016     0.293135  \n16      0.155919     -0.283394     0.314228  \n15      0.157823     -0.273144     0.341869  \n14      0.159473     -0.259278     0.378626  \n13      0.163159     -0.240213     0.428575  \n12      0.178791     -0.213179     0.498651  \n11      0.198178     -0.172349     0.601419  \n10      0.200744     -0.167024     0.614257  \n9       0.203463     -0.161366     0.627668  \n8       0.206356     -0.155327     0.641684  \n7       0.209446     -0.148840     0.656336  \n6       0.212766     -0.141818     0.671660  \n5       0.216358     -0.134138     0.687694  \n4       0.220279     -0.125622     0.704483  \n3       0.224615     -0.116001     0.722090  \n2       0.229209     -0.104850     0.740617  \n1       0.231713     -0.098497     0.750282  \n0       0.233851     -0.092931     0.758243  ",
      "text/html": "<div>\n<style scoped>\n    .dataframe tbody tr th:only-of-type {\n        vertical-align: middle;\n    }\n\n    .dataframe tbody tr th {\n        vertical-align: top;\n    }\n\n    .dataframe thead th {\n        text-align: right;\n    }\n</style>\n<table border=\"1\" class=\"dataframe\">\n  <thead>\n    <tr style=\"text-align: right;\">\n      <th></th>\n      <th>model</th>\n      <th>params</th>\n      <th>mean_test_mse</th>\n      <th>std_test_mse</th>\n      <th>mean_test_mae</th>\n      <th>std_test_mae</th>\n      <th>mean_test_r2</th>\n      <th>std_test_r2</th>\n    </tr>\n  </thead>\n  <tbody>\n    <tr>\n      <th>22</th>\n      <td>ridge</td>\n      <td>{'alpha': 15}</td>\n      <td>-0.614021</td>\n      <td>0.274152</td>\n      <td>-0.656919</td>\n      <td>0.139527</td>\n      <td>-0.307276</td>\n      <td>0.229135</td>\n    </tr>\n    <tr>\n      <th>23</th>\n      <td>ridge</td>\n      <td>{'alpha': 17}</td>\n      <td>-0.614125</td>\n      <td>0.265890</td>\n      <td>-0.659688</td>\n      <td>0.136647</td>\n      <td>-0.305586</td>\n      <td>0.224843</td>\n    </tr>\n    <tr>\n      <th>21</th>\n      <td>ridge</td>\n      <td>{'alpha': 13}</td>\n      <td>-0.615486</td>\n      <td>0.285944</td>\n      <td>-0.654849</td>\n      <td>0.142906</td>\n      <td>-0.307539</td>\n      <td>0.235895</td>\n    </tr>\n    <tr>\n      <th>20</th>\n      <td>ridge</td>\n      <td>{'alpha': 10}</td>\n      <td>-0.622200</td>\n      <td>0.314560</td>\n      <td>-0.652480</td>\n      <td>0.148225</td>\n      <td>-0.303733</td>\n      <td>0.254421</td>\n    </tr>\n    <tr>\n      <th>19</th>\n      <td>ridge</td>\n      <td>{'alpha': 9}</td>\n      <td>-0.626212</td>\n      <td>0.328611</td>\n      <td>-0.651800</td>\n      <td>0.150053</td>\n      <td>-0.300795</td>\n      <td>0.264261</td>\n    </tr>\n    <tr>\n      <th>18</th>\n      <td>ridge</td>\n      <td>{'alpha': 8}</td>\n      <td>-0.631482</td>\n      <td>0.345967</td>\n      <td>-0.650981</td>\n      <td>0.151965</td>\n      <td>-0.296665</td>\n      <td>0.276878</td>\n    </tr>\n    <tr>\n      <th>17</th>\n      <td>ridge</td>\n      <td>{'alpha': 7}</td>\n      <td>-0.638348</td>\n      <td>0.367593</td>\n      <td>-0.649961</td>\n      <td>0.153937</td>\n      <td>-0.291016</td>\n      <td>0.293135</td>\n    </tr>\n    <tr>\n      <th>16</th>\n      <td>ridge</td>\n      <td>{'alpha': 6}</td>\n      <td>-0.647283</td>\n      <td>0.394838</td>\n      <td>-0.648645</td>\n      <td>0.155919</td>\n      <td>-0.283394</td>\n      <td>0.314228</td>\n    </tr>\n    <tr>\n      <th>15</th>\n      <td>ridge</td>\n      <td>{'alpha': 5}</td>\n      <td>-0.658972</td>\n      <td>0.429662</td>\n      <td>-0.646870</td>\n      <td>0.157823</td>\n      <td>-0.273144</td>\n      <td>0.341869</td>\n    </tr>\n    <tr>\n      <th>14</th>\n      <td>ridge</td>\n      <td>{'alpha': 4}</td>\n      <td>-0.674451</td>\n      <td>0.475042</td>\n      <td>-0.644340</td>\n      <td>0.159473</td>\n      <td>-0.259278</td>\n      <td>0.378626</td>\n    </tr>\n    <tr>\n      <th>13</th>\n      <td>ridge</td>\n      <td>{'alpha': 3}</td>\n      <td>-0.695376</td>\n      <td>0.535775</td>\n      <td>-0.641644</td>\n      <td>0.163159</td>\n      <td>-0.240213</td>\n      <td>0.428575</td>\n    </tr>\n    <tr>\n      <th>12</th>\n      <td>ridge</td>\n      <td>{'alpha': 2}</td>\n      <td>-0.724609</td>\n      <td>0.620100</td>\n      <td>-0.642500</td>\n      <td>0.178791</td>\n      <td>-0.213179</td>\n      <td>0.498651</td>\n    </tr>\n    <tr>\n      <th>11</th>\n      <td>ridge</td>\n      <td>{'alpha': 1}</td>\n      <td>-0.767833</td>\n      <td>0.743054</td>\n      <td>-0.648950</td>\n      <td>0.198178</td>\n      <td>-0.172349</td>\n      <td>0.601419</td>\n    </tr>\n    <tr>\n      <th>10</th>\n      <td>ridge</td>\n      <td>{'alpha': 0.9}</td>\n      <td>-0.773354</td>\n      <td>0.758383</td>\n      <td>-0.650086</td>\n      <td>0.200744</td>\n      <td>-0.167024</td>\n      <td>0.614257</td>\n    </tr>\n    <tr>\n      <th>9</th>\n      <td>ridge</td>\n      <td>{'alpha': 0.8}</td>\n      <td>-0.779179</td>\n      <td>0.774389</td>\n      <td>-0.651292</td>\n      <td>0.203463</td>\n      <td>-0.161366</td>\n      <td>0.627668</td>\n    </tr>\n    <tr>\n      <th>8</th>\n      <td>ridge</td>\n      <td>{'alpha': 0.7}</td>\n      <td>-0.785346</td>\n      <td>0.791103</td>\n      <td>-0.652578</td>\n      <td>0.206356</td>\n      <td>-0.155327</td>\n      <td>0.641684</td>\n    </tr>\n    <tr>\n      <th>7</th>\n      <td>ridge</td>\n      <td>{'alpha': 0.6}</td>\n      <td>-0.791904</td>\n      <td>0.808560</td>\n      <td>-0.653955</td>\n      <td>0.209446</td>\n      <td>-0.148840</td>\n      <td>0.656336</td>\n    </tr>\n    <tr>\n      <th>6</th>\n      <td>ridge</td>\n      <td>{'alpha': 0.5}</td>\n      <td>-0.798918</td>\n      <td>0.826791</td>\n      <td>-0.655440</td>\n      <td>0.212766</td>\n      <td>-0.141818</td>\n      <td>0.671660</td>\n    </tr>\n    <tr>\n      <th>5</th>\n      <td>ridge</td>\n      <td>{'alpha': 0.4}</td>\n      <td>-0.806478</td>\n      <td>0.845825</td>\n      <td>-0.657051</td>\n      <td>0.216358</td>\n      <td>-0.134138</td>\n      <td>0.687694</td>\n    </tr>\n    <tr>\n      <th>4</th>\n      <td>ridge</td>\n      <td>{'alpha': 0.3}</td>\n      <td>-0.814714</td>\n      <td>0.865684</td>\n      <td>-0.658816</td>\n      <td>0.220279</td>\n      <td>-0.125622</td>\n      <td>0.704483</td>\n    </tr>\n    <tr>\n      <th>3</th>\n      <td>ridge</td>\n      <td>{'alpha': 0.2}</td>\n      <td>-0.823822</td>\n      <td>0.886386</td>\n      <td>-0.660775</td>\n      <td>0.224615</td>\n      <td>-0.116001</td>\n      <td>0.722090</td>\n    </tr>\n    <tr>\n      <th>2</th>\n      <td>ridge</td>\n      <td>{'alpha': 0.1}</td>\n      <td>-0.834111</td>\n      <td>0.907944</td>\n      <td>-0.663580</td>\n      <td>0.229209</td>\n      <td>-0.104850</td>\n      <td>0.740617</td>\n    </tr>\n    <tr>\n      <th>1</th>\n      <td>ridge</td>\n      <td>{'alpha': 0.05}</td>\n      <td>-0.839847</td>\n      <td>0.919048</td>\n      <td>-0.665178</td>\n      <td>0.231713</td>\n      <td>-0.098497</td>\n      <td>0.750282</td>\n    </tr>\n    <tr>\n      <th>0</th>\n      <td>ridge</td>\n      <td>{'alpha': 0.01}</td>\n      <td>-0.844801</td>\n      <td>0.928091</td>\n      <td>-0.666544</td>\n      <td>0.233851</td>\n      <td>-0.092931</td>\n      <td>0.758243</td>\n    </tr>\n  </tbody>\n</table>\n</div>"
     },
     "metadata": {},
     "execution_count": 27
    }
   ],
   "source": [
    "grid_search_df.sort_values('mean_test_mse', ascending=False)"
   ]
  },
  {
   "cell_type": "markdown",
   "metadata": {},
   "source": [
    "# SGD"
   ]
  },
  {
   "cell_type": "code",
   "execution_count": 28,
   "metadata": {},
   "outputs": [],
   "source": [
    "PATH = 'sgd_grid_search_results.csv'"
   ]
  },
  {
   "cell_type": "code",
   "execution_count": 29,
   "metadata": {},
   "outputs": [],
   "source": [
    "grid_search_df = pd.read_csv(PATH)\n",
    "grid_search_df[\"model\"] = \"sgd\"\n",
    "grid_search_df = grid_search_df[[\"model\", 'params', 'mean_test_mse', 'std_test_mse', 'mean_test_mae', 'std_test_mae', 'mean_test_r2', 'std_test_r2']]\n",
    "summary_df = summary_df.append(grid_search_df.sort_values('mean_test_mse', ascending=False).iloc[0], ignore_index=True)"
   ]
  },
  {
   "cell_type": "code",
   "execution_count": 30,
   "metadata": {},
   "outputs": [
    {
     "output_type": "execute_result",
     "data": {
      "text/plain": "      model                                             params  mean_test_mse  \\\n16473   sgd  {'alpha': 1, 'epsilon': 0.2, 'l1_ratio': 0.35,...  -5.782188e-01   \n16905   sgd  {'alpha': 1, 'epsilon': 0.2, 'l1_ratio': 0.8, ...  -5.850062e-01   \n19113   sgd  {'alpha': 1, 'epsilon': 0.1, 'l1_ratio': 1, 'l...  -5.866978e-01   \n17157   sgd  {'alpha': 1, 'epsilon': 0.15, 'l1_ratio': 0, '...  -5.889311e-01   \n19545   sgd  {'alpha': 1, 'epsilon': 0.05, 'l1_ratio': 0.4,...  -5.899237e-01   \n...     ...                                                ...            ...   \n1309    sgd  {'alpha': 0.0001, 'epsilon': 0.15, 'l1_ratio':...  -4.387479e+27   \n2653    sgd  {'alpha': 0.0001, 'epsilon': 0.1, 'l1_ratio': ...  -4.615196e+27   \n119     sgd  {'alpha': 0.0001, 'epsilon': 0.2, 'l1_ratio': ...  -4.851371e+27   \n71      sgd  {'alpha': 0.0001, 'epsilon': 0.2, 'l1_ratio': ...  -5.231180e+27   \n3660    sgd  {'alpha': 0.0001, 'epsilon': 0.05, 'l1_ratio':...  -5.332667e+27   \n\n       std_test_mse  mean_test_mae  std_test_mae  mean_test_r2   std_test_r2  \n16473  2.290627e-01  -6.347129e-01  1.188083e-01 -3.341073e-01  2.152946e-01  \n16905  2.534763e-01  -6.498031e-01  1.341282e-01 -3.308033e-01  2.376297e-01  \n19113  2.518588e-01  -6.434897e-01  1.261556e-01 -3.231573e-01  2.495046e-01  \n17157  2.300893e-01  -6.391149e-01  1.088103e-01 -3.253412e-01  2.101290e-01  \n19545  2.753682e-01  -6.373422e-01  1.460703e-01 -3.199892e-01  2.555329e-01  \n...             ...            ...           ...           ...           ...  \n1309   5.108791e+27  -4.561071e+13  2.822597e+13  4.573260e+27  4.665539e+27  \n2653   7.863841e+27  -4.112342e+13  3.009719e+13  4.908101e+27  6.925827e+27  \n119    5.390153e+27  -4.905001e+13  2.918292e+13  4.773441e+27  4.498933e+27  \n71     8.627828e+27  -3.871316e+13  2.852070e+13  5.621983e+27  9.164078e+27  \n3660   8.068575e+27  -4.290701e+13  3.140077e+13  5.469603e+27  7.663810e+27  \n\n[20160 rows x 8 columns]",
      "text/html": "<div>\n<style scoped>\n    .dataframe tbody tr th:only-of-type {\n        vertical-align: middle;\n    }\n\n    .dataframe tbody tr th {\n        vertical-align: top;\n    }\n\n    .dataframe thead th {\n        text-align: right;\n    }\n</style>\n<table border=\"1\" class=\"dataframe\">\n  <thead>\n    <tr style=\"text-align: right;\">\n      <th></th>\n      <th>model</th>\n      <th>params</th>\n      <th>mean_test_mse</th>\n      <th>std_test_mse</th>\n      <th>mean_test_mae</th>\n      <th>std_test_mae</th>\n      <th>mean_test_r2</th>\n      <th>std_test_r2</th>\n    </tr>\n  </thead>\n  <tbody>\n    <tr>\n      <th>16473</th>\n      <td>sgd</td>\n      <td>{'alpha': 1, 'epsilon': 0.2, 'l1_ratio': 0.35,...</td>\n      <td>-5.782188e-01</td>\n      <td>2.290627e-01</td>\n      <td>-6.347129e-01</td>\n      <td>1.188083e-01</td>\n      <td>-3.341073e-01</td>\n      <td>2.152946e-01</td>\n    </tr>\n    <tr>\n      <th>16905</th>\n      <td>sgd</td>\n      <td>{'alpha': 1, 'epsilon': 0.2, 'l1_ratio': 0.8, ...</td>\n      <td>-5.850062e-01</td>\n      <td>2.534763e-01</td>\n      <td>-6.498031e-01</td>\n      <td>1.341282e-01</td>\n      <td>-3.308033e-01</td>\n      <td>2.376297e-01</td>\n    </tr>\n    <tr>\n      <th>19113</th>\n      <td>sgd</td>\n      <td>{'alpha': 1, 'epsilon': 0.1, 'l1_ratio': 1, 'l...</td>\n      <td>-5.866978e-01</td>\n      <td>2.518588e-01</td>\n      <td>-6.434897e-01</td>\n      <td>1.261556e-01</td>\n      <td>-3.231573e-01</td>\n      <td>2.495046e-01</td>\n    </tr>\n    <tr>\n      <th>17157</th>\n      <td>sgd</td>\n      <td>{'alpha': 1, 'epsilon': 0.15, 'l1_ratio': 0, '...</td>\n      <td>-5.889311e-01</td>\n      <td>2.300893e-01</td>\n      <td>-6.391149e-01</td>\n      <td>1.088103e-01</td>\n      <td>-3.253412e-01</td>\n      <td>2.101290e-01</td>\n    </tr>\n    <tr>\n      <th>19545</th>\n      <td>sgd</td>\n      <td>{'alpha': 1, 'epsilon': 0.05, 'l1_ratio': 0.4,...</td>\n      <td>-5.899237e-01</td>\n      <td>2.753682e-01</td>\n      <td>-6.373422e-01</td>\n      <td>1.460703e-01</td>\n      <td>-3.199892e-01</td>\n      <td>2.555329e-01</td>\n    </tr>\n    <tr>\n      <th>...</th>\n      <td>...</td>\n      <td>...</td>\n      <td>...</td>\n      <td>...</td>\n      <td>...</td>\n      <td>...</td>\n      <td>...</td>\n      <td>...</td>\n    </tr>\n    <tr>\n      <th>1309</th>\n      <td>sgd</td>\n      <td>{'alpha': 0.0001, 'epsilon': 0.15, 'l1_ratio':...</td>\n      <td>-4.387479e+27</td>\n      <td>5.108791e+27</td>\n      <td>-4.561071e+13</td>\n      <td>2.822597e+13</td>\n      <td>4.573260e+27</td>\n      <td>4.665539e+27</td>\n    </tr>\n    <tr>\n      <th>2653</th>\n      <td>sgd</td>\n      <td>{'alpha': 0.0001, 'epsilon': 0.1, 'l1_ratio': ...</td>\n      <td>-4.615196e+27</td>\n      <td>7.863841e+27</td>\n      <td>-4.112342e+13</td>\n      <td>3.009719e+13</td>\n      <td>4.908101e+27</td>\n      <td>6.925827e+27</td>\n    </tr>\n    <tr>\n      <th>119</th>\n      <td>sgd</td>\n      <td>{'alpha': 0.0001, 'epsilon': 0.2, 'l1_ratio': ...</td>\n      <td>-4.851371e+27</td>\n      <td>5.390153e+27</td>\n      <td>-4.905001e+13</td>\n      <td>2.918292e+13</td>\n      <td>4.773441e+27</td>\n      <td>4.498933e+27</td>\n    </tr>\n    <tr>\n      <th>71</th>\n      <td>sgd</td>\n      <td>{'alpha': 0.0001, 'epsilon': 0.2, 'l1_ratio': ...</td>\n      <td>-5.231180e+27</td>\n      <td>8.627828e+27</td>\n      <td>-3.871316e+13</td>\n      <td>2.852070e+13</td>\n      <td>5.621983e+27</td>\n      <td>9.164078e+27</td>\n    </tr>\n    <tr>\n      <th>3660</th>\n      <td>sgd</td>\n      <td>{'alpha': 0.0001, 'epsilon': 0.05, 'l1_ratio':...</td>\n      <td>-5.332667e+27</td>\n      <td>8.068575e+27</td>\n      <td>-4.290701e+13</td>\n      <td>3.140077e+13</td>\n      <td>5.469603e+27</td>\n      <td>7.663810e+27</td>\n    </tr>\n  </tbody>\n</table>\n<p>20160 rows × 8 columns</p>\n</div>"
     },
     "metadata": {},
     "execution_count": 30
    }
   ],
   "source": [
    "grid_search_df.sort_values('mean_test_mse', ascending=False)"
   ]
  },
  {
   "cell_type": "code",
   "execution_count": 31,
   "metadata": {},
   "outputs": [
    {
     "output_type": "execute_result",
     "data": {
      "text/plain": "array([\"{'alpha': 1, 'epsilon': 0.2, 'l1_ratio': 0.35, 'learning_rate': 'constant', 'loss': 'squared_epsilon_insensitive', 'penalty': 'l2'}\",\n       \"{'alpha': 1, 'epsilon': 0.2, 'l1_ratio': 0.8, 'learning_rate': 'constant', 'loss': 'squared_epsilon_insensitive', 'penalty': 'l2'}\",\n       \"{'alpha': 1, 'epsilon': 0.1, 'l1_ratio': 1, 'learning_rate': 'constant', 'loss': 'squared_epsilon_insensitive', 'penalty': 'l2'}\",\n       \"{'alpha': 1, 'epsilon': 0.15, 'l1_ratio': 0, 'learning_rate': 'optimal', 'loss': 'squared_epsilon_insensitive', 'penalty': 'l2'}\",\n       \"{'alpha': 1, 'epsilon': 0.05, 'l1_ratio': 0.4, 'learning_rate': 'constant', 'loss': 'squared_epsilon_insensitive', 'penalty': 'l2'}\",\n       \"{'alpha': 1, 'epsilon': 0.15, 'l1_ratio': 0.95, 'learning_rate': 'optimal', 'loss': 'squared_epsilon_insensitive', 'penalty': 'l2'}\",\n       \"{'alpha': 1, 'epsilon': 0.2, 'l1_ratio': 1, 'learning_rate': 'constant', 'loss': 'squared_epsilon_insensitive', 'penalty': 'l2'}\",\n       \"{'alpha': 1, 'epsilon': 0.2, 'l1_ratio': 0.9, 'learning_rate': 'constant', 'loss': 'squared_epsilon_insensitive', 'penalty': 'l2'}\",\n       \"{'alpha': 1, 'epsilon': 0.05, 'l1_ratio': 1, 'learning_rate': 'constant', 'loss': 'squared_epsilon_insensitive', 'penalty': 'l2'}\",\n       \"{'alpha': 1, 'epsilon': 0.05, 'l1_ratio': 0.65, 'learning_rate': 'constant', 'loss': 'squared_epsilon_insensitive', 'penalty': 'l2'}\",\n       \"{'alpha': 1, 'epsilon': 0.2, 'l1_ratio': 0.45, 'learning_rate': 'constant', 'loss': 'squared_epsilon_insensitive', 'penalty': 'l2'}\",\n       \"{'alpha': 1, 'epsilon': 0.05, 'l1_ratio': 0.2, 'learning_rate': 'optimal', 'loss': 'squared_epsilon_insensitive', 'penalty': 'l2'}\",\n       \"{'alpha': 1, 'epsilon': 0.2, 'l1_ratio': 0.75, 'learning_rate': 'optimal', 'loss': 'squared_epsilon_insensitive', 'penalty': 'l2'}\",\n       \"{'alpha': 1, 'epsilon': 0.1, 'l1_ratio': 0.35, 'learning_rate': 'constant', 'loss': 'squared_epsilon_insensitive', 'penalty': 'l2'}\",\n       \"{'alpha': 1, 'epsilon': 0.2, 'l1_ratio': 0.55, 'learning_rate': 'constant', 'loss': 'squared_epsilon_insensitive', 'penalty': 'l2'}\",\n       \"{'alpha': 1, 'epsilon': 0.15, 'l1_ratio': 0.15, 'learning_rate': 'optimal', 'loss': 'squared_epsilon_insensitive', 'penalty': 'l2'}\",\n       \"{'alpha': 1, 'epsilon': 0.15, 'l1_ratio': 0, 'learning_rate': 'constant', 'loss': 'squared_epsilon_insensitive', 'penalty': 'l2'}\",\n       \"{'alpha': 1, 'epsilon': 0.15, 'l1_ratio': 0.8, 'learning_rate': 'constant', 'loss': 'squared_epsilon_insensitive', 'penalty': 'l2'}\",\n       \"{'alpha': 1, 'epsilon': 0.05, 'l1_ratio': 0.95, 'learning_rate': 'constant', 'loss': 'squared_epsilon_insensitive', 'penalty': 'l2'}\",\n       \"{'alpha': 1, 'epsilon': 0.1, 'l1_ratio': 0.9, 'learning_rate': 'constant', 'loss': 'squared_epsilon_insensitive', 'penalty': 'l2'}\"],\n      dtype=object)"
     },
     "metadata": {},
     "execution_count": 31
    }
   ],
   "source": [
    "grid_search_df.sort_values('mean_test_mse', ascending=False)[\"params\"].head(20).values"
   ]
  },
  {
   "cell_type": "markdown",
   "metadata": {},
   "source": [
    "# Sumário"
   ]
  },
  {
   "cell_type": "code",
   "execution_count": 32,
   "metadata": {},
   "outputs": [
    {
     "output_type": "execute_result",
     "data": {
      "text/plain": "           model                                             params  \\\n0  random_forest          {'criterion': 'mse', 'n_estimators': 200}   \n1      ada_boost  {'learning_rate': 0.75, 'loss': 'linear', 'n_e...   \n2            svm  {'C': 0.95, 'degree': 7, 'epsilon': 0.4, 'kern...   \n3            knn  {'metric': 'minkowski', 'n_neighbors': 3, 'p': 2}   \n7            sgd  {'alpha': 1, 'epsilon': 0.2, 'l1_ratio': 0.35,...   \n6          ridge                                      {'alpha': 15}   \n5    elastic_net                      {'alpha': 0.4, 'l1_ratio': 0}   \n4          lasso                                     {'alpha': 0.1}   \n\n   mean_test_mse  std_test_mse  mean_test_mae  std_test_mae  mean_test_r2  \\\n0      -0.030962      0.022138      -0.133181      0.041979     -0.506962   \n1      -0.032744      0.025578      -0.128026      0.041854     -0.449507   \n2      -0.443829      0.296846      -0.551709      0.132190     -0.544083   \n3      -0.524689      0.390293      -0.517333      0.125660     -0.433158   \n7      -0.578219      0.229063      -0.634713      0.118808     -0.334107   \n6      -0.614021      0.274152      -0.656919      0.139527     -0.307276   \n5      -0.614463      0.266527      -0.659645      0.136967     -0.305273   \n4      -0.756294      0.418466      -0.727444      0.198514     -0.164159   \n\n   std_test_r2  \n0     0.368710  \n1     0.464698  \n2     0.204819  \n3     0.319620  \n7     0.215295  \n6     0.229135  \n5     0.225295  \n4     0.317578  ",
      "text/html": "<div>\n<style scoped>\n    .dataframe tbody tr th:only-of-type {\n        vertical-align: middle;\n    }\n\n    .dataframe tbody tr th {\n        vertical-align: top;\n    }\n\n    .dataframe thead th {\n        text-align: right;\n    }\n</style>\n<table border=\"1\" class=\"dataframe\">\n  <thead>\n    <tr style=\"text-align: right;\">\n      <th></th>\n      <th>model</th>\n      <th>params</th>\n      <th>mean_test_mse</th>\n      <th>std_test_mse</th>\n      <th>mean_test_mae</th>\n      <th>std_test_mae</th>\n      <th>mean_test_r2</th>\n      <th>std_test_r2</th>\n    </tr>\n  </thead>\n  <tbody>\n    <tr>\n      <th>0</th>\n      <td>random_forest</td>\n      <td>{'criterion': 'mse', 'n_estimators': 200}</td>\n      <td>-0.030962</td>\n      <td>0.022138</td>\n      <td>-0.133181</td>\n      <td>0.041979</td>\n      <td>-0.506962</td>\n      <td>0.368710</td>\n    </tr>\n    <tr>\n      <th>1</th>\n      <td>ada_boost</td>\n      <td>{'learning_rate': 0.75, 'loss': 'linear', 'n_e...</td>\n      <td>-0.032744</td>\n      <td>0.025578</td>\n      <td>-0.128026</td>\n      <td>0.041854</td>\n      <td>-0.449507</td>\n      <td>0.464698</td>\n    </tr>\n    <tr>\n      <th>2</th>\n      <td>svm</td>\n      <td>{'C': 0.95, 'degree': 7, 'epsilon': 0.4, 'kern...</td>\n      <td>-0.443829</td>\n      <td>0.296846</td>\n      <td>-0.551709</td>\n      <td>0.132190</td>\n      <td>-0.544083</td>\n      <td>0.204819</td>\n    </tr>\n    <tr>\n      <th>3</th>\n      <td>knn</td>\n      <td>{'metric': 'minkowski', 'n_neighbors': 3, 'p': 2}</td>\n      <td>-0.524689</td>\n      <td>0.390293</td>\n      <td>-0.517333</td>\n      <td>0.125660</td>\n      <td>-0.433158</td>\n      <td>0.319620</td>\n    </tr>\n    <tr>\n      <th>7</th>\n      <td>sgd</td>\n      <td>{'alpha': 1, 'epsilon': 0.2, 'l1_ratio': 0.35,...</td>\n      <td>-0.578219</td>\n      <td>0.229063</td>\n      <td>-0.634713</td>\n      <td>0.118808</td>\n      <td>-0.334107</td>\n      <td>0.215295</td>\n    </tr>\n    <tr>\n      <th>6</th>\n      <td>ridge</td>\n      <td>{'alpha': 15}</td>\n      <td>-0.614021</td>\n      <td>0.274152</td>\n      <td>-0.656919</td>\n      <td>0.139527</td>\n      <td>-0.307276</td>\n      <td>0.229135</td>\n    </tr>\n    <tr>\n      <th>5</th>\n      <td>elastic_net</td>\n      <td>{'alpha': 0.4, 'l1_ratio': 0}</td>\n      <td>-0.614463</td>\n      <td>0.266527</td>\n      <td>-0.659645</td>\n      <td>0.136967</td>\n      <td>-0.305273</td>\n      <td>0.225295</td>\n    </tr>\n    <tr>\n      <th>4</th>\n      <td>lasso</td>\n      <td>{'alpha': 0.1}</td>\n      <td>-0.756294</td>\n      <td>0.418466</td>\n      <td>-0.727444</td>\n      <td>0.198514</td>\n      <td>-0.164159</td>\n      <td>0.317578</td>\n    </tr>\n  </tbody>\n</table>\n</div>"
     },
     "metadata": {},
     "execution_count": 32
    }
   ],
   "source": [
    "summary_df.sort_values(by='mean_test_mse', ascending=False).head(20)"
   ]
  },
  {
   "cell_type": "code",
   "execution_count": null,
   "metadata": {},
   "outputs": [],
   "source": []
  }
 ],
 "metadata": {
  "language_info": {
   "name": "python",
   "codemirror_mode": {
    "name": "ipython",
    "version": 3
   },
   "version": "3.6.9-final"
  },
  "orig_nbformat": 2,
  "file_extension": ".py",
  "mimetype": "text/x-python",
  "name": "python",
  "npconvert_exporter": "python",
  "pygments_lexer": "ipython3",
  "version": 3,
  "kernelspec": {
   "name": "python36964bitbertvirtualenv054cbb15ab924922a35a349b12e89805",
   "display_name": "Python 3.6.9 64-bit ('bert': virtualenv)"
  }
 },
 "nbformat": 4,
 "nbformat_minor": 2
}