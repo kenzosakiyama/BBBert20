{
 "cells": [
  {
   "cell_type": "code",
   "execution_count": 1,
   "metadata": {},
   "outputs": [],
   "source": [
    "import pandas as pd"
   ]
  },
  {
   "cell_type": "code",
   "execution_count": 2,
   "metadata": {},
   "outputs": [],
   "source": [
    "summary_df = pd.DataFrame(columns=[\"model\", 'params', 'mean_test_mse', 'std_test_mse', 'mean_test_mae', 'std_test_mae', 'mean_test_r2', 'std_test_r2'])"
   ]
  },
  {
   "cell_type": "code",
   "execution_count": 3,
   "metadata": {},
   "outputs": [
    {
     "output_type": "execute_result",
     "data": {
      "text/plain": "Empty DataFrame\nColumns: [model, params, mean_test_mse, std_test_mse, mean_test_mae, std_test_mae, mean_test_r2, std_test_r2]\nIndex: []",
      "text/html": "<div>\n<style scoped>\n    .dataframe tbody tr th:only-of-type {\n        vertical-align: middle;\n    }\n\n    .dataframe tbody tr th {\n        vertical-align: top;\n    }\n\n    .dataframe thead th {\n        text-align: right;\n    }\n</style>\n<table border=\"1\" class=\"dataframe\">\n  <thead>\n    <tr style=\"text-align: right;\">\n      <th></th>\n      <th>model</th>\n      <th>params</th>\n      <th>mean_test_mse</th>\n      <th>std_test_mse</th>\n      <th>mean_test_mae</th>\n      <th>std_test_mae</th>\n      <th>mean_test_r2</th>\n      <th>std_test_r2</th>\n    </tr>\n  </thead>\n  <tbody>\n  </tbody>\n</table>\n</div>"
     },
     "metadata": {},
     "execution_count": 3
    }
   ],
   "source": [
    "summary_df"
   ]
  },
  {
   "cell_type": "markdown",
   "metadata": {},
   "source": [
    "# Random Forest Regressor"
   ]
  },
  {
   "cell_type": "code",
   "execution_count": 4,
   "metadata": {},
   "outputs": [],
   "source": [
    "PATH = 'random_forest_grid_search_results.csv'"
   ]
  },
  {
   "cell_type": "code",
   "execution_count": 5,
   "metadata": {},
   "outputs": [],
   "source": [
    "grid_search_df = pd.read_csv(PATH)"
   ]
  },
  {
   "cell_type": "code",
   "execution_count": 6,
   "metadata": {},
   "outputs": [],
   "source": [
    "grid_search_df[\"model\"] = \"random_forest\"\n",
    "grid_search_df = grid_search_df[[\"model\", 'params', 'mean_test_mse', 'std_test_mse', 'mean_test_mae', 'std_test_mae', 'mean_test_r2', 'std_test_r2']]\n",
    "summary_df = summary_df.append(grid_search_df.sort_values('mean_test_mse', ascending=False).iloc[0], ignore_index=True)"
   ]
  },
  {
   "cell_type": "code",
   "execution_count": 7,
   "metadata": {},
   "outputs": [
    {
     "output_type": "execute_result",
     "data": {
      "text/plain": "            model                                       params  mean_test_mse  \\\n2   random_forest    {'criterion': 'mse', 'n_estimators': 500}      -0.039055   \n5   random_forest   {'criterion': 'mse', 'n_estimators': 3000}      -0.039091   \n1   random_forest    {'criterion': 'mse', 'n_estimators': 200}      -0.039487   \n7   random_forest  {'criterion': 'mse', 'n_estimators': 10000}      -0.039501   \n6   random_forest   {'criterion': 'mse', 'n_estimators': 5000}      -0.039575   \n4   random_forest   {'criterion': 'mse', 'n_estimators': 2000}      -0.039585   \n3   random_forest   {'criterion': 'mse', 'n_estimators': 1000}      -0.039946   \n13  random_forest   {'criterion': 'mae', 'n_estimators': 3000}      -0.040617   \n10  random_forest    {'criterion': 'mae', 'n_estimators': 500}      -0.040642   \n12  random_forest   {'criterion': 'mae', 'n_estimators': 2000}      -0.040709   \n15  random_forest  {'criterion': 'mae', 'n_estimators': 10000}      -0.040980   \n14  random_forest   {'criterion': 'mae', 'n_estimators': 5000}      -0.041061   \n0   random_forest    {'criterion': 'mse', 'n_estimators': 100}      -0.041077   \n11  random_forest   {'criterion': 'mae', 'n_estimators': 1000}      -0.041377   \n8   random_forest    {'criterion': 'mae', 'n_estimators': 100}      -0.042106   \n9   random_forest    {'criterion': 'mae', 'n_estimators': 200}      -0.042767   \n\n    std_test_mse  mean_test_mae  std_test_mae  mean_test_r2  std_test_r2  \n2       0.025529      -0.145015      0.040506     -0.146281     0.848210  \n5       0.025579      -0.146722      0.041787     -0.141457     0.861199  \n1       0.025158      -0.147716      0.039274     -0.122310     0.897449  \n7       0.026048      -0.147214      0.042505     -0.146425     0.829253  \n6       0.025812      -0.147711      0.041352     -0.141986     0.835872  \n4       0.026173      -0.146931      0.042591     -0.135739     0.859651  \n3       0.026560      -0.148084      0.042725     -0.138414     0.828437  \n13      0.025514      -0.148577      0.043082     -0.103921     0.898077  \n10      0.024932      -0.147740      0.044029     -0.105040     0.893335  \n12      0.025955      -0.148825      0.043793     -0.101728     0.905146  \n15      0.026430      -0.148775      0.044422     -0.107313     0.872379  \n14      0.026296      -0.149287      0.044103     -0.090815     0.917699  \n0       0.025029      -0.150860      0.038063     -0.092728     0.903154  \n11      0.026146      -0.149805      0.043460     -0.096953     0.887889  \n8       0.029917      -0.148282      0.049750     -0.111625     0.848120  \n9       0.028030      -0.150928      0.045444     -0.058075     0.937601  ",
      "text/html": "<div>\n<style scoped>\n    .dataframe tbody tr th:only-of-type {\n        vertical-align: middle;\n    }\n\n    .dataframe tbody tr th {\n        vertical-align: top;\n    }\n\n    .dataframe thead th {\n        text-align: right;\n    }\n</style>\n<table border=\"1\" class=\"dataframe\">\n  <thead>\n    <tr style=\"text-align: right;\">\n      <th></th>\n      <th>model</th>\n      <th>params</th>\n      <th>mean_test_mse</th>\n      <th>std_test_mse</th>\n      <th>mean_test_mae</th>\n      <th>std_test_mae</th>\n      <th>mean_test_r2</th>\n      <th>std_test_r2</th>\n    </tr>\n  </thead>\n  <tbody>\n    <tr>\n      <th>2</th>\n      <td>random_forest</td>\n      <td>{'criterion': 'mse', 'n_estimators': 500}</td>\n      <td>-0.039055</td>\n      <td>0.025529</td>\n      <td>-0.145015</td>\n      <td>0.040506</td>\n      <td>-0.146281</td>\n      <td>0.848210</td>\n    </tr>\n    <tr>\n      <th>5</th>\n      <td>random_forest</td>\n      <td>{'criterion': 'mse', 'n_estimators': 3000}</td>\n      <td>-0.039091</td>\n      <td>0.025579</td>\n      <td>-0.146722</td>\n      <td>0.041787</td>\n      <td>-0.141457</td>\n      <td>0.861199</td>\n    </tr>\n    <tr>\n      <th>1</th>\n      <td>random_forest</td>\n      <td>{'criterion': 'mse', 'n_estimators': 200}</td>\n      <td>-0.039487</td>\n      <td>0.025158</td>\n      <td>-0.147716</td>\n      <td>0.039274</td>\n      <td>-0.122310</td>\n      <td>0.897449</td>\n    </tr>\n    <tr>\n      <th>7</th>\n      <td>random_forest</td>\n      <td>{'criterion': 'mse', 'n_estimators': 10000}</td>\n      <td>-0.039501</td>\n      <td>0.026048</td>\n      <td>-0.147214</td>\n      <td>0.042505</td>\n      <td>-0.146425</td>\n      <td>0.829253</td>\n    </tr>\n    <tr>\n      <th>6</th>\n      <td>random_forest</td>\n      <td>{'criterion': 'mse', 'n_estimators': 5000}</td>\n      <td>-0.039575</td>\n      <td>0.025812</td>\n      <td>-0.147711</td>\n      <td>0.041352</td>\n      <td>-0.141986</td>\n      <td>0.835872</td>\n    </tr>\n    <tr>\n      <th>4</th>\n      <td>random_forest</td>\n      <td>{'criterion': 'mse', 'n_estimators': 2000}</td>\n      <td>-0.039585</td>\n      <td>0.026173</td>\n      <td>-0.146931</td>\n      <td>0.042591</td>\n      <td>-0.135739</td>\n      <td>0.859651</td>\n    </tr>\n    <tr>\n      <th>3</th>\n      <td>random_forest</td>\n      <td>{'criterion': 'mse', 'n_estimators': 1000}</td>\n      <td>-0.039946</td>\n      <td>0.026560</td>\n      <td>-0.148084</td>\n      <td>0.042725</td>\n      <td>-0.138414</td>\n      <td>0.828437</td>\n    </tr>\n    <tr>\n      <th>13</th>\n      <td>random_forest</td>\n      <td>{'criterion': 'mae', 'n_estimators': 3000}</td>\n      <td>-0.040617</td>\n      <td>0.025514</td>\n      <td>-0.148577</td>\n      <td>0.043082</td>\n      <td>-0.103921</td>\n      <td>0.898077</td>\n    </tr>\n    <tr>\n      <th>10</th>\n      <td>random_forest</td>\n      <td>{'criterion': 'mae', 'n_estimators': 500}</td>\n      <td>-0.040642</td>\n      <td>0.024932</td>\n      <td>-0.147740</td>\n      <td>0.044029</td>\n      <td>-0.105040</td>\n      <td>0.893335</td>\n    </tr>\n    <tr>\n      <th>12</th>\n      <td>random_forest</td>\n      <td>{'criterion': 'mae', 'n_estimators': 2000}</td>\n      <td>-0.040709</td>\n      <td>0.025955</td>\n      <td>-0.148825</td>\n      <td>0.043793</td>\n      <td>-0.101728</td>\n      <td>0.905146</td>\n    </tr>\n    <tr>\n      <th>15</th>\n      <td>random_forest</td>\n      <td>{'criterion': 'mae', 'n_estimators': 10000}</td>\n      <td>-0.040980</td>\n      <td>0.026430</td>\n      <td>-0.148775</td>\n      <td>0.044422</td>\n      <td>-0.107313</td>\n      <td>0.872379</td>\n    </tr>\n    <tr>\n      <th>14</th>\n      <td>random_forest</td>\n      <td>{'criterion': 'mae', 'n_estimators': 5000}</td>\n      <td>-0.041061</td>\n      <td>0.026296</td>\n      <td>-0.149287</td>\n      <td>0.044103</td>\n      <td>-0.090815</td>\n      <td>0.917699</td>\n    </tr>\n    <tr>\n      <th>0</th>\n      <td>random_forest</td>\n      <td>{'criterion': 'mse', 'n_estimators': 100}</td>\n      <td>-0.041077</td>\n      <td>0.025029</td>\n      <td>-0.150860</td>\n      <td>0.038063</td>\n      <td>-0.092728</td>\n      <td>0.903154</td>\n    </tr>\n    <tr>\n      <th>11</th>\n      <td>random_forest</td>\n      <td>{'criterion': 'mae', 'n_estimators': 1000}</td>\n      <td>-0.041377</td>\n      <td>0.026146</td>\n      <td>-0.149805</td>\n      <td>0.043460</td>\n      <td>-0.096953</td>\n      <td>0.887889</td>\n    </tr>\n    <tr>\n      <th>8</th>\n      <td>random_forest</td>\n      <td>{'criterion': 'mae', 'n_estimators': 100}</td>\n      <td>-0.042106</td>\n      <td>0.029917</td>\n      <td>-0.148282</td>\n      <td>0.049750</td>\n      <td>-0.111625</td>\n      <td>0.848120</td>\n    </tr>\n    <tr>\n      <th>9</th>\n      <td>random_forest</td>\n      <td>{'criterion': 'mae', 'n_estimators': 200}</td>\n      <td>-0.042767</td>\n      <td>0.028030</td>\n      <td>-0.150928</td>\n      <td>0.045444</td>\n      <td>-0.058075</td>\n      <td>0.937601</td>\n    </tr>\n  </tbody>\n</table>\n</div>"
     },
     "metadata": {},
     "execution_count": 7
    }
   ],
   "source": [
    "grid_search_df.sort_values('mean_test_mse', ascending=False)"
   ]
  },
  {
   "cell_type": "markdown",
   "metadata": {},
   "source": [
    "# Ada Boost Regressor"
   ]
  },
  {
   "cell_type": "code",
   "execution_count": 8,
   "metadata": {},
   "outputs": [],
   "source": [
    "PATH = 'ada_boost_grid_search_results.csv'\n",
    ""
   ]
  },
  {
   "cell_type": "code",
   "execution_count": 9,
   "metadata": {},
   "outputs": [],
   "source": [
    "grid_search_df = pd.read_csv(PATH)\n",
    "grid_search_df[\"model\"] = \"ada_boost\"\n",
    "grid_search_df = grid_search_df[[\"model\", 'params', 'mean_test_mse', 'std_test_mse', 'mean_test_mae', 'std_test_mae', 'mean_test_r2', 'std_test_r2']]\n",
    "summary_df = summary_df.append(grid_search_df.sort_values('mean_test_mse', ascending=False).iloc[0], ignore_index=True)"
   ]
  },
  {
   "cell_type": "code",
   "execution_count": 10,
   "metadata": {},
   "outputs": [
    {
     "output_type": "execute_result",
     "data": {
      "text/plain": "         model                                             params  \\\n209  ada_boost  {'learning_rate': 0.45, 'loss': 'exponential',...   \n448  ada_boost  {'learning_rate': 0.95, 'loss': 'exponential',...   \n402  ada_boost  {'learning_rate': 0.85, 'loss': 'exponential',...   \n312  ada_boost  {'learning_rate': 0.7, 'loss': 'linear', 'n_es...   \n195  ada_boost  {'learning_rate': 0.45, 'loss': 'linear', 'n_e...   \n..         ...                                                ...   \n328  ada_boost  {'learning_rate': 0.7, 'loss': 'exponential', ...   \n288  ada_boost  {'learning_rate': 0.65, 'loss': 'linear', 'n_e...   \n64   ada_boost  {'learning_rate': 0.15, 'loss': 'exponential',...   \n0    ada_boost  {'learning_rate': 0.05, 'loss': 'linear', 'n_e...   \n464  ada_boost  {'learning_rate': 1.0, 'loss': 'square', 'n_es...   \n\n     mean_test_mse  std_test_mse  mean_test_mae  std_test_mae  mean_test_r2  \\\n209      -0.033303      0.025282      -0.126141      0.044147     -0.255516   \n448      -0.033332      0.027900      -0.121927      0.049471     -0.169381   \n402      -0.033893      0.024727      -0.128639      0.037755     -0.204642   \n312      -0.033965      0.026622      -0.128351      0.045770     -0.265798   \n195      -0.034137      0.028364      -0.125121      0.041743     -0.236040   \n..             ...           ...            ...           ...           ...   \n328      -0.042260      0.032964      -0.139497      0.050321      0.028362   \n288      -0.042318      0.032828      -0.140730      0.046019      0.013216   \n64       -0.042375      0.037479      -0.132873      0.047093     -0.214180   \n0        -0.042525      0.034175      -0.140031      0.047535     -0.073599   \n464      -0.043044      0.033356      -0.146591      0.048045     -0.135629   \n\n     std_test_r2  \n209     0.766523  \n448     1.039742  \n402     0.875491  \n312     0.708686  \n195     0.784055  \n..           ...  \n328     1.241136  \n288     1.174056  \n64      0.656913  \n0       0.955035  \n464     0.679812  \n\n[480 rows x 8 columns]",
      "text/html": "<div>\n<style scoped>\n    .dataframe tbody tr th:only-of-type {\n        vertical-align: middle;\n    }\n\n    .dataframe tbody tr th {\n        vertical-align: top;\n    }\n\n    .dataframe thead th {\n        text-align: right;\n    }\n</style>\n<table border=\"1\" class=\"dataframe\">\n  <thead>\n    <tr style=\"text-align: right;\">\n      <th></th>\n      <th>model</th>\n      <th>params</th>\n      <th>mean_test_mse</th>\n      <th>std_test_mse</th>\n      <th>mean_test_mae</th>\n      <th>std_test_mae</th>\n      <th>mean_test_r2</th>\n      <th>std_test_r2</th>\n    </tr>\n  </thead>\n  <tbody>\n    <tr>\n      <th>209</th>\n      <td>ada_boost</td>\n      <td>{'learning_rate': 0.45, 'loss': 'exponential',...</td>\n      <td>-0.033303</td>\n      <td>0.025282</td>\n      <td>-0.126141</td>\n      <td>0.044147</td>\n      <td>-0.255516</td>\n      <td>0.766523</td>\n    </tr>\n    <tr>\n      <th>448</th>\n      <td>ada_boost</td>\n      <td>{'learning_rate': 0.95, 'loss': 'exponential',...</td>\n      <td>-0.033332</td>\n      <td>0.027900</td>\n      <td>-0.121927</td>\n      <td>0.049471</td>\n      <td>-0.169381</td>\n      <td>1.039742</td>\n    </tr>\n    <tr>\n      <th>402</th>\n      <td>ada_boost</td>\n      <td>{'learning_rate': 0.85, 'loss': 'exponential',...</td>\n      <td>-0.033893</td>\n      <td>0.024727</td>\n      <td>-0.128639</td>\n      <td>0.037755</td>\n      <td>-0.204642</td>\n      <td>0.875491</td>\n    </tr>\n    <tr>\n      <th>312</th>\n      <td>ada_boost</td>\n      <td>{'learning_rate': 0.7, 'loss': 'linear', 'n_es...</td>\n      <td>-0.033965</td>\n      <td>0.026622</td>\n      <td>-0.128351</td>\n      <td>0.045770</td>\n      <td>-0.265798</td>\n      <td>0.708686</td>\n    </tr>\n    <tr>\n      <th>195</th>\n      <td>ada_boost</td>\n      <td>{'learning_rate': 0.45, 'loss': 'linear', 'n_e...</td>\n      <td>-0.034137</td>\n      <td>0.028364</td>\n      <td>-0.125121</td>\n      <td>0.041743</td>\n      <td>-0.236040</td>\n      <td>0.784055</td>\n    </tr>\n    <tr>\n      <th>...</th>\n      <td>...</td>\n      <td>...</td>\n      <td>...</td>\n      <td>...</td>\n      <td>...</td>\n      <td>...</td>\n      <td>...</td>\n      <td>...</td>\n    </tr>\n    <tr>\n      <th>328</th>\n      <td>ada_boost</td>\n      <td>{'learning_rate': 0.7, 'loss': 'exponential', ...</td>\n      <td>-0.042260</td>\n      <td>0.032964</td>\n      <td>-0.139497</td>\n      <td>0.050321</td>\n      <td>0.028362</td>\n      <td>1.241136</td>\n    </tr>\n    <tr>\n      <th>288</th>\n      <td>ada_boost</td>\n      <td>{'learning_rate': 0.65, 'loss': 'linear', 'n_e...</td>\n      <td>-0.042318</td>\n      <td>0.032828</td>\n      <td>-0.140730</td>\n      <td>0.046019</td>\n      <td>0.013216</td>\n      <td>1.174056</td>\n    </tr>\n    <tr>\n      <th>64</th>\n      <td>ada_boost</td>\n      <td>{'learning_rate': 0.15, 'loss': 'exponential',...</td>\n      <td>-0.042375</td>\n      <td>0.037479</td>\n      <td>-0.132873</td>\n      <td>0.047093</td>\n      <td>-0.214180</td>\n      <td>0.656913</td>\n    </tr>\n    <tr>\n      <th>0</th>\n      <td>ada_boost</td>\n      <td>{'learning_rate': 0.05, 'loss': 'linear', 'n_e...</td>\n      <td>-0.042525</td>\n      <td>0.034175</td>\n      <td>-0.140031</td>\n      <td>0.047535</td>\n      <td>-0.073599</td>\n      <td>0.955035</td>\n    </tr>\n    <tr>\n      <th>464</th>\n      <td>ada_boost</td>\n      <td>{'learning_rate': 1.0, 'loss': 'square', 'n_es...</td>\n      <td>-0.043044</td>\n      <td>0.033356</td>\n      <td>-0.146591</td>\n      <td>0.048045</td>\n      <td>-0.135629</td>\n      <td>0.679812</td>\n    </tr>\n  </tbody>\n</table>\n<p>480 rows × 8 columns</p>\n</div>"
     },
     "metadata": {},
     "execution_count": 10
    }
   ],
   "source": [
    "grid_search_df.sort_values('mean_test_mse', ascending=False)"
   ]
  },
  {
   "cell_type": "code",
   "execution_count": 11,
   "metadata": {},
   "outputs": [
    {
     "output_type": "execute_result",
     "data": {
      "text/plain": "array([\"{'learning_rate': 0.45, 'loss': 'exponential', 'n_estimators': 200}\",\n       \"{'learning_rate': 0.95, 'loss': 'exponential', 'n_estimators': 100}\",\n       \"{'learning_rate': 0.85, 'loss': 'exponential', 'n_estimators': 500}\",\n       \"{'learning_rate': 0.7, 'loss': 'linear', 'n_estimators': 100}\",\n       \"{'learning_rate': 0.45, 'loss': 'linear', 'n_estimators': 1000}\",\n       \"{'learning_rate': 1.0, 'loss': 'linear', 'n_estimators': 200}\",\n       \"{'learning_rate': 0.25, 'loss': 'linear', 'n_estimators': 100}\",\n       \"{'learning_rate': 0.95, 'loss': 'linear', 'n_estimators': 500}\",\n       \"{'learning_rate': 0.95, 'loss': 'exponential', 'n_estimators': 200}\",\n       \"{'learning_rate': 0.5, 'loss': 'square', 'n_estimators': 500}\",\n       \"{'learning_rate': 0.15, 'loss': 'exponential', 'n_estimators': 1000}\",\n       \"{'learning_rate': 0.4, 'loss': 'square', 'n_estimators': 200}\",\n       \"{'learning_rate': 0.2, 'loss': 'linear', 'n_estimators': 500}\",\n       \"{'learning_rate': 0.95, 'loss': 'exponential', 'n_estimators': 500}\",\n       \"{'learning_rate': 0.3, 'loss': 'linear', 'n_estimators': 1000}\",\n       \"{'learning_rate': 0.65, 'loss': 'linear', 'n_estimators': 500}\",\n       \"{'learning_rate': 0.6, 'loss': 'linear', 'n_estimators': 1000}\",\n       \"{'learning_rate': 0.5, 'loss': 'exponential', 'n_estimators': 200}\",\n       \"{'learning_rate': 0.3, 'loss': 'exponential', 'n_estimators': 1000}\",\n       \"{'learning_rate': 0.45, 'loss': 'linear', 'n_estimators': 200}\"],\n      dtype=object)"
     },
     "metadata": {},
     "execution_count": 11
    }
   ],
   "source": [
    "grid_search_df.sort_values('mean_test_mse', ascending=False).head(20).params.values"
   ]
  },
  {
   "cell_type": "markdown",
   "metadata": {},
   "source": [
    "# SVM Regressor"
   ]
  },
  {
   "cell_type": "code",
   "execution_count": 12,
   "metadata": {},
   "outputs": [],
   "source": [
    "PATH = 'svm_grid_search_results.csv'\n",
    ""
   ]
  },
  {
   "cell_type": "code",
   "execution_count": 13,
   "metadata": {},
   "outputs": [],
   "source": [
    "grid_search_df = pd.read_csv(PATH)\n",
    "grid_search_df[\"model\"] = \"svm\"\n",
    "grid_search_df = grid_search_df[[\"model\", 'params', 'mean_test_mse', 'std_test_mse', 'mean_test_mae', 'std_test_mae', 'mean_test_r2', 'std_test_r2']]\n",
    "summary_df = summary_df.append(grid_search_df.sort_values('mean_test_mse', ascending=False).iloc[0], ignore_index=True)"
   ]
  },
  {
   "cell_type": "code",
   "execution_count": 14,
   "metadata": {},
   "outputs": [
    {
     "output_type": "execute_result",
     "data": {
      "text/plain": "     model                                             params  mean_test_mse  \\\n5274   svm  {'C': 0.95, 'degree': 6, 'epsilon': 0.35, 'ker...      -0.460807   \n5338   svm  {'C': 0.95, 'degree': 7, 'epsilon': 0.35, 'ker...      -0.460807   \n5082   svm  {'C': 0.95, 'degree': 3, 'epsilon': 0.35, 'ker...      -0.460807   \n5146   svm  {'C': 0.95, 'degree': 4, 'epsilon': 0.35, 'ker...      -0.460807   \n5018   svm  {'C': 0.95, 'degree': 2, 'epsilon': 0.35, 'ker...      -0.460807   \n5210   svm  {'C': 0.95, 'degree': 5, 'epsilon': 0.35, 'ker...      -0.460807   \n5334   svm  {'C': 0.95, 'degree': 7, 'epsilon': 0.3, 'kern...      -0.461554   \n5078   svm  {'C': 0.95, 'degree': 3, 'epsilon': 0.3, 'kern...      -0.461554   \n5206   svm  {'C': 0.95, 'degree': 5, 'epsilon': 0.3, 'kern...      -0.461554   \n5270   svm  {'C': 0.95, 'degree': 6, 'epsilon': 0.3, 'kern...      -0.461554   \n5142   svm  {'C': 0.95, 'degree': 4, 'epsilon': 0.3, 'kern...      -0.461554   \n5014   svm  {'C': 0.95, 'degree': 2, 'epsilon': 0.3, 'kern...      -0.461554   \n5022   svm  {'C': 0.95, 'degree': 2, 'epsilon': 0.4, 'kern...      -0.462340   \n5150   svm  {'C': 0.95, 'degree': 4, 'epsilon': 0.4, 'kern...      -0.462340   \n5214   svm  {'C': 0.95, 'degree': 5, 'epsilon': 0.4, 'kern...      -0.462340   \n5278   svm  {'C': 0.95, 'degree': 6, 'epsilon': 0.4, 'kern...      -0.462340   \n5086   svm  {'C': 0.95, 'degree': 3, 'epsilon': 0.4, 'kern...      -0.462340   \n5342   svm  {'C': 0.95, 'degree': 7, 'epsilon': 0.4, 'kern...      -0.462340   \n5190   svm  {'C': 0.95, 'degree': 5, 'epsilon': 0.1, 'kern...      -0.463926   \n5254   svm  {'C': 0.95, 'degree': 6, 'epsilon': 0.1, 'kern...      -0.463926   \n\n      std_test_mse  mean_test_mae  std_test_mae  mean_test_r2  std_test_r2  \n5274      0.359737      -0.559501      0.182070     -0.358236     0.426829  \n5338      0.359737      -0.559501      0.182070     -0.358236     0.426829  \n5082      0.359737      -0.559501      0.182070     -0.358236     0.426829  \n5146      0.359737      -0.559501      0.182070     -0.358236     0.426829  \n5018      0.359737      -0.559501      0.182070     -0.358236     0.426829  \n5210      0.359737      -0.559501      0.182070     -0.358236     0.426829  \n5334      0.369617      -0.554915      0.188468     -0.360022     0.432433  \n5078      0.369617      -0.554915      0.188468     -0.360022     0.432433  \n5206      0.369617      -0.554915      0.188468     -0.360022     0.432433  \n5270      0.369617      -0.554915      0.188468     -0.360022     0.432433  \n5142      0.369617      -0.554915      0.188468     -0.360022     0.432433  \n5014      0.369617      -0.554915      0.188468     -0.360022     0.432433  \n5022      0.352920      -0.567717      0.174810     -0.347500     0.432721  \n5150      0.352920      -0.567717      0.174810     -0.347500     0.432721  \n5214      0.352920      -0.567717      0.174810     -0.347500     0.432721  \n5278      0.352920      -0.567717      0.174810     -0.347500     0.432721  \n5086      0.352920      -0.567717      0.174810     -0.347500     0.432721  \n5342      0.352920      -0.567717      0.174810     -0.347500     0.432721  \n5190      0.362724      -0.553892      0.187796     -0.310579     0.498641  \n5254      0.362724      -0.553892      0.187796     -0.310579     0.498641  ",
      "text/html": "<div>\n<style scoped>\n    .dataframe tbody tr th:only-of-type {\n        vertical-align: middle;\n    }\n\n    .dataframe tbody tr th {\n        vertical-align: top;\n    }\n\n    .dataframe thead th {\n        text-align: right;\n    }\n</style>\n<table border=\"1\" class=\"dataframe\">\n  <thead>\n    <tr style=\"text-align: right;\">\n      <th></th>\n      <th>model</th>\n      <th>params</th>\n      <th>mean_test_mse</th>\n      <th>std_test_mse</th>\n      <th>mean_test_mae</th>\n      <th>std_test_mae</th>\n      <th>mean_test_r2</th>\n      <th>std_test_r2</th>\n    </tr>\n  </thead>\n  <tbody>\n    <tr>\n      <th>5274</th>\n      <td>svm</td>\n      <td>{'C': 0.95, 'degree': 6, 'epsilon': 0.35, 'ker...</td>\n      <td>-0.460807</td>\n      <td>0.359737</td>\n      <td>-0.559501</td>\n      <td>0.182070</td>\n      <td>-0.358236</td>\n      <td>0.426829</td>\n    </tr>\n    <tr>\n      <th>5338</th>\n      <td>svm</td>\n      <td>{'C': 0.95, 'degree': 7, 'epsilon': 0.35, 'ker...</td>\n      <td>-0.460807</td>\n      <td>0.359737</td>\n      <td>-0.559501</td>\n      <td>0.182070</td>\n      <td>-0.358236</td>\n      <td>0.426829</td>\n    </tr>\n    <tr>\n      <th>5082</th>\n      <td>svm</td>\n      <td>{'C': 0.95, 'degree': 3, 'epsilon': 0.35, 'ker...</td>\n      <td>-0.460807</td>\n      <td>0.359737</td>\n      <td>-0.559501</td>\n      <td>0.182070</td>\n      <td>-0.358236</td>\n      <td>0.426829</td>\n    </tr>\n    <tr>\n      <th>5146</th>\n      <td>svm</td>\n      <td>{'C': 0.95, 'degree': 4, 'epsilon': 0.35, 'ker...</td>\n      <td>-0.460807</td>\n      <td>0.359737</td>\n      <td>-0.559501</td>\n      <td>0.182070</td>\n      <td>-0.358236</td>\n      <td>0.426829</td>\n    </tr>\n    <tr>\n      <th>5018</th>\n      <td>svm</td>\n      <td>{'C': 0.95, 'degree': 2, 'epsilon': 0.35, 'ker...</td>\n      <td>-0.460807</td>\n      <td>0.359737</td>\n      <td>-0.559501</td>\n      <td>0.182070</td>\n      <td>-0.358236</td>\n      <td>0.426829</td>\n    </tr>\n    <tr>\n      <th>5210</th>\n      <td>svm</td>\n      <td>{'C': 0.95, 'degree': 5, 'epsilon': 0.35, 'ker...</td>\n      <td>-0.460807</td>\n      <td>0.359737</td>\n      <td>-0.559501</td>\n      <td>0.182070</td>\n      <td>-0.358236</td>\n      <td>0.426829</td>\n    </tr>\n    <tr>\n      <th>5334</th>\n      <td>svm</td>\n      <td>{'C': 0.95, 'degree': 7, 'epsilon': 0.3, 'kern...</td>\n      <td>-0.461554</td>\n      <td>0.369617</td>\n      <td>-0.554915</td>\n      <td>0.188468</td>\n      <td>-0.360022</td>\n      <td>0.432433</td>\n    </tr>\n    <tr>\n      <th>5078</th>\n      <td>svm</td>\n      <td>{'C': 0.95, 'degree': 3, 'epsilon': 0.3, 'kern...</td>\n      <td>-0.461554</td>\n      <td>0.369617</td>\n      <td>-0.554915</td>\n      <td>0.188468</td>\n      <td>-0.360022</td>\n      <td>0.432433</td>\n    </tr>\n    <tr>\n      <th>5206</th>\n      <td>svm</td>\n      <td>{'C': 0.95, 'degree': 5, 'epsilon': 0.3, 'kern...</td>\n      <td>-0.461554</td>\n      <td>0.369617</td>\n      <td>-0.554915</td>\n      <td>0.188468</td>\n      <td>-0.360022</td>\n      <td>0.432433</td>\n    </tr>\n    <tr>\n      <th>5270</th>\n      <td>svm</td>\n      <td>{'C': 0.95, 'degree': 6, 'epsilon': 0.3, 'kern...</td>\n      <td>-0.461554</td>\n      <td>0.369617</td>\n      <td>-0.554915</td>\n      <td>0.188468</td>\n      <td>-0.360022</td>\n      <td>0.432433</td>\n    </tr>\n    <tr>\n      <th>5142</th>\n      <td>svm</td>\n      <td>{'C': 0.95, 'degree': 4, 'epsilon': 0.3, 'kern...</td>\n      <td>-0.461554</td>\n      <td>0.369617</td>\n      <td>-0.554915</td>\n      <td>0.188468</td>\n      <td>-0.360022</td>\n      <td>0.432433</td>\n    </tr>\n    <tr>\n      <th>5014</th>\n      <td>svm</td>\n      <td>{'C': 0.95, 'degree': 2, 'epsilon': 0.3, 'kern...</td>\n      <td>-0.461554</td>\n      <td>0.369617</td>\n      <td>-0.554915</td>\n      <td>0.188468</td>\n      <td>-0.360022</td>\n      <td>0.432433</td>\n    </tr>\n    <tr>\n      <th>5022</th>\n      <td>svm</td>\n      <td>{'C': 0.95, 'degree': 2, 'epsilon': 0.4, 'kern...</td>\n      <td>-0.462340</td>\n      <td>0.352920</td>\n      <td>-0.567717</td>\n      <td>0.174810</td>\n      <td>-0.347500</td>\n      <td>0.432721</td>\n    </tr>\n    <tr>\n      <th>5150</th>\n      <td>svm</td>\n      <td>{'C': 0.95, 'degree': 4, 'epsilon': 0.4, 'kern...</td>\n      <td>-0.462340</td>\n      <td>0.352920</td>\n      <td>-0.567717</td>\n      <td>0.174810</td>\n      <td>-0.347500</td>\n      <td>0.432721</td>\n    </tr>\n    <tr>\n      <th>5214</th>\n      <td>svm</td>\n      <td>{'C': 0.95, 'degree': 5, 'epsilon': 0.4, 'kern...</td>\n      <td>-0.462340</td>\n      <td>0.352920</td>\n      <td>-0.567717</td>\n      <td>0.174810</td>\n      <td>-0.347500</td>\n      <td>0.432721</td>\n    </tr>\n    <tr>\n      <th>5278</th>\n      <td>svm</td>\n      <td>{'C': 0.95, 'degree': 6, 'epsilon': 0.4, 'kern...</td>\n      <td>-0.462340</td>\n      <td>0.352920</td>\n      <td>-0.567717</td>\n      <td>0.174810</td>\n      <td>-0.347500</td>\n      <td>0.432721</td>\n    </tr>\n    <tr>\n      <th>5086</th>\n      <td>svm</td>\n      <td>{'C': 0.95, 'degree': 3, 'epsilon': 0.4, 'kern...</td>\n      <td>-0.462340</td>\n      <td>0.352920</td>\n      <td>-0.567717</td>\n      <td>0.174810</td>\n      <td>-0.347500</td>\n      <td>0.432721</td>\n    </tr>\n    <tr>\n      <th>5342</th>\n      <td>svm</td>\n      <td>{'C': 0.95, 'degree': 7, 'epsilon': 0.4, 'kern...</td>\n      <td>-0.462340</td>\n      <td>0.352920</td>\n      <td>-0.567717</td>\n      <td>0.174810</td>\n      <td>-0.347500</td>\n      <td>0.432721</td>\n    </tr>\n    <tr>\n      <th>5190</th>\n      <td>svm</td>\n      <td>{'C': 0.95, 'degree': 5, 'epsilon': 0.1, 'kern...</td>\n      <td>-0.463926</td>\n      <td>0.362724</td>\n      <td>-0.553892</td>\n      <td>0.187796</td>\n      <td>-0.310579</td>\n      <td>0.498641</td>\n    </tr>\n    <tr>\n      <th>5254</th>\n      <td>svm</td>\n      <td>{'C': 0.95, 'degree': 6, 'epsilon': 0.1, 'kern...</td>\n      <td>-0.463926</td>\n      <td>0.362724</td>\n      <td>-0.553892</td>\n      <td>0.187796</td>\n      <td>-0.310579</td>\n      <td>0.498641</td>\n    </tr>\n  </tbody>\n</table>\n</div>"
     },
     "metadata": {},
     "execution_count": 14
    }
   ],
   "source": [
    "grid_search_df.sort_values('mean_test_mse', ascending=False).head(20)"
   ]
  },
  {
   "cell_type": "code",
   "execution_count": 15,
   "metadata": {},
   "outputs": [
    {
     "output_type": "execute_result",
     "data": {
      "text/plain": "array([\"{'C': 0.95, 'degree': 6, 'epsilon': 0.35, 'kernel': 'rbf'}\",\n       \"{'C': 0.95, 'degree': 7, 'epsilon': 0.35, 'kernel': 'rbf'}\",\n       \"{'C': 0.95, 'degree': 3, 'epsilon': 0.35, 'kernel': 'rbf'}\",\n       \"{'C': 0.95, 'degree': 4, 'epsilon': 0.35, 'kernel': 'rbf'}\",\n       \"{'C': 0.95, 'degree': 2, 'epsilon': 0.35, 'kernel': 'rbf'}\",\n       \"{'C': 0.95, 'degree': 5, 'epsilon': 0.35, 'kernel': 'rbf'}\",\n       \"{'C': 0.95, 'degree': 7, 'epsilon': 0.3, 'kernel': 'rbf'}\",\n       \"{'C': 0.95, 'degree': 3, 'epsilon': 0.3, 'kernel': 'rbf'}\",\n       \"{'C': 0.95, 'degree': 5, 'epsilon': 0.3, 'kernel': 'rbf'}\",\n       \"{'C': 0.95, 'degree': 6, 'epsilon': 0.3, 'kernel': 'rbf'}\",\n       \"{'C': 0.95, 'degree': 4, 'epsilon': 0.3, 'kernel': 'rbf'}\",\n       \"{'C': 0.95, 'degree': 2, 'epsilon': 0.3, 'kernel': 'rbf'}\",\n       \"{'C': 0.95, 'degree': 2, 'epsilon': 0.4, 'kernel': 'rbf'}\",\n       \"{'C': 0.95, 'degree': 4, 'epsilon': 0.4, 'kernel': 'rbf'}\",\n       \"{'C': 0.95, 'degree': 5, 'epsilon': 0.4, 'kernel': 'rbf'}\",\n       \"{'C': 0.95, 'degree': 6, 'epsilon': 0.4, 'kernel': 'rbf'}\",\n       \"{'C': 0.95, 'degree': 3, 'epsilon': 0.4, 'kernel': 'rbf'}\",\n       \"{'C': 0.95, 'degree': 7, 'epsilon': 0.4, 'kernel': 'rbf'}\",\n       \"{'C': 0.95, 'degree': 5, 'epsilon': 0.1, 'kernel': 'rbf'}\",\n       \"{'C': 0.95, 'degree': 6, 'epsilon': 0.1, 'kernel': 'rbf'}\"],\n      dtype=object)"
     },
     "metadata": {},
     "execution_count": 15
    }
   ],
   "source": [
    "grid_search_df.sort_values('mean_test_mse', ascending=False)[\"params\"].head(20).values\n"
   ]
  },
  {
   "cell_type": "markdown",
   "metadata": {},
   "source": [
    "# KNN Regressor"
   ]
  },
  {
   "cell_type": "code",
   "execution_count": 16,
   "metadata": {},
   "outputs": [],
   "source": [
    "PATH = 'knn_grid_search_results.csv'\n"
   ]
  },
  {
   "cell_type": "code",
   "execution_count": 17,
   "metadata": {},
   "outputs": [],
   "source": [
    "grid_search_df = pd.read_csv(PATH)\n",
    "grid_search_df[\"model\"] = \"knn\"\n",
    "grid_search_df = grid_search_df[[\"model\", 'params', 'mean_test_mse', 'std_test_mse', 'mean_test_mae', 'std_test_mae', 'mean_test_r2', 'std_test_r2']]\n",
    "summary_df = summary_df.append(grid_search_df.sort_values('mean_test_mse', ascending=False).iloc[0], ignore_index=True)"
   ]
  },
  {
   "cell_type": "code",
   "execution_count": 18,
   "metadata": {},
   "outputs": [
    {
     "output_type": "execute_result",
     "data": {
      "text/plain": "   model                                             params  mean_test_mse  \\\n2    knn  {'metric': 'minkowski', 'n_neighbors': 3, 'p': 1}      -0.491538   \n4    knn  {'metric': 'minkowski', 'n_neighbors': 5, 'p': 1}      -0.525597   \n3    knn  {'metric': 'minkowski', 'n_neighbors': 3, 'p': 2}      -0.576751   \n6    knn  {'metric': 'minkowski', 'n_neighbors': 7, 'p': 1}      -0.607047   \n5    knn  {'metric': 'minkowski', 'n_neighbors': 5, 'p': 2}      -0.608820   \n17   knn  {'metric': 'chebyshev', 'n_neighbors': 5, 'p': 2}      -0.650714   \n16   knn  {'metric': 'chebyshev', 'n_neighbors': 5, 'p': 1}      -0.650714   \n7    knn  {'metric': 'minkowski', 'n_neighbors': 7, 'p': 2}      -0.672322   \n10   knn  {'metric': 'minkowski', 'n_neighbors': 11, 'p'...      -0.691345   \n9    knn  {'metric': 'minkowski', 'n_neighbors': 9, 'p': 2}      -0.698792   \n21   knn  {'metric': 'chebyshev', 'n_neighbors': 9, 'p': 2}      -0.706259   \n20   knn  {'metric': 'chebyshev', 'n_neighbors': 9, 'p': 1}      -0.706259   \n11   knn  {'metric': 'minkowski', 'n_neighbors': 11, 'p'...      -0.711360   \n18   knn  {'metric': 'chebyshev', 'n_neighbors': 7, 'p': 1}      -0.711978   \n19   knn  {'metric': 'chebyshev', 'n_neighbors': 7, 'p': 2}      -0.711978   \n8    knn  {'metric': 'minkowski', 'n_neighbors': 9, 'p': 1}      -0.721966   \n13   knn  {'metric': 'chebyshev', 'n_neighbors': 1, 'p': 2}      -0.743413   \n12   knn  {'metric': 'chebyshev', 'n_neighbors': 1, 'p': 1}      -0.743413   \n22   knn  {'metric': 'chebyshev', 'n_neighbors': 11, 'p'...      -0.745934   \n23   knn  {'metric': 'chebyshev', 'n_neighbors': 11, 'p'...      -0.745934   \n15   knn  {'metric': 'chebyshev', 'n_neighbors': 3, 'p': 2}      -0.751593   \n14   knn  {'metric': 'chebyshev', 'n_neighbors': 3, 'p': 1}      -0.751593   \n1    knn  {'metric': 'minkowski', 'n_neighbors': 1, 'p': 2}      -0.857533   \n0    knn  {'metric': 'minkowski', 'n_neighbors': 1, 'p': 1}      -1.164665   \n\n    std_test_mse  mean_test_mae  std_test_mae  mean_test_r2  std_test_r2  \n2       0.530217      -0.452596      0.235354     -0.228403     0.777253  \n4       0.518026      -0.526586      0.206094     -0.262286     0.602831  \n3       0.515508      -0.541273      0.220508     -0.133754     0.743151  \n6       0.426849      -0.634168      0.162641     -0.153904     0.521726  \n5       0.461331      -0.603382      0.213516     -0.215421     0.522535  \n17      0.477979      -0.650918      0.222700     -0.216609     0.458478  \n16      0.477979      -0.650918      0.222700     -0.216609     0.458478  \n7       0.463641      -0.667178      0.207446     -0.120931     0.517235  \n10      0.396193      -0.708732      0.170428     -0.046773     0.487652  \n9       0.489503      -0.674369      0.204112     -0.026387     0.604959  \n21      0.463270      -0.708773      0.205629      0.014024     0.660449  \n20      0.463270      -0.708773      0.205629      0.014024     0.660449  \n11      0.418470      -0.717392      0.172773     -0.006175     0.549136  \n18      0.456494      -0.697395      0.210756     -0.071860     0.483746  \n19      0.456494      -0.697395      0.210756     -0.071860     0.483746  \n8       0.485204      -0.708941      0.185930     -0.030151     0.553911  \n13      0.700366      -0.603831      0.330188      1.365301     4.915001  \n12      0.700366      -0.603831      0.330188      1.365301     4.915001  \n22      0.371082      -0.739618      0.167352      0.076099     0.603073  \n23      0.371082      -0.739618      0.167352      0.076099     0.603073  \n15      0.369568      -0.694189      0.178162      0.158631     0.775203  \n14      0.369568      -0.694189      0.178162      0.158631     0.775203  \n1       0.599821      -0.641352      0.283500      1.452366     4.563497  \n0       0.892585      -0.806559      0.365633      1.984500     4.937186  ",
      "text/html": "<div>\n<style scoped>\n    .dataframe tbody tr th:only-of-type {\n        vertical-align: middle;\n    }\n\n    .dataframe tbody tr th {\n        vertical-align: top;\n    }\n\n    .dataframe thead th {\n        text-align: right;\n    }\n</style>\n<table border=\"1\" class=\"dataframe\">\n  <thead>\n    <tr style=\"text-align: right;\">\n      <th></th>\n      <th>model</th>\n      <th>params</th>\n      <th>mean_test_mse</th>\n      <th>std_test_mse</th>\n      <th>mean_test_mae</th>\n      <th>std_test_mae</th>\n      <th>mean_test_r2</th>\n      <th>std_test_r2</th>\n    </tr>\n  </thead>\n  <tbody>\n    <tr>\n      <th>2</th>\n      <td>knn</td>\n      <td>{'metric': 'minkowski', 'n_neighbors': 3, 'p': 1}</td>\n      <td>-0.491538</td>\n      <td>0.530217</td>\n      <td>-0.452596</td>\n      <td>0.235354</td>\n      <td>-0.228403</td>\n      <td>0.777253</td>\n    </tr>\n    <tr>\n      <th>4</th>\n      <td>knn</td>\n      <td>{'metric': 'minkowski', 'n_neighbors': 5, 'p': 1}</td>\n      <td>-0.525597</td>\n      <td>0.518026</td>\n      <td>-0.526586</td>\n      <td>0.206094</td>\n      <td>-0.262286</td>\n      <td>0.602831</td>\n    </tr>\n    <tr>\n      <th>3</th>\n      <td>knn</td>\n      <td>{'metric': 'minkowski', 'n_neighbors': 3, 'p': 2}</td>\n      <td>-0.576751</td>\n      <td>0.515508</td>\n      <td>-0.541273</td>\n      <td>0.220508</td>\n      <td>-0.133754</td>\n      <td>0.743151</td>\n    </tr>\n    <tr>\n      <th>6</th>\n      <td>knn</td>\n      <td>{'metric': 'minkowski', 'n_neighbors': 7, 'p': 1}</td>\n      <td>-0.607047</td>\n      <td>0.426849</td>\n      <td>-0.634168</td>\n      <td>0.162641</td>\n      <td>-0.153904</td>\n      <td>0.521726</td>\n    </tr>\n    <tr>\n      <th>5</th>\n      <td>knn</td>\n      <td>{'metric': 'minkowski', 'n_neighbors': 5, 'p': 2}</td>\n      <td>-0.608820</td>\n      <td>0.461331</td>\n      <td>-0.603382</td>\n      <td>0.213516</td>\n      <td>-0.215421</td>\n      <td>0.522535</td>\n    </tr>\n    <tr>\n      <th>17</th>\n      <td>knn</td>\n      <td>{'metric': 'chebyshev', 'n_neighbors': 5, 'p': 2}</td>\n      <td>-0.650714</td>\n      <td>0.477979</td>\n      <td>-0.650918</td>\n      <td>0.222700</td>\n      <td>-0.216609</td>\n      <td>0.458478</td>\n    </tr>\n    <tr>\n      <th>16</th>\n      <td>knn</td>\n      <td>{'metric': 'chebyshev', 'n_neighbors': 5, 'p': 1}</td>\n      <td>-0.650714</td>\n      <td>0.477979</td>\n      <td>-0.650918</td>\n      <td>0.222700</td>\n      <td>-0.216609</td>\n      <td>0.458478</td>\n    </tr>\n    <tr>\n      <th>7</th>\n      <td>knn</td>\n      <td>{'metric': 'minkowski', 'n_neighbors': 7, 'p': 2}</td>\n      <td>-0.672322</td>\n      <td>0.463641</td>\n      <td>-0.667178</td>\n      <td>0.207446</td>\n      <td>-0.120931</td>\n      <td>0.517235</td>\n    </tr>\n    <tr>\n      <th>10</th>\n      <td>knn</td>\n      <td>{'metric': 'minkowski', 'n_neighbors': 11, 'p'...</td>\n      <td>-0.691345</td>\n      <td>0.396193</td>\n      <td>-0.708732</td>\n      <td>0.170428</td>\n      <td>-0.046773</td>\n      <td>0.487652</td>\n    </tr>\n    <tr>\n      <th>9</th>\n      <td>knn</td>\n      <td>{'metric': 'minkowski', 'n_neighbors': 9, 'p': 2}</td>\n      <td>-0.698792</td>\n      <td>0.489503</td>\n      <td>-0.674369</td>\n      <td>0.204112</td>\n      <td>-0.026387</td>\n      <td>0.604959</td>\n    </tr>\n    <tr>\n      <th>21</th>\n      <td>knn</td>\n      <td>{'metric': 'chebyshev', 'n_neighbors': 9, 'p': 2}</td>\n      <td>-0.706259</td>\n      <td>0.463270</td>\n      <td>-0.708773</td>\n      <td>0.205629</td>\n      <td>0.014024</td>\n      <td>0.660449</td>\n    </tr>\n    <tr>\n      <th>20</th>\n      <td>knn</td>\n      <td>{'metric': 'chebyshev', 'n_neighbors': 9, 'p': 1}</td>\n      <td>-0.706259</td>\n      <td>0.463270</td>\n      <td>-0.708773</td>\n      <td>0.205629</td>\n      <td>0.014024</td>\n      <td>0.660449</td>\n    </tr>\n    <tr>\n      <th>11</th>\n      <td>knn</td>\n      <td>{'metric': 'minkowski', 'n_neighbors': 11, 'p'...</td>\n      <td>-0.711360</td>\n      <td>0.418470</td>\n      <td>-0.717392</td>\n      <td>0.172773</td>\n      <td>-0.006175</td>\n      <td>0.549136</td>\n    </tr>\n    <tr>\n      <th>18</th>\n      <td>knn</td>\n      <td>{'metric': 'chebyshev', 'n_neighbors': 7, 'p': 1}</td>\n      <td>-0.711978</td>\n      <td>0.456494</td>\n      <td>-0.697395</td>\n      <td>0.210756</td>\n      <td>-0.071860</td>\n      <td>0.483746</td>\n    </tr>\n    <tr>\n      <th>19</th>\n      <td>knn</td>\n      <td>{'metric': 'chebyshev', 'n_neighbors': 7, 'p': 2}</td>\n      <td>-0.711978</td>\n      <td>0.456494</td>\n      <td>-0.697395</td>\n      <td>0.210756</td>\n      <td>-0.071860</td>\n      <td>0.483746</td>\n    </tr>\n    <tr>\n      <th>8</th>\n      <td>knn</td>\n      <td>{'metric': 'minkowski', 'n_neighbors': 9, 'p': 1}</td>\n      <td>-0.721966</td>\n      <td>0.485204</td>\n      <td>-0.708941</td>\n      <td>0.185930</td>\n      <td>-0.030151</td>\n      <td>0.553911</td>\n    </tr>\n    <tr>\n      <th>13</th>\n      <td>knn</td>\n      <td>{'metric': 'chebyshev', 'n_neighbors': 1, 'p': 2}</td>\n      <td>-0.743413</td>\n      <td>0.700366</td>\n      <td>-0.603831</td>\n      <td>0.330188</td>\n      <td>1.365301</td>\n      <td>4.915001</td>\n    </tr>\n    <tr>\n      <th>12</th>\n      <td>knn</td>\n      <td>{'metric': 'chebyshev', 'n_neighbors': 1, 'p': 1}</td>\n      <td>-0.743413</td>\n      <td>0.700366</td>\n      <td>-0.603831</td>\n      <td>0.330188</td>\n      <td>1.365301</td>\n      <td>4.915001</td>\n    </tr>\n    <tr>\n      <th>22</th>\n      <td>knn</td>\n      <td>{'metric': 'chebyshev', 'n_neighbors': 11, 'p'...</td>\n      <td>-0.745934</td>\n      <td>0.371082</td>\n      <td>-0.739618</td>\n      <td>0.167352</td>\n      <td>0.076099</td>\n      <td>0.603073</td>\n    </tr>\n    <tr>\n      <th>23</th>\n      <td>knn</td>\n      <td>{'metric': 'chebyshev', 'n_neighbors': 11, 'p'...</td>\n      <td>-0.745934</td>\n      <td>0.371082</td>\n      <td>-0.739618</td>\n      <td>0.167352</td>\n      <td>0.076099</td>\n      <td>0.603073</td>\n    </tr>\n    <tr>\n      <th>15</th>\n      <td>knn</td>\n      <td>{'metric': 'chebyshev', 'n_neighbors': 3, 'p': 2}</td>\n      <td>-0.751593</td>\n      <td>0.369568</td>\n      <td>-0.694189</td>\n      <td>0.178162</td>\n      <td>0.158631</td>\n      <td>0.775203</td>\n    </tr>\n    <tr>\n      <th>14</th>\n      <td>knn</td>\n      <td>{'metric': 'chebyshev', 'n_neighbors': 3, 'p': 1}</td>\n      <td>-0.751593</td>\n      <td>0.369568</td>\n      <td>-0.694189</td>\n      <td>0.178162</td>\n      <td>0.158631</td>\n      <td>0.775203</td>\n    </tr>\n    <tr>\n      <th>1</th>\n      <td>knn</td>\n      <td>{'metric': 'minkowski', 'n_neighbors': 1, 'p': 2}</td>\n      <td>-0.857533</td>\n      <td>0.599821</td>\n      <td>-0.641352</td>\n      <td>0.283500</td>\n      <td>1.452366</td>\n      <td>4.563497</td>\n    </tr>\n    <tr>\n      <th>0</th>\n      <td>knn</td>\n      <td>{'metric': 'minkowski', 'n_neighbors': 1, 'p': 1}</td>\n      <td>-1.164665</td>\n      <td>0.892585</td>\n      <td>-0.806559</td>\n      <td>0.365633</td>\n      <td>1.984500</td>\n      <td>4.937186</td>\n    </tr>\n  </tbody>\n</table>\n</div>"
     },
     "metadata": {},
     "execution_count": 18
    }
   ],
   "source": [
    "grid_search_df.sort_values('mean_test_mse', ascending=False)"
   ]
  },
  {
   "cell_type": "markdown",
   "metadata": {},
   "source": [
    "# Lasso Regressor"
   ]
  },
  {
   "cell_type": "code",
   "execution_count": 19,
   "metadata": {},
   "outputs": [],
   "source": [
    "PATH = 'lasso_grid_search_results.csv'"
   ]
  },
  {
   "cell_type": "code",
   "execution_count": 20,
   "metadata": {},
   "outputs": [],
   "source": [
    "grid_search_df = pd.read_csv(PATH)\n",
    "grid_search_df[\"model\"] = \"lasso\"\n",
    "grid_search_df = grid_search_df[[\"model\", 'params', 'mean_test_mse', 'std_test_mse', 'mean_test_mae', 'std_test_mae', 'mean_test_r2', 'std_test_r2']]\n",
    "summary_df = summary_df.append(grid_search_df.sort_values('mean_test_mse', ascending=False).iloc[0], ignore_index=True)"
   ]
  },
  {
   "cell_type": "code",
   "execution_count": 21,
   "metadata": {},
   "outputs": [
    {
     "output_type": "execute_result",
     "data": {
      "text/plain": "    model           params  mean_test_mse  std_test_mse  mean_test_mae  \\\n2   lasso   {'alpha': 0.1}      -0.616390      0.329495      -0.677474   \n1   lasso  {'alpha': 0.05}      -0.646131      0.446903      -0.648931   \n3   lasso   {'alpha': 0.2}      -0.707360      0.312636      -0.720646   \n4   lasso   {'alpha': 0.3}      -0.785751      0.291389      -0.768607   \n5   lasso   {'alpha': 0.4}      -0.902485      0.302006      -0.836595   \n6   lasso   {'alpha': 0.5}      -0.996708      0.350513      -0.877389   \n7   lasso   {'alpha': 0.6}      -0.998038      0.354858      -0.879402   \n8   lasso   {'alpha': 0.7}      -0.998038      0.354858      -0.879402   \n9   lasso   {'alpha': 0.8}      -0.998038      0.354858      -0.879402   \n10  lasso   {'alpha': 0.9}      -0.998038      0.354858      -0.879402   \n11  lasso     {'alpha': 1}      -0.998038      0.354858      -0.879402   \n12  lasso     {'alpha': 2}      -0.998038      0.354858      -0.879402   \n13  lasso     {'alpha': 3}      -0.998038      0.354858      -0.879402   \n14  lasso     {'alpha': 5}      -0.998038      0.354858      -0.879402   \n15  lasso     {'alpha': 7}      -0.998038      0.354858      -0.879402   \n0   lasso  {'alpha': 0.01}      -1.009513      1.147287      -0.714597   \n\n    std_test_mae  mean_test_r2  std_test_r2  \n2       0.155702      0.042892     0.951385  \n1       0.176130     -0.088649     0.578579  \n3       0.135936      0.219884     1.188797  \n4       0.110500      0.337151     1.267709  \n5       0.125807      0.498486     1.352620  \n6       0.150069      0.650700     1.506162  \n7       0.150432      0.657122     1.527161  \n8       0.150432      0.657122     1.527161  \n9       0.150432      0.657122     1.527161  \n10      0.150432      0.657122     1.527161  \n11      0.150432      0.657122     1.527161  \n12      0.150432      0.657122     1.527161  \n13      0.150432      0.657122     1.527161  \n14      0.150432      0.657122     1.527161  \n15      0.150432      0.657122     1.527161  \n0       0.300425      0.206776     0.971184  ",
      "text/html": "<div>\n<style scoped>\n    .dataframe tbody tr th:only-of-type {\n        vertical-align: middle;\n    }\n\n    .dataframe tbody tr th {\n        vertical-align: top;\n    }\n\n    .dataframe thead th {\n        text-align: right;\n    }\n</style>\n<table border=\"1\" class=\"dataframe\">\n  <thead>\n    <tr style=\"text-align: right;\">\n      <th></th>\n      <th>model</th>\n      <th>params</th>\n      <th>mean_test_mse</th>\n      <th>std_test_mse</th>\n      <th>mean_test_mae</th>\n      <th>std_test_mae</th>\n      <th>mean_test_r2</th>\n      <th>std_test_r2</th>\n    </tr>\n  </thead>\n  <tbody>\n    <tr>\n      <th>2</th>\n      <td>lasso</td>\n      <td>{'alpha': 0.1}</td>\n      <td>-0.616390</td>\n      <td>0.329495</td>\n      <td>-0.677474</td>\n      <td>0.155702</td>\n      <td>0.042892</td>\n      <td>0.951385</td>\n    </tr>\n    <tr>\n      <th>1</th>\n      <td>lasso</td>\n      <td>{'alpha': 0.05}</td>\n      <td>-0.646131</td>\n      <td>0.446903</td>\n      <td>-0.648931</td>\n      <td>0.176130</td>\n      <td>-0.088649</td>\n      <td>0.578579</td>\n    </tr>\n    <tr>\n      <th>3</th>\n      <td>lasso</td>\n      <td>{'alpha': 0.2}</td>\n      <td>-0.707360</td>\n      <td>0.312636</td>\n      <td>-0.720646</td>\n      <td>0.135936</td>\n      <td>0.219884</td>\n      <td>1.188797</td>\n    </tr>\n    <tr>\n      <th>4</th>\n      <td>lasso</td>\n      <td>{'alpha': 0.3}</td>\n      <td>-0.785751</td>\n      <td>0.291389</td>\n      <td>-0.768607</td>\n      <td>0.110500</td>\n      <td>0.337151</td>\n      <td>1.267709</td>\n    </tr>\n    <tr>\n      <th>5</th>\n      <td>lasso</td>\n      <td>{'alpha': 0.4}</td>\n      <td>-0.902485</td>\n      <td>0.302006</td>\n      <td>-0.836595</td>\n      <td>0.125807</td>\n      <td>0.498486</td>\n      <td>1.352620</td>\n    </tr>\n    <tr>\n      <th>6</th>\n      <td>lasso</td>\n      <td>{'alpha': 0.5}</td>\n      <td>-0.996708</td>\n      <td>0.350513</td>\n      <td>-0.877389</td>\n      <td>0.150069</td>\n      <td>0.650700</td>\n      <td>1.506162</td>\n    </tr>\n    <tr>\n      <th>7</th>\n      <td>lasso</td>\n      <td>{'alpha': 0.6}</td>\n      <td>-0.998038</td>\n      <td>0.354858</td>\n      <td>-0.879402</td>\n      <td>0.150432</td>\n      <td>0.657122</td>\n      <td>1.527161</td>\n    </tr>\n    <tr>\n      <th>8</th>\n      <td>lasso</td>\n      <td>{'alpha': 0.7}</td>\n      <td>-0.998038</td>\n      <td>0.354858</td>\n      <td>-0.879402</td>\n      <td>0.150432</td>\n      <td>0.657122</td>\n      <td>1.527161</td>\n    </tr>\n    <tr>\n      <th>9</th>\n      <td>lasso</td>\n      <td>{'alpha': 0.8}</td>\n      <td>-0.998038</td>\n      <td>0.354858</td>\n      <td>-0.879402</td>\n      <td>0.150432</td>\n      <td>0.657122</td>\n      <td>1.527161</td>\n    </tr>\n    <tr>\n      <th>10</th>\n      <td>lasso</td>\n      <td>{'alpha': 0.9}</td>\n      <td>-0.998038</td>\n      <td>0.354858</td>\n      <td>-0.879402</td>\n      <td>0.150432</td>\n      <td>0.657122</td>\n      <td>1.527161</td>\n    </tr>\n    <tr>\n      <th>11</th>\n      <td>lasso</td>\n      <td>{'alpha': 1}</td>\n      <td>-0.998038</td>\n      <td>0.354858</td>\n      <td>-0.879402</td>\n      <td>0.150432</td>\n      <td>0.657122</td>\n      <td>1.527161</td>\n    </tr>\n    <tr>\n      <th>12</th>\n      <td>lasso</td>\n      <td>{'alpha': 2}</td>\n      <td>-0.998038</td>\n      <td>0.354858</td>\n      <td>-0.879402</td>\n      <td>0.150432</td>\n      <td>0.657122</td>\n      <td>1.527161</td>\n    </tr>\n    <tr>\n      <th>13</th>\n      <td>lasso</td>\n      <td>{'alpha': 3}</td>\n      <td>-0.998038</td>\n      <td>0.354858</td>\n      <td>-0.879402</td>\n      <td>0.150432</td>\n      <td>0.657122</td>\n      <td>1.527161</td>\n    </tr>\n    <tr>\n      <th>14</th>\n      <td>lasso</td>\n      <td>{'alpha': 5}</td>\n      <td>-0.998038</td>\n      <td>0.354858</td>\n      <td>-0.879402</td>\n      <td>0.150432</td>\n      <td>0.657122</td>\n      <td>1.527161</td>\n    </tr>\n    <tr>\n      <th>15</th>\n      <td>lasso</td>\n      <td>{'alpha': 7}</td>\n      <td>-0.998038</td>\n      <td>0.354858</td>\n      <td>-0.879402</td>\n      <td>0.150432</td>\n      <td>0.657122</td>\n      <td>1.527161</td>\n    </tr>\n    <tr>\n      <th>0</th>\n      <td>lasso</td>\n      <td>{'alpha': 0.01}</td>\n      <td>-1.009513</td>\n      <td>1.147287</td>\n      <td>-0.714597</td>\n      <td>0.300425</td>\n      <td>0.206776</td>\n      <td>0.971184</td>\n    </tr>\n  </tbody>\n</table>\n</div>"
     },
     "metadata": {},
     "execution_count": 21
    }
   ],
   "source": [
    "grid_search_df.sort_values('mean_test_mse', ascending=False)"
   ]
  },
  {
   "cell_type": "markdown",
   "metadata": {},
   "source": [
    "# Elastic Net "
   ]
  },
  {
   "cell_type": "code",
   "execution_count": 22,
   "metadata": {},
   "outputs": [],
   "source": [
    "PATH = 'elastic_net_grid_search_results.csv'"
   ]
  },
  {
   "cell_type": "code",
   "execution_count": 23,
   "metadata": {},
   "outputs": [],
   "source": [
    "grid_search_df = pd.read_csv(PATH)\n",
    "grid_search_df[\"model\"] = \"elastic_net\"\n",
    "grid_search_df = grid_search_df[[\"model\", 'params', 'mean_test_mse', 'std_test_mse', 'mean_test_mae', 'std_test_mae', 'mean_test_r2', 'std_test_r2']]\n",
    "summary_df = summary_df.append(grid_search_df.sort_values('mean_test_mse', ascending=False).iloc[0], ignore_index=True)"
   ]
  },
  {
   "cell_type": "code",
   "execution_count": 24,
   "metadata": {},
   "outputs": [
    {
     "output_type": "execute_result",
     "data": {
      "text/plain": "           model                            params  mean_test_mse  \\\n63   elastic_net     {'alpha': 0.4, 'l1_ratio': 0}      -0.519990   \n42   elastic_net     {'alpha': 0.3, 'l1_ratio': 0}      -0.520758   \n43   elastic_net  {'alpha': 0.3, 'l1_ratio': 0.05}      -0.522034   \n84   elastic_net     {'alpha': 0.5, 'l1_ratio': 0}      -0.526038   \n64   elastic_net  {'alpha': 0.4, 'l1_ratio': 0.05}      -0.528336   \n..           ...                               ...            ...   \n200  elastic_net    {'alpha': 1, 'l1_ratio': 0.55}      -0.999817   \n160  elastic_net  {'alpha': 0.8, 'l1_ratio': 0.65}      -1.000132   \n180  elastic_net   {'alpha': 0.9, 'l1_ratio': 0.6}      -1.000462   \n141  elastic_net  {'alpha': 0.7, 'l1_ratio': 0.75}      -1.000719   \n123  elastic_net   {'alpha': 0.6, 'l1_ratio': 0.9}      -1.001164   \n\n     std_test_mse  mean_test_mae  std_test_mae  mean_test_r2  std_test_r2  \n63       0.271050      -0.608623      0.134500     -0.198158     0.564565  \n42       0.275835      -0.606683      0.149155     -0.224945     0.496630  \n43       0.270794      -0.607883      0.136076     -0.203549     0.544824  \n84       0.274078      -0.611771      0.125820     -0.170708     0.620207  \n64       0.271776      -0.613925      0.125607     -0.165381     0.626625  \n..            ...            ...           ...           ...          ...  \n200      0.353553      -0.879757      0.150278      0.658520     1.521622  \n160      0.353429      -0.879389      0.150575      0.656647     1.513219  \n180      0.353106      -0.879832      0.150257      0.658663     1.518395  \n141      0.353082      -0.879580      0.150490      0.657570     1.513223  \n123      0.352608      -0.879938      0.150224      0.659190     1.516155  \n\n[273 rows x 8 columns]",
      "text/html": "<div>\n<style scoped>\n    .dataframe tbody tr th:only-of-type {\n        vertical-align: middle;\n    }\n\n    .dataframe tbody tr th {\n        vertical-align: top;\n    }\n\n    .dataframe thead th {\n        text-align: right;\n    }\n</style>\n<table border=\"1\" class=\"dataframe\">\n  <thead>\n    <tr style=\"text-align: right;\">\n      <th></th>\n      <th>model</th>\n      <th>params</th>\n      <th>mean_test_mse</th>\n      <th>std_test_mse</th>\n      <th>mean_test_mae</th>\n      <th>std_test_mae</th>\n      <th>mean_test_r2</th>\n      <th>std_test_r2</th>\n    </tr>\n  </thead>\n  <tbody>\n    <tr>\n      <th>63</th>\n      <td>elastic_net</td>\n      <td>{'alpha': 0.4, 'l1_ratio': 0}</td>\n      <td>-0.519990</td>\n      <td>0.271050</td>\n      <td>-0.608623</td>\n      <td>0.134500</td>\n      <td>-0.198158</td>\n      <td>0.564565</td>\n    </tr>\n    <tr>\n      <th>42</th>\n      <td>elastic_net</td>\n      <td>{'alpha': 0.3, 'l1_ratio': 0}</td>\n      <td>-0.520758</td>\n      <td>0.275835</td>\n      <td>-0.606683</td>\n      <td>0.149155</td>\n      <td>-0.224945</td>\n      <td>0.496630</td>\n    </tr>\n    <tr>\n      <th>43</th>\n      <td>elastic_net</td>\n      <td>{'alpha': 0.3, 'l1_ratio': 0.05}</td>\n      <td>-0.522034</td>\n      <td>0.270794</td>\n      <td>-0.607883</td>\n      <td>0.136076</td>\n      <td>-0.203549</td>\n      <td>0.544824</td>\n    </tr>\n    <tr>\n      <th>84</th>\n      <td>elastic_net</td>\n      <td>{'alpha': 0.5, 'l1_ratio': 0}</td>\n      <td>-0.526038</td>\n      <td>0.274078</td>\n      <td>-0.611771</td>\n      <td>0.125820</td>\n      <td>-0.170708</td>\n      <td>0.620207</td>\n    </tr>\n    <tr>\n      <th>64</th>\n      <td>elastic_net</td>\n      <td>{'alpha': 0.4, 'l1_ratio': 0.05}</td>\n      <td>-0.528336</td>\n      <td>0.271776</td>\n      <td>-0.613925</td>\n      <td>0.125607</td>\n      <td>-0.165381</td>\n      <td>0.626625</td>\n    </tr>\n    <tr>\n      <th>...</th>\n      <td>...</td>\n      <td>...</td>\n      <td>...</td>\n      <td>...</td>\n      <td>...</td>\n      <td>...</td>\n      <td>...</td>\n      <td>...</td>\n    </tr>\n    <tr>\n      <th>200</th>\n      <td>elastic_net</td>\n      <td>{'alpha': 1, 'l1_ratio': 0.55}</td>\n      <td>-0.999817</td>\n      <td>0.353553</td>\n      <td>-0.879757</td>\n      <td>0.150278</td>\n      <td>0.658520</td>\n      <td>1.521622</td>\n    </tr>\n    <tr>\n      <th>160</th>\n      <td>elastic_net</td>\n      <td>{'alpha': 0.8, 'l1_ratio': 0.65}</td>\n      <td>-1.000132</td>\n      <td>0.353429</td>\n      <td>-0.879389</td>\n      <td>0.150575</td>\n      <td>0.656647</td>\n      <td>1.513219</td>\n    </tr>\n    <tr>\n      <th>180</th>\n      <td>elastic_net</td>\n      <td>{'alpha': 0.9, 'l1_ratio': 0.6}</td>\n      <td>-1.000462</td>\n      <td>0.353106</td>\n      <td>-0.879832</td>\n      <td>0.150257</td>\n      <td>0.658663</td>\n      <td>1.518395</td>\n    </tr>\n    <tr>\n      <th>141</th>\n      <td>elastic_net</td>\n      <td>{'alpha': 0.7, 'l1_ratio': 0.75}</td>\n      <td>-1.000719</td>\n      <td>0.353082</td>\n      <td>-0.879580</td>\n      <td>0.150490</td>\n      <td>0.657570</td>\n      <td>1.513223</td>\n    </tr>\n    <tr>\n      <th>123</th>\n      <td>elastic_net</td>\n      <td>{'alpha': 0.6, 'l1_ratio': 0.9}</td>\n      <td>-1.001164</td>\n      <td>0.352608</td>\n      <td>-0.879938</td>\n      <td>0.150224</td>\n      <td>0.659190</td>\n      <td>1.516155</td>\n    </tr>\n  </tbody>\n</table>\n<p>273 rows × 8 columns</p>\n</div>"
     },
     "metadata": {},
     "execution_count": 24
    }
   ],
   "source": [
    "grid_search_df.sort_values('mean_test_mse', ascending=False)"
   ]
  },
  {
   "cell_type": "markdown",
   "metadata": {},
   "source": [
    "# Ridge"
   ]
  },
  {
   "cell_type": "code",
   "execution_count": 25,
   "metadata": {},
   "outputs": [],
   "source": [
    "PATH = 'ridge_grid_search_results.csv'"
   ]
  },
  {
   "cell_type": "code",
   "execution_count": 26,
   "metadata": {},
   "outputs": [],
   "source": [
    "grid_search_df = pd.read_csv(PATH)\n",
    "grid_search_df[\"model\"] = \"ridge\"\n",
    "grid_search_df = grid_search_df[[\"model\", 'params', 'mean_test_mse', 'std_test_mse', 'mean_test_mae', 'std_test_mae', 'mean_test_r2', 'std_test_r2']]\n",
    "summary_df = summary_df.append(grid_search_df.sort_values('mean_test_mse', ascending=False).iloc[0], ignore_index=True)"
   ]
  },
  {
   "cell_type": "code",
   "execution_count": 27,
   "metadata": {},
   "outputs": [
    {
     "output_type": "execute_result",
     "data": {
      "text/plain": "    model           params  mean_test_mse  std_test_mse  mean_test_mae  \\\n21  ridge    {'alpha': 13}      -0.519284      0.270977      -0.608046   \n20  ridge    {'alpha': 10}      -0.521042      0.276669      -0.606678   \n22  ridge    {'alpha': 15}      -0.521809      0.271849      -0.609740   \n19  ridge     {'alpha': 9}      -0.524240      0.282655      -0.607322   \n23  ridge    {'alpha': 17}      -0.525870      0.274045      -0.611662   \n18  ridge     {'alpha': 8}      -0.529593      0.292495      -0.608412   \n17  ridge     {'alpha': 7}      -0.537995      0.308126      -0.610114   \n16  ridge     {'alpha': 6}      -0.550830      0.332514      -0.612677   \n15  ridge     {'alpha': 5}      -0.570345      0.370283      -0.616486   \n14  ridge     {'alpha': 4}      -0.600408      0.428964      -0.622171   \n13  ridge     {'alpha': 3}      -0.648186      0.521775      -0.630827   \n12  ridge     {'alpha': 2}      -0.728382      0.674696      -0.646601   \n11  ridge     {'alpha': 1}      -0.876207      0.947586      -0.674210   \n10  ridge   {'alpha': 0.9}      -0.897613      0.986204      -0.678046   \n9   ridge   {'alpha': 0.8}      -0.920797      1.027766      -0.682120   \n8   ridge   {'alpha': 0.7}      -0.945998      1.072612      -0.686459   \n7   ridge   {'alpha': 0.6}      -0.973509      1.121152      -0.691091   \n6   ridge   {'alpha': 0.5}      -1.003711      1.173896      -0.696052   \n5   ridge   {'alpha': 0.4}      -1.037125      1.231518      -0.701381   \n4   ridge   {'alpha': 0.3}      -1.074510      1.294982      -0.707131   \n3   ridge   {'alpha': 0.2}      -1.117088      1.365842      -0.713363   \n2   ridge   {'alpha': 0.1}      -1.167075      1.447037      -0.720155   \n1   ridge  {'alpha': 0.05}      -1.196130      1.493329      -0.723792   \n0   ridge  {'alpha': 0.01}      -1.222169      1.534381      -0.726827   \n\n    std_test_mae  mean_test_r2  std_test_r2  \n21      0.136525     -0.203245     0.553538  \n20      0.150125     -0.226580     0.492273  \n22      0.130297     -0.186967     0.588881  \n19      0.155690     -0.233302     0.469951  \n23      0.125760     -0.170919     0.620239  \n18      0.162276     -0.238839     0.447340  \n17      0.170146     -0.242438     0.425566  \n16      0.179680     -0.242851     0.406884  \n15      0.191433     -0.237930     0.395695  \n14      0.206274     -0.223763     0.400283  \n13      0.225628     -0.192687     0.435512  \n12      0.250016     -0.128048     0.528068  \n11      0.283281      0.012922     0.736990  \n10      0.287227      0.034968     0.769395  \n9       0.291328      0.059243     0.804994  \n8       0.295576      0.086083     0.844269  \n7       0.299954      0.115913     0.887836  \n6       0.304429      0.149288     0.936512  \n5       0.308946      0.186972     0.991432  \n4       0.313410      0.230079     1.054279  \n3       0.317658      0.280383     1.127780  \n2       0.321409      0.341024     1.216898  \n1       0.322953      0.376990     1.270199  \n0       0.323946      0.409609     1.318953  ",
      "text/html": "<div>\n<style scoped>\n    .dataframe tbody tr th:only-of-type {\n        vertical-align: middle;\n    }\n\n    .dataframe tbody tr th {\n        vertical-align: top;\n    }\n\n    .dataframe thead th {\n        text-align: right;\n    }\n</style>\n<table border=\"1\" class=\"dataframe\">\n  <thead>\n    <tr style=\"text-align: right;\">\n      <th></th>\n      <th>model</th>\n      <th>params</th>\n      <th>mean_test_mse</th>\n      <th>std_test_mse</th>\n      <th>mean_test_mae</th>\n      <th>std_test_mae</th>\n      <th>mean_test_r2</th>\n      <th>std_test_r2</th>\n    </tr>\n  </thead>\n  <tbody>\n    <tr>\n      <th>21</th>\n      <td>ridge</td>\n      <td>{'alpha': 13}</td>\n      <td>-0.519284</td>\n      <td>0.270977</td>\n      <td>-0.608046</td>\n      <td>0.136525</td>\n      <td>-0.203245</td>\n      <td>0.553538</td>\n    </tr>\n    <tr>\n      <th>20</th>\n      <td>ridge</td>\n      <td>{'alpha': 10}</td>\n      <td>-0.521042</td>\n      <td>0.276669</td>\n      <td>-0.606678</td>\n      <td>0.150125</td>\n      <td>-0.226580</td>\n      <td>0.492273</td>\n    </tr>\n    <tr>\n      <th>22</th>\n      <td>ridge</td>\n      <td>{'alpha': 15}</td>\n      <td>-0.521809</td>\n      <td>0.271849</td>\n      <td>-0.609740</td>\n      <td>0.130297</td>\n      <td>-0.186967</td>\n      <td>0.588881</td>\n    </tr>\n    <tr>\n      <th>19</th>\n      <td>ridge</td>\n      <td>{'alpha': 9}</td>\n      <td>-0.524240</td>\n      <td>0.282655</td>\n      <td>-0.607322</td>\n      <td>0.155690</td>\n      <td>-0.233302</td>\n      <td>0.469951</td>\n    </tr>\n    <tr>\n      <th>23</th>\n      <td>ridge</td>\n      <td>{'alpha': 17}</td>\n      <td>-0.525870</td>\n      <td>0.274045</td>\n      <td>-0.611662</td>\n      <td>0.125760</td>\n      <td>-0.170919</td>\n      <td>0.620239</td>\n    </tr>\n    <tr>\n      <th>18</th>\n      <td>ridge</td>\n      <td>{'alpha': 8}</td>\n      <td>-0.529593</td>\n      <td>0.292495</td>\n      <td>-0.608412</td>\n      <td>0.162276</td>\n      <td>-0.238839</td>\n      <td>0.447340</td>\n    </tr>\n    <tr>\n      <th>17</th>\n      <td>ridge</td>\n      <td>{'alpha': 7}</td>\n      <td>-0.537995</td>\n      <td>0.308126</td>\n      <td>-0.610114</td>\n      <td>0.170146</td>\n      <td>-0.242438</td>\n      <td>0.425566</td>\n    </tr>\n    <tr>\n      <th>16</th>\n      <td>ridge</td>\n      <td>{'alpha': 6}</td>\n      <td>-0.550830</td>\n      <td>0.332514</td>\n      <td>-0.612677</td>\n      <td>0.179680</td>\n      <td>-0.242851</td>\n      <td>0.406884</td>\n    </tr>\n    <tr>\n      <th>15</th>\n      <td>ridge</td>\n      <td>{'alpha': 5}</td>\n      <td>-0.570345</td>\n      <td>0.370283</td>\n      <td>-0.616486</td>\n      <td>0.191433</td>\n      <td>-0.237930</td>\n      <td>0.395695</td>\n    </tr>\n    <tr>\n      <th>14</th>\n      <td>ridge</td>\n      <td>{'alpha': 4}</td>\n      <td>-0.600408</td>\n      <td>0.428964</td>\n      <td>-0.622171</td>\n      <td>0.206274</td>\n      <td>-0.223763</td>\n      <td>0.400283</td>\n    </tr>\n    <tr>\n      <th>13</th>\n      <td>ridge</td>\n      <td>{'alpha': 3}</td>\n      <td>-0.648186</td>\n      <td>0.521775</td>\n      <td>-0.630827</td>\n      <td>0.225628</td>\n      <td>-0.192687</td>\n      <td>0.435512</td>\n    </tr>\n    <tr>\n      <th>12</th>\n      <td>ridge</td>\n      <td>{'alpha': 2}</td>\n      <td>-0.728382</td>\n      <td>0.674696</td>\n      <td>-0.646601</td>\n      <td>0.250016</td>\n      <td>-0.128048</td>\n      <td>0.528068</td>\n    </tr>\n    <tr>\n      <th>11</th>\n      <td>ridge</td>\n      <td>{'alpha': 1}</td>\n      <td>-0.876207</td>\n      <td>0.947586</td>\n      <td>-0.674210</td>\n      <td>0.283281</td>\n      <td>0.012922</td>\n      <td>0.736990</td>\n    </tr>\n    <tr>\n      <th>10</th>\n      <td>ridge</td>\n      <td>{'alpha': 0.9}</td>\n      <td>-0.897613</td>\n      <td>0.986204</td>\n      <td>-0.678046</td>\n      <td>0.287227</td>\n      <td>0.034968</td>\n      <td>0.769395</td>\n    </tr>\n    <tr>\n      <th>9</th>\n      <td>ridge</td>\n      <td>{'alpha': 0.8}</td>\n      <td>-0.920797</td>\n      <td>1.027766</td>\n      <td>-0.682120</td>\n      <td>0.291328</td>\n      <td>0.059243</td>\n      <td>0.804994</td>\n    </tr>\n    <tr>\n      <th>8</th>\n      <td>ridge</td>\n      <td>{'alpha': 0.7}</td>\n      <td>-0.945998</td>\n      <td>1.072612</td>\n      <td>-0.686459</td>\n      <td>0.295576</td>\n      <td>0.086083</td>\n      <td>0.844269</td>\n    </tr>\n    <tr>\n      <th>7</th>\n      <td>ridge</td>\n      <td>{'alpha': 0.6}</td>\n      <td>-0.973509</td>\n      <td>1.121152</td>\n      <td>-0.691091</td>\n      <td>0.299954</td>\n      <td>0.115913</td>\n      <td>0.887836</td>\n    </tr>\n    <tr>\n      <th>6</th>\n      <td>ridge</td>\n      <td>{'alpha': 0.5}</td>\n      <td>-1.003711</td>\n      <td>1.173896</td>\n      <td>-0.696052</td>\n      <td>0.304429</td>\n      <td>0.149288</td>\n      <td>0.936512</td>\n    </tr>\n    <tr>\n      <th>5</th>\n      <td>ridge</td>\n      <td>{'alpha': 0.4}</td>\n      <td>-1.037125</td>\n      <td>1.231518</td>\n      <td>-0.701381</td>\n      <td>0.308946</td>\n      <td>0.186972</td>\n      <td>0.991432</td>\n    </tr>\n    <tr>\n      <th>4</th>\n      <td>ridge</td>\n      <td>{'alpha': 0.3}</td>\n      <td>-1.074510</td>\n      <td>1.294982</td>\n      <td>-0.707131</td>\n      <td>0.313410</td>\n      <td>0.230079</td>\n      <td>1.054279</td>\n    </tr>\n    <tr>\n      <th>3</th>\n      <td>ridge</td>\n      <td>{'alpha': 0.2}</td>\n      <td>-1.117088</td>\n      <td>1.365842</td>\n      <td>-0.713363</td>\n      <td>0.317658</td>\n      <td>0.280383</td>\n      <td>1.127780</td>\n    </tr>\n    <tr>\n      <th>2</th>\n      <td>ridge</td>\n      <td>{'alpha': 0.1}</td>\n      <td>-1.167075</td>\n      <td>1.447037</td>\n      <td>-0.720155</td>\n      <td>0.321409</td>\n      <td>0.341024</td>\n      <td>1.216898</td>\n    </tr>\n    <tr>\n      <th>1</th>\n      <td>ridge</td>\n      <td>{'alpha': 0.05}</td>\n      <td>-1.196130</td>\n      <td>1.493329</td>\n      <td>-0.723792</td>\n      <td>0.322953</td>\n      <td>0.376990</td>\n      <td>1.270199</td>\n    </tr>\n    <tr>\n      <th>0</th>\n      <td>ridge</td>\n      <td>{'alpha': 0.01}</td>\n      <td>-1.222169</td>\n      <td>1.534381</td>\n      <td>-0.726827</td>\n      <td>0.323946</td>\n      <td>0.409609</td>\n      <td>1.318953</td>\n    </tr>\n  </tbody>\n</table>\n</div>"
     },
     "metadata": {},
     "execution_count": 27
    }
   ],
   "source": [
    "grid_search_df.sort_values('mean_test_mse', ascending=False)"
   ]
  },
  {
   "cell_type": "markdown",
   "metadata": {},
   "source": [
    "# Sumário"
   ]
  },
  {
   "cell_type": "code",
   "execution_count": 28,
   "metadata": {},
   "outputs": [
    {
     "output_type": "execute_result",
     "data": {
      "text/plain": "           model                                             params  \\\n1      ada_boost  {'learning_rate': 0.45, 'loss': 'exponential',...   \n0  random_forest          {'criterion': 'mse', 'n_estimators': 500}   \n2            svm  {'C': 0.95, 'degree': 6, 'epsilon': 0.35, 'ker...   \n3            knn  {'metric': 'minkowski', 'n_neighbors': 3, 'p': 1}   \n6          ridge                                      {'alpha': 13}   \n5    elastic_net                      {'alpha': 0.4, 'l1_ratio': 0}   \n4          lasso                                     {'alpha': 0.1}   \n\n   mean_test_mse  std_test_mse  mean_test_mae  std_test_mae  mean_test_r2  \\\n1      -0.033303      0.025282      -0.126141      0.044147     -0.255516   \n0      -0.039055      0.025529      -0.145015      0.040506     -0.146281   \n2      -0.460807      0.359737      -0.559501      0.182070     -0.358236   \n3      -0.491538      0.530217      -0.452596      0.235354     -0.228403   \n6      -0.519284      0.270977      -0.608046      0.136525     -0.203245   \n5      -0.519990      0.271050      -0.608623      0.134500     -0.198158   \n4      -0.616390      0.329495      -0.677474      0.155702      0.042892   \n\n   std_test_r2  \n1     0.766523  \n0     0.848210  \n2     0.426829  \n3     0.777253  \n6     0.553538  \n5     0.564565  \n4     0.951385  ",
      "text/html": "<div>\n<style scoped>\n    .dataframe tbody tr th:only-of-type {\n        vertical-align: middle;\n    }\n\n    .dataframe tbody tr th {\n        vertical-align: top;\n    }\n\n    .dataframe thead th {\n        text-align: right;\n    }\n</style>\n<table border=\"1\" class=\"dataframe\">\n  <thead>\n    <tr style=\"text-align: right;\">\n      <th></th>\n      <th>model</th>\n      <th>params</th>\n      <th>mean_test_mse</th>\n      <th>std_test_mse</th>\n      <th>mean_test_mae</th>\n      <th>std_test_mae</th>\n      <th>mean_test_r2</th>\n      <th>std_test_r2</th>\n    </tr>\n  </thead>\n  <tbody>\n    <tr>\n      <th>1</th>\n      <td>ada_boost</td>\n      <td>{'learning_rate': 0.45, 'loss': 'exponential',...</td>\n      <td>-0.033303</td>\n      <td>0.025282</td>\n      <td>-0.126141</td>\n      <td>0.044147</td>\n      <td>-0.255516</td>\n      <td>0.766523</td>\n    </tr>\n    <tr>\n      <th>0</th>\n      <td>random_forest</td>\n      <td>{'criterion': 'mse', 'n_estimators': 500}</td>\n      <td>-0.039055</td>\n      <td>0.025529</td>\n      <td>-0.145015</td>\n      <td>0.040506</td>\n      <td>-0.146281</td>\n      <td>0.848210</td>\n    </tr>\n    <tr>\n      <th>2</th>\n      <td>svm</td>\n      <td>{'C': 0.95, 'degree': 6, 'epsilon': 0.35, 'ker...</td>\n      <td>-0.460807</td>\n      <td>0.359737</td>\n      <td>-0.559501</td>\n      <td>0.182070</td>\n      <td>-0.358236</td>\n      <td>0.426829</td>\n    </tr>\n    <tr>\n      <th>3</th>\n      <td>knn</td>\n      <td>{'metric': 'minkowski', 'n_neighbors': 3, 'p': 1}</td>\n      <td>-0.491538</td>\n      <td>0.530217</td>\n      <td>-0.452596</td>\n      <td>0.235354</td>\n      <td>-0.228403</td>\n      <td>0.777253</td>\n    </tr>\n    <tr>\n      <th>6</th>\n      <td>ridge</td>\n      <td>{'alpha': 13}</td>\n      <td>-0.519284</td>\n      <td>0.270977</td>\n      <td>-0.608046</td>\n      <td>0.136525</td>\n      <td>-0.203245</td>\n      <td>0.553538</td>\n    </tr>\n    <tr>\n      <th>5</th>\n      <td>elastic_net</td>\n      <td>{'alpha': 0.4, 'l1_ratio': 0}</td>\n      <td>-0.519990</td>\n      <td>0.271050</td>\n      <td>-0.608623</td>\n      <td>0.134500</td>\n      <td>-0.198158</td>\n      <td>0.564565</td>\n    </tr>\n    <tr>\n      <th>4</th>\n      <td>lasso</td>\n      <td>{'alpha': 0.1}</td>\n      <td>-0.616390</td>\n      <td>0.329495</td>\n      <td>-0.677474</td>\n      <td>0.155702</td>\n      <td>0.042892</td>\n      <td>0.951385</td>\n    </tr>\n  </tbody>\n</table>\n</div>"
     },
     "metadata": {},
     "execution_count": 28
    }
   ],
   "source": [
    "summary_df.sort_values(by='mean_test_mse', ascending=False).head(20)"
   ]
  },
  {
   "cell_type": "code",
   "execution_count": null,
   "metadata": {},
   "outputs": [],
   "source": []
  }
 ],
 "metadata": {
  "language_info": {
   "name": "python",
   "codemirror_mode": {
    "name": "ipython",
    "version": 3
   },
   "version": "3.6.9-final"
  },
  "orig_nbformat": 2,
  "file_extension": ".py",
  "mimetype": "text/x-python",
  "name": "python",
  "npconvert_exporter": "python",
  "pygments_lexer": "ipython3",
  "version": 3,
  "kernelspec": {
   "name": "python36964bitbertvirtualenv054cbb15ab924922a35a349b12e89805",
   "display_name": "Python 3.6.9 64-bit ('bert': virtualenv)"
  }
 },
 "nbformat": 4,
 "nbformat_minor": 2
}