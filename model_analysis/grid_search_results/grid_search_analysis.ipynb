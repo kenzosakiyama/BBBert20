{
 "cells": [
  {
   "cell_type": "code",
   "execution_count": 1,
   "metadata": {},
   "outputs": [],
   "source": [
    "import pandas as pd"
   ]
  },
  {
   "cell_type": "code",
   "execution_count": 2,
   "metadata": {},
   "outputs": [],
   "source": [
    "summary_df = pd.DataFrame(columns=[\"model\", 'params', 'mean_test_mse', 'std_test_mse', 'mean_test_mae', 'std_test_mae', 'mean_test_r2', 'std_test_r2'])"
   ]
  },
  {
   "cell_type": "code",
   "execution_count": 3,
   "metadata": {},
   "outputs": [
    {
     "output_type": "execute_result",
     "data": {
      "text/plain": "Empty DataFrame\nColumns: [model, params, mean_test_mse, std_test_mse, mean_test_mae, std_test_mae, mean_test_r2, std_test_r2]\nIndex: []",
      "text/html": "<div>\n<style scoped>\n    .dataframe tbody tr th:only-of-type {\n        vertical-align: middle;\n    }\n\n    .dataframe tbody tr th {\n        vertical-align: top;\n    }\n\n    .dataframe thead th {\n        text-align: right;\n    }\n</style>\n<table border=\"1\" class=\"dataframe\">\n  <thead>\n    <tr style=\"text-align: right;\">\n      <th></th>\n      <th>model</th>\n      <th>params</th>\n      <th>mean_test_mse</th>\n      <th>std_test_mse</th>\n      <th>mean_test_mae</th>\n      <th>std_test_mae</th>\n      <th>mean_test_r2</th>\n      <th>std_test_r2</th>\n    </tr>\n  </thead>\n  <tbody>\n  </tbody>\n</table>\n</div>"
     },
     "metadata": {},
     "execution_count": 3
    }
   ],
   "source": [
    "summary_df"
   ]
  },
  {
   "cell_type": "markdown",
   "metadata": {},
   "source": [
    "# Random Forest Regressor"
   ]
  },
  {
   "cell_type": "code",
   "execution_count": 4,
   "metadata": {},
   "outputs": [],
   "source": [
    "PATH = 'random_forest_grid_search_results.csv'"
   ]
  },
  {
   "cell_type": "code",
   "execution_count": 5,
   "metadata": {},
   "outputs": [],
   "source": [
    "grid_search_df = pd.read_csv(PATH)"
   ]
  },
  {
   "cell_type": "code",
   "execution_count": 6,
   "metadata": {},
   "outputs": [],
   "source": [
    "grid_search_df[\"model\"] = \"random_forest\"\n",
    "grid_search_df = grid_search_df[[\"model\", 'params', 'mean_test_mse', 'std_test_mse', 'mean_test_mae', 'std_test_mae', 'mean_test_r2', 'std_test_r2']]\n",
    "summary_df = summary_df.append(grid_search_df, ignore_index=True)"
   ]
  },
  {
   "cell_type": "code",
   "execution_count": 7,
   "metadata": {},
   "outputs": [
    {
     "output_type": "execute_result",
     "data": {
      "text/plain": "            model                                       params  mean_test_mse  \\\n3   random_forest   {'criterion': 'mse', 'n_estimators': 1000}      -0.043447   \n5   random_forest   {'criterion': 'mse', 'n_estimators': 3000}      -0.043847   \n7   random_forest  {'criterion': 'mse', 'n_estimators': 10000}      -0.044024   \n6   random_forest   {'criterion': 'mse', 'n_estimators': 5000}      -0.044136   \n1   random_forest    {'criterion': 'mse', 'n_estimators': 200}      -0.044222   \n4   random_forest   {'criterion': 'mse', 'n_estimators': 2000}      -0.044253   \n2   random_forest    {'criterion': 'mse', 'n_estimators': 500}      -0.044552   \n0   random_forest    {'criterion': 'mse', 'n_estimators': 100}      -0.045636   \n14  random_forest   {'criterion': 'mae', 'n_estimators': 5000}      -0.045728   \n15  random_forest  {'criterion': 'mae', 'n_estimators': 10000}      -0.045746   \n9   random_forest    {'criterion': 'mae', 'n_estimators': 200}      -0.045793   \n13  random_forest   {'criterion': 'mae', 'n_estimators': 3000}      -0.046014   \n12  random_forest   {'criterion': 'mae', 'n_estimators': 2000}      -0.046295   \n11  random_forest   {'criterion': 'mae', 'n_estimators': 1000}      -0.046756   \n10  random_forest    {'criterion': 'mae', 'n_estimators': 500}      -0.046810   \n8   random_forest    {'criterion': 'mae', 'n_estimators': 100}      -0.047284   \n\n    std_test_mse  mean_test_mae  std_test_mae  mean_test_r2  std_test_r2  \n3       0.030540      -0.160209      0.058388     -0.128288     0.740380  \n5       0.030704      -0.161571      0.057658     -0.130290     0.717102  \n7       0.030761      -0.161505      0.058552     -0.122056     0.738455  \n6       0.030630      -0.161813      0.057753     -0.105629     0.775671  \n1       0.030350      -0.161675      0.058831     -0.123015     0.715798  \n4       0.031452      -0.162115      0.060241     -0.124372     0.732983  \n2       0.030491      -0.163925      0.056773     -0.104526     0.751802  \n0       0.035499      -0.162818      0.066867     -0.075925     0.815070  \n14      0.032966      -0.163424      0.064165     -0.085461     0.782299  \n15      0.032599      -0.163801      0.063286     -0.081158     0.789541  \n9       0.032429      -0.163362      0.063635     -0.094134     0.746394  \n13      0.032890      -0.164127      0.062975     -0.083986     0.772646  \n12      0.032609      -0.164591      0.062864     -0.077774     0.773675  \n11      0.034129      -0.165210      0.064925     -0.055431     0.830981  \n10      0.032708      -0.167205      0.063233     -0.070118     0.770280  \n8       0.034481      -0.163394      0.065269     -0.094889     0.709555  ",
      "text/html": "<div>\n<style scoped>\n    .dataframe tbody tr th:only-of-type {\n        vertical-align: middle;\n    }\n\n    .dataframe tbody tr th {\n        vertical-align: top;\n    }\n\n    .dataframe thead th {\n        text-align: right;\n    }\n</style>\n<table border=\"1\" class=\"dataframe\">\n  <thead>\n    <tr style=\"text-align: right;\">\n      <th></th>\n      <th>model</th>\n      <th>params</th>\n      <th>mean_test_mse</th>\n      <th>std_test_mse</th>\n      <th>mean_test_mae</th>\n      <th>std_test_mae</th>\n      <th>mean_test_r2</th>\n      <th>std_test_r2</th>\n    </tr>\n  </thead>\n  <tbody>\n    <tr>\n      <th>3</th>\n      <td>random_forest</td>\n      <td>{'criterion': 'mse', 'n_estimators': 1000}</td>\n      <td>-0.043447</td>\n      <td>0.030540</td>\n      <td>-0.160209</td>\n      <td>0.058388</td>\n      <td>-0.128288</td>\n      <td>0.740380</td>\n    </tr>\n    <tr>\n      <th>5</th>\n      <td>random_forest</td>\n      <td>{'criterion': 'mse', 'n_estimators': 3000}</td>\n      <td>-0.043847</td>\n      <td>0.030704</td>\n      <td>-0.161571</td>\n      <td>0.057658</td>\n      <td>-0.130290</td>\n      <td>0.717102</td>\n    </tr>\n    <tr>\n      <th>7</th>\n      <td>random_forest</td>\n      <td>{'criterion': 'mse', 'n_estimators': 10000}</td>\n      <td>-0.044024</td>\n      <td>0.030761</td>\n      <td>-0.161505</td>\n      <td>0.058552</td>\n      <td>-0.122056</td>\n      <td>0.738455</td>\n    </tr>\n    <tr>\n      <th>6</th>\n      <td>random_forest</td>\n      <td>{'criterion': 'mse', 'n_estimators': 5000}</td>\n      <td>-0.044136</td>\n      <td>0.030630</td>\n      <td>-0.161813</td>\n      <td>0.057753</td>\n      <td>-0.105629</td>\n      <td>0.775671</td>\n    </tr>\n    <tr>\n      <th>1</th>\n      <td>random_forest</td>\n      <td>{'criterion': 'mse', 'n_estimators': 200}</td>\n      <td>-0.044222</td>\n      <td>0.030350</td>\n      <td>-0.161675</td>\n      <td>0.058831</td>\n      <td>-0.123015</td>\n      <td>0.715798</td>\n    </tr>\n    <tr>\n      <th>4</th>\n      <td>random_forest</td>\n      <td>{'criterion': 'mse', 'n_estimators': 2000}</td>\n      <td>-0.044253</td>\n      <td>0.031452</td>\n      <td>-0.162115</td>\n      <td>0.060241</td>\n      <td>-0.124372</td>\n      <td>0.732983</td>\n    </tr>\n    <tr>\n      <th>2</th>\n      <td>random_forest</td>\n      <td>{'criterion': 'mse', 'n_estimators': 500}</td>\n      <td>-0.044552</td>\n      <td>0.030491</td>\n      <td>-0.163925</td>\n      <td>0.056773</td>\n      <td>-0.104526</td>\n      <td>0.751802</td>\n    </tr>\n    <tr>\n      <th>0</th>\n      <td>random_forest</td>\n      <td>{'criterion': 'mse', 'n_estimators': 100}</td>\n      <td>-0.045636</td>\n      <td>0.035499</td>\n      <td>-0.162818</td>\n      <td>0.066867</td>\n      <td>-0.075925</td>\n      <td>0.815070</td>\n    </tr>\n    <tr>\n      <th>14</th>\n      <td>random_forest</td>\n      <td>{'criterion': 'mae', 'n_estimators': 5000}</td>\n      <td>-0.045728</td>\n      <td>0.032966</td>\n      <td>-0.163424</td>\n      <td>0.064165</td>\n      <td>-0.085461</td>\n      <td>0.782299</td>\n    </tr>\n    <tr>\n      <th>15</th>\n      <td>random_forest</td>\n      <td>{'criterion': 'mae', 'n_estimators': 10000}</td>\n      <td>-0.045746</td>\n      <td>0.032599</td>\n      <td>-0.163801</td>\n      <td>0.063286</td>\n      <td>-0.081158</td>\n      <td>0.789541</td>\n    </tr>\n    <tr>\n      <th>9</th>\n      <td>random_forest</td>\n      <td>{'criterion': 'mae', 'n_estimators': 200}</td>\n      <td>-0.045793</td>\n      <td>0.032429</td>\n      <td>-0.163362</td>\n      <td>0.063635</td>\n      <td>-0.094134</td>\n      <td>0.746394</td>\n    </tr>\n    <tr>\n      <th>13</th>\n      <td>random_forest</td>\n      <td>{'criterion': 'mae', 'n_estimators': 3000}</td>\n      <td>-0.046014</td>\n      <td>0.032890</td>\n      <td>-0.164127</td>\n      <td>0.062975</td>\n      <td>-0.083986</td>\n      <td>0.772646</td>\n    </tr>\n    <tr>\n      <th>12</th>\n      <td>random_forest</td>\n      <td>{'criterion': 'mae', 'n_estimators': 2000}</td>\n      <td>-0.046295</td>\n      <td>0.032609</td>\n      <td>-0.164591</td>\n      <td>0.062864</td>\n      <td>-0.077774</td>\n      <td>0.773675</td>\n    </tr>\n    <tr>\n      <th>11</th>\n      <td>random_forest</td>\n      <td>{'criterion': 'mae', 'n_estimators': 1000}</td>\n      <td>-0.046756</td>\n      <td>0.034129</td>\n      <td>-0.165210</td>\n      <td>0.064925</td>\n      <td>-0.055431</td>\n      <td>0.830981</td>\n    </tr>\n    <tr>\n      <th>10</th>\n      <td>random_forest</td>\n      <td>{'criterion': 'mae', 'n_estimators': 500}</td>\n      <td>-0.046810</td>\n      <td>0.032708</td>\n      <td>-0.167205</td>\n      <td>0.063233</td>\n      <td>-0.070118</td>\n      <td>0.770280</td>\n    </tr>\n    <tr>\n      <th>8</th>\n      <td>random_forest</td>\n      <td>{'criterion': 'mae', 'n_estimators': 100}</td>\n      <td>-0.047284</td>\n      <td>0.034481</td>\n      <td>-0.163394</td>\n      <td>0.065269</td>\n      <td>-0.094889</td>\n      <td>0.709555</td>\n    </tr>\n  </tbody>\n</table>\n</div>"
     },
     "metadata": {},
     "execution_count": 7
    }
   ],
   "source": [
    "grid_search_df.sort_values('mean_test_mse', ascending=False)"
   ]
  },
  {
   "cell_type": "markdown",
   "metadata": {},
   "source": [
    "# Ada Boost Regressor"
   ]
  },
  {
   "cell_type": "code",
   "execution_count": 8,
   "metadata": {},
   "outputs": [],
   "source": [
    "PATH = 'ada_boost_grid_search_results.csv'\n",
    ""
   ]
  },
  {
   "cell_type": "code",
   "execution_count": 9,
   "metadata": {},
   "outputs": [],
   "source": [
    "grid_search_df = pd.read_csv(PATH)\n",
    "grid_search_df[\"model\"] = \"ada_boost\"\n",
    "grid_search_df = grid_search_df[[\"model\", 'params', 'mean_test_mse', 'std_test_mse', 'mean_test_mae', 'std_test_mae', 'mean_test_r2', 'std_test_r2']]\n",
    "summary_df = summary_df.append(grid_search_df, ignore_index=True)"
   ]
  },
  {
   "cell_type": "code",
   "execution_count": 10,
   "metadata": {},
   "outputs": [
    {
     "output_type": "execute_result",
     "data": {
      "text/plain": "         model                                             params  \\\n400  ada_boost  {'learning_rate': 0.85, 'loss': 'exponential',...   \n217  ada_boost  {'learning_rate': 0.5, 'loss': 'linear', 'n_es...   \n456  ada_boost  {'learning_rate': 1.0, 'loss': 'linear', 'n_es...   \n192  ada_boost  {'learning_rate': 0.45, 'loss': 'linear', 'n_e...   \n280  ada_boost  {'learning_rate': 0.6, 'loss': 'exponential', ...   \n..         ...                                                ...   \n465  ada_boost  {'learning_rate': 1.0, 'loss': 'square', 'n_es...   \n40   ada_boost  {'learning_rate': 0.1, 'loss': 'exponential', ...   \n368  ada_boost  {'learning_rate': 0.8, 'loss': 'square', 'n_es...   \n464  ada_boost  {'learning_rate': 1.0, 'loss': 'square', 'n_es...   \n112  ada_boost  {'learning_rate': 0.25, 'loss': 'exponential',...   \n\n     mean_test_mse  std_test_mse  mean_test_mae  std_test_mae  mean_test_r2  \\\n400      -0.432559      0.343042      -0.448983      0.164757     -0.243472   \n217      -0.441049      0.370659      -0.436090      0.163607     -0.303031   \n456      -0.442371      0.336585      -0.471381      0.154199     -0.235762   \n192      -0.443865      0.384857      -0.447436      0.169106     -0.258370   \n280      -0.445486      0.380413      -0.441238      0.184846     -0.274363   \n..             ...           ...            ...           ...           ...   \n465      -0.546375      0.401369      -0.509362      0.213574     -0.150552   \n40       -0.549965      0.439704      -0.496640      0.166451     -0.088796   \n368      -0.557832      0.430786      -0.505257      0.177601     -0.151019   \n464      -0.563422      0.365024      -0.540118      0.170049     -0.113432   \n112      -0.568550      0.466607      -0.505698      0.181930     -0.005519   \n\n     std_test_r2  \n400     0.778068  \n217     0.610308  \n456     0.738253  \n192     0.733078  \n280     0.685953  \n..           ...  \n465     0.605453  \n40      0.862620  \n368     0.621208  \n464     0.672989  \n112     1.039168  \n\n[480 rows x 8 columns]",
      "text/html": "<div>\n<style scoped>\n    .dataframe tbody tr th:only-of-type {\n        vertical-align: middle;\n    }\n\n    .dataframe tbody tr th {\n        vertical-align: top;\n    }\n\n    .dataframe thead th {\n        text-align: right;\n    }\n</style>\n<table border=\"1\" class=\"dataframe\">\n  <thead>\n    <tr style=\"text-align: right;\">\n      <th></th>\n      <th>model</th>\n      <th>params</th>\n      <th>mean_test_mse</th>\n      <th>std_test_mse</th>\n      <th>mean_test_mae</th>\n      <th>std_test_mae</th>\n      <th>mean_test_r2</th>\n      <th>std_test_r2</th>\n    </tr>\n  </thead>\n  <tbody>\n    <tr>\n      <th>400</th>\n      <td>ada_boost</td>\n      <td>{'learning_rate': 0.85, 'loss': 'exponential',...</td>\n      <td>-0.432559</td>\n      <td>0.343042</td>\n      <td>-0.448983</td>\n      <td>0.164757</td>\n      <td>-0.243472</td>\n      <td>0.778068</td>\n    </tr>\n    <tr>\n      <th>217</th>\n      <td>ada_boost</td>\n      <td>{'learning_rate': 0.5, 'loss': 'linear', 'n_es...</td>\n      <td>-0.441049</td>\n      <td>0.370659</td>\n      <td>-0.436090</td>\n      <td>0.163607</td>\n      <td>-0.303031</td>\n      <td>0.610308</td>\n    </tr>\n    <tr>\n      <th>456</th>\n      <td>ada_boost</td>\n      <td>{'learning_rate': 1.0, 'loss': 'linear', 'n_es...</td>\n      <td>-0.442371</td>\n      <td>0.336585</td>\n      <td>-0.471381</td>\n      <td>0.154199</td>\n      <td>-0.235762</td>\n      <td>0.738253</td>\n    </tr>\n    <tr>\n      <th>192</th>\n      <td>ada_boost</td>\n      <td>{'learning_rate': 0.45, 'loss': 'linear', 'n_e...</td>\n      <td>-0.443865</td>\n      <td>0.384857</td>\n      <td>-0.447436</td>\n      <td>0.169106</td>\n      <td>-0.258370</td>\n      <td>0.733078</td>\n    </tr>\n    <tr>\n      <th>280</th>\n      <td>ada_boost</td>\n      <td>{'learning_rate': 0.6, 'loss': 'exponential', ...</td>\n      <td>-0.445486</td>\n      <td>0.380413</td>\n      <td>-0.441238</td>\n      <td>0.184846</td>\n      <td>-0.274363</td>\n      <td>0.685953</td>\n    </tr>\n    <tr>\n      <th>...</th>\n      <td>...</td>\n      <td>...</td>\n      <td>...</td>\n      <td>...</td>\n      <td>...</td>\n      <td>...</td>\n      <td>...</td>\n      <td>...</td>\n    </tr>\n    <tr>\n      <th>465</th>\n      <td>ada_boost</td>\n      <td>{'learning_rate': 1.0, 'loss': 'square', 'n_es...</td>\n      <td>-0.546375</td>\n      <td>0.401369</td>\n      <td>-0.509362</td>\n      <td>0.213574</td>\n      <td>-0.150552</td>\n      <td>0.605453</td>\n    </tr>\n    <tr>\n      <th>40</th>\n      <td>ada_boost</td>\n      <td>{'learning_rate': 0.1, 'loss': 'exponential', ...</td>\n      <td>-0.549965</td>\n      <td>0.439704</td>\n      <td>-0.496640</td>\n      <td>0.166451</td>\n      <td>-0.088796</td>\n      <td>0.862620</td>\n    </tr>\n    <tr>\n      <th>368</th>\n      <td>ada_boost</td>\n      <td>{'learning_rate': 0.8, 'loss': 'square', 'n_es...</td>\n      <td>-0.557832</td>\n      <td>0.430786</td>\n      <td>-0.505257</td>\n      <td>0.177601</td>\n      <td>-0.151019</td>\n      <td>0.621208</td>\n    </tr>\n    <tr>\n      <th>464</th>\n      <td>ada_boost</td>\n      <td>{'learning_rate': 1.0, 'loss': 'square', 'n_es...</td>\n      <td>-0.563422</td>\n      <td>0.365024</td>\n      <td>-0.540118</td>\n      <td>0.170049</td>\n      <td>-0.113432</td>\n      <td>0.672989</td>\n    </tr>\n    <tr>\n      <th>112</th>\n      <td>ada_boost</td>\n      <td>{'learning_rate': 0.25, 'loss': 'exponential',...</td>\n      <td>-0.568550</td>\n      <td>0.466607</td>\n      <td>-0.505698</td>\n      <td>0.181930</td>\n      <td>-0.005519</td>\n      <td>1.039168</td>\n    </tr>\n  </tbody>\n</table>\n<p>480 rows × 8 columns</p>\n</div>"
     },
     "metadata": {},
     "execution_count": 10
    }
   ],
   "source": [
    "grid_search_df.sort_values('mean_test_mse', ascending=False)"
   ]
  },
  {
   "cell_type": "code",
   "execution_count": 11,
   "metadata": {},
   "outputs": [
    {
     "output_type": "execute_result",
     "data": {
      "text/plain": "array([\"{'learning_rate': 0.85, 'loss': 'exponential', 'n_estimators': 100}\",\n       \"{'learning_rate': 0.5, 'loss': 'linear', 'n_estimators': 200}\",\n       \"{'learning_rate': 1.0, 'loss': 'linear', 'n_estimators': 100}\",\n       \"{'learning_rate': 0.45, 'loss': 'linear', 'n_estimators': 100}\",\n       \"{'learning_rate': 0.6, 'loss': 'exponential', 'n_estimators': 100}\",\n       \"{'learning_rate': 0.55, 'loss': 'exponential', 'n_estimators': 100}\",\n       \"{'learning_rate': 0.4, 'loss': 'linear', 'n_estimators': 100}\",\n       \"{'learning_rate': 0.5, 'loss': 'exponential', 'n_estimators': 100}\",\n       \"{'learning_rate': 0.75, 'loss': 'linear', 'n_estimators': 200}\",\n       \"{'learning_rate': 0.85, 'loss': 'linear', 'n_estimators': 200}\",\n       \"{'learning_rate': 0.8, 'loss': 'linear', 'n_estimators': 500}\",\n       \"{'learning_rate': 0.15, 'loss': 'exponential', 'n_estimators': 200}\",\n       \"{'learning_rate': 0.9, 'loss': 'linear', 'n_estimators': 3000}\",\n       \"{'learning_rate': 0.75, 'loss': 'linear', 'n_estimators': 3000}\",\n       \"{'learning_rate': 0.85, 'loss': 'linear', 'n_estimators': 1000}\",\n       \"{'learning_rate': 0.65, 'loss': 'exponential', 'n_estimators': 100}\",\n       \"{'learning_rate': 0.45, 'loss': 'square', 'n_estimators': 100}\",\n       \"{'learning_rate': 0.65, 'loss': 'linear', 'n_estimators': 1000}\",\n       \"{'learning_rate': 0.2, 'loss': 'square', 'n_estimators': 200}\",\n       \"{'learning_rate': 0.9, 'loss': 'exponential', 'n_estimators': 500}\"],\n      dtype=object)"
     },
     "metadata": {},
     "execution_count": 11
    }
   ],
   "source": [
    "grid_search_df.sort_values('mean_test_mse', ascending=False).head(20).params.values"
   ]
  },
  {
   "cell_type": "markdown",
   "metadata": {},
   "source": [
    "# SVM Regressor"
   ]
  },
  {
   "cell_type": "code",
   "execution_count": 12,
   "metadata": {},
   "outputs": [],
   "source": [
    "PATH = 'svm_grid_search_results.csv'\n",
    ""
   ]
  },
  {
   "cell_type": "code",
   "execution_count": 13,
   "metadata": {},
   "outputs": [],
   "source": [
    "grid_search_df = pd.read_csv(PATH)\n",
    "grid_search_df[\"model\"] = \"svm\"\n",
    "grid_search_df = grid_search_df[[\"model\", 'params', 'mean_test_mse', 'std_test_mse', 'mean_test_mae', 'std_test_mae', 'mean_test_r2', 'std_test_r2']]\n",
    "summary_df = summary_df.append(grid_search_df, ignore_index=True)"
   ]
  },
  {
   "cell_type": "code",
   "execution_count": 14,
   "metadata": {},
   "outputs": [
    {
     "output_type": "execute_result",
     "data": {
      "text/plain": "     model                                             params  mean_test_mse  \\\n5274   svm  {'C': 0.95, 'degree': 6, 'epsilon': 0.35, 'ker...      -0.460807   \n5338   svm  {'C': 0.95, 'degree': 7, 'epsilon': 0.35, 'ker...      -0.460807   \n5082   svm  {'C': 0.95, 'degree': 3, 'epsilon': 0.35, 'ker...      -0.460807   \n5146   svm  {'C': 0.95, 'degree': 4, 'epsilon': 0.35, 'ker...      -0.460807   \n5018   svm  {'C': 0.95, 'degree': 2, 'epsilon': 0.35, 'ker...      -0.460807   \n5210   svm  {'C': 0.95, 'degree': 5, 'epsilon': 0.35, 'ker...      -0.460807   \n5334   svm  {'C': 0.95, 'degree': 7, 'epsilon': 0.3, 'kern...      -0.461554   \n5078   svm  {'C': 0.95, 'degree': 3, 'epsilon': 0.3, 'kern...      -0.461554   \n5206   svm  {'C': 0.95, 'degree': 5, 'epsilon': 0.3, 'kern...      -0.461554   \n5270   svm  {'C': 0.95, 'degree': 6, 'epsilon': 0.3, 'kern...      -0.461554   \n5142   svm  {'C': 0.95, 'degree': 4, 'epsilon': 0.3, 'kern...      -0.461554   \n5014   svm  {'C': 0.95, 'degree': 2, 'epsilon': 0.3, 'kern...      -0.461554   \n5022   svm  {'C': 0.95, 'degree': 2, 'epsilon': 0.4, 'kern...      -0.462340   \n5150   svm  {'C': 0.95, 'degree': 4, 'epsilon': 0.4, 'kern...      -0.462340   \n5214   svm  {'C': 0.95, 'degree': 5, 'epsilon': 0.4, 'kern...      -0.462340   \n5278   svm  {'C': 0.95, 'degree': 6, 'epsilon': 0.4, 'kern...      -0.462340   \n5086   svm  {'C': 0.95, 'degree': 3, 'epsilon': 0.4, 'kern...      -0.462340   \n5342   svm  {'C': 0.95, 'degree': 7, 'epsilon': 0.4, 'kern...      -0.462340   \n5190   svm  {'C': 0.95, 'degree': 5, 'epsilon': 0.1, 'kern...      -0.463926   \n5254   svm  {'C': 0.95, 'degree': 6, 'epsilon': 0.1, 'kern...      -0.463926   \n\n      std_test_mse  mean_test_mae  std_test_mae  mean_test_r2  std_test_r2  \n5274      0.359737      -0.559501      0.182070     -0.358236     0.426829  \n5338      0.359737      -0.559501      0.182070     -0.358236     0.426829  \n5082      0.359737      -0.559501      0.182070     -0.358236     0.426829  \n5146      0.359737      -0.559501      0.182070     -0.358236     0.426829  \n5018      0.359737      -0.559501      0.182070     -0.358236     0.426829  \n5210      0.359737      -0.559501      0.182070     -0.358236     0.426829  \n5334      0.369617      -0.554915      0.188468     -0.360022     0.432433  \n5078      0.369617      -0.554915      0.188468     -0.360022     0.432433  \n5206      0.369617      -0.554915      0.188468     -0.360022     0.432433  \n5270      0.369617      -0.554915      0.188468     -0.360022     0.432433  \n5142      0.369617      -0.554915      0.188468     -0.360022     0.432433  \n5014      0.369617      -0.554915      0.188468     -0.360022     0.432433  \n5022      0.352920      -0.567717      0.174810     -0.347500     0.432721  \n5150      0.352920      -0.567717      0.174810     -0.347500     0.432721  \n5214      0.352920      -0.567717      0.174810     -0.347500     0.432721  \n5278      0.352920      -0.567717      0.174810     -0.347500     0.432721  \n5086      0.352920      -0.567717      0.174810     -0.347500     0.432721  \n5342      0.352920      -0.567717      0.174810     -0.347500     0.432721  \n5190      0.362724      -0.553892      0.187796     -0.310579     0.498641  \n5254      0.362724      -0.553892      0.187796     -0.310579     0.498641  ",
      "text/html": "<div>\n<style scoped>\n    .dataframe tbody tr th:only-of-type {\n        vertical-align: middle;\n    }\n\n    .dataframe tbody tr th {\n        vertical-align: top;\n    }\n\n    .dataframe thead th {\n        text-align: right;\n    }\n</style>\n<table border=\"1\" class=\"dataframe\">\n  <thead>\n    <tr style=\"text-align: right;\">\n      <th></th>\n      <th>model</th>\n      <th>params</th>\n      <th>mean_test_mse</th>\n      <th>std_test_mse</th>\n      <th>mean_test_mae</th>\n      <th>std_test_mae</th>\n      <th>mean_test_r2</th>\n      <th>std_test_r2</th>\n    </tr>\n  </thead>\n  <tbody>\n    <tr>\n      <th>5274</th>\n      <td>svm</td>\n      <td>{'C': 0.95, 'degree': 6, 'epsilon': 0.35, 'ker...</td>\n      <td>-0.460807</td>\n      <td>0.359737</td>\n      <td>-0.559501</td>\n      <td>0.182070</td>\n      <td>-0.358236</td>\n      <td>0.426829</td>\n    </tr>\n    <tr>\n      <th>5338</th>\n      <td>svm</td>\n      <td>{'C': 0.95, 'degree': 7, 'epsilon': 0.35, 'ker...</td>\n      <td>-0.460807</td>\n      <td>0.359737</td>\n      <td>-0.559501</td>\n      <td>0.182070</td>\n      <td>-0.358236</td>\n      <td>0.426829</td>\n    </tr>\n    <tr>\n      <th>5082</th>\n      <td>svm</td>\n      <td>{'C': 0.95, 'degree': 3, 'epsilon': 0.35, 'ker...</td>\n      <td>-0.460807</td>\n      <td>0.359737</td>\n      <td>-0.559501</td>\n      <td>0.182070</td>\n      <td>-0.358236</td>\n      <td>0.426829</td>\n    </tr>\n    <tr>\n      <th>5146</th>\n      <td>svm</td>\n      <td>{'C': 0.95, 'degree': 4, 'epsilon': 0.35, 'ker...</td>\n      <td>-0.460807</td>\n      <td>0.359737</td>\n      <td>-0.559501</td>\n      <td>0.182070</td>\n      <td>-0.358236</td>\n      <td>0.426829</td>\n    </tr>\n    <tr>\n      <th>5018</th>\n      <td>svm</td>\n      <td>{'C': 0.95, 'degree': 2, 'epsilon': 0.35, 'ker...</td>\n      <td>-0.460807</td>\n      <td>0.359737</td>\n      <td>-0.559501</td>\n      <td>0.182070</td>\n      <td>-0.358236</td>\n      <td>0.426829</td>\n    </tr>\n    <tr>\n      <th>5210</th>\n      <td>svm</td>\n      <td>{'C': 0.95, 'degree': 5, 'epsilon': 0.35, 'ker...</td>\n      <td>-0.460807</td>\n      <td>0.359737</td>\n      <td>-0.559501</td>\n      <td>0.182070</td>\n      <td>-0.358236</td>\n      <td>0.426829</td>\n    </tr>\n    <tr>\n      <th>5334</th>\n      <td>svm</td>\n      <td>{'C': 0.95, 'degree': 7, 'epsilon': 0.3, 'kern...</td>\n      <td>-0.461554</td>\n      <td>0.369617</td>\n      <td>-0.554915</td>\n      <td>0.188468</td>\n      <td>-0.360022</td>\n      <td>0.432433</td>\n    </tr>\n    <tr>\n      <th>5078</th>\n      <td>svm</td>\n      <td>{'C': 0.95, 'degree': 3, 'epsilon': 0.3, 'kern...</td>\n      <td>-0.461554</td>\n      <td>0.369617</td>\n      <td>-0.554915</td>\n      <td>0.188468</td>\n      <td>-0.360022</td>\n      <td>0.432433</td>\n    </tr>\n    <tr>\n      <th>5206</th>\n      <td>svm</td>\n      <td>{'C': 0.95, 'degree': 5, 'epsilon': 0.3, 'kern...</td>\n      <td>-0.461554</td>\n      <td>0.369617</td>\n      <td>-0.554915</td>\n      <td>0.188468</td>\n      <td>-0.360022</td>\n      <td>0.432433</td>\n    </tr>\n    <tr>\n      <th>5270</th>\n      <td>svm</td>\n      <td>{'C': 0.95, 'degree': 6, 'epsilon': 0.3, 'kern...</td>\n      <td>-0.461554</td>\n      <td>0.369617</td>\n      <td>-0.554915</td>\n      <td>0.188468</td>\n      <td>-0.360022</td>\n      <td>0.432433</td>\n    </tr>\n    <tr>\n      <th>5142</th>\n      <td>svm</td>\n      <td>{'C': 0.95, 'degree': 4, 'epsilon': 0.3, 'kern...</td>\n      <td>-0.461554</td>\n      <td>0.369617</td>\n      <td>-0.554915</td>\n      <td>0.188468</td>\n      <td>-0.360022</td>\n      <td>0.432433</td>\n    </tr>\n    <tr>\n      <th>5014</th>\n      <td>svm</td>\n      <td>{'C': 0.95, 'degree': 2, 'epsilon': 0.3, 'kern...</td>\n      <td>-0.461554</td>\n      <td>0.369617</td>\n      <td>-0.554915</td>\n      <td>0.188468</td>\n      <td>-0.360022</td>\n      <td>0.432433</td>\n    </tr>\n    <tr>\n      <th>5022</th>\n      <td>svm</td>\n      <td>{'C': 0.95, 'degree': 2, 'epsilon': 0.4, 'kern...</td>\n      <td>-0.462340</td>\n      <td>0.352920</td>\n      <td>-0.567717</td>\n      <td>0.174810</td>\n      <td>-0.347500</td>\n      <td>0.432721</td>\n    </tr>\n    <tr>\n      <th>5150</th>\n      <td>svm</td>\n      <td>{'C': 0.95, 'degree': 4, 'epsilon': 0.4, 'kern...</td>\n      <td>-0.462340</td>\n      <td>0.352920</td>\n      <td>-0.567717</td>\n      <td>0.174810</td>\n      <td>-0.347500</td>\n      <td>0.432721</td>\n    </tr>\n    <tr>\n      <th>5214</th>\n      <td>svm</td>\n      <td>{'C': 0.95, 'degree': 5, 'epsilon': 0.4, 'kern...</td>\n      <td>-0.462340</td>\n      <td>0.352920</td>\n      <td>-0.567717</td>\n      <td>0.174810</td>\n      <td>-0.347500</td>\n      <td>0.432721</td>\n    </tr>\n    <tr>\n      <th>5278</th>\n      <td>svm</td>\n      <td>{'C': 0.95, 'degree': 6, 'epsilon': 0.4, 'kern...</td>\n      <td>-0.462340</td>\n      <td>0.352920</td>\n      <td>-0.567717</td>\n      <td>0.174810</td>\n      <td>-0.347500</td>\n      <td>0.432721</td>\n    </tr>\n    <tr>\n      <th>5086</th>\n      <td>svm</td>\n      <td>{'C': 0.95, 'degree': 3, 'epsilon': 0.4, 'kern...</td>\n      <td>-0.462340</td>\n      <td>0.352920</td>\n      <td>-0.567717</td>\n      <td>0.174810</td>\n      <td>-0.347500</td>\n      <td>0.432721</td>\n    </tr>\n    <tr>\n      <th>5342</th>\n      <td>svm</td>\n      <td>{'C': 0.95, 'degree': 7, 'epsilon': 0.4, 'kern...</td>\n      <td>-0.462340</td>\n      <td>0.352920</td>\n      <td>-0.567717</td>\n      <td>0.174810</td>\n      <td>-0.347500</td>\n      <td>0.432721</td>\n    </tr>\n    <tr>\n      <th>5190</th>\n      <td>svm</td>\n      <td>{'C': 0.95, 'degree': 5, 'epsilon': 0.1, 'kern...</td>\n      <td>-0.463926</td>\n      <td>0.362724</td>\n      <td>-0.553892</td>\n      <td>0.187796</td>\n      <td>-0.310579</td>\n      <td>0.498641</td>\n    </tr>\n    <tr>\n      <th>5254</th>\n      <td>svm</td>\n      <td>{'C': 0.95, 'degree': 6, 'epsilon': 0.1, 'kern...</td>\n      <td>-0.463926</td>\n      <td>0.362724</td>\n      <td>-0.553892</td>\n      <td>0.187796</td>\n      <td>-0.310579</td>\n      <td>0.498641</td>\n    </tr>\n  </tbody>\n</table>\n</div>"
     },
     "metadata": {},
     "execution_count": 14
    }
   ],
   "source": [
    "grid_search_df.sort_values('mean_test_mse', ascending=False).head(20)"
   ]
  },
  {
   "cell_type": "code",
   "execution_count": 15,
   "metadata": {},
   "outputs": [
    {
     "output_type": "execute_result",
     "data": {
      "text/plain": "array([\"{'C': 0.95, 'degree': 6, 'epsilon': 0.35, 'kernel': 'rbf'}\",\n       \"{'C': 0.95, 'degree': 7, 'epsilon': 0.35, 'kernel': 'rbf'}\",\n       \"{'C': 0.95, 'degree': 3, 'epsilon': 0.35, 'kernel': 'rbf'}\",\n       \"{'C': 0.95, 'degree': 4, 'epsilon': 0.35, 'kernel': 'rbf'}\",\n       \"{'C': 0.95, 'degree': 2, 'epsilon': 0.35, 'kernel': 'rbf'}\",\n       \"{'C': 0.95, 'degree': 5, 'epsilon': 0.35, 'kernel': 'rbf'}\",\n       \"{'C': 0.95, 'degree': 7, 'epsilon': 0.3, 'kernel': 'rbf'}\",\n       \"{'C': 0.95, 'degree': 3, 'epsilon': 0.3, 'kernel': 'rbf'}\",\n       \"{'C': 0.95, 'degree': 5, 'epsilon': 0.3, 'kernel': 'rbf'}\",\n       \"{'C': 0.95, 'degree': 6, 'epsilon': 0.3, 'kernel': 'rbf'}\",\n       \"{'C': 0.95, 'degree': 4, 'epsilon': 0.3, 'kernel': 'rbf'}\",\n       \"{'C': 0.95, 'degree': 2, 'epsilon': 0.3, 'kernel': 'rbf'}\",\n       \"{'C': 0.95, 'degree': 2, 'epsilon': 0.4, 'kernel': 'rbf'}\",\n       \"{'C': 0.95, 'degree': 4, 'epsilon': 0.4, 'kernel': 'rbf'}\",\n       \"{'C': 0.95, 'degree': 5, 'epsilon': 0.4, 'kernel': 'rbf'}\",\n       \"{'C': 0.95, 'degree': 6, 'epsilon': 0.4, 'kernel': 'rbf'}\",\n       \"{'C': 0.95, 'degree': 3, 'epsilon': 0.4, 'kernel': 'rbf'}\",\n       \"{'C': 0.95, 'degree': 7, 'epsilon': 0.4, 'kernel': 'rbf'}\",\n       \"{'C': 0.95, 'degree': 5, 'epsilon': 0.1, 'kernel': 'rbf'}\",\n       \"{'C': 0.95, 'degree': 6, 'epsilon': 0.1, 'kernel': 'rbf'}\"],\n      dtype=object)"
     },
     "metadata": {},
     "execution_count": 15
    }
   ],
   "source": [
    "grid_search_df.sort_values('mean_test_mse', ascending=False)[\"params\"].head(20).values\n"
   ]
  },
  {
   "cell_type": "markdown",
   "metadata": {},
   "source": [
    "# KNN Regressor"
   ]
  },
  {
   "cell_type": "code",
   "execution_count": 16,
   "metadata": {},
   "outputs": [],
   "source": [
    "PATH = 'knn_grid_search_results.csv'\n"
   ]
  },
  {
   "cell_type": "code",
   "execution_count": 17,
   "metadata": {},
   "outputs": [],
   "source": [
    "grid_search_df = pd.read_csv(PATH)\n",
    "grid_search_df[\"model\"] = \"knn\"\n",
    "grid_search_df = grid_search_df[[\"model\", 'params', 'mean_test_mse', 'std_test_mse', 'mean_test_mae', 'std_test_mae', 'mean_test_r2', 'std_test_r2']]\n",
    "summary_df = summary_df.append(grid_search_df, ignore_index=True)"
   ]
  },
  {
   "cell_type": "code",
   "execution_count": 18,
   "metadata": {},
   "outputs": [
    {
     "output_type": "execute_result",
     "data": {
      "text/plain": "   model                                             params  mean_test_mse  \\\n2    knn  {'metric': 'minkowski', 'n_neighbors': 3, 'p': 1}      -0.592342   \n4    knn  {'metric': 'minkowski', 'n_neighbors': 5, 'p': 1}      -0.623660   \n3    knn  {'metric': 'minkowski', 'n_neighbors': 3, 'p': 2}      -0.682889   \n10   knn  {'metric': 'minkowski', 'n_neighbors': 11, 'p'...      -0.689741   \n8    knn  {'metric': 'minkowski', 'n_neighbors': 9, 'p': 1}      -0.702868   \n15   knn  {'metric': 'chebyshev', 'n_neighbors': 3, 'p': 2}      -0.704345   \n14   knn  {'metric': 'chebyshev', 'n_neighbors': 3, 'p': 1}      -0.704345   \n9    knn  {'metric': 'minkowski', 'n_neighbors': 9, 'p': 2}      -0.704846   \n7    knn  {'metric': 'minkowski', 'n_neighbors': 7, 'p': 2}      -0.706468   \n18   knn  {'metric': 'chebyshev', 'n_neighbors': 7, 'p': 1}      -0.707087   \n19   knn  {'metric': 'chebyshev', 'n_neighbors': 7, 'p': 2}      -0.707087   \n6    knn  {'metric': 'minkowski', 'n_neighbors': 7, 'p': 1}      -0.717269   \n5    knn  {'metric': 'minkowski', 'n_neighbors': 5, 'p': 2}      -0.720952   \n16   knn  {'metric': 'chebyshev', 'n_neighbors': 5, 'p': 1}      -0.755120   \n17   knn  {'metric': 'chebyshev', 'n_neighbors': 5, 'p': 2}      -0.755120   \n20   knn  {'metric': 'chebyshev', 'n_neighbors': 9, 'p': 1}      -0.758336   \n21   knn  {'metric': 'chebyshev', 'n_neighbors': 9, 'p': 2}      -0.758336   \n11   knn  {'metric': 'minkowski', 'n_neighbors': 11, 'p'...      -0.762133   \n13   knn  {'metric': 'chebyshev', 'n_neighbors': 1, 'p': 2}      -0.805847   \n12   knn  {'metric': 'chebyshev', 'n_neighbors': 1, 'p': 1}      -0.805847   \n1    knn  {'metric': 'minkowski', 'n_neighbors': 1, 'p': 2}      -0.818930   \n22   knn  {'metric': 'chebyshev', 'n_neighbors': 11, 'p'...      -0.820804   \n23   knn  {'metric': 'chebyshev', 'n_neighbors': 11, 'p'...      -0.820804   \n0    knn  {'metric': 'minkowski', 'n_neighbors': 1, 'p': 1}      -1.227834   \n\n    std_test_mse  mean_test_mae  std_test_mae  mean_test_r2  std_test_r2  \n2       0.534870      -0.554350      0.267653     -0.108412     0.805501  \n4       0.488382      -0.615691      0.179569     -0.149062     0.561168  \n3       0.496483      -0.607916      0.237931     -0.029978     0.704044  \n10      0.403096      -0.723359      0.189245     -0.066920     0.478456  \n8       0.407644      -0.715559      0.203647     -0.075389     0.430536  \n15      0.367413      -0.698951      0.181001      0.146050     1.040111  \n14      0.367413      -0.698951      0.181001      0.146050     1.040111  \n9       0.475526      -0.698561      0.214719     -0.071091     0.518961  \n7       0.551034      -0.689528      0.221168     -0.054594     0.613715  \n18      0.438554      -0.722094      0.210601     -0.019107     0.565439  \n19      0.438554      -0.722094      0.210601     -0.019107     0.565439  \n6       0.504730      -0.717990      0.204610     -0.068732     0.533673  \n5       0.566206      -0.681672      0.232692     -0.064147     0.633188  \n16      0.553469      -0.720762      0.237956     -0.076721     0.498879  \n17      0.553469      -0.720762      0.237956     -0.076721     0.498879  \n20      0.410953      -0.751457      0.187945      0.085506     0.613613  \n21      0.410953      -0.751457      0.187945      0.085506     0.613613  \n11      0.435662      -0.749064      0.187476      0.078633     0.628608  \n13      0.746061      -0.595606      0.362005      1.491343     4.899372  \n12      0.746061      -0.595606      0.362005      1.491343     4.899372  \n1       0.542022      -0.637194      0.240776      1.391394     4.567801  \n22      0.420960      -0.780040      0.196787      0.181632     0.676270  \n23      0.420960      -0.780040      0.196787      0.181632     0.676270  \n0       0.896314      -0.839290      0.369760      2.077879     4.925152  ",
      "text/html": "<div>\n<style scoped>\n    .dataframe tbody tr th:only-of-type {\n        vertical-align: middle;\n    }\n\n    .dataframe tbody tr th {\n        vertical-align: top;\n    }\n\n    .dataframe thead th {\n        text-align: right;\n    }\n</style>\n<table border=\"1\" class=\"dataframe\">\n  <thead>\n    <tr style=\"text-align: right;\">\n      <th></th>\n      <th>model</th>\n      <th>params</th>\n      <th>mean_test_mse</th>\n      <th>std_test_mse</th>\n      <th>mean_test_mae</th>\n      <th>std_test_mae</th>\n      <th>mean_test_r2</th>\n      <th>std_test_r2</th>\n    </tr>\n  </thead>\n  <tbody>\n    <tr>\n      <th>2</th>\n      <td>knn</td>\n      <td>{'metric': 'minkowski', 'n_neighbors': 3, 'p': 1}</td>\n      <td>-0.592342</td>\n      <td>0.534870</td>\n      <td>-0.554350</td>\n      <td>0.267653</td>\n      <td>-0.108412</td>\n      <td>0.805501</td>\n    </tr>\n    <tr>\n      <th>4</th>\n      <td>knn</td>\n      <td>{'metric': 'minkowski', 'n_neighbors': 5, 'p': 1}</td>\n      <td>-0.623660</td>\n      <td>0.488382</td>\n      <td>-0.615691</td>\n      <td>0.179569</td>\n      <td>-0.149062</td>\n      <td>0.561168</td>\n    </tr>\n    <tr>\n      <th>3</th>\n      <td>knn</td>\n      <td>{'metric': 'minkowski', 'n_neighbors': 3, 'p': 2}</td>\n      <td>-0.682889</td>\n      <td>0.496483</td>\n      <td>-0.607916</td>\n      <td>0.237931</td>\n      <td>-0.029978</td>\n      <td>0.704044</td>\n    </tr>\n    <tr>\n      <th>10</th>\n      <td>knn</td>\n      <td>{'metric': 'minkowski', 'n_neighbors': 11, 'p'...</td>\n      <td>-0.689741</td>\n      <td>0.403096</td>\n      <td>-0.723359</td>\n      <td>0.189245</td>\n      <td>-0.066920</td>\n      <td>0.478456</td>\n    </tr>\n    <tr>\n      <th>8</th>\n      <td>knn</td>\n      <td>{'metric': 'minkowski', 'n_neighbors': 9, 'p': 1}</td>\n      <td>-0.702868</td>\n      <td>0.407644</td>\n      <td>-0.715559</td>\n      <td>0.203647</td>\n      <td>-0.075389</td>\n      <td>0.430536</td>\n    </tr>\n    <tr>\n      <th>15</th>\n      <td>knn</td>\n      <td>{'metric': 'chebyshev', 'n_neighbors': 3, 'p': 2}</td>\n      <td>-0.704345</td>\n      <td>0.367413</td>\n      <td>-0.698951</td>\n      <td>0.181001</td>\n      <td>0.146050</td>\n      <td>1.040111</td>\n    </tr>\n    <tr>\n      <th>14</th>\n      <td>knn</td>\n      <td>{'metric': 'chebyshev', 'n_neighbors': 3, 'p': 1}</td>\n      <td>-0.704345</td>\n      <td>0.367413</td>\n      <td>-0.698951</td>\n      <td>0.181001</td>\n      <td>0.146050</td>\n      <td>1.040111</td>\n    </tr>\n    <tr>\n      <th>9</th>\n      <td>knn</td>\n      <td>{'metric': 'minkowski', 'n_neighbors': 9, 'p': 2}</td>\n      <td>-0.704846</td>\n      <td>0.475526</td>\n      <td>-0.698561</td>\n      <td>0.214719</td>\n      <td>-0.071091</td>\n      <td>0.518961</td>\n    </tr>\n    <tr>\n      <th>7</th>\n      <td>knn</td>\n      <td>{'metric': 'minkowski', 'n_neighbors': 7, 'p': 2}</td>\n      <td>-0.706468</td>\n      <td>0.551034</td>\n      <td>-0.689528</td>\n      <td>0.221168</td>\n      <td>-0.054594</td>\n      <td>0.613715</td>\n    </tr>\n    <tr>\n      <th>18</th>\n      <td>knn</td>\n      <td>{'metric': 'chebyshev', 'n_neighbors': 7, 'p': 1}</td>\n      <td>-0.707087</td>\n      <td>0.438554</td>\n      <td>-0.722094</td>\n      <td>0.210601</td>\n      <td>-0.019107</td>\n      <td>0.565439</td>\n    </tr>\n    <tr>\n      <th>19</th>\n      <td>knn</td>\n      <td>{'metric': 'chebyshev', 'n_neighbors': 7, 'p': 2}</td>\n      <td>-0.707087</td>\n      <td>0.438554</td>\n      <td>-0.722094</td>\n      <td>0.210601</td>\n      <td>-0.019107</td>\n      <td>0.565439</td>\n    </tr>\n    <tr>\n      <th>6</th>\n      <td>knn</td>\n      <td>{'metric': 'minkowski', 'n_neighbors': 7, 'p': 1}</td>\n      <td>-0.717269</td>\n      <td>0.504730</td>\n      <td>-0.717990</td>\n      <td>0.204610</td>\n      <td>-0.068732</td>\n      <td>0.533673</td>\n    </tr>\n    <tr>\n      <th>5</th>\n      <td>knn</td>\n      <td>{'metric': 'minkowski', 'n_neighbors': 5, 'p': 2}</td>\n      <td>-0.720952</td>\n      <td>0.566206</td>\n      <td>-0.681672</td>\n      <td>0.232692</td>\n      <td>-0.064147</td>\n      <td>0.633188</td>\n    </tr>\n    <tr>\n      <th>16</th>\n      <td>knn</td>\n      <td>{'metric': 'chebyshev', 'n_neighbors': 5, 'p': 1}</td>\n      <td>-0.755120</td>\n      <td>0.553469</td>\n      <td>-0.720762</td>\n      <td>0.237956</td>\n      <td>-0.076721</td>\n      <td>0.498879</td>\n    </tr>\n    <tr>\n      <th>17</th>\n      <td>knn</td>\n      <td>{'metric': 'chebyshev', 'n_neighbors': 5, 'p': 2}</td>\n      <td>-0.755120</td>\n      <td>0.553469</td>\n      <td>-0.720762</td>\n      <td>0.237956</td>\n      <td>-0.076721</td>\n      <td>0.498879</td>\n    </tr>\n    <tr>\n      <th>20</th>\n      <td>knn</td>\n      <td>{'metric': 'chebyshev', 'n_neighbors': 9, 'p': 1}</td>\n      <td>-0.758336</td>\n      <td>0.410953</td>\n      <td>-0.751457</td>\n      <td>0.187945</td>\n      <td>0.085506</td>\n      <td>0.613613</td>\n    </tr>\n    <tr>\n      <th>21</th>\n      <td>knn</td>\n      <td>{'metric': 'chebyshev', 'n_neighbors': 9, 'p': 2}</td>\n      <td>-0.758336</td>\n      <td>0.410953</td>\n      <td>-0.751457</td>\n      <td>0.187945</td>\n      <td>0.085506</td>\n      <td>0.613613</td>\n    </tr>\n    <tr>\n      <th>11</th>\n      <td>knn</td>\n      <td>{'metric': 'minkowski', 'n_neighbors': 11, 'p'...</td>\n      <td>-0.762133</td>\n      <td>0.435662</td>\n      <td>-0.749064</td>\n      <td>0.187476</td>\n      <td>0.078633</td>\n      <td>0.628608</td>\n    </tr>\n    <tr>\n      <th>13</th>\n      <td>knn</td>\n      <td>{'metric': 'chebyshev', 'n_neighbors': 1, 'p': 2}</td>\n      <td>-0.805847</td>\n      <td>0.746061</td>\n      <td>-0.595606</td>\n      <td>0.362005</td>\n      <td>1.491343</td>\n      <td>4.899372</td>\n    </tr>\n    <tr>\n      <th>12</th>\n      <td>knn</td>\n      <td>{'metric': 'chebyshev', 'n_neighbors': 1, 'p': 1}</td>\n      <td>-0.805847</td>\n      <td>0.746061</td>\n      <td>-0.595606</td>\n      <td>0.362005</td>\n      <td>1.491343</td>\n      <td>4.899372</td>\n    </tr>\n    <tr>\n      <th>1</th>\n      <td>knn</td>\n      <td>{'metric': 'minkowski', 'n_neighbors': 1, 'p': 2}</td>\n      <td>-0.818930</td>\n      <td>0.542022</td>\n      <td>-0.637194</td>\n      <td>0.240776</td>\n      <td>1.391394</td>\n      <td>4.567801</td>\n    </tr>\n    <tr>\n      <th>22</th>\n      <td>knn</td>\n      <td>{'metric': 'chebyshev', 'n_neighbors': 11, 'p'...</td>\n      <td>-0.820804</td>\n      <td>0.420960</td>\n      <td>-0.780040</td>\n      <td>0.196787</td>\n      <td>0.181632</td>\n      <td>0.676270</td>\n    </tr>\n    <tr>\n      <th>23</th>\n      <td>knn</td>\n      <td>{'metric': 'chebyshev', 'n_neighbors': 11, 'p'...</td>\n      <td>-0.820804</td>\n      <td>0.420960</td>\n      <td>-0.780040</td>\n      <td>0.196787</td>\n      <td>0.181632</td>\n      <td>0.676270</td>\n    </tr>\n    <tr>\n      <th>0</th>\n      <td>knn</td>\n      <td>{'metric': 'minkowski', 'n_neighbors': 1, 'p': 1}</td>\n      <td>-1.227834</td>\n      <td>0.896314</td>\n      <td>-0.839290</td>\n      <td>0.369760</td>\n      <td>2.077879</td>\n      <td>4.925152</td>\n    </tr>\n  </tbody>\n</table>\n</div>"
     },
     "metadata": {},
     "execution_count": 18
    }
   ],
   "source": [
    "grid_search_df.sort_values('mean_test_mse', ascending=False)"
   ]
  },
  {
   "cell_type": "markdown",
   "metadata": {},
   "source": [
    "# Lasso Regressor"
   ]
  },
  {
   "cell_type": "code",
   "execution_count": 19,
   "metadata": {},
   "outputs": [],
   "source": [
    "PATH = 'lasso_grid_search_results.csv'"
   ]
  },
  {
   "cell_type": "code",
   "execution_count": 20,
   "metadata": {},
   "outputs": [],
   "source": [
    "grid_search_df = pd.read_csv(PATH)\n",
    "grid_search_df[\"model\"] = \"lasso\"\n",
    "grid_search_df = grid_search_df[[\"model\", 'params', 'mean_test_mse', 'std_test_mse', 'mean_test_mae', 'std_test_mae', 'mean_test_r2', 'std_test_r2']]\n",
    "summary_df = summary_df.append(grid_search_df, ignore_index=True)"
   ]
  },
  {
   "cell_type": "code",
   "execution_count": 21,
   "metadata": {},
   "outputs": [
    {
     "output_type": "execute_result",
     "data": {
      "text/plain": "    model           params  mean_test_mse  std_test_mse  mean_test_mae  \\\n2   lasso   {'alpha': 0.1}      -0.616390      0.329495      -0.677474   \n1   lasso  {'alpha': 0.05}      -0.646131      0.446903      -0.648931   \n3   lasso   {'alpha': 0.2}      -0.707360      0.312636      -0.720646   \n4   lasso   {'alpha': 0.3}      -0.785751      0.291389      -0.768607   \n5   lasso   {'alpha': 0.4}      -0.902485      0.302006      -0.836595   \n6   lasso   {'alpha': 0.5}      -0.996708      0.350513      -0.877389   \n7   lasso   {'alpha': 0.6}      -0.998038      0.354858      -0.879402   \n8   lasso   {'alpha': 0.7}      -0.998038      0.354858      -0.879402   \n9   lasso   {'alpha': 0.8}      -0.998038      0.354858      -0.879402   \n10  lasso   {'alpha': 0.9}      -0.998038      0.354858      -0.879402   \n11  lasso     {'alpha': 1}      -0.998038      0.354858      -0.879402   \n12  lasso     {'alpha': 2}      -0.998038      0.354858      -0.879402   \n13  lasso     {'alpha': 3}      -0.998038      0.354858      -0.879402   \n14  lasso     {'alpha': 5}      -0.998038      0.354858      -0.879402   \n15  lasso     {'alpha': 7}      -0.998038      0.354858      -0.879402   \n0   lasso  {'alpha': 0.01}      -1.009513      1.147287      -0.714597   \n\n    std_test_mae  mean_test_r2  std_test_r2  \n2       0.155702      0.042892     0.951385  \n1       0.176130     -0.088649     0.578579  \n3       0.135936      0.219884     1.188797  \n4       0.110500      0.337151     1.267709  \n5       0.125807      0.498486     1.352620  \n6       0.150069      0.650700     1.506162  \n7       0.150432      0.657122     1.527161  \n8       0.150432      0.657122     1.527161  \n9       0.150432      0.657122     1.527161  \n10      0.150432      0.657122     1.527161  \n11      0.150432      0.657122     1.527161  \n12      0.150432      0.657122     1.527161  \n13      0.150432      0.657122     1.527161  \n14      0.150432      0.657122     1.527161  \n15      0.150432      0.657122     1.527161  \n0       0.300425      0.206776     0.971184  ",
      "text/html": "<div>\n<style scoped>\n    .dataframe tbody tr th:only-of-type {\n        vertical-align: middle;\n    }\n\n    .dataframe tbody tr th {\n        vertical-align: top;\n    }\n\n    .dataframe thead th {\n        text-align: right;\n    }\n</style>\n<table border=\"1\" class=\"dataframe\">\n  <thead>\n    <tr style=\"text-align: right;\">\n      <th></th>\n      <th>model</th>\n      <th>params</th>\n      <th>mean_test_mse</th>\n      <th>std_test_mse</th>\n      <th>mean_test_mae</th>\n      <th>std_test_mae</th>\n      <th>mean_test_r2</th>\n      <th>std_test_r2</th>\n    </tr>\n  </thead>\n  <tbody>\n    <tr>\n      <th>2</th>\n      <td>lasso</td>\n      <td>{'alpha': 0.1}</td>\n      <td>-0.616390</td>\n      <td>0.329495</td>\n      <td>-0.677474</td>\n      <td>0.155702</td>\n      <td>0.042892</td>\n      <td>0.951385</td>\n    </tr>\n    <tr>\n      <th>1</th>\n      <td>lasso</td>\n      <td>{'alpha': 0.05}</td>\n      <td>-0.646131</td>\n      <td>0.446903</td>\n      <td>-0.648931</td>\n      <td>0.176130</td>\n      <td>-0.088649</td>\n      <td>0.578579</td>\n    </tr>\n    <tr>\n      <th>3</th>\n      <td>lasso</td>\n      <td>{'alpha': 0.2}</td>\n      <td>-0.707360</td>\n      <td>0.312636</td>\n      <td>-0.720646</td>\n      <td>0.135936</td>\n      <td>0.219884</td>\n      <td>1.188797</td>\n    </tr>\n    <tr>\n      <th>4</th>\n      <td>lasso</td>\n      <td>{'alpha': 0.3}</td>\n      <td>-0.785751</td>\n      <td>0.291389</td>\n      <td>-0.768607</td>\n      <td>0.110500</td>\n      <td>0.337151</td>\n      <td>1.267709</td>\n    </tr>\n    <tr>\n      <th>5</th>\n      <td>lasso</td>\n      <td>{'alpha': 0.4}</td>\n      <td>-0.902485</td>\n      <td>0.302006</td>\n      <td>-0.836595</td>\n      <td>0.125807</td>\n      <td>0.498486</td>\n      <td>1.352620</td>\n    </tr>\n    <tr>\n      <th>6</th>\n      <td>lasso</td>\n      <td>{'alpha': 0.5}</td>\n      <td>-0.996708</td>\n      <td>0.350513</td>\n      <td>-0.877389</td>\n      <td>0.150069</td>\n      <td>0.650700</td>\n      <td>1.506162</td>\n    </tr>\n    <tr>\n      <th>7</th>\n      <td>lasso</td>\n      <td>{'alpha': 0.6}</td>\n      <td>-0.998038</td>\n      <td>0.354858</td>\n      <td>-0.879402</td>\n      <td>0.150432</td>\n      <td>0.657122</td>\n      <td>1.527161</td>\n    </tr>\n    <tr>\n      <th>8</th>\n      <td>lasso</td>\n      <td>{'alpha': 0.7}</td>\n      <td>-0.998038</td>\n      <td>0.354858</td>\n      <td>-0.879402</td>\n      <td>0.150432</td>\n      <td>0.657122</td>\n      <td>1.527161</td>\n    </tr>\n    <tr>\n      <th>9</th>\n      <td>lasso</td>\n      <td>{'alpha': 0.8}</td>\n      <td>-0.998038</td>\n      <td>0.354858</td>\n      <td>-0.879402</td>\n      <td>0.150432</td>\n      <td>0.657122</td>\n      <td>1.527161</td>\n    </tr>\n    <tr>\n      <th>10</th>\n      <td>lasso</td>\n      <td>{'alpha': 0.9}</td>\n      <td>-0.998038</td>\n      <td>0.354858</td>\n      <td>-0.879402</td>\n      <td>0.150432</td>\n      <td>0.657122</td>\n      <td>1.527161</td>\n    </tr>\n    <tr>\n      <th>11</th>\n      <td>lasso</td>\n      <td>{'alpha': 1}</td>\n      <td>-0.998038</td>\n      <td>0.354858</td>\n      <td>-0.879402</td>\n      <td>0.150432</td>\n      <td>0.657122</td>\n      <td>1.527161</td>\n    </tr>\n    <tr>\n      <th>12</th>\n      <td>lasso</td>\n      <td>{'alpha': 2}</td>\n      <td>-0.998038</td>\n      <td>0.354858</td>\n      <td>-0.879402</td>\n      <td>0.150432</td>\n      <td>0.657122</td>\n      <td>1.527161</td>\n    </tr>\n    <tr>\n      <th>13</th>\n      <td>lasso</td>\n      <td>{'alpha': 3}</td>\n      <td>-0.998038</td>\n      <td>0.354858</td>\n      <td>-0.879402</td>\n      <td>0.150432</td>\n      <td>0.657122</td>\n      <td>1.527161</td>\n    </tr>\n    <tr>\n      <th>14</th>\n      <td>lasso</td>\n      <td>{'alpha': 5}</td>\n      <td>-0.998038</td>\n      <td>0.354858</td>\n      <td>-0.879402</td>\n      <td>0.150432</td>\n      <td>0.657122</td>\n      <td>1.527161</td>\n    </tr>\n    <tr>\n      <th>15</th>\n      <td>lasso</td>\n      <td>{'alpha': 7}</td>\n      <td>-0.998038</td>\n      <td>0.354858</td>\n      <td>-0.879402</td>\n      <td>0.150432</td>\n      <td>0.657122</td>\n      <td>1.527161</td>\n    </tr>\n    <tr>\n      <th>0</th>\n      <td>lasso</td>\n      <td>{'alpha': 0.01}</td>\n      <td>-1.009513</td>\n      <td>1.147287</td>\n      <td>-0.714597</td>\n      <td>0.300425</td>\n      <td>0.206776</td>\n      <td>0.971184</td>\n    </tr>\n  </tbody>\n</table>\n</div>"
     },
     "metadata": {},
     "execution_count": 21
    }
   ],
   "source": [
    "grid_search_df.sort_values('mean_test_mse', ascending=False)"
   ]
  },
  {
   "cell_type": "markdown",
   "metadata": {},
   "source": [
    "# Elastic Net "
   ]
  },
  {
   "cell_type": "code",
   "execution_count": 22,
   "metadata": {},
   "outputs": [],
   "source": [
    "PATH = 'elastic_net_grid_search_results.csv'"
   ]
  },
  {
   "cell_type": "code",
   "execution_count": 23,
   "metadata": {},
   "outputs": [],
   "source": [
    "grid_search_df = pd.read_csv(PATH)\n",
    "grid_search_df[\"model\"] = \"elastic_net\"\n",
    "grid_search_df = grid_search_df[[\"model\", 'params', 'mean_test_mse', 'std_test_mse', 'mean_test_mae', 'std_test_mae', 'mean_test_r2', 'std_test_r2']]\n",
    "summary_df = summary_df.append(grid_search_df, ignore_index=True)"
   ]
  },
  {
   "cell_type": "code",
   "execution_count": 24,
   "metadata": {},
   "outputs": [
    {
     "output_type": "execute_result",
     "data": {
      "text/plain": "           model                            params  mean_test_mse  \\\n63   elastic_net     {'alpha': 0.4, 'l1_ratio': 0}      -0.519990   \n42   elastic_net     {'alpha': 0.3, 'l1_ratio': 0}      -0.520758   \n43   elastic_net  {'alpha': 0.3, 'l1_ratio': 0.05}      -0.522034   \n84   elastic_net     {'alpha': 0.5, 'l1_ratio': 0}      -0.526038   \n64   elastic_net  {'alpha': 0.4, 'l1_ratio': 0.05}      -0.528336   \n..           ...                               ...            ...   \n200  elastic_net    {'alpha': 1, 'l1_ratio': 0.55}      -0.999817   \n160  elastic_net  {'alpha': 0.8, 'l1_ratio': 0.65}      -1.000132   \n180  elastic_net   {'alpha': 0.9, 'l1_ratio': 0.6}      -1.000462   \n141  elastic_net  {'alpha': 0.7, 'l1_ratio': 0.75}      -1.000719   \n123  elastic_net   {'alpha': 0.6, 'l1_ratio': 0.9}      -1.001164   \n\n     std_test_mse  mean_test_mae  std_test_mae  mean_test_r2  std_test_r2  \n63       0.271050      -0.608623      0.134500     -0.198158     0.564565  \n42       0.275835      -0.606683      0.149155     -0.224945     0.496630  \n43       0.270794      -0.607883      0.136076     -0.203549     0.544824  \n84       0.274078      -0.611771      0.125820     -0.170708     0.620207  \n64       0.271776      -0.613925      0.125607     -0.165381     0.626625  \n..            ...            ...           ...           ...          ...  \n200      0.353553      -0.879757      0.150278      0.658520     1.521622  \n160      0.353429      -0.879389      0.150575      0.656647     1.513219  \n180      0.353106      -0.879832      0.150257      0.658663     1.518395  \n141      0.353082      -0.879580      0.150490      0.657570     1.513223  \n123      0.352608      -0.879938      0.150224      0.659190     1.516155  \n\n[273 rows x 8 columns]",
      "text/html": "<div>\n<style scoped>\n    .dataframe tbody tr th:only-of-type {\n        vertical-align: middle;\n    }\n\n    .dataframe tbody tr th {\n        vertical-align: top;\n    }\n\n    .dataframe thead th {\n        text-align: right;\n    }\n</style>\n<table border=\"1\" class=\"dataframe\">\n  <thead>\n    <tr style=\"text-align: right;\">\n      <th></th>\n      <th>model</th>\n      <th>params</th>\n      <th>mean_test_mse</th>\n      <th>std_test_mse</th>\n      <th>mean_test_mae</th>\n      <th>std_test_mae</th>\n      <th>mean_test_r2</th>\n      <th>std_test_r2</th>\n    </tr>\n  </thead>\n  <tbody>\n    <tr>\n      <th>63</th>\n      <td>elastic_net</td>\n      <td>{'alpha': 0.4, 'l1_ratio': 0}</td>\n      <td>-0.519990</td>\n      <td>0.271050</td>\n      <td>-0.608623</td>\n      <td>0.134500</td>\n      <td>-0.198158</td>\n      <td>0.564565</td>\n    </tr>\n    <tr>\n      <th>42</th>\n      <td>elastic_net</td>\n      <td>{'alpha': 0.3, 'l1_ratio': 0}</td>\n      <td>-0.520758</td>\n      <td>0.275835</td>\n      <td>-0.606683</td>\n      <td>0.149155</td>\n      <td>-0.224945</td>\n      <td>0.496630</td>\n    </tr>\n    <tr>\n      <th>43</th>\n      <td>elastic_net</td>\n      <td>{'alpha': 0.3, 'l1_ratio': 0.05}</td>\n      <td>-0.522034</td>\n      <td>0.270794</td>\n      <td>-0.607883</td>\n      <td>0.136076</td>\n      <td>-0.203549</td>\n      <td>0.544824</td>\n    </tr>\n    <tr>\n      <th>84</th>\n      <td>elastic_net</td>\n      <td>{'alpha': 0.5, 'l1_ratio': 0}</td>\n      <td>-0.526038</td>\n      <td>0.274078</td>\n      <td>-0.611771</td>\n      <td>0.125820</td>\n      <td>-0.170708</td>\n      <td>0.620207</td>\n    </tr>\n    <tr>\n      <th>64</th>\n      <td>elastic_net</td>\n      <td>{'alpha': 0.4, 'l1_ratio': 0.05}</td>\n      <td>-0.528336</td>\n      <td>0.271776</td>\n      <td>-0.613925</td>\n      <td>0.125607</td>\n      <td>-0.165381</td>\n      <td>0.626625</td>\n    </tr>\n    <tr>\n      <th>...</th>\n      <td>...</td>\n      <td>...</td>\n      <td>...</td>\n      <td>...</td>\n      <td>...</td>\n      <td>...</td>\n      <td>...</td>\n      <td>...</td>\n    </tr>\n    <tr>\n      <th>200</th>\n      <td>elastic_net</td>\n      <td>{'alpha': 1, 'l1_ratio': 0.55}</td>\n      <td>-0.999817</td>\n      <td>0.353553</td>\n      <td>-0.879757</td>\n      <td>0.150278</td>\n      <td>0.658520</td>\n      <td>1.521622</td>\n    </tr>\n    <tr>\n      <th>160</th>\n      <td>elastic_net</td>\n      <td>{'alpha': 0.8, 'l1_ratio': 0.65}</td>\n      <td>-1.000132</td>\n      <td>0.353429</td>\n      <td>-0.879389</td>\n      <td>0.150575</td>\n      <td>0.656647</td>\n      <td>1.513219</td>\n    </tr>\n    <tr>\n      <th>180</th>\n      <td>elastic_net</td>\n      <td>{'alpha': 0.9, 'l1_ratio': 0.6}</td>\n      <td>-1.000462</td>\n      <td>0.353106</td>\n      <td>-0.879832</td>\n      <td>0.150257</td>\n      <td>0.658663</td>\n      <td>1.518395</td>\n    </tr>\n    <tr>\n      <th>141</th>\n      <td>elastic_net</td>\n      <td>{'alpha': 0.7, 'l1_ratio': 0.75}</td>\n      <td>-1.000719</td>\n      <td>0.353082</td>\n      <td>-0.879580</td>\n      <td>0.150490</td>\n      <td>0.657570</td>\n      <td>1.513223</td>\n    </tr>\n    <tr>\n      <th>123</th>\n      <td>elastic_net</td>\n      <td>{'alpha': 0.6, 'l1_ratio': 0.9}</td>\n      <td>-1.001164</td>\n      <td>0.352608</td>\n      <td>-0.879938</td>\n      <td>0.150224</td>\n      <td>0.659190</td>\n      <td>1.516155</td>\n    </tr>\n  </tbody>\n</table>\n<p>273 rows × 8 columns</p>\n</div>"
     },
     "metadata": {},
     "execution_count": 24
    }
   ],
   "source": [
    "grid_search_df.sort_values('mean_test_mse', ascending=False)"
   ]
  },
  {
   "cell_type": "markdown",
   "metadata": {},
   "source": [
    "# Ridge"
   ]
  },
  {
   "cell_type": "code",
   "execution_count": 25,
   "metadata": {},
   "outputs": [],
   "source": [
    "PATH = 'ridge_grid_search_results.csv'"
   ]
  },
  {
   "cell_type": "code",
   "execution_count": 26,
   "metadata": {},
   "outputs": [],
   "source": [
    "grid_search_df = pd.read_csv(PATH)\n",
    "grid_search_df[\"model\"] = \"ridge\"\n",
    "grid_search_df = grid_search_df[[\"model\", 'params', 'mean_test_mse', 'std_test_mse', 'mean_test_mae', 'std_test_mae', 'mean_test_r2', 'std_test_r2']]\n",
    "summary_df = summary_df.append(grid_search_df, ignore_index=True)"
   ]
  },
  {
   "cell_type": "code",
   "execution_count": 27,
   "metadata": {},
   "outputs": [
    {
     "output_type": "execute_result",
     "data": {
      "text/plain": "    model           params  mean_test_mse  std_test_mse  mean_test_mae  \\\n21  ridge    {'alpha': 13}      -0.519284      0.270977      -0.608046   \n20  ridge    {'alpha': 10}      -0.521042      0.276669      -0.606678   \n22  ridge    {'alpha': 15}      -0.521809      0.271849      -0.609740   \n19  ridge     {'alpha': 9}      -0.524240      0.282655      -0.607322   \n23  ridge    {'alpha': 17}      -0.525870      0.274045      -0.611662   \n18  ridge     {'alpha': 8}      -0.529593      0.292495      -0.608412   \n17  ridge     {'alpha': 7}      -0.537995      0.308126      -0.610114   \n16  ridge     {'alpha': 6}      -0.550830      0.332514      -0.612677   \n15  ridge     {'alpha': 5}      -0.570345      0.370283      -0.616486   \n14  ridge     {'alpha': 4}      -0.600408      0.428964      -0.622171   \n13  ridge     {'alpha': 3}      -0.648186      0.521775      -0.630827   \n12  ridge     {'alpha': 2}      -0.728382      0.674696      -0.646601   \n11  ridge     {'alpha': 1}      -0.876207      0.947586      -0.674210   \n10  ridge   {'alpha': 0.9}      -0.897613      0.986204      -0.678046   \n9   ridge   {'alpha': 0.8}      -0.920797      1.027766      -0.682120   \n8   ridge   {'alpha': 0.7}      -0.945998      1.072612      -0.686459   \n7   ridge   {'alpha': 0.6}      -0.973509      1.121152      -0.691091   \n6   ridge   {'alpha': 0.5}      -1.003711      1.173896      -0.696052   \n5   ridge   {'alpha': 0.4}      -1.037125      1.231518      -0.701381   \n4   ridge   {'alpha': 0.3}      -1.074510      1.294982      -0.707131   \n3   ridge   {'alpha': 0.2}      -1.117088      1.365842      -0.713363   \n2   ridge   {'alpha': 0.1}      -1.167075      1.447037      -0.720155   \n1   ridge  {'alpha': 0.05}      -1.196130      1.493329      -0.723792   \n0   ridge  {'alpha': 0.01}      -1.222169      1.534381      -0.726827   \n\n    std_test_mae  mean_test_r2  std_test_r2  \n21      0.136525     -0.203245     0.553538  \n20      0.150125     -0.226580     0.492273  \n22      0.130297     -0.186967     0.588881  \n19      0.155690     -0.233302     0.469951  \n23      0.125760     -0.170919     0.620239  \n18      0.162276     -0.238839     0.447340  \n17      0.170146     -0.242438     0.425566  \n16      0.179680     -0.242851     0.406884  \n15      0.191433     -0.237930     0.395695  \n14      0.206274     -0.223763     0.400283  \n13      0.225628     -0.192687     0.435512  \n12      0.250016     -0.128048     0.528068  \n11      0.283281      0.012922     0.736990  \n10      0.287227      0.034968     0.769395  \n9       0.291328      0.059243     0.804994  \n8       0.295576      0.086083     0.844269  \n7       0.299954      0.115913     0.887836  \n6       0.304429      0.149288     0.936512  \n5       0.308946      0.186972     0.991432  \n4       0.313410      0.230079     1.054279  \n3       0.317658      0.280383     1.127780  \n2       0.321409      0.341024     1.216898  \n1       0.322953      0.376990     1.270199  \n0       0.323946      0.409609     1.318953  ",
      "text/html": "<div>\n<style scoped>\n    .dataframe tbody tr th:only-of-type {\n        vertical-align: middle;\n    }\n\n    .dataframe tbody tr th {\n        vertical-align: top;\n    }\n\n    .dataframe thead th {\n        text-align: right;\n    }\n</style>\n<table border=\"1\" class=\"dataframe\">\n  <thead>\n    <tr style=\"text-align: right;\">\n      <th></th>\n      <th>model</th>\n      <th>params</th>\n      <th>mean_test_mse</th>\n      <th>std_test_mse</th>\n      <th>mean_test_mae</th>\n      <th>std_test_mae</th>\n      <th>mean_test_r2</th>\n      <th>std_test_r2</th>\n    </tr>\n  </thead>\n  <tbody>\n    <tr>\n      <th>21</th>\n      <td>ridge</td>\n      <td>{'alpha': 13}</td>\n      <td>-0.519284</td>\n      <td>0.270977</td>\n      <td>-0.608046</td>\n      <td>0.136525</td>\n      <td>-0.203245</td>\n      <td>0.553538</td>\n    </tr>\n    <tr>\n      <th>20</th>\n      <td>ridge</td>\n      <td>{'alpha': 10}</td>\n      <td>-0.521042</td>\n      <td>0.276669</td>\n      <td>-0.606678</td>\n      <td>0.150125</td>\n      <td>-0.226580</td>\n      <td>0.492273</td>\n    </tr>\n    <tr>\n      <th>22</th>\n      <td>ridge</td>\n      <td>{'alpha': 15}</td>\n      <td>-0.521809</td>\n      <td>0.271849</td>\n      <td>-0.609740</td>\n      <td>0.130297</td>\n      <td>-0.186967</td>\n      <td>0.588881</td>\n    </tr>\n    <tr>\n      <th>19</th>\n      <td>ridge</td>\n      <td>{'alpha': 9}</td>\n      <td>-0.524240</td>\n      <td>0.282655</td>\n      <td>-0.607322</td>\n      <td>0.155690</td>\n      <td>-0.233302</td>\n      <td>0.469951</td>\n    </tr>\n    <tr>\n      <th>23</th>\n      <td>ridge</td>\n      <td>{'alpha': 17}</td>\n      <td>-0.525870</td>\n      <td>0.274045</td>\n      <td>-0.611662</td>\n      <td>0.125760</td>\n      <td>-0.170919</td>\n      <td>0.620239</td>\n    </tr>\n    <tr>\n      <th>18</th>\n      <td>ridge</td>\n      <td>{'alpha': 8}</td>\n      <td>-0.529593</td>\n      <td>0.292495</td>\n      <td>-0.608412</td>\n      <td>0.162276</td>\n      <td>-0.238839</td>\n      <td>0.447340</td>\n    </tr>\n    <tr>\n      <th>17</th>\n      <td>ridge</td>\n      <td>{'alpha': 7}</td>\n      <td>-0.537995</td>\n      <td>0.308126</td>\n      <td>-0.610114</td>\n      <td>0.170146</td>\n      <td>-0.242438</td>\n      <td>0.425566</td>\n    </tr>\n    <tr>\n      <th>16</th>\n      <td>ridge</td>\n      <td>{'alpha': 6}</td>\n      <td>-0.550830</td>\n      <td>0.332514</td>\n      <td>-0.612677</td>\n      <td>0.179680</td>\n      <td>-0.242851</td>\n      <td>0.406884</td>\n    </tr>\n    <tr>\n      <th>15</th>\n      <td>ridge</td>\n      <td>{'alpha': 5}</td>\n      <td>-0.570345</td>\n      <td>0.370283</td>\n      <td>-0.616486</td>\n      <td>0.191433</td>\n      <td>-0.237930</td>\n      <td>0.395695</td>\n    </tr>\n    <tr>\n      <th>14</th>\n      <td>ridge</td>\n      <td>{'alpha': 4}</td>\n      <td>-0.600408</td>\n      <td>0.428964</td>\n      <td>-0.622171</td>\n      <td>0.206274</td>\n      <td>-0.223763</td>\n      <td>0.400283</td>\n    </tr>\n    <tr>\n      <th>13</th>\n      <td>ridge</td>\n      <td>{'alpha': 3}</td>\n      <td>-0.648186</td>\n      <td>0.521775</td>\n      <td>-0.630827</td>\n      <td>0.225628</td>\n      <td>-0.192687</td>\n      <td>0.435512</td>\n    </tr>\n    <tr>\n      <th>12</th>\n      <td>ridge</td>\n      <td>{'alpha': 2}</td>\n      <td>-0.728382</td>\n      <td>0.674696</td>\n      <td>-0.646601</td>\n      <td>0.250016</td>\n      <td>-0.128048</td>\n      <td>0.528068</td>\n    </tr>\n    <tr>\n      <th>11</th>\n      <td>ridge</td>\n      <td>{'alpha': 1}</td>\n      <td>-0.876207</td>\n      <td>0.947586</td>\n      <td>-0.674210</td>\n      <td>0.283281</td>\n      <td>0.012922</td>\n      <td>0.736990</td>\n    </tr>\n    <tr>\n      <th>10</th>\n      <td>ridge</td>\n      <td>{'alpha': 0.9}</td>\n      <td>-0.897613</td>\n      <td>0.986204</td>\n      <td>-0.678046</td>\n      <td>0.287227</td>\n      <td>0.034968</td>\n      <td>0.769395</td>\n    </tr>\n    <tr>\n      <th>9</th>\n      <td>ridge</td>\n      <td>{'alpha': 0.8}</td>\n      <td>-0.920797</td>\n      <td>1.027766</td>\n      <td>-0.682120</td>\n      <td>0.291328</td>\n      <td>0.059243</td>\n      <td>0.804994</td>\n    </tr>\n    <tr>\n      <th>8</th>\n      <td>ridge</td>\n      <td>{'alpha': 0.7}</td>\n      <td>-0.945998</td>\n      <td>1.072612</td>\n      <td>-0.686459</td>\n      <td>0.295576</td>\n      <td>0.086083</td>\n      <td>0.844269</td>\n    </tr>\n    <tr>\n      <th>7</th>\n      <td>ridge</td>\n      <td>{'alpha': 0.6}</td>\n      <td>-0.973509</td>\n      <td>1.121152</td>\n      <td>-0.691091</td>\n      <td>0.299954</td>\n      <td>0.115913</td>\n      <td>0.887836</td>\n    </tr>\n    <tr>\n      <th>6</th>\n      <td>ridge</td>\n      <td>{'alpha': 0.5}</td>\n      <td>-1.003711</td>\n      <td>1.173896</td>\n      <td>-0.696052</td>\n      <td>0.304429</td>\n      <td>0.149288</td>\n      <td>0.936512</td>\n    </tr>\n    <tr>\n      <th>5</th>\n      <td>ridge</td>\n      <td>{'alpha': 0.4}</td>\n      <td>-1.037125</td>\n      <td>1.231518</td>\n      <td>-0.701381</td>\n      <td>0.308946</td>\n      <td>0.186972</td>\n      <td>0.991432</td>\n    </tr>\n    <tr>\n      <th>4</th>\n      <td>ridge</td>\n      <td>{'alpha': 0.3}</td>\n      <td>-1.074510</td>\n      <td>1.294982</td>\n      <td>-0.707131</td>\n      <td>0.313410</td>\n      <td>0.230079</td>\n      <td>1.054279</td>\n    </tr>\n    <tr>\n      <th>3</th>\n      <td>ridge</td>\n      <td>{'alpha': 0.2}</td>\n      <td>-1.117088</td>\n      <td>1.365842</td>\n      <td>-0.713363</td>\n      <td>0.317658</td>\n      <td>0.280383</td>\n      <td>1.127780</td>\n    </tr>\n    <tr>\n      <th>2</th>\n      <td>ridge</td>\n      <td>{'alpha': 0.1}</td>\n      <td>-1.167075</td>\n      <td>1.447037</td>\n      <td>-0.720155</td>\n      <td>0.321409</td>\n      <td>0.341024</td>\n      <td>1.216898</td>\n    </tr>\n    <tr>\n      <th>1</th>\n      <td>ridge</td>\n      <td>{'alpha': 0.05}</td>\n      <td>-1.196130</td>\n      <td>1.493329</td>\n      <td>-0.723792</td>\n      <td>0.322953</td>\n      <td>0.376990</td>\n      <td>1.270199</td>\n    </tr>\n    <tr>\n      <th>0</th>\n      <td>ridge</td>\n      <td>{'alpha': 0.01}</td>\n      <td>-1.222169</td>\n      <td>1.534381</td>\n      <td>-0.726827</td>\n      <td>0.323946</td>\n      <td>0.409609</td>\n      <td>1.318953</td>\n    </tr>\n  </tbody>\n</table>\n</div>"
     },
     "metadata": {},
     "execution_count": 27
    }
   ],
   "source": [
    "grid_search_df.sort_values('mean_test_mse', ascending=False)"
   ]
  },
  {
   "cell_type": "markdown",
   "metadata": {},
   "source": [
    "# Sumário"
   ]
  },
  {
   "cell_type": "code",
   "execution_count": 28,
   "metadata": {},
   "outputs": [
    {
     "output_type": "execute_result",
     "data": {
      "text/plain": "             model                                             params  \\\n3    random_forest         {'criterion': 'mse', 'n_estimators': 1000}   \n5    random_forest         {'criterion': 'mse', 'n_estimators': 3000}   \n7    random_forest        {'criterion': 'mse', 'n_estimators': 10000}   \n6    random_forest         {'criterion': 'mse', 'n_estimators': 5000}   \n1    random_forest          {'criterion': 'mse', 'n_estimators': 200}   \n4    random_forest         {'criterion': 'mse', 'n_estimators': 2000}   \n2    random_forest          {'criterion': 'mse', 'n_estimators': 500}   \n0    random_forest          {'criterion': 'mse', 'n_estimators': 100}   \n14   random_forest         {'criterion': 'mae', 'n_estimators': 5000}   \n15   random_forest        {'criterion': 'mae', 'n_estimators': 10000}   \n9    random_forest          {'criterion': 'mae', 'n_estimators': 200}   \n13   random_forest         {'criterion': 'mae', 'n_estimators': 3000}   \n12   random_forest         {'criterion': 'mae', 'n_estimators': 2000}   \n11   random_forest         {'criterion': 'mae', 'n_estimators': 1000}   \n10   random_forest          {'criterion': 'mae', 'n_estimators': 500}   \n8    random_forest          {'criterion': 'mae', 'n_estimators': 100}   \n416      ada_boost  {'learning_rate': 0.85, 'loss': 'exponential',...   \n233      ada_boost  {'learning_rate': 0.5, 'loss': 'linear', 'n_es...   \n472      ada_boost  {'learning_rate': 1.0, 'loss': 'linear', 'n_es...   \n208      ada_boost  {'learning_rate': 0.45, 'loss': 'linear', 'n_e...   \n\n     mean_test_mse  std_test_mse  mean_test_mae  std_test_mae  mean_test_r2  \\\n3        -0.043447      0.030540      -0.160209      0.058388     -0.128288   \n5        -0.043847      0.030704      -0.161571      0.057658     -0.130290   \n7        -0.044024      0.030761      -0.161505      0.058552     -0.122056   \n6        -0.044136      0.030630      -0.161813      0.057753     -0.105629   \n1        -0.044222      0.030350      -0.161675      0.058831     -0.123015   \n4        -0.044253      0.031452      -0.162115      0.060241     -0.124372   \n2        -0.044552      0.030491      -0.163925      0.056773     -0.104526   \n0        -0.045636      0.035499      -0.162818      0.066867     -0.075925   \n14       -0.045728      0.032966      -0.163424      0.064165     -0.085461   \n15       -0.045746      0.032599      -0.163801      0.063286     -0.081158   \n9        -0.045793      0.032429      -0.163362      0.063635     -0.094134   \n13       -0.046014      0.032890      -0.164127      0.062975     -0.083986   \n12       -0.046295      0.032609      -0.164591      0.062864     -0.077774   \n11       -0.046756      0.034129      -0.165210      0.064925     -0.055431   \n10       -0.046810      0.032708      -0.167205      0.063233     -0.070118   \n8        -0.047284      0.034481      -0.163394      0.065269     -0.094889   \n416      -0.432559      0.343042      -0.448983      0.164757     -0.243472   \n233      -0.441049      0.370659      -0.436090      0.163607     -0.303031   \n472      -0.442371      0.336585      -0.471381      0.154199     -0.235762   \n208      -0.443865      0.384857      -0.447436      0.169106     -0.258370   \n\n     std_test_r2  \n3       0.740380  \n5       0.717102  \n7       0.738455  \n6       0.775671  \n1       0.715798  \n4       0.732983  \n2       0.751802  \n0       0.815070  \n14      0.782299  \n15      0.789541  \n9       0.746394  \n13      0.772646  \n12      0.773675  \n11      0.830981  \n10      0.770280  \n8       0.709555  \n416     0.778068  \n233     0.610308  \n472     0.738253  \n208     0.733078  ",
      "text/html": "<div>\n<style scoped>\n    .dataframe tbody tr th:only-of-type {\n        vertical-align: middle;\n    }\n\n    .dataframe tbody tr th {\n        vertical-align: top;\n    }\n\n    .dataframe thead th {\n        text-align: right;\n    }\n</style>\n<table border=\"1\" class=\"dataframe\">\n  <thead>\n    <tr style=\"text-align: right;\">\n      <th></th>\n      <th>model</th>\n      <th>params</th>\n      <th>mean_test_mse</th>\n      <th>std_test_mse</th>\n      <th>mean_test_mae</th>\n      <th>std_test_mae</th>\n      <th>mean_test_r2</th>\n      <th>std_test_r2</th>\n    </tr>\n  </thead>\n  <tbody>\n    <tr>\n      <th>3</th>\n      <td>random_forest</td>\n      <td>{'criterion': 'mse', 'n_estimators': 1000}</td>\n      <td>-0.043447</td>\n      <td>0.030540</td>\n      <td>-0.160209</td>\n      <td>0.058388</td>\n      <td>-0.128288</td>\n      <td>0.740380</td>\n    </tr>\n    <tr>\n      <th>5</th>\n      <td>random_forest</td>\n      <td>{'criterion': 'mse', 'n_estimators': 3000}</td>\n      <td>-0.043847</td>\n      <td>0.030704</td>\n      <td>-0.161571</td>\n      <td>0.057658</td>\n      <td>-0.130290</td>\n      <td>0.717102</td>\n    </tr>\n    <tr>\n      <th>7</th>\n      <td>random_forest</td>\n      <td>{'criterion': 'mse', 'n_estimators': 10000}</td>\n      <td>-0.044024</td>\n      <td>0.030761</td>\n      <td>-0.161505</td>\n      <td>0.058552</td>\n      <td>-0.122056</td>\n      <td>0.738455</td>\n    </tr>\n    <tr>\n      <th>6</th>\n      <td>random_forest</td>\n      <td>{'criterion': 'mse', 'n_estimators': 5000}</td>\n      <td>-0.044136</td>\n      <td>0.030630</td>\n      <td>-0.161813</td>\n      <td>0.057753</td>\n      <td>-0.105629</td>\n      <td>0.775671</td>\n    </tr>\n    <tr>\n      <th>1</th>\n      <td>random_forest</td>\n      <td>{'criterion': 'mse', 'n_estimators': 200}</td>\n      <td>-0.044222</td>\n      <td>0.030350</td>\n      <td>-0.161675</td>\n      <td>0.058831</td>\n      <td>-0.123015</td>\n      <td>0.715798</td>\n    </tr>\n    <tr>\n      <th>4</th>\n      <td>random_forest</td>\n      <td>{'criterion': 'mse', 'n_estimators': 2000}</td>\n      <td>-0.044253</td>\n      <td>0.031452</td>\n      <td>-0.162115</td>\n      <td>0.060241</td>\n      <td>-0.124372</td>\n      <td>0.732983</td>\n    </tr>\n    <tr>\n      <th>2</th>\n      <td>random_forest</td>\n      <td>{'criterion': 'mse', 'n_estimators': 500}</td>\n      <td>-0.044552</td>\n      <td>0.030491</td>\n      <td>-0.163925</td>\n      <td>0.056773</td>\n      <td>-0.104526</td>\n      <td>0.751802</td>\n    </tr>\n    <tr>\n      <th>0</th>\n      <td>random_forest</td>\n      <td>{'criterion': 'mse', 'n_estimators': 100}</td>\n      <td>-0.045636</td>\n      <td>0.035499</td>\n      <td>-0.162818</td>\n      <td>0.066867</td>\n      <td>-0.075925</td>\n      <td>0.815070</td>\n    </tr>\n    <tr>\n      <th>14</th>\n      <td>random_forest</td>\n      <td>{'criterion': 'mae', 'n_estimators': 5000}</td>\n      <td>-0.045728</td>\n      <td>0.032966</td>\n      <td>-0.163424</td>\n      <td>0.064165</td>\n      <td>-0.085461</td>\n      <td>0.782299</td>\n    </tr>\n    <tr>\n      <th>15</th>\n      <td>random_forest</td>\n      <td>{'criterion': 'mae', 'n_estimators': 10000}</td>\n      <td>-0.045746</td>\n      <td>0.032599</td>\n      <td>-0.163801</td>\n      <td>0.063286</td>\n      <td>-0.081158</td>\n      <td>0.789541</td>\n    </tr>\n    <tr>\n      <th>9</th>\n      <td>random_forest</td>\n      <td>{'criterion': 'mae', 'n_estimators': 200}</td>\n      <td>-0.045793</td>\n      <td>0.032429</td>\n      <td>-0.163362</td>\n      <td>0.063635</td>\n      <td>-0.094134</td>\n      <td>0.746394</td>\n    </tr>\n    <tr>\n      <th>13</th>\n      <td>random_forest</td>\n      <td>{'criterion': 'mae', 'n_estimators': 3000}</td>\n      <td>-0.046014</td>\n      <td>0.032890</td>\n      <td>-0.164127</td>\n      <td>0.062975</td>\n      <td>-0.083986</td>\n      <td>0.772646</td>\n    </tr>\n    <tr>\n      <th>12</th>\n      <td>random_forest</td>\n      <td>{'criterion': 'mae', 'n_estimators': 2000}</td>\n      <td>-0.046295</td>\n      <td>0.032609</td>\n      <td>-0.164591</td>\n      <td>0.062864</td>\n      <td>-0.077774</td>\n      <td>0.773675</td>\n    </tr>\n    <tr>\n      <th>11</th>\n      <td>random_forest</td>\n      <td>{'criterion': 'mae', 'n_estimators': 1000}</td>\n      <td>-0.046756</td>\n      <td>0.034129</td>\n      <td>-0.165210</td>\n      <td>0.064925</td>\n      <td>-0.055431</td>\n      <td>0.830981</td>\n    </tr>\n    <tr>\n      <th>10</th>\n      <td>random_forest</td>\n      <td>{'criterion': 'mae', 'n_estimators': 500}</td>\n      <td>-0.046810</td>\n      <td>0.032708</td>\n      <td>-0.167205</td>\n      <td>0.063233</td>\n      <td>-0.070118</td>\n      <td>0.770280</td>\n    </tr>\n    <tr>\n      <th>8</th>\n      <td>random_forest</td>\n      <td>{'criterion': 'mae', 'n_estimators': 100}</td>\n      <td>-0.047284</td>\n      <td>0.034481</td>\n      <td>-0.163394</td>\n      <td>0.065269</td>\n      <td>-0.094889</td>\n      <td>0.709555</td>\n    </tr>\n    <tr>\n      <th>416</th>\n      <td>ada_boost</td>\n      <td>{'learning_rate': 0.85, 'loss': 'exponential',...</td>\n      <td>-0.432559</td>\n      <td>0.343042</td>\n      <td>-0.448983</td>\n      <td>0.164757</td>\n      <td>-0.243472</td>\n      <td>0.778068</td>\n    </tr>\n    <tr>\n      <th>233</th>\n      <td>ada_boost</td>\n      <td>{'learning_rate': 0.5, 'loss': 'linear', 'n_es...</td>\n      <td>-0.441049</td>\n      <td>0.370659</td>\n      <td>-0.436090</td>\n      <td>0.163607</td>\n      <td>-0.303031</td>\n      <td>0.610308</td>\n    </tr>\n    <tr>\n      <th>472</th>\n      <td>ada_boost</td>\n      <td>{'learning_rate': 1.0, 'loss': 'linear', 'n_es...</td>\n      <td>-0.442371</td>\n      <td>0.336585</td>\n      <td>-0.471381</td>\n      <td>0.154199</td>\n      <td>-0.235762</td>\n      <td>0.738253</td>\n    </tr>\n    <tr>\n      <th>208</th>\n      <td>ada_boost</td>\n      <td>{'learning_rate': 0.45, 'loss': 'linear', 'n_e...</td>\n      <td>-0.443865</td>\n      <td>0.384857</td>\n      <td>-0.447436</td>\n      <td>0.169106</td>\n      <td>-0.258370</td>\n      <td>0.733078</td>\n    </tr>\n  </tbody>\n</table>\n</div>"
     },
     "metadata": {},
     "execution_count": 28
    }
   ],
   "source": [
    "summary_df.sort_values(by='mean_test_mse', ascending=False).head(20)"
   ]
  },
  {
   "cell_type": "code",
   "execution_count": null,
   "metadata": {},
   "outputs": [],
   "source": []
  }
 ],
 "metadata": {
  "language_info": {
   "name": "python",
   "codemirror_mode": {
    "name": "ipython",
    "version": 3
   },
   "version": "3.6.9-final"
  },
  "orig_nbformat": 2,
  "file_extension": ".py",
  "mimetype": "text/x-python",
  "name": "python",
  "npconvert_exporter": "python",
  "pygments_lexer": "ipython3",
  "version": 3,
  "kernelspec": {
   "name": "python36964bitbertvirtualenv054cbb15ab924922a35a349b12e89805",
   "display_name": "Python 3.6.9 64-bit ('bert': virtualenv)"
  }
 },
 "nbformat": 4,
 "nbformat_minor": 2
}