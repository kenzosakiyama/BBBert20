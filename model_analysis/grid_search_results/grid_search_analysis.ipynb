{
 "cells": [
  {
   "cell_type": "code",
   "execution_count": 1,
   "metadata": {},
   "outputs": [],
   "source": [
    "import pandas as pd"
   ]
  },
  {
   "cell_type": "code",
   "execution_count": 2,
   "metadata": {},
   "outputs": [],
   "source": [
    "summary_df = pd.DataFrame(columns=[\"model\", 'params', 'mean_test_mse', 'std_test_mse', 'mean_test_mae', 'std_test_mae', 'mean_test_r2', 'std_test_r2'])"
   ]
  },
  {
   "cell_type": "code",
   "execution_count": 3,
   "metadata": {},
   "outputs": [
    {
     "output_type": "execute_result",
     "data": {
      "text/plain": "Empty DataFrame\nColumns: [model, params, mean_test_mse, std_test_mse, mean_test_mae, std_test_mae, mean_test_r2, std_test_r2]\nIndex: []",
      "text/html": "<div>\n<style scoped>\n    .dataframe tbody tr th:only-of-type {\n        vertical-align: middle;\n    }\n\n    .dataframe tbody tr th {\n        vertical-align: top;\n    }\n\n    .dataframe thead th {\n        text-align: right;\n    }\n</style>\n<table border=\"1\" class=\"dataframe\">\n  <thead>\n    <tr style=\"text-align: right;\">\n      <th></th>\n      <th>model</th>\n      <th>params</th>\n      <th>mean_test_mse</th>\n      <th>std_test_mse</th>\n      <th>mean_test_mae</th>\n      <th>std_test_mae</th>\n      <th>mean_test_r2</th>\n      <th>std_test_r2</th>\n    </tr>\n  </thead>\n  <tbody>\n  </tbody>\n</table>\n</div>"
     },
     "metadata": {},
     "execution_count": 3
    }
   ],
   "source": [
    "summary_df"
   ]
  },
  {
   "cell_type": "markdown",
   "metadata": {},
   "source": [
    "# Random Forest Regressor"
   ]
  },
  {
   "cell_type": "code",
   "execution_count": 4,
   "metadata": {},
   "outputs": [],
   "source": [
    "PATH = 'random_forest_grid_search_results.csv'"
   ]
  },
  {
   "cell_type": "code",
   "execution_count": 5,
   "metadata": {},
   "outputs": [],
   "source": [
    "grid_search_df = pd.read_csv(PATH)"
   ]
  },
  {
   "cell_type": "code",
   "execution_count": 6,
   "metadata": {},
   "outputs": [],
   "source": [
    "grid_search_df[\"model\"] = \"random_forest\"\n",
    "grid_search_df = grid_search_df[[\"model\", 'params', 'mean_test_mse', 'std_test_mse', 'mean_test_mae', 'std_test_mae', 'mean_test_r2', 'std_test_r2']]\n",
    "summary_df = summary_df.append(grid_search_df.sort_values('mean_test_mse', ascending=False).iloc[0], ignore_index=True)"
   ]
  },
  {
   "cell_type": "code",
   "execution_count": 7,
   "metadata": {},
   "outputs": [
    {
     "output_type": "execute_result",
     "data": {
      "text/plain": "            model                                       params  mean_test_mse  \\\n9   random_forest    {'criterion': 'mae', 'n_estimators': 200}      -0.023511   \n8   random_forest    {'criterion': 'mae', 'n_estimators': 100}      -0.023782   \n1   random_forest    {'criterion': 'mse', 'n_estimators': 200}      -0.023934   \n2   random_forest    {'criterion': 'mse', 'n_estimators': 500}      -0.023935   \n11  random_forest   {'criterion': 'mae', 'n_estimators': 1000}      -0.024142   \n3   random_forest   {'criterion': 'mse', 'n_estimators': 1000}      -0.024231   \n13  random_forest   {'criterion': 'mae', 'n_estimators': 3000}      -0.024369   \n12  random_forest   {'criterion': 'mae', 'n_estimators': 2000}      -0.024454   \n15  random_forest  {'criterion': 'mae', 'n_estimators': 10000}      -0.024468   \n14  random_forest   {'criterion': 'mae', 'n_estimators': 5000}      -0.024486   \n4   random_forest   {'criterion': 'mse', 'n_estimators': 2000}      -0.024548   \n5   random_forest   {'criterion': 'mse', 'n_estimators': 3000}      -0.024588   \n7   random_forest  {'criterion': 'mse', 'n_estimators': 10000}      -0.024696   \n10  random_forest    {'criterion': 'mae', 'n_estimators': 500}      -0.024741   \n6   random_forest   {'criterion': 'mse', 'n_estimators': 5000}      -0.024866   \n0   random_forest    {'criterion': 'mse', 'n_estimators': 100}      -0.026957   \n\n    std_test_mse  mean_test_mae  std_test_mae  mean_test_r2  std_test_r2  \n9       0.022987      -0.110588      0.049179     -0.637894     0.347751  \n8       0.023589      -0.111268      0.047652     -0.637646     0.335592  \n1       0.023279      -0.111642      0.051032     -0.643124     0.330970  \n2       0.022532      -0.112428      0.048140     -0.639598     0.324716  \n11      0.023911      -0.112447      0.049908     -0.627487     0.363573  \n3       0.023302      -0.113166      0.048896     -0.640020     0.317098  \n13      0.024150      -0.111996      0.050114     -0.625068     0.364659  \n12      0.024145      -0.113197      0.049853     -0.624824     0.359054  \n15      0.024310      -0.112810      0.049785     -0.622773     0.366344  \n14      0.024449      -0.112435      0.050057     -0.623643     0.364452  \n4       0.023662      -0.113250      0.048852     -0.630786     0.334722  \n5       0.023929      -0.113364      0.049570     -0.632202     0.333287  \n7       0.023978      -0.113455      0.049331     -0.630043     0.334407  \n10      0.024569      -0.113886      0.050665     -0.619087     0.368300  \n6       0.024425      -0.113536      0.050273     -0.628029     0.341058  \n0       0.027077      -0.117501      0.053442     -0.601185     0.355320  ",
      "text/html": "<div>\n<style scoped>\n    .dataframe tbody tr th:only-of-type {\n        vertical-align: middle;\n    }\n\n    .dataframe tbody tr th {\n        vertical-align: top;\n    }\n\n    .dataframe thead th {\n        text-align: right;\n    }\n</style>\n<table border=\"1\" class=\"dataframe\">\n  <thead>\n    <tr style=\"text-align: right;\">\n      <th></th>\n      <th>model</th>\n      <th>params</th>\n      <th>mean_test_mse</th>\n      <th>std_test_mse</th>\n      <th>mean_test_mae</th>\n      <th>std_test_mae</th>\n      <th>mean_test_r2</th>\n      <th>std_test_r2</th>\n    </tr>\n  </thead>\n  <tbody>\n    <tr>\n      <th>9</th>\n      <td>random_forest</td>\n      <td>{'criterion': 'mae', 'n_estimators': 200}</td>\n      <td>-0.023511</td>\n      <td>0.022987</td>\n      <td>-0.110588</td>\n      <td>0.049179</td>\n      <td>-0.637894</td>\n      <td>0.347751</td>\n    </tr>\n    <tr>\n      <th>8</th>\n      <td>random_forest</td>\n      <td>{'criterion': 'mae', 'n_estimators': 100}</td>\n      <td>-0.023782</td>\n      <td>0.023589</td>\n      <td>-0.111268</td>\n      <td>0.047652</td>\n      <td>-0.637646</td>\n      <td>0.335592</td>\n    </tr>\n    <tr>\n      <th>1</th>\n      <td>random_forest</td>\n      <td>{'criterion': 'mse', 'n_estimators': 200}</td>\n      <td>-0.023934</td>\n      <td>0.023279</td>\n      <td>-0.111642</td>\n      <td>0.051032</td>\n      <td>-0.643124</td>\n      <td>0.330970</td>\n    </tr>\n    <tr>\n      <th>2</th>\n      <td>random_forest</td>\n      <td>{'criterion': 'mse', 'n_estimators': 500}</td>\n      <td>-0.023935</td>\n      <td>0.022532</td>\n      <td>-0.112428</td>\n      <td>0.048140</td>\n      <td>-0.639598</td>\n      <td>0.324716</td>\n    </tr>\n    <tr>\n      <th>11</th>\n      <td>random_forest</td>\n      <td>{'criterion': 'mae', 'n_estimators': 1000}</td>\n      <td>-0.024142</td>\n      <td>0.023911</td>\n      <td>-0.112447</td>\n      <td>0.049908</td>\n      <td>-0.627487</td>\n      <td>0.363573</td>\n    </tr>\n    <tr>\n      <th>3</th>\n      <td>random_forest</td>\n      <td>{'criterion': 'mse', 'n_estimators': 1000}</td>\n      <td>-0.024231</td>\n      <td>0.023302</td>\n      <td>-0.113166</td>\n      <td>0.048896</td>\n      <td>-0.640020</td>\n      <td>0.317098</td>\n    </tr>\n    <tr>\n      <th>13</th>\n      <td>random_forest</td>\n      <td>{'criterion': 'mae', 'n_estimators': 3000}</td>\n      <td>-0.024369</td>\n      <td>0.024150</td>\n      <td>-0.111996</td>\n      <td>0.050114</td>\n      <td>-0.625068</td>\n      <td>0.364659</td>\n    </tr>\n    <tr>\n      <th>12</th>\n      <td>random_forest</td>\n      <td>{'criterion': 'mae', 'n_estimators': 2000}</td>\n      <td>-0.024454</td>\n      <td>0.024145</td>\n      <td>-0.113197</td>\n      <td>0.049853</td>\n      <td>-0.624824</td>\n      <td>0.359054</td>\n    </tr>\n    <tr>\n      <th>15</th>\n      <td>random_forest</td>\n      <td>{'criterion': 'mae', 'n_estimators': 10000}</td>\n      <td>-0.024468</td>\n      <td>0.024310</td>\n      <td>-0.112810</td>\n      <td>0.049785</td>\n      <td>-0.622773</td>\n      <td>0.366344</td>\n    </tr>\n    <tr>\n      <th>14</th>\n      <td>random_forest</td>\n      <td>{'criterion': 'mae', 'n_estimators': 5000}</td>\n      <td>-0.024486</td>\n      <td>0.024449</td>\n      <td>-0.112435</td>\n      <td>0.050057</td>\n      <td>-0.623643</td>\n      <td>0.364452</td>\n    </tr>\n    <tr>\n      <th>4</th>\n      <td>random_forest</td>\n      <td>{'criterion': 'mse', 'n_estimators': 2000}</td>\n      <td>-0.024548</td>\n      <td>0.023662</td>\n      <td>-0.113250</td>\n      <td>0.048852</td>\n      <td>-0.630786</td>\n      <td>0.334722</td>\n    </tr>\n    <tr>\n      <th>5</th>\n      <td>random_forest</td>\n      <td>{'criterion': 'mse', 'n_estimators': 3000}</td>\n      <td>-0.024588</td>\n      <td>0.023929</td>\n      <td>-0.113364</td>\n      <td>0.049570</td>\n      <td>-0.632202</td>\n      <td>0.333287</td>\n    </tr>\n    <tr>\n      <th>7</th>\n      <td>random_forest</td>\n      <td>{'criterion': 'mse', 'n_estimators': 10000}</td>\n      <td>-0.024696</td>\n      <td>0.023978</td>\n      <td>-0.113455</td>\n      <td>0.049331</td>\n      <td>-0.630043</td>\n      <td>0.334407</td>\n    </tr>\n    <tr>\n      <th>10</th>\n      <td>random_forest</td>\n      <td>{'criterion': 'mae', 'n_estimators': 500}</td>\n      <td>-0.024741</td>\n      <td>0.024569</td>\n      <td>-0.113886</td>\n      <td>0.050665</td>\n      <td>-0.619087</td>\n      <td>0.368300</td>\n    </tr>\n    <tr>\n      <th>6</th>\n      <td>random_forest</td>\n      <td>{'criterion': 'mse', 'n_estimators': 5000}</td>\n      <td>-0.024866</td>\n      <td>0.024425</td>\n      <td>-0.113536</td>\n      <td>0.050273</td>\n      <td>-0.628029</td>\n      <td>0.341058</td>\n    </tr>\n    <tr>\n      <th>0</th>\n      <td>random_forest</td>\n      <td>{'criterion': 'mse', 'n_estimators': 100}</td>\n      <td>-0.026957</td>\n      <td>0.027077</td>\n      <td>-0.117501</td>\n      <td>0.053442</td>\n      <td>-0.601185</td>\n      <td>0.355320</td>\n    </tr>\n  </tbody>\n</table>\n</div>"
     },
     "metadata": {},
     "execution_count": 7
    }
   ],
   "source": [
    "grid_search_df.sort_values('mean_test_mse', ascending=False)"
   ]
  },
  {
   "cell_type": "markdown",
   "metadata": {},
   "source": [
    "# Ada Boost Regressor"
   ]
  },
  {
   "cell_type": "code",
   "execution_count": 8,
   "metadata": {},
   "outputs": [],
   "source": [
    "PATH = 'ada_boost_grid_search_results.csv'\n",
    ""
   ]
  },
  {
   "cell_type": "code",
   "execution_count": 9,
   "metadata": {},
   "outputs": [],
   "source": [
    "grid_search_df = pd.read_csv(PATH)\n",
    "grid_search_df[\"model\"] = \"ada_boost\"\n",
    "grid_search_df = grid_search_df[[\"model\", 'params', 'mean_test_mse', 'std_test_mse', 'mean_test_mae', 'std_test_mae', 'mean_test_r2', 'std_test_r2']]\n",
    "summary_df = summary_df.append(grid_search_df.sort_values('mean_test_mse', ascending=False).iloc[0], ignore_index=True)"
   ]
  },
  {
   "cell_type": "code",
   "execution_count": 10,
   "metadata": {},
   "outputs": [
    {
     "output_type": "execute_result",
     "data": {
      "text/plain": "         model                                             params  \\\n272  ada_boost  {'learning_rate': 0.6, 'loss': 'square', 'n_es...   \n457  ada_boost  {'learning_rate': 1.0, 'loss': 'linear', 'n_es...   \n369  ada_boost  {'learning_rate': 0.8, 'loss': 'square', 'n_es...   \n464  ada_boost  {'learning_rate': 1.0, 'loss': 'square', 'n_es...   \n444  ada_boost  {'learning_rate': 0.95, 'loss': 'square', 'n_e...   \n..         ...                                                ...   \n288  ada_boost  {'learning_rate': 0.65, 'loss': 'linear', 'n_e...   \n154  ada_boost  {'learning_rate': 0.35, 'loss': 'square', 'n_e...   \n153  ada_boost  {'learning_rate': 0.35, 'loss': 'square', 'n_e...   \n88   ada_boost  {'learning_rate': 0.2, 'loss': 'exponential', ...   \n264  ada_boost  {'learning_rate': 0.6, 'loss': 'linear', 'n_es...   \n\n     mean_test_mse  std_test_mse  mean_test_mae  std_test_mae  mean_test_r2  \\\n272      -0.031570      0.026710      -0.124276      0.047959     -0.494884   \n457      -0.031639      0.028406      -0.119330      0.051415     -0.521840   \n369      -0.032453      0.026082      -0.125479      0.044504     -0.503898   \n464      -0.032495      0.028606      -0.122081      0.057081     -0.498448   \n444      -0.032554      0.028186      -0.124839      0.051929     -0.506670   \n..             ...           ...            ...           ...           ...   \n288      -0.039548      0.031336      -0.135442      0.053621     -0.382634   \n154      -0.039675      0.033028      -0.134216      0.055708     -0.377197   \n153      -0.039825      0.031810      -0.134934      0.054850     -0.370396   \n88       -0.040039      0.033869      -0.136713      0.057913     -0.383632   \n264      -0.040110      0.034755      -0.133720      0.058935     -0.386518   \n\n     std_test_r2  \n272     0.482878  \n457     0.411101  \n369     0.374398  \n464     0.445863  \n444     0.393524  \n..           ...  \n288     0.469322  \n154     0.514498  \n153     0.513623  \n88      0.482420  \n264     0.486593  \n\n[480 rows x 8 columns]",
      "text/html": "<div>\n<style scoped>\n    .dataframe tbody tr th:only-of-type {\n        vertical-align: middle;\n    }\n\n    .dataframe tbody tr th {\n        vertical-align: top;\n    }\n\n    .dataframe thead th {\n        text-align: right;\n    }\n</style>\n<table border=\"1\" class=\"dataframe\">\n  <thead>\n    <tr style=\"text-align: right;\">\n      <th></th>\n      <th>model</th>\n      <th>params</th>\n      <th>mean_test_mse</th>\n      <th>std_test_mse</th>\n      <th>mean_test_mae</th>\n      <th>std_test_mae</th>\n      <th>mean_test_r2</th>\n      <th>std_test_r2</th>\n    </tr>\n  </thead>\n  <tbody>\n    <tr>\n      <th>272</th>\n      <td>ada_boost</td>\n      <td>{'learning_rate': 0.6, 'loss': 'square', 'n_es...</td>\n      <td>-0.031570</td>\n      <td>0.026710</td>\n      <td>-0.124276</td>\n      <td>0.047959</td>\n      <td>-0.494884</td>\n      <td>0.482878</td>\n    </tr>\n    <tr>\n      <th>457</th>\n      <td>ada_boost</td>\n      <td>{'learning_rate': 1.0, 'loss': 'linear', 'n_es...</td>\n      <td>-0.031639</td>\n      <td>0.028406</td>\n      <td>-0.119330</td>\n      <td>0.051415</td>\n      <td>-0.521840</td>\n      <td>0.411101</td>\n    </tr>\n    <tr>\n      <th>369</th>\n      <td>ada_boost</td>\n      <td>{'learning_rate': 0.8, 'loss': 'square', 'n_es...</td>\n      <td>-0.032453</td>\n      <td>0.026082</td>\n      <td>-0.125479</td>\n      <td>0.044504</td>\n      <td>-0.503898</td>\n      <td>0.374398</td>\n    </tr>\n    <tr>\n      <th>464</th>\n      <td>ada_boost</td>\n      <td>{'learning_rate': 1.0, 'loss': 'square', 'n_es...</td>\n      <td>-0.032495</td>\n      <td>0.028606</td>\n      <td>-0.122081</td>\n      <td>0.057081</td>\n      <td>-0.498448</td>\n      <td>0.445863</td>\n    </tr>\n    <tr>\n      <th>444</th>\n      <td>ada_boost</td>\n      <td>{'learning_rate': 0.95, 'loss': 'square', 'n_e...</td>\n      <td>-0.032554</td>\n      <td>0.028186</td>\n      <td>-0.124839</td>\n      <td>0.051929</td>\n      <td>-0.506670</td>\n      <td>0.393524</td>\n    </tr>\n    <tr>\n      <th>...</th>\n      <td>...</td>\n      <td>...</td>\n      <td>...</td>\n      <td>...</td>\n      <td>...</td>\n      <td>...</td>\n      <td>...</td>\n      <td>...</td>\n    </tr>\n    <tr>\n      <th>288</th>\n      <td>ada_boost</td>\n      <td>{'learning_rate': 0.65, 'loss': 'linear', 'n_e...</td>\n      <td>-0.039548</td>\n      <td>0.031336</td>\n      <td>-0.135442</td>\n      <td>0.053621</td>\n      <td>-0.382634</td>\n      <td>0.469322</td>\n    </tr>\n    <tr>\n      <th>154</th>\n      <td>ada_boost</td>\n      <td>{'learning_rate': 0.35, 'loss': 'square', 'n_e...</td>\n      <td>-0.039675</td>\n      <td>0.033028</td>\n      <td>-0.134216</td>\n      <td>0.055708</td>\n      <td>-0.377197</td>\n      <td>0.514498</td>\n    </tr>\n    <tr>\n      <th>153</th>\n      <td>ada_boost</td>\n      <td>{'learning_rate': 0.35, 'loss': 'square', 'n_e...</td>\n      <td>-0.039825</td>\n      <td>0.031810</td>\n      <td>-0.134934</td>\n      <td>0.054850</td>\n      <td>-0.370396</td>\n      <td>0.513623</td>\n    </tr>\n    <tr>\n      <th>88</th>\n      <td>ada_boost</td>\n      <td>{'learning_rate': 0.2, 'loss': 'exponential', ...</td>\n      <td>-0.040039</td>\n      <td>0.033869</td>\n      <td>-0.136713</td>\n      <td>0.057913</td>\n      <td>-0.383632</td>\n      <td>0.482420</td>\n    </tr>\n    <tr>\n      <th>264</th>\n      <td>ada_boost</td>\n      <td>{'learning_rate': 0.6, 'loss': 'linear', 'n_es...</td>\n      <td>-0.040110</td>\n      <td>0.034755</td>\n      <td>-0.133720</td>\n      <td>0.058935</td>\n      <td>-0.386518</td>\n      <td>0.486593</td>\n    </tr>\n  </tbody>\n</table>\n<p>480 rows × 8 columns</p>\n</div>"
     },
     "metadata": {},
     "execution_count": 10
    }
   ],
   "source": [
    "grid_search_df.sort_values('mean_test_mse', ascending=False)"
   ]
  },
  {
   "cell_type": "code",
   "execution_count": 11,
   "metadata": {},
   "outputs": [
    {
     "output_type": "execute_result",
     "data": {
      "text/plain": "array([\"{'learning_rate': 0.6, 'loss': 'square', 'n_estimators': 100}\",\n       \"{'learning_rate': 1.0, 'loss': 'linear', 'n_estimators': 200}\",\n       \"{'learning_rate': 0.8, 'loss': 'square', 'n_estimators': 200}\",\n       \"{'learning_rate': 1.0, 'loss': 'square', 'n_estimators': 100}\",\n       \"{'learning_rate': 0.95, 'loss': 'square', 'n_estimators': 2000}\",\n       \"{'learning_rate': 1.0, 'loss': 'square', 'n_estimators': 500}\",\n       \"{'learning_rate': 0.1, 'loss': 'linear', 'n_estimators': 100}\",\n       \"{'learning_rate': 0.85, 'loss': 'square', 'n_estimators': 500}\",\n       \"{'learning_rate': 0.95, 'loss': 'exponential', 'n_estimators': 100}\",\n       \"{'learning_rate': 1.0, 'loss': 'square', 'n_estimators': 3000}\",\n       \"{'learning_rate': 0.05, 'loss': 'square', 'n_estimators': 100}\",\n       \"{'learning_rate': 0.95, 'loss': 'square', 'n_estimators': 3000}\",\n       \"{'learning_rate': 0.05, 'loss': 'exponential', 'n_estimators': 100}\",\n       \"{'learning_rate': 0.95, 'loss': 'square', 'n_estimators': 5000}\",\n       \"{'learning_rate': 1.0, 'loss': 'square', 'n_estimators': 10000}\",\n       \"{'learning_rate': 0.95, 'loss': 'square', 'n_estimators': 10000}\",\n       \"{'learning_rate': 1.0, 'loss': 'square', 'n_estimators': 5000}\",\n       \"{'learning_rate': 0.05, 'loss': 'linear', 'n_estimators': 200}\",\n       \"{'learning_rate': 0.9, 'loss': 'square', 'n_estimators': 5000}\",\n       \"{'learning_rate': 0.8, 'loss': 'square', 'n_estimators': 2000}\"],\n      dtype=object)"
     },
     "metadata": {},
     "execution_count": 11
    }
   ],
   "source": [
    "grid_search_df.sort_values('mean_test_mse', ascending=False).head(20).params.values"
   ]
  },
  {
   "cell_type": "markdown",
   "metadata": {},
   "source": [
    "# SVM Regressor"
   ]
  },
  {
   "cell_type": "code",
   "execution_count": 12,
   "metadata": {},
   "outputs": [],
   "source": [
    "PATH = 'svr_grid_search_results.csv'\n"
   ]
  },
  {
   "cell_type": "code",
   "execution_count": 13,
   "metadata": {},
   "outputs": [],
   "source": [
    "grid_search_df = pd.read_csv(PATH)\n",
    "grid_search_df[\"model\"] = \"svm\"\n",
    "grid_search_df = grid_search_df[[\"model\", 'params', 'mean_test_mse', 'std_test_mse', 'mean_test_mae', 'std_test_mae', 'mean_test_r2', 'std_test_r2']]\n",
    "summary_df = summary_df.append(grid_search_df.sort_values('mean_test_mse', ascending=False).iloc[0], ignore_index=True)"
   ]
  },
  {
   "cell_type": "code",
   "execution_count": 14,
   "metadata": {},
   "outputs": [
    {
     "output_type": "execute_result",
     "data": {
      "text/plain": "     model                                             params  mean_test_mse  \\\n3842   svm  {'C': 0.8, 'degree': 2, 'epsilon': 0.05, 'kern...      -0.036729   \n4162   svm  {'C': 0.8, 'degree': 7, 'epsilon': 0.05, 'kern...      -0.036729   \n3906   svm  {'C': 0.8, 'degree': 3, 'epsilon': 0.05, 'kern...      -0.036729   \n3970   svm  {'C': 0.8, 'degree': 4, 'epsilon': 0.05, 'kern...      -0.036729   \n4034   svm  {'C': 0.8, 'degree': 5, 'epsilon': 0.05, 'kern...      -0.036729   \n4098   svm  {'C': 0.8, 'degree': 6, 'epsilon': 0.05, 'kern...      -0.036729   \n4930   svm  {'C': 0.9, 'degree': 7, 'epsilon': 0.05, 'kern...      -0.036756   \n4866   svm  {'C': 0.9, 'degree': 6, 'epsilon': 0.05, 'kern...      -0.036756   \n4802   svm  {'C': 0.9, 'degree': 5, 'epsilon': 0.05, 'kern...      -0.036756   \n4674   svm  {'C': 0.9, 'degree': 3, 'epsilon': 0.05, 'kern...      -0.036756   \n4610   svm  {'C': 0.9, 'degree': 2, 'epsilon': 0.05, 'kern...      -0.036756   \n4738   svm  {'C': 0.9, 'degree': 4, 'epsilon': 0.05, 'kern...      -0.036756   \n4482   svm  {'C': 0.85, 'degree': 6, 'epsilon': 0.05, 'ker...      -0.036769   \n4290   svm  {'C': 0.85, 'degree': 3, 'epsilon': 0.05, 'ker...      -0.036769   \n4546   svm  {'C': 0.85, 'degree': 7, 'epsilon': 0.05, 'ker...      -0.036769   \n4226   svm  {'C': 0.85, 'degree': 2, 'epsilon': 0.05, 'ker...      -0.036769   \n4418   svm  {'C': 0.85, 'degree': 5, 'epsilon': 0.05, 'ker...      -0.036769   \n4354   svm  {'C': 0.85, 'degree': 4, 'epsilon': 0.05, 'ker...      -0.036769   \n3650   svm  {'C': 0.75, 'degree': 5, 'epsilon': 0.05, 'ker...      -0.036772   \n3522   svm  {'C': 0.75, 'degree': 3, 'epsilon': 0.05, 'ker...      -0.036772   \n\n      std_test_mse  mean_test_mae  std_test_mae  mean_test_r2  std_test_r2  \n3842      0.034001      -0.142503      0.058847     -0.579265     0.328329  \n4162      0.034001      -0.142503      0.058847     -0.579265     0.328329  \n3906      0.034001      -0.142503      0.058847     -0.579265     0.328329  \n3970      0.034001      -0.142503      0.058847     -0.579265     0.328329  \n4034      0.034001      -0.142503      0.058847     -0.579265     0.328329  \n4098      0.034001      -0.142503      0.058847     -0.579265     0.328329  \n4930      0.034079      -0.142286      0.059705     -0.578114     0.331177  \n4866      0.034079      -0.142286      0.059705     -0.578114     0.331177  \n4802      0.034079      -0.142286      0.059705     -0.578114     0.331177  \n4674      0.034079      -0.142286      0.059705     -0.578114     0.331177  \n4610      0.034079      -0.142286      0.059705     -0.578114     0.331177  \n4738      0.034079      -0.142286      0.059705     -0.578114     0.331177  \n4482      0.034120      -0.142514      0.059372     -0.578331     0.330760  \n4290      0.034120      -0.142514      0.059372     -0.578331     0.330760  \n4546      0.034120      -0.142514      0.059372     -0.578331     0.330760  \n4226      0.034120      -0.142514      0.059372     -0.578331     0.330760  \n4418      0.034120      -0.142514      0.059372     -0.578331     0.330760  \n4354      0.034120      -0.142514      0.059372     -0.578331     0.330760  \n3650      0.033659      -0.142893      0.057884     -0.579282     0.324910  \n3522      0.033659      -0.142893      0.057884     -0.579282     0.324910  ",
      "text/html": "<div>\n<style scoped>\n    .dataframe tbody tr th:only-of-type {\n        vertical-align: middle;\n    }\n\n    .dataframe tbody tr th {\n        vertical-align: top;\n    }\n\n    .dataframe thead th {\n        text-align: right;\n    }\n</style>\n<table border=\"1\" class=\"dataframe\">\n  <thead>\n    <tr style=\"text-align: right;\">\n      <th></th>\n      <th>model</th>\n      <th>params</th>\n      <th>mean_test_mse</th>\n      <th>std_test_mse</th>\n      <th>mean_test_mae</th>\n      <th>std_test_mae</th>\n      <th>mean_test_r2</th>\n      <th>std_test_r2</th>\n    </tr>\n  </thead>\n  <tbody>\n    <tr>\n      <th>3842</th>\n      <td>svm</td>\n      <td>{'C': 0.8, 'degree': 2, 'epsilon': 0.05, 'kern...</td>\n      <td>-0.036729</td>\n      <td>0.034001</td>\n      <td>-0.142503</td>\n      <td>0.058847</td>\n      <td>-0.579265</td>\n      <td>0.328329</td>\n    </tr>\n    <tr>\n      <th>4162</th>\n      <td>svm</td>\n      <td>{'C': 0.8, 'degree': 7, 'epsilon': 0.05, 'kern...</td>\n      <td>-0.036729</td>\n      <td>0.034001</td>\n      <td>-0.142503</td>\n      <td>0.058847</td>\n      <td>-0.579265</td>\n      <td>0.328329</td>\n    </tr>\n    <tr>\n      <th>3906</th>\n      <td>svm</td>\n      <td>{'C': 0.8, 'degree': 3, 'epsilon': 0.05, 'kern...</td>\n      <td>-0.036729</td>\n      <td>0.034001</td>\n      <td>-0.142503</td>\n      <td>0.058847</td>\n      <td>-0.579265</td>\n      <td>0.328329</td>\n    </tr>\n    <tr>\n      <th>3970</th>\n      <td>svm</td>\n      <td>{'C': 0.8, 'degree': 4, 'epsilon': 0.05, 'kern...</td>\n      <td>-0.036729</td>\n      <td>0.034001</td>\n      <td>-0.142503</td>\n      <td>0.058847</td>\n      <td>-0.579265</td>\n      <td>0.328329</td>\n    </tr>\n    <tr>\n      <th>4034</th>\n      <td>svm</td>\n      <td>{'C': 0.8, 'degree': 5, 'epsilon': 0.05, 'kern...</td>\n      <td>-0.036729</td>\n      <td>0.034001</td>\n      <td>-0.142503</td>\n      <td>0.058847</td>\n      <td>-0.579265</td>\n      <td>0.328329</td>\n    </tr>\n    <tr>\n      <th>4098</th>\n      <td>svm</td>\n      <td>{'C': 0.8, 'degree': 6, 'epsilon': 0.05, 'kern...</td>\n      <td>-0.036729</td>\n      <td>0.034001</td>\n      <td>-0.142503</td>\n      <td>0.058847</td>\n      <td>-0.579265</td>\n      <td>0.328329</td>\n    </tr>\n    <tr>\n      <th>4930</th>\n      <td>svm</td>\n      <td>{'C': 0.9, 'degree': 7, 'epsilon': 0.05, 'kern...</td>\n      <td>-0.036756</td>\n      <td>0.034079</td>\n      <td>-0.142286</td>\n      <td>0.059705</td>\n      <td>-0.578114</td>\n      <td>0.331177</td>\n    </tr>\n    <tr>\n      <th>4866</th>\n      <td>svm</td>\n      <td>{'C': 0.9, 'degree': 6, 'epsilon': 0.05, 'kern...</td>\n      <td>-0.036756</td>\n      <td>0.034079</td>\n      <td>-0.142286</td>\n      <td>0.059705</td>\n      <td>-0.578114</td>\n      <td>0.331177</td>\n    </tr>\n    <tr>\n      <th>4802</th>\n      <td>svm</td>\n      <td>{'C': 0.9, 'degree': 5, 'epsilon': 0.05, 'kern...</td>\n      <td>-0.036756</td>\n      <td>0.034079</td>\n      <td>-0.142286</td>\n      <td>0.059705</td>\n      <td>-0.578114</td>\n      <td>0.331177</td>\n    </tr>\n    <tr>\n      <th>4674</th>\n      <td>svm</td>\n      <td>{'C': 0.9, 'degree': 3, 'epsilon': 0.05, 'kern...</td>\n      <td>-0.036756</td>\n      <td>0.034079</td>\n      <td>-0.142286</td>\n      <td>0.059705</td>\n      <td>-0.578114</td>\n      <td>0.331177</td>\n    </tr>\n    <tr>\n      <th>4610</th>\n      <td>svm</td>\n      <td>{'C': 0.9, 'degree': 2, 'epsilon': 0.05, 'kern...</td>\n      <td>-0.036756</td>\n      <td>0.034079</td>\n      <td>-0.142286</td>\n      <td>0.059705</td>\n      <td>-0.578114</td>\n      <td>0.331177</td>\n    </tr>\n    <tr>\n      <th>4738</th>\n      <td>svm</td>\n      <td>{'C': 0.9, 'degree': 4, 'epsilon': 0.05, 'kern...</td>\n      <td>-0.036756</td>\n      <td>0.034079</td>\n      <td>-0.142286</td>\n      <td>0.059705</td>\n      <td>-0.578114</td>\n      <td>0.331177</td>\n    </tr>\n    <tr>\n      <th>4482</th>\n      <td>svm</td>\n      <td>{'C': 0.85, 'degree': 6, 'epsilon': 0.05, 'ker...</td>\n      <td>-0.036769</td>\n      <td>0.034120</td>\n      <td>-0.142514</td>\n      <td>0.059372</td>\n      <td>-0.578331</td>\n      <td>0.330760</td>\n    </tr>\n    <tr>\n      <th>4290</th>\n      <td>svm</td>\n      <td>{'C': 0.85, 'degree': 3, 'epsilon': 0.05, 'ker...</td>\n      <td>-0.036769</td>\n      <td>0.034120</td>\n      <td>-0.142514</td>\n      <td>0.059372</td>\n      <td>-0.578331</td>\n      <td>0.330760</td>\n    </tr>\n    <tr>\n      <th>4546</th>\n      <td>svm</td>\n      <td>{'C': 0.85, 'degree': 7, 'epsilon': 0.05, 'ker...</td>\n      <td>-0.036769</td>\n      <td>0.034120</td>\n      <td>-0.142514</td>\n      <td>0.059372</td>\n      <td>-0.578331</td>\n      <td>0.330760</td>\n    </tr>\n    <tr>\n      <th>4226</th>\n      <td>svm</td>\n      <td>{'C': 0.85, 'degree': 2, 'epsilon': 0.05, 'ker...</td>\n      <td>-0.036769</td>\n      <td>0.034120</td>\n      <td>-0.142514</td>\n      <td>0.059372</td>\n      <td>-0.578331</td>\n      <td>0.330760</td>\n    </tr>\n    <tr>\n      <th>4418</th>\n      <td>svm</td>\n      <td>{'C': 0.85, 'degree': 5, 'epsilon': 0.05, 'ker...</td>\n      <td>-0.036769</td>\n      <td>0.034120</td>\n      <td>-0.142514</td>\n      <td>0.059372</td>\n      <td>-0.578331</td>\n      <td>0.330760</td>\n    </tr>\n    <tr>\n      <th>4354</th>\n      <td>svm</td>\n      <td>{'C': 0.85, 'degree': 4, 'epsilon': 0.05, 'ker...</td>\n      <td>-0.036769</td>\n      <td>0.034120</td>\n      <td>-0.142514</td>\n      <td>0.059372</td>\n      <td>-0.578331</td>\n      <td>0.330760</td>\n    </tr>\n    <tr>\n      <th>3650</th>\n      <td>svm</td>\n      <td>{'C': 0.75, 'degree': 5, 'epsilon': 0.05, 'ker...</td>\n      <td>-0.036772</td>\n      <td>0.033659</td>\n      <td>-0.142893</td>\n      <td>0.057884</td>\n      <td>-0.579282</td>\n      <td>0.324910</td>\n    </tr>\n    <tr>\n      <th>3522</th>\n      <td>svm</td>\n      <td>{'C': 0.75, 'degree': 3, 'epsilon': 0.05, 'ker...</td>\n      <td>-0.036772</td>\n      <td>0.033659</td>\n      <td>-0.142893</td>\n      <td>0.057884</td>\n      <td>-0.579282</td>\n      <td>0.324910</td>\n    </tr>\n  </tbody>\n</table>\n</div>"
     },
     "metadata": {},
     "execution_count": 14
    }
   ],
   "source": [
    "grid_search_df.sort_values('mean_test_mse', ascending=False).head(20)"
   ]
  },
  {
   "cell_type": "code",
   "execution_count": 15,
   "metadata": {},
   "outputs": [
    {
     "output_type": "execute_result",
     "data": {
      "text/plain": "array([\"{'C': 0.8, 'degree': 2, 'epsilon': 0.05, 'kernel': 'rbf'}\",\n       \"{'C': 0.8, 'degree': 7, 'epsilon': 0.05, 'kernel': 'rbf'}\",\n       \"{'C': 0.8, 'degree': 3, 'epsilon': 0.05, 'kernel': 'rbf'}\",\n       \"{'C': 0.8, 'degree': 4, 'epsilon': 0.05, 'kernel': 'rbf'}\",\n       \"{'C': 0.8, 'degree': 5, 'epsilon': 0.05, 'kernel': 'rbf'}\",\n       \"{'C': 0.8, 'degree': 6, 'epsilon': 0.05, 'kernel': 'rbf'}\",\n       \"{'C': 0.9, 'degree': 7, 'epsilon': 0.05, 'kernel': 'rbf'}\",\n       \"{'C': 0.9, 'degree': 6, 'epsilon': 0.05, 'kernel': 'rbf'}\",\n       \"{'C': 0.9, 'degree': 5, 'epsilon': 0.05, 'kernel': 'rbf'}\",\n       \"{'C': 0.9, 'degree': 3, 'epsilon': 0.05, 'kernel': 'rbf'}\",\n       \"{'C': 0.9, 'degree': 2, 'epsilon': 0.05, 'kernel': 'rbf'}\",\n       \"{'C': 0.9, 'degree': 4, 'epsilon': 0.05, 'kernel': 'rbf'}\",\n       \"{'C': 0.85, 'degree': 6, 'epsilon': 0.05, 'kernel': 'rbf'}\",\n       \"{'C': 0.85, 'degree': 3, 'epsilon': 0.05, 'kernel': 'rbf'}\",\n       \"{'C': 0.85, 'degree': 7, 'epsilon': 0.05, 'kernel': 'rbf'}\",\n       \"{'C': 0.85, 'degree': 2, 'epsilon': 0.05, 'kernel': 'rbf'}\",\n       \"{'C': 0.85, 'degree': 5, 'epsilon': 0.05, 'kernel': 'rbf'}\",\n       \"{'C': 0.85, 'degree': 4, 'epsilon': 0.05, 'kernel': 'rbf'}\",\n       \"{'C': 0.75, 'degree': 5, 'epsilon': 0.05, 'kernel': 'rbf'}\",\n       \"{'C': 0.75, 'degree': 3, 'epsilon': 0.05, 'kernel': 'rbf'}\"],\n      dtype=object)"
     },
     "metadata": {},
     "execution_count": 15
    }
   ],
   "source": [
    "grid_search_df.sort_values('mean_test_mse', ascending=False)[\"params\"].head(20).values\n"
   ]
  },
  {
   "cell_type": "markdown",
   "metadata": {},
   "source": [
    "# KNN Regressor"
   ]
  },
  {
   "cell_type": "code",
   "execution_count": 16,
   "metadata": {},
   "outputs": [],
   "source": [
    "PATH = 'knn_grid_search_results.csv'\n"
   ]
  },
  {
   "cell_type": "code",
   "execution_count": 17,
   "metadata": {},
   "outputs": [],
   "source": [
    "grid_search_df = pd.read_csv(PATH)\n",
    "grid_search_df[\"model\"] = \"knn\"\n",
    "grid_search_df = grid_search_df[[\"model\", 'params', 'mean_test_mse', 'std_test_mse', 'mean_test_mae', 'std_test_mae', 'mean_test_r2', 'std_test_r2']]\n",
    "summary_df = summary_df.append(grid_search_df.sort_values('mean_test_mse', ascending=False).iloc[0], ignore_index=True)"
   ]
  },
  {
   "cell_type": "code",
   "execution_count": 18,
   "metadata": {},
   "outputs": [
    {
     "output_type": "execute_result",
     "data": {
      "text/plain": "   model                                             params  mean_test_mse  \\\n6    knn  {'metric': 'minkowski', 'n_neighbors': 7, 'p': 1}      -0.042408   \n4    knn  {'metric': 'minkowski', 'n_neighbors': 5, 'p': 1}      -0.047210   \n2    knn  {'metric': 'minkowski', 'n_neighbors': 3, 'p': 1}      -0.047521   \n8    knn  {'metric': 'minkowski', 'n_neighbors': 9, 'p': 1}      -0.049485   \n9    knn  {'metric': 'minkowski', 'n_neighbors': 9, 'p': 2}      -0.050816   \n10   knn  {'metric': 'minkowski', 'n_neighbors': 11, 'p'...      -0.050976   \n14   knn  {'metric': 'chebyshev', 'n_neighbors': 3, 'p': 1}      -0.052446   \n15   knn  {'metric': 'chebyshev', 'n_neighbors': 3, 'p': 2}      -0.052446   \n3    knn  {'metric': 'minkowski', 'n_neighbors': 3, 'p': 2}      -0.055119   \n11   knn  {'metric': 'minkowski', 'n_neighbors': 11, 'p'...      -0.055753   \n5    knn  {'metric': 'minkowski', 'n_neighbors': 5, 'p': 2}      -0.058240   \n7    knn  {'metric': 'minkowski', 'n_neighbors': 7, 'p': 2}      -0.058354   \n17   knn  {'metric': 'chebyshev', 'n_neighbors': 5, 'p': 2}      -0.058620   \n16   knn  {'metric': 'chebyshev', 'n_neighbors': 5, 'p': 1}      -0.058620   \n20   knn  {'metric': 'chebyshev', 'n_neighbors': 9, 'p': 1}      -0.059102   \n21   knn  {'metric': 'chebyshev', 'n_neighbors': 9, 'p': 2}      -0.059102   \n18   knn  {'metric': 'chebyshev', 'n_neighbors': 7, 'p': 1}      -0.062939   \n19   knn  {'metric': 'chebyshev', 'n_neighbors': 7, 'p': 2}      -0.062939   \n22   knn  {'metric': 'chebyshev', 'n_neighbors': 11, 'p'...      -0.065027   \n23   knn  {'metric': 'chebyshev', 'n_neighbors': 11, 'p'...      -0.065027   \n12   knn  {'metric': 'chebyshev', 'n_neighbors': 1, 'p': 1}      -0.072736   \n13   knn  {'metric': 'chebyshev', 'n_neighbors': 1, 'p': 2}      -0.072736   \n1    knn  {'metric': 'minkowski', 'n_neighbors': 1, 'p': 2}      -0.096382   \n0    knn  {'metric': 'minkowski', 'n_neighbors': 1, 'p': 1}      -0.114572   \n\n    std_test_mse  mean_test_mae  std_test_mae  mean_test_r2  std_test_r2  \n6       0.033753      -0.153458      0.052378     -0.561840     0.243121  \n4       0.034464      -0.155098      0.063534     -0.474957     0.383194  \n2       0.030919      -0.161573      0.057716     -0.405888     0.539613  \n8       0.042906      -0.164377      0.064667     -0.486270     0.323098  \n9       0.036624      -0.170096      0.053862     -0.454807     0.286482  \n10      0.040708      -0.165085      0.059372     -0.485523     0.282308  \n14      0.036312      -0.174857      0.062138     -0.404632     0.353912  \n15      0.036312      -0.174857      0.062138     -0.404632     0.353912  \n3       0.036181      -0.182176      0.066013     -0.322683     0.541795  \n11      0.039350      -0.176985      0.054313     -0.407580     0.292835  \n5       0.040258      -0.183582      0.069818     -0.314288     0.530442  \n7       0.040246      -0.186893      0.057524     -0.361158     0.333031  \n17      0.034410      -0.186296      0.055692     -0.298706     0.501972  \n16      0.034410      -0.186296      0.055692     -0.298706     0.501972  \n20      0.037837      -0.190362      0.051029     -0.346888     0.322215  \n21      0.037837      -0.190362      0.051029     -0.346888     0.322215  \n18      0.039279      -0.198179      0.051214     -0.286733     0.353580  \n19      0.039279      -0.198179      0.051214     -0.286733     0.353580  \n22      0.039861      -0.201726      0.056366     -0.286633     0.311695  \n23      0.039861      -0.201726      0.056366     -0.286633     0.311695  \n12      0.056338      -0.202550      0.076119     -0.175793     0.519525  \n13      0.056338      -0.202550      0.076119     -0.175793     0.519525  \n1       0.070094      -0.208417      0.076300      0.061376     0.727681  \n0       0.070819      -0.230241      0.087992      0.455171     1.180005  ",
      "text/html": "<div>\n<style scoped>\n    .dataframe tbody tr th:only-of-type {\n        vertical-align: middle;\n    }\n\n    .dataframe tbody tr th {\n        vertical-align: top;\n    }\n\n    .dataframe thead th {\n        text-align: right;\n    }\n</style>\n<table border=\"1\" class=\"dataframe\">\n  <thead>\n    <tr style=\"text-align: right;\">\n      <th></th>\n      <th>model</th>\n      <th>params</th>\n      <th>mean_test_mse</th>\n      <th>std_test_mse</th>\n      <th>mean_test_mae</th>\n      <th>std_test_mae</th>\n      <th>mean_test_r2</th>\n      <th>std_test_r2</th>\n    </tr>\n  </thead>\n  <tbody>\n    <tr>\n      <th>6</th>\n      <td>knn</td>\n      <td>{'metric': 'minkowski', 'n_neighbors': 7, 'p': 1}</td>\n      <td>-0.042408</td>\n      <td>0.033753</td>\n      <td>-0.153458</td>\n      <td>0.052378</td>\n      <td>-0.561840</td>\n      <td>0.243121</td>\n    </tr>\n    <tr>\n      <th>4</th>\n      <td>knn</td>\n      <td>{'metric': 'minkowski', 'n_neighbors': 5, 'p': 1}</td>\n      <td>-0.047210</td>\n      <td>0.034464</td>\n      <td>-0.155098</td>\n      <td>0.063534</td>\n      <td>-0.474957</td>\n      <td>0.383194</td>\n    </tr>\n    <tr>\n      <th>2</th>\n      <td>knn</td>\n      <td>{'metric': 'minkowski', 'n_neighbors': 3, 'p': 1}</td>\n      <td>-0.047521</td>\n      <td>0.030919</td>\n      <td>-0.161573</td>\n      <td>0.057716</td>\n      <td>-0.405888</td>\n      <td>0.539613</td>\n    </tr>\n    <tr>\n      <th>8</th>\n      <td>knn</td>\n      <td>{'metric': 'minkowski', 'n_neighbors': 9, 'p': 1}</td>\n      <td>-0.049485</td>\n      <td>0.042906</td>\n      <td>-0.164377</td>\n      <td>0.064667</td>\n      <td>-0.486270</td>\n      <td>0.323098</td>\n    </tr>\n    <tr>\n      <th>9</th>\n      <td>knn</td>\n      <td>{'metric': 'minkowski', 'n_neighbors': 9, 'p': 2}</td>\n      <td>-0.050816</td>\n      <td>0.036624</td>\n      <td>-0.170096</td>\n      <td>0.053862</td>\n      <td>-0.454807</td>\n      <td>0.286482</td>\n    </tr>\n    <tr>\n      <th>10</th>\n      <td>knn</td>\n      <td>{'metric': 'minkowski', 'n_neighbors': 11, 'p'...</td>\n      <td>-0.050976</td>\n      <td>0.040708</td>\n      <td>-0.165085</td>\n      <td>0.059372</td>\n      <td>-0.485523</td>\n      <td>0.282308</td>\n    </tr>\n    <tr>\n      <th>14</th>\n      <td>knn</td>\n      <td>{'metric': 'chebyshev', 'n_neighbors': 3, 'p': 1}</td>\n      <td>-0.052446</td>\n      <td>0.036312</td>\n      <td>-0.174857</td>\n      <td>0.062138</td>\n      <td>-0.404632</td>\n      <td>0.353912</td>\n    </tr>\n    <tr>\n      <th>15</th>\n      <td>knn</td>\n      <td>{'metric': 'chebyshev', 'n_neighbors': 3, 'p': 2}</td>\n      <td>-0.052446</td>\n      <td>0.036312</td>\n      <td>-0.174857</td>\n      <td>0.062138</td>\n      <td>-0.404632</td>\n      <td>0.353912</td>\n    </tr>\n    <tr>\n      <th>3</th>\n      <td>knn</td>\n      <td>{'metric': 'minkowski', 'n_neighbors': 3, 'p': 2}</td>\n      <td>-0.055119</td>\n      <td>0.036181</td>\n      <td>-0.182176</td>\n      <td>0.066013</td>\n      <td>-0.322683</td>\n      <td>0.541795</td>\n    </tr>\n    <tr>\n      <th>11</th>\n      <td>knn</td>\n      <td>{'metric': 'minkowski', 'n_neighbors': 11, 'p'...</td>\n      <td>-0.055753</td>\n      <td>0.039350</td>\n      <td>-0.176985</td>\n      <td>0.054313</td>\n      <td>-0.407580</td>\n      <td>0.292835</td>\n    </tr>\n    <tr>\n      <th>5</th>\n      <td>knn</td>\n      <td>{'metric': 'minkowski', 'n_neighbors': 5, 'p': 2}</td>\n      <td>-0.058240</td>\n      <td>0.040258</td>\n      <td>-0.183582</td>\n      <td>0.069818</td>\n      <td>-0.314288</td>\n      <td>0.530442</td>\n    </tr>\n    <tr>\n      <th>7</th>\n      <td>knn</td>\n      <td>{'metric': 'minkowski', 'n_neighbors': 7, 'p': 2}</td>\n      <td>-0.058354</td>\n      <td>0.040246</td>\n      <td>-0.186893</td>\n      <td>0.057524</td>\n      <td>-0.361158</td>\n      <td>0.333031</td>\n    </tr>\n    <tr>\n      <th>17</th>\n      <td>knn</td>\n      <td>{'metric': 'chebyshev', 'n_neighbors': 5, 'p': 2}</td>\n      <td>-0.058620</td>\n      <td>0.034410</td>\n      <td>-0.186296</td>\n      <td>0.055692</td>\n      <td>-0.298706</td>\n      <td>0.501972</td>\n    </tr>\n    <tr>\n      <th>16</th>\n      <td>knn</td>\n      <td>{'metric': 'chebyshev', 'n_neighbors': 5, 'p': 1}</td>\n      <td>-0.058620</td>\n      <td>0.034410</td>\n      <td>-0.186296</td>\n      <td>0.055692</td>\n      <td>-0.298706</td>\n      <td>0.501972</td>\n    </tr>\n    <tr>\n      <th>20</th>\n      <td>knn</td>\n      <td>{'metric': 'chebyshev', 'n_neighbors': 9, 'p': 1}</td>\n      <td>-0.059102</td>\n      <td>0.037837</td>\n      <td>-0.190362</td>\n      <td>0.051029</td>\n      <td>-0.346888</td>\n      <td>0.322215</td>\n    </tr>\n    <tr>\n      <th>21</th>\n      <td>knn</td>\n      <td>{'metric': 'chebyshev', 'n_neighbors': 9, 'p': 2}</td>\n      <td>-0.059102</td>\n      <td>0.037837</td>\n      <td>-0.190362</td>\n      <td>0.051029</td>\n      <td>-0.346888</td>\n      <td>0.322215</td>\n    </tr>\n    <tr>\n      <th>18</th>\n      <td>knn</td>\n      <td>{'metric': 'chebyshev', 'n_neighbors': 7, 'p': 1}</td>\n      <td>-0.062939</td>\n      <td>0.039279</td>\n      <td>-0.198179</td>\n      <td>0.051214</td>\n      <td>-0.286733</td>\n      <td>0.353580</td>\n    </tr>\n    <tr>\n      <th>19</th>\n      <td>knn</td>\n      <td>{'metric': 'chebyshev', 'n_neighbors': 7, 'p': 2}</td>\n      <td>-0.062939</td>\n      <td>0.039279</td>\n      <td>-0.198179</td>\n      <td>0.051214</td>\n      <td>-0.286733</td>\n      <td>0.353580</td>\n    </tr>\n    <tr>\n      <th>22</th>\n      <td>knn</td>\n      <td>{'metric': 'chebyshev', 'n_neighbors': 11, 'p'...</td>\n      <td>-0.065027</td>\n      <td>0.039861</td>\n      <td>-0.201726</td>\n      <td>0.056366</td>\n      <td>-0.286633</td>\n      <td>0.311695</td>\n    </tr>\n    <tr>\n      <th>23</th>\n      <td>knn</td>\n      <td>{'metric': 'chebyshev', 'n_neighbors': 11, 'p'...</td>\n      <td>-0.065027</td>\n      <td>0.039861</td>\n      <td>-0.201726</td>\n      <td>0.056366</td>\n      <td>-0.286633</td>\n      <td>0.311695</td>\n    </tr>\n    <tr>\n      <th>12</th>\n      <td>knn</td>\n      <td>{'metric': 'chebyshev', 'n_neighbors': 1, 'p': 1}</td>\n      <td>-0.072736</td>\n      <td>0.056338</td>\n      <td>-0.202550</td>\n      <td>0.076119</td>\n      <td>-0.175793</td>\n      <td>0.519525</td>\n    </tr>\n    <tr>\n      <th>13</th>\n      <td>knn</td>\n      <td>{'metric': 'chebyshev', 'n_neighbors': 1, 'p': 2}</td>\n      <td>-0.072736</td>\n      <td>0.056338</td>\n      <td>-0.202550</td>\n      <td>0.076119</td>\n      <td>-0.175793</td>\n      <td>0.519525</td>\n    </tr>\n    <tr>\n      <th>1</th>\n      <td>knn</td>\n      <td>{'metric': 'minkowski', 'n_neighbors': 1, 'p': 2}</td>\n      <td>-0.096382</td>\n      <td>0.070094</td>\n      <td>-0.208417</td>\n      <td>0.076300</td>\n      <td>0.061376</td>\n      <td>0.727681</td>\n    </tr>\n    <tr>\n      <th>0</th>\n      <td>knn</td>\n      <td>{'metric': 'minkowski', 'n_neighbors': 1, 'p': 1}</td>\n      <td>-0.114572</td>\n      <td>0.070819</td>\n      <td>-0.230241</td>\n      <td>0.087992</td>\n      <td>0.455171</td>\n      <td>1.180005</td>\n    </tr>\n  </tbody>\n</table>\n</div>"
     },
     "metadata": {},
     "execution_count": 18
    }
   ],
   "source": [
    "grid_search_df.sort_values('mean_test_mse', ascending=False)"
   ]
  },
  {
   "cell_type": "markdown",
   "metadata": {},
   "source": [
    "# Lasso Regressor"
   ]
  },
  {
   "cell_type": "code",
   "execution_count": 19,
   "metadata": {},
   "outputs": [],
   "source": [
    "PATH = 'lasso_grid_search_results.csv'"
   ]
  },
  {
   "cell_type": "code",
   "execution_count": 20,
   "metadata": {},
   "outputs": [],
   "source": [
    "grid_search_df = pd.read_csv(PATH)\n",
    "grid_search_df[\"model\"] = \"lasso\"\n",
    "grid_search_df = grid_search_df[[\"model\", 'params', 'mean_test_mse', 'std_test_mse', 'mean_test_mae', 'std_test_mae', 'mean_test_r2', 'std_test_r2']]\n",
    "summary_df = summary_df.append(grid_search_df.sort_values('mean_test_mse', ascending=False).iloc[0], ignore_index=True)"
   ]
  },
  {
   "cell_type": "code",
   "execution_count": 21,
   "metadata": {},
   "outputs": [
    {
     "output_type": "execute_result",
     "data": {
      "text/plain": "    model           params  mean_test_mse  std_test_mse  mean_test_mae  \\\n0   lasso  {'alpha': 0.01}      -0.086076      0.034415      -0.252189   \n1   lasso  {'alpha': 0.05}      -0.099114      0.036789      -0.277631   \n2   lasso   {'alpha': 0.1}      -0.099114      0.036789      -0.277631   \n3   lasso   {'alpha': 0.2}      -0.099114      0.036789      -0.277631   \n4   lasso   {'alpha': 0.3}      -0.099114      0.036789      -0.277631   \n5   lasso   {'alpha': 0.4}      -0.099114      0.036789      -0.277631   \n6   lasso   {'alpha': 0.5}      -0.099114      0.036789      -0.277631   \n7   lasso   {'alpha': 0.6}      -0.099114      0.036789      -0.277631   \n8   lasso   {'alpha': 0.7}      -0.099114      0.036789      -0.277631   \n9   lasso   {'alpha': 0.8}      -0.099114      0.036789      -0.277631   \n10  lasso   {'alpha': 0.9}      -0.099114      0.036789      -0.277631   \n11  lasso     {'alpha': 1}      -0.099114      0.036789      -0.277631   \n12  lasso     {'alpha': 2}      -0.099114      0.036789      -0.277631   \n13  lasso     {'alpha': 3}      -0.099114      0.036789      -0.277631   \n14  lasso     {'alpha': 5}      -0.099114      0.036789      -0.277631   \n15  lasso     {'alpha': 7}      -0.099114      0.036789      -0.277631   \n\n    std_test_mae  mean_test_r2  std_test_r2  \n0       0.043549     -0.040955     0.250532  \n1       0.056755      0.065749     0.069789  \n2       0.056755      0.065749     0.069789  \n3       0.056755      0.065749     0.069789  \n4       0.056755      0.065749     0.069789  \n5       0.056755      0.065749     0.069789  \n6       0.056755      0.065749     0.069789  \n7       0.056755      0.065749     0.069789  \n8       0.056755      0.065749     0.069789  \n9       0.056755      0.065749     0.069789  \n10      0.056755      0.065749     0.069789  \n11      0.056755      0.065749     0.069789  \n12      0.056755      0.065749     0.069789  \n13      0.056755      0.065749     0.069789  \n14      0.056755      0.065749     0.069789  \n15      0.056755      0.065749     0.069789  ",
      "text/html": "<div>\n<style scoped>\n    .dataframe tbody tr th:only-of-type {\n        vertical-align: middle;\n    }\n\n    .dataframe tbody tr th {\n        vertical-align: top;\n    }\n\n    .dataframe thead th {\n        text-align: right;\n    }\n</style>\n<table border=\"1\" class=\"dataframe\">\n  <thead>\n    <tr style=\"text-align: right;\">\n      <th></th>\n      <th>model</th>\n      <th>params</th>\n      <th>mean_test_mse</th>\n      <th>std_test_mse</th>\n      <th>mean_test_mae</th>\n      <th>std_test_mae</th>\n      <th>mean_test_r2</th>\n      <th>std_test_r2</th>\n    </tr>\n  </thead>\n  <tbody>\n    <tr>\n      <th>0</th>\n      <td>lasso</td>\n      <td>{'alpha': 0.01}</td>\n      <td>-0.086076</td>\n      <td>0.034415</td>\n      <td>-0.252189</td>\n      <td>0.043549</td>\n      <td>-0.040955</td>\n      <td>0.250532</td>\n    </tr>\n    <tr>\n      <th>1</th>\n      <td>lasso</td>\n      <td>{'alpha': 0.05}</td>\n      <td>-0.099114</td>\n      <td>0.036789</td>\n      <td>-0.277631</td>\n      <td>0.056755</td>\n      <td>0.065749</td>\n      <td>0.069789</td>\n    </tr>\n    <tr>\n      <th>2</th>\n      <td>lasso</td>\n      <td>{'alpha': 0.1}</td>\n      <td>-0.099114</td>\n      <td>0.036789</td>\n      <td>-0.277631</td>\n      <td>0.056755</td>\n      <td>0.065749</td>\n      <td>0.069789</td>\n    </tr>\n    <tr>\n      <th>3</th>\n      <td>lasso</td>\n      <td>{'alpha': 0.2}</td>\n      <td>-0.099114</td>\n      <td>0.036789</td>\n      <td>-0.277631</td>\n      <td>0.056755</td>\n      <td>0.065749</td>\n      <td>0.069789</td>\n    </tr>\n    <tr>\n      <th>4</th>\n      <td>lasso</td>\n      <td>{'alpha': 0.3}</td>\n      <td>-0.099114</td>\n      <td>0.036789</td>\n      <td>-0.277631</td>\n      <td>0.056755</td>\n      <td>0.065749</td>\n      <td>0.069789</td>\n    </tr>\n    <tr>\n      <th>5</th>\n      <td>lasso</td>\n      <td>{'alpha': 0.4}</td>\n      <td>-0.099114</td>\n      <td>0.036789</td>\n      <td>-0.277631</td>\n      <td>0.056755</td>\n      <td>0.065749</td>\n      <td>0.069789</td>\n    </tr>\n    <tr>\n      <th>6</th>\n      <td>lasso</td>\n      <td>{'alpha': 0.5}</td>\n      <td>-0.099114</td>\n      <td>0.036789</td>\n      <td>-0.277631</td>\n      <td>0.056755</td>\n      <td>0.065749</td>\n      <td>0.069789</td>\n    </tr>\n    <tr>\n      <th>7</th>\n      <td>lasso</td>\n      <td>{'alpha': 0.6}</td>\n      <td>-0.099114</td>\n      <td>0.036789</td>\n      <td>-0.277631</td>\n      <td>0.056755</td>\n      <td>0.065749</td>\n      <td>0.069789</td>\n    </tr>\n    <tr>\n      <th>8</th>\n      <td>lasso</td>\n      <td>{'alpha': 0.7}</td>\n      <td>-0.099114</td>\n      <td>0.036789</td>\n      <td>-0.277631</td>\n      <td>0.056755</td>\n      <td>0.065749</td>\n      <td>0.069789</td>\n    </tr>\n    <tr>\n      <th>9</th>\n      <td>lasso</td>\n      <td>{'alpha': 0.8}</td>\n      <td>-0.099114</td>\n      <td>0.036789</td>\n      <td>-0.277631</td>\n      <td>0.056755</td>\n      <td>0.065749</td>\n      <td>0.069789</td>\n    </tr>\n    <tr>\n      <th>10</th>\n      <td>lasso</td>\n      <td>{'alpha': 0.9}</td>\n      <td>-0.099114</td>\n      <td>0.036789</td>\n      <td>-0.277631</td>\n      <td>0.056755</td>\n      <td>0.065749</td>\n      <td>0.069789</td>\n    </tr>\n    <tr>\n      <th>11</th>\n      <td>lasso</td>\n      <td>{'alpha': 1}</td>\n      <td>-0.099114</td>\n      <td>0.036789</td>\n      <td>-0.277631</td>\n      <td>0.056755</td>\n      <td>0.065749</td>\n      <td>0.069789</td>\n    </tr>\n    <tr>\n      <th>12</th>\n      <td>lasso</td>\n      <td>{'alpha': 2}</td>\n      <td>-0.099114</td>\n      <td>0.036789</td>\n      <td>-0.277631</td>\n      <td>0.056755</td>\n      <td>0.065749</td>\n      <td>0.069789</td>\n    </tr>\n    <tr>\n      <th>13</th>\n      <td>lasso</td>\n      <td>{'alpha': 3}</td>\n      <td>-0.099114</td>\n      <td>0.036789</td>\n      <td>-0.277631</td>\n      <td>0.056755</td>\n      <td>0.065749</td>\n      <td>0.069789</td>\n    </tr>\n    <tr>\n      <th>14</th>\n      <td>lasso</td>\n      <td>{'alpha': 5}</td>\n      <td>-0.099114</td>\n      <td>0.036789</td>\n      <td>-0.277631</td>\n      <td>0.056755</td>\n      <td>0.065749</td>\n      <td>0.069789</td>\n    </tr>\n    <tr>\n      <th>15</th>\n      <td>lasso</td>\n      <td>{'alpha': 7}</td>\n      <td>-0.099114</td>\n      <td>0.036789</td>\n      <td>-0.277631</td>\n      <td>0.056755</td>\n      <td>0.065749</td>\n      <td>0.069789</td>\n    </tr>\n  </tbody>\n</table>\n</div>"
     },
     "metadata": {},
     "execution_count": 21
    }
   ],
   "source": [
    "grid_search_df.sort_values('mean_test_mse', ascending=False)"
   ]
  },
  {
   "cell_type": "markdown",
   "metadata": {},
   "source": [
    "# Elastic Net "
   ]
  },
  {
   "cell_type": "code",
   "execution_count": 22,
   "metadata": {},
   "outputs": [],
   "source": [
    "PATH = 'elastic_net_grid_search_results.csv'"
   ]
  },
  {
   "cell_type": "code",
   "execution_count": 23,
   "metadata": {},
   "outputs": [],
   "source": [
    "grid_search_df = pd.read_csv(PATH)\n",
    "grid_search_df[\"model\"] = \"elastic_net\"\n",
    "grid_search_df = grid_search_df[[\"model\", 'params', 'mean_test_mse', 'std_test_mse', 'mean_test_mae', 'std_test_mae', 'mean_test_r2', 'std_test_r2']]\n",
    "summary_df = summary_df.append(grid_search_df.sort_values('mean_test_mse', ascending=False).iloc[0], ignore_index=True)"
   ]
  },
  {
   "cell_type": "code",
   "execution_count": 24,
   "metadata": {},
   "outputs": [
    {
     "output_type": "execute_result",
     "data": {
      "text/plain": "          model                            params  mean_test_mse  \\\n0   elastic_net     {'alpha': 0.1, 'l1_ratio': 0}      -0.084052   \n1   elastic_net  {'alpha': 0.1, 'l1_ratio': 0.05}      -0.088404   \n21  elastic_net     {'alpha': 0.2, 'l1_ratio': 0}      -0.089079   \n42  elastic_net     {'alpha': 0.3, 'l1_ratio': 0}      -0.091571   \n2   elastic_net   {'alpha': 0.1, 'l1_ratio': 0.1}      -0.092639   \n..          ...                               ...            ...   \n94  elastic_net   {'alpha': 0.5, 'l1_ratio': 0.5}      -0.099114   \n23  elastic_net   {'alpha': 0.2, 'l1_ratio': 0.1}      -0.099141   \n85  elastic_net  {'alpha': 0.5, 'l1_ratio': 0.05}      -0.099182   \n4   elastic_net   {'alpha': 0.1, 'l1_ratio': 0.2}      -0.099266   \n5   elastic_net  {'alpha': 0.1, 'l1_ratio': 0.25}      -0.099383   \n\n    std_test_mse  mean_test_mae  std_test_mae  mean_test_r2  std_test_r2  \n0       0.032764      -0.247489      0.043629     -0.076311     0.185415  \n1       0.034540      -0.254888      0.048114     -0.038075     0.155737  \n21      0.033786      -0.257548      0.049380     -0.031592     0.135239  \n42      0.034424      -0.262956      0.051384     -0.008351     0.113830  \n2       0.036008      -0.262268      0.052947     -0.000154     0.124298  \n..           ...            ...           ...           ...          ...  \n94      0.036789      -0.277631      0.056755      0.065749     0.069789  \n23      0.037395      -0.276439      0.056952      0.064568     0.077410  \n85      0.036893      -0.277582      0.056716      0.066291     0.070996  \n4       0.037749      -0.275796      0.056958      0.065458     0.083307  \n5       0.037204      -0.277440      0.056609      0.067912     0.074632  \n\n[273 rows x 8 columns]",
      "text/html": "<div>\n<style scoped>\n    .dataframe tbody tr th:only-of-type {\n        vertical-align: middle;\n    }\n\n    .dataframe tbody tr th {\n        vertical-align: top;\n    }\n\n    .dataframe thead th {\n        text-align: right;\n    }\n</style>\n<table border=\"1\" class=\"dataframe\">\n  <thead>\n    <tr style=\"text-align: right;\">\n      <th></th>\n      <th>model</th>\n      <th>params</th>\n      <th>mean_test_mse</th>\n      <th>std_test_mse</th>\n      <th>mean_test_mae</th>\n      <th>std_test_mae</th>\n      <th>mean_test_r2</th>\n      <th>std_test_r2</th>\n    </tr>\n  </thead>\n  <tbody>\n    <tr>\n      <th>0</th>\n      <td>elastic_net</td>\n      <td>{'alpha': 0.1, 'l1_ratio': 0}</td>\n      <td>-0.084052</td>\n      <td>0.032764</td>\n      <td>-0.247489</td>\n      <td>0.043629</td>\n      <td>-0.076311</td>\n      <td>0.185415</td>\n    </tr>\n    <tr>\n      <th>1</th>\n      <td>elastic_net</td>\n      <td>{'alpha': 0.1, 'l1_ratio': 0.05}</td>\n      <td>-0.088404</td>\n      <td>0.034540</td>\n      <td>-0.254888</td>\n      <td>0.048114</td>\n      <td>-0.038075</td>\n      <td>0.155737</td>\n    </tr>\n    <tr>\n      <th>21</th>\n      <td>elastic_net</td>\n      <td>{'alpha': 0.2, 'l1_ratio': 0}</td>\n      <td>-0.089079</td>\n      <td>0.033786</td>\n      <td>-0.257548</td>\n      <td>0.049380</td>\n      <td>-0.031592</td>\n      <td>0.135239</td>\n    </tr>\n    <tr>\n      <th>42</th>\n      <td>elastic_net</td>\n      <td>{'alpha': 0.3, 'l1_ratio': 0}</td>\n      <td>-0.091571</td>\n      <td>0.034424</td>\n      <td>-0.262956</td>\n      <td>0.051384</td>\n      <td>-0.008351</td>\n      <td>0.113830</td>\n    </tr>\n    <tr>\n      <th>2</th>\n      <td>elastic_net</td>\n      <td>{'alpha': 0.1, 'l1_ratio': 0.1}</td>\n      <td>-0.092639</td>\n      <td>0.036008</td>\n      <td>-0.262268</td>\n      <td>0.052947</td>\n      <td>-0.000154</td>\n      <td>0.124298</td>\n    </tr>\n    <tr>\n      <th>...</th>\n      <td>...</td>\n      <td>...</td>\n      <td>...</td>\n      <td>...</td>\n      <td>...</td>\n      <td>...</td>\n      <td>...</td>\n      <td>...</td>\n    </tr>\n    <tr>\n      <th>94</th>\n      <td>elastic_net</td>\n      <td>{'alpha': 0.5, 'l1_ratio': 0.5}</td>\n      <td>-0.099114</td>\n      <td>0.036789</td>\n      <td>-0.277631</td>\n      <td>0.056755</td>\n      <td>0.065749</td>\n      <td>0.069789</td>\n    </tr>\n    <tr>\n      <th>23</th>\n      <td>elastic_net</td>\n      <td>{'alpha': 0.2, 'l1_ratio': 0.1}</td>\n      <td>-0.099141</td>\n      <td>0.037395</td>\n      <td>-0.276439</td>\n      <td>0.056952</td>\n      <td>0.064568</td>\n      <td>0.077410</td>\n    </tr>\n    <tr>\n      <th>85</th>\n      <td>elastic_net</td>\n      <td>{'alpha': 0.5, 'l1_ratio': 0.05}</td>\n      <td>-0.099182</td>\n      <td>0.036893</td>\n      <td>-0.277582</td>\n      <td>0.056716</td>\n      <td>0.066291</td>\n      <td>0.070996</td>\n    </tr>\n    <tr>\n      <th>4</th>\n      <td>elastic_net</td>\n      <td>{'alpha': 0.1, 'l1_ratio': 0.2}</td>\n      <td>-0.099266</td>\n      <td>0.037749</td>\n      <td>-0.275796</td>\n      <td>0.056958</td>\n      <td>0.065458</td>\n      <td>0.083307</td>\n    </tr>\n    <tr>\n      <th>5</th>\n      <td>elastic_net</td>\n      <td>{'alpha': 0.1, 'l1_ratio': 0.25}</td>\n      <td>-0.099383</td>\n      <td>0.037204</td>\n      <td>-0.277440</td>\n      <td>0.056609</td>\n      <td>0.067912</td>\n      <td>0.074632</td>\n    </tr>\n  </tbody>\n</table>\n<p>273 rows × 8 columns</p>\n</div>"
     },
     "metadata": {},
     "execution_count": 24
    }
   ],
   "source": [
    "grid_search_df.sort_values('mean_test_mse', ascending=False)"
   ]
  },
  {
   "cell_type": "markdown",
   "metadata": {},
   "source": [
    "# Ridge"
   ]
  },
  {
   "cell_type": "code",
   "execution_count": 25,
   "metadata": {},
   "outputs": [],
   "source": [
    "PATH = 'ridge_grid_search_results.csv'"
   ]
  },
  {
   "cell_type": "code",
   "execution_count": 26,
   "metadata": {},
   "outputs": [],
   "source": [
    "grid_search_df = pd.read_csv(PATH)\n",
    "grid_search_df[\"model\"] = \"ridge\"\n",
    "grid_search_df = grid_search_df[[\"model\", 'params', 'mean_test_mse', 'std_test_mse', 'mean_test_mae', 'std_test_mae', 'mean_test_r2', 'std_test_r2']]\n",
    "summary_df = summary_df.append(grid_search_df.sort_values('mean_test_mse', ascending=False).iloc[0], ignore_index=True)"
   ]
  },
  {
   "cell_type": "code",
   "execution_count": 27,
   "metadata": {},
   "outputs": [
    {
     "output_type": "execute_result",
     "data": {
      "text/plain": "    model           params  mean_test_mse  std_test_mse  mean_test_mae  \\\n5   ridge   {'alpha': 0.4}      -0.064354      0.032208      -0.211567   \n6   ridge   {'alpha': 0.5}      -0.064703      0.031074      -0.213769   \n4   ridge   {'alpha': 0.3}      -0.064858      0.034767      -0.209011   \n7   ridge   {'alpha': 0.6}      -0.065412      0.030518      -0.215700   \n8   ridge   {'alpha': 0.7}      -0.066268      0.030233      -0.218038   \n9   ridge   {'alpha': 0.8}      -0.067175      0.030092      -0.220086   \n3   ridge   {'alpha': 0.2}      -0.067558      0.041463      -0.206106   \n10  ridge   {'alpha': 0.9}      -0.068083      0.030035      -0.221899   \n11  ridge     {'alpha': 1}      -0.068969      0.030030      -0.223520   \n12  ridge     {'alpha': 2}      -0.075811      0.030814      -0.233784   \n2   ridge   {'alpha': 0.1}      -0.077337      0.062896      -0.205175   \n13  ridge     {'alpha': 3}      -0.079980      0.031672      -0.240324   \n14  ridge     {'alpha': 4}      -0.082766      0.032319      -0.245549   \n15  ridge     {'alpha': 5}      -0.084774      0.032804      -0.249048   \n16  ridge     {'alpha': 6}      -0.086300      0.033179      -0.251572   \n17  ridge     {'alpha': 7}      -0.087505      0.033479      -0.253527   \n18  ridge     {'alpha': 8}      -0.088486      0.033726      -0.255339   \n19  ridge     {'alpha': 9}      -0.089302      0.033933      -0.256986   \n20  ridge    {'alpha': 10}      -0.089993      0.034111      -0.258452   \n21  ridge    {'alpha': 13}      -0.091560      0.034523      -0.261783   \n1   ridge  {'alpha': 0.05}      -0.091576      0.092826      -0.210243   \n22  ridge    {'alpha': 15}      -0.092325      0.034730      -0.263412   \n23  ridge    {'alpha': 17}      -0.092944      0.034900      -0.264731   \n0   ridge  {'alpha': 0.01}      -0.125100      0.154808      -0.229303   \n\n    std_test_mae  mean_test_r2  std_test_r2  \n5       0.050650     -0.272038     0.320322  \n6       0.047910     -0.263674     0.318853  \n4       0.054716     -0.275314     0.323039  \n7       0.045982     -0.253660     0.316481  \n8       0.044259     -0.243343     0.313106  \n9       0.042922     -0.233279     0.308983  \n3       0.061177     -0.263491     0.340021  \n10      0.041872     -0.223693     0.304368  \n11      0.041039     -0.214663     0.299466  \n12      0.038278     -0.150148     0.252133  \n2       0.071395     -0.198043     0.446191  \n13      0.039600     -0.112842     0.217814  \n14      0.042083     -0.088116     0.193500  \n15      0.043960     -0.070244     0.175556  \n16      0.045422     -0.056573     0.161808  \n17      0.046640     -0.045692     0.150958  \n18      0.047706     -0.036777     0.142190  \n19      0.048498     -0.029307     0.134969  \n20      0.049116     -0.022938     0.128929  \n21      0.050515     -0.008349     0.115628  \n1       0.079414     -0.090408     0.639403  \n22      0.051194     -0.001144     0.109405  \n23      0.051738      0.004731     0.104534  \n0       0.100243      0.178620     1.072062  ",
      "text/html": "<div>\n<style scoped>\n    .dataframe tbody tr th:only-of-type {\n        vertical-align: middle;\n    }\n\n    .dataframe tbody tr th {\n        vertical-align: top;\n    }\n\n    .dataframe thead th {\n        text-align: right;\n    }\n</style>\n<table border=\"1\" class=\"dataframe\">\n  <thead>\n    <tr style=\"text-align: right;\">\n      <th></th>\n      <th>model</th>\n      <th>params</th>\n      <th>mean_test_mse</th>\n      <th>std_test_mse</th>\n      <th>mean_test_mae</th>\n      <th>std_test_mae</th>\n      <th>mean_test_r2</th>\n      <th>std_test_r2</th>\n    </tr>\n  </thead>\n  <tbody>\n    <tr>\n      <th>5</th>\n      <td>ridge</td>\n      <td>{'alpha': 0.4}</td>\n      <td>-0.064354</td>\n      <td>0.032208</td>\n      <td>-0.211567</td>\n      <td>0.050650</td>\n      <td>-0.272038</td>\n      <td>0.320322</td>\n    </tr>\n    <tr>\n      <th>6</th>\n      <td>ridge</td>\n      <td>{'alpha': 0.5}</td>\n      <td>-0.064703</td>\n      <td>0.031074</td>\n      <td>-0.213769</td>\n      <td>0.047910</td>\n      <td>-0.263674</td>\n      <td>0.318853</td>\n    </tr>\n    <tr>\n      <th>4</th>\n      <td>ridge</td>\n      <td>{'alpha': 0.3}</td>\n      <td>-0.064858</td>\n      <td>0.034767</td>\n      <td>-0.209011</td>\n      <td>0.054716</td>\n      <td>-0.275314</td>\n      <td>0.323039</td>\n    </tr>\n    <tr>\n      <th>7</th>\n      <td>ridge</td>\n      <td>{'alpha': 0.6}</td>\n      <td>-0.065412</td>\n      <td>0.030518</td>\n      <td>-0.215700</td>\n      <td>0.045982</td>\n      <td>-0.253660</td>\n      <td>0.316481</td>\n    </tr>\n    <tr>\n      <th>8</th>\n      <td>ridge</td>\n      <td>{'alpha': 0.7}</td>\n      <td>-0.066268</td>\n      <td>0.030233</td>\n      <td>-0.218038</td>\n      <td>0.044259</td>\n      <td>-0.243343</td>\n      <td>0.313106</td>\n    </tr>\n    <tr>\n      <th>9</th>\n      <td>ridge</td>\n      <td>{'alpha': 0.8}</td>\n      <td>-0.067175</td>\n      <td>0.030092</td>\n      <td>-0.220086</td>\n      <td>0.042922</td>\n      <td>-0.233279</td>\n      <td>0.308983</td>\n    </tr>\n    <tr>\n      <th>3</th>\n      <td>ridge</td>\n      <td>{'alpha': 0.2}</td>\n      <td>-0.067558</td>\n      <td>0.041463</td>\n      <td>-0.206106</td>\n      <td>0.061177</td>\n      <td>-0.263491</td>\n      <td>0.340021</td>\n    </tr>\n    <tr>\n      <th>10</th>\n      <td>ridge</td>\n      <td>{'alpha': 0.9}</td>\n      <td>-0.068083</td>\n      <td>0.030035</td>\n      <td>-0.221899</td>\n      <td>0.041872</td>\n      <td>-0.223693</td>\n      <td>0.304368</td>\n    </tr>\n    <tr>\n      <th>11</th>\n      <td>ridge</td>\n      <td>{'alpha': 1}</td>\n      <td>-0.068969</td>\n      <td>0.030030</td>\n      <td>-0.223520</td>\n      <td>0.041039</td>\n      <td>-0.214663</td>\n      <td>0.299466</td>\n    </tr>\n    <tr>\n      <th>12</th>\n      <td>ridge</td>\n      <td>{'alpha': 2}</td>\n      <td>-0.075811</td>\n      <td>0.030814</td>\n      <td>-0.233784</td>\n      <td>0.038278</td>\n      <td>-0.150148</td>\n      <td>0.252133</td>\n    </tr>\n    <tr>\n      <th>2</th>\n      <td>ridge</td>\n      <td>{'alpha': 0.1}</td>\n      <td>-0.077337</td>\n      <td>0.062896</td>\n      <td>-0.205175</td>\n      <td>0.071395</td>\n      <td>-0.198043</td>\n      <td>0.446191</td>\n    </tr>\n    <tr>\n      <th>13</th>\n      <td>ridge</td>\n      <td>{'alpha': 3}</td>\n      <td>-0.079980</td>\n      <td>0.031672</td>\n      <td>-0.240324</td>\n      <td>0.039600</td>\n      <td>-0.112842</td>\n      <td>0.217814</td>\n    </tr>\n    <tr>\n      <th>14</th>\n      <td>ridge</td>\n      <td>{'alpha': 4}</td>\n      <td>-0.082766</td>\n      <td>0.032319</td>\n      <td>-0.245549</td>\n      <td>0.042083</td>\n      <td>-0.088116</td>\n      <td>0.193500</td>\n    </tr>\n    <tr>\n      <th>15</th>\n      <td>ridge</td>\n      <td>{'alpha': 5}</td>\n      <td>-0.084774</td>\n      <td>0.032804</td>\n      <td>-0.249048</td>\n      <td>0.043960</td>\n      <td>-0.070244</td>\n      <td>0.175556</td>\n    </tr>\n    <tr>\n      <th>16</th>\n      <td>ridge</td>\n      <td>{'alpha': 6}</td>\n      <td>-0.086300</td>\n      <td>0.033179</td>\n      <td>-0.251572</td>\n      <td>0.045422</td>\n      <td>-0.056573</td>\n      <td>0.161808</td>\n    </tr>\n    <tr>\n      <th>17</th>\n      <td>ridge</td>\n      <td>{'alpha': 7}</td>\n      <td>-0.087505</td>\n      <td>0.033479</td>\n      <td>-0.253527</td>\n      <td>0.046640</td>\n      <td>-0.045692</td>\n      <td>0.150958</td>\n    </tr>\n    <tr>\n      <th>18</th>\n      <td>ridge</td>\n      <td>{'alpha': 8}</td>\n      <td>-0.088486</td>\n      <td>0.033726</td>\n      <td>-0.255339</td>\n      <td>0.047706</td>\n      <td>-0.036777</td>\n      <td>0.142190</td>\n    </tr>\n    <tr>\n      <th>19</th>\n      <td>ridge</td>\n      <td>{'alpha': 9}</td>\n      <td>-0.089302</td>\n      <td>0.033933</td>\n      <td>-0.256986</td>\n      <td>0.048498</td>\n      <td>-0.029307</td>\n      <td>0.134969</td>\n    </tr>\n    <tr>\n      <th>20</th>\n      <td>ridge</td>\n      <td>{'alpha': 10}</td>\n      <td>-0.089993</td>\n      <td>0.034111</td>\n      <td>-0.258452</td>\n      <td>0.049116</td>\n      <td>-0.022938</td>\n      <td>0.128929</td>\n    </tr>\n    <tr>\n      <th>21</th>\n      <td>ridge</td>\n      <td>{'alpha': 13}</td>\n      <td>-0.091560</td>\n      <td>0.034523</td>\n      <td>-0.261783</td>\n      <td>0.050515</td>\n      <td>-0.008349</td>\n      <td>0.115628</td>\n    </tr>\n    <tr>\n      <th>1</th>\n      <td>ridge</td>\n      <td>{'alpha': 0.05}</td>\n      <td>-0.091576</td>\n      <td>0.092826</td>\n      <td>-0.210243</td>\n      <td>0.079414</td>\n      <td>-0.090408</td>\n      <td>0.639403</td>\n    </tr>\n    <tr>\n      <th>22</th>\n      <td>ridge</td>\n      <td>{'alpha': 15}</td>\n      <td>-0.092325</td>\n      <td>0.034730</td>\n      <td>-0.263412</td>\n      <td>0.051194</td>\n      <td>-0.001144</td>\n      <td>0.109405</td>\n    </tr>\n    <tr>\n      <th>23</th>\n      <td>ridge</td>\n      <td>{'alpha': 17}</td>\n      <td>-0.092944</td>\n      <td>0.034900</td>\n      <td>-0.264731</td>\n      <td>0.051738</td>\n      <td>0.004731</td>\n      <td>0.104534</td>\n    </tr>\n    <tr>\n      <th>0</th>\n      <td>ridge</td>\n      <td>{'alpha': 0.01}</td>\n      <td>-0.125100</td>\n      <td>0.154808</td>\n      <td>-0.229303</td>\n      <td>0.100243</td>\n      <td>0.178620</td>\n      <td>1.072062</td>\n    </tr>\n  </tbody>\n</table>\n</div>"
     },
     "metadata": {},
     "execution_count": 27
    }
   ],
   "source": [
    "grid_search_df.sort_values('mean_test_mse', ascending=False)"
   ]
  },
  {
   "cell_type": "markdown",
   "metadata": {},
   "source": [
    "# SGD"
   ]
  },
  {
   "cell_type": "code",
   "execution_count": 28,
   "metadata": {},
   "outputs": [],
   "source": [
    "PATH = 'sgd_grid_search_results.csv'"
   ]
  },
  {
   "cell_type": "code",
   "execution_count": 29,
   "metadata": {},
   "outputs": [],
   "source": [
    "grid_search_df = pd.read_csv(PATH)\n",
    "grid_search_df[\"model\"] = \"sgd\"\n",
    "grid_search_df = grid_search_df[[\"model\", 'params', 'mean_test_mse', 'std_test_mse', 'mean_test_mae', 'std_test_mae', 'mean_test_r2', 'std_test_r2']]\n",
    "summary_df = summary_df.append(grid_search_df.sort_values('mean_test_mse', ascending=False).iloc[0], ignore_index=True)"
   ]
  },
  {
   "cell_type": "code",
   "execution_count": 30,
   "metadata": {},
   "outputs": [
    {
     "output_type": "execute_result",
     "data": {
      "text/plain": "     model                                             params  mean_test_mse  \\\n9236   sgd  {'alpha': 0.01, 'epsilon': 0.15, 'l1_ratio': 0...  -6.093066e-02   \n1734   sgd  {'alpha': 0.0001, 'epsilon': 0.15, 'l1_ratio':...  -6.251512e-02   \n5384   sgd  {'alpha': 0.001, 'epsilon': 0.15, 'l1_ratio': ...  -6.258214e-02   \n5898   sgd  {'alpha': 0.001, 'epsilon': 0.15, 'l1_ratio': ...  -6.269305e-02   \n3128   sgd  {'alpha': 0.0001, 'epsilon': 0.05, 'l1_ratio':...  -6.298844e-02   \n...    ...                                                ...            ...   \n838    sgd  {'alpha': 0.0001, 'epsilon': 0.2, 'l1_ratio': ...  -1.685061e+26   \n1212   sgd  {'alpha': 0.0001, 'epsilon': 0.15, 'l1_ratio':...  -1.727567e+26   \n1646   sgd  {'alpha': 0.0001, 'epsilon': 0.15, 'l1_ratio':...  -1.808588e+26   \n23     sgd  {'alpha': 0.0001, 'epsilon': 0.2, 'l1_ratio': ...  -1.854878e+26   \n3084   sgd  {'alpha': 0.0001, 'epsilon': 0.05, 'l1_ratio':...  -2.242528e+26   \n\n      std_test_mse  mean_test_mae  std_test_mae  mean_test_r2   std_test_r2  \n9236  2.336928e-02  -2.021186e-01  3.960388e-02 -2.868883e-01  2.979664e-01  \n1734  2.561055e-02  -2.094248e-01  4.285666e-02 -2.712353e-01  3.125045e-01  \n5384  3.133967e-02  -2.094053e-01  4.304416e-02 -2.823695e-01  3.176167e-01  \n5898  3.109468e-02  -2.090387e-01  4.513058e-02 -2.736452e-01  3.355196e-01  \n3128  3.030825e-02  -2.122366e-01  5.881337e-02 -2.623130e-01  3.823703e-01  \n...            ...            ...           ...           ...           ...  \n838   4.050662e+26  -7.810884e+12  9.032782e+12  1.423853e+27  2.891267e+27  \n1212  2.621464e+26  -9.100975e+12  9.050718e+12  2.581017e+27  4.392407e+27  \n1646  2.286303e+26  -9.688520e+12  6.757319e+12  1.611758e+27  1.733972e+27  \n23    2.990071e+26  -9.083968e+12  9.341060e+12  2.529908e+27  4.938746e+27  \n3084  2.471133e+26  -1.233416e+13  8.061413e+12  3.013442e+27  4.032482e+27  \n\n[20160 rows x 8 columns]",
      "text/html": "<div>\n<style scoped>\n    .dataframe tbody tr th:only-of-type {\n        vertical-align: middle;\n    }\n\n    .dataframe tbody tr th {\n        vertical-align: top;\n    }\n\n    .dataframe thead th {\n        text-align: right;\n    }\n</style>\n<table border=\"1\" class=\"dataframe\">\n  <thead>\n    <tr style=\"text-align: right;\">\n      <th></th>\n      <th>model</th>\n      <th>params</th>\n      <th>mean_test_mse</th>\n      <th>std_test_mse</th>\n      <th>mean_test_mae</th>\n      <th>std_test_mae</th>\n      <th>mean_test_r2</th>\n      <th>std_test_r2</th>\n    </tr>\n  </thead>\n  <tbody>\n    <tr>\n      <th>9236</th>\n      <td>sgd</td>\n      <td>{'alpha': 0.01, 'epsilon': 0.15, 'l1_ratio': 0...</td>\n      <td>-6.093066e-02</td>\n      <td>2.336928e-02</td>\n      <td>-2.021186e-01</td>\n      <td>3.960388e-02</td>\n      <td>-2.868883e-01</td>\n      <td>2.979664e-01</td>\n    </tr>\n    <tr>\n      <th>1734</th>\n      <td>sgd</td>\n      <td>{'alpha': 0.0001, 'epsilon': 0.15, 'l1_ratio':...</td>\n      <td>-6.251512e-02</td>\n      <td>2.561055e-02</td>\n      <td>-2.094248e-01</td>\n      <td>4.285666e-02</td>\n      <td>-2.712353e-01</td>\n      <td>3.125045e-01</td>\n    </tr>\n    <tr>\n      <th>5384</th>\n      <td>sgd</td>\n      <td>{'alpha': 0.001, 'epsilon': 0.15, 'l1_ratio': ...</td>\n      <td>-6.258214e-02</td>\n      <td>3.133967e-02</td>\n      <td>-2.094053e-01</td>\n      <td>4.304416e-02</td>\n      <td>-2.823695e-01</td>\n      <td>3.176167e-01</td>\n    </tr>\n    <tr>\n      <th>5898</th>\n      <td>sgd</td>\n      <td>{'alpha': 0.001, 'epsilon': 0.15, 'l1_ratio': ...</td>\n      <td>-6.269305e-02</td>\n      <td>3.109468e-02</td>\n      <td>-2.090387e-01</td>\n      <td>4.513058e-02</td>\n      <td>-2.736452e-01</td>\n      <td>3.355196e-01</td>\n    </tr>\n    <tr>\n      <th>3128</th>\n      <td>sgd</td>\n      <td>{'alpha': 0.0001, 'epsilon': 0.05, 'l1_ratio':...</td>\n      <td>-6.298844e-02</td>\n      <td>3.030825e-02</td>\n      <td>-2.122366e-01</td>\n      <td>5.881337e-02</td>\n      <td>-2.623130e-01</td>\n      <td>3.823703e-01</td>\n    </tr>\n    <tr>\n      <th>...</th>\n      <td>...</td>\n      <td>...</td>\n      <td>...</td>\n      <td>...</td>\n      <td>...</td>\n      <td>...</td>\n      <td>...</td>\n      <td>...</td>\n    </tr>\n    <tr>\n      <th>838</th>\n      <td>sgd</td>\n      <td>{'alpha': 0.0001, 'epsilon': 0.2, 'l1_ratio': ...</td>\n      <td>-1.685061e+26</td>\n      <td>4.050662e+26</td>\n      <td>-7.810884e+12</td>\n      <td>9.032782e+12</td>\n      <td>1.423853e+27</td>\n      <td>2.891267e+27</td>\n    </tr>\n    <tr>\n      <th>1212</th>\n      <td>sgd</td>\n      <td>{'alpha': 0.0001, 'epsilon': 0.15, 'l1_ratio':...</td>\n      <td>-1.727567e+26</td>\n      <td>2.621464e+26</td>\n      <td>-9.100975e+12</td>\n      <td>9.050718e+12</td>\n      <td>2.581017e+27</td>\n      <td>4.392407e+27</td>\n    </tr>\n    <tr>\n      <th>1646</th>\n      <td>sgd</td>\n      <td>{'alpha': 0.0001, 'epsilon': 0.15, 'l1_ratio':...</td>\n      <td>-1.808588e+26</td>\n      <td>2.286303e+26</td>\n      <td>-9.688520e+12</td>\n      <td>6.757319e+12</td>\n      <td>1.611758e+27</td>\n      <td>1.733972e+27</td>\n    </tr>\n    <tr>\n      <th>23</th>\n      <td>sgd</td>\n      <td>{'alpha': 0.0001, 'epsilon': 0.2, 'l1_ratio': ...</td>\n      <td>-1.854878e+26</td>\n      <td>2.990071e+26</td>\n      <td>-9.083968e+12</td>\n      <td>9.341060e+12</td>\n      <td>2.529908e+27</td>\n      <td>4.938746e+27</td>\n    </tr>\n    <tr>\n      <th>3084</th>\n      <td>sgd</td>\n      <td>{'alpha': 0.0001, 'epsilon': 0.05, 'l1_ratio':...</td>\n      <td>-2.242528e+26</td>\n      <td>2.471133e+26</td>\n      <td>-1.233416e+13</td>\n      <td>8.061413e+12</td>\n      <td>3.013442e+27</td>\n      <td>4.032482e+27</td>\n    </tr>\n  </tbody>\n</table>\n<p>20160 rows × 8 columns</p>\n</div>"
     },
     "metadata": {},
     "execution_count": 30
    }
   ],
   "source": [
    "grid_search_df.sort_values('mean_test_mse', ascending=False)"
   ]
  },
  {
   "cell_type": "code",
   "execution_count": 31,
   "metadata": {},
   "outputs": [
    {
     "output_type": "execute_result",
     "data": {
      "text/plain": "array([\"{'alpha': 0.01, 'epsilon': 0.15, 'l1_ratio': 0.15, 'learning_rate': 'optimal', 'loss': 'epsilon_insensitive', 'penalty': 'elasticnet'}\",\n       \"{'alpha': 0.0001, 'epsilon': 0.15, 'l1_ratio': 0.75, 'learning_rate': 'constant', 'loss': 'epsilon_insensitive', 'penalty': 'l2'}\",\n       \"{'alpha': 0.001, 'epsilon': 0.15, 'l1_ratio': 0.35, 'learning_rate': 'constant', 'loss': 'epsilon_insensitive', 'penalty': 'elasticnet'}\",\n       \"{'alpha': 0.001, 'epsilon': 0.15, 'l1_ratio': 0.85, 'learning_rate': 'adaptive', 'loss': 'epsilon_insensitive', 'penalty': 'l2'}\",\n       \"{'alpha': 0.0001, 'epsilon': 0.05, 'l1_ratio': 0.1, 'learning_rate': 'constant', 'loss': 'epsilon_insensitive', 'penalty': 'elasticnet'}\",\n       \"{'alpha': 0.001, 'epsilon': 0.15, 'l1_ratio': 0.7, 'learning_rate': 'adaptive', 'loss': 'epsilon_insensitive', 'penalty': 'elasticnet'}\",\n       \"{'alpha': 0.001, 'epsilon': 0.15, 'l1_ratio': 0.1, 'learning_rate': 'constant', 'loss': 'epsilon_insensitive', 'penalty': 'elasticnet'}\",\n       \"{'alpha': 0.0001, 'epsilon': 0.15, 'l1_ratio': 0.9, 'learning_rate': 'adaptive', 'loss': 'epsilon_insensitive', 'penalty': 'l2'}\",\n       \"{'alpha': 0.0001, 'epsilon': 0.15, 'l1_ratio': 0.15, 'learning_rate': 'adaptive', 'loss': 'epsilon_insensitive', 'penalty': 'l1'}\",\n       \"{'alpha': 0.0001, 'epsilon': 0.15, 'l1_ratio': 0.15, 'learning_rate': 'adaptive', 'loss': 'epsilon_insensitive', 'penalty': 'l2'}\",\n       \"{'alpha': 0.001, 'epsilon': 0.15, 'l1_ratio': 0.55, 'learning_rate': 'constant', 'loss': 'epsilon_insensitive', 'penalty': 'l2'}\",\n       \"{'alpha': 0.0001, 'epsilon': 0.15, 'l1_ratio': 0.8, 'learning_rate': 'adaptive', 'loss': 'epsilon_insensitive', 'penalty': 'l1'}\",\n       \"{'alpha': 0.001, 'epsilon': 0.15, 'l1_ratio': 0.1, 'learning_rate': 'constant', 'loss': 'epsilon_insensitive', 'penalty': 'l1'}\",\n       \"{'alpha': 0.001, 'epsilon': 0.15, 'l1_ratio': 0.05, 'learning_rate': 'constant', 'loss': 'epsilon_insensitive', 'penalty': 'elasticnet'}\",\n       \"{'alpha': 0.0001, 'epsilon': 0.15, 'l1_ratio': 0.85, 'learning_rate': 'adaptive', 'loss': 'epsilon_insensitive', 'penalty': 'l1'}\",\n       \"{'alpha': 0.001, 'epsilon': 0.15, 'l1_ratio': 0.6, 'learning_rate': 'constant', 'loss': 'epsilon_insensitive', 'penalty': 'elasticnet'}\",\n       \"{'alpha': 0.0001, 'epsilon': 0.15, 'l1_ratio': 0.4, 'learning_rate': 'adaptive', 'loss': 'epsilon_insensitive', 'penalty': 'l2'}\",\n       \"{'alpha': 0.001, 'epsilon': 0.15, 'l1_ratio': 0.8, 'learning_rate': 'constant', 'loss': 'epsilon_insensitive', 'penalty': 'l2'}\",\n       \"{'alpha': 0.0001, 'epsilon': 0.15, 'l1_ratio': 0.6, 'learning_rate': 'adaptive', 'loss': 'epsilon_insensitive', 'penalty': 'l1'}\",\n       \"{'alpha': 0.0001, 'epsilon': 0.15, 'l1_ratio': 0.45, 'learning_rate': 'adaptive', 'loss': 'epsilon_insensitive', 'penalty': 'l2'}\"],\n      dtype=object)"
     },
     "metadata": {},
     "execution_count": 31
    }
   ],
   "source": [
    "grid_search_df.sort_values('mean_test_mse', ascending=False)[\"params\"].head(20).values"
   ]
  },
  {
   "cell_type": "markdown",
   "metadata": {},
   "source": [
    "# Sumário"
   ]
  },
  {
   "cell_type": "code",
   "execution_count": 32,
   "metadata": {},
   "outputs": [
    {
     "output_type": "execute_result",
     "data": {
      "text/plain": "           model                                             params  \\\n0  random_forest          {'criterion': 'mae', 'n_estimators': 200}   \n1      ada_boost  {'learning_rate': 0.6, 'loss': 'square', 'n_es...   \n2            svm  {'C': 0.8, 'degree': 2, 'epsilon': 0.05, 'kern...   \n3            knn  {'metric': 'minkowski', 'n_neighbors': 7, 'p': 1}   \n7            sgd  {'alpha': 0.01, 'epsilon': 0.15, 'l1_ratio': 0...   \n6          ridge                                     {'alpha': 0.4}   \n5    elastic_net                      {'alpha': 0.1, 'l1_ratio': 0}   \n4          lasso                                    {'alpha': 0.01}   \n\n   mean_test_mse  std_test_mse  mean_test_mae  std_test_mae  mean_test_r2  \\\n0      -0.023511      0.022987      -0.110588      0.049179     -0.637894   \n1      -0.031570      0.026710      -0.124276      0.047959     -0.494884   \n2      -0.036729      0.034001      -0.142503      0.058847     -0.579265   \n3      -0.042408      0.033753      -0.153458      0.052378     -0.561840   \n7      -0.060931      0.023369      -0.202119      0.039604     -0.286888   \n6      -0.064354      0.032208      -0.211567      0.050650     -0.272038   \n5      -0.084052      0.032764      -0.247489      0.043629     -0.076311   \n4      -0.086076      0.034415      -0.252189      0.043549     -0.040955   \n\n   std_test_r2  \n0     0.347751  \n1     0.482878  \n2     0.328329  \n3     0.243121  \n7     0.297966  \n6     0.320322  \n5     0.185415  \n4     0.250532  ",
      "text/html": "<div>\n<style scoped>\n    .dataframe tbody tr th:only-of-type {\n        vertical-align: middle;\n    }\n\n    .dataframe tbody tr th {\n        vertical-align: top;\n    }\n\n    .dataframe thead th {\n        text-align: right;\n    }\n</style>\n<table border=\"1\" class=\"dataframe\">\n  <thead>\n    <tr style=\"text-align: right;\">\n      <th></th>\n      <th>model</th>\n      <th>params</th>\n      <th>mean_test_mse</th>\n      <th>std_test_mse</th>\n      <th>mean_test_mae</th>\n      <th>std_test_mae</th>\n      <th>mean_test_r2</th>\n      <th>std_test_r2</th>\n    </tr>\n  </thead>\n  <tbody>\n    <tr>\n      <th>0</th>\n      <td>random_forest</td>\n      <td>{'criterion': 'mae', 'n_estimators': 200}</td>\n      <td>-0.023511</td>\n      <td>0.022987</td>\n      <td>-0.110588</td>\n      <td>0.049179</td>\n      <td>-0.637894</td>\n      <td>0.347751</td>\n    </tr>\n    <tr>\n      <th>1</th>\n      <td>ada_boost</td>\n      <td>{'learning_rate': 0.6, 'loss': 'square', 'n_es...</td>\n      <td>-0.031570</td>\n      <td>0.026710</td>\n      <td>-0.124276</td>\n      <td>0.047959</td>\n      <td>-0.494884</td>\n      <td>0.482878</td>\n    </tr>\n    <tr>\n      <th>2</th>\n      <td>svm</td>\n      <td>{'C': 0.8, 'degree': 2, 'epsilon': 0.05, 'kern...</td>\n      <td>-0.036729</td>\n      <td>0.034001</td>\n      <td>-0.142503</td>\n      <td>0.058847</td>\n      <td>-0.579265</td>\n      <td>0.328329</td>\n    </tr>\n    <tr>\n      <th>3</th>\n      <td>knn</td>\n      <td>{'metric': 'minkowski', 'n_neighbors': 7, 'p': 1}</td>\n      <td>-0.042408</td>\n      <td>0.033753</td>\n      <td>-0.153458</td>\n      <td>0.052378</td>\n      <td>-0.561840</td>\n      <td>0.243121</td>\n    </tr>\n    <tr>\n      <th>7</th>\n      <td>sgd</td>\n      <td>{'alpha': 0.01, 'epsilon': 0.15, 'l1_ratio': 0...</td>\n      <td>-0.060931</td>\n      <td>0.023369</td>\n      <td>-0.202119</td>\n      <td>0.039604</td>\n      <td>-0.286888</td>\n      <td>0.297966</td>\n    </tr>\n    <tr>\n      <th>6</th>\n      <td>ridge</td>\n      <td>{'alpha': 0.4}</td>\n      <td>-0.064354</td>\n      <td>0.032208</td>\n      <td>-0.211567</td>\n      <td>0.050650</td>\n      <td>-0.272038</td>\n      <td>0.320322</td>\n    </tr>\n    <tr>\n      <th>5</th>\n      <td>elastic_net</td>\n      <td>{'alpha': 0.1, 'l1_ratio': 0}</td>\n      <td>-0.084052</td>\n      <td>0.032764</td>\n      <td>-0.247489</td>\n      <td>0.043629</td>\n      <td>-0.076311</td>\n      <td>0.185415</td>\n    </tr>\n    <tr>\n      <th>4</th>\n      <td>lasso</td>\n      <td>{'alpha': 0.01}</td>\n      <td>-0.086076</td>\n      <td>0.034415</td>\n      <td>-0.252189</td>\n      <td>0.043549</td>\n      <td>-0.040955</td>\n      <td>0.250532</td>\n    </tr>\n  </tbody>\n</table>\n</div>"
     },
     "metadata": {},
     "execution_count": 32
    }
   ],
   "source": [
    "summary_df.sort_values(by='mean_test_mse', ascending=False).head(20)"
   ]
  },
  {
   "cell_type": "code",
   "execution_count": null,
   "metadata": {},
   "outputs": [],
   "source": []
  }
 ],
 "metadata": {
  "language_info": {
   "name": "python",
   "codemirror_mode": {
    "name": "ipython",
    "version": 3
   },
   "version": "3.6.9-final"
  },
  "orig_nbformat": 2,
  "file_extension": ".py",
  "mimetype": "text/x-python",
  "name": "python",
  "npconvert_exporter": "python",
  "pygments_lexer": "ipython3",
  "version": 3,
  "kernelspec": {
   "name": "python36964bitbertvirtualenv054cbb15ab924922a35a349b12e89805",
   "display_name": "Python 3.6.9 64-bit ('bert': virtualenv)"
  }
 },
 "nbformat": 4,
 "nbformat_minor": 2
}