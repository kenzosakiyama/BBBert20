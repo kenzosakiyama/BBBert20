{
 "cells": [
  {
   "cell_type": "code",
   "execution_count": 1,
   "metadata": {},
   "outputs": [],
   "source": [
    "import pandas as pd"
   ]
  },
  {
   "cell_type": "code",
   "execution_count": 2,
   "metadata": {},
   "outputs": [],
   "source": [
    "summary_df = pd.DataFrame(columns=[\"model\", 'params', 'mean_test_mse', 'std_test_mse', 'mean_test_mae', 'std_test_mae', 'mean_test_r2', 'std_test_r2'])"
   ]
  },
  {
   "cell_type": "code",
   "execution_count": 3,
   "metadata": {},
   "outputs": [
    {
     "output_type": "execute_result",
     "data": {
      "text/plain": "Empty DataFrame\nColumns: [model, params, mean_test_mse, std_test_mse, mean_test_mae, std_test_mae, mean_test_r2, std_test_r2]\nIndex: []",
      "text/html": "<div>\n<style scoped>\n    .dataframe tbody tr th:only-of-type {\n        vertical-align: middle;\n    }\n\n    .dataframe tbody tr th {\n        vertical-align: top;\n    }\n\n    .dataframe thead th {\n        text-align: right;\n    }\n</style>\n<table border=\"1\" class=\"dataframe\">\n  <thead>\n    <tr style=\"text-align: right;\">\n      <th></th>\n      <th>model</th>\n      <th>params</th>\n      <th>mean_test_mse</th>\n      <th>std_test_mse</th>\n      <th>mean_test_mae</th>\n      <th>std_test_mae</th>\n      <th>mean_test_r2</th>\n      <th>std_test_r2</th>\n    </tr>\n  </thead>\n  <tbody>\n  </tbody>\n</table>\n</div>"
     },
     "metadata": {},
     "execution_count": 3
    }
   ],
   "source": [
    "summary_df"
   ]
  },
  {
   "cell_type": "markdown",
   "metadata": {},
   "source": [
    "# Random Forest Regressor"
   ]
  },
  {
   "cell_type": "code",
   "execution_count": 4,
   "metadata": {},
   "outputs": [],
   "source": [
    "PATH = 'random_forest_grid_search_results.csv'"
   ]
  },
  {
   "cell_type": "code",
   "execution_count": 5,
   "metadata": {},
   "outputs": [],
   "source": [
    "grid_search_df = pd.read_csv(PATH)"
   ]
  },
  {
   "cell_type": "code",
   "execution_count": 6,
   "metadata": {},
   "outputs": [],
   "source": [
    "grid_search_df[\"model\"] = \"random_forest\"\n",
    "grid_search_df = grid_search_df[[\"model\", 'params', 'mean_test_mse', 'std_test_mse', 'mean_test_mae', 'std_test_mae', 'mean_test_r2', 'std_test_r2']]\n",
    "summary_df = summary_df.append(grid_search_df.sort_values('mean_test_mse', ascending=False).iloc[0], ignore_index=True)"
   ]
  },
  {
   "cell_type": "code",
   "execution_count": 7,
   "metadata": {},
   "outputs": [
    {
     "output_type": "execute_result",
     "data": {
      "text/plain": "            model                                       params  mean_test_mse  \\\n0   random_forest    {'criterion': 'mse', 'n_estimators': 100}      -0.035584   \n2   random_forest    {'criterion': 'mse', 'n_estimators': 500}      -0.035929   \n3   random_forest   {'criterion': 'mse', 'n_estimators': 1000}      -0.036096   \n6   random_forest   {'criterion': 'mse', 'n_estimators': 5000}      -0.036185   \n5   random_forest   {'criterion': 'mse', 'n_estimators': 3000}      -0.036226   \n14  random_forest   {'criterion': 'mae', 'n_estimators': 5000}      -0.036305   \n7   random_forest  {'criterion': 'mse', 'n_estimators': 10000}      -0.036325   \n4   random_forest   {'criterion': 'mse', 'n_estimators': 2000}      -0.036325   \n1   random_forest    {'criterion': 'mse', 'n_estimators': 200}      -0.036355   \n13  random_forest   {'criterion': 'mae', 'n_estimators': 3000}      -0.036392   \n12  random_forest   {'criterion': 'mae', 'n_estimators': 2000}      -0.036452   \n15  random_forest  {'criterion': 'mae', 'n_estimators': 10000}      -0.036613   \n10  random_forest    {'criterion': 'mae', 'n_estimators': 500}      -0.036800   \n9   random_forest    {'criterion': 'mae', 'n_estimators': 200}      -0.036842   \n11  random_forest   {'criterion': 'mae', 'n_estimators': 1000}      -0.037536   \n8   random_forest    {'criterion': 'mae', 'n_estimators': 100}      -0.039661   \n\n    std_test_mse  mean_test_mae  std_test_mae  mean_test_r2  std_test_r2  \n0       0.024875      -0.145924      0.050130     -0.506961     0.340047  \n2       0.028810      -0.142784      0.056024     -0.517486     0.352960  \n3       0.028159      -0.144464      0.055664     -0.514464     0.353467  \n6       0.028753      -0.143633      0.056729     -0.512861     0.369221  \n5       0.028508      -0.144110      0.056242     -0.511453     0.365413  \n14      0.027775      -0.141904      0.057435     -0.503625     0.382195  \n7       0.028329      -0.144248      0.056048     -0.509766     0.362298  \n4       0.028373      -0.144038      0.056433     -0.511858     0.360564  \n1       0.028622      -0.143806      0.055794     -0.504660     0.376925  \n13      0.028033      -0.142372      0.057427     -0.504310     0.377365  \n12      0.028158      -0.142121      0.057692     -0.502866     0.380565  \n15      0.027910      -0.142163      0.057159     -0.500911     0.376896  \n10      0.028338      -0.141887      0.057023     -0.500869     0.378859  \n9       0.028868      -0.142258      0.058064     -0.496471     0.392904  \n11      0.028243      -0.144576      0.056588     -0.488956     0.369415  \n8       0.028176      -0.150984      0.056806     -0.459650     0.370314  ",
      "text/html": "<div>\n<style scoped>\n    .dataframe tbody tr th:only-of-type {\n        vertical-align: middle;\n    }\n\n    .dataframe tbody tr th {\n        vertical-align: top;\n    }\n\n    .dataframe thead th {\n        text-align: right;\n    }\n</style>\n<table border=\"1\" class=\"dataframe\">\n  <thead>\n    <tr style=\"text-align: right;\">\n      <th></th>\n      <th>model</th>\n      <th>params</th>\n      <th>mean_test_mse</th>\n      <th>std_test_mse</th>\n      <th>mean_test_mae</th>\n      <th>std_test_mae</th>\n      <th>mean_test_r2</th>\n      <th>std_test_r2</th>\n    </tr>\n  </thead>\n  <tbody>\n    <tr>\n      <th>0</th>\n      <td>random_forest</td>\n      <td>{'criterion': 'mse', 'n_estimators': 100}</td>\n      <td>-0.035584</td>\n      <td>0.024875</td>\n      <td>-0.145924</td>\n      <td>0.050130</td>\n      <td>-0.506961</td>\n      <td>0.340047</td>\n    </tr>\n    <tr>\n      <th>2</th>\n      <td>random_forest</td>\n      <td>{'criterion': 'mse', 'n_estimators': 500}</td>\n      <td>-0.035929</td>\n      <td>0.028810</td>\n      <td>-0.142784</td>\n      <td>0.056024</td>\n      <td>-0.517486</td>\n      <td>0.352960</td>\n    </tr>\n    <tr>\n      <th>3</th>\n      <td>random_forest</td>\n      <td>{'criterion': 'mse', 'n_estimators': 1000}</td>\n      <td>-0.036096</td>\n      <td>0.028159</td>\n      <td>-0.144464</td>\n      <td>0.055664</td>\n      <td>-0.514464</td>\n      <td>0.353467</td>\n    </tr>\n    <tr>\n      <th>6</th>\n      <td>random_forest</td>\n      <td>{'criterion': 'mse', 'n_estimators': 5000}</td>\n      <td>-0.036185</td>\n      <td>0.028753</td>\n      <td>-0.143633</td>\n      <td>0.056729</td>\n      <td>-0.512861</td>\n      <td>0.369221</td>\n    </tr>\n    <tr>\n      <th>5</th>\n      <td>random_forest</td>\n      <td>{'criterion': 'mse', 'n_estimators': 3000}</td>\n      <td>-0.036226</td>\n      <td>0.028508</td>\n      <td>-0.144110</td>\n      <td>0.056242</td>\n      <td>-0.511453</td>\n      <td>0.365413</td>\n    </tr>\n    <tr>\n      <th>14</th>\n      <td>random_forest</td>\n      <td>{'criterion': 'mae', 'n_estimators': 5000}</td>\n      <td>-0.036305</td>\n      <td>0.027775</td>\n      <td>-0.141904</td>\n      <td>0.057435</td>\n      <td>-0.503625</td>\n      <td>0.382195</td>\n    </tr>\n    <tr>\n      <th>7</th>\n      <td>random_forest</td>\n      <td>{'criterion': 'mse', 'n_estimators': 10000}</td>\n      <td>-0.036325</td>\n      <td>0.028329</td>\n      <td>-0.144248</td>\n      <td>0.056048</td>\n      <td>-0.509766</td>\n      <td>0.362298</td>\n    </tr>\n    <tr>\n      <th>4</th>\n      <td>random_forest</td>\n      <td>{'criterion': 'mse', 'n_estimators': 2000}</td>\n      <td>-0.036325</td>\n      <td>0.028373</td>\n      <td>-0.144038</td>\n      <td>0.056433</td>\n      <td>-0.511858</td>\n      <td>0.360564</td>\n    </tr>\n    <tr>\n      <th>1</th>\n      <td>random_forest</td>\n      <td>{'criterion': 'mse', 'n_estimators': 200}</td>\n      <td>-0.036355</td>\n      <td>0.028622</td>\n      <td>-0.143806</td>\n      <td>0.055794</td>\n      <td>-0.504660</td>\n      <td>0.376925</td>\n    </tr>\n    <tr>\n      <th>13</th>\n      <td>random_forest</td>\n      <td>{'criterion': 'mae', 'n_estimators': 3000}</td>\n      <td>-0.036392</td>\n      <td>0.028033</td>\n      <td>-0.142372</td>\n      <td>0.057427</td>\n      <td>-0.504310</td>\n      <td>0.377365</td>\n    </tr>\n    <tr>\n      <th>12</th>\n      <td>random_forest</td>\n      <td>{'criterion': 'mae', 'n_estimators': 2000}</td>\n      <td>-0.036452</td>\n      <td>0.028158</td>\n      <td>-0.142121</td>\n      <td>0.057692</td>\n      <td>-0.502866</td>\n      <td>0.380565</td>\n    </tr>\n    <tr>\n      <th>15</th>\n      <td>random_forest</td>\n      <td>{'criterion': 'mae', 'n_estimators': 10000}</td>\n      <td>-0.036613</td>\n      <td>0.027910</td>\n      <td>-0.142163</td>\n      <td>0.057159</td>\n      <td>-0.500911</td>\n      <td>0.376896</td>\n    </tr>\n    <tr>\n      <th>10</th>\n      <td>random_forest</td>\n      <td>{'criterion': 'mae', 'n_estimators': 500}</td>\n      <td>-0.036800</td>\n      <td>0.028338</td>\n      <td>-0.141887</td>\n      <td>0.057023</td>\n      <td>-0.500869</td>\n      <td>0.378859</td>\n    </tr>\n    <tr>\n      <th>9</th>\n      <td>random_forest</td>\n      <td>{'criterion': 'mae', 'n_estimators': 200}</td>\n      <td>-0.036842</td>\n      <td>0.028868</td>\n      <td>-0.142258</td>\n      <td>0.058064</td>\n      <td>-0.496471</td>\n      <td>0.392904</td>\n    </tr>\n    <tr>\n      <th>11</th>\n      <td>random_forest</td>\n      <td>{'criterion': 'mae', 'n_estimators': 1000}</td>\n      <td>-0.037536</td>\n      <td>0.028243</td>\n      <td>-0.144576</td>\n      <td>0.056588</td>\n      <td>-0.488956</td>\n      <td>0.369415</td>\n    </tr>\n    <tr>\n      <th>8</th>\n      <td>random_forest</td>\n      <td>{'criterion': 'mae', 'n_estimators': 100}</td>\n      <td>-0.039661</td>\n      <td>0.028176</td>\n      <td>-0.150984</td>\n      <td>0.056806</td>\n      <td>-0.459650</td>\n      <td>0.370314</td>\n    </tr>\n  </tbody>\n</table>\n</div>"
     },
     "metadata": {},
     "execution_count": 7
    }
   ],
   "source": [
    "grid_search_df.sort_values('mean_test_mse', ascending=False)"
   ]
  },
  {
   "cell_type": "markdown",
   "metadata": {},
   "source": [
    "# Ada Boost Regressor"
   ]
  },
  {
   "cell_type": "code",
   "execution_count": 8,
   "metadata": {},
   "outputs": [],
   "source": [
    "PATH = 'ada_boost_grid_search_results.csv'\n",
    ""
   ]
  },
  {
   "cell_type": "code",
   "execution_count": 9,
   "metadata": {},
   "outputs": [],
   "source": [
    "grid_search_df = pd.read_csv(PATH)\n",
    "grid_search_df[\"model\"] = \"ada_boost\"\n",
    "grid_search_df = grid_search_df[[\"model\", 'params', 'mean_test_mse', 'std_test_mse', 'mean_test_mae', 'std_test_mae', 'mean_test_r2', 'std_test_r2']]\n",
    "summary_df = summary_df.append(grid_search_df.sort_values('mean_test_mse', ascending=False).iloc[0], ignore_index=True)"
   ]
  },
  {
   "cell_type": "code",
   "execution_count": 10,
   "metadata": {},
   "outputs": [
    {
     "output_type": "execute_result",
     "data": {
      "text/plain": "         model                                             params  \\\n264  ada_boost  {'learning_rate': 0.6, 'loss': 'linear', 'n_es...   \n304  ada_boost  {'learning_rate': 0.65, 'loss': 'exponential',...   \n80   ada_boost  {'learning_rate': 0.2, 'loss': 'square', 'n_es...   \n16   ada_boost  {'learning_rate': 0.05, 'loss': 'exponential',...   \n424  ada_boost  {'learning_rate': 0.9, 'loss': 'exponential', ...   \n..         ...                                                ...   \n249  ada_boost  {'learning_rate': 0.55, 'loss': 'square', 'n_e...   \n296  ada_boost  {'learning_rate': 0.65, 'loss': 'square', 'n_e...   \n432  ada_boost  {'learning_rate': 0.95, 'loss': 'linear', 'n_e...   \n344  ada_boost  {'learning_rate': 0.75, 'loss': 'square', 'n_e...   \n177  ada_boost  {'learning_rate': 0.4, 'loss': 'square', 'n_es...   \n\n     mean_test_mse  std_test_mse  mean_test_mae  std_test_mae  mean_test_r2  \\\n264      -0.036059      0.038846      -0.123750      0.065308     -0.511929   \n304      -0.036450      0.038430      -0.129207      0.067971     -0.499276   \n80       -0.036573      0.039063      -0.127184      0.067337     -0.503499   \n16       -0.036633      0.038373      -0.127572      0.070661     -0.509621   \n424      -0.036673      0.039129      -0.129639      0.068004     -0.509446   \n..             ...           ...            ...           ...           ...   \n249      -0.041729      0.040293      -0.141822      0.062337     -0.432811   \n296      -0.041963      0.040847      -0.136975      0.067355     -0.430707   \n432      -0.042121      0.041813      -0.139450      0.071050     -0.435571   \n344      -0.042194      0.042128      -0.138947      0.069428     -0.440062   \n177      -0.042283      0.038749      -0.140502      0.063268     -0.429048   \n\n     std_test_r2  \n264     0.530754  \n304     0.530411  \n80      0.530737  \n16      0.534724  \n424     0.534321  \n..           ...  \n249     0.541993  \n296     0.543220  \n432     0.557462  \n344     0.554680  \n177     0.517300  \n\n[480 rows x 8 columns]",
      "text/html": "<div>\n<style scoped>\n    .dataframe tbody tr th:only-of-type {\n        vertical-align: middle;\n    }\n\n    .dataframe tbody tr th {\n        vertical-align: top;\n    }\n\n    .dataframe thead th {\n        text-align: right;\n    }\n</style>\n<table border=\"1\" class=\"dataframe\">\n  <thead>\n    <tr style=\"text-align: right;\">\n      <th></th>\n      <th>model</th>\n      <th>params</th>\n      <th>mean_test_mse</th>\n      <th>std_test_mse</th>\n      <th>mean_test_mae</th>\n      <th>std_test_mae</th>\n      <th>mean_test_r2</th>\n      <th>std_test_r2</th>\n    </tr>\n  </thead>\n  <tbody>\n    <tr>\n      <th>264</th>\n      <td>ada_boost</td>\n      <td>{'learning_rate': 0.6, 'loss': 'linear', 'n_es...</td>\n      <td>-0.036059</td>\n      <td>0.038846</td>\n      <td>-0.123750</td>\n      <td>0.065308</td>\n      <td>-0.511929</td>\n      <td>0.530754</td>\n    </tr>\n    <tr>\n      <th>304</th>\n      <td>ada_boost</td>\n      <td>{'learning_rate': 0.65, 'loss': 'exponential',...</td>\n      <td>-0.036450</td>\n      <td>0.038430</td>\n      <td>-0.129207</td>\n      <td>0.067971</td>\n      <td>-0.499276</td>\n      <td>0.530411</td>\n    </tr>\n    <tr>\n      <th>80</th>\n      <td>ada_boost</td>\n      <td>{'learning_rate': 0.2, 'loss': 'square', 'n_es...</td>\n      <td>-0.036573</td>\n      <td>0.039063</td>\n      <td>-0.127184</td>\n      <td>0.067337</td>\n      <td>-0.503499</td>\n      <td>0.530737</td>\n    </tr>\n    <tr>\n      <th>16</th>\n      <td>ada_boost</td>\n      <td>{'learning_rate': 0.05, 'loss': 'exponential',...</td>\n      <td>-0.036633</td>\n      <td>0.038373</td>\n      <td>-0.127572</td>\n      <td>0.070661</td>\n      <td>-0.509621</td>\n      <td>0.534724</td>\n    </tr>\n    <tr>\n      <th>424</th>\n      <td>ada_boost</td>\n      <td>{'learning_rate': 0.9, 'loss': 'exponential', ...</td>\n      <td>-0.036673</td>\n      <td>0.039129</td>\n      <td>-0.129639</td>\n      <td>0.068004</td>\n      <td>-0.509446</td>\n      <td>0.534321</td>\n    </tr>\n    <tr>\n      <th>...</th>\n      <td>...</td>\n      <td>...</td>\n      <td>...</td>\n      <td>...</td>\n      <td>...</td>\n      <td>...</td>\n      <td>...</td>\n      <td>...</td>\n    </tr>\n    <tr>\n      <th>249</th>\n      <td>ada_boost</td>\n      <td>{'learning_rate': 0.55, 'loss': 'square', 'n_e...</td>\n      <td>-0.041729</td>\n      <td>0.040293</td>\n      <td>-0.141822</td>\n      <td>0.062337</td>\n      <td>-0.432811</td>\n      <td>0.541993</td>\n    </tr>\n    <tr>\n      <th>296</th>\n      <td>ada_boost</td>\n      <td>{'learning_rate': 0.65, 'loss': 'square', 'n_e...</td>\n      <td>-0.041963</td>\n      <td>0.040847</td>\n      <td>-0.136975</td>\n      <td>0.067355</td>\n      <td>-0.430707</td>\n      <td>0.543220</td>\n    </tr>\n    <tr>\n      <th>432</th>\n      <td>ada_boost</td>\n      <td>{'learning_rate': 0.95, 'loss': 'linear', 'n_e...</td>\n      <td>-0.042121</td>\n      <td>0.041813</td>\n      <td>-0.139450</td>\n      <td>0.071050</td>\n      <td>-0.435571</td>\n      <td>0.557462</td>\n    </tr>\n    <tr>\n      <th>344</th>\n      <td>ada_boost</td>\n      <td>{'learning_rate': 0.75, 'loss': 'square', 'n_e...</td>\n      <td>-0.042194</td>\n      <td>0.042128</td>\n      <td>-0.138947</td>\n      <td>0.069428</td>\n      <td>-0.440062</td>\n      <td>0.554680</td>\n    </tr>\n    <tr>\n      <th>177</th>\n      <td>ada_boost</td>\n      <td>{'learning_rate': 0.4, 'loss': 'square', 'n_es...</td>\n      <td>-0.042283</td>\n      <td>0.038749</td>\n      <td>-0.140502</td>\n      <td>0.063268</td>\n      <td>-0.429048</td>\n      <td>0.517300</td>\n    </tr>\n  </tbody>\n</table>\n<p>480 rows × 8 columns</p>\n</div>"
     },
     "metadata": {},
     "execution_count": 10
    }
   ],
   "source": [
    "grid_search_df.sort_values('mean_test_mse', ascending=False)"
   ]
  },
  {
   "cell_type": "code",
   "execution_count": 11,
   "metadata": {},
   "outputs": [
    {
     "output_type": "execute_result",
     "data": {
      "text/plain": "array([\"{'learning_rate': 0.6, 'loss': 'linear', 'n_estimators': 100}\",\n       \"{'learning_rate': 0.65, 'loss': 'exponential', 'n_estimators': 100}\",\n       \"{'learning_rate': 0.2, 'loss': 'square', 'n_estimators': 100}\",\n       \"{'learning_rate': 0.05, 'loss': 'exponential', 'n_estimators': 100}\",\n       \"{'learning_rate': 0.9, 'loss': 'exponential', 'n_estimators': 100}\",\n       \"{'learning_rate': 0.1, 'loss': 'exponential', 'n_estimators': 100}\",\n       \"{'learning_rate': 0.25, 'loss': 'exponential', 'n_estimators': 100}\",\n       \"{'learning_rate': 0.75, 'loss': 'linear', 'n_estimators': 100}\",\n       \"{'learning_rate': 0.4, 'loss': 'exponential', 'n_estimators': 100}\",\n       \"{'learning_rate': 0.15, 'loss': 'linear', 'n_estimators': 100}\",\n       \"{'learning_rate': 0.35, 'loss': 'linear', 'n_estimators': 200}\",\n       \"{'learning_rate': 0.05, 'loss': 'exponential', 'n_estimators': 500}\",\n       \"{'learning_rate': 0.3, 'loss': 'exponential', 'n_estimators': 500}\",\n       \"{'learning_rate': 0.85, 'loss': 'linear', 'n_estimators': 500}\",\n       \"{'learning_rate': 1.0, 'loss': 'exponential', 'n_estimators': 2000}\",\n       \"{'learning_rate': 0.95, 'loss': 'exponential', 'n_estimators': 5000}\",\n       \"{'learning_rate': 1.0, 'loss': 'linear', 'n_estimators': 5000}\",\n       \"{'learning_rate': 0.3, 'loss': 'exponential', 'n_estimators': 200}\",\n       \"{'learning_rate': 0.7, 'loss': 'square', 'n_estimators': 200}\",\n       \"{'learning_rate': 0.9, 'loss': 'exponential', 'n_estimators': 200}\"],\n      dtype=object)"
     },
     "metadata": {},
     "execution_count": 11
    }
   ],
   "source": [
    "grid_search_df.sort_values('mean_test_mse', ascending=False).head(20).params.values"
   ]
  },
  {
   "cell_type": "markdown",
   "metadata": {},
   "source": [
    "# SVM Regressor"
   ]
  },
  {
   "cell_type": "code",
   "execution_count": 12,
   "metadata": {},
   "outputs": [],
   "source": [
    "PATH = 'svm_grid_search_results.csv'\n",
    ""
   ]
  },
  {
   "cell_type": "code",
   "execution_count": 13,
   "metadata": {},
   "outputs": [],
   "source": [
    "grid_search_df = pd.read_csv(PATH)\n",
    "grid_search_df[\"model\"] = \"svm\"\n",
    "grid_search_df = grid_search_df[[\"model\", 'params', 'mean_test_mse', 'std_test_mse', 'mean_test_mae', 'std_test_mae', 'mean_test_r2', 'std_test_r2']]\n",
    "summary_df = summary_df.append(grid_search_df.sort_values('mean_test_mse', ascending=False).iloc[0], ignore_index=True)"
   ]
  },
  {
   "cell_type": "code",
   "execution_count": 14,
   "metadata": {},
   "outputs": [
    {
     "output_type": "execute_result",
     "data": {
      "text/plain": "     model                                             params  mean_test_mse  \\\n5342   svm  {'C': 0.95, 'degree': 7, 'epsilon': 0.4, 'kern...      -0.443829   \n5214   svm  {'C': 0.95, 'degree': 5, 'epsilon': 0.4, 'kern...      -0.443829   \n5150   svm  {'C': 0.95, 'degree': 4, 'epsilon': 0.4, 'kern...      -0.443829   \n5086   svm  {'C': 0.95, 'degree': 3, 'epsilon': 0.4, 'kern...      -0.443829   \n5022   svm  {'C': 0.95, 'degree': 2, 'epsilon': 0.4, 'kern...      -0.443829   \n5278   svm  {'C': 0.95, 'degree': 6, 'epsilon': 0.4, 'kern...      -0.443829   \n5338   svm  {'C': 0.95, 'degree': 7, 'epsilon': 0.35, 'ker...      -0.445817   \n5146   svm  {'C': 0.95, 'degree': 4, 'epsilon': 0.35, 'ker...      -0.445817   \n5082   svm  {'C': 0.95, 'degree': 3, 'epsilon': 0.35, 'ker...      -0.445817   \n5274   svm  {'C': 0.95, 'degree': 6, 'epsilon': 0.35, 'ker...      -0.445817   \n5210   svm  {'C': 0.95, 'degree': 5, 'epsilon': 0.35, 'ker...      -0.445817   \n5018   svm  {'C': 0.95, 'degree': 2, 'epsilon': 0.35, 'ker...      -0.445817   \n5026   svm  {'C': 0.95, 'degree': 2, 'epsilon': 0.45, 'ker...      -0.446709   \n5090   svm  {'C': 0.95, 'degree': 3, 'epsilon': 0.45, 'ker...      -0.446709   \n5154   svm  {'C': 0.95, 'degree': 4, 'epsilon': 0.45, 'ker...      -0.446709   \n5282   svm  {'C': 0.95, 'degree': 6, 'epsilon': 0.45, 'ker...      -0.446709   \n5346   svm  {'C': 0.95, 'degree': 7, 'epsilon': 0.45, 'ker...      -0.446709   \n5218   svm  {'C': 0.95, 'degree': 5, 'epsilon': 0.45, 'ker...      -0.446709   \n4702   svm  {'C': 0.9, 'degree': 3, 'epsilon': 0.4, 'kerne...      -0.450792   \n4830   svm  {'C': 0.9, 'degree': 5, 'epsilon': 0.4, 'kerne...      -0.450792   \n\n      std_test_mse  mean_test_mae  std_test_mae  mean_test_r2  std_test_r2  \n5342      0.296846      -0.551709      0.132190     -0.544083     0.204819  \n5214      0.296846      -0.551709      0.132190     -0.544083     0.204819  \n5150      0.296846      -0.551709      0.132190     -0.544083     0.204819  \n5086      0.296846      -0.551709      0.132190     -0.544083     0.204819  \n5022      0.296846      -0.551709      0.132190     -0.544083     0.204819  \n5278      0.296846      -0.551709      0.132190     -0.544083     0.204819  \n5338      0.306182      -0.547710      0.135503     -0.541198     0.216404  \n5146      0.306182      -0.547710      0.135503     -0.541198     0.216404  \n5082      0.306182      -0.547710      0.135503     -0.541198     0.216404  \n5274      0.306182      -0.547710      0.135503     -0.541198     0.216404  \n5210      0.306182      -0.547710      0.135503     -0.541198     0.216404  \n5018      0.306182      -0.547710      0.135503     -0.541198     0.216404  \n5026      0.292147      -0.559446      0.134130     -0.542244     0.197590  \n5090      0.292147      -0.559446      0.134130     -0.542244     0.197590  \n5154      0.292147      -0.559446      0.134130     -0.542244     0.197590  \n5282      0.292147      -0.559446      0.134130     -0.542244     0.197590  \n5346      0.292147      -0.559446      0.134130     -0.542244     0.197590  \n5218      0.292147      -0.559446      0.134130     -0.542244     0.197590  \n4702      0.299440      -0.555091      0.136077     -0.536919     0.206817  \n4830      0.299440      -0.555091      0.136077     -0.536919     0.206817  ",
      "text/html": "<div>\n<style scoped>\n    .dataframe tbody tr th:only-of-type {\n        vertical-align: middle;\n    }\n\n    .dataframe tbody tr th {\n        vertical-align: top;\n    }\n\n    .dataframe thead th {\n        text-align: right;\n    }\n</style>\n<table border=\"1\" class=\"dataframe\">\n  <thead>\n    <tr style=\"text-align: right;\">\n      <th></th>\n      <th>model</th>\n      <th>params</th>\n      <th>mean_test_mse</th>\n      <th>std_test_mse</th>\n      <th>mean_test_mae</th>\n      <th>std_test_mae</th>\n      <th>mean_test_r2</th>\n      <th>std_test_r2</th>\n    </tr>\n  </thead>\n  <tbody>\n    <tr>\n      <th>5342</th>\n      <td>svm</td>\n      <td>{'C': 0.95, 'degree': 7, 'epsilon': 0.4, 'kern...</td>\n      <td>-0.443829</td>\n      <td>0.296846</td>\n      <td>-0.551709</td>\n      <td>0.132190</td>\n      <td>-0.544083</td>\n      <td>0.204819</td>\n    </tr>\n    <tr>\n      <th>5214</th>\n      <td>svm</td>\n      <td>{'C': 0.95, 'degree': 5, 'epsilon': 0.4, 'kern...</td>\n      <td>-0.443829</td>\n      <td>0.296846</td>\n      <td>-0.551709</td>\n      <td>0.132190</td>\n      <td>-0.544083</td>\n      <td>0.204819</td>\n    </tr>\n    <tr>\n      <th>5150</th>\n      <td>svm</td>\n      <td>{'C': 0.95, 'degree': 4, 'epsilon': 0.4, 'kern...</td>\n      <td>-0.443829</td>\n      <td>0.296846</td>\n      <td>-0.551709</td>\n      <td>0.132190</td>\n      <td>-0.544083</td>\n      <td>0.204819</td>\n    </tr>\n    <tr>\n      <th>5086</th>\n      <td>svm</td>\n      <td>{'C': 0.95, 'degree': 3, 'epsilon': 0.4, 'kern...</td>\n      <td>-0.443829</td>\n      <td>0.296846</td>\n      <td>-0.551709</td>\n      <td>0.132190</td>\n      <td>-0.544083</td>\n      <td>0.204819</td>\n    </tr>\n    <tr>\n      <th>5022</th>\n      <td>svm</td>\n      <td>{'C': 0.95, 'degree': 2, 'epsilon': 0.4, 'kern...</td>\n      <td>-0.443829</td>\n      <td>0.296846</td>\n      <td>-0.551709</td>\n      <td>0.132190</td>\n      <td>-0.544083</td>\n      <td>0.204819</td>\n    </tr>\n    <tr>\n      <th>5278</th>\n      <td>svm</td>\n      <td>{'C': 0.95, 'degree': 6, 'epsilon': 0.4, 'kern...</td>\n      <td>-0.443829</td>\n      <td>0.296846</td>\n      <td>-0.551709</td>\n      <td>0.132190</td>\n      <td>-0.544083</td>\n      <td>0.204819</td>\n    </tr>\n    <tr>\n      <th>5338</th>\n      <td>svm</td>\n      <td>{'C': 0.95, 'degree': 7, 'epsilon': 0.35, 'ker...</td>\n      <td>-0.445817</td>\n      <td>0.306182</td>\n      <td>-0.547710</td>\n      <td>0.135503</td>\n      <td>-0.541198</td>\n      <td>0.216404</td>\n    </tr>\n    <tr>\n      <th>5146</th>\n      <td>svm</td>\n      <td>{'C': 0.95, 'degree': 4, 'epsilon': 0.35, 'ker...</td>\n      <td>-0.445817</td>\n      <td>0.306182</td>\n      <td>-0.547710</td>\n      <td>0.135503</td>\n      <td>-0.541198</td>\n      <td>0.216404</td>\n    </tr>\n    <tr>\n      <th>5082</th>\n      <td>svm</td>\n      <td>{'C': 0.95, 'degree': 3, 'epsilon': 0.35, 'ker...</td>\n      <td>-0.445817</td>\n      <td>0.306182</td>\n      <td>-0.547710</td>\n      <td>0.135503</td>\n      <td>-0.541198</td>\n      <td>0.216404</td>\n    </tr>\n    <tr>\n      <th>5274</th>\n      <td>svm</td>\n      <td>{'C': 0.95, 'degree': 6, 'epsilon': 0.35, 'ker...</td>\n      <td>-0.445817</td>\n      <td>0.306182</td>\n      <td>-0.547710</td>\n      <td>0.135503</td>\n      <td>-0.541198</td>\n      <td>0.216404</td>\n    </tr>\n    <tr>\n      <th>5210</th>\n      <td>svm</td>\n      <td>{'C': 0.95, 'degree': 5, 'epsilon': 0.35, 'ker...</td>\n      <td>-0.445817</td>\n      <td>0.306182</td>\n      <td>-0.547710</td>\n      <td>0.135503</td>\n      <td>-0.541198</td>\n      <td>0.216404</td>\n    </tr>\n    <tr>\n      <th>5018</th>\n      <td>svm</td>\n      <td>{'C': 0.95, 'degree': 2, 'epsilon': 0.35, 'ker...</td>\n      <td>-0.445817</td>\n      <td>0.306182</td>\n      <td>-0.547710</td>\n      <td>0.135503</td>\n      <td>-0.541198</td>\n      <td>0.216404</td>\n    </tr>\n    <tr>\n      <th>5026</th>\n      <td>svm</td>\n      <td>{'C': 0.95, 'degree': 2, 'epsilon': 0.45, 'ker...</td>\n      <td>-0.446709</td>\n      <td>0.292147</td>\n      <td>-0.559446</td>\n      <td>0.134130</td>\n      <td>-0.542244</td>\n      <td>0.197590</td>\n    </tr>\n    <tr>\n      <th>5090</th>\n      <td>svm</td>\n      <td>{'C': 0.95, 'degree': 3, 'epsilon': 0.45, 'ker...</td>\n      <td>-0.446709</td>\n      <td>0.292147</td>\n      <td>-0.559446</td>\n      <td>0.134130</td>\n      <td>-0.542244</td>\n      <td>0.197590</td>\n    </tr>\n    <tr>\n      <th>5154</th>\n      <td>svm</td>\n      <td>{'C': 0.95, 'degree': 4, 'epsilon': 0.45, 'ker...</td>\n      <td>-0.446709</td>\n      <td>0.292147</td>\n      <td>-0.559446</td>\n      <td>0.134130</td>\n      <td>-0.542244</td>\n      <td>0.197590</td>\n    </tr>\n    <tr>\n      <th>5282</th>\n      <td>svm</td>\n      <td>{'C': 0.95, 'degree': 6, 'epsilon': 0.45, 'ker...</td>\n      <td>-0.446709</td>\n      <td>0.292147</td>\n      <td>-0.559446</td>\n      <td>0.134130</td>\n      <td>-0.542244</td>\n      <td>0.197590</td>\n    </tr>\n    <tr>\n      <th>5346</th>\n      <td>svm</td>\n      <td>{'C': 0.95, 'degree': 7, 'epsilon': 0.45, 'ker...</td>\n      <td>-0.446709</td>\n      <td>0.292147</td>\n      <td>-0.559446</td>\n      <td>0.134130</td>\n      <td>-0.542244</td>\n      <td>0.197590</td>\n    </tr>\n    <tr>\n      <th>5218</th>\n      <td>svm</td>\n      <td>{'C': 0.95, 'degree': 5, 'epsilon': 0.45, 'ker...</td>\n      <td>-0.446709</td>\n      <td>0.292147</td>\n      <td>-0.559446</td>\n      <td>0.134130</td>\n      <td>-0.542244</td>\n      <td>0.197590</td>\n    </tr>\n    <tr>\n      <th>4702</th>\n      <td>svm</td>\n      <td>{'C': 0.9, 'degree': 3, 'epsilon': 0.4, 'kerne...</td>\n      <td>-0.450792</td>\n      <td>0.299440</td>\n      <td>-0.555091</td>\n      <td>0.136077</td>\n      <td>-0.536919</td>\n      <td>0.206817</td>\n    </tr>\n    <tr>\n      <th>4830</th>\n      <td>svm</td>\n      <td>{'C': 0.9, 'degree': 5, 'epsilon': 0.4, 'kerne...</td>\n      <td>-0.450792</td>\n      <td>0.299440</td>\n      <td>-0.555091</td>\n      <td>0.136077</td>\n      <td>-0.536919</td>\n      <td>0.206817</td>\n    </tr>\n  </tbody>\n</table>\n</div>"
     },
     "metadata": {},
     "execution_count": 14
    }
   ],
   "source": [
    "grid_search_df.sort_values('mean_test_mse', ascending=False).head(20)"
   ]
  },
  {
   "cell_type": "code",
   "execution_count": 15,
   "metadata": {},
   "outputs": [
    {
     "output_type": "execute_result",
     "data": {
      "text/plain": "array([\"{'C': 0.95, 'degree': 7, 'epsilon': 0.4, 'kernel': 'rbf'}\",\n       \"{'C': 0.95, 'degree': 5, 'epsilon': 0.4, 'kernel': 'rbf'}\",\n       \"{'C': 0.95, 'degree': 4, 'epsilon': 0.4, 'kernel': 'rbf'}\",\n       \"{'C': 0.95, 'degree': 3, 'epsilon': 0.4, 'kernel': 'rbf'}\",\n       \"{'C': 0.95, 'degree': 2, 'epsilon': 0.4, 'kernel': 'rbf'}\",\n       \"{'C': 0.95, 'degree': 6, 'epsilon': 0.4, 'kernel': 'rbf'}\",\n       \"{'C': 0.95, 'degree': 7, 'epsilon': 0.35, 'kernel': 'rbf'}\",\n       \"{'C': 0.95, 'degree': 4, 'epsilon': 0.35, 'kernel': 'rbf'}\",\n       \"{'C': 0.95, 'degree': 3, 'epsilon': 0.35, 'kernel': 'rbf'}\",\n       \"{'C': 0.95, 'degree': 6, 'epsilon': 0.35, 'kernel': 'rbf'}\",\n       \"{'C': 0.95, 'degree': 5, 'epsilon': 0.35, 'kernel': 'rbf'}\",\n       \"{'C': 0.95, 'degree': 2, 'epsilon': 0.35, 'kernel': 'rbf'}\",\n       \"{'C': 0.95, 'degree': 2, 'epsilon': 0.45, 'kernel': 'rbf'}\",\n       \"{'C': 0.95, 'degree': 3, 'epsilon': 0.45, 'kernel': 'rbf'}\",\n       \"{'C': 0.95, 'degree': 4, 'epsilon': 0.45, 'kernel': 'rbf'}\",\n       \"{'C': 0.95, 'degree': 6, 'epsilon': 0.45, 'kernel': 'rbf'}\",\n       \"{'C': 0.95, 'degree': 7, 'epsilon': 0.45, 'kernel': 'rbf'}\",\n       \"{'C': 0.95, 'degree': 5, 'epsilon': 0.45, 'kernel': 'rbf'}\",\n       \"{'C': 0.9, 'degree': 3, 'epsilon': 0.4, 'kernel': 'rbf'}\",\n       \"{'C': 0.9, 'degree': 5, 'epsilon': 0.4, 'kernel': 'rbf'}\"],\n      dtype=object)"
     },
     "metadata": {},
     "execution_count": 15
    }
   ],
   "source": [
    "grid_search_df.sort_values('mean_test_mse', ascending=False)[\"params\"].head(20).values\n"
   ]
  },
  {
   "cell_type": "markdown",
   "metadata": {},
   "source": [
    "# KNN Regressor"
   ]
  },
  {
   "cell_type": "code",
   "execution_count": 16,
   "metadata": {},
   "outputs": [],
   "source": [
    "PATH = 'knn_grid_search_results.csv'\n"
   ]
  },
  {
   "cell_type": "code",
   "execution_count": 17,
   "metadata": {},
   "outputs": [],
   "source": [
    "grid_search_df = pd.read_csv(PATH)\n",
    "grid_search_df[\"model\"] = \"knn\"\n",
    "grid_search_df = grid_search_df[[\"model\", 'params', 'mean_test_mse', 'std_test_mse', 'mean_test_mae', 'std_test_mae', 'mean_test_r2', 'std_test_r2']]\n",
    "summary_df = summary_df.append(grid_search_df.sort_values('mean_test_mse', ascending=False).iloc[0], ignore_index=True)"
   ]
  },
  {
   "cell_type": "code",
   "execution_count": 18,
   "metadata": {},
   "outputs": [
    {
     "output_type": "execute_result",
     "data": {
      "text/plain": "   model                                             params  mean_test_mse  \\\n2    knn  {'metric': 'minkowski', 'n_neighbors': 3, 'p': 1}      -0.468118   \n4    knn  {'metric': 'minkowski', 'n_neighbors': 5, 'p': 1}      -0.485892   \n3    knn  {'metric': 'minkowski', 'n_neighbors': 3, 'p': 2}      -0.535911   \n5    knn  {'metric': 'minkowski', 'n_neighbors': 5, 'p': 2}      -0.573531   \n6    knn  {'metric': 'minkowski', 'n_neighbors': 7, 'p': 1}      -0.627218   \n15   knn  {'metric': 'chebyshev', 'n_neighbors': 3, 'p': 2}      -0.639563   \n14   knn  {'metric': 'chebyshev', 'n_neighbors': 3, 'p': 1}      -0.639563   \n7    knn  {'metric': 'minkowski', 'n_neighbors': 7, 'p': 2}      -0.653912   \n21   knn  {'metric': 'chebyshev', 'n_neighbors': 9, 'p': 2}      -0.673064   \n20   knn  {'metric': 'chebyshev', 'n_neighbors': 9, 'p': 1}      -0.673064   \n19   knn  {'metric': 'chebyshev', 'n_neighbors': 7, 'p': 2}      -0.674512   \n18   knn  {'metric': 'chebyshev', 'n_neighbors': 7, 'p': 1}      -0.674512   \n23   knn  {'metric': 'chebyshev', 'n_neighbors': 11, 'p'...      -0.705019   \n22   knn  {'metric': 'chebyshev', 'n_neighbors': 11, 'p'...      -0.705019   \n8    knn  {'metric': 'minkowski', 'n_neighbors': 9, 'p': 1}      -0.710761   \n11   knn  {'metric': 'minkowski', 'n_neighbors': 11, 'p'...      -0.713438   \n9    knn  {'metric': 'minkowski', 'n_neighbors': 9, 'p': 2}      -0.715967   \n12   knn  {'metric': 'chebyshev', 'n_neighbors': 1, 'p': 1}      -0.718553   \n13   knn  {'metric': 'chebyshev', 'n_neighbors': 1, 'p': 2}      -0.718553   \n10   knn  {'metric': 'minkowski', 'n_neighbors': 11, 'p'...      -0.725143   \n17   knn  {'metric': 'chebyshev', 'n_neighbors': 5, 'p': 2}      -0.736973   \n16   knn  {'metric': 'chebyshev', 'n_neighbors': 5, 'p': 1}      -0.736973   \n1    knn  {'metric': 'minkowski', 'n_neighbors': 1, 'p': 2}      -0.930268   \n0    knn  {'metric': 'minkowski', 'n_neighbors': 1, 'p': 1}      -1.089047   \n\n    std_test_mse  mean_test_mae  std_test_mae  mean_test_r2  std_test_r2  \n2       0.368141      -0.500957      0.166723     -0.532602     0.271071  \n4       0.434913      -0.528656      0.162153     -0.514103     0.296198  \n3       0.475953      -0.536284      0.169359     -0.449584     0.353466  \n5       0.331897      -0.585462      0.132415     -0.408939     0.230333  \n6       0.401808      -0.648729      0.150284     -0.351639     0.281665  \n15      0.377600      -0.641960      0.118530     -0.281073     0.354212  \n14      0.377600      -0.641960      0.118530     -0.281073     0.354212  \n7       0.399191      -0.657023      0.173186     -0.334570     0.287682  \n21      0.361488      -0.687117      0.169319     -0.298340     0.281926  \n20      0.361488      -0.687117      0.169319     -0.298340     0.281926  \n19      0.405103      -0.670176      0.168082     -0.313568     0.296413  \n18      0.405103      -0.670176      0.168082     -0.313568     0.296413  \n23      0.333747      -0.716882      0.154663     -0.262497     0.242472  \n22      0.333747      -0.716882      0.154663     -0.262497     0.242472  \n8       0.441502      -0.709327      0.187661     -0.256785     0.335202  \n11      0.363561      -0.700995      0.175108     -0.248107     0.283631  \n9       0.441984      -0.688970      0.188011     -0.255959     0.326885  \n12      0.641944      -0.597207      0.335604     -0.100526     0.872061  \n13      0.641944      -0.597207      0.335604     -0.100526     0.872061  \n10      0.396357      -0.713706      0.185342     -0.228514     0.325933  \n17      0.422915      -0.688479      0.161725     -0.221158     0.365409  \n16      0.422915      -0.688479      0.161725     -0.221158     0.365409  \n1       0.603024      -0.643653      0.272451      0.052121     0.651195  \n0       0.699354      -0.750354      0.299549      0.219559     0.750278  ",
      "text/html": "<div>\n<style scoped>\n    .dataframe tbody tr th:only-of-type {\n        vertical-align: middle;\n    }\n\n    .dataframe tbody tr th {\n        vertical-align: top;\n    }\n\n    .dataframe thead th {\n        text-align: right;\n    }\n</style>\n<table border=\"1\" class=\"dataframe\">\n  <thead>\n    <tr style=\"text-align: right;\">\n      <th></th>\n      <th>model</th>\n      <th>params</th>\n      <th>mean_test_mse</th>\n      <th>std_test_mse</th>\n      <th>mean_test_mae</th>\n      <th>std_test_mae</th>\n      <th>mean_test_r2</th>\n      <th>std_test_r2</th>\n    </tr>\n  </thead>\n  <tbody>\n    <tr>\n      <th>2</th>\n      <td>knn</td>\n      <td>{'metric': 'minkowski', 'n_neighbors': 3, 'p': 1}</td>\n      <td>-0.468118</td>\n      <td>0.368141</td>\n      <td>-0.500957</td>\n      <td>0.166723</td>\n      <td>-0.532602</td>\n      <td>0.271071</td>\n    </tr>\n    <tr>\n      <th>4</th>\n      <td>knn</td>\n      <td>{'metric': 'minkowski', 'n_neighbors': 5, 'p': 1}</td>\n      <td>-0.485892</td>\n      <td>0.434913</td>\n      <td>-0.528656</td>\n      <td>0.162153</td>\n      <td>-0.514103</td>\n      <td>0.296198</td>\n    </tr>\n    <tr>\n      <th>3</th>\n      <td>knn</td>\n      <td>{'metric': 'minkowski', 'n_neighbors': 3, 'p': 2}</td>\n      <td>-0.535911</td>\n      <td>0.475953</td>\n      <td>-0.536284</td>\n      <td>0.169359</td>\n      <td>-0.449584</td>\n      <td>0.353466</td>\n    </tr>\n    <tr>\n      <th>5</th>\n      <td>knn</td>\n      <td>{'metric': 'minkowski', 'n_neighbors': 5, 'p': 2}</td>\n      <td>-0.573531</td>\n      <td>0.331897</td>\n      <td>-0.585462</td>\n      <td>0.132415</td>\n      <td>-0.408939</td>\n      <td>0.230333</td>\n    </tr>\n    <tr>\n      <th>6</th>\n      <td>knn</td>\n      <td>{'metric': 'minkowski', 'n_neighbors': 7, 'p': 1}</td>\n      <td>-0.627218</td>\n      <td>0.401808</td>\n      <td>-0.648729</td>\n      <td>0.150284</td>\n      <td>-0.351639</td>\n      <td>0.281665</td>\n    </tr>\n    <tr>\n      <th>15</th>\n      <td>knn</td>\n      <td>{'metric': 'chebyshev', 'n_neighbors': 3, 'p': 2}</td>\n      <td>-0.639563</td>\n      <td>0.377600</td>\n      <td>-0.641960</td>\n      <td>0.118530</td>\n      <td>-0.281073</td>\n      <td>0.354212</td>\n    </tr>\n    <tr>\n      <th>14</th>\n      <td>knn</td>\n      <td>{'metric': 'chebyshev', 'n_neighbors': 3, 'p': 1}</td>\n      <td>-0.639563</td>\n      <td>0.377600</td>\n      <td>-0.641960</td>\n      <td>0.118530</td>\n      <td>-0.281073</td>\n      <td>0.354212</td>\n    </tr>\n    <tr>\n      <th>7</th>\n      <td>knn</td>\n      <td>{'metric': 'minkowski', 'n_neighbors': 7, 'p': 2}</td>\n      <td>-0.653912</td>\n      <td>0.399191</td>\n      <td>-0.657023</td>\n      <td>0.173186</td>\n      <td>-0.334570</td>\n      <td>0.287682</td>\n    </tr>\n    <tr>\n      <th>21</th>\n      <td>knn</td>\n      <td>{'metric': 'chebyshev', 'n_neighbors': 9, 'p': 2}</td>\n      <td>-0.673064</td>\n      <td>0.361488</td>\n      <td>-0.687117</td>\n      <td>0.169319</td>\n      <td>-0.298340</td>\n      <td>0.281926</td>\n    </tr>\n    <tr>\n      <th>20</th>\n      <td>knn</td>\n      <td>{'metric': 'chebyshev', 'n_neighbors': 9, 'p': 1}</td>\n      <td>-0.673064</td>\n      <td>0.361488</td>\n      <td>-0.687117</td>\n      <td>0.169319</td>\n      <td>-0.298340</td>\n      <td>0.281926</td>\n    </tr>\n    <tr>\n      <th>19</th>\n      <td>knn</td>\n      <td>{'metric': 'chebyshev', 'n_neighbors': 7, 'p': 2}</td>\n      <td>-0.674512</td>\n      <td>0.405103</td>\n      <td>-0.670176</td>\n      <td>0.168082</td>\n      <td>-0.313568</td>\n      <td>0.296413</td>\n    </tr>\n    <tr>\n      <th>18</th>\n      <td>knn</td>\n      <td>{'metric': 'chebyshev', 'n_neighbors': 7, 'p': 1}</td>\n      <td>-0.674512</td>\n      <td>0.405103</td>\n      <td>-0.670176</td>\n      <td>0.168082</td>\n      <td>-0.313568</td>\n      <td>0.296413</td>\n    </tr>\n    <tr>\n      <th>23</th>\n      <td>knn</td>\n      <td>{'metric': 'chebyshev', 'n_neighbors': 11, 'p'...</td>\n      <td>-0.705019</td>\n      <td>0.333747</td>\n      <td>-0.716882</td>\n      <td>0.154663</td>\n      <td>-0.262497</td>\n      <td>0.242472</td>\n    </tr>\n    <tr>\n      <th>22</th>\n      <td>knn</td>\n      <td>{'metric': 'chebyshev', 'n_neighbors': 11, 'p'...</td>\n      <td>-0.705019</td>\n      <td>0.333747</td>\n      <td>-0.716882</td>\n      <td>0.154663</td>\n      <td>-0.262497</td>\n      <td>0.242472</td>\n    </tr>\n    <tr>\n      <th>8</th>\n      <td>knn</td>\n      <td>{'metric': 'minkowski', 'n_neighbors': 9, 'p': 1}</td>\n      <td>-0.710761</td>\n      <td>0.441502</td>\n      <td>-0.709327</td>\n      <td>0.187661</td>\n      <td>-0.256785</td>\n      <td>0.335202</td>\n    </tr>\n    <tr>\n      <th>11</th>\n      <td>knn</td>\n      <td>{'metric': 'minkowski', 'n_neighbors': 11, 'p'...</td>\n      <td>-0.713438</td>\n      <td>0.363561</td>\n      <td>-0.700995</td>\n      <td>0.175108</td>\n      <td>-0.248107</td>\n      <td>0.283631</td>\n    </tr>\n    <tr>\n      <th>9</th>\n      <td>knn</td>\n      <td>{'metric': 'minkowski', 'n_neighbors': 9, 'p': 2}</td>\n      <td>-0.715967</td>\n      <td>0.441984</td>\n      <td>-0.688970</td>\n      <td>0.188011</td>\n      <td>-0.255959</td>\n      <td>0.326885</td>\n    </tr>\n    <tr>\n      <th>12</th>\n      <td>knn</td>\n      <td>{'metric': 'chebyshev', 'n_neighbors': 1, 'p': 1}</td>\n      <td>-0.718553</td>\n      <td>0.641944</td>\n      <td>-0.597207</td>\n      <td>0.335604</td>\n      <td>-0.100526</td>\n      <td>0.872061</td>\n    </tr>\n    <tr>\n      <th>13</th>\n      <td>knn</td>\n      <td>{'metric': 'chebyshev', 'n_neighbors': 1, 'p': 2}</td>\n      <td>-0.718553</td>\n      <td>0.641944</td>\n      <td>-0.597207</td>\n      <td>0.335604</td>\n      <td>-0.100526</td>\n      <td>0.872061</td>\n    </tr>\n    <tr>\n      <th>10</th>\n      <td>knn</td>\n      <td>{'metric': 'minkowski', 'n_neighbors': 11, 'p'...</td>\n      <td>-0.725143</td>\n      <td>0.396357</td>\n      <td>-0.713706</td>\n      <td>0.185342</td>\n      <td>-0.228514</td>\n      <td>0.325933</td>\n    </tr>\n    <tr>\n      <th>17</th>\n      <td>knn</td>\n      <td>{'metric': 'chebyshev', 'n_neighbors': 5, 'p': 2}</td>\n      <td>-0.736973</td>\n      <td>0.422915</td>\n      <td>-0.688479</td>\n      <td>0.161725</td>\n      <td>-0.221158</td>\n      <td>0.365409</td>\n    </tr>\n    <tr>\n      <th>16</th>\n      <td>knn</td>\n      <td>{'metric': 'chebyshev', 'n_neighbors': 5, 'p': 1}</td>\n      <td>-0.736973</td>\n      <td>0.422915</td>\n      <td>-0.688479</td>\n      <td>0.161725</td>\n      <td>-0.221158</td>\n      <td>0.365409</td>\n    </tr>\n    <tr>\n      <th>1</th>\n      <td>knn</td>\n      <td>{'metric': 'minkowski', 'n_neighbors': 1, 'p': 2}</td>\n      <td>-0.930268</td>\n      <td>0.603024</td>\n      <td>-0.643653</td>\n      <td>0.272451</td>\n      <td>0.052121</td>\n      <td>0.651195</td>\n    </tr>\n    <tr>\n      <th>0</th>\n      <td>knn</td>\n      <td>{'metric': 'minkowski', 'n_neighbors': 1, 'p': 1}</td>\n      <td>-1.089047</td>\n      <td>0.699354</td>\n      <td>-0.750354</td>\n      <td>0.299549</td>\n      <td>0.219559</td>\n      <td>0.750278</td>\n    </tr>\n  </tbody>\n</table>\n</div>"
     },
     "metadata": {},
     "execution_count": 18
    }
   ],
   "source": [
    "grid_search_df.sort_values('mean_test_mse', ascending=False)"
   ]
  },
  {
   "cell_type": "markdown",
   "metadata": {},
   "source": [
    "# Lasso Regressor"
   ]
  },
  {
   "cell_type": "code",
   "execution_count": 19,
   "metadata": {},
   "outputs": [],
   "source": [
    "PATH = 'lasso_grid_search_results.csv'"
   ]
  },
  {
   "cell_type": "code",
   "execution_count": 20,
   "metadata": {},
   "outputs": [],
   "source": [
    "grid_search_df = pd.read_csv(PATH)\n",
    "grid_search_df[\"model\"] = \"lasso\"\n",
    "grid_search_df = grid_search_df[[\"model\", 'params', 'mean_test_mse', 'std_test_mse', 'mean_test_mae', 'std_test_mae', 'mean_test_r2', 'std_test_r2']]\n",
    "summary_df = summary_df.append(grid_search_df.sort_values('mean_test_mse', ascending=False).iloc[0], ignore_index=True)"
   ]
  },
  {
   "cell_type": "code",
   "execution_count": 21,
   "metadata": {},
   "outputs": [
    {
     "output_type": "execute_result",
     "data": {
      "text/plain": "    model           params  mean_test_mse  std_test_mse  mean_test_mae  \\\n1   lasso  {'alpha': 0.05}      -0.564014      0.352477      -0.626704   \n2   lasso   {'alpha': 0.1}      -0.579667      0.316579      -0.645018   \n3   lasso   {'alpha': 0.2}      -0.680451      0.310478      -0.708038   \n4   lasso   {'alpha': 0.3}      -0.782772      0.305358      -0.767859   \n5   lasso   {'alpha': 0.4}      -0.903932      0.333520      -0.832033   \n0   lasso  {'alpha': 0.01}      -0.925952      0.920753      -0.679124   \n6   lasso   {'alpha': 0.5}      -0.985613      0.333528      -0.872481   \n8   lasso   {'alpha': 0.7}      -0.993467      0.319482      -0.875366   \n9   lasso   {'alpha': 0.8}      -0.993467      0.319482      -0.875366   \n10  lasso   {'alpha': 0.9}      -0.993467      0.319482      -0.875366   \n11  lasso     {'alpha': 1}      -0.993467      0.319482      -0.875366   \n12  lasso     {'alpha': 2}      -0.993467      0.319482      -0.875366   \n13  lasso     {'alpha': 3}      -0.993467      0.319482      -0.875366   \n14  lasso     {'alpha': 5}      -0.993467      0.319482      -0.875366   \n15  lasso     {'alpha': 7}      -0.993467      0.319482      -0.875366   \n7   lasso   {'alpha': 0.6}      -0.996112      0.322103      -0.877093   \n\n    std_test_mae  mean_test_r2  std_test_r2  \n1       0.191080     -0.402969     0.275333  \n2       0.181458     -0.375554     0.266600  \n3       0.172237     -0.266149     0.253315  \n4       0.171618     -0.166524     0.190204  \n5       0.179245     -0.047403     0.123509  \n0       0.250099     -0.087135     0.724548  \n6       0.177461      0.044068     0.092816  \n8       0.172590      0.057329     0.086574  \n9       0.172590      0.057329     0.086574  \n10      0.172590      0.057329     0.086574  \n11      0.172590      0.057329     0.086574  \n12      0.172590      0.057329     0.086574  \n13      0.172590      0.057329     0.086574  \n14      0.172590      0.057329     0.086574  \n15      0.172590      0.057329     0.086574  \n7       0.173491      0.059454     0.086145  ",
      "text/html": "<div>\n<style scoped>\n    .dataframe tbody tr th:only-of-type {\n        vertical-align: middle;\n    }\n\n    .dataframe tbody tr th {\n        vertical-align: top;\n    }\n\n    .dataframe thead th {\n        text-align: right;\n    }\n</style>\n<table border=\"1\" class=\"dataframe\">\n  <thead>\n    <tr style=\"text-align: right;\">\n      <th></th>\n      <th>model</th>\n      <th>params</th>\n      <th>mean_test_mse</th>\n      <th>std_test_mse</th>\n      <th>mean_test_mae</th>\n      <th>std_test_mae</th>\n      <th>mean_test_r2</th>\n      <th>std_test_r2</th>\n    </tr>\n  </thead>\n  <tbody>\n    <tr>\n      <th>1</th>\n      <td>lasso</td>\n      <td>{'alpha': 0.05}</td>\n      <td>-0.564014</td>\n      <td>0.352477</td>\n      <td>-0.626704</td>\n      <td>0.191080</td>\n      <td>-0.402969</td>\n      <td>0.275333</td>\n    </tr>\n    <tr>\n      <th>2</th>\n      <td>lasso</td>\n      <td>{'alpha': 0.1}</td>\n      <td>-0.579667</td>\n      <td>0.316579</td>\n      <td>-0.645018</td>\n      <td>0.181458</td>\n      <td>-0.375554</td>\n      <td>0.266600</td>\n    </tr>\n    <tr>\n      <th>3</th>\n      <td>lasso</td>\n      <td>{'alpha': 0.2}</td>\n      <td>-0.680451</td>\n      <td>0.310478</td>\n      <td>-0.708038</td>\n      <td>0.172237</td>\n      <td>-0.266149</td>\n      <td>0.253315</td>\n    </tr>\n    <tr>\n      <th>4</th>\n      <td>lasso</td>\n      <td>{'alpha': 0.3}</td>\n      <td>-0.782772</td>\n      <td>0.305358</td>\n      <td>-0.767859</td>\n      <td>0.171618</td>\n      <td>-0.166524</td>\n      <td>0.190204</td>\n    </tr>\n    <tr>\n      <th>5</th>\n      <td>lasso</td>\n      <td>{'alpha': 0.4}</td>\n      <td>-0.903932</td>\n      <td>0.333520</td>\n      <td>-0.832033</td>\n      <td>0.179245</td>\n      <td>-0.047403</td>\n      <td>0.123509</td>\n    </tr>\n    <tr>\n      <th>0</th>\n      <td>lasso</td>\n      <td>{'alpha': 0.01}</td>\n      <td>-0.925952</td>\n      <td>0.920753</td>\n      <td>-0.679124</td>\n      <td>0.250099</td>\n      <td>-0.087135</td>\n      <td>0.724548</td>\n    </tr>\n    <tr>\n      <th>6</th>\n      <td>lasso</td>\n      <td>{'alpha': 0.5}</td>\n      <td>-0.985613</td>\n      <td>0.333528</td>\n      <td>-0.872481</td>\n      <td>0.177461</td>\n      <td>0.044068</td>\n      <td>0.092816</td>\n    </tr>\n    <tr>\n      <th>8</th>\n      <td>lasso</td>\n      <td>{'alpha': 0.7}</td>\n      <td>-0.993467</td>\n      <td>0.319482</td>\n      <td>-0.875366</td>\n      <td>0.172590</td>\n      <td>0.057329</td>\n      <td>0.086574</td>\n    </tr>\n    <tr>\n      <th>9</th>\n      <td>lasso</td>\n      <td>{'alpha': 0.8}</td>\n      <td>-0.993467</td>\n      <td>0.319482</td>\n      <td>-0.875366</td>\n      <td>0.172590</td>\n      <td>0.057329</td>\n      <td>0.086574</td>\n    </tr>\n    <tr>\n      <th>10</th>\n      <td>lasso</td>\n      <td>{'alpha': 0.9}</td>\n      <td>-0.993467</td>\n      <td>0.319482</td>\n      <td>-0.875366</td>\n      <td>0.172590</td>\n      <td>0.057329</td>\n      <td>0.086574</td>\n    </tr>\n    <tr>\n      <th>11</th>\n      <td>lasso</td>\n      <td>{'alpha': 1}</td>\n      <td>-0.993467</td>\n      <td>0.319482</td>\n      <td>-0.875366</td>\n      <td>0.172590</td>\n      <td>0.057329</td>\n      <td>0.086574</td>\n    </tr>\n    <tr>\n      <th>12</th>\n      <td>lasso</td>\n      <td>{'alpha': 2}</td>\n      <td>-0.993467</td>\n      <td>0.319482</td>\n      <td>-0.875366</td>\n      <td>0.172590</td>\n      <td>0.057329</td>\n      <td>0.086574</td>\n    </tr>\n    <tr>\n      <th>13</th>\n      <td>lasso</td>\n      <td>{'alpha': 3}</td>\n      <td>-0.993467</td>\n      <td>0.319482</td>\n      <td>-0.875366</td>\n      <td>0.172590</td>\n      <td>0.057329</td>\n      <td>0.086574</td>\n    </tr>\n    <tr>\n      <th>14</th>\n      <td>lasso</td>\n      <td>{'alpha': 5}</td>\n      <td>-0.993467</td>\n      <td>0.319482</td>\n      <td>-0.875366</td>\n      <td>0.172590</td>\n      <td>0.057329</td>\n      <td>0.086574</td>\n    </tr>\n    <tr>\n      <th>15</th>\n      <td>lasso</td>\n      <td>{'alpha': 7}</td>\n      <td>-0.993467</td>\n      <td>0.319482</td>\n      <td>-0.875366</td>\n      <td>0.172590</td>\n      <td>0.057329</td>\n      <td>0.086574</td>\n    </tr>\n    <tr>\n      <th>7</th>\n      <td>lasso</td>\n      <td>{'alpha': 0.6}</td>\n      <td>-0.996112</td>\n      <td>0.322103</td>\n      <td>-0.877093</td>\n      <td>0.173491</td>\n      <td>0.059454</td>\n      <td>0.086145</td>\n    </tr>\n  </tbody>\n</table>\n</div>"
     },
     "metadata": {},
     "execution_count": 21
    }
   ],
   "source": [
    "grid_search_df.sort_values('mean_test_mse', ascending=False)"
   ]
  },
  {
   "cell_type": "markdown",
   "metadata": {},
   "source": [
    "# Elastic Net "
   ]
  },
  {
   "cell_type": "code",
   "execution_count": 22,
   "metadata": {},
   "outputs": [],
   "source": [
    "PATH = 'elastic_net_grid_search_results.csv'"
   ]
  },
  {
   "cell_type": "code",
   "execution_count": 23,
   "metadata": {},
   "outputs": [],
   "source": [
    "grid_search_df = pd.read_csv(PATH)\n",
    "grid_search_df[\"model\"] = \"elastic_net\"\n",
    "grid_search_df = grid_search_df[[\"model\", 'params', 'mean_test_mse', 'std_test_mse', 'mean_test_mae', 'std_test_mae', 'mean_test_r2', 'std_test_r2']]\n",
    "summary_df = summary_df.append(grid_search_df.sort_values('mean_test_mse', ascending=False).iloc[0], ignore_index=True)"
   ]
  },
  {
   "cell_type": "code",
   "execution_count": 24,
   "metadata": {},
   "outputs": [
    {
     "output_type": "execute_result",
     "data": {
      "text/plain": "           model                            params  mean_test_mse  \\\n43   elastic_net  {'alpha': 0.3, 'l1_ratio': 0.05}      -0.499108   \n63   elastic_net     {'alpha': 0.4, 'l1_ratio': 0}      -0.499168   \n42   elastic_net     {'alpha': 0.3, 'l1_ratio': 0}      -0.499221   \n44   elastic_net   {'alpha': 0.3, 'l1_ratio': 0.1}      -0.505025   \n84   elastic_net     {'alpha': 0.5, 'l1_ratio': 0}      -0.505404   \n..           ...                               ...            ...   \n200  elastic_net    {'alpha': 1, 'l1_ratio': 0.55}      -0.998230   \n123  elastic_net   {'alpha': 0.6, 'l1_ratio': 0.9}      -0.998571   \n161  elastic_net   {'alpha': 0.8, 'l1_ratio': 0.7}      -0.999278   \n124  elastic_net  {'alpha': 0.6, 'l1_ratio': 0.95}      -0.999365   \n142  elastic_net   {'alpha': 0.7, 'l1_ratio': 0.8}      -0.999774   \n\n     std_test_mse  mean_test_mae  std_test_mae  mean_test_r2  std_test_r2  \n43       0.283461      -0.596975      0.161328     -0.460984     0.240873  \n63       0.279652      -0.597184      0.156880     -0.460510     0.236604  \n42       0.282238      -0.597030      0.158624     -0.462232     0.234885  \n44       0.284763      -0.598207      0.164585     -0.453797     0.244970  \n84       0.278873      -0.599919      0.155201     -0.453111     0.237046  \n..            ...            ...           ...           ...          ...  \n200      0.322786      -0.878361      0.173720      0.061880     0.086303  \n123      0.325091      -0.878797      0.174398      0.061710     0.088035  \n161      0.322702      -0.878989      0.173717      0.063093     0.085818  \n124      0.322980      -0.879117      0.173784      0.063074     0.085730  \n142      0.322995      -0.879292      0.173825      0.063586     0.085808  \n\n[273 rows x 8 columns]",
      "text/html": "<div>\n<style scoped>\n    .dataframe tbody tr th:only-of-type {\n        vertical-align: middle;\n    }\n\n    .dataframe tbody tr th {\n        vertical-align: top;\n    }\n\n    .dataframe thead th {\n        text-align: right;\n    }\n</style>\n<table border=\"1\" class=\"dataframe\">\n  <thead>\n    <tr style=\"text-align: right;\">\n      <th></th>\n      <th>model</th>\n      <th>params</th>\n      <th>mean_test_mse</th>\n      <th>std_test_mse</th>\n      <th>mean_test_mae</th>\n      <th>std_test_mae</th>\n      <th>mean_test_r2</th>\n      <th>std_test_r2</th>\n    </tr>\n  </thead>\n  <tbody>\n    <tr>\n      <th>43</th>\n      <td>elastic_net</td>\n      <td>{'alpha': 0.3, 'l1_ratio': 0.05}</td>\n      <td>-0.499108</td>\n      <td>0.283461</td>\n      <td>-0.596975</td>\n      <td>0.161328</td>\n      <td>-0.460984</td>\n      <td>0.240873</td>\n    </tr>\n    <tr>\n      <th>63</th>\n      <td>elastic_net</td>\n      <td>{'alpha': 0.4, 'l1_ratio': 0}</td>\n      <td>-0.499168</td>\n      <td>0.279652</td>\n      <td>-0.597184</td>\n      <td>0.156880</td>\n      <td>-0.460510</td>\n      <td>0.236604</td>\n    </tr>\n    <tr>\n      <th>42</th>\n      <td>elastic_net</td>\n      <td>{'alpha': 0.3, 'l1_ratio': 0}</td>\n      <td>-0.499221</td>\n      <td>0.282238</td>\n      <td>-0.597030</td>\n      <td>0.158624</td>\n      <td>-0.462232</td>\n      <td>0.234885</td>\n    </tr>\n    <tr>\n      <th>44</th>\n      <td>elastic_net</td>\n      <td>{'alpha': 0.3, 'l1_ratio': 0.1}</td>\n      <td>-0.505025</td>\n      <td>0.284763</td>\n      <td>-0.598207</td>\n      <td>0.164585</td>\n      <td>-0.453797</td>\n      <td>0.244970</td>\n    </tr>\n    <tr>\n      <th>84</th>\n      <td>elastic_net</td>\n      <td>{'alpha': 0.5, 'l1_ratio': 0}</td>\n      <td>-0.505404</td>\n      <td>0.278873</td>\n      <td>-0.599919</td>\n      <td>0.155201</td>\n      <td>-0.453111</td>\n      <td>0.237046</td>\n    </tr>\n    <tr>\n      <th>...</th>\n      <td>...</td>\n      <td>...</td>\n      <td>...</td>\n      <td>...</td>\n      <td>...</td>\n      <td>...</td>\n      <td>...</td>\n      <td>...</td>\n    </tr>\n    <tr>\n      <th>200</th>\n      <td>elastic_net</td>\n      <td>{'alpha': 1, 'l1_ratio': 0.55}</td>\n      <td>-0.998230</td>\n      <td>0.322786</td>\n      <td>-0.878361</td>\n      <td>0.173720</td>\n      <td>0.061880</td>\n      <td>0.086303</td>\n    </tr>\n    <tr>\n      <th>123</th>\n      <td>elastic_net</td>\n      <td>{'alpha': 0.6, 'l1_ratio': 0.9}</td>\n      <td>-0.998571</td>\n      <td>0.325091</td>\n      <td>-0.878797</td>\n      <td>0.174398</td>\n      <td>0.061710</td>\n      <td>0.088035</td>\n    </tr>\n    <tr>\n      <th>161</th>\n      <td>elastic_net</td>\n      <td>{'alpha': 0.8, 'l1_ratio': 0.7}</td>\n      <td>-0.999278</td>\n      <td>0.322702</td>\n      <td>-0.878989</td>\n      <td>0.173717</td>\n      <td>0.063093</td>\n      <td>0.085818</td>\n    </tr>\n    <tr>\n      <th>124</th>\n      <td>elastic_net</td>\n      <td>{'alpha': 0.6, 'l1_ratio': 0.95}</td>\n      <td>-0.999365</td>\n      <td>0.322980</td>\n      <td>-0.879117</td>\n      <td>0.173784</td>\n      <td>0.063074</td>\n      <td>0.085730</td>\n    </tr>\n    <tr>\n      <th>142</th>\n      <td>elastic_net</td>\n      <td>{'alpha': 0.7, 'l1_ratio': 0.8}</td>\n      <td>-0.999774</td>\n      <td>0.322995</td>\n      <td>-0.879292</td>\n      <td>0.173825</td>\n      <td>0.063586</td>\n      <td>0.085808</td>\n    </tr>\n  </tbody>\n</table>\n<p>273 rows × 8 columns</p>\n</div>"
     },
     "metadata": {},
     "execution_count": 24
    }
   ],
   "source": [
    "grid_search_df.sort_values('mean_test_mse', ascending=False)"
   ]
  },
  {
   "cell_type": "markdown",
   "metadata": {},
   "source": [
    "# Ridge"
   ]
  },
  {
   "cell_type": "code",
   "execution_count": 25,
   "metadata": {},
   "outputs": [],
   "source": [
    "PATH = 'ridge_grid_search_results.csv'"
   ]
  },
  {
   "cell_type": "code",
   "execution_count": 26,
   "metadata": {},
   "outputs": [],
   "source": [
    "grid_search_df = pd.read_csv(PATH)\n",
    "grid_search_df[\"model\"] = \"ridge\"\n",
    "grid_search_df = grid_search_df[[\"model\", 'params', 'mean_test_mse', 'std_test_mse', 'mean_test_mae', 'std_test_mae', 'mean_test_r2', 'std_test_r2']]\n",
    "summary_df = summary_df.append(grid_search_df.sort_values('mean_test_mse', ascending=False).iloc[0], ignore_index=True)"
   ]
  },
  {
   "cell_type": "code",
   "execution_count": 27,
   "metadata": {},
   "outputs": [
    {
     "output_type": "execute_result",
     "data": {
      "text/plain": "    model           params  mean_test_mse  std_test_mse  mean_test_mae  \\\n21  ridge    {'alpha': 13}      -0.498111      0.280384      -0.596576   \n22  ridge    {'alpha': 15}      -0.499500      0.279450      -0.597484   \n20  ridge    {'alpha': 10}      -0.501710      0.283908      -0.597901   \n23  ridge    {'alpha': 17}      -0.502546      0.278949      -0.598923   \n19  ridge     {'alpha': 9}      -0.505500      0.286371      -0.598880   \n18  ridge     {'alpha': 8}      -0.511385      0.290166      -0.600260   \n17  ridge     {'alpha': 7}      -0.520199      0.296196      -0.602169   \n16  ridge     {'alpha': 6}      -0.533235      0.306126      -0.604784   \n15  ridge     {'alpha': 5}      -0.552590      0.323184      -0.608761   \n14  ridge     {'alpha': 4}      -0.581880      0.353866      -0.614849   \n13  ridge     {'alpha': 3}      -0.627819      0.411771      -0.623106   \n12  ridge     {'alpha': 2}      -0.704227      0.526585      -0.635641   \n11  ridge     {'alpha': 1}      -0.844087      0.768612      -0.659100   \n10  ridge   {'alpha': 0.9}      -0.864230      0.805266      -0.662987   \n9   ridge   {'alpha': 0.8}      -0.885999      0.845157      -0.667135   \n8   ridge   {'alpha': 0.7}      -0.909584      0.888631      -0.671578   \n7   ridge   {'alpha': 0.6}      -0.935212      0.936080      -0.676357   \n6   ridge   {'alpha': 0.5}      -0.963155      0.987945      -0.681521   \n5   ridge   {'alpha': 0.4}      -0.993742      1.044725      -0.687136   \n4   ridge   {'alpha': 0.3}      -1.027384      1.106979      -0.693287   \n3   ridge   {'alpha': 0.2}      -1.064612      1.175331      -0.700089   \n2   ridge   {'alpha': 0.1}      -1.106149      1.250458      -0.707710   \n1   ridge  {'alpha': 0.05}      -1.128842      1.290781      -0.711901   \n0   ridge  {'alpha': 0.01}      -1.148074      1.324442      -0.715473   \n\n    std_test_mae  mean_test_r2  std_test_r2  \n21      0.157721     -0.462262     0.235730  \n22      0.156486     -0.460037     0.236436  \n20      0.159194     -0.460453     0.234044  \n23      0.155453     -0.456318     0.236761  \n19      0.160364     -0.457505     0.233505  \n18      0.162104     -0.452664     0.233269  \n17      0.164654     -0.445184     0.233835  \n16      0.168380     -0.433912     0.236307  \n15      0.173157     -0.416986     0.243158  \n14      0.179339     -0.391209     0.260013  \n13      0.189665     -0.350654     0.299556  \n12      0.207016     -0.283116     0.389722  \n11      0.235565     -0.159130     0.593734  \n10      0.238678     -0.141189     0.625144  \n9       0.241940     -0.121763     0.659389  \n8       0.245353     -0.100664     0.696762  \n7       0.248916     -0.077662     0.737592  \n6       0.252623     -0.052477     0.782249  \n5       0.256464     -0.024756     0.831143  \n4       0.260418      0.005964     0.884728  \n3       0.264459      0.040314     0.943494  \n2       0.268546      0.079208     1.007952  \n1       0.270592      0.100776     1.042470  \n0       0.272223      0.119267     1.071235  ",
      "text/html": "<div>\n<style scoped>\n    .dataframe tbody tr th:only-of-type {\n        vertical-align: middle;\n    }\n\n    .dataframe tbody tr th {\n        vertical-align: top;\n    }\n\n    .dataframe thead th {\n        text-align: right;\n    }\n</style>\n<table border=\"1\" class=\"dataframe\">\n  <thead>\n    <tr style=\"text-align: right;\">\n      <th></th>\n      <th>model</th>\n      <th>params</th>\n      <th>mean_test_mse</th>\n      <th>std_test_mse</th>\n      <th>mean_test_mae</th>\n      <th>std_test_mae</th>\n      <th>mean_test_r2</th>\n      <th>std_test_r2</th>\n    </tr>\n  </thead>\n  <tbody>\n    <tr>\n      <th>21</th>\n      <td>ridge</td>\n      <td>{'alpha': 13}</td>\n      <td>-0.498111</td>\n      <td>0.280384</td>\n      <td>-0.596576</td>\n      <td>0.157721</td>\n      <td>-0.462262</td>\n      <td>0.235730</td>\n    </tr>\n    <tr>\n      <th>22</th>\n      <td>ridge</td>\n      <td>{'alpha': 15}</td>\n      <td>-0.499500</td>\n      <td>0.279450</td>\n      <td>-0.597484</td>\n      <td>0.156486</td>\n      <td>-0.460037</td>\n      <td>0.236436</td>\n    </tr>\n    <tr>\n      <th>20</th>\n      <td>ridge</td>\n      <td>{'alpha': 10}</td>\n      <td>-0.501710</td>\n      <td>0.283908</td>\n      <td>-0.597901</td>\n      <td>0.159194</td>\n      <td>-0.460453</td>\n      <td>0.234044</td>\n    </tr>\n    <tr>\n      <th>23</th>\n      <td>ridge</td>\n      <td>{'alpha': 17}</td>\n      <td>-0.502546</td>\n      <td>0.278949</td>\n      <td>-0.598923</td>\n      <td>0.155453</td>\n      <td>-0.456318</td>\n      <td>0.236761</td>\n    </tr>\n    <tr>\n      <th>19</th>\n      <td>ridge</td>\n      <td>{'alpha': 9}</td>\n      <td>-0.505500</td>\n      <td>0.286371</td>\n      <td>-0.598880</td>\n      <td>0.160364</td>\n      <td>-0.457505</td>\n      <td>0.233505</td>\n    </tr>\n    <tr>\n      <th>18</th>\n      <td>ridge</td>\n      <td>{'alpha': 8}</td>\n      <td>-0.511385</td>\n      <td>0.290166</td>\n      <td>-0.600260</td>\n      <td>0.162104</td>\n      <td>-0.452664</td>\n      <td>0.233269</td>\n    </tr>\n    <tr>\n      <th>17</th>\n      <td>ridge</td>\n      <td>{'alpha': 7}</td>\n      <td>-0.520199</td>\n      <td>0.296196</td>\n      <td>-0.602169</td>\n      <td>0.164654</td>\n      <td>-0.445184</td>\n      <td>0.233835</td>\n    </tr>\n    <tr>\n      <th>16</th>\n      <td>ridge</td>\n      <td>{'alpha': 6}</td>\n      <td>-0.533235</td>\n      <td>0.306126</td>\n      <td>-0.604784</td>\n      <td>0.168380</td>\n      <td>-0.433912</td>\n      <td>0.236307</td>\n    </tr>\n    <tr>\n      <th>15</th>\n      <td>ridge</td>\n      <td>{'alpha': 5}</td>\n      <td>-0.552590</td>\n      <td>0.323184</td>\n      <td>-0.608761</td>\n      <td>0.173157</td>\n      <td>-0.416986</td>\n      <td>0.243158</td>\n    </tr>\n    <tr>\n      <th>14</th>\n      <td>ridge</td>\n      <td>{'alpha': 4}</td>\n      <td>-0.581880</td>\n      <td>0.353866</td>\n      <td>-0.614849</td>\n      <td>0.179339</td>\n      <td>-0.391209</td>\n      <td>0.260013</td>\n    </tr>\n    <tr>\n      <th>13</th>\n      <td>ridge</td>\n      <td>{'alpha': 3}</td>\n      <td>-0.627819</td>\n      <td>0.411771</td>\n      <td>-0.623106</td>\n      <td>0.189665</td>\n      <td>-0.350654</td>\n      <td>0.299556</td>\n    </tr>\n    <tr>\n      <th>12</th>\n      <td>ridge</td>\n      <td>{'alpha': 2}</td>\n      <td>-0.704227</td>\n      <td>0.526585</td>\n      <td>-0.635641</td>\n      <td>0.207016</td>\n      <td>-0.283116</td>\n      <td>0.389722</td>\n    </tr>\n    <tr>\n      <th>11</th>\n      <td>ridge</td>\n      <td>{'alpha': 1}</td>\n      <td>-0.844087</td>\n      <td>0.768612</td>\n      <td>-0.659100</td>\n      <td>0.235565</td>\n      <td>-0.159130</td>\n      <td>0.593734</td>\n    </tr>\n    <tr>\n      <th>10</th>\n      <td>ridge</td>\n      <td>{'alpha': 0.9}</td>\n      <td>-0.864230</td>\n      <td>0.805266</td>\n      <td>-0.662987</td>\n      <td>0.238678</td>\n      <td>-0.141189</td>\n      <td>0.625144</td>\n    </tr>\n    <tr>\n      <th>9</th>\n      <td>ridge</td>\n      <td>{'alpha': 0.8}</td>\n      <td>-0.885999</td>\n      <td>0.845157</td>\n      <td>-0.667135</td>\n      <td>0.241940</td>\n      <td>-0.121763</td>\n      <td>0.659389</td>\n    </tr>\n    <tr>\n      <th>8</th>\n      <td>ridge</td>\n      <td>{'alpha': 0.7}</td>\n      <td>-0.909584</td>\n      <td>0.888631</td>\n      <td>-0.671578</td>\n      <td>0.245353</td>\n      <td>-0.100664</td>\n      <td>0.696762</td>\n    </tr>\n    <tr>\n      <th>7</th>\n      <td>ridge</td>\n      <td>{'alpha': 0.6}</td>\n      <td>-0.935212</td>\n      <td>0.936080</td>\n      <td>-0.676357</td>\n      <td>0.248916</td>\n      <td>-0.077662</td>\n      <td>0.737592</td>\n    </tr>\n    <tr>\n      <th>6</th>\n      <td>ridge</td>\n      <td>{'alpha': 0.5}</td>\n      <td>-0.963155</td>\n      <td>0.987945</td>\n      <td>-0.681521</td>\n      <td>0.252623</td>\n      <td>-0.052477</td>\n      <td>0.782249</td>\n    </tr>\n    <tr>\n      <th>5</th>\n      <td>ridge</td>\n      <td>{'alpha': 0.4}</td>\n      <td>-0.993742</td>\n      <td>1.044725</td>\n      <td>-0.687136</td>\n      <td>0.256464</td>\n      <td>-0.024756</td>\n      <td>0.831143</td>\n    </tr>\n    <tr>\n      <th>4</th>\n      <td>ridge</td>\n      <td>{'alpha': 0.3}</td>\n      <td>-1.027384</td>\n      <td>1.106979</td>\n      <td>-0.693287</td>\n      <td>0.260418</td>\n      <td>0.005964</td>\n      <td>0.884728</td>\n    </tr>\n    <tr>\n      <th>3</th>\n      <td>ridge</td>\n      <td>{'alpha': 0.2}</td>\n      <td>-1.064612</td>\n      <td>1.175331</td>\n      <td>-0.700089</td>\n      <td>0.264459</td>\n      <td>0.040314</td>\n      <td>0.943494</td>\n    </tr>\n    <tr>\n      <th>2</th>\n      <td>ridge</td>\n      <td>{'alpha': 0.1}</td>\n      <td>-1.106149</td>\n      <td>1.250458</td>\n      <td>-0.707710</td>\n      <td>0.268546</td>\n      <td>0.079208</td>\n      <td>1.007952</td>\n    </tr>\n    <tr>\n      <th>1</th>\n      <td>ridge</td>\n      <td>{'alpha': 0.05}</td>\n      <td>-1.128842</td>\n      <td>1.290781</td>\n      <td>-0.711901</td>\n      <td>0.270592</td>\n      <td>0.100776</td>\n      <td>1.042470</td>\n    </tr>\n    <tr>\n      <th>0</th>\n      <td>ridge</td>\n      <td>{'alpha': 0.01}</td>\n      <td>-1.148074</td>\n      <td>1.324442</td>\n      <td>-0.715473</td>\n      <td>0.272223</td>\n      <td>0.119267</td>\n      <td>1.071235</td>\n    </tr>\n  </tbody>\n</table>\n</div>"
     },
     "metadata": {},
     "execution_count": 27
    }
   ],
   "source": [
    "grid_search_df.sort_values('mean_test_mse', ascending=False)"
   ]
  },
  {
   "cell_type": "markdown",
   "metadata": {},
   "source": [
    "# SGD"
   ]
  },
  {
   "cell_type": "code",
   "execution_count": 28,
   "metadata": {},
   "outputs": [],
   "source": [
    "PATH = 'sgd_grid_search_results.csv'"
   ]
  },
  {
   "cell_type": "code",
   "execution_count": 29,
   "metadata": {},
   "outputs": [],
   "source": [
    "grid_search_df = pd.read_csv(PATH)\n",
    "grid_search_df[\"model\"] = \"sgd\"\n",
    "grid_search_df = grid_search_df[[\"model\", 'params', 'mean_test_mse', 'std_test_mse', 'mean_test_mae', 'std_test_mae', 'mean_test_r2', 'std_test_r2']]\n",
    "summary_df = summary_df.append(grid_search_df.sort_values('mean_test_mse', ascending=False).iloc[0], ignore_index=True)"
   ]
  },
  {
   "cell_type": "code",
   "execution_count": 30,
   "metadata": {},
   "outputs": [
    {
     "output_type": "execute_result",
     "data": {
      "text/plain": "      model                                             params  mean_test_mse  \\\n19653   sgd  {'alpha': 1, 'epsilon': 0.05, 'l1_ratio': 0.5,...  -4.833283e-01   \n9961    sgd  {'alpha': 0.01, 'epsilon': 0.15, 'l1_ratio': 0...  -4.836732e-01   \n10729   sgd  {'alpha': 0.01, 'epsilon': 0.1, 'l1_ratio': 0....  -4.837256e-01   \n10970   sgd  {'alpha': 0.01, 'epsilon': 0.1, 'l1_ratio': 0....  -4.838118e-01   \n13178   sgd  {'alpha': 0.1, 'epsilon': 0.15, 'l1_ratio': 0....  -4.839091e-01   \n...     ...                                                ...            ...   \n2510    sgd  {'alpha': 0.0001, 'epsilon': 0.1, 'l1_ratio': ...  -5.754790e+27   \n21      sgd  {'alpha': 0.0001, 'epsilon': 0.2, 'l1_ratio': ...  -5.845664e+27   \n1175    sgd  {'alpha': 0.0001, 'epsilon': 0.15, 'l1_ratio':...  -5.927862e+27   \n3334    sgd  {'alpha': 0.0001, 'epsilon': 0.05, 'l1_ratio':...  -6.333478e+27   \n3815    sgd  {'alpha': 0.0001, 'epsilon': 0.05, 'l1_ratio':...  -6.615620e+27   \n\n       std_test_mse  mean_test_mae  std_test_mae  mean_test_r2   std_test_r2  \n19653  2.605965e-01  -5.748306e-01  1.318328e-01 -4.799647e-01  1.998035e-01  \n9961   2.956713e-01  -5.807006e-01  1.714202e-01 -4.776777e-01  2.546458e-01  \n10729  2.963924e-01  -5.804843e-01  1.725243e-01 -4.775499e-01  2.562477e-01  \n10970  2.961195e-01  -5.806046e-01  1.718589e-01 -4.776752e-01  2.551900e-01  \n13178  2.909098e-01  -5.813265e-01  1.677550e-01 -4.766741e-01  2.514769e-01  \n...             ...            ...           ...           ...           ...  \n2510   6.634716e+27  -5.146361e+13  2.820793e+13  5.281275e+27  5.230733e+27  \n21     5.964918e+27  -5.358097e+13  2.921005e+13  5.820670e+27  5.035823e+27  \n1175   7.684548e+27  -5.109930e+13  2.548059e+13  5.376246e+27  5.879594e+27  \n3334   7.052659e+27  -5.613183e+13  3.401796e+13  7.052443e+27  8.209421e+27  \n3815   1.521985e+28  -4.396940e+13  4.534280e+13  5.874340e+27  1.327866e+28  \n\n[20160 rows x 8 columns]",
      "text/html": "<div>\n<style scoped>\n    .dataframe tbody tr th:only-of-type {\n        vertical-align: middle;\n    }\n\n    .dataframe tbody tr th {\n        vertical-align: top;\n    }\n\n    .dataframe thead th {\n        text-align: right;\n    }\n</style>\n<table border=\"1\" class=\"dataframe\">\n  <thead>\n    <tr style=\"text-align: right;\">\n      <th></th>\n      <th>model</th>\n      <th>params</th>\n      <th>mean_test_mse</th>\n      <th>std_test_mse</th>\n      <th>mean_test_mae</th>\n      <th>std_test_mae</th>\n      <th>mean_test_r2</th>\n      <th>std_test_r2</th>\n    </tr>\n  </thead>\n  <tbody>\n    <tr>\n      <th>19653</th>\n      <td>sgd</td>\n      <td>{'alpha': 1, 'epsilon': 0.05, 'l1_ratio': 0.5,...</td>\n      <td>-4.833283e-01</td>\n      <td>2.605965e-01</td>\n      <td>-5.748306e-01</td>\n      <td>1.318328e-01</td>\n      <td>-4.799647e-01</td>\n      <td>1.998035e-01</td>\n    </tr>\n    <tr>\n      <th>9961</th>\n      <td>sgd</td>\n      <td>{'alpha': 0.01, 'epsilon': 0.15, 'l1_ratio': 0...</td>\n      <td>-4.836732e-01</td>\n      <td>2.956713e-01</td>\n      <td>-5.807006e-01</td>\n      <td>1.714202e-01</td>\n      <td>-4.776777e-01</td>\n      <td>2.546458e-01</td>\n    </tr>\n    <tr>\n      <th>10729</th>\n      <td>sgd</td>\n      <td>{'alpha': 0.01, 'epsilon': 0.1, 'l1_ratio': 0....</td>\n      <td>-4.837256e-01</td>\n      <td>2.963924e-01</td>\n      <td>-5.804843e-01</td>\n      <td>1.725243e-01</td>\n      <td>-4.775499e-01</td>\n      <td>2.562477e-01</td>\n    </tr>\n    <tr>\n      <th>10970</th>\n      <td>sgd</td>\n      <td>{'alpha': 0.01, 'epsilon': 0.1, 'l1_ratio': 0....</td>\n      <td>-4.838118e-01</td>\n      <td>2.961195e-01</td>\n      <td>-5.806046e-01</td>\n      <td>1.718589e-01</td>\n      <td>-4.776752e-01</td>\n      <td>2.551900e-01</td>\n    </tr>\n    <tr>\n      <th>13178</th>\n      <td>sgd</td>\n      <td>{'alpha': 0.1, 'epsilon': 0.15, 'l1_ratio': 0....</td>\n      <td>-4.839091e-01</td>\n      <td>2.909098e-01</td>\n      <td>-5.813265e-01</td>\n      <td>1.677550e-01</td>\n      <td>-4.766741e-01</td>\n      <td>2.514769e-01</td>\n    </tr>\n    <tr>\n      <th>...</th>\n      <td>...</td>\n      <td>...</td>\n      <td>...</td>\n      <td>...</td>\n      <td>...</td>\n      <td>...</td>\n      <td>...</td>\n      <td>...</td>\n    </tr>\n    <tr>\n      <th>2510</th>\n      <td>sgd</td>\n      <td>{'alpha': 0.0001, 'epsilon': 0.1, 'l1_ratio': ...</td>\n      <td>-5.754790e+27</td>\n      <td>6.634716e+27</td>\n      <td>-5.146361e+13</td>\n      <td>2.820793e+13</td>\n      <td>5.281275e+27</td>\n      <td>5.230733e+27</td>\n    </tr>\n    <tr>\n      <th>21</th>\n      <td>sgd</td>\n      <td>{'alpha': 0.0001, 'epsilon': 0.2, 'l1_ratio': ...</td>\n      <td>-5.845664e+27</td>\n      <td>5.964918e+27</td>\n      <td>-5.358097e+13</td>\n      <td>2.921005e+13</td>\n      <td>5.820670e+27</td>\n      <td>5.035823e+27</td>\n    </tr>\n    <tr>\n      <th>1175</th>\n      <td>sgd</td>\n      <td>{'alpha': 0.0001, 'epsilon': 0.15, 'l1_ratio':...</td>\n      <td>-5.927862e+27</td>\n      <td>7.684548e+27</td>\n      <td>-5.109930e+13</td>\n      <td>2.548059e+13</td>\n      <td>5.376246e+27</td>\n      <td>5.879594e+27</td>\n    </tr>\n    <tr>\n      <th>3334</th>\n      <td>sgd</td>\n      <td>{'alpha': 0.0001, 'epsilon': 0.05, 'l1_ratio':...</td>\n      <td>-6.333478e+27</td>\n      <td>7.052659e+27</td>\n      <td>-5.613183e+13</td>\n      <td>3.401796e+13</td>\n      <td>7.052443e+27</td>\n      <td>8.209421e+27</td>\n    </tr>\n    <tr>\n      <th>3815</th>\n      <td>sgd</td>\n      <td>{'alpha': 0.0001, 'epsilon': 0.05, 'l1_ratio':...</td>\n      <td>-6.615620e+27</td>\n      <td>1.521985e+28</td>\n      <td>-4.396940e+13</td>\n      <td>4.534280e+13</td>\n      <td>5.874340e+27</td>\n      <td>1.327866e+28</td>\n    </tr>\n  </tbody>\n</table>\n<p>20160 rows × 8 columns</p>\n</div>"
     },
     "metadata": {},
     "execution_count": 30
    }
   ],
   "source": [
    "grid_search_df.sort_values('mean_test_mse', ascending=False)"
   ]
  },
  {
   "cell_type": "code",
   "execution_count": 31,
   "metadata": {},
   "outputs": [
    {
     "output_type": "execute_result",
     "data": {
      "text/plain": "array([\"{'alpha': 1, 'epsilon': 0.05, 'l1_ratio': 0.5, 'learning_rate': 'optimal', 'loss': 'squared_epsilon_insensitive', 'penalty': 'l2'}\",\n       \"{'alpha': 0.01, 'epsilon': 0.15, 'l1_ratio': 0.9, 'learning_rate': 'invscaling', 'loss': 'squared_loss', 'penalty': 'l1'}\",\n       \"{'alpha': 0.01, 'epsilon': 0.1, 'l1_ratio': 0.65, 'learning_rate': 'invscaling', 'loss': 'squared_loss', 'penalty': 'l1'}\",\n       \"{'alpha': 0.01, 'epsilon': 0.1, 'l1_ratio': 0.9, 'learning_rate': 'invscaling', 'loss': 'squared_loss', 'penalty': 'elasticnet'}\",\n       \"{'alpha': 0.1, 'epsilon': 0.15, 'l1_ratio': 0.05, 'learning_rate': 'invscaling', 'loss': 'squared_loss', 'penalty': 'elasticnet'}\",\n       \"{'alpha': 0.01, 'epsilon': 0.2, 'l1_ratio': 0.95, 'learning_rate': 'invscaling', 'loss': 'squared_loss', 'penalty': 'elasticnet'}\",\n       \"{'alpha': 0.01, 'epsilon': 0.1, 'l1_ratio': 0.3, 'learning_rate': 'invscaling', 'loss': 'squared_loss', 'penalty': 'l1'}\",\n       \"{'alpha': 0.01, 'epsilon': 0.2, 'l1_ratio': 0.85, 'learning_rate': 'invscaling', 'loss': 'squared_loss', 'penalty': 'elasticnet'}\",\n       \"{'alpha': 0.01, 'epsilon': 0.05, 'l1_ratio': 0.55, 'learning_rate': 'invscaling', 'loss': 'squared_loss', 'penalty': 'l1'}\",\n       \"{'alpha': 0.1, 'epsilon': 0.05, 'l1_ratio': 0.7, 'learning_rate': 'invscaling', 'loss': 'squared_loss', 'penalty': 'l2'}\",\n       \"{'alpha': 0.01, 'epsilon': 0.2, 'l1_ratio': 0.7, 'learning_rate': 'invscaling', 'loss': 'squared_loss', 'penalty': 'l1'}\",\n       \"{'alpha': 0.1, 'epsilon': 0.1, 'l1_ratio': 0.1, 'learning_rate': 'invscaling', 'loss': 'squared_loss', 'penalty': 'elasticnet'}\",\n       \"{'alpha': 0.01, 'epsilon': 0.1, 'l1_ratio': 0.35, 'learning_rate': 'invscaling', 'loss': 'squared_loss', 'penalty': 'l1'}\",\n       \"{'alpha': 0.01, 'epsilon': 0.1, 'l1_ratio': 0.2, 'learning_rate': 'invscaling', 'loss': 'squared_loss', 'penalty': 'l1'}\",\n       \"{'alpha': 0.01, 'epsilon': 0.15, 'l1_ratio': 1, 'learning_rate': 'invscaling', 'loss': 'squared_loss', 'penalty': 'elasticnet'}\",\n       \"{'alpha': 0.01, 'epsilon': 0.15, 'l1_ratio': 0.55, 'learning_rate': 'invscaling', 'loss': 'squared_loss', 'penalty': 'l1'}\",\n       \"{'alpha': 0.01, 'epsilon': 0.15, 'l1_ratio': 0.95, 'learning_rate': 'invscaling', 'loss': 'squared_loss', 'penalty': 'elasticnet'}\",\n       \"{'alpha': 0.01, 'epsilon': 0.2, 'l1_ratio': 0.4, 'learning_rate': 'invscaling', 'loss': 'squared_loss', 'penalty': 'l1'}\",\n       \"{'alpha': 0.01, 'epsilon': 0.15, 'l1_ratio': 0, 'learning_rate': 'invscaling', 'loss': 'squared_loss', 'penalty': 'l1'}\",\n       \"{'alpha': 0.01, 'epsilon': 0.15, 'l1_ratio': 0.25, 'learning_rate': 'invscaling', 'loss': 'squared_loss', 'penalty': 'l1'}\"],\n      dtype=object)"
     },
     "metadata": {},
     "execution_count": 31
    }
   ],
   "source": [
    "grid_search_df.sort_values('mean_test_mse', ascending=False)[\"params\"].head(20).values"
   ]
  },
  {
   "cell_type": "markdown",
   "metadata": {},
   "source": [
    "# Sumário"
   ]
  },
  {
   "cell_type": "code",
   "execution_count": 32,
   "metadata": {},
   "outputs": [
    {
     "output_type": "execute_result",
     "data": {
      "text/plain": "           model                                             params  \\\n0  random_forest          {'criterion': 'mse', 'n_estimators': 100}   \n1      ada_boost  {'learning_rate': 0.6, 'loss': 'linear', 'n_es...   \n2            svm  {'C': 0.95, 'degree': 7, 'epsilon': 0.4, 'kern...   \n3            knn  {'metric': 'minkowski', 'n_neighbors': 3, 'p': 1}   \n7            sgd  {'alpha': 1, 'epsilon': 0.05, 'l1_ratio': 0.5,...   \n6          ridge                                      {'alpha': 13}   \n5    elastic_net                   {'alpha': 0.3, 'l1_ratio': 0.05}   \n4          lasso                                    {'alpha': 0.05}   \n\n   mean_test_mse  std_test_mse  mean_test_mae  std_test_mae  mean_test_r2  \\\n0      -0.035584      0.024875      -0.145924      0.050130     -0.506961   \n1      -0.036059      0.038846      -0.123750      0.065308     -0.511929   \n2      -0.443829      0.296846      -0.551709      0.132190     -0.544083   \n3      -0.468118      0.368141      -0.500957      0.166723     -0.532602   \n7      -0.483328      0.260596      -0.574831      0.131833     -0.479965   \n6      -0.498111      0.280384      -0.596576      0.157721     -0.462262   \n5      -0.499108      0.283461      -0.596975      0.161328     -0.460984   \n4      -0.564014      0.352477      -0.626704      0.191080     -0.402969   \n\n   std_test_r2  \n0     0.340047  \n1     0.530754  \n2     0.204819  \n3     0.271071  \n7     0.199804  \n6     0.235730  \n5     0.240873  \n4     0.275333  ",
      "text/html": "<div>\n<style scoped>\n    .dataframe tbody tr th:only-of-type {\n        vertical-align: middle;\n    }\n\n    .dataframe tbody tr th {\n        vertical-align: top;\n    }\n\n    .dataframe thead th {\n        text-align: right;\n    }\n</style>\n<table border=\"1\" class=\"dataframe\">\n  <thead>\n    <tr style=\"text-align: right;\">\n      <th></th>\n      <th>model</th>\n      <th>params</th>\n      <th>mean_test_mse</th>\n      <th>std_test_mse</th>\n      <th>mean_test_mae</th>\n      <th>std_test_mae</th>\n      <th>mean_test_r2</th>\n      <th>std_test_r2</th>\n    </tr>\n  </thead>\n  <tbody>\n    <tr>\n      <th>0</th>\n      <td>random_forest</td>\n      <td>{'criterion': 'mse', 'n_estimators': 100}</td>\n      <td>-0.035584</td>\n      <td>0.024875</td>\n      <td>-0.145924</td>\n      <td>0.050130</td>\n      <td>-0.506961</td>\n      <td>0.340047</td>\n    </tr>\n    <tr>\n      <th>1</th>\n      <td>ada_boost</td>\n      <td>{'learning_rate': 0.6, 'loss': 'linear', 'n_es...</td>\n      <td>-0.036059</td>\n      <td>0.038846</td>\n      <td>-0.123750</td>\n      <td>0.065308</td>\n      <td>-0.511929</td>\n      <td>0.530754</td>\n    </tr>\n    <tr>\n      <th>2</th>\n      <td>svm</td>\n      <td>{'C': 0.95, 'degree': 7, 'epsilon': 0.4, 'kern...</td>\n      <td>-0.443829</td>\n      <td>0.296846</td>\n      <td>-0.551709</td>\n      <td>0.132190</td>\n      <td>-0.544083</td>\n      <td>0.204819</td>\n    </tr>\n    <tr>\n      <th>3</th>\n      <td>knn</td>\n      <td>{'metric': 'minkowski', 'n_neighbors': 3, 'p': 1}</td>\n      <td>-0.468118</td>\n      <td>0.368141</td>\n      <td>-0.500957</td>\n      <td>0.166723</td>\n      <td>-0.532602</td>\n      <td>0.271071</td>\n    </tr>\n    <tr>\n      <th>7</th>\n      <td>sgd</td>\n      <td>{'alpha': 1, 'epsilon': 0.05, 'l1_ratio': 0.5,...</td>\n      <td>-0.483328</td>\n      <td>0.260596</td>\n      <td>-0.574831</td>\n      <td>0.131833</td>\n      <td>-0.479965</td>\n      <td>0.199804</td>\n    </tr>\n    <tr>\n      <th>6</th>\n      <td>ridge</td>\n      <td>{'alpha': 13}</td>\n      <td>-0.498111</td>\n      <td>0.280384</td>\n      <td>-0.596576</td>\n      <td>0.157721</td>\n      <td>-0.462262</td>\n      <td>0.235730</td>\n    </tr>\n    <tr>\n      <th>5</th>\n      <td>elastic_net</td>\n      <td>{'alpha': 0.3, 'l1_ratio': 0.05}</td>\n      <td>-0.499108</td>\n      <td>0.283461</td>\n      <td>-0.596975</td>\n      <td>0.161328</td>\n      <td>-0.460984</td>\n      <td>0.240873</td>\n    </tr>\n    <tr>\n      <th>4</th>\n      <td>lasso</td>\n      <td>{'alpha': 0.05}</td>\n      <td>-0.564014</td>\n      <td>0.352477</td>\n      <td>-0.626704</td>\n      <td>0.191080</td>\n      <td>-0.402969</td>\n      <td>0.275333</td>\n    </tr>\n  </tbody>\n</table>\n</div>"
     },
     "metadata": {},
     "execution_count": 32
    }
   ],
   "source": [
    "summary_df.sort_values(by='mean_test_mse', ascending=False).head(20)"
   ]
  },
  {
   "cell_type": "code",
   "execution_count": null,
   "metadata": {},
   "outputs": [],
   "source": []
  }
 ],
 "metadata": {
  "language_info": {
   "name": "python",
   "codemirror_mode": {
    "name": "ipython",
    "version": 3
   },
   "version": "3.6.9-final"
  },
  "orig_nbformat": 2,
  "file_extension": ".py",
  "mimetype": "text/x-python",
  "name": "python",
  "npconvert_exporter": "python",
  "pygments_lexer": "ipython3",
  "version": 3,
  "kernelspec": {
   "name": "python36964bitbertvirtualenv054cbb15ab924922a35a349b12e89805",
   "display_name": "Python 3.6.9 64-bit ('bert': virtualenv)"
  }
 },
 "nbformat": 4,
 "nbformat_minor": 2
}