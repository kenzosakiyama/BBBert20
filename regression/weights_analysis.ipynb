{
 "cells": [
  {
   "cell_type": "code",
   "execution_count": 1,
   "metadata": {},
   "outputs": [],
   "source": [
    "import pandas as pd \n",
    "import numpy as np \n",
    "import seaborn as sns\n",
    "import os\n",
    "import json\n",
    "from typing import Tuple\n",
    "from tqdm import tqdm\n",
    "from regression_utils import *\n",
    "from sklearn.linear_model import LinearRegression\n",
    "sns.set(rc={\"figure.figsize\": (20, 10)})\n"
   ]
  },
  {
   "cell_type": "code",
   "execution_count": 2,
   "metadata": {},
   "outputs": [],
   "source": [
    "PATH_TO_DATA = \"../analysis/data\"\n",
    "REMOVE = [\"positivos\", \"neutros\", \"negativos\", \"likes\", \"retweets\", \"day2\", \"day3\"]\n",
    "paredoes_df = {\n",
    "    \"paredao\": [],\n",
    "    \"eliminado\": [],\n",
    "    \"rejeicao\": [],\n",
    "    \"pred\": [],\n",
    "    \"pred_pct\": [],\n",
    "    \"pesos\": []\n",
    "}"
   ]
  },
  {
   "cell_type": "code",
   "execution_count": 3,
   "metadata": {},
   "outputs": [],
   "source": [
    "cols = None\n",
    "def df_to_train_data(df: pd.DataFrame) -> Tuple[np.array, np.array]:\n",
    "    return df.drop(columns=[\"paredao\", \"nome\", \"rejeicao\"], axis=1).to_numpy(), df.drop(columns=df.columns[:-1], axis=1)\n",
    "\n",
    "def run_paredoes() -> pd.DataFrame:\n",
    "    # Treinando em n-1 paredões para predizer o n-ésimo\n",
    "    paredoes = len(os.listdir(PATH_TO_DATA))\n",
    "\n",
    "    # Somar mais um depois\n",
    "    for paredao in range(1, paredoes):\n",
    "        regressor = LinearRegression()\n",
    "        train_df, test_df, mean, std = get_train_test(paredao, normalize=True, drop_columns=REMOVE)\n",
    "\n",
    "        x_train, y_train = df_to_train_data(train_df)\n",
    "        x_test, y_test = df_to_train_data(test_df)\n",
    "\n",
    "        y_train, y_test = np.ravel(y_train), np.ravel(y_test)\n",
    "\n",
    "        regressor.fit(x_train, y_train)\n",
    "        prediction = regressor.predict(x_test)\n",
    "\n",
    "        test_df[\"predicao\"] = prediction * std + mean\n",
    "        test_df[\"rejeicao\"] =  test_df[\"rejeicao\"] * std + mean\n",
    "        \n",
    "        pred_elimination, pred_pct = test_df.sort_values(by=\"predicao\", ascending=False)[[\"nome\", \"predicao\"]].iloc[0] \n",
    "        true_elimination, true_pct = test_df.sort_values(by=\"rejeicao\", ascending=False)[[\"nome\", \"rejeicao\"]].iloc[0]\n",
    "\n",
    "        paredoes_df[\"paredao\"].append(paredao)\n",
    "        paredoes_df[\"eliminado\"].append(true_elimination)\n",
    "        paredoes_df[\"rejeicao\"].append(true_pct)\n",
    "        paredoes_df[\"pred\"].append(pred_elimination)\n",
    "        paredoes_df[\"pred_pct\"].append(pred_pct)\n",
    "        paredoes_df[\"pesos\"].append(regressor.coef_)\n",
    "\n",
    "    return pd.DataFrame(paredoes_df), train_df.drop(columns=[\"paredao\", \"nome\", \"rejeicao\"], axis=1).columns.to_list()\n"
   ]
  },
  {
   "cell_type": "markdown",
   "metadata": {},
   "source": [
    "# Análise de importância de cada atributo"
   ]
  },
  {
   "cell_type": "code",
   "execution_count": 4,
   "metadata": {},
   "outputs": [],
   "source": [
    "linear_reg_df, cols = run_paredoes()\n"
   ]
  },
  {
   "cell_type": "code",
   "execution_count": 5,
   "metadata": {},
   "outputs": [],
   "source": [
    "linear_reg_df = linear_reg_df[linear_reg_df[\"eliminado\"] == linear_reg_df[\"pred\"]]"
   ]
  },
  {
   "cell_type": "code",
   "execution_count": 6,
   "metadata": {},
   "outputs": [],
   "source": [
    "linear_reg_df[\"most_important\"] = \"\"\n",
    "for i in range(len(linear_reg_df)):\n",
    "    coef = linear_reg_df[\"pesos\"].iloc[i]\n",
    "    linear_reg_df[\"most_important\"].iloc[i] = cols[coef.argmax()]"
   ]
  },
  {
   "cell_type": "code",
   "execution_count": 7,
   "metadata": {},
   "outputs": [
    {
     "output_type": "execute_result",
     "data": {
      "text/plain": "    paredao       eliminado  rejeicao            pred  pred_pct  \\\n0         1    lucas_chumbo    0.7594    lucas_chumbo  0.821162   \n1         2          petrix    0.8027          petrix  0.736366   \n2         3          hadson    0.7971          hadson  0.685095   \n3         4           lucas    0.6262           lucas  0.491879   \n4         5  bianca_andrade    0.5309  bianca_andrade  0.348445   \n5         6       guilherme    0.5607       guilherme  0.527756   \n6         7     victor_hugo    0.8522     victor_hugo  0.346532   \n7         8           pyong    0.5170           pyong  0.616469   \n8         9          daniel    0.8082          daniel  0.648557   \n9        10    felipe_prior    0.5673    felipe_prior  1.384012   \n11       12         marcela    0.4976         marcela  0.428991   \n12       13       flayslene    0.6300       flayslene  0.413603   \n\n                                                pesos  \\\n0   [105819968318966.69, 85881142572823.61, 140717...   \n1   [97056432047169.02, 78768850630609.45, 1290634...   \n2   [102780301311607.3, 83414216152603.22, 1366749...   \n3   [-0.06307720520291525, 0.14149358684751284, -0...   \n4   [123453310013884.33, 100191972146802.0, 164165...   \n5   [-0.023146259253458694, 0.14516414296388386, -...   \n6   [-0.07193048432835142, 0.16374597320414153, -0...   \n7   [62016664609456.336, 50331351443630.23, 824683...   \n8   [-0.10407626626465939, 0.21344152440934838, -0...   \n9   [0.08326041687716336, 0.13267750781171872, -0....   \n11  [-0.06262431608982731, 0.1459775345171255, -0....   \n12  [-0.09118665140702092, 0.19106915673067407, -0...   \n\n              most_important  \n0   negativos_individual_pct  \n1   negativos_individual_pct  \n2   negativos_individual_pct  \n3         neutros_global_pct  \n4   negativos_individual_pct  \n5         neutros_global_pct  \n6         neutros_global_pct  \n7   negativos_individual_pct  \n8         neutros_global_pct  \n9                       fora  \n11        neutros_global_pct  \n12        neutros_global_pct  ",
      "text/html": "<div>\n<style scoped>\n    .dataframe tbody tr th:only-of-type {\n        vertical-align: middle;\n    }\n\n    .dataframe tbody tr th {\n        vertical-align: top;\n    }\n\n    .dataframe thead th {\n        text-align: right;\n    }\n</style>\n<table border=\"1\" class=\"dataframe\">\n  <thead>\n    <tr style=\"text-align: right;\">\n      <th></th>\n      <th>paredao</th>\n      <th>eliminado</th>\n      <th>rejeicao</th>\n      <th>pred</th>\n      <th>pred_pct</th>\n      <th>pesos</th>\n      <th>most_important</th>\n    </tr>\n  </thead>\n  <tbody>\n    <tr>\n      <th>0</th>\n      <td>1</td>\n      <td>lucas_chumbo</td>\n      <td>0.7594</td>\n      <td>lucas_chumbo</td>\n      <td>0.821162</td>\n      <td>[105819968318966.69, 85881142572823.61, 140717...</td>\n      <td>negativos_individual_pct</td>\n    </tr>\n    <tr>\n      <th>1</th>\n      <td>2</td>\n      <td>petrix</td>\n      <td>0.8027</td>\n      <td>petrix</td>\n      <td>0.736366</td>\n      <td>[97056432047169.02, 78768850630609.45, 1290634...</td>\n      <td>negativos_individual_pct</td>\n    </tr>\n    <tr>\n      <th>2</th>\n      <td>3</td>\n      <td>hadson</td>\n      <td>0.7971</td>\n      <td>hadson</td>\n      <td>0.685095</td>\n      <td>[102780301311607.3, 83414216152603.22, 1366749...</td>\n      <td>negativos_individual_pct</td>\n    </tr>\n    <tr>\n      <th>3</th>\n      <td>4</td>\n      <td>lucas</td>\n      <td>0.6262</td>\n      <td>lucas</td>\n      <td>0.491879</td>\n      <td>[-0.06307720520291525, 0.14149358684751284, -0...</td>\n      <td>neutros_global_pct</td>\n    </tr>\n    <tr>\n      <th>4</th>\n      <td>5</td>\n      <td>bianca_andrade</td>\n      <td>0.5309</td>\n      <td>bianca_andrade</td>\n      <td>0.348445</td>\n      <td>[123453310013884.33, 100191972146802.0, 164165...</td>\n      <td>negativos_individual_pct</td>\n    </tr>\n    <tr>\n      <th>5</th>\n      <td>6</td>\n      <td>guilherme</td>\n      <td>0.5607</td>\n      <td>guilherme</td>\n      <td>0.527756</td>\n      <td>[-0.023146259253458694, 0.14516414296388386, -...</td>\n      <td>neutros_global_pct</td>\n    </tr>\n    <tr>\n      <th>6</th>\n      <td>7</td>\n      <td>victor_hugo</td>\n      <td>0.8522</td>\n      <td>victor_hugo</td>\n      <td>0.346532</td>\n      <td>[-0.07193048432835142, 0.16374597320414153, -0...</td>\n      <td>neutros_global_pct</td>\n    </tr>\n    <tr>\n      <th>7</th>\n      <td>8</td>\n      <td>pyong</td>\n      <td>0.5170</td>\n      <td>pyong</td>\n      <td>0.616469</td>\n      <td>[62016664609456.336, 50331351443630.23, 824683...</td>\n      <td>negativos_individual_pct</td>\n    </tr>\n    <tr>\n      <th>8</th>\n      <td>9</td>\n      <td>daniel</td>\n      <td>0.8082</td>\n      <td>daniel</td>\n      <td>0.648557</td>\n      <td>[-0.10407626626465939, 0.21344152440934838, -0...</td>\n      <td>neutros_global_pct</td>\n    </tr>\n    <tr>\n      <th>9</th>\n      <td>10</td>\n      <td>felipe_prior</td>\n      <td>0.5673</td>\n      <td>felipe_prior</td>\n      <td>1.384012</td>\n      <td>[0.08326041687716336, 0.13267750781171872, -0....</td>\n      <td>fora</td>\n    </tr>\n    <tr>\n      <th>11</th>\n      <td>12</td>\n      <td>marcela</td>\n      <td>0.4976</td>\n      <td>marcela</td>\n      <td>0.428991</td>\n      <td>[-0.06262431608982731, 0.1459775345171255, -0....</td>\n      <td>neutros_global_pct</td>\n    </tr>\n    <tr>\n      <th>12</th>\n      <td>13</td>\n      <td>flayslene</td>\n      <td>0.6300</td>\n      <td>flayslene</td>\n      <td>0.413603</td>\n      <td>[-0.09118665140702092, 0.19106915673067407, -0...</td>\n      <td>neutros_global_pct</td>\n    </tr>\n  </tbody>\n</table>\n</div>"
     },
     "metadata": {},
     "execution_count": 7
    }
   ],
   "source": [
    "linear_reg_df"
   ]
  },
  {
   "cell_type": "code",
   "execution_count": 8,
   "metadata": {},
   "outputs": [
    {
     "output_type": "execute_result",
     "data": {
      "text/plain": "most_important\nfora                        1\nnegativos_individual_pct    5\nneutros_global_pct          6\nName: paredao, dtype: int64"
     },
     "metadata": {},
     "execution_count": 8
    }
   ],
   "source": [
    "linear_reg_df.groupby(\"most_important\")[\"paredao\"].count()"
   ]
  },
  {
   "cell_type": "code",
   "execution_count": null,
   "metadata": {},
   "outputs": [],
   "source": []
  }
 ],
 "metadata": {
  "language_info": {
   "codemirror_mode": {
    "name": "ipython",
    "version": 3
   },
   "file_extension": ".py",
   "mimetype": "text/x-python",
   "name": "python",
   "nbconvert_exporter": "python",
   "pygments_lexer": "ipython3",
   "version": "3.6.9-final"
  },
  "orig_nbformat": 2,
  "kernelspec": {
   "name": "python36964bitbertvirtualenv054cbb15ab924922a35a349b12e89805",
   "display_name": "Python 3.6.9 64-bit ('bert': virtualenv)"
  }
 },
 "nbformat": 4,
 "nbformat_minor": 2
}