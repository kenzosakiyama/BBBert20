{
 "cells": [
  {
   "cell_type": "code",
   "execution_count": 1,
   "metadata": {},
   "outputs": [],
   "source": [
    "import pandas as pd \n",
    "import numpy as np \n",
    "import seaborn as sns\n",
    "import os\n",
    "import json\n",
    "from typing import Tuple\n",
    "from tqdm import tqdm\n",
    "from regression_utils import *\n",
    "from sklearn.linear_model import LinearRegression, SGDRegressor\n",
    "sns.set(rc={\"figure.figsize\": (20, 10)})\n"
   ]
  },
  {
   "cell_type": "code",
   "execution_count": 2,
   "metadata": {},
   "outputs": [],
   "source": [
    "sgd_params = {'alpha': 1, 'epsilon': 0.15, 'l1_ratio': 0.3, 'learning_rate': 'optimal', 'loss': 'squared_epsilon_insensitive', 'penalty': 'l2'}"
   ]
  },
  {
   "cell_type": "code",
   "execution_count": 3,
   "metadata": {},
   "outputs": [],
   "source": [
    "PATH_TO_DATA = \"../analysis/data\"\n",
    "REMOVE = [\"positivos\", \"neutros\", \"negativos\", \"likes\", \"retweets\", \"day2\", \"day3\"]\n",
    "paredoes_df = {\n",
    "    \"paredao\": [],\n",
    "    \"eliminado\": [],\n",
    "    \"rejeicao\": [],\n",
    "    \"pred\": [],\n",
    "    \"pred_pct\": [],\n",
    "    \"pesos\": []\n",
    "}"
   ]
  },
  {
   "cell_type": "code",
   "execution_count": 4,
   "metadata": {},
   "outputs": [],
   "source": [
    "cols = None\n",
    "def df_to_train_data(df: pd.DataFrame) -> Tuple[np.array, np.array]:\n",
    "    return df.drop(columns=[\"paredao\", \"nome\", \"rejeicao\"], axis=1).to_numpy(), df.drop(columns=df.columns[:-1], axis=1)\n",
    "\n",
    "def run_paredoes() -> pd.DataFrame:\n",
    "    # Treinando em n-1 paredões para predizer o n-ésimo\n",
    "    paredoes = len(os.listdir(PATH_TO_DATA))\n",
    "\n",
    "    for paredao in range(1, paredoes+1):\n",
    "        # regressor = LinearRegression()\n",
    "        regressor = SGDRegressor(**sgd_params)\n",
    "        train_df, test_df, mean, std = get_train_test(paredao, normalize=True, drop_columns=REMOVE)\n",
    "\n",
    "        x_train, y_train = df_to_train_data(train_df)\n",
    "        x_test, y_test = df_to_train_data(test_df)\n",
    "\n",
    "        y_train, y_test = np.ravel(y_train), np.ravel(y_test)\n",
    "\n",
    "        regressor.fit(x_train, y_train)\n",
    "        prediction = regressor.predict(x_test)\n",
    "\n",
    "        test_df[\"predicao\"] = prediction * std + mean\n",
    "        test_df[\"rejeicao\"] =  test_df[\"rejeicao\"] * std + mean\n",
    "        \n",
    "        pred_elimination, pred_pct = test_df.sort_values(by=\"predicao\", ascending=False)[[\"nome\", \"predicao\"]].iloc[0] \n",
    "        true_elimination, true_pct = test_df.sort_values(by=\"rejeicao\", ascending=False)[[\"nome\", \"rejeicao\"]].iloc[0]\n",
    "\n",
    "        paredoes_df[\"paredao\"].append(paredao)\n",
    "        paredoes_df[\"eliminado\"].append(true_elimination)\n",
    "        paredoes_df[\"rejeicao\"].append(true_pct)\n",
    "        paredoes_df[\"pred\"].append(pred_elimination)\n",
    "        paredoes_df[\"pred_pct\"].append(pred_pct)\n",
    "        paredoes_df[\"pesos\"].append(regressor.coef_)\n",
    "\n",
    "    return pd.DataFrame(paredoes_df), train_df.drop(columns=[\"paredao\", \"nome\", \"rejeicao\"], axis=1).columns.to_list()\n"
   ]
  },
  {
   "cell_type": "markdown",
   "metadata": {},
   "source": [
    "# Análise de importância de cada atributo"
   ]
  },
  {
   "cell_type": "code",
   "execution_count": 5,
   "metadata": {},
   "outputs": [],
   "source": [
    "linear_reg_df, cols = run_paredoes()\n"
   ]
  },
  {
   "cell_type": "code",
   "execution_count": 6,
   "metadata": {},
   "outputs": [],
   "source": [
    "linear_reg_df = linear_reg_df[linear_reg_df[\"eliminado\"] == linear_reg_df[\"pred\"]]"
   ]
  },
  {
   "cell_type": "code",
   "execution_count": 7,
   "metadata": {},
   "outputs": [],
   "source": [
    "linear_reg_df[\"most_important\"] = \"\"\n",
    "for i in range(len(linear_reg_df)):\n",
    "    coef = linear_reg_df[\"pesos\"].iloc[i]\n",
    "    linear_reg_df[\"most_important\"].iloc[i] = cols[coef.argmax()]"
   ]
  },
  {
   "cell_type": "code",
   "execution_count": 8,
   "metadata": {},
   "outputs": [
    {
     "output_type": "execute_result",
     "data": {
      "text/plain": "    paredao        eliminado  rejeicao             pred  pred_pct  \\\n0         1     lucas_chumbo    0.7594     lucas_chumbo  0.546847   \n1         2           petrix    0.8027           petrix  0.507881   \n2         3           hadson    0.7971           hadson  0.463044   \n3         4            lucas    0.6262            lucas  0.458199   \n5         6        guilherme    0.5607        guilherme  0.464838   \n6         7      victor_hugo    0.8522      victor_hugo  0.289926   \n7         8            pyong    0.5170            pyong  0.597248   \n8         9           daniel    0.8082           daniel  0.481588   \n9        10     felipe_prior    0.5673     felipe_prior  0.894110   \n11       12          marcela    0.4976          marcela  0.394965   \n12       13        flayslene    0.6300        flayslene  0.411307   \n13       14  gizelly_bicalho    0.5479  gizelly_bicalho  0.531987   \n\n                                                pesos          most_important  \n0   [-0.1306719976217005, 0.14993066064248814, -0....                    fora  \n1   [-0.14344123183199492, 0.15747264407275582, 0....                    fora  \n2   [-0.1706452918534501, 0.15790194129509028, 0.0...  neutros_individual_pct  \n3   [-0.14426375626894505, 0.14989393087429814, 0....                    fora  \n5   [-0.13263231772463355, 0.15904552655435303, -0...                    fora  \n6   [-0.14798501850103749, 0.19157003984431778, -0...                    fora  \n7   [-0.08703892977642724, 0.017888030868848836, 0...      neutros_global_pct  \n8   [-0.1302196456743085, 0.15430830981155433, -0....                    fora  \n9   [-0.14818040246027167, 0.1715952236651637, -0....                    fora  \n11  [-0.12727084092898935, 0.15313290045408454, -0...                    fora  \n12  [-0.0765063829388547, 0.1631331048957796, -0.0...                    fora  \n13  [-0.08708480876447318, 0.10695651378392408, -0...      neutros_global_pct  ",
      "text/html": "<div>\n<style scoped>\n    .dataframe tbody tr th:only-of-type {\n        vertical-align: middle;\n    }\n\n    .dataframe tbody tr th {\n        vertical-align: top;\n    }\n\n    .dataframe thead th {\n        text-align: right;\n    }\n</style>\n<table border=\"1\" class=\"dataframe\">\n  <thead>\n    <tr style=\"text-align: right;\">\n      <th></th>\n      <th>paredao</th>\n      <th>eliminado</th>\n      <th>rejeicao</th>\n      <th>pred</th>\n      <th>pred_pct</th>\n      <th>pesos</th>\n      <th>most_important</th>\n    </tr>\n  </thead>\n  <tbody>\n    <tr>\n      <th>0</th>\n      <td>1</td>\n      <td>lucas_chumbo</td>\n      <td>0.7594</td>\n      <td>lucas_chumbo</td>\n      <td>0.546847</td>\n      <td>[-0.1306719976217005, 0.14993066064248814, -0....</td>\n      <td>fora</td>\n    </tr>\n    <tr>\n      <th>1</th>\n      <td>2</td>\n      <td>petrix</td>\n      <td>0.8027</td>\n      <td>petrix</td>\n      <td>0.507881</td>\n      <td>[-0.14344123183199492, 0.15747264407275582, 0....</td>\n      <td>fora</td>\n    </tr>\n    <tr>\n      <th>2</th>\n      <td>3</td>\n      <td>hadson</td>\n      <td>0.7971</td>\n      <td>hadson</td>\n      <td>0.463044</td>\n      <td>[-0.1706452918534501, 0.15790194129509028, 0.0...</td>\n      <td>neutros_individual_pct</td>\n    </tr>\n    <tr>\n      <th>3</th>\n      <td>4</td>\n      <td>lucas</td>\n      <td>0.6262</td>\n      <td>lucas</td>\n      <td>0.458199</td>\n      <td>[-0.14426375626894505, 0.14989393087429814, 0....</td>\n      <td>fora</td>\n    </tr>\n    <tr>\n      <th>5</th>\n      <td>6</td>\n      <td>guilherme</td>\n      <td>0.5607</td>\n      <td>guilherme</td>\n      <td>0.464838</td>\n      <td>[-0.13263231772463355, 0.15904552655435303, -0...</td>\n      <td>fora</td>\n    </tr>\n    <tr>\n      <th>6</th>\n      <td>7</td>\n      <td>victor_hugo</td>\n      <td>0.8522</td>\n      <td>victor_hugo</td>\n      <td>0.289926</td>\n      <td>[-0.14798501850103749, 0.19157003984431778, -0...</td>\n      <td>fora</td>\n    </tr>\n    <tr>\n      <th>7</th>\n      <td>8</td>\n      <td>pyong</td>\n      <td>0.5170</td>\n      <td>pyong</td>\n      <td>0.597248</td>\n      <td>[-0.08703892977642724, 0.017888030868848836, 0...</td>\n      <td>neutros_global_pct</td>\n    </tr>\n    <tr>\n      <th>8</th>\n      <td>9</td>\n      <td>daniel</td>\n      <td>0.8082</td>\n      <td>daniel</td>\n      <td>0.481588</td>\n      <td>[-0.1302196456743085, 0.15430830981155433, -0....</td>\n      <td>fora</td>\n    </tr>\n    <tr>\n      <th>9</th>\n      <td>10</td>\n      <td>felipe_prior</td>\n      <td>0.5673</td>\n      <td>felipe_prior</td>\n      <td>0.894110</td>\n      <td>[-0.14818040246027167, 0.1715952236651637, -0....</td>\n      <td>fora</td>\n    </tr>\n    <tr>\n      <th>11</th>\n      <td>12</td>\n      <td>marcela</td>\n      <td>0.4976</td>\n      <td>marcela</td>\n      <td>0.394965</td>\n      <td>[-0.12727084092898935, 0.15313290045408454, -0...</td>\n      <td>fora</td>\n    </tr>\n    <tr>\n      <th>12</th>\n      <td>13</td>\n      <td>flayslene</td>\n      <td>0.6300</td>\n      <td>flayslene</td>\n      <td>0.411307</td>\n      <td>[-0.0765063829388547, 0.1631331048957796, -0.0...</td>\n      <td>fora</td>\n    </tr>\n    <tr>\n      <th>13</th>\n      <td>14</td>\n      <td>gizelly_bicalho</td>\n      <td>0.5479</td>\n      <td>gizelly_bicalho</td>\n      <td>0.531987</td>\n      <td>[-0.08708480876447318, 0.10695651378392408, -0...</td>\n      <td>neutros_global_pct</td>\n    </tr>\n  </tbody>\n</table>\n</div>"
     },
     "metadata": {},
     "execution_count": 8
    }
   ],
   "source": [
    "linear_reg_df"
   ]
  },
  {
   "cell_type": "code",
   "execution_count": 9,
   "metadata": {},
   "outputs": [
    {
     "output_type": "execute_result",
     "data": {
      "text/plain": "most_important\nfora                      9\nneutros_global_pct        2\nneutros_individual_pct    1\nName: paredao, dtype: int64"
     },
     "metadata": {},
     "execution_count": 9
    }
   ],
   "source": [
    "linear_reg_df.groupby(\"most_important\")[\"paredao\"].count()"
   ]
  },
  {
   "cell_type": "code",
   "execution_count": null,
   "metadata": {},
   "outputs": [],
   "source": []
  }
 ],
 "metadata": {
  "language_info": {
   "codemirror_mode": {
    "name": "ipython",
    "version": 3
   },
   "file_extension": ".py",
   "mimetype": "text/x-python",
   "name": "python",
   "nbconvert_exporter": "python",
   "pygments_lexer": "ipython3",
   "version": "3.6.9-final"
  },
  "orig_nbformat": 2,
  "kernelspec": {
   "name": "python36964bitbertvirtualenv054cbb15ab924922a35a349b12e89805",
   "display_name": "Python 3.6.9 64-bit ('bert': virtualenv)"
  }
 },
 "nbformat": 4,
 "nbformat_minor": 2
}