{
 "cells": [
  {
   "cell_type": "code",
   "execution_count": 1,
   "metadata": {},
   "outputs": [],
   "source": [
    "import pandas as pd \n",
    "import numpy as np \n",
    "import seaborn as sns\n",
    "import os\n",
    "import json\n",
    "from typing import Tuple\n",
    "from tqdm import tqdm\n",
    "from regression_utils import *\n",
    "from sklearn.linear_model import LinearRegression\n",
    "sns.set(rc={\"figure.figsize\": (20, 10)})\n"
   ]
  },
  {
   "cell_type": "code",
   "execution_count": 2,
   "metadata": {},
   "outputs": [],
   "source": [
    "PATH_TO_DATA = \"../analysis/data\"\n",
    "REMOVE = [\"positivos\", \"neutros\", \"negativos\", \"likes\", \"retweets\", \"day2\", \"day3\"]\n",
    "paredoes_df = {\n",
    "    \"paredao\": [],\n",
    "    \"eliminado\": [],\n",
    "    \"rejeicao\": [],\n",
    "    \"pred\": [],\n",
    "    \"pred_pct\": [],\n",
    "    \"pesos\": []\n",
    "}"
   ]
  },
  {
   "cell_type": "code",
   "execution_count": 3,
   "metadata": {},
   "outputs": [],
   "source": [
    "cols = None\n",
    "def df_to_train_data(df: pd.DataFrame) -> Tuple[np.array, np.array]:\n",
    "    return df.drop(columns=[\"paredao\", \"nome\", \"rejeicao\"], axis=1).to_numpy(), df.drop(columns=df.columns[:-1], axis=1)\n",
    "\n",
    "def run_paredoes() -> pd.DataFrame:\n",
    "    # Treinando em n-1 paredões para predizer o n-ésimo\n",
    "    paredoes = len(os.listdir(PATH_TO_DATA))\n",
    "\n",
    "    # Somar mais um depois\n",
    "    for paredao in range(1, paredoes):\n",
    "        regressor = LinearRegression()\n",
    "        train_df, test_df, mean, std = get_train_test(paredao, normalize=True, drop_columns=REMOVE)\n",
    "\n",
    "        x_train, y_train = df_to_train_data(train_df)\n",
    "        x_test, y_test = df_to_train_data(test_df)\n",
    "\n",
    "        y_train, y_test = np.ravel(y_train), np.ravel(y_test)\n",
    "\n",
    "        regressor.fit(x_train, y_train)\n",
    "        prediction = regressor.predict(x_test)\n",
    "\n",
    "        test_df[\"predicao\"] = prediction * std + mean\n",
    "        test_df[\"rejeicao\"] =  test_df[\"rejeicao\"] * std + mean\n",
    "        \n",
    "        pred_elimination, pred_pct = test_df.sort_values(by=\"predicao\", ascending=False)[[\"nome\", \"predicao\"]].iloc[0] \n",
    "        true_elimination, true_pct = test_df.sort_values(by=\"rejeicao\", ascending=False)[[\"nome\", \"rejeicao\"]].iloc[0]\n",
    "\n",
    "        paredoes_df[\"paredao\"].append(paredao)\n",
    "        paredoes_df[\"eliminado\"].append(true_elimination)\n",
    "        paredoes_df[\"rejeicao\"].append(true_pct)\n",
    "        paredoes_df[\"pred\"].append(pred_elimination)\n",
    "        paredoes_df[\"pred_pct\"].append(pred_pct)\n",
    "        paredoes_df[\"pesos\"].append(regressor.coef_)\n",
    "\n",
    "    return pd.DataFrame(paredoes_df), train_df.drop(columns=[\"paredao\", \"nome\", \"rejeicao\"], axis=1).columns.to_list()\n"
   ]
  },
  {
   "cell_type": "markdown",
   "metadata": {},
   "source": [
    "# Análise de importância de cada atributo"
   ]
  },
  {
   "cell_type": "code",
   "execution_count": 4,
   "metadata": {},
   "outputs": [],
   "source": [
    "linear_reg_df, cols = run_paredoes()\n"
   ]
  },
  {
   "cell_type": "code",
   "execution_count": 5,
   "metadata": {},
   "outputs": [],
   "source": [
    "linear_reg_df = linear_reg_df[linear_reg_df[\"eliminado\"] == linear_reg_df[\"pred\"]]"
   ]
  },
  {
   "cell_type": "code",
   "execution_count": 6,
   "metadata": {},
   "outputs": [],
   "source": [
    "linear_reg_df[\"most_important\"] = \"\"\n",
    "for i in range(len(linear_reg_df)):\n",
    "    coef = linear_reg_df[\"pesos\"].iloc[i]\n",
    "    linear_reg_df[\"most_important\"].iloc[i] = cols[coef.argmax()]"
   ]
  },
  {
   "cell_type": "code",
   "execution_count": 7,
   "metadata": {},
   "outputs": [
    {
     "output_type": "execute_result",
     "data": {
      "text/plain": "    paredao       eliminado  rejeicao            pred  pred_pct  \\\n0         1    lucas_chumbo    0.7594    lucas_chumbo  0.860978   \n1         2          petrix    0.8027          petrix  0.794741   \n2         3          hadson    0.7971          hadson  0.722763   \n3         4           lucas    0.6262           lucas  0.459758   \n4         5  bianca_andrade    0.5309  bianca_andrade  0.449258   \n5         6       guilherme    0.5607       guilherme  0.505839   \n6         7     victor_hugo    0.8522     victor_hugo  0.381050   \n7         8           pyong    0.5170           pyong  0.710489   \n8         9          daniel    0.8082          daniel  0.695523   \n9        10    felipe_prior    0.5673    felipe_prior  1.620340   \n11       12         marcela    0.4976         marcela  0.495250   \n\n                                                pesos  \\\n0   [0.007318948561091917, 0.09197022243520103, -0...   \n1   [199125988282964.47, 145466342262000.12, 26194...   \n2   [194125892364698.2, 141813651468290.97, 255365...   \n3   [0.007221873799212036, 0.04214459157463274, -0...   \n4   [-13975084050646.312, -10209136322089.178, -18...   \n5   [0.06218261972641653, 0.04102906969503223, -0....   \n6   [-0.0492799446932586, 0.13591227909456, -0.038...   \n7   [-0.05168116435957398, 0.14886175328156004, -0...   \n8   [42939410753572.75, 31368276311235.46, 5648520...   \n9   [94667987358638.83, 69157250488054.84, 1245322...   \n11  [52977057097850.93, 38701019320885.7, 69689357...   \n\n              most_important  \n0         neutros_global_pct  \n1   negativos_individual_pct  \n2   negativos_individual_pct  \n3         neutros_global_pct  \n4         neutros_global_pct  \n5         neutros_global_pct  \n6         neutros_global_pct  \n7         neutros_global_pct  \n8   negativos_individual_pct  \n9   negativos_individual_pct  \n11  negativos_individual_pct  ",
      "text/html": "<div>\n<style scoped>\n    .dataframe tbody tr th:only-of-type {\n        vertical-align: middle;\n    }\n\n    .dataframe tbody tr th {\n        vertical-align: top;\n    }\n\n    .dataframe thead th {\n        text-align: right;\n    }\n</style>\n<table border=\"1\" class=\"dataframe\">\n  <thead>\n    <tr style=\"text-align: right;\">\n      <th></th>\n      <th>paredao</th>\n      <th>eliminado</th>\n      <th>rejeicao</th>\n      <th>pred</th>\n      <th>pred_pct</th>\n      <th>pesos</th>\n      <th>most_important</th>\n    </tr>\n  </thead>\n  <tbody>\n    <tr>\n      <th>0</th>\n      <td>1</td>\n      <td>lucas_chumbo</td>\n      <td>0.7594</td>\n      <td>lucas_chumbo</td>\n      <td>0.860978</td>\n      <td>[0.007318948561091917, 0.09197022243520103, -0...</td>\n      <td>neutros_global_pct</td>\n    </tr>\n    <tr>\n      <th>1</th>\n      <td>2</td>\n      <td>petrix</td>\n      <td>0.8027</td>\n      <td>petrix</td>\n      <td>0.794741</td>\n      <td>[199125988282964.47, 145466342262000.12, 26194...</td>\n      <td>negativos_individual_pct</td>\n    </tr>\n    <tr>\n      <th>2</th>\n      <td>3</td>\n      <td>hadson</td>\n      <td>0.7971</td>\n      <td>hadson</td>\n      <td>0.722763</td>\n      <td>[194125892364698.2, 141813651468290.97, 255365...</td>\n      <td>negativos_individual_pct</td>\n    </tr>\n    <tr>\n      <th>3</th>\n      <td>4</td>\n      <td>lucas</td>\n      <td>0.6262</td>\n      <td>lucas</td>\n      <td>0.459758</td>\n      <td>[0.007221873799212036, 0.04214459157463274, -0...</td>\n      <td>neutros_global_pct</td>\n    </tr>\n    <tr>\n      <th>4</th>\n      <td>5</td>\n      <td>bianca_andrade</td>\n      <td>0.5309</td>\n      <td>bianca_andrade</td>\n      <td>0.449258</td>\n      <td>[-13975084050646.312, -10209136322089.178, -18...</td>\n      <td>neutros_global_pct</td>\n    </tr>\n    <tr>\n      <th>5</th>\n      <td>6</td>\n      <td>guilherme</td>\n      <td>0.5607</td>\n      <td>guilherme</td>\n      <td>0.505839</td>\n      <td>[0.06218261972641653, 0.04102906969503223, -0....</td>\n      <td>neutros_global_pct</td>\n    </tr>\n    <tr>\n      <th>6</th>\n      <td>7</td>\n      <td>victor_hugo</td>\n      <td>0.8522</td>\n      <td>victor_hugo</td>\n      <td>0.381050</td>\n      <td>[-0.0492799446932586, 0.13591227909456, -0.038...</td>\n      <td>neutros_global_pct</td>\n    </tr>\n    <tr>\n      <th>7</th>\n      <td>8</td>\n      <td>pyong</td>\n      <td>0.5170</td>\n      <td>pyong</td>\n      <td>0.710489</td>\n      <td>[-0.05168116435957398, 0.14886175328156004, -0...</td>\n      <td>neutros_global_pct</td>\n    </tr>\n    <tr>\n      <th>8</th>\n      <td>9</td>\n      <td>daniel</td>\n      <td>0.8082</td>\n      <td>daniel</td>\n      <td>0.695523</td>\n      <td>[42939410753572.75, 31368276311235.46, 5648520...</td>\n      <td>negativos_individual_pct</td>\n    </tr>\n    <tr>\n      <th>9</th>\n      <td>10</td>\n      <td>felipe_prior</td>\n      <td>0.5673</td>\n      <td>felipe_prior</td>\n      <td>1.620340</td>\n      <td>[94667987358638.83, 69157250488054.84, 1245322...</td>\n      <td>negativos_individual_pct</td>\n    </tr>\n    <tr>\n      <th>11</th>\n      <td>12</td>\n      <td>marcela</td>\n      <td>0.4976</td>\n      <td>marcela</td>\n      <td>0.495250</td>\n      <td>[52977057097850.93, 38701019320885.7, 69689357...</td>\n      <td>negativos_individual_pct</td>\n    </tr>\n  </tbody>\n</table>\n</div>"
     },
     "metadata": {},
     "execution_count": 7
    }
   ],
   "source": [
    "linear_reg_df"
   ]
  },
  {
   "cell_type": "code",
   "execution_count": 8,
   "metadata": {},
   "outputs": [
    {
     "output_type": "execute_result",
     "data": {
      "text/plain": "most_important\nnegativos_individual_pct    5\nneutros_global_pct          6\nName: paredao, dtype: int64"
     },
     "metadata": {},
     "execution_count": 8
    }
   ],
   "source": [
    "linear_reg_df.groupby(\"most_important\")[\"paredao\"].count()"
   ]
  },
  {
   "cell_type": "code",
   "execution_count": null,
   "metadata": {},
   "outputs": [],
   "source": []
  }
 ],
 "metadata": {
  "language_info": {
   "codemirror_mode": {
    "name": "ipython",
    "version": 3
   },
   "file_extension": ".py",
   "mimetype": "text/x-python",
   "name": "python",
   "nbconvert_exporter": "python",
   "pygments_lexer": "ipython3",
   "version": "3.6.9-final"
  },
  "orig_nbformat": 2,
  "kernelspec": {
   "name": "python36964bitbertvirtualenv054cbb15ab924922a35a349b12e89805",
   "display_name": "Python 3.6.9 64-bit ('bert': virtualenv)"
  }
 },
 "nbformat": 4,
 "nbformat_minor": 2
}