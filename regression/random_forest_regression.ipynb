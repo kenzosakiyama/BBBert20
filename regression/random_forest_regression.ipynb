{
 "nbformat": 4,
 "nbformat_minor": 2,
 "metadata": {
  "language_info": {
   "name": "python",
   "codemirror_mode": {
    "name": "ipython",
    "version": 3
   },
   "version": "3.6.9-final"
  },
  "orig_nbformat": 2,
  "file_extension": ".py",
  "mimetype": "text/x-python",
  "name": "python",
  "npconvert_exporter": "python",
  "pygments_lexer": "ipython3",
  "version": 3,
  "kernelspec": {
   "name": "python36964bitbertvirtualenv054cbb15ab924922a35a349b12e89805",
   "display_name": "Python 3.6.9 64-bit ('bert': virtualenv)"
  }
 },
 "cells": [
  {
   "cell_type": "markdown",
   "metadata": {},
   "source": [
    "# Experimentos baseados em regressão utiliando Árvores de Decisão"
   ]
  },
  {
   "cell_type": "markdown",
   "metadata": {},
   "source": [
    "- Utilizando cada paredão como teste e avaliando com holdout."
   ]
  },
  {
   "cell_type": "code",
   "execution_count": 1,
   "metadata": {},
   "outputs": [],
   "source": [
    "import pandas as pd \n",
    "import numpy as np \n",
    "from regression_utils import *\n",
    "from sklearn.ensemble import RandomForestRegressor"
   ]
  },
  {
   "cell_type": "code",
   "execution_count": 2,
   "metadata": {},
   "outputs": [],
   "source": [
    "NORMALIZE = False\n",
    "ESTIMATORS = 1000"
   ]
  },
  {
   "cell_type": "code",
   "execution_count": 3,
   "metadata": {},
   "outputs": [],
   "source": [
    "summary_df = pd.DataFrame(columns=COLUMNS)"
   ]
  },
  {
   "cell_type": "markdown",
   "metadata": {},
   "source": [
    "# Paredao 1"
   ]
  },
  {
   "cell_type": "code",
   "execution_count": 4,
   "metadata": {},
   "outputs": [],
   "source": [
    "train_df, test_df = get_train_test(1, normalize=NORMALIZE)"
   ]
  },
  {
   "cell_type": "code",
   "execution_count": 5,
   "metadata": {},
   "outputs": [
    {
     "output_type": "execute_result",
     "data": {
      "text/plain": "   paredao            nome positivos neutros negativos  positivos_pct  \\\n18       1  bianca_andrade      5102    5230      3762       0.361998   \n19       1    lucas_chumbo      5460   10796     14411       0.178042   \n\n    neutros_pct  negativos_pct seguidores  rejeicao  \n18      0.37108       0.266922     407828    0.2446  \n19      0.35204       0.469919      11665    0.7594  ",
      "text/html": "<div>\n<style scoped>\n    .dataframe tbody tr th:only-of-type {\n        vertical-align: middle;\n    }\n\n    .dataframe tbody tr th {\n        vertical-align: top;\n    }\n\n    .dataframe thead th {\n        text-align: right;\n    }\n</style>\n<table border=\"1\" class=\"dataframe\">\n  <thead>\n    <tr style=\"text-align: right;\">\n      <th></th>\n      <th>paredao</th>\n      <th>nome</th>\n      <th>positivos</th>\n      <th>neutros</th>\n      <th>negativos</th>\n      <th>positivos_pct</th>\n      <th>neutros_pct</th>\n      <th>negativos_pct</th>\n      <th>seguidores</th>\n      <th>rejeicao</th>\n    </tr>\n  </thead>\n  <tbody>\n    <tr>\n      <th>18</th>\n      <td>1</td>\n      <td>bianca_andrade</td>\n      <td>5102</td>\n      <td>5230</td>\n      <td>3762</td>\n      <td>0.361998</td>\n      <td>0.37108</td>\n      <td>0.266922</td>\n      <td>407828</td>\n      <td>0.2446</td>\n    </tr>\n    <tr>\n      <th>19</th>\n      <td>1</td>\n      <td>lucas_chumbo</td>\n      <td>5460</td>\n      <td>10796</td>\n      <td>14411</td>\n      <td>0.178042</td>\n      <td>0.35204</td>\n      <td>0.469919</td>\n      <td>11665</td>\n      <td>0.7594</td>\n    </tr>\n  </tbody>\n</table>\n</div>"
     },
     "metadata": {},
     "execution_count": 5
    }
   ],
   "source": [
    "test_df"
   ]
  },
  {
   "cell_type": "code",
   "execution_count": 6,
   "metadata": {},
   "outputs": [],
   "source": [
    "x_train, y_train = train_df.drop(columns=[\"paredao\", \"nome\", \"rejeicao\"], axis=1).to_numpy(), train_df.drop(columns=train_df.columns[:-1], axis=1).to_numpy()\n",
    "x_test, y_test = test_df.drop(columns=[\"paredao\", \"nome\", \"rejeicao\"], axis=1).to_numpy(), test_df.drop(columns=train_df.columns[:-1], axis=1).to_numpy()"
   ]
  },
  {
   "cell_type": "code",
   "execution_count": 7,
   "metadata": {},
   "outputs": [],
   "source": [
    "regressor = RandomForestRegressor(n_estimators=ESTIMATORS)"
   ]
  },
  {
   "cell_type": "code",
   "execution_count": 8,
   "metadata": {},
   "outputs": [],
   "source": [
    "_ = regressor.fit(x_train, y_train)"
   ]
  },
  {
   "cell_type": "code",
   "execution_count": 9,
   "metadata": {},
   "outputs": [],
   "source": [
    "prediction = regressor.predict(x_test)\n",
    "test_df[\"predicao\"] = prediction\n",
    "summary_df = summary_df.append(test_df, ignore_index=True, sort=False)"
   ]
  },
  {
   "cell_type": "code",
   "execution_count": 10,
   "metadata": {},
   "outputs": [
    {
     "output_type": "execute_result",
     "data": {
      "text/plain": "   paredao            nome positivos neutros negativos  positivos_pct  \\\n19       1    lucas_chumbo      5460   10796     14411       0.178042   \n18       1  bianca_andrade      5102    5230      3762       0.361998   \n\n    neutros_pct  negativos_pct seguidores  rejeicao  predicao  \n19      0.35204       0.469919      11665    0.7594  0.615847  \n18      0.37108       0.266922     407828    0.2446  0.094440  ",
      "text/html": "<div>\n<style scoped>\n    .dataframe tbody tr th:only-of-type {\n        vertical-align: middle;\n    }\n\n    .dataframe tbody tr th {\n        vertical-align: top;\n    }\n\n    .dataframe thead th {\n        text-align: right;\n    }\n</style>\n<table border=\"1\" class=\"dataframe\">\n  <thead>\n    <tr style=\"text-align: right;\">\n      <th></th>\n      <th>paredao</th>\n      <th>nome</th>\n      <th>positivos</th>\n      <th>neutros</th>\n      <th>negativos</th>\n      <th>positivos_pct</th>\n      <th>neutros_pct</th>\n      <th>negativos_pct</th>\n      <th>seguidores</th>\n      <th>rejeicao</th>\n      <th>predicao</th>\n    </tr>\n  </thead>\n  <tbody>\n    <tr>\n      <th>19</th>\n      <td>1</td>\n      <td>lucas_chumbo</td>\n      <td>5460</td>\n      <td>10796</td>\n      <td>14411</td>\n      <td>0.178042</td>\n      <td>0.35204</td>\n      <td>0.469919</td>\n      <td>11665</td>\n      <td>0.7594</td>\n      <td>0.615847</td>\n    </tr>\n    <tr>\n      <th>18</th>\n      <td>1</td>\n      <td>bianca_andrade</td>\n      <td>5102</td>\n      <td>5230</td>\n      <td>3762</td>\n      <td>0.361998</td>\n      <td>0.37108</td>\n      <td>0.266922</td>\n      <td>407828</td>\n      <td>0.2446</td>\n      <td>0.094440</td>\n    </tr>\n  </tbody>\n</table>\n</div>"
     },
     "metadata": {},
     "execution_count": 10
    }
   ],
   "source": [
    "test_df.sort_values(by=\"predicao\", ascending=False)"
   ]
  },
  {
   "cell_type": "markdown",
   "metadata": {},
   "source": [
    "# Paredao 2"
   ]
  },
  {
   "cell_type": "code",
   "execution_count": 11,
   "metadata": {},
   "outputs": [
    {
     "output_type": "execute_result",
     "data": {
      "text/plain": "   paredao    nome positivos neutros negativos  positivos_pct  neutros_pct  \\\n14       2    babu      3819    5049      3822       0.300946     0.397872   \n15       2  petrix     17850   41331     62584       0.146594     0.339433   \n16       2   pyong     19947   15248     12907       0.414681     0.316993   \n17       2  hadson     14732   30837     54056       0.147875     0.309531   \n\n    negativos_pct seguidores  rejeicao  \n14       0.301182     317268    0.0044  \n15       0.513974      22082    0.8027  \n16       0.268326    1419089    0.0066  \n17       0.542595       9524    0.1863  ",
      "text/html": "<div>\n<style scoped>\n    .dataframe tbody tr th:only-of-type {\n        vertical-align: middle;\n    }\n\n    .dataframe tbody tr th {\n        vertical-align: top;\n    }\n\n    .dataframe thead th {\n        text-align: right;\n    }\n</style>\n<table border=\"1\" class=\"dataframe\">\n  <thead>\n    <tr style=\"text-align: right;\">\n      <th></th>\n      <th>paredao</th>\n      <th>nome</th>\n      <th>positivos</th>\n      <th>neutros</th>\n      <th>negativos</th>\n      <th>positivos_pct</th>\n      <th>neutros_pct</th>\n      <th>negativos_pct</th>\n      <th>seguidores</th>\n      <th>rejeicao</th>\n    </tr>\n  </thead>\n  <tbody>\n    <tr>\n      <th>14</th>\n      <td>2</td>\n      <td>babu</td>\n      <td>3819</td>\n      <td>5049</td>\n      <td>3822</td>\n      <td>0.300946</td>\n      <td>0.397872</td>\n      <td>0.301182</td>\n      <td>317268</td>\n      <td>0.0044</td>\n    </tr>\n    <tr>\n      <th>15</th>\n      <td>2</td>\n      <td>petrix</td>\n      <td>17850</td>\n      <td>41331</td>\n      <td>62584</td>\n      <td>0.146594</td>\n      <td>0.339433</td>\n      <td>0.513974</td>\n      <td>22082</td>\n      <td>0.8027</td>\n    </tr>\n    <tr>\n      <th>16</th>\n      <td>2</td>\n      <td>pyong</td>\n      <td>19947</td>\n      <td>15248</td>\n      <td>12907</td>\n      <td>0.414681</td>\n      <td>0.316993</td>\n      <td>0.268326</td>\n      <td>1419089</td>\n      <td>0.0066</td>\n    </tr>\n    <tr>\n      <th>17</th>\n      <td>2</td>\n      <td>hadson</td>\n      <td>14732</td>\n      <td>30837</td>\n      <td>54056</td>\n      <td>0.147875</td>\n      <td>0.309531</td>\n      <td>0.542595</td>\n      <td>9524</td>\n      <td>0.1863</td>\n    </tr>\n  </tbody>\n</table>\n</div>"
     },
     "metadata": {},
     "execution_count": 11
    }
   ],
   "source": [
    "train_df, test_df = get_train_test(2, normalize=NORMALIZE)\n",
    "test_df\n",
    ""
   ]
  },
  {
   "cell_type": "code",
   "execution_count": 12,
   "metadata": {},
   "outputs": [],
   "source": [
    "x_train, y_train = train_df.drop(columns=[\"paredao\", \"nome\", \"rejeicao\"], axis=1).to_numpy(), train_df.drop(columns=train_df.columns[:-1], axis=1).to_numpy()\n",
    "x_test, y_test = test_df.drop(columns=[\"paredao\", \"nome\", \"rejeicao\"], axis=1).to_numpy(), test_df.drop(columns=train_df.columns[:-1], axis=1).to_numpy()"
   ]
  },
  {
   "cell_type": "code",
   "execution_count": 13,
   "metadata": {},
   "outputs": [],
   "source": [
    "regressor = RandomForestRegressor(n_estimators=ESTIMATORS)"
   ]
  },
  {
   "cell_type": "code",
   "execution_count": 14,
   "metadata": {},
   "outputs": [],
   "source": [
    "_ = regressor.fit(x_train, y_train)\n",
    ""
   ]
  },
  {
   "cell_type": "code",
   "execution_count": 15,
   "metadata": {},
   "outputs": [],
   "source": [
    "prediction = regressor.predict(x_test)\n",
    "test_df[\"predicao\"] = prediction\n",
    "summary_df = summary_df.append(test_df, ignore_index=True, sort=False)\n",
    "\n",
    ""
   ]
  },
  {
   "cell_type": "code",
   "execution_count": 16,
   "metadata": {},
   "outputs": [
    {
     "output_type": "execute_result",
     "data": {
      "text/plain": "   paredao    nome positivos neutros negativos  positivos_pct  neutros_pct  \\\n15       2  petrix     17850   41331     62584       0.146594     0.339433   \n17       2  hadson     14732   30837     54056       0.147875     0.309531   \n14       2    babu      3819    5049      3822       0.300946     0.397872   \n16       2   pyong     19947   15248     12907       0.414681     0.316993   \n\n    negativos_pct seguidores  rejeicao  predicao  \n15       0.513974      22082    0.8027  0.634129  \n17       0.542595       9524    0.1863  0.632506  \n14       0.301182     317268    0.0044  0.310233  \n16       0.268326    1419089    0.0066  0.106171  ",
      "text/html": "<div>\n<style scoped>\n    .dataframe tbody tr th:only-of-type {\n        vertical-align: middle;\n    }\n\n    .dataframe tbody tr th {\n        vertical-align: top;\n    }\n\n    .dataframe thead th {\n        text-align: right;\n    }\n</style>\n<table border=\"1\" class=\"dataframe\">\n  <thead>\n    <tr style=\"text-align: right;\">\n      <th></th>\n      <th>paredao</th>\n      <th>nome</th>\n      <th>positivos</th>\n      <th>neutros</th>\n      <th>negativos</th>\n      <th>positivos_pct</th>\n      <th>neutros_pct</th>\n      <th>negativos_pct</th>\n      <th>seguidores</th>\n      <th>rejeicao</th>\n      <th>predicao</th>\n    </tr>\n  </thead>\n  <tbody>\n    <tr>\n      <th>15</th>\n      <td>2</td>\n      <td>petrix</td>\n      <td>17850</td>\n      <td>41331</td>\n      <td>62584</td>\n      <td>0.146594</td>\n      <td>0.339433</td>\n      <td>0.513974</td>\n      <td>22082</td>\n      <td>0.8027</td>\n      <td>0.634129</td>\n    </tr>\n    <tr>\n      <th>17</th>\n      <td>2</td>\n      <td>hadson</td>\n      <td>14732</td>\n      <td>30837</td>\n      <td>54056</td>\n      <td>0.147875</td>\n      <td>0.309531</td>\n      <td>0.542595</td>\n      <td>9524</td>\n      <td>0.1863</td>\n      <td>0.632506</td>\n    </tr>\n    <tr>\n      <th>14</th>\n      <td>2</td>\n      <td>babu</td>\n      <td>3819</td>\n      <td>5049</td>\n      <td>3822</td>\n      <td>0.300946</td>\n      <td>0.397872</td>\n      <td>0.301182</td>\n      <td>317268</td>\n      <td>0.0044</td>\n      <td>0.310233</td>\n    </tr>\n    <tr>\n      <th>16</th>\n      <td>2</td>\n      <td>pyong</td>\n      <td>19947</td>\n      <td>15248</td>\n      <td>12907</td>\n      <td>0.414681</td>\n      <td>0.316993</td>\n      <td>0.268326</td>\n      <td>1419089</td>\n      <td>0.0066</td>\n      <td>0.106171</td>\n    </tr>\n  </tbody>\n</table>\n</div>"
     },
     "metadata": {},
     "execution_count": 16
    }
   ],
   "source": [
    "test_df.sort_values(by=\"predicao\", ascending=False)"
   ]
  },
  {
   "cell_type": "markdown",
   "metadata": {},
   "source": [
    "# Paredao 3"
   ]
  },
  {
   "cell_type": "code",
   "execution_count": 17,
   "metadata": {},
   "outputs": [
    {
     "output_type": "execute_result",
     "data": {
      "text/plain": "   paredao          nome positivos neutros negativos  positivos_pct  \\\n9        3  felipe_prior      2824    3707      3514       0.281135   \n10       3        hadson      2344    4928      3987       0.208189   \n\n    neutros_pct  negativos_pct seguidores  rejeicao  \n9      0.369039       0.349826     191901    0.2029  \n10     0.437694       0.354117       9524    0.7971  ",
      "text/html": "<div>\n<style scoped>\n    .dataframe tbody tr th:only-of-type {\n        vertical-align: middle;\n    }\n\n    .dataframe tbody tr th {\n        vertical-align: top;\n    }\n\n    .dataframe thead th {\n        text-align: right;\n    }\n</style>\n<table border=\"1\" class=\"dataframe\">\n  <thead>\n    <tr style=\"text-align: right;\">\n      <th></th>\n      <th>paredao</th>\n      <th>nome</th>\n      <th>positivos</th>\n      <th>neutros</th>\n      <th>negativos</th>\n      <th>positivos_pct</th>\n      <th>neutros_pct</th>\n      <th>negativos_pct</th>\n      <th>seguidores</th>\n      <th>rejeicao</th>\n    </tr>\n  </thead>\n  <tbody>\n    <tr>\n      <th>9</th>\n      <td>3</td>\n      <td>felipe_prior</td>\n      <td>2824</td>\n      <td>3707</td>\n      <td>3514</td>\n      <td>0.281135</td>\n      <td>0.369039</td>\n      <td>0.349826</td>\n      <td>191901</td>\n      <td>0.2029</td>\n    </tr>\n    <tr>\n      <th>10</th>\n      <td>3</td>\n      <td>hadson</td>\n      <td>2344</td>\n      <td>4928</td>\n      <td>3987</td>\n      <td>0.208189</td>\n      <td>0.437694</td>\n      <td>0.354117</td>\n      <td>9524</td>\n      <td>0.7971</td>\n    </tr>\n  </tbody>\n</table>\n</div>"
     },
     "metadata": {},
     "execution_count": 17
    }
   ],
   "source": [
    "train_df, test_df = get_train_test(3, normalize=NORMALIZE)\n",
    "test_df\n",
    ""
   ]
  },
  {
   "cell_type": "code",
   "execution_count": 18,
   "metadata": {},
   "outputs": [],
   "source": [
    "x_train, y_train = train_df.drop(columns=[\"paredao\", \"nome\", \"rejeicao\"], axis=1).to_numpy(), train_df.drop(columns=train_df.columns[:-1], axis=1).to_numpy()\n",
    "x_test, y_test = test_df.drop(columns=[\"paredao\", \"nome\", \"rejeicao\"], axis=1).to_numpy(), test_df.drop(columns=train_df.columns[:-1], axis=1).to_numpy()"
   ]
  },
  {
   "cell_type": "code",
   "execution_count": 19,
   "metadata": {},
   "outputs": [],
   "source": [
    "regressor = RandomForestRegressor(n_estimators=ESTIMATORS)"
   ]
  },
  {
   "cell_type": "code",
   "execution_count": 20,
   "metadata": {},
   "outputs": [],
   "source": [
    "_ = regressor.fit(x_train, y_train)"
   ]
  },
  {
   "cell_type": "code",
   "execution_count": 21,
   "metadata": {},
   "outputs": [],
   "source": [
    "prediction = regressor.predict(x_test)\n",
    "test_df[\"predicao\"] = prediction\n",
    "summary_df = summary_df.append(test_df, ignore_index=True, sort=False)"
   ]
  },
  {
   "cell_type": "code",
   "execution_count": 22,
   "metadata": {},
   "outputs": [
    {
     "output_type": "execute_result",
     "data": {
      "text/plain": "   paredao          nome positivos neutros negativos  positivos_pct  \\\n10       3        hadson      2344    4928      3987       0.208189   \n9        3  felipe_prior      2824    3707      3514       0.281135   \n\n    neutros_pct  negativos_pct seguidores  rejeicao  predicao  \n10     0.437694       0.354117       9524    0.7971  0.508153  \n9      0.369039       0.349826     191901    0.2029  0.184812  ",
      "text/html": "<div>\n<style scoped>\n    .dataframe tbody tr th:only-of-type {\n        vertical-align: middle;\n    }\n\n    .dataframe tbody tr th {\n        vertical-align: top;\n    }\n\n    .dataframe thead th {\n        text-align: right;\n    }\n</style>\n<table border=\"1\" class=\"dataframe\">\n  <thead>\n    <tr style=\"text-align: right;\">\n      <th></th>\n      <th>paredao</th>\n      <th>nome</th>\n      <th>positivos</th>\n      <th>neutros</th>\n      <th>negativos</th>\n      <th>positivos_pct</th>\n      <th>neutros_pct</th>\n      <th>negativos_pct</th>\n      <th>seguidores</th>\n      <th>rejeicao</th>\n      <th>predicao</th>\n    </tr>\n  </thead>\n  <tbody>\n    <tr>\n      <th>10</th>\n      <td>3</td>\n      <td>hadson</td>\n      <td>2344</td>\n      <td>4928</td>\n      <td>3987</td>\n      <td>0.208189</td>\n      <td>0.437694</td>\n      <td>0.354117</td>\n      <td>9524</td>\n      <td>0.7971</td>\n      <td>0.508153</td>\n    </tr>\n    <tr>\n      <th>9</th>\n      <td>3</td>\n      <td>felipe_prior</td>\n      <td>2824</td>\n      <td>3707</td>\n      <td>3514</td>\n      <td>0.281135</td>\n      <td>0.369039</td>\n      <td>0.349826</td>\n      <td>191901</td>\n      <td>0.2029</td>\n      <td>0.184812</td>\n    </tr>\n  </tbody>\n</table>\n</div>"
     },
     "metadata": {},
     "execution_count": 22
    }
   ],
   "source": [
    "test_df.sort_values(by=\"predicao\", ascending=False)"
   ]
  },
  {
   "cell_type": "markdown",
   "metadata": {},
   "source": [
    "# Paredao 4"
   ]
  },
  {
   "cell_type": "code",
   "execution_count": 23,
   "metadata": {},
   "outputs": [
    {
     "output_type": "execute_result",
     "data": {
      "text/plain": "   paredao         nome positivos neutros negativos  positivos_pct  \\\n20       4         babu      6766   10814     18799       0.185986   \n21       4  victor_hugo      2807    4560      4979       0.227361   \n22       4        lucas     12173   17964     31523       0.197421   \n\n    neutros_pct  negativos_pct seguidores  rejeicao  \n20     0.297259       0.516754     317268    0.0130  \n21     0.369350       0.403289      14044    0.3608  \n22     0.291340       0.511239      22688    0.6262  ",
      "text/html": "<div>\n<style scoped>\n    .dataframe tbody tr th:only-of-type {\n        vertical-align: middle;\n    }\n\n    .dataframe tbody tr th {\n        vertical-align: top;\n    }\n\n    .dataframe thead th {\n        text-align: right;\n    }\n</style>\n<table border=\"1\" class=\"dataframe\">\n  <thead>\n    <tr style=\"text-align: right;\">\n      <th></th>\n      <th>paredao</th>\n      <th>nome</th>\n      <th>positivos</th>\n      <th>neutros</th>\n      <th>negativos</th>\n      <th>positivos_pct</th>\n      <th>neutros_pct</th>\n      <th>negativos_pct</th>\n      <th>seguidores</th>\n      <th>rejeicao</th>\n    </tr>\n  </thead>\n  <tbody>\n    <tr>\n      <th>20</th>\n      <td>4</td>\n      <td>babu</td>\n      <td>6766</td>\n      <td>10814</td>\n      <td>18799</td>\n      <td>0.185986</td>\n      <td>0.297259</td>\n      <td>0.516754</td>\n      <td>317268</td>\n      <td>0.0130</td>\n    </tr>\n    <tr>\n      <th>21</th>\n      <td>4</td>\n      <td>victor_hugo</td>\n      <td>2807</td>\n      <td>4560</td>\n      <td>4979</td>\n      <td>0.227361</td>\n      <td>0.369350</td>\n      <td>0.403289</td>\n      <td>14044</td>\n      <td>0.3608</td>\n    </tr>\n    <tr>\n      <th>22</th>\n      <td>4</td>\n      <td>lucas</td>\n      <td>12173</td>\n      <td>17964</td>\n      <td>31523</td>\n      <td>0.197421</td>\n      <td>0.291340</td>\n      <td>0.511239</td>\n      <td>22688</td>\n      <td>0.6262</td>\n    </tr>\n  </tbody>\n</table>\n</div>"
     },
     "metadata": {},
     "execution_count": 23
    }
   ],
   "source": [
    "train_df, test_df = get_train_test(4, normalize=NORMALIZE)\n",
    "test_df\n",
    ""
   ]
  },
  {
   "cell_type": "code",
   "execution_count": 24,
   "metadata": {},
   "outputs": [],
   "source": [
    "x_train, y_train = train_df.drop(columns=[\"paredao\", \"nome\", \"rejeicao\"], axis=1).to_numpy(), train_df.drop(columns=train_df.columns[:-1], axis=1).to_numpy()\n",
    "x_test, y_test = test_df.drop(columns=[\"paredao\", \"nome\", \"rejeicao\"], axis=1).to_numpy(), test_df.drop(columns=train_df.columns[:-1], axis=1).to_numpy()"
   ]
  },
  {
   "cell_type": "code",
   "execution_count": 25,
   "metadata": {},
   "outputs": [],
   "source": [
    "regressor = RandomForestRegressor(n_estimators=ESTIMATORS)"
   ]
  },
  {
   "cell_type": "code",
   "execution_count": 26,
   "metadata": {},
   "outputs": [],
   "source": [
    "_ = regressor.fit(x_train, y_train)\n",
    ""
   ]
  },
  {
   "cell_type": "code",
   "execution_count": 27,
   "metadata": {},
   "outputs": [],
   "source": [
    "prediction = regressor.predict(x_test)\n",
    "test_df[\"predicao\"] = prediction\n",
    "summary_df = summary_df.append(test_df, ignore_index=True, sort=False)"
   ]
  },
  {
   "cell_type": "code",
   "execution_count": 28,
   "metadata": {},
   "outputs": [
    {
     "output_type": "execute_result",
     "data": {
      "text/plain": "   paredao         nome positivos neutros negativos  positivos_pct  \\\n21       4  victor_hugo      2807    4560      4979       0.227361   \n22       4        lucas     12173   17964     31523       0.197421   \n20       4         babu      6766   10814     18799       0.185986   \n\n    neutros_pct  negativos_pct seguidores  rejeicao  predicao  \n21     0.369350       0.403289      14044    0.3608  0.693218  \n22     0.291340       0.511239      22688    0.6262  0.513754  \n20     0.297259       0.516754     317268    0.0130  0.215936  ",
      "text/html": "<div>\n<style scoped>\n    .dataframe tbody tr th:only-of-type {\n        vertical-align: middle;\n    }\n\n    .dataframe tbody tr th {\n        vertical-align: top;\n    }\n\n    .dataframe thead th {\n        text-align: right;\n    }\n</style>\n<table border=\"1\" class=\"dataframe\">\n  <thead>\n    <tr style=\"text-align: right;\">\n      <th></th>\n      <th>paredao</th>\n      <th>nome</th>\n      <th>positivos</th>\n      <th>neutros</th>\n      <th>negativos</th>\n      <th>positivos_pct</th>\n      <th>neutros_pct</th>\n      <th>negativos_pct</th>\n      <th>seguidores</th>\n      <th>rejeicao</th>\n      <th>predicao</th>\n    </tr>\n  </thead>\n  <tbody>\n    <tr>\n      <th>21</th>\n      <td>4</td>\n      <td>victor_hugo</td>\n      <td>2807</td>\n      <td>4560</td>\n      <td>4979</td>\n      <td>0.227361</td>\n      <td>0.369350</td>\n      <td>0.403289</td>\n      <td>14044</td>\n      <td>0.3608</td>\n      <td>0.693218</td>\n    </tr>\n    <tr>\n      <th>22</th>\n      <td>4</td>\n      <td>lucas</td>\n      <td>12173</td>\n      <td>17964</td>\n      <td>31523</td>\n      <td>0.197421</td>\n      <td>0.291340</td>\n      <td>0.511239</td>\n      <td>22688</td>\n      <td>0.6262</td>\n      <td>0.513754</td>\n    </tr>\n    <tr>\n      <th>20</th>\n      <td>4</td>\n      <td>babu</td>\n      <td>6766</td>\n      <td>10814</td>\n      <td>18799</td>\n      <td>0.185986</td>\n      <td>0.297259</td>\n      <td>0.516754</td>\n      <td>317268</td>\n      <td>0.0130</td>\n      <td>0.215936</td>\n    </tr>\n  </tbody>\n</table>\n</div>"
     },
     "metadata": {},
     "execution_count": 28
    }
   ],
   "source": [
    "test_df.sort_values(by=\"predicao\", ascending=False)"
   ]
  },
  {
   "cell_type": "markdown",
   "metadata": {},
   "source": [
    "# Paredao 5"
   ]
  },
  {
   "cell_type": "code",
   "execution_count": 29,
   "metadata": {},
   "outputs": [
    {
     "output_type": "execute_result",
     "data": {
      "text/plain": "  paredao            nome positivos neutros negativos  positivos_pct  \\\n3       5  bianca_andrade      4239    8067      6802       0.221844   \n4       5       flayslene      2304    4170      6222       0.181474   \n5       5    felipe_prior      4887    9452     19076       0.146252   \n\n   neutros_pct  negativos_pct seguidores  rejeicao  \n3     0.422179       0.355977     407828    0.5309  \n4     0.328450       0.490076      99593    0.1764  \n5     0.282867       0.570881     191901    0.2927  ",
      "text/html": "<div>\n<style scoped>\n    .dataframe tbody tr th:only-of-type {\n        vertical-align: middle;\n    }\n\n    .dataframe tbody tr th {\n        vertical-align: top;\n    }\n\n    .dataframe thead th {\n        text-align: right;\n    }\n</style>\n<table border=\"1\" class=\"dataframe\">\n  <thead>\n    <tr style=\"text-align: right;\">\n      <th></th>\n      <th>paredao</th>\n      <th>nome</th>\n      <th>positivos</th>\n      <th>neutros</th>\n      <th>negativos</th>\n      <th>positivos_pct</th>\n      <th>neutros_pct</th>\n      <th>negativos_pct</th>\n      <th>seguidores</th>\n      <th>rejeicao</th>\n    </tr>\n  </thead>\n  <tbody>\n    <tr>\n      <th>3</th>\n      <td>5</td>\n      <td>bianca_andrade</td>\n      <td>4239</td>\n      <td>8067</td>\n      <td>6802</td>\n      <td>0.221844</td>\n      <td>0.422179</td>\n      <td>0.355977</td>\n      <td>407828</td>\n      <td>0.5309</td>\n    </tr>\n    <tr>\n      <th>4</th>\n      <td>5</td>\n      <td>flayslene</td>\n      <td>2304</td>\n      <td>4170</td>\n      <td>6222</td>\n      <td>0.181474</td>\n      <td>0.328450</td>\n      <td>0.490076</td>\n      <td>99593</td>\n      <td>0.1764</td>\n    </tr>\n    <tr>\n      <th>5</th>\n      <td>5</td>\n      <td>felipe_prior</td>\n      <td>4887</td>\n      <td>9452</td>\n      <td>19076</td>\n      <td>0.146252</td>\n      <td>0.282867</td>\n      <td>0.570881</td>\n      <td>191901</td>\n      <td>0.2927</td>\n    </tr>\n  </tbody>\n</table>\n</div>"
     },
     "metadata": {},
     "execution_count": 29
    }
   ],
   "source": [
    "train_df, test_df = get_train_test(5, normalize=NORMALIZE)\n",
    "test_df\n",
    ""
   ]
  },
  {
   "cell_type": "code",
   "execution_count": 30,
   "metadata": {},
   "outputs": [],
   "source": [
    "x_train, y_train = train_df.drop(columns=[\"paredao\", \"nome\", \"rejeicao\"], axis=1).to_numpy(), train_df.drop(columns=train_df.columns[:-1], axis=1).to_numpy()\n",
    "x_test, y_test = test_df.drop(columns=[\"paredao\", \"nome\", \"rejeicao\"], axis=1).to_numpy(), test_df.drop(columns=train_df.columns[:-1], axis=1).to_numpy()"
   ]
  },
  {
   "cell_type": "code",
   "execution_count": 31,
   "metadata": {},
   "outputs": [],
   "source": [
    "regressor = RandomForestRegressor(n_estimators=ESTIMATORS)"
   ]
  },
  {
   "cell_type": "code",
   "execution_count": 32,
   "metadata": {},
   "outputs": [],
   "source": [
    "_ = regressor.fit(x_train, y_train)\n",
    ""
   ]
  },
  {
   "cell_type": "code",
   "execution_count": 33,
   "metadata": {},
   "outputs": [],
   "source": [
    "prediction = regressor.predict(x_test)\n",
    "test_df[\"predicao\"] = prediction\n",
    "summary_df = summary_df.append(test_df, ignore_index=True, sort=False)"
   ]
  },
  {
   "cell_type": "code",
   "execution_count": 34,
   "metadata": {},
   "outputs": [
    {
     "output_type": "execute_result",
     "data": {
      "text/plain": "  paredao            nome positivos neutros negativos  positivos_pct  \\\n4       5       flayslene      2304    4170      6222       0.181474   \n3       5  bianca_andrade      4239    8067      6802       0.221844   \n5       5    felipe_prior      4887    9452     19076       0.146252   \n\n   neutros_pct  negativos_pct seguidores  rejeicao  predicao  \n4     0.328450       0.490076      99593    0.1764  0.628105  \n3     0.422179       0.355977     407828    0.5309  0.175812  \n5     0.282867       0.570881     191901    0.2927  0.146182  ",
      "text/html": "<div>\n<style scoped>\n    .dataframe tbody tr th:only-of-type {\n        vertical-align: middle;\n    }\n\n    .dataframe tbody tr th {\n        vertical-align: top;\n    }\n\n    .dataframe thead th {\n        text-align: right;\n    }\n</style>\n<table border=\"1\" class=\"dataframe\">\n  <thead>\n    <tr style=\"text-align: right;\">\n      <th></th>\n      <th>paredao</th>\n      <th>nome</th>\n      <th>positivos</th>\n      <th>neutros</th>\n      <th>negativos</th>\n      <th>positivos_pct</th>\n      <th>neutros_pct</th>\n      <th>negativos_pct</th>\n      <th>seguidores</th>\n      <th>rejeicao</th>\n      <th>predicao</th>\n    </tr>\n  </thead>\n  <tbody>\n    <tr>\n      <th>4</th>\n      <td>5</td>\n      <td>flayslene</td>\n      <td>2304</td>\n      <td>4170</td>\n      <td>6222</td>\n      <td>0.181474</td>\n      <td>0.328450</td>\n      <td>0.490076</td>\n      <td>99593</td>\n      <td>0.1764</td>\n      <td>0.628105</td>\n    </tr>\n    <tr>\n      <th>3</th>\n      <td>5</td>\n      <td>bianca_andrade</td>\n      <td>4239</td>\n      <td>8067</td>\n      <td>6802</td>\n      <td>0.221844</td>\n      <td>0.422179</td>\n      <td>0.355977</td>\n      <td>407828</td>\n      <td>0.5309</td>\n      <td>0.175812</td>\n    </tr>\n    <tr>\n      <th>5</th>\n      <td>5</td>\n      <td>felipe_prior</td>\n      <td>4887</td>\n      <td>9452</td>\n      <td>19076</td>\n      <td>0.146252</td>\n      <td>0.282867</td>\n      <td>0.570881</td>\n      <td>191901</td>\n      <td>0.2927</td>\n      <td>0.146182</td>\n    </tr>\n  </tbody>\n</table>\n</div>"
     },
     "metadata": {},
     "execution_count": 34
    }
   ],
   "source": [
    "test_df.sort_values(by=\"predicao\", ascending=False)"
   ]
  },
  {
   "cell_type": "markdown",
   "metadata": {},
   "source": [
    "# Paredao 6"
   ]
  },
  {
   "cell_type": "code",
   "execution_count": 35,
   "metadata": {},
   "outputs": [
    {
     "output_type": "execute_result",
     "data": {
      "text/plain": "  paredao             nome positivos neutros negativos  positivos_pct  \\\n0       6  gizelly_bicalho     20697   18318     14428       0.387272   \n1       6        guilherme     15623   26030     61087       0.152063   \n2       6            pyong     24067   31118     59615       0.209643   \n\n   neutros_pct  negativos_pct seguidores  rejeicao  \n0     0.342758       0.269970     232214    0.0064  \n1     0.253358       0.594579     101125    0.5607  \n2     0.271063       0.519294    1419089    0.4329  ",
      "text/html": "<div>\n<style scoped>\n    .dataframe tbody tr th:only-of-type {\n        vertical-align: middle;\n    }\n\n    .dataframe tbody tr th {\n        vertical-align: top;\n    }\n\n    .dataframe thead th {\n        text-align: right;\n    }\n</style>\n<table border=\"1\" class=\"dataframe\">\n  <thead>\n    <tr style=\"text-align: right;\">\n      <th></th>\n      <th>paredao</th>\n      <th>nome</th>\n      <th>positivos</th>\n      <th>neutros</th>\n      <th>negativos</th>\n      <th>positivos_pct</th>\n      <th>neutros_pct</th>\n      <th>negativos_pct</th>\n      <th>seguidores</th>\n      <th>rejeicao</th>\n    </tr>\n  </thead>\n  <tbody>\n    <tr>\n      <th>0</th>\n      <td>6</td>\n      <td>gizelly_bicalho</td>\n      <td>20697</td>\n      <td>18318</td>\n      <td>14428</td>\n      <td>0.387272</td>\n      <td>0.342758</td>\n      <td>0.269970</td>\n      <td>232214</td>\n      <td>0.0064</td>\n    </tr>\n    <tr>\n      <th>1</th>\n      <td>6</td>\n      <td>guilherme</td>\n      <td>15623</td>\n      <td>26030</td>\n      <td>61087</td>\n      <td>0.152063</td>\n      <td>0.253358</td>\n      <td>0.594579</td>\n      <td>101125</td>\n      <td>0.5607</td>\n    </tr>\n    <tr>\n      <th>2</th>\n      <td>6</td>\n      <td>pyong</td>\n      <td>24067</td>\n      <td>31118</td>\n      <td>59615</td>\n      <td>0.209643</td>\n      <td>0.271063</td>\n      <td>0.519294</td>\n      <td>1419089</td>\n      <td>0.4329</td>\n    </tr>\n  </tbody>\n</table>\n</div>"
     },
     "metadata": {},
     "execution_count": 35
    }
   ],
   "source": [
    "train_df, test_df = get_train_test(6, normalize=NORMALIZE)\n",
    "test_df\n",
    ""
   ]
  },
  {
   "cell_type": "code",
   "execution_count": 36,
   "metadata": {},
   "outputs": [],
   "source": [
    "x_train, y_train = train_df.drop(columns=[\"paredao\", \"nome\", \"rejeicao\"], axis=1).to_numpy(), train_df.drop(columns=train_df.columns[:-1], axis=1).to_numpy()\n",
    "x_test, y_test = test_df.drop(columns=[\"paredao\", \"nome\", \"rejeicao\"], axis=1).to_numpy(), test_df.drop(columns=train_df.columns[:-1], axis=1).to_numpy()"
   ]
  },
  {
   "cell_type": "code",
   "execution_count": 37,
   "metadata": {},
   "outputs": [],
   "source": [
    "regressor = RandomForestRegressor(n_estimators=ESTIMATORS)"
   ]
  },
  {
   "cell_type": "code",
   "execution_count": 38,
   "metadata": {},
   "outputs": [],
   "source": [
    "_ = regressor.fit(x_train, y_train)\n",
    ""
   ]
  },
  {
   "cell_type": "code",
   "execution_count": 39,
   "metadata": {},
   "outputs": [],
   "source": [
    "prediction = regressor.predict(x_test)\n",
    "test_df[\"predicao\"] = prediction\n",
    "summary_df = summary_df.append(test_df, ignore_index=True, sort=False)"
   ]
  },
  {
   "cell_type": "code",
   "execution_count": 40,
   "metadata": {},
   "outputs": [
    {
     "output_type": "execute_result",
     "data": {
      "text/plain": "  paredao             nome positivos neutros negativos  positivos_pct  \\\n2       6            pyong     24067   31118     59615       0.209643   \n1       6        guilherme     15623   26030     61087       0.152063   \n0       6  gizelly_bicalho     20697   18318     14428       0.387272   \n\n   neutros_pct  negativos_pct seguidores  rejeicao  predicao  \n2     0.271063       0.519294    1419089    0.4329  0.388569  \n1     0.253358       0.594579     101125    0.5607  0.310018  \n0     0.342758       0.269970     232214    0.0064  0.182987  ",
      "text/html": "<div>\n<style scoped>\n    .dataframe tbody tr th:only-of-type {\n        vertical-align: middle;\n    }\n\n    .dataframe tbody tr th {\n        vertical-align: top;\n    }\n\n    .dataframe thead th {\n        text-align: right;\n    }\n</style>\n<table border=\"1\" class=\"dataframe\">\n  <thead>\n    <tr style=\"text-align: right;\">\n      <th></th>\n      <th>paredao</th>\n      <th>nome</th>\n      <th>positivos</th>\n      <th>neutros</th>\n      <th>negativos</th>\n      <th>positivos_pct</th>\n      <th>neutros_pct</th>\n      <th>negativos_pct</th>\n      <th>seguidores</th>\n      <th>rejeicao</th>\n      <th>predicao</th>\n    </tr>\n  </thead>\n  <tbody>\n    <tr>\n      <th>2</th>\n      <td>6</td>\n      <td>pyong</td>\n      <td>24067</td>\n      <td>31118</td>\n      <td>59615</td>\n      <td>0.209643</td>\n      <td>0.271063</td>\n      <td>0.519294</td>\n      <td>1419089</td>\n      <td>0.4329</td>\n      <td>0.388569</td>\n    </tr>\n    <tr>\n      <th>1</th>\n      <td>6</td>\n      <td>guilherme</td>\n      <td>15623</td>\n      <td>26030</td>\n      <td>61087</td>\n      <td>0.152063</td>\n      <td>0.253358</td>\n      <td>0.594579</td>\n      <td>101125</td>\n      <td>0.5607</td>\n      <td>0.310018</td>\n    </tr>\n    <tr>\n      <th>0</th>\n      <td>6</td>\n      <td>gizelly_bicalho</td>\n      <td>20697</td>\n      <td>18318</td>\n      <td>14428</td>\n      <td>0.387272</td>\n      <td>0.342758</td>\n      <td>0.269970</td>\n      <td>232214</td>\n      <td>0.0064</td>\n      <td>0.182987</td>\n    </tr>\n  </tbody>\n</table>\n</div>"
     },
     "metadata": {},
     "execution_count": 40
    }
   ],
   "source": [
    "test_df.sort_values(by=\"predicao\", ascending=False)"
   ]
  },
  {
   "cell_type": "markdown",
   "metadata": {},
   "source": [
    "# Paredao 7"
   ]
  },
  {
   "cell_type": "code",
   "execution_count": 41,
   "metadata": {},
   "outputs": [
    {
     "output_type": "execute_result",
     "data": {
      "text/plain": "  paredao          nome positivos neutros negativos  positivos_pct  \\\n6       7          babu     14706   13814     17650       0.318519   \n7       7  manu_gavassi     11741   12131     10756       0.339061   \n8       7   victor_hugo      5780   10136     12243       0.205263   \n\n   neutros_pct  negativos_pct seguidores  rejeicao  \n6     0.299199       0.382283     317268    0.0460  \n7     0.350323       0.310616    4298841    0.1018  \n8     0.359956       0.434781      14044    0.8522  ",
      "text/html": "<div>\n<style scoped>\n    .dataframe tbody tr th:only-of-type {\n        vertical-align: middle;\n    }\n\n    .dataframe tbody tr th {\n        vertical-align: top;\n    }\n\n    .dataframe thead th {\n        text-align: right;\n    }\n</style>\n<table border=\"1\" class=\"dataframe\">\n  <thead>\n    <tr style=\"text-align: right;\">\n      <th></th>\n      <th>paredao</th>\n      <th>nome</th>\n      <th>positivos</th>\n      <th>neutros</th>\n      <th>negativos</th>\n      <th>positivos_pct</th>\n      <th>neutros_pct</th>\n      <th>negativos_pct</th>\n      <th>seguidores</th>\n      <th>rejeicao</th>\n    </tr>\n  </thead>\n  <tbody>\n    <tr>\n      <th>6</th>\n      <td>7</td>\n      <td>babu</td>\n      <td>14706</td>\n      <td>13814</td>\n      <td>17650</td>\n      <td>0.318519</td>\n      <td>0.299199</td>\n      <td>0.382283</td>\n      <td>317268</td>\n      <td>0.0460</td>\n    </tr>\n    <tr>\n      <th>7</th>\n      <td>7</td>\n      <td>manu_gavassi</td>\n      <td>11741</td>\n      <td>12131</td>\n      <td>10756</td>\n      <td>0.339061</td>\n      <td>0.350323</td>\n      <td>0.310616</td>\n      <td>4298841</td>\n      <td>0.1018</td>\n    </tr>\n    <tr>\n      <th>8</th>\n      <td>7</td>\n      <td>victor_hugo</td>\n      <td>5780</td>\n      <td>10136</td>\n      <td>12243</td>\n      <td>0.205263</td>\n      <td>0.359956</td>\n      <td>0.434781</td>\n      <td>14044</td>\n      <td>0.8522</td>\n    </tr>\n  </tbody>\n</table>\n</div>"
     },
     "metadata": {},
     "execution_count": 41
    }
   ],
   "source": [
    "train_df, test_df = get_train_test(7, normalize=NORMALIZE)\n",
    "test_df\n",
    ""
   ]
  },
  {
   "cell_type": "code",
   "execution_count": 42,
   "metadata": {},
   "outputs": [],
   "source": [
    "x_train, y_train = train_df.drop(columns=[\"paredao\", \"nome\", \"rejeicao\"], axis=1).to_numpy(), train_df.drop(columns=train_df.columns[:-1], axis=1).to_numpy()\n",
    "x_test, y_test = test_df.drop(columns=[\"paredao\", \"nome\", \"rejeicao\"], axis=1).to_numpy(), test_df.drop(columns=train_df.columns[:-1], axis=1).to_numpy()"
   ]
  },
  {
   "cell_type": "code",
   "execution_count": 43,
   "metadata": {},
   "outputs": [],
   "source": [
    "regressor = RandomForestRegressor(n_estimators=ESTIMATORS)"
   ]
  },
  {
   "cell_type": "code",
   "execution_count": 44,
   "metadata": {},
   "outputs": [],
   "source": [
    "_ = regressor.fit(x_train, y_train)\n",
    "prediction = regressor.predict(x_test)\n",
    "test_df[\"predicao\"] = prediction\n",
    "summary_df = summary_df.append(test_df, ignore_index=True, sort=False)\n",
    "\n",
    ""
   ]
  },
  {
   "cell_type": "code",
   "execution_count": 45,
   "metadata": {},
   "outputs": [
    {
     "output_type": "execute_result",
     "data": {
      "text/plain": "  paredao          nome positivos neutros negativos  positivos_pct  \\\n8       7   victor_hugo      5780   10136     12243       0.205263   \n6       7          babu     14706   13814     17650       0.318519   \n7       7  manu_gavassi     11741   12131     10756       0.339061   \n\n   neutros_pct  negativos_pct seguidores  rejeicao  predicao  \n8     0.359956       0.434781      14044    0.8522  0.586562  \n6     0.299199       0.382283     317268    0.0460  0.120304  \n7     0.350323       0.310616    4298841    0.1018  0.096463  ",
      "text/html": "<div>\n<style scoped>\n    .dataframe tbody tr th:only-of-type {\n        vertical-align: middle;\n    }\n\n    .dataframe tbody tr th {\n        vertical-align: top;\n    }\n\n    .dataframe thead th {\n        text-align: right;\n    }\n</style>\n<table border=\"1\" class=\"dataframe\">\n  <thead>\n    <tr style=\"text-align: right;\">\n      <th></th>\n      <th>paredao</th>\n      <th>nome</th>\n      <th>positivos</th>\n      <th>neutros</th>\n      <th>negativos</th>\n      <th>positivos_pct</th>\n      <th>neutros_pct</th>\n      <th>negativos_pct</th>\n      <th>seguidores</th>\n      <th>rejeicao</th>\n      <th>predicao</th>\n    </tr>\n  </thead>\n  <tbody>\n    <tr>\n      <th>8</th>\n      <td>7</td>\n      <td>victor_hugo</td>\n      <td>5780</td>\n      <td>10136</td>\n      <td>12243</td>\n      <td>0.205263</td>\n      <td>0.359956</td>\n      <td>0.434781</td>\n      <td>14044</td>\n      <td>0.8522</td>\n      <td>0.586562</td>\n    </tr>\n    <tr>\n      <th>6</th>\n      <td>7</td>\n      <td>babu</td>\n      <td>14706</td>\n      <td>13814</td>\n      <td>17650</td>\n      <td>0.318519</td>\n      <td>0.299199</td>\n      <td>0.382283</td>\n      <td>317268</td>\n      <td>0.0460</td>\n      <td>0.120304</td>\n    </tr>\n    <tr>\n      <th>7</th>\n      <td>7</td>\n      <td>manu_gavassi</td>\n      <td>11741</td>\n      <td>12131</td>\n      <td>10756</td>\n      <td>0.339061</td>\n      <td>0.350323</td>\n      <td>0.310616</td>\n      <td>4298841</td>\n      <td>0.1018</td>\n      <td>0.096463</td>\n    </tr>\n  </tbody>\n</table>\n</div>"
     },
     "metadata": {},
     "execution_count": 45
    }
   ],
   "source": [
    "test_df.sort_values(by=\"predicao\", ascending=False)"
   ]
  },
  {
   "cell_type": "markdown",
   "metadata": {},
   "source": [
    "# Paredao 8"
   ]
  },
  {
   "cell_type": "code",
   "execution_count": 46,
   "metadata": {},
   "outputs": [
    {
     "output_type": "execute_result",
     "data": {
      "text/plain": "   paredao   nome positivos neutros negativos  positivos_pct  neutros_pct  \\\n11       8   babu     20043   24848     39041       0.238800     0.296049   \n12       8   rafa     11365   16307     33927       0.184500     0.264728   \n13       8  pyong     23320   37894     49091       0.211414     0.343538   \n\n    negativos_pct seguidores  rejeicao  \n11       0.465150     317268    0.4771  \n12       0.550772     282244    0.0059  \n13       0.445048    1419089    0.5170  ",
      "text/html": "<div>\n<style scoped>\n    .dataframe tbody tr th:only-of-type {\n        vertical-align: middle;\n    }\n\n    .dataframe tbody tr th {\n        vertical-align: top;\n    }\n\n    .dataframe thead th {\n        text-align: right;\n    }\n</style>\n<table border=\"1\" class=\"dataframe\">\n  <thead>\n    <tr style=\"text-align: right;\">\n      <th></th>\n      <th>paredao</th>\n      <th>nome</th>\n      <th>positivos</th>\n      <th>neutros</th>\n      <th>negativos</th>\n      <th>positivos_pct</th>\n      <th>neutros_pct</th>\n      <th>negativos_pct</th>\n      <th>seguidores</th>\n      <th>rejeicao</th>\n    </tr>\n  </thead>\n  <tbody>\n    <tr>\n      <th>11</th>\n      <td>8</td>\n      <td>babu</td>\n      <td>20043</td>\n      <td>24848</td>\n      <td>39041</td>\n      <td>0.238800</td>\n      <td>0.296049</td>\n      <td>0.465150</td>\n      <td>317268</td>\n      <td>0.4771</td>\n    </tr>\n    <tr>\n      <th>12</th>\n      <td>8</td>\n      <td>rafa</td>\n      <td>11365</td>\n      <td>16307</td>\n      <td>33927</td>\n      <td>0.184500</td>\n      <td>0.264728</td>\n      <td>0.550772</td>\n      <td>282244</td>\n      <td>0.0059</td>\n    </tr>\n    <tr>\n      <th>13</th>\n      <td>8</td>\n      <td>pyong</td>\n      <td>23320</td>\n      <td>37894</td>\n      <td>49091</td>\n      <td>0.211414</td>\n      <td>0.343538</td>\n      <td>0.445048</td>\n      <td>1419089</td>\n      <td>0.5170</td>\n    </tr>\n  </tbody>\n</table>\n</div>"
     },
     "metadata": {},
     "execution_count": 46
    }
   ],
   "source": [
    "train_df, test_df = get_train_test(8, normalize=NORMALIZE)\n",
    "test_df\n",
    ""
   ]
  },
  {
   "cell_type": "code",
   "execution_count": 47,
   "metadata": {},
   "outputs": [],
   "source": [
    "x_train, y_train = train_df.drop(columns=[\"paredao\", \"nome\", \"rejeicao\"], axis=1).to_numpy(), train_df.drop(columns=train_df.columns[:-1], axis=1).to_numpy()\n",
    "x_test, y_test = test_df.drop(columns=[\"paredao\", \"nome\", \"rejeicao\"], axis=1).to_numpy(), test_df.drop(columns=train_df.columns[:-1], axis=1).to_numpy()"
   ]
  },
  {
   "cell_type": "code",
   "execution_count": 48,
   "metadata": {},
   "outputs": [],
   "source": [
    "regressor = RandomForestRegressor(n_estimators=ESTIMATORS)"
   ]
  },
  {
   "cell_type": "code",
   "execution_count": 49,
   "metadata": {},
   "outputs": [],
   "source": [
    "_ = regressor.fit(x_train, y_train)\n",
    "prediction = regressor.predict(x_test)\n",
    "test_df[\"predicao\"] = prediction\n",
    "summary_df = summary_df.append(test_df, ignore_index=True, sort=False)\n",
    "\n",
    ""
   ]
  },
  {
   "cell_type": "code",
   "execution_count": 50,
   "metadata": {},
   "outputs": [
    {
     "output_type": "execute_result",
     "data": {
      "text/plain": "   paredao   nome positivos neutros negativos  positivos_pct  neutros_pct  \\\n13       8  pyong     23320   37894     49091       0.211414     0.343538   \n12       8   rafa     11365   16307     33927       0.184500     0.264728   \n11       8   babu     20043   24848     39041       0.238800     0.296049   \n\n    negativos_pct seguidores  rejeicao  predicao  \n13       0.445048    1419089    0.5170  0.334142  \n12       0.550772     282244    0.0059  0.254693  \n11       0.465150     317268    0.4771  0.220086  ",
      "text/html": "<div>\n<style scoped>\n    .dataframe tbody tr th:only-of-type {\n        vertical-align: middle;\n    }\n\n    .dataframe tbody tr th {\n        vertical-align: top;\n    }\n\n    .dataframe thead th {\n        text-align: right;\n    }\n</style>\n<table border=\"1\" class=\"dataframe\">\n  <thead>\n    <tr style=\"text-align: right;\">\n      <th></th>\n      <th>paredao</th>\n      <th>nome</th>\n      <th>positivos</th>\n      <th>neutros</th>\n      <th>negativos</th>\n      <th>positivos_pct</th>\n      <th>neutros_pct</th>\n      <th>negativos_pct</th>\n      <th>seguidores</th>\n      <th>rejeicao</th>\n      <th>predicao</th>\n    </tr>\n  </thead>\n  <tbody>\n    <tr>\n      <th>13</th>\n      <td>8</td>\n      <td>pyong</td>\n      <td>23320</td>\n      <td>37894</td>\n      <td>49091</td>\n      <td>0.211414</td>\n      <td>0.343538</td>\n      <td>0.445048</td>\n      <td>1419089</td>\n      <td>0.5170</td>\n      <td>0.334142</td>\n    </tr>\n    <tr>\n      <th>12</th>\n      <td>8</td>\n      <td>rafa</td>\n      <td>11365</td>\n      <td>16307</td>\n      <td>33927</td>\n      <td>0.184500</td>\n      <td>0.264728</td>\n      <td>0.550772</td>\n      <td>282244</td>\n      <td>0.0059</td>\n      <td>0.254693</td>\n    </tr>\n    <tr>\n      <th>11</th>\n      <td>8</td>\n      <td>babu</td>\n      <td>20043</td>\n      <td>24848</td>\n      <td>39041</td>\n      <td>0.238800</td>\n      <td>0.296049</td>\n      <td>0.465150</td>\n      <td>317268</td>\n      <td>0.4771</td>\n      <td>0.220086</td>\n    </tr>\n  </tbody>\n</table>\n</div>"
     },
     "metadata": {},
     "execution_count": 50
    }
   ],
   "source": [
    "test_df.sort_values(by=\"predicao\", ascending=False)"
   ]
  },
  {
   "cell_type": "markdown",
   "metadata": {},
   "source": [
    "# Sumarizando"
   ]
  },
  {
   "cell_type": "code",
   "execution_count": 51,
   "metadata": {},
   "outputs": [
    {
     "output_type": "execute_result",
     "data": {
      "text/plain": "   paredao             nome positivos neutros negativos  positivos_pct  \\\n0        1   bianca_andrade      5102    5230      3762       0.361998   \n1        1     lucas_chumbo      5460   10796     14411       0.178042   \n2        2             babu      3819    5049      3822       0.300946   \n3        2           petrix     17850   41331     62584       0.146594   \n4        2            pyong     19947   15248     12907       0.414681   \n5        2           hadson     14732   30837     54056       0.147875   \n6        3     felipe_prior      2824    3707      3514       0.281135   \n7        3           hadson      2344    4928      3987       0.208189   \n8        4             babu      6766   10814     18799       0.185986   \n9        4      victor_hugo      2807    4560      4979       0.227361   \n10       4            lucas     12173   17964     31523       0.197421   \n11       5   bianca_andrade      4239    8067      6802       0.221844   \n12       5        flayslene      2304    4170      6222       0.181474   \n13       5     felipe_prior      4887    9452     19076       0.146252   \n14       6  gizelly_bicalho     20697   18318     14428       0.387272   \n15       6        guilherme     15623   26030     61087       0.152063   \n16       6            pyong     24067   31118     59615       0.209643   \n17       7             babu     14706   13814     17650       0.318519   \n18       7     manu_gavassi     11741   12131     10756       0.339061   \n19       7      victor_hugo      5780   10136     12243       0.205263   \n20       8             babu     20043   24848     39041       0.238800   \n21       8             rafa     11365   16307     33927       0.184500   \n22       8            pyong     23320   37894     49091       0.211414   \n\n    neutros_pct  negativos_pct seguidores  rejeicao  predicao  \n0      0.371080       0.266922     407828    0.2446  0.094440  \n1      0.352040       0.469919      11665    0.7594  0.615847  \n2      0.397872       0.301182     317268    0.0044  0.310233  \n3      0.339433       0.513974      22082    0.8027  0.634129  \n4      0.316993       0.268326    1419089    0.0066  0.106171  \n5      0.309531       0.542595       9524    0.1863  0.632506  \n6      0.369039       0.349826     191901    0.2029  0.184812  \n7      0.437694       0.354117       9524    0.7971  0.508153  \n8      0.297259       0.516754     317268    0.0130  0.215936  \n9      0.369350       0.403289      14044    0.3608  0.693218  \n10     0.291340       0.511239      22688    0.6262  0.513754  \n11     0.422179       0.355977     407828    0.5309  0.175812  \n12     0.328450       0.490076      99593    0.1764  0.628105  \n13     0.282867       0.570881     191901    0.2927  0.146182  \n14     0.342758       0.269970     232214    0.0064  0.182987  \n15     0.253358       0.594579     101125    0.5607  0.310018  \n16     0.271063       0.519294    1419089    0.4329  0.388569  \n17     0.299199       0.382283     317268    0.0460  0.120304  \n18     0.350323       0.310616    4298841    0.1018  0.096463  \n19     0.359956       0.434781      14044    0.8522  0.586562  \n20     0.296049       0.465150     317268    0.4771  0.220086  \n21     0.264728       0.550772     282244    0.0059  0.254693  \n22     0.343538       0.445048    1419089    0.5170  0.334142  ",
      "text/html": "<div>\n<style scoped>\n    .dataframe tbody tr th:only-of-type {\n        vertical-align: middle;\n    }\n\n    .dataframe tbody tr th {\n        vertical-align: top;\n    }\n\n    .dataframe thead th {\n        text-align: right;\n    }\n</style>\n<table border=\"1\" class=\"dataframe\">\n  <thead>\n    <tr style=\"text-align: right;\">\n      <th></th>\n      <th>paredao</th>\n      <th>nome</th>\n      <th>positivos</th>\n      <th>neutros</th>\n      <th>negativos</th>\n      <th>positivos_pct</th>\n      <th>neutros_pct</th>\n      <th>negativos_pct</th>\n      <th>seguidores</th>\n      <th>rejeicao</th>\n      <th>predicao</th>\n    </tr>\n  </thead>\n  <tbody>\n    <tr>\n      <th>0</th>\n      <td>1</td>\n      <td>bianca_andrade</td>\n      <td>5102</td>\n      <td>5230</td>\n      <td>3762</td>\n      <td>0.361998</td>\n      <td>0.371080</td>\n      <td>0.266922</td>\n      <td>407828</td>\n      <td>0.2446</td>\n      <td>0.094440</td>\n    </tr>\n    <tr>\n      <th>1</th>\n      <td>1</td>\n      <td>lucas_chumbo</td>\n      <td>5460</td>\n      <td>10796</td>\n      <td>14411</td>\n      <td>0.178042</td>\n      <td>0.352040</td>\n      <td>0.469919</td>\n      <td>11665</td>\n      <td>0.7594</td>\n      <td>0.615847</td>\n    </tr>\n    <tr>\n      <th>2</th>\n      <td>2</td>\n      <td>babu</td>\n      <td>3819</td>\n      <td>5049</td>\n      <td>3822</td>\n      <td>0.300946</td>\n      <td>0.397872</td>\n      <td>0.301182</td>\n      <td>317268</td>\n      <td>0.0044</td>\n      <td>0.310233</td>\n    </tr>\n    <tr>\n      <th>3</th>\n      <td>2</td>\n      <td>petrix</td>\n      <td>17850</td>\n      <td>41331</td>\n      <td>62584</td>\n      <td>0.146594</td>\n      <td>0.339433</td>\n      <td>0.513974</td>\n      <td>22082</td>\n      <td>0.8027</td>\n      <td>0.634129</td>\n    </tr>\n    <tr>\n      <th>4</th>\n      <td>2</td>\n      <td>pyong</td>\n      <td>19947</td>\n      <td>15248</td>\n      <td>12907</td>\n      <td>0.414681</td>\n      <td>0.316993</td>\n      <td>0.268326</td>\n      <td>1419089</td>\n      <td>0.0066</td>\n      <td>0.106171</td>\n    </tr>\n    <tr>\n      <th>5</th>\n      <td>2</td>\n      <td>hadson</td>\n      <td>14732</td>\n      <td>30837</td>\n      <td>54056</td>\n      <td>0.147875</td>\n      <td>0.309531</td>\n      <td>0.542595</td>\n      <td>9524</td>\n      <td>0.1863</td>\n      <td>0.632506</td>\n    </tr>\n    <tr>\n      <th>6</th>\n      <td>3</td>\n      <td>felipe_prior</td>\n      <td>2824</td>\n      <td>3707</td>\n      <td>3514</td>\n      <td>0.281135</td>\n      <td>0.369039</td>\n      <td>0.349826</td>\n      <td>191901</td>\n      <td>0.2029</td>\n      <td>0.184812</td>\n    </tr>\n    <tr>\n      <th>7</th>\n      <td>3</td>\n      <td>hadson</td>\n      <td>2344</td>\n      <td>4928</td>\n      <td>3987</td>\n      <td>0.208189</td>\n      <td>0.437694</td>\n      <td>0.354117</td>\n      <td>9524</td>\n      <td>0.7971</td>\n      <td>0.508153</td>\n    </tr>\n    <tr>\n      <th>8</th>\n      <td>4</td>\n      <td>babu</td>\n      <td>6766</td>\n      <td>10814</td>\n      <td>18799</td>\n      <td>0.185986</td>\n      <td>0.297259</td>\n      <td>0.516754</td>\n      <td>317268</td>\n      <td>0.0130</td>\n      <td>0.215936</td>\n    </tr>\n    <tr>\n      <th>9</th>\n      <td>4</td>\n      <td>victor_hugo</td>\n      <td>2807</td>\n      <td>4560</td>\n      <td>4979</td>\n      <td>0.227361</td>\n      <td>0.369350</td>\n      <td>0.403289</td>\n      <td>14044</td>\n      <td>0.3608</td>\n      <td>0.693218</td>\n    </tr>\n    <tr>\n      <th>10</th>\n      <td>4</td>\n      <td>lucas</td>\n      <td>12173</td>\n      <td>17964</td>\n      <td>31523</td>\n      <td>0.197421</td>\n      <td>0.291340</td>\n      <td>0.511239</td>\n      <td>22688</td>\n      <td>0.6262</td>\n      <td>0.513754</td>\n    </tr>\n    <tr>\n      <th>11</th>\n      <td>5</td>\n      <td>bianca_andrade</td>\n      <td>4239</td>\n      <td>8067</td>\n      <td>6802</td>\n      <td>0.221844</td>\n      <td>0.422179</td>\n      <td>0.355977</td>\n      <td>407828</td>\n      <td>0.5309</td>\n      <td>0.175812</td>\n    </tr>\n    <tr>\n      <th>12</th>\n      <td>5</td>\n      <td>flayslene</td>\n      <td>2304</td>\n      <td>4170</td>\n      <td>6222</td>\n      <td>0.181474</td>\n      <td>0.328450</td>\n      <td>0.490076</td>\n      <td>99593</td>\n      <td>0.1764</td>\n      <td>0.628105</td>\n    </tr>\n    <tr>\n      <th>13</th>\n      <td>5</td>\n      <td>felipe_prior</td>\n      <td>4887</td>\n      <td>9452</td>\n      <td>19076</td>\n      <td>0.146252</td>\n      <td>0.282867</td>\n      <td>0.570881</td>\n      <td>191901</td>\n      <td>0.2927</td>\n      <td>0.146182</td>\n    </tr>\n    <tr>\n      <th>14</th>\n      <td>6</td>\n      <td>gizelly_bicalho</td>\n      <td>20697</td>\n      <td>18318</td>\n      <td>14428</td>\n      <td>0.387272</td>\n      <td>0.342758</td>\n      <td>0.269970</td>\n      <td>232214</td>\n      <td>0.0064</td>\n      <td>0.182987</td>\n    </tr>\n    <tr>\n      <th>15</th>\n      <td>6</td>\n      <td>guilherme</td>\n      <td>15623</td>\n      <td>26030</td>\n      <td>61087</td>\n      <td>0.152063</td>\n      <td>0.253358</td>\n      <td>0.594579</td>\n      <td>101125</td>\n      <td>0.5607</td>\n      <td>0.310018</td>\n    </tr>\n    <tr>\n      <th>16</th>\n      <td>6</td>\n      <td>pyong</td>\n      <td>24067</td>\n      <td>31118</td>\n      <td>59615</td>\n      <td>0.209643</td>\n      <td>0.271063</td>\n      <td>0.519294</td>\n      <td>1419089</td>\n      <td>0.4329</td>\n      <td>0.388569</td>\n    </tr>\n    <tr>\n      <th>17</th>\n      <td>7</td>\n      <td>babu</td>\n      <td>14706</td>\n      <td>13814</td>\n      <td>17650</td>\n      <td>0.318519</td>\n      <td>0.299199</td>\n      <td>0.382283</td>\n      <td>317268</td>\n      <td>0.0460</td>\n      <td>0.120304</td>\n    </tr>\n    <tr>\n      <th>18</th>\n      <td>7</td>\n      <td>manu_gavassi</td>\n      <td>11741</td>\n      <td>12131</td>\n      <td>10756</td>\n      <td>0.339061</td>\n      <td>0.350323</td>\n      <td>0.310616</td>\n      <td>4298841</td>\n      <td>0.1018</td>\n      <td>0.096463</td>\n    </tr>\n    <tr>\n      <th>19</th>\n      <td>7</td>\n      <td>victor_hugo</td>\n      <td>5780</td>\n      <td>10136</td>\n      <td>12243</td>\n      <td>0.205263</td>\n      <td>0.359956</td>\n      <td>0.434781</td>\n      <td>14044</td>\n      <td>0.8522</td>\n      <td>0.586562</td>\n    </tr>\n    <tr>\n      <th>20</th>\n      <td>8</td>\n      <td>babu</td>\n      <td>20043</td>\n      <td>24848</td>\n      <td>39041</td>\n      <td>0.238800</td>\n      <td>0.296049</td>\n      <td>0.465150</td>\n      <td>317268</td>\n      <td>0.4771</td>\n      <td>0.220086</td>\n    </tr>\n    <tr>\n      <th>21</th>\n      <td>8</td>\n      <td>rafa</td>\n      <td>11365</td>\n      <td>16307</td>\n      <td>33927</td>\n      <td>0.184500</td>\n      <td>0.264728</td>\n      <td>0.550772</td>\n      <td>282244</td>\n      <td>0.0059</td>\n      <td>0.254693</td>\n    </tr>\n    <tr>\n      <th>22</th>\n      <td>8</td>\n      <td>pyong</td>\n      <td>23320</td>\n      <td>37894</td>\n      <td>49091</td>\n      <td>0.211414</td>\n      <td>0.343538</td>\n      <td>0.445048</td>\n      <td>1419089</td>\n      <td>0.5170</td>\n      <td>0.334142</td>\n    </tr>\n  </tbody>\n</table>\n</div>"
     },
     "metadata": {},
     "execution_count": 51
    }
   ],
   "source": [
    "summary_df"
   ]
  },
  {
   "cell_type": "code",
   "execution_count": null,
   "metadata": {},
   "outputs": [],
   "source": []
  }
 ]
}