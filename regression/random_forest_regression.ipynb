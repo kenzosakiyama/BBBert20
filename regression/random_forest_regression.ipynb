{
 "nbformat": 4,
 "nbformat_minor": 2,
 "metadata": {
  "language_info": {
   "name": "python",
   "codemirror_mode": {
    "name": "ipython",
    "version": 3
   },
   "version": "3.6.9-final"
  },
  "orig_nbformat": 2,
  "file_extension": ".py",
  "mimetype": "text/x-python",
  "name": "python",
  "npconvert_exporter": "python",
  "pygments_lexer": "ipython3",
  "version": 3,
  "kernelspec": {
   "name": "python36964bitbertvirtualenv054cbb15ab924922a35a349b12e89805",
   "display_name": "Python 3.6.9 64-bit ('bert': virtualenv)"
  }
 },
 "cells": [
  {
   "cell_type": "markdown",
   "metadata": {},
   "source": [
    "# Experimentos baseados em regressão utiliando Árvores de Decisão"
   ]
  },
  {
   "cell_type": "markdown",
   "metadata": {},
   "source": [
    "- Utilizando cada paredão como teste e avaliando com holdout."
   ]
  },
  {
   "cell_type": "code",
   "execution_count": 1,
   "metadata": {},
   "outputs": [],
   "source": [
    "import pandas as pd \n",
    "import numpy as np \n",
    "from regression_utils import *\n",
    "from sklearn.ensemble import RandomForestRegressor"
   ]
  },
  {
   "cell_type": "code",
   "execution_count": 2,
   "metadata": {},
   "outputs": [],
   "source": [
    "NORMALIZE = False\n",
    "ESTIMATORS = 1000"
   ]
  },
  {
   "cell_type": "code",
   "execution_count": 3,
   "metadata": {},
   "outputs": [],
   "source": [
    "summary_df = pd.DataFrame(columns=COLUMNS)"
   ]
  },
  {
   "cell_type": "markdown",
   "metadata": {},
   "source": [
    "# Paredao 1"
   ]
  },
  {
   "cell_type": "code",
   "execution_count": 4,
   "metadata": {},
   "outputs": [],
   "source": [
    "train_df, test_df = get_train_test(1, normalize=NORMALIZE)"
   ]
  },
  {
   "cell_type": "code",
   "execution_count": 5,
   "metadata": {},
   "outputs": [
    {
     "output_type": "execute_result",
     "data": {
      "text/plain": "   paredao            nome positivos neutros negativos  \\\n21       1  bianca_andrade      5102    5230      3762   \n22       1    lucas_chumbo      5460   10796     14411   \n\n    positivos_individual_pct  neutros_individual_pct  \\\n21                  0.361998                 0.37108   \n22                  0.178042                 0.35204   \n\n    negativos_individual_pct  positivos_global_pct  neutros_global_pct  \\\n21                  0.266922              0.483052            0.326345   \n22                  0.469919              0.516948            0.673655   \n\n    negativos_global_pct   day1  day2  day3   likes retweets seguidores  \\\n21               0.20701   5849  5903  2342  407879    57730     411880   \n22               0.79299  22759  5502  2406  667691   132858      12014   \n\n    rejeicao  \n21    0.2446  \n22    0.7594  ",
      "text/html": "<div>\n<style scoped>\n    .dataframe tbody tr th:only-of-type {\n        vertical-align: middle;\n    }\n\n    .dataframe tbody tr th {\n        vertical-align: top;\n    }\n\n    .dataframe thead th {\n        text-align: right;\n    }\n</style>\n<table border=\"1\" class=\"dataframe\">\n  <thead>\n    <tr style=\"text-align: right;\">\n      <th></th>\n      <th>paredao</th>\n      <th>nome</th>\n      <th>positivos</th>\n      <th>neutros</th>\n      <th>negativos</th>\n      <th>positivos_individual_pct</th>\n      <th>neutros_individual_pct</th>\n      <th>negativos_individual_pct</th>\n      <th>positivos_global_pct</th>\n      <th>neutros_global_pct</th>\n      <th>negativos_global_pct</th>\n      <th>day1</th>\n      <th>day2</th>\n      <th>day3</th>\n      <th>likes</th>\n      <th>retweets</th>\n      <th>seguidores</th>\n      <th>rejeicao</th>\n    </tr>\n  </thead>\n  <tbody>\n    <tr>\n      <th>21</th>\n      <td>1</td>\n      <td>bianca_andrade</td>\n      <td>5102</td>\n      <td>5230</td>\n      <td>3762</td>\n      <td>0.361998</td>\n      <td>0.37108</td>\n      <td>0.266922</td>\n      <td>0.483052</td>\n      <td>0.326345</td>\n      <td>0.20701</td>\n      <td>5849</td>\n      <td>5903</td>\n      <td>2342</td>\n      <td>407879</td>\n      <td>57730</td>\n      <td>411880</td>\n      <td>0.2446</td>\n    </tr>\n    <tr>\n      <th>22</th>\n      <td>1</td>\n      <td>lucas_chumbo</td>\n      <td>5460</td>\n      <td>10796</td>\n      <td>14411</td>\n      <td>0.178042</td>\n      <td>0.35204</td>\n      <td>0.469919</td>\n      <td>0.516948</td>\n      <td>0.673655</td>\n      <td>0.79299</td>\n      <td>22759</td>\n      <td>5502</td>\n      <td>2406</td>\n      <td>667691</td>\n      <td>132858</td>\n      <td>12014</td>\n      <td>0.7594</td>\n    </tr>\n  </tbody>\n</table>\n</div>"
     },
     "metadata": {},
     "execution_count": 5
    }
   ],
   "source": [
    "test_df"
   ]
  },
  {
   "cell_type": "code",
   "execution_count": 6,
   "metadata": {},
   "outputs": [],
   "source": [
    "x_train, y_train = train_df.drop(columns=[\"paredao\", \"nome\", \"rejeicao\"], axis=1).to_numpy(), train_df.drop(columns=train_df.columns[:-1], axis=1).to_numpy()\n",
    "x_test, y_test = test_df.drop(columns=[\"paredao\", \"nome\", \"rejeicao\"], axis=1).to_numpy(), test_df.drop(columns=train_df.columns[:-1], axis=1).to_numpy()"
   ]
  },
  {
   "cell_type": "code",
   "execution_count": 7,
   "metadata": {},
   "outputs": [],
   "source": [
    "regressor = RandomForestRegressor(n_estimators=ESTIMATORS)"
   ]
  },
  {
   "cell_type": "code",
   "execution_count": 8,
   "metadata": {},
   "outputs": [],
   "source": [
    "_ = regressor.fit(x_train, y_train)"
   ]
  },
  {
   "cell_type": "code",
   "execution_count": 9,
   "metadata": {},
   "outputs": [],
   "source": [
    "prediction = regressor.predict(x_test)\n",
    "test_df[\"predicao\"] = prediction\n",
    "summary_df = summary_df.append(test_df, ignore_index=True, sort=False)"
   ]
  },
  {
   "cell_type": "code",
   "execution_count": 10,
   "metadata": {},
   "outputs": [
    {
     "output_type": "execute_result",
     "data": {
      "text/plain": "   paredao            nome positivos neutros negativos  \\\n22       1    lucas_chumbo      5460   10796     14411   \n21       1  bianca_andrade      5102    5230      3762   \n\n    positivos_individual_pct  neutros_individual_pct  \\\n22                  0.178042                 0.35204   \n21                  0.361998                 0.37108   \n\n    negativos_individual_pct  positivos_global_pct  neutros_global_pct  \\\n22                  0.469919              0.516948            0.673655   \n21                  0.266922              0.483052            0.326345   \n\n    negativos_global_pct   day1  day2  day3   likes retweets seguidores  \\\n22               0.79299  22759  5502  2406  667691   132858      12014   \n21               0.20701   5849  5903  2342  407879    57730     411880   \n\n    rejeicao  predicao  \n22    0.7594  0.629647  \n21    0.2446  0.135040  ",
      "text/html": "<div>\n<style scoped>\n    .dataframe tbody tr th:only-of-type {\n        vertical-align: middle;\n    }\n\n    .dataframe tbody tr th {\n        vertical-align: top;\n    }\n\n    .dataframe thead th {\n        text-align: right;\n    }\n</style>\n<table border=\"1\" class=\"dataframe\">\n  <thead>\n    <tr style=\"text-align: right;\">\n      <th></th>\n      <th>paredao</th>\n      <th>nome</th>\n      <th>positivos</th>\n      <th>neutros</th>\n      <th>negativos</th>\n      <th>positivos_individual_pct</th>\n      <th>neutros_individual_pct</th>\n      <th>negativos_individual_pct</th>\n      <th>positivos_global_pct</th>\n      <th>neutros_global_pct</th>\n      <th>negativos_global_pct</th>\n      <th>day1</th>\n      <th>day2</th>\n      <th>day3</th>\n      <th>likes</th>\n      <th>retweets</th>\n      <th>seguidores</th>\n      <th>rejeicao</th>\n      <th>predicao</th>\n    </tr>\n  </thead>\n  <tbody>\n    <tr>\n      <th>22</th>\n      <td>1</td>\n      <td>lucas_chumbo</td>\n      <td>5460</td>\n      <td>10796</td>\n      <td>14411</td>\n      <td>0.178042</td>\n      <td>0.35204</td>\n      <td>0.469919</td>\n      <td>0.516948</td>\n      <td>0.673655</td>\n      <td>0.79299</td>\n      <td>22759</td>\n      <td>5502</td>\n      <td>2406</td>\n      <td>667691</td>\n      <td>132858</td>\n      <td>12014</td>\n      <td>0.7594</td>\n      <td>0.629647</td>\n    </tr>\n    <tr>\n      <th>21</th>\n      <td>1</td>\n      <td>bianca_andrade</td>\n      <td>5102</td>\n      <td>5230</td>\n      <td>3762</td>\n      <td>0.361998</td>\n      <td>0.37108</td>\n      <td>0.266922</td>\n      <td>0.483052</td>\n      <td>0.326345</td>\n      <td>0.20701</td>\n      <td>5849</td>\n      <td>5903</td>\n      <td>2342</td>\n      <td>407879</td>\n      <td>57730</td>\n      <td>411880</td>\n      <td>0.2446</td>\n      <td>0.135040</td>\n    </tr>\n  </tbody>\n</table>\n</div>"
     },
     "metadata": {},
     "execution_count": 10
    }
   ],
   "source": [
    "test_df.sort_values(by=\"predicao\", ascending=False)"
   ]
  },
  {
   "cell_type": "markdown",
   "metadata": {},
   "source": [
    "# Paredao 2"
   ]
  },
  {
   "cell_type": "code",
   "execution_count": 11,
   "metadata": {},
   "outputs": [
    {
     "output_type": "execute_result",
     "data": {
      "text/plain": "   paredao    nome positivos neutros negativos  positivos_individual_pct  \\\n17       2    babu      3819    5049      3822                  0.300946   \n18       2  petrix     17850   41331     62584                  0.146594   \n19       2   pyong     19947   15248     12907                  0.414681   \n20       2  hadson     14732   30837     54056                  0.147875   \n\n    neutros_individual_pct  negativos_individual_pct  positivos_global_pct  \\\n17                0.397872                  0.301182              0.067775   \n18                0.339433                  0.513974              0.316781   \n19                0.316993                  0.268326              0.353997   \n20                0.309531                  0.542595              0.261447   \n\n    neutros_global_pct  negativos_global_pct   day1   day2   day3    likes  \\\n17            0.054604              0.028657   5606   6016   1068   313738   \n18            0.446991              0.469254  46679  64815  10271  3036821   \n19            0.164906              0.096777  12527  28745   6830  1889184   \n20            0.333499              0.405312  25263  68537   5825  2416937   \n\n   retweets seguidores  rejeicao  \n17    57539     325345    0.0044  \n18   776919      22414    0.8027  \n19   357422    1431039    0.0066  \n20   583604      10207    0.1863  ",
      "text/html": "<div>\n<style scoped>\n    .dataframe tbody tr th:only-of-type {\n        vertical-align: middle;\n    }\n\n    .dataframe tbody tr th {\n        vertical-align: top;\n    }\n\n    .dataframe thead th {\n        text-align: right;\n    }\n</style>\n<table border=\"1\" class=\"dataframe\">\n  <thead>\n    <tr style=\"text-align: right;\">\n      <th></th>\n      <th>paredao</th>\n      <th>nome</th>\n      <th>positivos</th>\n      <th>neutros</th>\n      <th>negativos</th>\n      <th>positivos_individual_pct</th>\n      <th>neutros_individual_pct</th>\n      <th>negativos_individual_pct</th>\n      <th>positivos_global_pct</th>\n      <th>neutros_global_pct</th>\n      <th>negativos_global_pct</th>\n      <th>day1</th>\n      <th>day2</th>\n      <th>day3</th>\n      <th>likes</th>\n      <th>retweets</th>\n      <th>seguidores</th>\n      <th>rejeicao</th>\n    </tr>\n  </thead>\n  <tbody>\n    <tr>\n      <th>17</th>\n      <td>2</td>\n      <td>babu</td>\n      <td>3819</td>\n      <td>5049</td>\n      <td>3822</td>\n      <td>0.300946</td>\n      <td>0.397872</td>\n      <td>0.301182</td>\n      <td>0.067775</td>\n      <td>0.054604</td>\n      <td>0.028657</td>\n      <td>5606</td>\n      <td>6016</td>\n      <td>1068</td>\n      <td>313738</td>\n      <td>57539</td>\n      <td>325345</td>\n      <td>0.0044</td>\n    </tr>\n    <tr>\n      <th>18</th>\n      <td>2</td>\n      <td>petrix</td>\n      <td>17850</td>\n      <td>41331</td>\n      <td>62584</td>\n      <td>0.146594</td>\n      <td>0.339433</td>\n      <td>0.513974</td>\n      <td>0.316781</td>\n      <td>0.446991</td>\n      <td>0.469254</td>\n      <td>46679</td>\n      <td>64815</td>\n      <td>10271</td>\n      <td>3036821</td>\n      <td>776919</td>\n      <td>22414</td>\n      <td>0.8027</td>\n    </tr>\n    <tr>\n      <th>19</th>\n      <td>2</td>\n      <td>pyong</td>\n      <td>19947</td>\n      <td>15248</td>\n      <td>12907</td>\n      <td>0.414681</td>\n      <td>0.316993</td>\n      <td>0.268326</td>\n      <td>0.353997</td>\n      <td>0.164906</td>\n      <td>0.096777</td>\n      <td>12527</td>\n      <td>28745</td>\n      <td>6830</td>\n      <td>1889184</td>\n      <td>357422</td>\n      <td>1431039</td>\n      <td>0.0066</td>\n    </tr>\n    <tr>\n      <th>20</th>\n      <td>2</td>\n      <td>hadson</td>\n      <td>14732</td>\n      <td>30837</td>\n      <td>54056</td>\n      <td>0.147875</td>\n      <td>0.309531</td>\n      <td>0.542595</td>\n      <td>0.261447</td>\n      <td>0.333499</td>\n      <td>0.405312</td>\n      <td>25263</td>\n      <td>68537</td>\n      <td>5825</td>\n      <td>2416937</td>\n      <td>583604</td>\n      <td>10207</td>\n      <td>0.1863</td>\n    </tr>\n  </tbody>\n</table>\n</div>"
     },
     "metadata": {},
     "execution_count": 11
    }
   ],
   "source": [
    "train_df, test_df = get_train_test(2, normalize=NORMALIZE)\n",
    "test_df\n",
    ""
   ]
  },
  {
   "cell_type": "code",
   "execution_count": 12,
   "metadata": {},
   "outputs": [],
   "source": [
    "x_train, y_train = train_df.drop(columns=[\"paredao\", \"nome\", \"rejeicao\"], axis=1).to_numpy(), train_df.drop(columns=train_df.columns[:-1], axis=1).to_numpy()\n",
    "x_test, y_test = test_df.drop(columns=[\"paredao\", \"nome\", \"rejeicao\"], axis=1).to_numpy(), test_df.drop(columns=train_df.columns[:-1], axis=1).to_numpy()"
   ]
  },
  {
   "cell_type": "code",
   "execution_count": 13,
   "metadata": {},
   "outputs": [],
   "source": [
    "regressor = RandomForestRegressor(n_estimators=ESTIMATORS)"
   ]
  },
  {
   "cell_type": "code",
   "execution_count": 14,
   "metadata": {},
   "outputs": [],
   "source": [
    "_ = regressor.fit(x_train, y_train)\n",
    ""
   ]
  },
  {
   "cell_type": "code",
   "execution_count": 15,
   "metadata": {},
   "outputs": [],
   "source": [
    "prediction = regressor.predict(x_test)\n",
    "test_df[\"predicao\"] = prediction\n",
    "summary_df = summary_df.append(test_df, ignore_index=True, sort=False)\n",
    "\n",
    ""
   ]
  },
  {
   "cell_type": "code",
   "execution_count": 16,
   "metadata": {},
   "outputs": [
    {
     "output_type": "execute_result",
     "data": {
      "text/plain": "   paredao    nome positivos neutros negativos  positivos_individual_pct  \\\n18       2  petrix     17850   41331     62584                  0.146594   \n20       2  hadson     14732   30837     54056                  0.147875   \n17       2    babu      3819    5049      3822                  0.300946   \n19       2   pyong     19947   15248     12907                  0.414681   \n\n    neutros_individual_pct  negativos_individual_pct  positivos_global_pct  \\\n18                0.339433                  0.513974              0.316781   \n20                0.309531                  0.542595              0.261447   \n17                0.397872                  0.301182              0.067775   \n19                0.316993                  0.268326              0.353997   \n\n    neutros_global_pct  negativos_global_pct   day1   day2   day3    likes  \\\n18            0.446991              0.469254  46679  64815  10271  3036821   \n20            0.333499              0.405312  25263  68537   5825  2416937   \n17            0.054604              0.028657   5606   6016   1068   313738   \n19            0.164906              0.096777  12527  28745   6830  1889184   \n\n   retweets seguidores  rejeicao  predicao  \n18   776919      22414    0.8027  0.669166  \n20   583604      10207    0.1863  0.587348  \n17    57539     325345    0.0044  0.230511  \n19   357422    1431039    0.0066  0.108481  ",
      "text/html": "<div>\n<style scoped>\n    .dataframe tbody tr th:only-of-type {\n        vertical-align: middle;\n    }\n\n    .dataframe tbody tr th {\n        vertical-align: top;\n    }\n\n    .dataframe thead th {\n        text-align: right;\n    }\n</style>\n<table border=\"1\" class=\"dataframe\">\n  <thead>\n    <tr style=\"text-align: right;\">\n      <th></th>\n      <th>paredao</th>\n      <th>nome</th>\n      <th>positivos</th>\n      <th>neutros</th>\n      <th>negativos</th>\n      <th>positivos_individual_pct</th>\n      <th>neutros_individual_pct</th>\n      <th>negativos_individual_pct</th>\n      <th>positivos_global_pct</th>\n      <th>neutros_global_pct</th>\n      <th>negativos_global_pct</th>\n      <th>day1</th>\n      <th>day2</th>\n      <th>day3</th>\n      <th>likes</th>\n      <th>retweets</th>\n      <th>seguidores</th>\n      <th>rejeicao</th>\n      <th>predicao</th>\n    </tr>\n  </thead>\n  <tbody>\n    <tr>\n      <th>18</th>\n      <td>2</td>\n      <td>petrix</td>\n      <td>17850</td>\n      <td>41331</td>\n      <td>62584</td>\n      <td>0.146594</td>\n      <td>0.339433</td>\n      <td>0.513974</td>\n      <td>0.316781</td>\n      <td>0.446991</td>\n      <td>0.469254</td>\n      <td>46679</td>\n      <td>64815</td>\n      <td>10271</td>\n      <td>3036821</td>\n      <td>776919</td>\n      <td>22414</td>\n      <td>0.8027</td>\n      <td>0.669166</td>\n    </tr>\n    <tr>\n      <th>20</th>\n      <td>2</td>\n      <td>hadson</td>\n      <td>14732</td>\n      <td>30837</td>\n      <td>54056</td>\n      <td>0.147875</td>\n      <td>0.309531</td>\n      <td>0.542595</td>\n      <td>0.261447</td>\n      <td>0.333499</td>\n      <td>0.405312</td>\n      <td>25263</td>\n      <td>68537</td>\n      <td>5825</td>\n      <td>2416937</td>\n      <td>583604</td>\n      <td>10207</td>\n      <td>0.1863</td>\n      <td>0.587348</td>\n    </tr>\n    <tr>\n      <th>17</th>\n      <td>2</td>\n      <td>babu</td>\n      <td>3819</td>\n      <td>5049</td>\n      <td>3822</td>\n      <td>0.300946</td>\n      <td>0.397872</td>\n      <td>0.301182</td>\n      <td>0.067775</td>\n      <td>0.054604</td>\n      <td>0.028657</td>\n      <td>5606</td>\n      <td>6016</td>\n      <td>1068</td>\n      <td>313738</td>\n      <td>57539</td>\n      <td>325345</td>\n      <td>0.0044</td>\n      <td>0.230511</td>\n    </tr>\n    <tr>\n      <th>19</th>\n      <td>2</td>\n      <td>pyong</td>\n      <td>19947</td>\n      <td>15248</td>\n      <td>12907</td>\n      <td>0.414681</td>\n      <td>0.316993</td>\n      <td>0.268326</td>\n      <td>0.353997</td>\n      <td>0.164906</td>\n      <td>0.096777</td>\n      <td>12527</td>\n      <td>28745</td>\n      <td>6830</td>\n      <td>1889184</td>\n      <td>357422</td>\n      <td>1431039</td>\n      <td>0.0066</td>\n      <td>0.108481</td>\n    </tr>\n  </tbody>\n</table>\n</div>"
     },
     "metadata": {},
     "execution_count": 16
    }
   ],
   "source": [
    "test_df.sort_values(by=\"predicao\", ascending=False)"
   ]
  },
  {
   "cell_type": "markdown",
   "metadata": {},
   "source": [
    "# Paredao 3"
   ]
  },
  {
   "cell_type": "code",
   "execution_count": 17,
   "metadata": {},
   "outputs": [
    {
     "output_type": "execute_result",
     "data": {
      "text/plain": "   paredao          nome positivos neutros negativos  \\\n9        3  felipe_prior      2824    3707      3514   \n10       3        hadson      2344    4928      3987   \n\n    positivos_individual_pct  neutros_individual_pct  \\\n9                   0.281135                0.369039   \n10                  0.208189                0.437694   \n\n    negativos_individual_pct  positivos_global_pct  neutros_global_pct  \\\n9                   0.349826               0.54644            0.429299   \n10                  0.354117               0.45356            0.570701   \n\n    negativos_global_pct  day1  day2  day3   likes retweets seguidores  \\\n9               0.468471  1138  6469  2438  434766    81439     204031   \n10              0.531529  1903  6534  2822  224448    41345      10207   \n\n    rejeicao  \n9     0.2029  \n10    0.7971  ",
      "text/html": "<div>\n<style scoped>\n    .dataframe tbody tr th:only-of-type {\n        vertical-align: middle;\n    }\n\n    .dataframe tbody tr th {\n        vertical-align: top;\n    }\n\n    .dataframe thead th {\n        text-align: right;\n    }\n</style>\n<table border=\"1\" class=\"dataframe\">\n  <thead>\n    <tr style=\"text-align: right;\">\n      <th></th>\n      <th>paredao</th>\n      <th>nome</th>\n      <th>positivos</th>\n      <th>neutros</th>\n      <th>negativos</th>\n      <th>positivos_individual_pct</th>\n      <th>neutros_individual_pct</th>\n      <th>negativos_individual_pct</th>\n      <th>positivos_global_pct</th>\n      <th>neutros_global_pct</th>\n      <th>negativos_global_pct</th>\n      <th>day1</th>\n      <th>day2</th>\n      <th>day3</th>\n      <th>likes</th>\n      <th>retweets</th>\n      <th>seguidores</th>\n      <th>rejeicao</th>\n    </tr>\n  </thead>\n  <tbody>\n    <tr>\n      <th>9</th>\n      <td>3</td>\n      <td>felipe_prior</td>\n      <td>2824</td>\n      <td>3707</td>\n      <td>3514</td>\n      <td>0.281135</td>\n      <td>0.369039</td>\n      <td>0.349826</td>\n      <td>0.54644</td>\n      <td>0.429299</td>\n      <td>0.468471</td>\n      <td>1138</td>\n      <td>6469</td>\n      <td>2438</td>\n      <td>434766</td>\n      <td>81439</td>\n      <td>204031</td>\n      <td>0.2029</td>\n    </tr>\n    <tr>\n      <th>10</th>\n      <td>3</td>\n      <td>hadson</td>\n      <td>2344</td>\n      <td>4928</td>\n      <td>3987</td>\n      <td>0.208189</td>\n      <td>0.437694</td>\n      <td>0.354117</td>\n      <td>0.45356</td>\n      <td>0.570701</td>\n      <td>0.531529</td>\n      <td>1903</td>\n      <td>6534</td>\n      <td>2822</td>\n      <td>224448</td>\n      <td>41345</td>\n      <td>10207</td>\n      <td>0.7971</td>\n    </tr>\n  </tbody>\n</table>\n</div>"
     },
     "metadata": {},
     "execution_count": 17
    }
   ],
   "source": [
    "train_df, test_df = get_train_test(3, normalize=NORMALIZE)\n",
    "test_df\n",
    ""
   ]
  },
  {
   "cell_type": "code",
   "execution_count": 18,
   "metadata": {},
   "outputs": [],
   "source": [
    "x_train, y_train = train_df.drop(columns=[\"paredao\", \"nome\", \"rejeicao\"], axis=1).to_numpy(), train_df.drop(columns=train_df.columns[:-1], axis=1).to_numpy()\n",
    "x_test, y_test = test_df.drop(columns=[\"paredao\", \"nome\", \"rejeicao\"], axis=1).to_numpy(), test_df.drop(columns=train_df.columns[:-1], axis=1).to_numpy()"
   ]
  },
  {
   "cell_type": "code",
   "execution_count": 19,
   "metadata": {},
   "outputs": [],
   "source": [
    "regressor = RandomForestRegressor(n_estimators=ESTIMATORS)"
   ]
  },
  {
   "cell_type": "code",
   "execution_count": 20,
   "metadata": {},
   "outputs": [],
   "source": [
    "_ = regressor.fit(x_train, y_train)"
   ]
  },
  {
   "cell_type": "code",
   "execution_count": 21,
   "metadata": {},
   "outputs": [],
   "source": [
    "prediction = regressor.predict(x_test)\n",
    "test_df[\"predicao\"] = prediction\n",
    "summary_df = summary_df.append(test_df, ignore_index=True, sort=False)"
   ]
  },
  {
   "cell_type": "code",
   "execution_count": 22,
   "metadata": {},
   "outputs": [
    {
     "output_type": "execute_result",
     "data": {
      "text/plain": "   paredao          nome positivos neutros negativos  \\\n10       3        hadson      2344    4928      3987   \n9        3  felipe_prior      2824    3707      3514   \n\n    positivos_individual_pct  neutros_individual_pct  \\\n10                  0.208189                0.437694   \n9                   0.281135                0.369039   \n\n    negativos_individual_pct  positivos_global_pct  neutros_global_pct  \\\n10                  0.354117               0.45356            0.570701   \n9                   0.349826               0.54644            0.429299   \n\n    negativos_global_pct  day1  day2  day3   likes retweets seguidores  \\\n10              0.531529  1903  6534  2822  224448    41345      10207   \n9               0.468471  1138  6469  2438  434766    81439     204031   \n\n    rejeicao  predicao  \n10    0.7971  0.599859  \n9     0.2029  0.315982  ",
      "text/html": "<div>\n<style scoped>\n    .dataframe tbody tr th:only-of-type {\n        vertical-align: middle;\n    }\n\n    .dataframe tbody tr th {\n        vertical-align: top;\n    }\n\n    .dataframe thead th {\n        text-align: right;\n    }\n</style>\n<table border=\"1\" class=\"dataframe\">\n  <thead>\n    <tr style=\"text-align: right;\">\n      <th></th>\n      <th>paredao</th>\n      <th>nome</th>\n      <th>positivos</th>\n      <th>neutros</th>\n      <th>negativos</th>\n      <th>positivos_individual_pct</th>\n      <th>neutros_individual_pct</th>\n      <th>negativos_individual_pct</th>\n      <th>positivos_global_pct</th>\n      <th>neutros_global_pct</th>\n      <th>negativos_global_pct</th>\n      <th>day1</th>\n      <th>day2</th>\n      <th>day3</th>\n      <th>likes</th>\n      <th>retweets</th>\n      <th>seguidores</th>\n      <th>rejeicao</th>\n      <th>predicao</th>\n    </tr>\n  </thead>\n  <tbody>\n    <tr>\n      <th>10</th>\n      <td>3</td>\n      <td>hadson</td>\n      <td>2344</td>\n      <td>4928</td>\n      <td>3987</td>\n      <td>0.208189</td>\n      <td>0.437694</td>\n      <td>0.354117</td>\n      <td>0.45356</td>\n      <td>0.570701</td>\n      <td>0.531529</td>\n      <td>1903</td>\n      <td>6534</td>\n      <td>2822</td>\n      <td>224448</td>\n      <td>41345</td>\n      <td>10207</td>\n      <td>0.7971</td>\n      <td>0.599859</td>\n    </tr>\n    <tr>\n      <th>9</th>\n      <td>3</td>\n      <td>felipe_prior</td>\n      <td>2824</td>\n      <td>3707</td>\n      <td>3514</td>\n      <td>0.281135</td>\n      <td>0.369039</td>\n      <td>0.349826</td>\n      <td>0.54644</td>\n      <td>0.429299</td>\n      <td>0.468471</td>\n      <td>1138</td>\n      <td>6469</td>\n      <td>2438</td>\n      <td>434766</td>\n      <td>81439</td>\n      <td>204031</td>\n      <td>0.2029</td>\n      <td>0.315982</td>\n    </tr>\n  </tbody>\n</table>\n</div>"
     },
     "metadata": {},
     "execution_count": 22
    }
   ],
   "source": [
    "test_df.sort_values(by=\"predicao\", ascending=False)"
   ]
  },
  {
   "cell_type": "markdown",
   "metadata": {},
   "source": [
    "# Paredao 4"
   ]
  },
  {
   "cell_type": "code",
   "execution_count": 23,
   "metadata": {},
   "outputs": [
    {
     "output_type": "execute_result",
     "data": {
      "text/plain": "   paredao         nome positivos neutros negativos  positivos_individual_pct  \\\n23       4         babu      6766   10814     18799                  0.185986   \n24       4  victor_hugo      2807    4560      4979                  0.227361   \n25       4        lucas     12173   17964     31523                  0.197421   \n\n    neutros_individual_pct  negativos_individual_pct  positivos_global_pct  \\\n23                0.297259                  0.516754              0.311138   \n24                0.369350                  0.403289              0.129081   \n25                0.291340                  0.511239              0.559781   \n\n    neutros_global_pct  negativos_global_pct   day1   day2  day3    likes  \\\n23            0.324375              0.339940  18271  15505  2603   614605   \n24            0.136781              0.090035   6845   4229  1272   259802   \n25            0.538845              0.570026  32223  22154  7283  1337004   \n\n   retweets seguidores  rejeicao  \n23    87114     325345    0.0130  \n24    43392      14399    0.3608  \n25   250861      23670    0.6262  ",
      "text/html": "<div>\n<style scoped>\n    .dataframe tbody tr th:only-of-type {\n        vertical-align: middle;\n    }\n\n    .dataframe tbody tr th {\n        vertical-align: top;\n    }\n\n    .dataframe thead th {\n        text-align: right;\n    }\n</style>\n<table border=\"1\" class=\"dataframe\">\n  <thead>\n    <tr style=\"text-align: right;\">\n      <th></th>\n      <th>paredao</th>\n      <th>nome</th>\n      <th>positivos</th>\n      <th>neutros</th>\n      <th>negativos</th>\n      <th>positivos_individual_pct</th>\n      <th>neutros_individual_pct</th>\n      <th>negativos_individual_pct</th>\n      <th>positivos_global_pct</th>\n      <th>neutros_global_pct</th>\n      <th>negativos_global_pct</th>\n      <th>day1</th>\n      <th>day2</th>\n      <th>day3</th>\n      <th>likes</th>\n      <th>retweets</th>\n      <th>seguidores</th>\n      <th>rejeicao</th>\n    </tr>\n  </thead>\n  <tbody>\n    <tr>\n      <th>23</th>\n      <td>4</td>\n      <td>babu</td>\n      <td>6766</td>\n      <td>10814</td>\n      <td>18799</td>\n      <td>0.185986</td>\n      <td>0.297259</td>\n      <td>0.516754</td>\n      <td>0.311138</td>\n      <td>0.324375</td>\n      <td>0.339940</td>\n      <td>18271</td>\n      <td>15505</td>\n      <td>2603</td>\n      <td>614605</td>\n      <td>87114</td>\n      <td>325345</td>\n      <td>0.0130</td>\n    </tr>\n    <tr>\n      <th>24</th>\n      <td>4</td>\n      <td>victor_hugo</td>\n      <td>2807</td>\n      <td>4560</td>\n      <td>4979</td>\n      <td>0.227361</td>\n      <td>0.369350</td>\n      <td>0.403289</td>\n      <td>0.129081</td>\n      <td>0.136781</td>\n      <td>0.090035</td>\n      <td>6845</td>\n      <td>4229</td>\n      <td>1272</td>\n      <td>259802</td>\n      <td>43392</td>\n      <td>14399</td>\n      <td>0.3608</td>\n    </tr>\n    <tr>\n      <th>25</th>\n      <td>4</td>\n      <td>lucas</td>\n      <td>12173</td>\n      <td>17964</td>\n      <td>31523</td>\n      <td>0.197421</td>\n      <td>0.291340</td>\n      <td>0.511239</td>\n      <td>0.559781</td>\n      <td>0.538845</td>\n      <td>0.570026</td>\n      <td>32223</td>\n      <td>22154</td>\n      <td>7283</td>\n      <td>1337004</td>\n      <td>250861</td>\n      <td>23670</td>\n      <td>0.6262</td>\n    </tr>\n  </tbody>\n</table>\n</div>"
     },
     "metadata": {},
     "execution_count": 23
    }
   ],
   "source": [
    "train_df, test_df = get_train_test(4, normalize=NORMALIZE)\n",
    "test_df\n",
    ""
   ]
  },
  {
   "cell_type": "code",
   "execution_count": 24,
   "metadata": {},
   "outputs": [],
   "source": [
    "x_train, y_train = train_df.drop(columns=[\"paredao\", \"nome\", \"rejeicao\"], axis=1).to_numpy(), train_df.drop(columns=train_df.columns[:-1], axis=1).to_numpy()\n",
    "x_test, y_test = test_df.drop(columns=[\"paredao\", \"nome\", \"rejeicao\"], axis=1).to_numpy(), test_df.drop(columns=train_df.columns[:-1], axis=1).to_numpy()"
   ]
  },
  {
   "cell_type": "code",
   "execution_count": 25,
   "metadata": {},
   "outputs": [],
   "source": [
    "regressor = RandomForestRegressor(n_estimators=ESTIMATORS)"
   ]
  },
  {
   "cell_type": "code",
   "execution_count": 26,
   "metadata": {},
   "outputs": [],
   "source": [
    "_ = regressor.fit(x_train, y_train)\n",
    ""
   ]
  },
  {
   "cell_type": "code",
   "execution_count": 27,
   "metadata": {},
   "outputs": [],
   "source": [
    "prediction = regressor.predict(x_test)\n",
    "test_df[\"predicao\"] = prediction\n",
    "summary_df = summary_df.append(test_df, ignore_index=True, sort=False)"
   ]
  },
  {
   "cell_type": "code",
   "execution_count": 28,
   "metadata": {},
   "outputs": [
    {
     "output_type": "execute_result",
     "data": {
      "text/plain": "   paredao         nome positivos neutros negativos  positivos_individual_pct  \\\n25       4        lucas     12173   17964     31523                  0.197421   \n24       4  victor_hugo      2807    4560      4979                  0.227361   \n23       4         babu      6766   10814     18799                  0.185986   \n\n    neutros_individual_pct  negativos_individual_pct  positivos_global_pct  \\\n25                0.291340                  0.511239              0.559781   \n24                0.369350                  0.403289              0.129081   \n23                0.297259                  0.516754              0.311138   \n\n    neutros_global_pct  negativos_global_pct   day1   day2  day3    likes  \\\n25            0.538845              0.570026  32223  22154  7283  1337004   \n24            0.136781              0.090035   6845   4229  1272   259802   \n23            0.324375              0.339940  18271  15505  2603   614605   \n\n   retweets seguidores  rejeicao  predicao  \n25   250861      23670    0.6262  0.628548  \n24    43392      14399    0.3608  0.482009  \n23    87114     325345    0.0130  0.236297  ",
      "text/html": "<div>\n<style scoped>\n    .dataframe tbody tr th:only-of-type {\n        vertical-align: middle;\n    }\n\n    .dataframe tbody tr th {\n        vertical-align: top;\n    }\n\n    .dataframe thead th {\n        text-align: right;\n    }\n</style>\n<table border=\"1\" class=\"dataframe\">\n  <thead>\n    <tr style=\"text-align: right;\">\n      <th></th>\n      <th>paredao</th>\n      <th>nome</th>\n      <th>positivos</th>\n      <th>neutros</th>\n      <th>negativos</th>\n      <th>positivos_individual_pct</th>\n      <th>neutros_individual_pct</th>\n      <th>negativos_individual_pct</th>\n      <th>positivos_global_pct</th>\n      <th>neutros_global_pct</th>\n      <th>negativos_global_pct</th>\n      <th>day1</th>\n      <th>day2</th>\n      <th>day3</th>\n      <th>likes</th>\n      <th>retweets</th>\n      <th>seguidores</th>\n      <th>rejeicao</th>\n      <th>predicao</th>\n    </tr>\n  </thead>\n  <tbody>\n    <tr>\n      <th>25</th>\n      <td>4</td>\n      <td>lucas</td>\n      <td>12173</td>\n      <td>17964</td>\n      <td>31523</td>\n      <td>0.197421</td>\n      <td>0.291340</td>\n      <td>0.511239</td>\n      <td>0.559781</td>\n      <td>0.538845</td>\n      <td>0.570026</td>\n      <td>32223</td>\n      <td>22154</td>\n      <td>7283</td>\n      <td>1337004</td>\n      <td>250861</td>\n      <td>23670</td>\n      <td>0.6262</td>\n      <td>0.628548</td>\n    </tr>\n    <tr>\n      <th>24</th>\n      <td>4</td>\n      <td>victor_hugo</td>\n      <td>2807</td>\n      <td>4560</td>\n      <td>4979</td>\n      <td>0.227361</td>\n      <td>0.369350</td>\n      <td>0.403289</td>\n      <td>0.129081</td>\n      <td>0.136781</td>\n      <td>0.090035</td>\n      <td>6845</td>\n      <td>4229</td>\n      <td>1272</td>\n      <td>259802</td>\n      <td>43392</td>\n      <td>14399</td>\n      <td>0.3608</td>\n      <td>0.482009</td>\n    </tr>\n    <tr>\n      <th>23</th>\n      <td>4</td>\n      <td>babu</td>\n      <td>6766</td>\n      <td>10814</td>\n      <td>18799</td>\n      <td>0.185986</td>\n      <td>0.297259</td>\n      <td>0.516754</td>\n      <td>0.311138</td>\n      <td>0.324375</td>\n      <td>0.339940</td>\n      <td>18271</td>\n      <td>15505</td>\n      <td>2603</td>\n      <td>614605</td>\n      <td>87114</td>\n      <td>325345</td>\n      <td>0.0130</td>\n      <td>0.236297</td>\n    </tr>\n  </tbody>\n</table>\n</div>"
     },
     "metadata": {},
     "execution_count": 28
    }
   ],
   "source": [
    "test_df.sort_values(by=\"predicao\", ascending=False)"
   ]
  },
  {
   "cell_type": "markdown",
   "metadata": {},
   "source": [
    "# Paredao 5"
   ]
  },
  {
   "cell_type": "code",
   "execution_count": 29,
   "metadata": {},
   "outputs": [
    {
     "output_type": "execute_result",
     "data": {
      "text/plain": "  paredao            nome positivos neutros negativos  \\\n3       5  bianca_andrade      4239    8067      6802   \n4       5       flayslene      2304    4170      6222   \n5       5    felipe_prior      4887    9452     19076   \n\n   positivos_individual_pct  neutros_individual_pct  negativos_individual_pct  \\\n3                  0.221844                0.422179                  0.355977   \n4                  0.181474                0.328450                  0.490076   \n5                  0.146252                0.282867                  0.570881   \n\n   positivos_global_pct  neutros_global_pct  negativos_global_pct  day1  \\\n3              0.370866            0.371940              0.211900  1998   \n4              0.201575            0.192263              0.193832  1935   \n5              0.427559            0.435797              0.594268  3101   \n\n    day2  day3   likes retweets seguidores  rejeicao  \n3  10238  6872  136880    18673     411880    0.5309  \n4   7920  2841  244036    42579     104138    0.1764  \n5  21636  8678  703621   137701     204031    0.2927  ",
      "text/html": "<div>\n<style scoped>\n    .dataframe tbody tr th:only-of-type {\n        vertical-align: middle;\n    }\n\n    .dataframe tbody tr th {\n        vertical-align: top;\n    }\n\n    .dataframe thead th {\n        text-align: right;\n    }\n</style>\n<table border=\"1\" class=\"dataframe\">\n  <thead>\n    <tr style=\"text-align: right;\">\n      <th></th>\n      <th>paredao</th>\n      <th>nome</th>\n      <th>positivos</th>\n      <th>neutros</th>\n      <th>negativos</th>\n      <th>positivos_individual_pct</th>\n      <th>neutros_individual_pct</th>\n      <th>negativos_individual_pct</th>\n      <th>positivos_global_pct</th>\n      <th>neutros_global_pct</th>\n      <th>negativos_global_pct</th>\n      <th>day1</th>\n      <th>day2</th>\n      <th>day3</th>\n      <th>likes</th>\n      <th>retweets</th>\n      <th>seguidores</th>\n      <th>rejeicao</th>\n    </tr>\n  </thead>\n  <tbody>\n    <tr>\n      <th>3</th>\n      <td>5</td>\n      <td>bianca_andrade</td>\n      <td>4239</td>\n      <td>8067</td>\n      <td>6802</td>\n      <td>0.221844</td>\n      <td>0.422179</td>\n      <td>0.355977</td>\n      <td>0.370866</td>\n      <td>0.371940</td>\n      <td>0.211900</td>\n      <td>1998</td>\n      <td>10238</td>\n      <td>6872</td>\n      <td>136880</td>\n      <td>18673</td>\n      <td>411880</td>\n      <td>0.5309</td>\n    </tr>\n    <tr>\n      <th>4</th>\n      <td>5</td>\n      <td>flayslene</td>\n      <td>2304</td>\n      <td>4170</td>\n      <td>6222</td>\n      <td>0.181474</td>\n      <td>0.328450</td>\n      <td>0.490076</td>\n      <td>0.201575</td>\n      <td>0.192263</td>\n      <td>0.193832</td>\n      <td>1935</td>\n      <td>7920</td>\n      <td>2841</td>\n      <td>244036</td>\n      <td>42579</td>\n      <td>104138</td>\n      <td>0.1764</td>\n    </tr>\n    <tr>\n      <th>5</th>\n      <td>5</td>\n      <td>felipe_prior</td>\n      <td>4887</td>\n      <td>9452</td>\n      <td>19076</td>\n      <td>0.146252</td>\n      <td>0.282867</td>\n      <td>0.570881</td>\n      <td>0.427559</td>\n      <td>0.435797</td>\n      <td>0.594268</td>\n      <td>3101</td>\n      <td>21636</td>\n      <td>8678</td>\n      <td>703621</td>\n      <td>137701</td>\n      <td>204031</td>\n      <td>0.2927</td>\n    </tr>\n  </tbody>\n</table>\n</div>"
     },
     "metadata": {},
     "execution_count": 29
    }
   ],
   "source": [
    "train_df, test_df = get_train_test(5, normalize=NORMALIZE)\n",
    "test_df\n",
    ""
   ]
  },
  {
   "cell_type": "code",
   "execution_count": 30,
   "metadata": {},
   "outputs": [],
   "source": [
    "x_train, y_train = train_df.drop(columns=[\"paredao\", \"nome\", \"rejeicao\"], axis=1).to_numpy(), train_df.drop(columns=train_df.columns[:-1], axis=1).to_numpy()\n",
    "x_test, y_test = test_df.drop(columns=[\"paredao\", \"nome\", \"rejeicao\"], axis=1).to_numpy(), test_df.drop(columns=train_df.columns[:-1], axis=1).to_numpy()"
   ]
  },
  {
   "cell_type": "code",
   "execution_count": 31,
   "metadata": {},
   "outputs": [],
   "source": [
    "regressor = RandomForestRegressor(n_estimators=ESTIMATORS)"
   ]
  },
  {
   "cell_type": "code",
   "execution_count": 32,
   "metadata": {},
   "outputs": [],
   "source": [
    "_ = regressor.fit(x_train, y_train)\n",
    ""
   ]
  },
  {
   "cell_type": "code",
   "execution_count": 33,
   "metadata": {},
   "outputs": [],
   "source": [
    "prediction = regressor.predict(x_test)\n",
    "test_df[\"predicao\"] = prediction\n",
    "summary_df = summary_df.append(test_df, ignore_index=True, sort=False)"
   ]
  },
  {
   "cell_type": "code",
   "execution_count": 34,
   "metadata": {},
   "outputs": [
    {
     "output_type": "execute_result",
     "data": {
      "text/plain": "  paredao            nome positivos neutros negativos  \\\n5       5    felipe_prior      4887    9452     19076   \n4       5       flayslene      2304    4170      6222   \n3       5  bianca_andrade      4239    8067      6802   \n\n   positivos_individual_pct  neutros_individual_pct  negativos_individual_pct  \\\n5                  0.146252                0.282867                  0.570881   \n4                  0.181474                0.328450                  0.490076   \n3                  0.221844                0.422179                  0.355977   \n\n   positivos_global_pct  neutros_global_pct  negativos_global_pct  day1  \\\n5              0.427559            0.435797              0.594268  3101   \n4              0.201575            0.192263              0.193832  1935   \n3              0.370866            0.371940              0.211900  1998   \n\n    day2  day3   likes retweets seguidores  rejeicao  predicao  \n5  21636  8678  703621   137701     204031    0.2927  0.303581  \n4   7920  2841  244036    42579     104138    0.1764  0.216710  \n3  10238  6872  136880    18673     411880    0.5309  0.179944  ",
      "text/html": "<div>\n<style scoped>\n    .dataframe tbody tr th:only-of-type {\n        vertical-align: middle;\n    }\n\n    .dataframe tbody tr th {\n        vertical-align: top;\n    }\n\n    .dataframe thead th {\n        text-align: right;\n    }\n</style>\n<table border=\"1\" class=\"dataframe\">\n  <thead>\n    <tr style=\"text-align: right;\">\n      <th></th>\n      <th>paredao</th>\n      <th>nome</th>\n      <th>positivos</th>\n      <th>neutros</th>\n      <th>negativos</th>\n      <th>positivos_individual_pct</th>\n      <th>neutros_individual_pct</th>\n      <th>negativos_individual_pct</th>\n      <th>positivos_global_pct</th>\n      <th>neutros_global_pct</th>\n      <th>negativos_global_pct</th>\n      <th>day1</th>\n      <th>day2</th>\n      <th>day3</th>\n      <th>likes</th>\n      <th>retweets</th>\n      <th>seguidores</th>\n      <th>rejeicao</th>\n      <th>predicao</th>\n    </tr>\n  </thead>\n  <tbody>\n    <tr>\n      <th>5</th>\n      <td>5</td>\n      <td>felipe_prior</td>\n      <td>4887</td>\n      <td>9452</td>\n      <td>19076</td>\n      <td>0.146252</td>\n      <td>0.282867</td>\n      <td>0.570881</td>\n      <td>0.427559</td>\n      <td>0.435797</td>\n      <td>0.594268</td>\n      <td>3101</td>\n      <td>21636</td>\n      <td>8678</td>\n      <td>703621</td>\n      <td>137701</td>\n      <td>204031</td>\n      <td>0.2927</td>\n      <td>0.303581</td>\n    </tr>\n    <tr>\n      <th>4</th>\n      <td>5</td>\n      <td>flayslene</td>\n      <td>2304</td>\n      <td>4170</td>\n      <td>6222</td>\n      <td>0.181474</td>\n      <td>0.328450</td>\n      <td>0.490076</td>\n      <td>0.201575</td>\n      <td>0.192263</td>\n      <td>0.193832</td>\n      <td>1935</td>\n      <td>7920</td>\n      <td>2841</td>\n      <td>244036</td>\n      <td>42579</td>\n      <td>104138</td>\n      <td>0.1764</td>\n      <td>0.216710</td>\n    </tr>\n    <tr>\n      <th>3</th>\n      <td>5</td>\n      <td>bianca_andrade</td>\n      <td>4239</td>\n      <td>8067</td>\n      <td>6802</td>\n      <td>0.221844</td>\n      <td>0.422179</td>\n      <td>0.355977</td>\n      <td>0.370866</td>\n      <td>0.371940</td>\n      <td>0.211900</td>\n      <td>1998</td>\n      <td>10238</td>\n      <td>6872</td>\n      <td>136880</td>\n      <td>18673</td>\n      <td>411880</td>\n      <td>0.5309</td>\n      <td>0.179944</td>\n    </tr>\n  </tbody>\n</table>\n</div>"
     },
     "metadata": {},
     "execution_count": 34
    }
   ],
   "source": [
    "test_df.sort_values(by=\"predicao\", ascending=False)"
   ]
  },
  {
   "cell_type": "markdown",
   "metadata": {},
   "source": [
    "# Paredao 6"
   ]
  },
  {
   "cell_type": "code",
   "execution_count": 35,
   "metadata": {},
   "outputs": [
    {
     "output_type": "execute_result",
     "data": {
      "text/plain": "  paredao             nome positivos neutros negativos  \\\n0       6  gizelly_bicalho     20697   18318     14428   \n1       6        guilherme     15623   26030     61087   \n2       6            pyong     24067   31118     59615   \n\n   positivos_individual_pct  neutros_individual_pct  negativos_individual_pct  \\\n0                  0.387272                0.342758                  0.269970   \n1                  0.152063                0.253358                  0.594579   \n2                  0.209643                0.271063                  0.519294   \n\n   positivos_global_pct  neutros_global_pct  negativos_global_pct   day1  \\\n0              0.342739            0.242732              0.106771  20904   \n1              0.258715            0.344924              0.452061  49438   \n2              0.398546            0.412345              0.441168  38968   \n\n    day2   day3    likes retweets seguidores  rejeicao  \n0  23543   8996  2513041   427327     234977    0.0064  \n1  35276  18026  2623616   513321     103421    0.5607  \n2  53242  22590  2790406   500118    1431039    0.4329  ",
      "text/html": "<div>\n<style scoped>\n    .dataframe tbody tr th:only-of-type {\n        vertical-align: middle;\n    }\n\n    .dataframe tbody tr th {\n        vertical-align: top;\n    }\n\n    .dataframe thead th {\n        text-align: right;\n    }\n</style>\n<table border=\"1\" class=\"dataframe\">\n  <thead>\n    <tr style=\"text-align: right;\">\n      <th></th>\n      <th>paredao</th>\n      <th>nome</th>\n      <th>positivos</th>\n      <th>neutros</th>\n      <th>negativos</th>\n      <th>positivos_individual_pct</th>\n      <th>neutros_individual_pct</th>\n      <th>negativos_individual_pct</th>\n      <th>positivos_global_pct</th>\n      <th>neutros_global_pct</th>\n      <th>negativos_global_pct</th>\n      <th>day1</th>\n      <th>day2</th>\n      <th>day3</th>\n      <th>likes</th>\n      <th>retweets</th>\n      <th>seguidores</th>\n      <th>rejeicao</th>\n    </tr>\n  </thead>\n  <tbody>\n    <tr>\n      <th>0</th>\n      <td>6</td>\n      <td>gizelly_bicalho</td>\n      <td>20697</td>\n      <td>18318</td>\n      <td>14428</td>\n      <td>0.387272</td>\n      <td>0.342758</td>\n      <td>0.269970</td>\n      <td>0.342739</td>\n      <td>0.242732</td>\n      <td>0.106771</td>\n      <td>20904</td>\n      <td>23543</td>\n      <td>8996</td>\n      <td>2513041</td>\n      <td>427327</td>\n      <td>234977</td>\n      <td>0.0064</td>\n    </tr>\n    <tr>\n      <th>1</th>\n      <td>6</td>\n      <td>guilherme</td>\n      <td>15623</td>\n      <td>26030</td>\n      <td>61087</td>\n      <td>0.152063</td>\n      <td>0.253358</td>\n      <td>0.594579</td>\n      <td>0.258715</td>\n      <td>0.344924</td>\n      <td>0.452061</td>\n      <td>49438</td>\n      <td>35276</td>\n      <td>18026</td>\n      <td>2623616</td>\n      <td>513321</td>\n      <td>103421</td>\n      <td>0.5607</td>\n    </tr>\n    <tr>\n      <th>2</th>\n      <td>6</td>\n      <td>pyong</td>\n      <td>24067</td>\n      <td>31118</td>\n      <td>59615</td>\n      <td>0.209643</td>\n      <td>0.271063</td>\n      <td>0.519294</td>\n      <td>0.398546</td>\n      <td>0.412345</td>\n      <td>0.441168</td>\n      <td>38968</td>\n      <td>53242</td>\n      <td>22590</td>\n      <td>2790406</td>\n      <td>500118</td>\n      <td>1431039</td>\n      <td>0.4329</td>\n    </tr>\n  </tbody>\n</table>\n</div>"
     },
     "metadata": {},
     "execution_count": 35
    }
   ],
   "source": [
    "train_df, test_df = get_train_test(6, normalize=NORMALIZE)\n",
    "test_df\n",
    ""
   ]
  },
  {
   "cell_type": "code",
   "execution_count": 36,
   "metadata": {},
   "outputs": [],
   "source": [
    "x_train, y_train = train_df.drop(columns=[\"paredao\", \"nome\", \"rejeicao\"], axis=1).to_numpy(), train_df.drop(columns=train_df.columns[:-1], axis=1).to_numpy()\n",
    "x_test, y_test = test_df.drop(columns=[\"paredao\", \"nome\", \"rejeicao\"], axis=1).to_numpy(), test_df.drop(columns=train_df.columns[:-1], axis=1).to_numpy()"
   ]
  },
  {
   "cell_type": "code",
   "execution_count": 37,
   "metadata": {},
   "outputs": [],
   "source": [
    "regressor = RandomForestRegressor(n_estimators=ESTIMATORS)"
   ]
  },
  {
   "cell_type": "code",
   "execution_count": 38,
   "metadata": {},
   "outputs": [],
   "source": [
    "_ = regressor.fit(x_train, y_train)\n",
    ""
   ]
  },
  {
   "cell_type": "code",
   "execution_count": 39,
   "metadata": {},
   "outputs": [],
   "source": [
    "prediction = regressor.predict(x_test)\n",
    "test_df[\"predicao\"] = prediction\n",
    "summary_df = summary_df.append(test_df, ignore_index=True, sort=False)"
   ]
  },
  {
   "cell_type": "code",
   "execution_count": 40,
   "metadata": {},
   "outputs": [
    {
     "output_type": "execute_result",
     "data": {
      "text/plain": "  paredao             nome positivos neutros negativos  \\\n2       6            pyong     24067   31118     59615   \n1       6        guilherme     15623   26030     61087   \n0       6  gizelly_bicalho     20697   18318     14428   \n\n   positivos_individual_pct  neutros_individual_pct  negativos_individual_pct  \\\n2                  0.209643                0.271063                  0.519294   \n1                  0.152063                0.253358                  0.594579   \n0                  0.387272                0.342758                  0.269970   \n\n   positivos_global_pct  neutros_global_pct  negativos_global_pct   day1  \\\n2              0.398546            0.412345              0.441168  38968   \n1              0.258715            0.344924              0.452061  49438   \n0              0.342739            0.242732              0.106771  20904   \n\n    day2   day3    likes retweets seguidores  rejeicao  predicao  \n2  53242  22590  2790406   500118    1431039    0.4329  0.412992  \n1  35276  18026  2623616   513321     103421    0.5607  0.306421  \n0  23543   8996  2513041   427327     234977    0.0064  0.142099  ",
      "text/html": "<div>\n<style scoped>\n    .dataframe tbody tr th:only-of-type {\n        vertical-align: middle;\n    }\n\n    .dataframe tbody tr th {\n        vertical-align: top;\n    }\n\n    .dataframe thead th {\n        text-align: right;\n    }\n</style>\n<table border=\"1\" class=\"dataframe\">\n  <thead>\n    <tr style=\"text-align: right;\">\n      <th></th>\n      <th>paredao</th>\n      <th>nome</th>\n      <th>positivos</th>\n      <th>neutros</th>\n      <th>negativos</th>\n      <th>positivos_individual_pct</th>\n      <th>neutros_individual_pct</th>\n      <th>negativos_individual_pct</th>\n      <th>positivos_global_pct</th>\n      <th>neutros_global_pct</th>\n      <th>negativos_global_pct</th>\n      <th>day1</th>\n      <th>day2</th>\n      <th>day3</th>\n      <th>likes</th>\n      <th>retweets</th>\n      <th>seguidores</th>\n      <th>rejeicao</th>\n      <th>predicao</th>\n    </tr>\n  </thead>\n  <tbody>\n    <tr>\n      <th>2</th>\n      <td>6</td>\n      <td>pyong</td>\n      <td>24067</td>\n      <td>31118</td>\n      <td>59615</td>\n      <td>0.209643</td>\n      <td>0.271063</td>\n      <td>0.519294</td>\n      <td>0.398546</td>\n      <td>0.412345</td>\n      <td>0.441168</td>\n      <td>38968</td>\n      <td>53242</td>\n      <td>22590</td>\n      <td>2790406</td>\n      <td>500118</td>\n      <td>1431039</td>\n      <td>0.4329</td>\n      <td>0.412992</td>\n    </tr>\n    <tr>\n      <th>1</th>\n      <td>6</td>\n      <td>guilherme</td>\n      <td>15623</td>\n      <td>26030</td>\n      <td>61087</td>\n      <td>0.152063</td>\n      <td>0.253358</td>\n      <td>0.594579</td>\n      <td>0.258715</td>\n      <td>0.344924</td>\n      <td>0.452061</td>\n      <td>49438</td>\n      <td>35276</td>\n      <td>18026</td>\n      <td>2623616</td>\n      <td>513321</td>\n      <td>103421</td>\n      <td>0.5607</td>\n      <td>0.306421</td>\n    </tr>\n    <tr>\n      <th>0</th>\n      <td>6</td>\n      <td>gizelly_bicalho</td>\n      <td>20697</td>\n      <td>18318</td>\n      <td>14428</td>\n      <td>0.387272</td>\n      <td>0.342758</td>\n      <td>0.269970</td>\n      <td>0.342739</td>\n      <td>0.242732</td>\n      <td>0.106771</td>\n      <td>20904</td>\n      <td>23543</td>\n      <td>8996</td>\n      <td>2513041</td>\n      <td>427327</td>\n      <td>234977</td>\n      <td>0.0064</td>\n      <td>0.142099</td>\n    </tr>\n  </tbody>\n</table>\n</div>"
     },
     "metadata": {},
     "execution_count": 40
    }
   ],
   "source": [
    "test_df.sort_values(by=\"predicao\", ascending=False)"
   ]
  },
  {
   "cell_type": "markdown",
   "metadata": {},
   "source": [
    "# Paredao 7"
   ]
  },
  {
   "cell_type": "code",
   "execution_count": 41,
   "metadata": {},
   "outputs": [
    {
     "output_type": "execute_result",
     "data": {
      "text/plain": "  paredao          nome positivos neutros negativos  positivos_individual_pct  \\\n6       7          babu     14706   13814     17650                  0.318519   \n7       7  manu_gavassi     11741   12131     10756                  0.339061   \n8       7   victor_hugo      5780   10136     12243                  0.205263   \n\n   neutros_individual_pct  negativos_individual_pct  positivos_global_pct  \\\n6                0.299199                  0.382283              0.456325   \n7                0.350323                  0.310616              0.364322   \n8                0.359956                  0.434781              0.179353   \n\n   neutros_global_pct  negativos_global_pct   day1   day2  day3    likes  \\\n6            0.382861              0.434205  19044  20262  6864  3245989   \n7            0.336216              0.264607  13372  15830  5426  1347551   \n8            0.280923              0.301188  14217   9331  4611  1370088   \n\n  retweets seguidores  rejeicao  \n6   421069     325345    0.0460  \n7   161381    4327060    0.1018  \n8   192649      14399    0.8522  ",
      "text/html": "<div>\n<style scoped>\n    .dataframe tbody tr th:only-of-type {\n        vertical-align: middle;\n    }\n\n    .dataframe tbody tr th {\n        vertical-align: top;\n    }\n\n    .dataframe thead th {\n        text-align: right;\n    }\n</style>\n<table border=\"1\" class=\"dataframe\">\n  <thead>\n    <tr style=\"text-align: right;\">\n      <th></th>\n      <th>paredao</th>\n      <th>nome</th>\n      <th>positivos</th>\n      <th>neutros</th>\n      <th>negativos</th>\n      <th>positivos_individual_pct</th>\n      <th>neutros_individual_pct</th>\n      <th>negativos_individual_pct</th>\n      <th>positivos_global_pct</th>\n      <th>neutros_global_pct</th>\n      <th>negativos_global_pct</th>\n      <th>day1</th>\n      <th>day2</th>\n      <th>day3</th>\n      <th>likes</th>\n      <th>retweets</th>\n      <th>seguidores</th>\n      <th>rejeicao</th>\n    </tr>\n  </thead>\n  <tbody>\n    <tr>\n      <th>6</th>\n      <td>7</td>\n      <td>babu</td>\n      <td>14706</td>\n      <td>13814</td>\n      <td>17650</td>\n      <td>0.318519</td>\n      <td>0.299199</td>\n      <td>0.382283</td>\n      <td>0.456325</td>\n      <td>0.382861</td>\n      <td>0.434205</td>\n      <td>19044</td>\n      <td>20262</td>\n      <td>6864</td>\n      <td>3245989</td>\n      <td>421069</td>\n      <td>325345</td>\n      <td>0.0460</td>\n    </tr>\n    <tr>\n      <th>7</th>\n      <td>7</td>\n      <td>manu_gavassi</td>\n      <td>11741</td>\n      <td>12131</td>\n      <td>10756</td>\n      <td>0.339061</td>\n      <td>0.350323</td>\n      <td>0.310616</td>\n      <td>0.364322</td>\n      <td>0.336216</td>\n      <td>0.264607</td>\n      <td>13372</td>\n      <td>15830</td>\n      <td>5426</td>\n      <td>1347551</td>\n      <td>161381</td>\n      <td>4327060</td>\n      <td>0.1018</td>\n    </tr>\n    <tr>\n      <th>8</th>\n      <td>7</td>\n      <td>victor_hugo</td>\n      <td>5780</td>\n      <td>10136</td>\n      <td>12243</td>\n      <td>0.205263</td>\n      <td>0.359956</td>\n      <td>0.434781</td>\n      <td>0.179353</td>\n      <td>0.280923</td>\n      <td>0.301188</td>\n      <td>14217</td>\n      <td>9331</td>\n      <td>4611</td>\n      <td>1370088</td>\n      <td>192649</td>\n      <td>14399</td>\n      <td>0.8522</td>\n    </tr>\n  </tbody>\n</table>\n</div>"
     },
     "metadata": {},
     "execution_count": 41
    }
   ],
   "source": [
    "train_df, test_df = get_train_test(7, normalize=NORMALIZE)\n",
    "test_df\n",
    ""
   ]
  },
  {
   "cell_type": "code",
   "execution_count": 42,
   "metadata": {},
   "outputs": [],
   "source": [
    "x_train, y_train = train_df.drop(columns=[\"paredao\", \"nome\", \"rejeicao\"], axis=1).to_numpy(), train_df.drop(columns=train_df.columns[:-1], axis=1).to_numpy()\n",
    "x_test, y_test = test_df.drop(columns=[\"paredao\", \"nome\", \"rejeicao\"], axis=1).to_numpy(), test_df.drop(columns=train_df.columns[:-1], axis=1).to_numpy()"
   ]
  },
  {
   "cell_type": "code",
   "execution_count": 43,
   "metadata": {},
   "outputs": [],
   "source": [
    "regressor = RandomForestRegressor(n_estimators=ESTIMATORS)"
   ]
  },
  {
   "cell_type": "code",
   "execution_count": 44,
   "metadata": {},
   "outputs": [],
   "source": [
    "_ = regressor.fit(x_train, y_train)\n",
    "prediction = regressor.predict(x_test)\n",
    "test_df[\"predicao\"] = prediction\n",
    "summary_df = summary_df.append(test_df, ignore_index=True, sort=False)\n",
    "\n",
    ""
   ]
  },
  {
   "cell_type": "code",
   "execution_count": 45,
   "metadata": {},
   "outputs": [
    {
     "output_type": "execute_result",
     "data": {
      "text/plain": "  paredao          nome positivos neutros negativos  positivos_individual_pct  \\\n6       7          babu     14706   13814     17650                  0.318519   \n8       7   victor_hugo      5780   10136     12243                  0.205263   \n7       7  manu_gavassi     11741   12131     10756                  0.339061   \n\n   neutros_individual_pct  negativos_individual_pct  positivos_global_pct  \\\n6                0.299199                  0.382283              0.456325   \n8                0.359956                  0.434781              0.179353   \n7                0.350323                  0.310616              0.364322   \n\n   neutros_global_pct  negativos_global_pct   day1   day2  day3    likes  \\\n6            0.382861              0.434205  19044  20262  6864  3245989   \n8            0.280923              0.301188  14217   9331  4611  1370088   \n7            0.336216              0.264607  13372  15830  5426  1347551   \n\n  retweets seguidores  rejeicao  predicao  \n6   421069     325345    0.0460  0.371953  \n8   192649      14399    0.8522  0.202384  \n7   161381    4327060    0.1018  0.191356  ",
      "text/html": "<div>\n<style scoped>\n    .dataframe tbody tr th:only-of-type {\n        vertical-align: middle;\n    }\n\n    .dataframe tbody tr th {\n        vertical-align: top;\n    }\n\n    .dataframe thead th {\n        text-align: right;\n    }\n</style>\n<table border=\"1\" class=\"dataframe\">\n  <thead>\n    <tr style=\"text-align: right;\">\n      <th></th>\n      <th>paredao</th>\n      <th>nome</th>\n      <th>positivos</th>\n      <th>neutros</th>\n      <th>negativos</th>\n      <th>positivos_individual_pct</th>\n      <th>neutros_individual_pct</th>\n      <th>negativos_individual_pct</th>\n      <th>positivos_global_pct</th>\n      <th>neutros_global_pct</th>\n      <th>negativos_global_pct</th>\n      <th>day1</th>\n      <th>day2</th>\n      <th>day3</th>\n      <th>likes</th>\n      <th>retweets</th>\n      <th>seguidores</th>\n      <th>rejeicao</th>\n      <th>predicao</th>\n    </tr>\n  </thead>\n  <tbody>\n    <tr>\n      <th>6</th>\n      <td>7</td>\n      <td>babu</td>\n      <td>14706</td>\n      <td>13814</td>\n      <td>17650</td>\n      <td>0.318519</td>\n      <td>0.299199</td>\n      <td>0.382283</td>\n      <td>0.456325</td>\n      <td>0.382861</td>\n      <td>0.434205</td>\n      <td>19044</td>\n      <td>20262</td>\n      <td>6864</td>\n      <td>3245989</td>\n      <td>421069</td>\n      <td>325345</td>\n      <td>0.0460</td>\n      <td>0.371953</td>\n    </tr>\n    <tr>\n      <th>8</th>\n      <td>7</td>\n      <td>victor_hugo</td>\n      <td>5780</td>\n      <td>10136</td>\n      <td>12243</td>\n      <td>0.205263</td>\n      <td>0.359956</td>\n      <td>0.434781</td>\n      <td>0.179353</td>\n      <td>0.280923</td>\n      <td>0.301188</td>\n      <td>14217</td>\n      <td>9331</td>\n      <td>4611</td>\n      <td>1370088</td>\n      <td>192649</td>\n      <td>14399</td>\n      <td>0.8522</td>\n      <td>0.202384</td>\n    </tr>\n    <tr>\n      <th>7</th>\n      <td>7</td>\n      <td>manu_gavassi</td>\n      <td>11741</td>\n      <td>12131</td>\n      <td>10756</td>\n      <td>0.339061</td>\n      <td>0.350323</td>\n      <td>0.310616</td>\n      <td>0.364322</td>\n      <td>0.336216</td>\n      <td>0.264607</td>\n      <td>13372</td>\n      <td>15830</td>\n      <td>5426</td>\n      <td>1347551</td>\n      <td>161381</td>\n      <td>4327060</td>\n      <td>0.1018</td>\n      <td>0.191356</td>\n    </tr>\n  </tbody>\n</table>\n</div>"
     },
     "metadata": {},
     "execution_count": 45
    }
   ],
   "source": [
    "test_df.sort_values(by=\"predicao\", ascending=False)"
   ]
  },
  {
   "cell_type": "markdown",
   "metadata": {},
   "source": [
    "# Paredao 8"
   ]
  },
  {
   "cell_type": "code",
   "execution_count": 46,
   "metadata": {},
   "outputs": [
    {
     "output_type": "execute_result",
     "data": {
      "text/plain": "   paredao   nome positivos neutros negativos  positivos_individual_pct  \\\n14       8   babu     20043   24848     39041                  0.238800   \n15       8   rafa     11365   16307     33927                  0.184500   \n16       8  pyong     23320   37894     49091                  0.211414   \n\n    neutros_individual_pct  negativos_individual_pct  positivos_global_pct  \\\n14                0.296049                  0.465150              0.366229   \n15                0.264728                  0.550772              0.207663   \n16                0.343538                  0.445048              0.426107   \n\n    neutros_global_pct  negativos_global_pct   day1   day2   day3    likes  \\\n14            0.314337              0.319854  29102  36583  18247  2746925   \n15            0.206290              0.277956  27062  22837  11700   833006   \n16            0.479374              0.402191  42474  46841  20990  1884395   \n\n   retweets seguidores  rejeicao  \n14   442326     325345    0.4771  \n15    65329     293473    0.0059  \n16   331018    1431039    0.5170  ",
      "text/html": "<div>\n<style scoped>\n    .dataframe tbody tr th:only-of-type {\n        vertical-align: middle;\n    }\n\n    .dataframe tbody tr th {\n        vertical-align: top;\n    }\n\n    .dataframe thead th {\n        text-align: right;\n    }\n</style>\n<table border=\"1\" class=\"dataframe\">\n  <thead>\n    <tr style=\"text-align: right;\">\n      <th></th>\n      <th>paredao</th>\n      <th>nome</th>\n      <th>positivos</th>\n      <th>neutros</th>\n      <th>negativos</th>\n      <th>positivos_individual_pct</th>\n      <th>neutros_individual_pct</th>\n      <th>negativos_individual_pct</th>\n      <th>positivos_global_pct</th>\n      <th>neutros_global_pct</th>\n      <th>negativos_global_pct</th>\n      <th>day1</th>\n      <th>day2</th>\n      <th>day3</th>\n      <th>likes</th>\n      <th>retweets</th>\n      <th>seguidores</th>\n      <th>rejeicao</th>\n    </tr>\n  </thead>\n  <tbody>\n    <tr>\n      <th>14</th>\n      <td>8</td>\n      <td>babu</td>\n      <td>20043</td>\n      <td>24848</td>\n      <td>39041</td>\n      <td>0.238800</td>\n      <td>0.296049</td>\n      <td>0.465150</td>\n      <td>0.366229</td>\n      <td>0.314337</td>\n      <td>0.319854</td>\n      <td>29102</td>\n      <td>36583</td>\n      <td>18247</td>\n      <td>2746925</td>\n      <td>442326</td>\n      <td>325345</td>\n      <td>0.4771</td>\n    </tr>\n    <tr>\n      <th>15</th>\n      <td>8</td>\n      <td>rafa</td>\n      <td>11365</td>\n      <td>16307</td>\n      <td>33927</td>\n      <td>0.184500</td>\n      <td>0.264728</td>\n      <td>0.550772</td>\n      <td>0.207663</td>\n      <td>0.206290</td>\n      <td>0.277956</td>\n      <td>27062</td>\n      <td>22837</td>\n      <td>11700</td>\n      <td>833006</td>\n      <td>65329</td>\n      <td>293473</td>\n      <td>0.0059</td>\n    </tr>\n    <tr>\n      <th>16</th>\n      <td>8</td>\n      <td>pyong</td>\n      <td>23320</td>\n      <td>37894</td>\n      <td>49091</td>\n      <td>0.211414</td>\n      <td>0.343538</td>\n      <td>0.445048</td>\n      <td>0.426107</td>\n      <td>0.479374</td>\n      <td>0.402191</td>\n      <td>42474</td>\n      <td>46841</td>\n      <td>20990</td>\n      <td>1884395</td>\n      <td>331018</td>\n      <td>1431039</td>\n      <td>0.5170</td>\n    </tr>\n  </tbody>\n</table>\n</div>"
     },
     "metadata": {},
     "execution_count": 46
    }
   ],
   "source": [
    "train_df, test_df = get_train_test(8, normalize=NORMALIZE)\n",
    "test_df\n",
    ""
   ]
  },
  {
   "cell_type": "code",
   "execution_count": 47,
   "metadata": {},
   "outputs": [],
   "source": [
    "x_train, y_train = train_df.drop(columns=[\"paredao\", \"nome\", \"rejeicao\"], axis=1).to_numpy(), train_df.drop(columns=train_df.columns[:-1], axis=1).to_numpy()\n",
    "x_test, y_test = test_df.drop(columns=[\"paredao\", \"nome\", \"rejeicao\"], axis=1).to_numpy(), test_df.drop(columns=train_df.columns[:-1], axis=1).to_numpy()"
   ]
  },
  {
   "cell_type": "code",
   "execution_count": 48,
   "metadata": {},
   "outputs": [],
   "source": [
    "regressor = RandomForestRegressor(n_estimators=ESTIMATORS)"
   ]
  },
  {
   "cell_type": "code",
   "execution_count": 49,
   "metadata": {},
   "outputs": [],
   "source": [
    "_ = regressor.fit(x_train, y_train)\n",
    "prediction = regressor.predict(x_test)\n",
    "test_df[\"predicao\"] = prediction\n",
    "summary_df = summary_df.append(test_df, ignore_index=True, sort=False)\n",
    "\n",
    ""
   ]
  },
  {
   "cell_type": "code",
   "execution_count": 50,
   "metadata": {},
   "outputs": [
    {
     "output_type": "execute_result",
     "data": {
      "text/plain": "   paredao   nome positivos neutros negativos  positivos_individual_pct  \\\n16       8  pyong     23320   37894     49091                  0.211414   \n15       8   rafa     11365   16307     33927                  0.184500   \n14       8   babu     20043   24848     39041                  0.238800   \n\n    neutros_individual_pct  negativos_individual_pct  positivos_global_pct  \\\n16                0.343538                  0.445048              0.426107   \n15                0.264728                  0.550772              0.207663   \n14                0.296049                  0.465150              0.366229   \n\n    neutros_global_pct  negativos_global_pct   day1   day2   day3    likes  \\\n16            0.479374              0.402191  42474  46841  20990  1884395   \n15            0.206290              0.277956  27062  22837  11700   833006   \n14            0.314337              0.319854  29102  36583  18247  2746925   \n\n   retweets seguidores  rejeicao  predicao  \n16   331018    1431039    0.5170  0.429750  \n15    65329     293473    0.0059  0.207001  \n14   442326     325345    0.4771  0.150577  ",
      "text/html": "<div>\n<style scoped>\n    .dataframe tbody tr th:only-of-type {\n        vertical-align: middle;\n    }\n\n    .dataframe tbody tr th {\n        vertical-align: top;\n    }\n\n    .dataframe thead th {\n        text-align: right;\n    }\n</style>\n<table border=\"1\" class=\"dataframe\">\n  <thead>\n    <tr style=\"text-align: right;\">\n      <th></th>\n      <th>paredao</th>\n      <th>nome</th>\n      <th>positivos</th>\n      <th>neutros</th>\n      <th>negativos</th>\n      <th>positivos_individual_pct</th>\n      <th>neutros_individual_pct</th>\n      <th>negativos_individual_pct</th>\n      <th>positivos_global_pct</th>\n      <th>neutros_global_pct</th>\n      <th>negativos_global_pct</th>\n      <th>day1</th>\n      <th>day2</th>\n      <th>day3</th>\n      <th>likes</th>\n      <th>retweets</th>\n      <th>seguidores</th>\n      <th>rejeicao</th>\n      <th>predicao</th>\n    </tr>\n  </thead>\n  <tbody>\n    <tr>\n      <th>16</th>\n      <td>8</td>\n      <td>pyong</td>\n      <td>23320</td>\n      <td>37894</td>\n      <td>49091</td>\n      <td>0.211414</td>\n      <td>0.343538</td>\n      <td>0.445048</td>\n      <td>0.426107</td>\n      <td>0.479374</td>\n      <td>0.402191</td>\n      <td>42474</td>\n      <td>46841</td>\n      <td>20990</td>\n      <td>1884395</td>\n      <td>331018</td>\n      <td>1431039</td>\n      <td>0.5170</td>\n      <td>0.429750</td>\n    </tr>\n    <tr>\n      <th>15</th>\n      <td>8</td>\n      <td>rafa</td>\n      <td>11365</td>\n      <td>16307</td>\n      <td>33927</td>\n      <td>0.184500</td>\n      <td>0.264728</td>\n      <td>0.550772</td>\n      <td>0.207663</td>\n      <td>0.206290</td>\n      <td>0.277956</td>\n      <td>27062</td>\n      <td>22837</td>\n      <td>11700</td>\n      <td>833006</td>\n      <td>65329</td>\n      <td>293473</td>\n      <td>0.0059</td>\n      <td>0.207001</td>\n    </tr>\n    <tr>\n      <th>14</th>\n      <td>8</td>\n      <td>babu</td>\n      <td>20043</td>\n      <td>24848</td>\n      <td>39041</td>\n      <td>0.238800</td>\n      <td>0.296049</td>\n      <td>0.465150</td>\n      <td>0.366229</td>\n      <td>0.314337</td>\n      <td>0.319854</td>\n      <td>29102</td>\n      <td>36583</td>\n      <td>18247</td>\n      <td>2746925</td>\n      <td>442326</td>\n      <td>325345</td>\n      <td>0.4771</td>\n      <td>0.150577</td>\n    </tr>\n  </tbody>\n</table>\n</div>"
     },
     "metadata": {},
     "execution_count": 50
    }
   ],
   "source": [
    "test_df.sort_values(by=\"predicao\", ascending=False)"
   ]
  },
  {
   "cell_type": "markdown",
   "metadata": {},
   "source": [
    "# Paredão 9"
   ]
  },
  {
   "cell_type": "code",
   "execution_count": 51,
   "metadata": {},
   "outputs": [
    {
     "output_type": "execute_result",
     "data": {
      "text/plain": "   paredao       nome positivos neutros negativos  positivos_individual_pct  \\\n11       9     daniel     17050   28476     35449                  0.210559   \n12       9  flayslene     18049   20419     29529                  0.265438   \n13       9        ivy     12919   19342     24191                  0.228849   \n\n    neutros_individual_pct  negativos_individual_pct  positivos_global_pct  \\\n11                0.351664                  0.437777              0.355075   \n12                0.300293                  0.434269              0.375880   \n13                0.342627                  0.428523              0.269045   \n\n    neutros_global_pct  negativos_global_pct   day1   day2   day3    likes  \\\n11            0.417310              0.397548  43662  24967  12346  2362234   \n12            0.299236              0.331158  14010  41155  12832  2048527   \n13            0.283453              0.271294  34835  16734   4883  1801001   \n\n   retweets seguidores  rejeicao  \n11   451548      33876    0.8082  \n12   340506     104138    0.0954  \n13   319531      59125    0.0964  ",
      "text/html": "<div>\n<style scoped>\n    .dataframe tbody tr th:only-of-type {\n        vertical-align: middle;\n    }\n\n    .dataframe tbody tr th {\n        vertical-align: top;\n    }\n\n    .dataframe thead th {\n        text-align: right;\n    }\n</style>\n<table border=\"1\" class=\"dataframe\">\n  <thead>\n    <tr style=\"text-align: right;\">\n      <th></th>\n      <th>paredao</th>\n      <th>nome</th>\n      <th>positivos</th>\n      <th>neutros</th>\n      <th>negativos</th>\n      <th>positivos_individual_pct</th>\n      <th>neutros_individual_pct</th>\n      <th>negativos_individual_pct</th>\n      <th>positivos_global_pct</th>\n      <th>neutros_global_pct</th>\n      <th>negativos_global_pct</th>\n      <th>day1</th>\n      <th>day2</th>\n      <th>day3</th>\n      <th>likes</th>\n      <th>retweets</th>\n      <th>seguidores</th>\n      <th>rejeicao</th>\n    </tr>\n  </thead>\n  <tbody>\n    <tr>\n      <th>11</th>\n      <td>9</td>\n      <td>daniel</td>\n      <td>17050</td>\n      <td>28476</td>\n      <td>35449</td>\n      <td>0.210559</td>\n      <td>0.351664</td>\n      <td>0.437777</td>\n      <td>0.355075</td>\n      <td>0.417310</td>\n      <td>0.397548</td>\n      <td>43662</td>\n      <td>24967</td>\n      <td>12346</td>\n      <td>2362234</td>\n      <td>451548</td>\n      <td>33876</td>\n      <td>0.8082</td>\n    </tr>\n    <tr>\n      <th>12</th>\n      <td>9</td>\n      <td>flayslene</td>\n      <td>18049</td>\n      <td>20419</td>\n      <td>29529</td>\n      <td>0.265438</td>\n      <td>0.300293</td>\n      <td>0.434269</td>\n      <td>0.375880</td>\n      <td>0.299236</td>\n      <td>0.331158</td>\n      <td>14010</td>\n      <td>41155</td>\n      <td>12832</td>\n      <td>2048527</td>\n      <td>340506</td>\n      <td>104138</td>\n      <td>0.0954</td>\n    </tr>\n    <tr>\n      <th>13</th>\n      <td>9</td>\n      <td>ivy</td>\n      <td>12919</td>\n      <td>19342</td>\n      <td>24191</td>\n      <td>0.228849</td>\n      <td>0.342627</td>\n      <td>0.428523</td>\n      <td>0.269045</td>\n      <td>0.283453</td>\n      <td>0.271294</td>\n      <td>34835</td>\n      <td>16734</td>\n      <td>4883</td>\n      <td>1801001</td>\n      <td>319531</td>\n      <td>59125</td>\n      <td>0.0964</td>\n    </tr>\n  </tbody>\n</table>\n</div>"
     },
     "metadata": {},
     "execution_count": 51
    }
   ],
   "source": [
    "train_df, test_df = get_train_test(9, normalize=NORMALIZE)\n",
    "test_df"
   ]
  },
  {
   "cell_type": "code",
   "execution_count": 52,
   "metadata": {},
   "outputs": [],
   "source": [
    "x_train, y_train = train_df.drop(columns=[\"paredao\", \"nome\", \"rejeicao\"], axis=1).to_numpy(), train_df.drop(columns=train_df.columns[:-1], axis=1).to_numpy()\n",
    "x_test, y_test = test_df.drop(columns=[\"paredao\", \"nome\", \"rejeicao\"], axis=1).to_numpy(), test_df.drop(columns=train_df.columns[:-1], axis=1).to_numpy()"
   ]
  },
  {
   "cell_type": "code",
   "execution_count": 53,
   "metadata": {},
   "outputs": [],
   "source": [
    "regressor = RandomForestRegressor(n_estimators=ESTIMATORS)"
   ]
  },
  {
   "cell_type": "code",
   "execution_count": 54,
   "metadata": {},
   "outputs": [],
   "source": [
    "_ = regressor.fit(x_train, y_train)\n",
    "prediction = regressor.predict(x_test)\n",
    "test_df[\"predicao\"] = prediction\n",
    "summary_df = summary_df.append(test_df, ignore_index=True, sort=False)\n",
    "\n",
    ""
   ]
  },
  {
   "cell_type": "code",
   "execution_count": 55,
   "metadata": {},
   "outputs": [
    {
     "output_type": "execute_result",
     "data": {
      "text/plain": "   paredao       nome positivos neutros negativos  positivos_individual_pct  \\\n11       9     daniel     17050   28476     35449                  0.210559   \n13       9        ivy     12919   19342     24191                  0.228849   \n12       9  flayslene     18049   20419     29529                  0.265438   \n\n    neutros_individual_pct  negativos_individual_pct  positivos_global_pct  \\\n11                0.351664                  0.437777              0.355075   \n13                0.342627                  0.428523              0.269045   \n12                0.300293                  0.434269              0.375880   \n\n    neutros_global_pct  negativos_global_pct   day1   day2   day3    likes  \\\n11            0.417310              0.397548  43662  24967  12346  2362234   \n13            0.283453              0.271294  34835  16734   4883  1801001   \n12            0.299236              0.331158  14010  41155  12832  2048527   \n\n   retweets seguidores  rejeicao  predicao  \n11   451548      33876    0.8082  0.582660  \n13   319531      59125    0.0964  0.492184  \n12   340506     104138    0.0954  0.312038  ",
      "text/html": "<div>\n<style scoped>\n    .dataframe tbody tr th:only-of-type {\n        vertical-align: middle;\n    }\n\n    .dataframe tbody tr th {\n        vertical-align: top;\n    }\n\n    .dataframe thead th {\n        text-align: right;\n    }\n</style>\n<table border=\"1\" class=\"dataframe\">\n  <thead>\n    <tr style=\"text-align: right;\">\n      <th></th>\n      <th>paredao</th>\n      <th>nome</th>\n      <th>positivos</th>\n      <th>neutros</th>\n      <th>negativos</th>\n      <th>positivos_individual_pct</th>\n      <th>neutros_individual_pct</th>\n      <th>negativos_individual_pct</th>\n      <th>positivos_global_pct</th>\n      <th>neutros_global_pct</th>\n      <th>negativos_global_pct</th>\n      <th>day1</th>\n      <th>day2</th>\n      <th>day3</th>\n      <th>likes</th>\n      <th>retweets</th>\n      <th>seguidores</th>\n      <th>rejeicao</th>\n      <th>predicao</th>\n    </tr>\n  </thead>\n  <tbody>\n    <tr>\n      <th>11</th>\n      <td>9</td>\n      <td>daniel</td>\n      <td>17050</td>\n      <td>28476</td>\n      <td>35449</td>\n      <td>0.210559</td>\n      <td>0.351664</td>\n      <td>0.437777</td>\n      <td>0.355075</td>\n      <td>0.417310</td>\n      <td>0.397548</td>\n      <td>43662</td>\n      <td>24967</td>\n      <td>12346</td>\n      <td>2362234</td>\n      <td>451548</td>\n      <td>33876</td>\n      <td>0.8082</td>\n      <td>0.582660</td>\n    </tr>\n    <tr>\n      <th>13</th>\n      <td>9</td>\n      <td>ivy</td>\n      <td>12919</td>\n      <td>19342</td>\n      <td>24191</td>\n      <td>0.228849</td>\n      <td>0.342627</td>\n      <td>0.428523</td>\n      <td>0.269045</td>\n      <td>0.283453</td>\n      <td>0.271294</td>\n      <td>34835</td>\n      <td>16734</td>\n      <td>4883</td>\n      <td>1801001</td>\n      <td>319531</td>\n      <td>59125</td>\n      <td>0.0964</td>\n      <td>0.492184</td>\n    </tr>\n    <tr>\n      <th>12</th>\n      <td>9</td>\n      <td>flayslene</td>\n      <td>18049</td>\n      <td>20419</td>\n      <td>29529</td>\n      <td>0.265438</td>\n      <td>0.300293</td>\n      <td>0.434269</td>\n      <td>0.375880</td>\n      <td>0.299236</td>\n      <td>0.331158</td>\n      <td>14010</td>\n      <td>41155</td>\n      <td>12832</td>\n      <td>2048527</td>\n      <td>340506</td>\n      <td>104138</td>\n      <td>0.0954</td>\n      <td>0.312038</td>\n    </tr>\n  </tbody>\n</table>\n</div>"
     },
     "metadata": {},
     "execution_count": 55
    }
   ],
   "source": [
    "test_df.sort_values(by=\"predicao\", ascending=False)"
   ]
  },
  {
   "cell_type": "markdown",
   "metadata": {},
   "source": [
    "# Sumarizando"
   ]
  },
  {
   "cell_type": "code",
   "execution_count": 56,
   "metadata": {},
   "outputs": [
    {
     "output_type": "execute_result",
     "data": {
      "text/plain": "   paredao             nome positivos neutros negativos  \\\n0        1   bianca_andrade      5102    5230      3762   \n1        1     lucas_chumbo      5460   10796     14411   \n2        2             babu      3819    5049      3822   \n3        2           petrix     17850   41331     62584   \n4        2            pyong     19947   15248     12907   \n5        2           hadson     14732   30837     54056   \n6        3     felipe_prior      2824    3707      3514   \n7        3           hadson      2344    4928      3987   \n8        4             babu      6766   10814     18799   \n9        4      victor_hugo      2807    4560      4979   \n10       4            lucas     12173   17964     31523   \n11       5   bianca_andrade      4239    8067      6802   \n12       5        flayslene      2304    4170      6222   \n13       5     felipe_prior      4887    9452     19076   \n14       6  gizelly_bicalho     20697   18318     14428   \n15       6        guilherme     15623   26030     61087   \n16       6            pyong     24067   31118     59615   \n17       7             babu     14706   13814     17650   \n18       7     manu_gavassi     11741   12131     10756   \n19       7      victor_hugo      5780   10136     12243   \n20       8             babu     20043   24848     39041   \n21       8             rafa     11365   16307     33927   \n22       8            pyong     23320   37894     49091   \n23       9           daniel     17050   28476     35449   \n24       9        flayslene     18049   20419     29529   \n25       9              ivy     12919   19342     24191   \n\n    positivos_individual_pct  neutros_individual_pct  \\\n0                   0.361998                0.371080   \n1                   0.178042                0.352040   \n2                   0.300946                0.397872   \n3                   0.146594                0.339433   \n4                   0.414681                0.316993   \n5                   0.147875                0.309531   \n6                   0.281135                0.369039   \n7                   0.208189                0.437694   \n8                   0.185986                0.297259   \n9                   0.227361                0.369350   \n10                  0.197421                0.291340   \n11                  0.221844                0.422179   \n12                  0.181474                0.328450   \n13                  0.146252                0.282867   \n14                  0.387272                0.342758   \n15                  0.152063                0.253358   \n16                  0.209643                0.271063   \n17                  0.318519                0.299199   \n18                  0.339061                0.350323   \n19                  0.205263                0.359956   \n20                  0.238800                0.296049   \n21                  0.184500                0.264728   \n22                  0.211414                0.343538   \n23                  0.210559                0.351664   \n24                  0.265438                0.300293   \n25                  0.228849                0.342627   \n\n    negativos_individual_pct  positivos_global_pct  neutros_global_pct  \\\n0                   0.266922              0.483052            0.326345   \n1                   0.469919              0.516948            0.673655   \n2                   0.301182              0.067775            0.054604   \n3                   0.513974              0.316781            0.446991   \n4                   0.268326              0.353997            0.164906   \n5                   0.542595              0.261447            0.333499   \n6                   0.349826              0.546440            0.429299   \n7                   0.354117              0.453560            0.570701   \n8                   0.516754              0.311138            0.324375   \n9                   0.403289              0.129081            0.136781   \n10                  0.511239              0.559781            0.538845   \n11                  0.355977              0.370866            0.371940   \n12                  0.490076              0.201575            0.192263   \n13                  0.570881              0.427559            0.435797   \n14                  0.269970              0.342739            0.242732   \n15                  0.594579              0.258715            0.344924   \n16                  0.519294              0.398546            0.412345   \n17                  0.382283              0.456325            0.382861   \n18                  0.310616              0.364322            0.336216   \n19                  0.434781              0.179353            0.280923   \n20                  0.465150              0.366229            0.314337   \n21                  0.550772              0.207663            0.206290   \n22                  0.445048              0.426107            0.479374   \n23                  0.437777              0.355075            0.417310   \n24                  0.434269              0.375880            0.299236   \n25                  0.428523              0.269045            0.283453   \n\n    negativos_global_pct   day1   day2   day3    likes retweets seguidores  \\\n0               0.207010   5849   5903   2342   407879    57730     411880   \n1               0.792990  22759   5502   2406   667691   132858      12014   \n2               0.028657   5606   6016   1068   313738    57539     325345   \n3               0.469254  46679  64815  10271  3036821   776919      22414   \n4               0.096777  12527  28745   6830  1889184   357422    1431039   \n5               0.405312  25263  68537   5825  2416937   583604      10207   \n6               0.468471   1138   6469   2438   434766    81439     204031   \n7               0.531529   1903   6534   2822   224448    41345      10207   \n8               0.339940  18271  15505   2603   614605    87114     325345   \n9               0.090035   6845   4229   1272   259802    43392      14399   \n10              0.570026  32223  22154   7283  1337004   250861      23670   \n11              0.211900   1998  10238   6872   136880    18673     411880   \n12              0.193832   1935   7920   2841   244036    42579     104138   \n13              0.594268   3101  21636   8678   703621   137701     204031   \n14              0.106771  20904  23543   8996  2513041   427327     234977   \n15              0.452061  49438  35276  18026  2623616   513321     103421   \n16              0.441168  38968  53242  22590  2790406   500118    1431039   \n17              0.434205  19044  20262   6864  3245989   421069     325345   \n18              0.264607  13372  15830   5426  1347551   161381    4327060   \n19              0.301188  14217   9331   4611  1370088   192649      14399   \n20              0.319854  29102  36583  18247  2746925   442326     325345   \n21              0.277956  27062  22837  11700   833006    65329     293473   \n22              0.402191  42474  46841  20990  1884395   331018    1431039   \n23              0.397548  43662  24967  12346  2362234   451548      33876   \n24              0.331158  14010  41155  12832  2048527   340506     104138   \n25              0.271294  34835  16734   4883  1801001   319531      59125   \n\n    rejeicao  predicao  \n0     0.2446  0.135040  \n1     0.7594  0.629647  \n2     0.0044  0.230511  \n3     0.8027  0.669166  \n4     0.0066  0.108481  \n5     0.1863  0.587348  \n6     0.2029  0.315982  \n7     0.7971  0.599859  \n8     0.0130  0.236297  \n9     0.3608  0.482009  \n10    0.6262  0.628548  \n11    0.5309  0.179944  \n12    0.1764  0.216710  \n13    0.2927  0.303581  \n14    0.0064  0.142099  \n15    0.5607  0.306421  \n16    0.4329  0.412992  \n17    0.0460  0.371953  \n18    0.1018  0.191356  \n19    0.8522  0.202384  \n20    0.4771  0.150577  \n21    0.0059  0.207001  \n22    0.5170  0.429750  \n23    0.8082  0.582660  \n24    0.0954  0.312038  \n25    0.0964  0.492184  ",
      "text/html": "<div>\n<style scoped>\n    .dataframe tbody tr th:only-of-type {\n        vertical-align: middle;\n    }\n\n    .dataframe tbody tr th {\n        vertical-align: top;\n    }\n\n    .dataframe thead th {\n        text-align: right;\n    }\n</style>\n<table border=\"1\" class=\"dataframe\">\n  <thead>\n    <tr style=\"text-align: right;\">\n      <th></th>\n      <th>paredao</th>\n      <th>nome</th>\n      <th>positivos</th>\n      <th>neutros</th>\n      <th>negativos</th>\n      <th>positivos_individual_pct</th>\n      <th>neutros_individual_pct</th>\n      <th>negativos_individual_pct</th>\n      <th>positivos_global_pct</th>\n      <th>neutros_global_pct</th>\n      <th>negativos_global_pct</th>\n      <th>day1</th>\n      <th>day2</th>\n      <th>day3</th>\n      <th>likes</th>\n      <th>retweets</th>\n      <th>seguidores</th>\n      <th>rejeicao</th>\n      <th>predicao</th>\n    </tr>\n  </thead>\n  <tbody>\n    <tr>\n      <th>0</th>\n      <td>1</td>\n      <td>bianca_andrade</td>\n      <td>5102</td>\n      <td>5230</td>\n      <td>3762</td>\n      <td>0.361998</td>\n      <td>0.371080</td>\n      <td>0.266922</td>\n      <td>0.483052</td>\n      <td>0.326345</td>\n      <td>0.207010</td>\n      <td>5849</td>\n      <td>5903</td>\n      <td>2342</td>\n      <td>407879</td>\n      <td>57730</td>\n      <td>411880</td>\n      <td>0.2446</td>\n      <td>0.135040</td>\n    </tr>\n    <tr>\n      <th>1</th>\n      <td>1</td>\n      <td>lucas_chumbo</td>\n      <td>5460</td>\n      <td>10796</td>\n      <td>14411</td>\n      <td>0.178042</td>\n      <td>0.352040</td>\n      <td>0.469919</td>\n      <td>0.516948</td>\n      <td>0.673655</td>\n      <td>0.792990</td>\n      <td>22759</td>\n      <td>5502</td>\n      <td>2406</td>\n      <td>667691</td>\n      <td>132858</td>\n      <td>12014</td>\n      <td>0.7594</td>\n      <td>0.629647</td>\n    </tr>\n    <tr>\n      <th>2</th>\n      <td>2</td>\n      <td>babu</td>\n      <td>3819</td>\n      <td>5049</td>\n      <td>3822</td>\n      <td>0.300946</td>\n      <td>0.397872</td>\n      <td>0.301182</td>\n      <td>0.067775</td>\n      <td>0.054604</td>\n      <td>0.028657</td>\n      <td>5606</td>\n      <td>6016</td>\n      <td>1068</td>\n      <td>313738</td>\n      <td>57539</td>\n      <td>325345</td>\n      <td>0.0044</td>\n      <td>0.230511</td>\n    </tr>\n    <tr>\n      <th>3</th>\n      <td>2</td>\n      <td>petrix</td>\n      <td>17850</td>\n      <td>41331</td>\n      <td>62584</td>\n      <td>0.146594</td>\n      <td>0.339433</td>\n      <td>0.513974</td>\n      <td>0.316781</td>\n      <td>0.446991</td>\n      <td>0.469254</td>\n      <td>46679</td>\n      <td>64815</td>\n      <td>10271</td>\n      <td>3036821</td>\n      <td>776919</td>\n      <td>22414</td>\n      <td>0.8027</td>\n      <td>0.669166</td>\n    </tr>\n    <tr>\n      <th>4</th>\n      <td>2</td>\n      <td>pyong</td>\n      <td>19947</td>\n      <td>15248</td>\n      <td>12907</td>\n      <td>0.414681</td>\n      <td>0.316993</td>\n      <td>0.268326</td>\n      <td>0.353997</td>\n      <td>0.164906</td>\n      <td>0.096777</td>\n      <td>12527</td>\n      <td>28745</td>\n      <td>6830</td>\n      <td>1889184</td>\n      <td>357422</td>\n      <td>1431039</td>\n      <td>0.0066</td>\n      <td>0.108481</td>\n    </tr>\n    <tr>\n      <th>5</th>\n      <td>2</td>\n      <td>hadson</td>\n      <td>14732</td>\n      <td>30837</td>\n      <td>54056</td>\n      <td>0.147875</td>\n      <td>0.309531</td>\n      <td>0.542595</td>\n      <td>0.261447</td>\n      <td>0.333499</td>\n      <td>0.405312</td>\n      <td>25263</td>\n      <td>68537</td>\n      <td>5825</td>\n      <td>2416937</td>\n      <td>583604</td>\n      <td>10207</td>\n      <td>0.1863</td>\n      <td>0.587348</td>\n    </tr>\n    <tr>\n      <th>6</th>\n      <td>3</td>\n      <td>felipe_prior</td>\n      <td>2824</td>\n      <td>3707</td>\n      <td>3514</td>\n      <td>0.281135</td>\n      <td>0.369039</td>\n      <td>0.349826</td>\n      <td>0.546440</td>\n      <td>0.429299</td>\n      <td>0.468471</td>\n      <td>1138</td>\n      <td>6469</td>\n      <td>2438</td>\n      <td>434766</td>\n      <td>81439</td>\n      <td>204031</td>\n      <td>0.2029</td>\n      <td>0.315982</td>\n    </tr>\n    <tr>\n      <th>7</th>\n      <td>3</td>\n      <td>hadson</td>\n      <td>2344</td>\n      <td>4928</td>\n      <td>3987</td>\n      <td>0.208189</td>\n      <td>0.437694</td>\n      <td>0.354117</td>\n      <td>0.453560</td>\n      <td>0.570701</td>\n      <td>0.531529</td>\n      <td>1903</td>\n      <td>6534</td>\n      <td>2822</td>\n      <td>224448</td>\n      <td>41345</td>\n      <td>10207</td>\n      <td>0.7971</td>\n      <td>0.599859</td>\n    </tr>\n    <tr>\n      <th>8</th>\n      <td>4</td>\n      <td>babu</td>\n      <td>6766</td>\n      <td>10814</td>\n      <td>18799</td>\n      <td>0.185986</td>\n      <td>0.297259</td>\n      <td>0.516754</td>\n      <td>0.311138</td>\n      <td>0.324375</td>\n      <td>0.339940</td>\n      <td>18271</td>\n      <td>15505</td>\n      <td>2603</td>\n      <td>614605</td>\n      <td>87114</td>\n      <td>325345</td>\n      <td>0.0130</td>\n      <td>0.236297</td>\n    </tr>\n    <tr>\n      <th>9</th>\n      <td>4</td>\n      <td>victor_hugo</td>\n      <td>2807</td>\n      <td>4560</td>\n      <td>4979</td>\n      <td>0.227361</td>\n      <td>0.369350</td>\n      <td>0.403289</td>\n      <td>0.129081</td>\n      <td>0.136781</td>\n      <td>0.090035</td>\n      <td>6845</td>\n      <td>4229</td>\n      <td>1272</td>\n      <td>259802</td>\n      <td>43392</td>\n      <td>14399</td>\n      <td>0.3608</td>\n      <td>0.482009</td>\n    </tr>\n    <tr>\n      <th>10</th>\n      <td>4</td>\n      <td>lucas</td>\n      <td>12173</td>\n      <td>17964</td>\n      <td>31523</td>\n      <td>0.197421</td>\n      <td>0.291340</td>\n      <td>0.511239</td>\n      <td>0.559781</td>\n      <td>0.538845</td>\n      <td>0.570026</td>\n      <td>32223</td>\n      <td>22154</td>\n      <td>7283</td>\n      <td>1337004</td>\n      <td>250861</td>\n      <td>23670</td>\n      <td>0.6262</td>\n      <td>0.628548</td>\n    </tr>\n    <tr>\n      <th>11</th>\n      <td>5</td>\n      <td>bianca_andrade</td>\n      <td>4239</td>\n      <td>8067</td>\n      <td>6802</td>\n      <td>0.221844</td>\n      <td>0.422179</td>\n      <td>0.355977</td>\n      <td>0.370866</td>\n      <td>0.371940</td>\n      <td>0.211900</td>\n      <td>1998</td>\n      <td>10238</td>\n      <td>6872</td>\n      <td>136880</td>\n      <td>18673</td>\n      <td>411880</td>\n      <td>0.5309</td>\n      <td>0.179944</td>\n    </tr>\n    <tr>\n      <th>12</th>\n      <td>5</td>\n      <td>flayslene</td>\n      <td>2304</td>\n      <td>4170</td>\n      <td>6222</td>\n      <td>0.181474</td>\n      <td>0.328450</td>\n      <td>0.490076</td>\n      <td>0.201575</td>\n      <td>0.192263</td>\n      <td>0.193832</td>\n      <td>1935</td>\n      <td>7920</td>\n      <td>2841</td>\n      <td>244036</td>\n      <td>42579</td>\n      <td>104138</td>\n      <td>0.1764</td>\n      <td>0.216710</td>\n    </tr>\n    <tr>\n      <th>13</th>\n      <td>5</td>\n      <td>felipe_prior</td>\n      <td>4887</td>\n      <td>9452</td>\n      <td>19076</td>\n      <td>0.146252</td>\n      <td>0.282867</td>\n      <td>0.570881</td>\n      <td>0.427559</td>\n      <td>0.435797</td>\n      <td>0.594268</td>\n      <td>3101</td>\n      <td>21636</td>\n      <td>8678</td>\n      <td>703621</td>\n      <td>137701</td>\n      <td>204031</td>\n      <td>0.2927</td>\n      <td>0.303581</td>\n    </tr>\n    <tr>\n      <th>14</th>\n      <td>6</td>\n      <td>gizelly_bicalho</td>\n      <td>20697</td>\n      <td>18318</td>\n      <td>14428</td>\n      <td>0.387272</td>\n      <td>0.342758</td>\n      <td>0.269970</td>\n      <td>0.342739</td>\n      <td>0.242732</td>\n      <td>0.106771</td>\n      <td>20904</td>\n      <td>23543</td>\n      <td>8996</td>\n      <td>2513041</td>\n      <td>427327</td>\n      <td>234977</td>\n      <td>0.0064</td>\n      <td>0.142099</td>\n    </tr>\n    <tr>\n      <th>15</th>\n      <td>6</td>\n      <td>guilherme</td>\n      <td>15623</td>\n      <td>26030</td>\n      <td>61087</td>\n      <td>0.152063</td>\n      <td>0.253358</td>\n      <td>0.594579</td>\n      <td>0.258715</td>\n      <td>0.344924</td>\n      <td>0.452061</td>\n      <td>49438</td>\n      <td>35276</td>\n      <td>18026</td>\n      <td>2623616</td>\n      <td>513321</td>\n      <td>103421</td>\n      <td>0.5607</td>\n      <td>0.306421</td>\n    </tr>\n    <tr>\n      <th>16</th>\n      <td>6</td>\n      <td>pyong</td>\n      <td>24067</td>\n      <td>31118</td>\n      <td>59615</td>\n      <td>0.209643</td>\n      <td>0.271063</td>\n      <td>0.519294</td>\n      <td>0.398546</td>\n      <td>0.412345</td>\n      <td>0.441168</td>\n      <td>38968</td>\n      <td>53242</td>\n      <td>22590</td>\n      <td>2790406</td>\n      <td>500118</td>\n      <td>1431039</td>\n      <td>0.4329</td>\n      <td>0.412992</td>\n    </tr>\n    <tr>\n      <th>17</th>\n      <td>7</td>\n      <td>babu</td>\n      <td>14706</td>\n      <td>13814</td>\n      <td>17650</td>\n      <td>0.318519</td>\n      <td>0.299199</td>\n      <td>0.382283</td>\n      <td>0.456325</td>\n      <td>0.382861</td>\n      <td>0.434205</td>\n      <td>19044</td>\n      <td>20262</td>\n      <td>6864</td>\n      <td>3245989</td>\n      <td>421069</td>\n      <td>325345</td>\n      <td>0.0460</td>\n      <td>0.371953</td>\n    </tr>\n    <tr>\n      <th>18</th>\n      <td>7</td>\n      <td>manu_gavassi</td>\n      <td>11741</td>\n      <td>12131</td>\n      <td>10756</td>\n      <td>0.339061</td>\n      <td>0.350323</td>\n      <td>0.310616</td>\n      <td>0.364322</td>\n      <td>0.336216</td>\n      <td>0.264607</td>\n      <td>13372</td>\n      <td>15830</td>\n      <td>5426</td>\n      <td>1347551</td>\n      <td>161381</td>\n      <td>4327060</td>\n      <td>0.1018</td>\n      <td>0.191356</td>\n    </tr>\n    <tr>\n      <th>19</th>\n      <td>7</td>\n      <td>victor_hugo</td>\n      <td>5780</td>\n      <td>10136</td>\n      <td>12243</td>\n      <td>0.205263</td>\n      <td>0.359956</td>\n      <td>0.434781</td>\n      <td>0.179353</td>\n      <td>0.280923</td>\n      <td>0.301188</td>\n      <td>14217</td>\n      <td>9331</td>\n      <td>4611</td>\n      <td>1370088</td>\n      <td>192649</td>\n      <td>14399</td>\n      <td>0.8522</td>\n      <td>0.202384</td>\n    </tr>\n    <tr>\n      <th>20</th>\n      <td>8</td>\n      <td>babu</td>\n      <td>20043</td>\n      <td>24848</td>\n      <td>39041</td>\n      <td>0.238800</td>\n      <td>0.296049</td>\n      <td>0.465150</td>\n      <td>0.366229</td>\n      <td>0.314337</td>\n      <td>0.319854</td>\n      <td>29102</td>\n      <td>36583</td>\n      <td>18247</td>\n      <td>2746925</td>\n      <td>442326</td>\n      <td>325345</td>\n      <td>0.4771</td>\n      <td>0.150577</td>\n    </tr>\n    <tr>\n      <th>21</th>\n      <td>8</td>\n      <td>rafa</td>\n      <td>11365</td>\n      <td>16307</td>\n      <td>33927</td>\n      <td>0.184500</td>\n      <td>0.264728</td>\n      <td>0.550772</td>\n      <td>0.207663</td>\n      <td>0.206290</td>\n      <td>0.277956</td>\n      <td>27062</td>\n      <td>22837</td>\n      <td>11700</td>\n      <td>833006</td>\n      <td>65329</td>\n      <td>293473</td>\n      <td>0.0059</td>\n      <td>0.207001</td>\n    </tr>\n    <tr>\n      <th>22</th>\n      <td>8</td>\n      <td>pyong</td>\n      <td>23320</td>\n      <td>37894</td>\n      <td>49091</td>\n      <td>0.211414</td>\n      <td>0.343538</td>\n      <td>0.445048</td>\n      <td>0.426107</td>\n      <td>0.479374</td>\n      <td>0.402191</td>\n      <td>42474</td>\n      <td>46841</td>\n      <td>20990</td>\n      <td>1884395</td>\n      <td>331018</td>\n      <td>1431039</td>\n      <td>0.5170</td>\n      <td>0.429750</td>\n    </tr>\n    <tr>\n      <th>23</th>\n      <td>9</td>\n      <td>daniel</td>\n      <td>17050</td>\n      <td>28476</td>\n      <td>35449</td>\n      <td>0.210559</td>\n      <td>0.351664</td>\n      <td>0.437777</td>\n      <td>0.355075</td>\n      <td>0.417310</td>\n      <td>0.397548</td>\n      <td>43662</td>\n      <td>24967</td>\n      <td>12346</td>\n      <td>2362234</td>\n      <td>451548</td>\n      <td>33876</td>\n      <td>0.8082</td>\n      <td>0.582660</td>\n    </tr>\n    <tr>\n      <th>24</th>\n      <td>9</td>\n      <td>flayslene</td>\n      <td>18049</td>\n      <td>20419</td>\n      <td>29529</td>\n      <td>0.265438</td>\n      <td>0.300293</td>\n      <td>0.434269</td>\n      <td>0.375880</td>\n      <td>0.299236</td>\n      <td>0.331158</td>\n      <td>14010</td>\n      <td>41155</td>\n      <td>12832</td>\n      <td>2048527</td>\n      <td>340506</td>\n      <td>104138</td>\n      <td>0.0954</td>\n      <td>0.312038</td>\n    </tr>\n    <tr>\n      <th>25</th>\n      <td>9</td>\n      <td>ivy</td>\n      <td>12919</td>\n      <td>19342</td>\n      <td>24191</td>\n      <td>0.228849</td>\n      <td>0.342627</td>\n      <td>0.428523</td>\n      <td>0.269045</td>\n      <td>0.283453</td>\n      <td>0.271294</td>\n      <td>34835</td>\n      <td>16734</td>\n      <td>4883</td>\n      <td>1801001</td>\n      <td>319531</td>\n      <td>59125</td>\n      <td>0.0964</td>\n      <td>0.492184</td>\n    </tr>\n  </tbody>\n</table>\n</div>"
     },
     "metadata": {},
     "execution_count": 56
    }
   ],
   "source": [
    "summary_df"
   ]
  },
  {
   "cell_type": "code",
   "execution_count": null,
   "metadata": {},
   "outputs": [],
   "source": []
  }
 ]
}