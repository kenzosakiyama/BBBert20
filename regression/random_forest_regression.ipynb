{
 "nbformat": 4,
 "nbformat_minor": 2,
 "metadata": {
  "language_info": {
   "name": "python",
   "codemirror_mode": {
    "name": "ipython",
    "version": 3
   },
   "version": "3.6.9-final"
  },
  "orig_nbformat": 2,
  "file_extension": ".py",
  "mimetype": "text/x-python",
  "name": "python",
  "npconvert_exporter": "python",
  "pygments_lexer": "ipython3",
  "version": 3,
  "kernelspec": {
   "name": "python36964bitbertvirtualenv054cbb15ab924922a35a349b12e89805",
   "display_name": "Python 3.6.9 64-bit ('bert': virtualenv)"
  }
 },
 "cells": [
  {
   "cell_type": "markdown",
   "metadata": {},
   "source": [
    "# Experimentos baseados em regressão utiliando Árvores de Decisão"
   ]
  },
  {
   "cell_type": "markdown",
   "metadata": {},
   "source": [
    "- Utilizando cada paredão como teste e avaliando com holdout."
   ]
  },
  {
   "cell_type": "code",
   "execution_count": 1,
   "metadata": {},
   "outputs": [],
   "source": [
    "import pandas as pd \n",
    "import numpy as np \n",
    "from regression_utils import *\n",
    "from sklearn.ensemble import RandomForestRegressor"
   ]
  },
  {
   "cell_type": "code",
   "execution_count": 2,
   "metadata": {},
   "outputs": [],
   "source": [
    "REMOVE = [\"positivos\", \"neutros\", \"negativos\", \"likes\", \"retweets\", \"day2\", \"day3\"]"
   ]
  },
  {
   "cell_type": "code",
   "execution_count": 3,
   "metadata": {},
   "outputs": [],
   "source": [
    "NORMALIZE = False\n",
    "ESTIMATORS = 1000"
   ]
  },
  {
   "cell_type": "code",
   "execution_count": 4,
   "metadata": {},
   "outputs": [],
   "source": [
    "summary_df = pd.DataFrame(columns=set(COLUMNS) - set(REMOVE))"
   ]
  },
  {
   "cell_type": "markdown",
   "metadata": {},
   "source": [
    "# Paredao 1"
   ]
  },
  {
   "cell_type": "code",
   "execution_count": 5,
   "metadata": {},
   "outputs": [],
   "source": [
    "train_df, test_df = get_train_test(1, normalize=NORMALIZE, drop_columns=REMOVE)"
   ]
  },
  {
   "cell_type": "code",
   "execution_count": 6,
   "metadata": {},
   "outputs": [
    {
     "output_type": "execute_result",
     "data": {
      "text/plain": "   paredao            nome  positivos_individual_pct  neutros_individual_pct  \\\n24       1  bianca_andrade                  0.361998                 0.37108   \n25       1    lucas_chumbo                  0.178042                 0.35204   \n\n    negativos_individual_pct  positivos_global_pct  neutros_global_pct  \\\n24                  0.266922              0.483052            0.326345   \n25                  0.469919              0.516948            0.673655   \n\n    negativos_global_pct   day1  seguidores  fica  fora  rejeicao  \n24               0.20701   5849      411880   576    59    0.2446  \n25               0.79299  22759       12014    64  1425    0.7594  ",
      "text/html": "<div>\n<style scoped>\n    .dataframe tbody tr th:only-of-type {\n        vertical-align: middle;\n    }\n\n    .dataframe tbody tr th {\n        vertical-align: top;\n    }\n\n    .dataframe thead th {\n        text-align: right;\n    }\n</style>\n<table border=\"1\" class=\"dataframe\">\n  <thead>\n    <tr style=\"text-align: right;\">\n      <th></th>\n      <th>paredao</th>\n      <th>nome</th>\n      <th>positivos_individual_pct</th>\n      <th>neutros_individual_pct</th>\n      <th>negativos_individual_pct</th>\n      <th>positivos_global_pct</th>\n      <th>neutros_global_pct</th>\n      <th>negativos_global_pct</th>\n      <th>day1</th>\n      <th>seguidores</th>\n      <th>fica</th>\n      <th>fora</th>\n      <th>rejeicao</th>\n    </tr>\n  </thead>\n  <tbody>\n    <tr>\n      <th>24</th>\n      <td>1</td>\n      <td>bianca_andrade</td>\n      <td>0.361998</td>\n      <td>0.37108</td>\n      <td>0.266922</td>\n      <td>0.483052</td>\n      <td>0.326345</td>\n      <td>0.20701</td>\n      <td>5849</td>\n      <td>411880</td>\n      <td>576</td>\n      <td>59</td>\n      <td>0.2446</td>\n    </tr>\n    <tr>\n      <th>25</th>\n      <td>1</td>\n      <td>lucas_chumbo</td>\n      <td>0.178042</td>\n      <td>0.35204</td>\n      <td>0.469919</td>\n      <td>0.516948</td>\n      <td>0.673655</td>\n      <td>0.79299</td>\n      <td>22759</td>\n      <td>12014</td>\n      <td>64</td>\n      <td>1425</td>\n      <td>0.7594</td>\n    </tr>\n  </tbody>\n</table>\n</div>"
     },
     "metadata": {},
     "execution_count": 6
    }
   ],
   "source": [
    "test_df"
   ]
  },
  {
   "cell_type": "code",
   "execution_count": 7,
   "metadata": {},
   "outputs": [],
   "source": [
    "x_train, y_train = train_df.drop(columns=[\"paredao\", \"nome\", \"rejeicao\"], axis=1).to_numpy(), train_df.drop(columns=train_df.columns[:-1], axis=1).to_numpy()\n",
    "x_test, y_test = test_df.drop(columns=[\"paredao\", \"nome\", \"rejeicao\"], axis=1).to_numpy(), test_df.drop(columns=train_df.columns[:-1], axis=1).to_numpy()"
   ]
  },
  {
   "cell_type": "code",
   "execution_count": 8,
   "metadata": {},
   "outputs": [],
   "source": [
    "regressor = RandomForestRegressor(n_estimators=ESTIMATORS)"
   ]
  },
  {
   "cell_type": "code",
   "execution_count": 9,
   "metadata": {},
   "outputs": [],
   "source": [
    "_ = regressor.fit(x_train, y_train)"
   ]
  },
  {
   "cell_type": "code",
   "execution_count": 10,
   "metadata": {},
   "outputs": [],
   "source": [
    "prediction = regressor.predict(x_test)\n",
    "test_df[\"predicao\"] = prediction\n",
    "summary_df = summary_df.append(test_df, ignore_index=True, sort=False)"
   ]
  },
  {
   "cell_type": "code",
   "execution_count": 11,
   "metadata": {},
   "outputs": [
    {
     "output_type": "execute_result",
     "data": {
      "text/plain": "   paredao            nome  positivos_individual_pct  neutros_individual_pct  \\\n25       1    lucas_chumbo                  0.178042                 0.35204   \n24       1  bianca_andrade                  0.361998                 0.37108   \n\n    negativos_individual_pct  positivos_global_pct  neutros_global_pct  \\\n25                  0.469919              0.516948            0.673655   \n24                  0.266922              0.483052            0.326345   \n\n    negativos_global_pct   day1  seguidores  fica  fora  rejeicao  predicao  \n25               0.79299  22759       12014    64  1425    0.7594  0.590554  \n24               0.20701   5849      411880   576    59    0.2446  0.122329  ",
      "text/html": "<div>\n<style scoped>\n    .dataframe tbody tr th:only-of-type {\n        vertical-align: middle;\n    }\n\n    .dataframe tbody tr th {\n        vertical-align: top;\n    }\n\n    .dataframe thead th {\n        text-align: right;\n    }\n</style>\n<table border=\"1\" class=\"dataframe\">\n  <thead>\n    <tr style=\"text-align: right;\">\n      <th></th>\n      <th>paredao</th>\n      <th>nome</th>\n      <th>positivos_individual_pct</th>\n      <th>neutros_individual_pct</th>\n      <th>negativos_individual_pct</th>\n      <th>positivos_global_pct</th>\n      <th>neutros_global_pct</th>\n      <th>negativos_global_pct</th>\n      <th>day1</th>\n      <th>seguidores</th>\n      <th>fica</th>\n      <th>fora</th>\n      <th>rejeicao</th>\n      <th>predicao</th>\n    </tr>\n  </thead>\n  <tbody>\n    <tr>\n      <th>25</th>\n      <td>1</td>\n      <td>lucas_chumbo</td>\n      <td>0.178042</td>\n      <td>0.35204</td>\n      <td>0.469919</td>\n      <td>0.516948</td>\n      <td>0.673655</td>\n      <td>0.79299</td>\n      <td>22759</td>\n      <td>12014</td>\n      <td>64</td>\n      <td>1425</td>\n      <td>0.7594</td>\n      <td>0.590554</td>\n    </tr>\n    <tr>\n      <th>24</th>\n      <td>1</td>\n      <td>bianca_andrade</td>\n      <td>0.361998</td>\n      <td>0.37108</td>\n      <td>0.266922</td>\n      <td>0.483052</td>\n      <td>0.326345</td>\n      <td>0.20701</td>\n      <td>5849</td>\n      <td>411880</td>\n      <td>576</td>\n      <td>59</td>\n      <td>0.2446</td>\n      <td>0.122329</td>\n    </tr>\n  </tbody>\n</table>\n</div>"
     },
     "metadata": {},
     "execution_count": 11
    }
   ],
   "source": [
    "test_df.sort_values(by=\"predicao\", ascending=False)"
   ]
  },
  {
   "cell_type": "markdown",
   "metadata": {},
   "source": [
    "# Paredao 2"
   ]
  },
  {
   "cell_type": "code",
   "execution_count": 12,
   "metadata": {},
   "outputs": [
    {
     "output_type": "execute_result",
     "data": {
      "text/plain": "   paredao    nome  positivos_individual_pct  neutros_individual_pct  \\\n20       2    babu                  0.300946                0.397872   \n21       2  petrix                  0.146594                0.339433   \n22       2   pyong                  0.414681                0.316993   \n23       2  hadson                  0.147875                0.309531   \n\n    negativos_individual_pct  positivos_global_pct  neutros_global_pct  \\\n20                  0.301182              0.067775            0.054604   \n21                  0.513974              0.316781            0.446991   \n22                  0.268326              0.353997            0.164906   \n23                  0.542595              0.261447            0.333499   \n\n    negativos_global_pct   day1  seguidores  fica   fora  rejeicao  \n20              0.028657   5606      325345    39    141    0.0044  \n21              0.469254  46679       22414    62  10253    0.8027  \n22              0.096777  12527     1431039   293    112    0.0066  \n23              0.405312  25263       10207    24   4289    0.1863  ",
      "text/html": "<div>\n<style scoped>\n    .dataframe tbody tr th:only-of-type {\n        vertical-align: middle;\n    }\n\n    .dataframe tbody tr th {\n        vertical-align: top;\n    }\n\n    .dataframe thead th {\n        text-align: right;\n    }\n</style>\n<table border=\"1\" class=\"dataframe\">\n  <thead>\n    <tr style=\"text-align: right;\">\n      <th></th>\n      <th>paredao</th>\n      <th>nome</th>\n      <th>positivos_individual_pct</th>\n      <th>neutros_individual_pct</th>\n      <th>negativos_individual_pct</th>\n      <th>positivos_global_pct</th>\n      <th>neutros_global_pct</th>\n      <th>negativos_global_pct</th>\n      <th>day1</th>\n      <th>seguidores</th>\n      <th>fica</th>\n      <th>fora</th>\n      <th>rejeicao</th>\n    </tr>\n  </thead>\n  <tbody>\n    <tr>\n      <th>20</th>\n      <td>2</td>\n      <td>babu</td>\n      <td>0.300946</td>\n      <td>0.397872</td>\n      <td>0.301182</td>\n      <td>0.067775</td>\n      <td>0.054604</td>\n      <td>0.028657</td>\n      <td>5606</td>\n      <td>325345</td>\n      <td>39</td>\n      <td>141</td>\n      <td>0.0044</td>\n    </tr>\n    <tr>\n      <th>21</th>\n      <td>2</td>\n      <td>petrix</td>\n      <td>0.146594</td>\n      <td>0.339433</td>\n      <td>0.513974</td>\n      <td>0.316781</td>\n      <td>0.446991</td>\n      <td>0.469254</td>\n      <td>46679</td>\n      <td>22414</td>\n      <td>62</td>\n      <td>10253</td>\n      <td>0.8027</td>\n    </tr>\n    <tr>\n      <th>22</th>\n      <td>2</td>\n      <td>pyong</td>\n      <td>0.414681</td>\n      <td>0.316993</td>\n      <td>0.268326</td>\n      <td>0.353997</td>\n      <td>0.164906</td>\n      <td>0.096777</td>\n      <td>12527</td>\n      <td>1431039</td>\n      <td>293</td>\n      <td>112</td>\n      <td>0.0066</td>\n    </tr>\n    <tr>\n      <th>23</th>\n      <td>2</td>\n      <td>hadson</td>\n      <td>0.147875</td>\n      <td>0.309531</td>\n      <td>0.542595</td>\n      <td>0.261447</td>\n      <td>0.333499</td>\n      <td>0.405312</td>\n      <td>25263</td>\n      <td>10207</td>\n      <td>24</td>\n      <td>4289</td>\n      <td>0.1863</td>\n    </tr>\n  </tbody>\n</table>\n</div>"
     },
     "metadata": {},
     "execution_count": 12
    }
   ],
   "source": [
    "train_df, test_df = get_train_test(2, normalize=NORMALIZE, drop_columns=REMOVE)\n",
    "test_df\n",
    ""
   ]
  },
  {
   "cell_type": "code",
   "execution_count": 13,
   "metadata": {},
   "outputs": [],
   "source": [
    "x_train, y_train = train_df.drop(columns=[\"paredao\", \"nome\", \"rejeicao\"], axis=1).to_numpy(), train_df.drop(columns=train_df.columns[:-1], axis=1).to_numpy()\n",
    "x_test, y_test = test_df.drop(columns=[\"paredao\", \"nome\", \"rejeicao\"], axis=1).to_numpy(), test_df.drop(columns=train_df.columns[:-1], axis=1).to_numpy()"
   ]
  },
  {
   "cell_type": "code",
   "execution_count": 14,
   "metadata": {},
   "outputs": [],
   "source": [
    "regressor = RandomForestRegressor(n_estimators=ESTIMATORS)"
   ]
  },
  {
   "cell_type": "code",
   "execution_count": 15,
   "metadata": {},
   "outputs": [],
   "source": [
    "_ = regressor.fit(x_train, y_train)\n",
    ""
   ]
  },
  {
   "cell_type": "code",
   "execution_count": 16,
   "metadata": {},
   "outputs": [],
   "source": [
    "prediction = regressor.predict(x_test)\n",
    "test_df[\"predicao\"] = prediction\n",
    "summary_df = summary_df.append(test_df, ignore_index=True, sort=False)\n",
    "\n",
    ""
   ]
  },
  {
   "cell_type": "code",
   "execution_count": 17,
   "metadata": {},
   "outputs": [
    {
     "output_type": "execute_result",
     "data": {
      "text/plain": "   paredao    nome  positivos_individual_pct  neutros_individual_pct  \\\n21       2  petrix                  0.146594                0.339433   \n23       2  hadson                  0.147875                0.309531   \n20       2    babu                  0.300946                0.397872   \n22       2   pyong                  0.414681                0.316993   \n\n    negativos_individual_pct  positivos_global_pct  neutros_global_pct  \\\n21                  0.513974              0.316781            0.446991   \n23                  0.542595              0.261447            0.333499   \n20                  0.301182              0.067775            0.054604   \n22                  0.268326              0.353997            0.164906   \n\n    negativos_global_pct   day1  seguidores  fica   fora  rejeicao  predicao  \n21              0.469254  46679       22414    62  10253    0.8027  0.696678  \n23              0.405312  25263       10207    24   4289    0.1863  0.629419  \n20              0.028657   5606      325345    39    141    0.0044  0.282481  \n22              0.096777  12527     1431039   293    112    0.0066  0.094189  ",
      "text/html": "<div>\n<style scoped>\n    .dataframe tbody tr th:only-of-type {\n        vertical-align: middle;\n    }\n\n    .dataframe tbody tr th {\n        vertical-align: top;\n    }\n\n    .dataframe thead th {\n        text-align: right;\n    }\n</style>\n<table border=\"1\" class=\"dataframe\">\n  <thead>\n    <tr style=\"text-align: right;\">\n      <th></th>\n      <th>paredao</th>\n      <th>nome</th>\n      <th>positivos_individual_pct</th>\n      <th>neutros_individual_pct</th>\n      <th>negativos_individual_pct</th>\n      <th>positivos_global_pct</th>\n      <th>neutros_global_pct</th>\n      <th>negativos_global_pct</th>\n      <th>day1</th>\n      <th>seguidores</th>\n      <th>fica</th>\n      <th>fora</th>\n      <th>rejeicao</th>\n      <th>predicao</th>\n    </tr>\n  </thead>\n  <tbody>\n    <tr>\n      <th>21</th>\n      <td>2</td>\n      <td>petrix</td>\n      <td>0.146594</td>\n      <td>0.339433</td>\n      <td>0.513974</td>\n      <td>0.316781</td>\n      <td>0.446991</td>\n      <td>0.469254</td>\n      <td>46679</td>\n      <td>22414</td>\n      <td>62</td>\n      <td>10253</td>\n      <td>0.8027</td>\n      <td>0.696678</td>\n    </tr>\n    <tr>\n      <th>23</th>\n      <td>2</td>\n      <td>hadson</td>\n      <td>0.147875</td>\n      <td>0.309531</td>\n      <td>0.542595</td>\n      <td>0.261447</td>\n      <td>0.333499</td>\n      <td>0.405312</td>\n      <td>25263</td>\n      <td>10207</td>\n      <td>24</td>\n      <td>4289</td>\n      <td>0.1863</td>\n      <td>0.629419</td>\n    </tr>\n    <tr>\n      <th>20</th>\n      <td>2</td>\n      <td>babu</td>\n      <td>0.300946</td>\n      <td>0.397872</td>\n      <td>0.301182</td>\n      <td>0.067775</td>\n      <td>0.054604</td>\n      <td>0.028657</td>\n      <td>5606</td>\n      <td>325345</td>\n      <td>39</td>\n      <td>141</td>\n      <td>0.0044</td>\n      <td>0.282481</td>\n    </tr>\n    <tr>\n      <th>22</th>\n      <td>2</td>\n      <td>pyong</td>\n      <td>0.414681</td>\n      <td>0.316993</td>\n      <td>0.268326</td>\n      <td>0.353997</td>\n      <td>0.164906</td>\n      <td>0.096777</td>\n      <td>12527</td>\n      <td>1431039</td>\n      <td>293</td>\n      <td>112</td>\n      <td>0.0066</td>\n      <td>0.094189</td>\n    </tr>\n  </tbody>\n</table>\n</div>"
     },
     "metadata": {},
     "execution_count": 17
    }
   ],
   "source": [
    "test_df.sort_values(by=\"predicao\", ascending=False)"
   ]
  },
  {
   "cell_type": "markdown",
   "metadata": {},
   "source": [
    "# Paredao 3"
   ]
  },
  {
   "cell_type": "code",
   "execution_count": 18,
   "metadata": {},
   "outputs": [
    {
     "output_type": "execute_result",
     "data": {
      "text/plain": "   paredao          nome  positivos_individual_pct  neutros_individual_pct  \\\n9        3  felipe_prior                  0.281135                0.369039   \n10       3        hadson                  0.208189                0.437694   \n\n    negativos_individual_pct  positivos_global_pct  neutros_global_pct  \\\n9                   0.349826               0.54644            0.429299   \n10                  0.354117               0.45356            0.570701   \n\n    negativos_global_pct  day1  seguidores  fica  fora  rejeicao  \n9               0.468471  1138      204031   116    76    0.2029  \n10              0.531529  1903       10207    32  1411    0.7971  ",
      "text/html": "<div>\n<style scoped>\n    .dataframe tbody tr th:only-of-type {\n        vertical-align: middle;\n    }\n\n    .dataframe tbody tr th {\n        vertical-align: top;\n    }\n\n    .dataframe thead th {\n        text-align: right;\n    }\n</style>\n<table border=\"1\" class=\"dataframe\">\n  <thead>\n    <tr style=\"text-align: right;\">\n      <th></th>\n      <th>paredao</th>\n      <th>nome</th>\n      <th>positivos_individual_pct</th>\n      <th>neutros_individual_pct</th>\n      <th>negativos_individual_pct</th>\n      <th>positivos_global_pct</th>\n      <th>neutros_global_pct</th>\n      <th>negativos_global_pct</th>\n      <th>day1</th>\n      <th>seguidores</th>\n      <th>fica</th>\n      <th>fora</th>\n      <th>rejeicao</th>\n    </tr>\n  </thead>\n  <tbody>\n    <tr>\n      <th>9</th>\n      <td>3</td>\n      <td>felipe_prior</td>\n      <td>0.281135</td>\n      <td>0.369039</td>\n      <td>0.349826</td>\n      <td>0.54644</td>\n      <td>0.429299</td>\n      <td>0.468471</td>\n      <td>1138</td>\n      <td>204031</td>\n      <td>116</td>\n      <td>76</td>\n      <td>0.2029</td>\n    </tr>\n    <tr>\n      <th>10</th>\n      <td>3</td>\n      <td>hadson</td>\n      <td>0.208189</td>\n      <td>0.437694</td>\n      <td>0.354117</td>\n      <td>0.45356</td>\n      <td>0.570701</td>\n      <td>0.531529</td>\n      <td>1903</td>\n      <td>10207</td>\n      <td>32</td>\n      <td>1411</td>\n      <td>0.7971</td>\n    </tr>\n  </tbody>\n</table>\n</div>"
     },
     "metadata": {},
     "execution_count": 18
    }
   ],
   "source": [
    "train_df, test_df = get_train_test(3, normalize=NORMALIZE,  drop_columns=REMOVE)\n",
    "test_df\n",
    ""
   ]
  },
  {
   "cell_type": "code",
   "execution_count": 19,
   "metadata": {},
   "outputs": [],
   "source": [
    "x_train, y_train = train_df.drop(columns=[\"paredao\", \"nome\", \"rejeicao\"], axis=1).to_numpy(), train_df.drop(columns=train_df.columns[:-1], axis=1).to_numpy()\n",
    "x_test, y_test = test_df.drop(columns=[\"paredao\", \"nome\", \"rejeicao\"], axis=1).to_numpy(), test_df.drop(columns=train_df.columns[:-1], axis=1).to_numpy()"
   ]
  },
  {
   "cell_type": "code",
   "execution_count": 20,
   "metadata": {},
   "outputs": [],
   "source": [
    "regressor = RandomForestRegressor(n_estimators=ESTIMATORS)"
   ]
  },
  {
   "cell_type": "code",
   "execution_count": 21,
   "metadata": {},
   "outputs": [],
   "source": [
    "_ = regressor.fit(x_train, y_train)"
   ]
  },
  {
   "cell_type": "code",
   "execution_count": 22,
   "metadata": {},
   "outputs": [],
   "source": [
    "prediction = regressor.predict(x_test)\n",
    "test_df[\"predicao\"] = prediction\n",
    "summary_df = summary_df.append(test_df, ignore_index=True, sort=False)"
   ]
  },
  {
   "cell_type": "code",
   "execution_count": 23,
   "metadata": {},
   "outputs": [
    {
     "output_type": "execute_result",
     "data": {
      "text/plain": "   paredao          nome  positivos_individual_pct  neutros_individual_pct  \\\n10       3        hadson                  0.208189                0.437694   \n9        3  felipe_prior                  0.281135                0.369039   \n\n    negativos_individual_pct  positivos_global_pct  neutros_global_pct  \\\n10                  0.354117               0.45356            0.570701   \n9                   0.349826               0.54644            0.429299   \n\n    negativos_global_pct  day1  seguidores  fica  fora  rejeicao  predicao  \n10              0.531529  1903       10207    32  1411    0.7971  0.575071  \n9               0.468471  1138      204031   116    76    0.2029  0.278449  ",
      "text/html": "<div>\n<style scoped>\n    .dataframe tbody tr th:only-of-type {\n        vertical-align: middle;\n    }\n\n    .dataframe tbody tr th {\n        vertical-align: top;\n    }\n\n    .dataframe thead th {\n        text-align: right;\n    }\n</style>\n<table border=\"1\" class=\"dataframe\">\n  <thead>\n    <tr style=\"text-align: right;\">\n      <th></th>\n      <th>paredao</th>\n      <th>nome</th>\n      <th>positivos_individual_pct</th>\n      <th>neutros_individual_pct</th>\n      <th>negativos_individual_pct</th>\n      <th>positivos_global_pct</th>\n      <th>neutros_global_pct</th>\n      <th>negativos_global_pct</th>\n      <th>day1</th>\n      <th>seguidores</th>\n      <th>fica</th>\n      <th>fora</th>\n      <th>rejeicao</th>\n      <th>predicao</th>\n    </tr>\n  </thead>\n  <tbody>\n    <tr>\n      <th>10</th>\n      <td>3</td>\n      <td>hadson</td>\n      <td>0.208189</td>\n      <td>0.437694</td>\n      <td>0.354117</td>\n      <td>0.45356</td>\n      <td>0.570701</td>\n      <td>0.531529</td>\n      <td>1903</td>\n      <td>10207</td>\n      <td>32</td>\n      <td>1411</td>\n      <td>0.7971</td>\n      <td>0.575071</td>\n    </tr>\n    <tr>\n      <th>9</th>\n      <td>3</td>\n      <td>felipe_prior</td>\n      <td>0.281135</td>\n      <td>0.369039</td>\n      <td>0.349826</td>\n      <td>0.54644</td>\n      <td>0.429299</td>\n      <td>0.468471</td>\n      <td>1138</td>\n      <td>204031</td>\n      <td>116</td>\n      <td>76</td>\n      <td>0.2029</td>\n      <td>0.278449</td>\n    </tr>\n  </tbody>\n</table>\n</div>"
     },
     "metadata": {},
     "execution_count": 23
    }
   ],
   "source": [
    "test_df.sort_values(by=\"predicao\", ascending=False)"
   ]
  },
  {
   "cell_type": "markdown",
   "metadata": {},
   "source": [
    "# Paredao 4"
   ]
  },
  {
   "cell_type": "code",
   "execution_count": 24,
   "metadata": {},
   "outputs": [
    {
     "output_type": "execute_result",
     "data": {
      "text/plain": "   paredao         nome  positivos_individual_pct  neutros_individual_pct  \\\n29       4         babu                  0.185986                0.297259   \n30       4  victor_hugo                  0.227361                0.369350   \n31       4        lucas                  0.197421                0.291340   \n\n    negativos_individual_pct  positivos_global_pct  neutros_global_pct  \\\n29                  0.516754              0.311138            0.324375   \n30                  0.403289              0.129081            0.136781   \n31                  0.511239              0.559781            0.538845   \n\n    negativos_global_pct   day1  seguidores  fica  fora  rejeicao  \n29              0.339940  18271      325345   136   315    0.0130  \n30              0.090035   6845       14399    51   570    0.3608  \n31              0.570026  32223       23670   218  5952    0.6262  ",
      "text/html": "<div>\n<style scoped>\n    .dataframe tbody tr th:only-of-type {\n        vertical-align: middle;\n    }\n\n    .dataframe tbody tr th {\n        vertical-align: top;\n    }\n\n    .dataframe thead th {\n        text-align: right;\n    }\n</style>\n<table border=\"1\" class=\"dataframe\">\n  <thead>\n    <tr style=\"text-align: right;\">\n      <th></th>\n      <th>paredao</th>\n      <th>nome</th>\n      <th>positivos_individual_pct</th>\n      <th>neutros_individual_pct</th>\n      <th>negativos_individual_pct</th>\n      <th>positivos_global_pct</th>\n      <th>neutros_global_pct</th>\n      <th>negativos_global_pct</th>\n      <th>day1</th>\n      <th>seguidores</th>\n      <th>fica</th>\n      <th>fora</th>\n      <th>rejeicao</th>\n    </tr>\n  </thead>\n  <tbody>\n    <tr>\n      <th>29</th>\n      <td>4</td>\n      <td>babu</td>\n      <td>0.185986</td>\n      <td>0.297259</td>\n      <td>0.516754</td>\n      <td>0.311138</td>\n      <td>0.324375</td>\n      <td>0.339940</td>\n      <td>18271</td>\n      <td>325345</td>\n      <td>136</td>\n      <td>315</td>\n      <td>0.0130</td>\n    </tr>\n    <tr>\n      <th>30</th>\n      <td>4</td>\n      <td>victor_hugo</td>\n      <td>0.227361</td>\n      <td>0.369350</td>\n      <td>0.403289</td>\n      <td>0.129081</td>\n      <td>0.136781</td>\n      <td>0.090035</td>\n      <td>6845</td>\n      <td>14399</td>\n      <td>51</td>\n      <td>570</td>\n      <td>0.3608</td>\n    </tr>\n    <tr>\n      <th>31</th>\n      <td>4</td>\n      <td>lucas</td>\n      <td>0.197421</td>\n      <td>0.291340</td>\n      <td>0.511239</td>\n      <td>0.559781</td>\n      <td>0.538845</td>\n      <td>0.570026</td>\n      <td>32223</td>\n      <td>23670</td>\n      <td>218</td>\n      <td>5952</td>\n      <td>0.6262</td>\n    </tr>\n  </tbody>\n</table>\n</div>"
     },
     "metadata": {},
     "execution_count": 24
    }
   ],
   "source": [
    "train_df, test_df = get_train_test(4, normalize=NORMALIZE,  drop_columns=REMOVE)\n",
    "test_df\n",
    ""
   ]
  },
  {
   "cell_type": "code",
   "execution_count": 25,
   "metadata": {},
   "outputs": [],
   "source": [
    "x_train, y_train = train_df.drop(columns=[\"paredao\", \"nome\", \"rejeicao\"], axis=1).to_numpy(), train_df.drop(columns=train_df.columns[:-1], axis=1).to_numpy()\n",
    "x_test, y_test = test_df.drop(columns=[\"paredao\", \"nome\", \"rejeicao\"], axis=1).to_numpy(), test_df.drop(columns=train_df.columns[:-1], axis=1).to_numpy()"
   ]
  },
  {
   "cell_type": "code",
   "execution_count": 26,
   "metadata": {},
   "outputs": [],
   "source": [
    "regressor = RandomForestRegressor(n_estimators=ESTIMATORS)"
   ]
  },
  {
   "cell_type": "code",
   "execution_count": 27,
   "metadata": {},
   "outputs": [],
   "source": [
    "_ = regressor.fit(x_train, y_train)\n",
    ""
   ]
  },
  {
   "cell_type": "code",
   "execution_count": 28,
   "metadata": {},
   "outputs": [],
   "source": [
    "prediction = regressor.predict(x_test)\n",
    "test_df[\"predicao\"] = prediction\n",
    "summary_df = summary_df.append(test_df, ignore_index=True, sort=False)"
   ]
  },
  {
   "cell_type": "code",
   "execution_count": 29,
   "metadata": {},
   "outputs": [
    {
     "output_type": "execute_result",
     "data": {
      "text/plain": "   paredao         nome  positivos_individual_pct  neutros_individual_pct  \\\n31       4        lucas                  0.197421                0.291340   \n30       4  victor_hugo                  0.227361                0.369350   \n29       4         babu                  0.185986                0.297259   \n\n    negativos_individual_pct  positivos_global_pct  neutros_global_pct  \\\n31                  0.511239              0.559781            0.538845   \n30                  0.403289              0.129081            0.136781   \n29                  0.516754              0.311138            0.324375   \n\n    negativos_global_pct   day1  seguidores  fica  fora  rejeicao  predicao  \n31              0.570026  32223       23670   218  5952    0.6262  0.579600  \n30              0.090035   6845       14399    51   570    0.3608  0.305945  \n29              0.339940  18271      325345   136   315    0.0130  0.157807  ",
      "text/html": "<div>\n<style scoped>\n    .dataframe tbody tr th:only-of-type {\n        vertical-align: middle;\n    }\n\n    .dataframe tbody tr th {\n        vertical-align: top;\n    }\n\n    .dataframe thead th {\n        text-align: right;\n    }\n</style>\n<table border=\"1\" class=\"dataframe\">\n  <thead>\n    <tr style=\"text-align: right;\">\n      <th></th>\n      <th>paredao</th>\n      <th>nome</th>\n      <th>positivos_individual_pct</th>\n      <th>neutros_individual_pct</th>\n      <th>negativos_individual_pct</th>\n      <th>positivos_global_pct</th>\n      <th>neutros_global_pct</th>\n      <th>negativos_global_pct</th>\n      <th>day1</th>\n      <th>seguidores</th>\n      <th>fica</th>\n      <th>fora</th>\n      <th>rejeicao</th>\n      <th>predicao</th>\n    </tr>\n  </thead>\n  <tbody>\n    <tr>\n      <th>31</th>\n      <td>4</td>\n      <td>lucas</td>\n      <td>0.197421</td>\n      <td>0.291340</td>\n      <td>0.511239</td>\n      <td>0.559781</td>\n      <td>0.538845</td>\n      <td>0.570026</td>\n      <td>32223</td>\n      <td>23670</td>\n      <td>218</td>\n      <td>5952</td>\n      <td>0.6262</td>\n      <td>0.579600</td>\n    </tr>\n    <tr>\n      <th>30</th>\n      <td>4</td>\n      <td>victor_hugo</td>\n      <td>0.227361</td>\n      <td>0.369350</td>\n      <td>0.403289</td>\n      <td>0.129081</td>\n      <td>0.136781</td>\n      <td>0.090035</td>\n      <td>6845</td>\n      <td>14399</td>\n      <td>51</td>\n      <td>570</td>\n      <td>0.3608</td>\n      <td>0.305945</td>\n    </tr>\n    <tr>\n      <th>29</th>\n      <td>4</td>\n      <td>babu</td>\n      <td>0.185986</td>\n      <td>0.297259</td>\n      <td>0.516754</td>\n      <td>0.311138</td>\n      <td>0.324375</td>\n      <td>0.339940</td>\n      <td>18271</td>\n      <td>325345</td>\n      <td>136</td>\n      <td>315</td>\n      <td>0.0130</td>\n      <td>0.157807</td>\n    </tr>\n  </tbody>\n</table>\n</div>"
     },
     "metadata": {},
     "execution_count": 29
    }
   ],
   "source": [
    "test_df.sort_values(by=\"predicao\", ascending=False)"
   ]
  },
  {
   "cell_type": "markdown",
   "metadata": {},
   "source": [
    "# Paredao 5"
   ]
  },
  {
   "cell_type": "code",
   "execution_count": 30,
   "metadata": {},
   "outputs": [
    {
     "output_type": "execute_result",
     "data": {
      "text/plain": "  paredao            nome  positivos_individual_pct  neutros_individual_pct  \\\n3       5  bianca_andrade                  0.221844                0.422179   \n4       5       flayslene                  0.181474                0.328450   \n5       5    felipe_prior                  0.146252                0.282867   \n\n   negativos_individual_pct  positivos_global_pct  neutros_global_pct  \\\n3                  0.355977              0.370866            0.371940   \n4                  0.490076              0.201575            0.192263   \n5                  0.570881              0.427559            0.435797   \n\n   negativos_global_pct  day1  seguidores  fica  fora  rejeicao  \n3              0.211900  1998      411880   608  1918    0.5309  \n4              0.193832  1935      104138   283  2872    0.1764  \n5              0.594268  3101      204031   798  7069    0.2927  ",
      "text/html": "<div>\n<style scoped>\n    .dataframe tbody tr th:only-of-type {\n        vertical-align: middle;\n    }\n\n    .dataframe tbody tr th {\n        vertical-align: top;\n    }\n\n    .dataframe thead th {\n        text-align: right;\n    }\n</style>\n<table border=\"1\" class=\"dataframe\">\n  <thead>\n    <tr style=\"text-align: right;\">\n      <th></th>\n      <th>paredao</th>\n      <th>nome</th>\n      <th>positivos_individual_pct</th>\n      <th>neutros_individual_pct</th>\n      <th>negativos_individual_pct</th>\n      <th>positivos_global_pct</th>\n      <th>neutros_global_pct</th>\n      <th>negativos_global_pct</th>\n      <th>day1</th>\n      <th>seguidores</th>\n      <th>fica</th>\n      <th>fora</th>\n      <th>rejeicao</th>\n    </tr>\n  </thead>\n  <tbody>\n    <tr>\n      <th>3</th>\n      <td>5</td>\n      <td>bianca_andrade</td>\n      <td>0.221844</td>\n      <td>0.422179</td>\n      <td>0.355977</td>\n      <td>0.370866</td>\n      <td>0.371940</td>\n      <td>0.211900</td>\n      <td>1998</td>\n      <td>411880</td>\n      <td>608</td>\n      <td>1918</td>\n      <td>0.5309</td>\n    </tr>\n    <tr>\n      <th>4</th>\n      <td>5</td>\n      <td>flayslene</td>\n      <td>0.181474</td>\n      <td>0.328450</td>\n      <td>0.490076</td>\n      <td>0.201575</td>\n      <td>0.192263</td>\n      <td>0.193832</td>\n      <td>1935</td>\n      <td>104138</td>\n      <td>283</td>\n      <td>2872</td>\n      <td>0.1764</td>\n    </tr>\n    <tr>\n      <th>5</th>\n      <td>5</td>\n      <td>felipe_prior</td>\n      <td>0.146252</td>\n      <td>0.282867</td>\n      <td>0.570881</td>\n      <td>0.427559</td>\n      <td>0.435797</td>\n      <td>0.594268</td>\n      <td>3101</td>\n      <td>204031</td>\n      <td>798</td>\n      <td>7069</td>\n      <td>0.2927</td>\n    </tr>\n  </tbody>\n</table>\n</div>"
     },
     "metadata": {},
     "execution_count": 30
    }
   ],
   "source": [
    "train_df, test_df = get_train_test(5, normalize=NORMALIZE,  drop_columns=REMOVE)\n",
    "test_df\n",
    ""
   ]
  },
  {
   "cell_type": "code",
   "execution_count": 31,
   "metadata": {},
   "outputs": [],
   "source": [
    "x_train, y_train = train_df.drop(columns=[\"paredao\", \"nome\", \"rejeicao\"], axis=1).to_numpy(), train_df.drop(columns=train_df.columns[:-1], axis=1).to_numpy()\n",
    "x_test, y_test = test_df.drop(columns=[\"paredao\", \"nome\", \"rejeicao\"], axis=1).to_numpy(), test_df.drop(columns=train_df.columns[:-1], axis=1).to_numpy()"
   ]
  },
  {
   "cell_type": "code",
   "execution_count": 32,
   "metadata": {},
   "outputs": [],
   "source": [
    "regressor = RandomForestRegressor(n_estimators=ESTIMATORS)"
   ]
  },
  {
   "cell_type": "code",
   "execution_count": 33,
   "metadata": {},
   "outputs": [],
   "source": [
    "_ = regressor.fit(x_train, y_train)\n",
    ""
   ]
  },
  {
   "cell_type": "code",
   "execution_count": 34,
   "metadata": {},
   "outputs": [],
   "source": [
    "prediction = regressor.predict(x_test)\n",
    "test_df[\"predicao\"] = prediction\n",
    "summary_df = summary_df.append(test_df, ignore_index=True, sort=False)"
   ]
  },
  {
   "cell_type": "code",
   "execution_count": 35,
   "metadata": {},
   "outputs": [
    {
     "output_type": "execute_result",
     "data": {
      "text/plain": "  paredao            nome  positivos_individual_pct  neutros_individual_pct  \\\n5       5    felipe_prior                  0.146252                0.282867   \n3       5  bianca_andrade                  0.221844                0.422179   \n4       5       flayslene                  0.181474                0.328450   \n\n   negativos_individual_pct  positivos_global_pct  neutros_global_pct  \\\n5                  0.570881              0.427559            0.435797   \n3                  0.355977              0.370866            0.371940   \n4                  0.490076              0.201575            0.192263   \n\n   negativos_global_pct  day1  seguidores  fica  fora  rejeicao  predicao  \n5              0.594268  3101      204031   798  7069    0.2927  0.494002  \n3              0.211900  1998      411880   608  1918    0.5309  0.301283  \n4              0.193832  1935      104138   283  2872    0.1764  0.278475  ",
      "text/html": "<div>\n<style scoped>\n    .dataframe tbody tr th:only-of-type {\n        vertical-align: middle;\n    }\n\n    .dataframe tbody tr th {\n        vertical-align: top;\n    }\n\n    .dataframe thead th {\n        text-align: right;\n    }\n</style>\n<table border=\"1\" class=\"dataframe\">\n  <thead>\n    <tr style=\"text-align: right;\">\n      <th></th>\n      <th>paredao</th>\n      <th>nome</th>\n      <th>positivos_individual_pct</th>\n      <th>neutros_individual_pct</th>\n      <th>negativos_individual_pct</th>\n      <th>positivos_global_pct</th>\n      <th>neutros_global_pct</th>\n      <th>negativos_global_pct</th>\n      <th>day1</th>\n      <th>seguidores</th>\n      <th>fica</th>\n      <th>fora</th>\n      <th>rejeicao</th>\n      <th>predicao</th>\n    </tr>\n  </thead>\n  <tbody>\n    <tr>\n      <th>5</th>\n      <td>5</td>\n      <td>felipe_prior</td>\n      <td>0.146252</td>\n      <td>0.282867</td>\n      <td>0.570881</td>\n      <td>0.427559</td>\n      <td>0.435797</td>\n      <td>0.594268</td>\n      <td>3101</td>\n      <td>204031</td>\n      <td>798</td>\n      <td>7069</td>\n      <td>0.2927</td>\n      <td>0.494002</td>\n    </tr>\n    <tr>\n      <th>3</th>\n      <td>5</td>\n      <td>bianca_andrade</td>\n      <td>0.221844</td>\n      <td>0.422179</td>\n      <td>0.355977</td>\n      <td>0.370866</td>\n      <td>0.371940</td>\n      <td>0.211900</td>\n      <td>1998</td>\n      <td>411880</td>\n      <td>608</td>\n      <td>1918</td>\n      <td>0.5309</td>\n      <td>0.301283</td>\n    </tr>\n    <tr>\n      <th>4</th>\n      <td>5</td>\n      <td>flayslene</td>\n      <td>0.181474</td>\n      <td>0.328450</td>\n      <td>0.490076</td>\n      <td>0.201575</td>\n      <td>0.192263</td>\n      <td>0.193832</td>\n      <td>1935</td>\n      <td>104138</td>\n      <td>283</td>\n      <td>2872</td>\n      <td>0.1764</td>\n      <td>0.278475</td>\n    </tr>\n  </tbody>\n</table>\n</div>"
     },
     "metadata": {},
     "execution_count": 35
    }
   ],
   "source": [
    "test_df.sort_values(by=\"predicao\", ascending=False)"
   ]
  },
  {
   "cell_type": "markdown",
   "metadata": {},
   "source": [
    "# Paredao 6"
   ]
  },
  {
   "cell_type": "code",
   "execution_count": 36,
   "metadata": {},
   "outputs": [
    {
     "output_type": "execute_result",
     "data": {
      "text/plain": "  paredao             nome  positivos_individual_pct  neutros_individual_pct  \\\n0       6  gizelly_bicalho                  0.387272                0.342758   \n1       6        guilherme                  0.152063                0.253358   \n2       6            pyong                  0.209643                0.271063   \n\n   negativos_individual_pct  positivos_global_pct  neutros_global_pct  \\\n0                  0.269970              0.342739            0.242732   \n1                  0.594579              0.258715            0.344924   \n2                  0.519294              0.398546            0.412345   \n\n   negativos_global_pct   day1  seguidores  fica   fora  rejeicao  \n0              0.106771  20904      234977  1348    427    0.0064  \n1              0.452061  49438      103421   244  27184    0.5607  \n2              0.441168  38968     1431039  1884  14897    0.4329  ",
      "text/html": "<div>\n<style scoped>\n    .dataframe tbody tr th:only-of-type {\n        vertical-align: middle;\n    }\n\n    .dataframe tbody tr th {\n        vertical-align: top;\n    }\n\n    .dataframe thead th {\n        text-align: right;\n    }\n</style>\n<table border=\"1\" class=\"dataframe\">\n  <thead>\n    <tr style=\"text-align: right;\">\n      <th></th>\n      <th>paredao</th>\n      <th>nome</th>\n      <th>positivos_individual_pct</th>\n      <th>neutros_individual_pct</th>\n      <th>negativos_individual_pct</th>\n      <th>positivos_global_pct</th>\n      <th>neutros_global_pct</th>\n      <th>negativos_global_pct</th>\n      <th>day1</th>\n      <th>seguidores</th>\n      <th>fica</th>\n      <th>fora</th>\n      <th>rejeicao</th>\n    </tr>\n  </thead>\n  <tbody>\n    <tr>\n      <th>0</th>\n      <td>6</td>\n      <td>gizelly_bicalho</td>\n      <td>0.387272</td>\n      <td>0.342758</td>\n      <td>0.269970</td>\n      <td>0.342739</td>\n      <td>0.242732</td>\n      <td>0.106771</td>\n      <td>20904</td>\n      <td>234977</td>\n      <td>1348</td>\n      <td>427</td>\n      <td>0.0064</td>\n    </tr>\n    <tr>\n      <th>1</th>\n      <td>6</td>\n      <td>guilherme</td>\n      <td>0.152063</td>\n      <td>0.253358</td>\n      <td>0.594579</td>\n      <td>0.258715</td>\n      <td>0.344924</td>\n      <td>0.452061</td>\n      <td>49438</td>\n      <td>103421</td>\n      <td>244</td>\n      <td>27184</td>\n      <td>0.5607</td>\n    </tr>\n    <tr>\n      <th>2</th>\n      <td>6</td>\n      <td>pyong</td>\n      <td>0.209643</td>\n      <td>0.271063</td>\n      <td>0.519294</td>\n      <td>0.398546</td>\n      <td>0.412345</td>\n      <td>0.441168</td>\n      <td>38968</td>\n      <td>1431039</td>\n      <td>1884</td>\n      <td>14897</td>\n      <td>0.4329</td>\n    </tr>\n  </tbody>\n</table>\n</div>"
     },
     "metadata": {},
     "execution_count": 36
    }
   ],
   "source": [
    "train_df, test_df = get_train_test(6, normalize=NORMALIZE,  drop_columns=REMOVE)\n",
    "test_df\n",
    ""
   ]
  },
  {
   "cell_type": "code",
   "execution_count": 37,
   "metadata": {},
   "outputs": [],
   "source": [
    "x_train, y_train = train_df.drop(columns=[\"paredao\", \"nome\", \"rejeicao\"], axis=1).to_numpy(), train_df.drop(columns=train_df.columns[:-1], axis=1).to_numpy()\n",
    "x_test, y_test = test_df.drop(columns=[\"paredao\", \"nome\", \"rejeicao\"], axis=1).to_numpy(), test_df.drop(columns=train_df.columns[:-1], axis=1).to_numpy()"
   ]
  },
  {
   "cell_type": "code",
   "execution_count": 38,
   "metadata": {},
   "outputs": [],
   "source": [
    "regressor = RandomForestRegressor(n_estimators=ESTIMATORS)"
   ]
  },
  {
   "cell_type": "code",
   "execution_count": 39,
   "metadata": {},
   "outputs": [],
   "source": [
    "_ = regressor.fit(x_train, y_train)\n",
    ""
   ]
  },
  {
   "cell_type": "code",
   "execution_count": 40,
   "metadata": {},
   "outputs": [],
   "source": [
    "prediction = regressor.predict(x_test)\n",
    "test_df[\"predicao\"] = prediction\n",
    "summary_df = summary_df.append(test_df, ignore_index=True, sort=False)"
   ]
  },
  {
   "cell_type": "code",
   "execution_count": 41,
   "metadata": {},
   "outputs": [
    {
     "output_type": "execute_result",
     "data": {
      "text/plain": "  paredao             nome  positivos_individual_pct  neutros_individual_pct  \\\n2       6            pyong                  0.209643                0.271063   \n1       6        guilherme                  0.152063                0.253358   \n0       6  gizelly_bicalho                  0.387272                0.342758   \n\n   negativos_individual_pct  positivos_global_pct  neutros_global_pct  \\\n2                  0.519294              0.398546            0.412345   \n1                  0.594579              0.258715            0.344924   \n0                  0.269970              0.342739            0.242732   \n\n   negativos_global_pct   day1  seguidores  fica   fora  rejeicao  predicao  \n2              0.441168  38968     1431039  1884  14897    0.4329  0.473442  \n1              0.452061  49438      103421   244  27184    0.5607  0.463802  \n0              0.106771  20904      234977  1348    427    0.0064  0.055757  ",
      "text/html": "<div>\n<style scoped>\n    .dataframe tbody tr th:only-of-type {\n        vertical-align: middle;\n    }\n\n    .dataframe tbody tr th {\n        vertical-align: top;\n    }\n\n    .dataframe thead th {\n        text-align: right;\n    }\n</style>\n<table border=\"1\" class=\"dataframe\">\n  <thead>\n    <tr style=\"text-align: right;\">\n      <th></th>\n      <th>paredao</th>\n      <th>nome</th>\n      <th>positivos_individual_pct</th>\n      <th>neutros_individual_pct</th>\n      <th>negativos_individual_pct</th>\n      <th>positivos_global_pct</th>\n      <th>neutros_global_pct</th>\n      <th>negativos_global_pct</th>\n      <th>day1</th>\n      <th>seguidores</th>\n      <th>fica</th>\n      <th>fora</th>\n      <th>rejeicao</th>\n      <th>predicao</th>\n    </tr>\n  </thead>\n  <tbody>\n    <tr>\n      <th>2</th>\n      <td>6</td>\n      <td>pyong</td>\n      <td>0.209643</td>\n      <td>0.271063</td>\n      <td>0.519294</td>\n      <td>0.398546</td>\n      <td>0.412345</td>\n      <td>0.441168</td>\n      <td>38968</td>\n      <td>1431039</td>\n      <td>1884</td>\n      <td>14897</td>\n      <td>0.4329</td>\n      <td>0.473442</td>\n    </tr>\n    <tr>\n      <th>1</th>\n      <td>6</td>\n      <td>guilherme</td>\n      <td>0.152063</td>\n      <td>0.253358</td>\n      <td>0.594579</td>\n      <td>0.258715</td>\n      <td>0.344924</td>\n      <td>0.452061</td>\n      <td>49438</td>\n      <td>103421</td>\n      <td>244</td>\n      <td>27184</td>\n      <td>0.5607</td>\n      <td>0.463802</td>\n    </tr>\n    <tr>\n      <th>0</th>\n      <td>6</td>\n      <td>gizelly_bicalho</td>\n      <td>0.387272</td>\n      <td>0.342758</td>\n      <td>0.269970</td>\n      <td>0.342739</td>\n      <td>0.242732</td>\n      <td>0.106771</td>\n      <td>20904</td>\n      <td>234977</td>\n      <td>1348</td>\n      <td>427</td>\n      <td>0.0064</td>\n      <td>0.055757</td>\n    </tr>\n  </tbody>\n</table>\n</div>"
     },
     "metadata": {},
     "execution_count": 41
    }
   ],
   "source": [
    "test_df.sort_values(by=\"predicao\", ascending=False)"
   ]
  },
  {
   "cell_type": "markdown",
   "metadata": {},
   "source": [
    "# Paredao 7"
   ]
  },
  {
   "cell_type": "code",
   "execution_count": 42,
   "metadata": {},
   "outputs": [
    {
     "output_type": "execute_result",
     "data": {
      "text/plain": "  paredao          nome  positivos_individual_pct  neutros_individual_pct  \\\n6       7          babu                  0.318519                0.299199   \n7       7  manu_gavassi                  0.339061                0.350323   \n8       7   victor_hugo                  0.205263                0.359956   \n\n   negativos_individual_pct  positivos_global_pct  neutros_global_pct  \\\n6                  0.382283              0.456325            0.382861   \n7                  0.310616              0.364322            0.336216   \n8                  0.434781              0.179353            0.280923   \n\n   negativos_global_pct   day1  seguidores  fica  fora  rejeicao  \n6              0.434205  19044      325345  1590   210    0.0460  \n7              0.264607  13372     4327060  1823   424    0.1018  \n8              0.301188  14217       14399    46  2473    0.8522  ",
      "text/html": "<div>\n<style scoped>\n    .dataframe tbody tr th:only-of-type {\n        vertical-align: middle;\n    }\n\n    .dataframe tbody tr th {\n        vertical-align: top;\n    }\n\n    .dataframe thead th {\n        text-align: right;\n    }\n</style>\n<table border=\"1\" class=\"dataframe\">\n  <thead>\n    <tr style=\"text-align: right;\">\n      <th></th>\n      <th>paredao</th>\n      <th>nome</th>\n      <th>positivos_individual_pct</th>\n      <th>neutros_individual_pct</th>\n      <th>negativos_individual_pct</th>\n      <th>positivos_global_pct</th>\n      <th>neutros_global_pct</th>\n      <th>negativos_global_pct</th>\n      <th>day1</th>\n      <th>seguidores</th>\n      <th>fica</th>\n      <th>fora</th>\n      <th>rejeicao</th>\n    </tr>\n  </thead>\n  <tbody>\n    <tr>\n      <th>6</th>\n      <td>7</td>\n      <td>babu</td>\n      <td>0.318519</td>\n      <td>0.299199</td>\n      <td>0.382283</td>\n      <td>0.456325</td>\n      <td>0.382861</td>\n      <td>0.434205</td>\n      <td>19044</td>\n      <td>325345</td>\n      <td>1590</td>\n      <td>210</td>\n      <td>0.0460</td>\n    </tr>\n    <tr>\n      <th>7</th>\n      <td>7</td>\n      <td>manu_gavassi</td>\n      <td>0.339061</td>\n      <td>0.350323</td>\n      <td>0.310616</td>\n      <td>0.364322</td>\n      <td>0.336216</td>\n      <td>0.264607</td>\n      <td>13372</td>\n      <td>4327060</td>\n      <td>1823</td>\n      <td>424</td>\n      <td>0.1018</td>\n    </tr>\n    <tr>\n      <th>8</th>\n      <td>7</td>\n      <td>victor_hugo</td>\n      <td>0.205263</td>\n      <td>0.359956</td>\n      <td>0.434781</td>\n      <td>0.179353</td>\n      <td>0.280923</td>\n      <td>0.301188</td>\n      <td>14217</td>\n      <td>14399</td>\n      <td>46</td>\n      <td>2473</td>\n      <td>0.8522</td>\n    </tr>\n  </tbody>\n</table>\n</div>"
     },
     "metadata": {},
     "execution_count": 42
    }
   ],
   "source": [
    "train_df, test_df = get_train_test(7, normalize=NORMALIZE,  drop_columns=REMOVE)\n",
    "test_df\n",
    ""
   ]
  },
  {
   "cell_type": "code",
   "execution_count": 43,
   "metadata": {},
   "outputs": [],
   "source": [
    "x_train, y_train = train_df.drop(columns=[\"paredao\", \"nome\", \"rejeicao\"], axis=1).to_numpy(), train_df.drop(columns=train_df.columns[:-1], axis=1).to_numpy()\n",
    "x_test, y_test = test_df.drop(columns=[\"paredao\", \"nome\", \"rejeicao\"], axis=1).to_numpy(), test_df.drop(columns=train_df.columns[:-1], axis=1).to_numpy()"
   ]
  },
  {
   "cell_type": "code",
   "execution_count": 44,
   "metadata": {},
   "outputs": [],
   "source": [
    "regressor = RandomForestRegressor(n_estimators=ESTIMATORS)"
   ]
  },
  {
   "cell_type": "code",
   "execution_count": 45,
   "metadata": {},
   "outputs": [],
   "source": [
    "_ = regressor.fit(x_train, y_train)\n",
    "prediction = regressor.predict(x_test)\n",
    "test_df[\"predicao\"] = prediction\n",
    "summary_df = summary_df.append(test_df, ignore_index=True, sort=False)\n",
    "\n",
    ""
   ]
  },
  {
   "cell_type": "code",
   "execution_count": 46,
   "metadata": {},
   "outputs": [
    {
     "output_type": "execute_result",
     "data": {
      "text/plain": "  paredao          nome  positivos_individual_pct  neutros_individual_pct  \\\n8       7   victor_hugo                  0.205263                0.359956   \n6       7          babu                  0.318519                0.299199   \n7       7  manu_gavassi                  0.339061                0.350323   \n\n   negativos_individual_pct  positivos_global_pct  neutros_global_pct  \\\n8                  0.434781              0.179353            0.280923   \n6                  0.382283              0.456325            0.382861   \n7                  0.310616              0.364322            0.336216   \n\n   negativos_global_pct   day1  seguidores  fica  fora  rejeicao  predicao  \n8              0.301188  14217       14399    46  2473    0.8522  0.292342  \n6              0.434205  19044      325345  1590   210    0.0460  0.247252  \n7              0.264607  13372     4327060  1823   424    0.1018  0.104722  ",
      "text/html": "<div>\n<style scoped>\n    .dataframe tbody tr th:only-of-type {\n        vertical-align: middle;\n    }\n\n    .dataframe tbody tr th {\n        vertical-align: top;\n    }\n\n    .dataframe thead th {\n        text-align: right;\n    }\n</style>\n<table border=\"1\" class=\"dataframe\">\n  <thead>\n    <tr style=\"text-align: right;\">\n      <th></th>\n      <th>paredao</th>\n      <th>nome</th>\n      <th>positivos_individual_pct</th>\n      <th>neutros_individual_pct</th>\n      <th>negativos_individual_pct</th>\n      <th>positivos_global_pct</th>\n      <th>neutros_global_pct</th>\n      <th>negativos_global_pct</th>\n      <th>day1</th>\n      <th>seguidores</th>\n      <th>fica</th>\n      <th>fora</th>\n      <th>rejeicao</th>\n      <th>predicao</th>\n    </tr>\n  </thead>\n  <tbody>\n    <tr>\n      <th>8</th>\n      <td>7</td>\n      <td>victor_hugo</td>\n      <td>0.205263</td>\n      <td>0.359956</td>\n      <td>0.434781</td>\n      <td>0.179353</td>\n      <td>0.280923</td>\n      <td>0.301188</td>\n      <td>14217</td>\n      <td>14399</td>\n      <td>46</td>\n      <td>2473</td>\n      <td>0.8522</td>\n      <td>0.292342</td>\n    </tr>\n    <tr>\n      <th>6</th>\n      <td>7</td>\n      <td>babu</td>\n      <td>0.318519</td>\n      <td>0.299199</td>\n      <td>0.382283</td>\n      <td>0.456325</td>\n      <td>0.382861</td>\n      <td>0.434205</td>\n      <td>19044</td>\n      <td>325345</td>\n      <td>1590</td>\n      <td>210</td>\n      <td>0.0460</td>\n      <td>0.247252</td>\n    </tr>\n    <tr>\n      <th>7</th>\n      <td>7</td>\n      <td>manu_gavassi</td>\n      <td>0.339061</td>\n      <td>0.350323</td>\n      <td>0.310616</td>\n      <td>0.364322</td>\n      <td>0.336216</td>\n      <td>0.264607</td>\n      <td>13372</td>\n      <td>4327060</td>\n      <td>1823</td>\n      <td>424</td>\n      <td>0.1018</td>\n      <td>0.104722</td>\n    </tr>\n  </tbody>\n</table>\n</div>"
     },
     "metadata": {},
     "execution_count": 46
    }
   ],
   "source": [
    "test_df.sort_values(by=\"predicao\", ascending=False)"
   ]
  },
  {
   "cell_type": "markdown",
   "metadata": {},
   "source": [
    "# Paredao 8"
   ]
  },
  {
   "cell_type": "code",
   "execution_count": 47,
   "metadata": {},
   "outputs": [
    {
     "output_type": "execute_result",
     "data": {
      "text/plain": "   paredao   nome  positivos_individual_pct  neutros_individual_pct  \\\n17       8   babu                  0.238800                0.296049   \n18       8   rafa                  0.184500                0.264728   \n19       8  pyong                  0.211414                0.343538   \n\n    negativos_individual_pct  positivos_global_pct  neutros_global_pct  \\\n17                  0.465150              0.366229            0.314337   \n18                  0.550772              0.207663            0.206290   \n19                  0.445048              0.426107            0.479374   \n\n    negativos_global_pct   day1  seguidores  fica   fora  rejeicao  \n17              0.319854  29102      325345  4768  19543    0.4771  \n18              0.277956  27062      293473  2998    439    0.0059  \n19              0.402191  42474     1431039  2876  27574    0.5170  ",
      "text/html": "<div>\n<style scoped>\n    .dataframe tbody tr th:only-of-type {\n        vertical-align: middle;\n    }\n\n    .dataframe tbody tr th {\n        vertical-align: top;\n    }\n\n    .dataframe thead th {\n        text-align: right;\n    }\n</style>\n<table border=\"1\" class=\"dataframe\">\n  <thead>\n    <tr style=\"text-align: right;\">\n      <th></th>\n      <th>paredao</th>\n      <th>nome</th>\n      <th>positivos_individual_pct</th>\n      <th>neutros_individual_pct</th>\n      <th>negativos_individual_pct</th>\n      <th>positivos_global_pct</th>\n      <th>neutros_global_pct</th>\n      <th>negativos_global_pct</th>\n      <th>day1</th>\n      <th>seguidores</th>\n      <th>fica</th>\n      <th>fora</th>\n      <th>rejeicao</th>\n    </tr>\n  </thead>\n  <tbody>\n    <tr>\n      <th>17</th>\n      <td>8</td>\n      <td>babu</td>\n      <td>0.238800</td>\n      <td>0.296049</td>\n      <td>0.465150</td>\n      <td>0.366229</td>\n      <td>0.314337</td>\n      <td>0.319854</td>\n      <td>29102</td>\n      <td>325345</td>\n      <td>4768</td>\n      <td>19543</td>\n      <td>0.4771</td>\n    </tr>\n    <tr>\n      <th>18</th>\n      <td>8</td>\n      <td>rafa</td>\n      <td>0.184500</td>\n      <td>0.264728</td>\n      <td>0.550772</td>\n      <td>0.207663</td>\n      <td>0.206290</td>\n      <td>0.277956</td>\n      <td>27062</td>\n      <td>293473</td>\n      <td>2998</td>\n      <td>439</td>\n      <td>0.0059</td>\n    </tr>\n    <tr>\n      <th>19</th>\n      <td>8</td>\n      <td>pyong</td>\n      <td>0.211414</td>\n      <td>0.343538</td>\n      <td>0.445048</td>\n      <td>0.426107</td>\n      <td>0.479374</td>\n      <td>0.402191</td>\n      <td>42474</td>\n      <td>1431039</td>\n      <td>2876</td>\n      <td>27574</td>\n      <td>0.5170</td>\n    </tr>\n  </tbody>\n</table>\n</div>"
     },
     "metadata": {},
     "execution_count": 47
    }
   ],
   "source": [
    "train_df, test_df = get_train_test(8, normalize=NORMALIZE, drop_columns=REMOVE)\n",
    "test_df\n",
    ""
   ]
  },
  {
   "cell_type": "code",
   "execution_count": 48,
   "metadata": {},
   "outputs": [],
   "source": [
    "x_train, y_train = train_df.drop(columns=[\"paredao\", \"nome\", \"rejeicao\"], axis=1).to_numpy(), train_df.drop(columns=train_df.columns[:-1], axis=1).to_numpy()\n",
    "x_test, y_test = test_df.drop(columns=[\"paredao\", \"nome\", \"rejeicao\"], axis=1).to_numpy(), test_df.drop(columns=train_df.columns[:-1], axis=1).to_numpy()"
   ]
  },
  {
   "cell_type": "code",
   "execution_count": 49,
   "metadata": {},
   "outputs": [],
   "source": [
    "regressor = RandomForestRegressor(n_estimators=ESTIMATORS)"
   ]
  },
  {
   "cell_type": "code",
   "execution_count": 50,
   "metadata": {},
   "outputs": [],
   "source": [
    "_ = regressor.fit(x_train, y_train)\n",
    "prediction = regressor.predict(x_test)\n",
    "test_df[\"predicao\"] = prediction\n",
    "summary_df = summary_df.append(test_df, ignore_index=True, sort=False)\n",
    "\n",
    ""
   ]
  },
  {
   "cell_type": "code",
   "execution_count": 51,
   "metadata": {},
   "outputs": [
    {
     "output_type": "execute_result",
     "data": {
      "text/plain": "   paredao   nome  positivos_individual_pct  neutros_individual_pct  \\\n19       8  pyong                  0.211414                0.343538   \n17       8   babu                  0.238800                0.296049   \n18       8   rafa                  0.184500                0.264728   \n\n    negativos_individual_pct  positivos_global_pct  neutros_global_pct  \\\n19                  0.445048              0.426107            0.479374   \n17                  0.465150              0.366229            0.314337   \n18                  0.550772              0.207663            0.206290   \n\n    negativos_global_pct   day1  seguidores  fica   fora  rejeicao  predicao  \n19              0.402191  42474     1431039  2876  27574    0.5170  0.496943  \n17              0.319854  29102      325345  4768  19543    0.4771  0.408335  \n18              0.277956  27062      293473  2998    439    0.0059  0.130008  ",
      "text/html": "<div>\n<style scoped>\n    .dataframe tbody tr th:only-of-type {\n        vertical-align: middle;\n    }\n\n    .dataframe tbody tr th {\n        vertical-align: top;\n    }\n\n    .dataframe thead th {\n        text-align: right;\n    }\n</style>\n<table border=\"1\" class=\"dataframe\">\n  <thead>\n    <tr style=\"text-align: right;\">\n      <th></th>\n      <th>paredao</th>\n      <th>nome</th>\n      <th>positivos_individual_pct</th>\n      <th>neutros_individual_pct</th>\n      <th>negativos_individual_pct</th>\n      <th>positivos_global_pct</th>\n      <th>neutros_global_pct</th>\n      <th>negativos_global_pct</th>\n      <th>day1</th>\n      <th>seguidores</th>\n      <th>fica</th>\n      <th>fora</th>\n      <th>rejeicao</th>\n      <th>predicao</th>\n    </tr>\n  </thead>\n  <tbody>\n    <tr>\n      <th>19</th>\n      <td>8</td>\n      <td>pyong</td>\n      <td>0.211414</td>\n      <td>0.343538</td>\n      <td>0.445048</td>\n      <td>0.426107</td>\n      <td>0.479374</td>\n      <td>0.402191</td>\n      <td>42474</td>\n      <td>1431039</td>\n      <td>2876</td>\n      <td>27574</td>\n      <td>0.5170</td>\n      <td>0.496943</td>\n    </tr>\n    <tr>\n      <th>17</th>\n      <td>8</td>\n      <td>babu</td>\n      <td>0.238800</td>\n      <td>0.296049</td>\n      <td>0.465150</td>\n      <td>0.366229</td>\n      <td>0.314337</td>\n      <td>0.319854</td>\n      <td>29102</td>\n      <td>325345</td>\n      <td>4768</td>\n      <td>19543</td>\n      <td>0.4771</td>\n      <td>0.408335</td>\n    </tr>\n    <tr>\n      <th>18</th>\n      <td>8</td>\n      <td>rafa</td>\n      <td>0.184500</td>\n      <td>0.264728</td>\n      <td>0.550772</td>\n      <td>0.207663</td>\n      <td>0.206290</td>\n      <td>0.277956</td>\n      <td>27062</td>\n      <td>293473</td>\n      <td>2998</td>\n      <td>439</td>\n      <td>0.0059</td>\n      <td>0.130008</td>\n    </tr>\n  </tbody>\n</table>\n</div>"
     },
     "metadata": {},
     "execution_count": 51
    }
   ],
   "source": [
    "test_df.sort_values(by=\"predicao\", ascending=False)"
   ]
  },
  {
   "cell_type": "markdown",
   "metadata": {},
   "source": [
    "# Paredão 9"
   ]
  },
  {
   "cell_type": "code",
   "execution_count": 52,
   "metadata": {},
   "outputs": [
    {
     "output_type": "execute_result",
     "data": {
      "text/plain": "   paredao       nome  positivos_individual_pct  neutros_individual_pct  \\\n14       9     daniel                  0.210559                0.351664   \n15       9  flayslene                  0.265438                0.300293   \n16       9        ivy                  0.228849                0.342627   \n\n    negativos_individual_pct  positivos_global_pct  neutros_global_pct  \\\n14                  0.437777              0.355075            0.417310   \n15                  0.434269              0.375880            0.299236   \n16                  0.428523              0.269045            0.283453   \n\n    negativos_global_pct   day1  seguidores  fica   fora  rejeicao  \n14              0.397548  43662       33876   124  19608    0.8082  \n15              0.331158  14010      104138  2038   1033    0.0954  \n16              0.271294  34835       59125    71   3050    0.0964  ",
      "text/html": "<div>\n<style scoped>\n    .dataframe tbody tr th:only-of-type {\n        vertical-align: middle;\n    }\n\n    .dataframe tbody tr th {\n        vertical-align: top;\n    }\n\n    .dataframe thead th {\n        text-align: right;\n    }\n</style>\n<table border=\"1\" class=\"dataframe\">\n  <thead>\n    <tr style=\"text-align: right;\">\n      <th></th>\n      <th>paredao</th>\n      <th>nome</th>\n      <th>positivos_individual_pct</th>\n      <th>neutros_individual_pct</th>\n      <th>negativos_individual_pct</th>\n      <th>positivos_global_pct</th>\n      <th>neutros_global_pct</th>\n      <th>negativos_global_pct</th>\n      <th>day1</th>\n      <th>seguidores</th>\n      <th>fica</th>\n      <th>fora</th>\n      <th>rejeicao</th>\n    </tr>\n  </thead>\n  <tbody>\n    <tr>\n      <th>14</th>\n      <td>9</td>\n      <td>daniel</td>\n      <td>0.210559</td>\n      <td>0.351664</td>\n      <td>0.437777</td>\n      <td>0.355075</td>\n      <td>0.417310</td>\n      <td>0.397548</td>\n      <td>43662</td>\n      <td>33876</td>\n      <td>124</td>\n      <td>19608</td>\n      <td>0.8082</td>\n    </tr>\n    <tr>\n      <th>15</th>\n      <td>9</td>\n      <td>flayslene</td>\n      <td>0.265438</td>\n      <td>0.300293</td>\n      <td>0.434269</td>\n      <td>0.375880</td>\n      <td>0.299236</td>\n      <td>0.331158</td>\n      <td>14010</td>\n      <td>104138</td>\n      <td>2038</td>\n      <td>1033</td>\n      <td>0.0954</td>\n    </tr>\n    <tr>\n      <th>16</th>\n      <td>9</td>\n      <td>ivy</td>\n      <td>0.228849</td>\n      <td>0.342627</td>\n      <td>0.428523</td>\n      <td>0.269045</td>\n      <td>0.283453</td>\n      <td>0.271294</td>\n      <td>34835</td>\n      <td>59125</td>\n      <td>71</td>\n      <td>3050</td>\n      <td>0.0964</td>\n    </tr>\n  </tbody>\n</table>\n</div>"
     },
     "metadata": {},
     "execution_count": 52
    }
   ],
   "source": [
    "train_df, test_df = get_train_test(9, normalize=NORMALIZE,  drop_columns=REMOVE)\n",
    "test_df"
   ]
  },
  {
   "cell_type": "code",
   "execution_count": 53,
   "metadata": {},
   "outputs": [],
   "source": [
    "x_train, y_train = train_df.drop(columns=[\"paredao\", \"nome\", \"rejeicao\"], axis=1).to_numpy(), train_df.drop(columns=train_df.columns[:-1], axis=1).to_numpy()\n",
    "x_test, y_test = test_df.drop(columns=[\"paredao\", \"nome\", \"rejeicao\"], axis=1).to_numpy(), test_df.drop(columns=train_df.columns[:-1], axis=1).to_numpy()"
   ]
  },
  {
   "cell_type": "code",
   "execution_count": 54,
   "metadata": {},
   "outputs": [],
   "source": [
    "regressor = RandomForestRegressor(n_estimators=ESTIMATORS)"
   ]
  },
  {
   "cell_type": "code",
   "execution_count": 55,
   "metadata": {},
   "outputs": [],
   "source": [
    "_ = regressor.fit(x_train, y_train)\n",
    "prediction = regressor.predict(x_test)\n",
    "test_df[\"predicao\"] = prediction\n",
    "summary_df = summary_df.append(test_df, ignore_index=True, sort=False)\n",
    "\n",
    ""
   ]
  },
  {
   "cell_type": "code",
   "execution_count": 56,
   "metadata": {},
   "outputs": [
    {
     "output_type": "execute_result",
     "data": {
      "text/plain": "   paredao       nome  positivos_individual_pct  neutros_individual_pct  \\\n14       9     daniel                  0.210559                0.351664   \n16       9        ivy                  0.228849                0.342627   \n15       9  flayslene                  0.265438                0.300293   \n\n    negativos_individual_pct  positivos_global_pct  neutros_global_pct  \\\n14                  0.437777              0.355075            0.417310   \n16                  0.428523              0.269045            0.283453   \n15                  0.434269              0.375880            0.299236   \n\n    negativos_global_pct   day1  seguidores  fica   fora  rejeicao  predicao  \n14              0.397548  43662       33876   124  19608    0.8082  0.633299  \n16              0.271294  34835       59125    71   3050    0.0964  0.523794  \n15              0.331158  14010      104138  2038   1033    0.0954  0.242543  ",
      "text/html": "<div>\n<style scoped>\n    .dataframe tbody tr th:only-of-type {\n        vertical-align: middle;\n    }\n\n    .dataframe tbody tr th {\n        vertical-align: top;\n    }\n\n    .dataframe thead th {\n        text-align: right;\n    }\n</style>\n<table border=\"1\" class=\"dataframe\">\n  <thead>\n    <tr style=\"text-align: right;\">\n      <th></th>\n      <th>paredao</th>\n      <th>nome</th>\n      <th>positivos_individual_pct</th>\n      <th>neutros_individual_pct</th>\n      <th>negativos_individual_pct</th>\n      <th>positivos_global_pct</th>\n      <th>neutros_global_pct</th>\n      <th>negativos_global_pct</th>\n      <th>day1</th>\n      <th>seguidores</th>\n      <th>fica</th>\n      <th>fora</th>\n      <th>rejeicao</th>\n      <th>predicao</th>\n    </tr>\n  </thead>\n  <tbody>\n    <tr>\n      <th>14</th>\n      <td>9</td>\n      <td>daniel</td>\n      <td>0.210559</td>\n      <td>0.351664</td>\n      <td>0.437777</td>\n      <td>0.355075</td>\n      <td>0.417310</td>\n      <td>0.397548</td>\n      <td>43662</td>\n      <td>33876</td>\n      <td>124</td>\n      <td>19608</td>\n      <td>0.8082</td>\n      <td>0.633299</td>\n    </tr>\n    <tr>\n      <th>16</th>\n      <td>9</td>\n      <td>ivy</td>\n      <td>0.228849</td>\n      <td>0.342627</td>\n      <td>0.428523</td>\n      <td>0.269045</td>\n      <td>0.283453</td>\n      <td>0.271294</td>\n      <td>34835</td>\n      <td>59125</td>\n      <td>71</td>\n      <td>3050</td>\n      <td>0.0964</td>\n      <td>0.523794</td>\n    </tr>\n    <tr>\n      <th>15</th>\n      <td>9</td>\n      <td>flayslene</td>\n      <td>0.265438</td>\n      <td>0.300293</td>\n      <td>0.434269</td>\n      <td>0.375880</td>\n      <td>0.299236</td>\n      <td>0.331158</td>\n      <td>14010</td>\n      <td>104138</td>\n      <td>2038</td>\n      <td>1033</td>\n      <td>0.0954</td>\n      <td>0.242543</td>\n    </tr>\n  </tbody>\n</table>\n</div>"
     },
     "metadata": {},
     "execution_count": 56
    }
   ],
   "source": [
    "test_df.sort_values(by=\"predicao\", ascending=False)"
   ]
  },
  {
   "cell_type": "markdown",
   "metadata": {},
   "source": [
    "# Paredão 10"
   ]
  },
  {
   "cell_type": "code",
   "execution_count": 57,
   "metadata": {},
   "outputs": [
    {
     "output_type": "execute_result",
     "data": {
      "text/plain": "   paredao          nome  positivos_individual_pct  neutros_individual_pct  \\\n11      10  manu_gavassi                  0.233780                0.448016   \n12      10          mari                  0.282518                0.348057   \n13      10  felipe_prior                  0.160907                0.383470   \n\n    negativos_individual_pct  positivos_global_pct  neutros_global_pct  \\\n11                  0.318204              0.559785            0.551039   \n12                  0.369426              0.152072            0.096234   \n13                  0.455623              0.288144            0.352728   \n\n    negativos_global_pct   day1  seguidores   fica   fora  rejeicao  \n11              0.428851  42943     4785334  30069  40235    0.4251  \n12              0.111922  19694      269733   2982   3304    0.0076  \n13              0.459226  57998      642881  12535  95402    0.5673  ",
      "text/html": "<div>\n<style scoped>\n    .dataframe tbody tr th:only-of-type {\n        vertical-align: middle;\n    }\n\n    .dataframe tbody tr th {\n        vertical-align: top;\n    }\n\n    .dataframe thead th {\n        text-align: right;\n    }\n</style>\n<table border=\"1\" class=\"dataframe\">\n  <thead>\n    <tr style=\"text-align: right;\">\n      <th></th>\n      <th>paredao</th>\n      <th>nome</th>\n      <th>positivos_individual_pct</th>\n      <th>neutros_individual_pct</th>\n      <th>negativos_individual_pct</th>\n      <th>positivos_global_pct</th>\n      <th>neutros_global_pct</th>\n      <th>negativos_global_pct</th>\n      <th>day1</th>\n      <th>seguidores</th>\n      <th>fica</th>\n      <th>fora</th>\n      <th>rejeicao</th>\n    </tr>\n  </thead>\n  <tbody>\n    <tr>\n      <th>11</th>\n      <td>10</td>\n      <td>manu_gavassi</td>\n      <td>0.233780</td>\n      <td>0.448016</td>\n      <td>0.318204</td>\n      <td>0.559785</td>\n      <td>0.551039</td>\n      <td>0.428851</td>\n      <td>42943</td>\n      <td>4785334</td>\n      <td>30069</td>\n      <td>40235</td>\n      <td>0.4251</td>\n    </tr>\n    <tr>\n      <th>12</th>\n      <td>10</td>\n      <td>mari</td>\n      <td>0.282518</td>\n      <td>0.348057</td>\n      <td>0.369426</td>\n      <td>0.152072</td>\n      <td>0.096234</td>\n      <td>0.111922</td>\n      <td>19694</td>\n      <td>269733</td>\n      <td>2982</td>\n      <td>3304</td>\n      <td>0.0076</td>\n    </tr>\n    <tr>\n      <th>13</th>\n      <td>10</td>\n      <td>felipe_prior</td>\n      <td>0.160907</td>\n      <td>0.383470</td>\n      <td>0.455623</td>\n      <td>0.288144</td>\n      <td>0.352728</td>\n      <td>0.459226</td>\n      <td>57998</td>\n      <td>642881</td>\n      <td>12535</td>\n      <td>95402</td>\n      <td>0.5673</td>\n    </tr>\n  </tbody>\n</table>\n</div>"
     },
     "metadata": {},
     "execution_count": 57
    }
   ],
   "source": [
    "train_df, test_df = get_train_test(10, normalize=NORMALIZE, drop_columns=REMOVE)\n",
    "test_df"
   ]
  },
  {
   "cell_type": "code",
   "execution_count": 58,
   "metadata": {},
   "outputs": [],
   "source": [
    "x_train, y_train = train_df.drop(columns=[\"paredao\", \"nome\", \"rejeicao\"], axis=1).to_numpy(), train_df.drop(columns=train_df.columns[:-1], axis=1).to_numpy()\n",
    "x_test, y_test = test_df.drop(columns=[\"paredao\", \"nome\", \"rejeicao\"], axis=1).to_numpy(), test_df.drop(columns=train_df.columns[:-1], axis=1).to_numpy()"
   ]
  },
  {
   "cell_type": "code",
   "execution_count": 59,
   "metadata": {},
   "outputs": [],
   "source": [
    "regressor = RandomForestRegressor(n_estimators=ESTIMATORS)"
   ]
  },
  {
   "cell_type": "code",
   "execution_count": 60,
   "metadata": {},
   "outputs": [],
   "source": [
    "_ = regressor.fit(x_train, y_train)\n",
    "prediction = regressor.predict(x_test)\n",
    "test_df[\"predicao\"] = prediction\n",
    "summary_df = summary_df.append(test_df, ignore_index=True, sort=False)\n",
    "\n",
    ""
   ]
  },
  {
   "cell_type": "code",
   "execution_count": 61,
   "metadata": {},
   "outputs": [
    {
     "output_type": "execute_result",
     "data": {
      "text/plain": "   paredao          nome  positivos_individual_pct  neutros_individual_pct  \\\n13      10  felipe_prior                  0.160907                0.383470   \n11      10  manu_gavassi                  0.233780                0.448016   \n12      10          mari                  0.282518                0.348057   \n\n    negativos_individual_pct  positivos_global_pct  neutros_global_pct  \\\n13                  0.455623              0.288144            0.352728   \n11                  0.318204              0.559785            0.551039   \n12                  0.369426              0.152072            0.096234   \n\n    negativos_global_pct   day1  seguidores   fica   fora  rejeicao  predicao  \n13              0.459226  57998      642881  12535  95402    0.5673  0.515985  \n11              0.428851  42943     4785334  30069  40235    0.4251  0.510675  \n12              0.111922  19694      269733   2982   3304    0.0076  0.286523  ",
      "text/html": "<div>\n<style scoped>\n    .dataframe tbody tr th:only-of-type {\n        vertical-align: middle;\n    }\n\n    .dataframe tbody tr th {\n        vertical-align: top;\n    }\n\n    .dataframe thead th {\n        text-align: right;\n    }\n</style>\n<table border=\"1\" class=\"dataframe\">\n  <thead>\n    <tr style=\"text-align: right;\">\n      <th></th>\n      <th>paredao</th>\n      <th>nome</th>\n      <th>positivos_individual_pct</th>\n      <th>neutros_individual_pct</th>\n      <th>negativos_individual_pct</th>\n      <th>positivos_global_pct</th>\n      <th>neutros_global_pct</th>\n      <th>negativos_global_pct</th>\n      <th>day1</th>\n      <th>seguidores</th>\n      <th>fica</th>\n      <th>fora</th>\n      <th>rejeicao</th>\n      <th>predicao</th>\n    </tr>\n  </thead>\n  <tbody>\n    <tr>\n      <th>13</th>\n      <td>10</td>\n      <td>felipe_prior</td>\n      <td>0.160907</td>\n      <td>0.383470</td>\n      <td>0.455623</td>\n      <td>0.288144</td>\n      <td>0.352728</td>\n      <td>0.459226</td>\n      <td>57998</td>\n      <td>642881</td>\n      <td>12535</td>\n      <td>95402</td>\n      <td>0.5673</td>\n      <td>0.515985</td>\n    </tr>\n    <tr>\n      <th>11</th>\n      <td>10</td>\n      <td>manu_gavassi</td>\n      <td>0.233780</td>\n      <td>0.448016</td>\n      <td>0.318204</td>\n      <td>0.559785</td>\n      <td>0.551039</td>\n      <td>0.428851</td>\n      <td>42943</td>\n      <td>4785334</td>\n      <td>30069</td>\n      <td>40235</td>\n      <td>0.4251</td>\n      <td>0.510675</td>\n    </tr>\n    <tr>\n      <th>12</th>\n      <td>10</td>\n      <td>mari</td>\n      <td>0.282518</td>\n      <td>0.348057</td>\n      <td>0.369426</td>\n      <td>0.152072</td>\n      <td>0.096234</td>\n      <td>0.111922</td>\n      <td>19694</td>\n      <td>269733</td>\n      <td>2982</td>\n      <td>3304</td>\n      <td>0.0076</td>\n      <td>0.286523</td>\n    </tr>\n  </tbody>\n</table>\n</div>"
     },
     "metadata": {},
     "execution_count": 61
    }
   ],
   "source": [
    "test_df.sort_values(by=\"predicao\", ascending=False)"
   ]
  },
  {
   "cell_type": "markdown",
   "metadata": {},
   "source": [
    "# Sumarizando"
   ]
  },
  {
   "cell_type": "code",
   "execution_count": 62,
   "metadata": {},
   "outputs": [
    {
     "output_type": "execute_result",
     "data": {
      "text/plain": "   paredao   fora  negativos_individual_pct  positivos_individual_pct  \\\n0        1     59                  0.266922                  0.361998   \n1        1   1425                  0.469919                  0.178042   \n2        2    141                  0.301182                  0.300946   \n3        2  10253                  0.513974                  0.146594   \n4        2    112                  0.268326                  0.414681   \n5        2   4289                  0.542595                  0.147875   \n6        3     76                  0.349826                  0.281135   \n7        3   1411                  0.354117                  0.208189   \n8        4    315                  0.516754                  0.185986   \n9        4    570                  0.403289                  0.227361   \n10       4   5952                  0.511239                  0.197421   \n11       5   1918                  0.355977                  0.221844   \n12       5   2872                  0.490076                  0.181474   \n13       5   7069                  0.570881                  0.146252   \n14       6    427                  0.269970                  0.387272   \n15       6  27184                  0.594579                  0.152063   \n16       6  14897                  0.519294                  0.209643   \n17       7    210                  0.382283                  0.318519   \n18       7    424                  0.310616                  0.339061   \n19       7   2473                  0.434781                  0.205263   \n20       8  19543                  0.465150                  0.238800   \n21       8    439                  0.550772                  0.184500   \n22       8  27574                  0.445048                  0.211414   \n23       9  19608                  0.437777                  0.210559   \n24       9   1033                  0.434269                  0.265438   \n25       9   3050                  0.428523                  0.228849   \n26      10  40235                  0.318204                  0.233780   \n27      10   3304                  0.369426                  0.282518   \n28      10  95402                  0.455623                  0.160907   \n\n    negativos_global_pct             nome  neutros_individual_pct  \\\n0               0.207010   bianca_andrade                0.371080   \n1               0.792990     lucas_chumbo                0.352040   \n2               0.028657             babu                0.397872   \n3               0.469254           petrix                0.339433   \n4               0.096777            pyong                0.316993   \n5               0.405312           hadson                0.309531   \n6               0.468471     felipe_prior                0.369039   \n7               0.531529           hadson                0.437694   \n8               0.339940             babu                0.297259   \n9               0.090035      victor_hugo                0.369350   \n10              0.570026            lucas                0.291340   \n11              0.211900   bianca_andrade                0.422179   \n12              0.193832        flayslene                0.328450   \n13              0.594268     felipe_prior                0.282867   \n14              0.106771  gizelly_bicalho                0.342758   \n15              0.452061        guilherme                0.253358   \n16              0.441168            pyong                0.271063   \n17              0.434205             babu                0.299199   \n18              0.264607     manu_gavassi                0.350323   \n19              0.301188      victor_hugo                0.359956   \n20              0.319854             babu                0.296049   \n21              0.277956             rafa                0.264728   \n22              0.402191            pyong                0.343538   \n23              0.397548           daniel                0.351664   \n24              0.331158        flayslene                0.300293   \n25              0.271294              ivy                0.342627   \n26              0.428851     manu_gavassi                0.448016   \n27              0.111922             mari                0.348057   \n28              0.459226     felipe_prior                0.383470   \n\n    positivos_global_pct seguidores  neutros_global_pct   fica  rejeicao  \\\n0               0.483052     411880            0.326345    576    0.2446   \n1               0.516948      12014            0.673655     64    0.7594   \n2               0.067775     325345            0.054604     39    0.0044   \n3               0.316781      22414            0.446991     62    0.8027   \n4               0.353997    1431039            0.164906    293    0.0066   \n5               0.261447      10207            0.333499     24    0.1863   \n6               0.546440     204031            0.429299    116    0.2029   \n7               0.453560      10207            0.570701     32    0.7971   \n8               0.311138     325345            0.324375    136    0.0130   \n9               0.129081      14399            0.136781     51    0.3608   \n10              0.559781      23670            0.538845    218    0.6262   \n11              0.370866     411880            0.371940    608    0.5309   \n12              0.201575     104138            0.192263    283    0.1764   \n13              0.427559     204031            0.435797    798    0.2927   \n14              0.342739     234977            0.242732   1348    0.0064   \n15              0.258715     103421            0.344924    244    0.5607   \n16              0.398546    1431039            0.412345   1884    0.4329   \n17              0.456325     325345            0.382861   1590    0.0460   \n18              0.364322    4327060            0.336216   1823    0.1018   \n19              0.179353      14399            0.280923     46    0.8522   \n20              0.366229     325345            0.314337   4768    0.4771   \n21              0.207663     293473            0.206290   2998    0.0059   \n22              0.426107    1431039            0.479374   2876    0.5170   \n23              0.355075      33876            0.417310    124    0.8082   \n24              0.375880     104138            0.299236   2038    0.0954   \n25              0.269045      59125            0.283453     71    0.0964   \n26              0.559785    4785334            0.551039  30069    0.4251   \n27              0.152072     269733            0.096234   2982    0.0076   \n28              0.288144     642881            0.352728  12535    0.5673   \n\n     day1  predicao  \n0    5849  0.122329  \n1   22759  0.590554  \n2    5606  0.282481  \n3   46679  0.696678  \n4   12527  0.094189  \n5   25263  0.629419  \n6    1138  0.278449  \n7    1903  0.575071  \n8   18271  0.157807  \n9    6845  0.305945  \n10  32223  0.579600  \n11   1998  0.301283  \n12   1935  0.278475  \n13   3101  0.494002  \n14  20904  0.055757  \n15  49438  0.463802  \n16  38968  0.473442  \n17  19044  0.247252  \n18  13372  0.104722  \n19  14217  0.292342  \n20  29102  0.408335  \n21  27062  0.130008  \n22  42474  0.496943  \n23  43662  0.633299  \n24  14010  0.242543  \n25  34835  0.523794  \n26  42943  0.510675  \n27  19694  0.286523  \n28  57998  0.515985  ",
      "text/html": "<div>\n<style scoped>\n    .dataframe tbody tr th:only-of-type {\n        vertical-align: middle;\n    }\n\n    .dataframe tbody tr th {\n        vertical-align: top;\n    }\n\n    .dataframe thead th {\n        text-align: right;\n    }\n</style>\n<table border=\"1\" class=\"dataframe\">\n  <thead>\n    <tr style=\"text-align: right;\">\n      <th></th>\n      <th>paredao</th>\n      <th>fora</th>\n      <th>negativos_individual_pct</th>\n      <th>positivos_individual_pct</th>\n      <th>negativos_global_pct</th>\n      <th>nome</th>\n      <th>neutros_individual_pct</th>\n      <th>positivos_global_pct</th>\n      <th>seguidores</th>\n      <th>neutros_global_pct</th>\n      <th>fica</th>\n      <th>rejeicao</th>\n      <th>day1</th>\n      <th>predicao</th>\n    </tr>\n  </thead>\n  <tbody>\n    <tr>\n      <th>0</th>\n      <td>1</td>\n      <td>59</td>\n      <td>0.266922</td>\n      <td>0.361998</td>\n      <td>0.207010</td>\n      <td>bianca_andrade</td>\n      <td>0.371080</td>\n      <td>0.483052</td>\n      <td>411880</td>\n      <td>0.326345</td>\n      <td>576</td>\n      <td>0.2446</td>\n      <td>5849</td>\n      <td>0.122329</td>\n    </tr>\n    <tr>\n      <th>1</th>\n      <td>1</td>\n      <td>1425</td>\n      <td>0.469919</td>\n      <td>0.178042</td>\n      <td>0.792990</td>\n      <td>lucas_chumbo</td>\n      <td>0.352040</td>\n      <td>0.516948</td>\n      <td>12014</td>\n      <td>0.673655</td>\n      <td>64</td>\n      <td>0.7594</td>\n      <td>22759</td>\n      <td>0.590554</td>\n    </tr>\n    <tr>\n      <th>2</th>\n      <td>2</td>\n      <td>141</td>\n      <td>0.301182</td>\n      <td>0.300946</td>\n      <td>0.028657</td>\n      <td>babu</td>\n      <td>0.397872</td>\n      <td>0.067775</td>\n      <td>325345</td>\n      <td>0.054604</td>\n      <td>39</td>\n      <td>0.0044</td>\n      <td>5606</td>\n      <td>0.282481</td>\n    </tr>\n    <tr>\n      <th>3</th>\n      <td>2</td>\n      <td>10253</td>\n      <td>0.513974</td>\n      <td>0.146594</td>\n      <td>0.469254</td>\n      <td>petrix</td>\n      <td>0.339433</td>\n      <td>0.316781</td>\n      <td>22414</td>\n      <td>0.446991</td>\n      <td>62</td>\n      <td>0.8027</td>\n      <td>46679</td>\n      <td>0.696678</td>\n    </tr>\n    <tr>\n      <th>4</th>\n      <td>2</td>\n      <td>112</td>\n      <td>0.268326</td>\n      <td>0.414681</td>\n      <td>0.096777</td>\n      <td>pyong</td>\n      <td>0.316993</td>\n      <td>0.353997</td>\n      <td>1431039</td>\n      <td>0.164906</td>\n      <td>293</td>\n      <td>0.0066</td>\n      <td>12527</td>\n      <td>0.094189</td>\n    </tr>\n    <tr>\n      <th>5</th>\n      <td>2</td>\n      <td>4289</td>\n      <td>0.542595</td>\n      <td>0.147875</td>\n      <td>0.405312</td>\n      <td>hadson</td>\n      <td>0.309531</td>\n      <td>0.261447</td>\n      <td>10207</td>\n      <td>0.333499</td>\n      <td>24</td>\n      <td>0.1863</td>\n      <td>25263</td>\n      <td>0.629419</td>\n    </tr>\n    <tr>\n      <th>6</th>\n      <td>3</td>\n      <td>76</td>\n      <td>0.349826</td>\n      <td>0.281135</td>\n      <td>0.468471</td>\n      <td>felipe_prior</td>\n      <td>0.369039</td>\n      <td>0.546440</td>\n      <td>204031</td>\n      <td>0.429299</td>\n      <td>116</td>\n      <td>0.2029</td>\n      <td>1138</td>\n      <td>0.278449</td>\n    </tr>\n    <tr>\n      <th>7</th>\n      <td>3</td>\n      <td>1411</td>\n      <td>0.354117</td>\n      <td>0.208189</td>\n      <td>0.531529</td>\n      <td>hadson</td>\n      <td>0.437694</td>\n      <td>0.453560</td>\n      <td>10207</td>\n      <td>0.570701</td>\n      <td>32</td>\n      <td>0.7971</td>\n      <td>1903</td>\n      <td>0.575071</td>\n    </tr>\n    <tr>\n      <th>8</th>\n      <td>4</td>\n      <td>315</td>\n      <td>0.516754</td>\n      <td>0.185986</td>\n      <td>0.339940</td>\n      <td>babu</td>\n      <td>0.297259</td>\n      <td>0.311138</td>\n      <td>325345</td>\n      <td>0.324375</td>\n      <td>136</td>\n      <td>0.0130</td>\n      <td>18271</td>\n      <td>0.157807</td>\n    </tr>\n    <tr>\n      <th>9</th>\n      <td>4</td>\n      <td>570</td>\n      <td>0.403289</td>\n      <td>0.227361</td>\n      <td>0.090035</td>\n      <td>victor_hugo</td>\n      <td>0.369350</td>\n      <td>0.129081</td>\n      <td>14399</td>\n      <td>0.136781</td>\n      <td>51</td>\n      <td>0.3608</td>\n      <td>6845</td>\n      <td>0.305945</td>\n    </tr>\n    <tr>\n      <th>10</th>\n      <td>4</td>\n      <td>5952</td>\n      <td>0.511239</td>\n      <td>0.197421</td>\n      <td>0.570026</td>\n      <td>lucas</td>\n      <td>0.291340</td>\n      <td>0.559781</td>\n      <td>23670</td>\n      <td>0.538845</td>\n      <td>218</td>\n      <td>0.6262</td>\n      <td>32223</td>\n      <td>0.579600</td>\n    </tr>\n    <tr>\n      <th>11</th>\n      <td>5</td>\n      <td>1918</td>\n      <td>0.355977</td>\n      <td>0.221844</td>\n      <td>0.211900</td>\n      <td>bianca_andrade</td>\n      <td>0.422179</td>\n      <td>0.370866</td>\n      <td>411880</td>\n      <td>0.371940</td>\n      <td>608</td>\n      <td>0.5309</td>\n      <td>1998</td>\n      <td>0.301283</td>\n    </tr>\n    <tr>\n      <th>12</th>\n      <td>5</td>\n      <td>2872</td>\n      <td>0.490076</td>\n      <td>0.181474</td>\n      <td>0.193832</td>\n      <td>flayslene</td>\n      <td>0.328450</td>\n      <td>0.201575</td>\n      <td>104138</td>\n      <td>0.192263</td>\n      <td>283</td>\n      <td>0.1764</td>\n      <td>1935</td>\n      <td>0.278475</td>\n    </tr>\n    <tr>\n      <th>13</th>\n      <td>5</td>\n      <td>7069</td>\n      <td>0.570881</td>\n      <td>0.146252</td>\n      <td>0.594268</td>\n      <td>felipe_prior</td>\n      <td>0.282867</td>\n      <td>0.427559</td>\n      <td>204031</td>\n      <td>0.435797</td>\n      <td>798</td>\n      <td>0.2927</td>\n      <td>3101</td>\n      <td>0.494002</td>\n    </tr>\n    <tr>\n      <th>14</th>\n      <td>6</td>\n      <td>427</td>\n      <td>0.269970</td>\n      <td>0.387272</td>\n      <td>0.106771</td>\n      <td>gizelly_bicalho</td>\n      <td>0.342758</td>\n      <td>0.342739</td>\n      <td>234977</td>\n      <td>0.242732</td>\n      <td>1348</td>\n      <td>0.0064</td>\n      <td>20904</td>\n      <td>0.055757</td>\n    </tr>\n    <tr>\n      <th>15</th>\n      <td>6</td>\n      <td>27184</td>\n      <td>0.594579</td>\n      <td>0.152063</td>\n      <td>0.452061</td>\n      <td>guilherme</td>\n      <td>0.253358</td>\n      <td>0.258715</td>\n      <td>103421</td>\n      <td>0.344924</td>\n      <td>244</td>\n      <td>0.5607</td>\n      <td>49438</td>\n      <td>0.463802</td>\n    </tr>\n    <tr>\n      <th>16</th>\n      <td>6</td>\n      <td>14897</td>\n      <td>0.519294</td>\n      <td>0.209643</td>\n      <td>0.441168</td>\n      <td>pyong</td>\n      <td>0.271063</td>\n      <td>0.398546</td>\n      <td>1431039</td>\n      <td>0.412345</td>\n      <td>1884</td>\n      <td>0.4329</td>\n      <td>38968</td>\n      <td>0.473442</td>\n    </tr>\n    <tr>\n      <th>17</th>\n      <td>7</td>\n      <td>210</td>\n      <td>0.382283</td>\n      <td>0.318519</td>\n      <td>0.434205</td>\n      <td>babu</td>\n      <td>0.299199</td>\n      <td>0.456325</td>\n      <td>325345</td>\n      <td>0.382861</td>\n      <td>1590</td>\n      <td>0.0460</td>\n      <td>19044</td>\n      <td>0.247252</td>\n    </tr>\n    <tr>\n      <th>18</th>\n      <td>7</td>\n      <td>424</td>\n      <td>0.310616</td>\n      <td>0.339061</td>\n      <td>0.264607</td>\n      <td>manu_gavassi</td>\n      <td>0.350323</td>\n      <td>0.364322</td>\n      <td>4327060</td>\n      <td>0.336216</td>\n      <td>1823</td>\n      <td>0.1018</td>\n      <td>13372</td>\n      <td>0.104722</td>\n    </tr>\n    <tr>\n      <th>19</th>\n      <td>7</td>\n      <td>2473</td>\n      <td>0.434781</td>\n      <td>0.205263</td>\n      <td>0.301188</td>\n      <td>victor_hugo</td>\n      <td>0.359956</td>\n      <td>0.179353</td>\n      <td>14399</td>\n      <td>0.280923</td>\n      <td>46</td>\n      <td>0.8522</td>\n      <td>14217</td>\n      <td>0.292342</td>\n    </tr>\n    <tr>\n      <th>20</th>\n      <td>8</td>\n      <td>19543</td>\n      <td>0.465150</td>\n      <td>0.238800</td>\n      <td>0.319854</td>\n      <td>babu</td>\n      <td>0.296049</td>\n      <td>0.366229</td>\n      <td>325345</td>\n      <td>0.314337</td>\n      <td>4768</td>\n      <td>0.4771</td>\n      <td>29102</td>\n      <td>0.408335</td>\n    </tr>\n    <tr>\n      <th>21</th>\n      <td>8</td>\n      <td>439</td>\n      <td>0.550772</td>\n      <td>0.184500</td>\n      <td>0.277956</td>\n      <td>rafa</td>\n      <td>0.264728</td>\n      <td>0.207663</td>\n      <td>293473</td>\n      <td>0.206290</td>\n      <td>2998</td>\n      <td>0.0059</td>\n      <td>27062</td>\n      <td>0.130008</td>\n    </tr>\n    <tr>\n      <th>22</th>\n      <td>8</td>\n      <td>27574</td>\n      <td>0.445048</td>\n      <td>0.211414</td>\n      <td>0.402191</td>\n      <td>pyong</td>\n      <td>0.343538</td>\n      <td>0.426107</td>\n      <td>1431039</td>\n      <td>0.479374</td>\n      <td>2876</td>\n      <td>0.5170</td>\n      <td>42474</td>\n      <td>0.496943</td>\n    </tr>\n    <tr>\n      <th>23</th>\n      <td>9</td>\n      <td>19608</td>\n      <td>0.437777</td>\n      <td>0.210559</td>\n      <td>0.397548</td>\n      <td>daniel</td>\n      <td>0.351664</td>\n      <td>0.355075</td>\n      <td>33876</td>\n      <td>0.417310</td>\n      <td>124</td>\n      <td>0.8082</td>\n      <td>43662</td>\n      <td>0.633299</td>\n    </tr>\n    <tr>\n      <th>24</th>\n      <td>9</td>\n      <td>1033</td>\n      <td>0.434269</td>\n      <td>0.265438</td>\n      <td>0.331158</td>\n      <td>flayslene</td>\n      <td>0.300293</td>\n      <td>0.375880</td>\n      <td>104138</td>\n      <td>0.299236</td>\n      <td>2038</td>\n      <td>0.0954</td>\n      <td>14010</td>\n      <td>0.242543</td>\n    </tr>\n    <tr>\n      <th>25</th>\n      <td>9</td>\n      <td>3050</td>\n      <td>0.428523</td>\n      <td>0.228849</td>\n      <td>0.271294</td>\n      <td>ivy</td>\n      <td>0.342627</td>\n      <td>0.269045</td>\n      <td>59125</td>\n      <td>0.283453</td>\n      <td>71</td>\n      <td>0.0964</td>\n      <td>34835</td>\n      <td>0.523794</td>\n    </tr>\n    <tr>\n      <th>26</th>\n      <td>10</td>\n      <td>40235</td>\n      <td>0.318204</td>\n      <td>0.233780</td>\n      <td>0.428851</td>\n      <td>manu_gavassi</td>\n      <td>0.448016</td>\n      <td>0.559785</td>\n      <td>4785334</td>\n      <td>0.551039</td>\n      <td>30069</td>\n      <td>0.4251</td>\n      <td>42943</td>\n      <td>0.510675</td>\n    </tr>\n    <tr>\n      <th>27</th>\n      <td>10</td>\n      <td>3304</td>\n      <td>0.369426</td>\n      <td>0.282518</td>\n      <td>0.111922</td>\n      <td>mari</td>\n      <td>0.348057</td>\n      <td>0.152072</td>\n      <td>269733</td>\n      <td>0.096234</td>\n      <td>2982</td>\n      <td>0.0076</td>\n      <td>19694</td>\n      <td>0.286523</td>\n    </tr>\n    <tr>\n      <th>28</th>\n      <td>10</td>\n      <td>95402</td>\n      <td>0.455623</td>\n      <td>0.160907</td>\n      <td>0.459226</td>\n      <td>felipe_prior</td>\n      <td>0.383470</td>\n      <td>0.288144</td>\n      <td>642881</td>\n      <td>0.352728</td>\n      <td>12535</td>\n      <td>0.5673</td>\n      <td>57998</td>\n      <td>0.515985</td>\n    </tr>\n  </tbody>\n</table>\n</div>"
     },
     "metadata": {},
     "execution_count": 62
    }
   ],
   "source": [
    "summary_df"
   ]
  },
  {
   "cell_type": "code",
   "execution_count": null,
   "metadata": {},
   "outputs": [],
   "source": []
  }
 ]
}