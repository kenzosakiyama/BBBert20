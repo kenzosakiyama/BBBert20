{
 "nbformat": 4,
 "nbformat_minor": 2,
 "metadata": {
  "language_info": {
   "name": "python",
   "codemirror_mode": {
    "name": "ipython",
    "version": 3
   },
   "version": "3.6.9-final"
  },
  "orig_nbformat": 2,
  "file_extension": ".py",
  "mimetype": "text/x-python",
  "name": "python",
  "npconvert_exporter": "python",
  "pygments_lexer": "ipython3",
  "version": 3,
  "kernelspec": {
   "name": "python36964bitbertvirtualenv054cbb15ab924922a35a349b12e89805",
   "display_name": "Python 3.6.9 64-bit ('bert': virtualenv)"
  }
 },
 "cells": [
  {
   "cell_type": "markdown",
   "metadata": {},
   "source": [
    "# Experimentos baseados em regressão utiliando Árvores de Decisão"
   ]
  },
  {
   "cell_type": "markdown",
   "metadata": {},
   "source": [
    "- Utilizando cada paredão como teste e avaliando com holdout."
   ]
  },
  {
   "cell_type": "code",
   "execution_count": 1,
   "metadata": {},
   "outputs": [],
   "source": [
    "import pandas as pd \n",
    "import numpy as np \n",
    "from regression_utils import *\n",
    "from sklearn.ensemble import RandomForestRegressor"
   ]
  },
  {
   "cell_type": "code",
   "execution_count": 2,
   "metadata": {},
   "outputs": [],
   "source": [
    "REMOVE = [\"positivos\", \"neutros\", \"negativos\", \"likes\", \"retweets\", \"day2\", \"day3\"]"
   ]
  },
  {
   "cell_type": "code",
   "execution_count": 3,
   "metadata": {},
   "outputs": [],
   "source": [
    "NORMALIZE = False\n",
    "ESTIMATORS = 1000"
   ]
  },
  {
   "cell_type": "code",
   "execution_count": 4,
   "metadata": {},
   "outputs": [],
   "source": [
    "summary_df = pd.DataFrame(columns=set(COLUMNS) - set(REMOVE))"
   ]
  },
  {
   "cell_type": "markdown",
   "metadata": {},
   "source": [
    "# Paredao 1"
   ]
  },
  {
   "cell_type": "code",
   "execution_count": 5,
   "metadata": {},
   "outputs": [],
   "source": [
    "train_df, test_df = get_train_test(1, normalize=NORMALIZE, drop_columns=REMOVE)"
   ]
  },
  {
   "cell_type": "code",
   "execution_count": 6,
   "metadata": {},
   "outputs": [
    {
     "output_type": "execute_result",
     "data": {
      "text/plain": "   paredao            nome  positivos_individual_pct  neutros_individual_pct  \\\n24       1  bianca_andrade                  0.361998                 0.37108   \n25       1    lucas_chumbo                  0.178042                 0.35204   \n\n    negativos_individual_pct  positivos_global_pct  neutros_global_pct  \\\n24                  0.266922              0.483052            0.326345   \n25                  0.469919              0.516948            0.673655   \n\n    negativos_global_pct   day1  seguidores  rejeicao  \n24               0.20701   5849      411880    0.2446  \n25               0.79299  22759       12014    0.7594  ",
      "text/html": "<div>\n<style scoped>\n    .dataframe tbody tr th:only-of-type {\n        vertical-align: middle;\n    }\n\n    .dataframe tbody tr th {\n        vertical-align: top;\n    }\n\n    .dataframe thead th {\n        text-align: right;\n    }\n</style>\n<table border=\"1\" class=\"dataframe\">\n  <thead>\n    <tr style=\"text-align: right;\">\n      <th></th>\n      <th>paredao</th>\n      <th>nome</th>\n      <th>positivos_individual_pct</th>\n      <th>neutros_individual_pct</th>\n      <th>negativos_individual_pct</th>\n      <th>positivos_global_pct</th>\n      <th>neutros_global_pct</th>\n      <th>negativos_global_pct</th>\n      <th>day1</th>\n      <th>seguidores</th>\n      <th>rejeicao</th>\n    </tr>\n  </thead>\n  <tbody>\n    <tr>\n      <th>24</th>\n      <td>1</td>\n      <td>bianca_andrade</td>\n      <td>0.361998</td>\n      <td>0.37108</td>\n      <td>0.266922</td>\n      <td>0.483052</td>\n      <td>0.326345</td>\n      <td>0.20701</td>\n      <td>5849</td>\n      <td>411880</td>\n      <td>0.2446</td>\n    </tr>\n    <tr>\n      <th>25</th>\n      <td>1</td>\n      <td>lucas_chumbo</td>\n      <td>0.178042</td>\n      <td>0.35204</td>\n      <td>0.469919</td>\n      <td>0.516948</td>\n      <td>0.673655</td>\n      <td>0.79299</td>\n      <td>22759</td>\n      <td>12014</td>\n      <td>0.7594</td>\n    </tr>\n  </tbody>\n</table>\n</div>"
     },
     "metadata": {},
     "execution_count": 6
    }
   ],
   "source": [
    "test_df"
   ]
  },
  {
   "cell_type": "code",
   "execution_count": 7,
   "metadata": {},
   "outputs": [],
   "source": [
    "x_train, y_train = train_df.drop(columns=[\"paredao\", \"nome\", \"rejeicao\"], axis=1).to_numpy(), train_df.drop(columns=train_df.columns[:-1], axis=1).to_numpy()\n",
    "x_test, y_test = test_df.drop(columns=[\"paredao\", \"nome\", \"rejeicao\"], axis=1).to_numpy(), test_df.drop(columns=train_df.columns[:-1], axis=1).to_numpy()"
   ]
  },
  {
   "cell_type": "code",
   "execution_count": 8,
   "metadata": {},
   "outputs": [],
   "source": [
    "regressor = RandomForestRegressor(n_estimators=ESTIMATORS)"
   ]
  },
  {
   "cell_type": "code",
   "execution_count": 9,
   "metadata": {},
   "outputs": [],
   "source": [
    "_ = regressor.fit(x_train, y_train)"
   ]
  },
  {
   "cell_type": "code",
   "execution_count": 10,
   "metadata": {},
   "outputs": [],
   "source": [
    "prediction = regressor.predict(x_test)\n",
    "test_df[\"predicao\"] = prediction\n",
    "summary_df = summary_df.append(test_df, ignore_index=True, sort=False)"
   ]
  },
  {
   "cell_type": "code",
   "execution_count": 11,
   "metadata": {},
   "outputs": [
    {
     "output_type": "execute_result",
     "data": {
      "text/plain": "   paredao            nome  positivos_individual_pct  neutros_individual_pct  \\\n25       1    lucas_chumbo                  0.178042                 0.35204   \n24       1  bianca_andrade                  0.361998                 0.37108   \n\n    negativos_individual_pct  positivos_global_pct  neutros_global_pct  \\\n25                  0.469919              0.516948            0.673655   \n24                  0.266922              0.483052            0.326345   \n\n    negativos_global_pct   day1  seguidores  rejeicao  predicao  \n25               0.79299  22759       12014    0.7594  0.631088  \n24               0.20701   5849      411880    0.2446  0.117765  ",
      "text/html": "<div>\n<style scoped>\n    .dataframe tbody tr th:only-of-type {\n        vertical-align: middle;\n    }\n\n    .dataframe tbody tr th {\n        vertical-align: top;\n    }\n\n    .dataframe thead th {\n        text-align: right;\n    }\n</style>\n<table border=\"1\" class=\"dataframe\">\n  <thead>\n    <tr style=\"text-align: right;\">\n      <th></th>\n      <th>paredao</th>\n      <th>nome</th>\n      <th>positivos_individual_pct</th>\n      <th>neutros_individual_pct</th>\n      <th>negativos_individual_pct</th>\n      <th>positivos_global_pct</th>\n      <th>neutros_global_pct</th>\n      <th>negativos_global_pct</th>\n      <th>day1</th>\n      <th>seguidores</th>\n      <th>rejeicao</th>\n      <th>predicao</th>\n    </tr>\n  </thead>\n  <tbody>\n    <tr>\n      <th>25</th>\n      <td>1</td>\n      <td>lucas_chumbo</td>\n      <td>0.178042</td>\n      <td>0.35204</td>\n      <td>0.469919</td>\n      <td>0.516948</td>\n      <td>0.673655</td>\n      <td>0.79299</td>\n      <td>22759</td>\n      <td>12014</td>\n      <td>0.7594</td>\n      <td>0.631088</td>\n    </tr>\n    <tr>\n      <th>24</th>\n      <td>1</td>\n      <td>bianca_andrade</td>\n      <td>0.361998</td>\n      <td>0.37108</td>\n      <td>0.266922</td>\n      <td>0.483052</td>\n      <td>0.326345</td>\n      <td>0.20701</td>\n      <td>5849</td>\n      <td>411880</td>\n      <td>0.2446</td>\n      <td>0.117765</td>\n    </tr>\n  </tbody>\n</table>\n</div>"
     },
     "metadata": {},
     "execution_count": 11
    }
   ],
   "source": [
    "test_df.sort_values(by=\"predicao\", ascending=False)"
   ]
  },
  {
   "cell_type": "markdown",
   "metadata": {},
   "source": [
    "# Paredao 2"
   ]
  },
  {
   "cell_type": "code",
   "execution_count": 12,
   "metadata": {},
   "outputs": [
    {
     "output_type": "execute_result",
     "data": {
      "text/plain": "   paredao    nome  positivos_individual_pct  neutros_individual_pct  \\\n20       2    babu                  0.300946                0.397872   \n21       2  petrix                  0.146594                0.339433   \n22       2   pyong                  0.414681                0.316993   \n23       2  hadson                  0.147875                0.309531   \n\n    negativos_individual_pct  positivos_global_pct  neutros_global_pct  \\\n20                  0.301182              0.067775            0.054604   \n21                  0.513974              0.316781            0.446991   \n22                  0.268326              0.353997            0.164906   \n23                  0.542595              0.261447            0.333499   \n\n    negativos_global_pct   day1  seguidores  rejeicao  \n20              0.028657   5606      325345    0.0044  \n21              0.469254  46679       22414    0.8027  \n22              0.096777  12527     1431039    0.0066  \n23              0.405312  25263       10207    0.1863  ",
      "text/html": "<div>\n<style scoped>\n    .dataframe tbody tr th:only-of-type {\n        vertical-align: middle;\n    }\n\n    .dataframe tbody tr th {\n        vertical-align: top;\n    }\n\n    .dataframe thead th {\n        text-align: right;\n    }\n</style>\n<table border=\"1\" class=\"dataframe\">\n  <thead>\n    <tr style=\"text-align: right;\">\n      <th></th>\n      <th>paredao</th>\n      <th>nome</th>\n      <th>positivos_individual_pct</th>\n      <th>neutros_individual_pct</th>\n      <th>negativos_individual_pct</th>\n      <th>positivos_global_pct</th>\n      <th>neutros_global_pct</th>\n      <th>negativos_global_pct</th>\n      <th>day1</th>\n      <th>seguidores</th>\n      <th>rejeicao</th>\n    </tr>\n  </thead>\n  <tbody>\n    <tr>\n      <th>20</th>\n      <td>2</td>\n      <td>babu</td>\n      <td>0.300946</td>\n      <td>0.397872</td>\n      <td>0.301182</td>\n      <td>0.067775</td>\n      <td>0.054604</td>\n      <td>0.028657</td>\n      <td>5606</td>\n      <td>325345</td>\n      <td>0.0044</td>\n    </tr>\n    <tr>\n      <th>21</th>\n      <td>2</td>\n      <td>petrix</td>\n      <td>0.146594</td>\n      <td>0.339433</td>\n      <td>0.513974</td>\n      <td>0.316781</td>\n      <td>0.446991</td>\n      <td>0.469254</td>\n      <td>46679</td>\n      <td>22414</td>\n      <td>0.8027</td>\n    </tr>\n    <tr>\n      <th>22</th>\n      <td>2</td>\n      <td>pyong</td>\n      <td>0.414681</td>\n      <td>0.316993</td>\n      <td>0.268326</td>\n      <td>0.353997</td>\n      <td>0.164906</td>\n      <td>0.096777</td>\n      <td>12527</td>\n      <td>1431039</td>\n      <td>0.0066</td>\n    </tr>\n    <tr>\n      <th>23</th>\n      <td>2</td>\n      <td>hadson</td>\n      <td>0.147875</td>\n      <td>0.309531</td>\n      <td>0.542595</td>\n      <td>0.261447</td>\n      <td>0.333499</td>\n      <td>0.405312</td>\n      <td>25263</td>\n      <td>10207</td>\n      <td>0.1863</td>\n    </tr>\n  </tbody>\n</table>\n</div>"
     },
     "metadata": {},
     "execution_count": 12
    }
   ],
   "source": [
    "train_df, test_df = get_train_test(2, normalize=NORMALIZE, drop_columns=REMOVE)\n",
    "test_df\n",
    ""
   ]
  },
  {
   "cell_type": "code",
   "execution_count": 13,
   "metadata": {},
   "outputs": [],
   "source": [
    "x_train, y_train = train_df.drop(columns=[\"paredao\", \"nome\", \"rejeicao\"], axis=1).to_numpy(), train_df.drop(columns=train_df.columns[:-1], axis=1).to_numpy()\n",
    "x_test, y_test = test_df.drop(columns=[\"paredao\", \"nome\", \"rejeicao\"], axis=1).to_numpy(), test_df.drop(columns=train_df.columns[:-1], axis=1).to_numpy()"
   ]
  },
  {
   "cell_type": "code",
   "execution_count": 14,
   "metadata": {},
   "outputs": [],
   "source": [
    "regressor = RandomForestRegressor(n_estimators=ESTIMATORS)"
   ]
  },
  {
   "cell_type": "code",
   "execution_count": 15,
   "metadata": {},
   "outputs": [],
   "source": [
    "_ = regressor.fit(x_train, y_train)\n",
    ""
   ]
  },
  {
   "cell_type": "code",
   "execution_count": 16,
   "metadata": {},
   "outputs": [],
   "source": [
    "prediction = regressor.predict(x_test)\n",
    "test_df[\"predicao\"] = prediction\n",
    "summary_df = summary_df.append(test_df, ignore_index=True, sort=False)\n",
    "\n",
    ""
   ]
  },
  {
   "cell_type": "code",
   "execution_count": 17,
   "metadata": {},
   "outputs": [
    {
     "output_type": "execute_result",
     "data": {
      "text/plain": "   paredao    nome  positivos_individual_pct  neutros_individual_pct  \\\n21       2  petrix                  0.146594                0.339433   \n23       2  hadson                  0.147875                0.309531   \n20       2    babu                  0.300946                0.397872   \n22       2   pyong                  0.414681                0.316993   \n\n    negativos_individual_pct  positivos_global_pct  neutros_global_pct  \\\n21                  0.513974              0.316781            0.446991   \n23                  0.542595              0.261447            0.333499   \n20                  0.301182              0.067775            0.054604   \n22                  0.268326              0.353997            0.164906   \n\n    negativos_global_pct   day1  seguidores  rejeicao  predicao  \n21              0.469254  46679       22414    0.8027  0.675112  \n23              0.405312  25263       10207    0.1863  0.547605  \n20              0.028657   5606      325345    0.0044  0.270738  \n22              0.096777  12527     1431039    0.0066  0.100906  ",
      "text/html": "<div>\n<style scoped>\n    .dataframe tbody tr th:only-of-type {\n        vertical-align: middle;\n    }\n\n    .dataframe tbody tr th {\n        vertical-align: top;\n    }\n\n    .dataframe thead th {\n        text-align: right;\n    }\n</style>\n<table border=\"1\" class=\"dataframe\">\n  <thead>\n    <tr style=\"text-align: right;\">\n      <th></th>\n      <th>paredao</th>\n      <th>nome</th>\n      <th>positivos_individual_pct</th>\n      <th>neutros_individual_pct</th>\n      <th>negativos_individual_pct</th>\n      <th>positivos_global_pct</th>\n      <th>neutros_global_pct</th>\n      <th>negativos_global_pct</th>\n      <th>day1</th>\n      <th>seguidores</th>\n      <th>rejeicao</th>\n      <th>predicao</th>\n    </tr>\n  </thead>\n  <tbody>\n    <tr>\n      <th>21</th>\n      <td>2</td>\n      <td>petrix</td>\n      <td>0.146594</td>\n      <td>0.339433</td>\n      <td>0.513974</td>\n      <td>0.316781</td>\n      <td>0.446991</td>\n      <td>0.469254</td>\n      <td>46679</td>\n      <td>22414</td>\n      <td>0.8027</td>\n      <td>0.675112</td>\n    </tr>\n    <tr>\n      <th>23</th>\n      <td>2</td>\n      <td>hadson</td>\n      <td>0.147875</td>\n      <td>0.309531</td>\n      <td>0.542595</td>\n      <td>0.261447</td>\n      <td>0.333499</td>\n      <td>0.405312</td>\n      <td>25263</td>\n      <td>10207</td>\n      <td>0.1863</td>\n      <td>0.547605</td>\n    </tr>\n    <tr>\n      <th>20</th>\n      <td>2</td>\n      <td>babu</td>\n      <td>0.300946</td>\n      <td>0.397872</td>\n      <td>0.301182</td>\n      <td>0.067775</td>\n      <td>0.054604</td>\n      <td>0.028657</td>\n      <td>5606</td>\n      <td>325345</td>\n      <td>0.0044</td>\n      <td>0.270738</td>\n    </tr>\n    <tr>\n      <th>22</th>\n      <td>2</td>\n      <td>pyong</td>\n      <td>0.414681</td>\n      <td>0.316993</td>\n      <td>0.268326</td>\n      <td>0.353997</td>\n      <td>0.164906</td>\n      <td>0.096777</td>\n      <td>12527</td>\n      <td>1431039</td>\n      <td>0.0066</td>\n      <td>0.100906</td>\n    </tr>\n  </tbody>\n</table>\n</div>"
     },
     "metadata": {},
     "execution_count": 17
    }
   ],
   "source": [
    "test_df.sort_values(by=\"predicao\", ascending=False)"
   ]
  },
  {
   "cell_type": "markdown",
   "metadata": {},
   "source": [
    "# Paredao 3"
   ]
  },
  {
   "cell_type": "code",
   "execution_count": 18,
   "metadata": {},
   "outputs": [
    {
     "output_type": "execute_result",
     "data": {
      "text/plain": "   paredao          nome  positivos_individual_pct  neutros_individual_pct  \\\n9        3  felipe_prior                  0.281135                0.369039   \n10       3        hadson                  0.208189                0.437694   \n\n    negativos_individual_pct  positivos_global_pct  neutros_global_pct  \\\n9                   0.349826               0.54644            0.429299   \n10                  0.354117               0.45356            0.570701   \n\n    negativos_global_pct  day1  seguidores  rejeicao  \n9               0.468471  1138      204031    0.2029  \n10              0.531529  1903       10207    0.7971  ",
      "text/html": "<div>\n<style scoped>\n    .dataframe tbody tr th:only-of-type {\n        vertical-align: middle;\n    }\n\n    .dataframe tbody tr th {\n        vertical-align: top;\n    }\n\n    .dataframe thead th {\n        text-align: right;\n    }\n</style>\n<table border=\"1\" class=\"dataframe\">\n  <thead>\n    <tr style=\"text-align: right;\">\n      <th></th>\n      <th>paredao</th>\n      <th>nome</th>\n      <th>positivos_individual_pct</th>\n      <th>neutros_individual_pct</th>\n      <th>negativos_individual_pct</th>\n      <th>positivos_global_pct</th>\n      <th>neutros_global_pct</th>\n      <th>negativos_global_pct</th>\n      <th>day1</th>\n      <th>seguidores</th>\n      <th>rejeicao</th>\n    </tr>\n  </thead>\n  <tbody>\n    <tr>\n      <th>9</th>\n      <td>3</td>\n      <td>felipe_prior</td>\n      <td>0.281135</td>\n      <td>0.369039</td>\n      <td>0.349826</td>\n      <td>0.54644</td>\n      <td>0.429299</td>\n      <td>0.468471</td>\n      <td>1138</td>\n      <td>204031</td>\n      <td>0.2029</td>\n    </tr>\n    <tr>\n      <th>10</th>\n      <td>3</td>\n      <td>hadson</td>\n      <td>0.208189</td>\n      <td>0.437694</td>\n      <td>0.354117</td>\n      <td>0.45356</td>\n      <td>0.570701</td>\n      <td>0.531529</td>\n      <td>1903</td>\n      <td>10207</td>\n      <td>0.7971</td>\n    </tr>\n  </tbody>\n</table>\n</div>"
     },
     "metadata": {},
     "execution_count": 18
    }
   ],
   "source": [
    "train_df, test_df = get_train_test(3, normalize=NORMALIZE,  drop_columns=REMOVE)\n",
    "test_df\n",
    ""
   ]
  },
  {
   "cell_type": "code",
   "execution_count": 19,
   "metadata": {},
   "outputs": [],
   "source": [
    "x_train, y_train = train_df.drop(columns=[\"paredao\", \"nome\", \"rejeicao\"], axis=1).to_numpy(), train_df.drop(columns=train_df.columns[:-1], axis=1).to_numpy()\n",
    "x_test, y_test = test_df.drop(columns=[\"paredao\", \"nome\", \"rejeicao\"], axis=1).to_numpy(), test_df.drop(columns=train_df.columns[:-1], axis=1).to_numpy()"
   ]
  },
  {
   "cell_type": "code",
   "execution_count": 20,
   "metadata": {},
   "outputs": [],
   "source": [
    "regressor = RandomForestRegressor(n_estimators=ESTIMATORS)"
   ]
  },
  {
   "cell_type": "code",
   "execution_count": 21,
   "metadata": {},
   "outputs": [],
   "source": [
    "_ = regressor.fit(x_train, y_train)"
   ]
  },
  {
   "cell_type": "code",
   "execution_count": 22,
   "metadata": {},
   "outputs": [],
   "source": [
    "prediction = regressor.predict(x_test)\n",
    "test_df[\"predicao\"] = prediction\n",
    "summary_df = summary_df.append(test_df, ignore_index=True, sort=False)"
   ]
  },
  {
   "cell_type": "code",
   "execution_count": 23,
   "metadata": {},
   "outputs": [
    {
     "output_type": "execute_result",
     "data": {
      "text/plain": "   paredao          nome  positivos_individual_pct  neutros_individual_pct  \\\n10       3        hadson                  0.208189                0.437694   \n9        3  felipe_prior                  0.281135                0.369039   \n\n    negativos_individual_pct  positivos_global_pct  neutros_global_pct  \\\n10                  0.354117               0.45356            0.570701   \n9                   0.349826               0.54644            0.429299   \n\n    negativos_global_pct  day1  seguidores  rejeicao  predicao  \n10              0.531529  1903       10207    0.7971  0.618911  \n9               0.468471  1138      204031    0.2029  0.338467  ",
      "text/html": "<div>\n<style scoped>\n    .dataframe tbody tr th:only-of-type {\n        vertical-align: middle;\n    }\n\n    .dataframe tbody tr th {\n        vertical-align: top;\n    }\n\n    .dataframe thead th {\n        text-align: right;\n    }\n</style>\n<table border=\"1\" class=\"dataframe\">\n  <thead>\n    <tr style=\"text-align: right;\">\n      <th></th>\n      <th>paredao</th>\n      <th>nome</th>\n      <th>positivos_individual_pct</th>\n      <th>neutros_individual_pct</th>\n      <th>negativos_individual_pct</th>\n      <th>positivos_global_pct</th>\n      <th>neutros_global_pct</th>\n      <th>negativos_global_pct</th>\n      <th>day1</th>\n      <th>seguidores</th>\n      <th>rejeicao</th>\n      <th>predicao</th>\n    </tr>\n  </thead>\n  <tbody>\n    <tr>\n      <th>10</th>\n      <td>3</td>\n      <td>hadson</td>\n      <td>0.208189</td>\n      <td>0.437694</td>\n      <td>0.354117</td>\n      <td>0.45356</td>\n      <td>0.570701</td>\n      <td>0.531529</td>\n      <td>1903</td>\n      <td>10207</td>\n      <td>0.7971</td>\n      <td>0.618911</td>\n    </tr>\n    <tr>\n      <th>9</th>\n      <td>3</td>\n      <td>felipe_prior</td>\n      <td>0.281135</td>\n      <td>0.369039</td>\n      <td>0.349826</td>\n      <td>0.54644</td>\n      <td>0.429299</td>\n      <td>0.468471</td>\n      <td>1138</td>\n      <td>204031</td>\n      <td>0.2029</td>\n      <td>0.338467</td>\n    </tr>\n  </tbody>\n</table>\n</div>"
     },
     "metadata": {},
     "execution_count": 23
    }
   ],
   "source": [
    "test_df.sort_values(by=\"predicao\", ascending=False)"
   ]
  },
  {
   "cell_type": "markdown",
   "metadata": {},
   "source": [
    "# Paredao 4"
   ]
  },
  {
   "cell_type": "code",
   "execution_count": 24,
   "metadata": {},
   "outputs": [
    {
     "output_type": "execute_result",
     "data": {
      "text/plain": "   paredao         nome  positivos_individual_pct  neutros_individual_pct  \\\n29       4         babu                  0.185986                0.297259   \n30       4  victor_hugo                  0.227361                0.369350   \n31       4        lucas                  0.197421                0.291340   \n\n    negativos_individual_pct  positivos_global_pct  neutros_global_pct  \\\n29                  0.516754              0.311138            0.324375   \n30                  0.403289              0.129081            0.136781   \n31                  0.511239              0.559781            0.538845   \n\n    negativos_global_pct   day1  seguidores  rejeicao  \n29              0.339940  18271      325345    0.0130  \n30              0.090035   6845       14399    0.3608  \n31              0.570026  32223       23670    0.6262  ",
      "text/html": "<div>\n<style scoped>\n    .dataframe tbody tr th:only-of-type {\n        vertical-align: middle;\n    }\n\n    .dataframe tbody tr th {\n        vertical-align: top;\n    }\n\n    .dataframe thead th {\n        text-align: right;\n    }\n</style>\n<table border=\"1\" class=\"dataframe\">\n  <thead>\n    <tr style=\"text-align: right;\">\n      <th></th>\n      <th>paredao</th>\n      <th>nome</th>\n      <th>positivos_individual_pct</th>\n      <th>neutros_individual_pct</th>\n      <th>negativos_individual_pct</th>\n      <th>positivos_global_pct</th>\n      <th>neutros_global_pct</th>\n      <th>negativos_global_pct</th>\n      <th>day1</th>\n      <th>seguidores</th>\n      <th>rejeicao</th>\n    </tr>\n  </thead>\n  <tbody>\n    <tr>\n      <th>29</th>\n      <td>4</td>\n      <td>babu</td>\n      <td>0.185986</td>\n      <td>0.297259</td>\n      <td>0.516754</td>\n      <td>0.311138</td>\n      <td>0.324375</td>\n      <td>0.339940</td>\n      <td>18271</td>\n      <td>325345</td>\n      <td>0.0130</td>\n    </tr>\n    <tr>\n      <th>30</th>\n      <td>4</td>\n      <td>victor_hugo</td>\n      <td>0.227361</td>\n      <td>0.369350</td>\n      <td>0.403289</td>\n      <td>0.129081</td>\n      <td>0.136781</td>\n      <td>0.090035</td>\n      <td>6845</td>\n      <td>14399</td>\n      <td>0.3608</td>\n    </tr>\n    <tr>\n      <th>31</th>\n      <td>4</td>\n      <td>lucas</td>\n      <td>0.197421</td>\n      <td>0.291340</td>\n      <td>0.511239</td>\n      <td>0.559781</td>\n      <td>0.538845</td>\n      <td>0.570026</td>\n      <td>32223</td>\n      <td>23670</td>\n      <td>0.6262</td>\n    </tr>\n  </tbody>\n</table>\n</div>"
     },
     "metadata": {},
     "execution_count": 24
    }
   ],
   "source": [
    "train_df, test_df = get_train_test(4, normalize=NORMALIZE,  drop_columns=REMOVE)\n",
    "test_df\n",
    ""
   ]
  },
  {
   "cell_type": "code",
   "execution_count": 25,
   "metadata": {},
   "outputs": [],
   "source": [
    "x_train, y_train = train_df.drop(columns=[\"paredao\", \"nome\", \"rejeicao\"], axis=1).to_numpy(), train_df.drop(columns=train_df.columns[:-1], axis=1).to_numpy()\n",
    "x_test, y_test = test_df.drop(columns=[\"paredao\", \"nome\", \"rejeicao\"], axis=1).to_numpy(), test_df.drop(columns=train_df.columns[:-1], axis=1).to_numpy()"
   ]
  },
  {
   "cell_type": "code",
   "execution_count": 26,
   "metadata": {},
   "outputs": [],
   "source": [
    "regressor = RandomForestRegressor(n_estimators=ESTIMATORS)"
   ]
  },
  {
   "cell_type": "code",
   "execution_count": 27,
   "metadata": {},
   "outputs": [],
   "source": [
    "_ = regressor.fit(x_train, y_train)\n",
    ""
   ]
  },
  {
   "cell_type": "code",
   "execution_count": 28,
   "metadata": {},
   "outputs": [],
   "source": [
    "prediction = regressor.predict(x_test)\n",
    "test_df[\"predicao\"] = prediction\n",
    "summary_df = summary_df.append(test_df, ignore_index=True, sort=False)"
   ]
  },
  {
   "cell_type": "code",
   "execution_count": 29,
   "metadata": {},
   "outputs": [
    {
     "output_type": "execute_result",
     "data": {
      "text/plain": "   paredao         nome  positivos_individual_pct  neutros_individual_pct  \\\n31       4        lucas                  0.197421                0.291340   \n30       4  victor_hugo                  0.227361                0.369350   \n29       4         babu                  0.185986                0.297259   \n\n    negativos_individual_pct  positivos_global_pct  neutros_global_pct  \\\n31                  0.511239              0.559781            0.538845   \n30                  0.403289              0.129081            0.136781   \n29                  0.516754              0.311138            0.324375   \n\n    negativos_global_pct   day1  seguidores  rejeicao  predicao  \n31              0.570026  32223       23670    0.6262  0.636589  \n30              0.090035   6845       14399    0.3608  0.459053  \n29              0.339940  18271      325345    0.0130  0.285097  ",
      "text/html": "<div>\n<style scoped>\n    .dataframe tbody tr th:only-of-type {\n        vertical-align: middle;\n    }\n\n    .dataframe tbody tr th {\n        vertical-align: top;\n    }\n\n    .dataframe thead th {\n        text-align: right;\n    }\n</style>\n<table border=\"1\" class=\"dataframe\">\n  <thead>\n    <tr style=\"text-align: right;\">\n      <th></th>\n      <th>paredao</th>\n      <th>nome</th>\n      <th>positivos_individual_pct</th>\n      <th>neutros_individual_pct</th>\n      <th>negativos_individual_pct</th>\n      <th>positivos_global_pct</th>\n      <th>neutros_global_pct</th>\n      <th>negativos_global_pct</th>\n      <th>day1</th>\n      <th>seguidores</th>\n      <th>rejeicao</th>\n      <th>predicao</th>\n    </tr>\n  </thead>\n  <tbody>\n    <tr>\n      <th>31</th>\n      <td>4</td>\n      <td>lucas</td>\n      <td>0.197421</td>\n      <td>0.291340</td>\n      <td>0.511239</td>\n      <td>0.559781</td>\n      <td>0.538845</td>\n      <td>0.570026</td>\n      <td>32223</td>\n      <td>23670</td>\n      <td>0.6262</td>\n      <td>0.636589</td>\n    </tr>\n    <tr>\n      <th>30</th>\n      <td>4</td>\n      <td>victor_hugo</td>\n      <td>0.227361</td>\n      <td>0.369350</td>\n      <td>0.403289</td>\n      <td>0.129081</td>\n      <td>0.136781</td>\n      <td>0.090035</td>\n      <td>6845</td>\n      <td>14399</td>\n      <td>0.3608</td>\n      <td>0.459053</td>\n    </tr>\n    <tr>\n      <th>29</th>\n      <td>4</td>\n      <td>babu</td>\n      <td>0.185986</td>\n      <td>0.297259</td>\n      <td>0.516754</td>\n      <td>0.311138</td>\n      <td>0.324375</td>\n      <td>0.339940</td>\n      <td>18271</td>\n      <td>325345</td>\n      <td>0.0130</td>\n      <td>0.285097</td>\n    </tr>\n  </tbody>\n</table>\n</div>"
     },
     "metadata": {},
     "execution_count": 29
    }
   ],
   "source": [
    "test_df.sort_values(by=\"predicao\", ascending=False)"
   ]
  },
  {
   "cell_type": "markdown",
   "metadata": {},
   "source": [
    "# Paredao 5"
   ]
  },
  {
   "cell_type": "code",
   "execution_count": 30,
   "metadata": {},
   "outputs": [
    {
     "output_type": "execute_result",
     "data": {
      "text/plain": "  paredao            nome  positivos_individual_pct  neutros_individual_pct  \\\n3       5  bianca_andrade                  0.221844                0.422179   \n4       5       flayslene                  0.181474                0.328450   \n5       5    felipe_prior                  0.146252                0.282867   \n\n   negativos_individual_pct  positivos_global_pct  neutros_global_pct  \\\n3                  0.355977              0.370866            0.371940   \n4                  0.490076              0.201575            0.192263   \n5                  0.570881              0.427559            0.435797   \n\n   negativos_global_pct  day1  seguidores  rejeicao  \n3              0.211900  1998      411880    0.5309  \n4              0.193832  1935      104138    0.1764  \n5              0.594268  3101      204031    0.2927  ",
      "text/html": "<div>\n<style scoped>\n    .dataframe tbody tr th:only-of-type {\n        vertical-align: middle;\n    }\n\n    .dataframe tbody tr th {\n        vertical-align: top;\n    }\n\n    .dataframe thead th {\n        text-align: right;\n    }\n</style>\n<table border=\"1\" class=\"dataframe\">\n  <thead>\n    <tr style=\"text-align: right;\">\n      <th></th>\n      <th>paredao</th>\n      <th>nome</th>\n      <th>positivos_individual_pct</th>\n      <th>neutros_individual_pct</th>\n      <th>negativos_individual_pct</th>\n      <th>positivos_global_pct</th>\n      <th>neutros_global_pct</th>\n      <th>negativos_global_pct</th>\n      <th>day1</th>\n      <th>seguidores</th>\n      <th>rejeicao</th>\n    </tr>\n  </thead>\n  <tbody>\n    <tr>\n      <th>3</th>\n      <td>5</td>\n      <td>bianca_andrade</td>\n      <td>0.221844</td>\n      <td>0.422179</td>\n      <td>0.355977</td>\n      <td>0.370866</td>\n      <td>0.371940</td>\n      <td>0.211900</td>\n      <td>1998</td>\n      <td>411880</td>\n      <td>0.5309</td>\n    </tr>\n    <tr>\n      <th>4</th>\n      <td>5</td>\n      <td>flayslene</td>\n      <td>0.181474</td>\n      <td>0.328450</td>\n      <td>0.490076</td>\n      <td>0.201575</td>\n      <td>0.192263</td>\n      <td>0.193832</td>\n      <td>1935</td>\n      <td>104138</td>\n      <td>0.1764</td>\n    </tr>\n    <tr>\n      <th>5</th>\n      <td>5</td>\n      <td>felipe_prior</td>\n      <td>0.146252</td>\n      <td>0.282867</td>\n      <td>0.570881</td>\n      <td>0.427559</td>\n      <td>0.435797</td>\n      <td>0.594268</td>\n      <td>3101</td>\n      <td>204031</td>\n      <td>0.2927</td>\n    </tr>\n  </tbody>\n</table>\n</div>"
     },
     "metadata": {},
     "execution_count": 30
    }
   ],
   "source": [
    "train_df, test_df = get_train_test(5, normalize=NORMALIZE,  drop_columns=REMOVE)\n",
    "test_df\n",
    ""
   ]
  },
  {
   "cell_type": "code",
   "execution_count": 31,
   "metadata": {},
   "outputs": [],
   "source": [
    "x_train, y_train = train_df.drop(columns=[\"paredao\", \"nome\", \"rejeicao\"], axis=1).to_numpy(), train_df.drop(columns=train_df.columns[:-1], axis=1).to_numpy()\n",
    "x_test, y_test = test_df.drop(columns=[\"paredao\", \"nome\", \"rejeicao\"], axis=1).to_numpy(), test_df.drop(columns=train_df.columns[:-1], axis=1).to_numpy()"
   ]
  },
  {
   "cell_type": "code",
   "execution_count": 32,
   "metadata": {},
   "outputs": [],
   "source": [
    "regressor = RandomForestRegressor(n_estimators=ESTIMATORS)"
   ]
  },
  {
   "cell_type": "code",
   "execution_count": 33,
   "metadata": {},
   "outputs": [],
   "source": [
    "_ = regressor.fit(x_train, y_train)\n",
    ""
   ]
  },
  {
   "cell_type": "code",
   "execution_count": 34,
   "metadata": {},
   "outputs": [],
   "source": [
    "prediction = regressor.predict(x_test)\n",
    "test_df[\"predicao\"] = prediction\n",
    "summary_df = summary_df.append(test_df, ignore_index=True, sort=False)"
   ]
  },
  {
   "cell_type": "code",
   "execution_count": 35,
   "metadata": {},
   "outputs": [
    {
     "output_type": "execute_result",
     "data": {
      "text/plain": "  paredao            nome  positivos_individual_pct  neutros_individual_pct  \\\n5       5    felipe_prior                  0.146252                0.282867   \n4       5       flayslene                  0.181474                0.328450   \n3       5  bianca_andrade                  0.221844                0.422179   \n\n   negativos_individual_pct  positivos_global_pct  neutros_global_pct  \\\n5                  0.570881              0.427559            0.435797   \n4                  0.490076              0.201575            0.192263   \n3                  0.355977              0.370866            0.371940   \n\n   negativos_global_pct  day1  seguidores  rejeicao  predicao  \n5              0.594268  3101      204031    0.2927  0.356004  \n4              0.193832  1935      104138    0.1764  0.231017  \n3              0.211900  1998      411880    0.5309  0.229450  ",
      "text/html": "<div>\n<style scoped>\n    .dataframe tbody tr th:only-of-type {\n        vertical-align: middle;\n    }\n\n    .dataframe tbody tr th {\n        vertical-align: top;\n    }\n\n    .dataframe thead th {\n        text-align: right;\n    }\n</style>\n<table border=\"1\" class=\"dataframe\">\n  <thead>\n    <tr style=\"text-align: right;\">\n      <th></th>\n      <th>paredao</th>\n      <th>nome</th>\n      <th>positivos_individual_pct</th>\n      <th>neutros_individual_pct</th>\n      <th>negativos_individual_pct</th>\n      <th>positivos_global_pct</th>\n      <th>neutros_global_pct</th>\n      <th>negativos_global_pct</th>\n      <th>day1</th>\n      <th>seguidores</th>\n      <th>rejeicao</th>\n      <th>predicao</th>\n    </tr>\n  </thead>\n  <tbody>\n    <tr>\n      <th>5</th>\n      <td>5</td>\n      <td>felipe_prior</td>\n      <td>0.146252</td>\n      <td>0.282867</td>\n      <td>0.570881</td>\n      <td>0.427559</td>\n      <td>0.435797</td>\n      <td>0.594268</td>\n      <td>3101</td>\n      <td>204031</td>\n      <td>0.2927</td>\n      <td>0.356004</td>\n    </tr>\n    <tr>\n      <th>4</th>\n      <td>5</td>\n      <td>flayslene</td>\n      <td>0.181474</td>\n      <td>0.328450</td>\n      <td>0.490076</td>\n      <td>0.201575</td>\n      <td>0.192263</td>\n      <td>0.193832</td>\n      <td>1935</td>\n      <td>104138</td>\n      <td>0.1764</td>\n      <td>0.231017</td>\n    </tr>\n    <tr>\n      <th>3</th>\n      <td>5</td>\n      <td>bianca_andrade</td>\n      <td>0.221844</td>\n      <td>0.422179</td>\n      <td>0.355977</td>\n      <td>0.370866</td>\n      <td>0.371940</td>\n      <td>0.211900</td>\n      <td>1998</td>\n      <td>411880</td>\n      <td>0.5309</td>\n      <td>0.229450</td>\n    </tr>\n  </tbody>\n</table>\n</div>"
     },
     "metadata": {},
     "execution_count": 35
    }
   ],
   "source": [
    "test_df.sort_values(by=\"predicao\", ascending=False)"
   ]
  },
  {
   "cell_type": "markdown",
   "metadata": {},
   "source": [
    "# Paredao 6"
   ]
  },
  {
   "cell_type": "code",
   "execution_count": 36,
   "metadata": {},
   "outputs": [
    {
     "output_type": "execute_result",
     "data": {
      "text/plain": "  paredao             nome  positivos_individual_pct  neutros_individual_pct  \\\n0       6  gizelly_bicalho                  0.387272                0.342758   \n1       6        guilherme                  0.152063                0.253358   \n2       6            pyong                  0.209643                0.271063   \n\n   negativos_individual_pct  positivos_global_pct  neutros_global_pct  \\\n0                  0.269970              0.342739            0.242732   \n1                  0.594579              0.258715            0.344924   \n2                  0.519294              0.398546            0.412345   \n\n   negativos_global_pct   day1  seguidores  rejeicao  \n0              0.106771  20904      234977    0.0064  \n1              0.452061  49438      103421    0.5607  \n2              0.441168  38968     1431039    0.4329  ",
      "text/html": "<div>\n<style scoped>\n    .dataframe tbody tr th:only-of-type {\n        vertical-align: middle;\n    }\n\n    .dataframe tbody tr th {\n        vertical-align: top;\n    }\n\n    .dataframe thead th {\n        text-align: right;\n    }\n</style>\n<table border=\"1\" class=\"dataframe\">\n  <thead>\n    <tr style=\"text-align: right;\">\n      <th></th>\n      <th>paredao</th>\n      <th>nome</th>\n      <th>positivos_individual_pct</th>\n      <th>neutros_individual_pct</th>\n      <th>negativos_individual_pct</th>\n      <th>positivos_global_pct</th>\n      <th>neutros_global_pct</th>\n      <th>negativos_global_pct</th>\n      <th>day1</th>\n      <th>seguidores</th>\n      <th>rejeicao</th>\n    </tr>\n  </thead>\n  <tbody>\n    <tr>\n      <th>0</th>\n      <td>6</td>\n      <td>gizelly_bicalho</td>\n      <td>0.387272</td>\n      <td>0.342758</td>\n      <td>0.269970</td>\n      <td>0.342739</td>\n      <td>0.242732</td>\n      <td>0.106771</td>\n      <td>20904</td>\n      <td>234977</td>\n      <td>0.0064</td>\n    </tr>\n    <tr>\n      <th>1</th>\n      <td>6</td>\n      <td>guilherme</td>\n      <td>0.152063</td>\n      <td>0.253358</td>\n      <td>0.594579</td>\n      <td>0.258715</td>\n      <td>0.344924</td>\n      <td>0.452061</td>\n      <td>49438</td>\n      <td>103421</td>\n      <td>0.5607</td>\n    </tr>\n    <tr>\n      <th>2</th>\n      <td>6</td>\n      <td>pyong</td>\n      <td>0.209643</td>\n      <td>0.271063</td>\n      <td>0.519294</td>\n      <td>0.398546</td>\n      <td>0.412345</td>\n      <td>0.441168</td>\n      <td>38968</td>\n      <td>1431039</td>\n      <td>0.4329</td>\n    </tr>\n  </tbody>\n</table>\n</div>"
     },
     "metadata": {},
     "execution_count": 36
    }
   ],
   "source": [
    "train_df, test_df = get_train_test(6, normalize=NORMALIZE,  drop_columns=REMOVE)\n",
    "test_df\n",
    ""
   ]
  },
  {
   "cell_type": "code",
   "execution_count": 37,
   "metadata": {},
   "outputs": [],
   "source": [
    "x_train, y_train = train_df.drop(columns=[\"paredao\", \"nome\", \"rejeicao\"], axis=1).to_numpy(), train_df.drop(columns=train_df.columns[:-1], axis=1).to_numpy()\n",
    "x_test, y_test = test_df.drop(columns=[\"paredao\", \"nome\", \"rejeicao\"], axis=1).to_numpy(), test_df.drop(columns=train_df.columns[:-1], axis=1).to_numpy()"
   ]
  },
  {
   "cell_type": "code",
   "execution_count": 38,
   "metadata": {},
   "outputs": [],
   "source": [
    "regressor = RandomForestRegressor(n_estimators=ESTIMATORS)"
   ]
  },
  {
   "cell_type": "code",
   "execution_count": 39,
   "metadata": {},
   "outputs": [],
   "source": [
    "_ = regressor.fit(x_train, y_train)\n",
    ""
   ]
  },
  {
   "cell_type": "code",
   "execution_count": 40,
   "metadata": {},
   "outputs": [],
   "source": [
    "prediction = regressor.predict(x_test)\n",
    "test_df[\"predicao\"] = prediction\n",
    "summary_df = summary_df.append(test_df, ignore_index=True, sort=False)"
   ]
  },
  {
   "cell_type": "code",
   "execution_count": 41,
   "metadata": {},
   "outputs": [
    {
     "output_type": "execute_result",
     "data": {
      "text/plain": "  paredao             nome  positivos_individual_pct  neutros_individual_pct  \\\n2       6            pyong                  0.209643                0.271063   \n1       6        guilherme                  0.152063                0.253358   \n0       6  gizelly_bicalho                  0.387272                0.342758   \n\n   negativos_individual_pct  positivos_global_pct  neutros_global_pct  \\\n2                  0.519294              0.398546            0.412345   \n1                  0.594579              0.258715            0.344924   \n0                  0.269970              0.342739            0.242732   \n\n   negativos_global_pct   day1  seguidores  rejeicao  predicao  \n2              0.441168  38968     1431039    0.4329  0.415112  \n1              0.452061  49438      103421    0.5607  0.381964  \n0              0.106771  20904      234977    0.0064  0.112104  ",
      "text/html": "<div>\n<style scoped>\n    .dataframe tbody tr th:only-of-type {\n        vertical-align: middle;\n    }\n\n    .dataframe tbody tr th {\n        vertical-align: top;\n    }\n\n    .dataframe thead th {\n        text-align: right;\n    }\n</style>\n<table border=\"1\" class=\"dataframe\">\n  <thead>\n    <tr style=\"text-align: right;\">\n      <th></th>\n      <th>paredao</th>\n      <th>nome</th>\n      <th>positivos_individual_pct</th>\n      <th>neutros_individual_pct</th>\n      <th>negativos_individual_pct</th>\n      <th>positivos_global_pct</th>\n      <th>neutros_global_pct</th>\n      <th>negativos_global_pct</th>\n      <th>day1</th>\n      <th>seguidores</th>\n      <th>rejeicao</th>\n      <th>predicao</th>\n    </tr>\n  </thead>\n  <tbody>\n    <tr>\n      <th>2</th>\n      <td>6</td>\n      <td>pyong</td>\n      <td>0.209643</td>\n      <td>0.271063</td>\n      <td>0.519294</td>\n      <td>0.398546</td>\n      <td>0.412345</td>\n      <td>0.441168</td>\n      <td>38968</td>\n      <td>1431039</td>\n      <td>0.4329</td>\n      <td>0.415112</td>\n    </tr>\n    <tr>\n      <th>1</th>\n      <td>6</td>\n      <td>guilherme</td>\n      <td>0.152063</td>\n      <td>0.253358</td>\n      <td>0.594579</td>\n      <td>0.258715</td>\n      <td>0.344924</td>\n      <td>0.452061</td>\n      <td>49438</td>\n      <td>103421</td>\n      <td>0.5607</td>\n      <td>0.381964</td>\n    </tr>\n    <tr>\n      <th>0</th>\n      <td>6</td>\n      <td>gizelly_bicalho</td>\n      <td>0.387272</td>\n      <td>0.342758</td>\n      <td>0.269970</td>\n      <td>0.342739</td>\n      <td>0.242732</td>\n      <td>0.106771</td>\n      <td>20904</td>\n      <td>234977</td>\n      <td>0.0064</td>\n      <td>0.112104</td>\n    </tr>\n  </tbody>\n</table>\n</div>"
     },
     "metadata": {},
     "execution_count": 41
    }
   ],
   "source": [
    "test_df.sort_values(by=\"predicao\", ascending=False)"
   ]
  },
  {
   "cell_type": "markdown",
   "metadata": {},
   "source": [
    "# Paredao 7"
   ]
  },
  {
   "cell_type": "code",
   "execution_count": 42,
   "metadata": {},
   "outputs": [
    {
     "output_type": "execute_result",
     "data": {
      "text/plain": "  paredao          nome  positivos_individual_pct  neutros_individual_pct  \\\n6       7          babu                  0.318519                0.299199   \n7       7  manu_gavassi                  0.339061                0.350323   \n8       7   victor_hugo                  0.205263                0.359956   \n\n   negativos_individual_pct  positivos_global_pct  neutros_global_pct  \\\n6                  0.382283              0.456325            0.382861   \n7                  0.310616              0.364322            0.336216   \n8                  0.434781              0.179353            0.280923   \n\n   negativos_global_pct   day1  seguidores  rejeicao  \n6              0.434205  19044      325345    0.0460  \n7              0.264607  13372     4327060    0.1018  \n8              0.301188  14217       14399    0.8522  ",
      "text/html": "<div>\n<style scoped>\n    .dataframe tbody tr th:only-of-type {\n        vertical-align: middle;\n    }\n\n    .dataframe tbody tr th {\n        vertical-align: top;\n    }\n\n    .dataframe thead th {\n        text-align: right;\n    }\n</style>\n<table border=\"1\" class=\"dataframe\">\n  <thead>\n    <tr style=\"text-align: right;\">\n      <th></th>\n      <th>paredao</th>\n      <th>nome</th>\n      <th>positivos_individual_pct</th>\n      <th>neutros_individual_pct</th>\n      <th>negativos_individual_pct</th>\n      <th>positivos_global_pct</th>\n      <th>neutros_global_pct</th>\n      <th>negativos_global_pct</th>\n      <th>day1</th>\n      <th>seguidores</th>\n      <th>rejeicao</th>\n    </tr>\n  </thead>\n  <tbody>\n    <tr>\n      <th>6</th>\n      <td>7</td>\n      <td>babu</td>\n      <td>0.318519</td>\n      <td>0.299199</td>\n      <td>0.382283</td>\n      <td>0.456325</td>\n      <td>0.382861</td>\n      <td>0.434205</td>\n      <td>19044</td>\n      <td>325345</td>\n      <td>0.0460</td>\n    </tr>\n    <tr>\n      <th>7</th>\n      <td>7</td>\n      <td>manu_gavassi</td>\n      <td>0.339061</td>\n      <td>0.350323</td>\n      <td>0.310616</td>\n      <td>0.364322</td>\n      <td>0.336216</td>\n      <td>0.264607</td>\n      <td>13372</td>\n      <td>4327060</td>\n      <td>0.1018</td>\n    </tr>\n    <tr>\n      <th>8</th>\n      <td>7</td>\n      <td>victor_hugo</td>\n      <td>0.205263</td>\n      <td>0.359956</td>\n      <td>0.434781</td>\n      <td>0.179353</td>\n      <td>0.280923</td>\n      <td>0.301188</td>\n      <td>14217</td>\n      <td>14399</td>\n      <td>0.8522</td>\n    </tr>\n  </tbody>\n</table>\n</div>"
     },
     "metadata": {},
     "execution_count": 42
    }
   ],
   "source": [
    "train_df, test_df = get_train_test(7, normalize=NORMALIZE,  drop_columns=REMOVE)\n",
    "test_df\n",
    ""
   ]
  },
  {
   "cell_type": "code",
   "execution_count": 43,
   "metadata": {},
   "outputs": [],
   "source": [
    "x_train, y_train = train_df.drop(columns=[\"paredao\", \"nome\", \"rejeicao\"], axis=1).to_numpy(), train_df.drop(columns=train_df.columns[:-1], axis=1).to_numpy()\n",
    "x_test, y_test = test_df.drop(columns=[\"paredao\", \"nome\", \"rejeicao\"], axis=1).to_numpy(), test_df.drop(columns=train_df.columns[:-1], axis=1).to_numpy()"
   ]
  },
  {
   "cell_type": "code",
   "execution_count": 44,
   "metadata": {},
   "outputs": [],
   "source": [
    "regressor = RandomForestRegressor(n_estimators=ESTIMATORS)"
   ]
  },
  {
   "cell_type": "code",
   "execution_count": 45,
   "metadata": {},
   "outputs": [],
   "source": [
    "_ = regressor.fit(x_train, y_train)\n",
    "prediction = regressor.predict(x_test)\n",
    "test_df[\"predicao\"] = prediction\n",
    "summary_df = summary_df.append(test_df, ignore_index=True, sort=False)\n",
    "\n",
    ""
   ]
  },
  {
   "cell_type": "code",
   "execution_count": 46,
   "metadata": {},
   "outputs": [
    {
     "output_type": "execute_result",
     "data": {
      "text/plain": "  paredao          nome  positivos_individual_pct  neutros_individual_pct  \\\n6       7          babu                  0.318519                0.299199   \n8       7   victor_hugo                  0.205263                0.359956   \n7       7  manu_gavassi                  0.339061                0.350323   \n\n   negativos_individual_pct  positivos_global_pct  neutros_global_pct  \\\n6                  0.382283              0.456325            0.382861   \n8                  0.434781              0.179353            0.280923   \n7                  0.310616              0.364322            0.336216   \n\n   negativos_global_pct   day1  seguidores  rejeicao  predicao  \n6              0.434205  19044      325345    0.0460  0.319164  \n8              0.301188  14217       14399    0.8522  0.252890  \n7              0.264607  13372     4327060    0.1018  0.153959  ",
      "text/html": "<div>\n<style scoped>\n    .dataframe tbody tr th:only-of-type {\n        vertical-align: middle;\n    }\n\n    .dataframe tbody tr th {\n        vertical-align: top;\n    }\n\n    .dataframe thead th {\n        text-align: right;\n    }\n</style>\n<table border=\"1\" class=\"dataframe\">\n  <thead>\n    <tr style=\"text-align: right;\">\n      <th></th>\n      <th>paredao</th>\n      <th>nome</th>\n      <th>positivos_individual_pct</th>\n      <th>neutros_individual_pct</th>\n      <th>negativos_individual_pct</th>\n      <th>positivos_global_pct</th>\n      <th>neutros_global_pct</th>\n      <th>negativos_global_pct</th>\n      <th>day1</th>\n      <th>seguidores</th>\n      <th>rejeicao</th>\n      <th>predicao</th>\n    </tr>\n  </thead>\n  <tbody>\n    <tr>\n      <th>6</th>\n      <td>7</td>\n      <td>babu</td>\n      <td>0.318519</td>\n      <td>0.299199</td>\n      <td>0.382283</td>\n      <td>0.456325</td>\n      <td>0.382861</td>\n      <td>0.434205</td>\n      <td>19044</td>\n      <td>325345</td>\n      <td>0.0460</td>\n      <td>0.319164</td>\n    </tr>\n    <tr>\n      <th>8</th>\n      <td>7</td>\n      <td>victor_hugo</td>\n      <td>0.205263</td>\n      <td>0.359956</td>\n      <td>0.434781</td>\n      <td>0.179353</td>\n      <td>0.280923</td>\n      <td>0.301188</td>\n      <td>14217</td>\n      <td>14399</td>\n      <td>0.8522</td>\n      <td>0.252890</td>\n    </tr>\n    <tr>\n      <th>7</th>\n      <td>7</td>\n      <td>manu_gavassi</td>\n      <td>0.339061</td>\n      <td>0.350323</td>\n      <td>0.310616</td>\n      <td>0.364322</td>\n      <td>0.336216</td>\n      <td>0.264607</td>\n      <td>13372</td>\n      <td>4327060</td>\n      <td>0.1018</td>\n      <td>0.153959</td>\n    </tr>\n  </tbody>\n</table>\n</div>"
     },
     "metadata": {},
     "execution_count": 46
    }
   ],
   "source": [
    "test_df.sort_values(by=\"predicao\", ascending=False)"
   ]
  },
  {
   "cell_type": "markdown",
   "metadata": {},
   "source": [
    "# Paredao 8"
   ]
  },
  {
   "cell_type": "code",
   "execution_count": 47,
   "metadata": {},
   "outputs": [
    {
     "output_type": "execute_result",
     "data": {
      "text/plain": "   paredao   nome  positivos_individual_pct  neutros_individual_pct  \\\n17       8   babu                  0.238800                0.296049   \n18       8   rafa                  0.184500                0.264728   \n19       8  pyong                  0.211414                0.343538   \n\n    negativos_individual_pct  positivos_global_pct  neutros_global_pct  \\\n17                  0.465150              0.366229            0.314337   \n18                  0.550772              0.207663            0.206290   \n19                  0.445048              0.426107            0.479374   \n\n    negativos_global_pct   day1  seguidores  rejeicao  \n17              0.319854  29102      325345    0.4771  \n18              0.277956  27062      293473    0.0059  \n19              0.402191  42474     1431039    0.5170  ",
      "text/html": "<div>\n<style scoped>\n    .dataframe tbody tr th:only-of-type {\n        vertical-align: middle;\n    }\n\n    .dataframe tbody tr th {\n        vertical-align: top;\n    }\n\n    .dataframe thead th {\n        text-align: right;\n    }\n</style>\n<table border=\"1\" class=\"dataframe\">\n  <thead>\n    <tr style=\"text-align: right;\">\n      <th></th>\n      <th>paredao</th>\n      <th>nome</th>\n      <th>positivos_individual_pct</th>\n      <th>neutros_individual_pct</th>\n      <th>negativos_individual_pct</th>\n      <th>positivos_global_pct</th>\n      <th>neutros_global_pct</th>\n      <th>negativos_global_pct</th>\n      <th>day1</th>\n      <th>seguidores</th>\n      <th>rejeicao</th>\n    </tr>\n  </thead>\n  <tbody>\n    <tr>\n      <th>17</th>\n      <td>8</td>\n      <td>babu</td>\n      <td>0.238800</td>\n      <td>0.296049</td>\n      <td>0.465150</td>\n      <td>0.366229</td>\n      <td>0.314337</td>\n      <td>0.319854</td>\n      <td>29102</td>\n      <td>325345</td>\n      <td>0.4771</td>\n    </tr>\n    <tr>\n      <th>18</th>\n      <td>8</td>\n      <td>rafa</td>\n      <td>0.184500</td>\n      <td>0.264728</td>\n      <td>0.550772</td>\n      <td>0.207663</td>\n      <td>0.206290</td>\n      <td>0.277956</td>\n      <td>27062</td>\n      <td>293473</td>\n      <td>0.0059</td>\n    </tr>\n    <tr>\n      <th>19</th>\n      <td>8</td>\n      <td>pyong</td>\n      <td>0.211414</td>\n      <td>0.343538</td>\n      <td>0.445048</td>\n      <td>0.426107</td>\n      <td>0.479374</td>\n      <td>0.402191</td>\n      <td>42474</td>\n      <td>1431039</td>\n      <td>0.5170</td>\n    </tr>\n  </tbody>\n</table>\n</div>"
     },
     "metadata": {},
     "execution_count": 47
    }
   ],
   "source": [
    "train_df, test_df = get_train_test(8, normalize=NORMALIZE, drop_columns=REMOVE)\n",
    "test_df\n",
    ""
   ]
  },
  {
   "cell_type": "code",
   "execution_count": 48,
   "metadata": {},
   "outputs": [],
   "source": [
    "x_train, y_train = train_df.drop(columns=[\"paredao\", \"nome\", \"rejeicao\"], axis=1).to_numpy(), train_df.drop(columns=train_df.columns[:-1], axis=1).to_numpy()\n",
    "x_test, y_test = test_df.drop(columns=[\"paredao\", \"nome\", \"rejeicao\"], axis=1).to_numpy(), test_df.drop(columns=train_df.columns[:-1], axis=1).to_numpy()"
   ]
  },
  {
   "cell_type": "code",
   "execution_count": 49,
   "metadata": {},
   "outputs": [],
   "source": [
    "regressor = RandomForestRegressor(n_estimators=ESTIMATORS)"
   ]
  },
  {
   "cell_type": "code",
   "execution_count": 50,
   "metadata": {},
   "outputs": [],
   "source": [
    "_ = regressor.fit(x_train, y_train)\n",
    "prediction = regressor.predict(x_test)\n",
    "test_df[\"predicao\"] = prediction\n",
    "summary_df = summary_df.append(test_df, ignore_index=True, sort=False)\n",
    "\n",
    ""
   ]
  },
  {
   "cell_type": "code",
   "execution_count": 51,
   "metadata": {},
   "outputs": [
    {
     "output_type": "execute_result",
     "data": {
      "text/plain": "   paredao   nome  positivos_individual_pct  neutros_individual_pct  \\\n19       8  pyong                  0.211414                0.343538   \n18       8   rafa                  0.184500                0.264728   \n17       8   babu                  0.238800                0.296049   \n\n    negativos_individual_pct  positivos_global_pct  neutros_global_pct  \\\n19                  0.445048              0.426107            0.479374   \n18                  0.550772              0.207663            0.206290   \n17                  0.465150              0.366229            0.314337   \n\n    negativos_global_pct   day1  seguidores  rejeicao  predicao  \n19              0.402191  42474     1431039    0.5170  0.447588  \n18              0.277956  27062      293473    0.0059  0.262631  \n17              0.319854  29102      325345    0.4771  0.253784  ",
      "text/html": "<div>\n<style scoped>\n    .dataframe tbody tr th:only-of-type {\n        vertical-align: middle;\n    }\n\n    .dataframe tbody tr th {\n        vertical-align: top;\n    }\n\n    .dataframe thead th {\n        text-align: right;\n    }\n</style>\n<table border=\"1\" class=\"dataframe\">\n  <thead>\n    <tr style=\"text-align: right;\">\n      <th></th>\n      <th>paredao</th>\n      <th>nome</th>\n      <th>positivos_individual_pct</th>\n      <th>neutros_individual_pct</th>\n      <th>negativos_individual_pct</th>\n      <th>positivos_global_pct</th>\n      <th>neutros_global_pct</th>\n      <th>negativos_global_pct</th>\n      <th>day1</th>\n      <th>seguidores</th>\n      <th>rejeicao</th>\n      <th>predicao</th>\n    </tr>\n  </thead>\n  <tbody>\n    <tr>\n      <th>19</th>\n      <td>8</td>\n      <td>pyong</td>\n      <td>0.211414</td>\n      <td>0.343538</td>\n      <td>0.445048</td>\n      <td>0.426107</td>\n      <td>0.479374</td>\n      <td>0.402191</td>\n      <td>42474</td>\n      <td>1431039</td>\n      <td>0.5170</td>\n      <td>0.447588</td>\n    </tr>\n    <tr>\n      <th>18</th>\n      <td>8</td>\n      <td>rafa</td>\n      <td>0.184500</td>\n      <td>0.264728</td>\n      <td>0.550772</td>\n      <td>0.207663</td>\n      <td>0.206290</td>\n      <td>0.277956</td>\n      <td>27062</td>\n      <td>293473</td>\n      <td>0.0059</td>\n      <td>0.262631</td>\n    </tr>\n    <tr>\n      <th>17</th>\n      <td>8</td>\n      <td>babu</td>\n      <td>0.238800</td>\n      <td>0.296049</td>\n      <td>0.465150</td>\n      <td>0.366229</td>\n      <td>0.314337</td>\n      <td>0.319854</td>\n      <td>29102</td>\n      <td>325345</td>\n      <td>0.4771</td>\n      <td>0.253784</td>\n    </tr>\n  </tbody>\n</table>\n</div>"
     },
     "metadata": {},
     "execution_count": 51
    }
   ],
   "source": [
    "test_df.sort_values(by=\"predicao\", ascending=False)"
   ]
  },
  {
   "cell_type": "markdown",
   "metadata": {},
   "source": [
    "# Paredão 9"
   ]
  },
  {
   "cell_type": "code",
   "execution_count": 52,
   "metadata": {},
   "outputs": [
    {
     "output_type": "execute_result",
     "data": {
      "text/plain": "   paredao       nome  positivos_individual_pct  neutros_individual_pct  \\\n14       9     daniel                  0.210559                0.351664   \n15       9  flayslene                  0.265438                0.300293   \n16       9        ivy                  0.228849                0.342627   \n\n    negativos_individual_pct  positivos_global_pct  neutros_global_pct  \\\n14                  0.437777              0.355075            0.417310   \n15                  0.434269              0.375880            0.299236   \n16                  0.428523              0.269045            0.283453   \n\n    negativos_global_pct   day1  seguidores  rejeicao  \n14              0.397548  43662       33876    0.8082  \n15              0.331158  14010      104138    0.0954  \n16              0.271294  34835       59125    0.0964  ",
      "text/html": "<div>\n<style scoped>\n    .dataframe tbody tr th:only-of-type {\n        vertical-align: middle;\n    }\n\n    .dataframe tbody tr th {\n        vertical-align: top;\n    }\n\n    .dataframe thead th {\n        text-align: right;\n    }\n</style>\n<table border=\"1\" class=\"dataframe\">\n  <thead>\n    <tr style=\"text-align: right;\">\n      <th></th>\n      <th>paredao</th>\n      <th>nome</th>\n      <th>positivos_individual_pct</th>\n      <th>neutros_individual_pct</th>\n      <th>negativos_individual_pct</th>\n      <th>positivos_global_pct</th>\n      <th>neutros_global_pct</th>\n      <th>negativos_global_pct</th>\n      <th>day1</th>\n      <th>seguidores</th>\n      <th>rejeicao</th>\n    </tr>\n  </thead>\n  <tbody>\n    <tr>\n      <th>14</th>\n      <td>9</td>\n      <td>daniel</td>\n      <td>0.210559</td>\n      <td>0.351664</td>\n      <td>0.437777</td>\n      <td>0.355075</td>\n      <td>0.417310</td>\n      <td>0.397548</td>\n      <td>43662</td>\n      <td>33876</td>\n      <td>0.8082</td>\n    </tr>\n    <tr>\n      <th>15</th>\n      <td>9</td>\n      <td>flayslene</td>\n      <td>0.265438</td>\n      <td>0.300293</td>\n      <td>0.434269</td>\n      <td>0.375880</td>\n      <td>0.299236</td>\n      <td>0.331158</td>\n      <td>14010</td>\n      <td>104138</td>\n      <td>0.0954</td>\n    </tr>\n    <tr>\n      <th>16</th>\n      <td>9</td>\n      <td>ivy</td>\n      <td>0.228849</td>\n      <td>0.342627</td>\n      <td>0.428523</td>\n      <td>0.269045</td>\n      <td>0.283453</td>\n      <td>0.271294</td>\n      <td>34835</td>\n      <td>59125</td>\n      <td>0.0964</td>\n    </tr>\n  </tbody>\n</table>\n</div>"
     },
     "metadata": {},
     "execution_count": 52
    }
   ],
   "source": [
    "train_df, test_df = get_train_test(9, normalize=NORMALIZE,  drop_columns=REMOVE)\n",
    "test_df"
   ]
  },
  {
   "cell_type": "code",
   "execution_count": 53,
   "metadata": {},
   "outputs": [],
   "source": [
    "x_train, y_train = train_df.drop(columns=[\"paredao\", \"nome\", \"rejeicao\"], axis=1).to_numpy(), train_df.drop(columns=train_df.columns[:-1], axis=1).to_numpy()\n",
    "x_test, y_test = test_df.drop(columns=[\"paredao\", \"nome\", \"rejeicao\"], axis=1).to_numpy(), test_df.drop(columns=train_df.columns[:-1], axis=1).to_numpy()"
   ]
  },
  {
   "cell_type": "code",
   "execution_count": 54,
   "metadata": {},
   "outputs": [],
   "source": [
    "regressor = RandomForestRegressor(n_estimators=ESTIMATORS)"
   ]
  },
  {
   "cell_type": "code",
   "execution_count": 55,
   "metadata": {},
   "outputs": [],
   "source": [
    "_ = regressor.fit(x_train, y_train)\n",
    "prediction = regressor.predict(x_test)\n",
    "test_df[\"predicao\"] = prediction\n",
    "summary_df = summary_df.append(test_df, ignore_index=True, sort=False)\n",
    "\n",
    ""
   ]
  },
  {
   "cell_type": "code",
   "execution_count": 56,
   "metadata": {},
   "outputs": [
    {
     "output_type": "execute_result",
     "data": {
      "text/plain": "   paredao       nome  positivos_individual_pct  neutros_individual_pct  \\\n14       9     daniel                  0.210559                0.351664   \n16       9        ivy                  0.228849                0.342627   \n15       9  flayslene                  0.265438                0.300293   \n\n    negativos_individual_pct  positivos_global_pct  neutros_global_pct  \\\n14                  0.437777              0.355075            0.417310   \n16                  0.428523              0.269045            0.283453   \n15                  0.434269              0.375880            0.299236   \n\n    negativos_global_pct   day1  seguidores  rejeicao  predicao  \n14              0.397548  43662       33876    0.8082  0.622247  \n16              0.271294  34835       59125    0.0964  0.536484  \n15              0.331158  14010      104138    0.0954  0.323918  ",
      "text/html": "<div>\n<style scoped>\n    .dataframe tbody tr th:only-of-type {\n        vertical-align: middle;\n    }\n\n    .dataframe tbody tr th {\n        vertical-align: top;\n    }\n\n    .dataframe thead th {\n        text-align: right;\n    }\n</style>\n<table border=\"1\" class=\"dataframe\">\n  <thead>\n    <tr style=\"text-align: right;\">\n      <th></th>\n      <th>paredao</th>\n      <th>nome</th>\n      <th>positivos_individual_pct</th>\n      <th>neutros_individual_pct</th>\n      <th>negativos_individual_pct</th>\n      <th>positivos_global_pct</th>\n      <th>neutros_global_pct</th>\n      <th>negativos_global_pct</th>\n      <th>day1</th>\n      <th>seguidores</th>\n      <th>rejeicao</th>\n      <th>predicao</th>\n    </tr>\n  </thead>\n  <tbody>\n    <tr>\n      <th>14</th>\n      <td>9</td>\n      <td>daniel</td>\n      <td>0.210559</td>\n      <td>0.351664</td>\n      <td>0.437777</td>\n      <td>0.355075</td>\n      <td>0.417310</td>\n      <td>0.397548</td>\n      <td>43662</td>\n      <td>33876</td>\n      <td>0.8082</td>\n      <td>0.622247</td>\n    </tr>\n    <tr>\n      <th>16</th>\n      <td>9</td>\n      <td>ivy</td>\n      <td>0.228849</td>\n      <td>0.342627</td>\n      <td>0.428523</td>\n      <td>0.269045</td>\n      <td>0.283453</td>\n      <td>0.271294</td>\n      <td>34835</td>\n      <td>59125</td>\n      <td>0.0964</td>\n      <td>0.536484</td>\n    </tr>\n    <tr>\n      <th>15</th>\n      <td>9</td>\n      <td>flayslene</td>\n      <td>0.265438</td>\n      <td>0.300293</td>\n      <td>0.434269</td>\n      <td>0.375880</td>\n      <td>0.299236</td>\n      <td>0.331158</td>\n      <td>14010</td>\n      <td>104138</td>\n      <td>0.0954</td>\n      <td>0.323918</td>\n    </tr>\n  </tbody>\n</table>\n</div>"
     },
     "metadata": {},
     "execution_count": 56
    }
   ],
   "source": [
    "test_df.sort_values(by=\"predicao\", ascending=False)"
   ]
  },
  {
   "cell_type": "markdown",
   "metadata": {},
   "source": [
    "# Paredão 10"
   ]
  },
  {
   "cell_type": "code",
   "execution_count": 57,
   "metadata": {},
   "outputs": [
    {
     "output_type": "execute_result",
     "data": {
      "text/plain": "   paredao          nome  positivos_individual_pct  neutros_individual_pct  \\\n11      10  manu_gavassi                  0.233780                0.448016   \n12      10          mari                  0.282518                0.348057   \n13      10  felipe_prior                  0.160907                0.383470   \n\n    negativos_individual_pct  positivos_global_pct  neutros_global_pct  \\\n11                  0.318204              0.559785            0.551039   \n12                  0.369426              0.152072            0.096234   \n13                  0.455623              0.288144            0.352728   \n\n    negativos_global_pct   day1  seguidores  rejeicao  \n11              0.428851  42943     4785334    0.4251  \n12              0.111922  19694      269733    0.0076  \n13              0.459226  57998      642881    0.5673  ",
      "text/html": "<div>\n<style scoped>\n    .dataframe tbody tr th:only-of-type {\n        vertical-align: middle;\n    }\n\n    .dataframe tbody tr th {\n        vertical-align: top;\n    }\n\n    .dataframe thead th {\n        text-align: right;\n    }\n</style>\n<table border=\"1\" class=\"dataframe\">\n  <thead>\n    <tr style=\"text-align: right;\">\n      <th></th>\n      <th>paredao</th>\n      <th>nome</th>\n      <th>positivos_individual_pct</th>\n      <th>neutros_individual_pct</th>\n      <th>negativos_individual_pct</th>\n      <th>positivos_global_pct</th>\n      <th>neutros_global_pct</th>\n      <th>negativos_global_pct</th>\n      <th>day1</th>\n      <th>seguidores</th>\n      <th>rejeicao</th>\n    </tr>\n  </thead>\n  <tbody>\n    <tr>\n      <th>11</th>\n      <td>10</td>\n      <td>manu_gavassi</td>\n      <td>0.233780</td>\n      <td>0.448016</td>\n      <td>0.318204</td>\n      <td>0.559785</td>\n      <td>0.551039</td>\n      <td>0.428851</td>\n      <td>42943</td>\n      <td>4785334</td>\n      <td>0.4251</td>\n    </tr>\n    <tr>\n      <th>12</th>\n      <td>10</td>\n      <td>mari</td>\n      <td>0.282518</td>\n      <td>0.348057</td>\n      <td>0.369426</td>\n      <td>0.152072</td>\n      <td>0.096234</td>\n      <td>0.111922</td>\n      <td>19694</td>\n      <td>269733</td>\n      <td>0.0076</td>\n    </tr>\n    <tr>\n      <th>13</th>\n      <td>10</td>\n      <td>felipe_prior</td>\n      <td>0.160907</td>\n      <td>0.383470</td>\n      <td>0.455623</td>\n      <td>0.288144</td>\n      <td>0.352728</td>\n      <td>0.459226</td>\n      <td>57998</td>\n      <td>642881</td>\n      <td>0.5673</td>\n    </tr>\n  </tbody>\n</table>\n</div>"
     },
     "metadata": {},
     "execution_count": 57
    }
   ],
   "source": [
    "train_df, test_df = get_train_test(10, normalize=NORMALIZE, drop_columns=REMOVE)\n",
    "test_df"
   ]
  },
  {
   "cell_type": "code",
   "execution_count": 58,
   "metadata": {},
   "outputs": [],
   "source": [
    "x_train, y_train = train_df.drop(columns=[\"paredao\", \"nome\", \"rejeicao\"], axis=1).to_numpy(), train_df.drop(columns=train_df.columns[:-1], axis=1).to_numpy()\n",
    "x_test, y_test = test_df.drop(columns=[\"paredao\", \"nome\", \"rejeicao\"], axis=1).to_numpy(), test_df.drop(columns=train_df.columns[:-1], axis=1).to_numpy()"
   ]
  },
  {
   "cell_type": "code",
   "execution_count": 59,
   "metadata": {},
   "outputs": [],
   "source": [
    "regressor = RandomForestRegressor(n_estimators=ESTIMATORS)"
   ]
  },
  {
   "cell_type": "code",
   "execution_count": 60,
   "metadata": {},
   "outputs": [],
   "source": [
    "_ = regressor.fit(x_train, y_train)\n",
    "prediction = regressor.predict(x_test)\n",
    "test_df[\"predicao\"] = prediction\n",
    "summary_df = summary_df.append(test_df, ignore_index=True, sort=False)\n",
    "\n",
    ""
   ]
  },
  {
   "cell_type": "code",
   "execution_count": 61,
   "metadata": {},
   "outputs": [
    {
     "output_type": "execute_result",
     "data": {
      "text/plain": "   paredao          nome  positivos_individual_pct  neutros_individual_pct  \\\n11      10  manu_gavassi                  0.233780                0.448016   \n13      10  felipe_prior                  0.160907                0.383470   \n12      10          mari                  0.282518                0.348057   \n\n    negativos_individual_pct  positivos_global_pct  neutros_global_pct  \\\n11                  0.318204              0.559785            0.551039   \n13                  0.455623              0.288144            0.352728   \n12                  0.369426              0.152072            0.096234   \n\n    negativos_global_pct   day1  seguidores  rejeicao  predicao  \n11              0.428851  42943     4785334    0.4251  0.442462  \n13              0.459226  57998      642881    0.5673  0.441958  \n12              0.111922  19694      269733    0.0076  0.126904  ",
      "text/html": "<div>\n<style scoped>\n    .dataframe tbody tr th:only-of-type {\n        vertical-align: middle;\n    }\n\n    .dataframe tbody tr th {\n        vertical-align: top;\n    }\n\n    .dataframe thead th {\n        text-align: right;\n    }\n</style>\n<table border=\"1\" class=\"dataframe\">\n  <thead>\n    <tr style=\"text-align: right;\">\n      <th></th>\n      <th>paredao</th>\n      <th>nome</th>\n      <th>positivos_individual_pct</th>\n      <th>neutros_individual_pct</th>\n      <th>negativos_individual_pct</th>\n      <th>positivos_global_pct</th>\n      <th>neutros_global_pct</th>\n      <th>negativos_global_pct</th>\n      <th>day1</th>\n      <th>seguidores</th>\n      <th>rejeicao</th>\n      <th>predicao</th>\n    </tr>\n  </thead>\n  <tbody>\n    <tr>\n      <th>11</th>\n      <td>10</td>\n      <td>manu_gavassi</td>\n      <td>0.233780</td>\n      <td>0.448016</td>\n      <td>0.318204</td>\n      <td>0.559785</td>\n      <td>0.551039</td>\n      <td>0.428851</td>\n      <td>42943</td>\n      <td>4785334</td>\n      <td>0.4251</td>\n      <td>0.442462</td>\n    </tr>\n    <tr>\n      <th>13</th>\n      <td>10</td>\n      <td>felipe_prior</td>\n      <td>0.160907</td>\n      <td>0.383470</td>\n      <td>0.455623</td>\n      <td>0.288144</td>\n      <td>0.352728</td>\n      <td>0.459226</td>\n      <td>57998</td>\n      <td>642881</td>\n      <td>0.5673</td>\n      <td>0.441958</td>\n    </tr>\n    <tr>\n      <th>12</th>\n      <td>10</td>\n      <td>mari</td>\n      <td>0.282518</td>\n      <td>0.348057</td>\n      <td>0.369426</td>\n      <td>0.152072</td>\n      <td>0.096234</td>\n      <td>0.111922</td>\n      <td>19694</td>\n      <td>269733</td>\n      <td>0.0076</td>\n      <td>0.126904</td>\n    </tr>\n  </tbody>\n</table>\n</div>"
     },
     "metadata": {},
     "execution_count": 61
    }
   ],
   "source": [
    "test_df.sort_values(by=\"predicao\", ascending=False)"
   ]
  },
  {
   "cell_type": "markdown",
   "metadata": {},
   "source": [
    "# Sumarizando"
   ]
  },
  {
   "cell_type": "code",
   "execution_count": 62,
   "metadata": {},
   "outputs": [
    {
     "output_type": "execute_result",
     "data": {
      "text/plain": "               nome  positivos_individual_pct  rejeicao  positivos_global_pct  \\\n0    bianca_andrade                  0.361998    0.2446              0.483052   \n1      lucas_chumbo                  0.178042    0.7594              0.516948   \n2              babu                  0.300946    0.0044              0.067775   \n3            petrix                  0.146594    0.8027              0.316781   \n4             pyong                  0.414681    0.0066              0.353997   \n5            hadson                  0.147875    0.1863              0.261447   \n6      felipe_prior                  0.281135    0.2029              0.546440   \n7            hadson                  0.208189    0.7971              0.453560   \n8              babu                  0.185986    0.0130              0.311138   \n9       victor_hugo                  0.227361    0.3608              0.129081   \n10            lucas                  0.197421    0.6262              0.559781   \n11   bianca_andrade                  0.221844    0.5309              0.370866   \n12        flayslene                  0.181474    0.1764              0.201575   \n13     felipe_prior                  0.146252    0.2927              0.427559   \n14  gizelly_bicalho                  0.387272    0.0064              0.342739   \n15        guilherme                  0.152063    0.5607              0.258715   \n16            pyong                  0.209643    0.4329              0.398546   \n17             babu                  0.318519    0.0460              0.456325   \n18     manu_gavassi                  0.339061    0.1018              0.364322   \n19      victor_hugo                  0.205263    0.8522              0.179353   \n20             babu                  0.238800    0.4771              0.366229   \n21             rafa                  0.184500    0.0059              0.207663   \n22            pyong                  0.211414    0.5170              0.426107   \n23           daniel                  0.210559    0.8082              0.355075   \n24        flayslene                  0.265438    0.0954              0.375880   \n25              ivy                  0.228849    0.0964              0.269045   \n26     manu_gavassi                  0.233780    0.4251              0.559785   \n27             mari                  0.282518    0.0076              0.152072   \n28     felipe_prior                  0.160907    0.5673              0.288144   \n\n     day1 paredao  negativos_global_pct  neutros_individual_pct  \\\n0    5849       1              0.207010                0.371080   \n1   22759       1              0.792990                0.352040   \n2    5606       2              0.028657                0.397872   \n3   46679       2              0.469254                0.339433   \n4   12527       2              0.096777                0.316993   \n5   25263       2              0.405312                0.309531   \n6    1138       3              0.468471                0.369039   \n7    1903       3              0.531529                0.437694   \n8   18271       4              0.339940                0.297259   \n9    6845       4              0.090035                0.369350   \n10  32223       4              0.570026                0.291340   \n11   1998       5              0.211900                0.422179   \n12   1935       5              0.193832                0.328450   \n13   3101       5              0.594268                0.282867   \n14  20904       6              0.106771                0.342758   \n15  49438       6              0.452061                0.253358   \n16  38968       6              0.441168                0.271063   \n17  19044       7              0.434205                0.299199   \n18  13372       7              0.264607                0.350323   \n19  14217       7              0.301188                0.359956   \n20  29102       8              0.319854                0.296049   \n21  27062       8              0.277956                0.264728   \n22  42474       8              0.402191                0.343538   \n23  43662       9              0.397548                0.351664   \n24  14010       9              0.331158                0.300293   \n25  34835       9              0.271294                0.342627   \n26  42943      10              0.428851                0.448016   \n27  19694      10              0.111922                0.348057   \n28  57998      10              0.459226                0.383470   \n\n    neutros_global_pct  negativos_individual_pct seguidores  predicao  \n0             0.326345                  0.266922     411880  0.117765  \n1             0.673655                  0.469919      12014  0.631088  \n2             0.054604                  0.301182     325345  0.270738  \n3             0.446991                  0.513974      22414  0.675112  \n4             0.164906                  0.268326    1431039  0.100906  \n5             0.333499                  0.542595      10207  0.547605  \n6             0.429299                  0.349826     204031  0.338467  \n7             0.570701                  0.354117      10207  0.618911  \n8             0.324375                  0.516754     325345  0.285097  \n9             0.136781                  0.403289      14399  0.459053  \n10            0.538845                  0.511239      23670  0.636589  \n11            0.371940                  0.355977     411880  0.229450  \n12            0.192263                  0.490076     104138  0.231017  \n13            0.435797                  0.570881     204031  0.356004  \n14            0.242732                  0.269970     234977  0.112104  \n15            0.344924                  0.594579     103421  0.381964  \n16            0.412345                  0.519294    1431039  0.415112  \n17            0.382861                  0.382283     325345  0.319164  \n18            0.336216                  0.310616    4327060  0.153959  \n19            0.280923                  0.434781      14399  0.252890  \n20            0.314337                  0.465150     325345  0.253784  \n21            0.206290                  0.550772     293473  0.262631  \n22            0.479374                  0.445048    1431039  0.447588  \n23            0.417310                  0.437777      33876  0.622247  \n24            0.299236                  0.434269     104138  0.323918  \n25            0.283453                  0.428523      59125  0.536484  \n26            0.551039                  0.318204    4785334  0.442462  \n27            0.096234                  0.369426     269733  0.126904  \n28            0.352728                  0.455623     642881  0.441958  ",
      "text/html": "<div>\n<style scoped>\n    .dataframe tbody tr th:only-of-type {\n        vertical-align: middle;\n    }\n\n    .dataframe tbody tr th {\n        vertical-align: top;\n    }\n\n    .dataframe thead th {\n        text-align: right;\n    }\n</style>\n<table border=\"1\" class=\"dataframe\">\n  <thead>\n    <tr style=\"text-align: right;\">\n      <th></th>\n      <th>nome</th>\n      <th>positivos_individual_pct</th>\n      <th>rejeicao</th>\n      <th>positivos_global_pct</th>\n      <th>day1</th>\n      <th>paredao</th>\n      <th>negativos_global_pct</th>\n      <th>neutros_individual_pct</th>\n      <th>neutros_global_pct</th>\n      <th>negativos_individual_pct</th>\n      <th>seguidores</th>\n      <th>predicao</th>\n    </tr>\n  </thead>\n  <tbody>\n    <tr>\n      <th>0</th>\n      <td>bianca_andrade</td>\n      <td>0.361998</td>\n      <td>0.2446</td>\n      <td>0.483052</td>\n      <td>5849</td>\n      <td>1</td>\n      <td>0.207010</td>\n      <td>0.371080</td>\n      <td>0.326345</td>\n      <td>0.266922</td>\n      <td>411880</td>\n      <td>0.117765</td>\n    </tr>\n    <tr>\n      <th>1</th>\n      <td>lucas_chumbo</td>\n      <td>0.178042</td>\n      <td>0.7594</td>\n      <td>0.516948</td>\n      <td>22759</td>\n      <td>1</td>\n      <td>0.792990</td>\n      <td>0.352040</td>\n      <td>0.673655</td>\n      <td>0.469919</td>\n      <td>12014</td>\n      <td>0.631088</td>\n    </tr>\n    <tr>\n      <th>2</th>\n      <td>babu</td>\n      <td>0.300946</td>\n      <td>0.0044</td>\n      <td>0.067775</td>\n      <td>5606</td>\n      <td>2</td>\n      <td>0.028657</td>\n      <td>0.397872</td>\n      <td>0.054604</td>\n      <td>0.301182</td>\n      <td>325345</td>\n      <td>0.270738</td>\n    </tr>\n    <tr>\n      <th>3</th>\n      <td>petrix</td>\n      <td>0.146594</td>\n      <td>0.8027</td>\n      <td>0.316781</td>\n      <td>46679</td>\n      <td>2</td>\n      <td>0.469254</td>\n      <td>0.339433</td>\n      <td>0.446991</td>\n      <td>0.513974</td>\n      <td>22414</td>\n      <td>0.675112</td>\n    </tr>\n    <tr>\n      <th>4</th>\n      <td>pyong</td>\n      <td>0.414681</td>\n      <td>0.0066</td>\n      <td>0.353997</td>\n      <td>12527</td>\n      <td>2</td>\n      <td>0.096777</td>\n      <td>0.316993</td>\n      <td>0.164906</td>\n      <td>0.268326</td>\n      <td>1431039</td>\n      <td>0.100906</td>\n    </tr>\n    <tr>\n      <th>5</th>\n      <td>hadson</td>\n      <td>0.147875</td>\n      <td>0.1863</td>\n      <td>0.261447</td>\n      <td>25263</td>\n      <td>2</td>\n      <td>0.405312</td>\n      <td>0.309531</td>\n      <td>0.333499</td>\n      <td>0.542595</td>\n      <td>10207</td>\n      <td>0.547605</td>\n    </tr>\n    <tr>\n      <th>6</th>\n      <td>felipe_prior</td>\n      <td>0.281135</td>\n      <td>0.2029</td>\n      <td>0.546440</td>\n      <td>1138</td>\n      <td>3</td>\n      <td>0.468471</td>\n      <td>0.369039</td>\n      <td>0.429299</td>\n      <td>0.349826</td>\n      <td>204031</td>\n      <td>0.338467</td>\n    </tr>\n    <tr>\n      <th>7</th>\n      <td>hadson</td>\n      <td>0.208189</td>\n      <td>0.7971</td>\n      <td>0.453560</td>\n      <td>1903</td>\n      <td>3</td>\n      <td>0.531529</td>\n      <td>0.437694</td>\n      <td>0.570701</td>\n      <td>0.354117</td>\n      <td>10207</td>\n      <td>0.618911</td>\n    </tr>\n    <tr>\n      <th>8</th>\n      <td>babu</td>\n      <td>0.185986</td>\n      <td>0.0130</td>\n      <td>0.311138</td>\n      <td>18271</td>\n      <td>4</td>\n      <td>0.339940</td>\n      <td>0.297259</td>\n      <td>0.324375</td>\n      <td>0.516754</td>\n      <td>325345</td>\n      <td>0.285097</td>\n    </tr>\n    <tr>\n      <th>9</th>\n      <td>victor_hugo</td>\n      <td>0.227361</td>\n      <td>0.3608</td>\n      <td>0.129081</td>\n      <td>6845</td>\n      <td>4</td>\n      <td>0.090035</td>\n      <td>0.369350</td>\n      <td>0.136781</td>\n      <td>0.403289</td>\n      <td>14399</td>\n      <td>0.459053</td>\n    </tr>\n    <tr>\n      <th>10</th>\n      <td>lucas</td>\n      <td>0.197421</td>\n      <td>0.6262</td>\n      <td>0.559781</td>\n      <td>32223</td>\n      <td>4</td>\n      <td>0.570026</td>\n      <td>0.291340</td>\n      <td>0.538845</td>\n      <td>0.511239</td>\n      <td>23670</td>\n      <td>0.636589</td>\n    </tr>\n    <tr>\n      <th>11</th>\n      <td>bianca_andrade</td>\n      <td>0.221844</td>\n      <td>0.5309</td>\n      <td>0.370866</td>\n      <td>1998</td>\n      <td>5</td>\n      <td>0.211900</td>\n      <td>0.422179</td>\n      <td>0.371940</td>\n      <td>0.355977</td>\n      <td>411880</td>\n      <td>0.229450</td>\n    </tr>\n    <tr>\n      <th>12</th>\n      <td>flayslene</td>\n      <td>0.181474</td>\n      <td>0.1764</td>\n      <td>0.201575</td>\n      <td>1935</td>\n      <td>5</td>\n      <td>0.193832</td>\n      <td>0.328450</td>\n      <td>0.192263</td>\n      <td>0.490076</td>\n      <td>104138</td>\n      <td>0.231017</td>\n    </tr>\n    <tr>\n      <th>13</th>\n      <td>felipe_prior</td>\n      <td>0.146252</td>\n      <td>0.2927</td>\n      <td>0.427559</td>\n      <td>3101</td>\n      <td>5</td>\n      <td>0.594268</td>\n      <td>0.282867</td>\n      <td>0.435797</td>\n      <td>0.570881</td>\n      <td>204031</td>\n      <td>0.356004</td>\n    </tr>\n    <tr>\n      <th>14</th>\n      <td>gizelly_bicalho</td>\n      <td>0.387272</td>\n      <td>0.0064</td>\n      <td>0.342739</td>\n      <td>20904</td>\n      <td>6</td>\n      <td>0.106771</td>\n      <td>0.342758</td>\n      <td>0.242732</td>\n      <td>0.269970</td>\n      <td>234977</td>\n      <td>0.112104</td>\n    </tr>\n    <tr>\n      <th>15</th>\n      <td>guilherme</td>\n      <td>0.152063</td>\n      <td>0.5607</td>\n      <td>0.258715</td>\n      <td>49438</td>\n      <td>6</td>\n      <td>0.452061</td>\n      <td>0.253358</td>\n      <td>0.344924</td>\n      <td>0.594579</td>\n      <td>103421</td>\n      <td>0.381964</td>\n    </tr>\n    <tr>\n      <th>16</th>\n      <td>pyong</td>\n      <td>0.209643</td>\n      <td>0.4329</td>\n      <td>0.398546</td>\n      <td>38968</td>\n      <td>6</td>\n      <td>0.441168</td>\n      <td>0.271063</td>\n      <td>0.412345</td>\n      <td>0.519294</td>\n      <td>1431039</td>\n      <td>0.415112</td>\n    </tr>\n    <tr>\n      <th>17</th>\n      <td>babu</td>\n      <td>0.318519</td>\n      <td>0.0460</td>\n      <td>0.456325</td>\n      <td>19044</td>\n      <td>7</td>\n      <td>0.434205</td>\n      <td>0.299199</td>\n      <td>0.382861</td>\n      <td>0.382283</td>\n      <td>325345</td>\n      <td>0.319164</td>\n    </tr>\n    <tr>\n      <th>18</th>\n      <td>manu_gavassi</td>\n      <td>0.339061</td>\n      <td>0.1018</td>\n      <td>0.364322</td>\n      <td>13372</td>\n      <td>7</td>\n      <td>0.264607</td>\n      <td>0.350323</td>\n      <td>0.336216</td>\n      <td>0.310616</td>\n      <td>4327060</td>\n      <td>0.153959</td>\n    </tr>\n    <tr>\n      <th>19</th>\n      <td>victor_hugo</td>\n      <td>0.205263</td>\n      <td>0.8522</td>\n      <td>0.179353</td>\n      <td>14217</td>\n      <td>7</td>\n      <td>0.301188</td>\n      <td>0.359956</td>\n      <td>0.280923</td>\n      <td>0.434781</td>\n      <td>14399</td>\n      <td>0.252890</td>\n    </tr>\n    <tr>\n      <th>20</th>\n      <td>babu</td>\n      <td>0.238800</td>\n      <td>0.4771</td>\n      <td>0.366229</td>\n      <td>29102</td>\n      <td>8</td>\n      <td>0.319854</td>\n      <td>0.296049</td>\n      <td>0.314337</td>\n      <td>0.465150</td>\n      <td>325345</td>\n      <td>0.253784</td>\n    </tr>\n    <tr>\n      <th>21</th>\n      <td>rafa</td>\n      <td>0.184500</td>\n      <td>0.0059</td>\n      <td>0.207663</td>\n      <td>27062</td>\n      <td>8</td>\n      <td>0.277956</td>\n      <td>0.264728</td>\n      <td>0.206290</td>\n      <td>0.550772</td>\n      <td>293473</td>\n      <td>0.262631</td>\n    </tr>\n    <tr>\n      <th>22</th>\n      <td>pyong</td>\n      <td>0.211414</td>\n      <td>0.5170</td>\n      <td>0.426107</td>\n      <td>42474</td>\n      <td>8</td>\n      <td>0.402191</td>\n      <td>0.343538</td>\n      <td>0.479374</td>\n      <td>0.445048</td>\n      <td>1431039</td>\n      <td>0.447588</td>\n    </tr>\n    <tr>\n      <th>23</th>\n      <td>daniel</td>\n      <td>0.210559</td>\n      <td>0.8082</td>\n      <td>0.355075</td>\n      <td>43662</td>\n      <td>9</td>\n      <td>0.397548</td>\n      <td>0.351664</td>\n      <td>0.417310</td>\n      <td>0.437777</td>\n      <td>33876</td>\n      <td>0.622247</td>\n    </tr>\n    <tr>\n      <th>24</th>\n      <td>flayslene</td>\n      <td>0.265438</td>\n      <td>0.0954</td>\n      <td>0.375880</td>\n      <td>14010</td>\n      <td>9</td>\n      <td>0.331158</td>\n      <td>0.300293</td>\n      <td>0.299236</td>\n      <td>0.434269</td>\n      <td>104138</td>\n      <td>0.323918</td>\n    </tr>\n    <tr>\n      <th>25</th>\n      <td>ivy</td>\n      <td>0.228849</td>\n      <td>0.0964</td>\n      <td>0.269045</td>\n      <td>34835</td>\n      <td>9</td>\n      <td>0.271294</td>\n      <td>0.342627</td>\n      <td>0.283453</td>\n      <td>0.428523</td>\n      <td>59125</td>\n      <td>0.536484</td>\n    </tr>\n    <tr>\n      <th>26</th>\n      <td>manu_gavassi</td>\n      <td>0.233780</td>\n      <td>0.4251</td>\n      <td>0.559785</td>\n      <td>42943</td>\n      <td>10</td>\n      <td>0.428851</td>\n      <td>0.448016</td>\n      <td>0.551039</td>\n      <td>0.318204</td>\n      <td>4785334</td>\n      <td>0.442462</td>\n    </tr>\n    <tr>\n      <th>27</th>\n      <td>mari</td>\n      <td>0.282518</td>\n      <td>0.0076</td>\n      <td>0.152072</td>\n      <td>19694</td>\n      <td>10</td>\n      <td>0.111922</td>\n      <td>0.348057</td>\n      <td>0.096234</td>\n      <td>0.369426</td>\n      <td>269733</td>\n      <td>0.126904</td>\n    </tr>\n    <tr>\n      <th>28</th>\n      <td>felipe_prior</td>\n      <td>0.160907</td>\n      <td>0.5673</td>\n      <td>0.288144</td>\n      <td>57998</td>\n      <td>10</td>\n      <td>0.459226</td>\n      <td>0.383470</td>\n      <td>0.352728</td>\n      <td>0.455623</td>\n      <td>642881</td>\n      <td>0.441958</td>\n    </tr>\n  </tbody>\n</table>\n</div>"
     },
     "metadata": {},
     "execution_count": 62
    }
   ],
   "source": [
    "summary_df"
   ]
  },
  {
   "cell_type": "code",
   "execution_count": null,
   "metadata": {},
   "outputs": [],
   "source": []
  }
 ]
}