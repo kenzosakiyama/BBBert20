{
 "cells": [
  {
   "cell_type": "markdown",
   "metadata": {},
   "source": [
    "# Experimentos baseados em regressão utilizando AdaBoost"
   ]
  },
  {
   "cell_type": "markdown",
   "metadata": {},
   "source": [
    "- Utilizando cada paredão como teste e avaliando com holdout."
   ]
  },
  {
   "cell_type": "code",
   "execution_count": 1,
   "metadata": {},
   "outputs": [],
   "source": [
    "import pandas as pd \n",
    "import numpy as np \n",
    "from regression_utils import *\n",
    "from sklearn.ensemble import AdaBoostRegressor"
   ]
  },
  {
   "cell_type": "code",
   "execution_count": 2,
   "metadata": {},
   "outputs": [],
   "source": [
    "REMOVE = [\"positivos\", \"neutros\", \"negativos\", \"likes\", \"retweets\", \"day2\", \"day3\"]"
   ]
  },
  {
   "cell_type": "code",
   "execution_count": 3,
   "metadata": {},
   "outputs": [],
   "source": [
    "NORMALIZE = False\n",
    "# ESTIMATORS = 100\n",
    "# LOSS = \"linear\"\n",
    "# LR = 1\n",
    "# Parâmetros Grid Search\n",
    "ESTIMATORS = 200\n",
    "LOSS = \"linear\"\n",
    "LR = 0.55\n"
   ]
  },
  {
   "cell_type": "code",
   "execution_count": 4,
   "metadata": {},
   "outputs": [],
   "source": [
    "summary_df = pd.DataFrame(columns=set(COLUMNS) - set(REMOVE))"
   ]
  },
  {
   "cell_type": "markdown",
   "metadata": {},
   "source": [
    "# Paredao 1"
   ]
  },
  {
   "cell_type": "code",
   "execution_count": 5,
   "metadata": {},
   "outputs": [],
   "source": [
    "train_df, test_df = get_train_test(1, normalize=NORMALIZE, drop_columns=REMOVE)"
   ]
  },
  {
   "cell_type": "code",
   "execution_count": 6,
   "metadata": {},
   "outputs": [
    {
     "output_type": "execute_result",
     "data": {
      "text/plain": "   paredao            nome  positivos_individual_pct  neutros_individual_pct  \\\n27       1  bianca_andrade                  0.361998                 0.37108   \n28       1    lucas_chumbo                  0.178042                 0.35204   \n\n    negativos_individual_pct  positivos_global_pct  neutros_global_pct  \\\n27                  0.266922              0.483052            0.326345   \n28                  0.469919              0.516948            0.673655   \n\n    negativos_global_pct   day1  seguidores  fica  fora  rejeicao  \n27               0.20701   5849      411880   576    59    0.2446  \n28               0.79299  22759       12014    64  1425    0.7594  ",
      "text/html": "<div>\n<style scoped>\n    .dataframe tbody tr th:only-of-type {\n        vertical-align: middle;\n    }\n\n    .dataframe tbody tr th {\n        vertical-align: top;\n    }\n\n    .dataframe thead th {\n        text-align: right;\n    }\n</style>\n<table border=\"1\" class=\"dataframe\">\n  <thead>\n    <tr style=\"text-align: right;\">\n      <th></th>\n      <th>paredao</th>\n      <th>nome</th>\n      <th>positivos_individual_pct</th>\n      <th>neutros_individual_pct</th>\n      <th>negativos_individual_pct</th>\n      <th>positivos_global_pct</th>\n      <th>neutros_global_pct</th>\n      <th>negativos_global_pct</th>\n      <th>day1</th>\n      <th>seguidores</th>\n      <th>fica</th>\n      <th>fora</th>\n      <th>rejeicao</th>\n    </tr>\n  </thead>\n  <tbody>\n    <tr>\n      <th>27</th>\n      <td>1</td>\n      <td>bianca_andrade</td>\n      <td>0.361998</td>\n      <td>0.37108</td>\n      <td>0.266922</td>\n      <td>0.483052</td>\n      <td>0.326345</td>\n      <td>0.20701</td>\n      <td>5849</td>\n      <td>411880</td>\n      <td>576</td>\n      <td>59</td>\n      <td>0.2446</td>\n    </tr>\n    <tr>\n      <th>28</th>\n      <td>1</td>\n      <td>lucas_chumbo</td>\n      <td>0.178042</td>\n      <td>0.35204</td>\n      <td>0.469919</td>\n      <td>0.516948</td>\n      <td>0.673655</td>\n      <td>0.79299</td>\n      <td>22759</td>\n      <td>12014</td>\n      <td>64</td>\n      <td>1425</td>\n      <td>0.7594</td>\n    </tr>\n  </tbody>\n</table>\n</div>"
     },
     "metadata": {},
     "execution_count": 6
    }
   ],
   "source": [
    "test_df"
   ]
  },
  {
   "cell_type": "code",
   "execution_count": 7,
   "metadata": {},
   "outputs": [],
   "source": [
    "x_train, y_train = train_df.drop(columns=[\"paredao\", \"nome\", \"rejeicao\"], axis=1).to_numpy(), train_df.drop(columns=train_df.columns[:-1], axis=1).to_numpy()\n",
    "x_test, y_test = test_df.drop(columns=[\"paredao\", \"nome\", \"rejeicao\"], axis=1).to_numpy(), test_df.drop(columns=train_df.columns[:-1], axis=1).to_numpy()"
   ]
  },
  {
   "cell_type": "code",
   "execution_count": 8,
   "metadata": {},
   "outputs": [],
   "source": [
    "regressor = AdaBoostRegressor(n_estimators=ESTIMATORS, learning_rate=LR, loss=LOSS)"
   ]
  },
  {
   "cell_type": "code",
   "execution_count": 9,
   "metadata": {},
   "outputs": [],
   "source": [
    "_ = regressor.fit(x_train, y_train)"
   ]
  },
  {
   "cell_type": "code",
   "execution_count": 10,
   "metadata": {},
   "outputs": [],
   "source": [
    "prediction = regressor.predict(x_test)\n",
    "test_df[\"predicao\"] = prediction\n",
    "summary_df = summary_df.append(test_df, ignore_index=True, sort=False)"
   ]
  },
  {
   "cell_type": "code",
   "execution_count": 11,
   "metadata": {},
   "outputs": [
    {
     "output_type": "execute_result",
     "data": {
      "text/plain": "   paredao            nome  positivos_individual_pct  neutros_individual_pct  \\\n28       1    lucas_chumbo                  0.178042                 0.35204   \n27       1  bianca_andrade                  0.361998                 0.37108   \n\n    negativos_individual_pct  positivos_global_pct  neutros_global_pct  \\\n28                  0.469919              0.516948            0.673655   \n27                  0.266922              0.483052            0.326345   \n\n    negativos_global_pct   day1  seguidores  fica  fora  rejeicao  predicao  \n28               0.79299  22759       12014    64  1425    0.7594  0.759122  \n27               0.20701   5849      411880   576    59    0.2446  0.050638  ",
      "text/html": "<div>\n<style scoped>\n    .dataframe tbody tr th:only-of-type {\n        vertical-align: middle;\n    }\n\n    .dataframe tbody tr th {\n        vertical-align: top;\n    }\n\n    .dataframe thead th {\n        text-align: right;\n    }\n</style>\n<table border=\"1\" class=\"dataframe\">\n  <thead>\n    <tr style=\"text-align: right;\">\n      <th></th>\n      <th>paredao</th>\n      <th>nome</th>\n      <th>positivos_individual_pct</th>\n      <th>neutros_individual_pct</th>\n      <th>negativos_individual_pct</th>\n      <th>positivos_global_pct</th>\n      <th>neutros_global_pct</th>\n      <th>negativos_global_pct</th>\n      <th>day1</th>\n      <th>seguidores</th>\n      <th>fica</th>\n      <th>fora</th>\n      <th>rejeicao</th>\n      <th>predicao</th>\n    </tr>\n  </thead>\n  <tbody>\n    <tr>\n      <th>28</th>\n      <td>1</td>\n      <td>lucas_chumbo</td>\n      <td>0.178042</td>\n      <td>0.35204</td>\n      <td>0.469919</td>\n      <td>0.516948</td>\n      <td>0.673655</td>\n      <td>0.79299</td>\n      <td>22759</td>\n      <td>12014</td>\n      <td>64</td>\n      <td>1425</td>\n      <td>0.7594</td>\n      <td>0.759122</td>\n    </tr>\n    <tr>\n      <th>27</th>\n      <td>1</td>\n      <td>bianca_andrade</td>\n      <td>0.361998</td>\n      <td>0.37108</td>\n      <td>0.266922</td>\n      <td>0.483052</td>\n      <td>0.326345</td>\n      <td>0.20701</td>\n      <td>5849</td>\n      <td>411880</td>\n      <td>576</td>\n      <td>59</td>\n      <td>0.2446</td>\n      <td>0.050638</td>\n    </tr>\n  </tbody>\n</table>\n</div>"
     },
     "metadata": {},
     "execution_count": 11
    }
   ],
   "source": [
    "test_df.sort_values(by=\"predicao\", ascending=False)"
   ]
  },
  {
   "cell_type": "markdown",
   "metadata": {},
   "source": [
    "# Paredao 2"
   ]
  },
  {
   "cell_type": "code",
   "execution_count": 12,
   "metadata": {},
   "outputs": [
    {
     "output_type": "execute_result",
     "data": {
      "text/plain": "   paredao    nome  positivos_individual_pct  neutros_individual_pct  \\\n23       2    babu                  0.300946                0.397872   \n24       2  petrix                  0.146594                0.339433   \n25       2   pyong                  0.414681                0.316993   \n26       2  hadson                  0.147875                0.309531   \n\n    negativos_individual_pct  positivos_global_pct  neutros_global_pct  \\\n23                  0.301182              0.067775            0.054604   \n24                  0.513974              0.316781            0.446991   \n25                  0.268326              0.353997            0.164906   \n26                  0.542595              0.261447            0.333499   \n\n    negativos_global_pct   day1  seguidores  fica   fora  rejeicao  \n23              0.028657   5606      325345    39    141    0.0044  \n24              0.469254  46679       22414    62  10253    0.8027  \n25              0.096777  12527     1431039   293    112    0.0066  \n26              0.405312  25263       10207    24   4289    0.1863  ",
      "text/html": "<div>\n<style scoped>\n    .dataframe tbody tr th:only-of-type {\n        vertical-align: middle;\n    }\n\n    .dataframe tbody tr th {\n        vertical-align: top;\n    }\n\n    .dataframe thead th {\n        text-align: right;\n    }\n</style>\n<table border=\"1\" class=\"dataframe\">\n  <thead>\n    <tr style=\"text-align: right;\">\n      <th></th>\n      <th>paredao</th>\n      <th>nome</th>\n      <th>positivos_individual_pct</th>\n      <th>neutros_individual_pct</th>\n      <th>negativos_individual_pct</th>\n      <th>positivos_global_pct</th>\n      <th>neutros_global_pct</th>\n      <th>negativos_global_pct</th>\n      <th>day1</th>\n      <th>seguidores</th>\n      <th>fica</th>\n      <th>fora</th>\n      <th>rejeicao</th>\n    </tr>\n  </thead>\n  <tbody>\n    <tr>\n      <th>23</th>\n      <td>2</td>\n      <td>babu</td>\n      <td>0.300946</td>\n      <td>0.397872</td>\n      <td>0.301182</td>\n      <td>0.067775</td>\n      <td>0.054604</td>\n      <td>0.028657</td>\n      <td>5606</td>\n      <td>325345</td>\n      <td>39</td>\n      <td>141</td>\n      <td>0.0044</td>\n    </tr>\n    <tr>\n      <th>24</th>\n      <td>2</td>\n      <td>petrix</td>\n      <td>0.146594</td>\n      <td>0.339433</td>\n      <td>0.513974</td>\n      <td>0.316781</td>\n      <td>0.446991</td>\n      <td>0.469254</td>\n      <td>46679</td>\n      <td>22414</td>\n      <td>62</td>\n      <td>10253</td>\n      <td>0.8027</td>\n    </tr>\n    <tr>\n      <th>25</th>\n      <td>2</td>\n      <td>pyong</td>\n      <td>0.414681</td>\n      <td>0.316993</td>\n      <td>0.268326</td>\n      <td>0.353997</td>\n      <td>0.164906</td>\n      <td>0.096777</td>\n      <td>12527</td>\n      <td>1431039</td>\n      <td>293</td>\n      <td>112</td>\n      <td>0.0066</td>\n    </tr>\n    <tr>\n      <th>26</th>\n      <td>2</td>\n      <td>hadson</td>\n      <td>0.147875</td>\n      <td>0.309531</td>\n      <td>0.542595</td>\n      <td>0.261447</td>\n      <td>0.333499</td>\n      <td>0.405312</td>\n      <td>25263</td>\n      <td>10207</td>\n      <td>24</td>\n      <td>4289</td>\n      <td>0.1863</td>\n    </tr>\n  </tbody>\n</table>\n</div>"
     },
     "metadata": {},
     "execution_count": 12
    }
   ],
   "source": [
    "train_df, test_df = get_train_test(2, normalize=NORMALIZE, drop_columns=REMOVE)\n",
    "test_df\n",
    ""
   ]
  },
  {
   "cell_type": "code",
   "execution_count": 13,
   "metadata": {},
   "outputs": [],
   "source": [
    "x_train, y_train = train_df.drop(columns=[\"paredao\", \"nome\", \"rejeicao\"], axis=1).to_numpy(), train_df.drop(columns=train_df.columns[:-1], axis=1).to_numpy()\n",
    "x_test, y_test = test_df.drop(columns=[\"paredao\", \"nome\", \"rejeicao\"], axis=1).to_numpy(), test_df.drop(columns=train_df.columns[:-1], axis=1).to_numpy()"
   ]
  },
  {
   "cell_type": "code",
   "execution_count": 14,
   "metadata": {},
   "outputs": [],
   "source": [
    "regressor = AdaBoostRegressor(n_estimators=ESTIMATORS, learning_rate=LR, loss=LOSS)"
   ]
  },
  {
   "cell_type": "code",
   "execution_count": 15,
   "metadata": {},
   "outputs": [],
   "source": [
    "_ = regressor.fit(x_train, y_train)\n",
    ""
   ]
  },
  {
   "cell_type": "code",
   "execution_count": 16,
   "metadata": {},
   "outputs": [],
   "source": [
    "prediction = regressor.predict(x_test)\n",
    "test_df[\"predicao\"] = prediction\n",
    "summary_df = summary_df.append(test_df, ignore_index=True, sort=False)\n",
    "\n",
    ""
   ]
  },
  {
   "cell_type": "code",
   "execution_count": 17,
   "metadata": {},
   "outputs": [
    {
     "output_type": "execute_result",
     "data": {
      "text/plain": "   paredao    nome  positivos_individual_pct  neutros_individual_pct  \\\n24       2  petrix                  0.146594                0.339433   \n26       2  hadson                  0.147875                0.309531   \n23       2    babu                  0.300946                0.397872   \n25       2   pyong                  0.414681                0.316993   \n\n    negativos_individual_pct  positivos_global_pct  neutros_global_pct  \\\n24                  0.513974              0.316781            0.446991   \n26                  0.542595              0.261447            0.333499   \n23                  0.301182              0.067775            0.054604   \n25                  0.268326              0.353997            0.164906   \n\n    negativos_global_pct   day1  seguidores  fica   fora  rejeicao  predicao  \n24              0.469254  46679       22414    62  10253    0.8027  0.759400  \n26              0.405312  25263       10207    24   4289    0.1863  0.759400  \n23              0.028657   5606      325345    39    141    0.0044  0.352633  \n25              0.096777  12527     1431039   293    112    0.0066  0.060880  ",
      "text/html": "<div>\n<style scoped>\n    .dataframe tbody tr th:only-of-type {\n        vertical-align: middle;\n    }\n\n    .dataframe tbody tr th {\n        vertical-align: top;\n    }\n\n    .dataframe thead th {\n        text-align: right;\n    }\n</style>\n<table border=\"1\" class=\"dataframe\">\n  <thead>\n    <tr style=\"text-align: right;\">\n      <th></th>\n      <th>paredao</th>\n      <th>nome</th>\n      <th>positivos_individual_pct</th>\n      <th>neutros_individual_pct</th>\n      <th>negativos_individual_pct</th>\n      <th>positivos_global_pct</th>\n      <th>neutros_global_pct</th>\n      <th>negativos_global_pct</th>\n      <th>day1</th>\n      <th>seguidores</th>\n      <th>fica</th>\n      <th>fora</th>\n      <th>rejeicao</th>\n      <th>predicao</th>\n    </tr>\n  </thead>\n  <tbody>\n    <tr>\n      <th>24</th>\n      <td>2</td>\n      <td>petrix</td>\n      <td>0.146594</td>\n      <td>0.339433</td>\n      <td>0.513974</td>\n      <td>0.316781</td>\n      <td>0.446991</td>\n      <td>0.469254</td>\n      <td>46679</td>\n      <td>22414</td>\n      <td>62</td>\n      <td>10253</td>\n      <td>0.8027</td>\n      <td>0.759400</td>\n    </tr>\n    <tr>\n      <th>26</th>\n      <td>2</td>\n      <td>hadson</td>\n      <td>0.147875</td>\n      <td>0.309531</td>\n      <td>0.542595</td>\n      <td>0.261447</td>\n      <td>0.333499</td>\n      <td>0.405312</td>\n      <td>25263</td>\n      <td>10207</td>\n      <td>24</td>\n      <td>4289</td>\n      <td>0.1863</td>\n      <td>0.759400</td>\n    </tr>\n    <tr>\n      <th>23</th>\n      <td>2</td>\n      <td>babu</td>\n      <td>0.300946</td>\n      <td>0.397872</td>\n      <td>0.301182</td>\n      <td>0.067775</td>\n      <td>0.054604</td>\n      <td>0.028657</td>\n      <td>5606</td>\n      <td>325345</td>\n      <td>39</td>\n      <td>141</td>\n      <td>0.0044</td>\n      <td>0.352633</td>\n    </tr>\n    <tr>\n      <th>25</th>\n      <td>2</td>\n      <td>pyong</td>\n      <td>0.414681</td>\n      <td>0.316993</td>\n      <td>0.268326</td>\n      <td>0.353997</td>\n      <td>0.164906</td>\n      <td>0.096777</td>\n      <td>12527</td>\n      <td>1431039</td>\n      <td>293</td>\n      <td>112</td>\n      <td>0.0066</td>\n      <td>0.060880</td>\n    </tr>\n  </tbody>\n</table>\n</div>"
     },
     "metadata": {},
     "execution_count": 17
    }
   ],
   "source": [
    "test_df.sort_values(by=\"predicao\", ascending=False)"
   ]
  },
  {
   "cell_type": "markdown",
   "metadata": {},
   "source": [
    "# Paredao 3"
   ]
  },
  {
   "cell_type": "code",
   "execution_count": 18,
   "metadata": {},
   "outputs": [
    {
     "output_type": "execute_result",
     "data": {
      "text/plain": "   paredao          nome  positivos_individual_pct  neutros_individual_pct  \\\n9        3  felipe_prior                  0.281135                0.369039   \n10       3        hadson                  0.208189                0.437694   \n\n    negativos_individual_pct  positivos_global_pct  neutros_global_pct  \\\n9                   0.349826               0.54644            0.429299   \n10                  0.354117               0.45356            0.570701   \n\n    negativos_global_pct  day1  seguidores  fica  fora  rejeicao  \n9               0.468471  1138      204031   116    76    0.2029  \n10              0.531529  1903       10207    32  1411    0.7971  ",
      "text/html": "<div>\n<style scoped>\n    .dataframe tbody tr th:only-of-type {\n        vertical-align: middle;\n    }\n\n    .dataframe tbody tr th {\n        vertical-align: top;\n    }\n\n    .dataframe thead th {\n        text-align: right;\n    }\n</style>\n<table border=\"1\" class=\"dataframe\">\n  <thead>\n    <tr style=\"text-align: right;\">\n      <th></th>\n      <th>paredao</th>\n      <th>nome</th>\n      <th>positivos_individual_pct</th>\n      <th>neutros_individual_pct</th>\n      <th>negativos_individual_pct</th>\n      <th>positivos_global_pct</th>\n      <th>neutros_global_pct</th>\n      <th>negativos_global_pct</th>\n      <th>day1</th>\n      <th>seguidores</th>\n      <th>fica</th>\n      <th>fora</th>\n      <th>rejeicao</th>\n    </tr>\n  </thead>\n  <tbody>\n    <tr>\n      <th>9</th>\n      <td>3</td>\n      <td>felipe_prior</td>\n      <td>0.281135</td>\n      <td>0.369039</td>\n      <td>0.349826</td>\n      <td>0.54644</td>\n      <td>0.429299</td>\n      <td>0.468471</td>\n      <td>1138</td>\n      <td>204031</td>\n      <td>116</td>\n      <td>76</td>\n      <td>0.2029</td>\n    </tr>\n    <tr>\n      <th>10</th>\n      <td>3</td>\n      <td>hadson</td>\n      <td>0.208189</td>\n      <td>0.437694</td>\n      <td>0.354117</td>\n      <td>0.45356</td>\n      <td>0.570701</td>\n      <td>0.531529</td>\n      <td>1903</td>\n      <td>10207</td>\n      <td>32</td>\n      <td>1411</td>\n      <td>0.7971</td>\n    </tr>\n  </tbody>\n</table>\n</div>"
     },
     "metadata": {},
     "execution_count": 18
    }
   ],
   "source": [
    "train_df, test_df = get_train_test(3, normalize=NORMALIZE,  drop_columns=REMOVE)\n",
    "test_df\n",
    ""
   ]
  },
  {
   "cell_type": "code",
   "execution_count": 19,
   "metadata": {},
   "outputs": [],
   "source": [
    "x_train, y_train = train_df.drop(columns=[\"paredao\", \"nome\", \"rejeicao\"], axis=1).to_numpy(), train_df.drop(columns=train_df.columns[:-1], axis=1).to_numpy()\n",
    "x_test, y_test = test_df.drop(columns=[\"paredao\", \"nome\", \"rejeicao\"], axis=1).to_numpy(), test_df.drop(columns=train_df.columns[:-1], axis=1).to_numpy()"
   ]
  },
  {
   "cell_type": "code",
   "execution_count": 20,
   "metadata": {},
   "outputs": [],
   "source": [
    "regressor = AdaBoostRegressor(n_estimators=ESTIMATORS, learning_rate=LR, loss=LOSS)"
   ]
  },
  {
   "cell_type": "code",
   "execution_count": 21,
   "metadata": {},
   "outputs": [],
   "source": [
    "_ = regressor.fit(x_train, y_train)"
   ]
  },
  {
   "cell_type": "code",
   "execution_count": 22,
   "metadata": {},
   "outputs": [],
   "source": [
    "prediction = regressor.predict(x_test)\n",
    "test_df[\"predicao\"] = prediction\n",
    "summary_df = summary_df.append(test_df, ignore_index=True, sort=False)"
   ]
  },
  {
   "cell_type": "code",
   "execution_count": 23,
   "metadata": {},
   "outputs": [
    {
     "output_type": "execute_result",
     "data": {
      "text/plain": "   paredao          nome  positivos_individual_pct  neutros_individual_pct  \\\n10       3        hadson                  0.208189                0.437694   \n9        3  felipe_prior                  0.281135                0.369039   \n\n    negativos_individual_pct  positivos_global_pct  neutros_global_pct  \\\n10                  0.354117               0.45356            0.570701   \n9                   0.349826               0.54644            0.429299   \n\n    negativos_global_pct  day1  seguidores  fica  fora  rejeicao  predicao  \n10              0.531529  1903       10207    32  1411    0.7971  0.748675  \n9               0.468471  1138      204031   116    76    0.2029  0.215650  ",
      "text/html": "<div>\n<style scoped>\n    .dataframe tbody tr th:only-of-type {\n        vertical-align: middle;\n    }\n\n    .dataframe tbody tr th {\n        vertical-align: top;\n    }\n\n    .dataframe thead th {\n        text-align: right;\n    }\n</style>\n<table border=\"1\" class=\"dataframe\">\n  <thead>\n    <tr style=\"text-align: right;\">\n      <th></th>\n      <th>paredao</th>\n      <th>nome</th>\n      <th>positivos_individual_pct</th>\n      <th>neutros_individual_pct</th>\n      <th>negativos_individual_pct</th>\n      <th>positivos_global_pct</th>\n      <th>neutros_global_pct</th>\n      <th>negativos_global_pct</th>\n      <th>day1</th>\n      <th>seguidores</th>\n      <th>fica</th>\n      <th>fora</th>\n      <th>rejeicao</th>\n      <th>predicao</th>\n    </tr>\n  </thead>\n  <tbody>\n    <tr>\n      <th>10</th>\n      <td>3</td>\n      <td>hadson</td>\n      <td>0.208189</td>\n      <td>0.437694</td>\n      <td>0.354117</td>\n      <td>0.45356</td>\n      <td>0.570701</td>\n      <td>0.531529</td>\n      <td>1903</td>\n      <td>10207</td>\n      <td>32</td>\n      <td>1411</td>\n      <td>0.7971</td>\n      <td>0.748675</td>\n    </tr>\n    <tr>\n      <th>9</th>\n      <td>3</td>\n      <td>felipe_prior</td>\n      <td>0.281135</td>\n      <td>0.369039</td>\n      <td>0.349826</td>\n      <td>0.54644</td>\n      <td>0.429299</td>\n      <td>0.468471</td>\n      <td>1138</td>\n      <td>204031</td>\n      <td>116</td>\n      <td>76</td>\n      <td>0.2029</td>\n      <td>0.215650</td>\n    </tr>\n  </tbody>\n</table>\n</div>"
     },
     "metadata": {},
     "execution_count": 23
    }
   ],
   "source": [
    "test_df.sort_values(by=\"predicao\", ascending=False)"
   ]
  },
  {
   "cell_type": "markdown",
   "metadata": {},
   "source": [
    "# Paredao 4"
   ]
  },
  {
   "cell_type": "code",
   "execution_count": 24,
   "metadata": {},
   "outputs": [
    {
     "output_type": "execute_result",
     "data": {
      "text/plain": "   paredao         nome  positivos_individual_pct  neutros_individual_pct  \\\n35       4         babu                  0.185986                0.297259   \n36       4  victor_hugo                  0.227361                0.369350   \n37       4        lucas                  0.197421                0.291340   \n\n    negativos_individual_pct  positivos_global_pct  neutros_global_pct  \\\n35                  0.516754              0.311138            0.324375   \n36                  0.403289              0.129081            0.136781   \n37                  0.511239              0.559781            0.538845   \n\n    negativos_global_pct   day1  seguidores  fica  fora  rejeicao  \n35              0.339940  18271      325345   136   315    0.0130  \n36              0.090035   6845       14399    51   570    0.3608  \n37              0.570026  32223       23670   218  5952    0.6262  ",
      "text/html": "<div>\n<style scoped>\n    .dataframe tbody tr th:only-of-type {\n        vertical-align: middle;\n    }\n\n    .dataframe tbody tr th {\n        vertical-align: top;\n    }\n\n    .dataframe thead th {\n        text-align: right;\n    }\n</style>\n<table border=\"1\" class=\"dataframe\">\n  <thead>\n    <tr style=\"text-align: right;\">\n      <th></th>\n      <th>paredao</th>\n      <th>nome</th>\n      <th>positivos_individual_pct</th>\n      <th>neutros_individual_pct</th>\n      <th>negativos_individual_pct</th>\n      <th>positivos_global_pct</th>\n      <th>neutros_global_pct</th>\n      <th>negativos_global_pct</th>\n      <th>day1</th>\n      <th>seguidores</th>\n      <th>fica</th>\n      <th>fora</th>\n      <th>rejeicao</th>\n    </tr>\n  </thead>\n  <tbody>\n    <tr>\n      <th>35</th>\n      <td>4</td>\n      <td>babu</td>\n      <td>0.185986</td>\n      <td>0.297259</td>\n      <td>0.516754</td>\n      <td>0.311138</td>\n      <td>0.324375</td>\n      <td>0.339940</td>\n      <td>18271</td>\n      <td>325345</td>\n      <td>136</td>\n      <td>315</td>\n      <td>0.0130</td>\n    </tr>\n    <tr>\n      <th>36</th>\n      <td>4</td>\n      <td>victor_hugo</td>\n      <td>0.227361</td>\n      <td>0.369350</td>\n      <td>0.403289</td>\n      <td>0.129081</td>\n      <td>0.136781</td>\n      <td>0.090035</td>\n      <td>6845</td>\n      <td>14399</td>\n      <td>51</td>\n      <td>570</td>\n      <td>0.3608</td>\n    </tr>\n    <tr>\n      <th>37</th>\n      <td>4</td>\n      <td>lucas</td>\n      <td>0.197421</td>\n      <td>0.291340</td>\n      <td>0.511239</td>\n      <td>0.559781</td>\n      <td>0.538845</td>\n      <td>0.570026</td>\n      <td>32223</td>\n      <td>23670</td>\n      <td>218</td>\n      <td>5952</td>\n      <td>0.6262</td>\n    </tr>\n  </tbody>\n</table>\n</div>"
     },
     "metadata": {},
     "execution_count": 24
    }
   ],
   "source": [
    "train_df, test_df = get_train_test(4, normalize=NORMALIZE,  drop_columns=REMOVE)\n",
    "test_df\n",
    ""
   ]
  },
  {
   "cell_type": "code",
   "execution_count": 25,
   "metadata": {},
   "outputs": [],
   "source": [
    "x_train, y_train = train_df.drop(columns=[\"paredao\", \"nome\", \"rejeicao\"], axis=1).to_numpy(), train_df.drop(columns=train_df.columns[:-1], axis=1).to_numpy()\n",
    "x_test, y_test = test_df.drop(columns=[\"paredao\", \"nome\", \"rejeicao\"], axis=1).to_numpy(), test_df.drop(columns=train_df.columns[:-1], axis=1).to_numpy()"
   ]
  },
  {
   "cell_type": "code",
   "execution_count": 26,
   "metadata": {},
   "outputs": [],
   "source": [
    "regressor = AdaBoostRegressor(n_estimators=ESTIMATORS, learning_rate=LR, loss=LOSS)"
   ]
  },
  {
   "cell_type": "code",
   "execution_count": 27,
   "metadata": {},
   "outputs": [],
   "source": [
    "_ = regressor.fit(x_train, y_train)\n",
    ""
   ]
  },
  {
   "cell_type": "code",
   "execution_count": 28,
   "metadata": {},
   "outputs": [],
   "source": [
    "prediction = regressor.predict(x_test)\n",
    "test_df[\"predicao\"] = prediction\n",
    "summary_df = summary_df.append(test_df, ignore_index=True, sort=False)"
   ]
  },
  {
   "cell_type": "code",
   "execution_count": 29,
   "metadata": {},
   "outputs": [
    {
     "output_type": "execute_result",
     "data": {
      "text/plain": "   paredao         nome  positivos_individual_pct  neutros_individual_pct  \\\n37       4        lucas                  0.197421                0.291340   \n36       4  victor_hugo                  0.227361                0.369350   \n35       4         babu                  0.185986                0.297259   \n\n    negativos_individual_pct  positivos_global_pct  neutros_global_pct  \\\n37                  0.511239              0.559781            0.538845   \n36                  0.403289              0.129081            0.136781   \n35                  0.516754              0.311138            0.324375   \n\n    negativos_global_pct   day1  seguidores  fica  fora  rejeicao  predicao  \n37              0.570026  32223       23670   218  5952    0.6262   0.57850  \n36              0.090035   6845       14399    51   570    0.3608   0.17640  \n35              0.339940  18271      325345   136   315    0.0130   0.08972  ",
      "text/html": "<div>\n<style scoped>\n    .dataframe tbody tr th:only-of-type {\n        vertical-align: middle;\n    }\n\n    .dataframe tbody tr th {\n        vertical-align: top;\n    }\n\n    .dataframe thead th {\n        text-align: right;\n    }\n</style>\n<table border=\"1\" class=\"dataframe\">\n  <thead>\n    <tr style=\"text-align: right;\">\n      <th></th>\n      <th>paredao</th>\n      <th>nome</th>\n      <th>positivos_individual_pct</th>\n      <th>neutros_individual_pct</th>\n      <th>negativos_individual_pct</th>\n      <th>positivos_global_pct</th>\n      <th>neutros_global_pct</th>\n      <th>negativos_global_pct</th>\n      <th>day1</th>\n      <th>seguidores</th>\n      <th>fica</th>\n      <th>fora</th>\n      <th>rejeicao</th>\n      <th>predicao</th>\n    </tr>\n  </thead>\n  <tbody>\n    <tr>\n      <th>37</th>\n      <td>4</td>\n      <td>lucas</td>\n      <td>0.197421</td>\n      <td>0.291340</td>\n      <td>0.511239</td>\n      <td>0.559781</td>\n      <td>0.538845</td>\n      <td>0.570026</td>\n      <td>32223</td>\n      <td>23670</td>\n      <td>218</td>\n      <td>5952</td>\n      <td>0.6262</td>\n      <td>0.57850</td>\n    </tr>\n    <tr>\n      <th>36</th>\n      <td>4</td>\n      <td>victor_hugo</td>\n      <td>0.227361</td>\n      <td>0.369350</td>\n      <td>0.403289</td>\n      <td>0.129081</td>\n      <td>0.136781</td>\n      <td>0.090035</td>\n      <td>6845</td>\n      <td>14399</td>\n      <td>51</td>\n      <td>570</td>\n      <td>0.3608</td>\n      <td>0.17640</td>\n    </tr>\n    <tr>\n      <th>35</th>\n      <td>4</td>\n      <td>babu</td>\n      <td>0.185986</td>\n      <td>0.297259</td>\n      <td>0.516754</td>\n      <td>0.311138</td>\n      <td>0.324375</td>\n      <td>0.339940</td>\n      <td>18271</td>\n      <td>325345</td>\n      <td>136</td>\n      <td>315</td>\n      <td>0.0130</td>\n      <td>0.08972</td>\n    </tr>\n  </tbody>\n</table>\n</div>"
     },
     "metadata": {},
     "execution_count": 29
    }
   ],
   "source": [
    "test_df.sort_values(by=\"predicao\", ascending=False)"
   ]
  },
  {
   "cell_type": "markdown",
   "metadata": {},
   "source": [
    "# Paredao 5"
   ]
  },
  {
   "cell_type": "code",
   "execution_count": 30,
   "metadata": {},
   "outputs": [
    {
     "output_type": "execute_result",
     "data": {
      "text/plain": "  paredao            nome  positivos_individual_pct  neutros_individual_pct  \\\n3       5  bianca_andrade                  0.221844                0.422179   \n4       5       flayslene                  0.181474                0.328450   \n5       5    felipe_prior                  0.146252                0.282867   \n\n   negativos_individual_pct  positivos_global_pct  neutros_global_pct  \\\n3                  0.355977              0.370866            0.371940   \n4                  0.490076              0.201575            0.192263   \n5                  0.570881              0.427559            0.435797   \n\n   negativos_global_pct  day1  seguidores  fica  fora  rejeicao  \n3              0.211900  1998      411880   608  1918    0.5309  \n4              0.193832  1935      104138   283  2872    0.1764  \n5              0.594268  3101      204031   798  7069    0.2927  ",
      "text/html": "<div>\n<style scoped>\n    .dataframe tbody tr th:only-of-type {\n        vertical-align: middle;\n    }\n\n    .dataframe tbody tr th {\n        vertical-align: top;\n    }\n\n    .dataframe thead th {\n        text-align: right;\n    }\n</style>\n<table border=\"1\" class=\"dataframe\">\n  <thead>\n    <tr style=\"text-align: right;\">\n      <th></th>\n      <th>paredao</th>\n      <th>nome</th>\n      <th>positivos_individual_pct</th>\n      <th>neutros_individual_pct</th>\n      <th>negativos_individual_pct</th>\n      <th>positivos_global_pct</th>\n      <th>neutros_global_pct</th>\n      <th>negativos_global_pct</th>\n      <th>day1</th>\n      <th>seguidores</th>\n      <th>fica</th>\n      <th>fora</th>\n      <th>rejeicao</th>\n    </tr>\n  </thead>\n  <tbody>\n    <tr>\n      <th>3</th>\n      <td>5</td>\n      <td>bianca_andrade</td>\n      <td>0.221844</td>\n      <td>0.422179</td>\n      <td>0.355977</td>\n      <td>0.370866</td>\n      <td>0.371940</td>\n      <td>0.211900</td>\n      <td>1998</td>\n      <td>411880</td>\n      <td>608</td>\n      <td>1918</td>\n      <td>0.5309</td>\n    </tr>\n    <tr>\n      <th>4</th>\n      <td>5</td>\n      <td>flayslene</td>\n      <td>0.181474</td>\n      <td>0.328450</td>\n      <td>0.490076</td>\n      <td>0.201575</td>\n      <td>0.192263</td>\n      <td>0.193832</td>\n      <td>1935</td>\n      <td>104138</td>\n      <td>283</td>\n      <td>2872</td>\n      <td>0.1764</td>\n    </tr>\n    <tr>\n      <th>5</th>\n      <td>5</td>\n      <td>felipe_prior</td>\n      <td>0.146252</td>\n      <td>0.282867</td>\n      <td>0.570881</td>\n      <td>0.427559</td>\n      <td>0.435797</td>\n      <td>0.594268</td>\n      <td>3101</td>\n      <td>204031</td>\n      <td>798</td>\n      <td>7069</td>\n      <td>0.2927</td>\n    </tr>\n  </tbody>\n</table>\n</div>"
     },
     "metadata": {},
     "execution_count": 30
    }
   ],
   "source": [
    "train_df, test_df = get_train_test(5, normalize=NORMALIZE,  drop_columns=REMOVE)\n",
    "test_df\n",
    ""
   ]
  },
  {
   "cell_type": "code",
   "execution_count": 31,
   "metadata": {},
   "outputs": [],
   "source": [
    "x_train, y_train = train_df.drop(columns=[\"paredao\", \"nome\", \"rejeicao\"], axis=1).to_numpy(), train_df.drop(columns=train_df.columns[:-1], axis=1).to_numpy()\n",
    "x_test, y_test = test_df.drop(columns=[\"paredao\", \"nome\", \"rejeicao\"], axis=1).to_numpy(), test_df.drop(columns=train_df.columns[:-1], axis=1).to_numpy()"
   ]
  },
  {
   "cell_type": "code",
   "execution_count": 32,
   "metadata": {},
   "outputs": [],
   "source": [
    "regressor = AdaBoostRegressor(n_estimators=ESTIMATORS, learning_rate=LR, loss=LOSS)"
   ]
  },
  {
   "cell_type": "code",
   "execution_count": 33,
   "metadata": {},
   "outputs": [],
   "source": [
    "_ = regressor.fit(x_train, y_train)\n",
    ""
   ]
  },
  {
   "cell_type": "code",
   "execution_count": 34,
   "metadata": {},
   "outputs": [],
   "source": [
    "prediction = regressor.predict(x_test)\n",
    "test_df[\"predicao\"] = prediction\n",
    "summary_df = summary_df.append(test_df, ignore_index=True, sort=False)"
   ]
  },
  {
   "cell_type": "code",
   "execution_count": 35,
   "metadata": {},
   "outputs": [
    {
     "output_type": "execute_result",
     "data": {
      "text/plain": "  paredao            nome  positivos_individual_pct  neutros_individual_pct  \\\n5       5    felipe_prior                  0.146252                0.282867   \n3       5  bianca_andrade                  0.221844                0.422179   \n4       5       flayslene                  0.181474                0.328450   \n\n   negativos_individual_pct  positivos_global_pct  neutros_global_pct  \\\n5                  0.570881              0.427559            0.435797   \n3                  0.355977              0.370866            0.371940   \n4                  0.490076              0.201575            0.192263   \n\n   negativos_global_pct  day1  seguidores  fica  fora  rejeicao  predicao  \n5              0.594268  3101      204031   798  7069    0.2927  0.532450  \n3              0.211900  1998      411880   608  1918    0.5309  0.283140  \n4              0.193832  1935      104138   283  2872    0.1764  0.179413  ",
      "text/html": "<div>\n<style scoped>\n    .dataframe tbody tr th:only-of-type {\n        vertical-align: middle;\n    }\n\n    .dataframe tbody tr th {\n        vertical-align: top;\n    }\n\n    .dataframe thead th {\n        text-align: right;\n    }\n</style>\n<table border=\"1\" class=\"dataframe\">\n  <thead>\n    <tr style=\"text-align: right;\">\n      <th></th>\n      <th>paredao</th>\n      <th>nome</th>\n      <th>positivos_individual_pct</th>\n      <th>neutros_individual_pct</th>\n      <th>negativos_individual_pct</th>\n      <th>positivos_global_pct</th>\n      <th>neutros_global_pct</th>\n      <th>negativos_global_pct</th>\n      <th>day1</th>\n      <th>seguidores</th>\n      <th>fica</th>\n      <th>fora</th>\n      <th>rejeicao</th>\n      <th>predicao</th>\n    </tr>\n  </thead>\n  <tbody>\n    <tr>\n      <th>5</th>\n      <td>5</td>\n      <td>felipe_prior</td>\n      <td>0.146252</td>\n      <td>0.282867</td>\n      <td>0.570881</td>\n      <td>0.427559</td>\n      <td>0.435797</td>\n      <td>0.594268</td>\n      <td>3101</td>\n      <td>204031</td>\n      <td>798</td>\n      <td>7069</td>\n      <td>0.2927</td>\n      <td>0.532450</td>\n    </tr>\n    <tr>\n      <th>3</th>\n      <td>5</td>\n      <td>bianca_andrade</td>\n      <td>0.221844</td>\n      <td>0.422179</td>\n      <td>0.355977</td>\n      <td>0.370866</td>\n      <td>0.371940</td>\n      <td>0.211900</td>\n      <td>1998</td>\n      <td>411880</td>\n      <td>608</td>\n      <td>1918</td>\n      <td>0.5309</td>\n      <td>0.283140</td>\n    </tr>\n    <tr>\n      <th>4</th>\n      <td>5</td>\n      <td>flayslene</td>\n      <td>0.181474</td>\n      <td>0.328450</td>\n      <td>0.490076</td>\n      <td>0.201575</td>\n      <td>0.192263</td>\n      <td>0.193832</td>\n      <td>1935</td>\n      <td>104138</td>\n      <td>283</td>\n      <td>2872</td>\n      <td>0.1764</td>\n      <td>0.179413</td>\n    </tr>\n  </tbody>\n</table>\n</div>"
     },
     "metadata": {},
     "execution_count": 35
    }
   ],
   "source": [
    "test_df.sort_values(by=\"predicao\", ascending=False)"
   ]
  },
  {
   "cell_type": "markdown",
   "metadata": {},
   "source": [
    "# Paredao 6"
   ]
  },
  {
   "cell_type": "code",
   "execution_count": 36,
   "metadata": {},
   "outputs": [
    {
     "output_type": "execute_result",
     "data": {
      "text/plain": "  paredao             nome  positivos_individual_pct  neutros_individual_pct  \\\n0       6  gizelly_bicalho                  0.387272                0.342758   \n1       6        guilherme                  0.152063                0.253358   \n2       6            pyong                  0.209643                0.271063   \n\n   negativos_individual_pct  positivos_global_pct  neutros_global_pct  \\\n0                  0.269970              0.342739            0.242732   \n1                  0.594579              0.258715            0.344924   \n2                  0.519294              0.398546            0.412345   \n\n   negativos_global_pct   day1  seguidores  fica   fora  rejeicao  \n0              0.106771  20904      234977  1348    427    0.0064  \n1              0.452061  49438      103421   244  27184    0.5607  \n2              0.441168  38968     1431039  1884  14897    0.4329  ",
      "text/html": "<div>\n<style scoped>\n    .dataframe tbody tr th:only-of-type {\n        vertical-align: middle;\n    }\n\n    .dataframe tbody tr th {\n        vertical-align: top;\n    }\n\n    .dataframe thead th {\n        text-align: right;\n    }\n</style>\n<table border=\"1\" class=\"dataframe\">\n  <thead>\n    <tr style=\"text-align: right;\">\n      <th></th>\n      <th>paredao</th>\n      <th>nome</th>\n      <th>positivos_individual_pct</th>\n      <th>neutros_individual_pct</th>\n      <th>negativos_individual_pct</th>\n      <th>positivos_global_pct</th>\n      <th>neutros_global_pct</th>\n      <th>negativos_global_pct</th>\n      <th>day1</th>\n      <th>seguidores</th>\n      <th>fica</th>\n      <th>fora</th>\n      <th>rejeicao</th>\n    </tr>\n  </thead>\n  <tbody>\n    <tr>\n      <th>0</th>\n      <td>6</td>\n      <td>gizelly_bicalho</td>\n      <td>0.387272</td>\n      <td>0.342758</td>\n      <td>0.269970</td>\n      <td>0.342739</td>\n      <td>0.242732</td>\n      <td>0.106771</td>\n      <td>20904</td>\n      <td>234977</td>\n      <td>1348</td>\n      <td>427</td>\n      <td>0.0064</td>\n    </tr>\n    <tr>\n      <th>1</th>\n      <td>6</td>\n      <td>guilherme</td>\n      <td>0.152063</td>\n      <td>0.253358</td>\n      <td>0.594579</td>\n      <td>0.258715</td>\n      <td>0.344924</td>\n      <td>0.452061</td>\n      <td>49438</td>\n      <td>103421</td>\n      <td>244</td>\n      <td>27184</td>\n      <td>0.5607</td>\n    </tr>\n    <tr>\n      <th>2</th>\n      <td>6</td>\n      <td>pyong</td>\n      <td>0.209643</td>\n      <td>0.271063</td>\n      <td>0.519294</td>\n      <td>0.398546</td>\n      <td>0.412345</td>\n      <td>0.441168</td>\n      <td>38968</td>\n      <td>1431039</td>\n      <td>1884</td>\n      <td>14897</td>\n      <td>0.4329</td>\n    </tr>\n  </tbody>\n</table>\n</div>"
     },
     "metadata": {},
     "execution_count": 36
    }
   ],
   "source": [
    "train_df, test_df = get_train_test(6, normalize=NORMALIZE,  drop_columns=REMOVE)\n",
    "test_df\n",
    ""
   ]
  },
  {
   "cell_type": "code",
   "execution_count": 37,
   "metadata": {},
   "outputs": [],
   "source": [
    "x_train, y_train = train_df.drop(columns=[\"paredao\", \"nome\", \"rejeicao\"], axis=1).to_numpy(), train_df.drop(columns=train_df.columns[:-1], axis=1).to_numpy()\n",
    "x_test, y_test = test_df.drop(columns=[\"paredao\", \"nome\", \"rejeicao\"], axis=1).to_numpy(), test_df.drop(columns=train_df.columns[:-1], axis=1).to_numpy()"
   ]
  },
  {
   "cell_type": "code",
   "execution_count": 38,
   "metadata": {},
   "outputs": [],
   "source": [
    "regressor = AdaBoostRegressor(n_estimators=ESTIMATORS, learning_rate=LR, loss=LOSS)"
   ]
  },
  {
   "cell_type": "code",
   "execution_count": 39,
   "metadata": {},
   "outputs": [],
   "source": [
    "_ = regressor.fit(x_train, y_train)\n",
    ""
   ]
  },
  {
   "cell_type": "code",
   "execution_count": 40,
   "metadata": {},
   "outputs": [],
   "source": [
    "prediction = regressor.predict(x_test)\n",
    "test_df[\"predicao\"] = prediction\n",
    "summary_df = summary_df.append(test_df, ignore_index=True, sort=False)"
   ]
  },
  {
   "cell_type": "code",
   "execution_count": 41,
   "metadata": {},
   "outputs": [
    {
     "output_type": "execute_result",
     "data": {
      "text/plain": "  paredao             nome  positivos_individual_pct  neutros_individual_pct  \\\n1       6        guilherme                  0.152063                0.253358   \n2       6            pyong                  0.209643                0.271063   \n0       6  gizelly_bicalho                  0.387272                0.342758   \n\n   negativos_individual_pct  positivos_global_pct  neutros_global_pct  \\\n1                  0.594579              0.258715            0.344924   \n2                  0.519294              0.398546            0.412345   \n0                  0.269970              0.342739            0.242732   \n\n   negativos_global_pct   day1  seguidores  fica   fora  rejeicao  predicao  \n1              0.452061  49438      103421   244  27184    0.5607  0.497600  \n2              0.441168  38968     1431039  1884  14897    0.4329  0.497600  \n0              0.106771  20904      234977  1348    427    0.0064  0.079762  ",
      "text/html": "<div>\n<style scoped>\n    .dataframe tbody tr th:only-of-type {\n        vertical-align: middle;\n    }\n\n    .dataframe tbody tr th {\n        vertical-align: top;\n    }\n\n    .dataframe thead th {\n        text-align: right;\n    }\n</style>\n<table border=\"1\" class=\"dataframe\">\n  <thead>\n    <tr style=\"text-align: right;\">\n      <th></th>\n      <th>paredao</th>\n      <th>nome</th>\n      <th>positivos_individual_pct</th>\n      <th>neutros_individual_pct</th>\n      <th>negativos_individual_pct</th>\n      <th>positivos_global_pct</th>\n      <th>neutros_global_pct</th>\n      <th>negativos_global_pct</th>\n      <th>day1</th>\n      <th>seguidores</th>\n      <th>fica</th>\n      <th>fora</th>\n      <th>rejeicao</th>\n      <th>predicao</th>\n    </tr>\n  </thead>\n  <tbody>\n    <tr>\n      <th>1</th>\n      <td>6</td>\n      <td>guilherme</td>\n      <td>0.152063</td>\n      <td>0.253358</td>\n      <td>0.594579</td>\n      <td>0.258715</td>\n      <td>0.344924</td>\n      <td>0.452061</td>\n      <td>49438</td>\n      <td>103421</td>\n      <td>244</td>\n      <td>27184</td>\n      <td>0.5607</td>\n      <td>0.497600</td>\n    </tr>\n    <tr>\n      <th>2</th>\n      <td>6</td>\n      <td>pyong</td>\n      <td>0.209643</td>\n      <td>0.271063</td>\n      <td>0.519294</td>\n      <td>0.398546</td>\n      <td>0.412345</td>\n      <td>0.441168</td>\n      <td>38968</td>\n      <td>1431039</td>\n      <td>1884</td>\n      <td>14897</td>\n      <td>0.4329</td>\n      <td>0.497600</td>\n    </tr>\n    <tr>\n      <th>0</th>\n      <td>6</td>\n      <td>gizelly_bicalho</td>\n      <td>0.387272</td>\n      <td>0.342758</td>\n      <td>0.269970</td>\n      <td>0.342739</td>\n      <td>0.242732</td>\n      <td>0.106771</td>\n      <td>20904</td>\n      <td>234977</td>\n      <td>1348</td>\n      <td>427</td>\n      <td>0.0064</td>\n      <td>0.079762</td>\n    </tr>\n  </tbody>\n</table>\n</div>"
     },
     "metadata": {},
     "execution_count": 41
    }
   ],
   "source": [
    "test_df.sort_values(by=\"predicao\", ascending=False)"
   ]
  },
  {
   "cell_type": "markdown",
   "metadata": {},
   "source": [
    "# Paredao 7"
   ]
  },
  {
   "cell_type": "code",
   "execution_count": 42,
   "metadata": {},
   "outputs": [
    {
     "output_type": "execute_result",
     "data": {
      "text/plain": "  paredao          nome  positivos_individual_pct  neutros_individual_pct  \\\n6       7          babu                  0.318519                0.299199   \n7       7  manu_gavassi                  0.339061                0.350323   \n8       7   victor_hugo                  0.205263                0.359956   \n\n   negativos_individual_pct  positivos_global_pct  neutros_global_pct  \\\n6                  0.382283              0.456325            0.382861   \n7                  0.310616              0.364322            0.336216   \n8                  0.434781              0.179353            0.280923   \n\n   negativos_global_pct   day1  seguidores  fica  fora  rejeicao  \n6              0.434205  19044      325345  1590   210    0.0460  \n7              0.264607  13372     4327060  1823   424    0.1018  \n8              0.301188  14217       14399    46  2473    0.8522  ",
      "text/html": "<div>\n<style scoped>\n    .dataframe tbody tr th:only-of-type {\n        vertical-align: middle;\n    }\n\n    .dataframe tbody tr th {\n        vertical-align: top;\n    }\n\n    .dataframe thead th {\n        text-align: right;\n    }\n</style>\n<table border=\"1\" class=\"dataframe\">\n  <thead>\n    <tr style=\"text-align: right;\">\n      <th></th>\n      <th>paredao</th>\n      <th>nome</th>\n      <th>positivos_individual_pct</th>\n      <th>neutros_individual_pct</th>\n      <th>negativos_individual_pct</th>\n      <th>positivos_global_pct</th>\n      <th>neutros_global_pct</th>\n      <th>negativos_global_pct</th>\n      <th>day1</th>\n      <th>seguidores</th>\n      <th>fica</th>\n      <th>fora</th>\n      <th>rejeicao</th>\n    </tr>\n  </thead>\n  <tbody>\n    <tr>\n      <th>6</th>\n      <td>7</td>\n      <td>babu</td>\n      <td>0.318519</td>\n      <td>0.299199</td>\n      <td>0.382283</td>\n      <td>0.456325</td>\n      <td>0.382861</td>\n      <td>0.434205</td>\n      <td>19044</td>\n      <td>325345</td>\n      <td>1590</td>\n      <td>210</td>\n      <td>0.0460</td>\n    </tr>\n    <tr>\n      <th>7</th>\n      <td>7</td>\n      <td>manu_gavassi</td>\n      <td>0.339061</td>\n      <td>0.350323</td>\n      <td>0.310616</td>\n      <td>0.364322</td>\n      <td>0.336216</td>\n      <td>0.264607</td>\n      <td>13372</td>\n      <td>4327060</td>\n      <td>1823</td>\n      <td>424</td>\n      <td>0.1018</td>\n    </tr>\n    <tr>\n      <th>8</th>\n      <td>7</td>\n      <td>victor_hugo</td>\n      <td>0.205263</td>\n      <td>0.359956</td>\n      <td>0.434781</td>\n      <td>0.179353</td>\n      <td>0.280923</td>\n      <td>0.301188</td>\n      <td>14217</td>\n      <td>14399</td>\n      <td>46</td>\n      <td>2473</td>\n      <td>0.8522</td>\n    </tr>\n  </tbody>\n</table>\n</div>"
     },
     "metadata": {},
     "execution_count": 42
    }
   ],
   "source": [
    "train_df, test_df = get_train_test(7, normalize=NORMALIZE,  drop_columns=REMOVE)\n",
    "test_df\n",
    ""
   ]
  },
  {
   "cell_type": "code",
   "execution_count": 43,
   "metadata": {},
   "outputs": [],
   "source": [
    "x_train, y_train = train_df.drop(columns=[\"paredao\", \"nome\", \"rejeicao\"], axis=1).to_numpy(), train_df.drop(columns=train_df.columns[:-1], axis=1).to_numpy()\n",
    "x_test, y_test = test_df.drop(columns=[\"paredao\", \"nome\", \"rejeicao\"], axis=1).to_numpy(), test_df.drop(columns=train_df.columns[:-1], axis=1).to_numpy()"
   ]
  },
  {
   "cell_type": "code",
   "execution_count": 44,
   "metadata": {},
   "outputs": [],
   "source": [
    "regressor = AdaBoostRegressor(n_estimators=ESTIMATORS, learning_rate=LR, loss=LOSS)"
   ]
  },
  {
   "cell_type": "code",
   "execution_count": 45,
   "metadata": {},
   "outputs": [],
   "source": [
    "_ = regressor.fit(x_train, y_train)\n",
    "prediction = regressor.predict(x_test)\n",
    "test_df[\"predicao\"] = prediction\n",
    "summary_df = summary_df.append(test_df, ignore_index=True, sort=False)\n",
    "\n",
    ""
   ]
  },
  {
   "cell_type": "code",
   "execution_count": 46,
   "metadata": {},
   "outputs": [
    {
     "output_type": "execute_result",
     "data": {
      "text/plain": "  paredao          nome  positivos_individual_pct  neutros_individual_pct  \\\n8       7   victor_hugo                  0.205263                0.359956   \n7       7  manu_gavassi                  0.339061                0.350323   \n6       7          babu                  0.318519                0.299199   \n\n   negativos_individual_pct  positivos_global_pct  neutros_global_pct  \\\n8                  0.434781              0.179353            0.280923   \n7                  0.310616              0.364322            0.336216   \n6                  0.382283              0.456325            0.382861   \n\n   negativos_global_pct   day1  seguidores  fica  fora  rejeicao  predicao  \n8              0.301188  14217       14399    46  2473    0.8522  0.298117  \n7              0.264607  13372     4327060  1823   424    0.1018  0.041100  \n6              0.434205  19044      325345  1590   210    0.0460  0.038664  ",
      "text/html": "<div>\n<style scoped>\n    .dataframe tbody tr th:only-of-type {\n        vertical-align: middle;\n    }\n\n    .dataframe tbody tr th {\n        vertical-align: top;\n    }\n\n    .dataframe thead th {\n        text-align: right;\n    }\n</style>\n<table border=\"1\" class=\"dataframe\">\n  <thead>\n    <tr style=\"text-align: right;\">\n      <th></th>\n      <th>paredao</th>\n      <th>nome</th>\n      <th>positivos_individual_pct</th>\n      <th>neutros_individual_pct</th>\n      <th>negativos_individual_pct</th>\n      <th>positivos_global_pct</th>\n      <th>neutros_global_pct</th>\n      <th>negativos_global_pct</th>\n      <th>day1</th>\n      <th>seguidores</th>\n      <th>fica</th>\n      <th>fora</th>\n      <th>rejeicao</th>\n      <th>predicao</th>\n    </tr>\n  </thead>\n  <tbody>\n    <tr>\n      <th>8</th>\n      <td>7</td>\n      <td>victor_hugo</td>\n      <td>0.205263</td>\n      <td>0.359956</td>\n      <td>0.434781</td>\n      <td>0.179353</td>\n      <td>0.280923</td>\n      <td>0.301188</td>\n      <td>14217</td>\n      <td>14399</td>\n      <td>46</td>\n      <td>2473</td>\n      <td>0.8522</td>\n      <td>0.298117</td>\n    </tr>\n    <tr>\n      <th>7</th>\n      <td>7</td>\n      <td>manu_gavassi</td>\n      <td>0.339061</td>\n      <td>0.350323</td>\n      <td>0.310616</td>\n      <td>0.364322</td>\n      <td>0.336216</td>\n      <td>0.264607</td>\n      <td>13372</td>\n      <td>4327060</td>\n      <td>1823</td>\n      <td>424</td>\n      <td>0.1018</td>\n      <td>0.041100</td>\n    </tr>\n    <tr>\n      <th>6</th>\n      <td>7</td>\n      <td>babu</td>\n      <td>0.318519</td>\n      <td>0.299199</td>\n      <td>0.382283</td>\n      <td>0.456325</td>\n      <td>0.382861</td>\n      <td>0.434205</td>\n      <td>19044</td>\n      <td>325345</td>\n      <td>1590</td>\n      <td>210</td>\n      <td>0.0460</td>\n      <td>0.038664</td>\n    </tr>\n  </tbody>\n</table>\n</div>"
     },
     "metadata": {},
     "execution_count": 46
    }
   ],
   "source": [
    "test_df.sort_values(by=\"predicao\", ascending=False)"
   ]
  },
  {
   "cell_type": "markdown",
   "metadata": {},
   "source": [
    "# Paredao 8"
   ]
  },
  {
   "cell_type": "code",
   "execution_count": 47,
   "metadata": {},
   "outputs": [
    {
     "output_type": "execute_result",
     "data": {
      "text/plain": "   paredao   nome  positivos_individual_pct  neutros_individual_pct  \\\n17       8   babu                  0.238800                0.296049   \n18       8   rafa                  0.184500                0.264728   \n19       8  pyong                  0.211414                0.343538   \n\n    negativos_individual_pct  positivos_global_pct  neutros_global_pct  \\\n17                  0.465150              0.366229            0.314337   \n18                  0.550772              0.207663            0.206290   \n19                  0.445048              0.426107            0.479374   \n\n    negativos_global_pct   day1  seguidores  fica   fora  rejeicao  \n17              0.319854  29102      325345  4768  19543    0.4771  \n18              0.277956  27062      293473  2998    439    0.0059  \n19              0.402191  42474     1431039  2876  27574    0.5170  ",
      "text/html": "<div>\n<style scoped>\n    .dataframe tbody tr th:only-of-type {\n        vertical-align: middle;\n    }\n\n    .dataframe tbody tr th {\n        vertical-align: top;\n    }\n\n    .dataframe thead th {\n        text-align: right;\n    }\n</style>\n<table border=\"1\" class=\"dataframe\">\n  <thead>\n    <tr style=\"text-align: right;\">\n      <th></th>\n      <th>paredao</th>\n      <th>nome</th>\n      <th>positivos_individual_pct</th>\n      <th>neutros_individual_pct</th>\n      <th>negativos_individual_pct</th>\n      <th>positivos_global_pct</th>\n      <th>neutros_global_pct</th>\n      <th>negativos_global_pct</th>\n      <th>day1</th>\n      <th>seguidores</th>\n      <th>fica</th>\n      <th>fora</th>\n      <th>rejeicao</th>\n    </tr>\n  </thead>\n  <tbody>\n    <tr>\n      <th>17</th>\n      <td>8</td>\n      <td>babu</td>\n      <td>0.238800</td>\n      <td>0.296049</td>\n      <td>0.465150</td>\n      <td>0.366229</td>\n      <td>0.314337</td>\n      <td>0.319854</td>\n      <td>29102</td>\n      <td>325345</td>\n      <td>4768</td>\n      <td>19543</td>\n      <td>0.4771</td>\n    </tr>\n    <tr>\n      <th>18</th>\n      <td>8</td>\n      <td>rafa</td>\n      <td>0.184500</td>\n      <td>0.264728</td>\n      <td>0.550772</td>\n      <td>0.207663</td>\n      <td>0.206290</td>\n      <td>0.277956</td>\n      <td>27062</td>\n      <td>293473</td>\n      <td>2998</td>\n      <td>439</td>\n      <td>0.0059</td>\n    </tr>\n    <tr>\n      <th>19</th>\n      <td>8</td>\n      <td>pyong</td>\n      <td>0.211414</td>\n      <td>0.343538</td>\n      <td>0.445048</td>\n      <td>0.426107</td>\n      <td>0.479374</td>\n      <td>0.402191</td>\n      <td>42474</td>\n      <td>1431039</td>\n      <td>2876</td>\n      <td>27574</td>\n      <td>0.5170</td>\n    </tr>\n  </tbody>\n</table>\n</div>"
     },
     "metadata": {},
     "execution_count": 47
    }
   ],
   "source": [
    "train_df, test_df = get_train_test(8, normalize=NORMALIZE, drop_columns=REMOVE)\n",
    "test_df\n",
    ""
   ]
  },
  {
   "cell_type": "code",
   "execution_count": 48,
   "metadata": {},
   "outputs": [],
   "source": [
    "x_train, y_train = train_df.drop(columns=[\"paredao\", \"nome\", \"rejeicao\"], axis=1).to_numpy(), train_df.drop(columns=train_df.columns[:-1], axis=1).to_numpy()\n",
    "x_test, y_test = test_df.drop(columns=[\"paredao\", \"nome\", \"rejeicao\"], axis=1).to_numpy(), test_df.drop(columns=train_df.columns[:-1], axis=1).to_numpy()"
   ]
  },
  {
   "cell_type": "code",
   "execution_count": 49,
   "metadata": {},
   "outputs": [],
   "source": [
    "regressor = AdaBoostRegressor(n_estimators=ESTIMATORS, learning_rate=LR, loss=LOSS)"
   ]
  },
  {
   "cell_type": "code",
   "execution_count": 50,
   "metadata": {},
   "outputs": [],
   "source": [
    "_ = regressor.fit(x_train, y_train)\n",
    "prediction = regressor.predict(x_test)\n",
    "test_df[\"predicao\"] = prediction\n",
    "summary_df = summary_df.append(test_df, ignore_index=True, sort=False)\n",
    "\n",
    ""
   ]
  },
  {
   "cell_type": "code",
   "execution_count": 51,
   "metadata": {},
   "outputs": [
    {
     "output_type": "execute_result",
     "data": {
      "text/plain": "   paredao   nome  positivos_individual_pct  neutros_individual_pct  \\\n19       8  pyong                  0.211414                0.343538   \n17       8   babu                  0.238800                0.296049   \n18       8   rafa                  0.184500                0.264728   \n\n    negativos_individual_pct  positivos_global_pct  neutros_global_pct  \\\n19                  0.445048              0.426107            0.479374   \n17                  0.465150              0.366229            0.314337   \n18                  0.550772              0.207663            0.206290   \n\n    negativos_global_pct   day1  seguidores  fica   fora  rejeicao  predicao  \n19              0.402191  42474     1431039  2876  27574    0.5170  0.551467  \n17              0.319854  29102      325345  4768  19543    0.4771  0.519800  \n18              0.277956  27062      293473  2998    439    0.0059  0.093467  ",
      "text/html": "<div>\n<style scoped>\n    .dataframe tbody tr th:only-of-type {\n        vertical-align: middle;\n    }\n\n    .dataframe tbody tr th {\n        vertical-align: top;\n    }\n\n    .dataframe thead th {\n        text-align: right;\n    }\n</style>\n<table border=\"1\" class=\"dataframe\">\n  <thead>\n    <tr style=\"text-align: right;\">\n      <th></th>\n      <th>paredao</th>\n      <th>nome</th>\n      <th>positivos_individual_pct</th>\n      <th>neutros_individual_pct</th>\n      <th>negativos_individual_pct</th>\n      <th>positivos_global_pct</th>\n      <th>neutros_global_pct</th>\n      <th>negativos_global_pct</th>\n      <th>day1</th>\n      <th>seguidores</th>\n      <th>fica</th>\n      <th>fora</th>\n      <th>rejeicao</th>\n      <th>predicao</th>\n    </tr>\n  </thead>\n  <tbody>\n    <tr>\n      <th>19</th>\n      <td>8</td>\n      <td>pyong</td>\n      <td>0.211414</td>\n      <td>0.343538</td>\n      <td>0.445048</td>\n      <td>0.426107</td>\n      <td>0.479374</td>\n      <td>0.402191</td>\n      <td>42474</td>\n      <td>1431039</td>\n      <td>2876</td>\n      <td>27574</td>\n      <td>0.5170</td>\n      <td>0.551467</td>\n    </tr>\n    <tr>\n      <th>17</th>\n      <td>8</td>\n      <td>babu</td>\n      <td>0.238800</td>\n      <td>0.296049</td>\n      <td>0.465150</td>\n      <td>0.366229</td>\n      <td>0.314337</td>\n      <td>0.319854</td>\n      <td>29102</td>\n      <td>325345</td>\n      <td>4768</td>\n      <td>19543</td>\n      <td>0.4771</td>\n      <td>0.519800</td>\n    </tr>\n    <tr>\n      <th>18</th>\n      <td>8</td>\n      <td>rafa</td>\n      <td>0.184500</td>\n      <td>0.264728</td>\n      <td>0.550772</td>\n      <td>0.207663</td>\n      <td>0.206290</td>\n      <td>0.277956</td>\n      <td>27062</td>\n      <td>293473</td>\n      <td>2998</td>\n      <td>439</td>\n      <td>0.0059</td>\n      <td>0.093467</td>\n    </tr>\n  </tbody>\n</table>\n</div>"
     },
     "metadata": {},
     "execution_count": 51
    }
   ],
   "source": [
    "test_df.sort_values(by=\"predicao\", ascending=False)"
   ]
  },
  {
   "cell_type": "markdown",
   "metadata": {},
   "source": [
    "# Paredão 9"
   ]
  },
  {
   "cell_type": "code",
   "execution_count": 52,
   "metadata": {},
   "outputs": [
    {
     "output_type": "execute_result",
     "data": {
      "text/plain": "   paredao       nome  positivos_individual_pct  neutros_individual_pct  \\\n14       9     daniel                  0.210559                0.351664   \n15       9  flayslene                  0.265438                0.300293   \n16       9        ivy                  0.228849                0.342627   \n\n    negativos_individual_pct  positivos_global_pct  neutros_global_pct  \\\n14                  0.437777              0.355075            0.417310   \n15                  0.434269              0.375880            0.299236   \n16                  0.428523              0.269045            0.283453   \n\n    negativos_global_pct   day1  seguidores  fica   fora  rejeicao  \n14              0.397548  43662       33876   124  19608    0.8082  \n15              0.331158  14010      104138  2038   1033    0.0954  \n16              0.271294  34835       59125    71   3050    0.0964  ",
      "text/html": "<div>\n<style scoped>\n    .dataframe tbody tr th:only-of-type {\n        vertical-align: middle;\n    }\n\n    .dataframe tbody tr th {\n        vertical-align: top;\n    }\n\n    .dataframe thead th {\n        text-align: right;\n    }\n</style>\n<table border=\"1\" class=\"dataframe\">\n  <thead>\n    <tr style=\"text-align: right;\">\n      <th></th>\n      <th>paredao</th>\n      <th>nome</th>\n      <th>positivos_individual_pct</th>\n      <th>neutros_individual_pct</th>\n      <th>negativos_individual_pct</th>\n      <th>positivos_global_pct</th>\n      <th>neutros_global_pct</th>\n      <th>negativos_global_pct</th>\n      <th>day1</th>\n      <th>seguidores</th>\n      <th>fica</th>\n      <th>fora</th>\n      <th>rejeicao</th>\n    </tr>\n  </thead>\n  <tbody>\n    <tr>\n      <th>14</th>\n      <td>9</td>\n      <td>daniel</td>\n      <td>0.210559</td>\n      <td>0.351664</td>\n      <td>0.437777</td>\n      <td>0.355075</td>\n      <td>0.417310</td>\n      <td>0.397548</td>\n      <td>43662</td>\n      <td>33876</td>\n      <td>124</td>\n      <td>19608</td>\n      <td>0.8082</td>\n    </tr>\n    <tr>\n      <th>15</th>\n      <td>9</td>\n      <td>flayslene</td>\n      <td>0.265438</td>\n      <td>0.300293</td>\n      <td>0.434269</td>\n      <td>0.375880</td>\n      <td>0.299236</td>\n      <td>0.331158</td>\n      <td>14010</td>\n      <td>104138</td>\n      <td>2038</td>\n      <td>1033</td>\n      <td>0.0954</td>\n    </tr>\n    <tr>\n      <th>16</th>\n      <td>9</td>\n      <td>ivy</td>\n      <td>0.228849</td>\n      <td>0.342627</td>\n      <td>0.428523</td>\n      <td>0.269045</td>\n      <td>0.283453</td>\n      <td>0.271294</td>\n      <td>34835</td>\n      <td>59125</td>\n      <td>71</td>\n      <td>3050</td>\n      <td>0.0964</td>\n    </tr>\n  </tbody>\n</table>\n</div>"
     },
     "metadata": {},
     "execution_count": 52
    }
   ],
   "source": [
    "train_df, test_df = get_train_test(9, normalize=NORMALIZE,  drop_columns=REMOVE)\n",
    "test_df"
   ]
  },
  {
   "cell_type": "code",
   "execution_count": 53,
   "metadata": {},
   "outputs": [],
   "source": [
    "x_train, y_train = train_df.drop(columns=[\"paredao\", \"nome\", \"rejeicao\"], axis=1).to_numpy(), train_df.drop(columns=train_df.columns[:-1], axis=1).to_numpy()\n",
    "x_test, y_test = test_df.drop(columns=[\"paredao\", \"nome\", \"rejeicao\"], axis=1).to_numpy(), test_df.drop(columns=train_df.columns[:-1], axis=1).to_numpy()"
   ]
  },
  {
   "cell_type": "code",
   "execution_count": 54,
   "metadata": {},
   "outputs": [],
   "source": [
    "regressor = AdaBoostRegressor(n_estimators=ESTIMATORS, learning_rate=LR, loss=LOSS)"
   ]
  },
  {
   "cell_type": "code",
   "execution_count": 55,
   "metadata": {},
   "outputs": [],
   "source": [
    "_ = regressor.fit(x_train, y_train)\n",
    "prediction = regressor.predict(x_test)\n",
    "test_df[\"predicao\"] = prediction\n",
    "summary_df = summary_df.append(test_df, ignore_index=True, sort=False)\n",
    "\n",
    ""
   ]
  },
  {
   "cell_type": "code",
   "execution_count": 56,
   "metadata": {},
   "outputs": [
    {
     "output_type": "execute_result",
     "data": {
      "text/plain": "   paredao       nome  positivos_individual_pct  neutros_individual_pct  \\\n14       9     daniel                  0.210559                0.351664   \n16       9        ivy                  0.228849                0.342627   \n15       9  flayslene                  0.265438                0.300293   \n\n    negativos_individual_pct  positivos_global_pct  neutros_global_pct  \\\n14                  0.437777              0.355075            0.417310   \n16                  0.428523              0.269045            0.283453   \n15                  0.434269              0.375880            0.299236   \n\n    negativos_global_pct   day1  seguidores  fica   fora  rejeicao  predicao  \n14              0.397548  43662       33876   124  19608    0.8082  0.699142  \n16              0.271294  34835       59125    71   3050    0.0964  0.574450  \n15              0.331158  14010      104138  2038   1033    0.0954  0.183825  ",
      "text/html": "<div>\n<style scoped>\n    .dataframe tbody tr th:only-of-type {\n        vertical-align: middle;\n    }\n\n    .dataframe tbody tr th {\n        vertical-align: top;\n    }\n\n    .dataframe thead th {\n        text-align: right;\n    }\n</style>\n<table border=\"1\" class=\"dataframe\">\n  <thead>\n    <tr style=\"text-align: right;\">\n      <th></th>\n      <th>paredao</th>\n      <th>nome</th>\n      <th>positivos_individual_pct</th>\n      <th>neutros_individual_pct</th>\n      <th>negativos_individual_pct</th>\n      <th>positivos_global_pct</th>\n      <th>neutros_global_pct</th>\n      <th>negativos_global_pct</th>\n      <th>day1</th>\n      <th>seguidores</th>\n      <th>fica</th>\n      <th>fora</th>\n      <th>rejeicao</th>\n      <th>predicao</th>\n    </tr>\n  </thead>\n  <tbody>\n    <tr>\n      <th>14</th>\n      <td>9</td>\n      <td>daniel</td>\n      <td>0.210559</td>\n      <td>0.351664</td>\n      <td>0.437777</td>\n      <td>0.355075</td>\n      <td>0.417310</td>\n      <td>0.397548</td>\n      <td>43662</td>\n      <td>33876</td>\n      <td>124</td>\n      <td>19608</td>\n      <td>0.8082</td>\n      <td>0.699142</td>\n    </tr>\n    <tr>\n      <th>16</th>\n      <td>9</td>\n      <td>ivy</td>\n      <td>0.228849</td>\n      <td>0.342627</td>\n      <td>0.428523</td>\n      <td>0.269045</td>\n      <td>0.283453</td>\n      <td>0.271294</td>\n      <td>34835</td>\n      <td>59125</td>\n      <td>71</td>\n      <td>3050</td>\n      <td>0.0964</td>\n      <td>0.574450</td>\n    </tr>\n    <tr>\n      <th>15</th>\n      <td>9</td>\n      <td>flayslene</td>\n      <td>0.265438</td>\n      <td>0.300293</td>\n      <td>0.434269</td>\n      <td>0.375880</td>\n      <td>0.299236</td>\n      <td>0.331158</td>\n      <td>14010</td>\n      <td>104138</td>\n      <td>2038</td>\n      <td>1033</td>\n      <td>0.0954</td>\n      <td>0.183825</td>\n    </tr>\n  </tbody>\n</table>\n</div>"
     },
     "metadata": {},
     "execution_count": 56
    }
   ],
   "source": [
    "test_df.sort_values(by=\"predicao\", ascending=False)"
   ]
  },
  {
   "cell_type": "markdown",
   "metadata": {},
   "source": [
    "# Paredão 10"
   ]
  },
  {
   "cell_type": "code",
   "execution_count": 57,
   "metadata": {},
   "outputs": [
    {
     "output_type": "execute_result",
     "data": {
      "text/plain": "   paredao          nome  positivos_individual_pct  neutros_individual_pct  \\\n11      10  manu_gavassi                  0.233780                0.448016   \n12      10          mari                  0.282518                0.348057   \n13      10  felipe_prior                  0.160907                0.383470   \n\n    negativos_individual_pct  positivos_global_pct  neutros_global_pct  \\\n11                  0.318204              0.559785            0.551039   \n12                  0.369426              0.152072            0.096234   \n13                  0.455623              0.288144            0.352728   \n\n    negativos_global_pct   day1  seguidores   fica   fora  rejeicao  \n11              0.428851  42943     4785334  30069  40235    0.4251  \n12              0.111922  19694      269733   2982   3304    0.0076  \n13              0.459226  57998      642881  12535  95402    0.5673  ",
      "text/html": "<div>\n<style scoped>\n    .dataframe tbody tr th:only-of-type {\n        vertical-align: middle;\n    }\n\n    .dataframe tbody tr th {\n        vertical-align: top;\n    }\n\n    .dataframe thead th {\n        text-align: right;\n    }\n</style>\n<table border=\"1\" class=\"dataframe\">\n  <thead>\n    <tr style=\"text-align: right;\">\n      <th></th>\n      <th>paredao</th>\n      <th>nome</th>\n      <th>positivos_individual_pct</th>\n      <th>neutros_individual_pct</th>\n      <th>negativos_individual_pct</th>\n      <th>positivos_global_pct</th>\n      <th>neutros_global_pct</th>\n      <th>negativos_global_pct</th>\n      <th>day1</th>\n      <th>seguidores</th>\n      <th>fica</th>\n      <th>fora</th>\n      <th>rejeicao</th>\n    </tr>\n  </thead>\n  <tbody>\n    <tr>\n      <th>11</th>\n      <td>10</td>\n      <td>manu_gavassi</td>\n      <td>0.233780</td>\n      <td>0.448016</td>\n      <td>0.318204</td>\n      <td>0.559785</td>\n      <td>0.551039</td>\n      <td>0.428851</td>\n      <td>42943</td>\n      <td>4785334</td>\n      <td>30069</td>\n      <td>40235</td>\n      <td>0.4251</td>\n    </tr>\n    <tr>\n      <th>12</th>\n      <td>10</td>\n      <td>mari</td>\n      <td>0.282518</td>\n      <td>0.348057</td>\n      <td>0.369426</td>\n      <td>0.152072</td>\n      <td>0.096234</td>\n      <td>0.111922</td>\n      <td>19694</td>\n      <td>269733</td>\n      <td>2982</td>\n      <td>3304</td>\n      <td>0.0076</td>\n    </tr>\n    <tr>\n      <th>13</th>\n      <td>10</td>\n      <td>felipe_prior</td>\n      <td>0.160907</td>\n      <td>0.383470</td>\n      <td>0.455623</td>\n      <td>0.288144</td>\n      <td>0.352728</td>\n      <td>0.459226</td>\n      <td>57998</td>\n      <td>642881</td>\n      <td>12535</td>\n      <td>95402</td>\n      <td>0.5673</td>\n    </tr>\n  </tbody>\n</table>\n</div>"
     },
     "metadata": {},
     "execution_count": 57
    }
   ],
   "source": [
    "train_df, test_df = get_train_test(10, normalize=NORMALIZE, drop_columns=REMOVE)\n",
    "test_df"
   ]
  },
  {
   "cell_type": "code",
   "execution_count": 58,
   "metadata": {},
   "outputs": [],
   "source": [
    "x_train, y_train = train_df.drop(columns=[\"paredao\", \"nome\", \"rejeicao\"], axis=1).to_numpy(), train_df.drop(columns=train_df.columns[:-1], axis=1).to_numpy()\n",
    "x_test, y_test = test_df.drop(columns=[\"paredao\", \"nome\", \"rejeicao\"], axis=1).to_numpy(), test_df.drop(columns=train_df.columns[:-1], axis=1).to_numpy()"
   ]
  },
  {
   "cell_type": "code",
   "execution_count": 59,
   "metadata": {},
   "outputs": [],
   "source": [
    "regressor = AdaBoostRegressor(n_estimators=ESTIMATORS, learning_rate=LR, loss=LOSS)"
   ]
  },
  {
   "cell_type": "code",
   "execution_count": 60,
   "metadata": {},
   "outputs": [],
   "source": [
    "_ = regressor.fit(x_train, y_train)\n",
    "prediction = regressor.predict(x_test)\n",
    "test_df[\"predicao\"] = prediction\n",
    "summary_df = summary_df.append(test_df, ignore_index=True, sort=False)\n",
    "\n",
    ""
   ]
  },
  {
   "cell_type": "code",
   "execution_count": 61,
   "metadata": {},
   "outputs": [
    {
     "output_type": "execute_result",
     "data": {
      "text/plain": "   paredao          nome  positivos_individual_pct  neutros_individual_pct  \\\n13      10  felipe_prior                  0.160907                0.383470   \n11      10  manu_gavassi                  0.233780                0.448016   \n12      10          mari                  0.282518                0.348057   \n\n    negativos_individual_pct  positivos_global_pct  neutros_global_pct  \\\n13                  0.455623              0.288144            0.352728   \n11                  0.318204              0.559785            0.551039   \n12                  0.369426              0.152072            0.096234   \n\n    negativos_global_pct   day1  seguidores   fica   fora  rejeicao  predicao  \n13              0.459226  57998      642881  12535  95402    0.5673  0.539170  \n11              0.428851  42943     4785334  30069  40235    0.4251  0.497556  \n12              0.111922  19694      269733   2982   3304    0.0076  0.160567  ",
      "text/html": "<div>\n<style scoped>\n    .dataframe tbody tr th:only-of-type {\n        vertical-align: middle;\n    }\n\n    .dataframe tbody tr th {\n        vertical-align: top;\n    }\n\n    .dataframe thead th {\n        text-align: right;\n    }\n</style>\n<table border=\"1\" class=\"dataframe\">\n  <thead>\n    <tr style=\"text-align: right;\">\n      <th></th>\n      <th>paredao</th>\n      <th>nome</th>\n      <th>positivos_individual_pct</th>\n      <th>neutros_individual_pct</th>\n      <th>negativos_individual_pct</th>\n      <th>positivos_global_pct</th>\n      <th>neutros_global_pct</th>\n      <th>negativos_global_pct</th>\n      <th>day1</th>\n      <th>seguidores</th>\n      <th>fica</th>\n      <th>fora</th>\n      <th>rejeicao</th>\n      <th>predicao</th>\n    </tr>\n  </thead>\n  <tbody>\n    <tr>\n      <th>13</th>\n      <td>10</td>\n      <td>felipe_prior</td>\n      <td>0.160907</td>\n      <td>0.383470</td>\n      <td>0.455623</td>\n      <td>0.288144</td>\n      <td>0.352728</td>\n      <td>0.459226</td>\n      <td>57998</td>\n      <td>642881</td>\n      <td>12535</td>\n      <td>95402</td>\n      <td>0.5673</td>\n      <td>0.539170</td>\n    </tr>\n    <tr>\n      <th>11</th>\n      <td>10</td>\n      <td>manu_gavassi</td>\n      <td>0.233780</td>\n      <td>0.448016</td>\n      <td>0.318204</td>\n      <td>0.559785</td>\n      <td>0.551039</td>\n      <td>0.428851</td>\n      <td>42943</td>\n      <td>4785334</td>\n      <td>30069</td>\n      <td>40235</td>\n      <td>0.4251</td>\n      <td>0.497556</td>\n    </tr>\n    <tr>\n      <th>12</th>\n      <td>10</td>\n      <td>mari</td>\n      <td>0.282518</td>\n      <td>0.348057</td>\n      <td>0.369426</td>\n      <td>0.152072</td>\n      <td>0.096234</td>\n      <td>0.111922</td>\n      <td>19694</td>\n      <td>269733</td>\n      <td>2982</td>\n      <td>3304</td>\n      <td>0.0076</td>\n      <td>0.160567</td>\n    </tr>\n  </tbody>\n</table>\n</div>"
     },
     "metadata": {},
     "execution_count": 61
    }
   ],
   "source": [
    "test_df.sort_values(by=\"predicao\", ascending=False)"
   ]
  },
  {
   "cell_type": "markdown",
   "metadata": {},
   "source": [
    "# Paredão 11"
   ]
  },
  {
   "cell_type": "code",
   "execution_count": 62,
   "metadata": {},
   "outputs": [
    {
     "output_type": "execute_result",
     "data": {
      "text/plain": "   paredao    nome  positivos_individual_pct  neutros_individual_pct  \\\n32      11    babu                  0.308665                0.307782   \n33      11    gabi                  0.299995                0.305646   \n34      11  thelma                  0.257353                0.355636   \n\n    negativos_individual_pct  positivos_global_pct  neutros_global_pct  \\\n32                  0.383552              0.370075            0.326630   \n33                  0.394360              0.302261            0.272582   \n34                  0.387011              0.327664            0.400788   \n\n    negativos_global_pct   day1  seguidores  fica   fora  rejeicao  \n32              0.340651  34274      638797  4340   1342    0.0411  \n33              0.294337  31402      237780   749  15739    0.5961  \n34              0.365012  27203      385019  6991   5144    0.3628  ",
      "text/html": "<div>\n<style scoped>\n    .dataframe tbody tr th:only-of-type {\n        vertical-align: middle;\n    }\n\n    .dataframe tbody tr th {\n        vertical-align: top;\n    }\n\n    .dataframe thead th {\n        text-align: right;\n    }\n</style>\n<table border=\"1\" class=\"dataframe\">\n  <thead>\n    <tr style=\"text-align: right;\">\n      <th></th>\n      <th>paredao</th>\n      <th>nome</th>\n      <th>positivos_individual_pct</th>\n      <th>neutros_individual_pct</th>\n      <th>negativos_individual_pct</th>\n      <th>positivos_global_pct</th>\n      <th>neutros_global_pct</th>\n      <th>negativos_global_pct</th>\n      <th>day1</th>\n      <th>seguidores</th>\n      <th>fica</th>\n      <th>fora</th>\n      <th>rejeicao</th>\n    </tr>\n  </thead>\n  <tbody>\n    <tr>\n      <th>32</th>\n      <td>11</td>\n      <td>babu</td>\n      <td>0.308665</td>\n      <td>0.307782</td>\n      <td>0.383552</td>\n      <td>0.370075</td>\n      <td>0.326630</td>\n      <td>0.340651</td>\n      <td>34274</td>\n      <td>638797</td>\n      <td>4340</td>\n      <td>1342</td>\n      <td>0.0411</td>\n    </tr>\n    <tr>\n      <th>33</th>\n      <td>11</td>\n      <td>gabi</td>\n      <td>0.299995</td>\n      <td>0.305646</td>\n      <td>0.394360</td>\n      <td>0.302261</td>\n      <td>0.272582</td>\n      <td>0.294337</td>\n      <td>31402</td>\n      <td>237780</td>\n      <td>749</td>\n      <td>15739</td>\n      <td>0.5961</td>\n    </tr>\n    <tr>\n      <th>34</th>\n      <td>11</td>\n      <td>thelma</td>\n      <td>0.257353</td>\n      <td>0.355636</td>\n      <td>0.387011</td>\n      <td>0.327664</td>\n      <td>0.400788</td>\n      <td>0.365012</td>\n      <td>27203</td>\n      <td>385019</td>\n      <td>6991</td>\n      <td>5144</td>\n      <td>0.3628</td>\n    </tr>\n  </tbody>\n</table>\n</div>"
     },
     "metadata": {},
     "execution_count": 62
    }
   ],
   "source": [
    "train_df, test_df = get_train_test(11, normalize=NORMALIZE, drop_columns=REMOVE)\n",
    "test_df"
   ]
  },
  {
   "cell_type": "code",
   "execution_count": 63,
   "metadata": {},
   "outputs": [],
   "source": [
    "x_train, y_train = train_df.drop(columns=[\"paredao\", \"nome\", \"rejeicao\"], axis=1).to_numpy(), train_df.drop(columns=train_df.columns[:-1], axis=1).to_numpy()\n",
    "x_test, y_test = test_df.drop(columns=[\"paredao\", \"nome\", \"rejeicao\"], axis=1).to_numpy(), test_df.drop(columns=train_df.columns[:-1], axis=1).to_numpy()"
   ]
  },
  {
   "cell_type": "code",
   "execution_count": 64,
   "metadata": {},
   "outputs": [],
   "source": [
    "regressor = AdaBoostRegressor(n_estimators=ESTIMATORS, learning_rate=LR, loss=LOSS)"
   ]
  },
  {
   "cell_type": "code",
   "execution_count": 65,
   "metadata": {},
   "outputs": [],
   "source": [
    "_ = regressor.fit(x_train, y_train)\n",
    "prediction = regressor.predict(x_test)\n",
    "test_df[\"predicao\"] = prediction\n",
    "summary_df = summary_df.append(test_df, ignore_index=True, sort=False)\n",
    "\n",
    ""
   ]
  },
  {
   "cell_type": "code",
   "execution_count": 66,
   "metadata": {},
   "outputs": [
    {
     "output_type": "execute_result",
     "data": {
      "text/plain": "   paredao    nome  positivos_individual_pct  neutros_individual_pct  \\\n33      11    gabi                  0.299995                0.305646   \n34      11  thelma                  0.257353                0.355636   \n32      11    babu                  0.308665                0.307782   \n\n    negativos_individual_pct  positivos_global_pct  neutros_global_pct  \\\n33                  0.394360              0.302261            0.272582   \n34                  0.387011              0.327664            0.400788   \n32                  0.383552              0.370075            0.326630   \n\n    negativos_global_pct   day1  seguidores  fica   fora  rejeicao  predicao  \n33              0.294337  31402      237780   749  15739    0.5961  0.451100  \n34              0.365012  27203      385019  6991   5144    0.3628  0.202900  \n32              0.340651  34274      638797  4340   1342    0.0411  0.074995  ",
      "text/html": "<div>\n<style scoped>\n    .dataframe tbody tr th:only-of-type {\n        vertical-align: middle;\n    }\n\n    .dataframe tbody tr th {\n        vertical-align: top;\n    }\n\n    .dataframe thead th {\n        text-align: right;\n    }\n</style>\n<table border=\"1\" class=\"dataframe\">\n  <thead>\n    <tr style=\"text-align: right;\">\n      <th></th>\n      <th>paredao</th>\n      <th>nome</th>\n      <th>positivos_individual_pct</th>\n      <th>neutros_individual_pct</th>\n      <th>negativos_individual_pct</th>\n      <th>positivos_global_pct</th>\n      <th>neutros_global_pct</th>\n      <th>negativos_global_pct</th>\n      <th>day1</th>\n      <th>seguidores</th>\n      <th>fica</th>\n      <th>fora</th>\n      <th>rejeicao</th>\n      <th>predicao</th>\n    </tr>\n  </thead>\n  <tbody>\n    <tr>\n      <th>33</th>\n      <td>11</td>\n      <td>gabi</td>\n      <td>0.299995</td>\n      <td>0.305646</td>\n      <td>0.394360</td>\n      <td>0.302261</td>\n      <td>0.272582</td>\n      <td>0.294337</td>\n      <td>31402</td>\n      <td>237780</td>\n      <td>749</td>\n      <td>15739</td>\n      <td>0.5961</td>\n      <td>0.451100</td>\n    </tr>\n    <tr>\n      <th>34</th>\n      <td>11</td>\n      <td>thelma</td>\n      <td>0.257353</td>\n      <td>0.355636</td>\n      <td>0.387011</td>\n      <td>0.327664</td>\n      <td>0.400788</td>\n      <td>0.365012</td>\n      <td>27203</td>\n      <td>385019</td>\n      <td>6991</td>\n      <td>5144</td>\n      <td>0.3628</td>\n      <td>0.202900</td>\n    </tr>\n    <tr>\n      <th>32</th>\n      <td>11</td>\n      <td>babu</td>\n      <td>0.308665</td>\n      <td>0.307782</td>\n      <td>0.383552</td>\n      <td>0.370075</td>\n      <td>0.326630</td>\n      <td>0.340651</td>\n      <td>34274</td>\n      <td>638797</td>\n      <td>4340</td>\n      <td>1342</td>\n      <td>0.0411</td>\n      <td>0.074995</td>\n    </tr>\n  </tbody>\n</table>\n</div>"
     },
     "metadata": {},
     "execution_count": 66
    }
   ],
   "source": [
    "test_df.sort_values(by=\"predicao\", ascending=False)"
   ]
  },
  {
   "cell_type": "markdown",
   "metadata": {},
   "source": [
    "# Paredão 12"
   ]
  },
  {
   "cell_type": "code",
   "execution_count": 67,
   "metadata": {},
   "outputs": [
    {
     "output_type": "execute_result",
     "data": {
      "text/plain": "   paredao       nome  positivos_individual_pct  neutros_individual_pct  \\\n20      12       babu                  0.273111                0.297644   \n21      12  flayslene                  0.213188                0.260489   \n22      12    marcela                  0.164043                0.288890   \n\n    negativos_individual_pct  positivos_global_pct  neutros_global_pct  \\\n20                  0.429245              0.485102            0.420554   \n21                  0.526322              0.330764            0.321495   \n22                  0.547066              0.184134            0.257951   \n\n    negativos_global_pct   day1  seguidores  fica   fora  rejeicao  \n20              0.347650  21427      638797  2911   1151    0.0106  \n21              0.372349  41768      194492  1975  14354    0.4918  \n22              0.280000  35033      241491   449  25937    0.4976  ",
      "text/html": "<div>\n<style scoped>\n    .dataframe tbody tr th:only-of-type {\n        vertical-align: middle;\n    }\n\n    .dataframe tbody tr th {\n        vertical-align: top;\n    }\n\n    .dataframe thead th {\n        text-align: right;\n    }\n</style>\n<table border=\"1\" class=\"dataframe\">\n  <thead>\n    <tr style=\"text-align: right;\">\n      <th></th>\n      <th>paredao</th>\n      <th>nome</th>\n      <th>positivos_individual_pct</th>\n      <th>neutros_individual_pct</th>\n      <th>negativos_individual_pct</th>\n      <th>positivos_global_pct</th>\n      <th>neutros_global_pct</th>\n      <th>negativos_global_pct</th>\n      <th>day1</th>\n      <th>seguidores</th>\n      <th>fica</th>\n      <th>fora</th>\n      <th>rejeicao</th>\n    </tr>\n  </thead>\n  <tbody>\n    <tr>\n      <th>20</th>\n      <td>12</td>\n      <td>babu</td>\n      <td>0.273111</td>\n      <td>0.297644</td>\n      <td>0.429245</td>\n      <td>0.485102</td>\n      <td>0.420554</td>\n      <td>0.347650</td>\n      <td>21427</td>\n      <td>638797</td>\n      <td>2911</td>\n      <td>1151</td>\n      <td>0.0106</td>\n    </tr>\n    <tr>\n      <th>21</th>\n      <td>12</td>\n      <td>flayslene</td>\n      <td>0.213188</td>\n      <td>0.260489</td>\n      <td>0.526322</td>\n      <td>0.330764</td>\n      <td>0.321495</td>\n      <td>0.372349</td>\n      <td>41768</td>\n      <td>194492</td>\n      <td>1975</td>\n      <td>14354</td>\n      <td>0.4918</td>\n    </tr>\n    <tr>\n      <th>22</th>\n      <td>12</td>\n      <td>marcela</td>\n      <td>0.164043</td>\n      <td>0.288890</td>\n      <td>0.547066</td>\n      <td>0.184134</td>\n      <td>0.257951</td>\n      <td>0.280000</td>\n      <td>35033</td>\n      <td>241491</td>\n      <td>449</td>\n      <td>25937</td>\n      <td>0.4976</td>\n    </tr>\n  </tbody>\n</table>\n</div>"
     },
     "metadata": {},
     "execution_count": 67
    }
   ],
   "source": [
    "train_df, test_df = get_train_test(12, normalize=NORMALIZE, drop_columns=REMOVE)\n",
    "test_df"
   ]
  },
  {
   "cell_type": "code",
   "execution_count": 68,
   "metadata": {},
   "outputs": [],
   "source": [
    "x_train, y_train = train_df.drop(columns=[\"paredao\", \"nome\", \"rejeicao\"], axis=1).to_numpy(), train_df.drop(columns=train_df.columns[:-1], axis=1).to_numpy()\n",
    "x_test, y_test = test_df.drop(columns=[\"paredao\", \"nome\", \"rejeicao\"], axis=1).to_numpy(), test_df.drop(columns=train_df.columns[:-1], axis=1).to_numpy()"
   ]
  },
  {
   "cell_type": "code",
   "execution_count": 69,
   "metadata": {},
   "outputs": [],
   "source": [
    "regressor = AdaBoostRegressor(n_estimators=ESTIMATORS, learning_rate=LR, loss=LOSS)"
   ]
  },
  {
   "cell_type": "code",
   "execution_count": 70,
   "metadata": {},
   "outputs": [],
   "source": [
    "_ = regressor.fit(x_train, y_train)\n",
    "prediction = regressor.predict(x_test)\n",
    "test_df[\"predicao\"] = prediction\n",
    "summary_df = summary_df.append(test_df, ignore_index=True, sort=False)\n",
    "\n"
   ]
  },
  {
   "cell_type": "code",
   "execution_count": 71,
   "metadata": {},
   "outputs": [
    {
     "output_type": "execute_result",
     "data": {
      "text/plain": "   paredao       nome  positivos_individual_pct  neutros_individual_pct  \\\n21      12  flayslene                  0.213188                0.260489   \n22      12    marcela                  0.164043                0.288890   \n20      12       babu                  0.273111                0.297644   \n\n    negativos_individual_pct  positivos_global_pct  neutros_global_pct  \\\n21                  0.526322              0.330764            0.321495   \n22                  0.547066              0.184134            0.257951   \n20                  0.429245              0.485102            0.420554   \n\n    negativos_global_pct   day1  seguidores  fica   fora  rejeicao  predicao  \n21              0.372349  41768      194492  1975  14354    0.4918  0.568656  \n22              0.280000  35033      241491   449  25937    0.4976  0.556433  \n20              0.347650  21427      638797  2911   1151    0.0106  0.122000  ",
      "text/html": "<div>\n<style scoped>\n    .dataframe tbody tr th:only-of-type {\n        vertical-align: middle;\n    }\n\n    .dataframe tbody tr th {\n        vertical-align: top;\n    }\n\n    .dataframe thead th {\n        text-align: right;\n    }\n</style>\n<table border=\"1\" class=\"dataframe\">\n  <thead>\n    <tr style=\"text-align: right;\">\n      <th></th>\n      <th>paredao</th>\n      <th>nome</th>\n      <th>positivos_individual_pct</th>\n      <th>neutros_individual_pct</th>\n      <th>negativos_individual_pct</th>\n      <th>positivos_global_pct</th>\n      <th>neutros_global_pct</th>\n      <th>negativos_global_pct</th>\n      <th>day1</th>\n      <th>seguidores</th>\n      <th>fica</th>\n      <th>fora</th>\n      <th>rejeicao</th>\n      <th>predicao</th>\n    </tr>\n  </thead>\n  <tbody>\n    <tr>\n      <th>21</th>\n      <td>12</td>\n      <td>flayslene</td>\n      <td>0.213188</td>\n      <td>0.260489</td>\n      <td>0.526322</td>\n      <td>0.330764</td>\n      <td>0.321495</td>\n      <td>0.372349</td>\n      <td>41768</td>\n      <td>194492</td>\n      <td>1975</td>\n      <td>14354</td>\n      <td>0.4918</td>\n      <td>0.568656</td>\n    </tr>\n    <tr>\n      <th>22</th>\n      <td>12</td>\n      <td>marcela</td>\n      <td>0.164043</td>\n      <td>0.288890</td>\n      <td>0.547066</td>\n      <td>0.184134</td>\n      <td>0.257951</td>\n      <td>0.280000</td>\n      <td>35033</td>\n      <td>241491</td>\n      <td>449</td>\n      <td>25937</td>\n      <td>0.4976</td>\n      <td>0.556433</td>\n    </tr>\n    <tr>\n      <th>20</th>\n      <td>12</td>\n      <td>babu</td>\n      <td>0.273111</td>\n      <td>0.297644</td>\n      <td>0.429245</td>\n      <td>0.485102</td>\n      <td>0.420554</td>\n      <td>0.347650</td>\n      <td>21427</td>\n      <td>638797</td>\n      <td>2911</td>\n      <td>1151</td>\n      <td>0.0106</td>\n      <td>0.122000</td>\n    </tr>\n  </tbody>\n</table>\n</div>"
     },
     "metadata": {},
     "execution_count": 71
    }
   ],
   "source": [
    "test_df.sort_values(by=\"predicao\", ascending=False)"
   ]
  },
  {
   "cell_type": "markdown",
   "metadata": {},
   "source": [
    "# Paredão 13"
   ]
  },
  {
   "cell_type": "code",
   "execution_count": 72,
   "metadata": {},
   "outputs": [
    {
     "output_type": "execute_result",
     "data": {
      "text/plain": "   paredao       nome  positivos_individual_pct  neutros_individual_pct  \\\n29      13  flayslene                  0.223041                0.317819   \n30      13     thelma                  0.224189                0.422228   \n31      13       babu                  0.261903                0.295444   \n\n    negativos_individual_pct  positivos_global_pct  neutros_global_pct  \\\n29                  0.459140              0.380747            0.392137   \n30                  0.353583              0.188596            0.256728   \n31                  0.442653              0.430657            0.351135   \n\n    negativos_global_pct   day1  seguidores  fica   fora  rejeicao  \n29              0.433244  28215      194492  1989  14457    0.6300  \n30              0.164417   4695      385019  1552   7098    0.3653  \n31              0.402338  20133      638797  1740    678    0.0047  ",
      "text/html": "<div>\n<style scoped>\n    .dataframe tbody tr th:only-of-type {\n        vertical-align: middle;\n    }\n\n    .dataframe tbody tr th {\n        vertical-align: top;\n    }\n\n    .dataframe thead th {\n        text-align: right;\n    }\n</style>\n<table border=\"1\" class=\"dataframe\">\n  <thead>\n    <tr style=\"text-align: right;\">\n      <th></th>\n      <th>paredao</th>\n      <th>nome</th>\n      <th>positivos_individual_pct</th>\n      <th>neutros_individual_pct</th>\n      <th>negativos_individual_pct</th>\n      <th>positivos_global_pct</th>\n      <th>neutros_global_pct</th>\n      <th>negativos_global_pct</th>\n      <th>day1</th>\n      <th>seguidores</th>\n      <th>fica</th>\n      <th>fora</th>\n      <th>rejeicao</th>\n    </tr>\n  </thead>\n  <tbody>\n    <tr>\n      <th>29</th>\n      <td>13</td>\n      <td>flayslene</td>\n      <td>0.223041</td>\n      <td>0.317819</td>\n      <td>0.459140</td>\n      <td>0.380747</td>\n      <td>0.392137</td>\n      <td>0.433244</td>\n      <td>28215</td>\n      <td>194492</td>\n      <td>1989</td>\n      <td>14457</td>\n      <td>0.6300</td>\n    </tr>\n    <tr>\n      <th>30</th>\n      <td>13</td>\n      <td>thelma</td>\n      <td>0.224189</td>\n      <td>0.422228</td>\n      <td>0.353583</td>\n      <td>0.188596</td>\n      <td>0.256728</td>\n      <td>0.164417</td>\n      <td>4695</td>\n      <td>385019</td>\n      <td>1552</td>\n      <td>7098</td>\n      <td>0.3653</td>\n    </tr>\n    <tr>\n      <th>31</th>\n      <td>13</td>\n      <td>babu</td>\n      <td>0.261903</td>\n      <td>0.295444</td>\n      <td>0.442653</td>\n      <td>0.430657</td>\n      <td>0.351135</td>\n      <td>0.402338</td>\n      <td>20133</td>\n      <td>638797</td>\n      <td>1740</td>\n      <td>678</td>\n      <td>0.0047</td>\n    </tr>\n  </tbody>\n</table>\n</div>"
     },
     "metadata": {},
     "execution_count": 72
    }
   ],
   "source": [
    "train_df, test_df = get_train_test(13, normalize=NORMALIZE, drop_columns=REMOVE)\n",
    "test_df"
   ]
  },
  {
   "cell_type": "code",
   "execution_count": 73,
   "metadata": {},
   "outputs": [],
   "source": [
    "x_train, y_train = train_df.drop(columns=[\"paredao\", \"nome\", \"rejeicao\"], axis=1).to_numpy(), train_df.drop(columns=train_df.columns[:-1], axis=1).to_numpy()\n",
    "x_test, y_test = test_df.drop(columns=[\"paredao\", \"nome\", \"rejeicao\"], axis=1).to_numpy(), test_df.drop(columns=train_df.columns[:-1], axis=1).to_numpy()"
   ]
  },
  {
   "cell_type": "code",
   "execution_count": 74,
   "metadata": {},
   "outputs": [],
   "source": [
    "regressor = AdaBoostRegressor(n_estimators=ESTIMATORS, learning_rate=LR, loss=LOSS)"
   ]
  },
  {
   "cell_type": "code",
   "execution_count": 75,
   "metadata": {},
   "outputs": [],
   "source": [
    "_ = regressor.fit(x_train, y_train)\n",
    "prediction = regressor.predict(x_test)\n",
    "test_df[\"predicao\"] = prediction\n",
    "summary_df = summary_df.append(test_df, ignore_index=True, sort=False)"
   ]
  },
  {
   "cell_type": "code",
   "execution_count": 76,
   "metadata": {},
   "outputs": [
    {
     "output_type": "execute_result",
     "data": {
      "text/plain": "   paredao       nome  positivos_individual_pct  neutros_individual_pct  \\\n29      13  flayslene                  0.223041                0.317819   \n30      13     thelma                  0.224189                0.422228   \n31      13       babu                  0.261903                0.295444   \n\n    negativos_individual_pct  positivos_global_pct  neutros_global_pct  \\\n29                  0.459140              0.380747            0.392137   \n30                  0.353583              0.188596            0.256728   \n31                  0.442653              0.430657            0.351135   \n\n    negativos_global_pct   day1  seguidores  fica   fora  rejeicao  predicao  \n29              0.433244  28215      194492  1989  14457    0.6300  0.488429  \n30              0.164417   4695      385019  1552   7098    0.3653  0.458000  \n31              0.402338  20133      638797  1740    678    0.0047  0.083509  ",
      "text/html": "<div>\n<style scoped>\n    .dataframe tbody tr th:only-of-type {\n        vertical-align: middle;\n    }\n\n    .dataframe tbody tr th {\n        vertical-align: top;\n    }\n\n    .dataframe thead th {\n        text-align: right;\n    }\n</style>\n<table border=\"1\" class=\"dataframe\">\n  <thead>\n    <tr style=\"text-align: right;\">\n      <th></th>\n      <th>paredao</th>\n      <th>nome</th>\n      <th>positivos_individual_pct</th>\n      <th>neutros_individual_pct</th>\n      <th>negativos_individual_pct</th>\n      <th>positivos_global_pct</th>\n      <th>neutros_global_pct</th>\n      <th>negativos_global_pct</th>\n      <th>day1</th>\n      <th>seguidores</th>\n      <th>fica</th>\n      <th>fora</th>\n      <th>rejeicao</th>\n      <th>predicao</th>\n    </tr>\n  </thead>\n  <tbody>\n    <tr>\n      <th>29</th>\n      <td>13</td>\n      <td>flayslene</td>\n      <td>0.223041</td>\n      <td>0.317819</td>\n      <td>0.459140</td>\n      <td>0.380747</td>\n      <td>0.392137</td>\n      <td>0.433244</td>\n      <td>28215</td>\n      <td>194492</td>\n      <td>1989</td>\n      <td>14457</td>\n      <td>0.6300</td>\n      <td>0.488429</td>\n    </tr>\n    <tr>\n      <th>30</th>\n      <td>13</td>\n      <td>thelma</td>\n      <td>0.224189</td>\n      <td>0.422228</td>\n      <td>0.353583</td>\n      <td>0.188596</td>\n      <td>0.256728</td>\n      <td>0.164417</td>\n      <td>4695</td>\n      <td>385019</td>\n      <td>1552</td>\n      <td>7098</td>\n      <td>0.3653</td>\n      <td>0.458000</td>\n    </tr>\n    <tr>\n      <th>31</th>\n      <td>13</td>\n      <td>babu</td>\n      <td>0.261903</td>\n      <td>0.295444</td>\n      <td>0.442653</td>\n      <td>0.430657</td>\n      <td>0.351135</td>\n      <td>0.402338</td>\n      <td>20133</td>\n      <td>638797</td>\n      <td>1740</td>\n      <td>678</td>\n      <td>0.0047</td>\n      <td>0.083509</td>\n    </tr>\n  </tbody>\n</table>\n</div>"
     },
     "metadata": {},
     "execution_count": 76
    }
   ],
   "source": [
    "test_df.sort_values(by=\"predicao\", ascending=False)"
   ]
  },
  {
   "cell_type": "markdown",
   "metadata": {},
   "source": [
    "# Sumarizando"
   ]
  },
  {
   "cell_type": "code",
   "execution_count": 77,
   "metadata": {},
   "outputs": [
    {
     "output_type": "execute_result",
     "data": {
      "text/plain": "   paredao             nome  rejeicao  predicao  erro_absoluto\n1        1     lucas_chumbo    0.7594  0.759122       0.000278\n12       5        flayslene    0.1764  0.179413       0.003013\n17       7             babu    0.0460  0.038664       0.007336\n6        3     felipe_prior    0.2029  0.215650       0.012750\n28      10     felipe_prior    0.5673  0.539170       0.028130\n29      11             babu    0.0411  0.074995       0.033895\n22       8            pyong    0.5170  0.551467       0.034467\n20       8             babu    0.4771  0.519800       0.042700\n3        2           petrix    0.8027  0.759400       0.043300\n10       4            lucas    0.6262  0.578500       0.047700\n7        3           hadson    0.7971  0.748675       0.048425\n4        2            pyong    0.0066  0.060880       0.054280\n34      12          marcela    0.4976  0.556433       0.058833\n18       7     manu_gavassi    0.1018  0.041100       0.060700\n15       6        guilherme    0.5607  0.497600       0.063100\n16       6            pyong    0.4329  0.497600       0.064700\n26      10     manu_gavassi    0.4251  0.497556       0.072456\n14       6  gizelly_bicalho    0.0064  0.079762       0.073362\n8        4             babu    0.0130  0.089720       0.076720\n33      12        flayslene    0.4918  0.568656       0.076856\n37      13             babu    0.0047  0.083509       0.078809\n21       8             rafa    0.0059  0.093467       0.087567\n24       9        flayslene    0.0954  0.183825       0.088425\n36      13           thelma    0.3653  0.458000       0.092700\n23       9           daniel    0.8082  0.699142       0.109058\n32      12             babu    0.0106  0.122000       0.111400\n35      13        flayslene    0.6300  0.488429       0.141571\n30      11             gabi    0.5961  0.451100       0.145000\n27      10             mari    0.0076  0.160567       0.152967\n31      11           thelma    0.3628  0.202900       0.159900\n9        4      victor_hugo    0.3608  0.176400       0.184400\n0        1   bianca_andrade    0.2446  0.050638       0.193962\n13       5     felipe_prior    0.2927  0.532450       0.239750\n11       5   bianca_andrade    0.5309  0.283140       0.247760\n2        2             babu    0.0044  0.352633       0.348233\n25       9              ivy    0.0964  0.574450       0.478050\n19       7      victor_hugo    0.8522  0.298117       0.554083\n5        2           hadson    0.1863  0.759400       0.573100",
      "text/html": "<div>\n<style scoped>\n    .dataframe tbody tr th:only-of-type {\n        vertical-align: middle;\n    }\n\n    .dataframe tbody tr th {\n        vertical-align: top;\n    }\n\n    .dataframe thead th {\n        text-align: right;\n    }\n</style>\n<table border=\"1\" class=\"dataframe\">\n  <thead>\n    <tr style=\"text-align: right;\">\n      <th></th>\n      <th>paredao</th>\n      <th>nome</th>\n      <th>rejeicao</th>\n      <th>predicao</th>\n      <th>erro_absoluto</th>\n    </tr>\n  </thead>\n  <tbody>\n    <tr>\n      <th>1</th>\n      <td>1</td>\n      <td>lucas_chumbo</td>\n      <td>0.7594</td>\n      <td>0.759122</td>\n      <td>0.000278</td>\n    </tr>\n    <tr>\n      <th>12</th>\n      <td>5</td>\n      <td>flayslene</td>\n      <td>0.1764</td>\n      <td>0.179413</td>\n      <td>0.003013</td>\n    </tr>\n    <tr>\n      <th>17</th>\n      <td>7</td>\n      <td>babu</td>\n      <td>0.0460</td>\n      <td>0.038664</td>\n      <td>0.007336</td>\n    </tr>\n    <tr>\n      <th>6</th>\n      <td>3</td>\n      <td>felipe_prior</td>\n      <td>0.2029</td>\n      <td>0.215650</td>\n      <td>0.012750</td>\n    </tr>\n    <tr>\n      <th>28</th>\n      <td>10</td>\n      <td>felipe_prior</td>\n      <td>0.5673</td>\n      <td>0.539170</td>\n      <td>0.028130</td>\n    </tr>\n    <tr>\n      <th>29</th>\n      <td>11</td>\n      <td>babu</td>\n      <td>0.0411</td>\n      <td>0.074995</td>\n      <td>0.033895</td>\n    </tr>\n    <tr>\n      <th>22</th>\n      <td>8</td>\n      <td>pyong</td>\n      <td>0.5170</td>\n      <td>0.551467</td>\n      <td>0.034467</td>\n    </tr>\n    <tr>\n      <th>20</th>\n      <td>8</td>\n      <td>babu</td>\n      <td>0.4771</td>\n      <td>0.519800</td>\n      <td>0.042700</td>\n    </tr>\n    <tr>\n      <th>3</th>\n      <td>2</td>\n      <td>petrix</td>\n      <td>0.8027</td>\n      <td>0.759400</td>\n      <td>0.043300</td>\n    </tr>\n    <tr>\n      <th>10</th>\n      <td>4</td>\n      <td>lucas</td>\n      <td>0.6262</td>\n      <td>0.578500</td>\n      <td>0.047700</td>\n    </tr>\n    <tr>\n      <th>7</th>\n      <td>3</td>\n      <td>hadson</td>\n      <td>0.7971</td>\n      <td>0.748675</td>\n      <td>0.048425</td>\n    </tr>\n    <tr>\n      <th>4</th>\n      <td>2</td>\n      <td>pyong</td>\n      <td>0.0066</td>\n      <td>0.060880</td>\n      <td>0.054280</td>\n    </tr>\n    <tr>\n      <th>34</th>\n      <td>12</td>\n      <td>marcela</td>\n      <td>0.4976</td>\n      <td>0.556433</td>\n      <td>0.058833</td>\n    </tr>\n    <tr>\n      <th>18</th>\n      <td>7</td>\n      <td>manu_gavassi</td>\n      <td>0.1018</td>\n      <td>0.041100</td>\n      <td>0.060700</td>\n    </tr>\n    <tr>\n      <th>15</th>\n      <td>6</td>\n      <td>guilherme</td>\n      <td>0.5607</td>\n      <td>0.497600</td>\n      <td>0.063100</td>\n    </tr>\n    <tr>\n      <th>16</th>\n      <td>6</td>\n      <td>pyong</td>\n      <td>0.4329</td>\n      <td>0.497600</td>\n      <td>0.064700</td>\n    </tr>\n    <tr>\n      <th>26</th>\n      <td>10</td>\n      <td>manu_gavassi</td>\n      <td>0.4251</td>\n      <td>0.497556</td>\n      <td>0.072456</td>\n    </tr>\n    <tr>\n      <th>14</th>\n      <td>6</td>\n      <td>gizelly_bicalho</td>\n      <td>0.0064</td>\n      <td>0.079762</td>\n      <td>0.073362</td>\n    </tr>\n    <tr>\n      <th>8</th>\n      <td>4</td>\n      <td>babu</td>\n      <td>0.0130</td>\n      <td>0.089720</td>\n      <td>0.076720</td>\n    </tr>\n    <tr>\n      <th>33</th>\n      <td>12</td>\n      <td>flayslene</td>\n      <td>0.4918</td>\n      <td>0.568656</td>\n      <td>0.076856</td>\n    </tr>\n    <tr>\n      <th>37</th>\n      <td>13</td>\n      <td>babu</td>\n      <td>0.0047</td>\n      <td>0.083509</td>\n      <td>0.078809</td>\n    </tr>\n    <tr>\n      <th>21</th>\n      <td>8</td>\n      <td>rafa</td>\n      <td>0.0059</td>\n      <td>0.093467</td>\n      <td>0.087567</td>\n    </tr>\n    <tr>\n      <th>24</th>\n      <td>9</td>\n      <td>flayslene</td>\n      <td>0.0954</td>\n      <td>0.183825</td>\n      <td>0.088425</td>\n    </tr>\n    <tr>\n      <th>36</th>\n      <td>13</td>\n      <td>thelma</td>\n      <td>0.3653</td>\n      <td>0.458000</td>\n      <td>0.092700</td>\n    </tr>\n    <tr>\n      <th>23</th>\n      <td>9</td>\n      <td>daniel</td>\n      <td>0.8082</td>\n      <td>0.699142</td>\n      <td>0.109058</td>\n    </tr>\n    <tr>\n      <th>32</th>\n      <td>12</td>\n      <td>babu</td>\n      <td>0.0106</td>\n      <td>0.122000</td>\n      <td>0.111400</td>\n    </tr>\n    <tr>\n      <th>35</th>\n      <td>13</td>\n      <td>flayslene</td>\n      <td>0.6300</td>\n      <td>0.488429</td>\n      <td>0.141571</td>\n    </tr>\n    <tr>\n      <th>30</th>\n      <td>11</td>\n      <td>gabi</td>\n      <td>0.5961</td>\n      <td>0.451100</td>\n      <td>0.145000</td>\n    </tr>\n    <tr>\n      <th>27</th>\n      <td>10</td>\n      <td>mari</td>\n      <td>0.0076</td>\n      <td>0.160567</td>\n      <td>0.152967</td>\n    </tr>\n    <tr>\n      <th>31</th>\n      <td>11</td>\n      <td>thelma</td>\n      <td>0.3628</td>\n      <td>0.202900</td>\n      <td>0.159900</td>\n    </tr>\n    <tr>\n      <th>9</th>\n      <td>4</td>\n      <td>victor_hugo</td>\n      <td>0.3608</td>\n      <td>0.176400</td>\n      <td>0.184400</td>\n    </tr>\n    <tr>\n      <th>0</th>\n      <td>1</td>\n      <td>bianca_andrade</td>\n      <td>0.2446</td>\n      <td>0.050638</td>\n      <td>0.193962</td>\n    </tr>\n    <tr>\n      <th>13</th>\n      <td>5</td>\n      <td>felipe_prior</td>\n      <td>0.2927</td>\n      <td>0.532450</td>\n      <td>0.239750</td>\n    </tr>\n    <tr>\n      <th>11</th>\n      <td>5</td>\n      <td>bianca_andrade</td>\n      <td>0.5309</td>\n      <td>0.283140</td>\n      <td>0.247760</td>\n    </tr>\n    <tr>\n      <th>2</th>\n      <td>2</td>\n      <td>babu</td>\n      <td>0.0044</td>\n      <td>0.352633</td>\n      <td>0.348233</td>\n    </tr>\n    <tr>\n      <th>25</th>\n      <td>9</td>\n      <td>ivy</td>\n      <td>0.0964</td>\n      <td>0.574450</td>\n      <td>0.478050</td>\n    </tr>\n    <tr>\n      <th>19</th>\n      <td>7</td>\n      <td>victor_hugo</td>\n      <td>0.8522</td>\n      <td>0.298117</td>\n      <td>0.554083</td>\n    </tr>\n    <tr>\n      <th>5</th>\n      <td>2</td>\n      <td>hadson</td>\n      <td>0.1863</td>\n      <td>0.759400</td>\n      <td>0.573100</td>\n    </tr>\n  </tbody>\n</table>\n</div>"
     },
     "metadata": {},
     "execution_count": 77
    }
   ],
   "source": [
    "summary_df = summary_df[[\"paredao\", \"nome\", \"rejeicao\", \"predicao\"]]\n",
    "summary_df[\"erro_absoluto\"] = abs(summary_df[\"rejeicao\"] - summary_df[\"predicao\"])\n",
    "summary_df.sort_values(by=\"erro_absoluto\")"
   ]
  },
  {
   "cell_type": "code",
   "execution_count": null,
   "metadata": {},
   "outputs": [],
   "source": []
  }
 ],
 "metadata": {
  "language_info": {
   "name": "python",
   "codemirror_mode": {
    "name": "ipython",
    "version": 3
   },
   "version": "3.6.9-final"
  },
  "orig_nbformat": 2,
  "file_extension": ".py",
  "mimetype": "text/x-python",
  "name": "python",
  "npconvert_exporter": "python",
  "pygments_lexer": "ipython3",
  "version": 3,
  "kernelspec": {
   "name": "python36964bitbertvirtualenv054cbb15ab924922a35a349b12e89805",
   "display_name": "Python 3.6.9 64-bit ('bert': virtualenv)"
  }
 },
 "nbformat": 4,
 "nbformat_minor": 2
}