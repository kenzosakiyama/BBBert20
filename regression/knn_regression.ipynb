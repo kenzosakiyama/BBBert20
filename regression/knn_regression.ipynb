{
 "cells": [
  {
   "cell_type": "markdown",
   "metadata": {},
   "source": [
    "# Experimentos baseados em KNN"
   ]
  },
  {
   "cell_type": "markdown",
   "metadata": {},
   "source": [
    "- Utilizando cada paredão como teste e avaliando com holdout."
   ]
  },
  {
   "cell_type": "code",
   "execution_count": 1,
   "metadata": {},
   "outputs": [],
   "source": [
    "import pandas as pd \n",
    "import numpy as np \n",
    "from regression_utils import *\n",
    "from sklearn.neighbors import KNeighborsRegressor"
   ]
  },
  {
   "cell_type": "code",
   "execution_count": 2,
   "metadata": {},
   "outputs": [],
   "source": [
    "NORMALIZE = True\n",
    "K = 3\n",
    "METRIC = \"minkowski\"\n",
    "P = 1\n",
    "REMOVE = [\"positivos\", \"neutros\", \"negativos\", \"likes\", \"retweets\", \"day2\", \"day3\"]"
   ]
  },
  {
   "cell_type": "code",
   "execution_count": 3,
   "metadata": {},
   "outputs": [],
   "source": [
    "summary_df = pd.DataFrame(columns=set(COLUMNS) - set(REMOVE))"
   ]
  },
  {
   "cell_type": "markdown",
   "metadata": {},
   "source": [
    "# Paredao 1"
   ]
  },
  {
   "cell_type": "code",
   "execution_count": 4,
   "metadata": {},
   "outputs": [],
   "source": [
    "train_df, test_df, mean, std = get_train_test(1, normalize=NORMALIZE, drop_columns=REMOVE)"
   ]
  },
  {
   "cell_type": "code",
   "execution_count": 5,
   "metadata": {},
   "outputs": [
    {
     "output_type": "execute_result",
     "data": {
      "text/plain": "   paredao            nome  positivos_individual_pct  neutros_individual_pct  \\\n27       1  bianca_andrade                  1.833221                0.752099   \n28       1    lucas_chumbo                 -0.892153                0.365955   \n\n    negativos_individual_pct  positivos_global_pct  neutros_global_pct  \\\n27                 -1.811261              1.147010           -0.122347   \n28                  0.474976              1.422844            2.573783   \n\n    negativos_global_pct      day1  seguidores      fica      fora  rejeicao  \n27             -0.863693 -1.154798   -0.148757 -0.352240 -0.570799 -0.349778  \n28              2.882610 -0.056616   -0.538806 -0.450842 -0.491983  1.494959  ",
      "text/html": "<div>\n<style scoped>\n    .dataframe tbody tr th:only-of-type {\n        vertical-align: middle;\n    }\n\n    .dataframe tbody tr th {\n        vertical-align: top;\n    }\n\n    .dataframe thead th {\n        text-align: right;\n    }\n</style>\n<table border=\"1\" class=\"dataframe\">\n  <thead>\n    <tr style=\"text-align: right;\">\n      <th></th>\n      <th>paredao</th>\n      <th>nome</th>\n      <th>positivos_individual_pct</th>\n      <th>neutros_individual_pct</th>\n      <th>negativos_individual_pct</th>\n      <th>positivos_global_pct</th>\n      <th>neutros_global_pct</th>\n      <th>negativos_global_pct</th>\n      <th>day1</th>\n      <th>seguidores</th>\n      <th>fica</th>\n      <th>fora</th>\n      <th>rejeicao</th>\n    </tr>\n  </thead>\n  <tbody>\n    <tr>\n      <th>27</th>\n      <td>1</td>\n      <td>bianca_andrade</td>\n      <td>1.833221</td>\n      <td>0.752099</td>\n      <td>-1.811261</td>\n      <td>1.147010</td>\n      <td>-0.122347</td>\n      <td>-0.863693</td>\n      <td>-1.154798</td>\n      <td>-0.148757</td>\n      <td>-0.352240</td>\n      <td>-0.570799</td>\n      <td>-0.349778</td>\n    </tr>\n    <tr>\n      <th>28</th>\n      <td>1</td>\n      <td>lucas_chumbo</td>\n      <td>-0.892153</td>\n      <td>0.365955</td>\n      <td>0.474976</td>\n      <td>1.422844</td>\n      <td>2.573783</td>\n      <td>2.882610</td>\n      <td>-0.056616</td>\n      <td>-0.538806</td>\n      <td>-0.450842</td>\n      <td>-0.491983</td>\n      <td>1.494959</td>\n    </tr>\n  </tbody>\n</table>\n</div>"
     },
     "metadata": {},
     "execution_count": 5
    }
   ],
   "source": [
    "test_df"
   ]
  },
  {
   "cell_type": "code",
   "execution_count": 6,
   "metadata": {},
   "outputs": [],
   "source": [
    "x_train, y_train = train_df.drop(columns=[\"paredao\", \"nome\", \"rejeicao\"], axis=1).to_numpy(), train_df.drop(columns=train_df.columns[:-1], axis=1).to_numpy()\n",
    "x_test, y_test = test_df.drop(columns=[\"paredao\", \"nome\", \"rejeicao\"], axis=1).to_numpy(), test_df.drop(columns=train_df.columns[:-1], axis=1).to_numpy()"
   ]
  },
  {
   "cell_type": "code",
   "execution_count": 7,
   "metadata": {},
   "outputs": [],
   "source": [
    "regressor = KNeighborsRegressor(n_neighbors=K, metric=METRIC, p=P)"
   ]
  },
  {
   "cell_type": "code",
   "execution_count": 8,
   "metadata": {},
   "outputs": [],
   "source": [
    "_ = regressor.fit(x_train, y_train)"
   ]
  },
  {
   "cell_type": "code",
   "execution_count": 9,
   "metadata": {},
   "outputs": [],
   "source": [
    "prediction = regressor.predict(x_test)\n",
    "test_df[\"predicao\"] = prediction * std + mean\n",
    "test_df[\"rejeicao\"] =  test_df[\"rejeicao\"] * std + mean\n",
    "summary_df = summary_df.append(test_df, ignore_index=True, sort=False)"
   ]
  },
  {
   "cell_type": "code",
   "execution_count": 10,
   "metadata": {},
   "outputs": [
    {
     "output_type": "execute_result",
     "data": {
      "text/plain": "   paredao            nome  positivos_individual_pct  neutros_individual_pct  \\\n28       1    lucas_chumbo                 -0.892153                0.365955   \n27       1  bianca_andrade                  1.833221                0.752099   \n\n    negativos_individual_pct  positivos_global_pct  neutros_global_pct  \\\n28                  0.474976              1.422844            2.573783   \n27                 -1.811261              1.147010           -0.122347   \n\n    negativos_global_pct      day1  seguidores      fica      fora  rejeicao  \\\n28              2.882610 -0.056616   -0.538806 -0.450842 -0.491983    0.7594   \n27             -0.863693 -1.154798   -0.148757 -0.352240 -0.570799    0.2446   \n\n    predicao  \n28  0.684433  \n27  0.246733  ",
      "text/html": "<div>\n<style scoped>\n    .dataframe tbody tr th:only-of-type {\n        vertical-align: middle;\n    }\n\n    .dataframe tbody tr th {\n        vertical-align: top;\n    }\n\n    .dataframe thead th {\n        text-align: right;\n    }\n</style>\n<table border=\"1\" class=\"dataframe\">\n  <thead>\n    <tr style=\"text-align: right;\">\n      <th></th>\n      <th>paredao</th>\n      <th>nome</th>\n      <th>positivos_individual_pct</th>\n      <th>neutros_individual_pct</th>\n      <th>negativos_individual_pct</th>\n      <th>positivos_global_pct</th>\n      <th>neutros_global_pct</th>\n      <th>negativos_global_pct</th>\n      <th>day1</th>\n      <th>seguidores</th>\n      <th>fica</th>\n      <th>fora</th>\n      <th>rejeicao</th>\n      <th>predicao</th>\n    </tr>\n  </thead>\n  <tbody>\n    <tr>\n      <th>28</th>\n      <td>1</td>\n      <td>lucas_chumbo</td>\n      <td>-0.892153</td>\n      <td>0.365955</td>\n      <td>0.474976</td>\n      <td>1.422844</td>\n      <td>2.573783</td>\n      <td>2.882610</td>\n      <td>-0.056616</td>\n      <td>-0.538806</td>\n      <td>-0.450842</td>\n      <td>-0.491983</td>\n      <td>0.7594</td>\n      <td>0.684433</td>\n    </tr>\n    <tr>\n      <th>27</th>\n      <td>1</td>\n      <td>bianca_andrade</td>\n      <td>1.833221</td>\n      <td>0.752099</td>\n      <td>-1.811261</td>\n      <td>1.147010</td>\n      <td>-0.122347</td>\n      <td>-0.863693</td>\n      <td>-1.154798</td>\n      <td>-0.148757</td>\n      <td>-0.352240</td>\n      <td>-0.570799</td>\n      <td>0.2446</td>\n      <td>0.246733</td>\n    </tr>\n  </tbody>\n</table>\n</div>"
     },
     "metadata": {},
     "execution_count": 10
    }
   ],
   "source": [
    "test_df.sort_values(by=\"predicao\", ascending=False)"
   ]
  },
  {
   "cell_type": "markdown",
   "metadata": {},
   "source": [
    "# Paredao 2"
   ]
  },
  {
   "cell_type": "code",
   "execution_count": 11,
   "metadata": {},
   "outputs": [
    {
     "output_type": "execute_result",
     "data": {
      "text/plain": "   paredao    nome  positivos_individual_pct  neutros_individual_pct  \\\n23       2    babu                  0.928711                1.295460   \n24       2  petrix                 -1.358060                0.110277   \n25       2   pyong                  2.613741               -0.344804   \n26       2  hadson                 -1.339086               -0.496142   \n\n    negativos_individual_pct  positivos_global_pct  neutros_global_pct  \\\n23                 -1.425411             -2.232462           -2.231834   \n24                  0.971141             -0.206082            0.814213   \n25                 -1.795454              0.096770           -1.375579   \n26                  1.293484             -0.656389           -0.066808   \n\n    negativos_global_pct      day1  seguidores      fica      fora  rejeicao  \n23             -2.003946 -1.170579   -0.233167 -0.455656 -0.566068 -1.210512  \n24              0.812895  1.496814   -0.528661 -0.451227  0.017384  1.650120  \n25             -1.568444 -0.721110    0.845381 -0.406741 -0.567741 -1.202628  \n26              0.404093  0.106000   -0.540569 -0.458545 -0.326733 -0.558691  ",
      "text/html": "<div>\n<style scoped>\n    .dataframe tbody tr th:only-of-type {\n        vertical-align: middle;\n    }\n\n    .dataframe tbody tr th {\n        vertical-align: top;\n    }\n\n    .dataframe thead th {\n        text-align: right;\n    }\n</style>\n<table border=\"1\" class=\"dataframe\">\n  <thead>\n    <tr style=\"text-align: right;\">\n      <th></th>\n      <th>paredao</th>\n      <th>nome</th>\n      <th>positivos_individual_pct</th>\n      <th>neutros_individual_pct</th>\n      <th>negativos_individual_pct</th>\n      <th>positivos_global_pct</th>\n      <th>neutros_global_pct</th>\n      <th>negativos_global_pct</th>\n      <th>day1</th>\n      <th>seguidores</th>\n      <th>fica</th>\n      <th>fora</th>\n      <th>rejeicao</th>\n    </tr>\n  </thead>\n  <tbody>\n    <tr>\n      <th>23</th>\n      <td>2</td>\n      <td>babu</td>\n      <td>0.928711</td>\n      <td>1.295460</td>\n      <td>-1.425411</td>\n      <td>-2.232462</td>\n      <td>-2.231834</td>\n      <td>-2.003946</td>\n      <td>-1.170579</td>\n      <td>-0.233167</td>\n      <td>-0.455656</td>\n      <td>-0.566068</td>\n      <td>-1.210512</td>\n    </tr>\n    <tr>\n      <th>24</th>\n      <td>2</td>\n      <td>petrix</td>\n      <td>-1.358060</td>\n      <td>0.110277</td>\n      <td>0.971141</td>\n      <td>-0.206082</td>\n      <td>0.814213</td>\n      <td>0.812895</td>\n      <td>1.496814</td>\n      <td>-0.528661</td>\n      <td>-0.451227</td>\n      <td>0.017384</td>\n      <td>1.650120</td>\n    </tr>\n    <tr>\n      <th>25</th>\n      <td>2</td>\n      <td>pyong</td>\n      <td>2.613741</td>\n      <td>-0.344804</td>\n      <td>-1.795454</td>\n      <td>0.096770</td>\n      <td>-1.375579</td>\n      <td>-1.568444</td>\n      <td>-0.721110</td>\n      <td>0.845381</td>\n      <td>-0.406741</td>\n      <td>-0.567741</td>\n      <td>-1.202628</td>\n    </tr>\n    <tr>\n      <th>26</th>\n      <td>2</td>\n      <td>hadson</td>\n      <td>-1.339086</td>\n      <td>-0.496142</td>\n      <td>1.293484</td>\n      <td>-0.656389</td>\n      <td>-0.066808</td>\n      <td>0.404093</td>\n      <td>0.106000</td>\n      <td>-0.540569</td>\n      <td>-0.458545</td>\n      <td>-0.326733</td>\n      <td>-0.558691</td>\n    </tr>\n  </tbody>\n</table>\n</div>"
     },
     "metadata": {},
     "execution_count": 11
    }
   ],
   "source": [
    "train_df, test_df, mean, std = get_train_test(2, normalize=NORMALIZE, drop_columns=REMOVE)\n",
    "test_df\n",
    ""
   ]
  },
  {
   "cell_type": "code",
   "execution_count": 12,
   "metadata": {},
   "outputs": [],
   "source": [
    "x_train, y_train = train_df.drop(columns=[\"paredao\", \"nome\", \"rejeicao\"], axis=1).to_numpy(), train_df.drop(columns=train_df.columns[:-1], axis=1).to_numpy()\n",
    "x_test, y_test = test_df.drop(columns=[\"paredao\", \"nome\", \"rejeicao\"], axis=1).to_numpy(), test_df.drop(columns=train_df.columns[:-1], axis=1).to_numpy()"
   ]
  },
  {
   "cell_type": "code",
   "execution_count": 13,
   "metadata": {},
   "outputs": [],
   "source": [
    "regressor = KNeighborsRegressor(n_neighbors=K, metric=METRIC, p=P)"
   ]
  },
  {
   "cell_type": "code",
   "execution_count": 14,
   "metadata": {},
   "outputs": [],
   "source": [
    "_ = regressor.fit(x_train, y_train)\n",
    ""
   ]
  },
  {
   "cell_type": "code",
   "execution_count": 15,
   "metadata": {},
   "outputs": [],
   "source": [
    "prediction = regressor.predict(x_test)\n",
    "test_df[\"predicao\"] = prediction * std + mean\n",
    "test_df[\"rejeicao\"] =  test_df[\"rejeicao\"] * std + mean\n",
    "summary_df = summary_df.append(test_df, ignore_index=True, sort=False)"
   ]
  },
  {
   "cell_type": "code",
   "execution_count": 16,
   "metadata": {},
   "outputs": [
    {
     "output_type": "execute_result",
     "data": {
      "text/plain": "   paredao    nome  positivos_individual_pct  neutros_individual_pct  \\\n24       2  petrix                 -1.358060                0.110277   \n23       2    babu                  0.928711                1.295460   \n26       2  hadson                 -1.339086               -0.496142   \n25       2   pyong                  2.613741               -0.344804   \n\n    negativos_individual_pct  positivos_global_pct  neutros_global_pct  \\\n24                  0.971141             -0.206082            0.814213   \n23                 -1.425411             -2.232462           -2.231834   \n26                  1.293484             -0.656389           -0.066808   \n25                 -1.795454              0.096770           -1.375579   \n\n    negativos_global_pct      day1  seguidores      fica      fora  rejeicao  \\\n24              0.812895  1.496814   -0.528661 -0.451227  0.017384    0.8027   \n23             -2.003946 -1.170579   -0.233167 -0.455656 -0.566068    0.0044   \n26              0.404093  0.106000   -0.540569 -0.458545 -0.326733    0.1863   \n25             -1.568444 -0.721110    0.845381 -0.406741 -0.567741    0.0066   \n\n    predicao  \n24  0.666300  \n23  0.244567  \n26  0.172167  \n25  0.117600  ",
      "text/html": "<div>\n<style scoped>\n    .dataframe tbody tr th:only-of-type {\n        vertical-align: middle;\n    }\n\n    .dataframe tbody tr th {\n        vertical-align: top;\n    }\n\n    .dataframe thead th {\n        text-align: right;\n    }\n</style>\n<table border=\"1\" class=\"dataframe\">\n  <thead>\n    <tr style=\"text-align: right;\">\n      <th></th>\n      <th>paredao</th>\n      <th>nome</th>\n      <th>positivos_individual_pct</th>\n      <th>neutros_individual_pct</th>\n      <th>negativos_individual_pct</th>\n      <th>positivos_global_pct</th>\n      <th>neutros_global_pct</th>\n      <th>negativos_global_pct</th>\n      <th>day1</th>\n      <th>seguidores</th>\n      <th>fica</th>\n      <th>fora</th>\n      <th>rejeicao</th>\n      <th>predicao</th>\n    </tr>\n  </thead>\n  <tbody>\n    <tr>\n      <th>24</th>\n      <td>2</td>\n      <td>petrix</td>\n      <td>-1.358060</td>\n      <td>0.110277</td>\n      <td>0.971141</td>\n      <td>-0.206082</td>\n      <td>0.814213</td>\n      <td>0.812895</td>\n      <td>1.496814</td>\n      <td>-0.528661</td>\n      <td>-0.451227</td>\n      <td>0.017384</td>\n      <td>0.8027</td>\n      <td>0.666300</td>\n    </tr>\n    <tr>\n      <th>23</th>\n      <td>2</td>\n      <td>babu</td>\n      <td>0.928711</td>\n      <td>1.295460</td>\n      <td>-1.425411</td>\n      <td>-2.232462</td>\n      <td>-2.231834</td>\n      <td>-2.003946</td>\n      <td>-1.170579</td>\n      <td>-0.233167</td>\n      <td>-0.455656</td>\n      <td>-0.566068</td>\n      <td>0.0044</td>\n      <td>0.244567</td>\n    </tr>\n    <tr>\n      <th>26</th>\n      <td>2</td>\n      <td>hadson</td>\n      <td>-1.339086</td>\n      <td>-0.496142</td>\n      <td>1.293484</td>\n      <td>-0.656389</td>\n      <td>-0.066808</td>\n      <td>0.404093</td>\n      <td>0.106000</td>\n      <td>-0.540569</td>\n      <td>-0.458545</td>\n      <td>-0.326733</td>\n      <td>0.1863</td>\n      <td>0.172167</td>\n    </tr>\n    <tr>\n      <th>25</th>\n      <td>2</td>\n      <td>pyong</td>\n      <td>2.613741</td>\n      <td>-0.344804</td>\n      <td>-1.795454</td>\n      <td>0.096770</td>\n      <td>-1.375579</td>\n      <td>-1.568444</td>\n      <td>-0.721110</td>\n      <td>0.845381</td>\n      <td>-0.406741</td>\n      <td>-0.567741</td>\n      <td>0.0066</td>\n      <td>0.117600</td>\n    </tr>\n  </tbody>\n</table>\n</div>"
     },
     "metadata": {},
     "execution_count": 16
    }
   ],
   "source": [
    "test_df.sort_values(by=\"predicao\", ascending=False)"
   ]
  },
  {
   "cell_type": "markdown",
   "metadata": {},
   "source": [
    "# Paredao 3"
   ]
  },
  {
   "cell_type": "code",
   "execution_count": 17,
   "metadata": {},
   "outputs": [
    {
     "output_type": "execute_result",
     "data": {
      "text/plain": "   paredao          nome  positivos_individual_pct  neutros_individual_pct  \\\n9        3  felipe_prior                  0.635208                0.710715   \n10       3        hadson                 -0.445508                2.103065   \n\n    negativos_individual_pct  positivos_global_pct  neutros_global_pct  \\\n9                  -0.877564              1.662847            0.676877   \n10                 -0.829238              0.907007            1.774558   \n\n    negativos_global_pct      day1  seguidores      fica      fora  rejeicao  \n9               0.807885 -1.460743   -0.351503 -0.440828 -0.569818 -0.499206  \n10              1.211031 -1.411062   -0.540569 -0.457004 -0.492790  1.630053  ",
      "text/html": "<div>\n<style scoped>\n    .dataframe tbody tr th:only-of-type {\n        vertical-align: middle;\n    }\n\n    .dataframe tbody tr th {\n        vertical-align: top;\n    }\n\n    .dataframe thead th {\n        text-align: right;\n    }\n</style>\n<table border=\"1\" class=\"dataframe\">\n  <thead>\n    <tr style=\"text-align: right;\">\n      <th></th>\n      <th>paredao</th>\n      <th>nome</th>\n      <th>positivos_individual_pct</th>\n      <th>neutros_individual_pct</th>\n      <th>negativos_individual_pct</th>\n      <th>positivos_global_pct</th>\n      <th>neutros_global_pct</th>\n      <th>negativos_global_pct</th>\n      <th>day1</th>\n      <th>seguidores</th>\n      <th>fica</th>\n      <th>fora</th>\n      <th>rejeicao</th>\n    </tr>\n  </thead>\n  <tbody>\n    <tr>\n      <th>9</th>\n      <td>3</td>\n      <td>felipe_prior</td>\n      <td>0.635208</td>\n      <td>0.710715</td>\n      <td>-0.877564</td>\n      <td>1.662847</td>\n      <td>0.676877</td>\n      <td>0.807885</td>\n      <td>-1.460743</td>\n      <td>-0.351503</td>\n      <td>-0.440828</td>\n      <td>-0.569818</td>\n      <td>-0.499206</td>\n    </tr>\n    <tr>\n      <th>10</th>\n      <td>3</td>\n      <td>hadson</td>\n      <td>-0.445508</td>\n      <td>2.103065</td>\n      <td>-0.829238</td>\n      <td>0.907007</td>\n      <td>1.774558</td>\n      <td>1.211031</td>\n      <td>-1.411062</td>\n      <td>-0.540569</td>\n      <td>-0.457004</td>\n      <td>-0.492790</td>\n      <td>1.630053</td>\n    </tr>\n  </tbody>\n</table>\n</div>"
     },
     "metadata": {},
     "execution_count": 17
    }
   ],
   "source": [
    "train_df, test_df, mean, std = get_train_test(3, normalize=NORMALIZE, drop_columns=REMOVE)\n",
    "test_df\n",
    ""
   ]
  },
  {
   "cell_type": "code",
   "execution_count": 18,
   "metadata": {},
   "outputs": [],
   "source": [
    "x_train, y_train = train_df.drop(columns=[\"paredao\", \"nome\", \"rejeicao\"], axis=1).to_numpy(), train_df.drop(columns=train_df.columns[:-1], axis=1).to_numpy()\n",
    "x_test, y_test = test_df.drop(columns=[\"paredao\", \"nome\", \"rejeicao\"], axis=1).to_numpy(), test_df.drop(columns=train_df.columns[:-1], axis=1).to_numpy()"
   ]
  },
  {
   "cell_type": "code",
   "execution_count": 19,
   "metadata": {},
   "outputs": [],
   "source": [
    "regressor = KNeighborsRegressor(n_neighbors=K, metric=METRIC, p=P)"
   ]
  },
  {
   "cell_type": "code",
   "execution_count": 20,
   "metadata": {},
   "outputs": [],
   "source": [
    "_ = regressor.fit(x_train, y_train)"
   ]
  },
  {
   "cell_type": "code",
   "execution_count": 21,
   "metadata": {},
   "outputs": [],
   "source": [
    "prediction = regressor.predict(x_test)\n",
    "test_df[\"predicao\"] = prediction * std + mean\n",
    "test_df[\"rejeicao\"] =  test_df[\"rejeicao\"] * std + mean\n",
    "summary_df = summary_df.append(test_df, ignore_index=True, sort=False)"
   ]
  },
  {
   "cell_type": "code",
   "execution_count": 22,
   "metadata": {},
   "outputs": [
    {
     "output_type": "execute_result",
     "data": {
      "text/plain": "   paredao          nome  positivos_individual_pct  neutros_individual_pct  \\\n10       3        hadson                 -0.445508                2.103065   \n9        3  felipe_prior                  0.635208                0.710715   \n\n    negativos_individual_pct  positivos_global_pct  neutros_global_pct  \\\n10                 -0.829238              0.907007            1.774558   \n9                  -0.877564              1.662847            0.676877   \n\n    negativos_global_pct      day1  seguidores      fica      fora  rejeicao  \\\n10              1.211031 -1.411062   -0.540569 -0.457004 -0.492790    0.7971   \n9               0.807885 -1.460743   -0.351503 -0.440828 -0.569818    0.2029   \n\n    predicao  \n10  0.638833  \n9   0.273833  ",
      "text/html": "<div>\n<style scoped>\n    .dataframe tbody tr th:only-of-type {\n        vertical-align: middle;\n    }\n\n    .dataframe tbody tr th {\n        vertical-align: top;\n    }\n\n    .dataframe thead th {\n        text-align: right;\n    }\n</style>\n<table border=\"1\" class=\"dataframe\">\n  <thead>\n    <tr style=\"text-align: right;\">\n      <th></th>\n      <th>paredao</th>\n      <th>nome</th>\n      <th>positivos_individual_pct</th>\n      <th>neutros_individual_pct</th>\n      <th>negativos_individual_pct</th>\n      <th>positivos_global_pct</th>\n      <th>neutros_global_pct</th>\n      <th>negativos_global_pct</th>\n      <th>day1</th>\n      <th>seguidores</th>\n      <th>fica</th>\n      <th>fora</th>\n      <th>rejeicao</th>\n      <th>predicao</th>\n    </tr>\n  </thead>\n  <tbody>\n    <tr>\n      <th>10</th>\n      <td>3</td>\n      <td>hadson</td>\n      <td>-0.445508</td>\n      <td>2.103065</td>\n      <td>-0.829238</td>\n      <td>0.907007</td>\n      <td>1.774558</td>\n      <td>1.211031</td>\n      <td>-1.411062</td>\n      <td>-0.540569</td>\n      <td>-0.457004</td>\n      <td>-0.492790</td>\n      <td>0.7971</td>\n      <td>0.638833</td>\n    </tr>\n    <tr>\n      <th>9</th>\n      <td>3</td>\n      <td>felipe_prior</td>\n      <td>0.635208</td>\n      <td>0.710715</td>\n      <td>-0.877564</td>\n      <td>1.662847</td>\n      <td>0.676877</td>\n      <td>0.807885</td>\n      <td>-1.460743</td>\n      <td>-0.351503</td>\n      <td>-0.440828</td>\n      <td>-0.569818</td>\n      <td>0.2029</td>\n      <td>0.273833</td>\n    </tr>\n  </tbody>\n</table>\n</div>"
     },
     "metadata": {},
     "execution_count": 22
    }
   ],
   "source": [
    "test_df.sort_values(by=\"predicao\", ascending=False)"
   ]
  },
  {
   "cell_type": "markdown",
   "metadata": {},
   "source": [
    "# Paredao 4"
   ]
  },
  {
   "cell_type": "code",
   "execution_count": 23,
   "metadata": {},
   "outputs": [
    {
     "output_type": "execute_result",
     "data": {
      "text/plain": "   paredao         nome  positivos_individual_pct  neutros_individual_pct  \\\n35       4         babu                 -0.774447               -0.745010   \n36       4  victor_hugo                 -0.161468                0.717024   \n37       4        lucas                 -0.605035               -0.865066   \n\n    negativos_individual_pct  positivos_global_pct  neutros_global_pct  \\\n35                  1.002456             -0.252010           -0.137641   \n36                 -0.275443             -1.733562           -1.593909   \n37                  0.940343              1.771418            1.527264   \n\n    negativos_global_pct      day1  seguidores      fica      fora  rejeicao  \n35             -0.013846 -0.348079   -0.233167 -0.436976 -0.556028 -1.179695  \n36             -1.611547 -1.090115   -0.536480 -0.453345 -0.541315  0.066614  \n37              1.457150  0.558002   -0.527436 -0.421184 -0.230779  1.017649  ",
      "text/html": "<div>\n<style scoped>\n    .dataframe tbody tr th:only-of-type {\n        vertical-align: middle;\n    }\n\n    .dataframe tbody tr th {\n        vertical-align: top;\n    }\n\n    .dataframe thead th {\n        text-align: right;\n    }\n</style>\n<table border=\"1\" class=\"dataframe\">\n  <thead>\n    <tr style=\"text-align: right;\">\n      <th></th>\n      <th>paredao</th>\n      <th>nome</th>\n      <th>positivos_individual_pct</th>\n      <th>neutros_individual_pct</th>\n      <th>negativos_individual_pct</th>\n      <th>positivos_global_pct</th>\n      <th>neutros_global_pct</th>\n      <th>negativos_global_pct</th>\n      <th>day1</th>\n      <th>seguidores</th>\n      <th>fica</th>\n      <th>fora</th>\n      <th>rejeicao</th>\n    </tr>\n  </thead>\n  <tbody>\n    <tr>\n      <th>35</th>\n      <td>4</td>\n      <td>babu</td>\n      <td>-0.774447</td>\n      <td>-0.745010</td>\n      <td>1.002456</td>\n      <td>-0.252010</td>\n      <td>-0.137641</td>\n      <td>-0.013846</td>\n      <td>-0.348079</td>\n      <td>-0.233167</td>\n      <td>-0.436976</td>\n      <td>-0.556028</td>\n      <td>-1.179695</td>\n    </tr>\n    <tr>\n      <th>36</th>\n      <td>4</td>\n      <td>victor_hugo</td>\n      <td>-0.161468</td>\n      <td>0.717024</td>\n      <td>-0.275443</td>\n      <td>-1.733562</td>\n      <td>-1.593909</td>\n      <td>-1.611547</td>\n      <td>-1.090115</td>\n      <td>-0.536480</td>\n      <td>-0.453345</td>\n      <td>-0.541315</td>\n      <td>0.066614</td>\n    </tr>\n    <tr>\n      <th>37</th>\n      <td>4</td>\n      <td>lucas</td>\n      <td>-0.605035</td>\n      <td>-0.865066</td>\n      <td>0.940343</td>\n      <td>1.771418</td>\n      <td>1.527264</td>\n      <td>1.457150</td>\n      <td>0.558002</td>\n      <td>-0.527436</td>\n      <td>-0.421184</td>\n      <td>-0.230779</td>\n      <td>1.017649</td>\n    </tr>\n  </tbody>\n</table>\n</div>"
     },
     "metadata": {},
     "execution_count": 23
    }
   ],
   "source": [
    "train_df, test_df, mean, std = get_train_test(4, normalize=NORMALIZE, drop_columns=REMOVE)\n",
    "test_df\n",
    ""
   ]
  },
  {
   "cell_type": "code",
   "execution_count": 24,
   "metadata": {},
   "outputs": [],
   "source": [
    "x_train, y_train = train_df.drop(columns=[\"paredao\", \"nome\", \"rejeicao\"], axis=1).to_numpy(), train_df.drop(columns=train_df.columns[:-1], axis=1).to_numpy()\n",
    "x_test, y_test = test_df.drop(columns=[\"paredao\", \"nome\", \"rejeicao\"], axis=1).to_numpy(), test_df.drop(columns=train_df.columns[:-1], axis=1).to_numpy()"
   ]
  },
  {
   "cell_type": "code",
   "execution_count": 25,
   "metadata": {},
   "outputs": [],
   "source": [
    "regressor = KNeighborsRegressor(n_neighbors=K, metric=METRIC, p=P)"
   ]
  },
  {
   "cell_type": "code",
   "execution_count": 26,
   "metadata": {},
   "outputs": [],
   "source": [
    "_ = regressor.fit(x_train, y_train)\n",
    ""
   ]
  },
  {
   "cell_type": "code",
   "execution_count": 27,
   "metadata": {},
   "outputs": [],
   "source": [
    "prediction = regressor.predict(x_test)\n",
    "test_df[\"predicao\"] = prediction * std + mean\n",
    "test_df[\"rejeicao\"] =  test_df[\"rejeicao\"] * std + mean\n",
    "summary_df = summary_df.append(test_df, ignore_index=True, sort=False)"
   ]
  },
  {
   "cell_type": "code",
   "execution_count": 28,
   "metadata": {},
   "outputs": [
    {
     "output_type": "execute_result",
     "data": {
      "text/plain": "   paredao         nome  positivos_individual_pct  neutros_individual_pct  \\\n37       4        lucas                 -0.605035               -0.865066   \n36       4  victor_hugo                 -0.161468                0.717024   \n35       4         babu                 -0.774447               -0.745010   \n\n    negativos_individual_pct  positivos_global_pct  neutros_global_pct  \\\n37                  0.940343              1.771418            1.527264   \n36                 -0.275443             -1.733562           -1.593909   \n35                  1.002456             -0.252010           -0.137641   \n\n    negativos_global_pct      day1  seguidores      fica      fora  rejeicao  \\\n37              1.457150  0.558002   -0.527436 -0.421184 -0.230779    0.6262   \n36             -1.611547 -1.090115   -0.536480 -0.453345 -0.541315    0.3608   \n35             -0.013846 -0.348079   -0.233167 -0.436976 -0.556028    0.0130   \n\n    predicao  \n37  0.560700  \n36  0.408367  \n35  0.095467  ",
      "text/html": "<div>\n<style scoped>\n    .dataframe tbody tr th:only-of-type {\n        vertical-align: middle;\n    }\n\n    .dataframe tbody tr th {\n        vertical-align: top;\n    }\n\n    .dataframe thead th {\n        text-align: right;\n    }\n</style>\n<table border=\"1\" class=\"dataframe\">\n  <thead>\n    <tr style=\"text-align: right;\">\n      <th></th>\n      <th>paredao</th>\n      <th>nome</th>\n      <th>positivos_individual_pct</th>\n      <th>neutros_individual_pct</th>\n      <th>negativos_individual_pct</th>\n      <th>positivos_global_pct</th>\n      <th>neutros_global_pct</th>\n      <th>negativos_global_pct</th>\n      <th>day1</th>\n      <th>seguidores</th>\n      <th>fica</th>\n      <th>fora</th>\n      <th>rejeicao</th>\n      <th>predicao</th>\n    </tr>\n  </thead>\n  <tbody>\n    <tr>\n      <th>37</th>\n      <td>4</td>\n      <td>lucas</td>\n      <td>-0.605035</td>\n      <td>-0.865066</td>\n      <td>0.940343</td>\n      <td>1.771418</td>\n      <td>1.527264</td>\n      <td>1.457150</td>\n      <td>0.558002</td>\n      <td>-0.527436</td>\n      <td>-0.421184</td>\n      <td>-0.230779</td>\n      <td>0.6262</td>\n      <td>0.560700</td>\n    </tr>\n    <tr>\n      <th>36</th>\n      <td>4</td>\n      <td>victor_hugo</td>\n      <td>-0.161468</td>\n      <td>0.717024</td>\n      <td>-0.275443</td>\n      <td>-1.733562</td>\n      <td>-1.593909</td>\n      <td>-1.611547</td>\n      <td>-1.090115</td>\n      <td>-0.536480</td>\n      <td>-0.453345</td>\n      <td>-0.541315</td>\n      <td>0.3608</td>\n      <td>0.408367</td>\n    </tr>\n    <tr>\n      <th>35</th>\n      <td>4</td>\n      <td>babu</td>\n      <td>-0.774447</td>\n      <td>-0.745010</td>\n      <td>1.002456</td>\n      <td>-0.252010</td>\n      <td>-0.137641</td>\n      <td>-0.013846</td>\n      <td>-0.348079</td>\n      <td>-0.233167</td>\n      <td>-0.436976</td>\n      <td>-0.556028</td>\n      <td>0.0130</td>\n      <td>0.095467</td>\n    </tr>\n  </tbody>\n</table>\n</div>"
     },
     "metadata": {},
     "execution_count": 28
    }
   ],
   "source": [
    "test_df.sort_values(by=\"predicao\", ascending=False)"
   ]
  },
  {
   "cell_type": "markdown",
   "metadata": {},
   "source": [
    "# Paredao 5"
   ]
  },
  {
   "cell_type": "code",
   "execution_count": 29,
   "metadata": {},
   "outputs": [
    {
     "output_type": "execute_result",
     "data": {
      "text/plain": "  paredao            nome  positivos_individual_pct  neutros_individual_pct  \\\n3       5  bianca_andrade                 -0.243201                1.788413   \n4       5       flayslene                 -0.841292               -0.112454   \n5       5    felipe_prior                 -1.363129               -1.036894   \n\n   negativos_individual_pct  positivos_global_pct  neutros_global_pct  \\\n3                 -0.808291              0.234052            0.231601   \n4                  0.701991             -1.143619           -1.163205   \n5                  1.612060              0.695412            0.727317   \n\n   negativos_global_pct      day1  seguidores      fica      fora  rejeicao  \n3             -0.832431 -1.404892   -0.148757 -0.346078 -0.463537  0.676151  \n4             -0.947947 -1.408984   -0.448944 -0.408667 -0.408492 -0.594166  \n5              1.612135 -1.333261   -0.351503 -0.309488 -0.166329 -0.177416  ",
      "text/html": "<div>\n<style scoped>\n    .dataframe tbody tr th:only-of-type {\n        vertical-align: middle;\n    }\n\n    .dataframe tbody tr th {\n        vertical-align: top;\n    }\n\n    .dataframe thead th {\n        text-align: right;\n    }\n</style>\n<table border=\"1\" class=\"dataframe\">\n  <thead>\n    <tr style=\"text-align: right;\">\n      <th></th>\n      <th>paredao</th>\n      <th>nome</th>\n      <th>positivos_individual_pct</th>\n      <th>neutros_individual_pct</th>\n      <th>negativos_individual_pct</th>\n      <th>positivos_global_pct</th>\n      <th>neutros_global_pct</th>\n      <th>negativos_global_pct</th>\n      <th>day1</th>\n      <th>seguidores</th>\n      <th>fica</th>\n      <th>fora</th>\n      <th>rejeicao</th>\n    </tr>\n  </thead>\n  <tbody>\n    <tr>\n      <th>3</th>\n      <td>5</td>\n      <td>bianca_andrade</td>\n      <td>-0.243201</td>\n      <td>1.788413</td>\n      <td>-0.808291</td>\n      <td>0.234052</td>\n      <td>0.231601</td>\n      <td>-0.832431</td>\n      <td>-1.404892</td>\n      <td>-0.148757</td>\n      <td>-0.346078</td>\n      <td>-0.463537</td>\n      <td>0.676151</td>\n    </tr>\n    <tr>\n      <th>4</th>\n      <td>5</td>\n      <td>flayslene</td>\n      <td>-0.841292</td>\n      <td>-0.112454</td>\n      <td>0.701991</td>\n      <td>-1.143619</td>\n      <td>-1.163205</td>\n      <td>-0.947947</td>\n      <td>-1.408984</td>\n      <td>-0.448944</td>\n      <td>-0.408667</td>\n      <td>-0.408492</td>\n      <td>-0.594166</td>\n    </tr>\n    <tr>\n      <th>5</th>\n      <td>5</td>\n      <td>felipe_prior</td>\n      <td>-1.363129</td>\n      <td>-1.036894</td>\n      <td>1.612060</td>\n      <td>0.695412</td>\n      <td>0.727317</td>\n      <td>1.612135</td>\n      <td>-1.333261</td>\n      <td>-0.351503</td>\n      <td>-0.309488</td>\n      <td>-0.166329</td>\n      <td>-0.177416</td>\n    </tr>\n  </tbody>\n</table>\n</div>"
     },
     "metadata": {},
     "execution_count": 29
    }
   ],
   "source": [
    "train_df, test_df, mean, std = get_train_test(5, normalize=NORMALIZE, drop_columns=REMOVE)\n",
    "test_df\n",
    ""
   ]
  },
  {
   "cell_type": "code",
   "execution_count": 30,
   "metadata": {},
   "outputs": [],
   "source": [
    "x_train, y_train = train_df.drop(columns=[\"paredao\", \"nome\", \"rejeicao\"], axis=1).to_numpy(), train_df.drop(columns=train_df.columns[:-1], axis=1).to_numpy()\n",
    "x_test, y_test = test_df.drop(columns=[\"paredao\", \"nome\", \"rejeicao\"], axis=1).to_numpy(), test_df.drop(columns=train_df.columns[:-1], axis=1).to_numpy()"
   ]
  },
  {
   "cell_type": "code",
   "execution_count": 31,
   "metadata": {},
   "outputs": [],
   "source": [
    "regressor = KNeighborsRegressor(n_neighbors=K, metric=METRIC, p=P)"
   ]
  },
  {
   "cell_type": "code",
   "execution_count": 32,
   "metadata": {},
   "outputs": [],
   "source": [
    "_ = regressor.fit(x_train, y_train)\n",
    ""
   ]
  },
  {
   "cell_type": "code",
   "execution_count": 33,
   "metadata": {},
   "outputs": [],
   "source": [
    "prediction = regressor.predict(x_test)\n",
    "test_df[\"predicao\"] = prediction * std + mean\n",
    "test_df[\"rejeicao\"] =  test_df[\"rejeicao\"] * std + mean\n",
    "summary_df = summary_df.append(test_df, ignore_index=True, sort=False)"
   ]
  },
  {
   "cell_type": "code",
   "execution_count": 34,
   "metadata": {},
   "outputs": [
    {
     "output_type": "execute_result",
     "data": {
      "text/plain": "  paredao            nome  positivos_individual_pct  neutros_individual_pct  \\\n3       5  bianca_andrade                 -0.243201                1.788413   \n4       5       flayslene                 -0.841292               -0.112454   \n5       5    felipe_prior                 -1.363129               -1.036894   \n\n   negativos_individual_pct  positivos_global_pct  neutros_global_pct  \\\n3                 -0.808291              0.234052            0.231601   \n4                  0.701991             -1.143619           -1.163205   \n5                  1.612060              0.695412            0.727317   \n\n   negativos_global_pct      day1  seguidores      fica      fora  rejeicao  \\\n3             -0.832431 -1.404892   -0.148757 -0.346078 -0.463537    0.5309   \n4             -0.947947 -1.408984   -0.448944 -0.408667 -0.408492    0.1764   \n5              1.612135 -1.333261   -0.351503 -0.309488 -0.166329    0.2927   \n\n   predicao  \n3  0.469000  \n4  0.406300  \n5  0.275167  ",
      "text/html": "<div>\n<style scoped>\n    .dataframe tbody tr th:only-of-type {\n        vertical-align: middle;\n    }\n\n    .dataframe tbody tr th {\n        vertical-align: top;\n    }\n\n    .dataframe thead th {\n        text-align: right;\n    }\n</style>\n<table border=\"1\" class=\"dataframe\">\n  <thead>\n    <tr style=\"text-align: right;\">\n      <th></th>\n      <th>paredao</th>\n      <th>nome</th>\n      <th>positivos_individual_pct</th>\n      <th>neutros_individual_pct</th>\n      <th>negativos_individual_pct</th>\n      <th>positivos_global_pct</th>\n      <th>neutros_global_pct</th>\n      <th>negativos_global_pct</th>\n      <th>day1</th>\n      <th>seguidores</th>\n      <th>fica</th>\n      <th>fora</th>\n      <th>rejeicao</th>\n      <th>predicao</th>\n    </tr>\n  </thead>\n  <tbody>\n    <tr>\n      <th>3</th>\n      <td>5</td>\n      <td>bianca_andrade</td>\n      <td>-0.243201</td>\n      <td>1.788413</td>\n      <td>-0.808291</td>\n      <td>0.234052</td>\n      <td>0.231601</td>\n      <td>-0.832431</td>\n      <td>-1.404892</td>\n      <td>-0.148757</td>\n      <td>-0.346078</td>\n      <td>-0.463537</td>\n      <td>0.5309</td>\n      <td>0.469000</td>\n    </tr>\n    <tr>\n      <th>4</th>\n      <td>5</td>\n      <td>flayslene</td>\n      <td>-0.841292</td>\n      <td>-0.112454</td>\n      <td>0.701991</td>\n      <td>-1.143619</td>\n      <td>-1.163205</td>\n      <td>-0.947947</td>\n      <td>-1.408984</td>\n      <td>-0.448944</td>\n      <td>-0.408667</td>\n      <td>-0.408492</td>\n      <td>0.1764</td>\n      <td>0.406300</td>\n    </tr>\n    <tr>\n      <th>5</th>\n      <td>5</td>\n      <td>felipe_prior</td>\n      <td>-1.363129</td>\n      <td>-1.036894</td>\n      <td>1.612060</td>\n      <td>0.695412</td>\n      <td>0.727317</td>\n      <td>1.612135</td>\n      <td>-1.333261</td>\n      <td>-0.351503</td>\n      <td>-0.309488</td>\n      <td>-0.166329</td>\n      <td>0.2927</td>\n      <td>0.275167</td>\n    </tr>\n  </tbody>\n</table>\n</div>"
     },
     "metadata": {},
     "execution_count": 34
    }
   ],
   "source": [
    "test_df.sort_values(by=\"predicao\", ascending=False)"
   ]
  },
  {
   "cell_type": "markdown",
   "metadata": {},
   "source": [
    "# Paredao 6"
   ]
  },
  {
   "cell_type": "code",
   "execution_count": 35,
   "metadata": {},
   "outputs": [
    {
     "output_type": "execute_result",
     "data": {
      "text/plain": "  paredao             nome  positivos_individual_pct  neutros_individual_pct  \\\n0       6  gizelly_bicalho                  2.207670                0.177714   \n1       6        guilherme                 -1.277026               -1.635348   \n2       6            pyong                 -0.423969               -1.276289   \n\n   negativos_individual_pct  positivos_global_pct  neutros_global_pct  \\\n0                 -1.776936              0.005160           -0.771424   \n1                  1.878949             -0.678622            0.021878   \n2                  1.031066              0.459308            0.545260   \n\n   negativos_global_pct      day1  seguidores      fica      fora  rejeicao  \n0             -1.504546 -0.177085   -0.321317 -0.203568 -0.549566 -1.203345  \n1              0.702973  1.675991   -0.449643 -0.416177  0.994286  0.782936  \n2              0.633330  0.996040    0.845381 -0.100345  0.285338  0.324977  ",
      "text/html": "<div>\n<style scoped>\n    .dataframe tbody tr th:only-of-type {\n        vertical-align: middle;\n    }\n\n    .dataframe tbody tr th {\n        vertical-align: top;\n    }\n\n    .dataframe thead th {\n        text-align: right;\n    }\n</style>\n<table border=\"1\" class=\"dataframe\">\n  <thead>\n    <tr style=\"text-align: right;\">\n      <th></th>\n      <th>paredao</th>\n      <th>nome</th>\n      <th>positivos_individual_pct</th>\n      <th>neutros_individual_pct</th>\n      <th>negativos_individual_pct</th>\n      <th>positivos_global_pct</th>\n      <th>neutros_global_pct</th>\n      <th>negativos_global_pct</th>\n      <th>day1</th>\n      <th>seguidores</th>\n      <th>fica</th>\n      <th>fora</th>\n      <th>rejeicao</th>\n    </tr>\n  </thead>\n  <tbody>\n    <tr>\n      <th>0</th>\n      <td>6</td>\n      <td>gizelly_bicalho</td>\n      <td>2.207670</td>\n      <td>0.177714</td>\n      <td>-1.776936</td>\n      <td>0.005160</td>\n      <td>-0.771424</td>\n      <td>-1.504546</td>\n      <td>-0.177085</td>\n      <td>-0.321317</td>\n      <td>-0.203568</td>\n      <td>-0.549566</td>\n      <td>-1.203345</td>\n    </tr>\n    <tr>\n      <th>1</th>\n      <td>6</td>\n      <td>guilherme</td>\n      <td>-1.277026</td>\n      <td>-1.635348</td>\n      <td>1.878949</td>\n      <td>-0.678622</td>\n      <td>0.021878</td>\n      <td>0.702973</td>\n      <td>1.675991</td>\n      <td>-0.449643</td>\n      <td>-0.416177</td>\n      <td>0.994286</td>\n      <td>0.782936</td>\n    </tr>\n    <tr>\n      <th>2</th>\n      <td>6</td>\n      <td>pyong</td>\n      <td>-0.423969</td>\n      <td>-1.276289</td>\n      <td>1.031066</td>\n      <td>0.459308</td>\n      <td>0.545260</td>\n      <td>0.633330</td>\n      <td>0.996040</td>\n      <td>0.845381</td>\n      <td>-0.100345</td>\n      <td>0.285338</td>\n      <td>0.324977</td>\n    </tr>\n  </tbody>\n</table>\n</div>"
     },
     "metadata": {},
     "execution_count": 35
    }
   ],
   "source": [
    "train_df, test_df, mean, std = get_train_test(6, normalize=NORMALIZE, drop_columns=REMOVE)\n",
    "test_df\n",
    ""
   ]
  },
  {
   "cell_type": "code",
   "execution_count": 36,
   "metadata": {},
   "outputs": [],
   "source": [
    "x_train, y_train = train_df.drop(columns=[\"paredao\", \"nome\", \"rejeicao\"], axis=1).to_numpy(), train_df.drop(columns=train_df.columns[:-1], axis=1).to_numpy()\n",
    "x_test, y_test = test_df.drop(columns=[\"paredao\", \"nome\", \"rejeicao\"], axis=1).to_numpy(), test_df.drop(columns=train_df.columns[:-1], axis=1).to_numpy()"
   ]
  },
  {
   "cell_type": "code",
   "execution_count": 37,
   "metadata": {},
   "outputs": [],
   "source": [
    "regressor = KNeighborsRegressor(n_neighbors=K, metric=METRIC, p=P)"
   ]
  },
  {
   "cell_type": "code",
   "execution_count": 38,
   "metadata": {},
   "outputs": [],
   "source": [
    "_ = regressor.fit(x_train, y_train)\n",
    ""
   ]
  },
  {
   "cell_type": "code",
   "execution_count": 39,
   "metadata": {},
   "outputs": [],
   "source": [
    "prediction = regressor.predict(x_test)\n",
    "test_df[\"predicao\"] = prediction * std + mean\n",
    "test_df[\"rejeicao\"] =  test_df[\"rejeicao\"] * std + mean\n",
    "summary_df = summary_df.append(test_df, ignore_index=True, sort=False)"
   ]
  },
  {
   "cell_type": "code",
   "execution_count": 40,
   "metadata": {},
   "outputs": [
    {
     "output_type": "execute_result",
     "data": {
      "text/plain": "  paredao             nome  positivos_individual_pct  neutros_individual_pct  \\\n2       6            pyong                 -0.423969               -1.276289   \n1       6        guilherme                 -1.277026               -1.635348   \n0       6  gizelly_bicalho                  2.207670                0.177714   \n\n   negativos_individual_pct  positivos_global_pct  neutros_global_pct  \\\n2                  1.031066              0.459308            0.545260   \n1                  1.878949             -0.678622            0.021878   \n0                 -1.776936              0.005160           -0.771424   \n\n   negativos_global_pct      day1  seguidores      fica      fora  rejeicao  \\\n2              0.633330  0.996040    0.845381 -0.100345  0.285338    0.4329   \n1              0.702973  1.675991   -0.449643 -0.416177  0.994286    0.5607   \n0             -1.504546 -0.177085   -0.321317 -0.203568 -0.549566    0.0064   \n\n   predicao  \n2  0.546267  \n1  0.391900  \n0  0.086267  ",
      "text/html": "<div>\n<style scoped>\n    .dataframe tbody tr th:only-of-type {\n        vertical-align: middle;\n    }\n\n    .dataframe tbody tr th {\n        vertical-align: top;\n    }\n\n    .dataframe thead th {\n        text-align: right;\n    }\n</style>\n<table border=\"1\" class=\"dataframe\">\n  <thead>\n    <tr style=\"text-align: right;\">\n      <th></th>\n      <th>paredao</th>\n      <th>nome</th>\n      <th>positivos_individual_pct</th>\n      <th>neutros_individual_pct</th>\n      <th>negativos_individual_pct</th>\n      <th>positivos_global_pct</th>\n      <th>neutros_global_pct</th>\n      <th>negativos_global_pct</th>\n      <th>day1</th>\n      <th>seguidores</th>\n      <th>fica</th>\n      <th>fora</th>\n      <th>rejeicao</th>\n      <th>predicao</th>\n    </tr>\n  </thead>\n  <tbody>\n    <tr>\n      <th>2</th>\n      <td>6</td>\n      <td>pyong</td>\n      <td>-0.423969</td>\n      <td>-1.276289</td>\n      <td>1.031066</td>\n      <td>0.459308</td>\n      <td>0.545260</td>\n      <td>0.633330</td>\n      <td>0.996040</td>\n      <td>0.845381</td>\n      <td>-0.100345</td>\n      <td>0.285338</td>\n      <td>0.4329</td>\n      <td>0.546267</td>\n    </tr>\n    <tr>\n      <th>1</th>\n      <td>6</td>\n      <td>guilherme</td>\n      <td>-1.277026</td>\n      <td>-1.635348</td>\n      <td>1.878949</td>\n      <td>-0.678622</td>\n      <td>0.021878</td>\n      <td>0.702973</td>\n      <td>1.675991</td>\n      <td>-0.449643</td>\n      <td>-0.416177</td>\n      <td>0.994286</td>\n      <td>0.5607</td>\n      <td>0.391900</td>\n    </tr>\n    <tr>\n      <th>0</th>\n      <td>6</td>\n      <td>gizelly_bicalho</td>\n      <td>2.207670</td>\n      <td>0.177714</td>\n      <td>-1.776936</td>\n      <td>0.005160</td>\n      <td>-0.771424</td>\n      <td>-1.504546</td>\n      <td>-0.177085</td>\n      <td>-0.321317</td>\n      <td>-0.203568</td>\n      <td>-0.549566</td>\n      <td>0.0064</td>\n      <td>0.086267</td>\n    </tr>\n  </tbody>\n</table>\n</div>"
     },
     "metadata": {},
     "execution_count": 40
    }
   ],
   "source": [
    "test_df.sort_values(by=\"predicao\", ascending=False)"
   ]
  },
  {
   "cell_type": "markdown",
   "metadata": {},
   "source": [
    "# Paredao 7"
   ]
  },
  {
   "cell_type": "code",
   "execution_count": 41,
   "metadata": {},
   "outputs": [
    {
     "output_type": "execute_result",
     "data": {
      "text/plain": "  paredao          nome  positivos_individual_pct  neutros_individual_pct  \\\n6       7          babu                  1.189059               -0.705682   \n7       7  manu_gavassi                  1.493400                0.331150   \n8       7   victor_hugo                 -0.488858                0.526501   \n\n   negativos_individual_pct  positivos_global_pct  neutros_global_pct  \\\n6                 -0.512018              0.929509            0.316380   \n7                 -1.319165              0.180796           -0.045720   \n8                  0.079240             -1.324459           -0.474947   \n\n   negativos_global_pct      day1  seguidores      fica      fora  rejeicao  \n6              0.588815 -0.297879   -0.233167 -0.156964 -0.562087 -1.061442  \n7             -0.495466 -0.666234    3.670304 -0.112092 -0.549739 -0.861488  \n8             -0.261592 -0.611357   -0.536480 -0.454308 -0.431514  1.827499  ",
      "text/html": "<div>\n<style scoped>\n    .dataframe tbody tr th:only-of-type {\n        vertical-align: middle;\n    }\n\n    .dataframe tbody tr th {\n        vertical-align: top;\n    }\n\n    .dataframe thead th {\n        text-align: right;\n    }\n</style>\n<table border=\"1\" class=\"dataframe\">\n  <thead>\n    <tr style=\"text-align: right;\">\n      <th></th>\n      <th>paredao</th>\n      <th>nome</th>\n      <th>positivos_individual_pct</th>\n      <th>neutros_individual_pct</th>\n      <th>negativos_individual_pct</th>\n      <th>positivos_global_pct</th>\n      <th>neutros_global_pct</th>\n      <th>negativos_global_pct</th>\n      <th>day1</th>\n      <th>seguidores</th>\n      <th>fica</th>\n      <th>fora</th>\n      <th>rejeicao</th>\n    </tr>\n  </thead>\n  <tbody>\n    <tr>\n      <th>6</th>\n      <td>7</td>\n      <td>babu</td>\n      <td>1.189059</td>\n      <td>-0.705682</td>\n      <td>-0.512018</td>\n      <td>0.929509</td>\n      <td>0.316380</td>\n      <td>0.588815</td>\n      <td>-0.297879</td>\n      <td>-0.233167</td>\n      <td>-0.156964</td>\n      <td>-0.562087</td>\n      <td>-1.061442</td>\n    </tr>\n    <tr>\n      <th>7</th>\n      <td>7</td>\n      <td>manu_gavassi</td>\n      <td>1.493400</td>\n      <td>0.331150</td>\n      <td>-1.319165</td>\n      <td>0.180796</td>\n      <td>-0.045720</td>\n      <td>-0.495466</td>\n      <td>-0.666234</td>\n      <td>3.670304</td>\n      <td>-0.112092</td>\n      <td>-0.549739</td>\n      <td>-0.861488</td>\n    </tr>\n    <tr>\n      <th>8</th>\n      <td>7</td>\n      <td>victor_hugo</td>\n      <td>-0.488858</td>\n      <td>0.526501</td>\n      <td>0.079240</td>\n      <td>-1.324459</td>\n      <td>-0.474947</td>\n      <td>-0.261592</td>\n      <td>-0.611357</td>\n      <td>-0.536480</td>\n      <td>-0.454308</td>\n      <td>-0.431514</td>\n      <td>1.827499</td>\n    </tr>\n  </tbody>\n</table>\n</div>"
     },
     "metadata": {},
     "execution_count": 41
    }
   ],
   "source": [
    "train_df, test_df, mean, std = get_train_test(7, normalize=NORMALIZE, drop_columns=REMOVE)\n",
    "test_df\n",
    ""
   ]
  },
  {
   "cell_type": "code",
   "execution_count": 42,
   "metadata": {},
   "outputs": [],
   "source": [
    "x_train, y_train = train_df.drop(columns=[\"paredao\", \"nome\", \"rejeicao\"], axis=1).to_numpy(), train_df.drop(columns=train_df.columns[:-1], axis=1).to_numpy()\n",
    "x_test, y_test = test_df.drop(columns=[\"paredao\", \"nome\", \"rejeicao\"], axis=1).to_numpy(), test_df.drop(columns=train_df.columns[:-1], axis=1).to_numpy()"
   ]
  },
  {
   "cell_type": "code",
   "execution_count": 43,
   "metadata": {},
   "outputs": [],
   "source": [
    "regressor = KNeighborsRegressor(n_neighbors=K, metric=METRIC, p=P)"
   ]
  },
  {
   "cell_type": "code",
   "execution_count": 44,
   "metadata": {},
   "outputs": [],
   "source": [
    "_ = regressor.fit(x_train, y_train)\n",
    "prediction = regressor.predict(x_test)\n",
    "test_df[\"predicao\"] = prediction * std + mean\n",
    "test_df[\"rejeicao\"] =  test_df[\"rejeicao\"] * std + mean\n",
    "summary_df = summary_df.append(test_df, ignore_index=True, sort=False)"
   ]
  },
  {
   "cell_type": "code",
   "execution_count": 45,
   "metadata": {},
   "outputs": [
    {
     "output_type": "execute_result",
     "data": {
      "text/plain": "  paredao          nome  positivos_individual_pct  neutros_individual_pct  \\\n8       7   victor_hugo                 -0.488858                0.526501   \n7       7  manu_gavassi                  1.493400                0.331150   \n6       7          babu                  1.189059               -0.705682   \n\n   negativos_individual_pct  positivos_global_pct  neutros_global_pct  \\\n8                  0.079240             -1.324459           -0.474947   \n7                 -1.319165              0.180796           -0.045720   \n6                 -0.512018              0.929509            0.316380   \n\n   negativos_global_pct      day1  seguidores      fica      fora  rejeicao  \\\n8             -0.261592 -0.611357   -0.536480 -0.454308 -0.431514    0.8522   \n7             -0.495466 -0.666234    3.670304 -0.112092 -0.549739    0.1018   \n6              0.588815 -0.297879   -0.233167 -0.156964 -0.562087    0.0460   \n\n   predicao  \n8  0.211200  \n7  0.085867  \n6  0.018800  ",
      "text/html": "<div>\n<style scoped>\n    .dataframe tbody tr th:only-of-type {\n        vertical-align: middle;\n    }\n\n    .dataframe tbody tr th {\n        vertical-align: top;\n    }\n\n    .dataframe thead th {\n        text-align: right;\n    }\n</style>\n<table border=\"1\" class=\"dataframe\">\n  <thead>\n    <tr style=\"text-align: right;\">\n      <th></th>\n      <th>paredao</th>\n      <th>nome</th>\n      <th>positivos_individual_pct</th>\n      <th>neutros_individual_pct</th>\n      <th>negativos_individual_pct</th>\n      <th>positivos_global_pct</th>\n      <th>neutros_global_pct</th>\n      <th>negativos_global_pct</th>\n      <th>day1</th>\n      <th>seguidores</th>\n      <th>fica</th>\n      <th>fora</th>\n      <th>rejeicao</th>\n      <th>predicao</th>\n    </tr>\n  </thead>\n  <tbody>\n    <tr>\n      <th>8</th>\n      <td>7</td>\n      <td>victor_hugo</td>\n      <td>-0.488858</td>\n      <td>0.526501</td>\n      <td>0.079240</td>\n      <td>-1.324459</td>\n      <td>-0.474947</td>\n      <td>-0.261592</td>\n      <td>-0.611357</td>\n      <td>-0.536480</td>\n      <td>-0.454308</td>\n      <td>-0.431514</td>\n      <td>0.8522</td>\n      <td>0.211200</td>\n    </tr>\n    <tr>\n      <th>7</th>\n      <td>7</td>\n      <td>manu_gavassi</td>\n      <td>1.493400</td>\n      <td>0.331150</td>\n      <td>-1.319165</td>\n      <td>0.180796</td>\n      <td>-0.045720</td>\n      <td>-0.495466</td>\n      <td>-0.666234</td>\n      <td>3.670304</td>\n      <td>-0.112092</td>\n      <td>-0.549739</td>\n      <td>0.1018</td>\n      <td>0.085867</td>\n    </tr>\n    <tr>\n      <th>6</th>\n      <td>7</td>\n      <td>babu</td>\n      <td>1.189059</td>\n      <td>-0.705682</td>\n      <td>-0.512018</td>\n      <td>0.929509</td>\n      <td>0.316380</td>\n      <td>0.588815</td>\n      <td>-0.297879</td>\n      <td>-0.233167</td>\n      <td>-0.156964</td>\n      <td>-0.562087</td>\n      <td>0.0460</td>\n      <td>0.018800</td>\n    </tr>\n  </tbody>\n</table>\n</div>"
     },
     "metadata": {},
     "execution_count": 45
    }
   ],
   "source": [
    "test_df.sort_values(by=\"predicao\", ascending=False)"
   ]
  },
  {
   "cell_type": "markdown",
   "metadata": {},
   "source": [
    "# Paredao 8"
   ]
  },
  {
   "cell_type": "code",
   "execution_count": 46,
   "metadata": {},
   "outputs": [
    {
     "output_type": "execute_result",
     "data": {
      "text/plain": "   paredao   nome  positivos_individual_pct  neutros_individual_pct  \\\n17       8   babu                  0.008010               -0.769554   \n18       8   rafa                 -0.796472               -1.404753   \n19       8  pyong                 -0.397732                0.193546   \n\n    negativos_individual_pct  positivos_global_pct  neutros_global_pct  \\\n17                  0.421272              0.196319           -0.215564   \n18                  1.385579             -1.094071           -1.054319   \n19                  0.194868              0.683598            1.065597   \n\n    negativos_global_pct      day1  seguidores      fica      fora  rejeicao  \n17             -0.142261  0.355315   -0.233167  0.455058  0.553408  0.483364  \n18             -0.410123  0.222832   -0.264257  0.114190 -0.548874 -1.205137  \n19              0.384141  1.223730    0.845381  0.090695  1.016788  0.626342  ",
      "text/html": "<div>\n<style scoped>\n    .dataframe tbody tr th:only-of-type {\n        vertical-align: middle;\n    }\n\n    .dataframe tbody tr th {\n        vertical-align: top;\n    }\n\n    .dataframe thead th {\n        text-align: right;\n    }\n</style>\n<table border=\"1\" class=\"dataframe\">\n  <thead>\n    <tr style=\"text-align: right;\">\n      <th></th>\n      <th>paredao</th>\n      <th>nome</th>\n      <th>positivos_individual_pct</th>\n      <th>neutros_individual_pct</th>\n      <th>negativos_individual_pct</th>\n      <th>positivos_global_pct</th>\n      <th>neutros_global_pct</th>\n      <th>negativos_global_pct</th>\n      <th>day1</th>\n      <th>seguidores</th>\n      <th>fica</th>\n      <th>fora</th>\n      <th>rejeicao</th>\n    </tr>\n  </thead>\n  <tbody>\n    <tr>\n      <th>17</th>\n      <td>8</td>\n      <td>babu</td>\n      <td>0.008010</td>\n      <td>-0.769554</td>\n      <td>0.421272</td>\n      <td>0.196319</td>\n      <td>-0.215564</td>\n      <td>-0.142261</td>\n      <td>0.355315</td>\n      <td>-0.233167</td>\n      <td>0.455058</td>\n      <td>0.553408</td>\n      <td>0.483364</td>\n    </tr>\n    <tr>\n      <th>18</th>\n      <td>8</td>\n      <td>rafa</td>\n      <td>-0.796472</td>\n      <td>-1.404753</td>\n      <td>1.385579</td>\n      <td>-1.094071</td>\n      <td>-1.054319</td>\n      <td>-0.410123</td>\n      <td>0.222832</td>\n      <td>-0.264257</td>\n      <td>0.114190</td>\n      <td>-0.548874</td>\n      <td>-1.205137</td>\n    </tr>\n    <tr>\n      <th>19</th>\n      <td>8</td>\n      <td>pyong</td>\n      <td>-0.397732</td>\n      <td>0.193546</td>\n      <td>0.194868</td>\n      <td>0.683598</td>\n      <td>1.065597</td>\n      <td>0.384141</td>\n      <td>1.223730</td>\n      <td>0.845381</td>\n      <td>0.090695</td>\n      <td>1.016788</td>\n      <td>0.626342</td>\n    </tr>\n  </tbody>\n</table>\n</div>"
     },
     "metadata": {},
     "execution_count": 46
    }
   ],
   "source": [
    "train_df, test_df, mean, std = get_train_test(8, normalize=NORMALIZE, drop_columns=REMOVE)\n",
    "test_df\n",
    ""
   ]
  },
  {
   "cell_type": "code",
   "execution_count": 47,
   "metadata": {},
   "outputs": [],
   "source": [
    "x_train, y_train = train_df.drop(columns=[\"paredao\", \"nome\", \"rejeicao\"], axis=1).to_numpy(), train_df.drop(columns=train_df.columns[:-1], axis=1).to_numpy()\n",
    "x_test, y_test = test_df.drop(columns=[\"paredao\", \"nome\", \"rejeicao\"], axis=1).to_numpy(), test_df.drop(columns=train_df.columns[:-1], axis=1).to_numpy()"
   ]
  },
  {
   "cell_type": "code",
   "execution_count": 48,
   "metadata": {},
   "outputs": [],
   "source": [
    "regressor = KNeighborsRegressor(n_neighbors=K, metric=METRIC, p=P)"
   ]
  },
  {
   "cell_type": "code",
   "execution_count": 49,
   "metadata": {},
   "outputs": [],
   "source": [
    "_ = regressor.fit(x_train, y_train)\n",
    "prediction = regressor.predict(x_test)\n",
    "test_df[\"predicao\"] = prediction * std + mean\n",
    "test_df[\"rejeicao\"] =  test_df[\"rejeicao\"] * std + mean\n",
    "summary_df = summary_df.append(test_df, ignore_index=True, sort=False)"
   ]
  },
  {
   "cell_type": "code",
   "execution_count": 50,
   "metadata": {},
   "outputs": [
    {
     "output_type": "execute_result",
     "data": {
      "text/plain": "   paredao   nome  positivos_individual_pct  neutros_individual_pct  \\\n19       8  pyong                 -0.397732                0.193546   \n17       8   babu                  0.008010               -0.769554   \n18       8   rafa                 -0.796472               -1.404753   \n\n    negativos_individual_pct  positivos_global_pct  neutros_global_pct  \\\n19                  0.194868              0.683598            1.065597   \n17                  0.421272              0.196319           -0.215564   \n18                  1.385579             -1.094071           -1.054319   \n\n    negativos_global_pct      day1  seguidores      fica      fora  rejeicao  \\\n19              0.384141  1.223730    0.845381  0.090695  1.016788    0.5170   \n17             -0.142261  0.355315   -0.233167  0.455058  0.553408    0.4771   \n18             -0.410123  0.222832   -0.264257  0.114190 -0.548874    0.0059   \n\n    predicao  \n19    0.6237  \n17    0.4405  \n18    0.2323  ",
      "text/html": "<div>\n<style scoped>\n    .dataframe tbody tr th:only-of-type {\n        vertical-align: middle;\n    }\n\n    .dataframe tbody tr th {\n        vertical-align: top;\n    }\n\n    .dataframe thead th {\n        text-align: right;\n    }\n</style>\n<table border=\"1\" class=\"dataframe\">\n  <thead>\n    <tr style=\"text-align: right;\">\n      <th></th>\n      <th>paredao</th>\n      <th>nome</th>\n      <th>positivos_individual_pct</th>\n      <th>neutros_individual_pct</th>\n      <th>negativos_individual_pct</th>\n      <th>positivos_global_pct</th>\n      <th>neutros_global_pct</th>\n      <th>negativos_global_pct</th>\n      <th>day1</th>\n      <th>seguidores</th>\n      <th>fica</th>\n      <th>fora</th>\n      <th>rejeicao</th>\n      <th>predicao</th>\n    </tr>\n  </thead>\n  <tbody>\n    <tr>\n      <th>19</th>\n      <td>8</td>\n      <td>pyong</td>\n      <td>-0.397732</td>\n      <td>0.193546</td>\n      <td>0.194868</td>\n      <td>0.683598</td>\n      <td>1.065597</td>\n      <td>0.384141</td>\n      <td>1.223730</td>\n      <td>0.845381</td>\n      <td>0.090695</td>\n      <td>1.016788</td>\n      <td>0.5170</td>\n      <td>0.6237</td>\n    </tr>\n    <tr>\n      <th>17</th>\n      <td>8</td>\n      <td>babu</td>\n      <td>0.008010</td>\n      <td>-0.769554</td>\n      <td>0.421272</td>\n      <td>0.196319</td>\n      <td>-0.215564</td>\n      <td>-0.142261</td>\n      <td>0.355315</td>\n      <td>-0.233167</td>\n      <td>0.455058</td>\n      <td>0.553408</td>\n      <td>0.4771</td>\n      <td>0.4405</td>\n    </tr>\n    <tr>\n      <th>18</th>\n      <td>8</td>\n      <td>rafa</td>\n      <td>-0.796472</td>\n      <td>-1.404753</td>\n      <td>1.385579</td>\n      <td>-1.094071</td>\n      <td>-1.054319</td>\n      <td>-0.410123</td>\n      <td>0.222832</td>\n      <td>-0.264257</td>\n      <td>0.114190</td>\n      <td>-0.548874</td>\n      <td>0.0059</td>\n      <td>0.2323</td>\n    </tr>\n  </tbody>\n</table>\n</div>"
     },
     "metadata": {},
     "execution_count": 50
    }
   ],
   "source": [
    "test_df.sort_values(by=\"predicao\", ascending=False)"
   ]
  },
  {
   "cell_type": "markdown",
   "metadata": {},
   "source": [
    "# Paredão 9"
   ]
  },
  {
   "cell_type": "code",
   "execution_count": 51,
   "metadata": {},
   "outputs": [
    {
     "output_type": "execute_result",
     "data": {
      "text/plain": "   paredao       nome  positivos_individual_pct  neutros_individual_pct  \\\n14       9     daniel                 -0.410399                0.358339   \n15       9  flayslene                  0.402656               -0.683494   \n16       9        ivy                 -0.139420                0.175070   \n\n    negativos_individual_pct  positivos_global_pct  neutros_global_pct  \\\n14                  0.112982              0.105547            0.583807   \n15                  0.073474              0.274853           -0.332785   \n16                  0.008762             -0.594555           -0.455308   \n\n    negativos_global_pct      day1  seguidores      fica      fora  rejeicao  \n14              0.354462  1.300881   -0.517481 -0.439287  0.557158  1.669829  \n15             -0.069990 -0.624800   -0.448944 -0.070687 -0.514601 -0.884422  \n16             -0.452714  0.727632   -0.492852 -0.449494 -0.398222 -0.880839  ",
      "text/html": "<div>\n<style scoped>\n    .dataframe tbody tr th:only-of-type {\n        vertical-align: middle;\n    }\n\n    .dataframe tbody tr th {\n        vertical-align: top;\n    }\n\n    .dataframe thead th {\n        text-align: right;\n    }\n</style>\n<table border=\"1\" class=\"dataframe\">\n  <thead>\n    <tr style=\"text-align: right;\">\n      <th></th>\n      <th>paredao</th>\n      <th>nome</th>\n      <th>positivos_individual_pct</th>\n      <th>neutros_individual_pct</th>\n      <th>negativos_individual_pct</th>\n      <th>positivos_global_pct</th>\n      <th>neutros_global_pct</th>\n      <th>negativos_global_pct</th>\n      <th>day1</th>\n      <th>seguidores</th>\n      <th>fica</th>\n      <th>fora</th>\n      <th>rejeicao</th>\n    </tr>\n  </thead>\n  <tbody>\n    <tr>\n      <th>14</th>\n      <td>9</td>\n      <td>daniel</td>\n      <td>-0.410399</td>\n      <td>0.358339</td>\n      <td>0.112982</td>\n      <td>0.105547</td>\n      <td>0.583807</td>\n      <td>0.354462</td>\n      <td>1.300881</td>\n      <td>-0.517481</td>\n      <td>-0.439287</td>\n      <td>0.557158</td>\n      <td>1.669829</td>\n    </tr>\n    <tr>\n      <th>15</th>\n      <td>9</td>\n      <td>flayslene</td>\n      <td>0.402656</td>\n      <td>-0.683494</td>\n      <td>0.073474</td>\n      <td>0.274853</td>\n      <td>-0.332785</td>\n      <td>-0.069990</td>\n      <td>-0.624800</td>\n      <td>-0.448944</td>\n      <td>-0.070687</td>\n      <td>-0.514601</td>\n      <td>-0.884422</td>\n    </tr>\n    <tr>\n      <th>16</th>\n      <td>9</td>\n      <td>ivy</td>\n      <td>-0.139420</td>\n      <td>0.175070</td>\n      <td>0.008762</td>\n      <td>-0.594555</td>\n      <td>-0.455308</td>\n      <td>-0.452714</td>\n      <td>0.727632</td>\n      <td>-0.492852</td>\n      <td>-0.449494</td>\n      <td>-0.398222</td>\n      <td>-0.880839</td>\n    </tr>\n  </tbody>\n</table>\n</div>"
     },
     "metadata": {},
     "execution_count": 51
    }
   ],
   "source": [
    "train_df, test_df, mean, std = get_train_test(9, normalize=NORMALIZE, drop_columns=REMOVE)\n",
    "test_df\n",
    ""
   ]
  },
  {
   "cell_type": "code",
   "execution_count": 52,
   "metadata": {},
   "outputs": [],
   "source": [
    "x_train, y_train = train_df.drop(columns=[\"paredao\", \"nome\", \"rejeicao\"], axis=1).to_numpy(), train_df.drop(columns=train_df.columns[:-1], axis=1).to_numpy()\n",
    "x_test, y_test = test_df.drop(columns=[\"paredao\", \"nome\", \"rejeicao\"], axis=1).to_numpy(), test_df.drop(columns=train_df.columns[:-1], axis=1).to_numpy()"
   ]
  },
  {
   "cell_type": "code",
   "execution_count": 53,
   "metadata": {},
   "outputs": [],
   "source": [
    "regressor = KNeighborsRegressor(n_neighbors=K, metric=METRIC, p=P)"
   ]
  },
  {
   "cell_type": "code",
   "execution_count": 54,
   "metadata": {},
   "outputs": [],
   "source": [
    "_ = regressor.fit(x_train, y_train)\n",
    "prediction = regressor.predict(x_test)\n",
    "test_df[\"predicao\"] = prediction * std + mean\n",
    "test_df[\"rejeicao\"] =  test_df[\"rejeicao\"] * std + mean\n",
    "summary_df = summary_df.append(test_df, ignore_index=True, sort=False)"
   ]
  },
  {
   "cell_type": "code",
   "execution_count": 55,
   "metadata": {},
   "outputs": [
    {
     "output_type": "execute_result",
     "data": {
      "text/plain": "   paredao       nome  positivos_individual_pct  neutros_individual_pct  \\\n14       9     daniel                 -0.410399                0.358339   \n16       9        ivy                 -0.139420                0.175070   \n15       9  flayslene                  0.402656               -0.683494   \n\n    negativos_individual_pct  positivos_global_pct  neutros_global_pct  \\\n14                  0.112982              0.105547            0.583807   \n16                  0.008762             -0.594555           -0.455308   \n15                  0.073474              0.274853           -0.332785   \n\n    negativos_global_pct      day1  seguidores      fica      fora  rejeicao  \\\n14              0.354462  1.300881   -0.517481 -0.439287  0.557158    0.8082   \n16             -0.452714  0.727632   -0.492852 -0.449494 -0.398222    0.0964   \n15             -0.069990 -0.624800   -0.448944 -0.070687 -0.514601    0.0954   \n\n    predicao  \n14  0.649900  \n16  0.487100  \n15  0.009433  ",
      "text/html": "<div>\n<style scoped>\n    .dataframe tbody tr th:only-of-type {\n        vertical-align: middle;\n    }\n\n    .dataframe tbody tr th {\n        vertical-align: top;\n    }\n\n    .dataframe thead th {\n        text-align: right;\n    }\n</style>\n<table border=\"1\" class=\"dataframe\">\n  <thead>\n    <tr style=\"text-align: right;\">\n      <th></th>\n      <th>paredao</th>\n      <th>nome</th>\n      <th>positivos_individual_pct</th>\n      <th>neutros_individual_pct</th>\n      <th>negativos_individual_pct</th>\n      <th>positivos_global_pct</th>\n      <th>neutros_global_pct</th>\n      <th>negativos_global_pct</th>\n      <th>day1</th>\n      <th>seguidores</th>\n      <th>fica</th>\n      <th>fora</th>\n      <th>rejeicao</th>\n      <th>predicao</th>\n    </tr>\n  </thead>\n  <tbody>\n    <tr>\n      <th>14</th>\n      <td>9</td>\n      <td>daniel</td>\n      <td>-0.410399</td>\n      <td>0.358339</td>\n      <td>0.112982</td>\n      <td>0.105547</td>\n      <td>0.583807</td>\n      <td>0.354462</td>\n      <td>1.300881</td>\n      <td>-0.517481</td>\n      <td>-0.439287</td>\n      <td>0.557158</td>\n      <td>0.8082</td>\n      <td>0.649900</td>\n    </tr>\n    <tr>\n      <th>16</th>\n      <td>9</td>\n      <td>ivy</td>\n      <td>-0.139420</td>\n      <td>0.175070</td>\n      <td>0.008762</td>\n      <td>-0.594555</td>\n      <td>-0.455308</td>\n      <td>-0.452714</td>\n      <td>0.727632</td>\n      <td>-0.492852</td>\n      <td>-0.449494</td>\n      <td>-0.398222</td>\n      <td>0.0964</td>\n      <td>0.487100</td>\n    </tr>\n    <tr>\n      <th>15</th>\n      <td>9</td>\n      <td>flayslene</td>\n      <td>0.402656</td>\n      <td>-0.683494</td>\n      <td>0.073474</td>\n      <td>0.274853</td>\n      <td>-0.332785</td>\n      <td>-0.069990</td>\n      <td>-0.624800</td>\n      <td>-0.448944</td>\n      <td>-0.070687</td>\n      <td>-0.514601</td>\n      <td>0.0954</td>\n      <td>0.009433</td>\n    </tr>\n  </tbody>\n</table>\n</div>"
     },
     "metadata": {},
     "execution_count": 55
    }
   ],
   "source": [
    "test_df.sort_values(by=\"predicao\", ascending=False)"
   ]
  },
  {
   "cell_type": "markdown",
   "metadata": {},
   "source": [
    "# Paredão 10"
   ]
  },
  {
   "cell_type": "code",
   "execution_count": 56,
   "metadata": {},
   "outputs": [
    {
     "output_type": "execute_result",
     "data": {
      "text/plain": "   paredao          nome  positivos_individual_pct  neutros_individual_pct  \\\n11      10  manu_gavassi                 -0.066375                2.312396   \n12      10          mari                  0.655693                0.285178   \n13      10  felipe_prior                 -1.146005                1.003371   \n\n    negativos_individual_pct  positivos_global_pct  neutros_global_pct  \\\n11                 -1.233700              1.771446            1.621925   \n12                 -0.656820             -1.546468           -1.908672   \n13                  0.313972             -0.439132            0.082460   \n\n    negativos_global_pct      day1  seguidores      fica      fora  rejeicao  \n11              0.554589  1.254188    4.117327  5.327546  1.747315  0.297027  \n12             -1.471613 -0.255666   -0.287414  0.111109 -0.383566 -1.199045  \n13              0.748781  2.231900    0.076573  1.950834  4.930395  0.806587  ",
      "text/html": "<div>\n<style scoped>\n    .dataframe tbody tr th:only-of-type {\n        vertical-align: middle;\n    }\n\n    .dataframe tbody tr th {\n        vertical-align: top;\n    }\n\n    .dataframe thead th {\n        text-align: right;\n    }\n</style>\n<table border=\"1\" class=\"dataframe\">\n  <thead>\n    <tr style=\"text-align: right;\">\n      <th></th>\n      <th>paredao</th>\n      <th>nome</th>\n      <th>positivos_individual_pct</th>\n      <th>neutros_individual_pct</th>\n      <th>negativos_individual_pct</th>\n      <th>positivos_global_pct</th>\n      <th>neutros_global_pct</th>\n      <th>negativos_global_pct</th>\n      <th>day1</th>\n      <th>seguidores</th>\n      <th>fica</th>\n      <th>fora</th>\n      <th>rejeicao</th>\n    </tr>\n  </thead>\n  <tbody>\n    <tr>\n      <th>11</th>\n      <td>10</td>\n      <td>manu_gavassi</td>\n      <td>-0.066375</td>\n      <td>2.312396</td>\n      <td>-1.233700</td>\n      <td>1.771446</td>\n      <td>1.621925</td>\n      <td>0.554589</td>\n      <td>1.254188</td>\n      <td>4.117327</td>\n      <td>5.327546</td>\n      <td>1.747315</td>\n      <td>0.297027</td>\n    </tr>\n    <tr>\n      <th>12</th>\n      <td>10</td>\n      <td>mari</td>\n      <td>0.655693</td>\n      <td>0.285178</td>\n      <td>-0.656820</td>\n      <td>-1.546468</td>\n      <td>-1.908672</td>\n      <td>-1.471613</td>\n      <td>-0.255666</td>\n      <td>-0.287414</td>\n      <td>0.111109</td>\n      <td>-0.383566</td>\n      <td>-1.199045</td>\n    </tr>\n    <tr>\n      <th>13</th>\n      <td>10</td>\n      <td>felipe_prior</td>\n      <td>-1.146005</td>\n      <td>1.003371</td>\n      <td>0.313972</td>\n      <td>-0.439132</td>\n      <td>0.082460</td>\n      <td>0.748781</td>\n      <td>2.231900</td>\n      <td>0.076573</td>\n      <td>1.950834</td>\n      <td>4.930395</td>\n      <td>0.806587</td>\n    </tr>\n  </tbody>\n</table>\n</div>"
     },
     "metadata": {},
     "execution_count": 56
    }
   ],
   "source": [
    "train_df, test_df, mean, std = get_train_test(10, normalize=NORMALIZE, drop_columns=REMOVE)\n",
    "test_df\n",
    ""
   ]
  },
  {
   "cell_type": "code",
   "execution_count": 57,
   "metadata": {},
   "outputs": [],
   "source": [
    "x_train, y_train = train_df.drop(columns=[\"paredao\", \"nome\", \"rejeicao\"], axis=1).to_numpy(), train_df.drop(columns=train_df.columns[:-1], axis=1).to_numpy()\n",
    "x_test, y_test = test_df.drop(columns=[\"paredao\", \"nome\", \"rejeicao\"], axis=1).to_numpy(), test_df.drop(columns=train_df.columns[:-1], axis=1).to_numpy()"
   ]
  },
  {
   "cell_type": "code",
   "execution_count": 58,
   "metadata": {},
   "outputs": [],
   "source": [
    "regressor = KNeighborsRegressor(n_neighbors=K, metric=METRIC, p=P)"
   ]
  },
  {
   "cell_type": "code",
   "execution_count": 59,
   "metadata": {},
   "outputs": [],
   "source": [
    "_ = regressor.fit(x_train, y_train)\n",
    "prediction = regressor.predict(x_test)\n",
    "test_df[\"predicao\"] = prediction * std + mean\n",
    "test_df[\"rejeicao\"] =  test_df[\"rejeicao\"] * std + mean\n",
    "summary_df = summary_df.append(test_df, ignore_index=True, sort=False)"
   ]
  },
  {
   "cell_type": "code",
   "execution_count": 60,
   "metadata": {},
   "outputs": [
    {
     "output_type": "execute_result",
     "data": {
      "text/plain": "   paredao          nome  positivos_individual_pct  neutros_individual_pct  \\\n13      10  felipe_prior                 -1.146005                1.003371   \n11      10  manu_gavassi                 -0.066375                2.312396   \n12      10          mari                  0.655693                0.285178   \n\n    negativos_individual_pct  positivos_global_pct  neutros_global_pct  \\\n13                  0.313972             -0.439132            0.082460   \n11                 -1.233700              1.771446            1.621925   \n12                 -0.656820             -1.546468           -1.908672   \n\n    negativos_global_pct      day1  seguidores      fica      fora  rejeicao  \\\n13              0.748781  2.231900    0.076573  1.950834  4.930395    0.5673   \n11              0.554589  1.254188    4.117327  5.327546  1.747315    0.4251   \n12             -1.471613 -0.255666   -0.287414  0.111109 -0.383566    0.0076   \n\n    predicao  \n13  0.709300  \n11  0.471967  \n12  0.243500  ",
      "text/html": "<div>\n<style scoped>\n    .dataframe tbody tr th:only-of-type {\n        vertical-align: middle;\n    }\n\n    .dataframe tbody tr th {\n        vertical-align: top;\n    }\n\n    .dataframe thead th {\n        text-align: right;\n    }\n</style>\n<table border=\"1\" class=\"dataframe\">\n  <thead>\n    <tr style=\"text-align: right;\">\n      <th></th>\n      <th>paredao</th>\n      <th>nome</th>\n      <th>positivos_individual_pct</th>\n      <th>neutros_individual_pct</th>\n      <th>negativos_individual_pct</th>\n      <th>positivos_global_pct</th>\n      <th>neutros_global_pct</th>\n      <th>negativos_global_pct</th>\n      <th>day1</th>\n      <th>seguidores</th>\n      <th>fica</th>\n      <th>fora</th>\n      <th>rejeicao</th>\n      <th>predicao</th>\n    </tr>\n  </thead>\n  <tbody>\n    <tr>\n      <th>13</th>\n      <td>10</td>\n      <td>felipe_prior</td>\n      <td>-1.146005</td>\n      <td>1.003371</td>\n      <td>0.313972</td>\n      <td>-0.439132</td>\n      <td>0.082460</td>\n      <td>0.748781</td>\n      <td>2.231900</td>\n      <td>0.076573</td>\n      <td>1.950834</td>\n      <td>4.930395</td>\n      <td>0.5673</td>\n      <td>0.709300</td>\n    </tr>\n    <tr>\n      <th>11</th>\n      <td>10</td>\n      <td>manu_gavassi</td>\n      <td>-0.066375</td>\n      <td>2.312396</td>\n      <td>-1.233700</td>\n      <td>1.771446</td>\n      <td>1.621925</td>\n      <td>0.554589</td>\n      <td>1.254188</td>\n      <td>4.117327</td>\n      <td>5.327546</td>\n      <td>1.747315</td>\n      <td>0.4251</td>\n      <td>0.471967</td>\n    </tr>\n    <tr>\n      <th>12</th>\n      <td>10</td>\n      <td>mari</td>\n      <td>0.655693</td>\n      <td>0.285178</td>\n      <td>-0.656820</td>\n      <td>-1.546468</td>\n      <td>-1.908672</td>\n      <td>-1.471613</td>\n      <td>-0.255666</td>\n      <td>-0.287414</td>\n      <td>0.111109</td>\n      <td>-0.383566</td>\n      <td>0.0076</td>\n      <td>0.243500</td>\n    </tr>\n  </tbody>\n</table>\n</div>"
     },
     "metadata": {},
     "execution_count": 60
    }
   ],
   "source": [
    "test_df.sort_values(by=\"predicao\", ascending=False)"
   ]
  },
  {
   "cell_type": "markdown",
   "metadata": {},
   "source": [
    "# Paredao 11"
   ]
  },
  {
   "cell_type": "code",
   "execution_count": 61,
   "metadata": {},
   "outputs": [
    {
     "output_type": "execute_result",
     "data": {
      "text/plain": "   paredao    nome  positivos_individual_pct  neutros_individual_pct  \\\n32      11    babu                  1.043080               -0.531598   \n33      11    gabi                  0.914620               -0.574934   \n34      11  thelma                  0.282871                0.438887   \n\n    negativos_individual_pct  positivos_global_pct  neutros_global_pct  \\\n32                 -0.497722              0.227614           -0.120134   \n33                 -0.376002             -0.324247           -0.539702   \n34                 -0.458765             -0.117522            0.455549   \n\n    negativos_global_pct      day1  seguidores      fica      fora  rejeicao  \n32             -0.009295  0.691199    0.072589  0.372634 -0.496772 -1.079001  \n33             -0.305393  0.504684   -0.318583 -0.318924  0.333921  0.909789  \n34              0.146445  0.231989   -0.174958  0.883166 -0.277400  0.073780  ",
      "text/html": "<div>\n<style scoped>\n    .dataframe tbody tr th:only-of-type {\n        vertical-align: middle;\n    }\n\n    .dataframe tbody tr th {\n        vertical-align: top;\n    }\n\n    .dataframe thead th {\n        text-align: right;\n    }\n</style>\n<table border=\"1\" class=\"dataframe\">\n  <thead>\n    <tr style=\"text-align: right;\">\n      <th></th>\n      <th>paredao</th>\n      <th>nome</th>\n      <th>positivos_individual_pct</th>\n      <th>neutros_individual_pct</th>\n      <th>negativos_individual_pct</th>\n      <th>positivos_global_pct</th>\n      <th>neutros_global_pct</th>\n      <th>negativos_global_pct</th>\n      <th>day1</th>\n      <th>seguidores</th>\n      <th>fica</th>\n      <th>fora</th>\n      <th>rejeicao</th>\n    </tr>\n  </thead>\n  <tbody>\n    <tr>\n      <th>32</th>\n      <td>11</td>\n      <td>babu</td>\n      <td>1.043080</td>\n      <td>-0.531598</td>\n      <td>-0.497722</td>\n      <td>0.227614</td>\n      <td>-0.120134</td>\n      <td>-0.009295</td>\n      <td>0.691199</td>\n      <td>0.072589</td>\n      <td>0.372634</td>\n      <td>-0.496772</td>\n      <td>-1.079001</td>\n    </tr>\n    <tr>\n      <th>33</th>\n      <td>11</td>\n      <td>gabi</td>\n      <td>0.914620</td>\n      <td>-0.574934</td>\n      <td>-0.376002</td>\n      <td>-0.324247</td>\n      <td>-0.539702</td>\n      <td>-0.305393</td>\n      <td>0.504684</td>\n      <td>-0.318583</td>\n      <td>-0.318924</td>\n      <td>0.333921</td>\n      <td>0.909789</td>\n    </tr>\n    <tr>\n      <th>34</th>\n      <td>11</td>\n      <td>thelma</td>\n      <td>0.282871</td>\n      <td>0.438887</td>\n      <td>-0.458765</td>\n      <td>-0.117522</td>\n      <td>0.455549</td>\n      <td>0.146445</td>\n      <td>0.231989</td>\n      <td>-0.174958</td>\n      <td>0.883166</td>\n      <td>-0.277400</td>\n      <td>0.073780</td>\n    </tr>\n  </tbody>\n</table>\n</div>"
     },
     "metadata": {},
     "execution_count": 61
    }
   ],
   "source": [
    "train_df, test_df, mean, std = get_train_test(11, normalize=NORMALIZE, drop_columns=REMOVE)\n",
    "test_df\n",
    ""
   ]
  },
  {
   "cell_type": "code",
   "execution_count": 62,
   "metadata": {},
   "outputs": [],
   "source": [
    "x_train, y_train = train_df.drop(columns=[\"paredao\", \"nome\", \"rejeicao\"], axis=1).to_numpy(), train_df.drop(columns=train_df.columns[:-1], axis=1).to_numpy()\n",
    "x_test, y_test = test_df.drop(columns=[\"paredao\", \"nome\", \"rejeicao\"], axis=1).to_numpy(), test_df.drop(columns=train_df.columns[:-1], axis=1).to_numpy()"
   ]
  },
  {
   "cell_type": "code",
   "execution_count": 63,
   "metadata": {},
   "outputs": [],
   "source": [
    "regressor = KNeighborsRegressor(n_neighbors=K, metric=METRIC, p=P)"
   ]
  },
  {
   "cell_type": "code",
   "execution_count": 64,
   "metadata": {},
   "outputs": [],
   "source": [
    "_ = regressor.fit(x_train, y_train)\n",
    "prediction = regressor.predict(x_test)\n",
    "test_df[\"predicao\"] = prediction * std + mean\n",
    "test_df[\"rejeicao\"] =  test_df[\"rejeicao\"] * std + mean\n",
    "summary_df = summary_df.append(test_df, ignore_index=True, sort=False)"
   ]
  },
  {
   "cell_type": "code",
   "execution_count": 65,
   "metadata": {},
   "outputs": [
    {
     "output_type": "execute_result",
     "data": {
      "text/plain": "   paredao    nome  positivos_individual_pct  neutros_individual_pct  \\\n34      11  thelma                  0.282871                0.438887   \n33      11    gabi                  0.914620               -0.574934   \n32      11    babu                  1.043080               -0.531598   \n\n    negativos_individual_pct  positivos_global_pct  neutros_global_pct  \\\n34                 -0.458765             -0.117522            0.455549   \n33                 -0.376002             -0.324247           -0.539702   \n32                 -0.497722              0.227614           -0.120134   \n\n    negativos_global_pct      day1  seguidores      fica      fora  rejeicao  \\\n34              0.146445  0.231989   -0.174958  0.883166 -0.277400    0.3628   \n33             -0.305393  0.504684   -0.318583 -0.318924  0.333921    0.5961   \n32             -0.009295  0.691199    0.072589  0.372634 -0.496772    0.0411   \n\n    predicao  \n34  0.372567  \n33  0.222967  \n32  0.050667  ",
      "text/html": "<div>\n<style scoped>\n    .dataframe tbody tr th:only-of-type {\n        vertical-align: middle;\n    }\n\n    .dataframe tbody tr th {\n        vertical-align: top;\n    }\n\n    .dataframe thead th {\n        text-align: right;\n    }\n</style>\n<table border=\"1\" class=\"dataframe\">\n  <thead>\n    <tr style=\"text-align: right;\">\n      <th></th>\n      <th>paredao</th>\n      <th>nome</th>\n      <th>positivos_individual_pct</th>\n      <th>neutros_individual_pct</th>\n      <th>negativos_individual_pct</th>\n      <th>positivos_global_pct</th>\n      <th>neutros_global_pct</th>\n      <th>negativos_global_pct</th>\n      <th>day1</th>\n      <th>seguidores</th>\n      <th>fica</th>\n      <th>fora</th>\n      <th>rejeicao</th>\n      <th>predicao</th>\n    </tr>\n  </thead>\n  <tbody>\n    <tr>\n      <th>34</th>\n      <td>11</td>\n      <td>thelma</td>\n      <td>0.282871</td>\n      <td>0.438887</td>\n      <td>-0.458765</td>\n      <td>-0.117522</td>\n      <td>0.455549</td>\n      <td>0.146445</td>\n      <td>0.231989</td>\n      <td>-0.174958</td>\n      <td>0.883166</td>\n      <td>-0.277400</td>\n      <td>0.3628</td>\n      <td>0.372567</td>\n    </tr>\n    <tr>\n      <th>33</th>\n      <td>11</td>\n      <td>gabi</td>\n      <td>0.914620</td>\n      <td>-0.574934</td>\n      <td>-0.376002</td>\n      <td>-0.324247</td>\n      <td>-0.539702</td>\n      <td>-0.305393</td>\n      <td>0.504684</td>\n      <td>-0.318583</td>\n      <td>-0.318924</td>\n      <td>0.333921</td>\n      <td>0.5961</td>\n      <td>0.222967</td>\n    </tr>\n    <tr>\n      <th>32</th>\n      <td>11</td>\n      <td>babu</td>\n      <td>1.043080</td>\n      <td>-0.531598</td>\n      <td>-0.497722</td>\n      <td>0.227614</td>\n      <td>-0.120134</td>\n      <td>-0.009295</td>\n      <td>0.691199</td>\n      <td>0.072589</td>\n      <td>0.372634</td>\n      <td>-0.496772</td>\n      <td>0.0411</td>\n      <td>0.050667</td>\n    </tr>\n  </tbody>\n</table>\n</div>"
     },
     "metadata": {},
     "execution_count": 65
    }
   ],
   "source": [
    "test_df.sort_values(by=\"predicao\", ascending=False)"
   ]
  },
  {
   "cell_type": "markdown",
   "metadata": {},
   "source": [
    "# Paredão 12"
   ]
  },
  {
   "cell_type": "code",
   "execution_count": 66,
   "metadata": {},
   "outputs": [
    {
     "output_type": "execute_result",
     "data": {
      "text/plain": "   paredao       nome  positivos_individual_pct  neutros_individual_pct  \\\n20      12       babu                  0.516332               -0.737206   \n21      12  flayslene                 -0.371442               -1.490722   \n22      12    marcela                 -1.099539               -0.914741   \n\n    negativos_individual_pct  positivos_global_pct  neutros_global_pct  \\\n20                  0.016887              1.163690            0.608985   \n21                  1.110218             -0.092294           -0.159993   \n22                  1.343846             -1.285551           -0.653279   \n\n    negativos_global_pct      day1  seguidores      fica      fora  rejeicao  \n20              0.035452 -0.143120    0.072589  0.097436 -0.507792 -1.188295  \n21              0.193357  1.177880   -0.360808 -0.082820  0.254008  0.536040  \n22             -0.397052  0.740491   -0.314963 -0.376698  0.922335  0.556823  ",
      "text/html": "<div>\n<style scoped>\n    .dataframe tbody tr th:only-of-type {\n        vertical-align: middle;\n    }\n\n    .dataframe tbody tr th {\n        vertical-align: top;\n    }\n\n    .dataframe thead th {\n        text-align: right;\n    }\n</style>\n<table border=\"1\" class=\"dataframe\">\n  <thead>\n    <tr style=\"text-align: right;\">\n      <th></th>\n      <th>paredao</th>\n      <th>nome</th>\n      <th>positivos_individual_pct</th>\n      <th>neutros_individual_pct</th>\n      <th>negativos_individual_pct</th>\n      <th>positivos_global_pct</th>\n      <th>neutros_global_pct</th>\n      <th>negativos_global_pct</th>\n      <th>day1</th>\n      <th>seguidores</th>\n      <th>fica</th>\n      <th>fora</th>\n      <th>rejeicao</th>\n    </tr>\n  </thead>\n  <tbody>\n    <tr>\n      <th>20</th>\n      <td>12</td>\n      <td>babu</td>\n      <td>0.516332</td>\n      <td>-0.737206</td>\n      <td>0.016887</td>\n      <td>1.163690</td>\n      <td>0.608985</td>\n      <td>0.035452</td>\n      <td>-0.143120</td>\n      <td>0.072589</td>\n      <td>0.097436</td>\n      <td>-0.507792</td>\n      <td>-1.188295</td>\n    </tr>\n    <tr>\n      <th>21</th>\n      <td>12</td>\n      <td>flayslene</td>\n      <td>-0.371442</td>\n      <td>-1.490722</td>\n      <td>1.110218</td>\n      <td>-0.092294</td>\n      <td>-0.159993</td>\n      <td>0.193357</td>\n      <td>1.177880</td>\n      <td>-0.360808</td>\n      <td>-0.082820</td>\n      <td>0.254008</td>\n      <td>0.536040</td>\n    </tr>\n    <tr>\n      <th>22</th>\n      <td>12</td>\n      <td>marcela</td>\n      <td>-1.099539</td>\n      <td>-0.914741</td>\n      <td>1.343846</td>\n      <td>-1.285551</td>\n      <td>-0.653279</td>\n      <td>-0.397052</td>\n      <td>0.740491</td>\n      <td>-0.314963</td>\n      <td>-0.376698</td>\n      <td>0.922335</td>\n      <td>0.556823</td>\n    </tr>\n  </tbody>\n</table>\n</div>"
     },
     "metadata": {},
     "execution_count": 66
    }
   ],
   "source": [
    "train_df, test_df, mean, std = get_train_test(12, normalize=NORMALIZE, drop_columns=REMOVE)\n",
    "test_df\n"
   ]
  },
  {
   "cell_type": "code",
   "execution_count": 67,
   "metadata": {},
   "outputs": [],
   "source": [
    "x_train, y_train = train_df.drop(columns=[\"paredao\", \"nome\", \"rejeicao\"], axis=1).to_numpy(), train_df.drop(columns=train_df.columns[:-1], axis=1).to_numpy()\n",
    "x_test, y_test = test_df.drop(columns=[\"paredao\", \"nome\", \"rejeicao\"], axis=1).to_numpy(), test_df.drop(columns=train_df.columns[:-1], axis=1).to_numpy()"
   ]
  },
  {
   "cell_type": "code",
   "execution_count": 68,
   "metadata": {},
   "outputs": [],
   "source": [
    "regressor = KNeighborsRegressor(n_neighbors=K, metric=METRIC, p=P)"
   ]
  },
  {
   "cell_type": "code",
   "execution_count": 69,
   "metadata": {},
   "outputs": [],
   "source": [
    "_ = regressor.fit(x_train, y_train)\n",
    "prediction = regressor.predict(x_test)\n",
    "test_df[\"predicao\"] = prediction * std + mean\n",
    "test_df[\"rejeicao\"] =  test_df[\"rejeicao\"] * std + mean\n",
    "summary_df = summary_df.append(test_df, ignore_index=True, sort=False)"
   ]
  },
  {
   "cell_type": "code",
   "execution_count": 70,
   "metadata": {},
   "outputs": [
    {
     "output_type": "execute_result",
     "data": {
      "text/plain": "   paredao       nome  positivos_individual_pct  neutros_individual_pct  \\\n21      12  flayslene                 -0.371442               -1.490722   \n22      12    marcela                 -1.099539               -0.914741   \n20      12       babu                  0.516332               -0.737206   \n\n    negativos_individual_pct  positivos_global_pct  neutros_global_pct  \\\n21                  1.110218             -0.092294           -0.159993   \n22                  1.343846             -1.285551           -0.653279   \n20                  0.016887              1.163690            0.608985   \n\n    negativos_global_pct      day1  seguidores      fica      fora  rejeicao  \\\n21              0.193357  1.177880   -0.360808 -0.082820  0.254008    0.4918   \n22             -0.397052  0.740491   -0.314963 -0.376698  0.922335    0.4976   \n20              0.035452 -0.143120    0.072589  0.097436 -0.507792    0.0106   \n\n    predicao  \n21  0.513333  \n22  0.250967  \n20  0.048700  ",
      "text/html": "<div>\n<style scoped>\n    .dataframe tbody tr th:only-of-type {\n        vertical-align: middle;\n    }\n\n    .dataframe tbody tr th {\n        vertical-align: top;\n    }\n\n    .dataframe thead th {\n        text-align: right;\n    }\n</style>\n<table border=\"1\" class=\"dataframe\">\n  <thead>\n    <tr style=\"text-align: right;\">\n      <th></th>\n      <th>paredao</th>\n      <th>nome</th>\n      <th>positivos_individual_pct</th>\n      <th>neutros_individual_pct</th>\n      <th>negativos_individual_pct</th>\n      <th>positivos_global_pct</th>\n      <th>neutros_global_pct</th>\n      <th>negativos_global_pct</th>\n      <th>day1</th>\n      <th>seguidores</th>\n      <th>fica</th>\n      <th>fora</th>\n      <th>rejeicao</th>\n      <th>predicao</th>\n    </tr>\n  </thead>\n  <tbody>\n    <tr>\n      <th>21</th>\n      <td>12</td>\n      <td>flayslene</td>\n      <td>-0.371442</td>\n      <td>-1.490722</td>\n      <td>1.110218</td>\n      <td>-0.092294</td>\n      <td>-0.159993</td>\n      <td>0.193357</td>\n      <td>1.177880</td>\n      <td>-0.360808</td>\n      <td>-0.082820</td>\n      <td>0.254008</td>\n      <td>0.4918</td>\n      <td>0.513333</td>\n    </tr>\n    <tr>\n      <th>22</th>\n      <td>12</td>\n      <td>marcela</td>\n      <td>-1.099539</td>\n      <td>-0.914741</td>\n      <td>1.343846</td>\n      <td>-1.285551</td>\n      <td>-0.653279</td>\n      <td>-0.397052</td>\n      <td>0.740491</td>\n      <td>-0.314963</td>\n      <td>-0.376698</td>\n      <td>0.922335</td>\n      <td>0.4976</td>\n      <td>0.250967</td>\n    </tr>\n    <tr>\n      <th>20</th>\n      <td>12</td>\n      <td>babu</td>\n      <td>0.516332</td>\n      <td>-0.737206</td>\n      <td>0.016887</td>\n      <td>1.163690</td>\n      <td>0.608985</td>\n      <td>0.035452</td>\n      <td>-0.143120</td>\n      <td>0.072589</td>\n      <td>0.097436</td>\n      <td>-0.507792</td>\n      <td>0.0106</td>\n      <td>0.048700</td>\n    </tr>\n  </tbody>\n</table>\n</div>"
     },
     "metadata": {},
     "execution_count": 70
    }
   ],
   "source": [
    "test_df.sort_values(by=\"predicao\", ascending=False)"
   ]
  },
  {
   "cell_type": "markdown",
   "metadata": {},
   "source": [
    "# Paredão 13"
   ]
  },
  {
   "cell_type": "code",
   "execution_count": 71,
   "metadata": {},
   "outputs": [
    {
     "output_type": "execute_result",
     "data": {
      "text/plain": "   paredao       nome  positivos_individual_pct  neutros_individual_pct  \\\n29      13  flayslene                 -0.225464               -0.328059   \n30      13     thelma                 -0.208468                1.789410   \n31      13       babu                  0.350276               -0.781817   \n\n    negativos_individual_pct  positivos_global_pct  neutros_global_pct  \\\n29                  0.353578              0.314462            0.388387   \n30                 -0.835249             -1.249237           -0.662771   \n31                  0.167895              0.720620            0.070097   \n\n    negativos_global_pct      day1  seguidores      fica      fora  rejeicao  \n29              0.582673  0.297711   -0.360808 -0.080124  0.259951  1.031266  \n30             -1.136001 -1.229742   -0.174958 -0.164282 -0.164656  0.082739  \n31              0.385085 -0.227156    0.072589 -0.128076 -0.535084 -1.209437  ",
      "text/html": "<div>\n<style scoped>\n    .dataframe tbody tr th:only-of-type {\n        vertical-align: middle;\n    }\n\n    .dataframe tbody tr th {\n        vertical-align: top;\n    }\n\n    .dataframe thead th {\n        text-align: right;\n    }\n</style>\n<table border=\"1\" class=\"dataframe\">\n  <thead>\n    <tr style=\"text-align: right;\">\n      <th></th>\n      <th>paredao</th>\n      <th>nome</th>\n      <th>positivos_individual_pct</th>\n      <th>neutros_individual_pct</th>\n      <th>negativos_individual_pct</th>\n      <th>positivos_global_pct</th>\n      <th>neutros_global_pct</th>\n      <th>negativos_global_pct</th>\n      <th>day1</th>\n      <th>seguidores</th>\n      <th>fica</th>\n      <th>fora</th>\n      <th>rejeicao</th>\n    </tr>\n  </thead>\n  <tbody>\n    <tr>\n      <th>29</th>\n      <td>13</td>\n      <td>flayslene</td>\n      <td>-0.225464</td>\n      <td>-0.328059</td>\n      <td>0.353578</td>\n      <td>0.314462</td>\n      <td>0.388387</td>\n      <td>0.582673</td>\n      <td>0.297711</td>\n      <td>-0.360808</td>\n      <td>-0.080124</td>\n      <td>0.259951</td>\n      <td>1.031266</td>\n    </tr>\n    <tr>\n      <th>30</th>\n      <td>13</td>\n      <td>thelma</td>\n      <td>-0.208468</td>\n      <td>1.789410</td>\n      <td>-0.835249</td>\n      <td>-1.249237</td>\n      <td>-0.662771</td>\n      <td>-1.136001</td>\n      <td>-1.229742</td>\n      <td>-0.174958</td>\n      <td>-0.164282</td>\n      <td>-0.164656</td>\n      <td>0.082739</td>\n    </tr>\n    <tr>\n      <th>31</th>\n      <td>13</td>\n      <td>babu</td>\n      <td>0.350276</td>\n      <td>-0.781817</td>\n      <td>0.167895</td>\n      <td>0.720620</td>\n      <td>0.070097</td>\n      <td>0.385085</td>\n      <td>-0.227156</td>\n      <td>0.072589</td>\n      <td>-0.128076</td>\n      <td>-0.535084</td>\n      <td>-1.209437</td>\n    </tr>\n  </tbody>\n</table>\n</div>"
     },
     "metadata": {},
     "execution_count": 71
    }
   ],
   "source": [
    "train_df, test_df, mean, std = get_train_test(13, normalize=NORMALIZE, drop_columns=REMOVE)\n",
    "test_df\n"
   ]
  },
  {
   "cell_type": "code",
   "execution_count": 72,
   "metadata": {},
   "outputs": [],
   "source": [
    "x_train, y_train = train_df.drop(columns=[\"paredao\", \"nome\", \"rejeicao\"], axis=1).to_numpy(), train_df.drop(columns=train_df.columns[:-1], axis=1).to_numpy()\n",
    "x_test, y_test = test_df.drop(columns=[\"paredao\", \"nome\", \"rejeicao\"], axis=1).to_numpy(), test_df.drop(columns=train_df.columns[:-1], axis=1).to_numpy()"
   ]
  },
  {
   "cell_type": "code",
   "execution_count": 73,
   "metadata": {},
   "outputs": [],
   "source": [
    "regressor = KNeighborsRegressor(n_neighbors=K, metric=METRIC, p=P)"
   ]
  },
  {
   "cell_type": "code",
   "execution_count": 74,
   "metadata": {},
   "outputs": [],
   "source": [
    "_ = regressor.fit(x_train, y_train)\n",
    "prediction = regressor.predict(x_test)\n",
    "test_df[\"predicao\"] = prediction * std + mean\n",
    "test_df[\"rejeicao\"] =  test_df[\"rejeicao\"] * std + mean\n",
    "summary_df = summary_df.append(test_df, ignore_index=True, sort=False)"
   ]
  },
  {
   "cell_type": "code",
   "execution_count": 75,
   "metadata": {},
   "outputs": [
    {
     "output_type": "execute_result",
     "data": {
      "text/plain": "   paredao       nome  positivos_individual_pct  neutros_individual_pct  \\\n30      13     thelma                 -0.208468                1.789410   \n29      13  flayslene                 -0.225464               -0.328059   \n31      13       babu                  0.350276               -0.781817   \n\n    negativos_individual_pct  positivos_global_pct  neutros_global_pct  \\\n30                 -0.835249             -1.249237           -0.662771   \n29                  0.353578              0.314462            0.388387   \n31                  0.167895              0.720620            0.070097   \n\n    negativos_global_pct      day1  seguidores      fica      fora  rejeicao  \\\n30             -1.136001 -1.229742   -0.174958 -0.164282 -0.164656    0.3653   \n29              0.582673  0.297711   -0.360808 -0.080124  0.259951    0.6300   \n31              0.385085 -0.227156    0.072589 -0.128076 -0.535084    0.0047   \n\n    predicao  \n30  0.581300  \n29  0.572733  \n31  0.050667  ",
      "text/html": "<div>\n<style scoped>\n    .dataframe tbody tr th:only-of-type {\n        vertical-align: middle;\n    }\n\n    .dataframe tbody tr th {\n        vertical-align: top;\n    }\n\n    .dataframe thead th {\n        text-align: right;\n    }\n</style>\n<table border=\"1\" class=\"dataframe\">\n  <thead>\n    <tr style=\"text-align: right;\">\n      <th></th>\n      <th>paredao</th>\n      <th>nome</th>\n      <th>positivos_individual_pct</th>\n      <th>neutros_individual_pct</th>\n      <th>negativos_individual_pct</th>\n      <th>positivos_global_pct</th>\n      <th>neutros_global_pct</th>\n      <th>negativos_global_pct</th>\n      <th>day1</th>\n      <th>seguidores</th>\n      <th>fica</th>\n      <th>fora</th>\n      <th>rejeicao</th>\n      <th>predicao</th>\n    </tr>\n  </thead>\n  <tbody>\n    <tr>\n      <th>30</th>\n      <td>13</td>\n      <td>thelma</td>\n      <td>-0.208468</td>\n      <td>1.789410</td>\n      <td>-0.835249</td>\n      <td>-1.249237</td>\n      <td>-0.662771</td>\n      <td>-1.136001</td>\n      <td>-1.229742</td>\n      <td>-0.174958</td>\n      <td>-0.164282</td>\n      <td>-0.164656</td>\n      <td>0.3653</td>\n      <td>0.581300</td>\n    </tr>\n    <tr>\n      <th>29</th>\n      <td>13</td>\n      <td>flayslene</td>\n      <td>-0.225464</td>\n      <td>-0.328059</td>\n      <td>0.353578</td>\n      <td>0.314462</td>\n      <td>0.388387</td>\n      <td>0.582673</td>\n      <td>0.297711</td>\n      <td>-0.360808</td>\n      <td>-0.080124</td>\n      <td>0.259951</td>\n      <td>0.6300</td>\n      <td>0.572733</td>\n    </tr>\n    <tr>\n      <th>31</th>\n      <td>13</td>\n      <td>babu</td>\n      <td>0.350276</td>\n      <td>-0.781817</td>\n      <td>0.167895</td>\n      <td>0.720620</td>\n      <td>0.070097</td>\n      <td>0.385085</td>\n      <td>-0.227156</td>\n      <td>0.072589</td>\n      <td>-0.128076</td>\n      <td>-0.535084</td>\n      <td>0.0047</td>\n      <td>0.050667</td>\n    </tr>\n  </tbody>\n</table>\n</div>"
     },
     "metadata": {},
     "execution_count": 75
    }
   ],
   "source": [
    "test_df.sort_values(by=\"predicao\", ascending=False)"
   ]
  },
  {
   "cell_type": "markdown",
   "metadata": {},
   "source": [
    "# Sumarizando"
   ]
  },
  {
   "cell_type": "code",
   "execution_count": 76,
   "metadata": {},
   "outputs": [
    {
     "output_type": "execute_result",
     "data": {
      "text/plain": "   paredao             nome  rejeicao  predicao  erro_absoluto\n0        1   bianca_andrade    0.2446  0.246733       0.002133\n29      11             babu    0.0411  0.050667       0.009567\n31      11           thelma    0.3628  0.372567       0.009767\n5        2           hadson    0.1863  0.172167       0.014133\n18       7     manu_gavassi    0.1018  0.085867       0.015933\n13       5     felipe_prior    0.2927  0.275167       0.017533\n33      12        flayslene    0.4918  0.513333       0.021533\n17       7             babu    0.0460  0.018800       0.027200\n20       8             babu    0.4771  0.440500       0.036600\n32      12             babu    0.0106  0.048700       0.038100\n37      13             babu    0.0047  0.050667       0.045967\n26      10     manu_gavassi    0.4251  0.471967       0.046867\n9        4      victor_hugo    0.3608  0.408367       0.047567\n35      13        flayslene    0.6300  0.572733       0.057267\n11       5   bianca_andrade    0.5309  0.469000       0.061900\n10       4            lucas    0.6262  0.560700       0.065500\n6        3     felipe_prior    0.2029  0.273833       0.070933\n1        1     lucas_chumbo    0.7594  0.684433       0.074967\n14       6  gizelly_bicalho    0.0064  0.086267       0.079867\n8        4             babu    0.0130  0.095467       0.082467\n24       9        flayslene    0.0954  0.009433       0.085967\n22       8            pyong    0.5170  0.623700       0.106700\n4        2            pyong    0.0066  0.117600       0.111000\n16       6            pyong    0.4329  0.546267       0.113367\n3        2           petrix    0.8027  0.666300       0.136400\n28      10     felipe_prior    0.5673  0.709300       0.142000\n7        3           hadson    0.7971  0.638833       0.158267\n23       9           daniel    0.8082  0.649900       0.158300\n15       6        guilherme    0.5607  0.391900       0.168800\n36      13           thelma    0.3653  0.581300       0.216000\n21       8             rafa    0.0059  0.232300       0.226400\n12       5        flayslene    0.1764  0.406300       0.229900\n27      10             mari    0.0076  0.243500       0.235900\n2        2             babu    0.0044  0.244567       0.240167\n34      12          marcela    0.4976  0.250967       0.246633\n30      11             gabi    0.5961  0.222967       0.373133\n25       9              ivy    0.0964  0.487100       0.390700\n19       7      victor_hugo    0.8522  0.211200       0.641000",
      "text/html": "<div>\n<style scoped>\n    .dataframe tbody tr th:only-of-type {\n        vertical-align: middle;\n    }\n\n    .dataframe tbody tr th {\n        vertical-align: top;\n    }\n\n    .dataframe thead th {\n        text-align: right;\n    }\n</style>\n<table border=\"1\" class=\"dataframe\">\n  <thead>\n    <tr style=\"text-align: right;\">\n      <th></th>\n      <th>paredao</th>\n      <th>nome</th>\n      <th>rejeicao</th>\n      <th>predicao</th>\n      <th>erro_absoluto</th>\n    </tr>\n  </thead>\n  <tbody>\n    <tr>\n      <th>0</th>\n      <td>1</td>\n      <td>bianca_andrade</td>\n      <td>0.2446</td>\n      <td>0.246733</td>\n      <td>0.002133</td>\n    </tr>\n    <tr>\n      <th>29</th>\n      <td>11</td>\n      <td>babu</td>\n      <td>0.0411</td>\n      <td>0.050667</td>\n      <td>0.009567</td>\n    </tr>\n    <tr>\n      <th>31</th>\n      <td>11</td>\n      <td>thelma</td>\n      <td>0.3628</td>\n      <td>0.372567</td>\n      <td>0.009767</td>\n    </tr>\n    <tr>\n      <th>5</th>\n      <td>2</td>\n      <td>hadson</td>\n      <td>0.1863</td>\n      <td>0.172167</td>\n      <td>0.014133</td>\n    </tr>\n    <tr>\n      <th>18</th>\n      <td>7</td>\n      <td>manu_gavassi</td>\n      <td>0.1018</td>\n      <td>0.085867</td>\n      <td>0.015933</td>\n    </tr>\n    <tr>\n      <th>13</th>\n      <td>5</td>\n      <td>felipe_prior</td>\n      <td>0.2927</td>\n      <td>0.275167</td>\n      <td>0.017533</td>\n    </tr>\n    <tr>\n      <th>33</th>\n      <td>12</td>\n      <td>flayslene</td>\n      <td>0.4918</td>\n      <td>0.513333</td>\n      <td>0.021533</td>\n    </tr>\n    <tr>\n      <th>17</th>\n      <td>7</td>\n      <td>babu</td>\n      <td>0.0460</td>\n      <td>0.018800</td>\n      <td>0.027200</td>\n    </tr>\n    <tr>\n      <th>20</th>\n      <td>8</td>\n      <td>babu</td>\n      <td>0.4771</td>\n      <td>0.440500</td>\n      <td>0.036600</td>\n    </tr>\n    <tr>\n      <th>32</th>\n      <td>12</td>\n      <td>babu</td>\n      <td>0.0106</td>\n      <td>0.048700</td>\n      <td>0.038100</td>\n    </tr>\n    <tr>\n      <th>37</th>\n      <td>13</td>\n      <td>babu</td>\n      <td>0.0047</td>\n      <td>0.050667</td>\n      <td>0.045967</td>\n    </tr>\n    <tr>\n      <th>26</th>\n      <td>10</td>\n      <td>manu_gavassi</td>\n      <td>0.4251</td>\n      <td>0.471967</td>\n      <td>0.046867</td>\n    </tr>\n    <tr>\n      <th>9</th>\n      <td>4</td>\n      <td>victor_hugo</td>\n      <td>0.3608</td>\n      <td>0.408367</td>\n      <td>0.047567</td>\n    </tr>\n    <tr>\n      <th>35</th>\n      <td>13</td>\n      <td>flayslene</td>\n      <td>0.6300</td>\n      <td>0.572733</td>\n      <td>0.057267</td>\n    </tr>\n    <tr>\n      <th>11</th>\n      <td>5</td>\n      <td>bianca_andrade</td>\n      <td>0.5309</td>\n      <td>0.469000</td>\n      <td>0.061900</td>\n    </tr>\n    <tr>\n      <th>10</th>\n      <td>4</td>\n      <td>lucas</td>\n      <td>0.6262</td>\n      <td>0.560700</td>\n      <td>0.065500</td>\n    </tr>\n    <tr>\n      <th>6</th>\n      <td>3</td>\n      <td>felipe_prior</td>\n      <td>0.2029</td>\n      <td>0.273833</td>\n      <td>0.070933</td>\n    </tr>\n    <tr>\n      <th>1</th>\n      <td>1</td>\n      <td>lucas_chumbo</td>\n      <td>0.7594</td>\n      <td>0.684433</td>\n      <td>0.074967</td>\n    </tr>\n    <tr>\n      <th>14</th>\n      <td>6</td>\n      <td>gizelly_bicalho</td>\n      <td>0.0064</td>\n      <td>0.086267</td>\n      <td>0.079867</td>\n    </tr>\n    <tr>\n      <th>8</th>\n      <td>4</td>\n      <td>babu</td>\n      <td>0.0130</td>\n      <td>0.095467</td>\n      <td>0.082467</td>\n    </tr>\n    <tr>\n      <th>24</th>\n      <td>9</td>\n      <td>flayslene</td>\n      <td>0.0954</td>\n      <td>0.009433</td>\n      <td>0.085967</td>\n    </tr>\n    <tr>\n      <th>22</th>\n      <td>8</td>\n      <td>pyong</td>\n      <td>0.5170</td>\n      <td>0.623700</td>\n      <td>0.106700</td>\n    </tr>\n    <tr>\n      <th>4</th>\n      <td>2</td>\n      <td>pyong</td>\n      <td>0.0066</td>\n      <td>0.117600</td>\n      <td>0.111000</td>\n    </tr>\n    <tr>\n      <th>16</th>\n      <td>6</td>\n      <td>pyong</td>\n      <td>0.4329</td>\n      <td>0.546267</td>\n      <td>0.113367</td>\n    </tr>\n    <tr>\n      <th>3</th>\n      <td>2</td>\n      <td>petrix</td>\n      <td>0.8027</td>\n      <td>0.666300</td>\n      <td>0.136400</td>\n    </tr>\n    <tr>\n      <th>28</th>\n      <td>10</td>\n      <td>felipe_prior</td>\n      <td>0.5673</td>\n      <td>0.709300</td>\n      <td>0.142000</td>\n    </tr>\n    <tr>\n      <th>7</th>\n      <td>3</td>\n      <td>hadson</td>\n      <td>0.7971</td>\n      <td>0.638833</td>\n      <td>0.158267</td>\n    </tr>\n    <tr>\n      <th>23</th>\n      <td>9</td>\n      <td>daniel</td>\n      <td>0.8082</td>\n      <td>0.649900</td>\n      <td>0.158300</td>\n    </tr>\n    <tr>\n      <th>15</th>\n      <td>6</td>\n      <td>guilherme</td>\n      <td>0.5607</td>\n      <td>0.391900</td>\n      <td>0.168800</td>\n    </tr>\n    <tr>\n      <th>36</th>\n      <td>13</td>\n      <td>thelma</td>\n      <td>0.3653</td>\n      <td>0.581300</td>\n      <td>0.216000</td>\n    </tr>\n    <tr>\n      <th>21</th>\n      <td>8</td>\n      <td>rafa</td>\n      <td>0.0059</td>\n      <td>0.232300</td>\n      <td>0.226400</td>\n    </tr>\n    <tr>\n      <th>12</th>\n      <td>5</td>\n      <td>flayslene</td>\n      <td>0.1764</td>\n      <td>0.406300</td>\n      <td>0.229900</td>\n    </tr>\n    <tr>\n      <th>27</th>\n      <td>10</td>\n      <td>mari</td>\n      <td>0.0076</td>\n      <td>0.243500</td>\n      <td>0.235900</td>\n    </tr>\n    <tr>\n      <th>2</th>\n      <td>2</td>\n      <td>babu</td>\n      <td>0.0044</td>\n      <td>0.244567</td>\n      <td>0.240167</td>\n    </tr>\n    <tr>\n      <th>34</th>\n      <td>12</td>\n      <td>marcela</td>\n      <td>0.4976</td>\n      <td>0.250967</td>\n      <td>0.246633</td>\n    </tr>\n    <tr>\n      <th>30</th>\n      <td>11</td>\n      <td>gabi</td>\n      <td>0.5961</td>\n      <td>0.222967</td>\n      <td>0.373133</td>\n    </tr>\n    <tr>\n      <th>25</th>\n      <td>9</td>\n      <td>ivy</td>\n      <td>0.0964</td>\n      <td>0.487100</td>\n      <td>0.390700</td>\n    </tr>\n    <tr>\n      <th>19</th>\n      <td>7</td>\n      <td>victor_hugo</td>\n      <td>0.8522</td>\n      <td>0.211200</td>\n      <td>0.641000</td>\n    </tr>\n  </tbody>\n</table>\n</div>"
     },
     "metadata": {},
     "execution_count": 76
    }
   ],
   "source": [
    "summary_df = summary_df[[\"paredao\", \"nome\", \"rejeicao\", \"predicao\"]]\n",
    "summary_df[\"erro_absoluto\"] = abs(summary_df[\"rejeicao\"] - summary_df[\"predicao\"])\n",
    "summary_df.sort_values(by=\"erro_absoluto\")"
   ]
  },
  {
   "cell_type": "code",
   "execution_count": null,
   "metadata": {},
   "outputs": [],
   "source": []
  }
 ],
 "metadata": {
  "language_info": {
   "name": "python",
   "codemirror_mode": {
    "name": "ipython",
    "version": 3
   },
   "version": "3.6.9-final"
  },
  "orig_nbformat": 2,
  "file_extension": ".py",
  "mimetype": "text/x-python",
  "name": "python",
  "npconvert_exporter": "python",
  "pygments_lexer": "ipython3",
  "version": 3,
  "kernelspec": {
   "name": "python36964bitbertvirtualenv054cbb15ab924922a35a349b12e89805",
   "display_name": "Python 3.6.9 64-bit ('bert': virtualenv)"
  }
 },
 "nbformat": 4,
 "nbformat_minor": 2
}