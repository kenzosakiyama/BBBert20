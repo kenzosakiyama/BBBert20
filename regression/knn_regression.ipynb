{
 "nbformat": 4,
 "nbformat_minor": 2,
 "metadata": {
  "language_info": {
   "name": "python",
   "codemirror_mode": {
    "name": "ipython",
    "version": 3
   },
   "version": "3.6.9-final"
  },
  "orig_nbformat": 2,
  "file_extension": ".py",
  "mimetype": "text/x-python",
  "name": "python",
  "npconvert_exporter": "python",
  "pygments_lexer": "ipython3",
  "version": 3,
  "kernelspec": {
   "name": "python36964bitbertvirtualenv054cbb15ab924922a35a349b12e89805",
   "display_name": "Python 3.6.9 64-bit ('bert': virtualenv)"
  }
 },
 "cells": [
  {
   "cell_type": "markdown",
   "metadata": {},
   "source": [
    "# Experimentos baseados em KNN"
   ]
  },
  {
   "cell_type": "markdown",
   "metadata": {},
   "source": [
    "- Utilizando cada paredão como teste e avaliando com holdout."
   ]
  },
  {
   "cell_type": "code",
   "execution_count": 1,
   "metadata": {},
   "outputs": [],
   "source": [
    "import pandas as pd \n",
    "import numpy as np \n",
    "from regression_utils import *\n",
    "from sklearn.neighbors import KNeighborsRegressor"
   ]
  },
  {
   "cell_type": "code",
   "execution_count": 2,
   "metadata": {},
   "outputs": [],
   "source": [
    "NORMALIZE = True\n",
    "K = 5\n",
    "METRIC = \"minkowski\"\n",
    "REMOVE = [\"positivos\", \"neutros\", \"negativos\", \"likes\", \"retweets\", \"day2\", \"day3\"]"
   ]
  },
  {
   "cell_type": "code",
   "execution_count": 3,
   "metadata": {},
   "outputs": [],
   "source": [
    "summary_df = pd.DataFrame(columns=set(COLUMNS) - set(REMOVE))"
   ]
  },
  {
   "cell_type": "markdown",
   "metadata": {},
   "source": [
    "# Paredao 1"
   ]
  },
  {
   "cell_type": "code",
   "execution_count": 4,
   "metadata": {},
   "outputs": [],
   "source": [
    "train_df, test_df, mean, std = get_train_test(1, normalize=NORMALIZE, drop_columns=REMOVE)"
   ]
  },
  {
   "cell_type": "code",
   "execution_count": 5,
   "metadata": {},
   "outputs": [
    {
     "output_type": "execute_result",
     "data": {
      "text/plain": "   paredao            nome  positivos_individual_pct  neutros_individual_pct  \\\n24       1  bianca_andrade                  1.691474                0.694588   \n25       1    lucas_chumbo                 -0.868480                0.297313   \n\n    negativos_individual_pct  positivos_global_pct  neutros_global_pct  \\\n24                 -1.691078              1.119272           -0.126126   \n25                  0.525974              1.391614            2.390624   \n\n    negativos_global_pct      day1  seguidores      fica     fora  rejeicao  \n24             -0.822482 -1.094324   -0.167656 -0.344478 -0.52713 -0.347670  \n25              2.702153 -0.036008   -0.526805 -0.435007 -0.45342  1.455205  ",
      "text/html": "<div>\n<style scoped>\n    .dataframe tbody tr th:only-of-type {\n        vertical-align: middle;\n    }\n\n    .dataframe tbody tr th {\n        vertical-align: top;\n    }\n\n    .dataframe thead th {\n        text-align: right;\n    }\n</style>\n<table border=\"1\" class=\"dataframe\">\n  <thead>\n    <tr style=\"text-align: right;\">\n      <th></th>\n      <th>paredao</th>\n      <th>nome</th>\n      <th>positivos_individual_pct</th>\n      <th>neutros_individual_pct</th>\n      <th>negativos_individual_pct</th>\n      <th>positivos_global_pct</th>\n      <th>neutros_global_pct</th>\n      <th>negativos_global_pct</th>\n      <th>day1</th>\n      <th>seguidores</th>\n      <th>fica</th>\n      <th>fora</th>\n      <th>rejeicao</th>\n    </tr>\n  </thead>\n  <tbody>\n    <tr>\n      <th>24</th>\n      <td>1</td>\n      <td>bianca_andrade</td>\n      <td>1.691474</td>\n      <td>0.694588</td>\n      <td>-1.691078</td>\n      <td>1.119272</td>\n      <td>-0.126126</td>\n      <td>-0.822482</td>\n      <td>-1.094324</td>\n      <td>-0.167656</td>\n      <td>-0.344478</td>\n      <td>-0.52713</td>\n      <td>-0.347670</td>\n    </tr>\n    <tr>\n      <th>25</th>\n      <td>1</td>\n      <td>lucas_chumbo</td>\n      <td>-0.868480</td>\n      <td>0.297313</td>\n      <td>0.525974</td>\n      <td>1.391614</td>\n      <td>2.390624</td>\n      <td>2.702153</td>\n      <td>-0.036008</td>\n      <td>-0.526805</td>\n      <td>-0.435007</td>\n      <td>-0.45342</td>\n      <td>1.455205</td>\n    </tr>\n  </tbody>\n</table>\n</div>"
     },
     "metadata": {},
     "execution_count": 5
    }
   ],
   "source": [
    "test_df"
   ]
  },
  {
   "cell_type": "code",
   "execution_count": 6,
   "metadata": {},
   "outputs": [],
   "source": [
    "x_train, y_train = train_df.drop(columns=[\"paredao\", \"nome\", \"rejeicao\"], axis=1).to_numpy(), train_df.drop(columns=train_df.columns[:-1], axis=1).to_numpy()\n",
    "x_test, y_test = test_df.drop(columns=[\"paredao\", \"nome\", \"rejeicao\"], axis=1).to_numpy(), test_df.drop(columns=train_df.columns[:-1], axis=1).to_numpy()"
   ]
  },
  {
   "cell_type": "code",
   "execution_count": 7,
   "metadata": {},
   "outputs": [],
   "source": [
    "regressor = KNeighborsRegressor(n_neighbors=K, metric=METRIC)"
   ]
  },
  {
   "cell_type": "code",
   "execution_count": 8,
   "metadata": {},
   "outputs": [],
   "source": [
    "_ = regressor.fit(x_train, y_train)"
   ]
  },
  {
   "cell_type": "code",
   "execution_count": 9,
   "metadata": {},
   "outputs": [],
   "source": [
    "prediction = regressor.predict(x_test)\n",
    "test_df[\"predicao\"] = prediction * std + mean\n",
    "test_df[\"rejeicao\"] =  test_df[\"rejeicao\"] * std + mean\n",
    "summary_df = summary_df.append(test_df, ignore_index=True, sort=False)"
   ]
  },
  {
   "cell_type": "code",
   "execution_count": 10,
   "metadata": {},
   "outputs": [
    {
     "output_type": "execute_result",
     "data": {
      "text/plain": "   paredao            nome  positivos_individual_pct  neutros_individual_pct  \\\n25       1    lucas_chumbo                 -0.868480                0.297313   \n24       1  bianca_andrade                  1.691474                0.694588   \n\n    negativos_individual_pct  positivos_global_pct  neutros_global_pct  \\\n25                  0.525974              1.391614            2.390624   \n24                 -1.691078              1.119272           -0.126126   \n\n    negativos_global_pct      day1  seguidores      fica     fora  rejeicao  \\\n25              2.702153 -0.036008   -0.526805 -0.435007 -0.45342    0.7594   \n24             -0.822482 -1.094324   -0.167656 -0.344478 -0.52713    0.2446   \n\n    predicao  \n25   0.54432  \n24   0.15856  ",
      "text/html": "<div>\n<style scoped>\n    .dataframe tbody tr th:only-of-type {\n        vertical-align: middle;\n    }\n\n    .dataframe tbody tr th {\n        vertical-align: top;\n    }\n\n    .dataframe thead th {\n        text-align: right;\n    }\n</style>\n<table border=\"1\" class=\"dataframe\">\n  <thead>\n    <tr style=\"text-align: right;\">\n      <th></th>\n      <th>paredao</th>\n      <th>nome</th>\n      <th>positivos_individual_pct</th>\n      <th>neutros_individual_pct</th>\n      <th>negativos_individual_pct</th>\n      <th>positivos_global_pct</th>\n      <th>neutros_global_pct</th>\n      <th>negativos_global_pct</th>\n      <th>day1</th>\n      <th>seguidores</th>\n      <th>fica</th>\n      <th>fora</th>\n      <th>rejeicao</th>\n      <th>predicao</th>\n    </tr>\n  </thead>\n  <tbody>\n    <tr>\n      <th>25</th>\n      <td>1</td>\n      <td>lucas_chumbo</td>\n      <td>-0.868480</td>\n      <td>0.297313</td>\n      <td>0.525974</td>\n      <td>1.391614</td>\n      <td>2.390624</td>\n      <td>2.702153</td>\n      <td>-0.036008</td>\n      <td>-0.526805</td>\n      <td>-0.435007</td>\n      <td>-0.45342</td>\n      <td>0.7594</td>\n      <td>0.54432</td>\n    </tr>\n    <tr>\n      <th>24</th>\n      <td>1</td>\n      <td>bianca_andrade</td>\n      <td>1.691474</td>\n      <td>0.694588</td>\n      <td>-1.691078</td>\n      <td>1.119272</td>\n      <td>-0.126126</td>\n      <td>-0.822482</td>\n      <td>-1.094324</td>\n      <td>-0.167656</td>\n      <td>-0.344478</td>\n      <td>-0.52713</td>\n      <td>0.2446</td>\n      <td>0.15856</td>\n    </tr>\n  </tbody>\n</table>\n</div>"
     },
     "metadata": {},
     "execution_count": 10
    }
   ],
   "source": [
    "test_df.sort_values(by=\"predicao\", ascending=False)"
   ]
  },
  {
   "cell_type": "markdown",
   "metadata": {},
   "source": [
    "# Paredao 2"
   ]
  },
  {
   "cell_type": "code",
   "execution_count": 11,
   "metadata": {},
   "outputs": [
    {
     "output_type": "execute_result",
     "data": {
      "text/plain": "   paredao    nome  positivos_individual_pct  neutros_individual_pct  \\\n20       2    babu                  0.841864                1.253614   \n21       2  petrix                 -1.306109                0.034264   \n22       2   pyong                  2.424619               -0.433936   \n23       2  hadson                 -1.288287               -0.589637   \n\n    negativos_individual_pct  positivos_global_pct  neutros_global_pct  \\\n20                 -1.316904             -2.217411           -2.095263   \n21                  1.007125             -0.216688            0.748123   \n22                 -1.675749              0.082330           -1.295977   \n23                  1.319713             -0.661293           -0.074282   \n\n    negativos_global_pct      day1  seguidores      fica      fora  rejeicao  \n20             -1.895266 -1.109533   -0.245379 -0.439427 -0.522705 -1.188871  \n21              0.754903  1.461031   -0.517464 -0.435361  0.022943  1.606845  \n22             -1.485532 -0.676380    0.747726 -0.394517 -0.524270 -1.181167  \n23              0.370290  0.120705   -0.528428 -0.442080 -0.298877 -0.551841  ",
      "text/html": "<div>\n<style scoped>\n    .dataframe tbody tr th:only-of-type {\n        vertical-align: middle;\n    }\n\n    .dataframe tbody tr th {\n        vertical-align: top;\n    }\n\n    .dataframe thead th {\n        text-align: right;\n    }\n</style>\n<table border=\"1\" class=\"dataframe\">\n  <thead>\n    <tr style=\"text-align: right;\">\n      <th></th>\n      <th>paredao</th>\n      <th>nome</th>\n      <th>positivos_individual_pct</th>\n      <th>neutros_individual_pct</th>\n      <th>negativos_individual_pct</th>\n      <th>positivos_global_pct</th>\n      <th>neutros_global_pct</th>\n      <th>negativos_global_pct</th>\n      <th>day1</th>\n      <th>seguidores</th>\n      <th>fica</th>\n      <th>fora</th>\n      <th>rejeicao</th>\n    </tr>\n  </thead>\n  <tbody>\n    <tr>\n      <th>20</th>\n      <td>2</td>\n      <td>babu</td>\n      <td>0.841864</td>\n      <td>1.253614</td>\n      <td>-1.316904</td>\n      <td>-2.217411</td>\n      <td>-2.095263</td>\n      <td>-1.895266</td>\n      <td>-1.109533</td>\n      <td>-0.245379</td>\n      <td>-0.439427</td>\n      <td>-0.522705</td>\n      <td>-1.188871</td>\n    </tr>\n    <tr>\n      <th>21</th>\n      <td>2</td>\n      <td>petrix</td>\n      <td>-1.306109</td>\n      <td>0.034264</td>\n      <td>1.007125</td>\n      <td>-0.216688</td>\n      <td>0.748123</td>\n      <td>0.754903</td>\n      <td>1.461031</td>\n      <td>-0.517464</td>\n      <td>-0.435361</td>\n      <td>0.022943</td>\n      <td>1.606845</td>\n    </tr>\n    <tr>\n      <th>22</th>\n      <td>2</td>\n      <td>pyong</td>\n      <td>2.424619</td>\n      <td>-0.433936</td>\n      <td>-1.675749</td>\n      <td>0.082330</td>\n      <td>-1.295977</td>\n      <td>-1.485532</td>\n      <td>-0.676380</td>\n      <td>0.747726</td>\n      <td>-0.394517</td>\n      <td>-0.524270</td>\n      <td>-1.181167</td>\n    </tr>\n    <tr>\n      <th>23</th>\n      <td>2</td>\n      <td>hadson</td>\n      <td>-1.288287</td>\n      <td>-0.589637</td>\n      <td>1.319713</td>\n      <td>-0.661293</td>\n      <td>-0.074282</td>\n      <td>0.370290</td>\n      <td>0.120705</td>\n      <td>-0.528428</td>\n      <td>-0.442080</td>\n      <td>-0.298877</td>\n      <td>-0.551841</td>\n    </tr>\n  </tbody>\n</table>\n</div>"
     },
     "metadata": {},
     "execution_count": 11
    }
   ],
   "source": [
    "train_df, test_df, mean, std = get_train_test(2, normalize=NORMALIZE, drop_columns=REMOVE)\n",
    "test_df\n",
    ""
   ]
  },
  {
   "cell_type": "code",
   "execution_count": 12,
   "metadata": {},
   "outputs": [],
   "source": [
    "x_train, y_train = train_df.drop(columns=[\"paredao\", \"nome\", \"rejeicao\"], axis=1).to_numpy(), train_df.drop(columns=train_df.columns[:-1], axis=1).to_numpy()\n",
    "x_test, y_test = test_df.drop(columns=[\"paredao\", \"nome\", \"rejeicao\"], axis=1).to_numpy(), test_df.drop(columns=train_df.columns[:-1], axis=1).to_numpy()"
   ]
  },
  {
   "cell_type": "code",
   "execution_count": 13,
   "metadata": {},
   "outputs": [],
   "source": [
    "regressor = KNeighborsRegressor(n_neighbors=K, metric=METRIC)"
   ]
  },
  {
   "cell_type": "code",
   "execution_count": 14,
   "metadata": {},
   "outputs": [],
   "source": [
    "_ = regressor.fit(x_train, y_train)\n",
    ""
   ]
  },
  {
   "cell_type": "code",
   "execution_count": 15,
   "metadata": {},
   "outputs": [],
   "source": [
    "prediction = regressor.predict(x_test)\n",
    "test_df[\"predicao\"] = prediction * std + mean\n",
    "test_df[\"rejeicao\"] =  test_df[\"rejeicao\"] * std + mean\n",
    "summary_df = summary_df.append(test_df, ignore_index=True, sort=False)"
   ]
  },
  {
   "cell_type": "code",
   "execution_count": 16,
   "metadata": {},
   "outputs": [
    {
     "output_type": "execute_result",
     "data": {
      "text/plain": "   paredao    nome  positivos_individual_pct  neutros_individual_pct  \\\n21       2  petrix                 -1.306109                0.034264   \n23       2  hadson                 -1.288287               -0.589637   \n20       2    babu                  0.841864                1.253614   \n22       2   pyong                  2.424619               -0.433936   \n\n    negativos_individual_pct  positivos_global_pct  neutros_global_pct  \\\n21                  1.007125             -0.216688            0.748123   \n23                  1.319713             -0.661293           -0.074282   \n20                 -1.316904             -2.217411           -2.095263   \n22                 -1.675749              0.082330           -1.295977   \n\n    negativos_global_pct      day1  seguidores      fica      fora  rejeicao  \\\n21              0.754903  1.461031   -0.517464 -0.435361  0.022943    0.8027   \n23              0.370290  0.120705   -0.528428 -0.442080 -0.298877    0.1863   \n20             -1.895266 -1.109533   -0.245379 -0.439427 -0.522705    0.0044   \n22             -1.485532 -0.676380    0.747726 -0.394517 -0.524270    0.0066   \n\n    predicao  \n21   0.48304  \n23   0.28892  \n20   0.28068  \n22   0.17916  ",
      "text/html": "<div>\n<style scoped>\n    .dataframe tbody tr th:only-of-type {\n        vertical-align: middle;\n    }\n\n    .dataframe tbody tr th {\n        vertical-align: top;\n    }\n\n    .dataframe thead th {\n        text-align: right;\n    }\n</style>\n<table border=\"1\" class=\"dataframe\">\n  <thead>\n    <tr style=\"text-align: right;\">\n      <th></th>\n      <th>paredao</th>\n      <th>nome</th>\n      <th>positivos_individual_pct</th>\n      <th>neutros_individual_pct</th>\n      <th>negativos_individual_pct</th>\n      <th>positivos_global_pct</th>\n      <th>neutros_global_pct</th>\n      <th>negativos_global_pct</th>\n      <th>day1</th>\n      <th>seguidores</th>\n      <th>fica</th>\n      <th>fora</th>\n      <th>rejeicao</th>\n      <th>predicao</th>\n    </tr>\n  </thead>\n  <tbody>\n    <tr>\n      <th>21</th>\n      <td>2</td>\n      <td>petrix</td>\n      <td>-1.306109</td>\n      <td>0.034264</td>\n      <td>1.007125</td>\n      <td>-0.216688</td>\n      <td>0.748123</td>\n      <td>0.754903</td>\n      <td>1.461031</td>\n      <td>-0.517464</td>\n      <td>-0.435361</td>\n      <td>0.022943</td>\n      <td>0.8027</td>\n      <td>0.48304</td>\n    </tr>\n    <tr>\n      <th>23</th>\n      <td>2</td>\n      <td>hadson</td>\n      <td>-1.288287</td>\n      <td>-0.589637</td>\n      <td>1.319713</td>\n      <td>-0.661293</td>\n      <td>-0.074282</td>\n      <td>0.370290</td>\n      <td>0.120705</td>\n      <td>-0.528428</td>\n      <td>-0.442080</td>\n      <td>-0.298877</td>\n      <td>0.1863</td>\n      <td>0.28892</td>\n    </tr>\n    <tr>\n      <th>20</th>\n      <td>2</td>\n      <td>babu</td>\n      <td>0.841864</td>\n      <td>1.253614</td>\n      <td>-1.316904</td>\n      <td>-2.217411</td>\n      <td>-2.095263</td>\n      <td>-1.895266</td>\n      <td>-1.109533</td>\n      <td>-0.245379</td>\n      <td>-0.439427</td>\n      <td>-0.522705</td>\n      <td>0.0044</td>\n      <td>0.28068</td>\n    </tr>\n    <tr>\n      <th>22</th>\n      <td>2</td>\n      <td>pyong</td>\n      <td>2.424619</td>\n      <td>-0.433936</td>\n      <td>-1.675749</td>\n      <td>0.082330</td>\n      <td>-1.295977</td>\n      <td>-1.485532</td>\n      <td>-0.676380</td>\n      <td>0.747726</td>\n      <td>-0.394517</td>\n      <td>-0.524270</td>\n      <td>0.0066</td>\n      <td>0.17916</td>\n    </tr>\n  </tbody>\n</table>\n</div>"
     },
     "metadata": {},
     "execution_count": 16
    }
   ],
   "source": [
    "test_df.sort_values(by=\"predicao\", ascending=False)"
   ]
  },
  {
   "cell_type": "markdown",
   "metadata": {},
   "source": [
    "# Paredao 3"
   ]
  },
  {
   "cell_type": "code",
   "execution_count": 17,
   "metadata": {},
   "outputs": [
    {
     "output_type": "execute_result",
     "data": {
      "text/plain": "   paredao          nome  positivos_individual_pct  neutros_individual_pct  \\\n9        3  felipe_prior                  0.566176                0.652012   \n10       3        hadson                 -0.448945                2.084500   \n\n    negativos_individual_pct  positivos_global_pct  neutros_global_pct  \\\n9                  -0.785636              1.628578            0.619924   \n10                 -0.738772              0.882308            1.644574   \n\n    negativos_global_pct      day1  seguidores      fica      fora  rejeicao  \n9               0.750190 -1.389163   -0.354340 -0.425813 -0.526213 -0.493707  \n10              1.129482 -1.341286   -0.528428 -0.440665 -0.454175  1.587234  ",
      "text/html": "<div>\n<style scoped>\n    .dataframe tbody tr th:only-of-type {\n        vertical-align: middle;\n    }\n\n    .dataframe tbody tr th {\n        vertical-align: top;\n    }\n\n    .dataframe thead th {\n        text-align: right;\n    }\n</style>\n<table border=\"1\" class=\"dataframe\">\n  <thead>\n    <tr style=\"text-align: right;\">\n      <th></th>\n      <th>paredao</th>\n      <th>nome</th>\n      <th>positivos_individual_pct</th>\n      <th>neutros_individual_pct</th>\n      <th>negativos_individual_pct</th>\n      <th>positivos_global_pct</th>\n      <th>neutros_global_pct</th>\n      <th>negativos_global_pct</th>\n      <th>day1</th>\n      <th>seguidores</th>\n      <th>fica</th>\n      <th>fora</th>\n      <th>rejeicao</th>\n    </tr>\n  </thead>\n  <tbody>\n    <tr>\n      <th>9</th>\n      <td>3</td>\n      <td>felipe_prior</td>\n      <td>0.566176</td>\n      <td>0.652012</td>\n      <td>-0.785636</td>\n      <td>1.628578</td>\n      <td>0.619924</td>\n      <td>0.750190</td>\n      <td>-1.389163</td>\n      <td>-0.354340</td>\n      <td>-0.425813</td>\n      <td>-0.526213</td>\n      <td>-0.493707</td>\n    </tr>\n    <tr>\n      <th>10</th>\n      <td>3</td>\n      <td>hadson</td>\n      <td>-0.448945</td>\n      <td>2.084500</td>\n      <td>-0.738772</td>\n      <td>0.882308</td>\n      <td>1.644574</td>\n      <td>1.129482</td>\n      <td>-1.341286</td>\n      <td>-0.528428</td>\n      <td>-0.440665</td>\n      <td>-0.454175</td>\n      <td>1.587234</td>\n    </tr>\n  </tbody>\n</table>\n</div>"
     },
     "metadata": {},
     "execution_count": 17
    }
   ],
   "source": [
    "train_df, test_df, mean, std = get_train_test(3, normalize=NORMALIZE, drop_columns=REMOVE)\n",
    "test_df\n",
    ""
   ]
  },
  {
   "cell_type": "code",
   "execution_count": 18,
   "metadata": {},
   "outputs": [],
   "source": [
    "x_train, y_train = train_df.drop(columns=[\"paredao\", \"nome\", \"rejeicao\"], axis=1).to_numpy(), train_df.drop(columns=train_df.columns[:-1], axis=1).to_numpy()\n",
    "x_test, y_test = test_df.drop(columns=[\"paredao\", \"nome\", \"rejeicao\"], axis=1).to_numpy(), test_df.drop(columns=train_df.columns[:-1], axis=1).to_numpy()"
   ]
  },
  {
   "cell_type": "code",
   "execution_count": 19,
   "metadata": {},
   "outputs": [],
   "source": [
    "regressor = KNeighborsRegressor(n_neighbors=K, metric=METRIC)"
   ]
  },
  {
   "cell_type": "code",
   "execution_count": 20,
   "metadata": {},
   "outputs": [],
   "source": [
    "_ = regressor.fit(x_train, y_train)"
   ]
  },
  {
   "cell_type": "code",
   "execution_count": 21,
   "metadata": {},
   "outputs": [],
   "source": [
    "prediction = regressor.predict(x_test)\n",
    "test_df[\"predicao\"] = prediction * std + mean\n",
    "test_df[\"rejeicao\"] =  test_df[\"rejeicao\"] * std + mean\n",
    "summary_df = summary_df.append(test_df, ignore_index=True, sort=False)"
   ]
  },
  {
   "cell_type": "code",
   "execution_count": 22,
   "metadata": {},
   "outputs": [
    {
     "output_type": "execute_result",
     "data": {
      "text/plain": "   paredao          nome  positivos_individual_pct  neutros_individual_pct  \\\n10       3        hadson                 -0.448945                2.084500   \n9        3  felipe_prior                  0.566176                0.652012   \n\n    negativos_individual_pct  positivos_global_pct  neutros_global_pct  \\\n10                 -0.738772              0.882308            1.644574   \n9                  -0.785636              1.628578            0.619924   \n\n    negativos_global_pct      day1  seguidores      fica      fora  rejeicao  \\\n10              1.129482 -1.341286   -0.528428 -0.440665 -0.454175    0.7971   \n9               0.750190 -1.389163   -0.354340 -0.425813 -0.526213    0.2029   \n\n    predicao  \n10   0.50146  \n9    0.25594  ",
      "text/html": "<div>\n<style scoped>\n    .dataframe tbody tr th:only-of-type {\n        vertical-align: middle;\n    }\n\n    .dataframe tbody tr th {\n        vertical-align: top;\n    }\n\n    .dataframe thead th {\n        text-align: right;\n    }\n</style>\n<table border=\"1\" class=\"dataframe\">\n  <thead>\n    <tr style=\"text-align: right;\">\n      <th></th>\n      <th>paredao</th>\n      <th>nome</th>\n      <th>positivos_individual_pct</th>\n      <th>neutros_individual_pct</th>\n      <th>negativos_individual_pct</th>\n      <th>positivos_global_pct</th>\n      <th>neutros_global_pct</th>\n      <th>negativos_global_pct</th>\n      <th>day1</th>\n      <th>seguidores</th>\n      <th>fica</th>\n      <th>fora</th>\n      <th>rejeicao</th>\n      <th>predicao</th>\n    </tr>\n  </thead>\n  <tbody>\n    <tr>\n      <th>10</th>\n      <td>3</td>\n      <td>hadson</td>\n      <td>-0.448945</td>\n      <td>2.084500</td>\n      <td>-0.738772</td>\n      <td>0.882308</td>\n      <td>1.644574</td>\n      <td>1.129482</td>\n      <td>-1.341286</td>\n      <td>-0.528428</td>\n      <td>-0.440665</td>\n      <td>-0.454175</td>\n      <td>0.7971</td>\n      <td>0.50146</td>\n    </tr>\n    <tr>\n      <th>9</th>\n      <td>3</td>\n      <td>felipe_prior</td>\n      <td>0.566176</td>\n      <td>0.652012</td>\n      <td>-0.785636</td>\n      <td>1.628578</td>\n      <td>0.619924</td>\n      <td>0.750190</td>\n      <td>-1.389163</td>\n      <td>-0.354340</td>\n      <td>-0.425813</td>\n      <td>-0.526213</td>\n      <td>0.2029</td>\n      <td>0.25594</td>\n    </tr>\n  </tbody>\n</table>\n</div>"
     },
     "metadata": {},
     "execution_count": 22
    }
   ],
   "source": [
    "test_df.sort_values(by=\"predicao\", ascending=False)"
   ]
  },
  {
   "cell_type": "markdown",
   "metadata": {},
   "source": [
    "# Paredao 4"
   ]
  },
  {
   "cell_type": "code",
   "execution_count": 23,
   "metadata": {},
   "outputs": [
    {
     "output_type": "execute_result",
     "data": {
      "text/plain": "   paredao         nome  positivos_individual_pct  neutros_individual_pct  \\\n29       4         babu                 -0.757918               -0.845679   \n30       4  victor_hugo                 -0.182145                0.658502   \n31       4        lucas                 -0.598789               -0.969196   \n\n    negativos_individual_pct  positivos_global_pct  neutros_global_pct  \\\n29                  1.037492             -0.262035           -0.140402   \n30                 -0.201736             -1.724828           -1.499780   \n31                  0.977258              1.735774            1.413732   \n\n    negativos_global_pct      day1  seguidores      fica      fora  rejeicao  \n29             -0.022919 -0.316891   -0.245379 -0.422277 -0.513316 -1.158753  \n30             -1.526085 -1.031990   -0.524663 -0.437306 -0.499556  0.059273  \n31              1.361037  0.556299   -0.516336 -0.407778 -0.209141  0.988727  ",
      "text/html": "<div>\n<style scoped>\n    .dataframe tbody tr th:only-of-type {\n        vertical-align: middle;\n    }\n\n    .dataframe tbody tr th {\n        vertical-align: top;\n    }\n\n    .dataframe thead th {\n        text-align: right;\n    }\n</style>\n<table border=\"1\" class=\"dataframe\">\n  <thead>\n    <tr style=\"text-align: right;\">\n      <th></th>\n      <th>paredao</th>\n      <th>nome</th>\n      <th>positivos_individual_pct</th>\n      <th>neutros_individual_pct</th>\n      <th>negativos_individual_pct</th>\n      <th>positivos_global_pct</th>\n      <th>neutros_global_pct</th>\n      <th>negativos_global_pct</th>\n      <th>day1</th>\n      <th>seguidores</th>\n      <th>fica</th>\n      <th>fora</th>\n      <th>rejeicao</th>\n    </tr>\n  </thead>\n  <tbody>\n    <tr>\n      <th>29</th>\n      <td>4</td>\n      <td>babu</td>\n      <td>-0.757918</td>\n      <td>-0.845679</td>\n      <td>1.037492</td>\n      <td>-0.262035</td>\n      <td>-0.140402</td>\n      <td>-0.022919</td>\n      <td>-0.316891</td>\n      <td>-0.245379</td>\n      <td>-0.422277</td>\n      <td>-0.513316</td>\n      <td>-1.158753</td>\n    </tr>\n    <tr>\n      <th>30</th>\n      <td>4</td>\n      <td>victor_hugo</td>\n      <td>-0.182145</td>\n      <td>0.658502</td>\n      <td>-0.201736</td>\n      <td>-1.724828</td>\n      <td>-1.499780</td>\n      <td>-1.526085</td>\n      <td>-1.031990</td>\n      <td>-0.524663</td>\n      <td>-0.437306</td>\n      <td>-0.499556</td>\n      <td>0.059273</td>\n    </tr>\n    <tr>\n      <th>31</th>\n      <td>4</td>\n      <td>lucas</td>\n      <td>-0.598789</td>\n      <td>-0.969196</td>\n      <td>0.977258</td>\n      <td>1.735774</td>\n      <td>1.413732</td>\n      <td>1.361037</td>\n      <td>0.556299</td>\n      <td>-0.516336</td>\n      <td>-0.407778</td>\n      <td>-0.209141</td>\n      <td>0.988727</td>\n    </tr>\n  </tbody>\n</table>\n</div>"
     },
     "metadata": {},
     "execution_count": 23
    }
   ],
   "source": [
    "train_df, test_df, mean, std = get_train_test(4, normalize=NORMALIZE, drop_columns=REMOVE)\n",
    "test_df\n",
    ""
   ]
  },
  {
   "cell_type": "code",
   "execution_count": 24,
   "metadata": {},
   "outputs": [],
   "source": [
    "x_train, y_train = train_df.drop(columns=[\"paredao\", \"nome\", \"rejeicao\"], axis=1).to_numpy(), train_df.drop(columns=train_df.columns[:-1], axis=1).to_numpy()\n",
    "x_test, y_test = test_df.drop(columns=[\"paredao\", \"nome\", \"rejeicao\"], axis=1).to_numpy(), test_df.drop(columns=train_df.columns[:-1], axis=1).to_numpy()"
   ]
  },
  {
   "cell_type": "code",
   "execution_count": 25,
   "metadata": {},
   "outputs": [],
   "source": [
    "regressor = KNeighborsRegressor(n_neighbors=K, metric=METRIC)"
   ]
  },
  {
   "cell_type": "code",
   "execution_count": 26,
   "metadata": {},
   "outputs": [],
   "source": [
    "_ = regressor.fit(x_train, y_train)\n",
    ""
   ]
  },
  {
   "cell_type": "code",
   "execution_count": 27,
   "metadata": {},
   "outputs": [],
   "source": [
    "prediction = regressor.predict(x_test)\n",
    "test_df[\"predicao\"] = prediction * std + mean\n",
    "test_df[\"rejeicao\"] =  test_df[\"rejeicao\"] * std + mean\n",
    "summary_df = summary_df.append(test_df, ignore_index=True, sort=False)"
   ]
  },
  {
   "cell_type": "code",
   "execution_count": 28,
   "metadata": {},
   "outputs": [
    {
     "output_type": "execute_result",
     "data": {
      "text/plain": "   paredao         nome  positivos_individual_pct  neutros_individual_pct  \\\n31       4        lucas                 -0.598789               -0.969196   \n30       4  victor_hugo                 -0.182145                0.658502   \n29       4         babu                 -0.757918               -0.845679   \n\n    negativos_individual_pct  positivos_global_pct  neutros_global_pct  \\\n31                  0.977258              1.735774            1.413732   \n30                 -0.201736             -1.724828           -1.499780   \n29                  1.037492             -0.262035           -0.140402   \n\n    negativos_global_pct      day1  seguidores      fica      fora  rejeicao  \\\n31              1.361037  0.556299   -0.516336 -0.407778 -0.209141    0.6262   \n30             -1.526085 -1.031990   -0.524663 -0.437306 -0.499556    0.3608   \n29             -0.022919 -0.316891   -0.245379 -0.422277 -0.513316    0.0130   \n\n    predicao  \n31   0.56094  \n30   0.22740  \n29   0.17222  ",
      "text/html": "<div>\n<style scoped>\n    .dataframe tbody tr th:only-of-type {\n        vertical-align: middle;\n    }\n\n    .dataframe tbody tr th {\n        vertical-align: top;\n    }\n\n    .dataframe thead th {\n        text-align: right;\n    }\n</style>\n<table border=\"1\" class=\"dataframe\">\n  <thead>\n    <tr style=\"text-align: right;\">\n      <th></th>\n      <th>paredao</th>\n      <th>nome</th>\n      <th>positivos_individual_pct</th>\n      <th>neutros_individual_pct</th>\n      <th>negativos_individual_pct</th>\n      <th>positivos_global_pct</th>\n      <th>neutros_global_pct</th>\n      <th>negativos_global_pct</th>\n      <th>day1</th>\n      <th>seguidores</th>\n      <th>fica</th>\n      <th>fora</th>\n      <th>rejeicao</th>\n      <th>predicao</th>\n    </tr>\n  </thead>\n  <tbody>\n    <tr>\n      <th>31</th>\n      <td>4</td>\n      <td>lucas</td>\n      <td>-0.598789</td>\n      <td>-0.969196</td>\n      <td>0.977258</td>\n      <td>1.735774</td>\n      <td>1.413732</td>\n      <td>1.361037</td>\n      <td>0.556299</td>\n      <td>-0.516336</td>\n      <td>-0.407778</td>\n      <td>-0.209141</td>\n      <td>0.6262</td>\n      <td>0.56094</td>\n    </tr>\n    <tr>\n      <th>30</th>\n      <td>4</td>\n      <td>victor_hugo</td>\n      <td>-0.182145</td>\n      <td>0.658502</td>\n      <td>-0.201736</td>\n      <td>-1.724828</td>\n      <td>-1.499780</td>\n      <td>-1.526085</td>\n      <td>-1.031990</td>\n      <td>-0.524663</td>\n      <td>-0.437306</td>\n      <td>-0.499556</td>\n      <td>0.3608</td>\n      <td>0.22740</td>\n    </tr>\n    <tr>\n      <th>29</th>\n      <td>4</td>\n      <td>babu</td>\n      <td>-0.757918</td>\n      <td>-0.845679</td>\n      <td>1.037492</td>\n      <td>-0.262035</td>\n      <td>-0.140402</td>\n      <td>-0.022919</td>\n      <td>-0.316891</td>\n      <td>-0.245379</td>\n      <td>-0.422277</td>\n      <td>-0.513316</td>\n      <td>0.0130</td>\n      <td>0.17222</td>\n    </tr>\n  </tbody>\n</table>\n</div>"
     },
     "metadata": {},
     "execution_count": 28
    }
   ],
   "source": [
    "test_df.sort_values(by=\"predicao\", ascending=False)"
   ]
  },
  {
   "cell_type": "markdown",
   "metadata": {},
   "source": [
    "# Paredao 5"
   ]
  },
  {
   "cell_type": "code",
   "execution_count": 29,
   "metadata": {},
   "outputs": [
    {
     "output_type": "execute_result",
     "data": {
      "text/plain": "  paredao            nome  positivos_individual_pct  neutros_individual_pct  \\\n3       5  bianca_andrade                 -0.258918                1.760777   \n4       5       flayslene                 -0.820707               -0.194888   \n5       5    felipe_prior                 -1.310870               -1.145978   \n\n   negativos_individual_pct  positivos_global_pct  neutros_global_pct  \\\n3                 -0.718459              0.217874            0.204274   \n4                  0.746119             -1.142354           -1.097732   \n5                  1.628649              0.673392            0.667008   \n\n   negativos_global_pct      day1  seguidores      fica      fora  rejeicao  \n3             -0.793069 -1.335340   -0.167656 -0.338820 -0.426817  0.654978  \n4             -0.901750 -1.339283   -0.444062 -0.396285 -0.375339 -0.586512  \n5              1.506852 -1.266309   -0.354340 -0.305226 -0.148867 -0.179219  ",
      "text/html": "<div>\n<style scoped>\n    .dataframe tbody tr th:only-of-type {\n        vertical-align: middle;\n    }\n\n    .dataframe tbody tr th {\n        vertical-align: top;\n    }\n\n    .dataframe thead th {\n        text-align: right;\n    }\n</style>\n<table border=\"1\" class=\"dataframe\">\n  <thead>\n    <tr style=\"text-align: right;\">\n      <th></th>\n      <th>paredao</th>\n      <th>nome</th>\n      <th>positivos_individual_pct</th>\n      <th>neutros_individual_pct</th>\n      <th>negativos_individual_pct</th>\n      <th>positivos_global_pct</th>\n      <th>neutros_global_pct</th>\n      <th>negativos_global_pct</th>\n      <th>day1</th>\n      <th>seguidores</th>\n      <th>fica</th>\n      <th>fora</th>\n      <th>rejeicao</th>\n    </tr>\n  </thead>\n  <tbody>\n    <tr>\n      <th>3</th>\n      <td>5</td>\n      <td>bianca_andrade</td>\n      <td>-0.258918</td>\n      <td>1.760777</td>\n      <td>-0.718459</td>\n      <td>0.217874</td>\n      <td>0.204274</td>\n      <td>-0.793069</td>\n      <td>-1.335340</td>\n      <td>-0.167656</td>\n      <td>-0.338820</td>\n      <td>-0.426817</td>\n      <td>0.654978</td>\n    </tr>\n    <tr>\n      <th>4</th>\n      <td>5</td>\n      <td>flayslene</td>\n      <td>-0.820707</td>\n      <td>-0.194888</td>\n      <td>0.746119</td>\n      <td>-1.142354</td>\n      <td>-1.097732</td>\n      <td>-0.901750</td>\n      <td>-1.339283</td>\n      <td>-0.444062</td>\n      <td>-0.396285</td>\n      <td>-0.375339</td>\n      <td>-0.586512</td>\n    </tr>\n    <tr>\n      <th>5</th>\n      <td>5</td>\n      <td>felipe_prior</td>\n      <td>-1.310870</td>\n      <td>-1.145978</td>\n      <td>1.628649</td>\n      <td>0.673392</td>\n      <td>0.667008</td>\n      <td>1.506852</td>\n      <td>-1.266309</td>\n      <td>-0.354340</td>\n      <td>-0.305226</td>\n      <td>-0.148867</td>\n      <td>-0.179219</td>\n    </tr>\n  </tbody>\n</table>\n</div>"
     },
     "metadata": {},
     "execution_count": 29
    }
   ],
   "source": [
    "train_df, test_df, mean, std = get_train_test(5, normalize=NORMALIZE, drop_columns=REMOVE)\n",
    "test_df\n",
    ""
   ]
  },
  {
   "cell_type": "code",
   "execution_count": 30,
   "metadata": {},
   "outputs": [],
   "source": [
    "x_train, y_train = train_df.drop(columns=[\"paredao\", \"nome\", \"rejeicao\"], axis=1).to_numpy(), train_df.drop(columns=train_df.columns[:-1], axis=1).to_numpy()\n",
    "x_test, y_test = test_df.drop(columns=[\"paredao\", \"nome\", \"rejeicao\"], axis=1).to_numpy(), test_df.drop(columns=train_df.columns[:-1], axis=1).to_numpy()"
   ]
  },
  {
   "cell_type": "code",
   "execution_count": 31,
   "metadata": {},
   "outputs": [],
   "source": [
    "regressor = KNeighborsRegressor(n_neighbors=K, metric=METRIC)"
   ]
  },
  {
   "cell_type": "code",
   "execution_count": 32,
   "metadata": {},
   "outputs": [],
   "source": [
    "_ = regressor.fit(x_train, y_train)\n",
    ""
   ]
  },
  {
   "cell_type": "code",
   "execution_count": 33,
   "metadata": {},
   "outputs": [],
   "source": [
    "prediction = regressor.predict(x_test)\n",
    "test_df[\"predicao\"] = prediction * std + mean\n",
    "test_df[\"rejeicao\"] =  test_df[\"rejeicao\"] * std + mean\n",
    "summary_df = summary_df.append(test_df, ignore_index=True, sort=False)"
   ]
  },
  {
   "cell_type": "code",
   "execution_count": 34,
   "metadata": {},
   "outputs": [
    {
     "output_type": "execute_result",
     "data": {
      "text/plain": "  paredao            nome  positivos_individual_pct  neutros_individual_pct  \\\n3       5  bianca_andrade                 -0.258918                1.760777   \n4       5       flayslene                 -0.820707               -0.194888   \n5       5    felipe_prior                 -1.310870               -1.145978   \n\n   negativos_individual_pct  positivos_global_pct  neutros_global_pct  \\\n3                 -0.718459              0.217874            0.204274   \n4                  0.746119             -1.142354           -1.097732   \n5                  1.628649              0.673392            0.667008   \n\n   negativos_global_pct      day1  seguidores      fica      fora  rejeicao  \\\n3             -0.793069 -1.335340   -0.167656 -0.338820 -0.426817    0.5309   \n4             -0.901750 -1.339283   -0.444062 -0.396285 -0.375339    0.1764   \n5              1.506852 -1.266309   -0.354340 -0.305226 -0.148867    0.2927   \n\n   predicao  \n3   0.49192  \n4   0.28364  \n5   0.27076  ",
      "text/html": "<div>\n<style scoped>\n    .dataframe tbody tr th:only-of-type {\n        vertical-align: middle;\n    }\n\n    .dataframe tbody tr th {\n        vertical-align: top;\n    }\n\n    .dataframe thead th {\n        text-align: right;\n    }\n</style>\n<table border=\"1\" class=\"dataframe\">\n  <thead>\n    <tr style=\"text-align: right;\">\n      <th></th>\n      <th>paredao</th>\n      <th>nome</th>\n      <th>positivos_individual_pct</th>\n      <th>neutros_individual_pct</th>\n      <th>negativos_individual_pct</th>\n      <th>positivos_global_pct</th>\n      <th>neutros_global_pct</th>\n      <th>negativos_global_pct</th>\n      <th>day1</th>\n      <th>seguidores</th>\n      <th>fica</th>\n      <th>fora</th>\n      <th>rejeicao</th>\n      <th>predicao</th>\n    </tr>\n  </thead>\n  <tbody>\n    <tr>\n      <th>3</th>\n      <td>5</td>\n      <td>bianca_andrade</td>\n      <td>-0.258918</td>\n      <td>1.760777</td>\n      <td>-0.718459</td>\n      <td>0.217874</td>\n      <td>0.204274</td>\n      <td>-0.793069</td>\n      <td>-1.335340</td>\n      <td>-0.167656</td>\n      <td>-0.338820</td>\n      <td>-0.426817</td>\n      <td>0.5309</td>\n      <td>0.49192</td>\n    </tr>\n    <tr>\n      <th>4</th>\n      <td>5</td>\n      <td>flayslene</td>\n      <td>-0.820707</td>\n      <td>-0.194888</td>\n      <td>0.746119</td>\n      <td>-1.142354</td>\n      <td>-1.097732</td>\n      <td>-0.901750</td>\n      <td>-1.339283</td>\n      <td>-0.444062</td>\n      <td>-0.396285</td>\n      <td>-0.375339</td>\n      <td>0.1764</td>\n      <td>0.28364</td>\n    </tr>\n    <tr>\n      <th>5</th>\n      <td>5</td>\n      <td>felipe_prior</td>\n      <td>-1.310870</td>\n      <td>-1.145978</td>\n      <td>1.628649</td>\n      <td>0.673392</td>\n      <td>0.667008</td>\n      <td>1.506852</td>\n      <td>-1.266309</td>\n      <td>-0.354340</td>\n      <td>-0.305226</td>\n      <td>-0.148867</td>\n      <td>0.2927</td>\n      <td>0.27076</td>\n    </tr>\n  </tbody>\n</table>\n</div>"
     },
     "metadata": {},
     "execution_count": 34
    }
   ],
   "source": [
    "test_df.sort_values(by=\"predicao\", ascending=False)"
   ]
  },
  {
   "cell_type": "markdown",
   "metadata": {},
   "source": [
    "# Paredao 6"
   ]
  },
  {
   "cell_type": "code",
   "execution_count": 35,
   "metadata": {},
   "outputs": [
    {
     "output_type": "execute_result",
     "data": {
      "text/plain": "  paredao             nome  positivos_individual_pct  neutros_individual_pct  \\\n0       6  gizelly_bicalho                  2.043195                0.103645   \n1       6        guilherme                 -1.229993               -1.761684   \n2       6            pyong                 -0.428713               -1.392274   \n\n   negativos_individual_pct  positivos_global_pct  neutros_global_pct  \\\n0                 -1.657792             -0.008121           -0.732017   \n1                  1.887461             -0.683245            0.008504   \n2                  1.065236              0.440277            0.497064   \n\n   negativos_global_pct      day1  seguidores      fica      fora  rejeicao  \n0             -1.425415 -0.152104   -0.326546 -0.207978 -0.507272 -1.181867  \n1              0.651485  1.633704   -0.444706 -0.403181  0.936548  0.759340  \n2              0.585963  0.978436    0.747726 -0.113205  0.273536  0.311773  ",
      "text/html": "<div>\n<style scoped>\n    .dataframe tbody tr th:only-of-type {\n        vertical-align: middle;\n    }\n\n    .dataframe tbody tr th {\n        vertical-align: top;\n    }\n\n    .dataframe thead th {\n        text-align: right;\n    }\n</style>\n<table border=\"1\" class=\"dataframe\">\n  <thead>\n    <tr style=\"text-align: right;\">\n      <th></th>\n      <th>paredao</th>\n      <th>nome</th>\n      <th>positivos_individual_pct</th>\n      <th>neutros_individual_pct</th>\n      <th>negativos_individual_pct</th>\n      <th>positivos_global_pct</th>\n      <th>neutros_global_pct</th>\n      <th>negativos_global_pct</th>\n      <th>day1</th>\n      <th>seguidores</th>\n      <th>fica</th>\n      <th>fora</th>\n      <th>rejeicao</th>\n    </tr>\n  </thead>\n  <tbody>\n    <tr>\n      <th>0</th>\n      <td>6</td>\n      <td>gizelly_bicalho</td>\n      <td>2.043195</td>\n      <td>0.103645</td>\n      <td>-1.657792</td>\n      <td>-0.008121</td>\n      <td>-0.732017</td>\n      <td>-1.425415</td>\n      <td>-0.152104</td>\n      <td>-0.326546</td>\n      <td>-0.207978</td>\n      <td>-0.507272</td>\n      <td>-1.181867</td>\n    </tr>\n    <tr>\n      <th>1</th>\n      <td>6</td>\n      <td>guilherme</td>\n      <td>-1.229993</td>\n      <td>-1.761684</td>\n      <td>1.887461</td>\n      <td>-0.683245</td>\n      <td>0.008504</td>\n      <td>0.651485</td>\n      <td>1.633704</td>\n      <td>-0.444706</td>\n      <td>-0.403181</td>\n      <td>0.936548</td>\n      <td>0.759340</td>\n    </tr>\n    <tr>\n      <th>2</th>\n      <td>6</td>\n      <td>pyong</td>\n      <td>-0.428713</td>\n      <td>-1.392274</td>\n      <td>1.065236</td>\n      <td>0.440277</td>\n      <td>0.497064</td>\n      <td>0.585963</td>\n      <td>0.978436</td>\n      <td>0.747726</td>\n      <td>-0.113205</td>\n      <td>0.273536</td>\n      <td>0.311773</td>\n    </tr>\n  </tbody>\n</table>\n</div>"
     },
     "metadata": {},
     "execution_count": 35
    }
   ],
   "source": [
    "train_df, test_df, mean, std = get_train_test(6, normalize=NORMALIZE, drop_columns=REMOVE)\n",
    "test_df\n",
    ""
   ]
  },
  {
   "cell_type": "code",
   "execution_count": 36,
   "metadata": {},
   "outputs": [],
   "source": [
    "x_train, y_train = train_df.drop(columns=[\"paredao\", \"nome\", \"rejeicao\"], axis=1).to_numpy(), train_df.drop(columns=train_df.columns[:-1], axis=1).to_numpy()\n",
    "x_test, y_test = test_df.drop(columns=[\"paredao\", \"nome\", \"rejeicao\"], axis=1).to_numpy(), test_df.drop(columns=train_df.columns[:-1], axis=1).to_numpy()"
   ]
  },
  {
   "cell_type": "code",
   "execution_count": 37,
   "metadata": {},
   "outputs": [],
   "source": [
    "regressor = KNeighborsRegressor(n_neighbors=K, metric=METRIC)"
   ]
  },
  {
   "cell_type": "code",
   "execution_count": 38,
   "metadata": {},
   "outputs": [],
   "source": [
    "_ = regressor.fit(x_train, y_train)\n",
    ""
   ]
  },
  {
   "cell_type": "code",
   "execution_count": 39,
   "metadata": {},
   "outputs": [],
   "source": [
    "prediction = regressor.predict(x_test)\n",
    "test_df[\"predicao\"] = prediction * std + mean\n",
    "test_df[\"rejeicao\"] =  test_df[\"rejeicao\"] * std + mean\n",
    "summary_df = summary_df.append(test_df, ignore_index=True, sort=False)"
   ]
  },
  {
   "cell_type": "code",
   "execution_count": 40,
   "metadata": {},
   "outputs": [
    {
     "output_type": "execute_result",
     "data": {
      "text/plain": "  paredao             nome  positivos_individual_pct  neutros_individual_pct  \\\n2       6            pyong                 -0.428713               -1.392274   \n1       6        guilherme                 -1.229993               -1.761684   \n0       6  gizelly_bicalho                  2.043195                0.103645   \n\n   negativos_individual_pct  positivos_global_pct  neutros_global_pct  \\\n2                  1.065236              0.440277            0.497064   \n1                  1.887461             -0.683245            0.008504   \n0                 -1.657792             -0.008121           -0.732017   \n\n   negativos_global_pct      day1  seguidores      fica      fora  rejeicao  \\\n2              0.585963  0.978436    0.747726 -0.113205  0.273536    0.4329   \n1              0.651485  1.633704   -0.444706 -0.403181  0.936548    0.5607   \n0             -1.425415 -0.152104   -0.326546 -0.207978 -0.507272    0.0064   \n\n   predicao  \n2    0.4872  \n1    0.2970  \n0    0.1792  ",
      "text/html": "<div>\n<style scoped>\n    .dataframe tbody tr th:only-of-type {\n        vertical-align: middle;\n    }\n\n    .dataframe tbody tr th {\n        vertical-align: top;\n    }\n\n    .dataframe thead th {\n        text-align: right;\n    }\n</style>\n<table border=\"1\" class=\"dataframe\">\n  <thead>\n    <tr style=\"text-align: right;\">\n      <th></th>\n      <th>paredao</th>\n      <th>nome</th>\n      <th>positivos_individual_pct</th>\n      <th>neutros_individual_pct</th>\n      <th>negativos_individual_pct</th>\n      <th>positivos_global_pct</th>\n      <th>neutros_global_pct</th>\n      <th>negativos_global_pct</th>\n      <th>day1</th>\n      <th>seguidores</th>\n      <th>fica</th>\n      <th>fora</th>\n      <th>rejeicao</th>\n      <th>predicao</th>\n    </tr>\n  </thead>\n  <tbody>\n    <tr>\n      <th>2</th>\n      <td>6</td>\n      <td>pyong</td>\n      <td>-0.428713</td>\n      <td>-1.392274</td>\n      <td>1.065236</td>\n      <td>0.440277</td>\n      <td>0.497064</td>\n      <td>0.585963</td>\n      <td>0.978436</td>\n      <td>0.747726</td>\n      <td>-0.113205</td>\n      <td>0.273536</td>\n      <td>0.4329</td>\n      <td>0.4872</td>\n    </tr>\n    <tr>\n      <th>1</th>\n      <td>6</td>\n      <td>guilherme</td>\n      <td>-1.229993</td>\n      <td>-1.761684</td>\n      <td>1.887461</td>\n      <td>-0.683245</td>\n      <td>0.008504</td>\n      <td>0.651485</td>\n      <td>1.633704</td>\n      <td>-0.444706</td>\n      <td>-0.403181</td>\n      <td>0.936548</td>\n      <td>0.5607</td>\n      <td>0.2970</td>\n    </tr>\n    <tr>\n      <th>0</th>\n      <td>6</td>\n      <td>gizelly_bicalho</td>\n      <td>2.043195</td>\n      <td>0.103645</td>\n      <td>-1.657792</td>\n      <td>-0.008121</td>\n      <td>-0.732017</td>\n      <td>-1.425415</td>\n      <td>-0.152104</td>\n      <td>-0.326546</td>\n      <td>-0.207978</td>\n      <td>-0.507272</td>\n      <td>0.0064</td>\n      <td>0.1792</td>\n    </tr>\n  </tbody>\n</table>\n</div>"
     },
     "metadata": {},
     "execution_count": 40
    }
   ],
   "source": [
    "test_df.sort_values(by=\"predicao\", ascending=False)"
   ]
  },
  {
   "cell_type": "markdown",
   "metadata": {},
   "source": [
    "# Paredao 7"
   ]
  },
  {
   "cell_type": "code",
   "execution_count": 41,
   "metadata": {},
   "outputs": [
    {
     "output_type": "execute_result",
     "data": {
      "text/plain": "  paredao          nome  positivos_individual_pct  neutros_individual_pct  \\\n6       7          babu                  1.086410               -0.805217   \n7       7  manu_gavassi                  1.372279                0.261504   \n8       7   victor_hugo                 -0.489664                0.462487   \n\n   negativos_individual_pct  positivos_global_pct  neutros_global_pct  \\\n6                 -0.431152              0.904525            0.283412   \n7                 -1.213874              0.165291           -0.054596   \n8                  0.142213             -1.320905           -0.455266   \n\n   negativos_global_pct      day1  seguidores      fica      fora  rejeicao  \n6              0.544082 -0.268512   -0.245379 -0.165189 -0.518982 -1.043184  \n7             -0.476042 -0.623496    3.348856 -0.123991 -0.507434 -0.847768  \n8             -0.256007 -0.570611   -0.524663 -0.438190 -0.396869  1.780199  ",
      "text/html": "<div>\n<style scoped>\n    .dataframe tbody tr th:only-of-type {\n        vertical-align: middle;\n    }\n\n    .dataframe tbody tr th {\n        vertical-align: top;\n    }\n\n    .dataframe thead th {\n        text-align: right;\n    }\n</style>\n<table border=\"1\" class=\"dataframe\">\n  <thead>\n    <tr style=\"text-align: right;\">\n      <th></th>\n      <th>paredao</th>\n      <th>nome</th>\n      <th>positivos_individual_pct</th>\n      <th>neutros_individual_pct</th>\n      <th>negativos_individual_pct</th>\n      <th>positivos_global_pct</th>\n      <th>neutros_global_pct</th>\n      <th>negativos_global_pct</th>\n      <th>day1</th>\n      <th>seguidores</th>\n      <th>fica</th>\n      <th>fora</th>\n      <th>rejeicao</th>\n    </tr>\n  </thead>\n  <tbody>\n    <tr>\n      <th>6</th>\n      <td>7</td>\n      <td>babu</td>\n      <td>1.086410</td>\n      <td>-0.805217</td>\n      <td>-0.431152</td>\n      <td>0.904525</td>\n      <td>0.283412</td>\n      <td>0.544082</td>\n      <td>-0.268512</td>\n      <td>-0.245379</td>\n      <td>-0.165189</td>\n      <td>-0.518982</td>\n      <td>-1.043184</td>\n    </tr>\n    <tr>\n      <th>7</th>\n      <td>7</td>\n      <td>manu_gavassi</td>\n      <td>1.372279</td>\n      <td>0.261504</td>\n      <td>-1.213874</td>\n      <td>0.165291</td>\n      <td>-0.054596</td>\n      <td>-0.476042</td>\n      <td>-0.623496</td>\n      <td>3.348856</td>\n      <td>-0.123991</td>\n      <td>-0.507434</td>\n      <td>-0.847768</td>\n    </tr>\n    <tr>\n      <th>8</th>\n      <td>7</td>\n      <td>victor_hugo</td>\n      <td>-0.489664</td>\n      <td>0.462487</td>\n      <td>0.142213</td>\n      <td>-1.320905</td>\n      <td>-0.455266</td>\n      <td>-0.256007</td>\n      <td>-0.570611</td>\n      <td>-0.524663</td>\n      <td>-0.438190</td>\n      <td>-0.396869</td>\n      <td>1.780199</td>\n    </tr>\n  </tbody>\n</table>\n</div>"
     },
     "metadata": {},
     "execution_count": 41
    }
   ],
   "source": [
    "train_df, test_df, mean, std = get_train_test(7, normalize=NORMALIZE, drop_columns=REMOVE)\n",
    "test_df\n",
    ""
   ]
  },
  {
   "cell_type": "code",
   "execution_count": 42,
   "metadata": {},
   "outputs": [],
   "source": [
    "x_train, y_train = train_df.drop(columns=[\"paredao\", \"nome\", \"rejeicao\"], axis=1).to_numpy(), train_df.drop(columns=train_df.columns[:-1], axis=1).to_numpy()\n",
    "x_test, y_test = test_df.drop(columns=[\"paredao\", \"nome\", \"rejeicao\"], axis=1).to_numpy(), test_df.drop(columns=train_df.columns[:-1], axis=1).to_numpy()"
   ]
  },
  {
   "cell_type": "code",
   "execution_count": 43,
   "metadata": {},
   "outputs": [],
   "source": [
    "regressor = KNeighborsRegressor(n_neighbors=K, metric=METRIC)"
   ]
  },
  {
   "cell_type": "code",
   "execution_count": 44,
   "metadata": {},
   "outputs": [],
   "source": [
    "_ = regressor.fit(x_train, y_train)\n",
    "prediction = regressor.predict(x_test)\n",
    "test_df[\"predicao\"] = prediction * std + mean\n",
    "test_df[\"rejeicao\"] =  test_df[\"rejeicao\"] * std + mean\n",
    "summary_df = summary_df.append(test_df, ignore_index=True, sort=False)"
   ]
  },
  {
   "cell_type": "code",
   "execution_count": 45,
   "metadata": {},
   "outputs": [
    {
     "output_type": "execute_result",
     "data": {
      "text/plain": "  paredao          nome  positivos_individual_pct  neutros_individual_pct  \\\n6       7          babu                  1.086410               -0.805217   \n8       7   victor_hugo                 -0.489664                0.462487   \n7       7  manu_gavassi                  1.372279                0.261504   \n\n   negativos_individual_pct  positivos_global_pct  neutros_global_pct  \\\n6                 -0.431152              0.904525            0.283412   \n8                  0.142213             -1.320905           -0.455266   \n7                 -1.213874              0.165291           -0.054596   \n\n   negativos_global_pct      day1  seguidores      fica      fora  rejeicao  \\\n6              0.544082 -0.268512   -0.245379 -0.165189 -0.518982    0.0460   \n8             -0.256007 -0.570611   -0.524663 -0.438190 -0.396869    0.8522   \n7             -0.476042 -0.623496    3.348856 -0.123991 -0.507434    0.1018   \n\n   predicao  \n6   0.25966  \n8   0.16658  \n7   0.13230  ",
      "text/html": "<div>\n<style scoped>\n    .dataframe tbody tr th:only-of-type {\n        vertical-align: middle;\n    }\n\n    .dataframe tbody tr th {\n        vertical-align: top;\n    }\n\n    .dataframe thead th {\n        text-align: right;\n    }\n</style>\n<table border=\"1\" class=\"dataframe\">\n  <thead>\n    <tr style=\"text-align: right;\">\n      <th></th>\n      <th>paredao</th>\n      <th>nome</th>\n      <th>positivos_individual_pct</th>\n      <th>neutros_individual_pct</th>\n      <th>negativos_individual_pct</th>\n      <th>positivos_global_pct</th>\n      <th>neutros_global_pct</th>\n      <th>negativos_global_pct</th>\n      <th>day1</th>\n      <th>seguidores</th>\n      <th>fica</th>\n      <th>fora</th>\n      <th>rejeicao</th>\n      <th>predicao</th>\n    </tr>\n  </thead>\n  <tbody>\n    <tr>\n      <th>6</th>\n      <td>7</td>\n      <td>babu</td>\n      <td>1.086410</td>\n      <td>-0.805217</td>\n      <td>-0.431152</td>\n      <td>0.904525</td>\n      <td>0.283412</td>\n      <td>0.544082</td>\n      <td>-0.268512</td>\n      <td>-0.245379</td>\n      <td>-0.165189</td>\n      <td>-0.518982</td>\n      <td>0.0460</td>\n      <td>0.25966</td>\n    </tr>\n    <tr>\n      <th>8</th>\n      <td>7</td>\n      <td>victor_hugo</td>\n      <td>-0.489664</td>\n      <td>0.462487</td>\n      <td>0.142213</td>\n      <td>-1.320905</td>\n      <td>-0.455266</td>\n      <td>-0.256007</td>\n      <td>-0.570611</td>\n      <td>-0.524663</td>\n      <td>-0.438190</td>\n      <td>-0.396869</td>\n      <td>0.8522</td>\n      <td>0.16658</td>\n    </tr>\n    <tr>\n      <th>7</th>\n      <td>7</td>\n      <td>manu_gavassi</td>\n      <td>1.372279</td>\n      <td>0.261504</td>\n      <td>-1.213874</td>\n      <td>0.165291</td>\n      <td>-0.054596</td>\n      <td>-0.476042</td>\n      <td>-0.623496</td>\n      <td>3.348856</td>\n      <td>-0.123991</td>\n      <td>-0.507434</td>\n      <td>0.1018</td>\n      <td>0.13230</td>\n    </tr>\n  </tbody>\n</table>\n</div>"
     },
     "metadata": {},
     "execution_count": 45
    }
   ],
   "source": [
    "test_df.sort_values(by=\"predicao\", ascending=False)"
   ]
  },
  {
   "cell_type": "markdown",
   "metadata": {},
   "source": [
    "# Paredao 8"
   ]
  },
  {
   "cell_type": "code",
   "execution_count": 46,
   "metadata": {},
   "outputs": [
    {
     "output_type": "execute_result",
     "data": {
      "text/plain": "   paredao   nome  positivos_individual_pct  neutros_individual_pct  \\\n17       8   babu                 -0.022954               -0.870930   \n18       8   rafa                 -0.778607               -1.524441   \n19       8  pyong                 -0.404069                0.119933   \n\n    negativos_individual_pct  positivos_global_pct  neutros_global_pct  \\\n17                  0.473895              0.180618           -0.213141   \n18                  1.409021             -1.093434           -0.996091   \n19                  0.254343              0.661727            0.982782   \n\n    negativos_global_pct      day1  seguidores      fica      fora  rejeicao  \n17             -0.143736  0.360970   -0.245379  0.396727  0.524236  0.466566  \n18             -0.395749  0.233296   -0.274006  0.083766 -0.506625 -1.183618  \n19              0.351518  1.197860    0.747726  0.062194  0.957593  0.606299  ",
      "text/html": "<div>\n<style scoped>\n    .dataframe tbody tr th:only-of-type {\n        vertical-align: middle;\n    }\n\n    .dataframe tbody tr th {\n        vertical-align: top;\n    }\n\n    .dataframe thead th {\n        text-align: right;\n    }\n</style>\n<table border=\"1\" class=\"dataframe\">\n  <thead>\n    <tr style=\"text-align: right;\">\n      <th></th>\n      <th>paredao</th>\n      <th>nome</th>\n      <th>positivos_individual_pct</th>\n      <th>neutros_individual_pct</th>\n      <th>negativos_individual_pct</th>\n      <th>positivos_global_pct</th>\n      <th>neutros_global_pct</th>\n      <th>negativos_global_pct</th>\n      <th>day1</th>\n      <th>seguidores</th>\n      <th>fica</th>\n      <th>fora</th>\n      <th>rejeicao</th>\n    </tr>\n  </thead>\n  <tbody>\n    <tr>\n      <th>17</th>\n      <td>8</td>\n      <td>babu</td>\n      <td>-0.022954</td>\n      <td>-0.870930</td>\n      <td>0.473895</td>\n      <td>0.180618</td>\n      <td>-0.213141</td>\n      <td>-0.143736</td>\n      <td>0.360970</td>\n      <td>-0.245379</td>\n      <td>0.396727</td>\n      <td>0.524236</td>\n      <td>0.466566</td>\n    </tr>\n    <tr>\n      <th>18</th>\n      <td>8</td>\n      <td>rafa</td>\n      <td>-0.778607</td>\n      <td>-1.524441</td>\n      <td>1.409021</td>\n      <td>-1.093434</td>\n      <td>-0.996091</td>\n      <td>-0.395749</td>\n      <td>0.233296</td>\n      <td>-0.274006</td>\n      <td>0.083766</td>\n      <td>-0.506625</td>\n      <td>-1.183618</td>\n    </tr>\n    <tr>\n      <th>19</th>\n      <td>8</td>\n      <td>pyong</td>\n      <td>-0.404069</td>\n      <td>0.119933</td>\n      <td>0.254343</td>\n      <td>0.661727</td>\n      <td>0.982782</td>\n      <td>0.351518</td>\n      <td>1.197860</td>\n      <td>0.747726</td>\n      <td>0.062194</td>\n      <td>0.957593</td>\n      <td>0.606299</td>\n    </tr>\n  </tbody>\n</table>\n</div>"
     },
     "metadata": {},
     "execution_count": 46
    }
   ],
   "source": [
    "train_df, test_df, mean, std = get_train_test(8, normalize=NORMALIZE, drop_columns=REMOVE)\n",
    "test_df\n",
    ""
   ]
  },
  {
   "cell_type": "code",
   "execution_count": 47,
   "metadata": {},
   "outputs": [],
   "source": [
    "x_train, y_train = train_df.drop(columns=[\"paredao\", \"nome\", \"rejeicao\"], axis=1).to_numpy(), train_df.drop(columns=train_df.columns[:-1], axis=1).to_numpy()\n",
    "x_test, y_test = test_df.drop(columns=[\"paredao\", \"nome\", \"rejeicao\"], axis=1).to_numpy(), test_df.drop(columns=train_df.columns[:-1], axis=1).to_numpy()"
   ]
  },
  {
   "cell_type": "code",
   "execution_count": 48,
   "metadata": {},
   "outputs": [],
   "source": [
    "regressor = KNeighborsRegressor(n_neighbors=K, metric=METRIC)"
   ]
  },
  {
   "cell_type": "code",
   "execution_count": 49,
   "metadata": {},
   "outputs": [],
   "source": [
    "_ = regressor.fit(x_train, y_train)\n",
    "prediction = regressor.predict(x_test)\n",
    "test_df[\"predicao\"] = prediction * std + mean\n",
    "test_df[\"rejeicao\"] =  test_df[\"rejeicao\"] * std + mean\n",
    "summary_df = summary_df.append(test_df, ignore_index=True, sort=False)"
   ]
  },
  {
   "cell_type": "code",
   "execution_count": 50,
   "metadata": {},
   "outputs": [
    {
     "output_type": "execute_result",
     "data": {
      "text/plain": "   paredao   nome  positivos_individual_pct  neutros_individual_pct  \\\n19       8  pyong                 -0.404069                0.119933   \n17       8   babu                 -0.022954               -0.870930   \n18       8   rafa                 -0.778607               -1.524441   \n\n    negativos_individual_pct  positivos_global_pct  neutros_global_pct  \\\n19                  0.254343              0.661727            0.982782   \n17                  0.473895              0.180618           -0.213141   \n18                  1.409021             -1.093434           -0.996091   \n\n    negativos_global_pct      day1  seguidores      fica      fora  rejeicao  \\\n19              0.351518  1.197860    0.747726  0.062194  0.957593    0.5170   \n17             -0.143736  0.360970   -0.245379  0.396727  0.524236    0.4771   \n18             -0.395749  0.233296   -0.274006  0.083766 -0.506625    0.0059   \n\n    predicao  \n19   0.48954  \n17   0.16840  \n18   0.11350  ",
      "text/html": "<div>\n<style scoped>\n    .dataframe tbody tr th:only-of-type {\n        vertical-align: middle;\n    }\n\n    .dataframe tbody tr th {\n        vertical-align: top;\n    }\n\n    .dataframe thead th {\n        text-align: right;\n    }\n</style>\n<table border=\"1\" class=\"dataframe\">\n  <thead>\n    <tr style=\"text-align: right;\">\n      <th></th>\n      <th>paredao</th>\n      <th>nome</th>\n      <th>positivos_individual_pct</th>\n      <th>neutros_individual_pct</th>\n      <th>negativos_individual_pct</th>\n      <th>positivos_global_pct</th>\n      <th>neutros_global_pct</th>\n      <th>negativos_global_pct</th>\n      <th>day1</th>\n      <th>seguidores</th>\n      <th>fica</th>\n      <th>fora</th>\n      <th>rejeicao</th>\n      <th>predicao</th>\n    </tr>\n  </thead>\n  <tbody>\n    <tr>\n      <th>19</th>\n      <td>8</td>\n      <td>pyong</td>\n      <td>-0.404069</td>\n      <td>0.119933</td>\n      <td>0.254343</td>\n      <td>0.661727</td>\n      <td>0.982782</td>\n      <td>0.351518</td>\n      <td>1.197860</td>\n      <td>0.747726</td>\n      <td>0.062194</td>\n      <td>0.957593</td>\n      <td>0.5170</td>\n      <td>0.48954</td>\n    </tr>\n    <tr>\n      <th>17</th>\n      <td>8</td>\n      <td>babu</td>\n      <td>-0.022954</td>\n      <td>-0.870930</td>\n      <td>0.473895</td>\n      <td>0.180618</td>\n      <td>-0.213141</td>\n      <td>-0.143736</td>\n      <td>0.360970</td>\n      <td>-0.245379</td>\n      <td>0.396727</td>\n      <td>0.524236</td>\n      <td>0.4771</td>\n      <td>0.16840</td>\n    </tr>\n    <tr>\n      <th>18</th>\n      <td>8</td>\n      <td>rafa</td>\n      <td>-0.778607</td>\n      <td>-1.524441</td>\n      <td>1.409021</td>\n      <td>-1.093434</td>\n      <td>-0.996091</td>\n      <td>-0.395749</td>\n      <td>0.233296</td>\n      <td>-0.274006</td>\n      <td>0.083766</td>\n      <td>-0.506625</td>\n      <td>0.0059</td>\n      <td>0.11350</td>\n    </tr>\n  </tbody>\n</table>\n</div>"
     },
     "metadata": {},
     "execution_count": 50
    }
   ],
   "source": [
    "test_df.sort_values(by=\"predicao\", ascending=False)"
   ]
  },
  {
   "cell_type": "markdown",
   "metadata": {},
   "source": [
    "# Paredão 9"
   ]
  },
  {
   "cell_type": "code",
   "execution_count": 51,
   "metadata": {},
   "outputs": [
    {
     "output_type": "execute_result",
     "data": {
      "text/plain": "   paredao       nome  positivos_individual_pct  neutros_individual_pct  \\\n14       9     daniel                 -0.415967                0.289477   \n15       9  flayslene                  0.347739               -0.782390   \n16       9        ivy                 -0.161435                0.100925   \n\n    negativos_individual_pct  positivos_global_pct  neutros_global_pct  \\\n14                  0.174935              0.090996            0.533047   \n15                  0.136623              0.258158           -0.322562   \n16                  0.073869             -0.600243           -0.436934   \n\n    negativos_global_pct      day1  seguidores      fica      fora  rejeicao  \n14              0.323595  1.272211   -0.507169 -0.424398  0.527744  1.626107  \n15             -0.075742 -0.583566   -0.444062 -0.085976 -0.474572 -0.870181  \n16             -0.435820  0.719771   -0.484491 -0.433769 -0.365734 -0.866679  ",
      "text/html": "<div>\n<style scoped>\n    .dataframe tbody tr th:only-of-type {\n        vertical-align: middle;\n    }\n\n    .dataframe tbody tr th {\n        vertical-align: top;\n    }\n\n    .dataframe thead th {\n        text-align: right;\n    }\n</style>\n<table border=\"1\" class=\"dataframe\">\n  <thead>\n    <tr style=\"text-align: right;\">\n      <th></th>\n      <th>paredao</th>\n      <th>nome</th>\n      <th>positivos_individual_pct</th>\n      <th>neutros_individual_pct</th>\n      <th>negativos_individual_pct</th>\n      <th>positivos_global_pct</th>\n      <th>neutros_global_pct</th>\n      <th>negativos_global_pct</th>\n      <th>day1</th>\n      <th>seguidores</th>\n      <th>fica</th>\n      <th>fora</th>\n      <th>rejeicao</th>\n    </tr>\n  </thead>\n  <tbody>\n    <tr>\n      <th>14</th>\n      <td>9</td>\n      <td>daniel</td>\n      <td>-0.415967</td>\n      <td>0.289477</td>\n      <td>0.174935</td>\n      <td>0.090996</td>\n      <td>0.533047</td>\n      <td>0.323595</td>\n      <td>1.272211</td>\n      <td>-0.507169</td>\n      <td>-0.424398</td>\n      <td>0.527744</td>\n      <td>1.626107</td>\n    </tr>\n    <tr>\n      <th>15</th>\n      <td>9</td>\n      <td>flayslene</td>\n      <td>0.347739</td>\n      <td>-0.782390</td>\n      <td>0.136623</td>\n      <td>0.258158</td>\n      <td>-0.322562</td>\n      <td>-0.075742</td>\n      <td>-0.583566</td>\n      <td>-0.444062</td>\n      <td>-0.085976</td>\n      <td>-0.474572</td>\n      <td>-0.870181</td>\n    </tr>\n    <tr>\n      <th>16</th>\n      <td>9</td>\n      <td>ivy</td>\n      <td>-0.161435</td>\n      <td>0.100925</td>\n      <td>0.073869</td>\n      <td>-0.600243</td>\n      <td>-0.436934</td>\n      <td>-0.435820</td>\n      <td>0.719771</td>\n      <td>-0.484491</td>\n      <td>-0.433769</td>\n      <td>-0.365734</td>\n      <td>-0.866679</td>\n    </tr>\n  </tbody>\n</table>\n</div>"
     },
     "metadata": {},
     "execution_count": 51
    }
   ],
   "source": [
    "train_df, test_df, mean, std = get_train_test(9, normalize=NORMALIZE, drop_columns=REMOVE)\n",
    "test_df\n",
    ""
   ]
  },
  {
   "cell_type": "code",
   "execution_count": 52,
   "metadata": {},
   "outputs": [],
   "source": [
    "x_train, y_train = train_df.drop(columns=[\"paredao\", \"nome\", \"rejeicao\"], axis=1).to_numpy(), train_df.drop(columns=train_df.columns[:-1], axis=1).to_numpy()\n",
    "x_test, y_test = test_df.drop(columns=[\"paredao\", \"nome\", \"rejeicao\"], axis=1).to_numpy(), test_df.drop(columns=train_df.columns[:-1], axis=1).to_numpy()"
   ]
  },
  {
   "cell_type": "code",
   "execution_count": 53,
   "metadata": {},
   "outputs": [],
   "source": [
    "regressor = KNeighborsRegressor(n_neighbors=K, metric=METRIC)"
   ]
  },
  {
   "cell_type": "code",
   "execution_count": 54,
   "metadata": {},
   "outputs": [],
   "source": [
    "_ = regressor.fit(x_train, y_train)\n",
    "prediction = regressor.predict(x_test)\n",
    "test_df[\"predicao\"] = prediction * std + mean\n",
    "test_df[\"rejeicao\"] =  test_df[\"rejeicao\"] * std + mean\n",
    "summary_df = summary_df.append(test_df, ignore_index=True, sort=False)"
   ]
  },
  {
   "cell_type": "code",
   "execution_count": 55,
   "metadata": {},
   "outputs": [
    {
     "output_type": "execute_result",
     "data": {
      "text/plain": "   paredao       nome  positivos_individual_pct  neutros_individual_pct  \\\n14       9     daniel                 -0.415967                0.289477   \n16       9        ivy                 -0.161435                0.100925   \n15       9  flayslene                  0.347739               -0.782390   \n\n    negativos_individual_pct  positivos_global_pct  neutros_global_pct  \\\n14                  0.174935              0.090996            0.533047   \n16                  0.073869             -0.600243           -0.436934   \n15                  0.136623              0.258158           -0.322562   \n\n    negativos_global_pct      day1  seguidores      fica      fora  rejeicao  \\\n14              0.323595  1.272211   -0.507169 -0.424398  0.527744    0.8082   \n16             -0.435820  0.719771   -0.484491 -0.433769 -0.365734    0.0964   \n15             -0.075742 -0.583566   -0.444062 -0.085976 -0.474572    0.0954   \n\n    predicao  \n14   0.55114  \n16   0.46024  \n15   0.23466  ",
      "text/html": "<div>\n<style scoped>\n    .dataframe tbody tr th:only-of-type {\n        vertical-align: middle;\n    }\n\n    .dataframe tbody tr th {\n        vertical-align: top;\n    }\n\n    .dataframe thead th {\n        text-align: right;\n    }\n</style>\n<table border=\"1\" class=\"dataframe\">\n  <thead>\n    <tr style=\"text-align: right;\">\n      <th></th>\n      <th>paredao</th>\n      <th>nome</th>\n      <th>positivos_individual_pct</th>\n      <th>neutros_individual_pct</th>\n      <th>negativos_individual_pct</th>\n      <th>positivos_global_pct</th>\n      <th>neutros_global_pct</th>\n      <th>negativos_global_pct</th>\n      <th>day1</th>\n      <th>seguidores</th>\n      <th>fica</th>\n      <th>fora</th>\n      <th>rejeicao</th>\n      <th>predicao</th>\n    </tr>\n  </thead>\n  <tbody>\n    <tr>\n      <th>14</th>\n      <td>9</td>\n      <td>daniel</td>\n      <td>-0.415967</td>\n      <td>0.289477</td>\n      <td>0.174935</td>\n      <td>0.090996</td>\n      <td>0.533047</td>\n      <td>0.323595</td>\n      <td>1.272211</td>\n      <td>-0.507169</td>\n      <td>-0.424398</td>\n      <td>0.527744</td>\n      <td>0.8082</td>\n      <td>0.55114</td>\n    </tr>\n    <tr>\n      <th>16</th>\n      <td>9</td>\n      <td>ivy</td>\n      <td>-0.161435</td>\n      <td>0.100925</td>\n      <td>0.073869</td>\n      <td>-0.600243</td>\n      <td>-0.436934</td>\n      <td>-0.435820</td>\n      <td>0.719771</td>\n      <td>-0.484491</td>\n      <td>-0.433769</td>\n      <td>-0.365734</td>\n      <td>0.0964</td>\n      <td>0.46024</td>\n    </tr>\n    <tr>\n      <th>15</th>\n      <td>9</td>\n      <td>flayslene</td>\n      <td>0.347739</td>\n      <td>-0.782390</td>\n      <td>0.136623</td>\n      <td>0.258158</td>\n      <td>-0.322562</td>\n      <td>-0.075742</td>\n      <td>-0.583566</td>\n      <td>-0.444062</td>\n      <td>-0.085976</td>\n      <td>-0.474572</td>\n      <td>0.0954</td>\n      <td>0.23466</td>\n    </tr>\n  </tbody>\n</table>\n</div>"
     },
     "metadata": {},
     "execution_count": 55
    }
   ],
   "source": [
    "test_df.sort_values(by=\"predicao\", ascending=False)"
   ]
  },
  {
   "cell_type": "markdown",
   "metadata": {},
   "source": [
    "# Paredão 10"
   ]
  },
  {
   "cell_type": "code",
   "execution_count": 56,
   "metadata": {},
   "outputs": [
    {
     "output_type": "execute_result",
     "data": {
      "text/plain": "   paredao          nome  positivos_individual_pct  neutros_individual_pct  \\\n11      10  manu_gavassi                 -0.092823                2.299866   \n12      10          mari                  0.585417                0.214207   \n13      10  felipe_prior                 -1.106925                0.953104   \n\n    negativos_individual_pct  positivos_global_pct  neutros_global_pct  \\\n11                 -1.130995              1.735802            1.502096   \n12                 -0.571572             -1.540103           -1.793601   \n13                  0.369842             -0.446787            0.065055   \n\n    negativos_global_pct      day1  seguidores      fica      fora  rejeicao  \n11              0.511881  1.227212    3.760466  4.870303  1.640787  0.284457  \n12             -1.394431 -0.227832   -0.295329  0.080937 -0.352028 -1.177665  \n13              0.694583  2.169433    0.039823  1.770043  4.617625  0.782454  ",
      "text/html": "<div>\n<style scoped>\n    .dataframe tbody tr th:only-of-type {\n        vertical-align: middle;\n    }\n\n    .dataframe tbody tr th {\n        vertical-align: top;\n    }\n\n    .dataframe thead th {\n        text-align: right;\n    }\n</style>\n<table border=\"1\" class=\"dataframe\">\n  <thead>\n    <tr style=\"text-align: right;\">\n      <th></th>\n      <th>paredao</th>\n      <th>nome</th>\n      <th>positivos_individual_pct</th>\n      <th>neutros_individual_pct</th>\n      <th>negativos_individual_pct</th>\n      <th>positivos_global_pct</th>\n      <th>neutros_global_pct</th>\n      <th>negativos_global_pct</th>\n      <th>day1</th>\n      <th>seguidores</th>\n      <th>fica</th>\n      <th>fora</th>\n      <th>rejeicao</th>\n    </tr>\n  </thead>\n  <tbody>\n    <tr>\n      <th>11</th>\n      <td>10</td>\n      <td>manu_gavassi</td>\n      <td>-0.092823</td>\n      <td>2.299866</td>\n      <td>-1.130995</td>\n      <td>1.735802</td>\n      <td>1.502096</td>\n      <td>0.511881</td>\n      <td>1.227212</td>\n      <td>3.760466</td>\n      <td>4.870303</td>\n      <td>1.640787</td>\n      <td>0.284457</td>\n    </tr>\n    <tr>\n      <th>12</th>\n      <td>10</td>\n      <td>mari</td>\n      <td>0.585417</td>\n      <td>0.214207</td>\n      <td>-0.571572</td>\n      <td>-1.540103</td>\n      <td>-1.793601</td>\n      <td>-1.394431</td>\n      <td>-0.227832</td>\n      <td>-0.295329</td>\n      <td>0.080937</td>\n      <td>-0.352028</td>\n      <td>-1.177665</td>\n    </tr>\n    <tr>\n      <th>13</th>\n      <td>10</td>\n      <td>felipe_prior</td>\n      <td>-1.106925</td>\n      <td>0.953104</td>\n      <td>0.369842</td>\n      <td>-0.446787</td>\n      <td>0.065055</td>\n      <td>0.694583</td>\n      <td>2.169433</td>\n      <td>0.039823</td>\n      <td>1.770043</td>\n      <td>4.617625</td>\n      <td>0.782454</td>\n    </tr>\n  </tbody>\n</table>\n</div>"
     },
     "metadata": {},
     "execution_count": 56
    }
   ],
   "source": [
    "train_df, test_df, mean, std = get_train_test(10, normalize=NORMALIZE, drop_columns=REMOVE)\n",
    "test_df\n",
    ""
   ]
  },
  {
   "cell_type": "code",
   "execution_count": 57,
   "metadata": {},
   "outputs": [],
   "source": [
    "x_train, y_train = train_df.drop(columns=[\"paredao\", \"nome\", \"rejeicao\"], axis=1).to_numpy(), train_df.drop(columns=train_df.columns[:-1], axis=1).to_numpy()\n",
    "x_test, y_test = test_df.drop(columns=[\"paredao\", \"nome\", \"rejeicao\"], axis=1).to_numpy(), test_df.drop(columns=train_df.columns[:-1], axis=1).to_numpy()"
   ]
  },
  {
   "cell_type": "code",
   "execution_count": 58,
   "metadata": {},
   "outputs": [],
   "source": [
    "regressor = KNeighborsRegressor(n_neighbors=K, metric=METRIC)"
   ]
  },
  {
   "cell_type": "code",
   "execution_count": 59,
   "metadata": {},
   "outputs": [],
   "source": [
    "_ = regressor.fit(x_train, y_train)\n",
    "prediction = regressor.predict(x_test)\n",
    "test_df[\"predicao\"] = prediction * std + mean\n",
    "test_df[\"rejeicao\"] =  test_df[\"rejeicao\"] * std + mean\n",
    "summary_df = summary_df.append(test_df, ignore_index=True, sort=False)"
   ]
  },
  {
   "cell_type": "code",
   "execution_count": 60,
   "metadata": {},
   "outputs": [
    {
     "output_type": "execute_result",
     "data": {
      "text/plain": "   paredao          nome  positivos_individual_pct  neutros_individual_pct  \\\n13      10  felipe_prior                 -1.106925                0.953104   \n11      10  manu_gavassi                 -0.092823                2.299866   \n12      10          mari                  0.585417                0.214207   \n\n    negativos_individual_pct  positivos_global_pct  neutros_global_pct  \\\n13                  0.369842             -0.446787            0.065055   \n11                 -1.130995              1.735802            1.502096   \n12                 -0.571572             -1.540103           -1.793601   \n\n    negativos_global_pct      day1  seguidores      fica      fora  rejeicao  \\\n13              0.694583  2.169433    0.039823  1.770043  4.617625    0.5673   \n11              0.511881  1.227212    3.760466  4.870303  1.640787    0.4251   \n12             -1.394431 -0.227832   -0.295329  0.080937 -0.352028    0.0076   \n\n    predicao  \n13   0.63314  \n11   0.29996  \n12   0.29804  ",
      "text/html": "<div>\n<style scoped>\n    .dataframe tbody tr th:only-of-type {\n        vertical-align: middle;\n    }\n\n    .dataframe tbody tr th {\n        vertical-align: top;\n    }\n\n    .dataframe thead th {\n        text-align: right;\n    }\n</style>\n<table border=\"1\" class=\"dataframe\">\n  <thead>\n    <tr style=\"text-align: right;\">\n      <th></th>\n      <th>paredao</th>\n      <th>nome</th>\n      <th>positivos_individual_pct</th>\n      <th>neutros_individual_pct</th>\n      <th>negativos_individual_pct</th>\n      <th>positivos_global_pct</th>\n      <th>neutros_global_pct</th>\n      <th>negativos_global_pct</th>\n      <th>day1</th>\n      <th>seguidores</th>\n      <th>fica</th>\n      <th>fora</th>\n      <th>rejeicao</th>\n      <th>predicao</th>\n    </tr>\n  </thead>\n  <tbody>\n    <tr>\n      <th>13</th>\n      <td>10</td>\n      <td>felipe_prior</td>\n      <td>-1.106925</td>\n      <td>0.953104</td>\n      <td>0.369842</td>\n      <td>-0.446787</td>\n      <td>0.065055</td>\n      <td>0.694583</td>\n      <td>2.169433</td>\n      <td>0.039823</td>\n      <td>1.770043</td>\n      <td>4.617625</td>\n      <td>0.5673</td>\n      <td>0.63314</td>\n    </tr>\n    <tr>\n      <th>11</th>\n      <td>10</td>\n      <td>manu_gavassi</td>\n      <td>-0.092823</td>\n      <td>2.299866</td>\n      <td>-1.130995</td>\n      <td>1.735802</td>\n      <td>1.502096</td>\n      <td>0.511881</td>\n      <td>1.227212</td>\n      <td>3.760466</td>\n      <td>4.870303</td>\n      <td>1.640787</td>\n      <td>0.4251</td>\n      <td>0.29996</td>\n    </tr>\n    <tr>\n      <th>12</th>\n      <td>10</td>\n      <td>mari</td>\n      <td>0.585417</td>\n      <td>0.214207</td>\n      <td>-0.571572</td>\n      <td>-1.540103</td>\n      <td>-1.793601</td>\n      <td>-1.394431</td>\n      <td>-0.227832</td>\n      <td>-0.295329</td>\n      <td>0.080937</td>\n      <td>-0.352028</td>\n      <td>0.0076</td>\n      <td>0.29804</td>\n    </tr>\n  </tbody>\n</table>\n</div>"
     },
     "metadata": {},
     "execution_count": 60
    }
   ],
   "source": [
    "test_df.sort_values(by=\"predicao\", ascending=False)"
   ]
  },
  {
   "cell_type": "markdown",
   "metadata": {},
   "source": [
    "# Paredao 11"
   ]
  },
  {
   "cell_type": "code",
   "execution_count": 61,
   "metadata": {},
   "outputs": [
    {
     "output_type": "execute_result",
     "data": {
      "text/plain": "   paredao    nome  positivos_individual_pct  neutros_individual_pct  \\\n26      11    babu                  0.949291               -0.626115   \n27      11    gabi                  0.828629               -0.670701   \n28      11  thelma                  0.235224                0.372347   \n\n    negativos_individual_pct  positivos_global_pct  neutros_global_pct  \\\n26                 -0.417288              0.211517           -0.124059   \n27                 -0.299252             -0.333357           -0.515712   \n28                 -0.379510             -0.129249            0.413322   \n\n    negativos_global_pct      day1  seguidores      fica      fora  rejeicao  \n26             -0.018638  0.684661    0.036155  0.321050 -0.457899 -1.060345  \n27             -0.297216  0.504916   -0.324028 -0.313889  0.318971  0.883314  \n28              0.127887  0.242121   -0.191782  0.789785 -0.252741  0.066277  ",
      "text/html": "<div>\n<style scoped>\n    .dataframe tbody tr th:only-of-type {\n        vertical-align: middle;\n    }\n\n    .dataframe tbody tr th {\n        vertical-align: top;\n    }\n\n    .dataframe thead th {\n        text-align: right;\n    }\n</style>\n<table border=\"1\" class=\"dataframe\">\n  <thead>\n    <tr style=\"text-align: right;\">\n      <th></th>\n      <th>paredao</th>\n      <th>nome</th>\n      <th>positivos_individual_pct</th>\n      <th>neutros_individual_pct</th>\n      <th>negativos_individual_pct</th>\n      <th>positivos_global_pct</th>\n      <th>neutros_global_pct</th>\n      <th>negativos_global_pct</th>\n      <th>day1</th>\n      <th>seguidores</th>\n      <th>fica</th>\n      <th>fora</th>\n      <th>rejeicao</th>\n    </tr>\n  </thead>\n  <tbody>\n    <tr>\n      <th>26</th>\n      <td>11</td>\n      <td>babu</td>\n      <td>0.949291</td>\n      <td>-0.626115</td>\n      <td>-0.417288</td>\n      <td>0.211517</td>\n      <td>-0.124059</td>\n      <td>-0.018638</td>\n      <td>0.684661</td>\n      <td>0.036155</td>\n      <td>0.321050</td>\n      <td>-0.457899</td>\n      <td>-1.060345</td>\n    </tr>\n    <tr>\n      <th>27</th>\n      <td>11</td>\n      <td>gabi</td>\n      <td>0.828629</td>\n      <td>-0.670701</td>\n      <td>-0.299252</td>\n      <td>-0.333357</td>\n      <td>-0.515712</td>\n      <td>-0.297216</td>\n      <td>0.504916</td>\n      <td>-0.324028</td>\n      <td>-0.313889</td>\n      <td>0.318971</td>\n      <td>0.883314</td>\n    </tr>\n    <tr>\n      <th>28</th>\n      <td>11</td>\n      <td>thelma</td>\n      <td>0.235224</td>\n      <td>0.372347</td>\n      <td>-0.379510</td>\n      <td>-0.129249</td>\n      <td>0.413322</td>\n      <td>0.127887</td>\n      <td>0.242121</td>\n      <td>-0.191782</td>\n      <td>0.789785</td>\n      <td>-0.252741</td>\n      <td>0.066277</td>\n    </tr>\n  </tbody>\n</table>\n</div>"
     },
     "metadata": {},
     "execution_count": 61
    }
   ],
   "source": [
    "train_df, test_df, mean, std = get_train_test(11, normalize=NORMALIZE, drop_columns=REMOVE)\n",
    "test_df\n",
    ""
   ]
  },
  {
   "cell_type": "code",
   "execution_count": 62,
   "metadata": {},
   "outputs": [],
   "source": [
    "x_train, y_train = train_df.drop(columns=[\"paredao\", \"nome\", \"rejeicao\"], axis=1).to_numpy(), train_df.drop(columns=train_df.columns[:-1], axis=1).to_numpy()\n",
    "x_test, y_test = test_df.drop(columns=[\"paredao\", \"nome\", \"rejeicao\"], axis=1).to_numpy(), test_df.drop(columns=train_df.columns[:-1], axis=1).to_numpy()"
   ]
  },
  {
   "cell_type": "code",
   "execution_count": 63,
   "metadata": {},
   "outputs": [],
   "source": [
    "regressor = KNeighborsRegressor(n_neighbors=K, metric=METRIC)"
   ]
  },
  {
   "cell_type": "code",
   "execution_count": 64,
   "metadata": {},
   "outputs": [],
   "source": [
    "_ = regressor.fit(x_train, y_train)\n",
    "prediction = regressor.predict(x_test)\n",
    "test_df[\"predicao\"] = prediction * std + mean\n",
    "test_df[\"rejeicao\"] =  test_df[\"rejeicao\"] * std + mean\n",
    "summary_df = summary_df.append(test_df, ignore_index=True, sort=False)"
   ]
  },
  {
   "cell_type": "code",
   "execution_count": 65,
   "metadata": {},
   "outputs": [
    {
     "output_type": "execute_result",
     "data": {
      "text/plain": "   paredao    nome  positivos_individual_pct  neutros_individual_pct  \\\n26      11    babu                  0.949291               -0.626115   \n27      11    gabi                  0.828629               -0.670701   \n28      11  thelma                  0.235224                0.372347   \n\n    negativos_individual_pct  positivos_global_pct  neutros_global_pct  \\\n26                 -0.417288              0.211517           -0.124059   \n27                 -0.299252             -0.333357           -0.515712   \n28                 -0.379510             -0.129249            0.413322   \n\n    negativos_global_pct      day1  seguidores      fica      fora  rejeicao  \\\n26             -0.018638  0.684661    0.036155  0.321050 -0.457899    0.0411   \n27             -0.297216  0.504916   -0.324028 -0.313889  0.318971    0.5961   \n28              0.127887  0.242121   -0.191782  0.789785 -0.252741    0.3628   \n\n    predicao  \n26   0.30462  \n27   0.30462  \n28   0.30462  ",
      "text/html": "<div>\n<style scoped>\n    .dataframe tbody tr th:only-of-type {\n        vertical-align: middle;\n    }\n\n    .dataframe tbody tr th {\n        vertical-align: top;\n    }\n\n    .dataframe thead th {\n        text-align: right;\n    }\n</style>\n<table border=\"1\" class=\"dataframe\">\n  <thead>\n    <tr style=\"text-align: right;\">\n      <th></th>\n      <th>paredao</th>\n      <th>nome</th>\n      <th>positivos_individual_pct</th>\n      <th>neutros_individual_pct</th>\n      <th>negativos_individual_pct</th>\n      <th>positivos_global_pct</th>\n      <th>neutros_global_pct</th>\n      <th>negativos_global_pct</th>\n      <th>day1</th>\n      <th>seguidores</th>\n      <th>fica</th>\n      <th>fora</th>\n      <th>rejeicao</th>\n      <th>predicao</th>\n    </tr>\n  </thead>\n  <tbody>\n    <tr>\n      <th>26</th>\n      <td>11</td>\n      <td>babu</td>\n      <td>0.949291</td>\n      <td>-0.626115</td>\n      <td>-0.417288</td>\n      <td>0.211517</td>\n      <td>-0.124059</td>\n      <td>-0.018638</td>\n      <td>0.684661</td>\n      <td>0.036155</td>\n      <td>0.321050</td>\n      <td>-0.457899</td>\n      <td>0.0411</td>\n      <td>0.30462</td>\n    </tr>\n    <tr>\n      <th>27</th>\n      <td>11</td>\n      <td>gabi</td>\n      <td>0.828629</td>\n      <td>-0.670701</td>\n      <td>-0.299252</td>\n      <td>-0.333357</td>\n      <td>-0.515712</td>\n      <td>-0.297216</td>\n      <td>0.504916</td>\n      <td>-0.324028</td>\n      <td>-0.313889</td>\n      <td>0.318971</td>\n      <td>0.5961</td>\n      <td>0.30462</td>\n    </tr>\n    <tr>\n      <th>28</th>\n      <td>11</td>\n      <td>thelma</td>\n      <td>0.235224</td>\n      <td>0.372347</td>\n      <td>-0.379510</td>\n      <td>-0.129249</td>\n      <td>0.413322</td>\n      <td>0.127887</td>\n      <td>0.242121</td>\n      <td>-0.191782</td>\n      <td>0.789785</td>\n      <td>-0.252741</td>\n      <td>0.3628</td>\n      <td>0.30462</td>\n    </tr>\n  </tbody>\n</table>\n</div>"
     },
     "metadata": {},
     "execution_count": 65
    }
   ],
   "source": [
    "test_df.sort_values(by=\"predicao\", ascending=False)"
   ]
  },
  {
   "cell_type": "markdown",
   "metadata": {},
   "source": [
    "# Sumarizando"
   ]
  },
  {
   "cell_type": "code",
   "execution_count": 66,
   "metadata": {},
   "outputs": [
    {
     "output_type": "execute_result",
     "data": {
      "text/plain": "    negativos_global_pct             nome      fora paredao  \\\n0              -0.822482   bianca_andrade -0.527130       1   \n1               2.702153     lucas_chumbo -0.453420       1   \n2              -1.895266             babu -0.522705       2   \n3               0.754903           petrix  0.022943       2   \n4              -1.485532            pyong -0.524270       2   \n5               0.370290           hadson -0.298877       2   \n6               0.750190     felipe_prior -0.526213       3   \n7               1.129482           hadson -0.454175       3   \n8              -0.022919             babu -0.513316       4   \n9              -1.526085      victor_hugo -0.499556       4   \n10              1.361037            lucas -0.209141       4   \n11             -0.793069   bianca_andrade -0.426817       5   \n12             -0.901750        flayslene -0.375339       5   \n13              1.506852     felipe_prior -0.148867       5   \n14             -1.425415  gizelly_bicalho -0.507272       6   \n15              0.651485        guilherme  0.936548       6   \n16              0.585963            pyong  0.273536       6   \n17              0.544082             babu -0.518982       7   \n18             -0.476042     manu_gavassi -0.507434       7   \n19             -0.256007      victor_hugo -0.396869       7   \n20             -0.143736             babu  0.524236       8   \n21             -0.395749             rafa -0.506625       8   \n22              0.351518            pyong  0.957593       8   \n23              0.323595           daniel  0.527744       9   \n24             -0.075742        flayslene -0.474572       9   \n25             -0.435820              ivy -0.365734       9   \n26              0.511881     manu_gavassi  1.640787      10   \n27             -1.394431             mari -0.352028      10   \n28              0.694583     felipe_prior  4.617625      10   \n29             -0.018638             babu -0.457899      11   \n30             -0.297216             gabi  0.318971      11   \n31              0.127887           thelma -0.252741      11   \n\n    neutros_individual_pct  rejeicao  positivos_global_pct  seguidores  \\\n0                 0.694588    0.2446              1.119272   -0.167656   \n1                 0.297313    0.7594              1.391614   -0.526805   \n2                 1.253614    0.0044             -2.217411   -0.245379   \n3                 0.034264    0.8027             -0.216688   -0.517464   \n4                -0.433936    0.0066              0.082330    0.747726   \n5                -0.589637    0.1863             -0.661293   -0.528428   \n6                 0.652012    0.2029              1.628578   -0.354340   \n7                 2.084500    0.7971              0.882308   -0.528428   \n8                -0.845679    0.0130             -0.262035   -0.245379   \n9                 0.658502    0.3608             -1.724828   -0.524663   \n10               -0.969196    0.6262              1.735774   -0.516336   \n11                1.760777    0.5309              0.217874   -0.167656   \n12               -0.194888    0.1764             -1.142354   -0.444062   \n13               -1.145978    0.2927              0.673392   -0.354340   \n14                0.103645    0.0064             -0.008121   -0.326546   \n15               -1.761684    0.5607             -0.683245   -0.444706   \n16               -1.392274    0.4329              0.440277    0.747726   \n17               -0.805217    0.0460              0.904525   -0.245379   \n18                0.261504    0.1018              0.165291    3.348856   \n19                0.462487    0.8522             -1.320905   -0.524663   \n20               -0.870930    0.4771              0.180618   -0.245379   \n21               -1.524441    0.0059             -1.093434   -0.274006   \n22                0.119933    0.5170              0.661727    0.747726   \n23                0.289477    0.8082              0.090996   -0.507169   \n24               -0.782390    0.0954              0.258158   -0.444062   \n25                0.100925    0.0964             -0.600243   -0.484491   \n26                2.299866    0.4251              1.735802    3.760466   \n27                0.214207    0.0076             -1.540103   -0.295329   \n28                0.953104    0.5673             -0.446787    0.039823   \n29               -0.626115    0.0411              0.211517    0.036155   \n30               -0.670701    0.5961             -0.333357   -0.324028   \n31                0.372347    0.3628             -0.129249   -0.191782   \n\n        day1      fica  negativos_individual_pct  positivos_individual_pct  \\\n0  -1.094324 -0.344478                 -1.691078                  1.691474   \n1  -0.036008 -0.435007                  0.525974                 -0.868480   \n2  -1.109533 -0.439427                 -1.316904                  0.841864   \n3   1.461031 -0.435361                  1.007125                 -1.306109   \n4  -0.676380 -0.394517                 -1.675749                  2.424619   \n5   0.120705 -0.442080                  1.319713                 -1.288287   \n6  -1.389163 -0.425813                 -0.785636                  0.566176   \n7  -1.341286 -0.440665                 -0.738772                 -0.448945   \n8  -0.316891 -0.422277                  1.037492                 -0.757918   \n9  -1.031990 -0.437306                 -0.201736                 -0.182145   \n10  0.556299 -0.407778                  0.977258                 -0.598789   \n11 -1.335340 -0.338820                 -0.718459                 -0.258918   \n12 -1.339283 -0.396285                  0.746119                 -0.820707   \n13 -1.266309 -0.305226                  1.628649                 -1.310870   \n14 -0.152104 -0.207978                 -1.657792                  2.043195   \n15  1.633704 -0.403181                  1.887461                 -1.229993   \n16  0.978436 -0.113205                  1.065236                 -0.428713   \n17 -0.268512 -0.165189                 -0.431152                  1.086410   \n18 -0.623496 -0.123991                 -1.213874                  1.372279   \n19 -0.570611 -0.438190                  0.142213                 -0.489664   \n20  0.360970  0.396727                  0.473895                 -0.022954   \n21  0.233296  0.083766                  1.409021                 -0.778607   \n22  1.197860  0.062194                  0.254343                 -0.404069   \n23  1.272211 -0.424398                  0.174935                 -0.415967   \n24 -0.583566 -0.085976                  0.136623                  0.347739   \n25  0.719771 -0.433769                  0.073869                 -0.161435   \n26  1.227212  4.870303                 -1.130995                 -0.092823   \n27 -0.227832  0.080937                 -0.571572                  0.585417   \n28  2.169433  1.770043                  0.369842                 -1.106925   \n29  0.684661  0.321050                 -0.417288                  0.949291   \n30  0.504916 -0.313889                 -0.299252                  0.828629   \n31  0.242121  0.789785                 -0.379510                  0.235224   \n\n    neutros_global_pct  predicao  \n0            -0.126126   0.15856  \n1             2.390624   0.54432  \n2            -2.095263   0.28068  \n3             0.748123   0.48304  \n4            -1.295977   0.17916  \n5            -0.074282   0.28892  \n6             0.619924   0.25594  \n7             1.644574   0.50146  \n8            -0.140402   0.17222  \n9            -1.499780   0.22740  \n10            1.413732   0.56094  \n11            0.204274   0.49192  \n12           -1.097732   0.28364  \n13            0.667008   0.27076  \n14           -0.732017   0.17920  \n15            0.008504   0.29700  \n16            0.497064   0.48720  \n17            0.283412   0.25966  \n18           -0.054596   0.13230  \n19           -0.455266   0.16658  \n20           -0.213141   0.16840  \n21           -0.996091   0.11350  \n22            0.982782   0.48954  \n23            0.533047   0.55114  \n24           -0.322562   0.23466  \n25           -0.436934   0.46024  \n26            1.502096   0.29996  \n27           -1.793601   0.29804  \n28            0.065055   0.63314  \n29           -0.124059   0.30462  \n30           -0.515712   0.30462  \n31            0.413322   0.30462  ",
      "text/html": "<div>\n<style scoped>\n    .dataframe tbody tr th:only-of-type {\n        vertical-align: middle;\n    }\n\n    .dataframe tbody tr th {\n        vertical-align: top;\n    }\n\n    .dataframe thead th {\n        text-align: right;\n    }\n</style>\n<table border=\"1\" class=\"dataframe\">\n  <thead>\n    <tr style=\"text-align: right;\">\n      <th></th>\n      <th>negativos_global_pct</th>\n      <th>nome</th>\n      <th>fora</th>\n      <th>paredao</th>\n      <th>neutros_individual_pct</th>\n      <th>rejeicao</th>\n      <th>positivos_global_pct</th>\n      <th>seguidores</th>\n      <th>day1</th>\n      <th>fica</th>\n      <th>negativos_individual_pct</th>\n      <th>positivos_individual_pct</th>\n      <th>neutros_global_pct</th>\n      <th>predicao</th>\n    </tr>\n  </thead>\n  <tbody>\n    <tr>\n      <th>0</th>\n      <td>-0.822482</td>\n      <td>bianca_andrade</td>\n      <td>-0.527130</td>\n      <td>1</td>\n      <td>0.694588</td>\n      <td>0.2446</td>\n      <td>1.119272</td>\n      <td>-0.167656</td>\n      <td>-1.094324</td>\n      <td>-0.344478</td>\n      <td>-1.691078</td>\n      <td>1.691474</td>\n      <td>-0.126126</td>\n      <td>0.15856</td>\n    </tr>\n    <tr>\n      <th>1</th>\n      <td>2.702153</td>\n      <td>lucas_chumbo</td>\n      <td>-0.453420</td>\n      <td>1</td>\n      <td>0.297313</td>\n      <td>0.7594</td>\n      <td>1.391614</td>\n      <td>-0.526805</td>\n      <td>-0.036008</td>\n      <td>-0.435007</td>\n      <td>0.525974</td>\n      <td>-0.868480</td>\n      <td>2.390624</td>\n      <td>0.54432</td>\n    </tr>\n    <tr>\n      <th>2</th>\n      <td>-1.895266</td>\n      <td>babu</td>\n      <td>-0.522705</td>\n      <td>2</td>\n      <td>1.253614</td>\n      <td>0.0044</td>\n      <td>-2.217411</td>\n      <td>-0.245379</td>\n      <td>-1.109533</td>\n      <td>-0.439427</td>\n      <td>-1.316904</td>\n      <td>0.841864</td>\n      <td>-2.095263</td>\n      <td>0.28068</td>\n    </tr>\n    <tr>\n      <th>3</th>\n      <td>0.754903</td>\n      <td>petrix</td>\n      <td>0.022943</td>\n      <td>2</td>\n      <td>0.034264</td>\n      <td>0.8027</td>\n      <td>-0.216688</td>\n      <td>-0.517464</td>\n      <td>1.461031</td>\n      <td>-0.435361</td>\n      <td>1.007125</td>\n      <td>-1.306109</td>\n      <td>0.748123</td>\n      <td>0.48304</td>\n    </tr>\n    <tr>\n      <th>4</th>\n      <td>-1.485532</td>\n      <td>pyong</td>\n      <td>-0.524270</td>\n      <td>2</td>\n      <td>-0.433936</td>\n      <td>0.0066</td>\n      <td>0.082330</td>\n      <td>0.747726</td>\n      <td>-0.676380</td>\n      <td>-0.394517</td>\n      <td>-1.675749</td>\n      <td>2.424619</td>\n      <td>-1.295977</td>\n      <td>0.17916</td>\n    </tr>\n    <tr>\n      <th>5</th>\n      <td>0.370290</td>\n      <td>hadson</td>\n      <td>-0.298877</td>\n      <td>2</td>\n      <td>-0.589637</td>\n      <td>0.1863</td>\n      <td>-0.661293</td>\n      <td>-0.528428</td>\n      <td>0.120705</td>\n      <td>-0.442080</td>\n      <td>1.319713</td>\n      <td>-1.288287</td>\n      <td>-0.074282</td>\n      <td>0.28892</td>\n    </tr>\n    <tr>\n      <th>6</th>\n      <td>0.750190</td>\n      <td>felipe_prior</td>\n      <td>-0.526213</td>\n      <td>3</td>\n      <td>0.652012</td>\n      <td>0.2029</td>\n      <td>1.628578</td>\n      <td>-0.354340</td>\n      <td>-1.389163</td>\n      <td>-0.425813</td>\n      <td>-0.785636</td>\n      <td>0.566176</td>\n      <td>0.619924</td>\n      <td>0.25594</td>\n    </tr>\n    <tr>\n      <th>7</th>\n      <td>1.129482</td>\n      <td>hadson</td>\n      <td>-0.454175</td>\n      <td>3</td>\n      <td>2.084500</td>\n      <td>0.7971</td>\n      <td>0.882308</td>\n      <td>-0.528428</td>\n      <td>-1.341286</td>\n      <td>-0.440665</td>\n      <td>-0.738772</td>\n      <td>-0.448945</td>\n      <td>1.644574</td>\n      <td>0.50146</td>\n    </tr>\n    <tr>\n      <th>8</th>\n      <td>-0.022919</td>\n      <td>babu</td>\n      <td>-0.513316</td>\n      <td>4</td>\n      <td>-0.845679</td>\n      <td>0.0130</td>\n      <td>-0.262035</td>\n      <td>-0.245379</td>\n      <td>-0.316891</td>\n      <td>-0.422277</td>\n      <td>1.037492</td>\n      <td>-0.757918</td>\n      <td>-0.140402</td>\n      <td>0.17222</td>\n    </tr>\n    <tr>\n      <th>9</th>\n      <td>-1.526085</td>\n      <td>victor_hugo</td>\n      <td>-0.499556</td>\n      <td>4</td>\n      <td>0.658502</td>\n      <td>0.3608</td>\n      <td>-1.724828</td>\n      <td>-0.524663</td>\n      <td>-1.031990</td>\n      <td>-0.437306</td>\n      <td>-0.201736</td>\n      <td>-0.182145</td>\n      <td>-1.499780</td>\n      <td>0.22740</td>\n    </tr>\n    <tr>\n      <th>10</th>\n      <td>1.361037</td>\n      <td>lucas</td>\n      <td>-0.209141</td>\n      <td>4</td>\n      <td>-0.969196</td>\n      <td>0.6262</td>\n      <td>1.735774</td>\n      <td>-0.516336</td>\n      <td>0.556299</td>\n      <td>-0.407778</td>\n      <td>0.977258</td>\n      <td>-0.598789</td>\n      <td>1.413732</td>\n      <td>0.56094</td>\n    </tr>\n    <tr>\n      <th>11</th>\n      <td>-0.793069</td>\n      <td>bianca_andrade</td>\n      <td>-0.426817</td>\n      <td>5</td>\n      <td>1.760777</td>\n      <td>0.5309</td>\n      <td>0.217874</td>\n      <td>-0.167656</td>\n      <td>-1.335340</td>\n      <td>-0.338820</td>\n      <td>-0.718459</td>\n      <td>-0.258918</td>\n      <td>0.204274</td>\n      <td>0.49192</td>\n    </tr>\n    <tr>\n      <th>12</th>\n      <td>-0.901750</td>\n      <td>flayslene</td>\n      <td>-0.375339</td>\n      <td>5</td>\n      <td>-0.194888</td>\n      <td>0.1764</td>\n      <td>-1.142354</td>\n      <td>-0.444062</td>\n      <td>-1.339283</td>\n      <td>-0.396285</td>\n      <td>0.746119</td>\n      <td>-0.820707</td>\n      <td>-1.097732</td>\n      <td>0.28364</td>\n    </tr>\n    <tr>\n      <th>13</th>\n      <td>1.506852</td>\n      <td>felipe_prior</td>\n      <td>-0.148867</td>\n      <td>5</td>\n      <td>-1.145978</td>\n      <td>0.2927</td>\n      <td>0.673392</td>\n      <td>-0.354340</td>\n      <td>-1.266309</td>\n      <td>-0.305226</td>\n      <td>1.628649</td>\n      <td>-1.310870</td>\n      <td>0.667008</td>\n      <td>0.27076</td>\n    </tr>\n    <tr>\n      <th>14</th>\n      <td>-1.425415</td>\n      <td>gizelly_bicalho</td>\n      <td>-0.507272</td>\n      <td>6</td>\n      <td>0.103645</td>\n      <td>0.0064</td>\n      <td>-0.008121</td>\n      <td>-0.326546</td>\n      <td>-0.152104</td>\n      <td>-0.207978</td>\n      <td>-1.657792</td>\n      <td>2.043195</td>\n      <td>-0.732017</td>\n      <td>0.17920</td>\n    </tr>\n    <tr>\n      <th>15</th>\n      <td>0.651485</td>\n      <td>guilherme</td>\n      <td>0.936548</td>\n      <td>6</td>\n      <td>-1.761684</td>\n      <td>0.5607</td>\n      <td>-0.683245</td>\n      <td>-0.444706</td>\n      <td>1.633704</td>\n      <td>-0.403181</td>\n      <td>1.887461</td>\n      <td>-1.229993</td>\n      <td>0.008504</td>\n      <td>0.29700</td>\n    </tr>\n    <tr>\n      <th>16</th>\n      <td>0.585963</td>\n      <td>pyong</td>\n      <td>0.273536</td>\n      <td>6</td>\n      <td>-1.392274</td>\n      <td>0.4329</td>\n      <td>0.440277</td>\n      <td>0.747726</td>\n      <td>0.978436</td>\n      <td>-0.113205</td>\n      <td>1.065236</td>\n      <td>-0.428713</td>\n      <td>0.497064</td>\n      <td>0.48720</td>\n    </tr>\n    <tr>\n      <th>17</th>\n      <td>0.544082</td>\n      <td>babu</td>\n      <td>-0.518982</td>\n      <td>7</td>\n      <td>-0.805217</td>\n      <td>0.0460</td>\n      <td>0.904525</td>\n      <td>-0.245379</td>\n      <td>-0.268512</td>\n      <td>-0.165189</td>\n      <td>-0.431152</td>\n      <td>1.086410</td>\n      <td>0.283412</td>\n      <td>0.25966</td>\n    </tr>\n    <tr>\n      <th>18</th>\n      <td>-0.476042</td>\n      <td>manu_gavassi</td>\n      <td>-0.507434</td>\n      <td>7</td>\n      <td>0.261504</td>\n      <td>0.1018</td>\n      <td>0.165291</td>\n      <td>3.348856</td>\n      <td>-0.623496</td>\n      <td>-0.123991</td>\n      <td>-1.213874</td>\n      <td>1.372279</td>\n      <td>-0.054596</td>\n      <td>0.13230</td>\n    </tr>\n    <tr>\n      <th>19</th>\n      <td>-0.256007</td>\n      <td>victor_hugo</td>\n      <td>-0.396869</td>\n      <td>7</td>\n      <td>0.462487</td>\n      <td>0.8522</td>\n      <td>-1.320905</td>\n      <td>-0.524663</td>\n      <td>-0.570611</td>\n      <td>-0.438190</td>\n      <td>0.142213</td>\n      <td>-0.489664</td>\n      <td>-0.455266</td>\n      <td>0.16658</td>\n    </tr>\n    <tr>\n      <th>20</th>\n      <td>-0.143736</td>\n      <td>babu</td>\n      <td>0.524236</td>\n      <td>8</td>\n      <td>-0.870930</td>\n      <td>0.4771</td>\n      <td>0.180618</td>\n      <td>-0.245379</td>\n      <td>0.360970</td>\n      <td>0.396727</td>\n      <td>0.473895</td>\n      <td>-0.022954</td>\n      <td>-0.213141</td>\n      <td>0.16840</td>\n    </tr>\n    <tr>\n      <th>21</th>\n      <td>-0.395749</td>\n      <td>rafa</td>\n      <td>-0.506625</td>\n      <td>8</td>\n      <td>-1.524441</td>\n      <td>0.0059</td>\n      <td>-1.093434</td>\n      <td>-0.274006</td>\n      <td>0.233296</td>\n      <td>0.083766</td>\n      <td>1.409021</td>\n      <td>-0.778607</td>\n      <td>-0.996091</td>\n      <td>0.11350</td>\n    </tr>\n    <tr>\n      <th>22</th>\n      <td>0.351518</td>\n      <td>pyong</td>\n      <td>0.957593</td>\n      <td>8</td>\n      <td>0.119933</td>\n      <td>0.5170</td>\n      <td>0.661727</td>\n      <td>0.747726</td>\n      <td>1.197860</td>\n      <td>0.062194</td>\n      <td>0.254343</td>\n      <td>-0.404069</td>\n      <td>0.982782</td>\n      <td>0.48954</td>\n    </tr>\n    <tr>\n      <th>23</th>\n      <td>0.323595</td>\n      <td>daniel</td>\n      <td>0.527744</td>\n      <td>9</td>\n      <td>0.289477</td>\n      <td>0.8082</td>\n      <td>0.090996</td>\n      <td>-0.507169</td>\n      <td>1.272211</td>\n      <td>-0.424398</td>\n      <td>0.174935</td>\n      <td>-0.415967</td>\n      <td>0.533047</td>\n      <td>0.55114</td>\n    </tr>\n    <tr>\n      <th>24</th>\n      <td>-0.075742</td>\n      <td>flayslene</td>\n      <td>-0.474572</td>\n      <td>9</td>\n      <td>-0.782390</td>\n      <td>0.0954</td>\n      <td>0.258158</td>\n      <td>-0.444062</td>\n      <td>-0.583566</td>\n      <td>-0.085976</td>\n      <td>0.136623</td>\n      <td>0.347739</td>\n      <td>-0.322562</td>\n      <td>0.23466</td>\n    </tr>\n    <tr>\n      <th>25</th>\n      <td>-0.435820</td>\n      <td>ivy</td>\n      <td>-0.365734</td>\n      <td>9</td>\n      <td>0.100925</td>\n      <td>0.0964</td>\n      <td>-0.600243</td>\n      <td>-0.484491</td>\n      <td>0.719771</td>\n      <td>-0.433769</td>\n      <td>0.073869</td>\n      <td>-0.161435</td>\n      <td>-0.436934</td>\n      <td>0.46024</td>\n    </tr>\n    <tr>\n      <th>26</th>\n      <td>0.511881</td>\n      <td>manu_gavassi</td>\n      <td>1.640787</td>\n      <td>10</td>\n      <td>2.299866</td>\n      <td>0.4251</td>\n      <td>1.735802</td>\n      <td>3.760466</td>\n      <td>1.227212</td>\n      <td>4.870303</td>\n      <td>-1.130995</td>\n      <td>-0.092823</td>\n      <td>1.502096</td>\n      <td>0.29996</td>\n    </tr>\n    <tr>\n      <th>27</th>\n      <td>-1.394431</td>\n      <td>mari</td>\n      <td>-0.352028</td>\n      <td>10</td>\n      <td>0.214207</td>\n      <td>0.0076</td>\n      <td>-1.540103</td>\n      <td>-0.295329</td>\n      <td>-0.227832</td>\n      <td>0.080937</td>\n      <td>-0.571572</td>\n      <td>0.585417</td>\n      <td>-1.793601</td>\n      <td>0.29804</td>\n    </tr>\n    <tr>\n      <th>28</th>\n      <td>0.694583</td>\n      <td>felipe_prior</td>\n      <td>4.617625</td>\n      <td>10</td>\n      <td>0.953104</td>\n      <td>0.5673</td>\n      <td>-0.446787</td>\n      <td>0.039823</td>\n      <td>2.169433</td>\n      <td>1.770043</td>\n      <td>0.369842</td>\n      <td>-1.106925</td>\n      <td>0.065055</td>\n      <td>0.63314</td>\n    </tr>\n    <tr>\n      <th>29</th>\n      <td>-0.018638</td>\n      <td>babu</td>\n      <td>-0.457899</td>\n      <td>11</td>\n      <td>-0.626115</td>\n      <td>0.0411</td>\n      <td>0.211517</td>\n      <td>0.036155</td>\n      <td>0.684661</td>\n      <td>0.321050</td>\n      <td>-0.417288</td>\n      <td>0.949291</td>\n      <td>-0.124059</td>\n      <td>0.30462</td>\n    </tr>\n    <tr>\n      <th>30</th>\n      <td>-0.297216</td>\n      <td>gabi</td>\n      <td>0.318971</td>\n      <td>11</td>\n      <td>-0.670701</td>\n      <td>0.5961</td>\n      <td>-0.333357</td>\n      <td>-0.324028</td>\n      <td>0.504916</td>\n      <td>-0.313889</td>\n      <td>-0.299252</td>\n      <td>0.828629</td>\n      <td>-0.515712</td>\n      <td>0.30462</td>\n    </tr>\n    <tr>\n      <th>31</th>\n      <td>0.127887</td>\n      <td>thelma</td>\n      <td>-0.252741</td>\n      <td>11</td>\n      <td>0.372347</td>\n      <td>0.3628</td>\n      <td>-0.129249</td>\n      <td>-0.191782</td>\n      <td>0.242121</td>\n      <td>0.789785</td>\n      <td>-0.379510</td>\n      <td>0.235224</td>\n      <td>0.413322</td>\n      <td>0.30462</td>\n    </tr>\n  </tbody>\n</table>\n</div>"
     },
     "metadata": {},
     "execution_count": 66
    }
   ],
   "source": [
    "summary_df"
   ]
  },
  {
   "cell_type": "code",
   "execution_count": null,
   "metadata": {},
   "outputs": [],
   "source": []
  }
 ]
}