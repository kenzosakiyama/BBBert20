{
 "nbformat": 4,
 "nbformat_minor": 2,
 "metadata": {
  "language_info": {
   "name": "python",
   "codemirror_mode": {
    "name": "ipython",
    "version": 3
   },
   "version": "3.6.9-final"
  },
  "orig_nbformat": 2,
  "file_extension": ".py",
  "mimetype": "text/x-python",
  "name": "python",
  "npconvert_exporter": "python",
  "pygments_lexer": "ipython3",
  "version": 3,
  "kernelspec": {
   "name": "python36964bitbertvirtualenv054cbb15ab924922a35a349b12e89805",
   "display_name": "Python 3.6.9 64-bit ('bert': virtualenv)"
  }
 },
 "cells": [
  {
   "cell_type": "markdown",
   "metadata": {},
   "source": [
    "# Experimentos baseados em Deep Learning"
   ]
  },
  {
   "cell_type": "markdown",
   "metadata": {},
   "source": [
    "- Utilizando cada paredão como teste e avaliando com holdout."
   ]
  },
  {
   "cell_type": "code",
   "execution_count": 1,
   "metadata": {},
   "outputs": [],
   "source": [
    "import pandas as pd \n",
    "import numpy as np \n",
    "from regression_utils import *\n",
    "import fastai\n",
    "from fastai.tabular import *"
   ]
  },
  {
   "cell_type": "code",
   "execution_count": 2,
   "metadata": {},
   "outputs": [],
   "source": [
    "NORMALIZE = False\n",
    "EPOCHS = 50\n",
    "LAYERS = [100, 100]\n",
    "LR = 1e-4\n",
    "DEVICE=\"TODO\""
   ]
  },
  {
   "cell_type": "code",
   "execution_count": 3,
   "metadata": {},
   "outputs": [],
   "source": [
    "summary_df = pd.DataFrame(columns=COLUMNS)"
   ]
  },
  {
   "cell_type": "markdown",
   "metadata": {},
   "source": [
    "# Paredao 1"
   ]
  },
  {
   "cell_type": "code",
   "execution_count": 4,
   "metadata": {},
   "outputs": [],
   "source": [
    "train_df, test_df = get_train_test(1, normalize=NORMALIZE)"
   ]
  },
  {
   "cell_type": "code",
   "execution_count": 5,
   "metadata": {},
   "outputs": [
    {
     "output_type": "execute_result",
     "data": {
      "text/plain": "   paredao            nome  positivos  neutros  negativos  \\\n21       1  bianca_andrade       5102     5230       3762   \n22       1    lucas_chumbo       5460    10796      14411   \n\n    positivos_individual_pct  neutros_individual_pct  \\\n21                  0.361998                 0.37108   \n22                  0.178042                 0.35204   \n\n    negativos_individual_pct  positivos_global_pct  neutros_global_pct  \\\n21                  0.266922              0.483052            0.326345   \n22                  0.469919              0.516948            0.673655   \n\n    negativos_global_pct   day1  day2  day3   likes  retweets  seguidores  \\\n21               0.20701   5849  5903  2342  407879     57730      411880   \n22               0.79299  22759  5502  2406  667691    132858       12014   \n\n    rejeicao  \n21    0.2446  \n22    0.7594  ",
      "text/html": "<div>\n<style scoped>\n    .dataframe tbody tr th:only-of-type {\n        vertical-align: middle;\n    }\n\n    .dataframe tbody tr th {\n        vertical-align: top;\n    }\n\n    .dataframe thead th {\n        text-align: right;\n    }\n</style>\n<table border=\"1\" class=\"dataframe\">\n  <thead>\n    <tr style=\"text-align: right;\">\n      <th></th>\n      <th>paredao</th>\n      <th>nome</th>\n      <th>positivos</th>\n      <th>neutros</th>\n      <th>negativos</th>\n      <th>positivos_individual_pct</th>\n      <th>neutros_individual_pct</th>\n      <th>negativos_individual_pct</th>\n      <th>positivos_global_pct</th>\n      <th>neutros_global_pct</th>\n      <th>negativos_global_pct</th>\n      <th>day1</th>\n      <th>day2</th>\n      <th>day3</th>\n      <th>likes</th>\n      <th>retweets</th>\n      <th>seguidores</th>\n      <th>rejeicao</th>\n    </tr>\n  </thead>\n  <tbody>\n    <tr>\n      <th>21</th>\n      <td>1</td>\n      <td>bianca_andrade</td>\n      <td>5102</td>\n      <td>5230</td>\n      <td>3762</td>\n      <td>0.361998</td>\n      <td>0.37108</td>\n      <td>0.266922</td>\n      <td>0.483052</td>\n      <td>0.326345</td>\n      <td>0.20701</td>\n      <td>5849</td>\n      <td>5903</td>\n      <td>2342</td>\n      <td>407879</td>\n      <td>57730</td>\n      <td>411880</td>\n      <td>0.2446</td>\n    </tr>\n    <tr>\n      <th>22</th>\n      <td>1</td>\n      <td>lucas_chumbo</td>\n      <td>5460</td>\n      <td>10796</td>\n      <td>14411</td>\n      <td>0.178042</td>\n      <td>0.35204</td>\n      <td>0.469919</td>\n      <td>0.516948</td>\n      <td>0.673655</td>\n      <td>0.79299</td>\n      <td>22759</td>\n      <td>5502</td>\n      <td>2406</td>\n      <td>667691</td>\n      <td>132858</td>\n      <td>12014</td>\n      <td>0.7594</td>\n    </tr>\n  </tbody>\n</table>\n</div>"
     },
     "metadata": {},
     "execution_count": 5
    }
   ],
   "source": [
    "test_df"
   ]
  },
  {
   "cell_type": "code",
   "execution_count": 6,
   "metadata": {},
   "outputs": [],
   "source": [
    "paredoes_db = TabularDataBunch.from_df(\"\", df=train_df.drop([\"paredao\", \"nome\"], axis=1),\n",
    "                                      dep_var=\"rejeicao\", \n",
    "                                      valid_idx=np.unique(np.random.choice(len(train_df.index), 3)), \n",
    "                                      procs=[Normalize],\n",
    "                                      test_df=test_df.drop([\"paredao\", \"nome\"], axis=1),\n",
    "                                      bs=3)"
   ]
  },
  {
   "cell_type": "code",
   "execution_count": 7,
   "metadata": {},
   "outputs": [],
   "source": [
    "learner = tabular_learner(paredoes_db, layers=LAYERS, metrics=[mse])"
   ]
  },
  {
   "cell_type": "code",
   "execution_count": 8,
   "metadata": {},
   "outputs": [
    {
     "output_type": "display_data",
     "data": {
      "text/plain": "<IPython.core.display.HTML object>",
      "text/html": "<table border=\"1\" class=\"dataframe\">\n  <thead>\n    <tr style=\"text-align: left;\">\n      <th>epoch</th>\n      <th>train_loss</th>\n      <th>valid_loss</th>\n      <th>mean_squared_error</th>\n      <th>time</th>\n    </tr>\n  </thead>\n  <tbody>\n    <tr>\n      <td>0</td>\n      <td>0.498905</td>\n      <td>0.021580</td>\n      <td>0.021580</td>\n      <td>00:00</td>\n    </tr>\n    <tr>\n      <td>1</td>\n      <td>0.560107</td>\n      <td>0.061834</td>\n      <td>0.061834</td>\n      <td>00:00</td>\n    </tr>\n    <tr>\n      <td>2</td>\n      <td>0.710305</td>\n      <td>0.095310</td>\n      <td>0.095310</td>\n      <td>00:00</td>\n    </tr>\n    <tr>\n      <td>3</td>\n      <td>0.697760</td>\n      <td>0.157729</td>\n      <td>0.157729</td>\n      <td>00:00</td>\n    </tr>\n    <tr>\n      <td>4</td>\n      <td>0.676489</td>\n      <td>0.183558</td>\n      <td>0.183558</td>\n      <td>00:00</td>\n    </tr>\n    <tr>\n      <td>5</td>\n      <td>0.676663</td>\n      <td>0.206145</td>\n      <td>0.206145</td>\n      <td>00:00</td>\n    </tr>\n    <tr>\n      <td>6</td>\n      <td>0.637430</td>\n      <td>0.257815</td>\n      <td>0.257815</td>\n      <td>00:00</td>\n    </tr>\n    <tr>\n      <td>7</td>\n      <td>0.614539</td>\n      <td>0.168645</td>\n      <td>0.168645</td>\n      <td>00:00</td>\n    </tr>\n    <tr>\n      <td>8</td>\n      <td>0.581589</td>\n      <td>0.191862</td>\n      <td>0.191862</td>\n      <td>00:00</td>\n    </tr>\n    <tr>\n      <td>9</td>\n      <td>0.582345</td>\n      <td>0.161875</td>\n      <td>0.161875</td>\n      <td>00:00</td>\n    </tr>\n    <tr>\n      <td>10</td>\n      <td>0.544474</td>\n      <td>0.234188</td>\n      <td>0.234188</td>\n      <td>00:00</td>\n    </tr>\n    <tr>\n      <td>11</td>\n      <td>0.520765</td>\n      <td>0.220439</td>\n      <td>0.220439</td>\n      <td>00:00</td>\n    </tr>\n    <tr>\n      <td>12</td>\n      <td>0.517457</td>\n      <td>0.292428</td>\n      <td>0.292428</td>\n      <td>00:00</td>\n    </tr>\n    <tr>\n      <td>13</td>\n      <td>0.494269</td>\n      <td>0.303547</td>\n      <td>0.303547</td>\n      <td>00:00</td>\n    </tr>\n    <tr>\n      <td>14</td>\n      <td>0.468280</td>\n      <td>0.355786</td>\n      <td>0.355786</td>\n      <td>00:00</td>\n    </tr>\n    <tr>\n      <td>15</td>\n      <td>0.461547</td>\n      <td>0.265428</td>\n      <td>0.265428</td>\n      <td>00:00</td>\n    </tr>\n    <tr>\n      <td>16</td>\n      <td>0.453916</td>\n      <td>0.403721</td>\n      <td>0.403721</td>\n      <td>00:00</td>\n    </tr>\n    <tr>\n      <td>17</td>\n      <td>0.428306</td>\n      <td>0.317879</td>\n      <td>0.317879</td>\n      <td>00:00</td>\n    </tr>\n    <tr>\n      <td>18</td>\n      <td>0.405397</td>\n      <td>0.275314</td>\n      <td>0.275314</td>\n      <td>00:00</td>\n    </tr>\n    <tr>\n      <td>19</td>\n      <td>0.394090</td>\n      <td>0.216666</td>\n      <td>0.216666</td>\n      <td>00:00</td>\n    </tr>\n    <tr>\n      <td>20</td>\n      <td>0.397339</td>\n      <td>0.346795</td>\n      <td>0.346795</td>\n      <td>00:00</td>\n    </tr>\n    <tr>\n      <td>21</td>\n      <td>0.366817</td>\n      <td>0.365843</td>\n      <td>0.365843</td>\n      <td>00:00</td>\n    </tr>\n    <tr>\n      <td>22</td>\n      <td>0.350629</td>\n      <td>0.317681</td>\n      <td>0.317681</td>\n      <td>00:00</td>\n    </tr>\n    <tr>\n      <td>23</td>\n      <td>0.355324</td>\n      <td>0.297686</td>\n      <td>0.297686</td>\n      <td>00:00</td>\n    </tr>\n    <tr>\n      <td>24</td>\n      <td>0.350640</td>\n      <td>0.301283</td>\n      <td>0.301283</td>\n      <td>00:00</td>\n    </tr>\n    <tr>\n      <td>25</td>\n      <td>0.341484</td>\n      <td>0.435446</td>\n      <td>0.435446</td>\n      <td>00:00</td>\n    </tr>\n    <tr>\n      <td>26</td>\n      <td>0.347930</td>\n      <td>0.492032</td>\n      <td>0.492032</td>\n      <td>00:00</td>\n    </tr>\n    <tr>\n      <td>27</td>\n      <td>0.342320</td>\n      <td>0.525830</td>\n      <td>0.525830</td>\n      <td>00:00</td>\n    </tr>\n    <tr>\n      <td>28</td>\n      <td>0.333700</td>\n      <td>0.383536</td>\n      <td>0.383536</td>\n      <td>00:00</td>\n    </tr>\n    <tr>\n      <td>29</td>\n      <td>0.337737</td>\n      <td>0.357786</td>\n      <td>0.357786</td>\n      <td>00:00</td>\n    </tr>\n    <tr>\n      <td>30</td>\n      <td>0.327245</td>\n      <td>0.441595</td>\n      <td>0.441595</td>\n      <td>00:00</td>\n    </tr>\n    <tr>\n      <td>31</td>\n      <td>0.308903</td>\n      <td>0.239494</td>\n      <td>0.239494</td>\n      <td>00:00</td>\n    </tr>\n    <tr>\n      <td>32</td>\n      <td>0.297489</td>\n      <td>0.437961</td>\n      <td>0.437961</td>\n      <td>00:00</td>\n    </tr>\n    <tr>\n      <td>33</td>\n      <td>0.298597</td>\n      <td>0.320910</td>\n      <td>0.320910</td>\n      <td>00:00</td>\n    </tr>\n    <tr>\n      <td>34</td>\n      <td>0.312900</td>\n      <td>0.337239</td>\n      <td>0.337239</td>\n      <td>00:00</td>\n    </tr>\n    <tr>\n      <td>35</td>\n      <td>0.303335</td>\n      <td>0.567209</td>\n      <td>0.567209</td>\n      <td>00:00</td>\n    </tr>\n    <tr>\n      <td>36</td>\n      <td>0.292572</td>\n      <td>0.328415</td>\n      <td>0.328415</td>\n      <td>00:00</td>\n    </tr>\n    <tr>\n      <td>37</td>\n      <td>0.281754</td>\n      <td>0.333907</td>\n      <td>0.333907</td>\n      <td>00:00</td>\n    </tr>\n    <tr>\n      <td>38</td>\n      <td>0.271110</td>\n      <td>0.240885</td>\n      <td>0.240885</td>\n      <td>00:00</td>\n    </tr>\n    <tr>\n      <td>39</td>\n      <td>0.255050</td>\n      <td>0.316365</td>\n      <td>0.316365</td>\n      <td>00:00</td>\n    </tr>\n    <tr>\n      <td>40</td>\n      <td>0.260625</td>\n      <td>0.204197</td>\n      <td>0.204197</td>\n      <td>00:00</td>\n    </tr>\n    <tr>\n      <td>41</td>\n      <td>0.253477</td>\n      <td>0.214626</td>\n      <td>0.214626</td>\n      <td>00:00</td>\n    </tr>\n    <tr>\n      <td>42</td>\n      <td>0.252657</td>\n      <td>0.326841</td>\n      <td>0.326841</td>\n      <td>00:00</td>\n    </tr>\n    <tr>\n      <td>43</td>\n      <td>0.247447</td>\n      <td>0.416580</td>\n      <td>0.416580</td>\n      <td>00:00</td>\n    </tr>\n    <tr>\n      <td>44</td>\n      <td>0.242244</td>\n      <td>0.442172</td>\n      <td>0.442172</td>\n      <td>00:00</td>\n    </tr>\n    <tr>\n      <td>45</td>\n      <td>0.236439</td>\n      <td>0.293406</td>\n      <td>0.293406</td>\n      <td>00:00</td>\n    </tr>\n    <tr>\n      <td>46</td>\n      <td>0.248332</td>\n      <td>0.418990</td>\n      <td>0.418990</td>\n      <td>00:00</td>\n    </tr>\n    <tr>\n      <td>47</td>\n      <td>0.244186</td>\n      <td>0.212226</td>\n      <td>0.212226</td>\n      <td>00:00</td>\n    </tr>\n    <tr>\n      <td>48</td>\n      <td>0.249582</td>\n      <td>0.243585</td>\n      <td>0.243585</td>\n      <td>00:00</td>\n    </tr>\n    <tr>\n      <td>49</td>\n      <td>0.247384</td>\n      <td>0.234977</td>\n      <td>0.234977</td>\n      <td>00:00</td>\n    </tr>\n  </tbody>\n</table>"
     },
     "metadata": {}
    }
   ],
   "source": [
    "learner.fit_one_cycle(EPOCHS, LR)"
   ]
  },
  {
   "cell_type": "code",
   "execution_count": 9,
   "metadata": {},
   "outputs": [
    {
     "output_type": "display_data",
     "data": {
      "text/plain": "<IPython.core.display.HTML object>",
      "text/html": ""
     },
     "metadata": {}
    }
   ],
   "source": [
    "aux = learner.get_preds(ds_type=DatasetType.Test)\n",
    "predictions = aux[0].squeeze().tolist()"
   ]
  },
  {
   "cell_type": "code",
   "execution_count": 10,
   "metadata": {},
   "outputs": [],
   "source": [
    "test_df[\"predicao\"] = predictions\n",
    "summary_df = summary_df.append(test_df, ignore_index=True, sort=False)"
   ]
  },
  {
   "cell_type": "code",
   "execution_count": 11,
   "metadata": {},
   "outputs": [
    {
     "output_type": "execute_result",
     "data": {
      "text/plain": "   paredao            nome  positivos  neutros  negativos  \\\n21       1  bianca_andrade       5102     5230       3762   \n22       1    lucas_chumbo       5460    10796      14411   \n\n    positivos_individual_pct  neutros_individual_pct  \\\n21                  0.361998                 0.37108   \n22                  0.178042                 0.35204   \n\n    negativos_individual_pct  positivos_global_pct  neutros_global_pct  \\\n21                  0.266922              0.483052            0.326345   \n22                  0.469919              0.516948            0.673655   \n\n    negativos_global_pct   day1  day2  day3   likes  retweets  seguidores  \\\n21               0.20701   5849  5903  2342  407879     57730      411880   \n22               0.79299  22759  5502  2406  667691    132858       12014   \n\n    rejeicao  predicao  \n21    0.2446 -0.199820  \n22    0.7594 -0.335745  ",
      "text/html": "<div>\n<style scoped>\n    .dataframe tbody tr th:only-of-type {\n        vertical-align: middle;\n    }\n\n    .dataframe tbody tr th {\n        vertical-align: top;\n    }\n\n    .dataframe thead th {\n        text-align: right;\n    }\n</style>\n<table border=\"1\" class=\"dataframe\">\n  <thead>\n    <tr style=\"text-align: right;\">\n      <th></th>\n      <th>paredao</th>\n      <th>nome</th>\n      <th>positivos</th>\n      <th>neutros</th>\n      <th>negativos</th>\n      <th>positivos_individual_pct</th>\n      <th>neutros_individual_pct</th>\n      <th>negativos_individual_pct</th>\n      <th>positivos_global_pct</th>\n      <th>neutros_global_pct</th>\n      <th>negativos_global_pct</th>\n      <th>day1</th>\n      <th>day2</th>\n      <th>day3</th>\n      <th>likes</th>\n      <th>retweets</th>\n      <th>seguidores</th>\n      <th>rejeicao</th>\n      <th>predicao</th>\n    </tr>\n  </thead>\n  <tbody>\n    <tr>\n      <th>21</th>\n      <td>1</td>\n      <td>bianca_andrade</td>\n      <td>5102</td>\n      <td>5230</td>\n      <td>3762</td>\n      <td>0.361998</td>\n      <td>0.37108</td>\n      <td>0.266922</td>\n      <td>0.483052</td>\n      <td>0.326345</td>\n      <td>0.20701</td>\n      <td>5849</td>\n      <td>5903</td>\n      <td>2342</td>\n      <td>407879</td>\n      <td>57730</td>\n      <td>411880</td>\n      <td>0.2446</td>\n      <td>-0.199820</td>\n    </tr>\n    <tr>\n      <th>22</th>\n      <td>1</td>\n      <td>lucas_chumbo</td>\n      <td>5460</td>\n      <td>10796</td>\n      <td>14411</td>\n      <td>0.178042</td>\n      <td>0.35204</td>\n      <td>0.469919</td>\n      <td>0.516948</td>\n      <td>0.673655</td>\n      <td>0.79299</td>\n      <td>22759</td>\n      <td>5502</td>\n      <td>2406</td>\n      <td>667691</td>\n      <td>132858</td>\n      <td>12014</td>\n      <td>0.7594</td>\n      <td>-0.335745</td>\n    </tr>\n  </tbody>\n</table>\n</div>"
     },
     "metadata": {},
     "execution_count": 11
    }
   ],
   "source": [
    "test_df.sort_values(by=\"predicao\", ascending=False)"
   ]
  },
  {
   "cell_type": "markdown",
   "metadata": {},
   "source": [
    "# Paredao 2"
   ]
  },
  {
   "cell_type": "code",
   "execution_count": 12,
   "metadata": {},
   "outputs": [
    {
     "output_type": "execute_result",
     "data": {
      "text/plain": "   paredao    nome  positivos  neutros  negativos  positivos_individual_pct  \\\n17       2    babu       3819     5049       3822                  0.300946   \n18       2  petrix      17850    41331      62584                  0.146594   \n19       2   pyong      19947    15248      12907                  0.414681   \n20       2  hadson      14732    30837      54056                  0.147875   \n\n    neutros_individual_pct  negativos_individual_pct  positivos_global_pct  \\\n17                0.397872                  0.301182              0.067775   \n18                0.339433                  0.513974              0.316781   \n19                0.316993                  0.268326              0.353997   \n20                0.309531                  0.542595              0.261447   \n\n    neutros_global_pct  negativos_global_pct   day1   day2   day3    likes  \\\n17            0.054604              0.028657   5606   6016   1068   313738   \n18            0.446991              0.469254  46679  64815  10271  3036821   \n19            0.164906              0.096777  12527  28745   6830  1889184   \n20            0.333499              0.405312  25263  68537   5825  2416937   \n\n    retweets  seguidores  rejeicao  \n17     57539      325345    0.0044  \n18    776919       22414    0.8027  \n19    357422     1431039    0.0066  \n20    583604       10207    0.1863  ",
      "text/html": "<div>\n<style scoped>\n    .dataframe tbody tr th:only-of-type {\n        vertical-align: middle;\n    }\n\n    .dataframe tbody tr th {\n        vertical-align: top;\n    }\n\n    .dataframe thead th {\n        text-align: right;\n    }\n</style>\n<table border=\"1\" class=\"dataframe\">\n  <thead>\n    <tr style=\"text-align: right;\">\n      <th></th>\n      <th>paredao</th>\n      <th>nome</th>\n      <th>positivos</th>\n      <th>neutros</th>\n      <th>negativos</th>\n      <th>positivos_individual_pct</th>\n      <th>neutros_individual_pct</th>\n      <th>negativos_individual_pct</th>\n      <th>positivos_global_pct</th>\n      <th>neutros_global_pct</th>\n      <th>negativos_global_pct</th>\n      <th>day1</th>\n      <th>day2</th>\n      <th>day3</th>\n      <th>likes</th>\n      <th>retweets</th>\n      <th>seguidores</th>\n      <th>rejeicao</th>\n    </tr>\n  </thead>\n  <tbody>\n    <tr>\n      <th>17</th>\n      <td>2</td>\n      <td>babu</td>\n      <td>3819</td>\n      <td>5049</td>\n      <td>3822</td>\n      <td>0.300946</td>\n      <td>0.397872</td>\n      <td>0.301182</td>\n      <td>0.067775</td>\n      <td>0.054604</td>\n      <td>0.028657</td>\n      <td>5606</td>\n      <td>6016</td>\n      <td>1068</td>\n      <td>313738</td>\n      <td>57539</td>\n      <td>325345</td>\n      <td>0.0044</td>\n    </tr>\n    <tr>\n      <th>18</th>\n      <td>2</td>\n      <td>petrix</td>\n      <td>17850</td>\n      <td>41331</td>\n      <td>62584</td>\n      <td>0.146594</td>\n      <td>0.339433</td>\n      <td>0.513974</td>\n      <td>0.316781</td>\n      <td>0.446991</td>\n      <td>0.469254</td>\n      <td>46679</td>\n      <td>64815</td>\n      <td>10271</td>\n      <td>3036821</td>\n      <td>776919</td>\n      <td>22414</td>\n      <td>0.8027</td>\n    </tr>\n    <tr>\n      <th>19</th>\n      <td>2</td>\n      <td>pyong</td>\n      <td>19947</td>\n      <td>15248</td>\n      <td>12907</td>\n      <td>0.414681</td>\n      <td>0.316993</td>\n      <td>0.268326</td>\n      <td>0.353997</td>\n      <td>0.164906</td>\n      <td>0.096777</td>\n      <td>12527</td>\n      <td>28745</td>\n      <td>6830</td>\n      <td>1889184</td>\n      <td>357422</td>\n      <td>1431039</td>\n      <td>0.0066</td>\n    </tr>\n    <tr>\n      <th>20</th>\n      <td>2</td>\n      <td>hadson</td>\n      <td>14732</td>\n      <td>30837</td>\n      <td>54056</td>\n      <td>0.147875</td>\n      <td>0.309531</td>\n      <td>0.542595</td>\n      <td>0.261447</td>\n      <td>0.333499</td>\n      <td>0.405312</td>\n      <td>25263</td>\n      <td>68537</td>\n      <td>5825</td>\n      <td>2416937</td>\n      <td>583604</td>\n      <td>10207</td>\n      <td>0.1863</td>\n    </tr>\n  </tbody>\n</table>\n</div>"
     },
     "metadata": {},
     "execution_count": 12
    }
   ],
   "source": [
    "train_df, test_df = get_train_test(2, normalize=NORMALIZE)\n",
    "test_df\n",
    ""
   ]
  },
  {
   "cell_type": "code",
   "execution_count": 13,
   "metadata": {},
   "outputs": [],
   "source": [
    "paredoes_db = TabularDataBunch.from_df(\"\", df=train_df.drop([\"paredao\", \"nome\"], axis=1),\n",
    "                                      dep_var=\"rejeicao\", \n",
    "                                      valid_idx=np.unique(np.random.choice(len(train_df.index), 3)), \n",
    "                                      procs=[Normalize],\n",
    "                                      test_df=test_df.drop([\"paredao\", \"nome\"], axis=1),\n",
    "                                      bs=2)"
   ]
  },
  {
   "cell_type": "code",
   "execution_count": 14,
   "metadata": {},
   "outputs": [],
   "source": [
    "learner = tabular_learner(paredoes_db, layers=LAYERS, metrics=[mse])"
   ]
  },
  {
   "cell_type": "code",
   "execution_count": 15,
   "metadata": {},
   "outputs": [
    {
     "output_type": "display_data",
     "data": {
      "text/plain": "<IPython.core.display.HTML object>",
      "text/html": "<table border=\"1\" class=\"dataframe\">\n  <thead>\n    <tr style=\"text-align: left;\">\n      <th>epoch</th>\n      <th>train_loss</th>\n      <th>valid_loss</th>\n      <th>mean_squared_error</th>\n      <th>time</th>\n    </tr>\n  </thead>\n  <tbody>\n    <tr>\n      <td>0</td>\n      <td>1.150096</td>\n      <td>0.211640</td>\n      <td>0.211640</td>\n      <td>00:00</td>\n    </tr>\n    <tr>\n      <td>1</td>\n      <td>0.957143</td>\n      <td>0.336129</td>\n      <td>0.336129</td>\n      <td>00:00</td>\n    </tr>\n    <tr>\n      <td>2</td>\n      <td>0.813689</td>\n      <td>0.341820</td>\n      <td>0.341820</td>\n      <td>00:00</td>\n    </tr>\n    <tr>\n      <td>3</td>\n      <td>0.862215</td>\n      <td>0.383793</td>\n      <td>0.383793</td>\n      <td>00:00</td>\n    </tr>\n    <tr>\n      <td>4</td>\n      <td>0.819641</td>\n      <td>0.775062</td>\n      <td>0.775062</td>\n      <td>00:00</td>\n    </tr>\n    <tr>\n      <td>5</td>\n      <td>0.886316</td>\n      <td>0.697961</td>\n      <td>0.697961</td>\n      <td>00:00</td>\n    </tr>\n    <tr>\n      <td>6</td>\n      <td>0.906509</td>\n      <td>0.540744</td>\n      <td>0.540744</td>\n      <td>00:00</td>\n    </tr>\n    <tr>\n      <td>7</td>\n      <td>0.943674</td>\n      <td>0.667305</td>\n      <td>0.667305</td>\n      <td>00:00</td>\n    </tr>\n    <tr>\n      <td>8</td>\n      <td>1.014923</td>\n      <td>0.786633</td>\n      <td>0.786633</td>\n      <td>00:00</td>\n    </tr>\n    <tr>\n      <td>9</td>\n      <td>0.966677</td>\n      <td>0.591685</td>\n      <td>0.591685</td>\n      <td>00:00</td>\n    </tr>\n    <tr>\n      <td>10</td>\n      <td>0.930126</td>\n      <td>0.967253</td>\n      <td>0.967253</td>\n      <td>00:00</td>\n    </tr>\n    <tr>\n      <td>11</td>\n      <td>0.846196</td>\n      <td>0.706990</td>\n      <td>0.706990</td>\n      <td>00:00</td>\n    </tr>\n    <tr>\n      <td>12</td>\n      <td>0.783906</td>\n      <td>0.629102</td>\n      <td>0.629102</td>\n      <td>00:00</td>\n    </tr>\n    <tr>\n      <td>13</td>\n      <td>0.787357</td>\n      <td>0.833910</td>\n      <td>0.833910</td>\n      <td>00:00</td>\n    </tr>\n    <tr>\n      <td>14</td>\n      <td>0.804883</td>\n      <td>0.934050</td>\n      <td>0.934050</td>\n      <td>00:00</td>\n    </tr>\n    <tr>\n      <td>15</td>\n      <td>0.750583</td>\n      <td>1.007698</td>\n      <td>1.007698</td>\n      <td>00:00</td>\n    </tr>\n    <tr>\n      <td>16</td>\n      <td>0.734516</td>\n      <td>0.989949</td>\n      <td>0.989949</td>\n      <td>00:00</td>\n    </tr>\n    <tr>\n      <td>17</td>\n      <td>0.691349</td>\n      <td>0.821215</td>\n      <td>0.821215</td>\n      <td>00:00</td>\n    </tr>\n    <tr>\n      <td>18</td>\n      <td>0.663415</td>\n      <td>0.570966</td>\n      <td>0.570966</td>\n      <td>00:00</td>\n    </tr>\n    <tr>\n      <td>19</td>\n      <td>0.639529</td>\n      <td>0.467525</td>\n      <td>0.467525</td>\n      <td>00:00</td>\n    </tr>\n    <tr>\n      <td>20</td>\n      <td>0.615988</td>\n      <td>0.600182</td>\n      <td>0.600182</td>\n      <td>00:00</td>\n    </tr>\n    <tr>\n      <td>21</td>\n      <td>0.566169</td>\n      <td>0.692457</td>\n      <td>0.692457</td>\n      <td>00:00</td>\n    </tr>\n    <tr>\n      <td>22</td>\n      <td>0.534449</td>\n      <td>0.831649</td>\n      <td>0.831649</td>\n      <td>00:00</td>\n    </tr>\n    <tr>\n      <td>23</td>\n      <td>0.524130</td>\n      <td>0.836349</td>\n      <td>0.836349</td>\n      <td>00:00</td>\n    </tr>\n    <tr>\n      <td>24</td>\n      <td>0.486308</td>\n      <td>0.633290</td>\n      <td>0.633290</td>\n      <td>00:00</td>\n    </tr>\n    <tr>\n      <td>25</td>\n      <td>0.479549</td>\n      <td>0.621726</td>\n      <td>0.621726</td>\n      <td>00:00</td>\n    </tr>\n    <tr>\n      <td>26</td>\n      <td>0.483772</td>\n      <td>0.758704</td>\n      <td>0.758704</td>\n      <td>00:00</td>\n    </tr>\n    <tr>\n      <td>27</td>\n      <td>0.450999</td>\n      <td>0.622059</td>\n      <td>0.622059</td>\n      <td>00:00</td>\n    </tr>\n    <tr>\n      <td>28</td>\n      <td>0.432513</td>\n      <td>0.935034</td>\n      <td>0.935034</td>\n      <td>00:00</td>\n    </tr>\n    <tr>\n      <td>29</td>\n      <td>0.406066</td>\n      <td>0.910989</td>\n      <td>0.910989</td>\n      <td>00:00</td>\n    </tr>\n    <tr>\n      <td>30</td>\n      <td>0.407726</td>\n      <td>1.197244</td>\n      <td>1.197244</td>\n      <td>00:00</td>\n    </tr>\n    <tr>\n      <td>31</td>\n      <td>0.428782</td>\n      <td>1.231243</td>\n      <td>1.231243</td>\n      <td>00:00</td>\n    </tr>\n    <tr>\n      <td>32</td>\n      <td>0.385171</td>\n      <td>0.623460</td>\n      <td>0.623460</td>\n      <td>00:00</td>\n    </tr>\n    <tr>\n      <td>33</td>\n      <td>0.372634</td>\n      <td>0.833759</td>\n      <td>0.833759</td>\n      <td>00:00</td>\n    </tr>\n    <tr>\n      <td>34</td>\n      <td>0.349343</td>\n      <td>0.405956</td>\n      <td>0.405956</td>\n      <td>00:00</td>\n    </tr>\n    <tr>\n      <td>35</td>\n      <td>0.340751</td>\n      <td>0.728415</td>\n      <td>0.728415</td>\n      <td>00:00</td>\n    </tr>\n    <tr>\n      <td>36</td>\n      <td>0.345813</td>\n      <td>0.766165</td>\n      <td>0.766165</td>\n      <td>00:00</td>\n    </tr>\n    <tr>\n      <td>37</td>\n      <td>0.327706</td>\n      <td>0.729658</td>\n      <td>0.729658</td>\n      <td>00:00</td>\n    </tr>\n    <tr>\n      <td>38</td>\n      <td>0.347207</td>\n      <td>0.996340</td>\n      <td>0.996340</td>\n      <td>00:00</td>\n    </tr>\n    <tr>\n      <td>39</td>\n      <td>0.351009</td>\n      <td>1.027670</td>\n      <td>1.027670</td>\n      <td>00:00</td>\n    </tr>\n    <tr>\n      <td>40</td>\n      <td>0.353248</td>\n      <td>0.679024</td>\n      <td>0.679024</td>\n      <td>00:00</td>\n    </tr>\n    <tr>\n      <td>41</td>\n      <td>0.354914</td>\n      <td>0.670576</td>\n      <td>0.670576</td>\n      <td>00:00</td>\n    </tr>\n    <tr>\n      <td>42</td>\n      <td>0.344559</td>\n      <td>0.737586</td>\n      <td>0.737586</td>\n      <td>00:00</td>\n    </tr>\n    <tr>\n      <td>43</td>\n      <td>0.351451</td>\n      <td>0.867327</td>\n      <td>0.867327</td>\n      <td>00:00</td>\n    </tr>\n    <tr>\n      <td>44</td>\n      <td>0.360787</td>\n      <td>0.968444</td>\n      <td>0.968444</td>\n      <td>00:00</td>\n    </tr>\n    <tr>\n      <td>45</td>\n      <td>0.412149</td>\n      <td>1.009531</td>\n      <td>1.009531</td>\n      <td>00:00</td>\n    </tr>\n    <tr>\n      <td>46</td>\n      <td>0.391509</td>\n      <td>0.626876</td>\n      <td>0.626876</td>\n      <td>00:00</td>\n    </tr>\n    <tr>\n      <td>47</td>\n      <td>0.373252</td>\n      <td>0.922462</td>\n      <td>0.922462</td>\n      <td>00:00</td>\n    </tr>\n    <tr>\n      <td>48</td>\n      <td>0.383059</td>\n      <td>0.757266</td>\n      <td>0.757266</td>\n      <td>00:00</td>\n    </tr>\n    <tr>\n      <td>49</td>\n      <td>0.387105</td>\n      <td>0.630383</td>\n      <td>0.630383</td>\n      <td>00:00</td>\n    </tr>\n  </tbody>\n</table>"
     },
     "metadata": {}
    }
   ],
   "source": [
    "learner.fit_one_cycle(EPOCHS, LR)\n",
    ""
   ]
  },
  {
   "cell_type": "code",
   "execution_count": 16,
   "metadata": {},
   "outputs": [
    {
     "output_type": "display_data",
     "data": {
      "text/plain": "<IPython.core.display.HTML object>",
      "text/html": ""
     },
     "metadata": {}
    }
   ],
   "source": [
    "aux = learner.get_preds(ds_type=DatasetType.Test)\n",
    "predictions = aux[0].squeeze().tolist()"
   ]
  },
  {
   "cell_type": "code",
   "execution_count": 17,
   "metadata": {},
   "outputs": [],
   "source": [
    "test_df[\"predicao\"] = predictions\n",
    "summary_df = summary_df.append(test_df, ignore_index=True, sort=False)"
   ]
  },
  {
   "cell_type": "code",
   "execution_count": 18,
   "metadata": {},
   "outputs": [
    {
     "output_type": "execute_result",
     "data": {
      "text/plain": "   paredao    nome  positivos  neutros  negativos  positivos_individual_pct  \\\n19       2   pyong      19947    15248      12907                  0.414681   \n17       2    babu       3819     5049       3822                  0.300946   \n20       2  hadson      14732    30837      54056                  0.147875   \n18       2  petrix      17850    41331      62584                  0.146594   \n\n    neutros_individual_pct  negativos_individual_pct  positivos_global_pct  \\\n19                0.316993                  0.268326              0.353997   \n17                0.397872                  0.301182              0.067775   \n20                0.309531                  0.542595              0.261447   \n18                0.339433                  0.513974              0.316781   \n\n    neutros_global_pct  negativos_global_pct   day1   day2   day3    likes  \\\n19            0.164906              0.096777  12527  28745   6830  1889184   \n17            0.054604              0.028657   5606   6016   1068   313738   \n20            0.333499              0.405312  25263  68537   5825  2416937   \n18            0.446991              0.469254  46679  64815  10271  3036821   \n\n    retweets  seguidores  rejeicao  predicao  \n19    357422     1431039    0.0066  1.648351  \n17     57539      325345    0.0044  0.524069  \n20    583604       10207    0.1863 -1.655416  \n18    776919       22414    0.8027 -2.138152  ",
      "text/html": "<div>\n<style scoped>\n    .dataframe tbody tr th:only-of-type {\n        vertical-align: middle;\n    }\n\n    .dataframe tbody tr th {\n        vertical-align: top;\n    }\n\n    .dataframe thead th {\n        text-align: right;\n    }\n</style>\n<table border=\"1\" class=\"dataframe\">\n  <thead>\n    <tr style=\"text-align: right;\">\n      <th></th>\n      <th>paredao</th>\n      <th>nome</th>\n      <th>positivos</th>\n      <th>neutros</th>\n      <th>negativos</th>\n      <th>positivos_individual_pct</th>\n      <th>neutros_individual_pct</th>\n      <th>negativos_individual_pct</th>\n      <th>positivos_global_pct</th>\n      <th>neutros_global_pct</th>\n      <th>negativos_global_pct</th>\n      <th>day1</th>\n      <th>day2</th>\n      <th>day3</th>\n      <th>likes</th>\n      <th>retweets</th>\n      <th>seguidores</th>\n      <th>rejeicao</th>\n      <th>predicao</th>\n    </tr>\n  </thead>\n  <tbody>\n    <tr>\n      <th>19</th>\n      <td>2</td>\n      <td>pyong</td>\n      <td>19947</td>\n      <td>15248</td>\n      <td>12907</td>\n      <td>0.414681</td>\n      <td>0.316993</td>\n      <td>0.268326</td>\n      <td>0.353997</td>\n      <td>0.164906</td>\n      <td>0.096777</td>\n      <td>12527</td>\n      <td>28745</td>\n      <td>6830</td>\n      <td>1889184</td>\n      <td>357422</td>\n      <td>1431039</td>\n      <td>0.0066</td>\n      <td>1.648351</td>\n    </tr>\n    <tr>\n      <th>17</th>\n      <td>2</td>\n      <td>babu</td>\n      <td>3819</td>\n      <td>5049</td>\n      <td>3822</td>\n      <td>0.300946</td>\n      <td>0.397872</td>\n      <td>0.301182</td>\n      <td>0.067775</td>\n      <td>0.054604</td>\n      <td>0.028657</td>\n      <td>5606</td>\n      <td>6016</td>\n      <td>1068</td>\n      <td>313738</td>\n      <td>57539</td>\n      <td>325345</td>\n      <td>0.0044</td>\n      <td>0.524069</td>\n    </tr>\n    <tr>\n      <th>20</th>\n      <td>2</td>\n      <td>hadson</td>\n      <td>14732</td>\n      <td>30837</td>\n      <td>54056</td>\n      <td>0.147875</td>\n      <td>0.309531</td>\n      <td>0.542595</td>\n      <td>0.261447</td>\n      <td>0.333499</td>\n      <td>0.405312</td>\n      <td>25263</td>\n      <td>68537</td>\n      <td>5825</td>\n      <td>2416937</td>\n      <td>583604</td>\n      <td>10207</td>\n      <td>0.1863</td>\n      <td>-1.655416</td>\n    </tr>\n    <tr>\n      <th>18</th>\n      <td>2</td>\n      <td>petrix</td>\n      <td>17850</td>\n      <td>41331</td>\n      <td>62584</td>\n      <td>0.146594</td>\n      <td>0.339433</td>\n      <td>0.513974</td>\n      <td>0.316781</td>\n      <td>0.446991</td>\n      <td>0.469254</td>\n      <td>46679</td>\n      <td>64815</td>\n      <td>10271</td>\n      <td>3036821</td>\n      <td>776919</td>\n      <td>22414</td>\n      <td>0.8027</td>\n      <td>-2.138152</td>\n    </tr>\n  </tbody>\n</table>\n</div>"
     },
     "metadata": {},
     "execution_count": 18
    }
   ],
   "source": [
    "test_df.sort_values(by=\"predicao\", ascending=False)"
   ]
  },
  {
   "cell_type": "markdown",
   "metadata": {},
   "source": [
    "# Paredao 3"
   ]
  },
  {
   "cell_type": "code",
   "execution_count": 19,
   "metadata": {},
   "outputs": [
    {
     "output_type": "execute_result",
     "data": {
      "text/plain": "   paredao          nome  positivos  neutros  negativos  \\\n9        3  felipe_prior       2824     3707       3514   \n10       3        hadson       2344     4928       3987   \n\n    positivos_individual_pct  neutros_individual_pct  \\\n9                   0.281135                0.369039   \n10                  0.208189                0.437694   \n\n    negativos_individual_pct  positivos_global_pct  neutros_global_pct  \\\n9                   0.349826               0.54644            0.429299   \n10                  0.354117               0.45356            0.570701   \n\n    negativos_global_pct  day1  day2  day3   likes  retweets  seguidores  \\\n9               0.468471  1138  6469  2438  434766     81439      204031   \n10              0.531529  1903  6534  2822  224448     41345       10207   \n\n    rejeicao  \n9     0.2029  \n10    0.7971  ",
      "text/html": "<div>\n<style scoped>\n    .dataframe tbody tr th:only-of-type {\n        vertical-align: middle;\n    }\n\n    .dataframe tbody tr th {\n        vertical-align: top;\n    }\n\n    .dataframe thead th {\n        text-align: right;\n    }\n</style>\n<table border=\"1\" class=\"dataframe\">\n  <thead>\n    <tr style=\"text-align: right;\">\n      <th></th>\n      <th>paredao</th>\n      <th>nome</th>\n      <th>positivos</th>\n      <th>neutros</th>\n      <th>negativos</th>\n      <th>positivos_individual_pct</th>\n      <th>neutros_individual_pct</th>\n      <th>negativos_individual_pct</th>\n      <th>positivos_global_pct</th>\n      <th>neutros_global_pct</th>\n      <th>negativos_global_pct</th>\n      <th>day1</th>\n      <th>day2</th>\n      <th>day3</th>\n      <th>likes</th>\n      <th>retweets</th>\n      <th>seguidores</th>\n      <th>rejeicao</th>\n    </tr>\n  </thead>\n  <tbody>\n    <tr>\n      <th>9</th>\n      <td>3</td>\n      <td>felipe_prior</td>\n      <td>2824</td>\n      <td>3707</td>\n      <td>3514</td>\n      <td>0.281135</td>\n      <td>0.369039</td>\n      <td>0.349826</td>\n      <td>0.54644</td>\n      <td>0.429299</td>\n      <td>0.468471</td>\n      <td>1138</td>\n      <td>6469</td>\n      <td>2438</td>\n      <td>434766</td>\n      <td>81439</td>\n      <td>204031</td>\n      <td>0.2029</td>\n    </tr>\n    <tr>\n      <th>10</th>\n      <td>3</td>\n      <td>hadson</td>\n      <td>2344</td>\n      <td>4928</td>\n      <td>3987</td>\n      <td>0.208189</td>\n      <td>0.437694</td>\n      <td>0.354117</td>\n      <td>0.45356</td>\n      <td>0.570701</td>\n      <td>0.531529</td>\n      <td>1903</td>\n      <td>6534</td>\n      <td>2822</td>\n      <td>224448</td>\n      <td>41345</td>\n      <td>10207</td>\n      <td>0.7971</td>\n    </tr>\n  </tbody>\n</table>\n</div>"
     },
     "metadata": {},
     "execution_count": 19
    }
   ],
   "source": [
    "train_df, test_df = get_train_test(3, normalize=NORMALIZE)\n",
    "test_df\n",
    ""
   ]
  },
  {
   "cell_type": "code",
   "execution_count": 20,
   "metadata": {},
   "outputs": [],
   "source": [
    "paredoes_db = TabularDataBunch.from_df(\"\", df=train_df.drop([\"paredao\", \"nome\"], axis=1),\n",
    "                                      dep_var=\"rejeicao\", \n",
    "                                      valid_idx=np.unique(np.random.choice(len(train_df.index), 3)), \n",
    "                                      procs=[Normalize],\n",
    "                                      test_df=test_df.drop([\"paredao\", \"nome\"], axis=1),\n",
    "                                      bs=2)"
   ]
  },
  {
   "cell_type": "code",
   "execution_count": 21,
   "metadata": {},
   "outputs": [],
   "source": [
    "learner = tabular_learner(paredoes_db, layers=LAYERS, metrics=[mse])"
   ]
  },
  {
   "cell_type": "code",
   "execution_count": 22,
   "metadata": {},
   "outputs": [
    {
     "output_type": "display_data",
     "data": {
      "text/plain": "<IPython.core.display.HTML object>",
      "text/html": "<table border=\"1\" class=\"dataframe\">\n  <thead>\n    <tr style=\"text-align: left;\">\n      <th>epoch</th>\n      <th>train_loss</th>\n      <th>valid_loss</th>\n      <th>mean_squared_error</th>\n      <th>time</th>\n    </tr>\n  </thead>\n  <tbody>\n    <tr>\n      <td>0</td>\n      <td>0.423123</td>\n      <td>0.201875</td>\n      <td>0.201875</td>\n      <td>00:00</td>\n    </tr>\n    <tr>\n      <td>1</td>\n      <td>0.488521</td>\n      <td>0.152304</td>\n      <td>0.152304</td>\n      <td>00:00</td>\n    </tr>\n    <tr>\n      <td>2</td>\n      <td>0.640516</td>\n      <td>0.272997</td>\n      <td>0.272997</td>\n      <td>00:00</td>\n    </tr>\n    <tr>\n      <td>3</td>\n      <td>0.707484</td>\n      <td>0.275177</td>\n      <td>0.275177</td>\n      <td>00:00</td>\n    </tr>\n    <tr>\n      <td>4</td>\n      <td>0.689162</td>\n      <td>0.216124</td>\n      <td>0.216124</td>\n      <td>00:00</td>\n    </tr>\n    <tr>\n      <td>5</td>\n      <td>0.709291</td>\n      <td>0.140456</td>\n      <td>0.140456</td>\n      <td>00:00</td>\n    </tr>\n    <tr>\n      <td>6</td>\n      <td>0.624823</td>\n      <td>0.228869</td>\n      <td>0.228869</td>\n      <td>00:00</td>\n    </tr>\n    <tr>\n      <td>7</td>\n      <td>0.610376</td>\n      <td>0.228120</td>\n      <td>0.228120</td>\n      <td>00:00</td>\n    </tr>\n    <tr>\n      <td>8</td>\n      <td>0.557787</td>\n      <td>0.356678</td>\n      <td>0.356678</td>\n      <td>00:00</td>\n    </tr>\n    <tr>\n      <td>9</td>\n      <td>0.569475</td>\n      <td>0.354071</td>\n      <td>0.354071</td>\n      <td>00:00</td>\n    </tr>\n    <tr>\n      <td>10</td>\n      <td>0.591490</td>\n      <td>0.283746</td>\n      <td>0.283746</td>\n      <td>00:00</td>\n    </tr>\n    <tr>\n      <td>11</td>\n      <td>0.541853</td>\n      <td>0.249387</td>\n      <td>0.249387</td>\n      <td>00:00</td>\n    </tr>\n    <tr>\n      <td>12</td>\n      <td>0.492790</td>\n      <td>0.371362</td>\n      <td>0.371362</td>\n      <td>00:00</td>\n    </tr>\n    <tr>\n      <td>13</td>\n      <td>0.460082</td>\n      <td>0.280232</td>\n      <td>0.280232</td>\n      <td>00:00</td>\n    </tr>\n    <tr>\n      <td>14</td>\n      <td>0.443956</td>\n      <td>0.232274</td>\n      <td>0.232274</td>\n      <td>00:00</td>\n    </tr>\n    <tr>\n      <td>15</td>\n      <td>0.407867</td>\n      <td>0.385394</td>\n      <td>0.385394</td>\n      <td>00:00</td>\n    </tr>\n    <tr>\n      <td>16</td>\n      <td>0.394107</td>\n      <td>0.491988</td>\n      <td>0.491988</td>\n      <td>00:00</td>\n    </tr>\n    <tr>\n      <td>17</td>\n      <td>0.375066</td>\n      <td>0.425252</td>\n      <td>0.425252</td>\n      <td>00:00</td>\n    </tr>\n    <tr>\n      <td>18</td>\n      <td>0.359681</td>\n      <td>0.221616</td>\n      <td>0.221616</td>\n      <td>00:00</td>\n    </tr>\n    <tr>\n      <td>19</td>\n      <td>0.389629</td>\n      <td>0.280023</td>\n      <td>0.280023</td>\n      <td>00:00</td>\n    </tr>\n    <tr>\n      <td>20</td>\n      <td>0.381734</td>\n      <td>0.246879</td>\n      <td>0.246879</td>\n      <td>00:00</td>\n    </tr>\n    <tr>\n      <td>21</td>\n      <td>0.357830</td>\n      <td>0.238471</td>\n      <td>0.238471</td>\n      <td>00:00</td>\n    </tr>\n    <tr>\n      <td>22</td>\n      <td>0.362210</td>\n      <td>0.233825</td>\n      <td>0.233825</td>\n      <td>00:00</td>\n    </tr>\n    <tr>\n      <td>23</td>\n      <td>0.318264</td>\n      <td>0.351101</td>\n      <td>0.351101</td>\n      <td>00:00</td>\n    </tr>\n    <tr>\n      <td>24</td>\n      <td>0.296171</td>\n      <td>0.253238</td>\n      <td>0.253238</td>\n      <td>00:00</td>\n    </tr>\n    <tr>\n      <td>25</td>\n      <td>0.292349</td>\n      <td>0.347515</td>\n      <td>0.347515</td>\n      <td>00:00</td>\n    </tr>\n    <tr>\n      <td>26</td>\n      <td>0.283199</td>\n      <td>0.270343</td>\n      <td>0.270343</td>\n      <td>00:01</td>\n    </tr>\n    <tr>\n      <td>27</td>\n      <td>0.260689</td>\n      <td>0.242146</td>\n      <td>0.242146</td>\n      <td>00:00</td>\n    </tr>\n    <tr>\n      <td>28</td>\n      <td>0.259930</td>\n      <td>0.389255</td>\n      <td>0.389255</td>\n      <td>00:00</td>\n    </tr>\n    <tr>\n      <td>29</td>\n      <td>0.280149</td>\n      <td>0.264605</td>\n      <td>0.264605</td>\n      <td>00:00</td>\n    </tr>\n    <tr>\n      <td>30</td>\n      <td>0.260995</td>\n      <td>0.224583</td>\n      <td>0.224583</td>\n      <td>00:00</td>\n    </tr>\n    <tr>\n      <td>31</td>\n      <td>0.247502</td>\n      <td>0.385103</td>\n      <td>0.385103</td>\n      <td>00:00</td>\n    </tr>\n    <tr>\n      <td>32</td>\n      <td>0.234826</td>\n      <td>0.299070</td>\n      <td>0.299070</td>\n      <td>00:00</td>\n    </tr>\n    <tr>\n      <td>33</td>\n      <td>0.209423</td>\n      <td>0.288768</td>\n      <td>0.288768</td>\n      <td>00:00</td>\n    </tr>\n    <tr>\n      <td>34</td>\n      <td>0.193776</td>\n      <td>0.369724</td>\n      <td>0.369724</td>\n      <td>00:00</td>\n    </tr>\n    <tr>\n      <td>35</td>\n      <td>0.178475</td>\n      <td>0.252890</td>\n      <td>0.252890</td>\n      <td>00:00</td>\n    </tr>\n    <tr>\n      <td>36</td>\n      <td>0.170230</td>\n      <td>0.254582</td>\n      <td>0.254582</td>\n      <td>00:00</td>\n    </tr>\n    <tr>\n      <td>37</td>\n      <td>0.173437</td>\n      <td>0.189406</td>\n      <td>0.189406</td>\n      <td>00:00</td>\n    </tr>\n    <tr>\n      <td>38</td>\n      <td>0.181348</td>\n      <td>0.334138</td>\n      <td>0.334138</td>\n      <td>00:00</td>\n    </tr>\n    <tr>\n      <td>39</td>\n      <td>0.195064</td>\n      <td>0.249525</td>\n      <td>0.249525</td>\n      <td>00:00</td>\n    </tr>\n    <tr>\n      <td>40</td>\n      <td>0.175397</td>\n      <td>0.297461</td>\n      <td>0.297461</td>\n      <td>00:00</td>\n    </tr>\n    <tr>\n      <td>41</td>\n      <td>0.200131</td>\n      <td>0.247574</td>\n      <td>0.247574</td>\n      <td>00:00</td>\n    </tr>\n    <tr>\n      <td>42</td>\n      <td>0.209580</td>\n      <td>0.302089</td>\n      <td>0.302089</td>\n      <td>00:00</td>\n    </tr>\n    <tr>\n      <td>43</td>\n      <td>0.200316</td>\n      <td>0.346727</td>\n      <td>0.346727</td>\n      <td>00:00</td>\n    </tr>\n    <tr>\n      <td>44</td>\n      <td>0.210587</td>\n      <td>0.336013</td>\n      <td>0.336013</td>\n      <td>00:00</td>\n    </tr>\n    <tr>\n      <td>45</td>\n      <td>0.199079</td>\n      <td>0.192501</td>\n      <td>0.192501</td>\n      <td>00:00</td>\n    </tr>\n    <tr>\n      <td>46</td>\n      <td>0.197719</td>\n      <td>0.348166</td>\n      <td>0.348166</td>\n      <td>00:00</td>\n    </tr>\n    <tr>\n      <td>47</td>\n      <td>0.192608</td>\n      <td>0.248629</td>\n      <td>0.248629</td>\n      <td>00:00</td>\n    </tr>\n    <tr>\n      <td>48</td>\n      <td>0.217185</td>\n      <td>0.214409</td>\n      <td>0.214409</td>\n      <td>00:00</td>\n    </tr>\n    <tr>\n      <td>49</td>\n      <td>0.229186</td>\n      <td>0.372498</td>\n      <td>0.372498</td>\n      <td>00:00</td>\n    </tr>\n  </tbody>\n</table>"
     },
     "metadata": {}
    }
   ],
   "source": [
    "learner.fit_one_cycle(EPOCHS, LR)"
   ]
  },
  {
   "cell_type": "code",
   "execution_count": 23,
   "metadata": {},
   "outputs": [
    {
     "output_type": "display_data",
     "data": {
      "text/plain": "<IPython.core.display.HTML object>",
      "text/html": ""
     },
     "metadata": {}
    }
   ],
   "source": [
    "aux = learner.get_preds(ds_type=DatasetType.Test)\n",
    "predictions = aux[0].squeeze().tolist()"
   ]
  },
  {
   "cell_type": "code",
   "execution_count": 24,
   "metadata": {},
   "outputs": [],
   "source": [
    "\n",
    "test_df[\"predicao\"] = predictions\n",
    "summary_df = summary_df.append(test_df, ignore_index=True, sort=False)"
   ]
  },
  {
   "cell_type": "code",
   "execution_count": 25,
   "metadata": {},
   "outputs": [
    {
     "output_type": "execute_result",
     "data": {
      "text/plain": "   paredao          nome  positivos  neutros  negativos  \\\n9        3  felipe_prior       2824     3707       3514   \n10       3        hadson       2344     4928       3987   \n\n    positivos_individual_pct  neutros_individual_pct  \\\n9                   0.281135                0.369039   \n10                  0.208189                0.437694   \n\n    negativos_individual_pct  positivos_global_pct  neutros_global_pct  \\\n9                   0.349826               0.54644            0.429299   \n10                  0.354117               0.45356            0.570701   \n\n    negativos_global_pct  day1  day2  day3   likes  retweets  seguidores  \\\n9               0.468471  1138  6469  2438  434766     81439      204031   \n10              0.531529  1903  6534  2822  224448     41345       10207   \n\n    rejeicao  predicao  \n9     0.2029  0.197312  \n10    0.7971 -0.068673  ",
      "text/html": "<div>\n<style scoped>\n    .dataframe tbody tr th:only-of-type {\n        vertical-align: middle;\n    }\n\n    .dataframe tbody tr th {\n        vertical-align: top;\n    }\n\n    .dataframe thead th {\n        text-align: right;\n    }\n</style>\n<table border=\"1\" class=\"dataframe\">\n  <thead>\n    <tr style=\"text-align: right;\">\n      <th></th>\n      <th>paredao</th>\n      <th>nome</th>\n      <th>positivos</th>\n      <th>neutros</th>\n      <th>negativos</th>\n      <th>positivos_individual_pct</th>\n      <th>neutros_individual_pct</th>\n      <th>negativos_individual_pct</th>\n      <th>positivos_global_pct</th>\n      <th>neutros_global_pct</th>\n      <th>negativos_global_pct</th>\n      <th>day1</th>\n      <th>day2</th>\n      <th>day3</th>\n      <th>likes</th>\n      <th>retweets</th>\n      <th>seguidores</th>\n      <th>rejeicao</th>\n      <th>predicao</th>\n    </tr>\n  </thead>\n  <tbody>\n    <tr>\n      <th>9</th>\n      <td>3</td>\n      <td>felipe_prior</td>\n      <td>2824</td>\n      <td>3707</td>\n      <td>3514</td>\n      <td>0.281135</td>\n      <td>0.369039</td>\n      <td>0.349826</td>\n      <td>0.54644</td>\n      <td>0.429299</td>\n      <td>0.468471</td>\n      <td>1138</td>\n      <td>6469</td>\n      <td>2438</td>\n      <td>434766</td>\n      <td>81439</td>\n      <td>204031</td>\n      <td>0.2029</td>\n      <td>0.197312</td>\n    </tr>\n    <tr>\n      <th>10</th>\n      <td>3</td>\n      <td>hadson</td>\n      <td>2344</td>\n      <td>4928</td>\n      <td>3987</td>\n      <td>0.208189</td>\n      <td>0.437694</td>\n      <td>0.354117</td>\n      <td>0.45356</td>\n      <td>0.570701</td>\n      <td>0.531529</td>\n      <td>1903</td>\n      <td>6534</td>\n      <td>2822</td>\n      <td>224448</td>\n      <td>41345</td>\n      <td>10207</td>\n      <td>0.7971</td>\n      <td>-0.068673</td>\n    </tr>\n  </tbody>\n</table>\n</div>"
     },
     "metadata": {},
     "execution_count": 25
    }
   ],
   "source": [
    "test_df.sort_values(by=\"predicao\", ascending=False)"
   ]
  },
  {
   "cell_type": "markdown",
   "metadata": {},
   "source": [
    "# Paredao 4"
   ]
  },
  {
   "cell_type": "code",
   "execution_count": 26,
   "metadata": {},
   "outputs": [
    {
     "output_type": "execute_result",
     "data": {
      "text/plain": "   paredao         nome  positivos  neutros  negativos  \\\n23       4         babu       6766    10814      18799   \n24       4  victor_hugo       2807     4560       4979   \n25       4        lucas      12173    17964      31523   \n\n    positivos_individual_pct  neutros_individual_pct  \\\n23                  0.185986                0.297259   \n24                  0.227361                0.369350   \n25                  0.197421                0.291340   \n\n    negativos_individual_pct  positivos_global_pct  neutros_global_pct  \\\n23                  0.516754              0.311138            0.324375   \n24                  0.403289              0.129081            0.136781   \n25                  0.511239              0.559781            0.538845   \n\n    negativos_global_pct   day1   day2  day3    likes  retweets  seguidores  \\\n23              0.339940  18271  15505  2603   614605     87114      325345   \n24              0.090035   6845   4229  1272   259802     43392       14399   \n25              0.570026  32223  22154  7283  1337004    250861       23670   \n\n    rejeicao  \n23    0.0130  \n24    0.3608  \n25    0.6262  ",
      "text/html": "<div>\n<style scoped>\n    .dataframe tbody tr th:only-of-type {\n        vertical-align: middle;\n    }\n\n    .dataframe tbody tr th {\n        vertical-align: top;\n    }\n\n    .dataframe thead th {\n        text-align: right;\n    }\n</style>\n<table border=\"1\" class=\"dataframe\">\n  <thead>\n    <tr style=\"text-align: right;\">\n      <th></th>\n      <th>paredao</th>\n      <th>nome</th>\n      <th>positivos</th>\n      <th>neutros</th>\n      <th>negativos</th>\n      <th>positivos_individual_pct</th>\n      <th>neutros_individual_pct</th>\n      <th>negativos_individual_pct</th>\n      <th>positivos_global_pct</th>\n      <th>neutros_global_pct</th>\n      <th>negativos_global_pct</th>\n      <th>day1</th>\n      <th>day2</th>\n      <th>day3</th>\n      <th>likes</th>\n      <th>retweets</th>\n      <th>seguidores</th>\n      <th>rejeicao</th>\n    </tr>\n  </thead>\n  <tbody>\n    <tr>\n      <th>23</th>\n      <td>4</td>\n      <td>babu</td>\n      <td>6766</td>\n      <td>10814</td>\n      <td>18799</td>\n      <td>0.185986</td>\n      <td>0.297259</td>\n      <td>0.516754</td>\n      <td>0.311138</td>\n      <td>0.324375</td>\n      <td>0.339940</td>\n      <td>18271</td>\n      <td>15505</td>\n      <td>2603</td>\n      <td>614605</td>\n      <td>87114</td>\n      <td>325345</td>\n      <td>0.0130</td>\n    </tr>\n    <tr>\n      <th>24</th>\n      <td>4</td>\n      <td>victor_hugo</td>\n      <td>2807</td>\n      <td>4560</td>\n      <td>4979</td>\n      <td>0.227361</td>\n      <td>0.369350</td>\n      <td>0.403289</td>\n      <td>0.129081</td>\n      <td>0.136781</td>\n      <td>0.090035</td>\n      <td>6845</td>\n      <td>4229</td>\n      <td>1272</td>\n      <td>259802</td>\n      <td>43392</td>\n      <td>14399</td>\n      <td>0.3608</td>\n    </tr>\n    <tr>\n      <th>25</th>\n      <td>4</td>\n      <td>lucas</td>\n      <td>12173</td>\n      <td>17964</td>\n      <td>31523</td>\n      <td>0.197421</td>\n      <td>0.291340</td>\n      <td>0.511239</td>\n      <td>0.559781</td>\n      <td>0.538845</td>\n      <td>0.570026</td>\n      <td>32223</td>\n      <td>22154</td>\n      <td>7283</td>\n      <td>1337004</td>\n      <td>250861</td>\n      <td>23670</td>\n      <td>0.6262</td>\n    </tr>\n  </tbody>\n</table>\n</div>"
     },
     "metadata": {},
     "execution_count": 26
    }
   ],
   "source": [
    "train_df, test_df = get_train_test(4, normalize=NORMALIZE)\n",
    "test_df\n",
    ""
   ]
  },
  {
   "cell_type": "code",
   "execution_count": 27,
   "metadata": {},
   "outputs": [],
   "source": [
    "paredoes_db = TabularDataBunch.from_df(\"\", df=train_df.drop([\"paredao\", \"nome\"], axis=1),\n",
    "                                      dep_var=\"rejeicao\", \n",
    "                                      valid_idx=np.unique(np.random.choice(len(train_df.index), 3)), \n",
    "                                      procs=[Normalize],\n",
    "                                      test_df=test_df.drop([\"paredao\", \"nome\"], axis=1),\n",
    "                                      bs=2)\n",
    "learner = tabular_learner(paredoes_db, layers=LAYERS, metrics=[mse])"
   ]
  },
  {
   "cell_type": "code",
   "execution_count": 28,
   "metadata": {},
   "outputs": [
    {
     "output_type": "display_data",
     "data": {
      "text/plain": "<IPython.core.display.HTML object>",
      "text/html": "<table border=\"1\" class=\"dataframe\">\n  <thead>\n    <tr style=\"text-align: left;\">\n      <th>epoch</th>\n      <th>train_loss</th>\n      <th>valid_loss</th>\n      <th>mean_squared_error</th>\n      <th>time</th>\n    </tr>\n  </thead>\n  <tbody>\n    <tr>\n      <td>0</td>\n      <td>0.296063</td>\n      <td>0.264364</td>\n      <td>0.264364</td>\n      <td>00:00</td>\n    </tr>\n    <tr>\n      <td>1</td>\n      <td>0.369586</td>\n      <td>0.275616</td>\n      <td>0.275616</td>\n      <td>00:00</td>\n    </tr>\n    <tr>\n      <td>2</td>\n      <td>0.396378</td>\n      <td>0.260246</td>\n      <td>0.260246</td>\n      <td>00:00</td>\n    </tr>\n    <tr>\n      <td>3</td>\n      <td>0.387868</td>\n      <td>0.436276</td>\n      <td>0.436276</td>\n      <td>00:00</td>\n    </tr>\n    <tr>\n      <td>4</td>\n      <td>0.370345</td>\n      <td>0.302945</td>\n      <td>0.302945</td>\n      <td>00:00</td>\n    </tr>\n    <tr>\n      <td>5</td>\n      <td>0.364936</td>\n      <td>0.272793</td>\n      <td>0.272793</td>\n      <td>00:00</td>\n    </tr>\n    <tr>\n      <td>6</td>\n      <td>0.344933</td>\n      <td>0.246533</td>\n      <td>0.246533</td>\n      <td>00:00</td>\n    </tr>\n    <tr>\n      <td>7</td>\n      <td>0.356341</td>\n      <td>0.232849</td>\n      <td>0.232849</td>\n      <td>00:00</td>\n    </tr>\n    <tr>\n      <td>8</td>\n      <td>0.356514</td>\n      <td>0.402457</td>\n      <td>0.402457</td>\n      <td>00:00</td>\n    </tr>\n    <tr>\n      <td>9</td>\n      <td>0.354851</td>\n      <td>0.469428</td>\n      <td>0.469428</td>\n      <td>00:00</td>\n    </tr>\n    <tr>\n      <td>10</td>\n      <td>0.330087</td>\n      <td>0.405024</td>\n      <td>0.405024</td>\n      <td>00:00</td>\n    </tr>\n    <tr>\n      <td>11</td>\n      <td>0.316920</td>\n      <td>0.251846</td>\n      <td>0.251846</td>\n      <td>00:00</td>\n    </tr>\n    <tr>\n      <td>12</td>\n      <td>0.343262</td>\n      <td>0.251616</td>\n      <td>0.251616</td>\n      <td>00:00</td>\n    </tr>\n    <tr>\n      <td>13</td>\n      <td>0.329735</td>\n      <td>0.296155</td>\n      <td>0.296155</td>\n      <td>00:00</td>\n    </tr>\n    <tr>\n      <td>14</td>\n      <td>0.308553</td>\n      <td>0.338963</td>\n      <td>0.338963</td>\n      <td>00:00</td>\n    </tr>\n    <tr>\n      <td>15</td>\n      <td>0.327185</td>\n      <td>0.294958</td>\n      <td>0.294958</td>\n      <td>00:00</td>\n    </tr>\n    <tr>\n      <td>16</td>\n      <td>0.326939</td>\n      <td>0.301542</td>\n      <td>0.301542</td>\n      <td>00:00</td>\n    </tr>\n    <tr>\n      <td>17</td>\n      <td>0.304275</td>\n      <td>0.412120</td>\n      <td>0.412120</td>\n      <td>00:00</td>\n    </tr>\n    <tr>\n      <td>18</td>\n      <td>0.300495</td>\n      <td>0.159492</td>\n      <td>0.159492</td>\n      <td>00:00</td>\n    </tr>\n    <tr>\n      <td>19</td>\n      <td>0.310547</td>\n      <td>0.234454</td>\n      <td>0.234454</td>\n      <td>00:00</td>\n    </tr>\n    <tr>\n      <td>20</td>\n      <td>0.303150</td>\n      <td>0.417274</td>\n      <td>0.417274</td>\n      <td>00:00</td>\n    </tr>\n    <tr>\n      <td>21</td>\n      <td>0.288288</td>\n      <td>0.411401</td>\n      <td>0.411401</td>\n      <td>00:00</td>\n    </tr>\n    <tr>\n      <td>22</td>\n      <td>0.287908</td>\n      <td>0.302487</td>\n      <td>0.302487</td>\n      <td>00:00</td>\n    </tr>\n    <tr>\n      <td>23</td>\n      <td>0.272340</td>\n      <td>0.326156</td>\n      <td>0.326156</td>\n      <td>00:00</td>\n    </tr>\n    <tr>\n      <td>24</td>\n      <td>0.297535</td>\n      <td>0.209005</td>\n      <td>0.209005</td>\n      <td>00:00</td>\n    </tr>\n    <tr>\n      <td>25</td>\n      <td>0.272616</td>\n      <td>0.232649</td>\n      <td>0.232649</td>\n      <td>00:00</td>\n    </tr>\n    <tr>\n      <td>26</td>\n      <td>0.260611</td>\n      <td>0.181396</td>\n      <td>0.181396</td>\n      <td>00:00</td>\n    </tr>\n    <tr>\n      <td>27</td>\n      <td>0.238503</td>\n      <td>0.217742</td>\n      <td>0.217742</td>\n      <td>00:00</td>\n    </tr>\n    <tr>\n      <td>28</td>\n      <td>0.240665</td>\n      <td>0.286642</td>\n      <td>0.286642</td>\n      <td>00:00</td>\n    </tr>\n    <tr>\n      <td>29</td>\n      <td>0.233491</td>\n      <td>0.305934</td>\n      <td>0.305934</td>\n      <td>00:00</td>\n    </tr>\n    <tr>\n      <td>30</td>\n      <td>0.229258</td>\n      <td>0.298277</td>\n      <td>0.298277</td>\n      <td>00:00</td>\n    </tr>\n    <tr>\n      <td>31</td>\n      <td>0.216262</td>\n      <td>0.274525</td>\n      <td>0.274525</td>\n      <td>00:00</td>\n    </tr>\n    <tr>\n      <td>32</td>\n      <td>0.225184</td>\n      <td>0.489241</td>\n      <td>0.489241</td>\n      <td>00:00</td>\n    </tr>\n    <tr>\n      <td>33</td>\n      <td>0.240863</td>\n      <td>0.261407</td>\n      <td>0.261407</td>\n      <td>00:00</td>\n    </tr>\n    <tr>\n      <td>34</td>\n      <td>0.241562</td>\n      <td>0.208481</td>\n      <td>0.208481</td>\n      <td>00:00</td>\n    </tr>\n    <tr>\n      <td>35</td>\n      <td>0.231331</td>\n      <td>0.120253</td>\n      <td>0.120253</td>\n      <td>00:00</td>\n    </tr>\n    <tr>\n      <td>36</td>\n      <td>0.217150</td>\n      <td>0.139058</td>\n      <td>0.139058</td>\n      <td>00:00</td>\n    </tr>\n    <tr>\n      <td>37</td>\n      <td>0.216095</td>\n      <td>0.268491</td>\n      <td>0.268491</td>\n      <td>00:00</td>\n    </tr>\n    <tr>\n      <td>38</td>\n      <td>0.206917</td>\n      <td>0.290082</td>\n      <td>0.290082</td>\n      <td>00:00</td>\n    </tr>\n    <tr>\n      <td>39</td>\n      <td>0.221181</td>\n      <td>0.289938</td>\n      <td>0.289938</td>\n      <td>00:00</td>\n    </tr>\n    <tr>\n      <td>40</td>\n      <td>0.228293</td>\n      <td>0.284829</td>\n      <td>0.284829</td>\n      <td>00:00</td>\n    </tr>\n    <tr>\n      <td>41</td>\n      <td>0.236924</td>\n      <td>0.291999</td>\n      <td>0.291999</td>\n      <td>00:00</td>\n    </tr>\n    <tr>\n      <td>42</td>\n      <td>0.230600</td>\n      <td>0.175286</td>\n      <td>0.175286</td>\n      <td>00:00</td>\n    </tr>\n    <tr>\n      <td>43</td>\n      <td>0.255548</td>\n      <td>0.192208</td>\n      <td>0.192208</td>\n      <td>00:00</td>\n    </tr>\n    <tr>\n      <td>44</td>\n      <td>0.230314</td>\n      <td>0.217306</td>\n      <td>0.217306</td>\n      <td>00:00</td>\n    </tr>\n    <tr>\n      <td>45</td>\n      <td>0.220961</td>\n      <td>0.421669</td>\n      <td>0.421669</td>\n      <td>00:00</td>\n    </tr>\n    <tr>\n      <td>46</td>\n      <td>0.204471</td>\n      <td>0.499647</td>\n      <td>0.499647</td>\n      <td>00:00</td>\n    </tr>\n    <tr>\n      <td>47</td>\n      <td>0.216797</td>\n      <td>0.229528</td>\n      <td>0.229528</td>\n      <td>00:00</td>\n    </tr>\n    <tr>\n      <td>48</td>\n      <td>0.205508</td>\n      <td>0.150750</td>\n      <td>0.150750</td>\n      <td>00:00</td>\n    </tr>\n    <tr>\n      <td>49</td>\n      <td>0.193608</td>\n      <td>0.117045</td>\n      <td>0.117045</td>\n      <td>00:00</td>\n    </tr>\n  </tbody>\n</table>"
     },
     "metadata": {}
    }
   ],
   "source": [
    "learner.fit_one_cycle(EPOCHS, LR)"
   ]
  },
  {
   "cell_type": "code",
   "execution_count": 29,
   "metadata": {},
   "outputs": [
    {
     "output_type": "display_data",
     "data": {
      "text/plain": "<IPython.core.display.HTML object>",
      "text/html": ""
     },
     "metadata": {}
    }
   ],
   "source": [
    "aux = learner.get_preds(ds_type=DatasetType.Test)\n",
    "predictions = aux[0].squeeze().tolist()"
   ]
  },
  {
   "cell_type": "code",
   "execution_count": 30,
   "metadata": {},
   "outputs": [],
   "source": [
    "test_df[\"predicao\"] = predictions\n",
    "summary_df = summary_df.append(test_df, ignore_index=True, sort=False)"
   ]
  },
  {
   "cell_type": "code",
   "execution_count": 31,
   "metadata": {},
   "outputs": [
    {
     "output_type": "execute_result",
     "data": {
      "text/plain": "   paredao         nome  positivos  neutros  negativos  \\\n25       4        lucas      12173    17964      31523   \n24       4  victor_hugo       2807     4560       4979   \n23       4         babu       6766    10814      18799   \n\n    positivos_individual_pct  neutros_individual_pct  \\\n25                  0.197421                0.291340   \n24                  0.227361                0.369350   \n23                  0.185986                0.297259   \n\n    negativos_individual_pct  positivos_global_pct  neutros_global_pct  \\\n25                  0.511239              0.559781            0.538845   \n24                  0.403289              0.129081            0.136781   \n23                  0.516754              0.311138            0.324375   \n\n    negativos_global_pct   day1   day2  day3    likes  retweets  seguidores  \\\n25              0.570026  32223  22154  7283  1337004    250861       23670   \n24              0.090035   6845   4229  1272   259802     43392       14399   \n23              0.339940  18271  15505  2603   614605     87114      325345   \n\n    rejeicao  predicao  \n25    0.6262  0.090084  \n24    0.3608  0.085708  \n23    0.0130 -0.020212  ",
      "text/html": "<div>\n<style scoped>\n    .dataframe tbody tr th:only-of-type {\n        vertical-align: middle;\n    }\n\n    .dataframe tbody tr th {\n        vertical-align: top;\n    }\n\n    .dataframe thead th {\n        text-align: right;\n    }\n</style>\n<table border=\"1\" class=\"dataframe\">\n  <thead>\n    <tr style=\"text-align: right;\">\n      <th></th>\n      <th>paredao</th>\n      <th>nome</th>\n      <th>positivos</th>\n      <th>neutros</th>\n      <th>negativos</th>\n      <th>positivos_individual_pct</th>\n      <th>neutros_individual_pct</th>\n      <th>negativos_individual_pct</th>\n      <th>positivos_global_pct</th>\n      <th>neutros_global_pct</th>\n      <th>negativos_global_pct</th>\n      <th>day1</th>\n      <th>day2</th>\n      <th>day3</th>\n      <th>likes</th>\n      <th>retweets</th>\n      <th>seguidores</th>\n      <th>rejeicao</th>\n      <th>predicao</th>\n    </tr>\n  </thead>\n  <tbody>\n    <tr>\n      <th>25</th>\n      <td>4</td>\n      <td>lucas</td>\n      <td>12173</td>\n      <td>17964</td>\n      <td>31523</td>\n      <td>0.197421</td>\n      <td>0.291340</td>\n      <td>0.511239</td>\n      <td>0.559781</td>\n      <td>0.538845</td>\n      <td>0.570026</td>\n      <td>32223</td>\n      <td>22154</td>\n      <td>7283</td>\n      <td>1337004</td>\n      <td>250861</td>\n      <td>23670</td>\n      <td>0.6262</td>\n      <td>0.090084</td>\n    </tr>\n    <tr>\n      <th>24</th>\n      <td>4</td>\n      <td>victor_hugo</td>\n      <td>2807</td>\n      <td>4560</td>\n      <td>4979</td>\n      <td>0.227361</td>\n      <td>0.369350</td>\n      <td>0.403289</td>\n      <td>0.129081</td>\n      <td>0.136781</td>\n      <td>0.090035</td>\n      <td>6845</td>\n      <td>4229</td>\n      <td>1272</td>\n      <td>259802</td>\n      <td>43392</td>\n      <td>14399</td>\n      <td>0.3608</td>\n      <td>0.085708</td>\n    </tr>\n    <tr>\n      <th>23</th>\n      <td>4</td>\n      <td>babu</td>\n      <td>6766</td>\n      <td>10814</td>\n      <td>18799</td>\n      <td>0.185986</td>\n      <td>0.297259</td>\n      <td>0.516754</td>\n      <td>0.311138</td>\n      <td>0.324375</td>\n      <td>0.339940</td>\n      <td>18271</td>\n      <td>15505</td>\n      <td>2603</td>\n      <td>614605</td>\n      <td>87114</td>\n      <td>325345</td>\n      <td>0.0130</td>\n      <td>-0.020212</td>\n    </tr>\n  </tbody>\n</table>\n</div>"
     },
     "metadata": {},
     "execution_count": 31
    }
   ],
   "source": [
    "test_df.sort_values(by=\"predicao\", ascending=False)"
   ]
  },
  {
   "cell_type": "markdown",
   "metadata": {},
   "source": [
    "# Paredao 5"
   ]
  },
  {
   "cell_type": "code",
   "execution_count": 32,
   "metadata": {},
   "outputs": [
    {
     "output_type": "execute_result",
     "data": {
      "text/plain": "  paredao            nome  positivos  neutros  negativos  \\\n3       5  bianca_andrade       4239     8067       6802   \n4       5       flayslene       2304     4170       6222   \n5       5    felipe_prior       4887     9452      19076   \n\n   positivos_individual_pct  neutros_individual_pct  negativos_individual_pct  \\\n3                  0.221844                0.422179                  0.355977   \n4                  0.181474                0.328450                  0.490076   \n5                  0.146252                0.282867                  0.570881   \n\n   positivos_global_pct  neutros_global_pct  negativos_global_pct  day1  \\\n3              0.370866            0.371940              0.211900  1998   \n4              0.201575            0.192263              0.193832  1935   \n5              0.427559            0.435797              0.594268  3101   \n\n    day2  day3   likes  retweets  seguidores  rejeicao  \n3  10238  6872  136880     18673      411880    0.5309  \n4   7920  2841  244036     42579      104138    0.1764  \n5  21636  8678  703621    137701      204031    0.2927  ",
      "text/html": "<div>\n<style scoped>\n    .dataframe tbody tr th:only-of-type {\n        vertical-align: middle;\n    }\n\n    .dataframe tbody tr th {\n        vertical-align: top;\n    }\n\n    .dataframe thead th {\n        text-align: right;\n    }\n</style>\n<table border=\"1\" class=\"dataframe\">\n  <thead>\n    <tr style=\"text-align: right;\">\n      <th></th>\n      <th>paredao</th>\n      <th>nome</th>\n      <th>positivos</th>\n      <th>neutros</th>\n      <th>negativos</th>\n      <th>positivos_individual_pct</th>\n      <th>neutros_individual_pct</th>\n      <th>negativos_individual_pct</th>\n      <th>positivos_global_pct</th>\n      <th>neutros_global_pct</th>\n      <th>negativos_global_pct</th>\n      <th>day1</th>\n      <th>day2</th>\n      <th>day3</th>\n      <th>likes</th>\n      <th>retweets</th>\n      <th>seguidores</th>\n      <th>rejeicao</th>\n    </tr>\n  </thead>\n  <tbody>\n    <tr>\n      <th>3</th>\n      <td>5</td>\n      <td>bianca_andrade</td>\n      <td>4239</td>\n      <td>8067</td>\n      <td>6802</td>\n      <td>0.221844</td>\n      <td>0.422179</td>\n      <td>0.355977</td>\n      <td>0.370866</td>\n      <td>0.371940</td>\n      <td>0.211900</td>\n      <td>1998</td>\n      <td>10238</td>\n      <td>6872</td>\n      <td>136880</td>\n      <td>18673</td>\n      <td>411880</td>\n      <td>0.5309</td>\n    </tr>\n    <tr>\n      <th>4</th>\n      <td>5</td>\n      <td>flayslene</td>\n      <td>2304</td>\n      <td>4170</td>\n      <td>6222</td>\n      <td>0.181474</td>\n      <td>0.328450</td>\n      <td>0.490076</td>\n      <td>0.201575</td>\n      <td>0.192263</td>\n      <td>0.193832</td>\n      <td>1935</td>\n      <td>7920</td>\n      <td>2841</td>\n      <td>244036</td>\n      <td>42579</td>\n      <td>104138</td>\n      <td>0.1764</td>\n    </tr>\n    <tr>\n      <th>5</th>\n      <td>5</td>\n      <td>felipe_prior</td>\n      <td>4887</td>\n      <td>9452</td>\n      <td>19076</td>\n      <td>0.146252</td>\n      <td>0.282867</td>\n      <td>0.570881</td>\n      <td>0.427559</td>\n      <td>0.435797</td>\n      <td>0.594268</td>\n      <td>3101</td>\n      <td>21636</td>\n      <td>8678</td>\n      <td>703621</td>\n      <td>137701</td>\n      <td>204031</td>\n      <td>0.2927</td>\n    </tr>\n  </tbody>\n</table>\n</div>"
     },
     "metadata": {},
     "execution_count": 32
    }
   ],
   "source": [
    "train_df, test_df = get_train_test(5, normalize=NORMALIZE)\n",
    "test_df\n",
    ""
   ]
  },
  {
   "cell_type": "code",
   "execution_count": 33,
   "metadata": {},
   "outputs": [],
   "source": [
    "paredoes_db = TabularDataBunch.from_df(\"\", df=train_df.drop([\"paredao\", \"nome\"], axis=1),\n",
    "                                      dep_var=\"rejeicao\", \n",
    "                                      valid_idx=np.unique(np.random.choice(len(train_df.index), 3)), \n",
    "                                      procs=[Normalize],\n",
    "                                      test_df=test_df.drop([\"paredao\", \"nome\"], axis=1),\n",
    "                                      bs=2)\n",
    "learner = tabular_learner(paredoes_db, layers=LAYERS, metrics=[mse])"
   ]
  },
  {
   "cell_type": "code",
   "execution_count": 34,
   "metadata": {},
   "outputs": [
    {
     "output_type": "display_data",
     "data": {
      "text/plain": "<IPython.core.display.HTML object>",
      "text/html": "<table border=\"1\" class=\"dataframe\">\n  <thead>\n    <tr style=\"text-align: left;\">\n      <th>epoch</th>\n      <th>train_loss</th>\n      <th>valid_loss</th>\n      <th>mean_squared_error</th>\n      <th>time</th>\n    </tr>\n  </thead>\n  <tbody>\n    <tr>\n      <td>0</td>\n      <td>0.566943</td>\n      <td>0.187514</td>\n      <td>0.187514</td>\n      <td>00:00</td>\n    </tr>\n    <tr>\n      <td>1</td>\n      <td>0.497551</td>\n      <td>0.240733</td>\n      <td>0.240733</td>\n      <td>00:00</td>\n    </tr>\n    <tr>\n      <td>2</td>\n      <td>0.525998</td>\n      <td>0.293711</td>\n      <td>0.293711</td>\n      <td>00:00</td>\n    </tr>\n    <tr>\n      <td>3</td>\n      <td>0.458638</td>\n      <td>0.278660</td>\n      <td>0.278660</td>\n      <td>00:00</td>\n    </tr>\n    <tr>\n      <td>4</td>\n      <td>0.513348</td>\n      <td>0.407608</td>\n      <td>0.407608</td>\n      <td>00:00</td>\n    </tr>\n    <tr>\n      <td>5</td>\n      <td>0.566622</td>\n      <td>0.440987</td>\n      <td>0.440987</td>\n      <td>00:00</td>\n    </tr>\n    <tr>\n      <td>6</td>\n      <td>0.519338</td>\n      <td>0.301273</td>\n      <td>0.301273</td>\n      <td>00:00</td>\n    </tr>\n    <tr>\n      <td>7</td>\n      <td>0.472280</td>\n      <td>0.315232</td>\n      <td>0.315232</td>\n      <td>00:00</td>\n    </tr>\n    <tr>\n      <td>8</td>\n      <td>0.444906</td>\n      <td>0.337697</td>\n      <td>0.337697</td>\n      <td>00:00</td>\n    </tr>\n    <tr>\n      <td>9</td>\n      <td>0.479180</td>\n      <td>0.357806</td>\n      <td>0.357806</td>\n      <td>00:00</td>\n    </tr>\n    <tr>\n      <td>10</td>\n      <td>0.461263</td>\n      <td>0.392645</td>\n      <td>0.392645</td>\n      <td>00:00</td>\n    </tr>\n    <tr>\n      <td>11</td>\n      <td>0.440131</td>\n      <td>0.419843</td>\n      <td>0.419843</td>\n      <td>00:00</td>\n    </tr>\n    <tr>\n      <td>12</td>\n      <td>0.392991</td>\n      <td>0.300520</td>\n      <td>0.300520</td>\n      <td>00:00</td>\n    </tr>\n    <tr>\n      <td>13</td>\n      <td>0.421905</td>\n      <td>0.321028</td>\n      <td>0.321028</td>\n      <td>00:00</td>\n    </tr>\n    <tr>\n      <td>14</td>\n      <td>0.397896</td>\n      <td>0.292314</td>\n      <td>0.292314</td>\n      <td>00:00</td>\n    </tr>\n    <tr>\n      <td>15</td>\n      <td>0.402324</td>\n      <td>0.337600</td>\n      <td>0.337600</td>\n      <td>00:00</td>\n    </tr>\n    <tr>\n      <td>16</td>\n      <td>0.374710</td>\n      <td>0.379177</td>\n      <td>0.379177</td>\n      <td>00:00</td>\n    </tr>\n    <tr>\n      <td>17</td>\n      <td>0.359951</td>\n      <td>0.290728</td>\n      <td>0.290728</td>\n      <td>00:00</td>\n    </tr>\n    <tr>\n      <td>18</td>\n      <td>0.357261</td>\n      <td>0.246411</td>\n      <td>0.246411</td>\n      <td>00:00</td>\n    </tr>\n    <tr>\n      <td>19</td>\n      <td>0.359251</td>\n      <td>0.291546</td>\n      <td>0.291546</td>\n      <td>00:00</td>\n    </tr>\n    <tr>\n      <td>20</td>\n      <td>0.375893</td>\n      <td>0.363300</td>\n      <td>0.363300</td>\n      <td>00:00</td>\n    </tr>\n    <tr>\n      <td>21</td>\n      <td>0.363283</td>\n      <td>0.396852</td>\n      <td>0.396852</td>\n      <td>00:00</td>\n    </tr>\n    <tr>\n      <td>22</td>\n      <td>0.332316</td>\n      <td>0.641829</td>\n      <td>0.641829</td>\n      <td>00:00</td>\n    </tr>\n    <tr>\n      <td>23</td>\n      <td>0.326134</td>\n      <td>0.558598</td>\n      <td>0.558598</td>\n      <td>00:00</td>\n    </tr>\n    <tr>\n      <td>24</td>\n      <td>0.336331</td>\n      <td>0.439373</td>\n      <td>0.439373</td>\n      <td>00:00</td>\n    </tr>\n    <tr>\n      <td>25</td>\n      <td>0.343416</td>\n      <td>0.613467</td>\n      <td>0.613467</td>\n      <td>00:00</td>\n    </tr>\n    <tr>\n      <td>26</td>\n      <td>0.368567</td>\n      <td>0.434768</td>\n      <td>0.434768</td>\n      <td>00:00</td>\n    </tr>\n    <tr>\n      <td>27</td>\n      <td>0.382350</td>\n      <td>0.501857</td>\n      <td>0.501857</td>\n      <td>00:00</td>\n    </tr>\n    <tr>\n      <td>28</td>\n      <td>0.370513</td>\n      <td>0.399863</td>\n      <td>0.399863</td>\n      <td>00:00</td>\n    </tr>\n    <tr>\n      <td>29</td>\n      <td>0.358896</td>\n      <td>0.332913</td>\n      <td>0.332913</td>\n      <td>00:00</td>\n    </tr>\n    <tr>\n      <td>30</td>\n      <td>0.336585</td>\n      <td>0.360388</td>\n      <td>0.360388</td>\n      <td>00:00</td>\n    </tr>\n    <tr>\n      <td>31</td>\n      <td>0.320833</td>\n      <td>0.429334</td>\n      <td>0.429334</td>\n      <td>00:00</td>\n    </tr>\n    <tr>\n      <td>32</td>\n      <td>0.325614</td>\n      <td>0.195392</td>\n      <td>0.195392</td>\n      <td>00:00</td>\n    </tr>\n    <tr>\n      <td>33</td>\n      <td>0.327898</td>\n      <td>0.293991</td>\n      <td>0.293991</td>\n      <td>00:00</td>\n    </tr>\n    <tr>\n      <td>34</td>\n      <td>0.326407</td>\n      <td>0.278959</td>\n      <td>0.278959</td>\n      <td>00:00</td>\n    </tr>\n    <tr>\n      <td>35</td>\n      <td>0.304374</td>\n      <td>0.295597</td>\n      <td>0.295597</td>\n      <td>00:00</td>\n    </tr>\n    <tr>\n      <td>36</td>\n      <td>0.294483</td>\n      <td>0.265298</td>\n      <td>0.265298</td>\n      <td>00:00</td>\n    </tr>\n    <tr>\n      <td>37</td>\n      <td>0.273624</td>\n      <td>0.295223</td>\n      <td>0.295223</td>\n      <td>00:00</td>\n    </tr>\n    <tr>\n      <td>38</td>\n      <td>0.286208</td>\n      <td>0.435666</td>\n      <td>0.435666</td>\n      <td>00:00</td>\n    </tr>\n    <tr>\n      <td>39</td>\n      <td>0.269162</td>\n      <td>0.341035</td>\n      <td>0.341035</td>\n      <td>00:00</td>\n    </tr>\n    <tr>\n      <td>40</td>\n      <td>0.257527</td>\n      <td>0.286703</td>\n      <td>0.286703</td>\n      <td>00:00</td>\n    </tr>\n    <tr>\n      <td>41</td>\n      <td>0.258685</td>\n      <td>0.210559</td>\n      <td>0.210559</td>\n      <td>00:00</td>\n    </tr>\n    <tr>\n      <td>42</td>\n      <td>0.251940</td>\n      <td>0.362087</td>\n      <td>0.362087</td>\n      <td>00:00</td>\n    </tr>\n    <tr>\n      <td>43</td>\n      <td>0.266025</td>\n      <td>0.387139</td>\n      <td>0.387139</td>\n      <td>00:00</td>\n    </tr>\n    <tr>\n      <td>44</td>\n      <td>0.254291</td>\n      <td>0.307370</td>\n      <td>0.307370</td>\n      <td>00:00</td>\n    </tr>\n    <tr>\n      <td>45</td>\n      <td>0.259449</td>\n      <td>0.550295</td>\n      <td>0.550295</td>\n      <td>00:00</td>\n    </tr>\n    <tr>\n      <td>46</td>\n      <td>0.253104</td>\n      <td>0.401589</td>\n      <td>0.401589</td>\n      <td>00:00</td>\n    </tr>\n    <tr>\n      <td>47</td>\n      <td>0.253288</td>\n      <td>0.585831</td>\n      <td>0.585831</td>\n      <td>00:00</td>\n    </tr>\n    <tr>\n      <td>48</td>\n      <td>0.251248</td>\n      <td>0.439179</td>\n      <td>0.439179</td>\n      <td>00:00</td>\n    </tr>\n    <tr>\n      <td>49</td>\n      <td>0.258688</td>\n      <td>0.264372</td>\n      <td>0.264372</td>\n      <td>00:00</td>\n    </tr>\n  </tbody>\n</table>"
     },
     "metadata": {}
    }
   ],
   "source": [
    "learner.fit_one_cycle(EPOCHS, LR)"
   ]
  },
  {
   "cell_type": "code",
   "execution_count": 35,
   "metadata": {},
   "outputs": [
    {
     "output_type": "display_data",
     "data": {
      "text/plain": "<IPython.core.display.HTML object>",
      "text/html": ""
     },
     "metadata": {}
    }
   ],
   "source": [
    "aux = learner.get_preds(ds_type=DatasetType.Test)\n",
    "predictions = aux[0].squeeze().tolist()"
   ]
  },
  {
   "cell_type": "code",
   "execution_count": 36,
   "metadata": {},
   "outputs": [],
   "source": [
    "test_df[\"predicao\"] = predictions\n",
    "summary_df = summary_df.append(test_df, ignore_index=True, sort=False)"
   ]
  },
  {
   "cell_type": "code",
   "execution_count": 37,
   "metadata": {},
   "outputs": [
    {
     "output_type": "execute_result",
     "data": {
      "text/plain": "  paredao            nome  positivos  neutros  negativos  \\\n3       5  bianca_andrade       4239     8067       6802   \n5       5    felipe_prior       4887     9452      19076   \n4       5       flayslene       2304     4170       6222   \n\n   positivos_individual_pct  neutros_individual_pct  negativos_individual_pct  \\\n3                  0.221844                0.422179                  0.355977   \n5                  0.146252                0.282867                  0.570881   \n4                  0.181474                0.328450                  0.490076   \n\n   positivos_global_pct  neutros_global_pct  negativos_global_pct  day1  \\\n3              0.370866            0.371940              0.211900  1998   \n5              0.427559            0.435797              0.594268  3101   \n4              0.201575            0.192263              0.193832  1935   \n\n    day2  day3   likes  retweets  seguidores  rejeicao  predicao  \n3  10238  6872  136880     18673      411880    0.5309  0.180918  \n5  21636  8678  703621    137701      204031    0.2927 -0.028167  \n4   7920  2841  244036     42579      104138    0.1764 -0.193095  ",
      "text/html": "<div>\n<style scoped>\n    .dataframe tbody tr th:only-of-type {\n        vertical-align: middle;\n    }\n\n    .dataframe tbody tr th {\n        vertical-align: top;\n    }\n\n    .dataframe thead th {\n        text-align: right;\n    }\n</style>\n<table border=\"1\" class=\"dataframe\">\n  <thead>\n    <tr style=\"text-align: right;\">\n      <th></th>\n      <th>paredao</th>\n      <th>nome</th>\n      <th>positivos</th>\n      <th>neutros</th>\n      <th>negativos</th>\n      <th>positivos_individual_pct</th>\n      <th>neutros_individual_pct</th>\n      <th>negativos_individual_pct</th>\n      <th>positivos_global_pct</th>\n      <th>neutros_global_pct</th>\n      <th>negativos_global_pct</th>\n      <th>day1</th>\n      <th>day2</th>\n      <th>day3</th>\n      <th>likes</th>\n      <th>retweets</th>\n      <th>seguidores</th>\n      <th>rejeicao</th>\n      <th>predicao</th>\n    </tr>\n  </thead>\n  <tbody>\n    <tr>\n      <th>3</th>\n      <td>5</td>\n      <td>bianca_andrade</td>\n      <td>4239</td>\n      <td>8067</td>\n      <td>6802</td>\n      <td>0.221844</td>\n      <td>0.422179</td>\n      <td>0.355977</td>\n      <td>0.370866</td>\n      <td>0.371940</td>\n      <td>0.211900</td>\n      <td>1998</td>\n      <td>10238</td>\n      <td>6872</td>\n      <td>136880</td>\n      <td>18673</td>\n      <td>411880</td>\n      <td>0.5309</td>\n      <td>0.180918</td>\n    </tr>\n    <tr>\n      <th>5</th>\n      <td>5</td>\n      <td>felipe_prior</td>\n      <td>4887</td>\n      <td>9452</td>\n      <td>19076</td>\n      <td>0.146252</td>\n      <td>0.282867</td>\n      <td>0.570881</td>\n      <td>0.427559</td>\n      <td>0.435797</td>\n      <td>0.594268</td>\n      <td>3101</td>\n      <td>21636</td>\n      <td>8678</td>\n      <td>703621</td>\n      <td>137701</td>\n      <td>204031</td>\n      <td>0.2927</td>\n      <td>-0.028167</td>\n    </tr>\n    <tr>\n      <th>4</th>\n      <td>5</td>\n      <td>flayslene</td>\n      <td>2304</td>\n      <td>4170</td>\n      <td>6222</td>\n      <td>0.181474</td>\n      <td>0.328450</td>\n      <td>0.490076</td>\n      <td>0.201575</td>\n      <td>0.192263</td>\n      <td>0.193832</td>\n      <td>1935</td>\n      <td>7920</td>\n      <td>2841</td>\n      <td>244036</td>\n      <td>42579</td>\n      <td>104138</td>\n      <td>0.1764</td>\n      <td>-0.193095</td>\n    </tr>\n  </tbody>\n</table>\n</div>"
     },
     "metadata": {},
     "execution_count": 37
    }
   ],
   "source": [
    "test_df.sort_values(by=\"predicao\", ascending=False)"
   ]
  },
  {
   "cell_type": "markdown",
   "metadata": {},
   "source": [
    "# Paredao 6"
   ]
  },
  {
   "cell_type": "code",
   "execution_count": 38,
   "metadata": {},
   "outputs": [
    {
     "output_type": "execute_result",
     "data": {
      "text/plain": "  paredao             nome  positivos  neutros  negativos  \\\n0       6  gizelly_bicalho      20697    18318      14428   \n1       6        guilherme      15623    26030      61087   \n2       6            pyong      24067    31118      59615   \n\n   positivos_individual_pct  neutros_individual_pct  negativos_individual_pct  \\\n0                  0.387272                0.342758                  0.269970   \n1                  0.152063                0.253358                  0.594579   \n2                  0.209643                0.271063                  0.519294   \n\n   positivos_global_pct  neutros_global_pct  negativos_global_pct   day1  \\\n0              0.342739            0.242732              0.106771  20904   \n1              0.258715            0.344924              0.452061  49438   \n2              0.398546            0.412345              0.441168  38968   \n\n    day2   day3    likes  retweets  seguidores  rejeicao  \n0  23543   8996  2513041    427327      234977    0.0064  \n1  35276  18026  2623616    513321      103421    0.5607  \n2  53242  22590  2790406    500118     1431039    0.4329  ",
      "text/html": "<div>\n<style scoped>\n    .dataframe tbody tr th:only-of-type {\n        vertical-align: middle;\n    }\n\n    .dataframe tbody tr th {\n        vertical-align: top;\n    }\n\n    .dataframe thead th {\n        text-align: right;\n    }\n</style>\n<table border=\"1\" class=\"dataframe\">\n  <thead>\n    <tr style=\"text-align: right;\">\n      <th></th>\n      <th>paredao</th>\n      <th>nome</th>\n      <th>positivos</th>\n      <th>neutros</th>\n      <th>negativos</th>\n      <th>positivos_individual_pct</th>\n      <th>neutros_individual_pct</th>\n      <th>negativos_individual_pct</th>\n      <th>positivos_global_pct</th>\n      <th>neutros_global_pct</th>\n      <th>negativos_global_pct</th>\n      <th>day1</th>\n      <th>day2</th>\n      <th>day3</th>\n      <th>likes</th>\n      <th>retweets</th>\n      <th>seguidores</th>\n      <th>rejeicao</th>\n    </tr>\n  </thead>\n  <tbody>\n    <tr>\n      <th>0</th>\n      <td>6</td>\n      <td>gizelly_bicalho</td>\n      <td>20697</td>\n      <td>18318</td>\n      <td>14428</td>\n      <td>0.387272</td>\n      <td>0.342758</td>\n      <td>0.269970</td>\n      <td>0.342739</td>\n      <td>0.242732</td>\n      <td>0.106771</td>\n      <td>20904</td>\n      <td>23543</td>\n      <td>8996</td>\n      <td>2513041</td>\n      <td>427327</td>\n      <td>234977</td>\n      <td>0.0064</td>\n    </tr>\n    <tr>\n      <th>1</th>\n      <td>6</td>\n      <td>guilherme</td>\n      <td>15623</td>\n      <td>26030</td>\n      <td>61087</td>\n      <td>0.152063</td>\n      <td>0.253358</td>\n      <td>0.594579</td>\n      <td>0.258715</td>\n      <td>0.344924</td>\n      <td>0.452061</td>\n      <td>49438</td>\n      <td>35276</td>\n      <td>18026</td>\n      <td>2623616</td>\n      <td>513321</td>\n      <td>103421</td>\n      <td>0.5607</td>\n    </tr>\n    <tr>\n      <th>2</th>\n      <td>6</td>\n      <td>pyong</td>\n      <td>24067</td>\n      <td>31118</td>\n      <td>59615</td>\n      <td>0.209643</td>\n      <td>0.271063</td>\n      <td>0.519294</td>\n      <td>0.398546</td>\n      <td>0.412345</td>\n      <td>0.441168</td>\n      <td>38968</td>\n      <td>53242</td>\n      <td>22590</td>\n      <td>2790406</td>\n      <td>500118</td>\n      <td>1431039</td>\n      <td>0.4329</td>\n    </tr>\n  </tbody>\n</table>\n</div>"
     },
     "metadata": {},
     "execution_count": 38
    }
   ],
   "source": [
    "train_df, test_df = get_train_test(6, normalize=NORMALIZE)\n",
    "test_df\n",
    ""
   ]
  },
  {
   "cell_type": "code",
   "execution_count": 39,
   "metadata": {},
   "outputs": [],
   "source": [
    "paredoes_db = TabularDataBunch.from_df(\"\", df=train_df.drop([\"paredao\", \"nome\"], axis=1),\n",
    "                                      dep_var=\"rejeicao\", \n",
    "                                      valid_idx=np.unique(np.random.choice(len(train_df.index), 3)), \n",
    "                                      procs=[Normalize],\n",
    "                                      test_df=test_df.drop([\"paredao\", \"nome\"], axis=1),\n",
    "                                      bs=2)\n",
    "learner = tabular_learner(paredoes_db, layers=LAYERS, metrics=[mse])"
   ]
  },
  {
   "cell_type": "code",
   "execution_count": 40,
   "metadata": {},
   "outputs": [
    {
     "output_type": "display_data",
     "data": {
      "text/plain": "<IPython.core.display.HTML object>",
      "text/html": "<table border=\"1\" class=\"dataframe\">\n  <thead>\n    <tr style=\"text-align: left;\">\n      <th>epoch</th>\n      <th>train_loss</th>\n      <th>valid_loss</th>\n      <th>mean_squared_error</th>\n      <th>time</th>\n    </tr>\n  </thead>\n  <tbody>\n    <tr>\n      <td>0</td>\n      <td>0.600801</td>\n      <td>0.135365</td>\n      <td>0.135365</td>\n      <td>00:00</td>\n    </tr>\n    <tr>\n      <td>1</td>\n      <td>0.545668</td>\n      <td>0.212784</td>\n      <td>0.212784</td>\n      <td>00:00</td>\n    </tr>\n    <tr>\n      <td>2</td>\n      <td>0.528486</td>\n      <td>0.328423</td>\n      <td>0.328423</td>\n      <td>00:00</td>\n    </tr>\n    <tr>\n      <td>3</td>\n      <td>0.474203</td>\n      <td>0.435677</td>\n      <td>0.435677</td>\n      <td>00:00</td>\n    </tr>\n    <tr>\n      <td>4</td>\n      <td>0.464475</td>\n      <td>0.633227</td>\n      <td>0.633227</td>\n      <td>00:00</td>\n    </tr>\n    <tr>\n      <td>5</td>\n      <td>0.471676</td>\n      <td>0.588018</td>\n      <td>0.588018</td>\n      <td>00:00</td>\n    </tr>\n    <tr>\n      <td>6</td>\n      <td>0.419200</td>\n      <td>0.456299</td>\n      <td>0.456299</td>\n      <td>00:00</td>\n    </tr>\n    <tr>\n      <td>7</td>\n      <td>0.424966</td>\n      <td>0.700212</td>\n      <td>0.700212</td>\n      <td>00:00</td>\n    </tr>\n    <tr>\n      <td>8</td>\n      <td>0.403626</td>\n      <td>0.421421</td>\n      <td>0.421421</td>\n      <td>00:00</td>\n    </tr>\n    <tr>\n      <td>9</td>\n      <td>0.411416</td>\n      <td>0.712422</td>\n      <td>0.712422</td>\n      <td>00:00</td>\n    </tr>\n    <tr>\n      <td>10</td>\n      <td>0.405562</td>\n      <td>0.846456</td>\n      <td>0.846456</td>\n      <td>00:00</td>\n    </tr>\n    <tr>\n      <td>11</td>\n      <td>0.377753</td>\n      <td>0.488908</td>\n      <td>0.488908</td>\n      <td>00:00</td>\n    </tr>\n    <tr>\n      <td>12</td>\n      <td>0.357611</td>\n      <td>0.376096</td>\n      <td>0.376096</td>\n      <td>00:00</td>\n    </tr>\n    <tr>\n      <td>13</td>\n      <td>0.328247</td>\n      <td>0.315457</td>\n      <td>0.315457</td>\n      <td>00:00</td>\n    </tr>\n    <tr>\n      <td>14</td>\n      <td>0.301361</td>\n      <td>0.844036</td>\n      <td>0.844036</td>\n      <td>00:00</td>\n    </tr>\n    <tr>\n      <td>15</td>\n      <td>0.279770</td>\n      <td>0.703800</td>\n      <td>0.703800</td>\n      <td>00:00</td>\n    </tr>\n    <tr>\n      <td>16</td>\n      <td>0.295111</td>\n      <td>0.467448</td>\n      <td>0.467448</td>\n      <td>00:00</td>\n    </tr>\n    <tr>\n      <td>17</td>\n      <td>0.310423</td>\n      <td>0.364187</td>\n      <td>0.364187</td>\n      <td>00:00</td>\n    </tr>\n    <tr>\n      <td>18</td>\n      <td>0.285661</td>\n      <td>0.510591</td>\n      <td>0.510591</td>\n      <td>00:00</td>\n    </tr>\n    <tr>\n      <td>19</td>\n      <td>0.273091</td>\n      <td>0.621210</td>\n      <td>0.621210</td>\n      <td>00:00</td>\n    </tr>\n    <tr>\n      <td>20</td>\n      <td>0.270432</td>\n      <td>0.612530</td>\n      <td>0.612530</td>\n      <td>00:00</td>\n    </tr>\n    <tr>\n      <td>21</td>\n      <td>0.272366</td>\n      <td>0.591756</td>\n      <td>0.591756</td>\n      <td>00:00</td>\n    </tr>\n    <tr>\n      <td>22</td>\n      <td>0.267247</td>\n      <td>0.664650</td>\n      <td>0.664650</td>\n      <td>00:00</td>\n    </tr>\n    <tr>\n      <td>23</td>\n      <td>0.267885</td>\n      <td>0.269134</td>\n      <td>0.269134</td>\n      <td>00:00</td>\n    </tr>\n    <tr>\n      <td>24</td>\n      <td>0.260635</td>\n      <td>0.419586</td>\n      <td>0.419586</td>\n      <td>00:00</td>\n    </tr>\n    <tr>\n      <td>25</td>\n      <td>0.239951</td>\n      <td>0.329524</td>\n      <td>0.329524</td>\n      <td>00:00</td>\n    </tr>\n    <tr>\n      <td>26</td>\n      <td>0.227197</td>\n      <td>0.424687</td>\n      <td>0.424687</td>\n      <td>00:00</td>\n    </tr>\n    <tr>\n      <td>27</td>\n      <td>0.218710</td>\n      <td>0.368516</td>\n      <td>0.368516</td>\n      <td>00:00</td>\n    </tr>\n    <tr>\n      <td>28</td>\n      <td>0.236568</td>\n      <td>0.359938</td>\n      <td>0.359938</td>\n      <td>00:00</td>\n    </tr>\n    <tr>\n      <td>29</td>\n      <td>0.249140</td>\n      <td>0.701143</td>\n      <td>0.701143</td>\n      <td>00:00</td>\n    </tr>\n    <tr>\n      <td>30</td>\n      <td>0.239896</td>\n      <td>0.484767</td>\n      <td>0.484767</td>\n      <td>00:00</td>\n    </tr>\n    <tr>\n      <td>31</td>\n      <td>0.228464</td>\n      <td>0.429423</td>\n      <td>0.429423</td>\n      <td>00:00</td>\n    </tr>\n    <tr>\n      <td>32</td>\n      <td>0.231892</td>\n      <td>0.526939</td>\n      <td>0.526939</td>\n      <td>00:00</td>\n    </tr>\n    <tr>\n      <td>33</td>\n      <td>0.240690</td>\n      <td>0.549312</td>\n      <td>0.549312</td>\n      <td>00:00</td>\n    </tr>\n    <tr>\n      <td>34</td>\n      <td>0.227590</td>\n      <td>0.353293</td>\n      <td>0.353293</td>\n      <td>00:00</td>\n    </tr>\n    <tr>\n      <td>35</td>\n      <td>0.222616</td>\n      <td>0.609391</td>\n      <td>0.609391</td>\n      <td>00:00</td>\n    </tr>\n    <tr>\n      <td>36</td>\n      <td>0.211263</td>\n      <td>0.585940</td>\n      <td>0.585940</td>\n      <td>00:00</td>\n    </tr>\n    <tr>\n      <td>37</td>\n      <td>0.195965</td>\n      <td>0.657236</td>\n      <td>0.657236</td>\n      <td>00:00</td>\n    </tr>\n    <tr>\n      <td>38</td>\n      <td>0.187822</td>\n      <td>0.587741</td>\n      <td>0.587741</td>\n      <td>00:00</td>\n    </tr>\n    <tr>\n      <td>39</td>\n      <td>0.188882</td>\n      <td>0.669917</td>\n      <td>0.669917</td>\n      <td>00:00</td>\n    </tr>\n    <tr>\n      <td>40</td>\n      <td>0.196996</td>\n      <td>0.631197</td>\n      <td>0.631197</td>\n      <td>00:00</td>\n    </tr>\n    <tr>\n      <td>41</td>\n      <td>0.213310</td>\n      <td>0.250295</td>\n      <td>0.250295</td>\n      <td>00:00</td>\n    </tr>\n    <tr>\n      <td>42</td>\n      <td>0.239924</td>\n      <td>0.316191</td>\n      <td>0.316191</td>\n      <td>00:00</td>\n    </tr>\n    <tr>\n      <td>43</td>\n      <td>0.230678</td>\n      <td>0.344389</td>\n      <td>0.344389</td>\n      <td>00:00</td>\n    </tr>\n    <tr>\n      <td>44</td>\n      <td>0.224732</td>\n      <td>0.300678</td>\n      <td>0.300678</td>\n      <td>00:00</td>\n    </tr>\n    <tr>\n      <td>45</td>\n      <td>0.213939</td>\n      <td>0.479179</td>\n      <td>0.479179</td>\n      <td>00:00</td>\n    </tr>\n    <tr>\n      <td>46</td>\n      <td>0.205631</td>\n      <td>0.381542</td>\n      <td>0.381542</td>\n      <td>00:00</td>\n    </tr>\n    <tr>\n      <td>47</td>\n      <td>0.195425</td>\n      <td>0.341354</td>\n      <td>0.341354</td>\n      <td>00:00</td>\n    </tr>\n    <tr>\n      <td>48</td>\n      <td>0.201974</td>\n      <td>0.751566</td>\n      <td>0.751566</td>\n      <td>00:00</td>\n    </tr>\n    <tr>\n      <td>49</td>\n      <td>0.212890</td>\n      <td>0.578579</td>\n      <td>0.578579</td>\n      <td>00:00</td>\n    </tr>\n  </tbody>\n</table>"
     },
     "metadata": {}
    }
   ],
   "source": [
    "learner.fit_one_cycle(EPOCHS, LR)"
   ]
  },
  {
   "cell_type": "code",
   "execution_count": 41,
   "metadata": {},
   "outputs": [
    {
     "output_type": "display_data",
     "data": {
      "text/plain": "<IPython.core.display.HTML object>",
      "text/html": ""
     },
     "metadata": {}
    }
   ],
   "source": [
    "aux = learner.get_preds(ds_type=DatasetType.Test)\n",
    "predictions = aux[0].squeeze().tolist()\n",
    ""
   ]
  },
  {
   "cell_type": "code",
   "execution_count": 42,
   "metadata": {},
   "outputs": [],
   "source": [
    "test_df[\"predicao\"] = predictions\n",
    "summary_df = summary_df.append(test_df, ignore_index=True, sort=False)"
   ]
  },
  {
   "cell_type": "code",
   "execution_count": 43,
   "metadata": {},
   "outputs": [
    {
     "output_type": "execute_result",
     "data": {
      "text/plain": "  paredao             nome  positivos  neutros  negativos  \\\n0       6  gizelly_bicalho      20697    18318      14428   \n1       6        guilherme      15623    26030      61087   \n2       6            pyong      24067    31118      59615   \n\n   positivos_individual_pct  neutros_individual_pct  negativos_individual_pct  \\\n0                  0.387272                0.342758                  0.269970   \n1                  0.152063                0.253358                  0.594579   \n2                  0.209643                0.271063                  0.519294   \n\n   positivos_global_pct  neutros_global_pct  negativos_global_pct   day1  \\\n0              0.342739            0.242732              0.106771  20904   \n1              0.258715            0.344924              0.452061  49438   \n2              0.398546            0.412345              0.441168  38968   \n\n    day2   day3    likes  retweets  seguidores  rejeicao  predicao  \n0  23543   8996  2513041    427327      234977    0.0064  0.272756  \n1  35276  18026  2623616    513321      103421    0.5607 -0.042603  \n2  53242  22590  2790406    500118     1431039    0.4329 -0.075628  ",
      "text/html": "<div>\n<style scoped>\n    .dataframe tbody tr th:only-of-type {\n        vertical-align: middle;\n    }\n\n    .dataframe tbody tr th {\n        vertical-align: top;\n    }\n\n    .dataframe thead th {\n        text-align: right;\n    }\n</style>\n<table border=\"1\" class=\"dataframe\">\n  <thead>\n    <tr style=\"text-align: right;\">\n      <th></th>\n      <th>paredao</th>\n      <th>nome</th>\n      <th>positivos</th>\n      <th>neutros</th>\n      <th>negativos</th>\n      <th>positivos_individual_pct</th>\n      <th>neutros_individual_pct</th>\n      <th>negativos_individual_pct</th>\n      <th>positivos_global_pct</th>\n      <th>neutros_global_pct</th>\n      <th>negativos_global_pct</th>\n      <th>day1</th>\n      <th>day2</th>\n      <th>day3</th>\n      <th>likes</th>\n      <th>retweets</th>\n      <th>seguidores</th>\n      <th>rejeicao</th>\n      <th>predicao</th>\n    </tr>\n  </thead>\n  <tbody>\n    <tr>\n      <th>0</th>\n      <td>6</td>\n      <td>gizelly_bicalho</td>\n      <td>20697</td>\n      <td>18318</td>\n      <td>14428</td>\n      <td>0.387272</td>\n      <td>0.342758</td>\n      <td>0.269970</td>\n      <td>0.342739</td>\n      <td>0.242732</td>\n      <td>0.106771</td>\n      <td>20904</td>\n      <td>23543</td>\n      <td>8996</td>\n      <td>2513041</td>\n      <td>427327</td>\n      <td>234977</td>\n      <td>0.0064</td>\n      <td>0.272756</td>\n    </tr>\n    <tr>\n      <th>1</th>\n      <td>6</td>\n      <td>guilherme</td>\n      <td>15623</td>\n      <td>26030</td>\n      <td>61087</td>\n      <td>0.152063</td>\n      <td>0.253358</td>\n      <td>0.594579</td>\n      <td>0.258715</td>\n      <td>0.344924</td>\n      <td>0.452061</td>\n      <td>49438</td>\n      <td>35276</td>\n      <td>18026</td>\n      <td>2623616</td>\n      <td>513321</td>\n      <td>103421</td>\n      <td>0.5607</td>\n      <td>-0.042603</td>\n    </tr>\n    <tr>\n      <th>2</th>\n      <td>6</td>\n      <td>pyong</td>\n      <td>24067</td>\n      <td>31118</td>\n      <td>59615</td>\n      <td>0.209643</td>\n      <td>0.271063</td>\n      <td>0.519294</td>\n      <td>0.398546</td>\n      <td>0.412345</td>\n      <td>0.441168</td>\n      <td>38968</td>\n      <td>53242</td>\n      <td>22590</td>\n      <td>2790406</td>\n      <td>500118</td>\n      <td>1431039</td>\n      <td>0.4329</td>\n      <td>-0.075628</td>\n    </tr>\n  </tbody>\n</table>\n</div>"
     },
     "metadata": {},
     "execution_count": 43
    }
   ],
   "source": [
    "test_df.sort_values(by=\"predicao\", ascending=False)"
   ]
  },
  {
   "cell_type": "markdown",
   "metadata": {},
   "source": [
    "# Paredao 7"
   ]
  },
  {
   "cell_type": "code",
   "execution_count": 44,
   "metadata": {},
   "outputs": [
    {
     "output_type": "execute_result",
     "data": {
      "text/plain": "  paredao          nome  positivos  neutros  negativos  \\\n6       7          babu      14706    13814      17650   \n7       7  manu_gavassi      11741    12131      10756   \n8       7   victor_hugo       5780    10136      12243   \n\n   positivos_individual_pct  neutros_individual_pct  negativos_individual_pct  \\\n6                  0.318519                0.299199                  0.382283   \n7                  0.339061                0.350323                  0.310616   \n8                  0.205263                0.359956                  0.434781   \n\n   positivos_global_pct  neutros_global_pct  negativos_global_pct   day1  \\\n6              0.456325            0.382861              0.434205  19044   \n7              0.364322            0.336216              0.264607  13372   \n8              0.179353            0.280923              0.301188  14217   \n\n    day2  day3    likes  retweets  seguidores  rejeicao  \n6  20262  6864  3245989    421069      325345    0.0460  \n7  15830  5426  1347551    161381     4327060    0.1018  \n8   9331  4611  1370088    192649       14399    0.8522  ",
      "text/html": "<div>\n<style scoped>\n    .dataframe tbody tr th:only-of-type {\n        vertical-align: middle;\n    }\n\n    .dataframe tbody tr th {\n        vertical-align: top;\n    }\n\n    .dataframe thead th {\n        text-align: right;\n    }\n</style>\n<table border=\"1\" class=\"dataframe\">\n  <thead>\n    <tr style=\"text-align: right;\">\n      <th></th>\n      <th>paredao</th>\n      <th>nome</th>\n      <th>positivos</th>\n      <th>neutros</th>\n      <th>negativos</th>\n      <th>positivos_individual_pct</th>\n      <th>neutros_individual_pct</th>\n      <th>negativos_individual_pct</th>\n      <th>positivos_global_pct</th>\n      <th>neutros_global_pct</th>\n      <th>negativos_global_pct</th>\n      <th>day1</th>\n      <th>day2</th>\n      <th>day3</th>\n      <th>likes</th>\n      <th>retweets</th>\n      <th>seguidores</th>\n      <th>rejeicao</th>\n    </tr>\n  </thead>\n  <tbody>\n    <tr>\n      <th>6</th>\n      <td>7</td>\n      <td>babu</td>\n      <td>14706</td>\n      <td>13814</td>\n      <td>17650</td>\n      <td>0.318519</td>\n      <td>0.299199</td>\n      <td>0.382283</td>\n      <td>0.456325</td>\n      <td>0.382861</td>\n      <td>0.434205</td>\n      <td>19044</td>\n      <td>20262</td>\n      <td>6864</td>\n      <td>3245989</td>\n      <td>421069</td>\n      <td>325345</td>\n      <td>0.0460</td>\n    </tr>\n    <tr>\n      <th>7</th>\n      <td>7</td>\n      <td>manu_gavassi</td>\n      <td>11741</td>\n      <td>12131</td>\n      <td>10756</td>\n      <td>0.339061</td>\n      <td>0.350323</td>\n      <td>0.310616</td>\n      <td>0.364322</td>\n      <td>0.336216</td>\n      <td>0.264607</td>\n      <td>13372</td>\n      <td>15830</td>\n      <td>5426</td>\n      <td>1347551</td>\n      <td>161381</td>\n      <td>4327060</td>\n      <td>0.1018</td>\n    </tr>\n    <tr>\n      <th>8</th>\n      <td>7</td>\n      <td>victor_hugo</td>\n      <td>5780</td>\n      <td>10136</td>\n      <td>12243</td>\n      <td>0.205263</td>\n      <td>0.359956</td>\n      <td>0.434781</td>\n      <td>0.179353</td>\n      <td>0.280923</td>\n      <td>0.301188</td>\n      <td>14217</td>\n      <td>9331</td>\n      <td>4611</td>\n      <td>1370088</td>\n      <td>192649</td>\n      <td>14399</td>\n      <td>0.8522</td>\n    </tr>\n  </tbody>\n</table>\n</div>"
     },
     "metadata": {},
     "execution_count": 44
    }
   ],
   "source": [
    "train_df, test_df = get_train_test(7, normalize=NORMALIZE)\n",
    "test_df\n",
    ""
   ]
  },
  {
   "cell_type": "code",
   "execution_count": 45,
   "metadata": {},
   "outputs": [],
   "source": [
    "paredoes_db = TabularDataBunch.from_df(\"\", df=train_df.drop([\"paredao\", \"nome\"], axis=1),\n",
    "                                      dep_var=\"rejeicao\", \n",
    "                                      valid_idx=np.unique(np.random.choice(len(train_df.index), 3)), \n",
    "                                      procs=[Normalize],\n",
    "                                      test_df=test_df.drop([\"paredao\", \"nome\"], axis=1),\n",
    "                                      bs=2)\n",
    "learner = tabular_learner(paredoes_db, layers=LAYERS, metrics=[mse])"
   ]
  },
  {
   "cell_type": "code",
   "execution_count": 46,
   "metadata": {},
   "outputs": [
    {
     "output_type": "display_data",
     "data": {
      "text/plain": "<IPython.core.display.HTML object>",
      "text/html": "<table border=\"1\" class=\"dataframe\">\n  <thead>\n    <tr style=\"text-align: left;\">\n      <th>epoch</th>\n      <th>train_loss</th>\n      <th>valid_loss</th>\n      <th>mean_squared_error</th>\n      <th>time</th>\n    </tr>\n  </thead>\n  <tbody>\n    <tr>\n      <td>0</td>\n      <td>0.486727</td>\n      <td>0.147560</td>\n      <td>0.147560</td>\n      <td>00:00</td>\n    </tr>\n    <tr>\n      <td>1</td>\n      <td>0.446974</td>\n      <td>0.172054</td>\n      <td>0.172054</td>\n      <td>00:00</td>\n    </tr>\n    <tr>\n      <td>2</td>\n      <td>0.395891</td>\n      <td>0.109971</td>\n      <td>0.109971</td>\n      <td>00:00</td>\n    </tr>\n    <tr>\n      <td>3</td>\n      <td>0.394368</td>\n      <td>0.220826</td>\n      <td>0.220826</td>\n      <td>00:00</td>\n    </tr>\n    <tr>\n      <td>4</td>\n      <td>0.382756</td>\n      <td>0.526609</td>\n      <td>0.526609</td>\n      <td>00:00</td>\n    </tr>\n    <tr>\n      <td>5</td>\n      <td>0.344416</td>\n      <td>0.319605</td>\n      <td>0.319605</td>\n      <td>00:00</td>\n    </tr>\n    <tr>\n      <td>6</td>\n      <td>0.337716</td>\n      <td>0.507142</td>\n      <td>0.507142</td>\n      <td>00:00</td>\n    </tr>\n    <tr>\n      <td>7</td>\n      <td>0.350635</td>\n      <td>0.184482</td>\n      <td>0.184482</td>\n      <td>00:00</td>\n    </tr>\n    <tr>\n      <td>8</td>\n      <td>0.341793</td>\n      <td>0.353874</td>\n      <td>0.353874</td>\n      <td>00:00</td>\n    </tr>\n    <tr>\n      <td>9</td>\n      <td>0.329675</td>\n      <td>0.111304</td>\n      <td>0.111304</td>\n      <td>00:00</td>\n    </tr>\n    <tr>\n      <td>10</td>\n      <td>0.342357</td>\n      <td>0.270276</td>\n      <td>0.270276</td>\n      <td>00:00</td>\n    </tr>\n    <tr>\n      <td>11</td>\n      <td>0.350761</td>\n      <td>0.357667</td>\n      <td>0.357667</td>\n      <td>00:00</td>\n    </tr>\n    <tr>\n      <td>12</td>\n      <td>0.330625</td>\n      <td>0.241253</td>\n      <td>0.241253</td>\n      <td>00:00</td>\n    </tr>\n    <tr>\n      <td>13</td>\n      <td>0.337913</td>\n      <td>0.112248</td>\n      <td>0.112248</td>\n      <td>00:00</td>\n    </tr>\n    <tr>\n      <td>14</td>\n      <td>0.346462</td>\n      <td>0.184563</td>\n      <td>0.184563</td>\n      <td>00:00</td>\n    </tr>\n    <tr>\n      <td>15</td>\n      <td>0.334221</td>\n      <td>0.242899</td>\n      <td>0.242899</td>\n      <td>00:00</td>\n    </tr>\n    <tr>\n      <td>16</td>\n      <td>0.298151</td>\n      <td>0.178905</td>\n      <td>0.178905</td>\n      <td>00:00</td>\n    </tr>\n    <tr>\n      <td>17</td>\n      <td>0.302193</td>\n      <td>0.510476</td>\n      <td>0.510476</td>\n      <td>00:00</td>\n    </tr>\n    <tr>\n      <td>18</td>\n      <td>0.304788</td>\n      <td>0.313964</td>\n      <td>0.313964</td>\n      <td>00:00</td>\n    </tr>\n    <tr>\n      <td>19</td>\n      <td>0.365562</td>\n      <td>0.247882</td>\n      <td>0.247882</td>\n      <td>00:00</td>\n    </tr>\n    <tr>\n      <td>20</td>\n      <td>0.341245</td>\n      <td>0.305237</td>\n      <td>0.305237</td>\n      <td>00:00</td>\n    </tr>\n    <tr>\n      <td>21</td>\n      <td>0.352667</td>\n      <td>0.076212</td>\n      <td>0.076212</td>\n      <td>00:00</td>\n    </tr>\n    <tr>\n      <td>22</td>\n      <td>0.334564</td>\n      <td>0.067005</td>\n      <td>0.067005</td>\n      <td>00:00</td>\n    </tr>\n    <tr>\n      <td>23</td>\n      <td>0.301632</td>\n      <td>0.042147</td>\n      <td>0.042147</td>\n      <td>00:00</td>\n    </tr>\n    <tr>\n      <td>24</td>\n      <td>0.280604</td>\n      <td>0.059282</td>\n      <td>0.059282</td>\n      <td>00:00</td>\n    </tr>\n    <tr>\n      <td>25</td>\n      <td>0.256511</td>\n      <td>0.230770</td>\n      <td>0.230770</td>\n      <td>00:00</td>\n    </tr>\n    <tr>\n      <td>26</td>\n      <td>0.228659</td>\n      <td>0.139124</td>\n      <td>0.139124</td>\n      <td>00:00</td>\n    </tr>\n    <tr>\n      <td>27</td>\n      <td>0.215620</td>\n      <td>0.174397</td>\n      <td>0.174397</td>\n      <td>00:00</td>\n    </tr>\n    <tr>\n      <td>28</td>\n      <td>0.207470</td>\n      <td>0.208359</td>\n      <td>0.208359</td>\n      <td>00:00</td>\n    </tr>\n    <tr>\n      <td>29</td>\n      <td>0.190247</td>\n      <td>0.071725</td>\n      <td>0.071725</td>\n      <td>00:00</td>\n    </tr>\n    <tr>\n      <td>30</td>\n      <td>0.183024</td>\n      <td>0.013389</td>\n      <td>0.013389</td>\n      <td>00:00</td>\n    </tr>\n    <tr>\n      <td>31</td>\n      <td>0.179998</td>\n      <td>0.146366</td>\n      <td>0.146366</td>\n      <td>00:00</td>\n    </tr>\n    <tr>\n      <td>32</td>\n      <td>0.174132</td>\n      <td>0.140467</td>\n      <td>0.140467</td>\n      <td>00:00</td>\n    </tr>\n    <tr>\n      <td>33</td>\n      <td>0.164902</td>\n      <td>0.063894</td>\n      <td>0.063894</td>\n      <td>00:00</td>\n    </tr>\n    <tr>\n      <td>34</td>\n      <td>0.171936</td>\n      <td>0.157544</td>\n      <td>0.157544</td>\n      <td>00:00</td>\n    </tr>\n    <tr>\n      <td>35</td>\n      <td>0.162849</td>\n      <td>0.317189</td>\n      <td>0.317189</td>\n      <td>00:00</td>\n    </tr>\n    <tr>\n      <td>36</td>\n      <td>0.159488</td>\n      <td>0.144441</td>\n      <td>0.144441</td>\n      <td>00:00</td>\n    </tr>\n    <tr>\n      <td>37</td>\n      <td>0.158474</td>\n      <td>0.241214</td>\n      <td>0.241214</td>\n      <td>00:00</td>\n    </tr>\n    <tr>\n      <td>38</td>\n      <td>0.175128</td>\n      <td>0.176015</td>\n      <td>0.176015</td>\n      <td>00:00</td>\n    </tr>\n    <tr>\n      <td>39</td>\n      <td>0.164968</td>\n      <td>0.066308</td>\n      <td>0.066308</td>\n      <td>00:00</td>\n    </tr>\n    <tr>\n      <td>40</td>\n      <td>0.164135</td>\n      <td>0.177797</td>\n      <td>0.177797</td>\n      <td>00:00</td>\n    </tr>\n    <tr>\n      <td>41</td>\n      <td>0.189536</td>\n      <td>0.133423</td>\n      <td>0.133423</td>\n      <td>00:00</td>\n    </tr>\n    <tr>\n      <td>42</td>\n      <td>0.172045</td>\n      <td>0.050213</td>\n      <td>0.050213</td>\n      <td>00:00</td>\n    </tr>\n    <tr>\n      <td>43</td>\n      <td>0.166609</td>\n      <td>0.201703</td>\n      <td>0.201703</td>\n      <td>00:00</td>\n    </tr>\n    <tr>\n      <td>44</td>\n      <td>0.168319</td>\n      <td>0.405396</td>\n      <td>0.405396</td>\n      <td>00:00</td>\n    </tr>\n    <tr>\n      <td>45</td>\n      <td>0.162516</td>\n      <td>0.329361</td>\n      <td>0.329361</td>\n      <td>00:00</td>\n    </tr>\n    <tr>\n      <td>46</td>\n      <td>0.147443</td>\n      <td>0.249060</td>\n      <td>0.249060</td>\n      <td>00:00</td>\n    </tr>\n    <tr>\n      <td>47</td>\n      <td>0.169670</td>\n      <td>0.101027</td>\n      <td>0.101027</td>\n      <td>00:00</td>\n    </tr>\n    <tr>\n      <td>48</td>\n      <td>0.177495</td>\n      <td>0.449952</td>\n      <td>0.449952</td>\n      <td>00:00</td>\n    </tr>\n    <tr>\n      <td>49</td>\n      <td>0.196154</td>\n      <td>0.234494</td>\n      <td>0.234494</td>\n      <td>00:00</td>\n    </tr>\n  </tbody>\n</table>"
     },
     "metadata": {}
    }
   ],
   "source": [
    "learner.fit_one_cycle(EPOCHS, LR)"
   ]
  },
  {
   "cell_type": "code",
   "execution_count": 47,
   "metadata": {},
   "outputs": [
    {
     "output_type": "display_data",
     "data": {
      "text/plain": "<IPython.core.display.HTML object>",
      "text/html": ""
     },
     "metadata": {}
    }
   ],
   "source": [
    "aux = learner.get_preds(ds_type=DatasetType.Test)\n",
    "predictions = aux[0].squeeze().tolist()\n",
    ""
   ]
  },
  {
   "cell_type": "code",
   "execution_count": 48,
   "metadata": {},
   "outputs": [],
   "source": [
    "test_df[\"predicao\"] = predictions\n",
    "summary_df = summary_df.append(test_df, ignore_index=True, sort=False)"
   ]
  },
  {
   "cell_type": "code",
   "execution_count": 49,
   "metadata": {},
   "outputs": [
    {
     "output_type": "execute_result",
     "data": {
      "text/plain": "  paredao          nome  positivos  neutros  negativos  \\\n6       7          babu      14706    13814      17650   \n7       7  manu_gavassi      11741    12131      10756   \n8       7   victor_hugo       5780    10136      12243   \n\n   positivos_individual_pct  neutros_individual_pct  negativos_individual_pct  \\\n6                  0.318519                0.299199                  0.382283   \n7                  0.339061                0.350323                  0.310616   \n8                  0.205263                0.359956                  0.434781   \n\n   positivos_global_pct  neutros_global_pct  negativos_global_pct   day1  \\\n6              0.456325            0.382861              0.434205  19044   \n7              0.364322            0.336216              0.264607  13372   \n8              0.179353            0.280923              0.301188  14217   \n\n    day2  day3    likes  retweets  seguidores  rejeicao  predicao  \n6  20262  6864  3245989    421069      325345    0.0460  0.566225  \n7  15830  5426  1347551    161381     4327060    0.1018  0.332954  \n8   9331  4611  1370088    192649       14399    0.8522  0.176582  ",
      "text/html": "<div>\n<style scoped>\n    .dataframe tbody tr th:only-of-type {\n        vertical-align: middle;\n    }\n\n    .dataframe tbody tr th {\n        vertical-align: top;\n    }\n\n    .dataframe thead th {\n        text-align: right;\n    }\n</style>\n<table border=\"1\" class=\"dataframe\">\n  <thead>\n    <tr style=\"text-align: right;\">\n      <th></th>\n      <th>paredao</th>\n      <th>nome</th>\n      <th>positivos</th>\n      <th>neutros</th>\n      <th>negativos</th>\n      <th>positivos_individual_pct</th>\n      <th>neutros_individual_pct</th>\n      <th>negativos_individual_pct</th>\n      <th>positivos_global_pct</th>\n      <th>neutros_global_pct</th>\n      <th>negativos_global_pct</th>\n      <th>day1</th>\n      <th>day2</th>\n      <th>day3</th>\n      <th>likes</th>\n      <th>retweets</th>\n      <th>seguidores</th>\n      <th>rejeicao</th>\n      <th>predicao</th>\n    </tr>\n  </thead>\n  <tbody>\n    <tr>\n      <th>6</th>\n      <td>7</td>\n      <td>babu</td>\n      <td>14706</td>\n      <td>13814</td>\n      <td>17650</td>\n      <td>0.318519</td>\n      <td>0.299199</td>\n      <td>0.382283</td>\n      <td>0.456325</td>\n      <td>0.382861</td>\n      <td>0.434205</td>\n      <td>19044</td>\n      <td>20262</td>\n      <td>6864</td>\n      <td>3245989</td>\n      <td>421069</td>\n      <td>325345</td>\n      <td>0.0460</td>\n      <td>0.566225</td>\n    </tr>\n    <tr>\n      <th>7</th>\n      <td>7</td>\n      <td>manu_gavassi</td>\n      <td>11741</td>\n      <td>12131</td>\n      <td>10756</td>\n      <td>0.339061</td>\n      <td>0.350323</td>\n      <td>0.310616</td>\n      <td>0.364322</td>\n      <td>0.336216</td>\n      <td>0.264607</td>\n      <td>13372</td>\n      <td>15830</td>\n      <td>5426</td>\n      <td>1347551</td>\n      <td>161381</td>\n      <td>4327060</td>\n      <td>0.1018</td>\n      <td>0.332954</td>\n    </tr>\n    <tr>\n      <th>8</th>\n      <td>7</td>\n      <td>victor_hugo</td>\n      <td>5780</td>\n      <td>10136</td>\n      <td>12243</td>\n      <td>0.205263</td>\n      <td>0.359956</td>\n      <td>0.434781</td>\n      <td>0.179353</td>\n      <td>0.280923</td>\n      <td>0.301188</td>\n      <td>14217</td>\n      <td>9331</td>\n      <td>4611</td>\n      <td>1370088</td>\n      <td>192649</td>\n      <td>14399</td>\n      <td>0.8522</td>\n      <td>0.176582</td>\n    </tr>\n  </tbody>\n</table>\n</div>"
     },
     "metadata": {},
     "execution_count": 49
    }
   ],
   "source": [
    "test_df.sort_values(by=\"predicao\", ascending=False)"
   ]
  },
  {
   "cell_type": "markdown",
   "metadata": {},
   "source": [
    "\n",
    "# Paredao 8"
   ]
  },
  {
   "cell_type": "code",
   "execution_count": 50,
   "metadata": {},
   "outputs": [
    {
     "output_type": "execute_result",
     "data": {
      "text/plain": "   paredao   nome  positivos  neutros  negativos  positivos_individual_pct  \\\n14       8   babu      20043    24848      39041                  0.238800   \n15       8   rafa      11365    16307      33927                  0.184500   \n16       8  pyong      23320    37894      49091                  0.211414   \n\n    neutros_individual_pct  negativos_individual_pct  positivos_global_pct  \\\n14                0.296049                  0.465150              0.366229   \n15                0.264728                  0.550772              0.207663   \n16                0.343538                  0.445048              0.426107   \n\n    neutros_global_pct  negativos_global_pct   day1   day2   day3    likes  \\\n14            0.314337              0.319854  29102  36583  18247  2746925   \n15            0.206290              0.277956  27062  22837  11700   833006   \n16            0.479374              0.402191  42474  46841  20990  1884395   \n\n    retweets  seguidores  rejeicao  \n14    442326      325345    0.4771  \n15     65329      293473    0.0059  \n16    331018     1431039    0.5170  ",
      "text/html": "<div>\n<style scoped>\n    .dataframe tbody tr th:only-of-type {\n        vertical-align: middle;\n    }\n\n    .dataframe tbody tr th {\n        vertical-align: top;\n    }\n\n    .dataframe thead th {\n        text-align: right;\n    }\n</style>\n<table border=\"1\" class=\"dataframe\">\n  <thead>\n    <tr style=\"text-align: right;\">\n      <th></th>\n      <th>paredao</th>\n      <th>nome</th>\n      <th>positivos</th>\n      <th>neutros</th>\n      <th>negativos</th>\n      <th>positivos_individual_pct</th>\n      <th>neutros_individual_pct</th>\n      <th>negativos_individual_pct</th>\n      <th>positivos_global_pct</th>\n      <th>neutros_global_pct</th>\n      <th>negativos_global_pct</th>\n      <th>day1</th>\n      <th>day2</th>\n      <th>day3</th>\n      <th>likes</th>\n      <th>retweets</th>\n      <th>seguidores</th>\n      <th>rejeicao</th>\n    </tr>\n  </thead>\n  <tbody>\n    <tr>\n      <th>14</th>\n      <td>8</td>\n      <td>babu</td>\n      <td>20043</td>\n      <td>24848</td>\n      <td>39041</td>\n      <td>0.238800</td>\n      <td>0.296049</td>\n      <td>0.465150</td>\n      <td>0.366229</td>\n      <td>0.314337</td>\n      <td>0.319854</td>\n      <td>29102</td>\n      <td>36583</td>\n      <td>18247</td>\n      <td>2746925</td>\n      <td>442326</td>\n      <td>325345</td>\n      <td>0.4771</td>\n    </tr>\n    <tr>\n      <th>15</th>\n      <td>8</td>\n      <td>rafa</td>\n      <td>11365</td>\n      <td>16307</td>\n      <td>33927</td>\n      <td>0.184500</td>\n      <td>0.264728</td>\n      <td>0.550772</td>\n      <td>0.207663</td>\n      <td>0.206290</td>\n      <td>0.277956</td>\n      <td>27062</td>\n      <td>22837</td>\n      <td>11700</td>\n      <td>833006</td>\n      <td>65329</td>\n      <td>293473</td>\n      <td>0.0059</td>\n    </tr>\n    <tr>\n      <th>16</th>\n      <td>8</td>\n      <td>pyong</td>\n      <td>23320</td>\n      <td>37894</td>\n      <td>49091</td>\n      <td>0.211414</td>\n      <td>0.343538</td>\n      <td>0.445048</td>\n      <td>0.426107</td>\n      <td>0.479374</td>\n      <td>0.402191</td>\n      <td>42474</td>\n      <td>46841</td>\n      <td>20990</td>\n      <td>1884395</td>\n      <td>331018</td>\n      <td>1431039</td>\n      <td>0.5170</td>\n    </tr>\n  </tbody>\n</table>\n</div>"
     },
     "metadata": {},
     "execution_count": 50
    }
   ],
   "source": [
    "train_df, test_df = get_train_test(8, normalize=NORMALIZE)\n",
    "test_df\n",
    ""
   ]
  },
  {
   "cell_type": "code",
   "execution_count": 51,
   "metadata": {},
   "outputs": [],
   "source": [
    "paredoes_db = TabularDataBunch.from_df(\"\", df=train_df.drop([\"paredao\", \"nome\"], axis=1),\n",
    "                                      dep_var=\"rejeicao\", \n",
    "                                      valid_idx=np.unique(np.random.choice(len(train_df.index), 3)), \n",
    "                                      procs=[Normalize],\n",
    "                                      test_df=test_df.drop([\"paredao\", \"nome\"], axis=1),\n",
    "                                      bs=2)\n",
    "learner = tabular_learner(paredoes_db, layers=LAYERS, metrics=[mse])"
   ]
  },
  {
   "cell_type": "code",
   "execution_count": 52,
   "metadata": {},
   "outputs": [
    {
     "output_type": "display_data",
     "data": {
      "text/plain": "<IPython.core.display.HTML object>",
      "text/html": "<table border=\"1\" class=\"dataframe\">\n  <thead>\n    <tr style=\"text-align: left;\">\n      <th>epoch</th>\n      <th>train_loss</th>\n      <th>valid_loss</th>\n      <th>mean_squared_error</th>\n      <th>time</th>\n    </tr>\n  </thead>\n  <tbody>\n    <tr>\n      <td>0</td>\n      <td>0.513325</td>\n      <td>0.449157</td>\n      <td>0.449157</td>\n      <td>00:00</td>\n    </tr>\n    <tr>\n      <td>1</td>\n      <td>0.529749</td>\n      <td>0.424081</td>\n      <td>0.424081</td>\n      <td>00:00</td>\n    </tr>\n    <tr>\n      <td>2</td>\n      <td>0.486126</td>\n      <td>0.479238</td>\n      <td>0.479238</td>\n      <td>00:00</td>\n    </tr>\n    <tr>\n      <td>3</td>\n      <td>0.468837</td>\n      <td>0.842957</td>\n      <td>0.842957</td>\n      <td>00:00</td>\n    </tr>\n    <tr>\n      <td>4</td>\n      <td>0.429563</td>\n      <td>0.809613</td>\n      <td>0.809613</td>\n      <td>00:00</td>\n    </tr>\n    <tr>\n      <td>5</td>\n      <td>0.423811</td>\n      <td>0.699797</td>\n      <td>0.699797</td>\n      <td>00:00</td>\n    </tr>\n    <tr>\n      <td>6</td>\n      <td>0.435742</td>\n      <td>0.466320</td>\n      <td>0.466320</td>\n      <td>00:00</td>\n    </tr>\n    <tr>\n      <td>7</td>\n      <td>0.403791</td>\n      <td>0.853296</td>\n      <td>0.853296</td>\n      <td>00:00</td>\n    </tr>\n    <tr>\n      <td>8</td>\n      <td>0.362446</td>\n      <td>0.790619</td>\n      <td>0.790619</td>\n      <td>00:00</td>\n    </tr>\n    <tr>\n      <td>9</td>\n      <td>0.345278</td>\n      <td>1.051266</td>\n      <td>1.051266</td>\n      <td>00:00</td>\n    </tr>\n    <tr>\n      <td>10</td>\n      <td>0.331287</td>\n      <td>1.112794</td>\n      <td>1.112794</td>\n      <td>00:00</td>\n    </tr>\n    <tr>\n      <td>11</td>\n      <td>0.341637</td>\n      <td>1.301555</td>\n      <td>1.301555</td>\n      <td>00:00</td>\n    </tr>\n    <tr>\n      <td>12</td>\n      <td>0.352334</td>\n      <td>1.065997</td>\n      <td>1.065997</td>\n      <td>00:00</td>\n    </tr>\n    <tr>\n      <td>13</td>\n      <td>0.326304</td>\n      <td>0.750552</td>\n      <td>0.750552</td>\n      <td>00:00</td>\n    </tr>\n    <tr>\n      <td>14</td>\n      <td>0.338549</td>\n      <td>1.305704</td>\n      <td>1.305704</td>\n      <td>00:00</td>\n    </tr>\n    <tr>\n      <td>15</td>\n      <td>0.328977</td>\n      <td>0.733199</td>\n      <td>0.733199</td>\n      <td>00:00</td>\n    </tr>\n    <tr>\n      <td>16</td>\n      <td>0.322520</td>\n      <td>0.957828</td>\n      <td>0.957828</td>\n      <td>00:00</td>\n    </tr>\n    <tr>\n      <td>17</td>\n      <td>0.296730</td>\n      <td>1.119410</td>\n      <td>1.119410</td>\n      <td>00:00</td>\n    </tr>\n    <tr>\n      <td>18</td>\n      <td>0.326603</td>\n      <td>0.633701</td>\n      <td>0.633701</td>\n      <td>00:00</td>\n    </tr>\n    <tr>\n      <td>19</td>\n      <td>0.321290</td>\n      <td>0.679502</td>\n      <td>0.679502</td>\n      <td>00:00</td>\n    </tr>\n    <tr>\n      <td>20</td>\n      <td>0.294896</td>\n      <td>0.868851</td>\n      <td>0.868851</td>\n      <td>00:00</td>\n    </tr>\n    <tr>\n      <td>21</td>\n      <td>0.293182</td>\n      <td>0.927623</td>\n      <td>0.927623</td>\n      <td>00:00</td>\n    </tr>\n    <tr>\n      <td>22</td>\n      <td>0.294006</td>\n      <td>0.880641</td>\n      <td>0.880641</td>\n      <td>00:00</td>\n    </tr>\n    <tr>\n      <td>23</td>\n      <td>0.308359</td>\n      <td>0.612696</td>\n      <td>0.612696</td>\n      <td>00:00</td>\n    </tr>\n    <tr>\n      <td>24</td>\n      <td>0.304505</td>\n      <td>0.651061</td>\n      <td>0.651061</td>\n      <td>00:00</td>\n    </tr>\n    <tr>\n      <td>25</td>\n      <td>0.292341</td>\n      <td>0.587896</td>\n      <td>0.587896</td>\n      <td>00:00</td>\n    </tr>\n    <tr>\n      <td>26</td>\n      <td>0.284340</td>\n      <td>0.517194</td>\n      <td>0.517194</td>\n      <td>00:00</td>\n    </tr>\n    <tr>\n      <td>27</td>\n      <td>0.283060</td>\n      <td>0.508854</td>\n      <td>0.508854</td>\n      <td>00:00</td>\n    </tr>\n    <tr>\n      <td>28</td>\n      <td>0.282012</td>\n      <td>0.447365</td>\n      <td>0.447365</td>\n      <td>00:00</td>\n    </tr>\n    <tr>\n      <td>29</td>\n      <td>0.265249</td>\n      <td>0.629744</td>\n      <td>0.629744</td>\n      <td>00:00</td>\n    </tr>\n    <tr>\n      <td>30</td>\n      <td>0.264552</td>\n      <td>0.896883</td>\n      <td>0.896883</td>\n      <td>00:00</td>\n    </tr>\n    <tr>\n      <td>31</td>\n      <td>0.259834</td>\n      <td>1.075599</td>\n      <td>1.075599</td>\n      <td>00:00</td>\n    </tr>\n    <tr>\n      <td>32</td>\n      <td>0.251148</td>\n      <td>0.846051</td>\n      <td>0.846051</td>\n      <td>00:00</td>\n    </tr>\n    <tr>\n      <td>33</td>\n      <td>0.269591</td>\n      <td>0.526555</td>\n      <td>0.526555</td>\n      <td>00:00</td>\n    </tr>\n    <tr>\n      <td>34</td>\n      <td>0.244704</td>\n      <td>0.670858</td>\n      <td>0.670858</td>\n      <td>00:00</td>\n    </tr>\n    <tr>\n      <td>35</td>\n      <td>0.245001</td>\n      <td>0.600469</td>\n      <td>0.600469</td>\n      <td>00:00</td>\n    </tr>\n    <tr>\n      <td>36</td>\n      <td>0.233951</td>\n      <td>0.526930</td>\n      <td>0.526930</td>\n      <td>00:00</td>\n    </tr>\n    <tr>\n      <td>37</td>\n      <td>0.263920</td>\n      <td>0.865996</td>\n      <td>0.865996</td>\n      <td>00:00</td>\n    </tr>\n    <tr>\n      <td>38</td>\n      <td>0.284503</td>\n      <td>0.721770</td>\n      <td>0.721770</td>\n      <td>00:00</td>\n    </tr>\n    <tr>\n      <td>39</td>\n      <td>0.265794</td>\n      <td>0.830267</td>\n      <td>0.830267</td>\n      <td>00:00</td>\n    </tr>\n    <tr>\n      <td>40</td>\n      <td>0.246764</td>\n      <td>0.506553</td>\n      <td>0.506553</td>\n      <td>00:00</td>\n    </tr>\n    <tr>\n      <td>41</td>\n      <td>0.250983</td>\n      <td>0.567619</td>\n      <td>0.567619</td>\n      <td>00:00</td>\n    </tr>\n    <tr>\n      <td>42</td>\n      <td>0.247131</td>\n      <td>0.660980</td>\n      <td>0.660980</td>\n      <td>00:00</td>\n    </tr>\n    <tr>\n      <td>43</td>\n      <td>0.246873</td>\n      <td>0.740635</td>\n      <td>0.740635</td>\n      <td>00:00</td>\n    </tr>\n    <tr>\n      <td>44</td>\n      <td>0.226340</td>\n      <td>0.599762</td>\n      <td>0.599762</td>\n      <td>00:00</td>\n    </tr>\n    <tr>\n      <td>45</td>\n      <td>0.212120</td>\n      <td>0.780231</td>\n      <td>0.780231</td>\n      <td>00:00</td>\n    </tr>\n    <tr>\n      <td>46</td>\n      <td>0.242497</td>\n      <td>0.655840</td>\n      <td>0.655840</td>\n      <td>00:00</td>\n    </tr>\n    <tr>\n      <td>47</td>\n      <td>0.228969</td>\n      <td>0.465734</td>\n      <td>0.465734</td>\n      <td>00:00</td>\n    </tr>\n    <tr>\n      <td>48</td>\n      <td>0.254944</td>\n      <td>0.390955</td>\n      <td>0.390955</td>\n      <td>00:00</td>\n    </tr>\n    <tr>\n      <td>49</td>\n      <td>0.229743</td>\n      <td>0.409373</td>\n      <td>0.409373</td>\n      <td>00:00</td>\n    </tr>\n  </tbody>\n</table>"
     },
     "metadata": {}
    }
   ],
   "source": [
    "learner.fit_one_cycle(EPOCHS, LR)"
   ]
  },
  {
   "cell_type": "code",
   "execution_count": 53,
   "metadata": {},
   "outputs": [
    {
     "output_type": "display_data",
     "data": {
      "text/plain": "<IPython.core.display.HTML object>",
      "text/html": ""
     },
     "metadata": {}
    }
   ],
   "source": [
    "aux = learner.get_preds(ds_type=DatasetType.Test)\n",
    "predictions = aux[0].squeeze().tolist()\n",
    ""
   ]
  },
  {
   "cell_type": "code",
   "execution_count": 54,
   "metadata": {},
   "outputs": [],
   "source": [
    "test_df[\"predicao\"] = predictions\n",
    "summary_df = summary_df.append(test_df, ignore_index=True, sort=False)"
   ]
  },
  {
   "cell_type": "code",
   "execution_count": 55,
   "metadata": {},
   "outputs": [
    {
     "output_type": "execute_result",
     "data": {
      "text/plain": "   paredao   nome  positivos  neutros  negativos  positivos_individual_pct  \\\n16       8  pyong      23320    37894      49091                  0.211414   \n15       8   rafa      11365    16307      33927                  0.184500   \n14       8   babu      20043    24848      39041                  0.238800   \n\n    neutros_individual_pct  negativos_individual_pct  positivos_global_pct  \\\n16                0.343538                  0.445048              0.426107   \n15                0.264728                  0.550772              0.207663   \n14                0.296049                  0.465150              0.366229   \n\n    neutros_global_pct  negativos_global_pct   day1   day2   day3    likes  \\\n16            0.479374              0.402191  42474  46841  20990  1884395   \n15            0.206290              0.277956  27062  22837  11700   833006   \n14            0.314337              0.319854  29102  36583  18247  2746925   \n\n    retweets  seguidores  rejeicao  predicao  \n16    331018     1431039    0.5170  0.491929  \n15     65329      293473    0.0059  0.340994  \n14    442326      325345    0.4771  0.148294  ",
      "text/html": "<div>\n<style scoped>\n    .dataframe tbody tr th:only-of-type {\n        vertical-align: middle;\n    }\n\n    .dataframe tbody tr th {\n        vertical-align: top;\n    }\n\n    .dataframe thead th {\n        text-align: right;\n    }\n</style>\n<table border=\"1\" class=\"dataframe\">\n  <thead>\n    <tr style=\"text-align: right;\">\n      <th></th>\n      <th>paredao</th>\n      <th>nome</th>\n      <th>positivos</th>\n      <th>neutros</th>\n      <th>negativos</th>\n      <th>positivos_individual_pct</th>\n      <th>neutros_individual_pct</th>\n      <th>negativos_individual_pct</th>\n      <th>positivos_global_pct</th>\n      <th>neutros_global_pct</th>\n      <th>negativos_global_pct</th>\n      <th>day1</th>\n      <th>day2</th>\n      <th>day3</th>\n      <th>likes</th>\n      <th>retweets</th>\n      <th>seguidores</th>\n      <th>rejeicao</th>\n      <th>predicao</th>\n    </tr>\n  </thead>\n  <tbody>\n    <tr>\n      <th>16</th>\n      <td>8</td>\n      <td>pyong</td>\n      <td>23320</td>\n      <td>37894</td>\n      <td>49091</td>\n      <td>0.211414</td>\n      <td>0.343538</td>\n      <td>0.445048</td>\n      <td>0.426107</td>\n      <td>0.479374</td>\n      <td>0.402191</td>\n      <td>42474</td>\n      <td>46841</td>\n      <td>20990</td>\n      <td>1884395</td>\n      <td>331018</td>\n      <td>1431039</td>\n      <td>0.5170</td>\n      <td>0.491929</td>\n    </tr>\n    <tr>\n      <th>15</th>\n      <td>8</td>\n      <td>rafa</td>\n      <td>11365</td>\n      <td>16307</td>\n      <td>33927</td>\n      <td>0.184500</td>\n      <td>0.264728</td>\n      <td>0.550772</td>\n      <td>0.207663</td>\n      <td>0.206290</td>\n      <td>0.277956</td>\n      <td>27062</td>\n      <td>22837</td>\n      <td>11700</td>\n      <td>833006</td>\n      <td>65329</td>\n      <td>293473</td>\n      <td>0.0059</td>\n      <td>0.340994</td>\n    </tr>\n    <tr>\n      <th>14</th>\n      <td>8</td>\n      <td>babu</td>\n      <td>20043</td>\n      <td>24848</td>\n      <td>39041</td>\n      <td>0.238800</td>\n      <td>0.296049</td>\n      <td>0.465150</td>\n      <td>0.366229</td>\n      <td>0.314337</td>\n      <td>0.319854</td>\n      <td>29102</td>\n      <td>36583</td>\n      <td>18247</td>\n      <td>2746925</td>\n      <td>442326</td>\n      <td>325345</td>\n      <td>0.4771</td>\n      <td>0.148294</td>\n    </tr>\n  </tbody>\n</table>\n</div>"
     },
     "metadata": {},
     "execution_count": 55
    }
   ],
   "source": [
    "test_df.sort_values(by=\"predicao\", ascending=False)"
   ]
  },
  {
   "cell_type": "markdown",
   "metadata": {},
   "source": [
    "# Paredão 9"
   ]
  },
  {
   "cell_type": "code",
   "execution_count": 56,
   "metadata": {},
   "outputs": [
    {
     "output_type": "execute_result",
     "data": {
      "text/plain": "   paredao       nome  positivos  neutros  negativos  \\\n11       9     daniel      17050    28476      35449   \n12       9  flayslene      18049    20419      29529   \n13       9        ivy      12919    19342      24191   \n\n    positivos_individual_pct  neutros_individual_pct  \\\n11                  0.210559                0.351664   \n12                  0.265438                0.300293   \n13                  0.228849                0.342627   \n\n    negativos_individual_pct  positivos_global_pct  neutros_global_pct  \\\n11                  0.437777              0.355075            0.417310   \n12                  0.434269              0.375880            0.299236   \n13                  0.428523              0.269045            0.283453   \n\n    negativos_global_pct   day1   day2   day3    likes  retweets  seguidores  \\\n11              0.397548  43662  24967  12346  2362234    451548       33876   \n12              0.331158  14010  41155  12832  2048527    340506      104138   \n13              0.271294  34835  16734   4883  1801001    319531       59125   \n\n    rejeicao  \n11    0.8082  \n12    0.0954  \n13    0.0964  ",
      "text/html": "<div>\n<style scoped>\n    .dataframe tbody tr th:only-of-type {\n        vertical-align: middle;\n    }\n\n    .dataframe tbody tr th {\n        vertical-align: top;\n    }\n\n    .dataframe thead th {\n        text-align: right;\n    }\n</style>\n<table border=\"1\" class=\"dataframe\">\n  <thead>\n    <tr style=\"text-align: right;\">\n      <th></th>\n      <th>paredao</th>\n      <th>nome</th>\n      <th>positivos</th>\n      <th>neutros</th>\n      <th>negativos</th>\n      <th>positivos_individual_pct</th>\n      <th>neutros_individual_pct</th>\n      <th>negativos_individual_pct</th>\n      <th>positivos_global_pct</th>\n      <th>neutros_global_pct</th>\n      <th>negativos_global_pct</th>\n      <th>day1</th>\n      <th>day2</th>\n      <th>day3</th>\n      <th>likes</th>\n      <th>retweets</th>\n      <th>seguidores</th>\n      <th>rejeicao</th>\n    </tr>\n  </thead>\n  <tbody>\n    <tr>\n      <th>11</th>\n      <td>9</td>\n      <td>daniel</td>\n      <td>17050</td>\n      <td>28476</td>\n      <td>35449</td>\n      <td>0.210559</td>\n      <td>0.351664</td>\n      <td>0.437777</td>\n      <td>0.355075</td>\n      <td>0.417310</td>\n      <td>0.397548</td>\n      <td>43662</td>\n      <td>24967</td>\n      <td>12346</td>\n      <td>2362234</td>\n      <td>451548</td>\n      <td>33876</td>\n      <td>0.8082</td>\n    </tr>\n    <tr>\n      <th>12</th>\n      <td>9</td>\n      <td>flayslene</td>\n      <td>18049</td>\n      <td>20419</td>\n      <td>29529</td>\n      <td>0.265438</td>\n      <td>0.300293</td>\n      <td>0.434269</td>\n      <td>0.375880</td>\n      <td>0.299236</td>\n      <td>0.331158</td>\n      <td>14010</td>\n      <td>41155</td>\n      <td>12832</td>\n      <td>2048527</td>\n      <td>340506</td>\n      <td>104138</td>\n      <td>0.0954</td>\n    </tr>\n    <tr>\n      <th>13</th>\n      <td>9</td>\n      <td>ivy</td>\n      <td>12919</td>\n      <td>19342</td>\n      <td>24191</td>\n      <td>0.228849</td>\n      <td>0.342627</td>\n      <td>0.428523</td>\n      <td>0.269045</td>\n      <td>0.283453</td>\n      <td>0.271294</td>\n      <td>34835</td>\n      <td>16734</td>\n      <td>4883</td>\n      <td>1801001</td>\n      <td>319531</td>\n      <td>59125</td>\n      <td>0.0964</td>\n    </tr>\n  </tbody>\n</table>\n</div>"
     },
     "metadata": {},
     "execution_count": 56
    }
   ],
   "source": [
    "train_df, test_df = get_train_test(9, normalize=NORMALIZE)\n",
    "test_df\n",
    ""
   ]
  },
  {
   "cell_type": "code",
   "execution_count": 57,
   "metadata": {},
   "outputs": [],
   "source": [
    "paredoes_db = TabularDataBunch.from_df(\"\", df=train_df.drop([\"paredao\", \"nome\"], axis=1),\n",
    "                                      dep_var=\"rejeicao\", \n",
    "                                      valid_idx=np.unique(np.random.choice(len(train_df.index), 3)), \n",
    "                                      procs=[Normalize],\n",
    "                                      test_df=test_df.drop([\"paredao\", \"nome\"], axis=1),\n",
    "                                      bs=2)\n",
    "learner = tabular_learner(paredoes_db, layers=LAYERS, metrics=[mse])"
   ]
  },
  {
   "cell_type": "code",
   "execution_count": 58,
   "metadata": {},
   "outputs": [
    {
     "output_type": "display_data",
     "data": {
      "text/plain": "<IPython.core.display.HTML object>",
      "text/html": "<table border=\"1\" class=\"dataframe\">\n  <thead>\n    <tr style=\"text-align: left;\">\n      <th>epoch</th>\n      <th>train_loss</th>\n      <th>valid_loss</th>\n      <th>mean_squared_error</th>\n      <th>time</th>\n    </tr>\n  </thead>\n  <tbody>\n    <tr>\n      <td>0</td>\n      <td>0.416707</td>\n      <td>0.051437</td>\n      <td>0.051437</td>\n      <td>00:00</td>\n    </tr>\n    <tr>\n      <td>1</td>\n      <td>0.354839</td>\n      <td>0.013488</td>\n      <td>0.013488</td>\n      <td>00:00</td>\n    </tr>\n    <tr>\n      <td>2</td>\n      <td>0.470889</td>\n      <td>0.030077</td>\n      <td>0.030077</td>\n      <td>00:00</td>\n    </tr>\n    <tr>\n      <td>3</td>\n      <td>0.481263</td>\n      <td>0.086895</td>\n      <td>0.086895</td>\n      <td>00:00</td>\n    </tr>\n    <tr>\n      <td>4</td>\n      <td>0.454549</td>\n      <td>0.055378</td>\n      <td>0.055378</td>\n      <td>00:00</td>\n    </tr>\n    <tr>\n      <td>5</td>\n      <td>0.437125</td>\n      <td>0.046987</td>\n      <td>0.046987</td>\n      <td>00:00</td>\n    </tr>\n    <tr>\n      <td>6</td>\n      <td>0.408847</td>\n      <td>0.033719</td>\n      <td>0.033719</td>\n      <td>00:00</td>\n    </tr>\n    <tr>\n      <td>7</td>\n      <td>0.364532</td>\n      <td>0.027422</td>\n      <td>0.027422</td>\n      <td>00:00</td>\n    </tr>\n    <tr>\n      <td>8</td>\n      <td>0.326082</td>\n      <td>0.016110</td>\n      <td>0.016110</td>\n      <td>00:00</td>\n    </tr>\n    <tr>\n      <td>9</td>\n      <td>0.335154</td>\n      <td>0.023205</td>\n      <td>0.023205</td>\n      <td>00:00</td>\n    </tr>\n    <tr>\n      <td>10</td>\n      <td>0.323854</td>\n      <td>0.035939</td>\n      <td>0.035939</td>\n      <td>00:00</td>\n    </tr>\n    <tr>\n      <td>11</td>\n      <td>0.300530</td>\n      <td>0.100731</td>\n      <td>0.100731</td>\n      <td>00:00</td>\n    </tr>\n    <tr>\n      <td>12</td>\n      <td>0.294761</td>\n      <td>0.082498</td>\n      <td>0.082498</td>\n      <td>00:00</td>\n    </tr>\n    <tr>\n      <td>13</td>\n      <td>0.279040</td>\n      <td>0.164977</td>\n      <td>0.164977</td>\n      <td>00:00</td>\n    </tr>\n    <tr>\n      <td>14</td>\n      <td>0.279780</td>\n      <td>0.034753</td>\n      <td>0.034753</td>\n      <td>00:00</td>\n    </tr>\n    <tr>\n      <td>15</td>\n      <td>0.287955</td>\n      <td>0.032244</td>\n      <td>0.032244</td>\n      <td>00:00</td>\n    </tr>\n    <tr>\n      <td>16</td>\n      <td>0.293168</td>\n      <td>0.020041</td>\n      <td>0.020041</td>\n      <td>00:00</td>\n    </tr>\n    <tr>\n      <td>17</td>\n      <td>0.267680</td>\n      <td>0.010085</td>\n      <td>0.010085</td>\n      <td>00:00</td>\n    </tr>\n    <tr>\n      <td>18</td>\n      <td>0.258139</td>\n      <td>0.050690</td>\n      <td>0.050690</td>\n      <td>00:00</td>\n    </tr>\n    <tr>\n      <td>19</td>\n      <td>0.255352</td>\n      <td>0.076148</td>\n      <td>0.076148</td>\n      <td>00:00</td>\n    </tr>\n    <tr>\n      <td>20</td>\n      <td>0.251094</td>\n      <td>0.029859</td>\n      <td>0.029859</td>\n      <td>00:00</td>\n    </tr>\n    <tr>\n      <td>21</td>\n      <td>0.243812</td>\n      <td>0.049939</td>\n      <td>0.049939</td>\n      <td>00:00</td>\n    </tr>\n    <tr>\n      <td>22</td>\n      <td>0.231691</td>\n      <td>0.077358</td>\n      <td>0.077358</td>\n      <td>00:00</td>\n    </tr>\n    <tr>\n      <td>23</td>\n      <td>0.222351</td>\n      <td>0.098651</td>\n      <td>0.098651</td>\n      <td>00:00</td>\n    </tr>\n    <tr>\n      <td>24</td>\n      <td>0.214098</td>\n      <td>0.022822</td>\n      <td>0.022822</td>\n      <td>00:00</td>\n    </tr>\n    <tr>\n      <td>25</td>\n      <td>0.203944</td>\n      <td>0.025000</td>\n      <td>0.025000</td>\n      <td>00:00</td>\n    </tr>\n    <tr>\n      <td>26</td>\n      <td>0.200428</td>\n      <td>0.045520</td>\n      <td>0.045520</td>\n      <td>00:00</td>\n    </tr>\n    <tr>\n      <td>27</td>\n      <td>0.197144</td>\n      <td>0.032776</td>\n      <td>0.032776</td>\n      <td>00:00</td>\n    </tr>\n    <tr>\n      <td>28</td>\n      <td>0.195730</td>\n      <td>0.035427</td>\n      <td>0.035427</td>\n      <td>00:00</td>\n    </tr>\n    <tr>\n      <td>29</td>\n      <td>0.190976</td>\n      <td>0.010443</td>\n      <td>0.010443</td>\n      <td>00:00</td>\n    </tr>\n    <tr>\n      <td>30</td>\n      <td>0.181324</td>\n      <td>0.005706</td>\n      <td>0.005706</td>\n      <td>00:00</td>\n    </tr>\n    <tr>\n      <td>31</td>\n      <td>0.169666</td>\n      <td>0.007346</td>\n      <td>0.007346</td>\n      <td>00:00</td>\n    </tr>\n    <tr>\n      <td>32</td>\n      <td>0.166263</td>\n      <td>0.042622</td>\n      <td>0.042622</td>\n      <td>00:00</td>\n    </tr>\n    <tr>\n      <td>33</td>\n      <td>0.167892</td>\n      <td>0.044754</td>\n      <td>0.044754</td>\n      <td>00:00</td>\n    </tr>\n    <tr>\n      <td>34</td>\n      <td>0.159247</td>\n      <td>0.093201</td>\n      <td>0.093201</td>\n      <td>00:00</td>\n    </tr>\n    <tr>\n      <td>35</td>\n      <td>0.156088</td>\n      <td>0.057186</td>\n      <td>0.057186</td>\n      <td>00:00</td>\n    </tr>\n    <tr>\n      <td>36</td>\n      <td>0.169305</td>\n      <td>0.030724</td>\n      <td>0.030724</td>\n      <td>00:00</td>\n    </tr>\n    <tr>\n      <td>37</td>\n      <td>0.157411</td>\n      <td>0.008329</td>\n      <td>0.008329</td>\n      <td>00:00</td>\n    </tr>\n    <tr>\n      <td>38</td>\n      <td>0.167156</td>\n      <td>0.003983</td>\n      <td>0.003983</td>\n      <td>00:00</td>\n    </tr>\n    <tr>\n      <td>39</td>\n      <td>0.154821</td>\n      <td>0.020479</td>\n      <td>0.020479</td>\n      <td>00:00</td>\n    </tr>\n    <tr>\n      <td>40</td>\n      <td>0.168451</td>\n      <td>0.029619</td>\n      <td>0.029619</td>\n      <td>00:00</td>\n    </tr>\n    <tr>\n      <td>41</td>\n      <td>0.159271</td>\n      <td>0.077143</td>\n      <td>0.077143</td>\n      <td>00:00</td>\n    </tr>\n    <tr>\n      <td>42</td>\n      <td>0.156087</td>\n      <td>0.083648</td>\n      <td>0.083648</td>\n      <td>00:00</td>\n    </tr>\n    <tr>\n      <td>43</td>\n      <td>0.153030</td>\n      <td>0.112094</td>\n      <td>0.112094</td>\n      <td>00:00</td>\n    </tr>\n    <tr>\n      <td>44</td>\n      <td>0.148069</td>\n      <td>0.046303</td>\n      <td>0.046303</td>\n      <td>00:00</td>\n    </tr>\n    <tr>\n      <td>45</td>\n      <td>0.144495</td>\n      <td>0.031840</td>\n      <td>0.031840</td>\n      <td>00:00</td>\n    </tr>\n    <tr>\n      <td>46</td>\n      <td>0.137612</td>\n      <td>0.023767</td>\n      <td>0.023767</td>\n      <td>00:00</td>\n    </tr>\n    <tr>\n      <td>47</td>\n      <td>0.133461</td>\n      <td>0.058079</td>\n      <td>0.058079</td>\n      <td>00:00</td>\n    </tr>\n    <tr>\n      <td>48</td>\n      <td>0.128217</td>\n      <td>0.032925</td>\n      <td>0.032925</td>\n      <td>00:00</td>\n    </tr>\n    <tr>\n      <td>49</td>\n      <td>0.139378</td>\n      <td>0.133546</td>\n      <td>0.133546</td>\n      <td>00:00</td>\n    </tr>\n  </tbody>\n</table>"
     },
     "metadata": {}
    }
   ],
   "source": [
    "learner.fit_one_cycle(EPOCHS, LR)"
   ]
  },
  {
   "cell_type": "code",
   "execution_count": 59,
   "metadata": {},
   "outputs": [
    {
     "output_type": "display_data",
     "data": {
      "text/plain": "<IPython.core.display.HTML object>",
      "text/html": ""
     },
     "metadata": {}
    }
   ],
   "source": [
    "aux = learner.get_preds(ds_type=DatasetType.Test)\n",
    "predictions = aux[0].squeeze().tolist()"
   ]
  },
  {
   "cell_type": "code",
   "execution_count": 60,
   "metadata": {},
   "outputs": [],
   "source": [
    "test_df[\"predicao\"] = predictions\n",
    "summary_df = summary_df.append(test_df, ignore_index=True, sort=False)"
   ]
  },
  {
   "cell_type": "code",
   "execution_count": 61,
   "metadata": {},
   "outputs": [
    {
     "output_type": "execute_result",
     "data": {
      "text/plain": "   paredao       nome  positivos  neutros  negativos  \\\n12       9  flayslene      18049    20419      29529   \n13       9        ivy      12919    19342      24191   \n11       9     daniel      17050    28476      35449   \n\n    positivos_individual_pct  neutros_individual_pct  \\\n12                  0.265438                0.300293   \n13                  0.228849                0.342627   \n11                  0.210559                0.351664   \n\n    negativos_individual_pct  positivos_global_pct  neutros_global_pct  \\\n12                  0.434269              0.375880            0.299236   \n13                  0.428523              0.269045            0.283453   \n11                  0.437777              0.355075            0.417310   \n\n    negativos_global_pct   day1   day2   day3    likes  retweets  seguidores  \\\n12              0.331158  14010  41155  12832  2048527    340506      104138   \n13              0.271294  34835  16734   4883  1801001    319531       59125   \n11              0.397548  43662  24967  12346  2362234    451548       33876   \n\n    rejeicao  predicao  \n12    0.0954  0.107087  \n13    0.0964  0.082000  \n11    0.8082 -0.114188  ",
      "text/html": "<div>\n<style scoped>\n    .dataframe tbody tr th:only-of-type {\n        vertical-align: middle;\n    }\n\n    .dataframe tbody tr th {\n        vertical-align: top;\n    }\n\n    .dataframe thead th {\n        text-align: right;\n    }\n</style>\n<table border=\"1\" class=\"dataframe\">\n  <thead>\n    <tr style=\"text-align: right;\">\n      <th></th>\n      <th>paredao</th>\n      <th>nome</th>\n      <th>positivos</th>\n      <th>neutros</th>\n      <th>negativos</th>\n      <th>positivos_individual_pct</th>\n      <th>neutros_individual_pct</th>\n      <th>negativos_individual_pct</th>\n      <th>positivos_global_pct</th>\n      <th>neutros_global_pct</th>\n      <th>negativos_global_pct</th>\n      <th>day1</th>\n      <th>day2</th>\n      <th>day3</th>\n      <th>likes</th>\n      <th>retweets</th>\n      <th>seguidores</th>\n      <th>rejeicao</th>\n      <th>predicao</th>\n    </tr>\n  </thead>\n  <tbody>\n    <tr>\n      <th>12</th>\n      <td>9</td>\n      <td>flayslene</td>\n      <td>18049</td>\n      <td>20419</td>\n      <td>29529</td>\n      <td>0.265438</td>\n      <td>0.300293</td>\n      <td>0.434269</td>\n      <td>0.375880</td>\n      <td>0.299236</td>\n      <td>0.331158</td>\n      <td>14010</td>\n      <td>41155</td>\n      <td>12832</td>\n      <td>2048527</td>\n      <td>340506</td>\n      <td>104138</td>\n      <td>0.0954</td>\n      <td>0.107087</td>\n    </tr>\n    <tr>\n      <th>13</th>\n      <td>9</td>\n      <td>ivy</td>\n      <td>12919</td>\n      <td>19342</td>\n      <td>24191</td>\n      <td>0.228849</td>\n      <td>0.342627</td>\n      <td>0.428523</td>\n      <td>0.269045</td>\n      <td>0.283453</td>\n      <td>0.271294</td>\n      <td>34835</td>\n      <td>16734</td>\n      <td>4883</td>\n      <td>1801001</td>\n      <td>319531</td>\n      <td>59125</td>\n      <td>0.0964</td>\n      <td>0.082000</td>\n    </tr>\n    <tr>\n      <th>11</th>\n      <td>9</td>\n      <td>daniel</td>\n      <td>17050</td>\n      <td>28476</td>\n      <td>35449</td>\n      <td>0.210559</td>\n      <td>0.351664</td>\n      <td>0.437777</td>\n      <td>0.355075</td>\n      <td>0.417310</td>\n      <td>0.397548</td>\n      <td>43662</td>\n      <td>24967</td>\n      <td>12346</td>\n      <td>2362234</td>\n      <td>451548</td>\n      <td>33876</td>\n      <td>0.8082</td>\n      <td>-0.114188</td>\n    </tr>\n  </tbody>\n</table>\n</div>"
     },
     "metadata": {},
     "execution_count": 61
    }
   ],
   "source": [
    "test_df.sort_values(by=\"predicao\", ascending=False)"
   ]
  },
  {
   "cell_type": "markdown",
   "metadata": {},
   "source": [
    "# Sumarizando"
   ]
  },
  {
   "cell_type": "code",
   "execution_count": 62,
   "metadata": {},
   "outputs": [
    {
     "output_type": "execute_result",
     "data": {
      "text/plain": "   paredao             nome positivos neutros negativos  \\\n0        1   bianca_andrade      5102    5230      3762   \n1        1     lucas_chumbo      5460   10796     14411   \n2        2             babu      3819    5049      3822   \n3        2           petrix     17850   41331     62584   \n4        2            pyong     19947   15248     12907   \n5        2           hadson     14732   30837     54056   \n6        3     felipe_prior      2824    3707      3514   \n7        3           hadson      2344    4928      3987   \n8        4             babu      6766   10814     18799   \n9        4      victor_hugo      2807    4560      4979   \n10       4            lucas     12173   17964     31523   \n11       5   bianca_andrade      4239    8067      6802   \n12       5        flayslene      2304    4170      6222   \n13       5     felipe_prior      4887    9452     19076   \n14       6  gizelly_bicalho     20697   18318     14428   \n15       6        guilherme     15623   26030     61087   \n16       6            pyong     24067   31118     59615   \n17       7             babu     14706   13814     17650   \n18       7     manu_gavassi     11741   12131     10756   \n19       7      victor_hugo      5780   10136     12243   \n20       8             babu     20043   24848     39041   \n21       8             rafa     11365   16307     33927   \n22       8            pyong     23320   37894     49091   \n23       9           daniel     17050   28476     35449   \n24       9        flayslene     18049   20419     29529   \n25       9              ivy     12919   19342     24191   \n\n    positivos_individual_pct  neutros_individual_pct  \\\n0                   0.361998                0.371080   \n1                   0.178042                0.352040   \n2                   0.300946                0.397872   \n3                   0.146594                0.339433   \n4                   0.414681                0.316993   \n5                   0.147875                0.309531   \n6                   0.281135                0.369039   \n7                   0.208189                0.437694   \n8                   0.185986                0.297259   \n9                   0.227361                0.369350   \n10                  0.197421                0.291340   \n11                  0.221844                0.422179   \n12                  0.181474                0.328450   \n13                  0.146252                0.282867   \n14                  0.387272                0.342758   \n15                  0.152063                0.253358   \n16                  0.209643                0.271063   \n17                  0.318519                0.299199   \n18                  0.339061                0.350323   \n19                  0.205263                0.359956   \n20                  0.238800                0.296049   \n21                  0.184500                0.264728   \n22                  0.211414                0.343538   \n23                  0.210559                0.351664   \n24                  0.265438                0.300293   \n25                  0.228849                0.342627   \n\n    negativos_individual_pct  positivos_global_pct  neutros_global_pct  \\\n0                   0.266922              0.483052            0.326345   \n1                   0.469919              0.516948            0.673655   \n2                   0.301182              0.067775            0.054604   \n3                   0.513974              0.316781            0.446991   \n4                   0.268326              0.353997            0.164906   \n5                   0.542595              0.261447            0.333499   \n6                   0.349826              0.546440            0.429299   \n7                   0.354117              0.453560            0.570701   \n8                   0.516754              0.311138            0.324375   \n9                   0.403289              0.129081            0.136781   \n10                  0.511239              0.559781            0.538845   \n11                  0.355977              0.370866            0.371940   \n12                  0.490076              0.201575            0.192263   \n13                  0.570881              0.427559            0.435797   \n14                  0.269970              0.342739            0.242732   \n15                  0.594579              0.258715            0.344924   \n16                  0.519294              0.398546            0.412345   \n17                  0.382283              0.456325            0.382861   \n18                  0.310616              0.364322            0.336216   \n19                  0.434781              0.179353            0.280923   \n20                  0.465150              0.366229            0.314337   \n21                  0.550772              0.207663            0.206290   \n22                  0.445048              0.426107            0.479374   \n23                  0.437777              0.355075            0.417310   \n24                  0.434269              0.375880            0.299236   \n25                  0.428523              0.269045            0.283453   \n\n    negativos_global_pct   day1   day2   day3    likes retweets seguidores  \\\n0               0.207010   5849   5903   2342   407879    57730     411880   \n1               0.792990  22759   5502   2406   667691   132858      12014   \n2               0.028657   5606   6016   1068   313738    57539     325345   \n3               0.469254  46679  64815  10271  3036821   776919      22414   \n4               0.096777  12527  28745   6830  1889184   357422    1431039   \n5               0.405312  25263  68537   5825  2416937   583604      10207   \n6               0.468471   1138   6469   2438   434766    81439     204031   \n7               0.531529   1903   6534   2822   224448    41345      10207   \n8               0.339940  18271  15505   2603   614605    87114     325345   \n9               0.090035   6845   4229   1272   259802    43392      14399   \n10              0.570026  32223  22154   7283  1337004   250861      23670   \n11              0.211900   1998  10238   6872   136880    18673     411880   \n12              0.193832   1935   7920   2841   244036    42579     104138   \n13              0.594268   3101  21636   8678   703621   137701     204031   \n14              0.106771  20904  23543   8996  2513041   427327     234977   \n15              0.452061  49438  35276  18026  2623616   513321     103421   \n16              0.441168  38968  53242  22590  2790406   500118    1431039   \n17              0.434205  19044  20262   6864  3245989   421069     325345   \n18              0.264607  13372  15830   5426  1347551   161381    4327060   \n19              0.301188  14217   9331   4611  1370088   192649      14399   \n20              0.319854  29102  36583  18247  2746925   442326     325345   \n21              0.277956  27062  22837  11700   833006    65329     293473   \n22              0.402191  42474  46841  20990  1884395   331018    1431039   \n23              0.397548  43662  24967  12346  2362234   451548      33876   \n24              0.331158  14010  41155  12832  2048527   340506     104138   \n25              0.271294  34835  16734   4883  1801001   319531      59125   \n\n    rejeicao  predicao  \n0     0.2446 -0.199820  \n1     0.7594 -0.335745  \n2     0.0044  0.524069  \n3     0.8027 -2.138152  \n4     0.0066  1.648351  \n5     0.1863 -1.655416  \n6     0.2029  0.197312  \n7     0.7971 -0.068673  \n8     0.0130 -0.020212  \n9     0.3608  0.085708  \n10    0.6262  0.090084  \n11    0.5309  0.180918  \n12    0.1764 -0.193095  \n13    0.2927 -0.028167  \n14    0.0064  0.272756  \n15    0.5607 -0.042603  \n16    0.4329 -0.075628  \n17    0.0460  0.566225  \n18    0.1018  0.332954  \n19    0.8522  0.176582  \n20    0.4771  0.148294  \n21    0.0059  0.340994  \n22    0.5170  0.491929  \n23    0.8082 -0.114188  \n24    0.0954  0.107087  \n25    0.0964  0.082000  ",
      "text/html": "<div>\n<style scoped>\n    .dataframe tbody tr th:only-of-type {\n        vertical-align: middle;\n    }\n\n    .dataframe tbody tr th {\n        vertical-align: top;\n    }\n\n    .dataframe thead th {\n        text-align: right;\n    }\n</style>\n<table border=\"1\" class=\"dataframe\">\n  <thead>\n    <tr style=\"text-align: right;\">\n      <th></th>\n      <th>paredao</th>\n      <th>nome</th>\n      <th>positivos</th>\n      <th>neutros</th>\n      <th>negativos</th>\n      <th>positivos_individual_pct</th>\n      <th>neutros_individual_pct</th>\n      <th>negativos_individual_pct</th>\n      <th>positivos_global_pct</th>\n      <th>neutros_global_pct</th>\n      <th>negativos_global_pct</th>\n      <th>day1</th>\n      <th>day2</th>\n      <th>day3</th>\n      <th>likes</th>\n      <th>retweets</th>\n      <th>seguidores</th>\n      <th>rejeicao</th>\n      <th>predicao</th>\n    </tr>\n  </thead>\n  <tbody>\n    <tr>\n      <th>0</th>\n      <td>1</td>\n      <td>bianca_andrade</td>\n      <td>5102</td>\n      <td>5230</td>\n      <td>3762</td>\n      <td>0.361998</td>\n      <td>0.371080</td>\n      <td>0.266922</td>\n      <td>0.483052</td>\n      <td>0.326345</td>\n      <td>0.207010</td>\n      <td>5849</td>\n      <td>5903</td>\n      <td>2342</td>\n      <td>407879</td>\n      <td>57730</td>\n      <td>411880</td>\n      <td>0.2446</td>\n      <td>-0.199820</td>\n    </tr>\n    <tr>\n      <th>1</th>\n      <td>1</td>\n      <td>lucas_chumbo</td>\n      <td>5460</td>\n      <td>10796</td>\n      <td>14411</td>\n      <td>0.178042</td>\n      <td>0.352040</td>\n      <td>0.469919</td>\n      <td>0.516948</td>\n      <td>0.673655</td>\n      <td>0.792990</td>\n      <td>22759</td>\n      <td>5502</td>\n      <td>2406</td>\n      <td>667691</td>\n      <td>132858</td>\n      <td>12014</td>\n      <td>0.7594</td>\n      <td>-0.335745</td>\n    </tr>\n    <tr>\n      <th>2</th>\n      <td>2</td>\n      <td>babu</td>\n      <td>3819</td>\n      <td>5049</td>\n      <td>3822</td>\n      <td>0.300946</td>\n      <td>0.397872</td>\n      <td>0.301182</td>\n      <td>0.067775</td>\n      <td>0.054604</td>\n      <td>0.028657</td>\n      <td>5606</td>\n      <td>6016</td>\n      <td>1068</td>\n      <td>313738</td>\n      <td>57539</td>\n      <td>325345</td>\n      <td>0.0044</td>\n      <td>0.524069</td>\n    </tr>\n    <tr>\n      <th>3</th>\n      <td>2</td>\n      <td>petrix</td>\n      <td>17850</td>\n      <td>41331</td>\n      <td>62584</td>\n      <td>0.146594</td>\n      <td>0.339433</td>\n      <td>0.513974</td>\n      <td>0.316781</td>\n      <td>0.446991</td>\n      <td>0.469254</td>\n      <td>46679</td>\n      <td>64815</td>\n      <td>10271</td>\n      <td>3036821</td>\n      <td>776919</td>\n      <td>22414</td>\n      <td>0.8027</td>\n      <td>-2.138152</td>\n    </tr>\n    <tr>\n      <th>4</th>\n      <td>2</td>\n      <td>pyong</td>\n      <td>19947</td>\n      <td>15248</td>\n      <td>12907</td>\n      <td>0.414681</td>\n      <td>0.316993</td>\n      <td>0.268326</td>\n      <td>0.353997</td>\n      <td>0.164906</td>\n      <td>0.096777</td>\n      <td>12527</td>\n      <td>28745</td>\n      <td>6830</td>\n      <td>1889184</td>\n      <td>357422</td>\n      <td>1431039</td>\n      <td>0.0066</td>\n      <td>1.648351</td>\n    </tr>\n    <tr>\n      <th>5</th>\n      <td>2</td>\n      <td>hadson</td>\n      <td>14732</td>\n      <td>30837</td>\n      <td>54056</td>\n      <td>0.147875</td>\n      <td>0.309531</td>\n      <td>0.542595</td>\n      <td>0.261447</td>\n      <td>0.333499</td>\n      <td>0.405312</td>\n      <td>25263</td>\n      <td>68537</td>\n      <td>5825</td>\n      <td>2416937</td>\n      <td>583604</td>\n      <td>10207</td>\n      <td>0.1863</td>\n      <td>-1.655416</td>\n    </tr>\n    <tr>\n      <th>6</th>\n      <td>3</td>\n      <td>felipe_prior</td>\n      <td>2824</td>\n      <td>3707</td>\n      <td>3514</td>\n      <td>0.281135</td>\n      <td>0.369039</td>\n      <td>0.349826</td>\n      <td>0.546440</td>\n      <td>0.429299</td>\n      <td>0.468471</td>\n      <td>1138</td>\n      <td>6469</td>\n      <td>2438</td>\n      <td>434766</td>\n      <td>81439</td>\n      <td>204031</td>\n      <td>0.2029</td>\n      <td>0.197312</td>\n    </tr>\n    <tr>\n      <th>7</th>\n      <td>3</td>\n      <td>hadson</td>\n      <td>2344</td>\n      <td>4928</td>\n      <td>3987</td>\n      <td>0.208189</td>\n      <td>0.437694</td>\n      <td>0.354117</td>\n      <td>0.453560</td>\n      <td>0.570701</td>\n      <td>0.531529</td>\n      <td>1903</td>\n      <td>6534</td>\n      <td>2822</td>\n      <td>224448</td>\n      <td>41345</td>\n      <td>10207</td>\n      <td>0.7971</td>\n      <td>-0.068673</td>\n    </tr>\n    <tr>\n      <th>8</th>\n      <td>4</td>\n      <td>babu</td>\n      <td>6766</td>\n      <td>10814</td>\n      <td>18799</td>\n      <td>0.185986</td>\n      <td>0.297259</td>\n      <td>0.516754</td>\n      <td>0.311138</td>\n      <td>0.324375</td>\n      <td>0.339940</td>\n      <td>18271</td>\n      <td>15505</td>\n      <td>2603</td>\n      <td>614605</td>\n      <td>87114</td>\n      <td>325345</td>\n      <td>0.0130</td>\n      <td>-0.020212</td>\n    </tr>\n    <tr>\n      <th>9</th>\n      <td>4</td>\n      <td>victor_hugo</td>\n      <td>2807</td>\n      <td>4560</td>\n      <td>4979</td>\n      <td>0.227361</td>\n      <td>0.369350</td>\n      <td>0.403289</td>\n      <td>0.129081</td>\n      <td>0.136781</td>\n      <td>0.090035</td>\n      <td>6845</td>\n      <td>4229</td>\n      <td>1272</td>\n      <td>259802</td>\n      <td>43392</td>\n      <td>14399</td>\n      <td>0.3608</td>\n      <td>0.085708</td>\n    </tr>\n    <tr>\n      <th>10</th>\n      <td>4</td>\n      <td>lucas</td>\n      <td>12173</td>\n      <td>17964</td>\n      <td>31523</td>\n      <td>0.197421</td>\n      <td>0.291340</td>\n      <td>0.511239</td>\n      <td>0.559781</td>\n      <td>0.538845</td>\n      <td>0.570026</td>\n      <td>32223</td>\n      <td>22154</td>\n      <td>7283</td>\n      <td>1337004</td>\n      <td>250861</td>\n      <td>23670</td>\n      <td>0.6262</td>\n      <td>0.090084</td>\n    </tr>\n    <tr>\n      <th>11</th>\n      <td>5</td>\n      <td>bianca_andrade</td>\n      <td>4239</td>\n      <td>8067</td>\n      <td>6802</td>\n      <td>0.221844</td>\n      <td>0.422179</td>\n      <td>0.355977</td>\n      <td>0.370866</td>\n      <td>0.371940</td>\n      <td>0.211900</td>\n      <td>1998</td>\n      <td>10238</td>\n      <td>6872</td>\n      <td>136880</td>\n      <td>18673</td>\n      <td>411880</td>\n      <td>0.5309</td>\n      <td>0.180918</td>\n    </tr>\n    <tr>\n      <th>12</th>\n      <td>5</td>\n      <td>flayslene</td>\n      <td>2304</td>\n      <td>4170</td>\n      <td>6222</td>\n      <td>0.181474</td>\n      <td>0.328450</td>\n      <td>0.490076</td>\n      <td>0.201575</td>\n      <td>0.192263</td>\n      <td>0.193832</td>\n      <td>1935</td>\n      <td>7920</td>\n      <td>2841</td>\n      <td>244036</td>\n      <td>42579</td>\n      <td>104138</td>\n      <td>0.1764</td>\n      <td>-0.193095</td>\n    </tr>\n    <tr>\n      <th>13</th>\n      <td>5</td>\n      <td>felipe_prior</td>\n      <td>4887</td>\n      <td>9452</td>\n      <td>19076</td>\n      <td>0.146252</td>\n      <td>0.282867</td>\n      <td>0.570881</td>\n      <td>0.427559</td>\n      <td>0.435797</td>\n      <td>0.594268</td>\n      <td>3101</td>\n      <td>21636</td>\n      <td>8678</td>\n      <td>703621</td>\n      <td>137701</td>\n      <td>204031</td>\n      <td>0.2927</td>\n      <td>-0.028167</td>\n    </tr>\n    <tr>\n      <th>14</th>\n      <td>6</td>\n      <td>gizelly_bicalho</td>\n      <td>20697</td>\n      <td>18318</td>\n      <td>14428</td>\n      <td>0.387272</td>\n      <td>0.342758</td>\n      <td>0.269970</td>\n      <td>0.342739</td>\n      <td>0.242732</td>\n      <td>0.106771</td>\n      <td>20904</td>\n      <td>23543</td>\n      <td>8996</td>\n      <td>2513041</td>\n      <td>427327</td>\n      <td>234977</td>\n      <td>0.0064</td>\n      <td>0.272756</td>\n    </tr>\n    <tr>\n      <th>15</th>\n      <td>6</td>\n      <td>guilherme</td>\n      <td>15623</td>\n      <td>26030</td>\n      <td>61087</td>\n      <td>0.152063</td>\n      <td>0.253358</td>\n      <td>0.594579</td>\n      <td>0.258715</td>\n      <td>0.344924</td>\n      <td>0.452061</td>\n      <td>49438</td>\n      <td>35276</td>\n      <td>18026</td>\n      <td>2623616</td>\n      <td>513321</td>\n      <td>103421</td>\n      <td>0.5607</td>\n      <td>-0.042603</td>\n    </tr>\n    <tr>\n      <th>16</th>\n      <td>6</td>\n      <td>pyong</td>\n      <td>24067</td>\n      <td>31118</td>\n      <td>59615</td>\n      <td>0.209643</td>\n      <td>0.271063</td>\n      <td>0.519294</td>\n      <td>0.398546</td>\n      <td>0.412345</td>\n      <td>0.441168</td>\n      <td>38968</td>\n      <td>53242</td>\n      <td>22590</td>\n      <td>2790406</td>\n      <td>500118</td>\n      <td>1431039</td>\n      <td>0.4329</td>\n      <td>-0.075628</td>\n    </tr>\n    <tr>\n      <th>17</th>\n      <td>7</td>\n      <td>babu</td>\n      <td>14706</td>\n      <td>13814</td>\n      <td>17650</td>\n      <td>0.318519</td>\n      <td>0.299199</td>\n      <td>0.382283</td>\n      <td>0.456325</td>\n      <td>0.382861</td>\n      <td>0.434205</td>\n      <td>19044</td>\n      <td>20262</td>\n      <td>6864</td>\n      <td>3245989</td>\n      <td>421069</td>\n      <td>325345</td>\n      <td>0.0460</td>\n      <td>0.566225</td>\n    </tr>\n    <tr>\n      <th>18</th>\n      <td>7</td>\n      <td>manu_gavassi</td>\n      <td>11741</td>\n      <td>12131</td>\n      <td>10756</td>\n      <td>0.339061</td>\n      <td>0.350323</td>\n      <td>0.310616</td>\n      <td>0.364322</td>\n      <td>0.336216</td>\n      <td>0.264607</td>\n      <td>13372</td>\n      <td>15830</td>\n      <td>5426</td>\n      <td>1347551</td>\n      <td>161381</td>\n      <td>4327060</td>\n      <td>0.1018</td>\n      <td>0.332954</td>\n    </tr>\n    <tr>\n      <th>19</th>\n      <td>7</td>\n      <td>victor_hugo</td>\n      <td>5780</td>\n      <td>10136</td>\n      <td>12243</td>\n      <td>0.205263</td>\n      <td>0.359956</td>\n      <td>0.434781</td>\n      <td>0.179353</td>\n      <td>0.280923</td>\n      <td>0.301188</td>\n      <td>14217</td>\n      <td>9331</td>\n      <td>4611</td>\n      <td>1370088</td>\n      <td>192649</td>\n      <td>14399</td>\n      <td>0.8522</td>\n      <td>0.176582</td>\n    </tr>\n    <tr>\n      <th>20</th>\n      <td>8</td>\n      <td>babu</td>\n      <td>20043</td>\n      <td>24848</td>\n      <td>39041</td>\n      <td>0.238800</td>\n      <td>0.296049</td>\n      <td>0.465150</td>\n      <td>0.366229</td>\n      <td>0.314337</td>\n      <td>0.319854</td>\n      <td>29102</td>\n      <td>36583</td>\n      <td>18247</td>\n      <td>2746925</td>\n      <td>442326</td>\n      <td>325345</td>\n      <td>0.4771</td>\n      <td>0.148294</td>\n    </tr>\n    <tr>\n      <th>21</th>\n      <td>8</td>\n      <td>rafa</td>\n      <td>11365</td>\n      <td>16307</td>\n      <td>33927</td>\n      <td>0.184500</td>\n      <td>0.264728</td>\n      <td>0.550772</td>\n      <td>0.207663</td>\n      <td>0.206290</td>\n      <td>0.277956</td>\n      <td>27062</td>\n      <td>22837</td>\n      <td>11700</td>\n      <td>833006</td>\n      <td>65329</td>\n      <td>293473</td>\n      <td>0.0059</td>\n      <td>0.340994</td>\n    </tr>\n    <tr>\n      <th>22</th>\n      <td>8</td>\n      <td>pyong</td>\n      <td>23320</td>\n      <td>37894</td>\n      <td>49091</td>\n      <td>0.211414</td>\n      <td>0.343538</td>\n      <td>0.445048</td>\n      <td>0.426107</td>\n      <td>0.479374</td>\n      <td>0.402191</td>\n      <td>42474</td>\n      <td>46841</td>\n      <td>20990</td>\n      <td>1884395</td>\n      <td>331018</td>\n      <td>1431039</td>\n      <td>0.5170</td>\n      <td>0.491929</td>\n    </tr>\n    <tr>\n      <th>23</th>\n      <td>9</td>\n      <td>daniel</td>\n      <td>17050</td>\n      <td>28476</td>\n      <td>35449</td>\n      <td>0.210559</td>\n      <td>0.351664</td>\n      <td>0.437777</td>\n      <td>0.355075</td>\n      <td>0.417310</td>\n      <td>0.397548</td>\n      <td>43662</td>\n      <td>24967</td>\n      <td>12346</td>\n      <td>2362234</td>\n      <td>451548</td>\n      <td>33876</td>\n      <td>0.8082</td>\n      <td>-0.114188</td>\n    </tr>\n    <tr>\n      <th>24</th>\n      <td>9</td>\n      <td>flayslene</td>\n      <td>18049</td>\n      <td>20419</td>\n      <td>29529</td>\n      <td>0.265438</td>\n      <td>0.300293</td>\n      <td>0.434269</td>\n      <td>0.375880</td>\n      <td>0.299236</td>\n      <td>0.331158</td>\n      <td>14010</td>\n      <td>41155</td>\n      <td>12832</td>\n      <td>2048527</td>\n      <td>340506</td>\n      <td>104138</td>\n      <td>0.0954</td>\n      <td>0.107087</td>\n    </tr>\n    <tr>\n      <th>25</th>\n      <td>9</td>\n      <td>ivy</td>\n      <td>12919</td>\n      <td>19342</td>\n      <td>24191</td>\n      <td>0.228849</td>\n      <td>0.342627</td>\n      <td>0.428523</td>\n      <td>0.269045</td>\n      <td>0.283453</td>\n      <td>0.271294</td>\n      <td>34835</td>\n      <td>16734</td>\n      <td>4883</td>\n      <td>1801001</td>\n      <td>319531</td>\n      <td>59125</td>\n      <td>0.0964</td>\n      <td>0.082000</td>\n    </tr>\n  </tbody>\n</table>\n</div>"
     },
     "metadata": {},
     "execution_count": 62
    }
   ],
   "source": [
    "summary_df"
   ]
  },
  {
   "cell_type": "code",
   "execution_count": null,
   "metadata": {},
   "outputs": [],
   "source": []
  }
 ]
}