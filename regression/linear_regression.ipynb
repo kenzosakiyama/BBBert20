{
 "nbformat": 4,
 "nbformat_minor": 2,
 "metadata": {
  "language_info": {
   "name": "python",
   "codemirror_mode": {
    "name": "ipython",
    "version": 3
   },
   "version": "3.6.9-final"
  },
  "orig_nbformat": 2,
  "file_extension": ".py",
  "mimetype": "text/x-python",
  "name": "python",
  "npconvert_exporter": "python",
  "pygments_lexer": "ipython3",
  "version": 3,
  "kernelspec": {
   "name": "python36964bitbertvirtualenv054cbb15ab924922a35a349b12e89805",
   "display_name": "Python 3.6.9 64-bit ('bert': virtualenv)"
  }
 },
 "cells": [
  {
   "cell_type": "markdown",
   "metadata": {},
   "source": [
    "# Experimentos baseados em regressão linear"
   ]
  },
  {
   "cell_type": "markdown",
   "metadata": {},
   "source": [
    "- Utilizando cada paredão como teste e avaliando com holdout."
   ]
  },
  {
   "cell_type": "code",
   "execution_count": 1,
   "metadata": {},
   "outputs": [],
   "source": [
    "import pandas as pd \n",
    "import numpy as np \n",
    "from regression_utils import *\n",
    "from sklearn.linear_model import LinearRegression"
   ]
  },
  {
   "cell_type": "code",
   "execution_count": 2,
   "metadata": {},
   "outputs": [],
   "source": [
    "NORMALIZE = True"
   ]
  },
  {
   "cell_type": "code",
   "execution_count": 3,
   "metadata": {},
   "outputs": [],
   "source": [
    "summary_df = pd.DataFrame(columns=COLUMNS)"
   ]
  },
  {
   "cell_type": "markdown",
   "metadata": {},
   "source": [
    "# Paredao 1"
   ]
  },
  {
   "cell_type": "code",
   "execution_count": 4,
   "metadata": {},
   "outputs": [],
   "source": [
    "train_df, test_df, mean, std = get_train_test(1, normalize=NORMALIZE)"
   ]
  },
  {
   "cell_type": "code",
   "execution_count": 5,
   "metadata": {},
   "outputs": [
    {
     "output_type": "execute_result",
     "data": {
      "text/plain": "   paredao            nome  positivos   neutros  negativos  \\\n24       1  bianca_andrade  -0.705442 -0.663332  -0.961113   \n25       1    lucas_chumbo  -0.679271 -0.460135  -0.565538   \n\n    positivos_individual_pct  neutros_individual_pct  \\\n24                  1.723825                0.640345   \n25                 -0.782240                0.256477   \n\n    negativos_individual_pct  positivos_global_pct  neutros_global_pct  \\\n24                 -1.655124              1.058495           -0.128231   \n25                  0.467355              1.318056            2.281350   \n\n    negativos_global_pct      day1      day2      day3     likes  retweets  \\\n24             -0.789185 -1.007059 -0.735292 -0.573523 -0.848444 -0.859990   \n25              2.566319  0.012876 -0.746428 -0.570033 -0.691297 -0.612588   \n\n    seguidores  rejeicao  \n24   -0.175484 -0.344837  \n25   -0.517648  1.423920  ",
      "text/html": "<div>\n<style scoped>\n    .dataframe tbody tr th:only-of-type {\n        vertical-align: middle;\n    }\n\n    .dataframe tbody tr th {\n        vertical-align: top;\n    }\n\n    .dataframe thead th {\n        text-align: right;\n    }\n</style>\n<table border=\"1\" class=\"dataframe\">\n  <thead>\n    <tr style=\"text-align: right;\">\n      <th></th>\n      <th>paredao</th>\n      <th>nome</th>\n      <th>positivos</th>\n      <th>neutros</th>\n      <th>negativos</th>\n      <th>positivos_individual_pct</th>\n      <th>neutros_individual_pct</th>\n      <th>negativos_individual_pct</th>\n      <th>positivos_global_pct</th>\n      <th>neutros_global_pct</th>\n      <th>negativos_global_pct</th>\n      <th>day1</th>\n      <th>day2</th>\n      <th>day3</th>\n      <th>likes</th>\n      <th>retweets</th>\n      <th>seguidores</th>\n      <th>rejeicao</th>\n    </tr>\n  </thead>\n  <tbody>\n    <tr>\n      <th>24</th>\n      <td>1</td>\n      <td>bianca_andrade</td>\n      <td>-0.705442</td>\n      <td>-0.663332</td>\n      <td>-0.961113</td>\n      <td>1.723825</td>\n      <td>0.640345</td>\n      <td>-1.655124</td>\n      <td>1.058495</td>\n      <td>-0.128231</td>\n      <td>-0.789185</td>\n      <td>-1.007059</td>\n      <td>-0.735292</td>\n      <td>-0.573523</td>\n      <td>-0.848444</td>\n      <td>-0.859990</td>\n      <td>-0.175484</td>\n      <td>-0.344837</td>\n    </tr>\n    <tr>\n      <th>25</th>\n      <td>1</td>\n      <td>lucas_chumbo</td>\n      <td>-0.679271</td>\n      <td>-0.460135</td>\n      <td>-0.565538</td>\n      <td>-0.782240</td>\n      <td>0.256477</td>\n      <td>0.467355</td>\n      <td>1.318056</td>\n      <td>2.281350</td>\n      <td>2.566319</td>\n      <td>0.012876</td>\n      <td>-0.746428</td>\n      <td>-0.570033</td>\n      <td>-0.691297</td>\n      <td>-0.612588</td>\n      <td>-0.517648</td>\n      <td>1.423920</td>\n    </tr>\n  </tbody>\n</table>\n</div>"
     },
     "metadata": {},
     "execution_count": 5
    }
   ],
   "source": [
    "test_df"
   ]
  },
  {
   "cell_type": "code",
   "execution_count": 6,
   "metadata": {},
   "outputs": [],
   "source": [
    "x_train, y_train = train_df.drop(columns=[\"paredao\", \"nome\", \"rejeicao\"], axis=1).to_numpy(), train_df.drop(columns=train_df.columns[:-1], axis=1).to_numpy()\n",
    "x_test, y_test = test_df.drop(columns=[\"paredao\", \"nome\", \"rejeicao\"], axis=1).to_numpy(), test_df.drop(columns=train_df.columns[:-1], axis=1).to_numpy()"
   ]
  },
  {
   "cell_type": "code",
   "execution_count": 7,
   "metadata": {},
   "outputs": [],
   "source": [
    "regressor = LinearRegression()"
   ]
  },
  {
   "cell_type": "code",
   "execution_count": 8,
   "metadata": {},
   "outputs": [],
   "source": [
    "_ = regressor.fit(x_train, y_train)"
   ]
  },
  {
   "cell_type": "code",
   "execution_count": 9,
   "metadata": {},
   "outputs": [],
   "source": [
    "prediction = regressor.predict(x_test)\n",
    "test_df[\"predicao\"] = prediction * std + mean\n",
    "test_df[\"rejeicao\"] =  test_df[\"rejeicao\"] * std + mean\n",
    "summary_df = summary_df.append(test_df, ignore_index=True, sort=False)"
   ]
  },
  {
   "cell_type": "code",
   "execution_count": 10,
   "metadata": {},
   "outputs": [
    {
     "output_type": "execute_result",
     "data": {
      "text/plain": "   paredao            nome  positivos   neutros  negativos  \\\n25       1    lucas_chumbo  -0.679271 -0.460135  -0.565538   \n24       1  bianca_andrade  -0.705442 -0.663332  -0.961113   \n\n    positivos_individual_pct  neutros_individual_pct  \\\n25                 -0.782240                0.256477   \n24                  1.723825                0.640345   \n\n    negativos_individual_pct  positivos_global_pct  neutros_global_pct  \\\n25                  0.467355              1.318056            2.281350   \n24                 -1.655124              1.058495           -0.128231   \n\n    negativos_global_pct      day1      day2      day3     likes  retweets  \\\n25              2.566319  0.012876 -0.746428 -0.570033 -0.691297 -0.612588   \n24             -0.789185 -1.007059 -0.735292 -0.573523 -0.848444 -0.859990   \n\n    seguidores  rejeicao  predicao  \n25   -0.517648    0.7594  0.970997  \n24   -0.175484    0.2446 -0.133198  ",
      "text/html": "<div>\n<style scoped>\n    .dataframe tbody tr th:only-of-type {\n        vertical-align: middle;\n    }\n\n    .dataframe tbody tr th {\n        vertical-align: top;\n    }\n\n    .dataframe thead th {\n        text-align: right;\n    }\n</style>\n<table border=\"1\" class=\"dataframe\">\n  <thead>\n    <tr style=\"text-align: right;\">\n      <th></th>\n      <th>paredao</th>\n      <th>nome</th>\n      <th>positivos</th>\n      <th>neutros</th>\n      <th>negativos</th>\n      <th>positivos_individual_pct</th>\n      <th>neutros_individual_pct</th>\n      <th>negativos_individual_pct</th>\n      <th>positivos_global_pct</th>\n      <th>neutros_global_pct</th>\n      <th>negativos_global_pct</th>\n      <th>day1</th>\n      <th>day2</th>\n      <th>day3</th>\n      <th>likes</th>\n      <th>retweets</th>\n      <th>seguidores</th>\n      <th>rejeicao</th>\n      <th>predicao</th>\n    </tr>\n  </thead>\n  <tbody>\n    <tr>\n      <th>25</th>\n      <td>1</td>\n      <td>lucas_chumbo</td>\n      <td>-0.679271</td>\n      <td>-0.460135</td>\n      <td>-0.565538</td>\n      <td>-0.782240</td>\n      <td>0.256477</td>\n      <td>0.467355</td>\n      <td>1.318056</td>\n      <td>2.281350</td>\n      <td>2.566319</td>\n      <td>0.012876</td>\n      <td>-0.746428</td>\n      <td>-0.570033</td>\n      <td>-0.691297</td>\n      <td>-0.612588</td>\n      <td>-0.517648</td>\n      <td>0.7594</td>\n      <td>0.970997</td>\n    </tr>\n    <tr>\n      <th>24</th>\n      <td>1</td>\n      <td>bianca_andrade</td>\n      <td>-0.705442</td>\n      <td>-0.663332</td>\n      <td>-0.961113</td>\n      <td>1.723825</td>\n      <td>0.640345</td>\n      <td>-1.655124</td>\n      <td>1.058495</td>\n      <td>-0.128231</td>\n      <td>-0.789185</td>\n      <td>-1.007059</td>\n      <td>-0.735292</td>\n      <td>-0.573523</td>\n      <td>-0.848444</td>\n      <td>-0.859990</td>\n      <td>-0.175484</td>\n      <td>0.2446</td>\n      <td>-0.133198</td>\n    </tr>\n  </tbody>\n</table>\n</div>"
     },
     "metadata": {},
     "execution_count": 10
    }
   ],
   "source": [
    "test_df.sort_values(by=\"predicao\", ascending=False)"
   ]
  },
  {
   "cell_type": "markdown",
   "metadata": {},
   "source": [
    "# Paredao 2"
   ]
  },
  {
   "cell_type": "code",
   "execution_count": 11,
   "metadata": {},
   "outputs": [
    {
     "output_type": "execute_result",
     "data": {
      "text/plain": "   paredao    nome  positivos   neutros  negativos  positivos_individual_pct  \\\n20       2    babu  -0.799234 -0.669940  -0.958884                  0.892099   \n21       2  petrix   0.226486  0.654602   1.223926                 -1.210657   \n22       2   pyong   0.379784 -0.297606  -0.621407                  2.441537   \n23       2  hadson  -0.001452  0.271499   0.907140                 -1.193210   \n\n    neutros_individual_pct  negativos_individual_pct  positivos_global_pct  \\\n20                1.180505                 -1.296911             -2.121605   \n21                0.002306                  0.927980             -0.214771   \n22               -0.450094                 -1.640448              0.070214   \n23               -0.600541                  1.227235             -0.638512   \n\n    neutros_global_pct  negativos_global_pct      day1      day2      day3  \\\n20           -2.013518             -1.810492 -1.021715 -0.732154 -0.642993   \n21            0.708790              0.712508  1.455623  0.900622 -0.141164   \n22           -1.248267             -1.420419 -0.604272 -0.100998 -0.328798   \n23           -0.078595              0.346351  0.163906  1.003977 -0.383599   \n\n       likes  retweets  seguidores  rejeicao  \n20 -0.905385 -0.860619   -0.249532 -1.170120  \n21  0.741667  1.508356   -0.508748  1.572691  \n22  0.047521  0.126919    0.696605 -1.162561  \n23  0.366731  0.871754   -0.519194 -0.545145  ",
      "text/html": "<div>\n<style scoped>\n    .dataframe tbody tr th:only-of-type {\n        vertical-align: middle;\n    }\n\n    .dataframe tbody tr th {\n        vertical-align: top;\n    }\n\n    .dataframe thead th {\n        text-align: right;\n    }\n</style>\n<table border=\"1\" class=\"dataframe\">\n  <thead>\n    <tr style=\"text-align: right;\">\n      <th></th>\n      <th>paredao</th>\n      <th>nome</th>\n      <th>positivos</th>\n      <th>neutros</th>\n      <th>negativos</th>\n      <th>positivos_individual_pct</th>\n      <th>neutros_individual_pct</th>\n      <th>negativos_individual_pct</th>\n      <th>positivos_global_pct</th>\n      <th>neutros_global_pct</th>\n      <th>negativos_global_pct</th>\n      <th>day1</th>\n      <th>day2</th>\n      <th>day3</th>\n      <th>likes</th>\n      <th>retweets</th>\n      <th>seguidores</th>\n      <th>rejeicao</th>\n    </tr>\n  </thead>\n  <tbody>\n    <tr>\n      <th>20</th>\n      <td>2</td>\n      <td>babu</td>\n      <td>-0.799234</td>\n      <td>-0.669940</td>\n      <td>-0.958884</td>\n      <td>0.892099</td>\n      <td>1.180505</td>\n      <td>-1.296911</td>\n      <td>-2.121605</td>\n      <td>-2.013518</td>\n      <td>-1.810492</td>\n      <td>-1.021715</td>\n      <td>-0.732154</td>\n      <td>-0.642993</td>\n      <td>-0.905385</td>\n      <td>-0.860619</td>\n      <td>-0.249532</td>\n      <td>-1.170120</td>\n    </tr>\n    <tr>\n      <th>21</th>\n      <td>2</td>\n      <td>petrix</td>\n      <td>0.226486</td>\n      <td>0.654602</td>\n      <td>1.223926</td>\n      <td>-1.210657</td>\n      <td>0.002306</td>\n      <td>0.927980</td>\n      <td>-0.214771</td>\n      <td>0.708790</td>\n      <td>0.712508</td>\n      <td>1.455623</td>\n      <td>0.900622</td>\n      <td>-0.141164</td>\n      <td>0.741667</td>\n      <td>1.508356</td>\n      <td>-0.508748</td>\n      <td>1.572691</td>\n    </tr>\n    <tr>\n      <th>22</th>\n      <td>2</td>\n      <td>pyong</td>\n      <td>0.379784</td>\n      <td>-0.297606</td>\n      <td>-0.621407</td>\n      <td>2.441537</td>\n      <td>-0.450094</td>\n      <td>-1.640448</td>\n      <td>0.070214</td>\n      <td>-1.248267</td>\n      <td>-1.420419</td>\n      <td>-0.604272</td>\n      <td>-0.100998</td>\n      <td>-0.328798</td>\n      <td>0.047521</td>\n      <td>0.126919</td>\n      <td>0.696605</td>\n      <td>-1.162561</td>\n    </tr>\n    <tr>\n      <th>23</th>\n      <td>2</td>\n      <td>hadson</td>\n      <td>-0.001452</td>\n      <td>0.271499</td>\n      <td>0.907140</td>\n      <td>-1.193210</td>\n      <td>-0.600541</td>\n      <td>1.227235</td>\n      <td>-0.638512</td>\n      <td>-0.078595</td>\n      <td>0.346351</td>\n      <td>0.163906</td>\n      <td>1.003977</td>\n      <td>-0.383599</td>\n      <td>0.366731</td>\n      <td>0.871754</td>\n      <td>-0.519194</td>\n      <td>-0.545145</td>\n    </tr>\n  </tbody>\n</table>\n</div>"
     },
     "metadata": {},
     "execution_count": 11
    }
   ],
   "source": [
    "train_df, test_df, mean, std = get_train_test(2, normalize=NORMALIZE)\n",
    "test_df\n",
    ""
   ]
  },
  {
   "cell_type": "code",
   "execution_count": 12,
   "metadata": {},
   "outputs": [],
   "source": [
    "x_train, y_train = train_df.drop(columns=[\"paredao\", \"nome\", \"rejeicao\"], axis=1).to_numpy(), train_df.drop(columns=train_df.columns[:-1], axis=1).to_numpy()\n",
    "x_test, y_test = test_df.drop(columns=[\"paredao\", \"nome\", \"rejeicao\"], axis=1).to_numpy(), test_df.drop(columns=train_df.columns[:-1], axis=1).to_numpy()"
   ]
  },
  {
   "cell_type": "code",
   "execution_count": 13,
   "metadata": {},
   "outputs": [],
   "source": [
    "regressor = LinearRegression()"
   ]
  },
  {
   "cell_type": "code",
   "execution_count": 14,
   "metadata": {},
   "outputs": [],
   "source": [
    "_ = regressor.fit(x_train, y_train)\n",
    ""
   ]
  },
  {
   "cell_type": "code",
   "execution_count": 15,
   "metadata": {},
   "outputs": [],
   "source": [
    "prediction = regressor.predict(x_test)\n",
    "test_df[\"predicao\"] = prediction * std + mean\n",
    "test_df[\"rejeicao\"] =  test_df[\"rejeicao\"] * std + mean\n",
    "summary_df = summary_df.append(test_df, ignore_index=True, sort=False)"
   ]
  },
  {
   "cell_type": "code",
   "execution_count": 16,
   "metadata": {},
   "outputs": [
    {
     "output_type": "execute_result",
     "data": {
      "text/plain": "   paredao    nome  positivos   neutros  negativos  positivos_individual_pct  \\\n21       2  petrix   0.226486  0.654602   1.223926                 -1.210657   \n20       2    babu  -0.799234 -0.669940  -0.958884                  0.892099   \n22       2   pyong   0.379784 -0.297606  -0.621407                  2.441537   \n23       2  hadson  -0.001452  0.271499   0.907140                 -1.193210   \n\n    neutros_individual_pct  negativos_individual_pct  positivos_global_pct  \\\n21                0.002306                  0.927980             -0.214771   \n20                1.180505                 -1.296911             -2.121605   \n22               -0.450094                 -1.640448              0.070214   \n23               -0.600541                  1.227235             -0.638512   \n\n    neutros_global_pct  negativos_global_pct      day1      day2      day3  \\\n21            0.708790              0.712508  1.455623  0.900622 -0.141164   \n20           -2.013518             -1.810492 -1.021715 -0.732154 -0.642993   \n22           -1.248267             -1.420419 -0.604272 -0.100998 -0.328798   \n23           -0.078595              0.346351  0.163906  1.003977 -0.383599   \n\n       likes  retweets  seguidores  rejeicao  predicao  \n21  0.741667  1.508356   -0.508748    0.8027  0.133972  \n20 -0.905385 -0.860619   -0.249532    0.0044  0.051615  \n22  0.047521  0.126919    0.696605    0.0066 -0.324285  \n23  0.366731  0.871754   -0.519194    0.1863 -0.393521  ",
      "text/html": "<div>\n<style scoped>\n    .dataframe tbody tr th:only-of-type {\n        vertical-align: middle;\n    }\n\n    .dataframe tbody tr th {\n        vertical-align: top;\n    }\n\n    .dataframe thead th {\n        text-align: right;\n    }\n</style>\n<table border=\"1\" class=\"dataframe\">\n  <thead>\n    <tr style=\"text-align: right;\">\n      <th></th>\n      <th>paredao</th>\n      <th>nome</th>\n      <th>positivos</th>\n      <th>neutros</th>\n      <th>negativos</th>\n      <th>positivos_individual_pct</th>\n      <th>neutros_individual_pct</th>\n      <th>negativos_individual_pct</th>\n      <th>positivos_global_pct</th>\n      <th>neutros_global_pct</th>\n      <th>negativos_global_pct</th>\n      <th>day1</th>\n      <th>day2</th>\n      <th>day3</th>\n      <th>likes</th>\n      <th>retweets</th>\n      <th>seguidores</th>\n      <th>rejeicao</th>\n      <th>predicao</th>\n    </tr>\n  </thead>\n  <tbody>\n    <tr>\n      <th>21</th>\n      <td>2</td>\n      <td>petrix</td>\n      <td>0.226486</td>\n      <td>0.654602</td>\n      <td>1.223926</td>\n      <td>-1.210657</td>\n      <td>0.002306</td>\n      <td>0.927980</td>\n      <td>-0.214771</td>\n      <td>0.708790</td>\n      <td>0.712508</td>\n      <td>1.455623</td>\n      <td>0.900622</td>\n      <td>-0.141164</td>\n      <td>0.741667</td>\n      <td>1.508356</td>\n      <td>-0.508748</td>\n      <td>0.8027</td>\n      <td>0.133972</td>\n    </tr>\n    <tr>\n      <th>20</th>\n      <td>2</td>\n      <td>babu</td>\n      <td>-0.799234</td>\n      <td>-0.669940</td>\n      <td>-0.958884</td>\n      <td>0.892099</td>\n      <td>1.180505</td>\n      <td>-1.296911</td>\n      <td>-2.121605</td>\n      <td>-2.013518</td>\n      <td>-1.810492</td>\n      <td>-1.021715</td>\n      <td>-0.732154</td>\n      <td>-0.642993</td>\n      <td>-0.905385</td>\n      <td>-0.860619</td>\n      <td>-0.249532</td>\n      <td>0.0044</td>\n      <td>0.051615</td>\n    </tr>\n    <tr>\n      <th>22</th>\n      <td>2</td>\n      <td>pyong</td>\n      <td>0.379784</td>\n      <td>-0.297606</td>\n      <td>-0.621407</td>\n      <td>2.441537</td>\n      <td>-0.450094</td>\n      <td>-1.640448</td>\n      <td>0.070214</td>\n      <td>-1.248267</td>\n      <td>-1.420419</td>\n      <td>-0.604272</td>\n      <td>-0.100998</td>\n      <td>-0.328798</td>\n      <td>0.047521</td>\n      <td>0.126919</td>\n      <td>0.696605</td>\n      <td>0.0066</td>\n      <td>-0.324285</td>\n    </tr>\n    <tr>\n      <th>23</th>\n      <td>2</td>\n      <td>hadson</td>\n      <td>-0.001452</td>\n      <td>0.271499</td>\n      <td>0.907140</td>\n      <td>-1.193210</td>\n      <td>-0.600541</td>\n      <td>1.227235</td>\n      <td>-0.638512</td>\n      <td>-0.078595</td>\n      <td>0.346351</td>\n      <td>0.163906</td>\n      <td>1.003977</td>\n      <td>-0.383599</td>\n      <td>0.366731</td>\n      <td>0.871754</td>\n      <td>-0.519194</td>\n      <td>0.1863</td>\n      <td>-0.393521</td>\n    </tr>\n  </tbody>\n</table>\n</div>"
     },
     "metadata": {},
     "execution_count": 16
    }
   ],
   "source": [
    "test_df.sort_values(by=\"predicao\", ascending=False)"
   ]
  },
  {
   "cell_type": "markdown",
   "metadata": {},
   "source": [
    "# Paredao 3"
   ]
  },
  {
   "cell_type": "code",
   "execution_count": 17,
   "metadata": {},
   "outputs": [
    {
     "output_type": "execute_result",
     "data": {
      "text/plain": "   paredao          nome  positivos   neutros  negativos  \\\n9        3  felipe_prior  -0.871972 -0.718932  -0.970325   \n10       3        hadson  -0.907062 -0.674357  -0.952755   \n\n    positivos_individual_pct  neutros_individual_pct  \\\n9                   0.622215                0.599206   \n10                 -0.371537                1.983351   \n\n    negativos_individual_pct  positivos_global_pct  neutros_global_pct  \\\n9                  -0.788305              1.543900            0.586051   \n10                 -0.743440              0.832651            1.567068   \n\n    negativos_global_pct      day1      day2      day3     likes  retweets  \\\n9               0.708021 -1.291205 -0.719575 -0.568288 -0.832181 -0.781915   \n10              1.069113 -1.245064 -0.717770 -0.547349 -0.959392 -0.913947   \n\n    seguidores  rejeicao  \n9    -0.353340 -0.488111  \n10   -0.519194  1.553450  ",
      "text/html": "<div>\n<style scoped>\n    .dataframe tbody tr th:only-of-type {\n        vertical-align: middle;\n    }\n\n    .dataframe tbody tr th {\n        vertical-align: top;\n    }\n\n    .dataframe thead th {\n        text-align: right;\n    }\n</style>\n<table border=\"1\" class=\"dataframe\">\n  <thead>\n    <tr style=\"text-align: right;\">\n      <th></th>\n      <th>paredao</th>\n      <th>nome</th>\n      <th>positivos</th>\n      <th>neutros</th>\n      <th>negativos</th>\n      <th>positivos_individual_pct</th>\n      <th>neutros_individual_pct</th>\n      <th>negativos_individual_pct</th>\n      <th>positivos_global_pct</th>\n      <th>neutros_global_pct</th>\n      <th>negativos_global_pct</th>\n      <th>day1</th>\n      <th>day2</th>\n      <th>day3</th>\n      <th>likes</th>\n      <th>retweets</th>\n      <th>seguidores</th>\n      <th>rejeicao</th>\n    </tr>\n  </thead>\n  <tbody>\n    <tr>\n      <th>9</th>\n      <td>3</td>\n      <td>felipe_prior</td>\n      <td>-0.871972</td>\n      <td>-0.718932</td>\n      <td>-0.970325</td>\n      <td>0.622215</td>\n      <td>0.599206</td>\n      <td>-0.788305</td>\n      <td>1.543900</td>\n      <td>0.586051</td>\n      <td>0.708021</td>\n      <td>-1.291205</td>\n      <td>-0.719575</td>\n      <td>-0.568288</td>\n      <td>-0.832181</td>\n      <td>-0.781915</td>\n      <td>-0.353340</td>\n      <td>-0.488111</td>\n    </tr>\n    <tr>\n      <th>10</th>\n      <td>3</td>\n      <td>hadson</td>\n      <td>-0.907062</td>\n      <td>-0.674357</td>\n      <td>-0.952755</td>\n      <td>-0.371537</td>\n      <td>1.983351</td>\n      <td>-0.743440</td>\n      <td>0.832651</td>\n      <td>1.567068</td>\n      <td>1.069113</td>\n      <td>-1.245064</td>\n      <td>-0.717770</td>\n      <td>-0.547349</td>\n      <td>-0.959392</td>\n      <td>-0.913947</td>\n      <td>-0.519194</td>\n      <td>1.553450</td>\n    </tr>\n  </tbody>\n</table>\n</div>"
     },
     "metadata": {},
     "execution_count": 17
    }
   ],
   "source": [
    "train_df, test_df, mean, std = get_train_test(3, normalize=NORMALIZE)\n",
    "test_df\n",
    ""
   ]
  },
  {
   "cell_type": "code",
   "execution_count": 18,
   "metadata": {},
   "outputs": [],
   "source": [
    "x_train, y_train = train_df.drop(columns=[\"paredao\", \"nome\", \"rejeicao\"], axis=1).to_numpy(), train_df.drop(columns=train_df.columns[:-1], axis=1).to_numpy()\n",
    "x_test, y_test = test_df.drop(columns=[\"paredao\", \"nome\", \"rejeicao\"], axis=1).to_numpy(), test_df.drop(columns=train_df.columns[:-1], axis=1).to_numpy()"
   ]
  },
  {
   "cell_type": "code",
   "execution_count": 19,
   "metadata": {},
   "outputs": [],
   "source": [
    "regressor = LinearRegression()"
   ]
  },
  {
   "cell_type": "code",
   "execution_count": 20,
   "metadata": {},
   "outputs": [],
   "source": [
    "_ = regressor.fit(x_train, y_train)"
   ]
  },
  {
   "cell_type": "code",
   "execution_count": 21,
   "metadata": {},
   "outputs": [],
   "source": [
    "prediction = regressor.predict(x_test)\n",
    "test_df[\"predicao\"] = prediction * std + mean\n",
    "test_df[\"rejeicao\"] =  test_df[\"rejeicao\"] * std + mean\n",
    "summary_df = summary_df.append(test_df, ignore_index=True, sort=False)"
   ]
  },
  {
   "cell_type": "code",
   "execution_count": 22,
   "metadata": {},
   "outputs": [
    {
     "output_type": "execute_result",
     "data": {
      "text/plain": "   paredao          nome  positivos   neutros  negativos  \\\n10       3        hadson  -0.907062 -0.674357  -0.952755   \n9        3  felipe_prior  -0.871972 -0.718932  -0.970325   \n\n    positivos_individual_pct  neutros_individual_pct  \\\n10                 -0.371537                1.983351   \n9                   0.622215                0.599206   \n\n    negativos_individual_pct  positivos_global_pct  neutros_global_pct  \\\n10                 -0.743440              0.832651            1.567068   \n9                  -0.788305              1.543900            0.586051   \n\n    negativos_global_pct      day1      day2      day3     likes  retweets  \\\n10              1.069113 -1.245064 -0.717770 -0.547349 -0.959392 -0.913947   \n9               0.708021 -1.291205 -0.719575 -0.568288 -0.832181 -0.781915   \n\n    seguidores  rejeicao  predicao  \n10   -0.519194    0.7971  0.921535  \n9    -0.353340    0.2029  0.248420  ",
      "text/html": "<div>\n<style scoped>\n    .dataframe tbody tr th:only-of-type {\n        vertical-align: middle;\n    }\n\n    .dataframe tbody tr th {\n        vertical-align: top;\n    }\n\n    .dataframe thead th {\n        text-align: right;\n    }\n</style>\n<table border=\"1\" class=\"dataframe\">\n  <thead>\n    <tr style=\"text-align: right;\">\n      <th></th>\n      <th>paredao</th>\n      <th>nome</th>\n      <th>positivos</th>\n      <th>neutros</th>\n      <th>negativos</th>\n      <th>positivos_individual_pct</th>\n      <th>neutros_individual_pct</th>\n      <th>negativos_individual_pct</th>\n      <th>positivos_global_pct</th>\n      <th>neutros_global_pct</th>\n      <th>negativos_global_pct</th>\n      <th>day1</th>\n      <th>day2</th>\n      <th>day3</th>\n      <th>likes</th>\n      <th>retweets</th>\n      <th>seguidores</th>\n      <th>rejeicao</th>\n      <th>predicao</th>\n    </tr>\n  </thead>\n  <tbody>\n    <tr>\n      <th>10</th>\n      <td>3</td>\n      <td>hadson</td>\n      <td>-0.907062</td>\n      <td>-0.674357</td>\n      <td>-0.952755</td>\n      <td>-0.371537</td>\n      <td>1.983351</td>\n      <td>-0.743440</td>\n      <td>0.832651</td>\n      <td>1.567068</td>\n      <td>1.069113</td>\n      <td>-1.245064</td>\n      <td>-0.717770</td>\n      <td>-0.547349</td>\n      <td>-0.959392</td>\n      <td>-0.913947</td>\n      <td>-0.519194</td>\n      <td>0.7971</td>\n      <td>0.921535</td>\n    </tr>\n    <tr>\n      <th>9</th>\n      <td>3</td>\n      <td>felipe_prior</td>\n      <td>-0.871972</td>\n      <td>-0.718932</td>\n      <td>-0.970325</td>\n      <td>0.622215</td>\n      <td>0.599206</td>\n      <td>-0.788305</td>\n      <td>1.543900</td>\n      <td>0.586051</td>\n      <td>0.708021</td>\n      <td>-1.291205</td>\n      <td>-0.719575</td>\n      <td>-0.568288</td>\n      <td>-0.832181</td>\n      <td>-0.781915</td>\n      <td>-0.353340</td>\n      <td>0.2029</td>\n      <td>0.248420</td>\n    </tr>\n  </tbody>\n</table>\n</div>"
     },
     "metadata": {},
     "execution_count": 22
    }
   ],
   "source": [
    "test_df.sort_values(by=\"predicao\", ascending=False)"
   ]
  },
  {
   "cell_type": "markdown",
   "metadata": {},
   "source": [
    "# Paredao 4"
   ]
  },
  {
   "cell_type": "code",
   "execution_count": 23,
   "metadata": {},
   "outputs": [
    {
     "output_type": "execute_result",
     "data": {
      "text/plain": "   paredao         nome  positivos   neutros  negativos  \\\n26       4         babu  -0.583797 -0.459478  -0.402539   \n27       4  victor_hugo  -0.873215 -0.687792  -0.915905   \n28       4        lucas  -0.188525 -0.198454   0.070115   \n\n    positivos_individual_pct  neutros_individual_pct  \\\n26                 -0.674006               -0.847942   \n27                 -0.110353                0.605477   \n28                 -0.518227               -0.967290   \n\n    negativos_individual_pct  positivos_global_pct  neutros_global_pct  \\\n26                  0.957053             -0.257990           -0.141899   \n27                 -0.229313             -1.652137           -1.443392   \n28                  0.899388              1.646066            1.346056   \n\n    negativos_global_pct      day1      day2      day3     likes  retweets  \\\n26             -0.027990 -0.257820 -0.468657 -0.559291 -0.723406 -0.763226   \n27             -1.459027 -0.946985 -0.781777 -0.631869 -0.938008 -0.907206   \n28              1.289557  0.583702 -0.284022 -0.304096 -0.286464 -0.223995   \n\n    seguidores  rejeicao  \n26   -0.249532 -1.140572  \n27   -0.515607  0.054404  \n28   -0.507674  0.966269  ",
      "text/html": "<div>\n<style scoped>\n    .dataframe tbody tr th:only-of-type {\n        vertical-align: middle;\n    }\n\n    .dataframe tbody tr th {\n        vertical-align: top;\n    }\n\n    .dataframe thead th {\n        text-align: right;\n    }\n</style>\n<table border=\"1\" class=\"dataframe\">\n  <thead>\n    <tr style=\"text-align: right;\">\n      <th></th>\n      <th>paredao</th>\n      <th>nome</th>\n      <th>positivos</th>\n      <th>neutros</th>\n      <th>negativos</th>\n      <th>positivos_individual_pct</th>\n      <th>neutros_individual_pct</th>\n      <th>negativos_individual_pct</th>\n      <th>positivos_global_pct</th>\n      <th>neutros_global_pct</th>\n      <th>negativos_global_pct</th>\n      <th>day1</th>\n      <th>day2</th>\n      <th>day3</th>\n      <th>likes</th>\n      <th>retweets</th>\n      <th>seguidores</th>\n      <th>rejeicao</th>\n    </tr>\n  </thead>\n  <tbody>\n    <tr>\n      <th>26</th>\n      <td>4</td>\n      <td>babu</td>\n      <td>-0.583797</td>\n      <td>-0.459478</td>\n      <td>-0.402539</td>\n      <td>-0.674006</td>\n      <td>-0.847942</td>\n      <td>0.957053</td>\n      <td>-0.257990</td>\n      <td>-0.141899</td>\n      <td>-0.027990</td>\n      <td>-0.257820</td>\n      <td>-0.468657</td>\n      <td>-0.559291</td>\n      <td>-0.723406</td>\n      <td>-0.763226</td>\n      <td>-0.249532</td>\n      <td>-1.140572</td>\n    </tr>\n    <tr>\n      <th>27</th>\n      <td>4</td>\n      <td>victor_hugo</td>\n      <td>-0.873215</td>\n      <td>-0.687792</td>\n      <td>-0.915905</td>\n      <td>-0.110353</td>\n      <td>0.605477</td>\n      <td>-0.229313</td>\n      <td>-1.652137</td>\n      <td>-1.443392</td>\n      <td>-1.459027</td>\n      <td>-0.946985</td>\n      <td>-0.781777</td>\n      <td>-0.631869</td>\n      <td>-0.938008</td>\n      <td>-0.907206</td>\n      <td>-0.515607</td>\n      <td>0.054404</td>\n    </tr>\n    <tr>\n      <th>28</th>\n      <td>4</td>\n      <td>lucas</td>\n      <td>-0.188525</td>\n      <td>-0.198454</td>\n      <td>0.070115</td>\n      <td>-0.518227</td>\n      <td>-0.967290</td>\n      <td>0.899388</td>\n      <td>1.646066</td>\n      <td>1.346056</td>\n      <td>1.289557</td>\n      <td>0.583702</td>\n      <td>-0.284022</td>\n      <td>-0.304096</td>\n      <td>-0.286464</td>\n      <td>-0.223995</td>\n      <td>-0.507674</td>\n      <td>0.966269</td>\n    </tr>\n  </tbody>\n</table>\n</div>"
     },
     "metadata": {},
     "execution_count": 23
    }
   ],
   "source": [
    "train_df, test_df, mean, std = get_train_test(4, normalize=NORMALIZE)\n",
    "test_df\n",
    ""
   ]
  },
  {
   "cell_type": "code",
   "execution_count": 24,
   "metadata": {},
   "outputs": [],
   "source": [
    "x_train, y_train = train_df.drop(columns=[\"paredao\", \"nome\", \"rejeicao\"], axis=1).to_numpy(), train_df.drop(columns=train_df.columns[:-1], axis=1).to_numpy()\n",
    "x_test, y_test = test_df.drop(columns=[\"paredao\", \"nome\", \"rejeicao\"], axis=1).to_numpy(), test_df.drop(columns=train_df.columns[:-1], axis=1).to_numpy()"
   ]
  },
  {
   "cell_type": "code",
   "execution_count": 25,
   "metadata": {},
   "outputs": [],
   "source": [
    "regressor = LinearRegression()"
   ]
  },
  {
   "cell_type": "code",
   "execution_count": 26,
   "metadata": {},
   "outputs": [],
   "source": [
    "_ = regressor.fit(x_train, y_train)\n",
    ""
   ]
  },
  {
   "cell_type": "code",
   "execution_count": 27,
   "metadata": {},
   "outputs": [],
   "source": [
    "prediction = regressor.predict(x_test)\n",
    "test_df[\"predicao\"] = prediction * std + mean\n",
    "test_df[\"rejeicao\"] =  test_df[\"rejeicao\"] * std + mean\n",
    "summary_df = summary_df.append(test_df, ignore_index=True, sort=False)"
   ]
  },
  {
   "cell_type": "code",
   "execution_count": 28,
   "metadata": {},
   "outputs": [
    {
     "output_type": "execute_result",
     "data": {
      "text/plain": "   paredao         nome  positivos   neutros  negativos  \\\n28       4        lucas  -0.188525 -0.198454   0.070115   \n27       4  victor_hugo  -0.873215 -0.687792  -0.915905   \n26       4         babu  -0.583797 -0.459478  -0.402539   \n\n    positivos_individual_pct  neutros_individual_pct  \\\n28                 -0.518227               -0.967290   \n27                 -0.110353                0.605477   \n26                 -0.674006               -0.847942   \n\n    negativos_individual_pct  positivos_global_pct  neutros_global_pct  \\\n28                  0.899388              1.646066            1.346056   \n27                 -0.229313             -1.652137           -1.443392   \n26                  0.957053             -0.257990           -0.141899   \n\n    negativos_global_pct      day1      day2      day3     likes  retweets  \\\n28              1.289557  0.583702 -0.284022 -0.304096 -0.286464 -0.223995   \n27             -1.459027 -0.946985 -0.781777 -0.631869 -0.938008 -0.907206   \n26             -0.027990 -0.257820 -0.468657 -0.559291 -0.723406 -0.763226   \n\n    seguidores  rejeicao  predicao  \n28   -0.507674    0.6262  0.421043  \n27   -0.515607    0.3608  0.259399  \n26   -0.249532    0.0130  0.240815  ",
      "text/html": "<div>\n<style scoped>\n    .dataframe tbody tr th:only-of-type {\n        vertical-align: middle;\n    }\n\n    .dataframe tbody tr th {\n        vertical-align: top;\n    }\n\n    .dataframe thead th {\n        text-align: right;\n    }\n</style>\n<table border=\"1\" class=\"dataframe\">\n  <thead>\n    <tr style=\"text-align: right;\">\n      <th></th>\n      <th>paredao</th>\n      <th>nome</th>\n      <th>positivos</th>\n      <th>neutros</th>\n      <th>negativos</th>\n      <th>positivos_individual_pct</th>\n      <th>neutros_individual_pct</th>\n      <th>negativos_individual_pct</th>\n      <th>positivos_global_pct</th>\n      <th>neutros_global_pct</th>\n      <th>negativos_global_pct</th>\n      <th>day1</th>\n      <th>day2</th>\n      <th>day3</th>\n      <th>likes</th>\n      <th>retweets</th>\n      <th>seguidores</th>\n      <th>rejeicao</th>\n      <th>predicao</th>\n    </tr>\n  </thead>\n  <tbody>\n    <tr>\n      <th>28</th>\n      <td>4</td>\n      <td>lucas</td>\n      <td>-0.188525</td>\n      <td>-0.198454</td>\n      <td>0.070115</td>\n      <td>-0.518227</td>\n      <td>-0.967290</td>\n      <td>0.899388</td>\n      <td>1.646066</td>\n      <td>1.346056</td>\n      <td>1.289557</td>\n      <td>0.583702</td>\n      <td>-0.284022</td>\n      <td>-0.304096</td>\n      <td>-0.286464</td>\n      <td>-0.223995</td>\n      <td>-0.507674</td>\n      <td>0.6262</td>\n      <td>0.421043</td>\n    </tr>\n    <tr>\n      <th>27</th>\n      <td>4</td>\n      <td>victor_hugo</td>\n      <td>-0.873215</td>\n      <td>-0.687792</td>\n      <td>-0.915905</td>\n      <td>-0.110353</td>\n      <td>0.605477</td>\n      <td>-0.229313</td>\n      <td>-1.652137</td>\n      <td>-1.443392</td>\n      <td>-1.459027</td>\n      <td>-0.946985</td>\n      <td>-0.781777</td>\n      <td>-0.631869</td>\n      <td>-0.938008</td>\n      <td>-0.907206</td>\n      <td>-0.515607</td>\n      <td>0.3608</td>\n      <td>0.259399</td>\n    </tr>\n    <tr>\n      <th>26</th>\n      <td>4</td>\n      <td>babu</td>\n      <td>-0.583797</td>\n      <td>-0.459478</td>\n      <td>-0.402539</td>\n      <td>-0.674006</td>\n      <td>-0.847942</td>\n      <td>0.957053</td>\n      <td>-0.257990</td>\n      <td>-0.141899</td>\n      <td>-0.027990</td>\n      <td>-0.257820</td>\n      <td>-0.468657</td>\n      <td>-0.559291</td>\n      <td>-0.723406</td>\n      <td>-0.763226</td>\n      <td>-0.249532</td>\n      <td>0.0130</td>\n      <td>0.240815</td>\n    </tr>\n  </tbody>\n</table>\n</div>"
     },
     "metadata": {},
     "execution_count": 28
    }
   ],
   "source": [
    "test_df.sort_values(by=\"predicao\", ascending=False)"
   ]
  },
  {
   "cell_type": "markdown",
   "metadata": {},
   "source": [
    "# Paredao 5"
   ]
  },
  {
   "cell_type": "code",
   "execution_count": 29,
   "metadata": {},
   "outputs": [
    {
     "output_type": "execute_result",
     "data": {
      "text/plain": "  paredao            nome  positivos   neutros  negativos  \\\n3       5  bianca_andrade  -0.768530 -0.559762  -0.848187   \n4       5       flayslene  -0.909986 -0.702029  -0.869732   \n5       5    felipe_prior  -0.721159 -0.509200  -0.392249   \n\n   positivos_individual_pct  neutros_individual_pct  negativos_individual_pct  \\\n3                 -0.185510                1.670553                 -0.723994   \n4                 -0.735473               -0.219113                  0.678109   \n5                 -1.215318               -1.138106                  1.522992   \n\n   positivos_global_pct  neutros_global_pct  negativos_global_pct      day1  \\\n3              0.199397            0.188099             -0.761184 -1.239334   \n4             -1.096998           -1.058464             -0.864650 -1.243134   \n5              0.633539            0.631130              1.428375 -1.172806   \n\n       day2      day3     likes  retweets  seguidores  rejeicao  \n3 -0.614915 -0.326507 -1.012357 -0.988608   -0.175484  0.638836  \n4 -0.679283 -0.546313 -0.947544 -0.909884   -0.438818 -0.579160  \n5 -0.298406 -0.228028 -0.669565 -0.596639   -0.353340 -0.179575  ",
      "text/html": "<div>\n<style scoped>\n    .dataframe tbody tr th:only-of-type {\n        vertical-align: middle;\n    }\n\n    .dataframe tbody tr th {\n        vertical-align: top;\n    }\n\n    .dataframe thead th {\n        text-align: right;\n    }\n</style>\n<table border=\"1\" class=\"dataframe\">\n  <thead>\n    <tr style=\"text-align: right;\">\n      <th></th>\n      <th>paredao</th>\n      <th>nome</th>\n      <th>positivos</th>\n      <th>neutros</th>\n      <th>negativos</th>\n      <th>positivos_individual_pct</th>\n      <th>neutros_individual_pct</th>\n      <th>negativos_individual_pct</th>\n      <th>positivos_global_pct</th>\n      <th>neutros_global_pct</th>\n      <th>negativos_global_pct</th>\n      <th>day1</th>\n      <th>day2</th>\n      <th>day3</th>\n      <th>likes</th>\n      <th>retweets</th>\n      <th>seguidores</th>\n      <th>rejeicao</th>\n    </tr>\n  </thead>\n  <tbody>\n    <tr>\n      <th>3</th>\n      <td>5</td>\n      <td>bianca_andrade</td>\n      <td>-0.768530</td>\n      <td>-0.559762</td>\n      <td>-0.848187</td>\n      <td>-0.185510</td>\n      <td>1.670553</td>\n      <td>-0.723994</td>\n      <td>0.199397</td>\n      <td>0.188099</td>\n      <td>-0.761184</td>\n      <td>-1.239334</td>\n      <td>-0.614915</td>\n      <td>-0.326507</td>\n      <td>-1.012357</td>\n      <td>-0.988608</td>\n      <td>-0.175484</td>\n      <td>0.638836</td>\n    </tr>\n    <tr>\n      <th>4</th>\n      <td>5</td>\n      <td>flayslene</td>\n      <td>-0.909986</td>\n      <td>-0.702029</td>\n      <td>-0.869732</td>\n      <td>-0.735473</td>\n      <td>-0.219113</td>\n      <td>0.678109</td>\n      <td>-1.096998</td>\n      <td>-1.058464</td>\n      <td>-0.864650</td>\n      <td>-1.243134</td>\n      <td>-0.679283</td>\n      <td>-0.546313</td>\n      <td>-0.947544</td>\n      <td>-0.909884</td>\n      <td>-0.438818</td>\n      <td>-0.579160</td>\n    </tr>\n    <tr>\n      <th>5</th>\n      <td>5</td>\n      <td>felipe_prior</td>\n      <td>-0.721159</td>\n      <td>-0.509200</td>\n      <td>-0.392249</td>\n      <td>-1.215318</td>\n      <td>-1.138106</td>\n      <td>1.522992</td>\n      <td>0.633539</td>\n      <td>0.631130</td>\n      <td>1.428375</td>\n      <td>-1.172806</td>\n      <td>-0.298406</td>\n      <td>-0.228028</td>\n      <td>-0.669565</td>\n      <td>-0.596639</td>\n      <td>-0.353340</td>\n      <td>-0.179575</td>\n    </tr>\n  </tbody>\n</table>\n</div>"
     },
     "metadata": {},
     "execution_count": 29
    }
   ],
   "source": [
    "train_df, test_df, mean, std = get_train_test(5, normalize=NORMALIZE)\n",
    "test_df\n",
    ""
   ]
  },
  {
   "cell_type": "code",
   "execution_count": 30,
   "metadata": {},
   "outputs": [],
   "source": [
    "x_train, y_train = train_df.drop(columns=[\"paredao\", \"nome\", \"rejeicao\"], axis=1).to_numpy(), train_df.drop(columns=train_df.columns[:-1], axis=1).to_numpy()\n",
    "x_test, y_test = test_df.drop(columns=[\"paredao\", \"nome\", \"rejeicao\"], axis=1).to_numpy(), test_df.drop(columns=train_df.columns[:-1], axis=1).to_numpy()"
   ]
  },
  {
   "cell_type": "code",
   "execution_count": 31,
   "metadata": {},
   "outputs": [],
   "source": [
    "regressor = LinearRegression()"
   ]
  },
  {
   "cell_type": "code",
   "execution_count": 32,
   "metadata": {},
   "outputs": [],
   "source": [
    "_ = regressor.fit(x_train, y_train)\n",
    ""
   ]
  },
  {
   "cell_type": "code",
   "execution_count": 33,
   "metadata": {},
   "outputs": [],
   "source": [
    "prediction = regressor.predict(x_test)\n",
    "test_df[\"predicao\"] = prediction * std + mean\n",
    "test_df[\"rejeicao\"] =  test_df[\"rejeicao\"] * std + mean\n",
    "summary_df = summary_df.append(test_df, ignore_index=True, sort=False)"
   ]
  },
  {
   "cell_type": "code",
   "execution_count": 34,
   "metadata": {},
   "outputs": [
    {
     "output_type": "execute_result",
     "data": {
      "text/plain": "  paredao            nome  positivos   neutros  negativos  \\\n3       5  bianca_andrade  -0.768530 -0.559762  -0.848187   \n5       5    felipe_prior  -0.721159 -0.509200  -0.392249   \n4       5       flayslene  -0.909986 -0.702029  -0.869732   \n\n   positivos_individual_pct  neutros_individual_pct  negativos_individual_pct  \\\n3                 -0.185510                1.670553                 -0.723994   \n5                 -1.215318               -1.138106                  1.522992   \n4                 -0.735473               -0.219113                  0.678109   \n\n   positivos_global_pct  neutros_global_pct  negativos_global_pct      day1  \\\n3              0.199397            0.188099             -0.761184 -1.239334   \n5              0.633539            0.631130              1.428375 -1.172806   \n4             -1.096998           -1.058464             -0.864650 -1.243134   \n\n       day2      day3     likes  retweets  seguidores  rejeicao  predicao  \n3 -0.614915 -0.326507 -1.012357 -0.988608   -0.175484    0.5309  0.728759  \n5 -0.298406 -0.228028 -0.669565 -0.596639   -0.353340    0.2927  0.538026  \n4 -0.679283 -0.546313 -0.947544 -0.909884   -0.438818    0.1764  0.431781  ",
      "text/html": "<div>\n<style scoped>\n    .dataframe tbody tr th:only-of-type {\n        vertical-align: middle;\n    }\n\n    .dataframe tbody tr th {\n        vertical-align: top;\n    }\n\n    .dataframe thead th {\n        text-align: right;\n    }\n</style>\n<table border=\"1\" class=\"dataframe\">\n  <thead>\n    <tr style=\"text-align: right;\">\n      <th></th>\n      <th>paredao</th>\n      <th>nome</th>\n      <th>positivos</th>\n      <th>neutros</th>\n      <th>negativos</th>\n      <th>positivos_individual_pct</th>\n      <th>neutros_individual_pct</th>\n      <th>negativos_individual_pct</th>\n      <th>positivos_global_pct</th>\n      <th>neutros_global_pct</th>\n      <th>negativos_global_pct</th>\n      <th>day1</th>\n      <th>day2</th>\n      <th>day3</th>\n      <th>likes</th>\n      <th>retweets</th>\n      <th>seguidores</th>\n      <th>rejeicao</th>\n      <th>predicao</th>\n    </tr>\n  </thead>\n  <tbody>\n    <tr>\n      <th>3</th>\n      <td>5</td>\n      <td>bianca_andrade</td>\n      <td>-0.768530</td>\n      <td>-0.559762</td>\n      <td>-0.848187</td>\n      <td>-0.185510</td>\n      <td>1.670553</td>\n      <td>-0.723994</td>\n      <td>0.199397</td>\n      <td>0.188099</td>\n      <td>-0.761184</td>\n      <td>-1.239334</td>\n      <td>-0.614915</td>\n      <td>-0.326507</td>\n      <td>-1.012357</td>\n      <td>-0.988608</td>\n      <td>-0.175484</td>\n      <td>0.5309</td>\n      <td>0.728759</td>\n    </tr>\n    <tr>\n      <th>5</th>\n      <td>5</td>\n      <td>felipe_prior</td>\n      <td>-0.721159</td>\n      <td>-0.509200</td>\n      <td>-0.392249</td>\n      <td>-1.215318</td>\n      <td>-1.138106</td>\n      <td>1.522992</td>\n      <td>0.633539</td>\n      <td>0.631130</td>\n      <td>1.428375</td>\n      <td>-1.172806</td>\n      <td>-0.298406</td>\n      <td>-0.228028</td>\n      <td>-0.669565</td>\n      <td>-0.596639</td>\n      <td>-0.353340</td>\n      <td>0.2927</td>\n      <td>0.538026</td>\n    </tr>\n    <tr>\n      <th>4</th>\n      <td>5</td>\n      <td>flayslene</td>\n      <td>-0.909986</td>\n      <td>-0.702029</td>\n      <td>-0.869732</td>\n      <td>-0.735473</td>\n      <td>-0.219113</td>\n      <td>0.678109</td>\n      <td>-1.096998</td>\n      <td>-1.058464</td>\n      <td>-0.864650</td>\n      <td>-1.243134</td>\n      <td>-0.679283</td>\n      <td>-0.546313</td>\n      <td>-0.947544</td>\n      <td>-0.909884</td>\n      <td>-0.438818</td>\n      <td>0.1764</td>\n      <td>0.431781</td>\n    </tr>\n  </tbody>\n</table>\n</div>"
     },
     "metadata": {},
     "execution_count": 34
    }
   ],
   "source": [
    "test_df.sort_values(by=\"predicao\", ascending=False)"
   ]
  },
  {
   "cell_type": "markdown",
   "metadata": {},
   "source": [
    "# Paredao 6"
   ]
  },
  {
   "cell_type": "code",
   "execution_count": 35,
   "metadata": {},
   "outputs": [
    {
     "output_type": "execute_result",
     "data": {
      "text/plain": "  paredao             nome  positivos   neutros  negativos  \\\n0       6  gizelly_bicalho   0.434612 -0.185530  -0.564907   \n1       6        guilherme   0.063684  0.096010   1.168318   \n2       6            pyong   0.680972  0.281757   1.113638   \n\n   positivos_individual_pct  neutros_individual_pct  negativos_individual_pct  \\\n0                  2.068141                0.069345                 -1.623257   \n1                 -1.136143               -1.733034                  1.770763   \n2                 -0.351731               -1.376091                  0.983613   \n\n   positivos_global_pct  neutros_global_pct  negativos_global_pct      day1  \\\n0             -0.015991           -0.708323             -1.363187 -0.099009   \n1             -0.659434            0.000666              0.614053  1.622033   \n2              0.411364            0.468422              0.551675  0.990530   \n\n       day2      day3     likes  retweets  seguidores  rejeicao  \n0 -0.245451 -0.210688  0.424860  0.357122   -0.326859 -1.163248  \n1  0.080360  0.281707  0.491741  0.640307   -0.439431  0.741224  \n2  0.579254  0.530577  0.592623  0.596828    0.696605  0.302127  ",
      "text/html": "<div>\n<style scoped>\n    .dataframe tbody tr th:only-of-type {\n        vertical-align: middle;\n    }\n\n    .dataframe tbody tr th {\n        vertical-align: top;\n    }\n\n    .dataframe thead th {\n        text-align: right;\n    }\n</style>\n<table border=\"1\" class=\"dataframe\">\n  <thead>\n    <tr style=\"text-align: right;\">\n      <th></th>\n      <th>paredao</th>\n      <th>nome</th>\n      <th>positivos</th>\n      <th>neutros</th>\n      <th>negativos</th>\n      <th>positivos_individual_pct</th>\n      <th>neutros_individual_pct</th>\n      <th>negativos_individual_pct</th>\n      <th>positivos_global_pct</th>\n      <th>neutros_global_pct</th>\n      <th>negativos_global_pct</th>\n      <th>day1</th>\n      <th>day2</th>\n      <th>day3</th>\n      <th>likes</th>\n      <th>retweets</th>\n      <th>seguidores</th>\n      <th>rejeicao</th>\n    </tr>\n  </thead>\n  <tbody>\n    <tr>\n      <th>0</th>\n      <td>6</td>\n      <td>gizelly_bicalho</td>\n      <td>0.434612</td>\n      <td>-0.185530</td>\n      <td>-0.564907</td>\n      <td>2.068141</td>\n      <td>0.069345</td>\n      <td>-1.623257</td>\n      <td>-0.015991</td>\n      <td>-0.708323</td>\n      <td>-1.363187</td>\n      <td>-0.099009</td>\n      <td>-0.245451</td>\n      <td>-0.210688</td>\n      <td>0.424860</td>\n      <td>0.357122</td>\n      <td>-0.326859</td>\n      <td>-1.163248</td>\n    </tr>\n    <tr>\n      <th>1</th>\n      <td>6</td>\n      <td>guilherme</td>\n      <td>0.063684</td>\n      <td>0.096010</td>\n      <td>1.168318</td>\n      <td>-1.136143</td>\n      <td>-1.733034</td>\n      <td>1.770763</td>\n      <td>-0.659434</td>\n      <td>0.000666</td>\n      <td>0.614053</td>\n      <td>1.622033</td>\n      <td>0.080360</td>\n      <td>0.281707</td>\n      <td>0.491741</td>\n      <td>0.640307</td>\n      <td>-0.439431</td>\n      <td>0.741224</td>\n    </tr>\n    <tr>\n      <th>2</th>\n      <td>6</td>\n      <td>pyong</td>\n      <td>0.680972</td>\n      <td>0.281757</td>\n      <td>1.113638</td>\n      <td>-0.351731</td>\n      <td>-1.376091</td>\n      <td>0.983613</td>\n      <td>0.411364</td>\n      <td>0.468422</td>\n      <td>0.551675</td>\n      <td>0.990530</td>\n      <td>0.579254</td>\n      <td>0.530577</td>\n      <td>0.592623</td>\n      <td>0.596828</td>\n      <td>0.696605</td>\n      <td>0.302127</td>\n    </tr>\n  </tbody>\n</table>\n</div>"
     },
     "metadata": {},
     "execution_count": 35
    }
   ],
   "source": [
    "train_df, test_df, mean, std = get_train_test(6, normalize=NORMALIZE)\n",
    "test_df\n",
    ""
   ]
  },
  {
   "cell_type": "code",
   "execution_count": 36,
   "metadata": {},
   "outputs": [],
   "source": [
    "x_train, y_train = train_df.drop(columns=[\"paredao\", \"nome\", \"rejeicao\"], axis=1).to_numpy(), train_df.drop(columns=train_df.columns[:-1], axis=1).to_numpy()\n",
    "x_test, y_test = test_df.drop(columns=[\"paredao\", \"nome\", \"rejeicao\"], axis=1).to_numpy(), test_df.drop(columns=train_df.columns[:-1], axis=1).to_numpy()"
   ]
  },
  {
   "cell_type": "code",
   "execution_count": 37,
   "metadata": {},
   "outputs": [],
   "source": [
    "regressor = LinearRegression()"
   ]
  },
  {
   "cell_type": "code",
   "execution_count": 38,
   "metadata": {},
   "outputs": [],
   "source": [
    "_ = regressor.fit(x_train, y_train)\n",
    ""
   ]
  },
  {
   "cell_type": "code",
   "execution_count": 39,
   "metadata": {},
   "outputs": [],
   "source": [
    "prediction = regressor.predict(x_test)\n",
    "test_df[\"predicao\"] = prediction * std + mean\n",
    "test_df[\"rejeicao\"] =  test_df[\"rejeicao\"] * std + mean\n",
    "summary_df = summary_df.append(test_df, ignore_index=True, sort=False)"
   ]
  },
  {
   "cell_type": "code",
   "execution_count": 40,
   "metadata": {},
   "outputs": [
    {
     "output_type": "execute_result",
     "data": {
      "text/plain": "  paredao             nome  positivos   neutros  negativos  \\\n1       6        guilherme   0.063684  0.096010   1.168318   \n0       6  gizelly_bicalho   0.434612 -0.185530  -0.564907   \n2       6            pyong   0.680972  0.281757   1.113638   \n\n   positivos_individual_pct  neutros_individual_pct  negativos_individual_pct  \\\n1                 -1.136143               -1.733034                  1.770763   \n0                  2.068141                0.069345                 -1.623257   \n2                 -0.351731               -1.376091                  0.983613   \n\n   positivos_global_pct  neutros_global_pct  negativos_global_pct      day1  \\\n1             -0.659434            0.000666              0.614053  1.622033   \n0             -0.015991           -0.708323             -1.363187 -0.099009   \n2              0.411364            0.468422              0.551675  0.990530   \n\n       day2      day3     likes  retweets  seguidores  rejeicao  predicao  \n1  0.080360  0.281707  0.491741  0.640307   -0.439431    0.5607  0.700599  \n0 -0.245451 -0.210688  0.424860  0.357122   -0.326859    0.0064  0.608692  \n2  0.579254  0.530577  0.592623  0.596828    0.696605    0.4329  0.519486  ",
      "text/html": "<div>\n<style scoped>\n    .dataframe tbody tr th:only-of-type {\n        vertical-align: middle;\n    }\n\n    .dataframe tbody tr th {\n        vertical-align: top;\n    }\n\n    .dataframe thead th {\n        text-align: right;\n    }\n</style>\n<table border=\"1\" class=\"dataframe\">\n  <thead>\n    <tr style=\"text-align: right;\">\n      <th></th>\n      <th>paredao</th>\n      <th>nome</th>\n      <th>positivos</th>\n      <th>neutros</th>\n      <th>negativos</th>\n      <th>positivos_individual_pct</th>\n      <th>neutros_individual_pct</th>\n      <th>negativos_individual_pct</th>\n      <th>positivos_global_pct</th>\n      <th>neutros_global_pct</th>\n      <th>negativos_global_pct</th>\n      <th>day1</th>\n      <th>day2</th>\n      <th>day3</th>\n      <th>likes</th>\n      <th>retweets</th>\n      <th>seguidores</th>\n      <th>rejeicao</th>\n      <th>predicao</th>\n    </tr>\n  </thead>\n  <tbody>\n    <tr>\n      <th>1</th>\n      <td>6</td>\n      <td>guilherme</td>\n      <td>0.063684</td>\n      <td>0.096010</td>\n      <td>1.168318</td>\n      <td>-1.136143</td>\n      <td>-1.733034</td>\n      <td>1.770763</td>\n      <td>-0.659434</td>\n      <td>0.000666</td>\n      <td>0.614053</td>\n      <td>1.622033</td>\n      <td>0.080360</td>\n      <td>0.281707</td>\n      <td>0.491741</td>\n      <td>0.640307</td>\n      <td>-0.439431</td>\n      <td>0.5607</td>\n      <td>0.700599</td>\n    </tr>\n    <tr>\n      <th>0</th>\n      <td>6</td>\n      <td>gizelly_bicalho</td>\n      <td>0.434612</td>\n      <td>-0.185530</td>\n      <td>-0.564907</td>\n      <td>2.068141</td>\n      <td>0.069345</td>\n      <td>-1.623257</td>\n      <td>-0.015991</td>\n      <td>-0.708323</td>\n      <td>-1.363187</td>\n      <td>-0.099009</td>\n      <td>-0.245451</td>\n      <td>-0.210688</td>\n      <td>0.424860</td>\n      <td>0.357122</td>\n      <td>-0.326859</td>\n      <td>0.0064</td>\n      <td>0.608692</td>\n    </tr>\n    <tr>\n      <th>2</th>\n      <td>6</td>\n      <td>pyong</td>\n      <td>0.680972</td>\n      <td>0.281757</td>\n      <td>1.113638</td>\n      <td>-0.351731</td>\n      <td>-1.376091</td>\n      <td>0.983613</td>\n      <td>0.411364</td>\n      <td>0.468422</td>\n      <td>0.551675</td>\n      <td>0.990530</td>\n      <td>0.579254</td>\n      <td>0.530577</td>\n      <td>0.592623</td>\n      <td>0.596828</td>\n      <td>0.696605</td>\n      <td>0.4329</td>\n      <td>0.519486</td>\n    </tr>\n  </tbody>\n</table>\n</div>"
     },
     "metadata": {},
     "execution_count": 40
    }
   ],
   "source": [
    "test_df.sort_values(by=\"predicao\", ascending=False)"
   ]
  },
  {
   "cell_type": "markdown",
   "metadata": {},
   "source": [
    "# Paredao 7"
   ]
  },
  {
   "cell_type": "code",
   "execution_count": 41,
   "metadata": {},
   "outputs": [
    {
     "output_type": "execute_result",
     "data": {
      "text/plain": "  paredao          nome  positivos   neutros  negativos  \\\n6       7          babu  -0.003353 -0.349957  -0.445220   \n7       7  manu_gavassi  -0.220106 -0.411398  -0.701309   \n8       7   victor_hugo  -0.655877 -0.484229  -0.646072   \n\n   positivos_individual_pct  neutros_individual_pct  negativos_individual_pct  \\\n6                  1.131497               -0.808846                 -0.448943   \n7                  1.411349                0.221877                 -1.198275   \n8                 -0.411399                0.416077                  0.099964   \n\n   positivos_global_pct  neutros_global_pct  negativos_global_pct      day1  \\\n6              0.853826            0.263868              0.511804 -0.211196   \n7              0.149283           -0.059748             -0.459370 -0.553305   \n8             -1.267169           -0.443356             -0.249893 -0.502339   \n\n       day2      day3     likes  retweets  seguidores  rejeicao  \n6 -0.336560 -0.326944  0.868182  0.336514   -0.249532 -1.027190  \n7 -0.459632 -0.405356 -0.280085 -0.518659    3.174715 -0.835471  \n8 -0.640101 -0.449797 -0.266453 -0.415691   -0.515607  1.742763  ",
      "text/html": "<div>\n<style scoped>\n    .dataframe tbody tr th:only-of-type {\n        vertical-align: middle;\n    }\n\n    .dataframe tbody tr th {\n        vertical-align: top;\n    }\n\n    .dataframe thead th {\n        text-align: right;\n    }\n</style>\n<table border=\"1\" class=\"dataframe\">\n  <thead>\n    <tr style=\"text-align: right;\">\n      <th></th>\n      <th>paredao</th>\n      <th>nome</th>\n      <th>positivos</th>\n      <th>neutros</th>\n      <th>negativos</th>\n      <th>positivos_individual_pct</th>\n      <th>neutros_individual_pct</th>\n      <th>negativos_individual_pct</th>\n      <th>positivos_global_pct</th>\n      <th>neutros_global_pct</th>\n      <th>negativos_global_pct</th>\n      <th>day1</th>\n      <th>day2</th>\n      <th>day3</th>\n      <th>likes</th>\n      <th>retweets</th>\n      <th>seguidores</th>\n      <th>rejeicao</th>\n    </tr>\n  </thead>\n  <tbody>\n    <tr>\n      <th>6</th>\n      <td>7</td>\n      <td>babu</td>\n      <td>-0.003353</td>\n      <td>-0.349957</td>\n      <td>-0.445220</td>\n      <td>1.131497</td>\n      <td>-0.808846</td>\n      <td>-0.448943</td>\n      <td>0.853826</td>\n      <td>0.263868</td>\n      <td>0.511804</td>\n      <td>-0.211196</td>\n      <td>-0.336560</td>\n      <td>-0.326944</td>\n      <td>0.868182</td>\n      <td>0.336514</td>\n      <td>-0.249532</td>\n      <td>-1.027190</td>\n    </tr>\n    <tr>\n      <th>7</th>\n      <td>7</td>\n      <td>manu_gavassi</td>\n      <td>-0.220106</td>\n      <td>-0.411398</td>\n      <td>-0.701309</td>\n      <td>1.411349</td>\n      <td>0.221877</td>\n      <td>-1.198275</td>\n      <td>0.149283</td>\n      <td>-0.059748</td>\n      <td>-0.459370</td>\n      <td>-0.553305</td>\n      <td>-0.459632</td>\n      <td>-0.405356</td>\n      <td>-0.280085</td>\n      <td>-0.518659</td>\n      <td>3.174715</td>\n      <td>-0.835471</td>\n    </tr>\n    <tr>\n      <th>8</th>\n      <td>7</td>\n      <td>victor_hugo</td>\n      <td>-0.655877</td>\n      <td>-0.484229</td>\n      <td>-0.646072</td>\n      <td>-0.411399</td>\n      <td>0.416077</td>\n      <td>0.099964</td>\n      <td>-1.267169</td>\n      <td>-0.443356</td>\n      <td>-0.249893</td>\n      <td>-0.502339</td>\n      <td>-0.640101</td>\n      <td>-0.449797</td>\n      <td>-0.266453</td>\n      <td>-0.415691</td>\n      <td>-0.515607</td>\n      <td>1.742763</td>\n    </tr>\n  </tbody>\n</table>\n</div>"
     },
     "metadata": {},
     "execution_count": 41
    }
   ],
   "source": [
    "train_df, test_df, mean, std = get_train_test(7, normalize=NORMALIZE)\n",
    "test_df\n",
    ""
   ]
  },
  {
   "cell_type": "code",
   "execution_count": 42,
   "metadata": {},
   "outputs": [],
   "source": [
    "x_train, y_train = train_df.drop(columns=[\"paredao\", \"nome\", \"rejeicao\"], axis=1).to_numpy(), train_df.drop(columns=train_df.columns[:-1], axis=1).to_numpy()\n",
    "x_test, y_test = test_df.drop(columns=[\"paredao\", \"nome\", \"rejeicao\"], axis=1).to_numpy(), test_df.drop(columns=train_df.columns[:-1], axis=1).to_numpy()"
   ]
  },
  {
   "cell_type": "code",
   "execution_count": 43,
   "metadata": {},
   "outputs": [],
   "source": [
    "regressor = LinearRegression()"
   ]
  },
  {
   "cell_type": "code",
   "execution_count": 44,
   "metadata": {},
   "outputs": [],
   "source": [
    "_ = regressor.fit(x_train, y_train)\n",
    "prediction = regressor.predict(x_test)\n",
    "test_df[\"predicao\"] = prediction * std + mean\n",
    "test_df[\"rejeicao\"] =  test_df[\"rejeicao\"] * std + mean\n",
    "summary_df = summary_df.append(test_df, ignore_index=True, sort=False)"
   ]
  },
  {
   "cell_type": "code",
   "execution_count": 45,
   "metadata": {},
   "outputs": [
    {
     "output_type": "execute_result",
     "data": {
      "text/plain": "  paredao          nome  positivos   neutros  negativos  \\\n8       7   victor_hugo  -0.655877 -0.484229  -0.646072   \n7       7  manu_gavassi  -0.220106 -0.411398  -0.701309   \n6       7          babu  -0.003353 -0.349957  -0.445220   \n\n   positivos_individual_pct  neutros_individual_pct  negativos_individual_pct  \\\n8                 -0.411399                0.416077                  0.099964   \n7                  1.411349                0.221877                 -1.198275   \n6                  1.131497               -0.808846                 -0.448943   \n\n   positivos_global_pct  neutros_global_pct  negativos_global_pct      day1  \\\n8             -1.267169           -0.443356             -0.249893 -0.502339   \n7              0.149283           -0.059748             -0.459370 -0.553305   \n6              0.853826            0.263868              0.511804 -0.211196   \n\n       day2      day3     likes  retweets  seguidores  rejeicao  predicao  \n8 -0.640101 -0.449797 -0.266453 -0.415691   -0.515607    0.8522  0.177587  \n7 -0.459632 -0.405356 -0.280085 -0.518659    3.174715    0.1018 -0.181732  \n6 -0.336560 -0.326944  0.868182  0.336514   -0.249532    0.0460 -0.327402  ",
      "text/html": "<div>\n<style scoped>\n    .dataframe tbody tr th:only-of-type {\n        vertical-align: middle;\n    }\n\n    .dataframe tbody tr th {\n        vertical-align: top;\n    }\n\n    .dataframe thead th {\n        text-align: right;\n    }\n</style>\n<table border=\"1\" class=\"dataframe\">\n  <thead>\n    <tr style=\"text-align: right;\">\n      <th></th>\n      <th>paredao</th>\n      <th>nome</th>\n      <th>positivos</th>\n      <th>neutros</th>\n      <th>negativos</th>\n      <th>positivos_individual_pct</th>\n      <th>neutros_individual_pct</th>\n      <th>negativos_individual_pct</th>\n      <th>positivos_global_pct</th>\n      <th>neutros_global_pct</th>\n      <th>negativos_global_pct</th>\n      <th>day1</th>\n      <th>day2</th>\n      <th>day3</th>\n      <th>likes</th>\n      <th>retweets</th>\n      <th>seguidores</th>\n      <th>rejeicao</th>\n      <th>predicao</th>\n    </tr>\n  </thead>\n  <tbody>\n    <tr>\n      <th>8</th>\n      <td>7</td>\n      <td>victor_hugo</td>\n      <td>-0.655877</td>\n      <td>-0.484229</td>\n      <td>-0.646072</td>\n      <td>-0.411399</td>\n      <td>0.416077</td>\n      <td>0.099964</td>\n      <td>-1.267169</td>\n      <td>-0.443356</td>\n      <td>-0.249893</td>\n      <td>-0.502339</td>\n      <td>-0.640101</td>\n      <td>-0.449797</td>\n      <td>-0.266453</td>\n      <td>-0.415691</td>\n      <td>-0.515607</td>\n      <td>0.8522</td>\n      <td>0.177587</td>\n    </tr>\n    <tr>\n      <th>7</th>\n      <td>7</td>\n      <td>manu_gavassi</td>\n      <td>-0.220106</td>\n      <td>-0.411398</td>\n      <td>-0.701309</td>\n      <td>1.411349</td>\n      <td>0.221877</td>\n      <td>-1.198275</td>\n      <td>0.149283</td>\n      <td>-0.059748</td>\n      <td>-0.459370</td>\n      <td>-0.553305</td>\n      <td>-0.459632</td>\n      <td>-0.405356</td>\n      <td>-0.280085</td>\n      <td>-0.518659</td>\n      <td>3.174715</td>\n      <td>0.1018</td>\n      <td>-0.181732</td>\n    </tr>\n    <tr>\n      <th>6</th>\n      <td>7</td>\n      <td>babu</td>\n      <td>-0.003353</td>\n      <td>-0.349957</td>\n      <td>-0.445220</td>\n      <td>1.131497</td>\n      <td>-0.808846</td>\n      <td>-0.448943</td>\n      <td>0.853826</td>\n      <td>0.263868</td>\n      <td>0.511804</td>\n      <td>-0.211196</td>\n      <td>-0.336560</td>\n      <td>-0.326944</td>\n      <td>0.868182</td>\n      <td>0.336514</td>\n      <td>-0.249532</td>\n      <td>0.0460</td>\n      <td>-0.327402</td>\n    </tr>\n  </tbody>\n</table>\n</div>"
     },
     "metadata": {},
     "execution_count": 45
    }
   ],
   "source": [
    "test_df.sort_values(by=\"predicao\", ascending=False)"
   ]
  },
  {
   "cell_type": "markdown",
   "metadata": {},
   "source": [
    "# Paredao 8"
   ]
  },
  {
   "cell_type": "code",
   "execution_count": 46,
   "metadata": {},
   "outputs": [
    {
     "output_type": "execute_result",
     "data": {
      "text/plain": "   paredao   nome  positivos   neutros  negativos  positivos_individual_pct  \\\n17       8   babu   0.386802  0.052859   0.349383                  0.045487   \n18       8   rafa  -0.247593 -0.258946   0.159415                 -0.694259   \n19       8  pyong   0.626364  0.529128   0.722707                 -0.327605   \n\n    neutros_individual_pct  negativos_individual_pct  positivos_global_pct  \\\n17               -0.872341                  0.417497              0.163890   \n18               -1.503798                  1.312733             -1.050373   \n19                0.085083                  0.207311              0.622422   \n\n    neutros_global_pct  negativos_global_pct      day1      day2      day3  \\\n17           -0.211541              -0.14301  0.395458  0.116654  0.293758   \n18           -0.961151              -0.38293  0.272414 -0.265056 -0.063242   \n19            0.933457               0.32848  1.201996  0.401506  0.443331   \n\n       likes  retweets  seguidores  rejeicao  \n17  0.566324  0.406515   -0.249532  0.453990  \n18 -0.591306 -0.834966   -0.276805 -1.164966  \n19  0.044624  0.039969    0.696605  0.591078  ",
      "text/html": "<div>\n<style scoped>\n    .dataframe tbody tr th:only-of-type {\n        vertical-align: middle;\n    }\n\n    .dataframe tbody tr th {\n        vertical-align: top;\n    }\n\n    .dataframe thead th {\n        text-align: right;\n    }\n</style>\n<table border=\"1\" class=\"dataframe\">\n  <thead>\n    <tr style=\"text-align: right;\">\n      <th></th>\n      <th>paredao</th>\n      <th>nome</th>\n      <th>positivos</th>\n      <th>neutros</th>\n      <th>negativos</th>\n      <th>positivos_individual_pct</th>\n      <th>neutros_individual_pct</th>\n      <th>negativos_individual_pct</th>\n      <th>positivos_global_pct</th>\n      <th>neutros_global_pct</th>\n      <th>negativos_global_pct</th>\n      <th>day1</th>\n      <th>day2</th>\n      <th>day3</th>\n      <th>likes</th>\n      <th>retweets</th>\n      <th>seguidores</th>\n      <th>rejeicao</th>\n    </tr>\n  </thead>\n  <tbody>\n    <tr>\n      <th>17</th>\n      <td>8</td>\n      <td>babu</td>\n      <td>0.386802</td>\n      <td>0.052859</td>\n      <td>0.349383</td>\n      <td>0.045487</td>\n      <td>-0.872341</td>\n      <td>0.417497</td>\n      <td>0.163890</td>\n      <td>-0.211541</td>\n      <td>-0.14301</td>\n      <td>0.395458</td>\n      <td>0.116654</td>\n      <td>0.293758</td>\n      <td>0.566324</td>\n      <td>0.406515</td>\n      <td>-0.249532</td>\n      <td>0.453990</td>\n    </tr>\n    <tr>\n      <th>18</th>\n      <td>8</td>\n      <td>rafa</td>\n      <td>-0.247593</td>\n      <td>-0.258946</td>\n      <td>0.159415</td>\n      <td>-0.694259</td>\n      <td>-1.503798</td>\n      <td>1.312733</td>\n      <td>-1.050373</td>\n      <td>-0.961151</td>\n      <td>-0.38293</td>\n      <td>0.272414</td>\n      <td>-0.265056</td>\n      <td>-0.063242</td>\n      <td>-0.591306</td>\n      <td>-0.834966</td>\n      <td>-0.276805</td>\n      <td>-1.164966</td>\n    </tr>\n    <tr>\n      <th>19</th>\n      <td>8</td>\n      <td>pyong</td>\n      <td>0.626364</td>\n      <td>0.529128</td>\n      <td>0.722707</td>\n      <td>-0.327605</td>\n      <td>0.085083</td>\n      <td>0.207311</td>\n      <td>0.622422</td>\n      <td>0.933457</td>\n      <td>0.32848</td>\n      <td>1.201996</td>\n      <td>0.401506</td>\n      <td>0.443331</td>\n      <td>0.044624</td>\n      <td>0.039969</td>\n      <td>0.696605</td>\n      <td>0.591078</td>\n    </tr>\n  </tbody>\n</table>\n</div>"
     },
     "metadata": {},
     "execution_count": 46
    }
   ],
   "source": [
    "train_df, test_df, mean, std = get_train_test(8, normalize=NORMALIZE)\n",
    "test_df\n",
    ""
   ]
  },
  {
   "cell_type": "code",
   "execution_count": 47,
   "metadata": {},
   "outputs": [],
   "source": [
    "x_train, y_train = train_df.drop(columns=[\"paredao\", \"nome\", \"rejeicao\"], axis=1).to_numpy(), train_df.drop(columns=train_df.columns[:-1], axis=1).to_numpy()\n",
    "x_test, y_test = test_df.drop(columns=[\"paredao\", \"nome\", \"rejeicao\"], axis=1).to_numpy(), test_df.drop(columns=train_df.columns[:-1], axis=1).to_numpy()"
   ]
  },
  {
   "cell_type": "code",
   "execution_count": 48,
   "metadata": {},
   "outputs": [],
   "source": [
    "regressor = LinearRegression()"
   ]
  },
  {
   "cell_type": "code",
   "execution_count": 49,
   "metadata": {},
   "outputs": [],
   "source": [
    "_ = regressor.fit(x_train, y_train)\n",
    "prediction = regressor.predict(x_test)\n",
    "test_df[\"predicao\"] = prediction * std + mean\n",
    "test_df[\"rejeicao\"] =  test_df[\"rejeicao\"] * std + mean\n",
    "summary_df = summary_df.append(test_df, ignore_index=True, sort=False)"
   ]
  },
  {
   "cell_type": "code",
   "execution_count": 50,
   "metadata": {},
   "outputs": [
    {
     "output_type": "execute_result",
     "data": {
      "text/plain": "   paredao   nome  positivos   neutros  negativos  positivos_individual_pct  \\\n19       8  pyong   0.626364  0.529128   0.722707                 -0.327605   \n17       8   babu   0.386802  0.052859   0.349383                  0.045487   \n18       8   rafa  -0.247593 -0.258946   0.159415                 -0.694259   \n\n    neutros_individual_pct  negativos_individual_pct  positivos_global_pct  \\\n19                0.085083                  0.207311              0.622422   \n17               -0.872341                  0.417497              0.163890   \n18               -1.503798                  1.312733             -1.050373   \n\n    neutros_global_pct  negativos_global_pct      day1      day2      day3  \\\n19            0.933457               0.32848  1.201996  0.401506  0.443331   \n17           -0.211541              -0.14301  0.395458  0.116654  0.293758   \n18           -0.961151              -0.38293  0.272414 -0.265056 -0.063242   \n\n       likes  retweets  seguidores  rejeicao  predicao  \n19  0.044624  0.039969    0.696605    0.5170  0.596188  \n17  0.566324  0.406515   -0.249532    0.4771  0.259443  \n18 -0.591306 -0.834966   -0.276805    0.0059  0.071181  ",
      "text/html": "<div>\n<style scoped>\n    .dataframe tbody tr th:only-of-type {\n        vertical-align: middle;\n    }\n\n    .dataframe tbody tr th {\n        vertical-align: top;\n    }\n\n    .dataframe thead th {\n        text-align: right;\n    }\n</style>\n<table border=\"1\" class=\"dataframe\">\n  <thead>\n    <tr style=\"text-align: right;\">\n      <th></th>\n      <th>paredao</th>\n      <th>nome</th>\n      <th>positivos</th>\n      <th>neutros</th>\n      <th>negativos</th>\n      <th>positivos_individual_pct</th>\n      <th>neutros_individual_pct</th>\n      <th>negativos_individual_pct</th>\n      <th>positivos_global_pct</th>\n      <th>neutros_global_pct</th>\n      <th>negativos_global_pct</th>\n      <th>day1</th>\n      <th>day2</th>\n      <th>day3</th>\n      <th>likes</th>\n      <th>retweets</th>\n      <th>seguidores</th>\n      <th>rejeicao</th>\n      <th>predicao</th>\n    </tr>\n  </thead>\n  <tbody>\n    <tr>\n      <th>19</th>\n      <td>8</td>\n      <td>pyong</td>\n      <td>0.626364</td>\n      <td>0.529128</td>\n      <td>0.722707</td>\n      <td>-0.327605</td>\n      <td>0.085083</td>\n      <td>0.207311</td>\n      <td>0.622422</td>\n      <td>0.933457</td>\n      <td>0.32848</td>\n      <td>1.201996</td>\n      <td>0.401506</td>\n      <td>0.443331</td>\n      <td>0.044624</td>\n      <td>0.039969</td>\n      <td>0.696605</td>\n      <td>0.5170</td>\n      <td>0.596188</td>\n    </tr>\n    <tr>\n      <th>17</th>\n      <td>8</td>\n      <td>babu</td>\n      <td>0.386802</td>\n      <td>0.052859</td>\n      <td>0.349383</td>\n      <td>0.045487</td>\n      <td>-0.872341</td>\n      <td>0.417497</td>\n      <td>0.163890</td>\n      <td>-0.211541</td>\n      <td>-0.14301</td>\n      <td>0.395458</td>\n      <td>0.116654</td>\n      <td>0.293758</td>\n      <td>0.566324</td>\n      <td>0.406515</td>\n      <td>-0.249532</td>\n      <td>0.4771</td>\n      <td>0.259443</td>\n    </tr>\n    <tr>\n      <th>18</th>\n      <td>8</td>\n      <td>rafa</td>\n      <td>-0.247593</td>\n      <td>-0.258946</td>\n      <td>0.159415</td>\n      <td>-0.694259</td>\n      <td>-1.503798</td>\n      <td>1.312733</td>\n      <td>-1.050373</td>\n      <td>-0.961151</td>\n      <td>-0.38293</td>\n      <td>0.272414</td>\n      <td>-0.265056</td>\n      <td>-0.063242</td>\n      <td>-0.591306</td>\n      <td>-0.834966</td>\n      <td>-0.276805</td>\n      <td>0.0059</td>\n      <td>0.071181</td>\n    </tr>\n  </tbody>\n</table>\n</div>"
     },
     "metadata": {},
     "execution_count": 50
    }
   ],
   "source": [
    "test_df.sort_values(by=\"predicao\", ascending=False)"
   ]
  },
  {
   "cell_type": "markdown",
   "metadata": {},
   "source": [
    "# Paredão 9"
   ]
  },
  {
   "cell_type": "code",
   "execution_count": 51,
   "metadata": {},
   "outputs": [
    {
     "output_type": "execute_result",
     "data": {
      "text/plain": "   paredao       nome  positivos   neutros  negativos  \\\n14       9     daniel   0.168003  0.185306   0.215953   \n15       9  flayslene   0.241033 -0.108829  -0.003955   \n16       9        ivy  -0.133989 -0.148147  -0.202244   \n\n    positivos_individual_pct  neutros_individual_pct  \\\n14                 -0.339253                0.248905   \n15                  0.408376               -0.786789   \n16                 -0.090079                0.066717   \n\n    negativos_individual_pct  positivos_global_pct  neutros_global_pct  \\\n14                  0.131290              0.078474            0.502872   \n15                  0.094612              0.237791           -0.316303   \n16                  0.034535             -0.580326           -0.425804   \n\n    negativos_global_pct      day1      day2      day3     likes  retweets  \\\n14              0.301897  1.273651 -0.205908 -0.028017  0.333644  0.436883   \n15             -0.078278 -0.514824  0.243613 -0.001516  0.143899  0.071213   \n16             -0.421078  0.741246 -0.434529 -0.434965 -0.005817  0.002141   \n\n    seguidores  rejeicao  \n14   -0.498940  1.591588  \n15   -0.438818 -0.857461  \n16   -0.477335 -0.854025  ",
      "text/html": "<div>\n<style scoped>\n    .dataframe tbody tr th:only-of-type {\n        vertical-align: middle;\n    }\n\n    .dataframe tbody tr th {\n        vertical-align: top;\n    }\n\n    .dataframe thead th {\n        text-align: right;\n    }\n</style>\n<table border=\"1\" class=\"dataframe\">\n  <thead>\n    <tr style=\"text-align: right;\">\n      <th></th>\n      <th>paredao</th>\n      <th>nome</th>\n      <th>positivos</th>\n      <th>neutros</th>\n      <th>negativos</th>\n      <th>positivos_individual_pct</th>\n      <th>neutros_individual_pct</th>\n      <th>negativos_individual_pct</th>\n      <th>positivos_global_pct</th>\n      <th>neutros_global_pct</th>\n      <th>negativos_global_pct</th>\n      <th>day1</th>\n      <th>day2</th>\n      <th>day3</th>\n      <th>likes</th>\n      <th>retweets</th>\n      <th>seguidores</th>\n      <th>rejeicao</th>\n    </tr>\n  </thead>\n  <tbody>\n    <tr>\n      <th>14</th>\n      <td>9</td>\n      <td>daniel</td>\n      <td>0.168003</td>\n      <td>0.185306</td>\n      <td>0.215953</td>\n      <td>-0.339253</td>\n      <td>0.248905</td>\n      <td>0.131290</td>\n      <td>0.078474</td>\n      <td>0.502872</td>\n      <td>0.301897</td>\n      <td>1.273651</td>\n      <td>-0.205908</td>\n      <td>-0.028017</td>\n      <td>0.333644</td>\n      <td>0.436883</td>\n      <td>-0.498940</td>\n      <td>1.591588</td>\n    </tr>\n    <tr>\n      <th>15</th>\n      <td>9</td>\n      <td>flayslene</td>\n      <td>0.241033</td>\n      <td>-0.108829</td>\n      <td>-0.003955</td>\n      <td>0.408376</td>\n      <td>-0.786789</td>\n      <td>0.094612</td>\n      <td>0.237791</td>\n      <td>-0.316303</td>\n      <td>-0.078278</td>\n      <td>-0.514824</td>\n      <td>0.243613</td>\n      <td>-0.001516</td>\n      <td>0.143899</td>\n      <td>0.071213</td>\n      <td>-0.438818</td>\n      <td>-0.857461</td>\n    </tr>\n    <tr>\n      <th>16</th>\n      <td>9</td>\n      <td>ivy</td>\n      <td>-0.133989</td>\n      <td>-0.148147</td>\n      <td>-0.202244</td>\n      <td>-0.090079</td>\n      <td>0.066717</td>\n      <td>0.034535</td>\n      <td>-0.580326</td>\n      <td>-0.425804</td>\n      <td>-0.421078</td>\n      <td>0.741246</td>\n      <td>-0.434529</td>\n      <td>-0.434965</td>\n      <td>-0.005817</td>\n      <td>0.002141</td>\n      <td>-0.477335</td>\n      <td>-0.854025</td>\n    </tr>\n  </tbody>\n</table>\n</div>"
     },
     "metadata": {},
     "execution_count": 51
    }
   ],
   "source": [
    "train_df, test_df, mean, std = get_train_test(9, normalize=NORMALIZE)\n",
    "test_df\n",
    ""
   ]
  },
  {
   "cell_type": "code",
   "execution_count": 52,
   "metadata": {},
   "outputs": [],
   "source": [
    "x_train, y_train = train_df.drop(columns=[\"paredao\", \"nome\", \"rejeicao\"], axis=1).to_numpy(), train_df.drop(columns=train_df.columns[:-1], axis=1).to_numpy()\n",
    "x_test, y_test = test_df.drop(columns=[\"paredao\", \"nome\", \"rejeicao\"], axis=1).to_numpy(), test_df.drop(columns=train_df.columns[:-1], axis=1).to_numpy()"
   ]
  },
  {
   "cell_type": "code",
   "execution_count": 53,
   "metadata": {},
   "outputs": [],
   "source": [
    "regressor = LinearRegression()"
   ]
  },
  {
   "cell_type": "code",
   "execution_count": 54,
   "metadata": {},
   "outputs": [],
   "source": [
    "_ = regressor.fit(x_train, y_train)\n",
    "prediction = regressor.predict(x_test)\n",
    "test_df[\"predicao\"] = prediction * std + mean\n",
    "test_df[\"rejeicao\"] =  test_df[\"rejeicao\"] * std + mean\n",
    "summary_df = summary_df.append(test_df, ignore_index=True, sort=False)"
   ]
  },
  {
   "cell_type": "code",
   "execution_count": 55,
   "metadata": {},
   "outputs": [
    {
     "output_type": "execute_result",
     "data": {
      "text/plain": "   paredao       nome  positivos   neutros  negativos  \\\n14       9     daniel   0.168003  0.185306   0.215953   \n16       9        ivy  -0.133989 -0.148147  -0.202244   \n15       9  flayslene   0.241033 -0.108829  -0.003955   \n\n    positivos_individual_pct  neutros_individual_pct  \\\n14                 -0.339253                0.248905   \n16                 -0.090079                0.066717   \n15                  0.408376               -0.786789   \n\n    negativos_individual_pct  positivos_global_pct  neutros_global_pct  \\\n14                  0.131290              0.078474            0.502872   \n16                  0.034535             -0.580326           -0.425804   \n15                  0.094612              0.237791           -0.316303   \n\n    negativos_global_pct      day1      day2      day3     likes  retweets  \\\n14              0.301897  1.273651 -0.205908 -0.028017  0.333644  0.436883   \n16             -0.421078  0.741246 -0.434529 -0.434965 -0.005817  0.002141   \n15             -0.078278 -0.514824  0.243613 -0.001516  0.143899  0.071213   \n\n    seguidores  rejeicao  predicao  \n14   -0.498940    0.8082  0.789133  \n16   -0.477335    0.0964  0.491583  \n15   -0.438818    0.0954  0.069298  ",
      "text/html": "<div>\n<style scoped>\n    .dataframe tbody tr th:only-of-type {\n        vertical-align: middle;\n    }\n\n    .dataframe tbody tr th {\n        vertical-align: top;\n    }\n\n    .dataframe thead th {\n        text-align: right;\n    }\n</style>\n<table border=\"1\" class=\"dataframe\">\n  <thead>\n    <tr style=\"text-align: right;\">\n      <th></th>\n      <th>paredao</th>\n      <th>nome</th>\n      <th>positivos</th>\n      <th>neutros</th>\n      <th>negativos</th>\n      <th>positivos_individual_pct</th>\n      <th>neutros_individual_pct</th>\n      <th>negativos_individual_pct</th>\n      <th>positivos_global_pct</th>\n      <th>neutros_global_pct</th>\n      <th>negativos_global_pct</th>\n      <th>day1</th>\n      <th>day2</th>\n      <th>day3</th>\n      <th>likes</th>\n      <th>retweets</th>\n      <th>seguidores</th>\n      <th>rejeicao</th>\n      <th>predicao</th>\n    </tr>\n  </thead>\n  <tbody>\n    <tr>\n      <th>14</th>\n      <td>9</td>\n      <td>daniel</td>\n      <td>0.168003</td>\n      <td>0.185306</td>\n      <td>0.215953</td>\n      <td>-0.339253</td>\n      <td>0.248905</td>\n      <td>0.131290</td>\n      <td>0.078474</td>\n      <td>0.502872</td>\n      <td>0.301897</td>\n      <td>1.273651</td>\n      <td>-0.205908</td>\n      <td>-0.028017</td>\n      <td>0.333644</td>\n      <td>0.436883</td>\n      <td>-0.498940</td>\n      <td>0.8082</td>\n      <td>0.789133</td>\n    </tr>\n    <tr>\n      <th>16</th>\n      <td>9</td>\n      <td>ivy</td>\n      <td>-0.133989</td>\n      <td>-0.148147</td>\n      <td>-0.202244</td>\n      <td>-0.090079</td>\n      <td>0.066717</td>\n      <td>0.034535</td>\n      <td>-0.580326</td>\n      <td>-0.425804</td>\n      <td>-0.421078</td>\n      <td>0.741246</td>\n      <td>-0.434529</td>\n      <td>-0.434965</td>\n      <td>-0.005817</td>\n      <td>0.002141</td>\n      <td>-0.477335</td>\n      <td>0.0964</td>\n      <td>0.491583</td>\n    </tr>\n    <tr>\n      <th>15</th>\n      <td>9</td>\n      <td>flayslene</td>\n      <td>0.241033</td>\n      <td>-0.108829</td>\n      <td>-0.003955</td>\n      <td>0.408376</td>\n      <td>-0.786789</td>\n      <td>0.094612</td>\n      <td>0.237791</td>\n      <td>-0.316303</td>\n      <td>-0.078278</td>\n      <td>-0.514824</td>\n      <td>0.243613</td>\n      <td>-0.001516</td>\n      <td>0.143899</td>\n      <td>0.071213</td>\n      <td>-0.438818</td>\n      <td>0.0954</td>\n      <td>0.069298</td>\n    </tr>\n  </tbody>\n</table>\n</div>"
     },
     "metadata": {},
     "execution_count": 55
    }
   ],
   "source": [
    "test_df.sort_values(by=\"predicao\", ascending=False)"
   ]
  },
  {
   "cell_type": "markdown",
   "metadata": {},
   "source": [
    "# Paredão 10"
   ]
  },
  {
   "cell_type": "code",
   "execution_count": 56,
   "metadata": {},
   "outputs": [
    {
     "output_type": "execute_result",
     "data": {
      "text/plain": "   paredao          nome  positivos   neutros  negativos  \\\n11      10  manu_gavassi   4.126502  4.126951   2.499059   \n12      10          mari   0.335557  0.015659  -0.161346   \n13      10  felipe_prior   1.600765  2.334282   2.754033   \n\n    positivos_individual_pct  neutros_individual_pct  \\\n11                 -0.022912                2.191449   \n12                  0.641051                0.176175   \n13                 -1.015666                0.890137   \n\n    negativos_individual_pct  positivos_global_pct  neutros_global_pct  \\\n11                 -1.118932              1.646092            1.430657   \n12                 -0.583372             -1.476081           -1.724701   \n13                  0.317883             -0.434072            0.054809   \n\n    negativos_global_pct      day1      day2      day3     likes  retweets  \\\n11              0.481148  1.230284  3.839114  4.259695  2.909737  2.206838   \n12             -1.333690 -0.171991  0.009522  0.173631 -0.509671 -0.617942   \n13              0.655083  2.138334  2.291893  2.289677  2.935820  3.204519   \n\n    seguidores  rejeicao  \n11    3.566858  0.275327  \n12   -0.297119 -1.159125  \n13    0.022182  0.763900  ",
      "text/html": "<div>\n<style scoped>\n    .dataframe tbody tr th:only-of-type {\n        vertical-align: middle;\n    }\n\n    .dataframe tbody tr th {\n        vertical-align: top;\n    }\n\n    .dataframe thead th {\n        text-align: right;\n    }\n</style>\n<table border=\"1\" class=\"dataframe\">\n  <thead>\n    <tr style=\"text-align: right;\">\n      <th></th>\n      <th>paredao</th>\n      <th>nome</th>\n      <th>positivos</th>\n      <th>neutros</th>\n      <th>negativos</th>\n      <th>positivos_individual_pct</th>\n      <th>neutros_individual_pct</th>\n      <th>negativos_individual_pct</th>\n      <th>positivos_global_pct</th>\n      <th>neutros_global_pct</th>\n      <th>negativos_global_pct</th>\n      <th>day1</th>\n      <th>day2</th>\n      <th>day3</th>\n      <th>likes</th>\n      <th>retweets</th>\n      <th>seguidores</th>\n      <th>rejeicao</th>\n    </tr>\n  </thead>\n  <tbody>\n    <tr>\n      <th>11</th>\n      <td>10</td>\n      <td>manu_gavassi</td>\n      <td>4.126502</td>\n      <td>4.126951</td>\n      <td>2.499059</td>\n      <td>-0.022912</td>\n      <td>2.191449</td>\n      <td>-1.118932</td>\n      <td>1.646092</td>\n      <td>1.430657</td>\n      <td>0.481148</td>\n      <td>1.230284</td>\n      <td>3.839114</td>\n      <td>4.259695</td>\n      <td>2.909737</td>\n      <td>2.206838</td>\n      <td>3.566858</td>\n      <td>0.275327</td>\n    </tr>\n    <tr>\n      <th>12</th>\n      <td>10</td>\n      <td>mari</td>\n      <td>0.335557</td>\n      <td>0.015659</td>\n      <td>-0.161346</td>\n      <td>0.641051</td>\n      <td>0.176175</td>\n      <td>-0.583372</td>\n      <td>-1.476081</td>\n      <td>-1.724701</td>\n      <td>-1.333690</td>\n      <td>-0.171991</td>\n      <td>0.009522</td>\n      <td>0.173631</td>\n      <td>-0.509671</td>\n      <td>-0.617942</td>\n      <td>-0.297119</td>\n      <td>-1.159125</td>\n    </tr>\n    <tr>\n      <th>13</th>\n      <td>10</td>\n      <td>felipe_prior</td>\n      <td>1.600765</td>\n      <td>2.334282</td>\n      <td>2.754033</td>\n      <td>-1.015666</td>\n      <td>0.890137</td>\n      <td>0.317883</td>\n      <td>-0.434072</td>\n      <td>0.054809</td>\n      <td>0.655083</td>\n      <td>2.138334</td>\n      <td>2.291893</td>\n      <td>2.289677</td>\n      <td>2.935820</td>\n      <td>3.204519</td>\n      <td>0.022182</td>\n      <td>0.763900</td>\n    </tr>\n  </tbody>\n</table>\n</div>"
     },
     "metadata": {},
     "execution_count": 56
    }
   ],
   "source": [
    "train_df, test_df, mean, std = get_train_test(10, normalize=NORMALIZE)\n",
    "test_df\n",
    ""
   ]
  },
  {
   "cell_type": "code",
   "execution_count": 57,
   "metadata": {},
   "outputs": [],
   "source": [
    "x_train, y_train = train_df.drop(columns=[\"paredao\", \"nome\", \"rejeicao\"], axis=1).to_numpy(), train_df.drop(columns=train_df.columns[:-1], axis=1).to_numpy()\n",
    "x_test, y_test = test_df.drop(columns=[\"paredao\", \"nome\", \"rejeicao\"], axis=1).to_numpy(), test_df.drop(columns=train_df.columns[:-1], axis=1).to_numpy()"
   ]
  },
  {
   "cell_type": "code",
   "execution_count": 58,
   "metadata": {},
   "outputs": [],
   "source": [
    "regressor = LinearRegression()"
   ]
  },
  {
   "cell_type": "code",
   "execution_count": 59,
   "metadata": {},
   "outputs": [],
   "source": [
    "_ = regressor.fit(x_train, y_train)\n",
    "prediction = regressor.predict(x_test)\n",
    "test_df[\"predicao\"] = prediction * std + mean\n",
    "test_df[\"rejeicao\"] =  test_df[\"rejeicao\"] * std + mean\n",
    "summary_df = summary_df.append(test_df, ignore_index=True, sort=False)"
   ]
  },
  {
   "cell_type": "code",
   "execution_count": 60,
   "metadata": {},
   "outputs": [
    {
     "output_type": "execute_result",
     "data": {
      "text/plain": "   paredao          nome  positivos   neutros  negativos  \\\n13      10  felipe_prior   1.600765  2.334282   2.754033   \n11      10  manu_gavassi   4.126502  4.126951   2.499059   \n12      10          mari   0.335557  0.015659  -0.161346   \n\n    positivos_individual_pct  neutros_individual_pct  \\\n13                 -1.015666                0.890137   \n11                 -0.022912                2.191449   \n12                  0.641051                0.176175   \n\n    negativos_individual_pct  positivos_global_pct  neutros_global_pct  \\\n13                  0.317883             -0.434072            0.054809   \n11                 -1.118932              1.646092            1.430657   \n12                 -0.583372             -1.476081           -1.724701   \n\n    negativos_global_pct      day1      day2      day3     likes  retweets  \\\n13              0.655083  2.138334  2.291893  2.289677  2.935820  3.204519   \n11              0.481148  1.230284  3.839114  4.259695  2.909737  2.206838   \n12             -1.333690 -0.171991  0.009522  0.173631 -0.509671 -0.617942   \n\n    seguidores  rejeicao  predicao  \n13    0.022182    0.5673  1.571445  \n11    3.566858    0.4251  1.388857  \n12   -0.297119    0.0076 -0.054244  ",
      "text/html": "<div>\n<style scoped>\n    .dataframe tbody tr th:only-of-type {\n        vertical-align: middle;\n    }\n\n    .dataframe tbody tr th {\n        vertical-align: top;\n    }\n\n    .dataframe thead th {\n        text-align: right;\n    }\n</style>\n<table border=\"1\" class=\"dataframe\">\n  <thead>\n    <tr style=\"text-align: right;\">\n      <th></th>\n      <th>paredao</th>\n      <th>nome</th>\n      <th>positivos</th>\n      <th>neutros</th>\n      <th>negativos</th>\n      <th>positivos_individual_pct</th>\n      <th>neutros_individual_pct</th>\n      <th>negativos_individual_pct</th>\n      <th>positivos_global_pct</th>\n      <th>neutros_global_pct</th>\n      <th>negativos_global_pct</th>\n      <th>day1</th>\n      <th>day2</th>\n      <th>day3</th>\n      <th>likes</th>\n      <th>retweets</th>\n      <th>seguidores</th>\n      <th>rejeicao</th>\n      <th>predicao</th>\n    </tr>\n  </thead>\n  <tbody>\n    <tr>\n      <th>13</th>\n      <td>10</td>\n      <td>felipe_prior</td>\n      <td>1.600765</td>\n      <td>2.334282</td>\n      <td>2.754033</td>\n      <td>-1.015666</td>\n      <td>0.890137</td>\n      <td>0.317883</td>\n      <td>-0.434072</td>\n      <td>0.054809</td>\n      <td>0.655083</td>\n      <td>2.138334</td>\n      <td>2.291893</td>\n      <td>2.289677</td>\n      <td>2.935820</td>\n      <td>3.204519</td>\n      <td>0.022182</td>\n      <td>0.5673</td>\n      <td>1.571445</td>\n    </tr>\n    <tr>\n      <th>11</th>\n      <td>10</td>\n      <td>manu_gavassi</td>\n      <td>4.126502</td>\n      <td>4.126951</td>\n      <td>2.499059</td>\n      <td>-0.022912</td>\n      <td>2.191449</td>\n      <td>-1.118932</td>\n      <td>1.646092</td>\n      <td>1.430657</td>\n      <td>0.481148</td>\n      <td>1.230284</td>\n      <td>3.839114</td>\n      <td>4.259695</td>\n      <td>2.909737</td>\n      <td>2.206838</td>\n      <td>3.566858</td>\n      <td>0.4251</td>\n      <td>1.388857</td>\n    </tr>\n    <tr>\n      <th>12</th>\n      <td>10</td>\n      <td>mari</td>\n      <td>0.335557</td>\n      <td>0.015659</td>\n      <td>-0.161346</td>\n      <td>0.641051</td>\n      <td>0.176175</td>\n      <td>-0.583372</td>\n      <td>-1.476081</td>\n      <td>-1.724701</td>\n      <td>-1.333690</td>\n      <td>-0.171991</td>\n      <td>0.009522</td>\n      <td>0.173631</td>\n      <td>-0.509671</td>\n      <td>-0.617942</td>\n      <td>-0.297119</td>\n      <td>0.0076</td>\n      <td>-0.054244</td>\n    </tr>\n  </tbody>\n</table>\n</div>"
     },
     "metadata": {},
     "execution_count": 60
    }
   ],
   "source": [
    "test_df.sort_values(by=\"predicao\", ascending=False)"
   ]
  },
  {
   "cell_type": "markdown",
   "metadata": {},
   "source": [
    "# Sumarizando"
   ]
  },
  {
   "cell_type": "code",
   "execution_count": 61,
   "metadata": {},
   "outputs": [
    {
     "output_type": "execute_result",
     "data": {
      "text/plain": "   paredao             nome  positivos   neutros  negativos  \\\n0        1   bianca_andrade  -0.705442 -0.663332  -0.961113   \n1        1     lucas_chumbo  -0.679271 -0.460135  -0.565538   \n2        2             babu  -0.799234 -0.669940  -0.958884   \n3        2           petrix   0.226486  0.654602   1.223926   \n4        2            pyong   0.379784 -0.297606  -0.621407   \n5        2           hadson  -0.001452  0.271499   0.907140   \n6        3     felipe_prior  -0.871972 -0.718932  -0.970325   \n7        3           hadson  -0.907062 -0.674357  -0.952755   \n8        4             babu  -0.583797 -0.459478  -0.402539   \n9        4      victor_hugo  -0.873215 -0.687792  -0.915905   \n10       4            lucas  -0.188525 -0.198454   0.070115   \n11       5   bianca_andrade  -0.768530 -0.559762  -0.848187   \n12       5        flayslene  -0.909986 -0.702029  -0.869732   \n13       5     felipe_prior  -0.721159 -0.509200  -0.392249   \n14       6  gizelly_bicalho   0.434612 -0.185530  -0.564907   \n15       6        guilherme   0.063684  0.096010   1.168318   \n16       6            pyong   0.680972  0.281757   1.113638   \n17       7             babu  -0.003353 -0.349957  -0.445220   \n18       7     manu_gavassi  -0.220106 -0.411398  -0.701309   \n19       7      victor_hugo  -0.655877 -0.484229  -0.646072   \n20       8             babu   0.386802  0.052859   0.349383   \n21       8             rafa  -0.247593 -0.258946   0.159415   \n22       8            pyong   0.626364  0.529128   0.722707   \n23       9           daniel   0.168003  0.185306   0.215953   \n24       9        flayslene   0.241033 -0.108829  -0.003955   \n25       9              ivy  -0.133989 -0.148147  -0.202244   \n26      10     manu_gavassi   4.126502  4.126951   2.499059   \n27      10             mari   0.335557  0.015659  -0.161346   \n28      10     felipe_prior   1.600765  2.334282   2.754033   \n\n    positivos_individual_pct  neutros_individual_pct  \\\n0                   1.723825                0.640345   \n1                  -0.782240                0.256477   \n2                   0.892099                1.180505   \n3                  -1.210657                0.002306   \n4                   2.441537               -0.450094   \n5                  -1.193210               -0.600541   \n6                   0.622215                0.599206   \n7                  -0.371537                1.983351   \n8                  -0.674006               -0.847942   \n9                  -0.110353                0.605477   \n10                 -0.518227               -0.967290   \n11                 -0.185510                1.670553   \n12                 -0.735473               -0.219113   \n13                 -1.215318               -1.138106   \n14                  2.068141                0.069345   \n15                 -1.136143               -1.733034   \n16                 -0.351731               -1.376091   \n17                  1.131497               -0.808846   \n18                  1.411349                0.221877   \n19                 -0.411399                0.416077   \n20                  0.045487               -0.872341   \n21                 -0.694259               -1.503798   \n22                 -0.327605                0.085083   \n23                 -0.339253                0.248905   \n24                  0.408376               -0.786789   \n25                 -0.090079                0.066717   \n26                 -0.022912                2.191449   \n27                  0.641051                0.176175   \n28                 -1.015666                0.890137   \n\n    negativos_individual_pct  positivos_global_pct  neutros_global_pct  \\\n0                  -1.655124              1.058495           -0.128231   \n1                   0.467355              1.318056            2.281350   \n2                  -1.296911             -2.121605           -2.013518   \n3                   0.927980             -0.214771            0.708790   \n4                  -1.640448              0.070214           -1.248267   \n5                   1.227235             -0.638512           -0.078595   \n6                  -0.788305              1.543900            0.586051   \n7                  -0.743440              0.832651            1.567068   \n8                   0.957053             -0.257990           -0.141899   \n9                  -0.229313             -1.652137           -1.443392   \n10                  0.899388              1.646066            1.346056   \n11                 -0.723994              0.199397            0.188099   \n12                  0.678109             -1.096998           -1.058464   \n13                  1.522992              0.633539            0.631130   \n14                 -1.623257             -0.015991           -0.708323   \n15                  1.770763             -0.659434            0.000666   \n16                  0.983613              0.411364            0.468422   \n17                 -0.448943              0.853826            0.263868   \n18                 -1.198275              0.149283           -0.059748   \n19                  0.099964             -1.267169           -0.443356   \n20                  0.417497              0.163890           -0.211541   \n21                  1.312733             -1.050373           -0.961151   \n22                  0.207311              0.622422            0.933457   \n23                  0.131290              0.078474            0.502872   \n24                  0.094612              0.237791           -0.316303   \n25                  0.034535             -0.580326           -0.425804   \n26                 -1.118932              1.646092            1.430657   \n27                 -0.583372             -1.476081           -1.724701   \n28                  0.317883             -0.434072            0.054809   \n\n    negativos_global_pct      day1      day2      day3     likes  retweets  \\\n0              -0.789185 -1.007059 -0.735292 -0.573523 -0.848444 -0.859990   \n1               2.566319  0.012876 -0.746428 -0.570033 -0.691297 -0.612588   \n2              -1.810492 -1.021715 -0.732154 -0.642993 -0.905385 -0.860619   \n3               0.712508  1.455623  0.900622 -0.141164  0.741667  1.508356   \n4              -1.420419 -0.604272 -0.100998 -0.328798  0.047521  0.126919   \n5               0.346351  0.163906  1.003977 -0.383599  0.366731  0.871754   \n6               0.708021 -1.291205 -0.719575 -0.568288 -0.832181 -0.781915   \n7               1.069113 -1.245064 -0.717770 -0.547349 -0.959392 -0.913947   \n8              -0.027990 -0.257820 -0.468657 -0.559291 -0.723406 -0.763226   \n9              -1.459027 -0.946985 -0.781777 -0.631869 -0.938008 -0.907206   \n10              1.289557  0.583702 -0.284022 -0.304096 -0.286464 -0.223995   \n11             -0.761184 -1.239334 -0.614915 -0.326507 -1.012357 -0.988608   \n12             -0.864650 -1.243134 -0.679283 -0.546313 -0.947544 -0.909884   \n13              1.428375 -1.172806 -0.298406 -0.228028 -0.669565 -0.596639   \n14             -1.363187 -0.099009 -0.245451 -0.210688  0.424860  0.357122   \n15              0.614053  1.622033  0.080360  0.281707  0.491741  0.640307   \n16              0.551675  0.990530  0.579254  0.530577  0.592623  0.596828   \n17              0.511804 -0.211196 -0.336560 -0.326944  0.868182  0.336514   \n18             -0.459370 -0.553305 -0.459632 -0.405356 -0.280085 -0.518659   \n19             -0.249893 -0.502339 -0.640101 -0.449797 -0.266453 -0.415691   \n20             -0.143010  0.395458  0.116654  0.293758  0.566324  0.406515   \n21             -0.382930  0.272414 -0.265056 -0.063242 -0.591306 -0.834966   \n22              0.328480  1.201996  0.401506  0.443331  0.044624  0.039969   \n23              0.301897  1.273651 -0.205908 -0.028017  0.333644  0.436883   \n24             -0.078278 -0.514824  0.243613 -0.001516  0.143899  0.071213   \n25             -0.421078  0.741246 -0.434529 -0.434965 -0.005817  0.002141   \n26              0.481148  1.230284  3.839114  4.259695  2.909737  2.206838   \n27             -1.333690 -0.171991  0.009522  0.173631 -0.509671 -0.617942   \n28              0.655083  2.138334  2.291893  2.289677  2.935820  3.204519   \n\n    seguidores  rejeicao  predicao  \n0    -0.175484    0.2446 -0.133198  \n1    -0.517648    0.7594  0.970997  \n2    -0.249532    0.0044  0.051615  \n3    -0.508748    0.8027  0.133972  \n4     0.696605    0.0066 -0.324285  \n5    -0.519194    0.1863 -0.393521  \n6    -0.353340    0.2029  0.248420  \n7    -0.519194    0.7971  0.921535  \n8    -0.249532    0.0130  0.240815  \n9    -0.515607    0.3608  0.259399  \n10   -0.507674    0.6262  0.421043  \n11   -0.175484    0.5309  0.728759  \n12   -0.438818    0.1764  0.431781  \n13   -0.353340    0.2927  0.538026  \n14   -0.326859    0.0064  0.608692  \n15   -0.439431    0.5607  0.700599  \n16    0.696605    0.4329  0.519486  \n17   -0.249532    0.0460 -0.327402  \n18    3.174715    0.1018 -0.181732  \n19   -0.515607    0.8522  0.177587  \n20   -0.249532    0.4771  0.259443  \n21   -0.276805    0.0059  0.071181  \n22    0.696605    0.5170  0.596188  \n23   -0.498940    0.8082  0.789133  \n24   -0.438818    0.0954  0.069298  \n25   -0.477335    0.0964  0.491583  \n26    3.566858    0.4251  1.388857  \n27   -0.297119    0.0076 -0.054244  \n28    0.022182    0.5673  1.571445  ",
      "text/html": "<div>\n<style scoped>\n    .dataframe tbody tr th:only-of-type {\n        vertical-align: middle;\n    }\n\n    .dataframe tbody tr th {\n        vertical-align: top;\n    }\n\n    .dataframe thead th {\n        text-align: right;\n    }\n</style>\n<table border=\"1\" class=\"dataframe\">\n  <thead>\n    <tr style=\"text-align: right;\">\n      <th></th>\n      <th>paredao</th>\n      <th>nome</th>\n      <th>positivos</th>\n      <th>neutros</th>\n      <th>negativos</th>\n      <th>positivos_individual_pct</th>\n      <th>neutros_individual_pct</th>\n      <th>negativos_individual_pct</th>\n      <th>positivos_global_pct</th>\n      <th>neutros_global_pct</th>\n      <th>negativos_global_pct</th>\n      <th>day1</th>\n      <th>day2</th>\n      <th>day3</th>\n      <th>likes</th>\n      <th>retweets</th>\n      <th>seguidores</th>\n      <th>rejeicao</th>\n      <th>predicao</th>\n    </tr>\n  </thead>\n  <tbody>\n    <tr>\n      <th>0</th>\n      <td>1</td>\n      <td>bianca_andrade</td>\n      <td>-0.705442</td>\n      <td>-0.663332</td>\n      <td>-0.961113</td>\n      <td>1.723825</td>\n      <td>0.640345</td>\n      <td>-1.655124</td>\n      <td>1.058495</td>\n      <td>-0.128231</td>\n      <td>-0.789185</td>\n      <td>-1.007059</td>\n      <td>-0.735292</td>\n      <td>-0.573523</td>\n      <td>-0.848444</td>\n      <td>-0.859990</td>\n      <td>-0.175484</td>\n      <td>0.2446</td>\n      <td>-0.133198</td>\n    </tr>\n    <tr>\n      <th>1</th>\n      <td>1</td>\n      <td>lucas_chumbo</td>\n      <td>-0.679271</td>\n      <td>-0.460135</td>\n      <td>-0.565538</td>\n      <td>-0.782240</td>\n      <td>0.256477</td>\n      <td>0.467355</td>\n      <td>1.318056</td>\n      <td>2.281350</td>\n      <td>2.566319</td>\n      <td>0.012876</td>\n      <td>-0.746428</td>\n      <td>-0.570033</td>\n      <td>-0.691297</td>\n      <td>-0.612588</td>\n      <td>-0.517648</td>\n      <td>0.7594</td>\n      <td>0.970997</td>\n    </tr>\n    <tr>\n      <th>2</th>\n      <td>2</td>\n      <td>babu</td>\n      <td>-0.799234</td>\n      <td>-0.669940</td>\n      <td>-0.958884</td>\n      <td>0.892099</td>\n      <td>1.180505</td>\n      <td>-1.296911</td>\n      <td>-2.121605</td>\n      <td>-2.013518</td>\n      <td>-1.810492</td>\n      <td>-1.021715</td>\n      <td>-0.732154</td>\n      <td>-0.642993</td>\n      <td>-0.905385</td>\n      <td>-0.860619</td>\n      <td>-0.249532</td>\n      <td>0.0044</td>\n      <td>0.051615</td>\n    </tr>\n    <tr>\n      <th>3</th>\n      <td>2</td>\n      <td>petrix</td>\n      <td>0.226486</td>\n      <td>0.654602</td>\n      <td>1.223926</td>\n      <td>-1.210657</td>\n      <td>0.002306</td>\n      <td>0.927980</td>\n      <td>-0.214771</td>\n      <td>0.708790</td>\n      <td>0.712508</td>\n      <td>1.455623</td>\n      <td>0.900622</td>\n      <td>-0.141164</td>\n      <td>0.741667</td>\n      <td>1.508356</td>\n      <td>-0.508748</td>\n      <td>0.8027</td>\n      <td>0.133972</td>\n    </tr>\n    <tr>\n      <th>4</th>\n      <td>2</td>\n      <td>pyong</td>\n      <td>0.379784</td>\n      <td>-0.297606</td>\n      <td>-0.621407</td>\n      <td>2.441537</td>\n      <td>-0.450094</td>\n      <td>-1.640448</td>\n      <td>0.070214</td>\n      <td>-1.248267</td>\n      <td>-1.420419</td>\n      <td>-0.604272</td>\n      <td>-0.100998</td>\n      <td>-0.328798</td>\n      <td>0.047521</td>\n      <td>0.126919</td>\n      <td>0.696605</td>\n      <td>0.0066</td>\n      <td>-0.324285</td>\n    </tr>\n    <tr>\n      <th>5</th>\n      <td>2</td>\n      <td>hadson</td>\n      <td>-0.001452</td>\n      <td>0.271499</td>\n      <td>0.907140</td>\n      <td>-1.193210</td>\n      <td>-0.600541</td>\n      <td>1.227235</td>\n      <td>-0.638512</td>\n      <td>-0.078595</td>\n      <td>0.346351</td>\n      <td>0.163906</td>\n      <td>1.003977</td>\n      <td>-0.383599</td>\n      <td>0.366731</td>\n      <td>0.871754</td>\n      <td>-0.519194</td>\n      <td>0.1863</td>\n      <td>-0.393521</td>\n    </tr>\n    <tr>\n      <th>6</th>\n      <td>3</td>\n      <td>felipe_prior</td>\n      <td>-0.871972</td>\n      <td>-0.718932</td>\n      <td>-0.970325</td>\n      <td>0.622215</td>\n      <td>0.599206</td>\n      <td>-0.788305</td>\n      <td>1.543900</td>\n      <td>0.586051</td>\n      <td>0.708021</td>\n      <td>-1.291205</td>\n      <td>-0.719575</td>\n      <td>-0.568288</td>\n      <td>-0.832181</td>\n      <td>-0.781915</td>\n      <td>-0.353340</td>\n      <td>0.2029</td>\n      <td>0.248420</td>\n    </tr>\n    <tr>\n      <th>7</th>\n      <td>3</td>\n      <td>hadson</td>\n      <td>-0.907062</td>\n      <td>-0.674357</td>\n      <td>-0.952755</td>\n      <td>-0.371537</td>\n      <td>1.983351</td>\n      <td>-0.743440</td>\n      <td>0.832651</td>\n      <td>1.567068</td>\n      <td>1.069113</td>\n      <td>-1.245064</td>\n      <td>-0.717770</td>\n      <td>-0.547349</td>\n      <td>-0.959392</td>\n      <td>-0.913947</td>\n      <td>-0.519194</td>\n      <td>0.7971</td>\n      <td>0.921535</td>\n    </tr>\n    <tr>\n      <th>8</th>\n      <td>4</td>\n      <td>babu</td>\n      <td>-0.583797</td>\n      <td>-0.459478</td>\n      <td>-0.402539</td>\n      <td>-0.674006</td>\n      <td>-0.847942</td>\n      <td>0.957053</td>\n      <td>-0.257990</td>\n      <td>-0.141899</td>\n      <td>-0.027990</td>\n      <td>-0.257820</td>\n      <td>-0.468657</td>\n      <td>-0.559291</td>\n      <td>-0.723406</td>\n      <td>-0.763226</td>\n      <td>-0.249532</td>\n      <td>0.0130</td>\n      <td>0.240815</td>\n    </tr>\n    <tr>\n      <th>9</th>\n      <td>4</td>\n      <td>victor_hugo</td>\n      <td>-0.873215</td>\n      <td>-0.687792</td>\n      <td>-0.915905</td>\n      <td>-0.110353</td>\n      <td>0.605477</td>\n      <td>-0.229313</td>\n      <td>-1.652137</td>\n      <td>-1.443392</td>\n      <td>-1.459027</td>\n      <td>-0.946985</td>\n      <td>-0.781777</td>\n      <td>-0.631869</td>\n      <td>-0.938008</td>\n      <td>-0.907206</td>\n      <td>-0.515607</td>\n      <td>0.3608</td>\n      <td>0.259399</td>\n    </tr>\n    <tr>\n      <th>10</th>\n      <td>4</td>\n      <td>lucas</td>\n      <td>-0.188525</td>\n      <td>-0.198454</td>\n      <td>0.070115</td>\n      <td>-0.518227</td>\n      <td>-0.967290</td>\n      <td>0.899388</td>\n      <td>1.646066</td>\n      <td>1.346056</td>\n      <td>1.289557</td>\n      <td>0.583702</td>\n      <td>-0.284022</td>\n      <td>-0.304096</td>\n      <td>-0.286464</td>\n      <td>-0.223995</td>\n      <td>-0.507674</td>\n      <td>0.6262</td>\n      <td>0.421043</td>\n    </tr>\n    <tr>\n      <th>11</th>\n      <td>5</td>\n      <td>bianca_andrade</td>\n      <td>-0.768530</td>\n      <td>-0.559762</td>\n      <td>-0.848187</td>\n      <td>-0.185510</td>\n      <td>1.670553</td>\n      <td>-0.723994</td>\n      <td>0.199397</td>\n      <td>0.188099</td>\n      <td>-0.761184</td>\n      <td>-1.239334</td>\n      <td>-0.614915</td>\n      <td>-0.326507</td>\n      <td>-1.012357</td>\n      <td>-0.988608</td>\n      <td>-0.175484</td>\n      <td>0.5309</td>\n      <td>0.728759</td>\n    </tr>\n    <tr>\n      <th>12</th>\n      <td>5</td>\n      <td>flayslene</td>\n      <td>-0.909986</td>\n      <td>-0.702029</td>\n      <td>-0.869732</td>\n      <td>-0.735473</td>\n      <td>-0.219113</td>\n      <td>0.678109</td>\n      <td>-1.096998</td>\n      <td>-1.058464</td>\n      <td>-0.864650</td>\n      <td>-1.243134</td>\n      <td>-0.679283</td>\n      <td>-0.546313</td>\n      <td>-0.947544</td>\n      <td>-0.909884</td>\n      <td>-0.438818</td>\n      <td>0.1764</td>\n      <td>0.431781</td>\n    </tr>\n    <tr>\n      <th>13</th>\n      <td>5</td>\n      <td>felipe_prior</td>\n      <td>-0.721159</td>\n      <td>-0.509200</td>\n      <td>-0.392249</td>\n      <td>-1.215318</td>\n      <td>-1.138106</td>\n      <td>1.522992</td>\n      <td>0.633539</td>\n      <td>0.631130</td>\n      <td>1.428375</td>\n      <td>-1.172806</td>\n      <td>-0.298406</td>\n      <td>-0.228028</td>\n      <td>-0.669565</td>\n      <td>-0.596639</td>\n      <td>-0.353340</td>\n      <td>0.2927</td>\n      <td>0.538026</td>\n    </tr>\n    <tr>\n      <th>14</th>\n      <td>6</td>\n      <td>gizelly_bicalho</td>\n      <td>0.434612</td>\n      <td>-0.185530</td>\n      <td>-0.564907</td>\n      <td>2.068141</td>\n      <td>0.069345</td>\n      <td>-1.623257</td>\n      <td>-0.015991</td>\n      <td>-0.708323</td>\n      <td>-1.363187</td>\n      <td>-0.099009</td>\n      <td>-0.245451</td>\n      <td>-0.210688</td>\n      <td>0.424860</td>\n      <td>0.357122</td>\n      <td>-0.326859</td>\n      <td>0.0064</td>\n      <td>0.608692</td>\n    </tr>\n    <tr>\n      <th>15</th>\n      <td>6</td>\n      <td>guilherme</td>\n      <td>0.063684</td>\n      <td>0.096010</td>\n      <td>1.168318</td>\n      <td>-1.136143</td>\n      <td>-1.733034</td>\n      <td>1.770763</td>\n      <td>-0.659434</td>\n      <td>0.000666</td>\n      <td>0.614053</td>\n      <td>1.622033</td>\n      <td>0.080360</td>\n      <td>0.281707</td>\n      <td>0.491741</td>\n      <td>0.640307</td>\n      <td>-0.439431</td>\n      <td>0.5607</td>\n      <td>0.700599</td>\n    </tr>\n    <tr>\n      <th>16</th>\n      <td>6</td>\n      <td>pyong</td>\n      <td>0.680972</td>\n      <td>0.281757</td>\n      <td>1.113638</td>\n      <td>-0.351731</td>\n      <td>-1.376091</td>\n      <td>0.983613</td>\n      <td>0.411364</td>\n      <td>0.468422</td>\n      <td>0.551675</td>\n      <td>0.990530</td>\n      <td>0.579254</td>\n      <td>0.530577</td>\n      <td>0.592623</td>\n      <td>0.596828</td>\n      <td>0.696605</td>\n      <td>0.4329</td>\n      <td>0.519486</td>\n    </tr>\n    <tr>\n      <th>17</th>\n      <td>7</td>\n      <td>babu</td>\n      <td>-0.003353</td>\n      <td>-0.349957</td>\n      <td>-0.445220</td>\n      <td>1.131497</td>\n      <td>-0.808846</td>\n      <td>-0.448943</td>\n      <td>0.853826</td>\n      <td>0.263868</td>\n      <td>0.511804</td>\n      <td>-0.211196</td>\n      <td>-0.336560</td>\n      <td>-0.326944</td>\n      <td>0.868182</td>\n      <td>0.336514</td>\n      <td>-0.249532</td>\n      <td>0.0460</td>\n      <td>-0.327402</td>\n    </tr>\n    <tr>\n      <th>18</th>\n      <td>7</td>\n      <td>manu_gavassi</td>\n      <td>-0.220106</td>\n      <td>-0.411398</td>\n      <td>-0.701309</td>\n      <td>1.411349</td>\n      <td>0.221877</td>\n      <td>-1.198275</td>\n      <td>0.149283</td>\n      <td>-0.059748</td>\n      <td>-0.459370</td>\n      <td>-0.553305</td>\n      <td>-0.459632</td>\n      <td>-0.405356</td>\n      <td>-0.280085</td>\n      <td>-0.518659</td>\n      <td>3.174715</td>\n      <td>0.1018</td>\n      <td>-0.181732</td>\n    </tr>\n    <tr>\n      <th>19</th>\n      <td>7</td>\n      <td>victor_hugo</td>\n      <td>-0.655877</td>\n      <td>-0.484229</td>\n      <td>-0.646072</td>\n      <td>-0.411399</td>\n      <td>0.416077</td>\n      <td>0.099964</td>\n      <td>-1.267169</td>\n      <td>-0.443356</td>\n      <td>-0.249893</td>\n      <td>-0.502339</td>\n      <td>-0.640101</td>\n      <td>-0.449797</td>\n      <td>-0.266453</td>\n      <td>-0.415691</td>\n      <td>-0.515607</td>\n      <td>0.8522</td>\n      <td>0.177587</td>\n    </tr>\n    <tr>\n      <th>20</th>\n      <td>8</td>\n      <td>babu</td>\n      <td>0.386802</td>\n      <td>0.052859</td>\n      <td>0.349383</td>\n      <td>0.045487</td>\n      <td>-0.872341</td>\n      <td>0.417497</td>\n      <td>0.163890</td>\n      <td>-0.211541</td>\n      <td>-0.143010</td>\n      <td>0.395458</td>\n      <td>0.116654</td>\n      <td>0.293758</td>\n      <td>0.566324</td>\n      <td>0.406515</td>\n      <td>-0.249532</td>\n      <td>0.4771</td>\n      <td>0.259443</td>\n    </tr>\n    <tr>\n      <th>21</th>\n      <td>8</td>\n      <td>rafa</td>\n      <td>-0.247593</td>\n      <td>-0.258946</td>\n      <td>0.159415</td>\n      <td>-0.694259</td>\n      <td>-1.503798</td>\n      <td>1.312733</td>\n      <td>-1.050373</td>\n      <td>-0.961151</td>\n      <td>-0.382930</td>\n      <td>0.272414</td>\n      <td>-0.265056</td>\n      <td>-0.063242</td>\n      <td>-0.591306</td>\n      <td>-0.834966</td>\n      <td>-0.276805</td>\n      <td>0.0059</td>\n      <td>0.071181</td>\n    </tr>\n    <tr>\n      <th>22</th>\n      <td>8</td>\n      <td>pyong</td>\n      <td>0.626364</td>\n      <td>0.529128</td>\n      <td>0.722707</td>\n      <td>-0.327605</td>\n      <td>0.085083</td>\n      <td>0.207311</td>\n      <td>0.622422</td>\n      <td>0.933457</td>\n      <td>0.328480</td>\n      <td>1.201996</td>\n      <td>0.401506</td>\n      <td>0.443331</td>\n      <td>0.044624</td>\n      <td>0.039969</td>\n      <td>0.696605</td>\n      <td>0.5170</td>\n      <td>0.596188</td>\n    </tr>\n    <tr>\n      <th>23</th>\n      <td>9</td>\n      <td>daniel</td>\n      <td>0.168003</td>\n      <td>0.185306</td>\n      <td>0.215953</td>\n      <td>-0.339253</td>\n      <td>0.248905</td>\n      <td>0.131290</td>\n      <td>0.078474</td>\n      <td>0.502872</td>\n      <td>0.301897</td>\n      <td>1.273651</td>\n      <td>-0.205908</td>\n      <td>-0.028017</td>\n      <td>0.333644</td>\n      <td>0.436883</td>\n      <td>-0.498940</td>\n      <td>0.8082</td>\n      <td>0.789133</td>\n    </tr>\n    <tr>\n      <th>24</th>\n      <td>9</td>\n      <td>flayslene</td>\n      <td>0.241033</td>\n      <td>-0.108829</td>\n      <td>-0.003955</td>\n      <td>0.408376</td>\n      <td>-0.786789</td>\n      <td>0.094612</td>\n      <td>0.237791</td>\n      <td>-0.316303</td>\n      <td>-0.078278</td>\n      <td>-0.514824</td>\n      <td>0.243613</td>\n      <td>-0.001516</td>\n      <td>0.143899</td>\n      <td>0.071213</td>\n      <td>-0.438818</td>\n      <td>0.0954</td>\n      <td>0.069298</td>\n    </tr>\n    <tr>\n      <th>25</th>\n      <td>9</td>\n      <td>ivy</td>\n      <td>-0.133989</td>\n      <td>-0.148147</td>\n      <td>-0.202244</td>\n      <td>-0.090079</td>\n      <td>0.066717</td>\n      <td>0.034535</td>\n      <td>-0.580326</td>\n      <td>-0.425804</td>\n      <td>-0.421078</td>\n      <td>0.741246</td>\n      <td>-0.434529</td>\n      <td>-0.434965</td>\n      <td>-0.005817</td>\n      <td>0.002141</td>\n      <td>-0.477335</td>\n      <td>0.0964</td>\n      <td>0.491583</td>\n    </tr>\n    <tr>\n      <th>26</th>\n      <td>10</td>\n      <td>manu_gavassi</td>\n      <td>4.126502</td>\n      <td>4.126951</td>\n      <td>2.499059</td>\n      <td>-0.022912</td>\n      <td>2.191449</td>\n      <td>-1.118932</td>\n      <td>1.646092</td>\n      <td>1.430657</td>\n      <td>0.481148</td>\n      <td>1.230284</td>\n      <td>3.839114</td>\n      <td>4.259695</td>\n      <td>2.909737</td>\n      <td>2.206838</td>\n      <td>3.566858</td>\n      <td>0.4251</td>\n      <td>1.388857</td>\n    </tr>\n    <tr>\n      <th>27</th>\n      <td>10</td>\n      <td>mari</td>\n      <td>0.335557</td>\n      <td>0.015659</td>\n      <td>-0.161346</td>\n      <td>0.641051</td>\n      <td>0.176175</td>\n      <td>-0.583372</td>\n      <td>-1.476081</td>\n      <td>-1.724701</td>\n      <td>-1.333690</td>\n      <td>-0.171991</td>\n      <td>0.009522</td>\n      <td>0.173631</td>\n      <td>-0.509671</td>\n      <td>-0.617942</td>\n      <td>-0.297119</td>\n      <td>0.0076</td>\n      <td>-0.054244</td>\n    </tr>\n    <tr>\n      <th>28</th>\n      <td>10</td>\n      <td>felipe_prior</td>\n      <td>1.600765</td>\n      <td>2.334282</td>\n      <td>2.754033</td>\n      <td>-1.015666</td>\n      <td>0.890137</td>\n      <td>0.317883</td>\n      <td>-0.434072</td>\n      <td>0.054809</td>\n      <td>0.655083</td>\n      <td>2.138334</td>\n      <td>2.291893</td>\n      <td>2.289677</td>\n      <td>2.935820</td>\n      <td>3.204519</td>\n      <td>0.022182</td>\n      <td>0.5673</td>\n      <td>1.571445</td>\n    </tr>\n  </tbody>\n</table>\n</div>"
     },
     "metadata": {},
     "execution_count": 61
    }
   ],
   "source": [
    "summary_df"
   ]
  },
  {
   "cell_type": "code",
   "execution_count": null,
   "metadata": {},
   "outputs": [],
   "source": []
  }
 ]
}