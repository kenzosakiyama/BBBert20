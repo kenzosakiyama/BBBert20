{
 "nbformat": 4,
 "nbformat_minor": 2,
 "metadata": {
  "language_info": {
   "name": "python",
   "codemirror_mode": {
    "name": "ipython",
    "version": 3
   },
   "version": "3.6.9-final"
  },
  "orig_nbformat": 2,
  "file_extension": ".py",
  "mimetype": "text/x-python",
  "name": "python",
  "npconvert_exporter": "python",
  "pygments_lexer": "ipython3",
  "version": 3,
  "kernelspec": {
   "name": "python36964bitbertvirtualenv054cbb15ab924922a35a349b12e89805",
   "display_name": "Python 3.6.9 64-bit ('bert': virtualenv)"
  }
 },
 "cells": [
  {
   "cell_type": "markdown",
   "metadata": {},
   "source": [
    "# Experimentos baseados em regressão linear"
   ]
  },
  {
   "cell_type": "markdown",
   "metadata": {},
   "source": [
    "- Utilizando cada paredão como teste e avaliando com holdout."
   ]
  },
  {
   "cell_type": "code",
   "execution_count": 1,
   "metadata": {},
   "outputs": [],
   "source": [
    "import pandas as pd \n",
    "import numpy as np \n",
    "from regression_utils import *\n",
    "from sklearn.linear_model import LinearRegression"
   ]
  },
  {
   "cell_type": "code",
   "execution_count": 2,
   "metadata": {},
   "outputs": [],
   "source": [
    "NORMALIZE = True"
   ]
  },
  {
   "cell_type": "code",
   "execution_count": 3,
   "metadata": {},
   "outputs": [],
   "source": [
    "summary_df = pd.DataFrame(columns=COLUMNS)"
   ]
  },
  {
   "cell_type": "markdown",
   "metadata": {},
   "source": [
    "# Paredao 1"
   ]
  },
  {
   "cell_type": "code",
   "execution_count": 4,
   "metadata": {},
   "outputs": [],
   "source": [
    "train_df, test_df, mean, std = get_train_test(1, normalize=NORMALIZE)"
   ]
  },
  {
   "cell_type": "code",
   "execution_count": 5,
   "metadata": {},
   "outputs": [
    {
     "output_type": "execute_result",
     "data": {
      "text/plain": "   paredao            nome positivos  neutros negativos  positivos_pct  \\\n21       1  bianca_andrade -0.900023 -1.04798   -1.0553       1.657885   \n22       1    lucas_chumbo -0.850146 -0.53389 -0.509813      -0.773887   \n\n    neutros_pct  negativos_pct seguidores  rejeicao  \n21     0.816811      -1.667742 -0.0619083 -0.342686  \n22     0.407289       0.404260   -0.50566  1.391839  ",
      "text/html": "<div>\n<style scoped>\n    .dataframe tbody tr th:only-of-type {\n        vertical-align: middle;\n    }\n\n    .dataframe tbody tr th {\n        vertical-align: top;\n    }\n\n    .dataframe thead th {\n        text-align: right;\n    }\n</style>\n<table border=\"1\" class=\"dataframe\">\n  <thead>\n    <tr style=\"text-align: right;\">\n      <th></th>\n      <th>paredao</th>\n      <th>nome</th>\n      <th>positivos</th>\n      <th>neutros</th>\n      <th>negativos</th>\n      <th>positivos_pct</th>\n      <th>neutros_pct</th>\n      <th>negativos_pct</th>\n      <th>seguidores</th>\n      <th>rejeicao</th>\n    </tr>\n  </thead>\n  <tbody>\n    <tr>\n      <th>21</th>\n      <td>1</td>\n      <td>bianca_andrade</td>\n      <td>-0.900023</td>\n      <td>-1.04798</td>\n      <td>-1.0553</td>\n      <td>1.657885</td>\n      <td>0.816811</td>\n      <td>-1.667742</td>\n      <td>-0.0619083</td>\n      <td>-0.342686</td>\n    </tr>\n    <tr>\n      <th>22</th>\n      <td>1</td>\n      <td>lucas_chumbo</td>\n      <td>-0.850146</td>\n      <td>-0.53389</td>\n      <td>-0.509813</td>\n      <td>-0.773887</td>\n      <td>0.407289</td>\n      <td>0.404260</td>\n      <td>-0.50566</td>\n      <td>1.391839</td>\n    </tr>\n  </tbody>\n</table>\n</div>"
     },
     "metadata": {},
     "execution_count": 5
    }
   ],
   "source": [
    "test_df"
   ]
  },
  {
   "cell_type": "code",
   "execution_count": 6,
   "metadata": {},
   "outputs": [],
   "source": [
    "x_train, y_train = train_df.drop(columns=[\"paredao\", \"nome\", \"rejeicao\"], axis=1).to_numpy(), train_df.drop(columns=train_df.columns[:-1], axis=1).to_numpy()\n",
    "x_test, y_test = test_df.drop(columns=[\"paredao\", \"nome\", \"rejeicao\"], axis=1).to_numpy(), test_df.drop(columns=train_df.columns[:-1], axis=1).to_numpy()"
   ]
  },
  {
   "cell_type": "code",
   "execution_count": 7,
   "metadata": {},
   "outputs": [],
   "source": [
    "regressor = LinearRegression()"
   ]
  },
  {
   "cell_type": "code",
   "execution_count": 8,
   "metadata": {},
   "outputs": [],
   "source": [
    "_ = regressor.fit(x_train, y_train)"
   ]
  },
  {
   "cell_type": "code",
   "execution_count": 9,
   "metadata": {},
   "outputs": [],
   "source": [
    "prediction = regressor.predict(x_test)\n",
    "test_df[\"predicao\"] = prediction * std + mean\n",
    "test_df[\"rejeicao\"] =  test_df[\"rejeicao\"] * std + mean\n",
    "summary_df = summary_df.append(test_df, ignore_index=True, sort=False)"
   ]
  },
  {
   "cell_type": "code",
   "execution_count": 10,
   "metadata": {},
   "outputs": [
    {
     "output_type": "execute_result",
     "data": {
      "text/plain": "   paredao            nome positivos  neutros negativos  positivos_pct  \\\n22       1    lucas_chumbo -0.850146 -0.53389 -0.509813      -0.773887   \n21       1  bianca_andrade -0.900023 -1.04798   -1.0553       1.657885   \n\n    neutros_pct  negativos_pct seguidores  rejeicao  predicao  \n22     0.407289       0.404260   -0.50566    0.7594  0.458532  \n21     0.816811      -1.667742 -0.0619083    0.2446 -0.087041  ",
      "text/html": "<div>\n<style scoped>\n    .dataframe tbody tr th:only-of-type {\n        vertical-align: middle;\n    }\n\n    .dataframe tbody tr th {\n        vertical-align: top;\n    }\n\n    .dataframe thead th {\n        text-align: right;\n    }\n</style>\n<table border=\"1\" class=\"dataframe\">\n  <thead>\n    <tr style=\"text-align: right;\">\n      <th></th>\n      <th>paredao</th>\n      <th>nome</th>\n      <th>positivos</th>\n      <th>neutros</th>\n      <th>negativos</th>\n      <th>positivos_pct</th>\n      <th>neutros_pct</th>\n      <th>negativos_pct</th>\n      <th>seguidores</th>\n      <th>rejeicao</th>\n      <th>predicao</th>\n    </tr>\n  </thead>\n  <tbody>\n    <tr>\n      <th>22</th>\n      <td>1</td>\n      <td>lucas_chumbo</td>\n      <td>-0.850146</td>\n      <td>-0.53389</td>\n      <td>-0.509813</td>\n      <td>-0.773887</td>\n      <td>0.407289</td>\n      <td>0.404260</td>\n      <td>-0.50566</td>\n      <td>0.7594</td>\n      <td>0.458532</td>\n    </tr>\n    <tr>\n      <th>21</th>\n      <td>1</td>\n      <td>bianca_andrade</td>\n      <td>-0.900023</td>\n      <td>-1.04798</td>\n      <td>-1.0553</td>\n      <td>1.657885</td>\n      <td>0.816811</td>\n      <td>-1.667742</td>\n      <td>-0.0619083</td>\n      <td>0.2446</td>\n      <td>-0.087041</td>\n    </tr>\n  </tbody>\n</table>\n</div>"
     },
     "metadata": {},
     "execution_count": 10
    }
   ],
   "source": [
    "test_df.sort_values(by=\"predicao\", ascending=False)"
   ]
  },
  {
   "cell_type": "markdown",
   "metadata": {},
   "source": [
    "# Paredao 2"
   ]
  },
  {
   "cell_type": "code",
   "execution_count": 11,
   "metadata": {},
   "outputs": [
    {
     "output_type": "execute_result",
     "data": {
      "text/plain": "   paredao    nome positivos   neutros negativos  positivos_pct  neutros_pct  \\\n17       2    babu  -1.07877   -1.0647  -1.05223       0.850817     1.393069   \n18       2  petrix  0.876038    2.2864   1.95783      -1.189603     0.136132   \n19       2   pyong   1.16819 -0.122693 -0.586855       2.354321    -0.346501   \n20       2  hadson  0.441636   1.31715   1.52099      -1.172673    -0.507002   \n\n    negativos_pct seguidores  rejeicao  \n17      -1.318048  -0.163347 -1.151996  \n18       0.853930  -0.493992  1.537731  \n19      -1.653416    1.07083 -1.144583  \n20       1.146068  -0.508058 -0.539117  ",
      "text/html": "<div>\n<style scoped>\n    .dataframe tbody tr th:only-of-type {\n        vertical-align: middle;\n    }\n\n    .dataframe tbody tr th {\n        vertical-align: top;\n    }\n\n    .dataframe thead th {\n        text-align: right;\n    }\n</style>\n<table border=\"1\" class=\"dataframe\">\n  <thead>\n    <tr style=\"text-align: right;\">\n      <th></th>\n      <th>paredao</th>\n      <th>nome</th>\n      <th>positivos</th>\n      <th>neutros</th>\n      <th>negativos</th>\n      <th>positivos_pct</th>\n      <th>neutros_pct</th>\n      <th>negativos_pct</th>\n      <th>seguidores</th>\n      <th>rejeicao</th>\n    </tr>\n  </thead>\n  <tbody>\n    <tr>\n      <th>17</th>\n      <td>2</td>\n      <td>babu</td>\n      <td>-1.07877</td>\n      <td>-1.0647</td>\n      <td>-1.05223</td>\n      <td>0.850817</td>\n      <td>1.393069</td>\n      <td>-1.318048</td>\n      <td>-0.163347</td>\n      <td>-1.151996</td>\n    </tr>\n    <tr>\n      <th>18</th>\n      <td>2</td>\n      <td>petrix</td>\n      <td>0.876038</td>\n      <td>2.2864</td>\n      <td>1.95783</td>\n      <td>-1.189603</td>\n      <td>0.136132</td>\n      <td>0.853930</td>\n      <td>-0.493992</td>\n      <td>1.537731</td>\n    </tr>\n    <tr>\n      <th>19</th>\n      <td>2</td>\n      <td>pyong</td>\n      <td>1.16819</td>\n      <td>-0.122693</td>\n      <td>-0.586855</td>\n      <td>2.354321</td>\n      <td>-0.346501</td>\n      <td>-1.653416</td>\n      <td>1.07083</td>\n      <td>-1.144583</td>\n    </tr>\n    <tr>\n      <th>20</th>\n      <td>2</td>\n      <td>hadson</td>\n      <td>0.441636</td>\n      <td>1.31715</td>\n      <td>1.52099</td>\n      <td>-1.172673</td>\n      <td>-0.507002</td>\n      <td>1.146068</td>\n      <td>-0.508058</td>\n      <td>-0.539117</td>\n    </tr>\n  </tbody>\n</table>\n</div>"
     },
     "metadata": {},
     "execution_count": 11
    }
   ],
   "source": [
    "train_df, test_df, mean, std = get_train_test(2, normalize=NORMALIZE)\n",
    "test_df\n",
    ""
   ]
  },
  {
   "cell_type": "code",
   "execution_count": 12,
   "metadata": {},
   "outputs": [],
   "source": [
    "x_train, y_train = train_df.drop(columns=[\"paredao\", \"nome\", \"rejeicao\"], axis=1).to_numpy(), train_df.drop(columns=train_df.columns[:-1], axis=1).to_numpy()\n",
    "x_test, y_test = test_df.drop(columns=[\"paredao\", \"nome\", \"rejeicao\"], axis=1).to_numpy(), test_df.drop(columns=train_df.columns[:-1], axis=1).to_numpy()"
   ]
  },
  {
   "cell_type": "code",
   "execution_count": 13,
   "metadata": {},
   "outputs": [],
   "source": [
    "regressor = LinearRegression()"
   ]
  },
  {
   "cell_type": "code",
   "execution_count": 14,
   "metadata": {},
   "outputs": [],
   "source": [
    "_ = regressor.fit(x_train, y_train)\n",
    ""
   ]
  },
  {
   "cell_type": "code",
   "execution_count": 15,
   "metadata": {},
   "outputs": [],
   "source": [
    "prediction = regressor.predict(x_test)\n",
    "test_df[\"predicao\"] = prediction * std + mean\n",
    "test_df[\"rejeicao\"] =  test_df[\"rejeicao\"] * std + mean\n",
    "summary_df = summary_df.append(test_df, ignore_index=True, sort=False)"
   ]
  },
  {
   "cell_type": "code",
   "execution_count": 16,
   "metadata": {},
   "outputs": [
    {
     "output_type": "execute_result",
     "data": {
      "text/plain": "   paredao    nome positivos   neutros negativos  positivos_pct  neutros_pct  \\\n18       2  petrix  0.876038    2.2864   1.95783      -1.189603     0.136132   \n20       2  hadson  0.441636   1.31715   1.52099      -1.172673    -0.507002   \n17       2    babu  -1.07877   -1.0647  -1.05223       0.850817     1.393069   \n19       2   pyong   1.16819 -0.122693 -0.586855       2.354321    -0.346501   \n\n    negativos_pct seguidores  rejeicao  predicao  \n18       0.853930  -0.493992    0.8027  1.020956  \n20       1.146068  -0.508058    0.1863  0.772715  \n17      -1.318048  -0.163347    0.0044  0.431148  \n19      -1.653416    1.07083    0.0066 -0.202526  ",
      "text/html": "<div>\n<style scoped>\n    .dataframe tbody tr th:only-of-type {\n        vertical-align: middle;\n    }\n\n    .dataframe tbody tr th {\n        vertical-align: top;\n    }\n\n    .dataframe thead th {\n        text-align: right;\n    }\n</style>\n<table border=\"1\" class=\"dataframe\">\n  <thead>\n    <tr style=\"text-align: right;\">\n      <th></th>\n      <th>paredao</th>\n      <th>nome</th>\n      <th>positivos</th>\n      <th>neutros</th>\n      <th>negativos</th>\n      <th>positivos_pct</th>\n      <th>neutros_pct</th>\n      <th>negativos_pct</th>\n      <th>seguidores</th>\n      <th>rejeicao</th>\n      <th>predicao</th>\n    </tr>\n  </thead>\n  <tbody>\n    <tr>\n      <th>18</th>\n      <td>2</td>\n      <td>petrix</td>\n      <td>0.876038</td>\n      <td>2.2864</td>\n      <td>1.95783</td>\n      <td>-1.189603</td>\n      <td>0.136132</td>\n      <td>0.853930</td>\n      <td>-0.493992</td>\n      <td>0.8027</td>\n      <td>1.020956</td>\n    </tr>\n    <tr>\n      <th>20</th>\n      <td>2</td>\n      <td>hadson</td>\n      <td>0.441636</td>\n      <td>1.31715</td>\n      <td>1.52099</td>\n      <td>-1.172673</td>\n      <td>-0.507002</td>\n      <td>1.146068</td>\n      <td>-0.508058</td>\n      <td>0.1863</td>\n      <td>0.772715</td>\n    </tr>\n    <tr>\n      <th>17</th>\n      <td>2</td>\n      <td>babu</td>\n      <td>-1.07877</td>\n      <td>-1.0647</td>\n      <td>-1.05223</td>\n      <td>0.850817</td>\n      <td>1.393069</td>\n      <td>-1.318048</td>\n      <td>-0.163347</td>\n      <td>0.0044</td>\n      <td>0.431148</td>\n    </tr>\n    <tr>\n      <th>19</th>\n      <td>2</td>\n      <td>pyong</td>\n      <td>1.16819</td>\n      <td>-0.122693</td>\n      <td>-0.586855</td>\n      <td>2.354321</td>\n      <td>-0.346501</td>\n      <td>-1.653416</td>\n      <td>1.07083</td>\n      <td>0.0066</td>\n      <td>-0.202526</td>\n    </tr>\n  </tbody>\n</table>\n</div>"
     },
     "metadata": {},
     "execution_count": 16
    }
   ],
   "source": [
    "test_df.sort_values(by=\"predicao\", ascending=False)"
   ]
  },
  {
   "cell_type": "markdown",
   "metadata": {},
   "source": [
    "# Paredao 3"
   ]
  },
  {
   "cell_type": "code",
   "execution_count": 17,
   "metadata": {},
   "outputs": [
    {
     "output_type": "execute_result",
     "data": {
      "text/plain": "   paredao          nome positivos  neutros negativos  positivos_pct  \\\n9        3  felipe_prior   -1.2174 -1.18865  -1.06801       0.588933   \n10       3        hadson  -1.28427 -1.07587  -1.04378      -0.375359   \n\n    neutros_pct  negativos_pct seguidores  rejeicao  \n9      0.772922      -0.821538  -0.303773 -0.483186  \n10     2.249568      -0.777741  -0.508058  1.518863  ",
      "text/html": "<div>\n<style scoped>\n    .dataframe tbody tr th:only-of-type {\n        vertical-align: middle;\n    }\n\n    .dataframe tbody tr th {\n        vertical-align: top;\n    }\n\n    .dataframe thead th {\n        text-align: right;\n    }\n</style>\n<table border=\"1\" class=\"dataframe\">\n  <thead>\n    <tr style=\"text-align: right;\">\n      <th></th>\n      <th>paredao</th>\n      <th>nome</th>\n      <th>positivos</th>\n      <th>neutros</th>\n      <th>negativos</th>\n      <th>positivos_pct</th>\n      <th>neutros_pct</th>\n      <th>negativos_pct</th>\n      <th>seguidores</th>\n      <th>rejeicao</th>\n    </tr>\n  </thead>\n  <tbody>\n    <tr>\n      <th>9</th>\n      <td>3</td>\n      <td>felipe_prior</td>\n      <td>-1.2174</td>\n      <td>-1.18865</td>\n      <td>-1.06801</td>\n      <td>0.588933</td>\n      <td>0.772922</td>\n      <td>-0.821538</td>\n      <td>-0.303773</td>\n      <td>-0.483186</td>\n    </tr>\n    <tr>\n      <th>10</th>\n      <td>3</td>\n      <td>hadson</td>\n      <td>-1.28427</td>\n      <td>-1.07587</td>\n      <td>-1.04378</td>\n      <td>-0.375359</td>\n      <td>2.249568</td>\n      <td>-0.777741</td>\n      <td>-0.508058</td>\n      <td>1.518863</td>\n    </tr>\n  </tbody>\n</table>\n</div>"
     },
     "metadata": {},
     "execution_count": 17
    }
   ],
   "source": [
    "train_df, test_df, mean, std = get_train_test(3, normalize=NORMALIZE)\n",
    "test_df\n",
    ""
   ]
  },
  {
   "cell_type": "code",
   "execution_count": 18,
   "metadata": {},
   "outputs": [],
   "source": [
    "x_train, y_train = train_df.drop(columns=[\"paredao\", \"nome\", \"rejeicao\"], axis=1).to_numpy(), train_df.drop(columns=train_df.columns[:-1], axis=1).to_numpy()\n",
    "x_test, y_test = test_df.drop(columns=[\"paredao\", \"nome\", \"rejeicao\"], axis=1).to_numpy(), test_df.drop(columns=train_df.columns[:-1], axis=1).to_numpy()"
   ]
  },
  {
   "cell_type": "code",
   "execution_count": 19,
   "metadata": {},
   "outputs": [],
   "source": [
    "regressor = LinearRegression()"
   ]
  },
  {
   "cell_type": "code",
   "execution_count": 20,
   "metadata": {},
   "outputs": [],
   "source": [
    "_ = regressor.fit(x_train, y_train)"
   ]
  },
  {
   "cell_type": "code",
   "execution_count": 21,
   "metadata": {},
   "outputs": [],
   "source": [
    "prediction = regressor.predict(x_test)\n",
    "test_df[\"predicao\"] = prediction * std + mean\n",
    "test_df[\"rejeicao\"] =  test_df[\"rejeicao\"] * std + mean\n",
    "summary_df = summary_df.append(test_df, ignore_index=True, sort=False)"
   ]
  },
  {
   "cell_type": "code",
   "execution_count": 22,
   "metadata": {},
   "outputs": [
    {
     "output_type": "execute_result",
     "data": {
      "text/plain": "   paredao          nome positivos  neutros negativos  positivos_pct  \\\n10       3        hadson  -1.28427 -1.07587  -1.04378      -0.375359   \n9        3  felipe_prior   -1.2174 -1.18865  -1.06801       0.588933   \n\n    neutros_pct  negativos_pct seguidores  rejeicao  predicao  \n10     2.249568      -0.777741  -0.508058    0.7971  0.706575  \n9      0.772922      -0.821538  -0.303773    0.2029  0.224603  ",
      "text/html": "<div>\n<style scoped>\n    .dataframe tbody tr th:only-of-type {\n        vertical-align: middle;\n    }\n\n    .dataframe tbody tr th {\n        vertical-align: top;\n    }\n\n    .dataframe thead th {\n        text-align: right;\n    }\n</style>\n<table border=\"1\" class=\"dataframe\">\n  <thead>\n    <tr style=\"text-align: right;\">\n      <th></th>\n      <th>paredao</th>\n      <th>nome</th>\n      <th>positivos</th>\n      <th>neutros</th>\n      <th>negativos</th>\n      <th>positivos_pct</th>\n      <th>neutros_pct</th>\n      <th>negativos_pct</th>\n      <th>seguidores</th>\n      <th>rejeicao</th>\n      <th>predicao</th>\n    </tr>\n  </thead>\n  <tbody>\n    <tr>\n      <th>10</th>\n      <td>3</td>\n      <td>hadson</td>\n      <td>-1.28427</td>\n      <td>-1.07587</td>\n      <td>-1.04378</td>\n      <td>-0.375359</td>\n      <td>2.249568</td>\n      <td>-0.777741</td>\n      <td>-0.508058</td>\n      <td>0.7971</td>\n      <td>0.706575</td>\n    </tr>\n    <tr>\n      <th>9</th>\n      <td>3</td>\n      <td>felipe_prior</td>\n      <td>-1.2174</td>\n      <td>-1.18865</td>\n      <td>-1.06801</td>\n      <td>0.588933</td>\n      <td>0.772922</td>\n      <td>-0.821538</td>\n      <td>-0.303773</td>\n      <td>0.2029</td>\n      <td>0.224603</td>\n    </tr>\n  </tbody>\n</table>\n</div>"
     },
     "metadata": {},
     "execution_count": 22
    }
   ],
   "source": [
    "test_df.sort_values(by=\"predicao\", ascending=False)"
   ]
  },
  {
   "cell_type": "markdown",
   "metadata": {},
   "source": [
    "# Paredao 4"
   ]
  },
  {
   "cell_type": "code",
   "execution_count": 23,
   "metadata": {},
   "outputs": [
    {
     "output_type": "execute_result",
     "data": {
      "text/plain": "   paredao         nome  positivos   neutros negativos  positivos_pct  \\\n23       4         babu  -0.668193 -0.532228  -0.28504      -0.668861   \n24       4  victor_hugo   -1.21976  -1.10986 -0.992964      -0.121918   \n25       4        lucas  0.0851142  0.128164  0.366743      -0.517700   \n\n    neutros_pct  negativos_pct seguidores  rejeicao  \n23    -0.770937       0.882312  -0.163347 -1.123020  \n24     0.779612      -0.275840  -0.502995  0.048829  \n25    -0.898261       0.826018  -0.493313  0.943046  ",
      "text/html": "<div>\n<style scoped>\n    .dataframe tbody tr th:only-of-type {\n        vertical-align: middle;\n    }\n\n    .dataframe tbody tr th {\n        vertical-align: top;\n    }\n\n    .dataframe thead th {\n        text-align: right;\n    }\n</style>\n<table border=\"1\" class=\"dataframe\">\n  <thead>\n    <tr style=\"text-align: right;\">\n      <th></th>\n      <th>paredao</th>\n      <th>nome</th>\n      <th>positivos</th>\n      <th>neutros</th>\n      <th>negativos</th>\n      <th>positivos_pct</th>\n      <th>neutros_pct</th>\n      <th>negativos_pct</th>\n      <th>seguidores</th>\n      <th>rejeicao</th>\n    </tr>\n  </thead>\n  <tbody>\n    <tr>\n      <th>23</th>\n      <td>4</td>\n      <td>babu</td>\n      <td>-0.668193</td>\n      <td>-0.532228</td>\n      <td>-0.28504</td>\n      <td>-0.668861</td>\n      <td>-0.770937</td>\n      <td>0.882312</td>\n      <td>-0.163347</td>\n      <td>-1.123020</td>\n    </tr>\n    <tr>\n      <th>24</th>\n      <td>4</td>\n      <td>victor_hugo</td>\n      <td>-1.21976</td>\n      <td>-1.10986</td>\n      <td>-0.992964</td>\n      <td>-0.121918</td>\n      <td>0.779612</td>\n      <td>-0.275840</td>\n      <td>-0.502995</td>\n      <td>0.048829</td>\n    </tr>\n    <tr>\n      <th>25</th>\n      <td>4</td>\n      <td>lucas</td>\n      <td>0.0851142</td>\n      <td>0.128164</td>\n      <td>0.366743</td>\n      <td>-0.517700</td>\n      <td>-0.898261</td>\n      <td>0.826018</td>\n      <td>-0.493313</td>\n      <td>0.943046</td>\n    </tr>\n  </tbody>\n</table>\n</div>"
     },
     "metadata": {},
     "execution_count": 23
    }
   ],
   "source": [
    "train_df, test_df, mean, std = get_train_test(4, normalize=NORMALIZE)\n",
    "test_df\n",
    ""
   ]
  },
  {
   "cell_type": "code",
   "execution_count": 24,
   "metadata": {},
   "outputs": [],
   "source": [
    "x_train, y_train = train_df.drop(columns=[\"paredao\", \"nome\", \"rejeicao\"], axis=1).to_numpy(), train_df.drop(columns=train_df.columns[:-1], axis=1).to_numpy()\n",
    "x_test, y_test = test_df.drop(columns=[\"paredao\", \"nome\", \"rejeicao\"], axis=1).to_numpy(), test_df.drop(columns=train_df.columns[:-1], axis=1).to_numpy()"
   ]
  },
  {
   "cell_type": "code",
   "execution_count": 25,
   "metadata": {},
   "outputs": [],
   "source": [
    "regressor = LinearRegression()"
   ]
  },
  {
   "cell_type": "code",
   "execution_count": 26,
   "metadata": {},
   "outputs": [],
   "source": [
    "_ = regressor.fit(x_train, y_train)\n",
    ""
   ]
  },
  {
   "cell_type": "code",
   "execution_count": 27,
   "metadata": {},
   "outputs": [],
   "source": [
    "prediction = regressor.predict(x_test)\n",
    "test_df[\"predicao\"] = prediction * std + mean\n",
    "test_df[\"rejeicao\"] =  test_df[\"rejeicao\"] * std + mean\n",
    "summary_df = summary_df.append(test_df, ignore_index=True, sort=False)"
   ]
  },
  {
   "cell_type": "code",
   "execution_count": 28,
   "metadata": {},
   "outputs": [
    {
     "output_type": "execute_result",
     "data": {
      "text/plain": "   paredao         nome  positivos   neutros negativos  positivos_pct  \\\n24       4  victor_hugo   -1.21976  -1.10986 -0.992964      -0.121918   \n25       4        lucas  0.0851142  0.128164  0.366743      -0.517700   \n23       4         babu  -0.668193 -0.532228  -0.28504      -0.668861   \n\n    neutros_pct  negativos_pct seguidores  rejeicao  predicao  \n24     0.779612      -0.275840  -0.502995    0.3608  0.387390  \n25    -0.898261       0.826018  -0.493313    0.6262  0.294887  \n23    -0.770937       0.882312  -0.163347    0.0130  0.250756  ",
      "text/html": "<div>\n<style scoped>\n    .dataframe tbody tr th:only-of-type {\n        vertical-align: middle;\n    }\n\n    .dataframe tbody tr th {\n        vertical-align: top;\n    }\n\n    .dataframe thead th {\n        text-align: right;\n    }\n</style>\n<table border=\"1\" class=\"dataframe\">\n  <thead>\n    <tr style=\"text-align: right;\">\n      <th></th>\n      <th>paredao</th>\n      <th>nome</th>\n      <th>positivos</th>\n      <th>neutros</th>\n      <th>negativos</th>\n      <th>positivos_pct</th>\n      <th>neutros_pct</th>\n      <th>negativos_pct</th>\n      <th>seguidores</th>\n      <th>rejeicao</th>\n      <th>predicao</th>\n    </tr>\n  </thead>\n  <tbody>\n    <tr>\n      <th>24</th>\n      <td>4</td>\n      <td>victor_hugo</td>\n      <td>-1.21976</td>\n      <td>-1.10986</td>\n      <td>-0.992964</td>\n      <td>-0.121918</td>\n      <td>0.779612</td>\n      <td>-0.275840</td>\n      <td>-0.502995</td>\n      <td>0.3608</td>\n      <td>0.387390</td>\n    </tr>\n    <tr>\n      <th>25</th>\n      <td>4</td>\n      <td>lucas</td>\n      <td>0.0851142</td>\n      <td>0.128164</td>\n      <td>0.366743</td>\n      <td>-0.517700</td>\n      <td>-0.898261</td>\n      <td>0.826018</td>\n      <td>-0.493313</td>\n      <td>0.6262</td>\n      <td>0.294887</td>\n    </tr>\n    <tr>\n      <th>23</th>\n      <td>4</td>\n      <td>babu</td>\n      <td>-0.668193</td>\n      <td>-0.532228</td>\n      <td>-0.28504</td>\n      <td>-0.668861</td>\n      <td>-0.770937</td>\n      <td>0.882312</td>\n      <td>-0.163347</td>\n      <td>0.0130</td>\n      <td>0.250756</td>\n    </tr>\n  </tbody>\n</table>\n</div>"
     },
     "metadata": {},
     "execution_count": 28
    }
   ],
   "source": [
    "test_df.sort_values(by=\"predicao\", ascending=False)"
   ]
  },
  {
   "cell_type": "markdown",
   "metadata": {},
   "source": [
    "# Paredao 5"
   ]
  },
  {
   "cell_type": "code",
   "execution_count": 29,
   "metadata": {},
   "outputs": [
    {
     "output_type": "execute_result",
     "data": {
      "text/plain": "  paredao            nome positivos   neutros negativos  positivos_pct  \\\n3       5  bianca_andrade  -1.02026 -0.785947 -0.899582      -0.194847   \n4       5       flayslene  -1.28984  -1.14588 -0.929292      -0.728506   \n5       5    felipe_prior -0.929976 -0.658025  -0.27085      -1.194126   \n\n   neutros_pct  negativos_pct seguidores  rejeicao  \n3     1.915866      -0.758757 -0.0619083  0.621950  \n4    -0.100085       0.610002   -0.40717 -0.572473  \n5    -1.080492       1.434791  -0.303773 -0.180621  ",
      "text/html": "<div>\n<style scoped>\n    .dataframe tbody tr th:only-of-type {\n        vertical-align: middle;\n    }\n\n    .dataframe tbody tr th {\n        vertical-align: top;\n    }\n\n    .dataframe thead th {\n        text-align: right;\n    }\n</style>\n<table border=\"1\" class=\"dataframe\">\n  <thead>\n    <tr style=\"text-align: right;\">\n      <th></th>\n      <th>paredao</th>\n      <th>nome</th>\n      <th>positivos</th>\n      <th>neutros</th>\n      <th>negativos</th>\n      <th>positivos_pct</th>\n      <th>neutros_pct</th>\n      <th>negativos_pct</th>\n      <th>seguidores</th>\n      <th>rejeicao</th>\n    </tr>\n  </thead>\n  <tbody>\n    <tr>\n      <th>3</th>\n      <td>5</td>\n      <td>bianca_andrade</td>\n      <td>-1.02026</td>\n      <td>-0.785947</td>\n      <td>-0.899582</td>\n      <td>-0.194847</td>\n      <td>1.915866</td>\n      <td>-0.758757</td>\n      <td>-0.0619083</td>\n      <td>0.621950</td>\n    </tr>\n    <tr>\n      <th>4</th>\n      <td>5</td>\n      <td>flayslene</td>\n      <td>-1.28984</td>\n      <td>-1.14588</td>\n      <td>-0.929292</td>\n      <td>-0.728506</td>\n      <td>-0.100085</td>\n      <td>0.610002</td>\n      <td>-0.40717</td>\n      <td>-0.572473</td>\n    </tr>\n    <tr>\n      <th>5</th>\n      <td>5</td>\n      <td>felipe_prior</td>\n      <td>-0.929976</td>\n      <td>-0.658025</td>\n      <td>-0.27085</td>\n      <td>-1.194126</td>\n      <td>-1.080492</td>\n      <td>1.434791</td>\n      <td>-0.303773</td>\n      <td>-0.180621</td>\n    </tr>\n  </tbody>\n</table>\n</div>"
     },
     "metadata": {},
     "execution_count": 29
    }
   ],
   "source": [
    "train_df, test_df, mean, std = get_train_test(5, normalize=NORMALIZE)\n",
    "test_df\n",
    ""
   ]
  },
  {
   "cell_type": "code",
   "execution_count": 30,
   "metadata": {},
   "outputs": [],
   "source": [
    "x_train, y_train = train_df.drop(columns=[\"paredao\", \"nome\", \"rejeicao\"], axis=1).to_numpy(), train_df.drop(columns=train_df.columns[:-1], axis=1).to_numpy()\n",
    "x_test, y_test = test_df.drop(columns=[\"paredao\", \"nome\", \"rejeicao\"], axis=1).to_numpy(), test_df.drop(columns=train_df.columns[:-1], axis=1).to_numpy()"
   ]
  },
  {
   "cell_type": "code",
   "execution_count": 31,
   "metadata": {},
   "outputs": [],
   "source": [
    "regressor = LinearRegression()"
   ]
  },
  {
   "cell_type": "code",
   "execution_count": 32,
   "metadata": {},
   "outputs": [],
   "source": [
    "_ = regressor.fit(x_train, y_train)\n",
    ""
   ]
  },
  {
   "cell_type": "code",
   "execution_count": 33,
   "metadata": {},
   "outputs": [],
   "source": [
    "prediction = regressor.predict(x_test)\n",
    "test_df[\"predicao\"] = prediction * std + mean\n",
    "test_df[\"rejeicao\"] =  test_df[\"rejeicao\"] * std + mean\n",
    "summary_df = summary_df.append(test_df, ignore_index=True, sort=False)"
   ]
  },
  {
   "cell_type": "code",
   "execution_count": 34,
   "metadata": {},
   "outputs": [
    {
     "output_type": "execute_result",
     "data": {
      "text/plain": "  paredao            nome positivos   neutros negativos  positivos_pct  \\\n3       5  bianca_andrade  -1.02026 -0.785947 -0.899582      -0.194847   \n4       5       flayslene  -1.28984  -1.14588 -0.929292      -0.728506   \n5       5    felipe_prior -0.929976 -0.658025  -0.27085      -1.194126   \n\n   neutros_pct  negativos_pct seguidores  rejeicao  predicao  \n3     1.915866      -0.758757 -0.0619083    0.5309  0.698940  \n4    -0.100085       0.610002   -0.40717    0.1764  0.351224  \n5    -1.080492       1.434791  -0.303773    0.2927  0.286824  ",
      "text/html": "<div>\n<style scoped>\n    .dataframe tbody tr th:only-of-type {\n        vertical-align: middle;\n    }\n\n    .dataframe tbody tr th {\n        vertical-align: top;\n    }\n\n    .dataframe thead th {\n        text-align: right;\n    }\n</style>\n<table border=\"1\" class=\"dataframe\">\n  <thead>\n    <tr style=\"text-align: right;\">\n      <th></th>\n      <th>paredao</th>\n      <th>nome</th>\n      <th>positivos</th>\n      <th>neutros</th>\n      <th>negativos</th>\n      <th>positivos_pct</th>\n      <th>neutros_pct</th>\n      <th>negativos_pct</th>\n      <th>seguidores</th>\n      <th>rejeicao</th>\n      <th>predicao</th>\n    </tr>\n  </thead>\n  <tbody>\n    <tr>\n      <th>3</th>\n      <td>5</td>\n      <td>bianca_andrade</td>\n      <td>-1.02026</td>\n      <td>-0.785947</td>\n      <td>-0.899582</td>\n      <td>-0.194847</td>\n      <td>1.915866</td>\n      <td>-0.758757</td>\n      <td>-0.0619083</td>\n      <td>0.5309</td>\n      <td>0.698940</td>\n    </tr>\n    <tr>\n      <th>4</th>\n      <td>5</td>\n      <td>flayslene</td>\n      <td>-1.28984</td>\n      <td>-1.14588</td>\n      <td>-0.929292</td>\n      <td>-0.728506</td>\n      <td>-0.100085</td>\n      <td>0.610002</td>\n      <td>-0.40717</td>\n      <td>0.1764</td>\n      <td>0.351224</td>\n    </tr>\n    <tr>\n      <th>5</th>\n      <td>5</td>\n      <td>felipe_prior</td>\n      <td>-0.929976</td>\n      <td>-0.658025</td>\n      <td>-0.27085</td>\n      <td>-1.194126</td>\n      <td>-1.080492</td>\n      <td>1.434791</td>\n      <td>-0.303773</td>\n      <td>0.2927</td>\n      <td>0.286824</td>\n    </tr>\n  </tbody>\n</table>\n</div>"
     },
     "metadata": {},
     "execution_count": 34
    }
   ],
   "source": [
    "test_df.sort_values(by=\"predicao\", ascending=False)"
   ]
  },
  {
   "cell_type": "markdown",
   "metadata": {},
   "source": [
    "# Paredao 6"
   ]
  },
  {
   "cell_type": "code",
   "execution_count": 35,
   "metadata": {},
   "outputs": [
    {
     "output_type": "execute_result",
     "data": {
      "text/plain": "  paredao             nome positivos   neutros negativos  positivos_pct  \\\n0       6  gizelly_bicalho   1.27268   0.16086 -0.508942       1.991995   \n1       6        guilherme  0.565771  0.873159   1.88115      -1.117298   \n2       6            pyong   1.74219    1.3431   1.80575      -0.356140   \n\n   neutros_pct  negativos_pct seguidores  rejeicao  \n0     0.207651      -1.636633  -0.258618 -1.145257  \n1    -1.715178       1.676671  -0.405454  0.722356  \n2    -1.334381       0.908240    1.07083  0.291757  ",
      "text/html": "<div>\n<style scoped>\n    .dataframe tbody tr th:only-of-type {\n        vertical-align: middle;\n    }\n\n    .dataframe tbody tr th {\n        vertical-align: top;\n    }\n\n    .dataframe thead th {\n        text-align: right;\n    }\n</style>\n<table border=\"1\" class=\"dataframe\">\n  <thead>\n    <tr style=\"text-align: right;\">\n      <th></th>\n      <th>paredao</th>\n      <th>nome</th>\n      <th>positivos</th>\n      <th>neutros</th>\n      <th>negativos</th>\n      <th>positivos_pct</th>\n      <th>neutros_pct</th>\n      <th>negativos_pct</th>\n      <th>seguidores</th>\n      <th>rejeicao</th>\n    </tr>\n  </thead>\n  <tbody>\n    <tr>\n      <th>0</th>\n      <td>6</td>\n      <td>gizelly_bicalho</td>\n      <td>1.27268</td>\n      <td>0.16086</td>\n      <td>-0.508942</td>\n      <td>1.991995</td>\n      <td>0.207651</td>\n      <td>-1.636633</td>\n      <td>-0.258618</td>\n      <td>-1.145257</td>\n    </tr>\n    <tr>\n      <th>1</th>\n      <td>6</td>\n      <td>guilherme</td>\n      <td>0.565771</td>\n      <td>0.873159</td>\n      <td>1.88115</td>\n      <td>-1.117298</td>\n      <td>-1.715178</td>\n      <td>1.676671</td>\n      <td>-0.405454</td>\n      <td>0.722356</td>\n    </tr>\n    <tr>\n      <th>2</th>\n      <td>6</td>\n      <td>pyong</td>\n      <td>1.74219</td>\n      <td>1.3431</td>\n      <td>1.80575</td>\n      <td>-0.356140</td>\n      <td>-1.334381</td>\n      <td>0.908240</td>\n      <td>1.07083</td>\n      <td>0.291757</td>\n    </tr>\n  </tbody>\n</table>\n</div>"
     },
     "metadata": {},
     "execution_count": 35
    }
   ],
   "source": [
    "train_df, test_df, mean, std = get_train_test(6, normalize=NORMALIZE)\n",
    "test_df\n",
    ""
   ]
  },
  {
   "cell_type": "code",
   "execution_count": 36,
   "metadata": {},
   "outputs": [],
   "source": [
    "x_train, y_train = train_df.drop(columns=[\"paredao\", \"nome\", \"rejeicao\"], axis=1).to_numpy(), train_df.drop(columns=train_df.columns[:-1], axis=1).to_numpy()\n",
    "x_test, y_test = test_df.drop(columns=[\"paredao\", \"nome\", \"rejeicao\"], axis=1).to_numpy(), test_df.drop(columns=train_df.columns[:-1], axis=1).to_numpy()"
   ]
  },
  {
   "cell_type": "code",
   "execution_count": 37,
   "metadata": {},
   "outputs": [],
   "source": [
    "regressor = LinearRegression()"
   ]
  },
  {
   "cell_type": "code",
   "execution_count": 38,
   "metadata": {},
   "outputs": [],
   "source": [
    "_ = regressor.fit(x_train, y_train)\n",
    ""
   ]
  },
  {
   "cell_type": "code",
   "execution_count": 39,
   "metadata": {},
   "outputs": [],
   "source": [
    "prediction = regressor.predict(x_test)\n",
    "test_df[\"predicao\"] = prediction * std + mean\n",
    "test_df[\"rejeicao\"] =  test_df[\"rejeicao\"] * std + mean\n",
    "summary_df = summary_df.append(test_df, ignore_index=True, sort=False)"
   ]
  },
  {
   "cell_type": "code",
   "execution_count": 40,
   "metadata": {},
   "outputs": [
    {
     "output_type": "execute_result",
     "data": {
      "text/plain": "  paredao             nome positivos   neutros negativos  positivos_pct  \\\n0       6  gizelly_bicalho   1.27268   0.16086 -0.508942       1.991995   \n2       6            pyong   1.74219    1.3431   1.80575      -0.356140   \n1       6        guilherme  0.565771  0.873159   1.88115      -1.117298   \n\n   neutros_pct  negativos_pct seguidores  rejeicao  predicao  \n0     0.207651      -1.636633  -0.258618    0.0064  0.312527  \n2    -1.334381       0.908240    1.07083    0.4329  0.053287  \n1    -1.715178       1.676671  -0.405454    0.5607 -0.080709  ",
      "text/html": "<div>\n<style scoped>\n    .dataframe tbody tr th:only-of-type {\n        vertical-align: middle;\n    }\n\n    .dataframe tbody tr th {\n        vertical-align: top;\n    }\n\n    .dataframe thead th {\n        text-align: right;\n    }\n</style>\n<table border=\"1\" class=\"dataframe\">\n  <thead>\n    <tr style=\"text-align: right;\">\n      <th></th>\n      <th>paredao</th>\n      <th>nome</th>\n      <th>positivos</th>\n      <th>neutros</th>\n      <th>negativos</th>\n      <th>positivos_pct</th>\n      <th>neutros_pct</th>\n      <th>negativos_pct</th>\n      <th>seguidores</th>\n      <th>rejeicao</th>\n      <th>predicao</th>\n    </tr>\n  </thead>\n  <tbody>\n    <tr>\n      <th>0</th>\n      <td>6</td>\n      <td>gizelly_bicalho</td>\n      <td>1.27268</td>\n      <td>0.16086</td>\n      <td>-0.508942</td>\n      <td>1.991995</td>\n      <td>0.207651</td>\n      <td>-1.636633</td>\n      <td>-0.258618</td>\n      <td>0.0064</td>\n      <td>0.312527</td>\n    </tr>\n    <tr>\n      <th>2</th>\n      <td>6</td>\n      <td>pyong</td>\n      <td>1.74219</td>\n      <td>1.3431</td>\n      <td>1.80575</td>\n      <td>-0.356140</td>\n      <td>-1.334381</td>\n      <td>0.908240</td>\n      <td>1.07083</td>\n      <td>0.4329</td>\n      <td>0.053287</td>\n    </tr>\n    <tr>\n      <th>1</th>\n      <td>6</td>\n      <td>guilherme</td>\n      <td>0.565771</td>\n      <td>0.873159</td>\n      <td>1.88115</td>\n      <td>-1.117298</td>\n      <td>-1.715178</td>\n      <td>1.676671</td>\n      <td>-0.405454</td>\n      <td>0.5607</td>\n      <td>-0.080709</td>\n    </tr>\n  </tbody>\n</table>\n</div>"
     },
     "metadata": {},
     "execution_count": 40
    }
   ],
   "source": [
    "test_df.sort_values(by=\"predicao\", ascending=False)"
   ]
  },
  {
   "cell_type": "markdown",
   "metadata": {},
   "source": [
    "# Paredao 7"
   ]
  },
  {
   "cell_type": "code",
   "execution_count": 41,
   "metadata": {},
   "outputs": [
    {
     "output_type": "execute_result",
     "data": {
      "text/plain": "  paredao          nome  positivos   neutros negativos  positivos_pct  \\\n6       7          babu   0.438014 -0.255141 -0.343897       1.083118   \n7       7  manu_gavassi  0.0249277 -0.410587 -0.697039       1.354673   \n8       7   victor_hugo  -0.805563  -0.59485 -0.620868      -0.414039   \n\n   neutros_pct  negativos_pct seguidores  rejeicao  \n6    -0.729228      -0.490247  -0.163347 -1.011832  \n7     0.370376      -1.221758    4.29651 -0.823824  \n8     0.577555       0.045606  -0.502995  1.704512  ",
      "text/html": "<div>\n<style scoped>\n    .dataframe tbody tr th:only-of-type {\n        vertical-align: middle;\n    }\n\n    .dataframe tbody tr th {\n        vertical-align: top;\n    }\n\n    .dataframe thead th {\n        text-align: right;\n    }\n</style>\n<table border=\"1\" class=\"dataframe\">\n  <thead>\n    <tr style=\"text-align: right;\">\n      <th></th>\n      <th>paredao</th>\n      <th>nome</th>\n      <th>positivos</th>\n      <th>neutros</th>\n      <th>negativos</th>\n      <th>positivos_pct</th>\n      <th>neutros_pct</th>\n      <th>negativos_pct</th>\n      <th>seguidores</th>\n      <th>rejeicao</th>\n    </tr>\n  </thead>\n  <tbody>\n    <tr>\n      <th>6</th>\n      <td>7</td>\n      <td>babu</td>\n      <td>0.438014</td>\n      <td>-0.255141</td>\n      <td>-0.343897</td>\n      <td>1.083118</td>\n      <td>-0.729228</td>\n      <td>-0.490247</td>\n      <td>-0.163347</td>\n      <td>-1.011832</td>\n    </tr>\n    <tr>\n      <th>7</th>\n      <td>7</td>\n      <td>manu_gavassi</td>\n      <td>0.0249277</td>\n      <td>-0.410587</td>\n      <td>-0.697039</td>\n      <td>1.354673</td>\n      <td>0.370376</td>\n      <td>-1.221758</td>\n      <td>4.29651</td>\n      <td>-0.823824</td>\n    </tr>\n    <tr>\n      <th>8</th>\n      <td>7</td>\n      <td>victor_hugo</td>\n      <td>-0.805563</td>\n      <td>-0.59485</td>\n      <td>-0.620868</td>\n      <td>-0.414039</td>\n      <td>0.577555</td>\n      <td>0.045606</td>\n      <td>-0.502995</td>\n      <td>1.704512</td>\n    </tr>\n  </tbody>\n</table>\n</div>"
     },
     "metadata": {},
     "execution_count": 41
    }
   ],
   "source": [
    "train_df, test_df, mean, std = get_train_test(7, normalize=NORMALIZE)\n",
    "test_df\n",
    ""
   ]
  },
  {
   "cell_type": "code",
   "execution_count": 42,
   "metadata": {},
   "outputs": [],
   "source": [
    "x_train, y_train = train_df.drop(columns=[\"paredao\", \"nome\", \"rejeicao\"], axis=1).to_numpy(), train_df.drop(columns=train_df.columns[:-1], axis=1).to_numpy()\n",
    "x_test, y_test = test_df.drop(columns=[\"paredao\", \"nome\", \"rejeicao\"], axis=1).to_numpy(), test_df.drop(columns=train_df.columns[:-1], axis=1).to_numpy()"
   ]
  },
  {
   "cell_type": "code",
   "execution_count": 43,
   "metadata": {},
   "outputs": [],
   "source": [
    "regressor = LinearRegression()"
   ]
  },
  {
   "cell_type": "code",
   "execution_count": 44,
   "metadata": {},
   "outputs": [],
   "source": [
    "_ = regressor.fit(x_train, y_train)\n",
    "prediction = regressor.predict(x_test)\n",
    "test_df[\"predicao\"] = prediction * std + mean\n",
    "test_df[\"rejeicao\"] =  test_df[\"rejeicao\"] * std + mean\n",
    "summary_df = summary_df.append(test_df, ignore_index=True, sort=False)"
   ]
  },
  {
   "cell_type": "code",
   "execution_count": 45,
   "metadata": {},
   "outputs": [
    {
     "output_type": "execute_result",
     "data": {
      "text/plain": "  paredao          nome  positivos   neutros negativos  positivos_pct  \\\n8       7   victor_hugo  -0.805563  -0.59485 -0.620868      -0.414039   \n6       7          babu   0.438014 -0.255141 -0.343897       1.083118   \n7       7  manu_gavassi  0.0249277 -0.410587 -0.697039       1.354673   \n\n   neutros_pct  negativos_pct seguidores  rejeicao  predicao  \n8     0.577555       0.045606  -0.502995    0.8522  0.404870  \n6    -0.729228      -0.490247  -0.163347    0.0460  0.022360  \n7     0.370376      -1.221758    4.29651    0.1018 -0.117208  ",
      "text/html": "<div>\n<style scoped>\n    .dataframe tbody tr th:only-of-type {\n        vertical-align: middle;\n    }\n\n    .dataframe tbody tr th {\n        vertical-align: top;\n    }\n\n    .dataframe thead th {\n        text-align: right;\n    }\n</style>\n<table border=\"1\" class=\"dataframe\">\n  <thead>\n    <tr style=\"text-align: right;\">\n      <th></th>\n      <th>paredao</th>\n      <th>nome</th>\n      <th>positivos</th>\n      <th>neutros</th>\n      <th>negativos</th>\n      <th>positivos_pct</th>\n      <th>neutros_pct</th>\n      <th>negativos_pct</th>\n      <th>seguidores</th>\n      <th>rejeicao</th>\n      <th>predicao</th>\n    </tr>\n  </thead>\n  <tbody>\n    <tr>\n      <th>8</th>\n      <td>7</td>\n      <td>victor_hugo</td>\n      <td>-0.805563</td>\n      <td>-0.59485</td>\n      <td>-0.620868</td>\n      <td>-0.414039</td>\n      <td>0.577555</td>\n      <td>0.045606</td>\n      <td>-0.502995</td>\n      <td>0.8522</td>\n      <td>0.404870</td>\n    </tr>\n    <tr>\n      <th>6</th>\n      <td>7</td>\n      <td>babu</td>\n      <td>0.438014</td>\n      <td>-0.255141</td>\n      <td>-0.343897</td>\n      <td>1.083118</td>\n      <td>-0.729228</td>\n      <td>-0.490247</td>\n      <td>-0.163347</td>\n      <td>0.0460</td>\n      <td>0.022360</td>\n    </tr>\n    <tr>\n      <th>7</th>\n      <td>7</td>\n      <td>manu_gavassi</td>\n      <td>0.0249277</td>\n      <td>-0.410587</td>\n      <td>-0.697039</td>\n      <td>1.354673</td>\n      <td>0.370376</td>\n      <td>-1.221758</td>\n      <td>4.29651</td>\n      <td>0.1018</td>\n      <td>-0.117208</td>\n    </tr>\n  </tbody>\n</table>\n</div>"
     },
     "metadata": {},
     "execution_count": 45
    }
   ],
   "source": [
    "test_df.sort_values(by=\"predicao\", ascending=False)"
   ]
  },
  {
   "cell_type": "markdown",
   "metadata": {},
   "source": [
    "# Paredao 8"
   ]
  },
  {
   "cell_type": "code",
   "execution_count": 46,
   "metadata": {},
   "outputs": [
    {
     "output_type": "execute_result",
     "data": {
      "text/plain": "   paredao   nome  positivos   neutros negativos  positivos_pct  neutros_pct  \\\n14       8   babu    1.18157  0.763987   0.75185       0.029302    -0.796967   \n15       8   rafa -0.0274569 -0.024881  0.489887      -0.688514    -1.470623   \n16       8  pyong    1.63812   1.96895   1.26666      -0.332730     0.224442   \n\n    negativos_pct seguidores  rejeicao  \n14       0.355588  -0.163347  0.440681  \n15       1.229533  -0.202578 -1.146942  \n16       0.150400    1.07083  0.575117  ",
      "text/html": "<div>\n<style scoped>\n    .dataframe tbody tr th:only-of-type {\n        vertical-align: middle;\n    }\n\n    .dataframe tbody tr th {\n        vertical-align: top;\n    }\n\n    .dataframe thead th {\n        text-align: right;\n    }\n</style>\n<table border=\"1\" class=\"dataframe\">\n  <thead>\n    <tr style=\"text-align: right;\">\n      <th></th>\n      <th>paredao</th>\n      <th>nome</th>\n      <th>positivos</th>\n      <th>neutros</th>\n      <th>negativos</th>\n      <th>positivos_pct</th>\n      <th>neutros_pct</th>\n      <th>negativos_pct</th>\n      <th>seguidores</th>\n      <th>rejeicao</th>\n    </tr>\n  </thead>\n  <tbody>\n    <tr>\n      <th>14</th>\n      <td>8</td>\n      <td>babu</td>\n      <td>1.18157</td>\n      <td>0.763987</td>\n      <td>0.75185</td>\n      <td>0.029302</td>\n      <td>-0.796967</td>\n      <td>0.355588</td>\n      <td>-0.163347</td>\n      <td>0.440681</td>\n    </tr>\n    <tr>\n      <th>15</th>\n      <td>8</td>\n      <td>rafa</td>\n      <td>-0.0274569</td>\n      <td>-0.024881</td>\n      <td>0.489887</td>\n      <td>-0.688514</td>\n      <td>-1.470623</td>\n      <td>1.229533</td>\n      <td>-0.202578</td>\n      <td>-1.146942</td>\n    </tr>\n    <tr>\n      <th>16</th>\n      <td>8</td>\n      <td>pyong</td>\n      <td>1.63812</td>\n      <td>1.96895</td>\n      <td>1.26666</td>\n      <td>-0.332730</td>\n      <td>0.224442</td>\n      <td>0.150400</td>\n      <td>1.07083</td>\n      <td>0.575117</td>\n    </tr>\n  </tbody>\n</table>\n</div>"
     },
     "metadata": {},
     "execution_count": 46
    }
   ],
   "source": [
    "train_df, test_df, mean, std = get_train_test(8, normalize=NORMALIZE)\n",
    "test_df\n",
    ""
   ]
  },
  {
   "cell_type": "code",
   "execution_count": 47,
   "metadata": {},
   "outputs": [],
   "source": [
    "x_train, y_train = train_df.drop(columns=[\"paredao\", \"nome\", \"rejeicao\"], axis=1).to_numpy(), train_df.drop(columns=train_df.columns[:-1], axis=1).to_numpy()\n",
    "x_test, y_test = test_df.drop(columns=[\"paredao\", \"nome\", \"rejeicao\"], axis=1).to_numpy(), test_df.drop(columns=train_df.columns[:-1], axis=1).to_numpy()"
   ]
  },
  {
   "cell_type": "code",
   "execution_count": 48,
   "metadata": {},
   "outputs": [],
   "source": [
    "regressor = LinearRegression()"
   ]
  },
  {
   "cell_type": "code",
   "execution_count": 49,
   "metadata": {},
   "outputs": [],
   "source": [
    "_ = regressor.fit(x_train, y_train)\n",
    "prediction = regressor.predict(x_test)\n",
    "test_df[\"predicao\"] = prediction * std + mean\n",
    "test_df[\"rejeicao\"] =  test_df[\"rejeicao\"] * std + mean\n",
    "summary_df = summary_df.append(test_df, ignore_index=True, sort=False)"
   ]
  },
  {
   "cell_type": "code",
   "execution_count": 50,
   "metadata": {},
   "outputs": [
    {
     "output_type": "execute_result",
     "data": {
      "text/plain": "   paredao   nome  positivos   neutros negativos  positivos_pct  neutros_pct  \\\n16       8  pyong    1.63812   1.96895   1.26666      -0.332730     0.224442   \n14       8   babu    1.18157  0.763987   0.75185       0.029302    -0.796967   \n15       8   rafa -0.0274569 -0.024881  0.489887      -0.688514    -1.470623   \n\n    negativos_pct seguidores  rejeicao  predicao  \n16       0.150400    1.07083    0.5170  0.632107  \n14       0.355588  -0.163347    0.4771  0.356733  \n15       1.229533  -0.202578    0.0059  0.244745  ",
      "text/html": "<div>\n<style scoped>\n    .dataframe tbody tr th:only-of-type {\n        vertical-align: middle;\n    }\n\n    .dataframe tbody tr th {\n        vertical-align: top;\n    }\n\n    .dataframe thead th {\n        text-align: right;\n    }\n</style>\n<table border=\"1\" class=\"dataframe\">\n  <thead>\n    <tr style=\"text-align: right;\">\n      <th></th>\n      <th>paredao</th>\n      <th>nome</th>\n      <th>positivos</th>\n      <th>neutros</th>\n      <th>negativos</th>\n      <th>positivos_pct</th>\n      <th>neutros_pct</th>\n      <th>negativos_pct</th>\n      <th>seguidores</th>\n      <th>rejeicao</th>\n      <th>predicao</th>\n    </tr>\n  </thead>\n  <tbody>\n    <tr>\n      <th>16</th>\n      <td>8</td>\n      <td>pyong</td>\n      <td>1.63812</td>\n      <td>1.96895</td>\n      <td>1.26666</td>\n      <td>-0.332730</td>\n      <td>0.224442</td>\n      <td>0.150400</td>\n      <td>1.07083</td>\n      <td>0.5170</td>\n      <td>0.632107</td>\n    </tr>\n    <tr>\n      <th>14</th>\n      <td>8</td>\n      <td>babu</td>\n      <td>1.18157</td>\n      <td>0.763987</td>\n      <td>0.75185</td>\n      <td>0.029302</td>\n      <td>-0.796967</td>\n      <td>0.355588</td>\n      <td>-0.163347</td>\n      <td>0.4771</td>\n      <td>0.356733</td>\n    </tr>\n    <tr>\n      <th>15</th>\n      <td>8</td>\n      <td>rafa</td>\n      <td>-0.0274569</td>\n      <td>-0.024881</td>\n      <td>0.489887</td>\n      <td>-0.688514</td>\n      <td>-1.470623</td>\n      <td>1.229533</td>\n      <td>-0.202578</td>\n      <td>0.0059</td>\n      <td>0.244745</td>\n    </tr>\n  </tbody>\n</table>\n</div>"
     },
     "metadata": {},
     "execution_count": 50
    }
   ],
   "source": [
    "test_df.sort_values(by=\"predicao\", ascending=False)"
   ]
  },
  {
   "cell_type": "markdown",
   "metadata": {},
   "source": [
    "# Paredão 9"
   ]
  },
  {
   "cell_type": "code",
   "execution_count": 51,
   "metadata": {},
   "outputs": [
    {
     "output_type": "execute_result",
     "data": {
      "text/plain": "   paredao       nome positivos   neutros   negativos  positivos_pct  \\\n11       9     daniel  0.764581   1.09908    0.567851      -0.344032   \n12       9  flayslene  0.903763  0.354913    0.264601       0.381434   \n13       9        ivy  0.189047  0.255439 -0.00883625      -0.102245   \n\n    neutros_pct  negativos_pct seguidores  rejeicao  \n11     0.399211       0.076187  -0.480781  1.556262  \n12    -0.705697       0.040381  -0.402079 -0.845388  \n13     0.204847      -0.018267  -0.452499 -0.842018  ",
      "text/html": "<div>\n<style scoped>\n    .dataframe tbody tr th:only-of-type {\n        vertical-align: middle;\n    }\n\n    .dataframe tbody tr th {\n        vertical-align: top;\n    }\n\n    .dataframe thead th {\n        text-align: right;\n    }\n</style>\n<table border=\"1\" class=\"dataframe\">\n  <thead>\n    <tr style=\"text-align: right;\">\n      <th></th>\n      <th>paredao</th>\n      <th>nome</th>\n      <th>positivos</th>\n      <th>neutros</th>\n      <th>negativos</th>\n      <th>positivos_pct</th>\n      <th>neutros_pct</th>\n      <th>negativos_pct</th>\n      <th>seguidores</th>\n      <th>rejeicao</th>\n    </tr>\n  </thead>\n  <tbody>\n    <tr>\n      <th>11</th>\n      <td>9</td>\n      <td>daniel</td>\n      <td>0.764581</td>\n      <td>1.09908</td>\n      <td>0.567851</td>\n      <td>-0.344032</td>\n      <td>0.399211</td>\n      <td>0.076187</td>\n      <td>-0.480781</td>\n      <td>1.556262</td>\n    </tr>\n    <tr>\n      <th>12</th>\n      <td>9</td>\n      <td>flayslene</td>\n      <td>0.903763</td>\n      <td>0.354913</td>\n      <td>0.264601</td>\n      <td>0.381434</td>\n      <td>-0.705697</td>\n      <td>0.040381</td>\n      <td>-0.402079</td>\n      <td>-0.845388</td>\n    </tr>\n    <tr>\n      <th>13</th>\n      <td>9</td>\n      <td>ivy</td>\n      <td>0.189047</td>\n      <td>0.255439</td>\n      <td>-0.00883625</td>\n      <td>-0.102245</td>\n      <td>0.204847</td>\n      <td>-0.018267</td>\n      <td>-0.452499</td>\n      <td>-0.842018</td>\n    </tr>\n  </tbody>\n</table>\n</div>"
     },
     "metadata": {},
     "execution_count": 51
    }
   ],
   "source": [
    "train_df, test_df, mean, std = get_train_test(9, normalize=NORMALIZE)\n",
    "test_df\n",
    ""
   ]
  },
  {
   "cell_type": "code",
   "execution_count": 52,
   "metadata": {},
   "outputs": [],
   "source": [
    "x_train, y_train = train_df.drop(columns=[\"paredao\", \"nome\", \"rejeicao\"], axis=1).to_numpy(), train_df.drop(columns=train_df.columns[:-1], axis=1).to_numpy()\n",
    "x_test, y_test = test_df.drop(columns=[\"paredao\", \"nome\", \"rejeicao\"], axis=1).to_numpy(), test_df.drop(columns=train_df.columns[:-1], axis=1).to_numpy()"
   ]
  },
  {
   "cell_type": "code",
   "execution_count": 53,
   "metadata": {},
   "outputs": [],
   "source": [
    "regressor = LinearRegression()"
   ]
  },
  {
   "cell_type": "code",
   "execution_count": 54,
   "metadata": {},
   "outputs": [],
   "source": [
    "_ = regressor.fit(x_train, y_train)\n",
    "prediction = regressor.predict(x_test)\n",
    "test_df[\"predicao\"] = prediction * std + mean\n",
    "test_df[\"rejeicao\"] =  test_df[\"rejeicao\"] * std + mean\n",
    "summary_df = summary_df.append(test_df, ignore_index=True, sort=False)"
   ]
  },
  {
   "cell_type": "code",
   "execution_count": 55,
   "metadata": {},
   "outputs": [
    {
     "output_type": "execute_result",
     "data": {
      "text/plain": "   paredao       nome positivos   neutros   negativos  positivos_pct  \\\n11       9     daniel  0.764581   1.09908    0.567851      -0.344032   \n13       9        ivy  0.189047  0.255439 -0.00883625      -0.102245   \n12       9  flayslene  0.903763  0.354913    0.264601       0.381434   \n\n    neutros_pct  negativos_pct seguidores  rejeicao  predicao  \n11     0.399211       0.076187  -0.480781    0.8082  0.567688  \n13     0.204847      -0.018267  -0.452499    0.0964  0.431110  \n12    -0.705697       0.040381  -0.402079    0.0954  0.285751  ",
      "text/html": "<div>\n<style scoped>\n    .dataframe tbody tr th:only-of-type {\n        vertical-align: middle;\n    }\n\n    .dataframe tbody tr th {\n        vertical-align: top;\n    }\n\n    .dataframe thead th {\n        text-align: right;\n    }\n</style>\n<table border=\"1\" class=\"dataframe\">\n  <thead>\n    <tr style=\"text-align: right;\">\n      <th></th>\n      <th>paredao</th>\n      <th>nome</th>\n      <th>positivos</th>\n      <th>neutros</th>\n      <th>negativos</th>\n      <th>positivos_pct</th>\n      <th>neutros_pct</th>\n      <th>negativos_pct</th>\n      <th>seguidores</th>\n      <th>rejeicao</th>\n      <th>predicao</th>\n    </tr>\n  </thead>\n  <tbody>\n    <tr>\n      <th>11</th>\n      <td>9</td>\n      <td>daniel</td>\n      <td>0.764581</td>\n      <td>1.09908</td>\n      <td>0.567851</td>\n      <td>-0.344032</td>\n      <td>0.399211</td>\n      <td>0.076187</td>\n      <td>-0.480781</td>\n      <td>0.8082</td>\n      <td>0.567688</td>\n    </tr>\n    <tr>\n      <th>13</th>\n      <td>9</td>\n      <td>ivy</td>\n      <td>0.189047</td>\n      <td>0.255439</td>\n      <td>-0.00883625</td>\n      <td>-0.102245</td>\n      <td>0.204847</td>\n      <td>-0.018267</td>\n      <td>-0.452499</td>\n      <td>0.0964</td>\n      <td>0.431110</td>\n    </tr>\n    <tr>\n      <th>12</th>\n      <td>9</td>\n      <td>flayslene</td>\n      <td>0.903763</td>\n      <td>0.354913</td>\n      <td>0.264601</td>\n      <td>0.381434</td>\n      <td>-0.705697</td>\n      <td>0.040381</td>\n      <td>-0.402079</td>\n      <td>0.0954</td>\n      <td>0.285751</td>\n    </tr>\n  </tbody>\n</table>\n</div>"
     },
     "metadata": {},
     "execution_count": 55
    }
   ],
   "source": [
    "test_df.sort_values(by=\"predicao\", ascending=False)"
   ]
  },
  {
   "cell_type": "markdown",
   "metadata": {},
   "source": [
    "# Sumarizando"
   ]
  },
  {
   "cell_type": "code",
   "execution_count": 56,
   "metadata": {},
   "outputs": [
    {
     "output_type": "execute_result",
     "data": {
      "text/plain": "   paredao             nome  positivos   neutros   negativos  positivos_pct  \\\n0        1   bianca_andrade  -0.900023  -1.04798     -1.0553       1.657885   \n1        1     lucas_chumbo  -0.850146  -0.53389   -0.509813      -0.773887   \n2        2             babu   -1.07877   -1.0647    -1.05223       0.850817   \n3        2           petrix   0.876038    2.2864     1.95783      -1.189603   \n4        2            pyong    1.16819 -0.122693   -0.586855       2.354321   \n5        2           hadson   0.441636   1.31715     1.52099      -1.172673   \n6        3     felipe_prior    -1.2174  -1.18865    -1.06801       0.588933   \n7        3           hadson   -1.28427  -1.07587    -1.04378      -0.375359   \n8        4             babu  -0.668193 -0.532228    -0.28504      -0.668861   \n9        4      victor_hugo   -1.21976  -1.10986   -0.992964      -0.121918   \n10       4            lucas  0.0851142  0.128164    0.366743      -0.517700   \n11       5   bianca_andrade   -1.02026 -0.785947   -0.899582      -0.194847   \n12       5        flayslene   -1.28984  -1.14588   -0.929292      -0.728506   \n13       5     felipe_prior  -0.929976 -0.658025    -0.27085      -1.194126   \n14       6  gizelly_bicalho    1.27268   0.16086   -0.508942       1.991995   \n15       6        guilherme   0.565771  0.873159     1.88115      -1.117298   \n16       6            pyong    1.74219    1.3431     1.80575      -0.356140   \n17       7             babu   0.438014 -0.255141   -0.343897       1.083118   \n18       7     manu_gavassi  0.0249277 -0.410587   -0.697039       1.354673   \n19       7      victor_hugo  -0.805563  -0.59485   -0.620868      -0.414039   \n20       8             babu    1.18157  0.763987     0.75185       0.029302   \n21       8             rafa -0.0274569 -0.024881    0.489887      -0.688514   \n22       8            pyong    1.63812   1.96895     1.26666      -0.332730   \n23       9           daniel   0.764581   1.09908    0.567851      -0.344032   \n24       9        flayslene   0.903763  0.354913    0.264601       0.381434   \n25       9              ivy   0.189047  0.255439 -0.00883625      -0.102245   \n\n    neutros_pct  negativos_pct seguidores  rejeicao  predicao  \n0      0.816811      -1.667742 -0.0619083    0.2446 -0.087041  \n1      0.407289       0.404260   -0.50566    0.7594  0.458532  \n2      1.393069      -1.318048  -0.163347    0.0044  0.431148  \n3      0.136132       0.853930  -0.493992    0.8027  1.020956  \n4     -0.346501      -1.653416    1.07083    0.0066 -0.202526  \n5     -0.507002       1.146068  -0.508058    0.1863  0.772715  \n6      0.772922      -0.821538  -0.303773    0.2029  0.224603  \n7      2.249568      -0.777741  -0.508058    0.7971  0.706575  \n8     -0.770937       0.882312  -0.163347    0.0130  0.250756  \n9      0.779612      -0.275840  -0.502995    0.3608  0.387390  \n10    -0.898261       0.826018  -0.493313    0.6262  0.294887  \n11     1.915866      -0.758757 -0.0619083    0.5309  0.698940  \n12    -0.100085       0.610002   -0.40717    0.1764  0.351224  \n13    -1.080492       1.434791  -0.303773    0.2927  0.286824  \n14     0.207651      -1.636633  -0.258618    0.0064  0.312527  \n15    -1.715178       1.676671  -0.405454    0.5607 -0.080709  \n16    -1.334381       0.908240    1.07083    0.4329  0.053287  \n17    -0.729228      -0.490247  -0.163347    0.0460  0.022360  \n18     0.370376      -1.221758    4.29651    0.1018 -0.117208  \n19     0.577555       0.045606  -0.502995    0.8522  0.404870  \n20    -0.796967       0.355588  -0.163347    0.4771  0.356733  \n21    -1.470623       1.229533  -0.202578    0.0059  0.244745  \n22     0.224442       0.150400    1.07083    0.5170  0.632107  \n23     0.399211       0.076187  -0.480781    0.8082  0.567688  \n24    -0.705697       0.040381  -0.402079    0.0954  0.285751  \n25     0.204847      -0.018267  -0.452499    0.0964  0.431110  ",
      "text/html": "<div>\n<style scoped>\n    .dataframe tbody tr th:only-of-type {\n        vertical-align: middle;\n    }\n\n    .dataframe tbody tr th {\n        vertical-align: top;\n    }\n\n    .dataframe thead th {\n        text-align: right;\n    }\n</style>\n<table border=\"1\" class=\"dataframe\">\n  <thead>\n    <tr style=\"text-align: right;\">\n      <th></th>\n      <th>paredao</th>\n      <th>nome</th>\n      <th>positivos</th>\n      <th>neutros</th>\n      <th>negativos</th>\n      <th>positivos_pct</th>\n      <th>neutros_pct</th>\n      <th>negativos_pct</th>\n      <th>seguidores</th>\n      <th>rejeicao</th>\n      <th>predicao</th>\n    </tr>\n  </thead>\n  <tbody>\n    <tr>\n      <th>0</th>\n      <td>1</td>\n      <td>bianca_andrade</td>\n      <td>-0.900023</td>\n      <td>-1.04798</td>\n      <td>-1.0553</td>\n      <td>1.657885</td>\n      <td>0.816811</td>\n      <td>-1.667742</td>\n      <td>-0.0619083</td>\n      <td>0.2446</td>\n      <td>-0.087041</td>\n    </tr>\n    <tr>\n      <th>1</th>\n      <td>1</td>\n      <td>lucas_chumbo</td>\n      <td>-0.850146</td>\n      <td>-0.53389</td>\n      <td>-0.509813</td>\n      <td>-0.773887</td>\n      <td>0.407289</td>\n      <td>0.404260</td>\n      <td>-0.50566</td>\n      <td>0.7594</td>\n      <td>0.458532</td>\n    </tr>\n    <tr>\n      <th>2</th>\n      <td>2</td>\n      <td>babu</td>\n      <td>-1.07877</td>\n      <td>-1.0647</td>\n      <td>-1.05223</td>\n      <td>0.850817</td>\n      <td>1.393069</td>\n      <td>-1.318048</td>\n      <td>-0.163347</td>\n      <td>0.0044</td>\n      <td>0.431148</td>\n    </tr>\n    <tr>\n      <th>3</th>\n      <td>2</td>\n      <td>petrix</td>\n      <td>0.876038</td>\n      <td>2.2864</td>\n      <td>1.95783</td>\n      <td>-1.189603</td>\n      <td>0.136132</td>\n      <td>0.853930</td>\n      <td>-0.493992</td>\n      <td>0.8027</td>\n      <td>1.020956</td>\n    </tr>\n    <tr>\n      <th>4</th>\n      <td>2</td>\n      <td>pyong</td>\n      <td>1.16819</td>\n      <td>-0.122693</td>\n      <td>-0.586855</td>\n      <td>2.354321</td>\n      <td>-0.346501</td>\n      <td>-1.653416</td>\n      <td>1.07083</td>\n      <td>0.0066</td>\n      <td>-0.202526</td>\n    </tr>\n    <tr>\n      <th>5</th>\n      <td>2</td>\n      <td>hadson</td>\n      <td>0.441636</td>\n      <td>1.31715</td>\n      <td>1.52099</td>\n      <td>-1.172673</td>\n      <td>-0.507002</td>\n      <td>1.146068</td>\n      <td>-0.508058</td>\n      <td>0.1863</td>\n      <td>0.772715</td>\n    </tr>\n    <tr>\n      <th>6</th>\n      <td>3</td>\n      <td>felipe_prior</td>\n      <td>-1.2174</td>\n      <td>-1.18865</td>\n      <td>-1.06801</td>\n      <td>0.588933</td>\n      <td>0.772922</td>\n      <td>-0.821538</td>\n      <td>-0.303773</td>\n      <td>0.2029</td>\n      <td>0.224603</td>\n    </tr>\n    <tr>\n      <th>7</th>\n      <td>3</td>\n      <td>hadson</td>\n      <td>-1.28427</td>\n      <td>-1.07587</td>\n      <td>-1.04378</td>\n      <td>-0.375359</td>\n      <td>2.249568</td>\n      <td>-0.777741</td>\n      <td>-0.508058</td>\n      <td>0.7971</td>\n      <td>0.706575</td>\n    </tr>\n    <tr>\n      <th>8</th>\n      <td>4</td>\n      <td>babu</td>\n      <td>-0.668193</td>\n      <td>-0.532228</td>\n      <td>-0.28504</td>\n      <td>-0.668861</td>\n      <td>-0.770937</td>\n      <td>0.882312</td>\n      <td>-0.163347</td>\n      <td>0.0130</td>\n      <td>0.250756</td>\n    </tr>\n    <tr>\n      <th>9</th>\n      <td>4</td>\n      <td>victor_hugo</td>\n      <td>-1.21976</td>\n      <td>-1.10986</td>\n      <td>-0.992964</td>\n      <td>-0.121918</td>\n      <td>0.779612</td>\n      <td>-0.275840</td>\n      <td>-0.502995</td>\n      <td>0.3608</td>\n      <td>0.387390</td>\n    </tr>\n    <tr>\n      <th>10</th>\n      <td>4</td>\n      <td>lucas</td>\n      <td>0.0851142</td>\n      <td>0.128164</td>\n      <td>0.366743</td>\n      <td>-0.517700</td>\n      <td>-0.898261</td>\n      <td>0.826018</td>\n      <td>-0.493313</td>\n      <td>0.6262</td>\n      <td>0.294887</td>\n    </tr>\n    <tr>\n      <th>11</th>\n      <td>5</td>\n      <td>bianca_andrade</td>\n      <td>-1.02026</td>\n      <td>-0.785947</td>\n      <td>-0.899582</td>\n      <td>-0.194847</td>\n      <td>1.915866</td>\n      <td>-0.758757</td>\n      <td>-0.0619083</td>\n      <td>0.5309</td>\n      <td>0.698940</td>\n    </tr>\n    <tr>\n      <th>12</th>\n      <td>5</td>\n      <td>flayslene</td>\n      <td>-1.28984</td>\n      <td>-1.14588</td>\n      <td>-0.929292</td>\n      <td>-0.728506</td>\n      <td>-0.100085</td>\n      <td>0.610002</td>\n      <td>-0.40717</td>\n      <td>0.1764</td>\n      <td>0.351224</td>\n    </tr>\n    <tr>\n      <th>13</th>\n      <td>5</td>\n      <td>felipe_prior</td>\n      <td>-0.929976</td>\n      <td>-0.658025</td>\n      <td>-0.27085</td>\n      <td>-1.194126</td>\n      <td>-1.080492</td>\n      <td>1.434791</td>\n      <td>-0.303773</td>\n      <td>0.2927</td>\n      <td>0.286824</td>\n    </tr>\n    <tr>\n      <th>14</th>\n      <td>6</td>\n      <td>gizelly_bicalho</td>\n      <td>1.27268</td>\n      <td>0.16086</td>\n      <td>-0.508942</td>\n      <td>1.991995</td>\n      <td>0.207651</td>\n      <td>-1.636633</td>\n      <td>-0.258618</td>\n      <td>0.0064</td>\n      <td>0.312527</td>\n    </tr>\n    <tr>\n      <th>15</th>\n      <td>6</td>\n      <td>guilherme</td>\n      <td>0.565771</td>\n      <td>0.873159</td>\n      <td>1.88115</td>\n      <td>-1.117298</td>\n      <td>-1.715178</td>\n      <td>1.676671</td>\n      <td>-0.405454</td>\n      <td>0.5607</td>\n      <td>-0.080709</td>\n    </tr>\n    <tr>\n      <th>16</th>\n      <td>6</td>\n      <td>pyong</td>\n      <td>1.74219</td>\n      <td>1.3431</td>\n      <td>1.80575</td>\n      <td>-0.356140</td>\n      <td>-1.334381</td>\n      <td>0.908240</td>\n      <td>1.07083</td>\n      <td>0.4329</td>\n      <td>0.053287</td>\n    </tr>\n    <tr>\n      <th>17</th>\n      <td>7</td>\n      <td>babu</td>\n      <td>0.438014</td>\n      <td>-0.255141</td>\n      <td>-0.343897</td>\n      <td>1.083118</td>\n      <td>-0.729228</td>\n      <td>-0.490247</td>\n      <td>-0.163347</td>\n      <td>0.0460</td>\n      <td>0.022360</td>\n    </tr>\n    <tr>\n      <th>18</th>\n      <td>7</td>\n      <td>manu_gavassi</td>\n      <td>0.0249277</td>\n      <td>-0.410587</td>\n      <td>-0.697039</td>\n      <td>1.354673</td>\n      <td>0.370376</td>\n      <td>-1.221758</td>\n      <td>4.29651</td>\n      <td>0.1018</td>\n      <td>-0.117208</td>\n    </tr>\n    <tr>\n      <th>19</th>\n      <td>7</td>\n      <td>victor_hugo</td>\n      <td>-0.805563</td>\n      <td>-0.59485</td>\n      <td>-0.620868</td>\n      <td>-0.414039</td>\n      <td>0.577555</td>\n      <td>0.045606</td>\n      <td>-0.502995</td>\n      <td>0.8522</td>\n      <td>0.404870</td>\n    </tr>\n    <tr>\n      <th>20</th>\n      <td>8</td>\n      <td>babu</td>\n      <td>1.18157</td>\n      <td>0.763987</td>\n      <td>0.75185</td>\n      <td>0.029302</td>\n      <td>-0.796967</td>\n      <td>0.355588</td>\n      <td>-0.163347</td>\n      <td>0.4771</td>\n      <td>0.356733</td>\n    </tr>\n    <tr>\n      <th>21</th>\n      <td>8</td>\n      <td>rafa</td>\n      <td>-0.0274569</td>\n      <td>-0.024881</td>\n      <td>0.489887</td>\n      <td>-0.688514</td>\n      <td>-1.470623</td>\n      <td>1.229533</td>\n      <td>-0.202578</td>\n      <td>0.0059</td>\n      <td>0.244745</td>\n    </tr>\n    <tr>\n      <th>22</th>\n      <td>8</td>\n      <td>pyong</td>\n      <td>1.63812</td>\n      <td>1.96895</td>\n      <td>1.26666</td>\n      <td>-0.332730</td>\n      <td>0.224442</td>\n      <td>0.150400</td>\n      <td>1.07083</td>\n      <td>0.5170</td>\n      <td>0.632107</td>\n    </tr>\n    <tr>\n      <th>23</th>\n      <td>9</td>\n      <td>daniel</td>\n      <td>0.764581</td>\n      <td>1.09908</td>\n      <td>0.567851</td>\n      <td>-0.344032</td>\n      <td>0.399211</td>\n      <td>0.076187</td>\n      <td>-0.480781</td>\n      <td>0.8082</td>\n      <td>0.567688</td>\n    </tr>\n    <tr>\n      <th>24</th>\n      <td>9</td>\n      <td>flayslene</td>\n      <td>0.903763</td>\n      <td>0.354913</td>\n      <td>0.264601</td>\n      <td>0.381434</td>\n      <td>-0.705697</td>\n      <td>0.040381</td>\n      <td>-0.402079</td>\n      <td>0.0954</td>\n      <td>0.285751</td>\n    </tr>\n    <tr>\n      <th>25</th>\n      <td>9</td>\n      <td>ivy</td>\n      <td>0.189047</td>\n      <td>0.255439</td>\n      <td>-0.00883625</td>\n      <td>-0.102245</td>\n      <td>0.204847</td>\n      <td>-0.018267</td>\n      <td>-0.452499</td>\n      <td>0.0964</td>\n      <td>0.431110</td>\n    </tr>\n  </tbody>\n</table>\n</div>"
     },
     "metadata": {},
     "execution_count": 56
    }
   ],
   "source": [
    "summary_df"
   ]
  },
  {
   "cell_type": "code",
   "execution_count": null,
   "metadata": {},
   "outputs": [],
   "source": []
  }
 ]
}