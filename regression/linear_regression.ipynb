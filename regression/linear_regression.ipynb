{
 "nbformat": 4,
 "nbformat_minor": 2,
 "metadata": {
  "language_info": {
   "name": "python",
   "codemirror_mode": {
    "name": "ipython",
    "version": 3
   },
   "version": "3.6.9-final"
  },
  "orig_nbformat": 2,
  "file_extension": ".py",
  "mimetype": "text/x-python",
  "name": "python",
  "npconvert_exporter": "python",
  "pygments_lexer": "ipython3",
  "version": 3,
  "kernelspec": {
   "name": "python36964bitbertvirtualenv054cbb15ab924922a35a349b12e89805",
   "display_name": "Python 3.6.9 64-bit ('bert': virtualenv)"
  }
 },
 "cells": [
  {
   "cell_type": "markdown",
   "metadata": {},
   "source": [
    "# Experimentos baseados em regressão linear"
   ]
  },
  {
   "cell_type": "markdown",
   "metadata": {},
   "source": [
    "- Utilizando cada paredão como teste e avaliando com holdout."
   ]
  },
  {
   "cell_type": "code",
   "execution_count": 1,
   "metadata": {},
   "outputs": [],
   "source": [
    "import pandas as pd \n",
    "import numpy as np \n",
    "from regression_utils import *\n",
    "from sklearn.linear_model import LinearRegression"
   ]
  },
  {
   "cell_type": "code",
   "execution_count": 2,
   "metadata": {},
   "outputs": [],
   "source": [
    "NORMALIZE = True"
   ]
  },
  {
   "cell_type": "code",
   "execution_count": 3,
   "metadata": {},
   "outputs": [],
   "source": [
    "summary_df = pd.DataFrame(columns=COLUMNS)"
   ]
  },
  {
   "cell_type": "markdown",
   "metadata": {},
   "source": [
    "# Paredao 1"
   ]
  },
  {
   "cell_type": "code",
   "execution_count": 4,
   "metadata": {},
   "outputs": [],
   "source": [
    "train_df, test_df, mean, std = get_train_test(1, normalize=NORMALIZE)"
   ]
  },
  {
   "cell_type": "code",
   "execution_count": 5,
   "metadata": {},
   "outputs": [
    {
     "output_type": "execute_result",
     "data": {
      "text/plain": "   paredao            nome positivos   neutros negativos  positivos_pct  \\\n18       1  bianca_andrade -0.794162 -0.942596 -0.964547       1.561184   \n19       1    lucas_chumbo -0.745813 -0.444907 -0.448456      -0.732648   \n\n    neutros_pct  negativos_pct seguidores  rejeicao  \n18     0.772986      -1.560727   -0.11409 -0.355289  \n19     0.383329       0.383301  -0.536104  1.413596  ",
      "text/html": "<div>\n<style scoped>\n    .dataframe tbody tr th:only-of-type {\n        vertical-align: middle;\n    }\n\n    .dataframe tbody tr th {\n        vertical-align: top;\n    }\n\n    .dataframe thead th {\n        text-align: right;\n    }\n</style>\n<table border=\"1\" class=\"dataframe\">\n  <thead>\n    <tr style=\"text-align: right;\">\n      <th></th>\n      <th>paredao</th>\n      <th>nome</th>\n      <th>positivos</th>\n      <th>neutros</th>\n      <th>negativos</th>\n      <th>positivos_pct</th>\n      <th>neutros_pct</th>\n      <th>negativos_pct</th>\n      <th>seguidores</th>\n      <th>rejeicao</th>\n    </tr>\n  </thead>\n  <tbody>\n    <tr>\n      <th>18</th>\n      <td>1</td>\n      <td>bianca_andrade</td>\n      <td>-0.794162</td>\n      <td>-0.942596</td>\n      <td>-0.964547</td>\n      <td>1.561184</td>\n      <td>0.772986</td>\n      <td>-1.560727</td>\n      <td>-0.11409</td>\n      <td>-0.355289</td>\n    </tr>\n    <tr>\n      <th>19</th>\n      <td>1</td>\n      <td>lucas_chumbo</td>\n      <td>-0.745813</td>\n      <td>-0.444907</td>\n      <td>-0.448456</td>\n      <td>-0.732648</td>\n      <td>0.383329</td>\n      <td>0.383301</td>\n      <td>-0.536104</td>\n      <td>1.413596</td>\n    </tr>\n  </tbody>\n</table>\n</div>"
     },
     "metadata": {},
     "execution_count": 5
    }
   ],
   "source": [
    "test_df"
   ]
  },
  {
   "cell_type": "code",
   "execution_count": 6,
   "metadata": {},
   "outputs": [],
   "source": [
    "x_train, y_train = train_df.drop(columns=[\"paredao\", \"nome\", \"rejeicao\"], axis=1).to_numpy(), train_df.drop(columns=train_df.columns[:-1], axis=1).to_numpy()\n",
    "x_test, y_test = test_df.drop(columns=[\"paredao\", \"nome\", \"rejeicao\"], axis=1).to_numpy(), test_df.drop(columns=train_df.columns[:-1], axis=1).to_numpy()"
   ]
  },
  {
   "cell_type": "code",
   "execution_count": 7,
   "metadata": {},
   "outputs": [],
   "source": [
    "regressor = LinearRegression()"
   ]
  },
  {
   "cell_type": "code",
   "execution_count": 8,
   "metadata": {},
   "outputs": [],
   "source": [
    "_ = regressor.fit(x_train, y_train)"
   ]
  },
  {
   "cell_type": "code",
   "execution_count": 9,
   "metadata": {},
   "outputs": [],
   "source": [
    "prediction = regressor.predict(x_test)\n",
    "test_df[\"predicao\"] = prediction * std + mean\n",
    "test_df[\"rejeicao\"] =  test_df[\"rejeicao\"] * std + mean\n",
    "summary_df = summary_df.append(test_df, ignore_index=True, sort=False)"
   ]
  },
  {
   "cell_type": "code",
   "execution_count": 10,
   "metadata": {},
   "outputs": [
    {
     "output_type": "execute_result",
     "data": {
      "text/plain": "   paredao            nome positivos   neutros negativos  positivos_pct  \\\n19       1    lucas_chumbo -0.745813 -0.444907 -0.448456      -0.732648   \n18       1  bianca_andrade -0.794162 -0.942596 -0.964547       1.561184   \n\n    neutros_pct  negativos_pct seguidores  rejeicao  predicao  \n19     0.383329       0.383301  -0.536104    0.7594  0.468936  \n18     0.772986      -1.560727   -0.11409    0.2446 -0.083746  ",
      "text/html": "<div>\n<style scoped>\n    .dataframe tbody tr th:only-of-type {\n        vertical-align: middle;\n    }\n\n    .dataframe tbody tr th {\n        vertical-align: top;\n    }\n\n    .dataframe thead th {\n        text-align: right;\n    }\n</style>\n<table border=\"1\" class=\"dataframe\">\n  <thead>\n    <tr style=\"text-align: right;\">\n      <th></th>\n      <th>paredao</th>\n      <th>nome</th>\n      <th>positivos</th>\n      <th>neutros</th>\n      <th>negativos</th>\n      <th>positivos_pct</th>\n      <th>neutros_pct</th>\n      <th>negativos_pct</th>\n      <th>seguidores</th>\n      <th>rejeicao</th>\n      <th>predicao</th>\n    </tr>\n  </thead>\n  <tbody>\n    <tr>\n      <th>19</th>\n      <td>1</td>\n      <td>lucas_chumbo</td>\n      <td>-0.745813</td>\n      <td>-0.444907</td>\n      <td>-0.448456</td>\n      <td>-0.732648</td>\n      <td>0.383329</td>\n      <td>0.383301</td>\n      <td>-0.536104</td>\n      <td>0.7594</td>\n      <td>0.468936</td>\n    </tr>\n    <tr>\n      <th>18</th>\n      <td>1</td>\n      <td>bianca_andrade</td>\n      <td>-0.794162</td>\n      <td>-0.942596</td>\n      <td>-0.964547</td>\n      <td>1.561184</td>\n      <td>0.772986</td>\n      <td>-1.560727</td>\n      <td>-0.11409</td>\n      <td>0.2446</td>\n      <td>-0.083746</td>\n    </tr>\n  </tbody>\n</table>\n</div>"
     },
     "metadata": {},
     "execution_count": 10
    }
   ],
   "source": [
    "test_df.sort_values(by=\"predicao\", ascending=False)"
   ]
  },
  {
   "cell_type": "markdown",
   "metadata": {},
   "source": [
    "# Paredao 2"
   ]
  },
  {
   "cell_type": "code",
   "execution_count": 11,
   "metadata": {},
   "outputs": [
    {
     "output_type": "execute_result",
     "data": {
      "text/plain": "   paredao    nome positivos    neutros negativos  positivos_pct  neutros_pct  \\\n14       2    babu -0.967433  -0.958781 -0.961639       0.799896     1.321293   \n15       2  petrix  0.927475    2.28541   1.88619      -1.124783     0.125324   \n16       2   pyong   1.21068 -0.0468268 -0.521346       2.218114    -0.333899   \n17       2  hadson  0.506384    1.34708   1.47289      -1.108814    -0.486615   \n\n    negativos_pct seguidores  rejeicao  \n14      -1.232632   -0.21056 -1.180631  \n15       0.805199  -0.525007  1.562377  \n16      -1.547286   0.963157 -1.173071  \n17       1.079293  -0.538384 -0.555611  ",
      "text/html": "<div>\n<style scoped>\n    .dataframe tbody tr th:only-of-type {\n        vertical-align: middle;\n    }\n\n    .dataframe tbody tr th {\n        vertical-align: top;\n    }\n\n    .dataframe thead th {\n        text-align: right;\n    }\n</style>\n<table border=\"1\" class=\"dataframe\">\n  <thead>\n    <tr style=\"text-align: right;\">\n      <th></th>\n      <th>paredao</th>\n      <th>nome</th>\n      <th>positivos</th>\n      <th>neutros</th>\n      <th>negativos</th>\n      <th>positivos_pct</th>\n      <th>neutros_pct</th>\n      <th>negativos_pct</th>\n      <th>seguidores</th>\n      <th>rejeicao</th>\n    </tr>\n  </thead>\n  <tbody>\n    <tr>\n      <th>14</th>\n      <td>2</td>\n      <td>babu</td>\n      <td>-0.967433</td>\n      <td>-0.958781</td>\n      <td>-0.961639</td>\n      <td>0.799896</td>\n      <td>1.321293</td>\n      <td>-1.232632</td>\n      <td>-0.21056</td>\n      <td>-1.180631</td>\n    </tr>\n    <tr>\n      <th>15</th>\n      <td>2</td>\n      <td>petrix</td>\n      <td>0.927475</td>\n      <td>2.28541</td>\n      <td>1.88619</td>\n      <td>-1.124783</td>\n      <td>0.125324</td>\n      <td>0.805199</td>\n      <td>-0.525007</td>\n      <td>1.562377</td>\n    </tr>\n    <tr>\n      <th>16</th>\n      <td>2</td>\n      <td>pyong</td>\n      <td>1.21068</td>\n      <td>-0.0468268</td>\n      <td>-0.521346</td>\n      <td>2.218114</td>\n      <td>-0.333899</td>\n      <td>-1.547286</td>\n      <td>0.963157</td>\n      <td>-1.173071</td>\n    </tr>\n    <tr>\n      <th>17</th>\n      <td>2</td>\n      <td>hadson</td>\n      <td>0.506384</td>\n      <td>1.34708</td>\n      <td>1.47289</td>\n      <td>-1.108814</td>\n      <td>-0.486615</td>\n      <td>1.079293</td>\n      <td>-0.538384</td>\n      <td>-0.555611</td>\n    </tr>\n  </tbody>\n</table>\n</div>"
     },
     "metadata": {},
     "execution_count": 11
    }
   ],
   "source": [
    "train_df, test_df, mean, std = get_train_test(2, normalize=NORMALIZE)\n",
    "test_df\n",
    ""
   ]
  },
  {
   "cell_type": "code",
   "execution_count": 12,
   "metadata": {},
   "outputs": [],
   "source": [
    "x_train, y_train = train_df.drop(columns=[\"paredao\", \"nome\", \"rejeicao\"], axis=1).to_numpy(), train_df.drop(columns=train_df.columns[:-1], axis=1).to_numpy()\n",
    "x_test, y_test = test_df.drop(columns=[\"paredao\", \"nome\", \"rejeicao\"], axis=1).to_numpy(), test_df.drop(columns=train_df.columns[:-1], axis=1).to_numpy()"
   ]
  },
  {
   "cell_type": "code",
   "execution_count": 13,
   "metadata": {},
   "outputs": [],
   "source": [
    "regressor = LinearRegression()"
   ]
  },
  {
   "cell_type": "code",
   "execution_count": 14,
   "metadata": {},
   "outputs": [],
   "source": [
    "_ = regressor.fit(x_train, y_train)\n",
    ""
   ]
  },
  {
   "cell_type": "code",
   "execution_count": 15,
   "metadata": {},
   "outputs": [],
   "source": [
    "prediction = regressor.predict(x_test)\n",
    "test_df[\"predicao\"] = prediction * std + mean\n",
    "test_df[\"rejeicao\"] =  test_df[\"rejeicao\"] * std + mean\n",
    "summary_df = summary_df.append(test_df, ignore_index=True, sort=False)"
   ]
  },
  {
   "cell_type": "code",
   "execution_count": 16,
   "metadata": {},
   "outputs": [
    {
     "output_type": "execute_result",
     "data": {
      "text/plain": "   paredao    nome positivos    neutros negativos  positivos_pct  neutros_pct  \\\n15       2  petrix  0.927475    2.28541   1.88619      -1.124783     0.125324   \n17       2  hadson  0.506384    1.34708   1.47289      -1.108814    -0.486615   \n14       2    babu -0.967433  -0.958781 -0.961639       0.799896     1.321293   \n16       2   pyong   1.21068 -0.0468268 -0.521346       2.218114    -0.333899   \n\n    negativos_pct seguidores  rejeicao  predicao  \n15       0.805199  -0.525007    0.8027  0.972677  \n17       1.079293  -0.538384    0.1863  0.747899  \n14      -1.232632   -0.21056    0.0044  0.431864  \n16      -1.547286   0.963157    0.0066 -0.150953  ",
      "text/html": "<div>\n<style scoped>\n    .dataframe tbody tr th:only-of-type {\n        vertical-align: middle;\n    }\n\n    .dataframe tbody tr th {\n        vertical-align: top;\n    }\n\n    .dataframe thead th {\n        text-align: right;\n    }\n</style>\n<table border=\"1\" class=\"dataframe\">\n  <thead>\n    <tr style=\"text-align: right;\">\n      <th></th>\n      <th>paredao</th>\n      <th>nome</th>\n      <th>positivos</th>\n      <th>neutros</th>\n      <th>negativos</th>\n      <th>positivos_pct</th>\n      <th>neutros_pct</th>\n      <th>negativos_pct</th>\n      <th>seguidores</th>\n      <th>rejeicao</th>\n      <th>predicao</th>\n    </tr>\n  </thead>\n  <tbody>\n    <tr>\n      <th>15</th>\n      <td>2</td>\n      <td>petrix</td>\n      <td>0.927475</td>\n      <td>2.28541</td>\n      <td>1.88619</td>\n      <td>-1.124783</td>\n      <td>0.125324</td>\n      <td>0.805199</td>\n      <td>-0.525007</td>\n      <td>0.8027</td>\n      <td>0.972677</td>\n    </tr>\n    <tr>\n      <th>17</th>\n      <td>2</td>\n      <td>hadson</td>\n      <td>0.506384</td>\n      <td>1.34708</td>\n      <td>1.47289</td>\n      <td>-1.108814</td>\n      <td>-0.486615</td>\n      <td>1.079293</td>\n      <td>-0.538384</td>\n      <td>0.1863</td>\n      <td>0.747899</td>\n    </tr>\n    <tr>\n      <th>14</th>\n      <td>2</td>\n      <td>babu</td>\n      <td>-0.967433</td>\n      <td>-0.958781</td>\n      <td>-0.961639</td>\n      <td>0.799896</td>\n      <td>1.321293</td>\n      <td>-1.232632</td>\n      <td>-0.21056</td>\n      <td>0.0044</td>\n      <td>0.431864</td>\n    </tr>\n    <tr>\n      <th>16</th>\n      <td>2</td>\n      <td>pyong</td>\n      <td>1.21068</td>\n      <td>-0.0468268</td>\n      <td>-0.521346</td>\n      <td>2.218114</td>\n      <td>-0.333899</td>\n      <td>-1.547286</td>\n      <td>0.963157</td>\n      <td>0.0066</td>\n      <td>-0.150953</td>\n    </tr>\n  </tbody>\n</table>\n</div>"
     },
     "metadata": {},
     "execution_count": 16
    }
   ],
   "source": [
    "test_df.sort_values(by=\"predicao\", ascending=False)"
   ]
  },
  {
   "cell_type": "markdown",
   "metadata": {},
   "source": [
    "# Paredao 3"
   ]
  },
  {
   "cell_type": "code",
   "execution_count": 17,
   "metadata": {},
   "outputs": [
    {
     "output_type": "execute_result",
     "data": {
      "text/plain": "   paredao          nome positivos  neutros negativos  positivos_pct  \\\n9        3  felipe_prior  -1.10181 -1.07878 -0.976566       0.552867   \n10       3        hadson  -1.16663  -0.9696 -0.953643      -0.356727   \n\n    neutros_pct  negativos_pct seguidores  rejeicao  \n9      0.731226      -0.766787  -0.344107 -0.498573  \n10     2.136247      -0.725695  -0.538384  1.543135  ",
      "text/html": "<div>\n<style scoped>\n    .dataframe tbody tr th:only-of-type {\n        vertical-align: middle;\n    }\n\n    .dataframe tbody tr th {\n        vertical-align: top;\n    }\n\n    .dataframe thead th {\n        text-align: right;\n    }\n</style>\n<table border=\"1\" class=\"dataframe\">\n  <thead>\n    <tr style=\"text-align: right;\">\n      <th></th>\n      <th>paredao</th>\n      <th>nome</th>\n      <th>positivos</th>\n      <th>neutros</th>\n      <th>negativos</th>\n      <th>positivos_pct</th>\n      <th>neutros_pct</th>\n      <th>negativos_pct</th>\n      <th>seguidores</th>\n      <th>rejeicao</th>\n    </tr>\n  </thead>\n  <tbody>\n    <tr>\n      <th>9</th>\n      <td>3</td>\n      <td>felipe_prior</td>\n      <td>-1.10181</td>\n      <td>-1.07878</td>\n      <td>-0.976566</td>\n      <td>0.552867</td>\n      <td>0.731226</td>\n      <td>-0.766787</td>\n      <td>-0.344107</td>\n      <td>-0.498573</td>\n    </tr>\n    <tr>\n      <th>10</th>\n      <td>3</td>\n      <td>hadson</td>\n      <td>-1.16663</td>\n      <td>-0.9696</td>\n      <td>-0.953643</td>\n      <td>-0.356727</td>\n      <td>2.136247</td>\n      <td>-0.725695</td>\n      <td>-0.538384</td>\n      <td>1.543135</td>\n    </tr>\n  </tbody>\n</table>\n</div>"
     },
     "metadata": {},
     "execution_count": 17
    }
   ],
   "source": [
    "train_df, test_df, mean, std = get_train_test(3, normalize=NORMALIZE)\n",
    "test_df\n",
    ""
   ]
  },
  {
   "cell_type": "code",
   "execution_count": 18,
   "metadata": {},
   "outputs": [],
   "source": [
    "x_train, y_train = train_df.drop(columns=[\"paredao\", \"nome\", \"rejeicao\"], axis=1).to_numpy(), train_df.drop(columns=train_df.columns[:-1], axis=1).to_numpy()\n",
    "x_test, y_test = test_df.drop(columns=[\"paredao\", \"nome\", \"rejeicao\"], axis=1).to_numpy(), test_df.drop(columns=train_df.columns[:-1], axis=1).to_numpy()"
   ]
  },
  {
   "cell_type": "code",
   "execution_count": 19,
   "metadata": {},
   "outputs": [],
   "source": [
    "regressor = LinearRegression()"
   ]
  },
  {
   "cell_type": "code",
   "execution_count": 20,
   "metadata": {},
   "outputs": [],
   "source": [
    "_ = regressor.fit(x_train, y_train)"
   ]
  },
  {
   "cell_type": "code",
   "execution_count": 21,
   "metadata": {},
   "outputs": [],
   "source": [
    "prediction = regressor.predict(x_test)\n",
    "test_df[\"predicao\"] = prediction * std + mean\n",
    "test_df[\"rejeicao\"] =  test_df[\"rejeicao\"] * std + mean\n",
    "summary_df = summary_df.append(test_df, ignore_index=True, sort=False)"
   ]
  },
  {
   "cell_type": "code",
   "execution_count": 22,
   "metadata": {},
   "outputs": [
    {
     "output_type": "execute_result",
     "data": {
      "text/plain": "   paredao          nome positivos  neutros negativos  positivos_pct  \\\n10       3        hadson  -1.16663  -0.9696 -0.953643      -0.356727   \n9        3  felipe_prior  -1.10181 -1.07878 -0.976566       0.552867   \n\n    neutros_pct  negativos_pct seguidores  rejeicao  predicao  \n10     2.136247      -0.725695  -0.538384    0.7971  0.715965  \n9      0.731226      -0.766787  -0.344107    0.2029  0.233994  ",
      "text/html": "<div>\n<style scoped>\n    .dataframe tbody tr th:only-of-type {\n        vertical-align: middle;\n    }\n\n    .dataframe tbody tr th {\n        vertical-align: top;\n    }\n\n    .dataframe thead th {\n        text-align: right;\n    }\n</style>\n<table border=\"1\" class=\"dataframe\">\n  <thead>\n    <tr style=\"text-align: right;\">\n      <th></th>\n      <th>paredao</th>\n      <th>nome</th>\n      <th>positivos</th>\n      <th>neutros</th>\n      <th>negativos</th>\n      <th>positivos_pct</th>\n      <th>neutros_pct</th>\n      <th>negativos_pct</th>\n      <th>seguidores</th>\n      <th>rejeicao</th>\n      <th>predicao</th>\n    </tr>\n  </thead>\n  <tbody>\n    <tr>\n      <th>10</th>\n      <td>3</td>\n      <td>hadson</td>\n      <td>-1.16663</td>\n      <td>-0.9696</td>\n      <td>-0.953643</td>\n      <td>-0.356727</td>\n      <td>2.136247</td>\n      <td>-0.725695</td>\n      <td>-0.538384</td>\n      <td>0.7971</td>\n      <td>0.715965</td>\n    </tr>\n    <tr>\n      <th>9</th>\n      <td>3</td>\n      <td>felipe_prior</td>\n      <td>-1.10181</td>\n      <td>-1.07878</td>\n      <td>-0.976566</td>\n      <td>0.552867</td>\n      <td>0.731226</td>\n      <td>-0.766787</td>\n      <td>-0.344107</td>\n      <td>0.2029</td>\n      <td>0.233994</td>\n    </tr>\n  </tbody>\n</table>\n</div>"
     },
     "metadata": {},
     "execution_count": 22
    }
   ],
   "source": [
    "test_df.sort_values(by=\"predicao\", ascending=False)"
   ]
  },
  {
   "cell_type": "markdown",
   "metadata": {},
   "source": [
    "# Paredao 4"
   ]
  },
  {
   "cell_type": "code",
   "execution_count": 23,
   "metadata": {},
   "outputs": [
    {
     "output_type": "execute_result",
     "data": {
      "text/plain": "   paredao         nome positivos   neutros negativos  positivos_pct  \\\n20       4         babu -0.569436 -0.443297 -0.235797      -0.633580   \n21       4  victor_hugo   -1.1041  -1.00251 -0.905567      -0.117662   \n22       4        lucas  0.160788  0.196027  0.380856      -0.490993   \n\n    neutros_pct  negativos_pct seguidores  rejeicao  \n20    -0.737747       0.831827   -0.21056 -1.151081  \n21     0.737592      -0.254794  -0.533569  0.043982  \n22    -0.858895       0.779011  -0.524361  0.955912  ",
      "text/html": "<div>\n<style scoped>\n    .dataframe tbody tr th:only-of-type {\n        vertical-align: middle;\n    }\n\n    .dataframe tbody tr th {\n        vertical-align: top;\n    }\n\n    .dataframe thead th {\n        text-align: right;\n    }\n</style>\n<table border=\"1\" class=\"dataframe\">\n  <thead>\n    <tr style=\"text-align: right;\">\n      <th></th>\n      <th>paredao</th>\n      <th>nome</th>\n      <th>positivos</th>\n      <th>neutros</th>\n      <th>negativos</th>\n      <th>positivos_pct</th>\n      <th>neutros_pct</th>\n      <th>negativos_pct</th>\n      <th>seguidores</th>\n      <th>rejeicao</th>\n    </tr>\n  </thead>\n  <tbody>\n    <tr>\n      <th>20</th>\n      <td>4</td>\n      <td>babu</td>\n      <td>-0.569436</td>\n      <td>-0.443297</td>\n      <td>-0.235797</td>\n      <td>-0.633580</td>\n      <td>-0.737747</td>\n      <td>0.831827</td>\n      <td>-0.21056</td>\n      <td>-1.151081</td>\n    </tr>\n    <tr>\n      <th>21</th>\n      <td>4</td>\n      <td>victor_hugo</td>\n      <td>-1.1041</td>\n      <td>-1.00251</td>\n      <td>-0.905567</td>\n      <td>-0.117662</td>\n      <td>0.737592</td>\n      <td>-0.254794</td>\n      <td>-0.533569</td>\n      <td>0.043982</td>\n    </tr>\n    <tr>\n      <th>22</th>\n      <td>4</td>\n      <td>lucas</td>\n      <td>0.160788</td>\n      <td>0.196027</td>\n      <td>0.380856</td>\n      <td>-0.490993</td>\n      <td>-0.858895</td>\n      <td>0.779011</td>\n      <td>-0.524361</td>\n      <td>0.955912</td>\n    </tr>\n  </tbody>\n</table>\n</div>"
     },
     "metadata": {},
     "execution_count": 23
    }
   ],
   "source": [
    "train_df, test_df, mean, std = get_train_test(4, normalize=NORMALIZE)\n",
    "test_df\n",
    ""
   ]
  },
  {
   "cell_type": "code",
   "execution_count": 24,
   "metadata": {},
   "outputs": [],
   "source": [
    "x_train, y_train = train_df.drop(columns=[\"paredao\", \"nome\", \"rejeicao\"], axis=1).to_numpy(), train_df.drop(columns=train_df.columns[:-1], axis=1).to_numpy()\n",
    "x_test, y_test = test_df.drop(columns=[\"paredao\", \"nome\", \"rejeicao\"], axis=1).to_numpy(), test_df.drop(columns=train_df.columns[:-1], axis=1).to_numpy()"
   ]
  },
  {
   "cell_type": "code",
   "execution_count": 25,
   "metadata": {},
   "outputs": [],
   "source": [
    "regressor = LinearRegression()"
   ]
  },
  {
   "cell_type": "code",
   "execution_count": 26,
   "metadata": {},
   "outputs": [],
   "source": [
    "_ = regressor.fit(x_train, y_train)\n",
    ""
   ]
  },
  {
   "cell_type": "code",
   "execution_count": 27,
   "metadata": {},
   "outputs": [],
   "source": [
    "prediction = regressor.predict(x_test)\n",
    "test_df[\"predicao\"] = prediction * std + mean\n",
    "test_df[\"rejeicao\"] =  test_df[\"rejeicao\"] * std + mean\n",
    "summary_df = summary_df.append(test_df, ignore_index=True, sort=False)"
   ]
  },
  {
   "cell_type": "code",
   "execution_count": 28,
   "metadata": {},
   "outputs": [
    {
     "output_type": "execute_result",
     "data": {
      "text/plain": "   paredao         nome positivos   neutros negativos  positivos_pct  \\\n21       4  victor_hugo   -1.1041  -1.00251 -0.905567      -0.117662   \n22       4        lucas  0.160788  0.196027  0.380856      -0.490993   \n20       4         babu -0.569436 -0.443297 -0.235797      -0.633580   \n\n    neutros_pct  negativos_pct seguidores  rejeicao  predicao  \n21     0.737592      -0.254794  -0.533569    0.3608  0.402787  \n22    -0.858895       0.779011  -0.524361    0.6262  0.318127  \n20    -0.737747       0.831827   -0.21056    0.0130  0.274083  ",
      "text/html": "<div>\n<style scoped>\n    .dataframe tbody tr th:only-of-type {\n        vertical-align: middle;\n    }\n\n    .dataframe tbody tr th {\n        vertical-align: top;\n    }\n\n    .dataframe thead th {\n        text-align: right;\n    }\n</style>\n<table border=\"1\" class=\"dataframe\">\n  <thead>\n    <tr style=\"text-align: right;\">\n      <th></th>\n      <th>paredao</th>\n      <th>nome</th>\n      <th>positivos</th>\n      <th>neutros</th>\n      <th>negativos</th>\n      <th>positivos_pct</th>\n      <th>neutros_pct</th>\n      <th>negativos_pct</th>\n      <th>seguidores</th>\n      <th>rejeicao</th>\n      <th>predicao</th>\n    </tr>\n  </thead>\n  <tbody>\n    <tr>\n      <th>21</th>\n      <td>4</td>\n      <td>victor_hugo</td>\n      <td>-1.1041</td>\n      <td>-1.00251</td>\n      <td>-0.905567</td>\n      <td>-0.117662</td>\n      <td>0.737592</td>\n      <td>-0.254794</td>\n      <td>-0.533569</td>\n      <td>0.3608</td>\n      <td>0.402787</td>\n    </tr>\n    <tr>\n      <th>22</th>\n      <td>4</td>\n      <td>lucas</td>\n      <td>0.160788</td>\n      <td>0.196027</td>\n      <td>0.380856</td>\n      <td>-0.490993</td>\n      <td>-0.858895</td>\n      <td>0.779011</td>\n      <td>-0.524361</td>\n      <td>0.6262</td>\n      <td>0.318127</td>\n    </tr>\n    <tr>\n      <th>20</th>\n      <td>4</td>\n      <td>babu</td>\n      <td>-0.569436</td>\n      <td>-0.443297</td>\n      <td>-0.235797</td>\n      <td>-0.633580</td>\n      <td>-0.737747</td>\n      <td>0.831827</td>\n      <td>-0.21056</td>\n      <td>0.0130</td>\n      <td>0.274083</td>\n    </tr>\n  </tbody>\n</table>\n</div>"
     },
     "metadata": {},
     "execution_count": 28
    }
   ],
   "source": [
    "test_df.sort_values(by=\"predicao\", ascending=False)"
   ]
  },
  {
   "cell_type": "markdown",
   "metadata": {},
   "source": [
    "# Paredao 5"
   ]
  },
  {
   "cell_type": "code",
   "execution_count": 29,
   "metadata": {},
   "outputs": [
    {
     "output_type": "execute_result",
     "data": {
      "text/plain": "  paredao            nome positivos   neutros negativos  positivos_pct  \\\n3       5  bianca_andrade -0.910711 -0.688923 -0.817217      -0.186453   \n4       5       flayslene  -1.17204  -1.03738 -0.845326      -0.689841   \n5       5    felipe_prior -0.823198 -0.565082 -0.222373      -1.129049   \n\n   neutros_pct  negativos_pct seguidores  rejeicao  \n3     1.818731      -0.707884   -0.11409  0.628456  \n4    -0.099435       0.576336  -0.442438 -0.589628  \n5    -1.032287       1.350184  -0.344107 -0.190014  ",
      "text/html": "<div>\n<style scoped>\n    .dataframe tbody tr th:only-of-type {\n        vertical-align: middle;\n    }\n\n    .dataframe tbody tr th {\n        vertical-align: top;\n    }\n\n    .dataframe thead th {\n        text-align: right;\n    }\n</style>\n<table border=\"1\" class=\"dataframe\">\n  <thead>\n    <tr style=\"text-align: right;\">\n      <th></th>\n      <th>paredao</th>\n      <th>nome</th>\n      <th>positivos</th>\n      <th>neutros</th>\n      <th>negativos</th>\n      <th>positivos_pct</th>\n      <th>neutros_pct</th>\n      <th>negativos_pct</th>\n      <th>seguidores</th>\n      <th>rejeicao</th>\n    </tr>\n  </thead>\n  <tbody>\n    <tr>\n      <th>3</th>\n      <td>5</td>\n      <td>bianca_andrade</td>\n      <td>-0.910711</td>\n      <td>-0.688923</td>\n      <td>-0.817217</td>\n      <td>-0.186453</td>\n      <td>1.818731</td>\n      <td>-0.707884</td>\n      <td>-0.11409</td>\n      <td>0.628456</td>\n    </tr>\n    <tr>\n      <th>4</th>\n      <td>5</td>\n      <td>flayslene</td>\n      <td>-1.17204</td>\n      <td>-1.03738</td>\n      <td>-0.845326</td>\n      <td>-0.689841</td>\n      <td>-0.099435</td>\n      <td>0.576336</td>\n      <td>-0.442438</td>\n      <td>-0.589628</td>\n    </tr>\n    <tr>\n      <th>5</th>\n      <td>5</td>\n      <td>felipe_prior</td>\n      <td>-0.823198</td>\n      <td>-0.565082</td>\n      <td>-0.222373</td>\n      <td>-1.129049</td>\n      <td>-1.032287</td>\n      <td>1.350184</td>\n      <td>-0.344107</td>\n      <td>-0.190014</td>\n    </tr>\n  </tbody>\n</table>\n</div>"
     },
     "metadata": {},
     "execution_count": 29
    }
   ],
   "source": [
    "train_df, test_df, mean, std = get_train_test(5, normalize=NORMALIZE)\n",
    "test_df\n",
    ""
   ]
  },
  {
   "cell_type": "code",
   "execution_count": 30,
   "metadata": {},
   "outputs": [],
   "source": [
    "x_train, y_train = train_df.drop(columns=[\"paredao\", \"nome\", \"rejeicao\"], axis=1).to_numpy(), train_df.drop(columns=train_df.columns[:-1], axis=1).to_numpy()\n",
    "x_test, y_test = test_df.drop(columns=[\"paredao\", \"nome\", \"rejeicao\"], axis=1).to_numpy(), test_df.drop(columns=train_df.columns[:-1], axis=1).to_numpy()"
   ]
  },
  {
   "cell_type": "code",
   "execution_count": 31,
   "metadata": {},
   "outputs": [],
   "source": [
    "regressor = LinearRegression()"
   ]
  },
  {
   "cell_type": "code",
   "execution_count": 32,
   "metadata": {},
   "outputs": [],
   "source": [
    "_ = regressor.fit(x_train, y_train)\n",
    ""
   ]
  },
  {
   "cell_type": "code",
   "execution_count": 33,
   "metadata": {},
   "outputs": [],
   "source": [
    "prediction = regressor.predict(x_test)\n",
    "test_df[\"predicao\"] = prediction * std + mean\n",
    "test_df[\"rejeicao\"] =  test_df[\"rejeicao\"] * std + mean\n",
    "summary_df = summary_df.append(test_df, ignore_index=True, sort=False)"
   ]
  },
  {
   "cell_type": "code",
   "execution_count": 34,
   "metadata": {},
   "outputs": [
    {
     "output_type": "execute_result",
     "data": {
      "text/plain": "  paredao            nome positivos   neutros negativos  positivos_pct  \\\n3       5  bianca_andrade -0.910711 -0.688923 -0.817217      -0.186453   \n4       5       flayslene  -1.17204  -1.03738 -0.845326      -0.689841   \n5       5    felipe_prior -0.823198 -0.565082 -0.222373      -1.129049   \n\n   neutros_pct  negativos_pct seguidores  rejeicao  predicao  \n3     1.818731      -0.707884   -0.11409    0.5309  0.701183  \n4    -0.099435       0.576336  -0.442438    0.1764  0.387472  \n5    -1.032287       1.350184  -0.344107    0.2927  0.326185  ",
      "text/html": "<div>\n<style scoped>\n    .dataframe tbody tr th:only-of-type {\n        vertical-align: middle;\n    }\n\n    .dataframe tbody tr th {\n        vertical-align: top;\n    }\n\n    .dataframe thead th {\n        text-align: right;\n    }\n</style>\n<table border=\"1\" class=\"dataframe\">\n  <thead>\n    <tr style=\"text-align: right;\">\n      <th></th>\n      <th>paredao</th>\n      <th>nome</th>\n      <th>positivos</th>\n      <th>neutros</th>\n      <th>negativos</th>\n      <th>positivos_pct</th>\n      <th>neutros_pct</th>\n      <th>negativos_pct</th>\n      <th>seguidores</th>\n      <th>rejeicao</th>\n      <th>predicao</th>\n    </tr>\n  </thead>\n  <tbody>\n    <tr>\n      <th>3</th>\n      <td>5</td>\n      <td>bianca_andrade</td>\n      <td>-0.910711</td>\n      <td>-0.688923</td>\n      <td>-0.817217</td>\n      <td>-0.186453</td>\n      <td>1.818731</td>\n      <td>-0.707884</td>\n      <td>-0.11409</td>\n      <td>0.5309</td>\n      <td>0.701183</td>\n    </tr>\n    <tr>\n      <th>4</th>\n      <td>5</td>\n      <td>flayslene</td>\n      <td>-1.17204</td>\n      <td>-1.03738</td>\n      <td>-0.845326</td>\n      <td>-0.689841</td>\n      <td>-0.099435</td>\n      <td>0.576336</td>\n      <td>-0.442438</td>\n      <td>0.1764</td>\n      <td>0.387472</td>\n    </tr>\n    <tr>\n      <th>5</th>\n      <td>5</td>\n      <td>felipe_prior</td>\n      <td>-0.823198</td>\n      <td>-0.565082</td>\n      <td>-0.222373</td>\n      <td>-1.129049</td>\n      <td>-1.032287</td>\n      <td>1.350184</td>\n      <td>-0.344107</td>\n      <td>0.2927</td>\n      <td>0.326185</td>\n    </tr>\n  </tbody>\n</table>\n</div>"
     },
     "metadata": {},
     "execution_count": 34
    }
   ],
   "source": [
    "test_df.sort_values(by=\"predicao\", ascending=False)"
   ]
  },
  {
   "cell_type": "markdown",
   "metadata": {},
   "source": [
    "# Paredao 6"
   ]
  },
  {
   "cell_type": "code",
   "execution_count": 35,
   "metadata": {},
   "outputs": [
    {
     "output_type": "execute_result",
     "data": {
      "text/plain": "  paredao             nome positivos   neutros negativos  positivos_pct  \\\n0       6  gizelly_bicalho   1.31197   0.22768 -0.447633       1.876341   \n1       6        guilherme  0.626715  0.917257   1.81364      -1.056580   \n2       6            pyong   1.76709   1.37221    1.7423      -0.338598   \n\n   neutros_pct  negativos_pct seguidores  rejeicao  \n0     0.193374      -1.531540  -0.301163 -1.173759  \n1    -1.636187       1.577124  -0.440806  0.730850  \n2    -1.273861       0.856154   0.963157  0.291722  ",
      "text/html": "<div>\n<style scoped>\n    .dataframe tbody tr th:only-of-type {\n        vertical-align: middle;\n    }\n\n    .dataframe tbody tr th {\n        vertical-align: top;\n    }\n\n    .dataframe thead th {\n        text-align: right;\n    }\n</style>\n<table border=\"1\" class=\"dataframe\">\n  <thead>\n    <tr style=\"text-align: right;\">\n      <th></th>\n      <th>paredao</th>\n      <th>nome</th>\n      <th>positivos</th>\n      <th>neutros</th>\n      <th>negativos</th>\n      <th>positivos_pct</th>\n      <th>neutros_pct</th>\n      <th>negativos_pct</th>\n      <th>seguidores</th>\n      <th>rejeicao</th>\n    </tr>\n  </thead>\n  <tbody>\n    <tr>\n      <th>0</th>\n      <td>6</td>\n      <td>gizelly_bicalho</td>\n      <td>1.31197</td>\n      <td>0.22768</td>\n      <td>-0.447633</td>\n      <td>1.876341</td>\n      <td>0.193374</td>\n      <td>-1.531540</td>\n      <td>-0.301163</td>\n      <td>-1.173759</td>\n    </tr>\n    <tr>\n      <th>1</th>\n      <td>6</td>\n      <td>guilherme</td>\n      <td>0.626715</td>\n      <td>0.917257</td>\n      <td>1.81364</td>\n      <td>-1.056580</td>\n      <td>-1.636187</td>\n      <td>1.577124</td>\n      <td>-0.440806</td>\n      <td>0.730850</td>\n    </tr>\n    <tr>\n      <th>2</th>\n      <td>6</td>\n      <td>pyong</td>\n      <td>1.76709</td>\n      <td>1.37221</td>\n      <td>1.7423</td>\n      <td>-0.338598</td>\n      <td>-1.273861</td>\n      <td>0.856154</td>\n      <td>0.963157</td>\n      <td>0.291722</td>\n    </tr>\n  </tbody>\n</table>\n</div>"
     },
     "metadata": {},
     "execution_count": 35
    }
   ],
   "source": [
    "train_df, test_df, mean, std = get_train_test(6, normalize=NORMALIZE)\n",
    "test_df\n",
    ""
   ]
  },
  {
   "cell_type": "code",
   "execution_count": 36,
   "metadata": {},
   "outputs": [],
   "source": [
    "x_train, y_train = train_df.drop(columns=[\"paredao\", \"nome\", \"rejeicao\"], axis=1).to_numpy(), train_df.drop(columns=train_df.columns[:-1], axis=1).to_numpy()\n",
    "x_test, y_test = test_df.drop(columns=[\"paredao\", \"nome\", \"rejeicao\"], axis=1).to_numpy(), test_df.drop(columns=train_df.columns[:-1], axis=1).to_numpy()"
   ]
  },
  {
   "cell_type": "code",
   "execution_count": 37,
   "metadata": {},
   "outputs": [],
   "source": [
    "regressor = LinearRegression()"
   ]
  },
  {
   "cell_type": "code",
   "execution_count": 38,
   "metadata": {},
   "outputs": [],
   "source": [
    "_ = regressor.fit(x_train, y_train)\n",
    ""
   ]
  },
  {
   "cell_type": "code",
   "execution_count": 39,
   "metadata": {},
   "outputs": [],
   "source": [
    "prediction = regressor.predict(x_test)\n",
    "test_df[\"predicao\"] = prediction * std + mean\n",
    "test_df[\"rejeicao\"] =  test_df[\"rejeicao\"] * std + mean\n",
    "summary_df = summary_df.append(test_df, ignore_index=True, sort=False)"
   ]
  },
  {
   "cell_type": "code",
   "execution_count": 40,
   "metadata": {},
   "outputs": [
    {
     "output_type": "execute_result",
     "data": {
      "text/plain": "  paredao             nome positivos   neutros negativos  positivos_pct  \\\n0       6  gizelly_bicalho   1.31197   0.22768 -0.447633       1.876341   \n2       6            pyong   1.76709   1.37221    1.7423      -0.338598   \n1       6        guilherme  0.626715  0.917257   1.81364      -1.056580   \n\n   neutros_pct  negativos_pct seguidores  rejeicao  predicao  \n0     0.193374      -1.531540  -0.301163    0.0064  0.392406  \n2    -1.273861       0.856154   0.963157    0.4329  0.080289  \n1    -1.636187       1.577124  -0.440806    0.5607 -0.071050  ",
      "text/html": "<div>\n<style scoped>\n    .dataframe tbody tr th:only-of-type {\n        vertical-align: middle;\n    }\n\n    .dataframe tbody tr th {\n        vertical-align: top;\n    }\n\n    .dataframe thead th {\n        text-align: right;\n    }\n</style>\n<table border=\"1\" class=\"dataframe\">\n  <thead>\n    <tr style=\"text-align: right;\">\n      <th></th>\n      <th>paredao</th>\n      <th>nome</th>\n      <th>positivos</th>\n      <th>neutros</th>\n      <th>negativos</th>\n      <th>positivos_pct</th>\n      <th>neutros_pct</th>\n      <th>negativos_pct</th>\n      <th>seguidores</th>\n      <th>rejeicao</th>\n      <th>predicao</th>\n    </tr>\n  </thead>\n  <tbody>\n    <tr>\n      <th>0</th>\n      <td>6</td>\n      <td>gizelly_bicalho</td>\n      <td>1.31197</td>\n      <td>0.22768</td>\n      <td>-0.447633</td>\n      <td>1.876341</td>\n      <td>0.193374</td>\n      <td>-1.531540</td>\n      <td>-0.301163</td>\n      <td>0.0064</td>\n      <td>0.392406</td>\n    </tr>\n    <tr>\n      <th>2</th>\n      <td>6</td>\n      <td>pyong</td>\n      <td>1.76709</td>\n      <td>1.37221</td>\n      <td>1.7423</td>\n      <td>-0.338598</td>\n      <td>-1.273861</td>\n      <td>0.856154</td>\n      <td>0.963157</td>\n      <td>0.4329</td>\n      <td>0.080289</td>\n    </tr>\n    <tr>\n      <th>1</th>\n      <td>6</td>\n      <td>guilherme</td>\n      <td>0.626715</td>\n      <td>0.917257</td>\n      <td>1.81364</td>\n      <td>-1.056580</td>\n      <td>-1.636187</td>\n      <td>1.577124</td>\n      <td>-0.440806</td>\n      <td>0.5607</td>\n      <td>-0.071050</td>\n    </tr>\n  </tbody>\n</table>\n</div>"
     },
     "metadata": {},
     "execution_count": 40
    }
   ],
   "source": [
    "test_df.sort_values(by=\"predicao\", ascending=False)"
   ]
  },
  {
   "cell_type": "markdown",
   "metadata": {},
   "source": [
    "# Paredao 7"
   ]
  },
  {
   "cell_type": "code",
   "execution_count": 41,
   "metadata": {},
   "outputs": [
    {
     "output_type": "execute_result",
     "data": {
      "text/plain": "  paredao          nome positivos   neutros negativos  positivos_pct  \\\n6       7          babu  0.502873 -0.175049 -0.291482       1.019019   \n7       7  manu_gavassi  0.102445 -0.325537 -0.625592       1.275171   \n8       7   victor_hugo -0.702597 -0.503921 -0.553526      -0.393212   \n\n   neutros_pct  negativos_pct seguidores  rejeicao  \n6    -0.698061      -0.455957   -0.21056 -1.037691  \n7     0.348206      -1.142289    4.03082 -0.845958  \n8     0.545336       0.046800  -0.533569  1.732462  ",
      "text/html": "<div>\n<style scoped>\n    .dataframe tbody tr th:only-of-type {\n        vertical-align: middle;\n    }\n\n    .dataframe tbody tr th {\n        vertical-align: top;\n    }\n\n    .dataframe thead th {\n        text-align: right;\n    }\n</style>\n<table border=\"1\" class=\"dataframe\">\n  <thead>\n    <tr style=\"text-align: right;\">\n      <th></th>\n      <th>paredao</th>\n      <th>nome</th>\n      <th>positivos</th>\n      <th>neutros</th>\n      <th>negativos</th>\n      <th>positivos_pct</th>\n      <th>neutros_pct</th>\n      <th>negativos_pct</th>\n      <th>seguidores</th>\n      <th>rejeicao</th>\n    </tr>\n  </thead>\n  <tbody>\n    <tr>\n      <th>6</th>\n      <td>7</td>\n      <td>babu</td>\n      <td>0.502873</td>\n      <td>-0.175049</td>\n      <td>-0.291482</td>\n      <td>1.019019</td>\n      <td>-0.698061</td>\n      <td>-0.455957</td>\n      <td>-0.21056</td>\n      <td>-1.037691</td>\n    </tr>\n    <tr>\n      <th>7</th>\n      <td>7</td>\n      <td>manu_gavassi</td>\n      <td>0.102445</td>\n      <td>-0.325537</td>\n      <td>-0.625592</td>\n      <td>1.275171</td>\n      <td>0.348206</td>\n      <td>-1.142289</td>\n      <td>4.03082</td>\n      <td>-0.845958</td>\n    </tr>\n    <tr>\n      <th>8</th>\n      <td>7</td>\n      <td>victor_hugo</td>\n      <td>-0.702597</td>\n      <td>-0.503921</td>\n      <td>-0.553526</td>\n      <td>-0.393212</td>\n      <td>0.545336</td>\n      <td>0.046800</td>\n      <td>-0.533569</td>\n      <td>1.732462</td>\n    </tr>\n  </tbody>\n</table>\n</div>"
     },
     "metadata": {},
     "execution_count": 41
    }
   ],
   "source": [
    "train_df, test_df, mean, std = get_train_test(7, normalize=NORMALIZE)\n",
    "test_df\n",
    ""
   ]
  },
  {
   "cell_type": "code",
   "execution_count": 42,
   "metadata": {},
   "outputs": [],
   "source": [
    "x_train, y_train = train_df.drop(columns=[\"paredao\", \"nome\", \"rejeicao\"], axis=1).to_numpy(), train_df.drop(columns=train_df.columns[:-1], axis=1).to_numpy()\n",
    "x_test, y_test = test_df.drop(columns=[\"paredao\", \"nome\", \"rejeicao\"], axis=1).to_numpy(), test_df.drop(columns=train_df.columns[:-1], axis=1).to_numpy()"
   ]
  },
  {
   "cell_type": "code",
   "execution_count": 43,
   "metadata": {},
   "outputs": [],
   "source": [
    "regressor = LinearRegression()"
   ]
  },
  {
   "cell_type": "code",
   "execution_count": 44,
   "metadata": {},
   "outputs": [],
   "source": [
    "_ = regressor.fit(x_train, y_train)\n",
    "prediction = regressor.predict(x_test)\n",
    "test_df[\"predicao\"] = prediction * std + mean\n",
    "test_df[\"rejeicao\"] =  test_df[\"rejeicao\"] * std + mean\n",
    "summary_df = summary_df.append(test_df, ignore_index=True, sort=False)"
   ]
  },
  {
   "cell_type": "code",
   "execution_count": 45,
   "metadata": {},
   "outputs": [
    {
     "output_type": "execute_result",
     "data": {
      "text/plain": "  paredao          nome positivos   neutros negativos  positivos_pct  \\\n8       7   victor_hugo -0.702597 -0.503921 -0.553526      -0.393212   \n6       7          babu  0.502873 -0.175049 -0.291482       1.019019   \n7       7  manu_gavassi  0.102445 -0.325537 -0.625592       1.275171   \n\n   neutros_pct  negativos_pct seguidores  rejeicao  predicao  \n8     0.545336       0.046800  -0.533569    0.8522  0.420122  \n6    -0.698061      -0.455957   -0.21056    0.0460  0.067295  \n7     0.348206      -1.142289    4.03082    0.1018 -0.254380  ",
      "text/html": "<div>\n<style scoped>\n    .dataframe tbody tr th:only-of-type {\n        vertical-align: middle;\n    }\n\n    .dataframe tbody tr th {\n        vertical-align: top;\n    }\n\n    .dataframe thead th {\n        text-align: right;\n    }\n</style>\n<table border=\"1\" class=\"dataframe\">\n  <thead>\n    <tr style=\"text-align: right;\">\n      <th></th>\n      <th>paredao</th>\n      <th>nome</th>\n      <th>positivos</th>\n      <th>neutros</th>\n      <th>negativos</th>\n      <th>positivos_pct</th>\n      <th>neutros_pct</th>\n      <th>negativos_pct</th>\n      <th>seguidores</th>\n      <th>rejeicao</th>\n      <th>predicao</th>\n    </tr>\n  </thead>\n  <tbody>\n    <tr>\n      <th>8</th>\n      <td>7</td>\n      <td>victor_hugo</td>\n      <td>-0.702597</td>\n      <td>-0.503921</td>\n      <td>-0.553526</td>\n      <td>-0.393212</td>\n      <td>0.545336</td>\n      <td>0.046800</td>\n      <td>-0.533569</td>\n      <td>0.8522</td>\n      <td>0.420122</td>\n    </tr>\n    <tr>\n      <th>6</th>\n      <td>7</td>\n      <td>babu</td>\n      <td>0.502873</td>\n      <td>-0.175049</td>\n      <td>-0.291482</td>\n      <td>1.019019</td>\n      <td>-0.698061</td>\n      <td>-0.455957</td>\n      <td>-0.21056</td>\n      <td>0.0460</td>\n      <td>0.067295</td>\n    </tr>\n    <tr>\n      <th>7</th>\n      <td>7</td>\n      <td>manu_gavassi</td>\n      <td>0.102445</td>\n      <td>-0.325537</td>\n      <td>-0.625592</td>\n      <td>1.275171</td>\n      <td>0.348206</td>\n      <td>-1.142289</td>\n      <td>4.03082</td>\n      <td>0.1018</td>\n      <td>-0.254380</td>\n    </tr>\n  </tbody>\n</table>\n</div>"
     },
     "metadata": {},
     "execution_count": 45
    }
   ],
   "source": [
    "test_df.sort_values(by=\"predicao\", ascending=False)"
   ]
  },
  {
   "cell_type": "markdown",
   "metadata": {},
   "source": [
    "# Paredao 8"
   ]
  },
  {
   "cell_type": "code",
   "execution_count": 46,
   "metadata": {},
   "outputs": [
    {
     "output_type": "execute_result",
     "data": {
      "text/plain": "   paredao   nome positivos    neutros negativos  positivos_pct  neutros_pct  \\\n11       8   babu   1.22364   0.811567  0.745207       0.024981    -0.762514   \n12       8   rafa  0.051666  0.0478648  0.497363      -0.652118    -1.403494   \n13       8  pyong   1.66621    1.97809   1.23227      -0.316515     0.209350   \n\n    negativos_pct seguidores  rejeicao  \n11       0.337636   -0.21056  0.443596  \n12       1.157603  -0.247869 -1.175477  \n13       0.145121   0.963157  0.580694  ",
      "text/html": "<div>\n<style scoped>\n    .dataframe tbody tr th:only-of-type {\n        vertical-align: middle;\n    }\n\n    .dataframe tbody tr th {\n        vertical-align: top;\n    }\n\n    .dataframe thead th {\n        text-align: right;\n    }\n</style>\n<table border=\"1\" class=\"dataframe\">\n  <thead>\n    <tr style=\"text-align: right;\">\n      <th></th>\n      <th>paredao</th>\n      <th>nome</th>\n      <th>positivos</th>\n      <th>neutros</th>\n      <th>negativos</th>\n      <th>positivos_pct</th>\n      <th>neutros_pct</th>\n      <th>negativos_pct</th>\n      <th>seguidores</th>\n      <th>rejeicao</th>\n    </tr>\n  </thead>\n  <tbody>\n    <tr>\n      <th>11</th>\n      <td>8</td>\n      <td>babu</td>\n      <td>1.22364</td>\n      <td>0.811567</td>\n      <td>0.745207</td>\n      <td>0.024981</td>\n      <td>-0.762514</td>\n      <td>0.337636</td>\n      <td>-0.21056</td>\n      <td>0.443596</td>\n    </tr>\n    <tr>\n      <th>12</th>\n      <td>8</td>\n      <td>rafa</td>\n      <td>0.051666</td>\n      <td>0.0478648</td>\n      <td>0.497363</td>\n      <td>-0.652118</td>\n      <td>-1.403494</td>\n      <td>1.157603</td>\n      <td>-0.247869</td>\n      <td>-1.175477</td>\n    </tr>\n    <tr>\n      <th>13</th>\n      <td>8</td>\n      <td>pyong</td>\n      <td>1.66621</td>\n      <td>1.97809</td>\n      <td>1.23227</td>\n      <td>-0.316515</td>\n      <td>0.209350</td>\n      <td>0.145121</td>\n      <td>0.963157</td>\n      <td>0.580694</td>\n    </tr>\n  </tbody>\n</table>\n</div>"
     },
     "metadata": {},
     "execution_count": 46
    }
   ],
   "source": [
    "train_df, test_df, mean, std = get_train_test(8, normalize=NORMALIZE)\n",
    "test_df\n",
    ""
   ]
  },
  {
   "cell_type": "code",
   "execution_count": 47,
   "metadata": {},
   "outputs": [],
   "source": [
    "x_train, y_train = train_df.drop(columns=[\"paredao\", \"nome\", \"rejeicao\"], axis=1).to_numpy(), train_df.drop(columns=train_df.columns[:-1], axis=1).to_numpy()\n",
    "x_test, y_test = test_df.drop(columns=[\"paredao\", \"nome\", \"rejeicao\"], axis=1).to_numpy(), test_df.drop(columns=train_df.columns[:-1], axis=1).to_numpy()"
   ]
  },
  {
   "cell_type": "code",
   "execution_count": 48,
   "metadata": {},
   "outputs": [],
   "source": [
    "regressor = LinearRegression()"
   ]
  },
  {
   "cell_type": "code",
   "execution_count": 49,
   "metadata": {},
   "outputs": [],
   "source": [
    "_ = regressor.fit(x_train, y_train)\n",
    "prediction = regressor.predict(x_test)\n",
    "test_df[\"predicao\"] = prediction * std + mean\n",
    "test_df[\"rejeicao\"] =  test_df[\"rejeicao\"] * std + mean\n",
    "summary_df = summary_df.append(test_df, ignore_index=True, sort=False)"
   ]
  },
  {
   "cell_type": "code",
   "execution_count": 50,
   "metadata": {},
   "outputs": [
    {
     "output_type": "execute_result",
     "data": {
      "text/plain": "   paredao   nome positivos    neutros negativos  positivos_pct  neutros_pct  \\\n13       8  pyong   1.66621    1.97809   1.23227      -0.316515     0.209350   \n11       8   babu   1.22364   0.811567  0.745207       0.024981    -0.762514   \n12       8   rafa  0.051666  0.0478648  0.497363      -0.652118    -1.403494   \n\n    negativos_pct seguidores  rejeicao  predicao  \n13       0.145121   0.963157    0.5170  0.626115  \n11       0.337636   -0.21056    0.4771  0.393805  \n12       1.157603  -0.247869    0.0059  0.273796  ",
      "text/html": "<div>\n<style scoped>\n    .dataframe tbody tr th:only-of-type {\n        vertical-align: middle;\n    }\n\n    .dataframe tbody tr th {\n        vertical-align: top;\n    }\n\n    .dataframe thead th {\n        text-align: right;\n    }\n</style>\n<table border=\"1\" class=\"dataframe\">\n  <thead>\n    <tr style=\"text-align: right;\">\n      <th></th>\n      <th>paredao</th>\n      <th>nome</th>\n      <th>positivos</th>\n      <th>neutros</th>\n      <th>negativos</th>\n      <th>positivos_pct</th>\n      <th>neutros_pct</th>\n      <th>negativos_pct</th>\n      <th>seguidores</th>\n      <th>rejeicao</th>\n      <th>predicao</th>\n    </tr>\n  </thead>\n  <tbody>\n    <tr>\n      <th>13</th>\n      <td>8</td>\n      <td>pyong</td>\n      <td>1.66621</td>\n      <td>1.97809</td>\n      <td>1.23227</td>\n      <td>-0.316515</td>\n      <td>0.209350</td>\n      <td>0.145121</td>\n      <td>0.963157</td>\n      <td>0.5170</td>\n      <td>0.626115</td>\n    </tr>\n    <tr>\n      <th>11</th>\n      <td>8</td>\n      <td>babu</td>\n      <td>1.22364</td>\n      <td>0.811567</td>\n      <td>0.745207</td>\n      <td>0.024981</td>\n      <td>-0.762514</td>\n      <td>0.337636</td>\n      <td>-0.21056</td>\n      <td>0.4771</td>\n      <td>0.393805</td>\n    </tr>\n    <tr>\n      <th>12</th>\n      <td>8</td>\n      <td>rafa</td>\n      <td>0.051666</td>\n      <td>0.0478648</td>\n      <td>0.497363</td>\n      <td>-0.652118</td>\n      <td>-1.403494</td>\n      <td>1.157603</td>\n      <td>-0.247869</td>\n      <td>0.0059</td>\n      <td>0.273796</td>\n    </tr>\n  </tbody>\n</table>\n</div>"
     },
     "metadata": {},
     "execution_count": 50
    }
   ],
   "source": [
    "test_df.sort_values(by=\"predicao\", ascending=False)"
   ]
  },
  {
   "cell_type": "markdown",
   "metadata": {},
   "source": [
    "# Sumarizando"
   ]
  },
  {
   "cell_type": "code",
   "execution_count": 51,
   "metadata": {},
   "outputs": [
    {
     "output_type": "execute_result",
     "data": {
      "text/plain": "   paredao             nome positivos    neutros negativos  positivos_pct  \\\n0        1   bianca_andrade -0.794162  -0.942596 -0.964547       1.561184   \n1        1     lucas_chumbo -0.745813  -0.444907 -0.448456      -0.732648   \n2        2             babu -0.967433  -0.958781 -0.961639       0.799896   \n3        2           petrix  0.927475    2.28541   1.88619      -1.124783   \n4        2            pyong   1.21068 -0.0468268 -0.521346       2.218114   \n5        2           hadson  0.506384    1.34708   1.47289      -1.108814   \n6        3     felipe_prior  -1.10181   -1.07878 -0.976566       0.552867   \n7        3           hadson  -1.16663    -0.9696 -0.953643      -0.356727   \n8        4             babu -0.569436  -0.443297 -0.235797      -0.633580   \n9        4      victor_hugo   -1.1041   -1.00251 -0.905567      -0.117662   \n10       4            lucas  0.160788   0.196027  0.380856      -0.490993   \n11       5   bianca_andrade -0.910711  -0.688923 -0.817217      -0.186453   \n12       5        flayslene  -1.17204   -1.03738 -0.845326      -0.689841   \n13       5     felipe_prior -0.823198  -0.565082 -0.222373      -1.129049   \n14       6  gizelly_bicalho   1.31197    0.22768 -0.447633       1.876341   \n15       6        guilherme  0.626715   0.917257   1.81364      -1.056580   \n16       6            pyong   1.76709    1.37221    1.7423      -0.338598   \n17       7             babu  0.502873  -0.175049 -0.291482       1.019019   \n18       7     manu_gavassi  0.102445  -0.325537 -0.625592       1.275171   \n19       7      victor_hugo -0.702597  -0.503921 -0.553526      -0.393212   \n20       8             babu   1.22364   0.811567  0.745207       0.024981   \n21       8             rafa  0.051666  0.0478648  0.497363      -0.652118   \n22       8            pyong   1.66621    1.97809   1.23227      -0.316515   \n\n    neutros_pct  negativos_pct seguidores  rejeicao  predicao  \n0      0.772986      -1.560727   -0.11409    0.2446 -0.083746  \n1      0.383329       0.383301  -0.536104    0.7594  0.468936  \n2      1.321293      -1.232632   -0.21056    0.0044  0.431864  \n3      0.125324       0.805199  -0.525007    0.8027  0.972677  \n4     -0.333899      -1.547286   0.963157    0.0066 -0.150953  \n5     -0.486615       1.079293  -0.538384    0.1863  0.747899  \n6      0.731226      -0.766787  -0.344107    0.2029  0.233994  \n7      2.136247      -0.725695  -0.538384    0.7971  0.715965  \n8     -0.737747       0.831827   -0.21056    0.0130  0.274083  \n9      0.737592      -0.254794  -0.533569    0.3608  0.402787  \n10    -0.858895       0.779011  -0.524361    0.6262  0.318127  \n11     1.818731      -0.707884   -0.11409    0.5309  0.701183  \n12    -0.099435       0.576336  -0.442438    0.1764  0.387472  \n13    -1.032287       1.350184  -0.344107    0.2927  0.326185  \n14     0.193374      -1.531540  -0.301163    0.0064  0.392406  \n15    -1.636187       1.577124  -0.440806    0.5607 -0.071050  \n16    -1.273861       0.856154   0.963157    0.4329  0.080289  \n17    -0.698061      -0.455957   -0.21056    0.0460  0.067295  \n18     0.348206      -1.142289    4.03082    0.1018 -0.254380  \n19     0.545336       0.046800  -0.533569    0.8522  0.420122  \n20    -0.762514       0.337636   -0.21056    0.4771  0.393805  \n21    -1.403494       1.157603  -0.247869    0.0059  0.273796  \n22     0.209350       0.145121   0.963157    0.5170  0.626115  ",
      "text/html": "<div>\n<style scoped>\n    .dataframe tbody tr th:only-of-type {\n        vertical-align: middle;\n    }\n\n    .dataframe tbody tr th {\n        vertical-align: top;\n    }\n\n    .dataframe thead th {\n        text-align: right;\n    }\n</style>\n<table border=\"1\" class=\"dataframe\">\n  <thead>\n    <tr style=\"text-align: right;\">\n      <th></th>\n      <th>paredao</th>\n      <th>nome</th>\n      <th>positivos</th>\n      <th>neutros</th>\n      <th>negativos</th>\n      <th>positivos_pct</th>\n      <th>neutros_pct</th>\n      <th>negativos_pct</th>\n      <th>seguidores</th>\n      <th>rejeicao</th>\n      <th>predicao</th>\n    </tr>\n  </thead>\n  <tbody>\n    <tr>\n      <th>0</th>\n      <td>1</td>\n      <td>bianca_andrade</td>\n      <td>-0.794162</td>\n      <td>-0.942596</td>\n      <td>-0.964547</td>\n      <td>1.561184</td>\n      <td>0.772986</td>\n      <td>-1.560727</td>\n      <td>-0.11409</td>\n      <td>0.2446</td>\n      <td>-0.083746</td>\n    </tr>\n    <tr>\n      <th>1</th>\n      <td>1</td>\n      <td>lucas_chumbo</td>\n      <td>-0.745813</td>\n      <td>-0.444907</td>\n      <td>-0.448456</td>\n      <td>-0.732648</td>\n      <td>0.383329</td>\n      <td>0.383301</td>\n      <td>-0.536104</td>\n      <td>0.7594</td>\n      <td>0.468936</td>\n    </tr>\n    <tr>\n      <th>2</th>\n      <td>2</td>\n      <td>babu</td>\n      <td>-0.967433</td>\n      <td>-0.958781</td>\n      <td>-0.961639</td>\n      <td>0.799896</td>\n      <td>1.321293</td>\n      <td>-1.232632</td>\n      <td>-0.21056</td>\n      <td>0.0044</td>\n      <td>0.431864</td>\n    </tr>\n    <tr>\n      <th>3</th>\n      <td>2</td>\n      <td>petrix</td>\n      <td>0.927475</td>\n      <td>2.28541</td>\n      <td>1.88619</td>\n      <td>-1.124783</td>\n      <td>0.125324</td>\n      <td>0.805199</td>\n      <td>-0.525007</td>\n      <td>0.8027</td>\n      <td>0.972677</td>\n    </tr>\n    <tr>\n      <th>4</th>\n      <td>2</td>\n      <td>pyong</td>\n      <td>1.21068</td>\n      <td>-0.0468268</td>\n      <td>-0.521346</td>\n      <td>2.218114</td>\n      <td>-0.333899</td>\n      <td>-1.547286</td>\n      <td>0.963157</td>\n      <td>0.0066</td>\n      <td>-0.150953</td>\n    </tr>\n    <tr>\n      <th>5</th>\n      <td>2</td>\n      <td>hadson</td>\n      <td>0.506384</td>\n      <td>1.34708</td>\n      <td>1.47289</td>\n      <td>-1.108814</td>\n      <td>-0.486615</td>\n      <td>1.079293</td>\n      <td>-0.538384</td>\n      <td>0.1863</td>\n      <td>0.747899</td>\n    </tr>\n    <tr>\n      <th>6</th>\n      <td>3</td>\n      <td>felipe_prior</td>\n      <td>-1.10181</td>\n      <td>-1.07878</td>\n      <td>-0.976566</td>\n      <td>0.552867</td>\n      <td>0.731226</td>\n      <td>-0.766787</td>\n      <td>-0.344107</td>\n      <td>0.2029</td>\n      <td>0.233994</td>\n    </tr>\n    <tr>\n      <th>7</th>\n      <td>3</td>\n      <td>hadson</td>\n      <td>-1.16663</td>\n      <td>-0.9696</td>\n      <td>-0.953643</td>\n      <td>-0.356727</td>\n      <td>2.136247</td>\n      <td>-0.725695</td>\n      <td>-0.538384</td>\n      <td>0.7971</td>\n      <td>0.715965</td>\n    </tr>\n    <tr>\n      <th>8</th>\n      <td>4</td>\n      <td>babu</td>\n      <td>-0.569436</td>\n      <td>-0.443297</td>\n      <td>-0.235797</td>\n      <td>-0.633580</td>\n      <td>-0.737747</td>\n      <td>0.831827</td>\n      <td>-0.21056</td>\n      <td>0.0130</td>\n      <td>0.274083</td>\n    </tr>\n    <tr>\n      <th>9</th>\n      <td>4</td>\n      <td>victor_hugo</td>\n      <td>-1.1041</td>\n      <td>-1.00251</td>\n      <td>-0.905567</td>\n      <td>-0.117662</td>\n      <td>0.737592</td>\n      <td>-0.254794</td>\n      <td>-0.533569</td>\n      <td>0.3608</td>\n      <td>0.402787</td>\n    </tr>\n    <tr>\n      <th>10</th>\n      <td>4</td>\n      <td>lucas</td>\n      <td>0.160788</td>\n      <td>0.196027</td>\n      <td>0.380856</td>\n      <td>-0.490993</td>\n      <td>-0.858895</td>\n      <td>0.779011</td>\n      <td>-0.524361</td>\n      <td>0.6262</td>\n      <td>0.318127</td>\n    </tr>\n    <tr>\n      <th>11</th>\n      <td>5</td>\n      <td>bianca_andrade</td>\n      <td>-0.910711</td>\n      <td>-0.688923</td>\n      <td>-0.817217</td>\n      <td>-0.186453</td>\n      <td>1.818731</td>\n      <td>-0.707884</td>\n      <td>-0.11409</td>\n      <td>0.5309</td>\n      <td>0.701183</td>\n    </tr>\n    <tr>\n      <th>12</th>\n      <td>5</td>\n      <td>flayslene</td>\n      <td>-1.17204</td>\n      <td>-1.03738</td>\n      <td>-0.845326</td>\n      <td>-0.689841</td>\n      <td>-0.099435</td>\n      <td>0.576336</td>\n      <td>-0.442438</td>\n      <td>0.1764</td>\n      <td>0.387472</td>\n    </tr>\n    <tr>\n      <th>13</th>\n      <td>5</td>\n      <td>felipe_prior</td>\n      <td>-0.823198</td>\n      <td>-0.565082</td>\n      <td>-0.222373</td>\n      <td>-1.129049</td>\n      <td>-1.032287</td>\n      <td>1.350184</td>\n      <td>-0.344107</td>\n      <td>0.2927</td>\n      <td>0.326185</td>\n    </tr>\n    <tr>\n      <th>14</th>\n      <td>6</td>\n      <td>gizelly_bicalho</td>\n      <td>1.31197</td>\n      <td>0.22768</td>\n      <td>-0.447633</td>\n      <td>1.876341</td>\n      <td>0.193374</td>\n      <td>-1.531540</td>\n      <td>-0.301163</td>\n      <td>0.0064</td>\n      <td>0.392406</td>\n    </tr>\n    <tr>\n      <th>15</th>\n      <td>6</td>\n      <td>guilherme</td>\n      <td>0.626715</td>\n      <td>0.917257</td>\n      <td>1.81364</td>\n      <td>-1.056580</td>\n      <td>-1.636187</td>\n      <td>1.577124</td>\n      <td>-0.440806</td>\n      <td>0.5607</td>\n      <td>-0.071050</td>\n    </tr>\n    <tr>\n      <th>16</th>\n      <td>6</td>\n      <td>pyong</td>\n      <td>1.76709</td>\n      <td>1.37221</td>\n      <td>1.7423</td>\n      <td>-0.338598</td>\n      <td>-1.273861</td>\n      <td>0.856154</td>\n      <td>0.963157</td>\n      <td>0.4329</td>\n      <td>0.080289</td>\n    </tr>\n    <tr>\n      <th>17</th>\n      <td>7</td>\n      <td>babu</td>\n      <td>0.502873</td>\n      <td>-0.175049</td>\n      <td>-0.291482</td>\n      <td>1.019019</td>\n      <td>-0.698061</td>\n      <td>-0.455957</td>\n      <td>-0.21056</td>\n      <td>0.0460</td>\n      <td>0.067295</td>\n    </tr>\n    <tr>\n      <th>18</th>\n      <td>7</td>\n      <td>manu_gavassi</td>\n      <td>0.102445</td>\n      <td>-0.325537</td>\n      <td>-0.625592</td>\n      <td>1.275171</td>\n      <td>0.348206</td>\n      <td>-1.142289</td>\n      <td>4.03082</td>\n      <td>0.1018</td>\n      <td>-0.254380</td>\n    </tr>\n    <tr>\n      <th>19</th>\n      <td>7</td>\n      <td>victor_hugo</td>\n      <td>-0.702597</td>\n      <td>-0.503921</td>\n      <td>-0.553526</td>\n      <td>-0.393212</td>\n      <td>0.545336</td>\n      <td>0.046800</td>\n      <td>-0.533569</td>\n      <td>0.8522</td>\n      <td>0.420122</td>\n    </tr>\n    <tr>\n      <th>20</th>\n      <td>8</td>\n      <td>babu</td>\n      <td>1.22364</td>\n      <td>0.811567</td>\n      <td>0.745207</td>\n      <td>0.024981</td>\n      <td>-0.762514</td>\n      <td>0.337636</td>\n      <td>-0.21056</td>\n      <td>0.4771</td>\n      <td>0.393805</td>\n    </tr>\n    <tr>\n      <th>21</th>\n      <td>8</td>\n      <td>rafa</td>\n      <td>0.051666</td>\n      <td>0.0478648</td>\n      <td>0.497363</td>\n      <td>-0.652118</td>\n      <td>-1.403494</td>\n      <td>1.157603</td>\n      <td>-0.247869</td>\n      <td>0.0059</td>\n      <td>0.273796</td>\n    </tr>\n    <tr>\n      <th>22</th>\n      <td>8</td>\n      <td>pyong</td>\n      <td>1.66621</td>\n      <td>1.97809</td>\n      <td>1.23227</td>\n      <td>-0.316515</td>\n      <td>0.209350</td>\n      <td>0.145121</td>\n      <td>0.963157</td>\n      <td>0.5170</td>\n      <td>0.626115</td>\n    </tr>\n  </tbody>\n</table>\n</div>"
     },
     "metadata": {},
     "execution_count": 51
    }
   ],
   "source": [
    "summary_df"
   ]
  },
  {
   "cell_type": "code",
   "execution_count": null,
   "metadata": {},
   "outputs": [],
   "source": []
  }
 ]
}