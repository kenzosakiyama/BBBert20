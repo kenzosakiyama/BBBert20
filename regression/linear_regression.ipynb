{
 "cells": [
  {
   "cell_type": "markdown",
   "metadata": {},
   "source": [
    "# Experimentos baseados em regressão linear"
   ]
  },
  {
   "cell_type": "markdown",
   "metadata": {},
   "source": [
    "- Utilizando cada paredão como teste e avaliando com holdout."
   ]
  },
  {
   "cell_type": "code",
   "execution_count": 1,
   "metadata": {},
   "outputs": [],
   "source": [
    "import pandas as pd \n",
    "import numpy as np \n",
    "from regression_utils import *\n",
    "from sklearn.linear_model import LinearRegression"
   ]
  },
  {
   "cell_type": "code",
   "execution_count": 2,
   "metadata": {},
   "outputs": [],
   "source": [
    "NORMALIZE = True\n",
    "REMOVE = [\"positivos\", \"neutros\", \"negativos\", \"likes\", \"retweets\", \"day2\", \"day3\"]"
   ]
  },
  {
   "cell_type": "code",
   "execution_count": 3,
   "metadata": {},
   "outputs": [],
   "source": [
    "summary_df = pd.DataFrame(columns=set(COLUMNS) - set(REMOVE))"
   ]
  },
  {
   "cell_type": "markdown",
   "metadata": {},
   "source": [
    "# Paredao 1"
   ]
  },
  {
   "cell_type": "code",
   "execution_count": 4,
   "metadata": {},
   "outputs": [],
   "source": [
    "train_df, test_df, mean, std = get_train_test(1, normalize=NORMALIZE, drop_columns=REMOVE)"
   ]
  },
  {
   "cell_type": "code",
   "execution_count": 5,
   "metadata": {},
   "outputs": [
    {
     "output_type": "execute_result",
     "data": {
      "text/plain": "   paredao            nome  positivos_individual_pct  neutros_individual_pct  \\\n27       1  bianca_andrade                  1.760213                0.782335   \n28       1    lucas_chumbo                 -0.860039                0.390775   \n\n    negativos_individual_pct  positivos_global_pct  neutros_global_pct  \\\n27                 -1.765358              1.127379           -0.123880   \n28                  0.451964              1.399946            2.481716   \n\n    negativos_global_pct      day1  seguidores      fica      fora  rejeicao  \n27             -0.853315 -1.165688   -0.155647 -0.348113 -0.562159 -0.350110  \n28              2.827485 -0.088057   -0.530422 -0.442702 -0.486207  1.482096  ",
      "text/html": "<div>\n<style scoped>\n    .dataframe tbody tr th:only-of-type {\n        vertical-align: middle;\n    }\n\n    .dataframe tbody tr th {\n        vertical-align: top;\n    }\n\n    .dataframe thead th {\n        text-align: right;\n    }\n</style>\n<table border=\"1\" class=\"dataframe\">\n  <thead>\n    <tr style=\"text-align: right;\">\n      <th></th>\n      <th>paredao</th>\n      <th>nome</th>\n      <th>positivos_individual_pct</th>\n      <th>neutros_individual_pct</th>\n      <th>negativos_individual_pct</th>\n      <th>positivos_global_pct</th>\n      <th>neutros_global_pct</th>\n      <th>negativos_global_pct</th>\n      <th>day1</th>\n      <th>seguidores</th>\n      <th>fica</th>\n      <th>fora</th>\n      <th>rejeicao</th>\n    </tr>\n  </thead>\n  <tbody>\n    <tr>\n      <th>27</th>\n      <td>1</td>\n      <td>bianca_andrade</td>\n      <td>1.760213</td>\n      <td>0.782335</td>\n      <td>-1.765358</td>\n      <td>1.127379</td>\n      <td>-0.123880</td>\n      <td>-0.853315</td>\n      <td>-1.165688</td>\n      <td>-0.155647</td>\n      <td>-0.348113</td>\n      <td>-0.562159</td>\n      <td>-0.350110</td>\n    </tr>\n    <tr>\n      <th>28</th>\n      <td>1</td>\n      <td>lucas_chumbo</td>\n      <td>-0.860039</td>\n      <td>0.390775</td>\n      <td>0.451964</td>\n      <td>1.399946</td>\n      <td>2.481716</td>\n      <td>2.827485</td>\n      <td>-0.088057</td>\n      <td>-0.530422</td>\n      <td>-0.442702</td>\n      <td>-0.486207</td>\n      <td>1.482096</td>\n    </tr>\n  </tbody>\n</table>\n</div>"
     },
     "metadata": {},
     "execution_count": 5
    }
   ],
   "source": [
    "test_df"
   ]
  },
  {
   "cell_type": "code",
   "execution_count": 6,
   "metadata": {},
   "outputs": [],
   "source": [
    "x_train, y_train = train_df.drop(columns=[\"paredao\", \"nome\", \"rejeicao\"], axis=1).to_numpy(), train_df.drop(columns=train_df.columns[:-1], axis=1).to_numpy()\n",
    "x_test, y_test = test_df.drop(columns=[\"paredao\", \"nome\", \"rejeicao\"], axis=1).to_numpy(), test_df.drop(columns=train_df.columns[:-1], axis=1).to_numpy()"
   ]
  },
  {
   "cell_type": "code",
   "execution_count": 7,
   "metadata": {},
   "outputs": [],
   "source": [
    "regressor = LinearRegression()"
   ]
  },
  {
   "cell_type": "code",
   "execution_count": 8,
   "metadata": {},
   "outputs": [],
   "source": [
    "_ = regressor.fit(x_train, y_train)"
   ]
  },
  {
   "cell_type": "code",
   "execution_count": 9,
   "metadata": {},
   "outputs": [],
   "source": [
    "prediction = regressor.predict(x_test)\n",
    "test_df[\"predicao\"] = prediction * std + mean\n",
    "test_df[\"rejeicao\"] =  test_df[\"rejeicao\"] * std + mean\n",
    "summary_df = summary_df.append(test_df, ignore_index=True, sort=False)"
   ]
  },
  {
   "cell_type": "code",
   "execution_count": 10,
   "metadata": {},
   "outputs": [
    {
     "output_type": "execute_result",
     "data": {
      "text/plain": "   paredao            nome  positivos_individual_pct  neutros_individual_pct  \\\n28       1    lucas_chumbo                 -0.860039                0.390775   \n27       1  bianca_andrade                  1.760213                0.782335   \n\n    negativos_individual_pct  positivos_global_pct  neutros_global_pct  \\\n28                  0.451964              1.399946            2.481716   \n27                 -1.765358              1.127379           -0.123880   \n\n    negativos_global_pct      day1  seguidores      fica      fora  rejeicao  \\\n28              2.827485 -0.088057   -0.530422 -0.442702 -0.486207    0.7594   \n27             -0.853315 -1.165688   -0.155647 -0.348113 -0.562159    0.2446   \n\n    predicao  \n28  0.872201  \n27  0.079102  ",
      "text/html": "<div>\n<style scoped>\n    .dataframe tbody tr th:only-of-type {\n        vertical-align: middle;\n    }\n\n    .dataframe tbody tr th {\n        vertical-align: top;\n    }\n\n    .dataframe thead th {\n        text-align: right;\n    }\n</style>\n<table border=\"1\" class=\"dataframe\">\n  <thead>\n    <tr style=\"text-align: right;\">\n      <th></th>\n      <th>paredao</th>\n      <th>nome</th>\n      <th>positivos_individual_pct</th>\n      <th>neutros_individual_pct</th>\n      <th>negativos_individual_pct</th>\n      <th>positivos_global_pct</th>\n      <th>neutros_global_pct</th>\n      <th>negativos_global_pct</th>\n      <th>day1</th>\n      <th>seguidores</th>\n      <th>fica</th>\n      <th>fora</th>\n      <th>rejeicao</th>\n      <th>predicao</th>\n    </tr>\n  </thead>\n  <tbody>\n    <tr>\n      <th>28</th>\n      <td>1</td>\n      <td>lucas_chumbo</td>\n      <td>-0.860039</td>\n      <td>0.390775</td>\n      <td>0.451964</td>\n      <td>1.399946</td>\n      <td>2.481716</td>\n      <td>2.827485</td>\n      <td>-0.088057</td>\n      <td>-0.530422</td>\n      <td>-0.442702</td>\n      <td>-0.486207</td>\n      <td>0.7594</td>\n      <td>0.872201</td>\n    </tr>\n    <tr>\n      <th>27</th>\n      <td>1</td>\n      <td>bianca_andrade</td>\n      <td>1.760213</td>\n      <td>0.782335</td>\n      <td>-1.765358</td>\n      <td>1.127379</td>\n      <td>-0.123880</td>\n      <td>-0.853315</td>\n      <td>-1.165688</td>\n      <td>-0.155647</td>\n      <td>-0.348113</td>\n      <td>-0.562159</td>\n      <td>0.2446</td>\n      <td>0.079102</td>\n    </tr>\n  </tbody>\n</table>\n</div>"
     },
     "metadata": {},
     "execution_count": 10
    }
   ],
   "source": [
    "test_df.sort_values(by=\"predicao\", ascending=False)"
   ]
  },
  {
   "cell_type": "markdown",
   "metadata": {},
   "source": [
    "# Paredao 2"
   ]
  },
  {
   "cell_type": "code",
   "execution_count": 11,
   "metadata": {},
   "outputs": [
    {
     "output_type": "execute_result",
     "data": {
      "text/plain": "   paredao    nome  positivos_individual_pct  neutros_individual_pct  \\\n23       2    babu                  0.890591                1.333317   \n24       2  petrix                 -1.307976                0.131512   \n25       2   pyong                  2.510627               -0.329952   \n26       2  hadson                 -1.289734               -0.483414   \n\n    negativos_individual_pct  positivos_global_pct  neutros_global_pct  \\\n23                 -1.391138             -2.212067           -2.162532   \n24                  0.933172             -0.209687            0.781232   \n25                 -1.750027              0.089578           -1.335029   \n26                  1.245799             -0.654661           -0.070206   \n\n    negativos_global_pct      day1  seguidores      fica      fora  rejeicao  \n23             -1.973631 -1.181174   -0.236752 -0.447320 -0.557600 -1.204998  \n24              0.793959  1.436304   -0.520675 -0.443071  0.004644  1.636204  \n25             -1.545743 -0.740116    0.799562 -0.400396 -0.559212 -1.197168  \n26              0.392304  0.071517   -0.532116 -0.450091 -0.326964 -0.557604  ",
      "text/html": "<div>\n<style scoped>\n    .dataframe tbody tr th:only-of-type {\n        vertical-align: middle;\n    }\n\n    .dataframe tbody tr th {\n        vertical-align: top;\n    }\n\n    .dataframe thead th {\n        text-align: right;\n    }\n</style>\n<table border=\"1\" class=\"dataframe\">\n  <thead>\n    <tr style=\"text-align: right;\">\n      <th></th>\n      <th>paredao</th>\n      <th>nome</th>\n      <th>positivos_individual_pct</th>\n      <th>neutros_individual_pct</th>\n      <th>negativos_individual_pct</th>\n      <th>positivos_global_pct</th>\n      <th>neutros_global_pct</th>\n      <th>negativos_global_pct</th>\n      <th>day1</th>\n      <th>seguidores</th>\n      <th>fica</th>\n      <th>fora</th>\n      <th>rejeicao</th>\n    </tr>\n  </thead>\n  <tbody>\n    <tr>\n      <th>23</th>\n      <td>2</td>\n      <td>babu</td>\n      <td>0.890591</td>\n      <td>1.333317</td>\n      <td>-1.391138</td>\n      <td>-2.212067</td>\n      <td>-2.162532</td>\n      <td>-1.973631</td>\n      <td>-1.181174</td>\n      <td>-0.236752</td>\n      <td>-0.447320</td>\n      <td>-0.557600</td>\n      <td>-1.204998</td>\n    </tr>\n    <tr>\n      <th>24</th>\n      <td>2</td>\n      <td>petrix</td>\n      <td>-1.307976</td>\n      <td>0.131512</td>\n      <td>0.933172</td>\n      <td>-0.209687</td>\n      <td>0.781232</td>\n      <td>0.793959</td>\n      <td>1.436304</td>\n      <td>-0.520675</td>\n      <td>-0.443071</td>\n      <td>0.004644</td>\n      <td>1.636204</td>\n    </tr>\n    <tr>\n      <th>25</th>\n      <td>2</td>\n      <td>pyong</td>\n      <td>2.510627</td>\n      <td>-0.329952</td>\n      <td>-1.750027</td>\n      <td>0.089578</td>\n      <td>-1.335029</td>\n      <td>-1.545743</td>\n      <td>-0.740116</td>\n      <td>0.799562</td>\n      <td>-0.400396</td>\n      <td>-0.559212</td>\n      <td>-1.197168</td>\n    </tr>\n    <tr>\n      <th>26</th>\n      <td>2</td>\n      <td>hadson</td>\n      <td>-1.289734</td>\n      <td>-0.483414</td>\n      <td>1.245799</td>\n      <td>-0.654661</td>\n      <td>-0.070206</td>\n      <td>0.392304</td>\n      <td>0.071517</td>\n      <td>-0.532116</td>\n      <td>-0.450091</td>\n      <td>-0.326964</td>\n      <td>-0.557604</td>\n    </tr>\n  </tbody>\n</table>\n</div>"
     },
     "metadata": {},
     "execution_count": 11
    }
   ],
   "source": [
    "train_df, test_df, mean, std = get_train_test(2, normalize=NORMALIZE, drop_columns=REMOVE)\n",
    "test_df\n",
    ""
   ]
  },
  {
   "cell_type": "code",
   "execution_count": 12,
   "metadata": {},
   "outputs": [],
   "source": [
    "x_train, y_train = train_df.drop(columns=[\"paredao\", \"nome\", \"rejeicao\"], axis=1).to_numpy(), train_df.drop(columns=train_df.columns[:-1], axis=1).to_numpy()\n",
    "x_test, y_test = test_df.drop(columns=[\"paredao\", \"nome\", \"rejeicao\"], axis=1).to_numpy(), test_df.drop(columns=train_df.columns[:-1], axis=1).to_numpy()"
   ]
  },
  {
   "cell_type": "code",
   "execution_count": 13,
   "metadata": {},
   "outputs": [],
   "source": [
    "regressor = LinearRegression()"
   ]
  },
  {
   "cell_type": "code",
   "execution_count": 14,
   "metadata": {},
   "outputs": [],
   "source": [
    "_ = regressor.fit(x_train, y_train)\n",
    ""
   ]
  },
  {
   "cell_type": "code",
   "execution_count": 15,
   "metadata": {},
   "outputs": [],
   "source": [
    "prediction = regressor.predict(x_test)\n",
    "test_df[\"predicao\"] = prediction * std + mean\n",
    "test_df[\"rejeicao\"] =  test_df[\"rejeicao\"] * std + mean\n",
    "summary_df = summary_df.append(test_df, ignore_index=True, sort=False)"
   ]
  },
  {
   "cell_type": "code",
   "execution_count": 16,
   "metadata": {},
   "outputs": [
    {
     "output_type": "execute_result",
     "data": {
      "text/plain": "   paredao    nome  positivos_individual_pct  neutros_individual_pct  \\\n24       2  petrix                 -1.307976                0.131512   \n26       2  hadson                 -1.289734               -0.483414   \n23       2    babu                  0.890591                1.333317   \n25       2   pyong                  2.510627               -0.329952   \n\n    negativos_individual_pct  positivos_global_pct  neutros_global_pct  \\\n24                  0.933172             -0.209687            0.781232   \n26                  1.245799             -0.654661           -0.070206   \n23                 -1.391138             -2.212067           -2.162532   \n25                 -1.750027              0.089578           -1.335029   \n\n    negativos_global_pct      day1  seguidores      fica      fora  rejeicao  \\\n24              0.793959  1.436304   -0.520675 -0.443071  0.004644    0.8027   \n26              0.392304  0.071517   -0.532116 -0.450091 -0.326964    0.1863   \n23             -1.973631 -1.181174   -0.236752 -0.447320 -0.557600    0.0044   \n25             -1.545743 -0.740116    0.799562 -0.400396 -0.559212    0.0066   \n\n    predicao  \n24  0.732089  \n26  0.448729  \n23  0.166767  \n25 -0.168457  ",
      "text/html": "<div>\n<style scoped>\n    .dataframe tbody tr th:only-of-type {\n        vertical-align: middle;\n    }\n\n    .dataframe tbody tr th {\n        vertical-align: top;\n    }\n\n    .dataframe thead th {\n        text-align: right;\n    }\n</style>\n<table border=\"1\" class=\"dataframe\">\n  <thead>\n    <tr style=\"text-align: right;\">\n      <th></th>\n      <th>paredao</th>\n      <th>nome</th>\n      <th>positivos_individual_pct</th>\n      <th>neutros_individual_pct</th>\n      <th>negativos_individual_pct</th>\n      <th>positivos_global_pct</th>\n      <th>neutros_global_pct</th>\n      <th>negativos_global_pct</th>\n      <th>day1</th>\n      <th>seguidores</th>\n      <th>fica</th>\n      <th>fora</th>\n      <th>rejeicao</th>\n      <th>predicao</th>\n    </tr>\n  </thead>\n  <tbody>\n    <tr>\n      <th>24</th>\n      <td>2</td>\n      <td>petrix</td>\n      <td>-1.307976</td>\n      <td>0.131512</td>\n      <td>0.933172</td>\n      <td>-0.209687</td>\n      <td>0.781232</td>\n      <td>0.793959</td>\n      <td>1.436304</td>\n      <td>-0.520675</td>\n      <td>-0.443071</td>\n      <td>0.004644</td>\n      <td>0.8027</td>\n      <td>0.732089</td>\n    </tr>\n    <tr>\n      <th>26</th>\n      <td>2</td>\n      <td>hadson</td>\n      <td>-1.289734</td>\n      <td>-0.483414</td>\n      <td>1.245799</td>\n      <td>-0.654661</td>\n      <td>-0.070206</td>\n      <td>0.392304</td>\n      <td>0.071517</td>\n      <td>-0.532116</td>\n      <td>-0.450091</td>\n      <td>-0.326964</td>\n      <td>0.1863</td>\n      <td>0.448729</td>\n    </tr>\n    <tr>\n      <th>23</th>\n      <td>2</td>\n      <td>babu</td>\n      <td>0.890591</td>\n      <td>1.333317</td>\n      <td>-1.391138</td>\n      <td>-2.212067</td>\n      <td>-2.162532</td>\n      <td>-1.973631</td>\n      <td>-1.181174</td>\n      <td>-0.236752</td>\n      <td>-0.447320</td>\n      <td>-0.557600</td>\n      <td>0.0044</td>\n      <td>0.166767</td>\n    </tr>\n    <tr>\n      <th>25</th>\n      <td>2</td>\n      <td>pyong</td>\n      <td>2.510627</td>\n      <td>-0.329952</td>\n      <td>-1.750027</td>\n      <td>0.089578</td>\n      <td>-1.335029</td>\n      <td>-1.545743</td>\n      <td>-0.740116</td>\n      <td>0.799562</td>\n      <td>-0.400396</td>\n      <td>-0.559212</td>\n      <td>0.0066</td>\n      <td>-0.168457</td>\n    </tr>\n  </tbody>\n</table>\n</div>"
     },
     "metadata": {},
     "execution_count": 16
    }
   ],
   "source": [
    "test_df.sort_values(by=\"predicao\", ascending=False)"
   ]
  },
  {
   "cell_type": "markdown",
   "metadata": {},
   "source": [
    "# Paredao 3"
   ]
  },
  {
   "cell_type": "code",
   "execution_count": 17,
   "metadata": {},
   "outputs": [
    {
     "output_type": "execute_result",
     "data": {
      "text/plain": "   paredao          nome  positivos_individual_pct  neutros_individual_pct  \\\n9        3  felipe_prior                  0.608409                0.740371   \n10       3        hadson                 -0.430622                2.152249   \n\n    negativos_individual_pct  positivos_global_pct  neutros_global_pct  \\\n9                  -0.859805              1.637106            0.648507   \n10                 -0.812936              0.890219            1.709329   \n\n    negativos_global_pct      day1  seguidores      fica      fora  rejeicao  \n9               0.789036 -1.465908   -0.350454 -0.433095 -0.561214 -0.498523  \n10              1.185134 -1.417157   -0.532116 -0.448614 -0.486986  1.616273  ",
      "text/html": "<div>\n<style scoped>\n    .dataframe tbody tr th:only-of-type {\n        vertical-align: middle;\n    }\n\n    .dataframe tbody tr th {\n        vertical-align: top;\n    }\n\n    .dataframe thead th {\n        text-align: right;\n    }\n</style>\n<table border=\"1\" class=\"dataframe\">\n  <thead>\n    <tr style=\"text-align: right;\">\n      <th></th>\n      <th>paredao</th>\n      <th>nome</th>\n      <th>positivos_individual_pct</th>\n      <th>neutros_individual_pct</th>\n      <th>negativos_individual_pct</th>\n      <th>positivos_global_pct</th>\n      <th>neutros_global_pct</th>\n      <th>negativos_global_pct</th>\n      <th>day1</th>\n      <th>seguidores</th>\n      <th>fica</th>\n      <th>fora</th>\n      <th>rejeicao</th>\n    </tr>\n  </thead>\n  <tbody>\n    <tr>\n      <th>9</th>\n      <td>3</td>\n      <td>felipe_prior</td>\n      <td>0.608409</td>\n      <td>0.740371</td>\n      <td>-0.859805</td>\n      <td>1.637106</td>\n      <td>0.648507</td>\n      <td>0.789036</td>\n      <td>-1.465908</td>\n      <td>-0.350454</td>\n      <td>-0.433095</td>\n      <td>-0.561214</td>\n      <td>-0.498523</td>\n    </tr>\n    <tr>\n      <th>10</th>\n      <td>3</td>\n      <td>hadson</td>\n      <td>-0.430622</td>\n      <td>2.152249</td>\n      <td>-0.812936</td>\n      <td>0.890219</td>\n      <td>1.709329</td>\n      <td>1.185134</td>\n      <td>-1.417157</td>\n      <td>-0.532116</td>\n      <td>-0.448614</td>\n      <td>-0.486986</td>\n      <td>1.616273</td>\n    </tr>\n  </tbody>\n</table>\n</div>"
     },
     "metadata": {},
     "execution_count": 17
    }
   ],
   "source": [
    "train_df, test_df, mean, std = get_train_test(3, normalize=NORMALIZE, drop_columns=REMOVE)\n",
    "test_df\n",
    ""
   ]
  },
  {
   "cell_type": "code",
   "execution_count": 18,
   "metadata": {},
   "outputs": [],
   "source": [
    "x_train, y_train = train_df.drop(columns=[\"paredao\", \"nome\", \"rejeicao\"], axis=1).to_numpy(), train_df.drop(columns=train_df.columns[:-1], axis=1).to_numpy()\n",
    "x_test, y_test = test_df.drop(columns=[\"paredao\", \"nome\", \"rejeicao\"], axis=1).to_numpy(), test_df.drop(columns=train_df.columns[:-1], axis=1).to_numpy()"
   ]
  },
  {
   "cell_type": "code",
   "execution_count": 19,
   "metadata": {},
   "outputs": [],
   "source": [
    "regressor = LinearRegression()"
   ]
  },
  {
   "cell_type": "code",
   "execution_count": 20,
   "metadata": {},
   "outputs": [],
   "source": [
    "_ = regressor.fit(x_train, y_train)"
   ]
  },
  {
   "cell_type": "code",
   "execution_count": 21,
   "metadata": {},
   "outputs": [],
   "source": [
    "prediction = regressor.predict(x_test)\n",
    "test_df[\"predicao\"] = prediction * std + mean\n",
    "test_df[\"rejeicao\"] =  test_df[\"rejeicao\"] * std + mean\n",
    "summary_df = summary_df.append(test_df, ignore_index=True, sort=False)"
   ]
  },
  {
   "cell_type": "code",
   "execution_count": 22,
   "metadata": {},
   "outputs": [
    {
     "output_type": "execute_result",
     "data": {
      "text/plain": "   paredao          nome  positivos_individual_pct  neutros_individual_pct  \\\n10       3        hadson                 -0.430622                2.152249   \n9        3  felipe_prior                  0.608409                0.740371   \n\n    negativos_individual_pct  positivos_global_pct  neutros_global_pct  \\\n10                 -0.812936              0.890219            1.709329   \n9                  -0.859805              1.637106            0.648507   \n\n    negativos_global_pct      day1  seguidores      fica      fora  rejeicao  \\\n10              1.185134 -1.417157   -0.532116 -0.448614 -0.486986    0.7971   \n9               0.789036 -1.465908   -0.350454 -0.433095 -0.561214    0.2029   \n\n    predicao  \n10  0.790585  \n9   0.209649  ",
      "text/html": "<div>\n<style scoped>\n    .dataframe tbody tr th:only-of-type {\n        vertical-align: middle;\n    }\n\n    .dataframe tbody tr th {\n        vertical-align: top;\n    }\n\n    .dataframe thead th {\n        text-align: right;\n    }\n</style>\n<table border=\"1\" class=\"dataframe\">\n  <thead>\n    <tr style=\"text-align: right;\">\n      <th></th>\n      <th>paredao</th>\n      <th>nome</th>\n      <th>positivos_individual_pct</th>\n      <th>neutros_individual_pct</th>\n      <th>negativos_individual_pct</th>\n      <th>positivos_global_pct</th>\n      <th>neutros_global_pct</th>\n      <th>negativos_global_pct</th>\n      <th>day1</th>\n      <th>seguidores</th>\n      <th>fica</th>\n      <th>fora</th>\n      <th>rejeicao</th>\n      <th>predicao</th>\n    </tr>\n  </thead>\n  <tbody>\n    <tr>\n      <th>10</th>\n      <td>3</td>\n      <td>hadson</td>\n      <td>-0.430622</td>\n      <td>2.152249</td>\n      <td>-0.812936</td>\n      <td>0.890219</td>\n      <td>1.709329</td>\n      <td>1.185134</td>\n      <td>-1.417157</td>\n      <td>-0.532116</td>\n      <td>-0.448614</td>\n      <td>-0.486986</td>\n      <td>0.7971</td>\n      <td>0.790585</td>\n    </tr>\n    <tr>\n      <th>9</th>\n      <td>3</td>\n      <td>felipe_prior</td>\n      <td>0.608409</td>\n      <td>0.740371</td>\n      <td>-0.859805</td>\n      <td>1.637106</td>\n      <td>0.648507</td>\n      <td>0.789036</td>\n      <td>-1.465908</td>\n      <td>-0.350454</td>\n      <td>-0.433095</td>\n      <td>-0.561214</td>\n      <td>0.2029</td>\n      <td>0.209649</td>\n    </tr>\n  </tbody>\n</table>\n</div>"
     },
     "metadata": {},
     "execution_count": 22
    }
   ],
   "source": [
    "test_df.sort_values(by=\"predicao\", ascending=False)"
   ]
  },
  {
   "cell_type": "markdown",
   "metadata": {},
   "source": [
    "# Paredao 4"
   ]
  },
  {
   "cell_type": "code",
   "execution_count": 23,
   "metadata": {},
   "outputs": [
    {
     "output_type": "execute_result",
     "data": {
      "text/plain": "   paredao         nome  positivos_individual_pct  neutros_individual_pct  \\\n32       4         babu                 -0.746873               -0.735772   \n33       4  victor_hugo                 -0.157538                0.746768   \n34       4        lucas                 -0.583996               -0.857511   \n\n    negativos_individual_pct  positivos_global_pct  neutros_global_pct  \\\n32                  0.963544             -0.255072           -0.138660   \n33                 -0.275835             -1.719076           -1.546027   \n34                  0.903302              1.744391            1.470338   \n\n    negativos_global_pct      day1  seguidores      fica      fora  rejeicao  \n32             -0.018326 -0.374066   -0.236752 -0.429400 -0.547925 -1.174390  \n33             -1.588093 -1.102216   -0.528187 -0.445103 -0.533747  0.063453  \n34              1.426949  0.515060   -0.519498 -0.414251 -0.234499  1.008029  ",
      "text/html": "<div>\n<style scoped>\n    .dataframe tbody tr th:only-of-type {\n        vertical-align: middle;\n    }\n\n    .dataframe tbody tr th {\n        vertical-align: top;\n    }\n\n    .dataframe thead th {\n        text-align: right;\n    }\n</style>\n<table border=\"1\" class=\"dataframe\">\n  <thead>\n    <tr style=\"text-align: right;\">\n      <th></th>\n      <th>paredao</th>\n      <th>nome</th>\n      <th>positivos_individual_pct</th>\n      <th>neutros_individual_pct</th>\n      <th>negativos_individual_pct</th>\n      <th>positivos_global_pct</th>\n      <th>neutros_global_pct</th>\n      <th>negativos_global_pct</th>\n      <th>day1</th>\n      <th>seguidores</th>\n      <th>fica</th>\n      <th>fora</th>\n      <th>rejeicao</th>\n    </tr>\n  </thead>\n  <tbody>\n    <tr>\n      <th>32</th>\n      <td>4</td>\n      <td>babu</td>\n      <td>-0.746873</td>\n      <td>-0.735772</td>\n      <td>0.963544</td>\n      <td>-0.255072</td>\n      <td>-0.138660</td>\n      <td>-0.018326</td>\n      <td>-0.374066</td>\n      <td>-0.236752</td>\n      <td>-0.429400</td>\n      <td>-0.547925</td>\n      <td>-1.174390</td>\n    </tr>\n    <tr>\n      <th>33</th>\n      <td>4</td>\n      <td>victor_hugo</td>\n      <td>-0.157538</td>\n      <td>0.746768</td>\n      <td>-0.275835</td>\n      <td>-1.719076</td>\n      <td>-1.546027</td>\n      <td>-1.588093</td>\n      <td>-1.102216</td>\n      <td>-0.528187</td>\n      <td>-0.445103</td>\n      <td>-0.533747</td>\n      <td>0.063453</td>\n    </tr>\n    <tr>\n      <th>34</th>\n      <td>4</td>\n      <td>lucas</td>\n      <td>-0.583996</td>\n      <td>-0.857511</td>\n      <td>0.903302</td>\n      <td>1.744391</td>\n      <td>1.470338</td>\n      <td>1.426949</td>\n      <td>0.515060</td>\n      <td>-0.519498</td>\n      <td>-0.414251</td>\n      <td>-0.234499</td>\n      <td>1.008029</td>\n    </tr>\n  </tbody>\n</table>\n</div>"
     },
     "metadata": {},
     "execution_count": 23
    }
   ],
   "source": [
    "train_df, test_df, mean, std = get_train_test(4, normalize=NORMALIZE, drop_columns=REMOVE)\n",
    "test_df\n",
    ""
   ]
  },
  {
   "cell_type": "code",
   "execution_count": 24,
   "metadata": {},
   "outputs": [],
   "source": [
    "x_train, y_train = train_df.drop(columns=[\"paredao\", \"nome\", \"rejeicao\"], axis=1).to_numpy(), train_df.drop(columns=train_df.columns[:-1], axis=1).to_numpy()\n",
    "x_test, y_test = test_df.drop(columns=[\"paredao\", \"nome\", \"rejeicao\"], axis=1).to_numpy(), test_df.drop(columns=train_df.columns[:-1], axis=1).to_numpy()"
   ]
  },
  {
   "cell_type": "code",
   "execution_count": 25,
   "metadata": {},
   "outputs": [],
   "source": [
    "regressor = LinearRegression()"
   ]
  },
  {
   "cell_type": "code",
   "execution_count": 26,
   "metadata": {},
   "outputs": [],
   "source": [
    "_ = regressor.fit(x_train, y_train)\n",
    ""
   ]
  },
  {
   "cell_type": "code",
   "execution_count": 27,
   "metadata": {},
   "outputs": [],
   "source": [
    "prediction = regressor.predict(x_test)\n",
    "test_df[\"predicao\"] = prediction * std + mean\n",
    "test_df[\"rejeicao\"] =  test_df[\"rejeicao\"] * std + mean\n",
    "summary_df = summary_df.append(test_df, ignore_index=True, sort=False)"
   ]
  },
  {
   "cell_type": "code",
   "execution_count": 28,
   "metadata": {},
   "outputs": [
    {
     "output_type": "execute_result",
     "data": {
      "text/plain": "   paredao         nome  positivos_individual_pct  neutros_individual_pct  \\\n34       4        lucas                 -0.583996               -0.857511   \n32       4         babu                 -0.746873               -0.735772   \n33       4  victor_hugo                 -0.157538                0.746768   \n\n    negativos_individual_pct  positivos_global_pct  neutros_global_pct  \\\n34                  0.903302              1.744391            1.470338   \n32                  0.963544             -0.255072           -0.138660   \n33                 -0.275835             -1.719076           -1.546027   \n\n    negativos_global_pct      day1  seguidores      fica      fora  rejeicao  \\\n34              1.426949  0.515060   -0.519498 -0.414251 -0.234499    0.6262   \n32             -0.018326 -0.374066   -0.236752 -0.429400 -0.547925    0.0130   \n33             -1.588093 -1.102216   -0.528187 -0.445103 -0.533747    0.3608   \n\n    predicao  \n34  0.444908  \n32  0.305041  \n33  0.234123  ",
      "text/html": "<div>\n<style scoped>\n    .dataframe tbody tr th:only-of-type {\n        vertical-align: middle;\n    }\n\n    .dataframe tbody tr th {\n        vertical-align: top;\n    }\n\n    .dataframe thead th {\n        text-align: right;\n    }\n</style>\n<table border=\"1\" class=\"dataframe\">\n  <thead>\n    <tr style=\"text-align: right;\">\n      <th></th>\n      <th>paredao</th>\n      <th>nome</th>\n      <th>positivos_individual_pct</th>\n      <th>neutros_individual_pct</th>\n      <th>negativos_individual_pct</th>\n      <th>positivos_global_pct</th>\n      <th>neutros_global_pct</th>\n      <th>negativos_global_pct</th>\n      <th>day1</th>\n      <th>seguidores</th>\n      <th>fica</th>\n      <th>fora</th>\n      <th>rejeicao</th>\n      <th>predicao</th>\n    </tr>\n  </thead>\n  <tbody>\n    <tr>\n      <th>34</th>\n      <td>4</td>\n      <td>lucas</td>\n      <td>-0.583996</td>\n      <td>-0.857511</td>\n      <td>0.903302</td>\n      <td>1.744391</td>\n      <td>1.470338</td>\n      <td>1.426949</td>\n      <td>0.515060</td>\n      <td>-0.519498</td>\n      <td>-0.414251</td>\n      <td>-0.234499</td>\n      <td>0.6262</td>\n      <td>0.444908</td>\n    </tr>\n    <tr>\n      <th>32</th>\n      <td>4</td>\n      <td>babu</td>\n      <td>-0.746873</td>\n      <td>-0.735772</td>\n      <td>0.963544</td>\n      <td>-0.255072</td>\n      <td>-0.138660</td>\n      <td>-0.018326</td>\n      <td>-0.374066</td>\n      <td>-0.236752</td>\n      <td>-0.429400</td>\n      <td>-0.547925</td>\n      <td>0.0130</td>\n      <td>0.305041</td>\n    </tr>\n    <tr>\n      <th>33</th>\n      <td>4</td>\n      <td>victor_hugo</td>\n      <td>-0.157538</td>\n      <td>0.746768</td>\n      <td>-0.275835</td>\n      <td>-1.719076</td>\n      <td>-1.546027</td>\n      <td>-1.588093</td>\n      <td>-1.102216</td>\n      <td>-0.528187</td>\n      <td>-0.445103</td>\n      <td>-0.533747</td>\n      <td>0.3608</td>\n      <td>0.234123</td>\n    </tr>\n  </tbody>\n</table>\n</div>"
     },
     "metadata": {},
     "execution_count": 28
    }
   ],
   "source": [
    "test_df.sort_values(by=\"predicao\", ascending=False)"
   ]
  },
  {
   "cell_type": "markdown",
   "metadata": {},
   "source": [
    "# Paredao 5"
   ]
  },
  {
   "cell_type": "code",
   "execution_count": 29,
   "metadata": {},
   "outputs": [
    {
     "output_type": "execute_result",
     "data": {
      "text/plain": "  paredao            nome  positivos_individual_pct  neutros_individual_pct  \\\n3       5  bianca_andrade                 -0.236119                1.833184   \n4       5       flayslene                 -0.811141               -0.094344   \n5       5    felipe_prior                 -1.312849               -1.031750   \n\n   negativos_individual_pct  positivos_global_pct  neutros_global_pct  \\\n3                 -0.792621              0.225234            0.218183   \n4                  0.672135             -1.136120           -1.129786   \n5                  1.554772              0.681129            0.697254   \n\n   negativos_global_pct      day1  seguidores      fica      fora  rejeicao  \n3             -0.822599 -1.411103   -0.155647 -0.342202 -0.458796  0.668850  \n4             -0.936095 -1.415117   -0.444079 -0.402243 -0.405752 -0.592838  \n5              1.579224 -1.340811   -0.350454 -0.307101 -0.172392 -0.178919  ",
      "text/html": "<div>\n<style scoped>\n    .dataframe tbody tr th:only-of-type {\n        vertical-align: middle;\n    }\n\n    .dataframe tbody tr th {\n        vertical-align: top;\n    }\n\n    .dataframe thead th {\n        text-align: right;\n    }\n</style>\n<table border=\"1\" class=\"dataframe\">\n  <thead>\n    <tr style=\"text-align: right;\">\n      <th></th>\n      <th>paredao</th>\n      <th>nome</th>\n      <th>positivos_individual_pct</th>\n      <th>neutros_individual_pct</th>\n      <th>negativos_individual_pct</th>\n      <th>positivos_global_pct</th>\n      <th>neutros_global_pct</th>\n      <th>negativos_global_pct</th>\n      <th>day1</th>\n      <th>seguidores</th>\n      <th>fica</th>\n      <th>fora</th>\n      <th>rejeicao</th>\n    </tr>\n  </thead>\n  <tbody>\n    <tr>\n      <th>3</th>\n      <td>5</td>\n      <td>bianca_andrade</td>\n      <td>-0.236119</td>\n      <td>1.833184</td>\n      <td>-0.792621</td>\n      <td>0.225234</td>\n      <td>0.218183</td>\n      <td>-0.822599</td>\n      <td>-1.411103</td>\n      <td>-0.155647</td>\n      <td>-0.342202</td>\n      <td>-0.458796</td>\n      <td>0.668850</td>\n    </tr>\n    <tr>\n      <th>4</th>\n      <td>5</td>\n      <td>flayslene</td>\n      <td>-0.811141</td>\n      <td>-0.094344</td>\n      <td>0.672135</td>\n      <td>-1.136120</td>\n      <td>-1.129786</td>\n      <td>-0.936095</td>\n      <td>-1.415117</td>\n      <td>-0.444079</td>\n      <td>-0.402243</td>\n      <td>-0.405752</td>\n      <td>-0.592838</td>\n    </tr>\n    <tr>\n      <th>5</th>\n      <td>5</td>\n      <td>felipe_prior</td>\n      <td>-1.312849</td>\n      <td>-1.031750</td>\n      <td>1.554772</td>\n      <td>0.681129</td>\n      <td>0.697254</td>\n      <td>1.579224</td>\n      <td>-1.340811</td>\n      <td>-0.350454</td>\n      <td>-0.307101</td>\n      <td>-0.172392</td>\n      <td>-0.178919</td>\n    </tr>\n  </tbody>\n</table>\n</div>"
     },
     "metadata": {},
     "execution_count": 29
    }
   ],
   "source": [
    "train_df, test_df, mean, std = get_train_test(5, normalize=NORMALIZE, drop_columns=REMOVE)\n",
    "test_df\n",
    ""
   ]
  },
  {
   "cell_type": "code",
   "execution_count": 30,
   "metadata": {},
   "outputs": [],
   "source": [
    "x_train, y_train = train_df.drop(columns=[\"paredao\", \"nome\", \"rejeicao\"], axis=1).to_numpy(), train_df.drop(columns=train_df.columns[:-1], axis=1).to_numpy()\n",
    "x_test, y_test = test_df.drop(columns=[\"paredao\", \"nome\", \"rejeicao\"], axis=1).to_numpy(), test_df.drop(columns=train_df.columns[:-1], axis=1).to_numpy()"
   ]
  },
  {
   "cell_type": "code",
   "execution_count": 31,
   "metadata": {},
   "outputs": [],
   "source": [
    "regressor = LinearRegression()"
   ]
  },
  {
   "cell_type": "code",
   "execution_count": 32,
   "metadata": {},
   "outputs": [],
   "source": [
    "_ = regressor.fit(x_train, y_train)\n",
    ""
   ]
  },
  {
   "cell_type": "code",
   "execution_count": 33,
   "metadata": {},
   "outputs": [],
   "source": [
    "prediction = regressor.predict(x_test)\n",
    "test_df[\"predicao\"] = prediction * std + mean\n",
    "test_df[\"rejeicao\"] =  test_df[\"rejeicao\"] * std + mean\n",
    "summary_df = summary_df.append(test_df, ignore_index=True, sort=False)"
   ]
  },
  {
   "cell_type": "code",
   "execution_count": 34,
   "metadata": {},
   "outputs": [
    {
     "output_type": "execute_result",
     "data": {
      "text/plain": "  paredao            nome  positivos_individual_pct  neutros_individual_pct  \\\n3       5  bianca_andrade                 -0.236119                1.833184   \n5       5    felipe_prior                 -1.312849               -1.031750   \n4       5       flayslene                 -0.811141               -0.094344   \n\n   negativos_individual_pct  positivos_global_pct  neutros_global_pct  \\\n3                 -0.792621              0.225234            0.218183   \n5                  1.554772              0.681129            0.697254   \n4                  0.672135             -1.136120           -1.129786   \n\n   negativos_global_pct      day1  seguidores      fica      fora  rejeicao  \\\n3             -0.822599 -1.411103   -0.155647 -0.342202 -0.458796    0.5309   \n5              1.579224 -1.340811   -0.350454 -0.307101 -0.172392    0.2927   \n4             -0.936095 -1.415117   -0.444079 -0.402243 -0.405752    0.1764   \n\n   predicao  \n3  0.500111  \n5  0.290634  \n4  0.212648  ",
      "text/html": "<div>\n<style scoped>\n    .dataframe tbody tr th:only-of-type {\n        vertical-align: middle;\n    }\n\n    .dataframe tbody tr th {\n        vertical-align: top;\n    }\n\n    .dataframe thead th {\n        text-align: right;\n    }\n</style>\n<table border=\"1\" class=\"dataframe\">\n  <thead>\n    <tr style=\"text-align: right;\">\n      <th></th>\n      <th>paredao</th>\n      <th>nome</th>\n      <th>positivos_individual_pct</th>\n      <th>neutros_individual_pct</th>\n      <th>negativos_individual_pct</th>\n      <th>positivos_global_pct</th>\n      <th>neutros_global_pct</th>\n      <th>negativos_global_pct</th>\n      <th>day1</th>\n      <th>seguidores</th>\n      <th>fica</th>\n      <th>fora</th>\n      <th>rejeicao</th>\n      <th>predicao</th>\n    </tr>\n  </thead>\n  <tbody>\n    <tr>\n      <th>3</th>\n      <td>5</td>\n      <td>bianca_andrade</td>\n      <td>-0.236119</td>\n      <td>1.833184</td>\n      <td>-0.792621</td>\n      <td>0.225234</td>\n      <td>0.218183</td>\n      <td>-0.822599</td>\n      <td>-1.411103</td>\n      <td>-0.155647</td>\n      <td>-0.342202</td>\n      <td>-0.458796</td>\n      <td>0.5309</td>\n      <td>0.500111</td>\n    </tr>\n    <tr>\n      <th>5</th>\n      <td>5</td>\n      <td>felipe_prior</td>\n      <td>-1.312849</td>\n      <td>-1.031750</td>\n      <td>1.554772</td>\n      <td>0.681129</td>\n      <td>0.697254</td>\n      <td>1.579224</td>\n      <td>-1.340811</td>\n      <td>-0.350454</td>\n      <td>-0.307101</td>\n      <td>-0.172392</td>\n      <td>0.2927</td>\n      <td>0.290634</td>\n    </tr>\n    <tr>\n      <th>4</th>\n      <td>5</td>\n      <td>flayslene</td>\n      <td>-0.811141</td>\n      <td>-0.094344</td>\n      <td>0.672135</td>\n      <td>-1.136120</td>\n      <td>-1.129786</td>\n      <td>-0.936095</td>\n      <td>-1.415117</td>\n      <td>-0.444079</td>\n      <td>-0.402243</td>\n      <td>-0.405752</td>\n      <td>0.1764</td>\n      <td>0.212648</td>\n    </tr>\n  </tbody>\n</table>\n</div>"
     },
     "metadata": {},
     "execution_count": 34
    }
   ],
   "source": [
    "test_df.sort_values(by=\"predicao\", ascending=False)"
   ]
  },
  {
   "cell_type": "markdown",
   "metadata": {},
   "source": [
    "# Paredao 6"
   ]
  },
  {
   "cell_type": "code",
   "execution_count": 35,
   "metadata": {},
   "outputs": [
    {
     "output_type": "execute_result",
     "data": {
      "text/plain": "  paredao             nome  positivos_individual_pct  neutros_individual_pct  \\\n0       6  gizelly_bicalho                  2.120218                0.199894   \n1       6        guilherme                 -1.230067               -1.638597   \n2       6            pyong                 -0.409914               -1.274502   \n\n   negativos_individual_pct  positivos_global_pct  neutros_global_pct  \\\n0                 -1.732067             -0.000947           -0.751161   \n1                  1.813615             -0.676631            0.015503   \n2                  0.991291              0.447822            0.521310   \n\n   negativos_global_pct      day1  seguidores      fica      fora  rejeicao  \n0             -1.482962 -0.206271   -0.321450 -0.205492 -0.541698 -1.197879  \n1              0.685959  1.612128   -0.444751 -0.409448  0.946034  0.774910  \n2              0.617533  0.944902    0.799562 -0.106470  0.262857  0.320062  ",
      "text/html": "<div>\n<style scoped>\n    .dataframe tbody tr th:only-of-type {\n        vertical-align: middle;\n    }\n\n    .dataframe tbody tr th {\n        vertical-align: top;\n    }\n\n    .dataframe thead th {\n        text-align: right;\n    }\n</style>\n<table border=\"1\" class=\"dataframe\">\n  <thead>\n    <tr style=\"text-align: right;\">\n      <th></th>\n      <th>paredao</th>\n      <th>nome</th>\n      <th>positivos_individual_pct</th>\n      <th>neutros_individual_pct</th>\n      <th>negativos_individual_pct</th>\n      <th>positivos_global_pct</th>\n      <th>neutros_global_pct</th>\n      <th>negativos_global_pct</th>\n      <th>day1</th>\n      <th>seguidores</th>\n      <th>fica</th>\n      <th>fora</th>\n      <th>rejeicao</th>\n    </tr>\n  </thead>\n  <tbody>\n    <tr>\n      <th>0</th>\n      <td>6</td>\n      <td>gizelly_bicalho</td>\n      <td>2.120218</td>\n      <td>0.199894</td>\n      <td>-1.732067</td>\n      <td>-0.000947</td>\n      <td>-0.751161</td>\n      <td>-1.482962</td>\n      <td>-0.206271</td>\n      <td>-0.321450</td>\n      <td>-0.205492</td>\n      <td>-0.541698</td>\n      <td>-1.197879</td>\n    </tr>\n    <tr>\n      <th>1</th>\n      <td>6</td>\n      <td>guilherme</td>\n      <td>-1.230067</td>\n      <td>-1.638597</td>\n      <td>1.813615</td>\n      <td>-0.676631</td>\n      <td>0.015503</td>\n      <td>0.685959</td>\n      <td>1.612128</td>\n      <td>-0.444751</td>\n      <td>-0.409448</td>\n      <td>0.946034</td>\n      <td>0.774910</td>\n    </tr>\n    <tr>\n      <th>2</th>\n      <td>6</td>\n      <td>pyong</td>\n      <td>-0.409914</td>\n      <td>-1.274502</td>\n      <td>0.991291</td>\n      <td>0.447822</td>\n      <td>0.521310</td>\n      <td>0.617533</td>\n      <td>0.944902</td>\n      <td>0.799562</td>\n      <td>-0.106470</td>\n      <td>0.262857</td>\n      <td>0.320062</td>\n    </tr>\n  </tbody>\n</table>\n</div>"
     },
     "metadata": {},
     "execution_count": 35
    }
   ],
   "source": [
    "train_df, test_df, mean, std = get_train_test(6, normalize=NORMALIZE, drop_columns=REMOVE)\n",
    "test_df\n",
    ""
   ]
  },
  {
   "cell_type": "code",
   "execution_count": 36,
   "metadata": {},
   "outputs": [],
   "source": [
    "x_train, y_train = train_df.drop(columns=[\"paredao\", \"nome\", \"rejeicao\"], axis=1).to_numpy(), train_df.drop(columns=train_df.columns[:-1], axis=1).to_numpy()\n",
    "x_test, y_test = test_df.drop(columns=[\"paredao\", \"nome\", \"rejeicao\"], axis=1).to_numpy(), test_df.drop(columns=train_df.columns[:-1], axis=1).to_numpy()"
   ]
  },
  {
   "cell_type": "code",
   "execution_count": 37,
   "metadata": {},
   "outputs": [],
   "source": [
    "regressor = LinearRegression()"
   ]
  },
  {
   "cell_type": "code",
   "execution_count": 38,
   "metadata": {},
   "outputs": [],
   "source": [
    "_ = regressor.fit(x_train, y_train)\n",
    ""
   ]
  },
  {
   "cell_type": "code",
   "execution_count": 39,
   "metadata": {},
   "outputs": [],
   "source": [
    "prediction = regressor.predict(x_test)\n",
    "test_df[\"predicao\"] = prediction * std + mean\n",
    "test_df[\"rejeicao\"] =  test_df[\"rejeicao\"] * std + mean\n",
    "summary_df = summary_df.append(test_df, ignore_index=True, sort=False)"
   ]
  },
  {
   "cell_type": "code",
   "execution_count": 40,
   "metadata": {},
   "outputs": [
    {
     "output_type": "execute_result",
     "data": {
      "text/plain": "  paredao             nome  positivos_individual_pct  neutros_individual_pct  \\\n1       6        guilherme                 -1.230067               -1.638597   \n2       6            pyong                 -0.409914               -1.274502   \n0       6  gizelly_bicalho                  2.120218                0.199894   \n\n   negativos_individual_pct  positivos_global_pct  neutros_global_pct  \\\n1                  1.813615             -0.676631            0.015503   \n2                  0.991291              0.447822            0.521310   \n0                 -1.732067             -0.000947           -0.751161   \n\n   negativos_global_pct      day1  seguidores      fica      fora  rejeicao  \\\n1              0.685959  1.612128   -0.444751 -0.409448  0.946034    0.5607   \n2              0.617533  0.944902    0.799562 -0.106470  0.262857    0.4329   \n0             -1.482962 -0.206271   -0.321450 -0.205492 -0.541698    0.0064   \n\n   predicao  \n1  0.472048  \n2  0.313168  \n0  0.295844  ",
      "text/html": "<div>\n<style scoped>\n    .dataframe tbody tr th:only-of-type {\n        vertical-align: middle;\n    }\n\n    .dataframe tbody tr th {\n        vertical-align: top;\n    }\n\n    .dataframe thead th {\n        text-align: right;\n    }\n</style>\n<table border=\"1\" class=\"dataframe\">\n  <thead>\n    <tr style=\"text-align: right;\">\n      <th></th>\n      <th>paredao</th>\n      <th>nome</th>\n      <th>positivos_individual_pct</th>\n      <th>neutros_individual_pct</th>\n      <th>negativos_individual_pct</th>\n      <th>positivos_global_pct</th>\n      <th>neutros_global_pct</th>\n      <th>negativos_global_pct</th>\n      <th>day1</th>\n      <th>seguidores</th>\n      <th>fica</th>\n      <th>fora</th>\n      <th>rejeicao</th>\n      <th>predicao</th>\n    </tr>\n  </thead>\n  <tbody>\n    <tr>\n      <th>1</th>\n      <td>6</td>\n      <td>guilherme</td>\n      <td>-1.230067</td>\n      <td>-1.638597</td>\n      <td>1.813615</td>\n      <td>-0.676631</td>\n      <td>0.015503</td>\n      <td>0.685959</td>\n      <td>1.612128</td>\n      <td>-0.444751</td>\n      <td>-0.409448</td>\n      <td>0.946034</td>\n      <td>0.5607</td>\n      <td>0.472048</td>\n    </tr>\n    <tr>\n      <th>2</th>\n      <td>6</td>\n      <td>pyong</td>\n      <td>-0.409914</td>\n      <td>-1.274502</td>\n      <td>0.991291</td>\n      <td>0.447822</td>\n      <td>0.521310</td>\n      <td>0.617533</td>\n      <td>0.944902</td>\n      <td>0.799562</td>\n      <td>-0.106470</td>\n      <td>0.262857</td>\n      <td>0.4329</td>\n      <td>0.313168</td>\n    </tr>\n    <tr>\n      <th>0</th>\n      <td>6</td>\n      <td>gizelly_bicalho</td>\n      <td>2.120218</td>\n      <td>0.199894</td>\n      <td>-1.732067</td>\n      <td>-0.000947</td>\n      <td>-0.751161</td>\n      <td>-1.482962</td>\n      <td>-0.206271</td>\n      <td>-0.321450</td>\n      <td>-0.205492</td>\n      <td>-0.541698</td>\n      <td>0.0064</td>\n      <td>0.295844</td>\n    </tr>\n  </tbody>\n</table>\n</div>"
     },
     "metadata": {},
     "execution_count": 40
    }
   ],
   "source": [
    "test_df.sort_values(by=\"predicao\", ascending=False)"
   ]
  },
  {
   "cell_type": "markdown",
   "metadata": {},
   "source": [
    "# Paredao 7"
   ]
  },
  {
   "cell_type": "code",
   "execution_count": 41,
   "metadata": {},
   "outputs": [
    {
     "output_type": "execute_result",
     "data": {
      "text/plain": "  paredao          nome  positivos_individual_pct  neutros_individual_pct  \\\n6       7          babu                  1.140897               -0.695892   \n7       7  manu_gavassi                  1.433499                0.355482   \n8       7   victor_hugo                 -0.472300                0.553573   \n\n   negativos_individual_pct  positivos_global_pct  neutros_global_pct  \\\n6                 -0.505279              0.912454            0.300116   \n7                 -1.288095              0.172608           -0.049825   \n8                  0.068156             -1.314819           -0.464639   \n\n   negativos_global_pct      day1  seguidores      fica      fora  rejeicao  \n6              0.573797 -0.324804   -0.236752 -0.160784 -0.553763 -1.056940  \n7             -0.491526 -0.686266    3.513863 -0.117739 -0.541864 -0.858345  \n8             -0.261741 -0.632417   -0.528187 -0.446027 -0.427937  1.812377  ",
      "text/html": "<div>\n<style scoped>\n    .dataframe tbody tr th:only-of-type {\n        vertical-align: middle;\n    }\n\n    .dataframe tbody tr th {\n        vertical-align: top;\n    }\n\n    .dataframe thead th {\n        text-align: right;\n    }\n</style>\n<table border=\"1\" class=\"dataframe\">\n  <thead>\n    <tr style=\"text-align: right;\">\n      <th></th>\n      <th>paredao</th>\n      <th>nome</th>\n      <th>positivos_individual_pct</th>\n      <th>neutros_individual_pct</th>\n      <th>negativos_individual_pct</th>\n      <th>positivos_global_pct</th>\n      <th>neutros_global_pct</th>\n      <th>negativos_global_pct</th>\n      <th>day1</th>\n      <th>seguidores</th>\n      <th>fica</th>\n      <th>fora</th>\n      <th>rejeicao</th>\n    </tr>\n  </thead>\n  <tbody>\n    <tr>\n      <th>6</th>\n      <td>7</td>\n      <td>babu</td>\n      <td>1.140897</td>\n      <td>-0.695892</td>\n      <td>-0.505279</td>\n      <td>0.912454</td>\n      <td>0.300116</td>\n      <td>0.573797</td>\n      <td>-0.324804</td>\n      <td>-0.236752</td>\n      <td>-0.160784</td>\n      <td>-0.553763</td>\n      <td>-1.056940</td>\n    </tr>\n    <tr>\n      <th>7</th>\n      <td>7</td>\n      <td>manu_gavassi</td>\n      <td>1.433499</td>\n      <td>0.355482</td>\n      <td>-1.288095</td>\n      <td>0.172608</td>\n      <td>-0.049825</td>\n      <td>-0.491526</td>\n      <td>-0.686266</td>\n      <td>3.513863</td>\n      <td>-0.117739</td>\n      <td>-0.541864</td>\n      <td>-0.858345</td>\n    </tr>\n    <tr>\n      <th>8</th>\n      <td>7</td>\n      <td>victor_hugo</td>\n      <td>-0.472300</td>\n      <td>0.553573</td>\n      <td>0.068156</td>\n      <td>-1.314819</td>\n      <td>-0.464639</td>\n      <td>-0.261741</td>\n      <td>-0.632417</td>\n      <td>-0.528187</td>\n      <td>-0.446027</td>\n      <td>-0.427937</td>\n      <td>1.812377</td>\n    </tr>\n  </tbody>\n</table>\n</div>"
     },
     "metadata": {},
     "execution_count": 41
    }
   ],
   "source": [
    "train_df, test_df, mean, std = get_train_test(7, normalize=NORMALIZE, drop_columns=REMOVE)\n",
    "test_df\n",
    ""
   ]
  },
  {
   "cell_type": "code",
   "execution_count": 42,
   "metadata": {},
   "outputs": [],
   "source": [
    "x_train, y_train = train_df.drop(columns=[\"paredao\", \"nome\", \"rejeicao\"], axis=1).to_numpy(), train_df.drop(columns=train_df.columns[:-1], axis=1).to_numpy()\n",
    "x_test, y_test = test_df.drop(columns=[\"paredao\", \"nome\", \"rejeicao\"], axis=1).to_numpy(), test_df.drop(columns=train_df.columns[:-1], axis=1).to_numpy()"
   ]
  },
  {
   "cell_type": "code",
   "execution_count": 43,
   "metadata": {},
   "outputs": [],
   "source": [
    "regressor = LinearRegression()"
   ]
  },
  {
   "cell_type": "code",
   "execution_count": 44,
   "metadata": {},
   "outputs": [],
   "source": [
    "_ = regressor.fit(x_train, y_train)\n",
    "prediction = regressor.predict(x_test)\n",
    "test_df[\"predicao\"] = prediction * std + mean\n",
    "test_df[\"rejeicao\"] =  test_df[\"rejeicao\"] * std + mean\n",
    "summary_df = summary_df.append(test_df, ignore_index=True, sort=False)"
   ]
  },
  {
   "cell_type": "code",
   "execution_count": 45,
   "metadata": {},
   "outputs": [
    {
     "output_type": "execute_result",
     "data": {
      "text/plain": "  paredao          nome  positivos_individual_pct  neutros_individual_pct  \\\n8       7   victor_hugo                 -0.472300                0.553573   \n7       7  manu_gavassi                  1.433499                0.355482   \n6       7          babu                  1.140897               -0.695892   \n\n   negativos_individual_pct  positivos_global_pct  neutros_global_pct  \\\n8                  0.068156             -1.314819           -0.464639   \n7                 -1.288095              0.172608           -0.049825   \n6                 -0.505279              0.912454            0.300116   \n\n   negativos_global_pct      day1  seguidores      fica      fora  rejeicao  \\\n8             -0.261741 -0.632417   -0.528187 -0.446027 -0.427937    0.8522   \n7             -0.491526 -0.686266    3.513863 -0.117739 -0.541864    0.1018   \n6              0.573797 -0.324804   -0.236752 -0.160784 -0.553763    0.0460   \n\n   predicao  \n8  0.377138  \n7  0.264711  \n6  0.190101  ",
      "text/html": "<div>\n<style scoped>\n    .dataframe tbody tr th:only-of-type {\n        vertical-align: middle;\n    }\n\n    .dataframe tbody tr th {\n        vertical-align: top;\n    }\n\n    .dataframe thead th {\n        text-align: right;\n    }\n</style>\n<table border=\"1\" class=\"dataframe\">\n  <thead>\n    <tr style=\"text-align: right;\">\n      <th></th>\n      <th>paredao</th>\n      <th>nome</th>\n      <th>positivos_individual_pct</th>\n      <th>neutros_individual_pct</th>\n      <th>negativos_individual_pct</th>\n      <th>positivos_global_pct</th>\n      <th>neutros_global_pct</th>\n      <th>negativos_global_pct</th>\n      <th>day1</th>\n      <th>seguidores</th>\n      <th>fica</th>\n      <th>fora</th>\n      <th>rejeicao</th>\n      <th>predicao</th>\n    </tr>\n  </thead>\n  <tbody>\n    <tr>\n      <th>8</th>\n      <td>7</td>\n      <td>victor_hugo</td>\n      <td>-0.472300</td>\n      <td>0.553573</td>\n      <td>0.068156</td>\n      <td>-1.314819</td>\n      <td>-0.464639</td>\n      <td>-0.261741</td>\n      <td>-0.632417</td>\n      <td>-0.528187</td>\n      <td>-0.446027</td>\n      <td>-0.427937</td>\n      <td>0.8522</td>\n      <td>0.377138</td>\n    </tr>\n    <tr>\n      <th>7</th>\n      <td>7</td>\n      <td>manu_gavassi</td>\n      <td>1.433499</td>\n      <td>0.355482</td>\n      <td>-1.288095</td>\n      <td>0.172608</td>\n      <td>-0.049825</td>\n      <td>-0.491526</td>\n      <td>-0.686266</td>\n      <td>3.513863</td>\n      <td>-0.117739</td>\n      <td>-0.541864</td>\n      <td>0.1018</td>\n      <td>0.264711</td>\n    </tr>\n    <tr>\n      <th>6</th>\n      <td>7</td>\n      <td>babu</td>\n      <td>1.140897</td>\n      <td>-0.695892</td>\n      <td>-0.505279</td>\n      <td>0.912454</td>\n      <td>0.300116</td>\n      <td>0.573797</td>\n      <td>-0.324804</td>\n      <td>-0.236752</td>\n      <td>-0.160784</td>\n      <td>-0.553763</td>\n      <td>0.0460</td>\n      <td>0.190101</td>\n    </tr>\n  </tbody>\n</table>\n</div>"
     },
     "metadata": {},
     "execution_count": 45
    }
   ],
   "source": [
    "test_df.sort_values(by=\"predicao\", ascending=False)"
   ]
  },
  {
   "cell_type": "markdown",
   "metadata": {},
   "source": [
    "# Paredao 8"
   ]
  },
  {
   "cell_type": "code",
   "execution_count": 46,
   "metadata": {},
   "outputs": [
    {
     "output_type": "execute_result",
     "data": {
      "text/plain": "   paredao   nome  positivos_individual_pct  neutros_individual_pct  \\\n17       8   babu                  0.005403               -0.760660   \n18       8   rafa                 -0.768049               -1.404768   \n19       8  pyong                 -0.384689                0.215948   \n\n    negativos_individual_pct  positivos_global_pct  neutros_global_pct  \\\n17                  0.399878              0.187947           -0.213966   \n18                  1.335118             -1.087159           -1.024557   \n19                  0.180299              0.669455            1.024174   \n\n    negativos_global_pct      day1  seguidores      fica      fora  rejeicao  \n17             -0.144496  0.316166   -0.236752  0.426328  0.521182  0.477372  \n18             -0.407675  0.186162   -0.266624  0.099334 -0.541030 -1.199659  \n19              0.372701  1.168330    0.799562  0.076795  0.967719  0.619379  ",
      "text/html": "<div>\n<style scoped>\n    .dataframe tbody tr th:only-of-type {\n        vertical-align: middle;\n    }\n\n    .dataframe tbody tr th {\n        vertical-align: top;\n    }\n\n    .dataframe thead th {\n        text-align: right;\n    }\n</style>\n<table border=\"1\" class=\"dataframe\">\n  <thead>\n    <tr style=\"text-align: right;\">\n      <th></th>\n      <th>paredao</th>\n      <th>nome</th>\n      <th>positivos_individual_pct</th>\n      <th>neutros_individual_pct</th>\n      <th>negativos_individual_pct</th>\n      <th>positivos_global_pct</th>\n      <th>neutros_global_pct</th>\n      <th>negativos_global_pct</th>\n      <th>day1</th>\n      <th>seguidores</th>\n      <th>fica</th>\n      <th>fora</th>\n      <th>rejeicao</th>\n    </tr>\n  </thead>\n  <tbody>\n    <tr>\n      <th>17</th>\n      <td>8</td>\n      <td>babu</td>\n      <td>0.005403</td>\n      <td>-0.760660</td>\n      <td>0.399878</td>\n      <td>0.187947</td>\n      <td>-0.213966</td>\n      <td>-0.144496</td>\n      <td>0.316166</td>\n      <td>-0.236752</td>\n      <td>0.426328</td>\n      <td>0.521182</td>\n      <td>0.477372</td>\n    </tr>\n    <tr>\n      <th>18</th>\n      <td>8</td>\n      <td>rafa</td>\n      <td>-0.768049</td>\n      <td>-1.404768</td>\n      <td>1.335118</td>\n      <td>-1.087159</td>\n      <td>-1.024557</td>\n      <td>-0.407675</td>\n      <td>0.186162</td>\n      <td>-0.266624</td>\n      <td>0.099334</td>\n      <td>-0.541030</td>\n      <td>-1.199659</td>\n    </tr>\n    <tr>\n      <th>19</th>\n      <td>8</td>\n      <td>pyong</td>\n      <td>-0.384689</td>\n      <td>0.215948</td>\n      <td>0.180299</td>\n      <td>0.669455</td>\n      <td>1.024174</td>\n      <td>0.372701</td>\n      <td>1.168330</td>\n      <td>0.799562</td>\n      <td>0.076795</td>\n      <td>0.967719</td>\n      <td>0.619379</td>\n    </tr>\n  </tbody>\n</table>\n</div>"
     },
     "metadata": {},
     "execution_count": 46
    }
   ],
   "source": [
    "train_df, test_df, mean, std = get_train_test(8, normalize=NORMALIZE, drop_columns=REMOVE)\n",
    "test_df\n",
    ""
   ]
  },
  {
   "cell_type": "code",
   "execution_count": 47,
   "metadata": {},
   "outputs": [],
   "source": [
    "x_train, y_train = train_df.drop(columns=[\"paredao\", \"nome\", \"rejeicao\"], axis=1).to_numpy(), train_df.drop(columns=train_df.columns[:-1], axis=1).to_numpy()\n",
    "x_test, y_test = test_df.drop(columns=[\"paredao\", \"nome\", \"rejeicao\"], axis=1).to_numpy(), test_df.drop(columns=train_df.columns[:-1], axis=1).to_numpy()"
   ]
  },
  {
   "cell_type": "code",
   "execution_count": 48,
   "metadata": {},
   "outputs": [],
   "source": [
    "regressor = LinearRegression()"
   ]
  },
  {
   "cell_type": "code",
   "execution_count": 49,
   "metadata": {},
   "outputs": [],
   "source": [
    "_ = regressor.fit(x_train, y_train)\n",
    "prediction = regressor.predict(x_test)\n",
    "test_df[\"predicao\"] = prediction * std + mean\n",
    "test_df[\"rejeicao\"] =  test_df[\"rejeicao\"] * std + mean\n",
    "summary_df = summary_df.append(test_df, ignore_index=True, sort=False)"
   ]
  },
  {
   "cell_type": "code",
   "execution_count": 50,
   "metadata": {},
   "outputs": [
    {
     "output_type": "execute_result",
     "data": {
      "text/plain": "   paredao   nome  positivos_individual_pct  neutros_individual_pct  \\\n19       8  pyong                 -0.384689                0.215948   \n17       8   babu                  0.005403               -0.760660   \n18       8   rafa                 -0.768049               -1.404768   \n\n    negativos_individual_pct  positivos_global_pct  neutros_global_pct  \\\n19                  0.180299              0.669455            1.024174   \n17                  0.399878              0.187947           -0.213966   \n18                  1.335118             -1.087159           -1.024557   \n\n    negativos_global_pct      day1  seguidores      fica      fora  rejeicao  \\\n19              0.372701  1.168330    0.799562  0.076795  0.967719    0.5170   \n17             -0.144496  0.316166   -0.236752  0.426328  0.521182    0.4771   \n18             -0.407675  0.186162   -0.266624  0.099334 -0.541030    0.0059   \n\n    predicao  \n19  0.705639  \n17  0.219217  \n18  0.070169  ",
      "text/html": "<div>\n<style scoped>\n    .dataframe tbody tr th:only-of-type {\n        vertical-align: middle;\n    }\n\n    .dataframe tbody tr th {\n        vertical-align: top;\n    }\n\n    .dataframe thead th {\n        text-align: right;\n    }\n</style>\n<table border=\"1\" class=\"dataframe\">\n  <thead>\n    <tr style=\"text-align: right;\">\n      <th></th>\n      <th>paredao</th>\n      <th>nome</th>\n      <th>positivos_individual_pct</th>\n      <th>neutros_individual_pct</th>\n      <th>negativos_individual_pct</th>\n      <th>positivos_global_pct</th>\n      <th>neutros_global_pct</th>\n      <th>negativos_global_pct</th>\n      <th>day1</th>\n      <th>seguidores</th>\n      <th>fica</th>\n      <th>fora</th>\n      <th>rejeicao</th>\n      <th>predicao</th>\n    </tr>\n  </thead>\n  <tbody>\n    <tr>\n      <th>19</th>\n      <td>8</td>\n      <td>pyong</td>\n      <td>-0.384689</td>\n      <td>0.215948</td>\n      <td>0.180299</td>\n      <td>0.669455</td>\n      <td>1.024174</td>\n      <td>0.372701</td>\n      <td>1.168330</td>\n      <td>0.799562</td>\n      <td>0.076795</td>\n      <td>0.967719</td>\n      <td>0.5170</td>\n      <td>0.705639</td>\n    </tr>\n    <tr>\n      <th>17</th>\n      <td>8</td>\n      <td>babu</td>\n      <td>0.005403</td>\n      <td>-0.760660</td>\n      <td>0.399878</td>\n      <td>0.187947</td>\n      <td>-0.213966</td>\n      <td>-0.144496</td>\n      <td>0.316166</td>\n      <td>-0.236752</td>\n      <td>0.426328</td>\n      <td>0.521182</td>\n      <td>0.4771</td>\n      <td>0.219217</td>\n    </tr>\n    <tr>\n      <th>18</th>\n      <td>8</td>\n      <td>rafa</td>\n      <td>-0.768049</td>\n      <td>-1.404768</td>\n      <td>1.335118</td>\n      <td>-1.087159</td>\n      <td>-1.024557</td>\n      <td>-0.407675</td>\n      <td>0.186162</td>\n      <td>-0.266624</td>\n      <td>0.099334</td>\n      <td>-0.541030</td>\n      <td>0.0059</td>\n      <td>0.070169</td>\n    </tr>\n  </tbody>\n</table>\n</div>"
     },
     "metadata": {},
     "execution_count": 50
    }
   ],
   "source": [
    "test_df.sort_values(by=\"predicao\", ascending=False)"
   ]
  },
  {
   "cell_type": "markdown",
   "metadata": {},
   "source": [
    "# Paredão 9"
   ]
  },
  {
   "cell_type": "code",
   "execution_count": 51,
   "metadata": {},
   "outputs": [
    {
     "output_type": "execute_result",
     "data": {
      "text/plain": "   paredao       nome  positivos_individual_pct  neutros_individual_pct  \\\n14       9     daniel                 -0.396867                0.383052   \n15       9  flayslene                  0.384827               -0.673393   \n16       9        ivy                 -0.136340                0.197213   \n\n    negativos_individual_pct  positivos_global_pct  neutros_global_pct  \\\n14                  0.100882              0.098251            0.558563   \n15                  0.062565              0.265552           -0.327251   \n16                 -0.000197             -0.593560           -0.445660   \n\n    negativos_global_pct      day1  seguidores      fica      fora  rejeicao  \n14              0.343541  1.244038   -0.509932 -0.431617  0.524796  1.655779  \n15             -0.073490 -0.645608   -0.444079 -0.078020 -0.508003 -0.881123  \n16             -0.449521  0.681516   -0.486267 -0.441409 -0.395855 -0.877564  ",
      "text/html": "<div>\n<style scoped>\n    .dataframe tbody tr th:only-of-type {\n        vertical-align: middle;\n    }\n\n    .dataframe tbody tr th {\n        vertical-align: top;\n    }\n\n    .dataframe thead th {\n        text-align: right;\n    }\n</style>\n<table border=\"1\" class=\"dataframe\">\n  <thead>\n    <tr style=\"text-align: right;\">\n      <th></th>\n      <th>paredao</th>\n      <th>nome</th>\n      <th>positivos_individual_pct</th>\n      <th>neutros_individual_pct</th>\n      <th>negativos_individual_pct</th>\n      <th>positivos_global_pct</th>\n      <th>neutros_global_pct</th>\n      <th>negativos_global_pct</th>\n      <th>day1</th>\n      <th>seguidores</th>\n      <th>fica</th>\n      <th>fora</th>\n      <th>rejeicao</th>\n    </tr>\n  </thead>\n  <tbody>\n    <tr>\n      <th>14</th>\n      <td>9</td>\n      <td>daniel</td>\n      <td>-0.396867</td>\n      <td>0.383052</td>\n      <td>0.100882</td>\n      <td>0.098251</td>\n      <td>0.558563</td>\n      <td>0.343541</td>\n      <td>1.244038</td>\n      <td>-0.509932</td>\n      <td>-0.431617</td>\n      <td>0.524796</td>\n      <td>1.655779</td>\n    </tr>\n    <tr>\n      <th>15</th>\n      <td>9</td>\n      <td>flayslene</td>\n      <td>0.384827</td>\n      <td>-0.673393</td>\n      <td>0.062565</td>\n      <td>0.265552</td>\n      <td>-0.327251</td>\n      <td>-0.073490</td>\n      <td>-0.645608</td>\n      <td>-0.444079</td>\n      <td>-0.078020</td>\n      <td>-0.508003</td>\n      <td>-0.881123</td>\n    </tr>\n    <tr>\n      <th>16</th>\n      <td>9</td>\n      <td>ivy</td>\n      <td>-0.136340</td>\n      <td>0.197213</td>\n      <td>-0.000197</td>\n      <td>-0.593560</td>\n      <td>-0.445660</td>\n      <td>-0.449521</td>\n      <td>0.681516</td>\n      <td>-0.486267</td>\n      <td>-0.441409</td>\n      <td>-0.395855</td>\n      <td>-0.877564</td>\n    </tr>\n  </tbody>\n</table>\n</div>"
     },
     "metadata": {},
     "execution_count": 51
    }
   ],
   "source": [
    "train_df, test_df, mean, std = get_train_test(9, normalize=NORMALIZE, drop_columns=REMOVE)\n",
    "test_df\n",
    ""
   ]
  },
  {
   "cell_type": "code",
   "execution_count": 52,
   "metadata": {},
   "outputs": [],
   "source": [
    "x_train, y_train = train_df.drop(columns=[\"paredao\", \"nome\", \"rejeicao\"], axis=1).to_numpy(), train_df.drop(columns=train_df.columns[:-1], axis=1).to_numpy()\n",
    "x_test, y_test = test_df.drop(columns=[\"paredao\", \"nome\", \"rejeicao\"], axis=1).to_numpy(), test_df.drop(columns=train_df.columns[:-1], axis=1).to_numpy()"
   ]
  },
  {
   "cell_type": "code",
   "execution_count": 53,
   "metadata": {},
   "outputs": [],
   "source": [
    "regressor = LinearRegression()"
   ]
  },
  {
   "cell_type": "code",
   "execution_count": 54,
   "metadata": {},
   "outputs": [],
   "source": [
    "_ = regressor.fit(x_train, y_train)\n",
    "prediction = regressor.predict(x_test)\n",
    "test_df[\"predicao\"] = prediction * std + mean\n",
    "test_df[\"rejeicao\"] =  test_df[\"rejeicao\"] * std + mean\n",
    "summary_df = summary_df.append(test_df, ignore_index=True, sort=False)"
   ]
  },
  {
   "cell_type": "code",
   "execution_count": 55,
   "metadata": {},
   "outputs": [
    {
     "output_type": "execute_result",
     "data": {
      "text/plain": "   paredao       nome  positivos_individual_pct  neutros_individual_pct  \\\n14       9     daniel                 -0.396867                0.383052   \n16       9        ivy                 -0.136340                0.197213   \n15       9  flayslene                  0.384827               -0.673393   \n\n    negativos_individual_pct  positivos_global_pct  neutros_global_pct  \\\n14                  0.100882              0.098251            0.558563   \n16                 -0.000197             -0.593560           -0.445660   \n15                  0.062565              0.265552           -0.327251   \n\n    negativos_global_pct      day1  seguidores      fica      fora  rejeicao  \\\n14              0.343541  1.244038   -0.509932 -0.431617  0.524796    0.8082   \n16             -0.449521  0.681516   -0.486267 -0.441409 -0.395855    0.0964   \n15             -0.073490 -0.645608   -0.444079 -0.078020 -0.508003    0.0954   \n\n    predicao  \n14  0.720480  \n16  0.417504  \n15  0.197910  ",
      "text/html": "<div>\n<style scoped>\n    .dataframe tbody tr th:only-of-type {\n        vertical-align: middle;\n    }\n\n    .dataframe tbody tr th {\n        vertical-align: top;\n    }\n\n    .dataframe thead th {\n        text-align: right;\n    }\n</style>\n<table border=\"1\" class=\"dataframe\">\n  <thead>\n    <tr style=\"text-align: right;\">\n      <th></th>\n      <th>paredao</th>\n      <th>nome</th>\n      <th>positivos_individual_pct</th>\n      <th>neutros_individual_pct</th>\n      <th>negativos_individual_pct</th>\n      <th>positivos_global_pct</th>\n      <th>neutros_global_pct</th>\n      <th>negativos_global_pct</th>\n      <th>day1</th>\n      <th>seguidores</th>\n      <th>fica</th>\n      <th>fora</th>\n      <th>rejeicao</th>\n      <th>predicao</th>\n    </tr>\n  </thead>\n  <tbody>\n    <tr>\n      <th>14</th>\n      <td>9</td>\n      <td>daniel</td>\n      <td>-0.396867</td>\n      <td>0.383052</td>\n      <td>0.100882</td>\n      <td>0.098251</td>\n      <td>0.558563</td>\n      <td>0.343541</td>\n      <td>1.244038</td>\n      <td>-0.509932</td>\n      <td>-0.431617</td>\n      <td>0.524796</td>\n      <td>0.8082</td>\n      <td>0.720480</td>\n    </tr>\n    <tr>\n      <th>16</th>\n      <td>9</td>\n      <td>ivy</td>\n      <td>-0.136340</td>\n      <td>0.197213</td>\n      <td>-0.000197</td>\n      <td>-0.593560</td>\n      <td>-0.445660</td>\n      <td>-0.449521</td>\n      <td>0.681516</td>\n      <td>-0.486267</td>\n      <td>-0.441409</td>\n      <td>-0.395855</td>\n      <td>0.0964</td>\n      <td>0.417504</td>\n    </tr>\n    <tr>\n      <th>15</th>\n      <td>9</td>\n      <td>flayslene</td>\n      <td>0.384827</td>\n      <td>-0.673393</td>\n      <td>0.062565</td>\n      <td>0.265552</td>\n      <td>-0.327251</td>\n      <td>-0.073490</td>\n      <td>-0.645608</td>\n      <td>-0.444079</td>\n      <td>-0.078020</td>\n      <td>-0.508003</td>\n      <td>0.0954</td>\n      <td>0.197910</td>\n    </tr>\n  </tbody>\n</table>\n</div>"
     },
     "metadata": {},
     "execution_count": 55
    }
   ],
   "source": [
    "test_df.sort_values(by=\"predicao\", ascending=False)"
   ]
  },
  {
   "cell_type": "markdown",
   "metadata": {},
   "source": [
    "# Paredão 10"
   ]
  },
  {
   "cell_type": "code",
   "execution_count": 56,
   "metadata": {},
   "outputs": [
    {
     "output_type": "execute_result",
     "data": {
      "text/plain": "   paredao          nome  positivos_individual_pct  neutros_individual_pct  \\\n11      10  manu_gavassi                 -0.066112                2.364516   \n12      10          mari                  0.628104                0.308865   \n13      10  felipe_prior                 -1.104100                1.037131   \n\n    negativos_individual_pct  positivos_global_pct  neutros_global_pct  \\\n11                 -1.205206              1.744419            1.561821   \n12                 -0.645715             -1.534199           -1.850220   \n13                  0.295813             -0.439977            0.074050   \n\n    negativos_global_pct      day1  seguidores      fica      fora  rejeicao  \n11              0.540169  1.198218    3.943382  5.100506  1.671690  0.292301  \n12             -1.450605 -0.283381   -0.288875  0.096378 -0.381732 -1.193609  \n13              0.730966  2.157635    0.060859  1.861226  4.739063  0.798400  ",
      "text/html": "<div>\n<style scoped>\n    .dataframe tbody tr th:only-of-type {\n        vertical-align: middle;\n    }\n\n    .dataframe tbody tr th {\n        vertical-align: top;\n    }\n\n    .dataframe thead th {\n        text-align: right;\n    }\n</style>\n<table border=\"1\" class=\"dataframe\">\n  <thead>\n    <tr style=\"text-align: right;\">\n      <th></th>\n      <th>paredao</th>\n      <th>nome</th>\n      <th>positivos_individual_pct</th>\n      <th>neutros_individual_pct</th>\n      <th>negativos_individual_pct</th>\n      <th>positivos_global_pct</th>\n      <th>neutros_global_pct</th>\n      <th>negativos_global_pct</th>\n      <th>day1</th>\n      <th>seguidores</th>\n      <th>fica</th>\n      <th>fora</th>\n      <th>rejeicao</th>\n    </tr>\n  </thead>\n  <tbody>\n    <tr>\n      <th>11</th>\n      <td>10</td>\n      <td>manu_gavassi</td>\n      <td>-0.066112</td>\n      <td>2.364516</td>\n      <td>-1.205206</td>\n      <td>1.744419</td>\n      <td>1.561821</td>\n      <td>0.540169</td>\n      <td>1.198218</td>\n      <td>3.943382</td>\n      <td>5.100506</td>\n      <td>1.671690</td>\n      <td>0.292301</td>\n    </tr>\n    <tr>\n      <th>12</th>\n      <td>10</td>\n      <td>mari</td>\n      <td>0.628104</td>\n      <td>0.308865</td>\n      <td>-0.645715</td>\n      <td>-1.534199</td>\n      <td>-1.850220</td>\n      <td>-1.450605</td>\n      <td>-0.283381</td>\n      <td>-0.288875</td>\n      <td>0.096378</td>\n      <td>-0.381732</td>\n      <td>-1.193609</td>\n    </tr>\n    <tr>\n      <th>13</th>\n      <td>10</td>\n      <td>felipe_prior</td>\n      <td>-1.104100</td>\n      <td>1.037131</td>\n      <td>0.295813</td>\n      <td>-0.439977</td>\n      <td>0.074050</td>\n      <td>0.730966</td>\n      <td>2.157635</td>\n      <td>0.060859</td>\n      <td>1.861226</td>\n      <td>4.739063</td>\n      <td>0.798400</td>\n    </tr>\n  </tbody>\n</table>\n</div>"
     },
     "metadata": {},
     "execution_count": 56
    }
   ],
   "source": [
    "train_df, test_df, mean, std = get_train_test(10, normalize=NORMALIZE, drop_columns=REMOVE)\n",
    "test_df\n",
    ""
   ]
  },
  {
   "cell_type": "code",
   "execution_count": 57,
   "metadata": {},
   "outputs": [],
   "source": [
    "x_train, y_train = train_df.drop(columns=[\"paredao\", \"nome\", \"rejeicao\"], axis=1).to_numpy(), train_df.drop(columns=train_df.columns[:-1], axis=1).to_numpy()\n",
    "x_test, y_test = test_df.drop(columns=[\"paredao\", \"nome\", \"rejeicao\"], axis=1).to_numpy(), test_df.drop(columns=train_df.columns[:-1], axis=1).to_numpy()"
   ]
  },
  {
   "cell_type": "code",
   "execution_count": 58,
   "metadata": {},
   "outputs": [],
   "source": [
    "regressor = LinearRegression()"
   ]
  },
  {
   "cell_type": "code",
   "execution_count": 59,
   "metadata": {},
   "outputs": [],
   "source": [
    "_ = regressor.fit(x_train, y_train)\n",
    "prediction = regressor.predict(x_test)\n",
    "test_df[\"predicao\"] = prediction * std + mean\n",
    "test_df[\"rejeicao\"] =  test_df[\"rejeicao\"] * std + mean\n",
    "summary_df = summary_df.append(test_df, ignore_index=True, sort=False)"
   ]
  },
  {
   "cell_type": "code",
   "execution_count": 60,
   "metadata": {},
   "outputs": [
    {
     "output_type": "execute_result",
     "data": {
      "text/plain": "   paredao          nome  positivos_individual_pct  neutros_individual_pct  \\\n13      10  felipe_prior                 -1.104100                1.037131   \n12      10          mari                  0.628104                0.308865   \n11      10  manu_gavassi                 -0.066112                2.364516   \n\n    negativos_individual_pct  positivos_global_pct  neutros_global_pct  \\\n13                  0.295813             -0.439977            0.074050   \n12                 -0.645715             -1.534199           -1.850220   \n11                 -1.205206              1.744419            1.561821   \n\n    negativos_global_pct      day1  seguidores      fica      fora  rejeicao  \\\n13              0.730966  2.157635    0.060859  1.861226  4.739063    0.5673   \n12             -1.450605 -0.283381   -0.288875  0.096378 -0.381732    0.0076   \n11              0.540169  1.198218    3.943382  5.100506  1.671690    0.4251   \n\n    predicao  \n13  1.406676  \n12  0.053122  \n11 -0.207356  ",
      "text/html": "<div>\n<style scoped>\n    .dataframe tbody tr th:only-of-type {\n        vertical-align: middle;\n    }\n\n    .dataframe tbody tr th {\n        vertical-align: top;\n    }\n\n    .dataframe thead th {\n        text-align: right;\n    }\n</style>\n<table border=\"1\" class=\"dataframe\">\n  <thead>\n    <tr style=\"text-align: right;\">\n      <th></th>\n      <th>paredao</th>\n      <th>nome</th>\n      <th>positivos_individual_pct</th>\n      <th>neutros_individual_pct</th>\n      <th>negativos_individual_pct</th>\n      <th>positivos_global_pct</th>\n      <th>neutros_global_pct</th>\n      <th>negativos_global_pct</th>\n      <th>day1</th>\n      <th>seguidores</th>\n      <th>fica</th>\n      <th>fora</th>\n      <th>rejeicao</th>\n      <th>predicao</th>\n    </tr>\n  </thead>\n  <tbody>\n    <tr>\n      <th>13</th>\n      <td>10</td>\n      <td>felipe_prior</td>\n      <td>-1.104100</td>\n      <td>1.037131</td>\n      <td>0.295813</td>\n      <td>-0.439977</td>\n      <td>0.074050</td>\n      <td>0.730966</td>\n      <td>2.157635</td>\n      <td>0.060859</td>\n      <td>1.861226</td>\n      <td>4.739063</td>\n      <td>0.5673</td>\n      <td>1.406676</td>\n    </tr>\n    <tr>\n      <th>12</th>\n      <td>10</td>\n      <td>mari</td>\n      <td>0.628104</td>\n      <td>0.308865</td>\n      <td>-0.645715</td>\n      <td>-1.534199</td>\n      <td>-1.850220</td>\n      <td>-1.450605</td>\n      <td>-0.283381</td>\n      <td>-0.288875</td>\n      <td>0.096378</td>\n      <td>-0.381732</td>\n      <td>0.0076</td>\n      <td>0.053122</td>\n    </tr>\n    <tr>\n      <th>11</th>\n      <td>10</td>\n      <td>manu_gavassi</td>\n      <td>-0.066112</td>\n      <td>2.364516</td>\n      <td>-1.205206</td>\n      <td>1.744419</td>\n      <td>1.561821</td>\n      <td>0.540169</td>\n      <td>1.198218</td>\n      <td>3.943382</td>\n      <td>5.100506</td>\n      <td>1.671690</td>\n      <td>0.4251</td>\n      <td>-0.207356</td>\n    </tr>\n  </tbody>\n</table>\n</div>"
     },
     "metadata": {},
     "execution_count": 60
    }
   ],
   "source": [
    "test_df.sort_values(by=\"predicao\", ascending=False)"
   ]
  },
  {
   "cell_type": "markdown",
   "metadata": {},
   "source": [
    "# Paredao 11"
   ]
  },
  {
   "cell_type": "code",
   "execution_count": 61,
   "metadata": {},
   "outputs": [
    {
     "output_type": "execute_result",
     "data": {
      "text/plain": "   paredao    nome  positivos_individual_pct  neutros_individual_pct  \\\n29      11    babu                  1.000549               -0.519367   \n30      11    gabi                  0.877044               -0.563311   \n31      11  thelma                  0.269662                0.464730   \n\n    negativos_individual_pct  positivos_global_pct  neutros_global_pct  \\\n29                 -0.491413              0.218872           -0.121741   \n30                 -0.373363             -0.326453           -0.527219   \n31                 -0.453631             -0.122176            0.434611   \n\n    negativos_global_pct      day1  seguidores      fica      fora  rejeicao  \n29             -0.013856  0.645765    0.057031  0.347258 -0.490822 -1.074380  \n30             -0.304776  0.462740   -0.318823 -0.316153  0.309674  0.900901  \n31              0.139162  0.195148   -0.180823  0.837012 -0.279425  0.070571  ",
      "text/html": "<div>\n<style scoped>\n    .dataframe tbody tr th:only-of-type {\n        vertical-align: middle;\n    }\n\n    .dataframe tbody tr th {\n        vertical-align: top;\n    }\n\n    .dataframe thead th {\n        text-align: right;\n    }\n</style>\n<table border=\"1\" class=\"dataframe\">\n  <thead>\n    <tr style=\"text-align: right;\">\n      <th></th>\n      <th>paredao</th>\n      <th>nome</th>\n      <th>positivos_individual_pct</th>\n      <th>neutros_individual_pct</th>\n      <th>negativos_individual_pct</th>\n      <th>positivos_global_pct</th>\n      <th>neutros_global_pct</th>\n      <th>negativos_global_pct</th>\n      <th>day1</th>\n      <th>seguidores</th>\n      <th>fica</th>\n      <th>fora</th>\n      <th>rejeicao</th>\n    </tr>\n  </thead>\n  <tbody>\n    <tr>\n      <th>29</th>\n      <td>11</td>\n      <td>babu</td>\n      <td>1.000549</td>\n      <td>-0.519367</td>\n      <td>-0.491413</td>\n      <td>0.218872</td>\n      <td>-0.121741</td>\n      <td>-0.013856</td>\n      <td>0.645765</td>\n      <td>0.057031</td>\n      <td>0.347258</td>\n      <td>-0.490822</td>\n      <td>-1.074380</td>\n    </tr>\n    <tr>\n      <th>30</th>\n      <td>11</td>\n      <td>gabi</td>\n      <td>0.877044</td>\n      <td>-0.563311</td>\n      <td>-0.373363</td>\n      <td>-0.326453</td>\n      <td>-0.527219</td>\n      <td>-0.304776</td>\n      <td>0.462740</td>\n      <td>-0.318823</td>\n      <td>-0.316153</td>\n      <td>0.309674</td>\n      <td>0.900901</td>\n    </tr>\n    <tr>\n      <th>31</th>\n      <td>11</td>\n      <td>thelma</td>\n      <td>0.269662</td>\n      <td>0.464730</td>\n      <td>-0.453631</td>\n      <td>-0.122176</td>\n      <td>0.434611</td>\n      <td>0.139162</td>\n      <td>0.195148</td>\n      <td>-0.180823</td>\n      <td>0.837012</td>\n      <td>-0.279425</td>\n      <td>0.070571</td>\n    </tr>\n  </tbody>\n</table>\n</div>"
     },
     "metadata": {},
     "execution_count": 61
    }
   ],
   "source": [
    "train_df, test_df, mean, std = get_train_test(11, normalize=NORMALIZE, drop_columns=REMOVE)\n",
    "test_df\n",
    ""
   ]
  },
  {
   "cell_type": "code",
   "execution_count": 62,
   "metadata": {},
   "outputs": [],
   "source": [
    "x_train, y_train = train_df.drop(columns=[\"paredao\", \"nome\", \"rejeicao\"], axis=1).to_numpy(), train_df.drop(columns=train_df.columns[:-1], axis=1).to_numpy()\n",
    "x_test, y_test = test_df.drop(columns=[\"paredao\", \"nome\", \"rejeicao\"], axis=1).to_numpy(), test_df.drop(columns=train_df.columns[:-1], axis=1).to_numpy()"
   ]
  },
  {
   "cell_type": "code",
   "execution_count": 63,
   "metadata": {},
   "outputs": [],
   "source": [
    "regressor = LinearRegression()"
   ]
  },
  {
   "cell_type": "code",
   "execution_count": 64,
   "metadata": {},
   "outputs": [],
   "source": [
    "_ = regressor.fit(x_train, y_train)\n",
    "prediction = regressor.predict(x_test)\n",
    "test_df[\"predicao\"] = prediction * std + mean\n",
    "test_df[\"rejeicao\"] =  test_df[\"rejeicao\"] * std + mean\n",
    "summary_df = summary_df.append(test_df, ignore_index=True, sort=False)"
   ]
  },
  {
   "cell_type": "code",
   "execution_count": 65,
   "metadata": {},
   "outputs": [
    {
     "output_type": "execute_result",
     "data": {
      "text/plain": "   paredao    nome  positivos_individual_pct  neutros_individual_pct  \\\n31      11  thelma                  0.269662                0.464730   \n30      11    gabi                  0.877044               -0.563311   \n29      11    babu                  1.000549               -0.519367   \n\n    negativos_individual_pct  positivos_global_pct  neutros_global_pct  \\\n31                 -0.453631             -0.122176            0.434611   \n30                 -0.373363             -0.326453           -0.527219   \n29                 -0.491413              0.218872           -0.121741   \n\n    negativos_global_pct      day1  seguidores      fica      fora  rejeicao  \\\n31              0.139162  0.195148   -0.180823  0.837012 -0.279425    0.3628   \n30             -0.304776  0.462740   -0.318823 -0.316153  0.309674    0.5961   \n29             -0.013856  0.645765    0.057031  0.347258 -0.490822    0.0411   \n\n    predicao  \n31  0.530656  \n30  0.290386  \n29  0.260296  ",
      "text/html": "<div>\n<style scoped>\n    .dataframe tbody tr th:only-of-type {\n        vertical-align: middle;\n    }\n\n    .dataframe tbody tr th {\n        vertical-align: top;\n    }\n\n    .dataframe thead th {\n        text-align: right;\n    }\n</style>\n<table border=\"1\" class=\"dataframe\">\n  <thead>\n    <tr style=\"text-align: right;\">\n      <th></th>\n      <th>paredao</th>\n      <th>nome</th>\n      <th>positivos_individual_pct</th>\n      <th>neutros_individual_pct</th>\n      <th>negativos_individual_pct</th>\n      <th>positivos_global_pct</th>\n      <th>neutros_global_pct</th>\n      <th>negativos_global_pct</th>\n      <th>day1</th>\n      <th>seguidores</th>\n      <th>fica</th>\n      <th>fora</th>\n      <th>rejeicao</th>\n      <th>predicao</th>\n    </tr>\n  </thead>\n  <tbody>\n    <tr>\n      <th>31</th>\n      <td>11</td>\n      <td>thelma</td>\n      <td>0.269662</td>\n      <td>0.464730</td>\n      <td>-0.453631</td>\n      <td>-0.122176</td>\n      <td>0.434611</td>\n      <td>0.139162</td>\n      <td>0.195148</td>\n      <td>-0.180823</td>\n      <td>0.837012</td>\n      <td>-0.279425</td>\n      <td>0.3628</td>\n      <td>0.530656</td>\n    </tr>\n    <tr>\n      <th>30</th>\n      <td>11</td>\n      <td>gabi</td>\n      <td>0.877044</td>\n      <td>-0.563311</td>\n      <td>-0.373363</td>\n      <td>-0.326453</td>\n      <td>-0.527219</td>\n      <td>-0.304776</td>\n      <td>0.462740</td>\n      <td>-0.318823</td>\n      <td>-0.316153</td>\n      <td>0.309674</td>\n      <td>0.5961</td>\n      <td>0.290386</td>\n    </tr>\n    <tr>\n      <th>29</th>\n      <td>11</td>\n      <td>babu</td>\n      <td>1.000549</td>\n      <td>-0.519367</td>\n      <td>-0.491413</td>\n      <td>0.218872</td>\n      <td>-0.121741</td>\n      <td>-0.013856</td>\n      <td>0.645765</td>\n      <td>0.057031</td>\n      <td>0.347258</td>\n      <td>-0.490822</td>\n      <td>0.0411</td>\n      <td>0.260296</td>\n    </tr>\n  </tbody>\n</table>\n</div>"
     },
     "metadata": {},
     "execution_count": 65
    }
   ],
   "source": [
    "test_df.sort_values(by=\"predicao\", ascending=False)"
   ]
  },
  {
   "cell_type": "markdown",
   "metadata": {},
   "source": [
    "# Paredão 12"
   ]
  },
  {
   "cell_type": "code",
   "execution_count": 66,
   "metadata": {},
   "outputs": [
    {
     "output_type": "execute_result",
     "data": {
      "text/plain": "   paredao       nome  positivos_individual_pct  neutros_individual_pct  \\\n20      12       babu                  0.494118               -0.727858   \n21      12  flayslene                 -0.359413               -1.491943   \n22      12    marcela                 -1.059426               -0.907884   \n\n    negativos_individual_pct  positivos_global_pct  neutros_global_pct  \\\n20                  0.007684              1.143862            0.582895   \n21                  1.068057             -0.097247           -0.160261   \n22                  1.294642             -1.276371           -0.636983   \n\n    negativos_global_pct      day1  seguidores      fica      fora  rejeicao  \n20              0.030109 -0.172942    0.057031  0.083261 -0.501442 -1.182931  \n21              0.185253  1.123338   -0.359394 -0.089658  0.232666  0.529690  \n22             -0.394832  0.694134   -0.315344 -0.371576  0.876699  0.550333  ",
      "text/html": "<div>\n<style scoped>\n    .dataframe tbody tr th:only-of-type {\n        vertical-align: middle;\n    }\n\n    .dataframe tbody tr th {\n        vertical-align: top;\n    }\n\n    .dataframe thead th {\n        text-align: right;\n    }\n</style>\n<table border=\"1\" class=\"dataframe\">\n  <thead>\n    <tr style=\"text-align: right;\">\n      <th></th>\n      <th>paredao</th>\n      <th>nome</th>\n      <th>positivos_individual_pct</th>\n      <th>neutros_individual_pct</th>\n      <th>negativos_individual_pct</th>\n      <th>positivos_global_pct</th>\n      <th>neutros_global_pct</th>\n      <th>negativos_global_pct</th>\n      <th>day1</th>\n      <th>seguidores</th>\n      <th>fica</th>\n      <th>fora</th>\n      <th>rejeicao</th>\n    </tr>\n  </thead>\n  <tbody>\n    <tr>\n      <th>20</th>\n      <td>12</td>\n      <td>babu</td>\n      <td>0.494118</td>\n      <td>-0.727858</td>\n      <td>0.007684</td>\n      <td>1.143862</td>\n      <td>0.582895</td>\n      <td>0.030109</td>\n      <td>-0.172942</td>\n      <td>0.057031</td>\n      <td>0.083261</td>\n      <td>-0.501442</td>\n      <td>-1.182931</td>\n    </tr>\n    <tr>\n      <th>21</th>\n      <td>12</td>\n      <td>flayslene</td>\n      <td>-0.359413</td>\n      <td>-1.491943</td>\n      <td>1.068057</td>\n      <td>-0.097247</td>\n      <td>-0.160261</td>\n      <td>0.185253</td>\n      <td>1.123338</td>\n      <td>-0.359394</td>\n      <td>-0.089658</td>\n      <td>0.232666</td>\n      <td>0.529690</td>\n    </tr>\n    <tr>\n      <th>22</th>\n      <td>12</td>\n      <td>marcela</td>\n      <td>-1.059426</td>\n      <td>-0.907884</td>\n      <td>1.294642</td>\n      <td>-1.276371</td>\n      <td>-0.636983</td>\n      <td>-0.394832</td>\n      <td>0.694134</td>\n      <td>-0.315344</td>\n      <td>-0.371576</td>\n      <td>0.876699</td>\n      <td>0.550333</td>\n    </tr>\n  </tbody>\n</table>\n</div>"
     },
     "metadata": {},
     "execution_count": 66
    }
   ],
   "source": [
    "train_df, test_df, mean, std = get_train_test(12, normalize=NORMALIZE, drop_columns=REMOVE)\n",
    "test_df"
   ]
  },
  {
   "cell_type": "code",
   "execution_count": 67,
   "metadata": {},
   "outputs": [],
   "source": [
    "x_train, y_train = train_df.drop(columns=[\"paredao\", \"nome\", \"rejeicao\"], axis=1).to_numpy(), train_df.drop(columns=train_df.columns[:-1], axis=1).to_numpy()\n",
    "x_test, y_test = test_df.drop(columns=[\"paredao\", \"nome\", \"rejeicao\"], axis=1).to_numpy(), test_df.drop(columns=train_df.columns[:-1], axis=1).to_numpy()"
   ]
  },
  {
   "cell_type": "code",
   "execution_count": 68,
   "metadata": {},
   "outputs": [],
   "source": [
    "regressor = LinearRegression()"
   ]
  },
  {
   "cell_type": "code",
   "execution_count": 69,
   "metadata": {},
   "outputs": [],
   "source": [
    "_ = regressor.fit(x_train, y_train)\n",
    "prediction = regressor.predict(x_test)\n",
    "test_df[\"predicao\"] = prediction * std + mean\n",
    "test_df[\"rejeicao\"] =  test_df[\"rejeicao\"] * std + mean\n",
    "summary_df = summary_df.append(test_df, ignore_index=True, sort=False)"
   ]
  },
  {
   "cell_type": "code",
   "execution_count": 70,
   "metadata": {},
   "outputs": [
    {
     "output_type": "execute_result",
     "data": {
      "text/plain": "   paredao       nome  positivos_individual_pct  neutros_individual_pct  \\\n22      12    marcela                 -1.059426               -0.907884   \n20      12       babu                  0.494118               -0.727858   \n21      12  flayslene                 -0.359413               -1.491943   \n\n    negativos_individual_pct  positivos_global_pct  neutros_global_pct  \\\n22                  1.294642             -1.276371           -0.636983   \n20                  0.007684              1.143862            0.582895   \n21                  1.068057             -0.097247           -0.160261   \n\n    negativos_global_pct      day1  seguidores      fica      fora  rejeicao  \\\n22             -0.394832  0.694134   -0.315344 -0.371576  0.876699    0.4976   \n20              0.030109 -0.172942    0.057031  0.083261 -0.501442    0.0106   \n21              0.185253  1.123338   -0.359394 -0.089658  0.232666    0.4918   \n\n    predicao  \n22  0.475495  \n20  0.318567  \n21  0.281578  ",
      "text/html": "<div>\n<style scoped>\n    .dataframe tbody tr th:only-of-type {\n        vertical-align: middle;\n    }\n\n    .dataframe tbody tr th {\n        vertical-align: top;\n    }\n\n    .dataframe thead th {\n        text-align: right;\n    }\n</style>\n<table border=\"1\" class=\"dataframe\">\n  <thead>\n    <tr style=\"text-align: right;\">\n      <th></th>\n      <th>paredao</th>\n      <th>nome</th>\n      <th>positivos_individual_pct</th>\n      <th>neutros_individual_pct</th>\n      <th>negativos_individual_pct</th>\n      <th>positivos_global_pct</th>\n      <th>neutros_global_pct</th>\n      <th>negativos_global_pct</th>\n      <th>day1</th>\n      <th>seguidores</th>\n      <th>fica</th>\n      <th>fora</th>\n      <th>rejeicao</th>\n      <th>predicao</th>\n    </tr>\n  </thead>\n  <tbody>\n    <tr>\n      <th>22</th>\n      <td>12</td>\n      <td>marcela</td>\n      <td>-1.059426</td>\n      <td>-0.907884</td>\n      <td>1.294642</td>\n      <td>-1.276371</td>\n      <td>-0.636983</td>\n      <td>-0.394832</td>\n      <td>0.694134</td>\n      <td>-0.315344</td>\n      <td>-0.371576</td>\n      <td>0.876699</td>\n      <td>0.4976</td>\n      <td>0.475495</td>\n    </tr>\n    <tr>\n      <th>20</th>\n      <td>12</td>\n      <td>babu</td>\n      <td>0.494118</td>\n      <td>-0.727858</td>\n      <td>0.007684</td>\n      <td>1.143862</td>\n      <td>0.582895</td>\n      <td>0.030109</td>\n      <td>-0.172942</td>\n      <td>0.057031</td>\n      <td>0.083261</td>\n      <td>-0.501442</td>\n      <td>0.0106</td>\n      <td>0.318567</td>\n    </tr>\n    <tr>\n      <th>21</th>\n      <td>12</td>\n      <td>flayslene</td>\n      <td>-0.359413</td>\n      <td>-1.491943</td>\n      <td>1.068057</td>\n      <td>-0.097247</td>\n      <td>-0.160261</td>\n      <td>0.185253</td>\n      <td>1.123338</td>\n      <td>-0.359394</td>\n      <td>-0.089658</td>\n      <td>0.232666</td>\n      <td>0.4918</td>\n      <td>0.281578</td>\n    </tr>\n  </tbody>\n</table>\n</div>"
     },
     "metadata": {},
     "execution_count": 70
    }
   ],
   "source": [
    "test_df.sort_values(by=\"predicao\", ascending=False)"
   ]
  },
  {
   "cell_type": "markdown",
   "metadata": {},
   "source": [
    "# Sumarizando"
   ]
  },
  {
   "cell_type": "code",
   "execution_count": 74,
   "metadata": {},
   "outputs": [
    {
     "output_type": "execute_result",
     "data": {
      "text/plain": "   paredao             nome  rejeicao  predicao  erro_absoluto\n13       5     felipe_prior    0.2927  0.290634       0.002066\n7        3           hadson    0.7971  0.790585       0.006515\n6        3     felipe_prior    0.2029  0.209649       0.006749\n34      12          marcela    0.4976  0.475495       0.022105\n11       5   bianca_andrade    0.5309  0.500111       0.030789\n12       5        flayslene    0.1764  0.212648       0.036248\n27      10             mari    0.0076  0.053122       0.045522\n21       8             rafa    0.0059  0.070169       0.064269\n3        2           petrix    0.8027  0.732089       0.070611\n23       9           daniel    0.8082  0.720480       0.087720\n15       6        guilherme    0.5607  0.472048       0.088652\n24       9        flayslene    0.0954  0.197910       0.102510\n1        1     lucas_chumbo    0.7594  0.872201       0.112801\n16       6            pyong    0.4329  0.313168       0.119732\n9        4      victor_hugo    0.3608  0.234123       0.126677\n17       7             babu    0.0460  0.190101       0.144101\n2        2             babu    0.0044  0.166767       0.162367\n18       7     manu_gavassi    0.1018  0.264711       0.162911\n0        1   bianca_andrade    0.2446  0.079102       0.165498\n31      11           thelma    0.3628  0.530656       0.167856\n4        2            pyong    0.0066 -0.168457       0.175057\n10       4            lucas    0.6262  0.444908       0.181292\n22       8            pyong    0.5170  0.705639       0.188639\n33      12        flayslene    0.4918  0.281578       0.210222\n29      11             babu    0.0411  0.260296       0.219196\n20       8             babu    0.4771  0.219217       0.257883\n5        2           hadson    0.1863  0.448729       0.262429\n14       6  gizelly_bicalho    0.0064  0.295844       0.289444\n8        4             babu    0.0130  0.305041       0.292041\n30      11             gabi    0.5961  0.290386       0.305714\n32      12             babu    0.0106  0.318567       0.307967\n25       9              ivy    0.0964  0.417504       0.321104\n19       7      victor_hugo    0.8522  0.377138       0.475062\n26      10     manu_gavassi    0.4251 -0.207356       0.632456\n28      10     felipe_prior    0.5673  1.406676       0.839376",
      "text/html": "<div>\n<style scoped>\n    .dataframe tbody tr th:only-of-type {\n        vertical-align: middle;\n    }\n\n    .dataframe tbody tr th {\n        vertical-align: top;\n    }\n\n    .dataframe thead th {\n        text-align: right;\n    }\n</style>\n<table border=\"1\" class=\"dataframe\">\n  <thead>\n    <tr style=\"text-align: right;\">\n      <th></th>\n      <th>paredao</th>\n      <th>nome</th>\n      <th>rejeicao</th>\n      <th>predicao</th>\n      <th>erro_absoluto</th>\n    </tr>\n  </thead>\n  <tbody>\n    <tr>\n      <th>13</th>\n      <td>5</td>\n      <td>felipe_prior</td>\n      <td>0.2927</td>\n      <td>0.290634</td>\n      <td>0.002066</td>\n    </tr>\n    <tr>\n      <th>7</th>\n      <td>3</td>\n      <td>hadson</td>\n      <td>0.7971</td>\n      <td>0.790585</td>\n      <td>0.006515</td>\n    </tr>\n    <tr>\n      <th>6</th>\n      <td>3</td>\n      <td>felipe_prior</td>\n      <td>0.2029</td>\n      <td>0.209649</td>\n      <td>0.006749</td>\n    </tr>\n    <tr>\n      <th>34</th>\n      <td>12</td>\n      <td>marcela</td>\n      <td>0.4976</td>\n      <td>0.475495</td>\n      <td>0.022105</td>\n    </tr>\n    <tr>\n      <th>11</th>\n      <td>5</td>\n      <td>bianca_andrade</td>\n      <td>0.5309</td>\n      <td>0.500111</td>\n      <td>0.030789</td>\n    </tr>\n    <tr>\n      <th>12</th>\n      <td>5</td>\n      <td>flayslene</td>\n      <td>0.1764</td>\n      <td>0.212648</td>\n      <td>0.036248</td>\n    </tr>\n    <tr>\n      <th>27</th>\n      <td>10</td>\n      <td>mari</td>\n      <td>0.0076</td>\n      <td>0.053122</td>\n      <td>0.045522</td>\n    </tr>\n    <tr>\n      <th>21</th>\n      <td>8</td>\n      <td>rafa</td>\n      <td>0.0059</td>\n      <td>0.070169</td>\n      <td>0.064269</td>\n    </tr>\n    <tr>\n      <th>3</th>\n      <td>2</td>\n      <td>petrix</td>\n      <td>0.8027</td>\n      <td>0.732089</td>\n      <td>0.070611</td>\n    </tr>\n    <tr>\n      <th>23</th>\n      <td>9</td>\n      <td>daniel</td>\n      <td>0.8082</td>\n      <td>0.720480</td>\n      <td>0.087720</td>\n    </tr>\n    <tr>\n      <th>15</th>\n      <td>6</td>\n      <td>guilherme</td>\n      <td>0.5607</td>\n      <td>0.472048</td>\n      <td>0.088652</td>\n    </tr>\n    <tr>\n      <th>24</th>\n      <td>9</td>\n      <td>flayslene</td>\n      <td>0.0954</td>\n      <td>0.197910</td>\n      <td>0.102510</td>\n    </tr>\n    <tr>\n      <th>1</th>\n      <td>1</td>\n      <td>lucas_chumbo</td>\n      <td>0.7594</td>\n      <td>0.872201</td>\n      <td>0.112801</td>\n    </tr>\n    <tr>\n      <th>16</th>\n      <td>6</td>\n      <td>pyong</td>\n      <td>0.4329</td>\n      <td>0.313168</td>\n      <td>0.119732</td>\n    </tr>\n    <tr>\n      <th>9</th>\n      <td>4</td>\n      <td>victor_hugo</td>\n      <td>0.3608</td>\n      <td>0.234123</td>\n      <td>0.126677</td>\n    </tr>\n    <tr>\n      <th>17</th>\n      <td>7</td>\n      <td>babu</td>\n      <td>0.0460</td>\n      <td>0.190101</td>\n      <td>0.144101</td>\n    </tr>\n    <tr>\n      <th>2</th>\n      <td>2</td>\n      <td>babu</td>\n      <td>0.0044</td>\n      <td>0.166767</td>\n      <td>0.162367</td>\n    </tr>\n    <tr>\n      <th>18</th>\n      <td>7</td>\n      <td>manu_gavassi</td>\n      <td>0.1018</td>\n      <td>0.264711</td>\n      <td>0.162911</td>\n    </tr>\n    <tr>\n      <th>0</th>\n      <td>1</td>\n      <td>bianca_andrade</td>\n      <td>0.2446</td>\n      <td>0.079102</td>\n      <td>0.165498</td>\n    </tr>\n    <tr>\n      <th>31</th>\n      <td>11</td>\n      <td>thelma</td>\n      <td>0.3628</td>\n      <td>0.530656</td>\n      <td>0.167856</td>\n    </tr>\n    <tr>\n      <th>4</th>\n      <td>2</td>\n      <td>pyong</td>\n      <td>0.0066</td>\n      <td>-0.168457</td>\n      <td>0.175057</td>\n    </tr>\n    <tr>\n      <th>10</th>\n      <td>4</td>\n      <td>lucas</td>\n      <td>0.6262</td>\n      <td>0.444908</td>\n      <td>0.181292</td>\n    </tr>\n    <tr>\n      <th>22</th>\n      <td>8</td>\n      <td>pyong</td>\n      <td>0.5170</td>\n      <td>0.705639</td>\n      <td>0.188639</td>\n    </tr>\n    <tr>\n      <th>33</th>\n      <td>12</td>\n      <td>flayslene</td>\n      <td>0.4918</td>\n      <td>0.281578</td>\n      <td>0.210222</td>\n    </tr>\n    <tr>\n      <th>29</th>\n      <td>11</td>\n      <td>babu</td>\n      <td>0.0411</td>\n      <td>0.260296</td>\n      <td>0.219196</td>\n    </tr>\n    <tr>\n      <th>20</th>\n      <td>8</td>\n      <td>babu</td>\n      <td>0.4771</td>\n      <td>0.219217</td>\n      <td>0.257883</td>\n    </tr>\n    <tr>\n      <th>5</th>\n      <td>2</td>\n      <td>hadson</td>\n      <td>0.1863</td>\n      <td>0.448729</td>\n      <td>0.262429</td>\n    </tr>\n    <tr>\n      <th>14</th>\n      <td>6</td>\n      <td>gizelly_bicalho</td>\n      <td>0.0064</td>\n      <td>0.295844</td>\n      <td>0.289444</td>\n    </tr>\n    <tr>\n      <th>8</th>\n      <td>4</td>\n      <td>babu</td>\n      <td>0.0130</td>\n      <td>0.305041</td>\n      <td>0.292041</td>\n    </tr>\n    <tr>\n      <th>30</th>\n      <td>11</td>\n      <td>gabi</td>\n      <td>0.5961</td>\n      <td>0.290386</td>\n      <td>0.305714</td>\n    </tr>\n    <tr>\n      <th>32</th>\n      <td>12</td>\n      <td>babu</td>\n      <td>0.0106</td>\n      <td>0.318567</td>\n      <td>0.307967</td>\n    </tr>\n    <tr>\n      <th>25</th>\n      <td>9</td>\n      <td>ivy</td>\n      <td>0.0964</td>\n      <td>0.417504</td>\n      <td>0.321104</td>\n    </tr>\n    <tr>\n      <th>19</th>\n      <td>7</td>\n      <td>victor_hugo</td>\n      <td>0.8522</td>\n      <td>0.377138</td>\n      <td>0.475062</td>\n    </tr>\n    <tr>\n      <th>26</th>\n      <td>10</td>\n      <td>manu_gavassi</td>\n      <td>0.4251</td>\n      <td>-0.207356</td>\n      <td>0.632456</td>\n    </tr>\n    <tr>\n      <th>28</th>\n      <td>10</td>\n      <td>felipe_prior</td>\n      <td>0.5673</td>\n      <td>1.406676</td>\n      <td>0.839376</td>\n    </tr>\n  </tbody>\n</table>\n</div>"
     },
     "metadata": {},
     "execution_count": 74
    }
   ],
   "source": [
    "summary_df = summary_df[[\"paredao\", \"nome\", \"rejeicao\", \"predicao\"]]\n",
    "summary_df[\"erro_absoluto\"] = abs(summary_df[\"rejeicao\"] - summary_df[\"predicao\"])\n",
    "summary_df.sort_values(by=\"erro_absoluto\")"
   ]
  },
  {
   "cell_type": "code",
   "execution_count": null,
   "metadata": {},
   "outputs": [],
   "source": []
  }
 ],
 "metadata": {
  "language_info": {
   "name": "python",
   "codemirror_mode": {
    "name": "ipython",
    "version": 3
   },
   "version": "3.6.9-final"
  },
  "orig_nbformat": 2,
  "file_extension": ".py",
  "mimetype": "text/x-python",
  "name": "python",
  "npconvert_exporter": "python",
  "pygments_lexer": "ipython3",
  "version": 3,
  "kernelspec": {
   "name": "python36964bitbertvirtualenv054cbb15ab924922a35a349b12e89805",
   "display_name": "Python 3.6.9 64-bit ('bert': virtualenv)"
  }
 },
 "nbformat": 4,
 "nbformat_minor": 2
}