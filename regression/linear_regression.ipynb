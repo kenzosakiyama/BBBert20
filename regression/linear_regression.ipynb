{
 "nbformat": 4,
 "nbformat_minor": 2,
 "metadata": {
  "language_info": {
   "name": "python",
   "codemirror_mode": {
    "name": "ipython",
    "version": 3
   },
   "version": "3.6.9-final"
  },
  "orig_nbformat": 2,
  "file_extension": ".py",
  "mimetype": "text/x-python",
  "name": "python",
  "npconvert_exporter": "python",
  "pygments_lexer": "ipython3",
  "version": 3,
  "kernelspec": {
   "name": "python36964bitbertvirtualenv054cbb15ab924922a35a349b12e89805",
   "display_name": "Python 3.6.9 64-bit ('bert': virtualenv)"
  }
 },
 "cells": [
  {
   "cell_type": "markdown",
   "metadata": {},
   "source": [
    "# Experimentos baseados em regressão linear"
   ]
  },
  {
   "cell_type": "markdown",
   "metadata": {},
   "source": [
    "- Utilizando cada paredão como teste e avaliando com holdout."
   ]
  },
  {
   "cell_type": "code",
   "execution_count": 1,
   "metadata": {},
   "outputs": [],
   "source": [
    "import pandas as pd \n",
    "import numpy as np \n",
    "from regression_utils import *\n",
    "from sklearn.linear_model import LinearRegression"
   ]
  },
  {
   "cell_type": "code",
   "execution_count": 2,
   "metadata": {},
   "outputs": [],
   "source": [
    "NORMALIZE = True\n",
    "REMOVE = []"
   ]
  },
  {
   "cell_type": "code",
   "execution_count": 3,
   "metadata": {},
   "outputs": [],
   "source": [
    "summary_df = pd.DataFrame(columns=set(COLUMNS) - set(REMOVE))"
   ]
  },
  {
   "cell_type": "markdown",
   "metadata": {},
   "source": [
    "# Paredao 1"
   ]
  },
  {
   "cell_type": "code",
   "execution_count": 4,
   "metadata": {},
   "outputs": [],
   "source": [
    "train_df, test_df, mean, std = get_train_test(1, normalize=NORMALIZE, drop_columns=REMOVE)"
   ]
  },
  {
   "cell_type": "code",
   "execution_count": 5,
   "metadata": {},
   "outputs": [
    {
     "output_type": "execute_result",
     "data": {
      "text/plain": "   paredao            nome  positivos   neutros  negativos  \\\n24       1  bianca_andrade  -0.772641 -0.681373  -0.992892   \n25       1    lucas_chumbo  -0.746509 -0.470902  -0.588873   \n\n    positivos_individual_pct  neutros_individual_pct  \\\n24                  1.372752                0.718248   \n25                 -0.824652                0.378133   \n\n    negativos_individual_pct  positivos_global_pct  neutros_global_pct  \\\n24                 -1.674638              1.061512           -0.112851   \n25                  0.516734              1.319799            2.139019   \n\n    negativos_global_pct      day1      day2      day3     likes  retweets  \\\n24             -0.769069 -1.058300 -0.758909 -0.608469 -0.876601 -0.877481   \n25              2.526673 -0.033023 -0.770357 -0.604842 -0.720701 -0.629421   \n\n    seguidores  rejeicao  \n24   -0.167656 -0.347670  \n25   -0.526805  1.455205  ",
      "text/html": "<div>\n<style scoped>\n    .dataframe tbody tr th:only-of-type {\n        vertical-align: middle;\n    }\n\n    .dataframe tbody tr th {\n        vertical-align: top;\n    }\n\n    .dataframe thead th {\n        text-align: right;\n    }\n</style>\n<table border=\"1\" class=\"dataframe\">\n  <thead>\n    <tr style=\"text-align: right;\">\n      <th></th>\n      <th>paredao</th>\n      <th>nome</th>\n      <th>positivos</th>\n      <th>neutros</th>\n      <th>negativos</th>\n      <th>positivos_individual_pct</th>\n      <th>neutros_individual_pct</th>\n      <th>negativos_individual_pct</th>\n      <th>positivos_global_pct</th>\n      <th>neutros_global_pct</th>\n      <th>negativos_global_pct</th>\n      <th>day1</th>\n      <th>day2</th>\n      <th>day3</th>\n      <th>likes</th>\n      <th>retweets</th>\n      <th>seguidores</th>\n      <th>rejeicao</th>\n    </tr>\n  </thead>\n  <tbody>\n    <tr>\n      <th>24</th>\n      <td>1</td>\n      <td>bianca_andrade</td>\n      <td>-0.772641</td>\n      <td>-0.681373</td>\n      <td>-0.992892</td>\n      <td>1.372752</td>\n      <td>0.718248</td>\n      <td>-1.674638</td>\n      <td>1.061512</td>\n      <td>-0.112851</td>\n      <td>-0.769069</td>\n      <td>-1.058300</td>\n      <td>-0.758909</td>\n      <td>-0.608469</td>\n      <td>-0.876601</td>\n      <td>-0.877481</td>\n      <td>-0.167656</td>\n      <td>-0.347670</td>\n    </tr>\n    <tr>\n      <th>25</th>\n      <td>1</td>\n      <td>lucas_chumbo</td>\n      <td>-0.746509</td>\n      <td>-0.470902</td>\n      <td>-0.588873</td>\n      <td>-0.824652</td>\n      <td>0.378133</td>\n      <td>0.516734</td>\n      <td>1.319799</td>\n      <td>2.139019</td>\n      <td>2.526673</td>\n      <td>-0.033023</td>\n      <td>-0.770357</td>\n      <td>-0.604842</td>\n      <td>-0.720701</td>\n      <td>-0.629421</td>\n      <td>-0.526805</td>\n      <td>1.455205</td>\n    </tr>\n  </tbody>\n</table>\n</div>"
     },
     "metadata": {},
     "execution_count": 5
    }
   ],
   "source": [
    "test_df"
   ]
  },
  {
   "cell_type": "code",
   "execution_count": 6,
   "metadata": {},
   "outputs": [],
   "source": [
    "x_train, y_train = train_df.drop(columns=[\"paredao\", \"nome\", \"rejeicao\"], axis=1).to_numpy(), train_df.drop(columns=train_df.columns[:-1], axis=1).to_numpy()\n",
    "x_test, y_test = test_df.drop(columns=[\"paredao\", \"nome\", \"rejeicao\"], axis=1).to_numpy(), test_df.drop(columns=train_df.columns[:-1], axis=1).to_numpy()"
   ]
  },
  {
   "cell_type": "code",
   "execution_count": 7,
   "metadata": {},
   "outputs": [],
   "source": [
    "regressor = LinearRegression()"
   ]
  },
  {
   "cell_type": "code",
   "execution_count": 8,
   "metadata": {},
   "outputs": [],
   "source": [
    "_ = regressor.fit(x_train, y_train)"
   ]
  },
  {
   "cell_type": "code",
   "execution_count": 9,
   "metadata": {},
   "outputs": [],
   "source": [
    "prediction = regressor.predict(x_test)\n",
    "test_df[\"predicao\"] = prediction * std + mean\n",
    "test_df[\"rejeicao\"] =  test_df[\"rejeicao\"] * std + mean\n",
    "summary_df = summary_df.append(test_df, ignore_index=True, sort=False)"
   ]
  },
  {
   "cell_type": "code",
   "execution_count": 10,
   "metadata": {},
   "outputs": [
    {
     "output_type": "execute_result",
     "data": {
      "text/plain": "   paredao            nome  positivos   neutros  negativos  \\\n25       1    lucas_chumbo  -0.746509 -0.470902  -0.588873   \n24       1  bianca_andrade  -0.772641 -0.681373  -0.992892   \n\n    positivos_individual_pct  neutros_individual_pct  \\\n25                 -0.824652                0.378133   \n24                  1.372752                0.718248   \n\n    negativos_individual_pct  positivos_global_pct  neutros_global_pct  \\\n25                  0.516734              1.319799            2.139019   \n24                 -1.674638              1.061512           -0.112851   \n\n    negativos_global_pct      day1      day2      day3     likes  retweets  \\\n25              2.526673 -0.033023 -0.770357 -0.604842 -0.720701 -0.629421   \n24             -0.769069 -1.058300 -0.758909 -0.608469 -0.876601 -0.877481   \n\n    seguidores  rejeicao  predicao  \n25   -0.526805    0.7594  0.929552  \n24   -0.167656    0.2446  0.330667  ",
      "text/html": "<div>\n<style scoped>\n    .dataframe tbody tr th:only-of-type {\n        vertical-align: middle;\n    }\n\n    .dataframe tbody tr th {\n        vertical-align: top;\n    }\n\n    .dataframe thead th {\n        text-align: right;\n    }\n</style>\n<table border=\"1\" class=\"dataframe\">\n  <thead>\n    <tr style=\"text-align: right;\">\n      <th></th>\n      <th>paredao</th>\n      <th>nome</th>\n      <th>positivos</th>\n      <th>neutros</th>\n      <th>negativos</th>\n      <th>positivos_individual_pct</th>\n      <th>neutros_individual_pct</th>\n      <th>negativos_individual_pct</th>\n      <th>positivos_global_pct</th>\n      <th>neutros_global_pct</th>\n      <th>negativos_global_pct</th>\n      <th>day1</th>\n      <th>day2</th>\n      <th>day3</th>\n      <th>likes</th>\n      <th>retweets</th>\n      <th>seguidores</th>\n      <th>rejeicao</th>\n      <th>predicao</th>\n    </tr>\n  </thead>\n  <tbody>\n    <tr>\n      <th>25</th>\n      <td>1</td>\n      <td>lucas_chumbo</td>\n      <td>-0.746509</td>\n      <td>-0.470902</td>\n      <td>-0.588873</td>\n      <td>-0.824652</td>\n      <td>0.378133</td>\n      <td>0.516734</td>\n      <td>1.319799</td>\n      <td>2.139019</td>\n      <td>2.526673</td>\n      <td>-0.033023</td>\n      <td>-0.770357</td>\n      <td>-0.604842</td>\n      <td>-0.720701</td>\n      <td>-0.629421</td>\n      <td>-0.526805</td>\n      <td>0.7594</td>\n      <td>0.929552</td>\n    </tr>\n    <tr>\n      <th>24</th>\n      <td>1</td>\n      <td>bianca_andrade</td>\n      <td>-0.772641</td>\n      <td>-0.681373</td>\n      <td>-0.992892</td>\n      <td>1.372752</td>\n      <td>0.718248</td>\n      <td>-1.674638</td>\n      <td>1.061512</td>\n      <td>-0.112851</td>\n      <td>-0.769069</td>\n      <td>-1.058300</td>\n      <td>-0.758909</td>\n      <td>-0.608469</td>\n      <td>-0.876601</td>\n      <td>-0.877481</td>\n      <td>-0.167656</td>\n      <td>0.2446</td>\n      <td>0.330667</td>\n    </tr>\n  </tbody>\n</table>\n</div>"
     },
     "metadata": {},
     "execution_count": 10
    }
   ],
   "source": [
    "test_df.sort_values(by=\"predicao\", ascending=False)"
   ]
  },
  {
   "cell_type": "markdown",
   "metadata": {},
   "source": [
    "# Paredao 2"
   ]
  },
  {
   "cell_type": "code",
   "execution_count": 11,
   "metadata": {},
   "outputs": [
    {
     "output_type": "execute_result",
     "data": {
      "text/plain": "   paredao    nome  positivos   neutros  negativos  positivos_individual_pct  \\\n20       2    babu  -0.866293 -0.688218  -0.990616                  0.643466   \n21       2  petrix   0.157900  0.683744   1.238796                 -1.200302   \n22       2   pyong   0.310970 -0.302554  -0.645934                  2.002066   \n23       2  hadson  -0.069699  0.286925   0.915246                 -1.185004   \n\n    neutros_individual_pct  negativos_individual_pct  positivos_global_pct  \\\n20                1.196839                 -1.304798             -2.102981   \n21                0.152933                  0.992311             -0.205506   \n22               -0.247902                 -1.659487              0.078081   \n23               -0.381200                  1.301279             -0.627167   \n\n    neutros_global_pct  negativos_global_pct      day1      day2      day3  \\\n20           -1.874743             -1.772186 -1.073033 -0.755683 -0.680663   \n21            0.669386              0.705879  1.417279  0.923007 -0.159152   \n22           -1.159580             -1.389060 -0.653404 -0.106778 -0.354145   \n23           -0.066464              0.346243  0.118798  1.029268 -0.411096   \n\n       likes  retweets  seguidores  rejeicao  \n20 -0.933090 -0.878111   -0.245379 -1.188871  \n21  0.700892  1.497154   -0.517464  1.606845  \n22  0.012254  0.112049    0.747726 -1.181167  \n23  0.328932  0.858862   -0.528428 -0.551841  ",
      "text/html": "<div>\n<style scoped>\n    .dataframe tbody tr th:only-of-type {\n        vertical-align: middle;\n    }\n\n    .dataframe tbody tr th {\n        vertical-align: top;\n    }\n\n    .dataframe thead th {\n        text-align: right;\n    }\n</style>\n<table border=\"1\" class=\"dataframe\">\n  <thead>\n    <tr style=\"text-align: right;\">\n      <th></th>\n      <th>paredao</th>\n      <th>nome</th>\n      <th>positivos</th>\n      <th>neutros</th>\n      <th>negativos</th>\n      <th>positivos_individual_pct</th>\n      <th>neutros_individual_pct</th>\n      <th>negativos_individual_pct</th>\n      <th>positivos_global_pct</th>\n      <th>neutros_global_pct</th>\n      <th>negativos_global_pct</th>\n      <th>day1</th>\n      <th>day2</th>\n      <th>day3</th>\n      <th>likes</th>\n      <th>retweets</th>\n      <th>seguidores</th>\n      <th>rejeicao</th>\n    </tr>\n  </thead>\n  <tbody>\n    <tr>\n      <th>20</th>\n      <td>2</td>\n      <td>babu</td>\n      <td>-0.866293</td>\n      <td>-0.688218</td>\n      <td>-0.990616</td>\n      <td>0.643466</td>\n      <td>1.196839</td>\n      <td>-1.304798</td>\n      <td>-2.102981</td>\n      <td>-1.874743</td>\n      <td>-1.772186</td>\n      <td>-1.073033</td>\n      <td>-0.755683</td>\n      <td>-0.680663</td>\n      <td>-0.933090</td>\n      <td>-0.878111</td>\n      <td>-0.245379</td>\n      <td>-1.188871</td>\n    </tr>\n    <tr>\n      <th>21</th>\n      <td>2</td>\n      <td>petrix</td>\n      <td>0.157900</td>\n      <td>0.683744</td>\n      <td>1.238796</td>\n      <td>-1.200302</td>\n      <td>0.152933</td>\n      <td>0.992311</td>\n      <td>-0.205506</td>\n      <td>0.669386</td>\n      <td>0.705879</td>\n      <td>1.417279</td>\n      <td>0.923007</td>\n      <td>-0.159152</td>\n      <td>0.700892</td>\n      <td>1.497154</td>\n      <td>-0.517464</td>\n      <td>1.606845</td>\n    </tr>\n    <tr>\n      <th>22</th>\n      <td>2</td>\n      <td>pyong</td>\n      <td>0.310970</td>\n      <td>-0.302554</td>\n      <td>-0.645934</td>\n      <td>2.002066</td>\n      <td>-0.247902</td>\n      <td>-1.659487</td>\n      <td>0.078081</td>\n      <td>-1.159580</td>\n      <td>-1.389060</td>\n      <td>-0.653404</td>\n      <td>-0.106778</td>\n      <td>-0.354145</td>\n      <td>0.012254</td>\n      <td>0.112049</td>\n      <td>0.747726</td>\n      <td>-1.181167</td>\n    </tr>\n    <tr>\n      <th>23</th>\n      <td>2</td>\n      <td>hadson</td>\n      <td>-0.069699</td>\n      <td>0.286925</td>\n      <td>0.915246</td>\n      <td>-1.185004</td>\n      <td>-0.381200</td>\n      <td>1.301279</td>\n      <td>-0.627167</td>\n      <td>-0.066464</td>\n      <td>0.346243</td>\n      <td>0.118798</td>\n      <td>1.029268</td>\n      <td>-0.411096</td>\n      <td>0.328932</td>\n      <td>0.858862</td>\n      <td>-0.528428</td>\n      <td>-0.551841</td>\n    </tr>\n  </tbody>\n</table>\n</div>"
     },
     "metadata": {},
     "execution_count": 11
    }
   ],
   "source": [
    "train_df, test_df, mean, std = get_train_test(2, normalize=NORMALIZE, drop_columns=REMOVE)\n",
    "test_df\n",
    ""
   ]
  },
  {
   "cell_type": "code",
   "execution_count": 12,
   "metadata": {},
   "outputs": [],
   "source": [
    "x_train, y_train = train_df.drop(columns=[\"paredao\", \"nome\", \"rejeicao\"], axis=1).to_numpy(), train_df.drop(columns=train_df.columns[:-1], axis=1).to_numpy()\n",
    "x_test, y_test = test_df.drop(columns=[\"paredao\", \"nome\", \"rejeicao\"], axis=1).to_numpy(), test_df.drop(columns=train_df.columns[:-1], axis=1).to_numpy()"
   ]
  },
  {
   "cell_type": "code",
   "execution_count": 13,
   "metadata": {},
   "outputs": [],
   "source": [
    "regressor = LinearRegression()"
   ]
  },
  {
   "cell_type": "code",
   "execution_count": 14,
   "metadata": {},
   "outputs": [],
   "source": [
    "_ = regressor.fit(x_train, y_train)\n",
    ""
   ]
  },
  {
   "cell_type": "code",
   "execution_count": 15,
   "metadata": {},
   "outputs": [],
   "source": [
    "prediction = regressor.predict(x_test)\n",
    "test_df[\"predicao\"] = prediction * std + mean\n",
    "test_df[\"rejeicao\"] =  test_df[\"rejeicao\"] * std + mean\n",
    "summary_df = summary_df.append(test_df, ignore_index=True, sort=False)"
   ]
  },
  {
   "cell_type": "code",
   "execution_count": 16,
   "metadata": {},
   "outputs": [
    {
     "output_type": "execute_result",
     "data": {
      "text/plain": "   paredao    nome  positivos   neutros  negativos  positivos_individual_pct  \\\n20       2    babu  -0.866293 -0.688218  -0.990616                  0.643466   \n21       2  petrix   0.157900  0.683744   1.238796                 -1.200302   \n22       2   pyong   0.310970 -0.302554  -0.645934                  2.002066   \n23       2  hadson  -0.069699  0.286925   0.915246                 -1.185004   \n\n    neutros_individual_pct  negativos_individual_pct  positivos_global_pct  \\\n20                1.196839                 -1.304798             -2.102981   \n21                0.152933                  0.992311             -0.205506   \n22               -0.247902                 -1.659487              0.078081   \n23               -0.381200                  1.301279             -0.627167   \n\n    neutros_global_pct  negativos_global_pct      day1      day2      day3  \\\n20           -1.874743             -1.772186 -1.073033 -0.755683 -0.680663   \n21            0.669386              0.705879  1.417279  0.923007 -0.159152   \n22           -1.159580             -1.389060 -0.653404 -0.106778 -0.354145   \n23           -0.066464              0.346243  0.118798  1.029268 -0.411096   \n\n       likes  retweets  seguidores  rejeicao  predicao  \n20 -0.933090 -0.878111   -0.245379    0.0044  0.200583  \n21  0.700892  1.497154   -0.517464    0.8027 -0.086714  \n22  0.012254  0.112049    0.747726    0.0066 -0.261895  \n23  0.328932  0.858862   -0.528428    0.1863 -0.708059  ",
      "text/html": "<div>\n<style scoped>\n    .dataframe tbody tr th:only-of-type {\n        vertical-align: middle;\n    }\n\n    .dataframe tbody tr th {\n        vertical-align: top;\n    }\n\n    .dataframe thead th {\n        text-align: right;\n    }\n</style>\n<table border=\"1\" class=\"dataframe\">\n  <thead>\n    <tr style=\"text-align: right;\">\n      <th></th>\n      <th>paredao</th>\n      <th>nome</th>\n      <th>positivos</th>\n      <th>neutros</th>\n      <th>negativos</th>\n      <th>positivos_individual_pct</th>\n      <th>neutros_individual_pct</th>\n      <th>negativos_individual_pct</th>\n      <th>positivos_global_pct</th>\n      <th>neutros_global_pct</th>\n      <th>negativos_global_pct</th>\n      <th>day1</th>\n      <th>day2</th>\n      <th>day3</th>\n      <th>likes</th>\n      <th>retweets</th>\n      <th>seguidores</th>\n      <th>rejeicao</th>\n      <th>predicao</th>\n    </tr>\n  </thead>\n  <tbody>\n    <tr>\n      <th>20</th>\n      <td>2</td>\n      <td>babu</td>\n      <td>-0.866293</td>\n      <td>-0.688218</td>\n      <td>-0.990616</td>\n      <td>0.643466</td>\n      <td>1.196839</td>\n      <td>-1.304798</td>\n      <td>-2.102981</td>\n      <td>-1.874743</td>\n      <td>-1.772186</td>\n      <td>-1.073033</td>\n      <td>-0.755683</td>\n      <td>-0.680663</td>\n      <td>-0.933090</td>\n      <td>-0.878111</td>\n      <td>-0.245379</td>\n      <td>0.0044</td>\n      <td>0.200583</td>\n    </tr>\n    <tr>\n      <th>21</th>\n      <td>2</td>\n      <td>petrix</td>\n      <td>0.157900</td>\n      <td>0.683744</td>\n      <td>1.238796</td>\n      <td>-1.200302</td>\n      <td>0.152933</td>\n      <td>0.992311</td>\n      <td>-0.205506</td>\n      <td>0.669386</td>\n      <td>0.705879</td>\n      <td>1.417279</td>\n      <td>0.923007</td>\n      <td>-0.159152</td>\n      <td>0.700892</td>\n      <td>1.497154</td>\n      <td>-0.517464</td>\n      <td>0.8027</td>\n      <td>-0.086714</td>\n    </tr>\n    <tr>\n      <th>22</th>\n      <td>2</td>\n      <td>pyong</td>\n      <td>0.310970</td>\n      <td>-0.302554</td>\n      <td>-0.645934</td>\n      <td>2.002066</td>\n      <td>-0.247902</td>\n      <td>-1.659487</td>\n      <td>0.078081</td>\n      <td>-1.159580</td>\n      <td>-1.389060</td>\n      <td>-0.653404</td>\n      <td>-0.106778</td>\n      <td>-0.354145</td>\n      <td>0.012254</td>\n      <td>0.112049</td>\n      <td>0.747726</td>\n      <td>0.0066</td>\n      <td>-0.261895</td>\n    </tr>\n    <tr>\n      <th>23</th>\n      <td>2</td>\n      <td>hadson</td>\n      <td>-0.069699</td>\n      <td>0.286925</td>\n      <td>0.915246</td>\n      <td>-1.185004</td>\n      <td>-0.381200</td>\n      <td>1.301279</td>\n      <td>-0.627167</td>\n      <td>-0.066464</td>\n      <td>0.346243</td>\n      <td>0.118798</td>\n      <td>1.029268</td>\n      <td>-0.411096</td>\n      <td>0.328932</td>\n      <td>0.858862</td>\n      <td>-0.528428</td>\n      <td>0.1863</td>\n      <td>-0.708059</td>\n    </tr>\n  </tbody>\n</table>\n</div>"
     },
     "metadata": {},
     "execution_count": 16
    }
   ],
   "source": [
    "test_df.sort_values(by=\"predicao\", ascending=False)"
   ]
  },
  {
   "cell_type": "markdown",
   "metadata": {},
   "source": [
    "# Paredao 3"
   ]
  },
  {
   "cell_type": "code",
   "execution_count": 17,
   "metadata": {},
   "outputs": [
    {
     "output_type": "execute_result",
     "data": {
      "text/plain": "   paredao          nome  positivos   neutros  negativos  \\\n9        3  felipe_prior  -0.938923 -0.738964  -1.002301   \n10       3        hadson  -0.973961 -0.692793  -0.984356   \n\n    positivos_individual_pct  neutros_individual_pct  \\\n9                   0.406823                0.681797   \n10                 -0.464533                1.908176   \n\n    negativos_individual_pct  positivos_global_pct  neutros_global_pct  \\\n9                  -0.779683              1.544535            0.554679   \n10                 -0.733362              0.836776            1.471488   \n\n    negativos_global_pct      day1      day2      day3     likes  retweets  \\\n9               0.701472 -1.343934 -0.742750 -0.603029 -0.860468 -0.799198   \n10              1.056132 -1.297551 -0.740894 -0.581269 -0.986669 -0.931581   \n\n    seguidores  rejeicao  \n9    -0.354340 -0.493707  \n10   -0.528428  1.587234  ",
      "text/html": "<div>\n<style scoped>\n    .dataframe tbody tr th:only-of-type {\n        vertical-align: middle;\n    }\n\n    .dataframe tbody tr th {\n        vertical-align: top;\n    }\n\n    .dataframe thead th {\n        text-align: right;\n    }\n</style>\n<table border=\"1\" class=\"dataframe\">\n  <thead>\n    <tr style=\"text-align: right;\">\n      <th></th>\n      <th>paredao</th>\n      <th>nome</th>\n      <th>positivos</th>\n      <th>neutros</th>\n      <th>negativos</th>\n      <th>positivos_individual_pct</th>\n      <th>neutros_individual_pct</th>\n      <th>negativos_individual_pct</th>\n      <th>positivos_global_pct</th>\n      <th>neutros_global_pct</th>\n      <th>negativos_global_pct</th>\n      <th>day1</th>\n      <th>day2</th>\n      <th>day3</th>\n      <th>likes</th>\n      <th>retweets</th>\n      <th>seguidores</th>\n      <th>rejeicao</th>\n    </tr>\n  </thead>\n  <tbody>\n    <tr>\n      <th>9</th>\n      <td>3</td>\n      <td>felipe_prior</td>\n      <td>-0.938923</td>\n      <td>-0.738964</td>\n      <td>-1.002301</td>\n      <td>0.406823</td>\n      <td>0.681797</td>\n      <td>-0.779683</td>\n      <td>1.544535</td>\n      <td>0.554679</td>\n      <td>0.701472</td>\n      <td>-1.343934</td>\n      <td>-0.742750</td>\n      <td>-0.603029</td>\n      <td>-0.860468</td>\n      <td>-0.799198</td>\n      <td>-0.354340</td>\n      <td>-0.493707</td>\n    </tr>\n    <tr>\n      <th>10</th>\n      <td>3</td>\n      <td>hadson</td>\n      <td>-0.973961</td>\n      <td>-0.692793</td>\n      <td>-0.984356</td>\n      <td>-0.464533</td>\n      <td>1.908176</td>\n      <td>-0.733362</td>\n      <td>0.836776</td>\n      <td>1.471488</td>\n      <td>1.056132</td>\n      <td>-1.297551</td>\n      <td>-0.740894</td>\n      <td>-0.581269</td>\n      <td>-0.986669</td>\n      <td>-0.931581</td>\n      <td>-0.528428</td>\n      <td>1.587234</td>\n    </tr>\n  </tbody>\n</table>\n</div>"
     },
     "metadata": {},
     "execution_count": 17
    }
   ],
   "source": [
    "train_df, test_df, mean, std = get_train_test(3, normalize=NORMALIZE, drop_columns=REMOVE)\n",
    "test_df\n",
    ""
   ]
  },
  {
   "cell_type": "code",
   "execution_count": 18,
   "metadata": {},
   "outputs": [],
   "source": [
    "x_train, y_train = train_df.drop(columns=[\"paredao\", \"nome\", \"rejeicao\"], axis=1).to_numpy(), train_df.drop(columns=train_df.columns[:-1], axis=1).to_numpy()\n",
    "x_test, y_test = test_df.drop(columns=[\"paredao\", \"nome\", \"rejeicao\"], axis=1).to_numpy(), test_df.drop(columns=train_df.columns[:-1], axis=1).to_numpy()"
   ]
  },
  {
   "cell_type": "code",
   "execution_count": 19,
   "metadata": {},
   "outputs": [],
   "source": [
    "regressor = LinearRegression()"
   ]
  },
  {
   "cell_type": "code",
   "execution_count": 20,
   "metadata": {},
   "outputs": [],
   "source": [
    "_ = regressor.fit(x_train, y_train)"
   ]
  },
  {
   "cell_type": "code",
   "execution_count": 21,
   "metadata": {},
   "outputs": [],
   "source": [
    "prediction = regressor.predict(x_test)\n",
    "test_df[\"predicao\"] = prediction * std + mean\n",
    "test_df[\"rejeicao\"] =  test_df[\"rejeicao\"] * std + mean\n",
    "summary_df = summary_df.append(test_df, ignore_index=True, sort=False)"
   ]
  },
  {
   "cell_type": "code",
   "execution_count": 22,
   "metadata": {},
   "outputs": [
    {
     "output_type": "execute_result",
     "data": {
      "text/plain": "   paredao          nome  positivos   neutros  negativos  \\\n10       3        hadson  -0.973961 -0.692793  -0.984356   \n9        3  felipe_prior  -0.938923 -0.738964  -1.002301   \n\n    positivos_individual_pct  neutros_individual_pct  \\\n10                 -0.464533                1.908176   \n9                   0.406823                0.681797   \n\n    negativos_individual_pct  positivos_global_pct  neutros_global_pct  \\\n10                 -0.733362              0.836776            1.471488   \n9                  -0.779683              1.544535            0.554679   \n\n    negativos_global_pct      day1      day2      day3     likes  retweets  \\\n10              1.056132 -1.297551 -0.740894 -0.581269 -0.986669 -0.931581   \n9               0.701472 -1.343934 -0.742750 -0.603029 -0.860468 -0.799198   \n\n    seguidores  rejeicao  predicao  \n10   -0.528428    0.7971  0.566888  \n9    -0.354340    0.2029  0.286242  ",
      "text/html": "<div>\n<style scoped>\n    .dataframe tbody tr th:only-of-type {\n        vertical-align: middle;\n    }\n\n    .dataframe tbody tr th {\n        vertical-align: top;\n    }\n\n    .dataframe thead th {\n        text-align: right;\n    }\n</style>\n<table border=\"1\" class=\"dataframe\">\n  <thead>\n    <tr style=\"text-align: right;\">\n      <th></th>\n      <th>paredao</th>\n      <th>nome</th>\n      <th>positivos</th>\n      <th>neutros</th>\n      <th>negativos</th>\n      <th>positivos_individual_pct</th>\n      <th>neutros_individual_pct</th>\n      <th>negativos_individual_pct</th>\n      <th>positivos_global_pct</th>\n      <th>neutros_global_pct</th>\n      <th>negativos_global_pct</th>\n      <th>day1</th>\n      <th>day2</th>\n      <th>day3</th>\n      <th>likes</th>\n      <th>retweets</th>\n      <th>seguidores</th>\n      <th>rejeicao</th>\n      <th>predicao</th>\n    </tr>\n  </thead>\n  <tbody>\n    <tr>\n      <th>10</th>\n      <td>3</td>\n      <td>hadson</td>\n      <td>-0.973961</td>\n      <td>-0.692793</td>\n      <td>-0.984356</td>\n      <td>-0.464533</td>\n      <td>1.908176</td>\n      <td>-0.733362</td>\n      <td>0.836776</td>\n      <td>1.471488</td>\n      <td>1.056132</td>\n      <td>-1.297551</td>\n      <td>-0.740894</td>\n      <td>-0.581269</td>\n      <td>-0.986669</td>\n      <td>-0.931581</td>\n      <td>-0.528428</td>\n      <td>0.7971</td>\n      <td>0.566888</td>\n    </tr>\n    <tr>\n      <th>9</th>\n      <td>3</td>\n      <td>felipe_prior</td>\n      <td>-0.938923</td>\n      <td>-0.738964</td>\n      <td>-1.002301</td>\n      <td>0.406823</td>\n      <td>0.681797</td>\n      <td>-0.779683</td>\n      <td>1.544535</td>\n      <td>0.554679</td>\n      <td>0.701472</td>\n      <td>-1.343934</td>\n      <td>-0.742750</td>\n      <td>-0.603029</td>\n      <td>-0.860468</td>\n      <td>-0.799198</td>\n      <td>-0.354340</td>\n      <td>0.2029</td>\n      <td>0.286242</td>\n    </tr>\n  </tbody>\n</table>\n</div>"
     },
     "metadata": {},
     "execution_count": 22
    }
   ],
   "source": [
    "test_df.sort_values(by=\"predicao\", ascending=False)"
   ]
  },
  {
   "cell_type": "markdown",
   "metadata": {},
   "source": [
    "# Paredao 4"
   ]
  },
  {
   "cell_type": "code",
   "execution_count": 23,
   "metadata": {},
   "outputs": [
    {
     "output_type": "execute_result",
     "data": {
      "text/plain": "   paredao         nome  positivos   neutros  negativos  \\\n29       4         babu  -0.651177 -0.470221  -0.422393   \n30       4  victor_hugo  -0.940164 -0.706709  -0.946720   \n31       4        lucas  -0.256493 -0.199852   0.060351   \n\n    positivos_individual_pct  neutros_individual_pct  \\\n29                 -0.729748               -0.600402   \n30                 -0.235518                0.687354   \n31                 -0.593155               -0.706147   \n\n    negativos_individual_pct  positivos_global_pct  neutros_global_pct  \\\n29                  1.022327             -0.248512           -0.125625   \n30                 -0.202547             -1.635818           -1.341933   \n31                  0.962791              1.646199            1.264942   \n\n    negativos_global_pct      day1      day2      day3     likes  retweets  \\\n29             -0.021431 -0.305137 -0.484775 -0.593679 -0.752555 -0.780460   \n30             -1.426980 -0.997911 -0.806701 -0.669103 -0.965454 -0.924822   \n31              1.272651  0.540792 -0.294949 -0.328475 -0.319081 -0.239796   \n\n    seguidores  rejeicao  \n29   -0.245379 -1.158753  \n30   -0.524663  0.059273  \n31   -0.516336  0.988727  ",
      "text/html": "<div>\n<style scoped>\n    .dataframe tbody tr th:only-of-type {\n        vertical-align: middle;\n    }\n\n    .dataframe tbody tr th {\n        vertical-align: top;\n    }\n\n    .dataframe thead th {\n        text-align: right;\n    }\n</style>\n<table border=\"1\" class=\"dataframe\">\n  <thead>\n    <tr style=\"text-align: right;\">\n      <th></th>\n      <th>paredao</th>\n      <th>nome</th>\n      <th>positivos</th>\n      <th>neutros</th>\n      <th>negativos</th>\n      <th>positivos_individual_pct</th>\n      <th>neutros_individual_pct</th>\n      <th>negativos_individual_pct</th>\n      <th>positivos_global_pct</th>\n      <th>neutros_global_pct</th>\n      <th>negativos_global_pct</th>\n      <th>day1</th>\n      <th>day2</th>\n      <th>day3</th>\n      <th>likes</th>\n      <th>retweets</th>\n      <th>seguidores</th>\n      <th>rejeicao</th>\n    </tr>\n  </thead>\n  <tbody>\n    <tr>\n      <th>29</th>\n      <td>4</td>\n      <td>babu</td>\n      <td>-0.651177</td>\n      <td>-0.470221</td>\n      <td>-0.422393</td>\n      <td>-0.729748</td>\n      <td>-0.600402</td>\n      <td>1.022327</td>\n      <td>-0.248512</td>\n      <td>-0.125625</td>\n      <td>-0.021431</td>\n      <td>-0.305137</td>\n      <td>-0.484775</td>\n      <td>-0.593679</td>\n      <td>-0.752555</td>\n      <td>-0.780460</td>\n      <td>-0.245379</td>\n      <td>-1.158753</td>\n    </tr>\n    <tr>\n      <th>30</th>\n      <td>4</td>\n      <td>victor_hugo</td>\n      <td>-0.940164</td>\n      <td>-0.706709</td>\n      <td>-0.946720</td>\n      <td>-0.235518</td>\n      <td>0.687354</td>\n      <td>-0.202547</td>\n      <td>-1.635818</td>\n      <td>-1.341933</td>\n      <td>-1.426980</td>\n      <td>-0.997911</td>\n      <td>-0.806701</td>\n      <td>-0.669103</td>\n      <td>-0.965454</td>\n      <td>-0.924822</td>\n      <td>-0.524663</td>\n      <td>0.059273</td>\n    </tr>\n    <tr>\n      <th>31</th>\n      <td>4</td>\n      <td>lucas</td>\n      <td>-0.256493</td>\n      <td>-0.199852</td>\n      <td>0.060351</td>\n      <td>-0.593155</td>\n      <td>-0.706147</td>\n      <td>0.962791</td>\n      <td>1.646199</td>\n      <td>1.264942</td>\n      <td>1.272651</td>\n      <td>0.540792</td>\n      <td>-0.294949</td>\n      <td>-0.328475</td>\n      <td>-0.319081</td>\n      <td>-0.239796</td>\n      <td>-0.516336</td>\n      <td>0.988727</td>\n    </tr>\n  </tbody>\n</table>\n</div>"
     },
     "metadata": {},
     "execution_count": 23
    }
   ],
   "source": [
    "train_df, test_df, mean, std = get_train_test(4, normalize=NORMALIZE, drop_columns=REMOVE)\n",
    "test_df\n",
    ""
   ]
  },
  {
   "cell_type": "code",
   "execution_count": 24,
   "metadata": {},
   "outputs": [],
   "source": [
    "x_train, y_train = train_df.drop(columns=[\"paredao\", \"nome\", \"rejeicao\"], axis=1).to_numpy(), train_df.drop(columns=train_df.columns[:-1], axis=1).to_numpy()\n",
    "x_test, y_test = test_df.drop(columns=[\"paredao\", \"nome\", \"rejeicao\"], axis=1).to_numpy(), test_df.drop(columns=train_df.columns[:-1], axis=1).to_numpy()"
   ]
  },
  {
   "cell_type": "code",
   "execution_count": 25,
   "metadata": {},
   "outputs": [],
   "source": [
    "regressor = LinearRegression()"
   ]
  },
  {
   "cell_type": "code",
   "execution_count": 26,
   "metadata": {},
   "outputs": [],
   "source": [
    "_ = regressor.fit(x_train, y_train)\n",
    ""
   ]
  },
  {
   "cell_type": "code",
   "execution_count": 27,
   "metadata": {},
   "outputs": [],
   "source": [
    "prediction = regressor.predict(x_test)\n",
    "test_df[\"predicao\"] = prediction * std + mean\n",
    "test_df[\"rejeicao\"] =  test_df[\"rejeicao\"] * std + mean\n",
    "summary_df = summary_df.append(test_df, ignore_index=True, sort=False)"
   ]
  },
  {
   "cell_type": "code",
   "execution_count": 28,
   "metadata": {},
   "outputs": [
    {
     "output_type": "execute_result",
     "data": {
      "text/plain": "   paredao         nome  positivos   neutros  negativos  \\\n31       4        lucas  -0.256493 -0.199852   0.060351   \n29       4         babu  -0.651177 -0.470221  -0.422393   \n30       4  victor_hugo  -0.940164 -0.706709  -0.946720   \n\n    positivos_individual_pct  neutros_individual_pct  \\\n31                 -0.593155               -0.706147   \n29                 -0.729748               -0.600402   \n30                 -0.235518                0.687354   \n\n    negativos_individual_pct  positivos_global_pct  neutros_global_pct  \\\n31                  0.962791              1.646199            1.264942   \n29                  1.022327             -0.248512           -0.125625   \n30                 -0.202547             -1.635818           -1.341933   \n\n    negativos_global_pct      day1      day2      day3     likes  retweets  \\\n31              1.272651  0.540792 -0.294949 -0.328475 -0.319081 -0.239796   \n29             -0.021431 -0.305137 -0.484775 -0.593679 -0.752555 -0.780460   \n30             -1.426980 -0.997911 -0.806701 -0.669103 -0.965454 -0.924822   \n\n    seguidores  rejeicao  predicao  \n31   -0.516336    0.6262  0.509526  \n29   -0.245379    0.0130  0.382674  \n30   -0.524663    0.3608  0.321110  ",
      "text/html": "<div>\n<style scoped>\n    .dataframe tbody tr th:only-of-type {\n        vertical-align: middle;\n    }\n\n    .dataframe tbody tr th {\n        vertical-align: top;\n    }\n\n    .dataframe thead th {\n        text-align: right;\n    }\n</style>\n<table border=\"1\" class=\"dataframe\">\n  <thead>\n    <tr style=\"text-align: right;\">\n      <th></th>\n      <th>paredao</th>\n      <th>nome</th>\n      <th>positivos</th>\n      <th>neutros</th>\n      <th>negativos</th>\n      <th>positivos_individual_pct</th>\n      <th>neutros_individual_pct</th>\n      <th>negativos_individual_pct</th>\n      <th>positivos_global_pct</th>\n      <th>neutros_global_pct</th>\n      <th>negativos_global_pct</th>\n      <th>day1</th>\n      <th>day2</th>\n      <th>day3</th>\n      <th>likes</th>\n      <th>retweets</th>\n      <th>seguidores</th>\n      <th>rejeicao</th>\n      <th>predicao</th>\n    </tr>\n  </thead>\n  <tbody>\n    <tr>\n      <th>31</th>\n      <td>4</td>\n      <td>lucas</td>\n      <td>-0.256493</td>\n      <td>-0.199852</td>\n      <td>0.060351</td>\n      <td>-0.593155</td>\n      <td>-0.706147</td>\n      <td>0.962791</td>\n      <td>1.646199</td>\n      <td>1.264942</td>\n      <td>1.272651</td>\n      <td>0.540792</td>\n      <td>-0.294949</td>\n      <td>-0.328475</td>\n      <td>-0.319081</td>\n      <td>-0.239796</td>\n      <td>-0.516336</td>\n      <td>0.6262</td>\n      <td>0.509526</td>\n    </tr>\n    <tr>\n      <th>29</th>\n      <td>4</td>\n      <td>babu</td>\n      <td>-0.651177</td>\n      <td>-0.470221</td>\n      <td>-0.422393</td>\n      <td>-0.729748</td>\n      <td>-0.600402</td>\n      <td>1.022327</td>\n      <td>-0.248512</td>\n      <td>-0.125625</td>\n      <td>-0.021431</td>\n      <td>-0.305137</td>\n      <td>-0.484775</td>\n      <td>-0.593679</td>\n      <td>-0.752555</td>\n      <td>-0.780460</td>\n      <td>-0.245379</td>\n      <td>0.0130</td>\n      <td>0.382674</td>\n    </tr>\n    <tr>\n      <th>30</th>\n      <td>4</td>\n      <td>victor_hugo</td>\n      <td>-0.940164</td>\n      <td>-0.706709</td>\n      <td>-0.946720</td>\n      <td>-0.235518</td>\n      <td>0.687354</td>\n      <td>-0.202547</td>\n      <td>-1.635818</td>\n      <td>-1.341933</td>\n      <td>-1.426980</td>\n      <td>-0.997911</td>\n      <td>-0.806701</td>\n      <td>-0.669103</td>\n      <td>-0.965454</td>\n      <td>-0.924822</td>\n      <td>-0.524663</td>\n      <td>0.3608</td>\n      <td>0.321110</td>\n    </tr>\n  </tbody>\n</table>\n</div>"
     },
     "metadata": {},
     "execution_count": 28
    }
   ],
   "source": [
    "test_df.sort_values(by=\"predicao\", ascending=False)"
   ]
  },
  {
   "cell_type": "markdown",
   "metadata": {},
   "source": [
    "# Paredao 5"
   ]
  },
  {
   "cell_type": "code",
   "execution_count": 29,
   "metadata": {},
   "outputs": [
    {
     "output_type": "execute_result",
     "data": {
      "text/plain": "  paredao            nome  positivos   neutros  negativos  \\\n3       5  bianca_andrade  -0.835635 -0.574096  -0.877556   \n4       5       flayslene  -0.976881 -0.721456  -0.899561   \n5       5    felipe_prior  -0.788335 -0.521723  -0.411884   \n\n   positivos_individual_pct  neutros_individual_pct  negativos_individual_pct  \\\n3                 -0.301418                1.631031                 -0.713285   \n4                 -0.783644               -0.043249                  0.734329   \n5                 -1.204389               -0.857493                  1.606636   \n\n   positivos_global_pct  neutros_global_pct  negativos_global_pct      day1  \\\n3              0.206630            0.182775             -0.741566 -1.291791   \n4             -1.083403           -0.982199             -0.843190 -1.295611   \n5              0.638641            0.596808              1.408996 -1.224915   \n\n       day2      day3     likes  retweets  seguidores  rejeicao  \n3 -0.635146 -0.351765 -1.039214 -1.006440   -0.167656  0.654978  \n4 -0.701324 -0.580192 -0.974915 -0.927507   -0.444062 -0.586512  \n5 -0.309738 -0.249424 -0.699141 -0.613431   -0.354340 -0.179219  ",
      "text/html": "<div>\n<style scoped>\n    .dataframe tbody tr th:only-of-type {\n        vertical-align: middle;\n    }\n\n    .dataframe tbody tr th {\n        vertical-align: top;\n    }\n\n    .dataframe thead th {\n        text-align: right;\n    }\n</style>\n<table border=\"1\" class=\"dataframe\">\n  <thead>\n    <tr style=\"text-align: right;\">\n      <th></th>\n      <th>paredao</th>\n      <th>nome</th>\n      <th>positivos</th>\n      <th>neutros</th>\n      <th>negativos</th>\n      <th>positivos_individual_pct</th>\n      <th>neutros_individual_pct</th>\n      <th>negativos_individual_pct</th>\n      <th>positivos_global_pct</th>\n      <th>neutros_global_pct</th>\n      <th>negativos_global_pct</th>\n      <th>day1</th>\n      <th>day2</th>\n      <th>day3</th>\n      <th>likes</th>\n      <th>retweets</th>\n      <th>seguidores</th>\n      <th>rejeicao</th>\n    </tr>\n  </thead>\n  <tbody>\n    <tr>\n      <th>3</th>\n      <td>5</td>\n      <td>bianca_andrade</td>\n      <td>-0.835635</td>\n      <td>-0.574096</td>\n      <td>-0.877556</td>\n      <td>-0.301418</td>\n      <td>1.631031</td>\n      <td>-0.713285</td>\n      <td>0.206630</td>\n      <td>0.182775</td>\n      <td>-0.741566</td>\n      <td>-1.291791</td>\n      <td>-0.635146</td>\n      <td>-0.351765</td>\n      <td>-1.039214</td>\n      <td>-1.006440</td>\n      <td>-0.167656</td>\n      <td>0.654978</td>\n    </tr>\n    <tr>\n      <th>4</th>\n      <td>5</td>\n      <td>flayslene</td>\n      <td>-0.976881</td>\n      <td>-0.721456</td>\n      <td>-0.899561</td>\n      <td>-0.783644</td>\n      <td>-0.043249</td>\n      <td>0.734329</td>\n      <td>-1.083403</td>\n      <td>-0.982199</td>\n      <td>-0.843190</td>\n      <td>-1.295611</td>\n      <td>-0.701324</td>\n      <td>-0.580192</td>\n      <td>-0.974915</td>\n      <td>-0.927507</td>\n      <td>-0.444062</td>\n      <td>-0.586512</td>\n    </tr>\n    <tr>\n      <th>5</th>\n      <td>5</td>\n      <td>felipe_prior</td>\n      <td>-0.788335</td>\n      <td>-0.521723</td>\n      <td>-0.411884</td>\n      <td>-1.204389</td>\n      <td>-0.857493</td>\n      <td>1.606636</td>\n      <td>0.638641</td>\n      <td>0.596808</td>\n      <td>1.408996</td>\n      <td>-1.224915</td>\n      <td>-0.309738</td>\n      <td>-0.249424</td>\n      <td>-0.699141</td>\n      <td>-0.613431</td>\n      <td>-0.354340</td>\n      <td>-0.179219</td>\n    </tr>\n  </tbody>\n</table>\n</div>"
     },
     "metadata": {},
     "execution_count": 29
    }
   ],
   "source": [
    "train_df, test_df, mean, std = get_train_test(5, normalize=NORMALIZE, drop_columns=REMOVE)\n",
    "test_df\n",
    ""
   ]
  },
  {
   "cell_type": "code",
   "execution_count": 30,
   "metadata": {},
   "outputs": [],
   "source": [
    "x_train, y_train = train_df.drop(columns=[\"paredao\", \"nome\", \"rejeicao\"], axis=1).to_numpy(), train_df.drop(columns=train_df.columns[:-1], axis=1).to_numpy()\n",
    "x_test, y_test = test_df.drop(columns=[\"paredao\", \"nome\", \"rejeicao\"], axis=1).to_numpy(), test_df.drop(columns=train_df.columns[:-1], axis=1).to_numpy()"
   ]
  },
  {
   "cell_type": "code",
   "execution_count": 31,
   "metadata": {},
   "outputs": [],
   "source": [
    "regressor = LinearRegression()"
   ]
  },
  {
   "cell_type": "code",
   "execution_count": 32,
   "metadata": {},
   "outputs": [],
   "source": [
    "_ = regressor.fit(x_train, y_train)\n",
    ""
   ]
  },
  {
   "cell_type": "code",
   "execution_count": 33,
   "metadata": {},
   "outputs": [],
   "source": [
    "prediction = regressor.predict(x_test)\n",
    "test_df[\"predicao\"] = prediction * std + mean\n",
    "test_df[\"rejeicao\"] =  test_df[\"rejeicao\"] * std + mean\n",
    "summary_df = summary_df.append(test_df, ignore_index=True, sort=False)"
   ]
  },
  {
   "cell_type": "code",
   "execution_count": 34,
   "metadata": {},
   "outputs": [
    {
     "output_type": "execute_result",
     "data": {
      "text/plain": "  paredao            nome  positivos   neutros  negativos  \\\n5       5    felipe_prior  -0.788335 -0.521723  -0.411884   \n3       5  bianca_andrade  -0.835635 -0.574096  -0.877556   \n4       5       flayslene  -0.976881 -0.721456  -0.899561   \n\n   positivos_individual_pct  neutros_individual_pct  negativos_individual_pct  \\\n5                 -1.204389               -0.857493                  1.606636   \n3                 -0.301418                1.631031                 -0.713285   \n4                 -0.783644               -0.043249                  0.734329   \n\n   positivos_global_pct  neutros_global_pct  negativos_global_pct      day1  \\\n5              0.638641            0.596808              1.408996 -1.224915   \n3              0.206630            0.182775             -0.741566 -1.291791   \n4             -1.083403           -0.982199             -0.843190 -1.295611   \n\n       day2      day3     likes  retweets  seguidores  rejeicao  predicao  \n5 -0.309738 -0.249424 -0.699141 -0.613431   -0.354340    0.2927  0.619853  \n3 -0.635146 -0.351765 -1.039214 -1.006440   -0.167656    0.5309  0.478432  \n4 -0.701324 -0.580192 -0.974915 -0.927507   -0.444062    0.1764  0.437963  ",
      "text/html": "<div>\n<style scoped>\n    .dataframe tbody tr th:only-of-type {\n        vertical-align: middle;\n    }\n\n    .dataframe tbody tr th {\n        vertical-align: top;\n    }\n\n    .dataframe thead th {\n        text-align: right;\n    }\n</style>\n<table border=\"1\" class=\"dataframe\">\n  <thead>\n    <tr style=\"text-align: right;\">\n      <th></th>\n      <th>paredao</th>\n      <th>nome</th>\n      <th>positivos</th>\n      <th>neutros</th>\n      <th>negativos</th>\n      <th>positivos_individual_pct</th>\n      <th>neutros_individual_pct</th>\n      <th>negativos_individual_pct</th>\n      <th>positivos_global_pct</th>\n      <th>neutros_global_pct</th>\n      <th>negativos_global_pct</th>\n      <th>day1</th>\n      <th>day2</th>\n      <th>day3</th>\n      <th>likes</th>\n      <th>retweets</th>\n      <th>seguidores</th>\n      <th>rejeicao</th>\n      <th>predicao</th>\n    </tr>\n  </thead>\n  <tbody>\n    <tr>\n      <th>5</th>\n      <td>5</td>\n      <td>felipe_prior</td>\n      <td>-0.788335</td>\n      <td>-0.521723</td>\n      <td>-0.411884</td>\n      <td>-1.204389</td>\n      <td>-0.857493</td>\n      <td>1.606636</td>\n      <td>0.638641</td>\n      <td>0.596808</td>\n      <td>1.408996</td>\n      <td>-1.224915</td>\n      <td>-0.309738</td>\n      <td>-0.249424</td>\n      <td>-0.699141</td>\n      <td>-0.613431</td>\n      <td>-0.354340</td>\n      <td>0.2927</td>\n      <td>0.619853</td>\n    </tr>\n    <tr>\n      <th>3</th>\n      <td>5</td>\n      <td>bianca_andrade</td>\n      <td>-0.835635</td>\n      <td>-0.574096</td>\n      <td>-0.877556</td>\n      <td>-0.301418</td>\n      <td>1.631031</td>\n      <td>-0.713285</td>\n      <td>0.206630</td>\n      <td>0.182775</td>\n      <td>-0.741566</td>\n      <td>-1.291791</td>\n      <td>-0.635146</td>\n      <td>-0.351765</td>\n      <td>-1.039214</td>\n      <td>-1.006440</td>\n      <td>-0.167656</td>\n      <td>0.5309</td>\n      <td>0.478432</td>\n    </tr>\n    <tr>\n      <th>4</th>\n      <td>5</td>\n      <td>flayslene</td>\n      <td>-0.976881</td>\n      <td>-0.721456</td>\n      <td>-0.899561</td>\n      <td>-0.783644</td>\n      <td>-0.043249</td>\n      <td>0.734329</td>\n      <td>-1.083403</td>\n      <td>-0.982199</td>\n      <td>-0.843190</td>\n      <td>-1.295611</td>\n      <td>-0.701324</td>\n      <td>-0.580192</td>\n      <td>-0.974915</td>\n      <td>-0.927507</td>\n      <td>-0.444062</td>\n      <td>0.1764</td>\n      <td>0.437963</td>\n    </tr>\n  </tbody>\n</table>\n</div>"
     },
     "metadata": {},
     "execution_count": 34
    }
   ],
   "source": [
    "test_df.sort_values(by=\"predicao\", ascending=False)"
   ]
  },
  {
   "cell_type": "markdown",
   "metadata": {},
   "source": [
    "# Paredao 6"
   ]
  },
  {
   "cell_type": "code",
   "execution_count": 35,
   "metadata": {},
   "outputs": [
    {
     "output_type": "execute_result",
     "data": {
      "text/plain": "  paredao             nome  positivos   neutros  negativos  \\\n0       6  gizelly_bicalho   0.365716 -0.186466  -0.588228   \n1       6        guilherme  -0.004660  0.105154   1.182000   \n2       6            pyong   0.611710  0.297551   1.126153   \n\n   positivos_individual_pct  neutros_individual_pct  negativos_individual_pct  \\\n0                  1.674660                0.212331                 -1.641737   \n1                 -1.134966               -1.384610                  1.862450   \n2                 -0.447167               -1.068352                  1.049750   \n\n   positivos_global_pct  neutros_global_pct  negativos_global_pct      day1  \\\n0             -0.007701           -0.654975             -1.332847 -0.145494   \n1             -0.647986            0.007609              0.609177  1.584561   \n2              0.417557            0.444749              0.547910  0.949751   \n\n       day2      day3     likes  retweets  seguidores  rejeicao  \n0 -0.255293 -0.231403  0.386599  0.342863   -0.326546 -1.181867  \n1  0.079679  0.280304  0.452949  0.626800   -0.444706  0.759340  \n2  0.592602  0.538934  0.553031  0.583206    0.747726  0.311773  ",
      "text/html": "<div>\n<style scoped>\n    .dataframe tbody tr th:only-of-type {\n        vertical-align: middle;\n    }\n\n    .dataframe tbody tr th {\n        vertical-align: top;\n    }\n\n    .dataframe thead th {\n        text-align: right;\n    }\n</style>\n<table border=\"1\" class=\"dataframe\">\n  <thead>\n    <tr style=\"text-align: right;\">\n      <th></th>\n      <th>paredao</th>\n      <th>nome</th>\n      <th>positivos</th>\n      <th>neutros</th>\n      <th>negativos</th>\n      <th>positivos_individual_pct</th>\n      <th>neutros_individual_pct</th>\n      <th>negativos_individual_pct</th>\n      <th>positivos_global_pct</th>\n      <th>neutros_global_pct</th>\n      <th>negativos_global_pct</th>\n      <th>day1</th>\n      <th>day2</th>\n      <th>day3</th>\n      <th>likes</th>\n      <th>retweets</th>\n      <th>seguidores</th>\n      <th>rejeicao</th>\n    </tr>\n  </thead>\n  <tbody>\n    <tr>\n      <th>0</th>\n      <td>6</td>\n      <td>gizelly_bicalho</td>\n      <td>0.365716</td>\n      <td>-0.186466</td>\n      <td>-0.588228</td>\n      <td>1.674660</td>\n      <td>0.212331</td>\n      <td>-1.641737</td>\n      <td>-0.007701</td>\n      <td>-0.654975</td>\n      <td>-1.332847</td>\n      <td>-0.145494</td>\n      <td>-0.255293</td>\n      <td>-0.231403</td>\n      <td>0.386599</td>\n      <td>0.342863</td>\n      <td>-0.326546</td>\n      <td>-1.181867</td>\n    </tr>\n    <tr>\n      <th>1</th>\n      <td>6</td>\n      <td>guilherme</td>\n      <td>-0.004660</td>\n      <td>0.105154</td>\n      <td>1.182000</td>\n      <td>-1.134966</td>\n      <td>-1.384610</td>\n      <td>1.862450</td>\n      <td>-0.647986</td>\n      <td>0.007609</td>\n      <td>0.609177</td>\n      <td>1.584561</td>\n      <td>0.079679</td>\n      <td>0.280304</td>\n      <td>0.452949</td>\n      <td>0.626800</td>\n      <td>-0.444706</td>\n      <td>0.759340</td>\n    </tr>\n    <tr>\n      <th>2</th>\n      <td>6</td>\n      <td>pyong</td>\n      <td>0.611710</td>\n      <td>0.297551</td>\n      <td>1.126153</td>\n      <td>-0.447167</td>\n      <td>-1.068352</td>\n      <td>1.049750</td>\n      <td>0.417557</td>\n      <td>0.444749</td>\n      <td>0.547910</td>\n      <td>0.949751</td>\n      <td>0.592602</td>\n      <td>0.538934</td>\n      <td>0.553031</td>\n      <td>0.583206</td>\n      <td>0.747726</td>\n      <td>0.311773</td>\n    </tr>\n  </tbody>\n</table>\n</div>"
     },
     "metadata": {},
     "execution_count": 35
    }
   ],
   "source": [
    "train_df, test_df, mean, std = get_train_test(6, normalize=NORMALIZE, drop_columns=REMOVE)\n",
    "test_df\n",
    ""
   ]
  },
  {
   "cell_type": "code",
   "execution_count": 36,
   "metadata": {},
   "outputs": [],
   "source": [
    "x_train, y_train = train_df.drop(columns=[\"paredao\", \"nome\", \"rejeicao\"], axis=1).to_numpy(), train_df.drop(columns=train_df.columns[:-1], axis=1).to_numpy()\n",
    "x_test, y_test = test_df.drop(columns=[\"paredao\", \"nome\", \"rejeicao\"], axis=1).to_numpy(), test_df.drop(columns=train_df.columns[:-1], axis=1).to_numpy()"
   ]
  },
  {
   "cell_type": "code",
   "execution_count": 37,
   "metadata": {},
   "outputs": [],
   "source": [
    "regressor = LinearRegression()"
   ]
  },
  {
   "cell_type": "code",
   "execution_count": 38,
   "metadata": {},
   "outputs": [],
   "source": [
    "_ = regressor.fit(x_train, y_train)\n",
    ""
   ]
  },
  {
   "cell_type": "code",
   "execution_count": 39,
   "metadata": {},
   "outputs": [],
   "source": [
    "prediction = regressor.predict(x_test)\n",
    "test_df[\"predicao\"] = prediction * std + mean\n",
    "test_df[\"rejeicao\"] =  test_df[\"rejeicao\"] * std + mean\n",
    "summary_df = summary_df.append(test_df, ignore_index=True, sort=False)"
   ]
  },
  {
   "cell_type": "code",
   "execution_count": 40,
   "metadata": {},
   "outputs": [
    {
     "output_type": "execute_result",
     "data": {
      "text/plain": "  paredao             nome  positivos   neutros  negativos  \\\n1       6        guilherme  -0.004660  0.105154   1.182000   \n0       6  gizelly_bicalho   0.365716 -0.186466  -0.588228   \n2       6            pyong   0.611710  0.297551   1.126153   \n\n   positivos_individual_pct  neutros_individual_pct  negativos_individual_pct  \\\n1                 -1.134966               -1.384610                  1.862450   \n0                  1.674660                0.212331                 -1.641737   \n2                 -0.447167               -1.068352                  1.049750   \n\n   positivos_global_pct  neutros_global_pct  negativos_global_pct      day1  \\\n1             -0.647986            0.007609              0.609177  1.584561   \n0             -0.007701           -0.654975             -1.332847 -0.145494   \n2              0.417557            0.444749              0.547910  0.949751   \n\n       day2      day3     likes  retweets  seguidores  rejeicao  predicao  \n1  0.079679  0.280304  0.452949  0.626800   -0.444706    0.5607  0.494810  \n0 -0.255293 -0.231403  0.386599  0.342863   -0.326546    0.0064  0.321967  \n2  0.592602  0.538934  0.553031  0.583206    0.747726    0.4329  0.163437  ",
      "text/html": "<div>\n<style scoped>\n    .dataframe tbody tr th:only-of-type {\n        vertical-align: middle;\n    }\n\n    .dataframe tbody tr th {\n        vertical-align: top;\n    }\n\n    .dataframe thead th {\n        text-align: right;\n    }\n</style>\n<table border=\"1\" class=\"dataframe\">\n  <thead>\n    <tr style=\"text-align: right;\">\n      <th></th>\n      <th>paredao</th>\n      <th>nome</th>\n      <th>positivos</th>\n      <th>neutros</th>\n      <th>negativos</th>\n      <th>positivos_individual_pct</th>\n      <th>neutros_individual_pct</th>\n      <th>negativos_individual_pct</th>\n      <th>positivos_global_pct</th>\n      <th>neutros_global_pct</th>\n      <th>negativos_global_pct</th>\n      <th>day1</th>\n      <th>day2</th>\n      <th>day3</th>\n      <th>likes</th>\n      <th>retweets</th>\n      <th>seguidores</th>\n      <th>rejeicao</th>\n      <th>predicao</th>\n    </tr>\n  </thead>\n  <tbody>\n    <tr>\n      <th>1</th>\n      <td>6</td>\n      <td>guilherme</td>\n      <td>-0.004660</td>\n      <td>0.105154</td>\n      <td>1.182000</td>\n      <td>-1.134966</td>\n      <td>-1.384610</td>\n      <td>1.862450</td>\n      <td>-0.647986</td>\n      <td>0.007609</td>\n      <td>0.609177</td>\n      <td>1.584561</td>\n      <td>0.079679</td>\n      <td>0.280304</td>\n      <td>0.452949</td>\n      <td>0.626800</td>\n      <td>-0.444706</td>\n      <td>0.5607</td>\n      <td>0.494810</td>\n    </tr>\n    <tr>\n      <th>0</th>\n      <td>6</td>\n      <td>gizelly_bicalho</td>\n      <td>0.365716</td>\n      <td>-0.186466</td>\n      <td>-0.588228</td>\n      <td>1.674660</td>\n      <td>0.212331</td>\n      <td>-1.641737</td>\n      <td>-0.007701</td>\n      <td>-0.654975</td>\n      <td>-1.332847</td>\n      <td>-0.145494</td>\n      <td>-0.255293</td>\n      <td>-0.231403</td>\n      <td>0.386599</td>\n      <td>0.342863</td>\n      <td>-0.326546</td>\n      <td>0.0064</td>\n      <td>0.321967</td>\n    </tr>\n    <tr>\n      <th>2</th>\n      <td>6</td>\n      <td>pyong</td>\n      <td>0.611710</td>\n      <td>0.297551</td>\n      <td>1.126153</td>\n      <td>-0.447167</td>\n      <td>-1.068352</td>\n      <td>1.049750</td>\n      <td>0.417557</td>\n      <td>0.444749</td>\n      <td>0.547910</td>\n      <td>0.949751</td>\n      <td>0.592602</td>\n      <td>0.538934</td>\n      <td>0.553031</td>\n      <td>0.583206</td>\n      <td>0.747726</td>\n      <td>0.4329</td>\n      <td>0.163437</td>\n    </tr>\n  </tbody>\n</table>\n</div>"
     },
     "metadata": {},
     "execution_count": 40
    }
   ],
   "source": [
    "test_df.sort_values(by=\"predicao\", ascending=False)"
   ]
  },
  {
   "cell_type": "markdown",
   "metadata": {},
   "source": [
    "# Paredao 7"
   ]
  },
  {
   "cell_type": "code",
   "execution_count": 41,
   "metadata": {},
   "outputs": [
    {
     "output_type": "execute_result",
     "data": {
      "text/plain": "  paredao          nome  positivos   neutros  negativos  \\\n6       7          babu  -0.071597 -0.356779  -0.465986   \n7       7  manu_gavassi  -0.288027 -0.420420  -0.727542   \n8       7   victor_hugo  -0.723150 -0.495859  -0.671126   \n\n   positivos_individual_pct  neutros_individual_pct  negativos_individual_pct  \\\n6                  0.853379               -0.565762                 -0.429306   \n7                  1.098762                0.347477                 -1.202961   \n8                 -0.499485                0.519542                  0.137418   \n\n   positivos_global_pct  neutros_global_pct  negativos_global_pct      day1  \\\n6              0.857847            0.253584              0.508749 -0.258269   \n7              0.156761           -0.048850             -0.445128 -0.602170   \n8             -1.252739           -0.407351             -0.239382 -0.550937   \n\n       day2      day3     likes  retweets  seguidores  rejeicao  \n6 -0.348965 -0.352219  0.826403  0.322200   -0.245379 -1.043184  \n7 -0.475497 -0.433706 -0.312752 -0.535243    3.348856 -0.847768  \n8 -0.661041 -0.479890 -0.299229 -0.432002   -0.524663  1.780199  ",
      "text/html": "<div>\n<style scoped>\n    .dataframe tbody tr th:only-of-type {\n        vertical-align: middle;\n    }\n\n    .dataframe tbody tr th {\n        vertical-align: top;\n    }\n\n    .dataframe thead th {\n        text-align: right;\n    }\n</style>\n<table border=\"1\" class=\"dataframe\">\n  <thead>\n    <tr style=\"text-align: right;\">\n      <th></th>\n      <th>paredao</th>\n      <th>nome</th>\n      <th>positivos</th>\n      <th>neutros</th>\n      <th>negativos</th>\n      <th>positivos_individual_pct</th>\n      <th>neutros_individual_pct</th>\n      <th>negativos_individual_pct</th>\n      <th>positivos_global_pct</th>\n      <th>neutros_global_pct</th>\n      <th>negativos_global_pct</th>\n      <th>day1</th>\n      <th>day2</th>\n      <th>day3</th>\n      <th>likes</th>\n      <th>retweets</th>\n      <th>seguidores</th>\n      <th>rejeicao</th>\n    </tr>\n  </thead>\n  <tbody>\n    <tr>\n      <th>6</th>\n      <td>7</td>\n      <td>babu</td>\n      <td>-0.071597</td>\n      <td>-0.356779</td>\n      <td>-0.465986</td>\n      <td>0.853379</td>\n      <td>-0.565762</td>\n      <td>-0.429306</td>\n      <td>0.857847</td>\n      <td>0.253584</td>\n      <td>0.508749</td>\n      <td>-0.258269</td>\n      <td>-0.348965</td>\n      <td>-0.352219</td>\n      <td>0.826403</td>\n      <td>0.322200</td>\n      <td>-0.245379</td>\n      <td>-1.043184</td>\n    </tr>\n    <tr>\n      <th>7</th>\n      <td>7</td>\n      <td>manu_gavassi</td>\n      <td>-0.288027</td>\n      <td>-0.420420</td>\n      <td>-0.727542</td>\n      <td>1.098762</td>\n      <td>0.347477</td>\n      <td>-1.202961</td>\n      <td>0.156761</td>\n      <td>-0.048850</td>\n      <td>-0.445128</td>\n      <td>-0.602170</td>\n      <td>-0.475497</td>\n      <td>-0.433706</td>\n      <td>-0.312752</td>\n      <td>-0.535243</td>\n      <td>3.348856</td>\n      <td>-0.847768</td>\n    </tr>\n    <tr>\n      <th>8</th>\n      <td>7</td>\n      <td>victor_hugo</td>\n      <td>-0.723150</td>\n      <td>-0.495859</td>\n      <td>-0.671126</td>\n      <td>-0.499485</td>\n      <td>0.519542</td>\n      <td>0.137418</td>\n      <td>-1.252739</td>\n      <td>-0.407351</td>\n      <td>-0.239382</td>\n      <td>-0.550937</td>\n      <td>-0.661041</td>\n      <td>-0.479890</td>\n      <td>-0.299229</td>\n      <td>-0.432002</td>\n      <td>-0.524663</td>\n      <td>1.780199</td>\n    </tr>\n  </tbody>\n</table>\n</div>"
     },
     "metadata": {},
     "execution_count": 41
    }
   ],
   "source": [
    "train_df, test_df, mean, std = get_train_test(7, normalize=NORMALIZE, drop_columns=REMOVE)\n",
    "test_df\n",
    ""
   ]
  },
  {
   "cell_type": "code",
   "execution_count": 42,
   "metadata": {},
   "outputs": [],
   "source": [
    "x_train, y_train = train_df.drop(columns=[\"paredao\", \"nome\", \"rejeicao\"], axis=1).to_numpy(), train_df.drop(columns=train_df.columns[:-1], axis=1).to_numpy()\n",
    "x_test, y_test = test_df.drop(columns=[\"paredao\", \"nome\", \"rejeicao\"], axis=1).to_numpy(), test_df.drop(columns=train_df.columns[:-1], axis=1).to_numpy()"
   ]
  },
  {
   "cell_type": "code",
   "execution_count": 43,
   "metadata": {},
   "outputs": [],
   "source": [
    "regressor = LinearRegression()"
   ]
  },
  {
   "cell_type": "code",
   "execution_count": 44,
   "metadata": {},
   "outputs": [],
   "source": [
    "_ = regressor.fit(x_train, y_train)\n",
    "prediction = regressor.predict(x_test)\n",
    "test_df[\"predicao\"] = prediction * std + mean\n",
    "test_df[\"rejeicao\"] =  test_df[\"rejeicao\"] * std + mean\n",
    "summary_df = summary_df.append(test_df, ignore_index=True, sort=False)"
   ]
  },
  {
   "cell_type": "code",
   "execution_count": 45,
   "metadata": {},
   "outputs": [
    {
     "output_type": "execute_result",
     "data": {
      "text/plain": "  paredao          nome  positivos   neutros  negativos  \\\n8       7   victor_hugo  -0.723150 -0.495859  -0.671126   \n7       7  manu_gavassi  -0.288027 -0.420420  -0.727542   \n6       7          babu  -0.071597 -0.356779  -0.465986   \n\n   positivos_individual_pct  neutros_individual_pct  negativos_individual_pct  \\\n8                 -0.499485                0.519542                  0.137418   \n7                  1.098762                0.347477                 -1.202961   \n6                  0.853379               -0.565762                 -0.429306   \n\n   positivos_global_pct  neutros_global_pct  negativos_global_pct      day1  \\\n8             -1.252739           -0.407351             -0.239382 -0.550937   \n7              0.156761           -0.048850             -0.445128 -0.602170   \n6              0.857847            0.253584              0.508749 -0.258269   \n\n       day2      day3     likes  retweets  seguidores  rejeicao  predicao  \n8 -0.661041 -0.479890 -0.299229 -0.432002   -0.524663    0.8522  0.060372  \n7 -0.475497 -0.433706 -0.312752 -0.535243    3.348856    0.1018 -0.375300  \n6 -0.348965 -0.352219  0.826403  0.322200   -0.245379    0.0460 -0.620687  ",
      "text/html": "<div>\n<style scoped>\n    .dataframe tbody tr th:only-of-type {\n        vertical-align: middle;\n    }\n\n    .dataframe tbody tr th {\n        vertical-align: top;\n    }\n\n    .dataframe thead th {\n        text-align: right;\n    }\n</style>\n<table border=\"1\" class=\"dataframe\">\n  <thead>\n    <tr style=\"text-align: right;\">\n      <th></th>\n      <th>paredao</th>\n      <th>nome</th>\n      <th>positivos</th>\n      <th>neutros</th>\n      <th>negativos</th>\n      <th>positivos_individual_pct</th>\n      <th>neutros_individual_pct</th>\n      <th>negativos_individual_pct</th>\n      <th>positivos_global_pct</th>\n      <th>neutros_global_pct</th>\n      <th>negativos_global_pct</th>\n      <th>day1</th>\n      <th>day2</th>\n      <th>day3</th>\n      <th>likes</th>\n      <th>retweets</th>\n      <th>seguidores</th>\n      <th>rejeicao</th>\n      <th>predicao</th>\n    </tr>\n  </thead>\n  <tbody>\n    <tr>\n      <th>8</th>\n      <td>7</td>\n      <td>victor_hugo</td>\n      <td>-0.723150</td>\n      <td>-0.495859</td>\n      <td>-0.671126</td>\n      <td>-0.499485</td>\n      <td>0.519542</td>\n      <td>0.137418</td>\n      <td>-1.252739</td>\n      <td>-0.407351</td>\n      <td>-0.239382</td>\n      <td>-0.550937</td>\n      <td>-0.661041</td>\n      <td>-0.479890</td>\n      <td>-0.299229</td>\n      <td>-0.432002</td>\n      <td>-0.524663</td>\n      <td>0.8522</td>\n      <td>0.060372</td>\n    </tr>\n    <tr>\n      <th>7</th>\n      <td>7</td>\n      <td>manu_gavassi</td>\n      <td>-0.288027</td>\n      <td>-0.420420</td>\n      <td>-0.727542</td>\n      <td>1.098762</td>\n      <td>0.347477</td>\n      <td>-1.202961</td>\n      <td>0.156761</td>\n      <td>-0.048850</td>\n      <td>-0.445128</td>\n      <td>-0.602170</td>\n      <td>-0.475497</td>\n      <td>-0.433706</td>\n      <td>-0.312752</td>\n      <td>-0.535243</td>\n      <td>3.348856</td>\n      <td>0.1018</td>\n      <td>-0.375300</td>\n    </tr>\n    <tr>\n      <th>6</th>\n      <td>7</td>\n      <td>babu</td>\n      <td>-0.071597</td>\n      <td>-0.356779</td>\n      <td>-0.465986</td>\n      <td>0.853379</td>\n      <td>-0.565762</td>\n      <td>-0.429306</td>\n      <td>0.857847</td>\n      <td>0.253584</td>\n      <td>0.508749</td>\n      <td>-0.258269</td>\n      <td>-0.348965</td>\n      <td>-0.352219</td>\n      <td>0.826403</td>\n      <td>0.322200</td>\n      <td>-0.245379</td>\n      <td>0.0460</td>\n      <td>-0.620687</td>\n    </tr>\n  </tbody>\n</table>\n</div>"
     },
     "metadata": {},
     "execution_count": 45
    }
   ],
   "source": [
    "test_df.sort_values(by=\"predicao\", ascending=False)"
   ]
  },
  {
   "cell_type": "markdown",
   "metadata": {},
   "source": [
    "# Paredao 8"
   ]
  },
  {
   "cell_type": "code",
   "execution_count": 46,
   "metadata": {},
   "outputs": [
    {
     "output_type": "execute_result",
     "data": {
      "text/plain": "   paredao   nome  positivos   neutros  negativos  positivos_individual_pct  \\\n17       8   babu   0.317978  0.060458   0.345582                 -0.098872   \n18       8   rafa  -0.315473 -0.262510   0.151558                 -0.747507   \n19       8  pyong   0.557182  0.553778   0.726876                 -0.426012   \n\n    neutros_individual_pct  negativos_individual_pct  positivos_global_pct  \\\n17               -0.622020                  0.465258              0.171297   \n18               -1.181503                  1.389553             -1.037007   \n19                0.226275                  0.248249              0.627579   \n\n    neutros_global_pct  negativos_global_pct      day1      day2      day3  \\\n17           -0.190708             -0.134402  0.351562  0.116994  0.292827   \n18           -0.891256             -0.370049  0.227874 -0.275449 -0.078175   \n19            0.879347              0.328690  1.162325  0.409856  0.448266   \n\n       likes  retweets  seguidores  rejeicao  \n17  0.526940  0.392387   -0.245379  0.466566  \n18 -0.621504 -0.852390   -0.274006 -1.183618  \n19  0.009380  0.024868    0.747726  0.606299  ",
      "text/html": "<div>\n<style scoped>\n    .dataframe tbody tr th:only-of-type {\n        vertical-align: middle;\n    }\n\n    .dataframe tbody tr th {\n        vertical-align: top;\n    }\n\n    .dataframe thead th {\n        text-align: right;\n    }\n</style>\n<table border=\"1\" class=\"dataframe\">\n  <thead>\n    <tr style=\"text-align: right;\">\n      <th></th>\n      <th>paredao</th>\n      <th>nome</th>\n      <th>positivos</th>\n      <th>neutros</th>\n      <th>negativos</th>\n      <th>positivos_individual_pct</th>\n      <th>neutros_individual_pct</th>\n      <th>negativos_individual_pct</th>\n      <th>positivos_global_pct</th>\n      <th>neutros_global_pct</th>\n      <th>negativos_global_pct</th>\n      <th>day1</th>\n      <th>day2</th>\n      <th>day3</th>\n      <th>likes</th>\n      <th>retweets</th>\n      <th>seguidores</th>\n      <th>rejeicao</th>\n    </tr>\n  </thead>\n  <tbody>\n    <tr>\n      <th>17</th>\n      <td>8</td>\n      <td>babu</td>\n      <td>0.317978</td>\n      <td>0.060458</td>\n      <td>0.345582</td>\n      <td>-0.098872</td>\n      <td>-0.622020</td>\n      <td>0.465258</td>\n      <td>0.171297</td>\n      <td>-0.190708</td>\n      <td>-0.134402</td>\n      <td>0.351562</td>\n      <td>0.116994</td>\n      <td>0.292827</td>\n      <td>0.526940</td>\n      <td>0.392387</td>\n      <td>-0.245379</td>\n      <td>0.466566</td>\n    </tr>\n    <tr>\n      <th>18</th>\n      <td>8</td>\n      <td>rafa</td>\n      <td>-0.315473</td>\n      <td>-0.262510</td>\n      <td>0.151558</td>\n      <td>-0.747507</td>\n      <td>-1.181503</td>\n      <td>1.389553</td>\n      <td>-1.037007</td>\n      <td>-0.891256</td>\n      <td>-0.370049</td>\n      <td>0.227874</td>\n      <td>-0.275449</td>\n      <td>-0.078175</td>\n      <td>-0.621504</td>\n      <td>-0.852390</td>\n      <td>-0.274006</td>\n      <td>-1.183618</td>\n    </tr>\n    <tr>\n      <th>19</th>\n      <td>8</td>\n      <td>pyong</td>\n      <td>0.557182</td>\n      <td>0.553778</td>\n      <td>0.726876</td>\n      <td>-0.426012</td>\n      <td>0.226275</td>\n      <td>0.248249</td>\n      <td>0.627579</td>\n      <td>0.879347</td>\n      <td>0.328690</td>\n      <td>1.162325</td>\n      <td>0.409856</td>\n      <td>0.448266</td>\n      <td>0.009380</td>\n      <td>0.024868</td>\n      <td>0.747726</td>\n      <td>0.606299</td>\n    </tr>\n  </tbody>\n</table>\n</div>"
     },
     "metadata": {},
     "execution_count": 46
    }
   ],
   "source": [
    "train_df, test_df, mean, std = get_train_test(8, normalize=NORMALIZE, drop_columns=REMOVE)\n",
    "test_df\n",
    ""
   ]
  },
  {
   "cell_type": "code",
   "execution_count": 47,
   "metadata": {},
   "outputs": [],
   "source": [
    "x_train, y_train = train_df.drop(columns=[\"paredao\", \"nome\", \"rejeicao\"], axis=1).to_numpy(), train_df.drop(columns=train_df.columns[:-1], axis=1).to_numpy()\n",
    "x_test, y_test = test_df.drop(columns=[\"paredao\", \"nome\", \"rejeicao\"], axis=1).to_numpy(), test_df.drop(columns=train_df.columns[:-1], axis=1).to_numpy()"
   ]
  },
  {
   "cell_type": "code",
   "execution_count": 48,
   "metadata": {},
   "outputs": [],
   "source": [
    "regressor = LinearRegression()"
   ]
  },
  {
   "cell_type": "code",
   "execution_count": 49,
   "metadata": {},
   "outputs": [],
   "source": [
    "_ = regressor.fit(x_train, y_train)\n",
    "prediction = regressor.predict(x_test)\n",
    "test_df[\"predicao\"] = prediction * std + mean\n",
    "test_df[\"rejeicao\"] =  test_df[\"rejeicao\"] * std + mean\n",
    "summary_df = summary_df.append(test_df, ignore_index=True, sort=False)"
   ]
  },
  {
   "cell_type": "code",
   "execution_count": 50,
   "metadata": {},
   "outputs": [
    {
     "output_type": "execute_result",
     "data": {
      "text/plain": "   paredao   nome  positivos   neutros  negativos  positivos_individual_pct  \\\n19       8  pyong   0.557182  0.553778   0.726876                 -0.426012   \n18       8   rafa  -0.315473 -0.262510   0.151558                 -0.747507   \n17       8   babu   0.317978  0.060458   0.345582                 -0.098872   \n\n    neutros_individual_pct  negativos_individual_pct  positivos_global_pct  \\\n19                0.226275                  0.248249              0.627579   \n18               -1.181503                  1.389553             -1.037007   \n17               -0.622020                  0.465258              0.171297   \n\n    neutros_global_pct  negativos_global_pct      day1      day2      day3  \\\n19            0.879347              0.328690  1.162325  0.409856  0.448266   \n18           -0.891256             -0.370049  0.227874 -0.275449 -0.078175   \n17           -0.190708             -0.134402  0.351562  0.116994  0.292827   \n\n       likes  retweets  seguidores  rejeicao  predicao  \n19  0.009380  0.024868    0.747726    0.5170  0.603785  \n18 -0.621504 -0.852390   -0.274006    0.0059  0.280966  \n17  0.526940  0.392387   -0.245379    0.4771  0.140696  ",
      "text/html": "<div>\n<style scoped>\n    .dataframe tbody tr th:only-of-type {\n        vertical-align: middle;\n    }\n\n    .dataframe tbody tr th {\n        vertical-align: top;\n    }\n\n    .dataframe thead th {\n        text-align: right;\n    }\n</style>\n<table border=\"1\" class=\"dataframe\">\n  <thead>\n    <tr style=\"text-align: right;\">\n      <th></th>\n      <th>paredao</th>\n      <th>nome</th>\n      <th>positivos</th>\n      <th>neutros</th>\n      <th>negativos</th>\n      <th>positivos_individual_pct</th>\n      <th>neutros_individual_pct</th>\n      <th>negativos_individual_pct</th>\n      <th>positivos_global_pct</th>\n      <th>neutros_global_pct</th>\n      <th>negativos_global_pct</th>\n      <th>day1</th>\n      <th>day2</th>\n      <th>day3</th>\n      <th>likes</th>\n      <th>retweets</th>\n      <th>seguidores</th>\n      <th>rejeicao</th>\n      <th>predicao</th>\n    </tr>\n  </thead>\n  <tbody>\n    <tr>\n      <th>19</th>\n      <td>8</td>\n      <td>pyong</td>\n      <td>0.557182</td>\n      <td>0.553778</td>\n      <td>0.726876</td>\n      <td>-0.426012</td>\n      <td>0.226275</td>\n      <td>0.248249</td>\n      <td>0.627579</td>\n      <td>0.879347</td>\n      <td>0.328690</td>\n      <td>1.162325</td>\n      <td>0.409856</td>\n      <td>0.448266</td>\n      <td>0.009380</td>\n      <td>0.024868</td>\n      <td>0.747726</td>\n      <td>0.5170</td>\n      <td>0.603785</td>\n    </tr>\n    <tr>\n      <th>18</th>\n      <td>8</td>\n      <td>rafa</td>\n      <td>-0.315473</td>\n      <td>-0.262510</td>\n      <td>0.151558</td>\n      <td>-0.747507</td>\n      <td>-1.181503</td>\n      <td>1.389553</td>\n      <td>-1.037007</td>\n      <td>-0.891256</td>\n      <td>-0.370049</td>\n      <td>0.227874</td>\n      <td>-0.275449</td>\n      <td>-0.078175</td>\n      <td>-0.621504</td>\n      <td>-0.852390</td>\n      <td>-0.274006</td>\n      <td>0.0059</td>\n      <td>0.280966</td>\n    </tr>\n    <tr>\n      <th>17</th>\n      <td>8</td>\n      <td>babu</td>\n      <td>0.317978</td>\n      <td>0.060458</td>\n      <td>0.345582</td>\n      <td>-0.098872</td>\n      <td>-0.622020</td>\n      <td>0.465258</td>\n      <td>0.171297</td>\n      <td>-0.190708</td>\n      <td>-0.134402</td>\n      <td>0.351562</td>\n      <td>0.116994</td>\n      <td>0.292827</td>\n      <td>0.526940</td>\n      <td>0.392387</td>\n      <td>-0.245379</td>\n      <td>0.4771</td>\n      <td>0.140696</td>\n    </tr>\n  </tbody>\n</table>\n</div>"
     },
     "metadata": {},
     "execution_count": 50
    }
   ],
   "source": [
    "test_df.sort_values(by=\"predicao\", ascending=False)"
   ]
  },
  {
   "cell_type": "markdown",
   "metadata": {},
   "source": [
    "# Paredão 9"
   ]
  },
  {
   "cell_type": "code",
   "execution_count": 51,
   "metadata": {},
   "outputs": [
    {
     "output_type": "execute_result",
     "data": {
      "text/plain": "   paredao       nome  positivos   neutros  negativos  \\\n14       9     daniel   0.099504  0.197647   0.209303   \n15       9  flayslene   0.172426 -0.107019  -0.015300   \n16       9        ivy  -0.202039 -0.147745  -0.217822   \n\n    positivos_individual_pct  neutros_individual_pct  \\\n14                 -0.436225                0.371425   \n15                  0.219322               -0.546219   \n16                 -0.217741                0.210002   \n\n    negativos_individual_pct  positivos_global_pct  neutros_global_pct  \\\n14                  0.169761              0.086300            0.476945   \n15                  0.131892              0.244836           -0.288614   \n16                  0.069866             -0.569267           -0.390948   \n\n    negativos_global_pct      day1      day2      day3     likes  retweets  \\\n14              0.302580  1.234355 -0.214639 -0.041567  0.296107  0.422837   \n15             -0.070823 -0.563487  0.247523 -0.014027  0.107868  0.056196   \n16             -0.407518  0.699161 -0.449688 -0.464477 -0.040660 -0.013060   \n\n    seguidores  rejeicao  \n14   -0.507169  1.626107  \n15   -0.444062 -0.870181  \n16   -0.484491 -0.866679  ",
      "text/html": "<div>\n<style scoped>\n    .dataframe tbody tr th:only-of-type {\n        vertical-align: middle;\n    }\n\n    .dataframe tbody tr th {\n        vertical-align: top;\n    }\n\n    .dataframe thead th {\n        text-align: right;\n    }\n</style>\n<table border=\"1\" class=\"dataframe\">\n  <thead>\n    <tr style=\"text-align: right;\">\n      <th></th>\n      <th>paredao</th>\n      <th>nome</th>\n      <th>positivos</th>\n      <th>neutros</th>\n      <th>negativos</th>\n      <th>positivos_individual_pct</th>\n      <th>neutros_individual_pct</th>\n      <th>negativos_individual_pct</th>\n      <th>positivos_global_pct</th>\n      <th>neutros_global_pct</th>\n      <th>negativos_global_pct</th>\n      <th>day1</th>\n      <th>day2</th>\n      <th>day3</th>\n      <th>likes</th>\n      <th>retweets</th>\n      <th>seguidores</th>\n      <th>rejeicao</th>\n    </tr>\n  </thead>\n  <tbody>\n    <tr>\n      <th>14</th>\n      <td>9</td>\n      <td>daniel</td>\n      <td>0.099504</td>\n      <td>0.197647</td>\n      <td>0.209303</td>\n      <td>-0.436225</td>\n      <td>0.371425</td>\n      <td>0.169761</td>\n      <td>0.086300</td>\n      <td>0.476945</td>\n      <td>0.302580</td>\n      <td>1.234355</td>\n      <td>-0.214639</td>\n      <td>-0.041567</td>\n      <td>0.296107</td>\n      <td>0.422837</td>\n      <td>-0.507169</td>\n      <td>1.626107</td>\n    </tr>\n    <tr>\n      <th>15</th>\n      <td>9</td>\n      <td>flayslene</td>\n      <td>0.172426</td>\n      <td>-0.107019</td>\n      <td>-0.015300</td>\n      <td>0.219322</td>\n      <td>-0.546219</td>\n      <td>0.131892</td>\n      <td>0.244836</td>\n      <td>-0.288614</td>\n      <td>-0.070823</td>\n      <td>-0.563487</td>\n      <td>0.247523</td>\n      <td>-0.014027</td>\n      <td>0.107868</td>\n      <td>0.056196</td>\n      <td>-0.444062</td>\n      <td>-0.870181</td>\n    </tr>\n    <tr>\n      <th>16</th>\n      <td>9</td>\n      <td>ivy</td>\n      <td>-0.202039</td>\n      <td>-0.147745</td>\n      <td>-0.217822</td>\n      <td>-0.217741</td>\n      <td>0.210002</td>\n      <td>0.069866</td>\n      <td>-0.569267</td>\n      <td>-0.390948</td>\n      <td>-0.407518</td>\n      <td>0.699161</td>\n      <td>-0.449688</td>\n      <td>-0.464477</td>\n      <td>-0.040660</td>\n      <td>-0.013060</td>\n      <td>-0.484491</td>\n      <td>-0.866679</td>\n    </tr>\n  </tbody>\n</table>\n</div>"
     },
     "metadata": {},
     "execution_count": 51
    }
   ],
   "source": [
    "train_df, test_df, mean, std = get_train_test(9, normalize=NORMALIZE, drop_columns=REMOVE)\n",
    "test_df\n",
    ""
   ]
  },
  {
   "cell_type": "code",
   "execution_count": 52,
   "metadata": {},
   "outputs": [],
   "source": [
    "x_train, y_train = train_df.drop(columns=[\"paredao\", \"nome\", \"rejeicao\"], axis=1).to_numpy(), train_df.drop(columns=train_df.columns[:-1], axis=1).to_numpy()\n",
    "x_test, y_test = test_df.drop(columns=[\"paredao\", \"nome\", \"rejeicao\"], axis=1).to_numpy(), test_df.drop(columns=train_df.columns[:-1], axis=1).to_numpy()"
   ]
  },
  {
   "cell_type": "code",
   "execution_count": 53,
   "metadata": {},
   "outputs": [],
   "source": [
    "regressor = LinearRegression()"
   ]
  },
  {
   "cell_type": "code",
   "execution_count": 54,
   "metadata": {},
   "outputs": [],
   "source": [
    "_ = regressor.fit(x_train, y_train)\n",
    "prediction = regressor.predict(x_test)\n",
    "test_df[\"predicao\"] = prediction * std + mean\n",
    "test_df[\"rejeicao\"] =  test_df[\"rejeicao\"] * std + mean\n",
    "summary_df = summary_df.append(test_df, ignore_index=True, sort=False)"
   ]
  },
  {
   "cell_type": "code",
   "execution_count": 55,
   "metadata": {},
   "outputs": [
    {
     "output_type": "execute_result",
     "data": {
      "text/plain": "   paredao       nome  positivos   neutros  negativos  \\\n14       9     daniel   0.099504  0.197647   0.209303   \n16       9        ivy  -0.202039 -0.147745  -0.217822   \n15       9  flayslene   0.172426 -0.107019  -0.015300   \n\n    positivos_individual_pct  neutros_individual_pct  \\\n14                 -0.436225                0.371425   \n16                 -0.217741                0.210002   \n15                  0.219322               -0.546219   \n\n    negativos_individual_pct  positivos_global_pct  neutros_global_pct  \\\n14                  0.169761              0.086300            0.476945   \n16                  0.069866             -0.569267           -0.390948   \n15                  0.131892              0.244836           -0.288614   \n\n    negativos_global_pct      day1      day2      day3     likes  retweets  \\\n14              0.302580  1.234355 -0.214639 -0.041567  0.296107  0.422837   \n16             -0.407518  0.699161 -0.449688 -0.464477 -0.040660 -0.013060   \n15             -0.070823 -0.563487  0.247523 -0.014027  0.107868  0.056196   \n\n    seguidores  rejeicao  predicao  \n14   -0.507169    0.8082  0.665049  \n16   -0.484491    0.0964  0.388987  \n15   -0.444062    0.0954  0.009443  ",
      "text/html": "<div>\n<style scoped>\n    .dataframe tbody tr th:only-of-type {\n        vertical-align: middle;\n    }\n\n    .dataframe tbody tr th {\n        vertical-align: top;\n    }\n\n    .dataframe thead th {\n        text-align: right;\n    }\n</style>\n<table border=\"1\" class=\"dataframe\">\n  <thead>\n    <tr style=\"text-align: right;\">\n      <th></th>\n      <th>paredao</th>\n      <th>nome</th>\n      <th>positivos</th>\n      <th>neutros</th>\n      <th>negativos</th>\n      <th>positivos_individual_pct</th>\n      <th>neutros_individual_pct</th>\n      <th>negativos_individual_pct</th>\n      <th>positivos_global_pct</th>\n      <th>neutros_global_pct</th>\n      <th>negativos_global_pct</th>\n      <th>day1</th>\n      <th>day2</th>\n      <th>day3</th>\n      <th>likes</th>\n      <th>retweets</th>\n      <th>seguidores</th>\n      <th>rejeicao</th>\n      <th>predicao</th>\n    </tr>\n  </thead>\n  <tbody>\n    <tr>\n      <th>14</th>\n      <td>9</td>\n      <td>daniel</td>\n      <td>0.099504</td>\n      <td>0.197647</td>\n      <td>0.209303</td>\n      <td>-0.436225</td>\n      <td>0.371425</td>\n      <td>0.169761</td>\n      <td>0.086300</td>\n      <td>0.476945</td>\n      <td>0.302580</td>\n      <td>1.234355</td>\n      <td>-0.214639</td>\n      <td>-0.041567</td>\n      <td>0.296107</td>\n      <td>0.422837</td>\n      <td>-0.507169</td>\n      <td>0.8082</td>\n      <td>0.665049</td>\n    </tr>\n    <tr>\n      <th>16</th>\n      <td>9</td>\n      <td>ivy</td>\n      <td>-0.202039</td>\n      <td>-0.147745</td>\n      <td>-0.217822</td>\n      <td>-0.217741</td>\n      <td>0.210002</td>\n      <td>0.069866</td>\n      <td>-0.569267</td>\n      <td>-0.390948</td>\n      <td>-0.407518</td>\n      <td>0.699161</td>\n      <td>-0.449688</td>\n      <td>-0.464477</td>\n      <td>-0.040660</td>\n      <td>-0.013060</td>\n      <td>-0.484491</td>\n      <td>0.0964</td>\n      <td>0.388987</td>\n    </tr>\n    <tr>\n      <th>15</th>\n      <td>9</td>\n      <td>flayslene</td>\n      <td>0.172426</td>\n      <td>-0.107019</td>\n      <td>-0.015300</td>\n      <td>0.219322</td>\n      <td>-0.546219</td>\n      <td>0.131892</td>\n      <td>0.244836</td>\n      <td>-0.288614</td>\n      <td>-0.070823</td>\n      <td>-0.563487</td>\n      <td>0.247523</td>\n      <td>-0.014027</td>\n      <td>0.107868</td>\n      <td>0.056196</td>\n      <td>-0.444062</td>\n      <td>0.0954</td>\n      <td>0.009443</td>\n    </tr>\n  </tbody>\n</table>\n</div>"
     },
     "metadata": {},
     "execution_count": 55
    }
   ],
   "source": [
    "test_df.sort_values(by=\"predicao\", ascending=False)"
   ]
  },
  {
   "cell_type": "markdown",
   "metadata": {},
   "source": [
    "# Paredão 10"
   ]
  },
  {
   "cell_type": "code",
   "execution_count": 56,
   "metadata": {},
   "outputs": [
    {
     "output_type": "execute_result",
     "data": {
      "text/plain": "   paredao          nome  positivos   neutros  negativos  \\\n11      10  manu_gavassi   4.052110  4.280406   2.541152   \n12      10          mari   0.266808  0.021926  -0.176051   \n13      10  felipe_prior   1.530133  2.423558   2.801570   \n\n    positivos_individual_pct  neutros_individual_pct  \\\n11                 -0.158847                2.092554   \n12                  0.423339                0.306985   \n13                 -1.029327                0.939568   \n\n    negativos_individual_pct  positivos_global_pct  neutros_global_pct  \\\n11                 -1.121042              1.646226            1.344005   \n12                 -0.568099             -1.460626           -1.604830   \n13                  0.362411             -0.423731            0.058208   \n\n    negativos_global_pct      day1      day2      day3     likes  retweets  \\\n11              0.478639  1.190761  3.944128  4.414311  2.851760  2.197491   \n12             -1.303875 -0.218858  0.006849  0.167989 -0.540516 -0.634790   \n13              0.649476  2.103566  2.353400  2.367028  2.877635  3.197821   \n\n    seguidores  rejeicao  \n11    3.760466  0.284457  \n12   -0.295329 -1.177665  \n13    0.039823  0.782454  ",
      "text/html": "<div>\n<style scoped>\n    .dataframe tbody tr th:only-of-type {\n        vertical-align: middle;\n    }\n\n    .dataframe tbody tr th {\n        vertical-align: top;\n    }\n\n    .dataframe thead th {\n        text-align: right;\n    }\n</style>\n<table border=\"1\" class=\"dataframe\">\n  <thead>\n    <tr style=\"text-align: right;\">\n      <th></th>\n      <th>paredao</th>\n      <th>nome</th>\n      <th>positivos</th>\n      <th>neutros</th>\n      <th>negativos</th>\n      <th>positivos_individual_pct</th>\n      <th>neutros_individual_pct</th>\n      <th>negativos_individual_pct</th>\n      <th>positivos_global_pct</th>\n      <th>neutros_global_pct</th>\n      <th>negativos_global_pct</th>\n      <th>day1</th>\n      <th>day2</th>\n      <th>day3</th>\n      <th>likes</th>\n      <th>retweets</th>\n      <th>seguidores</th>\n      <th>rejeicao</th>\n    </tr>\n  </thead>\n  <tbody>\n    <tr>\n      <th>11</th>\n      <td>10</td>\n      <td>manu_gavassi</td>\n      <td>4.052110</td>\n      <td>4.280406</td>\n      <td>2.541152</td>\n      <td>-0.158847</td>\n      <td>2.092554</td>\n      <td>-1.121042</td>\n      <td>1.646226</td>\n      <td>1.344005</td>\n      <td>0.478639</td>\n      <td>1.190761</td>\n      <td>3.944128</td>\n      <td>4.414311</td>\n      <td>2.851760</td>\n      <td>2.197491</td>\n      <td>3.760466</td>\n      <td>0.284457</td>\n    </tr>\n    <tr>\n      <th>12</th>\n      <td>10</td>\n      <td>mari</td>\n      <td>0.266808</td>\n      <td>0.021926</td>\n      <td>-0.176051</td>\n      <td>0.423339</td>\n      <td>0.306985</td>\n      <td>-0.568099</td>\n      <td>-1.460626</td>\n      <td>-1.604830</td>\n      <td>-1.303875</td>\n      <td>-0.218858</td>\n      <td>0.006849</td>\n      <td>0.167989</td>\n      <td>-0.540516</td>\n      <td>-0.634790</td>\n      <td>-0.295329</td>\n      <td>-1.177665</td>\n    </tr>\n    <tr>\n      <th>13</th>\n      <td>10</td>\n      <td>felipe_prior</td>\n      <td>1.530133</td>\n      <td>2.423558</td>\n      <td>2.801570</td>\n      <td>-1.029327</td>\n      <td>0.939568</td>\n      <td>0.362411</td>\n      <td>-0.423731</td>\n      <td>0.058208</td>\n      <td>0.649476</td>\n      <td>2.103566</td>\n      <td>2.353400</td>\n      <td>2.367028</td>\n      <td>2.877635</td>\n      <td>3.197821</td>\n      <td>0.039823</td>\n      <td>0.782454</td>\n    </tr>\n  </tbody>\n</table>\n</div>"
     },
     "metadata": {},
     "execution_count": 56
    }
   ],
   "source": [
    "train_df, test_df, mean, std = get_train_test(10, normalize=NORMALIZE, drop_columns=REMOVE)\n",
    "test_df\n",
    ""
   ]
  },
  {
   "cell_type": "code",
   "execution_count": 57,
   "metadata": {},
   "outputs": [],
   "source": [
    "x_train, y_train = train_df.drop(columns=[\"paredao\", \"nome\", \"rejeicao\"], axis=1).to_numpy(), train_df.drop(columns=train_df.columns[:-1], axis=1).to_numpy()\n",
    "x_test, y_test = test_df.drop(columns=[\"paredao\", \"nome\", \"rejeicao\"], axis=1).to_numpy(), test_df.drop(columns=train_df.columns[:-1], axis=1).to_numpy()"
   ]
  },
  {
   "cell_type": "code",
   "execution_count": 58,
   "metadata": {},
   "outputs": [],
   "source": [
    "regressor = LinearRegression()"
   ]
  },
  {
   "cell_type": "code",
   "execution_count": 59,
   "metadata": {},
   "outputs": [],
   "source": [
    "_ = regressor.fit(x_train, y_train)\n",
    "prediction = regressor.predict(x_test)\n",
    "test_df[\"predicao\"] = prediction * std + mean\n",
    "test_df[\"rejeicao\"] =  test_df[\"rejeicao\"] * std + mean\n",
    "summary_df = summary_df.append(test_df, ignore_index=True, sort=False)"
   ]
  },
  {
   "cell_type": "code",
   "execution_count": 60,
   "metadata": {},
   "outputs": [
    {
     "output_type": "execute_result",
     "data": {
      "text/plain": "   paredao          nome  positivos   neutros  negativos  \\\n13      10  felipe_prior   1.530133  2.423558   2.801570   \n11      10  manu_gavassi   4.052110  4.280406   2.541152   \n12      10          mari   0.266808  0.021926  -0.176051   \n\n    positivos_individual_pct  neutros_individual_pct  \\\n13                 -1.029327                0.939568   \n11                 -0.158847                2.092554   \n12                  0.423339                0.306985   \n\n    negativos_individual_pct  positivos_global_pct  neutros_global_pct  \\\n13                  0.362411             -0.423731            0.058208   \n11                 -1.121042              1.646226            1.344005   \n12                 -0.568099             -1.460626           -1.604830   \n\n    negativos_global_pct      day1      day2      day3     likes  retweets  \\\n13              0.649476  2.103566  2.353400  2.367028  2.877635  3.197821   \n11              0.478639  1.190761  3.944128  4.414311  2.851760  2.197491   \n12             -1.303875 -0.218858  0.006849  0.167989 -0.540516 -0.634790   \n\n    seguidores  rejeicao  predicao  \n13    0.039823    0.5673  1.006792  \n11    3.760466    0.4251  0.379893  \n12   -0.295329    0.0076  0.068934  ",
      "text/html": "<div>\n<style scoped>\n    .dataframe tbody tr th:only-of-type {\n        vertical-align: middle;\n    }\n\n    .dataframe tbody tr th {\n        vertical-align: top;\n    }\n\n    .dataframe thead th {\n        text-align: right;\n    }\n</style>\n<table border=\"1\" class=\"dataframe\">\n  <thead>\n    <tr style=\"text-align: right;\">\n      <th></th>\n      <th>paredao</th>\n      <th>nome</th>\n      <th>positivos</th>\n      <th>neutros</th>\n      <th>negativos</th>\n      <th>positivos_individual_pct</th>\n      <th>neutros_individual_pct</th>\n      <th>negativos_individual_pct</th>\n      <th>positivos_global_pct</th>\n      <th>neutros_global_pct</th>\n      <th>negativos_global_pct</th>\n      <th>day1</th>\n      <th>day2</th>\n      <th>day3</th>\n      <th>likes</th>\n      <th>retweets</th>\n      <th>seguidores</th>\n      <th>rejeicao</th>\n      <th>predicao</th>\n    </tr>\n  </thead>\n  <tbody>\n    <tr>\n      <th>13</th>\n      <td>10</td>\n      <td>felipe_prior</td>\n      <td>1.530133</td>\n      <td>2.423558</td>\n      <td>2.801570</td>\n      <td>-1.029327</td>\n      <td>0.939568</td>\n      <td>0.362411</td>\n      <td>-0.423731</td>\n      <td>0.058208</td>\n      <td>0.649476</td>\n      <td>2.103566</td>\n      <td>2.353400</td>\n      <td>2.367028</td>\n      <td>2.877635</td>\n      <td>3.197821</td>\n      <td>0.039823</td>\n      <td>0.5673</td>\n      <td>1.006792</td>\n    </tr>\n    <tr>\n      <th>11</th>\n      <td>10</td>\n      <td>manu_gavassi</td>\n      <td>4.052110</td>\n      <td>4.280406</td>\n      <td>2.541152</td>\n      <td>-0.158847</td>\n      <td>2.092554</td>\n      <td>-1.121042</td>\n      <td>1.646226</td>\n      <td>1.344005</td>\n      <td>0.478639</td>\n      <td>1.190761</td>\n      <td>3.944128</td>\n      <td>4.414311</td>\n      <td>2.851760</td>\n      <td>2.197491</td>\n      <td>3.760466</td>\n      <td>0.4251</td>\n      <td>0.379893</td>\n    </tr>\n    <tr>\n      <th>12</th>\n      <td>10</td>\n      <td>mari</td>\n      <td>0.266808</td>\n      <td>0.021926</td>\n      <td>-0.176051</td>\n      <td>0.423339</td>\n      <td>0.306985</td>\n      <td>-0.568099</td>\n      <td>-1.460626</td>\n      <td>-1.604830</td>\n      <td>-1.303875</td>\n      <td>-0.218858</td>\n      <td>0.006849</td>\n      <td>0.167989</td>\n      <td>-0.540516</td>\n      <td>-0.634790</td>\n      <td>-0.295329</td>\n      <td>0.0076</td>\n      <td>0.068934</td>\n    </tr>\n  </tbody>\n</table>\n</div>"
     },
     "metadata": {},
     "execution_count": 60
    }
   ],
   "source": [
    "test_df.sort_values(by=\"predicao\", ascending=False)"
   ]
  },
  {
   "cell_type": "markdown",
   "metadata": {},
   "source": [
    "# Sumarizando"
   ]
  },
  {
   "cell_type": "code",
   "execution_count": 61,
   "metadata": {},
   "outputs": [
    {
     "output_type": "execute_result",
     "data": {
      "text/plain": "    rejeicao      day2  negativos_individual_pct             nome      day3  \\\n0     0.2446 -0.758909                 -1.674638   bianca_andrade -0.608469   \n1     0.7594 -0.770357                  0.516734     lucas_chumbo -0.604842   \n2     0.0044 -0.755683                 -1.304798             babu -0.680663   \n3     0.8027  0.923007                  0.992311           petrix -0.159152   \n4     0.0066 -0.106778                 -1.659487            pyong -0.354145   \n5     0.1863  1.029268                  1.301279           hadson -0.411096   \n6     0.2029 -0.742750                 -0.779683     felipe_prior -0.603029   \n7     0.7971 -0.740894                 -0.733362           hadson -0.581269   \n8     0.0130 -0.484775                  1.022327             babu -0.593679   \n9     0.3608 -0.806701                 -0.202547      victor_hugo -0.669103   \n10    0.6262 -0.294949                  0.962791            lucas -0.328475   \n11    0.5309 -0.635146                 -0.713285   bianca_andrade -0.351765   \n12    0.1764 -0.701324                  0.734329        flayslene -0.580192   \n13    0.2927 -0.309738                  1.606636     felipe_prior -0.249424   \n14    0.0064 -0.255293                 -1.641737  gizelly_bicalho -0.231403   \n15    0.5607  0.079679                  1.862450        guilherme  0.280304   \n16    0.4329  0.592602                  1.049750            pyong  0.538934   \n17    0.0460 -0.348965                 -0.429306             babu -0.352219   \n18    0.1018 -0.475497                 -1.202961     manu_gavassi -0.433706   \n19    0.8522 -0.661041                  0.137418      victor_hugo -0.479890   \n20    0.4771  0.116994                  0.465258             babu  0.292827   \n21    0.0059 -0.275449                  1.389553             rafa -0.078175   \n22    0.5170  0.409856                  0.248249            pyong  0.448266   \n23    0.8082 -0.214639                  0.169761           daniel -0.041567   \n24    0.0954  0.247523                  0.131892        flayslene -0.014027   \n25    0.0964 -0.449688                  0.069866              ivy -0.464477   \n26    0.4251  3.944128                 -1.121042     manu_gavassi  4.414311   \n27    0.0076  0.006849                 -0.568099             mari  0.167989   \n28    0.5673  2.353400                  0.362411     felipe_prior  2.367028   \n\n    negativos  positivos     likes  positivos_global_pct paredao  retweets  \\\n0   -0.992892  -0.772641 -0.876601              1.061512       1 -0.877481   \n1   -0.588873  -0.746509 -0.720701              1.319799       1 -0.629421   \n2   -0.990616  -0.866293 -0.933090             -2.102981       2 -0.878111   \n3    1.238796   0.157900  0.700892             -0.205506       2  1.497154   \n4   -0.645934   0.310970  0.012254              0.078081       2  0.112049   \n5    0.915246  -0.069699  0.328932             -0.627167       2  0.858862   \n6   -1.002301  -0.938923 -0.860468              1.544535       3 -0.799198   \n7   -0.984356  -0.973961 -0.986669              0.836776       3 -0.931581   \n8   -0.422393  -0.651177 -0.752555             -0.248512       4 -0.780460   \n9   -0.946720  -0.940164 -0.965454             -1.635818       4 -0.924822   \n10   0.060351  -0.256493 -0.319081              1.646199       4 -0.239796   \n11  -0.877556  -0.835635 -1.039214              0.206630       5 -1.006440   \n12  -0.899561  -0.976881 -0.974915             -1.083403       5 -0.927507   \n13  -0.411884  -0.788335 -0.699141              0.638641       5 -0.613431   \n14  -0.588228   0.365716  0.386599             -0.007701       6  0.342863   \n15   1.182000  -0.004660  0.452949             -0.647986       6  0.626800   \n16   1.126153   0.611710  0.553031              0.417557       6  0.583206   \n17  -0.465986  -0.071597  0.826403              0.857847       7  0.322200   \n18  -0.727542  -0.288027 -0.312752              0.156761       7 -0.535243   \n19  -0.671126  -0.723150 -0.299229             -1.252739       7 -0.432002   \n20   0.345582   0.317978  0.526940              0.171297       8  0.392387   \n21   0.151558  -0.315473 -0.621504             -1.037007       8 -0.852390   \n22   0.726876   0.557182  0.009380              0.627579       8  0.024868   \n23   0.209303   0.099504  0.296107              0.086300       9  0.422837   \n24  -0.015300   0.172426  0.107868              0.244836       9  0.056196   \n25  -0.217822  -0.202039 -0.040660             -0.569267       9 -0.013060   \n26   2.541152   4.052110  2.851760              1.646226      10  2.197491   \n27  -0.176051   0.266808 -0.540516             -1.460626      10 -0.634790   \n28   2.801570   1.530133  2.877635             -0.423731      10  3.197821   \n\n    negativos_global_pct  seguidores  positivos_individual_pct  \\\n0              -0.769069   -0.167656                  1.372752   \n1               2.526673   -0.526805                 -0.824652   \n2              -1.772186   -0.245379                  0.643466   \n3               0.705879   -0.517464                 -1.200302   \n4              -1.389060    0.747726                  2.002066   \n5               0.346243   -0.528428                 -1.185004   \n6               0.701472   -0.354340                  0.406823   \n7               1.056132   -0.528428                 -0.464533   \n8              -0.021431   -0.245379                 -0.729748   \n9              -1.426980   -0.524663                 -0.235518   \n10              1.272651   -0.516336                 -0.593155   \n11             -0.741566   -0.167656                 -0.301418   \n12             -0.843190   -0.444062                 -0.783644   \n13              1.408996   -0.354340                 -1.204389   \n14             -1.332847   -0.326546                  1.674660   \n15              0.609177   -0.444706                 -1.134966   \n16              0.547910    0.747726                 -0.447167   \n17              0.508749   -0.245379                  0.853379   \n18             -0.445128    3.348856                  1.098762   \n19             -0.239382   -0.524663                 -0.499485   \n20             -0.134402   -0.245379                 -0.098872   \n21             -0.370049   -0.274006                 -0.747507   \n22              0.328690    0.747726                 -0.426012   \n23              0.302580   -0.507169                 -0.436225   \n24             -0.070823   -0.444062                  0.219322   \n25             -0.407518   -0.484491                 -0.217741   \n26              0.478639    3.760466                 -0.158847   \n27             -1.303875   -0.295329                  0.423339   \n28              0.649476    0.039823                 -1.029327   \n\n    neutros_individual_pct  neutros_global_pct      day1   neutros  predicao  \n0                 0.718248           -0.112851 -1.058300 -0.681373  0.330667  \n1                 0.378133            2.139019 -0.033023 -0.470902  0.929552  \n2                 1.196839           -1.874743 -1.073033 -0.688218  0.200583  \n3                 0.152933            0.669386  1.417279  0.683744 -0.086714  \n4                -0.247902           -1.159580 -0.653404 -0.302554 -0.261895  \n5                -0.381200           -0.066464  0.118798  0.286925 -0.708059  \n6                 0.681797            0.554679 -1.343934 -0.738964  0.286242  \n7                 1.908176            1.471488 -1.297551 -0.692793  0.566888  \n8                -0.600402           -0.125625 -0.305137 -0.470221  0.382674  \n9                 0.687354           -1.341933 -0.997911 -0.706709  0.321110  \n10               -0.706147            1.264942  0.540792 -0.199852  0.509526  \n11                1.631031            0.182775 -1.291791 -0.574096  0.478432  \n12               -0.043249           -0.982199 -1.295611 -0.721456  0.437963  \n13               -0.857493            0.596808 -1.224915 -0.521723  0.619853  \n14                0.212331           -0.654975 -0.145494 -0.186466  0.321967  \n15               -1.384610            0.007609  1.584561  0.105154  0.494810  \n16               -1.068352            0.444749  0.949751  0.297551  0.163437  \n17               -0.565762            0.253584 -0.258269 -0.356779 -0.620687  \n18                0.347477           -0.048850 -0.602170 -0.420420 -0.375300  \n19                0.519542           -0.407351 -0.550937 -0.495859  0.060372  \n20               -0.622020           -0.190708  0.351562  0.060458  0.140696  \n21               -1.181503           -0.891256  0.227874 -0.262510  0.280966  \n22                0.226275            0.879347  1.162325  0.553778  0.603785  \n23                0.371425            0.476945  1.234355  0.197647  0.665049  \n24               -0.546219           -0.288614 -0.563487 -0.107019  0.009443  \n25                0.210002           -0.390948  0.699161 -0.147745  0.388987  \n26                2.092554            1.344005  1.190761  4.280406  0.379893  \n27                0.306985           -1.604830 -0.218858  0.021926  0.068934  \n28                0.939568            0.058208  2.103566  2.423558  1.006792  ",
      "text/html": "<div>\n<style scoped>\n    .dataframe tbody tr th:only-of-type {\n        vertical-align: middle;\n    }\n\n    .dataframe tbody tr th {\n        vertical-align: top;\n    }\n\n    .dataframe thead th {\n        text-align: right;\n    }\n</style>\n<table border=\"1\" class=\"dataframe\">\n  <thead>\n    <tr style=\"text-align: right;\">\n      <th></th>\n      <th>rejeicao</th>\n      <th>day2</th>\n      <th>negativos_individual_pct</th>\n      <th>nome</th>\n      <th>day3</th>\n      <th>negativos</th>\n      <th>positivos</th>\n      <th>likes</th>\n      <th>positivos_global_pct</th>\n      <th>paredao</th>\n      <th>retweets</th>\n      <th>negativos_global_pct</th>\n      <th>seguidores</th>\n      <th>positivos_individual_pct</th>\n      <th>neutros_individual_pct</th>\n      <th>neutros_global_pct</th>\n      <th>day1</th>\n      <th>neutros</th>\n      <th>predicao</th>\n    </tr>\n  </thead>\n  <tbody>\n    <tr>\n      <th>0</th>\n      <td>0.2446</td>\n      <td>-0.758909</td>\n      <td>-1.674638</td>\n      <td>bianca_andrade</td>\n      <td>-0.608469</td>\n      <td>-0.992892</td>\n      <td>-0.772641</td>\n      <td>-0.876601</td>\n      <td>1.061512</td>\n      <td>1</td>\n      <td>-0.877481</td>\n      <td>-0.769069</td>\n      <td>-0.167656</td>\n      <td>1.372752</td>\n      <td>0.718248</td>\n      <td>-0.112851</td>\n      <td>-1.058300</td>\n      <td>-0.681373</td>\n      <td>0.330667</td>\n    </tr>\n    <tr>\n      <th>1</th>\n      <td>0.7594</td>\n      <td>-0.770357</td>\n      <td>0.516734</td>\n      <td>lucas_chumbo</td>\n      <td>-0.604842</td>\n      <td>-0.588873</td>\n      <td>-0.746509</td>\n      <td>-0.720701</td>\n      <td>1.319799</td>\n      <td>1</td>\n      <td>-0.629421</td>\n      <td>2.526673</td>\n      <td>-0.526805</td>\n      <td>-0.824652</td>\n      <td>0.378133</td>\n      <td>2.139019</td>\n      <td>-0.033023</td>\n      <td>-0.470902</td>\n      <td>0.929552</td>\n    </tr>\n    <tr>\n      <th>2</th>\n      <td>0.0044</td>\n      <td>-0.755683</td>\n      <td>-1.304798</td>\n      <td>babu</td>\n      <td>-0.680663</td>\n      <td>-0.990616</td>\n      <td>-0.866293</td>\n      <td>-0.933090</td>\n      <td>-2.102981</td>\n      <td>2</td>\n      <td>-0.878111</td>\n      <td>-1.772186</td>\n      <td>-0.245379</td>\n      <td>0.643466</td>\n      <td>1.196839</td>\n      <td>-1.874743</td>\n      <td>-1.073033</td>\n      <td>-0.688218</td>\n      <td>0.200583</td>\n    </tr>\n    <tr>\n      <th>3</th>\n      <td>0.8027</td>\n      <td>0.923007</td>\n      <td>0.992311</td>\n      <td>petrix</td>\n      <td>-0.159152</td>\n      <td>1.238796</td>\n      <td>0.157900</td>\n      <td>0.700892</td>\n      <td>-0.205506</td>\n      <td>2</td>\n      <td>1.497154</td>\n      <td>0.705879</td>\n      <td>-0.517464</td>\n      <td>-1.200302</td>\n      <td>0.152933</td>\n      <td>0.669386</td>\n      <td>1.417279</td>\n      <td>0.683744</td>\n      <td>-0.086714</td>\n    </tr>\n    <tr>\n      <th>4</th>\n      <td>0.0066</td>\n      <td>-0.106778</td>\n      <td>-1.659487</td>\n      <td>pyong</td>\n      <td>-0.354145</td>\n      <td>-0.645934</td>\n      <td>0.310970</td>\n      <td>0.012254</td>\n      <td>0.078081</td>\n      <td>2</td>\n      <td>0.112049</td>\n      <td>-1.389060</td>\n      <td>0.747726</td>\n      <td>2.002066</td>\n      <td>-0.247902</td>\n      <td>-1.159580</td>\n      <td>-0.653404</td>\n      <td>-0.302554</td>\n      <td>-0.261895</td>\n    </tr>\n    <tr>\n      <th>5</th>\n      <td>0.1863</td>\n      <td>1.029268</td>\n      <td>1.301279</td>\n      <td>hadson</td>\n      <td>-0.411096</td>\n      <td>0.915246</td>\n      <td>-0.069699</td>\n      <td>0.328932</td>\n      <td>-0.627167</td>\n      <td>2</td>\n      <td>0.858862</td>\n      <td>0.346243</td>\n      <td>-0.528428</td>\n      <td>-1.185004</td>\n      <td>-0.381200</td>\n      <td>-0.066464</td>\n      <td>0.118798</td>\n      <td>0.286925</td>\n      <td>-0.708059</td>\n    </tr>\n    <tr>\n      <th>6</th>\n      <td>0.2029</td>\n      <td>-0.742750</td>\n      <td>-0.779683</td>\n      <td>felipe_prior</td>\n      <td>-0.603029</td>\n      <td>-1.002301</td>\n      <td>-0.938923</td>\n      <td>-0.860468</td>\n      <td>1.544535</td>\n      <td>3</td>\n      <td>-0.799198</td>\n      <td>0.701472</td>\n      <td>-0.354340</td>\n      <td>0.406823</td>\n      <td>0.681797</td>\n      <td>0.554679</td>\n      <td>-1.343934</td>\n      <td>-0.738964</td>\n      <td>0.286242</td>\n    </tr>\n    <tr>\n      <th>7</th>\n      <td>0.7971</td>\n      <td>-0.740894</td>\n      <td>-0.733362</td>\n      <td>hadson</td>\n      <td>-0.581269</td>\n      <td>-0.984356</td>\n      <td>-0.973961</td>\n      <td>-0.986669</td>\n      <td>0.836776</td>\n      <td>3</td>\n      <td>-0.931581</td>\n      <td>1.056132</td>\n      <td>-0.528428</td>\n      <td>-0.464533</td>\n      <td>1.908176</td>\n      <td>1.471488</td>\n      <td>-1.297551</td>\n      <td>-0.692793</td>\n      <td>0.566888</td>\n    </tr>\n    <tr>\n      <th>8</th>\n      <td>0.0130</td>\n      <td>-0.484775</td>\n      <td>1.022327</td>\n      <td>babu</td>\n      <td>-0.593679</td>\n      <td>-0.422393</td>\n      <td>-0.651177</td>\n      <td>-0.752555</td>\n      <td>-0.248512</td>\n      <td>4</td>\n      <td>-0.780460</td>\n      <td>-0.021431</td>\n      <td>-0.245379</td>\n      <td>-0.729748</td>\n      <td>-0.600402</td>\n      <td>-0.125625</td>\n      <td>-0.305137</td>\n      <td>-0.470221</td>\n      <td>0.382674</td>\n    </tr>\n    <tr>\n      <th>9</th>\n      <td>0.3608</td>\n      <td>-0.806701</td>\n      <td>-0.202547</td>\n      <td>victor_hugo</td>\n      <td>-0.669103</td>\n      <td>-0.946720</td>\n      <td>-0.940164</td>\n      <td>-0.965454</td>\n      <td>-1.635818</td>\n      <td>4</td>\n      <td>-0.924822</td>\n      <td>-1.426980</td>\n      <td>-0.524663</td>\n      <td>-0.235518</td>\n      <td>0.687354</td>\n      <td>-1.341933</td>\n      <td>-0.997911</td>\n      <td>-0.706709</td>\n      <td>0.321110</td>\n    </tr>\n    <tr>\n      <th>10</th>\n      <td>0.6262</td>\n      <td>-0.294949</td>\n      <td>0.962791</td>\n      <td>lucas</td>\n      <td>-0.328475</td>\n      <td>0.060351</td>\n      <td>-0.256493</td>\n      <td>-0.319081</td>\n      <td>1.646199</td>\n      <td>4</td>\n      <td>-0.239796</td>\n      <td>1.272651</td>\n      <td>-0.516336</td>\n      <td>-0.593155</td>\n      <td>-0.706147</td>\n      <td>1.264942</td>\n      <td>0.540792</td>\n      <td>-0.199852</td>\n      <td>0.509526</td>\n    </tr>\n    <tr>\n      <th>11</th>\n      <td>0.5309</td>\n      <td>-0.635146</td>\n      <td>-0.713285</td>\n      <td>bianca_andrade</td>\n      <td>-0.351765</td>\n      <td>-0.877556</td>\n      <td>-0.835635</td>\n      <td>-1.039214</td>\n      <td>0.206630</td>\n      <td>5</td>\n      <td>-1.006440</td>\n      <td>-0.741566</td>\n      <td>-0.167656</td>\n      <td>-0.301418</td>\n      <td>1.631031</td>\n      <td>0.182775</td>\n      <td>-1.291791</td>\n      <td>-0.574096</td>\n      <td>0.478432</td>\n    </tr>\n    <tr>\n      <th>12</th>\n      <td>0.1764</td>\n      <td>-0.701324</td>\n      <td>0.734329</td>\n      <td>flayslene</td>\n      <td>-0.580192</td>\n      <td>-0.899561</td>\n      <td>-0.976881</td>\n      <td>-0.974915</td>\n      <td>-1.083403</td>\n      <td>5</td>\n      <td>-0.927507</td>\n      <td>-0.843190</td>\n      <td>-0.444062</td>\n      <td>-0.783644</td>\n      <td>-0.043249</td>\n      <td>-0.982199</td>\n      <td>-1.295611</td>\n      <td>-0.721456</td>\n      <td>0.437963</td>\n    </tr>\n    <tr>\n      <th>13</th>\n      <td>0.2927</td>\n      <td>-0.309738</td>\n      <td>1.606636</td>\n      <td>felipe_prior</td>\n      <td>-0.249424</td>\n      <td>-0.411884</td>\n      <td>-0.788335</td>\n      <td>-0.699141</td>\n      <td>0.638641</td>\n      <td>5</td>\n      <td>-0.613431</td>\n      <td>1.408996</td>\n      <td>-0.354340</td>\n      <td>-1.204389</td>\n      <td>-0.857493</td>\n      <td>0.596808</td>\n      <td>-1.224915</td>\n      <td>-0.521723</td>\n      <td>0.619853</td>\n    </tr>\n    <tr>\n      <th>14</th>\n      <td>0.0064</td>\n      <td>-0.255293</td>\n      <td>-1.641737</td>\n      <td>gizelly_bicalho</td>\n      <td>-0.231403</td>\n      <td>-0.588228</td>\n      <td>0.365716</td>\n      <td>0.386599</td>\n      <td>-0.007701</td>\n      <td>6</td>\n      <td>0.342863</td>\n      <td>-1.332847</td>\n      <td>-0.326546</td>\n      <td>1.674660</td>\n      <td>0.212331</td>\n      <td>-0.654975</td>\n      <td>-0.145494</td>\n      <td>-0.186466</td>\n      <td>0.321967</td>\n    </tr>\n    <tr>\n      <th>15</th>\n      <td>0.5607</td>\n      <td>0.079679</td>\n      <td>1.862450</td>\n      <td>guilherme</td>\n      <td>0.280304</td>\n      <td>1.182000</td>\n      <td>-0.004660</td>\n      <td>0.452949</td>\n      <td>-0.647986</td>\n      <td>6</td>\n      <td>0.626800</td>\n      <td>0.609177</td>\n      <td>-0.444706</td>\n      <td>-1.134966</td>\n      <td>-1.384610</td>\n      <td>0.007609</td>\n      <td>1.584561</td>\n      <td>0.105154</td>\n      <td>0.494810</td>\n    </tr>\n    <tr>\n      <th>16</th>\n      <td>0.4329</td>\n      <td>0.592602</td>\n      <td>1.049750</td>\n      <td>pyong</td>\n      <td>0.538934</td>\n      <td>1.126153</td>\n      <td>0.611710</td>\n      <td>0.553031</td>\n      <td>0.417557</td>\n      <td>6</td>\n      <td>0.583206</td>\n      <td>0.547910</td>\n      <td>0.747726</td>\n      <td>-0.447167</td>\n      <td>-1.068352</td>\n      <td>0.444749</td>\n      <td>0.949751</td>\n      <td>0.297551</td>\n      <td>0.163437</td>\n    </tr>\n    <tr>\n      <th>17</th>\n      <td>0.0460</td>\n      <td>-0.348965</td>\n      <td>-0.429306</td>\n      <td>babu</td>\n      <td>-0.352219</td>\n      <td>-0.465986</td>\n      <td>-0.071597</td>\n      <td>0.826403</td>\n      <td>0.857847</td>\n      <td>7</td>\n      <td>0.322200</td>\n      <td>0.508749</td>\n      <td>-0.245379</td>\n      <td>0.853379</td>\n      <td>-0.565762</td>\n      <td>0.253584</td>\n      <td>-0.258269</td>\n      <td>-0.356779</td>\n      <td>-0.620687</td>\n    </tr>\n    <tr>\n      <th>18</th>\n      <td>0.1018</td>\n      <td>-0.475497</td>\n      <td>-1.202961</td>\n      <td>manu_gavassi</td>\n      <td>-0.433706</td>\n      <td>-0.727542</td>\n      <td>-0.288027</td>\n      <td>-0.312752</td>\n      <td>0.156761</td>\n      <td>7</td>\n      <td>-0.535243</td>\n      <td>-0.445128</td>\n      <td>3.348856</td>\n      <td>1.098762</td>\n      <td>0.347477</td>\n      <td>-0.048850</td>\n      <td>-0.602170</td>\n      <td>-0.420420</td>\n      <td>-0.375300</td>\n    </tr>\n    <tr>\n      <th>19</th>\n      <td>0.8522</td>\n      <td>-0.661041</td>\n      <td>0.137418</td>\n      <td>victor_hugo</td>\n      <td>-0.479890</td>\n      <td>-0.671126</td>\n      <td>-0.723150</td>\n      <td>-0.299229</td>\n      <td>-1.252739</td>\n      <td>7</td>\n      <td>-0.432002</td>\n      <td>-0.239382</td>\n      <td>-0.524663</td>\n      <td>-0.499485</td>\n      <td>0.519542</td>\n      <td>-0.407351</td>\n      <td>-0.550937</td>\n      <td>-0.495859</td>\n      <td>0.060372</td>\n    </tr>\n    <tr>\n      <th>20</th>\n      <td>0.4771</td>\n      <td>0.116994</td>\n      <td>0.465258</td>\n      <td>babu</td>\n      <td>0.292827</td>\n      <td>0.345582</td>\n      <td>0.317978</td>\n      <td>0.526940</td>\n      <td>0.171297</td>\n      <td>8</td>\n      <td>0.392387</td>\n      <td>-0.134402</td>\n      <td>-0.245379</td>\n      <td>-0.098872</td>\n      <td>-0.622020</td>\n      <td>-0.190708</td>\n      <td>0.351562</td>\n      <td>0.060458</td>\n      <td>0.140696</td>\n    </tr>\n    <tr>\n      <th>21</th>\n      <td>0.0059</td>\n      <td>-0.275449</td>\n      <td>1.389553</td>\n      <td>rafa</td>\n      <td>-0.078175</td>\n      <td>0.151558</td>\n      <td>-0.315473</td>\n      <td>-0.621504</td>\n      <td>-1.037007</td>\n      <td>8</td>\n      <td>-0.852390</td>\n      <td>-0.370049</td>\n      <td>-0.274006</td>\n      <td>-0.747507</td>\n      <td>-1.181503</td>\n      <td>-0.891256</td>\n      <td>0.227874</td>\n      <td>-0.262510</td>\n      <td>0.280966</td>\n    </tr>\n    <tr>\n      <th>22</th>\n      <td>0.5170</td>\n      <td>0.409856</td>\n      <td>0.248249</td>\n      <td>pyong</td>\n      <td>0.448266</td>\n      <td>0.726876</td>\n      <td>0.557182</td>\n      <td>0.009380</td>\n      <td>0.627579</td>\n      <td>8</td>\n      <td>0.024868</td>\n      <td>0.328690</td>\n      <td>0.747726</td>\n      <td>-0.426012</td>\n      <td>0.226275</td>\n      <td>0.879347</td>\n      <td>1.162325</td>\n      <td>0.553778</td>\n      <td>0.603785</td>\n    </tr>\n    <tr>\n      <th>23</th>\n      <td>0.8082</td>\n      <td>-0.214639</td>\n      <td>0.169761</td>\n      <td>daniel</td>\n      <td>-0.041567</td>\n      <td>0.209303</td>\n      <td>0.099504</td>\n      <td>0.296107</td>\n      <td>0.086300</td>\n      <td>9</td>\n      <td>0.422837</td>\n      <td>0.302580</td>\n      <td>-0.507169</td>\n      <td>-0.436225</td>\n      <td>0.371425</td>\n      <td>0.476945</td>\n      <td>1.234355</td>\n      <td>0.197647</td>\n      <td>0.665049</td>\n    </tr>\n    <tr>\n      <th>24</th>\n      <td>0.0954</td>\n      <td>0.247523</td>\n      <td>0.131892</td>\n      <td>flayslene</td>\n      <td>-0.014027</td>\n      <td>-0.015300</td>\n      <td>0.172426</td>\n      <td>0.107868</td>\n      <td>0.244836</td>\n      <td>9</td>\n      <td>0.056196</td>\n      <td>-0.070823</td>\n      <td>-0.444062</td>\n      <td>0.219322</td>\n      <td>-0.546219</td>\n      <td>-0.288614</td>\n      <td>-0.563487</td>\n      <td>-0.107019</td>\n      <td>0.009443</td>\n    </tr>\n    <tr>\n      <th>25</th>\n      <td>0.0964</td>\n      <td>-0.449688</td>\n      <td>0.069866</td>\n      <td>ivy</td>\n      <td>-0.464477</td>\n      <td>-0.217822</td>\n      <td>-0.202039</td>\n      <td>-0.040660</td>\n      <td>-0.569267</td>\n      <td>9</td>\n      <td>-0.013060</td>\n      <td>-0.407518</td>\n      <td>-0.484491</td>\n      <td>-0.217741</td>\n      <td>0.210002</td>\n      <td>-0.390948</td>\n      <td>0.699161</td>\n      <td>-0.147745</td>\n      <td>0.388987</td>\n    </tr>\n    <tr>\n      <th>26</th>\n      <td>0.4251</td>\n      <td>3.944128</td>\n      <td>-1.121042</td>\n      <td>manu_gavassi</td>\n      <td>4.414311</td>\n      <td>2.541152</td>\n      <td>4.052110</td>\n      <td>2.851760</td>\n      <td>1.646226</td>\n      <td>10</td>\n      <td>2.197491</td>\n      <td>0.478639</td>\n      <td>3.760466</td>\n      <td>-0.158847</td>\n      <td>2.092554</td>\n      <td>1.344005</td>\n      <td>1.190761</td>\n      <td>4.280406</td>\n      <td>0.379893</td>\n    </tr>\n    <tr>\n      <th>27</th>\n      <td>0.0076</td>\n      <td>0.006849</td>\n      <td>-0.568099</td>\n      <td>mari</td>\n      <td>0.167989</td>\n      <td>-0.176051</td>\n      <td>0.266808</td>\n      <td>-0.540516</td>\n      <td>-1.460626</td>\n      <td>10</td>\n      <td>-0.634790</td>\n      <td>-1.303875</td>\n      <td>-0.295329</td>\n      <td>0.423339</td>\n      <td>0.306985</td>\n      <td>-1.604830</td>\n      <td>-0.218858</td>\n      <td>0.021926</td>\n      <td>0.068934</td>\n    </tr>\n    <tr>\n      <th>28</th>\n      <td>0.5673</td>\n      <td>2.353400</td>\n      <td>0.362411</td>\n      <td>felipe_prior</td>\n      <td>2.367028</td>\n      <td>2.801570</td>\n      <td>1.530133</td>\n      <td>2.877635</td>\n      <td>-0.423731</td>\n      <td>10</td>\n      <td>3.197821</td>\n      <td>0.649476</td>\n      <td>0.039823</td>\n      <td>-1.029327</td>\n      <td>0.939568</td>\n      <td>0.058208</td>\n      <td>2.103566</td>\n      <td>2.423558</td>\n      <td>1.006792</td>\n    </tr>\n  </tbody>\n</table>\n</div>"
     },
     "metadata": {},
     "execution_count": 61
    }
   ],
   "source": [
    "summary_df"
   ]
  },
  {
   "cell_type": "code",
   "execution_count": null,
   "metadata": {},
   "outputs": [],
   "source": []
  }
 ]
}