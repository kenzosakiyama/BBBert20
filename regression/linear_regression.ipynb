{
 "nbformat": 4,
 "nbformat_minor": 2,
 "metadata": {
  "language_info": {
   "name": "python",
   "codemirror_mode": {
    "name": "ipython",
    "version": 3
   },
   "version": "3.6.9-final"
  },
  "orig_nbformat": 2,
  "file_extension": ".py",
  "mimetype": "text/x-python",
  "name": "python",
  "npconvert_exporter": "python",
  "pygments_lexer": "ipython3",
  "version": 3,
  "kernelspec": {
   "name": "python36964bitbertvirtualenv054cbb15ab924922a35a349b12e89805",
   "display_name": "Python 3.6.9 64-bit ('bert': virtualenv)"
  }
 },
 "cells": [
  {
   "cell_type": "markdown",
   "metadata": {},
   "source": [
    "# Experimentos baseados em regressão linear"
   ]
  },
  {
   "cell_type": "markdown",
   "metadata": {},
   "source": [
    "- Utilizando cada paredão como teste e avaliando com holdout."
   ]
  },
  {
   "cell_type": "code",
   "execution_count": 1,
   "metadata": {},
   "outputs": [],
   "source": [
    "import pandas as pd \n",
    "import numpy as np \n",
    "from regression_utils import *\n",
    "from sklearn.linear_model import LinearRegression"
   ]
  },
  {
   "cell_type": "code",
   "execution_count": 2,
   "metadata": {},
   "outputs": [],
   "source": [
    "NORMALIZE = True"
   ]
  },
  {
   "cell_type": "code",
   "execution_count": 3,
   "metadata": {},
   "outputs": [],
   "source": [
    "summary_df = pd.DataFrame(columns=COLUMNS)"
   ]
  },
  {
   "cell_type": "markdown",
   "metadata": {},
   "source": [
    "# Paredao 1"
   ]
  },
  {
   "cell_type": "code",
   "execution_count": 4,
   "metadata": {},
   "outputs": [],
   "source": [
    "train_df, test_df, mean, std = get_train_test(1, normalize=NORMALIZE)"
   ]
  },
  {
   "cell_type": "code",
   "execution_count": 6,
   "metadata": {},
   "outputs": [
    {
     "output_type": "execute_result",
     "data": {
      "text/plain": "   paredao            nome positivos  neutros negativos  \\\n21       1  bianca_andrade -0.900023 -1.04798   -1.0553   \n22       1    lucas_chumbo -0.850146 -0.53389 -0.509813   \n\n    positivos_individual_pct  neutros_individual_pct  \\\n21                  1.657885                0.816811   \n22                 -0.773887                0.407289   \n\n    negativos_individual_pct  positivos_global_pct  neutros_global_pct  \\\n21                 -1.667742              1.094863           -0.143366   \n22                  0.404260              1.365944            2.370248   \n\n    negativos_global_pct      day1      day2      day3    likes  retweets  \\\n21             -0.788016 -0.953554 -0.974505 -0.933802 -1.04018 -0.992055   \n22              2.530582  0.146492 -0.996246 -0.923455 -0.78605 -0.628783   \n\n   seguidores  rejeicao  \n21 -0.0635785 -0.342686  \n22  -0.508706  1.391839  ",
      "text/html": "<div>\n<style scoped>\n    .dataframe tbody tr th:only-of-type {\n        vertical-align: middle;\n    }\n\n    .dataframe tbody tr th {\n        vertical-align: top;\n    }\n\n    .dataframe thead th {\n        text-align: right;\n    }\n</style>\n<table border=\"1\" class=\"dataframe\">\n  <thead>\n    <tr style=\"text-align: right;\">\n      <th></th>\n      <th>paredao</th>\n      <th>nome</th>\n      <th>positivos</th>\n      <th>neutros</th>\n      <th>negativos</th>\n      <th>positivos_individual_pct</th>\n      <th>neutros_individual_pct</th>\n      <th>negativos_individual_pct</th>\n      <th>positivos_global_pct</th>\n      <th>neutros_global_pct</th>\n      <th>negativos_global_pct</th>\n      <th>day1</th>\n      <th>day2</th>\n      <th>day3</th>\n      <th>likes</th>\n      <th>retweets</th>\n      <th>seguidores</th>\n      <th>rejeicao</th>\n    </tr>\n  </thead>\n  <tbody>\n    <tr>\n      <th>21</th>\n      <td>1</td>\n      <td>bianca_andrade</td>\n      <td>-0.900023</td>\n      <td>-1.04798</td>\n      <td>-1.0553</td>\n      <td>1.657885</td>\n      <td>0.816811</td>\n      <td>-1.667742</td>\n      <td>1.094863</td>\n      <td>-0.143366</td>\n      <td>-0.788016</td>\n      <td>-0.953554</td>\n      <td>-0.974505</td>\n      <td>-0.933802</td>\n      <td>-1.04018</td>\n      <td>-0.992055</td>\n      <td>-0.0635785</td>\n      <td>-0.342686</td>\n    </tr>\n    <tr>\n      <th>22</th>\n      <td>1</td>\n      <td>lucas_chumbo</td>\n      <td>-0.850146</td>\n      <td>-0.53389</td>\n      <td>-0.509813</td>\n      <td>-0.773887</td>\n      <td>0.407289</td>\n      <td>0.404260</td>\n      <td>1.365944</td>\n      <td>2.370248</td>\n      <td>2.530582</td>\n      <td>0.146492</td>\n      <td>-0.996246</td>\n      <td>-0.923455</td>\n      <td>-0.78605</td>\n      <td>-0.628783</td>\n      <td>-0.508706</td>\n      <td>1.391839</td>\n    </tr>\n  </tbody>\n</table>\n</div>"
     },
     "metadata": {},
     "execution_count": 6
    }
   ],
   "source": [
    "test_df"
   ]
  },
  {
   "cell_type": "code",
   "execution_count": 7,
   "metadata": {},
   "outputs": [],
   "source": [
    "x_train, y_train = train_df.drop(columns=[\"paredao\", \"nome\", \"rejeicao\"], axis=1).to_numpy(), train_df.drop(columns=train_df.columns[:-1], axis=1).to_numpy()\n",
    "x_test, y_test = test_df.drop(columns=[\"paredao\", \"nome\", \"rejeicao\"], axis=1).to_numpy(), test_df.drop(columns=train_df.columns[:-1], axis=1).to_numpy()"
   ]
  },
  {
   "cell_type": "code",
   "execution_count": 8,
   "metadata": {},
   "outputs": [],
   "source": [
    "regressor = LinearRegression()"
   ]
  },
  {
   "cell_type": "code",
   "execution_count": 9,
   "metadata": {},
   "outputs": [],
   "source": [
    "_ = regressor.fit(x_train, y_train)"
   ]
  },
  {
   "cell_type": "code",
   "execution_count": 10,
   "metadata": {},
   "outputs": [],
   "source": [
    "prediction = regressor.predict(x_test)\n",
    "test_df[\"predicao\"] = prediction * std + mean\n",
    "test_df[\"rejeicao\"] =  test_df[\"rejeicao\"] * std + mean\n",
    "summary_df = summary_df.append(test_df, ignore_index=True, sort=False)"
   ]
  },
  {
   "cell_type": "code",
   "execution_count": 11,
   "metadata": {},
   "outputs": [
    {
     "output_type": "execute_result",
     "data": {
      "text/plain": "   paredao            nome positivos  neutros negativos  \\\n22       1    lucas_chumbo -0.850146 -0.53389 -0.509813   \n21       1  bianca_andrade -0.900023 -1.04798   -1.0553   \n\n    positivos_individual_pct  neutros_individual_pct  \\\n22                 -0.773887                0.407289   \n21                  1.657885                0.816811   \n\n    negativos_individual_pct  positivos_global_pct  neutros_global_pct  \\\n22                  0.404260              1.365944            2.370248   \n21                 -1.667742              1.094863           -0.143366   \n\n    negativos_global_pct      day1      day2      day3    likes  retweets  \\\n22              2.530582  0.146492 -0.996246 -0.923455 -0.78605 -0.628783   \n21             -0.788016 -0.953554 -0.974505 -0.933802 -1.04018 -0.992055   \n\n   seguidores  rejeicao  predicao  \n22  -0.508706    0.7594  0.878061  \n21 -0.0635785    0.2446 -0.031844  ",
      "text/html": "<div>\n<style scoped>\n    .dataframe tbody tr th:only-of-type {\n        vertical-align: middle;\n    }\n\n    .dataframe tbody tr th {\n        vertical-align: top;\n    }\n\n    .dataframe thead th {\n        text-align: right;\n    }\n</style>\n<table border=\"1\" class=\"dataframe\">\n  <thead>\n    <tr style=\"text-align: right;\">\n      <th></th>\n      <th>paredao</th>\n      <th>nome</th>\n      <th>positivos</th>\n      <th>neutros</th>\n      <th>negativos</th>\n      <th>positivos_individual_pct</th>\n      <th>neutros_individual_pct</th>\n      <th>negativos_individual_pct</th>\n      <th>positivos_global_pct</th>\n      <th>neutros_global_pct</th>\n      <th>negativos_global_pct</th>\n      <th>day1</th>\n      <th>day2</th>\n      <th>day3</th>\n      <th>likes</th>\n      <th>retweets</th>\n      <th>seguidores</th>\n      <th>rejeicao</th>\n      <th>predicao</th>\n    </tr>\n  </thead>\n  <tbody>\n    <tr>\n      <th>22</th>\n      <td>1</td>\n      <td>lucas_chumbo</td>\n      <td>-0.850146</td>\n      <td>-0.53389</td>\n      <td>-0.509813</td>\n      <td>-0.773887</td>\n      <td>0.407289</td>\n      <td>0.404260</td>\n      <td>1.365944</td>\n      <td>2.370248</td>\n      <td>2.530582</td>\n      <td>0.146492</td>\n      <td>-0.996246</td>\n      <td>-0.923455</td>\n      <td>-0.78605</td>\n      <td>-0.628783</td>\n      <td>-0.508706</td>\n      <td>0.7594</td>\n      <td>0.878061</td>\n    </tr>\n    <tr>\n      <th>21</th>\n      <td>1</td>\n      <td>bianca_andrade</td>\n      <td>-0.900023</td>\n      <td>-1.04798</td>\n      <td>-1.0553</td>\n      <td>1.657885</td>\n      <td>0.816811</td>\n      <td>-1.667742</td>\n      <td>1.094863</td>\n      <td>-0.143366</td>\n      <td>-0.788016</td>\n      <td>-0.953554</td>\n      <td>-0.974505</td>\n      <td>-0.933802</td>\n      <td>-1.04018</td>\n      <td>-0.992055</td>\n      <td>-0.0635785</td>\n      <td>0.2446</td>\n      <td>-0.031844</td>\n    </tr>\n  </tbody>\n</table>\n</div>"
     },
     "metadata": {},
     "execution_count": 11
    }
   ],
   "source": [
    "test_df.sort_values(by=\"predicao\", ascending=False)"
   ]
  },
  {
   "cell_type": "markdown",
   "metadata": {},
   "source": [
    "# Paredao 2"
   ]
  },
  {
   "cell_type": "code",
   "execution_count": 12,
   "metadata": {},
   "outputs": [
    {
     "output_type": "execute_result",
     "data": {
      "text/plain": "   paredao    nome positivos   neutros negativos  positivos_individual_pct  \\\n17       2    babu  -1.07877   -1.0647  -1.05223                  0.850817   \n18       2  petrix  0.876038    2.2864   1.95783                 -1.189603   \n19       2   pyong   1.16819 -0.122693 -0.586855                  2.354321   \n20       2  hadson  0.441636   1.31715   1.52099                 -1.172673   \n\n    neutros_individual_pct  negativos_individual_pct  positivos_global_pct  \\\n17                1.393069                 -1.318048             -2.226367   \n18                0.136132                  0.853930             -0.234910   \n19               -0.346501                 -1.653416              0.062723   \n20               -0.507002                  1.146068             -0.677456   \n\n    neutros_global_pct  negativos_global_pct      day1      day2      day3  \\\n17           -2.110050             -1.798090 -0.969362 -0.968379  -1.13978   \n18            0.729794              0.697161   1.70256   2.21954  0.348125   \n19           -1.311760             -1.412308  -0.51913  0.263925 -0.208201   \n20           -0.091587              0.335030  0.309385   2.42134 -0.370685   \n\n       likes  retweets seguidores  rejeicao  \n17  -1.13226 -0.992979  -0.159909 -1.151996  \n18   1.53127   2.48549  -0.497129  1.537731  \n19  0.408731  0.457068    1.07094 -1.144583  \n20  0.924943   1.55074  -0.510718 -0.539117  ",
      "text/html": "<div>\n<style scoped>\n    .dataframe tbody tr th:only-of-type {\n        vertical-align: middle;\n    }\n\n    .dataframe tbody tr th {\n        vertical-align: top;\n    }\n\n    .dataframe thead th {\n        text-align: right;\n    }\n</style>\n<table border=\"1\" class=\"dataframe\">\n  <thead>\n    <tr style=\"text-align: right;\">\n      <th></th>\n      <th>paredao</th>\n      <th>nome</th>\n      <th>positivos</th>\n      <th>neutros</th>\n      <th>negativos</th>\n      <th>positivos_individual_pct</th>\n      <th>neutros_individual_pct</th>\n      <th>negativos_individual_pct</th>\n      <th>positivos_global_pct</th>\n      <th>neutros_global_pct</th>\n      <th>negativos_global_pct</th>\n      <th>day1</th>\n      <th>day2</th>\n      <th>day3</th>\n      <th>likes</th>\n      <th>retweets</th>\n      <th>seguidores</th>\n      <th>rejeicao</th>\n    </tr>\n  </thead>\n  <tbody>\n    <tr>\n      <th>17</th>\n      <td>2</td>\n      <td>babu</td>\n      <td>-1.07877</td>\n      <td>-1.0647</td>\n      <td>-1.05223</td>\n      <td>0.850817</td>\n      <td>1.393069</td>\n      <td>-1.318048</td>\n      <td>-2.226367</td>\n      <td>-2.110050</td>\n      <td>-1.798090</td>\n      <td>-0.969362</td>\n      <td>-0.968379</td>\n      <td>-1.13978</td>\n      <td>-1.13226</td>\n      <td>-0.992979</td>\n      <td>-0.159909</td>\n      <td>-1.151996</td>\n    </tr>\n    <tr>\n      <th>18</th>\n      <td>2</td>\n      <td>petrix</td>\n      <td>0.876038</td>\n      <td>2.2864</td>\n      <td>1.95783</td>\n      <td>-1.189603</td>\n      <td>0.136132</td>\n      <td>0.853930</td>\n      <td>-0.234910</td>\n      <td>0.729794</td>\n      <td>0.697161</td>\n      <td>1.70256</td>\n      <td>2.21954</td>\n      <td>0.348125</td>\n      <td>1.53127</td>\n      <td>2.48549</td>\n      <td>-0.497129</td>\n      <td>1.537731</td>\n    </tr>\n    <tr>\n      <th>19</th>\n      <td>2</td>\n      <td>pyong</td>\n      <td>1.16819</td>\n      <td>-0.122693</td>\n      <td>-0.586855</td>\n      <td>2.354321</td>\n      <td>-0.346501</td>\n      <td>-1.653416</td>\n      <td>0.062723</td>\n      <td>-1.311760</td>\n      <td>-1.412308</td>\n      <td>-0.51913</td>\n      <td>0.263925</td>\n      <td>-0.208201</td>\n      <td>0.408731</td>\n      <td>0.457068</td>\n      <td>1.07094</td>\n      <td>-1.144583</td>\n    </tr>\n    <tr>\n      <th>20</th>\n      <td>2</td>\n      <td>hadson</td>\n      <td>0.441636</td>\n      <td>1.31715</td>\n      <td>1.52099</td>\n      <td>-1.172673</td>\n      <td>-0.507002</td>\n      <td>1.146068</td>\n      <td>-0.677456</td>\n      <td>-0.091587</td>\n      <td>0.335030</td>\n      <td>0.309385</td>\n      <td>2.42134</td>\n      <td>-0.370685</td>\n      <td>0.924943</td>\n      <td>1.55074</td>\n      <td>-0.510718</td>\n      <td>-0.539117</td>\n    </tr>\n  </tbody>\n</table>\n</div>"
     },
     "metadata": {},
     "execution_count": 12
    }
   ],
   "source": [
    "train_df, test_df, mean, std = get_train_test(2, normalize=NORMALIZE)\n",
    "test_df\n",
    ""
   ]
  },
  {
   "cell_type": "code",
   "execution_count": 13,
   "metadata": {},
   "outputs": [],
   "source": [
    "x_train, y_train = train_df.drop(columns=[\"paredao\", \"nome\", \"rejeicao\"], axis=1).to_numpy(), train_df.drop(columns=train_df.columns[:-1], axis=1).to_numpy()\n",
    "x_test, y_test = test_df.drop(columns=[\"paredao\", \"nome\", \"rejeicao\"], axis=1).to_numpy(), test_df.drop(columns=train_df.columns[:-1], axis=1).to_numpy()"
   ]
  },
  {
   "cell_type": "code",
   "execution_count": 14,
   "metadata": {},
   "outputs": [],
   "source": [
    "regressor = LinearRegression()"
   ]
  },
  {
   "cell_type": "code",
   "execution_count": 15,
   "metadata": {},
   "outputs": [],
   "source": [
    "_ = regressor.fit(x_train, y_train)\n",
    ""
   ]
  },
  {
   "cell_type": "code",
   "execution_count": 16,
   "metadata": {},
   "outputs": [],
   "source": [
    "prediction = regressor.predict(x_test)\n",
    "test_df[\"predicao\"] = prediction * std + mean\n",
    "test_df[\"rejeicao\"] =  test_df[\"rejeicao\"] * std + mean\n",
    "summary_df = summary_df.append(test_df, ignore_index=True, sort=False)"
   ]
  },
  {
   "cell_type": "code",
   "execution_count": 17,
   "metadata": {},
   "outputs": [
    {
     "output_type": "execute_result",
     "data": {
      "text/plain": "   paredao    nome positivos   neutros negativos  positivos_individual_pct  \\\n18       2  petrix  0.876038    2.2864   1.95783                 -1.189603   \n20       2  hadson  0.441636   1.31715   1.52099                 -1.172673   \n17       2    babu  -1.07877   -1.0647  -1.05223                  0.850817   \n19       2   pyong   1.16819 -0.122693 -0.586855                  2.354321   \n\n    neutros_individual_pct  negativos_individual_pct  positivos_global_pct  \\\n18                0.136132                  0.853930             -0.234910   \n20               -0.507002                  1.146068             -0.677456   \n17                1.393069                 -1.318048             -2.226367   \n19               -0.346501                 -1.653416              0.062723   \n\n    neutros_global_pct  negativos_global_pct      day1      day2      day3  \\\n18            0.729794              0.697161   1.70256   2.21954  0.348125   \n20           -0.091587              0.335030  0.309385   2.42134 -0.370685   \n17           -2.110050             -1.798090 -0.969362 -0.968379  -1.13978   \n19           -1.311760             -1.412308  -0.51913  0.263925 -0.208201   \n\n       likes  retweets seguidores  rejeicao  predicao  \n18   1.53127   2.48549  -0.497129    0.8027  0.759157  \n20  0.924943   1.55074  -0.510718    0.1863  0.156128  \n17  -1.13226 -0.992979  -0.159909    0.0044  0.101551  \n19  0.408731  0.457068    1.07094    0.0066 -0.392612  ",
      "text/html": "<div>\n<style scoped>\n    .dataframe tbody tr th:only-of-type {\n        vertical-align: middle;\n    }\n\n    .dataframe tbody tr th {\n        vertical-align: top;\n    }\n\n    .dataframe thead th {\n        text-align: right;\n    }\n</style>\n<table border=\"1\" class=\"dataframe\">\n  <thead>\n    <tr style=\"text-align: right;\">\n      <th></th>\n      <th>paredao</th>\n      <th>nome</th>\n      <th>positivos</th>\n      <th>neutros</th>\n      <th>negativos</th>\n      <th>positivos_individual_pct</th>\n      <th>neutros_individual_pct</th>\n      <th>negativos_individual_pct</th>\n      <th>positivos_global_pct</th>\n      <th>neutros_global_pct</th>\n      <th>negativos_global_pct</th>\n      <th>day1</th>\n      <th>day2</th>\n      <th>day3</th>\n      <th>likes</th>\n      <th>retweets</th>\n      <th>seguidores</th>\n      <th>rejeicao</th>\n      <th>predicao</th>\n    </tr>\n  </thead>\n  <tbody>\n    <tr>\n      <th>18</th>\n      <td>2</td>\n      <td>petrix</td>\n      <td>0.876038</td>\n      <td>2.2864</td>\n      <td>1.95783</td>\n      <td>-1.189603</td>\n      <td>0.136132</td>\n      <td>0.853930</td>\n      <td>-0.234910</td>\n      <td>0.729794</td>\n      <td>0.697161</td>\n      <td>1.70256</td>\n      <td>2.21954</td>\n      <td>0.348125</td>\n      <td>1.53127</td>\n      <td>2.48549</td>\n      <td>-0.497129</td>\n      <td>0.8027</td>\n      <td>0.759157</td>\n    </tr>\n    <tr>\n      <th>20</th>\n      <td>2</td>\n      <td>hadson</td>\n      <td>0.441636</td>\n      <td>1.31715</td>\n      <td>1.52099</td>\n      <td>-1.172673</td>\n      <td>-0.507002</td>\n      <td>1.146068</td>\n      <td>-0.677456</td>\n      <td>-0.091587</td>\n      <td>0.335030</td>\n      <td>0.309385</td>\n      <td>2.42134</td>\n      <td>-0.370685</td>\n      <td>0.924943</td>\n      <td>1.55074</td>\n      <td>-0.510718</td>\n      <td>0.1863</td>\n      <td>0.156128</td>\n    </tr>\n    <tr>\n      <th>17</th>\n      <td>2</td>\n      <td>babu</td>\n      <td>-1.07877</td>\n      <td>-1.0647</td>\n      <td>-1.05223</td>\n      <td>0.850817</td>\n      <td>1.393069</td>\n      <td>-1.318048</td>\n      <td>-2.226367</td>\n      <td>-2.110050</td>\n      <td>-1.798090</td>\n      <td>-0.969362</td>\n      <td>-0.968379</td>\n      <td>-1.13978</td>\n      <td>-1.13226</td>\n      <td>-0.992979</td>\n      <td>-0.159909</td>\n      <td>0.0044</td>\n      <td>0.101551</td>\n    </tr>\n    <tr>\n      <th>19</th>\n      <td>2</td>\n      <td>pyong</td>\n      <td>1.16819</td>\n      <td>-0.122693</td>\n      <td>-0.586855</td>\n      <td>2.354321</td>\n      <td>-0.346501</td>\n      <td>-1.653416</td>\n      <td>0.062723</td>\n      <td>-1.311760</td>\n      <td>-1.412308</td>\n      <td>-0.51913</td>\n      <td>0.263925</td>\n      <td>-0.208201</td>\n      <td>0.408731</td>\n      <td>0.457068</td>\n      <td>1.07094</td>\n      <td>0.0066</td>\n      <td>-0.392612</td>\n    </tr>\n  </tbody>\n</table>\n</div>"
     },
     "metadata": {},
     "execution_count": 17
    }
   ],
   "source": [
    "test_df.sort_values(by=\"predicao\", ascending=False)"
   ]
  },
  {
   "cell_type": "markdown",
   "metadata": {},
   "source": [
    "# Paredao 3"
   ]
  },
  {
   "cell_type": "code",
   "execution_count": 18,
   "metadata": {},
   "outputs": [
    {
     "output_type": "execute_result",
     "data": {
      "text/plain": "   paredao          nome positivos  neutros negativos  \\\n9        3  felipe_prior   -1.2174 -1.18865  -1.06801   \n10       3        hadson  -1.28427 -1.07587  -1.04378   \n\n    positivos_individual_pct  neutros_individual_pct  \\\n9                   0.588933                0.772922   \n10                 -0.375359                2.249568   \n\n    negativos_individual_pct  positivos_global_pct  neutros_global_pct  \\\n9                  -0.821538              1.601810            0.601755   \n10                 -0.777741              0.858997            1.625128   \n\n    negativos_global_pct     day1      day2      day3    likes  retweets  \\\n9               0.692723 -1.26002 -0.943818 -0.918282 -1.01388 -0.877413   \n10              1.049843 -1.21025 -0.940294 -0.856198  -1.2196  -1.07128   \n\n   seguidores  rejeicao  \n9   -0.294954 -0.483186  \n10  -0.510718  1.518863  ",
      "text/html": "<div>\n<style scoped>\n    .dataframe tbody tr th:only-of-type {\n        vertical-align: middle;\n    }\n\n    .dataframe tbody tr th {\n        vertical-align: top;\n    }\n\n    .dataframe thead th {\n        text-align: right;\n    }\n</style>\n<table border=\"1\" class=\"dataframe\">\n  <thead>\n    <tr style=\"text-align: right;\">\n      <th></th>\n      <th>paredao</th>\n      <th>nome</th>\n      <th>positivos</th>\n      <th>neutros</th>\n      <th>negativos</th>\n      <th>positivos_individual_pct</th>\n      <th>neutros_individual_pct</th>\n      <th>negativos_individual_pct</th>\n      <th>positivos_global_pct</th>\n      <th>neutros_global_pct</th>\n      <th>negativos_global_pct</th>\n      <th>day1</th>\n      <th>day2</th>\n      <th>day3</th>\n      <th>likes</th>\n      <th>retweets</th>\n      <th>seguidores</th>\n      <th>rejeicao</th>\n    </tr>\n  </thead>\n  <tbody>\n    <tr>\n      <th>9</th>\n      <td>3</td>\n      <td>felipe_prior</td>\n      <td>-1.2174</td>\n      <td>-1.18865</td>\n      <td>-1.06801</td>\n      <td>0.588933</td>\n      <td>0.772922</td>\n      <td>-0.821538</td>\n      <td>1.601810</td>\n      <td>0.601755</td>\n      <td>0.692723</td>\n      <td>-1.26002</td>\n      <td>-0.943818</td>\n      <td>-0.918282</td>\n      <td>-1.01388</td>\n      <td>-0.877413</td>\n      <td>-0.294954</td>\n      <td>-0.483186</td>\n    </tr>\n    <tr>\n      <th>10</th>\n      <td>3</td>\n      <td>hadson</td>\n      <td>-1.28427</td>\n      <td>-1.07587</td>\n      <td>-1.04378</td>\n      <td>-0.375359</td>\n      <td>2.249568</td>\n      <td>-0.777741</td>\n      <td>0.858997</td>\n      <td>1.625128</td>\n      <td>1.049843</td>\n      <td>-1.21025</td>\n      <td>-0.940294</td>\n      <td>-0.856198</td>\n      <td>-1.2196</td>\n      <td>-1.07128</td>\n      <td>-0.510718</td>\n      <td>1.518863</td>\n    </tr>\n  </tbody>\n</table>\n</div>"
     },
     "metadata": {},
     "execution_count": 18
    }
   ],
   "source": [
    "train_df, test_df, mean, std = get_train_test(3, normalize=NORMALIZE)\n",
    "test_df\n",
    ""
   ]
  },
  {
   "cell_type": "code",
   "execution_count": 19,
   "metadata": {},
   "outputs": [],
   "source": [
    "x_train, y_train = train_df.drop(columns=[\"paredao\", \"nome\", \"rejeicao\"], axis=1).to_numpy(), train_df.drop(columns=train_df.columns[:-1], axis=1).to_numpy()\n",
    "x_test, y_test = test_df.drop(columns=[\"paredao\", \"nome\", \"rejeicao\"], axis=1).to_numpy(), test_df.drop(columns=train_df.columns[:-1], axis=1).to_numpy()"
   ]
  },
  {
   "cell_type": "code",
   "execution_count": 20,
   "metadata": {},
   "outputs": [],
   "source": [
    "regressor = LinearRegression()"
   ]
  },
  {
   "cell_type": "code",
   "execution_count": 21,
   "metadata": {},
   "outputs": [],
   "source": [
    "_ = regressor.fit(x_train, y_train)"
   ]
  },
  {
   "cell_type": "code",
   "execution_count": 22,
   "metadata": {},
   "outputs": [],
   "source": [
    "prediction = regressor.predict(x_test)\n",
    "test_df[\"predicao\"] = prediction * std + mean\n",
    "test_df[\"rejeicao\"] =  test_df[\"rejeicao\"] * std + mean\n",
    "summary_df = summary_df.append(test_df, ignore_index=True, sort=False)"
   ]
  },
  {
   "cell_type": "code",
   "execution_count": 23,
   "metadata": {},
   "outputs": [
    {
     "output_type": "execute_result",
     "data": {
      "text/plain": "   paredao          nome positivos  neutros negativos  \\\n10       3        hadson  -1.28427 -1.07587  -1.04378   \n9        3  felipe_prior   -1.2174 -1.18865  -1.06801   \n\n    positivos_individual_pct  neutros_individual_pct  \\\n10                 -0.375359                2.249568   \n9                   0.588933                0.772922   \n\n    negativos_individual_pct  positivos_global_pct  neutros_global_pct  \\\n10                 -0.777741              0.858997            1.625128   \n9                  -0.821538              1.601810            0.601755   \n\n    negativos_global_pct     day1      day2      day3    likes  retweets  \\\n10              1.049843 -1.21025 -0.940294 -0.856198  -1.2196  -1.07128   \n9               0.692723 -1.26002 -0.943818 -0.918282 -1.01388 -0.877413   \n\n   seguidores  rejeicao  predicao  \n10  -0.510718    0.7971  0.842786  \n9   -0.294954    0.2029  0.365071  ",
      "text/html": "<div>\n<style scoped>\n    .dataframe tbody tr th:only-of-type {\n        vertical-align: middle;\n    }\n\n    .dataframe tbody tr th {\n        vertical-align: top;\n    }\n\n    .dataframe thead th {\n        text-align: right;\n    }\n</style>\n<table border=\"1\" class=\"dataframe\">\n  <thead>\n    <tr style=\"text-align: right;\">\n      <th></th>\n      <th>paredao</th>\n      <th>nome</th>\n      <th>positivos</th>\n      <th>neutros</th>\n      <th>negativos</th>\n      <th>positivos_individual_pct</th>\n      <th>neutros_individual_pct</th>\n      <th>negativos_individual_pct</th>\n      <th>positivos_global_pct</th>\n      <th>neutros_global_pct</th>\n      <th>negativos_global_pct</th>\n      <th>day1</th>\n      <th>day2</th>\n      <th>day3</th>\n      <th>likes</th>\n      <th>retweets</th>\n      <th>seguidores</th>\n      <th>rejeicao</th>\n      <th>predicao</th>\n    </tr>\n  </thead>\n  <tbody>\n    <tr>\n      <th>10</th>\n      <td>3</td>\n      <td>hadson</td>\n      <td>-1.28427</td>\n      <td>-1.07587</td>\n      <td>-1.04378</td>\n      <td>-0.375359</td>\n      <td>2.249568</td>\n      <td>-0.777741</td>\n      <td>0.858997</td>\n      <td>1.625128</td>\n      <td>1.049843</td>\n      <td>-1.21025</td>\n      <td>-0.940294</td>\n      <td>-0.856198</td>\n      <td>-1.2196</td>\n      <td>-1.07128</td>\n      <td>-0.510718</td>\n      <td>0.7971</td>\n      <td>0.842786</td>\n    </tr>\n    <tr>\n      <th>9</th>\n      <td>3</td>\n      <td>felipe_prior</td>\n      <td>-1.2174</td>\n      <td>-1.18865</td>\n      <td>-1.06801</td>\n      <td>0.588933</td>\n      <td>0.772922</td>\n      <td>-0.821538</td>\n      <td>1.601810</td>\n      <td>0.601755</td>\n      <td>0.692723</td>\n      <td>-1.26002</td>\n      <td>-0.943818</td>\n      <td>-0.918282</td>\n      <td>-1.01388</td>\n      <td>-0.877413</td>\n      <td>-0.294954</td>\n      <td>0.2029</td>\n      <td>0.365071</td>\n    </tr>\n  </tbody>\n</table>\n</div>"
     },
     "metadata": {},
     "execution_count": 23
    }
   ],
   "source": [
    "test_df.sort_values(by=\"predicao\", ascending=False)"
   ]
  },
  {
   "cell_type": "markdown",
   "metadata": {},
   "source": [
    "# Paredao 4"
   ]
  },
  {
   "cell_type": "code",
   "execution_count": 24,
   "metadata": {},
   "outputs": [
    {
     "output_type": "execute_result",
     "data": {
      "text/plain": "   paredao         nome  positivos   neutros negativos  \\\n23       4         babu  -0.668193 -0.532228  -0.28504   \n24       4  victor_hugo   -1.21976  -1.10986 -0.992964   \n25       4        lucas  0.0851142  0.128164  0.366743   \n\n    positivos_individual_pct  neutros_individual_pct  \\\n23                 -0.668861               -0.770937   \n24                 -0.121918                0.779612   \n25                 -0.517700               -0.898261   \n\n    negativos_individual_pct  positivos_global_pct  neutros_global_pct  \\\n23                  0.882312             -0.280046           -0.157625   \n24                 -0.275840             -1.736065           -1.515309   \n25                  0.826018              1.708510            1.394574   \n\n    negativos_global_pct      day1       day2      day3     likes   retweets  \\\n23             -0.035193 -0.145466  -0.453911 -0.891605 -0.837975  -0.849973   \n24             -1.450490 -0.888761   -1.06526   -1.1068  -1.18502   -1.06138   \n25              1.267863  0.762153 -0.0934205 -0.134962 -0.131374 -0.0581943   \n\n   seguidores  rejeicao  \n23  -0.159909 -1.123020  \n24  -0.506051  0.048829  \n25  -0.495731  0.943046  ",
      "text/html": "<div>\n<style scoped>\n    .dataframe tbody tr th:only-of-type {\n        vertical-align: middle;\n    }\n\n    .dataframe tbody tr th {\n        vertical-align: top;\n    }\n\n    .dataframe thead th {\n        text-align: right;\n    }\n</style>\n<table border=\"1\" class=\"dataframe\">\n  <thead>\n    <tr style=\"text-align: right;\">\n      <th></th>\n      <th>paredao</th>\n      <th>nome</th>\n      <th>positivos</th>\n      <th>neutros</th>\n      <th>negativos</th>\n      <th>positivos_individual_pct</th>\n      <th>neutros_individual_pct</th>\n      <th>negativos_individual_pct</th>\n      <th>positivos_global_pct</th>\n      <th>neutros_global_pct</th>\n      <th>negativos_global_pct</th>\n      <th>day1</th>\n      <th>day2</th>\n      <th>day3</th>\n      <th>likes</th>\n      <th>retweets</th>\n      <th>seguidores</th>\n      <th>rejeicao</th>\n    </tr>\n  </thead>\n  <tbody>\n    <tr>\n      <th>23</th>\n      <td>4</td>\n      <td>babu</td>\n      <td>-0.668193</td>\n      <td>-0.532228</td>\n      <td>-0.28504</td>\n      <td>-0.668861</td>\n      <td>-0.770937</td>\n      <td>0.882312</td>\n      <td>-0.280046</td>\n      <td>-0.157625</td>\n      <td>-0.035193</td>\n      <td>-0.145466</td>\n      <td>-0.453911</td>\n      <td>-0.891605</td>\n      <td>-0.837975</td>\n      <td>-0.849973</td>\n      <td>-0.159909</td>\n      <td>-1.123020</td>\n    </tr>\n    <tr>\n      <th>24</th>\n      <td>4</td>\n      <td>victor_hugo</td>\n      <td>-1.21976</td>\n      <td>-1.10986</td>\n      <td>-0.992964</td>\n      <td>-0.121918</td>\n      <td>0.779612</td>\n      <td>-0.275840</td>\n      <td>-1.736065</td>\n      <td>-1.515309</td>\n      <td>-1.450490</td>\n      <td>-0.888761</td>\n      <td>-1.06526</td>\n      <td>-1.1068</td>\n      <td>-1.18502</td>\n      <td>-1.06138</td>\n      <td>-0.506051</td>\n      <td>0.048829</td>\n    </tr>\n    <tr>\n      <th>25</th>\n      <td>4</td>\n      <td>lucas</td>\n      <td>0.0851142</td>\n      <td>0.128164</td>\n      <td>0.366743</td>\n      <td>-0.517700</td>\n      <td>-0.898261</td>\n      <td>0.826018</td>\n      <td>1.708510</td>\n      <td>1.394574</td>\n      <td>1.267863</td>\n      <td>0.762153</td>\n      <td>-0.0934205</td>\n      <td>-0.134962</td>\n      <td>-0.131374</td>\n      <td>-0.0581943</td>\n      <td>-0.495731</td>\n      <td>0.943046</td>\n    </tr>\n  </tbody>\n</table>\n</div>"
     },
     "metadata": {},
     "execution_count": 24
    }
   ],
   "source": [
    "train_df, test_df, mean, std = get_train_test(4, normalize=NORMALIZE)\n",
    "test_df\n",
    ""
   ]
  },
  {
   "cell_type": "code",
   "execution_count": 25,
   "metadata": {},
   "outputs": [],
   "source": [
    "x_train, y_train = train_df.drop(columns=[\"paredao\", \"nome\", \"rejeicao\"], axis=1).to_numpy(), train_df.drop(columns=train_df.columns[:-1], axis=1).to_numpy()\n",
    "x_test, y_test = test_df.drop(columns=[\"paredao\", \"nome\", \"rejeicao\"], axis=1).to_numpy(), test_df.drop(columns=train_df.columns[:-1], axis=1).to_numpy()"
   ]
  },
  {
   "cell_type": "code",
   "execution_count": 26,
   "metadata": {},
   "outputs": [],
   "source": [
    "regressor = LinearRegression()"
   ]
  },
  {
   "cell_type": "code",
   "execution_count": 27,
   "metadata": {},
   "outputs": [],
   "source": [
    "_ = regressor.fit(x_train, y_train)\n",
    ""
   ]
  },
  {
   "cell_type": "code",
   "execution_count": 28,
   "metadata": {},
   "outputs": [],
   "source": [
    "prediction = regressor.predict(x_test)\n",
    "test_df[\"predicao\"] = prediction * std + mean\n",
    "test_df[\"rejeicao\"] =  test_df[\"rejeicao\"] * std + mean\n",
    "summary_df = summary_df.append(test_df, ignore_index=True, sort=False)"
   ]
  },
  {
   "cell_type": "code",
   "execution_count": 29,
   "metadata": {},
   "outputs": [
    {
     "output_type": "execute_result",
     "data": {
      "text/plain": "   paredao         nome  positivos   neutros negativos  \\\n25       4        lucas  0.0851142  0.128164  0.366743   \n24       4  victor_hugo   -1.21976  -1.10986 -0.992964   \n23       4         babu  -0.668193 -0.532228  -0.28504   \n\n    positivos_individual_pct  neutros_individual_pct  \\\n25                 -0.517700               -0.898261   \n24                 -0.121918                0.779612   \n23                 -0.668861               -0.770937   \n\n    negativos_individual_pct  positivos_global_pct  neutros_global_pct  \\\n25                  0.826018              1.708510            1.394574   \n24                 -0.275840             -1.736065           -1.515309   \n23                  0.882312             -0.280046           -0.157625   \n\n    negativos_global_pct      day1       day2      day3     likes   retweets  \\\n25              1.267863  0.762153 -0.0934205 -0.134962 -0.131374 -0.0581943   \n24             -1.450490 -0.888761   -1.06526   -1.1068  -1.18502   -1.06138   \n23             -0.035193 -0.145466  -0.453911 -0.891605 -0.837975  -0.849973   \n\n   seguidores  rejeicao  predicao  \n25  -0.495731    0.6262  0.206181  \n24  -0.506051    0.3608  0.205853  \n23  -0.159909    0.0130  0.036548  ",
      "text/html": "<div>\n<style scoped>\n    .dataframe tbody tr th:only-of-type {\n        vertical-align: middle;\n    }\n\n    .dataframe tbody tr th {\n        vertical-align: top;\n    }\n\n    .dataframe thead th {\n        text-align: right;\n    }\n</style>\n<table border=\"1\" class=\"dataframe\">\n  <thead>\n    <tr style=\"text-align: right;\">\n      <th></th>\n      <th>paredao</th>\n      <th>nome</th>\n      <th>positivos</th>\n      <th>neutros</th>\n      <th>negativos</th>\n      <th>positivos_individual_pct</th>\n      <th>neutros_individual_pct</th>\n      <th>negativos_individual_pct</th>\n      <th>positivos_global_pct</th>\n      <th>neutros_global_pct</th>\n      <th>negativos_global_pct</th>\n      <th>day1</th>\n      <th>day2</th>\n      <th>day3</th>\n      <th>likes</th>\n      <th>retweets</th>\n      <th>seguidores</th>\n      <th>rejeicao</th>\n      <th>predicao</th>\n    </tr>\n  </thead>\n  <tbody>\n    <tr>\n      <th>25</th>\n      <td>4</td>\n      <td>lucas</td>\n      <td>0.0851142</td>\n      <td>0.128164</td>\n      <td>0.366743</td>\n      <td>-0.517700</td>\n      <td>-0.898261</td>\n      <td>0.826018</td>\n      <td>1.708510</td>\n      <td>1.394574</td>\n      <td>1.267863</td>\n      <td>0.762153</td>\n      <td>-0.0934205</td>\n      <td>-0.134962</td>\n      <td>-0.131374</td>\n      <td>-0.0581943</td>\n      <td>-0.495731</td>\n      <td>0.6262</td>\n      <td>0.206181</td>\n    </tr>\n    <tr>\n      <th>24</th>\n      <td>4</td>\n      <td>victor_hugo</td>\n      <td>-1.21976</td>\n      <td>-1.10986</td>\n      <td>-0.992964</td>\n      <td>-0.121918</td>\n      <td>0.779612</td>\n      <td>-0.275840</td>\n      <td>-1.736065</td>\n      <td>-1.515309</td>\n      <td>-1.450490</td>\n      <td>-0.888761</td>\n      <td>-1.06526</td>\n      <td>-1.1068</td>\n      <td>-1.18502</td>\n      <td>-1.06138</td>\n      <td>-0.506051</td>\n      <td>0.3608</td>\n      <td>0.205853</td>\n    </tr>\n    <tr>\n      <th>23</th>\n      <td>4</td>\n      <td>babu</td>\n      <td>-0.668193</td>\n      <td>-0.532228</td>\n      <td>-0.28504</td>\n      <td>-0.668861</td>\n      <td>-0.770937</td>\n      <td>0.882312</td>\n      <td>-0.280046</td>\n      <td>-0.157625</td>\n      <td>-0.035193</td>\n      <td>-0.145466</td>\n      <td>-0.453911</td>\n      <td>-0.891605</td>\n      <td>-0.837975</td>\n      <td>-0.849973</td>\n      <td>-0.159909</td>\n      <td>0.0130</td>\n      <td>0.036548</td>\n    </tr>\n  </tbody>\n</table>\n</div>"
     },
     "metadata": {},
     "execution_count": 29
    }
   ],
   "source": [
    "test_df.sort_values(by=\"predicao\", ascending=False)"
   ]
  },
  {
   "cell_type": "markdown",
   "metadata": {},
   "source": [
    "# Paredao 5"
   ]
  },
  {
   "cell_type": "code",
   "execution_count": 30,
   "metadata": {},
   "outputs": [
    {
     "output_type": "execute_result",
     "data": {
      "text/plain": "  paredao            nome positivos   neutros negativos  \\\n3       5  bianca_andrade  -1.02026 -0.785947 -0.899582   \n4       5       flayslene  -1.28984  -1.14588 -0.929292   \n5       5    felipe_prior -0.929976 -0.658025  -0.27085   \n\n   positivos_individual_pct  neutros_individual_pct  negativos_individual_pct  \\\n3                 -0.194847                1.915866                 -0.758757   \n4                 -0.728506               -0.100085                  0.610002   \n5                 -1.194126               -1.080492                  1.434791   \n\n   positivos_global_pct  neutros_global_pct  negativos_global_pct     day1  \\\n3              0.197640            0.186622             -0.760323 -1.20407   \n4             -1.156289           -1.113762             -0.862651 -1.20817   \n5              0.651048            0.648780              1.405154 -1.13232   \n\n       day2       day3     likes  retweets seguidores  rejeicao  \n3 -0.739473  -0.201411  -1.30525  -1.18091 -0.0635785  0.621950  \n4 -0.865149  -0.853126  -1.20044  -1.06532  -0.406154 -0.572473  \n5 -0.121505  0.0905758 -0.750906 -0.605365  -0.294954 -0.180621  ",
      "text/html": "<div>\n<style scoped>\n    .dataframe tbody tr th:only-of-type {\n        vertical-align: middle;\n    }\n\n    .dataframe tbody tr th {\n        vertical-align: top;\n    }\n\n    .dataframe thead th {\n        text-align: right;\n    }\n</style>\n<table border=\"1\" class=\"dataframe\">\n  <thead>\n    <tr style=\"text-align: right;\">\n      <th></th>\n      <th>paredao</th>\n      <th>nome</th>\n      <th>positivos</th>\n      <th>neutros</th>\n      <th>negativos</th>\n      <th>positivos_individual_pct</th>\n      <th>neutros_individual_pct</th>\n      <th>negativos_individual_pct</th>\n      <th>positivos_global_pct</th>\n      <th>neutros_global_pct</th>\n      <th>negativos_global_pct</th>\n      <th>day1</th>\n      <th>day2</th>\n      <th>day3</th>\n      <th>likes</th>\n      <th>retweets</th>\n      <th>seguidores</th>\n      <th>rejeicao</th>\n    </tr>\n  </thead>\n  <tbody>\n    <tr>\n      <th>3</th>\n      <td>5</td>\n      <td>bianca_andrade</td>\n      <td>-1.02026</td>\n      <td>-0.785947</td>\n      <td>-0.899582</td>\n      <td>-0.194847</td>\n      <td>1.915866</td>\n      <td>-0.758757</td>\n      <td>0.197640</td>\n      <td>0.186622</td>\n      <td>-0.760323</td>\n      <td>-1.20407</td>\n      <td>-0.739473</td>\n      <td>-0.201411</td>\n      <td>-1.30525</td>\n      <td>-1.18091</td>\n      <td>-0.0635785</td>\n      <td>0.621950</td>\n    </tr>\n    <tr>\n      <th>4</th>\n      <td>5</td>\n      <td>flayslene</td>\n      <td>-1.28984</td>\n      <td>-1.14588</td>\n      <td>-0.929292</td>\n      <td>-0.728506</td>\n      <td>-0.100085</td>\n      <td>0.610002</td>\n      <td>-1.156289</td>\n      <td>-1.113762</td>\n      <td>-0.862651</td>\n      <td>-1.20817</td>\n      <td>-0.865149</td>\n      <td>-0.853126</td>\n      <td>-1.20044</td>\n      <td>-1.06532</td>\n      <td>-0.406154</td>\n      <td>-0.572473</td>\n    </tr>\n    <tr>\n      <th>5</th>\n      <td>5</td>\n      <td>felipe_prior</td>\n      <td>-0.929976</td>\n      <td>-0.658025</td>\n      <td>-0.27085</td>\n      <td>-1.194126</td>\n      <td>-1.080492</td>\n      <td>1.434791</td>\n      <td>0.651048</td>\n      <td>0.648780</td>\n      <td>1.405154</td>\n      <td>-1.13232</td>\n      <td>-0.121505</td>\n      <td>0.0905758</td>\n      <td>-0.750906</td>\n      <td>-0.605365</td>\n      <td>-0.294954</td>\n      <td>-0.180621</td>\n    </tr>\n  </tbody>\n</table>\n</div>"
     },
     "metadata": {},
     "execution_count": 30
    }
   ],
   "source": [
    "train_df, test_df, mean, std = get_train_test(5, normalize=NORMALIZE)\n",
    "test_df\n",
    ""
   ]
  },
  {
   "cell_type": "code",
   "execution_count": 31,
   "metadata": {},
   "outputs": [],
   "source": [
    "x_train, y_train = train_df.drop(columns=[\"paredao\", \"nome\", \"rejeicao\"], axis=1).to_numpy(), train_df.drop(columns=train_df.columns[:-1], axis=1).to_numpy()\n",
    "x_test, y_test = test_df.drop(columns=[\"paredao\", \"nome\", \"rejeicao\"], axis=1).to_numpy(), test_df.drop(columns=train_df.columns[:-1], axis=1).to_numpy()"
   ]
  },
  {
   "cell_type": "code",
   "execution_count": 32,
   "metadata": {},
   "outputs": [],
   "source": [
    "regressor = LinearRegression()"
   ]
  },
  {
   "cell_type": "code",
   "execution_count": 33,
   "metadata": {},
   "outputs": [],
   "source": [
    "_ = regressor.fit(x_train, y_train)\n",
    ""
   ]
  },
  {
   "cell_type": "code",
   "execution_count": 34,
   "metadata": {},
   "outputs": [],
   "source": [
    "prediction = regressor.predict(x_test)\n",
    "test_df[\"predicao\"] = prediction * std + mean\n",
    "test_df[\"rejeicao\"] =  test_df[\"rejeicao\"] * std + mean\n",
    "summary_df = summary_df.append(test_df, ignore_index=True, sort=False)"
   ]
  },
  {
   "cell_type": "code",
   "execution_count": 35,
   "metadata": {},
   "outputs": [
    {
     "output_type": "execute_result",
     "data": {
      "text/plain": "  paredao            nome positivos   neutros negativos  \\\n5       5    felipe_prior -0.929976 -0.658025  -0.27085   \n3       5  bianca_andrade  -1.02026 -0.785947 -0.899582   \n4       5       flayslene  -1.28984  -1.14588 -0.929292   \n\n   positivos_individual_pct  neutros_individual_pct  negativos_individual_pct  \\\n5                 -1.194126               -1.080492                  1.434791   \n3                 -0.194847                1.915866                 -0.758757   \n4                 -0.728506               -0.100085                  0.610002   \n\n   positivos_global_pct  neutros_global_pct  negativos_global_pct     day1  \\\n5              0.651048            0.648780              1.405154 -1.13232   \n3              0.197640            0.186622             -0.760323 -1.20407   \n4             -1.156289           -1.113762             -0.862651 -1.20817   \n\n       day2       day3     likes  retweets seguidores  rejeicao  predicao  \n5 -0.121505  0.0905758 -0.750906 -0.605365  -0.294954    0.2927  0.861778  \n3 -0.739473  -0.201411  -1.30525  -1.18091 -0.0635785    0.5309  0.767423  \n4 -0.865149  -0.853126  -1.20044  -1.06532  -0.406154    0.1764  0.574901  ",
      "text/html": "<div>\n<style scoped>\n    .dataframe tbody tr th:only-of-type {\n        vertical-align: middle;\n    }\n\n    .dataframe tbody tr th {\n        vertical-align: top;\n    }\n\n    .dataframe thead th {\n        text-align: right;\n    }\n</style>\n<table border=\"1\" class=\"dataframe\">\n  <thead>\n    <tr style=\"text-align: right;\">\n      <th></th>\n      <th>paredao</th>\n      <th>nome</th>\n      <th>positivos</th>\n      <th>neutros</th>\n      <th>negativos</th>\n      <th>positivos_individual_pct</th>\n      <th>neutros_individual_pct</th>\n      <th>negativos_individual_pct</th>\n      <th>positivos_global_pct</th>\n      <th>neutros_global_pct</th>\n      <th>negativos_global_pct</th>\n      <th>day1</th>\n      <th>day2</th>\n      <th>day3</th>\n      <th>likes</th>\n      <th>retweets</th>\n      <th>seguidores</th>\n      <th>rejeicao</th>\n      <th>predicao</th>\n    </tr>\n  </thead>\n  <tbody>\n    <tr>\n      <th>5</th>\n      <td>5</td>\n      <td>felipe_prior</td>\n      <td>-0.929976</td>\n      <td>-0.658025</td>\n      <td>-0.27085</td>\n      <td>-1.194126</td>\n      <td>-1.080492</td>\n      <td>1.434791</td>\n      <td>0.651048</td>\n      <td>0.648780</td>\n      <td>1.405154</td>\n      <td>-1.13232</td>\n      <td>-0.121505</td>\n      <td>0.0905758</td>\n      <td>-0.750906</td>\n      <td>-0.605365</td>\n      <td>-0.294954</td>\n      <td>0.2927</td>\n      <td>0.861778</td>\n    </tr>\n    <tr>\n      <th>3</th>\n      <td>5</td>\n      <td>bianca_andrade</td>\n      <td>-1.02026</td>\n      <td>-0.785947</td>\n      <td>-0.899582</td>\n      <td>-0.194847</td>\n      <td>1.915866</td>\n      <td>-0.758757</td>\n      <td>0.197640</td>\n      <td>0.186622</td>\n      <td>-0.760323</td>\n      <td>-1.20407</td>\n      <td>-0.739473</td>\n      <td>-0.201411</td>\n      <td>-1.30525</td>\n      <td>-1.18091</td>\n      <td>-0.0635785</td>\n      <td>0.5309</td>\n      <td>0.767423</td>\n    </tr>\n    <tr>\n      <th>4</th>\n      <td>5</td>\n      <td>flayslene</td>\n      <td>-1.28984</td>\n      <td>-1.14588</td>\n      <td>-0.929292</td>\n      <td>-0.728506</td>\n      <td>-0.100085</td>\n      <td>0.610002</td>\n      <td>-1.156289</td>\n      <td>-1.113762</td>\n      <td>-0.862651</td>\n      <td>-1.20817</td>\n      <td>-0.865149</td>\n      <td>-0.853126</td>\n      <td>-1.20044</td>\n      <td>-1.06532</td>\n      <td>-0.406154</td>\n      <td>0.1764</td>\n      <td>0.574901</td>\n    </tr>\n  </tbody>\n</table>\n</div>"
     },
     "metadata": {},
     "execution_count": 35
    }
   ],
   "source": [
    "test_df.sort_values(by=\"predicao\", ascending=False)"
   ]
  },
  {
   "cell_type": "markdown",
   "metadata": {},
   "source": [
    "# Paredao 6"
   ]
  },
  {
   "cell_type": "code",
   "execution_count": 36,
   "metadata": {},
   "outputs": [
    {
     "output_type": "execute_result",
     "data": {
      "text/plain": "  paredao             nome positivos   neutros negativos  \\\n0       6  gizelly_bicalho   1.27268   0.16086 -0.508942   \n1       6        guilherme  0.565771  0.873159   1.88115   \n2       6            pyong   1.74219    1.3431   1.80575   \n\n   positivos_individual_pct  neutros_individual_pct  negativos_individual_pct  \\\n0                  1.991995                0.207651                 -1.636633   \n1                 -1.117298               -1.715178                  1.676671   \n2                 -0.356140               -1.334381                  0.908240   \n\n   positivos_global_pct  neutros_global_pct  negativos_global_pct       day1  \\\n0             -0.027308           -0.748503             -1.355705  0.0258185   \n1             -0.699306           -0.008904              0.599788    1.88204   \n2              0.419013            0.479047              0.538096    1.20094   \n\n        day2      day3    likes  retweets seguidores  rejeicao  \n0 -0.0181127  0.141989  1.01895  0.795085  -0.260505 -1.145257  \n1   0.618018   1.60192   1.1271    1.2109  -0.406953  0.722356  \n2    1.59209   2.33981  1.29024   1.14706    1.07094  0.291757  ",
      "text/html": "<div>\n<style scoped>\n    .dataframe tbody tr th:only-of-type {\n        vertical-align: middle;\n    }\n\n    .dataframe tbody tr th {\n        vertical-align: top;\n    }\n\n    .dataframe thead th {\n        text-align: right;\n    }\n</style>\n<table border=\"1\" class=\"dataframe\">\n  <thead>\n    <tr style=\"text-align: right;\">\n      <th></th>\n      <th>paredao</th>\n      <th>nome</th>\n      <th>positivos</th>\n      <th>neutros</th>\n      <th>negativos</th>\n      <th>positivos_individual_pct</th>\n      <th>neutros_individual_pct</th>\n      <th>negativos_individual_pct</th>\n      <th>positivos_global_pct</th>\n      <th>neutros_global_pct</th>\n      <th>negativos_global_pct</th>\n      <th>day1</th>\n      <th>day2</th>\n      <th>day3</th>\n      <th>likes</th>\n      <th>retweets</th>\n      <th>seguidores</th>\n      <th>rejeicao</th>\n    </tr>\n  </thead>\n  <tbody>\n    <tr>\n      <th>0</th>\n      <td>6</td>\n      <td>gizelly_bicalho</td>\n      <td>1.27268</td>\n      <td>0.16086</td>\n      <td>-0.508942</td>\n      <td>1.991995</td>\n      <td>0.207651</td>\n      <td>-1.636633</td>\n      <td>-0.027308</td>\n      <td>-0.748503</td>\n      <td>-1.355705</td>\n      <td>0.0258185</td>\n      <td>-0.0181127</td>\n      <td>0.141989</td>\n      <td>1.01895</td>\n      <td>0.795085</td>\n      <td>-0.260505</td>\n      <td>-1.145257</td>\n    </tr>\n    <tr>\n      <th>1</th>\n      <td>6</td>\n      <td>guilherme</td>\n      <td>0.565771</td>\n      <td>0.873159</td>\n      <td>1.88115</td>\n      <td>-1.117298</td>\n      <td>-1.715178</td>\n      <td>1.676671</td>\n      <td>-0.699306</td>\n      <td>-0.008904</td>\n      <td>0.599788</td>\n      <td>1.88204</td>\n      <td>0.618018</td>\n      <td>1.60192</td>\n      <td>1.1271</td>\n      <td>1.2109</td>\n      <td>-0.406953</td>\n      <td>0.722356</td>\n    </tr>\n    <tr>\n      <th>2</th>\n      <td>6</td>\n      <td>pyong</td>\n      <td>1.74219</td>\n      <td>1.3431</td>\n      <td>1.80575</td>\n      <td>-0.356140</td>\n      <td>-1.334381</td>\n      <td>0.908240</td>\n      <td>0.419013</td>\n      <td>0.479047</td>\n      <td>0.538096</td>\n      <td>1.20094</td>\n      <td>1.59209</td>\n      <td>2.33981</td>\n      <td>1.29024</td>\n      <td>1.14706</td>\n      <td>1.07094</td>\n      <td>0.291757</td>\n    </tr>\n  </tbody>\n</table>\n</div>"
     },
     "metadata": {},
     "execution_count": 36
    }
   ],
   "source": [
    "train_df, test_df, mean, std = get_train_test(6, normalize=NORMALIZE)\n",
    "test_df\n",
    ""
   ]
  },
  {
   "cell_type": "code",
   "execution_count": 37,
   "metadata": {},
   "outputs": [],
   "source": [
    "x_train, y_train = train_df.drop(columns=[\"paredao\", \"nome\", \"rejeicao\"], axis=1).to_numpy(), train_df.drop(columns=train_df.columns[:-1], axis=1).to_numpy()\n",
    "x_test, y_test = test_df.drop(columns=[\"paredao\", \"nome\", \"rejeicao\"], axis=1).to_numpy(), test_df.drop(columns=train_df.columns[:-1], axis=1).to_numpy()"
   ]
  },
  {
   "cell_type": "code",
   "execution_count": 38,
   "metadata": {},
   "outputs": [],
   "source": [
    "regressor = LinearRegression()"
   ]
  },
  {
   "cell_type": "code",
   "execution_count": 39,
   "metadata": {},
   "outputs": [],
   "source": [
    "_ = regressor.fit(x_train, y_train)\n",
    ""
   ]
  },
  {
   "cell_type": "code",
   "execution_count": 40,
   "metadata": {},
   "outputs": [],
   "source": [
    "prediction = regressor.predict(x_test)\n",
    "test_df[\"predicao\"] = prediction * std + mean\n",
    "test_df[\"rejeicao\"] =  test_df[\"rejeicao\"] * std + mean\n",
    "summary_df = summary_df.append(test_df, ignore_index=True, sort=False)"
   ]
  },
  {
   "cell_type": "code",
   "execution_count": 41,
   "metadata": {},
   "outputs": [
    {
     "output_type": "execute_result",
     "data": {
      "text/plain": "  paredao             nome positivos   neutros negativos  \\\n1       6        guilherme  0.565771  0.873159   1.88115   \n2       6            pyong   1.74219    1.3431   1.80575   \n0       6  gizelly_bicalho   1.27268   0.16086 -0.508942   \n\n   positivos_individual_pct  neutros_individual_pct  negativos_individual_pct  \\\n1                 -1.117298               -1.715178                  1.676671   \n2                 -0.356140               -1.334381                  0.908240   \n0                  1.991995                0.207651                 -1.636633   \n\n   positivos_global_pct  neutros_global_pct  negativos_global_pct       day1  \\\n1             -0.699306           -0.008904              0.599788    1.88204   \n2              0.419013            0.479047              0.538096    1.20094   \n0             -0.027308           -0.748503             -1.355705  0.0258185   \n\n        day2      day3    likes  retweets seguidores  rejeicao  predicao  \n1   0.618018   1.60192   1.1271    1.2109  -0.406953    0.5607  1.374169  \n2    1.59209   2.33981  1.29024   1.14706    1.07094    0.4329  0.878821  \n0 -0.0181127  0.141989  1.01895  0.795085  -0.260505    0.0064  0.559376  ",
      "text/html": "<div>\n<style scoped>\n    .dataframe tbody tr th:only-of-type {\n        vertical-align: middle;\n    }\n\n    .dataframe tbody tr th {\n        vertical-align: top;\n    }\n\n    .dataframe thead th {\n        text-align: right;\n    }\n</style>\n<table border=\"1\" class=\"dataframe\">\n  <thead>\n    <tr style=\"text-align: right;\">\n      <th></th>\n      <th>paredao</th>\n      <th>nome</th>\n      <th>positivos</th>\n      <th>neutros</th>\n      <th>negativos</th>\n      <th>positivos_individual_pct</th>\n      <th>neutros_individual_pct</th>\n      <th>negativos_individual_pct</th>\n      <th>positivos_global_pct</th>\n      <th>neutros_global_pct</th>\n      <th>negativos_global_pct</th>\n      <th>day1</th>\n      <th>day2</th>\n      <th>day3</th>\n      <th>likes</th>\n      <th>retweets</th>\n      <th>seguidores</th>\n      <th>rejeicao</th>\n      <th>predicao</th>\n    </tr>\n  </thead>\n  <tbody>\n    <tr>\n      <th>1</th>\n      <td>6</td>\n      <td>guilherme</td>\n      <td>0.565771</td>\n      <td>0.873159</td>\n      <td>1.88115</td>\n      <td>-1.117298</td>\n      <td>-1.715178</td>\n      <td>1.676671</td>\n      <td>-0.699306</td>\n      <td>-0.008904</td>\n      <td>0.599788</td>\n      <td>1.88204</td>\n      <td>0.618018</td>\n      <td>1.60192</td>\n      <td>1.1271</td>\n      <td>1.2109</td>\n      <td>-0.406953</td>\n      <td>0.5607</td>\n      <td>1.374169</td>\n    </tr>\n    <tr>\n      <th>2</th>\n      <td>6</td>\n      <td>pyong</td>\n      <td>1.74219</td>\n      <td>1.3431</td>\n      <td>1.80575</td>\n      <td>-0.356140</td>\n      <td>-1.334381</td>\n      <td>0.908240</td>\n      <td>0.419013</td>\n      <td>0.479047</td>\n      <td>0.538096</td>\n      <td>1.20094</td>\n      <td>1.59209</td>\n      <td>2.33981</td>\n      <td>1.29024</td>\n      <td>1.14706</td>\n      <td>1.07094</td>\n      <td>0.4329</td>\n      <td>0.878821</td>\n    </tr>\n    <tr>\n      <th>0</th>\n      <td>6</td>\n      <td>gizelly_bicalho</td>\n      <td>1.27268</td>\n      <td>0.16086</td>\n      <td>-0.508942</td>\n      <td>1.991995</td>\n      <td>0.207651</td>\n      <td>-1.636633</td>\n      <td>-0.027308</td>\n      <td>-0.748503</td>\n      <td>-1.355705</td>\n      <td>0.0258185</td>\n      <td>-0.0181127</td>\n      <td>0.141989</td>\n      <td>1.01895</td>\n      <td>0.795085</td>\n      <td>-0.260505</td>\n      <td>0.0064</td>\n      <td>0.559376</td>\n    </tr>\n  </tbody>\n</table>\n</div>"
     },
     "metadata": {},
     "execution_count": 41
    }
   ],
   "source": [
    "test_df.sort_values(by=\"predicao\", ascending=False)"
   ]
  },
  {
   "cell_type": "markdown",
   "metadata": {},
   "source": [
    "# Paredao 7"
   ]
  },
  {
   "cell_type": "code",
   "execution_count": 42,
   "metadata": {},
   "outputs": [
    {
     "output_type": "execute_result",
     "data": {
      "text/plain": "  paredao          nome  positivos   neutros negativos  \\\n6       7          babu   0.438014 -0.255141 -0.343897   \n7       7  manu_gavassi  0.0249277 -0.410587 -0.697039   \n8       7   victor_hugo  -0.805563  -0.59485 -0.620868   \n\n   positivos_individual_pct  neutros_individual_pct  negativos_individual_pct  \\\n6                  1.083118               -0.729228                 -0.490247   \n7                  1.354673                0.370376                 -1.221758   \n8                 -0.414039                0.577555                  0.045606   \n\n   positivos_global_pct  neutros_global_pct  negativos_global_pct      day1  \\\n6              0.881111            0.265662              0.498664  -0.09518   \n7              0.145301           -0.071926             -0.461829 -0.464161   \n8             -1.334013           -0.472096             -0.254656 -0.409191   \n\n       day2      day3      likes  retweets seguidores  rejeicao  \n6    -0.196 -0.202704    1.73587  0.764825  -0.159909 -1.011832  \n7  -0.43629 -0.435194  -0.121058 -0.490864    4.29477 -0.823824  \n8 -0.788648  -0.56696 -0.0990134 -0.339671  -0.506051  1.704512  ",
      "text/html": "<div>\n<style scoped>\n    .dataframe tbody tr th:only-of-type {\n        vertical-align: middle;\n    }\n\n    .dataframe tbody tr th {\n        vertical-align: top;\n    }\n\n    .dataframe thead th {\n        text-align: right;\n    }\n</style>\n<table border=\"1\" class=\"dataframe\">\n  <thead>\n    <tr style=\"text-align: right;\">\n      <th></th>\n      <th>paredao</th>\n      <th>nome</th>\n      <th>positivos</th>\n      <th>neutros</th>\n      <th>negativos</th>\n      <th>positivos_individual_pct</th>\n      <th>neutros_individual_pct</th>\n      <th>negativos_individual_pct</th>\n      <th>positivos_global_pct</th>\n      <th>neutros_global_pct</th>\n      <th>negativos_global_pct</th>\n      <th>day1</th>\n      <th>day2</th>\n      <th>day3</th>\n      <th>likes</th>\n      <th>retweets</th>\n      <th>seguidores</th>\n      <th>rejeicao</th>\n    </tr>\n  </thead>\n  <tbody>\n    <tr>\n      <th>6</th>\n      <td>7</td>\n      <td>babu</td>\n      <td>0.438014</td>\n      <td>-0.255141</td>\n      <td>-0.343897</td>\n      <td>1.083118</td>\n      <td>-0.729228</td>\n      <td>-0.490247</td>\n      <td>0.881111</td>\n      <td>0.265662</td>\n      <td>0.498664</td>\n      <td>-0.09518</td>\n      <td>-0.196</td>\n      <td>-0.202704</td>\n      <td>1.73587</td>\n      <td>0.764825</td>\n      <td>-0.159909</td>\n      <td>-1.011832</td>\n    </tr>\n    <tr>\n      <th>7</th>\n      <td>7</td>\n      <td>manu_gavassi</td>\n      <td>0.0249277</td>\n      <td>-0.410587</td>\n      <td>-0.697039</td>\n      <td>1.354673</td>\n      <td>0.370376</td>\n      <td>-1.221758</td>\n      <td>0.145301</td>\n      <td>-0.071926</td>\n      <td>-0.461829</td>\n      <td>-0.464161</td>\n      <td>-0.43629</td>\n      <td>-0.435194</td>\n      <td>-0.121058</td>\n      <td>-0.490864</td>\n      <td>4.29477</td>\n      <td>-0.823824</td>\n    </tr>\n    <tr>\n      <th>8</th>\n      <td>7</td>\n      <td>victor_hugo</td>\n      <td>-0.805563</td>\n      <td>-0.59485</td>\n      <td>-0.620868</td>\n      <td>-0.414039</td>\n      <td>0.577555</td>\n      <td>0.045606</td>\n      <td>-1.334013</td>\n      <td>-0.472096</td>\n      <td>-0.254656</td>\n      <td>-0.409191</td>\n      <td>-0.788648</td>\n      <td>-0.56696</td>\n      <td>-0.0990134</td>\n      <td>-0.339671</td>\n      <td>-0.506051</td>\n      <td>1.704512</td>\n    </tr>\n  </tbody>\n</table>\n</div>"
     },
     "metadata": {},
     "execution_count": 42
    }
   ],
   "source": [
    "train_df, test_df, mean, std = get_train_test(7, normalize=NORMALIZE)\n",
    "test_df\n",
    ""
   ]
  },
  {
   "cell_type": "code",
   "execution_count": 43,
   "metadata": {},
   "outputs": [],
   "source": [
    "x_train, y_train = train_df.drop(columns=[\"paredao\", \"nome\", \"rejeicao\"], axis=1).to_numpy(), train_df.drop(columns=train_df.columns[:-1], axis=1).to_numpy()\n",
    "x_test, y_test = test_df.drop(columns=[\"paredao\", \"nome\", \"rejeicao\"], axis=1).to_numpy(), test_df.drop(columns=train_df.columns[:-1], axis=1).to_numpy()"
   ]
  },
  {
   "cell_type": "code",
   "execution_count": 44,
   "metadata": {},
   "outputs": [],
   "source": [
    "regressor = LinearRegression()"
   ]
  },
  {
   "cell_type": "code",
   "execution_count": 45,
   "metadata": {},
   "outputs": [],
   "source": [
    "_ = regressor.fit(x_train, y_train)\n",
    "prediction = regressor.predict(x_test)\n",
    "test_df[\"predicao\"] = prediction * std + mean\n",
    "test_df[\"rejeicao\"] =  test_df[\"rejeicao\"] * std + mean\n",
    "summary_df = summary_df.append(test_df, ignore_index=True, sort=False)"
   ]
  },
  {
   "cell_type": "code",
   "execution_count": 46,
   "metadata": {},
   "outputs": [
    {
     "output_type": "execute_result",
     "data": {
      "text/plain": "  paredao          nome  positivos   neutros negativos  \\\n8       7   victor_hugo  -0.805563  -0.59485 -0.620868   \n6       7          babu   0.438014 -0.255141 -0.343897   \n7       7  manu_gavassi  0.0249277 -0.410587 -0.697039   \n\n   positivos_individual_pct  neutros_individual_pct  negativos_individual_pct  \\\n8                 -0.414039                0.577555                  0.045606   \n6                  1.083118               -0.729228                 -0.490247   \n7                  1.354673                0.370376                 -1.221758   \n\n   positivos_global_pct  neutros_global_pct  negativos_global_pct      day1  \\\n8             -1.334013           -0.472096             -0.254656 -0.409191   \n6              0.881111            0.265662              0.498664  -0.09518   \n7              0.145301           -0.071926             -0.461829 -0.464161   \n\n       day2      day3      likes  retweets seguidores  rejeicao  predicao  \n8 -0.788648  -0.56696 -0.0990134 -0.339671  -0.506051    0.8522  0.054216  \n6    -0.196 -0.202704    1.73587  0.764825  -0.159909    0.0460 -0.626473  \n7  -0.43629 -0.435194  -0.121058 -0.490864    4.29477    0.1018 -0.767769  ",
      "text/html": "<div>\n<style scoped>\n    .dataframe tbody tr th:only-of-type {\n        vertical-align: middle;\n    }\n\n    .dataframe tbody tr th {\n        vertical-align: top;\n    }\n\n    .dataframe thead th {\n        text-align: right;\n    }\n</style>\n<table border=\"1\" class=\"dataframe\">\n  <thead>\n    <tr style=\"text-align: right;\">\n      <th></th>\n      <th>paredao</th>\n      <th>nome</th>\n      <th>positivos</th>\n      <th>neutros</th>\n      <th>negativos</th>\n      <th>positivos_individual_pct</th>\n      <th>neutros_individual_pct</th>\n      <th>negativos_individual_pct</th>\n      <th>positivos_global_pct</th>\n      <th>neutros_global_pct</th>\n      <th>negativos_global_pct</th>\n      <th>day1</th>\n      <th>day2</th>\n      <th>day3</th>\n      <th>likes</th>\n      <th>retweets</th>\n      <th>seguidores</th>\n      <th>rejeicao</th>\n      <th>predicao</th>\n    </tr>\n  </thead>\n  <tbody>\n    <tr>\n      <th>8</th>\n      <td>7</td>\n      <td>victor_hugo</td>\n      <td>-0.805563</td>\n      <td>-0.59485</td>\n      <td>-0.620868</td>\n      <td>-0.414039</td>\n      <td>0.577555</td>\n      <td>0.045606</td>\n      <td>-1.334013</td>\n      <td>-0.472096</td>\n      <td>-0.254656</td>\n      <td>-0.409191</td>\n      <td>-0.788648</td>\n      <td>-0.56696</td>\n      <td>-0.0990134</td>\n      <td>-0.339671</td>\n      <td>-0.506051</td>\n      <td>0.8522</td>\n      <td>0.054216</td>\n    </tr>\n    <tr>\n      <th>6</th>\n      <td>7</td>\n      <td>babu</td>\n      <td>0.438014</td>\n      <td>-0.255141</td>\n      <td>-0.343897</td>\n      <td>1.083118</td>\n      <td>-0.729228</td>\n      <td>-0.490247</td>\n      <td>0.881111</td>\n      <td>0.265662</td>\n      <td>0.498664</td>\n      <td>-0.09518</td>\n      <td>-0.196</td>\n      <td>-0.202704</td>\n      <td>1.73587</td>\n      <td>0.764825</td>\n      <td>-0.159909</td>\n      <td>0.0460</td>\n      <td>-0.626473</td>\n    </tr>\n    <tr>\n      <th>7</th>\n      <td>7</td>\n      <td>manu_gavassi</td>\n      <td>0.0249277</td>\n      <td>-0.410587</td>\n      <td>-0.697039</td>\n      <td>1.354673</td>\n      <td>0.370376</td>\n      <td>-1.221758</td>\n      <td>0.145301</td>\n      <td>-0.071926</td>\n      <td>-0.461829</td>\n      <td>-0.464161</td>\n      <td>-0.43629</td>\n      <td>-0.435194</td>\n      <td>-0.121058</td>\n      <td>-0.490864</td>\n      <td>4.29477</td>\n      <td>0.1018</td>\n      <td>-0.767769</td>\n    </tr>\n  </tbody>\n</table>\n</div>"
     },
     "metadata": {},
     "execution_count": 46
    }
   ],
   "source": [
    "test_df.sort_values(by=\"predicao\", ascending=False)"
   ]
  },
  {
   "cell_type": "markdown",
   "metadata": {},
   "source": [
    "# Paredao 8"
   ]
  },
  {
   "cell_type": "code",
   "execution_count": 47,
   "metadata": {},
   "outputs": [
    {
     "output_type": "execute_result",
     "data": {
      "text/plain": "   paredao   nome  positivos   neutros negativos  positivos_individual_pct  \\\n14       8   babu    1.18157  0.763987   0.75185                  0.029302   \n15       8   rafa -0.0274569 -0.024881  0.489887                 -0.688514   \n16       8  pyong    1.63812   1.96895   1.26666                 -0.332730   \n\n    neutros_individual_pct  negativos_individual_pct  positivos_global_pct  \\\n14               -0.796967                  0.355588              0.160556   \n15               -1.470623                  1.229533             -1.107595   \n16                0.224442                  0.150400              0.639438   \n\n    neutros_global_pct  negativos_global_pct      day1       day2     day3  \\\n14           -0.230273             -0.148948  0.559123    0.68888  1.63765   \n15           -1.012248             -0.386229  0.426415 -0.0563901  0.57916   \n16            0.964160              0.317356   1.42901    1.24504  2.08113   \n\n       likes  retweets seguidores  rejeicao  \n14   1.24771  0.867611  -0.159909  0.440681  \n15  -0.62435 -0.955311  -0.195388 -1.146942  \n16  0.404047  0.329395    1.07094  0.575117  ",
      "text/html": "<div>\n<style scoped>\n    .dataframe tbody tr th:only-of-type {\n        vertical-align: middle;\n    }\n\n    .dataframe tbody tr th {\n        vertical-align: top;\n    }\n\n    .dataframe thead th {\n        text-align: right;\n    }\n</style>\n<table border=\"1\" class=\"dataframe\">\n  <thead>\n    <tr style=\"text-align: right;\">\n      <th></th>\n      <th>paredao</th>\n      <th>nome</th>\n      <th>positivos</th>\n      <th>neutros</th>\n      <th>negativos</th>\n      <th>positivos_individual_pct</th>\n      <th>neutros_individual_pct</th>\n      <th>negativos_individual_pct</th>\n      <th>positivos_global_pct</th>\n      <th>neutros_global_pct</th>\n      <th>negativos_global_pct</th>\n      <th>day1</th>\n      <th>day2</th>\n      <th>day3</th>\n      <th>likes</th>\n      <th>retweets</th>\n      <th>seguidores</th>\n      <th>rejeicao</th>\n    </tr>\n  </thead>\n  <tbody>\n    <tr>\n      <th>14</th>\n      <td>8</td>\n      <td>babu</td>\n      <td>1.18157</td>\n      <td>0.763987</td>\n      <td>0.75185</td>\n      <td>0.029302</td>\n      <td>-0.796967</td>\n      <td>0.355588</td>\n      <td>0.160556</td>\n      <td>-0.230273</td>\n      <td>-0.148948</td>\n      <td>0.559123</td>\n      <td>0.68888</td>\n      <td>1.63765</td>\n      <td>1.24771</td>\n      <td>0.867611</td>\n      <td>-0.159909</td>\n      <td>0.440681</td>\n    </tr>\n    <tr>\n      <th>15</th>\n      <td>8</td>\n      <td>rafa</td>\n      <td>-0.0274569</td>\n      <td>-0.024881</td>\n      <td>0.489887</td>\n      <td>-0.688514</td>\n      <td>-1.470623</td>\n      <td>1.229533</td>\n      <td>-1.107595</td>\n      <td>-1.012248</td>\n      <td>-0.386229</td>\n      <td>0.426415</td>\n      <td>-0.0563901</td>\n      <td>0.57916</td>\n      <td>-0.62435</td>\n      <td>-0.955311</td>\n      <td>-0.195388</td>\n      <td>-1.146942</td>\n    </tr>\n    <tr>\n      <th>16</th>\n      <td>8</td>\n      <td>pyong</td>\n      <td>1.63812</td>\n      <td>1.96895</td>\n      <td>1.26666</td>\n      <td>-0.332730</td>\n      <td>0.224442</td>\n      <td>0.150400</td>\n      <td>0.639438</td>\n      <td>0.964160</td>\n      <td>0.317356</td>\n      <td>1.42901</td>\n      <td>1.24504</td>\n      <td>2.08113</td>\n      <td>0.404047</td>\n      <td>0.329395</td>\n      <td>1.07094</td>\n      <td>0.575117</td>\n    </tr>\n  </tbody>\n</table>\n</div>"
     },
     "metadata": {},
     "execution_count": 47
    }
   ],
   "source": [
    "train_df, test_df, mean, std = get_train_test(8, normalize=NORMALIZE)\n",
    "test_df\n",
    ""
   ]
  },
  {
   "cell_type": "code",
   "execution_count": 48,
   "metadata": {},
   "outputs": [],
   "source": [
    "x_train, y_train = train_df.drop(columns=[\"paredao\", \"nome\", \"rejeicao\"], axis=1).to_numpy(), train_df.drop(columns=train_df.columns[:-1], axis=1).to_numpy()\n",
    "x_test, y_test = test_df.drop(columns=[\"paredao\", \"nome\", \"rejeicao\"], axis=1).to_numpy(), test_df.drop(columns=train_df.columns[:-1], axis=1).to_numpy()"
   ]
  },
  {
   "cell_type": "code",
   "execution_count": 49,
   "metadata": {},
   "outputs": [],
   "source": [
    "regressor = LinearRegression()"
   ]
  },
  {
   "cell_type": "code",
   "execution_count": 50,
   "metadata": {},
   "outputs": [],
   "source": [
    "_ = regressor.fit(x_train, y_train)\n",
    "prediction = regressor.predict(x_test)\n",
    "test_df[\"predicao\"] = prediction * std + mean\n",
    "test_df[\"rejeicao\"] =  test_df[\"rejeicao\"] * std + mean\n",
    "summary_df = summary_df.append(test_df, ignore_index=True, sort=False)"
   ]
  },
  {
   "cell_type": "code",
   "execution_count": 51,
   "metadata": {},
   "outputs": [
    {
     "output_type": "execute_result",
     "data": {
      "text/plain": "   paredao   nome  positivos   neutros negativos  positivos_individual_pct  \\\n16       8  pyong    1.63812   1.96895   1.26666                 -0.332730   \n14       8   babu    1.18157  0.763987   0.75185                  0.029302   \n15       8   rafa -0.0274569 -0.024881  0.489887                 -0.688514   \n\n    neutros_individual_pct  negativos_individual_pct  positivos_global_pct  \\\n16                0.224442                  0.150400              0.639438   \n14               -0.796967                  0.355588              0.160556   \n15               -1.470623                  1.229533             -1.107595   \n\n    neutros_global_pct  negativos_global_pct      day1       day2     day3  \\\n16            0.964160              0.317356   1.42901    1.24504  2.08113   \n14           -0.230273             -0.148948  0.559123    0.68888  1.63765   \n15           -1.012248             -0.386229  0.426415 -0.0563901  0.57916   \n\n       likes  retweets seguidores  rejeicao  predicao  \n16  0.404047  0.329395    1.07094    0.5170  0.693544  \n14   1.24771  0.867611  -0.159909    0.4771  0.324265  \n15  -0.62435 -0.955311  -0.195388    0.0059  0.057347  ",
      "text/html": "<div>\n<style scoped>\n    .dataframe tbody tr th:only-of-type {\n        vertical-align: middle;\n    }\n\n    .dataframe tbody tr th {\n        vertical-align: top;\n    }\n\n    .dataframe thead th {\n        text-align: right;\n    }\n</style>\n<table border=\"1\" class=\"dataframe\">\n  <thead>\n    <tr style=\"text-align: right;\">\n      <th></th>\n      <th>paredao</th>\n      <th>nome</th>\n      <th>positivos</th>\n      <th>neutros</th>\n      <th>negativos</th>\n      <th>positivos_individual_pct</th>\n      <th>neutros_individual_pct</th>\n      <th>negativos_individual_pct</th>\n      <th>positivos_global_pct</th>\n      <th>neutros_global_pct</th>\n      <th>negativos_global_pct</th>\n      <th>day1</th>\n      <th>day2</th>\n      <th>day3</th>\n      <th>likes</th>\n      <th>retweets</th>\n      <th>seguidores</th>\n      <th>rejeicao</th>\n      <th>predicao</th>\n    </tr>\n  </thead>\n  <tbody>\n    <tr>\n      <th>16</th>\n      <td>8</td>\n      <td>pyong</td>\n      <td>1.63812</td>\n      <td>1.96895</td>\n      <td>1.26666</td>\n      <td>-0.332730</td>\n      <td>0.224442</td>\n      <td>0.150400</td>\n      <td>0.639438</td>\n      <td>0.964160</td>\n      <td>0.317356</td>\n      <td>1.42901</td>\n      <td>1.24504</td>\n      <td>2.08113</td>\n      <td>0.404047</td>\n      <td>0.329395</td>\n      <td>1.07094</td>\n      <td>0.5170</td>\n      <td>0.693544</td>\n    </tr>\n    <tr>\n      <th>14</th>\n      <td>8</td>\n      <td>babu</td>\n      <td>1.18157</td>\n      <td>0.763987</td>\n      <td>0.75185</td>\n      <td>0.029302</td>\n      <td>-0.796967</td>\n      <td>0.355588</td>\n      <td>0.160556</td>\n      <td>-0.230273</td>\n      <td>-0.148948</td>\n      <td>0.559123</td>\n      <td>0.68888</td>\n      <td>1.63765</td>\n      <td>1.24771</td>\n      <td>0.867611</td>\n      <td>-0.159909</td>\n      <td>0.4771</td>\n      <td>0.324265</td>\n    </tr>\n    <tr>\n      <th>15</th>\n      <td>8</td>\n      <td>rafa</td>\n      <td>-0.0274569</td>\n      <td>-0.024881</td>\n      <td>0.489887</td>\n      <td>-0.688514</td>\n      <td>-1.470623</td>\n      <td>1.229533</td>\n      <td>-1.107595</td>\n      <td>-1.012248</td>\n      <td>-0.386229</td>\n      <td>0.426415</td>\n      <td>-0.0563901</td>\n      <td>0.57916</td>\n      <td>-0.62435</td>\n      <td>-0.955311</td>\n      <td>-0.195388</td>\n      <td>0.0059</td>\n      <td>0.057347</td>\n    </tr>\n  </tbody>\n</table>\n</div>"
     },
     "metadata": {},
     "execution_count": 51
    }
   ],
   "source": [
    "test_df.sort_values(by=\"predicao\", ascending=False)"
   ]
  },
  {
   "cell_type": "markdown",
   "metadata": {},
   "source": [
    "# Paredão 9"
   ]
  },
  {
   "cell_type": "code",
   "execution_count": 52,
   "metadata": {},
   "outputs": [
    {
     "output_type": "execute_result",
     "data": {
      "text/plain": "   paredao       nome positivos   neutros   negativos  \\\n11       9     daniel  0.764581   1.09908    0.567851   \n12       9  flayslene  0.903763  0.354913    0.264601   \n13       9        ivy  0.189047  0.255439 -0.00883625   \n\n    positivos_individual_pct  neutros_individual_pct  \\\n11                 -0.344032                0.399211   \n12                  0.381434               -0.705697   \n13                 -0.102245                0.204847   \n\n    negativos_individual_pct  positivos_global_pct  neutros_global_pct  \\\n11                  0.076187              0.071349            0.514985   \n12                  0.040381              0.237738           -0.339558   \n13                 -0.018267             -0.616688           -0.453787   \n\n    negativos_global_pct      day1       day2      day3     likes  retweets  \\\n11              0.291065   1.50629  0.0590926  0.683603  0.871436  0.912203   \n12             -0.084928 -0.422657   0.936762  0.762177  0.564589  0.375273   \n13             -0.423958  0.932072  -0.387278 -0.522984  0.322476  0.273851   \n\n   seguidores  rejeicao  \n11  -0.484369  1.556262  \n12  -0.406154 -0.845388  \n13  -0.456262 -0.842018  ",
      "text/html": "<div>\n<style scoped>\n    .dataframe tbody tr th:only-of-type {\n        vertical-align: middle;\n    }\n\n    .dataframe tbody tr th {\n        vertical-align: top;\n    }\n\n    .dataframe thead th {\n        text-align: right;\n    }\n</style>\n<table border=\"1\" class=\"dataframe\">\n  <thead>\n    <tr style=\"text-align: right;\">\n      <th></th>\n      <th>paredao</th>\n      <th>nome</th>\n      <th>positivos</th>\n      <th>neutros</th>\n      <th>negativos</th>\n      <th>positivos_individual_pct</th>\n      <th>neutros_individual_pct</th>\n      <th>negativos_individual_pct</th>\n      <th>positivos_global_pct</th>\n      <th>neutros_global_pct</th>\n      <th>negativos_global_pct</th>\n      <th>day1</th>\n      <th>day2</th>\n      <th>day3</th>\n      <th>likes</th>\n      <th>retweets</th>\n      <th>seguidores</th>\n      <th>rejeicao</th>\n    </tr>\n  </thead>\n  <tbody>\n    <tr>\n      <th>11</th>\n      <td>9</td>\n      <td>daniel</td>\n      <td>0.764581</td>\n      <td>1.09908</td>\n      <td>0.567851</td>\n      <td>-0.344032</td>\n      <td>0.399211</td>\n      <td>0.076187</td>\n      <td>0.071349</td>\n      <td>0.514985</td>\n      <td>0.291065</td>\n      <td>1.50629</td>\n      <td>0.0590926</td>\n      <td>0.683603</td>\n      <td>0.871436</td>\n      <td>0.912203</td>\n      <td>-0.484369</td>\n      <td>1.556262</td>\n    </tr>\n    <tr>\n      <th>12</th>\n      <td>9</td>\n      <td>flayslene</td>\n      <td>0.903763</td>\n      <td>0.354913</td>\n      <td>0.264601</td>\n      <td>0.381434</td>\n      <td>-0.705697</td>\n      <td>0.040381</td>\n      <td>0.237738</td>\n      <td>-0.339558</td>\n      <td>-0.084928</td>\n      <td>-0.422657</td>\n      <td>0.936762</td>\n      <td>0.762177</td>\n      <td>0.564589</td>\n      <td>0.375273</td>\n      <td>-0.406154</td>\n      <td>-0.845388</td>\n    </tr>\n    <tr>\n      <th>13</th>\n      <td>9</td>\n      <td>ivy</td>\n      <td>0.189047</td>\n      <td>0.255439</td>\n      <td>-0.00883625</td>\n      <td>-0.102245</td>\n      <td>0.204847</td>\n      <td>-0.018267</td>\n      <td>-0.616688</td>\n      <td>-0.453787</td>\n      <td>-0.423958</td>\n      <td>0.932072</td>\n      <td>-0.387278</td>\n      <td>-0.522984</td>\n      <td>0.322476</td>\n      <td>0.273851</td>\n      <td>-0.456262</td>\n      <td>-0.842018</td>\n    </tr>\n  </tbody>\n</table>\n</div>"
     },
     "metadata": {},
     "execution_count": 52
    }
   ],
   "source": [
    "train_df, test_df, mean, std = get_train_test(9, normalize=NORMALIZE)\n",
    "test_df\n",
    ""
   ]
  },
  {
   "cell_type": "code",
   "execution_count": 53,
   "metadata": {},
   "outputs": [],
   "source": [
    "x_train, y_train = train_df.drop(columns=[\"paredao\", \"nome\", \"rejeicao\"], axis=1).to_numpy(), train_df.drop(columns=train_df.columns[:-1], axis=1).to_numpy()\n",
    "x_test, y_test = test_df.drop(columns=[\"paredao\", \"nome\", \"rejeicao\"], axis=1).to_numpy(), test_df.drop(columns=train_df.columns[:-1], axis=1).to_numpy()"
   ]
  },
  {
   "cell_type": "code",
   "execution_count": 54,
   "metadata": {},
   "outputs": [],
   "source": [
    "regressor = LinearRegression()"
   ]
  },
  {
   "cell_type": "code",
   "execution_count": 55,
   "metadata": {},
   "outputs": [],
   "source": [
    "_ = regressor.fit(x_train, y_train)\n",
    "prediction = regressor.predict(x_test)\n",
    "test_df[\"predicao\"] = prediction * std + mean\n",
    "test_df[\"rejeicao\"] =  test_df[\"rejeicao\"] * std + mean\n",
    "summary_df = summary_df.append(test_df, ignore_index=True, sort=False)"
   ]
  },
  {
   "cell_type": "code",
   "execution_count": 56,
   "metadata": {},
   "outputs": [
    {
     "output_type": "execute_result",
     "data": {
      "text/plain": "   paredao       nome positivos   neutros   negativos  \\\n11       9     daniel  0.764581   1.09908    0.567851   \n13       9        ivy  0.189047  0.255439 -0.00883625   \n12       9  flayslene  0.903763  0.354913    0.264601   \n\n    positivos_individual_pct  neutros_individual_pct  \\\n11                 -0.344032                0.399211   \n13                 -0.102245                0.204847   \n12                  0.381434               -0.705697   \n\n    negativos_individual_pct  positivos_global_pct  neutros_global_pct  \\\n11                  0.076187              0.071349            0.514985   \n13                 -0.018267             -0.616688           -0.453787   \n12                  0.040381              0.237738           -0.339558   \n\n    negativos_global_pct      day1       day2      day3     likes  retweets  \\\n11              0.291065   1.50629  0.0590926  0.683603  0.871436  0.912203   \n13             -0.423958  0.932072  -0.387278 -0.522984  0.322476  0.273851   \n12             -0.084928 -0.422657   0.936762  0.762177  0.564589  0.375273   \n\n   seguidores  rejeicao  predicao  \n11  -0.484369    0.8082  0.846985  \n13  -0.456262    0.0964  0.500537  \n12  -0.406154    0.0954  0.030438  ",
      "text/html": "<div>\n<style scoped>\n    .dataframe tbody tr th:only-of-type {\n        vertical-align: middle;\n    }\n\n    .dataframe tbody tr th {\n        vertical-align: top;\n    }\n\n    .dataframe thead th {\n        text-align: right;\n    }\n</style>\n<table border=\"1\" class=\"dataframe\">\n  <thead>\n    <tr style=\"text-align: right;\">\n      <th></th>\n      <th>paredao</th>\n      <th>nome</th>\n      <th>positivos</th>\n      <th>neutros</th>\n      <th>negativos</th>\n      <th>positivos_individual_pct</th>\n      <th>neutros_individual_pct</th>\n      <th>negativos_individual_pct</th>\n      <th>positivos_global_pct</th>\n      <th>neutros_global_pct</th>\n      <th>negativos_global_pct</th>\n      <th>day1</th>\n      <th>day2</th>\n      <th>day3</th>\n      <th>likes</th>\n      <th>retweets</th>\n      <th>seguidores</th>\n      <th>rejeicao</th>\n      <th>predicao</th>\n    </tr>\n  </thead>\n  <tbody>\n    <tr>\n      <th>11</th>\n      <td>9</td>\n      <td>daniel</td>\n      <td>0.764581</td>\n      <td>1.09908</td>\n      <td>0.567851</td>\n      <td>-0.344032</td>\n      <td>0.399211</td>\n      <td>0.076187</td>\n      <td>0.071349</td>\n      <td>0.514985</td>\n      <td>0.291065</td>\n      <td>1.50629</td>\n      <td>0.0590926</td>\n      <td>0.683603</td>\n      <td>0.871436</td>\n      <td>0.912203</td>\n      <td>-0.484369</td>\n      <td>0.8082</td>\n      <td>0.846985</td>\n    </tr>\n    <tr>\n      <th>13</th>\n      <td>9</td>\n      <td>ivy</td>\n      <td>0.189047</td>\n      <td>0.255439</td>\n      <td>-0.00883625</td>\n      <td>-0.102245</td>\n      <td>0.204847</td>\n      <td>-0.018267</td>\n      <td>-0.616688</td>\n      <td>-0.453787</td>\n      <td>-0.423958</td>\n      <td>0.932072</td>\n      <td>-0.387278</td>\n      <td>-0.522984</td>\n      <td>0.322476</td>\n      <td>0.273851</td>\n      <td>-0.456262</td>\n      <td>0.0964</td>\n      <td>0.500537</td>\n    </tr>\n    <tr>\n      <th>12</th>\n      <td>9</td>\n      <td>flayslene</td>\n      <td>0.903763</td>\n      <td>0.354913</td>\n      <td>0.264601</td>\n      <td>0.381434</td>\n      <td>-0.705697</td>\n      <td>0.040381</td>\n      <td>0.237738</td>\n      <td>-0.339558</td>\n      <td>-0.084928</td>\n      <td>-0.422657</td>\n      <td>0.936762</td>\n      <td>0.762177</td>\n      <td>0.564589</td>\n      <td>0.375273</td>\n      <td>-0.406154</td>\n      <td>0.0954</td>\n      <td>0.030438</td>\n    </tr>\n  </tbody>\n</table>\n</div>"
     },
     "metadata": {},
     "execution_count": 56
    }
   ],
   "source": [
    "test_df.sort_values(by=\"predicao\", ascending=False)"
   ]
  },
  {
   "cell_type": "markdown",
   "metadata": {},
   "source": [
    "# Sumarizando"
   ]
  },
  {
   "cell_type": "code",
   "execution_count": 57,
   "metadata": {},
   "outputs": [
    {
     "output_type": "execute_result",
     "data": {
      "text/plain": "   paredao             nome  positivos   neutros   negativos  \\\n0        1   bianca_andrade  -0.900023  -1.04798     -1.0553   \n1        1     lucas_chumbo  -0.850146  -0.53389   -0.509813   \n2        2             babu   -1.07877   -1.0647    -1.05223   \n3        2           petrix   0.876038    2.2864     1.95783   \n4        2            pyong    1.16819 -0.122693   -0.586855   \n5        2           hadson   0.441636   1.31715     1.52099   \n6        3     felipe_prior    -1.2174  -1.18865    -1.06801   \n7        3           hadson   -1.28427  -1.07587    -1.04378   \n8        4             babu  -0.668193 -0.532228    -0.28504   \n9        4      victor_hugo   -1.21976  -1.10986   -0.992964   \n10       4            lucas  0.0851142  0.128164    0.366743   \n11       5   bianca_andrade   -1.02026 -0.785947   -0.899582   \n12       5        flayslene   -1.28984  -1.14588   -0.929292   \n13       5     felipe_prior  -0.929976 -0.658025    -0.27085   \n14       6  gizelly_bicalho    1.27268   0.16086   -0.508942   \n15       6        guilherme   0.565771  0.873159     1.88115   \n16       6            pyong    1.74219    1.3431     1.80575   \n17       7             babu   0.438014 -0.255141   -0.343897   \n18       7     manu_gavassi  0.0249277 -0.410587   -0.697039   \n19       7      victor_hugo  -0.805563  -0.59485   -0.620868   \n20       8             babu    1.18157  0.763987     0.75185   \n21       8             rafa -0.0274569 -0.024881    0.489887   \n22       8            pyong    1.63812   1.96895     1.26666   \n23       9           daniel   0.764581   1.09908    0.567851   \n24       9        flayslene   0.903763  0.354913    0.264601   \n25       9              ivy   0.189047  0.255439 -0.00883625   \n\n    positivos_individual_pct  neutros_individual_pct  \\\n0                   1.657885                0.816811   \n1                  -0.773887                0.407289   \n2                   0.850817                1.393069   \n3                  -1.189603                0.136132   \n4                   2.354321               -0.346501   \n5                  -1.172673               -0.507002   \n6                   0.588933                0.772922   \n7                  -0.375359                2.249568   \n8                  -0.668861               -0.770937   \n9                  -0.121918                0.779612   \n10                 -0.517700               -0.898261   \n11                 -0.194847                1.915866   \n12                 -0.728506               -0.100085   \n13                 -1.194126               -1.080492   \n14                  1.991995                0.207651   \n15                 -1.117298               -1.715178   \n16                 -0.356140               -1.334381   \n17                  1.083118               -0.729228   \n18                  1.354673                0.370376   \n19                 -0.414039                0.577555   \n20                  0.029302               -0.796967   \n21                 -0.688514               -1.470623   \n22                 -0.332730                0.224442   \n23                 -0.344032                0.399211   \n24                  0.381434               -0.705697   \n25                 -0.102245                0.204847   \n\n    negativos_individual_pct  positivos_global_pct  neutros_global_pct  \\\n0                  -1.667742              1.094863           -0.143366   \n1                   0.404260              1.365944            2.370248   \n2                  -1.318048             -2.226367           -2.110050   \n3                   0.853930             -0.234910            0.729794   \n4                  -1.653416              0.062723           -1.311760   \n5                   1.146068             -0.677456           -0.091587   \n6                  -0.821538              1.601810            0.601755   \n7                  -0.777741              0.858997            1.625128   \n8                   0.882312             -0.280046           -0.157625   \n9                  -0.275840             -1.736065           -1.515309   \n10                  0.826018              1.708510            1.394574   \n11                 -0.758757              0.197640            0.186622   \n12                  0.610002             -1.156289           -1.113762   \n13                  1.434791              0.651048            0.648780   \n14                 -1.636633             -0.027308           -0.748503   \n15                  1.676671             -0.699306           -0.008904   \n16                  0.908240              0.419013            0.479047   \n17                 -0.490247              0.881111            0.265662   \n18                 -1.221758              0.145301           -0.071926   \n19                  0.045606             -1.334013           -0.472096   \n20                  0.355588              0.160556           -0.230273   \n21                  1.229533             -1.107595           -1.012248   \n22                  0.150400              0.639438            0.964160   \n23                  0.076187              0.071349            0.514985   \n24                  0.040381              0.237738           -0.339558   \n25                 -0.018267             -0.616688           -0.453787   \n\n    negativos_global_pct       day1       day2       day3      likes  \\\n0              -0.788016  -0.953554  -0.974505  -0.933802   -1.04018   \n1               2.530582   0.146492  -0.996246  -0.923455   -0.78605   \n2              -1.798090  -0.969362  -0.968379   -1.13978   -1.13226   \n3               0.697161    1.70256    2.21954   0.348125    1.53127   \n4              -1.412308   -0.51913   0.263925  -0.208201   0.408731   \n5               0.335030   0.309385    2.42134  -0.370685   0.924943   \n6               0.692723   -1.26002  -0.943818  -0.918282   -1.01388   \n7               1.049843   -1.21025  -0.940294  -0.856198    -1.2196   \n8              -0.035193  -0.145466  -0.453911  -0.891605  -0.837975   \n9              -1.450490  -0.888761   -1.06526    -1.1068   -1.18502   \n10              1.267863   0.762153 -0.0934205  -0.134962  -0.131374   \n11             -0.760323   -1.20407  -0.739473  -0.201411   -1.30525   \n12             -0.862651   -1.20817  -0.865149  -0.853126   -1.20044   \n13              1.405154   -1.13232  -0.121505  0.0905758  -0.750906   \n14             -1.355705  0.0258185 -0.0181127   0.141989    1.01895   \n15              0.599788    1.88204   0.618018    1.60192     1.1271   \n16              0.538096    1.20094    1.59209    2.33981    1.29024   \n17              0.498664   -0.09518     -0.196  -0.202704    1.73587   \n18             -0.461829  -0.464161   -0.43629  -0.435194  -0.121058   \n19             -0.254656  -0.409191  -0.788648   -0.56696 -0.0990134   \n20             -0.148948   0.559123    0.68888    1.63765    1.24771   \n21             -0.386229   0.426415 -0.0563901    0.57916   -0.62435   \n22              0.317356    1.42901    1.24504    2.08113   0.404047   \n23              0.291065    1.50629  0.0590926   0.683603   0.871436   \n24             -0.084928  -0.422657   0.936762   0.762177   0.564589   \n25             -0.423958   0.932072  -0.387278  -0.522984   0.322476   \n\n     retweets seguidores  rejeicao  predicao  \n0   -0.992055 -0.0635785    0.2446 -0.031844  \n1   -0.628783  -0.508706    0.7594  0.878061  \n2   -0.992979  -0.159909    0.0044  0.101551  \n3     2.48549  -0.497129    0.8027  0.759157  \n4    0.457068    1.07094    0.0066 -0.392612  \n5     1.55074  -0.510718    0.1863  0.156128  \n6   -0.877413  -0.294954    0.2029  0.365071  \n7    -1.07128  -0.510718    0.7971  0.842786  \n8   -0.849973  -0.159909    0.0130  0.036548  \n9    -1.06138  -0.506051    0.3608  0.205853  \n10 -0.0581943  -0.495731    0.6262  0.206181  \n11   -1.18091 -0.0635785    0.5309  0.767423  \n12   -1.06532  -0.406154    0.1764  0.574901  \n13  -0.605365  -0.294954    0.2927  0.861778  \n14   0.795085  -0.260505    0.0064  0.559376  \n15     1.2109  -0.406953    0.5607  1.374169  \n16    1.14706    1.07094    0.4329  0.878821  \n17   0.764825  -0.159909    0.0460 -0.626473  \n18  -0.490864    4.29477    0.1018 -0.767769  \n19  -0.339671  -0.506051    0.8522  0.054216  \n20   0.867611  -0.159909    0.4771  0.324265  \n21  -0.955311  -0.195388    0.0059  0.057347  \n22   0.329395    1.07094    0.5170  0.693544  \n23   0.912203  -0.484369    0.8082  0.846985  \n24   0.375273  -0.406154    0.0954  0.030438  \n25   0.273851  -0.456262    0.0964  0.500537  ",
      "text/html": "<div>\n<style scoped>\n    .dataframe tbody tr th:only-of-type {\n        vertical-align: middle;\n    }\n\n    .dataframe tbody tr th {\n        vertical-align: top;\n    }\n\n    .dataframe thead th {\n        text-align: right;\n    }\n</style>\n<table border=\"1\" class=\"dataframe\">\n  <thead>\n    <tr style=\"text-align: right;\">\n      <th></th>\n      <th>paredao</th>\n      <th>nome</th>\n      <th>positivos</th>\n      <th>neutros</th>\n      <th>negativos</th>\n      <th>positivos_individual_pct</th>\n      <th>neutros_individual_pct</th>\n      <th>negativos_individual_pct</th>\n      <th>positivos_global_pct</th>\n      <th>neutros_global_pct</th>\n      <th>negativos_global_pct</th>\n      <th>day1</th>\n      <th>day2</th>\n      <th>day3</th>\n      <th>likes</th>\n      <th>retweets</th>\n      <th>seguidores</th>\n      <th>rejeicao</th>\n      <th>predicao</th>\n    </tr>\n  </thead>\n  <tbody>\n    <tr>\n      <th>0</th>\n      <td>1</td>\n      <td>bianca_andrade</td>\n      <td>-0.900023</td>\n      <td>-1.04798</td>\n      <td>-1.0553</td>\n      <td>1.657885</td>\n      <td>0.816811</td>\n      <td>-1.667742</td>\n      <td>1.094863</td>\n      <td>-0.143366</td>\n      <td>-0.788016</td>\n      <td>-0.953554</td>\n      <td>-0.974505</td>\n      <td>-0.933802</td>\n      <td>-1.04018</td>\n      <td>-0.992055</td>\n      <td>-0.0635785</td>\n      <td>0.2446</td>\n      <td>-0.031844</td>\n    </tr>\n    <tr>\n      <th>1</th>\n      <td>1</td>\n      <td>lucas_chumbo</td>\n      <td>-0.850146</td>\n      <td>-0.53389</td>\n      <td>-0.509813</td>\n      <td>-0.773887</td>\n      <td>0.407289</td>\n      <td>0.404260</td>\n      <td>1.365944</td>\n      <td>2.370248</td>\n      <td>2.530582</td>\n      <td>0.146492</td>\n      <td>-0.996246</td>\n      <td>-0.923455</td>\n      <td>-0.78605</td>\n      <td>-0.628783</td>\n      <td>-0.508706</td>\n      <td>0.7594</td>\n      <td>0.878061</td>\n    </tr>\n    <tr>\n      <th>2</th>\n      <td>2</td>\n      <td>babu</td>\n      <td>-1.07877</td>\n      <td>-1.0647</td>\n      <td>-1.05223</td>\n      <td>0.850817</td>\n      <td>1.393069</td>\n      <td>-1.318048</td>\n      <td>-2.226367</td>\n      <td>-2.110050</td>\n      <td>-1.798090</td>\n      <td>-0.969362</td>\n      <td>-0.968379</td>\n      <td>-1.13978</td>\n      <td>-1.13226</td>\n      <td>-0.992979</td>\n      <td>-0.159909</td>\n      <td>0.0044</td>\n      <td>0.101551</td>\n    </tr>\n    <tr>\n      <th>3</th>\n      <td>2</td>\n      <td>petrix</td>\n      <td>0.876038</td>\n      <td>2.2864</td>\n      <td>1.95783</td>\n      <td>-1.189603</td>\n      <td>0.136132</td>\n      <td>0.853930</td>\n      <td>-0.234910</td>\n      <td>0.729794</td>\n      <td>0.697161</td>\n      <td>1.70256</td>\n      <td>2.21954</td>\n      <td>0.348125</td>\n      <td>1.53127</td>\n      <td>2.48549</td>\n      <td>-0.497129</td>\n      <td>0.8027</td>\n      <td>0.759157</td>\n    </tr>\n    <tr>\n      <th>4</th>\n      <td>2</td>\n      <td>pyong</td>\n      <td>1.16819</td>\n      <td>-0.122693</td>\n      <td>-0.586855</td>\n      <td>2.354321</td>\n      <td>-0.346501</td>\n      <td>-1.653416</td>\n      <td>0.062723</td>\n      <td>-1.311760</td>\n      <td>-1.412308</td>\n      <td>-0.51913</td>\n      <td>0.263925</td>\n      <td>-0.208201</td>\n      <td>0.408731</td>\n      <td>0.457068</td>\n      <td>1.07094</td>\n      <td>0.0066</td>\n      <td>-0.392612</td>\n    </tr>\n    <tr>\n      <th>5</th>\n      <td>2</td>\n      <td>hadson</td>\n      <td>0.441636</td>\n      <td>1.31715</td>\n      <td>1.52099</td>\n      <td>-1.172673</td>\n      <td>-0.507002</td>\n      <td>1.146068</td>\n      <td>-0.677456</td>\n      <td>-0.091587</td>\n      <td>0.335030</td>\n      <td>0.309385</td>\n      <td>2.42134</td>\n      <td>-0.370685</td>\n      <td>0.924943</td>\n      <td>1.55074</td>\n      <td>-0.510718</td>\n      <td>0.1863</td>\n      <td>0.156128</td>\n    </tr>\n    <tr>\n      <th>6</th>\n      <td>3</td>\n      <td>felipe_prior</td>\n      <td>-1.2174</td>\n      <td>-1.18865</td>\n      <td>-1.06801</td>\n      <td>0.588933</td>\n      <td>0.772922</td>\n      <td>-0.821538</td>\n      <td>1.601810</td>\n      <td>0.601755</td>\n      <td>0.692723</td>\n      <td>-1.26002</td>\n      <td>-0.943818</td>\n      <td>-0.918282</td>\n      <td>-1.01388</td>\n      <td>-0.877413</td>\n      <td>-0.294954</td>\n      <td>0.2029</td>\n      <td>0.365071</td>\n    </tr>\n    <tr>\n      <th>7</th>\n      <td>3</td>\n      <td>hadson</td>\n      <td>-1.28427</td>\n      <td>-1.07587</td>\n      <td>-1.04378</td>\n      <td>-0.375359</td>\n      <td>2.249568</td>\n      <td>-0.777741</td>\n      <td>0.858997</td>\n      <td>1.625128</td>\n      <td>1.049843</td>\n      <td>-1.21025</td>\n      <td>-0.940294</td>\n      <td>-0.856198</td>\n      <td>-1.2196</td>\n      <td>-1.07128</td>\n      <td>-0.510718</td>\n      <td>0.7971</td>\n      <td>0.842786</td>\n    </tr>\n    <tr>\n      <th>8</th>\n      <td>4</td>\n      <td>babu</td>\n      <td>-0.668193</td>\n      <td>-0.532228</td>\n      <td>-0.28504</td>\n      <td>-0.668861</td>\n      <td>-0.770937</td>\n      <td>0.882312</td>\n      <td>-0.280046</td>\n      <td>-0.157625</td>\n      <td>-0.035193</td>\n      <td>-0.145466</td>\n      <td>-0.453911</td>\n      <td>-0.891605</td>\n      <td>-0.837975</td>\n      <td>-0.849973</td>\n      <td>-0.159909</td>\n      <td>0.0130</td>\n      <td>0.036548</td>\n    </tr>\n    <tr>\n      <th>9</th>\n      <td>4</td>\n      <td>victor_hugo</td>\n      <td>-1.21976</td>\n      <td>-1.10986</td>\n      <td>-0.992964</td>\n      <td>-0.121918</td>\n      <td>0.779612</td>\n      <td>-0.275840</td>\n      <td>-1.736065</td>\n      <td>-1.515309</td>\n      <td>-1.450490</td>\n      <td>-0.888761</td>\n      <td>-1.06526</td>\n      <td>-1.1068</td>\n      <td>-1.18502</td>\n      <td>-1.06138</td>\n      <td>-0.506051</td>\n      <td>0.3608</td>\n      <td>0.205853</td>\n    </tr>\n    <tr>\n      <th>10</th>\n      <td>4</td>\n      <td>lucas</td>\n      <td>0.0851142</td>\n      <td>0.128164</td>\n      <td>0.366743</td>\n      <td>-0.517700</td>\n      <td>-0.898261</td>\n      <td>0.826018</td>\n      <td>1.708510</td>\n      <td>1.394574</td>\n      <td>1.267863</td>\n      <td>0.762153</td>\n      <td>-0.0934205</td>\n      <td>-0.134962</td>\n      <td>-0.131374</td>\n      <td>-0.0581943</td>\n      <td>-0.495731</td>\n      <td>0.6262</td>\n      <td>0.206181</td>\n    </tr>\n    <tr>\n      <th>11</th>\n      <td>5</td>\n      <td>bianca_andrade</td>\n      <td>-1.02026</td>\n      <td>-0.785947</td>\n      <td>-0.899582</td>\n      <td>-0.194847</td>\n      <td>1.915866</td>\n      <td>-0.758757</td>\n      <td>0.197640</td>\n      <td>0.186622</td>\n      <td>-0.760323</td>\n      <td>-1.20407</td>\n      <td>-0.739473</td>\n      <td>-0.201411</td>\n      <td>-1.30525</td>\n      <td>-1.18091</td>\n      <td>-0.0635785</td>\n      <td>0.5309</td>\n      <td>0.767423</td>\n    </tr>\n    <tr>\n      <th>12</th>\n      <td>5</td>\n      <td>flayslene</td>\n      <td>-1.28984</td>\n      <td>-1.14588</td>\n      <td>-0.929292</td>\n      <td>-0.728506</td>\n      <td>-0.100085</td>\n      <td>0.610002</td>\n      <td>-1.156289</td>\n      <td>-1.113762</td>\n      <td>-0.862651</td>\n      <td>-1.20817</td>\n      <td>-0.865149</td>\n      <td>-0.853126</td>\n      <td>-1.20044</td>\n      <td>-1.06532</td>\n      <td>-0.406154</td>\n      <td>0.1764</td>\n      <td>0.574901</td>\n    </tr>\n    <tr>\n      <th>13</th>\n      <td>5</td>\n      <td>felipe_prior</td>\n      <td>-0.929976</td>\n      <td>-0.658025</td>\n      <td>-0.27085</td>\n      <td>-1.194126</td>\n      <td>-1.080492</td>\n      <td>1.434791</td>\n      <td>0.651048</td>\n      <td>0.648780</td>\n      <td>1.405154</td>\n      <td>-1.13232</td>\n      <td>-0.121505</td>\n      <td>0.0905758</td>\n      <td>-0.750906</td>\n      <td>-0.605365</td>\n      <td>-0.294954</td>\n      <td>0.2927</td>\n      <td>0.861778</td>\n    </tr>\n    <tr>\n      <th>14</th>\n      <td>6</td>\n      <td>gizelly_bicalho</td>\n      <td>1.27268</td>\n      <td>0.16086</td>\n      <td>-0.508942</td>\n      <td>1.991995</td>\n      <td>0.207651</td>\n      <td>-1.636633</td>\n      <td>-0.027308</td>\n      <td>-0.748503</td>\n      <td>-1.355705</td>\n      <td>0.0258185</td>\n      <td>-0.0181127</td>\n      <td>0.141989</td>\n      <td>1.01895</td>\n      <td>0.795085</td>\n      <td>-0.260505</td>\n      <td>0.0064</td>\n      <td>0.559376</td>\n    </tr>\n    <tr>\n      <th>15</th>\n      <td>6</td>\n      <td>guilherme</td>\n      <td>0.565771</td>\n      <td>0.873159</td>\n      <td>1.88115</td>\n      <td>-1.117298</td>\n      <td>-1.715178</td>\n      <td>1.676671</td>\n      <td>-0.699306</td>\n      <td>-0.008904</td>\n      <td>0.599788</td>\n      <td>1.88204</td>\n      <td>0.618018</td>\n      <td>1.60192</td>\n      <td>1.1271</td>\n      <td>1.2109</td>\n      <td>-0.406953</td>\n      <td>0.5607</td>\n      <td>1.374169</td>\n    </tr>\n    <tr>\n      <th>16</th>\n      <td>6</td>\n      <td>pyong</td>\n      <td>1.74219</td>\n      <td>1.3431</td>\n      <td>1.80575</td>\n      <td>-0.356140</td>\n      <td>-1.334381</td>\n      <td>0.908240</td>\n      <td>0.419013</td>\n      <td>0.479047</td>\n      <td>0.538096</td>\n      <td>1.20094</td>\n      <td>1.59209</td>\n      <td>2.33981</td>\n      <td>1.29024</td>\n      <td>1.14706</td>\n      <td>1.07094</td>\n      <td>0.4329</td>\n      <td>0.878821</td>\n    </tr>\n    <tr>\n      <th>17</th>\n      <td>7</td>\n      <td>babu</td>\n      <td>0.438014</td>\n      <td>-0.255141</td>\n      <td>-0.343897</td>\n      <td>1.083118</td>\n      <td>-0.729228</td>\n      <td>-0.490247</td>\n      <td>0.881111</td>\n      <td>0.265662</td>\n      <td>0.498664</td>\n      <td>-0.09518</td>\n      <td>-0.196</td>\n      <td>-0.202704</td>\n      <td>1.73587</td>\n      <td>0.764825</td>\n      <td>-0.159909</td>\n      <td>0.0460</td>\n      <td>-0.626473</td>\n    </tr>\n    <tr>\n      <th>18</th>\n      <td>7</td>\n      <td>manu_gavassi</td>\n      <td>0.0249277</td>\n      <td>-0.410587</td>\n      <td>-0.697039</td>\n      <td>1.354673</td>\n      <td>0.370376</td>\n      <td>-1.221758</td>\n      <td>0.145301</td>\n      <td>-0.071926</td>\n      <td>-0.461829</td>\n      <td>-0.464161</td>\n      <td>-0.43629</td>\n      <td>-0.435194</td>\n      <td>-0.121058</td>\n      <td>-0.490864</td>\n      <td>4.29477</td>\n      <td>0.1018</td>\n      <td>-0.767769</td>\n    </tr>\n    <tr>\n      <th>19</th>\n      <td>7</td>\n      <td>victor_hugo</td>\n      <td>-0.805563</td>\n      <td>-0.59485</td>\n      <td>-0.620868</td>\n      <td>-0.414039</td>\n      <td>0.577555</td>\n      <td>0.045606</td>\n      <td>-1.334013</td>\n      <td>-0.472096</td>\n      <td>-0.254656</td>\n      <td>-0.409191</td>\n      <td>-0.788648</td>\n      <td>-0.56696</td>\n      <td>-0.0990134</td>\n      <td>-0.339671</td>\n      <td>-0.506051</td>\n      <td>0.8522</td>\n      <td>0.054216</td>\n    </tr>\n    <tr>\n      <th>20</th>\n      <td>8</td>\n      <td>babu</td>\n      <td>1.18157</td>\n      <td>0.763987</td>\n      <td>0.75185</td>\n      <td>0.029302</td>\n      <td>-0.796967</td>\n      <td>0.355588</td>\n      <td>0.160556</td>\n      <td>-0.230273</td>\n      <td>-0.148948</td>\n      <td>0.559123</td>\n      <td>0.68888</td>\n      <td>1.63765</td>\n      <td>1.24771</td>\n      <td>0.867611</td>\n      <td>-0.159909</td>\n      <td>0.4771</td>\n      <td>0.324265</td>\n    </tr>\n    <tr>\n      <th>21</th>\n      <td>8</td>\n      <td>rafa</td>\n      <td>-0.0274569</td>\n      <td>-0.024881</td>\n      <td>0.489887</td>\n      <td>-0.688514</td>\n      <td>-1.470623</td>\n      <td>1.229533</td>\n      <td>-1.107595</td>\n      <td>-1.012248</td>\n      <td>-0.386229</td>\n      <td>0.426415</td>\n      <td>-0.0563901</td>\n      <td>0.57916</td>\n      <td>-0.62435</td>\n      <td>-0.955311</td>\n      <td>-0.195388</td>\n      <td>0.0059</td>\n      <td>0.057347</td>\n    </tr>\n    <tr>\n      <th>22</th>\n      <td>8</td>\n      <td>pyong</td>\n      <td>1.63812</td>\n      <td>1.96895</td>\n      <td>1.26666</td>\n      <td>-0.332730</td>\n      <td>0.224442</td>\n      <td>0.150400</td>\n      <td>0.639438</td>\n      <td>0.964160</td>\n      <td>0.317356</td>\n      <td>1.42901</td>\n      <td>1.24504</td>\n      <td>2.08113</td>\n      <td>0.404047</td>\n      <td>0.329395</td>\n      <td>1.07094</td>\n      <td>0.5170</td>\n      <td>0.693544</td>\n    </tr>\n    <tr>\n      <th>23</th>\n      <td>9</td>\n      <td>daniel</td>\n      <td>0.764581</td>\n      <td>1.09908</td>\n      <td>0.567851</td>\n      <td>-0.344032</td>\n      <td>0.399211</td>\n      <td>0.076187</td>\n      <td>0.071349</td>\n      <td>0.514985</td>\n      <td>0.291065</td>\n      <td>1.50629</td>\n      <td>0.0590926</td>\n      <td>0.683603</td>\n      <td>0.871436</td>\n      <td>0.912203</td>\n      <td>-0.484369</td>\n      <td>0.8082</td>\n      <td>0.846985</td>\n    </tr>\n    <tr>\n      <th>24</th>\n      <td>9</td>\n      <td>flayslene</td>\n      <td>0.903763</td>\n      <td>0.354913</td>\n      <td>0.264601</td>\n      <td>0.381434</td>\n      <td>-0.705697</td>\n      <td>0.040381</td>\n      <td>0.237738</td>\n      <td>-0.339558</td>\n      <td>-0.084928</td>\n      <td>-0.422657</td>\n      <td>0.936762</td>\n      <td>0.762177</td>\n      <td>0.564589</td>\n      <td>0.375273</td>\n      <td>-0.406154</td>\n      <td>0.0954</td>\n      <td>0.030438</td>\n    </tr>\n    <tr>\n      <th>25</th>\n      <td>9</td>\n      <td>ivy</td>\n      <td>0.189047</td>\n      <td>0.255439</td>\n      <td>-0.00883625</td>\n      <td>-0.102245</td>\n      <td>0.204847</td>\n      <td>-0.018267</td>\n      <td>-0.616688</td>\n      <td>-0.453787</td>\n      <td>-0.423958</td>\n      <td>0.932072</td>\n      <td>-0.387278</td>\n      <td>-0.522984</td>\n      <td>0.322476</td>\n      <td>0.273851</td>\n      <td>-0.456262</td>\n      <td>0.0964</td>\n      <td>0.500537</td>\n    </tr>\n  </tbody>\n</table>\n</div>"
     },
     "metadata": {},
     "execution_count": 57
    }
   ],
   "source": [
    "summary_df"
   ]
  },
  {
   "cell_type": "code",
   "execution_count": null,
   "metadata": {},
   "outputs": [],
   "source": []
  }
 ]
}