{
 "nbformat": 4,
 "nbformat_minor": 2,
 "metadata": {
  "language_info": {
   "name": "python",
   "codemirror_mode": {
    "name": "ipython",
    "version": 3
   },
   "version": "3.6.9-final"
  },
  "orig_nbformat": 2,
  "file_extension": ".py",
  "mimetype": "text/x-python",
  "name": "python",
  "npconvert_exporter": "python",
  "pygments_lexer": "ipython3",
  "version": 3,
  "kernelspec": {
   "name": "python36964bitbertvirtualenv054cbb15ab924922a35a349b12e89805",
   "display_name": "Python 3.6.9 64-bit ('bert': virtualenv)"
  }
 },
 "cells": [
  {
   "cell_type": "markdown",
   "metadata": {},
   "source": [
    "# Experimentos baseados em regressão linear"
   ]
  },
  {
   "cell_type": "markdown",
   "metadata": {},
   "source": [
    "- Utilizando cada paredão como teste e avaliando com holdout."
   ]
  },
  {
   "cell_type": "code",
   "execution_count": 1,
   "metadata": {},
   "outputs": [],
   "source": [
    "import pandas as pd \n",
    "import numpy as np \n",
    "from regression_utils import *\n",
    "from sklearn.linear_model import LinearRegression"
   ]
  },
  {
   "cell_type": "code",
   "execution_count": 2,
   "metadata": {},
   "outputs": [],
   "source": [
    "NORMALIZE = True\n",
    "REMOVE = []"
   ]
  },
  {
   "cell_type": "code",
   "execution_count": 3,
   "metadata": {},
   "outputs": [],
   "source": [
    "summary_df = pd.DataFrame(columns=set(COLUMNS) - set(REMOVE))"
   ]
  },
  {
   "cell_type": "markdown",
   "metadata": {},
   "source": [
    "# Paredao 1"
   ]
  },
  {
   "cell_type": "code",
   "execution_count": 4,
   "metadata": {},
   "outputs": [],
   "source": [
    "train_df, test_df, mean, std = get_train_test(1, normalize=NORMALIZE, drop_columns=REMOVE)"
   ]
  },
  {
   "cell_type": "code",
   "execution_count": 5,
   "metadata": {},
   "outputs": [
    {
     "output_type": "execute_result",
     "data": {
      "text/plain": "   paredao            nome  positivos   neutros  negativos  \\\n24       1  bianca_andrade  -0.764653 -0.687151  -0.991063   \n25       1    lucas_chumbo  -0.737221 -0.473612  -0.575669   \n\n    positivos_individual_pct  neutros_individual_pct  \\\n24                  1.691474                0.694588   \n25                 -0.868480                0.297313   \n\n    negativos_individual_pct  positivos_global_pct  neutros_global_pct  \\\n24                 -1.691078              1.119272           -0.126126   \n25                  0.525974              1.391614            2.390624   \n\n    negativos_global_pct      day1      day2      day3     likes  retweets  \\\n24             -0.822482 -1.094324 -0.743429 -0.586597 -0.874608 -0.869489   \n25              2.702153 -0.036008 -0.755088 -0.582931 -0.709855 -0.610597   \n\n    seguidores  rejeicao  \n24   -0.167656 -0.347670  \n25   -0.526805  1.455205  ",
      "text/html": "<div>\n<style scoped>\n    .dataframe tbody tr th:only-of-type {\n        vertical-align: middle;\n    }\n\n    .dataframe tbody tr th {\n        vertical-align: top;\n    }\n\n    .dataframe thead th {\n        text-align: right;\n    }\n</style>\n<table border=\"1\" class=\"dataframe\">\n  <thead>\n    <tr style=\"text-align: right;\">\n      <th></th>\n      <th>paredao</th>\n      <th>nome</th>\n      <th>positivos</th>\n      <th>neutros</th>\n      <th>negativos</th>\n      <th>positivos_individual_pct</th>\n      <th>neutros_individual_pct</th>\n      <th>negativos_individual_pct</th>\n      <th>positivos_global_pct</th>\n      <th>neutros_global_pct</th>\n      <th>negativos_global_pct</th>\n      <th>day1</th>\n      <th>day2</th>\n      <th>day3</th>\n      <th>likes</th>\n      <th>retweets</th>\n      <th>seguidores</th>\n      <th>rejeicao</th>\n    </tr>\n  </thead>\n  <tbody>\n    <tr>\n      <th>24</th>\n      <td>1</td>\n      <td>bianca_andrade</td>\n      <td>-0.764653</td>\n      <td>-0.687151</td>\n      <td>-0.991063</td>\n      <td>1.691474</td>\n      <td>0.694588</td>\n      <td>-1.691078</td>\n      <td>1.119272</td>\n      <td>-0.126126</td>\n      <td>-0.822482</td>\n      <td>-1.094324</td>\n      <td>-0.743429</td>\n      <td>-0.586597</td>\n      <td>-0.874608</td>\n      <td>-0.869489</td>\n      <td>-0.167656</td>\n      <td>-0.347670</td>\n    </tr>\n    <tr>\n      <th>25</th>\n      <td>1</td>\n      <td>lucas_chumbo</td>\n      <td>-0.737221</td>\n      <td>-0.473612</td>\n      <td>-0.575669</td>\n      <td>-0.868480</td>\n      <td>0.297313</td>\n      <td>0.525974</td>\n      <td>1.391614</td>\n      <td>2.390624</td>\n      <td>2.702153</td>\n      <td>-0.036008</td>\n      <td>-0.755088</td>\n      <td>-0.582931</td>\n      <td>-0.709855</td>\n      <td>-0.610597</td>\n      <td>-0.526805</td>\n      <td>1.455205</td>\n    </tr>\n  </tbody>\n</table>\n</div>"
     },
     "metadata": {},
     "execution_count": 5
    }
   ],
   "source": [
    "test_df"
   ]
  },
  {
   "cell_type": "code",
   "execution_count": 6,
   "metadata": {},
   "outputs": [],
   "source": [
    "x_train, y_train = train_df.drop(columns=[\"paredao\", \"nome\", \"rejeicao\"], axis=1).to_numpy(), train_df.drop(columns=train_df.columns[:-1], axis=1).to_numpy()\n",
    "x_test, y_test = test_df.drop(columns=[\"paredao\", \"nome\", \"rejeicao\"], axis=1).to_numpy(), test_df.drop(columns=train_df.columns[:-1], axis=1).to_numpy()"
   ]
  },
  {
   "cell_type": "code",
   "execution_count": 7,
   "metadata": {},
   "outputs": [],
   "source": [
    "regressor = LinearRegression()"
   ]
  },
  {
   "cell_type": "code",
   "execution_count": 8,
   "metadata": {},
   "outputs": [],
   "source": [
    "_ = regressor.fit(x_train, y_train)"
   ]
  },
  {
   "cell_type": "code",
   "execution_count": 9,
   "metadata": {},
   "outputs": [],
   "source": [
    "prediction = regressor.predict(x_test)\n",
    "test_df[\"predicao\"] = prediction * std + mean\n",
    "test_df[\"rejeicao\"] =  test_df[\"rejeicao\"] * std + mean\n",
    "summary_df = summary_df.append(test_df, ignore_index=True, sort=False)"
   ]
  },
  {
   "cell_type": "code",
   "execution_count": 10,
   "metadata": {},
   "outputs": [
    {
     "output_type": "execute_result",
     "data": {
      "text/plain": "   paredao            nome  positivos   neutros  negativos  \\\n25       1    lucas_chumbo  -0.737221 -0.473612  -0.575669   \n24       1  bianca_andrade  -0.764653 -0.687151  -0.991063   \n\n    positivos_individual_pct  neutros_individual_pct  \\\n25                 -0.868480                0.297313   \n24                  1.691474                0.694588   \n\n    negativos_individual_pct  positivos_global_pct  neutros_global_pct  \\\n25                  0.525974              1.391614            2.390624   \n24                 -1.691078              1.119272           -0.126126   \n\n    negativos_global_pct      day1      day2      day3     likes  retweets  \\\n25              2.702153 -0.036008 -0.755088 -0.582931 -0.709855 -0.610597   \n24             -0.822482 -1.094324 -0.743429 -0.586597 -0.874608 -0.869489   \n\n    seguidores  rejeicao  predicao  \n25   -0.526805    0.7594  1.042913  \n24   -0.167656    0.2446 -0.028511  ",
      "text/html": "<div>\n<style scoped>\n    .dataframe tbody tr th:only-of-type {\n        vertical-align: middle;\n    }\n\n    .dataframe tbody tr th {\n        vertical-align: top;\n    }\n\n    .dataframe thead th {\n        text-align: right;\n    }\n</style>\n<table border=\"1\" class=\"dataframe\">\n  <thead>\n    <tr style=\"text-align: right;\">\n      <th></th>\n      <th>paredao</th>\n      <th>nome</th>\n      <th>positivos</th>\n      <th>neutros</th>\n      <th>negativos</th>\n      <th>positivos_individual_pct</th>\n      <th>neutros_individual_pct</th>\n      <th>negativos_individual_pct</th>\n      <th>positivos_global_pct</th>\n      <th>neutros_global_pct</th>\n      <th>negativos_global_pct</th>\n      <th>day1</th>\n      <th>day2</th>\n      <th>day3</th>\n      <th>likes</th>\n      <th>retweets</th>\n      <th>seguidores</th>\n      <th>rejeicao</th>\n      <th>predicao</th>\n    </tr>\n  </thead>\n  <tbody>\n    <tr>\n      <th>25</th>\n      <td>1</td>\n      <td>lucas_chumbo</td>\n      <td>-0.737221</td>\n      <td>-0.473612</td>\n      <td>-0.575669</td>\n      <td>-0.868480</td>\n      <td>0.297313</td>\n      <td>0.525974</td>\n      <td>1.391614</td>\n      <td>2.390624</td>\n      <td>2.702153</td>\n      <td>-0.036008</td>\n      <td>-0.755088</td>\n      <td>-0.582931</td>\n      <td>-0.709855</td>\n      <td>-0.610597</td>\n      <td>-0.526805</td>\n      <td>0.7594</td>\n      <td>1.042913</td>\n    </tr>\n    <tr>\n      <th>24</th>\n      <td>1</td>\n      <td>bianca_andrade</td>\n      <td>-0.764653</td>\n      <td>-0.687151</td>\n      <td>-0.991063</td>\n      <td>1.691474</td>\n      <td>0.694588</td>\n      <td>-1.691078</td>\n      <td>1.119272</td>\n      <td>-0.126126</td>\n      <td>-0.822482</td>\n      <td>-1.094324</td>\n      <td>-0.743429</td>\n      <td>-0.586597</td>\n      <td>-0.874608</td>\n      <td>-0.869489</td>\n      <td>-0.167656</td>\n      <td>0.2446</td>\n      <td>-0.028511</td>\n    </tr>\n  </tbody>\n</table>\n</div>"
     },
     "metadata": {},
     "execution_count": 10
    }
   ],
   "source": [
    "test_df.sort_values(by=\"predicao\", ascending=False)"
   ]
  },
  {
   "cell_type": "markdown",
   "metadata": {},
   "source": [
    "# Paredao 2"
   ]
  },
  {
   "cell_type": "code",
   "execution_count": 11,
   "metadata": {},
   "outputs": [
    {
     "output_type": "execute_result",
     "data": {
      "text/plain": "   paredao    nome  positivos   neutros  negativos  positivos_individual_pct  \\\n20       2    babu  -0.862961 -0.694095  -0.988723                  0.841864   \n21       2  petrix   0.212150  0.697860   1.303452                 -1.306109   \n22       2   pyong   0.372831 -0.302812  -0.634337                  2.424619   \n23       2  hadson  -0.026763  0.295259   0.970794                 -1.288287   \n\n    neutros_individual_pct  negativos_individual_pct  positivos_global_pct  \\\n20                1.253614                 -1.316904             -2.217411   \n21                0.034264                  1.007125             -0.216688   \n22               -0.433936                 -1.675749              0.082330   \n23               -0.589637                  1.319713             -0.661293   \n\n    neutros_global_pct  negativos_global_pct      day1      day2      day3  \\\n20           -2.095263             -1.895266 -1.109533 -0.740144 -0.659565   \n21            0.748123              0.754903  1.461031  0.969403 -0.132466   \n22           -1.295977             -1.485532 -0.676380 -0.079311 -0.329548   \n23           -0.074282              0.370290  0.120705  1.077618 -0.387109   \n\n       likes  retweets  seguidores  rejeicao  \n20 -0.934305 -0.870147   -0.245379 -1.188871  \n21  0.792470  1.608845   -0.517464  1.606845  \n22  0.064725  0.163253    0.747726 -1.181167  \n23  0.399386  0.942679   -0.528428 -0.551841  ",
      "text/html": "<div>\n<style scoped>\n    .dataframe tbody tr th:only-of-type {\n        vertical-align: middle;\n    }\n\n    .dataframe tbody tr th {\n        vertical-align: top;\n    }\n\n    .dataframe thead th {\n        text-align: right;\n    }\n</style>\n<table border=\"1\" class=\"dataframe\">\n  <thead>\n    <tr style=\"text-align: right;\">\n      <th></th>\n      <th>paredao</th>\n      <th>nome</th>\n      <th>positivos</th>\n      <th>neutros</th>\n      <th>negativos</th>\n      <th>positivos_individual_pct</th>\n      <th>neutros_individual_pct</th>\n      <th>negativos_individual_pct</th>\n      <th>positivos_global_pct</th>\n      <th>neutros_global_pct</th>\n      <th>negativos_global_pct</th>\n      <th>day1</th>\n      <th>day2</th>\n      <th>day3</th>\n      <th>likes</th>\n      <th>retweets</th>\n      <th>seguidores</th>\n      <th>rejeicao</th>\n    </tr>\n  </thead>\n  <tbody>\n    <tr>\n      <th>20</th>\n      <td>2</td>\n      <td>babu</td>\n      <td>-0.862961</td>\n      <td>-0.694095</td>\n      <td>-0.988723</td>\n      <td>0.841864</td>\n      <td>1.253614</td>\n      <td>-1.316904</td>\n      <td>-2.217411</td>\n      <td>-2.095263</td>\n      <td>-1.895266</td>\n      <td>-1.109533</td>\n      <td>-0.740144</td>\n      <td>-0.659565</td>\n      <td>-0.934305</td>\n      <td>-0.870147</td>\n      <td>-0.245379</td>\n      <td>-1.188871</td>\n    </tr>\n    <tr>\n      <th>21</th>\n      <td>2</td>\n      <td>petrix</td>\n      <td>0.212150</td>\n      <td>0.697860</td>\n      <td>1.303452</td>\n      <td>-1.306109</td>\n      <td>0.034264</td>\n      <td>1.007125</td>\n      <td>-0.216688</td>\n      <td>0.748123</td>\n      <td>0.754903</td>\n      <td>1.461031</td>\n      <td>0.969403</td>\n      <td>-0.132466</td>\n      <td>0.792470</td>\n      <td>1.608845</td>\n      <td>-0.517464</td>\n      <td>1.606845</td>\n    </tr>\n    <tr>\n      <th>22</th>\n      <td>2</td>\n      <td>pyong</td>\n      <td>0.372831</td>\n      <td>-0.302812</td>\n      <td>-0.634337</td>\n      <td>2.424619</td>\n      <td>-0.433936</td>\n      <td>-1.675749</td>\n      <td>0.082330</td>\n      <td>-1.295977</td>\n      <td>-1.485532</td>\n      <td>-0.676380</td>\n      <td>-0.079311</td>\n      <td>-0.329548</td>\n      <td>0.064725</td>\n      <td>0.163253</td>\n      <td>0.747726</td>\n      <td>-1.181167</td>\n    </tr>\n    <tr>\n      <th>23</th>\n      <td>2</td>\n      <td>hadson</td>\n      <td>-0.026763</td>\n      <td>0.295259</td>\n      <td>0.970794</td>\n      <td>-1.288287</td>\n      <td>-0.589637</td>\n      <td>1.319713</td>\n      <td>-0.661293</td>\n      <td>-0.074282</td>\n      <td>0.370290</td>\n      <td>0.120705</td>\n      <td>1.077618</td>\n      <td>-0.387109</td>\n      <td>0.399386</td>\n      <td>0.942679</td>\n      <td>-0.528428</td>\n      <td>-0.551841</td>\n    </tr>\n  </tbody>\n</table>\n</div>"
     },
     "metadata": {},
     "execution_count": 11
    }
   ],
   "source": [
    "train_df, test_df, mean, std = get_train_test(2, normalize=NORMALIZE, drop_columns=REMOVE)\n",
    "test_df\n",
    ""
   ]
  },
  {
   "cell_type": "code",
   "execution_count": 12,
   "metadata": {},
   "outputs": [],
   "source": [
    "x_train, y_train = train_df.drop(columns=[\"paredao\", \"nome\", \"rejeicao\"], axis=1).to_numpy(), train_df.drop(columns=train_df.columns[:-1], axis=1).to_numpy()\n",
    "x_test, y_test = test_df.drop(columns=[\"paredao\", \"nome\", \"rejeicao\"], axis=1).to_numpy(), test_df.drop(columns=train_df.columns[:-1], axis=1).to_numpy()"
   ]
  },
  {
   "cell_type": "code",
   "execution_count": 13,
   "metadata": {},
   "outputs": [],
   "source": [
    "regressor = LinearRegression()"
   ]
  },
  {
   "cell_type": "code",
   "execution_count": 14,
   "metadata": {},
   "outputs": [],
   "source": [
    "_ = regressor.fit(x_train, y_train)\n",
    ""
   ]
  },
  {
   "cell_type": "code",
   "execution_count": 15,
   "metadata": {},
   "outputs": [],
   "source": [
    "prediction = regressor.predict(x_test)\n",
    "test_df[\"predicao\"] = prediction * std + mean\n",
    "test_df[\"rejeicao\"] =  test_df[\"rejeicao\"] * std + mean\n",
    "summary_df = summary_df.append(test_df, ignore_index=True, sort=False)"
   ]
  },
  {
   "cell_type": "code",
   "execution_count": 16,
   "metadata": {},
   "outputs": [
    {
     "output_type": "execute_result",
     "data": {
      "text/plain": "   paredao    nome  positivos   neutros  negativos  positivos_individual_pct  \\\n20       2    babu  -0.862961 -0.694095  -0.988723                  0.841864   \n21       2  petrix   0.212150  0.697860   1.303452                 -1.306109   \n22       2   pyong   0.372831 -0.302812  -0.634337                  2.424619   \n23       2  hadson  -0.026763  0.295259   0.970794                 -1.288287   \n\n    neutros_individual_pct  negativos_individual_pct  positivos_global_pct  \\\n20                1.253614                 -1.316904             -2.217411   \n21                0.034264                  1.007125             -0.216688   \n22               -0.433936                 -1.675749              0.082330   \n23               -0.589637                  1.319713             -0.661293   \n\n    neutros_global_pct  negativos_global_pct      day1      day2      day3  \\\n20           -2.095263             -1.895266 -1.109533 -0.740144 -0.659565   \n21            0.748123              0.754903  1.461031  0.969403 -0.132466   \n22           -1.295977             -1.485532 -0.676380 -0.079311 -0.329548   \n23           -0.074282              0.370290  0.120705  1.077618 -0.387109   \n\n       likes  retweets  seguidores  rejeicao  predicao  \n20 -0.934305 -0.870147   -0.245379    0.0044  0.090817  \n21  0.792470  1.608845   -0.517464    0.8027  0.034876  \n22  0.064725  0.163253    0.747726    0.0066 -0.273731  \n23  0.399386  0.942679   -0.528428    0.1863 -0.577521  ",
      "text/html": "<div>\n<style scoped>\n    .dataframe tbody tr th:only-of-type {\n        vertical-align: middle;\n    }\n\n    .dataframe tbody tr th {\n        vertical-align: top;\n    }\n\n    .dataframe thead th {\n        text-align: right;\n    }\n</style>\n<table border=\"1\" class=\"dataframe\">\n  <thead>\n    <tr style=\"text-align: right;\">\n      <th></th>\n      <th>paredao</th>\n      <th>nome</th>\n      <th>positivos</th>\n      <th>neutros</th>\n      <th>negativos</th>\n      <th>positivos_individual_pct</th>\n      <th>neutros_individual_pct</th>\n      <th>negativos_individual_pct</th>\n      <th>positivos_global_pct</th>\n      <th>neutros_global_pct</th>\n      <th>negativos_global_pct</th>\n      <th>day1</th>\n      <th>day2</th>\n      <th>day3</th>\n      <th>likes</th>\n      <th>retweets</th>\n      <th>seguidores</th>\n      <th>rejeicao</th>\n      <th>predicao</th>\n    </tr>\n  </thead>\n  <tbody>\n    <tr>\n      <th>20</th>\n      <td>2</td>\n      <td>babu</td>\n      <td>-0.862961</td>\n      <td>-0.694095</td>\n      <td>-0.988723</td>\n      <td>0.841864</td>\n      <td>1.253614</td>\n      <td>-1.316904</td>\n      <td>-2.217411</td>\n      <td>-2.095263</td>\n      <td>-1.895266</td>\n      <td>-1.109533</td>\n      <td>-0.740144</td>\n      <td>-0.659565</td>\n      <td>-0.934305</td>\n      <td>-0.870147</td>\n      <td>-0.245379</td>\n      <td>0.0044</td>\n      <td>0.090817</td>\n    </tr>\n    <tr>\n      <th>21</th>\n      <td>2</td>\n      <td>petrix</td>\n      <td>0.212150</td>\n      <td>0.697860</td>\n      <td>1.303452</td>\n      <td>-1.306109</td>\n      <td>0.034264</td>\n      <td>1.007125</td>\n      <td>-0.216688</td>\n      <td>0.748123</td>\n      <td>0.754903</td>\n      <td>1.461031</td>\n      <td>0.969403</td>\n      <td>-0.132466</td>\n      <td>0.792470</td>\n      <td>1.608845</td>\n      <td>-0.517464</td>\n      <td>0.8027</td>\n      <td>0.034876</td>\n    </tr>\n    <tr>\n      <th>22</th>\n      <td>2</td>\n      <td>pyong</td>\n      <td>0.372831</td>\n      <td>-0.302812</td>\n      <td>-0.634337</td>\n      <td>2.424619</td>\n      <td>-0.433936</td>\n      <td>-1.675749</td>\n      <td>0.082330</td>\n      <td>-1.295977</td>\n      <td>-1.485532</td>\n      <td>-0.676380</td>\n      <td>-0.079311</td>\n      <td>-0.329548</td>\n      <td>0.064725</td>\n      <td>0.163253</td>\n      <td>0.747726</td>\n      <td>0.0066</td>\n      <td>-0.273731</td>\n    </tr>\n    <tr>\n      <th>23</th>\n      <td>2</td>\n      <td>hadson</td>\n      <td>-0.026763</td>\n      <td>0.295259</td>\n      <td>0.970794</td>\n      <td>-1.288287</td>\n      <td>-0.589637</td>\n      <td>1.319713</td>\n      <td>-0.661293</td>\n      <td>-0.074282</td>\n      <td>0.370290</td>\n      <td>0.120705</td>\n      <td>1.077618</td>\n      <td>-0.387109</td>\n      <td>0.399386</td>\n      <td>0.942679</td>\n      <td>-0.528428</td>\n      <td>0.1863</td>\n      <td>-0.577521</td>\n    </tr>\n  </tbody>\n</table>\n</div>"
     },
     "metadata": {},
     "execution_count": 16
    }
   ],
   "source": [
    "test_df.sort_values(by=\"predicao\", ascending=False)"
   ]
  },
  {
   "cell_type": "markdown",
   "metadata": {},
   "source": [
    "# Paredao 3"
   ]
  },
  {
   "cell_type": "code",
   "execution_count": 17,
   "metadata": {},
   "outputs": [
    {
     "output_type": "execute_result",
     "data": {
      "text/plain": "   paredao          nome  positivos   neutros  negativos  \\\n9        3  felipe_prior  -0.939202 -0.745581  -1.000737   \n10       3        hadson  -0.975982 -0.698737  -0.982286   \n\n    positivos_individual_pct  neutros_individual_pct  \\\n9                   0.566176                0.652012   \n10                 -0.448945                2.084500   \n\n    negativos_individual_pct  positivos_global_pct  neutros_global_pct  \\\n9                  -0.785636              1.628578            0.619924   \n10                 -0.738772              0.882308            1.644574   \n\n    negativos_global_pct      day1      day2      day3     likes  retweets  \\\n9               0.750190 -1.389163 -0.726973 -0.581098 -0.857558 -0.787787   \n10              1.129482 -1.341286 -0.725083 -0.559105 -0.990926 -0.925952   \n\n    seguidores  rejeicao  \n9    -0.354340 -0.493707  \n10   -0.528428  1.587234  ",
      "text/html": "<div>\n<style scoped>\n    .dataframe tbody tr th:only-of-type {\n        vertical-align: middle;\n    }\n\n    .dataframe tbody tr th {\n        vertical-align: top;\n    }\n\n    .dataframe thead th {\n        text-align: right;\n    }\n</style>\n<table border=\"1\" class=\"dataframe\">\n  <thead>\n    <tr style=\"text-align: right;\">\n      <th></th>\n      <th>paredao</th>\n      <th>nome</th>\n      <th>positivos</th>\n      <th>neutros</th>\n      <th>negativos</th>\n      <th>positivos_individual_pct</th>\n      <th>neutros_individual_pct</th>\n      <th>negativos_individual_pct</th>\n      <th>positivos_global_pct</th>\n      <th>neutros_global_pct</th>\n      <th>negativos_global_pct</th>\n      <th>day1</th>\n      <th>day2</th>\n      <th>day3</th>\n      <th>likes</th>\n      <th>retweets</th>\n      <th>seguidores</th>\n      <th>rejeicao</th>\n    </tr>\n  </thead>\n  <tbody>\n    <tr>\n      <th>9</th>\n      <td>3</td>\n      <td>felipe_prior</td>\n      <td>-0.939202</td>\n      <td>-0.745581</td>\n      <td>-1.000737</td>\n      <td>0.566176</td>\n      <td>0.652012</td>\n      <td>-0.785636</td>\n      <td>1.628578</td>\n      <td>0.619924</td>\n      <td>0.750190</td>\n      <td>-1.389163</td>\n      <td>-0.726973</td>\n      <td>-0.581098</td>\n      <td>-0.857558</td>\n      <td>-0.787787</td>\n      <td>-0.354340</td>\n      <td>-0.493707</td>\n    </tr>\n    <tr>\n      <th>10</th>\n      <td>3</td>\n      <td>hadson</td>\n      <td>-0.975982</td>\n      <td>-0.698737</td>\n      <td>-0.982286</td>\n      <td>-0.448945</td>\n      <td>2.084500</td>\n      <td>-0.738772</td>\n      <td>0.882308</td>\n      <td>1.644574</td>\n      <td>1.129482</td>\n      <td>-1.341286</td>\n      <td>-0.725083</td>\n      <td>-0.559105</td>\n      <td>-0.990926</td>\n      <td>-0.925952</td>\n      <td>-0.528428</td>\n      <td>1.587234</td>\n    </tr>\n  </tbody>\n</table>\n</div>"
     },
     "metadata": {},
     "execution_count": 17
    }
   ],
   "source": [
    "train_df, test_df, mean, std = get_train_test(3, normalize=NORMALIZE, drop_columns=REMOVE)\n",
    "test_df\n",
    ""
   ]
  },
  {
   "cell_type": "code",
   "execution_count": 18,
   "metadata": {},
   "outputs": [],
   "source": [
    "x_train, y_train = train_df.drop(columns=[\"paredao\", \"nome\", \"rejeicao\"], axis=1).to_numpy(), train_df.drop(columns=train_df.columns[:-1], axis=1).to_numpy()\n",
    "x_test, y_test = test_df.drop(columns=[\"paredao\", \"nome\", \"rejeicao\"], axis=1).to_numpy(), test_df.drop(columns=train_df.columns[:-1], axis=1).to_numpy()"
   ]
  },
  {
   "cell_type": "code",
   "execution_count": 19,
   "metadata": {},
   "outputs": [],
   "source": [
    "regressor = LinearRegression()"
   ]
  },
  {
   "cell_type": "code",
   "execution_count": 20,
   "metadata": {},
   "outputs": [],
   "source": [
    "_ = regressor.fit(x_train, y_train)"
   ]
  },
  {
   "cell_type": "code",
   "execution_count": 21,
   "metadata": {},
   "outputs": [],
   "source": [
    "prediction = regressor.predict(x_test)\n",
    "test_df[\"predicao\"] = prediction * std + mean\n",
    "test_df[\"rejeicao\"] =  test_df[\"rejeicao\"] * std + mean\n",
    "summary_df = summary_df.append(test_df, ignore_index=True, sort=False)"
   ]
  },
  {
   "cell_type": "code",
   "execution_count": 22,
   "metadata": {},
   "outputs": [
    {
     "output_type": "execute_result",
     "data": {
      "text/plain": "   paredao          nome  positivos   neutros  negativos  \\\n10       3        hadson  -0.975982 -0.698737  -0.982286   \n9        3  felipe_prior  -0.939202 -0.745581  -1.000737   \n\n    positivos_individual_pct  neutros_individual_pct  \\\n10                 -0.448945                2.084500   \n9                   0.566176                0.652012   \n\n    negativos_individual_pct  positivos_global_pct  neutros_global_pct  \\\n10                 -0.738772              0.882308            1.644574   \n9                  -0.785636              1.628578            0.619924   \n\n    negativos_global_pct      day1      day2      day3     likes  retweets  \\\n10              1.129482 -1.341286 -0.725083 -0.559105 -0.990926 -0.925952   \n9               0.750190 -1.389163 -0.726973 -0.581098 -0.857558 -0.787787   \n\n    seguidores  rejeicao  predicao  \n10   -0.528428    0.7971  0.850779  \n9    -0.354340    0.2029  0.217177  ",
      "text/html": "<div>\n<style scoped>\n    .dataframe tbody tr th:only-of-type {\n        vertical-align: middle;\n    }\n\n    .dataframe tbody tr th {\n        vertical-align: top;\n    }\n\n    .dataframe thead th {\n        text-align: right;\n    }\n</style>\n<table border=\"1\" class=\"dataframe\">\n  <thead>\n    <tr style=\"text-align: right;\">\n      <th></th>\n      <th>paredao</th>\n      <th>nome</th>\n      <th>positivos</th>\n      <th>neutros</th>\n      <th>negativos</th>\n      <th>positivos_individual_pct</th>\n      <th>neutros_individual_pct</th>\n      <th>negativos_individual_pct</th>\n      <th>positivos_global_pct</th>\n      <th>neutros_global_pct</th>\n      <th>negativos_global_pct</th>\n      <th>day1</th>\n      <th>day2</th>\n      <th>day3</th>\n      <th>likes</th>\n      <th>retweets</th>\n      <th>seguidores</th>\n      <th>rejeicao</th>\n      <th>predicao</th>\n    </tr>\n  </thead>\n  <tbody>\n    <tr>\n      <th>10</th>\n      <td>3</td>\n      <td>hadson</td>\n      <td>-0.975982</td>\n      <td>-0.698737</td>\n      <td>-0.982286</td>\n      <td>-0.448945</td>\n      <td>2.084500</td>\n      <td>-0.738772</td>\n      <td>0.882308</td>\n      <td>1.644574</td>\n      <td>1.129482</td>\n      <td>-1.341286</td>\n      <td>-0.725083</td>\n      <td>-0.559105</td>\n      <td>-0.990926</td>\n      <td>-0.925952</td>\n      <td>-0.528428</td>\n      <td>0.7971</td>\n      <td>0.850779</td>\n    </tr>\n    <tr>\n      <th>9</th>\n      <td>3</td>\n      <td>felipe_prior</td>\n      <td>-0.939202</td>\n      <td>-0.745581</td>\n      <td>-1.000737</td>\n      <td>0.566176</td>\n      <td>0.652012</td>\n      <td>-0.785636</td>\n      <td>1.628578</td>\n      <td>0.619924</td>\n      <td>0.750190</td>\n      <td>-1.389163</td>\n      <td>-0.726973</td>\n      <td>-0.581098</td>\n      <td>-0.857558</td>\n      <td>-0.787787</td>\n      <td>-0.354340</td>\n      <td>0.2029</td>\n      <td>0.217177</td>\n    </tr>\n  </tbody>\n</table>\n</div>"
     },
     "metadata": {},
     "execution_count": 22
    }
   ],
   "source": [
    "test_df.sort_values(by=\"predicao\", ascending=False)"
   ]
  },
  {
   "cell_type": "markdown",
   "metadata": {},
   "source": [
    "# Paredao 4"
   ]
  },
  {
   "cell_type": "code",
   "execution_count": 23,
   "metadata": {},
   "outputs": [
    {
     "output_type": "execute_result",
     "data": {
      "text/plain": "   paredao         nome  positivos   neutros  negativos  \\\n29       4         babu  -0.637150 -0.472922  -0.404503   \n30       4  victor_hugo  -0.940505 -0.712856  -0.943591   \n31       4        lucas  -0.222844 -0.198613   0.091832   \n\n    positivos_individual_pct  neutros_individual_pct  \\\n29                 -0.757918               -0.845679   \n30                 -0.182145                0.658502   \n31                 -0.598789               -0.969196   \n\n    negativos_individual_pct  positivos_global_pct  neutros_global_pct  \\\n29                  1.037492             -0.262035           -0.140402   \n30                 -0.201736             -1.724828           -1.499780   \n31                  0.977258              1.735774            1.413732   \n\n    negativos_global_pct      day1      day2      day3     likes  retweets  \\\n29             -0.022919 -0.316891 -0.464257 -0.571648 -0.743518 -0.768231   \n30             -1.526085 -1.031990 -0.792100 -0.647881 -0.968507 -0.918898   \n31              1.361037  0.556299 -0.270941 -0.303602 -0.285426 -0.203957   \n\n    seguidores  rejeicao  \n29   -0.245379 -1.158753  \n30   -0.524663  0.059273  \n31   -0.516336  0.988727  ",
      "text/html": "<div>\n<style scoped>\n    .dataframe tbody tr th:only-of-type {\n        vertical-align: middle;\n    }\n\n    .dataframe tbody tr th {\n        vertical-align: top;\n    }\n\n    .dataframe thead th {\n        text-align: right;\n    }\n</style>\n<table border=\"1\" class=\"dataframe\">\n  <thead>\n    <tr style=\"text-align: right;\">\n      <th></th>\n      <th>paredao</th>\n      <th>nome</th>\n      <th>positivos</th>\n      <th>neutros</th>\n      <th>negativos</th>\n      <th>positivos_individual_pct</th>\n      <th>neutros_individual_pct</th>\n      <th>negativos_individual_pct</th>\n      <th>positivos_global_pct</th>\n      <th>neutros_global_pct</th>\n      <th>negativos_global_pct</th>\n      <th>day1</th>\n      <th>day2</th>\n      <th>day3</th>\n      <th>likes</th>\n      <th>retweets</th>\n      <th>seguidores</th>\n      <th>rejeicao</th>\n    </tr>\n  </thead>\n  <tbody>\n    <tr>\n      <th>29</th>\n      <td>4</td>\n      <td>babu</td>\n      <td>-0.637150</td>\n      <td>-0.472922</td>\n      <td>-0.404503</td>\n      <td>-0.757918</td>\n      <td>-0.845679</td>\n      <td>1.037492</td>\n      <td>-0.262035</td>\n      <td>-0.140402</td>\n      <td>-0.022919</td>\n      <td>-0.316891</td>\n      <td>-0.464257</td>\n      <td>-0.571648</td>\n      <td>-0.743518</td>\n      <td>-0.768231</td>\n      <td>-0.245379</td>\n      <td>-1.158753</td>\n    </tr>\n    <tr>\n      <th>30</th>\n      <td>4</td>\n      <td>victor_hugo</td>\n      <td>-0.940505</td>\n      <td>-0.712856</td>\n      <td>-0.943591</td>\n      <td>-0.182145</td>\n      <td>0.658502</td>\n      <td>-0.201736</td>\n      <td>-1.724828</td>\n      <td>-1.499780</td>\n      <td>-1.526085</td>\n      <td>-1.031990</td>\n      <td>-0.792100</td>\n      <td>-0.647881</td>\n      <td>-0.968507</td>\n      <td>-0.918898</td>\n      <td>-0.524663</td>\n      <td>0.059273</td>\n    </tr>\n    <tr>\n      <th>31</th>\n      <td>4</td>\n      <td>lucas</td>\n      <td>-0.222844</td>\n      <td>-0.198613</td>\n      <td>0.091832</td>\n      <td>-0.598789</td>\n      <td>-0.969196</td>\n      <td>0.977258</td>\n      <td>1.735774</td>\n      <td>1.413732</td>\n      <td>1.361037</td>\n      <td>0.556299</td>\n      <td>-0.270941</td>\n      <td>-0.303602</td>\n      <td>-0.285426</td>\n      <td>-0.203957</td>\n      <td>-0.516336</td>\n      <td>0.988727</td>\n    </tr>\n  </tbody>\n</table>\n</div>"
     },
     "metadata": {},
     "execution_count": 23
    }
   ],
   "source": [
    "train_df, test_df, mean, std = get_train_test(4, normalize=NORMALIZE, drop_columns=REMOVE)\n",
    "test_df\n",
    ""
   ]
  },
  {
   "cell_type": "code",
   "execution_count": 24,
   "metadata": {},
   "outputs": [],
   "source": [
    "x_train, y_train = train_df.drop(columns=[\"paredao\", \"nome\", \"rejeicao\"], axis=1).to_numpy(), train_df.drop(columns=train_df.columns[:-1], axis=1).to_numpy()\n",
    "x_test, y_test = test_df.drop(columns=[\"paredao\", \"nome\", \"rejeicao\"], axis=1).to_numpy(), test_df.drop(columns=train_df.columns[:-1], axis=1).to_numpy()"
   ]
  },
  {
   "cell_type": "code",
   "execution_count": 25,
   "metadata": {},
   "outputs": [],
   "source": [
    "regressor = LinearRegression()"
   ]
  },
  {
   "cell_type": "code",
   "execution_count": 26,
   "metadata": {},
   "outputs": [],
   "source": [
    "_ = regressor.fit(x_train, y_train)\n",
    ""
   ]
  },
  {
   "cell_type": "code",
   "execution_count": 27,
   "metadata": {},
   "outputs": [],
   "source": [
    "prediction = regressor.predict(x_test)\n",
    "test_df[\"predicao\"] = prediction * std + mean\n",
    "test_df[\"rejeicao\"] =  test_df[\"rejeicao\"] * std + mean\n",
    "summary_df = summary_df.append(test_df, ignore_index=True, sort=False)"
   ]
  },
  {
   "cell_type": "code",
   "execution_count": 28,
   "metadata": {},
   "outputs": [
    {
     "output_type": "execute_result",
     "data": {
      "text/plain": "   paredao         nome  positivos   neutros  negativos  \\\n31       4        lucas  -0.222844 -0.198613   0.091832   \n30       4  victor_hugo  -0.940505 -0.712856  -0.943591   \n29       4         babu  -0.637150 -0.472922  -0.404503   \n\n    positivos_individual_pct  neutros_individual_pct  \\\n31                 -0.598789               -0.969196   \n30                 -0.182145                0.658502   \n29                 -0.757918               -0.845679   \n\n    negativos_individual_pct  positivos_global_pct  neutros_global_pct  \\\n31                  0.977258              1.735774            1.413732   \n30                 -0.201736             -1.724828           -1.499780   \n29                  1.037492             -0.262035           -0.140402   \n\n    negativos_global_pct      day1      day2      day3     likes  retweets  \\\n31              1.361037  0.556299 -0.270941 -0.303602 -0.285426 -0.203957   \n30             -1.526085 -1.031990 -0.792100 -0.647881 -0.968507 -0.918898   \n29             -0.022919 -0.316891 -0.464257 -0.571648 -0.743518 -0.768231   \n\n    seguidores  rejeicao  predicao  \n31   -0.516336    0.6262  0.437035  \n30   -0.524663    0.3608  0.268811  \n29   -0.245379    0.0130  0.261896  ",
      "text/html": "<div>\n<style scoped>\n    .dataframe tbody tr th:only-of-type {\n        vertical-align: middle;\n    }\n\n    .dataframe tbody tr th {\n        vertical-align: top;\n    }\n\n    .dataframe thead th {\n        text-align: right;\n    }\n</style>\n<table border=\"1\" class=\"dataframe\">\n  <thead>\n    <tr style=\"text-align: right;\">\n      <th></th>\n      <th>paredao</th>\n      <th>nome</th>\n      <th>positivos</th>\n      <th>neutros</th>\n      <th>negativos</th>\n      <th>positivos_individual_pct</th>\n      <th>neutros_individual_pct</th>\n      <th>negativos_individual_pct</th>\n      <th>positivos_global_pct</th>\n      <th>neutros_global_pct</th>\n      <th>negativos_global_pct</th>\n      <th>day1</th>\n      <th>day2</th>\n      <th>day3</th>\n      <th>likes</th>\n      <th>retweets</th>\n      <th>seguidores</th>\n      <th>rejeicao</th>\n      <th>predicao</th>\n    </tr>\n  </thead>\n  <tbody>\n    <tr>\n      <th>31</th>\n      <td>4</td>\n      <td>lucas</td>\n      <td>-0.222844</td>\n      <td>-0.198613</td>\n      <td>0.091832</td>\n      <td>-0.598789</td>\n      <td>-0.969196</td>\n      <td>0.977258</td>\n      <td>1.735774</td>\n      <td>1.413732</td>\n      <td>1.361037</td>\n      <td>0.556299</td>\n      <td>-0.270941</td>\n      <td>-0.303602</td>\n      <td>-0.285426</td>\n      <td>-0.203957</td>\n      <td>-0.516336</td>\n      <td>0.6262</td>\n      <td>0.437035</td>\n    </tr>\n    <tr>\n      <th>30</th>\n      <td>4</td>\n      <td>victor_hugo</td>\n      <td>-0.940505</td>\n      <td>-0.712856</td>\n      <td>-0.943591</td>\n      <td>-0.182145</td>\n      <td>0.658502</td>\n      <td>-0.201736</td>\n      <td>-1.724828</td>\n      <td>-1.499780</td>\n      <td>-1.526085</td>\n      <td>-1.031990</td>\n      <td>-0.792100</td>\n      <td>-0.647881</td>\n      <td>-0.968507</td>\n      <td>-0.918898</td>\n      <td>-0.524663</td>\n      <td>0.3608</td>\n      <td>0.268811</td>\n    </tr>\n    <tr>\n      <th>29</th>\n      <td>4</td>\n      <td>babu</td>\n      <td>-0.637150</td>\n      <td>-0.472922</td>\n      <td>-0.404503</td>\n      <td>-0.757918</td>\n      <td>-0.845679</td>\n      <td>1.037492</td>\n      <td>-0.262035</td>\n      <td>-0.140402</td>\n      <td>-0.022919</td>\n      <td>-0.316891</td>\n      <td>-0.464257</td>\n      <td>-0.571648</td>\n      <td>-0.743518</td>\n      <td>-0.768231</td>\n      <td>-0.245379</td>\n      <td>0.0130</td>\n      <td>0.261896</td>\n    </tr>\n  </tbody>\n</table>\n</div>"
     },
     "metadata": {},
     "execution_count": 28
    }
   ],
   "source": [
    "test_df.sort_values(by=\"predicao\", ascending=False)"
   ]
  },
  {
   "cell_type": "markdown",
   "metadata": {},
   "source": [
    "# Paredao 5"
   ]
  },
  {
   "cell_type": "code",
   "execution_count": 29,
   "metadata": {},
   "outputs": [
    {
     "output_type": "execute_result",
     "data": {
      "text/plain": "  paredao            nome  positivos   neutros  negativos  \\\n3       5  bianca_andrade  -0.830779 -0.578310  -0.872479   \n4       5       flayslene  -0.979047 -0.727818  -0.895104   \n5       5    felipe_prior  -0.781127 -0.525175  -0.393698   \n\n   positivos_individual_pct  neutros_individual_pct  negativos_individual_pct  \\\n3                 -0.258918                1.760777                 -0.718459   \n4                 -0.820707               -0.194888                  0.746119   \n5                 -1.310870               -1.145978                  1.628649   \n\n   positivos_global_pct  neutros_global_pct  negativos_global_pct      day1  \\\n3              0.217874            0.204274             -0.793069 -1.335340   \n4             -1.142354           -1.097732             -0.901750 -1.339283   \n5              0.673392            0.667008              1.506852 -1.266309   \n\n       day2      day3     likes  retweets  seguidores  rejeicao  \n3 -0.617391 -0.327142 -1.046455 -1.004080   -0.167656  0.654978  \n4 -0.684786 -0.558017 -0.978505 -0.921699   -0.444062 -0.586512  \n5 -0.286001 -0.223704 -0.687070 -0.593908   -0.354340 -0.179219  ",
      "text/html": "<div>\n<style scoped>\n    .dataframe tbody tr th:only-of-type {\n        vertical-align: middle;\n    }\n\n    .dataframe tbody tr th {\n        vertical-align: top;\n    }\n\n    .dataframe thead th {\n        text-align: right;\n    }\n</style>\n<table border=\"1\" class=\"dataframe\">\n  <thead>\n    <tr style=\"text-align: right;\">\n      <th></th>\n      <th>paredao</th>\n      <th>nome</th>\n      <th>positivos</th>\n      <th>neutros</th>\n      <th>negativos</th>\n      <th>positivos_individual_pct</th>\n      <th>neutros_individual_pct</th>\n      <th>negativos_individual_pct</th>\n      <th>positivos_global_pct</th>\n      <th>neutros_global_pct</th>\n      <th>negativos_global_pct</th>\n      <th>day1</th>\n      <th>day2</th>\n      <th>day3</th>\n      <th>likes</th>\n      <th>retweets</th>\n      <th>seguidores</th>\n      <th>rejeicao</th>\n    </tr>\n  </thead>\n  <tbody>\n    <tr>\n      <th>3</th>\n      <td>5</td>\n      <td>bianca_andrade</td>\n      <td>-0.830779</td>\n      <td>-0.578310</td>\n      <td>-0.872479</td>\n      <td>-0.258918</td>\n      <td>1.760777</td>\n      <td>-0.718459</td>\n      <td>0.217874</td>\n      <td>0.204274</td>\n      <td>-0.793069</td>\n      <td>-1.335340</td>\n      <td>-0.617391</td>\n      <td>-0.327142</td>\n      <td>-1.046455</td>\n      <td>-1.004080</td>\n      <td>-0.167656</td>\n      <td>0.654978</td>\n    </tr>\n    <tr>\n      <th>4</th>\n      <td>5</td>\n      <td>flayslene</td>\n      <td>-0.979047</td>\n      <td>-0.727818</td>\n      <td>-0.895104</td>\n      <td>-0.820707</td>\n      <td>-0.194888</td>\n      <td>0.746119</td>\n      <td>-1.142354</td>\n      <td>-1.097732</td>\n      <td>-0.901750</td>\n      <td>-1.339283</td>\n      <td>-0.684786</td>\n      <td>-0.558017</td>\n      <td>-0.978505</td>\n      <td>-0.921699</td>\n      <td>-0.444062</td>\n      <td>-0.586512</td>\n    </tr>\n    <tr>\n      <th>5</th>\n      <td>5</td>\n      <td>felipe_prior</td>\n      <td>-0.781127</td>\n      <td>-0.525175</td>\n      <td>-0.393698</td>\n      <td>-1.310870</td>\n      <td>-1.145978</td>\n      <td>1.628649</td>\n      <td>0.673392</td>\n      <td>0.667008</td>\n      <td>1.506852</td>\n      <td>-1.266309</td>\n      <td>-0.286001</td>\n      <td>-0.223704</td>\n      <td>-0.687070</td>\n      <td>-0.593908</td>\n      <td>-0.354340</td>\n      <td>-0.179219</td>\n    </tr>\n  </tbody>\n</table>\n</div>"
     },
     "metadata": {},
     "execution_count": 29
    }
   ],
   "source": [
    "train_df, test_df, mean, std = get_train_test(5, normalize=NORMALIZE, drop_columns=REMOVE)\n",
    "test_df\n",
    ""
   ]
  },
  {
   "cell_type": "code",
   "execution_count": 30,
   "metadata": {},
   "outputs": [],
   "source": [
    "x_train, y_train = train_df.drop(columns=[\"paredao\", \"nome\", \"rejeicao\"], axis=1).to_numpy(), train_df.drop(columns=train_df.columns[:-1], axis=1).to_numpy()\n",
    "x_test, y_test = test_df.drop(columns=[\"paredao\", \"nome\", \"rejeicao\"], axis=1).to_numpy(), test_df.drop(columns=train_df.columns[:-1], axis=1).to_numpy()"
   ]
  },
  {
   "cell_type": "code",
   "execution_count": 31,
   "metadata": {},
   "outputs": [],
   "source": [
    "regressor = LinearRegression()"
   ]
  },
  {
   "cell_type": "code",
   "execution_count": 32,
   "metadata": {},
   "outputs": [],
   "source": [
    "_ = regressor.fit(x_train, y_train)\n",
    ""
   ]
  },
  {
   "cell_type": "code",
   "execution_count": 33,
   "metadata": {},
   "outputs": [],
   "source": [
    "prediction = regressor.predict(x_test)\n",
    "test_df[\"predicao\"] = prediction * std + mean\n",
    "test_df[\"rejeicao\"] =  test_df[\"rejeicao\"] * std + mean\n",
    "summary_df = summary_df.append(test_df, ignore_index=True, sort=False)"
   ]
  },
  {
   "cell_type": "code",
   "execution_count": 34,
   "metadata": {},
   "outputs": [
    {
     "output_type": "execute_result",
     "data": {
      "text/plain": "  paredao            nome  positivos   neutros  negativos  \\\n3       5  bianca_andrade  -0.830779 -0.578310  -0.872479   \n5       5    felipe_prior  -0.781127 -0.525175  -0.393698   \n4       5       flayslene  -0.979047 -0.727818  -0.895104   \n\n   positivos_individual_pct  neutros_individual_pct  negativos_individual_pct  \\\n3                 -0.258918                1.760777                 -0.718459   \n5                 -1.310870               -1.145978                  1.628649   \n4                 -0.820707               -0.194888                  0.746119   \n\n   positivos_global_pct  neutros_global_pct  negativos_global_pct      day1  \\\n3              0.217874            0.204274             -0.793069 -1.335340   \n5              0.673392            0.667008              1.506852 -1.266309   \n4             -1.142354           -1.097732             -0.901750 -1.339283   \n\n       day2      day3     likes  retweets  seguidores  rejeicao  predicao  \n3 -0.617391 -0.327142 -1.046455 -1.004080   -0.167656    0.5309  0.606760  \n5 -0.286001 -0.223704 -0.687070 -0.593908   -0.354340    0.2927  0.532885  \n4 -0.684786 -0.558017 -0.978505 -0.921699   -0.444062    0.1764  0.377067  ",
      "text/html": "<div>\n<style scoped>\n    .dataframe tbody tr th:only-of-type {\n        vertical-align: middle;\n    }\n\n    .dataframe tbody tr th {\n        vertical-align: top;\n    }\n\n    .dataframe thead th {\n        text-align: right;\n    }\n</style>\n<table border=\"1\" class=\"dataframe\">\n  <thead>\n    <tr style=\"text-align: right;\">\n      <th></th>\n      <th>paredao</th>\n      <th>nome</th>\n      <th>positivos</th>\n      <th>neutros</th>\n      <th>negativos</th>\n      <th>positivos_individual_pct</th>\n      <th>neutros_individual_pct</th>\n      <th>negativos_individual_pct</th>\n      <th>positivos_global_pct</th>\n      <th>neutros_global_pct</th>\n      <th>negativos_global_pct</th>\n      <th>day1</th>\n      <th>day2</th>\n      <th>day3</th>\n      <th>likes</th>\n      <th>retweets</th>\n      <th>seguidores</th>\n      <th>rejeicao</th>\n      <th>predicao</th>\n    </tr>\n  </thead>\n  <tbody>\n    <tr>\n      <th>3</th>\n      <td>5</td>\n      <td>bianca_andrade</td>\n      <td>-0.830779</td>\n      <td>-0.578310</td>\n      <td>-0.872479</td>\n      <td>-0.258918</td>\n      <td>1.760777</td>\n      <td>-0.718459</td>\n      <td>0.217874</td>\n      <td>0.204274</td>\n      <td>-0.793069</td>\n      <td>-1.335340</td>\n      <td>-0.617391</td>\n      <td>-0.327142</td>\n      <td>-1.046455</td>\n      <td>-1.004080</td>\n      <td>-0.167656</td>\n      <td>0.5309</td>\n      <td>0.606760</td>\n    </tr>\n    <tr>\n      <th>5</th>\n      <td>5</td>\n      <td>felipe_prior</td>\n      <td>-0.781127</td>\n      <td>-0.525175</td>\n      <td>-0.393698</td>\n      <td>-1.310870</td>\n      <td>-1.145978</td>\n      <td>1.628649</td>\n      <td>0.673392</td>\n      <td>0.667008</td>\n      <td>1.506852</td>\n      <td>-1.266309</td>\n      <td>-0.286001</td>\n      <td>-0.223704</td>\n      <td>-0.687070</td>\n      <td>-0.593908</td>\n      <td>-0.354340</td>\n      <td>0.2927</td>\n      <td>0.532885</td>\n    </tr>\n    <tr>\n      <th>4</th>\n      <td>5</td>\n      <td>flayslene</td>\n      <td>-0.979047</td>\n      <td>-0.727818</td>\n      <td>-0.895104</td>\n      <td>-0.820707</td>\n      <td>-0.194888</td>\n      <td>0.746119</td>\n      <td>-1.142354</td>\n      <td>-1.097732</td>\n      <td>-0.901750</td>\n      <td>-1.339283</td>\n      <td>-0.684786</td>\n      <td>-0.558017</td>\n      <td>-0.978505</td>\n      <td>-0.921699</td>\n      <td>-0.444062</td>\n      <td>0.1764</td>\n      <td>0.377067</td>\n    </tr>\n  </tbody>\n</table>\n</div>"
     },
     "metadata": {},
     "execution_count": 34
    }
   ],
   "source": [
    "test_df.sort_values(by=\"predicao\", ascending=False)"
   ]
  },
  {
   "cell_type": "markdown",
   "metadata": {},
   "source": [
    "# Paredao 6"
   ]
  },
  {
   "cell_type": "code",
   "execution_count": 35,
   "metadata": {},
   "outputs": [
    {
     "output_type": "execute_result",
     "data": {
      "text/plain": "  paredao             nome  positivos   neutros  negativos  \\\n0       6  gizelly_bicalho   0.430299 -0.185031  -0.575006   \n1       6        guilherme   0.041509  0.110839   1.245057   \n2       6            pyong   0.688522  0.306039   1.187638   \n\n   positivos_individual_pct  neutros_individual_pct  negativos_individual_pct  \\\n0                  2.043195                0.103645                 -1.657792   \n1                 -1.229993               -1.761684                  1.887461   \n2                 -0.428713               -1.392274                  1.065236   \n\n   positivos_global_pct  neutros_global_pct  negativos_global_pct      day1  \\\n0             -0.008121           -0.732017             -1.425415 -0.152104   \n1             -0.683245            0.008504              0.651485  1.633704   \n2              0.440277            0.497064              0.585963  0.978436   \n\n       day2      day3     likes  retweets  seguidores  rejeicao  \n0 -0.230556 -0.205491  0.460328  0.404147   -0.326546 -1.181867  \n1  0.110574  0.311700  0.530447  0.700483   -0.444706  0.759340  \n2  0.632924  0.573101  0.636212  0.654985    0.747726  0.311773  ",
      "text/html": "<div>\n<style scoped>\n    .dataframe tbody tr th:only-of-type {\n        vertical-align: middle;\n    }\n\n    .dataframe tbody tr th {\n        vertical-align: top;\n    }\n\n    .dataframe thead th {\n        text-align: right;\n    }\n</style>\n<table border=\"1\" class=\"dataframe\">\n  <thead>\n    <tr style=\"text-align: right;\">\n      <th></th>\n      <th>paredao</th>\n      <th>nome</th>\n      <th>positivos</th>\n      <th>neutros</th>\n      <th>negativos</th>\n      <th>positivos_individual_pct</th>\n      <th>neutros_individual_pct</th>\n      <th>negativos_individual_pct</th>\n      <th>positivos_global_pct</th>\n      <th>neutros_global_pct</th>\n      <th>negativos_global_pct</th>\n      <th>day1</th>\n      <th>day2</th>\n      <th>day3</th>\n      <th>likes</th>\n      <th>retweets</th>\n      <th>seguidores</th>\n      <th>rejeicao</th>\n    </tr>\n  </thead>\n  <tbody>\n    <tr>\n      <th>0</th>\n      <td>6</td>\n      <td>gizelly_bicalho</td>\n      <td>0.430299</td>\n      <td>-0.185031</td>\n      <td>-0.575006</td>\n      <td>2.043195</td>\n      <td>0.103645</td>\n      <td>-1.657792</td>\n      <td>-0.008121</td>\n      <td>-0.732017</td>\n      <td>-1.425415</td>\n      <td>-0.152104</td>\n      <td>-0.230556</td>\n      <td>-0.205491</td>\n      <td>0.460328</td>\n      <td>0.404147</td>\n      <td>-0.326546</td>\n      <td>-1.181867</td>\n    </tr>\n    <tr>\n      <th>1</th>\n      <td>6</td>\n      <td>guilherme</td>\n      <td>0.041509</td>\n      <td>0.110839</td>\n      <td>1.245057</td>\n      <td>-1.229993</td>\n      <td>-1.761684</td>\n      <td>1.887461</td>\n      <td>-0.683245</td>\n      <td>0.008504</td>\n      <td>0.651485</td>\n      <td>1.633704</td>\n      <td>0.110574</td>\n      <td>0.311700</td>\n      <td>0.530447</td>\n      <td>0.700483</td>\n      <td>-0.444706</td>\n      <td>0.759340</td>\n    </tr>\n    <tr>\n      <th>2</th>\n      <td>6</td>\n      <td>pyong</td>\n      <td>0.688522</td>\n      <td>0.306039</td>\n      <td>1.187638</td>\n      <td>-0.428713</td>\n      <td>-1.392274</td>\n      <td>1.065236</td>\n      <td>0.440277</td>\n      <td>0.497064</td>\n      <td>0.585963</td>\n      <td>0.978436</td>\n      <td>0.632924</td>\n      <td>0.573101</td>\n      <td>0.636212</td>\n      <td>0.654985</td>\n      <td>0.747726</td>\n      <td>0.311773</td>\n    </tr>\n  </tbody>\n</table>\n</div>"
     },
     "metadata": {},
     "execution_count": 35
    }
   ],
   "source": [
    "train_df, test_df, mean, std = get_train_test(6, normalize=NORMALIZE, drop_columns=REMOVE)\n",
    "test_df\n",
    ""
   ]
  },
  {
   "cell_type": "code",
   "execution_count": 36,
   "metadata": {},
   "outputs": [],
   "source": [
    "x_train, y_train = train_df.drop(columns=[\"paredao\", \"nome\", \"rejeicao\"], axis=1).to_numpy(), train_df.drop(columns=train_df.columns[:-1], axis=1).to_numpy()\n",
    "x_test, y_test = test_df.drop(columns=[\"paredao\", \"nome\", \"rejeicao\"], axis=1).to_numpy(), test_df.drop(columns=train_df.columns[:-1], axis=1).to_numpy()"
   ]
  },
  {
   "cell_type": "code",
   "execution_count": 37,
   "metadata": {},
   "outputs": [],
   "source": [
    "regressor = LinearRegression()"
   ]
  },
  {
   "cell_type": "code",
   "execution_count": 38,
   "metadata": {},
   "outputs": [],
   "source": [
    "_ = regressor.fit(x_train, y_train)\n",
    ""
   ]
  },
  {
   "cell_type": "code",
   "execution_count": 39,
   "metadata": {},
   "outputs": [],
   "source": [
    "prediction = regressor.predict(x_test)\n",
    "test_df[\"predicao\"] = prediction * std + mean\n",
    "test_df[\"rejeicao\"] =  test_df[\"rejeicao\"] * std + mean\n",
    "summary_df = summary_df.append(test_df, ignore_index=True, sort=False)"
   ]
  },
  {
   "cell_type": "code",
   "execution_count": 40,
   "metadata": {},
   "outputs": [
    {
     "output_type": "execute_result",
     "data": {
      "text/plain": "  paredao             nome  positivos   neutros  negativos  \\\n1       6        guilherme   0.041509  0.110839   1.245057   \n0       6  gizelly_bicalho   0.430299 -0.185031  -0.575006   \n2       6            pyong   0.688522  0.306039   1.187638   \n\n   positivos_individual_pct  neutros_individual_pct  negativos_individual_pct  \\\n1                 -1.229993               -1.761684                  1.887461   \n0                  2.043195                0.103645                 -1.657792   \n2                 -0.428713               -1.392274                  1.065236   \n\n   positivos_global_pct  neutros_global_pct  negativos_global_pct      day1  \\\n1             -0.683245            0.008504              0.651485  1.633704   \n0             -0.008121           -0.732017             -1.425415 -0.152104   \n2              0.440277            0.497064              0.585963  0.978436   \n\n       day2      day3     likes  retweets  seguidores  rejeicao  predicao  \n1  0.110574  0.311700  0.530447  0.700483   -0.444706    0.5607  0.733706  \n0 -0.230556 -0.205491  0.460328  0.404147   -0.326546    0.0064  0.627049  \n2  0.632924  0.573101  0.636212  0.654985    0.747726    0.4329  0.500648  ",
      "text/html": "<div>\n<style scoped>\n    .dataframe tbody tr th:only-of-type {\n        vertical-align: middle;\n    }\n\n    .dataframe tbody tr th {\n        vertical-align: top;\n    }\n\n    .dataframe thead th {\n        text-align: right;\n    }\n</style>\n<table border=\"1\" class=\"dataframe\">\n  <thead>\n    <tr style=\"text-align: right;\">\n      <th></th>\n      <th>paredao</th>\n      <th>nome</th>\n      <th>positivos</th>\n      <th>neutros</th>\n      <th>negativos</th>\n      <th>positivos_individual_pct</th>\n      <th>neutros_individual_pct</th>\n      <th>negativos_individual_pct</th>\n      <th>positivos_global_pct</th>\n      <th>neutros_global_pct</th>\n      <th>negativos_global_pct</th>\n      <th>day1</th>\n      <th>day2</th>\n      <th>day3</th>\n      <th>likes</th>\n      <th>retweets</th>\n      <th>seguidores</th>\n      <th>rejeicao</th>\n      <th>predicao</th>\n    </tr>\n  </thead>\n  <tbody>\n    <tr>\n      <th>1</th>\n      <td>6</td>\n      <td>guilherme</td>\n      <td>0.041509</td>\n      <td>0.110839</td>\n      <td>1.245057</td>\n      <td>-1.229993</td>\n      <td>-1.761684</td>\n      <td>1.887461</td>\n      <td>-0.683245</td>\n      <td>0.008504</td>\n      <td>0.651485</td>\n      <td>1.633704</td>\n      <td>0.110574</td>\n      <td>0.311700</td>\n      <td>0.530447</td>\n      <td>0.700483</td>\n      <td>-0.444706</td>\n      <td>0.5607</td>\n      <td>0.733706</td>\n    </tr>\n    <tr>\n      <th>0</th>\n      <td>6</td>\n      <td>gizelly_bicalho</td>\n      <td>0.430299</td>\n      <td>-0.185031</td>\n      <td>-0.575006</td>\n      <td>2.043195</td>\n      <td>0.103645</td>\n      <td>-1.657792</td>\n      <td>-0.008121</td>\n      <td>-0.732017</td>\n      <td>-1.425415</td>\n      <td>-0.152104</td>\n      <td>-0.230556</td>\n      <td>-0.205491</td>\n      <td>0.460328</td>\n      <td>0.404147</td>\n      <td>-0.326546</td>\n      <td>0.0064</td>\n      <td>0.627049</td>\n    </tr>\n    <tr>\n      <th>2</th>\n      <td>6</td>\n      <td>pyong</td>\n      <td>0.688522</td>\n      <td>0.306039</td>\n      <td>1.187638</td>\n      <td>-0.428713</td>\n      <td>-1.392274</td>\n      <td>1.065236</td>\n      <td>0.440277</td>\n      <td>0.497064</td>\n      <td>0.585963</td>\n      <td>0.978436</td>\n      <td>0.632924</td>\n      <td>0.573101</td>\n      <td>0.636212</td>\n      <td>0.654985</td>\n      <td>0.747726</td>\n      <td>0.4329</td>\n      <td>0.500648</td>\n    </tr>\n  </tbody>\n</table>\n</div>"
     },
     "metadata": {},
     "execution_count": 40
    }
   ],
   "source": [
    "test_df.sort_values(by=\"predicao\", ascending=False)"
   ]
  },
  {
   "cell_type": "markdown",
   "metadata": {},
   "source": [
    "# Paredao 7"
   ]
  },
  {
   "cell_type": "code",
   "execution_count": 41,
   "metadata": {},
   "outputs": [
    {
     "output_type": "execute_result",
     "data": {
      "text/plain": "  paredao          nome  positivos   neutros  negativos  \\\n6       7          babu  -0.028756 -0.357827  -0.449323   \n7       7  manu_gavassi  -0.255946 -0.422395  -0.718243   \n8       7   victor_hugo  -0.712702 -0.498933  -0.660238   \n\n   positivos_individual_pct  neutros_individual_pct  negativos_individual_pct  \\\n6                  1.086410               -0.805217                 -0.431152   \n7                  1.372279                0.261504                 -1.213874   \n8                 -0.489664                0.462487                  0.142213   \n\n   positivos_global_pct  neutros_global_pct  negativos_global_pct      day1  \\\n6              0.904525            0.283412              0.544082 -0.268512   \n7              0.165291           -0.054596             -0.476042 -0.623496   \n8             -1.320905           -0.455266             -0.256007 -0.570611   \n\n       day2      day3     likes  retweets  seguidores  rejeicao  \n6 -0.325950 -0.327600  0.925109  0.382582   -0.245379 -1.043184  \n7 -0.454807 -0.409961 -0.278738 -0.512306    3.348856 -0.847768  \n8 -0.643762 -0.456640 -0.264447 -0.404556   -0.524663  1.780199  ",
      "text/html": "<div>\n<style scoped>\n    .dataframe tbody tr th:only-of-type {\n        vertical-align: middle;\n    }\n\n    .dataframe tbody tr th {\n        vertical-align: top;\n    }\n\n    .dataframe thead th {\n        text-align: right;\n    }\n</style>\n<table border=\"1\" class=\"dataframe\">\n  <thead>\n    <tr style=\"text-align: right;\">\n      <th></th>\n      <th>paredao</th>\n      <th>nome</th>\n      <th>positivos</th>\n      <th>neutros</th>\n      <th>negativos</th>\n      <th>positivos_individual_pct</th>\n      <th>neutros_individual_pct</th>\n      <th>negativos_individual_pct</th>\n      <th>positivos_global_pct</th>\n      <th>neutros_global_pct</th>\n      <th>negativos_global_pct</th>\n      <th>day1</th>\n      <th>day2</th>\n      <th>day3</th>\n      <th>likes</th>\n      <th>retweets</th>\n      <th>seguidores</th>\n      <th>rejeicao</th>\n    </tr>\n  </thead>\n  <tbody>\n    <tr>\n      <th>6</th>\n      <td>7</td>\n      <td>babu</td>\n      <td>-0.028756</td>\n      <td>-0.357827</td>\n      <td>-0.449323</td>\n      <td>1.086410</td>\n      <td>-0.805217</td>\n      <td>-0.431152</td>\n      <td>0.904525</td>\n      <td>0.283412</td>\n      <td>0.544082</td>\n      <td>-0.268512</td>\n      <td>-0.325950</td>\n      <td>-0.327600</td>\n      <td>0.925109</td>\n      <td>0.382582</td>\n      <td>-0.245379</td>\n      <td>-1.043184</td>\n    </tr>\n    <tr>\n      <th>7</th>\n      <td>7</td>\n      <td>manu_gavassi</td>\n      <td>-0.255946</td>\n      <td>-0.422395</td>\n      <td>-0.718243</td>\n      <td>1.372279</td>\n      <td>0.261504</td>\n      <td>-1.213874</td>\n      <td>0.165291</td>\n      <td>-0.054596</td>\n      <td>-0.476042</td>\n      <td>-0.623496</td>\n      <td>-0.454807</td>\n      <td>-0.409961</td>\n      <td>-0.278738</td>\n      <td>-0.512306</td>\n      <td>3.348856</td>\n      <td>-0.847768</td>\n    </tr>\n    <tr>\n      <th>8</th>\n      <td>7</td>\n      <td>victor_hugo</td>\n      <td>-0.712702</td>\n      <td>-0.498933</td>\n      <td>-0.660238</td>\n      <td>-0.489664</td>\n      <td>0.462487</td>\n      <td>0.142213</td>\n      <td>-1.320905</td>\n      <td>-0.455266</td>\n      <td>-0.256007</td>\n      <td>-0.570611</td>\n      <td>-0.643762</td>\n      <td>-0.456640</td>\n      <td>-0.264447</td>\n      <td>-0.404556</td>\n      <td>-0.524663</td>\n      <td>1.780199</td>\n    </tr>\n  </tbody>\n</table>\n</div>"
     },
     "metadata": {},
     "execution_count": 41
    }
   ],
   "source": [
    "train_df, test_df, mean, std = get_train_test(7, normalize=NORMALIZE, drop_columns=REMOVE)\n",
    "test_df\n",
    ""
   ]
  },
  {
   "cell_type": "code",
   "execution_count": 42,
   "metadata": {},
   "outputs": [],
   "source": [
    "x_train, y_train = train_df.drop(columns=[\"paredao\", \"nome\", \"rejeicao\"], axis=1).to_numpy(), train_df.drop(columns=train_df.columns[:-1], axis=1).to_numpy()\n",
    "x_test, y_test = test_df.drop(columns=[\"paredao\", \"nome\", \"rejeicao\"], axis=1).to_numpy(), test_df.drop(columns=train_df.columns[:-1], axis=1).to_numpy()"
   ]
  },
  {
   "cell_type": "code",
   "execution_count": 43,
   "metadata": {},
   "outputs": [],
   "source": [
    "regressor = LinearRegression()"
   ]
  },
  {
   "cell_type": "code",
   "execution_count": 44,
   "metadata": {},
   "outputs": [],
   "source": [
    "_ = regressor.fit(x_train, y_train)\n",
    "prediction = regressor.predict(x_test)\n",
    "test_df[\"predicao\"] = prediction * std + mean\n",
    "test_df[\"rejeicao\"] =  test_df[\"rejeicao\"] * std + mean\n",
    "summary_df = summary_df.append(test_df, ignore_index=True, sort=False)"
   ]
  },
  {
   "cell_type": "code",
   "execution_count": 45,
   "metadata": {},
   "outputs": [
    {
     "output_type": "execute_result",
     "data": {
      "text/plain": "  paredao          nome  positivos   neutros  negativos  \\\n8       7   victor_hugo  -0.712702 -0.498933  -0.660238   \n6       7          babu  -0.028756 -0.357827  -0.449323   \n7       7  manu_gavassi  -0.255946 -0.422395  -0.718243   \n\n   positivos_individual_pct  neutros_individual_pct  negativos_individual_pct  \\\n8                 -0.489664                0.462487                  0.142213   \n6                  1.086410               -0.805217                 -0.431152   \n7                  1.372279                0.261504                 -1.213874   \n\n   positivos_global_pct  neutros_global_pct  negativos_global_pct      day1  \\\n8             -1.320905           -0.455266             -0.256007 -0.570611   \n6              0.904525            0.283412              0.544082 -0.268512   \n7              0.165291           -0.054596             -0.476042 -0.623496   \n\n       day2      day3     likes  retweets  seguidores  rejeicao  predicao  \n8 -0.643762 -0.456640 -0.264447 -0.404556   -0.524663    0.8522  0.204619  \n6 -0.325950 -0.327600  0.925109  0.382582   -0.245379    0.0460 -0.360654  \n7 -0.454807 -0.409961 -0.278738 -0.512306    3.348856    0.1018 -0.390352  ",
      "text/html": "<div>\n<style scoped>\n    .dataframe tbody tr th:only-of-type {\n        vertical-align: middle;\n    }\n\n    .dataframe tbody tr th {\n        vertical-align: top;\n    }\n\n    .dataframe thead th {\n        text-align: right;\n    }\n</style>\n<table border=\"1\" class=\"dataframe\">\n  <thead>\n    <tr style=\"text-align: right;\">\n      <th></th>\n      <th>paredao</th>\n      <th>nome</th>\n      <th>positivos</th>\n      <th>neutros</th>\n      <th>negativos</th>\n      <th>positivos_individual_pct</th>\n      <th>neutros_individual_pct</th>\n      <th>negativos_individual_pct</th>\n      <th>positivos_global_pct</th>\n      <th>neutros_global_pct</th>\n      <th>negativos_global_pct</th>\n      <th>day1</th>\n      <th>day2</th>\n      <th>day3</th>\n      <th>likes</th>\n      <th>retweets</th>\n      <th>seguidores</th>\n      <th>rejeicao</th>\n      <th>predicao</th>\n    </tr>\n  </thead>\n  <tbody>\n    <tr>\n      <th>8</th>\n      <td>7</td>\n      <td>victor_hugo</td>\n      <td>-0.712702</td>\n      <td>-0.498933</td>\n      <td>-0.660238</td>\n      <td>-0.489664</td>\n      <td>0.462487</td>\n      <td>0.142213</td>\n      <td>-1.320905</td>\n      <td>-0.455266</td>\n      <td>-0.256007</td>\n      <td>-0.570611</td>\n      <td>-0.643762</td>\n      <td>-0.456640</td>\n      <td>-0.264447</td>\n      <td>-0.404556</td>\n      <td>-0.524663</td>\n      <td>0.8522</td>\n      <td>0.204619</td>\n    </tr>\n    <tr>\n      <th>6</th>\n      <td>7</td>\n      <td>babu</td>\n      <td>-0.028756</td>\n      <td>-0.357827</td>\n      <td>-0.449323</td>\n      <td>1.086410</td>\n      <td>-0.805217</td>\n      <td>-0.431152</td>\n      <td>0.904525</td>\n      <td>0.283412</td>\n      <td>0.544082</td>\n      <td>-0.268512</td>\n      <td>-0.325950</td>\n      <td>-0.327600</td>\n      <td>0.925109</td>\n      <td>0.382582</td>\n      <td>-0.245379</td>\n      <td>0.0460</td>\n      <td>-0.360654</td>\n    </tr>\n    <tr>\n      <th>7</th>\n      <td>7</td>\n      <td>manu_gavassi</td>\n      <td>-0.255946</td>\n      <td>-0.422395</td>\n      <td>-0.718243</td>\n      <td>1.372279</td>\n      <td>0.261504</td>\n      <td>-1.213874</td>\n      <td>0.165291</td>\n      <td>-0.054596</td>\n      <td>-0.476042</td>\n      <td>-0.623496</td>\n      <td>-0.454807</td>\n      <td>-0.409961</td>\n      <td>-0.278738</td>\n      <td>-0.512306</td>\n      <td>3.348856</td>\n      <td>0.1018</td>\n      <td>-0.390352</td>\n    </tr>\n  </tbody>\n</table>\n</div>"
     },
     "metadata": {},
     "execution_count": 45
    }
   ],
   "source": [
    "test_df.sort_values(by=\"predicao\", ascending=False)"
   ]
  },
  {
   "cell_type": "markdown",
   "metadata": {},
   "source": [
    "# Paredao 8"
   ]
  },
  {
   "cell_type": "code",
   "execution_count": 46,
   "metadata": {},
   "outputs": [
    {
     "output_type": "execute_result",
     "data": {
      "text/plain": "   paredao   nome  positivos   neutros  negativos  positivos_individual_pct  \\\n17       8   babu   0.380187  0.065491   0.385092                 -0.022954   \n18       8   rafa  -0.284756 -0.262183   0.185606                 -0.778607   \n19       8  pyong   0.631284  0.566000   0.777120                 -0.404069   \n\n    neutros_individual_pct  negativos_individual_pct  positivos_global_pct  \\\n17               -0.870930                  0.473895              0.180618   \n18               -1.524441                  1.409021             -1.093434   \n19                0.119933                  0.254343              0.661727   \n\n    neutros_global_pct  negativos_global_pct      day1      day2      day3  \\\n17           -0.213141             -0.143736  0.360970  0.148574  0.324357   \n18           -0.996091             -0.395749  0.233296 -0.251083 -0.050620   \n19            0.982782              0.351518  1.197860  0.446819  0.481462   \n\n       likes  retweets  seguidores  rejeicao  \n17  0.608640  0.455833   -0.245379  0.466566  \n18 -0.605024 -0.843303   -0.274006 -1.183618  \n19  0.061688  0.072265    0.747726  0.606299  ",
      "text/html": "<div>\n<style scoped>\n    .dataframe tbody tr th:only-of-type {\n        vertical-align: middle;\n    }\n\n    .dataframe tbody tr th {\n        vertical-align: top;\n    }\n\n    .dataframe thead th {\n        text-align: right;\n    }\n</style>\n<table border=\"1\" class=\"dataframe\">\n  <thead>\n    <tr style=\"text-align: right;\">\n      <th></th>\n      <th>paredao</th>\n      <th>nome</th>\n      <th>positivos</th>\n      <th>neutros</th>\n      <th>negativos</th>\n      <th>positivos_individual_pct</th>\n      <th>neutros_individual_pct</th>\n      <th>negativos_individual_pct</th>\n      <th>positivos_global_pct</th>\n      <th>neutros_global_pct</th>\n      <th>negativos_global_pct</th>\n      <th>day1</th>\n      <th>day2</th>\n      <th>day3</th>\n      <th>likes</th>\n      <th>retweets</th>\n      <th>seguidores</th>\n      <th>rejeicao</th>\n    </tr>\n  </thead>\n  <tbody>\n    <tr>\n      <th>17</th>\n      <td>8</td>\n      <td>babu</td>\n      <td>0.380187</td>\n      <td>0.065491</td>\n      <td>0.385092</td>\n      <td>-0.022954</td>\n      <td>-0.870930</td>\n      <td>0.473895</td>\n      <td>0.180618</td>\n      <td>-0.213141</td>\n      <td>-0.143736</td>\n      <td>0.360970</td>\n      <td>0.148574</td>\n      <td>0.324357</td>\n      <td>0.608640</td>\n      <td>0.455833</td>\n      <td>-0.245379</td>\n      <td>0.466566</td>\n    </tr>\n    <tr>\n      <th>18</th>\n      <td>8</td>\n      <td>rafa</td>\n      <td>-0.284756</td>\n      <td>-0.262183</td>\n      <td>0.185606</td>\n      <td>-0.778607</td>\n      <td>-1.524441</td>\n      <td>1.409021</td>\n      <td>-1.093434</td>\n      <td>-0.996091</td>\n      <td>-0.395749</td>\n      <td>0.233296</td>\n      <td>-0.251083</td>\n      <td>-0.050620</td>\n      <td>-0.605024</td>\n      <td>-0.843303</td>\n      <td>-0.274006</td>\n      <td>-1.183618</td>\n    </tr>\n    <tr>\n      <th>19</th>\n      <td>8</td>\n      <td>pyong</td>\n      <td>0.631284</td>\n      <td>0.566000</td>\n      <td>0.777120</td>\n      <td>-0.404069</td>\n      <td>0.119933</td>\n      <td>0.254343</td>\n      <td>0.661727</td>\n      <td>0.982782</td>\n      <td>0.351518</td>\n      <td>1.197860</td>\n      <td>0.446819</td>\n      <td>0.481462</td>\n      <td>0.061688</td>\n      <td>0.072265</td>\n      <td>0.747726</td>\n      <td>0.606299</td>\n    </tr>\n  </tbody>\n</table>\n</div>"
     },
     "metadata": {},
     "execution_count": 46
    }
   ],
   "source": [
    "train_df, test_df, mean, std = get_train_test(8, normalize=NORMALIZE, drop_columns=REMOVE)\n",
    "test_df\n",
    ""
   ]
  },
  {
   "cell_type": "code",
   "execution_count": 47,
   "metadata": {},
   "outputs": [],
   "source": [
    "x_train, y_train = train_df.drop(columns=[\"paredao\", \"nome\", \"rejeicao\"], axis=1).to_numpy(), train_df.drop(columns=train_df.columns[:-1], axis=1).to_numpy()\n",
    "x_test, y_test = test_df.drop(columns=[\"paredao\", \"nome\", \"rejeicao\"], axis=1).to_numpy(), test_df.drop(columns=train_df.columns[:-1], axis=1).to_numpy()"
   ]
  },
  {
   "cell_type": "code",
   "execution_count": 48,
   "metadata": {},
   "outputs": [],
   "source": [
    "regressor = LinearRegression()"
   ]
  },
  {
   "cell_type": "code",
   "execution_count": 49,
   "metadata": {},
   "outputs": [],
   "source": [
    "_ = regressor.fit(x_train, y_train)\n",
    "prediction = regressor.predict(x_test)\n",
    "test_df[\"predicao\"] = prediction * std + mean\n",
    "test_df[\"rejeicao\"] =  test_df[\"rejeicao\"] * std + mean\n",
    "summary_df = summary_df.append(test_df, ignore_index=True, sort=False)"
   ]
  },
  {
   "cell_type": "code",
   "execution_count": 50,
   "metadata": {},
   "outputs": [
    {
     "output_type": "execute_result",
     "data": {
      "text/plain": "   paredao   nome  positivos   neutros  negativos  positivos_individual_pct  \\\n19       8  pyong   0.631284  0.566000   0.777120                 -0.404069   \n17       8   babu   0.380187  0.065491   0.385092                 -0.022954   \n18       8   rafa  -0.284756 -0.262183   0.185606                 -0.778607   \n\n    neutros_individual_pct  negativos_individual_pct  positivos_global_pct  \\\n19                0.119933                  0.254343              0.661727   \n17               -0.870930                  0.473895              0.180618   \n18               -1.524441                  1.409021             -1.093434   \n\n    neutros_global_pct  negativos_global_pct      day1      day2      day3  \\\n19            0.982782              0.351518  1.197860  0.446819  0.481462   \n17           -0.213141             -0.143736  0.360970  0.148574  0.324357   \n18           -0.996091             -0.395749  0.233296 -0.251083 -0.050620   \n\n       likes  retweets  seguidores  rejeicao  predicao  \n19  0.061688  0.072265    0.747726    0.5170  0.601497  \n17  0.608640  0.455833   -0.245379    0.4771  0.226166  \n18 -0.605024 -0.843303   -0.274006    0.0059  0.111839  ",
      "text/html": "<div>\n<style scoped>\n    .dataframe tbody tr th:only-of-type {\n        vertical-align: middle;\n    }\n\n    .dataframe tbody tr th {\n        vertical-align: top;\n    }\n\n    .dataframe thead th {\n        text-align: right;\n    }\n</style>\n<table border=\"1\" class=\"dataframe\">\n  <thead>\n    <tr style=\"text-align: right;\">\n      <th></th>\n      <th>paredao</th>\n      <th>nome</th>\n      <th>positivos</th>\n      <th>neutros</th>\n      <th>negativos</th>\n      <th>positivos_individual_pct</th>\n      <th>neutros_individual_pct</th>\n      <th>negativos_individual_pct</th>\n      <th>positivos_global_pct</th>\n      <th>neutros_global_pct</th>\n      <th>negativos_global_pct</th>\n      <th>day1</th>\n      <th>day2</th>\n      <th>day3</th>\n      <th>likes</th>\n      <th>retweets</th>\n      <th>seguidores</th>\n      <th>rejeicao</th>\n      <th>predicao</th>\n    </tr>\n  </thead>\n  <tbody>\n    <tr>\n      <th>19</th>\n      <td>8</td>\n      <td>pyong</td>\n      <td>0.631284</td>\n      <td>0.566000</td>\n      <td>0.777120</td>\n      <td>-0.404069</td>\n      <td>0.119933</td>\n      <td>0.254343</td>\n      <td>0.661727</td>\n      <td>0.982782</td>\n      <td>0.351518</td>\n      <td>1.197860</td>\n      <td>0.446819</td>\n      <td>0.481462</td>\n      <td>0.061688</td>\n      <td>0.072265</td>\n      <td>0.747726</td>\n      <td>0.5170</td>\n      <td>0.601497</td>\n    </tr>\n    <tr>\n      <th>17</th>\n      <td>8</td>\n      <td>babu</td>\n      <td>0.380187</td>\n      <td>0.065491</td>\n      <td>0.385092</td>\n      <td>-0.022954</td>\n      <td>-0.870930</td>\n      <td>0.473895</td>\n      <td>0.180618</td>\n      <td>-0.213141</td>\n      <td>-0.143736</td>\n      <td>0.360970</td>\n      <td>0.148574</td>\n      <td>0.324357</td>\n      <td>0.608640</td>\n      <td>0.455833</td>\n      <td>-0.245379</td>\n      <td>0.4771</td>\n      <td>0.226166</td>\n    </tr>\n    <tr>\n      <th>18</th>\n      <td>8</td>\n      <td>rafa</td>\n      <td>-0.284756</td>\n      <td>-0.262183</td>\n      <td>0.185606</td>\n      <td>-0.778607</td>\n      <td>-1.524441</td>\n      <td>1.409021</td>\n      <td>-1.093434</td>\n      <td>-0.996091</td>\n      <td>-0.395749</td>\n      <td>0.233296</td>\n      <td>-0.251083</td>\n      <td>-0.050620</td>\n      <td>-0.605024</td>\n      <td>-0.843303</td>\n      <td>-0.274006</td>\n      <td>0.0059</td>\n      <td>0.111839</td>\n    </tr>\n  </tbody>\n</table>\n</div>"
     },
     "metadata": {},
     "execution_count": 50
    }
   ],
   "source": [
    "test_df.sort_values(by=\"predicao\", ascending=False)"
   ]
  },
  {
   "cell_type": "markdown",
   "metadata": {},
   "source": [
    "# Paredão 9"
   ]
  },
  {
   "cell_type": "code",
   "execution_count": 51,
   "metadata": {},
   "outputs": [
    {
     "output_type": "execute_result",
     "data": {
      "text/plain": "   paredao       nome  positivos   neutros  negativos  \\\n14       9     daniel   0.150851  0.204679   0.244976   \n15       9  flayslene   0.227399 -0.104427   0.014050   \n16       9        ivy  -0.165683 -0.145746  -0.194173   \n\n    positivos_individual_pct  neutros_individual_pct  \\\n14                 -0.415967                0.289477   \n15                  0.347739               -0.782390   \n16                 -0.161435                0.100925   \n\n    negativos_individual_pct  positivos_global_pct  neutros_global_pct  \\\n14                  0.174935              0.090996            0.533047   \n15                  0.136623              0.258158           -0.322562   \n16                  0.073869             -0.600243           -0.436934   \n\n    negativos_global_pct      day1      day2      day3     likes  retweets  \\\n14              0.323595  1.272211 -0.189154 -0.013621  0.364698  0.487613   \n15             -0.075742 -0.583566  0.281502  0.014215  0.165768  0.104961   \n16             -0.435820  0.719771 -0.428524 -0.441062  0.008806  0.032680   \n\n    seguidores  rejeicao  \n14   -0.507169  1.626107  \n15   -0.444062 -0.870181  \n16   -0.484491 -0.866679  ",
      "text/html": "<div>\n<style scoped>\n    .dataframe tbody tr th:only-of-type {\n        vertical-align: middle;\n    }\n\n    .dataframe tbody tr th {\n        vertical-align: top;\n    }\n\n    .dataframe thead th {\n        text-align: right;\n    }\n</style>\n<table border=\"1\" class=\"dataframe\">\n  <thead>\n    <tr style=\"text-align: right;\">\n      <th></th>\n      <th>paredao</th>\n      <th>nome</th>\n      <th>positivos</th>\n      <th>neutros</th>\n      <th>negativos</th>\n      <th>positivos_individual_pct</th>\n      <th>neutros_individual_pct</th>\n      <th>negativos_individual_pct</th>\n      <th>positivos_global_pct</th>\n      <th>neutros_global_pct</th>\n      <th>negativos_global_pct</th>\n      <th>day1</th>\n      <th>day2</th>\n      <th>day3</th>\n      <th>likes</th>\n      <th>retweets</th>\n      <th>seguidores</th>\n      <th>rejeicao</th>\n    </tr>\n  </thead>\n  <tbody>\n    <tr>\n      <th>14</th>\n      <td>9</td>\n      <td>daniel</td>\n      <td>0.150851</td>\n      <td>0.204679</td>\n      <td>0.244976</td>\n      <td>-0.415967</td>\n      <td>0.289477</td>\n      <td>0.174935</td>\n      <td>0.090996</td>\n      <td>0.533047</td>\n      <td>0.323595</td>\n      <td>1.272211</td>\n      <td>-0.189154</td>\n      <td>-0.013621</td>\n      <td>0.364698</td>\n      <td>0.487613</td>\n      <td>-0.507169</td>\n      <td>1.626107</td>\n    </tr>\n    <tr>\n      <th>15</th>\n      <td>9</td>\n      <td>flayslene</td>\n      <td>0.227399</td>\n      <td>-0.104427</td>\n      <td>0.014050</td>\n      <td>0.347739</td>\n      <td>-0.782390</td>\n      <td>0.136623</td>\n      <td>0.258158</td>\n      <td>-0.322562</td>\n      <td>-0.075742</td>\n      <td>-0.583566</td>\n      <td>0.281502</td>\n      <td>0.014215</td>\n      <td>0.165768</td>\n      <td>0.104961</td>\n      <td>-0.444062</td>\n      <td>-0.870181</td>\n    </tr>\n    <tr>\n      <th>16</th>\n      <td>9</td>\n      <td>ivy</td>\n      <td>-0.165683</td>\n      <td>-0.145746</td>\n      <td>-0.194173</td>\n      <td>-0.161435</td>\n      <td>0.100925</td>\n      <td>0.073869</td>\n      <td>-0.600243</td>\n      <td>-0.436934</td>\n      <td>-0.435820</td>\n      <td>0.719771</td>\n      <td>-0.428524</td>\n      <td>-0.441062</td>\n      <td>0.008806</td>\n      <td>0.032680</td>\n      <td>-0.484491</td>\n      <td>-0.866679</td>\n    </tr>\n  </tbody>\n</table>\n</div>"
     },
     "metadata": {},
     "execution_count": 51
    }
   ],
   "source": [
    "train_df, test_df, mean, std = get_train_test(9, normalize=NORMALIZE, drop_columns=REMOVE)\n",
    "test_df\n",
    ""
   ]
  },
  {
   "cell_type": "code",
   "execution_count": 52,
   "metadata": {},
   "outputs": [],
   "source": [
    "x_train, y_train = train_df.drop(columns=[\"paredao\", \"nome\", \"rejeicao\"], axis=1).to_numpy(), train_df.drop(columns=train_df.columns[:-1], axis=1).to_numpy()\n",
    "x_test, y_test = test_df.drop(columns=[\"paredao\", \"nome\", \"rejeicao\"], axis=1).to_numpy(), test_df.drop(columns=train_df.columns[:-1], axis=1).to_numpy()"
   ]
  },
  {
   "cell_type": "code",
   "execution_count": 53,
   "metadata": {},
   "outputs": [],
   "source": [
    "regressor = LinearRegression()"
   ]
  },
  {
   "cell_type": "code",
   "execution_count": 54,
   "metadata": {},
   "outputs": [],
   "source": [
    "_ = regressor.fit(x_train, y_train)\n",
    "prediction = regressor.predict(x_test)\n",
    "test_df[\"predicao\"] = prediction * std + mean\n",
    "test_df[\"rejeicao\"] =  test_df[\"rejeicao\"] * std + mean\n",
    "summary_df = summary_df.append(test_df, ignore_index=True, sort=False)"
   ]
  },
  {
   "cell_type": "code",
   "execution_count": 55,
   "metadata": {},
   "outputs": [
    {
     "output_type": "execute_result",
     "data": {
      "text/plain": "   paredao       nome  positivos   neutros  negativos  \\\n14       9     daniel   0.150851  0.204679   0.244976   \n16       9        ivy  -0.165683 -0.145746  -0.194173   \n15       9  flayslene   0.227399 -0.104427   0.014050   \n\n    positivos_individual_pct  neutros_individual_pct  \\\n14                 -0.415967                0.289477   \n16                 -0.161435                0.100925   \n15                  0.347739               -0.782390   \n\n    negativos_individual_pct  positivos_global_pct  neutros_global_pct  \\\n14                  0.174935              0.090996            0.533047   \n16                  0.073869             -0.600243           -0.436934   \n15                  0.136623              0.258158           -0.322562   \n\n    negativos_global_pct      day1      day2      day3     likes  retweets  \\\n14              0.323595  1.272211 -0.189154 -0.013621  0.364698  0.487613   \n16             -0.435820  0.719771 -0.428524 -0.441062  0.008806  0.032680   \n15             -0.075742 -0.583566  0.281502  0.014215  0.165768  0.104961   \n\n    seguidores  rejeicao  predicao  \n14   -0.507169    0.8082  0.764596  \n16   -0.484491    0.0964  0.443616  \n15   -0.444062    0.0954  0.063117  ",
      "text/html": "<div>\n<style scoped>\n    .dataframe tbody tr th:only-of-type {\n        vertical-align: middle;\n    }\n\n    .dataframe tbody tr th {\n        vertical-align: top;\n    }\n\n    .dataframe thead th {\n        text-align: right;\n    }\n</style>\n<table border=\"1\" class=\"dataframe\">\n  <thead>\n    <tr style=\"text-align: right;\">\n      <th></th>\n      <th>paredao</th>\n      <th>nome</th>\n      <th>positivos</th>\n      <th>neutros</th>\n      <th>negativos</th>\n      <th>positivos_individual_pct</th>\n      <th>neutros_individual_pct</th>\n      <th>negativos_individual_pct</th>\n      <th>positivos_global_pct</th>\n      <th>neutros_global_pct</th>\n      <th>negativos_global_pct</th>\n      <th>day1</th>\n      <th>day2</th>\n      <th>day3</th>\n      <th>likes</th>\n      <th>retweets</th>\n      <th>seguidores</th>\n      <th>rejeicao</th>\n      <th>predicao</th>\n    </tr>\n  </thead>\n  <tbody>\n    <tr>\n      <th>14</th>\n      <td>9</td>\n      <td>daniel</td>\n      <td>0.150851</td>\n      <td>0.204679</td>\n      <td>0.244976</td>\n      <td>-0.415967</td>\n      <td>0.289477</td>\n      <td>0.174935</td>\n      <td>0.090996</td>\n      <td>0.533047</td>\n      <td>0.323595</td>\n      <td>1.272211</td>\n      <td>-0.189154</td>\n      <td>-0.013621</td>\n      <td>0.364698</td>\n      <td>0.487613</td>\n      <td>-0.507169</td>\n      <td>0.8082</td>\n      <td>0.764596</td>\n    </tr>\n    <tr>\n      <th>16</th>\n      <td>9</td>\n      <td>ivy</td>\n      <td>-0.165683</td>\n      <td>-0.145746</td>\n      <td>-0.194173</td>\n      <td>-0.161435</td>\n      <td>0.100925</td>\n      <td>0.073869</td>\n      <td>-0.600243</td>\n      <td>-0.436934</td>\n      <td>-0.435820</td>\n      <td>0.719771</td>\n      <td>-0.428524</td>\n      <td>-0.441062</td>\n      <td>0.008806</td>\n      <td>0.032680</td>\n      <td>-0.484491</td>\n      <td>0.0964</td>\n      <td>0.443616</td>\n    </tr>\n    <tr>\n      <th>15</th>\n      <td>9</td>\n      <td>flayslene</td>\n      <td>0.227399</td>\n      <td>-0.104427</td>\n      <td>0.014050</td>\n      <td>0.347739</td>\n      <td>-0.782390</td>\n      <td>0.136623</td>\n      <td>0.258158</td>\n      <td>-0.322562</td>\n      <td>-0.075742</td>\n      <td>-0.583566</td>\n      <td>0.281502</td>\n      <td>0.014215</td>\n      <td>0.165768</td>\n      <td>0.104961</td>\n      <td>-0.444062</td>\n      <td>0.0954</td>\n      <td>0.063117</td>\n    </tr>\n  </tbody>\n</table>\n</div>"
     },
     "metadata": {},
     "execution_count": 55
    }
   ],
   "source": [
    "test_df.sort_values(by=\"predicao\", ascending=False)"
   ]
  },
  {
   "cell_type": "markdown",
   "metadata": {},
   "source": [
    "# Paredão 10"
   ]
  },
  {
   "cell_type": "code",
   "execution_count": 56,
   "metadata": {},
   "outputs": [
    {
     "output_type": "execute_result",
     "data": {
      "text/plain": "   paredao          nome  positivos   neutros  negativos  \\\n11      10  manu_gavassi   4.299966  4.346936   2.642472   \n12      10          mari   0.326473  0.026397  -0.151226   \n13      10  felipe_prior   1.652606  2.463028   2.910221   \n\n    positivos_individual_pct  neutros_individual_pct  \\\n11                 -0.092823                2.299866   \n12                  0.585417                0.214207   \n13                 -1.106925                0.953104   \n\n    negativos_individual_pct  positivos_global_pct  neutros_global_pct  \\\n11                 -1.130995              1.735802            1.502096   \n12                 -0.571572             -1.540103           -1.793601   \n13                  0.369842             -0.446787            0.065055   \n\n    negativos_global_pct      day1      day2      day3     likes  retweets  \\\n11              0.511881  1.227212  4.046057  4.490002  3.065484  2.339765   \n12             -1.394431 -0.227832  0.036405  0.198181 -0.519437 -0.616200   \n13              0.694583  2.169433  2.426089  2.420783  3.092830  3.383779   \n\n    seguidores  rejeicao  \n11    3.760466  0.284457  \n12   -0.295329 -1.177665  \n13    0.039823  0.782454  ",
      "text/html": "<div>\n<style scoped>\n    .dataframe tbody tr th:only-of-type {\n        vertical-align: middle;\n    }\n\n    .dataframe tbody tr th {\n        vertical-align: top;\n    }\n\n    .dataframe thead th {\n        text-align: right;\n    }\n</style>\n<table border=\"1\" class=\"dataframe\">\n  <thead>\n    <tr style=\"text-align: right;\">\n      <th></th>\n      <th>paredao</th>\n      <th>nome</th>\n      <th>positivos</th>\n      <th>neutros</th>\n      <th>negativos</th>\n      <th>positivos_individual_pct</th>\n      <th>neutros_individual_pct</th>\n      <th>negativos_individual_pct</th>\n      <th>positivos_global_pct</th>\n      <th>neutros_global_pct</th>\n      <th>negativos_global_pct</th>\n      <th>day1</th>\n      <th>day2</th>\n      <th>day3</th>\n      <th>likes</th>\n      <th>retweets</th>\n      <th>seguidores</th>\n      <th>rejeicao</th>\n    </tr>\n  </thead>\n  <tbody>\n    <tr>\n      <th>11</th>\n      <td>10</td>\n      <td>manu_gavassi</td>\n      <td>4.299966</td>\n      <td>4.346936</td>\n      <td>2.642472</td>\n      <td>-0.092823</td>\n      <td>2.299866</td>\n      <td>-1.130995</td>\n      <td>1.735802</td>\n      <td>1.502096</td>\n      <td>0.511881</td>\n      <td>1.227212</td>\n      <td>4.046057</td>\n      <td>4.490002</td>\n      <td>3.065484</td>\n      <td>2.339765</td>\n      <td>3.760466</td>\n      <td>0.284457</td>\n    </tr>\n    <tr>\n      <th>12</th>\n      <td>10</td>\n      <td>mari</td>\n      <td>0.326473</td>\n      <td>0.026397</td>\n      <td>-0.151226</td>\n      <td>0.585417</td>\n      <td>0.214207</td>\n      <td>-0.571572</td>\n      <td>-1.540103</td>\n      <td>-1.793601</td>\n      <td>-1.394431</td>\n      <td>-0.227832</td>\n      <td>0.036405</td>\n      <td>0.198181</td>\n      <td>-0.519437</td>\n      <td>-0.616200</td>\n      <td>-0.295329</td>\n      <td>-1.177665</td>\n    </tr>\n    <tr>\n      <th>13</th>\n      <td>10</td>\n      <td>felipe_prior</td>\n      <td>1.652606</td>\n      <td>2.463028</td>\n      <td>2.910221</td>\n      <td>-1.106925</td>\n      <td>0.953104</td>\n      <td>0.369842</td>\n      <td>-0.446787</td>\n      <td>0.065055</td>\n      <td>0.694583</td>\n      <td>2.169433</td>\n      <td>2.426089</td>\n      <td>2.420783</td>\n      <td>3.092830</td>\n      <td>3.383779</td>\n      <td>0.039823</td>\n      <td>0.782454</td>\n    </tr>\n  </tbody>\n</table>\n</div>"
     },
     "metadata": {},
     "execution_count": 56
    }
   ],
   "source": [
    "train_df, test_df, mean, std = get_train_test(10, normalize=NORMALIZE, drop_columns=REMOVE)\n",
    "test_df\n",
    ""
   ]
  },
  {
   "cell_type": "code",
   "execution_count": 57,
   "metadata": {},
   "outputs": [],
   "source": [
    "x_train, y_train = train_df.drop(columns=[\"paredao\", \"nome\", \"rejeicao\"], axis=1).to_numpy(), train_df.drop(columns=train_df.columns[:-1], axis=1).to_numpy()\n",
    "x_test, y_test = test_df.drop(columns=[\"paredao\", \"nome\", \"rejeicao\"], axis=1).to_numpy(), test_df.drop(columns=train_df.columns[:-1], axis=1).to_numpy()"
   ]
  },
  {
   "cell_type": "code",
   "execution_count": 58,
   "metadata": {},
   "outputs": [],
   "source": [
    "regressor = LinearRegression()"
   ]
  },
  {
   "cell_type": "code",
   "execution_count": 59,
   "metadata": {},
   "outputs": [],
   "source": [
    "_ = regressor.fit(x_train, y_train)\n",
    "prediction = regressor.predict(x_test)\n",
    "test_df[\"predicao\"] = prediction * std + mean\n",
    "test_df[\"rejeicao\"] =  test_df[\"rejeicao\"] * std + mean\n",
    "summary_df = summary_df.append(test_df, ignore_index=True, sort=False)"
   ]
  },
  {
   "cell_type": "code",
   "execution_count": 60,
   "metadata": {},
   "outputs": [
    {
     "output_type": "execute_result",
     "data": {
      "text/plain": "   paredao          nome  positivos   neutros  negativos  \\\n13      10  felipe_prior   1.652606  2.463028   2.910221   \n11      10  manu_gavassi   4.299966  4.346936   2.642472   \n12      10          mari   0.326473  0.026397  -0.151226   \n\n    positivos_individual_pct  neutros_individual_pct  \\\n13                 -1.106925                0.953104   \n11                 -0.092823                2.299866   \n12                  0.585417                0.214207   \n\n    negativos_individual_pct  positivos_global_pct  neutros_global_pct  \\\n13                  0.369842             -0.446787            0.065055   \n11                 -1.130995              1.735802            1.502096   \n12                 -0.571572             -1.540103           -1.793601   \n\n    negativos_global_pct      day1      day2      day3     likes  retweets  \\\n13              0.694583  2.169433  2.426089  2.420783  3.092830  3.383779   \n11              0.511881  1.227212  4.046057  4.490002  3.065484  2.339765   \n12             -1.394431 -0.227832  0.036405  0.198181 -0.519437 -0.616200   \n\n    seguidores  rejeicao  predicao  \n13    0.039823    0.5673  1.353901  \n11    3.760466    0.4251  1.144049  \n12   -0.295329    0.0076  0.058475  ",
      "text/html": "<div>\n<style scoped>\n    .dataframe tbody tr th:only-of-type {\n        vertical-align: middle;\n    }\n\n    .dataframe tbody tr th {\n        vertical-align: top;\n    }\n\n    .dataframe thead th {\n        text-align: right;\n    }\n</style>\n<table border=\"1\" class=\"dataframe\">\n  <thead>\n    <tr style=\"text-align: right;\">\n      <th></th>\n      <th>paredao</th>\n      <th>nome</th>\n      <th>positivos</th>\n      <th>neutros</th>\n      <th>negativos</th>\n      <th>positivos_individual_pct</th>\n      <th>neutros_individual_pct</th>\n      <th>negativos_individual_pct</th>\n      <th>positivos_global_pct</th>\n      <th>neutros_global_pct</th>\n      <th>negativos_global_pct</th>\n      <th>day1</th>\n      <th>day2</th>\n      <th>day3</th>\n      <th>likes</th>\n      <th>retweets</th>\n      <th>seguidores</th>\n      <th>rejeicao</th>\n      <th>predicao</th>\n    </tr>\n  </thead>\n  <tbody>\n    <tr>\n      <th>13</th>\n      <td>10</td>\n      <td>felipe_prior</td>\n      <td>1.652606</td>\n      <td>2.463028</td>\n      <td>2.910221</td>\n      <td>-1.106925</td>\n      <td>0.953104</td>\n      <td>0.369842</td>\n      <td>-0.446787</td>\n      <td>0.065055</td>\n      <td>0.694583</td>\n      <td>2.169433</td>\n      <td>2.426089</td>\n      <td>2.420783</td>\n      <td>3.092830</td>\n      <td>3.383779</td>\n      <td>0.039823</td>\n      <td>0.5673</td>\n      <td>1.353901</td>\n    </tr>\n    <tr>\n      <th>11</th>\n      <td>10</td>\n      <td>manu_gavassi</td>\n      <td>4.299966</td>\n      <td>4.346936</td>\n      <td>2.642472</td>\n      <td>-0.092823</td>\n      <td>2.299866</td>\n      <td>-1.130995</td>\n      <td>1.735802</td>\n      <td>1.502096</td>\n      <td>0.511881</td>\n      <td>1.227212</td>\n      <td>4.046057</td>\n      <td>4.490002</td>\n      <td>3.065484</td>\n      <td>2.339765</td>\n      <td>3.760466</td>\n      <td>0.4251</td>\n      <td>1.144049</td>\n    </tr>\n    <tr>\n      <th>12</th>\n      <td>10</td>\n      <td>mari</td>\n      <td>0.326473</td>\n      <td>0.026397</td>\n      <td>-0.151226</td>\n      <td>0.585417</td>\n      <td>0.214207</td>\n      <td>-0.571572</td>\n      <td>-1.540103</td>\n      <td>-1.793601</td>\n      <td>-1.394431</td>\n      <td>-0.227832</td>\n      <td>0.036405</td>\n      <td>0.198181</td>\n      <td>-0.519437</td>\n      <td>-0.616200</td>\n      <td>-0.295329</td>\n      <td>0.0076</td>\n      <td>0.058475</td>\n    </tr>\n  </tbody>\n</table>\n</div>"
     },
     "metadata": {},
     "execution_count": 60
    }
   ],
   "source": [
    "test_df.sort_values(by=\"predicao\", ascending=False)"
   ]
  },
  {
   "cell_type": "markdown",
   "metadata": {},
   "source": [
    "# Paredao 11"
   ]
  },
  {
   "cell_type": "code",
   "execution_count": 61,
   "metadata": {},
   "outputs": [
    {
     "output_type": "execute_result",
     "data": {
      "text/plain": "   paredao    nome  positivos   neutros  negativos  positivos_individual_pct  \\\n26      11    babu   0.398270 -0.112023  -0.154854                  0.949291   \n27      11    gabi   0.113535 -0.240392  -0.288494                  0.828629   \n28      11  thelma   0.220196  0.064110  -0.084562                  0.235224   \n\n    neutros_individual_pct  negativos_individual_pct  positivos_global_pct  \\\n26               -0.626115                 -0.417288              0.211517   \n27               -0.670701                 -0.299252             -0.333357   \n28                0.372347                 -0.379510             -0.129249   \n\n    neutros_global_pct  negativos_global_pct      day1      day2      day3  \\\n26           -0.124059             -0.018638  0.684661 -0.273092 -0.185502   \n27           -0.515712             -0.297216  0.504916 -0.457075 -0.259272   \n28            0.413322              0.127887  0.242121 -0.036456 -0.013621   \n\n       likes  retweets  seguidores  rejeicao  \n26 -0.077350 -0.185283    0.036155 -1.060345  \n27 -0.449814 -0.480076   -0.324028  0.883314  \n28  0.094952 -0.217400   -0.191782  0.066277  ",
      "text/html": "<div>\n<style scoped>\n    .dataframe tbody tr th:only-of-type {\n        vertical-align: middle;\n    }\n\n    .dataframe tbody tr th {\n        vertical-align: top;\n    }\n\n    .dataframe thead th {\n        text-align: right;\n    }\n</style>\n<table border=\"1\" class=\"dataframe\">\n  <thead>\n    <tr style=\"text-align: right;\">\n      <th></th>\n      <th>paredao</th>\n      <th>nome</th>\n      <th>positivos</th>\n      <th>neutros</th>\n      <th>negativos</th>\n      <th>positivos_individual_pct</th>\n      <th>neutros_individual_pct</th>\n      <th>negativos_individual_pct</th>\n      <th>positivos_global_pct</th>\n      <th>neutros_global_pct</th>\n      <th>negativos_global_pct</th>\n      <th>day1</th>\n      <th>day2</th>\n      <th>day3</th>\n      <th>likes</th>\n      <th>retweets</th>\n      <th>seguidores</th>\n      <th>rejeicao</th>\n    </tr>\n  </thead>\n  <tbody>\n    <tr>\n      <th>26</th>\n      <td>11</td>\n      <td>babu</td>\n      <td>0.398270</td>\n      <td>-0.112023</td>\n      <td>-0.154854</td>\n      <td>0.949291</td>\n      <td>-0.626115</td>\n      <td>-0.417288</td>\n      <td>0.211517</td>\n      <td>-0.124059</td>\n      <td>-0.018638</td>\n      <td>0.684661</td>\n      <td>-0.273092</td>\n      <td>-0.185502</td>\n      <td>-0.077350</td>\n      <td>-0.185283</td>\n      <td>0.036155</td>\n      <td>-1.060345</td>\n    </tr>\n    <tr>\n      <th>27</th>\n      <td>11</td>\n      <td>gabi</td>\n      <td>0.113535</td>\n      <td>-0.240392</td>\n      <td>-0.288494</td>\n      <td>0.828629</td>\n      <td>-0.670701</td>\n      <td>-0.299252</td>\n      <td>-0.333357</td>\n      <td>-0.515712</td>\n      <td>-0.297216</td>\n      <td>0.504916</td>\n      <td>-0.457075</td>\n      <td>-0.259272</td>\n      <td>-0.449814</td>\n      <td>-0.480076</td>\n      <td>-0.324028</td>\n      <td>0.883314</td>\n    </tr>\n    <tr>\n      <th>28</th>\n      <td>11</td>\n      <td>thelma</td>\n      <td>0.220196</td>\n      <td>0.064110</td>\n      <td>-0.084562</td>\n      <td>0.235224</td>\n      <td>0.372347</td>\n      <td>-0.379510</td>\n      <td>-0.129249</td>\n      <td>0.413322</td>\n      <td>0.127887</td>\n      <td>0.242121</td>\n      <td>-0.036456</td>\n      <td>-0.013621</td>\n      <td>0.094952</td>\n      <td>-0.217400</td>\n      <td>-0.191782</td>\n      <td>0.066277</td>\n    </tr>\n  </tbody>\n</table>\n</div>"
     },
     "metadata": {},
     "execution_count": 61
    }
   ],
   "source": [
    "train_df, test_df, mean, std = get_train_test(11, normalize=NORMALIZE, drop_columns=REMOVE)\n",
    "test_df\n",
    ""
   ]
  },
  {
   "cell_type": "code",
   "execution_count": 62,
   "metadata": {},
   "outputs": [],
   "source": [
    "x_train, y_train = train_df.drop(columns=[\"paredao\", \"nome\", \"rejeicao\"], axis=1).to_numpy(), train_df.drop(columns=train_df.columns[:-1], axis=1).to_numpy()\n",
    "x_test, y_test = test_df.drop(columns=[\"paredao\", \"nome\", \"rejeicao\"], axis=1).to_numpy(), test_df.drop(columns=train_df.columns[:-1], axis=1).to_numpy()"
   ]
  },
  {
   "cell_type": "code",
   "execution_count": 63,
   "metadata": {},
   "outputs": [],
   "source": [
    "regressor = LinearRegression()"
   ]
  },
  {
   "cell_type": "code",
   "execution_count": 64,
   "metadata": {},
   "outputs": [],
   "source": [
    "_ = regressor.fit(x_train, y_train)\n",
    "prediction = regressor.predict(x_test)\n",
    "test_df[\"predicao\"] = prediction * std + mean\n",
    "test_df[\"rejeicao\"] =  test_df[\"rejeicao\"] * std + mean\n",
    "summary_df = summary_df.append(test_df, ignore_index=True, sort=False)"
   ]
  },
  {
   "cell_type": "code",
   "execution_count": 65,
   "metadata": {},
   "outputs": [
    {
     "output_type": "execute_result",
     "data": {
      "text/plain": "   paredao    nome  positivos   neutros  negativos  positivos_individual_pct  \\\n28      11  thelma   0.220196  0.064110  -0.084562                  0.235224   \n27      11    gabi   0.113535 -0.240392  -0.288494                  0.828629   \n26      11    babu   0.398270 -0.112023  -0.154854                  0.949291   \n\n    neutros_individual_pct  negativos_individual_pct  positivos_global_pct  \\\n28                0.372347                 -0.379510             -0.129249   \n27               -0.670701                 -0.299252             -0.333357   \n26               -0.626115                 -0.417288              0.211517   \n\n    neutros_global_pct  negativos_global_pct      day1      day2      day3  \\\n28            0.413322              0.127887  0.242121 -0.036456 -0.013621   \n27           -0.515712             -0.297216  0.504916 -0.457075 -0.259272   \n26           -0.124059             -0.018638  0.684661 -0.273092 -0.185502   \n\n       likes  retweets  seguidores  rejeicao  predicao  \n28  0.094952 -0.217400   -0.191782    0.3628  0.407448  \n27 -0.449814 -0.480076   -0.324028    0.5961  0.188542  \n26 -0.077350 -0.185283    0.036155    0.0411  0.185962  ",
      "text/html": "<div>\n<style scoped>\n    .dataframe tbody tr th:only-of-type {\n        vertical-align: middle;\n    }\n\n    .dataframe tbody tr th {\n        vertical-align: top;\n    }\n\n    .dataframe thead th {\n        text-align: right;\n    }\n</style>\n<table border=\"1\" class=\"dataframe\">\n  <thead>\n    <tr style=\"text-align: right;\">\n      <th></th>\n      <th>paredao</th>\n      <th>nome</th>\n      <th>positivos</th>\n      <th>neutros</th>\n      <th>negativos</th>\n      <th>positivos_individual_pct</th>\n      <th>neutros_individual_pct</th>\n      <th>negativos_individual_pct</th>\n      <th>positivos_global_pct</th>\n      <th>neutros_global_pct</th>\n      <th>negativos_global_pct</th>\n      <th>day1</th>\n      <th>day2</th>\n      <th>day3</th>\n      <th>likes</th>\n      <th>retweets</th>\n      <th>seguidores</th>\n      <th>rejeicao</th>\n      <th>predicao</th>\n    </tr>\n  </thead>\n  <tbody>\n    <tr>\n      <th>28</th>\n      <td>11</td>\n      <td>thelma</td>\n      <td>0.220196</td>\n      <td>0.064110</td>\n      <td>-0.084562</td>\n      <td>0.235224</td>\n      <td>0.372347</td>\n      <td>-0.379510</td>\n      <td>-0.129249</td>\n      <td>0.413322</td>\n      <td>0.127887</td>\n      <td>0.242121</td>\n      <td>-0.036456</td>\n      <td>-0.013621</td>\n      <td>0.094952</td>\n      <td>-0.217400</td>\n      <td>-0.191782</td>\n      <td>0.3628</td>\n      <td>0.407448</td>\n    </tr>\n    <tr>\n      <th>27</th>\n      <td>11</td>\n      <td>gabi</td>\n      <td>0.113535</td>\n      <td>-0.240392</td>\n      <td>-0.288494</td>\n      <td>0.828629</td>\n      <td>-0.670701</td>\n      <td>-0.299252</td>\n      <td>-0.333357</td>\n      <td>-0.515712</td>\n      <td>-0.297216</td>\n      <td>0.504916</td>\n      <td>-0.457075</td>\n      <td>-0.259272</td>\n      <td>-0.449814</td>\n      <td>-0.480076</td>\n      <td>-0.324028</td>\n      <td>0.5961</td>\n      <td>0.188542</td>\n    </tr>\n    <tr>\n      <th>26</th>\n      <td>11</td>\n      <td>babu</td>\n      <td>0.398270</td>\n      <td>-0.112023</td>\n      <td>-0.154854</td>\n      <td>0.949291</td>\n      <td>-0.626115</td>\n      <td>-0.417288</td>\n      <td>0.211517</td>\n      <td>-0.124059</td>\n      <td>-0.018638</td>\n      <td>0.684661</td>\n      <td>-0.273092</td>\n      <td>-0.185502</td>\n      <td>-0.077350</td>\n      <td>-0.185283</td>\n      <td>0.036155</td>\n      <td>0.0411</td>\n      <td>0.185962</td>\n    </tr>\n  </tbody>\n</table>\n</div>"
     },
     "metadata": {},
     "execution_count": 65
    }
   ],
   "source": [
    "test_df.sort_values(by=\"predicao\", ascending=False)"
   ]
  },
  {
   "cell_type": "markdown",
   "metadata": {},
   "source": [
    "# Sumarizando"
   ]
  },
  {
   "cell_type": "code",
   "execution_count": 66,
   "metadata": {},
   "outputs": [
    {
     "output_type": "execute_result",
     "data": {
      "text/plain": "        day2  neutros_individual_pct  seguidores paredao  neutros_global_pct  \\\n0  -0.743429                0.694588   -0.167656       1           -0.126126   \n1  -0.755088                0.297313   -0.526805       1            2.390624   \n2  -0.740144                1.253614   -0.245379       2           -2.095263   \n3   0.969403                0.034264   -0.517464       2            0.748123   \n4  -0.079311               -0.433936    0.747726       2           -1.295977   \n5   1.077618               -0.589637   -0.528428       2           -0.074282   \n6  -0.726973                0.652012   -0.354340       3            0.619924   \n7  -0.725083                2.084500   -0.528428       3            1.644574   \n8  -0.464257               -0.845679   -0.245379       4           -0.140402   \n9  -0.792100                0.658502   -0.524663       4           -1.499780   \n10 -0.270941               -0.969196   -0.516336       4            1.413732   \n11 -0.617391                1.760777   -0.167656       5            0.204274   \n12 -0.684786               -0.194888   -0.444062       5           -1.097732   \n13 -0.286001               -1.145978   -0.354340       5            0.667008   \n14 -0.230556                0.103645   -0.326546       6           -0.732017   \n15  0.110574               -1.761684   -0.444706       6            0.008504   \n16  0.632924               -1.392274    0.747726       6            0.497064   \n17 -0.325950               -0.805217   -0.245379       7            0.283412   \n18 -0.454807                0.261504    3.348856       7           -0.054596   \n19 -0.643762                0.462487   -0.524663       7           -0.455266   \n20  0.148574               -0.870930   -0.245379       8           -0.213141   \n21 -0.251083               -1.524441   -0.274006       8           -0.996091   \n22  0.446819                0.119933    0.747726       8            0.982782   \n23 -0.189154                0.289477   -0.507169       9            0.533047   \n24  0.281502               -0.782390   -0.444062       9           -0.322562   \n25 -0.428524                0.100925   -0.484491       9           -0.436934   \n26  4.046057                2.299866    3.760466      10            1.502096   \n27  0.036405                0.214207   -0.295329      10           -1.793601   \n28  2.426089                0.953104    0.039823      10            0.065055   \n29 -0.273092               -0.626115    0.036155      11           -0.124059   \n30 -0.457075               -0.670701   -0.324028      11           -0.515712   \n31 -0.036456                0.372347   -0.191782      11            0.413322   \n\n    negativos_global_pct   neutros     likes      day1  \\\n0              -0.822482 -0.687151 -0.874608 -1.094324   \n1               2.702153 -0.473612 -0.709855 -0.036008   \n2              -1.895266 -0.694095 -0.934305 -1.109533   \n3               0.754903  0.697860  0.792470  1.461031   \n4              -1.485532 -0.302812  0.064725 -0.676380   \n5               0.370290  0.295259  0.399386  0.120705   \n6               0.750190 -0.745581 -0.857558 -1.389163   \n7               1.129482 -0.698737 -0.990926 -1.341286   \n8              -0.022919 -0.472922 -0.743518 -0.316891   \n9              -1.526085 -0.712856 -0.968507 -1.031990   \n10              1.361037 -0.198613 -0.285426  0.556299   \n11             -0.793069 -0.578310 -1.046455 -1.335340   \n12             -0.901750 -0.727818 -0.978505 -1.339283   \n13              1.506852 -0.525175 -0.687070 -1.266309   \n14             -1.425415 -0.185031  0.460328 -0.152104   \n15              0.651485  0.110839  0.530447  1.633704   \n16              0.585963  0.306039  0.636212  0.978436   \n17              0.544082 -0.357827  0.925109 -0.268512   \n18             -0.476042 -0.422395 -0.278738 -0.623496   \n19             -0.256007 -0.498933 -0.264447 -0.570611   \n20             -0.143736  0.065491  0.608640  0.360970   \n21             -0.395749 -0.262183 -0.605024  0.233296   \n22              0.351518  0.566000  0.061688  1.197860   \n23              0.323595  0.204679  0.364698  1.272211   \n24             -0.075742 -0.104427  0.165768 -0.583566   \n25             -0.435820 -0.145746  0.008806  0.719771   \n26              0.511881  4.346936  3.065484  1.227212   \n27             -1.394431  0.026397 -0.519437 -0.227832   \n28              0.694583  2.463028  3.092830  2.169433   \n29             -0.018638 -0.112023 -0.077350  0.684661   \n30             -0.297216 -0.240392 -0.449814  0.504916   \n31              0.127887  0.064110  0.094952  0.242121   \n\n    negativos_individual_pct             nome  negativos      day3  rejeicao  \\\n0                  -1.691078   bianca_andrade  -0.991063 -0.586597    0.2446   \n1                   0.525974     lucas_chumbo  -0.575669 -0.582931    0.7594   \n2                  -1.316904             babu  -0.988723 -0.659565    0.0044   \n3                   1.007125           petrix   1.303452 -0.132466    0.8027   \n4                  -1.675749            pyong  -0.634337 -0.329548    0.0066   \n5                   1.319713           hadson   0.970794 -0.387109    0.1863   \n6                  -0.785636     felipe_prior  -1.000737 -0.581098    0.2029   \n7                  -0.738772           hadson  -0.982286 -0.559105    0.7971   \n8                   1.037492             babu  -0.404503 -0.571648    0.0130   \n9                  -0.201736      victor_hugo  -0.943591 -0.647881    0.3608   \n10                  0.977258            lucas   0.091832 -0.303602    0.6262   \n11                 -0.718459   bianca_andrade  -0.872479 -0.327142    0.5309   \n12                  0.746119        flayslene  -0.895104 -0.558017    0.1764   \n13                  1.628649     felipe_prior  -0.393698 -0.223704    0.2927   \n14                 -1.657792  gizelly_bicalho  -0.575006 -0.205491    0.0064   \n15                  1.887461        guilherme   1.245057  0.311700    0.5607   \n16                  1.065236            pyong   1.187638  0.573101    0.4329   \n17                 -0.431152             babu  -0.449323 -0.327600    0.0460   \n18                 -1.213874     manu_gavassi  -0.718243 -0.409961    0.1018   \n19                  0.142213      victor_hugo  -0.660238 -0.456640    0.8522   \n20                  0.473895             babu   0.385092  0.324357    0.4771   \n21                  1.409021             rafa   0.185606 -0.050620    0.0059   \n22                  0.254343            pyong   0.777120  0.481462    0.5170   \n23                  0.174935           daniel   0.244976 -0.013621    0.8082   \n24                  0.136623        flayslene   0.014050  0.014215    0.0954   \n25                  0.073869              ivy  -0.194173 -0.441062    0.0964   \n26                 -1.130995     manu_gavassi   2.642472  4.490002    0.4251   \n27                 -0.571572             mari  -0.151226  0.198181    0.0076   \n28                  0.369842     felipe_prior   2.910221  2.420783    0.5673   \n29                 -0.417288             babu  -0.154854 -0.185502    0.0411   \n30                 -0.299252             gabi  -0.288494 -0.259272    0.5961   \n31                 -0.379510           thelma  -0.084562 -0.013621    0.3628   \n\n    positivos_individual_pct  positivos  positivos_global_pct  retweets  \\\n0                   1.691474  -0.764653              1.119272 -0.869489   \n1                  -0.868480  -0.737221              1.391614 -0.610597   \n2                   0.841864  -0.862961             -2.217411 -0.870147   \n3                  -1.306109   0.212150             -0.216688  1.608845   \n4                   2.424619   0.372831              0.082330  0.163253   \n5                  -1.288287  -0.026763             -0.661293  0.942679   \n6                   0.566176  -0.939202              1.628578 -0.787787   \n7                  -0.448945  -0.975982              0.882308 -0.925952   \n8                  -0.757918  -0.637150             -0.262035 -0.768231   \n9                  -0.182145  -0.940505             -1.724828 -0.918898   \n10                 -0.598789  -0.222844              1.735774 -0.203957   \n11                 -0.258918  -0.830779              0.217874 -1.004080   \n12                 -0.820707  -0.979047             -1.142354 -0.921699   \n13                 -1.310870  -0.781127              0.673392 -0.593908   \n14                  2.043195   0.430299             -0.008121  0.404147   \n15                 -1.229993   0.041509             -0.683245  0.700483   \n16                 -0.428713   0.688522              0.440277  0.654985   \n17                  1.086410  -0.028756              0.904525  0.382582   \n18                  1.372279  -0.255946              0.165291 -0.512306   \n19                 -0.489664  -0.712702             -1.320905 -0.404556   \n20                 -0.022954   0.380187              0.180618  0.455833   \n21                 -0.778607  -0.284756             -1.093434 -0.843303   \n22                 -0.404069   0.631284              0.661727  0.072265   \n23                 -0.415967   0.150851              0.090996  0.487613   \n24                  0.347739   0.227399              0.258158  0.104961   \n25                 -0.161435  -0.165683             -0.600243  0.032680   \n26                 -0.092823   4.299966              1.735802  2.339765   \n27                  0.585417   0.326473             -1.540103 -0.616200   \n28                 -1.106925   1.652606             -0.446787  3.383779   \n29                  0.949291   0.398270              0.211517 -0.185283   \n30                  0.828629   0.113535             -0.333357 -0.480076   \n31                  0.235224   0.220196             -0.129249 -0.217400   \n\n    predicao  \n0  -0.028511  \n1   1.042913  \n2   0.090817  \n3   0.034876  \n4  -0.273731  \n5  -0.577521  \n6   0.217177  \n7   0.850779  \n8   0.261896  \n9   0.268811  \n10  0.437035  \n11  0.606760  \n12  0.377067  \n13  0.532885  \n14  0.627049  \n15  0.733706  \n16  0.500648  \n17 -0.360654  \n18 -0.390352  \n19  0.204619  \n20  0.226166  \n21  0.111839  \n22  0.601497  \n23  0.764596  \n24  0.063117  \n25  0.443616  \n26  1.144049  \n27  0.058475  \n28  1.353901  \n29  0.185962  \n30  0.188542  \n31  0.407448  ",
      "text/html": "<div>\n<style scoped>\n    .dataframe tbody tr th:only-of-type {\n        vertical-align: middle;\n    }\n\n    .dataframe tbody tr th {\n        vertical-align: top;\n    }\n\n    .dataframe thead th {\n        text-align: right;\n    }\n</style>\n<table border=\"1\" class=\"dataframe\">\n  <thead>\n    <tr style=\"text-align: right;\">\n      <th></th>\n      <th>day2</th>\n      <th>neutros_individual_pct</th>\n      <th>seguidores</th>\n      <th>paredao</th>\n      <th>neutros_global_pct</th>\n      <th>negativos_global_pct</th>\n      <th>neutros</th>\n      <th>likes</th>\n      <th>day1</th>\n      <th>negativos_individual_pct</th>\n      <th>nome</th>\n      <th>negativos</th>\n      <th>day3</th>\n      <th>rejeicao</th>\n      <th>positivos_individual_pct</th>\n      <th>positivos</th>\n      <th>positivos_global_pct</th>\n      <th>retweets</th>\n      <th>predicao</th>\n    </tr>\n  </thead>\n  <tbody>\n    <tr>\n      <th>0</th>\n      <td>-0.743429</td>\n      <td>0.694588</td>\n      <td>-0.167656</td>\n      <td>1</td>\n      <td>-0.126126</td>\n      <td>-0.822482</td>\n      <td>-0.687151</td>\n      <td>-0.874608</td>\n      <td>-1.094324</td>\n      <td>-1.691078</td>\n      <td>bianca_andrade</td>\n      <td>-0.991063</td>\n      <td>-0.586597</td>\n      <td>0.2446</td>\n      <td>1.691474</td>\n      <td>-0.764653</td>\n      <td>1.119272</td>\n      <td>-0.869489</td>\n      <td>-0.028511</td>\n    </tr>\n    <tr>\n      <th>1</th>\n      <td>-0.755088</td>\n      <td>0.297313</td>\n      <td>-0.526805</td>\n      <td>1</td>\n      <td>2.390624</td>\n      <td>2.702153</td>\n      <td>-0.473612</td>\n      <td>-0.709855</td>\n      <td>-0.036008</td>\n      <td>0.525974</td>\n      <td>lucas_chumbo</td>\n      <td>-0.575669</td>\n      <td>-0.582931</td>\n      <td>0.7594</td>\n      <td>-0.868480</td>\n      <td>-0.737221</td>\n      <td>1.391614</td>\n      <td>-0.610597</td>\n      <td>1.042913</td>\n    </tr>\n    <tr>\n      <th>2</th>\n      <td>-0.740144</td>\n      <td>1.253614</td>\n      <td>-0.245379</td>\n      <td>2</td>\n      <td>-2.095263</td>\n      <td>-1.895266</td>\n      <td>-0.694095</td>\n      <td>-0.934305</td>\n      <td>-1.109533</td>\n      <td>-1.316904</td>\n      <td>babu</td>\n      <td>-0.988723</td>\n      <td>-0.659565</td>\n      <td>0.0044</td>\n      <td>0.841864</td>\n      <td>-0.862961</td>\n      <td>-2.217411</td>\n      <td>-0.870147</td>\n      <td>0.090817</td>\n    </tr>\n    <tr>\n      <th>3</th>\n      <td>0.969403</td>\n      <td>0.034264</td>\n      <td>-0.517464</td>\n      <td>2</td>\n      <td>0.748123</td>\n      <td>0.754903</td>\n      <td>0.697860</td>\n      <td>0.792470</td>\n      <td>1.461031</td>\n      <td>1.007125</td>\n      <td>petrix</td>\n      <td>1.303452</td>\n      <td>-0.132466</td>\n      <td>0.8027</td>\n      <td>-1.306109</td>\n      <td>0.212150</td>\n      <td>-0.216688</td>\n      <td>1.608845</td>\n      <td>0.034876</td>\n    </tr>\n    <tr>\n      <th>4</th>\n      <td>-0.079311</td>\n      <td>-0.433936</td>\n      <td>0.747726</td>\n      <td>2</td>\n      <td>-1.295977</td>\n      <td>-1.485532</td>\n      <td>-0.302812</td>\n      <td>0.064725</td>\n      <td>-0.676380</td>\n      <td>-1.675749</td>\n      <td>pyong</td>\n      <td>-0.634337</td>\n      <td>-0.329548</td>\n      <td>0.0066</td>\n      <td>2.424619</td>\n      <td>0.372831</td>\n      <td>0.082330</td>\n      <td>0.163253</td>\n      <td>-0.273731</td>\n    </tr>\n    <tr>\n      <th>5</th>\n      <td>1.077618</td>\n      <td>-0.589637</td>\n      <td>-0.528428</td>\n      <td>2</td>\n      <td>-0.074282</td>\n      <td>0.370290</td>\n      <td>0.295259</td>\n      <td>0.399386</td>\n      <td>0.120705</td>\n      <td>1.319713</td>\n      <td>hadson</td>\n      <td>0.970794</td>\n      <td>-0.387109</td>\n      <td>0.1863</td>\n      <td>-1.288287</td>\n      <td>-0.026763</td>\n      <td>-0.661293</td>\n      <td>0.942679</td>\n      <td>-0.577521</td>\n    </tr>\n    <tr>\n      <th>6</th>\n      <td>-0.726973</td>\n      <td>0.652012</td>\n      <td>-0.354340</td>\n      <td>3</td>\n      <td>0.619924</td>\n      <td>0.750190</td>\n      <td>-0.745581</td>\n      <td>-0.857558</td>\n      <td>-1.389163</td>\n      <td>-0.785636</td>\n      <td>felipe_prior</td>\n      <td>-1.000737</td>\n      <td>-0.581098</td>\n      <td>0.2029</td>\n      <td>0.566176</td>\n      <td>-0.939202</td>\n      <td>1.628578</td>\n      <td>-0.787787</td>\n      <td>0.217177</td>\n    </tr>\n    <tr>\n      <th>7</th>\n      <td>-0.725083</td>\n      <td>2.084500</td>\n      <td>-0.528428</td>\n      <td>3</td>\n      <td>1.644574</td>\n      <td>1.129482</td>\n      <td>-0.698737</td>\n      <td>-0.990926</td>\n      <td>-1.341286</td>\n      <td>-0.738772</td>\n      <td>hadson</td>\n      <td>-0.982286</td>\n      <td>-0.559105</td>\n      <td>0.7971</td>\n      <td>-0.448945</td>\n      <td>-0.975982</td>\n      <td>0.882308</td>\n      <td>-0.925952</td>\n      <td>0.850779</td>\n    </tr>\n    <tr>\n      <th>8</th>\n      <td>-0.464257</td>\n      <td>-0.845679</td>\n      <td>-0.245379</td>\n      <td>4</td>\n      <td>-0.140402</td>\n      <td>-0.022919</td>\n      <td>-0.472922</td>\n      <td>-0.743518</td>\n      <td>-0.316891</td>\n      <td>1.037492</td>\n      <td>babu</td>\n      <td>-0.404503</td>\n      <td>-0.571648</td>\n      <td>0.0130</td>\n      <td>-0.757918</td>\n      <td>-0.637150</td>\n      <td>-0.262035</td>\n      <td>-0.768231</td>\n      <td>0.261896</td>\n    </tr>\n    <tr>\n      <th>9</th>\n      <td>-0.792100</td>\n      <td>0.658502</td>\n      <td>-0.524663</td>\n      <td>4</td>\n      <td>-1.499780</td>\n      <td>-1.526085</td>\n      <td>-0.712856</td>\n      <td>-0.968507</td>\n      <td>-1.031990</td>\n      <td>-0.201736</td>\n      <td>victor_hugo</td>\n      <td>-0.943591</td>\n      <td>-0.647881</td>\n      <td>0.3608</td>\n      <td>-0.182145</td>\n      <td>-0.940505</td>\n      <td>-1.724828</td>\n      <td>-0.918898</td>\n      <td>0.268811</td>\n    </tr>\n    <tr>\n      <th>10</th>\n      <td>-0.270941</td>\n      <td>-0.969196</td>\n      <td>-0.516336</td>\n      <td>4</td>\n      <td>1.413732</td>\n      <td>1.361037</td>\n      <td>-0.198613</td>\n      <td>-0.285426</td>\n      <td>0.556299</td>\n      <td>0.977258</td>\n      <td>lucas</td>\n      <td>0.091832</td>\n      <td>-0.303602</td>\n      <td>0.6262</td>\n      <td>-0.598789</td>\n      <td>-0.222844</td>\n      <td>1.735774</td>\n      <td>-0.203957</td>\n      <td>0.437035</td>\n    </tr>\n    <tr>\n      <th>11</th>\n      <td>-0.617391</td>\n      <td>1.760777</td>\n      <td>-0.167656</td>\n      <td>5</td>\n      <td>0.204274</td>\n      <td>-0.793069</td>\n      <td>-0.578310</td>\n      <td>-1.046455</td>\n      <td>-1.335340</td>\n      <td>-0.718459</td>\n      <td>bianca_andrade</td>\n      <td>-0.872479</td>\n      <td>-0.327142</td>\n      <td>0.5309</td>\n      <td>-0.258918</td>\n      <td>-0.830779</td>\n      <td>0.217874</td>\n      <td>-1.004080</td>\n      <td>0.606760</td>\n    </tr>\n    <tr>\n      <th>12</th>\n      <td>-0.684786</td>\n      <td>-0.194888</td>\n      <td>-0.444062</td>\n      <td>5</td>\n      <td>-1.097732</td>\n      <td>-0.901750</td>\n      <td>-0.727818</td>\n      <td>-0.978505</td>\n      <td>-1.339283</td>\n      <td>0.746119</td>\n      <td>flayslene</td>\n      <td>-0.895104</td>\n      <td>-0.558017</td>\n      <td>0.1764</td>\n      <td>-0.820707</td>\n      <td>-0.979047</td>\n      <td>-1.142354</td>\n      <td>-0.921699</td>\n      <td>0.377067</td>\n    </tr>\n    <tr>\n      <th>13</th>\n      <td>-0.286001</td>\n      <td>-1.145978</td>\n      <td>-0.354340</td>\n      <td>5</td>\n      <td>0.667008</td>\n      <td>1.506852</td>\n      <td>-0.525175</td>\n      <td>-0.687070</td>\n      <td>-1.266309</td>\n      <td>1.628649</td>\n      <td>felipe_prior</td>\n      <td>-0.393698</td>\n      <td>-0.223704</td>\n      <td>0.2927</td>\n      <td>-1.310870</td>\n      <td>-0.781127</td>\n      <td>0.673392</td>\n      <td>-0.593908</td>\n      <td>0.532885</td>\n    </tr>\n    <tr>\n      <th>14</th>\n      <td>-0.230556</td>\n      <td>0.103645</td>\n      <td>-0.326546</td>\n      <td>6</td>\n      <td>-0.732017</td>\n      <td>-1.425415</td>\n      <td>-0.185031</td>\n      <td>0.460328</td>\n      <td>-0.152104</td>\n      <td>-1.657792</td>\n      <td>gizelly_bicalho</td>\n      <td>-0.575006</td>\n      <td>-0.205491</td>\n      <td>0.0064</td>\n      <td>2.043195</td>\n      <td>0.430299</td>\n      <td>-0.008121</td>\n      <td>0.404147</td>\n      <td>0.627049</td>\n    </tr>\n    <tr>\n      <th>15</th>\n      <td>0.110574</td>\n      <td>-1.761684</td>\n      <td>-0.444706</td>\n      <td>6</td>\n      <td>0.008504</td>\n      <td>0.651485</td>\n      <td>0.110839</td>\n      <td>0.530447</td>\n      <td>1.633704</td>\n      <td>1.887461</td>\n      <td>guilherme</td>\n      <td>1.245057</td>\n      <td>0.311700</td>\n      <td>0.5607</td>\n      <td>-1.229993</td>\n      <td>0.041509</td>\n      <td>-0.683245</td>\n      <td>0.700483</td>\n      <td>0.733706</td>\n    </tr>\n    <tr>\n      <th>16</th>\n      <td>0.632924</td>\n      <td>-1.392274</td>\n      <td>0.747726</td>\n      <td>6</td>\n      <td>0.497064</td>\n      <td>0.585963</td>\n      <td>0.306039</td>\n      <td>0.636212</td>\n      <td>0.978436</td>\n      <td>1.065236</td>\n      <td>pyong</td>\n      <td>1.187638</td>\n      <td>0.573101</td>\n      <td>0.4329</td>\n      <td>-0.428713</td>\n      <td>0.688522</td>\n      <td>0.440277</td>\n      <td>0.654985</td>\n      <td>0.500648</td>\n    </tr>\n    <tr>\n      <th>17</th>\n      <td>-0.325950</td>\n      <td>-0.805217</td>\n      <td>-0.245379</td>\n      <td>7</td>\n      <td>0.283412</td>\n      <td>0.544082</td>\n      <td>-0.357827</td>\n      <td>0.925109</td>\n      <td>-0.268512</td>\n      <td>-0.431152</td>\n      <td>babu</td>\n      <td>-0.449323</td>\n      <td>-0.327600</td>\n      <td>0.0460</td>\n      <td>1.086410</td>\n      <td>-0.028756</td>\n      <td>0.904525</td>\n      <td>0.382582</td>\n      <td>-0.360654</td>\n    </tr>\n    <tr>\n      <th>18</th>\n      <td>-0.454807</td>\n      <td>0.261504</td>\n      <td>3.348856</td>\n      <td>7</td>\n      <td>-0.054596</td>\n      <td>-0.476042</td>\n      <td>-0.422395</td>\n      <td>-0.278738</td>\n      <td>-0.623496</td>\n      <td>-1.213874</td>\n      <td>manu_gavassi</td>\n      <td>-0.718243</td>\n      <td>-0.409961</td>\n      <td>0.1018</td>\n      <td>1.372279</td>\n      <td>-0.255946</td>\n      <td>0.165291</td>\n      <td>-0.512306</td>\n      <td>-0.390352</td>\n    </tr>\n    <tr>\n      <th>19</th>\n      <td>-0.643762</td>\n      <td>0.462487</td>\n      <td>-0.524663</td>\n      <td>7</td>\n      <td>-0.455266</td>\n      <td>-0.256007</td>\n      <td>-0.498933</td>\n      <td>-0.264447</td>\n      <td>-0.570611</td>\n      <td>0.142213</td>\n      <td>victor_hugo</td>\n      <td>-0.660238</td>\n      <td>-0.456640</td>\n      <td>0.8522</td>\n      <td>-0.489664</td>\n      <td>-0.712702</td>\n      <td>-1.320905</td>\n      <td>-0.404556</td>\n      <td>0.204619</td>\n    </tr>\n    <tr>\n      <th>20</th>\n      <td>0.148574</td>\n      <td>-0.870930</td>\n      <td>-0.245379</td>\n      <td>8</td>\n      <td>-0.213141</td>\n      <td>-0.143736</td>\n      <td>0.065491</td>\n      <td>0.608640</td>\n      <td>0.360970</td>\n      <td>0.473895</td>\n      <td>babu</td>\n      <td>0.385092</td>\n      <td>0.324357</td>\n      <td>0.4771</td>\n      <td>-0.022954</td>\n      <td>0.380187</td>\n      <td>0.180618</td>\n      <td>0.455833</td>\n      <td>0.226166</td>\n    </tr>\n    <tr>\n      <th>21</th>\n      <td>-0.251083</td>\n      <td>-1.524441</td>\n      <td>-0.274006</td>\n      <td>8</td>\n      <td>-0.996091</td>\n      <td>-0.395749</td>\n      <td>-0.262183</td>\n      <td>-0.605024</td>\n      <td>0.233296</td>\n      <td>1.409021</td>\n      <td>rafa</td>\n      <td>0.185606</td>\n      <td>-0.050620</td>\n      <td>0.0059</td>\n      <td>-0.778607</td>\n      <td>-0.284756</td>\n      <td>-1.093434</td>\n      <td>-0.843303</td>\n      <td>0.111839</td>\n    </tr>\n    <tr>\n      <th>22</th>\n      <td>0.446819</td>\n      <td>0.119933</td>\n      <td>0.747726</td>\n      <td>8</td>\n      <td>0.982782</td>\n      <td>0.351518</td>\n      <td>0.566000</td>\n      <td>0.061688</td>\n      <td>1.197860</td>\n      <td>0.254343</td>\n      <td>pyong</td>\n      <td>0.777120</td>\n      <td>0.481462</td>\n      <td>0.5170</td>\n      <td>-0.404069</td>\n      <td>0.631284</td>\n      <td>0.661727</td>\n      <td>0.072265</td>\n      <td>0.601497</td>\n    </tr>\n    <tr>\n      <th>23</th>\n      <td>-0.189154</td>\n      <td>0.289477</td>\n      <td>-0.507169</td>\n      <td>9</td>\n      <td>0.533047</td>\n      <td>0.323595</td>\n      <td>0.204679</td>\n      <td>0.364698</td>\n      <td>1.272211</td>\n      <td>0.174935</td>\n      <td>daniel</td>\n      <td>0.244976</td>\n      <td>-0.013621</td>\n      <td>0.8082</td>\n      <td>-0.415967</td>\n      <td>0.150851</td>\n      <td>0.090996</td>\n      <td>0.487613</td>\n      <td>0.764596</td>\n    </tr>\n    <tr>\n      <th>24</th>\n      <td>0.281502</td>\n      <td>-0.782390</td>\n      <td>-0.444062</td>\n      <td>9</td>\n      <td>-0.322562</td>\n      <td>-0.075742</td>\n      <td>-0.104427</td>\n      <td>0.165768</td>\n      <td>-0.583566</td>\n      <td>0.136623</td>\n      <td>flayslene</td>\n      <td>0.014050</td>\n      <td>0.014215</td>\n      <td>0.0954</td>\n      <td>0.347739</td>\n      <td>0.227399</td>\n      <td>0.258158</td>\n      <td>0.104961</td>\n      <td>0.063117</td>\n    </tr>\n    <tr>\n      <th>25</th>\n      <td>-0.428524</td>\n      <td>0.100925</td>\n      <td>-0.484491</td>\n      <td>9</td>\n      <td>-0.436934</td>\n      <td>-0.435820</td>\n      <td>-0.145746</td>\n      <td>0.008806</td>\n      <td>0.719771</td>\n      <td>0.073869</td>\n      <td>ivy</td>\n      <td>-0.194173</td>\n      <td>-0.441062</td>\n      <td>0.0964</td>\n      <td>-0.161435</td>\n      <td>-0.165683</td>\n      <td>-0.600243</td>\n      <td>0.032680</td>\n      <td>0.443616</td>\n    </tr>\n    <tr>\n      <th>26</th>\n      <td>4.046057</td>\n      <td>2.299866</td>\n      <td>3.760466</td>\n      <td>10</td>\n      <td>1.502096</td>\n      <td>0.511881</td>\n      <td>4.346936</td>\n      <td>3.065484</td>\n      <td>1.227212</td>\n      <td>-1.130995</td>\n      <td>manu_gavassi</td>\n      <td>2.642472</td>\n      <td>4.490002</td>\n      <td>0.4251</td>\n      <td>-0.092823</td>\n      <td>4.299966</td>\n      <td>1.735802</td>\n      <td>2.339765</td>\n      <td>1.144049</td>\n    </tr>\n    <tr>\n      <th>27</th>\n      <td>0.036405</td>\n      <td>0.214207</td>\n      <td>-0.295329</td>\n      <td>10</td>\n      <td>-1.793601</td>\n      <td>-1.394431</td>\n      <td>0.026397</td>\n      <td>-0.519437</td>\n      <td>-0.227832</td>\n      <td>-0.571572</td>\n      <td>mari</td>\n      <td>-0.151226</td>\n      <td>0.198181</td>\n      <td>0.0076</td>\n      <td>0.585417</td>\n      <td>0.326473</td>\n      <td>-1.540103</td>\n      <td>-0.616200</td>\n      <td>0.058475</td>\n    </tr>\n    <tr>\n      <th>28</th>\n      <td>2.426089</td>\n      <td>0.953104</td>\n      <td>0.039823</td>\n      <td>10</td>\n      <td>0.065055</td>\n      <td>0.694583</td>\n      <td>2.463028</td>\n      <td>3.092830</td>\n      <td>2.169433</td>\n      <td>0.369842</td>\n      <td>felipe_prior</td>\n      <td>2.910221</td>\n      <td>2.420783</td>\n      <td>0.5673</td>\n      <td>-1.106925</td>\n      <td>1.652606</td>\n      <td>-0.446787</td>\n      <td>3.383779</td>\n      <td>1.353901</td>\n    </tr>\n    <tr>\n      <th>29</th>\n      <td>-0.273092</td>\n      <td>-0.626115</td>\n      <td>0.036155</td>\n      <td>11</td>\n      <td>-0.124059</td>\n      <td>-0.018638</td>\n      <td>-0.112023</td>\n      <td>-0.077350</td>\n      <td>0.684661</td>\n      <td>-0.417288</td>\n      <td>babu</td>\n      <td>-0.154854</td>\n      <td>-0.185502</td>\n      <td>0.0411</td>\n      <td>0.949291</td>\n      <td>0.398270</td>\n      <td>0.211517</td>\n      <td>-0.185283</td>\n      <td>0.185962</td>\n    </tr>\n    <tr>\n      <th>30</th>\n      <td>-0.457075</td>\n      <td>-0.670701</td>\n      <td>-0.324028</td>\n      <td>11</td>\n      <td>-0.515712</td>\n      <td>-0.297216</td>\n      <td>-0.240392</td>\n      <td>-0.449814</td>\n      <td>0.504916</td>\n      <td>-0.299252</td>\n      <td>gabi</td>\n      <td>-0.288494</td>\n      <td>-0.259272</td>\n      <td>0.5961</td>\n      <td>0.828629</td>\n      <td>0.113535</td>\n      <td>-0.333357</td>\n      <td>-0.480076</td>\n      <td>0.188542</td>\n    </tr>\n    <tr>\n      <th>31</th>\n      <td>-0.036456</td>\n      <td>0.372347</td>\n      <td>-0.191782</td>\n      <td>11</td>\n      <td>0.413322</td>\n      <td>0.127887</td>\n      <td>0.064110</td>\n      <td>0.094952</td>\n      <td>0.242121</td>\n      <td>-0.379510</td>\n      <td>thelma</td>\n      <td>-0.084562</td>\n      <td>-0.013621</td>\n      <td>0.3628</td>\n      <td>0.235224</td>\n      <td>0.220196</td>\n      <td>-0.129249</td>\n      <td>-0.217400</td>\n      <td>0.407448</td>\n    </tr>\n  </tbody>\n</table>\n</div>"
     },
     "metadata": {},
     "execution_count": 66
    }
   ],
   "source": [
    "summary_df"
   ]
  },
  {
   "cell_type": "code",
   "execution_count": null,
   "metadata": {},
   "outputs": [],
   "source": []
  }
 ]
}