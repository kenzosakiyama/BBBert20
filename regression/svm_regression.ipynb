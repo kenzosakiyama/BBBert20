{
 "nbformat": 4,
 "nbformat_minor": 2,
 "metadata": {
  "language_info": {
   "name": "python",
   "codemirror_mode": {
    "name": "ipython",
    "version": 3
   },
   "version": "3.6.9-final"
  },
  "orig_nbformat": 2,
  "file_extension": ".py",
  "mimetype": "text/x-python",
  "name": "python",
  "npconvert_exporter": "python",
  "pygments_lexer": "ipython3",
  "version": 3,
  "kernelspec": {
   "name": "python36964bitbertvirtualenv054cbb15ab924922a35a349b12e89805",
   "display_name": "Python 3.6.9 64-bit ('bert': virtualenv)"
  }
 },
 "cells": [
  {
   "cell_type": "markdown",
   "metadata": {},
   "source": [
    "# Experimentos baseados em regressão linear"
   ]
  },
  {
   "cell_type": "markdown",
   "metadata": {},
   "source": [
    "- Utilizando cada paredão como teste e avaliando com holdout."
   ]
  },
  {
   "cell_type": "code",
   "execution_count": 1,
   "metadata": {},
   "outputs": [],
   "source": [
    "import pandas as pd \n",
    "import numpy as np \n",
    "from regression_utils import *\n",
    "from sklearn.svm import SVR"
   ]
  },
  {
   "cell_type": "code",
   "execution_count": 2,
   "metadata": {},
   "outputs": [],
   "source": [
    "NORMALIZE = True\n",
    "KERNEL = \"linear\"\n",
    "C = 0.7\n",
    "REMOVE = [\"positivos\", \"neutros\", \"negativos\", \"likes\", \"retweets\", \"day2\", \"day3\"]"
   ]
  },
  {
   "cell_type": "code",
   "execution_count": 3,
   "metadata": {},
   "outputs": [],
   "source": [
    "summary_df = pd.DataFrame(columns=set(COLUMNS) - set(REMOVE))"
   ]
  },
  {
   "cell_type": "markdown",
   "metadata": {},
   "source": [
    "# Paredao 1"
   ]
  },
  {
   "cell_type": "code",
   "execution_count": 4,
   "metadata": {},
   "outputs": [],
   "source": [
    "train_df, test_df, mean, std = get_train_test(1, normalize=NORMALIZE, drop_columns=REMOVE)"
   ]
  },
  {
   "cell_type": "code",
   "execution_count": 5,
   "metadata": {},
   "outputs": [
    {
     "output_type": "execute_result",
     "data": {
      "text/plain": "   paredao            nome  positivos_individual_pct  neutros_individual_pct  \\\n24       1  bianca_andrade                  1.691474                0.694588   \n25       1    lucas_chumbo                 -0.868480                0.297313   \n\n    negativos_individual_pct  positivos_global_pct  neutros_global_pct  \\\n24                 -1.691078              1.119272           -0.126126   \n25                  0.525974              1.391614            2.390624   \n\n    negativos_global_pct      day1  seguidores      fica     fora  rejeicao  \n24             -0.822482 -1.094324   -0.167656 -0.344478 -0.52713 -0.347670  \n25              2.702153 -0.036008   -0.526805 -0.435007 -0.45342  1.455205  ",
      "text/html": "<div>\n<style scoped>\n    .dataframe tbody tr th:only-of-type {\n        vertical-align: middle;\n    }\n\n    .dataframe tbody tr th {\n        vertical-align: top;\n    }\n\n    .dataframe thead th {\n        text-align: right;\n    }\n</style>\n<table border=\"1\" class=\"dataframe\">\n  <thead>\n    <tr style=\"text-align: right;\">\n      <th></th>\n      <th>paredao</th>\n      <th>nome</th>\n      <th>positivos_individual_pct</th>\n      <th>neutros_individual_pct</th>\n      <th>negativos_individual_pct</th>\n      <th>positivos_global_pct</th>\n      <th>neutros_global_pct</th>\n      <th>negativos_global_pct</th>\n      <th>day1</th>\n      <th>seguidores</th>\n      <th>fica</th>\n      <th>fora</th>\n      <th>rejeicao</th>\n    </tr>\n  </thead>\n  <tbody>\n    <tr>\n      <th>24</th>\n      <td>1</td>\n      <td>bianca_andrade</td>\n      <td>1.691474</td>\n      <td>0.694588</td>\n      <td>-1.691078</td>\n      <td>1.119272</td>\n      <td>-0.126126</td>\n      <td>-0.822482</td>\n      <td>-1.094324</td>\n      <td>-0.167656</td>\n      <td>-0.344478</td>\n      <td>-0.52713</td>\n      <td>-0.347670</td>\n    </tr>\n    <tr>\n      <th>25</th>\n      <td>1</td>\n      <td>lucas_chumbo</td>\n      <td>-0.868480</td>\n      <td>0.297313</td>\n      <td>0.525974</td>\n      <td>1.391614</td>\n      <td>2.390624</td>\n      <td>2.702153</td>\n      <td>-0.036008</td>\n      <td>-0.526805</td>\n      <td>-0.435007</td>\n      <td>-0.45342</td>\n      <td>1.455205</td>\n    </tr>\n  </tbody>\n</table>\n</div>"
     },
     "metadata": {},
     "execution_count": 5
    }
   ],
   "source": [
    "test_df"
   ]
  },
  {
   "cell_type": "code",
   "execution_count": 6,
   "metadata": {},
   "outputs": [],
   "source": [
    "x_train, y_train = train_df.drop(columns=[\"paredao\", \"nome\", \"rejeicao\"], axis=1).to_numpy(), train_df.drop(columns=train_df.columns[:-1], axis=1).to_numpy()\n",
    "x_test, y_test = test_df.drop(columns=[\"paredao\", \"nome\", \"rejeicao\"], axis=1).to_numpy(), test_df.drop(columns=train_df.columns[:-1], axis=1).to_numpy()"
   ]
  },
  {
   "cell_type": "code",
   "execution_count": 7,
   "metadata": {},
   "outputs": [],
   "source": [
    "regressor = SVR(C=C, kernel=KERNEL)"
   ]
  },
  {
   "cell_type": "code",
   "execution_count": 8,
   "metadata": {},
   "outputs": [],
   "source": [
    "_ = regressor.fit(x_train, y_train)"
   ]
  },
  {
   "cell_type": "code",
   "execution_count": 9,
   "metadata": {},
   "outputs": [],
   "source": [
    "prediction = regressor.predict(x_test)\n",
    "test_df[\"predicao\"] = prediction * std + mean\n",
    "test_df[\"rejeicao\"] =  test_df[\"rejeicao\"] * std + mean\n",
    "summary_df = summary_df.append(test_df, ignore_index=True, sort=False)"
   ]
  },
  {
   "cell_type": "code",
   "execution_count": 10,
   "metadata": {},
   "outputs": [
    {
     "output_type": "execute_result",
     "data": {
      "text/plain": "   paredao            nome  positivos_individual_pct  neutros_individual_pct  \\\n25       1    lucas_chumbo                 -0.868480                0.297313   \n24       1  bianca_andrade                  1.691474                0.694588   \n\n    negativos_individual_pct  positivos_global_pct  neutros_global_pct  \\\n25                  0.525974              1.391614            2.390624   \n24                 -1.691078              1.119272           -0.126126   \n\n    negativos_global_pct      day1  seguidores      fica     fora  rejeicao  \\\n25              2.702153 -0.036008   -0.526805 -0.435007 -0.45342    0.7594   \n24             -0.822482 -1.094324   -0.167656 -0.344478 -0.52713    0.2446   \n\n    predicao  \n25  0.809518  \n24  0.119579  ",
      "text/html": "<div>\n<style scoped>\n    .dataframe tbody tr th:only-of-type {\n        vertical-align: middle;\n    }\n\n    .dataframe tbody tr th {\n        vertical-align: top;\n    }\n\n    .dataframe thead th {\n        text-align: right;\n    }\n</style>\n<table border=\"1\" class=\"dataframe\">\n  <thead>\n    <tr style=\"text-align: right;\">\n      <th></th>\n      <th>paredao</th>\n      <th>nome</th>\n      <th>positivos_individual_pct</th>\n      <th>neutros_individual_pct</th>\n      <th>negativos_individual_pct</th>\n      <th>positivos_global_pct</th>\n      <th>neutros_global_pct</th>\n      <th>negativos_global_pct</th>\n      <th>day1</th>\n      <th>seguidores</th>\n      <th>fica</th>\n      <th>fora</th>\n      <th>rejeicao</th>\n      <th>predicao</th>\n    </tr>\n  </thead>\n  <tbody>\n    <tr>\n      <th>25</th>\n      <td>1</td>\n      <td>lucas_chumbo</td>\n      <td>-0.868480</td>\n      <td>0.297313</td>\n      <td>0.525974</td>\n      <td>1.391614</td>\n      <td>2.390624</td>\n      <td>2.702153</td>\n      <td>-0.036008</td>\n      <td>-0.526805</td>\n      <td>-0.435007</td>\n      <td>-0.45342</td>\n      <td>0.7594</td>\n      <td>0.809518</td>\n    </tr>\n    <tr>\n      <th>24</th>\n      <td>1</td>\n      <td>bianca_andrade</td>\n      <td>1.691474</td>\n      <td>0.694588</td>\n      <td>-1.691078</td>\n      <td>1.119272</td>\n      <td>-0.126126</td>\n      <td>-0.822482</td>\n      <td>-1.094324</td>\n      <td>-0.167656</td>\n      <td>-0.344478</td>\n      <td>-0.52713</td>\n      <td>0.2446</td>\n      <td>0.119579</td>\n    </tr>\n  </tbody>\n</table>\n</div>"
     },
     "metadata": {},
     "execution_count": 10
    }
   ],
   "source": [
    "test_df.sort_values(by=\"predicao\", ascending=False)"
   ]
  },
  {
   "cell_type": "markdown",
   "metadata": {},
   "source": [
    "# Paredao 2"
   ]
  },
  {
   "cell_type": "code",
   "execution_count": 11,
   "metadata": {},
   "outputs": [
    {
     "output_type": "execute_result",
     "data": {
      "text/plain": "   paredao    nome  positivos_individual_pct  neutros_individual_pct  \\\n20       2    babu                  0.841864                1.253614   \n21       2  petrix                 -1.306109                0.034264   \n22       2   pyong                  2.424619               -0.433936   \n23       2  hadson                 -1.288287               -0.589637   \n\n    negativos_individual_pct  positivos_global_pct  neutros_global_pct  \\\n20                 -1.316904             -2.217411           -2.095263   \n21                  1.007125             -0.216688            0.748123   \n22                 -1.675749              0.082330           -1.295977   \n23                  1.319713             -0.661293           -0.074282   \n\n    negativos_global_pct      day1  seguidores      fica      fora  rejeicao  \n20             -1.895266 -1.109533   -0.245379 -0.439427 -0.522705 -1.188871  \n21              0.754903  1.461031   -0.517464 -0.435361  0.022943  1.606845  \n22             -1.485532 -0.676380    0.747726 -0.394517 -0.524270 -1.181167  \n23              0.370290  0.120705   -0.528428 -0.442080 -0.298877 -0.551841  ",
      "text/html": "<div>\n<style scoped>\n    .dataframe tbody tr th:only-of-type {\n        vertical-align: middle;\n    }\n\n    .dataframe tbody tr th {\n        vertical-align: top;\n    }\n\n    .dataframe thead th {\n        text-align: right;\n    }\n</style>\n<table border=\"1\" class=\"dataframe\">\n  <thead>\n    <tr style=\"text-align: right;\">\n      <th></th>\n      <th>paredao</th>\n      <th>nome</th>\n      <th>positivos_individual_pct</th>\n      <th>neutros_individual_pct</th>\n      <th>negativos_individual_pct</th>\n      <th>positivos_global_pct</th>\n      <th>neutros_global_pct</th>\n      <th>negativos_global_pct</th>\n      <th>day1</th>\n      <th>seguidores</th>\n      <th>fica</th>\n      <th>fora</th>\n      <th>rejeicao</th>\n    </tr>\n  </thead>\n  <tbody>\n    <tr>\n      <th>20</th>\n      <td>2</td>\n      <td>babu</td>\n      <td>0.841864</td>\n      <td>1.253614</td>\n      <td>-1.316904</td>\n      <td>-2.217411</td>\n      <td>-2.095263</td>\n      <td>-1.895266</td>\n      <td>-1.109533</td>\n      <td>-0.245379</td>\n      <td>-0.439427</td>\n      <td>-0.522705</td>\n      <td>-1.188871</td>\n    </tr>\n    <tr>\n      <th>21</th>\n      <td>2</td>\n      <td>petrix</td>\n      <td>-1.306109</td>\n      <td>0.034264</td>\n      <td>1.007125</td>\n      <td>-0.216688</td>\n      <td>0.748123</td>\n      <td>0.754903</td>\n      <td>1.461031</td>\n      <td>-0.517464</td>\n      <td>-0.435361</td>\n      <td>0.022943</td>\n      <td>1.606845</td>\n    </tr>\n    <tr>\n      <th>22</th>\n      <td>2</td>\n      <td>pyong</td>\n      <td>2.424619</td>\n      <td>-0.433936</td>\n      <td>-1.675749</td>\n      <td>0.082330</td>\n      <td>-1.295977</td>\n      <td>-1.485532</td>\n      <td>-0.676380</td>\n      <td>0.747726</td>\n      <td>-0.394517</td>\n      <td>-0.524270</td>\n      <td>-1.181167</td>\n    </tr>\n    <tr>\n      <th>23</th>\n      <td>2</td>\n      <td>hadson</td>\n      <td>-1.288287</td>\n      <td>-0.589637</td>\n      <td>1.319713</td>\n      <td>-0.661293</td>\n      <td>-0.074282</td>\n      <td>0.370290</td>\n      <td>0.120705</td>\n      <td>-0.528428</td>\n      <td>-0.442080</td>\n      <td>-0.298877</td>\n      <td>-0.551841</td>\n    </tr>\n  </tbody>\n</table>\n</div>"
     },
     "metadata": {},
     "execution_count": 11
    }
   ],
   "source": [
    "train_df, test_df, mean, std = get_train_test(2, normalize=NORMALIZE, drop_columns=REMOVE)\n",
    "test_df\n",
    ""
   ]
  },
  {
   "cell_type": "code",
   "execution_count": 12,
   "metadata": {},
   "outputs": [],
   "source": [
    "x_train, y_train = train_df.drop(columns=[\"paredao\", \"nome\", \"rejeicao\"], axis=1).to_numpy(), train_df.drop(columns=train_df.columns[:-1], axis=1).to_numpy()\n",
    "x_test, y_test = test_df.drop(columns=[\"paredao\", \"nome\", \"rejeicao\"], axis=1).to_numpy(), test_df.drop(columns=train_df.columns[:-1], axis=1).to_numpy()"
   ]
  },
  {
   "cell_type": "code",
   "execution_count": 13,
   "metadata": {},
   "outputs": [],
   "source": [
    "regressor = SVR(C=C, kernel=KERNEL)"
   ]
  },
  {
   "cell_type": "code",
   "execution_count": 14,
   "metadata": {},
   "outputs": [],
   "source": [
    "_ = regressor.fit(x_train, y_train)\n",
    ""
   ]
  },
  {
   "cell_type": "code",
   "execution_count": 15,
   "metadata": {},
   "outputs": [],
   "source": [
    "prediction = regressor.predict(x_test)\n",
    "test_df[\"predicao\"] = prediction * std + mean\n",
    "test_df[\"rejeicao\"] =  test_df[\"rejeicao\"] * std + mean\n",
    "summary_df = summary_df.append(test_df, ignore_index=True, sort=False)"
   ]
  },
  {
   "cell_type": "code",
   "execution_count": 16,
   "metadata": {},
   "outputs": [
    {
     "output_type": "execute_result",
     "data": {
      "text/plain": "   paredao    nome  positivos_individual_pct  neutros_individual_pct  \\\n21       2  petrix                 -1.306109                0.034264   \n23       2  hadson                 -1.288287               -0.589637   \n20       2    babu                  0.841864                1.253614   \n22       2   pyong                  2.424619               -0.433936   \n\n    negativos_individual_pct  positivos_global_pct  neutros_global_pct  \\\n21                  1.007125             -0.216688            0.748123   \n23                  1.319713             -0.661293           -0.074282   \n20                 -1.316904             -2.217411           -2.095263   \n22                 -1.675749              0.082330           -1.295977   \n\n    negativos_global_pct      day1  seguidores      fica      fora  rejeicao  \\\n21              0.754903  1.461031   -0.517464 -0.435361  0.022943    0.8027   \n23              0.370290  0.120705   -0.528428 -0.442080 -0.298877    0.1863   \n20             -1.895266 -1.109533   -0.245379 -0.439427 -0.522705    0.0044   \n22             -1.485532 -0.676380    0.747726 -0.394517 -0.524270    0.0066   \n\n    predicao  \n21  0.848226  \n23  0.497242  \n20  0.075445  \n22 -0.238383  ",
      "text/html": "<div>\n<style scoped>\n    .dataframe tbody tr th:only-of-type {\n        vertical-align: middle;\n    }\n\n    .dataframe tbody tr th {\n        vertical-align: top;\n    }\n\n    .dataframe thead th {\n        text-align: right;\n    }\n</style>\n<table border=\"1\" class=\"dataframe\">\n  <thead>\n    <tr style=\"text-align: right;\">\n      <th></th>\n      <th>paredao</th>\n      <th>nome</th>\n      <th>positivos_individual_pct</th>\n      <th>neutros_individual_pct</th>\n      <th>negativos_individual_pct</th>\n      <th>positivos_global_pct</th>\n      <th>neutros_global_pct</th>\n      <th>negativos_global_pct</th>\n      <th>day1</th>\n      <th>seguidores</th>\n      <th>fica</th>\n      <th>fora</th>\n      <th>rejeicao</th>\n      <th>predicao</th>\n    </tr>\n  </thead>\n  <tbody>\n    <tr>\n      <th>21</th>\n      <td>2</td>\n      <td>petrix</td>\n      <td>-1.306109</td>\n      <td>0.034264</td>\n      <td>1.007125</td>\n      <td>-0.216688</td>\n      <td>0.748123</td>\n      <td>0.754903</td>\n      <td>1.461031</td>\n      <td>-0.517464</td>\n      <td>-0.435361</td>\n      <td>0.022943</td>\n      <td>0.8027</td>\n      <td>0.848226</td>\n    </tr>\n    <tr>\n      <th>23</th>\n      <td>2</td>\n      <td>hadson</td>\n      <td>-1.288287</td>\n      <td>-0.589637</td>\n      <td>1.319713</td>\n      <td>-0.661293</td>\n      <td>-0.074282</td>\n      <td>0.370290</td>\n      <td>0.120705</td>\n      <td>-0.528428</td>\n      <td>-0.442080</td>\n      <td>-0.298877</td>\n      <td>0.1863</td>\n      <td>0.497242</td>\n    </tr>\n    <tr>\n      <th>20</th>\n      <td>2</td>\n      <td>babu</td>\n      <td>0.841864</td>\n      <td>1.253614</td>\n      <td>-1.316904</td>\n      <td>-2.217411</td>\n      <td>-2.095263</td>\n      <td>-1.895266</td>\n      <td>-1.109533</td>\n      <td>-0.245379</td>\n      <td>-0.439427</td>\n      <td>-0.522705</td>\n      <td>0.0044</td>\n      <td>0.075445</td>\n    </tr>\n    <tr>\n      <th>22</th>\n      <td>2</td>\n      <td>pyong</td>\n      <td>2.424619</td>\n      <td>-0.433936</td>\n      <td>-1.675749</td>\n      <td>0.082330</td>\n      <td>-1.295977</td>\n      <td>-1.485532</td>\n      <td>-0.676380</td>\n      <td>0.747726</td>\n      <td>-0.394517</td>\n      <td>-0.524270</td>\n      <td>0.0066</td>\n      <td>-0.238383</td>\n    </tr>\n  </tbody>\n</table>\n</div>"
     },
     "metadata": {},
     "execution_count": 16
    }
   ],
   "source": [
    "test_df.sort_values(by=\"predicao\", ascending=False)"
   ]
  },
  {
   "cell_type": "markdown",
   "metadata": {},
   "source": [
    "# Paredao 3"
   ]
  },
  {
   "cell_type": "code",
   "execution_count": 17,
   "metadata": {},
   "outputs": [
    {
     "output_type": "execute_result",
     "data": {
      "text/plain": "   paredao          nome  positivos_individual_pct  neutros_individual_pct  \\\n9        3  felipe_prior                  0.566176                0.652012   \n10       3        hadson                 -0.448945                2.084500   \n\n    negativos_individual_pct  positivos_global_pct  neutros_global_pct  \\\n9                  -0.785636              1.628578            0.619924   \n10                 -0.738772              0.882308            1.644574   \n\n    negativos_global_pct      day1  seguidores      fica      fora  rejeicao  \n9               0.750190 -1.389163   -0.354340 -0.425813 -0.526213 -0.493707  \n10              1.129482 -1.341286   -0.528428 -0.440665 -0.454175  1.587234  ",
      "text/html": "<div>\n<style scoped>\n    .dataframe tbody tr th:only-of-type {\n        vertical-align: middle;\n    }\n\n    .dataframe tbody tr th {\n        vertical-align: top;\n    }\n\n    .dataframe thead th {\n        text-align: right;\n    }\n</style>\n<table border=\"1\" class=\"dataframe\">\n  <thead>\n    <tr style=\"text-align: right;\">\n      <th></th>\n      <th>paredao</th>\n      <th>nome</th>\n      <th>positivos_individual_pct</th>\n      <th>neutros_individual_pct</th>\n      <th>negativos_individual_pct</th>\n      <th>positivos_global_pct</th>\n      <th>neutros_global_pct</th>\n      <th>negativos_global_pct</th>\n      <th>day1</th>\n      <th>seguidores</th>\n      <th>fica</th>\n      <th>fora</th>\n      <th>rejeicao</th>\n    </tr>\n  </thead>\n  <tbody>\n    <tr>\n      <th>9</th>\n      <td>3</td>\n      <td>felipe_prior</td>\n      <td>0.566176</td>\n      <td>0.652012</td>\n      <td>-0.785636</td>\n      <td>1.628578</td>\n      <td>0.619924</td>\n      <td>0.750190</td>\n      <td>-1.389163</td>\n      <td>-0.354340</td>\n      <td>-0.425813</td>\n      <td>-0.526213</td>\n      <td>-0.493707</td>\n    </tr>\n    <tr>\n      <th>10</th>\n      <td>3</td>\n      <td>hadson</td>\n      <td>-0.448945</td>\n      <td>2.084500</td>\n      <td>-0.738772</td>\n      <td>0.882308</td>\n      <td>1.644574</td>\n      <td>1.129482</td>\n      <td>-1.341286</td>\n      <td>-0.528428</td>\n      <td>-0.440665</td>\n      <td>-0.454175</td>\n      <td>1.587234</td>\n    </tr>\n  </tbody>\n</table>\n</div>"
     },
     "metadata": {},
     "execution_count": 17
    }
   ],
   "source": [
    "train_df, test_df, mean, std = get_train_test(3, normalize=NORMALIZE, drop_columns=REMOVE)\n",
    "test_df\n",
    ""
   ]
  },
  {
   "cell_type": "code",
   "execution_count": 18,
   "metadata": {},
   "outputs": [],
   "source": [
    "x_train, y_train = train_df.drop(columns=[\"paredao\", \"nome\", \"rejeicao\"], axis=1).to_numpy(), train_df.drop(columns=train_df.columns[:-1], axis=1).to_numpy()\n",
    "x_test, y_test = test_df.drop(columns=[\"paredao\", \"nome\", \"rejeicao\"], axis=1).to_numpy(), test_df.drop(columns=train_df.columns[:-1], axis=1).to_numpy()"
   ]
  },
  {
   "cell_type": "code",
   "execution_count": 19,
   "metadata": {},
   "outputs": [],
   "source": [
    "regressor = SVR(C=C, kernel=KERNEL)"
   ]
  },
  {
   "cell_type": "code",
   "execution_count": 20,
   "metadata": {},
   "outputs": [],
   "source": [
    "_ = regressor.fit(x_train, y_train)"
   ]
  },
  {
   "cell_type": "code",
   "execution_count": 21,
   "metadata": {},
   "outputs": [],
   "source": [
    "prediction = regressor.predict(x_test)\n",
    "test_df[\"predicao\"] = prediction * std + mean\n",
    "test_df[\"rejeicao\"] =  test_df[\"rejeicao\"] * std + mean\n",
    "summary_df = summary_df.append(test_df, ignore_index=True, sort=False)"
   ]
  },
  {
   "cell_type": "code",
   "execution_count": 22,
   "metadata": {},
   "outputs": [
    {
     "output_type": "execute_result",
     "data": {
      "text/plain": "   paredao          nome  positivos_individual_pct  neutros_individual_pct  \\\n10       3        hadson                 -0.448945                2.084500   \n9        3  felipe_prior                  0.566176                0.652012   \n\n    negativos_individual_pct  positivos_global_pct  neutros_global_pct  \\\n10                 -0.738772              0.882308            1.644574   \n9                  -0.785636              1.628578            0.619924   \n\n    negativos_global_pct      day1  seguidores      fica      fora  rejeicao  \\\n10              1.129482 -1.341286   -0.528428 -0.440665 -0.454175    0.7971   \n9               0.750190 -1.389163   -0.354340 -0.425813 -0.526213    0.2029   \n\n    predicao  \n10  0.769015  \n9   0.374539  ",
      "text/html": "<div>\n<style scoped>\n    .dataframe tbody tr th:only-of-type {\n        vertical-align: middle;\n    }\n\n    .dataframe tbody tr th {\n        vertical-align: top;\n    }\n\n    .dataframe thead th {\n        text-align: right;\n    }\n</style>\n<table border=\"1\" class=\"dataframe\">\n  <thead>\n    <tr style=\"text-align: right;\">\n      <th></th>\n      <th>paredao</th>\n      <th>nome</th>\n      <th>positivos_individual_pct</th>\n      <th>neutros_individual_pct</th>\n      <th>negativos_individual_pct</th>\n      <th>positivos_global_pct</th>\n      <th>neutros_global_pct</th>\n      <th>negativos_global_pct</th>\n      <th>day1</th>\n      <th>seguidores</th>\n      <th>fica</th>\n      <th>fora</th>\n      <th>rejeicao</th>\n      <th>predicao</th>\n    </tr>\n  </thead>\n  <tbody>\n    <tr>\n      <th>10</th>\n      <td>3</td>\n      <td>hadson</td>\n      <td>-0.448945</td>\n      <td>2.084500</td>\n      <td>-0.738772</td>\n      <td>0.882308</td>\n      <td>1.644574</td>\n      <td>1.129482</td>\n      <td>-1.341286</td>\n      <td>-0.528428</td>\n      <td>-0.440665</td>\n      <td>-0.454175</td>\n      <td>0.7971</td>\n      <td>0.769015</td>\n    </tr>\n    <tr>\n      <th>9</th>\n      <td>3</td>\n      <td>felipe_prior</td>\n      <td>0.566176</td>\n      <td>0.652012</td>\n      <td>-0.785636</td>\n      <td>1.628578</td>\n      <td>0.619924</td>\n      <td>0.750190</td>\n      <td>-1.389163</td>\n      <td>-0.354340</td>\n      <td>-0.425813</td>\n      <td>-0.526213</td>\n      <td>0.2029</td>\n      <td>0.374539</td>\n    </tr>\n  </tbody>\n</table>\n</div>"
     },
     "metadata": {},
     "execution_count": 22
    }
   ],
   "source": [
    "test_df.sort_values(by=\"predicao\", ascending=False)"
   ]
  },
  {
   "cell_type": "markdown",
   "metadata": {},
   "source": [
    "# Paredao 4"
   ]
  },
  {
   "cell_type": "code",
   "execution_count": 23,
   "metadata": {},
   "outputs": [
    {
     "output_type": "execute_result",
     "data": {
      "text/plain": "   paredao         nome  positivos_individual_pct  neutros_individual_pct  \\\n29       4         babu                 -0.757918               -0.845679   \n30       4  victor_hugo                 -0.182145                0.658502   \n31       4        lucas                 -0.598789               -0.969196   \n\n    negativos_individual_pct  positivos_global_pct  neutros_global_pct  \\\n29                  1.037492             -0.262035           -0.140402   \n30                 -0.201736             -1.724828           -1.499780   \n31                  0.977258              1.735774            1.413732   \n\n    negativos_global_pct      day1  seguidores      fica      fora  rejeicao  \n29             -0.022919 -0.316891   -0.245379 -0.422277 -0.513316 -1.158753  \n30             -1.526085 -1.031990   -0.524663 -0.437306 -0.499556  0.059273  \n31              1.361037  0.556299   -0.516336 -0.407778 -0.209141  0.988727  ",
      "text/html": "<div>\n<style scoped>\n    .dataframe tbody tr th:only-of-type {\n        vertical-align: middle;\n    }\n\n    .dataframe tbody tr th {\n        vertical-align: top;\n    }\n\n    .dataframe thead th {\n        text-align: right;\n    }\n</style>\n<table border=\"1\" class=\"dataframe\">\n  <thead>\n    <tr style=\"text-align: right;\">\n      <th></th>\n      <th>paredao</th>\n      <th>nome</th>\n      <th>positivos_individual_pct</th>\n      <th>neutros_individual_pct</th>\n      <th>negativos_individual_pct</th>\n      <th>positivos_global_pct</th>\n      <th>neutros_global_pct</th>\n      <th>negativos_global_pct</th>\n      <th>day1</th>\n      <th>seguidores</th>\n      <th>fica</th>\n      <th>fora</th>\n      <th>rejeicao</th>\n    </tr>\n  </thead>\n  <tbody>\n    <tr>\n      <th>29</th>\n      <td>4</td>\n      <td>babu</td>\n      <td>-0.757918</td>\n      <td>-0.845679</td>\n      <td>1.037492</td>\n      <td>-0.262035</td>\n      <td>-0.140402</td>\n      <td>-0.022919</td>\n      <td>-0.316891</td>\n      <td>-0.245379</td>\n      <td>-0.422277</td>\n      <td>-0.513316</td>\n      <td>-1.158753</td>\n    </tr>\n    <tr>\n      <th>30</th>\n      <td>4</td>\n      <td>victor_hugo</td>\n      <td>-0.182145</td>\n      <td>0.658502</td>\n      <td>-0.201736</td>\n      <td>-1.724828</td>\n      <td>-1.499780</td>\n      <td>-1.526085</td>\n      <td>-1.031990</td>\n      <td>-0.524663</td>\n      <td>-0.437306</td>\n      <td>-0.499556</td>\n      <td>0.059273</td>\n    </tr>\n    <tr>\n      <th>31</th>\n      <td>4</td>\n      <td>lucas</td>\n      <td>-0.598789</td>\n      <td>-0.969196</td>\n      <td>0.977258</td>\n      <td>1.735774</td>\n      <td>1.413732</td>\n      <td>1.361037</td>\n      <td>0.556299</td>\n      <td>-0.516336</td>\n      <td>-0.407778</td>\n      <td>-0.209141</td>\n      <td>0.988727</td>\n    </tr>\n  </tbody>\n</table>\n</div>"
     },
     "metadata": {},
     "execution_count": 23
    }
   ],
   "source": [
    "train_df, test_df, mean, std = get_train_test(4, normalize=NORMALIZE, drop_columns=REMOVE)\n",
    "test_df\n",
    ""
   ]
  },
  {
   "cell_type": "code",
   "execution_count": 24,
   "metadata": {},
   "outputs": [],
   "source": [
    "x_train, y_train = train_df.drop(columns=[\"paredao\", \"nome\", \"rejeicao\"], axis=1).to_numpy(), train_df.drop(columns=train_df.columns[:-1], axis=1).to_numpy()\n",
    "x_test, y_test = test_df.drop(columns=[\"paredao\", \"nome\", \"rejeicao\"], axis=1).to_numpy(), test_df.drop(columns=train_df.columns[:-1], axis=1).to_numpy()"
   ]
  },
  {
   "cell_type": "code",
   "execution_count": 25,
   "metadata": {},
   "outputs": [],
   "source": [
    "regressor = SVR(C=C, kernel=KERNEL)"
   ]
  },
  {
   "cell_type": "code",
   "execution_count": 26,
   "metadata": {},
   "outputs": [],
   "source": [
    "_ = regressor.fit(x_train, y_train)\n",
    ""
   ]
  },
  {
   "cell_type": "code",
   "execution_count": 27,
   "metadata": {},
   "outputs": [],
   "source": [
    "prediction = regressor.predict(x_test)\n",
    "test_df[\"predicao\"] = prediction * std + mean\n",
    "test_df[\"rejeicao\"] =  test_df[\"rejeicao\"] * std + mean\n",
    "summary_df = summary_df.append(test_df, ignore_index=True, sort=False)"
   ]
  },
  {
   "cell_type": "code",
   "execution_count": 28,
   "metadata": {},
   "outputs": [
    {
     "output_type": "execute_result",
     "data": {
      "text/plain": "   paredao         nome  positivos_individual_pct  neutros_individual_pct  \\\n31       4        lucas                 -0.598789               -0.969196   \n29       4         babu                 -0.757918               -0.845679   \n30       4  victor_hugo                 -0.182145                0.658502   \n\n    negativos_individual_pct  positivos_global_pct  neutros_global_pct  \\\n31                  0.977258              1.735774            1.413732   \n29                  1.037492             -0.262035           -0.140402   \n30                 -0.201736             -1.724828           -1.499780   \n\n    negativos_global_pct      day1  seguidores      fica      fora  rejeicao  \\\n31              1.361037  0.556299   -0.516336 -0.407778 -0.209141    0.6262   \n29             -0.022919 -0.316891   -0.245379 -0.422277 -0.513316    0.0130   \n30             -1.526085 -1.031990   -0.524663 -0.437306 -0.499556    0.3608   \n\n    predicao  \n31  0.596664  \n29  0.333347  \n30  0.196850  ",
      "text/html": "<div>\n<style scoped>\n    .dataframe tbody tr th:only-of-type {\n        vertical-align: middle;\n    }\n\n    .dataframe tbody tr th {\n        vertical-align: top;\n    }\n\n    .dataframe thead th {\n        text-align: right;\n    }\n</style>\n<table border=\"1\" class=\"dataframe\">\n  <thead>\n    <tr style=\"text-align: right;\">\n      <th></th>\n      <th>paredao</th>\n      <th>nome</th>\n      <th>positivos_individual_pct</th>\n      <th>neutros_individual_pct</th>\n      <th>negativos_individual_pct</th>\n      <th>positivos_global_pct</th>\n      <th>neutros_global_pct</th>\n      <th>negativos_global_pct</th>\n      <th>day1</th>\n      <th>seguidores</th>\n      <th>fica</th>\n      <th>fora</th>\n      <th>rejeicao</th>\n      <th>predicao</th>\n    </tr>\n  </thead>\n  <tbody>\n    <tr>\n      <th>31</th>\n      <td>4</td>\n      <td>lucas</td>\n      <td>-0.598789</td>\n      <td>-0.969196</td>\n      <td>0.977258</td>\n      <td>1.735774</td>\n      <td>1.413732</td>\n      <td>1.361037</td>\n      <td>0.556299</td>\n      <td>-0.516336</td>\n      <td>-0.407778</td>\n      <td>-0.209141</td>\n      <td>0.6262</td>\n      <td>0.596664</td>\n    </tr>\n    <tr>\n      <th>29</th>\n      <td>4</td>\n      <td>babu</td>\n      <td>-0.757918</td>\n      <td>-0.845679</td>\n      <td>1.037492</td>\n      <td>-0.262035</td>\n      <td>-0.140402</td>\n      <td>-0.022919</td>\n      <td>-0.316891</td>\n      <td>-0.245379</td>\n      <td>-0.422277</td>\n      <td>-0.513316</td>\n      <td>0.0130</td>\n      <td>0.333347</td>\n    </tr>\n    <tr>\n      <th>30</th>\n      <td>4</td>\n      <td>victor_hugo</td>\n      <td>-0.182145</td>\n      <td>0.658502</td>\n      <td>-0.201736</td>\n      <td>-1.724828</td>\n      <td>-1.499780</td>\n      <td>-1.526085</td>\n      <td>-1.031990</td>\n      <td>-0.524663</td>\n      <td>-0.437306</td>\n      <td>-0.499556</td>\n      <td>0.3608</td>\n      <td>0.196850</td>\n    </tr>\n  </tbody>\n</table>\n</div>"
     },
     "metadata": {},
     "execution_count": 28
    }
   ],
   "source": [
    "test_df.sort_values(by=\"predicao\", ascending=False)"
   ]
  },
  {
   "cell_type": "markdown",
   "metadata": {},
   "source": [
    "# Paredao 5"
   ]
  },
  {
   "cell_type": "code",
   "execution_count": 29,
   "metadata": {},
   "outputs": [
    {
     "output_type": "execute_result",
     "data": {
      "text/plain": "  paredao            nome  positivos_individual_pct  neutros_individual_pct  \\\n3       5  bianca_andrade                 -0.258918                1.760777   \n4       5       flayslene                 -0.820707               -0.194888   \n5       5    felipe_prior                 -1.310870               -1.145978   \n\n   negativos_individual_pct  positivos_global_pct  neutros_global_pct  \\\n3                 -0.718459              0.217874            0.204274   \n4                  0.746119             -1.142354           -1.097732   \n5                  1.628649              0.673392            0.667008   \n\n   negativos_global_pct      day1  seguidores      fica      fora  rejeicao  \n3             -0.793069 -1.335340   -0.167656 -0.338820 -0.426817  0.654978  \n4             -0.901750 -1.339283   -0.444062 -0.396285 -0.375339 -0.586512  \n5              1.506852 -1.266309   -0.354340 -0.305226 -0.148867 -0.179219  ",
      "text/html": "<div>\n<style scoped>\n    .dataframe tbody tr th:only-of-type {\n        vertical-align: middle;\n    }\n\n    .dataframe tbody tr th {\n        vertical-align: top;\n    }\n\n    .dataframe thead th {\n        text-align: right;\n    }\n</style>\n<table border=\"1\" class=\"dataframe\">\n  <thead>\n    <tr style=\"text-align: right;\">\n      <th></th>\n      <th>paredao</th>\n      <th>nome</th>\n      <th>positivos_individual_pct</th>\n      <th>neutros_individual_pct</th>\n      <th>negativos_individual_pct</th>\n      <th>positivos_global_pct</th>\n      <th>neutros_global_pct</th>\n      <th>negativos_global_pct</th>\n      <th>day1</th>\n      <th>seguidores</th>\n      <th>fica</th>\n      <th>fora</th>\n      <th>rejeicao</th>\n    </tr>\n  </thead>\n  <tbody>\n    <tr>\n      <th>3</th>\n      <td>5</td>\n      <td>bianca_andrade</td>\n      <td>-0.258918</td>\n      <td>1.760777</td>\n      <td>-0.718459</td>\n      <td>0.217874</td>\n      <td>0.204274</td>\n      <td>-0.793069</td>\n      <td>-1.335340</td>\n      <td>-0.167656</td>\n      <td>-0.338820</td>\n      <td>-0.426817</td>\n      <td>0.654978</td>\n    </tr>\n    <tr>\n      <th>4</th>\n      <td>5</td>\n      <td>flayslene</td>\n      <td>-0.820707</td>\n      <td>-0.194888</td>\n      <td>0.746119</td>\n      <td>-1.142354</td>\n      <td>-1.097732</td>\n      <td>-0.901750</td>\n      <td>-1.339283</td>\n      <td>-0.444062</td>\n      <td>-0.396285</td>\n      <td>-0.375339</td>\n      <td>-0.586512</td>\n    </tr>\n    <tr>\n      <th>5</th>\n      <td>5</td>\n      <td>felipe_prior</td>\n      <td>-1.310870</td>\n      <td>-1.145978</td>\n      <td>1.628649</td>\n      <td>0.673392</td>\n      <td>0.667008</td>\n      <td>1.506852</td>\n      <td>-1.266309</td>\n      <td>-0.354340</td>\n      <td>-0.305226</td>\n      <td>-0.148867</td>\n      <td>-0.179219</td>\n    </tr>\n  </tbody>\n</table>\n</div>"
     },
     "metadata": {},
     "execution_count": 29
    }
   ],
   "source": [
    "train_df, test_df, mean, std = get_train_test(5, normalize=NORMALIZE, drop_columns=REMOVE)\n",
    "test_df\n",
    ""
   ]
  },
  {
   "cell_type": "code",
   "execution_count": 30,
   "metadata": {},
   "outputs": [],
   "source": [
    "x_train, y_train = train_df.drop(columns=[\"paredao\", \"nome\", \"rejeicao\"], axis=1).to_numpy(), train_df.drop(columns=train_df.columns[:-1], axis=1).to_numpy()\n",
    "x_test, y_test = test_df.drop(columns=[\"paredao\", \"nome\", \"rejeicao\"], axis=1).to_numpy(), test_df.drop(columns=train_df.columns[:-1], axis=1).to_numpy()"
   ]
  },
  {
   "cell_type": "code",
   "execution_count": 31,
   "metadata": {},
   "outputs": [],
   "source": [
    "regressor = SVR(C=C, kernel=KERNEL)"
   ]
  },
  {
   "cell_type": "code",
   "execution_count": 32,
   "metadata": {},
   "outputs": [],
   "source": [
    "_ = regressor.fit(x_train, y_train)\n",
    ""
   ]
  },
  {
   "cell_type": "code",
   "execution_count": 33,
   "metadata": {},
   "outputs": [],
   "source": [
    "prediction = regressor.predict(x_test)\n",
    "test_df[\"predicao\"] = prediction * std + mean\n",
    "test_df[\"rejeicao\"] =  test_df[\"rejeicao\"] * std + mean\n",
    "summary_df = summary_df.append(test_df, ignore_index=True, sort=False)"
   ]
  },
  {
   "cell_type": "code",
   "execution_count": 34,
   "metadata": {},
   "outputs": [
    {
     "output_type": "execute_result",
     "data": {
      "text/plain": "  paredao            nome  positivos_individual_pct  neutros_individual_pct  \\\n3       5  bianca_andrade                 -0.258918                1.760777   \n5       5    felipe_prior                 -1.310870               -1.145978   \n4       5       flayslene                 -0.820707               -0.194888   \n\n   negativos_individual_pct  positivos_global_pct  neutros_global_pct  \\\n3                 -0.718459              0.217874            0.204274   \n5                  1.628649              0.673392            0.667008   \n4                  0.746119             -1.142354           -1.097732   \n\n   negativos_global_pct      day1  seguidores      fica      fora  rejeicao  \\\n3             -0.793069 -1.335340   -0.167656 -0.338820 -0.426817    0.5309   \n5              1.506852 -1.266309   -0.354340 -0.305226 -0.148867    0.2927   \n4             -0.901750 -1.339283   -0.444062 -0.396285 -0.375339    0.1764   \n\n   predicao  \n3  0.571719  \n5  0.279919  \n4  0.165969  ",
      "text/html": "<div>\n<style scoped>\n    .dataframe tbody tr th:only-of-type {\n        vertical-align: middle;\n    }\n\n    .dataframe tbody tr th {\n        vertical-align: top;\n    }\n\n    .dataframe thead th {\n        text-align: right;\n    }\n</style>\n<table border=\"1\" class=\"dataframe\">\n  <thead>\n    <tr style=\"text-align: right;\">\n      <th></th>\n      <th>paredao</th>\n      <th>nome</th>\n      <th>positivos_individual_pct</th>\n      <th>neutros_individual_pct</th>\n      <th>negativos_individual_pct</th>\n      <th>positivos_global_pct</th>\n      <th>neutros_global_pct</th>\n      <th>negativos_global_pct</th>\n      <th>day1</th>\n      <th>seguidores</th>\n      <th>fica</th>\n      <th>fora</th>\n      <th>rejeicao</th>\n      <th>predicao</th>\n    </tr>\n  </thead>\n  <tbody>\n    <tr>\n      <th>3</th>\n      <td>5</td>\n      <td>bianca_andrade</td>\n      <td>-0.258918</td>\n      <td>1.760777</td>\n      <td>-0.718459</td>\n      <td>0.217874</td>\n      <td>0.204274</td>\n      <td>-0.793069</td>\n      <td>-1.335340</td>\n      <td>-0.167656</td>\n      <td>-0.338820</td>\n      <td>-0.426817</td>\n      <td>0.5309</td>\n      <td>0.571719</td>\n    </tr>\n    <tr>\n      <th>5</th>\n      <td>5</td>\n      <td>felipe_prior</td>\n      <td>-1.310870</td>\n      <td>-1.145978</td>\n      <td>1.628649</td>\n      <td>0.673392</td>\n      <td>0.667008</td>\n      <td>1.506852</td>\n      <td>-1.266309</td>\n      <td>-0.354340</td>\n      <td>-0.305226</td>\n      <td>-0.148867</td>\n      <td>0.2927</td>\n      <td>0.279919</td>\n    </tr>\n    <tr>\n      <th>4</th>\n      <td>5</td>\n      <td>flayslene</td>\n      <td>-0.820707</td>\n      <td>-0.194888</td>\n      <td>0.746119</td>\n      <td>-1.142354</td>\n      <td>-1.097732</td>\n      <td>-0.901750</td>\n      <td>-1.339283</td>\n      <td>-0.444062</td>\n      <td>-0.396285</td>\n      <td>-0.375339</td>\n      <td>0.1764</td>\n      <td>0.165969</td>\n    </tr>\n  </tbody>\n</table>\n</div>"
     },
     "metadata": {},
     "execution_count": 34
    }
   ],
   "source": [
    "test_df.sort_values(by=\"predicao\", ascending=False)"
   ]
  },
  {
   "cell_type": "markdown",
   "metadata": {},
   "source": [
    "# Paredao 6"
   ]
  },
  {
   "cell_type": "code",
   "execution_count": 35,
   "metadata": {},
   "outputs": [
    {
     "output_type": "execute_result",
     "data": {
      "text/plain": "  paredao             nome  positivos_individual_pct  neutros_individual_pct  \\\n0       6  gizelly_bicalho                  2.043195                0.103645   \n1       6        guilherme                 -1.229993               -1.761684   \n2       6            pyong                 -0.428713               -1.392274   \n\n   negativos_individual_pct  positivos_global_pct  neutros_global_pct  \\\n0                 -1.657792             -0.008121           -0.732017   \n1                  1.887461             -0.683245            0.008504   \n2                  1.065236              0.440277            0.497064   \n\n   negativos_global_pct      day1  seguidores      fica      fora  rejeicao  \n0             -1.425415 -0.152104   -0.326546 -0.207978 -0.507272 -1.181867  \n1              0.651485  1.633704   -0.444706 -0.403181  0.936548  0.759340  \n2              0.585963  0.978436    0.747726 -0.113205  0.273536  0.311773  ",
      "text/html": "<div>\n<style scoped>\n    .dataframe tbody tr th:only-of-type {\n        vertical-align: middle;\n    }\n\n    .dataframe tbody tr th {\n        vertical-align: top;\n    }\n\n    .dataframe thead th {\n        text-align: right;\n    }\n</style>\n<table border=\"1\" class=\"dataframe\">\n  <thead>\n    <tr style=\"text-align: right;\">\n      <th></th>\n      <th>paredao</th>\n      <th>nome</th>\n      <th>positivos_individual_pct</th>\n      <th>neutros_individual_pct</th>\n      <th>negativos_individual_pct</th>\n      <th>positivos_global_pct</th>\n      <th>neutros_global_pct</th>\n      <th>negativos_global_pct</th>\n      <th>day1</th>\n      <th>seguidores</th>\n      <th>fica</th>\n      <th>fora</th>\n      <th>rejeicao</th>\n    </tr>\n  </thead>\n  <tbody>\n    <tr>\n      <th>0</th>\n      <td>6</td>\n      <td>gizelly_bicalho</td>\n      <td>2.043195</td>\n      <td>0.103645</td>\n      <td>-1.657792</td>\n      <td>-0.008121</td>\n      <td>-0.732017</td>\n      <td>-1.425415</td>\n      <td>-0.152104</td>\n      <td>-0.326546</td>\n      <td>-0.207978</td>\n      <td>-0.507272</td>\n      <td>-1.181867</td>\n    </tr>\n    <tr>\n      <th>1</th>\n      <td>6</td>\n      <td>guilherme</td>\n      <td>-1.229993</td>\n      <td>-1.761684</td>\n      <td>1.887461</td>\n      <td>-0.683245</td>\n      <td>0.008504</td>\n      <td>0.651485</td>\n      <td>1.633704</td>\n      <td>-0.444706</td>\n      <td>-0.403181</td>\n      <td>0.936548</td>\n      <td>0.759340</td>\n    </tr>\n    <tr>\n      <th>2</th>\n      <td>6</td>\n      <td>pyong</td>\n      <td>-0.428713</td>\n      <td>-1.392274</td>\n      <td>1.065236</td>\n      <td>0.440277</td>\n      <td>0.497064</td>\n      <td>0.585963</td>\n      <td>0.978436</td>\n      <td>0.747726</td>\n      <td>-0.113205</td>\n      <td>0.273536</td>\n      <td>0.311773</td>\n    </tr>\n  </tbody>\n</table>\n</div>"
     },
     "metadata": {},
     "execution_count": 35
    }
   ],
   "source": [
    "train_df, test_df, mean, std = get_train_test(6, normalize=NORMALIZE, drop_columns=REMOVE)\n",
    "test_df\n",
    ""
   ]
  },
  {
   "cell_type": "code",
   "execution_count": 36,
   "metadata": {},
   "outputs": [],
   "source": [
    "x_train, y_train = train_df.drop(columns=[\"paredao\", \"nome\", \"rejeicao\"], axis=1).to_numpy(), train_df.drop(columns=train_df.columns[:-1], axis=1).to_numpy()\n",
    "x_test, y_test = test_df.drop(columns=[\"paredao\", \"nome\", \"rejeicao\"], axis=1).to_numpy(), test_df.drop(columns=train_df.columns[:-1], axis=1).to_numpy()"
   ]
  },
  {
   "cell_type": "code",
   "execution_count": 37,
   "metadata": {},
   "outputs": [],
   "source": [
    "regressor = SVR(C=C, kernel=KERNEL)"
   ]
  },
  {
   "cell_type": "code",
   "execution_count": 38,
   "metadata": {},
   "outputs": [],
   "source": [
    "_ = regressor.fit(x_train, y_train)\n",
    ""
   ]
  },
  {
   "cell_type": "code",
   "execution_count": 39,
   "metadata": {},
   "outputs": [],
   "source": [
    "prediction = regressor.predict(x_test)\n",
    "test_df[\"predicao\"] = prediction * std + mean\n",
    "test_df[\"rejeicao\"] =  test_df[\"rejeicao\"] * std + mean\n",
    "summary_df = summary_df.append(test_df, ignore_index=True, sort=False)"
   ]
  },
  {
   "cell_type": "code",
   "execution_count": 40,
   "metadata": {},
   "outputs": [
    {
     "output_type": "execute_result",
     "data": {
      "text/plain": "  paredao             nome  positivos_individual_pct  neutros_individual_pct  \\\n1       6        guilherme                 -1.229993               -1.761684   \n2       6            pyong                 -0.428713               -1.392274   \n0       6  gizelly_bicalho                  2.043195                0.103645   \n\n   negativos_individual_pct  positivos_global_pct  neutros_global_pct  \\\n1                  1.887461             -0.683245            0.008504   \n2                  1.065236              0.440277            0.497064   \n0                 -1.657792             -0.008121           -0.732017   \n\n   negativos_global_pct      day1  seguidores      fica      fora  rejeicao  \\\n1              0.651485  1.633704   -0.444706 -0.403181  0.936548    0.5607   \n2              0.585963  0.978436    0.747726 -0.113205  0.273536    0.4329   \n0             -1.425415 -0.152104   -0.326546 -0.207978 -0.507272    0.0064   \n\n   predicao  \n1  0.354022  \n2  0.307261  \n0  0.142087  ",
      "text/html": "<div>\n<style scoped>\n    .dataframe tbody tr th:only-of-type {\n        vertical-align: middle;\n    }\n\n    .dataframe tbody tr th {\n        vertical-align: top;\n    }\n\n    .dataframe thead th {\n        text-align: right;\n    }\n</style>\n<table border=\"1\" class=\"dataframe\">\n  <thead>\n    <tr style=\"text-align: right;\">\n      <th></th>\n      <th>paredao</th>\n      <th>nome</th>\n      <th>positivos_individual_pct</th>\n      <th>neutros_individual_pct</th>\n      <th>negativos_individual_pct</th>\n      <th>positivos_global_pct</th>\n      <th>neutros_global_pct</th>\n      <th>negativos_global_pct</th>\n      <th>day1</th>\n      <th>seguidores</th>\n      <th>fica</th>\n      <th>fora</th>\n      <th>rejeicao</th>\n      <th>predicao</th>\n    </tr>\n  </thead>\n  <tbody>\n    <tr>\n      <th>1</th>\n      <td>6</td>\n      <td>guilherme</td>\n      <td>-1.229993</td>\n      <td>-1.761684</td>\n      <td>1.887461</td>\n      <td>-0.683245</td>\n      <td>0.008504</td>\n      <td>0.651485</td>\n      <td>1.633704</td>\n      <td>-0.444706</td>\n      <td>-0.403181</td>\n      <td>0.936548</td>\n      <td>0.5607</td>\n      <td>0.354022</td>\n    </tr>\n    <tr>\n      <th>2</th>\n      <td>6</td>\n      <td>pyong</td>\n      <td>-0.428713</td>\n      <td>-1.392274</td>\n      <td>1.065236</td>\n      <td>0.440277</td>\n      <td>0.497064</td>\n      <td>0.585963</td>\n      <td>0.978436</td>\n      <td>0.747726</td>\n      <td>-0.113205</td>\n      <td>0.273536</td>\n      <td>0.4329</td>\n      <td>0.307261</td>\n    </tr>\n    <tr>\n      <th>0</th>\n      <td>6</td>\n      <td>gizelly_bicalho</td>\n      <td>2.043195</td>\n      <td>0.103645</td>\n      <td>-1.657792</td>\n      <td>-0.008121</td>\n      <td>-0.732017</td>\n      <td>-1.425415</td>\n      <td>-0.152104</td>\n      <td>-0.326546</td>\n      <td>-0.207978</td>\n      <td>-0.507272</td>\n      <td>0.0064</td>\n      <td>0.142087</td>\n    </tr>\n  </tbody>\n</table>\n</div>"
     },
     "metadata": {},
     "execution_count": 40
    }
   ],
   "source": [
    "test_df.sort_values(by=\"predicao\", ascending=False)"
   ]
  },
  {
   "cell_type": "markdown",
   "metadata": {},
   "source": [
    "# Paredao 7"
   ]
  },
  {
   "cell_type": "code",
   "execution_count": 41,
   "metadata": {},
   "outputs": [
    {
     "output_type": "execute_result",
     "data": {
      "text/plain": "  paredao          nome  positivos_individual_pct  neutros_individual_pct  \\\n6       7          babu                  1.086410               -0.805217   \n7       7  manu_gavassi                  1.372279                0.261504   \n8       7   victor_hugo                 -0.489664                0.462487   \n\n   negativos_individual_pct  positivos_global_pct  neutros_global_pct  \\\n6                 -0.431152              0.904525            0.283412   \n7                 -1.213874              0.165291           -0.054596   \n8                  0.142213             -1.320905           -0.455266   \n\n   negativos_global_pct      day1  seguidores      fica      fora  rejeicao  \n6              0.544082 -0.268512   -0.245379 -0.165189 -0.518982 -1.043184  \n7             -0.476042 -0.623496    3.348856 -0.123991 -0.507434 -0.847768  \n8             -0.256007 -0.570611   -0.524663 -0.438190 -0.396869  1.780199  ",
      "text/html": "<div>\n<style scoped>\n    .dataframe tbody tr th:only-of-type {\n        vertical-align: middle;\n    }\n\n    .dataframe tbody tr th {\n        vertical-align: top;\n    }\n\n    .dataframe thead th {\n        text-align: right;\n    }\n</style>\n<table border=\"1\" class=\"dataframe\">\n  <thead>\n    <tr style=\"text-align: right;\">\n      <th></th>\n      <th>paredao</th>\n      <th>nome</th>\n      <th>positivos_individual_pct</th>\n      <th>neutros_individual_pct</th>\n      <th>negativos_individual_pct</th>\n      <th>positivos_global_pct</th>\n      <th>neutros_global_pct</th>\n      <th>negativos_global_pct</th>\n      <th>day1</th>\n      <th>seguidores</th>\n      <th>fica</th>\n      <th>fora</th>\n      <th>rejeicao</th>\n    </tr>\n  </thead>\n  <tbody>\n    <tr>\n      <th>6</th>\n      <td>7</td>\n      <td>babu</td>\n      <td>1.086410</td>\n      <td>-0.805217</td>\n      <td>-0.431152</td>\n      <td>0.904525</td>\n      <td>0.283412</td>\n      <td>0.544082</td>\n      <td>-0.268512</td>\n      <td>-0.245379</td>\n      <td>-0.165189</td>\n      <td>-0.518982</td>\n      <td>-1.043184</td>\n    </tr>\n    <tr>\n      <th>7</th>\n      <td>7</td>\n      <td>manu_gavassi</td>\n      <td>1.372279</td>\n      <td>0.261504</td>\n      <td>-1.213874</td>\n      <td>0.165291</td>\n      <td>-0.054596</td>\n      <td>-0.476042</td>\n      <td>-0.623496</td>\n      <td>3.348856</td>\n      <td>-0.123991</td>\n      <td>-0.507434</td>\n      <td>-0.847768</td>\n    </tr>\n    <tr>\n      <th>8</th>\n      <td>7</td>\n      <td>victor_hugo</td>\n      <td>-0.489664</td>\n      <td>0.462487</td>\n      <td>0.142213</td>\n      <td>-1.320905</td>\n      <td>-0.455266</td>\n      <td>-0.256007</td>\n      <td>-0.570611</td>\n      <td>-0.524663</td>\n      <td>-0.438190</td>\n      <td>-0.396869</td>\n      <td>1.780199</td>\n    </tr>\n  </tbody>\n</table>\n</div>"
     },
     "metadata": {},
     "execution_count": 41
    }
   ],
   "source": [
    "train_df, test_df, mean, std = get_train_test(7, normalize=NORMALIZE, drop_columns=REMOVE)\n",
    "test_df\n",
    ""
   ]
  },
  {
   "cell_type": "code",
   "execution_count": 42,
   "metadata": {},
   "outputs": [],
   "source": [
    "x_train, y_train = train_df.drop(columns=[\"paredao\", \"nome\", \"rejeicao\"], axis=1).to_numpy(), train_df.drop(columns=train_df.columns[:-1], axis=1).to_numpy()\n",
    "x_test, y_test = test_df.drop(columns=[\"paredao\", \"nome\", \"rejeicao\"], axis=1).to_numpy(), test_df.drop(columns=train_df.columns[:-1], axis=1).to_numpy()"
   ]
  },
  {
   "cell_type": "code",
   "execution_count": 43,
   "metadata": {},
   "outputs": [],
   "source": [
    "regressor = SVR(C=C, kernel=KERNEL)"
   ]
  },
  {
   "cell_type": "code",
   "execution_count": 44,
   "metadata": {},
   "outputs": [],
   "source": [
    "_ = regressor.fit(x_train, y_train)\n",
    "prediction = regressor.predict(x_test)\n",
    "test_df[\"predicao\"] = prediction * std + mean\n",
    "test_df[\"rejeicao\"] =  test_df[\"rejeicao\"] * std + mean\n",
    "summary_df = summary_df.append(test_df, ignore_index=True, sort=False)"
   ]
  },
  {
   "cell_type": "code",
   "execution_count": 45,
   "metadata": {},
   "outputs": [
    {
     "output_type": "execute_result",
     "data": {
      "text/plain": "  paredao          nome  positivos_individual_pct  neutros_individual_pct  \\\n8       7   victor_hugo                 -0.489664                0.462487   \n7       7  manu_gavassi                  1.372279                0.261504   \n6       7          babu                  1.086410               -0.805217   \n\n   negativos_individual_pct  positivos_global_pct  neutros_global_pct  \\\n8                  0.142213             -1.320905           -0.455266   \n7                 -1.213874              0.165291           -0.054596   \n6                 -0.431152              0.904525            0.283412   \n\n   negativos_global_pct      day1  seguidores      fica      fora  rejeicao  \\\n8             -0.256007 -0.570611   -0.524663 -0.438190 -0.396869    0.8522   \n7             -0.476042 -0.623496    3.348856 -0.123991 -0.507434    0.1018   \n6              0.544082 -0.268512   -0.245379 -0.165189 -0.518982    0.0460   \n\n   predicao  \n8  0.335887  \n7  0.244785  \n6  0.180739  ",
      "text/html": "<div>\n<style scoped>\n    .dataframe tbody tr th:only-of-type {\n        vertical-align: middle;\n    }\n\n    .dataframe tbody tr th {\n        vertical-align: top;\n    }\n\n    .dataframe thead th {\n        text-align: right;\n    }\n</style>\n<table border=\"1\" class=\"dataframe\">\n  <thead>\n    <tr style=\"text-align: right;\">\n      <th></th>\n      <th>paredao</th>\n      <th>nome</th>\n      <th>positivos_individual_pct</th>\n      <th>neutros_individual_pct</th>\n      <th>negativos_individual_pct</th>\n      <th>positivos_global_pct</th>\n      <th>neutros_global_pct</th>\n      <th>negativos_global_pct</th>\n      <th>day1</th>\n      <th>seguidores</th>\n      <th>fica</th>\n      <th>fora</th>\n      <th>rejeicao</th>\n      <th>predicao</th>\n    </tr>\n  </thead>\n  <tbody>\n    <tr>\n      <th>8</th>\n      <td>7</td>\n      <td>victor_hugo</td>\n      <td>-0.489664</td>\n      <td>0.462487</td>\n      <td>0.142213</td>\n      <td>-1.320905</td>\n      <td>-0.455266</td>\n      <td>-0.256007</td>\n      <td>-0.570611</td>\n      <td>-0.524663</td>\n      <td>-0.438190</td>\n      <td>-0.396869</td>\n      <td>0.8522</td>\n      <td>0.335887</td>\n    </tr>\n    <tr>\n      <th>7</th>\n      <td>7</td>\n      <td>manu_gavassi</td>\n      <td>1.372279</td>\n      <td>0.261504</td>\n      <td>-1.213874</td>\n      <td>0.165291</td>\n      <td>-0.054596</td>\n      <td>-0.476042</td>\n      <td>-0.623496</td>\n      <td>3.348856</td>\n      <td>-0.123991</td>\n      <td>-0.507434</td>\n      <td>0.1018</td>\n      <td>0.244785</td>\n    </tr>\n    <tr>\n      <th>6</th>\n      <td>7</td>\n      <td>babu</td>\n      <td>1.086410</td>\n      <td>-0.805217</td>\n      <td>-0.431152</td>\n      <td>0.904525</td>\n      <td>0.283412</td>\n      <td>0.544082</td>\n      <td>-0.268512</td>\n      <td>-0.245379</td>\n      <td>-0.165189</td>\n      <td>-0.518982</td>\n      <td>0.0460</td>\n      <td>0.180739</td>\n    </tr>\n  </tbody>\n</table>\n</div>"
     },
     "metadata": {},
     "execution_count": 45
    }
   ],
   "source": [
    "test_df.sort_values(by=\"predicao\", ascending=False)"
   ]
  },
  {
   "cell_type": "markdown",
   "metadata": {},
   "source": [
    "# Paredao 8"
   ]
  },
  {
   "cell_type": "code",
   "execution_count": 46,
   "metadata": {},
   "outputs": [
    {
     "output_type": "execute_result",
     "data": {
      "text/plain": "   paredao   nome  positivos_individual_pct  neutros_individual_pct  \\\n17       8   babu                 -0.022954               -0.870930   \n18       8   rafa                 -0.778607               -1.524441   \n19       8  pyong                 -0.404069                0.119933   \n\n    negativos_individual_pct  positivos_global_pct  neutros_global_pct  \\\n17                  0.473895              0.180618           -0.213141   \n18                  1.409021             -1.093434           -0.996091   \n19                  0.254343              0.661727            0.982782   \n\n    negativos_global_pct      day1  seguidores      fica      fora  rejeicao  \n17             -0.143736  0.360970   -0.245379  0.396727  0.524236  0.466566  \n18             -0.395749  0.233296   -0.274006  0.083766 -0.506625 -1.183618  \n19              0.351518  1.197860    0.747726  0.062194  0.957593  0.606299  ",
      "text/html": "<div>\n<style scoped>\n    .dataframe tbody tr th:only-of-type {\n        vertical-align: middle;\n    }\n\n    .dataframe tbody tr th {\n        vertical-align: top;\n    }\n\n    .dataframe thead th {\n        text-align: right;\n    }\n</style>\n<table border=\"1\" class=\"dataframe\">\n  <thead>\n    <tr style=\"text-align: right;\">\n      <th></th>\n      <th>paredao</th>\n      <th>nome</th>\n      <th>positivos_individual_pct</th>\n      <th>neutros_individual_pct</th>\n      <th>negativos_individual_pct</th>\n      <th>positivos_global_pct</th>\n      <th>neutros_global_pct</th>\n      <th>negativos_global_pct</th>\n      <th>day1</th>\n      <th>seguidores</th>\n      <th>fica</th>\n      <th>fora</th>\n      <th>rejeicao</th>\n    </tr>\n  </thead>\n  <tbody>\n    <tr>\n      <th>17</th>\n      <td>8</td>\n      <td>babu</td>\n      <td>-0.022954</td>\n      <td>-0.870930</td>\n      <td>0.473895</td>\n      <td>0.180618</td>\n      <td>-0.213141</td>\n      <td>-0.143736</td>\n      <td>0.360970</td>\n      <td>-0.245379</td>\n      <td>0.396727</td>\n      <td>0.524236</td>\n      <td>0.466566</td>\n    </tr>\n    <tr>\n      <th>18</th>\n      <td>8</td>\n      <td>rafa</td>\n      <td>-0.778607</td>\n      <td>-1.524441</td>\n      <td>1.409021</td>\n      <td>-1.093434</td>\n      <td>-0.996091</td>\n      <td>-0.395749</td>\n      <td>0.233296</td>\n      <td>-0.274006</td>\n      <td>0.083766</td>\n      <td>-0.506625</td>\n      <td>-1.183618</td>\n    </tr>\n    <tr>\n      <th>19</th>\n      <td>8</td>\n      <td>pyong</td>\n      <td>-0.404069</td>\n      <td>0.119933</td>\n      <td>0.254343</td>\n      <td>0.661727</td>\n      <td>0.982782</td>\n      <td>0.351518</td>\n      <td>1.197860</td>\n      <td>0.747726</td>\n      <td>0.062194</td>\n      <td>0.957593</td>\n      <td>0.606299</td>\n    </tr>\n  </tbody>\n</table>\n</div>"
     },
     "metadata": {},
     "execution_count": 46
    }
   ],
   "source": [
    "train_df, test_df, mean, std = get_train_test(8, normalize=NORMALIZE, drop_columns=REMOVE)\n",
    "test_df\n",
    ""
   ]
  },
  {
   "cell_type": "code",
   "execution_count": 47,
   "metadata": {},
   "outputs": [],
   "source": [
    "x_train, y_train = train_df.drop(columns=[\"paredao\", \"nome\", \"rejeicao\"], axis=1).to_numpy(), train_df.drop(columns=train_df.columns[:-1], axis=1).to_numpy()\n",
    "x_test, y_test = test_df.drop(columns=[\"paredao\", \"nome\", \"rejeicao\"], axis=1).to_numpy(), test_df.drop(columns=train_df.columns[:-1], axis=1).to_numpy()"
   ]
  },
  {
   "cell_type": "code",
   "execution_count": 48,
   "metadata": {},
   "outputs": [],
   "source": [
    "regressor = SVR(C=C, kernel=KERNEL)"
   ]
  },
  {
   "cell_type": "code",
   "execution_count": 49,
   "metadata": {},
   "outputs": [],
   "source": [
    "_ = regressor.fit(x_train, y_train)\n",
    "prediction = regressor.predict(x_test)\n",
    "test_df[\"predicao\"] = prediction * std + mean\n",
    "test_df[\"rejeicao\"] =  test_df[\"rejeicao\"] * std + mean\n",
    "summary_df = summary_df.append(test_df, ignore_index=True, sort=False)"
   ]
  },
  {
   "cell_type": "code",
   "execution_count": 50,
   "metadata": {},
   "outputs": [
    {
     "output_type": "execute_result",
     "data": {
      "text/plain": "   paredao   nome  positivos_individual_pct  neutros_individual_pct  \\\n19       8  pyong                 -0.404069                0.119933   \n17       8   babu                 -0.022954               -0.870930   \n18       8   rafa                 -0.778607               -1.524441   \n\n    negativos_individual_pct  positivos_global_pct  neutros_global_pct  \\\n19                  0.254343              0.661727            0.982782   \n17                  0.473895              0.180618           -0.213141   \n18                  1.409021             -1.093434           -0.996091   \n\n    negativos_global_pct      day1  seguidores      fica      fora  rejeicao  \\\n19              0.351518  1.197860    0.747726  0.062194  0.957593    0.5170   \n17             -0.143736  0.360970   -0.245379  0.396727  0.524236    0.4771   \n18             -0.395749  0.233296   -0.274006  0.083766 -0.506625    0.0059   \n\n    predicao  \n19  0.676166  \n17  0.226514  \n18  0.123992  ",
      "text/html": "<div>\n<style scoped>\n    .dataframe tbody tr th:only-of-type {\n        vertical-align: middle;\n    }\n\n    .dataframe tbody tr th {\n        vertical-align: top;\n    }\n\n    .dataframe thead th {\n        text-align: right;\n    }\n</style>\n<table border=\"1\" class=\"dataframe\">\n  <thead>\n    <tr style=\"text-align: right;\">\n      <th></th>\n      <th>paredao</th>\n      <th>nome</th>\n      <th>positivos_individual_pct</th>\n      <th>neutros_individual_pct</th>\n      <th>negativos_individual_pct</th>\n      <th>positivos_global_pct</th>\n      <th>neutros_global_pct</th>\n      <th>negativos_global_pct</th>\n      <th>day1</th>\n      <th>seguidores</th>\n      <th>fica</th>\n      <th>fora</th>\n      <th>rejeicao</th>\n      <th>predicao</th>\n    </tr>\n  </thead>\n  <tbody>\n    <tr>\n      <th>19</th>\n      <td>8</td>\n      <td>pyong</td>\n      <td>-0.404069</td>\n      <td>0.119933</td>\n      <td>0.254343</td>\n      <td>0.661727</td>\n      <td>0.982782</td>\n      <td>0.351518</td>\n      <td>1.197860</td>\n      <td>0.747726</td>\n      <td>0.062194</td>\n      <td>0.957593</td>\n      <td>0.5170</td>\n      <td>0.676166</td>\n    </tr>\n    <tr>\n      <th>17</th>\n      <td>8</td>\n      <td>babu</td>\n      <td>-0.022954</td>\n      <td>-0.870930</td>\n      <td>0.473895</td>\n      <td>0.180618</td>\n      <td>-0.213141</td>\n      <td>-0.143736</td>\n      <td>0.360970</td>\n      <td>-0.245379</td>\n      <td>0.396727</td>\n      <td>0.524236</td>\n      <td>0.4771</td>\n      <td>0.226514</td>\n    </tr>\n    <tr>\n      <th>18</th>\n      <td>8</td>\n      <td>rafa</td>\n      <td>-0.778607</td>\n      <td>-1.524441</td>\n      <td>1.409021</td>\n      <td>-1.093434</td>\n      <td>-0.996091</td>\n      <td>-0.395749</td>\n      <td>0.233296</td>\n      <td>-0.274006</td>\n      <td>0.083766</td>\n      <td>-0.506625</td>\n      <td>0.0059</td>\n      <td>0.123992</td>\n    </tr>\n  </tbody>\n</table>\n</div>"
     },
     "metadata": {},
     "execution_count": 50
    }
   ],
   "source": [
    "test_df.sort_values(by=\"predicao\", ascending=False)"
   ]
  },
  {
   "cell_type": "markdown",
   "metadata": {},
   "source": [
    "# Paredão 9"
   ]
  },
  {
   "cell_type": "code",
   "execution_count": 51,
   "metadata": {},
   "outputs": [
    {
     "output_type": "execute_result",
     "data": {
      "text/plain": "   paredao       nome  positivos_individual_pct  neutros_individual_pct  \\\n14       9     daniel                 -0.415967                0.289477   \n15       9  flayslene                  0.347739               -0.782390   \n16       9        ivy                 -0.161435                0.100925   \n\n    negativos_individual_pct  positivos_global_pct  neutros_global_pct  \\\n14                  0.174935              0.090996            0.533047   \n15                  0.136623              0.258158           -0.322562   \n16                  0.073869             -0.600243           -0.436934   \n\n    negativos_global_pct      day1  seguidores      fica      fora  rejeicao  \n14              0.323595  1.272211   -0.507169 -0.424398  0.527744  1.626107  \n15             -0.075742 -0.583566   -0.444062 -0.085976 -0.474572 -0.870181  \n16             -0.435820  0.719771   -0.484491 -0.433769 -0.365734 -0.866679  ",
      "text/html": "<div>\n<style scoped>\n    .dataframe tbody tr th:only-of-type {\n        vertical-align: middle;\n    }\n\n    .dataframe tbody tr th {\n        vertical-align: top;\n    }\n\n    .dataframe thead th {\n        text-align: right;\n    }\n</style>\n<table border=\"1\" class=\"dataframe\">\n  <thead>\n    <tr style=\"text-align: right;\">\n      <th></th>\n      <th>paredao</th>\n      <th>nome</th>\n      <th>positivos_individual_pct</th>\n      <th>neutros_individual_pct</th>\n      <th>negativos_individual_pct</th>\n      <th>positivos_global_pct</th>\n      <th>neutros_global_pct</th>\n      <th>negativos_global_pct</th>\n      <th>day1</th>\n      <th>seguidores</th>\n      <th>fica</th>\n      <th>fora</th>\n      <th>rejeicao</th>\n    </tr>\n  </thead>\n  <tbody>\n    <tr>\n      <th>14</th>\n      <td>9</td>\n      <td>daniel</td>\n      <td>-0.415967</td>\n      <td>0.289477</td>\n      <td>0.174935</td>\n      <td>0.090996</td>\n      <td>0.533047</td>\n      <td>0.323595</td>\n      <td>1.272211</td>\n      <td>-0.507169</td>\n      <td>-0.424398</td>\n      <td>0.527744</td>\n      <td>1.626107</td>\n    </tr>\n    <tr>\n      <th>15</th>\n      <td>9</td>\n      <td>flayslene</td>\n      <td>0.347739</td>\n      <td>-0.782390</td>\n      <td>0.136623</td>\n      <td>0.258158</td>\n      <td>-0.322562</td>\n      <td>-0.075742</td>\n      <td>-0.583566</td>\n      <td>-0.444062</td>\n      <td>-0.085976</td>\n      <td>-0.474572</td>\n      <td>-0.870181</td>\n    </tr>\n    <tr>\n      <th>16</th>\n      <td>9</td>\n      <td>ivy</td>\n      <td>-0.161435</td>\n      <td>0.100925</td>\n      <td>0.073869</td>\n      <td>-0.600243</td>\n      <td>-0.436934</td>\n      <td>-0.435820</td>\n      <td>0.719771</td>\n      <td>-0.484491</td>\n      <td>-0.433769</td>\n      <td>-0.365734</td>\n      <td>-0.866679</td>\n    </tr>\n  </tbody>\n</table>\n</div>"
     },
     "metadata": {},
     "execution_count": 51
    }
   ],
   "source": [
    "train_df, test_df, mean, std = get_train_test(9, normalize=NORMALIZE, drop_columns=REMOVE)\n",
    "test_df\n",
    ""
   ]
  },
  {
   "cell_type": "code",
   "execution_count": 52,
   "metadata": {},
   "outputs": [],
   "source": [
    "x_train, y_train = train_df.drop(columns=[\"paredao\", \"nome\", \"rejeicao\"], axis=1).to_numpy(), train_df.drop(columns=train_df.columns[:-1], axis=1).to_numpy()\n",
    "x_test, y_test = test_df.drop(columns=[\"paredao\", \"nome\", \"rejeicao\"], axis=1).to_numpy(), test_df.drop(columns=train_df.columns[:-1], axis=1).to_numpy()"
   ]
  },
  {
   "cell_type": "code",
   "execution_count": 53,
   "metadata": {},
   "outputs": [],
   "source": [
    "regressor = SVR(C=C, kernel=KERNEL)"
   ]
  },
  {
   "cell_type": "code",
   "execution_count": 54,
   "metadata": {},
   "outputs": [],
   "source": [
    "_ = regressor.fit(x_train, y_train)\n",
    "prediction = regressor.predict(x_test)\n",
    "test_df[\"predicao\"] = prediction * std + mean\n",
    "test_df[\"rejeicao\"] =  test_df[\"rejeicao\"] * std + mean\n",
    "summary_df = summary_df.append(test_df, ignore_index=True, sort=False)"
   ]
  },
  {
   "cell_type": "code",
   "execution_count": 55,
   "metadata": {},
   "outputs": [
    {
     "output_type": "execute_result",
     "data": {
      "text/plain": "   paredao       nome  positivos_individual_pct  neutros_individual_pct  \\\n14       9     daniel                 -0.415967                0.289477   \n16       9        ivy                 -0.161435                0.100925   \n15       9  flayslene                  0.347739               -0.782390   \n\n    negativos_individual_pct  positivos_global_pct  neutros_global_pct  \\\n14                  0.174935              0.090996            0.533047   \n16                  0.073869             -0.600243           -0.436934   \n15                  0.136623              0.258158           -0.322562   \n\n    negativos_global_pct      day1  seguidores      fica      fora  rejeicao  \\\n14              0.323595  1.272211   -0.507169 -0.424398  0.527744    0.8082   \n16             -0.435820  0.719771   -0.484491 -0.433769 -0.365734    0.0964   \n15             -0.075742 -0.583566   -0.444062 -0.085976 -0.474572    0.0954   \n\n    predicao  \n14  0.676112  \n16  0.430423  \n15  0.122032  ",
      "text/html": "<div>\n<style scoped>\n    .dataframe tbody tr th:only-of-type {\n        vertical-align: middle;\n    }\n\n    .dataframe tbody tr th {\n        vertical-align: top;\n    }\n\n    .dataframe thead th {\n        text-align: right;\n    }\n</style>\n<table border=\"1\" class=\"dataframe\">\n  <thead>\n    <tr style=\"text-align: right;\">\n      <th></th>\n      <th>paredao</th>\n      <th>nome</th>\n      <th>positivos_individual_pct</th>\n      <th>neutros_individual_pct</th>\n      <th>negativos_individual_pct</th>\n      <th>positivos_global_pct</th>\n      <th>neutros_global_pct</th>\n      <th>negativos_global_pct</th>\n      <th>day1</th>\n      <th>seguidores</th>\n      <th>fica</th>\n      <th>fora</th>\n      <th>rejeicao</th>\n      <th>predicao</th>\n    </tr>\n  </thead>\n  <tbody>\n    <tr>\n      <th>14</th>\n      <td>9</td>\n      <td>daniel</td>\n      <td>-0.415967</td>\n      <td>0.289477</td>\n      <td>0.174935</td>\n      <td>0.090996</td>\n      <td>0.533047</td>\n      <td>0.323595</td>\n      <td>1.272211</td>\n      <td>-0.507169</td>\n      <td>-0.424398</td>\n      <td>0.527744</td>\n      <td>0.8082</td>\n      <td>0.676112</td>\n    </tr>\n    <tr>\n      <th>16</th>\n      <td>9</td>\n      <td>ivy</td>\n      <td>-0.161435</td>\n      <td>0.100925</td>\n      <td>0.073869</td>\n      <td>-0.600243</td>\n      <td>-0.436934</td>\n      <td>-0.435820</td>\n      <td>0.719771</td>\n      <td>-0.484491</td>\n      <td>-0.433769</td>\n      <td>-0.365734</td>\n      <td>0.0964</td>\n      <td>0.430423</td>\n    </tr>\n    <tr>\n      <th>15</th>\n      <td>9</td>\n      <td>flayslene</td>\n      <td>0.347739</td>\n      <td>-0.782390</td>\n      <td>0.136623</td>\n      <td>0.258158</td>\n      <td>-0.322562</td>\n      <td>-0.075742</td>\n      <td>-0.583566</td>\n      <td>-0.444062</td>\n      <td>-0.085976</td>\n      <td>-0.474572</td>\n      <td>0.0954</td>\n      <td>0.122032</td>\n    </tr>\n  </tbody>\n</table>\n</div>"
     },
     "metadata": {},
     "execution_count": 55
    }
   ],
   "source": [
    "test_df.sort_values(by=\"predicao\", ascending=False)"
   ]
  },
  {
   "cell_type": "markdown",
   "metadata": {},
   "source": [
    "# Paredão 10"
   ]
  },
  {
   "cell_type": "code",
   "execution_count": 56,
   "metadata": {},
   "outputs": [
    {
     "output_type": "execute_result",
     "data": {
      "text/plain": "   paredao          nome  positivos_individual_pct  neutros_individual_pct  \\\n11      10  manu_gavassi                 -0.092823                2.299866   \n12      10          mari                  0.585417                0.214207   \n13      10  felipe_prior                 -1.106925                0.953104   \n\n    negativos_individual_pct  positivos_global_pct  neutros_global_pct  \\\n11                 -1.130995              1.735802            1.502096   \n12                 -0.571572             -1.540103           -1.793601   \n13                  0.369842             -0.446787            0.065055   \n\n    negativos_global_pct      day1  seguidores      fica      fora  rejeicao  \n11              0.511881  1.227212    3.760466  4.870303  1.640787  0.284457  \n12             -1.394431 -0.227832   -0.295329  0.080937 -0.352028 -1.177665  \n13              0.694583  2.169433    0.039823  1.770043  4.617625  0.782454  ",
      "text/html": "<div>\n<style scoped>\n    .dataframe tbody tr th:only-of-type {\n        vertical-align: middle;\n    }\n\n    .dataframe tbody tr th {\n        vertical-align: top;\n    }\n\n    .dataframe thead th {\n        text-align: right;\n    }\n</style>\n<table border=\"1\" class=\"dataframe\">\n  <thead>\n    <tr style=\"text-align: right;\">\n      <th></th>\n      <th>paredao</th>\n      <th>nome</th>\n      <th>positivos_individual_pct</th>\n      <th>neutros_individual_pct</th>\n      <th>negativos_individual_pct</th>\n      <th>positivos_global_pct</th>\n      <th>neutros_global_pct</th>\n      <th>negativos_global_pct</th>\n      <th>day1</th>\n      <th>seguidores</th>\n      <th>fica</th>\n      <th>fora</th>\n      <th>rejeicao</th>\n    </tr>\n  </thead>\n  <tbody>\n    <tr>\n      <th>11</th>\n      <td>10</td>\n      <td>manu_gavassi</td>\n      <td>-0.092823</td>\n      <td>2.299866</td>\n      <td>-1.130995</td>\n      <td>1.735802</td>\n      <td>1.502096</td>\n      <td>0.511881</td>\n      <td>1.227212</td>\n      <td>3.760466</td>\n      <td>4.870303</td>\n      <td>1.640787</td>\n      <td>0.284457</td>\n    </tr>\n    <tr>\n      <th>12</th>\n      <td>10</td>\n      <td>mari</td>\n      <td>0.585417</td>\n      <td>0.214207</td>\n      <td>-0.571572</td>\n      <td>-1.540103</td>\n      <td>-1.793601</td>\n      <td>-1.394431</td>\n      <td>-0.227832</td>\n      <td>-0.295329</td>\n      <td>0.080937</td>\n      <td>-0.352028</td>\n      <td>-1.177665</td>\n    </tr>\n    <tr>\n      <th>13</th>\n      <td>10</td>\n      <td>felipe_prior</td>\n      <td>-1.106925</td>\n      <td>0.953104</td>\n      <td>0.369842</td>\n      <td>-0.446787</td>\n      <td>0.065055</td>\n      <td>0.694583</td>\n      <td>2.169433</td>\n      <td>0.039823</td>\n      <td>1.770043</td>\n      <td>4.617625</td>\n      <td>0.782454</td>\n    </tr>\n  </tbody>\n</table>\n</div>"
     },
     "metadata": {},
     "execution_count": 56
    }
   ],
   "source": [
    "train_df, test_df, mean, std = get_train_test(10, normalize=NORMALIZE, drop_columns=REMOVE)\n",
    "test_df\n",
    ""
   ]
  },
  {
   "cell_type": "code",
   "execution_count": 57,
   "metadata": {},
   "outputs": [],
   "source": [
    "x_train, y_train = train_df.drop(columns=[\"paredao\", \"nome\", \"rejeicao\"], axis=1).to_numpy(), train_df.drop(columns=train_df.columns[:-1], axis=1).to_numpy()\n",
    "x_test, y_test = test_df.drop(columns=[\"paredao\", \"nome\", \"rejeicao\"], axis=1).to_numpy(), test_df.drop(columns=train_df.columns[:-1], axis=1).to_numpy()"
   ]
  },
  {
   "cell_type": "code",
   "execution_count": 58,
   "metadata": {},
   "outputs": [],
   "source": [
    "regressor = SVR(C=C, kernel=KERNEL)"
   ]
  },
  {
   "cell_type": "code",
   "execution_count": 59,
   "metadata": {},
   "outputs": [],
   "source": [
    "_ = regressor.fit(x_train, y_train)\n",
    "prediction = regressor.predict(x_test)\n",
    "test_df[\"predicao\"] = prediction * std + mean\n",
    "test_df[\"rejeicao\"] =  test_df[\"rejeicao\"] * std + mean\n",
    "summary_df = summary_df.append(test_df, ignore_index=True, sort=False)"
   ]
  },
  {
   "cell_type": "code",
   "execution_count": 60,
   "metadata": {},
   "outputs": [
    {
     "output_type": "execute_result",
     "data": {
      "text/plain": "   paredao          nome  positivos_individual_pct  neutros_individual_pct  \\\n13      10  felipe_prior                 -1.106925                0.953104   \n11      10  manu_gavassi                 -0.092823                2.299866   \n12      10          mari                  0.585417                0.214207   \n\n    negativos_individual_pct  positivos_global_pct  neutros_global_pct  \\\n13                  0.369842             -0.446787            0.065055   \n11                 -1.130995              1.735802            1.502096   \n12                 -0.571572             -1.540103           -1.793601   \n\n    negativos_global_pct      day1  seguidores      fica      fora  rejeicao  \\\n13              0.694583  2.169433    0.039823  1.770043  4.617625    0.5673   \n11              0.511881  1.227212    3.760466  4.870303  1.640787    0.4251   \n12             -1.394431 -0.227832   -0.295329  0.080937 -0.352028    0.0076   \n\n    predicao  \n13  1.536614  \n11  0.698361  \n12  0.021351  ",
      "text/html": "<div>\n<style scoped>\n    .dataframe tbody tr th:only-of-type {\n        vertical-align: middle;\n    }\n\n    .dataframe tbody tr th {\n        vertical-align: top;\n    }\n\n    .dataframe thead th {\n        text-align: right;\n    }\n</style>\n<table border=\"1\" class=\"dataframe\">\n  <thead>\n    <tr style=\"text-align: right;\">\n      <th></th>\n      <th>paredao</th>\n      <th>nome</th>\n      <th>positivos_individual_pct</th>\n      <th>neutros_individual_pct</th>\n      <th>negativos_individual_pct</th>\n      <th>positivos_global_pct</th>\n      <th>neutros_global_pct</th>\n      <th>negativos_global_pct</th>\n      <th>day1</th>\n      <th>seguidores</th>\n      <th>fica</th>\n      <th>fora</th>\n      <th>rejeicao</th>\n      <th>predicao</th>\n    </tr>\n  </thead>\n  <tbody>\n    <tr>\n      <th>13</th>\n      <td>10</td>\n      <td>felipe_prior</td>\n      <td>-1.106925</td>\n      <td>0.953104</td>\n      <td>0.369842</td>\n      <td>-0.446787</td>\n      <td>0.065055</td>\n      <td>0.694583</td>\n      <td>2.169433</td>\n      <td>0.039823</td>\n      <td>1.770043</td>\n      <td>4.617625</td>\n      <td>0.5673</td>\n      <td>1.536614</td>\n    </tr>\n    <tr>\n      <th>11</th>\n      <td>10</td>\n      <td>manu_gavassi</td>\n      <td>-0.092823</td>\n      <td>2.299866</td>\n      <td>-1.130995</td>\n      <td>1.735802</td>\n      <td>1.502096</td>\n      <td>0.511881</td>\n      <td>1.227212</td>\n      <td>3.760466</td>\n      <td>4.870303</td>\n      <td>1.640787</td>\n      <td>0.4251</td>\n      <td>0.698361</td>\n    </tr>\n    <tr>\n      <th>12</th>\n      <td>10</td>\n      <td>mari</td>\n      <td>0.585417</td>\n      <td>0.214207</td>\n      <td>-0.571572</td>\n      <td>-1.540103</td>\n      <td>-1.793601</td>\n      <td>-1.394431</td>\n      <td>-0.227832</td>\n      <td>-0.295329</td>\n      <td>0.080937</td>\n      <td>-0.352028</td>\n      <td>0.0076</td>\n      <td>0.021351</td>\n    </tr>\n  </tbody>\n</table>\n</div>"
     },
     "metadata": {},
     "execution_count": 60
    }
   ],
   "source": [
    "test_df.sort_values(by=\"predicao\", ascending=False)"
   ]
  },
  {
   "cell_type": "markdown",
   "metadata": {},
   "source": [
    "# Paredao 11"
   ]
  },
  {
   "cell_type": "code",
   "execution_count": 61,
   "metadata": {},
   "outputs": [
    {
     "output_type": "execute_result",
     "data": {
      "text/plain": "   paredao    nome  positivos_individual_pct  neutros_individual_pct  \\\n26      11    babu                  0.949291               -0.626115   \n27      11    gabi                  0.828629               -0.670701   \n28      11  thelma                  0.235224                0.372347   \n\n    negativos_individual_pct  positivos_global_pct  neutros_global_pct  \\\n26                 -0.417288              0.211517           -0.124059   \n27                 -0.299252             -0.333357           -0.515712   \n28                 -0.379510             -0.129249            0.413322   \n\n    negativos_global_pct      day1  seguidores      fica      fora  rejeicao  \n26             -0.018638  0.684661    0.036155  0.321050 -0.457899 -1.060345  \n27             -0.297216  0.504916   -0.324028 -0.313889  0.318971  0.883314  \n28              0.127887  0.242121   -0.191782  0.789785 -0.252741  0.066277  ",
      "text/html": "<div>\n<style scoped>\n    .dataframe tbody tr th:only-of-type {\n        vertical-align: middle;\n    }\n\n    .dataframe tbody tr th {\n        vertical-align: top;\n    }\n\n    .dataframe thead th {\n        text-align: right;\n    }\n</style>\n<table border=\"1\" class=\"dataframe\">\n  <thead>\n    <tr style=\"text-align: right;\">\n      <th></th>\n      <th>paredao</th>\n      <th>nome</th>\n      <th>positivos_individual_pct</th>\n      <th>neutros_individual_pct</th>\n      <th>negativos_individual_pct</th>\n      <th>positivos_global_pct</th>\n      <th>neutros_global_pct</th>\n      <th>negativos_global_pct</th>\n      <th>day1</th>\n      <th>seguidores</th>\n      <th>fica</th>\n      <th>fora</th>\n      <th>rejeicao</th>\n    </tr>\n  </thead>\n  <tbody>\n    <tr>\n      <th>26</th>\n      <td>11</td>\n      <td>babu</td>\n      <td>0.949291</td>\n      <td>-0.626115</td>\n      <td>-0.417288</td>\n      <td>0.211517</td>\n      <td>-0.124059</td>\n      <td>-0.018638</td>\n      <td>0.684661</td>\n      <td>0.036155</td>\n      <td>0.321050</td>\n      <td>-0.457899</td>\n      <td>-1.060345</td>\n    </tr>\n    <tr>\n      <th>27</th>\n      <td>11</td>\n      <td>gabi</td>\n      <td>0.828629</td>\n      <td>-0.670701</td>\n      <td>-0.299252</td>\n      <td>-0.333357</td>\n      <td>-0.515712</td>\n      <td>-0.297216</td>\n      <td>0.504916</td>\n      <td>-0.324028</td>\n      <td>-0.313889</td>\n      <td>0.318971</td>\n      <td>0.883314</td>\n    </tr>\n    <tr>\n      <th>28</th>\n      <td>11</td>\n      <td>thelma</td>\n      <td>0.235224</td>\n      <td>0.372347</td>\n      <td>-0.379510</td>\n      <td>-0.129249</td>\n      <td>0.413322</td>\n      <td>0.127887</td>\n      <td>0.242121</td>\n      <td>-0.191782</td>\n      <td>0.789785</td>\n      <td>-0.252741</td>\n      <td>0.066277</td>\n    </tr>\n  </tbody>\n</table>\n</div>"
     },
     "metadata": {},
     "execution_count": 61
    }
   ],
   "source": [
    "train_df, test_df, mean, std = get_train_test(11, normalize=NORMALIZE, drop_columns=REMOVE)\n",
    "test_df\n",
    ""
   ]
  },
  {
   "cell_type": "code",
   "execution_count": 62,
   "metadata": {},
   "outputs": [],
   "source": [
    "x_train, y_train = train_df.drop(columns=[\"paredao\", \"nome\", \"rejeicao\"], axis=1).to_numpy(), train_df.drop(columns=train_df.columns[:-1], axis=1).to_numpy()\n",
    "x_test, y_test = test_df.drop(columns=[\"paredao\", \"nome\", \"rejeicao\"], axis=1).to_numpy(), test_df.drop(columns=train_df.columns[:-1], axis=1).to_numpy()"
   ]
  },
  {
   "cell_type": "code",
   "execution_count": 63,
   "metadata": {},
   "outputs": [],
   "source": [
    "regressor = SVR(C=C, kernel=KERNEL)"
   ]
  },
  {
   "cell_type": "code",
   "execution_count": 64,
   "metadata": {},
   "outputs": [],
   "source": [
    "_ = regressor.fit(x_train, y_train)\n",
    "prediction = regressor.predict(x_test)\n",
    "test_df[\"predicao\"] = prediction * std + mean\n",
    "test_df[\"rejeicao\"] =  test_df[\"rejeicao\"] * std + mean\n",
    "summary_df = summary_df.append(test_df, ignore_index=True, sort=False)"
   ]
  },
  {
   "cell_type": "code",
   "execution_count": 65,
   "metadata": {},
   "outputs": [
    {
     "output_type": "execute_result",
     "data": {
      "text/plain": "   paredao    nome  positivos_individual_pct  neutros_individual_pct  \\\n28      11  thelma                  0.235224                0.372347   \n27      11    gabi                  0.828629               -0.670701   \n26      11    babu                  0.949291               -0.626115   \n\n    negativos_individual_pct  positivos_global_pct  neutros_global_pct  \\\n28                 -0.379510             -0.129249            0.413322   \n27                 -0.299252             -0.333357           -0.515712   \n26                 -0.417288              0.211517           -0.124059   \n\n    negativos_global_pct      day1  seguidores      fica      fora  rejeicao  \\\n28              0.127887  0.242121   -0.191782  0.789785 -0.252741    0.3628   \n27             -0.297216  0.504916   -0.324028 -0.313889  0.318971    0.5961   \n26             -0.018638  0.684661    0.036155  0.321050 -0.457899    0.0411   \n\n    predicao  \n28  0.362782  \n27  0.200974  \n26  0.186411  ",
      "text/html": "<div>\n<style scoped>\n    .dataframe tbody tr th:only-of-type {\n        vertical-align: middle;\n    }\n\n    .dataframe tbody tr th {\n        vertical-align: top;\n    }\n\n    .dataframe thead th {\n        text-align: right;\n    }\n</style>\n<table border=\"1\" class=\"dataframe\">\n  <thead>\n    <tr style=\"text-align: right;\">\n      <th></th>\n      <th>paredao</th>\n      <th>nome</th>\n      <th>positivos_individual_pct</th>\n      <th>neutros_individual_pct</th>\n      <th>negativos_individual_pct</th>\n      <th>positivos_global_pct</th>\n      <th>neutros_global_pct</th>\n      <th>negativos_global_pct</th>\n      <th>day1</th>\n      <th>seguidores</th>\n      <th>fica</th>\n      <th>fora</th>\n      <th>rejeicao</th>\n      <th>predicao</th>\n    </tr>\n  </thead>\n  <tbody>\n    <tr>\n      <th>28</th>\n      <td>11</td>\n      <td>thelma</td>\n      <td>0.235224</td>\n      <td>0.372347</td>\n      <td>-0.379510</td>\n      <td>-0.129249</td>\n      <td>0.413322</td>\n      <td>0.127887</td>\n      <td>0.242121</td>\n      <td>-0.191782</td>\n      <td>0.789785</td>\n      <td>-0.252741</td>\n      <td>0.3628</td>\n      <td>0.362782</td>\n    </tr>\n    <tr>\n      <th>27</th>\n      <td>11</td>\n      <td>gabi</td>\n      <td>0.828629</td>\n      <td>-0.670701</td>\n      <td>-0.299252</td>\n      <td>-0.333357</td>\n      <td>-0.515712</td>\n      <td>-0.297216</td>\n      <td>0.504916</td>\n      <td>-0.324028</td>\n      <td>-0.313889</td>\n      <td>0.318971</td>\n      <td>0.5961</td>\n      <td>0.200974</td>\n    </tr>\n    <tr>\n      <th>26</th>\n      <td>11</td>\n      <td>babu</td>\n      <td>0.949291</td>\n      <td>-0.626115</td>\n      <td>-0.417288</td>\n      <td>0.211517</td>\n      <td>-0.124059</td>\n      <td>-0.018638</td>\n      <td>0.684661</td>\n      <td>0.036155</td>\n      <td>0.321050</td>\n      <td>-0.457899</td>\n      <td>0.0411</td>\n      <td>0.186411</td>\n    </tr>\n  </tbody>\n</table>\n</div>"
     },
     "metadata": {},
     "execution_count": 65
    }
   ],
   "source": [
    "test_df.sort_values(by=\"predicao\", ascending=False)"
   ]
  },
  {
   "cell_type": "markdown",
   "metadata": {},
   "source": [
    "# Sumarizando"
   ]
  },
  {
   "cell_type": "code",
   "execution_count": 66,
   "metadata": {},
   "outputs": [
    {
     "output_type": "execute_result",
     "data": {
      "text/plain": "    positivos_global_pct      fica  neutros_individual_pct  \\\n0               1.119272 -0.344478                0.694588   \n1               1.391614 -0.435007                0.297313   \n2              -2.217411 -0.439427                1.253614   \n3              -0.216688 -0.435361                0.034264   \n4               0.082330 -0.394517               -0.433936   \n5              -0.661293 -0.442080               -0.589637   \n6               1.628578 -0.425813                0.652012   \n7               0.882308 -0.440665                2.084500   \n8              -0.262035 -0.422277               -0.845679   \n9              -1.724828 -0.437306                0.658502   \n10              1.735774 -0.407778               -0.969196   \n11              0.217874 -0.338820                1.760777   \n12             -1.142354 -0.396285               -0.194888   \n13              0.673392 -0.305226               -1.145978   \n14             -0.008121 -0.207978                0.103645   \n15             -0.683245 -0.403181               -1.761684   \n16              0.440277 -0.113205               -1.392274   \n17              0.904525 -0.165189               -0.805217   \n18              0.165291 -0.123991                0.261504   \n19             -1.320905 -0.438190                0.462487   \n20              0.180618  0.396727               -0.870930   \n21             -1.093434  0.083766               -1.524441   \n22              0.661727  0.062194                0.119933   \n23              0.090996 -0.424398                0.289477   \n24              0.258158 -0.085976               -0.782390   \n25             -0.600243 -0.433769                0.100925   \n26              1.735802  4.870303                2.299866   \n27             -1.540103  0.080937                0.214207   \n28             -0.446787  1.770043                0.953104   \n29              0.211517  0.321050               -0.626115   \n30             -0.333357 -0.313889               -0.670701   \n31             -0.129249  0.789785                0.372347   \n\n    neutros_global_pct  seguidores      day1      fora             nome  \\\n0            -0.126126   -0.167656 -1.094324 -0.527130   bianca_andrade   \n1             2.390624   -0.526805 -0.036008 -0.453420     lucas_chumbo   \n2            -2.095263   -0.245379 -1.109533 -0.522705             babu   \n3             0.748123   -0.517464  1.461031  0.022943           petrix   \n4            -1.295977    0.747726 -0.676380 -0.524270            pyong   \n5            -0.074282   -0.528428  0.120705 -0.298877           hadson   \n6             0.619924   -0.354340 -1.389163 -0.526213     felipe_prior   \n7             1.644574   -0.528428 -1.341286 -0.454175           hadson   \n8            -0.140402   -0.245379 -0.316891 -0.513316             babu   \n9            -1.499780   -0.524663 -1.031990 -0.499556      victor_hugo   \n10            1.413732   -0.516336  0.556299 -0.209141            lucas   \n11            0.204274   -0.167656 -1.335340 -0.426817   bianca_andrade   \n12           -1.097732   -0.444062 -1.339283 -0.375339        flayslene   \n13            0.667008   -0.354340 -1.266309 -0.148867     felipe_prior   \n14           -0.732017   -0.326546 -0.152104 -0.507272  gizelly_bicalho   \n15            0.008504   -0.444706  1.633704  0.936548        guilherme   \n16            0.497064    0.747726  0.978436  0.273536            pyong   \n17            0.283412   -0.245379 -0.268512 -0.518982             babu   \n18           -0.054596    3.348856 -0.623496 -0.507434     manu_gavassi   \n19           -0.455266   -0.524663 -0.570611 -0.396869      victor_hugo   \n20           -0.213141   -0.245379  0.360970  0.524236             babu   \n21           -0.996091   -0.274006  0.233296 -0.506625             rafa   \n22            0.982782    0.747726  1.197860  0.957593            pyong   \n23            0.533047   -0.507169  1.272211  0.527744           daniel   \n24           -0.322562   -0.444062 -0.583566 -0.474572        flayslene   \n25           -0.436934   -0.484491  0.719771 -0.365734              ivy   \n26            1.502096    3.760466  1.227212  1.640787     manu_gavassi   \n27           -1.793601   -0.295329 -0.227832 -0.352028             mari   \n28            0.065055    0.039823  2.169433  4.617625     felipe_prior   \n29           -0.124059    0.036155  0.684661 -0.457899             babu   \n30           -0.515712   -0.324028  0.504916  0.318971             gabi   \n31            0.413322   -0.191782  0.242121 -0.252741           thelma   \n\n    rejeicao  positivos_individual_pct paredao  negativos_global_pct  \\\n0     0.2446                  1.691474       1             -0.822482   \n1     0.7594                 -0.868480       1              2.702153   \n2     0.0044                  0.841864       2             -1.895266   \n3     0.8027                 -1.306109       2              0.754903   \n4     0.0066                  2.424619       2             -1.485532   \n5     0.1863                 -1.288287       2              0.370290   \n6     0.2029                  0.566176       3              0.750190   \n7     0.7971                 -0.448945       3              1.129482   \n8     0.0130                 -0.757918       4             -0.022919   \n9     0.3608                 -0.182145       4             -1.526085   \n10    0.6262                 -0.598789       4              1.361037   \n11    0.5309                 -0.258918       5             -0.793069   \n12    0.1764                 -0.820707       5             -0.901750   \n13    0.2927                 -1.310870       5              1.506852   \n14    0.0064                  2.043195       6             -1.425415   \n15    0.5607                 -1.229993       6              0.651485   \n16    0.4329                 -0.428713       6              0.585963   \n17    0.0460                  1.086410       7              0.544082   \n18    0.1018                  1.372279       7             -0.476042   \n19    0.8522                 -0.489664       7             -0.256007   \n20    0.4771                 -0.022954       8             -0.143736   \n21    0.0059                 -0.778607       8             -0.395749   \n22    0.5170                 -0.404069       8              0.351518   \n23    0.8082                 -0.415967       9              0.323595   \n24    0.0954                  0.347739       9             -0.075742   \n25    0.0964                 -0.161435       9             -0.435820   \n26    0.4251                 -0.092823      10              0.511881   \n27    0.0076                  0.585417      10             -1.394431   \n28    0.5673                 -1.106925      10              0.694583   \n29    0.0411                  0.949291      11             -0.018638   \n30    0.5961                  0.828629      11             -0.297216   \n31    0.3628                  0.235224      11              0.127887   \n\n    negativos_individual_pct  predicao  \n0                  -1.691078  0.119579  \n1                   0.525974  0.809518  \n2                  -1.316904  0.075445  \n3                   1.007125  0.848226  \n4                  -1.675749 -0.238383  \n5                   1.319713  0.497242  \n6                  -0.785636  0.374539  \n7                  -0.738772  0.769015  \n8                   1.037492  0.333347  \n9                  -0.201736  0.196850  \n10                  0.977258  0.596664  \n11                 -0.718459  0.571719  \n12                  0.746119  0.165969  \n13                  1.628649  0.279919  \n14                 -1.657792  0.142087  \n15                  1.887461  0.354022  \n16                  1.065236  0.307261  \n17                 -0.431152  0.180739  \n18                 -1.213874  0.244785  \n19                  0.142213  0.335887  \n20                  0.473895  0.226514  \n21                  1.409021  0.123992  \n22                  0.254343  0.676166  \n23                  0.174935  0.676112  \n24                  0.136623  0.122032  \n25                  0.073869  0.430423  \n26                 -1.130995  0.698361  \n27                 -0.571572  0.021351  \n28                  0.369842  1.536614  \n29                 -0.417288  0.186411  \n30                 -0.299252  0.200974  \n31                 -0.379510  0.362782  ",
      "text/html": "<div>\n<style scoped>\n    .dataframe tbody tr th:only-of-type {\n        vertical-align: middle;\n    }\n\n    .dataframe tbody tr th {\n        vertical-align: top;\n    }\n\n    .dataframe thead th {\n        text-align: right;\n    }\n</style>\n<table border=\"1\" class=\"dataframe\">\n  <thead>\n    <tr style=\"text-align: right;\">\n      <th></th>\n      <th>positivos_global_pct</th>\n      <th>fica</th>\n      <th>neutros_individual_pct</th>\n      <th>neutros_global_pct</th>\n      <th>seguidores</th>\n      <th>day1</th>\n      <th>fora</th>\n      <th>nome</th>\n      <th>rejeicao</th>\n      <th>positivos_individual_pct</th>\n      <th>paredao</th>\n      <th>negativos_global_pct</th>\n      <th>negativos_individual_pct</th>\n      <th>predicao</th>\n    </tr>\n  </thead>\n  <tbody>\n    <tr>\n      <th>0</th>\n      <td>1.119272</td>\n      <td>-0.344478</td>\n      <td>0.694588</td>\n      <td>-0.126126</td>\n      <td>-0.167656</td>\n      <td>-1.094324</td>\n      <td>-0.527130</td>\n      <td>bianca_andrade</td>\n      <td>0.2446</td>\n      <td>1.691474</td>\n      <td>1</td>\n      <td>-0.822482</td>\n      <td>-1.691078</td>\n      <td>0.119579</td>\n    </tr>\n    <tr>\n      <th>1</th>\n      <td>1.391614</td>\n      <td>-0.435007</td>\n      <td>0.297313</td>\n      <td>2.390624</td>\n      <td>-0.526805</td>\n      <td>-0.036008</td>\n      <td>-0.453420</td>\n      <td>lucas_chumbo</td>\n      <td>0.7594</td>\n      <td>-0.868480</td>\n      <td>1</td>\n      <td>2.702153</td>\n      <td>0.525974</td>\n      <td>0.809518</td>\n    </tr>\n    <tr>\n      <th>2</th>\n      <td>-2.217411</td>\n      <td>-0.439427</td>\n      <td>1.253614</td>\n      <td>-2.095263</td>\n      <td>-0.245379</td>\n      <td>-1.109533</td>\n      <td>-0.522705</td>\n      <td>babu</td>\n      <td>0.0044</td>\n      <td>0.841864</td>\n      <td>2</td>\n      <td>-1.895266</td>\n      <td>-1.316904</td>\n      <td>0.075445</td>\n    </tr>\n    <tr>\n      <th>3</th>\n      <td>-0.216688</td>\n      <td>-0.435361</td>\n      <td>0.034264</td>\n      <td>0.748123</td>\n      <td>-0.517464</td>\n      <td>1.461031</td>\n      <td>0.022943</td>\n      <td>petrix</td>\n      <td>0.8027</td>\n      <td>-1.306109</td>\n      <td>2</td>\n      <td>0.754903</td>\n      <td>1.007125</td>\n      <td>0.848226</td>\n    </tr>\n    <tr>\n      <th>4</th>\n      <td>0.082330</td>\n      <td>-0.394517</td>\n      <td>-0.433936</td>\n      <td>-1.295977</td>\n      <td>0.747726</td>\n      <td>-0.676380</td>\n      <td>-0.524270</td>\n      <td>pyong</td>\n      <td>0.0066</td>\n      <td>2.424619</td>\n      <td>2</td>\n      <td>-1.485532</td>\n      <td>-1.675749</td>\n      <td>-0.238383</td>\n    </tr>\n    <tr>\n      <th>5</th>\n      <td>-0.661293</td>\n      <td>-0.442080</td>\n      <td>-0.589637</td>\n      <td>-0.074282</td>\n      <td>-0.528428</td>\n      <td>0.120705</td>\n      <td>-0.298877</td>\n      <td>hadson</td>\n      <td>0.1863</td>\n      <td>-1.288287</td>\n      <td>2</td>\n      <td>0.370290</td>\n      <td>1.319713</td>\n      <td>0.497242</td>\n    </tr>\n    <tr>\n      <th>6</th>\n      <td>1.628578</td>\n      <td>-0.425813</td>\n      <td>0.652012</td>\n      <td>0.619924</td>\n      <td>-0.354340</td>\n      <td>-1.389163</td>\n      <td>-0.526213</td>\n      <td>felipe_prior</td>\n      <td>0.2029</td>\n      <td>0.566176</td>\n      <td>3</td>\n      <td>0.750190</td>\n      <td>-0.785636</td>\n      <td>0.374539</td>\n    </tr>\n    <tr>\n      <th>7</th>\n      <td>0.882308</td>\n      <td>-0.440665</td>\n      <td>2.084500</td>\n      <td>1.644574</td>\n      <td>-0.528428</td>\n      <td>-1.341286</td>\n      <td>-0.454175</td>\n      <td>hadson</td>\n      <td>0.7971</td>\n      <td>-0.448945</td>\n      <td>3</td>\n      <td>1.129482</td>\n      <td>-0.738772</td>\n      <td>0.769015</td>\n    </tr>\n    <tr>\n      <th>8</th>\n      <td>-0.262035</td>\n      <td>-0.422277</td>\n      <td>-0.845679</td>\n      <td>-0.140402</td>\n      <td>-0.245379</td>\n      <td>-0.316891</td>\n      <td>-0.513316</td>\n      <td>babu</td>\n      <td>0.0130</td>\n      <td>-0.757918</td>\n      <td>4</td>\n      <td>-0.022919</td>\n      <td>1.037492</td>\n      <td>0.333347</td>\n    </tr>\n    <tr>\n      <th>9</th>\n      <td>-1.724828</td>\n      <td>-0.437306</td>\n      <td>0.658502</td>\n      <td>-1.499780</td>\n      <td>-0.524663</td>\n      <td>-1.031990</td>\n      <td>-0.499556</td>\n      <td>victor_hugo</td>\n      <td>0.3608</td>\n      <td>-0.182145</td>\n      <td>4</td>\n      <td>-1.526085</td>\n      <td>-0.201736</td>\n      <td>0.196850</td>\n    </tr>\n    <tr>\n      <th>10</th>\n      <td>1.735774</td>\n      <td>-0.407778</td>\n      <td>-0.969196</td>\n      <td>1.413732</td>\n      <td>-0.516336</td>\n      <td>0.556299</td>\n      <td>-0.209141</td>\n      <td>lucas</td>\n      <td>0.6262</td>\n      <td>-0.598789</td>\n      <td>4</td>\n      <td>1.361037</td>\n      <td>0.977258</td>\n      <td>0.596664</td>\n    </tr>\n    <tr>\n      <th>11</th>\n      <td>0.217874</td>\n      <td>-0.338820</td>\n      <td>1.760777</td>\n      <td>0.204274</td>\n      <td>-0.167656</td>\n      <td>-1.335340</td>\n      <td>-0.426817</td>\n      <td>bianca_andrade</td>\n      <td>0.5309</td>\n      <td>-0.258918</td>\n      <td>5</td>\n      <td>-0.793069</td>\n      <td>-0.718459</td>\n      <td>0.571719</td>\n    </tr>\n    <tr>\n      <th>12</th>\n      <td>-1.142354</td>\n      <td>-0.396285</td>\n      <td>-0.194888</td>\n      <td>-1.097732</td>\n      <td>-0.444062</td>\n      <td>-1.339283</td>\n      <td>-0.375339</td>\n      <td>flayslene</td>\n      <td>0.1764</td>\n      <td>-0.820707</td>\n      <td>5</td>\n      <td>-0.901750</td>\n      <td>0.746119</td>\n      <td>0.165969</td>\n    </tr>\n    <tr>\n      <th>13</th>\n      <td>0.673392</td>\n      <td>-0.305226</td>\n      <td>-1.145978</td>\n      <td>0.667008</td>\n      <td>-0.354340</td>\n      <td>-1.266309</td>\n      <td>-0.148867</td>\n      <td>felipe_prior</td>\n      <td>0.2927</td>\n      <td>-1.310870</td>\n      <td>5</td>\n      <td>1.506852</td>\n      <td>1.628649</td>\n      <td>0.279919</td>\n    </tr>\n    <tr>\n      <th>14</th>\n      <td>-0.008121</td>\n      <td>-0.207978</td>\n      <td>0.103645</td>\n      <td>-0.732017</td>\n      <td>-0.326546</td>\n      <td>-0.152104</td>\n      <td>-0.507272</td>\n      <td>gizelly_bicalho</td>\n      <td>0.0064</td>\n      <td>2.043195</td>\n      <td>6</td>\n      <td>-1.425415</td>\n      <td>-1.657792</td>\n      <td>0.142087</td>\n    </tr>\n    <tr>\n      <th>15</th>\n      <td>-0.683245</td>\n      <td>-0.403181</td>\n      <td>-1.761684</td>\n      <td>0.008504</td>\n      <td>-0.444706</td>\n      <td>1.633704</td>\n      <td>0.936548</td>\n      <td>guilherme</td>\n      <td>0.5607</td>\n      <td>-1.229993</td>\n      <td>6</td>\n      <td>0.651485</td>\n      <td>1.887461</td>\n      <td>0.354022</td>\n    </tr>\n    <tr>\n      <th>16</th>\n      <td>0.440277</td>\n      <td>-0.113205</td>\n      <td>-1.392274</td>\n      <td>0.497064</td>\n      <td>0.747726</td>\n      <td>0.978436</td>\n      <td>0.273536</td>\n      <td>pyong</td>\n      <td>0.4329</td>\n      <td>-0.428713</td>\n      <td>6</td>\n      <td>0.585963</td>\n      <td>1.065236</td>\n      <td>0.307261</td>\n    </tr>\n    <tr>\n      <th>17</th>\n      <td>0.904525</td>\n      <td>-0.165189</td>\n      <td>-0.805217</td>\n      <td>0.283412</td>\n      <td>-0.245379</td>\n      <td>-0.268512</td>\n      <td>-0.518982</td>\n      <td>babu</td>\n      <td>0.0460</td>\n      <td>1.086410</td>\n      <td>7</td>\n      <td>0.544082</td>\n      <td>-0.431152</td>\n      <td>0.180739</td>\n    </tr>\n    <tr>\n      <th>18</th>\n      <td>0.165291</td>\n      <td>-0.123991</td>\n      <td>0.261504</td>\n      <td>-0.054596</td>\n      <td>3.348856</td>\n      <td>-0.623496</td>\n      <td>-0.507434</td>\n      <td>manu_gavassi</td>\n      <td>0.1018</td>\n      <td>1.372279</td>\n      <td>7</td>\n      <td>-0.476042</td>\n      <td>-1.213874</td>\n      <td>0.244785</td>\n    </tr>\n    <tr>\n      <th>19</th>\n      <td>-1.320905</td>\n      <td>-0.438190</td>\n      <td>0.462487</td>\n      <td>-0.455266</td>\n      <td>-0.524663</td>\n      <td>-0.570611</td>\n      <td>-0.396869</td>\n      <td>victor_hugo</td>\n      <td>0.8522</td>\n      <td>-0.489664</td>\n      <td>7</td>\n      <td>-0.256007</td>\n      <td>0.142213</td>\n      <td>0.335887</td>\n    </tr>\n    <tr>\n      <th>20</th>\n      <td>0.180618</td>\n      <td>0.396727</td>\n      <td>-0.870930</td>\n      <td>-0.213141</td>\n      <td>-0.245379</td>\n      <td>0.360970</td>\n      <td>0.524236</td>\n      <td>babu</td>\n      <td>0.4771</td>\n      <td>-0.022954</td>\n      <td>8</td>\n      <td>-0.143736</td>\n      <td>0.473895</td>\n      <td>0.226514</td>\n    </tr>\n    <tr>\n      <th>21</th>\n      <td>-1.093434</td>\n      <td>0.083766</td>\n      <td>-1.524441</td>\n      <td>-0.996091</td>\n      <td>-0.274006</td>\n      <td>0.233296</td>\n      <td>-0.506625</td>\n      <td>rafa</td>\n      <td>0.0059</td>\n      <td>-0.778607</td>\n      <td>8</td>\n      <td>-0.395749</td>\n      <td>1.409021</td>\n      <td>0.123992</td>\n    </tr>\n    <tr>\n      <th>22</th>\n      <td>0.661727</td>\n      <td>0.062194</td>\n      <td>0.119933</td>\n      <td>0.982782</td>\n      <td>0.747726</td>\n      <td>1.197860</td>\n      <td>0.957593</td>\n      <td>pyong</td>\n      <td>0.5170</td>\n      <td>-0.404069</td>\n      <td>8</td>\n      <td>0.351518</td>\n      <td>0.254343</td>\n      <td>0.676166</td>\n    </tr>\n    <tr>\n      <th>23</th>\n      <td>0.090996</td>\n      <td>-0.424398</td>\n      <td>0.289477</td>\n      <td>0.533047</td>\n      <td>-0.507169</td>\n      <td>1.272211</td>\n      <td>0.527744</td>\n      <td>daniel</td>\n      <td>0.8082</td>\n      <td>-0.415967</td>\n      <td>9</td>\n      <td>0.323595</td>\n      <td>0.174935</td>\n      <td>0.676112</td>\n    </tr>\n    <tr>\n      <th>24</th>\n      <td>0.258158</td>\n      <td>-0.085976</td>\n      <td>-0.782390</td>\n      <td>-0.322562</td>\n      <td>-0.444062</td>\n      <td>-0.583566</td>\n      <td>-0.474572</td>\n      <td>flayslene</td>\n      <td>0.0954</td>\n      <td>0.347739</td>\n      <td>9</td>\n      <td>-0.075742</td>\n      <td>0.136623</td>\n      <td>0.122032</td>\n    </tr>\n    <tr>\n      <th>25</th>\n      <td>-0.600243</td>\n      <td>-0.433769</td>\n      <td>0.100925</td>\n      <td>-0.436934</td>\n      <td>-0.484491</td>\n      <td>0.719771</td>\n      <td>-0.365734</td>\n      <td>ivy</td>\n      <td>0.0964</td>\n      <td>-0.161435</td>\n      <td>9</td>\n      <td>-0.435820</td>\n      <td>0.073869</td>\n      <td>0.430423</td>\n    </tr>\n    <tr>\n      <th>26</th>\n      <td>1.735802</td>\n      <td>4.870303</td>\n      <td>2.299866</td>\n      <td>1.502096</td>\n      <td>3.760466</td>\n      <td>1.227212</td>\n      <td>1.640787</td>\n      <td>manu_gavassi</td>\n      <td>0.4251</td>\n      <td>-0.092823</td>\n      <td>10</td>\n      <td>0.511881</td>\n      <td>-1.130995</td>\n      <td>0.698361</td>\n    </tr>\n    <tr>\n      <th>27</th>\n      <td>-1.540103</td>\n      <td>0.080937</td>\n      <td>0.214207</td>\n      <td>-1.793601</td>\n      <td>-0.295329</td>\n      <td>-0.227832</td>\n      <td>-0.352028</td>\n      <td>mari</td>\n      <td>0.0076</td>\n      <td>0.585417</td>\n      <td>10</td>\n      <td>-1.394431</td>\n      <td>-0.571572</td>\n      <td>0.021351</td>\n    </tr>\n    <tr>\n      <th>28</th>\n      <td>-0.446787</td>\n      <td>1.770043</td>\n      <td>0.953104</td>\n      <td>0.065055</td>\n      <td>0.039823</td>\n      <td>2.169433</td>\n      <td>4.617625</td>\n      <td>felipe_prior</td>\n      <td>0.5673</td>\n      <td>-1.106925</td>\n      <td>10</td>\n      <td>0.694583</td>\n      <td>0.369842</td>\n      <td>1.536614</td>\n    </tr>\n    <tr>\n      <th>29</th>\n      <td>0.211517</td>\n      <td>0.321050</td>\n      <td>-0.626115</td>\n      <td>-0.124059</td>\n      <td>0.036155</td>\n      <td>0.684661</td>\n      <td>-0.457899</td>\n      <td>babu</td>\n      <td>0.0411</td>\n      <td>0.949291</td>\n      <td>11</td>\n      <td>-0.018638</td>\n      <td>-0.417288</td>\n      <td>0.186411</td>\n    </tr>\n    <tr>\n      <th>30</th>\n      <td>-0.333357</td>\n      <td>-0.313889</td>\n      <td>-0.670701</td>\n      <td>-0.515712</td>\n      <td>-0.324028</td>\n      <td>0.504916</td>\n      <td>0.318971</td>\n      <td>gabi</td>\n      <td>0.5961</td>\n      <td>0.828629</td>\n      <td>11</td>\n      <td>-0.297216</td>\n      <td>-0.299252</td>\n      <td>0.200974</td>\n    </tr>\n    <tr>\n      <th>31</th>\n      <td>-0.129249</td>\n      <td>0.789785</td>\n      <td>0.372347</td>\n      <td>0.413322</td>\n      <td>-0.191782</td>\n      <td>0.242121</td>\n      <td>-0.252741</td>\n      <td>thelma</td>\n      <td>0.3628</td>\n      <td>0.235224</td>\n      <td>11</td>\n      <td>0.127887</td>\n      <td>-0.379510</td>\n      <td>0.362782</td>\n    </tr>\n  </tbody>\n</table>\n</div>"
     },
     "metadata": {},
     "execution_count": 66
    }
   ],
   "source": [
    "summary_df"
   ]
  },
  {
   "cell_type": "code",
   "execution_count": null,
   "metadata": {},
   "outputs": [],
   "source": []
  }
 ]
}