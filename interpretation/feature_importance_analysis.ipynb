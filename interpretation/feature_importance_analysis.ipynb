{
 "cells": [
  {
   "cell_type": "code",
   "execution_count": 1,
   "metadata": {},
   "outputs": [],
   "source": [
    "import sys\n",
    "sys.path.append('../model_analysis')\n",
    "from model_utils import *\n",
    "from run_grid_search import load_json\n",
    "import pandas as pd \n",
    "import numpy as np \n",
    "import os\n",
    "from typing import Tuple\n",
    "from tqdm import tqdm\n",
    "import seaborn as sns\n",
    "from sklearn.model_selection import cross_val_score, train_test_split\n",
    "from sklearn.metrics import r2_score\n",
    "sns.set(rc={\"figure.figsize\": (20, 10)})"
   ]
  },
  {
   "cell_type": "code",
   "execution_count": 2,
   "metadata": {},
   "outputs": [],
   "source": [
    "FEATURES = COLUMNS\n",
    "IGNORE = [\"knn\", \"svr\", \"ensamble2\", \"ensamble3\"]"
   ]
  },
  {
   "cell_type": "code",
   "execution_count": 3,
   "metadata": {},
   "outputs": [],
   "source": [
    "def df_to_train_data(df: pd.DataFrame) -> Tuple[np.array, np.array]:\n",
    "    return df.drop(columns=[\"paredao\", \"nome\", \"rejeicao\"], axis=1).to_numpy(), df.drop(columns=df.columns[:-1], axis=1)\n",
    "\n",
    "def run_evaluation() -> pd.DataFrame:\n",
    "\n",
    "    model_infos_df = pd.DataFrame()\n",
    "\n",
    "    for model_name in MODELS.keys():\n",
    "        if model_name in IGNORE: continue\n",
    "\n",
    "        model = MODELS[model_name]\n",
    "        norm = NORMALIZE[model_name]\n",
    "        params = PARAMETERS[model_name]\n",
    "        feat = FEATURES\n",
    "\n",
    "        reg = model(**params)\n",
    "\n",
    "        data_df = get_data(feat, normalize=norm)\n",
    "        cols = data_df.columns\n",
    "        X, y = df_to_train_data(data_df)\n",
    "        y = np.ravel(y)\n",
    "        \n",
    "        X_train, X_test, y_train, y_test = train_test_split(X, y, test_size=0.3, random_state=42)\n",
    "        reg.fit(X_train, y_train)\n",
    "        r2 = r2_score(y_test, reg.predict(X_test))\n",
    "\n",
    "        importances = reg.coef_ if model_name not in [\"random_forest\", \"ada_boost\"] else reg.feature_importances_.reshape(-1,)\n",
    "        index = importances.argmax() \n",
    "        print(index, model_name)\n",
    "        most_important = cols[index]\n",
    "\n",
    "        model_infos_df = model_infos_df.append({\n",
    "                \"model\": model_name,\n",
    "                \"r2\": r2,\n",
    "                \"most_important_feature\": most_important\n",
    "            },\n",
    "            ignore_index=True\n",
    "        )\n",
    "    return model_infos_df"
   ]
  },
  {
   "cell_type": "code",
   "execution_count": 4,
   "metadata": {},
   "outputs": [
    {
     "output_type": "stream",
     "name": "stdout",
     "text": "13 linear_regression\n16 ada_boost\n16 random_forest\n8 lasso\n7 ridge\n8 elastic_net\n8 sgd\n"
    }
   ],
   "source": [
    "infos = run_evaluation()"
   ]
  },
  {
   "cell_type": "code",
   "execution_count": 5,
   "metadata": {},
   "outputs": [
    {
     "output_type": "execute_result",
     "data": {
      "text/plain": "               model most_important_feature        r2\n0  linear_regression               retweets  0.291353\n1          ada_boost                   fora  0.482884\n2      random_forest                   fora  0.630162\n3              lasso   negativos_global_pct  0.138790\n4              ridge     neutros_global_pct  0.351417\n5        elastic_net   negativos_global_pct  0.127405\n6                sgd   negativos_global_pct  0.272415",
      "text/html": "<div>\n<style scoped>\n    .dataframe tbody tr th:only-of-type {\n        vertical-align: middle;\n    }\n\n    .dataframe tbody tr th {\n        vertical-align: top;\n    }\n\n    .dataframe thead th {\n        text-align: right;\n    }\n</style>\n<table border=\"1\" class=\"dataframe\">\n  <thead>\n    <tr style=\"text-align: right;\">\n      <th></th>\n      <th>model</th>\n      <th>most_important_feature</th>\n      <th>r2</th>\n    </tr>\n  </thead>\n  <tbody>\n    <tr>\n      <th>0</th>\n      <td>linear_regression</td>\n      <td>retweets</td>\n      <td>0.291353</td>\n    </tr>\n    <tr>\n      <th>1</th>\n      <td>ada_boost</td>\n      <td>fora</td>\n      <td>0.482884</td>\n    </tr>\n    <tr>\n      <th>2</th>\n      <td>random_forest</td>\n      <td>fora</td>\n      <td>0.630162</td>\n    </tr>\n    <tr>\n      <th>3</th>\n      <td>lasso</td>\n      <td>negativos_global_pct</td>\n      <td>0.138790</td>\n    </tr>\n    <tr>\n      <th>4</th>\n      <td>ridge</td>\n      <td>neutros_global_pct</td>\n      <td>0.351417</td>\n    </tr>\n    <tr>\n      <th>5</th>\n      <td>elastic_net</td>\n      <td>negativos_global_pct</td>\n      <td>0.127405</td>\n    </tr>\n    <tr>\n      <th>6</th>\n      <td>sgd</td>\n      <td>negativos_global_pct</td>\n      <td>0.272415</td>\n    </tr>\n  </tbody>\n</table>\n</div>"
     },
     "metadata": {},
     "execution_count": 5
    }
   ],
   "source": [
    "infos"
   ]
  },
  {
   "cell_type": "code",
   "execution_count": null,
   "metadata": {},
   "outputs": [],
   "source": []
  }
 ],
 "metadata": {
  "language_info": {
   "codemirror_mode": {
    "name": "ipython",
    "version": 3
   },
   "file_extension": ".py",
   "mimetype": "text/x-python",
   "name": "python",
   "nbconvert_exporter": "python",
   "pygments_lexer": "ipython3",
   "version": "3.6.9-final"
  },
  "orig_nbformat": 2,
  "kernelspec": {
   "name": "python36964bitbertvirtualenv054cbb15ab924922a35a349b12e89805",
   "display_name": "Python 3.6.9 64-bit ('bert': virtualenv)"
  }
 },
 "nbformat": 4,
 "nbformat_minor": 2
}